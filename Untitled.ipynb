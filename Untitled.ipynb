{
 "cells": [
  {
   "cell_type": "code",
   "execution_count": 1,
   "id": "6c2428be-074e-4046-8013-60dd23acfddb",
   "metadata": {},
   "outputs": [],
   "source": [
    "import cfp\n",
    "import scanpy as sc\n",
    "import numpy as np\n",
    "import optax\n",
    "from omegaconf import DictConfig, OmegaConf\n",
    "from functools import partial\n",
    "from cfp.training import Metrics, PCADecoder, PCADecodedMetrics\n",
    "from cfp.training._callbacks import WandbLogger\n",
    "from ott.solvers import utils as solver_utils\n",
    "\n"
   ]
  },
  {
   "cell_type": "code",
   "execution_count": 2,
   "id": "0b973ee2-6405-4f57-bf15-eb22972fe16c",
   "metadata": {},
   "outputs": [],
   "source": [
    "# @hydra.main(config_path=\"conf\", config_name=\"train_satija\")\n",
    "# def run(cfg: DictConfig):\n",
    "dataset_path = {\n",
    "    \"train\": '/lustre/groups/ml01/workspace/ot_perturbation/data/satija/datasets/ood_cell_type/IFNG_ct-BXPC3_hvg-2000_pca-30_norm/adata_train_IFNG_BXPC3_embs.h5ad',\n",
    "    \"test\": '/lustre/groups/ml01/workspace/ot_perturbation/data/satija/datasets/ood_cell_type/IFNG_ct-BXPC3_hvg-2000_pca-30_norm/adata_test_IFNG_BXPC3_embs.h5ad',\n",
    "    \"ood\": '/lustre/groups/ml01/workspace/ot_perturbation/data/satija/datasets/ood_cell_type/IFNG_ct-BXPC3_hvg-2000_pca-30_norm/adata_ood_IFNG_BXPC3_embs.h5ad'\n",
    "}\n",
    "\n",
    "adata_train = sc.read_h5ad(dataset_path[\"train\"])\n",
    "adata_test = sc.read_h5ad(dataset_path[\"test\"])\n",
    "adata_ood = sc.read_h5ad(dataset_path[\"ood\"])"
   ]
  },
  {
   "cell_type": "code",
   "execution_count": 3,
   "id": "5bde91a4-fc5b-45a0-baac-a659079f4c41",
   "metadata": {},
   "outputs": [],
   "source": [
    "# Prepare model\n",
    "model_config = {\n",
    "    \"hidden_dims\": (1024, 1024, 1024),\n",
    "    \"decoder_dims\": (2048, 2048, 2048),\n",
    "    \"condition_embedding_dim\": 4096,\n",
    "    \"time_encoder_dims\": (512, 512, 512),\n",
    "    \"flow\": {\"constant_noise\": 1.0},\n",
    "    \"hidden_dropout\": 0.0,\n",
    "    \"decoder_dropout\": 0.0,\n",
    "    \"layers_after_pool\": ({\"layer_type\": \"mlp\", \"dims\": (4096, 4096)},),\n",
    "    \"match_kwargs\": {\"epsilon\": 0.01, \"tau_a\": 1.0, \"tau_b\": 0.999},\n",
    "    #\"covariates_not_pooled\": ['cell_type', 'pathway', 'gene'],\n",
    "}\n",
    "\n",
    "train_config = {\n",
    "    \"learning_rate\": 5.0e-05,\n",
    "    \"batch_size\": 1024,\n",
    "    \"multi_steps\": 50,\n",
    "    \"num_iterations\": 1000000,\n",
    "    \"valid_freq\": 1000,\n",
    "    \"n_test_samples\": 2,\n",
    "    \"n_ood_samples\": 2,\n",
    "    \"save_model\": True,\n",
    "}\n",
    "optimizer = optax.MultiSteps(optax.adam(learning_rate=train_config[\"learning_rate\"]), train_config[\"multi_steps\"])\n",
    "\n",
    "match_fn = partial(solver_utils.match_linear, **model_config[\"match_kwargs\"])"
   ]
  },
  {
   "cell_type": "code",
   "execution_count": 4,
   "id": "69145ffe-989f-4c52-a308-38cef2fccb84",
   "metadata": {},
   "outputs": [],
   "source": [
    "# Initiate the model (only otfm works for now)\n",
    "cf = cfp.model.CellFlow(adata_train, solver='otfm')"
   ]
  },
  {
   "cell_type": "code",
   "execution_count": 5,
   "id": "16dff64c-69fe-431b-9dd4-04466bc347f1",
   "metadata": {},
   "outputs": [
    {
     "name": "stderr",
     "output_type": "stream",
     "text": [
      "/ictstr01/home/icb/dominik.klein/git_repos/cell_flow_perturbation/src/cfp/data/_datamanager.py:319: SettingWithCopyWarning: \n",
      "A value is trying to be set on a copy of a slice from a DataFrame.\n",
      "Try using .loc[row_indexer,col_indexer] = value instead\n",
      "\n",
      "See the caveats in the documentation: https://pandas.pydata.org/pandas-docs/stable/user_guide/indexing.html#returning-a-view-versus-a-copy\n",
      "  _covariate_data[\"cell_index\"] = _covariate_data.index\n",
      "2024-08-23 10:18:05.538967: W external/xla/xla/service/gpu/nvptx_compiler.cc:836] The NVIDIA driver's CUDA version is 12.3 which is older than the PTX compiler version (12.6.20). Because the driver is older than the PTX compiler version, XLA is disabling parallel compilation, which may slow down compilation. You should update your NVIDIA driver or use the NVIDIA-provided CUDA forward compatibility packages.\n",
      "100%|██████████| 219/219 [00:01<00:00, 115.75it/s]\n",
      "100%|██████████| 219/219 [00:01<00:00, 181.96it/s]\n",
      "100%|██████████| 219/219 [00:01<00:00, 189.06it/s]\n",
      "100%|██████████| 219/219 [00:01<00:00, 181.80it/s]\n",
      "100%|██████████| 219/219 [00:01<00:00, 179.97it/s]\n",
      "100%|██████████| 219/219 [00:01<00:00, 122.02it/s]\n"
     ]
    }
   ],
   "source": [
    "# Prepare training data\n",
    "cf.prepare_data(\n",
    "    sample_rep=\"X_pca\",  # this is the location of the cell data, can also be \"X\"\n",
    "    control_key=\"control\",  # Column to distinguish controls. could wither be a tuple with the column key and the control name or just the name of a boolian column\n",
    "    sample_covariates=[\n",
    "        'pathway',\n",
    "        'cell_type'\n",
    "    ],  # split the data based on the covariates in obs, such as \"cell_type\"\n",
    "    sample_covariate_reps={\n",
    "        \"cell_type\": \"cell_type_emb\",\n",
    "        \"pathway\": \"pathway_emb\",\n",
    "    },  \n",
    "    perturbation_covariates={'gene': ('gene',)},\n",
    "    perturbation_covariate_reps={\n",
    "        \"gene\": \"gene_emb\",\n",
    "    }, \n",
    "    split_covariates=[\"cell_type\"],\n",
    ")\n"
   ]
  },
  {
   "cell_type": "code",
   "execution_count": 31,
   "id": "c354baae-a1a9-41f0-abb2-8ee477dbe6e6",
   "metadata": {},
   "outputs": [
    {
     "name": "stderr",
     "output_type": "stream",
     "text": [
      "/ictstr01/home/icb/dominik.klein/git_repos/cell_flow_perturbation/src/cfp/data/_datamanager.py:319: SettingWithCopyWarning: \n",
      "A value is trying to be set on a copy of a slice from a DataFrame.\n",
      "Try using .loc[row_indexer,col_indexer] = value instead\n",
      "\n",
      "See the caveats in the documentation: https://pandas.pydata.org/pandas-docs/stable/user_guide/indexing.html#returning-a-view-versus-a-copy\n",
      "  _covariate_data[\"cell_index\"] = _covariate_data.index\n",
      "100%|██████████| 219/219 [00:00<00:00, 478.37it/s]\n",
      "100%|██████████| 219/219 [00:00<00:00, 572.25it/s]\n",
      "100%|██████████| 219/219 [00:00<00:00, 500.64it/s]\n",
      "100%|██████████| 219/219 [00:00<00:00, 469.61it/s]\n",
      "100%|██████████| 219/219 [00:00<00:00, 481.66it/s]\n",
      "100%|██████████| 219/219 [00:00<00:00, 477.81it/s]\n"
     ]
    }
   ],
   "source": [
    "cf.prepare_validation_data(\n",
    "    adata_test,\n",
    "    name=\"test\",\n",
    "    n_conditions_on_log_iteration=2,\n",
    "    n_conditions_on_train_end=2\n",
    ")"
   ]
  },
  {
   "cell_type": "code",
   "execution_count": 7,
   "id": "c5d941cc-e609-422d-9e3f-ca4a58747c78",
   "metadata": {},
   "outputs": [],
   "source": [
    "cf.prepare_model(\n",
    "    hidden_dims=model_config[\"hidden_dims\"],\n",
    "    decoder_dims=model_config[\"decoder_dims\"],\n",
    "    condition_embedding_dim=model_config[\"condition_embedding_dim\"],\n",
    "    time_encoder_dims=model_config[\"time_encoder_dims\"],\n",
    "    flow=model_config[\"flow\"],\n",
    "    hidden_dropout=model_config[\"hidden_dropout\"],\n",
    "    decoder_dropout=model_config[\"decoder_dropout\"],\n",
    "    match_fn=match_fn,\n",
    "    optimizer=optimizer,\n",
    "    layers_after_pool=model_config[\"layers_after_pool\"]\n",
    ")\n"
   ]
  },
  {
   "cell_type": "code",
   "execution_count": 8,
   "id": "82d9a65f-330b-4927-b5e4-021b695d2f11",
   "metadata": {},
   "outputs": [],
   "source": [
    "metrics_callback = Metrics(metrics=[\"r_squared\"])\n",
    "pca_decoder = PCADecoder(pcs=adata_train.varm['PCs'], means=adata_train.varm[\"X_train_mean\"])\n",
    "decoded_metrics_callback = PCADecodedMetrics(\n",
    "    metrics=[\"r_squared\"],\n",
    "    pca_decoder=pca_decoder\n",
    ")\n"
   ]
  },
  {
   "cell_type": "code",
   "execution_count": 11,
   "id": "b3275602-9558-43e7-a949-1acb5bb0ae8e",
   "metadata": {},
   "outputs": [
    {
     "data": {
      "text/plain": [
       "{0: array([ 0,  1,  2,  3,  4,  5,  6,  7,  8,  9, 10, 11, 12, 13, 14, 15, 16,\n",
       "        17, 18, 19, 20, 21, 22, 23, 24, 25, 26, 27, 28, 29, 30, 31, 32, 33,\n",
       "        34, 35, 36, 37, 38, 39, 40, 41]),\n",
       " 1: array([], dtype=float64),\n",
       " 2: array([42, 43, 44, 45, 46, 47, 48, 49, 50, 51, 52, 53, 54, 55, 56, 57, 58,\n",
       "        59, 60, 61, 62, 63, 64, 65, 66, 67, 68, 69, 70, 71, 72, 73, 74]),\n",
       " 3: array([ 75,  76,  77,  78,  79,  80,  81,  82,  83,  84,  85,  86,  87,\n",
       "         88,  89,  90,  91,  92,  93,  94,  95,  96,  97,  98,  99, 100,\n",
       "        101, 102, 103, 104, 105, 106, 107, 108, 109, 110, 111, 112, 113,\n",
       "        114, 115, 116, 117, 118, 119, 120, 121, 122]),\n",
       " 4: array([123, 124, 125, 126, 127, 128, 129, 130, 131, 132, 133, 134, 135,\n",
       "        136, 137, 138, 139, 140, 141, 142, 143, 144, 145, 146, 147, 148,\n",
       "        149, 150, 151, 152, 153, 154, 155, 156, 157, 158, 159, 160, 161,\n",
       "        162, 163, 164]),\n",
       " 5: array([165, 166, 167, 168, 169, 170, 171, 172, 173, 174, 175, 176, 177,\n",
       "        178, 179, 180, 181, 182, 183, 184, 185, 186, 187, 188, 189, 190,\n",
       "        191, 192, 193, 194, 195, 196, 197, 198, 199, 200, 201, 202, 203,\n",
       "        204, 205, 206, 207, 208, 209, 210, 211, 212])}"
      ]
     },
     "execution_count": 11,
     "metadata": {},
     "output_type": "execute_result"
    }
   ],
   "source": [
    "cf.train_data.control_to_perturbation"
   ]
  },
  {
   "cell_type": "code",
   "execution_count": 12,
   "id": "8f8f1437-9568-418d-8947-c2266f1dc5da",
   "metadata": {},
   "outputs": [
    {
     "data": {
      "text/plain": [
       "{0: ('A549',),\n",
       " 1: ('BXPC3',),\n",
       " 2: ('HAP1',),\n",
       " 3: ('HT29',),\n",
       " 4: ('K562',),\n",
       " 5: ('MCF7',)}"
      ]
     },
     "execution_count": 12,
     "metadata": {},
     "output_type": "execute_result"
    }
   ],
   "source": [
    "cf.train_data.split_idx_to_covariates"
   ]
  },
  {
   "cell_type": "code",
   "execution_count": 14,
   "id": "2b7dba0a-3d3b-48fe-8e0c-05e47d6cac75",
   "metadata": {},
   "outputs": [
    {
     "data": {
      "text/plain": [
       "cell_type\n",
       "HT29     47617\n",
       "MCF7     38689\n",
       "K562     20698\n",
       "A549     18459\n",
       "HAP1     15103\n",
       "BXPC3     4248\n",
       "Name: count, dtype: int64"
      ]
     },
     "execution_count": 14,
     "metadata": {},
     "output_type": "execute_result"
    }
   ],
   "source": [
    "adata_train.obs[\"cell_type\"].value_counts()"
   ]
  },
  {
   "cell_type": "code",
   "execution_count": 17,
   "id": "95f82df5-c6c0-4684-b6f3-2a2e9201f3a1",
   "metadata": {},
   "outputs": [
    {
     "data": {
      "text/plain": [
       "cell_type\n",
       "HT29    45094\n",
       "MCF7    37604\n",
       "K562    19853\n",
       "A549    17941\n",
       "HAP1    14542\n",
       "Name: count, dtype: int64"
      ]
     },
     "execution_count": 17,
     "metadata": {},
     "output_type": "execute_result"
    }
   ],
   "source": [
    "adata_train[~adata_train.obs[\"control\"].astype(bool)].obs[\"cell_type\"].value_counts()"
   ]
  },
  {
   "cell_type": "code",
   "execution_count": 18,
   "id": "4d22e937-bc68-477f-8bb2-c91042b7a326",
   "metadata": {},
   "outputs": [],
   "source": [
    "adata_train_tmp = adata_train[adata_train.obs[\"cell_type\"]!= \"BXPC3\"]"
   ]
  },
  {
   "cell_type": "code",
   "execution_count": 19,
   "id": "5aba5a77-908d-46bc-9a1b-e075c62163ce",
   "metadata": {},
   "outputs": [],
   "source": [
    "# Initiate the model (only otfm works for now)\n",
    "cf = cfp.model.CellFlow(adata_train_tmp, solver='otfm')"
   ]
  },
  {
   "cell_type": "code",
   "execution_count": 20,
   "id": "12a75dc0-dc7f-4d08-a22a-2eb85db0e729",
   "metadata": {},
   "outputs": [
    {
     "name": "stderr",
     "output_type": "stream",
     "text": [
      "/ictstr01/home/icb/dominik.klein/git_repos/cell_flow_perturbation/src/cfp/data/_datamanager.py:742: ImplicitModificationWarning: Trying to modify attribute `.obs` of view, initializing view as actual.\n",
      "  adata.obs[covariate] = adata.obs[covariate].astype(\"category\")\n",
      "/ictstr01/home/icb/dominik.klein/git_repos/cell_flow_perturbation/src/cfp/data/_datamanager.py:319: SettingWithCopyWarning: \n",
      "A value is trying to be set on a copy of a slice from a DataFrame.\n",
      "Try using .loc[row_indexer,col_indexer] = value instead\n",
      "\n",
      "See the caveats in the documentation: https://pandas.pydata.org/pandas-docs/stable/user_guide/indexing.html#returning-a-view-versus-a-copy\n",
      "  _covariate_data[\"cell_index\"] = _covariate_data.index\n",
      "100%|██████████| 218/218 [00:01<00:00, 125.34it/s]\n",
      "100%|██████████| 218/218 [00:01<00:00, 177.32it/s]\n",
      "100%|██████████| 218/218 [00:01<00:00, 192.51it/s]\n",
      "100%|██████████| 218/218 [00:01<00:00, 193.74it/s]\n",
      "100%|██████████| 218/218 [00:01<00:00, 192.27it/s]\n"
     ]
    }
   ],
   "source": [
    "# Prepare training data\n",
    "cf.prepare_data(\n",
    "    sample_rep=\"X_pca\",  # this is the location of the cell data, can also be \"X\"\n",
    "    control_key=\"control\",  # Column to distinguish controls. could wither be a tuple with the column key and the control name or just the name of a boolian column\n",
    "    sample_covariates=[\n",
    "        'pathway',\n",
    "        'cell_type'\n",
    "    ],  # split the data based on the covariates in obs, such as \"cell_type\"\n",
    "    sample_covariate_reps={\n",
    "        \"cell_type\": \"cell_type_emb\",\n",
    "        \"pathway\": \"pathway_emb\",\n",
    "    },  \n",
    "    perturbation_covariates={'gene': ('gene',)},\n",
    "    perturbation_covariate_reps={\n",
    "        \"gene\": \"gene_emb\",\n",
    "    }, \n",
    "    split_covariates=[\"cell_type\"],\n",
    ")\n"
   ]
  },
  {
   "cell_type": "code",
   "execution_count": 21,
   "id": "30cda9fd-ae17-4aff-8365-81a501e96a68",
   "metadata": {},
   "outputs": [],
   "source": [
    "cf.prepare_model(\n",
    "    hidden_dims=model_config[\"hidden_dims\"],\n",
    "    decoder_dims=model_config[\"decoder_dims\"],\n",
    "    condition_embedding_dim=model_config[\"condition_embedding_dim\"],\n",
    "    time_encoder_dims=model_config[\"time_encoder_dims\"],\n",
    "    flow=model_config[\"flow\"],\n",
    "    hidden_dropout=model_config[\"hidden_dropout\"],\n",
    "    decoder_dropout=model_config[\"decoder_dropout\"],\n",
    "    match_fn=match_fn,\n",
    "    optimizer=optimizer,\n",
    "    layers_after_pool=model_config[\"layers_after_pool\"]\n",
    ")\n"
   ]
  },
  {
   "cell_type": "code",
   "execution_count": 32,
   "id": "d2956742-f302-4c7f-9b1b-dc872440fa1d",
   "metadata": {},
   "outputs": [
    {
     "name": "stderr",
     "output_type": "stream",
     "text": [
      "100%|██████████| 10/10 [00:06<00:00,  1.57it/s]\n",
      "/home/icb/dominik.klein/mambaforge/envs/cfp/lib/python3.11/site-packages/jax/_src/core.py:691: FutureWarning: unhashable type: <class 'jax._src.interpreters.partial_eval.DynamicJaxprTracer'>. Attempting to hash a tracer will lead to an error in a future JAX release.\n",
      "  warnings.warn(\n",
      "/home/icb/dominik.klein/mambaforge/envs/cfp/lib/python3.11/site-packages/jax/_src/core.py:691: FutureWarning: unhashable type: <class 'jax._src.interpreters.partial_eval.DynamicJaxprTracer'>. Attempting to hash a tracer will lead to an error in a future JAX release.\n",
      "  warnings.warn(\n"
     ]
    }
   ],
   "source": [
    "cf.train(\n",
    "    num_iterations=10, \n",
    "    callbacks=[metrics_callback, decoded_metrics_callback], \n",
    "    valid_freq=10, \n",
    "    batch_size=1024\n",
    ")"
   ]
  },
  {
   "cell_type": "code",
   "execution_count": 33,
   "id": "60fcdfe1-31a0-4a5b-bcc6-350d85111d33",
   "metadata": {},
   "outputs": [
    {
     "data": {
      "text/plain": [
       "[0.9956063628196716]"
      ]
     },
     "execution_count": 33,
     "metadata": {},
     "output_type": "execute_result"
    }
   ],
   "source": [
    "cf.trainer.training_logs['pca_decoded_test_r_squared_mean']"
   ]
  },
  {
   "cell_type": "code",
   "execution_count": 30,
   "id": "5f594bb6-c149-4978-ace1-333578de9b7f",
   "metadata": {},
   "outputs": [
    {
     "data": {
      "text/plain": [
       "{}"
      ]
     },
     "execution_count": 30,
     "metadata": {},
     "output_type": "execute_result"
    }
   ],
   "source": [
    "cf.validation_data"
   ]
  },
  {
   "cell_type": "code",
   "execution_count": 28,
   "id": "546f3e6c-16e2-475b-ae45-fa41320cbc6d",
   "metadata": {},
   "outputs": [
    {
     "data": {
      "text/plain": [
       "[<matplotlib.lines.Line2D at 0x7fad31517450>]"
      ]
     },
     "execution_count": 28,
     "metadata": {},
     "output_type": "execute_result"
    },
    {
     "data": {
      "image/png": "[encoded data removed]",
      "text/plain": [
       "<Figure size 640x480 with 1 Axes>"
      ]
     },
     "metadata": {},
     "output_type": "display_data"
    }
   ],
   "source": [
    "import matplotlib.pyplot as plt\n",
    "plt.plot(np.arange(len(cf.trainer.training_logs['loss'])), cf.trainer.training_logs['loss'])"
   ]
  },
  {
   "cell_type": "code",
   "execution_count": 9,
   "id": "ad847977-da27-4757-9fa4-8bd93ea75563",
   "metadata": {},
   "outputs": [
    {
     "name": "stderr",
     "output_type": "stream",
     "text": [
      "  0%|          | 0/10000 [00:00<?, ?it/s]\n"
     ]
    },
    {
     "ename": "ValueError",
     "evalue": "a must be greater than 0 unless no samples are taken",
     "output_type": "error",
     "traceback": [
      "\u001b[0;31m---------------------------------------------------------------------------\u001b[0m",
      "\u001b[0;31mValueError\u001b[0m                                Traceback (most recent call last)",
      "Cell \u001b[0;32mIn[9], line 1\u001b[0m\n\u001b[0;32m----> 1\u001b[0m cf\u001b[38;5;241m.\u001b[39mtrain(\n\u001b[1;32m      2\u001b[0m     num_iterations\u001b[38;5;241m=\u001b[39m\u001b[38;5;241m10_000\u001b[39m, \n\u001b[1;32m      3\u001b[0m     callbacks\u001b[38;5;241m=\u001b[39m[metrics_callback, decoded_metrics_callback], \n\u001b[1;32m      4\u001b[0m     valid_freq\u001b[38;5;241m=\u001b[39m\u001b[38;5;241m100_000\u001b[39m, \n\u001b[1;32m      5\u001b[0m     batch_size\u001b[38;5;241m=\u001b[39m\u001b[38;5;241m1024\u001b[39m\n\u001b[1;32m      6\u001b[0m )\n",
      "File \u001b[0;32m/ictstr01/home/icb/dominik.klein/git_repos/cell_flow_perturbation/src/cfp/model/_cellflow.py:351\u001b[0m, in \u001b[0;36mCellFlow.train\u001b[0;34m(self, num_iterations, batch_size, valid_freq, callbacks, monitor_metrics)\u001b[0m\n\u001b[1;32m    346\u001b[0m \u001b[38;5;28mself\u001b[39m\u001b[38;5;241m.\u001b[39m_dataloader \u001b[38;5;241m=\u001b[39m TrainSampler(data\u001b[38;5;241m=\u001b[39m\u001b[38;5;28mself\u001b[39m\u001b[38;5;241m.\u001b[39mtrain_data, batch_size\u001b[38;5;241m=\u001b[39mbatch_size)\n\u001b[1;32m    347\u001b[0m validation_loaders \u001b[38;5;241m=\u001b[39m {\n\u001b[1;32m    348\u001b[0m     k: ValidationSampler(v) \u001b[38;5;28;01mfor\u001b[39;00m k, v \u001b[38;5;129;01min\u001b[39;00m \u001b[38;5;28mself\u001b[39m\u001b[38;5;241m.\u001b[39mvalidation_data\u001b[38;5;241m.\u001b[39mitems()\n\u001b[1;32m    349\u001b[0m }\n\u001b[0;32m--> 351\u001b[0m \u001b[38;5;28mself\u001b[39m\u001b[38;5;241m.\u001b[39m_solver \u001b[38;5;241m=\u001b[39m \u001b[38;5;28mself\u001b[39m\u001b[38;5;241m.\u001b[39mtrainer\u001b[38;5;241m.\u001b[39mtrain(\n\u001b[1;32m    352\u001b[0m     dataloader\u001b[38;5;241m=\u001b[39m\u001b[38;5;28mself\u001b[39m\u001b[38;5;241m.\u001b[39m_dataloader,\n\u001b[1;32m    353\u001b[0m     num_iterations\u001b[38;5;241m=\u001b[39mnum_iterations,\n\u001b[1;32m    354\u001b[0m     valid_freq\u001b[38;5;241m=\u001b[39mvalid_freq,\n\u001b[1;32m    355\u001b[0m     valid_loaders\u001b[38;5;241m=\u001b[39mvalidation_loaders,\n\u001b[1;32m    356\u001b[0m     callbacks\u001b[38;5;241m=\u001b[39mcallbacks,\n\u001b[1;32m    357\u001b[0m     monitor_metrics\u001b[38;5;241m=\u001b[39mmonitor_metrics,\n\u001b[1;32m    358\u001b[0m )\n",
      "File \u001b[0;32m/ictstr01/home/icb/dominik.klein/git_repos/cell_flow_perturbation/src/cfp/training/_trainer.py:116\u001b[0m, in \u001b[0;36mCellFlowTrainer.train\u001b[0;34m(self, dataloader, num_iterations, valid_freq, valid_loaders, monitor_metrics, callbacks)\u001b[0m\n\u001b[1;32m    114\u001b[0m \u001b[38;5;28;01mfor\u001b[39;00m it \u001b[38;5;129;01min\u001b[39;00m pbar:\n\u001b[1;32m    115\u001b[0m     rng, rng_step_fn \u001b[38;5;241m=\u001b[39m jax\u001b[38;5;241m.\u001b[39mrandom\u001b[38;5;241m.\u001b[39msplit(rng, \u001b[38;5;241m2\u001b[39m)\n\u001b[0;32m--> 116\u001b[0m     batch \u001b[38;5;241m=\u001b[39m dataloader\u001b[38;5;241m.\u001b[39msample(rng)\n\u001b[1;32m    117\u001b[0m     loss \u001b[38;5;241m=\u001b[39m \u001b[38;5;28mself\u001b[39m\u001b[38;5;241m.\u001b[39msolver\u001b[38;5;241m.\u001b[39mstep_fn(rng_step_fn, batch)\n\u001b[1;32m    118\u001b[0m     \u001b[38;5;28mself\u001b[39m\u001b[38;5;241m.\u001b[39mtraining_logs[\u001b[38;5;124m\"\u001b[39m\u001b[38;5;124mloss\u001b[39m\u001b[38;5;124m\"\u001b[39m]\u001b[38;5;241m.\u001b[39mappend(\u001b[38;5;28mfloat\u001b[39m(loss))\n",
      "    \u001b[0;31m[... skipping hidden 11 frame]\u001b[0m\n",
      "File \u001b[0;32m/ictstr01/home/icb/dominik.klein/git_repos/cell_flow_perturbation/src/cfp/data/_dataloader.py:54\u001b[0m, in \u001b[0;36mTrainSampler.__init__.<locals>._sample\u001b[0;34m(rng)\u001b[0m\n\u001b[1;32m     48\u001b[0m source_batch_idcs \u001b[38;5;241m=\u001b[39m jax\u001b[38;5;241m.\u001b[39mrandom\u001b[38;5;241m.\u001b[39mchoice(\n\u001b[1;32m     49\u001b[0m     rng_2, \u001b[38;5;28mself\u001b[39m\u001b[38;5;241m.\u001b[39m_data_idcs, [\u001b[38;5;28mself\u001b[39m\u001b[38;5;241m.\u001b[39mbatch_size], replace\u001b[38;5;241m=\u001b[39m\u001b[38;5;28;01mTrue\u001b[39;00m, p\u001b[38;5;241m=\u001b[39msrc_cond_p\n\u001b[1;32m     50\u001b[0m )\n\u001b[1;32m     52\u001b[0m source_batch \u001b[38;5;241m=\u001b[39m \u001b[38;5;28mself\u001b[39m\u001b[38;5;241m.\u001b[39m_data\u001b[38;5;241m.\u001b[39mcell_data[source_batch_idcs]\n\u001b[0;32m---> 54\u001b[0m target_dist_idx \u001b[38;5;241m=\u001b[39m jax\u001b[38;5;241m.\u001b[39mlax\u001b[38;5;241m.\u001b[39mswitch(\n\u001b[1;32m     55\u001b[0m     source_dist_idx, \u001b[38;5;28mself\u001b[39m\u001b[38;5;241m.\u001b[39mconditional_samplings, rng_3\n\u001b[1;32m     56\u001b[0m )\n\u001b[1;32m     57\u001b[0m target_cells_mask \u001b[38;5;241m=\u001b[39m (\n\u001b[1;32m     58\u001b[0m     \u001b[38;5;28mself\u001b[39m\u001b[38;5;241m.\u001b[39m_data\u001b[38;5;241m.\u001b[39mperturbation_covariates_mask \u001b[38;5;241m==\u001b[39m target_dist_idx\n\u001b[1;32m     59\u001b[0m )\n\u001b[1;32m     60\u001b[0m tgt_cond_p \u001b[38;5;241m=\u001b[39m target_cells_mask \u001b[38;5;241m/\u001b[39m jnp\u001b[38;5;241m.\u001b[39mcount_nonzero(target_cells_mask)\n",
      "    \u001b[0;31m[... skipping hidden 9 frame]\u001b[0m\n",
      "File \u001b[0;32m/ictstr01/home/icb/dominik.klein/git_repos/cell_flow_perturbation/src/cfp/data/_dataloader.py:32\u001b[0m, in \u001b[0;36mTrainSampler.__init__.<locals>.<lambda>\u001b[0;34m(key, i)\u001b[0m\n\u001b[1;32m     29\u001b[0m \u001b[38;5;28mself\u001b[39m\u001b[38;5;241m.\u001b[39mn_source_dists \u001b[38;5;241m=\u001b[39m data\u001b[38;5;241m.\u001b[39mn_controls\n\u001b[1;32m     30\u001b[0m \u001b[38;5;28mself\u001b[39m\u001b[38;5;241m.\u001b[39mn_target_dists \u001b[38;5;241m=\u001b[39m data\u001b[38;5;241m.\u001b[39mn_perturbations\n\u001b[1;32m     31\u001b[0m \u001b[38;5;28mself\u001b[39m\u001b[38;5;241m.\u001b[39mconditional_samplings \u001b[38;5;241m=\u001b[39m [\n\u001b[0;32m---> 32\u001b[0m     \u001b[38;5;28;01mlambda\u001b[39;00m key, i\u001b[38;5;241m=\u001b[39mi: jax\u001b[38;5;241m.\u001b[39mrandom\u001b[38;5;241m.\u001b[39mchoice(\n\u001b[1;32m     33\u001b[0m         key, \u001b[38;5;28mself\u001b[39m\u001b[38;5;241m.\u001b[39m_data\u001b[38;5;241m.\u001b[39mcontrol_to_perturbation[i]\n\u001b[1;32m     34\u001b[0m     )\n\u001b[1;32m     35\u001b[0m     \u001b[38;5;28;01mfor\u001b[39;00m i \u001b[38;5;129;01min\u001b[39;00m \u001b[38;5;28mrange\u001b[39m(\u001b[38;5;28mself\u001b[39m\u001b[38;5;241m.\u001b[39mn_source_dists)\n\u001b[1;32m     36\u001b[0m ]\n\u001b[1;32m     37\u001b[0m \u001b[38;5;28mself\u001b[39m\u001b[38;5;241m.\u001b[39mget_embeddings \u001b[38;5;241m=\u001b[39m \u001b[38;5;28;01mlambda\u001b[39;00m idx: {\n\u001b[1;32m     38\u001b[0m     pert_cov: jnp\u001b[38;5;241m.\u001b[39mexpand_dims(arr[idx], \u001b[38;5;241m0\u001b[39m)\n\u001b[1;32m     39\u001b[0m     \u001b[38;5;28;01mfor\u001b[39;00m pert_cov, arr \u001b[38;5;129;01min\u001b[39;00m \u001b[38;5;28mself\u001b[39m\u001b[38;5;241m.\u001b[39m_data\u001b[38;5;241m.\u001b[39mcondition_data\u001b[38;5;241m.\u001b[39mitems()\n\u001b[1;32m     40\u001b[0m }\n\u001b[1;32m     42\u001b[0m \u001b[38;5;129m@jax\u001b[39m\u001b[38;5;241m.\u001b[39mjit\n\u001b[1;32m     43\u001b[0m \u001b[38;5;28;01mdef\u001b[39;00m \u001b[38;5;21m_sample\u001b[39m(rng: jax\u001b[38;5;241m.\u001b[39mArray) \u001b[38;5;241m-\u001b[39m\u001b[38;5;241m>\u001b[39m Any:\n",
      "File \u001b[0;32m~/mambaforge/envs/cfp/lib/python3.11/site-packages/jax/_src/random.py:625\u001b[0m, in \u001b[0;36mchoice\u001b[0;34m(key, a, shape, replace, p, axis)\u001b[0m\n\u001b[1;32m    623\u001b[0m   \u001b[38;5;28;01mreturn\u001b[39;00m jnp\u001b[38;5;241m.\u001b[39mzeros(shape, dtype\u001b[38;5;241m=\u001b[39marr\u001b[38;5;241m.\u001b[39mdtype)\n\u001b[1;32m    624\u001b[0m \u001b[38;5;28;01mif\u001b[39;00m n_inputs \u001b[38;5;241m<\u001b[39m\u001b[38;5;241m=\u001b[39m \u001b[38;5;241m0\u001b[39m:\n\u001b[0;32m--> 625\u001b[0m   \u001b[38;5;28;01mraise\u001b[39;00m \u001b[38;5;167;01mValueError\u001b[39;00m(\u001b[38;5;124m\"\u001b[39m\u001b[38;5;124ma must be greater than 0 unless no samples are taken\u001b[39m\u001b[38;5;124m\"\u001b[39m)\n\u001b[1;32m    626\u001b[0m \u001b[38;5;28;01mif\u001b[39;00m \u001b[38;5;129;01mnot\u001b[39;00m replace \u001b[38;5;129;01mand\u001b[39;00m n_draws \u001b[38;5;241m>\u001b[39m n_inputs:\n\u001b[1;32m    627\u001b[0m   \u001b[38;5;28;01mraise\u001b[39;00m \u001b[38;5;167;01mValueError\u001b[39;00m(\u001b[38;5;124m\"\u001b[39m\u001b[38;5;124mCannot take a larger sample than population when \u001b[39m\u001b[38;5;124m'\u001b[39m\u001b[38;5;124mreplace=False\u001b[39m\u001b[38;5;124m'\u001b[39m\u001b[38;5;124m\"\u001b[39m)\n",
      "\u001b[0;31mValueError\u001b[0m: a must be greater than 0 unless no samples are taken"
     ]
    }
   ],
   "source": [
    "cf.train(\n",
    "    num_iterations=10_000, \n",
    "    callbacks=[metrics_callback, decoded_metrics_callback], \n",
    "    valid_freq=100_000, \n",
    "    batch_size=1024\n",
    ")"
   ]
  },
  {
   "cell_type": "code",
   "execution_count": null,
   "id": "678f492b-abb2-420d-8b8c-e2f5cd583bb8",
   "metadata": {},
   "outputs": [],
   "source": [
    "\n",
    "\n",
    "\n",
    "\n",
    "\n",
    "\n",
    "\n",
    "\n",
    "\n",
    "# Then prepare validation data from separate adata object\n",
    "\n",
    "# If you have two, such as test & ood you can run it a second time\n",
    "#cf.prepare_validation_data(\n",
    "#    adata_ood,\n",
    "    name=\"ood\",\n",
    "    n_conditions_on_log_iteration=2,\n",
    "    n_conditions_on_train_end=2\n",
    ")\n",
    "\n",
    "\n",
    "\n",
    "logger_config = {\n",
    "    'project': 'satija_ifng_otfm_test',\n",
    "    'out_dir': '/lustre/groups/ml01/workspace/ot_perturbation/data/satija/out'\n",
    "}\n",
    "\n",
    "config = {\n",
    "    \"model\": model_config,\n",
    "    \"train\": train_config,\n",
    "    \"logger\": logger_config\n",
    "}\n",
    "\n",
    "wandb_callback = WandbLogger(project=logger_config['project'], out_dir=logger_config['out_dir'],config=config)\n",
    "\n",
    "cf.train(\n",
    "    num_iterations=train_config[\"num_iterations\"], \n",
    "    callbacks=[metrics_callback, decoded_metrics_callback, wandb_callback], \n",
    "    valid_freq=train_config[\"valid_freq\"], \n",
    "    batch_size=train_config[\"batch_size\"]\n",
    ")\n",
    "\n",
    "if train_config[\"save_model\"]:\n",
    "    cf.save(dir_path=train_config[\"save_model_path\"], file_prefix=\"satija_ifng_otfm_test\")"
   ]
  }
 ],
 "metadata": {
  "kernelspec": {
   "display_name": "cfp",
   "language": "python",
   "name": "cfp"
  },
  "language_info": {
   "codemirror_mode": {
    "name": "ipython",
    "version": 3
   },
   "file_extension": ".py",
   "mimetype": "text/x-python",
   "name": "python",
   "nbconvert_exporter": "python",
   "pygments_lexer": "ipython3",
   "version": "3.11.9"
  }
 },
 "nbformat": 4,
 "nbformat_minor": 5
}
