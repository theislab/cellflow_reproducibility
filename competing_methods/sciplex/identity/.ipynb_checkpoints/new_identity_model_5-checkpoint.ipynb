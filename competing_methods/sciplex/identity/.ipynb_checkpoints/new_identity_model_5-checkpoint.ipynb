{
 "cells": [
  {
   "cell_type": "code",
   "execution_count": null,
   "id": "c05b2c1c-c466-4064-8855-0df7f7fd0366",
   "metadata": {},
   "outputs": [],
   "source": [
    "import functools\n",
    "\n",
    "import jax\n",
    "import numpy as np\n",
    "import scanpy as sc\n",
    "import cfp.preprocessing as cfpp\n",
    "from cfp.metrics import compute_mean_metrics, compute_metrics, compute_metrics_fast"
   ]
  },
  {
   "cell_type": "code",
   "execution_count": null,
   "id": "e4c7a3b2-c4a7-42da-b5cb-fda1c9405b22",
   "metadata": {},
   "outputs": [],
   "source": [
    "split=4"
   ]
  },
  {
   "cell_type": "code",
   "execution_count": null,
   "id": "3fcd225b-c58e-4261-965d-9e2127ca5c8d",
   "metadata": {},
   "outputs": [],
   "source": [
    "adata_train_path = f\"/lustre/groups/ml01/workspace/ot_perturbation/data/sciplex/adata_train_{split}.h5ad\"\n",
    "adata_test_path = f\"/lustre/groups/ml01/workspace/ot_perturbation/data/sciplex/adata_test_{split}.h5ad\"\n",
    "adata_ood_path = f\"/lustre/groups/ml01/workspace/ot_perturbation/data/sciplex/adata_ood_{split}.h5ad\""
   ]
  },
  {
   "cell_type": "code",
   "execution_count": null,
   "id": "3535df49-b284-43c7-a35c-f4273e0b3d90",
   "metadata": {},
   "outputs": [],
   "source": [
    "adata_train = sc.read(adata_train_path)\n",
    "adata_test = sc.read(adata_test_path)\n",
    "adata_ood = sc.read(adata_ood_path)"
   ]
  },
  {
   "cell_type": "code",
   "execution_count": null,
   "id": "09aefd26-34ab-4e8b-86b5-c5bab25a1f42",
   "metadata": {},
   "outputs": [],
   "source": [
    "adata_train.obs[\"split\"].value_counts()"
   ]
  },
  {
   "cell_type": "code",
   "execution_count": null,
   "id": "eb67ab67-5497-47f9-8ad0-009a64003a31",
   "metadata": {},
   "outputs": [],
   "source": [
    "adata_test.obs[\"split\"].value_counts()"
   ]
  },
  {
   "cell_type": "code",
   "execution_count": null,
   "id": "ed94c257-44a1-4639-8f5c-88fe1921fc2a",
   "metadata": {},
   "outputs": [],
   "source": [
    "adata_ood.obs[\"split\"].value_counts()"
   ]
  },
  {
   "cell_type": "code",
   "execution_count": null,
   "id": "7ab5c24b-47cd-4502-92d1-ce8b3cec04b1",
   "metadata": {},
   "outputs": [],
   "source": [
    "adata_ref_ood = adata_ood[~adata_ood.obs[\"condition\"].str.contains(\"Vehicle\")].copy()\n",
    "cfpp.centered_pca(adata_ref_ood, n_comps=10)\n",
    "\n"
   ]
  },
  {
   "cell_type": "code",
   "execution_count": null,
   "id": "5dfbe6b4-4810-464f-a557-8f9bce98908d",
   "metadata": {},
   "outputs": [],
   "source": [
    "adata_ref_ood"
   ]
  },
  {
   "cell_type": "code",
   "execution_count": null,
   "id": "797da894-c913-4fc2-a774-0462fa183cbc",
   "metadata": {},
   "outputs": [],
   "source": [
    "adata_pred_ood = adata_ood[\"Vehicle\" in adata_ood.obs[\"condition\"]]\n",
    "cfpp.project_pca(query_adata=adata_pred_ood, ref_adata=adata_ref_ood)\n",
    "cfpp.project_pca(query_adata=adata_ood, ref_adata=adata_ref_ood)\n",
    "ood_data_target_encoded = {}\n",
    "ood_data_target_decoded = {}\n",
    "ood_data_target_encoded_predicted = {}\n",
    "ood_data_target_decoded_predicted = {}\n",
    "for cond in adata_ood.obs[\"condition\"].cat.categories:\n",
    "    if \"Vehicle\" in cond:\n",
    "        continue\n",
    "    src_str = list(adata_ood[adata_ood.obs[\"condition\"] == cond].obs[\"cell_type\"].unique())\n",
    "    assert len(src_str) == 1\n",
    "    adata_pred_ood = adata_ood[adata_ood.obs[\"condition\"] == src_str[0] + \"_Vehicle_0.0\"]\n",
    "    \n",
    "    ood_data_target_encoded[cond] = adata_ood[adata_ood.obs[\"condition\"] == cond].obsm[\"X_pca\"]\n",
    "    ood_data_target_decoded[cond] = adata_ood[adata_ood.obs[\"condition\"] == cond].X.toarray()\n",
    "    ood_data_target_decoded_predicted[cond] = adata_pred_ood.X.toarray()\n",
    "    ood_data_target_encoded_predicted[cond] = adata_pred_ood.obsm[\"X_pca\"]"
   ]
  },
  {
   "cell_type": "code",
   "execution_count": null,
   "id": "73608cbd-8a06-4133-a7e5-19460133e798",
   "metadata": {},
   "outputs": [],
   "source": [
    "ood_metrics_encoded = jax.tree_util.tree_map(compute_metrics, ood_data_target_encoded, ood_data_target_encoded_predicted)\n",
    "mean_ood_metrics_encoded = compute_mean_metrics(ood_metrics_encoded, prefix=\"encoded_ood_\")\n",
    "\n",
    "ood_metrics_decoded = jax.tree_util.tree_map(compute_metrics_fast, ood_data_target_decoded, ood_data_target_decoded_predicted)\n",
    "mean_ood_metrics_decoded = compute_mean_metrics(ood_metrics_decoded, prefix=\"decoded_ood_\")\n",
    "\n",
    "\n"
   ]
  },
  {
   "cell_type": "code",
   "execution_count": null,
   "id": "647bf110-730d-47f2-baae-dd1fa2f7b387",
   "metadata": {},
   "outputs": [],
   "source": [
    "ood_deg_dict = {\n",
    "    k: v\n",
    "    for k, v in adata_train.uns[\"rank_genes_groups_cov_all\"].items()\n",
    "    if k in ood_data_target_decoded_predicted.keys()\n",
    "}"
   ]
  },
  {
   "cell_type": "code",
   "execution_count": null,
   "id": "56aa05ce-985a-4d34-b07e-70c8de821fed",
   "metadata": {},
   "outputs": [],
   "source": [
    "def get_mask(x, y):\n",
    "    return x[:, [gene in y for gene in adata_train.var_names]]\n",
    "\n",
    "ood_deg_target_decoded_predicted = jax.tree_util.tree_map(get_mask, ood_data_target_decoded_predicted, ood_deg_dict)\n",
    "ood_deg_target_decoded = jax.tree_util.tree_map(get_mask, ood_data_target_decoded, ood_deg_dict)\n"
   ]
  },
  {
   "cell_type": "code",
   "execution_count": null,
   "id": "5945a8e1-1e8f-418c-8485-3844d460e2a7",
   "metadata": {},
   "outputs": [],
   "source": [
    "deg_ood_metrics = jax.tree_util.tree_map(compute_metrics, ood_deg_target_decoded, ood_deg_target_decoded_predicted)\n",
    "deg_mean_ood_metrics = compute_mean_metrics(deg_ood_metrics, prefix=\"deg_ood_\")\n"
   ]
  },
  {
   "cell_type": "code",
   "execution_count": null,
   "id": "3d7cacc2-eb9e-417f-8dbf-f44473505898",
   "metadata": {},
   "outputs": [],
   "source": [
    "output_dir = \"/lustre/groups/ml01/workspace/ot_perturbation/data/sciplex/results/identity\""
   ]
  },
  {
   "cell_type": "code",
   "execution_count": null,
   "id": "0e076da3-3ce6-4cf1-884b-9483c7c8ef9e",
   "metadata": {},
   "outputs": [],
   "source": [
    "import os\n",
    "import pandas as pd\n",
    "\n",
    "pd.DataFrame.from_dict(ood_metrics_encoded).to_csv(os.path.join(output_dir, f\"ood_metrics_encoded_{split}.csv\"))\n",
    "pd.DataFrame.from_dict(ood_metrics_decoded).to_csv(os.path.join(output_dir, f\"ood_metrics_decoded_{split}.csv\"))\n",
    "pd.DataFrame.from_dict(deg_ood_metrics).to_csv(os.path.join(output_dir, f\"ood_metrics_ood_{split}.csv\"))\n"
   ]
  },
  {
   "cell_type": "code",
   "execution_count": null,
   "id": "bbd1896a-0cdb-4d2a-8164-e96288ba85be",
   "metadata": {},
   "outputs": [],
   "source": []
  },
  {
   "cell_type": "code",
   "execution_count": null,
   "id": "0e2e5507-77b7-4e89-8a2c-4244761fe387",
   "metadata": {},
   "outputs": [],
   "source": []
  }
 ],
 "metadata": {
  "kernelspec": {
   "display_name": "cfp",
   "language": "python",
   "name": "cfp"
  },
  "language_info": {
   "codemirror_mode": {
    "name": "ipython",
    "version": 3
   },
   "file_extension": ".py",
   "mimetype": "text/x-python",
   "name": "python",
   "nbconvert_exporter": "python",
   "pygments_lexer": "ipython3",
   "version": "3.11.9"
  }
 },
 "nbformat": 4,
 "nbformat_minor": 5
}
