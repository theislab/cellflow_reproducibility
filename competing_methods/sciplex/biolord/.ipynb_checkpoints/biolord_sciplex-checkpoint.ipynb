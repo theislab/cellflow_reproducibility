{
 "cells": [
  {
   "metadata": {
    "ExecuteTime": {
     "end_time": "2024-04-30T22:46:11.362031Z",
     "start_time": "2024-04-30T22:46:11.358786Z"
    }
   },
   "cell_type": "code",
   "source": [
    "adata_train_path = \"/lustre/groups/ml01/workspace/ot_perturbation/data/sciplex/adata_train_biolord_split_30.h5ad\"\n",
    "adata_test_path = \"/lustre/groups/ml01/workspace/ot_perturbation/data/sciplex/adata_test_biolord_split_30.h5ad\"\n",
    "adata_ood_path = \"/lustre/groups/ml01/workspace/ot_perturbation/data/sciplex/adata_ood_biolord_split_30.h5ad\""
   ],
   "id": "451b005a13806ad4",
   "outputs": [],
   "execution_count": 93
  },
  {
   "cell_type": "code",
   "id": "initial_id",
   "metadata": {
    "collapsed": true,
    "ExecuteTime": {
     "end_time": "2024-04-30T22:46:11.804442Z",
     "start_time": "2024-04-30T22:46:11.800939Z"
    }
   },
   "source": [
    "import anndata as ad\n",
    "import numpy as np\n",
    "import biolord\n",
    "\n",
    "from parameters_sciplex3 import module_params, trainer_params\n",
    "from utils_perturbation_sciplex3 import compute_prediction"
   ],
   "outputs": [],
   "execution_count": 94
  },
  {
   "metadata": {
    "ExecuteTime": {
     "end_time": "2024-04-30T22:49:09.006482Z",
     "start_time": "2024-04-30T22:48:46.359631Z"
    }
   },
   "cell_type": "code",
   "source": "ad_train = ad.read_h5ad(adata_train_path)",
   "id": "35361444fbc8e8de",
   "outputs": [],
   "execution_count": 101
  },
  {
   "metadata": {
    "ExecuteTime": {
     "end_time": "2024-04-30T22:49:32.179149Z",
     "start_time": "2024-04-30T22:49:09.013928Z"
    }
   },
   "cell_type": "code",
   "source": [
    "ad_test = ad.read_h5ad(adata_test_path)\n",
    "ad_ood = ad.read_h5ad(adata_ood_path)"
   ],
   "id": "19d4490c330a628d",
   "outputs": [],
   "execution_count": 102
  },
  {
   "metadata": {
    "jupyter": {
     "is_executing": true
    },
    "ExecuteTime": {
     "start_time": "2024-04-30T22:49:32.248726Z"
    }
   },
   "cell_type": "code",
   "source": [
    "# join the three anndatas\n",
    "adata = ad_train.concatenate(ad_test, ad_ood)"
   ],
   "id": "386bc95436b94e69",
   "outputs": [
    {
     "name": "stderr",
     "output_type": "stream",
     "text": [
      "/tmp/ipykernel_1428010/1819413285.py:2: FutureWarning: Use anndata.concat instead of AnnData.concatenate, AnnData.concatenate is deprecated and will be removed in the future. See the tutorial for concat at: https://anndata.readthedocs.io/en/latest/concatenation.html\n",
      "  adata = ad_train.concatenate(ad_test, ad_ood)\n"
     ]
    }
   ],
   "execution_count": null
  },
  {
   "metadata": {
    "jupyter": {
     "is_executing": true
    }
   },
   "cell_type": "code",
   "source": [
    "biolord.Biolord.setup_anndata(\n",
    "    adata,\n",
    "    ordered_attributes_keys=[\"ecfp\"],\n",
    "    categorical_attributes_keys=[\"cell_type\"],\n",
    "    retrieval_attribute_key=None,\n",
    ")"
   ],
   "id": "1712d94710897620",
   "outputs": [],
   "execution_count": null
  },
  {
   "metadata": {
    "jupyter": {
     "is_executing": true
    }
   },
   "cell_type": "code",
   "source": [
    "model = biolord.Biolord(\n",
    "    adata=adata,\n",
    "    n_latent=256,\n",
    "    model_name=\"sciplex3\",\n",
    "    module_params=module_params,\n",
    "    train_classifiers=False,\n",
    "    split_key=\"split\",\n",
    ")"
   ],
   "id": "382f7220d5da8ef9",
   "outputs": [],
   "execution_count": null
  },
  {
   "metadata": {
    "jupyter": {
     "is_executing": true
    }
   },
   "cell_type": "code",
   "source": [
    "model.train(\n",
    "    max_epochs=200,\n",
    "    batch_size=512,\n",
    "    plan_kwargs=trainer_params,\n",
    "    early_stopping=True,\n",
    "    early_stopping_patience=20,\n",
    "    check_val_every_n_epoch=10,\n",
    "    num_workers=10,\n",
    "    enable_checkpointing=False\n",
    ")"
   ],
   "id": "8de975ca979fb0f7",
   "outputs": [],
   "execution_count": null
  },
  {
   "metadata": {
    "jupyter": {
     "is_executing": true
    }
   },
   "cell_type": "code",
   "source": "model.save(\"/lustre/groups/ml01/workspace/ot_perturbation/data/sciplex/biolord_model_biolordsplit\")",
   "id": "b617c2afce7a57a",
   "outputs": [],
   "execution_count": null
  },
  {
   "metadata": {
    "ExecuteTime": {
     "end_time": "2024-04-30T22:47:49.915226Z",
     "start_time": "2024-04-30T22:47:49.911813Z"
    }
   },
   "cell_type": "code",
   "source": "import copy",
   "id": "b45f895b1667b0aa",
   "outputs": [],
   "execution_count": 98
  },
  {
   "metadata": {
    "ExecuteTime": {
     "end_time": "2024-04-30T22:48:35.374371Z",
     "start_time": "2024-04-30T22:48:29.833357Z"
    }
   },
   "cell_type": "code",
   "source": "model_30 = copy.deepcopy(model)",
   "id": "8ba93bf668209ba",
   "outputs": [],
   "execution_count": 100
  },
  {
   "metadata": {
    "ExecuteTime": {
     "end_time": "2024-04-30T22:06:25.816075Z",
     "start_time": "2024-04-30T22:06:24.226917Z"
    }
   },
   "cell_type": "code",
   "source": [
    "idx_test_control = np.where(\n",
    "    (adata.obs[\"split\"] == \"test\") & (adata.obs[\"control\"] == 1)\n",
    ")[0]\n",
    "\n",
    "adata_test_control = adata[idx_test_control].copy()\n",
    "\n",
    "idx_ood = np.where((adata.obs[\"split\"] == \"ood\"))[0]\n",
    "\n",
    "adata_ood = adata[idx_ood].copy()"
   ],
   "id": "2b559e04f5254c6",
   "outputs": [],
   "execution_count": 61
  },
  {
   "metadata": {
    "ExecuteTime": {
     "end_time": "2024-04-30T21:45:54.195940Z",
     "start_time": "2024-04-30T21:45:54.193363Z"
    }
   },
   "cell_type": "code",
   "source": [
    "# narrow to a single drug dose cell type for testing\n",
    "# adata_ood = adata_ood[(adata_ood.obs.cov_drug_dose_name == \"A549_Quisinostat_0.001\")]"
   ],
   "id": "e48cdb101dfc2b6a",
   "outputs": [],
   "execution_count": 30
  },
  {
   "metadata": {
    "ExecuteTime": {
     "end_time": "2024-04-30T22:06:29.979937Z",
     "start_time": "2024-04-30T22:06:28.813572Z"
    }
   },
   "cell_type": "code",
   "source": [
    "dataset_control = model.get_dataset(adata_test_control)\n",
    "dataset_ood = model.get_dataset(adata_ood)"
   ],
   "id": "801422cf27295d85",
   "outputs": [
    {
     "name": "stdout",
     "output_type": "stream",
     "text": [
      "\u001B[34mINFO    \u001B[0m Input AnnData not setup with scvi-tools. attempting to transfer AnnData setup                             \n",
      "\u001B[34mINFO    \u001B[0m AnnData object appears to be a copy. Attempting to transfer setup.                                        \n"
     ]
    }
   ],
   "execution_count": 62
  },
  {
   "metadata": {
    "ExecuteTime": {
     "end_time": "2024-04-30T21:46:15.269756Z",
     "start_time": "2024-04-30T21:45:54.967121Z"
    }
   },
   "cell_type": "code",
   "source": [
    "biolord_prediction = compute_prediction(\n",
    "    model=model,\n",
    "    adata=adata_ood,\n",
    "    dataset=dataset_ood,\n",
    "    dataset_control=dataset_control)"
   ],
   "id": "a195154e1591285d",
   "outputs": [
    {
     "name": "stderr",
     "output_type": "stream",
     "text": [
      "199it [00:20,  9.93it/s]\n"
     ]
    }
   ],
   "execution_count": 32
  },
  {
   "metadata": {
    "ExecuteTime": {
     "end_time": "2024-04-30T22:08:47.200227Z",
     "start_time": "2024-04-30T22:08:46.770087Z"
    }
   },
   "cell_type": "code",
   "source": [
    "# Step 1: Prepare the data matrix and conditions list\n",
    "all_data = []\n",
    "conditions = []\n",
    "\n",
    "for condition, tensor in biolord_prediction.items():\n",
    "    # Move tensor to CPU and convert to numpy\n",
    "    numpy_array = tensor.cpu().numpy()\n",
    "    # save a single sample from each condition due to their similarity\n",
    "    all_data.append(numpy_array[0])\n",
    "    conditions.extend([condition])\n",
    "\n",
    "# Stack all data vertically\n",
    "all_data = np.vstack(all_data)\n",
    "\n",
    "# Step 2: Create an AnnData object\n",
    "adata_output = ad.AnnData(all_data)\n",
    "adata_output.obs['condition'] = conditions"
   ],
   "id": "1f2c64df334b7c27",
   "outputs": [],
   "execution_count": 70
  },
  {
   "metadata": {
    "ExecuteTime": {
     "end_time": "2024-04-30T22:10:33.284482Z",
     "start_time": "2024-04-30T22:10:31.074598Z"
    }
   },
   "cell_type": "code",
   "source": "adata_output.write_h5ad(\"/lustre/groups/ml01/workspace/ot_perturbation/data/sciplex/biolord_output_adata_ood_30.h5ad\")",
   "id": "fb39dbe2cf23c39d",
   "outputs": [],
   "execution_count": 78
  },
  {
   "metadata": {},
   "cell_type": "code",
   "source": [
    "# pred_orig = compute_prediction_orig(model,\n",
    "#     adata_ood,\n",
    "#     dataset_ood,\n",
    "#     dataset_control=dataset_control)"
   ],
   "id": "eab1e53398e81897",
   "outputs": [],
   "execution_count": null
  },
  {
   "metadata": {
    "ExecuteTime": {
     "end_time": "2024-04-30T22:19:09.622866Z",
     "start_time": "2024-04-30T22:19:09.588664Z"
    }
   },
   "cell_type": "code",
   "source": [
    "# # code for computing pred\n",
    "# import numpy as np\n",
    "# import pandas as pd\n",
    "# import torch\n",
    "# from torchmetrics import R2Score\n",
    "# from tqdm import tqdm\n",
    "# \n",
    "# \n",
    "# def bool2idx(x):\n",
    "#     \"\"\"\n",
    "#     Returns the indices of the True-valued entries in a boolean array `x`\n",
    "#     \"\"\"\n",
    "#     return np.where(x)[0]\n",
    "# \n",
    "# def repeat_n(x, n):\n",
    "#     \"\"\"\n",
    "#     Returns an n-times repeated version of the Tensor x,\n",
    "#     repetition dimension is axis 0\n",
    "#     \"\"\"\n",
    "#     # copy tensor to device BEFORE replicating it n times\n",
    "#     device = \"cuda\" if torch.cuda.is_available() else \"cpu\"\n",
    "#     return x.to(device).view(1, -1).repeat(n, 1)\n",
    "# \n",
    "# def compute_r2(y_true, y_pred):\n",
    "#     \"\"\"\n",
    "#     Computes the r2 score for `y_true` and `y_pred`,\n",
    "#     returns `-1` when `y_pred` contains nan values\n",
    "#     \"\"\"\n",
    "#     y_pred = torch.clamp(y_pred, -3e12, 3e12)\n",
    "#     metric = R2Score().to(y_true.device)\n",
    "#     metric.update(y_pred, y_true)  # same as sklearn.r2_score(y_true, y_pred)\n",
    "#     return metric.compute().item()\n",
    "# \n",
    "# def compute_prediction_orig(\n",
    "#     model,\n",
    "#     adata,\n",
    "#     dataset,\n",
    "#     cell_lines=None,\n",
    "#     dataset_control=None,\n",
    "#     use_DEGs=True,\n",
    "#     verbose=True\n",
    "# ):\n",
    "#     pert_categories_index = pd.Index(adata.obs[\"condition\"].values, dtype=\"category\")\n",
    "#     allowed_cell_lines = []\n",
    "# \n",
    "#     cl_dict = {\n",
    "#         torch.Tensor([0.]): \"A549\",\n",
    "#         torch.Tensor([1.]): \"K562\",\n",
    "#         torch.Tensor([2.]): \"MCF7\",\n",
    "#     }\n",
    "# \n",
    "#     if cell_lines is None:\n",
    "#         cell_lines = [\"A549\", \"K562\", \"MCF7\"]\n",
    "# \n",
    "#     print(cell_lines)\n",
    "#     layer = \"X\" if \"X\" in dataset else \"layers\"\n",
    "#     predictions_dict = {}\n",
    "#     drug_r2 = {}\n",
    "#     for cell_drug_dose_comb, category_count in tqdm(\n",
    "#         zip(*np.unique(pert_categories_index.values, return_counts=True))\n",
    "#     ):\n",
    "#         # estimate metrics only for reasonably-sized drug/cell-type combos\n",
    "#         if category_count <= 5:\n",
    "#             continue\n",
    "#         # doesn\"t make sense to evaluate DMSO (=control) as a perturbation\n",
    "#         if (\n",
    "#             \"dmso\" in cell_drug_dose_comb.lower()\n",
    "#             or \"control\" in cell_drug_dose_comb.lower()\n",
    "#         ):\n",
    "#             continue\n",
    "# \n",
    "#         # adata.var_names is the list of gene names\n",
    "#         # adata.uns[\"all_DEGs\"] is a dict, containing a list of all differentiably-expressed\n",
    "#         # genes for every cell_drug_dose combination.\n",
    "# \n",
    "# \n",
    "#         bool_category = pert_categories_index.get_loc(cell_drug_dose_comb)\n",
    "#         idx_all = bool2idx(bool_category)\n",
    "#         idx = idx_all[0]\n",
    "#         y_true = dataset[layer][idx_all, :].to(model.device)\n",
    "#         \n",
    "#                     \n",
    "#         dataset_comb = {}\n",
    "#         if dataset_control is None:\n",
    "#             n_obs = y_true.size(0).to(model.device)\n",
    "#             for key, val in dataset.items():\n",
    "#                 dataset_comb[key] = val[idx_all].to(model.device)\n",
    "#         else:\n",
    "#             n_obs = dataset_control[layer].size(0)\n",
    "#             dataset_comb[layer] = dataset_control[layer].to(model.device)\n",
    "#             dataset_comb[\"ind_x\"] = dataset_control[\"ind_x\"].to(model.device)\n",
    "#             for key in dataset_control:\n",
    "#                 if key not in [layer, \"ind_x\"]:\n",
    "#                     dataset_comb[key] = repeat_n(dataset[key][idx, :], n_obs)\n",
    "# \n",
    "#         stop = False\n",
    "#         for tensor, cl in cl_dict.items():\n",
    "#             if (tensor == dataset[\"cell_type\"][idx]).all():\n",
    "#                 if cl not in cell_lines:\n",
    "#                     stop = True\n",
    "#         if stop:\n",
    "#             continue\n",
    "#             \n",
    "#         pred, _ = model.module.get_expression(dataset_comb)\n",
    "# \n",
    "#         y_pred = pred.mean(0)\n",
    "#         y_true = y_true.mean(0)\n",
    "# \n",
    "#         r2_m = compute_r2(y_true.cuda(), y_pred.cuda())\n",
    "#         print(f\"{cell_drug_dose_comb}: {r2_m:.2f}\") if verbose else None\n",
    "#         drug_r2[cell_drug_dose_comb] = r2_m\n",
    "# \n",
    "#         predictions_dict[cell_drug_dose_comb] = [y_true, y_pred]\n",
    "#     return drug_r2, predictions_dict\n",
    "# \n",
    "# \n",
    "# def compute_baseline(\n",
    "#     model,\n",
    "#     adata,\n",
    "#     dataset,\n",
    "#     cell_lines=None,\n",
    "#     dataset_control=None,\n",
    "#     use_DEGs=True,\n",
    "#     verbose=True,\n",
    "# ):\n",
    "#     pert_categories_index = pd.Index(adata.obs[\"cov_drug_dose_name\"].values, dtype=\"category\")\n",
    "#     allowed_cell_lines = []\n",
    "# \n",
    "#     cl_dict = {\n",
    "#         torch.Tensor([0.]): \"A549\",\n",
    "#         torch.Tensor([1.]): \"K562\", \n",
    "#         torch.Tensor([2.]): \"MCF7\",\n",
    "#     }\n",
    "#     \n",
    "#     cl_dict_op = {\n",
    "#         \"A549\":torch.Tensor([0.]),\n",
    "#         \"K562\": torch.Tensor([1.]),\n",
    "#         \"MCF7\": torch.Tensor([2.]),\n",
    "#     }\n",
    "# \n",
    "#     if cell_lines is None:\n",
    "#         cell_lines = [\"A549\", \"K562\", \"MCF7\"]\n",
    "# \n",
    "#     print(cell_lines)\n",
    "# \n",
    "#     layer = \"X\" if \"X\" in dataset else \"layers\"\n",
    "#     predictions_dict = {}\n",
    "#     drug_r2 = {}\n",
    "#     for cell_drug_dose_comb, category_count in tqdm(\n",
    "#         zip(*np.unique(pert_categories_index.values, return_counts=True))\n",
    "#     ):\n",
    "#         # estimate metrics only for reasonably-sized drug/cell-type combos\n",
    "#         if category_count <= 5:\n",
    "#             continue\n",
    "# \n",
    "#         # doesn\"t make sense to evaluate DMSO (=control) as a perturbation\n",
    "#         if (\n",
    "#             \"dmso\" in cell_drug_dose_comb.lower()\n",
    "#             or \"control\" in cell_drug_dose_comb.lower()\n",
    "#         ):\n",
    "#             continue\n",
    "# \n",
    "#         # adata.var_names is the list of gene names\n",
    "#         # adata.uns[\"all_DEGs\"] is a dict, containing a list of all differentiably-expressed\n",
    "#         # genes for every cell_drug_dose combination.\n",
    "#         bool_de = adata.var_names.isin(\n",
    "#             np.array(adata.uns[\"all_DEGs\"][cell_drug_dose_comb])\n",
    "#         )\n",
    "#         idx_de = bool2idx(bool_de)\n",
    "# \n",
    "#         # need at least two genes to be able to calc r2 score\n",
    "#         if len(idx_de) < 2:\n",
    "#             continue\n",
    "# \n",
    "#         bool_category = pert_categories_index.get_loc(cell_drug_dose_comb)\n",
    "#         idx_all = bool2idx(bool_category)\n",
    "#         idx = idx_all[0]\n",
    "#         y_true = dataset[layer][idx_all, :].to(model.device)\n",
    "#         \n",
    "#         cov_name = cell_drug_dose_comb.split(\"_\")[0]\n",
    "#         cond = bool2idx(dataset_control[\"cell_type\"] == cl_dict_op[cov_name])\n",
    "#         y_pred = dataset_control[layer][cond, :].to(model.device)\n",
    "# \n",
    "#         stop = False\n",
    "#         for tensor, cl in cl_dict.items():\n",
    "#             if (tensor == dataset[\"cell_type\"][idx]).all():\n",
    "#                 if cl not in cell_lines:\n",
    "#                     stop = True\n",
    "#         if stop:\n",
    "#             continue\n",
    "#             \n",
    "#         y_pred = y_pred.mean(0)\n",
    "#         y_true = y_true.mean(0)\n",
    "#         if use_DEGs:\n",
    "#             r2_m_de = compute_r2(y_true[idx_de].cuda(), y_pred[idx_de].cuda())\n",
    "#             print(f\"{cell_drug_dose_comb}: {r2_m_de:.2f}\") if verbose else None\n",
    "#             drug_r2[cell_drug_dose_comb] = r2_m_de\n",
    "#         else:\n",
    "#             r2_m = compute_r2(y_true.cuda(), y_pred.cuda())\n",
    "#             print(f\"{cell_drug_dose_comb}: {r2_m:.2f}\") if verbose else None\n",
    "#             drug_r2[cell_drug_dose_comb] = r2_m\n",
    "# \n",
    "#         predictions_dict[cell_drug_dose_comb] = [y_true, y_pred, idx_de]\n",
    "#     \n",
    "#     return drug_r2, predictions_dict\n",
    "# \n",
    "# \n",
    "# def create_df(res):\n",
    "#     dfs_ = []\n",
    "#     for key_, res_ in res.items():\n",
    "#         df_ = pd.DataFrame.from_dict(res_, orient=\"index\", columns=[\"r2_de\"])\n",
    "#         df_[\"type\"] = key_\n",
    "#         dfs_.append(df_)\n",
    "#         \n",
    "#     df = pd.concat(dfs_)\n",
    "# \n",
    "#     df[\"r2_de\"] = df[\"r2_de\"].apply(lambda x: max(x,0))\n",
    "#     df[\"cell_line\"] = pd.Series(df.index.values).apply(lambda x: x.split(\"_\")[0]).values\n",
    "#     df[\"drug\"] = pd.Series(df.index.values).apply(lambda x: x.split(\"_\")[1]).values\n",
    "#     df[\"dose\"] = pd.Series(df.index.values).apply(lambda x: x.split(\"_\")[2]).values\n",
    "#     df[\"dose\"] = df[\"dose\"].astype(float)\n",
    "# \n",
    "#     df[\"combination\"] = df.index.values\n",
    "#     df = df.reset_index()\n",
    "#     return df"
   ],
   "id": "e4d3d9f4bb82cef3",
   "outputs": [],
   "execution_count": 84
  },
  {
   "metadata": {},
   "cell_type": "code",
   "outputs": [],
   "execution_count": null,
   "source": "",
   "id": "3bb7a9cef560772e"
  }
 ],
 "metadata": {
  "kernelspec": {
   "display_name": "perturbation_models_biolord",
   "language": "python",
   "name": "perturbation_models_biolord"
  },
  "language_info": {
   "codemirror_mode": {
    "name": "ipython",
    "version": 2
   },
   "file_extension": ".py",
   "mimetype": "text/x-python",
   "name": "python",
   "nbconvert_exporter": "python",
   "pygments_lexer": "ipython2",
   "version": "2.7.6"
  }
 },
 "nbformat": 4,
 "nbformat_minor": 5
}
