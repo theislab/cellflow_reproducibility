{
 "cells": [
  {
   "cell_type": "code",
   "execution_count": 1,
   "id": "b9f12043-6a3a-4a4d-ba04-b8d0804548dd",
   "metadata": {},
   "outputs": [],
   "source": [
    "import functools\n",
    "\n",
    "import jax\n",
    "import numpy as np\n",
    "import scanpy as sc\n",
    "\n",
    "from ot_pert.metrics import compute_mean_metrics, compute_metrics"
   ]
  },
  {
   "cell_type": "code",
   "execution_count": 2,
   "id": "82989c4f-28f1-4a23-907a-f24297518d88",
   "metadata": {},
   "outputs": [],
   "source": [
    "adata_train_path = \"/lustre/groups/ml01/workspace/ot_perturbation/data/sciplex/adata_train_biolord_split_30.h5ad\"\n",
    "adata_test_path = \"/lustre/groups/ml01/workspace/ot_perturbation/data/sciplex/adata_test_biolord_split_30.h5ad\"\n",
    "adata_ood_path = \"/lustre/groups/ml01/workspace/ot_perturbation/data/sciplex/adata_ood_biolord_split_30.h5ad\""
   ]
  },
  {
   "cell_type": "code",
   "execution_count": 3,
   "id": "d2712f07-9396-463a-907b-1510ed579f53",
   "metadata": {},
   "outputs": [
    {
     "name": "stderr",
     "output_type": "stream",
     "text": [
      "/home/icb/dominik.klein/mambaforge/envs/ot_pert_genot/lib/python3.12/site-packages/anndata/__init__.py:51: FutureWarning: `anndata.read` is deprecated, use `anndata.read_h5ad` instead. `ad.read` will be removed in mid 2024.\n",
      "  warnings.warn(\n",
      "/home/icb/dominik.klein/mambaforge/envs/ot_pert_genot/lib/python3.12/site-packages/anndata/__init__.py:51: FutureWarning: `anndata.read` is deprecated, use `anndata.read_h5ad` instead. `ad.read` will be removed in mid 2024.\n",
      "  warnings.warn(\n",
      "/home/icb/dominik.klein/mambaforge/envs/ot_pert_genot/lib/python3.12/site-packages/anndata/__init__.py:51: FutureWarning: `anndata.read` is deprecated, use `anndata.read_h5ad` instead. `ad.read` will be removed in mid 2024.\n",
      "  warnings.warn(\n",
      "/home/icb/dominik.klein/mambaforge/envs/ot_pert_genot/lib/python3.12/site-packages/anndata/__init__.py:51: FutureWarning: `anndata.read` is deprecated, use `anndata.read_h5ad` instead. `ad.read` will be removed in mid 2024.\n",
      "  warnings.warn(\n",
      "/home/icb/dominik.klein/mambaforge/envs/ot_pert_genot/lib/python3.12/site-packages/anndata/__init__.py:51: FutureWarning: `anndata.read` is deprecated, use `anndata.read_h5ad` instead. `ad.read` will be removed in mid 2024.\n",
      "  warnings.warn(\n"
     ]
    }
   ],
   "source": [
    "adata_train = sc.read(adata_train_path)\n",
    "adata_test = sc.read(adata_test_path)\n",
    "adata_ood = sc.read(adata_ood_path)\n",
    "adata_pred_test = sc.read(\"/lustre/groups/ml01/workspace/ot_perturbation/data/sciplex/biolord_test_output.h5ad\")\n",
    "adata_pred_ood = sc.read(\"/lustre/groups/ml01/workspace/ot_perturbation/data/sciplex/biolord_output.h5ad\")"
   ]
  },
  {
   "cell_type": "code",
   "execution_count": 4,
   "id": "ab3658eb-b009-413e-8f69-899d337b6982",
   "metadata": {},
   "outputs": [],
   "source": [
    "OBSM_KEY_DATA_EMBEDDING = \"X_pca\""
   ]
  },
  {
   "cell_type": "code",
   "execution_count": 5,
   "id": "37a50bb9-4365-4e01-8dee-36b9f0fd1f07",
   "metadata": {},
   "outputs": [],
   "source": [
    "def reconstruct_data(embedding: np.ndarray, projection_matrix: np.ndarray, mean_to_add: np.ndarray) -> np.ndarray:\n",
    "    return np.matmul(embedding, projection_matrix.T) + mean_to_add\n",
    "\n",
    "\n",
    "def project_data(data: np.ndarray, projection_matrix: np.ndarray, mean_to_subtract: np.ndarray) -> np.ndarray:\n",
    "    return np.matmul(data - mean_to_subtract, projection_matrix)"
   ]
  },
  {
   "cell_type": "code",
   "execution_count": 6,
   "id": "8f61d8c9-2dce-4996-80f8-4688432d5066",
   "metadata": {},
   "outputs": [],
   "source": [
    "project_data_fn = functools.partial(\n",
    "    project_data,\n",
    "    projection_matrix=adata_train.varm[\"PCs\"],\n",
    "    mean_to_subtract=adata_train.varm[\"X_train_mean\"].T,\n",
    ")"
   ]
  },
  {
   "cell_type": "code",
   "execution_count": 7,
   "id": "17ff3dbb-e383-4197-8ff8-8c1230cbe2d0",
   "metadata": {},
   "outputs": [],
   "source": [
    "test_data_target_encoded = {}\n",
    "test_data_target_decoded = {}\n",
    "test_data_target_encoded_predicted = {}\n",
    "test_data_target_decoded_predicted = {}\n",
    "for cond in adata_test.obs[\"condition\"].cat.categories:\n",
    "    if \"Vehicle\" in cond:\n",
    "        continue\n",
    "    src_str = list(adata_test[adata_test.obs[\"condition\"] == cond].obs[\"cell_type\"].unique())\n",
    "    assert len(src_str) == 1\n",
    "    pred = adata_pred_test[adata_pred_test.obs[\"condition\"] == cond].X\n",
    "\n",
    "    test_data_target_encoded[cond] = adata_test[adata_test.obs[\"condition\"] == cond].obsm[OBSM_KEY_DATA_EMBEDDING]\n",
    "    test_data_target_decoded[cond] = adata_test[adata_test.obs[\"condition\"] == cond].X.A\n",
    "    test_data_target_decoded_predicted[cond] = pred\n",
    "    test_data_target_encoded_predicted[cond] = project_data_fn(pred)\n",
    "\n",
    "ood_data_target_encoded = {}\n",
    "ood_data_target_decoded = {}\n",
    "ood_data_target_encoded_predicted = {}\n",
    "ood_data_target_decoded_predicted = {}\n",
    "for cond in adata_ood.obs[\"condition\"].cat.categories:\n",
    "    if \"Vehicle\" in cond:\n",
    "        continue\n",
    "    src_str = list(adata_ood[adata_ood.obs[\"condition\"] == cond].obs[\"cell_type\"].unique())\n",
    "    assert len(src_str) == 1\n",
    "    pred = adata_pred_ood[adata_pred_ood.obs[\"condition\"] == cond].X\n",
    "    ood_data_target_encoded[cond] = adata_ood[adata_ood.obs[\"condition\"] == cond].obsm[OBSM_KEY_DATA_EMBEDDING]\n",
    "    ood_data_target_decoded[cond] = adata_ood[adata_ood.obs[\"condition\"] == cond].X.A\n",
    "    ood_data_target_decoded_predicted[cond] = pred\n",
    "    ood_data_target_encoded_predicted[cond] = project_data_fn(pred)"
   ]
  },
  {
   "cell_type": "code",
   "execution_count": 8,
   "id": "e54c9ea6-c94a-4f52-a55d-bbae67de4f7e",
   "metadata": {},
   "outputs": [],
   "source": [
    "test_deg_dict = {\n",
    "    k: v\n",
    "    for k, v in adata_train.uns[\"rank_genes_groups_cov_all\"].items()\n",
    "    if k in test_data_target_decoded_predicted.keys()\n",
    "}\n",
    "ood_deg_dict = {\n",
    "    k: v\n",
    "    for k, v in adata_train.uns[\"rank_genes_groups_cov_all\"].items()\n",
    "    if k in ood_data_target_decoded_predicted.keys()\n",
    "}"
   ]
  },
  {
   "cell_type": "code",
   "execution_count": 9,
   "id": "77f59e77-2476-4d36-945f-0726e4c24c0a",
   "metadata": {},
   "outputs": [],
   "source": [
    "def get_mask(x, y):\n",
    "    return x[:, [gene in y for gene in adata_train.var_names]]\n",
    "\n",
    "\n",
    "ood_deg_target_decoded_predicted = jax.tree_util.tree_map(get_mask, ood_data_target_decoded_predicted, ood_deg_dict)\n",
    "ood_deg_target_decoded = jax.tree_util.tree_map(get_mask, ood_data_target_decoded, ood_deg_dict)\n",
    "\n",
    "test_deg_target_decoded_predicted = jax.tree_util.tree_map(get_mask, test_data_target_decoded_predicted, test_deg_dict)\n",
    "test_deg_target_decoded = jax.tree_util.tree_map(get_mask, test_data_target_decoded, test_deg_dict)\n"
   ]
  },
  {
   "cell_type": "code",
   "execution_count": null,
   "id": "2ef43484-db89-4b3c-95bc-996bbf9436f5",
   "metadata": {},
   "outputs": [
    {
     "name": "stderr",
     "output_type": "stream",
     "text": [
      "2024-06-24 13:55:13.452829: W external/xla/xla/service/gpu/nvptx_compiler.cc:718] The NVIDIA driver's CUDA version is 12.3 which is older than the ptxas CUDA version (12.4.131). Because the driver is older than the ptxas version, XLA is disabling parallel compilation, which may slow down compilation. You should update your NVIDIA driver or use the NVIDIA-provided CUDA forward compatibility packages.\n"
     ]
    }
   ],
   "source": [
    "test_metrics_encoded = jax.tree_util.tree_map(compute_metrics, test_data_target_encoded, test_data_target_encoded_predicted)\n",
    "mean_test_metrics_encoded = compute_mean_metrics(test_metrics_encoded, prefix=\"encoded_test_\")\n",
    "\n",
    "test_metrics_decoded = jax.tree_util.tree_map(compute_metrics, test_data_target_decoded, test_data_target_decoded_predicted)\n",
    "mean_test_metrics_decoded = compute_mean_metrics(test_metrics_decoded, prefix=\"decoded_test_\")"
   ]
  },
  {
   "cell_type": "code",
   "execution_count": null,
   "id": "54ad57f1-37ce-4963-b6bb-1441a8e7e434",
   "metadata": {},
   "outputs": [],
   "source": [
    "ood_metrics_encoded = jax.tree_util.tree_map(\n",
    "    compute_metrics, ood_data_target_encoded, ood_data_target_encoded_predicted\n",
    ")\n",
    "mean_ood_metrics_encoded = compute_mean_metrics(ood_metrics_encoded, prefix=\"encoded_ood_\")\n",
    "\n",
    "ood_metrics_decoded = jax.tree_util.tree_map(\n",
    "    compute_metrics, ood_data_target_decoded, ood_data_target_decoded_predicted\n",
    ")\n",
    "mean_ood_metrics_decoded = compute_mean_metrics(ood_metrics_decoded, prefix=\"decoded_ood_\")"
   ]
  },
  {
   "cell_type": "code",
   "execution_count": null,
   "id": "378eb296-1289-49dc-951b-beb2aab43e2b",
   "metadata": {},
   "outputs": [],
   "source": [
    "mean_ood_metrics_decoded"
   ]
  },
  {
   "cell_type": "code",
   "execution_count": null,
   "id": "57449a79-bb16-4e5b-8430-dce85b18e22a",
   "metadata": {},
   "outputs": [],
   "source": []
  },
  {
   "cell_type": "code",
   "execution_count": null,
   "id": "6ea6bf35-c04c-483c-90cb-2f90a38c6a83",
   "metadata": {},
   "outputs": [],
   "source": []
  },
  {
   "cell_type": "code",
   "execution_count": null,
   "id": "79a08d19-7a94-45a0-b1ed-4552b2d3e154",
   "metadata": {},
   "outputs": [],
   "source": []
  },
  {
   "cell_type": "code",
   "execution_count": 51,
   "id": "224f13b6-3b59-4333-91f1-c127fbcc1106",
   "metadata": {},
   "outputs": [
    {
     "data": {
      "text/plain": [
       "{'encoded_ood_r_squared': 0.731557700354718,\n",
       " 'encoded_ood_sinkhorn_div_1': 6.215136785764952,\n",
       " 'encoded_ood_sinkhorn_div_10': 3.09509446169879,\n",
       " 'encoded_ood_sinkhorn_div_100': 2.713035454621186,\n",
       " 'encoded_ood_e_distance': 5.350146205076403,\n",
       " 'encoded_ood_mmd': 0.07484814828662914}"
      ]
     },
     "execution_count": 51,
     "metadata": {},
     "output_type": "execute_result"
    }
   ],
   "source": [
    "mean_ood_metrics_encoded"
   ]
  },
  {
   "cell_type": "code",
   "execution_count": 52,
   "id": "3e1c286a-2737-4342-a3ba-f68e93ced6ab",
   "metadata": {},
   "outputs": [],
   "source": [
    "deg_ood_metrics = jax.tree_util.tree_map(compute_metrics, ood_deg_target_decoded, ood_deg_target_decoded_predicted)\n",
    "deg_mean_ood_metrics = compute_mean_metrics(deg_ood_metrics, prefix=\"deg_ood_\")\n",
    "\n",
    "deg_test_metrics = jax.tree_util.tree_map(compute_metrics, test_deg_target_decoded, test_deg_target_decoded_predicted)\n",
    "deg_mean_test_metrics = compute_mean_metrics(deg_test_metrics, prefix=\"deg_test_\")\n"
   ]
  },
  {
   "cell_type": "code",
   "execution_count": 53,
   "id": "815164ff-7cd4-4d24-bd06-34573ea50915",
   "metadata": {},
   "outputs": [],
   "source": [
    "output_dir = \"/lustre/groups/ml01/workspace/ot_perturbation/data/sciplex/results/biolord\""
   ]
  },
  {
   "cell_type": "code",
   "execution_count": 54,
   "id": "7ed36ede-fe87-45f3-b3b6-4508868a06c8",
   "metadata": {},
   "outputs": [],
   "source": [
    "import os\n",
    "import pandas as pd\n",
    "\n",
    "pd.DataFrame.from_dict(ood_metrics_encoded).to_csv(os.path.join(output_dir, \"biolord_split_ood_metrics_encoded.csv\"))\n",
    "pd.DataFrame.from_dict(ood_metrics_decoded).to_csv(os.path.join(output_dir, \"biolord_split_ood_metrics_decoded.csv\"))\n",
    "#pd.DataFrame.from_dict(test_metrics_encoded).to_csv(os.path.join(output_dir, \"biolord_split_test_metrics_encoded.csv\"))\n",
    "#pd.DataFrame.from_dict(test_metrics_decoded).to_csv(os.path.join(output_dir, \"biolord_split_test_metrics_decoded.csv\"))\n",
    "#pd.DataFrame.from_dict(train_metrics_encoded).to_csv(os.path.join(output_dir, \"biolord_split_train_metrics_encoded.csv\"))\n",
    "#pd.DataFrame.from_dict(train_metrics_decoded).to_csv(os.path.join(output_dir, \"biolord_split_train_metrics_decoded.csv\"))"
   ]
  },
  {
   "cell_type": "code",
   "execution_count": null,
   "id": "93f8f467-467c-40d6-bdcc-eee662579c77",
   "metadata": {},
   "outputs": [],
   "source": []
  }
 ],
 "metadata": {
  "kernelspec": {
   "display_name": "ot_pert_genot",
   "language": "python",
   "name": "ot_pert_genot"
  },
  "language_info": {
   "codemirror_mode": {
    "name": "ipython",
    "version": 3
   },
   "file_extension": ".py",
   "mimetype": "text/x-python",
   "name": "python",
   "nbconvert_exporter": "python",
   "pygments_lexer": "ipython3",
   "version": "3.12.2"
  }
 },
 "nbformat": 4,
 "nbformat_minor": 5
}
