{
 "cells": [
  {
   "cell_type": "code",
   "execution_count": 1,
   "id": "d36e6247-129d-4d41-b757-69526c0b73e7",
   "metadata": {},
   "outputs": [
    {
     "name": "stderr",
     "output_type": "stream",
     "text": [
      "/home/icb/dominik.klein/mambaforge/envs/ot_pert_biolord/lib/python3.12/site-packages/tqdm/auto.py:21: TqdmWarning: IProgress not found. Please update jupyter and ipywidgets. See https://ipywidgets.readthedocs.io/en/stable/user_install.html\n",
      "  from .autonotebook import tqdm as notebook_tqdm\n"
     ]
    }
   ],
   "source": [
    "import pandas as pd\n",
    "import numpy as np\n",
    "\n",
    "import scanpy as sc\n",
    "import biolord\n",
    "\n",
    "import seaborn as sns\n",
    "import matplotlib.pyplot as plt\n",
    "import warnings\n",
    "from scipy.stats import ttest_rel\n",
    "import anndata"
   ]
  },
  {
   "cell_type": "code",
   "execution_count": 2,
   "id": "b10aa0df-963d-42b7-bd99-02f82c373809",
   "metadata": {},
   "outputs": [],
   "source": [
    "adata_train_path = \"/lustre/groups/ml01/workspace/ot_perturbation/data/sciplex/adata_train_biolord_split_30.h5ad\"\n",
    "adata_test_path = \"/lustre/groups/ml01/workspace/ot_perturbation/data/sciplex/adata_test_biolord_split_30.h5ad\"\n",
    "adata_ood_path = \"/lustre/groups/ml01/workspace/ot_perturbation/data/sciplex/adata_ood_biolord_split_30.h5ad\""
   ]
  },
  {
   "cell_type": "code",
   "execution_count": 3,
   "id": "dbafe0b8-252c-4142-9593-995149e426e2",
   "metadata": {},
   "outputs": [
    {
     "name": "stderr",
     "output_type": "stream",
     "text": [
      "/home/icb/dominik.klein/mambaforge/envs/ot_pert_biolord/lib/python3.12/site-packages/anndata/__init__.py:51: FutureWarning: `anndata.read` is deprecated, use `anndata.read_h5ad` instead. `ad.read` will be removed in mid 2024.\n",
      "  warnings.warn(\n",
      "/home/icb/dominik.klein/mambaforge/envs/ot_pert_biolord/lib/python3.12/site-packages/anndata/__init__.py:51: FutureWarning: `anndata.read` is deprecated, use `anndata.read_h5ad` instead. `ad.read` will be removed in mid 2024.\n",
      "  warnings.warn(\n",
      "/home/icb/dominik.klein/mambaforge/envs/ot_pert_biolord/lib/python3.12/site-packages/anndata/__init__.py:51: FutureWarning: `anndata.read` is deprecated, use `anndata.read_h5ad` instead. `ad.read` will be removed in mid 2024.\n",
      "  warnings.warn(\n"
     ]
    }
   ],
   "source": [
    "adata_train = sc.read(adata_train_path)\n",
    "adata_test = sc.read(adata_test_path)\n",
    "adata_ood = sc.read(adata_ood_path)"
   ]
  },
  {
   "cell_type": "code",
   "execution_count": 4,
   "id": "b199f020-340c-4412-b023-5ff46c7ab903",
   "metadata": {},
   "outputs": [
    {
     "name": "stderr",
     "output_type": "stream",
     "text": [
      "/home/icb/dominik.klein/mambaforge/envs/ot_pert_biolord/lib/python3.12/site-packages/anndata/_core/anndata.py:1906: UserWarning: Observation names are not unique. To make them unique, call `.obs_names_make_unique`.\n",
      "  utils.warn_names_duplicates(\"obs\")\n"
     ]
    }
   ],
   "source": [
    "adata = anndata.concat((adata_train, adata_test, adata_ood), label=\"split\", keys=[\"train\", \"test\", \"ood\"])"
   ]
  },
  {
   "cell_type": "code",
   "execution_count": 5,
   "id": "7d4fe2dc-3986-4085-9a77-c31cb6c1056b",
   "metadata": {},
   "outputs": [],
   "source": [
    "frac_valid = 0.1\n",
    "\n",
    "def create_split(x):\n",
    "    if x[\"split\"] != \"train\":\n",
    "        return \"other\"\n",
    "    is_train = np.random.choice(2, p=[frac_valid, 1 - frac_valid])\n",
    "    if is_train:\n",
    "        return \"train_train\"\n",
    "    return \"train_valid\"\n",
    "\n",
    "\n",
    "adata.obs[\"new_split\"] = adata.obs.apply(create_split, axis=1)"
   ]
  },
  {
   "cell_type": "code",
   "execution_count": 6,
   "id": "4ad633d1-f424-4d2e-b5ec-54529ab4056b",
   "metadata": {},
   "outputs": [],
   "source": [
    "dose = adata.obs[\"dose\"].astype(\"float\") / np.max(adata.obs[\"dose\"].astype(\"float\")) # following "
   ]
  },
  {
   "cell_type": "code",
   "execution_count": 7,
   "id": "08b28126-1722-40b7-b153-42207d763f0b",
   "metadata": {},
   "outputs": [],
   "source": [
    "adata.obsm[\"ecfp_dose\"] = np.concatenate((adata.obsm[\"ecfp\"], dose.values[:,None]), axis=1)"
   ]
  },
  {
   "cell_type": "code",
   "execution_count": 8,
   "id": "dd6cb30a-ca23-47e3-b9b4-c5358d4f83d7",
   "metadata": {},
   "outputs": [
    {
     "name": "stdout",
     "output_type": "stream",
     "text": [
      "\u001b[34mINFO    \u001b[0m Generating sequential column names                                                                        \n"
     ]
    }
   ],
   "source": [
    "biolord.Biolord.setup_anndata(\n",
    "    adata,\n",
    "    ordered_attributes_keys=[\"ecfp_dose\"],\n",
    "    categorical_attributes_keys=[\"cell_type\"],\n",
    "    retrieval_attribute_key=None,\n",
    ")"
   ]
  },
  {
   "cell_type": "code",
   "execution_count": 9,
   "id": "ebf5d3d1-edce-4cf0-9e9f-900fe31a34ae",
   "metadata": {},
   "outputs": [],
   "source": [
    "module_params= dict(\n",
    "    decoder_width = 4096,\n",
    "    decoder_depth = 4,\n",
    "    \n",
    "    attribute_dropout_rate = 0.1,\n",
    "    attribute_nn_width = 2048,\n",
    "    attribute_nn_depth = 2,\n",
    "    \n",
    "    unknown_attribute_noise_param = 2e+1,\n",
    "    unknown_attribute_penalty = 1e-1,\n",
    "    gene_likelihood = \"normal\",\n",
    "    n_latent_attribute_ordered = 256,\n",
    "    n_latent_attribute_categorical = 3,\n",
    "    reconstruction_penalty = 1e+4,\n",
    "    use_batch_norm = False,\n",
    "    use_layer_norm = False,)\n",
    "\n",
    "trainer_params=dict(\n",
    "    latent_lr = 1e-4,\n",
    "    latent_wd = 1e-4,\n",
    "    decoder_lr = 1e-4,\n",
    "    decoder_wd = 1e-4,\n",
    "    attribute_nn_lr = 1e-2,\n",
    "    attribute_nn_wd = 4e-8,\n",
    "    cosine_scheduler = True,\n",
    "    scheduler_final_lr = 1e-5,\n",
    "    step_size_lr = 45,\n",
    ")"
   ]
  },
  {
   "cell_type": "code",
   "execution_count": 10,
   "id": "84f70b3a-6f8d-4e5a-8087-8d6ec2784d31",
   "metadata": {},
   "outputs": [
    {
     "name": "stderr",
     "output_type": "stream",
     "text": [
      "[rank: 0] Seed set to 0\n"
     ]
    }
   ],
   "source": [
    "model = biolord.Biolord(\n",
    "    adata=adata,\n",
    "    n_latent=256,\n",
    "    model_name=\"sciplex3\",\n",
    "    module_params=module_params,\n",
    "    train_classifiers=False,\n",
    "    split_key=\"new_split\",\n",
    "    train_split=\"train_train\",\n",
    "    valid_split=\"train_valid\",\n",
    "    test_split=\"other\",\n",
    ")"
   ]
  },
  {
   "cell_type": "code",
   "execution_count": null,
   "id": "99ff3b2c-a5a9-4b74-8885-3abfe4206eca",
   "metadata": {},
   "outputs": [
    {
     "name": "stderr",
     "output_type": "stream",
     "text": [
      "/home/icb/dominik.klein/mambaforge/envs/ot_pert_biolord/lib/python3.12/site-packages/lightning/fabric/plugins/environments/slurm.py:191: The `srun` command is available on your system but is not used. HINT: If your intention is to run Lightning on SLURM, prepend your python command with `srun` like so: srun python /home/icb/dominik.klein/mambaforge/envs/ot_pert_biol ...\n",
      "GPU available: True (cuda), used: True\n",
      "TPU available: False, using: 0 TPU cores\n",
      "IPU available: False, using: 0 IPUs\n",
      "HPU available: False, using: 0 HPUs\n",
      "/home/icb/dominik.klein/mambaforge/envs/ot_pert_biolord/lib/python3.12/site-packages/lightning/fabric/plugins/environments/slurm.py:191: The `srun` command is available on your system but is not used. HINT: If your intention is to run Lightning on SLURM, prepend your python command with `srun` like so: srun python /home/icb/dominik.klein/mambaforge/envs/ot_pert_biol ...\n",
      "LOCAL_RANK: 0 - CUDA_VISIBLE_DEVICES: [0]\n",
      "/home/icb/dominik.klein/mambaforge/envs/ot_pert_biolord/lib/python3.12/site-packages/torch/utils/data/dataloader.py:558: UserWarning: This DataLoader will create 10 worker processes in total. Our suggested max number of worker in current system is 6, which is smaller than what this DataLoader is going to create. Please be aware that excessive worker creation might get DataLoader running slow or even freeze, lower the worker number to avoid potential slowness/freeze if necessary.\n",
      "  warnings.warn(_create_warning_msg(\n",
      "/home/icb/dominik.klein/mambaforge/envs/ot_pert_biolord/lib/python3.12/multiprocessing/popen_fork.py:66: RuntimeWarning: os.fork() was called. os.fork() is incompatible with multithreaded code, and JAX is multithreaded, so this will likely lead to a deadlock.\n",
      "  self.pid = os.fork()\n"
     ]
    },
    {
     "name": "stdout",
     "output_type": "stream",
     "text": [
      "Epoch 2/200:   0%|          | 1/200 [00:42<2:18:20, 41.71s/it, v_num=1, val_generative_mean_accuracy=0.0917, val_generative_var_accuracy=-86.6, val_biolord_metric=-43.3, val_LOSS_KEYS.RECONSTRUCTION=261, val_LOSS_KEYS.UNKNOWN_ATTRIBUTE_PENALTY=235]"
     ]
    },
    {
     "name": "stderr",
     "output_type": "stream",
     "text": [
      "/home/icb/dominik.klein/mambaforge/envs/ot_pert_biolord/lib/python3.12/site-packages/torch/utils/data/dataloader.py:558: UserWarning: This DataLoader will create 10 worker processes in total. Our suggested max number of worker in current system is 6, which is smaller than what this DataLoader is going to create. Please be aware that excessive worker creation might get DataLoader running slow or even freeze, lower the worker number to avoid potential slowness/freeze if necessary.\n",
      "  warnings.warn(_create_warning_msg(\n",
      "/home/icb/dominik.klein/mambaforge/envs/ot_pert_biolord/lib/python3.12/multiprocessing/popen_fork.py:66: RuntimeWarning: os.fork() was called. os.fork() is incompatible with multithreaded code, and JAX is multithreaded, so this will likely lead to a deadlock.\n",
      "  self.pid = os.fork()\n",
      "/home/icb/dominik.klein/mambaforge/envs/ot_pert_biolord/lib/python3.12/multiprocessing/popen_fork.py:66: RuntimeWarning: os.fork() was called. os.fork() is incompatible with multithreaded code, and JAX is multithreaded, so this will likely lead to a deadlock.\n",
      "  self.pid = os.fork()\n"
     ]
    },
    {
     "name": "stdout",
     "output_type": "stream",
     "text": [
      "Epoch 3/200:   1%|          | 2/200 [01:13<1:57:56, 35.74s/it, v_num=1, val_generative_mean_accuracy=0.348, val_generative_var_accuracy=-9.56, val_biolord_metric=-4.6, val_LOSS_KEYS.RECONSTRUCTION=227, val_LOSS_KEYS.UNKNOWN_ATTRIBUTE_PENALTY=216, generative_mean_accuracy=0, generative_var_accuracy=0, biolord_metric=0, reconstruction_loss=213, unknown_attribute_penalty_loss=1.03e+5]"
     ]
    },
    {
     "name": "stderr",
     "output_type": "stream",
     "text": [
      "/home/icb/dominik.klein/mambaforge/envs/ot_pert_biolord/lib/python3.12/site-packages/torch/utils/data/dataloader.py:558: UserWarning: This DataLoader will create 10 worker processes in total. Our suggested max number of worker in current system is 6, which is smaller than what this DataLoader is going to create. Please be aware that excessive worker creation might get DataLoader running slow or even freeze, lower the worker number to avoid potential slowness/freeze if necessary.\n",
      "  warnings.warn(_create_warning_msg(\n",
      "/home/icb/dominik.klein/mambaforge/envs/ot_pert_biolord/lib/python3.12/multiprocessing/popen_fork.py:66: RuntimeWarning: os.fork() was called. os.fork() is incompatible with multithreaded code, and JAX is multithreaded, so this will likely lead to a deadlock.\n",
      "  self.pid = os.fork()\n",
      "/home/icb/dominik.klein/mambaforge/envs/ot_pert_biolord/lib/python3.12/multiprocessing/popen_fork.py:66: RuntimeWarning: os.fork() was called. os.fork() is incompatible with multithreaded code, and JAX is multithreaded, so this will likely lead to a deadlock.\n",
      "  self.pid = os.fork()\n"
     ]
    },
    {
     "name": "stdout",
     "output_type": "stream",
     "text": [
      "Epoch 4/200:   2%|▏         | 3/200 [01:43<1:49:29, 33.35s/it, v_num=1, val_generative_mean_accuracy=0.461, val_generative_var_accuracy=-4.4, val_biolord_metric=-1.97, val_LOSS_KEYS.RECONSTRUCTION=216, val_LOSS_KEYS.UNKNOWN_ATTRIBUTE_PENALTY=198, generative_mean_accuracy=0, generative_var_accuracy=0, biolord_metric=0, reconstruction_loss=179, unknown_attribute_penalty_loss=1.03e+5]"
     ]
    },
    {
     "name": "stderr",
     "output_type": "stream",
     "text": [
      "/home/icb/dominik.klein/mambaforge/envs/ot_pert_biolord/lib/python3.12/site-packages/torch/utils/data/dataloader.py:558: UserWarning: This DataLoader will create 10 worker processes in total. Our suggested max number of worker in current system is 6, which is smaller than what this DataLoader is going to create. Please be aware that excessive worker creation might get DataLoader running slow or even freeze, lower the worker number to avoid potential slowness/freeze if necessary.\n",
      "  warnings.warn(_create_warning_msg(\n",
      "/home/icb/dominik.klein/mambaforge/envs/ot_pert_biolord/lib/python3.12/multiprocessing/popen_fork.py:66: RuntimeWarning: os.fork() was called. os.fork() is incompatible with multithreaded code, and JAX is multithreaded, so this will likely lead to a deadlock.\n",
      "  self.pid = os.fork()\n",
      "/home/icb/dominik.klein/mambaforge/envs/ot_pert_biolord/lib/python3.12/multiprocessing/popen_fork.py:66: RuntimeWarning: os.fork() was called. os.fork() is incompatible with multithreaded code, and JAX is multithreaded, so this will likely lead to a deadlock.\n",
      "  self.pid = os.fork()\n"
     ]
    },
    {
     "name": "stdout",
     "output_type": "stream",
     "text": [
      "Epoch 5/200:   2%|▏         | 4/200 [02:14<1:45:09, 32.19s/it, v_num=1, val_generative_mean_accuracy=0.545, val_generative_var_accuracy=-1.81, val_biolord_metric=-0.632, val_LOSS_KEYS.RECONSTRUCTION=207, val_LOSS_KEYS.UNKNOWN_ATTRIBUTE_PENALTY=181, generative_mean_accuracy=0, generative_var_accuracy=0, biolord_metric=0, reconstruction_loss=158, unknown_attribute_penalty_loss=1.03e+5]"
     ]
    },
    {
     "name": "stderr",
     "output_type": "stream",
     "text": [
      "/home/icb/dominik.klein/mambaforge/envs/ot_pert_biolord/lib/python3.12/site-packages/torch/utils/data/dataloader.py:558: UserWarning: This DataLoader will create 10 worker processes in total. Our suggested max number of worker in current system is 6, which is smaller than what this DataLoader is going to create. Please be aware that excessive worker creation might get DataLoader running slow or even freeze, lower the worker number to avoid potential slowness/freeze if necessary.\n",
      "  warnings.warn(_create_warning_msg(\n",
      "/home/icb/dominik.klein/mambaforge/envs/ot_pert_biolord/lib/python3.12/multiprocessing/popen_fork.py:66: RuntimeWarning: os.fork() was called. os.fork() is incompatible with multithreaded code, and JAX is multithreaded, so this will likely lead to a deadlock.\n",
      "  self.pid = os.fork()\n",
      "/home/icb/dominik.klein/mambaforge/envs/ot_pert_biolord/lib/python3.12/multiprocessing/popen_fork.py:66: RuntimeWarning: os.fork() was called. os.fork() is incompatible with multithreaded code, and JAX is multithreaded, so this will likely lead to a deadlock.\n",
      "  self.pid = os.fork()\n"
     ]
    },
    {
     "name": "stdout",
     "output_type": "stream",
     "text": [
      "Epoch 6/200:   2%|▎         | 5/200 [02:44<1:42:45, 31.62s/it, v_num=1, val_generative_mean_accuracy=0.626, val_generative_var_accuracy=-0.492, val_biolord_metric=0.0668, val_LOSS_KEYS.RECONSTRUCTION=198, val_LOSS_KEYS.UNKNOWN_ATTRIBUTE_PENALTY=166, generative_mean_accuracy=0, generative_var_accuracy=0, biolord_metric=0, reconstruction_loss=157, unknown_attribute_penalty_loss=1.03e+5]"
     ]
    },
    {
     "name": "stderr",
     "output_type": "stream",
     "text": [
      "/home/icb/dominik.klein/mambaforge/envs/ot_pert_biolord/lib/python3.12/site-packages/torch/utils/data/dataloader.py:558: UserWarning: This DataLoader will create 10 worker processes in total. Our suggested max number of worker in current system is 6, which is smaller than what this DataLoader is going to create. Please be aware that excessive worker creation might get DataLoader running slow or even freeze, lower the worker number to avoid potential slowness/freeze if necessary.\n",
      "  warnings.warn(_create_warning_msg(\n",
      "/home/icb/dominik.klein/mambaforge/envs/ot_pert_biolord/lib/python3.12/multiprocessing/popen_fork.py:66: RuntimeWarning: os.fork() was called. os.fork() is incompatible with multithreaded code, and JAX is multithreaded, so this will likely lead to a deadlock.\n",
      "  self.pid = os.fork()\n",
      "/home/icb/dominik.klein/mambaforge/envs/ot_pert_biolord/lib/python3.12/multiprocessing/popen_fork.py:66: RuntimeWarning: os.fork() was called. os.fork() is incompatible with multithreaded code, and JAX is multithreaded, so this will likely lead to a deadlock.\n",
      "  self.pid = os.fork()\n"
     ]
    },
    {
     "name": "stdout",
     "output_type": "stream",
     "text": [
      "Epoch 7/200:   3%|▎         | 6/200 [03:15<1:40:55, 31.22s/it, v_num=1, val_generative_mean_accuracy=0.687, val_generative_var_accuracy=0.281, val_biolord_metric=0.484, val_LOSS_KEYS.RECONSTRUCTION=191, val_LOSS_KEYS.UNKNOWN_ATTRIBUTE_PENALTY=152, generative_mean_accuracy=0, generative_var_accuracy=0, biolord_metric=0, reconstruction_loss=157, unknown_attribute_penalty_loss=1.03e+5]  "
     ]
    },
    {
     "name": "stderr",
     "output_type": "stream",
     "text": [
      "/home/icb/dominik.klein/mambaforge/envs/ot_pert_biolord/lib/python3.12/site-packages/torch/utils/data/dataloader.py:558: UserWarning: This DataLoader will create 10 worker processes in total. Our suggested max number of worker in current system is 6, which is smaller than what this DataLoader is going to create. Please be aware that excessive worker creation might get DataLoader running slow or even freeze, lower the worker number to avoid potential slowness/freeze if necessary.\n",
      "  warnings.warn(_create_warning_msg(\n",
      "/home/icb/dominik.klein/mambaforge/envs/ot_pert_biolord/lib/python3.12/multiprocessing/popen_fork.py:66: RuntimeWarning: os.fork() was called. os.fork() is incompatible with multithreaded code, and JAX is multithreaded, so this will likely lead to a deadlock.\n",
      "  self.pid = os.fork()\n",
      "/home/icb/dominik.klein/mambaforge/envs/ot_pert_biolord/lib/python3.12/multiprocessing/popen_fork.py:66: RuntimeWarning: os.fork() was called. os.fork() is incompatible with multithreaded code, and JAX is multithreaded, so this will likely lead to a deadlock.\n",
      "  self.pid = os.fork()\n"
     ]
    },
    {
     "name": "stdout",
     "output_type": "stream",
     "text": [
      "Epoch 8/200:   4%|▎         | 7/200 [03:45<1:39:44, 31.01s/it, v_num=1, val_generative_mean_accuracy=0.74, val_generative_var_accuracy=0.427, val_biolord_metric=0.583, val_LOSS_KEYS.RECONSTRUCTION=185, val_LOSS_KEYS.UNKNOWN_ATTRIBUTE_PENALTY=139, generative_mean_accuracy=0, generative_var_accuracy=0, biolord_metric=0, reconstruction_loss=156, unknown_attribute_penalty_loss=1.03e+5] "
     ]
    },
    {
     "name": "stderr",
     "output_type": "stream",
     "text": [
      "/home/icb/dominik.klein/mambaforge/envs/ot_pert_biolord/lib/python3.12/site-packages/torch/utils/data/dataloader.py:558: UserWarning: This DataLoader will create 10 worker processes in total. Our suggested max number of worker in current system is 6, which is smaller than what this DataLoader is going to create. Please be aware that excessive worker creation might get DataLoader running slow or even freeze, lower the worker number to avoid potential slowness/freeze if necessary.\n",
      "  warnings.warn(_create_warning_msg(\n",
      "/home/icb/dominik.klein/mambaforge/envs/ot_pert_biolord/lib/python3.12/multiprocessing/popen_fork.py:66: RuntimeWarning: os.fork() was called. os.fork() is incompatible with multithreaded code, and JAX is multithreaded, so this will likely lead to a deadlock.\n",
      "  self.pid = os.fork()\n",
      "/home/icb/dominik.klein/mambaforge/envs/ot_pert_biolord/lib/python3.12/multiprocessing/popen_fork.py:66: RuntimeWarning: os.fork() was called. os.fork() is incompatible with multithreaded code, and JAX is multithreaded, so this will likely lead to a deadlock.\n",
      "  self.pid = os.fork()\n"
     ]
    },
    {
     "name": "stdout",
     "output_type": "stream",
     "text": [
      "Epoch 9/200:   4%|▍         | 8/200 [04:16<1:39:08, 30.98s/it, v_num=1, val_generative_mean_accuracy=0.819, val_generative_var_accuracy=0.743, val_biolord_metric=0.781, val_LOSS_KEYS.RECONSTRUCTION=177, val_LOSS_KEYS.UNKNOWN_ATTRIBUTE_PENALTY=127, generative_mean_accuracy=0, generative_var_accuracy=0, biolord_metric=0, reconstruction_loss=156, unknown_attribute_penalty_loss=1.03e+5]"
     ]
    },
    {
     "name": "stderr",
     "output_type": "stream",
     "text": [
      "/home/icb/dominik.klein/mambaforge/envs/ot_pert_biolord/lib/python3.12/site-packages/torch/utils/data/dataloader.py:558: UserWarning: This DataLoader will create 10 worker processes in total. Our suggested max number of worker in current system is 6, which is smaller than what this DataLoader is going to create. Please be aware that excessive worker creation might get DataLoader running slow or even freeze, lower the worker number to avoid potential slowness/freeze if necessary.\n",
      "  warnings.warn(_create_warning_msg(\n",
      "/home/icb/dominik.klein/mambaforge/envs/ot_pert_biolord/lib/python3.12/multiprocessing/popen_fork.py:66: RuntimeWarning: os.fork() was called. os.fork() is incompatible with multithreaded code, and JAX is multithreaded, so this will likely lead to a deadlock.\n",
      "  self.pid = os.fork()\n",
      "/home/icb/dominik.klein/mambaforge/envs/ot_pert_biolord/lib/python3.12/multiprocessing/popen_fork.py:66: RuntimeWarning: os.fork() was called. os.fork() is incompatible with multithreaded code, and JAX is multithreaded, so this will likely lead to a deadlock.\n",
      "  self.pid = os.fork()\n"
     ]
    },
    {
     "name": "stdout",
     "output_type": "stream",
     "text": [
      "Epoch 10/200:   4%|▍         | 9/200 [04:47<1:37:57, 30.77s/it, v_num=1, val_generative_mean_accuracy=0.862, val_generative_var_accuracy=0.771, val_biolord_metric=0.817, val_LOSS_KEYS.RECONSTRUCTION=172, val_LOSS_KEYS.UNKNOWN_ATTRIBUTE_PENALTY=116, generative_mean_accuracy=0, generative_var_accuracy=0, biolord_metric=0, reconstruction_loss=156, unknown_attribute_penalty_loss=1.03e+5]"
     ]
    },
    {
     "name": "stderr",
     "output_type": "stream",
     "text": [
      "/home/icb/dominik.klein/mambaforge/envs/ot_pert_biolord/lib/python3.12/site-packages/torch/utils/data/dataloader.py:558: UserWarning: This DataLoader will create 10 worker processes in total. Our suggested max number of worker in current system is 6, which is smaller than what this DataLoader is going to create. Please be aware that excessive worker creation might get DataLoader running slow or even freeze, lower the worker number to avoid potential slowness/freeze if necessary.\n",
      "  warnings.warn(_create_warning_msg(\n",
      "/home/icb/dominik.klein/mambaforge/envs/ot_pert_biolord/lib/python3.12/multiprocessing/popen_fork.py:66: RuntimeWarning: os.fork() was called. os.fork() is incompatible with multithreaded code, and JAX is multithreaded, so this will likely lead to a deadlock.\n",
      "  self.pid = os.fork()\n",
      "/home/icb/dominik.klein/mambaforge/envs/ot_pert_biolord/lib/python3.12/multiprocessing/popen_fork.py:66: RuntimeWarning: os.fork() was called. os.fork() is incompatible with multithreaded code, and JAX is multithreaded, so this will likely lead to a deadlock.\n",
      "  self.pid = os.fork()\n"
     ]
    },
    {
     "name": "stdout",
     "output_type": "stream",
     "text": [
      "Epoch 11/200:   5%|▌         | 10/200 [05:17<1:37:16, 30.72s/it, v_num=1, val_generative_mean_accuracy=0.854, val_generative_var_accuracy=0.799, val_biolord_metric=0.827, val_LOSS_KEYS.RECONSTRUCTION=172, val_LOSS_KEYS.UNKNOWN_ATTRIBUTE_PENALTY=106, generative_mean_accuracy=0, generative_var_accuracy=0, biolord_metric=0, reconstruction_loss=156, unknown_attribute_penalty_loss=1.03e+5]"
     ]
    },
    {
     "name": "stderr",
     "output_type": "stream",
     "text": [
      "/home/icb/dominik.klein/mambaforge/envs/ot_pert_biolord/lib/python3.12/site-packages/torch/utils/data/dataloader.py:558: UserWarning: This DataLoader will create 10 worker processes in total. Our suggested max number of worker in current system is 6, which is smaller than what this DataLoader is going to create. Please be aware that excessive worker creation might get DataLoader running slow or even freeze, lower the worker number to avoid potential slowness/freeze if necessary.\n",
      "  warnings.warn(_create_warning_msg(\n",
      "/home/icb/dominik.klein/mambaforge/envs/ot_pert_biolord/lib/python3.12/multiprocessing/popen_fork.py:66: RuntimeWarning: os.fork() was called. os.fork() is incompatible with multithreaded code, and JAX is multithreaded, so this will likely lead to a deadlock.\n",
      "  self.pid = os.fork()\n",
      "/home/icb/dominik.klein/mambaforge/envs/ot_pert_biolord/lib/python3.12/multiprocessing/popen_fork.py:66: RuntimeWarning: os.fork() was called. os.fork() is incompatible with multithreaded code, and JAX is multithreaded, so this will likely lead to a deadlock.\n",
      "  self.pid = os.fork()\n"
     ]
    },
    {
     "name": "stdout",
     "output_type": "stream",
     "text": [
      "Epoch 12/200:   6%|▌         | 11/200 [05:50<1:38:55, 31.40s/it, v_num=1, val_generative_mean_accuracy=0.848, val_generative_var_accuracy=0.831, val_biolord_metric=0.839, val_LOSS_KEYS.RECONSTRUCTION=172, val_LOSS_KEYS.UNKNOWN_ATTRIBUTE_PENALTY=96, generative_mean_accuracy=0, generative_var_accuracy=0, biolord_metric=0, reconstruction_loss=156, unknown_attribute_penalty_loss=1.03e+5] "
     ]
    },
    {
     "name": "stderr",
     "output_type": "stream",
     "text": [
      "/home/icb/dominik.klein/mambaforge/envs/ot_pert_biolord/lib/python3.12/site-packages/torch/utils/data/dataloader.py:558: UserWarning: This DataLoader will create 10 worker processes in total. Our suggested max number of worker in current system is 6, which is smaller than what this DataLoader is going to create. Please be aware that excessive worker creation might get DataLoader running slow or even freeze, lower the worker number to avoid potential slowness/freeze if necessary.\n",
      "  warnings.warn(_create_warning_msg(\n",
      "/home/icb/dominik.klein/mambaforge/envs/ot_pert_biolord/lib/python3.12/multiprocessing/popen_fork.py:66: RuntimeWarning: os.fork() was called. os.fork() is incompatible with multithreaded code, and JAX is multithreaded, so this will likely lead to a deadlock.\n",
      "  self.pid = os.fork()\n",
      "/home/icb/dominik.klein/mambaforge/envs/ot_pert_biolord/lib/python3.12/multiprocessing/popen_fork.py:66: RuntimeWarning: os.fork() was called. os.fork() is incompatible with multithreaded code, and JAX is multithreaded, so this will likely lead to a deadlock.\n",
      "  self.pid = os.fork()\n"
     ]
    }
   ],
   "source": [
    "model.train(\n",
    "    max_epochs=200,\n",
    "    batch_size=512,\n",
    "    plan_kwargs=trainer_params,\n",
    "    early_stopping=True,\n",
    "    early_stopping_patience=20,\n",
    "    check_val_every_n_epoch=10,\n",
    "    num_workers=10,\n",
    "    enable_checkpointing=False\n",
    ")"
   ]
  },
  {
   "cell_type": "code",
   "execution_count": null,
   "id": "9ded1368-3e44-4384-84ca-d329bd4c4ef7",
   "metadata": {},
   "outputs": [],
   "source": [
    "def bool2idx(x):\n",
    "    \"\"\"\n",
    "    Returns the indices of the True-valued entries in a boolean array `x`\n",
    "    \"\"\"\n",
    "    return np.where(x)[0]\n",
    "\n",
    "def repeat_n(x, n):\n",
    "    \"\"\"\n",
    "    Returns an n-times repeated version of the Tensor x,\n",
    "    repetition dimension is axis 0\n",
    "    \"\"\"\n",
    "    # copy tensor to device BEFORE replicating it n times\n",
    "    device = \"cuda\" if torch.cuda.is_available() else \"cpu\"\n",
    "    return x.to(device).view(1, -1).repeat(n, 1)\n"
   ]
  },
  {
   "cell_type": "code",
   "execution_count": null,
   "id": "7450844a-fc30-4895-a938-6f788b50742f",
   "metadata": {},
   "outputs": [],
   "source": [
    "idx_test_control = np.where(\n",
    "    (adata.obs[\"split\"] == \"test\") & (adata.obs[\"control\"] == 1)\n",
    ")[0]\n",
    "\n",
    "adata_test_control = adata[idx_test_control].copy()\n",
    "\n",
    "idx_ood = np.where(((adata.obs[\"split\"] == \"ood\") & (adata.obs[\"control\"] == 0)))[0]\n",
    "\n",
    "adata_ood = adata[idx_ood].copy()\n",
    "dataset_ood = model.get_dataset(adata_ood)"
   ]
  },
  {
   "cell_type": "code",
   "execution_count": null,
   "id": "09589ed3-725c-4b0d-8bbf-f6b10a074ce3",
   "metadata": {},
   "outputs": [],
   "source": [
    "dataset_ood = model.get_dataset(adata_ood)"
   ]
  },
  {
   "cell_type": "code",
   "execution_count": null,
   "id": "4726f18b-ac20-47fe-ac85-d443b1c7a38a",
   "metadata": {},
   "outputs": [],
   "source": [
    "import torch\n",
    "from tqdm import tqdm"
   ]
  },
  {
   "cell_type": "code",
   "execution_count": null,
   "id": "c032499a-0789-46d1-a4bf-9cbd05cdfe3c",
   "metadata": {},
   "outputs": [],
   "source": [
    "dataset = dataset_ood"
   ]
  },
  {
   "cell_type": "code",
   "execution_count": null,
   "id": "251165f2-9c0b-42c6-898e-377b8767f3c8",
   "metadata": {},
   "outputs": [],
   "source": [
    "pert_categories_index = pd.Index(adata_ood.obs[\"condition\"].values, dtype=\"category\")\n",
    "allowed_cell_lines = []\n",
    "n_obs = 500\n",
    "\n",
    "cl_dict = {\n",
    "    torch.Tensor([0.]): \"A549\",\n",
    "    torch.Tensor([1.]): \"K562\",\n",
    "    torch.Tensor([2.]): \"MCF7\",\n",
    "}\n",
    "\n",
    "layer = \"X\" if \"X\" in dataset else \"layers\"\n",
    "cell_lines = [\"A549\", \"K562\", \"MCF7\"]\n",
    "\n",
    "predictions_dict = {}\n",
    "true_dict = {}\n",
    "for cell_drug_dose_comb in tqdm(\n",
    "    np.unique(pert_categories_index.values)):\n",
    "\n",
    "    if \"Vehicle\" in cell_drug_dose_comb:\n",
    "        continue\n",
    "\n",
    "    cell_type_idx = np.unique(dataset[\"cell_type\"][idx_all])\n",
    "    assert len(cell_type_idx) == 1\n",
    "    dataset_control = model.get_dataset(adata_test_control[adata_test_control.obs[\"_scvi_cell_type\"]==cell_type_idx[0]])\n",
    "    \n",
    "    bool_category = pert_categories_index.get_loc(cell_drug_dose_comb)\n",
    "    idx_all = bool2idx(bool_category)\n",
    "    idx = idx_all[0]  \n",
    "    dataset_comb = {}\n",
    "\n",
    "    \n",
    "    dataset_comb[layer] = dataset_control[layer].to(model.device)\n",
    "    dataset_comb[\"ind_x\"] = dataset_control[\"ind_x\"].to(model.device)\n",
    "    for key in dataset_control:\n",
    "        if key not in [layer, \"ind_x\"]:\n",
    "            dataset_comb[key] = repeat_n(dataset[key][idx, :], n_obs)\n",
    "\n",
    "    stop = False\n",
    "    for tensor, cl in cl_dict.items():\n",
    "        if (tensor == dataset[\"cell_type\"][idx]).all():\n",
    "            if cl not in cell_lines:\n",
    "                stop = True\n",
    "    if stop:\n",
    "        continue\n",
    "        \n",
    "    pred_mean, pred_std = model.module.get_expression(dataset_comb)\n",
    "    samples = np.array(torch.normal(pred_mean, pred_std).cpu())\n",
    "\n",
    "    predictions_dict[cell_drug_dose_comb] = samples\n",
    "    true_dict[cell_drug_dose_comb] = adata_ood[adata_ood.obs[\"condition\"]==cell_drug_dose_comb].X.A\n",
    "\n"
   ]
  },
  {
   "cell_type": "code",
   "execution_count": null,
   "id": "0059e774-4465-4c69-abab-ffc1ef1157cc",
   "metadata": {},
   "outputs": [],
   "source": [
    "np.savez(\"/lustre/groups/ml01/workspace/ot_perturbation/models/biolord/sciplex/biolord_ood_preds.npz\", **predictions_dict)\n",
    "np.savez(\"/lustre/groups/ml01/workspace/ot_perturbation/models/biolord/sciplex/biolord_ood_true.npz\", **true_dict)"
   ]
  },
  {
   "cell_type": "code",
   "execution_count": null,
   "id": "e348eee9-bb03-44b7-a13d-342ce103a548",
   "metadata": {},
   "outputs": [],
   "source": [
    "#with np.load(\"/lustre/groups/ml01/workspace/ot_perturbation/models/biolord/sciplex/biolord_ood_preds.npz\") as data:\n",
    "#    loaded_data = {key: data[key] for key in data.keys()}"
   ]
  },
  {
   "cell_type": "code",
   "execution_count": null,
   "id": "678b9978-418d-4a45-b944-93bd99aed8a0",
   "metadata": {},
   "outputs": [],
   "source": []
  }
 ],
 "metadata": {
  "kernelspec": {
   "display_name": "ot_pert_biolord",
   "language": "python",
   "name": "ot_pert_biolord"
  },
  "language_info": {
   "codemirror_mode": {
    "name": "ipython",
    "version": 3
   },
   "file_extension": ".py",
   "mimetype": "text/x-python",
   "name": "python",
   "nbconvert_exporter": "python",
   "pygments_lexer": "ipython3",
   "version": "3.12.2"
  }
 },
 "nbformat": 4,
 "nbformat_minor": 5
}
