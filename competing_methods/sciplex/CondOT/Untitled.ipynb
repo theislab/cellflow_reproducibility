{
 "cells": [
  {
   "cell_type": "code",
   "execution_count": null,
   "id": "802ccaa8-fb2d-4da0-a241-8eced373a72c",
   "metadata": {},
   "outputs": [],
   "source": [
    "from moscot.problems.generic._generic import ConditionalNeuralProblem\n",
    "import jax.numpy as jnp\n",
    "import scanpy as sc\n",
    "import pickle as pkl\n",
    "import jax\n",
    "from pathlib import Path\n",
    "import sys"
   ]
  },
  {
   "cell_type": "code",
   "execution_count": null,
   "id": "cda84a39-f56d-41a3-aaa3-cb28e0c6aba6",
   "metadata": {},
   "outputs": [],
   "source": []
  },
  {
   "cell_type": "code",
   "execution_count": null,
   "id": "b02ec7db-5d87-4929-8203-7c6089cc192a",
   "metadata": {},
   "outputs": [],
   "source": []
  },
  {
   "cell_type": "code",
   "execution_count": null,
   "id": "f68f7022-6178-413c-905d-40824d0e3a63",
   "metadata": {},
   "outputs": [],
   "source": []
  },
  {
   "cell_type": "code",
   "execution_count": null,
   "id": "2b67ccc6-5e33-432e-b790-b32dbc98bf18",
   "metadata": {},
   "outputs": [],
   "source": [
    "neural_problem = ConditionalNeuralProblem(\n",
    "    adata_train,\n",
    "    embedding_data=embedding_data,\n",
    ")\n",
    "\n",
    "neural_problem.prepare(\n",
    "    key=\"cov_drug\", joint_attr=\"X_pca\", policy=\"explicit\", subset=subset\n",
    ")\n",
    "\n",
    "print(\"INFO: Training the model\")\n",
    "neural_problem.solve(\n",
    "    cond_dim=494,\n",
    "    embedding_data=embedding_data,\n",
    "    best_model_metric=None,\n",
    "    iterations=100000,\n",
    "    train_set=1.0,\n",
    "    valid_freq=5000000,\n",
    "    compute_wasserstein_baseline=False,\n",
    "    pretrain_iters=0,\n",
    ")"
   ]
  },
  {
   "cell_type": "code",
   "execution_count": null,
   "id": "4f832316-a7bc-4c2c-8747-6a3a0b139f39",
   "metadata": {},
   "outputs": [],
   "source": [
    "batch_predictor = push_results = jax.vmap(\n",
    "    lambda x, cond: neural_problem.solution.push(x=x, cond=cond),\n",
    ")\n",
    "\n",
    "jitted_batch_predictor = jax.jit(batch_predictor)\n",
    "\n",
    "\n",
    "for name, adata in zip([\"ood\", \"test\"], [adata_ood, adata_test]):\n",
    "    print(\n",
    "        f\"INFO: Evaluating on {adata.obs['split_ood_finetuning'].unique()}\"\n",
    "        f\"(with {adata.shape[0]} cells and {len(adata.obs['cov_drug'].unique())} conditions)\"\n",
    "    )\n",
    "    for cell_line_condition in adata.obs[\"cov_drug\"].unique():\n",
    "        cell_line, condition = cell_line_condition.split(\"_\")\n",
    "        print(f\"INFO: Evaluating {cell_line}_{condition}\")\n",
    "        if condition == \"control\":\n",
    "            continue\n",
    "        \n",
    "        if name == \"ood\":\n",
    "            source_gex = adata_train[\n",
    "                (adata_train.obs[\"cell_type\"] == cell_line)\n",
    "                & (adata_train.obs[\"condition\"] == \"control\")\n",
    "            ].obsm[\"X_pca\"]\n",
    "        else:\n",
    "            source_gex = adata[\n",
    "                (adata.obs[\"cell_type\"] == cell_line)\n",
    "                & (adata.obs[\"condition\"] == \"control\")\n",
    "            ].obsm[\"X_pca\"]\n",
    "\n",
    "        try:\n",
    "            embedding = jnp.hstack(\n",
    "                [embedding_data[cell_line], embedding_data[condition]]\n",
    "            )\n",
    "        except KeyError:\n",
    "            print(f\"Skipping {cell_line}_{condition}\")\n",
    "            continue\n",
    "\n",
    "        encoded_condition = jnp.expand_dims(embedding, axis=0)\n",
    "        repeated_condition = jnp.repeat(\n",
    "            encoded_condition, source_gex.shape[0], axis=0\n",
    "        )\n",
    "\n",
    "        predicted_gex = jitted_batch_predictor(\n",
    "            source_gex, repeated_condition\n",
    "        ).reshape(-1, 25)\n"
   ]
  }
 ],
 "metadata": {
  "kernelspec": {
   "display_name": "Python 3 (ipykernel)",
   "language": "python",
   "name": "python3"
  },
  "language_info": {
   "codemirror_mode": {
    "name": "ipython",
    "version": 3
   },
   "file_extension": ".py",
   "mimetype": "text/x-python",
   "name": "python",
   "nbconvert_exporter": "python",
   "pygments_lexer": "ipython3",
   "version": "3.11.4"
  }
 },
 "nbformat": 4,
 "nbformat_minor": 5
}
