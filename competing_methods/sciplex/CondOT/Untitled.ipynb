{
 "cells": [
  {
   "cell_type": "code",
   "execution_count": 1,
   "id": "42214e5f-2658-494c-ab03-7205a671ff36",
   "metadata": {},
   "outputs": [
    {
     "name": "stderr",
     "output_type": "stream",
     "text": [
      "/home/icb/dominik.klein/mambaforge/envs/cfp/lib/python3.11/site-packages/tqdm/auto.py:21: TqdmWarning: IProgress not found. Please update jupyter and ipywidgets. See https://ipywidgets.readthedocs.io/en/stable/user_install.html\n",
      "  from .autonotebook import tqdm as notebook_tqdm\n"
     ]
    }
   ],
   "source": [
    "import scvi\n",
    "import scanpy as sc\n",
    "import os\n",
    "import pandas as pd\n",
    "import numpy as np\n",
    "from sklearn.metrics import r2_score\n",
    "from cfp.external import CFJaxSCVI"
   ]
  },
  {
   "cell_type": "code",
   "execution_count": 3,
   "id": "4c9e6159-e498-4d9d-9706-dc694429a836",
   "metadata": {},
   "outputs": [],
   "source": [
    "split = 5\n",
    "output_dir = \"/lustre/groups/ml01/workspace/ot_perturbation/data/sciplex\"\n",
    "adata_train = sc.read(os.path.join(output_dir, f\"adata_train_{split}.h5ad\"))\n",
    "adata_test = sc.read(os.path.join(output_dir, f\"adata_test_{split}.h5ad\"))\n",
    "adata_ood = sc.read(os.path.join(output_dir, f\"adata_ood_{split}.h5ad\")) "
   ]
  },
  {
   "cell_type": "code",
   "execution_count": 4,
   "id": "c38dfe7d-fe07-4fec-a707-b7e69b43c75a",
   "metadata": {},
   "outputs": [
    {
     "name": "stderr",
     "output_type": "stream",
     "text": [
      "/home/icb/dominik.klein/mambaforge/envs/cfp/lib/python3.11/site-packages/scvi/data/fields/_base_field.py:64: UserWarning: adata.X does not contain unnormalized count data. Are you sure this is what you want?\n",
      "  self.validate_field(adata)\n"
     ]
    },
    {
     "name": "stdout",
     "output_type": "stream",
     "text": [
      "\u001b[34mINFO    \u001b[0m Jax module moved to cu\u001b[1;92mda:0\u001b[0m.Note: Pytorch lightning will show GPU is not being used for the Trainer.       \n"
     ]
    },
    {
     "name": "stderr",
     "output_type": "stream",
     "text": [
      "/home/icb/dominik.klein/mambaforge/envs/cfp/lib/python3.11/site-packages/lightning/fabric/plugins/environments/slurm.py:191: The `srun` command is available on your system but is not used. HINT: If your intention is to run Lightning on SLURM, prepend your python command with `srun` like so: srun python /home/icb/dominik.klein/mambaforge/envs/cfp/lib/pyth ...\n",
      "/home/icb/dominik.klein/mambaforge/envs/cfp/lib/python3.11/site-packages/lightning/fabric/plugins/environments/slurm.py:191: The `srun` command is available on your system but is not used. HINT: If your intention is to run Lightning on SLURM, prepend your python command with `srun` like so: srun python /home/icb/dominik.klein/mambaforge/envs/cfp/lib/pyth ...\n",
      "GPU available: True (cuda), used: False\n",
      "TPU available: False, using: 0 TPU cores\n",
      "IPU available: False, using: 0 IPUs\n",
      "HPU available: False, using: 0 HPUs\n",
      "/home/icb/dominik.klein/mambaforge/envs/cfp/lib/python3.11/site-packages/lightning/pytorch/trainer/setup.py:187: GPU available but not used. You can set it by doing `Trainer(accelerator='gpu')`.\n",
      "/home/icb/dominik.klein/mambaforge/envs/cfp/lib/python3.11/site-packages/lightning/fabric/plugins/environments/slurm.py:191: The `srun` command is available on your system but is not used. HINT: If your intention is to run Lightning on SLURM, prepend your python command with `srun` like so: srun python /home/icb/dominik.klein/mambaforge/envs/cfp/lib/pyth ...\n",
      "/home/icb/dominik.klein/mambaforge/envs/cfp/lib/python3.11/site-packages/lightning/pytorch/trainer/connectors/data_connector.py:441: The 'train_dataloader' does not have many workers which may be a bottleneck. Consider increasing the value of the `num_workers` argument` to `num_workers=5` in the `DataLoader` to improve performance.\n",
      "/home/icb/dominik.klein/mambaforge/envs/cfp/lib/python3.11/site-packages/lightning/pytorch/trainer/connectors/data_connector.py:441: The 'val_dataloader' does not have many workers which may be a bottleneck. Consider increasing the value of the `num_workers` argument` to `num_workers=5` in the `DataLoader` to improve performance.\n"
     ]
    },
    {
     "name": "stdout",
     "output_type": "stream",
     "text": [
      "Epoch 1/2:   0%|          | 0/2 [00:00<?, ?it/s]"
     ]
    },
    {
     "name": "stderr",
     "output_type": "stream",
     "text": [
      "/home/icb/dominik.klein/mambaforge/envs/cfp/lib/python3.11/site-packages/lightning/pytorch/trainer/connectors/data_connector.py:385: You have overridden `transfer_batch_to_device` in `LightningModule` but have passed in a `LightningDataModule`. It will use the implementation from `LightningModule` instance.\n"
     ]
    },
    {
     "name": "stdout",
     "output_type": "stream",
     "text": [
      "Epoch 2/2: 100%|██████████| 2/2 [00:16<00:00,  7.57s/it, v_num=1, train_loss_step=36.1, train_loss_epoch=38.3]"
     ]
    },
    {
     "name": "stderr",
     "output_type": "stream",
     "text": [
      "`Trainer.fit` stopped: `max_epochs=2` reached.\n"
     ]
    },
    {
     "name": "stdout",
     "output_type": "stream",
     "text": [
      "Epoch 2/2: 100%|██████████| 2/2 [00:16<00:00,  8.34s/it, v_num=1, train_loss_step=36.1, train_loss_epoch=38.3]\n",
      "\u001b[34mINFO    \u001b[0m Input AnnData not setup with scvi-tools. attempting to transfer AnnData setup                             \n"
     ]
    },
    {
     "name": "stderr",
     "output_type": "stream",
     "text": [
      "/home/icb/dominik.klein/mambaforge/envs/cfp/lib/python3.11/site-packages/scvi/data/fields/_base_field.py:64: UserWarning: adata.X does not contain unnormalized count data. Are you sure this is what you want?\n",
      "  self.validate_field(adata)\n"
     ]
    },
    {
     "ename": "ValueError",
     "evalue": "cannot set a row with mismatched columns",
     "output_type": "error",
     "traceback": [
      "\u001b[0;31m---------------------------------------------------------------------------\u001b[0m",
      "\u001b[0;31mValueError\u001b[0m                                Traceback (most recent call last)",
      "Cell \u001b[0;32mIn[4], line 38\u001b[0m\n\u001b[1;32m     36\u001b[0m r2_train \u001b[38;5;241m=\u001b[39m \u001b[38;5;241m0.0\u001b[39m\n\u001b[1;32m     37\u001b[0m res\u001b[38;5;241m.\u001b[39mextend([r2_train, r2_ood])\n\u001b[0;32m---> 38\u001b[0m df_result\u001b[38;5;241m.\u001b[39mloc[config] \u001b[38;5;241m=\u001b[39mres\n\u001b[1;32m     39\u001b[0m df_result\u001b[38;5;241m.\u001b[39mto_csv(\u001b[38;5;124m'\u001b[39m\u001b[38;5;124mnew_result_hyper_sciplex_split_5.csv\u001b[39m\u001b[38;5;124m'\u001b[39m)\n\u001b[1;32m     40\u001b[0m \u001b[38;5;28mprint\u001b[39m(res)\n",
      "File \u001b[0;32m~/mambaforge/envs/cfp/lib/python3.11/site-packages/pandas/core/indexing.py:911\u001b[0m, in \u001b[0;36m_LocationIndexer.__setitem__\u001b[0;34m(self, key, value)\u001b[0m\n\u001b[1;32m    908\u001b[0m \u001b[38;5;28mself\u001b[39m\u001b[38;5;241m.\u001b[39m_has_valid_setitem_indexer(key)\n\u001b[1;32m    910\u001b[0m iloc \u001b[38;5;241m=\u001b[39m \u001b[38;5;28mself\u001b[39m \u001b[38;5;28;01mif\u001b[39;00m \u001b[38;5;28mself\u001b[39m\u001b[38;5;241m.\u001b[39mname \u001b[38;5;241m==\u001b[39m \u001b[38;5;124m\"\u001b[39m\u001b[38;5;124miloc\u001b[39m\u001b[38;5;124m\"\u001b[39m \u001b[38;5;28;01melse\u001b[39;00m \u001b[38;5;28mself\u001b[39m\u001b[38;5;241m.\u001b[39mobj\u001b[38;5;241m.\u001b[39miloc\n\u001b[0;32m--> 911\u001b[0m iloc\u001b[38;5;241m.\u001b[39m_setitem_with_indexer(indexer, value, \u001b[38;5;28mself\u001b[39m\u001b[38;5;241m.\u001b[39mname)\n",
      "File \u001b[0;32m~/mambaforge/envs/cfp/lib/python3.11/site-packages/pandas/core/indexing.py:1932\u001b[0m, in \u001b[0;36m_iLocIndexer._setitem_with_indexer\u001b[0;34m(self, indexer, value, name)\u001b[0m\n\u001b[1;32m   1929\u001b[0m     indexer, missing \u001b[38;5;241m=\u001b[39m convert_missing_indexer(indexer)\n\u001b[1;32m   1931\u001b[0m     \u001b[38;5;28;01mif\u001b[39;00m missing:\n\u001b[0;32m-> 1932\u001b[0m         \u001b[38;5;28mself\u001b[39m\u001b[38;5;241m.\u001b[39m_setitem_with_indexer_missing(indexer, value)\n\u001b[1;32m   1933\u001b[0m         \u001b[38;5;28;01mreturn\u001b[39;00m\n\u001b[1;32m   1935\u001b[0m \u001b[38;5;28;01mif\u001b[39;00m name \u001b[38;5;241m==\u001b[39m \u001b[38;5;124m\"\u001b[39m\u001b[38;5;124mloc\u001b[39m\u001b[38;5;124m\"\u001b[39m:\n\u001b[1;32m   1936\u001b[0m     \u001b[38;5;66;03m# must come after setting of missing\u001b[39;00m\n",
      "File \u001b[0;32m~/mambaforge/envs/cfp/lib/python3.11/site-packages/pandas/core/indexing.py:2306\u001b[0m, in \u001b[0;36m_iLocIndexer._setitem_with_indexer_missing\u001b[0;34m(self, indexer, value)\u001b[0m\n\u001b[1;32m   2303\u001b[0m     \u001b[38;5;28;01mif\u001b[39;00m is_list_like_indexer(value):\n\u001b[1;32m   2304\u001b[0m         \u001b[38;5;66;03m# must have conforming columns\u001b[39;00m\n\u001b[1;32m   2305\u001b[0m         \u001b[38;5;28;01mif\u001b[39;00m \u001b[38;5;28mlen\u001b[39m(value) \u001b[38;5;241m!=\u001b[39m \u001b[38;5;28mlen\u001b[39m(\u001b[38;5;28mself\u001b[39m\u001b[38;5;241m.\u001b[39mobj\u001b[38;5;241m.\u001b[39mcolumns):\n\u001b[0;32m-> 2306\u001b[0m             \u001b[38;5;28;01mraise\u001b[39;00m \u001b[38;5;167;01mValueError\u001b[39;00m(\u001b[38;5;124m\"\u001b[39m\u001b[38;5;124mcannot set a row with mismatched columns\u001b[39m\u001b[38;5;124m\"\u001b[39m)\n\u001b[1;32m   2308\u001b[0m     value \u001b[38;5;241m=\u001b[39m Series(value, index\u001b[38;5;241m=\u001b[39m\u001b[38;5;28mself\u001b[39m\u001b[38;5;241m.\u001b[39mobj\u001b[38;5;241m.\u001b[39mcolumns, name\u001b[38;5;241m=\u001b[39mindexer)\n\u001b[1;32m   2310\u001b[0m \u001b[38;5;28;01mif\u001b[39;00m \u001b[38;5;129;01mnot\u001b[39;00m \u001b[38;5;28mlen\u001b[39m(\u001b[38;5;28mself\u001b[39m\u001b[38;5;241m.\u001b[39mobj):\n\u001b[1;32m   2311\u001b[0m     \u001b[38;5;66;03m# We will ignore the existing dtypes instead of using\u001b[39;00m\n\u001b[1;32m   2312\u001b[0m     \u001b[38;5;66;03m#  internals.concat logic\u001b[39;00m\n",
      "\u001b[0;31mValueError\u001b[0m: cannot set a row with mismatched columns"
     ]
    }
   ],
   "source": [
    "n_latents = [10, 32, 64, 128, 256]\n",
    "n_hiddens = [512, 1024, 2048]\n",
    "\n",
    "\n",
    "df_result = pd.DataFrame(columns=['validation_loss', 'elbo_validation', 'reconstruction_loss_validation', 'kl_local_validation', 'kl_global_validation', 'disentangling_loss_validation', 'train_loss', 'rec_loss', 'kld_loss', 'elbo_train', 'reconstruction_loss_train', 'kl_local_train', 'kl_global_train', 'disentangling_loss_train', 'r2_train', 'r2_ood'])\n",
    "\n",
    "CFJaxSCVI.setup_anndata(adata_train)\n",
    "\n",
    "for n_latent in n_latents:\n",
    "    for n_hidden in n_hiddens:\n",
    "        vae = CFJaxSCVI(adata_train, gene_likelihood=\"normal\", n_latent = n_latent, n_hidden = n_hidden)\n",
    "\n",
    "        vae.train(\n",
    "            max_epochs=2,\n",
    "            batch_size=1024,\n",
    "            plan_kwargs=dict(\n",
    "                lr=1e-4,\n",
    "            ),\n",
    "            early_stopping=True,\n",
    "            early_stopping_patience=20,\n",
    "        )\n",
    "        config = str(n_latent)+ \"_\"+str(n_hidden) \n",
    "        res = [vae.history[k].iloc[-1].values[0] for k in vae.history.keys()]\n",
    "        #adata_train.obsm[\"X_scVI\"] = vae.get_latent_representation(adata_train)\n",
    "        #adata_train.obsm[\"reconstruction\"] = vae.get_reconstructed_expression(adata_train, give_mean=\"True\")\n",
    "        #try:\n",
    "        #    r2_train = r2_score(np.array(np.mean(adata_train.X, axis=0))[0,:], np.mean(adata_train.obsm[\"reconstruction\"], axis=0))\n",
    "        #except:\n",
    "        #    r2_train = 0.0\n",
    "        adata_ood.obsm[\"X_scVI\"] = vae.get_latent_representation(adata_ood)\n",
    "        adata_ood.obsm[\"reconstruction\"] = vae.get_reconstructed_expression(adata_ood, give_mean=\"True\")\n",
    "        try:\n",
    "            r2_ood = r2_score(np.mean(adata_ood.obsm[\"reconstruction\"], axis=0), np.array(np.mean(adata_ood.X, axis=0))[0,:])\n",
    "        except:\n",
    "            r2_ood = 0.0\n",
    "        r2_train = 0.0\n",
    "        res.extend([r2_train, r2_ood])\n",
    "        df_result.loc[config] =res\n",
    "        df_result.to_csv('new_result_hyper_sciplex_split_5.csv')\n",
    "        print(res)"
   ]
  },
  {
   "cell_type": "code",
   "execution_count": 10,
   "id": "857bd765-23bc-4f50-9f69-a1b2b0ea3c15",
   "metadata": {},
   "outputs": [],
   "source": [
    "df_result = pd.DataFrame(columns=['r2_ood'])\n"
   ]
  },
  {
   "cell_type": "code",
   "execution_count": 7,
   "id": "c78cec9a-4b05-47f9-88da-7cb9615d2231",
   "metadata": {},
   "outputs": [
    {
     "data": {
      "text/html": [
       "<div>\n",
       "<style scoped>\n",
       "    .dataframe tbody tr th:only-of-type {\n",
       "        vertical-align: middle;\n",
       "    }\n",
       "\n",
       "    .dataframe tbody tr th {\n",
       "        vertical-align: top;\n",
       "    }\n",
       "\n",
       "    .dataframe thead th {\n",
       "        text-align: right;\n",
       "    }\n",
       "</style>\n",
       "<table border=\"1\" class=\"dataframe\">\n",
       "  <thead>\n",
       "    <tr style=\"text-align: right;\">\n",
       "      <th></th>\n",
       "      <th>validation_loss</th>\n",
       "      <th>elbo_validation</th>\n",
       "      <th>reconstruction_loss_validation</th>\n",
       "      <th>kl_local_validation</th>\n",
       "      <th>kl_global_validation</th>\n",
       "      <th>disentangling_loss_validation</th>\n",
       "      <th>train_loss</th>\n",
       "      <th>rec_loss</th>\n",
       "      <th>kld_loss</th>\n",
       "      <th>elbo_train</th>\n",
       "      <th>reconstruction_loss_train</th>\n",
       "      <th>kl_local_train</th>\n",
       "      <th>kl_global_train</th>\n",
       "      <th>disentangling_loss_train</th>\n",
       "      <th>r2_train</th>\n",
       "      <th>r2_ood</th>\n",
       "    </tr>\n",
       "  </thead>\n",
       "  <tbody>\n",
       "  </tbody>\n",
       "</table>\n",
       "</div>"
      ],
      "text/plain": [
       "Empty DataFrame\n",
       "Columns: [validation_loss, elbo_validation, reconstruction_loss_validation, kl_local_validation, kl_global_validation, disentangling_loss_validation, train_loss, rec_loss, kld_loss, elbo_train, reconstruction_loss_train, kl_local_train, kl_global_train, disentangling_loss_train, r2_train, r2_ood]\n",
       "Index: []"
      ]
     },
     "execution_count": 7,
     "metadata": {},
     "output_type": "execute_result"
    }
   ],
   "source": [
    "df_result"
   ]
  },
  {
   "cell_type": "code",
   "execution_count": 8,
   "id": "27d3b03b-f2e9-4acf-9762-286be5e7b1f0",
   "metadata": {},
   "outputs": [
    {
     "data": {
      "text/plain": [
       "'10_512'"
      ]
     },
     "execution_count": 8,
     "metadata": {},
     "output_type": "execute_result"
    }
   ],
   "source": [
    "config"
   ]
  },
  {
   "cell_type": "code",
   "execution_count": 11,
   "id": "1ae7f4e7-d4dc-49a7-b8e3-dfb79ea5413b",
   "metadata": {},
   "outputs": [],
   "source": [
    "df_result.loc[config] = r2_ood"
   ]
  },
  {
   "cell_type": "code",
   "execution_count": 12,
   "id": "a791c492-1b02-4d28-a45a-f00dd2a3004c",
   "metadata": {},
   "outputs": [
    {
     "data": {
      "text/html": [
       "<div>\n",
       "<style scoped>\n",
       "    .dataframe tbody tr th:only-of-type {\n",
       "        vertical-align: middle;\n",
       "    }\n",
       "\n",
       "    .dataframe tbody tr th {\n",
       "        vertical-align: top;\n",
       "    }\n",
       "\n",
       "    .dataframe thead th {\n",
       "        text-align: right;\n",
       "    }\n",
       "</style>\n",
       "<table border=\"1\" class=\"dataframe\">\n",
       "  <thead>\n",
       "    <tr style=\"text-align: right;\">\n",
       "      <th></th>\n",
       "      <th>r2_ood</th>\n",
       "    </tr>\n",
       "  </thead>\n",
       "  <tbody>\n",
       "    <tr>\n",
       "      <th>10_512</th>\n",
       "      <td>0.94228</td>\n",
       "    </tr>\n",
       "  </tbody>\n",
       "</table>\n",
       "</div>"
      ],
      "text/plain": [
       "         r2_ood\n",
       "10_512  0.94228"
      ]
     },
     "execution_count": 12,
     "metadata": {},
     "output_type": "execute_result"
    }
   ],
   "source": [
    "df_result"
   ]
  },
  {
   "cell_type": "code",
   "execution_count": null,
   "id": "2a99011e-2d8a-44f3-b7a8-08eea4805a05",
   "metadata": {},
   "outputs": [],
   "source": []
  }
 ],
 "metadata": {
  "kernelspec": {
   "display_name": "cfp",
   "language": "python",
   "name": "cfp"
  },
  "language_info": {
   "codemirror_mode": {
    "name": "ipython",
    "version": 3
   },
   "file_extension": ".py",
   "mimetype": "text/x-python",
   "name": "python",
   "nbconvert_exporter": "python",
   "pygments_lexer": "ipython3",
   "version": "3.11.9"
  }
 },
 "nbformat": 4,
 "nbformat_minor": 5
}
