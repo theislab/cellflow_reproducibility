{
 "cells": [
  {
   "cell_type": "code",
   "execution_count": 1,
   "id": "b368e37d-0927-441e-8fdc-d4b5c3dc8149",
   "metadata": {},
   "outputs": [],
   "source": [
    "# TODO check right order in DEG"
   ]
  },
  {
   "cell_type": "code",
   "execution_count": 1,
   "id": "b9f12043-6a3a-4a4d-ba04-b8d0804548dd",
   "metadata": {},
   "outputs": [],
   "source": [
    "import functools\n",
    "\n",
    "import jax\n",
    "import numpy as np\n",
    "import scanpy as sc\n",
    "\n",
    "from cfp.metrics import compute_metrics_fast"
   ]
  },
  {
   "cell_type": "code",
   "execution_count": 2,
   "id": "82989c4f-28f1-4a23-907a-f24297518d88",
   "metadata": {},
   "outputs": [],
   "source": [
    "adata_train_path = \"/lustre/groups/ml01/workspace/ot_perturbation/data/sciplex/adata_train_biolord_split_30.h5ad\"\n",
    "adata_test_path = \"/lustre/groups/ml01/workspace/ot_perturbation/data/sciplex/adata_test_biolord_split_30.h5ad\"\n",
    "adata_ood_path = \"/lustre/groups/ml01/workspace/ot_perturbation/data/sciplex/adata_ood_biolord_split_30.h5ad\""
   ]
  },
  {
   "cell_type": "code",
   "execution_count": 3,
   "id": "d2712f07-9396-463a-907b-1510ed579f53",
   "metadata": {},
   "outputs": [],
   "source": [
    "adata_train = sc.read(adata_train_path)\n",
    "adata_test = sc.read(adata_test_path)\n",
    "adata_ood = sc.read(adata_ood_path)\n",
    "#adata_pred_test = sc.read(\"/lustre/groups/ml01/workspace/ot_perturbation/models/chemcpa/sciplex/adata_biolord_test_predictions.h5ad\")\n",
    "#adata_pred_ood = sc.read(\"/lustre/groups/ml01/workspace/ot_perturbation/models/chemcpa/sciplex/adata_biolord_ood_predictions.h5ad\")"
   ]
  },
  {
   "cell_type": "code",
   "execution_count": 4,
   "id": "cd337727-a8df-4adf-8547-678a655933ac",
   "metadata": {},
   "outputs": [],
   "source": [
    "adata_preds = sc.read_h5ad(\"/lustre/groups/ml01/workspace/ot_perturbation/data/sciplex/chemcpa/adata_biolord_split_30_pred.h5ad\")"
   ]
  },
  {
   "cell_type": "code",
   "execution_count": 5,
   "id": "56005b05-912a-4c77-8f61-49d8fac2a9e6",
   "metadata": {},
   "outputs": [
    {
     "data": {
      "text/plain": [
       "pert_category\n",
       "MCF7_Givinostat_(ITF2357)_10.0                  1495\n",
       "MCF7_Givinostat_(ITF2357)_100.0                 1489\n",
       "MCF7_Belinostat_(PXD101)_10000.0                1473\n",
       "MCF7_Dacinostat_(LAQ824)_10.0                   1450\n",
       "MCF7_Quisinostat_(JNJ-26481585)_2HCl_10000.0    1448\n",
       "MCF7_Dacinostat_(LAQ824)_10000.0                1435\n",
       "MCF7_Belinostat_(PXD101)_10.0                   1433\n",
       "MCF7_Givinostat_(ITF2357)_10000.0               1418\n",
       "MCF7_Quisinostat_(JNJ-26481585)_2HCl_1000.0     1405\n",
       "MCF7_Givinostat_(ITF2357)_1000.0                1397\n",
       "MCF7_Belinostat_(PXD101)_100.0                  1383\n",
       "MCF7_Belinostat_(PXD101)_1000.0                 1380\n",
       "MCF7_Tanespimycin_(17-AAG)_10.0                 1372\n",
       "MCF7_TAK-901_100.0                              1363\n",
       "MCF7_Dacinostat_(LAQ824)_1000.0                 1358\n",
       "MCF7_Alvespimycin_(17-DMAG)_HCl_10.0            1351\n",
       "MCF7_Quisinostat_(JNJ-26481585)_2HCl_10.0       1340\n",
       "MCF7_Quisinostat_(JNJ-26481585)_2HCl_100.0      1331\n",
       "MCF7_Dacinostat_(LAQ824)_100.0                  1319\n",
       "MCF7_TAK-901_10.0                               1305\n",
       "MCF7_Hesperadin_10.0                            1279\n",
       "MCF7_Flavopiridol_HCl_10.0                      1255\n",
       "MCF7_Tanespimycin_(17-AAG)_100.0                1252\n",
       "MCF7_TAK-901_1000.0                             1242\n",
       "A549_Alvespimycin_(17-DMAG)_HCl_10.0            1224\n",
       "K562_Belinostat_(PXD101)_10.0                   1220\n",
       "K562_Tanespimycin_(17-AAG)_10.0                 1218\n",
       "MCF7_Alvespimycin_(17-DMAG)_HCl_100.0           1217\n",
       "A549_Belinostat_(PXD101)_100.0                  1216\n",
       "A549_Tanespimycin_(17-AAG)_10.0                 1214\n",
       "K562_Alvespimycin_(17-DMAG)_HCl_10.0            1214\n",
       "MCF7_Hesperadin_10000.0                         1211\n",
       "MCF7_Hesperadin_1000.0                          1207\n",
       "MCF7_Alvespimycin_(17-DMAG)_HCl_1000.0          1206\n",
       "K562_Givinostat_(ITF2357)_10.0                  1206\n",
       "K562_Belinostat_(PXD101)_100.0                  1203\n",
       "A549_Dacinostat_(LAQ824)_10.0                   1200\n",
       "Name: count, dtype: int64"
      ]
     },
     "execution_count": 5,
     "metadata": {},
     "output_type": "execute_result"
    }
   ],
   "source": [
    "adata_preds.obs[\"pert_category\"].value_counts()"
   ]
  },
  {
   "cell_type": "code",
   "execution_count": 6,
   "id": "942243e9-e9ae-4a88-b766-f53eab44d2a2",
   "metadata": {},
   "outputs": [],
   "source": [
    "adata_preds.obs[\"condition_new\"] = adata_preds.obs[\"pert_category\"]"
   ]
  },
  {
   "cell_type": "code",
   "execution_count": 7,
   "id": "ba044947-d642-4622-8f22-5f7f1148e935",
   "metadata": {},
   "outputs": [],
   "source": [
    "adata_pred_ood = adata_preds"
   ]
  },
  {
   "cell_type": "code",
   "execution_count": 8,
   "id": "13144df2-e083-4a24-a05c-e2a769972014",
   "metadata": {},
   "outputs": [],
   "source": [
    "#adata_pred_test.obs[\"condition_new\"] = adata_pred_test.obs.apply(lambda x: x[\"cell_line\"] + \"_\" + x[\"perturbation\"] + \"_\" + str(x[\"dose\"]), axis=1)\n",
    "#adata_pred_ood.obs[\"condition_new\"] = adata_pred_ood.obs.apply(lambda x: x[\"cell_line\"] + \"_\" + x[\"perturbation\"] + \"_\" + str(x[\"dose\"]), axis=1)"
   ]
  },
  {
   "cell_type": "code",
   "execution_count": 9,
   "id": "ab3658eb-b009-413e-8f69-899d337b6982",
   "metadata": {},
   "outputs": [],
   "source": [
    "OBSM_KEY_DATA_EMBEDDING = \"X_pca\""
   ]
  },
  {
   "cell_type": "code",
   "execution_count": 10,
   "id": "37a50bb9-4365-4e01-8dee-36b9f0fd1f07",
   "metadata": {},
   "outputs": [],
   "source": [
    "def reconstruct_data(embedding: np.ndarray, projection_matrix: np.ndarray, mean_to_add: np.ndarray) -> np.ndarray:\n",
    "    return np.matmul(embedding, projection_matrix.T) + mean_to_add\n",
    "\n",
    "\n",
    "def project_data(data: np.ndarray, projection_matrix: np.ndarray, mean_to_subtract: np.ndarray) -> np.ndarray:\n",
    "    return np.matmul(data - mean_to_subtract, projection_matrix)"
   ]
  },
  {
   "cell_type": "code",
   "execution_count": 11,
   "id": "8f61d8c9-2dce-4996-80f8-4688432d5066",
   "metadata": {},
   "outputs": [],
   "source": [
    "#project_data_fn = functools.partial(\n",
    "#    project_data,\n",
    "#    projection_matrix=adata_train.varm[\"PCs\"],\n",
    "#    mean_to_subtract=adata_train.varm[\"X_train_mean\"].T,\n",
    "#)"
   ]
  },
  {
   "cell_type": "code",
   "execution_count": 13,
   "id": "17ff3dbb-e383-4197-8ff8-8c1230cbe2d0",
   "metadata": {},
   "outputs": [],
   "source": [
    "#test_data_target_encoded = {}\n",
    "#test_data_target_decoded = {}\n",
    "#test_data_target_encoded_predicted = {}\n",
    "#test_data_target_decoded_predicted = {}\n",
    "#for cond in adata_test.obs[\"condition\"].cat.categories:\n",
    "#    if \"Vehicle\" in cond:\n",
    "#        continue\n",
    "#    src_str = list(adata_test[adata_test.obs[\"condition\"] == cond].obs[\"cell_type\"].unique())\n",
    "#    assert len(src_str) == 1\n",
    "#    pred = adata_pred_test[adata_pred_test.obs[\"condition_new\"] == cond].X\n",
    "\n",
    "#    test_data_target_encoded[cond] = adata_test[adata_test.obs[\"condition\"] == cond].obsm[OBSM_KEY_DATA_EMBEDDING]\n",
    "#    test_data_target_decoded[cond] = adata_test[adata_test.obs[\"condition\"] == cond].X.A\n",
    "#    test_data_target_decoded_predicted[cond] = pred\n",
    "#    test_data_target_encoded_predicted[cond] = project_data_fn(pred)\n",
    "\n",
    "ood_data_target_encoded = {}\n",
    "ood_data_target_decoded = {}\n",
    "ood_data_target_encoded_predicted = {}\n",
    "ood_data_target_decoded_predicted = {}\n",
    "for cond in adata_ood.obs[\"condition\"].cat.categories:\n",
    "    if \"Vehicle\" in cond:\n",
    "        continue\n",
    "    src_str = list(adata_ood[adata_ood.obs[\"condition\"] == cond].obs[\"cell_type\"].unique())\n",
    "    assert len(src_str) == 1\n",
    "    pred = adata_pred_ood[adata_pred_ood.obs[\"condition_new\"] == cond].X\n",
    "    ood_data_target_encoded[cond] = adata_ood[adata_ood.obs[\"condition\"] == cond].obsm[OBSM_KEY_DATA_EMBEDDING]\n",
    "    ood_data_target_decoded[cond] = adata_ood[adata_ood.obs[\"condition\"] == cond].X.toarray()\n",
    "    \n",
    "    ood_data_target_decoded_predicted[cond] = pred\n",
    "    #ood_data_target_encoded_predicted[cond] = project_data_fn(pred)"
   ]
  },
  {
   "cell_type": "code",
   "execution_count": 14,
   "id": "e54c9ea6-c94a-4f52-a55d-bbae67de4f7e",
   "metadata": {},
   "outputs": [],
   "source": [
    "#test_deg_dict = {\n",
    "#    k: v\n",
    "#    for k, v in adata_train.uns[\"rank_genes_groups_cov_all\"].items()\n",
    "#    if k in test_data_target_decoded_predicted.keys()\n",
    "#}\n",
    "ood_deg_dict = {\n",
    "    k: v\n",
    "    for k, v in adata_train.uns[\"rank_genes_groups_cov_all\"].items()\n",
    "    if k in ood_data_target_decoded_predicted.keys()\n",
    "}"
   ]
  },
  {
   "cell_type": "code",
   "execution_count": 15,
   "id": "77f59e77-2476-4d36-945f-0726e4c24c0a",
   "metadata": {},
   "outputs": [],
   "source": [
    "def get_mask(x, y):\n",
    "    return x[:, [gene in y for gene in adata_train.var_names]]\n",
    "\n",
    "\n",
    "ood_deg_target_decoded_predicted = jax.tree_util.tree_map(get_mask, ood_data_target_decoded_predicted, ood_deg_dict)\n",
    "ood_deg_target_decoded = jax.tree_util.tree_map(get_mask, ood_data_target_decoded, ood_deg_dict)\n",
    "\n",
    "#test_deg_target_decoded_predicted = jax.tree_util.tree_map(get_mask, test_data_target_decoded_predicted, test_deg_dict)\n",
    "#test_deg_target_decoded = jax.tree_util.tree_map(get_mask, test_data_target_decoded, test_deg_dict)\n"
   ]
  },
  {
   "cell_type": "code",
   "execution_count": 16,
   "id": "2ef43484-db89-4b3c-95bc-996bbf9436f5",
   "metadata": {},
   "outputs": [],
   "source": [
    "#test_metrics_encoded = jax.tree_util.tree_map(compute_metrics, test_data_target_encoded, test_data_target_encoded_predicted)\n",
    "#mean_test_metrics_encoded = compute_mean_metrics(test_metrics_encoded, prefix=\"encoded_test_\")\n",
    "\n",
    "#test_metrics_decoded = jax.tree_util.tree_map(compute_metrics, test_data_target_decoded, test_data_target_decoded_predicted)\n",
    "#mean_test_metrics_decoded = compute_mean_metrics(test_metrics_decoded, prefix=\"decoded_test_\")"
   ]
  },
  {
   "cell_type": "code",
   "execution_count": 19,
   "id": "739f22af-126a-438d-aaf7-5a122c14e009",
   "metadata": {},
   "outputs": [],
   "source": [
    "from cfp.metrics import compute_metrics_fast, compute_mean_metrics"
   ]
  },
  {
   "cell_type": "code",
   "execution_count": 20,
   "id": "54ad57f1-37ce-4963-b6bb-1441a8e7e434",
   "metadata": {},
   "outputs": [],
   "source": [
    "#ood_metrics_encoded = jax.tree_util.tree_map(\n",
    "#    compute_metrics, ood_data_target_encoded, ood_data_target_encoded_predicted\n",
    "#)\n",
    "#mean_ood_metrics_encoded = compute_mean_metrics(ood_metrics_encoded, prefix=\"encoded_ood_\")\n",
    "\n",
    "ood_metrics_decoded = jax.tree_util.tree_map(\n",
    "    compute_metrics_fast, ood_data_target_decoded, ood_data_target_decoded_predicted\n",
    ")\n",
    "mean_ood_metrics_decoded = compute_mean_metrics(ood_metrics_decoded, prefix=\"decoded_ood_\")"
   ]
  },
  {
   "cell_type": "code",
   "execution_count": 21,
   "id": "1e1c98c9-78ef-447c-b1e1-9779f2edc8af",
   "metadata": {},
   "outputs": [
    {
     "data": {
      "text/plain": [
       "{'decoded_ood_r_squared': 0.8980501906291859,\n",
       " 'decoded_ood_e_distance': 5.1997032814852515,\n",
       " 'decoded_ood_mmd_distance': 0.21532545581057266}"
      ]
     },
     "execution_count": 21,
     "metadata": {},
     "output_type": "execute_result"
    }
   ],
   "source": [
    "mean_ood_metrics_decoded"
   ]
  },
  {
   "cell_type": "code",
   "execution_count": null,
   "id": "3cd588e5-1471-4dd3-b366-f4b2e256d7e7",
   "metadata": {},
   "outputs": [],
   "source": []
  },
  {
   "cell_type": "code",
   "execution_count": null,
   "id": "dbe8d917-24e2-441e-94f8-70e043d15a5a",
   "metadata": {},
   "outputs": [],
   "source": []
  },
  {
   "cell_type": "code",
   "execution_count": 21,
   "id": "3e1c286a-2737-4342-a3ba-f68e93ced6ab",
   "metadata": {},
   "outputs": [],
   "source": [
    "deg_ood_metrics = jax.tree_util.tree_map(compute_metrics, ood_deg_target_decoded, ood_deg_target_decoded_predicted)\n",
    "deg_mean_ood_metrics = compute_mean_metrics(deg_ood_metrics, prefix=\"deg_ood_\")\n",
    "\n",
    "#deg_test_metrics = jax.tree_util.tree_map(compute_metrics, test_deg_target_decoded, test_deg_target_decoded_predicted)\n",
    "#deg_mean_test_metrics = compute_mean_metrics(deg_test_metrics, prefix=\"deg_test_\")\n"
   ]
  },
  {
   "cell_type": "code",
   "execution_count": 22,
   "id": "b63873d5-62aa-4fd0-adc4-7c6a13ff643e",
   "metadata": {},
   "outputs": [
    {
     "data": {
      "text/plain": [
       "{'decoded_ood_r_squared': 0.8980501904082919,\n",
       " 'decoded_ood_sinkhorn_div_1': 24.087488019788587,\n",
       " 'decoded_ood_sinkhorn_div_10': 10.629761876286688,\n",
       " 'decoded_ood_sinkhorn_div_100': 2.7574647439492717,\n",
       " 'decoded_ood_e_distance': 5.1997032814852515,\n",
       " 'decoded_ood_mmd': 0.21532548593854323}"
      ]
     },
     "execution_count": 22,
     "metadata": {},
     "output_type": "execute_result"
    }
   ],
   "source": [
    "mean_ood_metrics_decoded"
   ]
  },
  {
   "cell_type": "code",
   "execution_count": 24,
   "id": "5cd17b55-deba-42f6-82a5-a736c1fd8fa9",
   "metadata": {},
   "outputs": [
    {
     "data": {
      "text/plain": [
       "{'deg_ood_r_squared': 0.7707121466237041,\n",
       " 'deg_ood_sinkhorn_div_1': 4.967486492484002,\n",
       " 'deg_ood_sinkhorn_div_10': 2.5098944519822664,\n",
       " 'deg_ood_sinkhorn_div_100': 2.1683613976111284,\n",
       " 'deg_ood_e_distance': 4.266040287749948,\n",
       " 'deg_ood_mmd': 0.19586701085056843}"
      ]
     },
     "execution_count": 24,
     "metadata": {},
     "output_type": "execute_result"
    }
   ],
   "source": [
    "deg_mean_ood_metrics"
   ]
  },
  {
   "cell_type": "code",
   "execution_count": null,
   "id": "49a4ba22-77fc-4b6b-94cd-3a72c9a36752",
   "metadata": {},
   "outputs": [],
   "source": []
  },
  {
   "cell_type": "code",
   "execution_count": 20,
   "id": "80213bc7-c9a2-4ce5-8feb-48f769ff5c87",
   "metadata": {},
   "outputs": [
    {
     "data": {
      "text/plain": [
       "{'encoded_test_r_squared': 0.9663768763027192,\n",
       " 'encoded_test_sinkhorn_div_1': 5.592183408591178,\n",
       " 'encoded_test_sinkhorn_div_10': 0.9784451699041209,\n",
       " 'encoded_test_sinkhorn_div_100': 0.29335878487668604,\n",
       " 'encoded_test_e_distance': 0.4529303384860695,\n",
       " 'encoded_test_mmd': 0.30223043528903787}"
      ]
     },
     "execution_count": 20,
     "metadata": {},
     "output_type": "execute_result"
    }
   ],
   "source": [
    "mean_test_metrics_encoded"
   ]
  },
  {
   "cell_type": "code",
   "execution_count": 21,
   "id": "836ae463-bd9c-477c-8043-647a61970802",
   "metadata": {},
   "outputs": [
    {
     "data": {
      "text/plain": [
       "{'decoded_test_r_squared': 0.9776814478837761,\n",
       " 'decoded_test_sinkhorn_div_1': 35.21613923791555,\n",
       " 'decoded_test_sinkhorn_div_10': 20.111658681658465,\n",
       " 'decoded_test_sinkhorn_div_100': 1.0817417683664428,\n",
       " 'decoded_test_e_distance': 1.142540392218624,\n",
       " 'decoded_test_mmd': 0.37149997041274985}"
      ]
     },
     "execution_count": 21,
     "metadata": {},
     "output_type": "execute_result"
    }
   ],
   "source": [
    "mean_test_metrics_decoded"
   ]
  },
  {
   "cell_type": "code",
   "execution_count": 22,
   "id": "570aa9f0-7bdd-416f-bca1-b052a2074cb9",
   "metadata": {},
   "outputs": [
    {
     "data": {
      "text/plain": [
       "1"
      ]
     },
     "execution_count": 22,
     "metadata": {},
     "output_type": "execute_result"
    }
   ],
   "source": [
    "1"
   ]
  },
  {
   "cell_type": "code",
   "execution_count": 35,
   "id": "d0b18eca-d40b-4f80-9e44-e19026b107ee",
   "metadata": {},
   "outputs": [
    {
     "data": {
      "text/plain": [
       "{'decoded_ood_r_squared': 0.9217317916065486,\n",
       " 'decoded_ood_sinkhorn_div_1': 23.054601695086504,\n",
       " 'decoded_ood_sinkhorn_div_10': 9.644866092784985,\n",
       " 'decoded_ood_sinkhorn_div_100': 1.9331934129869617,\n",
       " 'decoded_ood_e_distance': 3.578220447385841,\n",
       " 'decoded_ood_mmd': 0.2573978977324021}"
      ]
     },
     "execution_count": 35,
     "metadata": {},
     "output_type": "execute_result"
    }
   ],
   "source": [
    "mean_ood_metrics_decoded"
   ]
  },
  {
   "cell_type": "code",
   "execution_count": 36,
   "id": "6310d701-1c96-4c70-8e1d-405ab46117c5",
   "metadata": {},
   "outputs": [
    {
     "data": {
      "text/plain": [
       "{'encoded_ood_r_squared': 0.8452027128954586,\n",
       " 'encoded_ood_sinkhorn_div_1': 4.813160806088834,\n",
       " 'encoded_ood_sinkhorn_div_10': 1.7860163869084538,\n",
       " 'encoded_ood_sinkhorn_div_100': 1.4259318918795199,\n",
       " 'encoded_ood_e_distance': 2.7788584662605174,\n",
       " 'encoded_ood_mmd': 0.22473051721413326}"
      ]
     },
     "execution_count": 36,
     "metadata": {},
     "output_type": "execute_result"
    }
   ],
   "source": [
    "mean_ood_metrics_encoded"
   ]
  },
  {
   "cell_type": "code",
   "execution_count": 39,
   "id": "73de072b-ec74-4476-b4f6-d056a869bdd2",
   "metadata": {},
   "outputs": [
    {
     "data": {
      "text/plain": [
       "{'deg_ood_r_squared': 0.8268589686731178,\n",
       " 'deg_ood_sinkhorn_div_1': 4.0035812242611035,\n",
       " 'deg_ood_sinkhorn_div_10': 1.6815547105428335,\n",
       " 'deg_ood_sinkhorn_div_100': 1.44983539146346,\n",
       " 'deg_ood_e_distance': 2.855253432602434,\n",
       " 'deg_ood_mmd': 0.21982185384478872}"
      ]
     },
     "execution_count": 39,
     "metadata": {},
     "output_type": "execute_result"
    }
   ],
   "source": [
    "deg_mean_ood_metrics"
   ]
  },
  {
   "cell_type": "code",
   "execution_count": 45,
   "id": "4d3e8921-b28a-49cc-a607-95143dbcce6e",
   "metadata": {},
   "outputs": [
    {
     "data": {
      "text/plain": [
       "{'r_squared': 0.8533951642409745,\n",
       " 'sinkhorn_div_1': 20.31417579650879,\n",
       " 'sinkhorn_div_10': 6.025485992431641,\n",
       " 'sinkhorn_div_100': 3.3319061279296873,\n",
       " 'e_distance': 6.475952334054742,\n",
       " 'mmd': 0.23551200519238286}"
      ]
     },
     "execution_count": 45,
     "metadata": {},
     "output_type": "execute_result"
    }
   ],
   "source": [
    "compute_mean_metrics({k:v for k,v in ood_metrics_decoded.items() if \"10000\" in k})"
   ]
  },
  {
   "cell_type": "code",
   "execution_count": 46,
   "id": "e325d03c-73d8-409b-920a-6921254d8bf0",
   "metadata": {},
   "outputs": [
    {
     "data": {
      "text/plain": [
       "3000"
      ]
     },
     "execution_count": 46,
     "metadata": {},
     "output_type": "execute_result"
    }
   ],
   "source": [
    "adata_pred_ood[adata_pred_ood.obs[\"perturbation\"]==\"Vehicle\"].n_obs"
   ]
  },
  {
   "cell_type": "code",
   "execution_count": 48,
   "id": "c5c6251e-4f5f-4b20-a2ed-2e635a4eb277",
   "metadata": {},
   "outputs": [
    {
     "data": {
      "text/html": [
       "<div>\n",
       "<style scoped>\n",
       "    .dataframe tbody tr th:only-of-type {\n",
       "        vertical-align: middle;\n",
       "    }\n",
       "\n",
       "    .dataframe tbody tr th {\n",
       "        vertical-align: top;\n",
       "    }\n",
       "\n",
       "    .dataframe thead th {\n",
       "        text-align: right;\n",
       "    }\n",
       "</style>\n",
       "<table border=\"1\" class=\"dataframe\">\n",
       "  <thead>\n",
       "    <tr style=\"text-align: right;\">\n",
       "      <th></th>\n",
       "      <th>cell_type</th>\n",
       "      <th>dose</th>\n",
       "      <th>dose_character</th>\n",
       "      <th>dose_pattern</th>\n",
       "      <th>g1s_score</th>\n",
       "      <th>g2m_score</th>\n",
       "      <th>pathway</th>\n",
       "      <th>pathway_level_1</th>\n",
       "      <th>pathway_level_2</th>\n",
       "      <th>product_dose</th>\n",
       "      <th>...</th>\n",
       "      <th>cell_line</th>\n",
       "      <th>logdose</th>\n",
       "      <th>condition</th>\n",
       "      <th>pubchem_name</th>\n",
       "      <th>pubchem_ID</th>\n",
       "      <th>smiles</th>\n",
       "      <th>control</th>\n",
       "      <th>ood</th>\n",
       "      <th>is_ood</th>\n",
       "      <th>split</th>\n",
       "    </tr>\n",
       "    <tr>\n",
       "      <th>index</th>\n",
       "      <th></th>\n",
       "      <th></th>\n",
       "      <th></th>\n",
       "      <th></th>\n",
       "      <th></th>\n",
       "      <th></th>\n",
       "      <th></th>\n",
       "      <th></th>\n",
       "      <th></th>\n",
       "      <th></th>\n",
       "      <th></th>\n",
       "      <th></th>\n",
       "      <th></th>\n",
       "      <th></th>\n",
       "      <th></th>\n",
       "      <th></th>\n",
       "      <th></th>\n",
       "      <th></th>\n",
       "      <th></th>\n",
       "      <th></th>\n",
       "      <th></th>\n",
       "    </tr>\n",
       "  </thead>\n",
       "  <tbody>\n",
       "    <tr>\n",
       "      <th>A01_E09_RT_BC_100_Lig_BC_306-0-0</th>\n",
       "      <td>A549</td>\n",
       "      <td>10.0</td>\n",
       "      <td>10</td>\n",
       "      <td>4</td>\n",
       "      <td>0.000000</td>\n",
       "      <td>1.980748</td>\n",
       "      <td>DNA Damage</td>\n",
       "      <td>DNA damage &amp; DNA repair</td>\n",
       "      <td>Nucleotide analog</td>\n",
       "      <td>Raltitrexed_10</td>\n",
       "      <td>...</td>\n",
       "      <td>A549</td>\n",
       "      <td>1.0</td>\n",
       "      <td>A549_Raltitrexed_10.0</td>\n",
       "      <td>Raltitrexed</td>\n",
       "      <td>135400182</td>\n",
       "      <td>CC1=NC2=C(C=C(C=C2)CN(C)C3=CC=C(S3)C(=O)NC(CCC...</td>\n",
       "      <td>0</td>\n",
       "      <td>not ood</td>\n",
       "      <td>False</td>\n",
       "      <td>test</td>\n",
       "    </tr>\n",
       "    <tr>\n",
       "      <th>A01_E09_RT_BC_101_Lig_BC_109-0-0</th>\n",
       "      <td>A549</td>\n",
       "      <td>0.0</td>\n",
       "      <td>0</td>\n",
       "      <td>3</td>\n",
       "      <td>0.000000</td>\n",
       "      <td>0.000000</td>\n",
       "      <td>Vehicle</td>\n",
       "      <td>Vehicle</td>\n",
       "      <td>Vehicle</td>\n",
       "      <td>Vehicle_0</td>\n",
       "      <td>...</td>\n",
       "      <td>A549</td>\n",
       "      <td>0.0</td>\n",
       "      <td>A549_Vehicle_0.0</td>\n",
       "      <td>NaN</td>\n",
       "      <td>NaN</td>\n",
       "      <td>NaN</td>\n",
       "      <td>1</td>\n",
       "      <td>not ood</td>\n",
       "      <td>False</td>\n",
       "      <td>test</td>\n",
       "    </tr>\n",
       "    <tr>\n",
       "      <th>A01_E09_RT_BC_101_Lig_BC_229-0-0</th>\n",
       "      <td>A549</td>\n",
       "      <td>10.0</td>\n",
       "      <td>10</td>\n",
       "      <td>4</td>\n",
       "      <td>1.817254</td>\n",
       "      <td>2.801225</td>\n",
       "      <td>Apoptosis</td>\n",
       "      <td>Protein folding &amp; Protein degradation</td>\n",
       "      <td>E3 ubiquitin ligase activity</td>\n",
       "      <td>Lenalidomide (CC-5013)_10</td>\n",
       "      <td>...</td>\n",
       "      <td>A549</td>\n",
       "      <td>1.0</td>\n",
       "      <td>A549_Lenalidomide_(CC-5013)_10.0</td>\n",
       "      <td>Lenalidomide</td>\n",
       "      <td>216326</td>\n",
       "      <td>C1CC(=O)NC(=O)C1N2CC3=C(C2=O)C=CC=C3N</td>\n",
       "      <td>0</td>\n",
       "      <td>not ood</td>\n",
       "      <td>False</td>\n",
       "      <td>test</td>\n",
       "    </tr>\n",
       "    <tr>\n",
       "      <th>A01_E09_RT_BC_102_Lig_BC_265-0-0</th>\n",
       "      <td>A549</td>\n",
       "      <td>100.0</td>\n",
       "      <td>100</td>\n",
       "      <td>3</td>\n",
       "      <td>0.646621</td>\n",
       "      <td>1.315667</td>\n",
       "      <td>Protein Tyrosine Kinase</td>\n",
       "      <td>Tyrosine kinase signaling</td>\n",
       "      <td>RTK activity</td>\n",
       "      <td>Linifanib (ABT-869)_100</td>\n",
       "      <td>...</td>\n",
       "      <td>A549</td>\n",
       "      <td>2.0</td>\n",
       "      <td>A549_Linifanib_(ABT-869)_100.0</td>\n",
       "      <td>Linifanib</td>\n",
       "      <td>11485656</td>\n",
       "      <td>CC1=CC(=C(C=C1)F)NC(=O)NC2=CC=C(C=C2)C3=C4C(=C...</td>\n",
       "      <td>0</td>\n",
       "      <td>not ood</td>\n",
       "      <td>False</td>\n",
       "      <td>test</td>\n",
       "    </tr>\n",
       "    <tr>\n",
       "      <th>A01_E09_RT_BC_102_Lig_BC_379-0-0</th>\n",
       "      <td>A549</td>\n",
       "      <td>10000.0</td>\n",
       "      <td>10000</td>\n",
       "      <td>1</td>\n",
       "      <td>0.915929</td>\n",
       "      <td>3.055782</td>\n",
       "      <td>Protein Tyrosine Kinase</td>\n",
       "      <td>Tyrosine kinase signaling</td>\n",
       "      <td>RTK activity</td>\n",
       "      <td>Linifanib (ABT-869)_10000</td>\n",
       "      <td>...</td>\n",
       "      <td>A549</td>\n",
       "      <td>4.0</td>\n",
       "      <td>A549_Linifanib_(ABT-869)_10000.0</td>\n",
       "      <td>Linifanib</td>\n",
       "      <td>11485656</td>\n",
       "      <td>CC1=CC(=C(C=C1)F)NC(=O)NC2=CC=C(C=C2)C3=C4C(=C...</td>\n",
       "      <td>0</td>\n",
       "      <td>not ood</td>\n",
       "      <td>False</td>\n",
       "      <td>test</td>\n",
       "    </tr>\n",
       "  </tbody>\n",
       "</table>\n",
       "<p>5 rows × 28 columns</p>\n",
       "</div>"
      ],
      "text/plain": [
       "                                 cell_type     dose dose_character  \\\n",
       "index                                                                \n",
       "A01_E09_RT_BC_100_Lig_BC_306-0-0      A549     10.0             10   \n",
       "A01_E09_RT_BC_101_Lig_BC_109-0-0      A549      0.0              0   \n",
       "A01_E09_RT_BC_101_Lig_BC_229-0-0      A549     10.0             10   \n",
       "A01_E09_RT_BC_102_Lig_BC_265-0-0      A549    100.0            100   \n",
       "A01_E09_RT_BC_102_Lig_BC_379-0-0      A549  10000.0          10000   \n",
       "\n",
       "                                 dose_pattern g1s_score g2m_score  \\\n",
       "index                                                               \n",
       "A01_E09_RT_BC_100_Lig_BC_306-0-0            4  0.000000  1.980748   \n",
       "A01_E09_RT_BC_101_Lig_BC_109-0-0            3  0.000000  0.000000   \n",
       "A01_E09_RT_BC_101_Lig_BC_229-0-0            4  1.817254  2.801225   \n",
       "A01_E09_RT_BC_102_Lig_BC_265-0-0            3  0.646621  1.315667   \n",
       "A01_E09_RT_BC_102_Lig_BC_379-0-0            1  0.915929  3.055782   \n",
       "\n",
       "                                                  pathway  \\\n",
       "index                                                       \n",
       "A01_E09_RT_BC_100_Lig_BC_306-0-0               DNA Damage   \n",
       "A01_E09_RT_BC_101_Lig_BC_109-0-0                  Vehicle   \n",
       "A01_E09_RT_BC_101_Lig_BC_229-0-0                Apoptosis   \n",
       "A01_E09_RT_BC_102_Lig_BC_265-0-0  Protein Tyrosine Kinase   \n",
       "A01_E09_RT_BC_102_Lig_BC_379-0-0  Protein Tyrosine Kinase   \n",
       "\n",
       "                                                        pathway_level_1  \\\n",
       "index                                                                     \n",
       "A01_E09_RT_BC_100_Lig_BC_306-0-0                DNA damage & DNA repair   \n",
       "A01_E09_RT_BC_101_Lig_BC_109-0-0                                Vehicle   \n",
       "A01_E09_RT_BC_101_Lig_BC_229-0-0  Protein folding & Protein degradation   \n",
       "A01_E09_RT_BC_102_Lig_BC_265-0-0              Tyrosine kinase signaling   \n",
       "A01_E09_RT_BC_102_Lig_BC_379-0-0              Tyrosine kinase signaling   \n",
       "\n",
       "                                               pathway_level_2  \\\n",
       "index                                                            \n",
       "A01_E09_RT_BC_100_Lig_BC_306-0-0             Nucleotide analog   \n",
       "A01_E09_RT_BC_101_Lig_BC_109-0-0                       Vehicle   \n",
       "A01_E09_RT_BC_101_Lig_BC_229-0-0  E3 ubiquitin ligase activity   \n",
       "A01_E09_RT_BC_102_Lig_BC_265-0-0                  RTK activity   \n",
       "A01_E09_RT_BC_102_Lig_BC_379-0-0                  RTK activity   \n",
       "\n",
       "                                               product_dose  ... cell_line  \\\n",
       "index                                                        ...             \n",
       "A01_E09_RT_BC_100_Lig_BC_306-0-0             Raltitrexed_10  ...      A549   \n",
       "A01_E09_RT_BC_101_Lig_BC_109-0-0                  Vehicle_0  ...      A549   \n",
       "A01_E09_RT_BC_101_Lig_BC_229-0-0  Lenalidomide (CC-5013)_10  ...      A549   \n",
       "A01_E09_RT_BC_102_Lig_BC_265-0-0    Linifanib (ABT-869)_100  ...      A549   \n",
       "A01_E09_RT_BC_102_Lig_BC_379-0-0  Linifanib (ABT-869)_10000  ...      A549   \n",
       "\n",
       "                                 logdose                         condition  \\\n",
       "index                                                                        \n",
       "A01_E09_RT_BC_100_Lig_BC_306-0-0     1.0             A549_Raltitrexed_10.0   \n",
       "A01_E09_RT_BC_101_Lig_BC_109-0-0     0.0                  A549_Vehicle_0.0   \n",
       "A01_E09_RT_BC_101_Lig_BC_229-0-0     1.0  A549_Lenalidomide_(CC-5013)_10.0   \n",
       "A01_E09_RT_BC_102_Lig_BC_265-0-0     2.0    A549_Linifanib_(ABT-869)_100.0   \n",
       "A01_E09_RT_BC_102_Lig_BC_379-0-0     4.0  A549_Linifanib_(ABT-869)_10000.0   \n",
       "\n",
       "                                  pubchem_name pubchem_ID  \\\n",
       "index                                                       \n",
       "A01_E09_RT_BC_100_Lig_BC_306-0-0   Raltitrexed  135400182   \n",
       "A01_E09_RT_BC_101_Lig_BC_109-0-0           NaN        NaN   \n",
       "A01_E09_RT_BC_101_Lig_BC_229-0-0  Lenalidomide     216326   \n",
       "A01_E09_RT_BC_102_Lig_BC_265-0-0     Linifanib   11485656   \n",
       "A01_E09_RT_BC_102_Lig_BC_379-0-0     Linifanib   11485656   \n",
       "\n",
       "                                                                             smiles  \\\n",
       "index                                                                                 \n",
       "A01_E09_RT_BC_100_Lig_BC_306-0-0  CC1=NC2=C(C=C(C=C2)CN(C)C3=CC=C(S3)C(=O)NC(CCC...   \n",
       "A01_E09_RT_BC_101_Lig_BC_109-0-0                                                NaN   \n",
       "A01_E09_RT_BC_101_Lig_BC_229-0-0              C1CC(=O)NC(=O)C1N2CC3=C(C2=O)C=CC=C3N   \n",
       "A01_E09_RT_BC_102_Lig_BC_265-0-0  CC1=CC(=C(C=C1)F)NC(=O)NC2=CC=C(C=C2)C3=C4C(=C...   \n",
       "A01_E09_RT_BC_102_Lig_BC_379-0-0  CC1=CC(=C(C=C1)F)NC(=O)NC2=CC=C(C=C2)C3=C4C(=C...   \n",
       "\n",
       "                                 control      ood is_ood split  \n",
       "index                                                           \n",
       "A01_E09_RT_BC_100_Lig_BC_306-0-0       0  not ood  False  test  \n",
       "A01_E09_RT_BC_101_Lig_BC_109-0-0       1  not ood  False  test  \n",
       "A01_E09_RT_BC_101_Lig_BC_229-0-0       0  not ood  False  test  \n",
       "A01_E09_RT_BC_102_Lig_BC_265-0-0       0  not ood  False  test  \n",
       "A01_E09_RT_BC_102_Lig_BC_379-0-0       0  not ood  False  test  \n",
       "\n",
       "[5 rows x 28 columns]"
      ]
     },
     "execution_count": 48,
     "metadata": {},
     "output_type": "execute_result"
    }
   ],
   "source": [
    "adata_test.obs.head()"
   ]
  },
  {
   "cell_type": "code",
   "execution_count": 50,
   "id": "1331727e-99bb-43c5-be0e-24c5b46369cb",
   "metadata": {},
   "outputs": [
    {
     "data": {
      "text/plain": [
       "cell_line\n",
       "A549    500\n",
       "Name: count, dtype: int64"
      ]
     },
     "execution_count": 50,
     "metadata": {},
     "output_type": "execute_result"
    }
   ],
   "source": [
    "adata_test[adata_test.obs[\"pathway\"]==\"Vehicle\"].obs[\"cell_line\"].value_counts()"
   ]
  },
  {
   "cell_type": "code",
   "execution_count": 51,
   "id": "491c2483-1729-49bf-af46-54394719c9b9",
   "metadata": {},
   "outputs": [
    {
     "data": {
      "text/plain": [
       "cell_line\n",
       "A549    500\n",
       "Name: count, dtype: int64"
      ]
     },
     "execution_count": 51,
     "metadata": {},
     "output_type": "execute_result"
    }
   ],
   "source": [
    "\n",
    "adata_ood[adata_ood.obs[\"pathway\"]==\"Vehicle\"].obs[\"cell_line\"].value_counts()"
   ]
  },
  {
   "cell_type": "code",
   "execution_count": 53,
   "id": "e145fa7a-b2d9-40a5-9a9f-f6bb58597792",
   "metadata": {},
   "outputs": [
    {
     "data": {
      "text/plain": [
       "cell_line\n",
       "A549    1\n",
       "Name: count, dtype: int64"
      ]
     },
     "execution_count": 53,
     "metadata": {},
     "output_type": "execute_result"
    }
   ],
   "source": [
    "adata_train[\"Vehicle\" in adata_train.obs[\"condition\"]].obs[\"cell_line\"].value_counts()"
   ]
  },
  {
   "cell_type": "code",
   "execution_count": 54,
   "id": "9c63e649-cec5-4108-8011-6f0c3beb8532",
   "metadata": {},
   "outputs": [
    {
     "data": {
      "text/plain": [
       "View of AnnData object with n_obs × n_vars = 1 × 2002\n",
       "    obs: 'cell_type', 'dose', 'dose_character', 'dose_pattern', 'g1s_score', 'g2m_score', 'pathway', 'pathway_level_1', 'pathway_level_2', 'product_dose', 'product_name', 'proliferation_index', 'replicate', 'size_factor', 'target', 'vehicle', 'perturbation', 'drug', 'cell_line', 'logdose', 'condition', 'pubchem_name', 'pubchem_ID', 'smiles', 'control', 'ood', 'is_ood', 'split'\n",
       "    var: 'id', 'num_cells_expressed-0-0', 'num_cells_expressed-1-0', 'num_cells_expressed-1', 'highly_variable', 'means', 'dispersions', 'dispersions_norm'\n",
       "    uns: 'hvg', 'log1p', 'pca', 'rank_genes_groups_cov_all'\n",
       "    obsm: 'X_pca', 'cell_line_emb', 'ecfp', 'ecfp_cell_line', 'ecfp_cell_line_dose', 'ecfp_cell_line_dose_more_dose', 'ecfp_cell_line_logdose', 'ecfp_cell_line_logdose_more_dose'\n",
       "    varm: 'PCs', 'X_train_mean'\n",
       "    layers: 'X_log1p', 'centered_X'"
      ]
     },
     "execution_count": 54,
     "metadata": {},
     "output_type": "execute_result"
    }
   ],
   "source": [
    "adata_train[\"Vehicle\" in adata_train.obs[\"condition\"]]"
   ]
  },
  {
   "cell_type": "code",
   "execution_count": 58,
   "id": "ac176b83-3031-4786-bc42-8bda61ca9d76",
   "metadata": {},
   "outputs": [
    {
     "data": {
      "text/plain": [
       "['A549', 'MCF7', 'K562']\n",
       "Categories (3, object): ['A549', 'K562', 'MCF7']"
      ]
     },
     "execution_count": 58,
     "metadata": {},
     "output_type": "execute_result"
    }
   ],
   "source": [
    "adata_ood[adata_ood.obs[\"]].obs[\"cell_line\"].unique()"
   ]
  },
  {
   "cell_type": "code",
   "execution_count": 60,
   "id": "e58aeaba-dda3-4e07-9469-dc22602af6d8",
   "metadata": {},
   "outputs": [
    {
     "data": {
      "text/plain": [
       "index\n",
       "A01_E09_RT_BC_116_Lig_BC_193-0-0    A549_Alvespimycin_(17-DMAG)_HCl_10.0\n",
       "A01_E09_RT_BC_175_Lig_BC_81-0-0     A549_Alvespimycin_(17-DMAG)_HCl_10.0\n",
       "A01_E09_RT_BC_328_Lig_BC_18-0-0            A549_Dacinostat_(LAQ824)_10.0\n",
       "A01_E09_RT_BC_357_Lig_BC_85-0-0          A549_Tanespimycin_(17-AAG)_10.0\n",
       "A01_E09_RT_BC_380_Lig_BC_55-0-0            A549_Dacinostat_(LAQ824)_10.0\n",
       "                                                    ...                 \n",
       "H12_E09_RT_BC_137_Lig_BC_304-1                          K562_Vehicle_0.0\n",
       "H12_E09_RT_BC_181_Lig_BC_329-1                          K562_Vehicle_0.0\n",
       "H12_E09_RT_BC_18_Lig_BC_18-1                            K562_Vehicle_0.0\n",
       "H12_F10_RT_BC_291_Lig_BC_126-1                          K562_Vehicle_0.0\n",
       "H12_F10_RT_BC_75_Lig_BC_115-1                           K562_Vehicle_0.0\n",
       "Name: condition, Length: 13317, dtype: category\n",
       "Categories (40, object): ['A549_Alvespimycin_(17-DMAG)_HCl_10.0', 'A549_Belinostat_(PXD101)_100.0', 'A549_Dacinostat_(LAQ824)_10.0', 'A549_Tanespimycin_(17-AAG)_10.0', ..., 'MCF7_TAK-901_1000.0', 'MCF7_Tanespimycin_(17-AAG)_10.0', 'MCF7_Tanespimycin_(17-AAG)_100.0', 'MCF7_Vehicle_0.0']"
      ]
     },
     "execution_count": 60,
     "metadata": {},
     "output_type": "execute_result"
    }
   ],
   "source": [
    "adata_ood.obs[\"condition\"]"
   ]
  },
  {
   "cell_type": "code",
   "execution_count": 53,
   "id": "815164ff-7cd4-4d24-bd06-34573ea50915",
   "metadata": {},
   "outputs": [],
   "source": [
    "output_dir = \"/lustre/groups/ml01/workspace/ot_perturbation/data/sciplex/results/biolord\""
   ]
  },
  {
   "cell_type": "code",
   "execution_count": 54,
   "id": "7ed36ede-fe87-45f3-b3b6-4508868a06c8",
   "metadata": {},
   "outputs": [],
   "source": [
    "import os\n",
    "import pandas as pd\n",
    "\n",
    "pd.DataFrame.from_dict(ood_metrics_encoded).to_csv(os.path.join(output_dir, \"biolord_split_ood_metrics_encoded.csv\"))\n",
    "pd.DataFrame.from_dict(ood_metrics_decoded).to_csv(os.path.join(output_dir, \"biolord_split_ood_metrics_decoded.csv\"))\n",
    "#pd.DataFrame.from_dict(test_metrics_encoded).to_csv(os.path.join(output_dir, \"biolord_split_test_metrics_encoded.csv\"))\n",
    "#pd.DataFrame.from_dict(test_metrics_decoded).to_csv(os.path.join(output_dir, \"biolord_split_test_metrics_decoded.csv\"))\n",
    "#pd.DataFrame.from_dict(train_metrics_encoded).to_csv(os.path.join(output_dir, \"biolord_split_train_metrics_encoded.csv\"))\n",
    "#pd.DataFrame.from_dict(train_metrics_decoded).to_csv(os.path.join(output_dir, \"biolord_split_train_metrics_decoded.csv\"))"
   ]
  },
  {
   "cell_type": "code",
   "execution_count": null,
   "id": "93f8f467-467c-40d6-bdcc-eee662579c77",
   "metadata": {},
   "outputs": [],
   "source": []
  }
 ],
 "metadata": {
  "kernelspec": {
   "display_name": "cfp",
   "language": "python",
   "name": "cfp"
  },
  "language_info": {
   "codemirror_mode": {
    "name": "ipython",
    "version": 3
   },
   "file_extension": ".py",
   "mimetype": "text/x-python",
   "name": "python",
   "nbconvert_exporter": "python",
   "pygments_lexer": "ipython3",
   "version": "3.11.9"
  }
 },
 "nbformat": 4,
 "nbformat_minor": 5
}
