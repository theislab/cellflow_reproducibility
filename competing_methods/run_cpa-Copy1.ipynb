{
 "cells": [
  {
   "cell_type": "code",
   "execution_count": 1,
   "id": "292de784-d6fe-4d24-9c5e-28716afdf8da",
   "metadata": {},
   "outputs": [],
   "source": [
    "import scanpy as sc"
   ]
  },
  {
   "cell_type": "code",
   "execution_count": 2,
   "id": "5c42fe3e-87d0-4e68-95d0-3faaca23e5f1",
   "metadata": {},
   "outputs": [
    {
     "name": "stderr",
     "output_type": "stream",
     "text": [
      "[rank: 0] Global seed set to 0\n",
      "2024-04-15 23:14:21,545\tINFO util.py:154 -- Missing packages: ['ipywidgets']. Run `pip install -U ipywidgets`, then restart the notebook server for rich notebook output.\n",
      "2024-04-15 23:14:29,950\tINFO util.py:154 -- Missing packages: ['ipywidgets']. Run `pip install -U ipywidgets`, then restart the notebook server for rich notebook output.\n"
     ]
    }
   ],
   "source": [
    "import cpa\n",
    "import scanpy as sc"
   ]
  },
  {
   "cell_type": "code",
   "execution_count": 3,
   "id": "fa7e997e-dd2a-4415-9a3f-15536f5a8242",
   "metadata": {},
   "outputs": [],
   "source": [
    "from cpa import CPA"
   ]
  },
  {
   "cell_type": "code",
   "execution_count": 4,
   "id": "b3705528-b2f0-4b5c-9fde-b4adcd367c3c",
   "metadata": {},
   "outputs": [],
   "source": [
    "import gdown\n",
    "#gdown.download('https://drive.google.com/uc?export=download&id=1RRV0_qYKGTvD3oCklKfoZQFYqKJy4l6t')\n",
    "data_path = 'combo_sciplex_prep_hvg_filtered.h5ad'\n",
    "adata = sc.read(data_path)"
   ]
  },
  {
   "cell_type": "code",
   "execution_count": 5,
   "id": "79e49294-2c4d-43aa-8fcd-1496d0253e57",
   "metadata": {},
   "outputs": [],
   "source": [
    "adata_train_path = \"/lustre/groups/ml01/workspace/ot_perturbation/data/combosciplex/adata_train.h5ad\"\n",
    "adata_test_path = \"/lustre/groups/ml01/workspace/ot_perturbation/data/combosciplex/adata_test.h5ad\"\n",
    "adata_ood_path = \"/lustre/groups/ml01/workspace/ot_perturbation/data/combosciplex/adata_ood.h5ad\""
   ]
  },
  {
   "cell_type": "code",
   "execution_count": 6,
   "id": "51d0a975-78e7-41d5-9aa4-b8c0f8f5be52",
   "metadata": {},
   "outputs": [],
   "source": [
    "adata_train = sc.read(adata_train_path)\n",
    "adata_test = sc.read(adata_test_path)\n",
    "adata_ood = sc.read(adata_ood_path)\n"
   ]
  },
  {
   "cell_type": "code",
   "execution_count": 7,
   "id": "6c52fb07-74ec-48f7-8a33-9506fc3e28d0",
   "metadata": {},
   "outputs": [],
   "source": [
    "adata_train.X = adata_train.layers[\"counts\"]\n",
    "adata_test.X = adata_test.layers[\"counts\"]\n",
    "adata_test.X = adata_test.layers[\"counts\"]"
   ]
  },
  {
   "cell_type": "code",
   "execution_count": 8,
   "id": "b2c0b7f0-bbaa-4a6c-a8b4-cccd2a3281e3",
   "metadata": {},
   "outputs": [],
   "source": [
    "adata_train.obs[\"cov_drug_dose\"] = adata.obs['cov_drug_dose']\n",
    "adata_train.obs[\"condition_ID\"] = adata.obs[\"condition_ID\"]\n",
    "adata_train.obs[\"log_dose\"] = adata.obs[\"log_dose\"]\n",
    "\n",
    "adata_test.obs[\"cov_drug_dose\"] = adata.obs['cov_drug_dose']\n",
    "adata_test.obs[\"condition_ID\"] = adata.obs[\"condition_ID\"]\n",
    "adata_test.obs[\"log_dose\"] = adata.obs[\"log_dose\"]\n",
    "\n",
    "adata_ood.obs[\"cov_drug_dose\"] = adata.obs['cov_drug_dose']\n",
    "adata_ood.obs[\"condition_ID\"] = adata.obs[\"condition_ID\"]\n",
    "adata_ood.obs[\"log_dose\"] = adata.obs[\"log_dose\"]"
   ]
  },
  {
   "cell_type": "code",
   "execution_count": 9,
   "id": "afb54844-738a-4ec0-8268-458e870330a2",
   "metadata": {},
   "outputs": [],
   "source": [
    "\n",
    "adata.obs[\"index\"] = adata.obs_names.values\n",
    "adata.obs[\"index_adapted\"] = adata.obs.apply(lambda x: x[\"index\"][:-2], axis=1)\n",
    "adata.obs.set_index(\"index_adapted\", inplace=True)"
   ]
  },
  {
   "cell_type": "code",
   "execution_count": 10,
   "id": "f47b94f5-de97-4959-a070-f25a391fe2ac",
   "metadata": {},
   "outputs": [],
   "source": [
    "adata.obs.set_index(\"index_adapted\", inplace=True)"
   ]
  },
  {
   "cell_type": "code",
   "execution_count": 11,
   "id": "4bf8afcb-9c81-4b99-bbd3-8fecb89e5296",
   "metadata": {},
   "outputs": [],
   "source": [
    "frac_valid = adata[adata.obs['split_1ct_MEC']==\"valid\"].n_obs/(adata[adata.obs['split_1ct_MEC']==\"valid\"].n_obs+adata[adata.obs['split_1ct_MEC']==\"train\"].n_obs)"
   ]
  },
  {
   "cell_type": "code",
   "execution_count": 12,
   "id": "68713145-b4f6-42ac-aff6-be43a9634c1b",
   "metadata": {},
   "outputs": [],
   "source": [
    "import numpy as np\n",
    "\n",
    "def create_split(x):\n",
    "    is_train = np.random.choice(2, p=[frac_valid, 1-frac_valid])\n",
    "    if is_train:\n",
    "        return \"train\"\n",
    "    return \"valid\"\n",
    "adata_train.obs['split_1ct_MEC'] = adata_train.obs.apply(create_split, axis=1)"
   ]
  },
  {
   "cell_type": "code",
   "execution_count": 13,
   "id": "022b99a9-b0e7-4b63-b9fa-f2837be69b42",
   "metadata": {},
   "outputs": [
    {
     "data": {
      "text/plain": [
       "split_1ct_MEC\n",
       "train    46259\n",
       "valid     5242\n",
       "Name: count, dtype: int64"
      ]
     },
     "execution_count": 13,
     "metadata": {},
     "output_type": "execute_result"
    }
   ],
   "source": [
    "adata_train.obs['split_1ct_MEC'].value_counts()"
   ]
  },
  {
   "cell_type": "code",
   "execution_count": 20,
   "id": "53f0849c-7904-4354-9cb1-ce8381743777",
   "metadata": {},
   "outputs": [],
   "source": [
    "adata_train.obs['split_1ct_MEC'] = adata_train.obs['split_1ct_MEC'].astype(\"category\")"
   ]
  },
  {
   "cell_type": "code",
   "execution_count": 14,
   "id": "66d00440-1a84-4666-93a6-6333a10314a3",
   "metadata": {},
   "outputs": [],
   "source": [
    "adata_train.obs['condition_ID'] = adata_train.obs['condition_ID'].cat.remove_unused_categories()"
   ]
  },
  {
   "cell_type": "code",
   "execution_count": 21,
   "id": "7fb469ee-cac5-40cf-a493-9379895e9d09",
   "metadata": {},
   "outputs": [
    {
     "name": "stdout",
     "output_type": "stream",
     "text": [
      "\u001b[34mINFO    \u001b[0m File \u001b[35m/home/icb/dominik.klein/tmp/\u001b[0m\u001b[95mmodel.pt\u001b[0m already downloaded                                              \n"
     ]
    },
    {
     "ename": "TypeError",
     "evalue": "sequence item 1: expected str instance, float found",
     "output_type": "error",
     "traceback": [
      "\u001b[0;31m---------------------------------------------------------------------------\u001b[0m",
      "\u001b[0;31mTypeError\u001b[0m                                 Traceback (most recent call last)",
      "Cell \u001b[0;32mIn[21], line 1\u001b[0m\n\u001b[0;32m----> 1\u001b[0m \u001b[43mcpa\u001b[49m\u001b[38;5;241;43m.\u001b[39;49m\u001b[43mCPA\u001b[49m\u001b[38;5;241;43m.\u001b[39;49m\u001b[43mload\u001b[49m\u001b[43m(\u001b[49m\u001b[38;5;124;43m'\u001b[39;49m\u001b[38;5;124;43m/home/icb/dominik.klein/tmp\u001b[39;49m\u001b[38;5;124;43m'\u001b[39;49m\u001b[43m,\u001b[49m\u001b[43m \u001b[49m\u001b[43madata_train\u001b[49m\u001b[43m)\u001b[49m\n",
      "File \u001b[0;32m/lustre/groups/ml01/workspace/ot_pert_new/conda_envs/ot_pert_cpa/lib/python3.9/site-packages/cpa/_model.py:1039\u001b[0m, in \u001b[0;36mCPA.load\u001b[0;34m(cls, dir_path, adata, use_gpu)\u001b[0m\n\u001b[1;32m   1035\u001b[0m     \u001b[38;5;28mcls\u001b[39m\u001b[38;5;241m.\u001b[39mcovars_encoder \u001b[38;5;241m=\u001b[39m total_dict[\u001b[38;5;124m\"\u001b[39m\u001b[38;5;124mcovars_encoder\u001b[39m\u001b[38;5;124m\"\u001b[39m]\n\u001b[1;32m   1036\u001b[0m     \u001b[38;5;28mcls\u001b[39m\u001b[38;5;241m.\u001b[39mpert_smiles_map \u001b[38;5;241m=\u001b[39m total_dict\u001b[38;5;241m.\u001b[39mget(\u001b[38;5;124m\"\u001b[39m\u001b[38;5;124mpert_smiles_map\u001b[39m\u001b[38;5;124m\"\u001b[39m, \u001b[38;5;28;01mNone\u001b[39;00m)\n\u001b[0;32m-> 1039\u001b[0m model \u001b[38;5;241m=\u001b[39m \u001b[38;5;28;43msuper\u001b[39;49m\u001b[43m(\u001b[49m\u001b[43m)\u001b[49m\u001b[38;5;241;43m.\u001b[39;49m\u001b[43mload\u001b[49m\u001b[43m(\u001b[49m\u001b[43mdir_path\u001b[49m\u001b[43m,\u001b[49m\u001b[43m \u001b[49m\u001b[43madata\u001b[49m\u001b[43m,\u001b[49m\u001b[43m \u001b[49m\u001b[43muse_gpu\u001b[49m\u001b[43m)\u001b[49m\n\u001b[1;32m   1041\u001b[0m \u001b[38;5;28;01mtry\u001b[39;00m:\n\u001b[1;32m   1042\u001b[0m     model\u001b[38;5;241m.\u001b[39mepoch_history \u001b[38;5;241m=\u001b[39m pd\u001b[38;5;241m.\u001b[39mread_csv(os\u001b[38;5;241m.\u001b[39mpath\u001b[38;5;241m.\u001b[39mjoin(dir_path, \u001b[38;5;124m\"\u001b[39m\u001b[38;5;124mhistory.csv\u001b[39m\u001b[38;5;124m\"\u001b[39m))\n",
      "File \u001b[0;32m/lustre/groups/ml01/workspace/ot_pert_new/conda_envs/ot_pert_cpa/lib/python3.9/site-packages/scvi/model/base/_base_model.py:660\u001b[0m, in \u001b[0;36mBaseModelClass.load\u001b[0;34m(cls, dir_path, adata, use_gpu, prefix, backup_url)\u001b[0m\n\u001b[1;32m    656\u001b[0m \u001b[38;5;66;03m# Calling ``setup_anndata`` method with the original arguments passed into\u001b[39;00m\n\u001b[1;32m    657\u001b[0m \u001b[38;5;66;03m# the saved model. This enables simple backwards compatibility in the case of\u001b[39;00m\n\u001b[1;32m    658\u001b[0m \u001b[38;5;66;03m# newly introduced fields or parameters.\u001b[39;00m\n\u001b[1;32m    659\u001b[0m method_name \u001b[38;5;241m=\u001b[39m registry\u001b[38;5;241m.\u001b[39mget(_SETUP_METHOD_NAME, \u001b[38;5;124m\"\u001b[39m\u001b[38;5;124msetup_anndata\u001b[39m\u001b[38;5;124m\"\u001b[39m)\n\u001b[0;32m--> 660\u001b[0m \u001b[38;5;28;43mgetattr\u001b[39;49m\u001b[43m(\u001b[49m\u001b[38;5;28;43mcls\u001b[39;49m\u001b[43m,\u001b[49m\u001b[43m \u001b[49m\u001b[43mmethod_name\u001b[49m\u001b[43m)\u001b[49m\u001b[43m(\u001b[49m\n\u001b[1;32m    661\u001b[0m \u001b[43m    \u001b[49m\u001b[43madata\u001b[49m\u001b[43m,\u001b[49m\u001b[43m \u001b[49m\u001b[43msource_registry\u001b[49m\u001b[38;5;241;43m=\u001b[39;49m\u001b[43mregistry\u001b[49m\u001b[43m,\u001b[49m\u001b[43m \u001b[49m\u001b[38;5;241;43m*\u001b[39;49m\u001b[38;5;241;43m*\u001b[39;49m\u001b[43mregistry\u001b[49m\u001b[43m[\u001b[49m\u001b[43m_SETUP_ARGS_KEY\u001b[49m\u001b[43m]\u001b[49m\n\u001b[1;32m    662\u001b[0m \u001b[43m\u001b[49m\u001b[43m)\u001b[49m\n\u001b[1;32m    664\u001b[0m model \u001b[38;5;241m=\u001b[39m _initialize_model(\u001b[38;5;28mcls\u001b[39m, adata, attr_dict)\n\u001b[1;32m    665\u001b[0m model\u001b[38;5;241m.\u001b[39mmodule\u001b[38;5;241m.\u001b[39mon_load(model)\n",
      "File \u001b[0;32m/lustre/groups/ml01/workspace/ot_pert_new/conda_envs/ot_pert_cpa/lib/python3.9/site-packages/cpa/_model.py:252\u001b[0m, in \u001b[0;36mCPA.setup_anndata\u001b[0;34m(cls, adata, perturbation_key, control_group, dosage_key, batch_key, layer, smiles_key, is_count_data, categorical_covariate_keys, deg_uns_key, deg_uns_cat_key, max_comb_len, **kwargs)\u001b[0m\n\u001b[1;32m    249\u001b[0m \u001b[38;5;28;01mif\u001b[39;00m batch_key \u001b[38;5;129;01mis\u001b[39;00m \u001b[38;5;129;01mnot\u001b[39;00m \u001b[38;5;28;01mNone\u001b[39;00m:\n\u001b[1;32m    250\u001b[0m     keys \u001b[38;5;241m=\u001b[39m [batch_key] \u001b[38;5;241m+\u001b[39m keys\n\u001b[0;32m--> 252\u001b[0m adata\u001b[38;5;241m.\u001b[39mobs[category_key] \u001b[38;5;241m=\u001b[39m \u001b[43madata\u001b[49m\u001b[38;5;241;43m.\u001b[39;49m\u001b[43mobs\u001b[49m\u001b[43m[\u001b[49m\u001b[43mkeys\u001b[49m\u001b[43m]\u001b[49m\u001b[38;5;241;43m.\u001b[39;49m\u001b[43mapply\u001b[49m\u001b[43m(\u001b[49m\u001b[38;5;28;43;01mlambda\u001b[39;49;00m\u001b[43m \u001b[49m\u001b[43mx\u001b[49m\u001b[43m:\u001b[49m\u001b[43m \u001b[49m\u001b[38;5;124;43m\"\u001b[39;49m\u001b[38;5;124;43m_\u001b[39;49m\u001b[38;5;124;43m\"\u001b[39;49m\u001b[38;5;241;43m.\u001b[39;49m\u001b[43mjoin\u001b[49m\u001b[43m(\u001b[49m\u001b[43mx\u001b[49m\u001b[43m)\u001b[49m\u001b[43m,\u001b[49m\u001b[43m \u001b[49m\u001b[43maxis\u001b[49m\u001b[38;5;241;43m=\u001b[39;49m\u001b[38;5;241;43m1\u001b[39;49m\u001b[43m)\u001b[49m\n\u001b[1;32m    253\u001b[0m CPA_REGISTRY_KEYS\u001b[38;5;241m.\u001b[39mCATEGORY_KEY \u001b[38;5;241m=\u001b[39m category_key\n\u001b[1;32m    255\u001b[0m \u001b[38;5;28;01mif\u001b[39;00m \u001b[38;5;28mcls\u001b[39m\u001b[38;5;241m.\u001b[39mpert_encoder \u001b[38;5;129;01mis\u001b[39;00m \u001b[38;5;28;01mNone\u001b[39;00m:\n\u001b[1;32m    256\u001b[0m     \u001b[38;5;66;03m# get unique drugs\u001b[39;00m\n",
      "File \u001b[0;32m/lustre/groups/ml01/workspace/ot_pert_new/conda_envs/ot_pert_cpa/lib/python3.9/site-packages/pandas/core/frame.py:10374\u001b[0m, in \u001b[0;36mDataFrame.apply\u001b[0;34m(self, func, axis, raw, result_type, args, by_row, engine, engine_kwargs, **kwargs)\u001b[0m\n\u001b[1;32m  10360\u001b[0m \u001b[38;5;28;01mfrom\u001b[39;00m \u001b[38;5;21;01mpandas\u001b[39;00m\u001b[38;5;21;01m.\u001b[39;00m\u001b[38;5;21;01mcore\u001b[39;00m\u001b[38;5;21;01m.\u001b[39;00m\u001b[38;5;21;01mapply\u001b[39;00m \u001b[38;5;28;01mimport\u001b[39;00m frame_apply\n\u001b[1;32m  10362\u001b[0m op \u001b[38;5;241m=\u001b[39m frame_apply(\n\u001b[1;32m  10363\u001b[0m     \u001b[38;5;28mself\u001b[39m,\n\u001b[1;32m  10364\u001b[0m     func\u001b[38;5;241m=\u001b[39mfunc,\n\u001b[0;32m   (...)\u001b[0m\n\u001b[1;32m  10372\u001b[0m     kwargs\u001b[38;5;241m=\u001b[39mkwargs,\n\u001b[1;32m  10373\u001b[0m )\n\u001b[0;32m> 10374\u001b[0m \u001b[38;5;28;01mreturn\u001b[39;00m \u001b[43mop\u001b[49m\u001b[38;5;241;43m.\u001b[39;49m\u001b[43mapply\u001b[49m\u001b[43m(\u001b[49m\u001b[43m)\u001b[49m\u001b[38;5;241m.\u001b[39m__finalize__(\u001b[38;5;28mself\u001b[39m, method\u001b[38;5;241m=\u001b[39m\u001b[38;5;124m\"\u001b[39m\u001b[38;5;124mapply\u001b[39m\u001b[38;5;124m\"\u001b[39m)\n",
      "File \u001b[0;32m/lustre/groups/ml01/workspace/ot_pert_new/conda_envs/ot_pert_cpa/lib/python3.9/site-packages/pandas/core/apply.py:916\u001b[0m, in \u001b[0;36mFrameApply.apply\u001b[0;34m(self)\u001b[0m\n\u001b[1;32m    913\u001b[0m \u001b[38;5;28;01melif\u001b[39;00m \u001b[38;5;28mself\u001b[39m\u001b[38;5;241m.\u001b[39mraw:\n\u001b[1;32m    914\u001b[0m     \u001b[38;5;28;01mreturn\u001b[39;00m \u001b[38;5;28mself\u001b[39m\u001b[38;5;241m.\u001b[39mapply_raw(engine\u001b[38;5;241m=\u001b[39m\u001b[38;5;28mself\u001b[39m\u001b[38;5;241m.\u001b[39mengine, engine_kwargs\u001b[38;5;241m=\u001b[39m\u001b[38;5;28mself\u001b[39m\u001b[38;5;241m.\u001b[39mengine_kwargs)\n\u001b[0;32m--> 916\u001b[0m \u001b[38;5;28;01mreturn\u001b[39;00m \u001b[38;5;28;43mself\u001b[39;49m\u001b[38;5;241;43m.\u001b[39;49m\u001b[43mapply_standard\u001b[49m\u001b[43m(\u001b[49m\u001b[43m)\u001b[49m\n",
      "File \u001b[0;32m/lustre/groups/ml01/workspace/ot_pert_new/conda_envs/ot_pert_cpa/lib/python3.9/site-packages/pandas/core/apply.py:1063\u001b[0m, in \u001b[0;36mFrameApply.apply_standard\u001b[0;34m(self)\u001b[0m\n\u001b[1;32m   1061\u001b[0m \u001b[38;5;28;01mdef\u001b[39;00m \u001b[38;5;21mapply_standard\u001b[39m(\u001b[38;5;28mself\u001b[39m):\n\u001b[1;32m   1062\u001b[0m     \u001b[38;5;28;01mif\u001b[39;00m \u001b[38;5;28mself\u001b[39m\u001b[38;5;241m.\u001b[39mengine \u001b[38;5;241m==\u001b[39m \u001b[38;5;124m\"\u001b[39m\u001b[38;5;124mpython\u001b[39m\u001b[38;5;124m\"\u001b[39m:\n\u001b[0;32m-> 1063\u001b[0m         results, res_index \u001b[38;5;241m=\u001b[39m \u001b[38;5;28;43mself\u001b[39;49m\u001b[38;5;241;43m.\u001b[39;49m\u001b[43mapply_series_generator\u001b[49m\u001b[43m(\u001b[49m\u001b[43m)\u001b[49m\n\u001b[1;32m   1064\u001b[0m     \u001b[38;5;28;01melse\u001b[39;00m:\n\u001b[1;32m   1065\u001b[0m         results, res_index \u001b[38;5;241m=\u001b[39m \u001b[38;5;28mself\u001b[39m\u001b[38;5;241m.\u001b[39mapply_series_numba()\n",
      "File \u001b[0;32m/lustre/groups/ml01/workspace/ot_pert_new/conda_envs/ot_pert_cpa/lib/python3.9/site-packages/pandas/core/apply.py:1081\u001b[0m, in \u001b[0;36mFrameApply.apply_series_generator\u001b[0;34m(self)\u001b[0m\n\u001b[1;32m   1078\u001b[0m \u001b[38;5;28;01mwith\u001b[39;00m option_context(\u001b[38;5;124m\"\u001b[39m\u001b[38;5;124mmode.chained_assignment\u001b[39m\u001b[38;5;124m\"\u001b[39m, \u001b[38;5;28;01mNone\u001b[39;00m):\n\u001b[1;32m   1079\u001b[0m     \u001b[38;5;28;01mfor\u001b[39;00m i, v \u001b[38;5;129;01min\u001b[39;00m \u001b[38;5;28menumerate\u001b[39m(series_gen):\n\u001b[1;32m   1080\u001b[0m         \u001b[38;5;66;03m# ignore SettingWithCopy here in case the user mutates\u001b[39;00m\n\u001b[0;32m-> 1081\u001b[0m         results[i] \u001b[38;5;241m=\u001b[39m \u001b[38;5;28;43mself\u001b[39;49m\u001b[38;5;241;43m.\u001b[39;49m\u001b[43mfunc\u001b[49m\u001b[43m(\u001b[49m\u001b[43mv\u001b[49m\u001b[43m,\u001b[49m\u001b[43m \u001b[49m\u001b[38;5;241;43m*\u001b[39;49m\u001b[38;5;28;43mself\u001b[39;49m\u001b[38;5;241;43m.\u001b[39;49m\u001b[43margs\u001b[49m\u001b[43m,\u001b[49m\u001b[43m \u001b[49m\u001b[38;5;241;43m*\u001b[39;49m\u001b[38;5;241;43m*\u001b[39;49m\u001b[38;5;28;43mself\u001b[39;49m\u001b[38;5;241;43m.\u001b[39;49m\u001b[43mkwargs\u001b[49m\u001b[43m)\u001b[49m\n\u001b[1;32m   1082\u001b[0m         \u001b[38;5;28;01mif\u001b[39;00m \u001b[38;5;28misinstance\u001b[39m(results[i], ABCSeries):\n\u001b[1;32m   1083\u001b[0m             \u001b[38;5;66;03m# If we have a view on v, we need to make a copy because\u001b[39;00m\n\u001b[1;32m   1084\u001b[0m             \u001b[38;5;66;03m#  series_generator will swap out the underlying data\u001b[39;00m\n\u001b[1;32m   1085\u001b[0m             results[i] \u001b[38;5;241m=\u001b[39m results[i]\u001b[38;5;241m.\u001b[39mcopy(deep\u001b[38;5;241m=\u001b[39m\u001b[38;5;28;01mFalse\u001b[39;00m)\n",
      "File \u001b[0;32m/lustre/groups/ml01/workspace/ot_pert_new/conda_envs/ot_pert_cpa/lib/python3.9/site-packages/cpa/_model.py:252\u001b[0m, in \u001b[0;36mCPA.setup_anndata.<locals>.<lambda>\u001b[0;34m(x)\u001b[0m\n\u001b[1;32m    249\u001b[0m \u001b[38;5;28;01mif\u001b[39;00m batch_key \u001b[38;5;129;01mis\u001b[39;00m \u001b[38;5;129;01mnot\u001b[39;00m \u001b[38;5;28;01mNone\u001b[39;00m:\n\u001b[1;32m    250\u001b[0m     keys \u001b[38;5;241m=\u001b[39m [batch_key] \u001b[38;5;241m+\u001b[39m keys\n\u001b[0;32m--> 252\u001b[0m adata\u001b[38;5;241m.\u001b[39mobs[category_key] \u001b[38;5;241m=\u001b[39m adata\u001b[38;5;241m.\u001b[39mobs[keys]\u001b[38;5;241m.\u001b[39mapply(\u001b[38;5;28;01mlambda\u001b[39;00m x: \u001b[38;5;124;43m\"\u001b[39;49m\u001b[38;5;124;43m_\u001b[39;49m\u001b[38;5;124;43m\"\u001b[39;49m\u001b[38;5;241;43m.\u001b[39;49m\u001b[43mjoin\u001b[49m\u001b[43m(\u001b[49m\u001b[43mx\u001b[49m\u001b[43m)\u001b[49m, axis\u001b[38;5;241m=\u001b[39m\u001b[38;5;241m1\u001b[39m)\n\u001b[1;32m    253\u001b[0m CPA_REGISTRY_KEYS\u001b[38;5;241m.\u001b[39mCATEGORY_KEY \u001b[38;5;241m=\u001b[39m category_key\n\u001b[1;32m    255\u001b[0m \u001b[38;5;28;01mif\u001b[39;00m \u001b[38;5;28mcls\u001b[39m\u001b[38;5;241m.\u001b[39mpert_encoder \u001b[38;5;129;01mis\u001b[39;00m \u001b[38;5;28;01mNone\u001b[39;00m:\n\u001b[1;32m    256\u001b[0m     \u001b[38;5;66;03m# get unique drugs\u001b[39;00m\n",
      "\u001b[0;31mTypeError\u001b[0m: sequence item 1: expected str instance, float found"
     ]
    }
   ],
   "source": [
    "cpa.CPA.load('/home/icb/dominik.klein/tmp', adata_train)"
   ]
  },
  {
   "cell_type": "code",
   "execution_count": null,
   "id": "2207d967-e21b-4987-83c4-d2212770cbc0",
   "metadata": {},
   "outputs": [],
   "source": [
    "model.predict(adata_train)"
   ]
  },
  {
   "cell_type": "code",
   "execution_count": null,
   "id": "eff87ba9-f22d-428e-a8f4-71d10cae56e0",
   "metadata": {},
   "outputs": [],
   "source": []
  },
  {
   "cell_type": "code",
   "execution_count": 17,
   "id": "aec2874d-31fa-4758-9e28-cf350e21d08b",
   "metadata": {},
   "outputs": [
    {
     "ename": "TypeError",
     "evalue": "sequence item 1: expected str instance, float found",
     "output_type": "error",
     "traceback": [
      "\u001b[0;31m---------------------------------------------------------------------------\u001b[0m",
      "\u001b[0;31mTypeError\u001b[0m                                 Traceback (most recent call last)",
      "Cell \u001b[0;32mIn[17], line 1\u001b[0m\n\u001b[0;32m----> 1\u001b[0m \u001b[43mcpa\u001b[49m\u001b[38;5;241;43m.\u001b[39;49m\u001b[43mCPA\u001b[49m\u001b[38;5;241;43m.\u001b[39;49m\u001b[43msetup_anndata\u001b[49m\u001b[43m(\u001b[49m\u001b[43madata_train\u001b[49m\u001b[43m,\u001b[49m\n\u001b[1;32m      2\u001b[0m \u001b[43m                      \u001b[49m\u001b[43mperturbation_key\u001b[49m\u001b[38;5;241;43m=\u001b[39;49m\u001b[38;5;124;43m'\u001b[39;49m\u001b[38;5;124;43mcondition_ID\u001b[39;49m\u001b[38;5;124;43m'\u001b[39;49m\u001b[43m,\u001b[49m\n\u001b[1;32m      3\u001b[0m \u001b[43m                      \u001b[49m\u001b[43mdosage_key\u001b[49m\u001b[38;5;241;43m=\u001b[39;49m\u001b[38;5;124;43m'\u001b[39;49m\u001b[38;5;124;43mlog_dose\u001b[39;49m\u001b[38;5;124;43m'\u001b[39;49m\u001b[43m,\u001b[49m\n\u001b[1;32m      4\u001b[0m \u001b[43m                      \u001b[49m\u001b[43mcontrol_group\u001b[49m\u001b[38;5;241;43m=\u001b[39;49m\u001b[38;5;124;43m'\u001b[39;49m\u001b[38;5;124;43mCHEMBL504\u001b[39;49m\u001b[38;5;124;43m'\u001b[39;49m\u001b[43m,\u001b[49m\n\u001b[1;32m      5\u001b[0m \u001b[43m                      \u001b[49m\u001b[43mbatch_key\u001b[49m\u001b[38;5;241;43m=\u001b[39;49m\u001b[38;5;28;43;01mNone\u001b[39;49;00m\u001b[43m,\u001b[49m\n\u001b[1;32m      6\u001b[0m \u001b[43m                      \u001b[49m\u001b[43mis_count_data\u001b[49m\u001b[38;5;241;43m=\u001b[39;49m\u001b[38;5;28;43;01mTrue\u001b[39;49;00m\u001b[43m,\u001b[49m\n\u001b[1;32m      7\u001b[0m \u001b[43m                      \u001b[49m\u001b[43mcategorical_covariate_keys\u001b[49m\u001b[38;5;241;43m=\u001b[39;49m\u001b[43m[\u001b[49m\u001b[38;5;124;43m'\u001b[39;49m\u001b[38;5;124;43mcell_type\u001b[39;49m\u001b[38;5;124;43m'\u001b[39;49m\u001b[43m]\u001b[49m\u001b[43m,\u001b[49m\n\u001b[1;32m      8\u001b[0m \u001b[43m                      \u001b[49m\u001b[38;5;66;43;03m#deg_uns_key='rank_genes_groups_cov',\u001b[39;49;00m\n\u001b[1;32m      9\u001b[0m \u001b[43m                      \u001b[49m\u001b[43mdeg_uns_cat_key\u001b[49m\u001b[38;5;241;43m=\u001b[39;49m\u001b[38;5;124;43m'\u001b[39;49m\u001b[38;5;124;43mcov_drug_dose\u001b[39;49m\u001b[38;5;124;43m'\u001b[39;49m\u001b[43m,\u001b[49m\n\u001b[1;32m     10\u001b[0m \u001b[43m                      \u001b[49m\u001b[43mmax_comb_len\u001b[49m\u001b[38;5;241;43m=\u001b[39;49m\u001b[38;5;241;43m2\u001b[39;49m\u001b[43m,\u001b[49m\n\u001b[1;32m     11\u001b[0m \u001b[43m                     \u001b[49m\u001b[43m)\u001b[49m\n",
      "File \u001b[0;32m/lustre/groups/ml01/workspace/ot_pert_new/conda_envs/ot_pert_cpa/lib/python3.9/site-packages/cpa/_model.py:252\u001b[0m, in \u001b[0;36mCPA.setup_anndata\u001b[0;34m(cls, adata, perturbation_key, control_group, dosage_key, batch_key, layer, smiles_key, is_count_data, categorical_covariate_keys, deg_uns_key, deg_uns_cat_key, max_comb_len, **kwargs)\u001b[0m\n\u001b[1;32m    249\u001b[0m \u001b[38;5;28;01mif\u001b[39;00m batch_key \u001b[38;5;129;01mis\u001b[39;00m \u001b[38;5;129;01mnot\u001b[39;00m \u001b[38;5;28;01mNone\u001b[39;00m:\n\u001b[1;32m    250\u001b[0m     keys \u001b[38;5;241m=\u001b[39m [batch_key] \u001b[38;5;241m+\u001b[39m keys\n\u001b[0;32m--> 252\u001b[0m adata\u001b[38;5;241m.\u001b[39mobs[category_key] \u001b[38;5;241m=\u001b[39m \u001b[43madata\u001b[49m\u001b[38;5;241;43m.\u001b[39;49m\u001b[43mobs\u001b[49m\u001b[43m[\u001b[49m\u001b[43mkeys\u001b[49m\u001b[43m]\u001b[49m\u001b[38;5;241;43m.\u001b[39;49m\u001b[43mapply\u001b[49m\u001b[43m(\u001b[49m\u001b[38;5;28;43;01mlambda\u001b[39;49;00m\u001b[43m \u001b[49m\u001b[43mx\u001b[49m\u001b[43m:\u001b[49m\u001b[43m \u001b[49m\u001b[38;5;124;43m\"\u001b[39;49m\u001b[38;5;124;43m_\u001b[39;49m\u001b[38;5;124;43m\"\u001b[39;49m\u001b[38;5;241;43m.\u001b[39;49m\u001b[43mjoin\u001b[49m\u001b[43m(\u001b[49m\u001b[43mx\u001b[49m\u001b[43m)\u001b[49m\u001b[43m,\u001b[49m\u001b[43m \u001b[49m\u001b[43maxis\u001b[49m\u001b[38;5;241;43m=\u001b[39;49m\u001b[38;5;241;43m1\u001b[39;49m\u001b[43m)\u001b[49m\n\u001b[1;32m    253\u001b[0m CPA_REGISTRY_KEYS\u001b[38;5;241m.\u001b[39mCATEGORY_KEY \u001b[38;5;241m=\u001b[39m category_key\n\u001b[1;32m    255\u001b[0m \u001b[38;5;28;01mif\u001b[39;00m \u001b[38;5;28mcls\u001b[39m\u001b[38;5;241m.\u001b[39mpert_encoder \u001b[38;5;129;01mis\u001b[39;00m \u001b[38;5;28;01mNone\u001b[39;00m:\n\u001b[1;32m    256\u001b[0m     \u001b[38;5;66;03m# get unique drugs\u001b[39;00m\n",
      "File \u001b[0;32m/lustre/groups/ml01/workspace/ot_pert_new/conda_envs/ot_pert_cpa/lib/python3.9/site-packages/pandas/core/frame.py:10374\u001b[0m, in \u001b[0;36mDataFrame.apply\u001b[0;34m(self, func, axis, raw, result_type, args, by_row, engine, engine_kwargs, **kwargs)\u001b[0m\n\u001b[1;32m  10360\u001b[0m \u001b[38;5;28;01mfrom\u001b[39;00m \u001b[38;5;21;01mpandas\u001b[39;00m\u001b[38;5;21;01m.\u001b[39;00m\u001b[38;5;21;01mcore\u001b[39;00m\u001b[38;5;21;01m.\u001b[39;00m\u001b[38;5;21;01mapply\u001b[39;00m \u001b[38;5;28;01mimport\u001b[39;00m frame_apply\n\u001b[1;32m  10362\u001b[0m op \u001b[38;5;241m=\u001b[39m frame_apply(\n\u001b[1;32m  10363\u001b[0m     \u001b[38;5;28mself\u001b[39m,\n\u001b[1;32m  10364\u001b[0m     func\u001b[38;5;241m=\u001b[39mfunc,\n\u001b[0;32m   (...)\u001b[0m\n\u001b[1;32m  10372\u001b[0m     kwargs\u001b[38;5;241m=\u001b[39mkwargs,\n\u001b[1;32m  10373\u001b[0m )\n\u001b[0;32m> 10374\u001b[0m \u001b[38;5;28;01mreturn\u001b[39;00m \u001b[43mop\u001b[49m\u001b[38;5;241;43m.\u001b[39;49m\u001b[43mapply\u001b[49m\u001b[43m(\u001b[49m\u001b[43m)\u001b[49m\u001b[38;5;241m.\u001b[39m__finalize__(\u001b[38;5;28mself\u001b[39m, method\u001b[38;5;241m=\u001b[39m\u001b[38;5;124m\"\u001b[39m\u001b[38;5;124mapply\u001b[39m\u001b[38;5;124m\"\u001b[39m)\n",
      "File \u001b[0;32m/lustre/groups/ml01/workspace/ot_pert_new/conda_envs/ot_pert_cpa/lib/python3.9/site-packages/pandas/core/apply.py:916\u001b[0m, in \u001b[0;36mFrameApply.apply\u001b[0;34m(self)\u001b[0m\n\u001b[1;32m    913\u001b[0m \u001b[38;5;28;01melif\u001b[39;00m \u001b[38;5;28mself\u001b[39m\u001b[38;5;241m.\u001b[39mraw:\n\u001b[1;32m    914\u001b[0m     \u001b[38;5;28;01mreturn\u001b[39;00m \u001b[38;5;28mself\u001b[39m\u001b[38;5;241m.\u001b[39mapply_raw(engine\u001b[38;5;241m=\u001b[39m\u001b[38;5;28mself\u001b[39m\u001b[38;5;241m.\u001b[39mengine, engine_kwargs\u001b[38;5;241m=\u001b[39m\u001b[38;5;28mself\u001b[39m\u001b[38;5;241m.\u001b[39mengine_kwargs)\n\u001b[0;32m--> 916\u001b[0m \u001b[38;5;28;01mreturn\u001b[39;00m \u001b[38;5;28;43mself\u001b[39;49m\u001b[38;5;241;43m.\u001b[39;49m\u001b[43mapply_standard\u001b[49m\u001b[43m(\u001b[49m\u001b[43m)\u001b[49m\n",
      "File \u001b[0;32m/lustre/groups/ml01/workspace/ot_pert_new/conda_envs/ot_pert_cpa/lib/python3.9/site-packages/pandas/core/apply.py:1063\u001b[0m, in \u001b[0;36mFrameApply.apply_standard\u001b[0;34m(self)\u001b[0m\n\u001b[1;32m   1061\u001b[0m \u001b[38;5;28;01mdef\u001b[39;00m \u001b[38;5;21mapply_standard\u001b[39m(\u001b[38;5;28mself\u001b[39m):\n\u001b[1;32m   1062\u001b[0m     \u001b[38;5;28;01mif\u001b[39;00m \u001b[38;5;28mself\u001b[39m\u001b[38;5;241m.\u001b[39mengine \u001b[38;5;241m==\u001b[39m \u001b[38;5;124m\"\u001b[39m\u001b[38;5;124mpython\u001b[39m\u001b[38;5;124m\"\u001b[39m:\n\u001b[0;32m-> 1063\u001b[0m         results, res_index \u001b[38;5;241m=\u001b[39m \u001b[38;5;28;43mself\u001b[39;49m\u001b[38;5;241;43m.\u001b[39;49m\u001b[43mapply_series_generator\u001b[49m\u001b[43m(\u001b[49m\u001b[43m)\u001b[49m\n\u001b[1;32m   1064\u001b[0m     \u001b[38;5;28;01melse\u001b[39;00m:\n\u001b[1;32m   1065\u001b[0m         results, res_index \u001b[38;5;241m=\u001b[39m \u001b[38;5;28mself\u001b[39m\u001b[38;5;241m.\u001b[39mapply_series_numba()\n",
      "File \u001b[0;32m/lustre/groups/ml01/workspace/ot_pert_new/conda_envs/ot_pert_cpa/lib/python3.9/site-packages/pandas/core/apply.py:1081\u001b[0m, in \u001b[0;36mFrameApply.apply_series_generator\u001b[0;34m(self)\u001b[0m\n\u001b[1;32m   1078\u001b[0m \u001b[38;5;28;01mwith\u001b[39;00m option_context(\u001b[38;5;124m\"\u001b[39m\u001b[38;5;124mmode.chained_assignment\u001b[39m\u001b[38;5;124m\"\u001b[39m, \u001b[38;5;28;01mNone\u001b[39;00m):\n\u001b[1;32m   1079\u001b[0m     \u001b[38;5;28;01mfor\u001b[39;00m i, v \u001b[38;5;129;01min\u001b[39;00m \u001b[38;5;28menumerate\u001b[39m(series_gen):\n\u001b[1;32m   1080\u001b[0m         \u001b[38;5;66;03m# ignore SettingWithCopy here in case the user mutates\u001b[39;00m\n\u001b[0;32m-> 1081\u001b[0m         results[i] \u001b[38;5;241m=\u001b[39m \u001b[38;5;28;43mself\u001b[39;49m\u001b[38;5;241;43m.\u001b[39;49m\u001b[43mfunc\u001b[49m\u001b[43m(\u001b[49m\u001b[43mv\u001b[49m\u001b[43m,\u001b[49m\u001b[43m \u001b[49m\u001b[38;5;241;43m*\u001b[39;49m\u001b[38;5;28;43mself\u001b[39;49m\u001b[38;5;241;43m.\u001b[39;49m\u001b[43margs\u001b[49m\u001b[43m,\u001b[49m\u001b[43m \u001b[49m\u001b[38;5;241;43m*\u001b[39;49m\u001b[38;5;241;43m*\u001b[39;49m\u001b[38;5;28;43mself\u001b[39;49m\u001b[38;5;241;43m.\u001b[39;49m\u001b[43mkwargs\u001b[49m\u001b[43m)\u001b[49m\n\u001b[1;32m   1082\u001b[0m         \u001b[38;5;28;01mif\u001b[39;00m \u001b[38;5;28misinstance\u001b[39m(results[i], ABCSeries):\n\u001b[1;32m   1083\u001b[0m             \u001b[38;5;66;03m# If we have a view on v, we need to make a copy because\u001b[39;00m\n\u001b[1;32m   1084\u001b[0m             \u001b[38;5;66;03m#  series_generator will swap out the underlying data\u001b[39;00m\n\u001b[1;32m   1085\u001b[0m             results[i] \u001b[38;5;241m=\u001b[39m results[i]\u001b[38;5;241m.\u001b[39mcopy(deep\u001b[38;5;241m=\u001b[39m\u001b[38;5;28;01mFalse\u001b[39;00m)\n",
      "File \u001b[0;32m/lustre/groups/ml01/workspace/ot_pert_new/conda_envs/ot_pert_cpa/lib/python3.9/site-packages/cpa/_model.py:252\u001b[0m, in \u001b[0;36mCPA.setup_anndata.<locals>.<lambda>\u001b[0;34m(x)\u001b[0m\n\u001b[1;32m    249\u001b[0m \u001b[38;5;28;01mif\u001b[39;00m batch_key \u001b[38;5;129;01mis\u001b[39;00m \u001b[38;5;129;01mnot\u001b[39;00m \u001b[38;5;28;01mNone\u001b[39;00m:\n\u001b[1;32m    250\u001b[0m     keys \u001b[38;5;241m=\u001b[39m [batch_key] \u001b[38;5;241m+\u001b[39m keys\n\u001b[0;32m--> 252\u001b[0m adata\u001b[38;5;241m.\u001b[39mobs[category_key] \u001b[38;5;241m=\u001b[39m adata\u001b[38;5;241m.\u001b[39mobs[keys]\u001b[38;5;241m.\u001b[39mapply(\u001b[38;5;28;01mlambda\u001b[39;00m x: \u001b[38;5;124;43m\"\u001b[39;49m\u001b[38;5;124;43m_\u001b[39;49m\u001b[38;5;124;43m\"\u001b[39;49m\u001b[38;5;241;43m.\u001b[39;49m\u001b[43mjoin\u001b[49m\u001b[43m(\u001b[49m\u001b[43mx\u001b[49m\u001b[43m)\u001b[49m, axis\u001b[38;5;241m=\u001b[39m\u001b[38;5;241m1\u001b[39m)\n\u001b[1;32m    253\u001b[0m CPA_REGISTRY_KEYS\u001b[38;5;241m.\u001b[39mCATEGORY_KEY \u001b[38;5;241m=\u001b[39m category_key\n\u001b[1;32m    255\u001b[0m \u001b[38;5;28;01mif\u001b[39;00m \u001b[38;5;28mcls\u001b[39m\u001b[38;5;241m.\u001b[39mpert_encoder \u001b[38;5;129;01mis\u001b[39;00m \u001b[38;5;28;01mNone\u001b[39;00m:\n\u001b[1;32m    256\u001b[0m     \u001b[38;5;66;03m# get unique drugs\u001b[39;00m\n",
      "\u001b[0;31mTypeError\u001b[0m: sequence item 1: expected str instance, float found"
     ]
    }
   ],
   "source": [
    "cpa.CPA.setup_anndata(adata_train,\n",
    "                      perturbation_key='condition_ID',\n",
    "                      dosage_key='log_dose',\n",
    "                      control_group='CHEMBL504',\n",
    "                      batch_key=None,\n",
    "                      is_count_data=True,\n",
    "                      categorical_covariate_keys=['cell_type'],\n",
    "                      #deg_uns_key='rank_genes_groups_cov',\n",
    "                      deg_uns_cat_key='cov_drug_dose',\n",
    "                      max_comb_len=2,\n",
    "                     )"
   ]
  },
  {
   "cell_type": "code",
   "execution_count": 22,
   "id": "3e3d2f14-708f-49f2-aa91-aed46ff1d451",
   "metadata": {},
   "outputs": [],
   "source": [
    "def compute_r_squared(x: np.ndarray, y: np.ndarray) -> float:\n",
    "    return r2_score(np.mean(x, axis=0), np.mean(y, axis=0))"
   ]
  },
  {
   "cell_type": "code",
   "execution_count": 26,
   "id": "1ef55cbc-6c43-436c-9102-3be086cb6a81",
   "metadata": {},
   "outputs": [],
   "source": [
    "\n",
    "preds_train_log = adata_train.X.A - adata_train.varm[\"X_train_mean\"].T\n",
    "preds_train_pca = np.matmul(preds_train_log, adata_train.varm[\"PCs\"])"
   ]
  },
  {
   "cell_type": "code",
   "execution_count": 28,
   "id": "5ed4fabf-77c7-4e5f-a1ea-73d0bc970aa7",
   "metadata": {},
   "outputs": [
    {
     "data": {
      "text/plain": [
       "-222.93512590759994"
      ]
     },
     "execution_count": 28,
     "metadata": {},
     "output_type": "execute_result"
    }
   ],
   "source": [
    "from sklearn.metrics import r2_score\n",
    "compute_r_squared(preds_train_pca, adata_train.obsm[\"X_pca\"])"
   ]
  },
  {
   "cell_type": "code",
   "execution_count": 174,
   "id": "1d8d0c3e-e285-457e-9b81-e9edf65fab83",
   "metadata": {},
   "outputs": [],
   "source": [
    "ae_hparams = {\n",
    "    \"n_latent\": 128,\n",
    "    \"recon_loss\": \"nb\",\n",
    "    \"doser_type\": \"logsigm\",\n",
    "    \"n_hidden_encoder\": 512,\n",
    "    \"n_layers_encoder\": 3,\n",
    "    \"n_hidden_decoder\": 512,\n",
    "    \"n_layers_decoder\": 3,\n",
    "    \"use_batch_norm_encoder\": True,\n",
    "    \"use_layer_norm_encoder\": False,\n",
    "    \"use_batch_norm_decoder\": True,\n",
    "    \"use_layer_norm_decoder\": False,\n",
    "    \"dropout_rate_encoder\": 0.1,\n",
    "    \"dropout_rate_decoder\": 0.1,\n",
    "    \"variational\": False,\n",
    "    \"seed\": 434,\n",
    "}\n",
    "\n",
    "trainer_params = {\n",
    "    \"n_epochs_kl_warmup\": None,\n",
    "    \"n_epochs_pretrain_ae\": 30,\n",
    "    \"n_epochs_adv_warmup\": 50,\n",
    "    \"n_epochs_mixup_warmup\": 3,\n",
    "    \"mixup_alpha\": 0.1,\n",
    "    \"adv_steps\": 2,\n",
    "    \"n_hidden_adv\": 64,\n",
    "    \"n_layers_adv\": 2,\n",
    "    \"use_batch_norm_adv\": True,\n",
    "    \"use_layer_norm_adv\": False,\n",
    "    \"dropout_rate_adv\": 0.3,\n",
    "    \"reg_adv\": 20.0,\n",
    "    \"pen_adv\": 20.0,\n",
    "    \"lr\": 0.0003,\n",
    "    \"wd\": 4e-07,\n",
    "    \"adv_lr\": 0.0003,\n",
    "    \"adv_wd\": 4e-07,\n",
    "    \"adv_loss\": \"cce\",\n",
    "    \"doser_lr\": 0.0003,\n",
    "    \"doser_wd\": 4e-07,\n",
    "    \"do_clip_grad\": False,\n",
    "    \"gradient_clip_value\": 1.0,\n",
    "    \"step_size_lr\": 45,\n",
    "}"
   ]
  },
  {
   "cell_type": "code",
   "execution_count": 175,
   "id": "3e0f8100-c104-44ec-bc2f-025a42b4b917",
   "metadata": {},
   "outputs": [
    {
     "name": "stderr",
     "output_type": "stream",
     "text": [
      "[rank: 0] Global seed set to 434\n"
     ]
    }
   ],
   "source": [
    "model = cpa.CPA(adata=adata_train,\n",
    "                split_key='split_1ct_MEC',\n",
    "                train_split='train',\n",
    "                valid_split='valid',\n",
    "                **ae_hparams,\n",
    "               )"
   ]
  },
  {
   "cell_type": "code",
   "execution_count": 176,
   "id": "7e9ef73a-586e-4d35-9b9b-0a68942e8340",
   "metadata": {},
   "outputs": [
    {
     "name": "stderr",
     "output_type": "stream",
     "text": [
      "\n",
      "  0%|          | 0/27 [00:00<?, ?it/s]\u001b[A\n",
      "100%|██████████| 27/27 [00:00<00:00, 180.58it/s]\u001b[A\n",
      "GPU available: True (cuda), used: True\n",
      "TPU available: False, using: 0 TPU cores\n",
      "IPU available: False, using: 0 IPUs\n",
      "HPU available: False, using: 0 HPUs\n",
      "You are using a CUDA device ('NVIDIA A100-PCIE-40GB MIG 3g.20gb') that has Tensor Cores. To properly utilize them, you should set `torch.set_float32_matmul_precision('medium' | 'high')` which will trade-off precision for performance. For more details, read https://pytorch.org/docs/stable/generated/torch.set_float32_matmul_precision.html#torch.set_float32_matmul_precision\n",
      "LOCAL_RANK: 0 - CUDA_VISIBLE_DEVICES: [MIG-d2c9e8c7-5bf5-5039-b1c7-e062977cb38b]\n"
     ]
    },
    {
     "name": "stdout",
     "output_type": "stream",
     "text": [
      "Epoch 5/2000:   0%|          | 4/2000 [01:39<13:45:47, 24.82s/it, v_num=1, recon=324, r2_mean=0.757, adv_loss=2.06, acc_pert=0.264] "
     ]
    },
    {
     "name": "stderr",
     "output_type": "stream",
     "text": [
      "\n",
      "Epoch 00004: cpa_metric reached. Module best state updated.\n"
     ]
    },
    {
     "name": "stdout",
     "output_type": "stream",
     "text": [
      "Epoch 10/2000:   0%|          | 9/2000 [03:48<13:53:36, 25.12s/it, v_num=1, recon=305, r2_mean=0.77, adv_loss=1.87, acc_pert=0.312, val_recon=316, disnt_basal=0.0677, disnt_after=0.0968, val_r2_mean=0.76, val_KL=nan]"
     ]
    },
    {
     "name": "stderr",
     "output_type": "stream",
     "text": [
      "\n",
      "Epoch 00009: cpa_metric reached. Module best state updated.\n"
     ]
    },
    {
     "name": "stdout",
     "output_type": "stream",
     "text": [
      "\n",
      "disnt_basal = 0.05894317701288767\n",
      "disnt_after = 0.08506428801608198\n",
      "val_r2_mean = 0.7637113010317562\n",
      "val_r2_var = 0.1607264071837322\n",
      "Epoch 15/2000:   1%|          | 14/2000 [05:57<14:03:20, 25.48s/it, v_num=1, recon=295, r2_mean=0.773, adv_loss=1.82, acc_pert=0.337, val_recon=302, disnt_basal=0.0589, disnt_after=0.0851, val_r2_mean=0.764, val_KL=nan]"
     ]
    },
    {
     "name": "stderr",
     "output_type": "stream",
     "text": [
      "\n",
      "Epoch 00014: cpa_metric reached. Module best state updated.\n"
     ]
    },
    {
     "name": "stdout",
     "output_type": "stream",
     "text": [
      "Epoch 20/2000:   1%|          | 19/2000 [08:04<13:45:23, 25.00s/it, v_num=1, recon=288, r2_mean=0.777, adv_loss=1.82, acc_pert=0.336, val_recon=294, disnt_basal=0.0569, disnt_after=0.0823, val_r2_mean=0.767, val_KL=nan]"
     ]
    },
    {
     "name": "stderr",
     "output_type": "stream",
     "text": [
      "\n",
      "Epoch 00019: cpa_metric reached. Module best state updated.\n"
     ]
    },
    {
     "name": "stdout",
     "output_type": "stream",
     "text": [
      "\n",
      "disnt_basal = 0.05217186558849538\n",
      "disnt_after = 0.07826841322439168\n",
      "val_r2_mean = 0.7692084657295386\n",
      "val_r2_var = 0.1581302106541998\n",
      "Epoch 30/2000:   1%|▏         | 29/2000 [12:20<13:43:50, 25.08s/it, v_num=1, recon=279, r2_mean=0.78, adv_loss=1.82, acc_pert=0.34, val_recon=285, disnt_basal=0.0498, disnt_after=0.0763, val_r2_mean=0.764, val_KL=nan]  \n",
      "disnt_basal = 0.04738376711187475\n",
      "disnt_after = 0.07347231022064356\n",
      "val_r2_mean = 0.7687046536385546\n",
      "val_r2_var = 0.1558590970591475\n",
      "Epoch 40/2000:   2%|▏         | 39/2000 [16:25<13:01:58, 23.93s/it, v_num=1, recon=277, r2_mean=0.78, adv_loss=3.4, acc_pert=0.0563, val_recon=283, disnt_basal=0.0373, disnt_after=0.0631, val_r2_mean=0.767, val_KL=nan]  \n",
      "disnt_basal = 0.03737263614007471\n",
      "disnt_after = 0.06495484860067124\n",
      "val_r2_mean = 0.770815257054498\n",
      "val_r2_var = 0.14688270957315835\n",
      "Epoch 45/2000:   2%|▏         | 44/2000 [18:25<12:53:33, 23.73s/it, v_num=1, recon=276, r2_mean=0.781, adv_loss=3.34, acc_pert=0.0457, val_recon=282, disnt_basal=0.0374, disnt_after=0.065, val_r2_mean=0.771, val_KL=nan]"
     ]
    },
    {
     "name": "stderr",
     "output_type": "stream",
     "text": [
      "\n",
      "Epoch 00044: cpa_metric reached. Module best state updated.\n"
     ]
    },
    {
     "name": "stdout",
     "output_type": "stream",
     "text": [
      "Epoch 50/2000:   2%|▏         | 49/2000 [20:26<12:52:57, 23.77s/it, v_num=1, recon=275, r2_mean=0.78, adv_loss=3.32, acc_pert=0.0454, val_recon=281, disnt_basal=0.0363, disnt_after=0.065, val_r2_mean=0.772, val_KL=nan] \n",
      "disnt_basal = 0.035491545077025226\n",
      "disnt_after = 0.06455249115751736\n",
      "val_r2_mean = 0.7676875444353733\n",
      "val_r2_var = 0.14250919413451318\n",
      "Epoch 60/2000:   3%|▎         | 59/2000 [24:30<12:49:24, 23.78s/it, v_num=1, recon=274, r2_mean=0.782, adv_loss=3.3, acc_pert=0.0468, val_recon=280, disnt_basal=0.0354, disnt_after=0.064, val_r2_mean=0.767, val_KL=nan]  \n",
      "disnt_basal = 0.03522260966887392\n",
      "disnt_after = 0.06311117509432769\n",
      "val_r2_mean = 0.7692925417376653\n",
      "val_r2_var = 0.14895800763207281\n",
      "Epoch 70/2000:   3%|▎         | 69/2000 [28:32<12:46:24, 23.81s/it, v_num=1, recon=273, r2_mean=0.783, adv_loss=3.29, acc_pert=0.0467, val_recon=280, disnt_basal=0.0333, disnt_after=0.0625, val_r2_mean=0.769, val_KL=nan]\n",
      "disnt_basal = 0.034739183793282793\n",
      "disnt_after = 0.0635861702116866\n",
      "val_r2_mean = 0.7660114453107867\n",
      "val_r2_var = 0.14437877161991902\n",
      "Epoch 80/2000:   4%|▍         | 79/2000 [32:35<12:45:18, 23.90s/it, v_num=1, recon=272, r2_mean=0.783, adv_loss=3.29, acc_pert=0.046, val_recon=280, disnt_basal=0.0337, disnt_after=0.0626, val_r2_mean=0.769, val_KL=nan] \n",
      "disnt_basal = 0.032907733118351\n",
      "disnt_after = 0.06146045719274264\n",
      "val_r2_mean = 0.76299594985605\n",
      "val_r2_var = 0.14906587767843\n",
      "Epoch 90/2000:   4%|▍         | 89/2000 [36:40<12:46:52, 24.08s/it, v_num=1, recon=271, r2_mean=0.784, adv_loss=3.29, acc_pert=0.0477, val_recon=280, disnt_basal=0.0323, disnt_after=0.0615, val_r2_mean=0.768, val_KL=nan]\n",
      "disnt_basal = 0.0323178535386477\n",
      "disnt_after = 0.060293917579960145\n",
      "val_r2_mean = 0.767770022643001\n",
      "val_r2_var = 0.14823209320161587\n",
      "Epoch 95/2000:   5%|▍         | 95/2000 [39:11<13:05:46, 24.75s/it, v_num=1, recon=271, r2_mean=0.784, adv_loss=3.29, acc_pert=0.0465, val_recon=279, disnt_basal=0.0319, disnt_after=0.0609, val_r2_mean=0.768, val_KL=nan]\n"
     ]
    }
   ],
   "source": [
    "model.train(max_epochs=2000,\n",
    "            use_gpu=True,\n",
    "            batch_size=128,\n",
    "            plan_kwargs=trainer_params,\n",
    "            early_stopping_patience=10,\n",
    "            check_val_every_n_epoch=5,\n",
    "            save_path='/home/icb/dominik.klein/tmp',\n",
    "           )"
   ]
  },
  {
   "cell_type": "code",
   "execution_count": 177,
   "id": "20637c21-b74c-40ca-bd90-9b645fdf75ea",
   "metadata": {},
   "outputs": [
    {
     "name": "stderr",
     "output_type": "stream",
     "text": [
      "100%|██████████| 3100/3100 [00:00<00:00, 64014.05it/s]\n",
      "100%|██████████| 3100/3100 [00:00<00:00, 417853.34it/s]\n"
     ]
    },
    {
     "name": "stdout",
     "output_type": "stream",
     "text": [
      "\u001b[34mINFO    \u001b[0m Generating sequential column names                                                                        \n",
      "\u001b[34mINFO    \u001b[0m Generating sequential column names                                                                        \n"
     ]
    }
   ],
   "source": [
    "cpa.CPA.setup_anndata(adata_test,\n",
    "                      perturbation_key='condition_ID',\n",
    "                      dosage_key='log_dose',\n",
    "                      control_group='CHEMBL504',\n",
    "                      batch_key=None,\n",
    "                      is_count_data=True,\n",
    "                      categorical_covariate_keys=['cell_type'],\n",
    "                      #deg_uns_key='rank_genes_groups_cov',\n",
    "                      deg_uns_cat_key='cov_drug_dose',\n",
    "                      max_comb_len=2,\n",
    "                     )"
   ]
  },
  {
   "cell_type": "code",
   "execution_count": 178,
   "id": "e2d83bb1-6797-48f8-aa4a-05a6ed5d8e35",
   "metadata": {},
   "outputs": [
    {
     "name": "stderr",
     "output_type": "stream",
     "text": [
      "100%|██████████| 9277/9277 [00:00<00:00, 70103.05it/s]\n",
      "100%|██████████| 9277/9277 [00:00<00:00, 917766.78it/s]"
     ]
    },
    {
     "name": "stdout",
     "output_type": "stream",
     "text": [
      "\u001b[34mINFO    \u001b[0m Generating sequential column names                                                                        \n",
      "\u001b[34mINFO    \u001b[0m Generating sequential column names                                                                        \n"
     ]
    },
    {
     "name": "stderr",
     "output_type": "stream",
     "text": [
      "\n"
     ]
    }
   ],
   "source": [
    "cpa.CPA.setup_anndata(adata_ood,\n",
    "                      perturbation_key='condition_ID',\n",
    "                      dosage_key='log_dose',\n",
    "                      control_group='CHEMBL504',\n",
    "                      batch_key=None,\n",
    "                      is_count_data=True,\n",
    "                      categorical_covariate_keys=['cell_type'],\n",
    "                      #deg_uns_key='rank_genes_groups_cov',\n",
    "                      deg_uns_cat_key='cov_drug_dose',\n",
    "                      max_comb_len=2,\n",
    "                     )"
   ]
  },
  {
   "cell_type": "code",
   "execution_count": 179,
   "id": "f5956d8b-b5bc-4ebd-9a7a-1e7e606d97c8",
   "metadata": {},
   "outputs": [
    {
     "name": "stdout",
     "output_type": "stream",
     "text": [
      "\u001b[34mINFO    \u001b[0m Input AnnData not setup with scvi-tools. attempting to transfer AnnData setup                             \n"
     ]
    },
    {
     "name": "stderr",
     "output_type": "stream",
     "text": [
      "100%|██████████| 97/97 [00:00<00:00, 127.72it/s]\n"
     ]
    }
   ],
   "source": [
    "model.predict(adata_test)"
   ]
  },
  {
   "cell_type": "code",
   "execution_count": 180,
   "id": "27cefb3c-4ccf-4f54-9278-1a445fe27764",
   "metadata": {},
   "outputs": [],
   "source": [
    "preds = adata_test.obsm[\"CPA_pred\"]"
   ]
  },
  {
   "cell_type": "code",
   "execution_count": 183,
   "id": "b896a85c-877d-4f49-8fec-330aa6396449",
   "metadata": {},
   "outputs": [],
   "source": [
    "preds_pca = np.matmul(preds, adata_train.varm[\"PCs\"])"
   ]
  },
  {
   "cell_type": "code",
   "execution_count": 192,
   "id": "e4a34ea1-36e0-479f-9825-f0cb05a5ed7f",
   "metadata": {},
   "outputs": [
    {
     "name": "stderr",
     "output_type": "stream",
     "text": [
      "100%|██████████| 1610/1610 [00:30<00:00, 51.96it/s]\n"
     ]
    }
   ],
   "source": [
    "model.predict(adata_train)"
   ]
  },
  {
   "cell_type": "code",
   "execution_count": 193,
   "id": "5b8e1b9d-8329-4a7f-a784-58f1ba5b07f2",
   "metadata": {},
   "outputs": [],
   "source": [
    "preds_train = adata_train.obsm[\"CPA_pred\"]"
   ]
  },
  {
   "cell_type": "code",
   "execution_count": 199,
   "id": "98920ac7-fb98-4411-a399-d34da6074973",
   "metadata": {},
   "outputs": [
    {
     "data": {
      "text/plain": [
       "((51501, 2000), (51501, 2000))"
      ]
     },
     "execution_count": 199,
     "metadata": {},
     "output_type": "execute_result"
    }
   ],
   "source": [
    "adata_train.X.shape, preds_train.shape"
   ]
  },
  {
   "cell_type": "code",
   "execution_count": 200,
   "id": "6799483c-9c50-4fe3-bae6-eb08cdd33c04",
   "metadata": {},
   "outputs": [
    {
     "data": {
      "text/plain": [
       "0.9963734489445446"
      ]
     },
     "execution_count": 200,
     "metadata": {},
     "output_type": "execute_result"
    }
   ],
   "source": [
    "compute_r_squared(preds_train, adata_train.X.A)"
   ]
  },
  {
   "cell_type": "code",
   "execution_count": 215,
   "id": "93c2bb18-ae04-498a-8a21-224837eee3f5",
   "metadata": {},
   "outputs": [],
   "source": [
    "preds_train_log = np.log1p(preds_train) - adata_train.varm[\"X_train_mean\"].T\n",
    "preds_train_pca = np.matmul(preds_train_log, adata_train.varm[\"PCs\"])"
   ]
  },
  {
   "cell_type": "code",
   "execution_count": 223,
   "id": "7899f422-3866-427f-93d6-2bfda5fbf00a",
   "metadata": {},
   "outputs": [
    {
     "data": {
      "text/plain": [
       "-0.015940763"
      ]
     },
     "execution_count": 223,
     "metadata": {},
     "output_type": "execute_result"
    }
   ],
   "source": [
    "(np.log1p(preds_train).mean(axis=0) - adata_train.varm[\"X_train_mean\"]).mean()"
   ]
  },
  {
   "cell_type": "code",
   "execution_count": 221,
   "id": "0182b4d4-a8b0-4f4b-8a85-5596f62a11a8",
   "metadata": {},
   "outputs": [
    {
     "data": {
      "text/plain": [
       "array([[0.10696691],\n",
       "       [0.01764269],\n",
       "       [0.07884356],\n",
       "       ...,\n",
       "       [0.00024302],\n",
       "       [0.00037494],\n",
       "       [0.00057457]], dtype=float32)"
      ]
     },
     "execution_count": 221,
     "metadata": {},
     "output_type": "execute_result"
    }
   ],
   "source": [
    "adata_train.varm[\"X_train_mean\"]"
   ]
  },
  {
   "cell_type": "code",
   "execution_count": 216,
   "id": "def34bee-fa7c-49d6-819b-6452040292b6",
   "metadata": {},
   "outputs": [],
   "source": [
    "preds_train_pca = np.matmul(preds_train_log, adata_train.varm[\"PCs\"])"
   ]
  },
  {
   "cell_type": "code",
   "execution_count": null,
   "id": "f280071d-d665-4a8b-be0d-7bfa31723e39",
   "metadata": {},
   "outputs": [],
   "source": [
    "true_train_pca = np.matmul(adata_train, adata_train.varm[\"PCs\"])"
   ]
  },
  {
   "cell_type": "code",
   "execution_count": 218,
   "id": "ee03d7bf-f8fa-47d0-b54b-e6b4126220b0",
   "metadata": {},
   "outputs": [
    {
     "data": {
      "text/plain": [
       "-0.01202978864684412"
      ]
     },
     "execution_count": 218,
     "metadata": {},
     "output_type": "execute_result"
    }
   ],
   "source": [
    "compute_r_squared(preds_train_pca, adata_train.obsm[\"X_pca\"])"
   ]
  },
  {
   "cell_type": "code",
   "execution_count": 219,
   "id": "83e0e252-7d31-4bb6-b134-4cf2e4e6897a",
   "metadata": {},
   "outputs": [
    {
     "data": {
      "text/plain": [
       "(7.5745454e-10, 5.176859)"
      ]
     },
     "execution_count": 219,
     "metadata": {},
     "output_type": "execute_result"
    }
   ],
   "source": [
    "preds_train[0].min(), preds_train[0].max()"
   ]
  },
  {
   "cell_type": "code",
   "execution_count": 186,
   "id": "c4be56eb-3fa4-4a09-b097-4a90248baabf",
   "metadata": {},
   "outputs": [
    {
     "name": "stdout",
     "output_type": "stream",
     "text": [
      "\u001b[34mINFO    \u001b[0m Input AnnData not setup with scvi-tools. attempting to transfer AnnData setup                             \n"
     ]
    },
    {
     "ename": "ValueError",
     "evalue": "Category CHEMBL1213492+CHEMBL257991 not found in source registry. Cannot transfer setup without `extend_categories = True`.",
     "output_type": "error",
     "traceback": [
      "\u001b[0;31m---------------------------------------------------------------------------\u001b[0m",
      "\u001b[0;31mValueError\u001b[0m                                Traceback (most recent call last)",
      "Cell \u001b[0;32mIn[186], line 1\u001b[0m\n\u001b[0;32m----> 1\u001b[0m \u001b[43mmodel\u001b[49m\u001b[38;5;241;43m.\u001b[39;49m\u001b[43mpredict\u001b[49m\u001b[43m(\u001b[49m\u001b[43madata_ood\u001b[49m\u001b[43m)\u001b[49m\n",
      "File \u001b[0;32m/lustre/groups/ml01/workspace/ot_pert_new/conda_envs/ot_pert_cpa/lib/python3.9/site-packages/torch/utils/_contextlib.py:115\u001b[0m, in \u001b[0;36mcontext_decorator.<locals>.decorate_context\u001b[0;34m(*args, **kwargs)\u001b[0m\n\u001b[1;32m    112\u001b[0m \u001b[38;5;129m@functools\u001b[39m\u001b[38;5;241m.\u001b[39mwraps(func)\n\u001b[1;32m    113\u001b[0m \u001b[38;5;28;01mdef\u001b[39;00m \u001b[38;5;21mdecorate_context\u001b[39m(\u001b[38;5;241m*\u001b[39margs, \u001b[38;5;241m*\u001b[39m\u001b[38;5;241m*\u001b[39mkwargs):\n\u001b[1;32m    114\u001b[0m     \u001b[38;5;28;01mwith\u001b[39;00m ctx_factory():\n\u001b[0;32m--> 115\u001b[0m         \u001b[38;5;28;01mreturn\u001b[39;00m \u001b[43mfunc\u001b[49m\u001b[43m(\u001b[49m\u001b[38;5;241;43m*\u001b[39;49m\u001b[43margs\u001b[49m\u001b[43m,\u001b[49m\u001b[43m \u001b[49m\u001b[38;5;241;43m*\u001b[39;49m\u001b[38;5;241;43m*\u001b[39;49m\u001b[43mkwargs\u001b[49m\u001b[43m)\u001b[49m\n",
      "File \u001b[0;32m/lustre/groups/ml01/workspace/ot_pert_new/conda_envs/ot_pert_cpa/lib/python3.9/site-packages/cpa/_model.py:677\u001b[0m, in \u001b[0;36mCPA.predict\u001b[0;34m(self, adata, indices, batch_size, n_samples, return_mean)\u001b[0m\n\u001b[1;32m    674\u001b[0m \u001b[38;5;28;01massert\u001b[39;00m \u001b[38;5;28mself\u001b[39m\u001b[38;5;241m.\u001b[39mmodule\u001b[38;5;241m.\u001b[39mrecon_loss \u001b[38;5;129;01min\u001b[39;00m [\u001b[38;5;124m\"\u001b[39m\u001b[38;5;124mgauss\u001b[39m\u001b[38;5;124m\"\u001b[39m, \u001b[38;5;124m\"\u001b[39m\u001b[38;5;124mnb\u001b[39m\u001b[38;5;124m\"\u001b[39m, \u001b[38;5;124m\"\u001b[39m\u001b[38;5;124mzinb\u001b[39m\u001b[38;5;124m\"\u001b[39m]\n\u001b[1;32m    675\u001b[0m \u001b[38;5;28mself\u001b[39m\u001b[38;5;241m.\u001b[39mmodule\u001b[38;5;241m.\u001b[39meval()\n\u001b[0;32m--> 677\u001b[0m adata \u001b[38;5;241m=\u001b[39m \u001b[38;5;28;43mself\u001b[39;49m\u001b[38;5;241;43m.\u001b[39;49m\u001b[43m_validate_anndata\u001b[49m\u001b[43m(\u001b[49m\u001b[43madata\u001b[49m\u001b[43m)\u001b[49m\n\u001b[1;32m    678\u001b[0m \u001b[38;5;28;01mif\u001b[39;00m indices \u001b[38;5;129;01mis\u001b[39;00m \u001b[38;5;28;01mNone\u001b[39;00m:\n\u001b[1;32m    679\u001b[0m     indices \u001b[38;5;241m=\u001b[39m np\u001b[38;5;241m.\u001b[39marange(adata\u001b[38;5;241m.\u001b[39mn_obs)\n",
      "File \u001b[0;32m/lustre/groups/ml01/workspace/ot_pert_new/conda_envs/ot_pert_cpa/lib/python3.9/site-packages/scvi/model/base/_base_model.py:415\u001b[0m, in \u001b[0;36mBaseModelClass._validate_anndata\u001b[0;34m(self, adata, copy_if_view)\u001b[0m\n\u001b[1;32m    409\u001b[0m \u001b[38;5;28;01mif\u001b[39;00m adata_manager \u001b[38;5;129;01mis\u001b[39;00m \u001b[38;5;28;01mNone\u001b[39;00m:\n\u001b[1;32m    410\u001b[0m     logger\u001b[38;5;241m.\u001b[39minfo(\n\u001b[1;32m    411\u001b[0m         \u001b[38;5;124m\"\u001b[39m\u001b[38;5;124mInput AnnData not setup with scvi-tools. \u001b[39m\u001b[38;5;124m\"\u001b[39m\n\u001b[1;32m    412\u001b[0m         \u001b[38;5;241m+\u001b[39m \u001b[38;5;124m\"\u001b[39m\u001b[38;5;124mattempting to transfer AnnData setup\u001b[39m\u001b[38;5;124m\"\u001b[39m\n\u001b[1;32m    413\u001b[0m     )\n\u001b[1;32m    414\u001b[0m     \u001b[38;5;28mself\u001b[39m\u001b[38;5;241m.\u001b[39m_register_manager_for_instance(\n\u001b[0;32m--> 415\u001b[0m         \u001b[38;5;28;43mself\u001b[39;49m\u001b[38;5;241;43m.\u001b[39;49m\u001b[43madata_manager\u001b[49m\u001b[38;5;241;43m.\u001b[39;49m\u001b[43mtransfer_fields\u001b[49m\u001b[43m(\u001b[49m\u001b[43madata\u001b[49m\u001b[43m)\u001b[49m\n\u001b[1;32m    416\u001b[0m     )\n\u001b[1;32m    417\u001b[0m \u001b[38;5;28;01melse\u001b[39;00m:\n\u001b[1;32m    418\u001b[0m     \u001b[38;5;66;03m# Case where correct AnnDataManager is found, replay registration as necessary.\u001b[39;00m\n\u001b[1;32m    419\u001b[0m     adata_manager\u001b[38;5;241m.\u001b[39mvalidate()\n",
      "File \u001b[0;32m/lustre/groups/ml01/workspace/ot_pert_new/conda_envs/ot_pert_cpa/lib/python3.9/site-packages/scvi/data/_manager.py:277\u001b[0m, in \u001b[0;36mAnnDataManager.transfer_fields\u001b[0;34m(self, adata_target, **kwargs)\u001b[0m\n\u001b[1;32m    271\u001b[0m fields \u001b[38;5;241m=\u001b[39m \u001b[38;5;28mself\u001b[39m\u001b[38;5;241m.\u001b[39mfields\n\u001b[1;32m    272\u001b[0m new_adata_manager \u001b[38;5;241m=\u001b[39m \u001b[38;5;28mself\u001b[39m\u001b[38;5;241m.\u001b[39m\u001b[38;5;18m__class__\u001b[39m(\n\u001b[1;32m    273\u001b[0m     fields\u001b[38;5;241m=\u001b[39mfields,\n\u001b[1;32m    274\u001b[0m     setup_method_args\u001b[38;5;241m=\u001b[39m\u001b[38;5;28mself\u001b[39m\u001b[38;5;241m.\u001b[39m_get_setup_method_args(),\n\u001b[1;32m    275\u001b[0m     validation_checks\u001b[38;5;241m=\u001b[39m\u001b[38;5;28mself\u001b[39m\u001b[38;5;241m.\u001b[39mvalidation_checks,\n\u001b[1;32m    276\u001b[0m )\n\u001b[0;32m--> 277\u001b[0m \u001b[43mnew_adata_manager\u001b[49m\u001b[38;5;241;43m.\u001b[39;49m\u001b[43mregister_fields\u001b[49m\u001b[43m(\u001b[49m\u001b[43madata_target\u001b[49m\u001b[43m,\u001b[49m\u001b[43m \u001b[49m\u001b[38;5;28;43mself\u001b[39;49m\u001b[38;5;241;43m.\u001b[39;49m\u001b[43m_registry\u001b[49m\u001b[43m,\u001b[49m\u001b[43m \u001b[49m\u001b[38;5;241;43m*\u001b[39;49m\u001b[38;5;241;43m*\u001b[39;49m\u001b[43mkwargs\u001b[49m\u001b[43m)\u001b[49m\n\u001b[1;32m    278\u001b[0m \u001b[38;5;28;01mreturn\u001b[39;00m new_adata_manager\n",
      "File \u001b[0;32m/lustre/groups/ml01/workspace/ot_pert_new/conda_envs/ot_pert_cpa/lib/python3.9/site-packages/scvi/data/_manager.py:174\u001b[0m, in \u001b[0;36mAnnDataManager.register_fields\u001b[0;34m(self, adata, source_registry, **transfer_kwargs)\u001b[0m\n\u001b[1;32m    171\u001b[0m \u001b[38;5;28mself\u001b[39m\u001b[38;5;241m.\u001b[39m_validate_anndata_object(adata)\n\u001b[1;32m    173\u001b[0m \u001b[38;5;28;01mfor\u001b[39;00m field \u001b[38;5;129;01min\u001b[39;00m \u001b[38;5;28mself\u001b[39m\u001b[38;5;241m.\u001b[39mfields:\n\u001b[0;32m--> 174\u001b[0m     \u001b[38;5;28;43mself\u001b[39;49m\u001b[38;5;241;43m.\u001b[39;49m\u001b[43m_add_field\u001b[49m\u001b[43m(\u001b[49m\n\u001b[1;32m    175\u001b[0m \u001b[43m        \u001b[49m\u001b[43mfield\u001b[49m\u001b[38;5;241;43m=\u001b[39;49m\u001b[43mfield\u001b[49m\u001b[43m,\u001b[49m\n\u001b[1;32m    176\u001b[0m \u001b[43m        \u001b[49m\u001b[43madata\u001b[49m\u001b[38;5;241;43m=\u001b[39;49m\u001b[43madata\u001b[49m\u001b[43m,\u001b[49m\n\u001b[1;32m    177\u001b[0m \u001b[43m        \u001b[49m\u001b[43msource_registry\u001b[49m\u001b[38;5;241;43m=\u001b[39;49m\u001b[43msource_registry\u001b[49m\u001b[43m,\u001b[49m\n\u001b[1;32m    178\u001b[0m \u001b[43m        \u001b[49m\u001b[38;5;241;43m*\u001b[39;49m\u001b[38;5;241;43m*\u001b[39;49m\u001b[43mtransfer_kwargs\u001b[49m\u001b[43m,\u001b[49m\n\u001b[1;32m    179\u001b[0m \u001b[43m    \u001b[49m\u001b[43m)\u001b[49m\n\u001b[1;32m    181\u001b[0m \u001b[38;5;66;03m# Save arguments for register_fields.\u001b[39;00m\n\u001b[1;32m    182\u001b[0m \u001b[38;5;28mself\u001b[39m\u001b[38;5;241m.\u001b[39m_source_registry \u001b[38;5;241m=\u001b[39m deepcopy(source_registry)\n",
      "File \u001b[0;32m/lustre/groups/ml01/workspace/ot_pert_new/conda_envs/ot_pert_cpa/lib/python3.9/site-packages/scvi/data/_manager.py:209\u001b[0m, in \u001b[0;36mAnnDataManager._add_field\u001b[0;34m(self, field, adata, source_registry, **transfer_kwargs)\u001b[0m\n\u001b[1;32m    206\u001b[0m \u001b[38;5;28;01mif\u001b[39;00m \u001b[38;5;129;01mnot\u001b[39;00m field\u001b[38;5;241m.\u001b[39mis_empty:\n\u001b[1;32m    207\u001b[0m     \u001b[38;5;66;03m# Transfer case: Source registry is used for validation and/or setup.\u001b[39;00m\n\u001b[1;32m    208\u001b[0m     \u001b[38;5;28;01mif\u001b[39;00m source_registry \u001b[38;5;129;01mis\u001b[39;00m \u001b[38;5;129;01mnot\u001b[39;00m \u001b[38;5;28;01mNone\u001b[39;00m:\n\u001b[0;32m--> 209\u001b[0m         field_registry[_constants\u001b[38;5;241m.\u001b[39m_STATE_REGISTRY_KEY] \u001b[38;5;241m=\u001b[39m \u001b[43mfield\u001b[49m\u001b[38;5;241;43m.\u001b[39;49m\u001b[43mtransfer_field\u001b[49m\u001b[43m(\u001b[49m\n\u001b[1;32m    210\u001b[0m \u001b[43m            \u001b[49m\u001b[43msource_registry\u001b[49m\u001b[43m[\u001b[49m\u001b[43m_constants\u001b[49m\u001b[38;5;241;43m.\u001b[39;49m\u001b[43m_FIELD_REGISTRIES_KEY\u001b[49m\u001b[43m]\u001b[49m\u001b[43m[\u001b[49m\n\u001b[1;32m    211\u001b[0m \u001b[43m                \u001b[49m\u001b[43mfield\u001b[49m\u001b[38;5;241;43m.\u001b[39;49m\u001b[43mregistry_key\u001b[49m\n\u001b[1;32m    212\u001b[0m \u001b[43m            \u001b[49m\u001b[43m]\u001b[49m\u001b[43m[\u001b[49m\u001b[43m_constants\u001b[49m\u001b[38;5;241;43m.\u001b[39;49m\u001b[43m_STATE_REGISTRY_KEY\u001b[49m\u001b[43m]\u001b[49m\u001b[43m,\u001b[49m\n\u001b[1;32m    213\u001b[0m \u001b[43m            \u001b[49m\u001b[43madata\u001b[49m\u001b[43m,\u001b[49m\n\u001b[1;32m    214\u001b[0m \u001b[43m            \u001b[49m\u001b[38;5;241;43m*\u001b[39;49m\u001b[38;5;241;43m*\u001b[39;49m\u001b[43mtransfer_kwargs\u001b[49m\u001b[43m,\u001b[49m\n\u001b[1;32m    215\u001b[0m \u001b[43m        \u001b[49m\u001b[43m)\u001b[49m\n\u001b[1;32m    216\u001b[0m     \u001b[38;5;28;01melse\u001b[39;00m:\n\u001b[1;32m    217\u001b[0m         field_registry[_constants\u001b[38;5;241m.\u001b[39m_STATE_REGISTRY_KEY] \u001b[38;5;241m=\u001b[39m field\u001b[38;5;241m.\u001b[39mregister_field(\n\u001b[1;32m    218\u001b[0m             adata\n\u001b[1;32m    219\u001b[0m         )\n",
      "File \u001b[0;32m/lustre/groups/ml01/workspace/ot_pert_new/conda_envs/ot_pert_cpa/lib/python3.9/site-packages/scvi/data/fields/_dataframe_field.py:222\u001b[0m, in \u001b[0;36mCategoricalDataFrameField.transfer_field\u001b[0;34m(self, state_registry, adata_target, extend_categories, **kwargs)\u001b[0m\n\u001b[1;32m    220\u001b[0m             mapping \u001b[38;5;241m=\u001b[39m np\u001b[38;5;241m.\u001b[39mconcatenate([mapping, [c]])\n\u001b[1;32m    221\u001b[0m         \u001b[38;5;28;01melse\u001b[39;00m:\n\u001b[0;32m--> 222\u001b[0m             \u001b[38;5;28;01mraise\u001b[39;00m \u001b[38;5;167;01mValueError\u001b[39;00m(\n\u001b[1;32m    223\u001b[0m                 \u001b[38;5;124mf\u001b[39m\u001b[38;5;124m\"\u001b[39m\u001b[38;5;124mCategory \u001b[39m\u001b[38;5;132;01m{\u001b[39;00mc\u001b[38;5;132;01m}\u001b[39;00m\u001b[38;5;124m not found in source registry. \u001b[39m\u001b[38;5;124m\"\u001b[39m\n\u001b[1;32m    224\u001b[0m                 \u001b[38;5;124mf\u001b[39m\u001b[38;5;124m\"\u001b[39m\u001b[38;5;124mCannot transfer setup without `extend_categories = True`.\u001b[39m\u001b[38;5;124m\"\u001b[39m\n\u001b[1;32m    225\u001b[0m             )\n\u001b[1;32m    226\u001b[0m cat_dtype \u001b[38;5;241m=\u001b[39m CategoricalDtype(categories\u001b[38;5;241m=\u001b[39mmapping, ordered\u001b[38;5;241m=\u001b[39m\u001b[38;5;28;01mTrue\u001b[39;00m)\n\u001b[1;32m    227\u001b[0m new_mapping \u001b[38;5;241m=\u001b[39m _make_column_categorical(\n\u001b[1;32m    228\u001b[0m     \u001b[38;5;28mgetattr\u001b[39m(adata_target, \u001b[38;5;28mself\u001b[39m\u001b[38;5;241m.\u001b[39mattr_name),\n\u001b[1;32m    229\u001b[0m     \u001b[38;5;28mself\u001b[39m\u001b[38;5;241m.\u001b[39m_original_attr_key,\n\u001b[1;32m    230\u001b[0m     \u001b[38;5;28mself\u001b[39m\u001b[38;5;241m.\u001b[39mattr_key,\n\u001b[1;32m    231\u001b[0m     categorical_dtype\u001b[38;5;241m=\u001b[39mcat_dtype,\n\u001b[1;32m    232\u001b[0m )\n",
      "\u001b[0;31mValueError\u001b[0m: Category CHEMBL1213492+CHEMBL257991 not found in source registry. Cannot transfer setup without `extend_categories = True`."
     ]
    }
   ],
   "source": [
    "model.predict(adata_ood)"
   ]
  },
  {
   "cell_type": "code",
   "execution_count": null,
   "id": "20a5aa65-d377-40fe-954b-4fb7a5864a85",
   "metadata": {},
   "outputs": [],
   "source": [
    "preds_ood = adata_ood.obsm[\"CPA_pred\"]"
   ]
  },
  {
   "cell_type": "code",
   "execution_count": 190,
   "id": "1ab24a4a-43ce-40b6-b8c1-27925f4e2ee5",
   "metadata": {},
   "outputs": [
    {
     "data": {
      "text/plain": [
       "False"
      ]
     },
     "execution_count": 190,
     "metadata": {},
     "output_type": "execute_result"
    }
   ],
   "source": [
    "\"CHEMBL257991\" in adata_train.obs[\"condition_ID\"]"
   ]
  },
  {
   "cell_type": "code",
   "execution_count": null,
   "id": "426aba9a-3161-4fc1-a7c0-3262c3440f3a",
   "metadata": {},
   "outputs": [],
   "source": [
    "\"CHEMBL1213492\" in adata_train.obs[]"
   ]
  },
  {
   "cell_type": "code",
   "execution_count": 138,
   "id": "50dda4a0-20ae-4624-b5c6-b3714384dc29",
   "metadata": {},
   "outputs": [],
   "source": [
    "preds_pca = np.matmul(preds, adata_train.varm[\"PCs\"])"
   ]
  },
  {
   "cell_type": "code",
   "execution_count": 140,
   "id": "b8c23cb3-3625-46e4-b487-e6632ecb4a27",
   "metadata": {},
   "outputs": [],
   "source": [
    "def compute_r_squared(x: np.ndarray, y: np.ndarray) -> float:\n",
    "    return r2_score(np.mean(x, axis=0), np.mean(y, axis=0))"
   ]
  },
  {
   "cell_type": "code",
   "execution_count": 153,
   "id": "77236d50-c227-4cfc-ac5d-73add3ae2b35",
   "metadata": {},
   "outputs": [
    {
     "data": {
      "text/plain": [
       "(3100, 2000)"
      ]
     },
     "execution_count": 153,
     "metadata": {},
     "output_type": "execute_result"
    }
   ],
   "source": [
    "np.isfinite(preds).shape"
   ]
  },
  {
   "cell_type": "code",
   "execution_count": 142,
   "id": "6d43fdfc-ae5f-4250-9d78-a8a43c45def3",
   "metadata": {},
   "outputs": [
    {
     "name": "stdout",
     "output_type": "stream",
     "text": [
      "Epoch 3/2000:   0%|          | 2/2000 [33:26<556:44:02, 1003.12s/it, v_num=1, recon=1.58e+3, r2_mean=0.453, adv_loss=2.55, acc_pert=0.173]\n"
     ]
    },
    {
     "ename": "ValueError",
     "evalue": "Input contains NaN.",
     "output_type": "error",
     "traceback": [
      "\u001b[0;31m---------------------------------------------------------------------------\u001b[0m",
      "\u001b[0;31mValueError\u001b[0m                                Traceback (most recent call last)",
      "Cell \u001b[0;32mIn[142], line 2\u001b[0m\n\u001b[1;32m      1\u001b[0m \u001b[38;5;28;01mfrom\u001b[39;00m \u001b[38;5;21;01msklearn\u001b[39;00m\u001b[38;5;21;01m.\u001b[39;00m\u001b[38;5;21;01mmetrics\u001b[39;00m \u001b[38;5;28;01mimport\u001b[39;00m r2_score\n\u001b[0;32m----> 2\u001b[0m \u001b[43mcompute_r_squared\u001b[49m\u001b[43m(\u001b[49m\u001b[43mpreds_pca\u001b[49m\u001b[43m,\u001b[49m\u001b[43m \u001b[49m\u001b[43madata_test\u001b[49m\u001b[38;5;241;43m.\u001b[39;49m\u001b[43mobsm\u001b[49m\u001b[43m[\u001b[49m\u001b[38;5;124;43m\"\u001b[39;49m\u001b[38;5;124;43mX_pca\u001b[39;49m\u001b[38;5;124;43m\"\u001b[39;49m\u001b[43m]\u001b[49m\u001b[43m)\u001b[49m\n",
      "Cell \u001b[0;32mIn[140], line 2\u001b[0m, in \u001b[0;36mcompute_r_squared\u001b[0;34m(x, y)\u001b[0m\n\u001b[1;32m      1\u001b[0m \u001b[38;5;28;01mdef\u001b[39;00m \u001b[38;5;21mcompute_r_squared\u001b[39m(x: np\u001b[38;5;241m.\u001b[39mndarray, y: np\u001b[38;5;241m.\u001b[39mndarray) \u001b[38;5;241m-\u001b[39m\u001b[38;5;241m>\u001b[39m \u001b[38;5;28mfloat\u001b[39m:\n\u001b[0;32m----> 2\u001b[0m     \u001b[38;5;28;01mreturn\u001b[39;00m \u001b[43mr2_score\u001b[49m\u001b[43m(\u001b[49m\u001b[43mnp\u001b[49m\u001b[38;5;241;43m.\u001b[39;49m\u001b[43mmean\u001b[49m\u001b[43m(\u001b[49m\u001b[43mx\u001b[49m\u001b[43m,\u001b[49m\u001b[43m \u001b[49m\u001b[43maxis\u001b[49m\u001b[38;5;241;43m=\u001b[39;49m\u001b[38;5;241;43m0\u001b[39;49m\u001b[43m)\u001b[49m\u001b[43m,\u001b[49m\u001b[43m \u001b[49m\u001b[43mnp\u001b[49m\u001b[38;5;241;43m.\u001b[39;49m\u001b[43mmean\u001b[49m\u001b[43m(\u001b[49m\u001b[43my\u001b[49m\u001b[43m,\u001b[49m\u001b[43m \u001b[49m\u001b[43maxis\u001b[49m\u001b[38;5;241;43m=\u001b[39;49m\u001b[38;5;241;43m0\u001b[39;49m\u001b[43m)\u001b[49m\u001b[43m)\u001b[49m\n",
      "File \u001b[0;32m/lustre/groups/ml01/workspace/ot_pert_new/conda_envs/ot_pert_cpa/lib/python3.9/site-packages/sklearn/utils/_param_validation.py:213\u001b[0m, in \u001b[0;36mvalidate_params.<locals>.decorator.<locals>.wrapper\u001b[0;34m(*args, **kwargs)\u001b[0m\n\u001b[1;32m    207\u001b[0m \u001b[38;5;28;01mtry\u001b[39;00m:\n\u001b[1;32m    208\u001b[0m     \u001b[38;5;28;01mwith\u001b[39;00m config_context(\n\u001b[1;32m    209\u001b[0m         skip_parameter_validation\u001b[38;5;241m=\u001b[39m(\n\u001b[1;32m    210\u001b[0m             prefer_skip_nested_validation \u001b[38;5;129;01mor\u001b[39;00m global_skip_validation\n\u001b[1;32m    211\u001b[0m         )\n\u001b[1;32m    212\u001b[0m     ):\n\u001b[0;32m--> 213\u001b[0m         \u001b[38;5;28;01mreturn\u001b[39;00m \u001b[43mfunc\u001b[49m\u001b[43m(\u001b[49m\u001b[38;5;241;43m*\u001b[39;49m\u001b[43margs\u001b[49m\u001b[43m,\u001b[49m\u001b[43m \u001b[49m\u001b[38;5;241;43m*\u001b[39;49m\u001b[38;5;241;43m*\u001b[39;49m\u001b[43mkwargs\u001b[49m\u001b[43m)\u001b[49m\n\u001b[1;32m    214\u001b[0m \u001b[38;5;28;01mexcept\u001b[39;00m InvalidParameterError \u001b[38;5;28;01mas\u001b[39;00m e:\n\u001b[1;32m    215\u001b[0m     \u001b[38;5;66;03m# When the function is just a wrapper around an estimator, we allow\u001b[39;00m\n\u001b[1;32m    216\u001b[0m     \u001b[38;5;66;03m# the function to delegate validation to the estimator, but we replace\u001b[39;00m\n\u001b[1;32m    217\u001b[0m     \u001b[38;5;66;03m# the name of the estimator by the name of the function in the error\u001b[39;00m\n\u001b[1;32m    218\u001b[0m     \u001b[38;5;66;03m# message to avoid confusion.\u001b[39;00m\n\u001b[1;32m    219\u001b[0m     msg \u001b[38;5;241m=\u001b[39m re\u001b[38;5;241m.\u001b[39msub(\n\u001b[1;32m    220\u001b[0m         \u001b[38;5;124mr\u001b[39m\u001b[38;5;124m\"\u001b[39m\u001b[38;5;124mparameter of \u001b[39m\u001b[38;5;124m\\\u001b[39m\u001b[38;5;124mw+ must be\u001b[39m\u001b[38;5;124m\"\u001b[39m,\n\u001b[1;32m    221\u001b[0m         \u001b[38;5;124mf\u001b[39m\u001b[38;5;124m\"\u001b[39m\u001b[38;5;124mparameter of \u001b[39m\u001b[38;5;132;01m{\u001b[39;00mfunc\u001b[38;5;241m.\u001b[39m\u001b[38;5;18m__qualname__\u001b[39m\u001b[38;5;132;01m}\u001b[39;00m\u001b[38;5;124m must be\u001b[39m\u001b[38;5;124m\"\u001b[39m,\n\u001b[1;32m    222\u001b[0m         \u001b[38;5;28mstr\u001b[39m(e),\n\u001b[1;32m    223\u001b[0m     )\n",
      "File \u001b[0;32m/lustre/groups/ml01/workspace/ot_pert_new/conda_envs/ot_pert_cpa/lib/python3.9/site-packages/sklearn/metrics/_regression.py:1180\u001b[0m, in \u001b[0;36mr2_score\u001b[0;34m(y_true, y_pred, sample_weight, multioutput, force_finite)\u001b[0m\n\u001b[1;32m   1039\u001b[0m \u001b[38;5;129m@validate_params\u001b[39m(\n\u001b[1;32m   1040\u001b[0m     {\n\u001b[1;32m   1041\u001b[0m         \u001b[38;5;124m\"\u001b[39m\u001b[38;5;124my_true\u001b[39m\u001b[38;5;124m\"\u001b[39m: [\u001b[38;5;124m\"\u001b[39m\u001b[38;5;124marray-like\u001b[39m\u001b[38;5;124m\"\u001b[39m],\n\u001b[0;32m   (...)\u001b[0m\n\u001b[1;32m   1059\u001b[0m     force_finite\u001b[38;5;241m=\u001b[39m\u001b[38;5;28;01mTrue\u001b[39;00m,\n\u001b[1;32m   1060\u001b[0m ):\n\u001b[1;32m   1061\u001b[0m \u001b[38;5;250m    \u001b[39m\u001b[38;5;124;03m\"\"\":math:`R^2` (coefficient of determination) regression score function.\u001b[39;00m\n\u001b[1;32m   1062\u001b[0m \n\u001b[1;32m   1063\u001b[0m \u001b[38;5;124;03m    Best possible score is 1.0 and it can be negative (because the\u001b[39;00m\n\u001b[0;32m   (...)\u001b[0m\n\u001b[1;32m   1178\u001b[0m \u001b[38;5;124;03m    -inf\u001b[39;00m\n\u001b[1;32m   1179\u001b[0m \u001b[38;5;124;03m    \"\"\"\u001b[39;00m\n\u001b[0;32m-> 1180\u001b[0m     y_type, y_true, y_pred, multioutput \u001b[38;5;241m=\u001b[39m \u001b[43m_check_reg_targets\u001b[49m\u001b[43m(\u001b[49m\n\u001b[1;32m   1181\u001b[0m \u001b[43m        \u001b[49m\u001b[43my_true\u001b[49m\u001b[43m,\u001b[49m\u001b[43m \u001b[49m\u001b[43my_pred\u001b[49m\u001b[43m,\u001b[49m\u001b[43m \u001b[49m\u001b[43mmultioutput\u001b[49m\n\u001b[1;32m   1182\u001b[0m \u001b[43m    \u001b[49m\u001b[43m)\u001b[49m\n\u001b[1;32m   1183\u001b[0m     check_consistent_length(y_true, y_pred, sample_weight)\n\u001b[1;32m   1185\u001b[0m     \u001b[38;5;28;01mif\u001b[39;00m _num_samples(y_pred) \u001b[38;5;241m<\u001b[39m \u001b[38;5;241m2\u001b[39m:\n",
      "File \u001b[0;32m/lustre/groups/ml01/workspace/ot_pert_new/conda_envs/ot_pert_cpa/lib/python3.9/site-packages/sklearn/metrics/_regression.py:103\u001b[0m, in \u001b[0;36m_check_reg_targets\u001b[0;34m(y_true, y_pred, multioutput, dtype)\u001b[0m\n\u001b[1;32m     69\u001b[0m \u001b[38;5;250m\u001b[39m\u001b[38;5;124;03m\"\"\"Check that y_true and y_pred belong to the same regression task.\u001b[39;00m\n\u001b[1;32m     70\u001b[0m \n\u001b[1;32m     71\u001b[0m \u001b[38;5;124;03mParameters\u001b[39;00m\n\u001b[0;32m   (...)\u001b[0m\n\u001b[1;32m    100\u001b[0m \u001b[38;5;124;03m    correct keyword.\u001b[39;00m\n\u001b[1;32m    101\u001b[0m \u001b[38;5;124;03m\"\"\"\u001b[39;00m\n\u001b[1;32m    102\u001b[0m check_consistent_length(y_true, y_pred)\n\u001b[0;32m--> 103\u001b[0m y_true \u001b[38;5;241m=\u001b[39m \u001b[43mcheck_array\u001b[49m\u001b[43m(\u001b[49m\u001b[43my_true\u001b[49m\u001b[43m,\u001b[49m\u001b[43m \u001b[49m\u001b[43mensure_2d\u001b[49m\u001b[38;5;241;43m=\u001b[39;49m\u001b[38;5;28;43;01mFalse\u001b[39;49;00m\u001b[43m,\u001b[49m\u001b[43m \u001b[49m\u001b[43mdtype\u001b[49m\u001b[38;5;241;43m=\u001b[39;49m\u001b[43mdtype\u001b[49m\u001b[43m)\u001b[49m\n\u001b[1;32m    104\u001b[0m y_pred \u001b[38;5;241m=\u001b[39m check_array(y_pred, ensure_2d\u001b[38;5;241m=\u001b[39m\u001b[38;5;28;01mFalse\u001b[39;00m, dtype\u001b[38;5;241m=\u001b[39mdtype)\n\u001b[1;32m    106\u001b[0m \u001b[38;5;28;01mif\u001b[39;00m y_true\u001b[38;5;241m.\u001b[39mndim \u001b[38;5;241m==\u001b[39m \u001b[38;5;241m1\u001b[39m:\n",
      "File \u001b[0;32m/lustre/groups/ml01/workspace/ot_pert_new/conda_envs/ot_pert_cpa/lib/python3.9/site-packages/sklearn/utils/validation.py:1049\u001b[0m, in \u001b[0;36mcheck_array\u001b[0;34m(array, accept_sparse, accept_large_sparse, dtype, order, copy, force_all_finite, ensure_2d, allow_nd, ensure_min_samples, ensure_min_features, estimator, input_name)\u001b[0m\n\u001b[1;32m   1043\u001b[0m     \u001b[38;5;28;01mraise\u001b[39;00m \u001b[38;5;167;01mValueError\u001b[39;00m(\n\u001b[1;32m   1044\u001b[0m         \u001b[38;5;124m\"\u001b[39m\u001b[38;5;124mFound array with dim \u001b[39m\u001b[38;5;132;01m%d\u001b[39;00m\u001b[38;5;124m. \u001b[39m\u001b[38;5;132;01m%s\u001b[39;00m\u001b[38;5;124m expected <= 2.\u001b[39m\u001b[38;5;124m\"\u001b[39m\n\u001b[1;32m   1045\u001b[0m         \u001b[38;5;241m%\u001b[39m (array\u001b[38;5;241m.\u001b[39mndim, estimator_name)\n\u001b[1;32m   1046\u001b[0m     )\n\u001b[1;32m   1048\u001b[0m \u001b[38;5;28;01mif\u001b[39;00m force_all_finite:\n\u001b[0;32m-> 1049\u001b[0m     \u001b[43m_assert_all_finite\u001b[49m\u001b[43m(\u001b[49m\n\u001b[1;32m   1050\u001b[0m \u001b[43m        \u001b[49m\u001b[43marray\u001b[49m\u001b[43m,\u001b[49m\n\u001b[1;32m   1051\u001b[0m \u001b[43m        \u001b[49m\u001b[43minput_name\u001b[49m\u001b[38;5;241;43m=\u001b[39;49m\u001b[43minput_name\u001b[49m\u001b[43m,\u001b[49m\n\u001b[1;32m   1052\u001b[0m \u001b[43m        \u001b[49m\u001b[43mestimator_name\u001b[49m\u001b[38;5;241;43m=\u001b[39;49m\u001b[43mestimator_name\u001b[49m\u001b[43m,\u001b[49m\n\u001b[1;32m   1053\u001b[0m \u001b[43m        \u001b[49m\u001b[43mallow_nan\u001b[49m\u001b[38;5;241;43m=\u001b[39;49m\u001b[43mforce_all_finite\u001b[49m\u001b[43m \u001b[49m\u001b[38;5;241;43m==\u001b[39;49m\u001b[43m \u001b[49m\u001b[38;5;124;43m\"\u001b[39;49m\u001b[38;5;124;43mallow-nan\u001b[39;49m\u001b[38;5;124;43m\"\u001b[39;49m\u001b[43m,\u001b[49m\n\u001b[1;32m   1054\u001b[0m \u001b[43m    \u001b[49m\u001b[43m)\u001b[49m\n\u001b[1;32m   1056\u001b[0m \u001b[38;5;28;01mif\u001b[39;00m copy:\n\u001b[1;32m   1057\u001b[0m     \u001b[38;5;28;01mif\u001b[39;00m _is_numpy_namespace(xp):\n\u001b[1;32m   1058\u001b[0m         \u001b[38;5;66;03m# only make a copy if `array` and `array_orig` may share memory`\u001b[39;00m\n",
      "File \u001b[0;32m/lustre/groups/ml01/workspace/ot_pert_new/conda_envs/ot_pert_cpa/lib/python3.9/site-packages/sklearn/utils/validation.py:126\u001b[0m, in \u001b[0;36m_assert_all_finite\u001b[0;34m(X, allow_nan, msg_dtype, estimator_name, input_name)\u001b[0m\n\u001b[1;32m    123\u001b[0m \u001b[38;5;28;01mif\u001b[39;00m first_pass_isfinite:\n\u001b[1;32m    124\u001b[0m     \u001b[38;5;28;01mreturn\u001b[39;00m\n\u001b[0;32m--> 126\u001b[0m \u001b[43m_assert_all_finite_element_wise\u001b[49m\u001b[43m(\u001b[49m\n\u001b[1;32m    127\u001b[0m \u001b[43m    \u001b[49m\u001b[43mX\u001b[49m\u001b[43m,\u001b[49m\n\u001b[1;32m    128\u001b[0m \u001b[43m    \u001b[49m\u001b[43mxp\u001b[49m\u001b[38;5;241;43m=\u001b[39;49m\u001b[43mxp\u001b[49m\u001b[43m,\u001b[49m\n\u001b[1;32m    129\u001b[0m \u001b[43m    \u001b[49m\u001b[43mallow_nan\u001b[49m\u001b[38;5;241;43m=\u001b[39;49m\u001b[43mallow_nan\u001b[49m\u001b[43m,\u001b[49m\n\u001b[1;32m    130\u001b[0m \u001b[43m    \u001b[49m\u001b[43mmsg_dtype\u001b[49m\u001b[38;5;241;43m=\u001b[39;49m\u001b[43mmsg_dtype\u001b[49m\u001b[43m,\u001b[49m\n\u001b[1;32m    131\u001b[0m \u001b[43m    \u001b[49m\u001b[43mestimator_name\u001b[49m\u001b[38;5;241;43m=\u001b[39;49m\u001b[43mestimator_name\u001b[49m\u001b[43m,\u001b[49m\n\u001b[1;32m    132\u001b[0m \u001b[43m    \u001b[49m\u001b[43minput_name\u001b[49m\u001b[38;5;241;43m=\u001b[39;49m\u001b[43minput_name\u001b[49m\u001b[43m,\u001b[49m\n\u001b[1;32m    133\u001b[0m \u001b[43m\u001b[49m\u001b[43m)\u001b[49m\n",
      "File \u001b[0;32m/lustre/groups/ml01/workspace/ot_pert_new/conda_envs/ot_pert_cpa/lib/python3.9/site-packages/sklearn/utils/validation.py:175\u001b[0m, in \u001b[0;36m_assert_all_finite_element_wise\u001b[0;34m(X, xp, allow_nan, msg_dtype, estimator_name, input_name)\u001b[0m\n\u001b[1;32m    158\u001b[0m \u001b[38;5;28;01mif\u001b[39;00m estimator_name \u001b[38;5;129;01mand\u001b[39;00m input_name \u001b[38;5;241m==\u001b[39m \u001b[38;5;124m\"\u001b[39m\u001b[38;5;124mX\u001b[39m\u001b[38;5;124m\"\u001b[39m \u001b[38;5;129;01mand\u001b[39;00m has_nan_error:\n\u001b[1;32m    159\u001b[0m     \u001b[38;5;66;03m# Improve the error message on how to handle missing values in\u001b[39;00m\n\u001b[1;32m    160\u001b[0m     \u001b[38;5;66;03m# scikit-learn.\u001b[39;00m\n\u001b[1;32m    161\u001b[0m     msg_err \u001b[38;5;241m+\u001b[39m\u001b[38;5;241m=\u001b[39m (\n\u001b[1;32m    162\u001b[0m         \u001b[38;5;124mf\u001b[39m\u001b[38;5;124m\"\u001b[39m\u001b[38;5;130;01m\\n\u001b[39;00m\u001b[38;5;132;01m{\u001b[39;00mestimator_name\u001b[38;5;132;01m}\u001b[39;00m\u001b[38;5;124m does not accept missing values\u001b[39m\u001b[38;5;124m\"\u001b[39m\n\u001b[1;32m    163\u001b[0m         \u001b[38;5;124m\"\u001b[39m\u001b[38;5;124m encoded as NaN natively. For supervised learning, you might want\u001b[39m\u001b[38;5;124m\"\u001b[39m\n\u001b[0;32m   (...)\u001b[0m\n\u001b[1;32m    173\u001b[0m         \u001b[38;5;124m\"\u001b[39m\u001b[38;5;124m#estimators-that-handle-nan-values\u001b[39m\u001b[38;5;124m\"\u001b[39m\n\u001b[1;32m    174\u001b[0m     )\n\u001b[0;32m--> 175\u001b[0m \u001b[38;5;28;01mraise\u001b[39;00m \u001b[38;5;167;01mValueError\u001b[39;00m(msg_err)\n",
      "\u001b[0;31mValueError\u001b[0m: Input contains NaN."
     ]
    }
   ],
   "source": [
    "from sklearn.metrics import r2_score\n",
    "compute_r_squared(preds_pca, adata_test.obsm[\"X_pca\"])"
   ]
  },
  {
   "cell_type": "code",
   "execution_count": 149,
   "id": "be5155d7-6456-42c0-8aa7-0be520f9365b",
   "metadata": {},
   "outputs": [
    {
     "data": {
      "text/plain": [
       "1492000"
      ]
     },
     "execution_count": 149,
     "metadata": {},
     "output_type": "execute_result"
    }
   ],
   "source": [
    "(~np.isnan(preds)).sum()"
   ]
  },
  {
   "cell_type": "code",
   "execution_count": 144,
   "id": "e617cf8c-bbfa-4cf0-832c-858174ed468f",
   "metadata": {},
   "outputs": [
    {
     "data": {
      "text/plain": [
       "(3100, 30)"
      ]
     },
     "execution_count": 144,
     "metadata": {},
     "output_type": "execute_result"
    }
   ],
   "source": [
    "preds_pca.shape\n"
   ]
  },
  {
   "cell_type": "code",
   "execution_count": 145,
   "id": "976c38d5-a6a7-4156-925b-bd8771a81e2c",
   "metadata": {},
   "outputs": [
    {
     "data": {
      "text/plain": [
       "(2000, 30)"
      ]
     },
     "execution_count": 145,
     "metadata": {},
     "output_type": "execute_result"
    }
   ],
   "source": [
    "adata_train.varm[\"PCs\"].shape"
   ]
  },
  {
   "cell_type": "code",
   "execution_count": 156,
   "id": "1a804434-4413-447b-a7d7-80e5b91aebaa",
   "metadata": {},
   "outputs": [],
   "source": [
    "mask = ~np.isnan(preds).any(axis=1)"
   ]
  },
  {
   "cell_type": "code",
   "execution_count": 158,
   "id": "3588f495-26ce-47d8-96ef-a56eea54f1eb",
   "metadata": {},
   "outputs": [],
   "source": [
    "arr_without_nan = preds[mask]"
   ]
  },
  {
   "cell_type": "code",
   "execution_count": 160,
   "id": "10e76bf4-c59f-4da4-bcb6-f73e10846c6e",
   "metadata": {},
   "outputs": [
    {
     "data": {
      "text/plain": [
       "(746, 2000)"
      ]
     },
     "execution_count": 160,
     "metadata": {},
     "output_type": "execute_result"
    }
   ],
   "source": [
    "arr_without_nan.shape"
   ]
  },
  {
   "cell_type": "code",
   "execution_count": 161,
   "id": "c25809b7-dcf6-494a-986a-978a0d4e7a44",
   "metadata": {},
   "outputs": [],
   "source": [
    "preds_pca = np.matmul(arr_without_nan, adata_train.varm[\"PCs\"])"
   ]
  },
  {
   "cell_type": "code",
   "execution_count": 184,
   "id": "6fce3f63-2c90-442d-8e3f-9bdab338cab9",
   "metadata": {},
   "outputs": [
    {
     "data": {
      "text/plain": [
       "-0.028193542538006877"
      ]
     },
     "execution_count": 184,
     "metadata": {},
     "output_type": "execute_result"
    }
   ],
   "source": [
    "compute_r_squared(preds_pca, adata_test.obsm[\"X_pca\"])"
   ]
  },
  {
   "cell_type": "code",
   "execution_count": null,
   "id": "d824717d-6d28-47b7-a3a5-26d1c81c85ea",
   "metadata": {},
   "outputs": [],
   "source": []
  }
 ],
 "metadata": {
  "kernelspec": {
   "display_name": "ot_pert_cpa",
   "language": "python",
   "name": "ot_pert_cpa"
  },
  "language_info": {
   "codemirror_mode": {
    "name": "ipython",
    "version": 3
   },
   "file_extension": ".py",
   "mimetype": "text/x-python",
   "name": "python",
   "nbconvert_exporter": "python",
   "pygments_lexer": "ipython3",
   "version": "3.9.19"
  }
 },
 "nbformat": 4,
 "nbformat_minor": 5
}
