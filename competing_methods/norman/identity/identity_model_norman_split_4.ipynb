{
 "cells": [
  {
   "cell_type": "markdown",
   "id": "712a333f-0d25-45fd-b914-3a599857ba49",
   "metadata": {},
   "source": [
    "#### This notebook evaluates the identity model on the Norman dataset.\n",
    "\n",
    "The identity model (= \"no effect model\") assumes that perturbations have no effect and predictions thus correspond to control cells. These 'predictions' are computed on-the-fly in this notebook (rather than being loaded as in the other baseline models)."
   ]
  },
  {
   "cell_type": "code",
   "execution_count": 1,
   "id": "c0ee1f71-dbd2-48d2-ba27-0493b3eb040d",
   "metadata": {},
   "outputs": [],
   "source": [
    "%load_ext autoreload\n",
    "%autoreload 2"
   ]
  },
  {
   "cell_type": "code",
   "execution_count": 2,
   "id": "69ed4031-44de-4e8a-86d8-d94d2e5cc59f",
   "metadata": {},
   "outputs": [],
   "source": [
    "import scanpy as sc\n",
    "import jax\n",
    "import os\n",
    "from cfp.metrics import compute_metrics, compute_mean_metrics, compute_metrics_fast\n",
    "import cfp.preprocessing as cfpp\n",
    "import anndata as ad\n",
    "import pandas as pd\n",
    "from tqdm.auto import tqdm"
   ]
  },
  {
   "cell_type": "code",
   "execution_count": 3,
   "id": "ba912cd2-3435-4e1c-90b2-7202368d1197",
   "metadata": {},
   "outputs": [],
   "source": [
    "def get_mask(x, y):\n",
    "    return x[:, [gene in y for gene in adata_train.var_names]]"
   ]
  },
  {
   "cell_type": "code",
   "execution_count": 4,
   "id": "625d1c2a-0922-4953-bdb2-1a753d5be4f4",
   "metadata": {},
   "outputs": [],
   "source": [
    "split = 4"
   ]
  },
  {
   "cell_type": "markdown",
   "id": "5a638f11-4d7c-455e-91cc-143ac224d9c7",
   "metadata": {},
   "source": [
    "#### Data loading"
   ]
  },
  {
   "cell_type": "code",
   "execution_count": 5,
   "id": "4bf00b73-0283-4961-bcb1-8038d298f052",
   "metadata": {},
   "outputs": [],
   "source": [
    "DATA_DIR = \"/home/haicu/soeren.becker/repos/ot_pert_reproducibility/norman2019/norman_preprocessed_adata\"\n",
    "\n",
    "adata_train_path = os.path.join(DATA_DIR, f\"adata_train_pca_3_split_{split}.h5ad\")\n",
    "adata_test_path = os.path.join(DATA_DIR, f\"adata_val_pca_3_split_{split}.h5ad\")\n",
    "adata_ood_path = os.path.join(DATA_DIR, f\"adata_test_pca_3_split_{split}.h5ad\")\n",
    "\n",
    "# load data splits\n",
    "adata_train = sc.read(adata_train_path)\n",
    "adata_test = sc.read(adata_test_path)\n",
    "adata_ood = sc.read(adata_ood_path)"
   ]
  },
  {
   "cell_type": "markdown",
   "id": "5183570f-6884-453c-87b7-2066e6967dae",
   "metadata": {},
   "source": [
    "#### Add subgroup annotations\n",
    "\n",
    "- single: Only one gene has been perturbed. This perturbation is not part of the training data.\n",
    "- double_seen_0: Two genes have been perturbed. Neither of these gene perturbations have been seen as single perturbations in the training data.\n",
    "- double_seen_1: Two genes have been perturbed. One of the two perturbed genes has been seen as single perturbation in the training data.\n",
    "- double_seen_2: Two genes have been perturbed. Both gene perturbations have been seen as single perturbation in the training data."
   ]
  },
  {
   "cell_type": "code",
   "execution_count": 6,
   "id": "83f6432c-61b9-4182-aa47-bc1846ce2547",
   "metadata": {},
   "outputs": [
    {
     "data": {
      "text/plain": [
       "subgroup\n",
       "double_seen_1    14554\n",
       "single           13520\n",
       "double_seen_2     3934\n",
       "double_seen_0     1587\n",
       "Name: count, dtype: int64"
      ]
     },
     "metadata": {},
     "output_type": "display_data"
    }
   ],
   "source": [
    "train_conditions = adata_train.obs.condition.str.replace(\"+ctrl\", \"\").str.replace(\"ctrl+\", \"\").unique()\n",
    "\n",
    "assert not adata_ood[adata_ood.obs.condition != \"ctrl\"].obs.condition.isin(train_conditions).any()\n",
    "\n",
    "mask_single_perturbation = adata_ood.obs.condition.str.contains(\"ctrl\")\n",
    "mask_double_perturbation_seen_0 = (\n",
    "    ~adata_ood.obs.condition.str.contains(\"ctrl\") & \n",
    "    ~adata_ood.obs.gene_1.isin(train_conditions) & \n",
    "    ~adata_ood.obs.gene_2.isin(train_conditions)\n",
    ")\n",
    "mask_double_perturbation_seen_1 = (\n",
    "    ~adata_ood.obs.condition.str.contains(\"ctrl\") & \n",
    "    (\n",
    "        (adata_ood.obs.gene_1.isin(train_conditions) & ~adata_ood.obs.gene_2.isin(train_conditions)) | \n",
    "        (~adata_ood.obs.gene_1.isin(train_conditions) & adata_ood.obs.gene_2.isin(train_conditions))\n",
    "    )\n",
    ")\n",
    "mask_double_perturbation_seen_2 = (\n",
    "    ~adata_ood.obs.condition.str.contains(\"ctrl\") & \n",
    "    adata_ood.obs.gene_1.isin(train_conditions) & \n",
    "    adata_ood.obs.gene_2.isin(train_conditions)\n",
    ")\n",
    "adata_ood.obs.loc[mask_single_perturbation, \"subgroup\"] = \"single\"\n",
    "adata_ood.obs.loc[mask_double_perturbation_seen_0, \"subgroup\"] = \"double_seen_0\"\n",
    "adata_ood.obs.loc[mask_double_perturbation_seen_1, \"subgroup\"] = \"double_seen_1\"\n",
    "adata_ood.obs.loc[mask_double_perturbation_seen_2, \"subgroup\"] = \"double_seen_2\"\n",
    "\n",
    "display(adata_ood.obs.subgroup.value_counts())"
   ]
  },
  {
   "cell_type": "code",
   "execution_count": null,
   "id": "e3bf158b-5629-4105-8868-4586ee9b65da",
   "metadata": {},
   "outputs": [
    {
     "name": "stderr",
     "output_type": "stream",
     "text": [
      "/home/haicu/soeren.becker/miniconda3/envs/env_cfp2/lib/python3.12/site-packages/anndata/_core/anndata.py:1754: UserWarning: Observation names are not unique. To make them unique, call `.obs_names_make_unique`.\n",
      "  utils.warn_names_duplicates(\"obs\")\n"
     ]
    }
   ],
   "source": [
    "# compute pca on full dataset\n",
    "adata_all = ad.concat((adata_train, adata_test, adata_ood))\n",
    "cfpp.centered_pca(adata_all, n_comps=10)"
   ]
  },
  {
   "cell_type": "markdown",
   "id": "cb032516-3271-4cd8-9d33-94c23c4282f0",
   "metadata": {},
   "source": [
    "#### Predict on test set"
   ]
  },
  {
   "cell_type": "code",
   "execution_count": null,
   "id": "9cef1e24-92ba-4d53-9484-db08a1833cb3",
   "metadata": {},
   "outputs": [],
   "source": [
    "# compute predictions of identity model --> the identity model always predicts that the perturbation has not effect, \n",
    "# i.e., predictions correspond to cells of the control condition\n",
    "adata_pred_test = adata_test[adata_test.obs[\"condition\"]==\"ctrl\"]\n",
    "\n",
    "# project predictions and ground truth data onto pca space\n",
    "cfpp.project_pca(query_adata=adata_pred_test, ref_adata=adata_all)\n",
    "cfpp.project_pca(query_adata=adata_test, ref_adata=adata_all)\n",
    "\n",
    "# dict for ground truths per condition, encoded (=pca space) and decoded (= gene space)\n",
    "test_data_target_encoded, test_data_target_decoded = {}, {}\n",
    "\n",
    "# dict for predictions per condition, encoded (=pca space) and decoded (= gene space)\n",
    "test_data_target_encoded_predicted, test_data_target_decoded_predicted = {}, {}\n",
    "\n",
    "for cond in adata_test.obs[\"condition\"].cat.categories:\n",
    "    if cond == \"ctrl\":\n",
    "        continue\n",
    "\n",
    "    # pca space\n",
    "    test_data_target_encoded[cond] = adata_test[adata_test.obs[\"condition\"] == cond].obsm[\"X_pca\"]\n",
    "    test_data_target_encoded_predicted[cond] = adata_pred_test.obsm[\"X_pca\"]\n",
    "    \n",
    "    # gene space\n",
    "    test_data_target_decoded[cond] = adata_test[adata_test.obs[\"condition\"] == cond].X\n",
    "    test_data_target_decoded_predicted[cond] = adata_pred_test.X"
   ]
  },
  {
   "cell_type": "markdown",
   "id": "77cc51b8-43fb-437e-aef2-7abb887a51b5",
   "metadata": {},
   "source": [
    "#### Predict on ood set (full ood set + subgroups)"
   ]
  },
  {
   "cell_type": "code",
   "execution_count": null,
   "id": "62f64dae-0c26-41e1-902c-8e71562fbefe",
   "metadata": {},
   "outputs": [],
   "source": [
    "# compute predictions of identity model --> the identity model always predicts that the perturbation has not effect, \n",
    "# i.e., predictions correspond to cells of the control condition\n",
    "adata_pred_ood = adata_ood[adata_ood.obs[\"condition\"]==\"ctrl\"]\n",
    "\n",
    "cfpp.project_pca(query_adata=adata_pred_ood, ref_adata=adata_all)\n",
    "cfpp.project_pca(query_adata=adata_ood, ref_adata=adata_all)\n",
    "\n",
    "ood_data_target_encoded, ood_data_target_decoded = {}, {}\n",
    "ood_data_target_encoded_predicted, ood_data_target_decoded_predicted = {}, {}\n",
    "\n",
    "subgroups = [\"all\", \"single\", \"double_seen_0\", \"double_seen_1\", \"double_seen_2\"]\n",
    "\n",
    "for subgroup in subgroups:\n",
    "\n",
    "    ood_data_target_encoded[subgroup] = {}\n",
    "    ood_data_target_decoded[subgroup] = {}\n",
    "    ood_data_target_encoded_predicted[subgroup] = {}\n",
    "    ood_data_target_decoded_predicted[subgroup] = {}\n",
    "    \n",
    "    for cond in adata_ood.obs[\"condition\"].cat.categories:\n",
    "        if cond == \"ctrl\":\n",
    "            continue\n",
    "        \n",
    "        select = adata_ood.obs[\"condition\"] == cond\n",
    "        if subgroup != \"all\":\n",
    "            select = select & (adata_ood.obs.subgroup == subgroup)\n",
    "\n",
    "        if not any(select):\n",
    "            # the condition is not part of this subgroup\n",
    "            continue\n",
    "        \n",
    "        # pca space\n",
    "        ood_data_target_encoded[subgroup][cond] = adata_ood[select].obsm[\"X_pca\"]\n",
    "        ood_data_target_encoded_predicted[subgroup][cond] = adata_pred_ood.obsm[\"X_pca\"]\n",
    "    \n",
    "        # gene space\n",
    "        ood_data_target_decoded[subgroup][cond] = adata_ood[select].X\n",
    "        ood_data_target_decoded_predicted[subgroup][cond] = adata_pred_ood.X"
   ]
  },
  {
   "cell_type": "markdown",
   "id": "3d00dc2c-31fe-49a6-a247-4ae7a57abea3",
   "metadata": {},
   "source": [
    "#### Evaluation on test set"
   ]
  },
  {
   "cell_type": "code",
   "execution_count": 10,
   "id": "109179d7-18fe-4d9d-8075-b0f1ce701d2d",
   "metadata": {},
   "outputs": [],
   "source": [
    "# test set: evaluation in encoded (=pca) space\n",
    "test_metrics_encoded = jax.tree_util.tree_map(\n",
    "    compute_metrics, \n",
    "    # compute_metrics_fast, \n",
    "    test_data_target_encoded, \n",
    "    test_data_target_encoded_predicted\n",
    ")\n",
    "mean_test_metrics_encoded = compute_mean_metrics(\n",
    "    test_metrics_encoded, \n",
    "    prefix=\"encoded_test_\"\n",
    ")\n",
    "\n",
    "# test set: evaluation in decoded (=gene) space\n",
    "test_metrics_decoded = jax.tree_util.tree_map(\n",
    "    # compute_metrics, \n",
    "    compute_metrics_fast, \n",
    "    test_data_target_decoded, \n",
    "    test_data_target_decoded_predicted\n",
    ")\n",
    "mean_test_metrics_decoded = compute_mean_metrics(\n",
    "    test_metrics_decoded, \n",
    "    prefix=\"decoded_test_\"\n",
    ")\n",
    "\n",
    "# test set\n",
    "test_deg_dict = {\n",
    "    k: v \n",
    "    for k, v in adata_train.uns['rank_genes_groups_cov_all'].items() \n",
    "    if k in test_data_target_decoded_predicted.keys()\n",
    "}\n",
    "\n",
    "# test set\n",
    "test_deg_target_decoded_predicted = jax.tree_util.tree_map(\n",
    "    get_mask, \n",
    "    test_data_target_decoded_predicted, \n",
    "    test_deg_dict\n",
    ")\n",
    "test_deg_target_decoded = jax.tree_util.tree_map(\n",
    "    get_mask, \n",
    "    test_data_target_decoded, \n",
    "    test_deg_dict\n",
    ")\n",
    "\n",
    "deg_test_metrics = jax.tree_util.tree_map(\n",
    "    compute_metrics, \n",
    "    # compute_metrics_fast, \n",
    "    test_deg_target_decoded, \n",
    "    test_deg_target_decoded_predicted\n",
    ")\n",
    "deg_mean_test_metrics = compute_mean_metrics(\n",
    "    deg_test_metrics, \n",
    "    prefix=\"deg_test_\"\n",
    ")"
   ]
  },
  {
   "cell_type": "code",
   "execution_count": 11,
   "id": "a75471e6-dde3-4c51-beac-c81ae0926cf8",
   "metadata": {},
   "outputs": [
    {
     "data": {
      "text/plain": [
       "{'encoded_test_r_squared': -1.475508607667068,\n",
       " 'encoded_test_sinkhorn_div_1': 19.92545300516589,\n",
       " 'encoded_test_sinkhorn_div_10': 15.543769244489999,\n",
       " 'encoded_test_sinkhorn_div_100': 12.902872282883216,\n",
       " 'encoded_test_e_distance': 24.981702142470645,\n",
       " 'encoded_test_mmd': 0.062432351971751655}"
      ]
     },
     "execution_count": 11,
     "metadata": {},
     "output_type": "execute_result"
    }
   ],
   "source": [
    "mean_test_metrics_encoded"
   ]
  },
  {
   "cell_type": "code",
   "execution_count": 12,
   "id": "81882f1b-49e3-4a6a-b0a2-bd400726c20c",
   "metadata": {},
   "outputs": [
    {
     "data": {
      "text/plain": [
       "{'decoded_test_r_squared': 0.9534846749799005,\n",
       " 'decoded_test_sinkhorn_div_1': 121.61307630867793,\n",
       " 'decoded_test_sinkhorn_div_10': 88.21131173495588,\n",
       " 'decoded_test_sinkhorn_div_100': 18.533345715752965,\n",
       " 'decoded_test_e_distance': 33.690288395935475,\n",
       " 'decoded_test_mmd': 0.028633100799573905}"
      ]
     },
     "execution_count": 12,
     "metadata": {},
     "output_type": "execute_result"
    }
   ],
   "source": [
    "mean_test_metrics_decoded"
   ]
  },
  {
   "cell_type": "code",
   "execution_count": 13,
   "id": "45ee8da9-08ad-4b5b-8506-601211cc2220",
   "metadata": {},
   "outputs": [
    {
     "data": {
      "text/plain": [
       "{'deg_test_r_squared': 0.8073588198628919,\n",
       " 'deg_test_sinkhorn_div_1': 24.110808273841595,\n",
       " 'deg_test_sinkhorn_div_10': 13.296171056813208,\n",
       " 'deg_test_sinkhorn_div_100': 11.819062693365689,\n",
       " 'deg_test_e_distance': 23.36795391162108,\n",
       " 'deg_test_mmd': 0.06250722134678528}"
      ]
     },
     "execution_count": 13,
     "metadata": {},
     "output_type": "execute_result"
    }
   ],
   "source": [
    "deg_mean_test_metrics"
   ]
  },
  {
   "cell_type": "markdown",
   "id": "2c973222-50f0-4e1c-b419-0a490ed1d7ac",
   "metadata": {},
   "source": [
    "#### Evaluation on ood set"
   ]
  },
  {
   "cell_type": "code",
   "execution_count": 14,
   "id": "73448857-4c8e-4a76-902b-b4cdc401adb2",
   "metadata": {},
   "outputs": [
    {
     "data": {
      "application/vnd.jupyter.widget-view+json": {
       "model_id": "11a4b9badd044ce2843bf573afee3215",
       "version_major": 2,
       "version_minor": 0
      },
      "text/plain": [
       "  0%|          | 0/5 [00:00<?, ?it/s]"
      ]
     },
     "metadata": {},
     "output_type": "display_data"
    },
    {
     "name": "stdout",
     "output_type": "stream",
     "text": [
      "subgroup: double_seen_2\n",
      "Computing ood_metrics_encoded\n",
      "Computing ood_metrics_decoded\n",
      "Apply DEG mask\n",
      "Compute metrics on DEG subsetted decoded\n",
      "subgroup: double_seen_1\n",
      "Computing ood_metrics_encoded\n",
      "Computing ood_metrics_decoded\n",
      "Apply DEG mask\n",
      "Compute metrics on DEG subsetted decoded\n",
      "subgroup: double_seen_0\n",
      "Computing ood_metrics_encoded\n",
      "Computing ood_metrics_decoded\n",
      "Apply DEG mask\n",
      "Compute metrics on DEG subsetted decoded\n",
      "subgroup: single\n",
      "Computing ood_metrics_encoded\n",
      "Computing ood_metrics_decoded\n",
      "Apply DEG mask\n",
      "Compute metrics on DEG subsetted decoded\n",
      "subgroup: all\n",
      "Computing ood_metrics_encoded\n",
      "Computing ood_metrics_decoded\n",
      "Apply DEG mask\n",
      "Compute metrics on DEG subsetted decoded\n"
     ]
    }
   ],
   "source": [
    "ood_metrics_encoded, mean_ood_metrics_encoded = {}, {}\n",
    "ood_metrics_decoded, mean_ood_metrics_decoded = {}, {}\n",
    "deg_ood_metrics, deg_mean_ood_metrics = {}, {}\n",
    "ood_deg_dict = {}\n",
    "ood_deg_target_decoded_predicted, ood_deg_target_decoded = {}, {}\n",
    "\n",
    "for subgroup in tqdm(subgroups[::-1]):\n",
    "\n",
    "    print(f\"subgroup: {subgroup}\")\n",
    "\n",
    "    print(\"Computing ood_metrics_encoded\")\n",
    "    # ood set: evaluation in encoded (=pca) space\n",
    "    ood_metrics_encoded[subgroup] = jax.tree_util.tree_map(\n",
    "        compute_metrics, \n",
    "        # compute_metrics_fast, \n",
    "        ood_data_target_encoded[subgroup], \n",
    "        ood_data_target_encoded_predicted[subgroup]\n",
    "    )\n",
    "    mean_ood_metrics_encoded[subgroup] = compute_mean_metrics(\n",
    "        ood_metrics_encoded[subgroup], \n",
    "        prefix=\"encoded_ood_\",\n",
    "    )\n",
    "\n",
    "    print(\"Computing ood_metrics_decoded\")\n",
    "    # ood set: evaluation in decoded (=gene) space\n",
    "    ood_metrics_decoded[subgroup] = jax.tree_util.tree_map(\n",
    "        # compute_metrics, \n",
    "        compute_metrics_fast, \n",
    "        ood_data_target_decoded[subgroup], \n",
    "        ood_data_target_decoded_predicted[subgroup]\n",
    "    )\n",
    "    mean_ood_metrics_decoded[subgroup] = compute_mean_metrics(\n",
    "        ood_metrics_decoded[subgroup], \n",
    "        prefix=\"decoded_ood_\",\n",
    "    )\n",
    "\n",
    "    # ood set\n",
    "    ood_deg_dict[subgroup] = {\n",
    "        k: v\n",
    "        for k, v in adata_train.uns['rank_genes_groups_cov_all'].items() \n",
    "        if k in ood_data_target_decoded_predicted[subgroup].keys()\n",
    "    }\n",
    "\n",
    "    print(\"Apply DEG mask\")\n",
    "    # ood set\n",
    "    ood_deg_target_decoded_predicted[subgroup] = jax.tree_util.tree_map(\n",
    "        get_mask, \n",
    "        ood_data_target_decoded_predicted[subgroup], \n",
    "        ood_deg_dict[subgroup]\n",
    "    )\n",
    "    \n",
    "    ood_deg_target_decoded[subgroup] = jax.tree_util.tree_map(\n",
    "        get_mask, \n",
    "        ood_data_target_decoded[subgroup], \n",
    "        ood_deg_dict[subgroup]\n",
    "    )\n",
    "\n",
    "    print(\"Compute metrics on DEG subsetted decoded\")\n",
    "    deg_ood_metrics[subgroup] = jax.tree_util.tree_map(\n",
    "        compute_metrics, \n",
    "        # compute_metrics_fast, \n",
    "        ood_deg_target_decoded[subgroup], \n",
    "        ood_deg_target_decoded_predicted[subgroup]\n",
    "    )\n",
    "    deg_mean_ood_metrics[subgroup] = compute_mean_metrics(\n",
    "        deg_ood_metrics[subgroup], \n",
    "        prefix=\"deg_ood_\"\n",
    "    )"
   ]
  },
  {
   "cell_type": "code",
   "execution_count": 15,
   "id": "21ac3346-3a4f-48f4-89b4-5aa9b5970e2c",
   "metadata": {},
   "outputs": [
    {
     "data": {
      "text/plain": [
       "{'double_seen_2': {'encoded_ood_r_squared': -1.3311141545955951,\n",
       "  'encoded_ood_sinkhorn_div_1': 25.029296728280876,\n",
       "  'encoded_ood_sinkhorn_div_10': 20.358269911545975,\n",
       "  'encoded_ood_sinkhorn_div_100': 17.14217934241662,\n",
       "  'encoded_ood_e_distance': 33.13209023931311,\n",
       "  'encoded_ood_mmd': 0.07273576902942015},\n",
       " 'double_seen_1': {'encoded_ood_r_squared': -0.8474068739197471,\n",
       "  'encoded_ood_sinkhorn_div_1': 33.39131384762851,\n",
       "  'encoded_ood_sinkhorn_div_10': 28.565689399025658,\n",
       "  'encoded_ood_sinkhorn_div_100': 24.348680218783294,\n",
       "  'encoded_ood_e_distance': 46.590678007595145,\n",
       "  'encoded_ood_mmd': 0.09871249649335037},\n",
       " 'double_seen_0': {'encoded_ood_r_squared': -0.8229820330937704,\n",
       "  'encoded_ood_sinkhorn_div_1': 50.950188318888344,\n",
       "  'encoded_ood_sinkhorn_div_10': 45.37500402662489,\n",
       "  'encoded_ood_sinkhorn_div_100': 37.9834172990587,\n",
       "  'encoded_ood_e_distance': 71.01400564634683,\n",
       "  'encoded_ood_mmd': 0.131231975224283},\n",
       " 'single': {'encoded_ood_r_squared': -0.8406988546252251,\n",
       "  'encoded_ood_sinkhorn_div_1': 19.76098300218582,\n",
       "  'encoded_ood_sinkhorn_div_10': 15.815774822235108,\n",
       "  'encoded_ood_sinkhorn_div_100': 13.171867370605469,\n",
       "  'encoded_ood_e_distance': 24.990442379321614,\n",
       "  'encoded_ood_mmd': 0.05148486784892157},\n",
       " 'all': {'encoded_ood_r_squared': -0.896979953488733,\n",
       "  'encoded_ood_sinkhorn_div_1': 29.152941316620918,\n",
       "  'encoded_ood_sinkhorn_div_10': 24.587832948081513,\n",
       "  'encoded_ood_sinkhorn_div_100': 20.775651230771317,\n",
       "  'encoded_ood_e_distance': 39.58930093605802,\n",
       "  'encoded_ood_mmd': 0.08218149397856532}}"
      ]
     },
     "execution_count": 15,
     "metadata": {},
     "output_type": "execute_result"
    }
   ],
   "source": [
    "mean_ood_metrics_encoded"
   ]
  },
  {
   "cell_type": "code",
   "execution_count": 16,
   "id": "6c2a9bc2-5c3d-4a6d-a1df-6bf5118cf6d6",
   "metadata": {},
   "outputs": [
    {
     "data": {
      "text/plain": [
       "{'double_seen_2': {'decoded_ood_r_squared': 0.9388133883476257,\n",
       "  'decoded_ood_sinkhorn_div_1': 130.41300729604868,\n",
       "  'decoded_ood_sinkhorn_div_10': 96.71006686870868,\n",
       "  'decoded_ood_sinkhorn_div_100': 24.0595462505634,\n",
       "  'decoded_ood_e_distance': 44.58967001081147,\n",
       "  'decoded_ood_mmd': 0.03440484332923706},\n",
       " 'double_seen_1': {'decoded_ood_r_squared': 0.9246253869750283,\n",
       "  'decoded_ood_sinkhorn_div_1': 138.23160081343218,\n",
       "  'decoded_ood_sinkhorn_div_10': 105.03367177789862,\n",
       "  'decoded_ood_sinkhorn_div_100': 30.67837732488459,\n",
       "  'decoded_ood_e_distance': 55.753075031650326,\n",
       "  'decoded_ood_mmd': 0.04153280451216481},\n",
       " 'double_seen_0': {'decoded_ood_r_squared': 0.8854311307271322,\n",
       "  'decoded_ood_sinkhorn_div_1': 166.538330078125,\n",
       "  'decoded_ood_sinkhorn_div_10': 134.64654286702475,\n",
       "  'decoded_ood_sinkhorn_div_100': 46.24297417534722,\n",
       "  'decoded_ood_e_distance': 81.1451667621896,\n",
       "  'decoded_ood_mmd': 0.05255092970199055},\n",
       " 'single': {'decoded_ood_r_squared': 0.9597026377916336,\n",
       "  'decoded_ood_sinkhorn_div_1': 116.7605712890625,\n",
       "  'decoded_ood_sinkhorn_div_10': 82.65819520950318,\n",
       "  'decoded_ood_sinkhorn_div_100': 16.51728515625,\n",
       "  'decoded_ood_e_distance': 29.774445644870717,\n",
       "  'decoded_ood_mmd': 0.021996846178080887},\n",
       " 'all': {'decoded_ood_r_squared': 0.9351791112850873,\n",
       "  'decoded_ood_sinkhorn_div_1': 132.19978599874383,\n",
       "  'decoded_ood_sinkhorn_div_10': 98.73700436975201,\n",
       "  'decoded_ood_sinkhorn_div_100': 26.298829298753006,\n",
       "  'decoded_ood_e_distance': 47.58435182509277,\n",
       "  'decoded_ood_mmd': 0.03490939680248117}}"
      ]
     },
     "execution_count": 16,
     "metadata": {},
     "output_type": "execute_result"
    }
   ],
   "source": [
    "mean_ood_metrics_decoded"
   ]
  },
  {
   "cell_type": "code",
   "execution_count": 17,
   "id": "aab64e60-e696-493e-8cb8-44edef2d29c5",
   "metadata": {},
   "outputs": [
    {
     "data": {
      "text/plain": [
       "{'double_seen_2': {'deg_ood_r_squared': 0.7362335324287415,\n",
       "  'deg_ood_sinkhorn_div_1': 28.627122292151817,\n",
       "  'deg_ood_sinkhorn_div_10': 16.702361473670372,\n",
       "  'deg_ood_sinkhorn_div_100': 14.97286106989934,\n",
       "  'deg_ood_e_distance': 29.619239344810318,\n",
       "  'deg_ood_mmd': 0.07369437469885899},\n",
       " 'double_seen_1': {'deg_ood_r_squared': 0.7059335784478621,\n",
       "  'deg_ood_sinkhorn_div_1': 32.59614874341271,\n",
       "  'deg_ood_sinkhorn_div_10': 20.877838969230652,\n",
       "  'deg_ood_sinkhorn_div_100': 18.555315350402484,\n",
       "  'deg_ood_e_distance': 36.54178002599698,\n",
       "  'deg_ood_mmd': 0.09210377755490216},\n",
       " 'double_seen_0': {'deg_ood_r_squared': 0.5911642842822604,\n",
       "  'deg_ood_sinkhorn_div_1': 39.88064320882162,\n",
       "  'deg_ood_sinkhorn_div_10': 27.592570039961075,\n",
       "  'deg_ood_sinkhorn_div_100': 23.456626574198406,\n",
       "  'deg_ood_e_distance': 45.664735144740476,\n",
       "  'deg_ood_mmd': 0.11046814007891549},\n",
       " 'single': {'deg_ood_r_squared': 0.8534903779625893,\n",
       "  'deg_ood_sinkhorn_div_1': 20.89128379225731,\n",
       "  'deg_ood_sinkhorn_div_10': 11.95991587638855,\n",
       "  'deg_ood_sinkhorn_div_100': 10.324896097183228,\n",
       "  'deg_ood_e_distance': 20.182264498236016,\n",
       "  'deg_ood_mmd': 0.04844673705520108},\n",
       " 'all': {'deg_ood_r_squared': 0.7509186018226494,\n",
       "  'deg_ood_sinkhorn_div_1': 28.71382830132786,\n",
       "  'deg_ood_sinkhorn_div_10': 17.881552204107628,\n",
       "  'deg_ood_sinkhorn_div_100': 15.720470266973871,\n",
       "  'deg_ood_e_distance': 30.881377855935675,\n",
       "  'deg_ood_mmd': 0.07654544768823135}}"
      ]
     },
     "execution_count": 17,
     "metadata": {},
     "output_type": "execute_result"
    }
   ],
   "source": [
    "deg_mean_ood_metrics"
   ]
  },
  {
   "cell_type": "code",
   "execution_count": 18,
   "id": "d6156288-6fc9-46dd-9d21-750bd8ad2195",
   "metadata": {},
   "outputs": [],
   "source": [
    "collected_results = {\n",
    "    # test\n",
    "    \"test_metrics_encoded\": test_metrics_encoded,\n",
    "    \"mean_test_metrics_encoded\": mean_test_metrics_encoded,\n",
    "    \"test_metrics_decoded\": test_metrics_decoded, \n",
    "    \"mean_test_metrics_decoded\": mean_test_metrics_decoded,\n",
    "    \"test_deg_dict\": test_deg_dict,\n",
    "    \"test_deg_target_decoded_predicted\": test_deg_target_decoded_predicted,\n",
    "    \"test_deg_target_decoded\": test_deg_target_decoded,\n",
    "    \"deg_test_metrics\": deg_test_metrics,\n",
    "    \"deg_mean_test_metrics\": deg_mean_test_metrics,\n",
    "    # ood\n",
    "    \"ood_metrics_encoded\": ood_metrics_encoded,\n",
    "    \"mean_ood_metrics_encoded\": mean_ood_metrics_encoded,\n",
    "    \"ood_metrics_decoded\": ood_metrics_decoded,\n",
    "    \"mean_ood_metrics_decoded\": mean_ood_metrics_decoded,\n",
    "    \"deg_ood_metrics\": deg_ood_metrics,\n",
    "    \"deg_mean_ood_metrics\": deg_mean_ood_metrics,\n",
    "    \"ood_deg_dict\": ood_deg_dict,\n",
    "    \"ood_deg_target_decoded_predicted\": ood_deg_target_decoded_predicted,\n",
    "    \"ood_deg_target_decoded\": ood_deg_target_decoded,\n",
    "}"
   ]
  },
  {
   "cell_type": "code",
   "execution_count": 19,
   "id": "00e367b8-f0b7-421d-8de2-8cda6c12ae51",
   "metadata": {},
   "outputs": [],
   "source": [
    "OUT_DIR = \"/lustre/groups/ml01/workspace/ot_perturbation/data/norman_soren/identity\"\n",
    "pd.to_pickle(collected_results, os.path.join(OUT_DIR, f\"norman_identity_split_{split}_collected_results.pkl\"))"
   ]
  }
 ],
 "metadata": {
  "kernelspec": {
   "display_name": "env_cfp2",
   "language": "python",
   "name": "env_cfp2"
  },
  "language_info": {
   "codemirror_mode": {
    "name": "ipython",
    "version": 3
   },
   "file_extension": ".py",
   "mimetype": "text/x-python",
   "name": "python",
   "nbconvert_exporter": "python",
   "pygments_lexer": "ipython3",
   "version": "3.12.0"
  }
 },
 "nbformat": 4,
 "nbformat_minor": 5
}
