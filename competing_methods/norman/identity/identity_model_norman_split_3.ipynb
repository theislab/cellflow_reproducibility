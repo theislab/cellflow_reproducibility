{
 "cells": [
  {
   "cell_type": "markdown",
   "id": "712a333f-0d25-45fd-b914-3a599857ba49",
   "metadata": {},
   "source": [
    "#### This notebook evaluates the identity model on the Norman dataset.\n",
    "\n",
    "The identity model (= \"no effect model\") assumes that perturbations have no effect and predictions thus correspond to control cells. These 'predictions' are computed on-the-fly in this notebook (rather than being loaded as in the other baseline models)."
   ]
  },
  {
   "cell_type": "code",
   "execution_count": 1,
   "id": "c0ee1f71-dbd2-48d2-ba27-0493b3eb040d",
   "metadata": {},
   "outputs": [],
   "source": [
    "%load_ext autoreload\n",
    "%autoreload 2"
   ]
  },
  {
   "cell_type": "code",
   "execution_count": 2,
   "id": "69ed4031-44de-4e8a-86d8-d94d2e5cc59f",
   "metadata": {},
   "outputs": [],
   "source": [
    "import scanpy as sc\n",
    "import jax\n",
    "import os\n",
    "from cfp.metrics import compute_metrics, compute_mean_metrics, compute_metrics_fast\n",
    "import cfp.preprocessing as cfpp\n",
    "import anndata as ad\n",
    "import pandas as pd\n",
    "from tqdm.auto import tqdm"
   ]
  },
  {
   "cell_type": "code",
   "execution_count": 3,
   "id": "ba912cd2-3435-4e1c-90b2-7202368d1197",
   "metadata": {},
   "outputs": [],
   "source": [
    "def get_mask(x, y):\n",
    "    return x[:, [gene in y for gene in adata_train.var_names]]"
   ]
  },
  {
   "cell_type": "code",
   "execution_count": 4,
   "id": "625d1c2a-0922-4953-bdb2-1a753d5be4f4",
   "metadata": {},
   "outputs": [],
   "source": [
    "split = 3"
   ]
  },
  {
   "cell_type": "markdown",
   "id": "5a638f11-4d7c-455e-91cc-143ac224d9c7",
   "metadata": {},
   "source": [
    "#### Data loading"
   ]
  },
  {
   "cell_type": "code",
   "execution_count": 5,
   "id": "4bf00b73-0283-4961-bcb1-8038d298f052",
   "metadata": {},
   "outputs": [],
   "source": [
    "DATA_DIR = \"/home/haicu/soeren.becker/repos/ot_pert_reproducibility/norman2019/norman_preprocessed_adata\"\n",
    "\n",
    "adata_train_path = os.path.join(DATA_DIR, f\"adata_train_pca_3_split_{split}.h5ad\")\n",
    "adata_test_path = os.path.join(DATA_DIR, f\"adata_val_pca_3_split_{split}.h5ad\")\n",
    "adata_ood_path = os.path.join(DATA_DIR, f\"adata_test_pca_3_split_{split}.h5ad\")\n",
    "\n",
    "# load data splits\n",
    "adata_train = sc.read(adata_train_path)\n",
    "adata_test = sc.read(adata_test_path)\n",
    "adata_ood = sc.read(adata_ood_path)"
   ]
  },
  {
   "cell_type": "markdown",
   "id": "5183570f-6884-453c-87b7-2066e6967dae",
   "metadata": {},
   "source": [
    "#### Add subgroup annotations\n",
    "\n",
    "- single: Only one gene has been perturbed. This perturbation is not part of the training data.\n",
    "- double_seen_0: Two genes have been perturbed. Neither of these gene perturbations have been seen as single perturbations in the training data.\n",
    "- double_seen_1: Two genes have been perturbed. One of the two perturbed genes has been seen as single perturbation in the training data.\n",
    "- double_seen_2: Two genes have been perturbed. Both gene perturbations have been seen as single perturbation in the training data."
   ]
  },
  {
   "cell_type": "code",
   "execution_count": 6,
   "id": "83f6432c-61b9-4182-aa47-bc1846ce2547",
   "metadata": {},
   "outputs": [
    {
     "data": {
      "text/plain": [
       "subgroup\n",
       "double_seen_1    13587\n",
       "single           11685\n",
       "double_seen_2     2815\n",
       "double_seen_0     1873\n",
       "Name: count, dtype: int64"
      ]
     },
     "metadata": {},
     "output_type": "display_data"
    }
   ],
   "source": [
    "train_conditions = adata_train.obs.condition.str.replace(\"+ctrl\", \"\").str.replace(\"ctrl+\", \"\").unique()\n",
    "\n",
    "assert not adata_ood[adata_ood.obs.condition != \"ctrl\"].obs.condition.isin(train_conditions).any()\n",
    "\n",
    "mask_single_perturbation = adata_ood.obs.condition.str.contains(\"ctrl\")\n",
    "mask_double_perturbation_seen_0 = (\n",
    "    ~adata_ood.obs.condition.str.contains(\"ctrl\") & \n",
    "    ~adata_ood.obs.gene_1.isin(train_conditions) & \n",
    "    ~adata_ood.obs.gene_2.isin(train_conditions)\n",
    ")\n",
    "mask_double_perturbation_seen_1 = (\n",
    "    ~adata_ood.obs.condition.str.contains(\"ctrl\") & \n",
    "    (\n",
    "        (adata_ood.obs.gene_1.isin(train_conditions) & ~adata_ood.obs.gene_2.isin(train_conditions)) | \n",
    "        (~adata_ood.obs.gene_1.isin(train_conditions) & adata_ood.obs.gene_2.isin(train_conditions))\n",
    "    )\n",
    ")\n",
    "mask_double_perturbation_seen_2 = (\n",
    "    ~adata_ood.obs.condition.str.contains(\"ctrl\") & \n",
    "    adata_ood.obs.gene_1.isin(train_conditions) & \n",
    "    adata_ood.obs.gene_2.isin(train_conditions)\n",
    ")\n",
    "adata_ood.obs.loc[mask_single_perturbation, \"subgroup\"] = \"single\"\n",
    "adata_ood.obs.loc[mask_double_perturbation_seen_0, \"subgroup\"] = \"double_seen_0\"\n",
    "adata_ood.obs.loc[mask_double_perturbation_seen_1, \"subgroup\"] = \"double_seen_1\"\n",
    "adata_ood.obs.loc[mask_double_perturbation_seen_2, \"subgroup\"] = \"double_seen_2\"\n",
    "\n",
    "display(adata_ood.obs.subgroup.value_counts())"
   ]
  },
  {
   "cell_type": "code",
   "execution_count": 7,
   "id": "e3bf158b-5629-4105-8868-4586ee9b65da",
   "metadata": {},
   "outputs": [
    {
     "name": "stderr",
     "output_type": "stream",
     "text": [
      "/home/haicu/soeren.becker/miniconda3/envs/env_cfp2/lib/python3.12/site-packages/anndata/_core/anndata.py:1754: UserWarning: Observation names are not unique. To make them unique, call `.obs_names_make_unique`.\n",
      "  utils.warn_names_duplicates(\"obs\")\n"
     ]
    }
   ],
   "source": [
    "# compute pca on full dataset\n",
    "adata_all = ad.concat((adata_train, adata_test, adata_ood))\n",
    "cfpp.centered_pca(adata_all, n_comps=10)"
   ]
  },
  {
   "cell_type": "markdown",
   "id": "cb032516-3271-4cd8-9d33-94c23c4282f0",
   "metadata": {},
   "source": [
    "#### Predict on test set"
   ]
  },
  {
   "cell_type": "code",
   "execution_count": 8,
   "id": "9cef1e24-92ba-4d53-9484-db08a1833cb3",
   "metadata": {},
   "outputs": [
    {
     "name": "stderr",
     "output_type": "stream",
     "text": [
      "/ictstr01/home/haicu/soeren.becker/repos/cell_flow_perturbation/src/cfp/preprocessing/_pca.py:192: ImplicitModificationWarning: Setting element `.obsm['X_pca']` of view, initializing view as actual.\n",
      "  query_adata.obsm[obsm_key_added] = np.array(\n"
     ]
    }
   ],
   "source": [
    "# compute predictions of identity model --> the identity model always predicts that the perturbation has not effect, \n",
    "# i.e., predictions correspond to cells of the control condition\n",
    "adata_pred_test = adata_test[adata_test.obs[\"condition\"]==\"ctrl\"]\n",
    "\n",
    "# project predictions and ground truth data onto pca space\n",
    "cfpp.project_pca(query_adata=adata_pred_test, ref_adata=adata_all)\n",
    "cfpp.project_pca(query_adata=adata_test, ref_adata=adata_all)\n",
    "\n",
    "# dict for ground truths per condition, encoded (=pca space) and decoded (= gene space)\n",
    "test_data_target_encoded, test_data_target_decoded = {}, {}\n",
    "\n",
    "# dict for predictions per condition, encoded (=pca space) and decoded (= gene space)\n",
    "test_data_target_encoded_predicted, test_data_target_decoded_predicted = {}, {}\n",
    "\n",
    "for cond in adata_test.obs[\"condition\"].cat.categories:\n",
    "    if cond == \"ctrl\":\n",
    "        continue\n",
    "\n",
    "    # pca space\n",
    "    test_data_target_encoded[cond] = adata_test[adata_test.obs[\"condition\"] == cond].obsm[\"X_pca\"]\n",
    "    test_data_target_encoded_predicted[cond] = adata_pred_test.obsm[\"X_pca\"]\n",
    "    \n",
    "    # gene space\n",
    "    test_data_target_decoded[cond] = adata_test[adata_test.obs[\"condition\"] == cond].X\n",
    "    test_data_target_decoded_predicted[cond] = adata_pred_test.X"
   ]
  },
  {
   "cell_type": "markdown",
   "id": "77cc51b8-43fb-437e-aef2-7abb887a51b5",
   "metadata": {},
   "source": [
    "#### Predict on ood set (full ood set + subgroups)"
   ]
  },
  {
   "cell_type": "code",
   "execution_count": 9,
   "id": "62f64dae-0c26-41e1-902c-8e71562fbefe",
   "metadata": {},
   "outputs": [],
   "source": [
    "# compute predictions of identity model --> the identity model always predicts that the perturbation has not effect, \n",
    "# i.e., predictions correspond to cells of the control condition\n",
    "adata_pred_ood = adata_ood[adata_ood.obs[\"condition\"]==\"ctrl\"]\n",
    "\n",
    "cfpp.project_pca(query_adata=adata_pred_ood, ref_adata=adata_all)\n",
    "cfpp.project_pca(query_adata=adata_ood, ref_adata=adata_all)\n",
    "\n",
    "ood_data_target_encoded, ood_data_target_decoded = {}, {}\n",
    "ood_data_target_encoded_predicted, ood_data_target_decoded_predicted = {}, {}\n",
    "\n",
    "subgroups = [\"all\", \"single\", \"double_seen_0\", \"double_seen_1\", \"double_seen_2\"]\n",
    "\n",
    "for subgroup in subgroups:\n",
    "\n",
    "    ood_data_target_encoded[subgroup] = {}\n",
    "    ood_data_target_decoded[subgroup] = {}\n",
    "    ood_data_target_encoded_predicted[subgroup] = {}\n",
    "    ood_data_target_decoded_predicted[subgroup] = {}\n",
    "    \n",
    "    for cond in adata_ood.obs[\"condition\"].cat.categories:\n",
    "        if cond == \"ctrl\":\n",
    "            continue\n",
    "        \n",
    "        select = adata_ood.obs[\"condition\"] == cond\n",
    "        if subgroup != \"all\":\n",
    "            select = select & (adata_ood.obs.subgroup == subgroup)\n",
    "\n",
    "        if not any(select):\n",
    "            # the condition is not part of this subgroup\n",
    "            continue\n",
    "        \n",
    "        # pca space\n",
    "        ood_data_target_encoded[subgroup][cond] = adata_ood[select].obsm[\"X_pca\"]\n",
    "        ood_data_target_encoded_predicted[subgroup][cond] = adata_pred_ood.obsm[\"X_pca\"]\n",
    "    \n",
    "        # gene space\n",
    "        ood_data_target_decoded[subgroup][cond] = adata_ood[select].X\n",
    "        ood_data_target_decoded_predicted[subgroup][cond] = adata_pred_ood.X"
   ]
  },
  {
   "cell_type": "markdown",
   "id": "3d00dc2c-31fe-49a6-a247-4ae7a57abea3",
   "metadata": {},
   "source": [
    "#### Evaluation on test set"
   ]
  },
  {
   "cell_type": "code",
   "execution_count": 10,
   "id": "109179d7-18fe-4d9d-8075-b0f1ce701d2d",
   "metadata": {},
   "outputs": [
    {
     "name": "stderr",
     "output_type": "stream",
     "text": [
      "E1114 16:02:40.052095  819073 hlo_lexer.cc:443] Failed to parse int literal: 158860238866516663516\n"
     ]
    }
   ],
   "source": [
    "# test set: evaluation in encoded (=pca) space\n",
    "test_metrics_encoded = jax.tree_util.tree_map(\n",
    "    compute_metrics, \n",
    "    # compute_metrics_fast, \n",
    "    test_data_target_encoded, \n",
    "    test_data_target_encoded_predicted\n",
    ")\n",
    "mean_test_metrics_encoded = compute_mean_metrics(\n",
    "    test_metrics_encoded, \n",
    "    prefix=\"encoded_test_\"\n",
    ")\n",
    "\n",
    "# test set: evaluation in decoded (=gene) space\n",
    "test_metrics_decoded = jax.tree_util.tree_map(\n",
    "    # compute_metrics, \n",
    "    compute_metrics_fast, \n",
    "    test_data_target_decoded, \n",
    "    test_data_target_decoded_predicted\n",
    ")\n",
    "mean_test_metrics_decoded = compute_mean_metrics(\n",
    "    test_metrics_decoded, \n",
    "    prefix=\"decoded_test_\"\n",
    ")\n",
    "\n",
    "# test set\n",
    "test_deg_dict = {\n",
    "    k: v \n",
    "    for k, v in adata_train.uns['rank_genes_groups_cov_all'].items() \n",
    "    if k in test_data_target_decoded_predicted.keys()\n",
    "}\n",
    "\n",
    "# test set\n",
    "test_deg_target_decoded_predicted = jax.tree_util.tree_map(\n",
    "    get_mask, \n",
    "    test_data_target_decoded_predicted, \n",
    "    test_deg_dict\n",
    ")\n",
    "test_deg_target_decoded = jax.tree_util.tree_map(\n",
    "    get_mask, \n",
    "    test_data_target_decoded, \n",
    "    test_deg_dict\n",
    ")\n",
    "\n",
    "deg_test_metrics = jax.tree_util.tree_map(\n",
    "    compute_metrics, \n",
    "    # compute_metrics_fast, \n",
    "    test_deg_target_decoded, \n",
    "    test_deg_target_decoded_predicted\n",
    ")\n",
    "deg_mean_test_metrics = compute_mean_metrics(\n",
    "    deg_test_metrics, \n",
    "    prefix=\"deg_test_\"\n",
    ")"
   ]
  },
  {
   "cell_type": "code",
   "execution_count": 11,
   "id": "a75471e6-dde3-4c51-beac-c81ae0926cf8",
   "metadata": {},
   "outputs": [
    {
     "data": {
      "text/plain": [
       "{'encoded_test_r_squared': -1.0193046170931597,\n",
       " 'encoded_test_sinkhorn_div_1': 20.300258893233078,\n",
       " 'encoded_test_sinkhorn_div_10': 16.064701006962704,\n",
       " 'encoded_test_sinkhorn_div_100': 13.464954082782452,\n",
       " 'encoded_test_e_distance': 25.898587002317086,\n",
       " 'encoded_test_mmd': 0.061631125469620414}"
      ]
     },
     "execution_count": 11,
     "metadata": {},
     "output_type": "execute_result"
    }
   ],
   "source": [
    "mean_test_metrics_encoded"
   ]
  },
  {
   "cell_type": "code",
   "execution_count": 12,
   "id": "81882f1b-49e3-4a6a-b0a2-bd400726c20c",
   "metadata": {},
   "outputs": [
    {
     "data": {
      "text/plain": [
       "{'decoded_test_r_squared': 0.955407589673996,\n",
       " 'decoded_test_sinkhorn_div_1': 118.30650446965144,\n",
       " 'decoded_test_sinkhorn_div_10': 84.69106190021222,\n",
       " 'decoded_test_sinkhorn_div_100': 17.86936803964468,\n",
       " 'decoded_test_e_distance': 32.66198071051835,\n",
       " 'decoded_test_mmd': 0.027154897894853584}"
      ]
     },
     "execution_count": 12,
     "metadata": {},
     "output_type": "execute_result"
    }
   ],
   "source": [
    "mean_test_metrics_decoded"
   ]
  },
  {
   "cell_type": "code",
   "execution_count": 13,
   "id": "45ee8da9-08ad-4b5b-8506-601211cc2220",
   "metadata": {},
   "outputs": [
    {
     "data": {
      "text/plain": [
       "{'deg_test_r_squared': 0.7863385127140925,\n",
       " 'deg_test_sinkhorn_div_1': 23.670191718981815,\n",
       " 'deg_test_sinkhorn_div_10': 13.803049701910753,\n",
       " 'deg_test_sinkhorn_div_100': 11.990354427924522,\n",
       " 'deg_test_e_distance': 23.58044464832553,\n",
       " 'deg_test_mmd': 0.06124206571481549}"
      ]
     },
     "execution_count": 13,
     "metadata": {},
     "output_type": "execute_result"
    }
   ],
   "source": [
    "deg_mean_test_metrics"
   ]
  },
  {
   "cell_type": "markdown",
   "id": "2c973222-50f0-4e1c-b419-0a490ed1d7ac",
   "metadata": {},
   "source": [
    "#### Evaluation on ood set"
   ]
  },
  {
   "cell_type": "code",
   "execution_count": 14,
   "id": "73448857-4c8e-4a76-902b-b4cdc401adb2",
   "metadata": {},
   "outputs": [
    {
     "data": {
      "application/vnd.jupyter.widget-view+json": {
       "model_id": "4e511f2371ef4b9cb9887505aed78ccf",
       "version_major": 2,
       "version_minor": 0
      },
      "text/plain": [
       "  0%|          | 0/5 [00:00<?, ?it/s]"
      ]
     },
     "metadata": {},
     "output_type": "display_data"
    },
    {
     "name": "stdout",
     "output_type": "stream",
     "text": [
      "subgroup: double_seen_2\n",
      "Computing ood_metrics_encoded\n",
      "Computing ood_metrics_decoded\n",
      "Apply DEG mask\n",
      "Compute metrics on DEG subsetted decoded\n",
      "subgroup: double_seen_1\n",
      "Computing ood_metrics_encoded\n",
      "Computing ood_metrics_decoded\n",
      "Apply DEG mask\n",
      "Compute metrics on DEG subsetted decoded\n",
      "subgroup: double_seen_0\n",
      "Computing ood_metrics_encoded\n",
      "Computing ood_metrics_decoded\n",
      "Apply DEG mask\n",
      "Compute metrics on DEG subsetted decoded\n",
      "subgroup: single\n",
      "Computing ood_metrics_encoded\n",
      "Computing ood_metrics_decoded\n",
      "Apply DEG mask\n",
      "Compute metrics on DEG subsetted decoded\n",
      "subgroup: all\n",
      "Computing ood_metrics_encoded\n",
      "Computing ood_metrics_decoded\n",
      "Apply DEG mask\n",
      "Compute metrics on DEG subsetted decoded\n"
     ]
    }
   ],
   "source": [
    "ood_metrics_encoded, mean_ood_metrics_encoded = {}, {}\n",
    "ood_metrics_decoded, mean_ood_metrics_decoded = {}, {}\n",
    "deg_ood_metrics, deg_mean_ood_metrics = {}, {}\n",
    "ood_deg_dict = {}\n",
    "ood_deg_target_decoded_predicted, ood_deg_target_decoded = {}, {}\n",
    "\n",
    "for subgroup in tqdm(subgroups[::-1]):\n",
    "\n",
    "    print(f\"subgroup: {subgroup}\")\n",
    "\n",
    "    print(\"Computing ood_metrics_encoded\")\n",
    "    # ood set: evaluation in encoded (=pca) space\n",
    "    ood_metrics_encoded[subgroup] = jax.tree_util.tree_map(\n",
    "        compute_metrics, \n",
    "        # compute_metrics_fast, \n",
    "        ood_data_target_encoded[subgroup], \n",
    "        ood_data_target_encoded_predicted[subgroup]\n",
    "    )\n",
    "    mean_ood_metrics_encoded[subgroup] = compute_mean_metrics(\n",
    "        ood_metrics_encoded[subgroup], \n",
    "        prefix=\"encoded_ood_\",\n",
    "    )\n",
    "\n",
    "    print(\"Computing ood_metrics_decoded\")\n",
    "    # ood set: evaluation in decoded (=gene) space\n",
    "    ood_metrics_decoded[subgroup] = jax.tree_util.tree_map(\n",
    "        # compute_metrics, \n",
    "        compute_metrics_fast, \n",
    "        ood_data_target_decoded[subgroup], \n",
    "        ood_data_target_decoded_predicted[subgroup]\n",
    "    )\n",
    "    mean_ood_metrics_decoded[subgroup] = compute_mean_metrics(\n",
    "        ood_metrics_decoded[subgroup], \n",
    "        prefix=\"decoded_ood_\",\n",
    "    )\n",
    "\n",
    "    # ood set\n",
    "    ood_deg_dict[subgroup] = {\n",
    "        k: v\n",
    "        for k, v in adata_train.uns['rank_genes_groups_cov_all'].items() \n",
    "        if k in ood_data_target_decoded_predicted[subgroup].keys()\n",
    "    }\n",
    "\n",
    "    print(\"Apply DEG mask\")\n",
    "    # ood set\n",
    "    ood_deg_target_decoded_predicted[subgroup] = jax.tree_util.tree_map(\n",
    "        get_mask, \n",
    "        ood_data_target_decoded_predicted[subgroup], \n",
    "        ood_deg_dict[subgroup]\n",
    "    )\n",
    "    \n",
    "    ood_deg_target_decoded[subgroup] = jax.tree_util.tree_map(\n",
    "        get_mask, \n",
    "        ood_data_target_decoded[subgroup], \n",
    "        ood_deg_dict[subgroup]\n",
    "    )\n",
    "\n",
    "    print(\"Compute metrics on DEG subsetted decoded\")\n",
    "    deg_ood_metrics[subgroup] = jax.tree_util.tree_map(\n",
    "        compute_metrics, \n",
    "        # compute_metrics_fast, \n",
    "        ood_deg_target_decoded[subgroup], \n",
    "        ood_deg_target_decoded_predicted[subgroup]\n",
    "    )\n",
    "    deg_mean_ood_metrics[subgroup] = compute_mean_metrics(\n",
    "        deg_ood_metrics[subgroup], \n",
    "        prefix=\"deg_ood_\"\n",
    "    )"
   ]
  },
  {
   "cell_type": "code",
   "execution_count": 15,
   "id": "21ac3346-3a4f-48f4-89b4-5aa9b5970e2c",
   "metadata": {},
   "outputs": [
    {
     "data": {
      "text/plain": [
       "{'double_seen_2': {'encoded_ood_r_squared': -0.8182484656572342,\n",
       "  'encoded_ood_sinkhorn_div_1': 28.310436248779297,\n",
       "  'encoded_ood_sinkhorn_div_10': 23.292140165964764,\n",
       "  'encoded_ood_sinkhorn_div_100': 19.369065284729004,\n",
       "  'encoded_ood_e_distance': 37.40626049025098,\n",
       "  'encoded_ood_mmd': 0.08756249817088246},\n",
       " 'double_seen_1': {'encoded_ood_r_squared': -1.2104228375092991,\n",
       "  'encoded_ood_sinkhorn_div_1': 26.64607388118528,\n",
       "  'encoded_ood_sinkhorn_div_10': 21.941482184068214,\n",
       "  'encoded_ood_sinkhorn_div_100': 18.14314741458533,\n",
       "  'encoded_ood_e_distance': 34.57573491095868,\n",
       "  'encoded_ood_mmd': 0.07594861771981672},\n",
       " 'double_seen_0': {'encoded_ood_r_squared': -1.151916742324829,\n",
       "  'encoded_ood_sinkhorn_div_1': 22.576999346415203,\n",
       "  'encoded_ood_sinkhorn_div_10': 18.06695704989963,\n",
       "  'encoded_ood_sinkhorn_div_100': 15.64321157667372,\n",
       "  'encoded_ood_e_distance': 30.625814467552896,\n",
       "  'encoded_ood_mmd': 0.07749342173337936},\n",
       " 'single': {'encoded_ood_r_squared': -0.7675928151285326,\n",
       "  'encoded_ood_sinkhorn_div_1': 12.25230682218397,\n",
       "  'encoded_ood_sinkhorn_div_10': 8.336956024169922,\n",
       "  'encoded_ood_sinkhorn_div_100': 6.508177370638461,\n",
       "  'encoded_ood_e_distance': 12.555389948192063,\n",
       "  'encoded_ood_mmd': 0.03586717225560868},\n",
       " 'all': {'encoded_ood_r_squared': -1.0156718632122417,\n",
       "  'encoded_ood_sinkhorn_div_1': 21.69815763267311,\n",
       "  'encoded_ood_sinkhorn_div_10': 17.238506523338526,\n",
       "  'encoded_ood_sinkhorn_div_100': 14.194658227868983,\n",
       "  'encoded_ood_e_distance': 27.22135886896309,\n",
       "  'encoded_ood_mmd': 0.06396894492125055}}"
      ]
     },
     "execution_count": 15,
     "metadata": {},
     "output_type": "execute_result"
    }
   ],
   "source": [
    "mean_ood_metrics_encoded"
   ]
  },
  {
   "cell_type": "code",
   "execution_count": 16,
   "id": "6c2a9bc2-5c3d-4a6d-a1df-6bf5118cf6d6",
   "metadata": {},
   "outputs": [
    {
     "data": {
      "text/plain": [
       "{'double_seen_2': {'decoded_ood_r_squared': 0.9355401496092478,\n",
       "  'decoded_ood_sinkhorn_div_1': 135.986302057902,\n",
       "  'decoded_ood_sinkhorn_div_10': 103.42467721303304,\n",
       "  'decoded_ood_sinkhorn_div_100': 25.884009679158527,\n",
       "  'decoded_ood_e_distance': 46.74367822386795,\n",
       "  'decoded_ood_mmd': 0.03780840508018931},\n",
       " 'double_seen_1': {'decoded_ood_r_squared': 0.9386914822290529,\n",
       "  'decoded_ood_sinkhorn_div_1': 132.44223267177367,\n",
       "  'decoded_ood_sinkhorn_div_10': 99.45550738640551,\n",
       "  'decoded_ood_sinkhorn_div_100': 25.094286072928952,\n",
       "  'decoded_ood_e_distance': 44.56089625470371,\n",
       "  'decoded_ood_mmd': 0.034479049825162256},\n",
       " 'double_seen_0': {'decoded_ood_r_squared': 0.948093851407369,\n",
       "  'decoded_ood_sinkhorn_div_1': 121.41927337646484,\n",
       "  'decoded_ood_sinkhorn_div_10': 88.63462914360895,\n",
       "  'decoded_ood_sinkhorn_div_100': 20.58209228515625,\n",
       "  'decoded_ood_e_distance': 38.44946936663116,\n",
       "  'decoded_ood_mmd': 0.034688023229440056},\n",
       " 'single': {'decoded_ood_r_squared': 0.9743763288936099,\n",
       "  'decoded_ood_sinkhorn_div_1': 108.41275539913693,\n",
       "  'decoded_ood_sinkhorn_div_10': 74.52587828765044,\n",
       "  'decoded_ood_sinkhorn_div_100': 10.420613469304266,\n",
       "  'decoded_ood_e_distance': 18.680241652879467,\n",
       "  'decoded_ood_mmd': 0.018384967099975894},\n",
       " 'all': {'decoded_ood_r_squared': 0.9510081007673934,\n",
       "  'decoded_ood_sinkhorn_div_1': 123.92179609418989,\n",
       "  'decoded_ood_sinkhorn_div_10': 90.69736195469761,\n",
       "  'decoded_ood_sinkhorn_div_100': 19.922583846358567,\n",
       "  'decoded_ood_e_distance': 35.674466717494894,\n",
       "  'decoded_ood_mmd': 0.02949122967081027}}"
      ]
     },
     "execution_count": 16,
     "metadata": {},
     "output_type": "execute_result"
    }
   ],
   "source": [
    "mean_ood_metrics_decoded"
   ]
  },
  {
   "cell_type": "code",
   "execution_count": 17,
   "id": "aab64e60-e696-493e-8cb8-44edef2d29c5",
   "metadata": {},
   "outputs": [
    {
     "data": {
      "text/plain": [
       "{'double_seen_2': {'deg_ood_r_squared': 0.7668259143829346,\n",
       "  'deg_ood_sinkhorn_div_1': 30.4760320186615,\n",
       "  'deg_ood_sinkhorn_div_10': 18.585283915201824,\n",
       "  'deg_ood_sinkhorn_div_100': 16.298033873240154,\n",
       "  'deg_ood_e_distance': 32.166943264189285,\n",
       "  'deg_ood_mmd': 0.08063141939540704},\n",
       " 'double_seen_1': {'deg_ood_r_squared': 0.737968920536761,\n",
       "  'deg_ood_sinkhorn_div_1': 26.19584974140491,\n",
       "  'deg_ood_sinkhorn_div_10': 15.810027273196095,\n",
       "  'deg_ood_sinkhorn_div_100': 13.948523683368036,\n",
       "  'deg_ood_e_distance': 27.446497184981645,\n",
       "  'deg_ood_mmd': 0.07810710504088762},\n",
       " 'double_seen_0': {'deg_ood_r_squared': 0.8150879608260261,\n",
       "  'deg_ood_sinkhorn_div_1': 24.048120127783882,\n",
       "  'deg_ood_sinkhorn_div_10': 14.664608107672798,\n",
       "  'deg_ood_sinkhorn_div_100': 13.530794779459635,\n",
       "  'deg_ood_e_distance': 26.883714785596194,\n",
       "  'deg_ood_mmd': 0.0861144144501951},\n",
       " 'single': {'deg_ood_r_squared': 0.8664752679902155,\n",
       "  'deg_ood_sinkhorn_div_1': 16.217136230017687,\n",
       "  'deg_ood_sinkhorn_div_10': 7.593002738984856,\n",
       "  'deg_ood_sinkhorn_div_100': 6.655103278321189,\n",
       "  'deg_ood_e_distance': 13.17588573650941,\n",
       "  'deg_ood_mmd': 0.04323129547206131},\n",
       " 'all': {'deg_ood_r_squared': 0.7901769398568986,\n",
       "  'deg_ood_sinkhorn_div_1': 23.158194073685653,\n",
       "  'deg_ood_sinkhorn_div_10': 13.278175015975764,\n",
       "  'deg_ood_sinkhorn_div_100': 11.737514738832509,\n",
       "  'deg_ood_e_distance': 23.15431419185146,\n",
       "  'deg_ood_mmd': 0.06740397533720678}}"
      ]
     },
     "execution_count": 17,
     "metadata": {},
     "output_type": "execute_result"
    }
   ],
   "source": [
    "deg_mean_ood_metrics"
   ]
  },
  {
   "cell_type": "code",
   "execution_count": 18,
   "id": "d6156288-6fc9-46dd-9d21-750bd8ad2195",
   "metadata": {},
   "outputs": [],
   "source": [
    "collected_results = {\n",
    "    # test\n",
    "    \"test_metrics_encoded\": test_metrics_encoded,\n",
    "    \"mean_test_metrics_encoded\": mean_test_metrics_encoded,\n",
    "    \"test_metrics_decoded\": test_metrics_decoded, \n",
    "    \"mean_test_metrics_decoded\": mean_test_metrics_decoded,\n",
    "    \"test_deg_dict\": test_deg_dict,\n",
    "    \"test_deg_target_decoded_predicted\": test_deg_target_decoded_predicted,\n",
    "    \"test_deg_target_decoded\": test_deg_target_decoded,\n",
    "    \"deg_test_metrics\": deg_test_metrics,\n",
    "    \"deg_mean_test_metrics\": deg_mean_test_metrics,\n",
    "    # ood\n",
    "    \"ood_metrics_encoded\": ood_metrics_encoded,\n",
    "    \"mean_ood_metrics_encoded\": mean_ood_metrics_encoded,\n",
    "    \"ood_metrics_decoded\": ood_metrics_decoded,\n",
    "    \"mean_ood_metrics_decoded\": mean_ood_metrics_decoded,\n",
    "    \"deg_ood_metrics\": deg_ood_metrics,\n",
    "    \"deg_mean_ood_metrics\": deg_mean_ood_metrics,\n",
    "    \"ood_deg_dict\": ood_deg_dict,\n",
    "    \"ood_deg_target_decoded_predicted\": ood_deg_target_decoded_predicted,\n",
    "    \"ood_deg_target_decoded\": ood_deg_target_decoded,\n",
    "}"
   ]
  },
  {
   "cell_type": "code",
   "execution_count": 19,
   "id": "00e367b8-f0b7-421d-8de2-8cda6c12ae51",
   "metadata": {},
   "outputs": [],
   "source": [
    "OUT_DIR = \"/lustre/groups/ml01/workspace/ot_perturbation/data/norman_soren/identity\"\n",
    "pd.to_pickle(collected_results, os.path.join(f\"norman_identity_split_{split}_collected_results.pkl\"))"
   ]
  }
 ],
 "metadata": {
  "kernelspec": {
   "display_name": "env_cfp2",
   "language": "python",
   "name": "env_cfp2"
  },
  "language_info": {
   "codemirror_mode": {
    "name": "ipython",
    "version": 3
   },
   "file_extension": ".py",
   "mimetype": "text/x-python",
   "name": "python",
   "nbconvert_exporter": "python",
   "pygments_lexer": "ipython3",
   "version": "3.12.0"
  }
 },
 "nbformat": 4,
 "nbformat_minor": 5
}
