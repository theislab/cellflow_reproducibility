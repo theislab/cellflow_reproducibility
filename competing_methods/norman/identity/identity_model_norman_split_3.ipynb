{
 "cells": [
  {
   "cell_type": "code",
   "execution_count": 1,
   "id": "c0ee1f71-dbd2-48d2-ba27-0493b3eb040d",
   "metadata": {},
   "outputs": [],
   "source": [
    "%load_ext autoreload\n",
    "%autoreload 2"
   ]
  },
  {
   "cell_type": "code",
   "execution_count": 2,
   "id": "69ed4031-44de-4e8a-86d8-d94d2e5cc59f",
   "metadata": {},
   "outputs": [
    {
     "name": "stderr",
     "output_type": "stream",
     "text": [
      "/home/haicu/soeren.becker/miniconda3/envs/env_cfp2/lib/python3.12/site-packages/anndata/utils.py:429: FutureWarning: Importing read_csv from `anndata` is deprecated. Import anndata.io.read_csv instead.\n",
      "  warnings.warn(msg, FutureWarning)\n",
      "/home/haicu/soeren.becker/miniconda3/envs/env_cfp2/lib/python3.12/site-packages/anndata/utils.py:429: FutureWarning: Importing read_excel from `anndata` is deprecated. Import anndata.io.read_excel instead.\n",
      "  warnings.warn(msg, FutureWarning)\n",
      "/home/haicu/soeren.becker/miniconda3/envs/env_cfp2/lib/python3.12/site-packages/anndata/utils.py:429: FutureWarning: Importing read_hdf from `anndata` is deprecated. Import anndata.io.read_hdf instead.\n",
      "  warnings.warn(msg, FutureWarning)\n",
      "/home/haicu/soeren.becker/miniconda3/envs/env_cfp2/lib/python3.12/site-packages/anndata/utils.py:429: FutureWarning: Importing read_loom from `anndata` is deprecated. Import anndata.io.read_loom instead.\n",
      "  warnings.warn(msg, FutureWarning)\n",
      "/home/haicu/soeren.becker/miniconda3/envs/env_cfp2/lib/python3.12/site-packages/anndata/utils.py:429: FutureWarning: Importing read_mtx from `anndata` is deprecated. Import anndata.io.read_mtx instead.\n",
      "  warnings.warn(msg, FutureWarning)\n",
      "/home/haicu/soeren.becker/miniconda3/envs/env_cfp2/lib/python3.12/site-packages/anndata/utils.py:429: FutureWarning: Importing read_text from `anndata` is deprecated. Import anndata.io.read_text instead.\n",
      "  warnings.warn(msg, FutureWarning)\n",
      "/home/haicu/soeren.becker/miniconda3/envs/env_cfp2/lib/python3.12/site-packages/anndata/utils.py:429: FutureWarning: Importing read_umi_tools from `anndata` is deprecated. Import anndata.io.read_umi_tools instead.\n",
      "  warnings.warn(msg, FutureWarning)\n",
      "/home/haicu/soeren.becker/miniconda3/envs/env_cfp2/lib/python3.12/site-packages/anndata/utils.py:429: FutureWarning: Importing read_csv from `anndata` is deprecated. Import anndata.io.read_csv instead.\n",
      "  warnings.warn(msg, FutureWarning)\n",
      "/home/haicu/soeren.becker/miniconda3/envs/env_cfp2/lib/python3.12/site-packages/anndata/utils.py:429: FutureWarning: Importing read_loom from `anndata` is deprecated. Import anndata.io.read_loom instead.\n",
      "  warnings.warn(msg, FutureWarning)\n",
      "/home/haicu/soeren.becker/miniconda3/envs/env_cfp2/lib/python3.12/site-packages/anndata/utils.py:429: FutureWarning: Importing read_text from `anndata` is deprecated. Import anndata.io.read_text instead.\n",
      "  warnings.warn(msg, FutureWarning)\n",
      "/home/haicu/soeren.becker/miniconda3/envs/env_cfp2/lib/python3.12/site-packages/anndata/utils.py:429: FutureWarning: Importing CSCDataset from `anndata.experimental` is deprecated. Import anndata.abc.CSCDataset instead.\n",
      "  warnings.warn(msg, FutureWarning)\n",
      "/home/haicu/soeren.becker/miniconda3/envs/env_cfp2/lib/python3.12/site-packages/anndata/utils.py:429: FutureWarning: Importing CSRDataset from `anndata.experimental` is deprecated. Import anndata.abc.CSRDataset instead.\n",
      "  warnings.warn(msg, FutureWarning)\n",
      "/home/haicu/soeren.becker/miniconda3/envs/env_cfp2/lib/python3.12/site-packages/anndata/utils.py:429: FutureWarning: Importing read_elem from `anndata.experimental` is deprecated. Import anndata.io.read_elem instead.\n",
      "  warnings.warn(msg, FutureWarning)\n"
     ]
    }
   ],
   "source": [
    "import scanpy as sc\n",
    "import jax\n",
    "import os\n",
    "from cfp.metrics import compute_metrics, compute_mean_metrics, compute_metrics_fast\n",
    "import cfp.preprocessing as cfpp\n",
    "import anndata as ad\n",
    "import pandas as pd\n",
    "from tqdm.auto import tqdm"
   ]
  },
  {
   "cell_type": "code",
   "execution_count": 3,
   "id": "ba912cd2-3435-4e1c-90b2-7202368d1197",
   "metadata": {},
   "outputs": [],
   "source": [
    "def get_mask(x, y):\n",
    "    return x[:, [gene in y for gene in adata_train.var_names]]"
   ]
  },
  {
   "cell_type": "code",
   "execution_count": 4,
   "id": "625d1c2a-0922-4953-bdb2-1a753d5be4f4",
   "metadata": {},
   "outputs": [],
   "source": [
    "split = 3"
   ]
  },
  {
   "cell_type": "markdown",
   "id": "5a638f11-4d7c-455e-91cc-143ac224d9c7",
   "metadata": {},
   "source": [
    "#### Data loading"
   ]
  },
  {
   "cell_type": "code",
   "execution_count": 5,
   "id": "4bf00b73-0283-4961-bcb1-8038d298f052",
   "metadata": {},
   "outputs": [],
   "source": [
    "DATA_DIR = \"/home/haicu/soeren.becker/repos/ot_pert_reproducibility/norman2019/norman_preprocessed_adata\"\n",
    "\n",
    "adata_train_path = os.path.join(DATA_DIR, f\"adata_train_pca_3_split_{split}.h5ad\")\n",
    "adata_test_path = os.path.join(DATA_DIR, f\"adata_val_pca_3_split_{split}.h5ad\")\n",
    "adata_ood_path = os.path.join(DATA_DIR, f\"adata_test_pca_3_split_{split}.h5ad\")\n",
    "\n",
    "# load data splits\n",
    "adata_train = sc.read(adata_train_path)\n",
    "adata_test = sc.read(adata_test_path)\n",
    "adata_ood = sc.read(adata_ood_path)"
   ]
  },
  {
   "cell_type": "code",
   "execution_count": 6,
   "id": "e3bf158b-5629-4105-8868-4586ee9b65da",
   "metadata": {},
   "outputs": [
    {
     "name": "stderr",
     "output_type": "stream",
     "text": [
      "/home/haicu/soeren.becker/miniconda3/envs/env_cfp2/lib/python3.12/site-packages/anndata/_core/anndata.py:1756: UserWarning: Observation names are not unique. To make them unique, call `.obs_names_make_unique`.\n",
      "  utils.warn_names_duplicates(\"obs\")\n"
     ]
    }
   ],
   "source": [
    "# compute pca on full dataset\n",
    "adata_all = ad.concat((adata_train, adata_test, adata_ood))\n",
    "cfpp.centered_pca(adata_all, n_comps=10)"
   ]
  },
  {
   "cell_type": "markdown",
   "id": "77cc51b8-43fb-437e-aef2-7abb887a51b5",
   "metadata": {},
   "source": [
    "#### Predict on ood set"
   ]
  },
  {
   "cell_type": "code",
   "execution_count": 7,
   "id": "62f64dae-0c26-41e1-902c-8e71562fbefe",
   "metadata": {},
   "outputs": [
    {
     "name": "stderr",
     "output_type": "stream",
     "text": [
      "/ictstr01/home/haicu/soeren.becker/repos/cell_flow_perturbation/src/cfp/preprocessing/_pca.py:192: ImplicitModificationWarning: Setting element `.obsm['X_pca']` of view, initializing view as actual.\n",
      "  query_adata.obsm[obsm_key_added] = np.array(\n"
     ]
    }
   ],
   "source": [
    "# compute predictions of identity model --> the identity model always predicts that the perturbation has not effect, \n",
    "# i.e., predictions correspond to cells of the control condition\n",
    "adata_pred_ood = adata_ood[adata_ood.obs[\"condition\"]==\"ctrl\"]\n",
    "\n",
    "cfpp.project_pca(query_adata=adata_pred_ood, ref_adata=adata_all)\n",
    "cfpp.project_pca(query_adata=adata_ood, ref_adata=adata_all)\n",
    "\n",
    "ood_data_target_encoded, ood_data_target_decoded = {}, {}\n",
    "ood_data_target_encoded_predicted, ood_data_target_decoded_predicted = {}, {}\n",
    "\n",
    "ood_data_target_encoded = {}\n",
    "ood_data_target_decoded = {}\n",
    "ood_data_target_encoded_predicted = {}\n",
    "ood_data_target_decoded_predicted = {}\n",
    "\n",
    "for cond in adata_ood.obs[\"condition\"].cat.categories:\n",
    "    if cond == \"ctrl\":\n",
    "        continue\n",
    "    \n",
    "    select = adata_ood.obs[\"condition\"] == cond\n",
    "\n",
    "    if not any(select):\n",
    "        # the condition is not part of this subgroup\n",
    "        continue\n",
    "    \n",
    "    # pca space\n",
    "    ood_data_target_encoded[cond] = adata_ood[select].obsm[\"X_pca\"]\n",
    "    ood_data_target_encoded_predicted[cond] = adata_pred_ood.obsm[\"X_pca\"]\n",
    "\n",
    "    # gene space\n",
    "    ood_data_target_decoded[cond] = adata_ood[select].X\n",
    "    ood_data_target_decoded_predicted[cond] = adata_pred_ood.X"
   ]
  },
  {
   "cell_type": "markdown",
   "id": "2c973222-50f0-4e1c-b419-0a490ed1d7ac",
   "metadata": {},
   "source": [
    "#### Evaluation on ood set"
   ]
  },
  {
   "cell_type": "code",
   "execution_count": 8,
   "id": "73448857-4c8e-4a76-902b-b4cdc401adb2",
   "metadata": {},
   "outputs": [
    {
     "name": "stdout",
     "output_type": "stream",
     "text": [
      "Computing ood_metrics_encoded\n",
      "Computing ood_metrics_decoded\n",
      "Apply DEG mask\n",
      "Compute metrics on DEG subsetted decoded\n"
     ]
    }
   ],
   "source": [
    "ood_metrics_encoded, mean_ood_metrics_encoded = {}, {}\n",
    "ood_metrics_decoded, mean_ood_metrics_decoded = {}, {}\n",
    "deg_ood_metrics, deg_mean_ood_metrics = {}, {}\n",
    "ood_deg_dict = {}\n",
    "ood_deg_target_decoded_predicted, ood_deg_target_decoded = {}, {}\n",
    "\n",
    "print(\"Computing ood_metrics_encoded\")\n",
    "# ood set: evaluation in encoded (=pca) space\n",
    "ood_metrics_encoded = jax.tree_util.tree_map(\n",
    "    compute_metrics, \n",
    "    # compute_metrics_fast, \n",
    "    ood_data_target_encoded, \n",
    "    ood_data_target_encoded_predicted\n",
    ")\n",
    "mean_ood_metrics_encoded = compute_mean_metrics(\n",
    "    ood_metrics_encoded, \n",
    "    prefix=\"encoded_ood_\",\n",
    ")\n",
    "\n",
    "print(\"Computing ood_metrics_decoded\")\n",
    "# ood set: evaluation in decoded (=gene) space\n",
    "ood_metrics_decoded = jax.tree_util.tree_map(\n",
    "    # compute_metrics, \n",
    "    compute_metrics_fast, \n",
    "    ood_data_target_decoded, \n",
    "    ood_data_target_decoded_predicted\n",
    ")\n",
    "mean_ood_metrics_decoded = compute_mean_metrics(\n",
    "    ood_metrics_decoded, \n",
    "    prefix=\"decoded_ood_\",\n",
    ")\n",
    "\n",
    "# ood set\n",
    "ood_deg_dict = {\n",
    "    k: v\n",
    "    for k, v in adata_train.uns['rank_genes_groups_cov_all'].items() \n",
    "    if k in ood_data_target_decoded_predicted.keys()\n",
    "}\n",
    "\n",
    "print(\"Apply DEG mask\")\n",
    "# ood set\n",
    "ood_deg_target_decoded_predicted = jax.tree_util.tree_map(\n",
    "    get_mask, \n",
    "    ood_data_target_decoded_predicted, \n",
    "    ood_deg_dict\n",
    ")\n",
    "\n",
    "ood_deg_target_decoded = jax.tree_util.tree_map(\n",
    "    get_mask, \n",
    "    ood_data_target_decoded, \n",
    "    ood_deg_dict\n",
    ")\n",
    "\n",
    "print(\"Compute metrics on DEG subsetted decoded\")\n",
    "deg_ood_metrics = jax.tree_util.tree_map(\n",
    "    compute_metrics, \n",
    "    # compute_metrics_fast, \n",
    "    ood_deg_target_decoded, \n",
    "    ood_deg_target_decoded_predicted\n",
    ")\n",
    "deg_mean_ood_metrics = compute_mean_metrics(\n",
    "    deg_ood_metrics, \n",
    "    prefix=\"deg_ood_\"\n",
    ")"
   ]
  },
  {
   "cell_type": "code",
   "execution_count": 9,
   "id": "d6156288-6fc9-46dd-9d21-750bd8ad2195",
   "metadata": {},
   "outputs": [],
   "source": [
    "collected_results = {\n",
    "    # ood\n",
    "    \"ood_metrics_encoded\": ood_metrics_encoded,\n",
    "    \"mean_ood_metrics_encoded\": mean_ood_metrics_encoded,\n",
    "    \"ood_metrics_decoded\": ood_metrics_decoded,\n",
    "    \"mean_ood_metrics_decoded\": mean_ood_metrics_decoded,\n",
    "    \"deg_ood_metrics\": deg_ood_metrics,\n",
    "    \"deg_mean_ood_metrics\": deg_mean_ood_metrics,\n",
    "    \"ood_deg_dict\": ood_deg_dict,\n",
    "    \"ood_deg_target_decoded_predicted\": ood_deg_target_decoded_predicted,\n",
    "    \"ood_deg_target_decoded\": ood_deg_target_decoded,\n",
    "}"
   ]
  },
  {
   "cell_type": "code",
   "execution_count": 11,
   "id": "00e367b8-f0b7-421d-8de2-8cda6c12ae51",
   "metadata": {},
   "outputs": [],
   "source": [
    "OUT_DIR = \"/lustre/groups/ml01/workspace/ot_perturbation/data/norman_soren/identity_wo_subgroups\"\n",
    "os.makedirs(OUT_DIR, exist_ok=True)\n",
    "pd.to_pickle(collected_results, os.path.join(OUT_DIR, f\"norman_identity_split_{split}_collected_results.pkl\"))"
   ]
  },
  {
   "cell_type": "code",
   "execution_count": null,
   "id": "e35fc359",
   "metadata": {},
   "outputs": [],
   "source": []
  }
 ],
 "metadata": {
  "kernelspec": {
   "display_name": "env_cfp2",
   "language": "python",
   "name": "python3"
  },
  "language_info": {
   "codemirror_mode": {
    "name": "ipython",
    "version": 3
   },
   "file_extension": ".py",
   "mimetype": "text/x-python",
   "name": "python",
   "nbconvert_exporter": "python",
   "pygments_lexer": "ipython3",
   "version": "3.12.0"
  }
 },
 "nbformat": 4,
 "nbformat_minor": 5
}
