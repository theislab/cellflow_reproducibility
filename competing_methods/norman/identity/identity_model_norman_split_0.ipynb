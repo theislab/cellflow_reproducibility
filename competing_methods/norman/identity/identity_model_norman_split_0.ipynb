{
 "cells": [
  {
   "cell_type": "markdown",
   "id": "712a333f-0d25-45fd-b914-3a599857ba49",
   "metadata": {},
   "source": [
    "#### This notebook evaluates the identity model on the Norman dataset.\n",
    "\n",
    "The identity model (= \"no effect model\") assumes that perturbations have no effect and predictions thus correspond to control cells. These 'predictions' are computed on-the-fly in this notebook (rather than being loaded as in the other baseline models)."
   ]
  },
  {
   "cell_type": "code",
   "execution_count": 1,
   "id": "c0ee1f71-dbd2-48d2-ba27-0493b3eb040d",
   "metadata": {},
   "outputs": [],
   "source": [
    "%load_ext autoreload\n",
    "%autoreload 2"
   ]
  },
  {
   "cell_type": "code",
   "execution_count": 2,
   "id": "69ed4031-44de-4e8a-86d8-d94d2e5cc59f",
   "metadata": {},
   "outputs": [],
   "source": [
    "import scanpy as sc\n",
    "import jax\n",
    "import os\n",
    "from cfp.metrics import compute_metrics, compute_mean_metrics, compute_metrics_fast\n",
    "import cfp.preprocessing as cfpp\n",
    "import anndata as ad\n",
    "import pandas as pd\n",
    "from tqdm.auto import tqdm"
   ]
  },
  {
   "cell_type": "code",
   "execution_count": 3,
   "id": "ba912cd2-3435-4e1c-90b2-7202368d1197",
   "metadata": {},
   "outputs": [],
   "source": [
    "def get_mask(x, y):\n",
    "    return x[:, [gene in y for gene in adata_train.var_names]]"
   ]
  },
  {
   "cell_type": "code",
   "execution_count": 4,
   "id": "625d1c2a-0922-4953-bdb2-1a753d5be4f4",
   "metadata": {},
   "outputs": [],
   "source": [
    "split = 0"
   ]
  },
  {
   "cell_type": "markdown",
   "id": "5a638f11-4d7c-455e-91cc-143ac224d9c7",
   "metadata": {},
   "source": [
    "#### Data loading"
   ]
  },
  {
   "cell_type": "code",
   "execution_count": 5,
   "id": "4bf00b73-0283-4961-bcb1-8038d298f052",
   "metadata": {},
   "outputs": [],
   "source": [
    "DATA_DIR = \"/home/haicu/soeren.becker/repos/ot_pert_reproducibility/norman2019/norman_preprocessed_adata\"\n",
    "\n",
    "adata_train_path = os.path.join(DATA_DIR, f\"adata_train_pca_3_split_{split}.h5ad\")\n",
    "adata_test_path = os.path.join(DATA_DIR, f\"adata_val_pca_3_split_{split}.h5ad\")\n",
    "adata_ood_path = os.path.join(DATA_DIR, f\"adata_test_pca_3_split_{split}.h5ad\")\n",
    "\n",
    "# load data splits\n",
    "adata_train = sc.read(adata_train_path)\n",
    "adata_test = sc.read(adata_test_path)\n",
    "adata_ood = sc.read(adata_ood_path)"
   ]
  },
  {
   "cell_type": "markdown",
   "id": "5183570f-6884-453c-87b7-2066e6967dae",
   "metadata": {},
   "source": [
    "#### Add subgroup annotations\n",
    "\n",
    "- single: Only one gene has been perturbed. This perturbation is not part of the training data.\n",
    "- double_seen_0: Two genes have been perturbed. Neither of these gene perturbations have been seen as single perturbations in the training data.\n",
    "- double_seen_1: Two genes have been perturbed. One of the two perturbed genes has been seen as single perturbation in the training data.\n",
    "- double_seen_2: Two genes have been perturbed. Both gene perturbations have been seen as single perturbation in the training data."
   ]
  },
  {
   "cell_type": "code",
   "execution_count": 6,
   "id": "83f6432c-61b9-4182-aa47-bc1846ce2547",
   "metadata": {},
   "outputs": [
    {
     "data": {
      "text/plain": [
       "subgroup\n",
       "double_seen_1    11417\n",
       "single           11317\n",
       "double_seen_2     4593\n",
       "double_seen_0     1927\n",
       "Name: count, dtype: int64"
      ]
     },
     "metadata": {},
     "output_type": "display_data"
    }
   ],
   "source": [
    "train_conditions = adata_train.obs.condition.str.replace(\"+ctrl\", \"\").str.replace(\"ctrl+\", \"\").unique()\n",
    "\n",
    "assert not adata_ood[adata_ood.obs.condition != \"ctrl\"].obs.condition.isin(train_conditions).any()\n",
    "\n",
    "mask_single_perturbation = adata_ood.obs.condition.str.contains(\"ctrl\")\n",
    "mask_double_perturbation_seen_0 = (\n",
    "    ~adata_ood.obs.condition.str.contains(\"ctrl\") & \n",
    "    ~adata_ood.obs.gene_1.isin(train_conditions) & \n",
    "    ~adata_ood.obs.gene_2.isin(train_conditions)\n",
    ")\n",
    "mask_double_perturbation_seen_1 = (\n",
    "    ~adata_ood.obs.condition.str.contains(\"ctrl\") & \n",
    "    (\n",
    "        (adata_ood.obs.gene_1.isin(train_conditions) & ~adata_ood.obs.gene_2.isin(train_conditions)) | \n",
    "        (~adata_ood.obs.gene_1.isin(train_conditions) & adata_ood.obs.gene_2.isin(train_conditions))\n",
    "    )\n",
    ")\n",
    "mask_double_perturbation_seen_2 = (\n",
    "    ~adata_ood.obs.condition.str.contains(\"ctrl\") & \n",
    "    adata_ood.obs.gene_1.isin(train_conditions) & \n",
    "    adata_ood.obs.gene_2.isin(train_conditions)\n",
    ")\n",
    "adata_ood.obs.loc[mask_single_perturbation, \"subgroup\"] = \"single\"\n",
    "adata_ood.obs.loc[mask_double_perturbation_seen_0, \"subgroup\"] = \"double_seen_0\"\n",
    "adata_ood.obs.loc[mask_double_perturbation_seen_1, \"subgroup\"] = \"double_seen_1\"\n",
    "adata_ood.obs.loc[mask_double_perturbation_seen_2, \"subgroup\"] = \"double_seen_2\"\n",
    "\n",
    "display(adata_ood.obs.subgroup.value_counts())"
   ]
  },
  {
   "cell_type": "code",
   "execution_count": 7,
   "id": "e3bf158b-5629-4105-8868-4586ee9b65da",
   "metadata": {},
   "outputs": [
    {
     "name": "stderr",
     "output_type": "stream",
     "text": [
      "/home/haicu/soeren.becker/miniconda3/envs/env_cfp2/lib/python3.12/site-packages/anndata/_core/anndata.py:1754: UserWarning: Observation names are not unique. To make them unique, call `.obs_names_make_unique`.\n",
      "  utils.warn_names_duplicates(\"obs\")\n"
     ]
    }
   ],
   "source": [
    "# compute pca on full dataset\n",
    "adata_all = ad.concat((adata_train, adata_test, adata_ood))\n",
    "cfpp.centered_pca(adata_all, n_comps=10)"
   ]
  },
  {
   "cell_type": "markdown",
   "id": "cb032516-3271-4cd8-9d33-94c23c4282f0",
   "metadata": {},
   "source": [
    "#### Predict on test set"
   ]
  },
  {
   "cell_type": "code",
   "execution_count": 8,
   "id": "9cef1e24-92ba-4d53-9484-db08a1833cb3",
   "metadata": {},
   "outputs": [
    {
     "name": "stderr",
     "output_type": "stream",
     "text": [
      "/ictstr01/home/haicu/soeren.becker/repos/cell_flow_perturbation/src/cfp/preprocessing/_pca.py:192: ImplicitModificationWarning: Setting element `.obsm['X_pca']` of view, initializing view as actual.\n",
      "  query_adata.obsm[obsm_key_added] = np.array(\n"
     ]
    }
   ],
   "source": [
    "# compute predictions of identity model --> the identity model always predicts that the perturbation has not effect, \n",
    "# i.e., predictions correspond to cells of the control condition\n",
    "adata_pred_test = adata_test[adata_test.obs[\"condition\"]==\"ctrl\"]\n",
    "\n",
    "# project predictions and ground truth data onto pca space\n",
    "cfpp.project_pca(query_adata=adata_pred_test, ref_adata=adata_all)\n",
    "cfpp.project_pca(query_adata=adata_test, ref_adata=adata_all)\n",
    "\n",
    "# dict for ground truths per condition, encoded (=pca space) and decoded (= gene space)\n",
    "test_data_target_encoded, test_data_target_decoded = {}, {}\n",
    "\n",
    "# dict for predictions per condition, encoded (=pca space) and decoded (= gene space)\n",
    "test_data_target_encoded_predicted, test_data_target_decoded_predicted = {}, {}\n",
    "\n",
    "for cond in adata_test.obs[\"condition\"].cat.categories:\n",
    "    if cond == \"ctrl\":\n",
    "        continue\n",
    "\n",
    "    # pca space\n",
    "    test_data_target_encoded[cond] = adata_test[adata_test.obs[\"condition\"] == cond].obsm[\"X_pca\"]\n",
    "    test_data_target_encoded_predicted[cond] = adata_pred_test.obsm[\"X_pca\"]\n",
    "    \n",
    "    # gene space\n",
    "    test_data_target_decoded[cond] = adata_test[adata_test.obs[\"condition\"] == cond].X\n",
    "    test_data_target_decoded_predicted[cond] = adata_pred_test.X"
   ]
  },
  {
   "cell_type": "markdown",
   "id": "77cc51b8-43fb-437e-aef2-7abb887a51b5",
   "metadata": {},
   "source": [
    "#### Predict on ood set (full ood set + subgroups)"
   ]
  },
  {
   "cell_type": "code",
   "execution_count": 9,
   "id": "62f64dae-0c26-41e1-902c-8e71562fbefe",
   "metadata": {},
   "outputs": [],
   "source": [
    "# compute predictions of identity model --> the identity model always predicts that the perturbation has not effect, \n",
    "# i.e., predictions correspond to cells of the control condition\n",
    "adata_pred_ood = adata_ood[adata_ood.obs[\"condition\"]==\"ctrl\"]\n",
    "\n",
    "cfpp.project_pca(query_adata=adata_pred_ood, ref_adata=adata_all)\n",
    "cfpp.project_pca(query_adata=adata_ood, ref_adata=adata_all)\n",
    "\n",
    "ood_data_target_encoded, ood_data_target_decoded = {}, {}\n",
    "ood_data_target_encoded_predicted, ood_data_target_decoded_predicted = {}, {}\n",
    "\n",
    "subgroups = [\"all\", \"single\", \"double_seen_0\", \"double_seen_1\", \"double_seen_0\"]\n",
    "\n",
    "for subgroup in subgroups:\n",
    "\n",
    "    ood_data_target_encoded[subgroup] = {}\n",
    "    ood_data_target_decoded[subgroup] = {}\n",
    "    ood_data_target_encoded_predicted[subgroup] = {}\n",
    "    ood_data_target_decoded_predicted[subgroup] = {}\n",
    "    \n",
    "    for cond in adata_ood.obs[\"condition\"].cat.categories:\n",
    "        if cond == \"ctrl\":\n",
    "            continue\n",
    "        \n",
    "        select = adata_ood.obs[\"condition\"] == cond\n",
    "        if subgroup != \"all\":\n",
    "            select = select & (adata_ood.obs.subgroup == subgroup)\n",
    "\n",
    "        if not any(select):\n",
    "            # the condition is not part of this subgroup\n",
    "            continue\n",
    "        \n",
    "        # pca space\n",
    "        ood_data_target_encoded[subgroup][cond] = adata_ood[select].obsm[\"X_pca\"]\n",
    "        ood_data_target_encoded_predicted[subgroup][cond] = adata_pred_ood.obsm[\"X_pca\"]\n",
    "    \n",
    "        # gene space\n",
    "        ood_data_target_decoded[subgroup][cond] = adata_ood[select].X\n",
    "        ood_data_target_decoded_predicted[subgroup][cond] = adata_pred_ood.X"
   ]
  },
  {
   "cell_type": "markdown",
   "id": "3d00dc2c-31fe-49a6-a247-4ae7a57abea3",
   "metadata": {},
   "source": [
    "#### Evaluation on test set"
   ]
  },
  {
   "cell_type": "code",
   "execution_count": 19,
   "id": "109179d7-18fe-4d9d-8075-b0f1ce701d2d",
   "metadata": {},
   "outputs": [],
   "source": [
    "# test set: evaluation in encoded (=pca) space\n",
    "test_metrics_encoded = jax.tree_util.tree_map(\n",
    "    # compute_metrics, \n",
    "    compute_metrics_fast, \n",
    "    test_data_target_encoded, \n",
    "    test_data_target_encoded_predicted\n",
    ")\n",
    "mean_test_metrics_encoded = compute_mean_metrics(\n",
    "    test_metrics_encoded, \n",
    "    prefix=\"encoded_test_\"\n",
    ")\n",
    "\n",
    "# test set: evaluation in decoded (=gene) space\n",
    "test_metrics_decoded = jax.tree_util.tree_map(\n",
    "    compute_metrics_fast, \n",
    "    test_data_target_decoded, \n",
    "    test_data_target_decoded_predicted\n",
    ")\n",
    "mean_test_metrics_decoded = compute_mean_metrics(\n",
    "    test_metrics_decoded, \n",
    "    prefix=\"decoded_test_\"\n",
    ")\n",
    "\n",
    "# test set\n",
    "test_deg_dict = {\n",
    "    k: v \n",
    "    for k, v in adata_train.uns['rank_genes_groups_cov_all'].items() \n",
    "    if k in test_data_target_decoded_predicted.keys()\n",
    "}\n",
    "\n",
    "# test set\n",
    "test_deg_target_decoded_predicted = jax.tree_util.tree_map(\n",
    "    get_mask, \n",
    "    test_data_target_decoded_predicted, \n",
    "    test_deg_dict\n",
    ")\n",
    "test_deg_target_decoded = jax.tree_util.tree_map(\n",
    "    get_mask, \n",
    "    test_data_target_decoded, \n",
    "    test_deg_dict\n",
    ")\n",
    "\n",
    "deg_test_metrics = jax.tree_util.tree_map(\n",
    "    # compute_metrics, \n",
    "    compute_metrics_fast, \n",
    "    test_deg_target_decoded, \n",
    "    test_deg_target_decoded_predicted\n",
    ")\n",
    "deg_mean_test_metrics = compute_mean_metrics(\n",
    "    deg_test_metrics, \n",
    "    prefix=\"deg_test_\"\n",
    ")"
   ]
  },
  {
   "cell_type": "code",
   "execution_count": 20,
   "id": "a75471e6-dde3-4c51-beac-c81ae0926cf8",
   "metadata": {},
   "outputs": [
    {
     "data": {
      "text/plain": [
       "{'encoded_test_r_squared': -0.9467595931022398,\n",
       " 'encoded_test_e_distance': 21.113649284174276,\n",
       " 'encoded_test_mmd_distance': 0.05591186839005639}"
      ]
     },
     "execution_count": 20,
     "metadata": {},
     "output_type": "execute_result"
    }
   ],
   "source": [
    "mean_test_metrics_encoded"
   ]
  },
  {
   "cell_type": "code",
   "execution_count": 21,
   "id": "81882f1b-49e3-4a6a-b0a2-bd400726c20c",
   "metadata": {},
   "outputs": [
    {
     "data": {
      "text/plain": [
       "{'decoded_test_r_squared': 0.9612018273722741,\n",
       " 'decoded_test_e_distance': 29.58447520908832,\n",
       " 'decoded_test_mmd_distance': 0.025993242604477752}"
      ]
     },
     "execution_count": 21,
     "metadata": {},
     "output_type": "execute_result"
    }
   ],
   "source": [
    "mean_test_metrics_decoded"
   ]
  },
  {
   "cell_type": "code",
   "execution_count": 22,
   "id": "45ee8da9-08ad-4b5b-8506-601211cc2220",
   "metadata": {},
   "outputs": [
    {
     "data": {
      "text/plain": [
       "{'deg_test_r_squared': 0.807751226809717,\n",
       " 'deg_test_e_distance': 22.63092522060512,\n",
       " 'deg_test_mmd_distance': 0.06167025122070505}"
      ]
     },
     "execution_count": 22,
     "metadata": {},
     "output_type": "execute_result"
    }
   ],
   "source": [
    "deg_mean_test_metrics"
   ]
  },
  {
   "cell_type": "markdown",
   "id": "2c973222-50f0-4e1c-b419-0a490ed1d7ac",
   "metadata": {},
   "source": [
    "#### Evaluation on ood set"
   ]
  },
  {
   "cell_type": "code",
   "execution_count": 23,
   "id": "73448857-4c8e-4a76-902b-b4cdc401adb2",
   "metadata": {},
   "outputs": [
    {
     "data": {
      "application/vnd.jupyter.widget-view+json": {
       "model_id": "e3089184b7794d13923d1e53525b5217",
       "version_major": 2,
       "version_minor": 0
      },
      "text/plain": [
       "  0%|          | 0/5 [00:00<?, ?it/s]"
      ]
     },
     "metadata": {},
     "output_type": "display_data"
    },
    {
     "name": "stdout",
     "output_type": "stream",
     "text": [
      "subgroup: double_seen_0\n",
      "Computing ood_metrics_encoded\n",
      "Computing ood_metrics_decoded\n",
      "Apply DEG mask\n",
      "Compute metrics on DEG subsetted decoded\n",
      "subgroup: double_seen_1\n",
      "Computing ood_metrics_encoded\n",
      "Computing ood_metrics_decoded\n",
      "Apply DEG mask\n",
      "Compute metrics on DEG subsetted decoded\n",
      "subgroup: double_seen_0\n",
      "Computing ood_metrics_encoded\n",
      "Computing ood_metrics_decoded\n",
      "Apply DEG mask\n",
      "Compute metrics on DEG subsetted decoded\n",
      "subgroup: single\n",
      "Computing ood_metrics_encoded\n",
      "Computing ood_metrics_decoded\n",
      "Apply DEG mask\n",
      "Compute metrics on DEG subsetted decoded\n",
      "subgroup: all\n",
      "Computing ood_metrics_encoded\n",
      "Computing ood_metrics_decoded\n",
      "Apply DEG mask\n",
      "Compute metrics on DEG subsetted decoded\n"
     ]
    }
   ],
   "source": [
    "ood_metrics_encoded, mean_ood_metrics_encoded = {}, {}\n",
    "ood_metrics_decoded, mean_ood_metrics_decoded = {}, {}\n",
    "deg_ood_metrics, deg_mean_ood_metrics = {}, {}\n",
    "ood_deg_dict = {}\n",
    "ood_deg_target_decoded_predicted, ood_deg_target_decoded = {}, {}\n",
    "\n",
    "for subgroup in tqdm(subgroups[::-1]):\n",
    "\n",
    "    print(f\"subgroup: {subgroup}\")\n",
    "\n",
    "    print(\"Computing ood_metrics_encoded\")\n",
    "    # ood set: evaluation in encoded (=pca) space\n",
    "    ood_metrics_encoded[subgroup] = jax.tree_util.tree_map(\n",
    "        # compute_metrics, \n",
    "        compute_metrics_fast, \n",
    "        ood_data_target_encoded[subgroup], \n",
    "        ood_data_target_encoded_predicted[subgroup]\n",
    "    )\n",
    "    mean_ood_metrics_encoded[subgroup] = compute_mean_metrics(\n",
    "        ood_metrics_encoded[subgroup], \n",
    "        prefix=\"encoded_ood_\",\n",
    "    )\n",
    "\n",
    "    print(\"Computing ood_metrics_decoded\")\n",
    "    # ood set: evaluation in decoded (=gene) space\n",
    "    ood_metrics_decoded[subgroup] = jax.tree_util.tree_map(\n",
    "        compute_metrics_fast, \n",
    "        ood_data_target_decoded[subgroup], \n",
    "        ood_data_target_decoded_predicted[subgroup]\n",
    "    )\n",
    "    mean_ood_metrics_decoded[subgroup] = compute_mean_metrics(\n",
    "        ood_metrics_decoded[subgroup], \n",
    "        prefix=\"decoded_ood_\",\n",
    "    )\n",
    "\n",
    "    # ood set\n",
    "    ood_deg_dict[subgroup] = {\n",
    "        k: v\n",
    "        for k, v in adata_train.uns['rank_genes_groups_cov_all'].items() \n",
    "        if k in ood_data_target_decoded_predicted[subgroup].keys()\n",
    "    }\n",
    "\n",
    "    print(\"Apply DEG mask\")\n",
    "    # ood set\n",
    "    ood_deg_target_decoded_predicted[subgroup] = jax.tree_util.tree_map(\n",
    "        get_mask, \n",
    "        ood_data_target_decoded_predicted[subgroup], \n",
    "        ood_deg_dict[subgroup]\n",
    "    )\n",
    "    \n",
    "    ood_deg_target_decoded[subgroup] = jax.tree_util.tree_map(\n",
    "        get_mask, \n",
    "        ood_data_target_decoded[subgroup], \n",
    "        ood_deg_dict[subgroup]\n",
    "    )\n",
    "\n",
    "    print(\"Compute metrics on DEG subsetted decoded\")\n",
    "    deg_ood_metrics[subgroup] = jax.tree_util.tree_map(\n",
    "        # compute_metrics, \n",
    "        compute_metrics_fast, \n",
    "        ood_deg_target_decoded[subgroup], \n",
    "        ood_deg_target_decoded_predicted[subgroup]\n",
    "    )\n",
    "    deg_mean_ood_metrics[subgroup] = compute_mean_metrics(\n",
    "        deg_ood_metrics[subgroup], \n",
    "        prefix=\"deg_ood_\"\n",
    "    )"
   ]
  },
  {
   "cell_type": "code",
   "execution_count": 24,
   "id": "21ac3346-3a4f-48f4-89b4-5aa9b5970e2c",
   "metadata": {},
   "outputs": [
    {
     "data": {
      "text/plain": [
       "{'double_seen_0': {'encoded_ood_r_squared': -1.0625860095024109,\n",
       "  'encoded_ood_e_distance': 41.34483749488851,\n",
       "  'encoded_ood_mmd_distance': 0.09608994983136654},\n",
       " 'double_seen_1': {'encoded_ood_r_squared': -0.9417627128687772,\n",
       "  'encoded_ood_e_distance': 45.93255848524384,\n",
       "  'encoded_ood_mmd_distance': 0.09454133274795656},\n",
       " 'single': {'encoded_ood_r_squared': -1.4774351550473108,\n",
       "  'encoded_ood_e_distance': 17.455374982996112,\n",
       "  'encoded_ood_mmd_distance': 0.04616158101190296},\n",
       " 'all': {'encoded_ood_r_squared': -1.1948339671732109,\n",
       "  'encoded_ood_e_distance': 34.74240573665601,\n",
       "  'encoded_ood_mmd_distance': 0.07708435718004948}}"
      ]
     },
     "execution_count": 24,
     "metadata": {},
     "output_type": "execute_result"
    }
   ],
   "source": [
    "mean_ood_metrics_encoded"
   ]
  },
  {
   "cell_type": "code",
   "execution_count": 25,
   "id": "6c2a9bc2-5c3d-4a6d-a1df-6bf5118cf6d6",
   "metadata": {},
   "outputs": [
    {
     "data": {
      "text/plain": [
       "{'double_seen_0': {'decoded_ood_r_squared': 0.9290193617343903,\n",
       "  'decoded_ood_e_distance': 51.601263640622,\n",
       "  'decoded_ood_mmd_distance': 0.04310204011077682},\n",
       " 'double_seen_1': {'decoded_ood_r_squared': 0.9226068596948277,\n",
       "  'decoded_ood_e_distance': 56.05413620752554,\n",
       "  'decoded_ood_mmd_distance': 0.04034265025984496},\n",
       " 'single': {'decoded_ood_r_squared': 0.9670263926188151,\n",
       "  'decoded_ood_e_distance': 24.169279849000336,\n",
       "  'decoded_ood_mmd_distance': 0.021967441535606567},\n",
       " 'all': {'decoded_ood_r_squared': 0.9400034396447868,\n",
       "  'decoded_ood_e_distance': 43.66084116326818,\n",
       "  'decoded_ood_mmd_distance': 0.03406024058610549}}"
      ]
     },
     "execution_count": 25,
     "metadata": {},
     "output_type": "execute_result"
    }
   ],
   "source": [
    "mean_ood_metrics_decoded"
   ]
  },
  {
   "cell_type": "code",
   "execution_count": 26,
   "id": "aab64e60-e696-493e-8cb8-44edef2d29c5",
   "metadata": {},
   "outputs": [
    {
     "data": {
      "text/plain": [
       "{'double_seen_0': {'deg_ood_r_squared': 0.6453550110260645,\n",
       "  'deg_ood_e_distance': 31.879554067707645,\n",
       "  'deg_ood_mmd_distance': 0.09031646667669217},\n",
       " 'double_seen_1': {'deg_ood_r_squared': 0.7215764969587326,\n",
       "  'deg_ood_e_distance': 33.654820371900875,\n",
       "  'deg_ood_mmd_distance': 0.08941872015764768},\n",
       " 'single': {'deg_ood_r_squared': 0.859203490946028,\n",
       "  'deg_ood_e_distance': 17.035811578257867,\n",
       "  'deg_ood_mmd_distance': 0.0478642490795917},\n",
       " 'all': {'deg_ood_r_squared': 0.7561317554144101,\n",
       "  'deg_ood_e_distance': 27.973772498887364,\n",
       "  'deg_ood_mmd_distance': 0.07402312134122738}}"
      ]
     },
     "execution_count": 26,
     "metadata": {},
     "output_type": "execute_result"
    }
   ],
   "source": [
    "deg_mean_ood_metrics"
   ]
  },
  {
   "cell_type": "code",
   "execution_count": 29,
   "id": "d6156288-6fc9-46dd-9d21-750bd8ad2195",
   "metadata": {},
   "outputs": [],
   "source": [
    "collected_results = {\n",
    "    # test\n",
    "    \"test_metrics_encoded\": test_metrics_encoded,\n",
    "    \"mean_test_metrics_encoded\": mean_test_metrics_encoded,\n",
    "    \"test_metrics_decoded\": test_metrics_decoded, \n",
    "    \"mean_test_metrics_decoded\": mean_test_metrics_decoded,\n",
    "    \"test_deg_dict\": test_deg_dict,\n",
    "    \"test_deg_target_decoded_predicted\": test_deg_target_decoded_predicted,\n",
    "    \"test_deg_target_decoded\": test_deg_target_decoded,\n",
    "    \"deg_test_metrics\": deg_test_metrics,\n",
    "    \"deg_mean_test_metrics\": deg_mean_test_metrics,\n",
    "    # ood\n",
    "    \"ood_metrics_encoded\": ood_metrics_encoded,\n",
    "    \"mean_ood_metrics_encoded\": mean_ood_metrics_encoded,\n",
    "    \"ood_metrics_decoded\": ood_metrics_decoded,\n",
    "    \"mean_ood_metrics_decoded\": mean_ood_metrics_decoded,\n",
    "    \"deg_ood_metrics\": deg_ood_metrics,\n",
    "    \"deg_mean_ood_metrics\": deg_mean_ood_metrics,\n",
    "    \"ood_deg_dict\": ood_deg_dict,\n",
    "    \"ood_deg_target_decoded_predicted\": ood_deg_target_decoded_predicted,\n",
    "    \"ood_deg_target_decoded\": ood_deg_target_decoded,\n",
    "}"
   ]
  },
  {
   "cell_type": "code",
   "execution_count": 31,
   "id": "00e367b8-f0b7-421d-8de2-8cda6c12ae51",
   "metadata": {},
   "outputs": [],
   "source": [
    "pd.to_pickle(collected_results, f\"./norman_identity_split_{split}_collected_results.pkl\")"
   ]
  }
 ],
 "metadata": {
  "kernelspec": {
   "display_name": "env_cfp2",
   "language": "python",
   "name": "env_cfp2"
  },
  "language_info": {
   "codemirror_mode": {
    "name": "ipython",
    "version": 3
   },
   "file_extension": ".py",
   "mimetype": "text/x-python",
   "name": "python",
   "nbconvert_exporter": "python",
   "pygments_lexer": "ipython3",
   "version": "3.12.0"
  }
 },
 "nbformat": 4,
 "nbformat_minor": 5
}
