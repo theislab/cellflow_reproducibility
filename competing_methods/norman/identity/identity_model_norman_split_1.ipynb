{
 "cells": [
  {
   "cell_type": "markdown",
   "id": "712a333f-0d25-45fd-b914-3a599857ba49",
   "metadata": {},
   "source": [
    "#### This notebook evaluates the identity model on the Norman dataset.\n",
    "\n",
    "The identity model (= \"no effect model\") assumes that perturbations have no effect and predictions thus correspond to control cells. These 'predictions' are computed on-the-fly in this notebook (rather than being loaded as in the other baseline models)."
   ]
  },
  {
   "cell_type": "code",
   "execution_count": 1,
   "id": "c0ee1f71-dbd2-48d2-ba27-0493b3eb040d",
   "metadata": {},
   "outputs": [],
   "source": [
    "%load_ext autoreload\n",
    "%autoreload 2"
   ]
  },
  {
   "cell_type": "code",
   "execution_count": 12,
   "id": "69ed4031-44de-4e8a-86d8-d94d2e5cc59f",
   "metadata": {},
   "outputs": [],
   "source": [
    "import scanpy as sc\n",
    "import numpy as np\n",
    "import functools\n",
    "import jax\n",
    "import os\n",
    "from cfp.metrics import compute_metrics, compute_mean_metrics, compute_metrics_fast\n",
    "import cfp.preprocessing as cfpp\n",
    "import anndata as ad"
   ]
  },
  {
   "cell_type": "code",
   "execution_count": 3,
   "id": "625d1c2a-0922-4953-bdb2-1a753d5be4f4",
   "metadata": {},
   "outputs": [],
   "source": [
    "split = 0"
   ]
  },
  {
   "cell_type": "code",
   "execution_count": 8,
   "id": "ef6b50c0-fd4a-4771-a3af-69e3c0256c50",
   "metadata": {},
   "outputs": [],
   "source": [
    "DATA_DIR = \"/home/haicu/soeren.becker/repos/ot_pert_reproducibility/norman2019/norman_preprocessed_adata\""
   ]
  },
  {
   "cell_type": "code",
   "execution_count": 35,
   "id": "4bf00b73-0283-4961-bcb1-8038d298f052",
   "metadata": {},
   "outputs": [],
   "source": [
    "adata_train_path = os.path.join(DATA_DIR, f\"adata_train_pca_3_split_{split}.h5ad\")\n",
    "adata_test_path = os.path.join(DATA_DIR, f\"adata_val_pca_3_split_{split}.h5ad\")\n",
    "adata_ood_path = os.path.join(DATA_DIR, f\"adata_test_pca_3_split_{split}.h5ad\")"
   ]
  },
  {
   "cell_type": "code",
   "execution_count": 36,
   "id": "a01ef671-01c6-49b9-8f2b-5013df7c4d27",
   "metadata": {},
   "outputs": [],
   "source": [
    "# load data splits\n",
    "adata_train = sc.read(adata_train_path)\n",
    "adata_test = sc.read(adata_test_path)\n",
    "adata_ood = sc.read(adata_ood_path)"
   ]
  },
  {
   "cell_type": "code",
   "execution_count": 37,
   "id": "e3bf158b-5629-4105-8868-4586ee9b65da",
   "metadata": {},
   "outputs": [
    {
     "name": "stderr",
     "output_type": "stream",
     "text": [
      "/home/haicu/soeren.becker/miniconda3/envs/env_cfp2/lib/python3.12/site-packages/anndata/_core/anndata.py:1754: UserWarning: Observation names are not unique. To make them unique, call `.obs_names_make_unique`.\n",
      "  utils.warn_names_duplicates(\"obs\")\n"
     ]
    }
   ],
   "source": [
    "# compute pca on full dataset\n",
    "adata_all = ad.concat((adata_train, adata_test, adata_ood))\n",
    "cfpp.centered_pca(adata_all, n_comps=10)"
   ]
  },
  {
   "cell_type": "code",
   "execution_count": 38,
   "id": "9cef1e24-92ba-4d53-9484-db08a1833cb3",
   "metadata": {},
   "outputs": [
    {
     "name": "stderr",
     "output_type": "stream",
     "text": [
      "/ictstr01/home/haicu/soeren.becker/repos/cell_flow_perturbation/src/cfp/preprocessing/_pca.py:192: ImplicitModificationWarning: Setting element `.obsm['X_pca']` of view, initializing view as actual.\n",
      "  query_adata.obsm[obsm_key_added] = np.array(\n"
     ]
    }
   ],
   "source": [
    "# compute predictions of identity model --> the identity model always predicts that the perturbation has not effect, \n",
    "# i.e., predictions correspond to cells of the control condition\n",
    "adata_pred_test = adata_test[adata_test.obs[\"condition\"]==\"ctrl\"]\n",
    "\n",
    "# project predictions and ground truth data onto pca space\n",
    "cfpp.project_pca(query_adata=adata_pred_test, ref_adata=adata_all)\n",
    "cfpp.project_pca(query_adata=adata_test, ref_adata=adata_all)\n",
    "\n",
    "# dict for ground truths per condition, encoded (=pca space) and decoded (= gene space)\n",
    "test_data_target_encoded, test_data_target_decoded = {}, {}\n",
    "\n",
    "# dict for predictions per condition, encoded (=pca space) and decoded (= gene space)\n",
    "test_data_target_encoded_predicted, test_data_target_decoded_predicted = {}, {}\n",
    "\n",
    "for cond in adata_test.obs[\"condition\"].cat.categories:\n",
    "    if cond == \"ctrl\":\n",
    "        continue\n",
    "\n",
    "    # pca space\n",
    "    test_data_target_encoded[cond] = adata_test[adata_test.obs[\"condition\"] == cond].obsm[\"X_pca\"]\n",
    "    test_data_target_encoded_predicted[cond] = adata_pred_test.obsm[\"X_pca\"]\n",
    "    \n",
    "    # gene space\n",
    "    test_data_target_decoded[cond] = adata_test[adata_test.obs[\"condition\"] == cond].X\n",
    "    test_data_target_decoded_predicted[cond] = adata_pred_test.X"
   ]
  },
  {
   "cell_type": "code",
   "execution_count": 42,
   "id": "62f64dae-0c26-41e1-902c-8e71562fbefe",
   "metadata": {},
   "outputs": [],
   "source": [
    "# compute predictions of identity model --> the identity model always predicts that the perturbation has not effect, \n",
    "# i.e., predictions correspond to cells of the control condition\n",
    "adata_pred_ood = adata_ood[adata_ood.obs[\"condition\"]==\"ctrl\"]\n",
    "\n",
    "cfpp.project_pca(query_adata=adata_pred_ood, ref_adata=adata_all)\n",
    "cfpp.project_pca(query_adata=adata_ood, ref_adata=adata_all)\n",
    "\n",
    "ood_data_target_encoded, ood_data_target_decoded = {}, {}\n",
    "ood_data_target_encoded_predicted, ood_data_target_decoded_predicted = {}, {}\n",
    "\n",
    "for cond in adata_ood.obs[\"condition\"].cat.categories:\n",
    "    if cond == \"ctrl\":\n",
    "        continue\n",
    "\n",
    "    # pca space\n",
    "    ood_data_target_encoded[cond] = adata_ood[adata_ood.obs[\"condition\"] == cond].obsm[\"X_pca\"]\n",
    "    ood_data_target_encoded_predicted[cond] = adata_pred_ood.obsm[\"X_pca\"]\n",
    "\n",
    "    # gene space\n",
    "    ood_data_target_decoded[cond] = adata_ood[adata_ood.obs[\"condition\"] == cond].X\n",
    "    ood_data_target_decoded_predicted[cond] = adata_pred_ood.X"
   ]
  },
  {
   "cell_type": "code",
   "execution_count": 43,
   "id": "109179d7-18fe-4d9d-8075-b0f1ce701d2d",
   "metadata": {},
   "outputs": [
    {
     "ename": "AttributeError",
     "evalue": "'tuple' object has no attribute 'divergence'",
     "output_type": "error",
     "traceback": [
      "\u001b[0;31m---------------------------------------------------------------------------\u001b[0m",
      "\u001b[0;31mAttributeError\u001b[0m                            Traceback (most recent call last)",
      "Cell \u001b[0;32mIn[43], line 2\u001b[0m\n\u001b[1;32m      1\u001b[0m \u001b[38;5;66;03m# test set: evaluation in encoded (=pca) space\u001b[39;00m\n\u001b[0;32m----> 2\u001b[0m test_metrics_encoded \u001b[38;5;241m=\u001b[39m \u001b[43mjax\u001b[49m\u001b[38;5;241;43m.\u001b[39;49m\u001b[43mtree_util\u001b[49m\u001b[38;5;241;43m.\u001b[39;49m\u001b[43mtree_map\u001b[49m\u001b[43m(\u001b[49m\n\u001b[1;32m      3\u001b[0m \u001b[43m    \u001b[49m\u001b[43mcompute_metrics\u001b[49m\u001b[43m,\u001b[49m\u001b[43m \u001b[49m\n\u001b[1;32m      4\u001b[0m \u001b[43m    \u001b[49m\u001b[43mtest_data_target_encoded\u001b[49m\u001b[43m,\u001b[49m\u001b[43m \u001b[49m\n\u001b[1;32m      5\u001b[0m \u001b[43m    \u001b[49m\u001b[43mtest_data_target_encoded_predicted\u001b[49m\n\u001b[1;32m      6\u001b[0m \u001b[43m)\u001b[49m\n\u001b[1;32m      7\u001b[0m mean_test_metrics_encoded \u001b[38;5;241m=\u001b[39m compute_mean_metrics(\n\u001b[1;32m      8\u001b[0m     test_metrics_encoded, \n\u001b[1;32m      9\u001b[0m     prefix\u001b[38;5;241m=\u001b[39m\u001b[38;5;124m\"\u001b[39m\u001b[38;5;124mencoded_test_\u001b[39m\u001b[38;5;124m\"\u001b[39m\n\u001b[1;32m     10\u001b[0m )\n",
      "File \u001b[0;32m~/miniconda3/envs/env_cfp2/lib/python3.12/site-packages/jax/_src/tree_util.py:344\u001b[0m, in \u001b[0;36mtree_map\u001b[0;34m(f, tree, is_leaf, *rest)\u001b[0m\n\u001b[1;32m    342\u001b[0m leaves, treedef \u001b[38;5;241m=\u001b[39m tree_flatten(tree, is_leaf)\n\u001b[1;32m    343\u001b[0m all_leaves \u001b[38;5;241m=\u001b[39m [leaves] \u001b[38;5;241m+\u001b[39m [treedef\u001b[38;5;241m.\u001b[39mflatten_up_to(r) \u001b[38;5;28;01mfor\u001b[39;00m r \u001b[38;5;129;01min\u001b[39;00m rest]\n\u001b[0;32m--> 344\u001b[0m \u001b[38;5;28;01mreturn\u001b[39;00m \u001b[43mtreedef\u001b[49m\u001b[38;5;241;43m.\u001b[39;49m\u001b[43munflatten\u001b[49m\u001b[43m(\u001b[49m\u001b[43mf\u001b[49m\u001b[43m(\u001b[49m\u001b[38;5;241;43m*\u001b[39;49m\u001b[43mxs\u001b[49m\u001b[43m)\u001b[49m\u001b[43m \u001b[49m\u001b[38;5;28;43;01mfor\u001b[39;49;00m\u001b[43m \u001b[49m\u001b[43mxs\u001b[49m\u001b[43m \u001b[49m\u001b[38;5;129;43;01min\u001b[39;49;00m\u001b[43m \u001b[49m\u001b[38;5;28;43mzip\u001b[39;49m\u001b[43m(\u001b[49m\u001b[38;5;241;43m*\u001b[39;49m\u001b[43mall_leaves\u001b[49m\u001b[43m)\u001b[49m\u001b[43m)\u001b[49m\n",
      "File \u001b[0;32m~/miniconda3/envs/env_cfp2/lib/python3.12/site-packages/jax/_src/tree_util.py:344\u001b[0m, in \u001b[0;36m<genexpr>\u001b[0;34m(.0)\u001b[0m\n\u001b[1;32m    342\u001b[0m leaves, treedef \u001b[38;5;241m=\u001b[39m tree_flatten(tree, is_leaf)\n\u001b[1;32m    343\u001b[0m all_leaves \u001b[38;5;241m=\u001b[39m [leaves] \u001b[38;5;241m+\u001b[39m [treedef\u001b[38;5;241m.\u001b[39mflatten_up_to(r) \u001b[38;5;28;01mfor\u001b[39;00m r \u001b[38;5;129;01min\u001b[39;00m rest]\n\u001b[0;32m--> 344\u001b[0m \u001b[38;5;28;01mreturn\u001b[39;00m treedef\u001b[38;5;241m.\u001b[39munflatten(\u001b[43mf\u001b[49m\u001b[43m(\u001b[49m\u001b[38;5;241;43m*\u001b[39;49m\u001b[43mxs\u001b[49m\u001b[43m)\u001b[49m \u001b[38;5;28;01mfor\u001b[39;00m xs \u001b[38;5;129;01min\u001b[39;00m \u001b[38;5;28mzip\u001b[39m(\u001b[38;5;241m*\u001b[39mall_leaves))\n",
      "File \u001b[0;32m/ictstr01/home/haicu/soeren.becker/repos/cell_flow_perturbation/src/cfp/metrics/_metrics.py:52\u001b[0m, in \u001b[0;36mcompute_metrics\u001b[0;34m(x, y)\u001b[0m\n\u001b[1;32m     50\u001b[0m metrics \u001b[38;5;241m=\u001b[39m {}\n\u001b[1;32m     51\u001b[0m metrics[\u001b[38;5;124m\"\u001b[39m\u001b[38;5;124mr_squared\u001b[39m\u001b[38;5;124m\"\u001b[39m] \u001b[38;5;241m=\u001b[39m compute_r_squared(x, y)\n\u001b[0;32m---> 52\u001b[0m metrics[\u001b[38;5;124m\"\u001b[39m\u001b[38;5;124msinkhorn_div_1\u001b[39m\u001b[38;5;124m\"\u001b[39m] \u001b[38;5;241m=\u001b[39m \u001b[43mcompute_sinkhorn_div\u001b[49m\u001b[43m(\u001b[49m\u001b[43mx\u001b[49m\u001b[43m,\u001b[49m\u001b[43m \u001b[49m\u001b[43my\u001b[49m\u001b[43m,\u001b[49m\u001b[43m \u001b[49m\u001b[43mepsilon\u001b[49m\u001b[38;5;241;43m=\u001b[39;49m\u001b[38;5;241;43m1.0\u001b[39;49m\u001b[43m)\u001b[49m\n\u001b[1;32m     53\u001b[0m metrics[\u001b[38;5;124m\"\u001b[39m\u001b[38;5;124msinkhorn_div_10\u001b[39m\u001b[38;5;124m\"\u001b[39m] \u001b[38;5;241m=\u001b[39m compute_sinkhorn_div(x, y, epsilon\u001b[38;5;241m=\u001b[39m\u001b[38;5;241m10.0\u001b[39m)\n\u001b[1;32m     54\u001b[0m metrics[\u001b[38;5;124m\"\u001b[39m\u001b[38;5;124msinkhorn_div_100\u001b[39m\u001b[38;5;124m\"\u001b[39m] \u001b[38;5;241m=\u001b[39m compute_sinkhorn_div(x, y, epsilon\u001b[38;5;241m=\u001b[39m\u001b[38;5;241m100.0\u001b[39m)\n",
      "File \u001b[0;32m/ictstr01/home/haicu/soeren.becker/repos/cell_flow_perturbation/src/cfp/metrics/_metrics.py:36\u001b[0m, in \u001b[0;36mcompute_sinkhorn_div\u001b[0;34m(x, y, epsilon)\u001b[0m\n\u001b[1;32m     26\u001b[0m \u001b[38;5;28;01mdef\u001b[39;00m \u001b[38;5;21mcompute_sinkhorn_div\u001b[39m(x: ArrayLike, y: ArrayLike, epsilon: \u001b[38;5;28mfloat\u001b[39m \u001b[38;5;241m=\u001b[39m \u001b[38;5;241m1e-2\u001b[39m) \u001b[38;5;241m-\u001b[39m\u001b[38;5;241m>\u001b[39m \u001b[38;5;28mfloat\u001b[39m:\n\u001b[1;32m     27\u001b[0m \u001b[38;5;250m    \u001b[39m\u001b[38;5;124;03m\"\"\"Compute the Sinkhorn divergence between x and y.\"\"\"\u001b[39;00m\n\u001b[1;32m     28\u001b[0m     \u001b[38;5;28;01mreturn\u001b[39;00m \u001b[38;5;28mfloat\u001b[39m(\n\u001b[1;32m     29\u001b[0m         \u001b[43msinkhorn_divergence\u001b[49m\u001b[43m(\u001b[49m\n\u001b[1;32m     30\u001b[0m \u001b[43m            \u001b[49m\u001b[43mpointcloud\u001b[49m\u001b[38;5;241;43m.\u001b[39;49m\u001b[43mPointCloud\u001b[49m\u001b[43m,\u001b[49m\n\u001b[1;32m     31\u001b[0m \u001b[43m            \u001b[49m\u001b[43mx\u001b[49m\u001b[38;5;241;43m=\u001b[39;49m\u001b[43mx\u001b[49m\u001b[43m,\u001b[49m\n\u001b[1;32m     32\u001b[0m \u001b[43m            \u001b[49m\u001b[43my\u001b[49m\u001b[38;5;241;43m=\u001b[39;49m\u001b[43my\u001b[49m\u001b[43m,\u001b[49m\n\u001b[1;32m     33\u001b[0m \u001b[43m            \u001b[49m\u001b[43mcost_fn\u001b[49m\u001b[38;5;241;43m=\u001b[39;49m\u001b[43mcosts\u001b[49m\u001b[38;5;241;43m.\u001b[39;49m\u001b[43mSqEuclidean\u001b[49m\u001b[43m(\u001b[49m\u001b[43m)\u001b[49m\u001b[43m,\u001b[49m\n\u001b[1;32m     34\u001b[0m \u001b[43m            \u001b[49m\u001b[43mepsilon\u001b[49m\u001b[38;5;241;43m=\u001b[39;49m\u001b[43mepsilon\u001b[49m\u001b[43m,\u001b[49m\n\u001b[1;32m     35\u001b[0m \u001b[43m            \u001b[49m\u001b[43mscale_cost\u001b[49m\u001b[38;5;241;43m=\u001b[39;49m\u001b[38;5;241;43m1.0\u001b[39;49m\u001b[43m,\u001b[49m\n\u001b[0;32m---> 36\u001b[0m \u001b[43m        \u001b[49m\u001b[43m)\u001b[49m\u001b[38;5;241;43m.\u001b[39;49m\u001b[43mdivergence\u001b[49m\n\u001b[1;32m     37\u001b[0m     )\n",
      "\u001b[0;31mAttributeError\u001b[0m: 'tuple' object has no attribute 'divergence'"
     ]
    }
   ],
   "source": [
    "# test set: evaluation in encoded (=pca) space\n",
    "test_metrics_encoded = jax.tree_util.tree_map(\n",
    "    compute_metrics, \n",
    "    test_data_target_encoded, \n",
    "    test_data_target_encoded_predicted\n",
    ")\n",
    "mean_test_metrics_encoded = compute_mean_metrics(\n",
    "    test_metrics_encoded, \n",
    "    prefix=\"encoded_test_\"\n",
    ")"
   ]
  },
  {
   "cell_type": "code",
   "execution_count": null,
   "id": "fcde2af5-ee5b-40ac-ad75-88dc915fabd8",
   "metadata": {},
   "outputs": [],
   "source": [
    "# test set: evaluation in decoded (=gene) space\n",
    "test_metrics_decoded = jax.tree_util.tree_map(\n",
    "    compute_metrics_fast, \n",
    "    test_data_target_decoded, \n",
    "    test_data_target_decoded_predicted\n",
    ")\n",
    "mean_test_metrics_decoded = compute_mean_metrics(\n",
    "    test_metrics_decoded, \n",
    "    prefix=\"decoded_test_\"\n",
    ")"
   ]
  },
  {
   "cell_type": "code",
   "execution_count": null,
   "id": "73448857-4c8e-4a76-902b-b4cdc401adb2",
   "metadata": {},
   "outputs": [],
   "source": [
    "# ood set: evaluation in encoded (=pca) space\n",
    "ood_metrics_encoded = jax.tree_util.tree_map(\n",
    "    compute_metrics, \n",
    "    ood_data_target_encoded, \n",
    "    ood_data_target_encoded_predicted\n",
    ")\n",
    "mean_ood_metrics_encoded = compute_mean_metrics(\n",
    "    ood_metrics_encoded, \n",
    "    prefix=\"encoded_ood_\",\n",
    ")\n",
    "\n",
    "# ood set: evaluation in decoded (=gene) space\n",
    "ood_metrics_decoded = jax.tree_util.tree_map(\n",
    "    compute_metrics_fast, \n",
    "    ood_data_target_decoded, \n",
    "    ood_data_target_decoded_predicted\n",
    ")\n",
    "mean_ood_metrics_decoded = compute_mean_metrics(\n",
    "    ood_metrics_decoded, \n",
    "    prefix=\"decoded_ood_\",\n",
    ")"
   ]
  },
  {
   "cell_type": "code",
   "execution_count": null,
   "id": "eb50fe19-e2bc-4161-88db-ff59ebdbb5dc",
   "metadata": {},
   "outputs": [],
   "source": [
    "# test set\n",
    "test_deg_dict = {\n",
    "    k: v \n",
    "    for k, v in adata_train.uns['rank_genes_groups_cov_all'].items() \n",
    "    if k in test_data_target_decoded_predicted.keys()\n",
    "}\n",
    "\n",
    "# ood set\n",
    "ood_deg_dict = {\n",
    "    k: v\n",
    "    for k, v in adata_train.uns['rank_genes_groups_cov_all'].items() \n",
    "    if k in ood_data_target_decoded_predicted.keys()\n",
    "}"
   ]
  },
  {
   "cell_type": "code",
   "execution_count": null,
   "id": "40280a26-fe5c-4581-8346-f03ca35a61e1",
   "metadata": {},
   "outputs": [],
   "source": [
    "def get_mask(x, y):\n",
    "    return x[:, [gene in y for gene in adata_train.var_names]]\n",
    "\n",
    "# test set\n",
    "test_deg_target_decoded_predicted = jax.tree_util.tree_map(\n",
    "    get_mask, \n",
    "    test_data_target_decoded_predicted, \n",
    "    test_deg_dict\n",
    ")\n",
    "test_deg_target_decoded = jax.tree_util.tree_map(\n",
    "    get_mask, \n",
    "    test_data_target_decoded, \n",
    "    test_deg_dict\n",
    ")\n",
    "\n",
    "# ood set\n",
    "ood_deg_target_decoded_predicted = jax.tree_util.tree_map(\n",
    "    get_mask, \n",
    "    ood_data_target_decoded_predicted, \n",
    "    ood_deg_dict\n",
    ")\n",
    "\n",
    "ood_deg_target_decoded = jax.tree_util.tree_map(\n",
    "    get_mask, \n",
    "    ood_data_target_decoded, \n",
    "    ood_deg_dict\n",
    ")"
   ]
  },
  {
   "cell_type": "code",
   "execution_count": null,
   "id": "45a1d87a-9169-40e6-86c5-19c1e761dd82",
   "metadata": {},
   "outputs": [],
   "source": [
    "deg_ood_metrics = jax.tree_util.tree_map(\n",
    "    compute_metrics, \n",
    "    ood_deg_target_decoded, \n",
    "    ood_deg_target_decoded_predicted\n",
    ")\n",
    "deg_mean_ood_metrics = compute_mean_metrics(\n",
    "    deg_ood_metrics, \n",
    "    prefix=\"deg_ood_\"\n",
    ")\n",
    "\n",
    "deg_test_metrics = jax.tree_util.tree_map(\n",
    "    compute_metrics, \n",
    "    test_deg_target_decoded, \n",
    "    test_deg_target_decoded_predicted\n",
    ")\n",
    "deg_mean_test_metrics = compute_mean_metrics(\n",
    "    deg_test_metrics, \n",
    "    prefix=\"deg_test_\"\n",
    ")"
   ]
  },
  {
   "cell_type": "code",
   "execution_count": null,
   "id": "21ac3346-3a4f-48f4-89b4-5aa9b5970e2c",
   "metadata": {},
   "outputs": [],
   "source": []
  }
 ],
 "metadata": {
  "kernelspec": {
   "display_name": "env_cfp2",
   "language": "python",
   "name": "env_cfp2"
  },
  "language_info": {
   "codemirror_mode": {
    "name": "ipython",
    "version": 3
   },
   "file_extension": ".py",
   "mimetype": "text/x-python",
   "name": "python",
   "nbconvert_exporter": "python",
   "pygments_lexer": "ipython3",
   "version": "3.12.0"
  }
 },
 "nbformat": 4,
 "nbformat_minor": 5
}
