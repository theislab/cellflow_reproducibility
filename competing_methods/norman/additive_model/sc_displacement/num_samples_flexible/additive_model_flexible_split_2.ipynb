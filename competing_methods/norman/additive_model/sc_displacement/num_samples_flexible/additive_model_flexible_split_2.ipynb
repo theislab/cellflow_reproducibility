{
 "cells": [
  {
   "cell_type": "code",
   "execution_count": 1,
   "metadata": {},
   "outputs": [],
   "source": [
    "%load_ext autoreload\n",
    "%autoreload 2"
   ]
  },
  {
   "cell_type": "code",
   "execution_count": 2,
   "metadata": {},
   "outputs": [
    {
     "name": "stderr",
     "output_type": "stream",
     "text": [
      "/home/haicu/soeren.becker/miniconda3/envs/env_cfp2/lib/python3.12/site-packages/anndata/utils.py:429: FutureWarning: Importing read_csv from `anndata` is deprecated. Import anndata.io.read_csv instead.\n",
      "  warnings.warn(msg, FutureWarning)\n",
      "/home/haicu/soeren.becker/miniconda3/envs/env_cfp2/lib/python3.12/site-packages/anndata/utils.py:429: FutureWarning: Importing read_excel from `anndata` is deprecated. Import anndata.io.read_excel instead.\n",
      "  warnings.warn(msg, FutureWarning)\n",
      "/home/haicu/soeren.becker/miniconda3/envs/env_cfp2/lib/python3.12/site-packages/anndata/utils.py:429: FutureWarning: Importing read_hdf from `anndata` is deprecated. Import anndata.io.read_hdf instead.\n",
      "  warnings.warn(msg, FutureWarning)\n",
      "/home/haicu/soeren.becker/miniconda3/envs/env_cfp2/lib/python3.12/site-packages/anndata/utils.py:429: FutureWarning: Importing read_loom from `anndata` is deprecated. Import anndata.io.read_loom instead.\n",
      "  warnings.warn(msg, FutureWarning)\n",
      "/home/haicu/soeren.becker/miniconda3/envs/env_cfp2/lib/python3.12/site-packages/anndata/utils.py:429: FutureWarning: Importing read_mtx from `anndata` is deprecated. Import anndata.io.read_mtx instead.\n",
      "  warnings.warn(msg, FutureWarning)\n",
      "/home/haicu/soeren.becker/miniconda3/envs/env_cfp2/lib/python3.12/site-packages/anndata/utils.py:429: FutureWarning: Importing read_text from `anndata` is deprecated. Import anndata.io.read_text instead.\n",
      "  warnings.warn(msg, FutureWarning)\n",
      "/home/haicu/soeren.becker/miniconda3/envs/env_cfp2/lib/python3.12/site-packages/anndata/utils.py:429: FutureWarning: Importing read_umi_tools from `anndata` is deprecated. Import anndata.io.read_umi_tools instead.\n",
      "  warnings.warn(msg, FutureWarning)\n",
      "/home/haicu/soeren.becker/miniconda3/envs/env_cfp2/lib/python3.12/site-packages/anndata/utils.py:429: FutureWarning: Importing read_csv from `anndata` is deprecated. Import anndata.io.read_csv instead.\n",
      "  warnings.warn(msg, FutureWarning)\n",
      "/home/haicu/soeren.becker/miniconda3/envs/env_cfp2/lib/python3.12/site-packages/anndata/utils.py:429: FutureWarning: Importing read_loom from `anndata` is deprecated. Import anndata.io.read_loom instead.\n",
      "  warnings.warn(msg, FutureWarning)\n",
      "/home/haicu/soeren.becker/miniconda3/envs/env_cfp2/lib/python3.12/site-packages/anndata/utils.py:429: FutureWarning: Importing read_text from `anndata` is deprecated. Import anndata.io.read_text instead.\n",
      "  warnings.warn(msg, FutureWarning)\n",
      "/home/haicu/soeren.becker/miniconda3/envs/env_cfp2/lib/python3.12/site-packages/anndata/utils.py:429: FutureWarning: Importing CSCDataset from `anndata.experimental` is deprecated. Import anndata.abc.CSCDataset instead.\n",
      "  warnings.warn(msg, FutureWarning)\n",
      "/home/haicu/soeren.becker/miniconda3/envs/env_cfp2/lib/python3.12/site-packages/anndata/utils.py:429: FutureWarning: Importing CSRDataset from `anndata.experimental` is deprecated. Import anndata.abc.CSRDataset instead.\n",
      "  warnings.warn(msg, FutureWarning)\n",
      "/home/haicu/soeren.becker/miniconda3/envs/env_cfp2/lib/python3.12/site-packages/anndata/utils.py:429: FutureWarning: Importing read_elem from `anndata.experimental` is deprecated. Import anndata.io.read_elem instead.\n",
      "  warnings.warn(msg, FutureWarning)\n"
     ]
    }
   ],
   "source": [
    "import scanpy as sc\n",
    "import jax\n",
    "import os\n",
    "from cfp.metrics import compute_metrics, compute_mean_metrics, compute_metrics_fast\n",
    "import cfp.preprocessing as cfpp\n",
    "import anndata as ad\n",
    "import pandas as pd\n",
    "from tqdm.auto import tqdm\n",
    "import numpy as np"
   ]
  },
  {
   "cell_type": "code",
   "execution_count": 3,
   "metadata": {},
   "outputs": [],
   "source": [
    "def get_mask(x, y):\n",
    "    return x[:, [gene in y for gene in adata_train.var_names]]"
   ]
  },
  {
   "cell_type": "code",
   "execution_count": 4,
   "metadata": {},
   "outputs": [],
   "source": [
    "split = 2"
   ]
  },
  {
   "cell_type": "code",
   "execution_count": 5,
   "metadata": {},
   "outputs": [],
   "source": [
    "DATA_DIR = \"/home/haicu/soeren.becker/repos/ot_pert_reproducibility/norman2019/norman_preprocessed_adata\"\n",
    "\n",
    "adata_train_path = os.path.join(DATA_DIR, f\"adata_train_pca_50_split_{split}.h5ad\")\n",
    "adata_test_path = os.path.join(DATA_DIR, f\"adata_val_pca_50_split_{split}.h5ad\")\n",
    "adata_ood_path = os.path.join(DATA_DIR, f\"adata_test_pca_50_split_{split}.h5ad\")\n",
    "\n",
    "# load data splits\n",
    "adata_train = sc.read(adata_train_path)\n",
    "adata_test = sc.read(adata_test_path)\n",
    "adata_ood = sc.read(adata_ood_path)"
   ]
  },
  {
   "cell_type": "code",
   "execution_count": 6,
   "metadata": {},
   "outputs": [
    {
     "data": {
      "text/plain": [
       "subgroup\n",
       "double_seen_1    13048\n",
       "single           10681\n",
       "double_seen_0     4449\n",
       "double_seen_2     2592\n",
       "Name: count, dtype: int64"
      ]
     },
     "metadata": {},
     "output_type": "display_data"
    }
   ],
   "source": [
    "train_conditions = adata_train.obs.condition.str.replace(\"+ctrl\", \"\").str.replace(\"ctrl+\", \"\").unique()\n",
    "\n",
    "assert not adata_ood[adata_ood.obs.condition != \"ctrl\"].obs.condition.isin(train_conditions).any()\n",
    "\n",
    "mask_single_perturbation = adata_ood.obs.condition.str.contains(\"ctrl\")\n",
    "mask_double_perturbation_seen_0 = (\n",
    "    ~adata_ood.obs.condition.str.contains(\"ctrl\") & \n",
    "    ~adata_ood.obs.gene_1.isin(train_conditions) & \n",
    "    ~adata_ood.obs.gene_2.isin(train_conditions)\n",
    ")\n",
    "mask_double_perturbation_seen_1 = (\n",
    "    ~adata_ood.obs.condition.str.contains(\"ctrl\") & \n",
    "    (\n",
    "        (adata_ood.obs.gene_1.isin(train_conditions) & ~adata_ood.obs.gene_2.isin(train_conditions)) | \n",
    "        (~adata_ood.obs.gene_1.isin(train_conditions) & adata_ood.obs.gene_2.isin(train_conditions))\n",
    "    )\n",
    ")\n",
    "mask_double_perturbation_seen_2 = (\n",
    "    ~adata_ood.obs.condition.str.contains(\"ctrl\") & \n",
    "    adata_ood.obs.gene_1.isin(train_conditions) & \n",
    "    adata_ood.obs.gene_2.isin(train_conditions)\n",
    ")\n",
    "adata_ood.obs.loc[mask_single_perturbation, \"subgroup\"] = \"single\"\n",
    "adata_ood.obs.loc[mask_double_perturbation_seen_0, \"subgroup\"] = \"double_seen_0\"\n",
    "adata_ood.obs.loc[mask_double_perturbation_seen_1, \"subgroup\"] = \"double_seen_1\"\n",
    "adata_ood.obs.loc[mask_double_perturbation_seen_2, \"subgroup\"] = \"double_seen_2\"\n",
    "\n",
    "display(adata_ood.obs.subgroup.value_counts())"
   ]
  },
  {
   "cell_type": "code",
   "execution_count": 7,
   "metadata": {},
   "outputs": [
    {
     "name": "stderr",
     "output_type": "stream",
     "text": [
      "/home/haicu/soeren.becker/miniconda3/envs/env_cfp2/lib/python3.12/site-packages/anndata/_core/anndata.py:1756: UserWarning: Observation names are not unique. To make them unique, call `.obs_names_make_unique`.\n",
      "  utils.warn_names_duplicates(\"obs\")\n"
     ]
    }
   ],
   "source": [
    "# compute pca on full dataset\n",
    "adata_all = ad.concat((adata_train, adata_test, adata_ood))\n",
    "cfpp.centered_pca(adata_all, n_comps=10)"
   ]
  },
  {
   "cell_type": "code",
   "execution_count": 8,
   "metadata": {},
   "outputs": [
    {
     "data": {
      "text/html": [
       "<div>\n",
       "<style scoped>\n",
       "    .dataframe tbody tr th:only-of-type {\n",
       "        vertical-align: middle;\n",
       "    }\n",
       "\n",
       "    .dataframe tbody tr th {\n",
       "        vertical-align: top;\n",
       "    }\n",
       "\n",
       "    .dataframe thead th {\n",
       "        text-align: right;\n",
       "    }\n",
       "</style>\n",
       "<table border=\"1\" class=\"dataframe\">\n",
       "  <thead>\n",
       "    <tr style=\"text-align: right;\">\n",
       "      <th></th>\n",
       "      <th>condition</th>\n",
       "      <th>cell_type</th>\n",
       "      <th>dose_val</th>\n",
       "      <th>control</th>\n",
       "      <th>condition_name</th>\n",
       "      <th>cell_line</th>\n",
       "      <th>gene_1</th>\n",
       "      <th>gene_2</th>\n",
       "      <th>num_control</th>\n",
       "      <th>kategory</th>\n",
       "    </tr>\n",
       "    <tr>\n",
       "      <th>cell_barcode</th>\n",
       "      <th></th>\n",
       "      <th></th>\n",
       "      <th></th>\n",
       "      <th></th>\n",
       "      <th></th>\n",
       "      <th></th>\n",
       "      <th></th>\n",
       "      <th></th>\n",
       "      <th></th>\n",
       "      <th></th>\n",
       "    </tr>\n",
       "  </thead>\n",
       "  <tbody>\n",
       "    <tr>\n",
       "      <th>AAACCTGAGGCATGTG-1</th>\n",
       "      <td>TSC22D1+ctrl</td>\n",
       "      <td>A549</td>\n",
       "      <td>1+1</td>\n",
       "      <td>False</td>\n",
       "      <td>A549_TSC22D1+ctrl_1+1</td>\n",
       "      <td>A549</td>\n",
       "      <td>TSC22D1</td>\n",
       "      <td>ctrl</td>\n",
       "      <td>1</td>\n",
       "      <td>single</td>\n",
       "    </tr>\n",
       "    <tr>\n",
       "      <th>AAACCTGCACGAAGCA-1</th>\n",
       "      <td>ctrl</td>\n",
       "      <td>A549</td>\n",
       "      <td>1</td>\n",
       "      <td>True</td>\n",
       "      <td>A549_ctrl_1</td>\n",
       "      <td>A549</td>\n",
       "      <td>ctrl</td>\n",
       "      <td>ctrl</td>\n",
       "      <td>2</td>\n",
       "      <td>ctrl</td>\n",
       "    </tr>\n",
       "    <tr>\n",
       "      <th>AAACCTGCAGCCTTGG-1</th>\n",
       "      <td>MAML2+ctrl</td>\n",
       "      <td>A549</td>\n",
       "      <td>1+1</td>\n",
       "      <td>False</td>\n",
       "      <td>A549_MAML2+ctrl_1+1</td>\n",
       "      <td>A549</td>\n",
       "      <td>MAML2</td>\n",
       "      <td>ctrl</td>\n",
       "      <td>1</td>\n",
       "      <td>single</td>\n",
       "    </tr>\n",
       "    <tr>\n",
       "      <th>AAACCTGCATCTCCCA-1</th>\n",
       "      <td>ctrl+CEBPE</td>\n",
       "      <td>A549</td>\n",
       "      <td>1+1</td>\n",
       "      <td>False</td>\n",
       "      <td>A549_ctrl+CEBPE_1+1</td>\n",
       "      <td>A549</td>\n",
       "      <td>ctrl</td>\n",
       "      <td>CEBPE</td>\n",
       "      <td>1</td>\n",
       "      <td>single</td>\n",
       "    </tr>\n",
       "    <tr>\n",
       "      <th>AAACCTGGTATCGCAT-1</th>\n",
       "      <td>CBL+PTPN9</td>\n",
       "      <td>A549</td>\n",
       "      <td>1+1</td>\n",
       "      <td>False</td>\n",
       "      <td>A549_CBL+PTPN9_1+1</td>\n",
       "      <td>A549</td>\n",
       "      <td>CBL</td>\n",
       "      <td>PTPN9</td>\n",
       "      <td>0</td>\n",
       "      <td>double</td>\n",
       "    </tr>\n",
       "    <tr>\n",
       "      <th>...</th>\n",
       "      <td>...</td>\n",
       "      <td>...</td>\n",
       "      <td>...</td>\n",
       "      <td>...</td>\n",
       "      <td>...</td>\n",
       "      <td>...</td>\n",
       "      <td>...</td>\n",
       "      <td>...</td>\n",
       "      <td>...</td>\n",
       "      <td>...</td>\n",
       "    </tr>\n",
       "    <tr>\n",
       "      <th>TTTGTCAGTAGGCATG-8</th>\n",
       "      <td>COL2A1+ctrl</td>\n",
       "      <td>A549</td>\n",
       "      <td>1+1</td>\n",
       "      <td>False</td>\n",
       "      <td>A549_COL2A1+ctrl_1+1</td>\n",
       "      <td>A549</td>\n",
       "      <td>COL2A1</td>\n",
       "      <td>ctrl</td>\n",
       "      <td>1</td>\n",
       "      <td>single</td>\n",
       "    </tr>\n",
       "    <tr>\n",
       "      <th>TTTGTCAGTCAGAATA-8</th>\n",
       "      <td>ctrl</td>\n",
       "      <td>A549</td>\n",
       "      <td>1</td>\n",
       "      <td>True</td>\n",
       "      <td>A549_ctrl_1</td>\n",
       "      <td>A549</td>\n",
       "      <td>ctrl</td>\n",
       "      <td>ctrl</td>\n",
       "      <td>2</td>\n",
       "      <td>ctrl</td>\n",
       "    </tr>\n",
       "    <tr>\n",
       "      <th>TTTGTCATCAGTACGT-8</th>\n",
       "      <td>FOXA3+ctrl</td>\n",
       "      <td>A549</td>\n",
       "      <td>1+1</td>\n",
       "      <td>False</td>\n",
       "      <td>A549_FOXA3+ctrl_1+1</td>\n",
       "      <td>A549</td>\n",
       "      <td>FOXA3</td>\n",
       "      <td>ctrl</td>\n",
       "      <td>1</td>\n",
       "      <td>single</td>\n",
       "    </tr>\n",
       "    <tr>\n",
       "      <th>TTTGTCATCCACTCCA-8</th>\n",
       "      <td>CELF2+ctrl</td>\n",
       "      <td>A549</td>\n",
       "      <td>1+1</td>\n",
       "      <td>False</td>\n",
       "      <td>A549_CELF2+ctrl_1+1</td>\n",
       "      <td>A549</td>\n",
       "      <td>CELF2</td>\n",
       "      <td>ctrl</td>\n",
       "      <td>1</td>\n",
       "      <td>single</td>\n",
       "    </tr>\n",
       "    <tr>\n",
       "      <th>TTTGTCATCCCAACGG-8</th>\n",
       "      <td>BCORL1+ctrl</td>\n",
       "      <td>A549</td>\n",
       "      <td>1+1</td>\n",
       "      <td>False</td>\n",
       "      <td>A549_BCORL1+ctrl_1+1</td>\n",
       "      <td>A549</td>\n",
       "      <td>BCORL1</td>\n",
       "      <td>ctrl</td>\n",
       "      <td>1</td>\n",
       "      <td>single</td>\n",
       "    </tr>\n",
       "  </tbody>\n",
       "</table>\n",
       "<p>47615 rows × 10 columns</p>\n",
       "</div>"
      ],
      "text/plain": [
       "                       condition cell_type dose_val  control  \\\n",
       "cell_barcode                                                   \n",
       "AAACCTGAGGCATGTG-1  TSC22D1+ctrl      A549      1+1    False   \n",
       "AAACCTGCACGAAGCA-1          ctrl      A549        1     True   \n",
       "AAACCTGCAGCCTTGG-1    MAML2+ctrl      A549      1+1    False   \n",
       "AAACCTGCATCTCCCA-1    ctrl+CEBPE      A549      1+1    False   \n",
       "AAACCTGGTATCGCAT-1     CBL+PTPN9      A549      1+1    False   \n",
       "...                          ...       ...      ...      ...   \n",
       "TTTGTCAGTAGGCATG-8   COL2A1+ctrl      A549      1+1    False   \n",
       "TTTGTCAGTCAGAATA-8          ctrl      A549        1     True   \n",
       "TTTGTCATCAGTACGT-8    FOXA3+ctrl      A549      1+1    False   \n",
       "TTTGTCATCCACTCCA-8    CELF2+ctrl      A549      1+1    False   \n",
       "TTTGTCATCCCAACGG-8   BCORL1+ctrl      A549      1+1    False   \n",
       "\n",
       "                           condition_name cell_line   gene_1 gene_2  \\\n",
       "cell_barcode                                                          \n",
       "AAACCTGAGGCATGTG-1  A549_TSC22D1+ctrl_1+1      A549  TSC22D1   ctrl   \n",
       "AAACCTGCACGAAGCA-1            A549_ctrl_1      A549     ctrl   ctrl   \n",
       "AAACCTGCAGCCTTGG-1    A549_MAML2+ctrl_1+1      A549    MAML2   ctrl   \n",
       "AAACCTGCATCTCCCA-1    A549_ctrl+CEBPE_1+1      A549     ctrl  CEBPE   \n",
       "AAACCTGGTATCGCAT-1     A549_CBL+PTPN9_1+1      A549      CBL  PTPN9   \n",
       "...                                   ...       ...      ...    ...   \n",
       "TTTGTCAGTAGGCATG-8   A549_COL2A1+ctrl_1+1      A549   COL2A1   ctrl   \n",
       "TTTGTCAGTCAGAATA-8            A549_ctrl_1      A549     ctrl   ctrl   \n",
       "TTTGTCATCAGTACGT-8    A549_FOXA3+ctrl_1+1      A549    FOXA3   ctrl   \n",
       "TTTGTCATCCACTCCA-8    A549_CELF2+ctrl_1+1      A549    CELF2   ctrl   \n",
       "TTTGTCATCCCAACGG-8   A549_BCORL1+ctrl_1+1      A549   BCORL1   ctrl   \n",
       "\n",
       "                    num_control kategory  \n",
       "cell_barcode                              \n",
       "AAACCTGAGGCATGTG-1            1   single  \n",
       "AAACCTGCACGAAGCA-1            2     ctrl  \n",
       "AAACCTGCAGCCTTGG-1            1   single  \n",
       "AAACCTGCATCTCCCA-1            1   single  \n",
       "AAACCTGGTATCGCAT-1            0   double  \n",
       "...                         ...      ...  \n",
       "TTTGTCAGTAGGCATG-8            1   single  \n",
       "TTTGTCAGTCAGAATA-8            2     ctrl  \n",
       "TTTGTCATCAGTACGT-8            1   single  \n",
       "TTTGTCATCCACTCCA-8            1   single  \n",
       "TTTGTCATCCCAACGG-8            1   single  \n",
       "\n",
       "[47615 rows x 10 columns]"
      ]
     },
     "execution_count": 8,
     "metadata": {},
     "output_type": "execute_result"
    }
   ],
   "source": [
    "adata_train.obs"
   ]
  },
  {
   "cell_type": "code",
   "execution_count": 9,
   "metadata": {},
   "outputs": [
    {
     "data": {
      "text/plain": [
       "(6853, 5045)"
      ]
     },
     "execution_count": 9,
     "metadata": {},
     "output_type": "execute_result"
    }
   ],
   "source": [
    "adata_train_ctrl = adata_train[adata_train.obs.condition == \"ctrl\"]\n",
    "adata_train_ctrl.shape"
   ]
  },
  {
   "cell_type": "code",
   "execution_count": 10,
   "metadata": {},
   "outputs": [
    {
     "data": {
      "application/vnd.jupyter.widget-view+json": {
       "model_id": "216b5489c184483bbfd3b8043b3dcb01",
       "version_major": 2,
       "version_minor": 0
      },
      "text/plain": [
       "  0%|          | 0/9 [00:00<?, ?it/s]"
      ]
     },
     "metadata": {},
     "output_type": "display_data"
    }
   ],
   "source": [
    "adata_ood_double_seen_2 = adata_ood[adata_ood.obs.subgroup == \"double_seen_2\"]\n",
    "adata_train_single = adata_train[adata_train.obs.kategory == \"single\"]\n",
    "\n",
    "adata_train_ctrl = adata_train[adata_train.obs.condition == \"ctrl\"]\n",
    "\n",
    "all_predictions, all_conditions = [], []\n",
    "\n",
    "num_sampled_cells = 500\n",
    "\n",
    "for condition in tqdm(adata_ood_double_seen_2.obs.condition.unique()):\n",
    "    gene_1, gene_2 = condition.split(\"+\")\n",
    "    \n",
    "    cells_1 = adata_train_single[adata_train_single.obs.gene_1 == gene_1].X\n",
    "    random_idcs_1 = np.random.choice(cells_1.shape[0], size=num_sampled_cells, replace=True)\n",
    "    cells_1 = cells_1[random_idcs_1].todense()\n",
    "    \n",
    "    cells_2 = adata_train_single[adata_train_single.obs.gene_2 == gene_2].X\n",
    "    random_idcs_2 = np.random.choice(cells_2.shape[0], size=num_sampled_cells, replace=True)\n",
    "    cells_2 = cells_2[random_idcs_2].todense()\n",
    "\n",
    "    random_idcs_ctrl = np.random.choice(adata_train_ctrl.shape[0], size=num_sampled_cells, replace=True)\n",
    "    ctrl_cells = adata_train_ctrl.X[random_idcs_ctrl].todense()\n",
    "\n",
    "    displacement_1 = cells_1 - ctrl_cells\n",
    "    displacement_2 = cells_2 - ctrl_cells\n",
    "\n",
    "    predictions = np.asarray(ctrl_cells + displacement_1 + displacement_2)\n",
    "    all_predictions.append(predictions)\n",
    "    all_conditions.extend([condition] * num_sampled_cells)"
   ]
  },
  {
   "cell_type": "code",
   "execution_count": 11,
   "metadata": {},
   "outputs": [
    {
     "name": "stderr",
     "output_type": "stream",
     "text": [
      "/home/haicu/soeren.becker/miniconda3/envs/env_cfp2/lib/python3.12/site-packages/anndata/_core/aligned_df.py:68: ImplicitModificationWarning: Transforming to str index.\n",
      "  warnings.warn(\"Transforming to str index.\", ImplicitModificationWarning)\n"
     ]
    }
   ],
   "source": [
    "adata_pred_ood  = ad.AnnData(X=np.vstack(all_predictions), obs=pd.DataFrame(all_conditions, columns=[\"condition\"]))"
   ]
  },
  {
   "cell_type": "code",
   "execution_count": 12,
   "metadata": {},
   "outputs": [
    {
     "data": {
      "text/plain": [
       "AnnData object with n_obs × n_vars = 4500 × 5045\n",
       "    obs: 'condition'"
      ]
     },
     "execution_count": 12,
     "metadata": {},
     "output_type": "execute_result"
    }
   ],
   "source": [
    "adata_pred_ood"
   ]
  },
  {
   "cell_type": "code",
   "execution_count": 13,
   "metadata": {},
   "outputs": [],
   "source": [
    "cfpp.project_pca(query_adata=adata_pred_ood, ref_adata=adata_all)\n",
    "cfpp.project_pca(query_adata=adata_ood, ref_adata=adata_all)\n",
    "\n",
    "ood_data_target_encoded, ood_data_target_decoded = {}, {}\n",
    "ood_data_target_encoded_predicted, ood_data_target_decoded_predicted = {}, {}\n",
    "\n",
    "subgroups = [\"double_seen_2\"]\n",
    "\n",
    "for subgroup in subgroups:\n",
    "\n",
    "    ood_data_target_encoded[subgroup] = {}\n",
    "    ood_data_target_decoded[subgroup] = {}\n",
    "    ood_data_target_encoded_predicted[subgroup] = {}\n",
    "    ood_data_target_decoded_predicted[subgroup] = {}\n",
    "    \n",
    "    for cond in adata_ood.obs[\"condition\"].cat.categories:\n",
    "        if cond == \"ctrl\":\n",
    "            continue\n",
    "        \n",
    "        select = adata_ood.obs[\"condition\"] == cond\n",
    "        select2 = adata_pred_ood.obs[\"condition\"] == cond\n",
    "        if subgroup != \"all\":\n",
    "            select = select & (adata_ood.obs.subgroup == subgroup)\n",
    "\n",
    "        if not any(select):\n",
    "            # the condition is not part of this subgroup\n",
    "            continue\n",
    "        \n",
    "        # pca space\n",
    "        ood_data_target_encoded[subgroup][cond] = adata_ood[select].obsm[\"X_pca\"]\n",
    "        ood_data_target_encoded_predicted[subgroup][cond] = adata_pred_ood[select2].obsm[\"X_pca\"]\n",
    "        # print(ood_data_target_encoded[subgroup][cond].shape, ood_data_target_encoded_predicted[subgroup][cond].shape)\n",
    "    \n",
    "        # gene space\n",
    "        ood_data_target_decoded[subgroup][cond] = np.asarray(adata_ood[select].X.todense())\n",
    "        ood_data_target_decoded_predicted[subgroup][cond] = adata_pred_ood[select2].X\n",
    "        # print(ood_data_target_decoded[subgroup][cond].shape, ood_data_target_decoded_predicted[subgroup][cond].shape)"
   ]
  },
  {
   "cell_type": "code",
   "execution_count": 14,
   "metadata": {},
   "outputs": [
    {
     "data": {
      "application/vnd.jupyter.widget-view+json": {
       "model_id": "005ff3fcde044c79a7d808c13393031c",
       "version_major": 2,
       "version_minor": 0
      },
      "text/plain": [
       "  0%|          | 0/1 [00:00<?, ?it/s]"
      ]
     },
     "metadata": {},
     "output_type": "display_data"
    },
    {
     "name": "stdout",
     "output_type": "stream",
     "text": [
      "subgroup: double_seen_2\n",
      "Computing ood_metrics_encoded\n",
      "Computing ood_metrics_decoded\n",
      "Apply DEG mask\n",
      "Compute metrics on DEG subsetted decoded\n"
     ]
    }
   ],
   "source": [
    "ood_metrics_encoded, mean_ood_metrics_encoded = {}, {}\n",
    "ood_metrics_decoded, mean_ood_metrics_decoded = {}, {}\n",
    "deg_ood_metrics, deg_mean_ood_metrics = {}, {}\n",
    "ood_deg_dict = {}\n",
    "ood_deg_target_decoded_predicted, ood_deg_target_decoded = {}, {}\n",
    "\n",
    "for subgroup in tqdm(subgroups[::-1]):\n",
    "\n",
    "    print(f\"subgroup: {subgroup}\")\n",
    "\n",
    "    print(\"Computing ood_metrics_encoded\")\n",
    "    # ood set: evaluation in encoded (=pca) space\n",
    "    ood_metrics_encoded[subgroup] = jax.tree_util.tree_map(\n",
    "        compute_metrics, \n",
    "        # compute_metrics_fast, \n",
    "        ood_data_target_encoded[subgroup], \n",
    "        ood_data_target_encoded_predicted[subgroup]\n",
    "    )\n",
    "    mean_ood_metrics_encoded[subgroup] = compute_mean_metrics(\n",
    "        ood_metrics_encoded[subgroup], \n",
    "        prefix=\"encoded_ood_\",\n",
    "    )\n",
    "\n",
    "    print(\"Computing ood_metrics_decoded\")\n",
    "    # ood set: evaluation in decoded (=gene) space\n",
    "    ood_metrics_decoded[subgroup] = jax.tree_util.tree_map(\n",
    "        # compute_metrics, \n",
    "        compute_metrics_fast, \n",
    "        ood_data_target_decoded[subgroup], \n",
    "        ood_data_target_decoded_predicted[subgroup]\n",
    "    )\n",
    "    mean_ood_metrics_decoded[subgroup] = compute_mean_metrics(\n",
    "        ood_metrics_decoded[subgroup], \n",
    "        prefix=\"decoded_ood_\",\n",
    "    )\n",
    "\n",
    "    # ood set\n",
    "    ood_deg_dict[subgroup] = {\n",
    "        k: v\n",
    "        for k, v in adata_train.uns['rank_genes_groups_cov_all'].items() \n",
    "        if k in ood_data_target_decoded_predicted[subgroup].keys()\n",
    "    }\n",
    "\n",
    "    print(\"Apply DEG mask\")\n",
    "    # ood set\n",
    "    ood_deg_target_decoded_predicted[subgroup] = jax.tree_util.tree_map(\n",
    "        get_mask, \n",
    "        ood_data_target_decoded_predicted[subgroup], \n",
    "        ood_deg_dict[subgroup]\n",
    "    )\n",
    "    \n",
    "    ood_deg_target_decoded[subgroup] = jax.tree_util.tree_map(\n",
    "        get_mask, \n",
    "        ood_data_target_decoded[subgroup], \n",
    "        ood_deg_dict[subgroup]\n",
    "    )\n",
    "\n",
    "    print(\"Compute metrics on DEG subsetted decoded\")\n",
    "    deg_ood_metrics[subgroup] = jax.tree_util.tree_map(\n",
    "        compute_metrics, \n",
    "        # compute_metrics_fast, \n",
    "        ood_deg_target_decoded[subgroup], \n",
    "        ood_deg_target_decoded_predicted[subgroup]\n",
    "    )\n",
    "    deg_mean_ood_metrics[subgroup] = compute_mean_metrics(\n",
    "        deg_ood_metrics[subgroup], \n",
    "        prefix=\"deg_ood_\"\n",
    "    )"
   ]
  },
  {
   "cell_type": "code",
   "execution_count": 15,
   "metadata": {},
   "outputs": [
    {
     "data": {
      "text/plain": [
       "{'double_seen_2': {'deg_ood_r_squared': 0.8535235921541849,\n",
       "  'deg_ood_sinkhorn_div_1': 29.743914100858902,\n",
       "  'deg_ood_sinkhorn_div_10': 10.864479806688097,\n",
       "  'deg_ood_sinkhorn_div_100': 2.2280073960622153,\n",
       "  'deg_ood_e_distance': np.float64(3.7429370868569456),\n",
       "  'deg_ood_mmd': np.float32(0.06567267)}}"
      ]
     },
     "execution_count": 15,
     "metadata": {},
     "output_type": "execute_result"
    }
   ],
   "source": [
    "deg_mean_ood_metrics"
   ]
  },
  {
   "cell_type": "code",
   "execution_count": 16,
   "metadata": {},
   "outputs": [],
   "source": [
    "collected_results = {\n",
    "    \"ood_metrics_encoded\": ood_metrics_encoded,\n",
    "    \"mean_ood_metrics_encoded\": mean_ood_metrics_encoded,\n",
    "    \"ood_metrics_decoded\": ood_metrics_decoded,\n",
    "    \"mean_ood_metrics_decoded\": mean_ood_metrics_decoded,\n",
    "    \"deg_ood_metrics\": deg_ood_metrics,\n",
    "    \"deg_mean_ood_metrics\": deg_mean_ood_metrics,\n",
    "    \"ood_deg_dict\": ood_deg_dict,\n",
    "    \"ood_deg_target_decoded_predicted\": ood_deg_target_decoded_predicted,\n",
    "    \"ood_deg_target_decoded\": ood_deg_target_decoded,\n",
    "}"
   ]
  },
  {
   "cell_type": "code",
   "execution_count": 17,
   "metadata": {},
   "outputs": [],
   "source": [
    "OUT_DIR = \"/lustre/groups/ml01/workspace/ot_perturbation/data/norman_soren/additive\"\n",
    "os.makedirs(OUT_DIR, exist_ok=True)\n",
    "pd.to_pickle(collected_results, os.path.join(OUT_DIR, f\"norman_additive_split_{split}_collected_results.pkl\"))"
   ]
  },
  {
   "cell_type": "code",
   "execution_count": null,
   "metadata": {},
   "outputs": [],
   "source": []
  }
 ],
 "metadata": {
  "kernelspec": {
   "display_name": "env_cfp2",
   "language": "python",
   "name": "python3"
  },
  "language_info": {
   "codemirror_mode": {
    "name": "ipython",
    "version": 3
   },
   "file_extension": ".py",
   "mimetype": "text/x-python",
   "name": "python",
   "nbconvert_exporter": "python",
   "pygments_lexer": "ipython3",
   "version": "3.12.0"
  }
 },
 "nbformat": 4,
 "nbformat_minor": 2
}
