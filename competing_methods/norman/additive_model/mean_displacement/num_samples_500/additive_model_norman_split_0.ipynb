{
 "cells": [
  {
   "cell_type": "code",
   "execution_count": 1,
   "metadata": {},
   "outputs": [],
   "source": [
    "%load_ext autoreload\n",
    "%autoreload 2"
   ]
  },
  {
   "cell_type": "code",
   "execution_count": 2,
   "metadata": {},
   "outputs": [
    {
     "name": "stderr",
     "output_type": "stream",
     "text": [
      "/home/haicu/soeren.becker/miniconda3/envs/env_cfp2/lib/python3.12/site-packages/anndata/utils.py:429: FutureWarning: Importing read_csv from `anndata` is deprecated. Import anndata.io.read_csv instead.\n",
      "  warnings.warn(msg, FutureWarning)\n",
      "/home/haicu/soeren.becker/miniconda3/envs/env_cfp2/lib/python3.12/site-packages/anndata/utils.py:429: FutureWarning: Importing read_excel from `anndata` is deprecated. Import anndata.io.read_excel instead.\n",
      "  warnings.warn(msg, FutureWarning)\n",
      "/home/haicu/soeren.becker/miniconda3/envs/env_cfp2/lib/python3.12/site-packages/anndata/utils.py:429: FutureWarning: Importing read_hdf from `anndata` is deprecated. Import anndata.io.read_hdf instead.\n",
      "  warnings.warn(msg, FutureWarning)\n",
      "/home/haicu/soeren.becker/miniconda3/envs/env_cfp2/lib/python3.12/site-packages/anndata/utils.py:429: FutureWarning: Importing read_loom from `anndata` is deprecated. Import anndata.io.read_loom instead.\n",
      "  warnings.warn(msg, FutureWarning)\n",
      "/home/haicu/soeren.becker/miniconda3/envs/env_cfp2/lib/python3.12/site-packages/anndata/utils.py:429: FutureWarning: Importing read_mtx from `anndata` is deprecated. Import anndata.io.read_mtx instead.\n",
      "  warnings.warn(msg, FutureWarning)\n",
      "/home/haicu/soeren.becker/miniconda3/envs/env_cfp2/lib/python3.12/site-packages/anndata/utils.py:429: FutureWarning: Importing read_text from `anndata` is deprecated. Import anndata.io.read_text instead.\n",
      "  warnings.warn(msg, FutureWarning)\n",
      "/home/haicu/soeren.becker/miniconda3/envs/env_cfp2/lib/python3.12/site-packages/anndata/utils.py:429: FutureWarning: Importing read_umi_tools from `anndata` is deprecated. Import anndata.io.read_umi_tools instead.\n",
      "  warnings.warn(msg, FutureWarning)\n",
      "/home/haicu/soeren.becker/miniconda3/envs/env_cfp2/lib/python3.12/site-packages/anndata/utils.py:429: FutureWarning: Importing read_csv from `anndata` is deprecated. Import anndata.io.read_csv instead.\n",
      "  warnings.warn(msg, FutureWarning)\n",
      "/home/haicu/soeren.becker/miniconda3/envs/env_cfp2/lib/python3.12/site-packages/anndata/utils.py:429: FutureWarning: Importing read_loom from `anndata` is deprecated. Import anndata.io.read_loom instead.\n",
      "  warnings.warn(msg, FutureWarning)\n",
      "/home/haicu/soeren.becker/miniconda3/envs/env_cfp2/lib/python3.12/site-packages/anndata/utils.py:429: FutureWarning: Importing read_text from `anndata` is deprecated. Import anndata.io.read_text instead.\n",
      "  warnings.warn(msg, FutureWarning)\n",
      "/home/haicu/soeren.becker/miniconda3/envs/env_cfp2/lib/python3.12/site-packages/anndata/utils.py:429: FutureWarning: Importing CSCDataset from `anndata.experimental` is deprecated. Import anndata.abc.CSCDataset instead.\n",
      "  warnings.warn(msg, FutureWarning)\n",
      "/home/haicu/soeren.becker/miniconda3/envs/env_cfp2/lib/python3.12/site-packages/anndata/utils.py:429: FutureWarning: Importing CSRDataset from `anndata.experimental` is deprecated. Import anndata.abc.CSRDataset instead.\n",
      "  warnings.warn(msg, FutureWarning)\n",
      "/home/haicu/soeren.becker/miniconda3/envs/env_cfp2/lib/python3.12/site-packages/anndata/utils.py:429: FutureWarning: Importing read_elem from `anndata.experimental` is deprecated. Import anndata.io.read_elem instead.\n",
      "  warnings.warn(msg, FutureWarning)\n"
     ]
    }
   ],
   "source": [
    "import scanpy as sc\n",
    "import jax\n",
    "import os\n",
    "from cfp.metrics import compute_metrics, compute_mean_metrics, compute_metrics_fast\n",
    "import cfp.preprocessing as cfpp\n",
    "import anndata as ad\n",
    "import pandas as pd\n",
    "from tqdm.auto import tqdm\n",
    "import numpy as np"
   ]
  },
  {
   "cell_type": "code",
   "execution_count": 3,
   "metadata": {},
   "outputs": [],
   "source": [
    "def get_mask(x, y):\n",
    "    return x[:, [gene in y for gene in adata_train.var_names]]"
   ]
  },
  {
   "cell_type": "code",
   "execution_count": 4,
   "metadata": {},
   "outputs": [],
   "source": [
    "split = 0"
   ]
  },
  {
   "cell_type": "markdown",
   "metadata": {},
   "source": [
    "### Load data"
   ]
  },
  {
   "cell_type": "code",
   "execution_count": 5,
   "metadata": {},
   "outputs": [],
   "source": [
    "DATA_DIR = \"/home/haicu/soeren.becker/repos/ot_pert_reproducibility/norman2019/norman_preprocessed_adata\"\n",
    "\n",
    "adata_train_path = os.path.join(DATA_DIR, f\"adata_train_pca_50_split_{split}.h5ad\")\n",
    "adata_test_path = os.path.join(DATA_DIR, f\"adata_val_pca_50_split_{split}.h5ad\")\n",
    "adata_ood_path = os.path.join(DATA_DIR, f\"adata_test_pca_50_split_{split}.h5ad\")\n",
    "\n",
    "# load data splits\n",
    "adata_train = sc.read(adata_train_path)\n",
    "adata_test = sc.read(adata_test_path)\n",
    "adata_ood = sc.read(adata_ood_path)"
   ]
  },
  {
   "cell_type": "code",
   "execution_count": 9,
   "metadata": {},
   "outputs": [
    {
     "data": {
      "text/plain": [
       "True"
      ]
     },
     "execution_count": 9,
     "metadata": {},
     "output_type": "execute_result"
    }
   ],
   "source": [
    "\"AHR+KLF1\" in adata_ood.obs.condition.values"
   ]
  },
  {
   "cell_type": "code",
   "execution_count": 27,
   "metadata": {},
   "outputs": [
    {
     "data": {
      "text/plain": [
       "['TSC22D1+ctrl',\n",
       " 'ctrl',\n",
       " 'CEBPE+RUNX1T1',\n",
       " 'MAML2+ctrl',\n",
       " 'ctrl+CEBPE',\n",
       " 'SGK1+TBX3',\n",
       " 'ctrl+FOXA1',\n",
       " 'FOXA3+FOXA1',\n",
       " 'ETS2+IGDCC3',\n",
       " 'GLB1L2+ctrl',\n",
       " 'MAP2K6+IKZF3',\n",
       " 'BAK1+ctrl',\n",
       " 'FEV+ctrl',\n",
       " 'MAP2K3+SLC38A2',\n",
       " 'ctrl+ETS2',\n",
       " 'ctrl+FEV',\n",
       " 'ctrl+SET',\n",
       " 'TBX3+ctrl',\n",
       " 'LHX1+ctrl',\n",
       " 'RREB1+ctrl',\n",
       " 'ZNF318+ctrl',\n",
       " 'ctrl+ZBTB25',\n",
       " 'MAP4K5+ctrl',\n",
       " 'UBASH3B+ctrl',\n",
       " 'SLC6A9+ctrl',\n",
       " 'MIDN+ctrl',\n",
       " 'DLX2+ctrl',\n",
       " 'CBFA2T3+ctrl',\n",
       " 'HES7+ctrl',\n",
       " 'SET+CEBPE',\n",
       " 'IGDCC3+ZBTB25',\n",
       " 'AHR+ctrl',\n",
       " 'FOXO4+ctrl',\n",
       " 'ctrl+CBFA2T3',\n",
       " 'ctrl+RUNX1T1',\n",
       " 'POU3F2+ctrl',\n",
       " 'ctrl+CNN1',\n",
       " 'IGDCC3+MAPK1',\n",
       " 'MAP2K3+ctrl',\n",
       " 'MAP4K3+ctrl',\n",
       " 'ZBTB25+ctrl',\n",
       " 'ZC3HAV1+CEBPE',\n",
       " 'UBASH3B+UBASH3A',\n",
       " 'MAP2K3+MAP2K6',\n",
       " 'PTPN1+ctrl',\n",
       " 'RUNX1T1+ctrl',\n",
       " 'PTPN12+ctrl',\n",
       " 'TP73+ctrl',\n",
       " 'ctrl+MAP7D1',\n",
       " 'FOSB+ctrl',\n",
       " 'MAPK1+ctrl',\n",
       " 'IRF1+ctrl',\n",
       " 'TMSB4X+BAK1',\n",
       " 'BPGM+SAMD1',\n",
       " 'IKZF3+ctrl',\n",
       " 'HOXB9+ctrl',\n",
       " 'ctrl+HOXC13',\n",
       " 'MAPK1+IKZF3',\n",
       " 'ctrl+UBASH3B',\n",
       " 'ctrl+HOXB9',\n",
       " 'ETS2+ctrl',\n",
       " 'CLDN6+ctrl',\n",
       " 'FOXA3+ctrl',\n",
       " 'CEBPE+ctrl',\n",
       " 'KIF18B+KIF2C',\n",
       " 'ctrl+SAMD1',\n",
       " 'COL1A1+ctrl',\n",
       " 'PTPN12+UBASH3A',\n",
       " 'FOXF1+ctrl',\n",
       " 'FEV+MAP7D1',\n",
       " 'PLK4+ctrl',\n",
       " 'BPGM+ctrl',\n",
       " 'LYL1+ctrl',\n",
       " 'ctrl+MAP2K6',\n",
       " 'SGK1+ctrl',\n",
       " 'MAPK1+TGFBR2',\n",
       " 'ctrl+DLX2',\n",
       " 'MAP2K6+ctrl',\n",
       " 'ctrl+TBX3',\n",
       " 'CNN1+ctrl',\n",
       " 'ctrl+CEBPA',\n",
       " 'HNF4A+ctrl',\n",
       " 'MAP7D1+ctrl',\n",
       " 'PTPN12+SNAI1',\n",
       " 'KMT2A+ctrl',\n",
       " 'CNN1+UBASH3A',\n",
       " 'IGDCC3+ctrl',\n",
       " 'ISL2+ctrl',\n",
       " 'TGFBR2+IGDCC3',\n",
       " 'TMSB4X+ctrl',\n",
       " 'KIF2C+ctrl',\n",
       " 'ctrl+CLDN6',\n",
       " 'ctrl+KIF2C',\n",
       " 'IRF1+SET',\n",
       " 'CSRNP1+ctrl',\n",
       " 'CEBPE+CEBPA',\n",
       " 'ctrl+UBASH3A',\n",
       " 'NCL+ctrl',\n",
       " 'ctrl+BAK1',\n",
       " 'ctrl+IKZF3',\n",
       " 'FOXF1+HOXB9',\n",
       " 'UBASH3B+CNN1',\n",
       " 'ZC3HAV1+ctrl',\n",
       " 'SET+ctrl',\n",
       " 'FOSB+UBASH3B',\n",
       " 'SNAI1+UBASH3B',\n",
       " 'ctrl+STIL',\n",
       " 'HOXC13+ctrl',\n",
       " 'ATL1+ctrl',\n",
       " 'CEBPE+PTPN12',\n",
       " 'CEBPA+ctrl',\n",
       " 'NIT1+ctrl',\n",
       " 'SAMD1+UBASH3B',\n",
       " 'TGFBR2+ctrl',\n",
       " 'SAMD1+TGFBR2',\n",
       " 'FOXA1+ctrl',\n",
       " 'SAMD1+ctrl',\n",
       " 'ctrl+MAPK1',\n",
       " 'UBASH3A+ctrl',\n",
       " 'AHR+FEV',\n",
       " 'ETS2+IKZF3',\n",
       " 'ctrl+ISL2',\n",
       " 'ctrl+SLC38A2',\n",
       " 'PTPN12+ZBTB25',\n",
       " 'ctrl+SNAI1',\n",
       " 'HOXA13+ctrl',\n",
       " 'ctrl+FOXF1',\n",
       " 'ctrl+PTPN12',\n",
       " 'SAMD1+PTPN12',\n",
       " 'HK2+ctrl',\n",
       " 'ctrl+IGDCC3',\n",
       " 'ctrl+TGFBR2',\n",
       " 'FOXA3+FOXF1',\n",
       " 'ZC3HAV1+CEBPA',\n",
       " 'KIF18B+ctrl',\n",
       " 'SNAI1+ctrl',\n",
       " 'FOXA1+FOXF1',\n",
       " 'PLK4+STIL',\n",
       " 'STIL+ctrl']"
      ]
     },
     "execution_count": 27,
     "metadata": {},
     "output_type": "execute_result"
    }
   ],
   "source": [
    "adata_train.obs.condition.values.unique().tolist()"
   ]
  },
  {
   "cell_type": "code",
   "execution_count": 22,
   "metadata": {},
   "outputs": [
    {
     "data": {
      "text/plain": [
       "False"
      ]
     },
     "execution_count": 22,
     "metadata": {},
     "output_type": "execute_result"
    }
   ],
   "source": [
    "\"AHR+KLF1\" in adata_train.obs.condition.values.unique()"
   ]
  },
  {
   "cell_type": "code",
   "execution_count": 24,
   "metadata": {},
   "outputs": [
    {
     "data": {
      "text/plain": [
       "True"
      ]
     },
     "execution_count": 24,
     "metadata": {},
     "output_type": "execute_result"
    }
   ],
   "source": [
    "\"AHR+ctrl\" in adata_train.obs.condition.values.unique()"
   ]
  },
  {
   "cell_type": "code",
   "execution_count": 26,
   "metadata": {},
   "outputs": [
    {
     "data": {
      "text/plain": [
       "(False, False)"
      ]
     },
     "execution_count": 26,
     "metadata": {},
     "output_type": "execute_result"
    }
   ],
   "source": [
    "\"KLF1+ctrl\" in adata_train.obs.condition.values.unique(), \"ctrl+KLF1\" in adata_train.obs.condition.values.unique()"
   ]
  },
  {
   "cell_type": "code",
   "execution_count": null,
   "metadata": {},
   "outputs": [],
   "source": []
  },
  {
   "cell_type": "markdown",
   "metadata": {},
   "source": [
    "### Categorize perturbations into subgroups: single, double_seen_0, double_seen_1, double_seen_2"
   ]
  },
  {
   "cell_type": "code",
   "execution_count": 10,
   "metadata": {},
   "outputs": [
    {
     "data": {
      "text/plain": [
       "subgroup\n",
       "double_seen_1    11417\n",
       "single           11317\n",
       "double_seen_2     4593\n",
       "double_seen_0     1927\n",
       "Name: count, dtype: int64"
      ]
     },
     "metadata": {},
     "output_type": "display_data"
    }
   ],
   "source": [
    "train_conditions = adata_train.obs.condition.str.replace(\"+ctrl\", \"\").str.replace(\"ctrl+\", \"\").unique()\n",
    "\n",
    "# make sure that non of the test conditions is in the training data\n",
    "assert not adata_ood[adata_ood.obs.condition != \"ctrl\"].obs.condition.isin(train_conditions).any()\n",
    "\n",
    "# single perturbations\n",
    "mask_single_perturbation = adata_ood.obs.condition.str.contains(\"ctrl\")\n",
    "\n",
    "# double_seen_0 perturbations\n",
    "mask_double_perturbation_seen_0 = (\n",
    "    ~adata_ood.obs.condition.str.contains(\"ctrl\") & \n",
    "    ~adata_ood.obs.gene_1.isin(train_conditions) & \n",
    "    ~adata_ood.obs.gene_2.isin(train_conditions)\n",
    ")\n",
    "\n",
    "# double_seen_1 perturbations\n",
    "mask_double_perturbation_seen_1 = (\n",
    "    ~adata_ood.obs.condition.str.contains(\"ctrl\") & \n",
    "    (\n",
    "        (adata_ood.obs.gene_1.isin(train_conditions) & ~adata_ood.obs.gene_2.isin(train_conditions)) | \n",
    "        (~adata_ood.obs.gene_1.isin(train_conditions) & adata_ood.obs.gene_2.isin(train_conditions))\n",
    "    )\n",
    ")\n",
    "\n",
    "# double_seen_2 perturbations\n",
    "mask_double_perturbation_seen_2 = (\n",
    "    ~adata_ood.obs.condition.str.contains(\"ctrl\") & \n",
    "    adata_ood.obs.gene_1.isin(train_conditions) & \n",
    "    adata_ood.obs.gene_2.isin(train_conditions)\n",
    ")\n",
    "\n",
    "# add perturbation subgroup to anndata\n",
    "adata_ood.obs.loc[mask_single_perturbation, \"subgroup\"] = \"single\"\n",
    "adata_ood.obs.loc[mask_double_perturbation_seen_0, \"subgroup\"] = \"double_seen_0\"\n",
    "adata_ood.obs.loc[mask_double_perturbation_seen_1, \"subgroup\"] = \"double_seen_1\"\n",
    "adata_ood.obs.loc[mask_double_perturbation_seen_2, \"subgroup\"] = \"double_seen_2\"\n",
    "\n",
    "display(adata_ood.obs.subgroup.value_counts())"
   ]
  },
  {
   "cell_type": "code",
   "execution_count": 16,
   "metadata": {},
   "outputs": [
    {
     "data": {
      "text/plain": [
       "True"
      ]
     },
     "execution_count": 16,
     "metadata": {},
     "output_type": "execute_result"
    }
   ],
   "source": [
    "\"AHR+KLF1\" in adata_ood.obs.loc[adata_ood.obs.subgroup == \"double_seen_1\", \"condition\"].values"
   ]
  },
  {
   "cell_type": "code",
   "execution_count": 19,
   "metadata": {},
   "outputs": [
    {
     "data": {
      "text/plain": [
       "(True, False)"
      ]
     },
     "execution_count": 19,
     "metadata": {},
     "output_type": "execute_result"
    }
   ],
   "source": [
    "\"AHR\" in train_conditions, \"KLF1\" in train_conditions"
   ]
  },
  {
   "cell_type": "code",
   "execution_count": null,
   "metadata": {},
   "outputs": [],
   "source": []
  },
  {
   "cell_type": "code",
   "execution_count": 75,
   "metadata": {},
   "outputs": [
    {
     "name": "stderr",
     "output_type": "stream",
     "text": [
      "/home/haicu/soeren.becker/miniconda3/envs/env_cfp2/lib/python3.12/site-packages/anndata/_core/anndata.py:1756: UserWarning: Observation names are not unique. To make them unique, call `.obs_names_make_unique`.\n",
      "  utils.warn_names_duplicates(\"obs\")\n"
     ]
    }
   ],
   "source": [
    "# compute pca on full dataset\n",
    "adata_all = ad.concat((adata_train, adata_test, adata_ood))\n",
    "cfpp.centered_pca(adata_all, n_comps=10)"
   ]
  },
  {
   "cell_type": "code",
   "execution_count": 76,
   "metadata": {},
   "outputs": [
    {
     "data": {
      "text/html": [
       "<div>\n",
       "<style scoped>\n",
       "    .dataframe tbody tr th:only-of-type {\n",
       "        vertical-align: middle;\n",
       "    }\n",
       "\n",
       "    .dataframe tbody tr th {\n",
       "        vertical-align: top;\n",
       "    }\n",
       "\n",
       "    .dataframe thead th {\n",
       "        text-align: right;\n",
       "    }\n",
       "</style>\n",
       "<table border=\"1\" class=\"dataframe\">\n",
       "  <thead>\n",
       "    <tr style=\"text-align: right;\">\n",
       "      <th></th>\n",
       "      <th>condition</th>\n",
       "      <th>cell_type</th>\n",
       "      <th>dose_val</th>\n",
       "      <th>control</th>\n",
       "      <th>condition_name</th>\n",
       "      <th>cell_line</th>\n",
       "      <th>gene_1</th>\n",
       "      <th>gene_2</th>\n",
       "      <th>num_control</th>\n",
       "      <th>kategory</th>\n",
       "    </tr>\n",
       "    <tr>\n",
       "      <th>cell_barcode</th>\n",
       "      <th></th>\n",
       "      <th></th>\n",
       "      <th></th>\n",
       "      <th></th>\n",
       "      <th></th>\n",
       "      <th></th>\n",
       "      <th></th>\n",
       "      <th></th>\n",
       "      <th></th>\n",
       "      <th></th>\n",
       "    </tr>\n",
       "  </thead>\n",
       "  <tbody>\n",
       "    <tr>\n",
       "      <th>AAACCTGAGGCATGTG-1</th>\n",
       "      <td>TSC22D1+ctrl</td>\n",
       "      <td>A549</td>\n",
       "      <td>1+1</td>\n",
       "      <td>False</td>\n",
       "      <td>A549_TSC22D1+ctrl_1+1</td>\n",
       "      <td>A549</td>\n",
       "      <td>TSC22D1</td>\n",
       "      <td>ctrl</td>\n",
       "      <td>1</td>\n",
       "      <td>single</td>\n",
       "    </tr>\n",
       "    <tr>\n",
       "      <th>AAACCTGCACGAAGCA-1</th>\n",
       "      <td>ctrl</td>\n",
       "      <td>A549</td>\n",
       "      <td>1</td>\n",
       "      <td>True</td>\n",
       "      <td>A549_ctrl_1</td>\n",
       "      <td>A549</td>\n",
       "      <td>ctrl</td>\n",
       "      <td>ctrl</td>\n",
       "      <td>2</td>\n",
       "      <td>ctrl</td>\n",
       "    </tr>\n",
       "    <tr>\n",
       "      <th>AAACCTGCAGACGTAG-1</th>\n",
       "      <td>CEBPE+RUNX1T1</td>\n",
       "      <td>A549</td>\n",
       "      <td>1+1</td>\n",
       "      <td>False</td>\n",
       "      <td>A549_CEBPE+RUNX1T1_1+1</td>\n",
       "      <td>A549</td>\n",
       "      <td>CEBPE</td>\n",
       "      <td>RUNX1T1</td>\n",
       "      <td>0</td>\n",
       "      <td>double</td>\n",
       "    </tr>\n",
       "    <tr>\n",
       "      <th>AAACCTGCAGCCTTGG-1</th>\n",
       "      <td>MAML2+ctrl</td>\n",
       "      <td>A549</td>\n",
       "      <td>1+1</td>\n",
       "      <td>False</td>\n",
       "      <td>A549_MAML2+ctrl_1+1</td>\n",
       "      <td>A549</td>\n",
       "      <td>MAML2</td>\n",
       "      <td>ctrl</td>\n",
       "      <td>1</td>\n",
       "      <td>single</td>\n",
       "    </tr>\n",
       "    <tr>\n",
       "      <th>AAACCTGCATCTCCCA-1</th>\n",
       "      <td>ctrl+CEBPE</td>\n",
       "      <td>A549</td>\n",
       "      <td>1+1</td>\n",
       "      <td>False</td>\n",
       "      <td>A549_ctrl+CEBPE_1+1</td>\n",
       "      <td>A549</td>\n",
       "      <td>ctrl</td>\n",
       "      <td>CEBPE</td>\n",
       "      <td>1</td>\n",
       "      <td>single</td>\n",
       "    </tr>\n",
       "    <tr>\n",
       "      <th>...</th>\n",
       "      <td>...</td>\n",
       "      <td>...</td>\n",
       "      <td>...</td>\n",
       "      <td>...</td>\n",
       "      <td>...</td>\n",
       "      <td>...</td>\n",
       "      <td>...</td>\n",
       "      <td>...</td>\n",
       "      <td>...</td>\n",
       "      <td>...</td>\n",
       "    </tr>\n",
       "    <tr>\n",
       "      <th>TTTGTCAGTAGCGTGA-8</th>\n",
       "      <td>ctrl</td>\n",
       "      <td>A549</td>\n",
       "      <td>1</td>\n",
       "      <td>True</td>\n",
       "      <td>A549_ctrl_1</td>\n",
       "      <td>A549</td>\n",
       "      <td>ctrl</td>\n",
       "      <td>ctrl</td>\n",
       "      <td>2</td>\n",
       "      <td>ctrl</td>\n",
       "    </tr>\n",
       "    <tr>\n",
       "      <th>TTTGTCAGTATAAACG-8</th>\n",
       "      <td>SAMD1+UBASH3B</td>\n",
       "      <td>A549</td>\n",
       "      <td>1+1</td>\n",
       "      <td>False</td>\n",
       "      <td>A549_SAMD1+UBASH3B_1+1</td>\n",
       "      <td>A549</td>\n",
       "      <td>SAMD1</td>\n",
       "      <td>UBASH3B</td>\n",
       "      <td>0</td>\n",
       "      <td>double</td>\n",
       "    </tr>\n",
       "    <tr>\n",
       "      <th>TTTGTCAGTCAGAATA-8</th>\n",
       "      <td>ctrl</td>\n",
       "      <td>A549</td>\n",
       "      <td>1</td>\n",
       "      <td>True</td>\n",
       "      <td>A549_ctrl_1</td>\n",
       "      <td>A549</td>\n",
       "      <td>ctrl</td>\n",
       "      <td>ctrl</td>\n",
       "      <td>2</td>\n",
       "      <td>ctrl</td>\n",
       "    </tr>\n",
       "    <tr>\n",
       "      <th>TTTGTCATCAGTACGT-8</th>\n",
       "      <td>FOXA3+ctrl</td>\n",
       "      <td>A549</td>\n",
       "      <td>1+1</td>\n",
       "      <td>False</td>\n",
       "      <td>A549_FOXA3+ctrl_1+1</td>\n",
       "      <td>A549</td>\n",
       "      <td>FOXA3</td>\n",
       "      <td>ctrl</td>\n",
       "      <td>1</td>\n",
       "      <td>single</td>\n",
       "    </tr>\n",
       "    <tr>\n",
       "      <th>TTTGTCATCTGGCGAC-8</th>\n",
       "      <td>MAP4K3+ctrl</td>\n",
       "      <td>A549</td>\n",
       "      <td>1+1</td>\n",
       "      <td>False</td>\n",
       "      <td>A549_MAP4K3+ctrl_1+1</td>\n",
       "      <td>A549</td>\n",
       "      <td>MAP4K3</td>\n",
       "      <td>ctrl</td>\n",
       "      <td>1</td>\n",
       "      <td>single</td>\n",
       "    </tr>\n",
       "  </tbody>\n",
       "</table>\n",
       "<p>49349 rows × 10 columns</p>\n",
       "</div>"
      ],
      "text/plain": [
       "                        condition cell_type dose_val  control  \\\n",
       "cell_barcode                                                    \n",
       "AAACCTGAGGCATGTG-1   TSC22D1+ctrl      A549      1+1    False   \n",
       "AAACCTGCACGAAGCA-1           ctrl      A549        1     True   \n",
       "AAACCTGCAGACGTAG-1  CEBPE+RUNX1T1      A549      1+1    False   \n",
       "AAACCTGCAGCCTTGG-1     MAML2+ctrl      A549      1+1    False   \n",
       "AAACCTGCATCTCCCA-1     ctrl+CEBPE      A549      1+1    False   \n",
       "...                           ...       ...      ...      ...   \n",
       "TTTGTCAGTAGCGTGA-8           ctrl      A549        1     True   \n",
       "TTTGTCAGTATAAACG-8  SAMD1+UBASH3B      A549      1+1    False   \n",
       "TTTGTCAGTCAGAATA-8           ctrl      A549        1     True   \n",
       "TTTGTCATCAGTACGT-8     FOXA3+ctrl      A549      1+1    False   \n",
       "TTTGTCATCTGGCGAC-8    MAP4K3+ctrl      A549      1+1    False   \n",
       "\n",
       "                            condition_name cell_line   gene_1   gene_2  \\\n",
       "cell_barcode                                                             \n",
       "AAACCTGAGGCATGTG-1   A549_TSC22D1+ctrl_1+1      A549  TSC22D1     ctrl   \n",
       "AAACCTGCACGAAGCA-1             A549_ctrl_1      A549     ctrl     ctrl   \n",
       "AAACCTGCAGACGTAG-1  A549_CEBPE+RUNX1T1_1+1      A549    CEBPE  RUNX1T1   \n",
       "AAACCTGCAGCCTTGG-1     A549_MAML2+ctrl_1+1      A549    MAML2     ctrl   \n",
       "AAACCTGCATCTCCCA-1     A549_ctrl+CEBPE_1+1      A549     ctrl    CEBPE   \n",
       "...                                    ...       ...      ...      ...   \n",
       "TTTGTCAGTAGCGTGA-8             A549_ctrl_1      A549     ctrl     ctrl   \n",
       "TTTGTCAGTATAAACG-8  A549_SAMD1+UBASH3B_1+1      A549    SAMD1  UBASH3B   \n",
       "TTTGTCAGTCAGAATA-8             A549_ctrl_1      A549     ctrl     ctrl   \n",
       "TTTGTCATCAGTACGT-8     A549_FOXA3+ctrl_1+1      A549    FOXA3     ctrl   \n",
       "TTTGTCATCTGGCGAC-8    A549_MAP4K3+ctrl_1+1      A549   MAP4K3     ctrl   \n",
       "\n",
       "                    num_control kategory  \n",
       "cell_barcode                              \n",
       "AAACCTGAGGCATGTG-1            1   single  \n",
       "AAACCTGCACGAAGCA-1            2     ctrl  \n",
       "AAACCTGCAGACGTAG-1            0   double  \n",
       "AAACCTGCAGCCTTGG-1            1   single  \n",
       "AAACCTGCATCTCCCA-1            1   single  \n",
       "...                         ...      ...  \n",
       "TTTGTCAGTAGCGTGA-8            2     ctrl  \n",
       "TTTGTCAGTATAAACG-8            0   double  \n",
       "TTTGTCAGTCAGAATA-8            2     ctrl  \n",
       "TTTGTCATCAGTACGT-8            1   single  \n",
       "TTTGTCATCTGGCGAC-8            1   single  \n",
       "\n",
       "[49349 rows x 10 columns]"
      ]
     },
     "execution_count": 76,
     "metadata": {},
     "output_type": "execute_result"
    }
   ],
   "source": [
    "adata_train.obs"
   ]
  },
  {
   "cell_type": "code",
   "execution_count": 77,
   "metadata": {},
   "outputs": [],
   "source": [
    "# control cells used to make predictions\n",
    "adata_train_ctrl = adata_train[adata_train.obs.condition == \"ctrl\"].copy()\n",
    "\n",
    "# perturbed cells used to create additive model predictions\n",
    "adata_train_single = adata_train[adata_train.obs.kategory == \"single\"].copy()\n",
    "\n",
    "# conditions that the additive model can predict\n",
    "adata_ood_double_seen_2 = adata_ood[adata_ood.obs.subgroup == \"double_seen_2\"].copy()\n",
    "\n",
    "NUM_SAMPLED_CELLS = 500"
   ]
  },
  {
   "cell_type": "markdown",
   "metadata": {},
   "source": [
    "### make sure that the perturbed gene is always gene 1"
   ]
  },
  {
   "cell_type": "code",
   "execution_count": 78,
   "metadata": {},
   "outputs": [],
   "source": [
    "genes = adata_train_single.obs.condition.str.split(\"+\", expand=True).values\n",
    "genes_1 = genes[:, 0]\n",
    "genes_2 = genes[:, 1]\n",
    "mask = genes_1 == \"ctrl\"\n",
    "\n",
    "genes_1[mask], genes_2[mask] = genes_2[mask], genes_1[mask]\n",
    "\n",
    "adata_train_single.obs.loc[:, \"condition_ordered\"] = genes_1 + \"+\" + genes_2\n",
    "adata_train_single.obs.loc[:, \"gene_1_ordered\"] = genes_1 # this is the perturbed gene\n",
    "adata_train_single.obs.loc[:, \"gene_2_ordered\"] = genes_2 # this is always ctrl\n",
    "\n",
    "assert np.all(adata_train_single.obs.loc[:, \"gene_1_ordered\"] != \"ctrl\")\n",
    "assert np.all(adata_train_single.obs.loc[:, \"gene_2_ordered\"] == \"ctrl\")"
   ]
  },
  {
   "cell_type": "code",
   "execution_count": 79,
   "metadata": {},
   "outputs": [
    {
     "data": {
      "text/html": [
       "<div>\n",
       "<style scoped>\n",
       "    .dataframe tbody tr th:only-of-type {\n",
       "        vertical-align: middle;\n",
       "    }\n",
       "\n",
       "    .dataframe tbody tr th {\n",
       "        vertical-align: top;\n",
       "    }\n",
       "\n",
       "    .dataframe thead th {\n",
       "        text-align: right;\n",
       "    }\n",
       "</style>\n",
       "<table border=\"1\" class=\"dataframe\">\n",
       "  <thead>\n",
       "    <tr style=\"text-align: right;\">\n",
       "      <th></th>\n",
       "      <th>condition</th>\n",
       "      <th>cell_type</th>\n",
       "      <th>dose_val</th>\n",
       "      <th>control</th>\n",
       "      <th>condition_name</th>\n",
       "      <th>cell_line</th>\n",
       "      <th>gene_1</th>\n",
       "      <th>gene_2</th>\n",
       "      <th>num_control</th>\n",
       "      <th>kategory</th>\n",
       "      <th>condition_ordered</th>\n",
       "      <th>gene_1_ordered</th>\n",
       "      <th>gene_2_ordered</th>\n",
       "    </tr>\n",
       "    <tr>\n",
       "      <th>cell_barcode</th>\n",
       "      <th></th>\n",
       "      <th></th>\n",
       "      <th></th>\n",
       "      <th></th>\n",
       "      <th></th>\n",
       "      <th></th>\n",
       "      <th></th>\n",
       "      <th></th>\n",
       "      <th></th>\n",
       "      <th></th>\n",
       "      <th></th>\n",
       "      <th></th>\n",
       "      <th></th>\n",
       "    </tr>\n",
       "  </thead>\n",
       "  <tbody>\n",
       "    <tr>\n",
       "      <th>AAACCTGAGGCATGTG-1</th>\n",
       "      <td>TSC22D1+ctrl</td>\n",
       "      <td>A549</td>\n",
       "      <td>1+1</td>\n",
       "      <td>False</td>\n",
       "      <td>A549_TSC22D1+ctrl_1+1</td>\n",
       "      <td>A549</td>\n",
       "      <td>TSC22D1</td>\n",
       "      <td>ctrl</td>\n",
       "      <td>1</td>\n",
       "      <td>single</td>\n",
       "      <td>TSC22D1+ctrl</td>\n",
       "      <td>TSC22D1</td>\n",
       "      <td>ctrl</td>\n",
       "    </tr>\n",
       "    <tr>\n",
       "      <th>AAACCTGCAGCCTTGG-1</th>\n",
       "      <td>MAML2+ctrl</td>\n",
       "      <td>A549</td>\n",
       "      <td>1+1</td>\n",
       "      <td>False</td>\n",
       "      <td>A549_MAML2+ctrl_1+1</td>\n",
       "      <td>A549</td>\n",
       "      <td>MAML2</td>\n",
       "      <td>ctrl</td>\n",
       "      <td>1</td>\n",
       "      <td>single</td>\n",
       "      <td>MAML2+ctrl</td>\n",
       "      <td>MAML2</td>\n",
       "      <td>ctrl</td>\n",
       "    </tr>\n",
       "    <tr>\n",
       "      <th>AAACCTGCATCTCCCA-1</th>\n",
       "      <td>ctrl+CEBPE</td>\n",
       "      <td>A549</td>\n",
       "      <td>1+1</td>\n",
       "      <td>False</td>\n",
       "      <td>A549_ctrl+CEBPE_1+1</td>\n",
       "      <td>A549</td>\n",
       "      <td>ctrl</td>\n",
       "      <td>CEBPE</td>\n",
       "      <td>1</td>\n",
       "      <td>single</td>\n",
       "      <td>CEBPE+ctrl</td>\n",
       "      <td>CEBPE</td>\n",
       "      <td>ctrl</td>\n",
       "    </tr>\n",
       "    <tr>\n",
       "      <th>AAACCTGTCAGGCGAA-1</th>\n",
       "      <td>ctrl+FOXA1</td>\n",
       "      <td>A549</td>\n",
       "      <td>1+1</td>\n",
       "      <td>False</td>\n",
       "      <td>A549_ctrl+FOXA1_1+1</td>\n",
       "      <td>A549</td>\n",
       "      <td>ctrl</td>\n",
       "      <td>FOXA1</td>\n",
       "      <td>1</td>\n",
       "      <td>single</td>\n",
       "      <td>FOXA1+ctrl</td>\n",
       "      <td>FOXA1</td>\n",
       "      <td>ctrl</td>\n",
       "    </tr>\n",
       "    <tr>\n",
       "      <th>AAACCTGTCGTCCAGG-1</th>\n",
       "      <td>GLB1L2+ctrl</td>\n",
       "      <td>A549</td>\n",
       "      <td>1+1</td>\n",
       "      <td>False</td>\n",
       "      <td>A549_GLB1L2+ctrl_1+1</td>\n",
       "      <td>A549</td>\n",
       "      <td>GLB1L2</td>\n",
       "      <td>ctrl</td>\n",
       "      <td>1</td>\n",
       "      <td>single</td>\n",
       "      <td>GLB1L2+ctrl</td>\n",
       "      <td>GLB1L2</td>\n",
       "      <td>ctrl</td>\n",
       "    </tr>\n",
       "    <tr>\n",
       "      <th>...</th>\n",
       "      <td>...</td>\n",
       "      <td>...</td>\n",
       "      <td>...</td>\n",
       "      <td>...</td>\n",
       "      <td>...</td>\n",
       "      <td>...</td>\n",
       "      <td>...</td>\n",
       "      <td>...</td>\n",
       "      <td>...</td>\n",
       "      <td>...</td>\n",
       "      <td>...</td>\n",
       "      <td>...</td>\n",
       "      <td>...</td>\n",
       "    </tr>\n",
       "    <tr>\n",
       "      <th>TTTGTCACATCGTCGG-8</th>\n",
       "      <td>ctrl+MAP2K6</td>\n",
       "      <td>A549</td>\n",
       "      <td>1+1</td>\n",
       "      <td>False</td>\n",
       "      <td>A549_ctrl+MAP2K6_1+1</td>\n",
       "      <td>A549</td>\n",
       "      <td>ctrl</td>\n",
       "      <td>MAP2K6</td>\n",
       "      <td>1</td>\n",
       "      <td>single</td>\n",
       "      <td>MAP2K6+ctrl</td>\n",
       "      <td>MAP2K6</td>\n",
       "      <td>ctrl</td>\n",
       "    </tr>\n",
       "    <tr>\n",
       "      <th>TTTGTCAGTACCTACA-8</th>\n",
       "      <td>TSC22D1+ctrl</td>\n",
       "      <td>A549</td>\n",
       "      <td>1+1</td>\n",
       "      <td>False</td>\n",
       "      <td>A549_TSC22D1+ctrl_1+1</td>\n",
       "      <td>A549</td>\n",
       "      <td>TSC22D1</td>\n",
       "      <td>ctrl</td>\n",
       "      <td>1</td>\n",
       "      <td>single</td>\n",
       "      <td>TSC22D1+ctrl</td>\n",
       "      <td>TSC22D1</td>\n",
       "      <td>ctrl</td>\n",
       "    </tr>\n",
       "    <tr>\n",
       "      <th>TTTGTCAGTACGCTGC-8</th>\n",
       "      <td>ctrl+MAP7D1</td>\n",
       "      <td>A549</td>\n",
       "      <td>1+1</td>\n",
       "      <td>False</td>\n",
       "      <td>A549_ctrl+MAP7D1_1+1</td>\n",
       "      <td>A549</td>\n",
       "      <td>ctrl</td>\n",
       "      <td>MAP7D1</td>\n",
       "      <td>1</td>\n",
       "      <td>single</td>\n",
       "      <td>MAP7D1+ctrl</td>\n",
       "      <td>MAP7D1</td>\n",
       "      <td>ctrl</td>\n",
       "    </tr>\n",
       "    <tr>\n",
       "      <th>TTTGTCATCAGTACGT-8</th>\n",
       "      <td>FOXA3+ctrl</td>\n",
       "      <td>A549</td>\n",
       "      <td>1+1</td>\n",
       "      <td>False</td>\n",
       "      <td>A549_FOXA3+ctrl_1+1</td>\n",
       "      <td>A549</td>\n",
       "      <td>FOXA3</td>\n",
       "      <td>ctrl</td>\n",
       "      <td>1</td>\n",
       "      <td>single</td>\n",
       "      <td>FOXA3+ctrl</td>\n",
       "      <td>FOXA3</td>\n",
       "      <td>ctrl</td>\n",
       "    </tr>\n",
       "    <tr>\n",
       "      <th>TTTGTCATCTGGCGAC-8</th>\n",
       "      <td>MAP4K3+ctrl</td>\n",
       "      <td>A549</td>\n",
       "      <td>1+1</td>\n",
       "      <td>False</td>\n",
       "      <td>A549_MAP4K3+ctrl_1+1</td>\n",
       "      <td>A549</td>\n",
       "      <td>MAP4K3</td>\n",
       "      <td>ctrl</td>\n",
       "      <td>1</td>\n",
       "      <td>single</td>\n",
       "      <td>MAP4K3+ctrl</td>\n",
       "      <td>MAP4K3</td>\n",
       "      <td>ctrl</td>\n",
       "    </tr>\n",
       "  </tbody>\n",
       "</table>\n",
       "<p>31471 rows × 13 columns</p>\n",
       "</div>"
      ],
      "text/plain": [
       "                       condition cell_type dose_val  control  \\\n",
       "cell_barcode                                                   \n",
       "AAACCTGAGGCATGTG-1  TSC22D1+ctrl      A549      1+1    False   \n",
       "AAACCTGCAGCCTTGG-1    MAML2+ctrl      A549      1+1    False   \n",
       "AAACCTGCATCTCCCA-1    ctrl+CEBPE      A549      1+1    False   \n",
       "AAACCTGTCAGGCGAA-1    ctrl+FOXA1      A549      1+1    False   \n",
       "AAACCTGTCGTCCAGG-1   GLB1L2+ctrl      A549      1+1    False   \n",
       "...                          ...       ...      ...      ...   \n",
       "TTTGTCACATCGTCGG-8   ctrl+MAP2K6      A549      1+1    False   \n",
       "TTTGTCAGTACCTACA-8  TSC22D1+ctrl      A549      1+1    False   \n",
       "TTTGTCAGTACGCTGC-8   ctrl+MAP7D1      A549      1+1    False   \n",
       "TTTGTCATCAGTACGT-8    FOXA3+ctrl      A549      1+1    False   \n",
       "TTTGTCATCTGGCGAC-8   MAP4K3+ctrl      A549      1+1    False   \n",
       "\n",
       "                           condition_name cell_line   gene_1  gene_2  \\\n",
       "cell_barcode                                                           \n",
       "AAACCTGAGGCATGTG-1  A549_TSC22D1+ctrl_1+1      A549  TSC22D1    ctrl   \n",
       "AAACCTGCAGCCTTGG-1    A549_MAML2+ctrl_1+1      A549    MAML2    ctrl   \n",
       "AAACCTGCATCTCCCA-1    A549_ctrl+CEBPE_1+1      A549     ctrl   CEBPE   \n",
       "AAACCTGTCAGGCGAA-1    A549_ctrl+FOXA1_1+1      A549     ctrl   FOXA1   \n",
       "AAACCTGTCGTCCAGG-1   A549_GLB1L2+ctrl_1+1      A549   GLB1L2    ctrl   \n",
       "...                                   ...       ...      ...     ...   \n",
       "TTTGTCACATCGTCGG-8   A549_ctrl+MAP2K6_1+1      A549     ctrl  MAP2K6   \n",
       "TTTGTCAGTACCTACA-8  A549_TSC22D1+ctrl_1+1      A549  TSC22D1    ctrl   \n",
       "TTTGTCAGTACGCTGC-8   A549_ctrl+MAP7D1_1+1      A549     ctrl  MAP7D1   \n",
       "TTTGTCATCAGTACGT-8    A549_FOXA3+ctrl_1+1      A549    FOXA3    ctrl   \n",
       "TTTGTCATCTGGCGAC-8   A549_MAP4K3+ctrl_1+1      A549   MAP4K3    ctrl   \n",
       "\n",
       "                    num_control kategory condition_ordered gene_1_ordered  \\\n",
       "cell_barcode                                                                \n",
       "AAACCTGAGGCATGTG-1            1   single      TSC22D1+ctrl        TSC22D1   \n",
       "AAACCTGCAGCCTTGG-1            1   single        MAML2+ctrl          MAML2   \n",
       "AAACCTGCATCTCCCA-1            1   single        CEBPE+ctrl          CEBPE   \n",
       "AAACCTGTCAGGCGAA-1            1   single        FOXA1+ctrl          FOXA1   \n",
       "AAACCTGTCGTCCAGG-1            1   single       GLB1L2+ctrl         GLB1L2   \n",
       "...                         ...      ...               ...            ...   \n",
       "TTTGTCACATCGTCGG-8            1   single       MAP2K6+ctrl         MAP2K6   \n",
       "TTTGTCAGTACCTACA-8            1   single      TSC22D1+ctrl        TSC22D1   \n",
       "TTTGTCAGTACGCTGC-8            1   single       MAP7D1+ctrl         MAP7D1   \n",
       "TTTGTCATCAGTACGT-8            1   single        FOXA3+ctrl          FOXA3   \n",
       "TTTGTCATCTGGCGAC-8            1   single       MAP4K3+ctrl         MAP4K3   \n",
       "\n",
       "                   gene_2_ordered  \n",
       "cell_barcode                       \n",
       "AAACCTGAGGCATGTG-1           ctrl  \n",
       "AAACCTGCAGCCTTGG-1           ctrl  \n",
       "AAACCTGCATCTCCCA-1           ctrl  \n",
       "AAACCTGTCAGGCGAA-1           ctrl  \n",
       "AAACCTGTCGTCCAGG-1           ctrl  \n",
       "...                           ...  \n",
       "TTTGTCACATCGTCGG-8           ctrl  \n",
       "TTTGTCAGTACCTACA-8           ctrl  \n",
       "TTTGTCAGTACGCTGC-8           ctrl  \n",
       "TTTGTCATCAGTACGT-8           ctrl  \n",
       "TTTGTCATCTGGCGAC-8           ctrl  \n",
       "\n",
       "[31471 rows x 13 columns]"
      ]
     },
     "metadata": {},
     "output_type": "display_data"
    }
   ],
   "source": [
    "display(adata_train_single.obs)"
   ]
  },
  {
   "cell_type": "markdown",
   "metadata": {},
   "source": [
    "### Get predictions - recall that this additive model can only make predictions for subgroup double_seen_2"
   ]
  },
  {
   "cell_type": "code",
   "execution_count": 80,
   "metadata": {},
   "outputs": [
    {
     "data": {
      "application/vnd.jupyter.widget-view+json": {
       "model_id": "e13b82dcbeac49a281f8ec6f60458958",
       "version_major": 2,
       "version_minor": 0
      },
      "text/plain": [
       "  0%|          | 0/15 [00:00<?, ?it/s]"
      ]
     },
     "metadata": {},
     "output_type": "display_data"
    }
   ],
   "source": [
    "all_predictions, all_conditions = [], []\n",
    "\n",
    "for condition in tqdm(adata_ood_double_seen_2.obs.condition.unique()):\n",
    "\n",
    "    # get perturbed genes\n",
    "    gene_1, gene_2 = condition.split(\"+\")\n",
    "\n",
    "    # get perturbed gene expression profiles\n",
    "    cells_1 = np.asarray(adata_train_single[adata_train_single.obs.gene_1_ordered == gene_1].X.todense()) # gene_1_ordered is always the perturbed gene\n",
    "    cells_2 = np.asarray(adata_train_single[adata_train_single.obs.gene_1_ordered == gene_2].X.todense())\n",
    "\n",
    "    # get control cells\n",
    "    random_idcs_ctrl = np.random.choice(adata_train_ctrl.shape[0], size=NUM_SAMPLED_CELLS, replace=True)\n",
    "    ctrl_cells = np.asarray(adata_train_ctrl.X[random_idcs_ctrl].todense())\n",
    "\n",
    "    # compute displacements\n",
    "    displacement_1 = cells_1.mean(axis=0) - ctrl_cells.mean(axis=0)\n",
    "    displacement_2 = cells_2.mean(axis=0) - ctrl_cells.mean(axis=0)\n",
    "\n",
    "    # get predictions\n",
    "    predictions = ctrl_cells + displacement_1 + displacement_2\n",
    "    all_predictions.append(predictions)\n",
    "    all_conditions.extend([condition] * NUM_SAMPLED_CELLS)"
   ]
  },
  {
   "cell_type": "code",
   "execution_count": 81,
   "metadata": {},
   "outputs": [
    {
     "name": "stderr",
     "output_type": "stream",
     "text": [
      "/home/haicu/soeren.becker/miniconda3/envs/env_cfp2/lib/python3.12/site-packages/anndata/_core/aligned_df.py:68: ImplicitModificationWarning: Transforming to str index.\n",
      "  warnings.warn(\"Transforming to str index.\", ImplicitModificationWarning)\n"
     ]
    },
    {
     "data": {
      "text/plain": [
       "AnnData object with n_obs × n_vars = 7500 × 5045\n",
       "    obs: 'condition'"
      ]
     },
     "execution_count": 81,
     "metadata": {},
     "output_type": "execute_result"
    }
   ],
   "source": [
    "adata_pred_ood  = ad.AnnData(X=np.vstack(all_predictions), obs=pd.DataFrame(all_conditions, columns=[\"condition\"]))\n",
    "adata_pred_ood"
   ]
  },
  {
   "cell_type": "markdown",
   "metadata": {},
   "source": [
    "### create dicts with predictions and ground truths per condition"
   ]
  },
  {
   "cell_type": "code",
   "execution_count": 82,
   "metadata": {},
   "outputs": [
    {
     "data": {
      "application/vnd.jupyter.widget-view+json": {
       "model_id": "7e31c48b40234787bd8ac4d0cf70051c",
       "version_major": 2,
       "version_minor": 0
      },
      "text/plain": [
       "  0%|          | 0/15 [00:00<?, ?it/s]"
      ]
     },
     "metadata": {},
     "output_type": "display_data"
    }
   ],
   "source": [
    "cfpp.project_pca(query_adata=adata_pred_ood, ref_adata=adata_all)\n",
    "cfpp.project_pca(query_adata=adata_ood_double_seen_2, ref_adata=adata_all)\n",
    "\n",
    "ood_data_target_encoded, ood_data_target_decoded = {}, {}\n",
    "ood_data_target_encoded_predicted, ood_data_target_decoded_predicted = {}, {}\n",
    "\n",
    "for cond in tqdm(adata_ood_double_seen_2.obs[\"condition\"].cat.categories):\n",
    "    if cond == \"ctrl\":\n",
    "        continue\n",
    "    \n",
    "    # get masks for truths and preds for this condition\n",
    "    select = adata_ood_double_seen_2.obs[\"condition\"] == cond\n",
    "    select2 = adata_pred_ood.obs[\"condition\"] == cond\n",
    "    \n",
    "    # truth and preds in pca space\n",
    "    ood_data_target_encoded[cond] = adata_ood_double_seen_2[select].obsm[\"X_pca\"]\n",
    "    ood_data_target_encoded_predicted[cond] = adata_pred_ood[select2].obsm[\"X_pca\"]\n",
    "\n",
    "    # truths and preds in gene space\n",
    "    ood_data_target_decoded[cond] = np.asarray(adata_ood_double_seen_2[select].X.todense())\n",
    "    ood_data_target_decoded_predicted[cond] = adata_pred_ood[select2].X"
   ]
  },
  {
   "cell_type": "code",
   "execution_count": 83,
   "metadata": {},
   "outputs": [
    {
     "name": "stdout",
     "output_type": "stream",
     "text": [
      "Computing ood_metrics_encoded\n",
      "Computing ood_metrics_decoded\n",
      "Apply DEG mask\n",
      "Compute metrics on DEG subsetted decoded\n"
     ]
    }
   ],
   "source": [
    "ood_metrics_encoded, mean_ood_metrics_encoded = {}, {}\n",
    "ood_metrics_decoded, mean_ood_metrics_decoded = {}, {}\n",
    "deg_ood_metrics, deg_mean_ood_metrics = {}, {}\n",
    "ood_deg_dict = {}\n",
    "ood_deg_target_decoded_predicted, ood_deg_target_decoded = {}, {}\n",
    "\n",
    "print(\"Computing ood_metrics_encoded\")\n",
    "# ood set: evaluation in encoded (=pca) space\n",
    "ood_metrics_encoded = jax.tree_util.tree_map(\n",
    "    compute_metrics, \n",
    "    # compute_metrics_fast, \n",
    "    ood_data_target_encoded, \n",
    "    ood_data_target_encoded_predicted\n",
    ")\n",
    "mean_ood_metrics_encoded = compute_mean_metrics(\n",
    "    ood_metrics_encoded, \n",
    "    prefix=\"encoded_ood_\",\n",
    ")\n",
    "\n",
    "print(\"Computing ood_metrics_decoded\")\n",
    "# ood set: evaluation in decoded (=gene) space\n",
    "ood_metrics_decoded = jax.tree_util.tree_map(\n",
    "    # compute_metrics, \n",
    "    compute_metrics_fast, \n",
    "    ood_data_target_decoded, \n",
    "    ood_data_target_decoded_predicted\n",
    ")\n",
    "mean_ood_metrics_decoded = compute_mean_metrics(\n",
    "    ood_metrics_decoded, \n",
    "    prefix=\"decoded_ood_\",\n",
    ")\n",
    "\n",
    "# ood set\n",
    "ood_deg_dict = {\n",
    "    k: v\n",
    "    for k, v in adata_train.uns['rank_genes_groups_cov_all'].items() \n",
    "    if k in ood_data_target_decoded_predicted.keys()\n",
    "}\n",
    "\n",
    "print(\"Apply DEG mask\")\n",
    "# ood set\n",
    "ood_deg_target_decoded_predicted = jax.tree_util.tree_map(\n",
    "    get_mask, \n",
    "    ood_data_target_decoded_predicted, \n",
    "    ood_deg_dict\n",
    ")\n",
    "\n",
    "ood_deg_target_decoded = jax.tree_util.tree_map(\n",
    "    get_mask, \n",
    "    ood_data_target_decoded, \n",
    "    ood_deg_dict\n",
    ")\n",
    "\n",
    "print(\"Compute metrics on DEG subsetted decoded\")\n",
    "deg_ood_metrics = jax.tree_util.tree_map(\n",
    "    compute_metrics, \n",
    "    # compute_metrics_fast, \n",
    "    ood_deg_target_decoded, \n",
    "    ood_deg_target_decoded_predicted\n",
    ")\n",
    "deg_mean_ood_metrics = compute_mean_metrics(\n",
    "    deg_ood_metrics, \n",
    "    prefix=\"deg_ood_\"\n",
    ")"
   ]
  },
  {
   "cell_type": "code",
   "execution_count": 84,
   "metadata": {},
   "outputs": [
    {
     "data": {
      "text/plain": [
       "{'deg_ood_r_squared': 0.9736408591270447,\n",
       " 'deg_ood_sinkhorn_div_1': 17.404671065012614,\n",
       " 'deg_ood_sinkhorn_div_10': 4.6770671844482425,\n",
       " 'deg_ood_sinkhorn_div_100': 1.8972557067871094,\n",
       " 'deg_ood_e_distance': np.float64(3.1158367545999774),\n",
       " 'deg_ood_mmd': np.float32(0.02011226)}"
      ]
     },
     "execution_count": 84,
     "metadata": {},
     "output_type": "execute_result"
    }
   ],
   "source": [
    "deg_mean_ood_metrics"
   ]
  },
  {
   "cell_type": "code",
   "execution_count": 85,
   "metadata": {},
   "outputs": [],
   "source": [
    "collected_results = {\n",
    "    \"ood_metrics_encoded\": ood_metrics_encoded,\n",
    "    \"mean_ood_metrics_encoded\": mean_ood_metrics_encoded,\n",
    "    \"ood_metrics_decoded\": ood_metrics_decoded,\n",
    "    \"mean_ood_metrics_decoded\": mean_ood_metrics_decoded,\n",
    "    \"deg_ood_metrics\": deg_ood_metrics,\n",
    "    \"deg_mean_ood_metrics\": deg_mean_ood_metrics,\n",
    "    \"ood_deg_dict\": ood_deg_dict,\n",
    "    \"ood_deg_target_decoded_predicted\": ood_deg_target_decoded_predicted,\n",
    "    \"ood_deg_target_decoded\": ood_deg_target_decoded,\n",
    "}"
   ]
  },
  {
   "cell_type": "code",
   "execution_count": 86,
   "metadata": {},
   "outputs": [],
   "source": [
    "OUT_DIR = \"/lustre/groups/ml01/workspace/ot_perturbation/data/norman_soren/additive_mean_displacement/num_samples_500\"\n",
    "os.makedirs(OUT_DIR, exist_ok=True)\n",
    "pd.to_pickle(collected_results, os.path.join(OUT_DIR, f\"norman_additive_split_{split}_collected_results.pkl\"))"
   ]
  },
  {
   "cell_type": "code",
   "execution_count": null,
   "metadata": {},
   "outputs": [],
   "source": []
  }
 ],
 "metadata": {
  "kernelspec": {
   "display_name": "env_cfp2",
   "language": "python",
   "name": "python3"
  },
  "language_info": {
   "codemirror_mode": {
    "name": "ipython",
    "version": 3
   },
   "file_extension": ".py",
   "mimetype": "text/x-python",
   "name": "python",
   "nbconvert_exporter": "python",
   "pygments_lexer": "ipython3",
   "version": "3.12.0"
  }
 },
 "nbformat": 4,
 "nbformat_minor": 2
}
