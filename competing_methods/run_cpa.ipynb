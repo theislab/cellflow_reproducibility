{
 "cells": [
  {
   "cell_type": "code",
   "execution_count": 1,
   "id": "5c42fe3e-87d0-4e68-95d0-3faaca23e5f1",
   "metadata": {},
   "outputs": [
    {
     "name": "stderr",
     "output_type": "stream",
     "text": [
      "[rank: 0] Global seed set to 0\n",
      "2024-04-16 08:36:02,082\tINFO util.py:154 -- Missing packages: ['ipywidgets']. Run `pip install -U ipywidgets`, then restart the notebook server for rich notebook output.\n",
      "2024-04-16 08:36:09,852\tINFO util.py:154 -- Missing packages: ['ipywidgets']. Run `pip install -U ipywidgets`, then restart the notebook server for rich notebook output.\n"
     ]
    }
   ],
   "source": [
    "import cpa\n",
    "import scanpy as sc"
   ]
  },
  {
   "cell_type": "code",
   "execution_count": 2,
   "id": "fa7e997e-dd2a-4415-9a3f-15536f5a8242",
   "metadata": {},
   "outputs": [],
   "source": [
    "from cpa import CPA"
   ]
  },
  {
   "cell_type": "code",
   "execution_count": 18,
   "id": "b3705528-b2f0-4b5c-9fde-b4adcd367c3c",
   "metadata": {},
   "outputs": [],
   "source": [
    "import gdown\n",
    "#gdown.download('https://drive.google.com/uc?export=download&id=1RRV0_qYKGTvD3oCklKfoZQFYqKJy4l6t')\n",
    "data_path = 'combo_sciplex_prep_hvg_filtered.h5ad'\n",
    "adata = sc.read(data_path)"
   ]
  },
  {
   "cell_type": "code",
   "execution_count": 19,
   "id": "79e49294-2c4d-43aa-8fcd-1496d0253e57",
   "metadata": {},
   "outputs": [],
   "source": [
    "adata_train_path = \"/lustre/groups/ml01/workspace/ot_perturbation/data/combosciplex/adata_train.h5ad\"\n",
    "adata_test_path = \"/lustre/groups/ml01/workspace/ot_perturbation/data/combosciplex/adata_test.h5ad\"\n",
    "adata_ood_path = \"/lustre/groups/ml01/workspace/ot_perturbation/data/combosciplex/adata_ood.h5ad\""
   ]
  },
  {
   "cell_type": "code",
   "execution_count": 20,
   "id": "51d0a975-78e7-41d5-9aa4-b8c0f8f5be52",
   "metadata": {},
   "outputs": [],
   "source": [
    "adata_train = sc.read(adata_train_path)\n",
    "adata_test = sc.read(adata_test_path)\n",
    "adata_ood = sc.read(adata_ood_path)\n"
   ]
  },
  {
   "cell_type": "code",
   "execution_count": 21,
   "id": "6c52fb07-74ec-48f7-8a33-9506fc3e28d0",
   "metadata": {},
   "outputs": [],
   "source": [
    "adata_train.X = adata_train.layers[\"counts\"]\n",
    "adata_test.X = adata_test.layers[\"counts\"]\n",
    "adata_test.X = adata_test.layers[\"counts\"]"
   ]
  },
  {
   "cell_type": "code",
   "execution_count": 22,
   "id": "cb7d7a5e-e439-4a9b-82ef-64d8e95a9420",
   "metadata": {},
   "outputs": [],
   "source": [
    "\n",
    "adata.obs[\"index\"] = adata.obs_names.values\n",
    "adata.obs[\"index_adapted\"] = adata.obs.apply(lambda x: x[\"index\"][:-2], axis=1)\n",
    "adata.obs.set_index(\"index_adapted\", inplace=True)"
   ]
  },
  {
   "cell_type": "code",
   "execution_count": 23,
   "id": "b2c0b7f0-bbaa-4a6c-a8b4-cccd2a3281e3",
   "metadata": {},
   "outputs": [],
   "source": [
    "adata_train.obs[\"cov_drug_dose\"] = adata.obs['cov_drug_dose']\n",
    "adata_train.obs[\"condition_ID\"] = adata.obs[\"condition_ID\"]\n",
    "adata_train.obs[\"log_dose\"] = adata.obs[\"log_dose\"]\n",
    "\n",
    "adata_test.obs[\"cov_drug_dose\"] = adata.obs['cov_drug_dose']\n",
    "adata_test.obs[\"condition_ID\"] = adata.obs[\"condition_ID\"]\n",
    "adata_test.obs[\"log_dose\"] = adata.obs[\"log_dose\"]\n",
    "\n",
    "adata_ood.obs[\"cov_drug_dose\"] = adata.obs['cov_drug_dose']\n",
    "adata_ood.obs[\"condition_ID\"] = adata.obs[\"condition_ID\"]\n",
    "adata_ood.obs[\"log_dose\"] = adata.obs[\"log_dose\"]"
   ]
  },
  {
   "cell_type": "code",
   "execution_count": 24,
   "id": "4bf8afcb-9c81-4b99-bbd3-8fecb89e5296",
   "metadata": {},
   "outputs": [],
   "source": [
    "frac_valid = adata[adata.obs['split_1ct_MEC']==\"valid\"].n_obs/(adata[adata.obs['split_1ct_MEC']==\"valid\"].n_obs+adata[adata.obs['split_1ct_MEC']==\"train\"].n_obs)"
   ]
  },
  {
   "cell_type": "code",
   "execution_count": 25,
   "id": "68713145-b4f6-42ac-aff6-be43a9634c1b",
   "metadata": {},
   "outputs": [],
   "source": [
    "import numpy as np\n",
    "\n",
    "def create_split(x):\n",
    "    is_train = np.random.choice(2, p=[frac_valid, 1-frac_valid])\n",
    "    if is_train:\n",
    "        return \"train\"\n",
    "    return \"valid\"\n",
    "adata_train.obs['split_1ct_MEC'] = adata_train.obs.apply(create_split, axis=1)"
   ]
  },
  {
   "cell_type": "code",
   "execution_count": 26,
   "id": "022b99a9-b0e7-4b63-b9fa-f2837be69b42",
   "metadata": {},
   "outputs": [
    {
     "data": {
      "text/plain": [
       "split_1ct_MEC\n",
       "train    46407\n",
       "valid     5094\n",
       "Name: count, dtype: int64"
      ]
     },
     "execution_count": 26,
     "metadata": {},
     "output_type": "execute_result"
    }
   ],
   "source": [
    "adata_train.obs['split_1ct_MEC'].value_counts()"
   ]
  },
  {
   "cell_type": "code",
   "execution_count": 27,
   "id": "66d00440-1a84-4666-93a6-6333a10314a3",
   "metadata": {},
   "outputs": [],
   "source": [
    "adata_train.obs['condition_ID'] = adata_train.obs['condition_ID'].cat.remove_unused_categories()"
   ]
  },
  {
   "cell_type": "code",
   "execution_count": 29,
   "id": "aec2874d-31fa-4758-9e28-cf350e21d08b",
   "metadata": {},
   "outputs": [
    {
     "name": "stderr",
     "output_type": "stream",
     "text": [
      "100%|██████████| 51501/51501 [00:00<00:00, 65218.90it/s]\n",
      "100%|██████████| 51501/51501 [00:00<00:00, 707552.58it/s]\n",
      "An NVIDIA GPU may be present on this machine, but a CUDA-enabled jaxlib is not installed. Falling back to cpu.\n"
     ]
    },
    {
     "name": "stdout",
     "output_type": "stream",
     "text": [
      "\u001b[34mINFO    \u001b[0m Generating sequential column names                                                                        \n",
      "\u001b[34mINFO    \u001b[0m Generating sequential column names                                                                        \n"
     ]
    }
   ],
   "source": [
    "cpa.CPA.setup_anndata(adata_train,\n",
    "                      perturbation_key='condition_ID',\n",
    "                      dosage_key='log_dose',\n",
    "                      control_group='CHEMBL504',\n",
    "                      batch_key=None,\n",
    "                      is_count_data=True,\n",
    "                      categorical_covariate_keys=['cell_type'],\n",
    "                      #deg_uns_key='rank_genes_groups_cov',\n",
    "                      deg_uns_cat_key='cov_drug_dose',\n",
    "                      max_comb_len=2,\n",
    "                     )"
   ]
  },
  {
   "cell_type": "code",
   "execution_count": 30,
   "id": "1d8d0c3e-e285-457e-9b81-e9edf65fab83",
   "metadata": {},
   "outputs": [],
   "source": [
    "ae_hparams = {\n",
    "    \"n_latent\": 128,\n",
    "    \"recon_loss\": \"nb\",\n",
    "    \"doser_type\": \"logsigm\",\n",
    "    \"n_hidden_encoder\": 512,\n",
    "    \"n_layers_encoder\": 3,\n",
    "    \"n_hidden_decoder\": 512,\n",
    "    \"n_layers_decoder\": 3,\n",
    "    \"use_batch_norm_encoder\": True,\n",
    "    \"use_layer_norm_encoder\": False,\n",
    "    \"use_batch_norm_decoder\": True,\n",
    "    \"use_layer_norm_decoder\": False,\n",
    "    \"dropout_rate_encoder\": 0.1,\n",
    "    \"dropout_rate_decoder\": 0.1,\n",
    "    \"variational\": False,\n",
    "    \"seed\": 434,\n",
    "}\n",
    "\n",
    "trainer_params = {\n",
    "    \"n_epochs_kl_warmup\": None,\n",
    "    \"n_epochs_pretrain_ae\": 30,\n",
    "    \"n_epochs_adv_warmup\": 50,\n",
    "    \"n_epochs_mixup_warmup\": 3,\n",
    "    \"mixup_alpha\": 0.1,\n",
    "    \"adv_steps\": 2,\n",
    "    \"n_hidden_adv\": 64,\n",
    "    \"n_layers_adv\": 2,\n",
    "    \"use_batch_norm_adv\": True,\n",
    "    \"use_layer_norm_adv\": False,\n",
    "    \"dropout_rate_adv\": 0.3,\n",
    "    \"reg_adv\": 20.0,\n",
    "    \"pen_adv\": 20.0,\n",
    "    \"lr\": 0.0003,\n",
    "    \"wd\": 4e-07,\n",
    "    \"adv_lr\": 0.0003,\n",
    "    \"adv_wd\": 4e-07,\n",
    "    \"adv_loss\": \"cce\",\n",
    "    \"doser_lr\": 0.0003,\n",
    "    \"doser_wd\": 4e-07,\n",
    "    \"do_clip_grad\": False,\n",
    "    \"gradient_clip_value\": 1.0,\n",
    "    \"step_size_lr\": 45,\n",
    "}"
   ]
  },
  {
   "cell_type": "code",
   "execution_count": 31,
   "id": "3e0f8100-c104-44ec-bc2f-025a42b4b917",
   "metadata": {},
   "outputs": [
    {
     "name": "stderr",
     "output_type": "stream",
     "text": [
      "[rank: 0] Global seed set to 434\n"
     ]
    }
   ],
   "source": [
    "model = cpa.CPA(adata=adata_train,\n",
    "                split_key='split_1ct_MEC',\n",
    "                train_split='train',\n",
    "                valid_split='valid',\n",
    "                **ae_hparams,\n",
    "               )"
   ]
  },
  {
   "cell_type": "code",
   "execution_count": 32,
   "id": "7e9ef73a-586e-4d35-9b9b-0a68942e8340",
   "metadata": {},
   "outputs": [
    {
     "name": "stderr",
     "output_type": "stream",
     "text": [
      "100%|██████████| 27/27 [00:00<00:00, 149.64it/s]\n",
      "GPU available: True (cuda), used: True\n",
      "TPU available: False, using: 0 TPU cores\n",
      "IPU available: False, using: 0 IPUs\n",
      "HPU available: False, using: 0 HPUs\n",
      "You are using a CUDA device ('NVIDIA A100-PCIE-40GB MIG 3g.20gb') that has Tensor Cores. To properly utilize them, you should set `torch.set_float32_matmul_precision('medium' | 'high')` which will trade-off precision for performance. For more details, read https://pytorch.org/docs/stable/generated/torch.set_float32_matmul_precision.html#torch.set_float32_matmul_precision\n",
      "LOCAL_RANK: 0 - CUDA_VISIBLE_DEVICES: [MIG-0adc0ca7-e2af-58d1-8394-4fe055a61ae9]\n"
     ]
    },
    {
     "name": "stdout",
     "output_type": "stream",
     "text": [
      "Epoch 5/2000:   0%|          | 4/2000 [01:50<13:48:30, 24.91s/it, v_num=1, recon=324, r2_mean=0.758, adv_loss=2.05, acc_pert=0.264]"
     ]
    },
    {
     "name": "stderr",
     "output_type": "stream",
     "text": [
      "\n",
      "Epoch 00004: cpa_metric reached. Module best state updated.\n"
     ]
    },
    {
     "name": "stdout",
     "output_type": "stream",
     "text": [
      "Epoch 10/2000:   0%|          | 9/2000 [03:56<13:34:02, 24.53s/it, v_num=1, recon=305, r2_mean=0.77, adv_loss=1.87, acc_pert=0.31, val_recon=317, disnt_basal=0.0674, disnt_after=0.0977, val_r2_mean=0.764, val_KL=nan] "
     ]
    },
    {
     "name": "stderr",
     "output_type": "stream",
     "text": [
      "\n",
      "Epoch 00009: cpa_metric reached. Module best state updated.\n"
     ]
    },
    {
     "name": "stdout",
     "output_type": "stream",
     "text": [
      "\n",
      "disnt_basal = 0.06105073488949605\n",
      "disnt_after = 0.08728626661978711\n",
      "val_r2_mean = 0.7703716002767814\n",
      "val_r2_var = 0.15538432900066673\n",
      "Epoch 20/2000:   1%|          | 19/2000 [08:11<14:29:29, 26.33s/it, v_num=1, recon=287, r2_mean=0.778, adv_loss=1.81, acc_pert=0.338, val_recon=295, disnt_basal=0.055, disnt_after=0.081, val_r2_mean=0.77, val_KL=nan]  "
     ]
    },
    {
     "name": "stderr",
     "output_type": "stream",
     "text": [
      "\n",
      "Epoch 00019: cpa_metric reached. Module best state updated.\n"
     ]
    },
    {
     "name": "stdout",
     "output_type": "stream",
     "text": [
      "\n",
      "disnt_basal = 0.051822259641276736\n",
      "disnt_after = 0.0774848472534904\n",
      "val_r2_mean = 0.7698026734888554\n",
      "val_r2_var = 0.15778332856671082\n",
      "Epoch 25/2000:   1%|          | 24/2000 [10:04<12:27:53, 22.71s/it, v_num=1, recon=282, r2_mean=0.779, adv_loss=1.81, acc_pert=0.343, val_recon=289, disnt_basal=0.0518, disnt_after=0.0775, val_r2_mean=0.77, val_KL=nan]"
     ]
    },
    {
     "name": "stderr",
     "output_type": "stream",
     "text": [
      "\n",
      "Epoch 00024: cpa_metric reached. Module best state updated.\n"
     ]
    },
    {
     "name": "stdout",
     "output_type": "stream",
     "text": [
      "Epoch 30/2000:   1%|▏         | 29/2000 [11:54<11:59:20, 21.90s/it, v_num=1, recon=279, r2_mean=0.78, adv_loss=1.83, acc_pert=0.34, val_recon=286, disnt_basal=0.05, disnt_after=0.0765, val_r2_mean=0.776, val_KL=nan]   "
     ]
    },
    {
     "name": "stderr",
     "output_type": "stream",
     "text": [
      "\n",
      "Epoch 00029: cpa_metric reached. Module best state updated.\n"
     ]
    },
    {
     "name": "stdout",
     "output_type": "stream",
     "text": [
      "\n",
      "disnt_basal = 0.04868616357164256\n",
      "disnt_after = 0.0749573109116601\n",
      "val_r2_mean = 0.7796722971831165\n",
      "val_r2_var = 0.1595033729432782\n",
      "Epoch 40/2000:   2%|▏         | 39/2000 [15:38<11:42:27, 21.49s/it, v_num=1, recon=276, r2_mean=0.78, adv_loss=3.38, acc_pert=0.0583, val_recon=284, disnt_basal=0.0376, disnt_after=0.0636, val_r2_mean=0.769, val_KL=nan] \n",
      "disnt_basal = 0.03519153009796981\n",
      "disnt_after = 0.06340509728817394\n",
      "val_r2_mean = 0.7730453771950124\n",
      "val_r2_var = 0.14884406946524267\n",
      "Epoch 50/2000:   2%|▏         | 49/2000 [20:05<15:32:25, 28.68s/it, v_num=1, recon=275, r2_mean=0.783, adv_loss=3.32, acc_pert=0.0476, val_recon=282, disnt_basal=0.0341, disnt_after=0.0647, val_r2_mean=0.775, val_KL=nan]\n",
      "disnt_basal = 0.034915270692351306\n",
      "disnt_after = 0.06483346123839044\n",
      "val_r2_mean = 0.7704133232713934\n",
      "val_r2_var = 0.14813100807661686\n",
      "Epoch 60/2000:   3%|▎         | 59/2000 [24:04<11:52:31, 22.03s/it, v_num=1, recon=273, r2_mean=0.783, adv_loss=3.3, acc_pert=0.0454, val_recon=281, disnt_basal=0.0347, disnt_after=0.0644, val_r2_mean=0.775, val_KL=nan] \n",
      "disnt_basal = 0.033471629939847536\n",
      "disnt_after = 0.0625120558372526\n",
      "val_r2_mean = 0.76874998861581\n",
      "val_r2_var = 0.1448837426178943\n",
      "Epoch 70/2000:   3%|▎         | 69/2000 [27:47<11:42:51, 21.84s/it, v_num=1, recon=272, r2_mean=0.782, adv_loss=3.3, acc_pert=0.0454, val_recon=281, disnt_basal=0.0332, disnt_after=0.0618, val_r2_mean=0.77, val_KL=nan]  \n",
      "disnt_basal = 0.03334245809040859\n",
      "disnt_after = 0.06270491074396611\n",
      "val_r2_mean = 0.7726664102254516\n",
      "val_r2_var = 0.14371797017545102\n",
      "Epoch 80/2000:   4%|▍         | 79/2000 [31:29<12:10:12, 22.81s/it, v_num=1, recon=272, r2_mean=0.784, adv_loss=3.29, acc_pert=0.0478, val_recon=280, disnt_basal=0.0332, disnt_after=0.0629, val_r2_mean=0.777, val_KL=nan]\n",
      "disnt_basal = 0.032602188861938684\n",
      "disnt_after = 0.061084107476819374\n",
      "val_r2_mean = 0.7746385477330865\n",
      "val_r2_var = 0.1478189126883774\n",
      "Epoch 80/2000:   4%|▍         | 80/2000 [31:54<12:45:56, 23.94s/it, v_num=1, recon=272, r2_mean=0.783, adv_loss=3.29, acc_pert=0.0439, val_recon=280, disnt_basal=0.0326, disnt_after=0.0611, val_r2_mean=0.775, val_KL=nan]\n"
     ]
    }
   ],
   "source": [
    "model.train(max_epochs=2000,\n",
    "            use_gpu=True,\n",
    "            batch_size=128,\n",
    "            plan_kwargs=trainer_params,\n",
    "            early_stopping_patience=10,\n",
    "            check_val_every_n_epoch=5,\n",
    "            save_path='/home/icb/dominik.klein/tmp',\n",
    "           )"
   ]
  },
  {
   "cell_type": "code",
   "execution_count": 34,
   "id": "20637c21-b74c-40ca-bd90-9b645fdf75ea",
   "metadata": {},
   "outputs": [
    {
     "name": "stderr",
     "output_type": "stream",
     "text": [
      "100%|██████████| 3100/3100 [00:00<00:00, 55508.63it/s]\n",
      "100%|██████████| 3100/3100 [00:00<00:00, 698449.85it/s]"
     ]
    },
    {
     "name": "stdout",
     "output_type": "stream",
     "text": [
      "\u001b[34mINFO    \u001b[0m Generating sequential column names                                                                        \n",
      "\u001b[34mINFO    \u001b[0m Generating sequential column names                                                                        \n"
     ]
    },
    {
     "name": "stderr",
     "output_type": "stream",
     "text": [
      "\n"
     ]
    }
   ],
   "source": [
    "cpa.CPA.setup_anndata(adata_test,\n",
    "                      perturbation_key='condition_ID',\n",
    "                      dosage_key='log_dose',\n",
    "                      control_group='CHEMBL504',\n",
    "                      batch_key=None,\n",
    "                      is_count_data=True,\n",
    "                      categorical_covariate_keys=['cell_type'],\n",
    "                      #deg_uns_key='rank_genes_groups_cov',\n",
    "                      deg_uns_cat_key='cov_drug_dose',\n",
    "                      max_comb_len=2,\n",
    "                     )"
   ]
  },
  {
   "cell_type": "code",
   "execution_count": 36,
   "id": "435c6698-c128-4236-8a55-5fdec1ec44b8",
   "metadata": {},
   "outputs": [
    {
     "name": "stdout",
     "output_type": "stream",
     "text": [
      "\u001b[34mINFO    \u001b[0m Input AnnData not setup with scvi-tools. attempting to transfer AnnData setup                             \n"
     ]
    },
    {
     "name": "stderr",
     "output_type": "stream",
     "text": [
      "100%|██████████| 97/97 [00:09<00:00, 10.44it/s]\n"
     ]
    }
   ],
   "source": [
    "model.predict(adata_test)"
   ]
  },
  {
   "cell_type": "code",
   "execution_count": 37,
   "id": "17aaf1b8-2745-4796-8fe6-7b6ffd394e1c",
   "metadata": {},
   "outputs": [],
   "source": [
    "preds = adata_test.obsm[\"CPA_pred\"]"
   ]
  },
  {
   "cell_type": "code",
   "execution_count": 39,
   "id": "5dfbee85-f71a-43e4-a6f1-a25fb429152a",
   "metadata": {},
   "outputs": [],
   "source": [
    "preds_transformed = np.log1p(preds) - adata_train.varm[\"X_train_mean\"].T"
   ]
  },
  {
   "cell_type": "code",
   "execution_count": 40,
   "id": "c1ce8004-25f9-4a08-be81-c46367dca563",
   "metadata": {},
   "outputs": [],
   "source": [
    "preds_pca = np.matmul(preds_transformed, adata_train.varm[\"PCs\"])"
   ]
  },
  {
   "cell_type": "code",
   "execution_count": 44,
   "id": "0eab9e0b-597a-4c25-9f48-8b128ef47bfa",
   "metadata": {},
   "outputs": [],
   "source": [
    "from sklearn.metrics import r2_score\n",
    "def compute_r_squared(x: np.ndarray, y: np.ndarray) -> float:\n",
    "    return r2_score(np.mean(x, axis=0), np.mean(y, axis=0))"
   ]
  },
  {
   "cell_type": "code",
   "execution_count": 45,
   "id": "471de162-6729-4a5b-ae2c-5b1b3c0ec609",
   "metadata": {},
   "outputs": [
    {
     "data": {
      "text/plain": [
       "0.09886690381324148"
      ]
     },
     "execution_count": 45,
     "metadata": {},
     "output_type": "execute_result"
    }
   ],
   "source": [
    "compute_r_squared(preds_pca, adata_test.obsm[\"X_pca\"])"
   ]
  },
  {
   "cell_type": "code",
   "execution_count": 48,
   "id": "f04d22b5-541a-4892-b76b-52e3d0f8ecfc",
   "metadata": {},
   "outputs": [
    {
     "name": "stdout",
     "output_type": "stream",
     "text": [
      "0.34438544073424004\n",
      "0.1279698933576051\n",
      "0.3213337024371157\n",
      "0.10061251122244574\n",
      "0.36890969872293133\n",
      "0.13607129870449097\n",
      "0.08431512902232974\n",
      "0.25162152604749743\n",
      "0.5129804403205669\n",
      "0.5828165329413706\n",
      "0.2029535479578234\n",
      "0.18308820882565902\n",
      "0.5734076802806412\n",
      "0.5138577994047702\n",
      "0.18973352856416803\n",
      "0.14061380055752426\n",
      "0.4848864092867873\n",
      "-0.0031861184002539567\n",
      "0.20230529308478584\n",
      "0.30049606584391364\n",
      "0.47576900377466136\n",
      "0.39210123680807407\n",
      "0.1010373832260254\n",
      "0.3210569501636119\n",
      "0.20962461964054957\n",
      "0.19873090795045179\n",
      "0.5496680196167159\n"
     ]
    }
   ],
   "source": [
    "for cond in adata_test.obs[\"condition\"].unique():\n",
    "    mask = adata_test.obs[\"condition\"]==cond\n",
    "    print(compute_r_squared(preds_pca[mask], adata_test.obsm[\"X_pca\"][mask]))"
   ]
  },
  {
   "cell_type": "code",
   "execution_count": 49,
   "id": "d5b98a79-2b62-4250-b782-80c2feeb69ad",
   "metadata": {},
   "outputs": [
    {
     "name": "stderr",
     "output_type": "stream",
     "text": [
      "100%|██████████| 1610/1610 [00:38<00:00, 41.85it/s]\n"
     ]
    }
   ],
   "source": [
    "model.predict(adata_train)"
   ]
  },
  {
   "cell_type": "code",
   "execution_count": 50,
   "id": "dc337d2f-62d6-40a4-b81b-6b5e2c18a13b",
   "metadata": {},
   "outputs": [],
   "source": [
    "preds_train = adata_train.obsm[\"CPA_pred\"]"
   ]
  },
  {
   "cell_type": "code",
   "execution_count": 68,
   "id": "bcb24950-8e1d-4d60-bbbf-4d381c8389ec",
   "metadata": {},
   "outputs": [],
   "source": [
    "preds_transformed = np.log1p(preds_train)# - adata_train.varm[\"X_train_mean\"].T\n"
   ]
  },
  {
   "cell_type": "code",
   "execution_count": 69,
   "id": "b47a412c-9365-416b-a772-9eadfedeb8ee",
   "metadata": {},
   "outputs": [],
   "source": [
    "preds_pca = np.matmul(preds_transformed, adata_train.varm[\"PCs\"])"
   ]
  },
  {
   "cell_type": "code",
   "execution_count": 70,
   "id": "60f404a9-0d7b-4ac6-9d52-b6303dda219e",
   "metadata": {},
   "outputs": [],
   "source": [
    "r_sq = []\n",
    "for cond in adata_train.obs[\"condition\"].unique():\n",
    "    mask = adata_train.obs[\"condition\"]==cond\n",
    "    r_sq.append(compute_r_squared(preds_pca[mask], adata_train.obsm[\"X_pca\"][mask]))"
   ]
  },
  {
   "cell_type": "code",
   "execution_count": 71,
   "id": "0520d82f-d8ce-4173-b67f-6963b5fef8d4",
   "metadata": {},
   "outputs": [
    {
     "data": {
      "text/plain": [
       "0.09509438673943207"
      ]
     },
     "execution_count": 71,
     "metadata": {},
     "output_type": "execute_result"
    }
   ],
   "source": [
    "np.mean(r_sq)"
   ]
  },
  {
   "cell_type": "code",
   "execution_count": 65,
   "id": "d532f34a-dc17-4b4f-8ac2-185106ea8579",
   "metadata": {},
   "outputs": [
    {
     "name": "stdout",
     "output_type": "stream",
     "text": [
      "0.7079890896416374\n",
      "0.7852126407214503\n",
      "0.7170051077923891\n",
      "0.7208312405015089\n",
      "0.7174221488716672\n",
      "0.7216635689356032\n",
      "0.7643589130338904\n",
      "0.7676239033387463\n",
      "0.7188363671046893\n",
      "0.7682608480738357\n",
      "0.767989607435603\n",
      "0.7178098714201733\n",
      "0.7212296536460536\n",
      "0.7236464867354333\n",
      "0.7716459615276396\n",
      "0.7748850336795494\n",
      "0.7700496906585557\n",
      "0.7584686012892354\n",
      "0.7317954129796195\n",
      "0.7847754870348104\n",
      "0.7634854083538256\n",
      "0.7110528650012624\n",
      "0.778188447906329\n",
      "0.7663576627137513\n",
      "0.7670877167627943\n",
      "0.7799535751042828\n",
      "0.7621037279637786\n"
     ]
    }
   ],
   "source": [
    "for cond in adata_train.obs[\"condition\"].unique():\n",
    "    mask = adata_train.obs[\"condition\"]==cond\n",
    "    print(compute_r_squared(preds_train[mask], np.log1p(adata_train.X[mask].A)))"
   ]
  },
  {
   "cell_type": "code",
   "execution_count": 59,
   "id": "29ca0dc9-0627-4a80-b9e1-2f63d381d3e0",
   "metadata": {},
   "outputs": [
    {
     "data": {
      "text/plain": [
       "Index(['Alvespimycin+Pirarubicin', 'Cediranib+PCI-34051',\n",
       "       'Dacinostat+Dasatinib', 'Dacinostat+PCI-34051', 'Givinostat+Carmofur',\n",
       "       'Givinostat+Cediranib', 'Givinostat+Crizotinib', 'Givinostat+Curcumin',\n",
       "       'Givinostat+Dasatinib', 'Givinostat+SRT2104', 'Givinostat+Sorafenib',\n",
       "       'Givinostat+Tanespimycin', 'Panobinostat+Alvespimycin',\n",
       "       'Panobinostat+Crizotinib', 'Panobinostat+Dasatinib',\n",
       "       'Panobinostat+SRT1720', 'Panobinostat+SRT2104', 'Panobinostat+SRT3025',\n",
       "       'Panobinostat+Sorafenib', 'SRT3025+Cediranib', 'control',\n",
       "       'control+Alvespimycin', 'control+Dacinostat', 'control+Dasatinib',\n",
       "       'control+Givinostat', 'control+Panobinostat', 'control+SRT2104'],\n",
       "      dtype='object')"
      ]
     },
     "execution_count": 59,
     "metadata": {},
     "output_type": "execute_result"
    }
   ],
   "source": [
    "adata_train.obs[\"condition\"].cat.categories"
   ]
  },
  {
   "cell_type": "code",
   "execution_count": 60,
   "id": "11d50285-8e6e-4404-8ac4-af5ff6d2f240",
   "metadata": {},
   "outputs": [
    {
     "data": {
      "text/plain": [
       "View of AnnData object with n_obs × n_vars = 951 × 2000\n",
       "    obs: 'sample', 'Size_Factor', 'n.umi', 'RT_well', 'Drug1', 'Drug2', 'Well', 'n_genes', 'n_genes_by_counts', 'total_counts', 'total_counts_mt', 'pct_counts_mt', 'leiden', 'condition', 'pathway1', 'pathway2', 'split', 'control', 'cell_type', 'perturbation', 'cell_line', 'smiles_drug_1', 'smiles_drug_2', 'cov_drug_dose', 'condition_ID', 'log_dose', 'split_1ct_MEC', 'CPA_cat', 'CPA_CHEMBL504', '_scvi_condition_ID', '_scvi_cell_type', '_scvi_CPA_cat'\n",
       "    var: 'id', 'n_cells', 'mt', 'n_cells_by_counts', 'mean_counts', 'pct_dropout_by_counts', 'total_counts', 'highly_variable', 'means', 'dispersions', 'dispersions_norm'\n",
       "    uns: 'Drug1_colors', 'Drug2_colors', 'Well_colors', 'dendrogram_leiden', 'hvg', 'leiden', 'leiden_colors', 'log1p', 'neighbors', 'pathway1_colors', 'pathway2_colors', 'pathway_colors', 'pca', 'rank_genes_groups', 'umap', '_scvi_uuid', '_scvi_manager_uuid'\n",
       "    obsm: 'X_pca', 'X_umap', 'ecfp_drug_1', 'ecfp_drug_2', 'perts', 'perts_doses', 'CPA_pred'\n",
       "    varm: 'PCs', 'X_train_mean'\n",
       "    layers: 'counts'\n",
       "    obsp: 'connectivities', 'distances'"
      ]
     },
     "execution_count": 60,
     "metadata": {},
     "output_type": "execute_result"
    }
   ],
   "source": [
    "adata_train[adata_train.obs[\"condition\"]==\"control\"]"
   ]
  },
  {
   "cell_type": "code",
   "execution_count": 62,
   "id": "b7e797e5-b5cd-4695-9e8f-f155d35734b9",
   "metadata": {},
   "outputs": [
    {
     "name": "stdout",
     "output_type": "stream",
     "text": [
      "control+Panobinostat\n",
      "-4.584203913313214\n",
      "Cediranib+PCI-34051\n",
      "0.9687576315115285\n",
      "Panobinostat+SRT3025\n",
      "-5.589372510568429\n",
      "control+Dacinostat\n",
      "-1.878039579406424\n",
      "Dacinostat+PCI-34051\n",
      "-2.804233910226501\n",
      "Panobinostat+Sorafenib\n",
      "-5.651873848829433\n",
      "Givinostat+Cediranib\n",
      "0.5546720514524565\n",
      "control+Givinostat\n",
      "0.581415323480418\n",
      "Panobinostat+Dasatinib\n",
      "-5.11655893934242\n",
      "Givinostat+Tanespimycin\n",
      "0.21983898888315656\n",
      "Givinostat+Carmofur\n",
      "0.44945083012097375\n",
      "Panobinostat+SRT2104\n",
      "-4.907405590157562\n",
      "Panobinostat+SRT1720\n",
      "-4.276006172490676\n",
      "Panobinostat+Crizotinib\n",
      "-6.4672796620208945\n",
      "Alvespimycin+Pirarubicin\n",
      "-0.25438013121253866\n",
      "control\n",
      "1.0\n",
      "Givinostat+SRT2104\n",
      "0.6273838804245343\n",
      "Givinostat+Sorafenib\n",
      "-0.3841022121501523\n",
      "Panobinostat+Alvespimycin\n",
      "-6.050032366282577\n",
      "control+Alvespimycin\n",
      "-0.13728521408259486\n",
      "Givinostat+Dasatinib\n",
      "0.5750928475222632\n",
      "Dacinostat+Dasatinib\n",
      "-2.578995602988634\n",
      "control+SRT2104\n",
      "0.9841166905775888\n",
      "Givinostat+Curcumin\n",
      "0.619385224315471\n",
      "Givinostat+Crizotinib\n",
      "0.4880410463150848\n",
      "SRT3025+Cediranib\n",
      "0.9911078214031166\n",
      "control+Dasatinib\n",
      "0.5020999343836489\n"
     ]
    }
   ],
   "source": [
    "source = adata_train[adata_train.obs[\"condition\"]==\"control\"].obsm[\"X_pca\"]\n",
    "for cond in adata_train.obs[\"condition\"].unique():\n",
    "    mask = adata_train.obs[\"condition\"]==cond\n",
    "    print(compute_r_squared(source, adata_train.obsm[\"X_pca\"][mask]))"
   ]
  },
  {
   "cell_type": "code",
   "execution_count": null,
   "id": "400189cc-8771-42e8-a7c5-ad99859cf94e",
   "metadata": {},
   "outputs": [],
   "source": []
  },
  {
   "cell_type": "code",
   "execution_count": 46,
   "id": "60a28eaf-ee27-4135-bf6b-0a933b35e44d",
   "metadata": {},
   "outputs": [
    {
     "data": {
      "text/plain": [
       "0.12769485630722444"
      ]
     },
     "execution_count": 46,
     "metadata": {},
     "output_type": "execute_result"
    }
   ],
   "source": [
    "compute_r_squared(preds_pca[:100], adata_test.obsm[\"X_pca\"][:100])"
   ]
  },
  {
   "cell_type": "code",
   "execution_count": 178,
   "id": "e2d83bb1-6797-48f8-aa4a-05a6ed5d8e35",
   "metadata": {},
   "outputs": [
    {
     "name": "stderr",
     "output_type": "stream",
     "text": [
      "100%|██████████| 9277/9277 [00:00<00:00, 70103.05it/s]\n",
      "100%|██████████| 9277/9277 [00:00<00:00, 917766.78it/s]"
     ]
    },
    {
     "name": "stdout",
     "output_type": "stream",
     "text": [
      "\u001b[34mINFO    \u001b[0m Generating sequential column names                                                                        \n",
      "\u001b[34mINFO    \u001b[0m Generating sequential column names                                                                        \n"
     ]
    },
    {
     "name": "stderr",
     "output_type": "stream",
     "text": [
      "\n"
     ]
    }
   ],
   "source": [
    "cpa.CPA.setup_anndata(adata_ood,\n",
    "                      perturbation_key='condition_ID',\n",
    "                      dosage_key='log_dose',\n",
    "                      control_group='CHEMBL504',\n",
    "                      batch_key=None,\n",
    "                      is_count_data=True,\n",
    "                      categorical_covariate_keys=['cell_type'],\n",
    "                      #deg_uns_key='rank_genes_groups_cov',\n",
    "                      deg_uns_cat_key='cov_drug_dose',\n",
    "                      max_comb_len=2,\n",
    "                     )"
   ]
  },
  {
   "cell_type": "code",
   "execution_count": 179,
   "id": "f5956d8b-b5bc-4ebd-9a7a-1e7e606d97c8",
   "metadata": {},
   "outputs": [
    {
     "name": "stdout",
     "output_type": "stream",
     "text": [
      "\u001b[34mINFO    \u001b[0m Input AnnData not setup with scvi-tools. attempting to transfer AnnData setup                             \n"
     ]
    },
    {
     "name": "stderr",
     "output_type": "stream",
     "text": [
      "100%|██████████| 97/97 [00:00<00:00, 127.72it/s]\n"
     ]
    }
   ],
   "source": [
    "model.predict(adata_test)"
   ]
  },
  {
   "cell_type": "code",
   "execution_count": 180,
   "id": "27cefb3c-4ccf-4f54-9278-1a445fe27764",
   "metadata": {},
   "outputs": [],
   "source": [
    "preds = adata_test.obsm[\"CPA_pred\"]"
   ]
  },
  {
   "cell_type": "code",
   "execution_count": 183,
   "id": "b896a85c-877d-4f49-8fec-330aa6396449",
   "metadata": {},
   "outputs": [],
   "source": [
    "preds_pca = np.matmul(preds, adata_train.varm[\"PCs\"])"
   ]
  },
  {
   "cell_type": "code",
   "execution_count": 192,
   "id": "e4a34ea1-36e0-479f-9825-f0cb05a5ed7f",
   "metadata": {},
   "outputs": [
    {
     "name": "stderr",
     "output_type": "stream",
     "text": [
      "100%|██████████| 1610/1610 [00:30<00:00, 51.96it/s]\n"
     ]
    }
   ],
   "source": [
    "model.predict(adata_train)"
   ]
  },
  {
   "cell_type": "code",
   "execution_count": 193,
   "id": "5b8e1b9d-8329-4a7f-a784-58f1ba5b07f2",
   "metadata": {},
   "outputs": [],
   "source": [
    "preds_train = adata_train.obsm[\"CPA_pred\"]"
   ]
  },
  {
   "cell_type": "code",
   "execution_count": 199,
   "id": "98920ac7-fb98-4411-a399-d34da6074973",
   "metadata": {},
   "outputs": [
    {
     "data": {
      "text/plain": [
       "((51501, 2000), (51501, 2000))"
      ]
     },
     "execution_count": 199,
     "metadata": {},
     "output_type": "execute_result"
    }
   ],
   "source": [
    "adata_train.X.shape, preds_train.shape"
   ]
  },
  {
   "cell_type": "code",
   "execution_count": 200,
   "id": "6799483c-9c50-4fe3-bae6-eb08cdd33c04",
   "metadata": {},
   "outputs": [
    {
     "data": {
      "text/plain": [
       "0.9963734489445446"
      ]
     },
     "execution_count": 200,
     "metadata": {},
     "output_type": "execute_result"
    }
   ],
   "source": [
    "compute_r_squared(preds_train, adata_train.X.A)"
   ]
  },
  {
   "cell_type": "code",
   "execution_count": 215,
   "id": "93c2bb18-ae04-498a-8a21-224837eee3f5",
   "metadata": {},
   "outputs": [],
   "source": [
    "preds_train_log = np.log1p(preds_train) - adata_train.varm[\"X_train_mean\"].T"
   ]
  },
  {
   "cell_type": "code",
   "execution_count": 223,
   "id": "7899f422-3866-427f-93d6-2bfda5fbf00a",
   "metadata": {},
   "outputs": [
    {
     "data": {
      "text/plain": [
       "-0.015940763"
      ]
     },
     "execution_count": 223,
     "metadata": {},
     "output_type": "execute_result"
    }
   ],
   "source": [
    "(np.log1p(preds_train).mean(axis=0) - adata_train.varm[\"X_train_mean\"]).mean()"
   ]
  },
  {
   "cell_type": "code",
   "execution_count": 221,
   "id": "0182b4d4-a8b0-4f4b-8a85-5596f62a11a8",
   "metadata": {},
   "outputs": [
    {
     "data": {
      "text/plain": [
       "array([[0.10696691],\n",
       "       [0.01764269],\n",
       "       [0.07884356],\n",
       "       ...,\n",
       "       [0.00024302],\n",
       "       [0.00037494],\n",
       "       [0.00057457]], dtype=float32)"
      ]
     },
     "execution_count": 221,
     "metadata": {},
     "output_type": "execute_result"
    }
   ],
   "source": [
    "adata_train.varm[\"X_train_mean\"]"
   ]
  },
  {
   "cell_type": "code",
   "execution_count": 216,
   "id": "def34bee-fa7c-49d6-819b-6452040292b6",
   "metadata": {},
   "outputs": [],
   "source": [
    "preds_train_pca = np.matmul(preds_train_log, adata_train.varm[\"PCs\"])"
   ]
  },
  {
   "cell_type": "code",
   "execution_count": null,
   "id": "f280071d-d665-4a8b-be0d-7bfa31723e39",
   "metadata": {},
   "outputs": [],
   "source": [
    "true_train_pca = np.matmul(adata_train, adata_train.varm[\"PCs\"])"
   ]
  },
  {
   "cell_type": "code",
   "execution_count": 218,
   "id": "ee03d7bf-f8fa-47d0-b54b-e6b4126220b0",
   "metadata": {},
   "outputs": [
    {
     "data": {
      "text/plain": [
       "-0.01202978864684412"
      ]
     },
     "execution_count": 218,
     "metadata": {},
     "output_type": "execute_result"
    }
   ],
   "source": [
    "compute_r_squared(preds_train_pca, adata_train.obsm[\"X_pca\"])"
   ]
  },
  {
   "cell_type": "code",
   "execution_count": 219,
   "id": "83e0e252-7d31-4bb6-b134-4cf2e4e6897a",
   "metadata": {},
   "outputs": [
    {
     "data": {
      "text/plain": [
       "(7.5745454e-10, 5.176859)"
      ]
     },
     "execution_count": 219,
     "metadata": {},
     "output_type": "execute_result"
    }
   ],
   "source": [
    "preds_train[0].min(), preds_train[0].max()"
   ]
  },
  {
   "cell_type": "code",
   "execution_count": 186,
   "id": "c4be56eb-3fa4-4a09-b097-4a90248baabf",
   "metadata": {},
   "outputs": [
    {
     "name": "stdout",
     "output_type": "stream",
     "text": [
      "\u001b[34mINFO    \u001b[0m Input AnnData not setup with scvi-tools. attempting to transfer AnnData setup                             \n"
     ]
    },
    {
     "ename": "ValueError",
     "evalue": "Category CHEMBL1213492+CHEMBL257991 not found in source registry. Cannot transfer setup without `extend_categories = True`.",
     "output_type": "error",
     "traceback": [
      "\u001b[0;31m---------------------------------------------------------------------------\u001b[0m",
      "\u001b[0;31mValueError\u001b[0m                                Traceback (most recent call last)",
      "Cell \u001b[0;32mIn[186], line 1\u001b[0m\n\u001b[0;32m----> 1\u001b[0m \u001b[43mmodel\u001b[49m\u001b[38;5;241;43m.\u001b[39;49m\u001b[43mpredict\u001b[49m\u001b[43m(\u001b[49m\u001b[43madata_ood\u001b[49m\u001b[43m)\u001b[49m\n",
      "File \u001b[0;32m/lustre/groups/ml01/workspace/ot_pert_new/conda_envs/ot_pert_cpa/lib/python3.9/site-packages/torch/utils/_contextlib.py:115\u001b[0m, in \u001b[0;36mcontext_decorator.<locals>.decorate_context\u001b[0;34m(*args, **kwargs)\u001b[0m\n\u001b[1;32m    112\u001b[0m \u001b[38;5;129m@functools\u001b[39m\u001b[38;5;241m.\u001b[39mwraps(func)\n\u001b[1;32m    113\u001b[0m \u001b[38;5;28;01mdef\u001b[39;00m \u001b[38;5;21mdecorate_context\u001b[39m(\u001b[38;5;241m*\u001b[39margs, \u001b[38;5;241m*\u001b[39m\u001b[38;5;241m*\u001b[39mkwargs):\n\u001b[1;32m    114\u001b[0m     \u001b[38;5;28;01mwith\u001b[39;00m ctx_factory():\n\u001b[0;32m--> 115\u001b[0m         \u001b[38;5;28;01mreturn\u001b[39;00m \u001b[43mfunc\u001b[49m\u001b[43m(\u001b[49m\u001b[38;5;241;43m*\u001b[39;49m\u001b[43margs\u001b[49m\u001b[43m,\u001b[49m\u001b[43m \u001b[49m\u001b[38;5;241;43m*\u001b[39;49m\u001b[38;5;241;43m*\u001b[39;49m\u001b[43mkwargs\u001b[49m\u001b[43m)\u001b[49m\n",
      "File \u001b[0;32m/lustre/groups/ml01/workspace/ot_pert_new/conda_envs/ot_pert_cpa/lib/python3.9/site-packages/cpa/_model.py:677\u001b[0m, in \u001b[0;36mCPA.predict\u001b[0;34m(self, adata, indices, batch_size, n_samples, return_mean)\u001b[0m\n\u001b[1;32m    674\u001b[0m \u001b[38;5;28;01massert\u001b[39;00m \u001b[38;5;28mself\u001b[39m\u001b[38;5;241m.\u001b[39mmodule\u001b[38;5;241m.\u001b[39mrecon_loss \u001b[38;5;129;01min\u001b[39;00m [\u001b[38;5;124m\"\u001b[39m\u001b[38;5;124mgauss\u001b[39m\u001b[38;5;124m\"\u001b[39m, \u001b[38;5;124m\"\u001b[39m\u001b[38;5;124mnb\u001b[39m\u001b[38;5;124m\"\u001b[39m, \u001b[38;5;124m\"\u001b[39m\u001b[38;5;124mzinb\u001b[39m\u001b[38;5;124m\"\u001b[39m]\n\u001b[1;32m    675\u001b[0m \u001b[38;5;28mself\u001b[39m\u001b[38;5;241m.\u001b[39mmodule\u001b[38;5;241m.\u001b[39meval()\n\u001b[0;32m--> 677\u001b[0m adata \u001b[38;5;241m=\u001b[39m \u001b[38;5;28;43mself\u001b[39;49m\u001b[38;5;241;43m.\u001b[39;49m\u001b[43m_validate_anndata\u001b[49m\u001b[43m(\u001b[49m\u001b[43madata\u001b[49m\u001b[43m)\u001b[49m\n\u001b[1;32m    678\u001b[0m \u001b[38;5;28;01mif\u001b[39;00m indices \u001b[38;5;129;01mis\u001b[39;00m \u001b[38;5;28;01mNone\u001b[39;00m:\n\u001b[1;32m    679\u001b[0m     indices \u001b[38;5;241m=\u001b[39m np\u001b[38;5;241m.\u001b[39marange(adata\u001b[38;5;241m.\u001b[39mn_obs)\n",
      "File \u001b[0;32m/lustre/groups/ml01/workspace/ot_pert_new/conda_envs/ot_pert_cpa/lib/python3.9/site-packages/scvi/model/base/_base_model.py:415\u001b[0m, in \u001b[0;36mBaseModelClass._validate_anndata\u001b[0;34m(self, adata, copy_if_view)\u001b[0m\n\u001b[1;32m    409\u001b[0m \u001b[38;5;28;01mif\u001b[39;00m adata_manager \u001b[38;5;129;01mis\u001b[39;00m \u001b[38;5;28;01mNone\u001b[39;00m:\n\u001b[1;32m    410\u001b[0m     logger\u001b[38;5;241m.\u001b[39minfo(\n\u001b[1;32m    411\u001b[0m         \u001b[38;5;124m\"\u001b[39m\u001b[38;5;124mInput AnnData not setup with scvi-tools. \u001b[39m\u001b[38;5;124m\"\u001b[39m\n\u001b[1;32m    412\u001b[0m         \u001b[38;5;241m+\u001b[39m \u001b[38;5;124m\"\u001b[39m\u001b[38;5;124mattempting to transfer AnnData setup\u001b[39m\u001b[38;5;124m\"\u001b[39m\n\u001b[1;32m    413\u001b[0m     )\n\u001b[1;32m    414\u001b[0m     \u001b[38;5;28mself\u001b[39m\u001b[38;5;241m.\u001b[39m_register_manager_for_instance(\n\u001b[0;32m--> 415\u001b[0m         \u001b[38;5;28;43mself\u001b[39;49m\u001b[38;5;241;43m.\u001b[39;49m\u001b[43madata_manager\u001b[49m\u001b[38;5;241;43m.\u001b[39;49m\u001b[43mtransfer_fields\u001b[49m\u001b[43m(\u001b[49m\u001b[43madata\u001b[49m\u001b[43m)\u001b[49m\n\u001b[1;32m    416\u001b[0m     )\n\u001b[1;32m    417\u001b[0m \u001b[38;5;28;01melse\u001b[39;00m:\n\u001b[1;32m    418\u001b[0m     \u001b[38;5;66;03m# Case where correct AnnDataManager is found, replay registration as necessary.\u001b[39;00m\n\u001b[1;32m    419\u001b[0m     adata_manager\u001b[38;5;241m.\u001b[39mvalidate()\n",
      "File \u001b[0;32m/lustre/groups/ml01/workspace/ot_pert_new/conda_envs/ot_pert_cpa/lib/python3.9/site-packages/scvi/data/_manager.py:277\u001b[0m, in \u001b[0;36mAnnDataManager.transfer_fields\u001b[0;34m(self, adata_target, **kwargs)\u001b[0m\n\u001b[1;32m    271\u001b[0m fields \u001b[38;5;241m=\u001b[39m \u001b[38;5;28mself\u001b[39m\u001b[38;5;241m.\u001b[39mfields\n\u001b[1;32m    272\u001b[0m new_adata_manager \u001b[38;5;241m=\u001b[39m \u001b[38;5;28mself\u001b[39m\u001b[38;5;241m.\u001b[39m\u001b[38;5;18m__class__\u001b[39m(\n\u001b[1;32m    273\u001b[0m     fields\u001b[38;5;241m=\u001b[39mfields,\n\u001b[1;32m    274\u001b[0m     setup_method_args\u001b[38;5;241m=\u001b[39m\u001b[38;5;28mself\u001b[39m\u001b[38;5;241m.\u001b[39m_get_setup_method_args(),\n\u001b[1;32m    275\u001b[0m     validation_checks\u001b[38;5;241m=\u001b[39m\u001b[38;5;28mself\u001b[39m\u001b[38;5;241m.\u001b[39mvalidation_checks,\n\u001b[1;32m    276\u001b[0m )\n\u001b[0;32m--> 277\u001b[0m \u001b[43mnew_adata_manager\u001b[49m\u001b[38;5;241;43m.\u001b[39;49m\u001b[43mregister_fields\u001b[49m\u001b[43m(\u001b[49m\u001b[43madata_target\u001b[49m\u001b[43m,\u001b[49m\u001b[43m \u001b[49m\u001b[38;5;28;43mself\u001b[39;49m\u001b[38;5;241;43m.\u001b[39;49m\u001b[43m_registry\u001b[49m\u001b[43m,\u001b[49m\u001b[43m \u001b[49m\u001b[38;5;241;43m*\u001b[39;49m\u001b[38;5;241;43m*\u001b[39;49m\u001b[43mkwargs\u001b[49m\u001b[43m)\u001b[49m\n\u001b[1;32m    278\u001b[0m \u001b[38;5;28;01mreturn\u001b[39;00m new_adata_manager\n",
      "File \u001b[0;32m/lustre/groups/ml01/workspace/ot_pert_new/conda_envs/ot_pert_cpa/lib/python3.9/site-packages/scvi/data/_manager.py:174\u001b[0m, in \u001b[0;36mAnnDataManager.register_fields\u001b[0;34m(self, adata, source_registry, **transfer_kwargs)\u001b[0m\n\u001b[1;32m    171\u001b[0m \u001b[38;5;28mself\u001b[39m\u001b[38;5;241m.\u001b[39m_validate_anndata_object(adata)\n\u001b[1;32m    173\u001b[0m \u001b[38;5;28;01mfor\u001b[39;00m field \u001b[38;5;129;01min\u001b[39;00m \u001b[38;5;28mself\u001b[39m\u001b[38;5;241m.\u001b[39mfields:\n\u001b[0;32m--> 174\u001b[0m     \u001b[38;5;28;43mself\u001b[39;49m\u001b[38;5;241;43m.\u001b[39;49m\u001b[43m_add_field\u001b[49m\u001b[43m(\u001b[49m\n\u001b[1;32m    175\u001b[0m \u001b[43m        \u001b[49m\u001b[43mfield\u001b[49m\u001b[38;5;241;43m=\u001b[39;49m\u001b[43mfield\u001b[49m\u001b[43m,\u001b[49m\n\u001b[1;32m    176\u001b[0m \u001b[43m        \u001b[49m\u001b[43madata\u001b[49m\u001b[38;5;241;43m=\u001b[39;49m\u001b[43madata\u001b[49m\u001b[43m,\u001b[49m\n\u001b[1;32m    177\u001b[0m \u001b[43m        \u001b[49m\u001b[43msource_registry\u001b[49m\u001b[38;5;241;43m=\u001b[39;49m\u001b[43msource_registry\u001b[49m\u001b[43m,\u001b[49m\n\u001b[1;32m    178\u001b[0m \u001b[43m        \u001b[49m\u001b[38;5;241;43m*\u001b[39;49m\u001b[38;5;241;43m*\u001b[39;49m\u001b[43mtransfer_kwargs\u001b[49m\u001b[43m,\u001b[49m\n\u001b[1;32m    179\u001b[0m \u001b[43m    \u001b[49m\u001b[43m)\u001b[49m\n\u001b[1;32m    181\u001b[0m \u001b[38;5;66;03m# Save arguments for register_fields.\u001b[39;00m\n\u001b[1;32m    182\u001b[0m \u001b[38;5;28mself\u001b[39m\u001b[38;5;241m.\u001b[39m_source_registry \u001b[38;5;241m=\u001b[39m deepcopy(source_registry)\n",
      "File \u001b[0;32m/lustre/groups/ml01/workspace/ot_pert_new/conda_envs/ot_pert_cpa/lib/python3.9/site-packages/scvi/data/_manager.py:209\u001b[0m, in \u001b[0;36mAnnDataManager._add_field\u001b[0;34m(self, field, adata, source_registry, **transfer_kwargs)\u001b[0m\n\u001b[1;32m    206\u001b[0m \u001b[38;5;28;01mif\u001b[39;00m \u001b[38;5;129;01mnot\u001b[39;00m field\u001b[38;5;241m.\u001b[39mis_empty:\n\u001b[1;32m    207\u001b[0m     \u001b[38;5;66;03m# Transfer case: Source registry is used for validation and/or setup.\u001b[39;00m\n\u001b[1;32m    208\u001b[0m     \u001b[38;5;28;01mif\u001b[39;00m source_registry \u001b[38;5;129;01mis\u001b[39;00m \u001b[38;5;129;01mnot\u001b[39;00m \u001b[38;5;28;01mNone\u001b[39;00m:\n\u001b[0;32m--> 209\u001b[0m         field_registry[_constants\u001b[38;5;241m.\u001b[39m_STATE_REGISTRY_KEY] \u001b[38;5;241m=\u001b[39m \u001b[43mfield\u001b[49m\u001b[38;5;241;43m.\u001b[39;49m\u001b[43mtransfer_field\u001b[49m\u001b[43m(\u001b[49m\n\u001b[1;32m    210\u001b[0m \u001b[43m            \u001b[49m\u001b[43msource_registry\u001b[49m\u001b[43m[\u001b[49m\u001b[43m_constants\u001b[49m\u001b[38;5;241;43m.\u001b[39;49m\u001b[43m_FIELD_REGISTRIES_KEY\u001b[49m\u001b[43m]\u001b[49m\u001b[43m[\u001b[49m\n\u001b[1;32m    211\u001b[0m \u001b[43m                \u001b[49m\u001b[43mfield\u001b[49m\u001b[38;5;241;43m.\u001b[39;49m\u001b[43mregistry_key\u001b[49m\n\u001b[1;32m    212\u001b[0m \u001b[43m            \u001b[49m\u001b[43m]\u001b[49m\u001b[43m[\u001b[49m\u001b[43m_constants\u001b[49m\u001b[38;5;241;43m.\u001b[39;49m\u001b[43m_STATE_REGISTRY_KEY\u001b[49m\u001b[43m]\u001b[49m\u001b[43m,\u001b[49m\n\u001b[1;32m    213\u001b[0m \u001b[43m            \u001b[49m\u001b[43madata\u001b[49m\u001b[43m,\u001b[49m\n\u001b[1;32m    214\u001b[0m \u001b[43m            \u001b[49m\u001b[38;5;241;43m*\u001b[39;49m\u001b[38;5;241;43m*\u001b[39;49m\u001b[43mtransfer_kwargs\u001b[49m\u001b[43m,\u001b[49m\n\u001b[1;32m    215\u001b[0m \u001b[43m        \u001b[49m\u001b[43m)\u001b[49m\n\u001b[1;32m    216\u001b[0m     \u001b[38;5;28;01melse\u001b[39;00m:\n\u001b[1;32m    217\u001b[0m         field_registry[_constants\u001b[38;5;241m.\u001b[39m_STATE_REGISTRY_KEY] \u001b[38;5;241m=\u001b[39m field\u001b[38;5;241m.\u001b[39mregister_field(\n\u001b[1;32m    218\u001b[0m             adata\n\u001b[1;32m    219\u001b[0m         )\n",
      "File \u001b[0;32m/lustre/groups/ml01/workspace/ot_pert_new/conda_envs/ot_pert_cpa/lib/python3.9/site-packages/scvi/data/fields/_dataframe_field.py:222\u001b[0m, in \u001b[0;36mCategoricalDataFrameField.transfer_field\u001b[0;34m(self, state_registry, adata_target, extend_categories, **kwargs)\u001b[0m\n\u001b[1;32m    220\u001b[0m             mapping \u001b[38;5;241m=\u001b[39m np\u001b[38;5;241m.\u001b[39mconcatenate([mapping, [c]])\n\u001b[1;32m    221\u001b[0m         \u001b[38;5;28;01melse\u001b[39;00m:\n\u001b[0;32m--> 222\u001b[0m             \u001b[38;5;28;01mraise\u001b[39;00m \u001b[38;5;167;01mValueError\u001b[39;00m(\n\u001b[1;32m    223\u001b[0m                 \u001b[38;5;124mf\u001b[39m\u001b[38;5;124m\"\u001b[39m\u001b[38;5;124mCategory \u001b[39m\u001b[38;5;132;01m{\u001b[39;00mc\u001b[38;5;132;01m}\u001b[39;00m\u001b[38;5;124m not found in source registry. \u001b[39m\u001b[38;5;124m\"\u001b[39m\n\u001b[1;32m    224\u001b[0m                 \u001b[38;5;124mf\u001b[39m\u001b[38;5;124m\"\u001b[39m\u001b[38;5;124mCannot transfer setup without `extend_categories = True`.\u001b[39m\u001b[38;5;124m\"\u001b[39m\n\u001b[1;32m    225\u001b[0m             )\n\u001b[1;32m    226\u001b[0m cat_dtype \u001b[38;5;241m=\u001b[39m CategoricalDtype(categories\u001b[38;5;241m=\u001b[39mmapping, ordered\u001b[38;5;241m=\u001b[39m\u001b[38;5;28;01mTrue\u001b[39;00m)\n\u001b[1;32m    227\u001b[0m new_mapping \u001b[38;5;241m=\u001b[39m _make_column_categorical(\n\u001b[1;32m    228\u001b[0m     \u001b[38;5;28mgetattr\u001b[39m(adata_target, \u001b[38;5;28mself\u001b[39m\u001b[38;5;241m.\u001b[39mattr_name),\n\u001b[1;32m    229\u001b[0m     \u001b[38;5;28mself\u001b[39m\u001b[38;5;241m.\u001b[39m_original_attr_key,\n\u001b[1;32m    230\u001b[0m     \u001b[38;5;28mself\u001b[39m\u001b[38;5;241m.\u001b[39mattr_key,\n\u001b[1;32m    231\u001b[0m     categorical_dtype\u001b[38;5;241m=\u001b[39mcat_dtype,\n\u001b[1;32m    232\u001b[0m )\n",
      "\u001b[0;31mValueError\u001b[0m: Category CHEMBL1213492+CHEMBL257991 not found in source registry. Cannot transfer setup without `extend_categories = True`."
     ]
    }
   ],
   "source": [
    "model.predict(adata_ood)"
   ]
  },
  {
   "cell_type": "code",
   "execution_count": null,
   "id": "20a5aa65-d377-40fe-954b-4fb7a5864a85",
   "metadata": {},
   "outputs": [],
   "source": [
    "preds_ood = adata_ood.obsm[\"CPA_pred\"]"
   ]
  },
  {
   "cell_type": "code",
   "execution_count": 190,
   "id": "1ab24a4a-43ce-40b6-b8c1-27925f4e2ee5",
   "metadata": {},
   "outputs": [
    {
     "data": {
      "text/plain": [
       "False"
      ]
     },
     "execution_count": 190,
     "metadata": {},
     "output_type": "execute_result"
    }
   ],
   "source": [
    "\"CHEMBL257991\" in adata_train.obs[\"condition_ID\"]"
   ]
  },
  {
   "cell_type": "code",
   "execution_count": null,
   "id": "426aba9a-3161-4fc1-a7c0-3262c3440f3a",
   "metadata": {},
   "outputs": [],
   "source": [
    "\"CHEMBL1213492\" in adata_train.obs[]"
   ]
  },
  {
   "cell_type": "code",
   "execution_count": 138,
   "id": "50dda4a0-20ae-4624-b5c6-b3714384dc29",
   "metadata": {},
   "outputs": [],
   "source": [
    "preds_pca = np.matmul(preds, adata_train.varm[\"PCs\"])"
   ]
  },
  {
   "cell_type": "code",
   "execution_count": 43,
   "id": "b8c23cb3-3625-46e4-b487-e6632ecb4a27",
   "metadata": {},
   "outputs": [],
   "source": [
    "from sklearn.metrics import r2_score\n",
    "def compute_r_squared(x: np.ndarray, y: np.ndarray) -> float:\n",
    "    return r2_score(np.mean(x, axis=0), np.mean(y, axis=0))"
   ]
  },
  {
   "cell_type": "code",
   "execution_count": 153,
   "id": "77236d50-c227-4cfc-ac5d-73add3ae2b35",
   "metadata": {},
   "outputs": [
    {
     "data": {
      "text/plain": [
       "(3100, 2000)"
      ]
     },
     "execution_count": 153,
     "metadata": {},
     "output_type": "execute_result"
    }
   ],
   "source": [
    "np.isfinite(preds).shape"
   ]
  },
  {
   "cell_type": "code",
   "execution_count": 142,
   "id": "6d43fdfc-ae5f-4250-9d78-a8a43c45def3",
   "metadata": {},
   "outputs": [
    {
     "name": "stdout",
     "output_type": "stream",
     "text": [
      "Epoch 3/2000:   0%|          | 2/2000 [33:26<556:44:02, 1003.12s/it, v_num=1, recon=1.58e+3, r2_mean=0.453, adv_loss=2.55, acc_pert=0.173]\n"
     ]
    },
    {
     "ename": "ValueError",
     "evalue": "Input contains NaN.",
     "output_type": "error",
     "traceback": [
      "\u001b[0;31m---------------------------------------------------------------------------\u001b[0m",
      "\u001b[0;31mValueError\u001b[0m                                Traceback (most recent call last)",
      "Cell \u001b[0;32mIn[142], line 2\u001b[0m\n\u001b[1;32m      1\u001b[0m \u001b[38;5;28;01mfrom\u001b[39;00m \u001b[38;5;21;01msklearn\u001b[39;00m\u001b[38;5;21;01m.\u001b[39;00m\u001b[38;5;21;01mmetrics\u001b[39;00m \u001b[38;5;28;01mimport\u001b[39;00m r2_score\n\u001b[0;32m----> 2\u001b[0m \u001b[43mcompute_r_squared\u001b[49m\u001b[43m(\u001b[49m\u001b[43mpreds_pca\u001b[49m\u001b[43m,\u001b[49m\u001b[43m \u001b[49m\u001b[43madata_test\u001b[49m\u001b[38;5;241;43m.\u001b[39;49m\u001b[43mobsm\u001b[49m\u001b[43m[\u001b[49m\u001b[38;5;124;43m\"\u001b[39;49m\u001b[38;5;124;43mX_pca\u001b[39;49m\u001b[38;5;124;43m\"\u001b[39;49m\u001b[43m]\u001b[49m\u001b[43m)\u001b[49m\n",
      "Cell \u001b[0;32mIn[140], line 2\u001b[0m, in \u001b[0;36mcompute_r_squared\u001b[0;34m(x, y)\u001b[0m\n\u001b[1;32m      1\u001b[0m \u001b[38;5;28;01mdef\u001b[39;00m \u001b[38;5;21mcompute_r_squared\u001b[39m(x: np\u001b[38;5;241m.\u001b[39mndarray, y: np\u001b[38;5;241m.\u001b[39mndarray) \u001b[38;5;241m-\u001b[39m\u001b[38;5;241m>\u001b[39m \u001b[38;5;28mfloat\u001b[39m:\n\u001b[0;32m----> 2\u001b[0m     \u001b[38;5;28;01mreturn\u001b[39;00m \u001b[43mr2_score\u001b[49m\u001b[43m(\u001b[49m\u001b[43mnp\u001b[49m\u001b[38;5;241;43m.\u001b[39;49m\u001b[43mmean\u001b[49m\u001b[43m(\u001b[49m\u001b[43mx\u001b[49m\u001b[43m,\u001b[49m\u001b[43m \u001b[49m\u001b[43maxis\u001b[49m\u001b[38;5;241;43m=\u001b[39;49m\u001b[38;5;241;43m0\u001b[39;49m\u001b[43m)\u001b[49m\u001b[43m,\u001b[49m\u001b[43m \u001b[49m\u001b[43mnp\u001b[49m\u001b[38;5;241;43m.\u001b[39;49m\u001b[43mmean\u001b[49m\u001b[43m(\u001b[49m\u001b[43my\u001b[49m\u001b[43m,\u001b[49m\u001b[43m \u001b[49m\u001b[43maxis\u001b[49m\u001b[38;5;241;43m=\u001b[39;49m\u001b[38;5;241;43m0\u001b[39;49m\u001b[43m)\u001b[49m\u001b[43m)\u001b[49m\n",
      "File \u001b[0;32m/lustre/groups/ml01/workspace/ot_pert_new/conda_envs/ot_pert_cpa/lib/python3.9/site-packages/sklearn/utils/_param_validation.py:213\u001b[0m, in \u001b[0;36mvalidate_params.<locals>.decorator.<locals>.wrapper\u001b[0;34m(*args, **kwargs)\u001b[0m\n\u001b[1;32m    207\u001b[0m \u001b[38;5;28;01mtry\u001b[39;00m:\n\u001b[1;32m    208\u001b[0m     \u001b[38;5;28;01mwith\u001b[39;00m config_context(\n\u001b[1;32m    209\u001b[0m         skip_parameter_validation\u001b[38;5;241m=\u001b[39m(\n\u001b[1;32m    210\u001b[0m             prefer_skip_nested_validation \u001b[38;5;129;01mor\u001b[39;00m global_skip_validation\n\u001b[1;32m    211\u001b[0m         )\n\u001b[1;32m    212\u001b[0m     ):\n\u001b[0;32m--> 213\u001b[0m         \u001b[38;5;28;01mreturn\u001b[39;00m \u001b[43mfunc\u001b[49m\u001b[43m(\u001b[49m\u001b[38;5;241;43m*\u001b[39;49m\u001b[43margs\u001b[49m\u001b[43m,\u001b[49m\u001b[43m \u001b[49m\u001b[38;5;241;43m*\u001b[39;49m\u001b[38;5;241;43m*\u001b[39;49m\u001b[43mkwargs\u001b[49m\u001b[43m)\u001b[49m\n\u001b[1;32m    214\u001b[0m \u001b[38;5;28;01mexcept\u001b[39;00m InvalidParameterError \u001b[38;5;28;01mas\u001b[39;00m e:\n\u001b[1;32m    215\u001b[0m     \u001b[38;5;66;03m# When the function is just a wrapper around an estimator, we allow\u001b[39;00m\n\u001b[1;32m    216\u001b[0m     \u001b[38;5;66;03m# the function to delegate validation to the estimator, but we replace\u001b[39;00m\n\u001b[1;32m    217\u001b[0m     \u001b[38;5;66;03m# the name of the estimator by the name of the function in the error\u001b[39;00m\n\u001b[1;32m    218\u001b[0m     \u001b[38;5;66;03m# message to avoid confusion.\u001b[39;00m\n\u001b[1;32m    219\u001b[0m     msg \u001b[38;5;241m=\u001b[39m re\u001b[38;5;241m.\u001b[39msub(\n\u001b[1;32m    220\u001b[0m         \u001b[38;5;124mr\u001b[39m\u001b[38;5;124m\"\u001b[39m\u001b[38;5;124mparameter of \u001b[39m\u001b[38;5;124m\\\u001b[39m\u001b[38;5;124mw+ must be\u001b[39m\u001b[38;5;124m\"\u001b[39m,\n\u001b[1;32m    221\u001b[0m         \u001b[38;5;124mf\u001b[39m\u001b[38;5;124m\"\u001b[39m\u001b[38;5;124mparameter of \u001b[39m\u001b[38;5;132;01m{\u001b[39;00mfunc\u001b[38;5;241m.\u001b[39m\u001b[38;5;18m__qualname__\u001b[39m\u001b[38;5;132;01m}\u001b[39;00m\u001b[38;5;124m must be\u001b[39m\u001b[38;5;124m\"\u001b[39m,\n\u001b[1;32m    222\u001b[0m         \u001b[38;5;28mstr\u001b[39m(e),\n\u001b[1;32m    223\u001b[0m     )\n",
      "File \u001b[0;32m/lustre/groups/ml01/workspace/ot_pert_new/conda_envs/ot_pert_cpa/lib/python3.9/site-packages/sklearn/metrics/_regression.py:1180\u001b[0m, in \u001b[0;36mr2_score\u001b[0;34m(y_true, y_pred, sample_weight, multioutput, force_finite)\u001b[0m\n\u001b[1;32m   1039\u001b[0m \u001b[38;5;129m@validate_params\u001b[39m(\n\u001b[1;32m   1040\u001b[0m     {\n\u001b[1;32m   1041\u001b[0m         \u001b[38;5;124m\"\u001b[39m\u001b[38;5;124my_true\u001b[39m\u001b[38;5;124m\"\u001b[39m: [\u001b[38;5;124m\"\u001b[39m\u001b[38;5;124marray-like\u001b[39m\u001b[38;5;124m\"\u001b[39m],\n\u001b[0;32m   (...)\u001b[0m\n\u001b[1;32m   1059\u001b[0m     force_finite\u001b[38;5;241m=\u001b[39m\u001b[38;5;28;01mTrue\u001b[39;00m,\n\u001b[1;32m   1060\u001b[0m ):\n\u001b[1;32m   1061\u001b[0m \u001b[38;5;250m    \u001b[39m\u001b[38;5;124;03m\"\"\":math:`R^2` (coefficient of determination) regression score function.\u001b[39;00m\n\u001b[1;32m   1062\u001b[0m \n\u001b[1;32m   1063\u001b[0m \u001b[38;5;124;03m    Best possible score is 1.0 and it can be negative (because the\u001b[39;00m\n\u001b[0;32m   (...)\u001b[0m\n\u001b[1;32m   1178\u001b[0m \u001b[38;5;124;03m    -inf\u001b[39;00m\n\u001b[1;32m   1179\u001b[0m \u001b[38;5;124;03m    \"\"\"\u001b[39;00m\n\u001b[0;32m-> 1180\u001b[0m     y_type, y_true, y_pred, multioutput \u001b[38;5;241m=\u001b[39m \u001b[43m_check_reg_targets\u001b[49m\u001b[43m(\u001b[49m\n\u001b[1;32m   1181\u001b[0m \u001b[43m        \u001b[49m\u001b[43my_true\u001b[49m\u001b[43m,\u001b[49m\u001b[43m \u001b[49m\u001b[43my_pred\u001b[49m\u001b[43m,\u001b[49m\u001b[43m \u001b[49m\u001b[43mmultioutput\u001b[49m\n\u001b[1;32m   1182\u001b[0m \u001b[43m    \u001b[49m\u001b[43m)\u001b[49m\n\u001b[1;32m   1183\u001b[0m     check_consistent_length(y_true, y_pred, sample_weight)\n\u001b[1;32m   1185\u001b[0m     \u001b[38;5;28;01mif\u001b[39;00m _num_samples(y_pred) \u001b[38;5;241m<\u001b[39m \u001b[38;5;241m2\u001b[39m:\n",
      "File \u001b[0;32m/lustre/groups/ml01/workspace/ot_pert_new/conda_envs/ot_pert_cpa/lib/python3.9/site-packages/sklearn/metrics/_regression.py:103\u001b[0m, in \u001b[0;36m_check_reg_targets\u001b[0;34m(y_true, y_pred, multioutput, dtype)\u001b[0m\n\u001b[1;32m     69\u001b[0m \u001b[38;5;250m\u001b[39m\u001b[38;5;124;03m\"\"\"Check that y_true and y_pred belong to the same regression task.\u001b[39;00m\n\u001b[1;32m     70\u001b[0m \n\u001b[1;32m     71\u001b[0m \u001b[38;5;124;03mParameters\u001b[39;00m\n\u001b[0;32m   (...)\u001b[0m\n\u001b[1;32m    100\u001b[0m \u001b[38;5;124;03m    correct keyword.\u001b[39;00m\n\u001b[1;32m    101\u001b[0m \u001b[38;5;124;03m\"\"\"\u001b[39;00m\n\u001b[1;32m    102\u001b[0m check_consistent_length(y_true, y_pred)\n\u001b[0;32m--> 103\u001b[0m y_true \u001b[38;5;241m=\u001b[39m \u001b[43mcheck_array\u001b[49m\u001b[43m(\u001b[49m\u001b[43my_true\u001b[49m\u001b[43m,\u001b[49m\u001b[43m \u001b[49m\u001b[43mensure_2d\u001b[49m\u001b[38;5;241;43m=\u001b[39;49m\u001b[38;5;28;43;01mFalse\u001b[39;49;00m\u001b[43m,\u001b[49m\u001b[43m \u001b[49m\u001b[43mdtype\u001b[49m\u001b[38;5;241;43m=\u001b[39;49m\u001b[43mdtype\u001b[49m\u001b[43m)\u001b[49m\n\u001b[1;32m    104\u001b[0m y_pred \u001b[38;5;241m=\u001b[39m check_array(y_pred, ensure_2d\u001b[38;5;241m=\u001b[39m\u001b[38;5;28;01mFalse\u001b[39;00m, dtype\u001b[38;5;241m=\u001b[39mdtype)\n\u001b[1;32m    106\u001b[0m \u001b[38;5;28;01mif\u001b[39;00m y_true\u001b[38;5;241m.\u001b[39mndim \u001b[38;5;241m==\u001b[39m \u001b[38;5;241m1\u001b[39m:\n",
      "File \u001b[0;32m/lustre/groups/ml01/workspace/ot_pert_new/conda_envs/ot_pert_cpa/lib/python3.9/site-packages/sklearn/utils/validation.py:1049\u001b[0m, in \u001b[0;36mcheck_array\u001b[0;34m(array, accept_sparse, accept_large_sparse, dtype, order, copy, force_all_finite, ensure_2d, allow_nd, ensure_min_samples, ensure_min_features, estimator, input_name)\u001b[0m\n\u001b[1;32m   1043\u001b[0m     \u001b[38;5;28;01mraise\u001b[39;00m \u001b[38;5;167;01mValueError\u001b[39;00m(\n\u001b[1;32m   1044\u001b[0m         \u001b[38;5;124m\"\u001b[39m\u001b[38;5;124mFound array with dim \u001b[39m\u001b[38;5;132;01m%d\u001b[39;00m\u001b[38;5;124m. \u001b[39m\u001b[38;5;132;01m%s\u001b[39;00m\u001b[38;5;124m expected <= 2.\u001b[39m\u001b[38;5;124m\"\u001b[39m\n\u001b[1;32m   1045\u001b[0m         \u001b[38;5;241m%\u001b[39m (array\u001b[38;5;241m.\u001b[39mndim, estimator_name)\n\u001b[1;32m   1046\u001b[0m     )\n\u001b[1;32m   1048\u001b[0m \u001b[38;5;28;01mif\u001b[39;00m force_all_finite:\n\u001b[0;32m-> 1049\u001b[0m     \u001b[43m_assert_all_finite\u001b[49m\u001b[43m(\u001b[49m\n\u001b[1;32m   1050\u001b[0m \u001b[43m        \u001b[49m\u001b[43marray\u001b[49m\u001b[43m,\u001b[49m\n\u001b[1;32m   1051\u001b[0m \u001b[43m        \u001b[49m\u001b[43minput_name\u001b[49m\u001b[38;5;241;43m=\u001b[39;49m\u001b[43minput_name\u001b[49m\u001b[43m,\u001b[49m\n\u001b[1;32m   1052\u001b[0m \u001b[43m        \u001b[49m\u001b[43mestimator_name\u001b[49m\u001b[38;5;241;43m=\u001b[39;49m\u001b[43mestimator_name\u001b[49m\u001b[43m,\u001b[49m\n\u001b[1;32m   1053\u001b[0m \u001b[43m        \u001b[49m\u001b[43mallow_nan\u001b[49m\u001b[38;5;241;43m=\u001b[39;49m\u001b[43mforce_all_finite\u001b[49m\u001b[43m \u001b[49m\u001b[38;5;241;43m==\u001b[39;49m\u001b[43m \u001b[49m\u001b[38;5;124;43m\"\u001b[39;49m\u001b[38;5;124;43mallow-nan\u001b[39;49m\u001b[38;5;124;43m\"\u001b[39;49m\u001b[43m,\u001b[49m\n\u001b[1;32m   1054\u001b[0m \u001b[43m    \u001b[49m\u001b[43m)\u001b[49m\n\u001b[1;32m   1056\u001b[0m \u001b[38;5;28;01mif\u001b[39;00m copy:\n\u001b[1;32m   1057\u001b[0m     \u001b[38;5;28;01mif\u001b[39;00m _is_numpy_namespace(xp):\n\u001b[1;32m   1058\u001b[0m         \u001b[38;5;66;03m# only make a copy if `array` and `array_orig` may share memory`\u001b[39;00m\n",
      "File \u001b[0;32m/lustre/groups/ml01/workspace/ot_pert_new/conda_envs/ot_pert_cpa/lib/python3.9/site-packages/sklearn/utils/validation.py:126\u001b[0m, in \u001b[0;36m_assert_all_finite\u001b[0;34m(X, allow_nan, msg_dtype, estimator_name, input_name)\u001b[0m\n\u001b[1;32m    123\u001b[0m \u001b[38;5;28;01mif\u001b[39;00m first_pass_isfinite:\n\u001b[1;32m    124\u001b[0m     \u001b[38;5;28;01mreturn\u001b[39;00m\n\u001b[0;32m--> 126\u001b[0m \u001b[43m_assert_all_finite_element_wise\u001b[49m\u001b[43m(\u001b[49m\n\u001b[1;32m    127\u001b[0m \u001b[43m    \u001b[49m\u001b[43mX\u001b[49m\u001b[43m,\u001b[49m\n\u001b[1;32m    128\u001b[0m \u001b[43m    \u001b[49m\u001b[43mxp\u001b[49m\u001b[38;5;241;43m=\u001b[39;49m\u001b[43mxp\u001b[49m\u001b[43m,\u001b[49m\n\u001b[1;32m    129\u001b[0m \u001b[43m    \u001b[49m\u001b[43mallow_nan\u001b[49m\u001b[38;5;241;43m=\u001b[39;49m\u001b[43mallow_nan\u001b[49m\u001b[43m,\u001b[49m\n\u001b[1;32m    130\u001b[0m \u001b[43m    \u001b[49m\u001b[43mmsg_dtype\u001b[49m\u001b[38;5;241;43m=\u001b[39;49m\u001b[43mmsg_dtype\u001b[49m\u001b[43m,\u001b[49m\n\u001b[1;32m    131\u001b[0m \u001b[43m    \u001b[49m\u001b[43mestimator_name\u001b[49m\u001b[38;5;241;43m=\u001b[39;49m\u001b[43mestimator_name\u001b[49m\u001b[43m,\u001b[49m\n\u001b[1;32m    132\u001b[0m \u001b[43m    \u001b[49m\u001b[43minput_name\u001b[49m\u001b[38;5;241;43m=\u001b[39;49m\u001b[43minput_name\u001b[49m\u001b[43m,\u001b[49m\n\u001b[1;32m    133\u001b[0m \u001b[43m\u001b[49m\u001b[43m)\u001b[49m\n",
      "File \u001b[0;32m/lustre/groups/ml01/workspace/ot_pert_new/conda_envs/ot_pert_cpa/lib/python3.9/site-packages/sklearn/utils/validation.py:175\u001b[0m, in \u001b[0;36m_assert_all_finite_element_wise\u001b[0;34m(X, xp, allow_nan, msg_dtype, estimator_name, input_name)\u001b[0m\n\u001b[1;32m    158\u001b[0m \u001b[38;5;28;01mif\u001b[39;00m estimator_name \u001b[38;5;129;01mand\u001b[39;00m input_name \u001b[38;5;241m==\u001b[39m \u001b[38;5;124m\"\u001b[39m\u001b[38;5;124mX\u001b[39m\u001b[38;5;124m\"\u001b[39m \u001b[38;5;129;01mand\u001b[39;00m has_nan_error:\n\u001b[1;32m    159\u001b[0m     \u001b[38;5;66;03m# Improve the error message on how to handle missing values in\u001b[39;00m\n\u001b[1;32m    160\u001b[0m     \u001b[38;5;66;03m# scikit-learn.\u001b[39;00m\n\u001b[1;32m    161\u001b[0m     msg_err \u001b[38;5;241m+\u001b[39m\u001b[38;5;241m=\u001b[39m (\n\u001b[1;32m    162\u001b[0m         \u001b[38;5;124mf\u001b[39m\u001b[38;5;124m\"\u001b[39m\u001b[38;5;130;01m\\n\u001b[39;00m\u001b[38;5;132;01m{\u001b[39;00mestimator_name\u001b[38;5;132;01m}\u001b[39;00m\u001b[38;5;124m does not accept missing values\u001b[39m\u001b[38;5;124m\"\u001b[39m\n\u001b[1;32m    163\u001b[0m         \u001b[38;5;124m\"\u001b[39m\u001b[38;5;124m encoded as NaN natively. For supervised learning, you might want\u001b[39m\u001b[38;5;124m\"\u001b[39m\n\u001b[0;32m   (...)\u001b[0m\n\u001b[1;32m    173\u001b[0m         \u001b[38;5;124m\"\u001b[39m\u001b[38;5;124m#estimators-that-handle-nan-values\u001b[39m\u001b[38;5;124m\"\u001b[39m\n\u001b[1;32m    174\u001b[0m     )\n\u001b[0;32m--> 175\u001b[0m \u001b[38;5;28;01mraise\u001b[39;00m \u001b[38;5;167;01mValueError\u001b[39;00m(msg_err)\n",
      "\u001b[0;31mValueError\u001b[0m: Input contains NaN."
     ]
    }
   ],
   "source": [
    "\n",
    "compute_r_squared(preds_pca, adata_test.obsm[\"X_pca\"])"
   ]
  },
  {
   "cell_type": "code",
   "execution_count": 149,
   "id": "be5155d7-6456-42c0-8aa7-0be520f9365b",
   "metadata": {},
   "outputs": [
    {
     "data": {
      "text/plain": [
       "1492000"
      ]
     },
     "execution_count": 149,
     "metadata": {},
     "output_type": "execute_result"
    }
   ],
   "source": [
    "(~np.isnan(preds)).sum()"
   ]
  },
  {
   "cell_type": "code",
   "execution_count": 144,
   "id": "e617cf8c-bbfa-4cf0-832c-858174ed468f",
   "metadata": {},
   "outputs": [
    {
     "data": {
      "text/plain": [
       "(3100, 30)"
      ]
     },
     "execution_count": 144,
     "metadata": {},
     "output_type": "execute_result"
    }
   ],
   "source": [
    "preds_pca.shape\n"
   ]
  },
  {
   "cell_type": "code",
   "execution_count": 145,
   "id": "976c38d5-a6a7-4156-925b-bd8771a81e2c",
   "metadata": {},
   "outputs": [
    {
     "data": {
      "text/plain": [
       "(2000, 30)"
      ]
     },
     "execution_count": 145,
     "metadata": {},
     "output_type": "execute_result"
    }
   ],
   "source": [
    "adata_train.varm[\"PCs\"].shape"
   ]
  },
  {
   "cell_type": "code",
   "execution_count": 156,
   "id": "1a804434-4413-447b-a7d7-80e5b91aebaa",
   "metadata": {},
   "outputs": [],
   "source": [
    "mask = ~np.isnan(preds).any(axis=1)"
   ]
  },
  {
   "cell_type": "code",
   "execution_count": 158,
   "id": "3588f495-26ce-47d8-96ef-a56eea54f1eb",
   "metadata": {},
   "outputs": [],
   "source": [
    "arr_without_nan = preds[mask]"
   ]
  },
  {
   "cell_type": "code",
   "execution_count": 160,
   "id": "10e76bf4-c59f-4da4-bcb6-f73e10846c6e",
   "metadata": {},
   "outputs": [
    {
     "data": {
      "text/plain": [
       "(746, 2000)"
      ]
     },
     "execution_count": 160,
     "metadata": {},
     "output_type": "execute_result"
    }
   ],
   "source": [
    "arr_without_nan.shape"
   ]
  },
  {
   "cell_type": "code",
   "execution_count": 161,
   "id": "c25809b7-dcf6-494a-986a-978a0d4e7a44",
   "metadata": {},
   "outputs": [],
   "source": [
    "preds_pca = np.matmul(arr_without_nan, adata_train.varm[\"PCs\"])"
   ]
  },
  {
   "cell_type": "code",
   "execution_count": 184,
   "id": "6fce3f63-2c90-442d-8e3f-9bdab338cab9",
   "metadata": {},
   "outputs": [
    {
     "data": {
      "text/plain": [
       "-0.028193542538006877"
      ]
     },
     "execution_count": 184,
     "metadata": {},
     "output_type": "execute_result"
    }
   ],
   "source": [
    "compute_r_squared(preds_pca, adata_test.obsm[\"X_pca\"])"
   ]
  },
  {
   "cell_type": "code",
   "execution_count": null,
   "id": "d824717d-6d28-47b7-a3a5-26d1c81c85ea",
   "metadata": {},
   "outputs": [],
   "source": []
  }
 ],
 "metadata": {
  "kernelspec": {
   "display_name": "ot_pert_cpa",
   "language": "python",
   "name": "ot_pert_cpa"
  },
  "language_info": {
   "codemirror_mode": {
    "name": "ipython",
    "version": 3
   },
   "file_extension": ".py",
   "mimetype": "text/x-python",
   "name": "python",
   "nbconvert_exporter": "python",
   "pygments_lexer": "ipython3",
   "version": "3.9.19"
  }
 },
 "nbformat": 4,
 "nbformat_minor": 5
}
