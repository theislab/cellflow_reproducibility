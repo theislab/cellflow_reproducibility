{
 "cells": [
  {
   "cell_type": "code",
   "execution_count": 24,
   "id": "1395d093-8d3e-48c0-8ffb-7e864854f3a5",
   "metadata": {},
   "outputs": [],
   "source": [
    "import scanpy as sc\n",
    "import numpy as np\n",
    "import functools\n",
    "import jax\n",
    "from ot_pert.metrics import compute_metrics, compute_mean_metrics"
   ]
  },
  {
   "cell_type": "code",
   "execution_count": 3,
   "id": "07027cac-18fd-4ef8-b54e-09315f9ae6eb",
   "metadata": {},
   "outputs": [
    {
     "name": "stderr",
     "output_type": "stream",
     "text": [
      "/home/icb/dominik.klein/mambaforge/envs/ot_pert_genot/lib/python3.12/site-packages/anndata/__init__.py:51: FutureWarning: `anndata.read` is deprecated, use `anndata.read_h5ad` instead. `ad.read` will be removed in mid 2024.\n",
      "  warnings.warn(\n",
      "/home/icb/dominik.klein/mambaforge/envs/ot_pert_genot/lib/python3.12/site-packages/anndata/_core/anndata.py:1906: UserWarning: Observation names are not unique. To make them unique, call `.obs_names_make_unique`.\n",
      "  utils.warn_names_duplicates(\"obs\")\n"
     ]
    }
   ],
   "source": [
    "adata = sc.read(\"/lustre/groups/ml01/workspace/ot_perturbation/models/cpa/combosciplex/adata_with_predictions.h5ad\")"
   ]
  },
  {
   "cell_type": "code",
   "execution_count": 15,
   "id": "091f2f81-d713-4a2a-a003-37c5db5d3bc7",
   "metadata": {},
   "outputs": [
    {
     "name": "stderr",
     "output_type": "stream",
     "text": [
      "/home/icb/dominik.klein/mambaforge/envs/ot_pert_genot/lib/python3.12/site-packages/anndata/__init__.py:51: FutureWarning: `anndata.read` is deprecated, use `anndata.read_h5ad` instead. `ad.read` will be removed in mid 2024.\n",
      "  warnings.warn(\n"
     ]
    }
   ],
   "source": [
    "adata_train_orig = sc.read(\"/lustre/groups/ml01/workspace/ot_perturbation/data/combosciplex/adata_train.h5ad\")"
   ]
  },
  {
   "cell_type": "code",
   "execution_count": 7,
   "id": "39531565-3986-4a83-8fab-2ebd7392a732",
   "metadata": {},
   "outputs": [],
   "source": [
    "preds = adata.obsm[\"CPA_pred\"]"
   ]
  },
  {
   "cell_type": "code",
   "execution_count": 41,
   "id": "9100129f-f66a-47ae-b717-d273f19fd799",
   "metadata": {},
   "outputs": [],
   "source": [
    "def reconstruct_data(embedding: np.ndarray, projection_matrix: np.ndarray, mean_to_add: np.ndarray) -> np.ndarray:\n",
    "    return np.matmul(embedding, projection_matrix.T) + mean_to_add\n",
    "\n",
    "def project_data(data: np.ndarray, projection_matrix: np.ndarray, mean_to_subtract: np.ndarray) -> np.ndarray:\n",
    "    return np.matmul(data - mean_to_subtract, projection_matrix)"
   ]
  },
  {
   "cell_type": "code",
   "execution_count": 42,
   "id": "07b45430-1543-4df6-b89f-86c1a573575c",
   "metadata": {},
   "outputs": [],
   "source": [
    "OBSM_KEY_DATA_EMBEDDING = \"X_pca\""
   ]
  },
  {
   "cell_type": "code",
   "execution_count": 37,
   "id": "a3177da2-de98-43f4-9f09-8ebc0bd45640",
   "metadata": {},
   "outputs": [],
   "source": [
    "adata_train = adata[adata.obs[\"split\"]==\"train\"]\n",
    "adata_test = adata[adata.obs[\"split\"]==\"test\"]\n",
    "adata_ood = adata[adata.obs[\"split\"]==\"ood\"]"
   ]
  },
  {
   "cell_type": "code",
   "execution_count": 43,
   "id": "c62be8fc-de0c-4bd4-9f0c-b2666450142c",
   "metadata": {},
   "outputs": [],
   "source": [
    "project_data_fn = functools.partial(project_data, projection_matrix = adata_train_orig.varm[\"PCs\"], mean_to_subtract=adata_train_orig.varm[\"X_train_mean\"].T)"
   ]
  },
  {
   "cell_type": "code",
   "execution_count": 44,
   "id": "b1afea00-702d-42ed-b52a-69e1f18c3cb9",
   "metadata": {},
   "outputs": [
    {
     "data": {
      "text/plain": [
       "(2000, 50)"
      ]
     },
     "execution_count": 44,
     "metadata": {},
     "output_type": "execute_result"
    }
   ],
   "source": [
    "adata_train_orig.varm[\"PCs\"].shape"
   ]
  },
  {
   "cell_type": "code",
   "execution_count": 48,
   "id": "c2541151-a591-4df2-ada0-948a6cb268fc",
   "metadata": {
    "scrolled": true
   },
   "outputs": [],
   "source": [
    "train_data_target_encoded = {}\n",
    "train_data_target_decoded = {}\n",
    "train_data_target_encoded_predicted = {}\n",
    "train_data_target_decoded_predicted = {}\n",
    "\n",
    "for cond in adata_train.obs[\"condition\"].cat.categories:\n",
    "    if cond == \"control\":\n",
    "        continue\n",
    "    train_data_target_encoded[cond] = adata_train[adata_train.obs[\"condition\"]==cond].obsm[OBSM_KEY_DATA_EMBEDDING]\n",
    "    train_data_target_decoded[cond] = adata_train[adata_train.obs[\"condition\"]==cond].X.A\n",
    "    pred_cpa = np.log1p(adata_train[adata_train.obs[\"condition\"]==cond].obsm[\"CPA_pred\"])\n",
    "    train_data_target_decoded_predicted[cond] = pred_cpa\n",
    "    train_data_target_encoded_predicted[cond] = project_data_fn(pred_cpa)\n",
    "\n",
    "\n",
    "test_data_target_encoded = {}\n",
    "test_data_target_decoded = {}\n",
    "test_data_target_encoded_predicted = {}\n",
    "test_data_target_decoded_predicted = {}\n",
    "for cond in adata_test.obs[\"condition\"].cat.categories:\n",
    "    if cond == \"control\":\n",
    "        continue\n",
    "    test_data_target_encoded[cond] = adata_test[adata_test.obs[\"condition\"]==cond].obsm[OBSM_KEY_DATA_EMBEDDING]\n",
    "    test_data_target_decoded[cond] = adata_test[adata_test.obs[\"condition\"]==cond].X.A\n",
    "    pred_cpa = np.log1p(adata_test[adata_test.obs[\"condition\"]==cond].obsm[\"CPA_pred\"])\n",
    "    test_data_target_decoded_predicted[cond] = pred_cpa\n",
    "    test_data_target_encoded_predicted[cond] = project_data_fn(pred_cpa)\n",
    "    \n",
    "\n",
    "ood_data_target_encoded = {}\n",
    "ood_data_target_decoded = {}\n",
    "ood_data_target_encoded_predicted = {}\n",
    "ood_data_target_decoded_predicted = {}\n",
    "for cond in adata_ood.obs[\"condition\"].cat.categories:\n",
    "    if cond == \"control\":\n",
    "        continue\n",
    "    ood_data_target_encoded[cond] = adata_ood[adata_ood.obs[\"condition\"]==cond].obsm[OBSM_KEY_DATA_EMBEDDING]\n",
    "    ood_data_target_decoded[cond] = adata_ood[adata_ood.obs[\"condition\"]==cond].X.A\n",
    "    pred_cpa = np.log1p(adata_ood[adata_ood.obs[\"condition\"]==cond].obsm[\"CPA_pred\"])\n",
    "    ood_data_target_decoded_predicted[cond] = pred_cpa\n",
    "    ood_data_target_encoded_predicted[cond] = project_data_fn(pred_cpa)\n",
    "    \n"
   ]
  },
  {
   "cell_type": "code",
   "execution_count": 50,
   "id": "90542ffc-857a-48d1-b38f-a18ef54e3969",
   "metadata": {},
   "outputs": [
    {
     "name": "stderr",
     "output_type": "stream",
     "text": [
      "2024-04-16 18:19:54.641830: W external/xla/xla/service/gpu/nvptx_compiler.cc:718] The NVIDIA driver's CUDA version is 12.3 which is older than the ptxas CUDA version (12.4.131). Because the driver is older than the ptxas version, XLA is disabling parallel compilation, which may slow down compilation. You should update your NVIDIA driver or use the NVIDIA-provided CUDA forward compatibility packages.\n"
     ]
    }
   ],
   "source": [
    "train_metrics_encoded = jax.tree_util.tree_map(compute_metrics, train_data_target_encoded, train_data_target_encoded_predicted)\n",
    "mean_train_metrics_encoded = compute_mean_metrics(train_metrics_encoded, prefix=\"encoded_train_\")\n",
    "\n",
    "train_metrics_decoded = jax.tree_util.tree_map(compute_metrics, train_data_target_decoded, train_data_target_decoded_predicted)\n",
    "mean_train_metrics_decoded = compute_mean_metrics(train_metrics_decoded, prefix=\"decoded_train_\")"
   ]
  },
  {
   "cell_type": "code",
   "execution_count": 51,
   "id": "9e337bf1-f165-4d62-a79f-4327be259a6c",
   "metadata": {},
   "outputs": [],
   "source": [
    "test_metrics_encoded = jax.tree_util.tree_map(compute_metrics, test_data_target_encoded, test_data_target_encoded_predicted)\n",
    "mean_test_metrics_encoded = compute_mean_metrics(test_metrics_encoded, prefix=\"encoded_test_\")\n",
    "\n",
    "test_metrics_decoded = jax.tree_util.tree_map(compute_metrics, test_data_target_decoded, test_data_target_decoded_predicted)\n",
    "mean_test_metrics_decoded = compute_mean_metrics(test_metrics_decoded, prefix=\"decoded_test_\")"
   ]
  },
  {
   "cell_type": "code",
   "execution_count": 52,
   "id": "cbdff236-b23d-4db5-b28f-a072c3ccaecf",
   "metadata": {},
   "outputs": [],
   "source": [
    "ood_metrics_encoded = jax.tree_util.tree_map(compute_metrics, ood_data_target_encoded, ood_data_target_encoded_predicted)\n",
    "mean_ood_metrics_encoded = compute_mean_metrics(ood_metrics_encoded, prefix=\"encoded_ood_\")\n",
    "\n",
    "ood_metrics_decoded = jax.tree_util.tree_map(compute_metrics, ood_data_target_decoded, ood_data_target_decoded_predicted)\n",
    "mean_ood_metrics_decoded = compute_mean_metrics(ood_metrics_decoded, prefix=\"decoded_ood_\")"
   ]
  },
  {
   "cell_type": "code",
   "execution_count": null,
   "id": "4ed6d545-6b19-4d72-887c-f5618d87d47d",
   "metadata": {},
   "outputs": [],
   "source": []
  },
  {
   "cell_type": "code",
   "execution_count": 53,
   "id": "510599b8-b56f-4595-990f-c953c6ebb358",
   "metadata": {},
   "outputs": [
    {
     "data": {
      "text/plain": [
       "{'encoded_train_r_squared': 0.09882947343231972,\n",
       " 'encoded_train_sinkhorn_div_01': 27.670842895507814,\n",
       " 'encoded_train_e_distance': 2.8356454493050745,\n",
       " 'encoded_train_mmd': 12.157588424682617}"
      ]
     },
     "execution_count": 53,
     "metadata": {},
     "output_type": "execute_result"
    }
   ],
   "source": [
    "mean_train_metrics_encoded"
   ]
  },
  {
   "cell_type": "code",
   "execution_count": 54,
   "id": "2872b4e9-1553-4558-8f59-7dfdf2cb1da4",
   "metadata": {},
   "outputs": [
    {
     "data": {
      "text/plain": [
       "{'decoded_train_r_squared': 0.7729072789319338,\n",
       " 'decoded_train_sinkhorn_div_01': 83.83307525634766,\n",
       " 'decoded_train_e_distance': 3.982077108849602,\n",
       " 'decoded_train_mmd': 20.897135314941405}"
      ]
     },
     "execution_count": 54,
     "metadata": {},
     "output_type": "execute_result"
    }
   ],
   "source": [
    "mean_train_metrics_decoded"
   ]
  },
  {
   "cell_type": "code",
   "execution_count": 55,
   "id": "8569ce49-442d-464b-a6a0-cb4ab5f1a5d4",
   "metadata": {},
   "outputs": [
    {
     "data": {
      "text/plain": [
       "{'encoded_test_r_squared': 0.22096380806799604,\n",
       " 'encoded_test_sinkhorn_div_01': 21.72205924987793,\n",
       " 'encoded_test_e_distance': 2.495100569970721,\n",
       " 'encoded_test_mmd': 10.17115592956543}"
      ]
     },
     "execution_count": 55,
     "metadata": {},
     "output_type": "execute_result"
    }
   ],
   "source": [
    "mean_test_metrics_encoded"
   ]
  },
  {
   "cell_type": "code",
   "execution_count": 56,
   "id": "f395332e-11e9-4b23-979e-a3e7fa9966d4",
   "metadata": {},
   "outputs": [
    {
     "data": {
      "text/plain": [
       "{'decoded_test_r_squared': 0.7646439309457859,\n",
       " 'decoded_test_sinkhorn_div_01': 87.17083251953125,\n",
       " 'decoded_test_e_distance': 4.067989317550506,\n",
       " 'decoded_test_mmd': 21.85130615234375}"
      ]
     },
     "execution_count": 56,
     "metadata": {},
     "output_type": "execute_result"
    }
   ],
   "source": [
    "mean_test_metrics_decoded"
   ]
  },
  {
   "cell_type": "code",
   "execution_count": 57,
   "id": "ca9686a4-0a90-4a05-8e3b-f5629bd5a902",
   "metadata": {},
   "outputs": [
    {
     "data": {
      "text/plain": [
       "{'encoded_ood_r_squared': 0.15826509960980395,\n",
       " 'encoded_ood_sinkhorn_div_01': 21.725287119547527,\n",
       " 'encoded_ood_e_distance': 2.5296382695145954,\n",
       " 'encoded_ood_mmd': 10.320155461629232}"
      ]
     },
     "execution_count": 57,
     "metadata": {},
     "output_type": "execute_result"
    }
   ],
   "source": [
    "mean_ood_metrics_encoded"
   ]
  },
  {
   "cell_type": "code",
   "execution_count": 58,
   "id": "74f2b426-0957-4627-8765-bc085ff10b08",
   "metadata": {},
   "outputs": [
    {
     "data": {
      "text/plain": [
       "{'decoded_ood_r_squared': 0.7614227489499669,\n",
       " 'decoded_ood_sinkhorn_div_01': 85.6328353881836,\n",
       " 'decoded_ood_e_distance': 4.12626323148969,\n",
       " 'decoded_ood_mmd': 21.937901814778645}"
      ]
     },
     "execution_count": 58,
     "metadata": {},
     "output_type": "execute_result"
    }
   ],
   "source": [
    "mean_ood_metrics_decoded"
   ]
  },
  {
   "cell_type": "code",
   "execution_count": 62,
   "id": "ad5e53e5-ff5f-4df7-9e94-5f4414cebb9f",
   "metadata": {},
   "outputs": [],
   "source": [
    "output_dir = \"/lustre/groups/ml01/workspace/ot_perturbation/data/combosciplex/results\""
   ]
  },
  {
   "cell_type": "code",
   "execution_count": 65,
   "id": "899fc8be-e234-478e-86fc-3874dddf50c8",
   "metadata": {},
   "outputs": [],
   "source": [
    "import os\n",
    "pd.DataFrame.from_dict(ood_metrics_encoded).to_csv(os.path.join(output_dir, \"ood_metrics_encoded.csv\"))\n",
    "pd.DataFrame.from_dict(ood_metrics_decoded).to_csv(os.path.join(output_dir, \"ood_metrics_decoded.csv\"))\n",
    "pd.DataFrame.from_dict(test_metrics_encoded).to_csv(os.path.join(output_dir, \"test_metrics_encoded.csv\"))\n",
    "pd.DataFrame.from_dict(test_metrics_decoded).to_csv(os.path.join(output_dir, \"test_metrics_decoded.csv\"))\n",
    "pd.DataFrame.from_dict(train_metrics_encoded).to_csv(os.path.join(output_dir, \"train_metrics_encoded.csv\"))\n",
    "pd.DataFrame.from_dict(train_metrics_decoded).to_csv(os.path.join(output_dir, \"train_metrics_decoded.csv\"))"
   ]
  },
  {
   "cell_type": "code",
   "execution_count": 71,
   "id": "a51e79fc-51bd-4edf-9363-1178376b5bac",
   "metadata": {},
   "outputs": [
    {
     "data": {
      "text/html": [
       "<div>\n",
       "<style scoped>\n",
       "    .dataframe tbody tr th:only-of-type {\n",
       "        vertical-align: middle;\n",
       "    }\n",
       "\n",
       "    .dataframe tbody tr th {\n",
       "        vertical-align: top;\n",
       "    }\n",
       "\n",
       "    .dataframe thead th {\n",
       "        text-align: right;\n",
       "    }\n",
       "</style>\n",
       "<table border=\"1\" class=\"dataframe\">\n",
       "  <thead>\n",
       "    <tr style=\"text-align: right;\">\n",
       "      <th></th>\n",
       "      <th>id</th>\n",
       "      <th>n_cells</th>\n",
       "      <th>mt</th>\n",
       "      <th>n_cells_by_counts</th>\n",
       "      <th>mean_counts</th>\n",
       "      <th>pct_dropout_by_counts</th>\n",
       "      <th>total_counts</th>\n",
       "      <th>highly_variable</th>\n",
       "      <th>means</th>\n",
       "      <th>dispersions</th>\n",
       "      <th>dispersions_norm</th>\n",
       "    </tr>\n",
       "    <tr>\n",
       "      <th>gene_short_name</th>\n",
       "      <th></th>\n",
       "      <th></th>\n",
       "      <th></th>\n",
       "      <th></th>\n",
       "      <th></th>\n",
       "      <th></th>\n",
       "      <th></th>\n",
       "      <th></th>\n",
       "      <th></th>\n",
       "      <th></th>\n",
       "      <th></th>\n",
       "    </tr>\n",
       "  </thead>\n",
       "  <tbody>\n",
       "    <tr>\n",
       "      <th>C1orf112</th>\n",
       "      <td>ENSG00000000460.16</td>\n",
       "      <td>9158</td>\n",
       "      <td>False</td>\n",
       "      <td>9158</td>\n",
       "      <td>0.248684</td>\n",
       "      <td>85.562037</td>\n",
       "      <td>15774.0</td>\n",
       "      <td>True</td>\n",
       "      <td>0.188306</td>\n",
       "      <td>1.054700</td>\n",
       "      <td>7.938564</td>\n",
       "    </tr>\n",
       "    <tr>\n",
       "      <th>CFTR</th>\n",
       "      <td>ENSG00000001626.14</td>\n",
       "      <td>1756</td>\n",
       "      <td>False</td>\n",
       "      <td>1756</td>\n",
       "      <td>0.033423</td>\n",
       "      <td>97.231594</td>\n",
       "      <td>2120.0</td>\n",
       "      <td>True</td>\n",
       "      <td>0.026559</td>\n",
       "      <td>0.367341</td>\n",
       "      <td>2.067544</td>\n",
       "    </tr>\n",
       "    <tr>\n",
       "      <th>KLHL13</th>\n",
       "      <td>ENSG00000003096.14</td>\n",
       "      <td>6093</td>\n",
       "      <td>False</td>\n",
       "      <td>6093</td>\n",
       "      <td>0.216207</td>\n",
       "      <td>90.394135</td>\n",
       "      <td>13714.0</td>\n",
       "      <td>True</td>\n",
       "      <td>0.162379</td>\n",
       "      <td>1.469726</td>\n",
       "      <td>11.483470</td>\n",
       "    </tr>\n",
       "    <tr>\n",
       "      <th>TFPI</th>\n",
       "      <td>ENSG00000003436.15</td>\n",
       "      <td>18262</td>\n",
       "      <td>False</td>\n",
       "      <td>18262</td>\n",
       "      <td>0.472458</td>\n",
       "      <td>71.209207</td>\n",
       "      <td>29968.0</td>\n",
       "      <td>True</td>\n",
       "      <td>0.343148</td>\n",
       "      <td>0.555299</td>\n",
       "      <td>1.769344</td>\n",
       "    </tr>\n",
       "    <tr>\n",
       "      <th>SLC7A2</th>\n",
       "      <td>ENSG00000003989.17</td>\n",
       "      <td>5449</td>\n",
       "      <td>False</td>\n",
       "      <td>5449</td>\n",
       "      <td>0.097446</td>\n",
       "      <td>91.409428</td>\n",
       "      <td>6181.0</td>\n",
       "      <td>True</td>\n",
       "      <td>0.078516</td>\n",
       "      <td>0.240577</td>\n",
       "      <td>0.984797</td>\n",
       "    </tr>\n",
       "    <tr>\n",
       "      <th>...</th>\n",
       "      <td>...</td>\n",
       "      <td>...</td>\n",
       "      <td>...</td>\n",
       "      <td>...</td>\n",
       "      <td>...</td>\n",
       "      <td>...</td>\n",
       "      <td>...</td>\n",
       "      <td>...</td>\n",
       "      <td>...</td>\n",
       "      <td>...</td>\n",
       "      <td>...</td>\n",
       "    </tr>\n",
       "    <tr>\n",
       "      <th>AC006460.2</th>\n",
       "      <td>ENSG00000284052.1</td>\n",
       "      <td>3637</td>\n",
       "      <td>False</td>\n",
       "      <td>3637</td>\n",
       "      <td>0.065017</td>\n",
       "      <td>94.266120</td>\n",
       "      <td>4124.0</td>\n",
       "      <td>True</td>\n",
       "      <td>0.054669</td>\n",
       "      <td>0.300221</td>\n",
       "      <td>1.494241</td>\n",
       "    </tr>\n",
       "    <tr>\n",
       "      <th>AL589669.1</th>\n",
       "      <td>ENSG00000284377.1</td>\n",
       "      <td>313</td>\n",
       "      <td>False</td>\n",
       "      <td>313</td>\n",
       "      <td>0.005676</td>\n",
       "      <td>99.506543</td>\n",
       "      <td>360.0</td>\n",
       "      <td>True</td>\n",
       "      <td>0.004905</td>\n",
       "      <td>0.411998</td>\n",
       "      <td>2.448978</td>\n",
       "    </tr>\n",
       "    <tr>\n",
       "      <th>AC020912.1</th>\n",
       "      <td>ENSG00000284430.1</td>\n",
       "      <td>24</td>\n",
       "      <td>False</td>\n",
       "      <td>24</td>\n",
       "      <td>0.000378</td>\n",
       "      <td>99.962163</td>\n",
       "      <td>24.0</td>\n",
       "      <td>True</td>\n",
       "      <td>0.000387</td>\n",
       "      <td>0.250882</td>\n",
       "      <td>1.072816</td>\n",
       "    </tr>\n",
       "    <tr>\n",
       "      <th>AL805961.1</th>\n",
       "      <td>ENSG00000284668.1</td>\n",
       "      <td>50</td>\n",
       "      <td>False</td>\n",
       "      <td>50</td>\n",
       "      <td>0.000851</td>\n",
       "      <td>99.921173</td>\n",
       "      <td>54.0</td>\n",
       "      <td>True</td>\n",
       "      <td>0.000696</td>\n",
       "      <td>0.723907</td>\n",
       "      <td>5.113125</td>\n",
       "    </tr>\n",
       "    <tr>\n",
       "      <th>AL031731.1</th>\n",
       "      <td>ENSG00000284708.1</td>\n",
       "      <td>58</td>\n",
       "      <td>False</td>\n",
       "      <td>58</td>\n",
       "      <td>0.000946</td>\n",
       "      <td>99.908561</td>\n",
       "      <td>60.0</td>\n",
       "      <td>True</td>\n",
       "      <td>0.000816</td>\n",
       "      <td>0.276765</td>\n",
       "      <td>1.293896</td>\n",
       "    </tr>\n",
       "  </tbody>\n",
       "</table>\n",
       "<p>2000 rows × 11 columns</p>\n",
       "</div>"
      ],
      "text/plain": [
       "                                 id  n_cells     mt  n_cells_by_counts  \\\n",
       "gene_short_name                                                          \n",
       "C1orf112         ENSG00000000460.16     9158  False               9158   \n",
       "CFTR             ENSG00000001626.14     1756  False               1756   \n",
       "KLHL13           ENSG00000003096.14     6093  False               6093   \n",
       "TFPI             ENSG00000003436.15    18262  False              18262   \n",
       "SLC7A2           ENSG00000003989.17     5449  False               5449   \n",
       "...                             ...      ...    ...                ...   \n",
       "AC006460.2        ENSG00000284052.1     3637  False               3637   \n",
       "AL589669.1        ENSG00000284377.1      313  False                313   \n",
       "AC020912.1        ENSG00000284430.1       24  False                 24   \n",
       "AL805961.1        ENSG00000284668.1       50  False                 50   \n",
       "AL031731.1        ENSG00000284708.1       58  False                 58   \n",
       "\n",
       "                 mean_counts  pct_dropout_by_counts  total_counts  \\\n",
       "gene_short_name                                                     \n",
       "C1orf112            0.248684              85.562037       15774.0   \n",
       "CFTR                0.033423              97.231594        2120.0   \n",
       "KLHL13              0.216207              90.394135       13714.0   \n",
       "TFPI                0.472458              71.209207       29968.0   \n",
       "SLC7A2              0.097446              91.409428        6181.0   \n",
       "...                      ...                    ...           ...   \n",
       "AC006460.2          0.065017              94.266120        4124.0   \n",
       "AL589669.1          0.005676              99.506543         360.0   \n",
       "AC020912.1          0.000378              99.962163          24.0   \n",
       "AL805961.1          0.000851              99.921173          54.0   \n",
       "AL031731.1          0.000946              99.908561          60.0   \n",
       "\n",
       "                 highly_variable     means  dispersions  dispersions_norm  \n",
       "gene_short_name                                                            \n",
       "C1orf112                    True  0.188306     1.054700          7.938564  \n",
       "CFTR                        True  0.026559     0.367341          2.067544  \n",
       "KLHL13                      True  0.162379     1.469726         11.483470  \n",
       "TFPI                        True  0.343148     0.555299          1.769344  \n",
       "SLC7A2                      True  0.078516     0.240577          0.984797  \n",
       "...                          ...       ...          ...               ...  \n",
       "AC006460.2                  True  0.054669     0.300221          1.494241  \n",
       "AL589669.1                  True  0.004905     0.411998          2.448978  \n",
       "AC020912.1                  True  0.000387     0.250882          1.072816  \n",
       "AL805961.1                  True  0.000696     0.723907          5.113125  \n",
       "AL031731.1                  True  0.000816     0.276765          1.293896  \n",
       "\n",
       "[2000 rows x 11 columns]"
      ]
     },
     "execution_count": 71,
     "metadata": {},
     "output_type": "execute_result"
    }
   ],
   "source": [
    "def rank_genes_groups_by_cov(\n",
    "    adata,\n",
    "    groupby,\n",
    "    control_group,\n",
    "    covariate,\n",
    "    pool_doses=False,\n",
    "    n_genes=50,\n",
    "    rankby_abs=True,\n",
    "    key_added=‘rank_genes_groups_cov’,\n",
    "    return_dict=False,\n",
    "):\n",
    "    gene_dict = {}\n",
    "    cov_categories = adata.obs[covariate].unique()\n",
    "    for cov_cat in cov_categories:\n",
    "        #name of the control group in the groupby obs column\n",
    "        control_group_cov = ‘_’.join([cov_cat, control_group])\n",
    "        #subset adata to cells belonging to a covariate category\n",
    "        adata_cov = adata[adata.obs[covariate]==cov_cat]\n",
    "        #compute DEGs\n",
    "        sc.tl.rank_genes_groups(\n",
    "            adata_cov,\n",
    "            groupby=groupby,\n",
    "            reference=control_group_cov,\n",
    "            rankby_abs=rankby_abs,\n",
    "            n_genes=n_genes,\n",
    "            use_raw=False\n",
    "        )\n",
    "        #add entries to dictionary of gene sets\n",
    "        de_genes = pd.DataFrame(adata_cov.uns[‘rank_genes_groups’][‘names’])\n",
    "        for group in de_genes:\n",
    "            gene_dict[group] = de_genes[group].tolist()\n",
    "    adata.uns[key_added] = gene_dict\n",
    "    if return_dict:\n",
    "        return gene_dict\n",
    "\n",
    "\n",
    "def get_DE_genes(adata, skip_calc_de):\n",
    "    adata.obs.loc[:, ‘dose_val’] = adata.obs.condition.apply(lambda x: ‘1+1’ if len(x.split(‘+’)) == 2 else ‘1’)\n",
    "    adata.obs.loc[:, ‘control’] = adata.obs.condition.apply(lambda x: 0 if len(x.split(‘+’)) == 2 else 1)\n",
    "    adata.obs.loc[:, ‘condition_name’] =  adata.obs.apply(lambda x: ‘_’.join([x.cell_type, x.condition, x.dose_val]), axis = 1)\n",
    "    adata.obs = adata.obs.astype(‘category’)\n",
    "    if not skip_calc_de:\n",
    "        rank_genes_groups_by_cov(adata,\n",
    "                         groupby=‘condition_name’,\n",
    "                         covariate=‘cell_type’,\n",
    "                         control_group=‘ctrl_1’,\n",
    "                         n_genes=len(adata.var),\n",
    "                         key_added = ‘rank_genes_groups_cov_all’)\n",
    "    return adata"
   ]
  },
  {
   "cell_type": "code",
   "execution_count": null,
   "id": "572b2103-9f59-4692-8e7d-2283fd70e2d0",
   "metadata": {},
   "outputs": [],
   "source": []
  }
 ],
 "metadata": {
  "kernelspec": {
   "display_name": "ot_pert_genot",
   "language": "python",
   "name": "ot_pert_genot"
  },
  "language_info": {
   "codemirror_mode": {
    "name": "ipython",
    "version": 3
   },
   "file_extension": ".py",
   "mimetype": "text/x-python",
   "name": "python",
   "nbconvert_exporter": "python",
   "pygments_lexer": "ipython3",
   "version": "3.12.2"
  }
 },
 "nbformat": 4,
 "nbformat_minor": 5
}
