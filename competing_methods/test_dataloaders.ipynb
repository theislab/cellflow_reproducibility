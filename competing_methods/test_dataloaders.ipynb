{
 "cells": [
  {
   "cell_type": "code",
   "execution_count": 3,
   "id": "5e2ff247-78a3-47b8-8716-43ec8a966c40",
   "metadata": {},
   "outputs": [],
   "source": [
    "import scanpy as sc\n",
    "import functools\n",
    "import os\n",
    "import sys\n",
    "import traceback\n",
    "from typing import Literal, Optional\n",
    "\n",
    "import functools\n",
    "import os\n",
    "import sys\n",
    "import traceback\n",
    "from typing import Literal, Optional\n",
    "\n",
    "import hydra\n",
    "import jax\n",
    "import jax.numpy as jnp\n",
    "import jax.tree_util as jtu\n",
    "import numpy as np\n",
    "import optax\n",
    "import orbax\n",
    "import scanpy as sc\n",
    "import wandb\n",
    "from omegaconf import DictConfig, OmegaConf\n",
    "from ott.neural import datasets\n",
    "from ott.neural.methods.flows import dynamics, otfm\n",
    "from ott.neural.networks.layers import time_encoder\n",
    "from ott.solvers import utils as solver_utils\n",
    "from torch.utils.data import DataLoader\n",
    "from tqdm import tqdm\n",
    "\n",
    "\n",
    "import hydra\n",
    "import jax\n",
    "import jax.numpy as jnp\n",
    "import jax.tree_util as jtu\n",
    "import numpy as np\n",
    "import optax\n",
    "import orbax\n",
    "import scanpy as sc\n",
    "import wandb\n",
    "from omegaconf import DictConfig, OmegaConf\n",
    "from ott.neural import datasets\n",
    "from ott.neural.methods.flows import dynamics, otfm\n",
    "from ott.neural.networks.layers import time_encoder\n",
    "from ott.solvers import utils as solver_utils\n",
    "from torch.utils.data import DataLoader\n",
    "from tqdm import tqdm\n",
    "\n",
    "from ot_pert.metrics import compute_mean_metrics, compute_metrics, compute_metrics_fast\n",
    "from ot_pert.nets.nets import CondVelocityField\n",
    "from ot_pert.utils import ConditionalLoader"
   ]
  },
  {
   "cell_type": "code",
   "execution_count": 4,
   "id": "90c0336d-d5aa-4bd1-a9f4-06877a23d49e",
   "metadata": {},
   "outputs": [
    {
     "data": {
      "text/plain": [
       "AxisArrays with keys: X_pca, cell_line_emb, ecfp, ecfp_cell_line, ecfp_cell_line_dose, ecfp_cell_line_dose_more_dose, ecfp_cell_line_logdose, ecfp_cell_line_logdose_more_dose"
      ]
     },
     "execution_count": 4,
     "metadata": {},
     "output_type": "execute_result"
    }
   ],
   "source": [
    "adata = sc.read_h5ad(f\"/lustre/groups/ml01/workspace/ot_perturbation/data/sciplex/adata_train_300_{0}.h5ad\")\n",
    "adata.obsm"
   ]
  },
  {
   "cell_type": "code",
   "execution_count": 5,
   "id": "26dda31a-63ff-490d-a56d-35827c4c39fa",
   "metadata": {},
   "outputs": [],
   "source": [
    "obsm_key_data = \"X_pca\"\n",
    "obsm_key_cond = \"ecfp_cell_line_logdose\""
   ]
  },
  {
   "cell_type": "code",
   "execution_count": 6,
   "id": "004eb8d3-c358-4e49-8946-35fc7b532756",
   "metadata": {},
   "outputs": [],
   "source": [
    "def load_data(adata, return_dl: bool = True, batch_size=1024):\n",
    "    \"\"\"Loads data and preprocesses it based on configuration.\"\"\"\n",
    "    dls = []\n",
    "    data_source = {}\n",
    "    data_target = {}\n",
    "    data_source_decoded = {}\n",
    "    data_target_decoded = {}\n",
    "    data_conditions = {}\n",
    "    for cond in adata.obs[\"condition\"].cat.categories:\n",
    "        if \"Vehicle\" not in cond:\n",
    "            src_str_unique = list(adata[adata.obs[\"condition\"] == cond].obs[\"cell_type\"].unique())\n",
    "            assert len(src_str_unique) == 1\n",
    "            src_str = src_str_unique[0] + \"_Vehicle_0.0\"\n",
    "            source = adata[adata.obs[\"condition\"] == src_str].obsm[obsm_key_data]\n",
    "            source_decoded = adata[adata.obs[\"condition\"] == src_str].X.A\n",
    "            target = adata[adata.obs[\"condition\"] == cond].obsm[obsm_key_data]\n",
    "            target_decoded = adata[adata.obs[\"condition\"] == cond].X.A\n",
    "            conds = adata[adata.obs[\"condition\"] == cond].obsm[obsm_key_cond]\n",
    "            assert np.all(np.all(conds == conds[0], axis=1))\n",
    "            conds = np.tile(conds[0], (len(source), 1))\n",
    "            if return_dl:\n",
    "                dls.append(\n",
    "                    DataLoader(\n",
    "                        datasets.OTDataset(\n",
    "                            datasets.OTData(\n",
    "                                lin=source,\n",
    "                                condition=conds,\n",
    "                            ),\n",
    "                            datasets.OTData(lin=target),\n",
    "                        ),\n",
    "                        batch_size=batch_size,\n",
    "                        shuffle=True,\n",
    "                    )\n",
    "                )\n",
    "            else:\n",
    "                data_source[cond] = source\n",
    "                data_target[cond] = target\n",
    "                data_source_decoded[cond] = source_decoded\n",
    "                data_target_decoded[cond] = target_decoded\n",
    "                data_conditions[cond] = conds\n",
    "    if return_dl:\n",
    "        return ConditionalLoader(dls, seed=0)\n",
    "\n",
    "    deg_dict = {k: v for k, v in adata.uns[\"rank_genes_groups_cov_all\"].items() if k in data_conditions.keys()}\n",
    "\n",
    "    return {\n",
    "        \"source\": data_source,\n",
    "        \"target\": data_target,\n",
    "        \"source_decoded\": data_source_decoded,\n",
    "        \"target_decoded\": data_target_decoded,\n",
    "        \"conditions\": data_conditions,\n",
    "        \"deg_dict\": deg_dict,\n",
    "    }\n",
    "\n",
    "\n",
    "def load_data_2(adata, return_dl: bool = True, batch_size=1024):\n",
    "    \"\"\"Loads data and preprocesses it based on configuration.\"\"\"\n",
    "    dls = []\n",
    "    src_str_to_idx = {}\n",
    "    src_idx_to_data = {}\n",
    "    tgt_str_to_idx = {}\n",
    "    tgt_idx_to_data = {}\n",
    "    cond_str_to_idx = {}    \n",
    "    cond_idx_to_data = {}\n",
    "    src_idcs = []\n",
    "    cond_idcs = []\n",
    "    tgt_idcs = []\n",
    "    \n",
    "    for cond in adata.obs[\"condition\"].cat.categories:\n",
    "        if \"Vehicle\" not in cond:\n",
    "            src_str_unique = list(adata[adata.obs[\"condition\"] == cond].obs[\"cell_type\"].unique())\n",
    "            assert len(src_str_unique) == 1\n",
    "            src_str = src_str_unique[0] + \"_Vehicle_0.0\"\n",
    "            if src_str in src_str_to_idx:\n",
    "                src_idx = src_str_to_idx[src_str]\n",
    "            else:\n",
    "                src_idx = len(src_str_to_idx)\n",
    "                src_str_to_idx[src_str] = src_idx\n",
    "                src_idx_to_data[src_idx] = jnp.asarray(adata[adata.obs[\"condition\"] == src_str].obsm[obsm_key_data])\n",
    "            if cond in tgt_str_to_idx:\n",
    "                tgt_idx = tgt_str_to_idx[cond]\n",
    "            else:\n",
    "                tgt_idx = len(tgt_str_to_idx)\n",
    "                tgt_str_to_idx[cond] = tgt_idx\n",
    "                tgt_idx_to_data[tgt_idx] = jnp.asarray(adata[adata.obs[\"condition\"] == cond].obsm[obsm_key_data])\n",
    "            if cond in cond_str_to_idx:\n",
    "                cond_idx = cond_str_to_idx[cond]\n",
    "            else:\n",
    "                cond_idx = len(cond_str_to_idx)\n",
    "                cond_str_to_idx[cond] = cond_idx\n",
    "                cond_idx_to_data[cond_idx] = jnp.asarray(adata[adata.obs[\"condition\"] == cond].obsm[obsm_key_cond][0])\n",
    "            \n",
    "            \n",
    "            src_idcs.append(src_idx)\n",
    "            cond_idcs.append(cond_idx)\n",
    "            tgt_idcs.append(tgt_idx)\n",
    "            \n",
    "\n",
    "    if return_dl:\n",
    "        return JaxSampler(src_idcs, cond_idcs, tgt_idcs, src_str_to_idx, src_idx_to_data, tgt_str_to_idx, tgt_idx_to_data, cond_str_to_idx, cond_idx_to_data, batch_size=batch_size)\n",
    "\n"
   ]
  },
  {
   "cell_type": "code",
   "execution_count": 7,
   "id": "fa5d6d61-22e9-4e02-a40c-b76022e66071",
   "metadata": {},
   "outputs": [
    {
     "name": "stderr",
     "output_type": "stream",
     "text": [
      "/home/icb/dominik.klein/mambaforge/envs/ot_pert_genot_scvi/lib/python3.12/site-packages/tqdm/auto.py:21: TqdmWarning: IProgress not found. Please update jupyter and ipywidgets. See https://ipywidgets.readthedocs.io/en/stable/user_install.html\n",
      "  from .autonotebook import tqdm as notebook_tqdm\n"
     ]
    }
   ],
   "source": [
    "from types import MappingProxyType\n",
    "from typing import Any, Dict, List, Tuple, Union, Literal, Optional\n",
    "from functools import partial\n",
    "\n",
    "import jax\n",
    "import jax.numpy as jnp\n",
    "from jax import vmap\n",
    "\n",
    "from ott.solvers.linear import sinkhorn\n",
    "from ott.geometry.pointcloud import PointCloud\n",
    "\n",
    "from juniper.types import Tensor\n",
    "\n",
    "\n",
    "class JaxSampler:\n",
    "    \"\"\"Data sampler for Jax.\"\"\"\n",
    "\n",
    "    def __init__(\n",
    "        self,\n",
    "        idcs_source: jax.Array,\n",
    "        idcs_conditions: jax.Array,\n",
    "        idcs_target: jax.Array,\n",
    "        src_str_to_idx: Dict[str, int], \n",
    "        src_idx_to_data: Dict[int, jax.Array], \n",
    "        tgt_str_to_idx: Dict[str, int], \n",
    "        tgt_idx_to_data: Dict[int, jax.Array], \n",
    "        cond_str_to_idx: Dict[str, int], \n",
    "        cond_idx_to_data: Dict[int, jax.Array],\n",
    "        batch_size: int,\n",
    "\n",
    "    ):\n",
    "        assert len(idcs_source) == len(idcs_conditions)\n",
    "        assert len(idcs_source) == len(idcs_target)\n",
    "        \"\"\"Initialize data sampler.\"\"\"\n",
    "        self.batch_size = batch_size\n",
    "        self.idcs_source = idcs_source\n",
    "        self.idcs_conditions = idcs_conditions\n",
    "        self.idcs_target = idcs_target\n",
    "        self.n_conditions = len(idcs_source)\n",
    "        self.src_str_to_idx = src_str_to_idx\n",
    "        self.src_idx_to_data = src_idx_to_data\n",
    "        self.tgt_str_to_idx = tgt_str_to_idx\n",
    "        self.tgt_idx_to_data = tgt_idx_to_data\n",
    "        self.cond_str_to_idx = cond_str_to_idx\n",
    "        self.cond_idx_to_data = cond_idx_to_data\n",
    "        \n",
    "\n",
    "        @partial(jax.jit, static_argnames=[\"dist_idx\"])\n",
    "        def _sample_batch(\n",
    "            dist_idx: jax.Array,\n",
    "            rng: jax.Array,\n",
    "        ) -> Dict[str, jax.Array]:\n",
    "            \"\"\"Jitted sample function.\"\"\"\n",
    "            rng_1, rng_2, rng_3 = jax.random.split(rng, 3)\n",
    "            src_idx, conds_idx, tgt_idx = self.idcs_source[dist_idx],  self.idcs_conditions[dist_idx],  self.idcs_target[dist_idx]\n",
    "    \n",
    "            src = self.src_idx_to_data[src_idx]\n",
    "            tgt = self.tgt_idx_to_data[tgt_idx]\n",
    "            cond = np.tile(self.cond_idx_to_data[conds_idx], (len(src), 1))\n",
    "             \n",
    "            \n",
    "            \n",
    "            source_idcs = jax.random.choice(\n",
    "                rng_2,\n",
    "                len(src),\n",
    "                replace=True,\n",
    "                shape=[self.batch_size],\n",
    "            )\n",
    "    \n",
    "            tgt_idcs = jax.random.choice(\n",
    "                rng_3,\n",
    "                len(tgt),\n",
    "                replace=True,\n",
    "                shape=[self.batch_size],\n",
    "            )\n",
    "    \n",
    "            return {\"src_lin\": src[source_idcs], \"tgt_lin\": tgt[tgt_idcs], \"src_condition\": cond}\n",
    "\n",
    "\n",
    "        self.sample_batch=_sample_batch\n",
    "\n",
    "    \n",
    "    "
   ]
  },
  {
   "cell_type": "code",
   "execution_count": null,
   "id": "8a1ea7ae-56b3-4f22-983b-e13ad4ff6ae9",
   "metadata": {},
   "outputs": [],
   "source": []
  },
  {
   "cell_type": "code",
   "execution_count": 6,
   "id": "6c634709-e78d-47ab-893a-71e86c5d13cb",
   "metadata": {},
   "outputs": [
    {
     "name": "stderr",
     "output_type": "stream",
     "text": [
      "2024-07-11 14:28:13.165780: W external/xla/xla/service/gpu/nvptx_compiler.cc:718] The NVIDIA driver's CUDA version is 12.3 which is older than the ptxas CUDA version (12.4.131). Because the driver is older than the ptxas version, XLA is disabling parallel compilation, which may slow down compilation. You should update your NVIDIA driver or use the NVIDIA-provided CUDA forward compatibility packages.\n"
     ]
    }
   ],
   "source": [
    "dl1 = load_data(adata)"
   ]
  },
  {
   "cell_type": "code",
   "execution_count": 8,
   "id": "c48632f7-945a-4504-88b6-84881f96cc9d",
   "metadata": {},
   "outputs": [],
   "source": [
    "dl2 = load_data_2(adata)"
   ]
  },
  {
   "cell_type": "code",
   "execution_count": 10,
   "id": "44137bde-57d3-45f5-8bda-592f532f8d74",
   "metadata": {},
   "outputs": [
    {
     "data": {
      "text/plain": [
       "1199"
      ]
     },
     "execution_count": 10,
     "metadata": {},
     "output_type": "execute_result"
    }
   ],
   "source": [
    "dl2.n_conditions"
   ]
  },
  {
   "cell_type": "code",
   "execution_count": 17,
   "id": "24aa3c07-d6f8-4182-b3fb-09d33ba0472a",
   "metadata": {},
   "outputs": [
    {
     "data": {
      "text/plain": [
       "1199"
      ]
     },
     "execution_count": 17,
     "metadata": {},
     "output_type": "execute_result"
    }
   ],
   "source": [
    "len(dl2.idcs_conditions)"
   ]
  },
  {
   "cell_type": "code",
   "execution_count": null,
   "id": "723d3e03-63dc-4742-ae92-584a5178926d",
   "metadata": {},
   "outputs": [],
   "source": [
    "\n",
    "cond_str_to_idx: Dict[str, int], \n",
    "        cond_idx_to_data: Dict[int, jax.Array],"
   ]
  },
  {
   "cell_type": "code",
   "execution_count": 25,
   "id": "3afca2fe-286d-4067-bfbf-2afe65d927c7",
   "metadata": {},
   "outputs": [
    {
     "data": {
      "text/plain": [
       "(2787, 300)"
      ]
     },
     "execution_count": 25,
     "metadata": {},
     "output_type": "execute_result"
    }
   ],
   "source": [
    "dl2.src_idx_to_data[0].shape"
   ]
  },
  {
   "cell_type": "code",
   "execution_count": 26,
   "id": "f96a7d57-7b37-4a6a-bd45-b3f06e405e96",
   "metadata": {},
   "outputs": [
    {
     "data": {
      "text/plain": [
       "3"
      ]
     },
     "execution_count": 26,
     "metadata": {},
     "output_type": "execute_result"
    }
   ],
   "source": [
    "len(dl2.src_idx_to_data)"
   ]
  },
  {
   "cell_type": "code",
   "execution_count": 27,
   "id": "4893280d-f339-46dc-8ae6-31410068789e",
   "metadata": {},
   "outputs": [
    {
     "data": {
      "text/plain": [
       "1199"
      ]
     },
     "execution_count": 27,
     "metadata": {},
     "output_type": "execute_result"
    }
   ],
   "source": [
    "len(dl2.tgt_idx_to_data)"
   ]
  },
  {
   "cell_type": "code",
   "execution_count": null,
   "id": "dd0747f3-86ee-4b7c-aae6-c07c09fb9c69",
   "metadata": {},
   "outputs": [],
   "source": []
  },
  {
   "cell_type": "code",
   "execution_count": 163,
   "id": "c66c495b-1938-4d8b-af3f-6b4bcab7e453",
   "metadata": {},
   "outputs": [],
   "source": [
    "\n",
    "def profile_dl1(num_iters, rng):\n",
    "    \n",
    "    for it in range(num_iters):\n",
    "        rng, rng_resample, rng_step_fn = jax.random.split(rng, 3)\n",
    "        batch = next(dl1)\n",
    "        batch = jtu.tree_map(jnp.asarray, batch)\n",
    "    \n",
    "        src, tgt = batch[\"src_lin\"], batch[\"tgt_lin\"]\n",
    "        src_cond = batch.get(\"src_condition\")\n",
    "    return 1\n",
    "\n",
    "def profile_dl2(num_iters, rng):\n",
    "    for it in range(num_iters):\n",
    "        rng, rng_resample, rng_step_fn = jax.random.split(rng, 3)\n",
    "        idx = int(jax.random.randint(\n",
    "                rng, shape=[], minval=0, maxval=dl2.n_conditions\n",
    "            ))\n",
    "        batch = dl2.sample_batch(idx, rng)\n",
    "    \n",
    "        src, tgt = batch[\"src_lin\"], batch[\"tgt_lin\"]\n",
    "        src_cond = batch.get(\"src_condition\")\n",
    "    return 1"
   ]
  },
  {
   "cell_type": "code",
   "execution_count": 164,
   "id": "bb82bf63-f428-4114-a514-8bd19ccb09b4",
   "metadata": {},
   "outputs": [],
   "source": [
    "import timeit"
   ]
  },
  {
   "cell_type": "code",
   "execution_count": 165,
   "id": "6378e460-3956-4ab0-8af6-a3f16c72eb44",
   "metadata": {},
   "outputs": [],
   "source": [
    "num_iters=1000"
   ]
  },
  {
   "cell_type": "code",
   "execution_count": 166,
   "id": "f0a7d4f1-7387-41c3-9868-e9ac280857f7",
   "metadata": {},
   "outputs": [],
   "source": [
    "profile_dl1_partial = functools.partial(profile_dl1, num_iters=num_iters, rng=rng)\n",
    "profile_dl2_partial = functools.partial(profile_dl2, num_iters=num_iters, rng=rng)"
   ]
  },
  {
   "cell_type": "code",
   "execution_count": 167,
   "id": "998016be-cf71-4de5-8633-327e39acbeee",
   "metadata": {},
   "outputs": [],
   "source": [
    "\n",
    "num_runs = 1\n",
    "\n",
    "# Measure the execution time\n",
    "execution_time = timeit.timeit('profile_dl1_partial()', globals=globals(), number=num_runs)\n"
   ]
  },
  {
   "cell_type": "code",
   "execution_count": 168,
   "id": "657dc761-9429-4d8b-a372-c9c9f19b41fe",
   "metadata": {},
   "outputs": [
    {
     "data": {
      "text/plain": [
       "40.13994951173663"
      ]
     },
     "execution_count": 168,
     "metadata": {},
     "output_type": "execute_result"
    }
   ],
   "source": [
    "execution_time"
   ]
  },
  {
   "cell_type": "code",
   "execution_count": 169,
   "id": "49e521ff-290f-4135-8acf-f684868e3353",
   "metadata": {},
   "outputs": [],
   "source": [
    "num_runs = 1\n",
    "\n",
    "# Measure the execution time\n",
    "execution_time = timeit.timeit('profile_dl2_partial()', globals=globals(), number=num_runs)"
   ]
  },
  {
   "cell_type": "code",
   "execution_count": 170,
   "id": "427b28d6-9e19-4840-bb2d-a77ba4eef44a",
   "metadata": {},
   "outputs": [
    {
     "data": {
      "text/plain": [
       "219.64013634249568"
      ]
     },
     "execution_count": 170,
     "metadata": {},
     "output_type": "execute_result"
    }
   ],
   "source": [
    "execution_time"
   ]
  },
  {
   "cell_type": "code",
   "execution_count": null,
   "id": "dd7da574-90f3-41eb-a52c-52f28c0a011a",
   "metadata": {},
   "outputs": [],
   "source": []
  },
  {
   "cell_type": "code",
   "execution_count": 2,
   "id": "d10a1138-9b22-48b5-9428-ed37a408299b",
   "metadata": {},
   "outputs": [
    {
     "ename": "NameError",
     "evalue": "name 'timeit' is not defined",
     "output_type": "error",
     "traceback": [
      "\u001b[0;31m---------------------------------------------------------------------------\u001b[0m",
      "\u001b[0;31mNameError\u001b[0m                                 Traceback (most recent call last)",
      "Cell \u001b[0;32mIn[2], line 4\u001b[0m\n\u001b[1;32m      1\u001b[0m num_runs \u001b[38;5;241m=\u001b[39m \u001b[38;5;241m1\u001b[39m\n\u001b[1;32m      3\u001b[0m \u001b[38;5;66;03m# Measure the execution time\u001b[39;00m\n\u001b[0;32m----> 4\u001b[0m execution_time \u001b[38;5;241m=\u001b[39m timeit\u001b[38;5;241m.\u001b[39mtimeit(\u001b[38;5;124m'\u001b[39m\u001b[38;5;124mprofile_dl2_partial()\u001b[39m\u001b[38;5;124m'\u001b[39m, \u001b[38;5;28mglobals\u001b[39m\u001b[38;5;241m=\u001b[39m\u001b[38;5;28mglobals\u001b[39m(), number\u001b[38;5;241m=\u001b[39mnum_runs)\n",
      "\u001b[0;31mNameError\u001b[0m: name 'timeit' is not defined"
     ]
    }
   ],
   "source": [
    "num_runs = 1\n",
    "\n",
    "# Measure the execution time\n",
    "execution_time = timeit.timeit('profile_dl2_partial()', globals=globals(), number=num_runs)"
   ]
  },
  {
   "cell_type": "code",
   "execution_count": null,
   "id": "807c5093-a44d-496e-9dbb-6710456d61cf",
   "metadata": {},
   "outputs": [],
   "source": [
    "execution_time"
   ]
  },
  {
   "cell_type": "code",
   "execution_count": null,
   "id": "f8ad053f-babd-4a62-a860-b5250dd097a2",
   "metadata": {},
   "outputs": [],
   "source": []
  },
  {
   "cell_type": "code",
   "execution_count": null,
   "id": "0feb513e-9275-4b86-9445-c98ee686082a",
   "metadata": {},
   "outputs": [],
   "source": []
  },
  {
   "cell_type": "code",
   "execution_count": 130,
   "id": "3cb1f639-6de5-4468-ac4c-c2c62a7bb03a",
   "metadata": {},
   "outputs": [],
   "source": [
    "\n",
    "num_runs = 5\n",
    "\n",
    "# Measure the execution time\n",
    "execution_time = timeit.timeit('profile_dl1_partial()', globals=globals(), number=num_runs)\n"
   ]
  },
  {
   "cell_type": "code",
   "execution_count": 131,
   "id": "c58fb9cc-6dc7-4be4-adaa-0deac81c88ea",
   "metadata": {},
   "outputs": [
    {
     "data": {
      "text/plain": [
       "20.433078983798623"
      ]
     },
     "execution_count": 131,
     "metadata": {},
     "output_type": "execute_result"
    }
   ],
   "source": [
    "execution_time "
   ]
  },
  {
   "cell_type": "code",
   "execution_count": null,
   "id": "0db439b8-e922-48a8-8d6f-35522e52296f",
   "metadata": {},
   "outputs": [],
   "source": []
  },
  {
   "cell_type": "code",
   "execution_count": 150,
   "id": "59fe39f3-d846-46ef-8e42-e97c2684f990",
   "metadata": {},
   "outputs": [],
   "source": [
    "num_runs = 1\n",
    "\n",
    "# Measure the execution time\n",
    "execution_time = timeit.timeit('profile_dl2_partial()', globals=globals(), number=num_runs)"
   ]
  },
  {
   "cell_type": "code",
   "execution_count": 151,
   "id": "9ec613ff-fe2e-46fa-944d-bef4875fba91",
   "metadata": {},
   "outputs": [
    {
     "data": {
      "text/plain": [
       "0.04699268192052841"
      ]
     },
     "execution_count": 151,
     "metadata": {},
     "output_type": "execute_result"
    }
   ],
   "source": [
    "execution_time"
   ]
  },
  {
   "cell_type": "code",
   "execution_count": 152,
   "id": "e9808230-5d99-49ef-b81a-5accc2996b75",
   "metadata": {},
   "outputs": [],
   "source": [
    "num_runs = 5\n",
    "\n",
    "# Measure the execution time\n",
    "execution_time = timeit.timeit('profile_dl2_partial()', globals=globals(), number=num_runs)"
   ]
  },
  {
   "cell_type": "code",
   "execution_count": 153,
   "id": "5591e2b1-833c-4b09-9969-f7a20c124edf",
   "metadata": {},
   "outputs": [
    {
     "data": {
      "text/plain": [
       "0.2392442300915718"
      ]
     },
     "execution_count": 153,
     "metadata": {},
     "output_type": "execute_result"
    }
   ],
   "source": [
    "execution_time"
   ]
  },
  {
   "cell_type": "code",
   "execution_count": null,
   "id": "74636a3f-4f4c-42a5-b268-74bf3ee2fd89",
   "metadata": {},
   "outputs": [],
   "source": []
  },
  {
   "cell_type": "code",
   "execution_count": null,
   "id": "0839b007-00c5-4716-8df1-84ab4949426a",
   "metadata": {},
   "outputs": [],
   "source": []
  },
  {
   "cell_type": "code",
   "execution_count": 60,
   "id": "b7b9252e-e359-4e51-bc05-1e23b4ea1aa1",
   "metadata": {},
   "outputs": [
    {
     "data": {
      "text/plain": [
       "0.4187095109373331"
      ]
     },
     "execution_count": 60,
     "metadata": {},
     "output_type": "execute_result"
    }
   ],
   "source": [
    "execution_time"
   ]
  },
  {
   "cell_type": "code",
   "execution_count": 50,
   "id": "79fde15c-56ac-4549-ba75-ba3169ca6a72",
   "metadata": {},
   "outputs": [
    {
     "data": {
      "text/plain": [
       "14.171960074454546"
      ]
     },
     "execution_count": 50,
     "metadata": {},
     "output_type": "execute_result"
    }
   ],
   "source": [
    "execution_time"
   ]
  },
  {
   "cell_type": "code",
   "execution_count": null,
   "id": "2283708a-b4cc-49ea-8106-ca2998cf9284",
   "metadata": {},
   "outputs": [],
   "source": []
  },
  {
   "cell_type": "code",
   "execution_count": null,
   "id": "5ac8fbc7-bcb9-45d2-89cf-8321b1685ab9",
   "metadata": {},
   "outputs": [],
   "source": []
  },
  {
   "cell_type": "code",
   "execution_count": null,
   "id": "95d0b036-e22a-4a06-8be9-b340651b66aa",
   "metadata": {},
   "outputs": [],
   "source": []
  },
  {
   "cell_type": "code",
   "execution_count": null,
   "id": "6397f16c-df60-4eb4-87d2-4412b04e0fe6",
   "metadata": {},
   "outputs": [],
   "source": [
    "from types import MappingProxyType\n",
    "from typing import Any, Dict, List, Tuple, Union, Literal, Optional\n",
    "from functools import partial\n",
    "\n",
    "import jax\n",
    "import jax.numpy as jnp\n",
    "from jax import vmap\n",
    "\n",
    "from ott.solvers.linear import sinkhorn\n",
    "from ott.geometry.pointcloud import PointCloud\n",
    "\n",
    "from juniper.types import Tensor\n",
    "\n",
    "\n",
    "class JaxSampler:\n",
    "    \"\"\"Data sampler for Jax.\"\"\"\n",
    "\n",
    "    def __init__(\n",
    "        self,\n",
    "        data: List[Tuple[jnp.ndarray, jnp.ndarray, jnp.ndarray]], # src, src_condition, tgt\n",
    "        src_str_to_idx, \n",
    "        src_idx_to_data, \n",
    "        tgt_str_to_idx, \n",
    "        tgt_idx_to_data, \n",
    "        cond_str_to_idx, \n",
    "        cond_idx_to_data,\n",
    "        batch_size: int,\n",
    "    ):\n",
    "        \"\"\"Initialize data sampler.\"\"\"\n",
    "        self.batch_size = batch_size\n",
    "        self.data = data\n",
    "        self.n_conditions = len(data)\n",
    "        self.src_str_to_idx = src_str_to_idx\n",
    "        self.src_idx_to_data = src_idx_to_data\n",
    "        self.tgt_str_to_idx = tgt_str_to_idx\n",
    "        self.tgt_idx_to_data = tgt_idx_to_data\n",
    "        self.cond_str_to_idx = cond_str_to_idx\n",
    "        self.cond_idx_to_data = cond_idx_to_data\n",
    "\n",
    "def _sample_batch(\n",
    "    rng: jax.Array,\n",
    "    batch_size: int,\n",
    "    data: List[Tuple[jnp.ndarray, jnp.ndarray, jnp.ndarray]],\n",
    "    src_idx_to_data,\n",
    "    tgt_idx_to_data,\n",
    "    cond_idx_to_data,\n",
    "    n_conditions: int\n",
    ") -> Dict[str, jnp.ndarray]:\n",
    "    \"\"\"Jitted sample function.\"\"\"\n",
    "    rng_1, rng_2, rng_3 = jax.random.split(rng, 3)\n",
    "    # sample condition\n",
    "    dist_idx = jax.random.choice(rng_1, n_conditions)\n",
    "    src_idx, conds_idx, tgt_idx = data[dist_idx]\n",
    "\n",
    "    src = src_idx_to_data[src_idx]\n",
    "    tgt = tgt_idx_to_data[tgt_idx]\n",
    "    cond = cond_idx_to_data[conds_idx]\n",
    "\n",
    "    source_idcs = jax.random.choice(\n",
    "        rng_2,\n",
    "        len(src),\n",
    "        replace=True,\n",
    "        shape=[batch_size],\n",
    "    )\n",
    "\n",
    "    tgt_idcs = jax.random.choice(\n",
    "        rng_3,\n",
    "        len(tgt),\n",
    "        replace=True,\n",
    "        shape=[batch_size],\n",
    "    )\n",
    "\n",
    "    return {\"src_lin\": src[source_idcs], \"tgt_lin\": tgt[tgt_idcs], \"src_condition\": cond}\n",
    "\n",
    "# Jit the _sample_batch function\n",
    "sample_batch_jitted = jax.jit(_sample_batch)\n",
    "\n",
    "# Usage\n",
    "sampler = JaxSampler(\n",
    "    data=[...],  # your data here\n",
    "    src_str_to_idx=,\n",
    "    src_idx_to_data=...,\n",
    "    tgt_str_to_idx=...,\n",
    "    tgt_idx_to_data=...,\n",
    "    cond_str_to_idx=...,\n",
    "    cond_idx_to_data=...,\n",
    "    batch_size=32\n",
    ")\n",
    "\n",
    "rng = jax.random.PRNGKey(0)\n",
    "batch = sample_batch_jitted(\n",
    "    rng,\n",
    "    sampler.batch_size,\n",
    "    sampler.data,\n",
    "    sampler.src_idx_to_data,\n",
    "    sampler.tgt_idx_to_data,\n",
    "    sampler.cond_idx_to_data,\n",
    "    sampler.n_conditions\n",
    ")\n",
    "\n",
    "print(batch)\n"
   ]
  },
  {
   "cell_type": "code",
   "execution_count": null,
   "id": "91a71465-b7af-494f-ad53-8ad034c10ca8",
   "metadata": {},
   "outputs": [],
   "source": []
  },
  {
   "cell_type": "code",
   "execution_count": 181,
   "id": "3a48f9ea-befa-46d2-a491-d7b67c3726d3",
   "metadata": {},
   "outputs": [],
   "source": [
    "adata_test_path= \"/lustre/groups/ml01/workspace/ot_perturbation/data/sciplex/adata_test_biolord_split_30.h5ad\"\n",
    "adata_ood_path=\"/lustre/groups/ml01/workspace/ot_perturbation/data/sciplex/adata_ood_biolord_split_30.h5ad\""
   ]
  },
  {
   "cell_type": "code",
   "execution_count": 182,
   "id": "ced52677-59c1-4572-b2dd-efcd32f2ec9e",
   "metadata": {},
   "outputs": [],
   "source": [
    "adata_test = sc.read_h5ad(adata_test_path)"
   ]
  },
  {
   "cell_type": "code",
   "execution_count": 183,
   "id": "38b1dd91-d9a2-4670-a605-3569b8764a42",
   "metadata": {},
   "outputs": [],
   "source": [
    "adata_ood = sc.read_h5ad(adata_ood_path)"
   ]
  },
  {
   "cell_type": "code",
   "execution_count": 184,
   "id": "9dc58bfd-215f-4c19-b9d6-2407e50e5805",
   "metadata": {},
   "outputs": [
    {
     "data": {
      "text/plain": [
       "OrderedDict()"
      ]
     },
     "execution_count": 184,
     "metadata": {},
     "output_type": "execute_result"
    }
   ],
   "source": [
    "adata_ood.uns\n"
   ]
  },
  {
   "cell_type": "code",
   "execution_count": 186,
   "id": "dca84d6d-5b68-4264-b60c-46376c9c3887",
   "metadata": {},
   "outputs": [
    {
     "data": {
      "text/plain": [
       "dict_keys(['hvg', 'log1p', 'pca', 'rank_genes_groups_cov_all'])"
      ]
     },
     "execution_count": 186,
     "metadata": {},
     "output_type": "execute_result"
    }
   ],
   "source": [
    "adata_test.uns.keys()"
   ]
  },
  {
   "cell_type": "code",
   "execution_count": 187,
   "id": "567963fb-bf00-4ef1-ac51-e3ac91f9dd6f",
   "metadata": {},
   "outputs": [],
   "source": [
    "adata_ood.uns['rank_genes_groups_cov_all'] = adata_test.uns['rank_genes_groups_cov_all']"
   ]
  },
  {
   "cell_type": "code",
   "execution_count": 188,
   "id": "b637d646-0e4c-4310-9ebd-5bac0d63f212",
   "metadata": {},
   "outputs": [],
   "source": [
    "adata_ood.write(\"/lustre/groups/ml01/workspace/ot_perturbation/data/sciplex/adata_ood_biolord_split_30.h5ad\")"
   ]
  },
  {
   "cell_type": "code",
   "execution_count": 190,
   "id": "b3f481e6-3c40-4fe7-8fa8-02c457699dd4",
   "metadata": {},
   "outputs": [
    {
     "data": {
      "text/plain": [
       "AxisArrays with keys: PCs"
      ]
     },
     "execution_count": 190,
     "metadata": {},
     "output_type": "execute_result"
    }
   ],
   "source": [
    "adata_test.varm"
   ]
  },
  {
   "cell_type": "code",
   "execution_count": 191,
   "id": "fea560cb-83e5-4ee1-909b-780d014cb896",
   "metadata": {},
   "outputs": [],
   "source": [
    "adata_train_path = \"/lustre/groups/ml01/workspace/ot_perturbation/data/sciplex/adata_train_biolord_split_30.h5ad\"\n",
    "adata_train_path = \"/lustre/groups/ml01/workspace/ot_perturbation/data/sciplex/adata_test_biolord_split_30.h5ad\""
   ]
  },
  {
   "cell_type": "code",
   "execution_count": null,
   "id": "4b9ab033-1fd2-4e34-ae9c-6dc83b9cbf96",
   "metadata": {},
   "outputs": [],
   "source": [
    "adata_train = sc.read_h5ad(adata_train_path)"
   ]
  },
  {
   "cell_type": "code",
   "execution_count": null,
   "id": "0aa16d4a-660a-44e5-83f3-550edc0e5232",
   "metadata": {},
   "outputs": [],
   "source": [
    "adata_train.varm"
   ]
  },
  {
   "cell_type": "code",
   "execution_count": 1,
   "id": "aa791a2b-85bc-48d1-a724-7d1ac3c86803",
   "metadata": {},
   "outputs": [],
   "source": [
    "import scanpy as sc"
   ]
  },
  {
   "cell_type": "code",
   "execution_count": null,
   "id": "0ccdf7e3-bc6b-4986-8a5d-d5e4ab63ae0f",
   "metadata": {},
   "outputs": [],
   "source": [
    "adata_train_"
   ]
  }
 ],
 "metadata": {
  "kernelspec": {
   "display_name": "ot_pert_genot_scvi",
   "language": "python",
   "name": "ot_pert_genot_scvi"
  },
  "language_info": {
   "codemirror_mode": {
    "name": "ipython",
    "version": 3
   },
   "file_extension": ".py",
   "mimetype": "text/x-python",
   "name": "python",
   "nbconvert_exporter": "python",
   "pygments_lexer": "ipython3",
   "version": "3.12.2"
  }
 },
 "nbformat": 4,
 "nbformat_minor": 5
}
