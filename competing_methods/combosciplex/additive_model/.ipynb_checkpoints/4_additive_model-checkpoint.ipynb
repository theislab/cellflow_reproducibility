{
 "cells": [
  {
   "cell_type": "code",
   "execution_count": 1,
   "id": "f41f72b6-d9a1-4ea3-b807-4b19dc1f64e2",
   "metadata": {},
   "outputs": [],
   "source": [
    "import scanpy as sc\n",
    "import numpy as np\n",
    "import functools\n",
    "import jax\n",
    "from cfp.metrics import compute_metrics, compute_mean_metrics, compute_metrics_fast\n",
    "import cfp.preprocessing as cfpp"
   ]
  },
  {
   "cell_type": "code",
   "execution_count": 2,
   "id": "f4643636-9f42-4cdf-8a64-7713e9a05264",
   "metadata": {},
   "outputs": [],
   "source": [
    "split = 3"
   ]
  },
  {
   "cell_type": "code",
   "execution_count": 3,
   "id": "e2720f00-5122-46fb-b8cf-5c52614cce2b",
   "metadata": {},
   "outputs": [],
   "source": [
    "adata_train_path = f\"/lustre/groups/ml01/workspace/ot_perturbation/data/combosciplex/adata_train_{split}.h5ad\"\n",
    "adata_test_path = f\"/lustre/groups/ml01/workspace/ot_perturbation/data/combosciplex/adata_test_{split}.h5ad\"\n",
    "adata_ood_path = f\"/lustre/groups/ml01/workspace/ot_perturbation/data/combosciplex/adata_ood_{split}.h5ad\""
   ]
  },
  {
   "cell_type": "code",
   "execution_count": 4,
   "id": "a7a54c1f-0035-4515-a58c-34568f9616c8",
   "metadata": {},
   "outputs": [],
   "source": [
    "adata_train = sc.read(adata_train_path)\n",
    "adata_test = sc.read(adata_test_path)\n",
    "adata_ood = sc.read(adata_ood_path)\n"
   ]
  },
  {
   "cell_type": "code",
   "execution_count": 5,
   "id": "348d7a67-c4be-49cf-8fc9-e6055aba351c",
   "metadata": {},
   "outputs": [
    {
     "data": {
      "text/html": [
       "<div>\n",
       "<style scoped>\n",
       "    .dataframe tbody tr th:only-of-type {\n",
       "        vertical-align: middle;\n",
       "    }\n",
       "\n",
       "    .dataframe tbody tr th {\n",
       "        vertical-align: top;\n",
       "    }\n",
       "\n",
       "    .dataframe thead th {\n",
       "        text-align: right;\n",
       "    }\n",
       "</style>\n",
       "<table border=\"1\" class=\"dataframe\">\n",
       "  <thead>\n",
       "    <tr style=\"text-align: right;\">\n",
       "      <th></th>\n",
       "      <th>sample</th>\n",
       "      <th>Size_Factor</th>\n",
       "      <th>n.umi</th>\n",
       "      <th>RT_well</th>\n",
       "      <th>Drug1</th>\n",
       "      <th>Drug2</th>\n",
       "      <th>Well</th>\n",
       "      <th>n_genes</th>\n",
       "      <th>n_genes_by_counts</th>\n",
       "      <th>total_counts</th>\n",
       "      <th>...</th>\n",
       "      <th>split</th>\n",
       "      <th>control</th>\n",
       "      <th>cell_type</th>\n",
       "      <th>cell_line</th>\n",
       "      <th>smiles_drug_1</th>\n",
       "      <th>smiles_drug_2</th>\n",
       "      <th>ood_1</th>\n",
       "      <th>ood_2</th>\n",
       "      <th>ood_3</th>\n",
       "      <th>ood_4</th>\n",
       "    </tr>\n",
       "    <tr>\n",
       "      <th>Cell</th>\n",
       "      <th></th>\n",
       "      <th></th>\n",
       "      <th></th>\n",
       "      <th></th>\n",
       "      <th></th>\n",
       "      <th></th>\n",
       "      <th></th>\n",
       "      <th></th>\n",
       "      <th></th>\n",
       "      <th></th>\n",
       "      <th></th>\n",
       "      <th></th>\n",
       "      <th></th>\n",
       "      <th></th>\n",
       "      <th></th>\n",
       "      <th></th>\n",
       "      <th></th>\n",
       "      <th></th>\n",
       "      <th></th>\n",
       "      <th></th>\n",
       "      <th></th>\n",
       "    </tr>\n",
       "  </thead>\n",
       "  <tbody>\n",
       "    <tr>\n",
       "      <th>A01_A02_RT_BC_22_Lig_BC_17</th>\n",
       "      <td>sciPlex_theis</td>\n",
       "      <td>0.899999</td>\n",
       "      <td>2416</td>\n",
       "      <td>RT_22</td>\n",
       "      <td>control</td>\n",
       "      <td>Dacinostat</td>\n",
       "      <td>B10</td>\n",
       "      <td>1572</td>\n",
       "      <td>1569</td>\n",
       "      <td>2412.0</td>\n",
       "      <td>...</td>\n",
       "      <td>ood</td>\n",
       "      <td>0</td>\n",
       "      <td>A549</td>\n",
       "      <td>A549</td>\n",
       "      <td>NaN</td>\n",
       "      <td>C1=CC=C2C(=C1)C(=CN2)CCN(CCO)CC3=CC=C(C=C3)/C=...</td>\n",
       "      <td>not ood</td>\n",
       "      <td>not ood</td>\n",
       "      <td>control+Dacinostat</td>\n",
       "      <td>not ood</td>\n",
       "    </tr>\n",
       "    <tr>\n",
       "      <th>A01_A02_RT_BC_22_Lig_BC_26</th>\n",
       "      <td>sciPlex_theis</td>\n",
       "      <td>0.470861</td>\n",
       "      <td>1264</td>\n",
       "      <td>RT_22</td>\n",
       "      <td>control</td>\n",
       "      <td>Dacinostat</td>\n",
       "      <td>B10</td>\n",
       "      <td>902</td>\n",
       "      <td>901</td>\n",
       "      <td>1263.0</td>\n",
       "      <td>...</td>\n",
       "      <td>ood</td>\n",
       "      <td>0</td>\n",
       "      <td>A549</td>\n",
       "      <td>A549</td>\n",
       "      <td>NaN</td>\n",
       "      <td>C1=CC=C2C(=C1)C(=CN2)CCN(CCO)CC3=CC=C(C=C3)/C=...</td>\n",
       "      <td>not ood</td>\n",
       "      <td>not ood</td>\n",
       "      <td>control+Dacinostat</td>\n",
       "      <td>not ood</td>\n",
       "    </tr>\n",
       "    <tr>\n",
       "      <th>A01_A02_RT_BC_22_Lig_BC_27</th>\n",
       "      <td>sciPlex_theis</td>\n",
       "      <td>0.508485</td>\n",
       "      <td>1365</td>\n",
       "      <td>RT_22</td>\n",
       "      <td>control</td>\n",
       "      <td>Dacinostat</td>\n",
       "      <td>B10</td>\n",
       "      <td>934</td>\n",
       "      <td>934</td>\n",
       "      <td>1365.0</td>\n",
       "      <td>...</td>\n",
       "      <td>ood</td>\n",
       "      <td>0</td>\n",
       "      <td>A549</td>\n",
       "      <td>A549</td>\n",
       "      <td>NaN</td>\n",
       "      <td>C1=CC=C2C(=C1)C(=CN2)CCN(CCO)CC3=CC=C(C=C3)/C=...</td>\n",
       "      <td>not ood</td>\n",
       "      <td>not ood</td>\n",
       "      <td>control+Dacinostat</td>\n",
       "      <td>not ood</td>\n",
       "    </tr>\n",
       "    <tr>\n",
       "      <th>A01_A02_RT_BC_22_Lig_BC_64</th>\n",
       "      <td>sciPlex_theis</td>\n",
       "      <td>1.300827</td>\n",
       "      <td>3492</td>\n",
       "      <td>RT_22</td>\n",
       "      <td>control</td>\n",
       "      <td>Dacinostat</td>\n",
       "      <td>B10</td>\n",
       "      <td>2104</td>\n",
       "      <td>2102</td>\n",
       "      <td>3490.0</td>\n",
       "      <td>...</td>\n",
       "      <td>ood</td>\n",
       "      <td>0</td>\n",
       "      <td>A549</td>\n",
       "      <td>A549</td>\n",
       "      <td>NaN</td>\n",
       "      <td>C1=CC=C2C(=C1)C(=CN2)CCN(CCO)CC3=CC=C(C=C3)/C=...</td>\n",
       "      <td>not ood</td>\n",
       "      <td>not ood</td>\n",
       "      <td>control+Dacinostat</td>\n",
       "      <td>not ood</td>\n",
       "    </tr>\n",
       "    <tr>\n",
       "      <th>A01_A02_RT_BC_22_Lig_BC_84</th>\n",
       "      <td>sciPlex_theis</td>\n",
       "      <td>0.790852</td>\n",
       "      <td>2123</td>\n",
       "      <td>RT_22</td>\n",
       "      <td>control</td>\n",
       "      <td>Dacinostat</td>\n",
       "      <td>B10</td>\n",
       "      <td>1434</td>\n",
       "      <td>1432</td>\n",
       "      <td>2121.0</td>\n",
       "      <td>...</td>\n",
       "      <td>ood</td>\n",
       "      <td>0</td>\n",
       "      <td>A549</td>\n",
       "      <td>A549</td>\n",
       "      <td>NaN</td>\n",
       "      <td>C1=CC=C2C(=C1)C(=CN2)CCN(CCO)CC3=CC=C(C=C3)/C=...</td>\n",
       "      <td>not ood</td>\n",
       "      <td>not ood</td>\n",
       "      <td>control+Dacinostat</td>\n",
       "      <td>not ood</td>\n",
       "    </tr>\n",
       "  </tbody>\n",
       "</table>\n",
       "<p>5 rows × 26 columns</p>\n",
       "</div>"
      ],
      "text/plain": [
       "                                   sample Size_Factor n.umi RT_well    Drug1  \\\n",
       "Cell                                                                           \n",
       "A01_A02_RT_BC_22_Lig_BC_17  sciPlex_theis    0.899999  2416   RT_22  control   \n",
       "A01_A02_RT_BC_22_Lig_BC_26  sciPlex_theis    0.470861  1264   RT_22  control   \n",
       "A01_A02_RT_BC_22_Lig_BC_27  sciPlex_theis    0.508485  1365   RT_22  control   \n",
       "A01_A02_RT_BC_22_Lig_BC_64  sciPlex_theis    1.300827  3492   RT_22  control   \n",
       "A01_A02_RT_BC_22_Lig_BC_84  sciPlex_theis    0.790852  2123   RT_22  control   \n",
       "\n",
       "                                 Drug2 Well n_genes n_genes_by_counts  \\\n",
       "Cell                                                                    \n",
       "A01_A02_RT_BC_22_Lig_BC_17  Dacinostat  B10    1572              1569   \n",
       "A01_A02_RT_BC_22_Lig_BC_26  Dacinostat  B10     902               901   \n",
       "A01_A02_RT_BC_22_Lig_BC_27  Dacinostat  B10     934               934   \n",
       "A01_A02_RT_BC_22_Lig_BC_64  Dacinostat  B10    2104              2102   \n",
       "A01_A02_RT_BC_22_Lig_BC_84  Dacinostat  B10    1434              1432   \n",
       "\n",
       "                           total_counts  ... split control cell_type  \\\n",
       "Cell                                     ...                           \n",
       "A01_A02_RT_BC_22_Lig_BC_17       2412.0  ...   ood       0      A549   \n",
       "A01_A02_RT_BC_22_Lig_BC_26       1263.0  ...   ood       0      A549   \n",
       "A01_A02_RT_BC_22_Lig_BC_27       1365.0  ...   ood       0      A549   \n",
       "A01_A02_RT_BC_22_Lig_BC_64       3490.0  ...   ood       0      A549   \n",
       "A01_A02_RT_BC_22_Lig_BC_84       2121.0  ...   ood       0      A549   \n",
       "\n",
       "                           cell_line smiles_drug_1  \\\n",
       "Cell                                                 \n",
       "A01_A02_RT_BC_22_Lig_BC_17      A549           NaN   \n",
       "A01_A02_RT_BC_22_Lig_BC_26      A549           NaN   \n",
       "A01_A02_RT_BC_22_Lig_BC_27      A549           NaN   \n",
       "A01_A02_RT_BC_22_Lig_BC_64      A549           NaN   \n",
       "A01_A02_RT_BC_22_Lig_BC_84      A549           NaN   \n",
       "\n",
       "                                                                smiles_drug_2  \\\n",
       "Cell                                                                            \n",
       "A01_A02_RT_BC_22_Lig_BC_17  C1=CC=C2C(=C1)C(=CN2)CCN(CCO)CC3=CC=C(C=C3)/C=...   \n",
       "A01_A02_RT_BC_22_Lig_BC_26  C1=CC=C2C(=C1)C(=CN2)CCN(CCO)CC3=CC=C(C=C3)/C=...   \n",
       "A01_A02_RT_BC_22_Lig_BC_27  C1=CC=C2C(=C1)C(=CN2)CCN(CCO)CC3=CC=C(C=C3)/C=...   \n",
       "A01_A02_RT_BC_22_Lig_BC_64  C1=CC=C2C(=C1)C(=CN2)CCN(CCO)CC3=CC=C(C=C3)/C=...   \n",
       "A01_A02_RT_BC_22_Lig_BC_84  C1=CC=C2C(=C1)C(=CN2)CCN(CCO)CC3=CC=C(C=C3)/C=...   \n",
       "\n",
       "                              ood_1    ood_2               ood_3    ood_4  \n",
       "Cell                                                                       \n",
       "A01_A02_RT_BC_22_Lig_BC_17  not ood  not ood  control+Dacinostat  not ood  \n",
       "A01_A02_RT_BC_22_Lig_BC_26  not ood  not ood  control+Dacinostat  not ood  \n",
       "A01_A02_RT_BC_22_Lig_BC_27  not ood  not ood  control+Dacinostat  not ood  \n",
       "A01_A02_RT_BC_22_Lig_BC_64  not ood  not ood  control+Dacinostat  not ood  \n",
       "A01_A02_RT_BC_22_Lig_BC_84  not ood  not ood  control+Dacinostat  not ood  \n",
       "\n",
       "[5 rows x 26 columns]"
      ]
     },
     "execution_count": 5,
     "metadata": {},
     "output_type": "execute_result"
    }
   ],
   "source": [
    "adata_ood.obs.head()"
   ]
  },
  {
   "cell_type": "code",
   "execution_count": 6,
   "id": "6b66414e-4a37-4eb6-8869-d981e0be2bf8",
   "metadata": {},
   "outputs": [
    {
     "data": {
      "text/plain": [
       "Index(['Panobinostat+Crizotinib', 'Panobinostat+Curcumin',\n",
       "       'Panobinostat+SRT1720', 'Panobinostat+Sorafenib',\n",
       "       'SRT2104+Alvespimycin', 'control', 'control+Alvespimycin',\n",
       "       'control+Dacinostat'],\n",
       "      dtype='object')"
      ]
     },
     "execution_count": 6,
     "metadata": {},
     "output_type": "execute_result"
    }
   ],
   "source": [
    "adata_ood.obs[\"condition\"].cat.categories"
   ]
  },
  {
   "cell_type": "code",
   "execution_count": 7,
   "id": "0e267e77-05fd-4dd5-b3f4-08eab1c26cca",
   "metadata": {},
   "outputs": [
    {
     "data": {
      "text/plain": [
       "Index(['Alvespimycin+Pirarubicin', 'Cediranib+PCI-34051',\n",
       "       'Dacinostat+Danusertib', 'Dacinostat+Dasatinib', 'Dacinostat+PCI-34051',\n",
       "       'Givinostat+Carmofur', 'Givinostat+Cediranib', 'Givinostat+Crizotinib',\n",
       "       'Givinostat+Curcumin', 'Givinostat+Dasatinib', 'Givinostat+SRT1720',\n",
       "       'Givinostat+SRT2104', 'Givinostat+Sorafenib', 'Givinostat+Tanespimycin',\n",
       "       'Panobinostat+Alvespimycin', 'Panobinostat+Dasatinib',\n",
       "       'Panobinostat+PCI-34051', 'Panobinostat+SRT2104',\n",
       "       'Panobinostat+SRT3025', 'SRT3025+Cediranib', 'control',\n",
       "       'control+Dasatinib', 'control+Givinostat', 'control+Panobinostat',\n",
       "       'control+SRT2104'],\n",
       "      dtype='object')"
      ]
     },
     "execution_count": 7,
     "metadata": {},
     "output_type": "execute_result"
    }
   ],
   "source": [
    "adata_train.obs[\"condition\"].cat.categories"
   ]
  },
  {
   "cell_type": "code",
   "execution_count": null,
   "id": "caba96bc-82f0-475b-952f-9d1de2a56749",
   "metadata": {},
   "outputs": [],
   "source": [
    "Index(['Alvespimycin+Pirarubicin', 'Cediranib+PCI-34051',\n",
    "       'Dacinostat+Danusertib', 'Dacinostat+Dasatinib', 'Dacinostat+PCI-34051',\n",
    "       'Givinostat+Carmofur', 'Givinostat+Cediranib', 'Givinostat+Crizotinib',\n",
    "       'Givinostat+Curcumin', 'Givinostat+Dasatinib', 'Givinostat+SRT1720',\n",
    "       'Givinostat+SRT2104', 'Givinostat+Sorafenib', 'Givinostat+Tanespimycin',\n",
    "       'Panobinostat+Alvespimycin', 'Panobinostat+Dasatinib',\n",
    "       'Panobinostat+PCI-34051', 'Panobinostat+SRT2104',\n",
    "       'Panobinostat+SRT3025', 'SRT3025+Cediranib', 'control',\n",
    "       'control+Dasatinib', 'control+Givinostat', 'control+Panobinostat',\n",
    "       'control+SRT2104'],\n",
    "      dtype='object')"
   ]
  },
  {
   "cell_type": "code",
   "execution_count": 10,
   "id": "6d82bd8f-fc73-45f8-9487-ee8f387ea34d",
   "metadata": {},
   "outputs": [],
   "source": [
    "control = adata_ood[adata_ood.obs[\"condition\"]==\"control\"].X.toarray()\n",
    "rng = np.random.default_rng(0)\n",
    "drug_effect = {}\n",
    "for cond in adata_train.obs[\"condition\"].cat.categories:\n",
    "    drug_effect[cond] = rng.choice(adata_train[adata_train.obs[\"condition\"]==cond].X.toarray(), 500) - control\n",
    "\n",
    "drug_effect[\"control\"] = control # note this is not a displacement vector, but the control vector\n",
    "    "
   ]
  },
  {
   "cell_type": "code",
   "execution_count": 11,
   "id": "95a8ec82-bb0c-49d3-a990-037dcf5205f3",
   "metadata": {},
   "outputs": [],
   "source": [
    "drug_effect_ood = {}\n",
    "\n",
    "drug_effect_ood['Panobinostat+Crizotinib'] = (\n",
    "    drug_effect['control'] \n",
    "    + drug_effect['Givinostat+Crizotinib'] \n",
    "    - drug_effect['control+Givinostat']\n",
    "    + drug_effect['control+Panobinostat']\n",
    ")\n",
    "\n",
    "drug_effect_ood['Panobinostat+Curcumin'] = (\n",
    "    drug_effect['control'] \n",
    "    + drug_effect['Givinostat+Curcumin'] \n",
    "    - drug_effect['control+Givinostat']\n",
    "    + drug_effect['control+Panobinostat']\n",
    ")\n",
    "\n",
    "drug_effect_ood['Panobinostat+SRT1720'] = (\n",
    "    drug_effect['control'] \n",
    "    + drug_effect['Givinostat+SRT1720'] \n",
    "    - drug_effect['control+Givinostat']\n",
    "    + drug_effect['control+Panobinostat']\n",
    ")\n",
    "\n",
    "drug_effect_ood['Panobinostat+Sorafenib'] = (\n",
    "    drug_effect['control'] \n",
    "    + drug_effect['Givinostat+Sorafenib'] \n",
    "    - drug_effect['control+Givinostat']\n",
    "    + drug_effect['control+Panobinostat']\n",
    ")\n",
    "\n",
    "drug_effect_ood['SRT2104+Alvespimycin'] = (\n",
    "    drug_effect['control'] \n",
    "    + drug_effect['Givinostat+SRT2104'] \n",
    "    - drug_effect['control+Givinostat']\n",
    "    + drug_effect['Panobinostat+Alvespimycin']\n",
    "    - drug_effect['control+Panobinostat']\n",
    ")\n",
    "\n",
    "drug_effect_ood['control+Alvespimycin'] = (\n",
    "    drug_effect['control'] \n",
    "    + drug_effect['Panobinostat+Alvespimycin']\n",
    "    - drug_effect['control+Panobinostat']\n",
    ")\n",
    "\n",
    "drug_effect_ood['control+Dacinostat'] = (\n",
    "    drug_effect['control'] \n",
    "    + drug_effect['Dacinostat+Dasatinib']\n",
    "    - drug_effect['control+Dasatinib']\n",
    ")\n"
   ]
  },
  {
   "cell_type": "code",
   "execution_count": 12,
   "id": "e21b372e-426d-4411-ab50-d9e5bab0d7f3",
   "metadata": {},
   "outputs": [],
   "source": [
    "adata_ref_test = adata_test[adata_test.obs[\"condition\"]!=\"control\"].copy()\n",
    "cfpp.centered_pca(adata_ref_test, n_comps=10)\n",
    "\n",
    "adata_ref_ood = adata_ood[adata_ood.obs[\"condition\"]!=\"control\"].copy()\n",
    "cfpp.centered_pca(adata_ref_ood, n_comps=10)"
   ]
  },
  {
   "cell_type": "code",
   "execution_count": 14,
   "id": "f2945f9e-5ce0-48ec-903f-5495d1ed190a",
   "metadata": {},
   "outputs": [
    {
     "name": "stderr",
     "output_type": "stream",
     "text": [
      "/home/icb/dominik.klein/mambaforge/envs/cfp/lib/python3.11/site-packages/anndata/_core/aligned_df.py:67: ImplicitModificationWarning: Transforming to str index.\n",
      "  warnings.warn(\"Transforming to str index.\", ImplicitModificationWarning)\n"
     ]
    }
   ],
   "source": [
    "import anndata as ad\n",
    "import pandas as pd\n",
    "all_data = []\n",
    "conditions = []\n",
    "\n",
    "for condition, array in drug_effect_ood.items():\n",
    "    all_data.append(array)\n",
    "    conditions.extend([condition] * array.shape[0])\n",
    "\n",
    "# Stack all data vertically to create a single array\n",
    "all_data_array = np.vstack(all_data)\n",
    "\n",
    "# Create a DataFrame for the .obs attribute\n",
    "obs_data = pd.DataFrame({\n",
    "    'condition': conditions\n",
    "})\n",
    "\n",
    "# Create the Anndata object\n",
    "adata_pred_ood = ad.AnnData(X=all_data_array, obs=obs_data)"
   ]
  },
  {
   "cell_type": "code",
   "execution_count": 15,
   "id": "29a6a928-3fbd-42db-bf90-6f97aee99bef",
   "metadata": {},
   "outputs": [],
   "source": [
    "cfpp.project_pca(query_adata=adata_pred_ood, ref_adata=adata_ref_ood)\n",
    "cfpp.project_pca(query_adata=adata_ood, ref_adata=adata_ref_ood)\n",
    "ood_data_target_encoded = {}\n",
    "ood_data_target_decoded = {}\n",
    "ood_data_target_encoded_predicted = {}\n",
    "ood_data_target_decoded_predicted = {}\n",
    "for cond in adata_ood.obs[\"condition\"].cat.categories:\n",
    "    if cond == \"control\":\n",
    "        continue\n",
    "    ood_data_target_encoded[cond] = adata_ood[adata_ood.obs[\"condition\"] == cond].obsm[\"X_pca\"]\n",
    "    ood_data_target_decoded[cond] = adata_ood[adata_ood.obs[\"condition\"] == cond].X.toarray()\n",
    "    ood_data_target_decoded_predicted[cond] = adata_pred_ood[adata_pred_ood.obs[\"condition\"] == cond].X\n",
    "    ood_data_target_encoded_predicted[cond] = adata_pred_ood[adata_pred_ood.obs[\"condition\"] == cond].obsm[\"X_pca\"]"
   ]
  },
  {
   "cell_type": "code",
   "execution_count": 16,
   "id": "3a45c2e7-2c94-4252-935d-39925879ea6c",
   "metadata": {},
   "outputs": [],
   "source": [
    "\n",
    "ood_deg_dict = {\n",
    "    k: v\n",
    "    for k, v in adata_train.uns[\"rank_genes_groups_cov_all\"].items()\n",
    "    if k in ood_data_target_decoded_predicted.keys()\n",
    "}"
   ]
  },
  {
   "cell_type": "code",
   "execution_count": 17,
   "id": "c8a106c7-8278-4415-b395-07da1bb1bdcf",
   "metadata": {},
   "outputs": [],
   "source": [
    "def get_mask(x, y):\n",
    "    return x[:, [gene in y for gene in adata_train.var_names]]\n",
    "\n",
    "\n",
    "ood_deg_target_decoded_predicted = jax.tree_util.tree_map(get_mask, ood_data_target_decoded_predicted, ood_deg_dict)\n",
    "ood_deg_target_decoded = jax.tree_util.tree_map(get_mask, ood_data_target_decoded, ood_deg_dict)\n"
   ]
  },
  {
   "cell_type": "code",
   "execution_count": 18,
   "id": "3f1edcd8-be6c-49e3-97e7-44a74b52332e",
   "metadata": {},
   "outputs": [
    {
     "data": {
      "text/plain": [
       "AnnData object with n_obs × n_vars = 3500 × 2000\n",
       "    obs: 'condition'\n",
       "    obsm: 'X_pca'"
      ]
     },
     "execution_count": 18,
     "metadata": {},
     "output_type": "execute_result"
    }
   ],
   "source": [
    "adata_pred_ood"
   ]
  },
  {
   "cell_type": "code",
   "execution_count": 19,
   "id": "b7586d86-774e-4c7f-81c4-26a2b28a0cf3",
   "metadata": {},
   "outputs": [],
   "source": [
    "deg_ood_metrics = jax.tree_util.tree_map(compute_metrics, ood_deg_target_decoded, ood_deg_target_decoded_predicted)\n",
    "deg_mean_ood_metrics = compute_mean_metrics(deg_ood_metrics, prefix=\"deg_ood_\")\n"
   ]
  },
  {
   "cell_type": "code",
   "execution_count": 20,
   "id": "396465f2-e494-411e-870d-127fe6208481",
   "metadata": {},
   "outputs": [
    {
     "data": {
      "text/plain": [
       "{'deg_ood_r_squared': 0.8693430253437587,\n",
       " 'deg_ood_sinkhorn_div_1': 34.66800308227539,\n",
       " 'deg_ood_sinkhorn_div_10': 12.288872855050224,\n",
       " 'deg_ood_sinkhorn_div_100': 4.3400421142578125,\n",
       " 'deg_ood_e_distance': 8.112258587078225,\n",
       " 'deg_ood_mmd': 0.036582838743925095}"
      ]
     },
     "execution_count": 20,
     "metadata": {},
     "output_type": "execute_result"
    }
   ],
   "source": [
    "deg_mean_ood_metrics"
   ]
  },
  {
   "cell_type": "code",
   "execution_count": 21,
   "id": "09c1e354-ce0c-4afe-abea-241383eb1bdc",
   "metadata": {},
   "outputs": [],
   "source": [
    "ood_metrics_encoded = jax.tree_util.tree_map(\n",
    "    compute_metrics, ood_data_target_encoded, ood_data_target_encoded_predicted\n",
    ")\n",
    "mean_ood_metrics_encoded = compute_mean_metrics(ood_metrics_encoded, prefix=\"encoded_ood_\")\n",
    "\n",
    "ood_metrics_decoded = jax.tree_util.tree_map(\n",
    "    compute_metrics, ood_data_target_decoded, ood_data_target_decoded_predicted\n",
    ")\n",
    "mean_ood_metrics_decoded = compute_mean_metrics(ood_metrics_decoded, prefix=\"decoded_ood_\")"
   ]
  },
  {
   "cell_type": "code",
   "execution_count": 22,
   "id": "a3b394ed-a2b6-4387-988b-23f7d00234b7",
   "metadata": {},
   "outputs": [
    {
     "data": {
      "text/plain": [
       "{'decoded_ood_r_squared': 0.8538484147616795,\n",
       " 'decoded_ood_sinkhorn_div_1': 339.42017037527904,\n",
       " 'decoded_ood_sinkhorn_div_10': 305.2273385184152,\n",
       " 'decoded_ood_sinkhorn_div_100': 49.54132516043527,\n",
       " 'decoded_ood_e_distance': 26.084349006545008,\n",
       " 'decoded_ood_mmd': 0.061386519244738987}"
      ]
     },
     "execution_count": 22,
     "metadata": {},
     "output_type": "execute_result"
    }
   ],
   "source": [
    "mean_ood_metrics_decoded"
   ]
  },
  {
   "cell_type": "code",
   "execution_count": 23,
   "id": "8b74d875-de17-4c2f-86cd-e21e134a1913",
   "metadata": {},
   "outputs": [
    {
     "data": {
      "text/plain": [
       "{'encoded_ood_r_squared': 0.4490099719592503,\n",
       " 'encoded_ood_sinkhorn_div_1': 16.896723747253418,\n",
       " 'encoded_ood_sinkhorn_div_10': 9.90711511884417,\n",
       " 'encoded_ood_sinkhorn_div_100': 5.984116690499442,\n",
       " 'encoded_ood_e_distance': 10.831397430465655,\n",
       " 'encoded_ood_mmd': 0.05794300511479378}"
      ]
     },
     "execution_count": 23,
     "metadata": {},
     "output_type": "execute_result"
    }
   ],
   "source": [
    "mean_ood_metrics_encoded"
   ]
  },
  {
   "cell_type": "code",
   "execution_count": 24,
   "id": "9e513158-38d6-47e1-aa3c-b376d03f3b35",
   "metadata": {},
   "outputs": [
    {
     "data": {
      "text/plain": [
       "{'Panobinostat+Crizotinib': {'r_squared': 0.32966846227645874,\n",
       "  'sinkhorn_div_1': 15.070901870727539,\n",
       "  'sinkhorn_div_10': 8.501203536987305,\n",
       "  'sinkhorn_div_100': 5.504108428955078,\n",
       "  'e_distance': 10.203294412195568,\n",
       "  'mmd': 0.040468946},\n",
       " 'Panobinostat+Curcumin': {'r_squared': 0.7438454031944275,\n",
       "  'sinkhorn_div_1': 10.154376029968262,\n",
       "  'sinkhorn_div_10': 4.027549743652344,\n",
       "  'sinkhorn_div_100': 1.0210227966308594,\n",
       "  'e_distance': 1.1544617762563476,\n",
       "  'mmd': 0.02124002},\n",
       " 'Panobinostat+SRT1720': {'r_squared': 0.619867205619812,\n",
       "  'sinkhorn_div_1': 9.07469367980957,\n",
       "  'sinkhorn_div_10': 3.244497299194336,\n",
       "  'sinkhorn_div_100': 0.6460456848144531,\n",
       "  'e_distance': 0.5587659438080763,\n",
       "  'mmd': 0.019316675},\n",
       " 'Panobinostat+Sorafenib': {'r_squared': -0.49348628520965576,\n",
       "  'sinkhorn_div_1': 13.365455627441406,\n",
       "  'sinkhorn_div_10': 7.638601303100586,\n",
       "  'sinkhorn_div_100': 5.724079132080078,\n",
       "  'e_distance': 11.002868781102343,\n",
       "  'mmd': 0.040227428},\n",
       " 'SRT2104+Alvespimycin': {'r_squared': 0.7265039086341858,\n",
       "  'sinkhorn_div_1': 29.72618293762207,\n",
       "  'sinkhorn_div_10': 19.23392105102539,\n",
       "  'sinkhorn_div_100': 10.225505828857422,\n",
       "  'e_distance': 17.629834957710315,\n",
       "  'mmd': 0.1051383},\n",
       " 'control+Alvespimycin': {'r_squared': 0.6943655610084534,\n",
       "  'sinkhorn_div_1': 26.628103256225586,\n",
       "  'sinkhorn_div_10': 17.37063217163086,\n",
       "  'sinkhorn_div_100': 11.887062072753906,\n",
       "  'e_distance': 22.228003810763163,\n",
       "  'mmd': 0.1100555},\n",
       " 'control+Dacinostat': {'r_squared': 0.5223055481910706,\n",
       "  'sinkhorn_div_1': 14.257352828979492,\n",
       "  'sinkhorn_div_10': 9.33340072631836,\n",
       "  'sinkhorn_div_100': 6.880992889404297,\n",
       "  'e_distance': 13.042552331423764,\n",
       "  'mmd': 0.069154166}}"
      ]
     },
     "execution_count": 24,
     "metadata": {},
     "output_type": "execute_result"
    }
   ],
   "source": [
    "ood_metrics_encoded"
   ]
  },
  {
   "cell_type": "code",
   "execution_count": 25,
   "id": "bdfdb3c1-477a-4c07-86a5-205e0ec80e62",
   "metadata": {},
   "outputs": [],
   "source": [
    "output_dir = \"/lustre/groups/ml01/workspace/ot_perturbation/data/combosciplex/results/additive_model\""
   ]
  },
  {
   "cell_type": "code",
   "execution_count": 26,
   "id": "0dbc72de-0c72-409a-a1a2-e23dcd590d58",
   "metadata": {},
   "outputs": [],
   "source": [
    "import os\n",
    "import pandas as pd\n",
    "\n",
    "pd.DataFrame.from_dict(ood_metrics_encoded).to_csv(os.path.join(output_dir, f\"ood_metrics_encoded_{split}.csv\"))\n",
    "pd.DataFrame.from_dict(ood_metrics_decoded).to_csv(os.path.join(output_dir, f\"ood_metrics_decoded_{split}.csv\"))\n",
    "pd.DataFrame.from_dict(deg_ood_metrics).to_csv(os.path.join(output_dir, f\"ood_metrics_ood_{split}.csv\"))\n"
   ]
  },
  {
   "cell_type": "code",
   "execution_count": null,
   "id": "28f0ed8c-6307-438d-a563-c83d8c1904cb",
   "metadata": {},
   "outputs": [],
   "source": []
  }
 ],
 "metadata": {
  "kernelspec": {
   "display_name": "cfp",
   "language": "python",
   "name": "cfp"
  },
  "language_info": {
   "codemirror_mode": {
    "name": "ipython",
    "version": 3
   },
   "file_extension": ".py",
   "mimetype": "text/x-python",
   "name": "python",
   "nbconvert_exporter": "python",
   "pygments_lexer": "ipython3",
   "version": "3.11.9"
  }
 },
 "nbformat": 4,
 "nbformat_minor": 5
}
