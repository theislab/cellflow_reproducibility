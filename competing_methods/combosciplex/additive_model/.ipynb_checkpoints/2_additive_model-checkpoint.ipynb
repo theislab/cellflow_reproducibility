{
 "cells": [
  {
   "cell_type": "code",
   "execution_count": 1,
   "id": "f41f72b6-d9a1-4ea3-b807-4b19dc1f64e2",
   "metadata": {},
   "outputs": [],
   "source": [
    "import scanpy as sc\n",
    "import numpy as np\n",
    "import functools\n",
    "import jax\n",
    "from cfp.metrics import compute_metrics, compute_mean_metrics, compute_metrics_fast\n",
    "import cfp.preprocessing as cfpp"
   ]
  },
  {
   "cell_type": "code",
   "execution_count": 2,
   "id": "f4643636-9f42-4cdf-8a64-7713e9a05264",
   "metadata": {},
   "outputs": [],
   "source": [
    "split = 1"
   ]
  },
  {
   "cell_type": "code",
   "execution_count": 3,
   "id": "e2720f00-5122-46fb-b8cf-5c52614cce2b",
   "metadata": {},
   "outputs": [],
   "source": [
    "adata_train_path = f\"/lustre/groups/ml01/workspace/ot_perturbation/data/combosciplex/adata_train_{split}.h5ad\"\n",
    "adata_test_path = f\"/lustre/groups/ml01/workspace/ot_perturbation/data/combosciplex/adata_test_{split}.h5ad\"\n",
    "adata_ood_path = f\"/lustre/groups/ml01/workspace/ot_perturbation/data/combosciplex/adata_ood_{split}.h5ad\""
   ]
  },
  {
   "cell_type": "code",
   "execution_count": 4,
   "id": "a7a54c1f-0035-4515-a58c-34568f9616c8",
   "metadata": {},
   "outputs": [],
   "source": [
    "adata_train = sc.read(adata_train_path)\n",
    "adata_test = sc.read(adata_test_path)\n",
    "adata_ood = sc.read(adata_ood_path)\n"
   ]
  },
  {
   "cell_type": "code",
   "execution_count": 7,
   "id": "348d7a67-c4be-49cf-8fc9-e6055aba351c",
   "metadata": {},
   "outputs": [
    {
     "data": {
      "text/html": [
       "<div>\n",
       "<style scoped>\n",
       "    .dataframe tbody tr th:only-of-type {\n",
       "        vertical-align: middle;\n",
       "    }\n",
       "\n",
       "    .dataframe tbody tr th {\n",
       "        vertical-align: top;\n",
       "    }\n",
       "\n",
       "    .dataframe thead th {\n",
       "        text-align: right;\n",
       "    }\n",
       "</style>\n",
       "<table border=\"1\" class=\"dataframe\">\n",
       "  <thead>\n",
       "    <tr style=\"text-align: right;\">\n",
       "      <th></th>\n",
       "      <th>sample</th>\n",
       "      <th>Size_Factor</th>\n",
       "      <th>n.umi</th>\n",
       "      <th>RT_well</th>\n",
       "      <th>Drug1</th>\n",
       "      <th>Drug2</th>\n",
       "      <th>Well</th>\n",
       "      <th>n_genes</th>\n",
       "      <th>n_genes_by_counts</th>\n",
       "      <th>total_counts</th>\n",
       "      <th>...</th>\n",
       "      <th>split</th>\n",
       "      <th>control</th>\n",
       "      <th>cell_type</th>\n",
       "      <th>cell_line</th>\n",
       "      <th>smiles_drug_1</th>\n",
       "      <th>smiles_drug_2</th>\n",
       "      <th>ood_1</th>\n",
       "      <th>ood_2</th>\n",
       "      <th>ood_3</th>\n",
       "      <th>ood_4</th>\n",
       "    </tr>\n",
       "    <tr>\n",
       "      <th>Cell</th>\n",
       "      <th></th>\n",
       "      <th></th>\n",
       "      <th></th>\n",
       "      <th></th>\n",
       "      <th></th>\n",
       "      <th></th>\n",
       "      <th></th>\n",
       "      <th></th>\n",
       "      <th></th>\n",
       "      <th></th>\n",
       "      <th></th>\n",
       "      <th></th>\n",
       "      <th></th>\n",
       "      <th></th>\n",
       "      <th></th>\n",
       "      <th></th>\n",
       "      <th></th>\n",
       "      <th></th>\n",
       "      <th></th>\n",
       "      <th></th>\n",
       "      <th></th>\n",
       "    </tr>\n",
       "  </thead>\n",
       "  <tbody>\n",
       "    <tr>\n",
       "      <th>A01_A02_RT_BC_16_Lig_BC_2</th>\n",
       "      <td>sciPlex_theis</td>\n",
       "      <td>1.298964</td>\n",
       "      <td>3487</td>\n",
       "      <td>RT_16</td>\n",
       "      <td>Givinostat</td>\n",
       "      <td>SRT1720</td>\n",
       "      <td>B4</td>\n",
       "      <td>2154</td>\n",
       "      <td>2152</td>\n",
       "      <td>3485.0</td>\n",
       "      <td>...</td>\n",
       "      <td>ood</td>\n",
       "      <td>0</td>\n",
       "      <td>A549</td>\n",
       "      <td>A549</td>\n",
       "      <td>CCN(CC)CC1=CC2=C(C=C1)C=C(C=C2)COC(=O)NC3=CC=C...</td>\n",
       "      <td>C1CN(CCN1)CC2=CSC3=NC(=CN23)C4=CC=CC=C4NC(=O)C...</td>\n",
       "      <td>Givinostat+SRT1720</td>\n",
       "      <td>not ood</td>\n",
       "      <td>not ood</td>\n",
       "      <td>not ood</td>\n",
       "    </tr>\n",
       "    <tr>\n",
       "      <th>A01_A02_RT_BC_16_Lig_BC_47</th>\n",
       "      <td>sciPlex_theis</td>\n",
       "      <td>0.638120</td>\n",
       "      <td>1713</td>\n",
       "      <td>RT_16</td>\n",
       "      <td>Givinostat</td>\n",
       "      <td>SRT1720</td>\n",
       "      <td>B4</td>\n",
       "      <td>1281</td>\n",
       "      <td>1281</td>\n",
       "      <td>1713.0</td>\n",
       "      <td>...</td>\n",
       "      <td>ood</td>\n",
       "      <td>0</td>\n",
       "      <td>A549</td>\n",
       "      <td>A549</td>\n",
       "      <td>CCN(CC)CC1=CC2=C(C=C1)C=C(C=C2)COC(=O)NC3=CC=C...</td>\n",
       "      <td>C1CN(CCN1)CC2=CSC3=NC(=CN23)C4=CC=CC=C4NC(=O)C...</td>\n",
       "      <td>Givinostat+SRT1720</td>\n",
       "      <td>not ood</td>\n",
       "      <td>not ood</td>\n",
       "      <td>not ood</td>\n",
       "    </tr>\n",
       "    <tr>\n",
       "      <th>A01_A02_RT_BC_16_Lig_BC_55</th>\n",
       "      <td>sciPlex_theis</td>\n",
       "      <td>0.636630</td>\n",
       "      <td>1709</td>\n",
       "      <td>RT_16</td>\n",
       "      <td>Givinostat</td>\n",
       "      <td>SRT1720</td>\n",
       "      <td>B4</td>\n",
       "      <td>1269</td>\n",
       "      <td>1268</td>\n",
       "      <td>1708.0</td>\n",
       "      <td>...</td>\n",
       "      <td>ood</td>\n",
       "      <td>0</td>\n",
       "      <td>A549</td>\n",
       "      <td>A549</td>\n",
       "      <td>CCN(CC)CC1=CC2=C(C=C1)C=C(C=C2)COC(=O)NC3=CC=C...</td>\n",
       "      <td>C1CN(CCN1)CC2=CSC3=NC(=CN23)C4=CC=CC=C4NC(=O)C...</td>\n",
       "      <td>Givinostat+SRT1720</td>\n",
       "      <td>not ood</td>\n",
       "      <td>not ood</td>\n",
       "      <td>not ood</td>\n",
       "    </tr>\n",
       "    <tr>\n",
       "      <th>A01_A02_RT_BC_16_Lig_BC_57</th>\n",
       "      <td>sciPlex_theis</td>\n",
       "      <td>3.330295</td>\n",
       "      <td>8940</td>\n",
       "      <td>RT_16</td>\n",
       "      <td>Givinostat</td>\n",
       "      <td>SRT1720</td>\n",
       "      <td>B4</td>\n",
       "      <td>4199</td>\n",
       "      <td>4198</td>\n",
       "      <td>8939.0</td>\n",
       "      <td>...</td>\n",
       "      <td>ood</td>\n",
       "      <td>0</td>\n",
       "      <td>A549</td>\n",
       "      <td>A549</td>\n",
       "      <td>CCN(CC)CC1=CC2=C(C=C1)C=C(C=C2)COC(=O)NC3=CC=C...</td>\n",
       "      <td>C1CN(CCN1)CC2=CSC3=NC(=CN23)C4=CC=CC=C4NC(=O)C...</td>\n",
       "      <td>Givinostat+SRT1720</td>\n",
       "      <td>not ood</td>\n",
       "      <td>not ood</td>\n",
       "      <td>not ood</td>\n",
       "    </tr>\n",
       "    <tr>\n",
       "      <th>A01_A02_RT_BC_16_Lig_BC_6</th>\n",
       "      <td>sciPlex_theis</td>\n",
       "      <td>0.847474</td>\n",
       "      <td>2275</td>\n",
       "      <td>RT_16</td>\n",
       "      <td>Givinostat</td>\n",
       "      <td>SRT1720</td>\n",
       "      <td>B4</td>\n",
       "      <td>1584</td>\n",
       "      <td>1581</td>\n",
       "      <td>2272.0</td>\n",
       "      <td>...</td>\n",
       "      <td>ood</td>\n",
       "      <td>0</td>\n",
       "      <td>A549</td>\n",
       "      <td>A549</td>\n",
       "      <td>CCN(CC)CC1=CC2=C(C=C1)C=C(C=C2)COC(=O)NC3=CC=C...</td>\n",
       "      <td>C1CN(CCN1)CC2=CSC3=NC(=CN23)C4=CC=CC=C4NC(=O)C...</td>\n",
       "      <td>Givinostat+SRT1720</td>\n",
       "      <td>not ood</td>\n",
       "      <td>not ood</td>\n",
       "      <td>not ood</td>\n",
       "    </tr>\n",
       "  </tbody>\n",
       "</table>\n",
       "<p>5 rows × 26 columns</p>\n",
       "</div>"
      ],
      "text/plain": [
       "                                   sample Size_Factor n.umi RT_well  \\\n",
       "Cell                                                                  \n",
       "A01_A02_RT_BC_16_Lig_BC_2   sciPlex_theis    1.298964  3487   RT_16   \n",
       "A01_A02_RT_BC_16_Lig_BC_47  sciPlex_theis    0.638120  1713   RT_16   \n",
       "A01_A02_RT_BC_16_Lig_BC_55  sciPlex_theis    0.636630  1709   RT_16   \n",
       "A01_A02_RT_BC_16_Lig_BC_57  sciPlex_theis    3.330295  8940   RT_16   \n",
       "A01_A02_RT_BC_16_Lig_BC_6   sciPlex_theis    0.847474  2275   RT_16   \n",
       "\n",
       "                                 Drug1    Drug2 Well n_genes  \\\n",
       "Cell                                                           \n",
       "A01_A02_RT_BC_16_Lig_BC_2   Givinostat  SRT1720   B4    2154   \n",
       "A01_A02_RT_BC_16_Lig_BC_47  Givinostat  SRT1720   B4    1281   \n",
       "A01_A02_RT_BC_16_Lig_BC_55  Givinostat  SRT1720   B4    1269   \n",
       "A01_A02_RT_BC_16_Lig_BC_57  Givinostat  SRT1720   B4    4199   \n",
       "A01_A02_RT_BC_16_Lig_BC_6   Givinostat  SRT1720   B4    1584   \n",
       "\n",
       "                           n_genes_by_counts total_counts  ... split control  \\\n",
       "Cell                                                       ...                 \n",
       "A01_A02_RT_BC_16_Lig_BC_2               2152       3485.0  ...   ood       0   \n",
       "A01_A02_RT_BC_16_Lig_BC_47              1281       1713.0  ...   ood       0   \n",
       "A01_A02_RT_BC_16_Lig_BC_55              1268       1708.0  ...   ood       0   \n",
       "A01_A02_RT_BC_16_Lig_BC_57              4198       8939.0  ...   ood       0   \n",
       "A01_A02_RT_BC_16_Lig_BC_6               1581       2272.0  ...   ood       0   \n",
       "\n",
       "                           cell_type cell_line  \\\n",
       "Cell                                             \n",
       "A01_A02_RT_BC_16_Lig_BC_2       A549      A549   \n",
       "A01_A02_RT_BC_16_Lig_BC_47      A549      A549   \n",
       "A01_A02_RT_BC_16_Lig_BC_55      A549      A549   \n",
       "A01_A02_RT_BC_16_Lig_BC_57      A549      A549   \n",
       "A01_A02_RT_BC_16_Lig_BC_6       A549      A549   \n",
       "\n",
       "                                                                smiles_drug_1  \\\n",
       "Cell                                                                            \n",
       "A01_A02_RT_BC_16_Lig_BC_2   CCN(CC)CC1=CC2=C(C=C1)C=C(C=C2)COC(=O)NC3=CC=C...   \n",
       "A01_A02_RT_BC_16_Lig_BC_47  CCN(CC)CC1=CC2=C(C=C1)C=C(C=C2)COC(=O)NC3=CC=C...   \n",
       "A01_A02_RT_BC_16_Lig_BC_55  CCN(CC)CC1=CC2=C(C=C1)C=C(C=C2)COC(=O)NC3=CC=C...   \n",
       "A01_A02_RT_BC_16_Lig_BC_57  CCN(CC)CC1=CC2=C(C=C1)C=C(C=C2)COC(=O)NC3=CC=C...   \n",
       "A01_A02_RT_BC_16_Lig_BC_6   CCN(CC)CC1=CC2=C(C=C1)C=C(C=C2)COC(=O)NC3=CC=C...   \n",
       "\n",
       "                                                                smiles_drug_2  \\\n",
       "Cell                                                                            \n",
       "A01_A02_RT_BC_16_Lig_BC_2   C1CN(CCN1)CC2=CSC3=NC(=CN23)C4=CC=CC=C4NC(=O)C...   \n",
       "A01_A02_RT_BC_16_Lig_BC_47  C1CN(CCN1)CC2=CSC3=NC(=CN23)C4=CC=CC=C4NC(=O)C...   \n",
       "A01_A02_RT_BC_16_Lig_BC_55  C1CN(CCN1)CC2=CSC3=NC(=CN23)C4=CC=CC=C4NC(=O)C...   \n",
       "A01_A02_RT_BC_16_Lig_BC_57  C1CN(CCN1)CC2=CSC3=NC(=CN23)C4=CC=CC=C4NC(=O)C...   \n",
       "A01_A02_RT_BC_16_Lig_BC_6   C1CN(CCN1)CC2=CSC3=NC(=CN23)C4=CC=CC=C4NC(=O)C...   \n",
       "\n",
       "                                         ood_1    ood_2    ood_3    ood_4  \n",
       "Cell                                                                       \n",
       "A01_A02_RT_BC_16_Lig_BC_2   Givinostat+SRT1720  not ood  not ood  not ood  \n",
       "A01_A02_RT_BC_16_Lig_BC_47  Givinostat+SRT1720  not ood  not ood  not ood  \n",
       "A01_A02_RT_BC_16_Lig_BC_55  Givinostat+SRT1720  not ood  not ood  not ood  \n",
       "A01_A02_RT_BC_16_Lig_BC_57  Givinostat+SRT1720  not ood  not ood  not ood  \n",
       "A01_A02_RT_BC_16_Lig_BC_6   Givinostat+SRT1720  not ood  not ood  not ood  \n",
       "\n",
       "[5 rows x 26 columns]"
      ]
     },
     "execution_count": 7,
     "metadata": {},
     "output_type": "execute_result"
    }
   ],
   "source": [
    "adata_ood.obs.head()"
   ]
  },
  {
   "cell_type": "code",
   "execution_count": 9,
   "id": "6b66414e-4a37-4eb6-8869-d981e0be2bf8",
   "metadata": {},
   "outputs": [
    {
     "data": {
      "text/plain": [
       "Index(['Givinostat+Dasatinib', 'Givinostat+SRT1720', 'Panobinostat+Dasatinib',\n",
       "       'Panobinostat+PCI-34051', 'Panobinostat+SRT2104', 'SRT3025+Cediranib',\n",
       "       'control', 'control+Dasatinib'],\n",
       "      dtype='object')"
      ]
     },
     "execution_count": 9,
     "metadata": {},
     "output_type": "execute_result"
    }
   ],
   "source": [
    "adata_ood.obs[\"condition\"].cat.categories"
   ]
  },
  {
   "cell_type": "code",
   "execution_count": 24,
   "id": "0e267e77-05fd-4dd5-b3f4-08eab1c26cca",
   "metadata": {},
   "outputs": [
    {
     "data": {
      "text/plain": [
       "Index(['Alvespimycin+Pirarubicin', 'Cediranib+PCI-34051',\n",
       "       'Dacinostat+Danusertib', 'Dacinostat+Dasatinib', 'Dacinostat+PCI-34051',\n",
       "       'Givinostat+Carmofur', 'Givinostat+Cediranib', 'Givinostat+Crizotinib',\n",
       "       'Givinostat+Curcumin', 'Givinostat+SRT2104', 'Givinostat+Sorafenib',\n",
       "       'Givinostat+Tanespimycin', 'Panobinostat+Alvespimycin',\n",
       "       'Panobinostat+Crizotinib', 'Panobinostat+Curcumin',\n",
       "       'Panobinostat+SRT1720', 'Panobinostat+SRT3025',\n",
       "       'Panobinostat+Sorafenib', 'SRT2104+Alvespimycin', 'control',\n",
       "       'control+Alvespimycin', 'control+Dacinostat', 'control+Givinostat',\n",
       "       'control+Panobinostat', 'control+SRT2104'],\n",
       "      dtype='object')"
      ]
     },
     "execution_count": 24,
     "metadata": {},
     "output_type": "execute_result"
    }
   ],
   "source": [
    "adata_train.obs[\"condition\"].cat.categories"
   ]
  },
  {
   "cell_type": "code",
   "execution_count": 72,
   "id": "6d82bd8f-fc73-45f8-9487-ee8f387ea34d",
   "metadata": {},
   "outputs": [],
   "source": [
    "rng = np.random.default_rng(0)\n",
    "drug_effect = {}\n",
    "for cond in adata_train.obs[\"condition\"].cat.categories:\n",
    "    drug_effect[cond] = rng.choice(adata_train[adata_train.obs[\"condition\"]==cond].X.toarray(), 500) - control\n",
    "\n",
    "drug_effect[\"control\"] = control # note this is not a displacement vector, but the control vector\n",
    "    "
   ]
  },
  {
   "cell_type": "code",
   "execution_count": 73,
   "id": "95a8ec82-bb0c-49d3-a990-037dcf5205f3",
   "metadata": {},
   "outputs": [],
   "source": [
    "drug_effect_ood = {}\n",
    "drug_effect_ood['Givinostat+Dasatinib'] = drug_effect[\"control\"] + drug_effect['Dacinostat+Dasatinib'] - drug_effect['control+Dacinostat'] + drug_effect['control+Givinostat']\n",
    "drug_effect_ood['Givinostat+SRT1720'] = drug_effect[\"control\"] + drug_effect['Panobinostat+SRT1720'] - drug_effect['control+Panobinostat'] + drug_effect['control+Dacinostat']\n",
    "drug_effect_ood['Panobinostat+Dasatinib'] = drug_effect[\"control\"] + drug_effect['Dacinostat+Dasatinib'] - drug_effect['control+Dacinostat'] + drug_effect['control+Panobinostat']\n",
    "drug_effect_ood['Panobinostat+PCI-34051'] = drug_effect[\"control\"] + drug_effect['Dacinostat+PCI-34051'] - drug_effect['control+Dacinostat'] + drug_effect['control+Panobinostat']\n",
    "drug_effect_ood['Panobinostat+SRT2104'] = drug_effect[\"control\"] + drug_effect['Givinostat+SRT2104'] - drug_effect['control+Givinostat'] + drug_effect['control+Panobinostat']\n",
    "drug_effect_ood['SRT3025+Cediranib'] = drug_effect[\"control\"] + drug_effect['Panobinostat+SRT3025'] + drug_effect['Cediranib+PCI-34051'] - drug_effect['Dacinostat+PCI-34051'] - drug_effect['control+Panobinostat'] - drug_effect['control+Dacinostat'] \n",
    "drug_effect_ood['control+Dasatinib'] = drug_effect[\"control\"] + drug_effect['Dacinostat+Dasatinib'] - drug_effect['control+Dacinostat'] \n"
   ]
  },
  {
   "cell_type": "code",
   "execution_count": 74,
   "id": "e21b372e-426d-4411-ab50-d9e5bab0d7f3",
   "metadata": {},
   "outputs": [],
   "source": [
    "adata_ref_test = adata_test[adata_test.obs[\"condition\"]!=\"control\"].copy()\n",
    "cfpp.centered_pca(adata_ref_test, n_comps=10)\n",
    "\n",
    "adata_ref_ood = adata_ood[adata_ood.obs[\"condition\"]!=\"control\"].copy()\n",
    "cfpp.centered_pca(adata_ref_ood, n_comps=10)"
   ]
  },
  {
   "cell_type": "code",
   "execution_count": 75,
   "id": "381107ba-e229-4595-9a32-df463b00ea1f",
   "metadata": {},
   "outputs": [
    {
     "data": {
      "text/plain": [
       "AnnData object with n_obs × n_vars = 3500 × 2000\n",
       "    obs: 'condition'\n",
       "    obsm: 'X_pca'"
      ]
     },
     "execution_count": 75,
     "metadata": {},
     "output_type": "execute_result"
    }
   ],
   "source": [
    "adata_pred_ood"
   ]
  },
  {
   "cell_type": "code",
   "execution_count": 76,
   "id": "f2945f9e-5ce0-48ec-903f-5495d1ed190a",
   "metadata": {},
   "outputs": [
    {
     "name": "stderr",
     "output_type": "stream",
     "text": [
      "/home/icb/dominik.klein/mambaforge/envs/cfp/lib/python3.11/site-packages/anndata/_core/aligned_df.py:67: ImplicitModificationWarning: Transforming to str index.\n",
      "  warnings.warn(\"Transforming to str index.\", ImplicitModificationWarning)\n"
     ]
    }
   ],
   "source": [
    "import anndata as ad\n",
    "import pandas as pd\n",
    "all_data = []\n",
    "conditions = []\n",
    "\n",
    "for condition, array in drug_effect_ood.items():\n",
    "    all_data.append(array)\n",
    "    conditions.extend([condition] * array.shape[0])\n",
    "\n",
    "# Stack all data vertically to create a single array\n",
    "all_data_array = np.vstack(all_data)\n",
    "\n",
    "# Create a DataFrame for the .obs attribute\n",
    "obs_data = pd.DataFrame({\n",
    "    'condition': conditions\n",
    "})\n",
    "\n",
    "# Create the Anndata object\n",
    "adata_pred_ood = ad.AnnData(X=all_data_array, obs=obs_data)"
   ]
  },
  {
   "cell_type": "code",
   "execution_count": 77,
   "id": "29a6a928-3fbd-42db-bf90-6f97aee99bef",
   "metadata": {},
   "outputs": [],
   "source": [
    "cfpp.project_pca(query_adata=adata_pred_ood, ref_adata=adata_ref_ood)\n",
    "cfpp.project_pca(query_adata=adata_ood, ref_adata=adata_ref_ood)\n",
    "ood_data_target_encoded = {}\n",
    "ood_data_target_decoded = {}\n",
    "ood_data_target_encoded_predicted = {}\n",
    "ood_data_target_decoded_predicted = {}\n",
    "for cond in adata_ood.obs[\"condition\"].cat.categories:\n",
    "    if cond == \"control\":\n",
    "        continue\n",
    "    ood_data_target_encoded[cond] = adata_ood[adata_ood.obs[\"condition\"] == cond].obsm[\"X_pca\"]\n",
    "    ood_data_target_decoded[cond] = adata_ood[adata_ood.obs[\"condition\"] == cond].X.toarray()\n",
    "    ood_data_target_decoded_predicted[cond] = adata_pred_ood[adata_pred_ood.obs[\"condition\"] == cond].X\n",
    "    ood_data_target_encoded_predicted[cond] = adata_pred_ood[adata_pred_ood.obs[\"condition\"] == cond].obsm[\"X_pca\"]"
   ]
  },
  {
   "cell_type": "code",
   "execution_count": 78,
   "id": "3a45c2e7-2c94-4252-935d-39925879ea6c",
   "metadata": {},
   "outputs": [],
   "source": [
    "\n",
    "ood_deg_dict = {\n",
    "    k: v\n",
    "    for k, v in adata_train.uns[\"rank_genes_groups_cov_all\"].items()\n",
    "    if k in ood_data_target_decoded_predicted.keys()\n",
    "}"
   ]
  },
  {
   "cell_type": "code",
   "execution_count": 79,
   "id": "c8a106c7-8278-4415-b395-07da1bb1bdcf",
   "metadata": {},
   "outputs": [],
   "source": [
    "def get_mask(x, y):\n",
    "    return x[:, [gene in y for gene in adata_train.var_names]]\n",
    "\n",
    "\n",
    "ood_deg_target_decoded_predicted = jax.tree_util.tree_map(get_mask, ood_data_target_decoded_predicted, ood_deg_dict)\n",
    "ood_deg_target_decoded = jax.tree_util.tree_map(get_mask, ood_data_target_decoded, ood_deg_dict)\n"
   ]
  },
  {
   "cell_type": "code",
   "execution_count": 80,
   "id": "3f1edcd8-be6c-49e3-97e7-44a74b52332e",
   "metadata": {},
   "outputs": [
    {
     "data": {
      "text/plain": [
       "AnnData object with n_obs × n_vars = 3500 × 2000\n",
       "    obs: 'condition'\n",
       "    obsm: 'X_pca'"
      ]
     },
     "execution_count": 80,
     "metadata": {},
     "output_type": "execute_result"
    }
   ],
   "source": [
    "adata_pred_ood"
   ]
  },
  {
   "cell_type": "code",
   "execution_count": 81,
   "id": "b7586d86-774e-4c7f-81c4-26a2b28a0cf3",
   "metadata": {},
   "outputs": [],
   "source": [
    "deg_ood_metrics = jax.tree_util.tree_map(compute_metrics, ood_deg_target_decoded, ood_deg_target_decoded_predicted)\n",
    "deg_mean_ood_metrics = compute_mean_metrics(deg_ood_metrics, prefix=\"deg_ood_\")\n"
   ]
  },
  {
   "cell_type": "code",
   "execution_count": 82,
   "id": "396465f2-e494-411e-870d-127fe6208481",
   "metadata": {},
   "outputs": [
    {
     "data": {
      "text/plain": [
       "{'deg_ood_r_squared': 0.8023572734424046,\n",
       " 'deg_ood_sinkhorn_div_1': 34.461678641183035,\n",
       " 'deg_ood_sinkhorn_div_10': 13.781815665108818,\n",
       " 'deg_ood_sinkhorn_div_100': 5.971379961286273,\n",
       " 'deg_ood_e_distance': 11.305039406733808,\n",
       " 'deg_ood_mmd': 0.04468402186674731}"
      ]
     },
     "execution_count": 82,
     "metadata": {},
     "output_type": "execute_result"
    }
   ],
   "source": [
    "deg_mean_ood_metrics"
   ]
  },
  {
   "cell_type": "code",
   "execution_count": 83,
   "id": "09c1e354-ce0c-4afe-abea-241383eb1bdc",
   "metadata": {},
   "outputs": [],
   "source": [
    "ood_metrics_encoded = jax.tree_util.tree_map(\n",
    "    compute_metrics, ood_data_target_encoded, ood_data_target_encoded_predicted\n",
    ")\n",
    "mean_ood_metrics_encoded = compute_mean_metrics(ood_metrics_encoded, prefix=\"encoded_ood_\")\n",
    "\n",
    "ood_metrics_decoded = jax.tree_util.tree_map(\n",
    "    compute_metrics, ood_data_target_decoded, ood_data_target_decoded_predicted\n",
    ")\n",
    "mean_ood_metrics_decoded = compute_mean_metrics(ood_metrics_decoded, prefix=\"decoded_ood_\")"
   ]
  },
  {
   "cell_type": "code",
   "execution_count": 84,
   "id": "a3b394ed-a2b6-4387-988b-23f7d00234b7",
   "metadata": {},
   "outputs": [
    {
     "data": {
      "text/plain": [
       "{'decoded_ood_r_squared': 0.6713313204901559,\n",
       " 'decoded_ood_sinkhorn_div_1': 383.4197082519531,\n",
       " 'decoded_ood_sinkhorn_div_10': 349.34098161969865,\n",
       " 'decoded_ood_sinkhorn_div_100': 106.37797328404018,\n",
       " 'decoded_ood_e_distance': 55.52262780042988,\n",
       " 'decoded_ood_mmd': 0.05503137835434505}"
      ]
     },
     "execution_count": 84,
     "metadata": {},
     "output_type": "execute_result"
    }
   ],
   "source": [
    "mean_ood_metrics_decoded"
   ]
  },
  {
   "cell_type": "code",
   "execution_count": 85,
   "id": "8b74d875-de17-4c2f-86cd-e21e134a1913",
   "metadata": {},
   "outputs": [
    {
     "data": {
      "text/plain": [
       "{'encoded_ood_r_squared': -1.357583258833204,\n",
       " 'encoded_ood_sinkhorn_div_1': 37.66747856140137,\n",
       " 'encoded_ood_sinkhorn_div_10': 30.769857134137833,\n",
       " 'encoded_ood_sinkhorn_div_100': 23.491485595703125,\n",
       " 'encoded_ood_e_distance': 44.3045803543004,\n",
       " 'encoded_ood_mmd': 0.08298772041286741}"
      ]
     },
     "execution_count": 85,
     "metadata": {},
     "output_type": "execute_result"
    }
   ],
   "source": [
    "mean_ood_metrics_encoded"
   ]
  },
  {
   "cell_type": "code",
   "execution_count": 86,
   "id": "9e513158-38d6-47e1-aa3c-b376d03f3b35",
   "metadata": {},
   "outputs": [
    {
     "data": {
      "text/plain": [
       "{'Givinostat+Dasatinib': {'r_squared': 0.6197203993797302,\n",
       "  'sinkhorn_div_1': 10.545516967773438,\n",
       "  'sinkhorn_div_10': 5.00433349609375,\n",
       "  'sinkhorn_div_100': 3.0096778869628906,\n",
       "  'e_distance': 5.550451346376526,\n",
       "  'mmd': 0.029771471},\n",
       " 'Givinostat+SRT1720': {'r_squared': -1.402228593826294,\n",
       "  'sinkhorn_div_1': 31.761491775512695,\n",
       "  'sinkhorn_div_10': 23.710830688476562,\n",
       "  'sinkhorn_div_100': 17.82109832763672,\n",
       "  'e_distance': 33.768451915808775,\n",
       "  'mmd': 0.102281265},\n",
       " 'Panobinostat+Dasatinib': {'r_squared': 0.9417067766189575,\n",
       "  'sinkhorn_div_1': 8.831485748291016,\n",
       "  'sinkhorn_div_10': 3.606691360473633,\n",
       "  'sinkhorn_div_100': 1.5447711944580078,\n",
       "  'e_distance': 2.5704477534495282,\n",
       "  'mmd': 0.035838883},\n",
       " 'Panobinostat+PCI-34051': {'r_squared': 0.9471659660339355,\n",
       "  'sinkhorn_div_1': 8.626678466796875,\n",
       "  'sinkhorn_div_10': 3.4449310302734375,\n",
       "  'sinkhorn_div_100': 1.515390396118164,\n",
       "  'e_distance': 2.534686424555723,\n",
       "  'mmd': 0.031069754},\n",
       " 'Panobinostat+SRT2104': {'r_squared': 0.9791551828384399,\n",
       "  'sinkhorn_div_1': 16.981300354003906,\n",
       "  'sinkhorn_div_10': 8.049760818481445,\n",
       "  'sinkhorn_div_100': 1.457977294921875,\n",
       "  'e_distance': 0.8632822998822363,\n",
       "  'mmd': 0.045033175},\n",
       " 'SRT3025+Cediranib': {'r_squared': -11.769966125488281,\n",
       "  'sinkhorn_div_1': 169.49224853515625,\n",
       "  'sinkhorn_div_10': 160.16200256347656,\n",
       "  'sinkhorn_div_100': 130.10069274902344,\n",
       "  'e_distance': 247.36920889715125,\n",
       "  'mmd': 0.27365074},\n",
       " 'control+Dasatinib': {'r_squared': 0.18136358261108398,\n",
       "  'sinkhorn_div_1': 17.43362808227539,\n",
       "  'sinkhorn_div_10': 11.410449981689453,\n",
       "  'sinkhorn_div_100': 8.990791320800781,\n",
       "  'e_distance': 17.47553384287874,\n",
       "  'mmd': 0.06326876}}"
      ]
     },
     "execution_count": 86,
     "metadata": {},
     "output_type": "execute_result"
    }
   ],
   "source": [
    "ood_metrics_encoded"
   ]
  },
  {
   "cell_type": "code",
   "execution_count": 87,
   "id": "bdfdb3c1-477a-4c07-86a5-205e0ec80e62",
   "metadata": {},
   "outputs": [],
   "source": [
    "output_dir = \"/lustre/groups/ml01/workspace/ot_perturbation/data/combosciplex/results/additive_model\""
   ]
  },
  {
   "cell_type": "code",
   "execution_count": 88,
   "id": "0dbc72de-0c72-409a-a1a2-e23dcd590d58",
   "metadata": {},
   "outputs": [],
   "source": [
    "import os\n",
    "import pandas as pd\n",
    "\n",
    "pd.DataFrame.from_dict(ood_metrics_encoded).to_csv(os.path.join(output_dir, f\"ood_metrics_encoded_{split}.csv\"))\n",
    "pd.DataFrame.from_dict(ood_metrics_decoded).to_csv(os.path.join(output_dir, f\"ood_metrics_decoded_{split}.csv\"))\n",
    "pd.DataFrame.from_dict(deg_ood_metrics).to_csv(os.path.join(output_dir, f\"ood_metrics_ood_{split}.csv\"))\n"
   ]
  },
  {
   "cell_type": "code",
   "execution_count": null,
   "id": "28f0ed8c-6307-438d-a563-c83d8c1904cb",
   "metadata": {},
   "outputs": [],
   "source": []
  }
 ],
 "metadata": {
  "kernelspec": {
   "display_name": "cfp",
   "language": "python",
   "name": "cfp"
  },
  "language_info": {
   "codemirror_mode": {
    "name": "ipython",
    "version": 3
   },
   "file_extension": ".py",
   "mimetype": "text/x-python",
   "name": "python",
   "nbconvert_exporter": "python",
   "pygments_lexer": "ipython3",
   "version": "3.11.9"
  }
 },
 "nbformat": 4,
 "nbformat_minor": 5
}
