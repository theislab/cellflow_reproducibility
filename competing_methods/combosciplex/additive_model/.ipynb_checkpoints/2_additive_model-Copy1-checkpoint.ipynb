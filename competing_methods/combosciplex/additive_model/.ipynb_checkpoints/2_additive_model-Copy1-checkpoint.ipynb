{
 "cells": [
  {
   "cell_type": "code",
   "execution_count": 1,
   "id": "f41f72b6-d9a1-4ea3-b807-4b19dc1f64e2",
   "metadata": {},
   "outputs": [],
   "source": [
    "import scanpy as sc\n",
    "import numpy as np\n",
    "import functools\n",
    "import jax\n",
    "from cfp.metrics import compute_metrics, compute_mean_metrics, compute_metrics_fast\n",
    "import cfp.preprocessing as cfpp"
   ]
  },
  {
   "cell_type": "code",
   "execution_count": 2,
   "id": "f4643636-9f42-4cdf-8a64-7713e9a05264",
   "metadata": {},
   "outputs": [],
   "source": [
    "split = 2"
   ]
  },
  {
   "cell_type": "code",
   "execution_count": 3,
   "id": "e2720f00-5122-46fb-b8cf-5c52614cce2b",
   "metadata": {},
   "outputs": [],
   "source": [
    "adata_train_path = f\"/lustre/groups/ml01/workspace/ot_perturbation/data/combosciplex/adata_train_{split}.h5ad\"\n",
    "adata_test_path = f\"/lustre/groups/ml01/workspace/ot_perturbation/data/combosciplex/adata_test_{split}.h5ad\"\n",
    "adata_ood_path = f\"/lustre/groups/ml01/workspace/ot_perturbation/data/combosciplex/adata_ood_{split}.h5ad\""
   ]
  },
  {
   "cell_type": "code",
   "execution_count": 4,
   "id": "a7a54c1f-0035-4515-a58c-34568f9616c8",
   "metadata": {},
   "outputs": [],
   "source": [
    "adata_train = sc.read(adata_train_path)\n",
    "adata_test = sc.read(adata_test_path)\n",
    "adata_ood = sc.read(adata_ood_path)\n"
   ]
  },
  {
   "cell_type": "code",
   "execution_count": 5,
   "id": "348d7a67-c4be-49cf-8fc9-e6055aba351c",
   "metadata": {},
   "outputs": [
    {
     "data": {
      "text/html": [
       "<div>\n",
       "<style scoped>\n",
       "    .dataframe tbody tr th:only-of-type {\n",
       "        vertical-align: middle;\n",
       "    }\n",
       "\n",
       "    .dataframe tbody tr th {\n",
       "        vertical-align: top;\n",
       "    }\n",
       "\n",
       "    .dataframe thead th {\n",
       "        text-align: right;\n",
       "    }\n",
       "</style>\n",
       "<table border=\"1\" class=\"dataframe\">\n",
       "  <thead>\n",
       "    <tr style=\"text-align: right;\">\n",
       "      <th></th>\n",
       "      <th>sample</th>\n",
       "      <th>Size_Factor</th>\n",
       "      <th>n.umi</th>\n",
       "      <th>RT_well</th>\n",
       "      <th>Drug1</th>\n",
       "      <th>Drug2</th>\n",
       "      <th>Well</th>\n",
       "      <th>n_genes</th>\n",
       "      <th>n_genes_by_counts</th>\n",
       "      <th>total_counts</th>\n",
       "      <th>...</th>\n",
       "      <th>split</th>\n",
       "      <th>control</th>\n",
       "      <th>cell_type</th>\n",
       "      <th>cell_line</th>\n",
       "      <th>smiles_drug_1</th>\n",
       "      <th>smiles_drug_2</th>\n",
       "      <th>ood_1</th>\n",
       "      <th>ood_2</th>\n",
       "      <th>ood_3</th>\n",
       "      <th>ood_4</th>\n",
       "    </tr>\n",
       "    <tr>\n",
       "      <th>Cell</th>\n",
       "      <th></th>\n",
       "      <th></th>\n",
       "      <th></th>\n",
       "      <th></th>\n",
       "      <th></th>\n",
       "      <th></th>\n",
       "      <th></th>\n",
       "      <th></th>\n",
       "      <th></th>\n",
       "      <th></th>\n",
       "      <th></th>\n",
       "      <th></th>\n",
       "      <th></th>\n",
       "      <th></th>\n",
       "      <th></th>\n",
       "      <th></th>\n",
       "      <th></th>\n",
       "      <th></th>\n",
       "      <th></th>\n",
       "      <th></th>\n",
       "      <th></th>\n",
       "    </tr>\n",
       "  </thead>\n",
       "  <tbody>\n",
       "    <tr>\n",
       "      <th>A01_A02_RT_BC_10_Lig_BC_18</th>\n",
       "      <td>sciPlex_theis</td>\n",
       "      <td>0.533816</td>\n",
       "      <td>1433</td>\n",
       "      <td>RT_10</td>\n",
       "      <td>control</td>\n",
       "      <td>Panobinostat</td>\n",
       "      <td>A10</td>\n",
       "      <td>1004</td>\n",
       "      <td>1004</td>\n",
       "      <td>1433.0</td>\n",
       "      <td>...</td>\n",
       "      <td>ood</td>\n",
       "      <td>0</td>\n",
       "      <td>A549</td>\n",
       "      <td>A549</td>\n",
       "      <td>NaN</td>\n",
       "      <td>CC1=C(C2=CC=CC=C2N1)CCNCC3=CC=C(C=C3)/C=C/C(=O)NO</td>\n",
       "      <td>not ood</td>\n",
       "      <td>control+Panobinostat</td>\n",
       "      <td>not ood</td>\n",
       "      <td>not ood</td>\n",
       "    </tr>\n",
       "    <tr>\n",
       "      <th>A01_A02_RT_BC_10_Lig_BC_25</th>\n",
       "      <td>sciPlex_theis</td>\n",
       "      <td>0.539404</td>\n",
       "      <td>1448</td>\n",
       "      <td>RT_10</td>\n",
       "      <td>control</td>\n",
       "      <td>Panobinostat</td>\n",
       "      <td>A10</td>\n",
       "      <td>1062</td>\n",
       "      <td>1062</td>\n",
       "      <td>1448.0</td>\n",
       "      <td>...</td>\n",
       "      <td>ood</td>\n",
       "      <td>0</td>\n",
       "      <td>A549</td>\n",
       "      <td>A549</td>\n",
       "      <td>NaN</td>\n",
       "      <td>CC1=C(C2=CC=CC=C2N1)CCNCC3=CC=C(C=C3)/C=C/C(=O)NO</td>\n",
       "      <td>not ood</td>\n",
       "      <td>control+Panobinostat</td>\n",
       "      <td>not ood</td>\n",
       "      <td>not ood</td>\n",
       "    </tr>\n",
       "    <tr>\n",
       "      <th>A01_A02_RT_BC_10_Lig_BC_48</th>\n",
       "      <td>sciPlex_theis</td>\n",
       "      <td>0.532326</td>\n",
       "      <td>1429</td>\n",
       "      <td>RT_10</td>\n",
       "      <td>control</td>\n",
       "      <td>Panobinostat</td>\n",
       "      <td>A10</td>\n",
       "      <td>1063</td>\n",
       "      <td>1063</td>\n",
       "      <td>1429.0</td>\n",
       "      <td>...</td>\n",
       "      <td>ood</td>\n",
       "      <td>0</td>\n",
       "      <td>A549</td>\n",
       "      <td>A549</td>\n",
       "      <td>NaN</td>\n",
       "      <td>CC1=C(C2=CC=CC=C2N1)CCNCC3=CC=C(C=C3)/C=C/C(=O)NO</td>\n",
       "      <td>not ood</td>\n",
       "      <td>control+Panobinostat</td>\n",
       "      <td>not ood</td>\n",
       "      <td>not ood</td>\n",
       "    </tr>\n",
       "    <tr>\n",
       "      <th>A01_A02_RT_BC_10_Lig_BC_51</th>\n",
       "      <td>sciPlex_theis</td>\n",
       "      <td>1.461754</td>\n",
       "      <td>3924</td>\n",
       "      <td>RT_10</td>\n",
       "      <td>control</td>\n",
       "      <td>Panobinostat</td>\n",
       "      <td>A10</td>\n",
       "      <td>2412</td>\n",
       "      <td>2411</td>\n",
       "      <td>3923.0</td>\n",
       "      <td>...</td>\n",
       "      <td>ood</td>\n",
       "      <td>0</td>\n",
       "      <td>A549</td>\n",
       "      <td>A549</td>\n",
       "      <td>NaN</td>\n",
       "      <td>CC1=C(C2=CC=CC=C2N1)CCNCC3=CC=C(C=C3)/C=C/C(=O)NO</td>\n",
       "      <td>not ood</td>\n",
       "      <td>control+Panobinostat</td>\n",
       "      <td>not ood</td>\n",
       "      <td>not ood</td>\n",
       "    </tr>\n",
       "    <tr>\n",
       "      <th>A01_A02_RT_BC_10_Lig_BC_70</th>\n",
       "      <td>sciPlex_theis</td>\n",
       "      <td>0.418708</td>\n",
       "      <td>1124</td>\n",
       "      <td>RT_10</td>\n",
       "      <td>control</td>\n",
       "      <td>Panobinostat</td>\n",
       "      <td>A10</td>\n",
       "      <td>834</td>\n",
       "      <td>832</td>\n",
       "      <td>1122.0</td>\n",
       "      <td>...</td>\n",
       "      <td>ood</td>\n",
       "      <td>0</td>\n",
       "      <td>A549</td>\n",
       "      <td>A549</td>\n",
       "      <td>NaN</td>\n",
       "      <td>CC1=C(C2=CC=CC=C2N1)CCNCC3=CC=C(C=C3)/C=C/C(=O)NO</td>\n",
       "      <td>not ood</td>\n",
       "      <td>control+Panobinostat</td>\n",
       "      <td>not ood</td>\n",
       "      <td>not ood</td>\n",
       "    </tr>\n",
       "  </tbody>\n",
       "</table>\n",
       "<p>5 rows × 26 columns</p>\n",
       "</div>"
      ],
      "text/plain": [
       "                                   sample Size_Factor n.umi RT_well    Drug1  \\\n",
       "Cell                                                                           \n",
       "A01_A02_RT_BC_10_Lig_BC_18  sciPlex_theis    0.533816  1433   RT_10  control   \n",
       "A01_A02_RT_BC_10_Lig_BC_25  sciPlex_theis    0.539404  1448   RT_10  control   \n",
       "A01_A02_RT_BC_10_Lig_BC_48  sciPlex_theis    0.532326  1429   RT_10  control   \n",
       "A01_A02_RT_BC_10_Lig_BC_51  sciPlex_theis    1.461754  3924   RT_10  control   \n",
       "A01_A02_RT_BC_10_Lig_BC_70  sciPlex_theis    0.418708  1124   RT_10  control   \n",
       "\n",
       "                                   Drug2 Well n_genes n_genes_by_counts  \\\n",
       "Cell                                                                      \n",
       "A01_A02_RT_BC_10_Lig_BC_18  Panobinostat  A10    1004              1004   \n",
       "A01_A02_RT_BC_10_Lig_BC_25  Panobinostat  A10    1062              1062   \n",
       "A01_A02_RT_BC_10_Lig_BC_48  Panobinostat  A10    1063              1063   \n",
       "A01_A02_RT_BC_10_Lig_BC_51  Panobinostat  A10    2412              2411   \n",
       "A01_A02_RT_BC_10_Lig_BC_70  Panobinostat  A10     834               832   \n",
       "\n",
       "                           total_counts  ... split control cell_type  \\\n",
       "Cell                                     ...                           \n",
       "A01_A02_RT_BC_10_Lig_BC_18       1433.0  ...   ood       0      A549   \n",
       "A01_A02_RT_BC_10_Lig_BC_25       1448.0  ...   ood       0      A549   \n",
       "A01_A02_RT_BC_10_Lig_BC_48       1429.0  ...   ood       0      A549   \n",
       "A01_A02_RT_BC_10_Lig_BC_51       3923.0  ...   ood       0      A549   \n",
       "A01_A02_RT_BC_10_Lig_BC_70       1122.0  ...   ood       0      A549   \n",
       "\n",
       "                           cell_line smiles_drug_1  \\\n",
       "Cell                                                 \n",
       "A01_A02_RT_BC_10_Lig_BC_18      A549           NaN   \n",
       "A01_A02_RT_BC_10_Lig_BC_25      A549           NaN   \n",
       "A01_A02_RT_BC_10_Lig_BC_48      A549           NaN   \n",
       "A01_A02_RT_BC_10_Lig_BC_51      A549           NaN   \n",
       "A01_A02_RT_BC_10_Lig_BC_70      A549           NaN   \n",
       "\n",
       "                                                                smiles_drug_2  \\\n",
       "Cell                                                                            \n",
       "A01_A02_RT_BC_10_Lig_BC_18  CC1=C(C2=CC=CC=C2N1)CCNCC3=CC=C(C=C3)/C=C/C(=O)NO   \n",
       "A01_A02_RT_BC_10_Lig_BC_25  CC1=C(C2=CC=CC=C2N1)CCNCC3=CC=C(C=C3)/C=C/C(=O)NO   \n",
       "A01_A02_RT_BC_10_Lig_BC_48  CC1=C(C2=CC=CC=C2N1)CCNCC3=CC=C(C=C3)/C=C/C(=O)NO   \n",
       "A01_A02_RT_BC_10_Lig_BC_51  CC1=C(C2=CC=CC=C2N1)CCNCC3=CC=C(C=C3)/C=C/C(=O)NO   \n",
       "A01_A02_RT_BC_10_Lig_BC_70  CC1=C(C2=CC=CC=C2N1)CCNCC3=CC=C(C=C3)/C=C/C(=O)NO   \n",
       "\n",
       "                              ood_1                 ood_2    ood_3    ood_4  \n",
       "Cell                                                                         \n",
       "A01_A02_RT_BC_10_Lig_BC_18  not ood  control+Panobinostat  not ood  not ood  \n",
       "A01_A02_RT_BC_10_Lig_BC_25  not ood  control+Panobinostat  not ood  not ood  \n",
       "A01_A02_RT_BC_10_Lig_BC_48  not ood  control+Panobinostat  not ood  not ood  \n",
       "A01_A02_RT_BC_10_Lig_BC_51  not ood  control+Panobinostat  not ood  not ood  \n",
       "A01_A02_RT_BC_10_Lig_BC_70  not ood  control+Panobinostat  not ood  not ood  \n",
       "\n",
       "[5 rows x 26 columns]"
      ]
     },
     "execution_count": 5,
     "metadata": {},
     "output_type": "execute_result"
    }
   ],
   "source": [
    "adata_ood.obs.head()"
   ]
  },
  {
   "cell_type": "code",
   "execution_count": 6,
   "id": "6b66414e-4a37-4eb6-8869-d981e0be2bf8",
   "metadata": {},
   "outputs": [
    {
     "data": {
      "text/plain": [
       "Index(['Dacinostat+Dasatinib', 'Dacinostat+PCI-34051', 'Givinostat+Cediranib',\n",
       "       'Givinostat+Curcumin', 'Panobinostat+Alvespimycin',\n",
       "       'Panobinostat+SRT3025', 'control', 'control+Panobinostat'],\n",
       "      dtype='object')"
      ]
     },
     "execution_count": 6,
     "metadata": {},
     "output_type": "execute_result"
    }
   ],
   "source": [
    "adata_ood.obs[\"condition\"].cat.categories"
   ]
  },
  {
   "cell_type": "code",
   "execution_count": 7,
   "id": "0e267e77-05fd-4dd5-b3f4-08eab1c26cca",
   "metadata": {},
   "outputs": [
    {
     "data": {
      "text/plain": [
       "Index(['Alvespimycin+Pirarubicin', 'Cediranib+PCI-34051',\n",
       "       'Dacinostat+Danusertib', 'Givinostat+Carmofur', 'Givinostat+Crizotinib',\n",
       "       'Givinostat+Dasatinib', 'Givinostat+SRT1720', 'Givinostat+SRT2104',\n",
       "       'Givinostat+Sorafenib', 'Givinostat+Tanespimycin',\n",
       "       'Panobinostat+Crizotinib', 'Panobinostat+Curcumin',\n",
       "       'Panobinostat+Dasatinib', 'Panobinostat+PCI-34051',\n",
       "       'Panobinostat+SRT1720', 'Panobinostat+SRT2104',\n",
       "       'Panobinostat+Sorafenib', 'SRT2104+Alvespimycin', 'SRT3025+Cediranib',\n",
       "       'control', 'control+Alvespimycin', 'control+Dacinostat',\n",
       "       'control+Dasatinib', 'control+Givinostat', 'control+SRT2104'],\n",
       "      dtype='object')"
      ]
     },
     "execution_count": 7,
     "metadata": {},
     "output_type": "execute_result"
    }
   ],
   "source": [
    "adata_train.obs[\"condition\"].cat.categories"
   ]
  },
  {
   "cell_type": "code",
   "execution_count": null,
   "id": "10b996bc-4af4-4682-90ac-ea949cfcf5b7",
   "metadata": {},
   "outputs": [],
   "source": [
    "Index(['Alvespimycin+Pirarubicin', 'Cediranib+PCI-34051',\n",
    "       'Dacinostat+Danusertib', 'Givinostat+Carmofur', 'Givinostat+Crizotinib',\n",
    "       'Givinostat+Dasatinib', 'Givinostat+SRT1720', 'Givinostat+SRT2104',\n",
    "       'Givinostat+Sorafenib', 'Givinostat+Tanespimycin',\n",
    "       'Panobinostat+Crizotinib', 'Panobinostat+Curcumin',\n",
    "       'Panobinostat+Dasatinib', 'Panobinostat+PCI-34051',\n",
    "       'Panobinostat+SRT1720', 'Panobinostat+SRT2104',\n",
    "       'Panobinostat+Sorafenib', 'SRT2104+Alvespimycin', 'SRT3025+Cediranib',\n",
    "       'control', 'control+Alvespimycin', 'control+Dacinostat',\n",
    "       'control+Dasatinib', 'control+Givinostat', 'control+SRT2104'],\n",
    "      dtype='object')"
   ]
  },
  {
   "cell_type": "code",
   "execution_count": 10,
   "id": "6d82bd8f-fc73-45f8-9487-ee8f387ea34d",
   "metadata": {},
   "outputs": [],
   "source": [
    "rng = np.random.default_rng(0)\n",
    "drug_effect = {}\n",
    "control = adata_ood[adata_ood.obs[\"condition\"]==\"control\"].X.toarray()\n",
    "for cond in adata_train.obs[\"condition\"].cat.categories:\n",
    "    drug_effect[cond] = rng.choice(adata_train[adata_train.obs[\"condition\"]==cond].X.toarray(), 500) - control\n",
    "\n",
    "drug_effect[\"control\"] = control # note this is not a displacement vector, but the control vector\n",
    "    "
   ]
  },
  {
   "cell_type": "code",
   "execution_count": 12,
   "id": "99cabd3c-2c5d-47e5-83f8-c0b0cfdb05e5",
   "metadata": {},
   "outputs": [],
   "source": [
    "drug_effect_ood = {}\n",
    "\n",
    "drug_effect_ood['Dacinostat+Dasatinib'] = (\n",
    "    drug_effect['control'] \n",
    "    + drug_effect['control+Dacinostat'] \n",
    "    + drug_effect['control+Dasatinib']\n",
    ")\n",
    "\n",
    "drug_effect_ood['Dacinostat+PCI-34051'] = (\n",
    "    drug_effect['control'] + \n",
    "    drug_effect['Panobinostat+PCI-34051'] - \n",
    "    drug_effect['Panobinostat+SRT2104'] -\n",
    "    drug_effect['control+SRT2104'] +\n",
    "    drug_effect['control+Dacinostat']\n",
    ")\n",
    "\n",
    "drug_effect_ood['Givinostat+Cediranib'] = (\n",
    "    drug_effect['control'] + \n",
    "    drug_effect['Cediranib+PCI-34051'] \n",
    "    - drug_effect['Panobinostat+PCI-34051'] \n",
    "    + drug_effect['Panobinostat+SRT2104']\n",
    "    - drug_effect['control+SRT2104']\n",
    "    + drug_effect['control+Givinostat']\n",
    ")\n",
    "\n",
    "drug_effect_ood['Givinostat+Curcumin'] = (\n",
    "    drug_effect['control'] + \n",
    "    + drug_effect['Panobinostat+Curcumin'] \n",
    "    - drug_effect['Panobinostat+SRT2104']\n",
    "    + drug_effect['control+SRT2104']\n",
    "    + drug_effect['control+Givinostat']\n",
    ")\n",
    "\n",
    "drug_effect_ood['Panobinostat+Alvespimycin'] = (\n",
    "    drug_effect['control'] + \n",
    "    + drug_effect['control+Alvespimycin'] \n",
    "    + drug_effect['Panobinostat+SRT2104']\n",
    "    - drug_effect['control+SRT2104']\n",
    ")\n",
    "\n",
    "drug_effect_ood['Panobinostat+SRT3025'] = (\n",
    "    drug_effect['control'] + \n",
    "    + drug_effect['SRT3025+Cediranib'] \n",
    "    - drug_effect['Cediranib+PCI-34051'] \n",
    "    + drug_effect['Panobinostat+PCI-34051'] \n",
    ")\n",
    "\n",
    "drug_effect_ood['control+Panobinostat'] = (\n",
    "    drug_effect['control'] + \n",
    "    drug_effect['Panobinostat+SRT2104'] \n",
    "    - drug_effect['control+SRT2104']\n",
    ")\n",
    "\n",
    "# Now `drug_effect_ood` contains the predicted out-of-distribution effects based on the new observed combinations.\n"
   ]
  },
  {
   "cell_type": "code",
   "execution_count": 13,
   "id": "e21b372e-426d-4411-ab50-d9e5bab0d7f3",
   "metadata": {},
   "outputs": [],
   "source": [
    "adata_ref_test = adata_test[adata_test.obs[\"condition\"]!=\"control\"].copy()\n",
    "cfpp.centered_pca(adata_ref_test, n_comps=10)\n",
    "\n",
    "adata_ref_ood = adata_ood[adata_ood.obs[\"condition\"]!=\"control\"].copy()\n",
    "cfpp.centered_pca(adata_ref_ood, n_comps=10)"
   ]
  },
  {
   "cell_type": "code",
   "execution_count": 15,
   "id": "f2945f9e-5ce0-48ec-903f-5495d1ed190a",
   "metadata": {},
   "outputs": [
    {
     "name": "stderr",
     "output_type": "stream",
     "text": [
      "/home/icb/dominik.klein/mambaforge/envs/cfp/lib/python3.11/site-packages/anndata/_core/aligned_df.py:67: ImplicitModificationWarning: Transforming to str index.\n",
      "  warnings.warn(\"Transforming to str index.\", ImplicitModificationWarning)\n"
     ]
    }
   ],
   "source": [
    "import anndata as ad\n",
    "import pandas as pd\n",
    "all_data = []\n",
    "conditions = []\n",
    "\n",
    "for condition, array in drug_effect_ood.items():\n",
    "    all_data.append(array)\n",
    "    conditions.extend([condition] * array.shape[0])\n",
    "\n",
    "# Stack all data vertically to create a single array\n",
    "all_data_array = np.vstack(all_data)\n",
    "\n",
    "# Create a DataFrame for the .obs attribute\n",
    "obs_data = pd.DataFrame({\n",
    "    'condition': conditions\n",
    "})\n",
    "\n",
    "# Create the Anndata object\n",
    "adata_pred_ood = ad.AnnData(X=all_data_array, obs=obs_data)"
   ]
  },
  {
   "cell_type": "code",
   "execution_count": 16,
   "id": "29a6a928-3fbd-42db-bf90-6f97aee99bef",
   "metadata": {},
   "outputs": [],
   "source": [
    "cfpp.project_pca(query_adata=adata_pred_ood, ref_adata=adata_ref_ood)\n",
    "cfpp.project_pca(query_adata=adata_ood, ref_adata=adata_ref_ood)\n",
    "ood_data_target_encoded = {}\n",
    "ood_data_target_decoded = {}\n",
    "ood_data_target_encoded_predicted = {}\n",
    "ood_data_target_decoded_predicted = {}\n",
    "for cond in adata_ood.obs[\"condition\"].cat.categories:\n",
    "    if cond == \"control\":\n",
    "        continue\n",
    "    ood_data_target_encoded[cond] = adata_ood[adata_ood.obs[\"condition\"] == cond].obsm[\"X_pca\"]\n",
    "    ood_data_target_decoded[cond] = adata_ood[adata_ood.obs[\"condition\"] == cond].X.toarray()\n",
    "    ood_data_target_decoded_predicted[cond] = adata_pred_ood[adata_pred_ood.obs[\"condition\"] == cond].X\n",
    "    ood_data_target_encoded_predicted[cond] = adata_pred_ood[adata_pred_ood.obs[\"condition\"] == cond].obsm[\"X_pca\"]"
   ]
  },
  {
   "cell_type": "code",
   "execution_count": 17,
   "id": "3a45c2e7-2c94-4252-935d-39925879ea6c",
   "metadata": {},
   "outputs": [],
   "source": [
    "\n",
    "ood_deg_dict = {\n",
    "    k: v\n",
    "    for k, v in adata_train.uns[\"rank_genes_groups_cov_all\"].items()\n",
    "    if k in ood_data_target_decoded_predicted.keys()\n",
    "}"
   ]
  },
  {
   "cell_type": "code",
   "execution_count": 18,
   "id": "c8a106c7-8278-4415-b395-07da1bb1bdcf",
   "metadata": {},
   "outputs": [],
   "source": [
    "def get_mask(x, y):\n",
    "    return x[:, [gene in y for gene in adata_train.var_names]]\n",
    "\n",
    "\n",
    "ood_deg_target_decoded_predicted = jax.tree_util.tree_map(get_mask, ood_data_target_decoded_predicted, ood_deg_dict)\n",
    "ood_deg_target_decoded = jax.tree_util.tree_map(get_mask, ood_data_target_decoded, ood_deg_dict)\n"
   ]
  },
  {
   "cell_type": "code",
   "execution_count": 19,
   "id": "3f1edcd8-be6c-49e3-97e7-44a74b52332e",
   "metadata": {},
   "outputs": [
    {
     "data": {
      "text/plain": [
       "AnnData object with n_obs × n_vars = 3500 × 2000\n",
       "    obs: 'condition'\n",
       "    obsm: 'X_pca'"
      ]
     },
     "execution_count": 19,
     "metadata": {},
     "output_type": "execute_result"
    }
   ],
   "source": [
    "adata_pred_ood"
   ]
  },
  {
   "cell_type": "code",
   "execution_count": 20,
   "id": "b7586d86-774e-4c7f-81c4-26a2b28a0cf3",
   "metadata": {},
   "outputs": [],
   "source": [
    "deg_ood_metrics = jax.tree_util.tree_map(compute_metrics, ood_deg_target_decoded, ood_deg_target_decoded_predicted)\n",
    "deg_mean_ood_metrics = compute_mean_metrics(deg_ood_metrics, prefix=\"deg_ood_\")\n"
   ]
  },
  {
   "cell_type": "code",
   "execution_count": 21,
   "id": "396465f2-e494-411e-870d-127fe6208481",
   "metadata": {},
   "outputs": [
    {
     "data": {
      "text/plain": [
       "{'deg_ood_r_squared': 0.9274880460330418,\n",
       " 'deg_ood_sinkhorn_div_1': 38.64780861990793,\n",
       " 'deg_ood_sinkhorn_div_10': 16.133944375174387,\n",
       " 'deg_ood_sinkhorn_div_100': 2.8263893127441406,\n",
       " 'deg_ood_e_distance': 4.726088977829694,\n",
       " 'deg_ood_mmd': 0.03650122814412628}"
      ]
     },
     "execution_count": 21,
     "metadata": {},
     "output_type": "execute_result"
    }
   ],
   "source": [
    "deg_mean_ood_metrics"
   ]
  },
  {
   "cell_type": "code",
   "execution_count": 22,
   "id": "09c1e354-ce0c-4afe-abea-241383eb1bdc",
   "metadata": {},
   "outputs": [],
   "source": [
    "ood_metrics_encoded = jax.tree_util.tree_map(\n",
    "    compute_metrics, ood_data_target_encoded, ood_data_target_encoded_predicted\n",
    ")\n",
    "mean_ood_metrics_encoded = compute_mean_metrics(ood_metrics_encoded, prefix=\"encoded_ood_\")\n",
    "\n",
    "ood_metrics_decoded = jax.tree_util.tree_map(\n",
    "    compute_metrics, ood_data_target_decoded, ood_data_target_decoded_predicted\n",
    ")\n",
    "mean_ood_metrics_decoded = compute_mean_metrics(ood_metrics_decoded, prefix=\"decoded_ood_\")"
   ]
  },
  {
   "cell_type": "code",
   "execution_count": 23,
   "id": "a3b394ed-a2b6-4387-988b-23f7d00234b7",
   "metadata": {},
   "outputs": [
    {
     "data": {
      "text/plain": [
       "{'decoded_ood_r_squared': 0.9144477333341327,\n",
       " 'decoded_ood_sinkhorn_div_1': 368.2979038783482,\n",
       " 'decoded_ood_sinkhorn_div_10': 334.6418784005301,\n",
       " 'decoded_ood_sinkhorn_div_100': 68.90585763113839,\n",
       " 'decoded_ood_e_distance': 16.374290901890863,\n",
       " 'decoded_ood_mmd': 0.06390194967389107}"
      ]
     },
     "execution_count": 23,
     "metadata": {},
     "output_type": "execute_result"
    }
   ],
   "source": [
    "mean_ood_metrics_decoded"
   ]
  },
  {
   "cell_type": "code",
   "execution_count": 24,
   "id": "8b74d875-de17-4c2f-86cd-e21e134a1913",
   "metadata": {},
   "outputs": [
    {
     "data": {
      "text/plain": [
       "{'encoded_ood_r_squared': 0.5603414177894592,\n",
       " 'encoded_ood_sinkhorn_div_1': 21.510860988071986,\n",
       " 'encoded_ood_sinkhorn_div_10': 13.165173666817802,\n",
       " 'encoded_ood_sinkhorn_div_100': 5.558096749441964,\n",
       " 'encoded_ood_e_distance': 8.614152876528966,\n",
       " 'encoded_ood_mmd': 0.061620153220636506}"
      ]
     },
     "execution_count": 24,
     "metadata": {},
     "output_type": "execute_result"
    }
   ],
   "source": [
    "mean_ood_metrics_encoded"
   ]
  },
  {
   "cell_type": "code",
   "execution_count": 25,
   "id": "9e513158-38d6-47e1-aa3c-b376d03f3b35",
   "metadata": {},
   "outputs": [
    {
     "data": {
      "text/plain": [
       "{'Dacinostat+Dasatinib': {'r_squared': -0.5631909370422363,\n",
       "  'sinkhorn_div_1': 17.232131958007812,\n",
       "  'sinkhorn_div_10': 10.942787170410156,\n",
       "  'sinkhorn_div_100': 7.130283355712891,\n",
       "  'e_distance': 13.068704168356334,\n",
       "  'mmd': 0.06400431},\n",
       " 'Dacinostat+PCI-34051': {'r_squared': 0.6077643632888794,\n",
       "  'sinkhorn_div_1': 24.811553955078125,\n",
       "  'sinkhorn_div_10': 15.007461547851562,\n",
       "  'sinkhorn_div_100': 3.5484046936035156,\n",
       "  'e_distance': 3.500733072371432,\n",
       "  'mmd': 0.06918025},\n",
       " 'Givinostat+Cediranib': {'r_squared': 0.8633101582527161,\n",
       "  'sinkhorn_div_1': 26.714622497558594,\n",
       "  'sinkhorn_div_10': 16.91002655029297,\n",
       "  'sinkhorn_div_100': 4.282604217529297,\n",
       "  'e_distance': 3.8432543424772234,\n",
       "  'mmd': 0.06266913},\n",
       " 'Givinostat+Curcumin': {'r_squared': 0.9493677616119385,\n",
       "  'sinkhorn_div_1': 24.15743637084961,\n",
       "  'sinkhorn_div_10': 14.262226104736328,\n",
       "  'sinkhorn_div_100': 2.6617431640625,\n",
       "  'e_distance': 1.4541880130587543,\n",
       "  'mmd': 0.053857308},\n",
       " 'Panobinostat+Alvespimycin': {'r_squared': 0.1327131986618042,\n",
       "  'sinkhorn_div_1': 30.793426513671875,\n",
       "  'sinkhorn_div_10': 23.39019012451172,\n",
       "  'sinkhorn_div_100': 19.072647094726562,\n",
       "  'e_distance': 36.831946531919705,\n",
       "  'mmd': 0.118907444},\n",
       " 'Panobinostat+SRT3025': {'r_squared': 0.9761212468147278,\n",
       "  'sinkhorn_div_1': 13.319595336914062,\n",
       "  'sinkhorn_div_10': 5.8167572021484375,\n",
       "  'sinkhorn_div_100': 1.08807373046875,\n",
       "  'e_distance': 0.7467139813688206,\n",
       "  'mmd': 0.03170756},\n",
       " 'control+Panobinostat': {'r_squared': 0.956304132938385,\n",
       "  'sinkhorn_div_1': 13.547260284423828,\n",
       "  'sinkhorn_div_10': 5.8267669677734375,\n",
       "  'sinkhorn_div_100': 1.1229209899902344,\n",
       "  'e_distance': 0.8535300261504943,\n",
       "  'mmd': 0.031015074}}"
      ]
     },
     "execution_count": 25,
     "metadata": {},
     "output_type": "execute_result"
    }
   ],
   "source": [
    "ood_metrics_encoded"
   ]
  },
  {
   "cell_type": "code",
   "execution_count": 26,
   "id": "bdfdb3c1-477a-4c07-86a5-205e0ec80e62",
   "metadata": {},
   "outputs": [],
   "source": [
    "output_dir = \"/lustre/groups/ml01/workspace/ot_perturbation/data/combosciplex/results/additive_model\""
   ]
  },
  {
   "cell_type": "code",
   "execution_count": 27,
   "id": "0dbc72de-0c72-409a-a1a2-e23dcd590d58",
   "metadata": {},
   "outputs": [],
   "source": [
    "import os\n",
    "import pandas as pd\n",
    "\n",
    "pd.DataFrame.from_dict(ood_metrics_encoded).to_csv(os.path.join(output_dir, f\"ood_metrics_encoded_{split}.csv\"))\n",
    "pd.DataFrame.from_dict(ood_metrics_decoded).to_csv(os.path.join(output_dir, f\"ood_metrics_decoded_{split}.csv\"))\n",
    "pd.DataFrame.from_dict(deg_ood_metrics).to_csv(os.path.join(output_dir, f\"ood_metrics_ood_{split}.csv\"))\n"
   ]
  },
  {
   "cell_type": "code",
   "execution_count": null,
   "id": "28f0ed8c-6307-438d-a563-c83d8c1904cb",
   "metadata": {},
   "outputs": [],
   "source": []
  }
 ],
 "metadata": {
  "kernelspec": {
   "display_name": "cfp",
   "language": "python",
   "name": "cfp"
  },
  "language_info": {
   "codemirror_mode": {
    "name": "ipython",
    "version": 3
   },
   "file_extension": ".py",
   "mimetype": "text/x-python",
   "name": "python",
   "nbconvert_exporter": "python",
   "pygments_lexer": "ipython3",
   "version": "3.11.9"
  }
 },
 "nbformat": 4,
 "nbformat_minor": 5
}
