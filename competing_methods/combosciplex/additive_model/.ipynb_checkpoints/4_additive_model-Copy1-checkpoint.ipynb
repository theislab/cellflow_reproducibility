{
 "cells": [
  {
   "cell_type": "code",
   "execution_count": 2,
   "id": "f41f72b6-d9a1-4ea3-b807-4b19dc1f64e2",
   "metadata": {},
   "outputs": [],
   "source": [
    "import scanpy as sc\n",
    "import numpy as np\n",
    "import functools\n",
    "import jax\n",
    "from cfp.metrics import compute_metrics, compute_mean_metrics, compute_metrics_fast\n",
    "import cfp.preprocessing as cfpp"
   ]
  },
  {
   "cell_type": "code",
   "execution_count": 3,
   "id": "f4643636-9f42-4cdf-8a64-7713e9a05264",
   "metadata": {},
   "outputs": [],
   "source": [
    "split = 4"
   ]
  },
  {
   "cell_type": "code",
   "execution_count": 4,
   "id": "e2720f00-5122-46fb-b8cf-5c52614cce2b",
   "metadata": {},
   "outputs": [],
   "source": [
    "adata_train_path = f\"/lustre/groups/ml01/workspace/ot_perturbation/data/combosciplex/adata_train_{split}.h5ad\"\n",
    "adata_test_path = f\"/lustre/groups/ml01/workspace/ot_perturbation/data/combosciplex/adata_test_{split}.h5ad\"\n",
    "adata_ood_path = f\"/lustre/groups/ml01/workspace/ot_perturbation/data/combosciplex/adata_ood_{split}.h5ad\""
   ]
  },
  {
   "cell_type": "code",
   "execution_count": 5,
   "id": "a7a54c1f-0035-4515-a58c-34568f9616c8",
   "metadata": {},
   "outputs": [],
   "source": [
    "adata_train = sc.read(adata_train_path)\n",
    "adata_test = sc.read(adata_test_path)\n",
    "adata_ood = sc.read(adata_ood_path)\n"
   ]
  },
  {
   "cell_type": "code",
   "execution_count": 6,
   "id": "348d7a67-c4be-49cf-8fc9-e6055aba351c",
   "metadata": {},
   "outputs": [
    {
     "data": {
      "text/html": [
       "<div>\n",
       "<style scoped>\n",
       "    .dataframe tbody tr th:only-of-type {\n",
       "        vertical-align: middle;\n",
       "    }\n",
       "\n",
       "    .dataframe tbody tr th {\n",
       "        vertical-align: top;\n",
       "    }\n",
       "\n",
       "    .dataframe thead th {\n",
       "        text-align: right;\n",
       "    }\n",
       "</style>\n",
       "<table border=\"1\" class=\"dataframe\">\n",
       "  <thead>\n",
       "    <tr style=\"text-align: right;\">\n",
       "      <th></th>\n",
       "      <th>sample</th>\n",
       "      <th>Size_Factor</th>\n",
       "      <th>n.umi</th>\n",
       "      <th>RT_well</th>\n",
       "      <th>Drug1</th>\n",
       "      <th>Drug2</th>\n",
       "      <th>Well</th>\n",
       "      <th>n_genes</th>\n",
       "      <th>n_genes_by_counts</th>\n",
       "      <th>total_counts</th>\n",
       "      <th>...</th>\n",
       "      <th>split</th>\n",
       "      <th>control</th>\n",
       "      <th>cell_type</th>\n",
       "      <th>cell_line</th>\n",
       "      <th>smiles_drug_1</th>\n",
       "      <th>smiles_drug_2</th>\n",
       "      <th>ood_1</th>\n",
       "      <th>ood_2</th>\n",
       "      <th>ood_3</th>\n",
       "      <th>ood_4</th>\n",
       "    </tr>\n",
       "    <tr>\n",
       "      <th>Cell</th>\n",
       "      <th></th>\n",
       "      <th></th>\n",
       "      <th></th>\n",
       "      <th></th>\n",
       "      <th></th>\n",
       "      <th></th>\n",
       "      <th></th>\n",
       "      <th></th>\n",
       "      <th></th>\n",
       "      <th></th>\n",
       "      <th></th>\n",
       "      <th></th>\n",
       "      <th></th>\n",
       "      <th></th>\n",
       "      <th></th>\n",
       "      <th></th>\n",
       "      <th></th>\n",
       "      <th></th>\n",
       "      <th></th>\n",
       "      <th></th>\n",
       "      <th></th>\n",
       "    </tr>\n",
       "  </thead>\n",
       "  <tbody>\n",
       "    <tr>\n",
       "      <th>A01_A02_RT_BC_13_Lig_BC_1</th>\n",
       "      <td>sciPlex_theis</td>\n",
       "      <td>1.083277</td>\n",
       "      <td>2908</td>\n",
       "      <td>RT_13</td>\n",
       "      <td>Cediranib</td>\n",
       "      <td>PCI-34051</td>\n",
       "      <td>B1</td>\n",
       "      <td>1896</td>\n",
       "      <td>1895</td>\n",
       "      <td>2907.0</td>\n",
       "      <td>...</td>\n",
       "      <td>ood</td>\n",
       "      <td>0</td>\n",
       "      <td>A549</td>\n",
       "      <td>A549</td>\n",
       "      <td>CC1=CC2=C(N1)C=CC(=C2F)OC3=NC=NC4=CC(=C(C=C43)...</td>\n",
       "      <td>COC1=CC=C(C=C1)CN2C=CC3=C2C=C(C=C3)C(=O)NO</td>\n",
       "      <td>not ood</td>\n",
       "      <td>not ood</td>\n",
       "      <td>not ood</td>\n",
       "      <td>Cediranib+PCI-34051</td>\n",
       "    </tr>\n",
       "    <tr>\n",
       "      <th>A01_A02_RT_BC_13_Lig_BC_15</th>\n",
       "      <td>sciPlex_theis</td>\n",
       "      <td>0.946936</td>\n",
       "      <td>2542</td>\n",
       "      <td>RT_13</td>\n",
       "      <td>Cediranib</td>\n",
       "      <td>PCI-34051</td>\n",
       "      <td>B1</td>\n",
       "      <td>1655</td>\n",
       "      <td>1652</td>\n",
       "      <td>2539.0</td>\n",
       "      <td>...</td>\n",
       "      <td>ood</td>\n",
       "      <td>0</td>\n",
       "      <td>A549</td>\n",
       "      <td>A549</td>\n",
       "      <td>CC1=CC2=C(N1)C=CC(=C2F)OC3=NC=NC4=CC(=C(C=C43)...</td>\n",
       "      <td>COC1=CC=C(C=C1)CN2C=CC3=C2C=C(C=C3)C(=O)NO</td>\n",
       "      <td>not ood</td>\n",
       "      <td>not ood</td>\n",
       "      <td>not ood</td>\n",
       "      <td>Cediranib+PCI-34051</td>\n",
       "    </tr>\n",
       "    <tr>\n",
       "      <th>A01_A02_RT_BC_13_Lig_BC_20</th>\n",
       "      <td>sciPlex_theis</td>\n",
       "      <td>1.765727</td>\n",
       "      <td>4740</td>\n",
       "      <td>RT_13</td>\n",
       "      <td>Cediranib</td>\n",
       "      <td>PCI-34051</td>\n",
       "      <td>B1</td>\n",
       "      <td>2823</td>\n",
       "      <td>2821</td>\n",
       "      <td>4738.0</td>\n",
       "      <td>...</td>\n",
       "      <td>ood</td>\n",
       "      <td>0</td>\n",
       "      <td>A549</td>\n",
       "      <td>A549</td>\n",
       "      <td>CC1=CC2=C(N1)C=CC(=C2F)OC3=NC=NC4=CC(=C(C=C43)...</td>\n",
       "      <td>COC1=CC=C(C=C1)CN2C=CC3=C2C=C(C=C3)C(=O)NO</td>\n",
       "      <td>not ood</td>\n",
       "      <td>not ood</td>\n",
       "      <td>not ood</td>\n",
       "      <td>Cediranib+PCI-34051</td>\n",
       "    </tr>\n",
       "    <tr>\n",
       "      <th>A01_A02_RT_BC_13_Lig_BC_36</th>\n",
       "      <td>sciPlex_theis</td>\n",
       "      <td>1.394328</td>\n",
       "      <td>3743</td>\n",
       "      <td>RT_13</td>\n",
       "      <td>Cediranib</td>\n",
       "      <td>PCI-34051</td>\n",
       "      <td>B1</td>\n",
       "      <td>2298</td>\n",
       "      <td>2296</td>\n",
       "      <td>3741.0</td>\n",
       "      <td>...</td>\n",
       "      <td>ood</td>\n",
       "      <td>0</td>\n",
       "      <td>A549</td>\n",
       "      <td>A549</td>\n",
       "      <td>CC1=CC2=C(N1)C=CC(=C2F)OC3=NC=NC4=CC(=C(C=C43)...</td>\n",
       "      <td>COC1=CC=C(C=C1)CN2C=CC3=C2C=C(C=C3)C(=O)NO</td>\n",
       "      <td>not ood</td>\n",
       "      <td>not ood</td>\n",
       "      <td>not ood</td>\n",
       "      <td>Cediranib+PCI-34051</td>\n",
       "    </tr>\n",
       "    <tr>\n",
       "      <th>A01_A02_RT_BC_13_Lig_BC_39</th>\n",
       "      <td>sciPlex_theis</td>\n",
       "      <td>0.885844</td>\n",
       "      <td>2378</td>\n",
       "      <td>RT_13</td>\n",
       "      <td>Cediranib</td>\n",
       "      <td>PCI-34051</td>\n",
       "      <td>B1</td>\n",
       "      <td>1638</td>\n",
       "      <td>1637</td>\n",
       "      <td>2377.0</td>\n",
       "      <td>...</td>\n",
       "      <td>ood</td>\n",
       "      <td>0</td>\n",
       "      <td>A549</td>\n",
       "      <td>A549</td>\n",
       "      <td>CC1=CC2=C(N1)C=CC(=C2F)OC3=NC=NC4=CC(=C(C=C43)...</td>\n",
       "      <td>COC1=CC=C(C=C1)CN2C=CC3=C2C=C(C=C3)C(=O)NO</td>\n",
       "      <td>not ood</td>\n",
       "      <td>not ood</td>\n",
       "      <td>not ood</td>\n",
       "      <td>Cediranib+PCI-34051</td>\n",
       "    </tr>\n",
       "  </tbody>\n",
       "</table>\n",
       "<p>5 rows × 26 columns</p>\n",
       "</div>"
      ],
      "text/plain": [
       "                                   sample Size_Factor n.umi RT_well  \\\n",
       "Cell                                                                  \n",
       "A01_A02_RT_BC_13_Lig_BC_1   sciPlex_theis    1.083277  2908   RT_13   \n",
       "A01_A02_RT_BC_13_Lig_BC_15  sciPlex_theis    0.946936  2542   RT_13   \n",
       "A01_A02_RT_BC_13_Lig_BC_20  sciPlex_theis    1.765727  4740   RT_13   \n",
       "A01_A02_RT_BC_13_Lig_BC_36  sciPlex_theis    1.394328  3743   RT_13   \n",
       "A01_A02_RT_BC_13_Lig_BC_39  sciPlex_theis    0.885844  2378   RT_13   \n",
       "\n",
       "                                Drug1      Drug2 Well n_genes  \\\n",
       "Cell                                                            \n",
       "A01_A02_RT_BC_13_Lig_BC_1   Cediranib  PCI-34051   B1    1896   \n",
       "A01_A02_RT_BC_13_Lig_BC_15  Cediranib  PCI-34051   B1    1655   \n",
       "A01_A02_RT_BC_13_Lig_BC_20  Cediranib  PCI-34051   B1    2823   \n",
       "A01_A02_RT_BC_13_Lig_BC_36  Cediranib  PCI-34051   B1    2298   \n",
       "A01_A02_RT_BC_13_Lig_BC_39  Cediranib  PCI-34051   B1    1638   \n",
       "\n",
       "                           n_genes_by_counts total_counts  ... split control  \\\n",
       "Cell                                                       ...                 \n",
       "A01_A02_RT_BC_13_Lig_BC_1               1895       2907.0  ...   ood       0   \n",
       "A01_A02_RT_BC_13_Lig_BC_15              1652       2539.0  ...   ood       0   \n",
       "A01_A02_RT_BC_13_Lig_BC_20              2821       4738.0  ...   ood       0   \n",
       "A01_A02_RT_BC_13_Lig_BC_36              2296       3741.0  ...   ood       0   \n",
       "A01_A02_RT_BC_13_Lig_BC_39              1637       2377.0  ...   ood       0   \n",
       "\n",
       "                           cell_type cell_line  \\\n",
       "Cell                                             \n",
       "A01_A02_RT_BC_13_Lig_BC_1       A549      A549   \n",
       "A01_A02_RT_BC_13_Lig_BC_15      A549      A549   \n",
       "A01_A02_RT_BC_13_Lig_BC_20      A549      A549   \n",
       "A01_A02_RT_BC_13_Lig_BC_36      A549      A549   \n",
       "A01_A02_RT_BC_13_Lig_BC_39      A549      A549   \n",
       "\n",
       "                                                                smiles_drug_1  \\\n",
       "Cell                                                                            \n",
       "A01_A02_RT_BC_13_Lig_BC_1   CC1=CC2=C(N1)C=CC(=C2F)OC3=NC=NC4=CC(=C(C=C43)...   \n",
       "A01_A02_RT_BC_13_Lig_BC_15  CC1=CC2=C(N1)C=CC(=C2F)OC3=NC=NC4=CC(=C(C=C43)...   \n",
       "A01_A02_RT_BC_13_Lig_BC_20  CC1=CC2=C(N1)C=CC(=C2F)OC3=NC=NC4=CC(=C(C=C43)...   \n",
       "A01_A02_RT_BC_13_Lig_BC_36  CC1=CC2=C(N1)C=CC(=C2F)OC3=NC=NC4=CC(=C(C=C43)...   \n",
       "A01_A02_RT_BC_13_Lig_BC_39  CC1=CC2=C(N1)C=CC(=C2F)OC3=NC=NC4=CC(=C(C=C43)...   \n",
       "\n",
       "                                                         smiles_drug_2  \\\n",
       "Cell                                                                     \n",
       "A01_A02_RT_BC_13_Lig_BC_1   COC1=CC=C(C=C1)CN2C=CC3=C2C=C(C=C3)C(=O)NO   \n",
       "A01_A02_RT_BC_13_Lig_BC_15  COC1=CC=C(C=C1)CN2C=CC3=C2C=C(C=C3)C(=O)NO   \n",
       "A01_A02_RT_BC_13_Lig_BC_20  COC1=CC=C(C=C1)CN2C=CC3=C2C=C(C=C3)C(=O)NO   \n",
       "A01_A02_RT_BC_13_Lig_BC_36  COC1=CC=C(C=C1)CN2C=CC3=C2C=C(C=C3)C(=O)NO   \n",
       "A01_A02_RT_BC_13_Lig_BC_39  COC1=CC=C(C=C1)CN2C=CC3=C2C=C(C=C3)C(=O)NO   \n",
       "\n",
       "                              ood_1    ood_2    ood_3                ood_4  \n",
       "Cell                                                                        \n",
       "A01_A02_RT_BC_13_Lig_BC_1   not ood  not ood  not ood  Cediranib+PCI-34051  \n",
       "A01_A02_RT_BC_13_Lig_BC_15  not ood  not ood  not ood  Cediranib+PCI-34051  \n",
       "A01_A02_RT_BC_13_Lig_BC_20  not ood  not ood  not ood  Cediranib+PCI-34051  \n",
       "A01_A02_RT_BC_13_Lig_BC_36  not ood  not ood  not ood  Cediranib+PCI-34051  \n",
       "A01_A02_RT_BC_13_Lig_BC_39  not ood  not ood  not ood  Cediranib+PCI-34051  \n",
       "\n",
       "[5 rows x 26 columns]"
      ]
     },
     "execution_count": 6,
     "metadata": {},
     "output_type": "execute_result"
    }
   ],
   "source": [
    "adata_ood.obs.head()"
   ]
  },
  {
   "cell_type": "code",
   "execution_count": 7,
   "id": "6b66414e-4a37-4eb6-8869-d981e0be2bf8",
   "metadata": {},
   "outputs": [
    {
     "data": {
      "text/plain": [
       "Index(['Cediranib+PCI-34051', 'Givinostat+Crizotinib', 'Givinostat+SRT2104',\n",
       "       'Givinostat+Sorafenib', 'control', 'control+Givinostat',\n",
       "       'control+SRT2104'],\n",
       "      dtype='object')"
      ]
     },
     "execution_count": 7,
     "metadata": {},
     "output_type": "execute_result"
    }
   ],
   "source": [
    "adata_ood.obs[\"condition\"].cat.categories"
   ]
  },
  {
   "cell_type": "code",
   "execution_count": 8,
   "id": "0e267e77-05fd-4dd5-b3f4-08eab1c26cca",
   "metadata": {},
   "outputs": [
    {
     "data": {
      "text/plain": [
       "Index(['Alvespimycin+Pirarubicin', 'Dacinostat+Danusertib',\n",
       "       'Dacinostat+Dasatinib', 'Dacinostat+PCI-34051', 'Givinostat+Carmofur',\n",
       "       'Givinostat+Cediranib', 'Givinostat+Curcumin', 'Givinostat+Dasatinib',\n",
       "       'Givinostat+SRT1720', 'Givinostat+Tanespimycin',\n",
       "       'Panobinostat+Alvespimycin', 'Panobinostat+Crizotinib',\n",
       "       'Panobinostat+Curcumin', 'Panobinostat+Dasatinib',\n",
       "       'Panobinostat+PCI-34051', 'Panobinostat+SRT1720',\n",
       "       'Panobinostat+SRT2104', 'Panobinostat+SRT3025',\n",
       "       'Panobinostat+Sorafenib', 'SRT2104+Alvespimycin', 'SRT3025+Cediranib',\n",
       "       'control', 'control+Alvespimycin', 'control+Dacinostat',\n",
       "       'control+Dasatinib', 'control+Panobinostat'],\n",
       "      dtype='object')"
      ]
     },
     "execution_count": 8,
     "metadata": {},
     "output_type": "execute_result"
    }
   ],
   "source": [
    "adata_train.obs[\"condition\"].cat.categories"
   ]
  },
  {
   "cell_type": "code",
   "execution_count": 9,
   "id": "caba96bc-82f0-475b-952f-9d1de2a56749",
   "metadata": {},
   "outputs": [
    {
     "data": {
      "text/plain": [
       "['Alvespimycin+Pirarubicin',\n",
       " 'Dacinostat+Danusertib',\n",
       " 'Dacinostat+Dasatinib',\n",
       " 'Dacinostat+PCI-34051',\n",
       " 'Givinostat+Carmofur',\n",
       " 'Givinostat+Cediranib',\n",
       " 'Givinostat+Curcumin',\n",
       " 'Givinostat+Dasatinib',\n",
       " 'Givinostat+SRT1720',\n",
       " 'Givinostat+Tanespimycin',\n",
       " 'Panobinostat+Alvespimycin',\n",
       " 'Panobinostat+Crizotinib',\n",
       " 'Panobinostat+Curcumin',\n",
       " 'Panobinostat+Dasatinib',\n",
       " 'Panobinostat+PCI-34051',\n",
       " 'Panobinostat+SRT1720',\n",
       " 'Panobinostat+SRT2104',\n",
       " 'Panobinostat+SRT3025',\n",
       " 'Panobinostat+Sorafenib',\n",
       " 'SRT2104+Alvespimycin',\n",
       " 'SRT3025+Cediranib',\n",
       " 'control',\n",
       " 'control+Alvespimycin',\n",
       " 'control+Dacinostat',\n",
       " 'control+Dasatinib',\n",
       " 'control+Panobinostat']"
      ]
     },
     "execution_count": 9,
     "metadata": {},
     "output_type": "execute_result"
    }
   ],
   "source": [
    "['Alvespimycin+Pirarubicin', 'Dacinostat+Danusertib',\n",
    "       'Dacinostat+Dasatinib', 'Dacinostat+PCI-34051', 'Givinostat+Carmofur',\n",
    "       'Givinostat+Cediranib', 'Givinostat+Curcumin', 'Givinostat+Dasatinib',\n",
    "       'Givinostat+SRT1720', 'Givinostat+Tanespimycin',\n",
    "       'Panobinostat+Alvespimycin', 'Panobinostat+Crizotinib',\n",
    "       'Panobinostat+Curcumin', 'Panobinostat+Dasatinib',\n",
    "       'Panobinostat+PCI-34051', 'Panobinostat+SRT1720',\n",
    "       'Panobinostat+SRT2104', 'Panobinostat+SRT3025',\n",
    "       'Panobinostat+Sorafenib', 'SRT2104+Alvespimycin', 'SRT3025+Cediranib',\n",
    "       'control', 'control+Alvespimycin', 'control+Dacinostat',\n",
    "       'control+Dasatinib', 'control+Panobinostat']"
   ]
  },
  {
   "cell_type": "code",
   "execution_count": 10,
   "id": "6d82bd8f-fc73-45f8-9487-ee8f387ea34d",
   "metadata": {},
   "outputs": [],
   "source": [
    "control = adata_ood[adata_ood.obs[\"condition\"]==\"control\"].X.toarray()\n",
    "rng = np.random.default_rng(0)\n",
    "drug_effect = {}\n",
    "for cond in adata_train.obs[\"condition\"].cat.categories:\n",
    "    drug_effect[cond] = rng.choice(adata_train[adata_train.obs[\"condition\"]==cond].X.toarray(), 500) - control\n",
    "\n",
    "drug_effect[\"control\"] = control # note this is not a displacement vector, but the control vector\n",
    "    "
   ]
  },
  {
   "cell_type": "code",
   "execution_count": 11,
   "id": "95a8ec82-bb0c-49d3-a990-037dcf5205f3",
   "metadata": {},
   "outputs": [],
   "source": [
    "drug_effect_ood = {}\n",
    "\n",
    "drug_effect_ood['Cediranib+PCI-34051'] = (\n",
    "    drug_effect['control'] \n",
    "    + drug_effect['Dacinostat+PCI-34051'] \n",
    "    - drug_effect['control+Dacinostat']\n",
    "    + drug_effect['Givinostat+Cediranib']\n",
    "    - drug_effect['Givinostat+Dasatinib']\n",
    "    + drug_effect['control+Dasatinib']\n",
    ")\n",
    "\n",
    "\n",
    "drug_effect_ood['Givinostat+Crizotinib'] = (\n",
    "    drug_effect['control'] \n",
    "    + drug_effect['Givinostat+Dasatinib'] \n",
    "    - drug_effect['control+Dasatinib']\n",
    "    + drug_effect['Panobinostat+Crizotinib']\n",
    "    - drug_effect['control+Panobinostat']\n",
    ")\n",
    "\n",
    "drug_effect_ood['Givinostat+SRT2104'] = (\n",
    "    drug_effect['control'] \n",
    "    + drug_effect['Givinostat+Dasatinib'] \n",
    "    - drug_effect['control+Dasatinib']\n",
    "    + drug_effect['Panobinostat+SRT2104']\n",
    "    - drug_effect['control+Panobinostat']\n",
    ")\n",
    "\n",
    "drug_effect_ood['Givinostat+Sorafenib'] = (\n",
    "    drug_effect['control'] \n",
    "    + drug_effect['Givinostat+Dasatinib'] \n",
    "    - drug_effect['control+Dasatinib']\n",
    "    + drug_effect['Panobinostat+Sorafenib']\n",
    "    - drug_effect['control+Panobinostat']\n",
    ")\n",
    "\n",
    "drug_effect_ood['control+Givinostat'] = (\n",
    "    drug_effect['control'] \n",
    "    + drug_effect['Givinostat+Dasatinib'] \n",
    "    - drug_effect['control+Dasatinib']\n",
    ")\n",
    "\n",
    "\n",
    "drug_effect_ood['control+SRT2104'] = (\n",
    "    drug_effect['control'] \n",
    "    + drug_effect['Panobinostat+SRT2104'] \n",
    "    - drug_effect['control+Panobinostat']\n",
    ")\n"
   ]
  },
  {
   "cell_type": "code",
   "execution_count": 12,
   "id": "e21b372e-426d-4411-ab50-d9e5bab0d7f3",
   "metadata": {},
   "outputs": [],
   "source": [
    "adata_ref_ood = adata_ood[adata_ood.obs[\"condition\"]!=\"control\"].copy()\n",
    "cfpp.centered_pca(adata_ref_ood, n_comps=10)"
   ]
  },
  {
   "cell_type": "code",
   "execution_count": 13,
   "id": "f2945f9e-5ce0-48ec-903f-5495d1ed190a",
   "metadata": {},
   "outputs": [
    {
     "name": "stderr",
     "output_type": "stream",
     "text": [
      "/home/icb/dominik.klein/mambaforge/envs/cfp/lib/python3.11/site-packages/anndata/_core/aligned_df.py:67: ImplicitModificationWarning: Transforming to str index.\n",
      "  warnings.warn(\"Transforming to str index.\", ImplicitModificationWarning)\n"
     ]
    }
   ],
   "source": [
    "import anndata as ad\n",
    "import pandas as pd\n",
    "all_data = []\n",
    "conditions = []\n",
    "\n",
    "for condition, array in drug_effect_ood.items():\n",
    "    all_data.append(array)\n",
    "    conditions.extend([condition] * array.shape[0])\n",
    "\n",
    "# Stack all data vertically to create a single array\n",
    "all_data_array = np.vstack(all_data)\n",
    "\n",
    "# Create a DataFrame for the .obs attribute\n",
    "obs_data = pd.DataFrame({\n",
    "    'condition': conditions\n",
    "})\n",
    "\n",
    "# Create the Anndata object\n",
    "adata_pred_ood = ad.AnnData(X=all_data_array, obs=obs_data)"
   ]
  },
  {
   "cell_type": "code",
   "execution_count": 14,
   "id": "29a6a928-3fbd-42db-bf90-6f97aee99bef",
   "metadata": {},
   "outputs": [],
   "source": [
    "cfpp.project_pca(query_adata=adata_pred_ood, ref_adata=adata_ref_ood)\n",
    "cfpp.project_pca(query_adata=adata_ood, ref_adata=adata_ref_ood)\n",
    "ood_data_target_encoded = {}\n",
    "ood_data_target_decoded = {}\n",
    "ood_data_target_encoded_predicted = {}\n",
    "ood_data_target_decoded_predicted = {}\n",
    "for cond in adata_ood.obs[\"condition\"].cat.categories:\n",
    "    if cond == \"control\":\n",
    "        continue\n",
    "    ood_data_target_encoded[cond] = adata_ood[adata_ood.obs[\"condition\"] == cond].obsm[\"X_pca\"]\n",
    "    ood_data_target_decoded[cond] = adata_ood[adata_ood.obs[\"condition\"] == cond].X.toarray()\n",
    "    ood_data_target_decoded_predicted[cond] = adata_pred_ood[adata_pred_ood.obs[\"condition\"] == cond].X\n",
    "    ood_data_target_encoded_predicted[cond] = adata_pred_ood[adata_pred_ood.obs[\"condition\"] == cond].obsm[\"X_pca\"]"
   ]
  },
  {
   "cell_type": "code",
   "execution_count": 15,
   "id": "3a45c2e7-2c94-4252-935d-39925879ea6c",
   "metadata": {},
   "outputs": [],
   "source": [
    "\n",
    "ood_deg_dict = {\n",
    "    k: v\n",
    "    for k, v in adata_train.uns[\"rank_genes_groups_cov_all\"].items()\n",
    "    if k in ood_data_target_decoded_predicted.keys()\n",
    "}"
   ]
  },
  {
   "cell_type": "code",
   "execution_count": 16,
   "id": "c8a106c7-8278-4415-b395-07da1bb1bdcf",
   "metadata": {},
   "outputs": [],
   "source": [
    "def get_mask(x, y):\n",
    "    return x[:, [gene in y for gene in adata_train.var_names]]\n",
    "\n",
    "\n",
    "ood_deg_target_decoded_predicted = jax.tree_util.tree_map(get_mask, ood_data_target_decoded_predicted, ood_deg_dict)\n",
    "ood_deg_target_decoded = jax.tree_util.tree_map(get_mask, ood_data_target_decoded, ood_deg_dict)\n"
   ]
  },
  {
   "cell_type": "code",
   "execution_count": 17,
   "id": "3f1edcd8-be6c-49e3-97e7-44a74b52332e",
   "metadata": {},
   "outputs": [
    {
     "data": {
      "text/plain": [
       "AnnData object with n_obs × n_vars = 3000 × 2000\n",
       "    obs: 'condition'\n",
       "    obsm: 'X_pca'"
      ]
     },
     "execution_count": 17,
     "metadata": {},
     "output_type": "execute_result"
    }
   ],
   "source": [
    "adata_pred_ood"
   ]
  },
  {
   "cell_type": "code",
   "execution_count": 18,
   "id": "b7586d86-774e-4c7f-81c4-26a2b28a0cf3",
   "metadata": {},
   "outputs": [],
   "source": [
    "deg_ood_metrics = jax.tree_util.tree_map(compute_metrics, ood_deg_target_decoded, ood_deg_target_decoded_predicted)\n",
    "deg_mean_ood_metrics = compute_mean_metrics(deg_ood_metrics, prefix=\"deg_ood_\")\n"
   ]
  },
  {
   "cell_type": "code",
   "execution_count": 19,
   "id": "396465f2-e494-411e-870d-127fe6208481",
   "metadata": {},
   "outputs": [
    {
     "data": {
      "text/plain": [
       "{'deg_ood_r_squared': 0.8495323260625204,\n",
       " 'deg_ood_sinkhorn_div_1': 36.72664753595988,\n",
       " 'deg_ood_sinkhorn_div_10': 17.33673032124837,\n",
       " 'deg_ood_sinkhorn_div_100': 4.931852658589681,\n",
       " 'deg_ood_e_distance': 8.879143970137717,\n",
       " 'deg_ood_mmd': 0.04949475700656573}"
      ]
     },
     "execution_count": 19,
     "metadata": {},
     "output_type": "execute_result"
    }
   ],
   "source": [
    "deg_mean_ood_metrics"
   ]
  },
  {
   "cell_type": "code",
   "execution_count": 20,
   "id": "09c1e354-ce0c-4afe-abea-241383eb1bdc",
   "metadata": {},
   "outputs": [],
   "source": [
    "ood_metrics_encoded = jax.tree_util.tree_map(\n",
    "    compute_metrics, ood_data_target_encoded, ood_data_target_encoded_predicted\n",
    ")\n",
    "mean_ood_metrics_encoded = compute_mean_metrics(ood_metrics_encoded, prefix=\"encoded_ood_\")\n",
    "\n",
    "ood_metrics_decoded = jax.tree_util.tree_map(\n",
    "    compute_metrics, ood_data_target_decoded, ood_data_target_decoded_predicted\n",
    ")\n",
    "mean_ood_metrics_decoded = compute_mean_metrics(ood_metrics_decoded, prefix=\"decoded_ood_\")"
   ]
  },
  {
   "cell_type": "code",
   "execution_count": 21,
   "id": "a3b394ed-a2b6-4387-988b-23f7d00234b7",
   "metadata": {},
   "outputs": [
    {
     "data": {
      "text/plain": [
       "{'decoded_ood_r_squared': 0.8678234020868937,\n",
       " 'decoded_ood_sinkhorn_div_1': 428.4222717285156,\n",
       " 'decoded_ood_sinkhorn_div_10': 396.74501037597656,\n",
       " 'decoded_ood_sinkhorn_div_100': 112.9091796875,\n",
       " 'decoded_ood_e_distance': 23.468859365447713,\n",
       " 'decoded_ood_mmd': 0.07495708515246709}"
      ]
     },
     "execution_count": 21,
     "metadata": {},
     "output_type": "execute_result"
    }
   ],
   "source": [
    "mean_ood_metrics_decoded"
   ]
  },
  {
   "cell_type": "code",
   "execution_count": 22,
   "id": "8b74d875-de17-4c2f-86cd-e21e134a1913",
   "metadata": {},
   "outputs": [
    {
     "data": {
      "text/plain": [
       "{'encoded_ood_r_squared': -3.5613041818141937,\n",
       " 'encoded_ood_sinkhorn_div_1': 22.012898604075115,\n",
       " 'encoded_ood_sinkhorn_div_10': 14.328720728556315,\n",
       " 'encoded_ood_sinkhorn_div_100': 8.085860252380371,\n",
       " 'encoded_ood_e_distance': 14.226094096717285,\n",
       " 'encoded_ood_mmd': 0.05186058821467062}"
      ]
     },
     "execution_count": 22,
     "metadata": {},
     "output_type": "execute_result"
    }
   ],
   "source": [
    "mean_ood_metrics_encoded"
   ]
  },
  {
   "cell_type": "code",
   "execution_count": 23,
   "id": "9e513158-38d6-47e1-aa3c-b376d03f3b35",
   "metadata": {},
   "outputs": [
    {
     "data": {
      "text/plain": [
       "{'Cediranib+PCI-34051': {'r_squared': -1.350844383239746,\n",
       "  'sinkhorn_div_1': 27.84992790222168,\n",
       "  'sinkhorn_div_10': 19.07388687133789,\n",
       "  'sinkhorn_div_100': 8.750728607177734,\n",
       "  'e_distance': 14.268831515512446,\n",
       "  'mmd': 0.059177533},\n",
       " 'Givinostat+Crizotinib': {'r_squared': -7.093904495239258,\n",
       "  'sinkhorn_div_1': 20.947816848754883,\n",
       "  'sinkhorn_div_10': 12.781055450439453,\n",
       "  'sinkhorn_div_100': 6.50299072265625,\n",
       "  'e_distance': 11.095312303716142,\n",
       "  'mmd': 0.0460455},\n",
       " 'Givinostat+SRT2104': {'r_squared': -4.896747589111328,\n",
       "  'sinkhorn_div_1': 19.250782012939453,\n",
       "  'sinkhorn_div_10': 11.047882080078125,\n",
       "  'sinkhorn_div_100': 4.548213958740234,\n",
       "  'e_distance': 7.11048342932682,\n",
       "  'mmd': 0.03969086},\n",
       " 'Givinostat+Sorafenib': {'r_squared': -3.5398483276367188,\n",
       "  'sinkhorn_div_1': 42.84703826904297,\n",
       "  'sinkhorn_div_10': 33.30573272705078,\n",
       "  'sinkhorn_div_100': 23.891921997070312,\n",
       "  'e_distance': 44.71745610556626,\n",
       "  'mmd': 0.12447248},\n",
       " 'control+Givinostat': {'r_squared': -5.3893351554870605,\n",
       "  'sinkhorn_div_1': 16.473731994628906,\n",
       "  'sinkhorn_div_10': 9.04932975769043,\n",
       "  'sinkhorn_div_100': 4.5937347412109375,\n",
       "  'e_distance': 7.792139544579058,\n",
       "  'mmd': 0.03634374},\n",
       " 'control+SRT2104': {'r_squared': 0.902854859828949,\n",
       "  'sinkhorn_div_1': 4.708094596862793,\n",
       "  'sinkhorn_div_10': 0.7144374847412109,\n",
       "  'sinkhorn_div_100': 0.2275714874267578,\n",
       "  'e_distance': 0.37234168160298253,\n",
       "  'mmd': 0.005433421}}"
      ]
     },
     "execution_count": 23,
     "metadata": {},
     "output_type": "execute_result"
    }
   ],
   "source": [
    "ood_metrics_encoded"
   ]
  },
  {
   "cell_type": "code",
   "execution_count": 24,
   "id": "bdfdb3c1-477a-4c07-86a5-205e0ec80e62",
   "metadata": {},
   "outputs": [],
   "source": [
    "output_dir = \"/lustre/groups/ml01/workspace/ot_perturbation/data/combosciplex/results/additive_model\""
   ]
  },
  {
   "cell_type": "code",
   "execution_count": 25,
   "id": "0dbc72de-0c72-409a-a1a2-e23dcd590d58",
   "metadata": {},
   "outputs": [],
   "source": [
    "import os\n",
    "import pandas as pd\n",
    "\n",
    "pd.DataFrame.from_dict(ood_metrics_encoded).to_csv(os.path.join(output_dir, f\"ood_metrics_encoded_{split}.csv\"))\n",
    "pd.DataFrame.from_dict(ood_metrics_decoded).to_csv(os.path.join(output_dir, f\"ood_metrics_decoded_{split}.csv\"))\n",
    "pd.DataFrame.from_dict(deg_ood_metrics).to_csv(os.path.join(output_dir, f\"ood_metrics_ood_{split}.csv\"))\n"
   ]
  },
  {
   "cell_type": "code",
   "execution_count": null,
   "id": "28f0ed8c-6307-438d-a563-c83d8c1904cb",
   "metadata": {},
   "outputs": [],
   "source": []
  }
 ],
 "metadata": {
  "kernelspec": {
   "display_name": "cfp",
   "language": "python",
   "name": "cfp"
  },
  "language_info": {
   "codemirror_mode": {
    "name": "ipython",
    "version": 3
   },
   "file_extension": ".py",
   "mimetype": "text/x-python",
   "name": "python",
   "nbconvert_exporter": "python",
   "pygments_lexer": "ipython3",
   "version": "3.11.9"
  }
 },
 "nbformat": 4,
 "nbformat_minor": 5
}
