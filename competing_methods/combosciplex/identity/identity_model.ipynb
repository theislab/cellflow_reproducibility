{
 "cells": [
  {
   "cell_type": "code",
   "execution_count": 1,
   "id": "c05b2c1c-c466-4064-8855-0df7f7fd0366",
   "metadata": {},
   "outputs": [],
   "source": [
    "import scanpy as sc\n",
    "import numpy as np\n",
    "import functools\n",
    "import jax\n",
    "from ot_pert.metrics import compute_metrics, compute_mean_metrics"
   ]
  },
  {
   "cell_type": "code",
   "execution_count": 2,
   "id": "3fcd225b-c58e-4261-965d-9e2127ca5c8d",
   "metadata": {},
   "outputs": [],
   "source": [
    "adata_train_path = \"/lustre/groups/ml01/workspace/ot_perturbation/data/combosciplex/adata_train_30.h5ad\"\n",
    "adata_test_path = \"/lustre/groups/ml01/workspace/ot_perturbation/data/combosciplex/adata_test_30.h5ad\"\n",
    "adata_ood_path = \"/lustre/groups/ml01/workspace/ot_perturbation/data/combosciplex/adata_ood_30.h5ad\""
   ]
  },
  {
   "cell_type": "code",
   "execution_count": 3,
   "id": "3535df49-b284-43c7-a35c-f4273e0b3d90",
   "metadata": {},
   "outputs": [
    {
     "name": "stderr",
     "output_type": "stream",
     "text": [
      "/home/icb/dominik.klein/mambaforge/envs/ot_pert_genot/lib/python3.12/site-packages/anndata/__init__.py:51: FutureWarning: `anndata.read` is deprecated, use `anndata.read_h5ad` instead. `ad.read` will be removed in mid 2024.\n",
      "  warnings.warn(\n",
      "/home/icb/dominik.klein/mambaforge/envs/ot_pert_genot/lib/python3.12/site-packages/anndata/__init__.py:51: FutureWarning: `anndata.read` is deprecated, use `anndata.read_h5ad` instead. `ad.read` will be removed in mid 2024.\n",
      "  warnings.warn(\n",
      "/home/icb/dominik.klein/mambaforge/envs/ot_pert_genot/lib/python3.12/site-packages/anndata/__init__.py:51: FutureWarning: `anndata.read` is deprecated, use `anndata.read_h5ad` instead. `ad.read` will be removed in mid 2024.\n",
      "  warnings.warn(\n"
     ]
    }
   ],
   "source": [
    "adata_train = sc.read(adata_train_path)\n",
    "adata_test = sc.read(adata_test_path)\n",
    "adata_ood = sc.read(adata_ood_path)\n"
   ]
  },
  {
   "cell_type": "code",
   "execution_count": 4,
   "id": "53d1fa05-0b9f-4768-96dc-80ce6731ddd3",
   "metadata": {},
   "outputs": [
    {
     "data": {
      "text/plain": [
       "split\n",
       "train    51882\n",
       "Name: count, dtype: int64"
      ]
     },
     "execution_count": 4,
     "metadata": {},
     "output_type": "execute_result"
    }
   ],
   "source": [
    "adata_train.obs[\"split\"].value_counts()"
   ]
  },
  {
   "cell_type": "code",
   "execution_count": 5,
   "id": "eb67ab67-5497-47f9-8ad0-009a64003a31",
   "metadata": {},
   "outputs": [
    {
     "data": {
      "text/plain": [
       "split\n",
       "test    3100\n",
       "Name: count, dtype: int64"
      ]
     },
     "execution_count": 5,
     "metadata": {},
     "output_type": "execute_result"
    }
   ],
   "source": [
    "adata_test.obs[\"split\"].value_counts()"
   ]
  },
  {
   "cell_type": "code",
   "execution_count": 6,
   "id": "ed94c257-44a1-4639-8f5c-88fe1921fc2a",
   "metadata": {},
   "outputs": [
    {
     "data": {
      "text/plain": [
       "split\n",
       "ood    8896\n",
       "Name: count, dtype: int64"
      ]
     },
     "execution_count": 6,
     "metadata": {},
     "output_type": "execute_result"
    }
   ],
   "source": [
    "adata_ood.obs[\"split\"].value_counts()"
   ]
  },
  {
   "cell_type": "code",
   "execution_count": 7,
   "id": "a718cb13-6483-4c61-b162-3f22d2d10f69",
   "metadata": {},
   "outputs": [
    {
     "data": {
      "text/plain": [
       "condition\n",
       "Givinostat+SRT1720         2260\n",
       "Cediranib+PCI-34051        2161\n",
       "Panobinostat+PCI-34051     1814\n",
       "Panobinostat+Crizotinib    1641\n",
       "SRT2104+Alvespimycin        520\n",
       "control                     500\n",
       "Name: count, dtype: int64"
      ]
     },
     "execution_count": 7,
     "metadata": {},
     "output_type": "execute_result"
    }
   ],
   "source": [
    "adata_ood.obs[\"condition\"].value_counts()"
   ]
  },
  {
   "cell_type": "code",
   "execution_count": 8,
   "id": "7ab5c24b-47cd-4502-92d1-ce8b3cec04b1",
   "metadata": {},
   "outputs": [],
   "source": [
    "def reconstruct_data(embedding: np.ndarray, projection_matrix: np.ndarray, mean_to_add: np.ndarray) -> np.ndarray:\n",
    "    return np.matmul(embedding, projection_matrix.T) + mean_to_add\n",
    "\n",
    "def project_data(data: np.ndarray, projection_matrix: np.ndarray, mean_to_subtract: np.ndarray) -> np.ndarray:\n",
    "    return np.matmul(data - mean_to_subtract, projection_matrix)"
   ]
  },
  {
   "cell_type": "code",
   "execution_count": 9,
   "id": "3c3255a2-7c83-4695-835d-76dadbd41c8d",
   "metadata": {},
   "outputs": [],
   "source": [
    "project_data_fn = functools.partial(project_data, projection_matrix = adata_train.varm[\"PCs\"], mean_to_subtract=adata_train.varm[\"X_train_mean\"].T)"
   ]
  },
  {
   "cell_type": "code",
   "execution_count": 10,
   "id": "435882f3-b729-439b-b64f-8eb75be9c844",
   "metadata": {},
   "outputs": [],
   "source": [
    "OBSM_KEY_DATA_EMBEDDING = \"X_pca\""
   ]
  },
  {
   "cell_type": "code",
   "execution_count": 11,
   "id": "66c84270-cddd-410e-9abd-5def9b2f3fbc",
   "metadata": {},
   "outputs": [],
   "source": [
    "train_data_target_encoded = {}\n",
    "train_data_target_decoded = {}\n",
    "train_data_target_encoded_predicted = {}\n",
    "train_data_target_decoded_predicted = {}\n",
    "pred_id = adata_train[adata_train.obs[\"condition\"]==\"control\"].X.A\n",
    "for cond in adata_train.obs[\"condition\"].cat.categories:\n",
    "    if cond == \"control\":\n",
    "        continue\n",
    "    train_data_target_encoded[cond] = adata_train[adata_train.obs[\"condition\"]==cond].obsm[OBSM_KEY_DATA_EMBEDDING]\n",
    "    train_data_target_decoded[cond] = adata_train[adata_train.obs[\"condition\"]==cond].X.A\n",
    "    train_data_target_decoded_predicted[cond] = pred_id\n",
    "    train_data_target_encoded_predicted[cond] = project_data_fn(pred_id)\n",
    "\n",
    "pred_id = adata_test[adata_test.obs[\"condition\"]==\"control\"].X.A\n",
    "test_data_target_encoded = {}\n",
    "test_data_target_decoded = {}\n",
    "test_data_target_encoded_predicted = {}\n",
    "test_data_target_decoded_predicted = {}\n",
    "for cond in adata_test.obs[\"condition\"].cat.categories:\n",
    "    if cond == \"control\":\n",
    "        continue\n",
    "    test_data_target_encoded[cond] = adata_test[adata_test.obs[\"condition\"]==cond].obsm[OBSM_KEY_DATA_EMBEDDING]\n",
    "    test_data_target_decoded[cond] = adata_test[adata_test.obs[\"condition\"]==cond].X.A\n",
    "    test_data_target_decoded_predicted[cond] = pred_id\n",
    "    test_data_target_encoded_predicted[cond] = project_data_fn(pred_id)\n",
    "\n",
    "pred_id = adata_ood[adata_ood.obs[\"condition\"]==\"control\"].X.A\n",
    "ood_data_target_encoded = {}\n",
    "ood_data_target_decoded = {}\n",
    "ood_data_target_encoded_predicted = {}\n",
    "ood_data_target_decoded_predicted = {}\n",
    "for cond in adata_ood.obs[\"condition\"].cat.categories:\n",
    "    if cond == \"control\":\n",
    "        continue\n",
    "    ood_data_target_encoded[cond] = adata_ood[adata_ood.obs[\"condition\"]==cond].obsm[OBSM_KEY_DATA_EMBEDDING]\n",
    "    ood_data_target_decoded[cond] = adata_ood[adata_ood.obs[\"condition\"]==cond].X.A\n",
    "    ood_data_target_decoded_predicted[cond] = pred_id\n",
    "    ood_data_target_encoded_predicted[cond] = project_data_fn(pred_id)\n",
    "\n"
   ]
  },
  {
   "cell_type": "code",
   "execution_count": 12,
   "id": "9866a361-7314-422e-8784-3ff4692a5c15",
   "metadata": {},
   "outputs": [
    {
     "name": "stderr",
     "output_type": "stream",
     "text": [
      "2024-04-19 08:55:17.576377: W external/xla/xla/service/gpu/nvptx_compiler.cc:718] The NVIDIA driver's CUDA version is 12.3 which is older than the ptxas CUDA version (12.4.131). Because the driver is older than the ptxas version, XLA is disabling parallel compilation, which may slow down compilation. You should update your NVIDIA driver or use the NVIDIA-provided CUDA forward compatibility packages.\n"
     ]
    }
   ],
   "source": [
    "train_metrics_encoded = jax.tree_util.tree_map(compute_metrics, train_data_target_encoded, train_data_target_encoded_predicted)\n",
    "mean_train_metrics_encoded = compute_mean_metrics(train_metrics_encoded, prefix=\"encoded_train_\")\n",
    "\n",
    "train_metrics_decoded = jax.tree_util.tree_map(compute_metrics, train_data_target_decoded, train_data_target_decoded_predicted)\n",
    "mean_train_metrics_decoded = compute_mean_metrics(train_metrics_decoded, prefix=\"decoded_train_\")"
   ]
  },
  {
   "cell_type": "code",
   "execution_count": 13,
   "id": "73608cbd-8a06-4133-a7e5-19460133e798",
   "metadata": {},
   "outputs": [],
   "source": [
    "test_metrics_encoded = jax.tree_util.tree_map(compute_metrics, test_data_target_encoded, test_data_target_encoded_predicted)\n",
    "mean_test_metrics_encoded = compute_mean_metrics(test_metrics_encoded, prefix=\"encoded_test_\")\n",
    "\n",
    "test_metrics_decoded = jax.tree_util.tree_map(compute_metrics, test_data_target_decoded, test_data_target_decoded_predicted)\n",
    "mean_test_metrics_decoded = compute_mean_metrics(test_metrics_decoded, prefix=\"decoded_test_\")"
   ]
  },
  {
   "cell_type": "code",
   "execution_count": 14,
   "id": "7656547e-ae05-49bd-a9f6-1c0636393e9e",
   "metadata": {},
   "outputs": [],
   "source": [
    "ood_metrics_encoded = jax.tree_util.tree_map(compute_metrics, ood_data_target_encoded, ood_data_target_encoded_predicted)\n",
    "mean_ood_metrics_encoded = compute_mean_metrics(ood_metrics_encoded, prefix=\"encoded_ood_\")\n",
    "\n",
    "ood_metrics_decoded = jax.tree_util.tree_map(compute_metrics, ood_data_target_decoded, ood_data_target_decoded_predicted)\n",
    "mean_ood_metrics_decoded = compute_mean_metrics(ood_metrics_decoded, prefix=\"decoded_ood_\")\n",
    "\n",
    "\n"
   ]
  },
  {
   "cell_type": "code",
   "execution_count": 15,
   "id": "314e6f54-f070-49ca-b275-e661a7a24f45",
   "metadata": {},
   "outputs": [],
   "source": [
    "train_deg_dict = {k: v for k,v in adata_train.uns['rank_genes_groups_cov_all'].items() if k in train_data_target_decoded_predicted.keys()}\n",
    "test_deg_dict = {k: v for k,v in adata_train.uns['rank_genes_groups_cov_all'].items() if k in test_data_target_decoded_predicted.keys()}\n",
    "ood_deg_dict = {k: v for k,v in adata_train.uns['rank_genes_groups_cov_all'].items() if k in ood_data_target_decoded_predicted.keys()}"
   ]
  },
  {
   "cell_type": "code",
   "execution_count": 16,
   "id": "f28a84c5-0f8d-4b1f-a586-ab8ab7fc5ddf",
   "metadata": {},
   "outputs": [],
   "source": [
    "def get_mask(x, y):\n",
    "    return x[:, [gene in y for gene in adata_train.var_names]]\n",
    "\n",
    "ood_deg_target_decoded_predicted = jax.tree_util.tree_map(get_mask, ood_data_target_decoded_predicted, ood_deg_dict)\n",
    "ood_deg_target_decoded = jax.tree_util.tree_map(get_mask, ood_data_target_decoded, ood_deg_dict)\n",
    "\n",
    "test_deg_target_decoded_predicted = jax.tree_util.tree_map(get_mask, test_data_target_decoded_predicted, test_deg_dict)\n",
    "test_deg_target_decoded = jax.tree_util.tree_map(get_mask, test_data_target_decoded, test_deg_dict)\n",
    "\n",
    "train_deg_target_decoded_predicted = jax.tree_util.tree_map(get_mask, train_data_target_decoded_predicted, train_deg_dict)\n",
    "train_deg_target_decoded = jax.tree_util.tree_map(get_mask, train_data_target_decoded, test_deg_dict)"
   ]
  },
  {
   "cell_type": "code",
   "execution_count": 17,
   "id": "1a1f3c2e-ca6d-4970-a09e-ff2a284be661",
   "metadata": {},
   "outputs": [],
   "source": [
    "deg_ood_metrics = jax.tree_util.tree_map(compute_metrics, ood_deg_target_decoded, ood_deg_target_decoded_predicted)\n",
    "deg_mean_ood_metrics = compute_mean_metrics(deg_ood_metrics, prefix=\"deg_ood_\")\n",
    "\n",
    "deg_test_metrics = jax.tree_util.tree_map(compute_metrics, test_deg_target_decoded, test_deg_target_decoded_predicted)\n",
    "deg_mean_test_metrics = compute_mean_metrics(deg_test_metrics, prefix=\"deg_test_\")\n",
    "\n",
    "deg_train_metrics = jax.tree_util.tree_map(compute_metrics, train_deg_target_decoded, train_deg_target_decoded_predicted)\n",
    "deg_mean_train_metrics = compute_mean_metrics(deg_train_metrics, prefix=\"deg_train_\")"
   ]
  },
  {
   "cell_type": "code",
   "execution_count": 18,
   "id": "8dddc5a5-c345-4d2f-8435-55b63998db31",
   "metadata": {},
   "outputs": [
    {
     "data": {
      "text/plain": [
       "{'deg_ood_r_squared': 0.380471824796215,\n",
       " 'deg_ood_sinkhorn_div_1': 32.49099349975586,\n",
       " 'deg_ood_sinkhorn_div_10': 20.674528503417967,\n",
       " 'deg_ood_sinkhorn_div_100': 20.04779815673828,\n",
       " 'deg_ood_e_distance': 39.97579202417754,\n",
       " 'deg_ood_mmd': 0.08912052417003327}"
      ]
     },
     "execution_count": 18,
     "metadata": {},
     "output_type": "execute_result"
    }
   ],
   "source": [
    "deg_mean_ood_metrics"
   ]
  },
  {
   "cell_type": "code",
   "execution_count": 19,
   "id": "ec87319e-61b3-4201-8e7b-122afe8d61eb",
   "metadata": {},
   "outputs": [
    {
     "data": {
      "text/plain": [
       "{'deg_test_r_squared': 0.42197210858369394,\n",
       " 'deg_test_sinkhorn_div_1': 32.2918458535121,\n",
       " 'deg_test_sinkhorn_div_10': 19.429043182959923,\n",
       " 'deg_test_sinkhorn_div_100': 18.320143112769493,\n",
       " 'deg_test_e_distance': 36.493777542369685,\n",
       " 'deg_test_mmd': 0.09369762841545004}"
      ]
     },
     "execution_count": 19,
     "metadata": {},
     "output_type": "execute_result"
    }
   ],
   "source": [
    "deg_mean_test_metrics"
   ]
  },
  {
   "cell_type": "code",
   "execution_count": 20,
   "id": "69b4b380-d688-44b7-ab60-55ac5c4516c7",
   "metadata": {},
   "outputs": [
    {
     "data": {
      "text/plain": [
       "{'deg_train_r_squared': 0.42610602479540144,\n",
       " 'deg_train_sinkhorn_div_1': 30.306968743984516,\n",
       " 'deg_train_sinkhorn_div_10': 18.768293600815994,\n",
       " 'deg_train_sinkhorn_div_100': 18.177710973299465,\n",
       " 'deg_train_e_distance': 36.24290576049266,\n",
       " 'deg_train_mmd': 0.08588872974007322}"
      ]
     },
     "execution_count": 20,
     "metadata": {},
     "output_type": "execute_result"
    }
   ],
   "source": [
    "deg_mean_train_metrics"
   ]
  },
  {
   "cell_type": "code",
   "execution_count": 21,
   "id": "d5795ad0-611d-44e7-be4b-746e1cd5e985",
   "metadata": {},
   "outputs": [
    {
     "data": {
      "text/plain": [
       "{'decoded_train_r_squared': 0.6876376148189827,\n",
       " 'decoded_train_sinkhorn_div_1': 175.35013404259314,\n",
       " 'decoded_train_sinkhorn_div_10': 127.87665616548978,\n",
       " 'decoded_train_sinkhorn_div_100': 30.37559274526743,\n",
       " 'decoded_train_e_distance': 59.652706027587904,\n",
       " 'decoded_train_mmd': 0.034737392420857736}"
      ]
     },
     "execution_count": 21,
     "metadata": {},
     "output_type": "execute_result"
    }
   ],
   "source": [
    "mean_train_metrics_decoded"
   ]
  },
  {
   "cell_type": "code",
   "execution_count": 22,
   "id": "803d5490-4988-4496-9fe6-05438b13a7c5",
   "metadata": {},
   "outputs": [
    {
     "data": {
      "text/plain": [
       "{'encoded_test_r_squared': -0.8760768311432954,\n",
       " 'encoded_test_sinkhorn_div_1': 45.95963635811439,\n",
       " 'encoded_test_sinkhorn_div_10': 31.896249477679913,\n",
       " 'encoded_test_sinkhorn_div_100': 29.60800735767071,\n",
       " 'encoded_test_e_distance': 58.87440579010694,\n",
       " 'encoded_test_mmd': 0.11540636236483498}"
      ]
     },
     "execution_count": 22,
     "metadata": {},
     "output_type": "execute_result"
    }
   ],
   "source": [
    "mean_test_metrics_encoded"
   ]
  },
  {
   "cell_type": "code",
   "execution_count": 23,
   "id": "d055c12e-4d61-4ee4-85ae-e991a6108b74",
   "metadata": {},
   "outputs": [
    {
     "data": {
      "text/plain": [
       "{'decoded_test_r_squared': 0.6781521682861769,\n",
       " 'decoded_test_sinkhorn_div_1': 179.88092275766226,\n",
       " 'decoded_test_sinkhorn_div_10': 144.52333098191482,\n",
       " 'decoded_test_sinkhorn_div_100': 33.009776188777046,\n",
       " 'decoded_test_e_distance': 61.68167901269651,\n",
       " 'decoded_test_mmd': 0.04447886694964587}"
      ]
     },
     "execution_count": 23,
     "metadata": {},
     "output_type": "execute_result"
    }
   ],
   "source": [
    "mean_test_metrics_decoded"
   ]
  },
  {
   "cell_type": "code",
   "execution_count": 24,
   "id": "17f4572f-e831-444a-922f-e4939dc38438",
   "metadata": {},
   "outputs": [
    {
     "data": {
      "text/plain": [
       "{'encoded_ood_r_squared': -0.2991388146995564,\n",
       " 'encoded_ood_sinkhorn_div_1': 46.984486961364745,\n",
       " 'encoded_ood_sinkhorn_div_10': 34.5821044921875,\n",
       " 'encoded_ood_sinkhorn_div_100': 32.87112197875977,\n",
       " 'encoded_ood_e_distance': 65.39495653164795,\n",
       " 'encoded_ood_mmd': 0.1113489583832942}"
      ]
     },
     "execution_count": 24,
     "metadata": {},
     "output_type": "execute_result"
    }
   ],
   "source": [
    "mean_ood_metrics_encoded"
   ]
  },
  {
   "cell_type": "code",
   "execution_count": 25,
   "id": "7de33e02-462d-48d5-9a67-08a62b0e0105",
   "metadata": {},
   "outputs": [
    {
     "data": {
      "text/plain": [
       "{'decoded_ood_r_squared': 0.6786619478903313,\n",
       " 'decoded_ood_sinkhorn_div_1': 178.64292907714844,\n",
       " 'decoded_ood_sinkhorn_div_10': 133.90704956054688,\n",
       " 'decoded_ood_sinkhorn_div_100': 34.36363220214844,\n",
       " 'decoded_ood_e_distance': 67.16140559518308,\n",
       " 'decoded_ood_mmd': 0.03772059304184831}"
      ]
     },
     "execution_count": 25,
     "metadata": {},
     "output_type": "execute_result"
    }
   ],
   "source": [
    "mean_ood_metrics_decoded"
   ]
  },
  {
   "cell_type": "code",
   "execution_count": 26,
   "id": "83578067-baa6-4eb2-a3fc-268dacb8a299",
   "metadata": {},
   "outputs": [],
   "source": [
    "output_dir = \"/lustre/groups/ml01/workspace/ot_perturbation/data/combosciplex/results/identity\""
   ]
  },
  {
   "cell_type": "code",
   "execution_count": 27,
   "id": "9413b2ee-d9ee-4ec8-a56c-93df2a526220",
   "metadata": {},
   "outputs": [
    {
     "ename": "SyntaxError",
     "evalue": "invalid syntax (2995550218.py, line 2)",
     "output_type": "error",
     "traceback": [
      "\u001b[0;36m  Cell \u001b[0;32mIn[27], line 2\u001b[0;36m\u001b[0m\n\u001b[0;31m    import pandas as\u001b[0m\n\u001b[0m                    ^\u001b[0m\n\u001b[0;31mSyntaxError\u001b[0m\u001b[0;31m:\u001b[0m invalid syntax\n"
     ]
    }
   ],
   "source": [
    "import os\n",
    "import pandas as\n",
    "pd.DataFrame.from_dict(ood_metrics_encoded).to_csv(os.path.join(output_dir, \"ood_metrics_encoded.csv\"))\n",
    "pd.DataFrame.from_dict(ood_metrics_decoded).to_csv(os.path.join(output_dir, \"ood_metrics_decoded.csv\"))\n",
    "pd.DataFrame.from_dict(test_metrics_encoded).to_csv(os.path.join(output_dir, \"test_metrics_encoded.csv\"))\n",
    "pd.DataFrame.from_dict(test_metrics_decoded).to_csv(os.path.join(output_dir, \"test_metrics_decoded.csv\"))\n",
    "pd.DataFrame.from_dict(train_metrics_encoded).to_csv(os.path.join(output_dir, \"train_metrics_encoded.csv\"))\n",
    "pd.DataFrame.from_dict(train_metrics_decoded).to_csv(os.path.join(output_dir, \"train_metrics_decoded.csv\"))"
   ]
  },
  {
   "cell_type": "code",
   "execution_count": null,
   "id": "63424ef2-5297-4a55-85ef-2d651e2c09c9",
   "metadata": {},
   "outputs": [],
   "source": []
  }
 ],
 "metadata": {
  "kernelspec": {
   "display_name": "ot_pert_genot",
   "language": "python",
   "name": "ot_pert_genot"
  },
  "language_info": {
   "codemirror_mode": {
    "name": "ipython",
    "version": 3
   },
   "file_extension": ".py",
   "mimetype": "text/x-python",
   "name": "python",
   "nbconvert_exporter": "python",
   "pygments_lexer": "ipython3",
   "version": "3.12.2"
  }
 },
 "nbformat": 4,
 "nbformat_minor": 5
}
