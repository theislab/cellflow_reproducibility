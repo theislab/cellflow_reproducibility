{
 "cells": [
  {
   "cell_type": "code",
   "execution_count": 1,
   "id": "4bbc5965-37b5-415a-8f75-3c042ca2fd20",
   "metadata": {},
   "outputs": [
    {
     "name": "stderr",
     "output_type": "stream",
     "text": [
      "[rank: 0] Global seed set to 0\n",
      "2024-09-10 13:59:10,934\tINFO util.py:154 -- Missing packages: ['ipywidgets']. Run `pip install -U ipywidgets`, then restart the notebook server for rich notebook output.\n",
      "2024-09-10 13:59:17,071\tINFO util.py:154 -- Missing packages: ['ipywidgets']. Run `pip install -U ipywidgets`, then restart the notebook server for rich notebook output.\n"
     ]
    }
   ],
   "source": [
    "import cpa\n",
    "import scanpy as sc\n",
    "import pandas as pd\n",
    "import anndata as ad\n",
    "import numpy as np"
   ]
  },
  {
   "cell_type": "code",
   "execution_count": 2,
   "id": "1cfb5c56-361d-4403-9324-f35c8629e83b",
   "metadata": {},
   "outputs": [],
   "source": [
    "adata_train_path = \"/lustre/groups/ml01/workspace/ot_perturbation/data/combosciplex/adata_train_1.h5ad\"\n",
    "adata_test_path = \"/lustre/groups/ml01/workspace/ot_perturbation/data/combosciplex/adata_test_1.h5ad\"\n",
    "adata_ood_path = \"/lustre/groups/ml01/workspace/ot_perturbation/data/combosciplex/adata_ood_1.h5ad\""
   ]
  },
  {
   "cell_type": "code",
   "execution_count": 3,
   "id": "b4a7e157-bb65-4bc7-b14b-00f9f6ba475a",
   "metadata": {},
   "outputs": [],
   "source": [
    "adata_train = sc.read(adata_train_path)\n",
    "adata_test = sc.read(adata_test_path)\n",
    "adata_ood = sc.read(adata_ood_path)"
   ]
  },
  {
   "cell_type": "code",
   "execution_count": 4,
   "id": "80932e83-09d2-4ddd-a6f4-c935de8b87c4",
   "metadata": {},
   "outputs": [
    {
     "data": {
      "text/plain": [
       "condition\n",
       "SRT3025+Cediranib         3016\n",
       "Givinostat+Dasatinib      2421\n",
       "control+Dasatinib         2343\n",
       "Givinostat+SRT1720        2260\n",
       "Panobinostat+SRT2104      1971\n",
       "Panobinostat+Dasatinib    1955\n",
       "Panobinostat+PCI-34051    1814\n",
       "control                    500\n",
       "Name: count, dtype: int64"
      ]
     },
     "execution_count": 4,
     "metadata": {},
     "output_type": "execute_result"
    }
   ],
   "source": [
    "adata_ood.obs[\"condition\"].value_counts()"
   ]
  },
  {
   "cell_type": "code",
   "execution_count": 5,
   "id": "adb9709c-faf4-4674-a020-8229fabe07a8",
   "metadata": {},
   "outputs": [],
   "source": [
    "try:\n",
    "    data_path = 'combo_sciplex_prep_hvg_filtered.h5ad'\n",
    "    adata = sc.read(data_path)\n",
    "except:\n",
    "    import gdown\n",
    "    gdown.download('https://drive.google.com/uc?export=download&id=1RRV0_qYKGTvD3oCklKfoZQFYqKJy4l6t')\n",
    "    data_path = 'combo_sciplex_prep_hvg_filtered.h5ad'\n",
    "    adata = sc.read(data_path)\n",
    "\n",
    "\n",
    "adata.obs[\"index\"] = adata.obs_names.values\n",
    "adata.obs[\"index_adapted\"] = adata.obs.apply(lambda x: x[\"index\"][:-2], axis=1)\n",
    "adata.obs.set_index(\"index_adapted\", inplace=True)\n",
    "\n",
    "adata_ood.obs[\"cov_drug_dose\"] = adata.obs[\"cov_drug_dose\"]\n",
    "adata_ood.obs[\"condition_ID\"] = adata.obs[\"condition_ID\"]\n",
    "adata_ood.obs[\"log_dose\"] = adata.obs[\"log_dose\"]\n",
    "adata_ood.obs[\"smiles_rdkit\"] = adata.obs[\"smiles_rdkit\"]\n",
    "adata_ood.obs[\"cell_type\"] = adata.obs[\"cell_type\"]\n",
    "\n",
    "adata_test.obs[\"cov_drug_dose\"] = adata.obs[\"cov_drug_dose\"]\n",
    "adata_test.obs[\"condition_ID\"] = adata.obs[\"condition_ID\"]\n",
    "adata_test.obs[\"log_dose\"] = adata.obs[\"log_dose\"]\n",
    "adata_test.obs[\"smiles_rdkit\"] = adata.obs[\"smiles_rdkit\"]\n",
    "adata_test.obs[\"cell_type\"] = adata.obs[\"cell_type\"]\n",
    "\n",
    "adata_train.obs[\"cov_drug_dose\"] = adata.obs[\"cov_drug_dose\"]\n",
    "adata_train.obs[\"condition_ID\"] = adata.obs[\"condition_ID\"]\n",
    "adata_train.obs[\"log_dose\"] = adata.obs[\"log_dose\"]\n",
    "adata_train.obs[\"smiles_rdkit\"] = adata.obs[\"smiles_rdkit\"]\n",
    "adata_train.obs[\"cell_type\"] = adata.obs[\"cell_type\"]"
   ]
  },
  {
   "cell_type": "code",
   "execution_count": 6,
   "id": "b15743ed-dd24-4614-bb3d-9635031192b6",
   "metadata": {},
   "outputs": [],
   "source": [
    "control_cells_gex = adata_ood[adata_ood.obs[\"condition\"]==\"control\"].X.A\n",
    "obs_names = list(adata_ood[adata_ood.obs[\"condition\"]==\"control\"].obs_names)\n",
    "\n",
    "all_data = []\n",
    "obs_df = pd.DataFrame(columns=[\"condition_ID\", \"log_dose\", \"smiles_rdkit\", \"cell_type\", \"condition\"])\n",
    "indices = []\n",
    "\n",
    "for condition in adata_ood.obs[\"condition\"].cat.categories:\n",
    "    if condition==\"control\":\n",
    "        continue\n",
    "    all_data.append(control_cells_gex)\n",
    "    filtered_row = pd.Series(adata_ood[adata_ood.obs[\"condition\"] == condition].obs[[\"condition_ID\", \"log_dose\", \"smiles_rdkit\", \"cell_type\", \"condition\"]].iloc[0].values)\n",
    "    filtered_row_df = pd.DataFrame([filtered_row.values], columns=[\"condition_ID\", \"log_dose\", \"smiles_rdkit\", \"cell_type\", \"condition\"])\n",
    "    duplicated_rows = pd.concat([filtered_row_df] * 500, ignore_index=True)\n",
    "    obs_df = pd.concat([obs_df, duplicated_rows], ignore_index=True)\n",
    "\n",
    "# Stack all data vertically to create a single array\n",
    "all_data_array = np.vstack(all_data)\n",
    "\n",
    "\n",
    "# Create the Anndata object\n",
    "adata_ood_new = ad.AnnData(X=all_data_array, obs=obs_df)\n",
    "adata_ood_new.var = adata_ood.var\n",
    "\n",
    "\n",
    "control_cells_gex = adata_test[adata_test.obs[\"condition\"]==\"control\"].X.A\n",
    "obs_names = list(adata_test[adata_test.obs[\"condition\"]==\"control\"].obs_names)\n",
    "\n",
    "all_data = []\n",
    "obs_df = pd.DataFrame(columns=[\"condition_ID\", \"log_dose\", \"smiles_rdkit\", \"cell_type\", \"condition\"])\n",
    "indices = []\n",
    "\n",
    "for condition in adata_test.obs[\"condition\"].cat.categories:\n",
    "    if condition==\"control\":\n",
    "        continue\n",
    "    all_data.append(control_cells_gex)\n",
    "    filtered_row = pd.Series(adata_test[adata_test.obs[\"condition\"] == condition].obs[[\"condition_ID\", \"log_dose\", \"smiles_rdkit\", \"cell_type\", \"condition\"]].iloc[0].values)\n",
    "    filtered_row_df = pd.DataFrame([filtered_row.values], columns=[\"condition_ID\", \"log_dose\", \"smiles_rdkit\", \"cell_type\", \"condition\"])\n",
    "    duplicated_rows = pd.concat([filtered_row_df] * 500, ignore_index=True)\n",
    "    obs_df = pd.concat([obs_df, duplicated_rows], ignore_index=True)\n",
    "\n",
    "# Stack all data vertically to create a single array\n",
    "all_data_array = np.vstack(all_data)\n",
    "\n",
    "\n",
    "# Create the Anndata object\n",
    "adata_test_new = ad.AnnData(X=all_data_array, obs=obs_df)\n",
    "adata_test_new.var = adata_test.var"
   ]
  },
  {
   "cell_type": "code",
   "execution_count": 9,
   "id": "ecf8697d-7b1c-4352-89ff-09e03060fe31",
   "metadata": {},
   "outputs": [],
   "source": [
    "import anndata\n",
    "\n",
    "adata_combined = anndata.concat((adata_train, adata_test_new, adata_ood_new), label=\"split\", keys=[\"train\", \"test\", \"ood\"], join=\"inner\")"
   ]
  },
  {
   "cell_type": "code",
   "execution_count": 10,
   "id": "d84952c9-df06-409a-bca9-211f7a9d613a",
   "metadata": {},
   "outputs": [],
   "source": [
    "frac_valid = adata[adata.obs[\"split_1ct_MEC\"] == \"valid\"].n_obs / (\n",
    "    adata[adata.obs[\"split_1ct_MEC\"] == \"valid\"].n_obs + adata[adata.obs[\"split_1ct_MEC\"] == \"train\"].n_obs\n",
    ")"
   ]
  },
  {
   "cell_type": "code",
   "execution_count": 11,
   "id": "78a50d55-575b-4a87-9ddb-85fd048c54a0",
   "metadata": {},
   "outputs": [],
   "source": [
    "import numpy as np\n",
    "\n",
    "\n",
    "def create_split(x):\n",
    "    if x[\"split\"] != \"train\":\n",
    "        return x[\"split\"]\n",
    "    is_train = np.random.choice(2, p=[frac_valid, 1 - frac_valid])\n",
    "    if is_train:\n",
    "        return \"train_train\"\n",
    "    return \"train_valid\"\n",
    "\n",
    "\n",
    "adata_combined.obs[\"split_1ct_MEC\"] = adata_combined.obs.apply(create_split, axis=1)"
   ]
  },
  {
   "cell_type": "code",
   "execution_count": 12,
   "id": "2a631a3a-e2f8-44b5-82a0-fc03e64393ab",
   "metadata": {},
   "outputs": [
    {
     "name": "stderr",
     "output_type": "stream",
     "text": [
      "100%|██████████| 60198/60198 [00:00<00:00, 88847.57it/s]\n",
      "100%|██████████| 60198/60198 [00:00<00:00, 1159178.17it/s]\n",
      "An NVIDIA GPU may be present on this machine, but a CUDA-enabled jaxlib is not installed. Falling back to cpu.\n"
     ]
    },
    {
     "name": "stdout",
     "output_type": "stream",
     "text": [
      "\u001b[34mINFO    \u001b[0m Generating sequential column names                                                                        \n",
      "\u001b[34mINFO    \u001b[0m Generating sequential column names                                                                        \n"
     ]
    }
   ],
   "source": [
    "cpa.CPA.setup_anndata(adata_combined,\n",
    "                      perturbation_key='condition_ID',\n",
    "                      dosage_key='log_dose',\n",
    "                      control_group='CHEMBL504',\n",
    "                      batch_key=None,\n",
    "                      smiles_key='smiles_rdkit',\n",
    "                      is_count_data=False,\n",
    "                      categorical_covariate_keys=['cell_type'],\n",
    "                      deg_uns_cat_key='cov_drug_dose',\n",
    "                      max_comb_len=2,\n",
    "                     )"
   ]
  },
  {
   "cell_type": "code",
   "execution_count": 13,
   "id": "05c346cd-c37f-4ded-8eef-ccab1866f773",
   "metadata": {},
   "outputs": [],
   "source": [
    "ae_hparams = {'n_latent': 64,\n",
    " 'recon_loss': 'gauss',\n",
    " 'doser_type': 'linear',\n",
    " 'n_hidden_encoder': 256,\n",
    " 'n_layers_encoder': 3,\n",
    " 'n_hidden_decoder': 512,\n",
    " 'n_layers_decoder': 2,\n",
    " 'use_batch_norm_encoder': True,\n",
    " 'use_layer_norm_encoder': False,\n",
    " 'use_batch_norm_decoder': True,\n",
    " 'use_layer_norm_decoder': False,\n",
    " 'dropout_rate_encoder': 0.25,\n",
    " 'dropout_rate_decoder': 0.25,\n",
    " 'variational': False,\n",
    " 'seed': 6478}\n",
    "\n",
    "trainer_params = {'n_epochs_kl_warmup': None,\n",
    " 'n_epochs_pretrain_ae': 50,\n",
    " 'n_epochs_adv_warmup': 100,\n",
    " 'n_epochs_mixup_warmup': 10,\n",
    " 'mixup_alpha': 0.1,\n",
    " 'adv_steps': None,\n",
    " 'n_hidden_adv': 128,\n",
    " 'n_layers_adv': 3,\n",
    " 'use_batch_norm_adv': False,\n",
    " 'use_layer_norm_adv': False,\n",
    " 'dropout_rate_adv': 0.2,\n",
    " 'reg_adv': 10.0,\n",
    " 'pen_adv': 0.1,\n",
    " 'lr': 0.0003,\n",
    " 'wd': 4e-07,\n",
    " 'adv_lr': 0.0003,\n",
    " 'adv_wd': 4e-07,\n",
    " 'adv_loss': 'cce',\n",
    " 'doser_lr': 0.0003,\n",
    " 'doser_wd': 4e-07,\n",
    " 'do_clip_grad': False,\n",
    " 'gradient_clip_value': 1.0,\n",
    " 'step_size_lr': 10}"
   ]
  },
  {
   "cell_type": "code",
   "execution_count": 14,
   "id": "c84f5678-b3a4-4821-8bc0-ad9aa4765509",
   "metadata": {},
   "outputs": [
    {
     "name": "stdout",
     "output_type": "stream",
     "text": [
      "(18, 2048)\n"
     ]
    },
    {
     "name": "stderr",
     "output_type": "stream",
     "text": [
      "[rank: 0] Global seed set to 6478\n"
     ]
    }
   ],
   "source": [
    "model = cpa.CPA(adata=adata_combined,\n",
    "                split_key='split_1ct_MEC',\n",
    "                train_split='train_train',\n",
    "                valid_split='train_valid',\n",
    "                test_split='ood',\n",
    "                use_rdkit_embeddings=True,\n",
    "                **ae_hparams,\n",
    "               )"
   ]
  },
  {
   "cell_type": "code",
   "execution_count": null,
   "id": "5b1637da-13c9-46c4-920e-511de77e5be3",
   "metadata": {},
   "outputs": [
    {
     "name": "stderr",
     "output_type": "stream",
     "text": [
      "100%|██████████| 32/32 [00:00<00:00, 187.63it/s]\n",
      "GPU available: True (cuda), used: True\n",
      "TPU available: False, using: 0 TPU cores\n",
      "IPU available: False, using: 0 IPUs\n",
      "HPU available: False, using: 0 HPUs\n",
      "You are using a CUDA device ('NVIDIA A100-PCIE-40GB MIG 3g.20gb') that has Tensor Cores. To properly utilize them, you should set `torch.set_float32_matmul_precision('medium' | 'high')` which will trade-off precision for performance. For more details, read https://pytorch.org/docs/stable/generated/torch.set_float32_matmul_precision.html#torch.set_float32_matmul_precision\n",
      "LOCAL_RANK: 0 - CUDA_VISIBLE_DEVICES: [MIG-7294bf77-f0a0-562e-86ad-a0b5c0de66d3]\n"
     ]
    },
    {
     "name": "stdout",
     "output_type": "stream",
     "text": [
      "Epoch 5/200:   2%|▏         | 4/200 [00:34<21:19,  6.53s/it, v_num=1, recon=-2.28e+3, r2_mean=0.902, adv_loss=2.35, acc_pert=0.172]"
     ]
    },
    {
     "name": "stderr",
     "output_type": "stream",
     "text": [
      "\n",
      "Epoch 00004: cpa_metric reached. Module best state updated.\n"
     ]
    },
    {
     "name": "stdout",
     "output_type": "stream",
     "text": [
      "Epoch 10/200:   4%|▍         | 9/200 [00:57<13:43,  4.31s/it, v_num=1, recon=-2.81e+3, r2_mean=0.914, adv_loss=2.33, acc_pert=0.173, val_recon=-2.62e+3, disnt_basal=0.128, disnt_after=0.353, val_r2_mean=0.909, val_KL=nan]\n",
      "disnt_basal = 0.11335215867179602\n",
      "disnt_after = 0.27769839976150396\n",
      "val_r2_mean = 0.9057265769110785\n",
      "val_r2_var = 0.6842642429139878\n",
      "Epoch 20/200:  10%|▉         | 19/200 [01:33<10:52,  3.61s/it, v_num=1, recon=-3.06e+3, r2_mean=0.925, adv_loss=2.36, acc_pert=0.18, val_recon=-2.89e+3, disnt_basal=0.108, disnt_after=0.223, val_r2_mean=0.923, val_KL=nan] \n",
      "disnt_basal = 0.10636477245385204\n",
      "disnt_after = 0.20415755687177384\n",
      "val_r2_mean = 0.9264782484372458\n",
      "val_r2_var = 0.7539246344566345\n",
      "Epoch 30/200:  14%|█▍        | 29/200 [02:09<10:13,  3.59s/it, v_num=1, recon=-3.22e+3, r2_mean=0.928, adv_loss=2.37, acc_pert=0.181, val_recon=-3.05e+3, disnt_basal=0.0973, disnt_after=0.182, val_r2_mean=0.928, val_KL=nan]\n",
      "disnt_basal = 0.09253124434165327\n",
      "disnt_after = 0.17676191381313422\n",
      "val_r2_mean = 0.9291904875967238\n",
      "val_r2_var = 0.7647604290644328\n",
      "Epoch 33/200:  16%|█▌        | 32/200 [02:20<10:10,  3.63s/it, v_num=1, recon=-3.26e+3, r2_mean=0.929, adv_loss=2.37, acc_pert=0.184, val_recon=-3.12e+3, disnt_basal=0.0925, disnt_after=0.177, val_r2_mean=0.929, val_KL=nan]"
     ]
    }
   ],
   "source": [
    "model.train(max_epochs=200,\n",
    "            use_gpu=True,\n",
    "            batch_size=512,\n",
    "            plan_kwargs=trainer_params,\n",
    "            early_stopping_patience=10,\n",
    "            check_val_every_n_epoch=5,\n",
    "            save_path=\"/lustre/groups/ml01/workspace/ot_perturbation/models/chemcpa/combosciplex/1\",\n",
    "           )"
   ]
  },
  {
   "cell_type": "code",
   "execution_count": null,
   "id": "528b8304-522d-4cce-bce4-a94f5631c016",
   "metadata": {},
   "outputs": [],
   "source": [
    "model.predict(adata_combined)"
   ]
  },
  {
   "cell_type": "code",
   "execution_count": null,
   "id": "0f11ceeb-827a-4641-a35f-9838dfa6bae2",
   "metadata": {},
   "outputs": [],
   "source": [
    "adata_combined.write(\n",
    "    \"/lustre/groups/ml01/workspace/ot_perturbation/models/chemcpa/combosciplex/adata_with_predictions_1.h5ad\"\n",
    ")"
   ]
  },
  {
   "cell_type": "code",
   "execution_count": null,
   "id": "9d7e7413-68df-4d3d-bcf9-6aba30b836ef",
   "metadata": {},
   "outputs": [],
   "source": []
  }
 ],
 "metadata": {
  "kernelspec": {
   "display_name": "ot_pert_cpa",
   "language": "python",
   "name": "ot_pert_cpa"
  },
  "language_info": {
   "codemirror_mode": {
    "name": "ipython",
    "version": 3
   },
   "file_extension": ".py",
   "mimetype": "text/x-python",
   "name": "python",
   "nbconvert_exporter": "python",
   "pygments_lexer": "ipython3",
   "version": "3.9.19"
  }
 },
 "nbformat": 4,
 "nbformat_minor": 5
}
