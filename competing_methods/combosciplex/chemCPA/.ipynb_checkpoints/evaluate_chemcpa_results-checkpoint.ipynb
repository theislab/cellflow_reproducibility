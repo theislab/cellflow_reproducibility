{
 "cells": [
  {
   "cell_type": "code",
   "execution_count": 1,
   "id": "1395d093-8d3e-48c0-8ffb-7e864854f3a5",
   "metadata": {},
   "outputs": [],
   "source": [
    "import functools\n",
    "\n",
    "import jax\n",
    "import numpy as np\n",
    "import scanpy as sc\n",
    "\n",
    "from ot_pert.metrics import compute_mean_metrics, compute_metrics"
   ]
  },
  {
   "cell_type": "code",
   "execution_count": 2,
   "id": "07027cac-18fd-4ef8-b54e-09315f9ae6eb",
   "metadata": {},
   "outputs": [
    {
     "name": "stderr",
     "output_type": "stream",
     "text": [
      "/home/icb/dominik.klein/mambaforge/envs/ot_pert_genot/lib/python3.12/site-packages/anndata/__init__.py:51: FutureWarning: `anndata.read` is deprecated, use `anndata.read_h5ad` instead. `ad.read` will be removed in mid 2024.\n",
      "  warnings.warn(\n",
      "/home/icb/dominik.klein/mambaforge/envs/ot_pert_genot/lib/python3.12/site-packages/anndata/_core/anndata.py:1906: UserWarning: Observation names are not unique. To make them unique, call `.obs_names_make_unique`.\n",
      "  utils.warn_names_duplicates(\"obs\")\n"
     ]
    }
   ],
   "source": [
    "adata = sc.read(\"/lustre/groups/ml01/workspace/ot_perturbation/models/cpa/combosciplex/adata_with_predictions_30.h5ad\")"
   ]
  },
  {
   "cell_type": "code",
   "execution_count": 3,
   "id": "091f2f81-d713-4a2a-a003-37c5db5d3bc7",
   "metadata": {},
   "outputs": [
    {
     "name": "stderr",
     "output_type": "stream",
     "text": [
      "/home/icb/dominik.klein/mambaforge/envs/ot_pert_genot/lib/python3.12/site-packages/anndata/__init__.py:51: FutureWarning: `anndata.read` is deprecated, use `anndata.read_h5ad` instead. `ad.read` will be removed in mid 2024.\n",
      "  warnings.warn(\n"
     ]
    }
   ],
   "source": [
    "adata_train_orig = sc.read(\"/lustre/groups/ml01/workspace/ot_perturbation/data/combosciplex/adata_train_30.h5ad\")"
   ]
  },
  {
   "cell_type": "code",
   "execution_count": 4,
   "id": "62ff35e2-4789-4924-8364-880993f60734",
   "metadata": {},
   "outputs": [
    {
     "data": {
      "text/plain": [
       "dict_keys(['Drug1_colors', 'Drug2_colors', 'Well_colors', 'condition_colors', 'dendrogram_leiden', 'hvg', 'leiden', 'leiden_colors', 'log1p', 'neighbors', 'pathway1_colors', 'pathway2_colors', 'pathway_colors', 'pca', 'rank_genes_groups', 'rank_genes_groups_cov_all', 'split_colors', 'umap'])"
      ]
     },
     "execution_count": 4,
     "metadata": {},
     "output_type": "execute_result"
    }
   ],
   "source": [
    "adata_train_orig.uns.keys()"
   ]
  },
  {
   "cell_type": "code",
   "execution_count": 5,
   "id": "39531565-3986-4a83-8fab-2ebd7392a732",
   "metadata": {},
   "outputs": [],
   "source": [
    "preds = adata.obsm[\"CPA_pred\"]"
   ]
  },
  {
   "cell_type": "code",
   "execution_count": 6,
   "id": "9100129f-f66a-47ae-b717-d273f19fd799",
   "metadata": {},
   "outputs": [],
   "source": [
    "def reconstruct_data(embedding: np.ndarray, projection_matrix: np.ndarray, mean_to_add: np.ndarray) -> np.ndarray:\n",
    "    return np.matmul(embedding, projection_matrix.T) + mean_to_add\n",
    "\n",
    "\n",
    "def project_data(data: np.ndarray, projection_matrix: np.ndarray, mean_to_subtract: np.ndarray) -> np.ndarray:\n",
    "    return np.matmul(data - mean_to_subtract, projection_matrix)"
   ]
  },
  {
   "cell_type": "code",
   "execution_count": 7,
   "id": "07b45430-1543-4df6-b89f-86c1a573575c",
   "metadata": {},
   "outputs": [],
   "source": [
    "OBSM_KEY_DATA_EMBEDDING = \"X_pca\""
   ]
  },
  {
   "cell_type": "code",
   "execution_count": 8,
   "id": "a3177da2-de98-43f4-9f09-8ebc0bd45640",
   "metadata": {},
   "outputs": [],
   "source": [
    "adata_train = adata[adata.obs[\"split\"] == \"train\"]\n",
    "adata_test = adata[adata.obs[\"split\"] == \"test\"]\n",
    "adata_ood = adata[adata.obs[\"split\"] == \"ood\"]"
   ]
  },
  {
   "cell_type": "code",
   "execution_count": 34,
   "id": "5aa86b58-f5fb-4cdc-a0f0-915c26602627",
   "metadata": {},
   "outputs": [
    {
     "data": {
      "text/plain": [
       "(8896, 2000)"
      ]
     },
     "execution_count": 34,
     "metadata": {},
     "output_type": "execute_result"
    }
   ],
   "source": [
    "adata_ood.obsm[\"CPA_pred\"].shape"
   ]
  },
  {
   "cell_type": "code",
   "execution_count": 9,
   "id": "c62be8fc-de0c-4bd4-9f0c-b2666450142c",
   "metadata": {},
   "outputs": [],
   "source": [
    "project_data_fn = functools.partial(\n",
    "    project_data,\n",
    "    projection_matrix=adata_train_orig.varm[\"PCs\"],\n",
    "    mean_to_subtract=adata_train_orig.varm[\"X_train_mean\"].T,\n",
    ")"
   ]
  },
  {
   "cell_type": "code",
   "execution_count": 10,
   "id": "c2541151-a591-4df2-ada0-948a6cb268fc",
   "metadata": {
    "scrolled": true
   },
   "outputs": [],
   "source": [
    "test_data_target_encoded = {}\n",
    "test_data_target_decoded = {}\n",
    "test_data_target_encoded_predicted = {}\n",
    "test_data_target_decoded_predicted = {}\n",
    "for cond in adata_test.obs[\"condition\"].cat.categories:\n",
    "    if cond == \"control\":\n",
    "        continue\n",
    "    test_data_target_encoded[cond] = adata_test[adata_test.obs[\"condition\"] == cond].obsm[OBSM_KEY_DATA_EMBEDDING]\n",
    "    test_data_target_decoded[cond] = adata_test[adata_test.obs[\"condition\"] == cond].X.A\n",
    "    #pred_cpa = np.log1p(adata_test[adata_test.obs[\"condition\"] == cond].obsm[\"CPA_pred\"])\n",
    "    pred_cpa = adata_test[adata_test.obs[\"condition\"] == cond].obsm[\"CPA_pred\"]\n",
    "    test_data_target_decoded_predicted[cond] = pred_cpa\n",
    "    test_data_target_encoded_predicted[cond] = project_data_fn(pred_cpa)\n",
    "\n",
    "\n",
    "ood_data_target_encoded = {}\n",
    "ood_data_target_decoded = {}\n",
    "ood_data_target_encoded_predicted = {}\n",
    "ood_data_target_decoded_predicted = {}\n",
    "for cond in adata_ood.obs[\"condition\"].cat.categories:\n",
    "    if cond == \"control\":\n",
    "        continue\n",
    "    ood_data_target_encoded[cond] = adata_ood[adata_ood.obs[\"condition\"] == cond].obsm[OBSM_KEY_DATA_EMBEDDING]\n",
    "    ood_data_target_decoded[cond] = adata_ood[adata_ood.obs[\"condition\"] == cond].X.A\n",
    "    #pred_cpa = np.log1p(adata_ood[adata_ood.obs[\"condition\"] == cond].obsm[\"CPA_pred\"])\n",
    "    pred_cpa = adata_ood[adata_ood.obs[\"condition\"] == cond].obsm[\"CPA_pred\"]\n",
    "    ood_data_target_decoded_predicted[cond] = pred_cpa\n",
    "    ood_data_target_encoded_predicted[cond] = project_data_fn(pred_cpa)"
   ]
  },
  {
   "cell_type": "code",
   "execution_count": 11,
   "id": "c9e8562b-66d1-4151-8824-a4944b4e2e85",
   "metadata": {},
   "outputs": [],
   "source": [
    "#train_deg_dict = {\n",
    "#    k: v\n",
    "#    for k, v in adata_train_orig.uns[\"rank_genes_groups_cov_all\"].items()\n",
    "#    if k in train_data_target_decoded_predicted.keys()\n",
    "#}\n",
    "test_deg_dict = {\n",
    "    k: v\n",
    "    for k, v in adata_train_orig.uns[\"rank_genes_groups_cov_all\"].items()\n",
    "    if k in test_data_target_decoded_predicted.keys()\n",
    "}\n",
    "ood_deg_dict = {\n",
    "    k: v\n",
    "    for k, v in adata_train_orig.uns[\"rank_genes_groups_cov_all\"].items()\n",
    "    if k in ood_data_target_decoded_predicted.keys()\n",
    "}"
   ]
  },
  {
   "cell_type": "code",
   "execution_count": 12,
   "id": "e1fc5bf1-9976-4071-a7ac-605b1494a351",
   "metadata": {},
   "outputs": [],
   "source": [
    "def get_mask(x, y):\n",
    "    return x[:, [gene in y for gene in adata_train.var_names]]\n",
    "\n",
    "\n",
    "ood_deg_target_decoded_predicted = jax.tree_util.tree_map(get_mask, ood_data_target_decoded_predicted, ood_deg_dict)\n",
    "ood_deg_target_decoded = jax.tree_util.tree_map(get_mask, ood_data_target_decoded, ood_deg_dict)\n",
    "\n",
    "test_deg_target_decoded_predicted = jax.tree_util.tree_map(get_mask, test_data_target_decoded_predicted, test_deg_dict)\n",
    "test_deg_target_decoded = jax.tree_util.tree_map(get_mask, test_data_target_decoded, test_deg_dict)\n",
    "\n",
    "#train_deg_target_decoded_predicted = jax.tree_util.tree_map(\n",
    "#    get_mask, train_data_target_decoded_predicted, train_deg_dict\n",
    "#)\n",
    "#train_deg_target_decoded = jax.tree_util.tree_map(get_mask, train_data_target_decoded, test_deg_dict)"
   ]
  },
  {
   "cell_type": "code",
   "execution_count": 13,
   "id": "e8d7ff42-9dbb-4635-9e68-ac3306d27af8",
   "metadata": {},
   "outputs": [
    {
     "name": "stderr",
     "output_type": "stream",
     "text": [
      "2024-06-12 14:25:41.515992: W external/xla/xla/service/gpu/nvptx_compiler.cc:718] The NVIDIA driver's CUDA version is 12.3 which is older than the ptxas CUDA version (12.4.131). Because the driver is older than the ptxas version, XLA is disabling parallel compilation, which may slow down compilation. You should update your NVIDIA driver or use the NVIDIA-provided CUDA forward compatibility packages.\n"
     ]
    }
   ],
   "source": [
    "deg_ood_metrics = jax.tree_util.tree_map(compute_metrics, ood_deg_target_decoded, ood_deg_target_decoded_predicted)\n",
    "deg_mean_ood_metrics = compute_mean_metrics(deg_ood_metrics, prefix=\"deg_ood_\")\n",
    "\n",
    "deg_test_metrics = jax.tree_util.tree_map(compute_metrics, test_deg_target_decoded, test_deg_target_decoded_predicted)\n",
    "deg_mean_test_metrics = compute_mean_metrics(deg_test_metrics, prefix=\"deg_test_\")\n",
    "\n",
    "#deg_train_metrics = jax.tree_util.tree_map(\n",
    "#    compute_metrics, train_deg_target_decoded, train_deg_target_decoded_predicted\n",
    "#)\n",
    "#deg_mean_train_metrics = compute_mean_metrics(deg_train_metrics, prefix=\"deg_train_\")"
   ]
  },
  {
   "cell_type": "code",
   "execution_count": 14,
   "id": "90542ffc-857a-48d1-b38f-a18ef54e3969",
   "metadata": {},
   "outputs": [],
   "source": [
    "#train_metrics_encoded = jax.tree_util.tree_map(\n",
    "#    compute_metrics, train_data_target_encoded, train_data_target_encoded_predicted\n",
    "#)\n",
    "#mean_train_metrics_encoded = compute_mean_metrics(train_metrics_encoded, prefix=\"encoded_train_\")\n",
    "\n",
    "#train_metrics_decoded = jax.tree_util.tree_map(\n",
    "#    compute_metrics, train_data_target_decoded, train_data_target_decoded_predicted\n",
    "#)\n",
    "#mean_train_metrics_decoded = compute_mean_metrics(train_metrics_decoded, prefix=\"decoded_train_\")"
   ]
  },
  {
   "cell_type": "code",
   "execution_count": 15,
   "id": "9e337bf1-f165-4d62-a79f-4327be259a6c",
   "metadata": {},
   "outputs": [],
   "source": [
    "test_metrics_encoded = jax.tree_util.tree_map(\n",
    "    compute_metrics, test_data_target_encoded, test_data_target_encoded_predicted\n",
    ")\n",
    "mean_test_metrics_encoded = compute_mean_metrics(test_metrics_encoded, prefix=\"encoded_test_\")\n",
    "\n",
    "test_metrics_decoded = jax.tree_util.tree_map(\n",
    "    compute_metrics, test_data_target_decoded, test_data_target_decoded_predicted\n",
    ")\n",
    "mean_test_metrics_decoded = compute_mean_metrics(test_metrics_decoded, prefix=\"decoded_test_\")"
   ]
  },
  {
   "cell_type": "code",
   "execution_count": 16,
   "id": "cbdff236-b23d-4db5-b28f-a072c3ccaecf",
   "metadata": {},
   "outputs": [],
   "source": [
    "ood_metrics_encoded = jax.tree_util.tree_map(\n",
    "    compute_metrics, ood_data_target_encoded, ood_data_target_encoded_predicted\n",
    ")\n",
    "mean_ood_metrics_encoded = compute_mean_metrics(ood_metrics_encoded, prefix=\"encoded_ood_\")\n",
    "\n",
    "ood_metrics_decoded = jax.tree_util.tree_map(\n",
    "    compute_metrics, ood_data_target_decoded, ood_data_target_decoded_predicted\n",
    ")\n",
    "mean_ood_metrics_decoded = compute_mean_metrics(ood_metrics_decoded, prefix=\"decoded_ood_\")"
   ]
  },
  {
   "cell_type": "code",
   "execution_count": 31,
   "id": "4ed6d545-6b19-4d72-887c-f5618d87d47d",
   "metadata": {},
   "outputs": [
    {
     "data": {
      "text/plain": [
       "{'deg_ood_r_squared': 0.9872430804894268,\n",
       " 'deg_ood_sinkhorn_div_1': 7.037229919433594,\n",
       " 'deg_ood_sinkhorn_div_10': 0.6543787002563477,\n",
       " 'deg_ood_sinkhorn_div_100': 0.3940093994140625,\n",
       " 'deg_ood_e_distance': 0.7407081846023654,\n",
       " 'deg_ood_mmd': 0.0387533120578278}"
      ]
     },
     "execution_count": 31,
     "metadata": {},
     "output_type": "execute_result"
    }
   ],
   "source": [
    "deg_mean_ood_metrics"
   ]
  },
  {
   "cell_type": "code",
   "execution_count": 30,
   "id": "ee62783f-7f1d-4a1e-8c74-eeaa935881a0",
   "metadata": {},
   "outputs": [
    {
     "data": {
      "text/plain": [
       "{'decoded_test_r_squared': 0.9853105254315253,\n",
       " 'decoded_test_sinkhorn_div_1': 66.54055052537184,\n",
       " 'decoded_test_sinkhorn_div_10': 58.13018461374136,\n",
       " 'decoded_test_sinkhorn_div_100': 3.5279499934269833,\n",
       " 'decoded_test_e_distance': 2.722869702633784,\n",
       " 'decoded_test_mmd': 0.05070492795617576}"
      ]
     },
     "execution_count": 30,
     "metadata": {},
     "output_type": "execute_result"
    }
   ],
   "source": [
    "mean_test_metrics_decoded"
   ]
  },
  {
   "cell_type": "code",
   "execution_count": 18,
   "id": "014cbe29-83e0-4a37-aa82-29804107152a",
   "metadata": {},
   "outputs": [
    {
     "data": {
      "text/plain": [
       "{'encoded_test_r_squared': 0.9794843204585646,\n",
       " 'encoded_test_sinkhorn_div_1': 6.184543481239905,\n",
       " 'encoded_test_sinkhorn_div_10': 1.1111172162569487,\n",
       " 'encoded_test_sinkhorn_div_100': 0.30028064434344953,\n",
       " 'encoded_test_e_distance': 0.5264656444105866,\n",
       " 'encoded_test_mmd': 0.021259765562826383}"
      ]
     },
     "execution_count": 18,
     "metadata": {},
     "output_type": "execute_result"
    }
   ],
   "source": [
    "mean_test_metrics_encoded"
   ]
  },
  {
   "cell_type": "code",
   "execution_count": 19,
   "id": "c671a0fc-6743-46c4-9ce2-cff5bf900e46",
   "metadata": {},
   "outputs": [
    {
     "data": {
      "text/plain": [
       "{'Cediranib+PCI-34051': {'r_squared': 0.9670571868604838,\n",
       "  'sinkhorn_div_1': 5.284296035766602,\n",
       "  'sinkhorn_div_10': 0.6397514343261719,\n",
       "  'sinkhorn_div_100': 0.46512794494628906,\n",
       "  'e_distance': 0.900585264605688,\n",
       "  'mmd': 0.009130221615835847},\n",
       " 'Givinostat+SRT1720': {'r_squared': 0.9742046491386951,\n",
       "  'sinkhorn_div_1': 5.229059219360352,\n",
       "  'sinkhorn_div_10': 0.3977165222167969,\n",
       "  'sinkhorn_div_100': 0.2260417938232422,\n",
       "  'e_distance': 0.42198174452832404,\n",
       "  'mmd': 0.007237379008675678},\n",
       " 'Panobinostat+Crizotinib': {'r_squared': 0.9887869542746437,\n",
       "  'sinkhorn_div_1': 4.363508224487305,\n",
       "  'sinkhorn_div_10': 0.5683212280273438,\n",
       "  'sinkhorn_div_100': 0.3817615509033203,\n",
       "  'e_distance': 0.7275057020834055,\n",
       "  'mmd': 0.011857479357851378},\n",
       " 'Panobinostat+PCI-34051': {'r_squared': 0.9895649534603667,\n",
       "  'sinkhorn_div_1': 4.524935722351074,\n",
       "  'sinkhorn_div_10': 0.4970741271972656,\n",
       "  'sinkhorn_div_100': 0.28163909912109375,\n",
       "  'e_distance': 0.5249919406934112,\n",
       "  'mmd': 0.011476454900411095},\n",
       " 'SRT2104+Alvespimycin': {'r_squared': 0.9819667487400693,\n",
       "  'sinkhorn_div_1': 6.434934139251709,\n",
       "  'sinkhorn_div_10': 0.5912876129150391,\n",
       "  'sinkhorn_div_100': 0.2602195739746094,\n",
       "  'e_distance': 0.4700357482291757,\n",
       "  'mmd': 0.013908521659776843}}"
      ]
     },
     "execution_count": 19,
     "metadata": {},
     "output_type": "execute_result"
    }
   ],
   "source": [
    "ood_metrics_encoded"
   ]
  },
  {
   "cell_type": "code",
   "execution_count": 20,
   "id": "d77be969-7f6b-4955-9f1f-12d5d5f3daab",
   "metadata": {},
   "outputs": [],
   "source": [
    "pred = ood_data_target_encoded_predicted[\"SRT2104+Alvespimycin\"]"
   ]
  },
  {
   "cell_type": "code",
   "execution_count": 21,
   "id": "704ea084-86e2-4580-9592-36604e797e94",
   "metadata": {},
   "outputs": [],
   "source": [
    "true = ood_data_target_encoded[\"SRT2104+Alvespimycin\"]"
   ]
  },
  {
   "cell_type": "code",
   "execution_count": 22,
   "id": "fd6e570e-4ac5-4171-b943-74005a9806b1",
   "metadata": {},
   "outputs": [],
   "source": [
    "from ott.geometry import costs, pointcloud\n",
    "from ott.tools.sinkhorn_divergence import sinkhorn_divergence\n",
    "from sklearn.metrics import r2_score\n",
    "\n",
    "\n",
    "def compute_r_squared(x: np.ndarray, y: np.ndarray) -> float:\n",
    "    return r2_score(np.mean(x, axis=0), np.mean(y, axis=0))\n",
    "\n",
    "\n",
    "def compute_sinkhorn_div(x: np.ndarray, y: np.ndarray, epsilon: float) -> float:\n",
    "    return float(\n",
    "        sinkhorn_divergence(\n",
    "            pointcloud.PointCloud,\n",
    "            x=x,\n",
    "            y=y,\n",
    "            cost_fn=costs.SqEuclidean(),\n",
    "            epsilon=epsilon,\n",
    "            scale_cost=1.0,\n",
    "        ).divergence\n",
    "    )"
   ]
  },
  {
   "cell_type": "code",
   "execution_count": 23,
   "id": "9f88bc79-ef48-4d60-9fab-cfd204bebe87",
   "metadata": {},
   "outputs": [
    {
     "data": {
      "text/plain": [
       "0.9839576060714508"
      ]
     },
     "execution_count": 23,
     "metadata": {},
     "output_type": "execute_result"
    }
   ],
   "source": [
    "compute_r_squared(pred, true)"
   ]
  },
  {
   "cell_type": "code",
   "execution_count": 24,
   "id": "6820104b-ae70-4972-8ee0-c3e5989534d4",
   "metadata": {},
   "outputs": [
    {
     "data": {
      "text/plain": [
       "0.9819667487400693"
      ]
     },
     "execution_count": 24,
     "metadata": {},
     "output_type": "execute_result"
    }
   ],
   "source": [
    "compute_r_squared(true, pred)"
   ]
  },
  {
   "cell_type": "code",
   "execution_count": 25,
   "id": "8f8d20d9-c82a-4e7d-aed5-35b478dfd02d",
   "metadata": {},
   "outputs": [
    {
     "data": {
      "text/plain": [
       "7.195723056793213"
      ]
     },
     "execution_count": 25,
     "metadata": {},
     "output_type": "execute_result"
    }
   ],
   "source": [
    "compute_sinkhorn_div(true, pred, 0.1)"
   ]
  },
  {
   "cell_type": "code",
   "execution_count": 26,
   "id": "5a903817-d7ac-4c2d-a724-0a16bc2c06a0",
   "metadata": {},
   "outputs": [
    {
     "data": {
      "text/plain": [
       "Array(23.623562, dtype=float32)"
      ]
     },
     "execution_count": 26,
     "metadata": {},
     "output_type": "execute_result"
    }
   ],
   "source": [
    "pointcloud.PointCloud(x=true, y=pred, cost_fn=costs.SqEuclidean()).cost_matrix.mean()"
   ]
  },
  {
   "cell_type": "code",
   "execution_count": null,
   "id": "dc2f0f26-8e44-4176-a41c-923ff02d3f50",
   "metadata": {},
   "outputs": [],
   "source": []
  },
  {
   "cell_type": "code",
   "execution_count": 27,
   "id": "294abff9-e6e2-4087-b398-eff782f95d5e",
   "metadata": {},
   "outputs": [
    {
     "data": {
      "text/plain": [
       "6.434935092926025"
      ]
     },
     "execution_count": 27,
     "metadata": {},
     "output_type": "execute_result"
    }
   ],
   "source": [
    "compute_sinkhorn_div(pred, true, 1)"
   ]
  },
  {
   "cell_type": "code",
   "execution_count": 28,
   "id": "6eaecbef-3e5f-42a3-b4e1-f3be6e38a6f7",
   "metadata": {},
   "outputs": [
    {
     "ename": "NameError",
     "evalue": "name 'deg_mean_ood_metrics_encoded' is not defined",
     "output_type": "error",
     "traceback": [
      "\u001b[0;31m---------------------------------------------------------------------------\u001b[0m",
      "\u001b[0;31mNameError\u001b[0m                                 Traceback (most recent call last)",
      "Cell \u001b[0;32mIn[28], line 1\u001b[0m\n\u001b[0;32m----> 1\u001b[0m deg_mean_ood_metrics_encoded\n",
      "\u001b[0;31mNameError\u001b[0m: name 'deg_mean_ood_metrics_encoded' is not defined"
     ]
    }
   ],
   "source": [
    "deg_mean_ood_metrics_encoded"
   ]
  },
  {
   "cell_type": "code",
   "execution_count": null,
   "id": "c38053a3-dcf0-413d-9fd4-942611a2bd04",
   "metadata": {},
   "outputs": [],
   "source": [
    "mean_train_metrics_encoded"
   ]
  },
  {
   "cell_type": "code",
   "execution_count": null,
   "id": "a038595d-7a7c-40e4-8fd9-84a5d01e00e7",
   "metadata": {},
   "outputs": [],
   "source": [
    "mean_test_metrics_encoded"
   ]
  },
  {
   "cell_type": "code",
   "execution_count": null,
   "id": "ca9686a4-0a90-4a05-8e3b-f5629bd5a902",
   "metadata": {},
   "outputs": [],
   "source": [
    "mean_ood_metrics_encoded"
   ]
  },
  {
   "cell_type": "code",
   "execution_count": null,
   "id": "a2f6439e-0181-44c0-b3ef-e0977fccd9ef",
   "metadata": {},
   "outputs": [],
   "source": [
    "deg_mean_ood_metrics_encoded"
   ]
  },
  {
   "cell_type": "code",
   "execution_count": null,
   "id": "74f2b426-0957-4627-8765-bc085ff10b08",
   "metadata": {},
   "outputs": [],
   "source": [
    "mean_ood_metrics_decoded"
   ]
  },
  {
   "cell_type": "code",
   "execution_count": null,
   "id": "ad5e53e5-ff5f-4df7-9e94-5f4414cebb9f",
   "metadata": {},
   "outputs": [],
   "source": [
    "output_dir = \"/lustre/groups/ml01/workspace/ot_perturbation/data/combosciplex/results/cpa\""
   ]
  },
  {
   "cell_type": "code",
   "execution_count": null,
   "id": "899fc8be-e234-478e-86fc-3874dddf50c8",
   "metadata": {},
   "outputs": [],
   "source": [
    "import os\n",
    "\n",
    "pd.DataFrame.from_dict(ood_metrics_encoded).to_csv(os.path.join(output_dir, \"ood_metrics_encoded.csv\"))\n",
    "pd.DataFrame.from_dict(ood_metrics_decoded).to_csv(os.path.join(output_dir, \"ood_metrics_decoded.csv\"))\n",
    "pd.DataFrame.from_dict(test_metrics_encoded).to_csv(os.path.join(output_dir, \"test_metrics_encoded.csv\"))\n",
    "pd.DataFrame.from_dict(test_metrics_decoded).to_csv(os.path.join(output_dir, \"test_metrics_decoded.csv\"))\n",
    "pd.DataFrame.from_dict(train_metrics_encoded).to_csv(os.path.join(output_dir, \"train_metrics_encoded.csv\"))\n",
    "pd.DataFrame.from_dict(train_metrics_decoded).to_csv(os.path.join(output_dir, \"train_metrics_decoded.csv\"))"
   ]
  },
  {
   "cell_type": "code",
   "execution_count": null,
   "id": "a51e79fc-51bd-4edf-9363-1178376b5bac",
   "metadata": {},
   "outputs": [],
   "source": [
    "mean_ood_metrics_encoded"
   ]
  },
  {
   "cell_type": "code",
   "execution_count": null,
   "id": "55f469d9-7d37-4eae-8dae-a380f585025d",
   "metadata": {},
   "outputs": [],
   "source": [
    "mean_ood_metrics_decoded"
   ]
  },
  {
   "cell_type": "code",
   "execution_count": null,
   "id": "fee9332e-a89f-4b8e-9c38-92224187a8e4",
   "metadata": {},
   "outputs": [],
   "source": [
    "adata[adata.obs[\"split\"] == \"ood\"].obs[\"condition\"].value_counts()"
   ]
  },
  {
   "cell_type": "code",
   "execution_count": null,
   "id": "6a4a24ce-644f-40df-9c8c-82a5661e722e",
   "metadata": {},
   "outputs": [],
   "source": [
    "adata_train.obs[\"split\"].value_counts()"
   ]
  },
  {
   "cell_type": "code",
   "execution_count": null,
   "id": "af46713d-4d73-42e0-8760-af2e7427c410",
   "metadata": {},
   "outputs": [],
   "source": [
    "adata_test.obs[\"split\"].value_counts()"
   ]
  },
  {
   "cell_type": "code",
   "execution_count": null,
   "id": "78f26dc1-8091-496b-ac49-45bf4e48e8f0",
   "metadata": {},
   "outputs": [],
   "source": [
    "adata_ood.obs[\"split\"].value_counts()"
   ]
  },
  {
   "cell_type": "code",
   "execution_count": null,
   "id": "a2210781-a7bc-4608-bc8c-99ae0c7e341e",
   "metadata": {},
   "outputs": [],
   "source": []
  }
 ],
 "metadata": {
  "kernelspec": {
   "display_name": "ot_pert_genot",
   "language": "python",
   "name": "ot_pert_genot"
  },
  "language_info": {
   "codemirror_mode": {
    "name": "ipython",
    "version": 3
   },
   "file_extension": ".py",
   "mimetype": "text/x-python",
   "name": "python",
   "nbconvert_exporter": "python",
   "pygments_lexer": "ipython3",
   "version": "3.12.2"
  }
 },
 "nbformat": 4,
 "nbformat_minor": 5
}
