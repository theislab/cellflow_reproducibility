{
 "cells": [
  {
   "cell_type": "code",
   "execution_count": 1,
   "id": "4bbc5965-37b5-415a-8f75-3c042ca2fd20",
   "metadata": {},
   "outputs": [
    {
     "name": "stderr",
     "output_type": "stream",
     "text": [
      "[rank: 0] Global seed set to 0\n",
      "2024-06-12 08:54:14,660\tINFO util.py:154 -- Missing packages: ['ipywidgets']. Run `pip install -U ipywidgets`, then restart the notebook server for rich notebook output.\n",
      "2024-06-12 08:54:22,368\tINFO util.py:154 -- Missing packages: ['ipywidgets']. Run `pip install -U ipywidgets`, then restart the notebook server for rich notebook output.\n"
     ]
    }
   ],
   "source": [
    "import cpa\n",
    "import scanpy as sc"
   ]
  },
  {
   "cell_type": "code",
   "execution_count": 2,
   "id": "1cfb5c56-361d-4403-9324-f35c8629e83b",
   "metadata": {},
   "outputs": [],
   "source": [
    "adata_train_path = \"/lustre/groups/ml01/workspace/ot_perturbation/data/combosciplex/adata_train_30.h5ad\"\n",
    "adata_test_path = \"/lustre/groups/ml01/workspace/ot_perturbation/data/combosciplex/adata_test_30.h5ad\"\n",
    "adata_ood_path = \"/lustre/groups/ml01/workspace/ot_perturbation/data/combosciplex/adata_ood_30.h5ad\""
   ]
  },
  {
   "cell_type": "code",
   "execution_count": 3,
   "id": "b4a7e157-bb65-4bc7-b14b-00f9f6ba475a",
   "metadata": {},
   "outputs": [],
   "source": [
    "adata_train = sc.read(adata_train_path)\n",
    "adata_test = sc.read(adata_test_path)\n",
    "adata_ood = sc.read(adata_ood_path)"
   ]
  },
  {
   "cell_type": "code",
   "execution_count": 4,
   "id": "ecf8697d-7b1c-4352-89ff-09e03060fe31",
   "metadata": {},
   "outputs": [],
   "source": [
    "import anndata\n",
    "\n",
    "adata_combined = anndata.concat((adata_train, adata_test, adata_ood), label=\"split\", keys=[\"train\", \"test\", \"ood\"])"
   ]
  },
  {
   "cell_type": "code",
   "execution_count": 5,
   "id": "5545607a-7867-4171-a9b9-1b9249843e07",
   "metadata": {},
   "outputs": [
    {
     "name": "stderr",
     "output_type": "stream",
     "text": [
      "Downloading...\n",
      "From (original): https://drive.google.com/uc?export=download&id=1RRV0_qYKGTvD3oCklKfoZQFYqKJy4l6t\n",
      "From (redirected): https://drive.google.com/uc?export=download&id=1RRV0_qYKGTvD3oCklKfoZQFYqKJy4l6t&confirm=t&uuid=2fc9bed4-45b4-44f7-8b36-2b4f16bde1dc\n",
      "To: /ictstr01/home/icb/dominik.klein/git_repos/ot_pert_new/competing_methods/combosciplex/chemCPA/combo_sciplex_prep_hvg_filtered.h5ad\n",
      "100%|████████████████████████████████████████████████████████████████████████████████████████████████████████████████████████████| 490M/490M [00:06<00:00, 74.3MB/s]\n"
     ]
    },
    {
     "data": {
      "text/plain": [
       "AnnData object with n_obs × n_vars = 63378 × 5000\n",
       "    obs: 'ncounts', 'well', 'plate', 'cell_line', 'replicate', 'time', 'dose_value', 'pathway1', 'pathway2', 'perturbation', 'target', 'pathway', 'dose_unit', 'celltype', 'disease', 'tissue_type', 'organism', 'perturbation_type', 'ngenes', 'percent_mito', 'percent_ribo', 'nperts', 'chembl-ID', 'condition', 'condition_ID', 'control', 'cell_type', 'smiles_rdkit', 'source', 'sample', 'Size_Factor', 'n.umi', 'RT_well', 'Drug1', 'Drug2', 'Well', 'n_genes', 'n_genes_by_counts', 'total_counts', 'total_counts_mt', 'pct_counts_mt', 'leiden', 'split', 'condition_old', 'pert_type', 'batch', 'split_1ct_MEC', 'split_2ct_MEC', 'split_3ct_MEC', 'batch_cov', 'batch_cov_cond', 'log_dose', 'cov_drug_dose'\n",
       "    var: 'ensembl_id-0', 'ncounts-0', 'ncells-0', 'symbol-0', 'symbol-1', 'id-1', 'n_cells-1', 'mt-1', 'n_cells_by_counts-1', 'mean_counts-1', 'pct_dropout_by_counts-1', 'total_counts-1', 'highly_variable-1', 'means-1', 'dispersions-1', 'dispersions_norm-1', 'highly_variable', 'means', 'dispersions', 'dispersions_norm', 'highly_variable_nbatches', 'highly_variable_intersection'\n",
       "    uns: 'cell_type_colors', 'hvg', 'neighbors', 'pathway1_colors', 'pca', 'rank_genes_groups_cov', 'rank_genes_groups_cov_detailed', 'source_colors', 'umap'\n",
       "    obsm: 'X_pca', 'X_umap'\n",
       "    varm: 'PCs'\n",
       "    layers: 'counts'\n",
       "    obsp: 'connectivities', 'distances'"
      ]
     },
     "execution_count": 5,
     "metadata": {},
     "output_type": "execute_result"
    }
   ],
   "source": [
    "try:\n",
    "    adata = sc.read(data_path)\n",
    "except:\n",
    "    import gdown\n",
    "    gdown.download('https://drive.google.com/uc?export=download&id=1RRV0_qYKGTvD3oCklKfoZQFYqKJy4l6t')\n",
    "    data_path = 'combo_sciplex_prep_hvg_filtered.h5ad'\n",
    "    adata = sc.read(data_path)\n",
    "\n",
    "adata"
   ]
  },
  {
   "cell_type": "code",
   "execution_count": 6,
   "id": "5e6c367c-3472-4073-9d22-bcade241c88e",
   "metadata": {},
   "outputs": [],
   "source": [
    "adata.obs[\"index\"] = adata.obs_names.values\n",
    "adata.obs[\"index_adapted\"] = adata.obs.apply(lambda x: x[\"index\"][:-2], axis=1)\n",
    "adata.obs.set_index(\"index_adapted\", inplace=True)"
   ]
  },
  {
   "cell_type": "code",
   "execution_count": 7,
   "id": "7fb1edea-44c1-4d88-aaa2-cb51e50ea26a",
   "metadata": {},
   "outputs": [],
   "source": [
    "adata_combined.obs[\"cov_drug_dose\"] = adata.obs[\"cov_drug_dose\"]\n",
    "adata_combined.obs[\"condition_ID\"] = adata.obs[\"condition_ID\"]\n",
    "adata_combined.obs[\"log_dose\"] = adata.obs[\"log_dose\"]\n",
    "adata_combined.obs[\"smiles_rdkit\"] = adata.obs[\"smiles_rdkit\"]"
   ]
  },
  {
   "cell_type": "code",
   "execution_count": 8,
   "id": "d84952c9-df06-409a-bca9-211f7a9d613a",
   "metadata": {},
   "outputs": [],
   "source": [
    "frac_valid = adata[adata.obs[\"split_1ct_MEC\"] == \"valid\"].n_obs / (\n",
    "    adata[adata.obs[\"split_1ct_MEC\"] == \"valid\"].n_obs + adata[adata.obs[\"split_1ct_MEC\"] == \"train\"].n_obs\n",
    ")"
   ]
  },
  {
   "cell_type": "code",
   "execution_count": 9,
   "id": "78a50d55-575b-4a87-9ddb-85fd048c54a0",
   "metadata": {},
   "outputs": [],
   "source": [
    "import numpy as np\n",
    "\n",
    "\n",
    "def create_split(x):\n",
    "    if x[\"split\"] != \"train\":\n",
    "        return x[\"split\"]\n",
    "    is_train = np.random.choice(2, p=[frac_valid, 1 - frac_valid])\n",
    "    if is_train:\n",
    "        return \"train_train\"\n",
    "    return \"train_valid\"\n",
    "\n",
    "\n",
    "adata_combined.obs[\"split_1ct_MEC\"] = adata_combined.obs.apply(create_split, axis=1)"
   ]
  },
  {
   "cell_type": "code",
   "execution_count": 10,
   "id": "1cf5d571-b524-4773-a8c6-0751c5542416",
   "metadata": {},
   "outputs": [],
   "source": [
    "adata_combined.obs[\"condition_ID\"] = adata_combined.obs[\"condition_ID\"].cat.remove_unused_categories()"
   ]
  },
  {
   "cell_type": "code",
   "execution_count": 11,
   "id": "1572582a-0240-4313-bd94-cdef253ed75d",
   "metadata": {},
   "outputs": [
    {
     "data": {
      "text/plain": [
       "Drug2\n",
       "control    1951\n",
       "Name: count, dtype: int64"
      ]
     },
     "execution_count": 11,
     "metadata": {},
     "output_type": "execute_result"
    }
   ],
   "source": [
    "adata_combined[adata_combined.obs[\"log_dose\"]==\"1.0\"].obs[\"Drug2\"].value_counts()"
   ]
  },
  {
   "cell_type": "code",
   "execution_count": 12,
   "id": "2a631a3a-e2f8-44b5-82a0-fc03e64393ab",
   "metadata": {},
   "outputs": [
    {
     "name": "stderr",
     "output_type": "stream",
     "text": [
      "100%|██████████████████████████████████████████████████████████████████████████████████████████████████████████████████████| 63878/63878 [00:01<00:00, 57869.76it/s]\n",
      "100%|█████████████████████████████████████████████████████████████████████████████████████████████████████████████████████| 63878/63878 [00:00<00:00, 750684.36it/s]\n",
      "An NVIDIA GPU may be present on this machine, but a CUDA-enabled jaxlib is not installed. Falling back to cpu.\n"
     ]
    },
    {
     "name": "stdout",
     "output_type": "stream",
     "text": [
      "\u001b[34mINFO    \u001b[0m Generating sequential column names                                                                        \n",
      "\u001b[34mINFO    \u001b[0m Generating sequential column names                                                                        \n"
     ]
    }
   ],
   "source": [
    "cpa.CPA.setup_anndata(adata_combined,\n",
    "                      perturbation_key='condition_ID',\n",
    "                      dosage_key='log_dose',\n",
    "                      control_group='CHEMBL504',\n",
    "                      batch_key=None,\n",
    "                      smiles_key='smiles_rdkit',\n",
    "                      is_count_data=False,\n",
    "                      categorical_covariate_keys=['cell_type'],\n",
    "                      #deg_uns_key='rank_genes_groups_cov',\n",
    "                      deg_uns_cat_key='cov_drug_dose',\n",
    "                      max_comb_len=2,\n",
    "                     )"
   ]
  },
  {
   "cell_type": "code",
   "execution_count": 13,
   "id": "05c346cd-c37f-4ded-8eef-ccab1866f773",
   "metadata": {},
   "outputs": [],
   "source": [
    "ae_hparams = {'n_latent': 64,\n",
    " 'recon_loss': 'nb',\n",
    " 'doser_type': 'linear',\n",
    " 'n_hidden_encoder': 256,\n",
    " 'n_layers_encoder': 3,\n",
    " 'n_hidden_decoder': 512,\n",
    " 'n_layers_decoder': 2,\n",
    " 'use_batch_norm_encoder': True,\n",
    " 'use_layer_norm_encoder': False,\n",
    " 'use_batch_norm_decoder': True,\n",
    " 'use_layer_norm_decoder': False,\n",
    " 'dropout_rate_encoder': 0.25,\n",
    " 'dropout_rate_decoder': 0.25,\n",
    " 'variational': False,\n",
    " 'seed': 6478}\n",
    "\n",
    "trainer_params = {'n_epochs_kl_warmup': None,\n",
    " 'n_epochs_pretrain_ae': 50,\n",
    " 'n_epochs_adv_warmup': 100,\n",
    " 'n_epochs_mixup_warmup': 10,\n",
    " 'mixup_alpha': 0.1,\n",
    " 'adv_steps': None,\n",
    " 'n_hidden_adv': 128,\n",
    " 'n_layers_adv': 3,\n",
    " 'use_batch_norm_adv': False,\n",
    " 'use_layer_norm_adv': False,\n",
    " 'dropout_rate_adv': 0.2,\n",
    " 'reg_adv': 10.0,\n",
    " 'pen_adv': 0.1,\n",
    " 'lr': 0.0003,\n",
    " 'wd': 4e-07,\n",
    " 'adv_lr': 0.0003,\n",
    " 'adv_wd': 4e-07,\n",
    " 'adv_loss': 'cce',\n",
    " 'doser_lr': 0.0003,\n",
    " 'doser_wd': 4e-07,\n",
    " 'do_clip_grad': False,\n",
    " 'gradient_clip_value': 1.0,\n",
    " 'step_size_lr': 10}"
   ]
  },
  {
   "cell_type": "code",
   "execution_count": 14,
   "id": "c84f5678-b3a4-4821-8bc0-ad9aa4765509",
   "metadata": {},
   "outputs": [
    {
     "name": "stdout",
     "output_type": "stream",
     "text": [
      "(18, 2048)\n"
     ]
    },
    {
     "name": "stderr",
     "output_type": "stream",
     "text": [
      "[rank: 0] Global seed set to 6478\n"
     ]
    }
   ],
   "source": [
    "model = cpa.CPA(adata=adata_combined,\n",
    "                split_key='split_1ct_MEC',\n",
    "                train_split='train_train',\n",
    "                valid_split='train_valid',\n",
    "                test_split='ood',\n",
    "                use_rdkit_embeddings=True,\n",
    "                **ae_hparams,\n",
    "               )"
   ]
  },
  {
   "cell_type": "code",
   "execution_count": 15,
   "id": "7aa54639-827b-4de5-a926-6d029d4ea1e7",
   "metadata": {},
   "outputs": [],
   "source": [
    "adata_combined.obs[\"cell_type\"] = adata_combined.obs[\"cell_line\"]"
   ]
  },
  {
   "cell_type": "code",
   "execution_count": 16,
   "id": "5b1637da-13c9-46c4-920e-511de77e5be3",
   "metadata": {},
   "outputs": [
    {
     "name": "stderr",
     "output_type": "stream",
     "text": [
      "100%|██████████████████████████████████████████████████████████████████████████████████████████████████████████████████████████████| 32/32 [00:00<00:00, 100.09it/s]\n",
      "GPU available: True (cuda), used: True\n",
      "TPU available: False, using: 0 TPU cores\n",
      "IPU available: False, using: 0 IPUs\n",
      "HPU available: False, using: 0 HPUs\n",
      "You are using a CUDA device ('NVIDIA A100-PCIE-40GB MIG 3g.20gb') that has Tensor Cores. To properly utilize them, you should set `torch.set_float32_matmul_precision('medium' | 'high')` which will trade-off precision for performance. For more details, read https://pytorch.org/docs/stable/generated/torch.set_float32_matmul_precision.html#torch.set_float32_matmul_precision\n",
      "LOCAL_RANK: 0 - CUDA_VISIBLE_DEVICES: [MIG-92163b8d-2d3b-5999-bfa6-7aaea52601b1]\n"
     ]
    },
    {
     "name": "stdout",
     "output_type": "stream",
     "text": [
      "Epoch 5/2000:   0%|                                            | 4/2000 [00:31<3:34:56,  6.46s/it, v_num=1, recon=339, r2_mean=0.893, adv_loss=2.22, acc_pert=0.205]"
     ]
    },
    {
     "name": "stderr",
     "output_type": "stream",
     "text": [
      "\n",
      "Epoch 00004: cpa_metric reached. Module best state updated.\n"
     ]
    },
    {
     "name": "stdout",
     "output_type": "stream",
     "text": [
      "Epoch 10/2000:   0%| | 9/2000 [01:00<3:09:46,  5.72s/it, v_num=1, recon=331, r2_mean=0.9, adv_loss=2.04, acc_pert=0.26, val_recon=337, disnt_basal=0.109, disnt_afte"
     ]
    },
    {
     "name": "stderr",
     "output_type": "stream",
     "text": [
      "\n",
      "Epoch 00009: cpa_metric reached. Module best state updated.\n"
     ]
    },
    {
     "name": "stdout",
     "output_type": "stream",
     "text": [
      "\n",
      "disnt_basal = 0.10499251198925195\n",
      "disnt_after = 0.20978599962532457\n",
      "val_r2_mean = 0.8891766107443605\n",
      "val_r2_var = 0.04218178144609085\n",
      "Epoch 15/2000:   1%| | 14/2000 [01:27<2:53:55,  5.25s/it, v_num=1, recon=326, r2_mean=0.902, adv_loss=2.03, acc_pert=0.282, val_recon=329, disnt_basal=0.105, disnt_"
     ]
    },
    {
     "name": "stderr",
     "output_type": "stream",
     "text": [
      "\n",
      "Epoch 00014: cpa_metric reached. Module best state updated.\n"
     ]
    },
    {
     "name": "stdout",
     "output_type": "stream",
     "text": [
      "Epoch 20/2000:   1%| | 19/2000 [01:54<2:55:44,  5.32s/it, v_num=1, recon=322, r2_mean=0.903, adv_loss=2.08, acc_pert=0.281, val_recon=324, disnt_basal=0.0959, disnt"
     ]
    },
    {
     "name": "stderr",
     "output_type": "stream",
     "text": [
      "\n",
      "Epoch 00019: cpa_metric reached. Module best state updated.\n"
     ]
    },
    {
     "name": "stdout",
     "output_type": "stream",
     "text": [
      "\n",
      "disnt_basal = 0.08668113833866091\n",
      "disnt_after = 0.2125192008191113\n",
      "val_r2_mean = 0.8918167691763681\n",
      "val_r2_var = 0.06871624098358856\n",
      "Epoch 25/2000:   1%| | 24/2000 [02:19<2:36:47,  4.76s/it, v_num=1, recon=318, r2_mean=0.904, adv_loss=2.15, acc_pert=0.274, val_recon=320, disnt_basal=0.0867, disnt"
     ]
    },
    {
     "name": "stderr",
     "output_type": "stream",
     "text": [
      "\n",
      "Epoch 00024: cpa_metric reached. Module best state updated.\n"
     ]
    },
    {
     "name": "stdout",
     "output_type": "stream",
     "text": [
      "Epoch 30/2000:   1%| | 29/2000 [02:46<2:49:44,  5.17s/it, v_num=1, recon=315, r2_mean=0.906, adv_loss=2.21, acc_pert=0.267, val_recon=317, disnt_basal=0.0771, disnt"
     ]
    },
    {
     "name": "stderr",
     "output_type": "stream",
     "text": [
      "\n",
      "Epoch 00029: cpa_metric reached. Module best state updated.\n"
     ]
    },
    {
     "name": "stdout",
     "output_type": "stream",
     "text": [
      "\n",
      "disnt_basal = 0.07212674432275266\n",
      "disnt_after = 0.2091031496144473\n",
      "val_r2_mean = 0.8932133395262439\n",
      "val_r2_var = 0.07816533970110345\n",
      "Epoch 35/2000:   2%| | 34/2000 [03:13<2:58:06,  5.44s/it, v_num=1, recon=312, r2_mean=0.906, adv_loss=2.28, acc_pert=0.257, val_recon=314, disnt_basal=0.0721, disnt"
     ]
    },
    {
     "name": "stderr",
     "output_type": "stream",
     "text": [
      "\n",
      "Epoch 00034: cpa_metric reached. Module best state updated.\n"
     ]
    },
    {
     "name": "stdout",
     "output_type": "stream",
     "text": [
      "Epoch 40/2000:   2%| | 39/2000 [03:39<2:49:12,  5.18s/it, v_num=1, recon=310, r2_mean=0.907, adv_loss=2.34, acc_pert=0.248, val_recon=312, disnt_basal=0.0686, disnt"
     ]
    },
    {
     "name": "stderr",
     "output_type": "stream",
     "text": [
      "\n",
      "Epoch 00039: cpa_metric reached. Module best state updated.\n"
     ]
    },
    {
     "name": "stdout",
     "output_type": "stream",
     "text": [
      "\n",
      "disnt_basal = 0.06454785651729547\n",
      "disnt_after = 0.21126421189186814\n",
      "val_r2_mean = 0.8922345532527461\n",
      "val_r2_var = 0.08054483837644168\n",
      "Epoch 45/2000:   2%| | 44/2000 [04:05<2:39:40,  4.90s/it, v_num=1, recon=307, r2_mean=0.906, adv_loss=2.37, acc_pert=0.241, val_recon=310, disnt_basal=0.0645, disnt"
     ]
    },
    {
     "name": "stderr",
     "output_type": "stream",
     "text": [
      "\n",
      "Epoch 00044: cpa_metric reached. Module best state updated.\n"
     ]
    },
    {
     "name": "stdout",
     "output_type": "stream",
     "text": [
      "Epoch 50/2000:   2%| | 49/2000 [04:31<2:58:05,  5.48s/it, v_num=1, recon=306, r2_mean=0.907, adv_loss=2.41, acc_pert=0.238, val_recon=308, disnt_basal=0.0625, disnt"
     ]
    },
    {
     "name": "stderr",
     "output_type": "stream",
     "text": [
      "\n",
      "Epoch 00049: cpa_metric reached. Module best state updated.\n"
     ]
    },
    {
     "name": "stdout",
     "output_type": "stream",
     "text": [
      "\n",
      "disnt_basal = 0.059829885645747066\n",
      "disnt_after = 0.20993261491128115\n",
      "val_r2_mean = 0.8948659346885429\n",
      "val_r2_var = 0.09202304441550332\n",
      "Epoch 55/2000:   3%| | 54/2000 [04:57<2:48:12,  5.19s/it, v_num=1, recon=304, r2_mean=0.907, adv_loss=2.65, acc_pert=0.193, val_recon=306, disnt_basal=0.0598, disnt"
     ]
    },
    {
     "name": "stderr",
     "output_type": "stream",
     "text": [
      "\n",
      "Epoch 00054: cpa_metric reached. Module best state updated.\n"
     ]
    },
    {
     "name": "stdout",
     "output_type": "stream",
     "text": [
      "Epoch 60/2000:   3%| | 59/2000 [05:24<2:53:37,  5.37s/it, v_num=1, recon=302, r2_mean=0.907, adv_loss=2.9, acc_pert=0.146, val_recon=305, disnt_basal=0.0526, disnt_"
     ]
    },
    {
     "name": "stderr",
     "output_type": "stream",
     "text": [
      "\n",
      "Epoch 00059: cpa_metric reached. Module best state updated.\n"
     ]
    },
    {
     "name": "stdout",
     "output_type": "stream",
     "text": [
      "\n",
      "disnt_basal = 0.04696910019058079\n",
      "disnt_after = 0.21307637916462507\n",
      "val_r2_mean = 0.8940537233591634\n",
      "val_r2_var = 0.08634631563054253\n",
      "Epoch 65/2000:   3%| | 64/2000 [05:51<2:45:42,  5.14s/it, v_num=1, recon=301, r2_mean=0.907, adv_loss=3.04, acc_pert=0.112, val_recon=304, disnt_basal=0.047, disnt_"
     ]
    },
    {
     "name": "stderr",
     "output_type": "stream",
     "text": [
      "\n",
      "Epoch 00064: cpa_metric reached. Module best state updated.\n"
     ]
    },
    {
     "name": "stdout",
     "output_type": "stream",
     "text": [
      "Epoch 70/2000:   3%| | 69/2000 [06:20<3:01:44,  5.65s/it, v_num=1, recon=300, r2_mean=0.908, adv_loss=3.11, acc_pert=0.0979, val_recon=303, disnt_basal=0.0448, disn"
     ]
    },
    {
     "name": "stderr",
     "output_type": "stream",
     "text": [
      "\n",
      "Epoch 00069: cpa_metric reached. Module best state updated.\n"
     ]
    },
    {
     "name": "stdout",
     "output_type": "stream",
     "text": [
      "\n",
      "disnt_basal = 0.041979942733992845\n",
      "disnt_after = 0.22240156564673363\n",
      "val_r2_mean = 0.893182899125096\n",
      "val_r2_var = 0.08759947000529228\n",
      "Epoch 75/2000:   4%| | 74/2000 [06:48<3:05:05,  5.77s/it, v_num=1, recon=298, r2_mean=0.907, adv_loss=3.15, acc_pert=0.0929, val_recon=303, disnt_basal=0.042, disnt"
     ]
    },
    {
     "name": "stderr",
     "output_type": "stream",
     "text": [
      "\n",
      "Epoch 00074: cpa_metric reached. Module best state updated.\n"
     ]
    },
    {
     "name": "stdout",
     "output_type": "stream",
     "text": [
      "Epoch 80/2000:   4%| | 79/2000 [07:17<2:57:02,  5.53s/it, v_num=1, recon=297, r2_mean=0.907, adv_loss=3.17, acc_pert=0.0868, val_recon=302, disnt_basal=0.0419, disn"
     ]
    },
    {
     "name": "stderr",
     "output_type": "stream",
     "text": [
      "\n",
      "Epoch 00079: cpa_metric reached. Module best state updated.\n"
     ]
    },
    {
     "name": "stdout",
     "output_type": "stream",
     "text": [
      "\n",
      "disnt_basal = 0.04010921686656969\n",
      "disnt_after = 0.23732753900864478\n",
      "val_r2_mean = 0.8927778182206331\n",
      "val_r2_var = 0.08221662104731858\n",
      "Epoch 85/2000:   4%| | 84/2000 [07:42<2:41:31,  5.06s/it, v_num=1, recon=296, r2_mean=0.907, adv_loss=3.19, acc_pert=0.08, val_recon=301, disnt_basal=0.0401, disnt_"
     ]
    },
    {
     "name": "stderr",
     "output_type": "stream",
     "text": [
      "\n",
      "Epoch 00084: cpa_metric reached. Module best state updated.\n"
     ]
    },
    {
     "name": "stdout",
     "output_type": "stream",
     "text": [
      "Epoch 90/2000:   4%| | 89/2000 [08:09<2:42:19,  5.10s/it, v_num=1, recon=296, r2_mean=0.907, adv_loss=3.2, acc_pert=0.0773, val_recon=300, disnt_basal=0.04, disnt_a"
     ]
    },
    {
     "name": "stderr",
     "output_type": "stream",
     "text": [
      "\n",
      "Epoch 00089: cpa_metric reached. Module best state updated.\n"
     ]
    },
    {
     "name": "stdout",
     "output_type": "stream",
     "text": [
      "\n",
      "disnt_basal = 0.04019989922629386\n",
      "disnt_after = 0.2468773788422226\n",
      "val_r2_mean = 0.8907211744717386\n",
      "val_r2_var = 0.08824922603296202\n",
      "Epoch 95/2000:   5%| | 94/2000 [08:35<2:53:31,  5.46s/it, v_num=1, recon=295, r2_mean=0.908, adv_loss=3.21, acc_pert=0.0755, val_recon=300, disnt_basal=0.0402, disn"
     ]
    },
    {
     "name": "stderr",
     "output_type": "stream",
     "text": [
      "\n",
      "Epoch 00094: cpa_metric reached. Module best state updated.\n"
     ]
    },
    {
     "name": "stdout",
     "output_type": "stream",
     "text": [
      "Epoch 100/2000:   5%| | 99/2000 [09:01<2:47:48,  5.30s/it, v_num=1, recon=294, r2_mean=0.907, adv_loss=3.22, acc_pert=0.0719, val_recon=299, disnt_basal=0.0399, dis"
     ]
    },
    {
     "name": "stderr",
     "output_type": "stream",
     "text": [
      "\n",
      "Epoch 00099: cpa_metric reached. Module best state updated.\n"
     ]
    },
    {
     "name": "stdout",
     "output_type": "stream",
     "text": [
      "\n",
      "disnt_basal = 0.0391019439625881\n",
      "disnt_after = 0.2516612189513929\n",
      "val_r2_mean = 0.8923272982189551\n",
      "val_r2_var = 0.09312090247568458\n",
      "Epoch 105/2000:   5%| | 104/2000 [09:26<2:34:53,  4.90s/it, v_num=1, recon=293, r2_mean=0.908, adv_loss=3.22, acc_pert=0.0701, val_recon=299, disnt_basal=0.0391, di"
     ]
    },
    {
     "name": "stderr",
     "output_type": "stream",
     "text": [
      "\n",
      "Epoch 00104: cpa_metric reached. Module best state updated.\n"
     ]
    },
    {
     "name": "stdout",
     "output_type": "stream",
     "text": [
      "Epoch 110/2000:   5%| | 109/2000 [09:55<2:47:57,  5.33s/it, v_num=1, recon=293, r2_mean=0.908, adv_loss=3.23, acc_pert=0.071, val_recon=299, disnt_basal=0.0395, dis"
     ]
    },
    {
     "name": "stderr",
     "output_type": "stream",
     "text": [
      "\n",
      "Epoch 00109: cpa_metric reached. Module best state updated.\n"
     ]
    },
    {
     "name": "stdout",
     "output_type": "stream",
     "text": [
      "\n",
      "disnt_basal = 0.04006514593371238\n",
      "disnt_after = 0.2622679628120217\n",
      "val_r2_mean = 0.892550140583154\n",
      "val_r2_var = 0.09236024179041186\n",
      "Epoch 115/2000:   6%| | 114/2000 [10:21<2:40:34,  5.11s/it, v_num=1, recon=292, r2_mean=0.907, adv_loss=3.23, acc_pert=0.0679, val_recon=298, disnt_basal=0.0401, di"
     ]
    },
    {
     "name": "stderr",
     "output_type": "stream",
     "text": [
      "\n",
      "Epoch 00114: cpa_metric reached. Module best state updated.\n"
     ]
    },
    {
     "name": "stdout",
     "output_type": "stream",
     "text": [
      "Epoch 120/2000:   6%| | 119/2000 [10:47<2:33:56,  4.91s/it, v_num=1, recon=292, r2_mean=0.908, adv_loss=3.24, acc_pert=0.0675, val_recon=298, disnt_basal=0.0371, di"
     ]
    },
    {
     "name": "stderr",
     "output_type": "stream",
     "text": [
      "\n",
      "Epoch 00119: cpa_metric reached. Module best state updated.\n"
     ]
    },
    {
     "name": "stdout",
     "output_type": "stream",
     "text": [
      "\n",
      "disnt_basal = 0.038663920529090186\n",
      "disnt_after = 0.27066254887062885\n",
      "val_r2_mean = 0.8920851923801281\n",
      "val_r2_var = 0.09083962701386475\n",
      "Epoch 125/2000:   6%| | 124/2000 [11:13<2:38:13,  5.06s/it, v_num=1, recon=291, r2_mean=0.907, adv_loss=3.24, acc_pert=0.0631, val_recon=298, disnt_basal=0.0387, di"
     ]
    },
    {
     "name": "stderr",
     "output_type": "stream",
     "text": [
      "\n",
      "Epoch 00124: cpa_metric reached. Module best state updated.\n"
     ]
    },
    {
     "name": "stdout",
     "output_type": "stream",
     "text": [
      "Epoch 130/2000:   6%| | 129/2000 [11:40<2:50:21,  5.46s/it, v_num=1, recon=291, r2_mean=0.909, adv_loss=3.25, acc_pert=0.0642, val_recon=297, disnt_basal=0.0388, di"
     ]
    },
    {
     "name": "stderr",
     "output_type": "stream",
     "text": [
      "\n",
      "Epoch 00129: cpa_metric reached. Module best state updated.\n"
     ]
    },
    {
     "name": "stdout",
     "output_type": "stream",
     "text": [
      "\n",
      "disnt_basal = 0.03799073502566155\n",
      "disnt_after = 0.2775664496493857\n",
      "val_r2_mean = 0.8901120049059315\n",
      "val_r2_var = 0.09137524172327921\n",
      "Epoch 135/2000:   7%| | 134/2000 [12:09<2:58:50,  5.75s/it, v_num=1, recon=290, r2_mean=0.908, adv_loss=3.25, acc_pert=0.0621, val_recon=297, disnt_basal=0.038, dis"
     ]
    },
    {
     "name": "stderr",
     "output_type": "stream",
     "text": [
      "\n",
      "Epoch 00134: cpa_metric reached. Module best state updated.\n"
     ]
    },
    {
     "name": "stdout",
     "output_type": "stream",
     "text": [
      "Epoch 140/2000:   7%| | 139/2000 [12:38<3:00:57,  5.83s/it, v_num=1, recon=290, r2_mean=0.909, adv_loss=3.25, acc_pert=0.0625, val_recon=297, disnt_basal=0.0372, di"
     ]
    },
    {
     "name": "stderr",
     "output_type": "stream",
     "text": [
      "\n",
      "Epoch 00139: cpa_metric reached. Module best state updated.\n"
     ]
    },
    {
     "name": "stdout",
     "output_type": "stream",
     "text": [
      "\n",
      "disnt_basal = 0.03701695938829083\n",
      "disnt_after = 0.28467328270979375\n",
      "val_r2_mean = 0.8917026671218427\n",
      "val_r2_var = 0.09000615157694497\n",
      "Epoch 145/2000:   7%| | 144/2000 [13:08<2:57:00,  5.72s/it, v_num=1, recon=290, r2_mean=0.908, adv_loss=3.26, acc_pert=0.06, val_recon=297, disnt_basal=0.037, disnt"
     ]
    },
    {
     "name": "stderr",
     "output_type": "stream",
     "text": [
      "\n",
      "Epoch 00144: cpa_metric reached. Module best state updated.\n"
     ]
    },
    {
     "name": "stdout",
     "output_type": "stream",
     "text": [
      "Epoch 150/2000:   7%| | 149/2000 [13:33<2:40:57,  5.22s/it, v_num=1, recon=289, r2_mean=0.908, adv_loss=3.26, acc_pert=0.0581, val_recon=297, disnt_basal=0.0374, di"
     ]
    },
    {
     "name": "stderr",
     "output_type": "stream",
     "text": [
      "\n",
      "Epoch 00149: cpa_metric reached. Module best state updated.\n"
     ]
    },
    {
     "name": "stdout",
     "output_type": "stream",
     "text": [
      "\n",
      "disnt_basal = 0.037863633233475275\n",
      "disnt_after = 0.29561147526535136\n",
      "val_r2_mean = 0.8902714161081221\n",
      "val_r2_var = 0.09117380177471435\n",
      "Epoch 160/2000:   8%| | 159/2000 [14:25<2:38:06,  5.15s/it, v_num=1, recon=289, r2_mean=0.908, adv_loss=3.26, acc_pert=0.0585, val_recon=297, disnt_basal=0.0373, di"
     ]
    },
    {
     "name": "stderr",
     "output_type": "stream",
     "text": [
      "\n",
      "Epoch 00159: cpa_metric reached. Module best state updated.\n"
     ]
    },
    {
     "name": "stdout",
     "output_type": "stream",
     "text": [
      "\n",
      "disnt_basal = 0.03774835029648\n",
      "disnt_after = 0.30139158438646657\n",
      "val_r2_mean = 0.8928535763107722\n",
      "val_r2_var = 0.09320903035897228\n",
      "Epoch 165/2000:   8%| | 164/2000 [14:51<2:42:10,  5.30s/it, v_num=1, recon=289, r2_mean=0.908, adv_loss=3.26, acc_pert=0.0585, val_recon=297, disnt_basal=0.0377, di"
     ]
    },
    {
     "name": "stderr",
     "output_type": "stream",
     "text": [
      "\n",
      "Epoch 00164: cpa_metric reached. Module best state updated.\n"
     ]
    },
    {
     "name": "stdout",
     "output_type": "stream",
     "text": [
      "Epoch 170/2000:   8%| | 169/2000 [15:15<2:27:40,  4.84s/it, v_num=1, recon=288, r2_mean=0.909, adv_loss=3.26, acc_pert=0.058, val_recon=297, disnt_basal=0.0377, dis\n",
      "disnt_basal = 0.03769825399424945\n",
      "disnt_after = 0.3017375747162838\n",
      "val_r2_mean = 0.8917323162258675\n",
      "val_r2_var = 0.09418124783320057\n",
      "Epoch 175/2000:   9%| | 174/2000 [15:42<2:40:15,  5.27s/it, v_num=1, recon=288, r2_mean=0.908, adv_loss=3.26, acc_pert=0.0564, val_recon=297, disnt_basal=0.0377, di"
     ]
    },
    {
     "name": "stderr",
     "output_type": "stream",
     "text": [
      "\n",
      "Epoch 00174: cpa_metric reached. Module best state updated.\n"
     ]
    },
    {
     "name": "stdout",
     "output_type": "stream",
     "text": [
      "Epoch 180/2000:   9%| | 179/2000 [16:05<2:24:27,  4.76s/it, v_num=1, recon=288, r2_mean=0.908, adv_loss=3.26, acc_pert=0.0601, val_recon=296, disnt_basal=0.0379, di"
     ]
    },
    {
     "name": "stderr",
     "output_type": "stream",
     "text": [
      "\n",
      "Epoch 00179: cpa_metric reached. Module best state updated.\n"
     ]
    },
    {
     "name": "stdout",
     "output_type": "stream",
     "text": [
      "\n",
      "disnt_basal = 0.03763311608366205\n",
      "disnt_after = 0.311227196976598\n",
      "val_r2_mean = 0.8894459825974924\n",
      "val_r2_var = 0.09295771599618675\n",
      "Epoch 185/2000:   9%| | 184/2000 [16:32<2:33:42,  5.08s/it, v_num=1, recon=288, r2_mean=0.908, adv_loss=3.26, acc_pert=0.0595, val_recon=296, disnt_basal=0.0376, di"
     ]
    },
    {
     "name": "stderr",
     "output_type": "stream",
     "text": [
      "\n",
      "Epoch 00184: cpa_metric reached. Module best state updated.\n"
     ]
    },
    {
     "name": "stdout",
     "output_type": "stream",
     "text": [
      "Epoch 190/2000:   9%| | 189/2000 [17:01<2:49:31,  5.62s/it, v_num=1, recon=288, r2_mean=0.908, adv_loss=3.26, acc_pert=0.0586, val_recon=296, disnt_basal=0.0366, di\n",
      "disnt_basal = 0.03709339453158433\n",
      "disnt_after = 0.3172544740464881\n",
      "val_r2_mean = 0.8924894803810293\n",
      "val_r2_var = 0.09580539756258423\n",
      "Epoch 195/2000:  10%| | 194/2000 [17:26<2:32:09,  5.06s/it, v_num=1, recon=287, r2_mean=0.908, adv_loss=3.26, acc_pert=0.0583, val_recon=296, disnt_basal=0.0371, di"
     ]
    },
    {
     "name": "stderr",
     "output_type": "stream",
     "text": [
      "\n",
      "Epoch 00194: cpa_metric reached. Module best state updated.\n"
     ]
    },
    {
     "name": "stdout",
     "output_type": "stream",
     "text": [
      "Epoch 200/2000:  10%| | 199/2000 [17:51<2:34:03,  5.13s/it, v_num=1, recon=287, r2_mean=0.91, adv_loss=3.26, acc_pert=0.0607, val_recon=296, disnt_basal=0.0369, dis"
     ]
    },
    {
     "name": "stderr",
     "output_type": "stream",
     "text": [
      "\n",
      "Epoch 00199: cpa_metric reached. Module best state updated.\n"
     ]
    },
    {
     "name": "stdout",
     "output_type": "stream",
     "text": [
      "\n",
      "disnt_basal = 0.03770467472652423\n",
      "disnt_after = 0.32371141233595724\n",
      "val_r2_mean = 0.8919658253258358\n",
      "val_r2_var = 0.09387888053296546\n",
      "Epoch 205/2000:  10%| | 204/2000 [18:18<2:42:44,  5.44s/it, v_num=1, recon=287, r2_mean=0.909, adv_loss=3.25, acc_pert=0.0606, val_recon=297, disnt_basal=0.0377, di"
     ]
    },
    {
     "name": "stderr",
     "output_type": "stream",
     "text": [
      "\n",
      "Epoch 00204: cpa_metric reached. Module best state updated.\n"
     ]
    },
    {
     "name": "stdout",
     "output_type": "stream",
     "text": [
      "Epoch 210/2000:  10%| | 209/2000 [18:45<2:42:11,  5.43s/it, v_num=1, recon=287, r2_mean=0.909, adv_loss=3.26, acc_pert=0.059, val_recon=296, disnt_basal=0.0376, dis"
     ]
    },
    {
     "name": "stderr",
     "output_type": "stream",
     "text": [
      "\n",
      "Epoch 00209: cpa_metric reached. Module best state updated.\n"
     ]
    },
    {
     "name": "stdout",
     "output_type": "stream",
     "text": [
      "\n",
      "disnt_basal = 0.036648471922549275\n",
      "disnt_after = 0.32740086137975\n",
      "val_r2_mean = 0.8918196959095401\n",
      "val_r2_var = 0.09696775210147632\n",
      "Epoch 215/2000:  11%| | 214/2000 [19:13<2:42:32,  5.46s/it, v_num=1, recon=287, r2_mean=0.909, adv_loss=3.25, acc_pert=0.0588, val_recon=296, disnt_basal=0.0366, di"
     ]
    },
    {
     "name": "stderr",
     "output_type": "stream",
     "text": [
      "\n",
      "Epoch 00214: cpa_metric reached. Module best state updated.\n"
     ]
    },
    {
     "name": "stdout",
     "output_type": "stream",
     "text": [
      "Epoch 220/2000:  11%| | 219/2000 [19:38<2:23:26,  4.83s/it, v_num=1, recon=287, r2_mean=0.909, adv_loss=3.26, acc_pert=0.0563, val_recon=296, disnt_basal=0.0372, di\n",
      "disnt_basal = 0.03685222117873376\n",
      "disnt_after = 0.3318427519968846\n",
      "val_r2_mean = 0.8896099230657122\n",
      "val_r2_var = 0.09802386034217347\n",
      "Epoch 225/2000:  11%| | 224/2000 [20:02<2:23:21,  4.84s/it, v_num=1, recon=287, r2_mean=0.909, adv_loss=3.26, acc_pert=0.0595, val_recon=297, disnt_basal=0.0369, di"
     ]
    },
    {
     "name": "stderr",
     "output_type": "stream",
     "text": [
      "\n",
      "Epoch 00224: cpa_metric reached. Module best state updated.\n"
     ]
    },
    {
     "name": "stdout",
     "output_type": "stream",
     "text": [
      "Epoch 230/2000:  11%| | 229/2000 [20:29<2:35:08,  5.26s/it, v_num=1, recon=286, r2_mean=0.909, adv_loss=3.26, acc_pert=0.0564, val_recon=296, disnt_basal=0.0372, di"
     ]
    },
    {
     "name": "stderr",
     "output_type": "stream",
     "text": [
      "\n",
      "Epoch 00229: cpa_metric reached. Module best state updated.\n"
     ]
    },
    {
     "name": "stdout",
     "output_type": "stream",
     "text": [
      "\n",
      "disnt_basal = 0.037126949431677776\n",
      "disnt_after = 0.33775970504148517\n",
      "val_r2_mean = 0.8938512131822633\n",
      "val_r2_var = 0.0965806322065668\n",
      "Epoch 240/2000:  12%| | 239/2000 [21:24<2:29:42,  5.10s/it, v_num=1, recon=286, r2_mean=0.909, adv_loss=3.25, acc_pert=0.0589, val_recon=296, disnt_basal=0.0372, di"
     ]
    },
    {
     "name": "stderr",
     "output_type": "stream",
     "text": [
      "\n",
      "Epoch 00239: cpa_metric reached. Module best state updated.\n"
     ]
    },
    {
     "name": "stdout",
     "output_type": "stream",
     "text": [
      "\n",
      "disnt_basal = 0.037203870314992046\n",
      "disnt_after = 0.34323652539764354\n",
      "val_r2_mean = 0.8897037812848996\n",
      "val_r2_var = 0.09436465701393684\n",
      "Epoch 245/2000:  12%| | 244/2000 [21:55<2:54:07,  5.95s/it, v_num=1, recon=286, r2_mean=0.909, adv_loss=3.26, acc_pert=0.0585, val_recon=296, disnt_basal=0.0372, di"
     ]
    },
    {
     "name": "stderr",
     "output_type": "stream",
     "text": [
      "\n",
      "Epoch 00244: cpa_metric reached. Module best state updated.\n"
     ]
    },
    {
     "name": "stdout",
     "output_type": "stream",
     "text": [
      "Epoch 250/2000:  12%| | 249/2000 [22:23<2:37:30,  5.40s/it, v_num=1, recon=286, r2_mean=0.909, adv_loss=3.25, acc_pert=0.0594, val_recon=296, disnt_basal=0.0374, di\n",
      "disnt_basal = 0.03670963898089216\n",
      "disnt_after = 0.3415106604789034\n",
      "val_r2_mean = 0.8906942945136767\n",
      "val_r2_var = 0.09645509037505896\n",
      "Epoch 255/2000:  13%|▏| 254/2000 [22:48<2:24:21,  4.96s/it, v_num=1, recon=286, r2_mean=0.909, adv_loss=3.26, acc_pert=0.0601, val_recon=296, disnt_basal=0.0367, di"
     ]
    },
    {
     "name": "stderr",
     "output_type": "stream",
     "text": [
      "\n",
      "Epoch 00254: cpa_metric reached. Module best state updated.\n"
     ]
    },
    {
     "name": "stdout",
     "output_type": "stream",
     "text": [
      "Epoch 260/2000:  13%|▏| 259/2000 [23:14<2:27:54,  5.10s/it, v_num=1, recon=286, r2_mean=0.909, adv_loss=3.25, acc_pert=0.0601, val_recon=296, disnt_basal=0.0371, di\n",
      "disnt_basal = 0.037583120419995834\n",
      "disnt_after = 0.3471850975460603\n",
      "val_r2_mean = 0.8905417522875271\n",
      "val_r2_var = 0.10093989221891016\n",
      "Epoch 265/2000:  13%|▏| 264/2000 [23:42<2:35:43,  5.38s/it, v_num=1, recon=286, r2_mean=0.909, adv_loss=3.25, acc_pert=0.0615, val_recon=297, disnt_basal=0.0376, di"
     ]
    },
    {
     "name": "stderr",
     "output_type": "stream",
     "text": [
      "\n",
      "Epoch 00264: cpa_metric reached. Module best state updated.\n"
     ]
    },
    {
     "name": "stdout",
     "output_type": "stream",
     "text": [
      "Epoch 270/2000:  13%|▏| 269/2000 [24:08<2:29:59,  5.20s/it, v_num=1, recon=286, r2_mean=0.91, adv_loss=3.26, acc_pert=0.06, val_recon=296, disnt_basal=0.0372, disnt\n",
      "disnt_basal = 0.03671113789976399\n",
      "disnt_after = 0.35193797941718447\n",
      "val_r2_mean = 0.8874259934280857\n",
      "val_r2_var = 0.09759827133782382\n",
      "Epoch 275/2000:  14%|▏| 274/2000 [24:33<2:21:21,  4.91s/it, v_num=1, recon=286, r2_mean=0.909, adv_loss=3.25, acc_pert=0.0605, val_recon=296, disnt_basal=0.0367, di"
     ]
    },
    {
     "name": "stderr",
     "output_type": "stream",
     "text": [
      "\n",
      "Epoch 00274: cpa_metric reached. Module best state updated.\n"
     ]
    },
    {
     "name": "stdout",
     "output_type": "stream",
     "text": [
      "Epoch 280/2000:  14%|▏| 279/2000 [25:00<2:28:10,  5.17s/it, v_num=1, recon=286, r2_mean=0.909, adv_loss=3.25, acc_pert=0.0606, val_recon=297, disnt_basal=0.0372, di"
     ]
    },
    {
     "name": "stderr",
     "output_type": "stream",
     "text": [
      "\n",
      "Epoch 00279: cpa_metric reached. Module best state updated.\n"
     ]
    },
    {
     "name": "stdout",
     "output_type": "stream",
     "text": [
      "\n",
      "disnt_basal = 0.03705606989503534\n",
      "disnt_after = 0.3585746148399216\n",
      "val_r2_mean = 0.8926684994137648\n",
      "val_r2_var = 0.09794767361498041\n",
      "Epoch 285/2000:  14%|▏| 284/2000 [25:26<2:29:57,  5.24s/it, v_num=1, recon=286, r2_mean=0.909, adv_loss=3.25, acc_pert=0.0613, val_recon=296, disnt_basal=0.0371, di"
     ]
    },
    {
     "name": "stderr",
     "output_type": "stream",
     "text": [
      "\n",
      "Epoch 00284: cpa_metric reached. Module best state updated.\n"
     ]
    },
    {
     "name": "stdout",
     "output_type": "stream",
     "text": [
      "Epoch 290/2000:  14%|▏| 289/2000 [25:52<2:21:52,  4.98s/it, v_num=1, recon=286, r2_mean=0.909, adv_loss=3.25, acc_pert=0.0586, val_recon=296, disnt_basal=0.0362, di\n",
      "disnt_basal = 0.03702677617707087\n",
      "disnt_after = 0.36095815184282826\n",
      "val_r2_mean = 0.8885251418107287\n",
      "val_r2_var = 0.09556314058175391\n",
      "Epoch 295/2000:  15%|▏| 294/2000 [26:18<2:30:05,  5.28s/it, v_num=1, recon=286, r2_mean=0.91, adv_loss=3.25, acc_pert=0.0604, val_recon=296, disnt_basal=0.037, disn"
     ]
    },
    {
     "name": "stderr",
     "output_type": "stream",
     "text": [
      "\n",
      "Epoch 00294: cpa_metric reached. Module best state updated.\n"
     ]
    },
    {
     "name": "stdout",
     "output_type": "stream",
     "text": [
      "Epoch 300/2000:  15%|▏| 299/2000 [26:46<2:27:26,  5.20s/it, v_num=1, recon=285, r2_mean=0.909, adv_loss=3.25, acc_pert=0.0602, val_recon=297, disnt_basal=0.0376, di"
     ]
    },
    {
     "name": "stderr",
     "output_type": "stream",
     "text": [
      "\n",
      "Epoch 00299: cpa_metric reached. Module best state updated.\n"
     ]
    },
    {
     "name": "stdout",
     "output_type": "stream",
     "text": [
      "\n",
      "disnt_basal = 0.03737570609407042\n",
      "disnt_after = 0.3645176682443049\n",
      "val_r2_mean = 0.8895197115361891\n",
      "val_r2_var = 0.09529915702864779\n",
      "Epoch 305/2000:  15%|▏| 304/2000 [27:11<2:25:56,  5.16s/it, v_num=1, recon=285, r2_mean=0.909, adv_loss=3.25, acc_pert=0.0602, val_recon=296, disnt_basal=0.0374, di"
     ]
    },
    {
     "name": "stderr",
     "output_type": "stream",
     "text": [
      "\n",
      "Epoch 00304: cpa_metric reached. Module best state updated.\n"
     ]
    },
    {
     "name": "stdout",
     "output_type": "stream",
     "text": [
      "Epoch 310/2000:  15%|▏| 309/2000 [27:39<2:30:14,  5.33s/it, v_num=1, recon=285, r2_mean=0.909, adv_loss=3.25, acc_pert=0.06, val_recon=296, disnt_basal=0.0361, disn"
     ]
    },
    {
     "name": "stderr",
     "output_type": "stream",
     "text": [
      "\n",
      "Epoch 00309: cpa_metric reached. Module best state updated.\n"
     ]
    },
    {
     "name": "stdout",
     "output_type": "stream",
     "text": [
      "\n",
      "disnt_basal = 0.036620628962212805\n",
      "disnt_after = 0.3670554723446821\n",
      "val_r2_mean = 0.8911717104204762\n",
      "val_r2_var = 0.0990025690493575\n",
      "Epoch 315/2000:  16%|▏| 314/2000 [28:09<2:46:19,  5.92s/it, v_num=1, recon=285, r2_mean=0.909, adv_loss=3.25, acc_pert=0.0604, val_recon=297, disnt_basal=0.0366, di"
     ]
    },
    {
     "name": "stderr",
     "output_type": "stream",
     "text": [
      "\n",
      "Epoch 00314: cpa_metric reached. Module best state updated.\n"
     ]
    },
    {
     "name": "stdout",
     "output_type": "stream",
     "text": [
      "Epoch 320/2000:  16%|▏| 319/2000 [28:35<2:25:07,  5.18s/it, v_num=1, recon=285, r2_mean=0.909, adv_loss=3.25, acc_pert=0.0612, val_recon=296, disnt_basal=0.0369, di"
     ]
    },
    {
     "name": "stderr",
     "output_type": "stream",
     "text": [
      "\n",
      "Epoch 00319: cpa_metric reached. Module best state updated.\n"
     ]
    },
    {
     "name": "stdout",
     "output_type": "stream",
     "text": [
      "\n",
      "disnt_basal = 0.03696499628032463\n",
      "disnt_after = 0.36735082245357964\n",
      "val_r2_mean = 0.8933872574584778\n",
      "val_r2_var = 0.09948708917834664\n",
      "Epoch 325/2000:  16%|▏| 324/2000 [29:00<2:15:16,  4.84s/it, v_num=1, recon=285, r2_mean=0.909, adv_loss=3.25, acc_pert=0.0603, val_recon=297, disnt_basal=0.037, dis"
     ]
    },
    {
     "name": "stderr",
     "output_type": "stream",
     "text": [
      "\n",
      "Epoch 00324: cpa_metric reached. Module best state updated.\n"
     ]
    },
    {
     "name": "stdout",
     "output_type": "stream",
     "text": [
      "Epoch 330/2000:  16%|▏| 329/2000 [29:28<2:31:58,  5.46s/it, v_num=1, recon=285, r2_mean=0.909, adv_loss=3.25, acc_pert=0.0599, val_recon=297, disnt_basal=0.0367, di\n",
      "disnt_basal = 0.03719235479879365\n",
      "disnt_after = 0.3717854444207305\n",
      "val_r2_mean = 0.8881705792664679\n",
      "val_r2_var = 0.098895879104884\n",
      "Epoch 335/2000:  17%|▏| 334/2000 [29:55<2:26:48,  5.29s/it, v_num=1, recon=285, r2_mean=0.909, adv_loss=3.25, acc_pert=0.0593, val_recon=297, disnt_basal=0.0372, di"
     ]
    },
    {
     "name": "stderr",
     "output_type": "stream",
     "text": [
      "\n",
      "Epoch 00334: cpa_metric reached. Module best state updated.\n"
     ]
    },
    {
     "name": "stdout",
     "output_type": "stream",
     "text": [
      "Epoch 340/2000:  17%|▏| 339/2000 [30:20<2:14:14,  4.85s/it, v_num=1, recon=285, r2_mean=0.91, adv_loss=3.25, acc_pert=0.0582, val_recon=296, disnt_basal=0.0378, dis"
     ]
    },
    {
     "name": "stderr",
     "output_type": "stream",
     "text": [
      "\n",
      "Epoch 00339: cpa_metric reached. Module best state updated.\n"
     ]
    },
    {
     "name": "stdout",
     "output_type": "stream",
     "text": [
      "\n",
      "disnt_basal = 0.03606714148846384\n",
      "disnt_after = 0.37646976944288985\n",
      "val_r2_mean = 0.8887698004141399\n",
      "val_r2_var = 0.09729084001245723\n",
      "Epoch 345/2000:  17%|▏| 344/2000 [30:47<2:23:13,  5.19s/it, v_num=1, recon=285, r2_mean=0.91, adv_loss=3.25, acc_pert=0.0573, val_recon=297, disnt_basal=0.0361, dis"
     ]
    },
    {
     "name": "stderr",
     "output_type": "stream",
     "text": [
      "\n",
      "Epoch 00344: cpa_metric reached. Module best state updated.\n"
     ]
    },
    {
     "name": "stdout",
     "output_type": "stream",
     "text": [
      "Epoch 350/2000:  17%|▏| 349/2000 [31:13<2:20:46,  5.12s/it, v_num=1, recon=285, r2_mean=0.909, adv_loss=3.25, acc_pert=0.0596, val_recon=297, disnt_basal=0.0372, di\n",
      "disnt_basal = 0.03787635670452754\n",
      "disnt_after = 0.3760122599177161\n",
      "val_r2_mean = 0.8909655213356018\n",
      "val_r2_var = 0.0994521024251225\n",
      "Epoch 355/2000:  18%|▏| 354/2000 [31:37<2:09:43,  4.73s/it, v_num=1, recon=285, r2_mean=0.91, adv_loss=3.25, acc_pert=0.06, val_recon=297, disnt_basal=0.0379, disnt"
     ]
    },
    {
     "name": "stderr",
     "output_type": "stream",
     "text": [
      "\n",
      "Epoch 00354: cpa_metric reached. Module best state updated.\n"
     ]
    },
    {
     "name": "stdout",
     "output_type": "stream",
     "text": [
      "Epoch 360/2000:  18%|▏| 359/2000 [32:02<2:16:39,  5.00s/it, v_num=1, recon=285, r2_mean=0.909, adv_loss=3.25, acc_pert=0.0607, val_recon=297, disnt_basal=0.0368, di"
     ]
    },
    {
     "name": "stderr",
     "output_type": "stream",
     "text": [
      "\n",
      "Epoch 00359: cpa_metric reached. Module best state updated.\n"
     ]
    },
    {
     "name": "stdout",
     "output_type": "stream",
     "text": [
      "\n",
      "disnt_basal = 0.036914547990111186\n",
      "disnt_after = 0.3852430885890007\n",
      "val_r2_mean = 0.8927525739708703\n",
      "val_r2_var = 0.09355691850293457\n",
      "Epoch 370/2000:  18%|▏| 369/2000 [32:51<2:11:17,  4.83s/it, v_num=1, recon=285, r2_mean=0.909, adv_loss=3.25, acc_pert=0.0592, val_recon=297, disnt_basal=0.0369, di\n",
      "disnt_basal = 0.03734422128536932\n",
      "disnt_after = 0.38627890057362857\n",
      "val_r2_mean = 0.889632468271737\n",
      "val_r2_var = 0.09437497838177666\n",
      "Epoch 375/2000:  19%|▏| 374/2000 [33:18<2:24:24,  5.33s/it, v_num=1, recon=285, r2_mean=0.909, adv_loss=3.25, acc_pert=0.0609, val_recon=297, disnt_basal=0.0373, di"
     ]
    },
    {
     "name": "stderr",
     "output_type": "stream",
     "text": [
      "\n",
      "Epoch 00374: cpa_metric reached. Module best state updated.\n"
     ]
    },
    {
     "name": "stdout",
     "output_type": "stream",
     "text": [
      "Epoch 380/2000:  19%|▏| 379/2000 [33:44<2:17:50,  5.10s/it, v_num=1, recon=285, r2_mean=0.91, adv_loss=3.25, acc_pert=0.0595, val_recon=297, disnt_basal=0.0367, dis"
     ]
    },
    {
     "name": "stderr",
     "output_type": "stream",
     "text": [
      "\n",
      "Epoch 00379: cpa_metric reached. Module best state updated.\n"
     ]
    },
    {
     "name": "stdout",
     "output_type": "stream",
     "text": [
      "\n",
      "disnt_basal = 0.03634344300037813\n",
      "disnt_after = 0.3880297815330193\n",
      "val_r2_mean = 0.892186863253815\n",
      "val_r2_var = 0.09929704277881592\n",
      "Epoch 390/2000:  19%|▏| 389/2000 [34:36<2:11:53,  4.91s/it, v_num=1, recon=285, r2_mean=0.909, adv_loss=3.25, acc_pert=0.0601, val_recon=297, disnt_basal=0.0362, di\n",
      "disnt_basal = 0.03643259780136657\n",
      "disnt_after = 0.38966041394223977\n",
      "val_r2_mean = 0.8896701652995663\n",
      "val_r2_var = 0.09875149819184635\n",
      "Epoch 395/2000:  20%|▏| 394/2000 [35:04<2:25:03,  5.42s/it, v_num=1, recon=285, r2_mean=0.91, adv_loss=3.25, acc_pert=0.0604, val_recon=297, disnt_basal=0.0364, dis"
     ]
    },
    {
     "name": "stderr",
     "output_type": "stream",
     "text": [
      "\n",
      "Epoch 00394: cpa_metric reached. Module best state updated.\n"
     ]
    },
    {
     "name": "stdout",
     "output_type": "stream",
     "text": [
      "Epoch 400/2000:  20%|▏| 399/2000 [35:29<2:12:07,  4.95s/it, v_num=1, recon=285, r2_mean=0.91, adv_loss=3.25, acc_pert=0.0591, val_recon=297, disnt_basal=0.0375, dis"
     ]
    },
    {
     "name": "stderr",
     "output_type": "stream",
     "text": [
      "\n",
      "Epoch 00399: cpa_metric reached. Module best state updated.\n"
     ]
    },
    {
     "name": "stdout",
     "output_type": "stream",
     "text": [
      "\n",
      "disnt_basal = 0.03712446404621062\n",
      "disnt_after = 0.393213395373072\n",
      "val_r2_mean = 0.8919625134098812\n",
      "val_r2_var = 0.09906906152012374\n",
      "Epoch 405/2000:  20%|▏| 404/2000 [35:57<2:20:35,  5.29s/it, v_num=1, recon=285, r2_mean=0.91, adv_loss=3.25, acc_pert=0.0612, val_recon=297, disnt_basal=0.0371, dis"
     ]
    },
    {
     "name": "stderr",
     "output_type": "stream",
     "text": [
      "\n",
      "Epoch 00404: cpa_metric reached. Module best state updated.\n"
     ]
    },
    {
     "name": "stdout",
     "output_type": "stream",
     "text": [
      "Epoch 410/2000:  20%|▏| 409/2000 [36:24<2:14:31,  5.07s/it, v_num=1, recon=285, r2_mean=0.91, adv_loss=3.25, acc_pert=0.0601, val_recon=297, disnt_basal=0.0376, dis"
     ]
    },
    {
     "name": "stderr",
     "output_type": "stream",
     "text": [
      "\n",
      "Epoch 00409: cpa_metric reached. Module best state updated.\n"
     ]
    },
    {
     "name": "stdout",
     "output_type": "stream",
     "text": [
      "\n",
      "disnt_basal = 0.03676996167313743\n",
      "disnt_after = 0.3977659621198354\n",
      "val_r2_mean = 0.8932675144981762\n",
      "val_r2_var = 0.10000920871538499\n",
      "Epoch 420/2000:  21%|▏| 419/2000 [37:18<2:14:13,  5.09s/it, v_num=1, recon=285, r2_mean=0.91, adv_loss=3.25, acc_pert=0.0599, val_recon=297, disnt_basal=0.0365, dis\n",
      "disnt_basal = 0.03800140218828769\n",
      "disnt_after = 0.39698905089222447\n",
      "val_r2_mean = 0.8910873211192762\n",
      "val_r2_var = 0.09750765602195303\n",
      "Epoch 430/2000:  21%|▏| 429/2000 [38:11<2:12:07,  5.05s/it, v_num=1, recon=285, r2_mean=0.909, adv_loss=3.25, acc_pert=0.0591, val_recon=297, disnt_basal=0.0368, di"
     ]
    },
    {
     "name": "stderr",
     "output_type": "stream",
     "text": [
      "\n",
      "Epoch 00429: cpa_metric reached. Module best state updated.\n"
     ]
    },
    {
     "name": "stdout",
     "output_type": "stream",
     "text": [
      "\n",
      "disnt_basal = 0.03819737830765719\n",
      "disnt_after = 0.40119247832767946\n",
      "val_r2_mean = 0.891597269030934\n",
      "val_r2_var = 0.09810915951776987\n",
      "Epoch 440/2000:  22%|▏| 439/2000 [39:07<2:23:26,  5.51s/it, v_num=1, recon=284, r2_mean=0.91, adv_loss=3.25, acc_pert=0.0608, val_recon=297, disnt_basal=0.0373, dis"
     ]
    },
    {
     "name": "stderr",
     "output_type": "stream",
     "text": [
      "\n",
      "Epoch 00439: cpa_metric reached. Module best state updated.\n"
     ]
    },
    {
     "name": "stdout",
     "output_type": "stream",
     "text": [
      "\n",
      "disnt_basal = 0.03781397170516096\n",
      "disnt_after = 0.4033357607256028\n",
      "val_r2_mean = 0.8937146820524325\n",
      "val_r2_var = 0.09702855147897994\n",
      "Epoch 450/2000:  22%|▏| 449/2000 [40:03<2:27:17,  5.70s/it, v_num=1, recon=284, r2_mean=0.91, adv_loss=3.25, acc_pert=0.0614, val_recon=297, disnt_basal=0.0372, dis"
     ]
    },
    {
     "name": "stderr",
     "output_type": "stream",
     "text": [
      "\n",
      "Epoch 00449: cpa_metric reached. Module best state updated.\n"
     ]
    },
    {
     "name": "stdout",
     "output_type": "stream",
     "text": [
      "\n",
      "disnt_basal = 0.03683223600606416\n",
      "disnt_after = 0.40429330949197817\n",
      "val_r2_mean = 0.8895874010006772\n",
      "val_r2_var = 0.10167788035880097\n",
      "Epoch 455/2000:  23%|▏| 454/2000 [40:30<2:17:09,  5.32s/it, v_num=1, recon=284, r2_mean=0.91, adv_loss=3.25, acc_pert=0.0606, val_recon=297, disnt_basal=0.0368, dis"
     ]
    },
    {
     "name": "stderr",
     "output_type": "stream",
     "text": [
      "\n",
      "Epoch 00454: cpa_metric reached. Module best state updated.\n"
     ]
    },
    {
     "name": "stdout",
     "output_type": "stream",
     "text": [
      "Epoch 460/2000:  23%|▏| 459/2000 [40:56<2:17:52,  5.37s/it, v_num=1, recon=284, r2_mean=0.91, adv_loss=3.25, acc_pert=0.0603, val_recon=297, disnt_basal=0.037, disn"
     ]
    },
    {
     "name": "stderr",
     "output_type": "stream",
     "text": [
      "\n",
      "Epoch 00459: cpa_metric reached. Module best state updated.\n"
     ]
    },
    {
     "name": "stdout",
     "output_type": "stream",
     "text": [
      "\n",
      "disnt_basal = 0.03622934717979825\n",
      "disnt_after = 0.4098424349052511\n",
      "val_r2_mean = 0.8926853720263724\n",
      "val_r2_var = 0.09784405421667292\n",
      "Epoch 470/2000:  23%|▏| 469/2000 [41:47<2:00:09,  4.71s/it, v_num=1, recon=284, r2_mean=0.91, adv_loss=3.25, acc_pert=0.0625, val_recon=297, disnt_basal=0.0373, dis\n",
      "disnt_basal = 0.03642341374178641\n",
      "disnt_after = 0.40969245006588406\n",
      "val_r2_mean = 0.8918278789202249\n",
      "val_r2_var = 0.09983201262803312\n",
      "Epoch 475/2000:  24%|▏| 474/2000 [42:14<2:15:10,  5.32s/it, v_num=1, recon=284, r2_mean=0.91, adv_loss=3.25, acc_pert=0.0606, val_recon=297, disnt_basal=0.0364, dis"
     ]
    },
    {
     "name": "stderr",
     "output_type": "stream",
     "text": [
      "\n",
      "Epoch 00474: cpa_metric reached. Module best state updated.\n"
     ]
    },
    {
     "name": "stdout",
     "output_type": "stream",
     "text": [
      "Epoch 480/2000:  24%|▏| 479/2000 [42:41<2:19:16,  5.49s/it, v_num=1, recon=284, r2_mean=0.91, adv_loss=3.25, acc_pert=0.0628, val_recon=297, disnt_basal=0.0369, dis\n",
      "disnt_basal = 0.03688594476302761\n",
      "disnt_after = 0.41167024217814513\n",
      "val_r2_mean = 0.8899437743003922\n",
      "val_r2_var = 0.09439729660849781\n",
      "Epoch 490/2000:  24%|▏| 489/2000 [43:32<2:17:59,  5.48s/it, v_num=1, recon=284, r2_mean=0.91, adv_loss=3.25, acc_pert=0.0617, val_recon=297, disnt_basal=0.037, disn"
     ]
    },
    {
     "name": "stderr",
     "output_type": "stream",
     "text": [
      "\n",
      "Epoch 00489: cpa_metric reached. Module best state updated.\n"
     ]
    },
    {
     "name": "stdout",
     "output_type": "stream",
     "text": [
      "\n",
      "disnt_basal = 0.036151733095078305\n",
      "disnt_after = 0.4132985839321822\n",
      "val_r2_mean = 0.8895251693440915\n",
      "val_r2_var = 0.10045951607158782\n",
      "Epoch 495/2000:  25%|▏| 494/2000 [43:57<2:05:21,  4.99s/it, v_num=1, recon=284, r2_mean=0.91, adv_loss=3.25, acc_pert=0.0599, val_recon=297, disnt_basal=0.0362, dis"
     ]
    },
    {
     "name": "stderr",
     "output_type": "stream",
     "text": [
      "\n",
      "Epoch 00494: cpa_metric reached. Module best state updated.\n"
     ]
    },
    {
     "name": "stdout",
     "output_type": "stream",
     "text": [
      "Epoch 500/2000:  25%|▏| 499/2000 [44:23<2:03:33,  4.94s/it, v_num=1, recon=284, r2_mean=0.909, adv_loss=3.25, acc_pert=0.0592, val_recon=297, disnt_basal=0.0363, di"
     ]
    },
    {
     "name": "stderr",
     "output_type": "stream",
     "text": [
      "\n",
      "Epoch 00499: cpa_metric reached. Module best state updated.\n"
     ]
    },
    {
     "name": "stdout",
     "output_type": "stream",
     "text": [
      "\n",
      "disnt_basal = 0.03661007209104756\n",
      "disnt_after = 0.4163611165056073\n",
      "val_r2_mean = 0.8926871364612526\n",
      "val_r2_var = 0.09986522891798714\n",
      "Epoch 510/2000:  25%|▎| 509/2000 [45:14<2:09:23,  5.21s/it, v_num=1, recon=284, r2_mean=0.91, adv_loss=3.25, acc_pert=0.0588, val_recon=297, disnt_basal=0.0367, dis\n",
      "disnt_basal = 0.03582054772191375\n",
      "disnt_after = 0.4169125148703264\n",
      "val_r2_mean = 0.890373979353343\n",
      "val_r2_var = 0.0982560928823169\n",
      "Epoch 520/2000:  26%|▎| 519/2000 [46:07<2:12:44,  5.38s/it, v_num=1, recon=284, r2_mean=0.91, adv_loss=3.25, acc_pert=0.0622, val_recon=297, disnt_basal=0.0361, dis"
     ]
    },
    {
     "name": "stderr",
     "output_type": "stream",
     "text": [
      "\n",
      "Epoch 00519: cpa_metric reached. Module best state updated.\n"
     ]
    },
    {
     "name": "stdout",
     "output_type": "stream",
     "text": [
      "\n",
      "disnt_basal = 0.03690857824360446\n",
      "disnt_after = 0.4179020840706672\n",
      "val_r2_mean = 0.8901427338420341\n",
      "val_r2_var = 0.10144433996894144\n",
      "Epoch 525/2000:  26%|▎| 524/2000 [46:32<1:58:34,  4.82s/it, v_num=1, recon=284, r2_mean=0.911, adv_loss=3.25, acc_pert=0.0582, val_recon=297, disnt_basal=0.0369, di"
     ]
    },
    {
     "name": "stderr",
     "output_type": "stream",
     "text": [
      "\n",
      "Epoch 00524: cpa_metric reached. Module best state updated.\n"
     ]
    },
    {
     "name": "stdout",
     "output_type": "stream",
     "text": [
      "Epoch 530/2000:  26%|▎| 529/2000 [46:58<2:05:15,  5.11s/it, v_num=1, recon=284, r2_mean=0.91, adv_loss=3.25, acc_pert=0.0613, val_recon=297, disnt_basal=0.0371, dis"
     ]
    },
    {
     "name": "stderr",
     "output_type": "stream",
     "text": [
      "\n",
      "Epoch 00529: cpa_metric reached. Module best state updated.\n"
     ]
    },
    {
     "name": "stdout",
     "output_type": "stream",
     "text": [
      "\n",
      "disnt_basal = 0.037538861328544386\n",
      "disnt_after = 0.42160772310740097\n",
      "val_r2_mean = 0.8895798723674815\n",
      "val_r2_var = 0.09834650320205253\n",
      "Epoch 540/2000:  27%|▎| 539/2000 [47:46<1:53:54,  4.68s/it, v_num=1, recon=284, r2_mean=0.91, adv_loss=3.25, acc_pert=0.0602, val_recon=297, disnt_basal=0.0375, dis\n",
      "disnt_basal = 0.03664293527547779\n",
      "disnt_after = 0.41840467223440564\n",
      "val_r2_mean = 0.8909157751385212\n",
      "val_r2_var = 0.10287786352915394\n",
      "Epoch 550/2000:  27%|▎| 549/2000 [48:34<1:56:35,  4.82s/it, v_num=1, recon=284, r2_mean=0.91, adv_loss=3.25, acc_pert=0.0608, val_recon=298, disnt_basal=0.037, disn"
     ]
    },
    {
     "name": "stderr",
     "output_type": "stream",
     "text": [
      "\n",
      "Epoch 00549: cpa_metric reached. Module best state updated.\n"
     ]
    },
    {
     "name": "stdout",
     "output_type": "stream",
     "text": [
      "\n",
      "disnt_basal = 0.03667689030783584\n",
      "disnt_after = 0.42297394091790413\n",
      "val_r2_mean = 0.8933061049361822\n",
      "val_r2_var = 0.1022234916205358\n",
      "Epoch 560/2000:  28%|▎| 559/2000 [49:29<2:14:41,  5.61s/it, v_num=1, recon=284, r2_mean=0.91, adv_loss=3.25, acc_pert=0.0611, val_recon=297, disnt_basal=0.0368, dis\n",
      "disnt_basal = 0.03719261724403979\n",
      "disnt_after = 0.4232337655383699\n",
      "val_r2_mean = 0.8883625808789674\n",
      "val_r2_var = 0.10095718693652941\n",
      "Epoch 565/2000:  28%|▎| 564/2000 [49:56<2:06:58,  5.31s/it, v_num=1, recon=284, r2_mean=0.911, adv_loss=3.25, acc_pert=0.0605, val_recon=298, disnt_basal=0.0372, di"
     ]
    },
    {
     "name": "stderr",
     "output_type": "stream",
     "text": [
      "\n",
      "Epoch 00564: cpa_metric reached. Module best state updated.\n"
     ]
    },
    {
     "name": "stdout",
     "output_type": "stream",
     "text": [
      "Epoch 570/2000:  28%|▎| 569/2000 [50:23<2:08:10,  5.37s/it, v_num=1, recon=284, r2_mean=0.91, adv_loss=3.25, acc_pert=0.0629, val_recon=297, disnt_basal=0.0371, dis"
     ]
    },
    {
     "name": "stderr",
     "output_type": "stream",
     "text": [
      "\n",
      "Epoch 00569: cpa_metric reached. Module best state updated.\n"
     ]
    },
    {
     "name": "stdout",
     "output_type": "stream",
     "text": [
      "\n",
      "disnt_basal = 0.03714323246361148\n",
      "disnt_after = 0.4283300483469429\n",
      "val_r2_mean = 0.8915409923402549\n",
      "val_r2_var = 0.10129110239170216\n",
      "Epoch 575/2000:  29%|▎| 574/2000 [50:49<2:09:36,  5.45s/it, v_num=1, recon=284, r2_mean=0.91, adv_loss=3.25, acc_pert=0.0597, val_recon=298, disnt_basal=0.0371, dis"
     ]
    },
    {
     "name": "stderr",
     "output_type": "stream",
     "text": [
      "\n",
      "Epoch 00574: cpa_metric reached. Module best state updated.\n"
     ]
    },
    {
     "name": "stdout",
     "output_type": "stream",
     "text": [
      "Epoch 580/2000:  29%|▎| 579/2000 [51:15<1:58:21,  5.00s/it, v_num=1, recon=284, r2_mean=0.91, adv_loss=3.25, acc_pert=0.0604, val_recon=298, disnt_basal=0.036, disn\n",
      "disnt_basal = 0.03685602227580545\n",
      "disnt_after = 0.4267481361312781\n",
      "val_r2_mean = 0.8903707476577374\n",
      "val_r2_var = 0.09836320042208792\n",
      "Epoch 590/2000:  29%|▎| 589/2000 [52:11<2:08:11,  5.45s/it, v_num=1, recon=284, r2_mean=0.91, adv_loss=3.25, acc_pert=0.0595, val_recon=298, disnt_basal=0.0378, dis\n",
      "disnt_basal = 0.036979613782511384\n",
      "disnt_after = 0.42914904631281503\n",
      "val_r2_mean = 0.8885258510457948\n",
      "val_r2_var = 0.10291741933886853\n",
      "Epoch 595/2000:  30%|▎| 594/2000 [52:38<2:02:54,  5.25s/it, v_num=1, recon=284, r2_mean=0.91, adv_loss=3.25, acc_pert=0.0603, val_recon=298, disnt_basal=0.037, disn"
     ]
    },
    {
     "name": "stderr",
     "output_type": "stream",
     "text": [
      "\n",
      "Epoch 00594: cpa_metric reached. Module best state updated.\n"
     ]
    },
    {
     "name": "stdout",
     "output_type": "stream",
     "text": [
      "Epoch 600/2000:  30%|▎| 599/2000 [53:06<2:02:58,  5.27s/it, v_num=1, recon=284, r2_mean=0.91, adv_loss=3.25, acc_pert=0.0602, val_recon=298, disnt_basal=0.0369, dis\n",
      "disnt_basal = 0.0370676416281961\n",
      "disnt_after = 0.43031911205338447\n",
      "val_r2_mean = 0.8924848035931187\n",
      "val_r2_var = 0.10158833008422596\n",
      "Epoch 605/2000:  30%|▎| 604/2000 [53:35<2:14:46,  5.79s/it, v_num=1, recon=284, r2_mean=0.91, adv_loss=3.25, acc_pert=0.0619, val_recon=298, disnt_basal=0.0371, dis"
     ]
    },
    {
     "name": "stderr",
     "output_type": "stream",
     "text": [
      "\n",
      "Epoch 00604: cpa_metric reached. Module best state updated.\n"
     ]
    },
    {
     "name": "stdout",
     "output_type": "stream",
     "text": [
      "Epoch 610/2000:  30%|▎| 609/2000 [54:00<1:55:14,  4.97s/it, v_num=1, recon=284, r2_mean=0.91, adv_loss=3.25, acc_pert=0.0568, val_recon=297, disnt_basal=0.0362, dis\n",
      "disnt_basal = 0.03594513436130588\n",
      "disnt_after = 0.43197224435301057\n",
      "val_r2_mean = 0.8918395293280732\n",
      "val_r2_var = 0.10031073763715699\n",
      "Epoch 620/2000:  31%|▎| 619/2000 [54:51<1:56:09,  5.05s/it, v_num=1, recon=284, r2_mean=0.91, adv_loss=3.25, acc_pert=0.0633, val_recon=298, disnt_basal=0.037, disn\n",
      "disnt_basal = 0.036710463021548234\n",
      "disnt_after = 0.4334185681401386\n",
      "val_r2_mean = 0.8918645654015515\n",
      "val_r2_var = 0.1021902040168122\n",
      "Epoch 625/2000:  31%|▎| 624/2000 [55:17<1:55:12,  5.02s/it, v_num=1, recon=284, r2_mean=0.91, adv_loss=3.25, acc_pert=0.0617, val_recon=298, disnt_basal=0.0367, dis"
     ]
    },
    {
     "name": "stderr",
     "output_type": "stream",
     "text": [
      "\n",
      "Epoch 00624: cpa_metric reached. Module best state updated.\n"
     ]
    },
    {
     "name": "stdout",
     "output_type": "stream",
     "text": [
      "Epoch 630/2000:  31%|▎| 629/2000 [55:42<1:49:09,  4.78s/it, v_num=1, recon=284, r2_mean=0.91, adv_loss=3.25, acc_pert=0.06, val_recon=298, disnt_basal=0.0365, disnt\n",
      "disnt_basal = 0.036975850063359766\n",
      "disnt_after = 0.4323753010889393\n",
      "val_r2_mean = 0.889958107912982\n",
      "val_r2_var = 0.10242421839775061\n",
      "Epoch 635/2000:  32%|▎| 634/2000 [56:06<1:50:16,  4.84s/it, v_num=1, recon=284, r2_mean=0.91, adv_loss=3.25, acc_pert=0.0628, val_recon=298, disnt_basal=0.037, disn"
     ]
    },
    {
     "name": "stderr",
     "output_type": "stream",
     "text": [
      "\n",
      "Epoch 00634: cpa_metric reached. Module best state updated.\n"
     ]
    },
    {
     "name": "stdout",
     "output_type": "stream",
     "text": [
      "Epoch 640/2000:  32%|▎| 639/2000 [56:33<1:56:54,  5.15s/it, v_num=1, recon=284, r2_mean=0.911, adv_loss=3.25, acc_pert=0.0593, val_recon=298, disnt_basal=0.0369, di\n",
      "disnt_basal = 0.037166464647141524\n",
      "disnt_after = 0.4388681830608512\n",
      "val_r2_mean = 0.890382823642132\n",
      "val_r2_var = 0.10048342360884562\n",
      "Epoch 645/2000:  32%|▎| 644/2000 [57:01<2:03:09,  5.45s/it, v_num=1, recon=284, r2_mean=0.91, adv_loss=3.25, acc_pert=0.0589, val_recon=298, disnt_basal=0.0372, dis"
     ]
    },
    {
     "name": "stderr",
     "output_type": "stream",
     "text": [
      "\n",
      "Epoch 00644: cpa_metric reached. Module best state updated.\n"
     ]
    },
    {
     "name": "stdout",
     "output_type": "stream",
     "text": [
      "Epoch 650/2000:  32%|▎| 649/2000 [57:25<1:48:37,  4.82s/it, v_num=1, recon=284, r2_mean=0.911, adv_loss=3.25, acc_pert=0.0613, val_recon=298, disnt_basal=0.0371, di\n",
      "disnt_basal = 0.03660755775865442\n",
      "disnt_after = 0.4379312102908321\n",
      "val_r2_mean = 0.8895437953478929\n",
      "val_r2_var = 0.10259211268705334\n",
      "Epoch 655/2000:  33%|▎| 654/2000 [57:51<1:54:20,  5.10s/it, v_num=1, recon=284, r2_mean=0.91, adv_loss=3.25, acc_pert=0.0602, val_recon=298, disnt_basal=0.0366, dis"
     ]
    },
    {
     "name": "stderr",
     "output_type": "stream",
     "text": [
      "\n",
      "Epoch 00654: cpa_metric reached. Module best state updated.\n"
     ]
    },
    {
     "name": "stdout",
     "output_type": "stream",
     "text": [
      "Epoch 660/2000:  33%|▎| 659/2000 [58:20<2:10:02,  5.82s/it, v_num=1, recon=284, r2_mean=0.91, adv_loss=3.25, acc_pert=0.0573, val_recon=298, disnt_basal=0.0373, dis"
     ]
    },
    {
     "name": "stderr",
     "output_type": "stream",
     "text": [
      "\n",
      "Epoch 00659: cpa_metric reached. Module best state updated.\n"
     ]
    },
    {
     "name": "stdout",
     "output_type": "stream",
     "text": [
      "\n",
      "disnt_basal = 0.03761661218117632\n",
      "disnt_after = 0.4395153542547709\n",
      "val_r2_mean = 0.8935053077851883\n",
      "val_r2_var = 0.10397972973107486\n",
      "Epoch 670/2000:  33%|▎| 669/2000 [59:10<1:47:34,  4.85s/it, v_num=1, recon=284, r2_mean=0.91, adv_loss=3.25, acc_pert=0.0573, val_recon=298, disnt_basal=0.0363, dis"
     ]
    },
    {
     "name": "stderr",
     "output_type": "stream",
     "text": [
      "\n",
      "Epoch 00669: cpa_metric reached. Module best state updated.\n"
     ]
    },
    {
     "name": "stdout",
     "output_type": "stream",
     "text": [
      "\n",
      "disnt_basal = 0.037136879114048275\n",
      "disnt_after = 0.44403201636797507\n",
      "val_r2_mean = 0.8899941342122749\n",
      "val_r2_var = 0.09659608105586867\n",
      "Epoch 675/2000:  34%|▎| 674/2000 [59:37<1:49:49,  4.97s/it, v_num=1, recon=284, r2_mean=0.91, adv_loss=3.25, acc_pert=0.0602, val_recon=298, disnt_basal=0.0371, dis"
     ]
    },
    {
     "name": "stderr",
     "output_type": "stream",
     "text": [
      "\n",
      "Epoch 00674: cpa_metric reached. Module best state updated.\n"
     ]
    },
    {
     "name": "stdout",
     "output_type": "stream",
     "text": [
      "Epoch 680/2000:  34%|▎| 679/2000 [1:00:07<2:07:04,  5.77s/it, v_num=1, recon=284, r2_mean=0.91, adv_loss=3.25, acc_pert=0.0599, val_recon=298, disnt_basal=0.0358, d"
     ]
    },
    {
     "name": "stderr",
     "output_type": "stream",
     "text": [
      "\n",
      "Epoch 00679: cpa_metric reached. Module best state updated.\n"
     ]
    },
    {
     "name": "stdout",
     "output_type": "stream",
     "text": [
      "\n",
      "disnt_basal = 0.036642913672107244\n",
      "disnt_after = 0.4442568293013911\n",
      "val_r2_mean = 0.8899569894729639\n",
      "val_r2_var = 0.1005504000869263\n",
      "Epoch 690/2000:  34%|▎| 689/2000 [1:01:02<2:09:32,  5.93s/it, v_num=1, recon=284, r2_mean=0.91, adv_loss=3.25, acc_pert=0.0611, val_recon=298, disnt_basal=0.0364, d\n",
      "disnt_basal = 0.03642403383701419\n",
      "disnt_after = 0.4415967315434229\n",
      "val_r2_mean = 0.8909103258290275\n",
      "val_r2_var = 0.10139713303408637\n",
      "Epoch 695/2000:  35%|▎| 694/2000 [1:01:25<1:46:12,  4.88s/it, v_num=1, recon=284, r2_mean=0.911, adv_loss=3.25, acc_pert=0.0595, val_recon=298, disnt_basal=0.0364, "
     ]
    },
    {
     "name": "stderr",
     "output_type": "stream",
     "text": [
      "\n",
      "Epoch 00694: cpa_metric reached. Module best state updated.\n"
     ]
    },
    {
     "name": "stdout",
     "output_type": "stream",
     "text": [
      "Epoch 700/2000:  35%|▎| 699/2000 [1:01:52<1:53:48,  5.25s/it, v_num=1, recon=284, r2_mean=0.91, adv_loss=3.25, acc_pert=0.0591, val_recon=298, disnt_basal=0.0362, d\n",
      "disnt_basal = 0.03670970023317615\n",
      "disnt_after = 0.44570705727638005\n",
      "val_r2_mean = 0.8937438462673459\n",
      "val_r2_var = 0.09935562427999195\n",
      "Epoch 705/2000:  35%|▎| 704/2000 [1:02:18<1:45:41,  4.89s/it, v_num=1, recon=284, r2_mean=0.911, adv_loss=3.25, acc_pert=0.0595, val_recon=298, disnt_basal=0.0367, "
     ]
    },
    {
     "name": "stderr",
     "output_type": "stream",
     "text": [
      "\n",
      "Epoch 00704: cpa_metric reached. Module best state updated.\n"
     ]
    },
    {
     "name": "stdout",
     "output_type": "stream",
     "text": [
      "Epoch 710/2000:  35%|▎| 709/2000 [1:02:42<1:43:15,  4.80s/it, v_num=1, recon=284, r2_mean=0.911, adv_loss=3.25, acc_pert=0.0612, val_recon=298, disnt_basal=0.037, d\n",
      "disnt_basal = 0.037309022890092185\n",
      "disnt_after = 0.4457495031346207\n",
      "val_r2_mean = 0.8902417531719913\n",
      "val_r2_var = 0.10292421627526331\n",
      "Epoch 720/2000:  36%|▎| 719/2000 [1:03:34<1:45:03,  4.92s/it, v_num=1, recon=284, r2_mean=0.911, adv_loss=3.25, acc_pert=0.0603, val_recon=298, disnt_basal=0.0364, \n",
      "disnt_basal = 0.036842367871053994\n",
      "disnt_after = 0.4450511873515745\n",
      "val_r2_mean = 0.8909749441877358\n",
      "val_r2_var = 0.10391460070799004\n",
      "Epoch 725/2000:  36%|▎| 724/2000 [1:03:58<1:38:36,  4.64s/it, v_num=1, recon=284, r2_mean=0.91, adv_loss=3.25, acc_pert=0.0607, val_recon=298, disnt_basal=0.0368, d"
     ]
    },
    {
     "name": "stderr",
     "output_type": "stream",
     "text": [
      "\n",
      "Epoch 00724: cpa_metric reached. Module best state updated.\n"
     ]
    },
    {
     "name": "stdout",
     "output_type": "stream",
     "text": [
      "Epoch 730/2000:  36%|▎| 729/2000 [1:04:21<1:36:02,  4.53s/it, v_num=1, recon=284, r2_mean=0.91, adv_loss=3.25, acc_pert=0.0603, val_recon=298, disnt_basal=0.0363, d\n",
      "disnt_basal = 0.03663022960539272\n",
      "disnt_after = 0.448380010854619\n",
      "val_r2_mean = 0.8915369666802146\n",
      "val_r2_var = 0.10246540616442275\n",
      "Epoch 740/2000:  37%|▎| 739/2000 [1:05:14<1:45:09,  5.00s/it, v_num=1, recon=284, r2_mean=0.91, adv_loss=3.25, acc_pert=0.06, val_recon=298, disnt_basal=0.0375, dis\n",
      "disnt_basal = 0.03777215611285156\n",
      "disnt_after = 0.44809439976141086\n",
      "val_r2_mean = 0.8885821260587133\n",
      "val_r2_var = 0.10233010948707762\n",
      "Epoch 750/2000:  37%|▎| 749/2000 [1:06:08<1:47:13,  5.14s/it, v_num=1, recon=284, r2_mean=0.91, adv_loss=3.25, acc_pert=0.0606, val_recon=298, disnt_basal=0.0375, d"
     ]
    },
    {
     "name": "stderr",
     "output_type": "stream",
     "text": [
      "\n",
      "Epoch 00749: cpa_metric reached. Module best state updated.\n"
     ]
    },
    {
     "name": "stdout",
     "output_type": "stream",
     "text": [
      "\n",
      "disnt_basal = 0.03700660245252934\n",
      "disnt_after = 0.45031468084863013\n",
      "val_r2_mean = 0.8914047599965752\n",
      "val_r2_var = 0.1029148965541392\n",
      "Epoch 760/2000:  38%|▍| 759/2000 [1:06:59<1:50:14,  5.33s/it, v_num=1, recon=284, r2_mean=0.911, adv_loss=3.25, acc_pert=0.0601, val_recon=298, disnt_basal=0.0374, \n",
      "disnt_basal = 0.03752217701209392\n",
      "disnt_after = 0.44911394924113796\n",
      "val_r2_mean = 0.8917144974474153\n",
      "val_r2_var = 0.10057639333134148\n",
      "Epoch 765/2000:  38%|▍| 764/2000 [1:07:25<1:44:32,  5.08s/it, v_num=1, recon=284, r2_mean=0.91, adv_loss=3.25, acc_pert=0.0608, val_recon=298, disnt_basal=0.0375, d"
     ]
    },
    {
     "name": "stderr",
     "output_type": "stream",
     "text": [
      "\n",
      "Epoch 00764: cpa_metric reached. Module best state updated.\n"
     ]
    },
    {
     "name": "stdout",
     "output_type": "stream",
     "text": [
      "Epoch 770/2000:  38%|▍| 769/2000 [1:07:51<1:46:59,  5.22s/it, v_num=1, recon=283, r2_mean=0.91, adv_loss=3.25, acc_pert=0.0597, val_recon=298, disnt_basal=0.0362, d\n",
      "disnt_basal = 0.036699503328990836\n",
      "disnt_after = 0.4519787931707727\n",
      "val_r2_mean = 0.8918180116499315\n",
      "val_r2_var = 0.09845207235227128\n",
      "Epoch 780/2000:  39%|▍| 779/2000 [1:08:41<1:41:20,  4.98s/it, v_num=1, recon=284, r2_mean=0.911, adv_loss=3.25, acc_pert=0.059, val_recon=298, disnt_basal=0.0373, d\n",
      "disnt_basal = 0.03642122789844608\n",
      "disnt_after = 0.452352580402648\n",
      "val_r2_mean = 0.8892529039641052\n",
      "val_r2_var = 0.09933660189218085\n",
      "Epoch 790/2000:  39%|▍| 789/2000 [1:09:33<1:43:48,  5.14s/it, v_num=1, recon=283, r2_mean=0.91, adv_loss=3.25, acc_pert=0.061, val_recon=298, disnt_basal=0.0364, di\n",
      "disnt_basal = 0.03771083639699075\n",
      "disnt_after = 0.45225326862482673\n",
      "val_r2_mean = 0.8910395412425308\n",
      "val_r2_var = 0.09890052850645956\n",
      "Epoch 795/2000:  40%|▍| 794/2000 [1:10:00<1:45:27,  5.25s/it, v_num=1, recon=283, r2_mean=0.91, adv_loss=3.25, acc_pert=0.0606, val_recon=298, disnt_basal=0.0377, d"
     ]
    },
    {
     "name": "stderr",
     "output_type": "stream",
     "text": [
      "\n",
      "Epoch 00794: cpa_metric reached. Module best state updated.\n"
     ]
    },
    {
     "name": "stdout",
     "output_type": "stream",
     "text": [
      "Epoch 800/2000:  40%|▍| 799/2000 [1:10:27<1:42:52,  5.14s/it, v_num=1, recon=283, r2_mean=0.91, adv_loss=3.25, acc_pert=0.0607, val_recon=298, disnt_basal=0.0361, d"
     ]
    },
    {
     "name": "stderr",
     "output_type": "stream",
     "text": [
      "\n",
      "Epoch 00799: cpa_metric reached. Module best state updated.\n"
     ]
    },
    {
     "name": "stdout",
     "output_type": "stream",
     "text": [
      "\n",
      "disnt_basal = 0.03611304910381619\n",
      "disnt_after = 0.4553586914645175\n",
      "val_r2_mean = 0.89198706192354\n",
      "val_r2_var = 0.10138181403059318\n",
      "Epoch 810/2000:  40%|▍| 809/2000 [1:11:18<1:42:25,  5.16s/it, v_num=1, recon=283, r2_mean=0.91, adv_loss=3.25, acc_pert=0.0596, val_recon=298, disnt_basal=0.0365, d\n",
      "disnt_basal = 0.03695387563992167\n",
      "disnt_after = 0.4550482796742944\n",
      "val_r2_mean = 0.8892697151214833\n",
      "val_r2_var = 0.10339556872551382\n",
      "Epoch 815/2000:  41%|▍| 814/2000 [1:11:42<1:35:16,  4.82s/it, v_num=1, recon=283, r2_mean=0.91, adv_loss=3.25, acc_pert=0.0591, val_recon=298, disnt_basal=0.037, di"
     ]
    },
    {
     "name": "stderr",
     "output_type": "stream",
     "text": [
      "\n",
      "Epoch 00814: cpa_metric reached. Module best state updated.\n"
     ]
    },
    {
     "name": "stdout",
     "output_type": "stream",
     "text": [
      "Epoch 820/2000:  41%|▍| 819/2000 [1:12:06<1:32:14,  4.69s/it, v_num=1, recon=283, r2_mean=0.911, adv_loss=3.25, acc_pert=0.0607, val_recon=298, disnt_basal=0.0362, \n",
      "disnt_basal = 0.036257694598400864\n",
      "disnt_after = 0.4554863339042932\n",
      "val_r2_mean = 0.8895610667238331\n",
      "val_r2_var = 0.10285133865947273\n",
      "Epoch 830/2000:  41%|▍| 829/2000 [1:12:57<1:39:48,  5.11s/it, v_num=1, recon=283, r2_mean=0.91, adv_loss=3.25, acc_pert=0.0598, val_recon=298, disnt_basal=0.0367, d\n",
      "disnt_basal = 0.03687036048705764\n",
      "disnt_after = 0.45642566381832855\n",
      "val_r2_mean = 0.8893461859587468\n",
      "val_r2_var = 0.10009308375092067\n",
      "Epoch 840/2000:  42%|▍| 839/2000 [1:13:48<1:38:39,  5.10s/it, v_num=1, recon=283, r2_mean=0.911, adv_loss=3.25, acc_pert=0.0617, val_recon=298, disnt_basal=0.0372, "
     ]
    },
    {
     "name": "stderr",
     "output_type": "stream",
     "text": [
      "\n",
      "Epoch 00839: cpa_metric reached. Module best state updated.\n"
     ]
    },
    {
     "name": "stdout",
     "output_type": "stream",
     "text": [
      "\n",
      "disnt_basal = 0.03691229119552883\n",
      "disnt_after = 0.45738072042942846\n",
      "val_r2_mean = 0.8915622606159523\n",
      "val_r2_var = 0.10286841115257463\n",
      "Epoch 845/2000:  42%|▍| 844/2000 [1:14:16<1:46:33,  5.53s/it, v_num=1, recon=283, r2_mean=0.911, adv_loss=3.25, acc_pert=0.0612, val_recon=298, disnt_basal=0.0369, "
     ]
    },
    {
     "name": "stderr",
     "output_type": "stream",
     "text": [
      "\n",
      "Epoch 00844: cpa_metric reached. Module best state updated.\n"
     ]
    },
    {
     "name": "stdout",
     "output_type": "stream",
     "text": [
      "Epoch 850/2000:  42%|▍| 849/2000 [1:14:41<1:35:16,  4.97s/it, v_num=1, recon=283, r2_mean=0.911, adv_loss=3.25, acc_pert=0.0598, val_recon=298, disnt_basal=0.0362, "
     ]
    },
    {
     "name": "stderr",
     "output_type": "stream",
     "text": [
      "\n",
      "Epoch 00849: cpa_metric reached. Module best state updated.\n"
     ]
    },
    {
     "name": "stdout",
     "output_type": "stream",
     "text": [
      "\n",
      "disnt_basal = 0.03599777638687563\n",
      "disnt_after = 0.45887359587297144\n",
      "val_r2_mean = 0.8890643041543286\n",
      "val_r2_var = 0.10205622072573063\n",
      "Epoch 855/2000:  43%|▍| 854/2000 [1:15:05<1:31:24,  4.79s/it, v_num=1, recon=283, r2_mean=0.91, adv_loss=3.25, acc_pert=0.0613, val_recon=298, disnt_basal=0.036, di"
     ]
    },
    {
     "name": "stderr",
     "output_type": "stream",
     "text": [
      "\n",
      "Epoch 00854: cpa_metric reached. Module best state updated.\n"
     ]
    },
    {
     "name": "stdout",
     "output_type": "stream",
     "text": [
      "Epoch 860/2000:  43%|▍| 859/2000 [1:15:32<1:40:07,  5.26s/it, v_num=1, recon=283, r2_mean=0.911, adv_loss=3.25, acc_pert=0.0602, val_recon=298, disnt_basal=0.0367, "
     ]
    },
    {
     "name": "stderr",
     "output_type": "stream",
     "text": [
      "\n",
      "Epoch 00859: cpa_metric reached. Module best state updated.\n"
     ]
    },
    {
     "name": "stdout",
     "output_type": "stream",
     "text": [
      "\n",
      "disnt_basal = 0.036366721022704614\n",
      "disnt_after = 0.46129682342398703\n",
      "val_r2_mean = 0.8910098227105961\n",
      "val_r2_var = 0.10207808480921016\n",
      "Epoch 870/2000:  43%|▍| 869/2000 [1:16:22<1:37:41,  5.18s/it, v_num=1, recon=283, r2_mean=0.911, adv_loss=3.25, acc_pert=0.0626, val_recon=298, disnt_basal=0.0369, \n",
      "disnt_basal = 0.037074300682486336\n",
      "disnt_after = 0.46055152856178005\n",
      "val_r2_mean = 0.8853191376133798\n",
      "val_r2_var = 0.10023294755505394\n",
      "Epoch 880/2000:  44%|▍| 879/2000 [1:17:17<1:35:25,  5.11s/it, v_num=1, recon=283, r2_mean=0.91, adv_loss=3.25, acc_pert=0.06, val_recon=298, disnt_basal=0.0375, dis\n",
      "disnt_basal = 0.03727012843757672\n",
      "disnt_after = 0.46114355609458696\n",
      "val_r2_mean = 0.8898677422542765\n",
      "val_r2_var = 0.10554987974841183\n",
      "Epoch 885/2000:  44%|▍| 884/2000 [1:17:45<1:42:00,  5.48s/it, v_num=1, recon=283, r2_mean=0.91, adv_loss=3.25, acc_pert=0.0598, val_recon=298, disnt_basal=0.0373, d"
     ]
    },
    {
     "name": "stderr",
     "output_type": "stream",
     "text": [
      "\n",
      "Epoch 00884: cpa_metric reached. Module best state updated.\n"
     ]
    },
    {
     "name": "stdout",
     "output_type": "stream",
     "text": [
      "Epoch 890/2000:  44%|▍| 889/2000 [1:18:11<1:34:30,  5.10s/it, v_num=1, recon=283, r2_mean=0.911, adv_loss=3.25, acc_pert=0.0613, val_recon=298, disnt_basal=0.0362, \n",
      "disnt_basal = 0.03665110998262136\n",
      "disnt_after = 0.46130080191245\n",
      "val_r2_mean = 0.8911823375457867\n",
      "val_r2_var = 0.1019413993013427\n",
      "Epoch 895/2000:  45%|▍| 894/2000 [1:18:36<1:32:07,  5.00s/it, v_num=1, recon=283, r2_mean=0.91, adv_loss=3.25, acc_pert=0.061, val_recon=298, disnt_basal=0.0367, di"
     ]
    },
    {
     "name": "stderr",
     "output_type": "stream",
     "text": [
      "\n",
      "Epoch 00894: cpa_metric reached. Module best state updated.\n"
     ]
    },
    {
     "name": "stdout",
     "output_type": "stream",
     "text": [
      "Epoch 900/2000:  45%|▍| 899/2000 [1:19:04<1:39:39,  5.43s/it, v_num=1, recon=283, r2_mean=0.91, adv_loss=3.25, acc_pert=0.0585, val_recon=298, disnt_basal=0.0366, d\n",
      "disnt_basal = 0.0370782092755135\n",
      "disnt_after = 0.4636864374404766\n",
      "val_r2_mean = 0.8912020508287732\n",
      "val_r2_var = 0.10014112629874386\n",
      "Epoch 910/2000:  45%|▍| 909/2000 [1:19:53<1:27:04,  4.79s/it, v_num=1, recon=283, r2_mean=0.911, adv_loss=3.25, acc_pert=0.0611, val_recon=298, disnt_basal=0.0369, \n",
      "disnt_basal = 0.036374834322801246\n",
      "disnt_after = 0.4612106017288099\n",
      "val_r2_mean = 0.8920243499471067\n",
      "val_r2_var = 0.10408691576773933\n",
      "Epoch 915/2000:  46%|▍| 914/2000 [1:20:19<1:30:59,  5.03s/it, v_num=1, recon=283, r2_mean=0.911, adv_loss=3.25, acc_pert=0.0625, val_recon=298, disnt_basal=0.0364, "
     ]
    },
    {
     "name": "stderr",
     "output_type": "stream",
     "text": [
      "\n",
      "Epoch 00914: cpa_metric reached. Module best state updated.\n"
     ]
    },
    {
     "name": "stdout",
     "output_type": "stream",
     "text": [
      "Epoch 920/2000:  46%|▍| 919/2000 [1:20:44<1:30:02,  5.00s/it, v_num=1, recon=283, r2_mean=0.911, adv_loss=3.25, acc_pert=0.0627, val_recon=298, disnt_basal=0.037, d"
     ]
    },
    {
     "name": "stderr",
     "output_type": "stream",
     "text": [
      "\n",
      "Epoch 00919: cpa_metric reached. Module best state updated.\n"
     ]
    },
    {
     "name": "stdout",
     "output_type": "stream",
     "text": [
      "\n",
      "disnt_basal = 0.036573942203558\n",
      "disnt_after = 0.4646661429671729\n",
      "val_r2_mean = 0.8917369412437247\n",
      "val_r2_var = 0.10487741642558986\n",
      "Epoch 930/2000:  46%|▍| 929/2000 [1:21:40<1:40:25,  5.63s/it, v_num=1, recon=283, r2_mean=0.911, adv_loss=3.25, acc_pert=0.0608, val_recon=298, disnt_basal=0.0371, \n",
      "disnt_basal = 0.036478389240590374\n",
      "disnt_after = 0.46399547772443805\n",
      "val_r2_mean = 0.8911033260701884\n",
      "val_r2_var = 0.10186832280271382\n",
      "Epoch 935/2000:  47%|▍| 934/2000 [1:22:06<1:33:38,  5.27s/it, v_num=1, recon=283, r2_mean=0.91, adv_loss=3.25, acc_pert=0.06, val_recon=299, disnt_basal=0.0365, dis"
     ]
    },
    {
     "name": "stderr",
     "output_type": "stream",
     "text": [
      "\n",
      "Epoch 00934: cpa_metric reached. Module best state updated.\n"
     ]
    },
    {
     "name": "stdout",
     "output_type": "stream",
     "text": [
      "Epoch 940/2000:  47%|▍| 939/2000 [1:22:37<1:45:55,  5.99s/it, v_num=1, recon=283, r2_mean=0.91, adv_loss=3.25, acc_pert=0.0614, val_recon=298, disnt_basal=0.0363, d\n",
      "disnt_basal = 0.03646974724250476\n",
      "disnt_after = 0.46476328747495543\n",
      "val_r2_mean = 0.8886070608691333\n",
      "val_r2_var = 0.10257682756141379\n",
      "Epoch 950/2000:  47%|▍| 949/2000 [1:23:34<1:44:14,  5.95s/it, v_num=1, recon=283, r2_mean=0.912, adv_loss=3.25, acc_pert=0.0601, val_recon=298, disnt_basal=0.0377, "
     ]
    },
    {
     "name": "stderr",
     "output_type": "stream",
     "text": [
      "\n",
      "Epoch 00949: cpa_metric reached. Module best state updated.\n"
     ]
    },
    {
     "name": "stdout",
     "output_type": "stream",
     "text": [
      "\n",
      "disnt_basal = 0.037329775709070374\n",
      "disnt_after = 0.46880360667069304\n",
      "val_r2_mean = 0.8921147667429232\n",
      "val_r2_var = 0.10172776952366606\n",
      "Epoch 960/2000:  48%|▍| 959/2000 [1:24:29<1:42:59,  5.94s/it, v_num=1, recon=283, r2_mean=0.91, adv_loss=3.25, acc_pert=0.0583, val_recon=298, disnt_basal=0.0372, d\n",
      "disnt_basal = 0.03681699023511587\n",
      "disnt_after = 0.466953910702774\n",
      "val_r2_mean = 0.8907865590148872\n",
      "val_r2_var = 0.10182215489892879\n",
      "Epoch 970/2000:  48%|▍| 969/2000 [1:25:21<1:25:19,  4.97s/it, v_num=1, recon=283, r2_mean=0.911, adv_loss=3.25, acc_pert=0.0586, val_recon=298, disnt_basal=0.0363, \n",
      "disnt_basal = 0.03670673842115808\n",
      "disnt_after = 0.467945228548909\n",
      "val_r2_mean = 0.8918138611149954\n",
      "val_r2_var = 0.1035151850201558\n",
      "Epoch 980/2000:  49%|▍| 979/2000 [1:26:14<1:23:30,  4.91s/it, v_num=1, recon=283, r2_mean=0.911, adv_loss=3.25, acc_pert=0.0593, val_recon=298, disnt_basal=0.0363, "
     ]
    },
    {
     "name": "stderr",
     "output_type": "stream",
     "text": [
      "\n",
      "Epoch 00979: cpa_metric reached. Module best state updated.\n"
     ]
    },
    {
     "name": "stdout",
     "output_type": "stream",
     "text": [
      "\n",
      "disnt_basal = 0.036712574490125265\n",
      "disnt_after = 0.4686405208530479\n",
      "val_r2_mean = 0.8920903894234988\n",
      "val_r2_var = 0.10633154890754005\n",
      "Epoch 985/2000:  49%|▍| 984/2000 [1:26:39<1:25:22,  5.04s/it, v_num=1, recon=283, r2_mean=0.911, adv_loss=3.25, acc_pert=0.0605, val_recon=298, disnt_basal=0.0367, "
     ]
    },
    {
     "name": "stderr",
     "output_type": "stream",
     "text": [
      "\n",
      "Epoch 00984: cpa_metric reached. Module best state updated.\n"
     ]
    },
    {
     "name": "stdout",
     "output_type": "stream",
     "text": [
      "Epoch 990/2000:  49%|▍| 989/2000 [1:27:03<1:19:41,  4.73s/it, v_num=1, recon=283, r2_mean=0.91, adv_loss=3.25, acc_pert=0.058, val_recon=298, disnt_basal=0.0365, di\n",
      "disnt_basal = 0.03670100599049584\n",
      "disnt_after = 0.4704187027138044\n",
      "val_r2_mean = 0.8903693548758022\n",
      "val_r2_var = 0.10237807878340131\n",
      "Epoch 1000/2000:  50%|▍| 999/2000 [1:27:51<1:17:09,  4.62s/it, v_num=1, recon=283, r2_mean=0.911, adv_loss=3.25, acc_pert=0.0622, val_recon=298, disnt_basal=0.0369,\n",
      "disnt_basal = 0.03718881449675588\n",
      "disnt_after = 0.47125506551256513\n",
      "val_r2_mean = 0.8906526735056809\n",
      "val_r2_var = 0.10242265241345544\n",
      "Epoch 1010/2000:  50%|▌| 1009/2000 [1:28:50<1:37:52,  5.93s/it, v_num=1, recon=283, r2_mean=0.91, adv_loss=3.25, acc_pert=0.061, val_recon=298, disnt_basal=0.0379, \n",
      "disnt_basal = 0.03722013523944356\n",
      "disnt_after = 0.4709726295985513\n",
      "val_r2_mean = 0.8924883900587808\n",
      "val_r2_var = 0.10437701114500411\n",
      "Epoch 1020/2000:  51%|▌| 1019/2000 [1:29:43<1:25:37,  5.24s/it, v_num=1, recon=283, r2_mean=0.911, adv_loss=3.25, acc_pert=0.062, val_recon=298, disnt_basal=0.0367,\n",
      "disnt_basal = 0.03665118079109533\n",
      "disnt_after = 0.47104773461048166\n",
      "val_r2_mean = 0.891055327376934\n",
      "val_r2_var = 0.10250752970827147\n",
      "Epoch 1030/2000:  51%|▌| 1029/2000 [1:30:39<1:27:15,  5.39s/it, v_num=1, recon=283, r2_mean=0.911, adv_loss=3.25, acc_pert=0.0617, val_recon=299, disnt_basal=0.0377\n",
      "disnt_basal = 0.036299745270516486\n",
      "disnt_after = 0.4708457273766451\n",
      "val_r2_mean = 0.8903018517124934\n",
      "val_r2_var = 0.10478236257829249\n",
      "Epoch 1035/2000:  52%|▌| 1035/2000 [1:31:11<1:25:01,  5.29s/it, v_num=1, recon=283, r2_mean=0.91, adv_loss=3.25, acc_pert=0.0596, val_recon=298, disnt_basal=0.0367,\n"
     ]
    }
   ],
   "source": [
    "model.train(max_epochs=2000,\n",
    "            use_gpu=True,\n",
    "            batch_size=512,\n",
    "            plan_kwargs=trainer_params,\n",
    "            early_stopping_patience=10,\n",
    "            check_val_every_n_epoch=5,\n",
    "            save_path=\"/lustre/groups/ml01/workspace/ot_perturbation/models/chemcpa/combosciplex\",\n",
    "           )"
   ]
  },
  {
   "cell_type": "code",
   "execution_count": 17,
   "id": "183dc9f7-de95-4e8f-899a-3de4a2bfc9cc",
   "metadata": {},
   "outputs": [
    {
     "name": "stderr",
     "output_type": "stream",
     "text": [
      "100%|██████████████████████████████████████████████████████████████████████████████████████████████████████████████████████████| 1997/1997 [00:07<00:00, 259.78it/s]\n"
     ]
    }
   ],
   "source": [
    "model.predict(adata_combined)"
   ]
  },
  {
   "cell_type": "code",
   "execution_count": 18,
   "id": "b47e4294-382e-4f7f-956d-dc3ef7f40cad",
   "metadata": {},
   "outputs": [],
   "source": [
    "adata_combined.write(\n",
    "    \"/lustre/groups/ml01/workspace/ot_perturbation/models/chemcpa/combosciplex/adata_with_predictions_30.h5ad\"\n",
    ")"
   ]
  }
 ],
 "metadata": {
  "kernelspec": {
   "display_name": "ot_pert_cpa",
   "language": "python",
   "name": "ot_pert_cpa"
  },
  "language_info": {
   "codemirror_mode": {
    "name": "ipython",
    "version": 3
   },
   "file_extension": ".py",
   "mimetype": "text/x-python",
   "name": "python",
   "nbconvert_exporter": "python",
   "pygments_lexer": "ipython3",
   "version": "3.9.19"
  }
 },
 "nbformat": 4,
 "nbformat_minor": 5
}
