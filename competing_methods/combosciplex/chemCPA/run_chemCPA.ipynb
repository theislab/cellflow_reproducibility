{
 "cells": [
  {
   "cell_type": "code",
   "execution_count": 1,
   "id": "4bbc5965-37b5-415a-8f75-3c042ca2fd20",
   "metadata": {},
   "outputs": [
    {
     "name": "stderr",
     "output_type": "stream",
     "text": [
      "[rank: 0] Global seed set to 0\n",
      "2024-06-13 14:50:56,061\tINFO util.py:154 -- Missing packages: ['ipywidgets']. Run `pip install -U ipywidgets`, then restart the notebook server for rich notebook output.\n",
      "2024-06-13 14:50:59,698\tINFO util.py:154 -- Missing packages: ['ipywidgets']. Run `pip install -U ipywidgets`, then restart the notebook server for rich notebook output.\n"
     ]
    }
   ],
   "source": [
    "import cpa\n",
    "import scanpy as sc"
   ]
  },
  {
   "cell_type": "code",
   "execution_count": 2,
   "id": "1cfb5c56-361d-4403-9324-f35c8629e83b",
   "metadata": {},
   "outputs": [],
   "source": [
    "adata_train_path = \"/lustre/groups/ml01/workspace/ot_perturbation/data/combosciplex/adata_train_30.h5ad\"\n",
    "adata_test_path = \"/lustre/groups/ml01/workspace/ot_perturbation/data/combosciplex/adata_test_30.h5ad\"\n",
    "adata_ood_path = \"/lustre/groups/ml01/workspace/ot_perturbation/data/combosciplex/adata_ood_30.h5ad\""
   ]
  },
  {
   "cell_type": "code",
   "execution_count": 3,
   "id": "b4a7e157-bb65-4bc7-b14b-00f9f6ba475a",
   "metadata": {},
   "outputs": [],
   "source": [
    "adata_train = sc.read(adata_train_path)\n",
    "adata_test = sc.read(adata_test_path)\n",
    "adata_ood = sc.read(adata_ood_path)"
   ]
  },
  {
   "cell_type": "code",
   "execution_count": 4,
   "id": "ecf8697d-7b1c-4352-89ff-09e03060fe31",
   "metadata": {},
   "outputs": [],
   "source": [
    "import anndata\n",
    "\n",
    "adata_combined = anndata.concat((adata_train, adata_test, adata_ood), label=\"split\", keys=[\"train\", \"test\", \"ood\"])"
   ]
  },
  {
   "cell_type": "code",
   "execution_count": 5,
   "id": "5545607a-7867-4171-a9b9-1b9249843e07",
   "metadata": {},
   "outputs": [
    {
     "name": "stderr",
     "output_type": "stream",
     "text": [
      "Downloading...\n",
      "From (original): https://drive.google.com/uc?export=download&id=1RRV0_qYKGTvD3oCklKfoZQFYqKJy4l6t\n",
      "From (redirected): https://drive.google.com/uc?export=download&id=1RRV0_qYKGTvD3oCklKfoZQFYqKJy4l6t&confirm=t&uuid=90b7a52d-05fd-4cbe-9851-1834d228f0fb\n",
      "To: /ictstr01/home/icb/dominik.klein/git_repos/ot_pert_new/competing_methods/combosciplex/chemCPA/combo_sciplex_prep_hvg_filtered.h5ad\n",
      "100%|████████████████████████████████████████████████████████████████████████████████████████████████████████████| 490M/490M [00:13<00:00, 35.6MB/s]\n"
     ]
    },
    {
     "data": {
      "text/plain": [
       "AnnData object with n_obs × n_vars = 63378 × 5000\n",
       "    obs: 'ncounts', 'well', 'plate', 'cell_line', 'replicate', 'time', 'dose_value', 'pathway1', 'pathway2', 'perturbation', 'target', 'pathway', 'dose_unit', 'celltype', 'disease', 'tissue_type', 'organism', 'perturbation_type', 'ngenes', 'percent_mito', 'percent_ribo', 'nperts', 'chembl-ID', 'condition', 'condition_ID', 'control', 'cell_type', 'smiles_rdkit', 'source', 'sample', 'Size_Factor', 'n.umi', 'RT_well', 'Drug1', 'Drug2', 'Well', 'n_genes', 'n_genes_by_counts', 'total_counts', 'total_counts_mt', 'pct_counts_mt', 'leiden', 'split', 'condition_old', 'pert_type', 'batch', 'split_1ct_MEC', 'split_2ct_MEC', 'split_3ct_MEC', 'batch_cov', 'batch_cov_cond', 'log_dose', 'cov_drug_dose'\n",
       "    var: 'ensembl_id-0', 'ncounts-0', 'ncells-0', 'symbol-0', 'symbol-1', 'id-1', 'n_cells-1', 'mt-1', 'n_cells_by_counts-1', 'mean_counts-1', 'pct_dropout_by_counts-1', 'total_counts-1', 'highly_variable-1', 'means-1', 'dispersions-1', 'dispersions_norm-1', 'highly_variable', 'means', 'dispersions', 'dispersions_norm', 'highly_variable_nbatches', 'highly_variable_intersection'\n",
       "    uns: 'cell_type_colors', 'hvg', 'neighbors', 'pathway1_colors', 'pca', 'rank_genes_groups_cov', 'rank_genes_groups_cov_detailed', 'source_colors', 'umap'\n",
       "    obsm: 'X_pca', 'X_umap'\n",
       "    varm: 'PCs'\n",
       "    layers: 'counts'\n",
       "    obsp: 'connectivities', 'distances'"
      ]
     },
     "execution_count": 5,
     "metadata": {},
     "output_type": "execute_result"
    }
   ],
   "source": [
    "try:\n",
    "    adata = sc.read(data_path)\n",
    "except:\n",
    "    import gdown\n",
    "    gdown.download('https://drive.google.com/uc?export=download&id=1RRV0_qYKGTvD3oCklKfoZQFYqKJy4l6t')\n",
    "    data_path = 'combo_sciplex_prep_hvg_filtered.h5ad'\n",
    "    adata = sc.read(data_path)\n",
    "\n",
    "adata"
   ]
  },
  {
   "cell_type": "code",
   "execution_count": 6,
   "id": "5e6c367c-3472-4073-9d22-bcade241c88e",
   "metadata": {},
   "outputs": [],
   "source": [
    "adata.obs[\"index\"] = adata.obs_names.values\n",
    "adata.obs[\"index_adapted\"] = adata.obs.apply(lambda x: x[\"index\"][:-2], axis=1)\n",
    "adata.obs.set_index(\"index_adapted\", inplace=True)"
   ]
  },
  {
   "cell_type": "code",
   "execution_count": 7,
   "id": "7fb1edea-44c1-4d88-aaa2-cb51e50ea26a",
   "metadata": {},
   "outputs": [],
   "source": [
    "adata_combined.obs[\"cov_drug_dose\"] = adata.obs[\"cov_drug_dose\"]\n",
    "adata_combined.obs[\"condition_ID\"] = adata.obs[\"condition_ID\"]\n",
    "adata_combined.obs[\"log_dose\"] = adata.obs[\"log_dose\"]\n",
    "adata_combined.obs[\"smiles_rdkit\"] = adata.obs[\"smiles_rdkit\"]"
   ]
  },
  {
   "cell_type": "code",
   "execution_count": 8,
   "id": "d84952c9-df06-409a-bca9-211f7a9d613a",
   "metadata": {},
   "outputs": [],
   "source": [
    "frac_valid = adata[adata.obs[\"split_1ct_MEC\"] == \"valid\"].n_obs / (\n",
    "    adata[adata.obs[\"split_1ct_MEC\"] == \"valid\"].n_obs + adata[adata.obs[\"split_1ct_MEC\"] == \"train\"].n_obs\n",
    ")"
   ]
  },
  {
   "cell_type": "code",
   "execution_count": 9,
   "id": "78a50d55-575b-4a87-9ddb-85fd048c54a0",
   "metadata": {},
   "outputs": [],
   "source": [
    "import numpy as np\n",
    "\n",
    "\n",
    "def create_split(x):\n",
    "    if x[\"split\"] != \"train\":\n",
    "        return x[\"split\"]\n",
    "    is_train = np.random.choice(2, p=[frac_valid, 1 - frac_valid])\n",
    "    if is_train:\n",
    "        return \"train_train\"\n",
    "    return \"train_valid\"\n",
    "\n",
    "\n",
    "adata_combined.obs[\"split_1ct_MEC\"] = adata_combined.obs.apply(create_split, axis=1)"
   ]
  },
  {
   "cell_type": "code",
   "execution_count": 10,
   "id": "1cf5d571-b524-4773-a8c6-0751c5542416",
   "metadata": {},
   "outputs": [],
   "source": [
    "adata_combined.obs[\"condition_ID\"] = adata_combined.obs[\"condition_ID\"].cat.remove_unused_categories()"
   ]
  },
  {
   "cell_type": "code",
   "execution_count": 11,
   "id": "1572582a-0240-4313-bd94-cdef253ed75d",
   "metadata": {},
   "outputs": [
    {
     "data": {
      "text/plain": [
       "Drug2\n",
       "control    1951\n",
       "Name: count, dtype: int64"
      ]
     },
     "execution_count": 11,
     "metadata": {},
     "output_type": "execute_result"
    }
   ],
   "source": [
    "adata_combined[adata_combined.obs[\"log_dose\"]==\"1.0\"].obs[\"Drug2\"].value_counts()"
   ]
  },
  {
   "cell_type": "code",
   "execution_count": 12,
   "id": "2a631a3a-e2f8-44b5-82a0-fc03e64393ab",
   "metadata": {},
   "outputs": [
    {
     "name": "stderr",
     "output_type": "stream",
     "text": [
      "100%|██████████████████████████████████████████████████████████████████████████████████████████████████████| 63878/63878 [00:00<00:00, 69569.68it/s]\n",
      "100%|█████████████████████████████████████████████████████████████████████████████████████████████████████| 63878/63878 [00:00<00:00, 887285.20it/s]\n",
      "An NVIDIA GPU may be present on this machine, but a CUDA-enabled jaxlib is not installed. Falling back to cpu.\n"
     ]
    },
    {
     "name": "stdout",
     "output_type": "stream",
     "text": [
      "\u001b[34mINFO    \u001b[0m Generating sequential column names                                                                        \n",
      "\u001b[34mINFO    \u001b[0m Generating sequential column names                                                                        \n"
     ]
    }
   ],
   "source": [
    "cpa.CPA.setup_anndata(adata_combined,\n",
    "                      perturbation_key='condition_ID',\n",
    "                      dosage_key='log_dose',\n",
    "                      control_group='CHEMBL504',\n",
    "                      batch_key=None,\n",
    "                      smiles_key='smiles_rdkit',\n",
    "                      is_count_data=False,\n",
    "                      categorical_covariate_keys=['cell_type'],\n",
    "                      #deg_uns_key='rank_genes_groups_cov',\n",
    "                      deg_uns_cat_key='cov_drug_dose',\n",
    "                      max_comb_len=2,\n",
    "                     )"
   ]
  },
  {
   "cell_type": "code",
   "execution_count": 13,
   "id": "05c346cd-c37f-4ded-8eef-ccab1866f773",
   "metadata": {},
   "outputs": [],
   "source": [
    "ae_hparams = {'n_latent': 64,\n",
    " 'recon_loss': 'gauss',\n",
    " 'doser_type': 'linear',\n",
    " 'n_hidden_encoder': 256,\n",
    " 'n_layers_encoder': 3,\n",
    " 'n_hidden_decoder': 512,\n",
    " 'n_layers_decoder': 2,\n",
    " 'use_batch_norm_encoder': True,\n",
    " 'use_layer_norm_encoder': False,\n",
    " 'use_batch_norm_decoder': True,\n",
    " 'use_layer_norm_decoder': False,\n",
    " 'dropout_rate_encoder': 0.25,\n",
    " 'dropout_rate_decoder': 0.25,\n",
    " 'variational': False,\n",
    " 'seed': 6478}\n",
    "\n",
    "trainer_params = {'n_epochs_kl_warmup': None,\n",
    " 'n_epochs_pretrain_ae': 50,\n",
    " 'n_epochs_adv_warmup': 100,\n",
    " 'n_epochs_mixup_warmup': 10,\n",
    " 'mixup_alpha': 0.1,\n",
    " 'adv_steps': None,\n",
    " 'n_hidden_adv': 128,\n",
    " 'n_layers_adv': 3,\n",
    " 'use_batch_norm_adv': False,\n",
    " 'use_layer_norm_adv': False,\n",
    " 'dropout_rate_adv': 0.2,\n",
    " 'reg_adv': 10.0,\n",
    " 'pen_adv': 0.1,\n",
    " 'lr': 0.0003,\n",
    " 'wd': 4e-07,\n",
    " 'adv_lr': 0.0003,\n",
    " 'adv_wd': 4e-07,\n",
    " 'adv_loss': 'cce',\n",
    " 'doser_lr': 0.0003,\n",
    " 'doser_wd': 4e-07,\n",
    " 'do_clip_grad': False,\n",
    " 'gradient_clip_value': 1.0,\n",
    " 'step_size_lr': 10}"
   ]
  },
  {
   "cell_type": "code",
   "execution_count": 14,
   "id": "c84f5678-b3a4-4821-8bc0-ad9aa4765509",
   "metadata": {},
   "outputs": [
    {
     "name": "stdout",
     "output_type": "stream",
     "text": [
      "(18, 2048)\n"
     ]
    },
    {
     "name": "stderr",
     "output_type": "stream",
     "text": [
      "[rank: 0] Global seed set to 6478\n"
     ]
    }
   ],
   "source": [
    "model = cpa.CPA(adata=adata_combined,\n",
    "                split_key='split_1ct_MEC',\n",
    "                train_split='train_train',\n",
    "                valid_split='train_valid',\n",
    "                test_split='ood',\n",
    "                use_rdkit_embeddings=True,\n",
    "                **ae_hparams,\n",
    "               )"
   ]
  },
  {
   "cell_type": "code",
   "execution_count": 15,
   "id": "7aa54639-827b-4de5-a926-6d029d4ea1e7",
   "metadata": {},
   "outputs": [],
   "source": [
    "adata_combined.obs[\"cell_type\"] = adata_combined.obs[\"cell_line\"]"
   ]
  },
  {
   "cell_type": "code",
   "execution_count": 16,
   "id": "5b1637da-13c9-46c4-920e-511de77e5be3",
   "metadata": {},
   "outputs": [
    {
     "name": "stderr",
     "output_type": "stream",
     "text": [
      "100%|███████████████████████████████████████████████████████████████████████████████████████████████████████████████| 32/32 [00:00<00:00, 96.94it/s]\n",
      "GPU available: True (cuda), used: True\n",
      "TPU available: False, using: 0 TPU cores\n",
      "IPU available: False, using: 0 IPUs\n",
      "HPU available: False, using: 0 HPUs\n",
      "You are using a CUDA device ('NVIDIA A100-PCIE-40GB MIG 3g.20gb') that has Tensor Cores. To properly utilize them, you should set `torch.set_float32_matmul_precision('medium' | 'high')` which will trade-off precision for performance. For more details, read https://pytorch.org/docs/stable/generated/torch.set_float32_matmul_precision.html#torch.set_float32_matmul_precision\n",
      "LOCAL_RANK: 0 - CUDA_VISIBLE_DEVICES: [MIG-5e9a7bb6-017a-5431-af98-01fe948e1fa7]\n"
     ]
    },
    {
     "name": "stdout",
     "output_type": "stream",
     "text": [
      "Epoch 5/200:   2%|▌                           | 4/200 [01:03<49:36, 15.19s/it, v_num=1, recon=-2.4e+3, r2_mean=0.908, adv_loss=2.43, acc_pert=0.159]"
     ]
    },
    {
     "name": "stderr",
     "output_type": "stream",
     "text": [
      "\n",
      "Epoch 00004: cpa_metric reached. Module best state updated.\n"
     ]
    },
    {
     "name": "stdout",
     "output_type": "stream",
     "text": [
      "Epoch 10/200:   4%| | 9/200 [02:20<47:01, 14.77s/it, v_num=1, recon=-2.84e+3, r2_mean=0.917, adv_loss=2.43, acc_pert=0.161, val_recon=-2.63e+3, disn\n",
      "disnt_basal = 0.10023544475944983\n",
      "disnt_after = 0.2093423000771\n",
      "val_r2_mean = 0.9068656471982209\n",
      "val_r2_var = 0.7022016308709644\n",
      "Epoch 20/200:  10%| | 19/200 [04:50<44:09, 14.64s/it, v_num=1, recon=-3.1e+3, r2_mean=0.927, adv_loss=2.46, acc_pert=0.169, val_recon=-2.96e+3, disn\n",
      "disnt_basal = 0.08754760966955556\n",
      "disnt_after = 0.16194057205328866\n",
      "val_r2_mean = 0.914450406024753\n",
      "val_r2_var = 0.7235883323833195\n",
      "Epoch 30/200:  14%|▏| 29/200 [07:19<41:29, 14.56s/it, v_num=1, recon=-3.28e+3, r2_mean=0.929, adv_loss=2.48, acc_pert=0.167, val_recon=-3.14e+3, dis\n",
      "disnt_basal = 0.07508656842179848\n",
      "disnt_after = 0.13501464316608144\n",
      "val_r2_mean = 0.9236708014340512\n",
      "val_r2_var = 0.7457544010576576\n",
      "Epoch 40/200:  20%|▏| 39/200 [09:48<38:59, 14.53s/it, v_num=1, recon=-3.41e+3, r2_mean=0.929, adv_loss=2.54, acc_pert=0.155, val_recon=-3.3e+3, disn\n",
      "disnt_basal = 0.06513779404708926\n",
      "disnt_after = 0.12330505964930386\n",
      "val_r2_mean = 0.9225735668381456\n",
      "val_r2_var = 0.7407885695547367\n",
      "Epoch 50/200:  24%|▏| 49/200 [12:17<36:31, 14.51s/it, v_num=1, recon=-3.51e+3, r2_mean=0.93, adv_loss=2.57, acc_pert=0.157, val_recon=-3.39e+3, disn\n",
      "disnt_basal = 0.060145269408854694\n",
      "disnt_after = 0.12222965254726209\n",
      "val_r2_mean = 0.9224691820465755\n",
      "val_r2_var = 0.7426935819664386\n",
      "Epoch 55/200:  28%|▎| 55/200 [13:53<36:36, 15.15s/it, v_num=1, recon=-3.56e+3, r2_mean=0.931, adv_loss=2.58, acc_pert=0.161, val_recon=-3.43e+3, dis\n"
     ]
    }
   ],
   "source": [
    "model.train(max_epochs=200,\n",
    "            use_gpu=True,\n",
    "            batch_size=512,\n",
    "            plan_kwargs=trainer_params,\n",
    "            early_stopping_patience=10,\n",
    "            check_val_every_n_epoch=5,\n",
    "            save_path=\"/lustre/groups/ml01/workspace/ot_perturbation/models/chemcpa/combosciplex\",\n",
    "           )"
   ]
  },
  {
   "cell_type": "code",
   "execution_count": 17,
   "id": "093f41be-6140-42e4-9d29-8f25c039bfda",
   "metadata": {},
   "outputs": [],
   "source": [
    "ctrl_adata = adata_ood[adata_ood.obs['condition'] == 'control'].copy()"
   ]
  },
  {
   "cell_type": "code",
   "execution_count": 18,
   "id": "03585179-f203-4a87-989a-2c44b66841c4",
   "metadata": {},
   "outputs": [],
   "source": [
    "adata_combined.layers[\"X_true\"] = adata_combined.X\n",
    "adata_combined.X = ctrl_adata.X[np.random.choice(ctrl_adata.n_obs, size=adata_combined.n_obs, replace=True), :]"
   ]
  },
  {
   "cell_type": "code",
   "execution_count": 19,
   "id": "b567b991-aa56-456b-86f1-3898951adfbc",
   "metadata": {},
   "outputs": [
    {
     "name": "stderr",
     "output_type": "stream",
     "text": [
      "100%|███████████████████████████████████████████████████████████████████████████████████████████████████████████| 1997/1997 [01:20<00:00, 24.68it/s]\n"
     ]
    }
   ],
   "source": [
    "model.predict(adata_combined)"
   ]
  },
  {
   "cell_type": "code",
   "execution_count": 20,
   "id": "b86c8c7c-dda4-4f39-b73c-ac76cdd9a22a",
   "metadata": {},
   "outputs": [],
   "source": [
    "adata_combined.X = adata_combined.layers[\"X_true\"]"
   ]
  },
  {
   "cell_type": "code",
   "execution_count": 21,
   "id": "b47e4294-382e-4f7f-956d-dc3ef7f40cad",
   "metadata": {},
   "outputs": [],
   "source": [
    "adata_combined.write(\n",
    "    \"/lustre/groups/ml01/workspace/ot_perturbation/models/chemcpa/combosciplex/adata_with_predictions_30.h5ad\"\n",
    ")"
   ]
  },
  {
   "cell_type": "code",
   "execution_count": null,
   "id": "1102e814-e997-4454-9c0c-b2e0d7a9fecc",
   "metadata": {},
   "outputs": [],
   "source": []
  }
 ],
 "metadata": {
  "kernelspec": {
   "display_name": "ot_pert_cpa",
   "language": "python",
   "name": "ot_pert_cpa"
  },
  "language_info": {
   "codemirror_mode": {
    "name": "ipython",
    "version": 3
   },
   "file_extension": ".py",
   "mimetype": "text/x-python",
   "name": "python",
   "nbconvert_exporter": "python",
   "pygments_lexer": "ipython3",
   "version": "3.9.19"
  }
 },
 "nbformat": 4,
 "nbformat_minor": 5
}
