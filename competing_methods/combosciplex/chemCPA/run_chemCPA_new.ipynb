{
 "cells": [
  {
   "cell_type": "code",
   "execution_count": 1,
   "id": "4bbc5965-37b5-415a-8f75-3c042ca2fd20",
   "metadata": {},
   "outputs": [
    {
     "name": "stderr",
     "output_type": "stream",
     "text": [
      "[rank: 0] Global seed set to 0\n",
      "2024-06-13 11:02:01,998\tINFO util.py:154 -- Missing packages: ['ipywidgets']. Run `pip install -U ipywidgets`, then restart the notebook server for rich notebook output.\n",
      "2024-06-13 11:02:05,318\tINFO util.py:154 -- Missing packages: ['ipywidgets']. Run `pip install -U ipywidgets`, then restart the notebook server for rich notebook output.\n"
     ]
    }
   ],
   "source": [
    "import cpa\n",
    "import scanpy as sc"
   ]
  },
  {
   "cell_type": "code",
   "execution_count": 2,
   "id": "1cfb5c56-361d-4403-9324-f35c8629e83b",
   "metadata": {},
   "outputs": [],
   "source": [
    "adata_train_path = \"/lustre/groups/ml01/workspace/ot_perturbation/data/combosciplex/adata_train_new.h5ad\"\n",
    "adata_test_path = \"/lustre/groups/ml01/workspace/ot_perturbation/data/combosciplex/adata_test_new.h5ad\"\n",
    "adata_ood_path = \"/lustre/groups/ml01/workspace/ot_perturbation/data/combosciplex/adata_ood_new.h5ad\""
   ]
  },
  {
   "cell_type": "code",
   "execution_count": 3,
   "id": "b4a7e157-bb65-4bc7-b14b-00f9f6ba475a",
   "metadata": {},
   "outputs": [],
   "source": [
    "adata_train = sc.read(adata_train_path)\n",
    "adata_test = sc.read(adata_test_path)\n",
    "adata_ood = sc.read(adata_ood_path)"
   ]
  },
  {
   "cell_type": "code",
   "execution_count": 4,
   "id": "ecf8697d-7b1c-4352-89ff-09e03060fe31",
   "metadata": {},
   "outputs": [],
   "source": [
    "import anndata\n",
    "\n",
    "adata_combined = anndata.concat((adata_train, adata_test, adata_ood), label=\"split\", keys=[\"train\", \"test\", \"ood\"])"
   ]
  },
  {
   "cell_type": "code",
   "execution_count": 5,
   "id": "5545607a-7867-4171-a9b9-1b9249843e07",
   "metadata": {},
   "outputs": [
    {
     "name": "stderr",
     "output_type": "stream",
     "text": [
      "Downloading...\n",
      "From (original): https://drive.google.com/uc?export=download&id=1RRV0_qYKGTvD3oCklKfoZQFYqKJy4l6t\n",
      "From (redirected): https://drive.google.com/uc?export=download&id=1RRV0_qYKGTvD3oCklKfoZQFYqKJy4l6t&confirm=t&uuid=7fbfb23e-7fec-422c-a4c4-419c633f574a\n",
      "To: /ictstr01/home/icb/dominik.klein/git_repos/ot_pert_new/competing_methods/combosciplex/chemCPA/combo_sciplex_prep_hvg_filtered.h5ad\n",
      "100%|████████████████████████████████████████████████████████████████████████████████████████████████████████████████████████████| 490M/490M [00:09<00:00, 53.0MB/s]\n"
     ]
    },
    {
     "data": {
      "text/plain": [
       "AnnData object with n_obs × n_vars = 63378 × 5000\n",
       "    obs: 'ncounts', 'well', 'plate', 'cell_line', 'replicate', 'time', 'dose_value', 'pathway1', 'pathway2', 'perturbation', 'target', 'pathway', 'dose_unit', 'celltype', 'disease', 'tissue_type', 'organism', 'perturbation_type', 'ngenes', 'percent_mito', 'percent_ribo', 'nperts', 'chembl-ID', 'condition', 'condition_ID', 'control', 'cell_type', 'smiles_rdkit', 'source', 'sample', 'Size_Factor', 'n.umi', 'RT_well', 'Drug1', 'Drug2', 'Well', 'n_genes', 'n_genes_by_counts', 'total_counts', 'total_counts_mt', 'pct_counts_mt', 'leiden', 'split', 'condition_old', 'pert_type', 'batch', 'split_1ct_MEC', 'split_2ct_MEC', 'split_3ct_MEC', 'batch_cov', 'batch_cov_cond', 'log_dose', 'cov_drug_dose'\n",
       "    var: 'ensembl_id-0', 'ncounts-0', 'ncells-0', 'symbol-0', 'symbol-1', 'id-1', 'n_cells-1', 'mt-1', 'n_cells_by_counts-1', 'mean_counts-1', 'pct_dropout_by_counts-1', 'total_counts-1', 'highly_variable-1', 'means-1', 'dispersions-1', 'dispersions_norm-1', 'highly_variable', 'means', 'dispersions', 'dispersions_norm', 'highly_variable_nbatches', 'highly_variable_intersection'\n",
       "    uns: 'cell_type_colors', 'hvg', 'neighbors', 'pathway1_colors', 'pca', 'rank_genes_groups_cov', 'rank_genes_groups_cov_detailed', 'source_colors', 'umap'\n",
       "    obsm: 'X_pca', 'X_umap'\n",
       "    varm: 'PCs'\n",
       "    layers: 'counts'\n",
       "    obsp: 'connectivities', 'distances'"
      ]
     },
     "execution_count": 5,
     "metadata": {},
     "output_type": "execute_result"
    }
   ],
   "source": [
    "try:\n",
    "    adata = sc.read(data_path)\n",
    "except:\n",
    "    import gdown\n",
    "    gdown.download('https://drive.google.com/uc?export=download&id=1RRV0_qYKGTvD3oCklKfoZQFYqKJy4l6t')\n",
    "    data_path = 'combo_sciplex_prep_hvg_filtered.h5ad'\n",
    "    adata = sc.read(data_path)\n",
    "\n",
    "adata"
   ]
  },
  {
   "cell_type": "code",
   "execution_count": 6,
   "id": "5e6c367c-3472-4073-9d22-bcade241c88e",
   "metadata": {},
   "outputs": [],
   "source": [
    "adata.obs[\"index\"] = adata.obs_names.values\n",
    "adata.obs[\"index_adapted\"] = adata.obs.apply(lambda x: x[\"index\"][:-2], axis=1)\n",
    "adata.obs.set_index(\"index_adapted\", inplace=True)"
   ]
  },
  {
   "cell_type": "code",
   "execution_count": 7,
   "id": "7fb1edea-44c1-4d88-aaa2-cb51e50ea26a",
   "metadata": {},
   "outputs": [],
   "source": [
    "adata_combined.obs[\"cov_drug_dose\"] = adata.obs[\"cov_drug_dose\"]\n",
    "adata_combined.obs[\"condition_ID\"] = adata.obs[\"condition_ID\"]\n",
    "adata_combined.obs[\"log_dose\"] = adata.obs[\"log_dose\"]\n",
    "adata_combined.obs[\"smiles_rdkit\"] = adata.obs[\"smiles_rdkit\"]"
   ]
  },
  {
   "cell_type": "code",
   "execution_count": 8,
   "id": "d84952c9-df06-409a-bca9-211f7a9d613a",
   "metadata": {},
   "outputs": [],
   "source": [
    "frac_valid = adata[adata.obs[\"split_1ct_MEC\"] == \"valid\"].n_obs / (\n",
    "    adata[adata.obs[\"split_1ct_MEC\"] == \"valid\"].n_obs + adata[adata.obs[\"split_1ct_MEC\"] == \"train\"].n_obs\n",
    ")"
   ]
  },
  {
   "cell_type": "code",
   "execution_count": 9,
   "id": "78a50d55-575b-4a87-9ddb-85fd048c54a0",
   "metadata": {},
   "outputs": [],
   "source": [
    "import numpy as np\n",
    "\n",
    "\n",
    "def create_split(x):\n",
    "    if x[\"split\"] != \"train\":\n",
    "        return x[\"split\"]\n",
    "    is_train = np.random.choice(2, p=[frac_valid, 1 - frac_valid])\n",
    "    if is_train:\n",
    "        return \"train_train\"\n",
    "    return \"train_valid\"\n",
    "\n",
    "\n",
    "adata_combined.obs[\"split_1ct_MEC\"] = adata_combined.obs.apply(create_split, axis=1)"
   ]
  },
  {
   "cell_type": "code",
   "execution_count": 10,
   "id": "1cf5d571-b524-4773-a8c6-0751c5542416",
   "metadata": {},
   "outputs": [],
   "source": [
    "adata_combined.obs[\"condition_ID\"] = adata_combined.obs[\"condition_ID\"].cat.remove_unused_categories()"
   ]
  },
  {
   "cell_type": "code",
   "execution_count": 11,
   "id": "1572582a-0240-4313-bd94-cdef253ed75d",
   "metadata": {},
   "outputs": [
    {
     "data": {
      "text/plain": [
       "Drug2\n",
       "control    1951\n",
       "Name: count, dtype: int64"
      ]
     },
     "execution_count": 11,
     "metadata": {},
     "output_type": "execute_result"
    }
   ],
   "source": [
    "adata_combined[adata_combined.obs[\"log_dose\"]==\"1.0\"].obs[\"Drug2\"].value_counts()"
   ]
  },
  {
   "cell_type": "code",
   "execution_count": 12,
   "id": "2a631a3a-e2f8-44b5-82a0-fc03e64393ab",
   "metadata": {},
   "outputs": [
    {
     "name": "stderr",
     "output_type": "stream",
     "text": [
      "100%|██████████████████████████████████████████████████████████████████████████████████████████████████████████████████████| 63878/63878 [00:00<00:00, 75161.50it/s]\n",
      "100%|█████████████████████████████████████████████████████████████████████████████████████████████████████████████████████| 63878/63878 [00:00<00:00, 914543.51it/s]\n",
      "An NVIDIA GPU may be present on this machine, but a CUDA-enabled jaxlib is not installed. Falling back to cpu.\n"
     ]
    },
    {
     "name": "stdout",
     "output_type": "stream",
     "text": [
      "\u001b[34mINFO    \u001b[0m Generating sequential column names                                                                        \n",
      "\u001b[34mINFO    \u001b[0m Generating sequential column names                                                                        \n"
     ]
    }
   ],
   "source": [
    "cpa.CPA.setup_anndata(adata_combined,\n",
    "                      perturbation_key='condition_ID',\n",
    "                      dosage_key='log_dose',\n",
    "                      control_group='CHEMBL504',\n",
    "                      batch_key=None,\n",
    "                      smiles_key='smiles_rdkit',\n",
    "                      is_count_data=False,\n",
    "                      categorical_covariate_keys=['cell_type'],\n",
    "                      #deg_uns_key='rank_genes_groups_cov',\n",
    "                      deg_uns_cat_key='cov_drug_dose',\n",
    "                      max_comb_len=2,\n",
    "                     )"
   ]
  },
  {
   "cell_type": "code",
   "execution_count": 13,
   "id": "05c346cd-c37f-4ded-8eef-ccab1866f773",
   "metadata": {},
   "outputs": [],
   "source": [
    "ae_hparams = {'n_latent': 64,\n",
    " 'recon_loss': 'gauss',\n",
    " 'doser_type': 'linear',\n",
    " 'n_hidden_encoder': 256,\n",
    " 'n_layers_encoder': 3,\n",
    " 'n_hidden_decoder': 512,\n",
    " 'n_layers_decoder': 2,\n",
    " 'use_batch_norm_encoder': True,\n",
    " 'use_layer_norm_encoder': False,\n",
    " 'use_batch_norm_decoder': True,\n",
    " 'use_layer_norm_decoder': False,\n",
    " 'dropout_rate_encoder': 0.25,\n",
    " 'dropout_rate_decoder': 0.25,\n",
    " 'variational': False,\n",
    " 'seed': 6478}\n",
    "\n",
    "trainer_params = {'n_epochs_kl_warmup': None,\n",
    " 'n_epochs_pretrain_ae': 50,\n",
    " 'n_epochs_adv_warmup': 100,\n",
    " 'n_epochs_mixup_warmup': 10,\n",
    " 'mixup_alpha': 0.1,\n",
    " 'adv_steps': None,\n",
    " 'n_hidden_adv': 128,\n",
    " 'n_layers_adv': 3,\n",
    " 'use_batch_norm_adv': False,\n",
    " 'use_layer_norm_adv': False,\n",
    " 'dropout_rate_adv': 0.2,\n",
    " 'reg_adv': 10.0,\n",
    " 'pen_adv': 0.1,\n",
    " 'lr': 0.0003,\n",
    " 'wd': 4e-07,\n",
    " 'adv_lr': 0.0003,\n",
    " 'adv_wd': 4e-07,\n",
    " 'adv_loss': 'cce',\n",
    " 'doser_lr': 0.0003,\n",
    " 'doser_wd': 4e-07,\n",
    " 'do_clip_grad': False,\n",
    " 'gradient_clip_value': 1.0,\n",
    " 'step_size_lr': 10}"
   ]
  },
  {
   "cell_type": "code",
   "execution_count": 14,
   "id": "c84f5678-b3a4-4821-8bc0-ad9aa4765509",
   "metadata": {},
   "outputs": [
    {
     "name": "stdout",
     "output_type": "stream",
     "text": [
      "(18, 2048)\n"
     ]
    },
    {
     "name": "stderr",
     "output_type": "stream",
     "text": [
      "[rank: 0] Global seed set to 6478\n"
     ]
    }
   ],
   "source": [
    "model = cpa.CPA(adata=adata_combined,\n",
    "                split_key='split_1ct_MEC',\n",
    "                train_split='train_train',\n",
    "                valid_split='train_valid',\n",
    "                test_split='ood',\n",
    "                use_rdkit_embeddings=True,\n",
    "                **ae_hparams,\n",
    "               )"
   ]
  },
  {
   "cell_type": "code",
   "execution_count": 15,
   "id": "7aa54639-827b-4de5-a926-6d029d4ea1e7",
   "metadata": {},
   "outputs": [],
   "source": [
    "adata_combined.obs[\"cell_type\"] = adata_combined.obs[\"cell_line\"]"
   ]
  },
  {
   "cell_type": "code",
   "execution_count": 16,
   "id": "5b1637da-13c9-46c4-920e-511de77e5be3",
   "metadata": {},
   "outputs": [
    {
     "name": "stderr",
     "output_type": "stream",
     "text": [
      "100%|██████████████████████████████████████████████████████████████████████████████████████████████████████████████████████████████| 32/32 [00:00<00:00, 123.78it/s]\n",
      "GPU available: True (cuda), used: True\n",
      "TPU available: False, using: 0 TPU cores\n",
      "IPU available: False, using: 0 IPUs\n",
      "HPU available: False, using: 0 HPUs\n",
      "LOCAL_RANK: 0 - CUDA_VISIBLE_DEVICES: [0]\n"
     ]
    },
    {
     "name": "stdout",
     "output_type": "stream",
     "text": [
      "Epoch 5/200:   2%|▊                                          | 4/200 [00:28<20:24,  6.25s/it, v_num=1, recon=-2.39e+3, r2_mean=0.907, adv_loss=2.44, acc_pert=0.156]"
     ]
    },
    {
     "name": "stderr",
     "output_type": "stream",
     "text": [
      "\n",
      "Epoch 00004: cpa_metric reached. Module best state updated.\n"
     ]
    },
    {
     "name": "stdout",
     "output_type": "stream",
     "text": [
      "Epoch 10/200:   4%| | 9/200 [00:59<18:24,  5.78s/it, v_num=1, recon=-2.83e+3, r2_mean=0.916, adv_loss=2.44, acc_pert=0.163, val_recon=-2.65e+3, disnt_basal=0.109, d\n",
      "disnt_basal = 0.09917668116696307\n",
      "disnt_after = 0.20717983636016388\n",
      "val_r2_mean = 0.9022722885008065\n",
      "val_r2_var = 0.6954540890365849\n",
      "Epoch 20/200:  10%| | 19/200 [01:56<16:47,  5.56s/it, v_num=1, recon=-3.08e+3, r2_mean=0.926, adv_loss=2.49, acc_pert=0.166, val_recon=-2.98e+3, disnt_basal=0.0914,\n",
      "disnt_basal = 0.08592579873530391\n",
      "disnt_after = 0.16174887846745697\n",
      "val_r2_mean = 0.9129891468860485\n",
      "val_r2_var = 0.7201845693427706\n",
      "Epoch 30/200:  14%|▏| 29/200 [02:51<15:30,  5.44s/it, v_num=1, recon=-3.26e+3, r2_mean=0.928, adv_loss=2.48, acc_pert=0.16, val_recon=-3.12e+3, disnt_basal=0.0774, \n",
      "disnt_basal = 0.07246674392738112\n",
      "disnt_after = 0.14197039525027536\n",
      "val_r2_mean = 0.9121840428623685\n",
      "val_r2_var = 0.7217648796422652\n",
      "Epoch 40/200:  20%|▏| 39/200 [03:45<14:17,  5.32s/it, v_num=1, recon=-3.4e+3, r2_mean=0.929, adv_loss=2.52, acc_pert=0.166, val_recon=-3.25e+3, disnt_basal=0.0693, \n",
      "disnt_basal = 0.06399376646503188\n",
      "disnt_after = 0.13037809379901186\n",
      "val_r2_mean = 0.9113493393165897\n",
      "val_r2_var = 0.7251925762994584\n",
      "Epoch 50/200:  24%|▏| 49/200 [04:39<13:30,  5.36s/it, v_num=1, recon=-3.5e+3, r2_mean=0.93, adv_loss=2.55, acc_pert=0.163, val_recon=-3.37e+3, disnt_basal=0.0633, d\n",
      "disnt_basal = 0.06064997809653036\n",
      "disnt_after = 0.12030918688724679\n",
      "val_r2_mean = 0.9166048972939279\n",
      "val_r2_var = 0.7276328220895855\n",
      "Epoch 55/200:  28%|▎| 55/200 [05:13<13:47,  5.71s/it, v_num=1, recon=-3.55e+3, r2_mean=0.931, adv_loss=2.59, acc_pert=0.16, val_recon=-3.46e+3, disnt_basal=0.0581, \n"
     ]
    }
   ],
   "source": [
    "model.train(max_epochs=200,\n",
    "            use_gpu=True,\n",
    "            batch_size=512,\n",
    "            plan_kwargs=trainer_params,\n",
    "            early_stopping_patience=10,\n",
    "            check_val_every_n_epoch=5,\n",
    "            save_path=\"/lustre/groups/ml01/workspace/ot_perturbation/models/chemcpa/combosciplex\",\n",
    "           )"
   ]
  },
  {
   "cell_type": "code",
   "execution_count": 17,
   "id": "183dc9f7-de95-4e8f-899a-3de4a2bfc9cc",
   "metadata": {},
   "outputs": [
    {
     "name": "stderr",
     "output_type": "stream",
     "text": [
      "100%|██████████████████████████████████████████████████████████████████████████████████████████████████████████████████████████| 1997/1997 [00:07<00:00, 273.46it/s]\n"
     ]
    }
   ],
   "source": [
    "model.predict(adata_combined)"
   ]
  },
  {
   "cell_type": "code",
   "execution_count": 18,
   "id": "b47e4294-382e-4f7f-956d-dc3ef7f40cad",
   "metadata": {},
   "outputs": [],
   "source": [
    "adata_combined.write(\n",
    "    \"/lustre/groups/ml01/workspace/ot_perturbation/models/chemcpa/combosciplex/adata_with_predictions_new.h5ad\"\n",
    ")"
   ]
  },
  {
   "cell_type": "code",
   "execution_count": null,
   "id": "41570fc6-1b68-4948-a81e-a1fdd8799439",
   "metadata": {},
   "outputs": [],
   "source": []
  }
 ],
 "metadata": {
  "kernelspec": {
   "display_name": "ot_pert_cpa",
   "language": "python",
   "name": "ot_pert_cpa"
  },
  "language_info": {
   "codemirror_mode": {
    "name": "ipython",
    "version": 3
   },
   "file_extension": ".py",
   "mimetype": "text/x-python",
   "name": "python",
   "nbconvert_exporter": "python",
   "pygments_lexer": "ipython3",
   "version": "3.9.19"
  }
 },
 "nbformat": 4,
 "nbformat_minor": 5
}
