{
 "cells": [
  {
   "cell_type": "code",
   "execution_count": 1,
   "id": "1395d093-8d3e-48c0-8ffb-7e864854f3a5",
   "metadata": {},
   "outputs": [
    {
     "name": "stderr",
     "output_type": "stream",
     "text": [
      "/home/icb/dominik.klein/mambaforge/envs/cfp/lib/python3.11/site-packages/tqdm/auto.py:21: TqdmWarning: IProgress not found. Please update jupyter and ipywidgets. See https://ipywidgets.readthedocs.io/en/stable/user_install.html\n",
      "  from .autonotebook import tqdm as notebook_tqdm\n"
     ]
    }
   ],
   "source": [
    "import functools\n",
    "\n",
    "import jax\n",
    "import numpy as np\n",
    "import scanpy as sc\n",
    "\n",
    "from cfp.metrics import compute_mean_metrics, compute_metrics, compute_metrics_fast\n",
    "import cfp.preprocessing as cfpp"
   ]
  },
  {
   "cell_type": "code",
   "execution_count": 2,
   "id": "34291a02-90e4-44ff-9ecd-7ec81aa42b43",
   "metadata": {},
   "outputs": [],
   "source": [
    "split = 2"
   ]
  },
  {
   "cell_type": "code",
   "execution_count": 3,
   "id": "07027cac-18fd-4ef8-b54e-09315f9ae6eb",
   "metadata": {
    "scrolled": true
   },
   "outputs": [
    {
     "name": "stderr",
     "output_type": "stream",
     "text": [
      "/home/icb/dominik.klein/mambaforge/envs/cfp/lib/python3.11/site-packages/anndata/_core/anndata.py:1818: UserWarning: Observation names are not unique. To make them unique, call `.obs_names_make_unique`.\n",
      "  utils.warn_names_duplicates(\"obs\")\n"
     ]
    }
   ],
   "source": [
    "adata_preds = sc.read(f\"/lustre/groups/ml01/workspace/ot_perturbation/models/chemcpa/combosciplex/adata_with_predictions_{split}.h5ad\")"
   ]
  },
  {
   "cell_type": "code",
   "execution_count": 4,
   "id": "862ac848-95cb-4c9f-8846-9b46b29d265e",
   "metadata": {},
   "outputs": [],
   "source": [
    "adata_train_path = f\"/lustre/groups/ml01/workspace/ot_perturbation/data/combosciplex/adata_train_{split}.h5ad\"\n",
    "adata_test_path = f\"/lustre/groups/ml01/workspace/ot_perturbation/data/combosciplex/adata_test_{split}.h5ad\"\n",
    "adata_ood_path = f\"/lustre/groups/ml01/workspace/ot_perturbation/data/combosciplex/adata_ood_{split}.h5ad\""
   ]
  },
  {
   "cell_type": "code",
   "execution_count": 5,
   "id": "091f2f81-d713-4a2a-a003-37c5db5d3bc7",
   "metadata": {},
   "outputs": [],
   "source": [
    "adata_train = sc.read(adata_train_path)\n",
    "adata_test = sc.read(adata_test_path)\n",
    "adata_ood = sc.read(adata_ood_path)"
   ]
  },
  {
   "cell_type": "code",
   "execution_count": 6,
   "id": "5f7df9d8-66d9-42bb-bcb6-dbd8db9a4454",
   "metadata": {},
   "outputs": [],
   "source": [
    "adata_ref_test = adata_test[adata_test.obs[\"condition\"]!=\"control\"].copy()\n",
    "cfpp.centered_pca(adata_ref_test, n_comps=10)\n",
    "\n",
    "adata_ref_ood = adata_ood[adata_ood.obs[\"condition\"]!=\"control\"].copy()\n",
    "cfpp.centered_pca(adata_ref_ood, n_comps=10)"
   ]
  },
  {
   "cell_type": "code",
   "execution_count": 7,
   "id": "c2541151-a591-4df2-ada0-948a6cb268fc",
   "metadata": {
    "scrolled": true
   },
   "outputs": [
    {
     "name": "stderr",
     "output_type": "stream",
     "text": [
      "/tmp/ipykernel_1428482/2350350615.py:2: ImplicitModificationWarning: Setting element `.layers['CPA_PRED']` of view, initializing view as actual.\n",
      "  adata_pred_test.layers[\"CPA_PRED\"] = adata_pred_test.obsm[\"CPA_pred\"]\n",
      "/tmp/ipykernel_1428482/2350350615.py:18: ImplicitModificationWarning: Setting element `.layers['CPA_PRED']` of view, initializing view as actual.\n",
      "  adata_pred_ood.layers[\"CPA_PRED\"] = adata_pred_ood.obsm[\"CPA_pred\"]\n"
     ]
    }
   ],
   "source": [
    "adata_pred_test = adata_preds[adata_preds.obs[\"split\"]==\"test\"]\n",
    "adata_pred_test.layers[\"CPA_PRED\"] = adata_pred_test.obsm[\"CPA_pred\"]\n",
    "cfpp.project_pca(query_adata=adata_pred_test, ref_adata=adata_ref_test, layer=\"CPA_PRED\")\n",
    "cfpp.project_pca(query_adata=adata_test, ref_adata=adata_ref_test)\n",
    "test_data_target_encoded = {}\n",
    "test_data_target_decoded = {}\n",
    "test_data_target_encoded_predicted = {}\n",
    "test_data_target_decoded_predicted = {}\n",
    "for cond in adata_test.obs[\"condition\"].cat.categories:\n",
    "    if cond == \"control\":\n",
    "        continue\n",
    "    test_data_target_encoded[cond] = adata_test[adata_test.obs[\"condition\"] == cond].obsm[\"X_pca\"]\n",
    "    test_data_target_decoded[cond] = adata_test[adata_test.obs[\"condition\"] == cond].X.toarray()\n",
    "    test_data_target_decoded_predicted[cond] = adata_pred_test[adata_pred_test.obs[\"condition\"] == cond].obsm[\"CPA_pred\"]\n",
    "    test_data_target_encoded_predicted[cond] = adata_pred_test[adata_pred_test.obs[\"condition\"] == cond].obsm[\"X_pca\"]\n",
    "\n",
    "adata_pred_ood = adata_preds[adata_preds.obs[\"split\"]==\"ood\"]\n",
    "adata_pred_ood.layers[\"CPA_PRED\"] = adata_pred_ood.obsm[\"CPA_pred\"]\n",
    "cfpp.project_pca(query_adata=adata_pred_ood, ref_adata=adata_ref_ood, layer=\"CPA_PRED\")\n",
    "cfpp.project_pca(query_adata=adata_ood, ref_adata=adata_ref_ood)\n",
    "ood_data_target_encoded = {}\n",
    "ood_data_target_decoded = {}\n",
    "ood_data_target_encoded_predicted = {}\n",
    "ood_data_target_decoded_predicted = {}\n",
    "for cond in adata_ood.obs[\"condition\"].cat.categories:\n",
    "    if cond == \"control\":\n",
    "        continue\n",
    "    ood_data_target_encoded[cond] = adata_ood[adata_ood.obs[\"condition\"] == cond].obsm[\"X_pca\"]\n",
    "    ood_data_target_decoded[cond] = adata_ood[adata_ood.obs[\"condition\"] == cond].X.toarray()\n",
    "    ood_data_target_decoded_predicted[cond] = adata_pred_ood[adata_pred_ood.obs[\"condition\"] == cond].obsm[\"CPA_pred\"]\n",
    "    ood_data_target_encoded_predicted[cond] = adata_pred_ood[adata_pred_ood.obs[\"condition\"] == cond].obsm[\"X_pca\"]"
   ]
  },
  {
   "cell_type": "code",
   "execution_count": 8,
   "id": "c9e8562b-66d1-4151-8824-a4944b4e2e85",
   "metadata": {},
   "outputs": [],
   "source": [
    "test_deg_dict = {\n",
    "    k: v\n",
    "    for k, v in adata_train.uns[\"rank_genes_groups_cov_all\"].items()\n",
    "    if k in test_data_target_decoded_predicted.keys()\n",
    "}\n",
    "ood_deg_dict = {\n",
    "    k: v\n",
    "    for k, v in adata_train.uns[\"rank_genes_groups_cov_all\"].items()\n",
    "    if k in ood_data_target_decoded_predicted.keys()\n",
    "}"
   ]
  },
  {
   "cell_type": "code",
   "execution_count": 9,
   "id": "e1fc5bf1-9976-4071-a7ac-605b1494a351",
   "metadata": {},
   "outputs": [],
   "source": [
    "def get_mask(x, y):\n",
    "    return x[:, [gene in y for gene in adata_train.var_names]]\n",
    "\n",
    "\n",
    "ood_deg_target_decoded_predicted = jax.tree_util.tree_map(get_mask, ood_data_target_decoded_predicted, ood_deg_dict)\n",
    "ood_deg_target_decoded = jax.tree_util.tree_map(get_mask, ood_data_target_decoded, ood_deg_dict)\n",
    "\n",
    "test_deg_target_decoded_predicted = jax.tree_util.tree_map(get_mask, test_data_target_decoded_predicted, test_deg_dict)\n",
    "test_deg_target_decoded = jax.tree_util.tree_map(get_mask, test_data_target_decoded, test_deg_dict)\n"
   ]
  },
  {
   "cell_type": "code",
   "execution_count": 10,
   "id": "e8d7ff42-9dbb-4635-9e68-ac3306d27af8",
   "metadata": {},
   "outputs": [],
   "source": [
    "deg_ood_metrics = jax.tree_util.tree_map(compute_metrics, ood_deg_target_decoded, ood_deg_target_decoded_predicted)\n",
    "deg_mean_ood_metrics = compute_mean_metrics(deg_ood_metrics, prefix=\"deg_ood_\")\n",
    "\n",
    "deg_test_metrics = jax.tree_util.tree_map(compute_metrics, test_deg_target_decoded, test_deg_target_decoded_predicted)\n",
    "deg_mean_test_metrics = compute_mean_metrics(deg_test_metrics, prefix=\"deg_test_\")\n"
   ]
  },
  {
   "cell_type": "code",
   "execution_count": 11,
   "id": "9e337bf1-f165-4d62-a79f-4327be259a6c",
   "metadata": {},
   "outputs": [],
   "source": [
    "test_metrics_encoded = jax.tree_util.tree_map(\n",
    "    compute_metrics, test_data_target_encoded, test_data_target_encoded_predicted\n",
    ")\n",
    "mean_test_metrics_encoded = compute_mean_metrics(test_metrics_encoded, prefix=\"encoded_test_\")\n",
    "\n",
    "test_metrics_decoded = jax.tree_util.tree_map(\n",
    "    compute_metrics_fast, test_data_target_decoded, test_data_target_decoded_predicted\n",
    ")\n",
    "mean_test_metrics_decoded = compute_mean_metrics(test_metrics_decoded, prefix=\"decoded_test_\")"
   ]
  },
  {
   "cell_type": "code",
   "execution_count": 12,
   "id": "cbdff236-b23d-4db5-b28f-a072c3ccaecf",
   "metadata": {},
   "outputs": [],
   "source": [
    "ood_metrics_encoded = jax.tree_util.tree_map(\n",
    "    compute_metrics, ood_data_target_encoded, ood_data_target_encoded_predicted\n",
    ")\n",
    "mean_ood_metrics_encoded = compute_mean_metrics(ood_metrics_encoded, prefix=\"encoded_ood_\")\n",
    "\n",
    "ood_metrics_decoded = jax.tree_util.tree_map(\n",
    "    compute_metrics, ood_data_target_decoded, ood_data_target_decoded_predicted\n",
    ")\n",
    "mean_ood_metrics_decoded = compute_mean_metrics(ood_metrics_decoded, prefix=\"decoded_ood_\")"
   ]
  },
  {
   "cell_type": "code",
   "execution_count": 13,
   "id": "3530543f-09ca-4de9-99b4-48b95bd80961",
   "metadata": {},
   "outputs": [
    {
     "data": {
      "text/plain": [
       "{'decoded_ood_r_squared': 0.6196185265268598,\n",
       " 'decoded_ood_sinkhorn_div_1': 117.42914581298828,\n",
       " 'decoded_ood_sinkhorn_div_10': 83.74657767159599,\n",
       " 'decoded_ood_sinkhorn_div_100': 37.026117597307476,\n",
       " 'decoded_ood_e_distance': 73.17683437227947,\n",
       " 'decoded_ood_mmd': 0.521114706993103}"
      ]
     },
     "execution_count": 13,
     "metadata": {},
     "output_type": "execute_result"
    }
   ],
   "source": [
    "mean_ood_metrics_decoded"
   ]
  },
  {
   "cell_type": "code",
   "execution_count": 14,
   "id": "60018b48-c646-467d-bfdb-a0b5cefae334",
   "metadata": {},
   "outputs": [
    {
     "data": {
      "text/plain": [
       "{'decoded_test_r_squared': 0.7530552869041761,\n",
       " 'decoded_test_e_distance': 48.60821243706078,\n",
       " 'decoded_test_mmd_distance': 0.5026096676786741}"
      ]
     },
     "execution_count": 14,
     "metadata": {},
     "output_type": "execute_result"
    }
   ],
   "source": [
    "mean_test_metrics_decoded"
   ]
  },
  {
   "cell_type": "code",
   "execution_count": null,
   "id": "f9c784ea-6239-40e0-8c59-44a462a9bad7",
   "metadata": {},
   "outputs": [],
   "source": []
  },
  {
   "cell_type": "code",
   "execution_count": 15,
   "id": "8c7c1e77-4a4c-49ce-b79c-52db6292814e",
   "metadata": {},
   "outputs": [
    {
     "data": {
      "text/plain": [
       "{'decoded_ood_r_squared': 0.6196185265268598,\n",
       " 'decoded_ood_sinkhorn_div_1': 117.42914581298828,\n",
       " 'decoded_ood_sinkhorn_div_10': 83.74657767159599,\n",
       " 'decoded_ood_sinkhorn_div_100': 37.026117597307476,\n",
       " 'decoded_ood_e_distance': 73.17683437227947,\n",
       " 'decoded_ood_mmd': 0.521114706993103}"
      ]
     },
     "execution_count": 15,
     "metadata": {},
     "output_type": "execute_result"
    }
   ],
   "source": [
    "mean_ood_metrics_decoded"
   ]
  },
  {
   "cell_type": "code",
   "execution_count": 16,
   "id": "914b2f8c-7960-406a-87b3-2a0b83b3c5d7",
   "metadata": {},
   "outputs": [
    {
     "data": {
      "text/plain": [
       "{'encoded_ood_r_squared': -2.7975080013275146,\n",
       " 'encoded_ood_sinkhorn_div_1': 40.55727965491159,\n",
       " 'encoded_ood_sinkhorn_div_10': 36.5319607598441,\n",
       " 'encoded_ood_sinkhorn_div_100': 35.25404030936105,\n",
       " 'encoded_ood_e_distance': 70.20893376716798,\n",
       " 'encoded_ood_mmd': 0.526747852563858}"
      ]
     },
     "execution_count": 16,
     "metadata": {},
     "output_type": "execute_result"
    }
   ],
   "source": [
    "mean_ood_metrics_encoded"
   ]
  },
  {
   "cell_type": "code",
   "execution_count": 17,
   "id": "687f3ea3-4546-4c4d-819a-4e0927442ce5",
   "metadata": {},
   "outputs": [
    {
     "data": {
      "text/plain": [
       "{'deg_ood_r_squared': 0.34591197967529297,\n",
       " 'deg_ood_sinkhorn_div_1': 31.23884037562779,\n",
       " 'deg_ood_sinkhorn_div_10': 22.39100306374686,\n",
       " 'deg_ood_sinkhorn_div_100': 21.720914840698242,\n",
       " 'deg_ood_e_distance': 43.30413815593588,\n",
       " 'deg_ood_mmd': 0.5662017209189278}"
      ]
     },
     "execution_count": 17,
     "metadata": {},
     "output_type": "execute_result"
    }
   ],
   "source": [
    "deg_mean_ood_metrics"
   ]
  },
  {
   "cell_type": "code",
   "execution_count": 18,
   "id": "1ef8107f-d103-479c-8b4a-2933ab105a62",
   "metadata": {},
   "outputs": [
    {
     "data": {
      "text/plain": [
       "{'deg_test_r_squared': 0.5647958442568779,\n",
       " 'deg_test_sinkhorn_div_1': 23.240078111489613,\n",
       " 'deg_test_sinkhorn_div_10': 14.815709034601847,\n",
       " 'deg_test_sinkhorn_div_100': 13.781193673610687,\n",
       " 'deg_test_e_distance': 27.41106275169496,\n",
       " 'deg_test_mmd': 0.5228426506121954}"
      ]
     },
     "execution_count": 18,
     "metadata": {},
     "output_type": "execute_result"
    }
   ],
   "source": [
    "deg_mean_test_metrics"
   ]
  },
  {
   "cell_type": "code",
   "execution_count": 19,
   "id": "e708f928-1654-4b93-b546-5f0b1a537def",
   "metadata": {},
   "outputs": [
    {
     "data": {
      "text/plain": [
       "{'decoded_test_r_squared': 0.7530552869041761,\n",
       " 'decoded_test_e_distance': 48.60821243706078,\n",
       " 'decoded_test_mmd_distance': 0.5026096676786741}"
      ]
     },
     "execution_count": 19,
     "metadata": {},
     "output_type": "execute_result"
    }
   ],
   "source": [
    "mean_test_metrics_decoded"
   ]
  },
  {
   "cell_type": "code",
   "execution_count": 20,
   "id": "90c58881-8511-4154-8430-507e59c498e7",
   "metadata": {},
   "outputs": [
    {
     "data": {
      "text/plain": [
       "{'decoded_ood_r_squared': 0.6196185265268598,\n",
       " 'decoded_ood_sinkhorn_div_1': 117.42914581298828,\n",
       " 'decoded_ood_sinkhorn_div_10': 83.74657767159599,\n",
       " 'decoded_ood_sinkhorn_div_100': 37.026117597307476,\n",
       " 'decoded_ood_e_distance': 73.17683437227947,\n",
       " 'decoded_ood_mmd': 0.521114706993103}"
      ]
     },
     "execution_count": 20,
     "metadata": {},
     "output_type": "execute_result"
    }
   ],
   "source": [
    "mean_ood_metrics_decoded"
   ]
  },
  {
   "cell_type": "code",
   "execution_count": 21,
   "id": "4ed6d545-6b19-4d72-887c-f5618d87d47d",
   "metadata": {},
   "outputs": [
    {
     "data": {
      "text/plain": [
       "{'deg_ood_r_squared': 0.34591197967529297,\n",
       " 'deg_ood_sinkhorn_div_1': 31.23884037562779,\n",
       " 'deg_ood_sinkhorn_div_10': 22.39100306374686,\n",
       " 'deg_ood_sinkhorn_div_100': 21.720914840698242,\n",
       " 'deg_ood_e_distance': 43.30413815593588,\n",
       " 'deg_ood_mmd': 0.5662017209189278}"
      ]
     },
     "execution_count": 21,
     "metadata": {},
     "output_type": "execute_result"
    }
   ],
   "source": [
    "deg_mean_ood_metrics"
   ]
  },
  {
   "cell_type": "code",
   "execution_count": 22,
   "id": "ee62783f-7f1d-4a1e-8c74-eeaa935881a0",
   "metadata": {},
   "outputs": [
    {
     "data": {
      "text/plain": [
       "{'decoded_test_r_squared': 0.7530552869041761,\n",
       " 'decoded_test_e_distance': 48.60821243706078,\n",
       " 'decoded_test_mmd_distance': 0.5026096676786741}"
      ]
     },
     "execution_count": 22,
     "metadata": {},
     "output_type": "execute_result"
    }
   ],
   "source": [
    "mean_test_metrics_decoded"
   ]
  },
  {
   "cell_type": "code",
   "execution_count": 23,
   "id": "014cbe29-83e0-4a37-aa82-29804107152a",
   "metadata": {},
   "outputs": [
    {
     "data": {
      "text/plain": [
       "{'encoded_test_r_squared': -0.34101922409728863,\n",
       " 'encoded_test_sinkhorn_div_1': 28.811219731966656,\n",
       " 'encoded_test_sinkhorn_div_10': 24.24452479680379,\n",
       " 'encoded_test_sinkhorn_div_100': 22.821958263715107,\n",
       " 'encoded_test_e_distance': 45.31849273684808,\n",
       " 'encoded_test_mmd': 0.4645499251782894}"
      ]
     },
     "execution_count": 23,
     "metadata": {},
     "output_type": "execute_result"
    }
   ],
   "source": [
    "mean_test_metrics_encoded"
   ]
  },
  {
   "cell_type": "code",
   "execution_count": 24,
   "id": "c671a0fc-6743-46c4-9ce2-cff5bf900e46",
   "metadata": {},
   "outputs": [
    {
     "data": {
      "text/plain": [
       "{'Dacinostat+Dasatinib': {'r_squared': -5.884942531585693,\n",
       "  'sinkhorn_div_1': 33.454647064208984,\n",
       "  'sinkhorn_div_10': 29.70547866821289,\n",
       "  'sinkhorn_div_100': 28.864126205444336,\n",
       "  'e_distance': 57.559975048071706,\n",
       "  'mmd': 0.5504406},\n",
       " 'Dacinostat+PCI-34051': {'r_squared': -5.991818428039551,\n",
       "  'sinkhorn_div_1': 35.791961669921875,\n",
       "  'sinkhorn_div_10': 32.12656784057617,\n",
       "  'sinkhorn_div_100': 31.28960418701172,\n",
       "  'e_distance': 62.402391225021894,\n",
       "  'mmd': 0.5601594},\n",
       " 'Givinostat+Cediranib': {'r_squared': 0.7920493483543396,\n",
       "  'sinkhorn_div_1': 7.482573509216309,\n",
       "  'sinkhorn_div_10': 4.1853532791137695,\n",
       "  'sinkhorn_div_100': 3.058253288269043,\n",
       "  'e_distance': 5.846879899766877,\n",
       "  'mmd': 0.32691115},\n",
       " 'Givinostat+Curcumin': {'r_squared': 0.9357357621192932,\n",
       "  'sinkhorn_div_1': 5.6534037590026855,\n",
       "  'sinkhorn_div_10': 2.30694580078125,\n",
       "  'sinkhorn_div_100': 1.078455924987793,\n",
       "  'e_distance': 1.8456988253423992,\n",
       "  'mmd': 0.3018954},\n",
       " 'Panobinostat+Alvespimycin': {'r_squared': -2.253347158432007,\n",
       "  'sinkhorn_div_1': 74.69192504882812,\n",
       "  'sinkhorn_div_10': 70.57807922363281,\n",
       "  'sinkhorn_div_100': 69.23878479003906,\n",
       "  'e_distance': 138.16335213969325,\n",
       "  'mmd': 0.68447614},\n",
       " 'Panobinostat+SRT3025': {'r_squared': -2.946497917175293,\n",
       "  'sinkhorn_div_1': 68.72015380859375,\n",
       "  'sinkhorn_div_10': 63.77113342285156,\n",
       "  'sinkhorn_div_100': 61.92878341674805,\n",
       "  'e_distance': 123.41146185722879,\n",
       "  'mmd': 0.6459026},\n",
       " 'control+Panobinostat': {'r_squared': -4.233735084533691,\n",
       "  'sinkhorn_div_1': 58.106292724609375,\n",
       "  'sinkhorn_div_10': 53.050167083740234,\n",
       "  'sinkhorn_div_100': 51.320274353027344,\n",
       "  'e_distance': 102.23277737505089,\n",
       "  'mmd': 0.6174497}}"
      ]
     },
     "execution_count": 24,
     "metadata": {},
     "output_type": "execute_result"
    }
   ],
   "source": [
    "ood_metrics_encoded"
   ]
  },
  {
   "cell_type": "code",
   "execution_count": 25,
   "id": "ad5e53e5-ff5f-4df7-9e94-5f4414cebb9f",
   "metadata": {},
   "outputs": [],
   "source": [
    "output_dir = \"/lustre/groups/ml01/workspace/ot_perturbation/data/combosciplex/results/chemcpa\""
   ]
  },
  {
   "cell_type": "code",
   "execution_count": 26,
   "id": "899fc8be-e234-478e-86fc-3874dddf50c8",
   "metadata": {},
   "outputs": [],
   "source": [
    "import os\n",
    "import pandas as pd\n",
    "\n",
    "pd.DataFrame.from_dict(ood_metrics_encoded).to_csv(os.path.join(output_dir, f\"ood_metrics_encoded_{split}.csv\"))\n",
    "pd.DataFrame.from_dict(ood_metrics_decoded).to_csv(os.path.join(output_dir, f\"ood_metrics_decoded_{split}.csv\"))\n",
    "pd.DataFrame.from_dict(test_metrics_encoded).to_csv(os.path.join(output_dir, f\"test_metrics_encoded_{split}.csv\"))\n",
    "pd.DataFrame.from_dict(test_metrics_decoded).to_csv(os.path.join(output_dir, f\"test_metrics_decoded_{split}.csv\"))\n",
    "pd.DataFrame.from_dict(deg_test_metrics).to_csv(os.path.join(output_dir, f\"test_metrics_deg_{split}.csv\"))\n",
    "pd.DataFrame.from_dict(deg_ood_metrics).to_csv(os.path.join(output_dir, f\"ood_metrics_ood_{split}.csv\"))\n"
   ]
  },
  {
   "cell_type": "code",
   "execution_count": null,
   "id": "28821d0a-e3b9-42cb-90d8-7706413f9f2b",
   "metadata": {},
   "outputs": [],
   "source": []
  }
 ],
 "metadata": {
  "kernelspec": {
   "display_name": "cfp",
   "language": "python",
   "name": "cfp"
  },
  "language_info": {
   "codemirror_mode": {
    "name": "ipython",
    "version": 3
   },
   "file_extension": ".py",
   "mimetype": "text/x-python",
   "name": "python",
   "nbconvert_exporter": "python",
   "pygments_lexer": "ipython3",
   "version": "3.11.9"
  }
 },
 "nbformat": 4,
 "nbformat_minor": 5
}
