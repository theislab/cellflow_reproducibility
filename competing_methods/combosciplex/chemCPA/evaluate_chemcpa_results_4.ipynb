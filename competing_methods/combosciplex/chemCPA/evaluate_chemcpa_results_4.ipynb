{
 "cells": [
  {
   "cell_type": "code",
   "execution_count": 1,
   "id": "b219dc89-0275-4e14-a001-5cf477c82762",
   "metadata": {},
   "outputs": [],
   "source": [
    "import os\n",
    "os.environ['XLA_PYTHON_CLIENT_PREALLOCATE'] = 'false'"
   ]
  },
  {
   "cell_type": "code",
   "execution_count": 2,
   "id": "1395d093-8d3e-48c0-8ffb-7e864854f3a5",
   "metadata": {},
   "outputs": [
    {
     "name": "stderr",
     "output_type": "stream",
     "text": [
      "/home/icb/dominik.klein/mambaforge/envs/cfp/lib/python3.11/site-packages/tqdm/auto.py:21: TqdmWarning: IProgress not found. Please update jupyter and ipywidgets. See https://ipywidgets.readthedocs.io/en/stable/user_install.html\n",
      "  from .autonotebook import tqdm as notebook_tqdm\n"
     ]
    }
   ],
   "source": [
    "import functools\n",
    "\n",
    "import jax\n",
    "import numpy as np\n",
    "import scanpy as sc\n",
    "\n",
    "from cfp.metrics import compute_mean_metrics, compute_metrics, compute_metrics_fast\n",
    "import cfp.preprocessing as cfpp"
   ]
  },
  {
   "cell_type": "code",
   "execution_count": 3,
   "id": "34291a02-90e4-44ff-9ecd-7ec81aa42b43",
   "metadata": {},
   "outputs": [],
   "source": [
    "split = 4"
   ]
  },
  {
   "cell_type": "code",
   "execution_count": 4,
   "id": "07027cac-18fd-4ef8-b54e-09315f9ae6eb",
   "metadata": {
    "scrolled": true
   },
   "outputs": [
    {
     "name": "stderr",
     "output_type": "stream",
     "text": [
      "/home/icb/dominik.klein/mambaforge/envs/cfp/lib/python3.11/site-packages/anndata/_core/anndata.py:1818: UserWarning: Observation names are not unique. To make them unique, call `.obs_names_make_unique`.\n",
      "  utils.warn_names_duplicates(\"obs\")\n"
     ]
    }
   ],
   "source": [
    "adata_preds = sc.read(f\"/lustre/groups/ml01/workspace/ot_perturbation/models/chemcpa/combosciplex/adata_with_predictions_{split}.h5ad\")"
   ]
  },
  {
   "cell_type": "code",
   "execution_count": 5,
   "id": "862ac848-95cb-4c9f-8846-9b46b29d265e",
   "metadata": {},
   "outputs": [],
   "source": [
    "adata_train_path = f\"/lustre/groups/ml01/workspace/ot_perturbation/data/combosciplex/adata_train_{split}.h5ad\"\n",
    "adata_test_path = f\"/lustre/groups/ml01/workspace/ot_perturbation/data/combosciplex/adata_test_{split}.h5ad\"\n",
    "adata_ood_path = f\"/lustre/groups/ml01/workspace/ot_perturbation/data/combosciplex/adata_ood_{split}.h5ad\""
   ]
  },
  {
   "cell_type": "code",
   "execution_count": 6,
   "id": "091f2f81-d713-4a2a-a003-37c5db5d3bc7",
   "metadata": {},
   "outputs": [],
   "source": [
    "adata_train = sc.read(adata_train_path)\n",
    "adata_test = sc.read(adata_test_path)\n",
    "adata_ood = sc.read(adata_ood_path)"
   ]
  },
  {
   "cell_type": "code",
   "execution_count": 7,
   "id": "5f7df9d8-66d9-42bb-bcb6-dbd8db9a4454",
   "metadata": {},
   "outputs": [],
   "source": [
    "adata_ref_test = adata_test[adata_test.obs[\"condition\"]!=\"control\"].copy()\n",
    "cfpp.centered_pca(adata_ref_test, n_comps=10)\n",
    "\n",
    "adata_ref_ood = adata_ood[adata_ood.obs[\"condition\"]!=\"control\"].copy()\n",
    "cfpp.centered_pca(adata_ref_ood, n_comps=10)"
   ]
  },
  {
   "cell_type": "code",
   "execution_count": 8,
   "id": "c2541151-a591-4df2-ada0-948a6cb268fc",
   "metadata": {
    "scrolled": true
   },
   "outputs": [
    {
     "name": "stderr",
     "output_type": "stream",
     "text": [
      "/tmp/ipykernel_1429101/2350350615.py:2: ImplicitModificationWarning: Setting element `.layers['CPA_PRED']` of view, initializing view as actual.\n",
      "  adata_pred_test.layers[\"CPA_PRED\"] = adata_pred_test.obsm[\"CPA_pred\"]\n",
      "/tmp/ipykernel_1429101/2350350615.py:18: ImplicitModificationWarning: Setting element `.layers['CPA_PRED']` of view, initializing view as actual.\n",
      "  adata_pred_ood.layers[\"CPA_PRED\"] = adata_pred_ood.obsm[\"CPA_pred\"]\n"
     ]
    }
   ],
   "source": [
    "adata_pred_test = adata_preds[adata_preds.obs[\"split\"]==\"test\"]\n",
    "adata_pred_test.layers[\"CPA_PRED\"] = adata_pred_test.obsm[\"CPA_pred\"]\n",
    "cfpp.project_pca(query_adata=adata_pred_test, ref_adata=adata_ref_test, layer=\"CPA_PRED\")\n",
    "cfpp.project_pca(query_adata=adata_test, ref_adata=adata_ref_test)\n",
    "test_data_target_encoded = {}\n",
    "test_data_target_decoded = {}\n",
    "test_data_target_encoded_predicted = {}\n",
    "test_data_target_decoded_predicted = {}\n",
    "for cond in adata_test.obs[\"condition\"].cat.categories:\n",
    "    if cond == \"control\":\n",
    "        continue\n",
    "    test_data_target_encoded[cond] = adata_test[adata_test.obs[\"condition\"] == cond].obsm[\"X_pca\"]\n",
    "    test_data_target_decoded[cond] = adata_test[adata_test.obs[\"condition\"] == cond].X.toarray()\n",
    "    test_data_target_decoded_predicted[cond] = adata_pred_test[adata_pred_test.obs[\"condition\"] == cond].obsm[\"CPA_pred\"]\n",
    "    test_data_target_encoded_predicted[cond] = adata_pred_test[adata_pred_test.obs[\"condition\"] == cond].obsm[\"X_pca\"]\n",
    "\n",
    "adata_pred_ood = adata_preds[adata_preds.obs[\"split\"]==\"ood\"]\n",
    "adata_pred_ood.layers[\"CPA_PRED\"] = adata_pred_ood.obsm[\"CPA_pred\"]\n",
    "cfpp.project_pca(query_adata=adata_pred_ood, ref_adata=adata_ref_ood, layer=\"CPA_PRED\")\n",
    "cfpp.project_pca(query_adata=adata_ood, ref_adata=adata_ref_ood)\n",
    "ood_data_target_encoded = {}\n",
    "ood_data_target_decoded = {}\n",
    "ood_data_target_encoded_predicted = {}\n",
    "ood_data_target_decoded_predicted = {}\n",
    "for cond in adata_ood.obs[\"condition\"].cat.categories:\n",
    "    if cond == \"control\":\n",
    "        continue\n",
    "    ood_data_target_encoded[cond] = adata_ood[adata_ood.obs[\"condition\"] == cond].obsm[\"X_pca\"]\n",
    "    ood_data_target_decoded[cond] = adata_ood[adata_ood.obs[\"condition\"] == cond].X.toarray()\n",
    "    ood_data_target_decoded_predicted[cond] = adata_pred_ood[adata_pred_ood.obs[\"condition\"] == cond].obsm[\"CPA_pred\"]\n",
    "    ood_data_target_encoded_predicted[cond] = adata_pred_ood[adata_pred_ood.obs[\"condition\"] == cond].obsm[\"X_pca\"]"
   ]
  },
  {
   "cell_type": "code",
   "execution_count": 9,
   "id": "c9e8562b-66d1-4151-8824-a4944b4e2e85",
   "metadata": {},
   "outputs": [],
   "source": [
    "test_deg_dict = {\n",
    "    k: v\n",
    "    for k, v in adata_train.uns[\"rank_genes_groups_cov_all\"].items()\n",
    "    if k in test_data_target_decoded_predicted.keys()\n",
    "}\n",
    "ood_deg_dict = {\n",
    "    k: v\n",
    "    for k, v in adata_train.uns[\"rank_genes_groups_cov_all\"].items()\n",
    "    if k in ood_data_target_decoded_predicted.keys()\n",
    "}"
   ]
  },
  {
   "cell_type": "code",
   "execution_count": 10,
   "id": "e1fc5bf1-9976-4071-a7ac-605b1494a351",
   "metadata": {},
   "outputs": [],
   "source": [
    "def get_mask(x, y):\n",
    "    return x[:, [gene in y for gene in adata_train.var_names]]\n",
    "\n",
    "\n",
    "ood_deg_target_decoded_predicted = jax.tree_util.tree_map(get_mask, ood_data_target_decoded_predicted, ood_deg_dict)\n",
    "ood_deg_target_decoded = jax.tree_util.tree_map(get_mask, ood_data_target_decoded, ood_deg_dict)\n",
    "\n",
    "test_deg_target_decoded_predicted = jax.tree_util.tree_map(get_mask, test_data_target_decoded_predicted, test_deg_dict)\n",
    "test_deg_target_decoded = jax.tree_util.tree_map(get_mask, test_data_target_decoded, test_deg_dict)\n"
   ]
  },
  {
   "cell_type": "code",
   "execution_count": 11,
   "id": "e8d7ff42-9dbb-4635-9e68-ac3306d27af8",
   "metadata": {},
   "outputs": [],
   "source": [
    "deg_ood_metrics = jax.tree_util.tree_map(compute_metrics, ood_deg_target_decoded, ood_deg_target_decoded_predicted)\n",
    "deg_mean_ood_metrics = compute_mean_metrics(deg_ood_metrics, prefix=\"deg_ood_\")\n",
    "\n",
    "deg_test_metrics = jax.tree_util.tree_map(compute_metrics, test_deg_target_decoded, test_deg_target_decoded_predicted)\n",
    "deg_mean_test_metrics = compute_mean_metrics(deg_test_metrics, prefix=\"deg_test_\")\n"
   ]
  },
  {
   "cell_type": "code",
   "execution_count": 12,
   "id": "9e337bf1-f165-4d62-a79f-4327be259a6c",
   "metadata": {},
   "outputs": [],
   "source": [
    "test_metrics_encoded = jax.tree_util.tree_map(\n",
    "    compute_metrics, test_data_target_encoded, test_data_target_encoded_predicted\n",
    ")\n",
    "mean_test_metrics_encoded = compute_mean_metrics(test_metrics_encoded, prefix=\"encoded_test_\")\n",
    "\n",
    "test_metrics_decoded = jax.tree_util.tree_map(\n",
    "    compute_metrics_fast, test_data_target_decoded, test_data_target_decoded_predicted\n",
    ")\n",
    "mean_test_metrics_decoded = compute_mean_metrics(test_metrics_decoded, prefix=\"decoded_test_\")"
   ]
  },
  {
   "cell_type": "code",
   "execution_count": 13,
   "id": "cbdff236-b23d-4db5-b28f-a072c3ccaecf",
   "metadata": {},
   "outputs": [],
   "source": [
    "ood_metrics_encoded = jax.tree_util.tree_map(\n",
    "    compute_metrics, ood_data_target_encoded, ood_data_target_encoded_predicted\n",
    ")\n",
    "mean_ood_metrics_encoded = compute_mean_metrics(ood_metrics_encoded, prefix=\"encoded_ood_\")\n",
    "\n",
    "ood_metrics_decoded = jax.tree_util.tree_map(\n",
    "    compute_metrics, ood_data_target_decoded, ood_data_target_decoded_predicted\n",
    ")\n",
    "mean_ood_metrics_decoded = compute_mean_metrics(ood_metrics_decoded, prefix=\"decoded_ood_\")"
   ]
  },
  {
   "cell_type": "code",
   "execution_count": 14,
   "id": "3530543f-09ca-4de9-99b4-48b95bd80961",
   "metadata": {},
   "outputs": [
    {
     "data": {
      "text/plain": [
       "{'decoded_ood_r_squared': 0.9566347102324168,\n",
       " 'decoded_ood_sinkhorn_div_1': 81.87399800618489,\n",
       " 'decoded_ood_sinkhorn_div_10': 48.286797841389976,\n",
       " 'decoded_ood_sinkhorn_div_100': 4.176709493001302,\n",
       " 'decoded_ood_e_distance': 7.687277621676658,\n",
       " 'decoded_ood_mmd': 0.3303666164477666}"
      ]
     },
     "execution_count": 14,
     "metadata": {},
     "output_type": "execute_result"
    }
   ],
   "source": [
    "mean_ood_metrics_decoded"
   ]
  },
  {
   "cell_type": "code",
   "execution_count": 15,
   "id": "60018b48-c646-467d-bfdb-a0b5cefae334",
   "metadata": {},
   "outputs": [
    {
     "data": {
      "text/plain": [
       "{'decoded_test_r_squared': 0.7340767359733582,\n",
       " 'decoded_test_e_distance': 52.207657303442566,\n",
       " 'decoded_test_mmd_distance': 0.35693171977996824}"
      ]
     },
     "execution_count": 15,
     "metadata": {},
     "output_type": "execute_result"
    }
   ],
   "source": [
    "mean_test_metrics_decoded"
   ]
  },
  {
   "cell_type": "code",
   "execution_count": null,
   "id": "f9c784ea-6239-40e0-8c59-44a462a9bad7",
   "metadata": {},
   "outputs": [],
   "source": []
  },
  {
   "cell_type": "code",
   "execution_count": 16,
   "id": "8c7c1e77-4a4c-49ce-b79c-52db6292814e",
   "metadata": {},
   "outputs": [
    {
     "data": {
      "text/plain": [
       "{'decoded_ood_r_squared': 0.9566347102324168,\n",
       " 'decoded_ood_sinkhorn_div_1': 81.87399800618489,\n",
       " 'decoded_ood_sinkhorn_div_10': 48.286797841389976,\n",
       " 'decoded_ood_sinkhorn_div_100': 4.176709493001302,\n",
       " 'decoded_ood_e_distance': 7.687277621676658,\n",
       " 'decoded_ood_mmd': 0.3303666164477666}"
      ]
     },
     "execution_count": 16,
     "metadata": {},
     "output_type": "execute_result"
    }
   ],
   "source": [
    "mean_ood_metrics_decoded"
   ]
  },
  {
   "cell_type": "code",
   "execution_count": 17,
   "id": "914b2f8c-7960-406a-87b3-2a0b83b3c5d7",
   "metadata": {},
   "outputs": [
    {
     "data": {
      "text/plain": [
       "{'encoded_ood_r_squared': -0.6940145591894785,\n",
       " 'encoded_ood_sinkhorn_div_1': 8.70498243967692,\n",
       " 'encoded_ood_sinkhorn_div_10': 4.159910996754964,\n",
       " 'encoded_ood_sinkhorn_div_100': 3.0100749333699546,\n",
       " 'encoded_ood_e_distance': 5.75464572793785,\n",
       " 'encoded_ood_mmd': 0.23952009280522665}"
      ]
     },
     "execution_count": 17,
     "metadata": {},
     "output_type": "execute_result"
    }
   ],
   "source": [
    "mean_ood_metrics_encoded"
   ]
  },
  {
   "cell_type": "code",
   "execution_count": 18,
   "id": "687f3ea3-4546-4c4d-819a-4e0927442ce5",
   "metadata": {},
   "outputs": [
    {
     "data": {
      "text/plain": [
       "{'deg_ood_r_squared': 0.9361942807833353,\n",
       " 'deg_ood_sinkhorn_div_1': 8.313067356745401,\n",
       " 'deg_ood_sinkhorn_div_10': 2.3001553217569985,\n",
       " 'deg_ood_sinkhorn_div_100': 1.9704030354817708,\n",
       " 'deg_ood_e_distance': 3.871561367744386,\n",
       " 'deg_ood_mmd': 0.33902732531229657}"
      ]
     },
     "execution_count": 18,
     "metadata": {},
     "output_type": "execute_result"
    }
   ],
   "source": [
    "deg_mean_ood_metrics"
   ]
  },
  {
   "cell_type": "code",
   "execution_count": 19,
   "id": "1ef8107f-d103-479c-8b4a-2933ab105a62",
   "metadata": {},
   "outputs": [
    {
     "data": {
      "text/plain": [
       "{'deg_test_r_squared': 0.5326055335998535,\n",
       " 'deg_test_sinkhorn_div_1': 25.30959072113037,\n",
       " 'deg_test_sinkhorn_div_10': 16.308010864257813,\n",
       " 'deg_test_sinkhorn_div_100': 15.088708381652832,\n",
       " 'deg_test_e_distance': 30.00355805045886,\n",
       " 'deg_test_mmd': 0.3935843336582184}"
      ]
     },
     "execution_count": 19,
     "metadata": {},
     "output_type": "execute_result"
    }
   ],
   "source": [
    "deg_mean_test_metrics"
   ]
  },
  {
   "cell_type": "code",
   "execution_count": 20,
   "id": "e708f928-1654-4b93-b546-5f0b1a537def",
   "metadata": {},
   "outputs": [
    {
     "data": {
      "text/plain": [
       "{'decoded_test_r_squared': 0.7340767359733582,\n",
       " 'decoded_test_e_distance': 52.207657303442566,\n",
       " 'decoded_test_mmd_distance': 0.35693171977996824}"
      ]
     },
     "execution_count": 20,
     "metadata": {},
     "output_type": "execute_result"
    }
   ],
   "source": [
    "mean_test_metrics_decoded"
   ]
  },
  {
   "cell_type": "code",
   "execution_count": 21,
   "id": "90c58881-8511-4154-8430-507e59c498e7",
   "metadata": {},
   "outputs": [
    {
     "data": {
      "text/plain": [
       "{'decoded_ood_r_squared': 0.9566347102324168,\n",
       " 'decoded_ood_sinkhorn_div_1': 81.87399800618489,\n",
       " 'decoded_ood_sinkhorn_div_10': 48.286797841389976,\n",
       " 'decoded_ood_sinkhorn_div_100': 4.176709493001302,\n",
       " 'decoded_ood_e_distance': 7.687277621676658,\n",
       " 'decoded_ood_mmd': 0.3303666164477666}"
      ]
     },
     "execution_count": 21,
     "metadata": {},
     "output_type": "execute_result"
    }
   ],
   "source": [
    "mean_ood_metrics_decoded"
   ]
  },
  {
   "cell_type": "code",
   "execution_count": 22,
   "id": "4ed6d545-6b19-4d72-887c-f5618d87d47d",
   "metadata": {},
   "outputs": [
    {
     "data": {
      "text/plain": [
       "{'deg_ood_r_squared': 0.9361942807833353,\n",
       " 'deg_ood_sinkhorn_div_1': 8.313067356745401,\n",
       " 'deg_ood_sinkhorn_div_10': 2.3001553217569985,\n",
       " 'deg_ood_sinkhorn_div_100': 1.9704030354817708,\n",
       " 'deg_ood_e_distance': 3.871561367744386,\n",
       " 'deg_ood_mmd': 0.33902732531229657}"
      ]
     },
     "execution_count": 22,
     "metadata": {},
     "output_type": "execute_result"
    }
   ],
   "source": [
    "deg_mean_ood_metrics"
   ]
  },
  {
   "cell_type": "code",
   "execution_count": 23,
   "id": "ee62783f-7f1d-4a1e-8c74-eeaa935881a0",
   "metadata": {},
   "outputs": [
    {
     "data": {
      "text/plain": [
       "{'decoded_test_r_squared': 0.7340767359733582,\n",
       " 'decoded_test_e_distance': 52.207657303442566,\n",
       " 'decoded_test_mmd_distance': 0.35693171977996824}"
      ]
     },
     "execution_count": 23,
     "metadata": {},
     "output_type": "execute_result"
    }
   ],
   "source": [
    "mean_test_metrics_decoded"
   ]
  },
  {
   "cell_type": "code",
   "execution_count": 24,
   "id": "014cbe29-83e0-4a37-aa82-29804107152a",
   "metadata": {},
   "outputs": [
    {
     "data": {
      "text/plain": [
       "{'encoded_test_r_squared': -1.0442973344820967,\n",
       " 'encoded_test_sinkhorn_div_1': 29.692364940643312,\n",
       " 'encoded_test_sinkhorn_div_10': 25.478276634216307,\n",
       " 'encoded_test_sinkhorn_div_100': 24.132667961120607,\n",
       " 'encoded_test_e_distance': 47.95706470009132,\n",
       " 'encoded_test_mmd': 0.3508694690465927}"
      ]
     },
     "execution_count": 24,
     "metadata": {},
     "output_type": "execute_result"
    }
   ],
   "source": [
    "mean_test_metrics_encoded"
   ]
  },
  {
   "cell_type": "code",
   "execution_count": 25,
   "id": "c671a0fc-6743-46c4-9ce2-cff5bf900e46",
   "metadata": {},
   "outputs": [
    {
     "data": {
      "text/plain": [
       "{'Cediranib+PCI-34051': {'r_squared': 0.2974282503128052,\n",
       "  'sinkhorn_div_1': 7.901453495025635,\n",
       "  'sinkhorn_div_10': 3.373772621154785,\n",
       "  'sinkhorn_div_100': 2.2574081420898438,\n",
       "  'e_distance': 4.2643744085450805,\n",
       "  'mmd': 0.23257583},\n",
       " 'Givinostat+Crizotinib': {'r_squared': -1.573023796081543,\n",
       "  'sinkhorn_div_1': 7.771107196807861,\n",
       "  'sinkhorn_div_10': 3.1570863723754883,\n",
       "  'sinkhorn_div_100': 1.9116382598876953,\n",
       "  'e_distance': 3.527157821346189,\n",
       "  'mmd': 0.22273003},\n",
       " 'Givinostat+SRT2104': {'r_squared': -0.8988072872161865,\n",
       "  'sinkhorn_div_1': 7.2082109451293945,\n",
       "  'sinkhorn_div_10': 2.5161962509155273,\n",
       "  'sinkhorn_div_100': 1.2903375625610352,\n",
       "  'e_distance': 2.289647721892873,\n",
       "  'mmd': 0.22127233},\n",
       " 'Givinostat+Sorafenib': {'r_squared': -0.9011318683624268,\n",
       "  'sinkhorn_div_1': 14.161542892456055,\n",
       "  'sinkhorn_div_10': 10.284482955932617,\n",
       "  'sinkhorn_div_100': 9.452860832214355,\n",
       "  'e_distance': 18.726136956131363,\n",
       "  'mmd': 0.30729485},\n",
       " 'control+Givinostat': {'r_squared': -1.3408761024475098,\n",
       "  'sinkhorn_div_1': 7.569847106933594,\n",
       "  'sinkhorn_div_10': 2.808377265930176,\n",
       "  'sinkhorn_div_100': 1.5740385055541992,\n",
       "  'e_distance': 2.854824215405033,\n",
       "  'mmd': 0.2282614},\n",
       " 'control+SRT2104': {'r_squared': 0.2523234486579895,\n",
       "  'sinkhorn_div_1': 7.617733001708984,\n",
       "  'sinkhorn_div_10': 2.8195505142211914,\n",
       "  'sinkhorn_div_100': 1.5741662979125977,\n",
       "  'e_distance': 2.8657332443065613,\n",
       "  'mmd': 0.22498612}}"
      ]
     },
     "execution_count": 25,
     "metadata": {},
     "output_type": "execute_result"
    }
   ],
   "source": [
    "ood_metrics_encoded"
   ]
  },
  {
   "cell_type": "code",
   "execution_count": 26,
   "id": "ad5e53e5-ff5f-4df7-9e94-5f4414cebb9f",
   "metadata": {},
   "outputs": [],
   "source": [
    "output_dir = \"/lustre/groups/ml01/workspace/ot_perturbation/data/combosciplex/results/chemcpa\""
   ]
  },
  {
   "cell_type": "code",
   "execution_count": 27,
   "id": "899fc8be-e234-478e-86fc-3874dddf50c8",
   "metadata": {},
   "outputs": [],
   "source": [
    "import os\n",
    "import pandas as pd\n",
    "\n",
    "pd.DataFrame.from_dict(ood_metrics_encoded).to_csv(os.path.join(output_dir, f\"ood_metrics_encoded_{split}.csv\"))\n",
    "pd.DataFrame.from_dict(ood_metrics_decoded).to_csv(os.path.join(output_dir, f\"ood_metrics_decoded_{split}.csv\"))\n",
    "pd.DataFrame.from_dict(test_metrics_encoded).to_csv(os.path.join(output_dir, f\"test_metrics_encoded_{split}.csv\"))\n",
    "pd.DataFrame.from_dict(test_metrics_decoded).to_csv(os.path.join(output_dir, f\"test_metrics_decoded_{split}.csv\"))\n",
    "pd.DataFrame.from_dict(deg_test_metrics).to_csv(os.path.join(output_dir, f\"test_metrics_deg_{split}.csv\"))\n",
    "pd.DataFrame.from_dict(deg_ood_metrics).to_csv(os.path.join(output_dir, f\"ood_metrics_ood_{split}.csv\"))\n"
   ]
  },
  {
   "cell_type": "code",
   "execution_count": null,
   "id": "a2210781-a7bc-4608-bc8c-99ae0c7e341e",
   "metadata": {},
   "outputs": [],
   "source": []
  }
 ],
 "metadata": {
  "kernelspec": {
   "display_name": "cfp",
   "language": "python",
   "name": "cfp"
  },
  "language_info": {
   "codemirror_mode": {
    "name": "ipython",
    "version": 3
   },
   "file_extension": ".py",
   "mimetype": "text/x-python",
   "name": "python",
   "nbconvert_exporter": "python",
   "pygments_lexer": "ipython3",
   "version": "3.11.9"
  }
 },
 "nbformat": 4,
 "nbformat_minor": 5
}
