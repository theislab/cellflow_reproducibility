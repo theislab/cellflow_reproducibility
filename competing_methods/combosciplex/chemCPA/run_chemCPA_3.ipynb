{
 "cells": [
  {
   "cell_type": "code",
   "execution_count": 1,
   "id": "4bbc5965-37b5-415a-8f75-3c042ca2fd20",
   "metadata": {},
   "outputs": [
    {
     "name": "stderr",
     "output_type": "stream",
     "text": [
      "[rank: 0] Global seed set to 0\n",
      "2024-10-03 09:17:55,828\tINFO util.py:154 -- Missing packages: ['ipywidgets']. Run `pip install -U ipywidgets`, then restart the notebook server for rich notebook output.\n",
      "2024-10-03 09:17:55,986\tINFO util.py:154 -- Missing packages: ['ipywidgets']. Run `pip install -U ipywidgets`, then restart the notebook server for rich notebook output.\n"
     ]
    }
   ],
   "source": [
    "import cpa\n",
    "import scanpy as sc\n",
    "import pandas as pd\n",
    "import anndata as ad\n",
    "import numpy as np"
   ]
  },
  {
   "cell_type": "code",
   "execution_count": 2,
   "id": "9e4d6ef7-abc3-42ff-b197-80b93be76182",
   "metadata": {},
   "outputs": [],
   "source": [
    "split = 3"
   ]
  },
  {
   "cell_type": "code",
   "execution_count": 3,
   "id": "1cfb5c56-361d-4403-9324-f35c8629e83b",
   "metadata": {},
   "outputs": [],
   "source": [
    "adata_train_path = f\"/lustre/groups/ml01/workspace/ot_perturbation/data/combosciplex/adata_train_{split}.h5ad\"\n",
    "adata_test_path = f\"/lustre/groups/ml01/workspace/ot_perturbation/data/combosciplex/adata_test_{split}.h5ad\"\n",
    "adata_ood_path = f\"/lustre/groups/ml01/workspace/ot_perturbation/data/combosciplex/adata_ood_{split}.h5ad\""
   ]
  },
  {
   "cell_type": "code",
   "execution_count": 4,
   "id": "b4a7e157-bb65-4bc7-b14b-00f9f6ba475a",
   "metadata": {},
   "outputs": [],
   "source": [
    "adata_train = sc.read(adata_train_path)\n",
    "adata_test = sc.read(adata_test_path)\n",
    "adata_ood = sc.read(adata_ood_path)"
   ]
  },
  {
   "cell_type": "code",
   "execution_count": 5,
   "id": "80932e83-09d2-4ddd-a6f4-c935de8b87c4",
   "metadata": {},
   "outputs": [
    {
     "data": {
      "text/plain": [
       "condition\n",
       "Panobinostat+Curcumin      2244\n",
       "Panobinostat+Sorafenib     2013\n",
       "control+Dacinostat         1869\n",
       "Panobinostat+SRT1720       1826\n",
       "Panobinostat+Crizotinib    1641\n",
       "control+Alvespimycin        758\n",
       "SRT2104+Alvespimycin        520\n",
       "control                     500\n",
       "Name: count, dtype: int64"
      ]
     },
     "execution_count": 5,
     "metadata": {},
     "output_type": "execute_result"
    }
   ],
   "source": [
    "adata_ood.obs[\"condition\"].value_counts()"
   ]
  },
  {
   "cell_type": "code",
   "execution_count": 6,
   "id": "adb9709c-faf4-4674-a020-8229fabe07a8",
   "metadata": {},
   "outputs": [],
   "source": [
    "try:\n",
    "    data_path = 'combo_sciplex_prep_hvg_filtered.h5ad'\n",
    "    adata = sc.read(data_path)\n",
    "except:\n",
    "    import gdown\n",
    "    gdown.download('https://drive.google.com/uc?export=download&id=1RRV0_qYKGTvD3oCklKfoZQFYqKJy4l6t')\n",
    "    data_path = 'combo_sciplex_prep_hvg_filtered.h5ad'\n",
    "    adata = sc.read(data_path)\n",
    "\n",
    "\n",
    "adata.obs[\"index\"] = adata.obs_names.values\n",
    "adata.obs[\"index_adapted\"] = adata.obs.apply(lambda x: x[\"index\"][:-2], axis=1)\n",
    "adata.obs.set_index(\"index_adapted\", inplace=True)\n",
    "\n",
    "adata_ood.obs[\"cov_drug_dose\"] = adata.obs[\"cov_drug_dose\"]\n",
    "adata_ood.obs[\"condition_ID\"] = adata.obs[\"condition_ID\"]\n",
    "adata_ood.obs[\"log_dose\"] = adata.obs[\"log_dose\"]\n",
    "adata_ood.obs[\"smiles_rdkit\"] = adata.obs[\"smiles_rdkit\"]\n",
    "adata_ood.obs[\"cell_type\"] = adata.obs[\"cell_type\"]\n",
    "\n",
    "adata_test.obs[\"cov_drug_dose\"] = adata.obs[\"cov_drug_dose\"]\n",
    "adata_test.obs[\"condition_ID\"] = adata.obs[\"condition_ID\"]\n",
    "adata_test.obs[\"log_dose\"] = adata.obs[\"log_dose\"]\n",
    "adata_test.obs[\"smiles_rdkit\"] = adata.obs[\"smiles_rdkit\"]\n",
    "adata_test.obs[\"cell_type\"] = adata.obs[\"cell_type\"]\n",
    "\n",
    "adata_train.obs[\"cov_drug_dose\"] = adata.obs[\"cov_drug_dose\"]\n",
    "adata_train.obs[\"condition_ID\"] = adata.obs[\"condition_ID\"]\n",
    "adata_train.obs[\"log_dose\"] = adata.obs[\"log_dose\"]\n",
    "adata_train.obs[\"smiles_rdkit\"] = adata.obs[\"smiles_rdkit\"]\n",
    "adata_train.obs[\"cell_type\"] = adata.obs[\"cell_type\"]"
   ]
  },
  {
   "cell_type": "code",
   "execution_count": 7,
   "id": "b15743ed-dd24-4614-bb3d-9635031192b6",
   "metadata": {},
   "outputs": [],
   "source": [
    "control_cells_gex = adata_ood[adata_ood.obs[\"condition\"]==\"control\"].X.A\n",
    "obs_names = list(adata_ood[adata_ood.obs[\"condition\"]==\"control\"].obs_names)\n",
    "\n",
    "all_data = []\n",
    "obs_df = pd.DataFrame(columns=[\"condition_ID\", \"log_dose\", \"smiles_rdkit\", \"cell_type\", \"condition\"])\n",
    "indices = []\n",
    "\n",
    "for condition in adata_ood.obs[\"condition\"].cat.categories:\n",
    "    if condition==\"control\":\n",
    "        continue\n",
    "    all_data.append(control_cells_gex)\n",
    "    filtered_row = pd.Series(adata_ood[adata_ood.obs[\"condition\"] == condition].obs[[\"condition_ID\", \"log_dose\", \"smiles_rdkit\", \"cell_type\", \"condition\"]].iloc[0].values)\n",
    "    filtered_row_df = pd.DataFrame([filtered_row.values], columns=[\"condition_ID\", \"log_dose\", \"smiles_rdkit\", \"cell_type\", \"condition\"])\n",
    "    duplicated_rows = pd.concat([filtered_row_df] * 500, ignore_index=True)\n",
    "    obs_df = pd.concat([obs_df, duplicated_rows], ignore_index=True)\n",
    "\n",
    "# Stack all data vertically to create a single array\n",
    "all_data_array = np.vstack(all_data)\n",
    "\n",
    "\n",
    "# Create the Anndata object\n",
    "adata_ood_new = ad.AnnData(X=all_data_array, obs=obs_df)\n",
    "adata_ood_new.var = adata_ood.var\n",
    "\n",
    "\n",
    "control_cells_gex = adata_test[adata_test.obs[\"condition\"]==\"control\"].X.A\n",
    "obs_names = list(adata_test[adata_test.obs[\"condition\"]==\"control\"].obs_names)\n",
    "\n",
    "all_data = []\n",
    "obs_df = pd.DataFrame(columns=[\"condition_ID\", \"log_dose\", \"smiles_rdkit\", \"cell_type\", \"condition\"])\n",
    "indices = []\n",
    "\n",
    "for condition in adata_test.obs[\"condition\"].cat.categories:\n",
    "    if condition==\"control\":\n",
    "        continue\n",
    "    all_data.append(control_cells_gex)\n",
    "    filtered_row = pd.Series(adata_test[adata_test.obs[\"condition\"] == condition].obs[[\"condition_ID\", \"log_dose\", \"smiles_rdkit\", \"cell_type\", \"condition\"]].iloc[0].values)\n",
    "    filtered_row_df = pd.DataFrame([filtered_row.values], columns=[\"condition_ID\", \"log_dose\", \"smiles_rdkit\", \"cell_type\", \"condition\"])\n",
    "    duplicated_rows = pd.concat([filtered_row_df] * 500, ignore_index=True)\n",
    "    obs_df = pd.concat([obs_df, duplicated_rows], ignore_index=True)\n",
    "\n",
    "# Stack all data vertically to create a single array\n",
    "all_data_array = np.vstack(all_data)\n",
    "\n",
    "\n",
    "# Create the Anndata object\n",
    "adata_test_new = ad.AnnData(X=all_data_array, obs=obs_df)\n",
    "adata_test_new.var = adata_test.var"
   ]
  },
  {
   "cell_type": "code",
   "execution_count": 8,
   "id": "ecf8697d-7b1c-4352-89ff-09e03060fe31",
   "metadata": {},
   "outputs": [],
   "source": [
    "import anndata\n",
    "\n",
    "adata_combined = anndata.concat((adata_train, adata_test_new, adata_ood_new), label=\"split\", keys=[\"train\", \"test\", \"ood\"], join=\"inner\")"
   ]
  },
  {
   "cell_type": "code",
   "execution_count": 9,
   "id": "d84952c9-df06-409a-bca9-211f7a9d613a",
   "metadata": {},
   "outputs": [],
   "source": [
    "frac_valid = adata[adata.obs[\"split_1ct_MEC\"] == \"valid\"].n_obs / (\n",
    "    adata[adata.obs[\"split_1ct_MEC\"] == \"valid\"].n_obs + adata[adata.obs[\"split_1ct_MEC\"] == \"train\"].n_obs\n",
    ")"
   ]
  },
  {
   "cell_type": "code",
   "execution_count": 10,
   "id": "78a50d55-575b-4a87-9ddb-85fd048c54a0",
   "metadata": {},
   "outputs": [],
   "source": [
    "import numpy as np\n",
    "\n",
    "\n",
    "def create_split(x):\n",
    "    if x[\"split\"] != \"train\":\n",
    "        return x[\"split\"]\n",
    "    is_train = np.random.choice(2, p=[frac_valid, 1 - frac_valid])\n",
    "    if is_train:\n",
    "        return \"train_train\"\n",
    "    return \"train_valid\"\n",
    "\n",
    "\n",
    "adata_combined.obs[\"split_1ct_MEC\"] = adata_combined.obs.apply(create_split, axis=1)"
   ]
  },
  {
   "cell_type": "code",
   "execution_count": 11,
   "id": "2a631a3a-e2f8-44b5-82a0-fc03e64393ab",
   "metadata": {},
   "outputs": [
    {
     "name": "stderr",
     "output_type": "stream",
     "text": [
      "100%|██████████| 65107/65107 [00:00<00:00, 76742.96it/s]\n",
      "100%|██████████| 65107/65107 [00:00<00:00, 982986.45it/s]\n",
      "An NVIDIA GPU may be present on this machine, but a CUDA-enabled jaxlib is not installed. Falling back to cpu.\n"
     ]
    },
    {
     "name": "stdout",
     "output_type": "stream",
     "text": [
      "\u001b[34mINFO    \u001b[0m Generating sequential column names                                                                        \n",
      "\u001b[34mINFO    \u001b[0m Generating sequential column names                                                                        \n"
     ]
    }
   ],
   "source": [
    "cpa.CPA.setup_anndata(adata_combined,\n",
    "                      perturbation_key='condition_ID',\n",
    "                      dosage_key='log_dose',\n",
    "                      control_group='CHEMBL504',\n",
    "                      batch_key=None,\n",
    "                      smiles_key='smiles_rdkit',\n",
    "                      is_count_data=False,\n",
    "                      categorical_covariate_keys=['cell_type'],\n",
    "                      deg_uns_cat_key='cov_drug_dose',\n",
    "                      max_comb_len=2,\n",
    "                     )"
   ]
  },
  {
   "cell_type": "code",
   "execution_count": 12,
   "id": "7168f9a8-8cbd-4711-9d90-34a3a6af7a24",
   "metadata": {},
   "outputs": [],
   "source": [
    "df_hsearch = pd.read_csv(\"result_hsearch.csv\").T\n",
    "df_hsearch.columns = df_hsearch.iloc[0]\n",
    "df_hsearch = df_hsearch.drop(df_hsearch.index[0])\n",
    "config = df_hsearch.sort_values(\"r_squared\", ascending=False).iloc[0]\n",
    "del config[\"r_squared\"]\n",
    "config = config.to_dict()"
   ]
  },
  {
   "cell_type": "code",
   "execution_count": 13,
   "id": "83c56bd9-6bc9-4409-b65a-9790bb0e12af",
   "metadata": {},
   "outputs": [],
   "source": [
    "config_adapted = {}\n",
    "for k,v in config.items():\n",
    "    if k==\"adv_loss\":\n",
    "        config_adapted[k] = v\n",
    "    elif isinstance(v, float): \n",
    "        if np.isnan(v):\n",
    "            config_adapted[k] = None\n",
    "        else:\n",
    "            raise ValueError\n",
    "    elif v == \"True\":\n",
    "        config_adapted[k] = True\n",
    "    elif v == \"False\":\n",
    "        config_adapted[k] = False\n",
    "    else:\n",
    "        if float(v) == int(float(v)):\n",
    "            config_adapted[k] = int(float(v))\n",
    "        else:\n",
    "            config_adapted[k] = float(v)"
   ]
  },
  {
   "cell_type": "code",
   "execution_count": 14,
   "id": "fe9b99da-d749-4107-8435-4e54c87229cc",
   "metadata": {},
   "outputs": [],
   "source": [
    "trainer_params = config_adapted"
   ]
  },
  {
   "cell_type": "code",
   "execution_count": 15,
   "id": "391f7976-7940-4dcd-879c-c27920d6f994",
   "metadata": {},
   "outputs": [
    {
     "data": {
      "text/plain": [
       "{'n_epochs_kl_warmup': None,\n",
       " 'n_epochs_pretrain_ae': 30,\n",
       " 'n_epochs_adv_warmup': 50,\n",
       " 'n_epochs_mixup_warmup': 3,\n",
       " 'mixup_alpha': 0.1,\n",
       " 'adv_steps': None,\n",
       " 'n_hidden_adv': 128,\n",
       " 'n_layers_adv': 3,\n",
       " 'use_batch_norm_adv': False,\n",
       " 'use_layer_norm_adv': False,\n",
       " 'dropout_rate_adv': 0.2,\n",
       " 'reg_adv': 10,\n",
       " 'pen_adv': 0.1,\n",
       " 'lr': 0.0003,\n",
       " 'wd': 4e-07,\n",
       " 'adv_lr': 0.0003,\n",
       " 'adv_wd': 4e-07,\n",
       " 'adv_loss': 'cce',\n",
       " 'doser_lr': 0.0003,\n",
       " 'doser_wd': 4e-07,\n",
       " 'do_clip_grad': False,\n",
       " 'gradient_clip_value': 1,\n",
       " 'step_size_lr': 10}"
      ]
     },
     "execution_count": 15,
     "metadata": {},
     "output_type": "execute_result"
    }
   ],
   "source": [
    "trainer_params"
   ]
  },
  {
   "cell_type": "code",
   "execution_count": 16,
   "id": "05c346cd-c37f-4ded-8eef-ccab1866f773",
   "metadata": {},
   "outputs": [],
   "source": [
    "ae_hparams = {'n_latent': 64,\n",
    " 'recon_loss': 'gauss',\n",
    " 'doser_type': 'linear',\n",
    " 'n_hidden_encoder': 256,\n",
    " 'n_layers_encoder': 3,\n",
    " 'n_hidden_decoder': 512,\n",
    " 'n_layers_decoder': 2,\n",
    " 'use_batch_norm_encoder': True,\n",
    " 'use_layer_norm_encoder': False,\n",
    " 'use_batch_norm_decoder': True,\n",
    " 'use_layer_norm_decoder': False,\n",
    " 'dropout_rate_encoder': 0.25,\n",
    " 'dropout_rate_decoder': 0.25,\n",
    " 'variational': False,\n",
    " 'seed': 6478}\n"
   ]
  },
  {
   "cell_type": "code",
   "execution_count": 17,
   "id": "c84f5678-b3a4-4821-8bc0-ad9aa4765509",
   "metadata": {},
   "outputs": [
    {
     "name": "stderr",
     "output_type": "stream",
     "text": [
      "[rank: 0] Global seed set to 6478\n"
     ]
    },
    {
     "name": "stdout",
     "output_type": "stream",
     "text": [
      "(18, 2048)\n"
     ]
    }
   ],
   "source": [
    "model = cpa.CPA(adata=adata_combined,\n",
    "                split_key='split_1ct_MEC',\n",
    "                train_split='train_train',\n",
    "                valid_split='train_valid',\n",
    "                test_split='ood',\n",
    "                use_rdkit_embeddings=True,\n",
    "                **ae_hparams,\n",
    "               )"
   ]
  },
  {
   "cell_type": "code",
   "execution_count": 18,
   "id": "5b1637da-13c9-46c4-920e-511de77e5be3",
   "metadata": {},
   "outputs": [
    {
     "name": "stderr",
     "output_type": "stream",
     "text": [
      "100%|██████████| 32/32 [00:00<00:00, 133.53it/s]\n",
      "GPU available: True (cuda), used: True\n",
      "TPU available: False, using: 0 TPU cores\n",
      "IPU available: False, using: 0 IPUs\n",
      "HPU available: False, using: 0 HPUs\n",
      "LOCAL_RANK: 0 - CUDA_VISIBLE_DEVICES: [0]\n"
     ]
    },
    {
     "name": "stdout",
     "output_type": "stream",
     "text": [
      "Epoch 5/200:   2%|▏         | 4/200 [00:23<20:45,  6.35s/it, v_num=1, recon=-2.4e+3, r2_mean=0.917, adv_loss=2.42, acc_pert=0.156] "
     ]
    },
    {
     "name": "stderr",
     "output_type": "stream",
     "text": [
      "\n",
      "Epoch 00004: cpa_metric reached. Module best state updated.\n"
     ]
    },
    {
     "name": "stdout",
     "output_type": "stream",
     "text": [
      "Epoch 10/200:   4%|▍         | 9/200 [01:07<26:12,  8.23s/it, v_num=1, recon=-2.87e+3, r2_mean=0.924, adv_loss=2.4, acc_pert=0.162, val_recon=-2.65e+3, disnt_basal=0.118, disnt_after=0.317, val_r2_mean=0.92, val_KL=nan]\n",
      "disnt_basal = 0.10924570372217549\n",
      "disnt_after = 0.2551900410611255\n",
      "val_r2_mean = 0.921461926460266\n",
      "val_r2_var = 0.7373096787929534\n",
      "Epoch 20/200:  10%|▉         | 19/200 [02:37<26:33,  8.80s/it, v_num=1, recon=-3.13e+3, r2_mean=0.931, adv_loss=2.4, acc_pert=0.177, val_recon=-3e+3, disnt_basal=0.111, disnt_after=0.215, val_r2_mean=0.928, val_KL=nan]    \n",
      "disnt_basal = 0.10297575350181057\n",
      "disnt_after = 0.18506845604946456\n",
      "val_r2_mean = 0.9296243261595567\n",
      "val_r2_var = 0.7705651859641075\n",
      "Epoch 30/200:  14%|█▍        | 29/200 [04:07<25:15,  8.86s/it, v_num=1, recon=-3.3e+3, r2_mean=0.933, adv_loss=2.41, acc_pert=0.174, val_recon=-3.19e+3, disnt_basal=0.0935, disnt_after=0.173, val_r2_mean=0.931, val_KL=nan] \n",
      "disnt_basal = 0.08694101221922597\n",
      "disnt_after = 0.16388084418514498\n",
      "val_r2_mean = 0.9307190976142884\n",
      "val_r2_var = 0.7755559272766113\n",
      "Epoch 40/200:  20%|█▉        | 39/200 [05:39<24:26,  9.11s/it, v_num=1, recon=-3.44e+3, r2_mean=0.934, adv_loss=2.46, acc_pert=0.165, val_recon=-3.32e+3, disnt_basal=0.0797, disnt_after=0.152, val_r2_mean=0.93, val_KL=nan] \n",
      "disnt_basal = 0.07370385337487682\n",
      "disnt_after = 0.14736718142865687\n",
      "val_r2_mean = 0.9325509488582611\n",
      "val_r2_var = 0.7771703400611877\n",
      "Epoch 50/200:  24%|██▍       | 49/200 [07:12<22:57,  9.13s/it, v_num=1, recon=-3.55e+3, r2_mean=0.935, adv_loss=2.53, acc_pert=0.16, val_recon=-3.41e+3, disnt_basal=0.0712, disnt_after=0.153, val_r2_mean=0.931, val_KL=nan] \n",
      "disnt_basal = 0.06884826632043455\n",
      "disnt_after = 0.13919171794094196\n",
      "val_r2_mean = 0.9307878878116609\n",
      "val_r2_var = 0.7740646266937256\n",
      "Epoch 55/200:  28%|██▊       | 55/200 [08:10<21:33,  8.92s/it, v_num=1, recon=-3.59e+3, r2_mean=0.935, adv_loss=2.6, acc_pert=0.153, val_recon=-3.5e+3, disnt_basal=0.0631, disnt_after=0.13, val_r2_mean=0.933, val_KL=nan]   \n"
     ]
    }
   ],
   "source": [
    "model.train(max_epochs=200,\n",
    "            use_gpu=True,\n",
    "            batch_size=512,\n",
    "            plan_kwargs=trainer_params,\n",
    "            early_stopping_patience=10,\n",
    "            check_val_every_n_epoch=5,\n",
    "            save_path=\"/lustre/groups/ml01/workspace/ot_perturbation/models/chemcpa/combosciplex/1\",\n",
    "           )"
   ]
  },
  {
   "cell_type": "code",
   "execution_count": 19,
   "id": "528b8304-522d-4cce-bce4-a94f5631c016",
   "metadata": {},
   "outputs": [
    {
     "name": "stderr",
     "output_type": "stream",
     "text": [
      "100%|██████████| 2035/2035 [00:53<00:00, 38.04it/s] \n"
     ]
    }
   ],
   "source": [
    "model.predict(adata_combined)"
   ]
  },
  {
   "cell_type": "code",
   "execution_count": 20,
   "id": "0f11ceeb-827a-4641-a35f-9838dfa6bae2",
   "metadata": {},
   "outputs": [],
   "source": [
    "adata_combined.write(\n",
    "    f\"/lustre/groups/ml01/workspace/ot_perturbation/models/chemcpa/combosciplex/adata_with_predictions_{split}.h5ad\"\n",
    ")"
   ]
  },
  {
   "cell_type": "code",
   "execution_count": null,
   "id": "9d7e7413-68df-4d3d-bcf9-6aba30b836ef",
   "metadata": {},
   "outputs": [],
   "source": []
  }
 ],
 "metadata": {
  "kernelspec": {
   "display_name": "ot_pert_cpa",
   "language": "python",
   "name": "ot_pert_cpa"
  },
  "language_info": {
   "codemirror_mode": {
    "name": "ipython",
    "version": 3
   },
   "file_extension": ".py",
   "mimetype": "text/x-python",
   "name": "python",
   "nbconvert_exporter": "python",
   "pygments_lexer": "ipython3",
   "version": "3.9.19"
  }
 },
 "nbformat": 4,
 "nbformat_minor": 5
}
