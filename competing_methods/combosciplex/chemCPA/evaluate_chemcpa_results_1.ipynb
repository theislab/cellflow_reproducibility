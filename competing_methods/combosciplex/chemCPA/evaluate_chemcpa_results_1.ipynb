{
 "cells": [
  {
   "cell_type": "code",
   "execution_count": 1,
   "id": "a00b8d6c-5d45-41fe-a591-6089008c745d",
   "metadata": {},
   "outputs": [],
   "source": [
    "import os\n",
    "os.environ['XLA_PYTHON_CLIENT_PREALLOCATE'] = 'false'"
   ]
  },
  {
   "cell_type": "code",
   "execution_count": 2,
   "id": "1395d093-8d3e-48c0-8ffb-7e864854f3a5",
   "metadata": {},
   "outputs": [
    {
     "name": "stderr",
     "output_type": "stream",
     "text": [
      "/home/icb/dominik.klein/mambaforge/envs/cfp/lib/python3.11/site-packages/tqdm/auto.py:21: TqdmWarning: IProgress not found. Please update jupyter and ipywidgets. See https://ipywidgets.readthedocs.io/en/stable/user_install.html\n",
      "  from .autonotebook import tqdm as notebook_tqdm\n"
     ]
    }
   ],
   "source": [
    "import functools\n",
    "\n",
    "import jax\n",
    "import numpy as np\n",
    "import scanpy as sc\n",
    "\n",
    "from cfp.metrics import compute_mean_metrics, compute_metrics, compute_metrics_fast\n",
    "import cfp.preprocessing as cfpp"
   ]
  },
  {
   "cell_type": "code",
   "execution_count": 3,
   "id": "34291a02-90e4-44ff-9ecd-7ec81aa42b43",
   "metadata": {},
   "outputs": [],
   "source": [
    "split = 1"
   ]
  },
  {
   "cell_type": "code",
   "execution_count": 4,
   "id": "07027cac-18fd-4ef8-b54e-09315f9ae6eb",
   "metadata": {
    "scrolled": true
   },
   "outputs": [
    {
     "name": "stderr",
     "output_type": "stream",
     "text": [
      "/home/icb/dominik.klein/mambaforge/envs/cfp/lib/python3.11/site-packages/anndata/_core/anndata.py:1818: UserWarning: Observation names are not unique. To make them unique, call `.obs_names_make_unique`.\n",
      "  utils.warn_names_duplicates(\"obs\")\n"
     ]
    }
   ],
   "source": [
    "adata_preds = sc.read(f\"/lustre/groups/ml01/workspace/ot_perturbation/models/chemcpa/combosciplex/adata_with_predictions_{split}.h5ad\")"
   ]
  },
  {
   "cell_type": "code",
   "execution_count": 5,
   "id": "862ac848-95cb-4c9f-8846-9b46b29d265e",
   "metadata": {},
   "outputs": [],
   "source": [
    "adata_train_path = f\"/lustre/groups/ml01/workspace/ot_perturbation/data/combosciplex/adata_train_{split}.h5ad\"\n",
    "adata_test_path = f\"/lustre/groups/ml01/workspace/ot_perturbation/data/combosciplex/adata_test_{split}.h5ad\"\n",
    "adata_ood_path = f\"/lustre/groups/ml01/workspace/ot_perturbation/data/combosciplex/adata_ood_{split}.h5ad\""
   ]
  },
  {
   "cell_type": "code",
   "execution_count": 6,
   "id": "091f2f81-d713-4a2a-a003-37c5db5d3bc7",
   "metadata": {},
   "outputs": [],
   "source": [
    "adata_train = sc.read(adata_train_path)\n",
    "adata_test = sc.read(adata_test_path)\n",
    "adata_ood = sc.read(adata_ood_path)"
   ]
  },
  {
   "cell_type": "code",
   "execution_count": 7,
   "id": "5f7df9d8-66d9-42bb-bcb6-dbd8db9a4454",
   "metadata": {},
   "outputs": [],
   "source": [
    "adata_ref_test = adata_test[adata_test.obs[\"condition\"]!=\"control\"].copy()\n",
    "cfpp.centered_pca(adata_ref_test, n_comps=10)\n",
    "\n",
    "adata_ref_ood = adata_ood[adata_ood.obs[\"condition\"]!=\"control\"].copy()\n",
    "cfpp.centered_pca(adata_ref_ood, n_comps=10)"
   ]
  },
  {
   "cell_type": "code",
   "execution_count": 8,
   "id": "c2541151-a591-4df2-ada0-948a6cb268fc",
   "metadata": {
    "scrolled": true
   },
   "outputs": [
    {
     "name": "stderr",
     "output_type": "stream",
     "text": [
      "/tmp/ipykernel_1395211/2350350615.py:2: ImplicitModificationWarning: Setting element `.layers['CPA_PRED']` of view, initializing view as actual.\n",
      "  adata_pred_test.layers[\"CPA_PRED\"] = adata_pred_test.obsm[\"CPA_pred\"]\n",
      "/tmp/ipykernel_1395211/2350350615.py:18: ImplicitModificationWarning: Setting element `.layers['CPA_PRED']` of view, initializing view as actual.\n",
      "  adata_pred_ood.layers[\"CPA_PRED\"] = adata_pred_ood.obsm[\"CPA_pred\"]\n"
     ]
    }
   ],
   "source": [
    "adata_pred_test = adata_preds[adata_preds.obs[\"split\"]==\"test\"]\n",
    "adata_pred_test.layers[\"CPA_PRED\"] = adata_pred_test.obsm[\"CPA_pred\"]\n",
    "cfpp.project_pca(query_adata=adata_pred_test, ref_adata=adata_ref_test, layer=\"CPA_PRED\")\n",
    "cfpp.project_pca(query_adata=adata_test, ref_adata=adata_ref_test)\n",
    "test_data_target_encoded = {}\n",
    "test_data_target_decoded = {}\n",
    "test_data_target_encoded_predicted = {}\n",
    "test_data_target_decoded_predicted = {}\n",
    "for cond in adata_test.obs[\"condition\"].cat.categories:\n",
    "    if cond == \"control\":\n",
    "        continue\n",
    "    test_data_target_encoded[cond] = adata_test[adata_test.obs[\"condition\"] == cond].obsm[\"X_pca\"]\n",
    "    test_data_target_decoded[cond] = adata_test[adata_test.obs[\"condition\"] == cond].X.toarray()\n",
    "    test_data_target_decoded_predicted[cond] = adata_pred_test[adata_pred_test.obs[\"condition\"] == cond].obsm[\"CPA_pred\"]\n",
    "    test_data_target_encoded_predicted[cond] = adata_pred_test[adata_pred_test.obs[\"condition\"] == cond].obsm[\"X_pca\"]\n",
    "\n",
    "adata_pred_ood = adata_preds[adata_preds.obs[\"split\"]==\"ood\"]\n",
    "adata_pred_ood.layers[\"CPA_PRED\"] = adata_pred_ood.obsm[\"CPA_pred\"]\n",
    "cfpp.project_pca(query_adata=adata_pred_ood, ref_adata=adata_ref_ood, layer=\"CPA_PRED\")\n",
    "cfpp.project_pca(query_adata=adata_ood, ref_adata=adata_ref_ood)\n",
    "ood_data_target_encoded = {}\n",
    "ood_data_target_decoded = {}\n",
    "ood_data_target_encoded_predicted = {}\n",
    "ood_data_target_decoded_predicted = {}\n",
    "for cond in adata_ood.obs[\"condition\"].cat.categories:\n",
    "    if cond == \"control\":\n",
    "        continue\n",
    "    ood_data_target_encoded[cond] = adata_ood[adata_ood.obs[\"condition\"] == cond].obsm[\"X_pca\"]\n",
    "    ood_data_target_decoded[cond] = adata_ood[adata_ood.obs[\"condition\"] == cond].X.toarray()\n",
    "    ood_data_target_decoded_predicted[cond] = adata_pred_ood[adata_pred_ood.obs[\"condition\"] == cond].obsm[\"CPA_pred\"]\n",
    "    ood_data_target_encoded_predicted[cond] = adata_pred_ood[adata_pred_ood.obs[\"condition\"] == cond].obsm[\"X_pca\"]"
   ]
  },
  {
   "cell_type": "code",
   "execution_count": 9,
   "id": "c9e8562b-66d1-4151-8824-a4944b4e2e85",
   "metadata": {},
   "outputs": [],
   "source": [
    "test_deg_dict = {\n",
    "    k: v\n",
    "    for k, v in adata_train.uns[\"rank_genes_groups_cov_all\"].items()\n",
    "    if k in test_data_target_decoded_predicted.keys()\n",
    "}\n",
    "ood_deg_dict = {\n",
    "    k: v\n",
    "    for k, v in adata_train.uns[\"rank_genes_groups_cov_all\"].items()\n",
    "    if k in ood_data_target_decoded_predicted.keys()\n",
    "}"
   ]
  },
  {
   "cell_type": "code",
   "execution_count": 10,
   "id": "e1fc5bf1-9976-4071-a7ac-605b1494a351",
   "metadata": {},
   "outputs": [],
   "source": [
    "def get_mask(x, y):\n",
    "    return x[:, [gene in y for gene in adata_train.var_names]]\n",
    "\n",
    "\n",
    "ood_deg_target_decoded_predicted = jax.tree_util.tree_map(get_mask, ood_data_target_decoded_predicted, ood_deg_dict)\n",
    "ood_deg_target_decoded = jax.tree_util.tree_map(get_mask, ood_data_target_decoded, ood_deg_dict)\n",
    "\n",
    "test_deg_target_decoded_predicted = jax.tree_util.tree_map(get_mask, test_data_target_decoded_predicted, test_deg_dict)\n",
    "test_deg_target_decoded = jax.tree_util.tree_map(get_mask, test_data_target_decoded, test_deg_dict)\n"
   ]
  },
  {
   "cell_type": "code",
   "execution_count": 11,
   "id": "e8d7ff42-9dbb-4635-9e68-ac3306d27af8",
   "metadata": {},
   "outputs": [],
   "source": [
    "deg_ood_metrics = jax.tree_util.tree_map(compute_metrics, ood_deg_target_decoded, ood_deg_target_decoded_predicted)\n",
    "deg_mean_ood_metrics = compute_mean_metrics(deg_ood_metrics, prefix=\"deg_ood_\")\n",
    "\n",
    "deg_test_metrics = jax.tree_util.tree_map(compute_metrics, test_deg_target_decoded, test_deg_target_decoded_predicted)\n",
    "deg_mean_test_metrics = compute_mean_metrics(deg_test_metrics, prefix=\"deg_test_\")\n"
   ]
  },
  {
   "cell_type": "code",
   "execution_count": 12,
   "id": "9e337bf1-f165-4d62-a79f-4327be259a6c",
   "metadata": {},
   "outputs": [],
   "source": [
    "test_metrics_encoded = jax.tree_util.tree_map(\n",
    "    compute_metrics, test_data_target_encoded, test_data_target_encoded_predicted\n",
    ")\n",
    "mean_test_metrics_encoded = compute_mean_metrics(test_metrics_encoded, prefix=\"encoded_test_\")\n",
    "\n",
    "test_metrics_decoded = jax.tree_util.tree_map(\n",
    "    compute_metrics_fast, test_data_target_decoded, test_data_target_decoded_predicted\n",
    ")\n",
    "mean_test_metrics_decoded = compute_mean_metrics(test_metrics_decoded, prefix=\"decoded_test_\")"
   ]
  },
  {
   "cell_type": "code",
   "execution_count": 13,
   "id": "cbdff236-b23d-4db5-b28f-a072c3ccaecf",
   "metadata": {},
   "outputs": [],
   "source": [
    "ood_metrics_encoded = jax.tree_util.tree_map(\n",
    "    compute_metrics, ood_data_target_encoded, ood_data_target_encoded_predicted\n",
    ")\n",
    "mean_ood_metrics_encoded = compute_mean_metrics(ood_metrics_encoded, prefix=\"encoded_ood_\")\n",
    "\n",
    "ood_metrics_decoded = jax.tree_util.tree_map(\n",
    "    compute_metrics, ood_data_target_decoded, ood_data_target_decoded_predicted\n",
    ")\n",
    "mean_ood_metrics_decoded = compute_mean_metrics(ood_metrics_decoded, prefix=\"decoded_ood_\")"
   ]
  },
  {
   "cell_type": "code",
   "execution_count": 14,
   "id": "3530543f-09ca-4de9-99b4-48b95bd80961",
   "metadata": {},
   "outputs": [
    {
     "data": {
      "text/plain": [
       "{'decoded_ood_r_squared': 0.7583311370440892,\n",
       " 'decoded_ood_sinkhorn_div_1': 104.91385105678013,\n",
       " 'decoded_ood_sinkhorn_div_10': 70.87678473336356,\n",
       " 'decoded_ood_sinkhorn_div_100': 24.199761526925222,\n",
       " 'decoded_ood_e_distance': 47.56255558561155,\n",
       " 'decoded_ood_mmd': 0.40828136035374235}"
      ]
     },
     "execution_count": 14,
     "metadata": {},
     "output_type": "execute_result"
    }
   ],
   "source": [
    "mean_ood_metrics_decoded"
   ]
  },
  {
   "cell_type": "code",
   "execution_count": 15,
   "id": "60018b48-c646-467d-bfdb-a0b5cefae334",
   "metadata": {},
   "outputs": [
    {
     "data": {
      "text/plain": [
       "{'decoded_test_r_squared': 0.7544632653395335,\n",
       " 'decoded_test_e_distance': 47.468259798773005,\n",
       " 'decoded_test_mmd_distance': 0.4137947695950667}"
      ]
     },
     "execution_count": 15,
     "metadata": {},
     "output_type": "execute_result"
    }
   ],
   "source": [
    "mean_test_metrics_decoded"
   ]
  },
  {
   "cell_type": "code",
   "execution_count": null,
   "id": "f9c784ea-6239-40e0-8c59-44a462a9bad7",
   "metadata": {},
   "outputs": [],
   "source": []
  },
  {
   "cell_type": "code",
   "execution_count": 16,
   "id": "8c7c1e77-4a4c-49ce-b79c-52db6292814e",
   "metadata": {},
   "outputs": [
    {
     "data": {
      "text/plain": [
       "{'decoded_ood_r_squared': 0.7583311370440892,\n",
       " 'decoded_ood_sinkhorn_div_1': 104.91385105678013,\n",
       " 'decoded_ood_sinkhorn_div_10': 70.87678473336356,\n",
       " 'decoded_ood_sinkhorn_div_100': 24.199761526925222,\n",
       " 'decoded_ood_e_distance': 47.56255558561155,\n",
       " 'decoded_ood_mmd': 0.40828136035374235}"
      ]
     },
     "execution_count": 16,
     "metadata": {},
     "output_type": "execute_result"
    }
   ],
   "source": [
    "mean_ood_metrics_decoded"
   ]
  },
  {
   "cell_type": "code",
   "execution_count": 17,
   "id": "914b2f8c-7960-406a-87b3-2a0b83b3c5d7",
   "metadata": {},
   "outputs": [
    {
     "data": {
      "text/plain": [
       "{'encoded_ood_r_squared': -0.16320323092596872,\n",
       " 'encoded_ood_sinkhorn_div_1': 28.561551366533553,\n",
       " 'encoded_ood_sinkhorn_div_10': 24.534843581063406,\n",
       " 'encoded_ood_sinkhorn_div_100': 23.112079892839706,\n",
       " 'encoded_ood_e_distance': 45.89178975814783,\n",
       " 'encoded_ood_mmd': 0.372120948774474}"
      ]
     },
     "execution_count": 17,
     "metadata": {},
     "output_type": "execute_result"
    }
   ],
   "source": [
    "mean_ood_metrics_encoded"
   ]
  },
  {
   "cell_type": "code",
   "execution_count": 18,
   "id": "687f3ea3-4546-4c4d-819a-4e0927442ce5",
   "metadata": {},
   "outputs": [
    {
     "data": {
      "text/plain": [
       "{'deg_ood_r_squared': 0.5687286172594342,\n",
       " 'deg_ood_sinkhorn_div_1': 22.325497218540736,\n",
       " 'deg_ood_sinkhorn_div_10': 14.003204550061907,\n",
       " 'deg_ood_sinkhorn_div_100': 13.36653743471418,\n",
       " 'deg_ood_e_distance': 26.604476978617836,\n",
       " 'deg_ood_mmd': 0.4617248134953635}"
      ]
     },
     "execution_count": 18,
     "metadata": {},
     "output_type": "execute_result"
    }
   ],
   "source": [
    "deg_mean_ood_metrics"
   ]
  },
  {
   "cell_type": "code",
   "execution_count": 19,
   "id": "1ef8107f-d103-479c-8b4a-2933ab105a62",
   "metadata": {},
   "outputs": [
    {
     "data": {
      "text/plain": [
       "{'deg_test_r_squared': 0.5871160055200259,\n",
       " 'deg_test_sinkhorn_div_1': 23.177490572134655,\n",
       " 'deg_test_sinkhorn_div_10': 14.496344804763794,\n",
       " 'deg_test_sinkhorn_div_100': 13.409663081169128,\n",
       " 'deg_test_e_distance': 26.661953989414798,\n",
       " 'deg_test_mmd': 0.44162969539562863}"
      ]
     },
     "execution_count": 19,
     "metadata": {},
     "output_type": "execute_result"
    }
   ],
   "source": [
    "deg_mean_test_metrics"
   ]
  },
  {
   "cell_type": "code",
   "execution_count": 20,
   "id": "e708f928-1654-4b93-b546-5f0b1a537def",
   "metadata": {},
   "outputs": [
    {
     "data": {
      "text/plain": [
       "{'decoded_test_r_squared': 0.7544632653395335,\n",
       " 'decoded_test_e_distance': 47.468259798773005,\n",
       " 'decoded_test_mmd_distance': 0.4137947695950667}"
      ]
     },
     "execution_count": 20,
     "metadata": {},
     "output_type": "execute_result"
    }
   ],
   "source": [
    "mean_test_metrics_decoded"
   ]
  },
  {
   "cell_type": "code",
   "execution_count": 21,
   "id": "90c58881-8511-4154-8430-507e59c498e7",
   "metadata": {},
   "outputs": [
    {
     "data": {
      "text/plain": [
       "{'decoded_ood_r_squared': 0.7583311370440892,\n",
       " 'decoded_ood_sinkhorn_div_1': 104.91385105678013,\n",
       " 'decoded_ood_sinkhorn_div_10': 70.87678473336356,\n",
       " 'decoded_ood_sinkhorn_div_100': 24.199761526925222,\n",
       " 'decoded_ood_e_distance': 47.56255558561155,\n",
       " 'decoded_ood_mmd': 0.40828136035374235}"
      ]
     },
     "execution_count": 21,
     "metadata": {},
     "output_type": "execute_result"
    }
   ],
   "source": [
    "mean_ood_metrics_decoded"
   ]
  },
  {
   "cell_type": "code",
   "execution_count": 22,
   "id": "4ed6d545-6b19-4d72-887c-f5618d87d47d",
   "metadata": {},
   "outputs": [
    {
     "data": {
      "text/plain": [
       "{'deg_ood_r_squared': 0.5687286172594342,\n",
       " 'deg_ood_sinkhorn_div_1': 22.325497218540736,\n",
       " 'deg_ood_sinkhorn_div_10': 14.003204550061907,\n",
       " 'deg_ood_sinkhorn_div_100': 13.36653743471418,\n",
       " 'deg_ood_e_distance': 26.604476978617836,\n",
       " 'deg_ood_mmd': 0.4617248134953635}"
      ]
     },
     "execution_count": 22,
     "metadata": {},
     "output_type": "execute_result"
    }
   ],
   "source": [
    "deg_mean_ood_metrics"
   ]
  },
  {
   "cell_type": "code",
   "execution_count": 23,
   "id": "ee62783f-7f1d-4a1e-8c74-eeaa935881a0",
   "metadata": {},
   "outputs": [
    {
     "data": {
      "text/plain": [
       "{'decoded_test_r_squared': 0.7544632653395335,\n",
       " 'decoded_test_e_distance': 47.468259798773005,\n",
       " 'decoded_test_mmd_distance': 0.4137947695950667}"
      ]
     },
     "execution_count": 23,
     "metadata": {},
     "output_type": "execute_result"
    }
   ],
   "source": [
    "mean_test_metrics_decoded"
   ]
  },
  {
   "cell_type": "code",
   "execution_count": 24,
   "id": "014cbe29-83e0-4a37-aa82-29804107152a",
   "metadata": {},
   "outputs": [
    {
     "data": {
      "text/plain": [
       "{'encoded_test_r_squared': -0.5184901296834094,\n",
       " 'encoded_test_sinkhorn_div_1': 27.951833486557007,\n",
       " 'encoded_test_sinkhorn_div_10': 23.561344703038532,\n",
       " 'encoded_test_sinkhorn_div_100': 22.2146254380544,\n",
       " 'encoded_test_e_distance': 44.141308159933125,\n",
       " 'encoded_test_mmd': 0.383746054644386}"
      ]
     },
     "execution_count": 24,
     "metadata": {},
     "output_type": "execute_result"
    }
   ],
   "source": [
    "mean_test_metrics_encoded"
   ]
  },
  {
   "cell_type": "code",
   "execution_count": 25,
   "id": "c671a0fc-6743-46c4-9ce2-cff5bf900e46",
   "metadata": {},
   "outputs": [
    {
     "data": {
      "text/plain": [
       "{'Givinostat+Dasatinib': {'r_squared': 0.7096127867698669,\n",
       "  'sinkhorn_div_1': 7.011560440063477,\n",
       "  'sinkhorn_div_10': 3.322206497192383,\n",
       "  'sinkhorn_div_100': 2.246318817138672,\n",
       "  'e_distance': 4.23840041103893,\n",
       "  'mmd': 0.24613881},\n",
       " 'Givinostat+SRT1720': {'r_squared': 0.5914133787155151,\n",
       "  'sinkhorn_div_1': 7.524575233459473,\n",
       "  'sinkhorn_div_10': 3.9772605895996094,\n",
       "  'sinkhorn_div_100': 2.984194755554199,\n",
       "  'e_distance': 5.743551044620476,\n",
       "  'mmd': 0.2560083},\n",
       " 'Panobinostat+Dasatinib': {'r_squared': -1.1322658061981201,\n",
       "  'sinkhorn_div_1': 53.164649963378906,\n",
       "  'sinkhorn_div_10': 48.90763473510742,\n",
       "  'sinkhorn_div_100': 47.201011657714844,\n",
       "  'e_distance': 94.02335283147708,\n",
       "  'mmd': 0.51081914},\n",
       " 'Panobinostat+PCI-34051': {'r_squared': -1.2073190212249756,\n",
       "  'sinkhorn_div_1': 60.13479232788086,\n",
       "  'sinkhorn_div_10': 55.326324462890625,\n",
       "  'sinkhorn_div_100': 53.203887939453125,\n",
       "  'e_distance': 105.89463072406123,\n",
       "  'mmd': 0.52954537},\n",
       " 'Panobinostat+SRT2104': {'r_squared': -1.2622239589691162,\n",
       "  'sinkhorn_div_1': 53.76094055175781,\n",
       "  'sinkhorn_div_10': 49.10739517211914,\n",
       "  'sinkhorn_div_100': 47.08827209472656,\n",
       "  'e_distance': 93.68981679552937,\n",
       "  'mmd': 0.5147707},\n",
       " 'SRT3025+Cediranib': {'r_squared': 0.8411825299263,\n",
       "  'sinkhorn_div_1': 6.502976417541504,\n",
       "  'sinkhorn_div_10': 2.8216333389282227,\n",
       "  'sinkhorn_div_100': 1.679549217224121,\n",
       "  'e_distance': 3.076488546256475,\n",
       "  'mmd': 0.24092267},\n",
       " 'control+Dasatinib': {'r_squared': 0.3171774744987488,\n",
       "  'sinkhorn_div_1': 11.831364631652832,\n",
       "  'sinkhorn_div_10': 8.281450271606445,\n",
       "  'sinkhorn_div_100': 7.381324768066406,\n",
       "  'e_distance': 14.57628795405125,\n",
       "  'mmd': 0.30664167}}"
      ]
     },
     "execution_count": 25,
     "metadata": {},
     "output_type": "execute_result"
    }
   ],
   "source": [
    "ood_metrics_encoded"
   ]
  },
  {
   "cell_type": "code",
   "execution_count": 26,
   "id": "ad5e53e5-ff5f-4df7-9e94-5f4414cebb9f",
   "metadata": {},
   "outputs": [],
   "source": [
    "output_dir = \"/lustre/groups/ml01/workspace/ot_perturbation/data/combosciplex/results/chemcpa\""
   ]
  },
  {
   "cell_type": "code",
   "execution_count": 27,
   "id": "899fc8be-e234-478e-86fc-3874dddf50c8",
   "metadata": {},
   "outputs": [],
   "source": [
    "import os\n",
    "import pandas as pd\n",
    "\n",
    "pd.DataFrame.from_dict(ood_metrics_encoded).to_csv(os.path.join(output_dir, f\"ood_metrics_encoded_{split}.csv\"))\n",
    "pd.DataFrame.from_dict(ood_metrics_decoded).to_csv(os.path.join(output_dir, f\"ood_metrics_decoded_{split}.csv\"))\n",
    "pd.DataFrame.from_dict(test_metrics_encoded).to_csv(os.path.join(output_dir, f\"test_metrics_encoded_{split}.csv\"))\n",
    "pd.DataFrame.from_dict(test_metrics_decoded).to_csv(os.path.join(output_dir, f\"test_metrics_decoded_{split}.csv\"))\n",
    "pd.DataFrame.from_dict(deg_test_metrics).to_csv(os.path.join(output_dir, f\"test_metrics_deg_{split}.csv\"))\n",
    "pd.DataFrame.from_dict(deg_ood_metrics).to_csv(os.path.join(output_dir, f\"ood_metrics_ood_{split}.csv\"))\n"
   ]
  },
  {
   "cell_type": "code",
   "execution_count": null,
   "id": "f144cf20-afe9-4a5f-9deb-a9473afcbb30",
   "metadata": {},
   "outputs": [],
   "source": []
  }
 ],
 "metadata": {
  "kernelspec": {
   "display_name": "cfp",
   "language": "python",
   "name": "cfp"
  },
  "language_info": {
   "codemirror_mode": {
    "name": "ipython",
    "version": 3
   },
   "file_extension": ".py",
   "mimetype": "text/x-python",
   "name": "python",
   "nbconvert_exporter": "python",
   "pygments_lexer": "ipython3",
   "version": "3.11.9"
  }
 },
 "nbformat": 4,
 "nbformat_minor": 5
}
