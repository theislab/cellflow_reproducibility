{
 "cells": [
  {
   "cell_type": "code",
   "execution_count": 1,
   "id": "4bbc5965-37b5-415a-8f75-3c042ca2fd20",
   "metadata": {},
   "outputs": [
    {
     "name": "stderr",
     "output_type": "stream",
     "text": [
      "[rank: 0] Global seed set to 0\n",
      "2024-07-10 11:41:39,001\tINFO util.py:154 -- Missing packages: ['ipywidgets']. Run `pip install -U ipywidgets`, then restart the notebook server for rich notebook output.\n",
      "2024-07-10 11:41:43,559\tINFO util.py:154 -- Missing packages: ['ipywidgets']. Run `pip install -U ipywidgets`, then restart the notebook server for rich notebook output.\n"
     ]
    }
   ],
   "source": [
    "import cpa\n",
    "import scanpy as sc\n",
    "import pandas as pd\n",
    "import anndata as ad\n",
    "import numpy as np"
   ]
  },
  {
   "cell_type": "code",
   "execution_count": 2,
   "id": "1cfb5c56-361d-4403-9324-f35c8629e83b",
   "metadata": {},
   "outputs": [],
   "source": [
    "adata_train_path = \"/lustre/groups/ml01/workspace/ot_perturbation/data/combosciplex/adata_train_300.h5ad\"\n",
    "adata_test_path = \"/lustre/groups/ml01/workspace/ot_perturbation/data/combosciplex/adata_test_300.h5ad\"\n",
    "adata_ood_path = \"/lustre/groups/ml01/workspace/ot_perturbation/data/combosciplex/adata_ood_300.h5ad\""
   ]
  },
  {
   "cell_type": "code",
   "execution_count": 3,
   "id": "b4a7e157-bb65-4bc7-b14b-00f9f6ba475a",
   "metadata": {},
   "outputs": [],
   "source": [
    "adata_train = sc.read(adata_train_path)\n",
    "adata_test = sc.read(adata_test_path)\n",
    "adata_ood = sc.read(adata_ood_path)"
   ]
  },
  {
   "cell_type": "code",
   "execution_count": 4,
   "id": "80932e83-09d2-4ddd-a6f4-c935de8b87c4",
   "metadata": {},
   "outputs": [
    {
     "data": {
      "text/plain": [
       "condition\n",
       "Givinostat+SRT1720         2260\n",
       "Cediranib+PCI-34051        2161\n",
       "Panobinostat+PCI-34051     1814\n",
       "Panobinostat+Crizotinib    1641\n",
       "SRT2104+Alvespimycin        520\n",
       "control                     500\n",
       "Name: count, dtype: int64"
      ]
     },
     "execution_count": 4,
     "metadata": {},
     "output_type": "execute_result"
    }
   ],
   "source": [
    "adata_ood.obs[\"condition\"].value_counts()"
   ]
  },
  {
   "cell_type": "code",
   "execution_count": 5,
   "id": "adb9709c-faf4-4674-a020-8229fabe07a8",
   "metadata": {},
   "outputs": [],
   "source": [
    "try:\n",
    "    data_path = 'combo_sciplex_prep_hvg_filtered.h5ad'\n",
    "    adata = sc.read(data_path)\n",
    "except:\n",
    "    import gdown\n",
    "    gdown.download('https://drive.google.com/uc?export=download&id=1RRV0_qYKGTvD3oCklKfoZQFYqKJy4l6t')\n",
    "    data_path = 'combo_sciplex_prep_hvg_filtered.h5ad'\n",
    "    adata = sc.read(data_path)\n",
    "\n",
    "adata\n",
    "\n",
    "adata.obs[\"index\"] = adata.obs_names.values\n",
    "adata.obs[\"index_adapted\"] = adata.obs.apply(lambda x: x[\"index\"][:-2], axis=1)\n",
    "adata.obs.set_index(\"index_adapted\", inplace=True)\n",
    "\n",
    "adata_ood.obs[\"cov_drug_dose\"] = adata.obs[\"cov_drug_dose\"]\n",
    "adata_ood.obs[\"condition_ID\"] = adata.obs[\"condition_ID\"]\n",
    "adata_ood.obs[\"log_dose\"] = adata.obs[\"log_dose\"]\n",
    "adata_ood.obs[\"smiles_rdkit\"] = adata.obs[\"smiles_rdkit\"]\n",
    "adata_ood.obs[\"cell_type\"] = adata.obs[\"cell_type\"]\n",
    "\n",
    "adata_test.obs[\"cov_drug_dose\"] = adata.obs[\"cov_drug_dose\"]\n",
    "adata_test.obs[\"condition_ID\"] = adata.obs[\"condition_ID\"]\n",
    "adata_test.obs[\"log_dose\"] = adata.obs[\"log_dose\"]\n",
    "adata_test.obs[\"smiles_rdkit\"] = adata.obs[\"smiles_rdkit\"]\n",
    "adata_test.obs[\"cell_type\"] = adata.obs[\"cell_type\"]\n",
    "\n",
    "adata_train.obs[\"cov_drug_dose\"] = adata.obs[\"cov_drug_dose\"]\n",
    "adata_train.obs[\"condition_ID\"] = adata.obs[\"condition_ID\"]\n",
    "adata_train.obs[\"log_dose\"] = adata.obs[\"log_dose\"]\n",
    "adata_train.obs[\"smiles_rdkit\"] = adata.obs[\"smiles_rdkit\"]\n",
    "adata_train.obs[\"cell_type\"] = adata.obs[\"cell_type\"]"
   ]
  },
  {
   "cell_type": "code",
   "execution_count": 6,
   "id": "b15743ed-dd24-4614-bb3d-9635031192b6",
   "metadata": {},
   "outputs": [],
   "source": [
    "control_cells_gex = adata_ood[adata_ood.obs[\"condition\"]==\"control\"].X.A\n",
    "obs_names = list(adata_ood[adata_ood.obs[\"condition\"]==\"control\"].obs_names)\n",
    "\n",
    "all_data = []\n",
    "obs_df = pd.DataFrame(columns=[\"condition_ID\", \"log_dose\", \"smiles_rdkit\", \"cell_type\", \"condition\"])\n",
    "indices = []\n",
    "\n",
    "for condition in adata_ood.obs[\"condition\"].cat.categories:\n",
    "    if condition==\"control\":\n",
    "        continue\n",
    "    all_data.append(control_cells_gex)\n",
    "    filtered_row = pd.Series(adata_ood[adata_ood.obs[\"condition\"] == condition].obs[[\"condition_ID\", \"log_dose\", \"smiles_rdkit\", \"cell_type\", \"condition\"]].iloc[0].values)\n",
    "    filtered_row_df = pd.DataFrame([filtered_row.values], columns=[\"condition_ID\", \"log_dose\", \"smiles_rdkit\", \"cell_type\", \"condition\"])\n",
    "    duplicated_rows = pd.concat([filtered_row_df] * 500, ignore_index=True)\n",
    "    obs_df = pd.concat([obs_df, duplicated_rows], ignore_index=True)\n",
    "\n",
    "# Stack all data vertically to create a single array\n",
    "all_data_array = np.vstack(all_data)\n",
    "\n",
    "\n",
    "# Create the Anndata object\n",
    "adata_ood_new = ad.AnnData(X=all_data_array, obs=obs_df)\n",
    "adata_ood_new.var = adata_ood.var\n",
    "\n",
    "\n",
    "control_cells_gex = adata_test[adata_test.obs[\"condition\"]==\"control\"].X.A\n",
    "obs_names = list(adata_test[adata_test.obs[\"condition\"]==\"control\"].obs_names)\n",
    "\n",
    "all_data = []\n",
    "obs_df = pd.DataFrame(columns=[\"condition_ID\", \"log_dose\", \"smiles_rdkit\", \"cell_type\", \"condition\"])\n",
    "indices = []\n",
    "\n",
    "for condition in adata_test.obs[\"condition\"].cat.categories:\n",
    "    if condition==\"control\":\n",
    "        continue\n",
    "    all_data.append(control_cells_gex)\n",
    "    filtered_row = pd.Series(adata_test[adata_test.obs[\"condition\"] == condition].obs[[\"condition_ID\", \"log_dose\", \"smiles_rdkit\", \"cell_type\", \"condition\"]].iloc[0].values)\n",
    "    filtered_row_df = pd.DataFrame([filtered_row.values], columns=[\"condition_ID\", \"log_dose\", \"smiles_rdkit\", \"cell_type\", \"condition\"])\n",
    "    duplicated_rows = pd.concat([filtered_row_df] * 500, ignore_index=True)\n",
    "    obs_df = pd.concat([obs_df, duplicated_rows], ignore_index=True)\n",
    "\n",
    "# Stack all data vertically to create a single array\n",
    "all_data_array = np.vstack(all_data)\n",
    "\n",
    "\n",
    "# Create the Anndata object\n",
    "adata_test_new = ad.AnnData(X=all_data_array, obs=obs_df)\n",
    "adata_test_new.var = adata_test.var"
   ]
  },
  {
   "cell_type": "code",
   "execution_count": 7,
   "id": "ecf8697d-7b1c-4352-89ff-09e03060fe31",
   "metadata": {},
   "outputs": [],
   "source": [
    "import anndata\n",
    "\n",
    "adata_combined = anndata.concat((adata_train, adata_test_new, adata_ood_new), label=\"split\", keys=[\"train\", \"test\", \"ood\"], join=\"inner\")"
   ]
  },
  {
   "cell_type": "code",
   "execution_count": 8,
   "id": "d84952c9-df06-409a-bca9-211f7a9d613a",
   "metadata": {},
   "outputs": [],
   "source": [
    "frac_valid = adata[adata.obs[\"split_1ct_MEC\"] == \"valid\"].n_obs / (\n",
    "    adata[adata.obs[\"split_1ct_MEC\"] == \"valid\"].n_obs + adata[adata.obs[\"split_1ct_MEC\"] == \"train\"].n_obs\n",
    ")"
   ]
  },
  {
   "cell_type": "code",
   "execution_count": 9,
   "id": "78a50d55-575b-4a87-9ddb-85fd048c54a0",
   "metadata": {},
   "outputs": [],
   "source": [
    "import numpy as np\n",
    "\n",
    "\n",
    "def create_split(x):\n",
    "    if x[\"split\"] != \"train\":\n",
    "        return x[\"split\"]\n",
    "    is_train = np.random.choice(2, p=[frac_valid, 1 - frac_valid])\n",
    "    if is_train:\n",
    "        return \"train_train\"\n",
    "    return \"train_valid\"\n",
    "\n",
    "\n",
    "adata_combined.obs[\"split_1ct_MEC\"] = adata_combined.obs.apply(create_split, axis=1)"
   ]
  },
  {
   "cell_type": "code",
   "execution_count": 11,
   "id": "2a631a3a-e2f8-44b5-82a0-fc03e64393ab",
   "metadata": {},
   "outputs": [
    {
     "name": "stderr",
     "output_type": "stream",
     "text": [
      "100%|██████████| 67382/67382 [00:00<00:00, 88294.74it/s]\n",
      "100%|██████████| 67382/67382 [00:00<00:00, 1136291.09it/s]\n",
      "An NVIDIA GPU may be present on this machine, but a CUDA-enabled jaxlib is not installed. Falling back to cpu.\n"
     ]
    },
    {
     "name": "stdout",
     "output_type": "stream",
     "text": [
      "\u001b[34mINFO    \u001b[0m Generating sequential column names                                                                        \n",
      "\u001b[34mINFO    \u001b[0m Generating sequential column names                                                                        \n"
     ]
    }
   ],
   "source": [
    "cpa.CPA.setup_anndata(adata_combined,\n",
    "                      perturbation_key='condition_ID',\n",
    "                      dosage_key='log_dose',\n",
    "                      control_group='CHEMBL504',\n",
    "                      batch_key=None,\n",
    "                      smiles_key='smiles_rdkit',\n",
    "                      is_count_data=False,\n",
    "                      categorical_covariate_keys=['cell_type'],\n",
    "                      deg_uns_cat_key='cov_drug_dose',\n",
    "                      max_comb_len=2,\n",
    "                     )"
   ]
  },
  {
   "cell_type": "code",
   "execution_count": 12,
   "id": "05c346cd-c37f-4ded-8eef-ccab1866f773",
   "metadata": {},
   "outputs": [],
   "source": [
    "ae_hparams = {'n_latent': 64,\n",
    " 'recon_loss': 'gauss',\n",
    " 'doser_type': 'linear',\n",
    " 'n_hidden_encoder': 256,\n",
    " 'n_layers_encoder': 3,\n",
    " 'n_hidden_decoder': 512,\n",
    " 'n_layers_decoder': 2,\n",
    " 'use_batch_norm_encoder': True,\n",
    " 'use_layer_norm_encoder': False,\n",
    " 'use_batch_norm_decoder': True,\n",
    " 'use_layer_norm_decoder': False,\n",
    " 'dropout_rate_encoder': 0.25,\n",
    " 'dropout_rate_decoder': 0.25,\n",
    " 'variational': False,\n",
    " 'seed': 6478}\n",
    "\n",
    "trainer_params = {'n_epochs_kl_warmup': None,\n",
    " 'n_epochs_pretrain_ae': 50,\n",
    " 'n_epochs_adv_warmup': 100,\n",
    " 'n_epochs_mixup_warmup': 10,\n",
    " 'mixup_alpha': 0.1,\n",
    " 'adv_steps': None,\n",
    " 'n_hidden_adv': 128,\n",
    " 'n_layers_adv': 3,\n",
    " 'use_batch_norm_adv': False,\n",
    " 'use_layer_norm_adv': False,\n",
    " 'dropout_rate_adv': 0.2,\n",
    " 'reg_adv': 10.0,\n",
    " 'pen_adv': 0.1,\n",
    " 'lr': 0.0003,\n",
    " 'wd': 4e-07,\n",
    " 'adv_lr': 0.0003,\n",
    " 'adv_wd': 4e-07,\n",
    " 'adv_loss': 'cce',\n",
    " 'doser_lr': 0.0003,\n",
    " 'doser_wd': 4e-07,\n",
    " 'do_clip_grad': False,\n",
    " 'gradient_clip_value': 1.0,\n",
    " 'step_size_lr': 10}"
   ]
  },
  {
   "cell_type": "code",
   "execution_count": 13,
   "id": "c84f5678-b3a4-4821-8bc0-ad9aa4765509",
   "metadata": {},
   "outputs": [
    {
     "name": "stdout",
     "output_type": "stream",
     "text": [
      "(18, 2048)\n"
     ]
    },
    {
     "name": "stderr",
     "output_type": "stream",
     "text": [
      "[rank: 0] Global seed set to 6478\n"
     ]
    }
   ],
   "source": [
    "model = cpa.CPA(adata=adata_combined,\n",
    "                split_key='split_1ct_MEC',\n",
    "                train_split='train_train',\n",
    "                valid_split='train_valid',\n",
    "                test_split='ood',\n",
    "                use_rdkit_embeddings=True,\n",
    "                **ae_hparams,\n",
    "               )"
   ]
  },
  {
   "cell_type": "code",
   "execution_count": 15,
   "id": "5b1637da-13c9-46c4-920e-511de77e5be3",
   "metadata": {},
   "outputs": [
    {
     "name": "stderr",
     "output_type": "stream",
     "text": [
      "100%|██████████| 32/32 [00:00<00:00, 172.58it/s]\n",
      "GPU available: True (cuda), used: True\n",
      "TPU available: False, using: 0 TPU cores\n",
      "IPU available: False, using: 0 IPUs\n",
      "HPU available: False, using: 0 HPUs\n",
      "You are using a CUDA device ('NVIDIA A100 80GB PCIe') that has Tensor Cores. To properly utilize them, you should set `torch.set_float32_matmul_precision('medium' | 'high')` which will trade-off precision for performance. For more details, read https://pytorch.org/docs/stable/generated/torch.set_float32_matmul_precision.html#torch.set_float32_matmul_precision\n",
      "LOCAL_RANK: 0 - CUDA_VISIBLE_DEVICES: [0]\n"
     ]
    },
    {
     "name": "stdout",
     "output_type": "stream",
     "text": [
      "Epoch 5/200:   2%|▏         | 4/200 [00:37<23:07,  7.08s/it, v_num=1, recon=-2.44e+3, r2_mean=0.909, adv_loss=2.43, acc_pert=0.156]"
     ]
    },
    {
     "name": "stderr",
     "output_type": "stream",
     "text": [
      "\n",
      "Epoch 00004: cpa_metric reached. Module best state updated.\n"
     ]
    },
    {
     "name": "stdout",
     "output_type": "stream",
     "text": [
      "Epoch 10/200:   4%|▍         | 9/200 [01:06<17:33,  5.51s/it, v_num=1, recon=-2.85e+3, r2_mean=0.918, adv_loss=2.43, acc_pert=0.166, val_recon=-2.65e+3, disnt_basal=0.108, disnt_after=0.29, val_r2_mean=0.902, val_KL=nan]\n",
      "disnt_basal = 0.09980377265869328\n",
      "disnt_after = 0.20788828756201239\n",
      "val_r2_mean = 0.9086304697555694\n",
      "val_r2_var = 0.7044784349886997\n",
      "Epoch 20/200:  10%|▉         | 19/200 [01:53<13:48,  4.58s/it, v_num=1, recon=-3.11e+3, r2_mean=0.927, adv_loss=2.46, acc_pert=0.166, val_recon=-2.97e+3, disnt_basal=0.0945, disnt_after=0.181, val_r2_mean=0.917, val_KL=nan]\n",
      "disnt_basal = 0.08802382931019331\n",
      "disnt_after = 0.1633828633051775\n",
      "val_r2_mean = 0.9154551795837453\n",
      "val_r2_var = 0.7268406598254887\n",
      "Epoch 30/200:  14%|█▍        | 29/200 [02:41<13:10,  4.62s/it, v_num=1, recon=-3.28e+3, r2_mean=0.928, adv_loss=2.47, acc_pert=0.163, val_recon=-3.13e+3, disnt_basal=0.0817, disnt_after=0.148, val_r2_mean=0.921, val_KL=nan]\n",
      "disnt_basal = 0.07465233165843886\n",
      "disnt_after = 0.1417650180657335\n",
      "val_r2_mean = 0.9237491618904603\n",
      "val_r2_var = 0.7468576836264895\n",
      "Epoch 40/200:  20%|█▉        | 39/200 [03:27<12:24,  4.62s/it, v_num=1, recon=-3.41e+3, r2_mean=0.929, adv_loss=2.51, acc_pert=0.161, val_recon=-3.29e+3, disnt_basal=0.07, disnt_after=0.133, val_r2_mean=0.921, val_KL=nan]  \n",
      "disnt_basal = 0.06450498634789938\n",
      "disnt_after = 0.1270733268953347\n",
      "val_r2_mean = 0.9222363875771212\n",
      "val_r2_var = 0.7394740206223948\n",
      "Epoch 50/200:  24%|██▍       | 49/200 [04:19<12:22,  4.92s/it, v_num=1, recon=-3.52e+3, r2_mean=0.93, adv_loss=2.56, acc_pert=0.162, val_recon=-3.38e+3, disnt_basal=0.0628, disnt_after=0.129, val_r2_mean=0.92, val_KL=nan]  \n",
      "disnt_basal = 0.06267432733056338\n",
      "disnt_after = 0.12240997668751724\n",
      "val_r2_mean = 0.922301127051665\n",
      "val_r2_var = 0.742104304559303\n",
      "Epoch 55/200:  28%|██▊       | 55/200 [04:53<12:53,  5.33s/it, v_num=1, recon=-3.57e+3, r2_mean=0.931, adv_loss=2.58, acc_pert=0.164, val_recon=-3.44e+3, disnt_basal=0.0619, disnt_after=0.125, val_r2_mean=0.92, val_KL=nan] \n"
     ]
    }
   ],
   "source": [
    "model.train(max_epochs=200,\n",
    "            use_gpu=True,\n",
    "            batch_size=512,\n",
    "            plan_kwargs=trainer_params,\n",
    "            early_stopping_patience=10,\n",
    "            check_val_every_n_epoch=5,\n",
    "            save_path=\"/lustre/groups/ml01/workspace/ot_perturbation/models/chemcpa/combosciplex\",\n",
    "           )"
   ]
  },
  {
   "cell_type": "code",
   "execution_count": 16,
   "id": "528b8304-522d-4cce-bce4-a94f5631c016",
   "metadata": {},
   "outputs": [
    {
     "name": "stderr",
     "output_type": "stream",
     "text": [
      "100%|██████████| 2106/2106 [00:09<00:00, 223.32it/s]\n"
     ]
    }
   ],
   "source": [
    "model.predict(adata_combined)"
   ]
  },
  {
   "cell_type": "code",
   "execution_count": 18,
   "id": "0f11ceeb-827a-4641-a35f-9838dfa6bae2",
   "metadata": {},
   "outputs": [],
   "source": [
    "adata_combined.write(\n",
    "    \"/lustre/groups/ml01/workspace/ot_perturbation/models/chemcpa/combosciplex/adata_with_predictions.h5ad\"\n",
    ")"
   ]
  },
  {
   "cell_type": "code",
   "execution_count": null,
   "id": "9d7e7413-68df-4d3d-bcf9-6aba30b836ef",
   "metadata": {},
   "outputs": [],
   "source": []
  }
 ],
 "metadata": {
  "kernelspec": {
   "display_name": "ot_pert_cpa",
   "language": "python",
   "name": "ot_pert_cpa"
  },
  "language_info": {
   "codemirror_mode": {
    "name": "ipython",
    "version": 3
   },
   "file_extension": ".py",
   "mimetype": "text/x-python",
   "name": "python",
   "nbconvert_exporter": "python",
   "pygments_lexer": "ipython3",
   "version": "3.9.19"
  }
 },
 "nbformat": 4,
 "nbformat_minor": 5
}
