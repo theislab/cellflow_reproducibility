{
 "cells": [
  {
   "cell_type": "code",
   "execution_count": 1,
   "id": "5c42fe3e-87d0-4e68-95d0-3faaca23e5f1",
   "metadata": {},
   "outputs": [
    {
     "name": "stderr",
     "output_type": "stream",
     "text": [
      "[rank: 0] Global seed set to 0\n",
      "2024-09-10 09:13:53,185\tINFO util.py:154 -- Missing packages: ['ipywidgets']. Run `pip install -U ipywidgets`, then restart the notebook server for rich notebook output.\n",
      "2024-09-10 09:13:56,367\tINFO util.py:154 -- Missing packages: ['ipywidgets']. Run `pip install -U ipywidgets`, then restart the notebook server for rich notebook output.\n"
     ]
    }
   ],
   "source": [
    "import cpa\n",
    "import scanpy as sc\n",
    "import pandas as pd\n",
    "import numpy as np\n",
    "import anndata as ad"
   ]
  },
  {
   "cell_type": "code",
   "execution_count": 2,
   "id": "3498874b-d16f-406c-8ce4-aedab48573b9",
   "metadata": {},
   "outputs": [],
   "source": [
    "adata_train_path = \"/lustre/groups/ml01/workspace/ot_perturbation/data/combosciplex/adata_train_1.h5ad\"\n",
    "adata_test_path = \"/lustre/groups/ml01/workspace/ot_perturbation/data/combosciplex/adata_test_1.h5ad\"\n",
    "adata_ood_path = \"/lustre/groups/ml01/workspace/ot_perturbation/data/combosciplex/adata_ood_1.h5ad\""
   ]
  },
  {
   "cell_type": "code",
   "execution_count": 3,
   "id": "746732a4-7e96-4a14-b52d-6f36e347a62a",
   "metadata": {},
   "outputs": [],
   "source": [
    "adata_train = sc.read(adata_train_path)\n",
    "adata_test = sc.read(adata_test_path)\n",
    "adata_ood = sc.read(adata_ood_path)"
   ]
  },
  {
   "cell_type": "code",
   "execution_count": 4,
   "id": "517e21e9-da91-4b71-9c7f-283433e19736",
   "metadata": {},
   "outputs": [],
   "source": [
    "try:\n",
    "    data_path = 'combo_sciplex_prep_hvg_filtered.h5ad'\n",
    "    adata = sc.read(data_path)\n",
    "except:\n",
    "    import gdown\n",
    "    gdown.download('https://drive.google.com/uc?export=download&id=1RRV0_qYKGTvD3oCklKfoZQFYqKJy4l6t')\n",
    "    data_path = 'combo_sciplex_prep_hvg_filtered.h5ad'\n",
    "    adata = sc.read(data_path)\n",
    "\n",
    "adata\n",
    "\n",
    "adata.obs[\"index\"] = adata.obs_names.values\n",
    "adata.obs[\"index_adapted\"] = adata.obs.apply(lambda x: x[\"index\"][:-2], axis=1)\n",
    "adata.obs.set_index(\"index_adapted\", inplace=True)\n",
    "\n",
    "adata_ood.obs[\"cov_drug_dose\"] = adata.obs[\"cov_drug_dose\"]\n",
    "adata_ood.obs[\"condition_ID\"] = adata.obs[\"condition_ID\"]\n",
    "adata_ood.obs[\"log_dose\"] = adata.obs[\"log_dose\"]\n",
    "adata_ood.obs[\"smiles_rdkit\"] = adata.obs[\"smiles_rdkit\"]\n",
    "adata_ood.obs[\"cell_type\"] = adata.obs[\"cell_type\"]\n",
    "\n",
    "adata_test.obs[\"cov_drug_dose\"] = adata.obs[\"cov_drug_dose\"]\n",
    "adata_test.obs[\"condition_ID\"] = adata.obs[\"condition_ID\"]\n",
    "adata_test.obs[\"log_dose\"] = adata.obs[\"log_dose\"]\n",
    "adata_test.obs[\"smiles_rdkit\"] = adata.obs[\"smiles_rdkit\"]\n",
    "adata_test.obs[\"cell_type\"] = adata.obs[\"cell_type\"]\n",
    "\n",
    "adata_train.obs[\"cov_drug_dose\"] = adata.obs[\"cov_drug_dose\"]\n",
    "adata_train.obs[\"condition_ID\"] = adata.obs[\"condition_ID\"]\n",
    "adata_train.obs[\"log_dose\"] = adata.obs[\"log_dose\"]\n",
    "adata_train.obs[\"smiles_rdkit\"] = adata.obs[\"smiles_rdkit\"]\n",
    "adata_train.obs[\"cell_type\"] = adata.obs[\"cell_type\"]"
   ]
  },
  {
   "cell_type": "code",
   "execution_count": 5,
   "id": "6276b5c4-3562-40fd-9efe-1e91cb14d41a",
   "metadata": {},
   "outputs": [],
   "source": [
    "control_cells_gex = adata_ood[adata_ood.obs[\"condition\"]==\"control\"].X.A\n",
    "obs_names = list(adata_ood[adata_ood.obs[\"condition\"]==\"control\"].obs_names)\n",
    "\n",
    "all_data = []\n",
    "obs_df = pd.DataFrame(columns=[\"condition_ID\", \"log_dose\", \"smiles_rdkit\", \"cell_type\", \"condition\"])\n",
    "indices = []\n",
    "\n",
    "for condition in adata_ood.obs[\"condition\"].cat.categories:\n",
    "    if condition==\"control\":\n",
    "        continue\n",
    "    all_data.append(control_cells_gex)\n",
    "    filtered_row = pd.Series(adata_ood[adata_ood.obs[\"condition\"] == condition].obs[[\"condition_ID\", \"log_dose\", \"smiles_rdkit\", \"cell_type\", \"condition\"]].iloc[0].values)\n",
    "    filtered_row_df = pd.DataFrame([filtered_row.values], columns=[\"condition_ID\", \"log_dose\", \"smiles_rdkit\", \"cell_type\", \"condition\"])\n",
    "    duplicated_rows = pd.concat([filtered_row_df] * 500, ignore_index=True)\n",
    "    obs_df = pd.concat([obs_df, duplicated_rows], ignore_index=True)\n",
    "\n",
    "# Stack all data vertically to create a single array\n",
    "all_data_array = np.vstack(all_data)\n",
    "\n",
    "\n",
    "# Create the Anndata object\n",
    "adata_ood_new = ad.AnnData(X=all_data_array, obs=obs_df)\n",
    "adata_ood_new.var = adata_ood.var\n",
    "\n",
    "\n",
    "control_cells_gex = adata_test[adata_test.obs[\"condition\"]==\"control\"].X.A\n",
    "obs_names = list(adata_test[adata_test.obs[\"condition\"]==\"control\"].obs_names)\n",
    "\n",
    "all_data = []\n",
    "obs_df = pd.DataFrame(columns=[\"condition_ID\", \"log_dose\", \"smiles_rdkit\", \"cell_type\", \"condition\"])\n",
    "indices = []\n",
    "\n",
    "for condition in adata_test.obs[\"condition\"].cat.categories:\n",
    "    if condition==\"control\":\n",
    "        continue\n",
    "    all_data.append(control_cells_gex)\n",
    "    filtered_row = pd.Series(adata_test[adata_test.obs[\"condition\"] == condition].obs[[\"condition_ID\", \"log_dose\", \"smiles_rdkit\", \"cell_type\", \"condition\"]].iloc[0].values)\n",
    "    filtered_row_df = pd.DataFrame([filtered_row.values], columns=[\"condition_ID\", \"log_dose\", \"smiles_rdkit\", \"cell_type\", \"condition\"])\n",
    "    duplicated_rows = pd.concat([filtered_row_df] * 500, ignore_index=True)\n",
    "    obs_df = pd.concat([obs_df, duplicated_rows], ignore_index=True)\n",
    "\n",
    "# Stack all data vertically to create a single array\n",
    "all_data_array = np.vstack(all_data)\n",
    "\n",
    "\n",
    "# Create the Anndata object\n",
    "adata_test_new = ad.AnnData(X=all_data_array, obs=obs_df)\n",
    "adata_test_new.var = adata_test.var"
   ]
  },
  {
   "cell_type": "code",
   "execution_count": 6,
   "id": "b75bc596-c584-440d-91a2-9d554e88f373",
   "metadata": {},
   "outputs": [],
   "source": [
    "import anndata\n",
    "\n",
    "adata_combined = anndata.concat((adata_train, adata_test_new, adata_ood_new), label=\"split\", keys=[\"train\", \"test\", \"ood\"], join=\"inner\")"
   ]
  },
  {
   "cell_type": "code",
   "execution_count": 7,
   "id": "d3966902-ce0f-4bfa-a65e-401ca6edbe8e",
   "metadata": {},
   "outputs": [],
   "source": [
    "frac_valid = adata[adata.obs[\"split_1ct_MEC\"] == \"valid\"].n_obs / (\n",
    "    adata[adata.obs[\"split_1ct_MEC\"] == \"valid\"].n_obs + adata[adata.obs[\"split_1ct_MEC\"] == \"train\"].n_obs\n",
    ")"
   ]
  },
  {
   "cell_type": "code",
   "execution_count": 8,
   "id": "44887bf1-a2d4-49bb-ad6b-0c6ad242924a",
   "metadata": {},
   "outputs": [],
   "source": [
    "import numpy as np\n",
    "\n",
    "\n",
    "def create_split(x):\n",
    "    if x[\"split\"] != \"train\":\n",
    "        return x[\"split\"]\n",
    "    is_train = np.random.choice(2, p=[frac_valid, 1 - frac_valid])\n",
    "    if is_train:\n",
    "        return \"train_train\"\n",
    "    return \"train_valid\"\n",
    "\n",
    "\n",
    "adata_combined.obs[\"split_1ct_MEC\"] = adata_combined.obs.apply(create_split, axis=1)"
   ]
  },
  {
   "cell_type": "code",
   "execution_count": 9,
   "id": "ebb56c71-c99c-443c-b0d5-216c5346fa9e",
   "metadata": {},
   "outputs": [
    {
     "name": "stderr",
     "output_type": "stream",
     "text": [
      "100%|██████████| 60198/60198 [00:00<00:00, 99082.99it/s]\n",
      "100%|██████████| 60198/60198 [00:00<00:00, 1146269.18it/s]\n",
      "An NVIDIA GPU may be present on this machine, but a CUDA-enabled jaxlib is not installed. Falling back to cpu.\n"
     ]
    },
    {
     "name": "stdout",
     "output_type": "stream",
     "text": [
      "\u001b[34mINFO    \u001b[0m Generating sequential column names                                                                        \n",
      "\u001b[34mINFO    \u001b[0m Generating sequential column names                                                                        \n"
     ]
    }
   ],
   "source": [
    "cpa.CPA.setup_anndata(adata_combined,\n",
    "                      perturbation_key='condition_ID',\n",
    "                      dosage_key='log_dose',\n",
    "                      control_group='CHEMBL504',\n",
    "                      batch_key=None,\n",
    "                      is_count_data=False,\n",
    "                      categorical_covariate_keys=['cell_type'],\n",
    "                      deg_uns_cat_key='cov_drug_dose',\n",
    "                      max_comb_len=2,\n",
    "                     )"
   ]
  },
  {
   "cell_type": "code",
   "execution_count": 10,
   "id": "1d8d0c3e-e285-457e-9b81-e9edf65fab83",
   "metadata": {},
   "outputs": [],
   "source": [
    "ae_hparams = {\n",
    "    \"n_latent\": 128,\n",
    "    \"recon_loss\": \"gauss\",\n",
    "    \"doser_type\": \"logsigm\",\n",
    "    \"n_hidden_encoder\": 512,\n",
    "    \"n_layers_encoder\": 3,\n",
    "    \"n_hidden_decoder\": 512,\n",
    "    \"n_layers_decoder\": 3,\n",
    "    \"use_batch_norm_encoder\": True,\n",
    "    \"use_layer_norm_encoder\": False,\n",
    "    \"use_batch_norm_decoder\": True,\n",
    "    \"use_layer_norm_decoder\": False,\n",
    "    \"dropout_rate_encoder\": 0.1,\n",
    "    \"dropout_rate_decoder\": 0.1,\n",
    "    \"variational\": False,\n",
    "    \"seed\": 434,\n",
    "}\n",
    "\n",
    "trainer_params = {\n",
    "    \"n_epochs_kl_warmup\": None,\n",
    "    \"n_epochs_pretrain_ae\": 30,\n",
    "    \"n_epochs_adv_warmup\": 50,\n",
    "    \"n_epochs_mixup_warmup\": 3,\n",
    "    \"mixup_alpha\": 0.1,\n",
    "    \"adv_steps\": 2,\n",
    "    \"n_hidden_adv\": 64,\n",
    "    \"n_layers_adv\": 2,\n",
    "    \"use_batch_norm_adv\": True,\n",
    "    \"use_layer_norm_adv\": False,\n",
    "    \"dropout_rate_adv\": 0.3,\n",
    "    \"reg_adv\": 20.0,\n",
    "    \"pen_adv\": 20.0,\n",
    "    \"lr\": 0.0003,\n",
    "    \"wd\": 4e-07,\n",
    "    \"adv_lr\": 0.0003,\n",
    "    \"adv_wd\": 4e-07,\n",
    "    \"adv_loss\": \"cce\",\n",
    "    \"doser_lr\": 0.0003,\n",
    "    \"doser_wd\": 4e-07,\n",
    "    \"do_clip_grad\": False,\n",
    "    \"gradient_clip_value\": 1.0,\n",
    "    \"step_size_lr\": 45,\n",
    "}"
   ]
  },
  {
   "cell_type": "code",
   "execution_count": 11,
   "id": "3e0f8100-c104-44ec-bc2f-025a42b4b917",
   "metadata": {},
   "outputs": [
    {
     "name": "stderr",
     "output_type": "stream",
     "text": [
      "[rank: 0] Global seed set to 434\n"
     ]
    }
   ],
   "source": [
    "model = cpa.CPA(\n",
    "    adata=adata_combined,\n",
    "    split_key=\"split_1ct_MEC\",\n",
    "    train_split=\"train_train\",\n",
    "    valid_split=\"train_valid\",\n",
    "    **ae_hparams,\n",
    ")"
   ]
  },
  {
   "cell_type": "code",
   "execution_count": 12,
   "id": "7e9ef73a-586e-4d35-9b9b-0a68942e8340",
   "metadata": {},
   "outputs": [
    {
     "name": "stderr",
     "output_type": "stream",
     "text": [
      "100%|██████████| 32/32 [00:00<00:00, 238.21it/s]\n",
      "GPU available: True (cuda), used: True\n",
      "TPU available: False, using: 0 TPU cores\n",
      "IPU available: False, using: 0 IPUs\n",
      "HPU available: False, using: 0 HPUs\n",
      "You are using a CUDA device ('NVIDIA H100 80GB HBM3') that has Tensor Cores. To properly utilize them, you should set `torch.set_float32_matmul_precision('medium' | 'high')` which will trade-off precision for performance. For more details, read https://pytorch.org/docs/stable/generated/torch.set_float32_matmul_precision.html#torch.set_float32_matmul_precision\n",
      "LOCAL_RANK: 0 - CUDA_VISIBLE_DEVICES: [0]\n"
     ]
    },
    {
     "name": "stdout",
     "output_type": "stream",
     "text": [
      "Epoch 5/2000:   0%|          | 4/2000 [01:04<7:57:49, 14.36s/it, v_num=1, recon=-2.53e+3, r2_mean=0.789, adv_loss=2.3, acc_pert=0.182]  "
     ]
    },
    {
     "name": "stderr",
     "output_type": "stream",
     "text": [
      "\n",
      "Epoch 00004: cpa_metric reached. Module best state updated.\n"
     ]
    },
    {
     "name": "stdout",
     "output_type": "stream",
     "text": [
      "Epoch 10/2000:   0%|          | 9/2000 [02:07<6:58:37, 12.62s/it, v_num=1, recon=-3.01e+3, r2_mean=0.799, adv_loss=2.11, acc_pert=0.22, val_recon=-2.74e+3, disnt_basal=0.0794, disnt_after=0.103, val_r2_mean=0.794, val_KL=nan]"
     ]
    },
    {
     "name": "stderr",
     "output_type": "stream",
     "text": [
      "\n",
      "Epoch 00009: cpa_metric reached. Module best state updated.\n"
     ]
    },
    {
     "name": "stdout",
     "output_type": "stream",
     "text": [
      "\n",
      "disnt_basal = 0.07551825159518614\n",
      "disnt_after = 0.09736238204700792\n",
      "val_r2_mean = 0.8065730764318696\n",
      "val_r2_var = 0.45381119495941635\n",
      "Epoch 20/2000:   1%|          | 19/2000 [04:11<6:45:17, 12.28s/it, v_num=1, recon=-3.36e+3, r2_mean=0.805, adv_loss=2.01, acc_pert=0.25, val_recon=-3.14e+3, disnt_basal=0.07, disnt_after=0.0864, val_r2_mean=0.805, val_KL=nan] \n",
      "disnt_basal = 0.06654040006399858\n",
      "disnt_after = 0.08075307313053251\n",
      "val_r2_mean = 0.8057337075881874\n",
      "val_r2_var = 0.45934765184179543\n",
      "Epoch 30/2000:   1%|▏         | 29/2000 [06:17<6:45:39, 12.35s/it, v_num=1, recon=-3.59e+3, r2_mean=0.805, adv_loss=2.03, acc_pert=0.251, val_recon=-3.35e+3, disnt_basal=0.0609, disnt_after=0.0749, val_r2_mean=0.806, val_KL=nan]\n",
      "disnt_basal = 0.05976001379990411\n",
      "disnt_after = 0.07266330958471659\n",
      "val_r2_mean = 0.806831751368365\n",
      "val_r2_var = 0.46164306342348727\n",
      "Epoch 35/2000:   2%|▏         | 34/2000 [07:17<6:25:47, 11.77s/it, v_num=1, recon=-3.65e+3, r2_mean=0.808, adv_loss=2.04, acc_pert=0.253, val_recon=-3.39e+3, disnt_basal=0.0598, disnt_after=0.0727, val_r2_mean=0.807, val_KL=nan]"
     ]
    },
    {
     "name": "stderr",
     "output_type": "stream",
     "text": [
      "\n",
      "Epoch 00034: cpa_metric reached. Module best state updated.\n"
     ]
    },
    {
     "name": "stdout",
     "output_type": "stream",
     "text": [
      "Epoch 40/2000:   2%|▏         | 39/2000 [08:15<6:13:22, 11.42s/it, v_num=1, recon=-3.68e+3, r2_mean=0.807, adv_loss=2.06, acc_pert=0.252, val_recon=-3.42e+3, disnt_basal=0.0601, disnt_after=0.0723, val_r2_mean=0.814, val_KL=nan]\n",
      "disnt_basal = 0.05928006438928451\n",
      "disnt_after = 0.07179607204016099\n",
      "val_r2_mean = 0.8092617270298958\n",
      "val_r2_var = 0.46429208157849466\n",
      "Epoch 50/2000:   2%|▏         | 49/2000 [10:12<6:12:37, 11.46s/it, v_num=1, recon=-3.74e+3, r2_mean=0.805, adv_loss=2.22, acc_pert=0.224, val_recon=-3.44e+3, disnt_basal=0.0597, disnt_after=0.0716, val_r2_mean=0.81, val_KL=nan] \n",
      "disnt_basal = 0.057767199906722175\n",
      "disnt_after = 0.06974243492556034\n",
      "val_r2_mean = 0.8096975237538714\n",
      "val_r2_var = 0.4634455728667766\n",
      "Epoch 60/2000:   3%|▎         | 59/2000 [12:08<6:08:50, 11.40s/it, v_num=1, recon=-3.79e+3, r2_mean=0.806, adv_loss=2.43, acc_pert=0.18, val_recon=-3.47e+3, disnt_basal=0.0537, disnt_after=0.0664, val_r2_mean=0.811, val_KL=nan] \n",
      "disnt_basal = 0.05245541510875237\n",
      "disnt_after = 0.06369270109378943\n",
      "val_r2_mean = 0.8071898018364247\n",
      "val_r2_var = 0.46183478885159146\n",
      "Epoch 70/2000:   3%|▎         | 69/2000 [14:05<6:07:02, 11.40s/it, v_num=1, recon=-3.83e+3, r2_mean=0.806, adv_loss=2.68, acc_pert=0.153, val_recon=-3.45e+3, disnt_basal=0.0473, disnt_after=0.0587, val_r2_mean=0.807, val_KL=nan]\n",
      "disnt_basal = 0.04552563721360064\n",
      "disnt_after = 0.05738149212798011\n",
      "val_r2_mean = 0.8040232110824511\n",
      "val_r2_var = 0.44442063215984207\n",
      "Epoch 80/2000:   4%|▍         | 79/2000 [16:02<6:16:51, 11.77s/it, v_num=1, recon=-3.87e+3, r2_mean=0.807, adv_loss=2.88, acc_pert=0.124, val_recon=-3.52e+3, disnt_basal=0.0424, disnt_after=0.0548, val_r2_mean=0.809, val_KL=nan]\n",
      "disnt_basal = 0.04100378109147202\n",
      "disnt_after = 0.05385321044696492\n",
      "val_r2_mean = 0.811526170185624\n",
      "val_r2_var = 0.4514431337215352\n",
      "Epoch 85/2000:   4%|▍         | 85/2000 [17:13<6:28:03, 12.16s/it, v_num=1, recon=-3.88e+3, r2_mean=0.809, adv_loss=2.92, acc_pert=0.119, val_recon=-3.48e+3, disnt_basal=0.0407, disnt_after=0.0537, val_r2_mean=0.808, val_KL=nan]\n"
     ]
    }
   ],
   "source": [
    "model.train(\n",
    "    max_epochs=2000,\n",
    "    use_gpu=True,\n",
    "    batch_size=128,\n",
    "    plan_kwargs=trainer_params,\n",
    "    early_stopping_patience=10,\n",
    "    check_val_every_n_epoch=5,\n",
    "    save_path=\"/lustre/groups/ml01/workspace/ot_perturbation/models/cpa/combosciplex/split_1\",\n",
    ")"
   ]
  },
  {
   "cell_type": "code",
   "execution_count": 13,
   "id": "435c6698-c128-4236-8a55-5fdec1ec44b8",
   "metadata": {},
   "outputs": [
    {
     "name": "stderr",
     "output_type": "stream",
     "text": [
      "100%|██████████| 1882/1882 [00:06<00:00, 309.30it/s]\n"
     ]
    }
   ],
   "source": [
    "model.predict(adata_combined)"
   ]
  },
  {
   "cell_type": "code",
   "execution_count": 14,
   "id": "17aaf1b8-2745-4796-8fe6-7b6ffd394e1c",
   "metadata": {},
   "outputs": [],
   "source": [
    "adata_combined.write(\n",
    "    \"/lustre/groups/ml01/workspace/ot_perturbation/models/cpa/combosciplex/adata_with_predictions_1.h5ad\"\n",
    ")"
   ]
  },
  {
   "cell_type": "code",
   "execution_count": null,
   "id": "58ee3332-201a-4e6b-b3ce-26e47ab330d7",
   "metadata": {},
   "outputs": [],
   "source": []
  },
  {
   "cell_type": "code",
   "execution_count": null,
   "id": "34999dbc-8a03-4235-8fcc-e894d9bc4948",
   "metadata": {},
   "outputs": [],
   "source": []
  },
  {
   "cell_type": "code",
   "execution_count": null,
   "id": "d7f5926d-7637-4e98-b43b-8822e8810259",
   "metadata": {},
   "outputs": [],
   "source": []
  }
 ],
 "metadata": {
  "kernelspec": {
   "display_name": "ot_pert_cpa",
   "language": "python",
   "name": "ot_pert_cpa"
  },
  "language_info": {
   "codemirror_mode": {
    "name": "ipython",
    "version": 3
   },
   "file_extension": ".py",
   "mimetype": "text/x-python",
   "name": "python",
   "nbconvert_exporter": "python",
   "pygments_lexer": "ipython3",
   "version": "3.9.19"
  }
 },
 "nbformat": 4,
 "nbformat_minor": 5
}
