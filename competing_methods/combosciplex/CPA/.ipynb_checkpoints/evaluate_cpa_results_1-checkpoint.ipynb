{
 "cells": [
  {
   "cell_type": "code",
   "execution_count": 1,
   "id": "1395d093-8d3e-48c0-8ffb-7e864854f3a5",
   "metadata": {},
   "outputs": [],
   "source": [
    "import functools\n",
    "\n",
    "import jax\n",
    "import numpy as np\n",
    "import scanpy as sc\n",
    "\n",
    "from cfp.metrics import compute_mean_metrics, compute_metrics, compute_metrics_fast"
   ]
  },
  {
   "cell_type": "code",
   "execution_count": 2,
   "id": "07027cac-18fd-4ef8-b54e-09315f9ae6eb",
   "metadata": {
    "scrolled": true
   },
   "outputs": [
    {
     "name": "stderr",
     "output_type": "stream",
     "text": [
      "/home/icb/dominik.klein/mambaforge/envs/cfp/lib/python3.11/site-packages/anndata/_core/anndata.py:1818: UserWarning: Observation names are not unique. To make them unique, call `.obs_names_make_unique`.\n",
      "  utils.warn_names_duplicates(\"obs\")\n"
     ]
    }
   ],
   "source": [
    "adata_preds = sc.read(\"/lustre/groups/ml01/workspace/ot_perturbation/models/cpa/combosciplex/adata_with_predictions_2.h5ad\")"
   ]
  },
  {
   "cell_type": "code",
   "execution_count": 3,
   "id": "862ac848-95cb-4c9f-8846-9b46b29d265e",
   "metadata": {},
   "outputs": [],
   "source": [
    "adata_train_path = \"/lustre/groups/ml01/workspace/ot_perturbation/data/combosciplex/adata_train_2.h5ad\"\n",
    "adata_test_path = \"/lustre/groups/ml01/workspace/ot_perturbation/data/combosciplex/adata_test_2.h5ad\"\n",
    "adata_ood_path = \"/lustre/groups/ml01/workspace/ot_perturbation/data/combosciplex/adata_ood_2.h5ad\""
   ]
  },
  {
   "cell_type": "code",
   "execution_count": 4,
   "id": "091f2f81-d713-4a2a-a003-37c5db5d3bc7",
   "metadata": {},
   "outputs": [],
   "source": [
    "adata_train = sc.read(adata_train_path)\n",
    "adata_test = sc.read(adata_test_path)\n",
    "adata_ood = sc.read(adata_ood_path)"
   ]
  },
  {
   "cell_type": "code",
   "execution_count": 30,
   "id": "5f7df9d8-66d9-42bb-bcb6-dbd8db9a4454",
   "metadata": {},
   "outputs": [],
   "source": [
    "adata_ref_test = adata_test.copy()\n",
    "cfpp.centered_pca(adata_ref_test, n_comps=10)"
   ]
  },
  {
   "cell_type": "code",
   "execution_count": 5,
   "id": "fb43a78e-6736-4a06-861b-54e7385f849b",
   "metadata": {},
   "outputs": [],
   "source": [
    "adata_ref_ood = sc.read(\"/lustre/groups/ml01/workspace/ot_perturbation/data/combosciplex/adata_ood_2_pca_for_validation.h5ad\")"
   ]
  },
  {
   "cell_type": "code",
   "execution_count": 6,
   "id": "1c67c922-5440-485c-aff6-9dcdfcb982ab",
   "metadata": {},
   "outputs": [],
   "source": [
    "import cfp.preprocessing as cfpp"
   ]
  },
  {
   "cell_type": "code",
   "execution_count": 7,
   "id": "07b45430-1543-4df6-b89f-86c1a573575c",
   "metadata": {},
   "outputs": [],
   "source": [
    "OBSM_KEY_DATA_EMBEDDING = \"X_pca\""
   ]
  },
  {
   "cell_type": "code",
   "execution_count": 8,
   "id": "b8560b4a-ea0d-4706-a9af-71f6f6890ef6",
   "metadata": {},
   "outputs": [
    {
     "data": {
      "text/plain": [
       "split\n",
       "train    45967\n",
       "test     12000\n",
       "ood       3500\n",
       "Name: count, dtype: int64"
      ]
     },
     "execution_count": 8,
     "metadata": {},
     "output_type": "execute_result"
    }
   ],
   "source": [
    "adata_preds.obs[\"split\"].value_counts()\n"
   ]
  },
  {
   "cell_type": "code",
   "execution_count": 31,
   "id": "c2541151-a591-4df2-ada0-948a6cb268fc",
   "metadata": {
    "scrolled": true
   },
   "outputs": [
    {
     "name": "stderr",
     "output_type": "stream",
     "text": [
      "/tmp/ipykernel_4182273/221944822.py:2: ImplicitModificationWarning: Setting element `.layers['CPA_PRED']` of view, initializing view as actual.\n",
      "  adata_pred_test.layers[\"CPA_PRED\"] = adata_pred_test.obsm[\"CPA_pred\"]\n",
      "/tmp/ipykernel_4182273/221944822.py:17: ImplicitModificationWarning: Setting element `.layers['CPA_PRED']` of view, initializing view as actual.\n",
      "  adata_pred_ood.layers[\"CPA_PRED\"] = adata_pred_ood.obsm[\"CPA_pred\"]\n"
     ]
    }
   ],
   "source": [
    "adata_pred_test = adata_preds[adata_preds.obs[\"split\"]==\"test\"]\n",
    "adata_pred_test.layers[\"CPA_PRED\"] = adata_pred_test.obsm[\"CPA_pred\"]\n",
    "cfpp.project_pca(query_adata=adata_pred_test, ref_adata=adata_ref_test, layer=\"CPA_PRED\")\n",
    "cfpp.project_pca(query_adata=adata_test, ref_adata=adata_ref_test, layer=\"CPA_PRED\")\n",
    "test_data_target_encoded = {}\n",
    "test_data_target_decoded = {}\n",
    "test_data_target_encoded_predicted = {}\n",
    "test_data_target_decoded_predicted = {}\n",
    "for cond in adata_test.obs[\"condition\"].cat.categories:\n",
    "    if cond == \"control\":\n",
    "        continue\n",
    "    test_data_target_encoded[cond] = adata_test[adata_test.obs[\"condition\"] == cond].obsm[OBSM_KEY_DATA_EMBEDDING]\n",
    "    test_data_target_decoded[cond] = adata_test[adata_test.obs[\"condition\"] == cond].X.toarray()\n",
    "    test_data_target_decoded_predicted[cond] = adata_pred_test[adata_pred_test.obs[\"condition\"] == cond].obsm[\"CPA_pred\"]\n",
    "    test_data_target_encoded_predicted[cond] = adata_pred_test[adata_pred_test.obs[\"condition\"] == cond].obsm[\"X_pca\"]\n",
    "\n",
    "adata_pred_ood = adata_preds[adata_preds.obs[\"split\"]==\"ood\"]\n",
    "adata_pred_ood.layers[\"CPA_PRED\"] = adata_pred_ood.obsm[\"CPA_pred\"]\n",
    "cfpp.project_pca(query_adata=adata_pred_ood, ref_adata=adata_ref_ood, layer=\"CPA_PRED\")\n",
    "ood_data_target_encoded = {}\n",
    "ood_data_target_decoded = {}\n",
    "ood_data_target_encoded_predicted = {}\n",
    "ood_data_target_decoded_predicted = {}\n",
    "for cond in adata_ood.obs[\"condition\"].cat.categories:\n",
    "    if cond == \"control\":\n",
    "        continue\n",
    "    ood_data_target_encoded[cond] = adata_ref_ood[adata_ref_ood.obs[\"condition\"] == cond].obsm[OBSM_KEY_DATA_EMBEDDING]\n",
    "    ood_data_target_decoded[cond] = adata_ood[adata_ood.obs[\"condition\"] == cond].X.toarray()\n",
    "    ood_data_target_decoded_predicted[cond] = adata_pred_ood[adata_pred_ood.obs[\"condition\"] == cond].obsm[\"CPA_pred\"]\n",
    "    ood_data_target_encoded_predicted[cond] = adata_pred_ood[adata_pred_ood.obs[\"condition\"] == cond].obsm[\"X_pca\"]"
   ]
  },
  {
   "cell_type": "code",
   "execution_count": null,
   "id": "47bc1c30-82dc-4bb0-93a3-0249ac3e755c",
   "metadata": {},
   "outputs": [],
   "source": []
  },
  {
   "cell_type": "code",
   "execution_count": 18,
   "id": "c9e8562b-66d1-4151-8824-a4944b4e2e85",
   "metadata": {},
   "outputs": [],
   "source": [
    "test_deg_dict = {\n",
    "    k: v\n",
    "    for k, v in adata_train.uns[\"rank_genes_groups_cov_all\"].items()\n",
    "    if k in test_data_target_decoded_predicted.keys()\n",
    "}\n",
    "ood_deg_dict = {\n",
    "    k: v\n",
    "    for k, v in adata_train.uns[\"rank_genes_groups_cov_all\"].items()\n",
    "    if k in ood_data_target_decoded_predicted.keys()\n",
    "}"
   ]
  },
  {
   "cell_type": "code",
   "execution_count": 19,
   "id": "e1fc5bf1-9976-4071-a7ac-605b1494a351",
   "metadata": {},
   "outputs": [],
   "source": [
    "def get_mask(x, y):\n",
    "    return x[:, [gene in y for gene in adata_train.var_names]]\n",
    "\n",
    "\n",
    "ood_deg_target_decoded_predicted = jax.tree_util.tree_map(get_mask, ood_data_target_decoded_predicted, ood_deg_dict)\n",
    "ood_deg_target_decoded = jax.tree_util.tree_map(get_mask, ood_data_target_decoded, ood_deg_dict)\n",
    "\n",
    "test_deg_target_decoded_predicted = jax.tree_util.tree_map(get_mask, test_data_target_decoded_predicted, test_deg_dict)\n",
    "test_deg_target_decoded = jax.tree_util.tree_map(get_mask, test_data_target_decoded, test_deg_dict)\n"
   ]
  },
  {
   "cell_type": "code",
   "execution_count": 20,
   "id": "e8d7ff42-9dbb-4635-9e68-ac3306d27af8",
   "metadata": {},
   "outputs": [],
   "source": [
    "deg_ood_metrics = jax.tree_util.tree_map(compute_metrics, ood_deg_target_decoded, ood_deg_target_decoded_predicted)\n",
    "deg_mean_ood_metrics = compute_mean_metrics(deg_ood_metrics, prefix=\"deg_ood_\")\n",
    "\n",
    "deg_test_metrics = jax.tree_util.tree_map(compute_metrics, test_deg_target_decoded, test_deg_target_decoded_predicted)\n",
    "deg_mean_test_metrics = compute_mean_metrics(deg_test_metrics, prefix=\"deg_test_\")\n"
   ]
  },
  {
   "cell_type": "code",
   "execution_count": 21,
   "id": "9e337bf1-f165-4d62-a79f-4327be259a6c",
   "metadata": {},
   "outputs": [],
   "source": [
    "test_metrics_encoded = jax.tree_util.tree_map(\n",
    "    compute_metrics, test_data_target_encoded, test_data_target_encoded_predicted\n",
    ")\n",
    "mean_test_metrics_encoded = compute_mean_metrics(test_metrics_encoded, prefix=\"encoded_test_\")\n",
    "\n",
    "test_metrics_decoded = jax.tree_util.tree_map(\n",
    "    compute_metrics_fast, test_data_target_decoded, test_data_target_decoded_predicted\n",
    ")\n",
    "mean_test_metrics_decoded = compute_mean_metrics(test_metrics_decoded, prefix=\"decoded_test_\")"
   ]
  },
  {
   "cell_type": "code",
   "execution_count": 22,
   "id": "cbdff236-b23d-4db5-b28f-a072c3ccaecf",
   "metadata": {},
   "outputs": [],
   "source": [
    "ood_metrics_encoded = jax.tree_util.tree_map(\n",
    "    compute_metrics, ood_data_target_encoded, ood_data_target_encoded_predicted\n",
    ")\n",
    "mean_ood_metrics_encoded = compute_mean_metrics(ood_metrics_encoded, prefix=\"encoded_ood_\")\n",
    "\n",
    "ood_metrics_decoded = jax.tree_util.tree_map(\n",
    "    compute_metrics, ood_data_target_decoded, ood_data_target_decoded_predicted\n",
    ")\n",
    "mean_ood_metrics_decoded = compute_mean_metrics(ood_metrics_decoded, prefix=\"decoded_ood_\")"
   ]
  },
  {
   "cell_type": "code",
   "execution_count": 23,
   "id": "3530543f-09ca-4de9-99b4-48b95bd80961",
   "metadata": {},
   "outputs": [
    {
     "data": {
      "text/plain": [
       "{'decoded_ood_r_squared': 0.6862101980618068,\n",
       " 'decoded_ood_sinkhorn_div_1': 110.23924255371094,\n",
       " 'decoded_ood_sinkhorn_div_10': 77.27082334245954,\n",
       " 'decoded_ood_sinkhorn_div_100': 30.684291294642858,\n",
       " 'decoded_ood_e_distance': 60.5277461113519,\n",
       " 'decoded_ood_mmd': 0.21484620443412236}"
      ]
     },
     "execution_count": 23,
     "metadata": {},
     "output_type": "execute_result"
    }
   ],
   "source": [
    "mean_ood_metrics_decoded"
   ]
  },
  {
   "cell_type": "code",
   "execution_count": 24,
   "id": "60018b48-c646-467d-bfdb-a0b5cefae334",
   "metadata": {},
   "outputs": [
    {
     "data": {
      "text/plain": [
       "{'decoded_test_r_squared': 0.8049486900369326,\n",
       " 'decoded_test_e_distance': 38.56786602168032,\n",
       " 'decoded_test_mmd_distance': 0.19895603445669016}"
      ]
     },
     "execution_count": 24,
     "metadata": {},
     "output_type": "execute_result"
    }
   ],
   "source": [
    "mean_test_metrics_decoded"
   ]
  },
  {
   "cell_type": "code",
   "execution_count": null,
   "id": "f9c784ea-6239-40e0-8c59-44a462a9bad7",
   "metadata": {},
   "outputs": [],
   "source": []
  },
  {
   "cell_type": "code",
   "execution_count": 16,
   "id": "8c7c1e77-4a4c-49ce-b79c-52db6292814e",
   "metadata": {},
   "outputs": [
    {
     "data": {
      "text/plain": [
       "{'decoded_ood_r_squared': 0.7391917749232417,\n",
       " 'decoded_ood_sinkhorn_div_1': 103.79780883789063,\n",
       " 'decoded_ood_sinkhorn_div_10': 72.30388488769532,\n",
       " 'decoded_ood_sinkhorn_div_100': 27.833563232421874,\n",
       " 'decoded_ood_e_distance': 54.769449029362136,\n",
       " 'decoded_ood_mmd': 0.246560040331874}"
      ]
     },
     "execution_count": 16,
     "metadata": {},
     "output_type": "execute_result"
    }
   ],
   "source": [
    "mean_ood_metrics_decoded"
   ]
  },
  {
   "cell_type": "code",
   "execution_count": 25,
   "id": "914b2f8c-7960-406a-87b3-2a0b83b3c5d7",
   "metadata": {},
   "outputs": [
    {
     "data": {
      "text/plain": [
       "{'encoded_ood_r_squared': -1.8743951235498701,\n",
       " 'encoded_ood_sinkhorn_div_1': 33.54921545301165,\n",
       " 'encoded_ood_sinkhorn_div_10': 30.328326089041575,\n",
       " 'encoded_ood_sinkhorn_div_100': 29.202074595860072,\n",
       " 'encoded_ood_e_distance': 58.14460522488314,\n",
       " 'encoded_ood_mmd': 0.23800723467554366}"
      ]
     },
     "execution_count": 25,
     "metadata": {},
     "output_type": "execute_result"
    }
   ],
   "source": [
    "mean_ood_metrics_encoded"
   ]
  },
  {
   "cell_type": "code",
   "execution_count": 26,
   "id": "687f3ea3-4546-4c4d-819a-4e0927442ce5",
   "metadata": {},
   "outputs": [
    {
     "data": {
      "text/plain": [
       "{'deg_ood_r_squared': 0.4604918360710144,\n",
       " 'deg_ood_sinkhorn_div_1': 27.17738880429949,\n",
       " 'deg_ood_sinkhorn_div_10': 18.563781329563685,\n",
       " 'deg_ood_sinkhorn_div_100': 17.91834463391985,\n",
       " 'deg_ood_e_distance': 35.70447261741083,\n",
       " 'deg_ood_mmd': 0.28966505399772097}"
      ]
     },
     "execution_count": 26,
     "metadata": {},
     "output_type": "execute_result"
    }
   ],
   "source": [
    "deg_mean_ood_metrics"
   ]
  },
  {
   "cell_type": "code",
   "execution_count": 27,
   "id": "1ef8107f-d103-479c-8b4a-2933ab105a62",
   "metadata": {},
   "outputs": [
    {
     "data": {
      "text/plain": [
       "{'deg_test_r_squared': 0.6556011984745661,\n",
       " 'deg_test_sinkhorn_div_1': 20.04078009724617,\n",
       " 'deg_test_sinkhorn_div_10': 11.906160990397135,\n",
       " 'deg_test_sinkhorn_div_100': 10.913932899634043,\n",
       " 'deg_test_e_distance': 21.686399635285508,\n",
       " 'deg_test_mmd': 0.26243185127774876}"
      ]
     },
     "execution_count": 27,
     "metadata": {},
     "output_type": "execute_result"
    }
   ],
   "source": [
    "deg_mean_test_metrics"
   ]
  },
  {
   "cell_type": "code",
   "execution_count": 17,
   "id": "e708f928-1654-4b93-b546-5f0b1a537def",
   "metadata": {},
   "outputs": [
    {
     "data": {
      "text/plain": [
       "{'decoded_test_r_squared': 0.956132341509689,\n",
       " 'decoded_test_sinkhorn_div_1': 82.31482153672438,\n",
       " 'decoded_test_sinkhorn_div_10': 63.47894507188063,\n",
       " 'decoded_test_sinkhorn_div_100': 6.181912348820613,\n",
       " 'decoded_test_e_distance': 8.298093321851823,\n",
       " 'decoded_test_mmd': 0.1823629892674941}"
      ]
     },
     "execution_count": 17,
     "metadata": {},
     "output_type": "execute_result"
    }
   ],
   "source": [
    "mean_test_metrics_decoded"
   ]
  },
  {
   "cell_type": "code",
   "execution_count": 18,
   "id": "90c58881-8511-4154-8430-507e59c498e7",
   "metadata": {},
   "outputs": [
    {
     "data": {
      "text/plain": [
       "{'decoded_ood_r_squared': 0.7391917749232417,\n",
       " 'decoded_ood_sinkhorn_div_1': 103.79780883789063,\n",
       " 'decoded_ood_sinkhorn_div_10': 72.30388488769532,\n",
       " 'decoded_ood_sinkhorn_div_100': 27.833563232421874,\n",
       " 'decoded_ood_e_distance': 54.769449029362136,\n",
       " 'decoded_ood_mmd': 0.246560040331874}"
      ]
     },
     "execution_count": 18,
     "metadata": {},
     "output_type": "execute_result"
    }
   ],
   "source": [
    "mean_ood_metrics_decoded"
   ]
  },
  {
   "cell_type": "code",
   "execution_count": 19,
   "id": "4ed6d545-6b19-4d72-887c-f5618d87d47d",
   "metadata": {},
   "outputs": [
    {
     "data": {
      "text/plain": [
       "{'deg_ood_r_squared': 0.5159547481300902,\n",
       " 'deg_ood_sinkhorn_div_1': 24.493817806243896,\n",
       " 'deg_ood_sinkhorn_div_10': 16.49903392791748,\n",
       " 'deg_ood_sinkhorn_div_100': 15.873676109313966,\n",
       " 'deg_ood_e_distance': 31.61525838731057,\n",
       " 'deg_ood_mmd': 0.34742090103299406}"
      ]
     },
     "execution_count": 19,
     "metadata": {},
     "output_type": "execute_result"
    }
   ],
   "source": [
    "deg_mean_ood_metrics"
   ]
  },
  {
   "cell_type": "code",
   "execution_count": 20,
   "id": "ee62783f-7f1d-4a1e-8c74-eeaa935881a0",
   "metadata": {},
   "outputs": [
    {
     "data": {
      "text/plain": [
       "{'decoded_test_r_squared': 0.956132341509689,\n",
       " 'decoded_test_sinkhorn_div_1': 82.31482153672438,\n",
       " 'decoded_test_sinkhorn_div_10': 63.47894507188063,\n",
       " 'decoded_test_sinkhorn_div_100': 6.181912348820613,\n",
       " 'decoded_test_e_distance': 8.298093321851823,\n",
       " 'decoded_test_mmd': 0.1823629892674941}"
      ]
     },
     "execution_count": 20,
     "metadata": {},
     "output_type": "execute_result"
    }
   ],
   "source": [
    "mean_test_metrics_decoded"
   ]
  },
  {
   "cell_type": "code",
   "execution_count": 21,
   "id": "014cbe29-83e0-4a37-aa82-29804107152a",
   "metadata": {},
   "outputs": [
    {
     "data": {
      "text/plain": [
       "{'encoded_test_r_squared': 0.7785426383460113,\n",
       " 'encoded_test_sinkhorn_div_1': 53.68342032799354,\n",
       " 'encoded_test_sinkhorn_div_10': 34.97506611163799,\n",
       " 'encoded_test_sinkhorn_div_100': 4.564601017878606,\n",
       " 'encoded_test_e_distance': 7.258525984396837,\n",
       " 'encoded_test_mmd': 0.16077130219967567}"
      ]
     },
     "execution_count": 21,
     "metadata": {},
     "output_type": "execute_result"
    }
   ],
   "source": [
    "mean_test_metrics_encoded"
   ]
  },
  {
   "cell_type": "code",
   "execution_count": 22,
   "id": "c671a0fc-6743-46c4-9ce2-cff5bf900e46",
   "metadata": {},
   "outputs": [
    {
     "data": {
      "text/plain": [
       "{'Cediranib+PCI-34051': {'r_squared': 0.9074379652405279,\n",
       "  'sinkhorn_div_1': 44.772613525390625,\n",
       "  'sinkhorn_div_10': 14.927448272705078,\n",
       "  'sinkhorn_div_100': 1.5101356506347656,\n",
       "  'e_distance': 2.6157738667272463,\n",
       "  'mmd': 0.17343959115221655},\n",
       " 'Givinostat+SRT1720': {'r_squared': 0.8628172793421973,\n",
       "  'sinkhorn_div_1': 46.553855895996094,\n",
       "  'sinkhorn_div_10': 16.30636978149414,\n",
       "  'sinkhorn_div_100': 1.3358192443847656,\n",
       "  'e_distance': 2.271262392813491,\n",
       "  'mmd': 0.16894391608478376},\n",
       " 'Panobinostat+Crizotinib': {'r_squared': -0.9476498324506673,\n",
       "  'sinkhorn_div_1': 115.91564178466797,\n",
       "  'sinkhorn_div_10': 83.86618041992188,\n",
       "  'sinkhorn_div_100': 68.12455749511719,\n",
       "  'e_distance': 135.32155961493643,\n",
       "  'mmd': 0.32815091943184865},\n",
       " 'Panobinostat+PCI-34051': {'r_squared': -1.1604597817810318,\n",
       "  'sinkhorn_div_1': 105.5364761352539,\n",
       "  'sinkhorn_div_10': 73.5385513305664,\n",
       "  'sinkhorn_div_100': 58.305912017822266,\n",
       "  'e_distance': 115.77804275511745,\n",
       "  'mmd': 0.3094106159503713},\n",
       " 'SRT2104+Alvespimycin': {'r_squared': 0.518110710887248,\n",
       "  'sinkhorn_div_1': 59.22468185424805,\n",
       "  'sinkhorn_div_10': 33.388641357421875,\n",
       "  'sinkhorn_div_100': 7.5001373291015625,\n",
       "  'e_distance': 14.327932568822416,\n",
       "  'mmd': 0.20282639509302378}}"
      ]
     },
     "execution_count": 22,
     "metadata": {},
     "output_type": "execute_result"
    }
   ],
   "source": [
    "ood_metrics_encoded"
   ]
  },
  {
   "cell_type": "code",
   "execution_count": 23,
   "id": "ad5e53e5-ff5f-4df7-9e94-5f4414cebb9f",
   "metadata": {},
   "outputs": [],
   "source": [
    "output_dir = \"/lustre/groups/ml01/workspace/ot_perturbation/data/combosciplex/results/cpa\""
   ]
  },
  {
   "cell_type": "code",
   "execution_count": 25,
   "id": "899fc8be-e234-478e-86fc-3874dddf50c8",
   "metadata": {},
   "outputs": [],
   "source": [
    "import os\n",
    "import pandas as pd\n",
    "\n",
    "pd.DataFrame.from_dict(ood_metrics_encoded).to_csv(os.path.join(output_dir, \"ood_metrics_encoded_1.csv\"))\n",
    "pd.DataFrame.from_dict(ood_metrics_decoded).to_csv(os.path.join(output_dir, \"ood_metrics_decoded_1.csv\"))\n",
    "pd.DataFrame.from_dict(test_metrics_encoded).to_csv(os.path.join(output_dir, \"test_metrics_encoded_1.csv\"))\n",
    "pd.DataFrame.from_dict(test_metrics_decoded).to_csv(os.path.join(output_dir, \"test_metrics_decoded_1.csv\"))\n",
    "pd.DataFrame.from_dict(deg_test_metrics).to_csv(os.path.join(output_dir, \"test_metrics_deg_1.csv\"))\n",
    "pd.DataFrame.from_dict(deg_ood_metrics).to_csv(os.path.join(output_dir, \"ood_metrics_ood_1.csv\"))\n"
   ]
  },
  {
   "cell_type": "code",
   "execution_count": null,
   "id": "a2210781-a7bc-4608-bc8c-99ae0c7e341e",
   "metadata": {},
   "outputs": [],
   "source": []
  }
 ],
 "metadata": {
  "kernelspec": {
   "display_name": "cfp",
   "language": "python",
   "name": "cfp"
  },
  "language_info": {
   "codemirror_mode": {
    "name": "ipython",
    "version": 3
   },
   "file_extension": ".py",
   "mimetype": "text/x-python",
   "name": "python",
   "nbconvert_exporter": "python",
   "pygments_lexer": "ipython3",
   "version": "3.11.9"
  }
 },
 "nbformat": 4,
 "nbformat_minor": 5
}
