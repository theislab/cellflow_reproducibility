{
 "cells": [
  {
   "cell_type": "code",
   "execution_count": 1,
   "id": "5c42fe3e-87d0-4e68-95d0-3faaca23e5f1",
   "metadata": {},
   "outputs": [
    {
     "name": "stderr",
     "output_type": "stream",
     "text": [
      "[rank: 0] Global seed set to 0\n",
      "2024-06-12 16:15:35,352\tINFO util.py:154 -- Missing packages: ['ipywidgets']. Run `pip install -U ipywidgets`, then restart the notebook server for rich notebook output.\n",
      "2024-06-12 16:15:40,523\tINFO util.py:154 -- Missing packages: ['ipywidgets']. Run `pip install -U ipywidgets`, then restart the notebook server for rich notebook output.\n"
     ]
    }
   ],
   "source": [
    "import cpa\n",
    "import scanpy as sc"
   ]
  },
  {
   "cell_type": "code",
   "execution_count": 2,
   "id": "b3705528-b2f0-4b5c-9fde-b4adcd367c3c",
   "metadata": {},
   "outputs": [
    {
     "name": "stderr",
     "output_type": "stream",
     "text": [
      "Downloading...\n",
      "From (original): https://drive.google.com/uc?export=download&id=1RRV0_qYKGTvD3oCklKfoZQFYqKJy4l6t\n",
      "From (redirected): https://drive.google.com/uc?export=download&id=1RRV0_qYKGTvD3oCklKfoZQFYqKJy4l6t&confirm=t&uuid=c266eb79-ccf3-4172-a6c2-6e2e1165a6ee\n",
      "To: /ictstr01/home/icb/dominik.klein/git_repos/ot_pert_new/competing_methods/combosciplex/CPA/combo_sciplex_prep_hvg_filtered.h5ad\n",
      "100%|████████████████████████████████████████████████████████████████████████████████████████████████████████████████████████████| 490M/490M [00:15<00:00, 32.2MB/s]\n"
     ]
    }
   ],
   "source": [
    "import gdown\n",
    "\n",
    "gdown.download(\"https://drive.google.com/uc?export=download&id=1RRV0_qYKGTvD3oCklKfoZQFYqKJy4l6t\")\n",
    "data_path = \"combo_sciplex_prep_hvg_filtered.h5ad\"\n",
    "adata = sc.read(data_path)"
   ]
  },
  {
   "cell_type": "code",
   "execution_count": 40,
   "id": "d72fe1d0-58ad-42d8-a855-205c2ad8b0bb",
   "metadata": {
    "scrolled": true
   },
   "outputs": [
    {
     "data": {
      "text/html": [
       "<div>\n",
       "<style scoped>\n",
       "    .dataframe tbody tr th:only-of-type {\n",
       "        vertical-align: middle;\n",
       "    }\n",
       "\n",
       "    .dataframe tbody tr th {\n",
       "        vertical-align: top;\n",
       "    }\n",
       "\n",
       "    .dataframe thead th {\n",
       "        text-align: right;\n",
       "    }\n",
       "</style>\n",
       "<table border=\"1\" class=\"dataframe\">\n",
       "  <thead>\n",
       "    <tr style=\"text-align: right;\">\n",
       "      <th></th>\n",
       "      <th>ncounts</th>\n",
       "      <th>well</th>\n",
       "      <th>plate</th>\n",
       "      <th>cell_line</th>\n",
       "      <th>replicate</th>\n",
       "      <th>time</th>\n",
       "      <th>dose_value</th>\n",
       "      <th>pathway1</th>\n",
       "      <th>pathway2</th>\n",
       "      <th>perturbation</th>\n",
       "      <th>...</th>\n",
       "      <th>pert_type</th>\n",
       "      <th>batch</th>\n",
       "      <th>split_1ct_MEC</th>\n",
       "      <th>split_2ct_MEC</th>\n",
       "      <th>split_3ct_MEC</th>\n",
       "      <th>batch_cov</th>\n",
       "      <th>batch_cov_cond</th>\n",
       "      <th>log_dose</th>\n",
       "      <th>cov_drug_dose</th>\n",
       "      <th>index</th>\n",
       "    </tr>\n",
       "    <tr>\n",
       "      <th>index_adapted</th>\n",
       "      <th></th>\n",
       "      <th></th>\n",
       "      <th></th>\n",
       "      <th></th>\n",
       "      <th></th>\n",
       "      <th></th>\n",
       "      <th></th>\n",
       "      <th></th>\n",
       "      <th></th>\n",
       "      <th></th>\n",
       "      <th></th>\n",
       "      <th></th>\n",
       "      <th></th>\n",
       "      <th></th>\n",
       "      <th></th>\n",
       "      <th></th>\n",
       "      <th></th>\n",
       "      <th></th>\n",
       "      <th></th>\n",
       "      <th></th>\n",
       "      <th></th>\n",
       "    </tr>\n",
       "  </thead>\n",
       "  <tbody>\n",
       "    <tr>\n",
       "      <th>A01_A02_RT_BC_10_Lig_BC_18</th>\n",
       "      <td>NaN</td>\n",
       "      <td>NaN</td>\n",
       "      <td>NaN</td>\n",
       "      <td>NaN</td>\n",
       "      <td>NaN</td>\n",
       "      <td>NaN</td>\n",
       "      <td>1000.0</td>\n",
       "      <td>Vehicle</td>\n",
       "      <td>HDAC inhibitor</td>\n",
       "      <td>NaN</td>\n",
       "      <td>...</td>\n",
       "      <td>chemical</td>\n",
       "      <td>1</td>\n",
       "      <td>train</td>\n",
       "      <td>train</td>\n",
       "      <td>train</td>\n",
       "      <td>Combo Sci-Plex_A549</td>\n",
       "      <td>Combo Sci-Plex_A549_CHEMBL483254</td>\n",
       "      <td>3.0</td>\n",
       "      <td>A549_CHEMBL483254_3.0</td>\n",
       "      <td>A01_A02_RT_BC_10_Lig_BC_18-1</td>\n",
       "    </tr>\n",
       "    <tr>\n",
       "      <th>A01_A02_RT_BC_10_Lig_BC_25</th>\n",
       "      <td>NaN</td>\n",
       "      <td>NaN</td>\n",
       "      <td>NaN</td>\n",
       "      <td>NaN</td>\n",
       "      <td>NaN</td>\n",
       "      <td>NaN</td>\n",
       "      <td>1000.0</td>\n",
       "      <td>Vehicle</td>\n",
       "      <td>HDAC inhibitor</td>\n",
       "      <td>NaN</td>\n",
       "      <td>...</td>\n",
       "      <td>chemical</td>\n",
       "      <td>1</td>\n",
       "      <td>train</td>\n",
       "      <td>valid</td>\n",
       "      <td>train</td>\n",
       "      <td>Combo Sci-Plex_A549</td>\n",
       "      <td>Combo Sci-Plex_A549_CHEMBL483254</td>\n",
       "      <td>3.0</td>\n",
       "      <td>A549_CHEMBL483254_3.0</td>\n",
       "      <td>A01_A02_RT_BC_10_Lig_BC_25-1</td>\n",
       "    </tr>\n",
       "    <tr>\n",
       "      <th>A01_A02_RT_BC_10_Lig_BC_48</th>\n",
       "      <td>NaN</td>\n",
       "      <td>NaN</td>\n",
       "      <td>NaN</td>\n",
       "      <td>NaN</td>\n",
       "      <td>NaN</td>\n",
       "      <td>NaN</td>\n",
       "      <td>1000.0</td>\n",
       "      <td>Vehicle</td>\n",
       "      <td>HDAC inhibitor</td>\n",
       "      <td>NaN</td>\n",
       "      <td>...</td>\n",
       "      <td>chemical</td>\n",
       "      <td>1</td>\n",
       "      <td>valid</td>\n",
       "      <td>train</td>\n",
       "      <td>train</td>\n",
       "      <td>Combo Sci-Plex_A549</td>\n",
       "      <td>Combo Sci-Plex_A549_CHEMBL483254</td>\n",
       "      <td>3.0</td>\n",
       "      <td>A549_CHEMBL483254_3.0</td>\n",
       "      <td>A01_A02_RT_BC_10_Lig_BC_48-1</td>\n",
       "    </tr>\n",
       "    <tr>\n",
       "      <th>A01_A02_RT_BC_10_Lig_BC_51</th>\n",
       "      <td>NaN</td>\n",
       "      <td>NaN</td>\n",
       "      <td>NaN</td>\n",
       "      <td>NaN</td>\n",
       "      <td>NaN</td>\n",
       "      <td>NaN</td>\n",
       "      <td>1000.0</td>\n",
       "      <td>Vehicle</td>\n",
       "      <td>HDAC inhibitor</td>\n",
       "      <td>NaN</td>\n",
       "      <td>...</td>\n",
       "      <td>chemical</td>\n",
       "      <td>1</td>\n",
       "      <td>train</td>\n",
       "      <td>train</td>\n",
       "      <td>train</td>\n",
       "      <td>Combo Sci-Plex_A549</td>\n",
       "      <td>Combo Sci-Plex_A549_CHEMBL483254</td>\n",
       "      <td>3.0</td>\n",
       "      <td>A549_CHEMBL483254_3.0</td>\n",
       "      <td>A01_A02_RT_BC_10_Lig_BC_51-1</td>\n",
       "    </tr>\n",
       "    <tr>\n",
       "      <th>A01_A02_RT_BC_10_Lig_BC_70</th>\n",
       "      <td>NaN</td>\n",
       "      <td>NaN</td>\n",
       "      <td>NaN</td>\n",
       "      <td>NaN</td>\n",
       "      <td>NaN</td>\n",
       "      <td>NaN</td>\n",
       "      <td>1000.0</td>\n",
       "      <td>Vehicle</td>\n",
       "      <td>HDAC inhibitor</td>\n",
       "      <td>NaN</td>\n",
       "      <td>...</td>\n",
       "      <td>chemical</td>\n",
       "      <td>1</td>\n",
       "      <td>train</td>\n",
       "      <td>train</td>\n",
       "      <td>train</td>\n",
       "      <td>Combo Sci-Plex_A549</td>\n",
       "      <td>Combo Sci-Plex_A549_CHEMBL483254</td>\n",
       "      <td>3.0</td>\n",
       "      <td>A549_CHEMBL483254_3.0</td>\n",
       "      <td>A01_A02_RT_BC_10_Lig_BC_70-1</td>\n",
       "    </tr>\n",
       "    <tr>\n",
       "      <th>...</th>\n",
       "      <td>...</td>\n",
       "      <td>...</td>\n",
       "      <td>...</td>\n",
       "      <td>...</td>\n",
       "      <td>...</td>\n",
       "      <td>...</td>\n",
       "      <td>...</td>\n",
       "      <td>...</td>\n",
       "      <td>...</td>\n",
       "      <td>...</td>\n",
       "      <td>...</td>\n",
       "      <td>...</td>\n",
       "      <td>...</td>\n",
       "      <td>...</td>\n",
       "      <td>...</td>\n",
       "      <td>...</td>\n",
       "      <td>...</td>\n",
       "      <td>...</td>\n",
       "      <td>...</td>\n",
       "      <td>...</td>\n",
       "      <td>...</td>\n",
       "    </tr>\n",
       "    <tr>\n",
       "      <th>H12_A02_RT_BC_96_Lig_BC_50</th>\n",
       "      <td>NaN</td>\n",
       "      <td>NaN</td>\n",
       "      <td>NaN</td>\n",
       "      <td>NaN</td>\n",
       "      <td>NaN</td>\n",
       "      <td>NaN</td>\n",
       "      <td>1000.0</td>\n",
       "      <td>Vehicle</td>\n",
       "      <td>EGFR inhibitor</td>\n",
       "      <td>NaN</td>\n",
       "      <td>...</td>\n",
       "      <td>chemical</td>\n",
       "      <td>1</td>\n",
       "      <td>train</td>\n",
       "      <td>train</td>\n",
       "      <td>train</td>\n",
       "      <td>Combo Sci-Plex_A549</td>\n",
       "      <td>Combo Sci-Plex_A549_CHEMBL1421</td>\n",
       "      <td>3.0</td>\n",
       "      <td>A549_CHEMBL1421_3.0</td>\n",
       "      <td>H12_A02_RT_BC_96_Lig_BC_50-1</td>\n",
       "    </tr>\n",
       "    <tr>\n",
       "      <th>H12_A02_RT_BC_96_Lig_BC_95</th>\n",
       "      <td>NaN</td>\n",
       "      <td>NaN</td>\n",
       "      <td>NaN</td>\n",
       "      <td>NaN</td>\n",
       "      <td>NaN</td>\n",
       "      <td>NaN</td>\n",
       "      <td>1000.0</td>\n",
       "      <td>Vehicle</td>\n",
       "      <td>EGFR inhibitor</td>\n",
       "      <td>NaN</td>\n",
       "      <td>...</td>\n",
       "      <td>chemical</td>\n",
       "      <td>1</td>\n",
       "      <td>train</td>\n",
       "      <td>train</td>\n",
       "      <td>train</td>\n",
       "      <td>Combo Sci-Plex_A549</td>\n",
       "      <td>Combo Sci-Plex_A549_CHEMBL1421</td>\n",
       "      <td>3.0</td>\n",
       "      <td>A549_CHEMBL1421_3.0</td>\n",
       "      <td>H12_A02_RT_BC_96_Lig_BC_95-1</td>\n",
       "    </tr>\n",
       "    <tr>\n",
       "      <th>H12_A02_RT_BC_9_Lig_BC_41</th>\n",
       "      <td>NaN</td>\n",
       "      <td>NaN</td>\n",
       "      <td>NaN</td>\n",
       "      <td>NaN</td>\n",
       "      <td>NaN</td>\n",
       "      <td>NaN</td>\n",
       "      <td>1000.0+1000.0</td>\n",
       "      <td>HDAC inhibitor</td>\n",
       "      <td>EGFR inhibitor</td>\n",
       "      <td>NaN</td>\n",
       "      <td>...</td>\n",
       "      <td>chemical</td>\n",
       "      <td>1</td>\n",
       "      <td>train</td>\n",
       "      <td>train</td>\n",
       "      <td>train</td>\n",
       "      <td>Combo Sci-Plex_A549</td>\n",
       "      <td>Combo Sci-Plex_A549_CHEMBL356066+CHEMBL1421</td>\n",
       "      <td>3.0+3.0</td>\n",
       "      <td>A549_CHEMBL356066+CHEMBL1421_3.0+3.0</td>\n",
       "      <td>H12_A02_RT_BC_9_Lig_BC_41-1</td>\n",
       "    </tr>\n",
       "    <tr>\n",
       "      <th>H12_A02_RT_BC_9_Lig_BC_69</th>\n",
       "      <td>NaN</td>\n",
       "      <td>NaN</td>\n",
       "      <td>NaN</td>\n",
       "      <td>NaN</td>\n",
       "      <td>NaN</td>\n",
       "      <td>NaN</td>\n",
       "      <td>1000.0+1000.0</td>\n",
       "      <td>HDAC inhibitor</td>\n",
       "      <td>EGFR inhibitor</td>\n",
       "      <td>NaN</td>\n",
       "      <td>...</td>\n",
       "      <td>chemical</td>\n",
       "      <td>1</td>\n",
       "      <td>train</td>\n",
       "      <td>train</td>\n",
       "      <td>train</td>\n",
       "      <td>Combo Sci-Plex_A549</td>\n",
       "      <td>Combo Sci-Plex_A549_CHEMBL356066+CHEMBL1421</td>\n",
       "      <td>3.0+3.0</td>\n",
       "      <td>A549_CHEMBL356066+CHEMBL1421_3.0+3.0</td>\n",
       "      <td>H12_A02_RT_BC_9_Lig_BC_69-1</td>\n",
       "    </tr>\n",
       "    <tr>\n",
       "      <th>H12_A02_RT_BC_9_Lig_BC_83</th>\n",
       "      <td>NaN</td>\n",
       "      <td>NaN</td>\n",
       "      <td>NaN</td>\n",
       "      <td>NaN</td>\n",
       "      <td>NaN</td>\n",
       "      <td>NaN</td>\n",
       "      <td>1000.0+1000.0</td>\n",
       "      <td>HDAC inhibitor</td>\n",
       "      <td>EGFR inhibitor</td>\n",
       "      <td>NaN</td>\n",
       "      <td>...</td>\n",
       "      <td>chemical</td>\n",
       "      <td>1</td>\n",
       "      <td>train</td>\n",
       "      <td>train</td>\n",
       "      <td>train</td>\n",
       "      <td>Combo Sci-Plex_A549</td>\n",
       "      <td>Combo Sci-Plex_A549_CHEMBL356066+CHEMBL1421</td>\n",
       "      <td>3.0+3.0</td>\n",
       "      <td>A549_CHEMBL356066+CHEMBL1421_3.0+3.0</td>\n",
       "      <td>H12_A02_RT_BC_9_Lig_BC_83-1</td>\n",
       "    </tr>\n",
       "  </tbody>\n",
       "</table>\n",
       "<p>63378 rows × 54 columns</p>\n",
       "</div>"
      ],
      "text/plain": [
       "                            ncounts well plate cell_line replicate  time  \\\n",
       "index_adapted                                                              \n",
       "A01_A02_RT_BC_10_Lig_BC_18      NaN  NaN   NaN       NaN       NaN   NaN   \n",
       "A01_A02_RT_BC_10_Lig_BC_25      NaN  NaN   NaN       NaN       NaN   NaN   \n",
       "A01_A02_RT_BC_10_Lig_BC_48      NaN  NaN   NaN       NaN       NaN   NaN   \n",
       "A01_A02_RT_BC_10_Lig_BC_51      NaN  NaN   NaN       NaN       NaN   NaN   \n",
       "A01_A02_RT_BC_10_Lig_BC_70      NaN  NaN   NaN       NaN       NaN   NaN   \n",
       "...                             ...  ...   ...       ...       ...   ...   \n",
       "H12_A02_RT_BC_96_Lig_BC_50      NaN  NaN   NaN       NaN       NaN   NaN   \n",
       "H12_A02_RT_BC_96_Lig_BC_95      NaN  NaN   NaN       NaN       NaN   NaN   \n",
       "H12_A02_RT_BC_9_Lig_BC_41       NaN  NaN   NaN       NaN       NaN   NaN   \n",
       "H12_A02_RT_BC_9_Lig_BC_69       NaN  NaN   NaN       NaN       NaN   NaN   \n",
       "H12_A02_RT_BC_9_Lig_BC_83       NaN  NaN   NaN       NaN       NaN   NaN   \n",
       "\n",
       "                               dose_value        pathway1        pathway2  \\\n",
       "index_adapted                                                               \n",
       "A01_A02_RT_BC_10_Lig_BC_18         1000.0         Vehicle  HDAC inhibitor   \n",
       "A01_A02_RT_BC_10_Lig_BC_25         1000.0         Vehicle  HDAC inhibitor   \n",
       "A01_A02_RT_BC_10_Lig_BC_48         1000.0         Vehicle  HDAC inhibitor   \n",
       "A01_A02_RT_BC_10_Lig_BC_51         1000.0         Vehicle  HDAC inhibitor   \n",
       "A01_A02_RT_BC_10_Lig_BC_70         1000.0         Vehicle  HDAC inhibitor   \n",
       "...                                   ...             ...             ...   \n",
       "H12_A02_RT_BC_96_Lig_BC_50         1000.0         Vehicle  EGFR inhibitor   \n",
       "H12_A02_RT_BC_96_Lig_BC_95         1000.0         Vehicle  EGFR inhibitor   \n",
       "H12_A02_RT_BC_9_Lig_BC_41   1000.0+1000.0  HDAC inhibitor  EGFR inhibitor   \n",
       "H12_A02_RT_BC_9_Lig_BC_69   1000.0+1000.0  HDAC inhibitor  EGFR inhibitor   \n",
       "H12_A02_RT_BC_9_Lig_BC_83   1000.0+1000.0  HDAC inhibitor  EGFR inhibitor   \n",
       "\n",
       "                           perturbation  ... pert_type batch split_1ct_MEC  \\\n",
       "index_adapted                            ...                                 \n",
       "A01_A02_RT_BC_10_Lig_BC_18          NaN  ...  chemical     1         train   \n",
       "A01_A02_RT_BC_10_Lig_BC_25          NaN  ...  chemical     1         train   \n",
       "A01_A02_RT_BC_10_Lig_BC_48          NaN  ...  chemical     1         valid   \n",
       "A01_A02_RT_BC_10_Lig_BC_51          NaN  ...  chemical     1         train   \n",
       "A01_A02_RT_BC_10_Lig_BC_70          NaN  ...  chemical     1         train   \n",
       "...                                 ...  ...       ...   ...           ...   \n",
       "H12_A02_RT_BC_96_Lig_BC_50          NaN  ...  chemical     1         train   \n",
       "H12_A02_RT_BC_96_Lig_BC_95          NaN  ...  chemical     1         train   \n",
       "H12_A02_RT_BC_9_Lig_BC_41           NaN  ...  chemical     1         train   \n",
       "H12_A02_RT_BC_9_Lig_BC_69           NaN  ...  chemical     1         train   \n",
       "H12_A02_RT_BC_9_Lig_BC_83           NaN  ...  chemical     1         train   \n",
       "\n",
       "                           split_2ct_MEC split_3ct_MEC            batch_cov  \\\n",
       "index_adapted                                                                 \n",
       "A01_A02_RT_BC_10_Lig_BC_18         train         train  Combo Sci-Plex_A549   \n",
       "A01_A02_RT_BC_10_Lig_BC_25         valid         train  Combo Sci-Plex_A549   \n",
       "A01_A02_RT_BC_10_Lig_BC_48         train         train  Combo Sci-Plex_A549   \n",
       "A01_A02_RT_BC_10_Lig_BC_51         train         train  Combo Sci-Plex_A549   \n",
       "A01_A02_RT_BC_10_Lig_BC_70         train         train  Combo Sci-Plex_A549   \n",
       "...                                  ...           ...                  ...   \n",
       "H12_A02_RT_BC_96_Lig_BC_50         train         train  Combo Sci-Plex_A549   \n",
       "H12_A02_RT_BC_96_Lig_BC_95         train         train  Combo Sci-Plex_A549   \n",
       "H12_A02_RT_BC_9_Lig_BC_41          train         train  Combo Sci-Plex_A549   \n",
       "H12_A02_RT_BC_9_Lig_BC_69          train         train  Combo Sci-Plex_A549   \n",
       "H12_A02_RT_BC_9_Lig_BC_83          train         train  Combo Sci-Plex_A549   \n",
       "\n",
       "                                                         batch_cov_cond  \\\n",
       "index_adapted                                                             \n",
       "A01_A02_RT_BC_10_Lig_BC_18             Combo Sci-Plex_A549_CHEMBL483254   \n",
       "A01_A02_RT_BC_10_Lig_BC_25             Combo Sci-Plex_A549_CHEMBL483254   \n",
       "A01_A02_RT_BC_10_Lig_BC_48             Combo Sci-Plex_A549_CHEMBL483254   \n",
       "A01_A02_RT_BC_10_Lig_BC_51             Combo Sci-Plex_A549_CHEMBL483254   \n",
       "A01_A02_RT_BC_10_Lig_BC_70             Combo Sci-Plex_A549_CHEMBL483254   \n",
       "...                                                                 ...   \n",
       "H12_A02_RT_BC_96_Lig_BC_50               Combo Sci-Plex_A549_CHEMBL1421   \n",
       "H12_A02_RT_BC_96_Lig_BC_95               Combo Sci-Plex_A549_CHEMBL1421   \n",
       "H12_A02_RT_BC_9_Lig_BC_41   Combo Sci-Plex_A549_CHEMBL356066+CHEMBL1421   \n",
       "H12_A02_RT_BC_9_Lig_BC_69   Combo Sci-Plex_A549_CHEMBL356066+CHEMBL1421   \n",
       "H12_A02_RT_BC_9_Lig_BC_83   Combo Sci-Plex_A549_CHEMBL356066+CHEMBL1421   \n",
       "\n",
       "                           log_dose                         cov_drug_dose  \\\n",
       "index_adapted                                                               \n",
       "A01_A02_RT_BC_10_Lig_BC_18      3.0                 A549_CHEMBL483254_3.0   \n",
       "A01_A02_RT_BC_10_Lig_BC_25      3.0                 A549_CHEMBL483254_3.0   \n",
       "A01_A02_RT_BC_10_Lig_BC_48      3.0                 A549_CHEMBL483254_3.0   \n",
       "A01_A02_RT_BC_10_Lig_BC_51      3.0                 A549_CHEMBL483254_3.0   \n",
       "A01_A02_RT_BC_10_Lig_BC_70      3.0                 A549_CHEMBL483254_3.0   \n",
       "...                             ...                                   ...   \n",
       "H12_A02_RT_BC_96_Lig_BC_50      3.0                   A549_CHEMBL1421_3.0   \n",
       "H12_A02_RT_BC_96_Lig_BC_95      3.0                   A549_CHEMBL1421_3.0   \n",
       "H12_A02_RT_BC_9_Lig_BC_41   3.0+3.0  A549_CHEMBL356066+CHEMBL1421_3.0+3.0   \n",
       "H12_A02_RT_BC_9_Lig_BC_69   3.0+3.0  A549_CHEMBL356066+CHEMBL1421_3.0+3.0   \n",
       "H12_A02_RT_BC_9_Lig_BC_83   3.0+3.0  A549_CHEMBL356066+CHEMBL1421_3.0+3.0   \n",
       "\n",
       "                                                   index  \n",
       "index_adapted                                             \n",
       "A01_A02_RT_BC_10_Lig_BC_18  A01_A02_RT_BC_10_Lig_BC_18-1  \n",
       "A01_A02_RT_BC_10_Lig_BC_25  A01_A02_RT_BC_10_Lig_BC_25-1  \n",
       "A01_A02_RT_BC_10_Lig_BC_48  A01_A02_RT_BC_10_Lig_BC_48-1  \n",
       "A01_A02_RT_BC_10_Lig_BC_51  A01_A02_RT_BC_10_Lig_BC_51-1  \n",
       "A01_A02_RT_BC_10_Lig_BC_70  A01_A02_RT_BC_10_Lig_BC_70-1  \n",
       "...                                                  ...  \n",
       "H12_A02_RT_BC_96_Lig_BC_50  H12_A02_RT_BC_96_Lig_BC_50-1  \n",
       "H12_A02_RT_BC_96_Lig_BC_95  H12_A02_RT_BC_96_Lig_BC_95-1  \n",
       "H12_A02_RT_BC_9_Lig_BC_41    H12_A02_RT_BC_9_Lig_BC_41-1  \n",
       "H12_A02_RT_BC_9_Lig_BC_69    H12_A02_RT_BC_9_Lig_BC_69-1  \n",
       "H12_A02_RT_BC_9_Lig_BC_83    H12_A02_RT_BC_9_Lig_BC_83-1  \n",
       "\n",
       "[63378 rows x 54 columns]"
      ]
     },
     "execution_count": 40,
     "metadata": {},
     "output_type": "execute_result"
    }
   ],
   "source": [
    "adata.obs"
   ]
  },
  {
   "cell_type": "code",
   "execution_count": 21,
   "id": "79e49294-2c4d-43aa-8fcd-1496d0253e57",
   "metadata": {},
   "outputs": [],
   "source": [
    "adata_train_path = \"/lustre/groups/ml01/workspace/ot_perturbation/data/combosciplex/adata_train.h5ad\"\n",
    "adata_test_path = \"/lustre/groups/ml01/workspace/ot_perturbation/data/combosciplex/adata_test.h5ad\"\n",
    "adata_ood_path = \"/lustre/groups/ml01/workspace/ot_perturbation/data/combosciplex/adata_ood.h5ad\""
   ]
  },
  {
   "cell_type": "code",
   "execution_count": 22,
   "id": "51d0a975-78e7-41d5-9aa4-b8c0f8f5be52",
   "metadata": {},
   "outputs": [],
   "source": [
    "adata_train = sc.read(adata_train_path)\n",
    "adata_test = sc.read(adata_test_path)\n",
    "adata_ood = sc.read(adata_ood_path)"
   ]
  },
  {
   "cell_type": "code",
   "execution_count": 23,
   "id": "7cde3781-40ce-4ed6-995a-7f2e82283587",
   "metadata": {},
   "outputs": [
    {
     "data": {
      "text/plain": [
       "split\n",
       "train    51882\n",
       "Name: count, dtype: int64"
      ]
     },
     "execution_count": 23,
     "metadata": {},
     "output_type": "execute_result"
    }
   ],
   "source": [
    "adata_train.obs[\"split\"].value_counts()"
   ]
  },
  {
   "cell_type": "code",
   "execution_count": 24,
   "id": "de2965b9-d7fa-43d6-9822-38dac3d6626f",
   "metadata": {},
   "outputs": [
    {
     "data": {
      "text/plain": [
       "split\n",
       "test    3100\n",
       "Name: count, dtype: int64"
      ]
     },
     "execution_count": 24,
     "metadata": {},
     "output_type": "execute_result"
    }
   ],
   "source": [
    "adata_test.obs[\"split\"].value_counts()"
   ]
  },
  {
   "cell_type": "code",
   "execution_count": 25,
   "id": "465b219f-01e0-4c9c-821b-7b99b5ae0c10",
   "metadata": {},
   "outputs": [
    {
     "data": {
      "text/plain": [
       "split\n",
       "ood    8896\n",
       "Name: count, dtype: int64"
      ]
     },
     "execution_count": 25,
     "metadata": {},
     "output_type": "execute_result"
    }
   ],
   "source": [
    "adata_ood.obs[\"split\"].value_counts()"
   ]
  },
  {
   "cell_type": "code",
   "execution_count": 26,
   "id": "de2a95bc-81a5-4bce-a51e-1409b997006d",
   "metadata": {},
   "outputs": [],
   "source": [
    "import anndata\n",
    "\n",
    "adata_combined = anndata.concat((adata_train, adata_test, adata_ood), label=\"split\", keys=[\"train\", \"test\", \"ood\"])"
   ]
  },
  {
   "cell_type": "code",
   "execution_count": 9,
   "id": "6c52fb07-74ec-48f7-8a33-9506fc3e28d0",
   "metadata": {},
   "outputs": [],
   "source": [
    "#adata_combined.X = adata_combined.layers[\"counts\"]"
   ]
  },
  {
   "cell_type": "code",
   "execution_count": 10,
   "id": "2e3a8b9d-16e4-4589-81eb-5f2288290ef0",
   "metadata": {},
   "outputs": [],
   "source": [
    "#sc.pp.normalize_total(adata_combined)"
   ]
  },
  {
   "cell_type": "code",
   "execution_count": 27,
   "id": "cb7d7a5e-e439-4a9b-82ef-64d8e95a9420",
   "metadata": {},
   "outputs": [],
   "source": [
    "adata.obs[\"index\"] = adata.obs_names.values\n",
    "adata.obs[\"index_adapted\"] = adata.obs.apply(lambda x: x[\"index\"][:-2], axis=1)\n",
    "adata.obs.set_index(\"index_adapted\", inplace=True)"
   ]
  },
  {
   "cell_type": "code",
   "execution_count": 28,
   "id": "b2c0b7f0-bbaa-4a6c-a8b4-cccd2a3281e3",
   "metadata": {},
   "outputs": [],
   "source": [
    "adata_combined.obs[\"cov_drug_dose\"] = adata.obs[\"cov_drug_dose\"]\n",
    "adata_combined.obs[\"condition_ID\"] = adata.obs[\"condition_ID\"]\n",
    "adata_combined.obs[\"log_dose\"] = adata.obs[\"log_dose\"]"
   ]
  },
  {
   "cell_type": "code",
   "execution_count": 29,
   "id": "4bf8afcb-9c81-4b99-bbd3-8fecb89e5296",
   "metadata": {},
   "outputs": [],
   "source": [
    "frac_valid = adata[adata.obs[\"split_1ct_MEC\"] == \"valid\"].n_obs / (\n",
    "    adata[adata.obs[\"split_1ct_MEC\"] == \"valid\"].n_obs + adata[adata.obs[\"split_1ct_MEC\"] == \"train\"].n_obs\n",
    ")"
   ]
  },
  {
   "cell_type": "code",
   "execution_count": 30,
   "id": "68713145-b4f6-42ac-aff6-be43a9634c1b",
   "metadata": {},
   "outputs": [],
   "source": [
    "import numpy as np\n",
    "\n",
    "\n",
    "def create_split(x):\n",
    "    if x[\"split\"] != \"train\":\n",
    "        return x[\"split\"]\n",
    "    is_train = np.random.choice(2, p=[frac_valid, 1 - frac_valid])\n",
    "    if is_train:\n",
    "        return \"train_train\"\n",
    "    return \"train_valid\"\n",
    "\n",
    "\n",
    "adata_combined.obs[\"split_1ct_MEC\"] = adata_combined.obs.apply(create_split, axis=1)"
   ]
  },
  {
   "cell_type": "code",
   "execution_count": 31,
   "id": "022b99a9-b0e7-4b63-b9fa-f2837be69b42",
   "metadata": {},
   "outputs": [
    {
     "data": {
      "text/plain": [
       "split_1ct_MEC\n",
       "train_train    46592\n",
       "ood             8896\n",
       "train_valid     5290\n",
       "test            3100\n",
       "Name: count, dtype: int64"
      ]
     },
     "execution_count": 31,
     "metadata": {},
     "output_type": "execute_result"
    }
   ],
   "source": [
    "adata_combined.obs[\"split_1ct_MEC\"].value_counts()"
   ]
  },
  {
   "cell_type": "code",
   "execution_count": 32,
   "id": "66d00440-1a84-4666-93a6-6333a10314a3",
   "metadata": {},
   "outputs": [],
   "source": [
    "adata_combined.obs[\"condition_ID\"] = adata_combined.obs[\"condition_ID\"].cat.remove_unused_categories()"
   ]
  },
  {
   "cell_type": "code",
   "execution_count": 33,
   "id": "aec2874d-31fa-4758-9e28-cf350e21d08b",
   "metadata": {},
   "outputs": [
    {
     "name": "stderr",
     "output_type": "stream",
     "text": [
      "100%|██████████████████████████████████████████████████████████████████████████████████████████████████████████████████████| 63878/63878 [00:01<00:00, 50577.49it/s]\n",
      "100%|█████████████████████████████████████████████████████████████████████████████████████████████████████████████████████| 63878/63878 [00:00<00:00, 710882.38it/s]\n",
      "An NVIDIA GPU may be present on this machine, but a CUDA-enabled jaxlib is not installed. Falling back to cpu.\n"
     ]
    },
    {
     "name": "stdout",
     "output_type": "stream",
     "text": [
      "\u001b[34mINFO    \u001b[0m Generating sequential column names                                                                        \n",
      "\u001b[34mINFO    \u001b[0m Generating sequential column names                                                                        \n"
     ]
    }
   ],
   "source": [
    "cpa.CPA.setup_anndata(\n",
    "    adata_combined,\n",
    "    perturbation_key=\"condition_ID\",\n",
    "    dosage_key=\"log_dose\",\n",
    "    control_group=\"CHEMBL504\",\n",
    "    batch_key=None,\n",
    "    is_count_data=False,\n",
    "    categorical_covariate_keys=[\"cell_type\"],\n",
    "    # deg_uns_key='rank_genes_groups_cov',\n",
    "    deg_uns_cat_key=\"cov_drug_dose\",\n",
    "    max_comb_len=2,\n",
    ")"
   ]
  },
  {
   "cell_type": "code",
   "execution_count": 34,
   "id": "1d8d0c3e-e285-457e-9b81-e9edf65fab83",
   "metadata": {},
   "outputs": [],
   "source": [
    "ae_hparams = {\n",
    "    \"n_latent\": 128,\n",
    "    \"recon_loss\": \"nb\",\n",
    "    \"doser_type\": \"logsigm\",\n",
    "    \"n_hidden_encoder\": 512,\n",
    "    \"n_layers_encoder\": 3,\n",
    "    \"n_hidden_decoder\": 512,\n",
    "    \"n_layers_decoder\": 3,\n",
    "    \"use_batch_norm_encoder\": True,\n",
    "    \"use_layer_norm_encoder\": False,\n",
    "    \"use_batch_norm_decoder\": True,\n",
    "    \"use_layer_norm_decoder\": False,\n",
    "    \"dropout_rate_encoder\": 0.1,\n",
    "    \"dropout_rate_decoder\": 0.1,\n",
    "    \"variational\": False,\n",
    "    \"seed\": 434,\n",
    "}\n",
    "\n",
    "trainer_params = {\n",
    "    \"n_epochs_kl_warmup\": None,\n",
    "    \"n_epochs_pretrain_ae\": 30,\n",
    "    \"n_epochs_adv_warmup\": 50,\n",
    "    \"n_epochs_mixup_warmup\": 3,\n",
    "    \"mixup_alpha\": 0.1,\n",
    "    \"adv_steps\": 2,\n",
    "    \"n_hidden_adv\": 64,\n",
    "    \"n_layers_adv\": 2,\n",
    "    \"use_batch_norm_adv\": True,\n",
    "    \"use_layer_norm_adv\": False,\n",
    "    \"dropout_rate_adv\": 0.3,\n",
    "    \"reg_adv\": 20.0,\n",
    "    \"pen_adv\": 20.0,\n",
    "    \"lr\": 0.0003,\n",
    "    \"wd\": 4e-07,\n",
    "    \"adv_lr\": 0.0003,\n",
    "    \"adv_wd\": 4e-07,\n",
    "    \"adv_loss\": \"cce\",\n",
    "    \"doser_lr\": 0.0003,\n",
    "    \"doser_wd\": 4e-07,\n",
    "    \"do_clip_grad\": False,\n",
    "    \"gradient_clip_value\": 1.0,\n",
    "    \"step_size_lr\": 45,\n",
    "}"
   ]
  },
  {
   "cell_type": "code",
   "execution_count": 35,
   "id": "3e0f8100-c104-44ec-bc2f-025a42b4b917",
   "metadata": {},
   "outputs": [
    {
     "name": "stderr",
     "output_type": "stream",
     "text": [
      "[rank: 0] Global seed set to 434\n"
     ]
    }
   ],
   "source": [
    "model = cpa.CPA(\n",
    "    adata=adata_combined,\n",
    "    split_key=\"split_1ct_MEC\",\n",
    "    train_split=\"train_train\",\n",
    "    valid_split=\"train_valid\",\n",
    "    **ae_hparams,\n",
    ")"
   ]
  },
  {
   "cell_type": "code",
   "execution_count": 36,
   "id": "7e9ef73a-586e-4d35-9b9b-0a68942e8340",
   "metadata": {},
   "outputs": [
    {
     "name": "stderr",
     "output_type": "stream",
     "text": [
      "100%|███████████████████████████████████████████████████████████████████████████████████████████████████████████████████████████████| 32/32 [00:00<00:00, 81.07it/s]\n",
      "GPU available: True (cuda), used: True\n",
      "TPU available: False, using: 0 TPU cores\n",
      "IPU available: False, using: 0 IPUs\n",
      "HPU available: False, using: 0 HPUs\n",
      "You are using a CUDA device ('NVIDIA A100-PCIE-40GB MIG 3g.20gb') that has Tensor Cores. To properly utilize them, you should set `torch.set_float32_matmul_precision('medium' | 'high')` which will trade-off precision for performance. For more details, read https://pytorch.org/docs/stable/generated/torch.set_float32_matmul_precision.html#torch.set_float32_matmul_precision\n",
      "LOCAL_RANK: 0 - CUDA_VISIBLE_DEVICES: [MIG-7f7d366f-7513-5448-b61b-32bfe54672cc]\n"
     ]
    },
    {
     "name": "stdout",
     "output_type": "stream",
     "text": [
      "Epoch 5/2000:   0%|                                           | 4/2000 [01:28<11:13:30, 20.25s/it, v_num=1, recon=322, r2_mean=0.758, adv_loss=2.08, acc_pert=0.258]"
     ]
    },
    {
     "name": "stderr",
     "output_type": "stream",
     "text": [
      "\n",
      "Epoch 00004: cpa_metric reached. Module best state updated.\n"
     ]
    },
    {
     "name": "stdout",
     "output_type": "stream",
     "text": [
      "Epoch 10/2000:   0%| | 9/2000 [03:06<10:24:20, 18.82s/it, v_num=1, recon=304, r2_mean=0.77, adv_loss=1.89, acc_pert=0.305, val_recon=316, disnt_basal=0.0671, disnt_"
     ]
    },
    {
     "name": "stderr",
     "output_type": "stream",
     "text": [
      "\n",
      "Epoch 00009: cpa_metric reached. Module best state updated.\n"
     ]
    },
    {
     "name": "stdout",
     "output_type": "stream",
     "text": [
      "\n",
      "disnt_basal = 0.059695623352951775\n",
      "disnt_after = 0.08662632144289778\n",
      "val_r2_mean = 0.7676008125074285\n",
      "val_r2_var = 0.15435785162777682\n",
      "Epoch 20/2000:   1%| | 19/2000 [06:15<10:00:19, 18.18s/it, v_num=1, recon=286, r2_mean=0.776, adv_loss=1.84, acc_pert=0.334, val_recon=294, disnt_basal=0.0548, disn"
     ]
    },
    {
     "name": "stderr",
     "output_type": "stream",
     "text": [
      "\n",
      "Epoch 00019: cpa_metric reached. Module best state updated.\n"
     ]
    },
    {
     "name": "stdout",
     "output_type": "stream",
     "text": [
      "\n",
      "disnt_basal = 0.052318254564058225\n",
      "disnt_after = 0.07803819639223587\n",
      "val_r2_mean = 0.7692418524412065\n",
      "val_r2_var = 0.15557072139427508\n",
      "Epoch 25/2000:   1%| | 24/2000 [07:54<10:19:21, 18.81s/it, v_num=1, recon=281, r2_mean=0.778, adv_loss=1.82, acc_pert=0.341, val_recon=289, disnt_basal=0.0523, disn"
     ]
    },
    {
     "name": "stderr",
     "output_type": "stream",
     "text": [
      "\n",
      "Epoch 00024: cpa_metric reached. Module best state updated.\n"
     ]
    },
    {
     "name": "stdout",
     "output_type": "stream",
     "text": [
      "Epoch 30/2000:   1%| | 29/2000 [09:30<10:27:09, 19.09s/it, v_num=1, recon=278, r2_mean=0.779, adv_loss=1.82, acc_pert=0.342, val_recon=285, disnt_basal=0.0494, disn\n",
      "disnt_basal = 0.04634107144951358\n",
      "disnt_after = 0.07343303702711533\n",
      "val_r2_mean = 0.7687894528573794\n",
      "val_r2_var = 0.14822988811508267\n",
      "Epoch 40/2000:   2%| | 39/2000 [12:26<9:28:20, 17.39s/it, v_num=1, recon=276, r2_mean=0.779, adv_loss=3.37, acc_pert=0.059, val_recon=283, disnt_basal=0.0365, disnt\n",
      "disnt_basal = 0.035509309327553966\n",
      "disnt_after = 0.06334011796328731\n",
      "val_r2_mean = 0.7675996184375139\n",
      "val_r2_var = 0.14409897615971112\n",
      "Epoch 50/2000:   2%| | 49/2000 [15:18<9:10:06, 16.92s/it, v_num=1, recon=274, r2_mean=0.779, adv_loss=3.3, acc_pert=0.0493, val_recon=282, disnt_basal=0.0347, disnt\n",
      "disnt_basal = 0.03356391342720198\n",
      "disnt_after = 0.06182536196217346\n",
      "val_r2_mean = 0.7683080183189259\n",
      "val_r2_var = 0.14572830636469208\n",
      "Epoch 60/2000:   3%| | 59/2000 [18:17<9:05:06, 16.85s/it, v_num=1, recon=273, r2_mean=0.78, adv_loss=3.29, acc_pert=0.0492, val_recon=281, disnt_basal=0.0343, disnt\n",
      "disnt_basal = 0.03391659881075607\n",
      "disnt_after = 0.06175686223757823\n",
      "val_r2_mean = 0.7662998327311686\n",
      "val_r2_var = 0.14646336790445688\n",
      "Epoch 70/2000:   3%| | 69/2000 [21:14<9:14:03, 17.22s/it, v_num=1, recon=272, r2_mean=0.782, adv_loss=3.28, acc_pert=0.0457, val_recon=281, disnt_basal=0.0335, disn\n",
      "disnt_basal = 0.032422225646582925\n",
      "disnt_after = 0.059938275356299545\n",
      "val_r2_mean = 0.7664981739748268\n",
      "val_r2_var = 0.14247249982775007\n",
      "Epoch 75/2000:   4%| | 75/2000 [23:00<9:50:26, 18.40s/it, v_num=1, recon=271, r2_mean=0.782, adv_loss=3.29, acc_pert=0.0464, val_recon=281, disnt_basal=0.0329, disn\n"
     ]
    }
   ],
   "source": [
    "model.train(\n",
    "    max_epochs=2000,\n",
    "    use_gpu=True,\n",
    "    batch_size=128,\n",
    "    plan_kwargs=trainer_params,\n",
    "    early_stopping_patience=10,\n",
    "    check_val_every_n_epoch=5,\n",
    "    save_path=\"/lustre/groups/ml01/workspace/ot_perturbation/models/cpa/combosciplex\",\n",
    ")"
   ]
  },
  {
   "cell_type": "code",
   "execution_count": 37,
   "id": "435c6698-c128-4236-8a55-5fdec1ec44b8",
   "metadata": {},
   "outputs": [
    {
     "name": "stderr",
     "output_type": "stream",
     "text": [
      "100%|██████████████████████████████████████████████████████████████████████████████████████████████████████████████████████████| 1997/1997 [00:07<00:00, 272.21it/s]\n"
     ]
    }
   ],
   "source": [
    "model.predict(adata_combined)"
   ]
  },
  {
   "cell_type": "code",
   "execution_count": 38,
   "id": "17aaf1b8-2745-4796-8fe6-7b6ffd394e1c",
   "metadata": {},
   "outputs": [],
   "source": [
    "adata_combined.write(\n",
    "    \"/lustre/groups/ml01/workspace/ot_perturbation/models/cpa/combosciplex/adata_with_predictions_30_2.h5ad\"\n",
    ")"
   ]
  },
  {
   "cell_type": "code",
   "execution_count": null,
   "id": "61c23969-f2dc-4580-a39c-c29e667aef0f",
   "metadata": {},
   "outputs": [],
   "source": []
  }
 ],
 "metadata": {
  "kernelspec": {
   "display_name": "ot_pert_cpa",
   "language": "python",
   "name": "ot_pert_cpa"
  },
  "language_info": {
   "codemirror_mode": {
    "name": "ipython",
    "version": 3
   },
   "file_extension": ".py",
   "mimetype": "text/x-python",
   "name": "python",
   "nbconvert_exporter": "python",
   "pygments_lexer": "ipython3",
   "version": "3.9.19"
  }
 },
 "nbformat": 4,
 "nbformat_minor": 5
}
