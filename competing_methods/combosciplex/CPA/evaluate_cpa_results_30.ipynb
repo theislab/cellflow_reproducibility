{
 "cells": [
  {
   "cell_type": "code",
   "execution_count": 1,
   "id": "1395d093-8d3e-48c0-8ffb-7e864854f3a5",
   "metadata": {},
   "outputs": [],
   "source": [
    "import functools\n",
    "\n",
    "import jax\n",
    "import numpy as np\n",
    "import scanpy as sc\n",
    "\n",
    "from ot_pert.metrics import compute_mean_metrics, compute_metrics"
   ]
  },
  {
   "cell_type": "code",
   "execution_count": 2,
   "id": "07027cac-18fd-4ef8-b54e-09315f9ae6eb",
   "metadata": {},
   "outputs": [
    {
     "name": "stderr",
     "output_type": "stream",
     "text": [
      "/home/icb/dominik.klein/mambaforge/envs/ot_pert_genot/lib/python3.12/site-packages/anndata/__init__.py:51: FutureWarning: `anndata.read` is deprecated, use `anndata.read_h5ad` instead. `ad.read` will be removed in mid 2024.\n",
      "  warnings.warn(\n",
      "/home/icb/dominik.klein/mambaforge/envs/ot_pert_genot/lib/python3.12/site-packages/anndata/_core/anndata.py:1906: UserWarning: Observation names are not unique. To make them unique, call `.obs_names_make_unique`.\n",
      "  utils.warn_names_duplicates(\"obs\")\n"
     ]
    }
   ],
   "source": [
    "adata = sc.read(\"/lustre/groups/ml01/workspace/ot_perturbation/models/cpa/combosciplex/adata_with_predictions_30.h5ad\")"
   ]
  },
  {
   "cell_type": "code",
   "execution_count": 3,
   "id": "091f2f81-d713-4a2a-a003-37c5db5d3bc7",
   "metadata": {},
   "outputs": [
    {
     "name": "stderr",
     "output_type": "stream",
     "text": [
      "/home/icb/dominik.klein/mambaforge/envs/ot_pert_genot/lib/python3.12/site-packages/anndata/__init__.py:51: FutureWarning: `anndata.read` is deprecated, use `anndata.read_h5ad` instead. `ad.read` will be removed in mid 2024.\n",
      "  warnings.warn(\n"
     ]
    }
   ],
   "source": [
    "adata_train_orig = sc.read(\"/lustre/groups/ml01/workspace/ot_perturbation/data/combosciplex/adata_train_30.h5ad\")"
   ]
  },
  {
   "cell_type": "code",
   "execution_count": 4,
   "id": "62ff35e2-4789-4924-8364-880993f60734",
   "metadata": {},
   "outputs": [
    {
     "data": {
      "text/plain": [
       "dict_keys(['Drug1_colors', 'Drug2_colors', 'Well_colors', 'condition_colors', 'dendrogram_leiden', 'hvg', 'leiden', 'leiden_colors', 'log1p', 'neighbors', 'pathway1_colors', 'pathway2_colors', 'pathway_colors', 'pca', 'rank_genes_groups', 'rank_genes_groups_cov_all', 'split_colors', 'umap'])"
      ]
     },
     "execution_count": 4,
     "metadata": {},
     "output_type": "execute_result"
    }
   ],
   "source": [
    "adata_train_orig.uns.keys()"
   ]
  },
  {
   "cell_type": "code",
   "execution_count": 5,
   "id": "39531565-3986-4a83-8fab-2ebd7392a732",
   "metadata": {},
   "outputs": [],
   "source": [
    "preds = adata.obsm[\"CPA_pred\"]"
   ]
  },
  {
   "cell_type": "code",
   "execution_count": 6,
   "id": "9100129f-f66a-47ae-b717-d273f19fd799",
   "metadata": {},
   "outputs": [],
   "source": [
    "def reconstruct_data(embedding: np.ndarray, projection_matrix: np.ndarray, mean_to_add: np.ndarray) -> np.ndarray:\n",
    "    return np.matmul(embedding, projection_matrix.T) + mean_to_add\n",
    "\n",
    "\n",
    "def project_data(data: np.ndarray, projection_matrix: np.ndarray, mean_to_subtract: np.ndarray) -> np.ndarray:\n",
    "    return np.matmul(data - mean_to_subtract, projection_matrix)"
   ]
  },
  {
   "cell_type": "code",
   "execution_count": 7,
   "id": "07b45430-1543-4df6-b89f-86c1a573575c",
   "metadata": {},
   "outputs": [],
   "source": [
    "OBSM_KEY_DATA_EMBEDDING = \"X_pca\""
   ]
  },
  {
   "cell_type": "code",
   "execution_count": 8,
   "id": "a3177da2-de98-43f4-9f09-8ebc0bd45640",
   "metadata": {},
   "outputs": [],
   "source": [
    "adata_train = adata[adata.obs[\"split\"] == \"train\"]\n",
    "adata_test = adata[adata.obs[\"split\"] == \"test\"]\n",
    "adata_ood = adata[adata.obs[\"split\"] == \"ood\"]"
   ]
  },
  {
   "cell_type": "code",
   "execution_count": 9,
   "id": "c62be8fc-de0c-4bd4-9f0c-b2666450142c",
   "metadata": {},
   "outputs": [],
   "source": [
    "project_data_fn = functools.partial(\n",
    "    project_data,\n",
    "    projection_matrix=adata_train_orig.varm[\"PCs\"],\n",
    "    mean_to_subtract=adata_train_orig.varm[\"X_train_mean\"].T,\n",
    ")"
   ]
  },
  {
   "cell_type": "code",
   "execution_count": 10,
   "id": "c2541151-a591-4df2-ada0-948a6cb268fc",
   "metadata": {
    "scrolled": true
   },
   "outputs": [],
   "source": [
    "train_data_target_encoded = {}\n",
    "train_data_target_decoded = {}\n",
    "train_data_target_encoded_predicted = {}\n",
    "train_data_target_decoded_predicted = {}\n",
    "\n",
    "for cond in adata_train.obs[\"condition\"].cat.categories:\n",
    "    if cond == \"control\":\n",
    "        continue\n",
    "    train_data_target_encoded[cond] = adata_train[adata_train.obs[\"condition\"] == cond].obsm[OBSM_KEY_DATA_EMBEDDING]\n",
    "    train_data_target_decoded[cond] = adata_train[adata_train.obs[\"condition\"] == cond].X.A\n",
    "    pred_cpa = np.log1p(adata_train[adata_train.obs[\"condition\"] == cond].obsm[\"CPA_pred\"])\n",
    "    train_data_target_decoded_predicted[cond] = pred_cpa\n",
    "    train_data_target_encoded_predicted[cond] = project_data_fn(pred_cpa)\n",
    "\n",
    "\n",
    "test_data_target_encoded = {}\n",
    "test_data_target_decoded = {}\n",
    "test_data_target_encoded_predicted = {}\n",
    "test_data_target_decoded_predicted = {}\n",
    "for cond in adata_test.obs[\"condition\"].cat.categories:\n",
    "    if cond == \"control\":\n",
    "        continue\n",
    "    test_data_target_encoded[cond] = adata_test[adata_test.obs[\"condition\"] == cond].obsm[OBSM_KEY_DATA_EMBEDDING]\n",
    "    test_data_target_decoded[cond] = adata_test[adata_test.obs[\"condition\"] == cond].X.A\n",
    "    pred_cpa = np.log1p(adata_test[adata_test.obs[\"condition\"] == cond].obsm[\"CPA_pred\"])\n",
    "    test_data_target_decoded_predicted[cond] = pred_cpa\n",
    "    test_data_target_encoded_predicted[cond] = project_data_fn(pred_cpa)\n",
    "\n",
    "\n",
    "ood_data_target_encoded = {}\n",
    "ood_data_target_decoded = {}\n",
    "ood_data_target_encoded_predicted = {}\n",
    "ood_data_target_decoded_predicted = {}\n",
    "for cond in adata_ood.obs[\"condition\"].cat.categories:\n",
    "    if cond == \"control\":\n",
    "        continue\n",
    "    ood_data_target_encoded[cond] = adata_ood[adata_ood.obs[\"condition\"] == cond].obsm[OBSM_KEY_DATA_EMBEDDING]\n",
    "    ood_data_target_decoded[cond] = adata_ood[adata_ood.obs[\"condition\"] == cond].X.A\n",
    "    pred_cpa = np.log1p(adata_ood[adata_ood.obs[\"condition\"] == cond].obsm[\"CPA_pred\"])\n",
    "    ood_data_target_decoded_predicted[cond] = pred_cpa\n",
    "    ood_data_target_encoded_predicted[cond] = project_data_fn(pred_cpa)"
   ]
  },
  {
   "cell_type": "code",
   "execution_count": 11,
   "id": "c9e8562b-66d1-4151-8824-a4944b4e2e85",
   "metadata": {},
   "outputs": [],
   "source": [
    "train_deg_dict = {\n",
    "    k: v\n",
    "    for k, v in adata_train_orig.uns[\"rank_genes_groups_cov_all\"].items()\n",
    "    if k in train_data_target_decoded_predicted.keys()\n",
    "}\n",
    "test_deg_dict = {\n",
    "    k: v\n",
    "    for k, v in adata_train_orig.uns[\"rank_genes_groups_cov_all\"].items()\n",
    "    if k in test_data_target_decoded_predicted.keys()\n",
    "}\n",
    "ood_deg_dict = {\n",
    "    k: v\n",
    "    for k, v in adata_train_orig.uns[\"rank_genes_groups_cov_all\"].items()\n",
    "    if k in ood_data_target_decoded_predicted.keys()\n",
    "}"
   ]
  },
  {
   "cell_type": "code",
   "execution_count": 12,
   "id": "e1fc5bf1-9976-4071-a7ac-605b1494a351",
   "metadata": {},
   "outputs": [],
   "source": [
    "def get_mask(x, y):\n",
    "    return x[:, [gene in y for gene in adata_train.var_names]]\n",
    "\n",
    "\n",
    "ood_deg_target_decoded_predicted = jax.tree_util.tree_map(get_mask, ood_data_target_decoded_predicted, ood_deg_dict)\n",
    "ood_deg_target_decoded = jax.tree_util.tree_map(get_mask, ood_data_target_decoded, ood_deg_dict)\n",
    "\n",
    "test_deg_target_decoded_predicted = jax.tree_util.tree_map(get_mask, test_data_target_decoded_predicted, test_deg_dict)\n",
    "test_deg_target_decoded = jax.tree_util.tree_map(get_mask, test_data_target_decoded, test_deg_dict)\n",
    "\n",
    "train_deg_target_decoded_predicted = jax.tree_util.tree_map(\n",
    "    get_mask, train_data_target_decoded_predicted, train_deg_dict\n",
    ")\n",
    "train_deg_target_decoded = jax.tree_util.tree_map(get_mask, train_data_target_decoded, test_deg_dict)"
   ]
  },
  {
   "cell_type": "code",
   "execution_count": 13,
   "id": "e8d7ff42-9dbb-4635-9e68-ac3306d27af8",
   "metadata": {},
   "outputs": [
    {
     "name": "stderr",
     "output_type": "stream",
     "text": [
      "2024-04-19 08:29:44.199150: W external/xla/xla/service/gpu/nvptx_compiler.cc:718] The NVIDIA driver's CUDA version is 12.3 which is older than the ptxas CUDA version (12.4.131). Because the driver is older than the ptxas version, XLA is disabling parallel compilation, which may slow down compilation. You should update your NVIDIA driver or use the NVIDIA-provided CUDA forward compatibility packages.\n"
     ]
    }
   ],
   "source": [
    "deg_ood_metrics = jax.tree_util.tree_map(compute_metrics, ood_deg_target_decoded, ood_deg_target_decoded_predicted)\n",
    "deg_mean_ood_metrics = compute_mean_metrics(deg_ood_metrics, prefix=\"deg_ood_\")\n",
    "\n",
    "deg_test_metrics = jax.tree_util.tree_map(compute_metrics, test_deg_target_decoded, test_deg_target_decoded_predicted)\n",
    "deg_mean_test_metrics = compute_mean_metrics(deg_test_metrics, prefix=\"deg_test_\")\n",
    "\n",
    "deg_train_metrics = jax.tree_util.tree_map(\n",
    "    compute_metrics, train_deg_target_decoded, train_deg_target_decoded_predicted\n",
    ")\n",
    "deg_mean_train_metrics = compute_mean_metrics(deg_train_metrics, prefix=\"deg_train_\")"
   ]
  },
  {
   "cell_type": "code",
   "execution_count": 14,
   "id": "90542ffc-857a-48d1-b38f-a18ef54e3969",
   "metadata": {},
   "outputs": [],
   "source": [
    "train_metrics_encoded = jax.tree_util.tree_map(\n",
    "    compute_metrics, train_data_target_encoded, train_data_target_encoded_predicted\n",
    ")\n",
    "mean_train_metrics_encoded = compute_mean_metrics(train_metrics_encoded, prefix=\"encoded_train_\")\n",
    "\n",
    "train_metrics_decoded = jax.tree_util.tree_map(\n",
    "    compute_metrics, train_data_target_decoded, train_data_target_decoded_predicted\n",
    ")\n",
    "mean_train_metrics_decoded = compute_mean_metrics(train_metrics_decoded, prefix=\"decoded_train_\")"
   ]
  },
  {
   "cell_type": "code",
   "execution_count": 15,
   "id": "9e337bf1-f165-4d62-a79f-4327be259a6c",
   "metadata": {},
   "outputs": [],
   "source": [
    "test_metrics_encoded = jax.tree_util.tree_map(\n",
    "    compute_metrics, test_data_target_encoded, test_data_target_encoded_predicted\n",
    ")\n",
    "mean_test_metrics_encoded = compute_mean_metrics(test_metrics_encoded, prefix=\"encoded_test_\")\n",
    "\n",
    "test_metrics_decoded = jax.tree_util.tree_map(\n",
    "    compute_metrics, test_data_target_decoded, test_data_target_decoded_predicted\n",
    ")\n",
    "mean_test_metrics_decoded = compute_mean_metrics(test_metrics_decoded, prefix=\"decoded_test_\")"
   ]
  },
  {
   "cell_type": "code",
   "execution_count": 16,
   "id": "cbdff236-b23d-4db5-b28f-a072c3ccaecf",
   "metadata": {},
   "outputs": [],
   "source": [
    "ood_metrics_encoded = jax.tree_util.tree_map(\n",
    "    compute_metrics, ood_data_target_encoded, ood_data_target_encoded_predicted\n",
    ")\n",
    "mean_ood_metrics_encoded = compute_mean_metrics(ood_metrics_encoded, prefix=\"encoded_ood_\")\n",
    "\n",
    "ood_metrics_decoded = jax.tree_util.tree_map(\n",
    "    compute_metrics, ood_data_target_decoded, ood_data_target_decoded_predicted\n",
    ")\n",
    "mean_ood_metrics_decoded = compute_mean_metrics(ood_metrics_decoded, prefix=\"decoded_ood_\")"
   ]
  },
  {
   "cell_type": "code",
   "execution_count": 17,
   "id": "4ed6d545-6b19-4d72-887c-f5618d87d47d",
   "metadata": {},
   "outputs": [
    {
     "data": {
      "text/plain": [
       "{'encoded_ood_r_squared': 0.4617154269785281,\n",
       " 'encoded_ood_sinkhorn_div_1': 16.026006507873536,\n",
       " 'encoded_ood_sinkhorn_div_10': 10.301622009277343,\n",
       " 'encoded_ood_sinkhorn_div_100': 9.30956802368164,\n",
       " 'encoded_ood_e_distance': 18.37812473103282,\n",
       " 'encoded_ood_mmd': 0.12955547221949426}"
      ]
     },
     "execution_count": 17,
     "metadata": {},
     "output_type": "execute_result"
    }
   ],
   "source": [
    "mean_ood_metrics_encoded"
   ]
  },
  {
   "cell_type": "code",
   "execution_count": 18,
   "id": "014cbe29-83e0-4a37-aa82-29804107152a",
   "metadata": {},
   "outputs": [
    {
     "data": {
      "text/plain": [
       "{'encoded_test_r_squared': 0.27108251692962193,\n",
       " 'encoded_test_sinkhorn_div_1': 16.474775827847996,\n",
       " 'encoded_test_sinkhorn_div_10': 10.439558836129995,\n",
       " 'encoded_test_sinkhorn_div_100': 8.91045148556049,\n",
       " 'encoded_test_e_distance': 17.57904283981842,\n",
       " 'encoded_test_mmd': 0.14035338253825919}"
      ]
     },
     "execution_count": 18,
     "metadata": {},
     "output_type": "execute_result"
    }
   ],
   "source": [
    "mean_test_metrics_encoded"
   ]
  },
  {
   "cell_type": "code",
   "execution_count": 19,
   "id": "c671a0fc-6743-46c4-9ce2-cff5bf900e46",
   "metadata": {},
   "outputs": [
    {
     "data": {
      "text/plain": [
       "{'decoded_ood_r_squared': 0.7621547337160892,\n",
       " 'decoded_ood_sinkhorn_div_1': 87.8334732055664,\n",
       " 'decoded_ood_sinkhorn_div_10': 66.57864303588867,\n",
       " 'decoded_ood_sinkhorn_div_100': 23.059414672851563,\n",
       " 'decoded_ood_e_distance': 45.39970156813534,\n",
       " 'decoded_ood_mmd': 0.13256284757177467}"
      ]
     },
     "execution_count": 19,
     "metadata": {},
     "output_type": "execute_result"
    }
   ],
   "source": [
    "mean_ood_metrics_decoded"
   ]
  },
  {
   "cell_type": "code",
   "execution_count": 20,
   "id": "8dab709e-79e2-41d0-8bef-6a7ab287fac1",
   "metadata": {},
   "outputs": [
    {
     "data": {
      "text/plain": [
       "{'deg_ood_r_squared': 0.5230906992746265,\n",
       " 'deg_ood_sinkhorn_div_1': 21.767757225036622,\n",
       " 'deg_ood_sinkhorn_div_10': 14.538034439086914,\n",
       " 'deg_ood_sinkhorn_div_100': 14.020252990722657,\n",
       " 'deg_ood_e_distance': 27.93252376161228,\n",
       " 'deg_ood_mmd': 0.27750229753734856}"
      ]
     },
     "execution_count": 20,
     "metadata": {},
     "output_type": "execute_result"
    }
   ],
   "source": [
    "deg_mean_ood_metrics"
   ]
  },
  {
   "cell_type": "code",
   "execution_count": 21,
   "id": "ad5e53e5-ff5f-4df7-9e94-5f4414cebb9f",
   "metadata": {},
   "outputs": [],
   "source": [
    "output_dir = \"/lustre/groups/ml01/workspace/ot_perturbation/data/combosciplex/results/cpa\""
   ]
  },
  {
   "cell_type": "code",
   "execution_count": 24,
   "id": "899fc8be-e234-478e-86fc-3874dddf50c8",
   "metadata": {},
   "outputs": [],
   "source": [
    "import os\n",
    "import pandas as pd\n",
    "\n",
    "pd.DataFrame.from_dict(ood_metrics_encoded).to_csv(os.path.join(output_dir, \"ood_metrics_encoded.csv\"))\n",
    "pd.DataFrame.from_dict(ood_metrics_decoded).to_csv(os.path.join(output_dir, \"ood_metrics_decoded.csv\"))\n",
    "pd.DataFrame.from_dict(test_metrics_encoded).to_csv(os.path.join(output_dir, \"test_metrics_encoded.csv\"))\n",
    "pd.DataFrame.from_dict(test_metrics_decoded).to_csv(os.path.join(output_dir, \"test_metrics_decoded.csv\"))\n",
    "pd.DataFrame.from_dict(train_metrics_encoded).to_csv(os.path.join(output_dir, \"train_metrics_encoded.csv\"))\n",
    "pd.DataFrame.from_dict(train_metrics_decoded).to_csv(os.path.join(output_dir, \"train_metrics_decoded.csv\"))"
   ]
  },
  {
   "cell_type": "code",
   "execution_count": null,
   "id": "2920276a-cfdb-40b8-b94c-6f55959c2eae",
   "metadata": {},
   "outputs": [],
   "source": []
  }
 ],
 "metadata": {
  "kernelspec": {
   "display_name": "ot_pert_genot",
   "language": "python",
   "name": "ot_pert_genot"
  },
  "language_info": {
   "codemirror_mode": {
    "name": "ipython",
    "version": 3
   },
   "file_extension": ".py",
   "mimetype": "text/x-python",
   "name": "python",
   "nbconvert_exporter": "python",
   "pygments_lexer": "ipython3",
   "version": "3.12.2"
  }
 },
 "nbformat": 4,
 "nbformat_minor": 5
}
