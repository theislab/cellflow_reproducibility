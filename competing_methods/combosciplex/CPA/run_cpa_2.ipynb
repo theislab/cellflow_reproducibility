{
 "cells": [
  {
   "cell_type": "code",
   "execution_count": 1,
   "id": "5c42fe3e-87d0-4e68-95d0-3faaca23e5f1",
   "metadata": {},
   "outputs": [
    {
     "name": "stderr",
     "output_type": "stream",
     "text": [
      "[rank: 0] Global seed set to 0\n",
      "2024-10-02 12:05:12,177\tINFO util.py:154 -- Missing packages: ['ipywidgets']. Run `pip install -U ipywidgets`, then restart the notebook server for rich notebook output.\n",
      "2024-10-02 12:05:12,719\tINFO util.py:154 -- Missing packages: ['ipywidgets']. Run `pip install -U ipywidgets`, then restart the notebook server for rich notebook output.\n"
     ]
    }
   ],
   "source": [
    "import cpa\n",
    "import scanpy as sc\n",
    "import pandas as pd\n",
    "import numpy as np\n",
    "import anndata as ad"
   ]
  },
  {
   "cell_type": "code",
   "execution_count": 2,
   "id": "3498874b-d16f-406c-8ce4-aedab48573b9",
   "metadata": {},
   "outputs": [],
   "source": [
    "split = 2\n",
    "adata_train_path = f\"/lustre/groups/ml01/workspace/ot_perturbation/data/combosciplex/adata_train_{split}.h5ad\"\n",
    "adata_test_path = f\"/lustre/groups/ml01/workspace/ot_perturbation/data/combosciplex/adata_test_{split}.h5ad\"\n",
    "adata_ood_path = f\"/lustre/groups/ml01/workspace/ot_perturbation/data/combosciplex/adata_ood_{split}.h5ad\""
   ]
  },
  {
   "cell_type": "code",
   "execution_count": 3,
   "id": "746732a4-7e96-4a14-b52d-6f36e347a62a",
   "metadata": {},
   "outputs": [],
   "source": [
    "adata_train = sc.read(adata_train_path)\n",
    "adata_test = sc.read(adata_test_path)\n",
    "adata_ood = sc.read(adata_ood_path)"
   ]
  },
  {
   "cell_type": "code",
   "execution_count": 4,
   "id": "517e21e9-da91-4b71-9c7f-283433e19736",
   "metadata": {},
   "outputs": [],
   "source": [
    "try:\n",
    "    data_path = 'combo_sciplex_prep_hvg_filtered.h5ad'\n",
    "    adata = sc.read(data_path)\n",
    "except:\n",
    "    import gdown\n",
    "    gdown.download('https://drive.google.com/uc?export=download&id=1RRV0_qYKGTvD3oCklKfoZQFYqKJy4l6t')\n",
    "    data_path = 'combo_sciplex_prep_hvg_filtered.h5ad'\n",
    "    adata = sc.read(data_path)\n",
    "\n",
    "adata\n",
    "\n",
    "adata.obs[\"index\"] = adata.obs_names.values\n",
    "adata.obs[\"index_adapted\"] = adata.obs.apply(lambda x: x[\"index\"][:-2], axis=1)\n",
    "adata.obs.set_index(\"index_adapted\", inplace=True)\n",
    "\n",
    "adata_ood.obs[\"cov_drug_dose\"] = adata.obs[\"cov_drug_dose\"]\n",
    "adata_ood.obs[\"condition_ID\"] = adata.obs[\"condition_ID\"]\n",
    "adata_ood.obs[\"log_dose\"] = adata.obs[\"log_dose\"]\n",
    "adata_ood.obs[\"smiles_rdkit\"] = adata.obs[\"smiles_rdkit\"]\n",
    "adata_ood.obs[\"cell_type\"] = adata.obs[\"cell_type\"]\n",
    "\n",
    "adata_test.obs[\"cov_drug_dose\"] = adata.obs[\"cov_drug_dose\"]\n",
    "adata_test.obs[\"condition_ID\"] = adata.obs[\"condition_ID\"]\n",
    "adata_test.obs[\"log_dose\"] = adata.obs[\"log_dose\"]\n",
    "adata_test.obs[\"smiles_rdkit\"] = adata.obs[\"smiles_rdkit\"]\n",
    "adata_test.obs[\"cell_type\"] = adata.obs[\"cell_type\"]\n",
    "\n",
    "adata_train.obs[\"cov_drug_dose\"] = adata.obs[\"cov_drug_dose\"]\n",
    "adata_train.obs[\"condition_ID\"] = adata.obs[\"condition_ID\"]\n",
    "adata_train.obs[\"log_dose\"] = adata.obs[\"log_dose\"]\n",
    "adata_train.obs[\"smiles_rdkit\"] = adata.obs[\"smiles_rdkit\"]\n",
    "adata_train.obs[\"cell_type\"] = adata.obs[\"cell_type\"]"
   ]
  },
  {
   "cell_type": "code",
   "execution_count": 5,
   "id": "6276b5c4-3562-40fd-9efe-1e91cb14d41a",
   "metadata": {},
   "outputs": [],
   "source": [
    "control_cells_gex = adata_ood[adata_ood.obs[\"condition\"]==\"control\"].X.A\n",
    "obs_names = list(adata_ood[adata_ood.obs[\"condition\"]==\"control\"].obs_names)\n",
    "\n",
    "all_data = []\n",
    "obs_df = pd.DataFrame(columns=[\"condition_ID\", \"log_dose\", \"smiles_rdkit\", \"cell_type\", \"condition\"])\n",
    "indices = []\n",
    "\n",
    "for condition in adata_ood.obs[\"condition\"].cat.categories:\n",
    "    if condition==\"control\":\n",
    "        continue\n",
    "    all_data.append(control_cells_gex)\n",
    "    filtered_row = pd.Series(adata_ood[adata_ood.obs[\"condition\"] == condition].obs[[\"condition_ID\", \"log_dose\", \"smiles_rdkit\", \"cell_type\", \"condition\"]].iloc[0].values)\n",
    "    filtered_row_df = pd.DataFrame([filtered_row.values], columns=[\"condition_ID\", \"log_dose\", \"smiles_rdkit\", \"cell_type\", \"condition\"])\n",
    "    duplicated_rows = pd.concat([filtered_row_df] * 500, ignore_index=True)\n",
    "    obs_df = pd.concat([obs_df, duplicated_rows], ignore_index=True)\n",
    "\n",
    "# Stack all data vertically to create a single array\n",
    "all_data_array = np.vstack(all_data)\n",
    "\n",
    "\n",
    "# Create the Anndata object\n",
    "adata_ood_new = ad.AnnData(X=all_data_array, obs=obs_df)\n",
    "adata_ood_new.var = adata_ood.var\n",
    "\n",
    "\n",
    "control_cells_gex = adata_test[adata_test.obs[\"condition\"]==\"control\"].X.A\n",
    "obs_names = list(adata_test[adata_test.obs[\"condition\"]==\"control\"].obs_names)\n",
    "\n",
    "all_data = []\n",
    "obs_df = pd.DataFrame(columns=[\"condition_ID\", \"log_dose\", \"smiles_rdkit\", \"cell_type\", \"condition\"])\n",
    "indices = []\n",
    "\n",
    "for condition in adata_test.obs[\"condition\"].cat.categories:\n",
    "    if condition==\"control\":\n",
    "        continue\n",
    "    all_data.append(control_cells_gex)\n",
    "    filtered_row = pd.Series(adata_test[adata_test.obs[\"condition\"] == condition].obs[[\"condition_ID\", \"log_dose\", \"smiles_rdkit\", \"cell_type\", \"condition\"]].iloc[0].values)\n",
    "    filtered_row_df = pd.DataFrame([filtered_row.values], columns=[\"condition_ID\", \"log_dose\", \"smiles_rdkit\", \"cell_type\", \"condition\"])\n",
    "    duplicated_rows = pd.concat([filtered_row_df] * 500, ignore_index=True)\n",
    "    obs_df = pd.concat([obs_df, duplicated_rows], ignore_index=True)\n",
    "\n",
    "# Stack all data vertically to create a single array\n",
    "all_data_array = np.vstack(all_data)\n",
    "\n",
    "\n",
    "# Create the Anndata object\n",
    "adata_test_new = ad.AnnData(X=all_data_array, obs=obs_df)\n",
    "adata_test_new.var = adata_test.var"
   ]
  },
  {
   "cell_type": "code",
   "execution_count": null,
   "id": "840903c2-c087-4cd6-b1a5-1b813237828d",
   "metadata": {},
   "outputs": [],
   "source": []
  },
  {
   "cell_type": "code",
   "execution_count": 6,
   "id": "b75bc596-c584-440d-91a2-9d554e88f373",
   "metadata": {},
   "outputs": [],
   "source": [
    "import anndata\n",
    "\n",
    "adata_combined = anndata.concat((adata_train, adata_test_new, adata_ood_new), label=\"split\", keys=[\"train\", \"test\", \"ood\"], join=\"inner\")"
   ]
  },
  {
   "cell_type": "code",
   "execution_count": 7,
   "id": "13de13e1-58f1-4e13-a322-238d7e75d1a4",
   "metadata": {},
   "outputs": [
    {
     "data": {
      "text/plain": [
       "AnnData object with n_obs × n_vars = 61467 × 2000\n",
       "    obs: 'condition', 'cell_type', 'condition_ID', 'log_dose', 'smiles_rdkit', 'split'"
      ]
     },
     "execution_count": 7,
     "metadata": {},
     "output_type": "execute_result"
    }
   ],
   "source": [
    "adata_combined"
   ]
  },
  {
   "cell_type": "code",
   "execution_count": 8,
   "id": "7b04910b-a88f-44ae-a969-ea85d55a9b75",
   "metadata": {},
   "outputs": [
    {
     "data": {
      "text/plain": [
       "AnnData object with n_obs × n_vars = 2900 × 2000\n",
       "    obs: 'sample', 'Size_Factor', 'n.umi', 'RT_well', 'Drug1', 'Drug2', 'Well', 'n_genes', 'n_genes_by_counts', 'total_counts', 'total_counts_mt', 'pct_counts_mt', 'leiden', 'condition', 'pathway1', 'pathway2', 'split', 'control', 'cell_type', 'cell_line', 'smiles_drug_1', 'smiles_drug_2', 'ood_1', 'ood_2', 'ood_3', 'ood_4', 'cov_drug_dose', 'condition_ID', 'log_dose', 'smiles_rdkit'\n",
       "    var: 'id', 'n_cells', 'mt', 'n_cells_by_counts', 'mean_counts', 'pct_dropout_by_counts', 'total_counts', 'highly_variable', 'means', 'dispersions', 'dispersions_norm'\n",
       "    uns: 'Drug1_colors', 'Drug2_colors', 'Well_colors', 'condition_colors', 'dendrogram_leiden', 'hvg', 'leiden', 'leiden_colors', 'log1p', 'neighbors', 'ood_1_colors', 'ood_2_colors', 'ood_3_colors', 'ood_4_colors', 'pathway1_colors', 'pathway2_colors', 'pathway_colors', 'pca', 'rank_genes_groups', 'rank_genes_groups_cov_all', 'split_colors', 'umap'\n",
       "    obsm: 'X_pca', 'X_umap', 'ecfp_drug_1', 'ecfp_drug_2'\n",
       "    varm: 'PCs'\n",
       "    layers: 'counts'\n",
       "    obsp: 'connectivities', 'distances'"
      ]
     },
     "execution_count": 8,
     "metadata": {},
     "output_type": "execute_result"
    }
   ],
   "source": [
    "adata_test"
   ]
  },
  {
   "cell_type": "code",
   "execution_count": 9,
   "id": "e6830202-035a-4258-bb57-b78498d1eb73",
   "metadata": {},
   "outputs": [
    {
     "data": {
      "text/plain": [
       "AnnData object with n_obs × n_vars = 12000 × 2000\n",
       "    obs: 'condition_ID', 'log_dose', 'smiles_rdkit', 'cell_type', 'condition'\n",
       "    var: 'id', 'n_cells', 'mt', 'n_cells_by_counts', 'mean_counts', 'pct_dropout_by_counts', 'total_counts', 'highly_variable', 'means', 'dispersions', 'dispersions_norm'"
      ]
     },
     "execution_count": 9,
     "metadata": {},
     "output_type": "execute_result"
    }
   ],
   "source": [
    "adata_test_new"
   ]
  },
  {
   "cell_type": "code",
   "execution_count": 10,
   "id": "5aade298-8597-48cd-a741-ff68f75f2acd",
   "metadata": {},
   "outputs": [
    {
     "data": {
      "text/plain": [
       "AnnData object with n_obs × n_vars = 3500 × 2000\n",
       "    obs: 'condition_ID', 'log_dose', 'smiles_rdkit', 'cell_type', 'condition'"
      ]
     },
     "execution_count": 10,
     "metadata": {},
     "output_type": "execute_result"
    }
   ],
   "source": [
    "adata_ood_new"
   ]
  },
  {
   "cell_type": "code",
   "execution_count": 11,
   "id": "26ba9cd3-580f-4458-82b2-81b9463b13fc",
   "metadata": {},
   "outputs": [
    {
     "data": {
      "text/plain": [
       "AnnData object with n_obs × n_vars = 15011 × 2000\n",
       "    obs: 'sample', 'Size_Factor', 'n.umi', 'RT_well', 'Drug1', 'Drug2', 'Well', 'n_genes', 'n_genes_by_counts', 'total_counts', 'total_counts_mt', 'pct_counts_mt', 'leiden', 'condition', 'pathway1', 'pathway2', 'split', 'control', 'cell_type', 'cell_line', 'smiles_drug_1', 'smiles_drug_2', 'ood_1', 'ood_2', 'ood_3', 'ood_4', 'cov_drug_dose', 'condition_ID', 'log_dose', 'smiles_rdkit'\n",
       "    uns: 'rank_genes_groups_cov_all'\n",
       "    obsm: 'X_pca', 'X_umap', 'ecfp_drug_1', 'ecfp_drug_2'\n",
       "    layers: 'counts'"
      ]
     },
     "execution_count": 11,
     "metadata": {},
     "output_type": "execute_result"
    }
   ],
   "source": [
    "adata_ood"
   ]
  },
  {
   "cell_type": "code",
   "execution_count": 12,
   "id": "d3966902-ce0f-4bfa-a65e-401ca6edbe8e",
   "metadata": {},
   "outputs": [],
   "source": [
    "frac_valid = adata[adata.obs[\"split_1ct_MEC\"] == \"valid\"].n_obs / (\n",
    "    adata[adata.obs[\"split_1ct_MEC\"] == \"valid\"].n_obs + adata[adata.obs[\"split_1ct_MEC\"] == \"train\"].n_obs\n",
    ")"
   ]
  },
  {
   "cell_type": "code",
   "execution_count": 13,
   "id": "44887bf1-a2d4-49bb-ad6b-0c6ad242924a",
   "metadata": {},
   "outputs": [],
   "source": [
    "import numpy as np\n",
    "\n",
    "\n",
    "def create_split(x):\n",
    "    if x[\"split\"] != \"train\":\n",
    "        return x[\"split\"]\n",
    "    is_train = np.random.choice(2, p=[frac_valid, 1 - frac_valid])\n",
    "    if is_train:\n",
    "        return \"train_train\"\n",
    "    return \"train_valid\"\n",
    "\n",
    "\n",
    "adata_combined.obs[\"split_1ct_MEC\"] = adata_combined.obs.apply(create_split, axis=1)"
   ]
  },
  {
   "cell_type": "code",
   "execution_count": 14,
   "id": "ebb56c71-c99c-443c-b0d5-216c5346fa9e",
   "metadata": {},
   "outputs": [
    {
     "name": "stderr",
     "output_type": "stream",
     "text": [
      "100%|██████████| 61467/61467 [00:00<00:00, 78367.00it/s]\n",
      "100%|██████████| 61467/61467 [00:00<00:00, 994960.90it/s]\n",
      "An NVIDIA GPU may be present on this machine, but a CUDA-enabled jaxlib is not installed. Falling back to cpu.\n"
     ]
    },
    {
     "name": "stdout",
     "output_type": "stream",
     "text": [
      "\u001b[34mINFO    \u001b[0m Generating sequential column names                                                                        \n",
      "\u001b[34mINFO    \u001b[0m Generating sequential column names                                                                        \n"
     ]
    }
   ],
   "source": [
    "cpa.CPA.setup_anndata(adata_combined,\n",
    "                      perturbation_key='condition_ID',\n",
    "                      dosage_key='log_dose',\n",
    "                      control_group='CHEMBL504',\n",
    "                      batch_key=None,\n",
    "                      is_count_data=False,\n",
    "                      categorical_covariate_keys=['cell_type'],\n",
    "                      deg_uns_cat_key='rank_genes_groups_cov',\n",
    "                      max_comb_len=2,\n",
    "                     )"
   ]
  },
  {
   "cell_type": "code",
   "execution_count": 15,
   "id": "47aefde0-fd87-484c-98ee-333cdd2a5f29",
   "metadata": {},
   "outputs": [],
   "source": [
    "df_hsearch = pd.read_csv(\"result_hsearch.csv\").T\n",
    "df_hsearch.columns = df_hsearch.iloc[0]\n",
    "df_hsearch = df_hsearch.drop(df_hsearch.index[0])\n",
    "config = df_hsearch.sort_values(\"r_squared\", ascending=False).iloc[0]\n",
    "del config[\"r_squared\"]\n",
    "config = config.to_dict()"
   ]
  },
  {
   "cell_type": "code",
   "execution_count": 16,
   "id": "079073f6-b1ff-4f2e-9e53-42987d63b1fc",
   "metadata": {},
   "outputs": [],
   "source": [
    "config_adapted = {}\n",
    "for k,v in config.items():\n",
    "    if k==\"adv_loss\":\n",
    "        config_adapted[k] = v\n",
    "    elif isinstance(v, float): \n",
    "        if np.isnan(v):\n",
    "            config_adapted[k] = None\n",
    "        else:\n",
    "            raise ValueError\n",
    "    elif v == \"True\":\n",
    "        config_adapted[k] = True\n",
    "    elif v == \"False\":\n",
    "        config_adapted[k] = False\n",
    "    else:\n",
    "        if float(v) == int(float(v)):\n",
    "            config_adapted[k] = int(float(v))\n",
    "        else:\n",
    "            config_adapted[k] = float(v)"
   ]
  },
  {
   "cell_type": "code",
   "execution_count": 17,
   "id": "a8e2bfa0-f607-4476-84c8-6bfba2638c59",
   "metadata": {},
   "outputs": [],
   "source": [
    "trainer_params = config_adapted"
   ]
  },
  {
   "cell_type": "code",
   "execution_count": 18,
   "id": "1d8d0c3e-e285-457e-9b81-e9edf65fab83",
   "metadata": {},
   "outputs": [],
   "source": [
    "ae_hparams = {\n",
    "    \"n_latent\": 128,\n",
    "    \"recon_loss\": \"gauss\",\n",
    "    \"doser_type\": \"logsigm\",\n",
    "    \"n_hidden_encoder\": 512,\n",
    "    \"n_layers_encoder\": 3,\n",
    "    \"n_hidden_decoder\": 512,\n",
    "    \"n_layers_decoder\": 3,\n",
    "    \"use_batch_norm_encoder\": True,\n",
    "    \"use_layer_norm_encoder\": False,\n",
    "    \"use_batch_norm_decoder\": True,\n",
    "    \"use_layer_norm_decoder\": False,\n",
    "    \"dropout_rate_encoder\": 0.1,\n",
    "    \"dropout_rate_decoder\": 0.1,\n",
    "    \"variational\": False,\n",
    "    \"seed\": 434,\n",
    "}\n"
   ]
  },
  {
   "cell_type": "code",
   "execution_count": 19,
   "id": "f818139e-9417-4b2d-9d66-99f6e549f3cd",
   "metadata": {},
   "outputs": [
    {
     "data": {
      "text/plain": [
       "{'n_epochs_kl_warmup': None,\n",
       " 'n_epochs_pretrain_ae': 50,\n",
       " 'n_epochs_adv_warmup': 50,\n",
       " 'n_epochs_mixup_warmup': 3,\n",
       " 'mixup_alpha': 0.1,\n",
       " 'adv_steps': None,\n",
       " 'n_hidden_adv': 64,\n",
       " 'n_layers_adv': 2,\n",
       " 'use_batch_norm_adv': True,\n",
       " 'use_layer_norm_adv': False,\n",
       " 'dropout_rate_adv': 0.3,\n",
       " 'reg_adv': 20,\n",
       " 'pen_adv': 20,\n",
       " 'lr': 0.0003,\n",
       " 'wd': 4e-07,\n",
       " 'adv_lr': 0.0003,\n",
       " 'adv_wd': 4e-07,\n",
       " 'adv_loss': 'cce',\n",
       " 'doser_lr': 0.0003,\n",
       " 'doser_wd': 4e-07,\n",
       " 'do_clip_grad': False,\n",
       " 'gradient_clip_value': 1,\n",
       " 'step_size_lr': 10}"
      ]
     },
     "execution_count": 19,
     "metadata": {},
     "output_type": "execute_result"
    }
   ],
   "source": [
    "trainer_params"
   ]
  },
  {
   "cell_type": "code",
   "execution_count": 20,
   "id": "3e0f8100-c104-44ec-bc2f-025a42b4b917",
   "metadata": {},
   "outputs": [
    {
     "name": "stderr",
     "output_type": "stream",
     "text": [
      "[rank: 0] Global seed set to 434\n"
     ]
    }
   ],
   "source": [
    "model = cpa.CPA(\n",
    "    adata=adata_combined,\n",
    "    split_key=\"split_1ct_MEC\",\n",
    "    train_split=\"train_train\",\n",
    "    valid_split=\"train_valid\",\n",
    "    **ae_hparams,\n",
    ")"
   ]
  },
  {
   "cell_type": "code",
   "execution_count": 21,
   "id": "7e9ef73a-586e-4d35-9b9b-0a68942e8340",
   "metadata": {},
   "outputs": [
    {
     "name": "stderr",
     "output_type": "stream",
     "text": [
      "100%|██████████| 32/32 [00:00<00:00, 219.32it/s]\n",
      "GPU available: True (cuda), used: True\n",
      "TPU available: False, using: 0 TPU cores\n",
      "IPU available: False, using: 0 IPUs\n",
      "HPU available: False, using: 0 HPUs\n",
      "LOCAL_RANK: 0 - CUDA_VISIBLE_DEVICES: [0]\n"
     ]
    },
    {
     "name": "stdout",
     "output_type": "stream",
     "text": [
      "Epoch 5/2000:   0%|          | 4/2000 [01:18<11:45:54, 21.22s/it, v_num=1, recon=-2.52e+3, r2_mean=0.79, adv_loss=2.46, acc_pert=0.168]"
     ]
    },
    {
     "name": "stderr",
     "output_type": "stream",
     "text": [
      "\n",
      "Epoch 00004: cpa_metric reached. Module best state updated.\n"
     ]
    },
    {
     "name": "stdout",
     "output_type": "stream",
     "text": [
      "Epoch 10/2000:   0%|          | 9/2000 [03:56<16:22:44, 29.62s/it, v_num=1, recon=-3.04e+3, r2_mean=0.798, adv_loss=2.36, acc_pert=0.183, val_recon=-2.84e+3, disnt_basal=0.0739, disnt_after=0.0911, val_r2_mean=0.797, val_KL=nan]"
     ]
    },
    {
     "name": "stderr",
     "output_type": "stream",
     "text": [
      "\n",
      "Epoch 00009: cpa_metric reached. Module best state updated.\n"
     ]
    },
    {
     "name": "stdout",
     "output_type": "stream",
     "text": [
      "\n",
      "disnt_basal = 0.07184080212172711\n",
      "disnt_after = 0.08926665253864743\n",
      "val_r2_mean = 0.8028439636592114\n",
      "val_r2_var = 0.46542600877977003\n",
      "Epoch 15/2000:   1%|          | 14/2000 [06:33<16:53:32, 30.62s/it, v_num=1, recon=-3.24e+3, r2_mean=0.803, adv_loss=2.29, acc_pert=0.194, val_recon=-3.06e+3, disnt_basal=0.0718, disnt_after=0.0893, val_r2_mean=0.803, val_KL=nan]"
     ]
    },
    {
     "name": "stderr",
     "output_type": "stream",
     "text": [
      "\n",
      "Epoch 00014: cpa_metric reached. Module best state updated.\n"
     ]
    },
    {
     "name": "stdout",
     "output_type": "stream",
     "text": [
      "Epoch 20/2000:   1%|          | 19/2000 [09:16<17:08:48, 31.16s/it, v_num=1, recon=-3.4e+3, r2_mean=0.807, adv_loss=2.26, acc_pert=0.207, val_recon=-3.17e+3, disnt_basal=0.0663, disnt_after=0.0806, val_r2_mean=0.806, val_KL=nan] \n",
      "disnt_basal = 0.05963628538897332\n",
      "disnt_after = 0.0742079161477348\n",
      "val_r2_mean = 0.8067602671659434\n",
      "val_r2_var = 0.4647158790355275\n",
      "Epoch 25/2000:   1%|          | 24/2000 [11:53<16:55:14, 30.83s/it, v_num=1, recon=-3.51e+3, r2_mean=0.809, adv_loss=2.21, acc_pert=0.206, val_recon=-3.32e+3, disnt_basal=0.0596, disnt_after=0.0742, val_r2_mean=0.807, val_KL=nan]"
     ]
    },
    {
     "name": "stderr",
     "output_type": "stream",
     "text": [
      "\n",
      "Epoch 00024: cpa_metric reached. Module best state updated.\n"
     ]
    },
    {
     "name": "stdout",
     "output_type": "stream",
     "text": [
      "Epoch 30/2000:   1%|▏         | 29/2000 [14:32<16:59:41, 31.04s/it, v_num=1, recon=-3.6e+3, r2_mean=0.808, adv_loss=2.23, acc_pert=0.206, val_recon=-3.41e+3, disnt_basal=0.0597, disnt_after=0.0746, val_r2_mean=0.807, val_KL=nan] "
     ]
    },
    {
     "name": "stderr",
     "output_type": "stream",
     "text": [
      "\n",
      "Epoch 00029: cpa_metric reached. Module best state updated.\n"
     ]
    },
    {
     "name": "stdout",
     "output_type": "stream",
     "text": [
      "\n",
      "disnt_basal = 0.05684330890073643\n",
      "disnt_after = 0.07039273806828156\n",
      "val_r2_mean = 0.8088086247140643\n",
      "val_r2_var = 0.4687411411368656\n",
      "Epoch 40/2000:   2%|▏         | 39/2000 [19:46<16:51:35, 30.95s/it, v_num=1, recon=-3.74e+3, r2_mean=0.81, adv_loss=2.24, acc_pert=0.206, val_recon=-3.44e+3, disnt_basal=0.0563, disnt_after=0.0691, val_r2_mean=0.812, val_KL=nan] "
     ]
    },
    {
     "name": "stderr",
     "output_type": "stream",
     "text": [
      "\n",
      "Epoch 00039: cpa_metric reached. Module best state updated.\n"
     ]
    },
    {
     "name": "stdout",
     "output_type": "stream",
     "text": [
      "\n",
      "disnt_basal = 0.055992007698611776\n",
      "disnt_after = 0.06945150080657327\n",
      "val_r2_mean = 0.815096119608288\n",
      "val_r2_var = 0.4567630913524666\n",
      "Epoch 50/2000:   2%|▏         | 49/2000 [25:01<16:41:49, 30.81s/it, v_num=1, recon=-3.84e+3, r2_mean=0.813, adv_loss=2.22, acc_pert=0.216, val_recon=-3.53e+3, disnt_basal=0.0552, disnt_after=0.0662, val_r2_mean=0.815, val_KL=nan]\n",
      "disnt_basal = 0.05430705424391541\n",
      "disnt_after = 0.0658924883195812\n",
      "val_r2_mean = 0.8150916377248084\n",
      "val_r2_var = 0.45445599226824596\n",
      "Epoch 60/2000:   3%|▎         | 59/2000 [30:26<17:24:14, 32.28s/it, v_num=1, recon=-3.91e+3, r2_mean=0.812, adv_loss=2.28, acc_pert=0.204, val_recon=-3.56e+3, disnt_basal=0.0526, disnt_after=0.0646, val_r2_mean=0.816, val_KL=nan]\n",
      "disnt_basal = 0.05073281511449477\n",
      "disnt_after = 0.062480619116961456\n",
      "val_r2_mean = 0.8147690739417244\n",
      "val_r2_var = 0.39259218285850445\n",
      "Epoch 70/2000:   3%|▎         | 69/2000 [35:55<17:16:41, 32.21s/it, v_num=1, recon=-3.97e+3, r2_mean=0.814, adv_loss=2.47, acc_pert=0.169, val_recon=-3.54e+3, disnt_basal=0.051, disnt_after=0.0622, val_r2_mean=0.812, val_KL=nan] \n",
      "disnt_basal = 0.048534575158010594\n",
      "disnt_after = 0.06011509781679413\n",
      "val_r2_mean = 0.8140184674618766\n",
      "val_r2_var = 0.12158280632699889\n",
      "Epoch 80/2000:   4%|▍         | 79/2000 [41:21<17:04:21, 31.99s/it, v_num=1, recon=-4.01e+3, r2_mean=0.812, adv_loss=2.68, acc_pert=0.143, val_recon=-3.56e+3, disnt_basal=0.0458, disnt_after=0.057, val_r2_mean=0.819, val_KL=nan] \n",
      "disnt_basal = 0.04335374291091165\n",
      "disnt_after = 0.05481813961842429\n",
      "val_r2_mean = 0.817403363522352\n",
      "val_r2_var = -0.14466714047737234\n",
      "Epoch 90/2000:   4%|▍         | 89/2000 [46:17<13:18:19, 25.07s/it, v_num=1, recon=-4.05e+3, r2_mean=0.813, adv_loss=2.85, acc_pert=0.13, val_recon=-3.55e+3, disnt_basal=0.041, disnt_after=0.0522, val_r2_mean=0.813, val_KL=nan]  \n",
      "disnt_basal = 0.0398569375446187\n",
      "disnt_after = 0.05158992181963197\n",
      "val_r2_mean = 0.814447223528245\n",
      "val_r2_var = -0.3170005436934446\n",
      "Epoch 90/2000:   4%|▍         | 90/2000 [46:38<16:29:52, 31.10s/it, v_num=1, recon=-4.05e+3, r2_mean=0.813, adv_loss=2.85, acc_pert=0.129, val_recon=-3.56e+3, disnt_basal=0.0399, disnt_after=0.0516, val_r2_mean=0.814, val_KL=nan]\n"
     ]
    }
   ],
   "source": [
    "model.train(\n",
    "    max_epochs=2000,\n",
    "    use_gpu=True,\n",
    "    batch_size=128,\n",
    "    plan_kwargs=trainer_params,\n",
    "    early_stopping_patience=10,\n",
    "    check_val_every_n_epoch=5,\n",
    "    save_path=\"/lustre/groups/ml01/workspace/ot_perturbation/models/cpa/combosciplex/1\",\n",
    ")"
   ]
  },
  {
   "cell_type": "code",
   "execution_count": 22,
   "id": "435c6698-c128-4236-8a55-5fdec1ec44b8",
   "metadata": {},
   "outputs": [
    {
     "name": "stderr",
     "output_type": "stream",
     "text": [
      "100%|██████████| 1921/1921 [00:06<00:00, 293.49it/s]\n"
     ]
    }
   ],
   "source": [
    "model.predict(adata_combined)"
   ]
  },
  {
   "cell_type": "code",
   "execution_count": 23,
   "id": "e7082879-901e-4004-8672-a7b2891a5c91",
   "metadata": {},
   "outputs": [],
   "source": [
    "adata_combined.write(\n",
    "    f\"/lustre/groups/ml01/workspace/ot_perturbation/models/cpa/combosciplex/adata_with_predictions_{split}.h5ad\"\n",
    ")"
   ]
  },
  {
   "cell_type": "code",
   "execution_count": null,
   "id": "4ef33123-be2d-4b24-89ac-279f4f81e506",
   "metadata": {},
   "outputs": [],
   "source": []
  }
 ],
 "metadata": {
  "kernelspec": {
   "display_name": "ot_pert_cpa",
   "language": "python",
   "name": "ot_pert_cpa"
  },
  "language_info": {
   "codemirror_mode": {
    "name": "ipython",
    "version": 3
   },
   "file_extension": ".py",
   "mimetype": "text/x-python",
   "name": "python",
   "nbconvert_exporter": "python",
   "pygments_lexer": "ipython3",
   "version": "3.9.19"
  }
 },
 "nbformat": 4,
 "nbformat_minor": 5
}
