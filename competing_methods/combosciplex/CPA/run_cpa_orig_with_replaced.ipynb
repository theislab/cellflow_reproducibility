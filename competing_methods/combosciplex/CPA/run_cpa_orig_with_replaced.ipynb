{
 "cells": [
  {
   "cell_type": "code",
   "execution_count": 1,
   "id": "5c42fe3e-87d0-4e68-95d0-3faaca23e5f1",
   "metadata": {},
   "outputs": [
    {
     "name": "stderr",
     "output_type": "stream",
     "text": [
      "[rank: 0] Global seed set to 0\n",
      "2024-06-13 10:36:55,873\tINFO util.py:154 -- Missing packages: ['ipywidgets']. Run `pip install -U ipywidgets`, then restart the notebook server for rich notebook output.\n",
      "2024-06-13 10:37:00,247\tINFO util.py:154 -- Missing packages: ['ipywidgets']. Run `pip install -U ipywidgets`, then restart the notebook server for rich notebook output.\n"
     ]
    }
   ],
   "source": [
    "import cpa\n",
    "import scanpy as sc"
   ]
  },
  {
   "cell_type": "code",
   "execution_count": 2,
   "id": "79e49294-2c4d-43aa-8fcd-1496d0253e57",
   "metadata": {},
   "outputs": [],
   "source": [
    "adata_train_path = \"/lustre/groups/ml01/workspace/ot_perturbation/data/combosciplex/adata_train_orig.h5ad\"\n",
    "adata_test_path = \"/lustre/groups/ml01/workspace/ot_perturbation/data/combosciplex/adata_test_orig.h5ad\"\n",
    "adata_ood_path = \"/lustre/groups/ml01/workspace/ot_perturbation/data/combosciplex/adata_ood_orig.h5ad\""
   ]
  },
  {
   "cell_type": "code",
   "execution_count": 3,
   "id": "51d0a975-78e7-41d5-9aa4-b8c0f8f5be52",
   "metadata": {},
   "outputs": [],
   "source": [
    "adata_train = sc.read(adata_train_path)\n",
    "adata_test = sc.read(adata_test_path)\n",
    "adata_ood = sc.read(adata_ood_path)"
   ]
  },
  {
   "cell_type": "code",
   "execution_count": 6,
   "id": "de2a95bc-81a5-4bce-a51e-1409b997006d",
   "metadata": {},
   "outputs": [],
   "source": [
    "import anndata\n",
    "\n",
    "adata_combined = anndata.concat((adata_train, adata_test, adata_ood), label=\"split\", keys=[\"train\", \"test\", \"ood\"])"
   ]
  },
  {
   "cell_type": "code",
   "execution_count": 7,
   "id": "66d00440-1a84-4666-93a6-6333a10314a3",
   "metadata": {},
   "outputs": [],
   "source": [
    "adata_combined.obs[\"condition_ID\"] = adata_combined.obs[\"condition_ID\"].cat.remove_unused_categories()"
   ]
  },
  {
   "cell_type": "code",
   "execution_count": 8,
   "id": "aec2874d-31fa-4758-9e28-cf350e21d08b",
   "metadata": {},
   "outputs": [
    {
     "name": "stderr",
     "output_type": "stream",
     "text": [
      "100%|██████████████████████████████████████████████████████████████████████████████████████████████████████████████████████| 55879/55879 [00:00<00:00, 57735.17it/s]\n",
      "100%|█████████████████████████████████████████████████████████████████████████████████████████████████████████████████████| 55879/55879 [00:00<00:00, 745942.09it/s]\n",
      "An NVIDIA GPU may be present on this machine, but a CUDA-enabled jaxlib is not installed. Falling back to cpu.\n"
     ]
    },
    {
     "name": "stdout",
     "output_type": "stream",
     "text": [
      "\u001b[34mINFO    \u001b[0m Generating sequential column names                                                                        \n",
      "\u001b[34mINFO    \u001b[0m Generating sequential column names                                                                        \n"
     ]
    }
   ],
   "source": [
    "cpa.CPA.setup_anndata(\n",
    "    adata_combined,\n",
    "    perturbation_key=\"condition_ID\",\n",
    "    dosage_key=\"log_dose\",\n",
    "    control_group=\"CHEMBL504\",\n",
    "    batch_key=None,\n",
    "    is_count_data=False,\n",
    "    categorical_covariate_keys=[\"cell_type\"],\n",
    "    # deg_uns_key='rank_genes_groups_cov',\n",
    "    deg_uns_cat_key=\"cov_drug_dose\",\n",
    "    max_comb_len=2,\n",
    ")"
   ]
  },
  {
   "cell_type": "code",
   "execution_count": 9,
   "id": "1d8d0c3e-e285-457e-9b81-e9edf65fab83",
   "metadata": {},
   "outputs": [],
   "source": [
    "ae_hparams = {\n",
    "    \"n_latent\": 128,\n",
    "    \"recon_loss\": \"gauss\",\n",
    "    \"doser_type\": \"logsigm\",\n",
    "    \"n_hidden_encoder\": 512,\n",
    "    \"n_layers_encoder\": 3,\n",
    "    \"n_hidden_decoder\": 512,\n",
    "    \"n_layers_decoder\": 3,\n",
    "    \"use_batch_norm_encoder\": True,\n",
    "    \"use_layer_norm_encoder\": False,\n",
    "    \"use_batch_norm_decoder\": True,\n",
    "    \"use_layer_norm_decoder\": False,\n",
    "    \"dropout_rate_encoder\": 0.1,\n",
    "    \"dropout_rate_decoder\": 0.1,\n",
    "    \"variational\": False,\n",
    "    \"seed\": 434,\n",
    "}\n",
    "\n",
    "trainer_params = {\n",
    "    \"n_epochs_kl_warmup\": None,\n",
    "    \"n_epochs_pretrain_ae\": 30,\n",
    "    \"n_epochs_adv_warmup\": 50,\n",
    "    \"n_epochs_mixup_warmup\": 3,\n",
    "    \"mixup_alpha\": 0.1,\n",
    "    \"adv_steps\": 2,\n",
    "    \"n_hidden_adv\": 64,\n",
    "    \"n_layers_adv\": 2,\n",
    "    \"use_batch_norm_adv\": True,\n",
    "    \"use_layer_norm_adv\": False,\n",
    "    \"dropout_rate_adv\": 0.3,\n",
    "    \"reg_adv\": 20.0,\n",
    "    \"pen_adv\": 20.0,\n",
    "    \"lr\": 0.0003,\n",
    "    \"wd\": 4e-07,\n",
    "    \"adv_lr\": 0.0003,\n",
    "    \"adv_wd\": 4e-07,\n",
    "    \"adv_loss\": \"cce\",\n",
    "    \"doser_lr\": 0.0003,\n",
    "    \"doser_wd\": 4e-07,\n",
    "    \"do_clip_grad\": False,\n",
    "    \"gradient_clip_value\": 1.0,\n",
    "    \"step_size_lr\": 45,\n",
    "}"
   ]
  },
  {
   "cell_type": "code",
   "execution_count": 10,
   "id": "3e0f8100-c104-44ec-bc2f-025a42b4b917",
   "metadata": {},
   "outputs": [
    {
     "name": "stderr",
     "output_type": "stream",
     "text": [
      "[rank: 0] Global seed set to 434\n"
     ]
    }
   ],
   "source": [
    "model = cpa.CPA(\n",
    "    adata=adata_combined,\n",
    "    split_key=\"split\",\n",
    "    train_split=\"train\",\n",
    "    valid_split=\"valid\",\n",
    "    **ae_hparams,\n",
    ")"
   ]
  },
  {
   "cell_type": "code",
   "execution_count": null,
   "id": "7e9ef73a-586e-4d35-9b9b-0a68942e8340",
   "metadata": {},
   "outputs": [
    {
     "name": "stderr",
     "output_type": "stream",
     "text": [
      "100%|███████████████████████████████████████████████████████████████████████████████████████████████████████████████████████████████| 32/32 [00:00<00:00, 59.07it/s]\n",
      "GPU available: True (cuda), used: True\n",
      "TPU available: False, using: 0 TPU cores\n",
      "IPU available: False, using: 0 IPUs\n",
      "HPU available: False, using: 0 HPUs\n",
      "You are using a CUDA device ('NVIDIA A100-PCIE-40GB MIG 3g.20gb') that has Tensor Cores. To properly utilize them, you should set `torch.set_float32_matmul_precision('medium' | 'high')` which will trade-off precision for performance. For more details, read https://pytorch.org/docs/stable/generated/torch.set_float32_matmul_precision.html#torch.set_float32_matmul_precision\n",
      "LOCAL_RANK: 0 - CUDA_VISIBLE_DEVICES: [MIG-5e9a7bb6-017a-5431-af98-01fe948e1fa7]\n"
     ]
    },
    {
     "name": "stdout",
     "output_type": "stream",
     "text": [
      "Epoch 251/300:  83%|██████████████████████████████▊      | 250/300 [4:04:25<48:23, 58.06s/it, v_num=1, recon=-3.51e+3, r2_mean=0.593, adv_loss=3.1, acc_pert=0.0997]"
     ]
    }
   ],
   "source": [
    "model.train(\n",
    "    max_epochs=300,\n",
    "    use_gpu=True,\n",
    "    batch_size=128,\n",
    "    plan_kwargs=trainer_params,\n",
    "    early_stopping_patience=10,\n",
    "    check_val_every_n_epoch=5,\n",
    "    save_path=\"/lustre/groups/ml01/workspace/ot_perturbation/models/cpa/combosciplex\",\n",
    ")"
   ]
  },
  {
   "cell_type": "code",
   "execution_count": null,
   "id": "435c6698-c128-4236-8a55-5fdec1ec44b8",
   "metadata": {},
   "outputs": [],
   "source": [
    "model.predict(adata_combined)"
   ]
  },
  {
   "cell_type": "code",
   "execution_count": null,
   "id": "17aaf1b8-2745-4796-8fe6-7b6ffd394e1c",
   "metadata": {},
   "outputs": [],
   "source": [
    "adata_combined.write(\n",
    "    \"/lustre/groups/ml01/workspace/ot_perturbation/models/cpa/combosciplex/adata_with_predictions_orig_replaced.h5ad\"\n",
    ")"
   ]
  },
  {
   "cell_type": "code",
   "execution_count": null,
   "id": "61c23969-f2dc-4580-a39c-c29e667aef0f",
   "metadata": {},
   "outputs": [],
   "source": []
  }
 ],
 "metadata": {
  "kernelspec": {
   "display_name": "ot_pert_cpa",
   "language": "python",
   "name": "ot_pert_cpa"
  },
  "language_info": {
   "codemirror_mode": {
    "name": "ipython",
    "version": 3
   },
   "file_extension": ".py",
   "mimetype": "text/x-python",
   "name": "python",
   "nbconvert_exporter": "python",
   "pygments_lexer": "ipython3",
   "version": "3.9.19"
  }
 },
 "nbformat": 4,
 "nbformat_minor": 5
}
