{
 "cells": [
  {
   "cell_type": "code",
   "execution_count": 74,
   "id": "5c42fe3e-87d0-4e68-95d0-3faaca23e5f1",
   "metadata": {},
   "outputs": [],
   "source": [
    "import cpa\n",
    "import scanpy as sc"
   ]
  },
  {
   "cell_type": "code",
   "execution_count": 75,
   "id": "3498874b-d16f-406c-8ce4-aedab48573b9",
   "metadata": {},
   "outputs": [],
   "source": [
    "adata_train_path = \"/lustre/groups/ml01/workspace/ot_perturbation/data/combosciplex/adata_train_orig.h5ad\"\n",
    "adata_test_path = \"/lustre/groups/ml01/workspace/ot_perturbation/data/combosciplex/adata_test_orig.h5ad\"\n",
    "adata_ood_path = \"/lustre/groups/ml01/workspace/ot_perturbation/data/combosciplex/adata_ood_orig.h5ad\""
   ]
  },
  {
   "cell_type": "code",
   "execution_count": 53,
   "id": "746732a4-7e96-4a14-b52d-6f36e347a62a",
   "metadata": {},
   "outputs": [],
   "source": [
    "adata_train = sc.read(adata_train_path)\n",
    "adata_te = sc.read(adata_test_path)\n",
    "adata_o = sc.read(adata_ood_path)"
   ]
  },
  {
   "cell_type": "code",
   "execution_count": 66,
   "id": "7146020e-c4ae-4abe-b946-eabc48a6ee5f",
   "metadata": {},
   "outputs": [
    {
     "data": {
      "text/plain": [
       "Cell\n",
       "A01_A02_RT_BC_10_Lig_BC_18    control+Panobinostat\n",
       "A01_A02_RT_BC_10_Lig_BC_25    control+Panobinostat\n",
       "A01_A02_RT_BC_10_Lig_BC_48    control+Panobinostat\n",
       "A01_A02_RT_BC_10_Lig_BC_51    control+Panobinostat\n",
       "A01_A02_RT_BC_10_Lig_BC_72    control+Panobinostat\n",
       "                                      ...         \n",
       "H12_A02_RT_BC_96_Lig_BC_50       control+Dasatinib\n",
       "H12_A02_RT_BC_96_Lig_BC_95       control+Dasatinib\n",
       "H12_A02_RT_BC_9_Lig_BC_41     Dacinostat+Dasatinib\n",
       "H12_A02_RT_BC_9_Lig_BC_69     Dacinostat+Dasatinib\n",
       "H12_A02_RT_BC_9_Lig_BC_83     Dacinostat+Dasatinib\n",
       "Name: condition, Length: 51882, dtype: category\n",
       "Categories (27, object): ['Alvespimycin+Pirarubicin', 'Dacinostat+Danusertib', 'Dacinostat+Dasatinib', 'Dacinostat+PCI-34051', ..., 'control+Dasatinib', 'control+Givinostat', 'control+Panobinostat', 'control+SRT2104']"
      ]
     },
     "execution_count": 66,
     "metadata": {},
     "output_type": "execute_result"
    }
   ],
   "source": [
    "adata_tr.obs[\"condition\"]"
   ]
  },
  {
   "cell_type": "code",
   "execution_count": 72,
   "id": "470c5713-2348-4a77-8a2f-fd463c6c5f3a",
   "metadata": {},
   "outputs": [
    {
     "data": {
      "text/plain": [
       "index_adapted\n",
       "A01_A02_RT_BC_10_Lig_BC_18          Cc1[nH]c2ccccc2c1CCNCc1ccc(/C=C/C(=O)NO)cc1\n",
       "A01_A02_RT_BC_10_Lig_BC_25          Cc1[nH]c2ccccc2c1CCNCc1ccc(/C=C/C(=O)NO)cc1\n",
       "A01_A02_RT_BC_10_Lig_BC_48          Cc1[nH]c2ccccc2c1CCNCc1ccc(/C=C/C(=O)NO)cc1\n",
       "A01_A02_RT_BC_10_Lig_BC_51          Cc1[nH]c2ccccc2c1CCNCc1ccc(/C=C/C(=O)NO)cc1\n",
       "A01_A02_RT_BC_10_Lig_BC_70          Cc1[nH]c2ccccc2c1CCNCc1ccc(/C=C/C(=O)NO)cc1\n",
       "                                                    ...                        \n",
       "H12_A02_RT_BC_96_Lig_BC_50    Cc1nc(Nc2ncc(C(=O)Nc3c(C)cccc3Cl)s2)cc(N2CCN(C...\n",
       "H12_A02_RT_BC_96_Lig_BC_95    Cc1nc(Nc2ncc(C(=O)Nc3c(C)cccc3Cl)s2)cc(N2CCN(C...\n",
       "H12_A02_RT_BC_9_Lig_BC_41     O=C(/C=C/c1ccc(CN(CCO)CCc2c[nH]c3ccccc23)cc1)N...\n",
       "H12_A02_RT_BC_9_Lig_BC_69     O=C(/C=C/c1ccc(CN(CCO)CCc2c[nH]c3ccccc23)cc1)N...\n",
       "H12_A02_RT_BC_9_Lig_BC_83     O=C(/C=C/c1ccc(CN(CCO)CCc2c[nH]c3ccccc23)cc1)N...\n",
       "Name: smiles_rdkit, Length: 63378, dtype: category\n",
       "Categories (32, object): ['CCN(CC)Cc1ccc2cc(COC(=O)Nc3ccc(C(=O)NO)cc3)cc..., 'CCN(CC)Cc1ccc2cc(COC(=O)Nc3ccc(C(=O)NO)cc3)cc..., 'CCN(CC)Cc1ccc2cc(COC(=O)Nc3ccc(C(=O)NO)cc3)cc..., 'CCN(CC)Cc1ccc2cc(COC(=O)Nc3ccc(C(=O)NO)cc3)cc..., ..., 'O=C(/C=C/c1ccc(CN(CCO)CCc2c[nH]c3ccccc23)cc1)NO', 'O=C(/C=C/c1ccc(CN(CCO)CCc2c[nH]c3ccccc23)cc1)..., 'O=C(/C=C/c1ccc(CN(CCO)CCc2c[nH]c3ccccc23)cc1)..., 'O=C(/C=C/c1ccc(CN(CCO)CCc2c[nH]c3ccccc23)cc1)...]"
      ]
     },
     "execution_count": 72,
     "metadata": {},
     "output_type": "execute_result"
    }
   ],
   "source": [
    "adata.obs['smiles_rdkit']"
   ]
  },
  {
   "cell_type": "code",
   "execution_count": 73,
   "id": "64029025-1e4b-4640-8d87-1dfd7c528fdc",
   "metadata": {},
   "outputs": [
    {
     "data": {
      "text/html": [
       "<div>\n",
       "<style scoped>\n",
       "    .dataframe tbody tr th:only-of-type {\n",
       "        vertical-align: middle;\n",
       "    }\n",
       "\n",
       "    .dataframe tbody tr th {\n",
       "        vertical-align: top;\n",
       "    }\n",
       "\n",
       "    .dataframe thead th {\n",
       "        text-align: right;\n",
       "    }\n",
       "</style>\n",
       "<table border=\"1\" class=\"dataframe\">\n",
       "  <thead>\n",
       "    <tr style=\"text-align: right;\">\n",
       "      <th></th>\n",
       "      <th>ncounts</th>\n",
       "      <th>well</th>\n",
       "      <th>plate</th>\n",
       "      <th>cell_line</th>\n",
       "      <th>replicate</th>\n",
       "      <th>time</th>\n",
       "      <th>dose_value</th>\n",
       "      <th>pathway1</th>\n",
       "      <th>pathway2</th>\n",
       "      <th>perturbation</th>\n",
       "      <th>...</th>\n",
       "      <th>pert_type</th>\n",
       "      <th>batch</th>\n",
       "      <th>split_1ct_MEC</th>\n",
       "      <th>split_2ct_MEC</th>\n",
       "      <th>split_3ct_MEC</th>\n",
       "      <th>batch_cov</th>\n",
       "      <th>batch_cov_cond</th>\n",
       "      <th>log_dose</th>\n",
       "      <th>cov_drug_dose</th>\n",
       "      <th>index</th>\n",
       "    </tr>\n",
       "    <tr>\n",
       "      <th>index_adapted</th>\n",
       "      <th></th>\n",
       "      <th></th>\n",
       "      <th></th>\n",
       "      <th></th>\n",
       "      <th></th>\n",
       "      <th></th>\n",
       "      <th></th>\n",
       "      <th></th>\n",
       "      <th></th>\n",
       "      <th></th>\n",
       "      <th></th>\n",
       "      <th></th>\n",
       "      <th></th>\n",
       "      <th></th>\n",
       "      <th></th>\n",
       "      <th></th>\n",
       "      <th></th>\n",
       "      <th></th>\n",
       "      <th></th>\n",
       "      <th></th>\n",
       "      <th></th>\n",
       "    </tr>\n",
       "  </thead>\n",
       "  <tbody>\n",
       "    <tr>\n",
       "      <th>A01_A02_RT_BC_10_Lig_BC_18</th>\n",
       "      <td>NaN</td>\n",
       "      <td>NaN</td>\n",
       "      <td>NaN</td>\n",
       "      <td>NaN</td>\n",
       "      <td>NaN</td>\n",
       "      <td>NaN</td>\n",
       "      <td>1000.0</td>\n",
       "      <td>Vehicle</td>\n",
       "      <td>HDAC inhibitor</td>\n",
       "      <td>NaN</td>\n",
       "      <td>...</td>\n",
       "      <td>chemical</td>\n",
       "      <td>1</td>\n",
       "      <td>train</td>\n",
       "      <td>train</td>\n",
       "      <td>train</td>\n",
       "      <td>Combo Sci-Plex_A549</td>\n",
       "      <td>Combo Sci-Plex_A549_CHEMBL483254</td>\n",
       "      <td>3.0</td>\n",
       "      <td>A549_CHEMBL483254_3.0</td>\n",
       "      <td>A01_A02_RT_BC_10_Lig_BC_18-1</td>\n",
       "    </tr>\n",
       "    <tr>\n",
       "      <th>A01_A02_RT_BC_10_Lig_BC_25</th>\n",
       "      <td>NaN</td>\n",
       "      <td>NaN</td>\n",
       "      <td>NaN</td>\n",
       "      <td>NaN</td>\n",
       "      <td>NaN</td>\n",
       "      <td>NaN</td>\n",
       "      <td>1000.0</td>\n",
       "      <td>Vehicle</td>\n",
       "      <td>HDAC inhibitor</td>\n",
       "      <td>NaN</td>\n",
       "      <td>...</td>\n",
       "      <td>chemical</td>\n",
       "      <td>1</td>\n",
       "      <td>train</td>\n",
       "      <td>valid</td>\n",
       "      <td>train</td>\n",
       "      <td>Combo Sci-Plex_A549</td>\n",
       "      <td>Combo Sci-Plex_A549_CHEMBL483254</td>\n",
       "      <td>3.0</td>\n",
       "      <td>A549_CHEMBL483254_3.0</td>\n",
       "      <td>A01_A02_RT_BC_10_Lig_BC_25-1</td>\n",
       "    </tr>\n",
       "    <tr>\n",
       "      <th>A01_A02_RT_BC_10_Lig_BC_48</th>\n",
       "      <td>NaN</td>\n",
       "      <td>NaN</td>\n",
       "      <td>NaN</td>\n",
       "      <td>NaN</td>\n",
       "      <td>NaN</td>\n",
       "      <td>NaN</td>\n",
       "      <td>1000.0</td>\n",
       "      <td>Vehicle</td>\n",
       "      <td>HDAC inhibitor</td>\n",
       "      <td>NaN</td>\n",
       "      <td>...</td>\n",
       "      <td>chemical</td>\n",
       "      <td>1</td>\n",
       "      <td>valid</td>\n",
       "      <td>train</td>\n",
       "      <td>train</td>\n",
       "      <td>Combo Sci-Plex_A549</td>\n",
       "      <td>Combo Sci-Plex_A549_CHEMBL483254</td>\n",
       "      <td>3.0</td>\n",
       "      <td>A549_CHEMBL483254_3.0</td>\n",
       "      <td>A01_A02_RT_BC_10_Lig_BC_48-1</td>\n",
       "    </tr>\n",
       "    <tr>\n",
       "      <th>A01_A02_RT_BC_10_Lig_BC_51</th>\n",
       "      <td>NaN</td>\n",
       "      <td>NaN</td>\n",
       "      <td>NaN</td>\n",
       "      <td>NaN</td>\n",
       "      <td>NaN</td>\n",
       "      <td>NaN</td>\n",
       "      <td>1000.0</td>\n",
       "      <td>Vehicle</td>\n",
       "      <td>HDAC inhibitor</td>\n",
       "      <td>NaN</td>\n",
       "      <td>...</td>\n",
       "      <td>chemical</td>\n",
       "      <td>1</td>\n",
       "      <td>train</td>\n",
       "      <td>train</td>\n",
       "      <td>train</td>\n",
       "      <td>Combo Sci-Plex_A549</td>\n",
       "      <td>Combo Sci-Plex_A549_CHEMBL483254</td>\n",
       "      <td>3.0</td>\n",
       "      <td>A549_CHEMBL483254_3.0</td>\n",
       "      <td>A01_A02_RT_BC_10_Lig_BC_51-1</td>\n",
       "    </tr>\n",
       "    <tr>\n",
       "      <th>A01_A02_RT_BC_10_Lig_BC_70</th>\n",
       "      <td>NaN</td>\n",
       "      <td>NaN</td>\n",
       "      <td>NaN</td>\n",
       "      <td>NaN</td>\n",
       "      <td>NaN</td>\n",
       "      <td>NaN</td>\n",
       "      <td>1000.0</td>\n",
       "      <td>Vehicle</td>\n",
       "      <td>HDAC inhibitor</td>\n",
       "      <td>NaN</td>\n",
       "      <td>...</td>\n",
       "      <td>chemical</td>\n",
       "      <td>1</td>\n",
       "      <td>train</td>\n",
       "      <td>train</td>\n",
       "      <td>train</td>\n",
       "      <td>Combo Sci-Plex_A549</td>\n",
       "      <td>Combo Sci-Plex_A549_CHEMBL483254</td>\n",
       "      <td>3.0</td>\n",
       "      <td>A549_CHEMBL483254_3.0</td>\n",
       "      <td>A01_A02_RT_BC_10_Lig_BC_70-1</td>\n",
       "    </tr>\n",
       "  </tbody>\n",
       "</table>\n",
       "<p>5 rows × 54 columns</p>\n",
       "</div>"
      ],
      "text/plain": [
       "                            ncounts well plate cell_line replicate  time  \\\n",
       "index_adapted                                                              \n",
       "A01_A02_RT_BC_10_Lig_BC_18      NaN  NaN   NaN       NaN       NaN   NaN   \n",
       "A01_A02_RT_BC_10_Lig_BC_25      NaN  NaN   NaN       NaN       NaN   NaN   \n",
       "A01_A02_RT_BC_10_Lig_BC_48      NaN  NaN   NaN       NaN       NaN   NaN   \n",
       "A01_A02_RT_BC_10_Lig_BC_51      NaN  NaN   NaN       NaN       NaN   NaN   \n",
       "A01_A02_RT_BC_10_Lig_BC_70      NaN  NaN   NaN       NaN       NaN   NaN   \n",
       "\n",
       "                           dose_value pathway1        pathway2 perturbation  \\\n",
       "index_adapted                                                                 \n",
       "A01_A02_RT_BC_10_Lig_BC_18     1000.0  Vehicle  HDAC inhibitor          NaN   \n",
       "A01_A02_RT_BC_10_Lig_BC_25     1000.0  Vehicle  HDAC inhibitor          NaN   \n",
       "A01_A02_RT_BC_10_Lig_BC_48     1000.0  Vehicle  HDAC inhibitor          NaN   \n",
       "A01_A02_RT_BC_10_Lig_BC_51     1000.0  Vehicle  HDAC inhibitor          NaN   \n",
       "A01_A02_RT_BC_10_Lig_BC_70     1000.0  Vehicle  HDAC inhibitor          NaN   \n",
       "\n",
       "                            ... pert_type batch split_1ct_MEC split_2ct_MEC  \\\n",
       "index_adapted               ...                                               \n",
       "A01_A02_RT_BC_10_Lig_BC_18  ...  chemical     1         train         train   \n",
       "A01_A02_RT_BC_10_Lig_BC_25  ...  chemical     1         train         valid   \n",
       "A01_A02_RT_BC_10_Lig_BC_48  ...  chemical     1         valid         train   \n",
       "A01_A02_RT_BC_10_Lig_BC_51  ...  chemical     1         train         train   \n",
       "A01_A02_RT_BC_10_Lig_BC_70  ...  chemical     1         train         train   \n",
       "\n",
       "                           split_3ct_MEC            batch_cov  \\\n",
       "index_adapted                                                   \n",
       "A01_A02_RT_BC_10_Lig_BC_18         train  Combo Sci-Plex_A549   \n",
       "A01_A02_RT_BC_10_Lig_BC_25         train  Combo Sci-Plex_A549   \n",
       "A01_A02_RT_BC_10_Lig_BC_48         train  Combo Sci-Plex_A549   \n",
       "A01_A02_RT_BC_10_Lig_BC_51         train  Combo Sci-Plex_A549   \n",
       "A01_A02_RT_BC_10_Lig_BC_70         train  Combo Sci-Plex_A549   \n",
       "\n",
       "                                              batch_cov_cond log_dose  \\\n",
       "index_adapted                                                           \n",
       "A01_A02_RT_BC_10_Lig_BC_18  Combo Sci-Plex_A549_CHEMBL483254      3.0   \n",
       "A01_A02_RT_BC_10_Lig_BC_25  Combo Sci-Plex_A549_CHEMBL483254      3.0   \n",
       "A01_A02_RT_BC_10_Lig_BC_48  Combo Sci-Plex_A549_CHEMBL483254      3.0   \n",
       "A01_A02_RT_BC_10_Lig_BC_51  Combo Sci-Plex_A549_CHEMBL483254      3.0   \n",
       "A01_A02_RT_BC_10_Lig_BC_70  Combo Sci-Plex_A549_CHEMBL483254      3.0   \n",
       "\n",
       "                                    cov_drug_dose  \\\n",
       "index_adapted                                       \n",
       "A01_A02_RT_BC_10_Lig_BC_18  A549_CHEMBL483254_3.0   \n",
       "A01_A02_RT_BC_10_Lig_BC_25  A549_CHEMBL483254_3.0   \n",
       "A01_A02_RT_BC_10_Lig_BC_48  A549_CHEMBL483254_3.0   \n",
       "A01_A02_RT_BC_10_Lig_BC_51  A549_CHEMBL483254_3.0   \n",
       "A01_A02_RT_BC_10_Lig_BC_70  A549_CHEMBL483254_3.0   \n",
       "\n",
       "                                                   index  \n",
       "index_adapted                                             \n",
       "A01_A02_RT_BC_10_Lig_BC_18  A01_A02_RT_BC_10_Lig_BC_18-1  \n",
       "A01_A02_RT_BC_10_Lig_BC_25  A01_A02_RT_BC_10_Lig_BC_25-1  \n",
       "A01_A02_RT_BC_10_Lig_BC_48  A01_A02_RT_BC_10_Lig_BC_48-1  \n",
       "A01_A02_RT_BC_10_Lig_BC_51  A01_A02_RT_BC_10_Lig_BC_51-1  \n",
       "A01_A02_RT_BC_10_Lig_BC_70  A01_A02_RT_BC_10_Lig_BC_70-1  \n",
       "\n",
       "[5 rows x 54 columns]"
      ]
     },
     "execution_count": 73,
     "metadata": {},
     "output_type": "execute_result"
    }
   ],
   "source": [
    "adata.obs.head()"
   ]
  },
  {
   "cell_type": "code",
   "execution_count": 67,
   "id": "774fe7e9-4ed6-4573-9139-0488f729aaee",
   "metadata": {},
   "outputs": [
    {
     "data": {
      "text/plain": [
       "condition\n",
       "Dacinostat (LAQ824)+PCI-34051                       3298\n",
       "SRT3025+Cediranib (AZD2171)                         3016\n",
       "Givinostat (ITF2357)+Cediranib (AZD2171)            2783\n",
       "SRT2104 (GSK2245840)                                2756\n",
       "Givinostat (ITF2357)+Curcumin                       2736\n",
       "Givinostat (ITF2357)+Sorafenib Tosylate             2734\n",
       "Givinostat (ITF2357)+Carmofur                       2692\n",
       "Givinostat (ITF2357)+Crizotinib (PF-02341066)       2662\n",
       "Givinostat (ITF2357)+Dasatinib                      2421\n",
       "Givinostat (ITF2357)+SRT2104 (GSK2245840)           2353\n",
       "Dasatinib                                           2343\n",
       "Givinostat (ITF2357)+SRT1720                        2260\n",
       "Panobinostat (LBH589)+Curcumin                      2244\n",
       "Cediranib (AZD2171)+PCI-34051                       2161\n",
       "Panobinostat (LBH589)+Sorafenib Tosylate            2013\n",
       "Panobinostat (LBH589)+SRT2104 (GSK2245840)          1971\n",
       "Panobinostat (LBH589)+Dasatinib                     1955\n",
       "Dacinostat (LAQ824)+Danusertib (PHA-739358)         1939\n",
       "Panobinostat (LBH589)+SRT3025                       1889\n",
       "Dacinostat (LAQ824)                                 1869\n",
       "Panobinostat (LBH589)+SRT1720                       1826\n",
       "Panobinostat (LBH589)+PCI-34051                     1814\n",
       "Givinostat (ITF2357)                                1682\n",
       "Panobinostat (LBH589)+Crizotinib (PF-02341066)      1641\n",
       "Panobinostat (LBH589)                               1578\n",
       "control                                             1451\n",
       "Givinostat (ITF2357)+Tanespimycin (17-AAG)          1310\n",
       "Dacinostat (LAQ824)+Dasatinib                       1231\n",
       "Panobinostat (LBH589)+Alvespimycin (17-DMAG) HCl     996\n",
       "Alvespimycin (17-DMAG) HCl                           758\n",
       "SRT2104 (GSK2245840)+Alvespimycin (17-DMAG) HCl      520\n",
       "Alvespimycin (17-DMAG) HCl+Pirarubicin               476\n",
       "Name: count, dtype: int64"
      ]
     },
     "execution_count": 67,
     "metadata": {},
     "output_type": "execute_result"
    }
   ],
   "source": [
    "adata.obs[\"condition\"].value_counts()"
   ]
  },
  {
   "cell_type": "code",
   "execution_count": 47,
   "id": "4836464a-21eb-419a-a301-949d8c4957db",
   "metadata": {},
   "outputs": [],
   "source": [
    "adata_train = adata[adata.obs['split_1ct_MEC']==\"train\"]\n",
    "adata_test = adata[adata.obs['split_1ct_MEC']==\"valid\"]\n",
    "adata_ood = adata[adata.obs['split_1ct_MEC']==\"ood\"]"
   ]
  },
  {
   "cell_type": "code",
   "execution_count": 48,
   "id": "3f16a87f-0322-4fd0-8fbd-f70d52bd9f02",
   "metadata": {},
   "outputs": [
    {
     "data": {
      "text/plain": [
       "(49683, 5486, 8209)"
      ]
     },
     "execution_count": 48,
     "metadata": {},
     "output_type": "execute_result"
    }
   ],
   "source": [
    "adata_train.n_obs, adata_test.n_obs, adata_ood.n_obs"
   ]
  },
  {
   "cell_type": "code",
   "execution_count": 49,
   "id": "f16f7f91-28e0-49d1-a1a5-78f82e5913c4",
   "metadata": {},
   "outputs": [],
   "source": [
    "adata_train.write(\"/lustre/groups/ml01/workspace/ot_perturbation/data/combosciplex/adata_train_orig.h5ad\")\n",
    "adata_test.write(\"/lustre/groups/ml01/workspace/ot_perturbation/data/combosciplex/adata_test_orig.h5ad\")\n",
    "adata_ood.write(\"/lustre/groups/ml01/workspace/ot_perturbation/data/combosciplex/adata_ood_orig.h5ad\")"
   ]
  },
  {
   "cell_type": "code",
   "execution_count": 28,
   "id": "b2c0b7f0-bbaa-4a6c-a8b4-cccd2a3281e3",
   "metadata": {},
   "outputs": [],
   "source": [
    "adata_combined.obs[\"cov_drug_dose\"] = adata.obs[\"cov_drug_dose\"]\n",
    "adata_combined.obs[\"condition_ID\"] = adata.obs[\"condition_ID\"]\n",
    "adata_combined.obs[\"log_dose\"] = adata.obs[\"log_dose\"]"
   ]
  },
  {
   "cell_type": "code",
   "execution_count": 29,
   "id": "4bf8afcb-9c81-4b99-bbd3-8fecb89e5296",
   "metadata": {},
   "outputs": [],
   "source": [
    "frac_valid = adata[adata.obs[\"split_1ct_MEC\"] == \"valid\"].n_obs / (\n",
    "    adata[adata.obs[\"split_1ct_MEC\"] == \"valid\"].n_obs + adata[adata.obs[\"split_1ct_MEC\"] == \"train\"].n_obs\n",
    ")"
   ]
  },
  {
   "cell_type": "code",
   "execution_count": 30,
   "id": "68713145-b4f6-42ac-aff6-be43a9634c1b",
   "metadata": {},
   "outputs": [],
   "source": [
    "import numpy as np\n",
    "\n",
    "\n",
    "def create_split(x):\n",
    "    if x[\"split\"] != \"train\":\n",
    "        return x[\"split\"]\n",
    "    is_train = np.random.choice(2, p=[frac_valid, 1 - frac_valid])\n",
    "    if is_train:\n",
    "        return \"train_train\"\n",
    "    return \"train_valid\"\n",
    "\n",
    "\n",
    "adata_combined.obs[\"split_1ct_MEC\"] = adata_combined.obs.apply(create_split, axis=1)"
   ]
  },
  {
   "cell_type": "code",
   "execution_count": 31,
   "id": "022b99a9-b0e7-4b63-b9fa-f2837be69b42",
   "metadata": {},
   "outputs": [
    {
     "data": {
      "text/plain": [
       "split_1ct_MEC\n",
       "train_train    46592\n",
       "ood             8896\n",
       "train_valid     5290\n",
       "test            3100\n",
       "Name: count, dtype: int64"
      ]
     },
     "execution_count": 31,
     "metadata": {},
     "output_type": "execute_result"
    }
   ],
   "source": [
    "adata_combined.obs[\"split_1ct_MEC\"].value_counts()"
   ]
  },
  {
   "cell_type": "code",
   "execution_count": 32,
   "id": "66d00440-1a84-4666-93a6-6333a10314a3",
   "metadata": {},
   "outputs": [],
   "source": [
    "adata_combined.obs[\"condition_ID\"] = adata_combined.obs[\"condition_ID\"].cat.remove_unused_categories()"
   ]
  },
  {
   "cell_type": "code",
   "execution_count": 33,
   "id": "aec2874d-31fa-4758-9e28-cf350e21d08b",
   "metadata": {},
   "outputs": [
    {
     "name": "stderr",
     "output_type": "stream",
     "text": [
      "100%|██████████████████████████████████████████████████████████████████████████████████████████████████████████████████████| 63878/63878 [00:01<00:00, 50577.49it/s]\n",
      "100%|█████████████████████████████████████████████████████████████████████████████████████████████████████████████████████| 63878/63878 [00:00<00:00, 710882.38it/s]\n",
      "An NVIDIA GPU may be present on this machine, but a CUDA-enabled jaxlib is not installed. Falling back to cpu.\n"
     ]
    },
    {
     "name": "stdout",
     "output_type": "stream",
     "text": [
      "\u001b[34mINFO    \u001b[0m Generating sequential column names                                                                        \n",
      "\u001b[34mINFO    \u001b[0m Generating sequential column names                                                                        \n"
     ]
    }
   ],
   "source": [
    "cpa.CPA.setup_anndata(\n",
    "    adata_combined,\n",
    "    perturbation_key=\"condition_ID\",\n",
    "    dosage_key=\"log_dose\",\n",
    "    control_group=\"CHEMBL504\",\n",
    "    batch_key=None,\n",
    "    is_count_data=False,\n",
    "    categorical_covariate_keys=[\"cell_type\"],\n",
    "    # deg_uns_key='rank_genes_groups_cov',\n",
    "    deg_uns_cat_key=\"cov_drug_dose\",\n",
    "    max_comb_len=2,\n",
    ")"
   ]
  },
  {
   "cell_type": "code",
   "execution_count": 34,
   "id": "1d8d0c3e-e285-457e-9b81-e9edf65fab83",
   "metadata": {},
   "outputs": [],
   "source": [
    "ae_hparams = {\n",
    "    \"n_latent\": 128,\n",
    "    \"recon_loss\": \"nb\",\n",
    "    \"doser_type\": \"logsigm\",\n",
    "    \"n_hidden_encoder\": 512,\n",
    "    \"n_layers_encoder\": 3,\n",
    "    \"n_hidden_decoder\": 512,\n",
    "    \"n_layers_decoder\": 3,\n",
    "    \"use_batch_norm_encoder\": True,\n",
    "    \"use_layer_norm_encoder\": False,\n",
    "    \"use_batch_norm_decoder\": True,\n",
    "    \"use_layer_norm_decoder\": False,\n",
    "    \"dropout_rate_encoder\": 0.1,\n",
    "    \"dropout_rate_decoder\": 0.1,\n",
    "    \"variational\": False,\n",
    "    \"seed\": 434,\n",
    "}\n",
    "\n",
    "trainer_params = {\n",
    "    \"n_epochs_kl_warmup\": None,\n",
    "    \"n_epochs_pretrain_ae\": 30,\n",
    "    \"n_epochs_adv_warmup\": 50,\n",
    "    \"n_epochs_mixup_warmup\": 3,\n",
    "    \"mixup_alpha\": 0.1,\n",
    "    \"adv_steps\": 2,\n",
    "    \"n_hidden_adv\": 64,\n",
    "    \"n_layers_adv\": 2,\n",
    "    \"use_batch_norm_adv\": True,\n",
    "    \"use_layer_norm_adv\": False,\n",
    "    \"dropout_rate_adv\": 0.3,\n",
    "    \"reg_adv\": 20.0,\n",
    "    \"pen_adv\": 20.0,\n",
    "    \"lr\": 0.0003,\n",
    "    \"wd\": 4e-07,\n",
    "    \"adv_lr\": 0.0003,\n",
    "    \"adv_wd\": 4e-07,\n",
    "    \"adv_loss\": \"cce\",\n",
    "    \"doser_lr\": 0.0003,\n",
    "    \"doser_wd\": 4e-07,\n",
    "    \"do_clip_grad\": False,\n",
    "    \"gradient_clip_value\": 1.0,\n",
    "    \"step_size_lr\": 45,\n",
    "}"
   ]
  },
  {
   "cell_type": "code",
   "execution_count": 35,
   "id": "3e0f8100-c104-44ec-bc2f-025a42b4b917",
   "metadata": {},
   "outputs": [
    {
     "name": "stderr",
     "output_type": "stream",
     "text": [
      "[rank: 0] Global seed set to 434\n"
     ]
    }
   ],
   "source": [
    "model = cpa.CPA(\n",
    "    adata=adata_combined,\n",
    "    split_key=\"split_1ct_MEC\",\n",
    "    train_split=\"train_train\",\n",
    "    valid_split=\"train_valid\",\n",
    "    **ae_hparams,\n",
    ")"
   ]
  },
  {
   "cell_type": "code",
   "execution_count": 36,
   "id": "7e9ef73a-586e-4d35-9b9b-0a68942e8340",
   "metadata": {},
   "outputs": [
    {
     "name": "stderr",
     "output_type": "stream",
     "text": [
      "100%|███████████████████████████████████████████████████████████████████████████████████████████████████████████████████████████████| 32/32 [00:00<00:00, 81.07it/s]\n",
      "GPU available: True (cuda), used: True\n",
      "TPU available: False, using: 0 TPU cores\n",
      "IPU available: False, using: 0 IPUs\n",
      "HPU available: False, using: 0 HPUs\n",
      "You are using a CUDA device ('NVIDIA A100-PCIE-40GB MIG 3g.20gb') that has Tensor Cores. To properly utilize them, you should set `torch.set_float32_matmul_precision('medium' | 'high')` which will trade-off precision for performance. For more details, read https://pytorch.org/docs/stable/generated/torch.set_float32_matmul_precision.html#torch.set_float32_matmul_precision\n",
      "LOCAL_RANK: 0 - CUDA_VISIBLE_DEVICES: [MIG-7f7d366f-7513-5448-b61b-32bfe54672cc]\n"
     ]
    },
    {
     "name": "stdout",
     "output_type": "stream",
     "text": [
      "Epoch 5/2000:   0%|                                           | 4/2000 [01:28<11:13:30, 20.25s/it, v_num=1, recon=322, r2_mean=0.758, adv_loss=2.08, acc_pert=0.258]"
     ]
    },
    {
     "name": "stderr",
     "output_type": "stream",
     "text": [
      "\n",
      "Epoch 00004: cpa_metric reached. Module best state updated.\n"
     ]
    },
    {
     "name": "stdout",
     "output_type": "stream",
     "text": [
      "Epoch 10/2000:   0%| | 9/2000 [03:06<10:24:20, 18.82s/it, v_num=1, recon=304, r2_mean=0.77, adv_loss=1.89, acc_pert=0.305, val_recon=316, disnt_basal=0.0671, disnt_"
     ]
    },
    {
     "name": "stderr",
     "output_type": "stream",
     "text": [
      "\n",
      "Epoch 00009: cpa_metric reached. Module best state updated.\n"
     ]
    },
    {
     "name": "stdout",
     "output_type": "stream",
     "text": [
      "\n",
      "disnt_basal = 0.059695623352951775\n",
      "disnt_after = 0.08662632144289778\n",
      "val_r2_mean = 0.7676008125074285\n",
      "val_r2_var = 0.15435785162777682\n",
      "Epoch 20/2000:   1%| | 19/2000 [06:15<10:00:19, 18.18s/it, v_num=1, recon=286, r2_mean=0.776, adv_loss=1.84, acc_pert=0.334, val_recon=294, disnt_basal=0.0548, disn"
     ]
    },
    {
     "name": "stderr",
     "output_type": "stream",
     "text": [
      "\n",
      "Epoch 00019: cpa_metric reached. Module best state updated.\n"
     ]
    },
    {
     "name": "stdout",
     "output_type": "stream",
     "text": [
      "\n",
      "disnt_basal = 0.052318254564058225\n",
      "disnt_after = 0.07803819639223587\n",
      "val_r2_mean = 0.7692418524412065\n",
      "val_r2_var = 0.15557072139427508\n",
      "Epoch 25/2000:   1%| | 24/2000 [07:54<10:19:21, 18.81s/it, v_num=1, recon=281, r2_mean=0.778, adv_loss=1.82, acc_pert=0.341, val_recon=289, disnt_basal=0.0523, disn"
     ]
    },
    {
     "name": "stderr",
     "output_type": "stream",
     "text": [
      "\n",
      "Epoch 00024: cpa_metric reached. Module best state updated.\n"
     ]
    },
    {
     "name": "stdout",
     "output_type": "stream",
     "text": [
      "Epoch 30/2000:   1%| | 29/2000 [09:30<10:27:09, 19.09s/it, v_num=1, recon=278, r2_mean=0.779, adv_loss=1.82, acc_pert=0.342, val_recon=285, disnt_basal=0.0494, disn\n",
      "disnt_basal = 0.04634107144951358\n",
      "disnt_after = 0.07343303702711533\n",
      "val_r2_mean = 0.7687894528573794\n",
      "val_r2_var = 0.14822988811508267\n",
      "Epoch 40/2000:   2%| | 39/2000 [12:26<9:28:20, 17.39s/it, v_num=1, recon=276, r2_mean=0.779, adv_loss=3.37, acc_pert=0.059, val_recon=283, disnt_basal=0.0365, disnt\n",
      "disnt_basal = 0.035509309327553966\n",
      "disnt_after = 0.06334011796328731\n",
      "val_r2_mean = 0.7675996184375139\n",
      "val_r2_var = 0.14409897615971112\n",
      "Epoch 50/2000:   2%| | 49/2000 [15:18<9:10:06, 16.92s/it, v_num=1, recon=274, r2_mean=0.779, adv_loss=3.3, acc_pert=0.0493, val_recon=282, disnt_basal=0.0347, disnt\n",
      "disnt_basal = 0.03356391342720198\n",
      "disnt_after = 0.06182536196217346\n",
      "val_r2_mean = 0.7683080183189259\n",
      "val_r2_var = 0.14572830636469208\n",
      "Epoch 60/2000:   3%| | 59/2000 [18:17<9:05:06, 16.85s/it, v_num=1, recon=273, r2_mean=0.78, adv_loss=3.29, acc_pert=0.0492, val_recon=281, disnt_basal=0.0343, disnt\n",
      "disnt_basal = 0.03391659881075607\n",
      "disnt_after = 0.06175686223757823\n",
      "val_r2_mean = 0.7662998327311686\n",
      "val_r2_var = 0.14646336790445688\n",
      "Epoch 70/2000:   3%| | 69/2000 [21:14<9:14:03, 17.22s/it, v_num=1, recon=272, r2_mean=0.782, adv_loss=3.28, acc_pert=0.0457, val_recon=281, disnt_basal=0.0335, disn\n",
      "disnt_basal = 0.032422225646582925\n",
      "disnt_after = 0.059938275356299545\n",
      "val_r2_mean = 0.7664981739748268\n",
      "val_r2_var = 0.14247249982775007\n",
      "Epoch 75/2000:   4%| | 75/2000 [23:00<9:50:26, 18.40s/it, v_num=1, recon=271, r2_mean=0.782, adv_loss=3.29, acc_pert=0.0464, val_recon=281, disnt_basal=0.0329, disn\n"
     ]
    }
   ],
   "source": [
    "model.train(\n",
    "    max_epochs=2000,\n",
    "    use_gpu=True,\n",
    "    batch_size=128,\n",
    "    plan_kwargs=trainer_params,\n",
    "    early_stopping_patience=10,\n",
    "    check_val_every_n_epoch=5,\n",
    "    save_path=\"/lustre/groups/ml01/workspace/ot_perturbation/models/cpa/combosciplex\",\n",
    ")"
   ]
  },
  {
   "cell_type": "code",
   "execution_count": 37,
   "id": "435c6698-c128-4236-8a55-5fdec1ec44b8",
   "metadata": {},
   "outputs": [
    {
     "name": "stderr",
     "output_type": "stream",
     "text": [
      "100%|██████████████████████████████████████████████████████████████████████████████████████████████████████████████████████████| 1997/1997 [00:07<00:00, 272.21it/s]\n"
     ]
    }
   ],
   "source": [
    "model.predict(adata_combined)"
   ]
  },
  {
   "cell_type": "code",
   "execution_count": 38,
   "id": "17aaf1b8-2745-4796-8fe6-7b6ffd394e1c",
   "metadata": {},
   "outputs": [],
   "source": [
    "adata_combined.write(\n",
    "    \"/lustre/groups/ml01/workspace/ot_perturbation/models/cpa/combosciplex/adata_with_predictions_30_2.h5ad\"\n",
    ")"
   ]
  },
  {
   "cell_type": "code",
   "execution_count": null,
   "id": "786f6d20-c6de-439b-9a2d-bbef98744c88",
   "metadata": {},
   "outputs": [],
   "source": []
  }
 ],
 "metadata": {
  "kernelspec": {
   "display_name": "ot_pert_cpa",
   "language": "python",
   "name": "ot_pert_cpa"
  },
  "language_info": {
   "codemirror_mode": {
    "name": "ipython",
    "version": 3
   },
   "file_extension": ".py",
   "mimetype": "text/x-python",
   "name": "python",
   "nbconvert_exporter": "python",
   "pygments_lexer": "ipython3",
   "version": "3.9.19"
  }
 },
 "nbformat": 4,
 "nbformat_minor": 5
}
