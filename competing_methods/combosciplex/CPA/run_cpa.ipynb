{
 "cells": [
  {
   "cell_type": "code",
   "execution_count": 1,
   "id": "5c42fe3e-87d0-4e68-95d0-3faaca23e5f1",
   "metadata": {},
   "outputs": [
    {
     "name": "stderr",
     "output_type": "stream",
     "text": [
      "[rank: 0] Global seed set to 0\n",
      "2024-04-17 12:47:46,753\tINFO util.py:154 -- Missing packages: ['ipywidgets']. Run `pip install -U ipywidgets`, then restart the notebook server for rich notebook output.\n",
      "2024-04-17 12:47:49,456\tINFO util.py:154 -- Missing packages: ['ipywidgets']. Run `pip install -U ipywidgets`, then restart the notebook server for rich notebook output.\n"
     ]
    }
   ],
   "source": [
    "import cpa\n",
    "import scanpy as sc"
   ]
  },
  {
   "cell_type": "code",
   "execution_count": 2,
   "id": "fa7e997e-dd2a-4415-9a3f-15536f5a8242",
   "metadata": {},
   "outputs": [],
   "source": []
  },
  {
   "cell_type": "code",
   "execution_count": 3,
   "id": "b3705528-b2f0-4b5c-9fde-b4adcd367c3c",
   "metadata": {},
   "outputs": [
    {
     "name": "stderr",
     "output_type": "stream",
     "text": [
      "Downloading...\n",
      "From (original): https://drive.google.com/uc?export=download&id=1RRV0_qYKGTvD3oCklKfoZQFYqKJy4l6t\n",
      "From (redirected): https://drive.google.com/uc?export=download&id=1RRV0_qYKGTvD3oCklKfoZQFYqKJy4l6t&confirm=t&uuid=1e1aced8-822d-4f26-9bdc-5b96a69106ae\n",
      "To: /home/icb/dominik.klein/git_repos/ot_pert_new/competing_methods/combosciplex/CPA/combo_sciplex_prep_hvg_filtered.h5ad\n",
      "100%|██████████| 490M/490M [00:07<00:00, 69.7MB/s] \n"
     ]
    }
   ],
   "source": [
    "import gdown\n",
    "\n",
    "gdown.download(\"https://drive.google.com/uc?export=download&id=1RRV0_qYKGTvD3oCklKfoZQFYqKJy4l6t\")\n",
    "data_path = \"combo_sciplex_prep_hvg_filtered.h5ad\"\n",
    "adata = sc.read(data_path)"
   ]
  },
  {
   "cell_type": "code",
   "execution_count": 4,
   "id": "79e49294-2c4d-43aa-8fcd-1496d0253e57",
   "metadata": {},
   "outputs": [],
   "source": [
    "adata_train_path = \"/lustre/groups/ml01/workspace/ot_perturbation/data/combosciplex/adata_train.h5ad\"\n",
    "adata_test_path = \"/lustre/groups/ml01/workspace/ot_perturbation/data/combosciplex/adata_test.h5ad\"\n",
    "adata_ood_path = \"/lustre/groups/ml01/workspace/ot_perturbation/data/combosciplex/adata_ood.h5ad\""
   ]
  },
  {
   "cell_type": "code",
   "execution_count": 5,
   "id": "51d0a975-78e7-41d5-9aa4-b8c0f8f5be52",
   "metadata": {},
   "outputs": [],
   "source": [
    "adata_train = sc.read(adata_train_path)\n",
    "adata_test = sc.read(adata_test_path)\n",
    "adata_ood = sc.read(adata_ood_path)"
   ]
  },
  {
   "cell_type": "code",
   "execution_count": 6,
   "id": "7cde3781-40ce-4ed6-995a-7f2e82283587",
   "metadata": {},
   "outputs": [
    {
     "data": {
      "text/plain": [
       "split\n",
       "train    51882\n",
       "Name: count, dtype: int64"
      ]
     },
     "execution_count": 6,
     "metadata": {},
     "output_type": "execute_result"
    }
   ],
   "source": [
    "adata_train.obs[\"split\"].value_counts()"
   ]
  },
  {
   "cell_type": "code",
   "execution_count": 7,
   "id": "de2965b9-d7fa-43d6-9822-38dac3d6626f",
   "metadata": {},
   "outputs": [
    {
     "data": {
      "text/plain": [
       "split\n",
       "test    3100\n",
       "Name: count, dtype: int64"
      ]
     },
     "execution_count": 7,
     "metadata": {},
     "output_type": "execute_result"
    }
   ],
   "source": [
    "adata_test.obs[\"split\"].value_counts()"
   ]
  },
  {
   "cell_type": "code",
   "execution_count": 8,
   "id": "465b219f-01e0-4c9c-821b-7b99b5ae0c10",
   "metadata": {},
   "outputs": [
    {
     "data": {
      "text/plain": [
       "split\n",
       "ood    8896\n",
       "Name: count, dtype: int64"
      ]
     },
     "execution_count": 8,
     "metadata": {},
     "output_type": "execute_result"
    }
   ],
   "source": [
    "adata_ood.obs[\"split\"].value_counts()"
   ]
  },
  {
   "cell_type": "code",
   "execution_count": 9,
   "id": "de2a95bc-81a5-4bce-a51e-1409b997006d",
   "metadata": {},
   "outputs": [],
   "source": [
    "import anndata\n",
    "\n",
    "adata_combined = anndata.concat((adata_train, adata_test, adata_ood), label=\"split\", keys=[\"train\", \"test\", \"ood\"])"
   ]
  },
  {
   "cell_type": "code",
   "execution_count": 10,
   "id": "6c52fb07-74ec-48f7-8a33-9506fc3e28d0",
   "metadata": {},
   "outputs": [],
   "source": [
    "adata_combined.X = adata_combined.layers[\"counts\"]"
   ]
  },
  {
   "cell_type": "code",
   "execution_count": 11,
   "id": "cb7d7a5e-e439-4a9b-82ef-64d8e95a9420",
   "metadata": {},
   "outputs": [],
   "source": [
    "adata.obs[\"index\"] = adata.obs_names.values\n",
    "adata.obs[\"index_adapted\"] = adata.obs.apply(lambda x: x[\"index\"][:-2], axis=1)\n",
    "adata.obs.set_index(\"index_adapted\", inplace=True)"
   ]
  },
  {
   "cell_type": "code",
   "execution_count": 12,
   "id": "b2c0b7f0-bbaa-4a6c-a8b4-cccd2a3281e3",
   "metadata": {},
   "outputs": [],
   "source": [
    "adata_combined.obs[\"cov_drug_dose\"] = adata.obs[\"cov_drug_dose\"]\n",
    "adata_combined.obs[\"condition_ID\"] = adata.obs[\"condition_ID\"]\n",
    "adata_combined.obs[\"log_dose\"] = adata.obs[\"log_dose\"]"
   ]
  },
  {
   "cell_type": "code",
   "execution_count": 13,
   "id": "4bf8afcb-9c81-4b99-bbd3-8fecb89e5296",
   "metadata": {},
   "outputs": [],
   "source": [
    "frac_valid = adata[adata.obs[\"split_1ct_MEC\"] == \"valid\"].n_obs / (\n",
    "    adata[adata.obs[\"split_1ct_MEC\"] == \"valid\"].n_obs + adata[adata.obs[\"split_1ct_MEC\"] == \"train\"].n_obs\n",
    ")"
   ]
  },
  {
   "cell_type": "code",
   "execution_count": 14,
   "id": "68713145-b4f6-42ac-aff6-be43a9634c1b",
   "metadata": {},
   "outputs": [],
   "source": [
    "import numpy as np\n",
    "\n",
    "\n",
    "def create_split(x):\n",
    "    if x[\"split\"] != \"train\":\n",
    "        return x[\"split\"]\n",
    "    is_train = np.random.choice(2, p=[frac_valid, 1 - frac_valid])\n",
    "    if is_train:\n",
    "        return \"train_train\"\n",
    "    return \"train_valid\"\n",
    "\n",
    "\n",
    "adata_combined.obs[\"split_1ct_MEC\"] = adata_combined.obs.apply(create_split, axis=1)"
   ]
  },
  {
   "cell_type": "code",
   "execution_count": 15,
   "id": "022b99a9-b0e7-4b63-b9fa-f2837be69b42",
   "metadata": {},
   "outputs": [
    {
     "data": {
      "text/plain": [
       "split_1ct_MEC\n",
       "train_train    46592\n",
       "ood             8896\n",
       "train_valid     5290\n",
       "test            3100\n",
       "Name: count, dtype: int64"
      ]
     },
     "execution_count": 15,
     "metadata": {},
     "output_type": "execute_result"
    }
   ],
   "source": [
    "adata_combined.obs[\"split_1ct_MEC\"].value_counts()"
   ]
  },
  {
   "cell_type": "code",
   "execution_count": 16,
   "id": "66d00440-1a84-4666-93a6-6333a10314a3",
   "metadata": {},
   "outputs": [],
   "source": [
    "adata_combined.obs[\"condition_ID\"] = adata_combined.obs[\"condition_ID\"].cat.remove_unused_categories()"
   ]
  },
  {
   "cell_type": "code",
   "execution_count": 17,
   "id": "aec2874d-31fa-4758-9e28-cf350e21d08b",
   "metadata": {},
   "outputs": [
    {
     "name": "stderr",
     "output_type": "stream",
     "text": [
      "100%|██████████| 63878/63878 [00:00<00:00, 88235.74it/s]\n",
      "100%|██████████| 63878/63878 [00:00<00:00, 1146722.78it/s]\n",
      "An NVIDIA GPU may be present on this machine, but a CUDA-enabled jaxlib is not installed. Falling back to cpu.\n"
     ]
    },
    {
     "name": "stdout",
     "output_type": "stream",
     "text": [
      "\u001b[34mINFO    \u001b[0m Generating sequential column names                                                                        \n",
      "\u001b[34mINFO    \u001b[0m Generating sequential column names                                                                        \n"
     ]
    }
   ],
   "source": [
    "cpa.CPA.setup_anndata(\n",
    "    adata_combined,\n",
    "    perturbation_key=\"condition_ID\",\n",
    "    dosage_key=\"log_dose\",\n",
    "    control_group=\"CHEMBL504\",\n",
    "    batch_key=None,\n",
    "    is_count_data=True,\n",
    "    categorical_covariate_keys=[\"cell_type\"],\n",
    "    # deg_uns_key='rank_genes_groups_cov',\n",
    "    deg_uns_cat_key=\"cov_drug_dose\",\n",
    "    max_comb_len=2,\n",
    ")"
   ]
  },
  {
   "cell_type": "code",
   "execution_count": 18,
   "id": "1d8d0c3e-e285-457e-9b81-e9edf65fab83",
   "metadata": {},
   "outputs": [],
   "source": [
    "ae_hparams = {\n",
    "    \"n_latent\": 128,\n",
    "    \"recon_loss\": \"nb\",\n",
    "    \"doser_type\": \"logsigm\",\n",
    "    \"n_hidden_encoder\": 512,\n",
    "    \"n_layers_encoder\": 3,\n",
    "    \"n_hidden_decoder\": 512,\n",
    "    \"n_layers_decoder\": 3,\n",
    "    \"use_batch_norm_encoder\": True,\n",
    "    \"use_layer_norm_encoder\": False,\n",
    "    \"use_batch_norm_decoder\": True,\n",
    "    \"use_layer_norm_decoder\": False,\n",
    "    \"dropout_rate_encoder\": 0.1,\n",
    "    \"dropout_rate_decoder\": 0.1,\n",
    "    \"variational\": False,\n",
    "    \"seed\": 434,\n",
    "}\n",
    "\n",
    "trainer_params = {\n",
    "    \"n_epochs_kl_warmup\": None,\n",
    "    \"n_epochs_pretrain_ae\": 30,\n",
    "    \"n_epochs_adv_warmup\": 50,\n",
    "    \"n_epochs_mixup_warmup\": 3,\n",
    "    \"mixup_alpha\": 0.1,\n",
    "    \"adv_steps\": 2,\n",
    "    \"n_hidden_adv\": 64,\n",
    "    \"n_layers_adv\": 2,\n",
    "    \"use_batch_norm_adv\": True,\n",
    "    \"use_layer_norm_adv\": False,\n",
    "    \"dropout_rate_adv\": 0.3,\n",
    "    \"reg_adv\": 20.0,\n",
    "    \"pen_adv\": 20.0,\n",
    "    \"lr\": 0.0003,\n",
    "    \"wd\": 4e-07,\n",
    "    \"adv_lr\": 0.0003,\n",
    "    \"adv_wd\": 4e-07,\n",
    "    \"adv_loss\": \"cce\",\n",
    "    \"doser_lr\": 0.0003,\n",
    "    \"doser_wd\": 4e-07,\n",
    "    \"do_clip_grad\": False,\n",
    "    \"gradient_clip_value\": 1.0,\n",
    "    \"step_size_lr\": 45,\n",
    "}"
   ]
  },
  {
   "cell_type": "code",
   "execution_count": 19,
   "id": "3e0f8100-c104-44ec-bc2f-025a42b4b917",
   "metadata": {},
   "outputs": [
    {
     "name": "stderr",
     "output_type": "stream",
     "text": [
      "[rank: 0] Global seed set to 434\n"
     ]
    }
   ],
   "source": [
    "model = cpa.CPA(\n",
    "    adata=adata_combined,\n",
    "    split_key=\"split_1ct_MEC\",\n",
    "    train_split=\"train_train\",\n",
    "    valid_split=\"train_valid\",\n",
    "    **ae_hparams,\n",
    ")"
   ]
  },
  {
   "cell_type": "code",
   "execution_count": 20,
   "id": "7e9ef73a-586e-4d35-9b9b-0a68942e8340",
   "metadata": {},
   "outputs": [
    {
     "name": "stderr",
     "output_type": "stream",
     "text": [
      "100%|██████████| 32/32 [00:00<00:00, 117.27it/s]\n",
      "GPU available: True (cuda), used: True\n",
      "TPU available: False, using: 0 TPU cores\n",
      "IPU available: False, using: 0 IPUs\n",
      "HPU available: False, using: 0 HPUs\n",
      "You are using a CUDA device ('NVIDIA A100 80GB PCIe') that has Tensor Cores. To properly utilize them, you should set `torch.set_float32_matmul_precision('medium' | 'high')` which will trade-off precision for performance. For more details, read https://pytorch.org/docs/stable/generated/torch.set_float32_matmul_precision.html#torch.set_float32_matmul_precision\n",
      "LOCAL_RANK: 0 - CUDA_VISIBLE_DEVICES: [0]\n"
     ]
    },
    {
     "name": "stdout",
     "output_type": "stream",
     "text": [
      "Epoch 5/2000:   0%|          | 4/2000 [01:18<10:14:38, 18.48s/it, v_num=1, recon=322, r2_mean=0.758, adv_loss=2.08, acc_pert=0.257]"
     ]
    },
    {
     "name": "stderr",
     "output_type": "stream",
     "text": [
      "\n",
      "Epoch 00004: cpa_metric reached. Module best state updated.\n"
     ]
    },
    {
     "name": "stdout",
     "output_type": "stream",
     "text": [
      "Epoch 10/2000:   0%|          | 9/2000 [02:52<9:57:40, 18.01s/it, v_num=1, recon=304, r2_mean=0.77, adv_loss=1.89, acc_pert=0.307, val_recon=316, disnt_basal=0.068, disnt_after=0.0958, val_r2_mean=0.758, val_KL=nan] "
     ]
    },
    {
     "name": "stderr",
     "output_type": "stream",
     "text": [
      "\n",
      "Epoch 00009: cpa_metric reached. Module best state updated.\n"
     ]
    },
    {
     "name": "stdout",
     "output_type": "stream",
     "text": [
      "\n",
      "disnt_basal = 0.06072995963605901\n",
      "disnt_after = 0.0874748706514961\n",
      "val_r2_mean = 0.7678014604127038\n",
      "val_r2_var = 0.15381151225819645\n",
      "Epoch 20/2000:   1%|          | 19/2000 [05:53<9:46:41, 17.77s/it, v_num=1, recon=286, r2_mean=0.776, adv_loss=1.83, acc_pert=0.335, val_recon=294, disnt_basal=0.0562, disnt_after=0.0822, val_r2_mean=0.765, val_KL=nan] "
     ]
    },
    {
     "name": "stderr",
     "output_type": "stream",
     "text": [
      "\n",
      "Epoch 00019: cpa_metric reached. Module best state updated.\n"
     ]
    },
    {
     "name": "stdout",
     "output_type": "stream",
     "text": [
      "\n",
      "disnt_basal = 0.05208604748984617\n",
      "disnt_after = 0.07872925166271896\n",
      "val_r2_mean = 0.7692172339255796\n",
      "val_r2_var = 0.15227303015134416\n",
      "Epoch 25/2000:   1%|          | 24/2000 [07:21<9:34:52, 17.46s/it, v_num=1, recon=281, r2_mean=0.778, adv_loss=1.83, acc_pert=0.339, val_recon=289, disnt_basal=0.0521, disnt_after=0.0787, val_r2_mean=0.769, val_KL=nan] "
     ]
    },
    {
     "name": "stderr",
     "output_type": "stream",
     "text": [
      "\n",
      "Epoch 00024: cpa_metric reached. Module best state updated.\n"
     ]
    },
    {
     "name": "stdout",
     "output_type": "stream",
     "text": [
      "Epoch 30/2000:   1%|▏         | 29/2000 [08:50<9:34:05, 17.48s/it, v_num=1, recon=278, r2_mean=0.779, adv_loss=1.84, acc_pert=0.336, val_recon=285, disnt_basal=0.0505, disnt_after=0.0771, val_r2_mean=0.77, val_KL=nan]  \n",
      "disnt_basal = 0.0475251429363868\n",
      "disnt_after = 0.07428038706028171\n",
      "val_r2_mean = 0.7691851369984745\n",
      "val_r2_var = 0.14635948421516135\n",
      "Epoch 40/2000:   2%|▏         | 39/2000 [11:40<8:54:20, 16.35s/it, v_num=1, recon=276, r2_mean=0.779, adv_loss=3.35, acc_pert=0.0615, val_recon=283, disnt_basal=0.0361, disnt_after=0.0614, val_r2_mean=0.766, val_KL=nan]\n",
      "disnt_basal = 0.03542979716767703\n",
      "disnt_after = 0.06468646208088279\n",
      "val_r2_mean = 0.7676456539508342\n",
      "val_r2_var = 0.1421720646321167\n",
      "Epoch 50/2000:   2%|▏         | 49/2000 [14:28<8:51:45, 16.35s/it, v_num=1, recon=274, r2_mean=0.779, adv_loss=3.3, acc_pert=0.0511, val_recon=282, disnt_basal=0.0358, disnt_after=0.065, val_r2_mean=0.769, val_KL=nan]  \n",
      "disnt_basal = 0.03355446014535945\n",
      "disnt_after = 0.0630799317756727\n",
      "val_r2_mean = 0.7677409903643981\n",
      "val_r2_var = 0.14524929726238983\n",
      "Epoch 55/2000:   3%|▎         | 54/2000 [15:57<9:35:31, 17.74s/it, v_num=1, recon=273, r2_mean=0.78, adv_loss=3.29, acc_pert=0.0499, val_recon=281, disnt_basal=0.0336, disnt_after=0.0631, val_r2_mean=0.768, val_KL=nan]"
     ]
    },
    {
     "name": "stderr",
     "output_type": "stream",
     "text": [
      "\n",
      "Epoch 00054: cpa_metric reached. Module best state updated.\n"
     ]
    },
    {
     "name": "stdout",
     "output_type": "stream",
     "text": [
      "Epoch 60/2000:   3%|▎         | 59/2000 [17:22<8:58:47, 16.65s/it, v_num=1, recon=273, r2_mean=0.78, adv_loss=3.29, acc_pert=0.0478, val_recon=281, disnt_basal=0.0336, disnt_after=0.0636, val_r2_mean=0.772, val_KL=nan] \n",
      "disnt_basal = 0.03260389333169507\n",
      "disnt_after = 0.06209424029269509\n",
      "val_r2_mean = 0.7672058922964579\n",
      "val_r2_var = 0.14131458446702447\n",
      "Epoch 70/2000:   3%|▎         | 69/2000 [20:12<8:52:25, 16.54s/it, v_num=1, recon=272, r2_mean=0.782, adv_loss=3.29, acc_pert=0.0472, val_recon=281, disnt_basal=0.0324, disnt_after=0.0613, val_r2_mean=0.765, val_KL=nan]\n",
      "disnt_basal = 0.033340752400508544\n",
      "disnt_after = 0.06291656288889788\n",
      "val_r2_mean = 0.7663209459200634\n",
      "val_r2_var = 0.13975641035452221\n",
      "Epoch 80/2000:   4%|▍         | 79/2000 [22:58<8:33:18, 16.03s/it, v_num=1, recon=271, r2_mean=0.782, adv_loss=3.28, acc_pert=0.0498, val_recon=280, disnt_basal=0.0326, disnt_after=0.0628, val_r2_mean=0.766, val_KL=nan]\n",
      "disnt_basal = 0.03276622504018874\n",
      "disnt_after = 0.06149718128680096\n",
      "val_r2_mean = 0.765229491071201\n",
      "val_r2_var = 0.13711706051201794\n",
      "Epoch 90/2000:   4%|▍         | 89/2000 [25:45<8:36:25, 16.21s/it, v_num=1, recon=270, r2_mean=0.782, adv_loss=3.28, acc_pert=0.0506, val_recon=280, disnt_basal=0.0329, disnt_after=0.0624, val_r2_mean=0.768, val_KL=nan]\n",
      "disnt_basal = 0.03222354272845637\n",
      "disnt_after = 0.0614902805797886\n",
      "val_r2_mean = 0.7672984722415777\n",
      "val_r2_var = 0.14307639783672674\n",
      "Epoch 100/2000:   5%|▍         | 99/2000 [28:30<8:34:53, 16.25s/it, v_num=1, recon=270, r2_mean=0.784, adv_loss=3.28, acc_pert=0.0494, val_recon=280, disnt_basal=0.0326, disnt_after=0.0628, val_r2_mean=0.767, val_KL=nan]\n",
      "disnt_basal = 0.03190035033590858\n",
      "disnt_after = 0.061253331160112445\n",
      "val_r2_mean = 0.7679771025382853\n",
      "val_r2_var = 0.1425951879096611\n",
      "Epoch 105/2000:   5%|▌         | 105/2000 [30:17<9:06:48, 17.31s/it, v_num=1, recon=269, r2_mean=0.784, adv_loss=3.28, acc_pert=0.046, val_recon=280, disnt_basal=0.0323, disnt_after=0.0622, val_r2_mean=0.766, val_KL=nan] \n"
     ]
    }
   ],
   "source": [
    "model.train(\n",
    "    max_epochs=2000,\n",
    "    use_gpu=True,\n",
    "    batch_size=128,\n",
    "    plan_kwargs=trainer_params,\n",
    "    early_stopping_patience=10,\n",
    "    check_val_every_n_epoch=5,\n",
    "    save_path=\"/lustre/groups/ml01/workspace/ot_perturbation/models/cpa/combosciplex\",\n",
    ")"
   ]
  },
  {
   "cell_type": "code",
   "execution_count": 21,
   "id": "435c6698-c128-4236-8a55-5fdec1ec44b8",
   "metadata": {},
   "outputs": [
    {
     "name": "stderr",
     "output_type": "stream",
     "text": [
      "100%|██████████| 1997/1997 [00:06<00:00, 304.27it/s]\n"
     ]
    }
   ],
   "source": [
    "model.predict(adata_combined)"
   ]
  },
  {
   "cell_type": "code",
   "execution_count": 22,
   "id": "17aaf1b8-2745-4796-8fe6-7b6ffd394e1c",
   "metadata": {},
   "outputs": [],
   "source": [
    "adata_combined.write(\n",
    "    \"/lustre/groups/ml01/workspace/ot_perturbation/models/cpa/combosciplex/adata_with_predictions.h5ad\"\n",
    ")"
   ]
  },
  {
   "cell_type": "code",
   "execution_count": null,
   "id": "786f6d20-c6de-439b-9a2d-bbef98744c88",
   "metadata": {},
   "outputs": [],
   "source": []
  }
 ],
 "metadata": {
  "kernelspec": {
   "display_name": "ot_pert_cpa",
   "language": "python",
   "name": "ot_pert_cpa"
  },
  "language_info": {
   "codemirror_mode": {
    "name": "ipython",
    "version": 3
   },
   "file_extension": ".py",
   "mimetype": "text/x-python",
   "name": "python",
   "nbconvert_exporter": "python",
   "pygments_lexer": "ipython3",
   "version": "3.9.19"
  }
 },
 "nbformat": 4,
 "nbformat_minor": 5
}
