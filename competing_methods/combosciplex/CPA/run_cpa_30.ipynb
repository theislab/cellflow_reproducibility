{
 "cells": [
  {
   "cell_type": "code",
   "execution_count": 1,
   "id": "5c42fe3e-87d0-4e68-95d0-3faaca23e5f1",
   "metadata": {},
   "outputs": [
    {
     "name": "stderr",
     "output_type": "stream",
     "text": [
      "[rank: 0] Global seed set to 0\n",
      "2024-06-13 14:25:30,573\tINFO util.py:154 -- Missing packages: ['ipywidgets']. Run `pip install -U ipywidgets`, then restart the notebook server for rich notebook output.\n",
      "2024-06-13 14:25:35,021\tINFO util.py:154 -- Missing packages: ['ipywidgets']. Run `pip install -U ipywidgets`, then restart the notebook server for rich notebook output.\n"
     ]
    }
   ],
   "source": [
    "import cpa\n",
    "import scanpy as sc"
   ]
  },
  {
   "cell_type": "code",
   "execution_count": 2,
   "id": "b3705528-b2f0-4b5c-9fde-b4adcd367c3c",
   "metadata": {},
   "outputs": [
    {
     "name": "stderr",
     "output_type": "stream",
     "text": [
      "Downloading...\n",
      "From (original): https://drive.google.com/uc?export=download&id=1RRV0_qYKGTvD3oCklKfoZQFYqKJy4l6t\n",
      "From (redirected): https://drive.google.com/uc?export=download&id=1RRV0_qYKGTvD3oCklKfoZQFYqKJy4l6t&confirm=t&uuid=b913c87b-7c21-4ef5-9a9a-00d160d56ac5\n",
      "To: /ictstr01/home/icb/dominik.klein/git_repos/ot_pert_new/competing_methods/combosciplex/CPA/combo_sciplex_prep_hvg_filtered.h5ad\n",
      "100%|█████████████████████████████████████████████████████████████████████████████████████████████████████████████| 490M/490M [00:04<00:00, 115MB/s]\n"
     ]
    }
   ],
   "source": [
    "import gdown\n",
    "\n",
    "gdown.download(\"https://drive.google.com/uc?export=download&id=1RRV0_qYKGTvD3oCklKfoZQFYqKJy4l6t\")\n",
    "data_path = \"combo_sciplex_prep_hvg_filtered.h5ad\"\n",
    "adata = sc.read(data_path)"
   ]
  },
  {
   "cell_type": "code",
   "execution_count": 3,
   "id": "79e49294-2c4d-43aa-8fcd-1496d0253e57",
   "metadata": {},
   "outputs": [],
   "source": [
    "adata_train_path = \"/lustre/groups/ml01/workspace/ot_perturbation/data/combosciplex/adata_train_30.h5ad\"\n",
    "adata_test_path = \"/lustre/groups/ml01/workspace/ot_perturbation/data/combosciplex/adata_test_30.h5ad\"\n",
    "adata_ood_path = \"/lustre/groups/ml01/workspace/ot_perturbation/data/combosciplex/adata_ood_30.h5ad\""
   ]
  },
  {
   "cell_type": "code",
   "execution_count": 4,
   "id": "51d0a975-78e7-41d5-9aa4-b8c0f8f5be52",
   "metadata": {},
   "outputs": [],
   "source": [
    "adata_train = sc.read(adata_train_path)\n",
    "adata_test = sc.read(adata_test_path)\n",
    "adata_ood = sc.read(adata_ood_path)"
   ]
  },
  {
   "cell_type": "code",
   "execution_count": 5,
   "id": "7cde3781-40ce-4ed6-995a-7f2e82283587",
   "metadata": {},
   "outputs": [
    {
     "data": {
      "text/plain": [
       "split\n",
       "train    51882\n",
       "Name: count, dtype: int64"
      ]
     },
     "execution_count": 5,
     "metadata": {},
     "output_type": "execute_result"
    }
   ],
   "source": [
    "adata_train.obs[\"split\"].value_counts()"
   ]
  },
  {
   "cell_type": "code",
   "execution_count": 6,
   "id": "de2965b9-d7fa-43d6-9822-38dac3d6626f",
   "metadata": {},
   "outputs": [
    {
     "data": {
      "text/plain": [
       "split\n",
       "test    3100\n",
       "Name: count, dtype: int64"
      ]
     },
     "execution_count": 6,
     "metadata": {},
     "output_type": "execute_result"
    }
   ],
   "source": [
    "adata_test.obs[\"split\"].value_counts()"
   ]
  },
  {
   "cell_type": "code",
   "execution_count": 7,
   "id": "465b219f-01e0-4c9c-821b-7b99b5ae0c10",
   "metadata": {},
   "outputs": [
    {
     "data": {
      "text/plain": [
       "split\n",
       "ood    8896\n",
       "Name: count, dtype: int64"
      ]
     },
     "execution_count": 7,
     "metadata": {},
     "output_type": "execute_result"
    }
   ],
   "source": [
    "adata_ood.obs[\"split\"].value_counts()"
   ]
  },
  {
   "cell_type": "code",
   "execution_count": 8,
   "id": "de2a95bc-81a5-4bce-a51e-1409b997006d",
   "metadata": {},
   "outputs": [],
   "source": [
    "import anndata\n",
    "\n",
    "adata_combined = anndata.concat((adata_train, adata_test, adata_ood), label=\"split\", keys=[\"train\", \"test\", \"ood\"])"
   ]
  },
  {
   "cell_type": "code",
   "execution_count": 9,
   "id": "cb7d7a5e-e439-4a9b-82ef-64d8e95a9420",
   "metadata": {},
   "outputs": [],
   "source": [
    "adata.obs[\"index\"] = adata.obs_names.values\n",
    "adata.obs[\"index_adapted\"] = adata.obs.apply(lambda x: x[\"index\"][:-2], axis=1)\n",
    "adata.obs.set_index(\"index_adapted\", inplace=True)"
   ]
  },
  {
   "cell_type": "code",
   "execution_count": 10,
   "id": "b2c0b7f0-bbaa-4a6c-a8b4-cccd2a3281e3",
   "metadata": {},
   "outputs": [],
   "source": [
    "adata_combined.obs[\"cov_drug_dose\"] = adata.obs[\"cov_drug_dose\"]\n",
    "adata_combined.obs[\"condition_ID\"] = adata.obs[\"condition_ID\"]\n",
    "adata_combined.obs[\"log_dose\"] = adata.obs[\"log_dose\"]"
   ]
  },
  {
   "cell_type": "code",
   "execution_count": 11,
   "id": "4bf8afcb-9c81-4b99-bbd3-8fecb89e5296",
   "metadata": {},
   "outputs": [],
   "source": [
    "frac_valid = adata[adata.obs[\"split_1ct_MEC\"] == \"valid\"].n_obs / (\n",
    "    adata[adata.obs[\"split_1ct_MEC\"] == \"valid\"].n_obs + adata[adata.obs[\"split_1ct_MEC\"] == \"train\"].n_obs\n",
    ")"
   ]
  },
  {
   "cell_type": "code",
   "execution_count": 12,
   "id": "68713145-b4f6-42ac-aff6-be43a9634c1b",
   "metadata": {},
   "outputs": [],
   "source": [
    "import numpy as np\n",
    "\n",
    "\n",
    "def create_split(x):\n",
    "    if x[\"split\"] != \"train\":\n",
    "        return x[\"split\"]\n",
    "    is_train = np.random.choice(2, p=[frac_valid, 1 - frac_valid])\n",
    "    if is_train:\n",
    "        return \"train_train\"\n",
    "    return \"train_valid\"\n",
    "\n",
    "\n",
    "adata_combined.obs[\"split_1ct_MEC\"] = adata_combined.obs.apply(create_split, axis=1)"
   ]
  },
  {
   "cell_type": "code",
   "execution_count": 13,
   "id": "022b99a9-b0e7-4b63-b9fa-f2837be69b42",
   "metadata": {},
   "outputs": [
    {
     "data": {
      "text/plain": [
       "split_1ct_MEC\n",
       "train_train    46592\n",
       "ood             8896\n",
       "train_valid     5290\n",
       "test            3100\n",
       "Name: count, dtype: int64"
      ]
     },
     "execution_count": 13,
     "metadata": {},
     "output_type": "execute_result"
    }
   ],
   "source": [
    "adata_combined.obs[\"split_1ct_MEC\"].value_counts()"
   ]
  },
  {
   "cell_type": "code",
   "execution_count": 14,
   "id": "66d00440-1a84-4666-93a6-6333a10314a3",
   "metadata": {},
   "outputs": [],
   "source": [
    "adata_combined.obs[\"condition_ID\"] = adata_combined.obs[\"condition_ID\"].cat.remove_unused_categories()"
   ]
  },
  {
   "cell_type": "code",
   "execution_count": 15,
   "id": "aec2874d-31fa-4758-9e28-cf350e21d08b",
   "metadata": {},
   "outputs": [
    {
     "name": "stderr",
     "output_type": "stream",
     "text": [
      "100%|██████████████████████████████████████████████████████████████████████████████████████████████████████| 63878/63878 [00:00<00:00, 78635.53it/s]\n",
      "100%|█████████████████████████████████████████████████████████████████████████████████████████████████████| 63878/63878 [00:00<00:00, 966671.90it/s]\n",
      "An NVIDIA GPU may be present on this machine, but a CUDA-enabled jaxlib is not installed. Falling back to cpu.\n"
     ]
    },
    {
     "name": "stdout",
     "output_type": "stream",
     "text": [
      "\u001b[34mINFO    \u001b[0m Generating sequential column names                                                                        \n",
      "\u001b[34mINFO    \u001b[0m Generating sequential column names                                                                        \n"
     ]
    }
   ],
   "source": [
    "cpa.CPA.setup_anndata(\n",
    "    adata_combined,\n",
    "    perturbation_key=\"condition_ID\",\n",
    "    dosage_key=\"log_dose\",\n",
    "    control_group=\"CHEMBL504\",\n",
    "    batch_key=None,\n",
    "    is_count_data=True,\n",
    "    categorical_covariate_keys=[\"cell_type\"],\n",
    "    # deg_uns_key='rank_genes_groups_cov',\n",
    "    deg_uns_cat_key=\"cov_drug_dose\",\n",
    "    max_comb_len=2,\n",
    ")"
   ]
  },
  {
   "cell_type": "code",
   "execution_count": 16,
   "id": "1d8d0c3e-e285-457e-9b81-e9edf65fab83",
   "metadata": {},
   "outputs": [],
   "source": [
    "ae_hparams = {\n",
    "    \"n_latent\": 128,\n",
    "    \"recon_loss\": \"gauss\",\n",
    "    \"doser_type\": \"logsigm\",\n",
    "    \"n_hidden_encoder\": 512,\n",
    "    \"n_layers_encoder\": 3,\n",
    "    \"n_hidden_decoder\": 512,\n",
    "    \"n_layers_decoder\": 3,\n",
    "    \"use_batch_norm_encoder\": True,\n",
    "    \"use_layer_norm_encoder\": False,\n",
    "    \"use_batch_norm_decoder\": True,\n",
    "    \"use_layer_norm_decoder\": False,\n",
    "    \"dropout_rate_encoder\": 0.1,\n",
    "    \"dropout_rate_decoder\": 0.1,\n",
    "    \"variational\": False,\n",
    "    \"seed\": 434,\n",
    "}\n",
    "\n",
    "trainer_params = {\n",
    "    \"n_epochs_kl_warmup\": None,\n",
    "    \"n_epochs_pretrain_ae\": 30,\n",
    "    \"n_epochs_adv_warmup\": 50,\n",
    "    \"n_epochs_mixup_warmup\": 3,\n",
    "    \"mixup_alpha\": 0.1,\n",
    "    \"adv_steps\": 2,\n",
    "    \"n_hidden_adv\": 64,\n",
    "    \"n_layers_adv\": 2,\n",
    "    \"use_batch_norm_adv\": True,\n",
    "    \"use_layer_norm_adv\": False,\n",
    "    \"dropout_rate_adv\": 0.3,\n",
    "    \"reg_adv\": 20.0,\n",
    "    \"pen_adv\": 20.0,\n",
    "    \"lr\": 0.0003,\n",
    "    \"wd\": 4e-07,\n",
    "    \"adv_lr\": 0.0003,\n",
    "    \"adv_wd\": 4e-07,\n",
    "    \"adv_loss\": \"cce\",\n",
    "    \"doser_lr\": 0.0003,\n",
    "    \"doser_wd\": 4e-07,\n",
    "    \"do_clip_grad\": False,\n",
    "    \"gradient_clip_value\": 1.0,\n",
    "    \"step_size_lr\": 45,\n",
    "}"
   ]
  },
  {
   "cell_type": "code",
   "execution_count": 17,
   "id": "3e0f8100-c104-44ec-bc2f-025a42b4b917",
   "metadata": {},
   "outputs": [
    {
     "name": "stderr",
     "output_type": "stream",
     "text": [
      "[rank: 0] Global seed set to 434\n"
     ]
    }
   ],
   "source": [
    "model = cpa.CPA(\n",
    "    adata=adata_combined,\n",
    "    split_key=\"split_1ct_MEC\",\n",
    "    train_split=\"train_train\",\n",
    "    valid_split=\"train_valid\",\n",
    "    **ae_hparams,\n",
    ")"
   ]
  },
  {
   "cell_type": "code",
   "execution_count": 18,
   "id": "7e9ef73a-586e-4d35-9b9b-0a68942e8340",
   "metadata": {},
   "outputs": [
    {
     "name": "stderr",
     "output_type": "stream",
     "text": [
      "100%|███████████████████████████████████████████████████████████████████████████████████████████████████████████████| 32/32 [00:00<00:00, 94.08it/s]\n",
      "GPU available: True (cuda), used: True\n",
      "TPU available: False, using: 0 TPU cores\n",
      "IPU available: False, using: 0 IPUs\n",
      "HPU available: False, using: 0 HPUs\n",
      "LOCAL_RANK: 0 - CUDA_VISIBLE_DEVICES: [0]\n"
     ]
    },
    {
     "name": "stdout",
     "output_type": "stream",
     "text": [
      "Epoch 5/200:   2%|▌                         | 4/200 [01:28<1:08:57, 21.11s/it, v_num=1, recon=-2.62e+3, r2_mean=0.782, adv_loss=2.5, acc_pert=0.147]"
     ]
    },
    {
     "name": "stderr",
     "output_type": "stream",
     "text": [
      "\n",
      "Epoch 00004: cpa_metric reached. Module best state updated.\n"
     ]
    },
    {
     "name": "stdout",
     "output_type": "stream",
     "text": [
      "Epoch 10/200:   4%| | 9/200 [03:16<1:07:20, 21.15s/it, v_num=1, recon=-3.05e+3, r2_mean=0.788, adv_loss=2.36, acc_pert=0.172, val_recon=-2.79e+3, di"
     ]
    },
    {
     "name": "stderr",
     "output_type": "stream",
     "text": [
      "\n",
      "Epoch 00009: cpa_metric reached. Module best state updated.\n"
     ]
    },
    {
     "name": "stdout",
     "output_type": "stream",
     "text": [
      "\n",
      "disnt_basal = 0.06287326923523434\n",
      "disnt_after = 0.07675864522399398\n",
      "val_r2_mean = 0.7876624396081424\n",
      "val_r2_var = 0.4331447526952615\n",
      "Epoch 15/200:   7%| | 14/200 [05:03<1:05:26, 21.11s/it, v_num=1, recon=-3.27e+3, r2_mean=0.792, adv_loss=2.29, acc_pert=0.195, val_recon=-3.05e+3, d"
     ]
    },
    {
     "name": "stderr",
     "output_type": "stream",
     "text": [
      "\n",
      "Epoch 00014: cpa_metric reached. Module best state updated.\n"
     ]
    },
    {
     "name": "stdout",
     "output_type": "stream",
     "text": [
      "Epoch 20/200:  10%| | 19/200 [06:50<1:03:48, 21.15s/it, v_num=1, recon=-3.42e+3, r2_mean=0.792, adv_loss=2.28, acc_pert=0.195, val_recon=-3.23e+3, d"
     ]
    },
    {
     "name": "stderr",
     "output_type": "stream",
     "text": [
      "\n",
      "Epoch 00019: cpa_metric reached. Module best state updated.\n"
     ]
    },
    {
     "name": "stdout",
     "output_type": "stream",
     "text": [
      "\n",
      "disnt_basal = 0.05173956598467181\n",
      "disnt_after = 0.0651405600504188\n",
      "val_r2_mean = 0.7938699751023748\n",
      "val_r2_var = 0.4358818104586815\n",
      "Epoch 30/200:  14%|▏| 29/200 [10:23<59:56, 21.03s/it, v_num=1, recon=-3.63e+3, r2_mean=0.795, adv_loss=2.26, acc_pert=0.206, val_recon=-3.41e+3, dis\n",
      "disnt_basal = 0.049802296656969135\n",
      "disnt_after = 0.05998603401444358\n",
      "val_r2_mean = 0.7947056554491392\n",
      "val_r2_var = 0.43485590499608356\n",
      "Epoch 40/200:  20%|▏| 39/200 [13:49<54:10, 20.19s/it, v_num=1, recon=-3.72e+3, r2_mean=0.797, adv_loss=2.33, acc_pert=0.196, val_recon=-3.49e+3, dis\n",
      "disnt_basal = 0.04811781969603754\n",
      "disnt_after = 0.057403161715907605\n",
      "val_r2_mean = 0.7922981460784866\n",
      "val_r2_var = 0.4298887801895697\n",
      "Epoch 50/200:  24%|▏| 49/200 [17:12<49:57, 19.85s/it, v_num=1, recon=-3.77e+3, r2_mean=0.796, adv_loss=2.46, acc_pert=0.176, val_recon=-3.53e+3, dis\n",
      "disnt_basal = 0.04738994364516257\n",
      "disnt_after = 0.05602701979232046\n",
      "val_r2_mean = 0.7944286830793234\n",
      "val_r2_var = 0.4299598283702646\n",
      "Epoch 60/200:  30%|▎| 59/200 [20:32<46:15, 19.68s/it, v_num=1, recon=-3.82e+3, r2_mean=0.796, adv_loss=2.61, acc_pert=0.156, val_recon=-3.53e+3, dis\n",
      "disnt_basal = 0.043244176564448\n",
      "disnt_after = 0.05141587989554322\n",
      "val_r2_mean = 0.7959388715558736\n",
      "val_r2_var = 0.425919854766835\n",
      "Epoch 70/200:  34%|▎| 69/200 [23:53<43:10, 19.77s/it, v_num=1, recon=-3.86e+3, r2_mean=0.797, adv_loss=2.83, acc_pert=0.132, val_recon=-3.51e+3, dis\n",
      "disnt_basal = 0.03926538443062914\n",
      "disnt_after = 0.04780492008155147\n",
      "val_r2_mean = 0.7964388994775332\n",
      "val_r2_var = 0.40263167320877385\n",
      "Epoch 70/200:  35%|▎| 70/200 [24:15<45:03, 20.80s/it, v_num=1, recon=-3.86e+3, r2_mean=0.797, adv_loss=2.87, acc_pert=0.126, val_recon=-3.55e+3, dis\n"
     ]
    }
   ],
   "source": [
    "model.train(\n",
    "    max_epochs=200,\n",
    "    use_gpu=True,\n",
    "    batch_size=128,\n",
    "    plan_kwargs=trainer_params,\n",
    "    early_stopping_patience=10,\n",
    "    check_val_every_n_epoch=5,\n",
    "    save_path=\"/lustre/groups/ml01/workspace/ot_perturbation/models/cpa/combosciplex\",\n",
    ")"
   ]
  },
  {
   "cell_type": "code",
   "execution_count": 19,
   "id": "f53f7e4c-5fae-41c7-958b-fcd89d1d6c0e",
   "metadata": {},
   "outputs": [],
   "source": [
    "ctrl_adata = adata_ood[adata_ood.obs['condition'] == 'control'].copy()"
   ]
  },
  {
   "cell_type": "code",
   "execution_count": 20,
   "id": "6129a3e1-eb90-47a0-937a-60536dc492c4",
   "metadata": {},
   "outputs": [],
   "source": [
    "adata_combined.layers[\"X_true\"] = adata_combined.X\n",
    "adata_combined.X = ctrl_adata.X[np.random.choice(ctrl_adata.n_obs, size=adata_combined.n_obs, replace=True), :]"
   ]
  },
  {
   "cell_type": "code",
   "execution_count": 21,
   "id": "4e544e3e-ff51-4718-af47-2e919c5045ee",
   "metadata": {},
   "outputs": [
    {
     "name": "stderr",
     "output_type": "stream",
     "text": [
      "100%|██████████████████████████████████████████████████████████████████████████████████████████████████████████| 1997/1997 [00:08<00:00, 244.97it/s]\n"
     ]
    }
   ],
   "source": [
    "model.predict(adata_combined)"
   ]
  },
  {
   "cell_type": "code",
   "execution_count": 22,
   "id": "435c6698-c128-4236-8a55-5fdec1ec44b8",
   "metadata": {},
   "outputs": [],
   "source": [
    "adata_combined.X = adata_combined.layers[\"X_true\"]"
   ]
  },
  {
   "cell_type": "code",
   "execution_count": 23,
   "id": "17aaf1b8-2745-4796-8fe6-7b6ffd394e1c",
   "metadata": {},
   "outputs": [],
   "source": [
    "adata_combined.write(\n",
    "    \"/lustre/groups/ml01/workspace/ot_perturbation/models/cpa/combosciplex/adata_with_predictions_30.h5ad\"\n",
    ")"
   ]
  },
  {
   "cell_type": "code",
   "execution_count": null,
   "id": "771a9572-3fa1-4af3-b94f-911624d41cb7",
   "metadata": {},
   "outputs": [],
   "source": []
  }
 ],
 "metadata": {
  "kernelspec": {
   "display_name": "ot_pert_cpa",
   "language": "python",
   "name": "ot_pert_cpa"
  },
  "language_info": {
   "codemirror_mode": {
    "name": "ipython",
    "version": 3
   },
   "file_extension": ".py",
   "mimetype": "text/x-python",
   "name": "python",
   "nbconvert_exporter": "python",
   "pygments_lexer": "ipython3",
   "version": "3.9.19"
  }
 },
 "nbformat": 4,
 "nbformat_minor": 5
}
