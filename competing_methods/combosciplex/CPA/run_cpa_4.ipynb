{
 "cells": [
  {
   "cell_type": "code",
   "execution_count": 1,
   "id": "5c42fe3e-87d0-4e68-95d0-3faaca23e5f1",
   "metadata": {},
   "outputs": [
    {
     "name": "stderr",
     "output_type": "stream",
     "text": [
      "[rank: 0] Global seed set to 0\n",
      "2024-09-10 10:34:35,591\tINFO util.py:154 -- Missing packages: ['ipywidgets']. Run `pip install -U ipywidgets`, then restart the notebook server for rich notebook output.\n",
      "2024-09-10 10:34:38,691\tINFO util.py:154 -- Missing packages: ['ipywidgets']. Run `pip install -U ipywidgets`, then restart the notebook server for rich notebook output.\n"
     ]
    }
   ],
   "source": [
    "import cpa\n",
    "import scanpy as sc\n",
    "import pandas as pd\n",
    "import numpy as np\n",
    "import anndata as ad"
   ]
  },
  {
   "cell_type": "code",
   "execution_count": 2,
   "id": "3498874b-d16f-406c-8ce4-aedab48573b9",
   "metadata": {},
   "outputs": [],
   "source": [
    "adata_train_path = \"/lustre/groups/ml01/workspace/ot_perturbation/data/combosciplex/adata_train_4.h5ad\"\n",
    "adata_test_path = \"/lustre/groups/ml01/workspace/ot_perturbation/data/combosciplex/adata_test_4.h5ad\"\n",
    "adata_ood_path = \"/lustre/groups/ml01/workspace/ot_perturbation/data/combosciplex/adata_ood_4.h5ad\""
   ]
  },
  {
   "cell_type": "code",
   "execution_count": 3,
   "id": "746732a4-7e96-4a14-b52d-6f36e347a62a",
   "metadata": {},
   "outputs": [],
   "source": [
    "adata_train = sc.read(adata_train_path)\n",
    "adata_test = sc.read(adata_test_path)\n",
    "adata_ood = sc.read(adata_ood_path)"
   ]
  },
  {
   "cell_type": "code",
   "execution_count": 4,
   "id": "517e21e9-da91-4b71-9c7f-283433e19736",
   "metadata": {},
   "outputs": [],
   "source": [
    "try:\n",
    "    data_path = 'combo_sciplex_prep_hvg_filtered.h5ad'\n",
    "    adata = sc.read(data_path)\n",
    "except:\n",
    "    import gdown\n",
    "    gdown.download('https://drive.google.com/uc?export=download&id=1RRV0_qYKGTvD3oCklKfoZQFYqKJy4l6t')\n",
    "    data_path = 'combo_sciplex_prep_hvg_filtered.h5ad'\n",
    "    adata = sc.read(data_path)\n",
    "\n",
    "adata\n",
    "\n",
    "adata.obs[\"index\"] = adata.obs_names.values\n",
    "adata.obs[\"index_adapted\"] = adata.obs.apply(lambda x: x[\"index\"][:-2], axis=1)\n",
    "adata.obs.set_index(\"index_adapted\", inplace=True)\n",
    "\n",
    "adata_ood.obs[\"cov_drug_dose\"] = adata.obs[\"cov_drug_dose\"]\n",
    "adata_ood.obs[\"condition_ID\"] = adata.obs[\"condition_ID\"]\n",
    "adata_ood.obs[\"log_dose\"] = adata.obs[\"log_dose\"]\n",
    "adata_ood.obs[\"smiles_rdkit\"] = adata.obs[\"smiles_rdkit\"]\n",
    "adata_ood.obs[\"cell_type\"] = adata.obs[\"cell_type\"]\n",
    "\n",
    "adata_test.obs[\"cov_drug_dose\"] = adata.obs[\"cov_drug_dose\"]\n",
    "adata_test.obs[\"condition_ID\"] = adata.obs[\"condition_ID\"]\n",
    "adata_test.obs[\"log_dose\"] = adata.obs[\"log_dose\"]\n",
    "adata_test.obs[\"smiles_rdkit\"] = adata.obs[\"smiles_rdkit\"]\n",
    "adata_test.obs[\"cell_type\"] = adata.obs[\"cell_type\"]\n",
    "\n",
    "adata_train.obs[\"cov_drug_dose\"] = adata.obs[\"cov_drug_dose\"]\n",
    "adata_train.obs[\"condition_ID\"] = adata.obs[\"condition_ID\"]\n",
    "adata_train.obs[\"log_dose\"] = adata.obs[\"log_dose\"]\n",
    "adata_train.obs[\"smiles_rdkit\"] = adata.obs[\"smiles_rdkit\"]\n",
    "adata_train.obs[\"cell_type\"] = adata.obs[\"cell_type\"]"
   ]
  },
  {
   "cell_type": "code",
   "execution_count": 5,
   "id": "6276b5c4-3562-40fd-9efe-1e91cb14d41a",
   "metadata": {},
   "outputs": [],
   "source": [
    "control_cells_gex = adata_ood[adata_ood.obs[\"condition\"]==\"control\"].X.A\n",
    "obs_names = list(adata_ood[adata_ood.obs[\"condition\"]==\"control\"].obs_names)\n",
    "\n",
    "all_data = []\n",
    "obs_df = pd.DataFrame(columns=[\"condition_ID\", \"log_dose\", \"smiles_rdkit\", \"cell_type\", \"condition\"])\n",
    "indices = []\n",
    "\n",
    "for condition in adata_ood.obs[\"condition\"].cat.categories:\n",
    "    if condition==\"control\":\n",
    "        continue\n",
    "    all_data.append(control_cells_gex)\n",
    "    filtered_row = pd.Series(adata_ood[adata_ood.obs[\"condition\"] == condition].obs[[\"condition_ID\", \"log_dose\", \"smiles_rdkit\", \"cell_type\", \"condition\"]].iloc[0].values)\n",
    "    filtered_row_df = pd.DataFrame([filtered_row.values], columns=[\"condition_ID\", \"log_dose\", \"smiles_rdkit\", \"cell_type\", \"condition\"])\n",
    "    duplicated_rows = pd.concat([filtered_row_df] * 500, ignore_index=True)\n",
    "    obs_df = pd.concat([obs_df, duplicated_rows], ignore_index=True)\n",
    "\n",
    "# Stack all data vertically to create a single array\n",
    "all_data_array = np.vstack(all_data)\n",
    "\n",
    "\n",
    "# Create the Anndata object\n",
    "adata_ood_new = ad.AnnData(X=all_data_array, obs=obs_df)\n",
    "adata_ood_new.var = adata_ood.var\n",
    "\n",
    "\n",
    "control_cells_gex = adata_test[adata_test.obs[\"condition\"]==\"control\"].X.A\n",
    "obs_names = list(adata_test[adata_test.obs[\"condition\"]==\"control\"].obs_names)\n",
    "\n",
    "all_data = []\n",
    "obs_df = pd.DataFrame(columns=[\"condition_ID\", \"log_dose\", \"smiles_rdkit\", \"cell_type\", \"condition\"])\n",
    "indices = []\n",
    "\n",
    "for condition in adata_test.obs[\"condition\"].cat.categories:\n",
    "    if condition==\"control\":\n",
    "        continue\n",
    "    all_data.append(control_cells_gex)\n",
    "    filtered_row = pd.Series(adata_test[adata_test.obs[\"condition\"] == condition].obs[[\"condition_ID\", \"log_dose\", \"smiles_rdkit\", \"cell_type\", \"condition\"]].iloc[0].values)\n",
    "    filtered_row_df = pd.DataFrame([filtered_row.values], columns=[\"condition_ID\", \"log_dose\", \"smiles_rdkit\", \"cell_type\", \"condition\"])\n",
    "    duplicated_rows = pd.concat([filtered_row_df] * 500, ignore_index=True)\n",
    "    obs_df = pd.concat([obs_df, duplicated_rows], ignore_index=True)\n",
    "\n",
    "# Stack all data vertically to create a single array\n",
    "all_data_array = np.vstack(all_data)\n",
    "\n",
    "\n",
    "# Create the Anndata object\n",
    "adata_test_new = ad.AnnData(X=all_data_array, obs=obs_df)\n",
    "adata_test_new.var = adata_test.var"
   ]
  },
  {
   "cell_type": "code",
   "execution_count": 6,
   "id": "b75bc596-c584-440d-91a2-9d554e88f373",
   "metadata": {},
   "outputs": [],
   "source": [
    "import anndata\n",
    "\n",
    "adata_combined = anndata.concat((adata_train, adata_test_new, adata_ood_new), label=\"split\", keys=[\"train\", \"test\", \"ood\"], join=\"inner\")"
   ]
  },
  {
   "cell_type": "code",
   "execution_count": 7,
   "id": "d3966902-ce0f-4bfa-a65e-401ca6edbe8e",
   "metadata": {},
   "outputs": [],
   "source": [
    "frac_valid = adata[adata.obs[\"split_1ct_MEC\"] == \"valid\"].n_obs / (\n",
    "    adata[adata.obs[\"split_1ct_MEC\"] == \"valid\"].n_obs + adata[adata.obs[\"split_1ct_MEC\"] == \"train\"].n_obs\n",
    ")"
   ]
  },
  {
   "cell_type": "code",
   "execution_count": 8,
   "id": "44887bf1-a2d4-49bb-ad6b-0c6ad242924a",
   "metadata": {},
   "outputs": [],
   "source": [
    "import numpy as np\n",
    "\n",
    "\n",
    "def create_split(x):\n",
    "    if x[\"split\"] != \"train\":\n",
    "        return x[\"split\"]\n",
    "    is_train = np.random.choice(2, p=[frac_valid, 1 - frac_valid])\n",
    "    if is_train:\n",
    "        return \"train_train\"\n",
    "    return \"train_valid\"\n",
    "\n",
    "\n",
    "adata_combined.obs[\"split_1ct_MEC\"] = adata_combined.obs.apply(create_split, axis=1)"
   ]
  },
  {
   "cell_type": "code",
   "execution_count": 9,
   "id": "ebb56c71-c99c-443c-b0d5-216c5346fa9e",
   "metadata": {},
   "outputs": [
    {
     "name": "stderr",
     "output_type": "stream",
     "text": [
      "100%|██████████| 61530/61530 [00:00<00:00, 98951.09it/s]\n",
      "100%|██████████| 61530/61530 [00:00<00:00, 1128347.00it/s]\n",
      "An NVIDIA GPU may be present on this machine, but a CUDA-enabled jaxlib is not installed. Falling back to cpu.\n"
     ]
    },
    {
     "name": "stdout",
     "output_type": "stream",
     "text": [
      "\u001b[34mINFO    \u001b[0m Generating sequential column names                                                                        \n",
      "\u001b[34mINFO    \u001b[0m Generating sequential column names                                                                        \n"
     ]
    }
   ],
   "source": [
    "cpa.CPA.setup_anndata(adata_combined,\n",
    "                      perturbation_key='condition_ID',\n",
    "                      dosage_key='log_dose',\n",
    "                      control_group='CHEMBL504',\n",
    "                      batch_key=None,\n",
    "                      is_count_data=False,\n",
    "                      categorical_covariate_keys=['cell_type'],\n",
    "                      deg_uns_cat_key='cov_drug_dose',\n",
    "                      max_comb_len=2,\n",
    "                     )"
   ]
  },
  {
   "cell_type": "code",
   "execution_count": 10,
   "id": "1d8d0c3e-e285-457e-9b81-e9edf65fab83",
   "metadata": {},
   "outputs": [],
   "source": [
    "ae_hparams = {\n",
    "    \"n_latent\": 128,\n",
    "    \"recon_loss\": \"gauss\",\n",
    "    \"doser_type\": \"logsigm\",\n",
    "    \"n_hidden_encoder\": 512,\n",
    "    \"n_layers_encoder\": 3,\n",
    "    \"n_hidden_decoder\": 512,\n",
    "    \"n_layers_decoder\": 3,\n",
    "    \"use_batch_norm_encoder\": True,\n",
    "    \"use_layer_norm_encoder\": False,\n",
    "    \"use_batch_norm_decoder\": True,\n",
    "    \"use_layer_norm_decoder\": False,\n",
    "    \"dropout_rate_encoder\": 0.1,\n",
    "    \"dropout_rate_decoder\": 0.1,\n",
    "    \"variational\": False,\n",
    "    \"seed\": 434,\n",
    "}\n",
    "\n",
    "trainer_params = {\n",
    "    \"n_epochs_kl_warmup\": None,\n",
    "    \"n_epochs_pretrain_ae\": 30,\n",
    "    \"n_epochs_adv_warmup\": 50,\n",
    "    \"n_epochs_mixup_warmup\": 3,\n",
    "    \"mixup_alpha\": 0.1,\n",
    "    \"adv_steps\": 2,\n",
    "    \"n_hidden_adv\": 64,\n",
    "    \"n_layers_adv\": 2,\n",
    "    \"use_batch_norm_adv\": True,\n",
    "    \"use_layer_norm_adv\": False,\n",
    "    \"dropout_rate_adv\": 0.3,\n",
    "    \"reg_adv\": 20.0,\n",
    "    \"pen_adv\": 20.0,\n",
    "    \"lr\": 0.0003,\n",
    "    \"wd\": 4e-07,\n",
    "    \"adv_lr\": 0.0003,\n",
    "    \"adv_wd\": 4e-07,\n",
    "    \"adv_loss\": \"cce\",\n",
    "    \"doser_lr\": 0.0003,\n",
    "    \"doser_wd\": 4e-07,\n",
    "    \"do_clip_grad\": False,\n",
    "    \"gradient_clip_value\": 1.0,\n",
    "    \"step_size_lr\": 45,\n",
    "}"
   ]
  },
  {
   "cell_type": "code",
   "execution_count": 11,
   "id": "3e0f8100-c104-44ec-bc2f-025a42b4b917",
   "metadata": {},
   "outputs": [
    {
     "name": "stderr",
     "output_type": "stream",
     "text": [
      "[rank: 0] Global seed set to 434\n"
     ]
    }
   ],
   "source": [
    "model = cpa.CPA(\n",
    "    adata=adata_combined,\n",
    "    split_key=\"split_1ct_MEC\",\n",
    "    train_split=\"train_train\",\n",
    "    valid_split=\"train_valid\",\n",
    "    **ae_hparams,\n",
    ")"
   ]
  },
  {
   "cell_type": "code",
   "execution_count": 12,
   "id": "7e9ef73a-586e-4d35-9b9b-0a68942e8340",
   "metadata": {},
   "outputs": [
    {
     "name": "stderr",
     "output_type": "stream",
     "text": [
      "100%|██████████| 32/32 [00:00<00:00, 207.72it/s]\n",
      "GPU available: True (cuda), used: True\n",
      "TPU available: False, using: 0 TPU cores\n",
      "IPU available: False, using: 0 IPUs\n",
      "HPU available: False, using: 0 HPUs\n",
      "You are using a CUDA device ('NVIDIA H100 80GB HBM3') that has Tensor Cores. To properly utilize them, you should set `torch.set_float32_matmul_precision('medium' | 'high')` which will trade-off precision for performance. For more details, read https://pytorch.org/docs/stable/generated/torch.set_float32_matmul_precision.html#torch.set_float32_matmul_precision\n",
      "LOCAL_RANK: 0 - CUDA_VISIBLE_DEVICES: [0]\n"
     ]
    },
    {
     "name": "stdout",
     "output_type": "stream",
     "text": [
      "Epoch 5/2000:   0%|          | 4/2000 [01:00<7:49:44, 14.12s/it, v_num=1, recon=-2.5e+3, r2_mean=0.782, adv_loss=2.44, acc_pert=0.157]"
     ]
    },
    {
     "name": "stderr",
     "output_type": "stream",
     "text": [
      "\n",
      "Epoch 00004: cpa_metric reached. Module best state updated.\n"
     ]
    },
    {
     "name": "stdout",
     "output_type": "stream",
     "text": [
      "Epoch 10/2000:   0%|          | 9/2000 [02:06<7:11:57, 13.02s/it, v_num=1, recon=-2.97e+3, r2_mean=0.792, adv_loss=2.25, acc_pert=0.183, val_recon=-2.73e+3, disnt_basal=0.0693, disnt_after=0.0938, val_r2_mean=0.795, val_KL=nan]"
     ]
    },
    {
     "name": "stderr",
     "output_type": "stream",
     "text": [
      "\n",
      "Epoch 00009: cpa_metric reached. Module best state updated.\n"
     ]
    },
    {
     "name": "stdout",
     "output_type": "stream",
     "text": [
      "\n",
      "disnt_basal = 0.06740054575724867\n",
      "disnt_after = 0.0882403511490468\n",
      "val_r2_mean = 0.7993537041204948\n",
      "val_r2_var = 0.43632849709499305\n",
      "Epoch 15/2000:   1%|          | 14/2000 [03:11<7:05:10, 12.84s/it, v_num=1, recon=-3.16e+3, r2_mean=0.796, adv_loss=2.13, acc_pert=0.214, val_recon=-2.95e+3, disnt_basal=0.0674, disnt_after=0.0882, val_r2_mean=0.799, val_KL=nan]"
     ]
    },
    {
     "name": "stderr",
     "output_type": "stream",
     "text": [
      "\n",
      "Epoch 00014: cpa_metric reached. Module best state updated.\n"
     ]
    },
    {
     "name": "stdout",
     "output_type": "stream",
     "text": [
      "Epoch 20/2000:   1%|          | 19/2000 [04:17<7:06:58, 12.93s/it, v_num=1, recon=-3.32e+3, r2_mean=0.802, adv_loss=2.11, acc_pert=0.225, val_recon=-3.11e+3, disnt_basal=0.0653, disnt_after=0.083, val_r2_mean=0.804, val_KL=nan] "
     ]
    },
    {
     "name": "stderr",
     "output_type": "stream",
     "text": [
      "\n",
      "Epoch 00019: cpa_metric reached. Module best state updated.\n"
     ]
    },
    {
     "name": "stdout",
     "output_type": "stream",
     "text": [
      "\n",
      "disnt_basal = 0.06135178456251478\n",
      "disnt_after = 0.07774050360049524\n",
      "val_r2_mean = 0.805595230225342\n",
      "val_r2_var = 0.45480846251281853\n",
      "Epoch 30/2000:   1%|▏         | 29/2000 [06:29<7:06:41, 12.99s/it, v_num=1, recon=-3.52e+3, r2_mean=0.801, adv_loss=2.11, acc_pert=0.234, val_recon=-3.29e+3, disnt_basal=0.0578, disnt_after=0.0727, val_r2_mean=0.807, val_KL=nan]\n",
      "disnt_basal = 0.05566177694448728\n",
      "disnt_after = 0.06883192453182044\n",
      "val_r2_mean = 0.8065624070747351\n",
      "val_r2_var = 0.45316126274104973\n",
      "Epoch 40/2000:   2%|▏         | 39/2000 [08:32<6:32:39, 12.01s/it, v_num=1, recon=-3.62e+3, r2_mean=0.802, adv_loss=2.12, acc_pert=0.234, val_recon=-3.38e+3, disnt_basal=0.0549, disnt_after=0.0681, val_r2_mean=0.807, val_KL=nan]\n",
      "disnt_basal = 0.054662515593995535\n",
      "disnt_after = 0.06834998992823686\n",
      "val_r2_mean = 0.8083666632625881\n",
      "val_r2_var = 0.4498544917661607\n",
      "Epoch 50/2000:   2%|▏         | 49/2000 [10:36<6:33:23, 12.10s/it, v_num=1, recon=-3.68e+3, r2_mean=0.801, adv_loss=2.2, acc_pert=0.213, val_recon=-3.38e+3, disnt_basal=0.0552, disnt_after=0.0678, val_r2_mean=0.81, val_KL=nan]  \n",
      "disnt_basal = 0.05166708662541995\n",
      "disnt_after = 0.06549926289781363\n",
      "val_r2_mean = 0.8075908497177491\n",
      "val_r2_var = 0.4527355053219365\n",
      "Epoch 60/2000:   3%|▎         | 59/2000 [12:40<6:36:24, 12.25s/it, v_num=1, recon=-3.73e+3, r2_mean=0.802, adv_loss=2.37, acc_pert=0.187, val_recon=-3.41e+3, disnt_basal=0.0508, disnt_after=0.0631, val_r2_mean=0.806, val_KL=nan]\n",
      "disnt_basal = 0.048238861727504426\n",
      "disnt_after = 0.0605967160331012\n",
      "val_r2_mean = 0.8059405077082309\n",
      "val_r2_var = 0.43297027232955726\n",
      "Epoch 70/2000:   3%|▎         | 69/2000 [14:43<6:30:55, 12.15s/it, v_num=1, recon=-3.77e+3, r2_mean=0.803, adv_loss=2.68, acc_pert=0.142, val_recon=-3.44e+3, disnt_basal=0.047, disnt_after=0.0593, val_r2_mean=0.811, val_KL=nan] \n",
      "disnt_basal = 0.041399825235119356\n",
      "disnt_after = 0.052551682497148186\n",
      "val_r2_mean = 0.8076810857077398\n",
      "val_r2_var = 0.43675759290541866\n",
      "Epoch 70/2000:   4%|▎         | 70/2000 [14:57<6:52:13, 12.82s/it, v_num=1, recon=-3.78e+3, r2_mean=0.802, adv_loss=2.75, acc_pert=0.132, val_recon=-3.41e+3, disnt_basal=0.0414, disnt_after=0.0526, val_r2_mean=0.808, val_KL=nan]\n"
     ]
    }
   ],
   "source": [
    "model.train(\n",
    "    max_epochs=2000,\n",
    "    use_gpu=True,\n",
    "    batch_size=128,\n",
    "    plan_kwargs=trainer_params,\n",
    "    early_stopping_patience=10,\n",
    "    check_val_every_n_epoch=5,\n",
    "    save_path=\"/lustre/groups/ml01/workspace/ot_perturbation/models/cpa/combosciplex/split_4\",\n",
    ")"
   ]
  },
  {
   "cell_type": "code",
   "execution_count": 13,
   "id": "435c6698-c128-4236-8a55-5fdec1ec44b8",
   "metadata": {},
   "outputs": [
    {
     "name": "stderr",
     "output_type": "stream",
     "text": [
      "100%|██████████| 1923/1923 [00:06<00:00, 306.90it/s]\n"
     ]
    }
   ],
   "source": [
    "model.predict(adata_combined)"
   ]
  },
  {
   "cell_type": "code",
   "execution_count": 14,
   "id": "17aaf1b8-2745-4796-8fe6-7b6ffd394e1c",
   "metadata": {},
   "outputs": [],
   "source": [
    "adata_combined.write(\n",
    "    \"/lustre/groups/ml01/workspace/ot_perturbation/models/cpa/combosciplex/adata_with_predictions_4.h5ad\"\n",
    ")"
   ]
  },
  {
   "cell_type": "code",
   "execution_count": null,
   "id": "f8103b50-a468-4023-af25-37516fc7b41d",
   "metadata": {},
   "outputs": [],
   "source": []
  }
 ],
 "metadata": {
  "kernelspec": {
   "display_name": "ot_pert_cpa",
   "language": "python",
   "name": "ot_pert_cpa"
  },
  "language_info": {
   "codemirror_mode": {
    "name": "ipython",
    "version": 3
   },
   "file_extension": ".py",
   "mimetype": "text/x-python",
   "name": "python",
   "nbconvert_exporter": "python",
   "pygments_lexer": "ipython3",
   "version": "3.9.19"
  }
 },
 "nbformat": 4,
 "nbformat_minor": 5
}
