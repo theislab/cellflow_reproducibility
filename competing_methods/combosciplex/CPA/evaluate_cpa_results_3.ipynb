{
 "cells": [
  {
   "cell_type": "code",
   "execution_count": 1,
   "id": "a3692e45-cbee-4afc-8993-d842e5eea49b",
   "metadata": {},
   "outputs": [],
   "source": [
    "import os\n",
    "os.environ['XLA_PYTHON_CLIENT_PREALLOCATE'] = 'false'"
   ]
  },
  {
   "cell_type": "code",
   "execution_count": 2,
   "id": "1395d093-8d3e-48c0-8ffb-7e864854f3a5",
   "metadata": {},
   "outputs": [
    {
     "name": "stderr",
     "output_type": "stream",
     "text": [
      "/home/icb/dominik.klein/mambaforge/envs/cfp/lib/python3.11/site-packages/tqdm/auto.py:21: TqdmWarning: IProgress not found. Please update jupyter and ipywidgets. See https://ipywidgets.readthedocs.io/en/stable/user_install.html\n",
      "  from .autonotebook import tqdm as notebook_tqdm\n"
     ]
    }
   ],
   "source": [
    "import functools\n",
    "\n",
    "import jax\n",
    "import numpy as np\n",
    "import scanpy as sc\n",
    "\n",
    "from cfp.metrics import compute_mean_metrics, compute_metrics, compute_metrics_fast\n",
    "import cfp.preprocessing as cfpp"
   ]
  },
  {
   "cell_type": "code",
   "execution_count": 3,
   "id": "34291a02-90e4-44ff-9ecd-7ec81aa42b43",
   "metadata": {},
   "outputs": [],
   "source": [
    "split = 3"
   ]
  },
  {
   "cell_type": "code",
   "execution_count": 4,
   "id": "07027cac-18fd-4ef8-b54e-09315f9ae6eb",
   "metadata": {
    "scrolled": true
   },
   "outputs": [
    {
     "name": "stderr",
     "output_type": "stream",
     "text": [
      "/home/icb/dominik.klein/mambaforge/envs/cfp/lib/python3.11/site-packages/anndata/_core/anndata.py:1818: UserWarning: Observation names are not unique. To make them unique, call `.obs_names_make_unique`.\n",
      "  utils.warn_names_duplicates(\"obs\")\n"
     ]
    }
   ],
   "source": [
    "adata_preds = sc.read(f\"/lustre/groups/ml01/workspace/ot_perturbation/models/cpa/combosciplex/adata_with_predictions_{split}.h5ad\")"
   ]
  },
  {
   "cell_type": "code",
   "execution_count": 5,
   "id": "862ac848-95cb-4c9f-8846-9b46b29d265e",
   "metadata": {},
   "outputs": [],
   "source": [
    "adata_train_path = f\"/lustre/groups/ml01/workspace/ot_perturbation/data/combosciplex/adata_train_{split}.h5ad\"\n",
    "adata_test_path = f\"/lustre/groups/ml01/workspace/ot_perturbation/data/combosciplex/adata_test_{split}.h5ad\"\n",
    "adata_ood_path = f\"/lustre/groups/ml01/workspace/ot_perturbation/data/combosciplex/adata_ood_{split}.h5ad\""
   ]
  },
  {
   "cell_type": "code",
   "execution_count": 6,
   "id": "091f2f81-d713-4a2a-a003-37c5db5d3bc7",
   "metadata": {},
   "outputs": [],
   "source": [
    "adata_train = sc.read(adata_train_path)\n",
    "adata_test = sc.read(adata_test_path)\n",
    "adata_ood = sc.read(adata_ood_path)"
   ]
  },
  {
   "cell_type": "code",
   "execution_count": 7,
   "id": "5f7df9d8-66d9-42bb-bcb6-dbd8db9a4454",
   "metadata": {},
   "outputs": [],
   "source": [
    "adata_ref_test = adata_test[adata_test.obs[\"condition\"]!=\"control\"].copy()\n",
    "cfpp.centered_pca(adata_ref_test, n_comps=10)\n",
    "\n",
    "adata_ref_ood = adata_ood[adata_ood.obs[\"condition\"]!=\"control\"].copy()\n",
    "cfpp.centered_pca(adata_ref_ood, n_comps=10)"
   ]
  },
  {
   "cell_type": "code",
   "execution_count": 8,
   "id": "c2541151-a591-4df2-ada0-948a6cb268fc",
   "metadata": {
    "scrolled": true
   },
   "outputs": [
    {
     "name": "stderr",
     "output_type": "stream",
     "text": [
      "/tmp/ipykernel_1667057/2350350615.py:2: ImplicitModificationWarning: Setting element `.layers['CPA_PRED']` of view, initializing view as actual.\n",
      "  adata_pred_test.layers[\"CPA_PRED\"] = adata_pred_test.obsm[\"CPA_pred\"]\n",
      "/tmp/ipykernel_1667057/2350350615.py:18: ImplicitModificationWarning: Setting element `.layers['CPA_PRED']` of view, initializing view as actual.\n",
      "  adata_pred_ood.layers[\"CPA_PRED\"] = adata_pred_ood.obsm[\"CPA_pred\"]\n"
     ]
    }
   ],
   "source": [
    "adata_pred_test = adata_preds[adata_preds.obs[\"split\"]==\"test\"]\n",
    "adata_pred_test.layers[\"CPA_PRED\"] = adata_pred_test.obsm[\"CPA_pred\"]\n",
    "cfpp.project_pca(query_adata=adata_pred_test, ref_adata=adata_ref_test, layer=\"CPA_PRED\")\n",
    "cfpp.project_pca(query_adata=adata_test, ref_adata=adata_ref_test)\n",
    "test_data_target_encoded = {}\n",
    "test_data_target_decoded = {}\n",
    "test_data_target_encoded_predicted = {}\n",
    "test_data_target_decoded_predicted = {}\n",
    "for cond in adata_test.obs[\"condition\"].cat.categories:\n",
    "    if cond == \"control\":\n",
    "        continue\n",
    "    test_data_target_encoded[cond] = adata_test[adata_test.obs[\"condition\"] == cond].obsm[\"X_pca\"]\n",
    "    test_data_target_decoded[cond] = adata_test[adata_test.obs[\"condition\"] == cond].X.toarray()\n",
    "    test_data_target_decoded_predicted[cond] = adata_pred_test[adata_pred_test.obs[\"condition\"] == cond].obsm[\"CPA_pred\"]\n",
    "    test_data_target_encoded_predicted[cond] = adata_pred_test[adata_pred_test.obs[\"condition\"] == cond].obsm[\"X_pca\"]\n",
    "\n",
    "adata_pred_ood = adata_preds[adata_preds.obs[\"split\"]==\"ood\"]\n",
    "adata_pred_ood.layers[\"CPA_PRED\"] = adata_pred_ood.obsm[\"CPA_pred\"]\n",
    "cfpp.project_pca(query_adata=adata_pred_ood, ref_adata=adata_ref_ood, layer=\"CPA_PRED\")\n",
    "cfpp.project_pca(query_adata=adata_ood, ref_adata=adata_ref_ood)\n",
    "ood_data_target_encoded = {}\n",
    "ood_data_target_decoded = {}\n",
    "ood_data_target_encoded_predicted = {}\n",
    "ood_data_target_decoded_predicted = {}\n",
    "for cond in adata_ood.obs[\"condition\"].cat.categories:\n",
    "    if cond == \"control\":\n",
    "        continue\n",
    "    ood_data_target_encoded[cond] = adata_ood[adata_ood.obs[\"condition\"] == cond].obsm[\"X_pca\"]\n",
    "    ood_data_target_decoded[cond] = adata_ood[adata_ood.obs[\"condition\"] == cond].X.toarray()\n",
    "    ood_data_target_decoded_predicted[cond] = adata_pred_ood[adata_pred_ood.obs[\"condition\"] == cond].obsm[\"CPA_pred\"]\n",
    "    ood_data_target_encoded_predicted[cond] = adata_pred_ood[adata_pred_ood.obs[\"condition\"] == cond].obsm[\"X_pca\"]"
   ]
  },
  {
   "cell_type": "code",
   "execution_count": 9,
   "id": "bc637401-d032-4560-b87f-63d4c3223f51",
   "metadata": {},
   "outputs": [
    {
     "data": {
      "text/plain": [
       "{'Panobinostat+Crizotinib',\n",
       " 'Panobinostat+Curcumin',\n",
       " 'Panobinostat+SRT1720',\n",
       " 'Panobinostat+Sorafenib',\n",
       " 'SRT2104+Alvespimycin',\n",
       " 'control+Alvespimycin',\n",
       " 'control+Dacinostat'}"
      ]
     },
     "execution_count": 9,
     "metadata": {},
     "output_type": "execute_result"
    }
   ],
   "source": [
    "set(adata_ood.obs[\"condition\"].cat.categories).intersection(set(adata_pred_ood.obs[\"condition\"].cat.categories))"
   ]
  },
  {
   "cell_type": "code",
   "execution_count": 10,
   "id": "da51ed1f-eb7f-4b6d-b85a-58d8226b54e6",
   "metadata": {},
   "outputs": [
    {
     "data": {
      "text/plain": [
       "condition\n",
       "Dacinostat+PCI-34051         3198\n",
       "SRT3025+Cediranib            2916\n",
       "Givinostat+Cediranib         2683\n",
       "control+SRT2104              2656\n",
       "Givinostat+Curcumin          2636\n",
       "Givinostat+Sorafenib         2634\n",
       "Givinostat+Carmofur          2592\n",
       "Givinostat+Crizotinib        2562\n",
       "Givinostat+Dasatinib         2321\n",
       "Givinostat+SRT2104           2253\n",
       "control+Dasatinib            2243\n",
       "Givinostat+SRT1720           2160\n",
       "Cediranib+PCI-34051          2061\n",
       "Panobinostat+SRT2104         1871\n",
       "Panobinostat+Dasatinib       1855\n",
       "Dacinostat+Danusertib        1839\n",
       "Panobinostat+SRT3025         1789\n",
       "Panobinostat+PCI-34051       1714\n",
       "control+Givinostat           1582\n",
       "control+Panobinostat         1478\n",
       "Givinostat+Tanespimycin      1210\n",
       "Dacinostat+Dasatinib         1131\n",
       "control                       951\n",
       "Panobinostat+Alvespimycin     896\n",
       "Alvespimycin+Pirarubicin      376\n",
       "Name: count, dtype: int64"
      ]
     },
     "execution_count": 10,
     "metadata": {},
     "output_type": "execute_result"
    }
   ],
   "source": [
    "adata_preds[adata_preds.obs[\"split\"]==\"train\"].obs[\"condition\"].value_counts()"
   ]
  },
  {
   "cell_type": "code",
   "execution_count": 11,
   "id": "848f1e41-f1a5-41f0-80d3-7bf3f7337e8b",
   "metadata": {},
   "outputs": [
    {
     "data": {
      "text/plain": [
       "3500"
      ]
     },
     "execution_count": 11,
     "metadata": {},
     "output_type": "execute_result"
    }
   ],
   "source": [
    "adata_preds[adata_preds.obs[\"split\"]==\"ood\"].n_obs"
   ]
  },
  {
   "cell_type": "code",
   "execution_count": 12,
   "id": "ded92e63-7c27-4021-a5e9-7c51e9293e15",
   "metadata": {},
   "outputs": [
    {
     "data": {
      "text/plain": [
       "12000"
      ]
     },
     "execution_count": 12,
     "metadata": {},
     "output_type": "execute_result"
    }
   ],
   "source": [
    "adata_preds[adata_preds.obs[\"split\"]==\"test\"].n_obs"
   ]
  },
  {
   "cell_type": "code",
   "execution_count": 13,
   "id": "7b7c7d06-163a-4a04-828c-7c2679aeaaee",
   "metadata": {},
   "outputs": [
    {
     "data": {
      "text/plain": [
       "View of AnnData object with n_obs × n_vars = 49607 × 2000\n",
       "    obs: 'condition', 'cell_type', 'condition_ID', 'log_dose', 'smiles_rdkit', 'split', 'split_1ct_MEC', 'CPA_cat', 'CPA_CHEMBL504', '_scvi_condition_ID', '_scvi_cell_type', '_scvi_CPA_cat'\n",
       "    uns: '_scvi_manager_uuid', '_scvi_uuid'\n",
       "    obsm: 'CPA_pred', 'perts', 'perts_doses'"
      ]
     },
     "execution_count": 13,
     "metadata": {},
     "output_type": "execute_result"
    }
   ],
   "source": [
    "adata_preds[adata_preds.obs[\"split\"]==\"train\"]\n"
   ]
  },
  {
   "cell_type": "code",
   "execution_count": 14,
   "id": "d221ab26-7b80-4d07-8b93-7149b6f2d80f",
   "metadata": {},
   "outputs": [
    {
     "data": {
      "text/plain": [
       "Index(['Panobinostat+Crizotinib', 'Panobinostat+Curcumin',\n",
       "       'Panobinostat+SRT1720', 'Panobinostat+Sorafenib',\n",
       "       'SRT2104+Alvespimycin', 'control', 'control+Alvespimycin',\n",
       "       'control+Dacinostat'],\n",
       "      dtype='object')"
      ]
     },
     "execution_count": 14,
     "metadata": {},
     "output_type": "execute_result"
    }
   ],
   "source": [
    "adata_ood.obs[\"condition\"].cat.categories"
   ]
  },
  {
   "cell_type": "code",
   "execution_count": 15,
   "id": "f059309e-028e-4425-bf68-1700e3b7a224",
   "metadata": {},
   "outputs": [
    {
     "data": {
      "text/plain": [
       "Index(['Panobinostat+Crizotinib', 'Panobinostat+Curcumin',\n",
       "       'Panobinostat+SRT1720', 'Panobinostat+Sorafenib',\n",
       "       'SRT2104+Alvespimycin', 'control+Alvespimycin', 'control+Dacinostat'],\n",
       "      dtype='object')"
      ]
     },
     "execution_count": 15,
     "metadata": {},
     "output_type": "execute_result"
    }
   ],
   "source": [
    "adata_pred_ood.obs[\"condition\"].cat.categories"
   ]
  },
  {
   "cell_type": "code",
   "execution_count": 16,
   "id": "c9e8562b-66d1-4151-8824-a4944b4e2e85",
   "metadata": {},
   "outputs": [],
   "source": [
    "test_deg_dict = {\n",
    "    k: v\n",
    "    for k, v in adata_train.uns[\"rank_genes_groups_cov_all\"].items()\n",
    "    if k in test_data_target_decoded_predicted.keys()\n",
    "}\n",
    "ood_deg_dict = {\n",
    "    k: v\n",
    "    for k, v in adata_train.uns[\"rank_genes_groups_cov_all\"].items()\n",
    "    if k in ood_data_target_decoded_predicted.keys()\n",
    "}"
   ]
  },
  {
   "cell_type": "code",
   "execution_count": 17,
   "id": "e1fc5bf1-9976-4071-a7ac-605b1494a351",
   "metadata": {},
   "outputs": [],
   "source": [
    "def get_mask(x, y):\n",
    "    return x[:, [gene in y for gene in adata_train.var_names]]\n",
    "\n",
    "\n",
    "ood_deg_target_decoded_predicted = jax.tree_util.tree_map(get_mask, ood_data_target_decoded_predicted, ood_deg_dict)\n",
    "ood_deg_target_decoded = jax.tree_util.tree_map(get_mask, ood_data_target_decoded, ood_deg_dict)\n",
    "\n",
    "test_deg_target_decoded_predicted = jax.tree_util.tree_map(get_mask, test_data_target_decoded_predicted, test_deg_dict)\n",
    "test_deg_target_decoded = jax.tree_util.tree_map(get_mask, test_data_target_decoded, test_deg_dict)\n"
   ]
  },
  {
   "cell_type": "code",
   "execution_count": 20,
   "id": "e8d7ff42-9dbb-4635-9e68-ac3306d27af8",
   "metadata": {},
   "outputs": [],
   "source": [
    "deg_ood_metrics = jax.tree_util.tree_map(compute_metrics, ood_deg_target_decoded, ood_deg_target_decoded_predicted)\n",
    "deg_mean_ood_metrics = compute_mean_metrics(deg_ood_metrics, prefix=\"deg_ood_\")\n",
    "\n",
    "deg_test_metrics = jax.tree_util.tree_map(compute_metrics, test_deg_target_decoded, test_deg_target_decoded_predicted)\n",
    "deg_mean_test_metrics = compute_mean_metrics(deg_test_metrics, prefix=\"deg_test_\")\n"
   ]
  },
  {
   "cell_type": "code",
   "execution_count": 21,
   "id": "9e337bf1-f165-4d62-a79f-4327be259a6c",
   "metadata": {},
   "outputs": [],
   "source": [
    "test_metrics_encoded = jax.tree_util.tree_map(\n",
    "    compute_metrics, test_data_target_encoded, test_data_target_encoded_predicted\n",
    ")\n",
    "mean_test_metrics_encoded = compute_mean_metrics(test_metrics_encoded, prefix=\"encoded_test_\")\n",
    "\n",
    "test_metrics_decoded = jax.tree_util.tree_map(\n",
    "    compute_metrics_fast, test_data_target_decoded, test_data_target_decoded_predicted\n",
    ")\n",
    "mean_test_metrics_decoded = compute_mean_metrics(test_metrics_decoded, prefix=\"decoded_test_\")"
   ]
  },
  {
   "cell_type": "code",
   "execution_count": 22,
   "id": "cbdff236-b23d-4db5-b28f-a072c3ccaecf",
   "metadata": {},
   "outputs": [],
   "source": [
    "ood_metrics_encoded = jax.tree_util.tree_map(\n",
    "    compute_metrics, ood_data_target_encoded, ood_data_target_encoded_predicted\n",
    ")\n",
    "mean_ood_metrics_encoded = compute_mean_metrics(ood_metrics_encoded, prefix=\"encoded_ood_\")\n",
    "\n",
    "ood_metrics_decoded = jax.tree_util.tree_map(\n",
    "    compute_metrics, ood_data_target_decoded, ood_data_target_decoded_predicted\n",
    ")\n",
    "mean_ood_metrics_decoded = compute_mean_metrics(ood_metrics_decoded, prefix=\"decoded_ood_\")"
   ]
  },
  {
   "cell_type": "code",
   "execution_count": 23,
   "id": "3530543f-09ca-4de9-99b4-48b95bd80961",
   "metadata": {},
   "outputs": [
    {
     "data": {
      "text/plain": [
       "{'decoded_ood_r_squared': 0.6416063053267342,\n",
       " 'decoded_ood_sinkhorn_div_1': 113.5741446358817,\n",
       " 'decoded_ood_sinkhorn_div_10': 81.50048991612026,\n",
       " 'decoded_ood_sinkhorn_div_100': 36.08098384312221,\n",
       " 'decoded_ood_e_distance': 71.17611389136802,\n",
       " 'decoded_ood_mmd': 0.29216617132936207}"
      ]
     },
     "execution_count": 23,
     "metadata": {},
     "output_type": "execute_result"
    }
   ],
   "source": [
    "mean_ood_metrics_decoded"
   ]
  },
  {
   "cell_type": "code",
   "execution_count": 24,
   "id": "60018b48-c646-467d-bfdb-a0b5cefae334",
   "metadata": {},
   "outputs": [
    {
     "data": {
      "text/plain": [
       "{'decoded_test_r_squared': 0.7978128120303154,\n",
       " 'decoded_test_e_distance': 39.116195608926574,\n",
       " 'decoded_test_mmd_distance': 0.2726070123414199}"
      ]
     },
     "execution_count": 24,
     "metadata": {},
     "output_type": "execute_result"
    }
   ],
   "source": [
    "mean_test_metrics_decoded"
   ]
  },
  {
   "cell_type": "code",
   "execution_count": null,
   "id": "f9c784ea-6239-40e0-8c59-44a462a9bad7",
   "metadata": {},
   "outputs": [],
   "source": []
  },
  {
   "cell_type": "code",
   "execution_count": 25,
   "id": "8c7c1e77-4a4c-49ce-b79c-52db6292814e",
   "metadata": {},
   "outputs": [
    {
     "data": {
      "text/plain": [
       "{'decoded_ood_r_squared': 0.6416063053267342,\n",
       " 'decoded_ood_sinkhorn_div_1': 113.5741446358817,\n",
       " 'decoded_ood_sinkhorn_div_10': 81.50048991612026,\n",
       " 'decoded_ood_sinkhorn_div_100': 36.08098384312221,\n",
       " 'decoded_ood_e_distance': 71.17611389136802,\n",
       " 'decoded_ood_mmd': 0.29216617132936207}"
      ]
     },
     "execution_count": 25,
     "metadata": {},
     "output_type": "execute_result"
    }
   ],
   "source": [
    "mean_ood_metrics_decoded"
   ]
  },
  {
   "cell_type": "code",
   "execution_count": 26,
   "id": "914b2f8c-7960-406a-87b3-2a0b83b3c5d7",
   "metadata": {},
   "outputs": [
    {
     "data": {
      "text/plain": [
       "{'encoded_ood_r_squared': -11.87179936681475,\n",
       " 'encoded_ood_sinkhorn_div_1': 34.78901651927403,\n",
       " 'encoded_ood_sinkhorn_div_10': 30.948229721614293,\n",
       " 'encoded_ood_sinkhorn_div_100': 29.521682330540248,\n",
       " 'encoded_ood_e_distance': 58.69375515452333,\n",
       " 'encoded_ood_mmd': 0.32655507964747293}"
      ]
     },
     "execution_count": 26,
     "metadata": {},
     "output_type": "execute_result"
    }
   ],
   "source": [
    "mean_ood_metrics_encoded"
   ]
  },
  {
   "cell_type": "code",
   "execution_count": 27,
   "id": "687f3ea3-4546-4c4d-819a-4e0927442ce5",
   "metadata": {},
   "outputs": [
    {
     "data": {
      "text/plain": [
       "{'deg_ood_r_squared': 0.3396240217345102,\n",
       " 'deg_ood_sinkhorn_div_1': 31.017115456717356,\n",
       " 'deg_ood_sinkhorn_div_10': 22.082514354160853,\n",
       " 'deg_ood_sinkhorn_div_100': 21.333051409040177,\n",
       " 'deg_ood_e_distance': 42.51000233426526,\n",
       " 'deg_ood_mmd': 0.3858695243086134}"
      ]
     },
     "execution_count": 27,
     "metadata": {},
     "output_type": "execute_result"
    }
   ],
   "source": [
    "deg_mean_ood_metrics"
   ]
  },
  {
   "cell_type": "code",
   "execution_count": 28,
   "id": "1ef8107f-d103-479c-8b4a-2933ab105a62",
   "metadata": {},
   "outputs": [
    {
     "data": {
      "text/plain": [
       "{'deg_test_r_squared': 0.6550388683875402,\n",
       " 'deg_test_sinkhorn_div_1': 20.331246356169384,\n",
       " 'deg_test_sinkhorn_div_10': 12.083612958590189,\n",
       " 'deg_test_sinkhorn_div_100': 11.0665452281634,\n",
       " 'deg_test_e_distance': 21.99070169244564,\n",
       " 'deg_test_mmd': 0.32991578864554566}"
      ]
     },
     "execution_count": 28,
     "metadata": {},
     "output_type": "execute_result"
    }
   ],
   "source": [
    "deg_mean_test_metrics"
   ]
  },
  {
   "cell_type": "code",
   "execution_count": 29,
   "id": "e708f928-1654-4b93-b546-5f0b1a537def",
   "metadata": {},
   "outputs": [
    {
     "data": {
      "text/plain": [
       "{'decoded_test_r_squared': 0.7978128120303154,\n",
       " 'decoded_test_e_distance': 39.116195608926574,\n",
       " 'decoded_test_mmd_distance': 0.2726070123414199}"
      ]
     },
     "execution_count": 29,
     "metadata": {},
     "output_type": "execute_result"
    }
   ],
   "source": [
    "mean_test_metrics_decoded"
   ]
  },
  {
   "cell_type": "code",
   "execution_count": 30,
   "id": "90c58881-8511-4154-8430-507e59c498e7",
   "metadata": {},
   "outputs": [
    {
     "data": {
      "text/plain": [
       "{'decoded_ood_r_squared': 0.6416063053267342,\n",
       " 'decoded_ood_sinkhorn_div_1': 113.5741446358817,\n",
       " 'decoded_ood_sinkhorn_div_10': 81.50048991612026,\n",
       " 'decoded_ood_sinkhorn_div_100': 36.08098384312221,\n",
       " 'decoded_ood_e_distance': 71.17611389136802,\n",
       " 'decoded_ood_mmd': 0.29216617132936207}"
      ]
     },
     "execution_count": 30,
     "metadata": {},
     "output_type": "execute_result"
    }
   ],
   "source": [
    "mean_ood_metrics_decoded"
   ]
  },
  {
   "cell_type": "code",
   "execution_count": 31,
   "id": "4ed6d545-6b19-4d72-887c-f5618d87d47d",
   "metadata": {},
   "outputs": [
    {
     "data": {
      "text/plain": [
       "{'deg_ood_r_squared': 0.3396240217345102,\n",
       " 'deg_ood_sinkhorn_div_1': 31.017115456717356,\n",
       " 'deg_ood_sinkhorn_div_10': 22.082514354160853,\n",
       " 'deg_ood_sinkhorn_div_100': 21.333051409040177,\n",
       " 'deg_ood_e_distance': 42.51000233426526,\n",
       " 'deg_ood_mmd': 0.3858695243086134}"
      ]
     },
     "execution_count": 31,
     "metadata": {},
     "output_type": "execute_result"
    }
   ],
   "source": [
    "deg_mean_ood_metrics"
   ]
  },
  {
   "cell_type": "code",
   "execution_count": 32,
   "id": "ee62783f-7f1d-4a1e-8c74-eeaa935881a0",
   "metadata": {},
   "outputs": [
    {
     "data": {
      "text/plain": [
       "{'decoded_test_r_squared': 0.7978128120303154,\n",
       " 'decoded_test_e_distance': 39.116195608926574,\n",
       " 'decoded_test_mmd_distance': 0.2726070123414199}"
      ]
     },
     "execution_count": 32,
     "metadata": {},
     "output_type": "execute_result"
    }
   ],
   "source": [
    "mean_test_metrics_decoded"
   ]
  },
  {
   "cell_type": "code",
   "execution_count": 33,
   "id": "014cbe29-83e0-4a37-aa82-29804107152a",
   "metadata": {},
   "outputs": [
    {
     "data": {
      "text/plain": [
       "{'encoded_test_r_squared': -0.06065262778467836,\n",
       " 'encoded_test_sinkhorn_div_1': 23.0813467502594,\n",
       " 'encoded_test_sinkhorn_div_10': 19.157341996828716,\n",
       " 'encoded_test_sinkhorn_div_100': 17.929346044858296,\n",
       " 'encoded_test_e_distance': 35.597068159694494,\n",
       " 'encoded_test_mmd': 0.2378191373621424}"
      ]
     },
     "execution_count": 33,
     "metadata": {},
     "output_type": "execute_result"
    }
   ],
   "source": [
    "mean_test_metrics_encoded"
   ]
  },
  {
   "cell_type": "code",
   "execution_count": 34,
   "id": "c671a0fc-6743-46c4-9ce2-cff5bf900e46",
   "metadata": {},
   "outputs": [
    {
     "data": {
      "text/plain": [
       "{'Panobinostat+Crizotinib': {'r_squared': -6.651731014251709,\n",
       "  'sinkhorn_div_1': 66.77953338623047,\n",
       "  'sinkhorn_div_10': 60.942237854003906,\n",
       "  'sinkhorn_div_100': 58.54538345336914,\n",
       "  'e_distance': 116.46903808980781,\n",
       "  'mmd': 0.44453254},\n",
       " 'Panobinostat+Curcumin': {'r_squared': -18.521371841430664,\n",
       "  'sinkhorn_div_1': 51.51376724243164,\n",
       "  'sinkhorn_div_10': 46.152496337890625,\n",
       "  'sinkhorn_div_100': 44.22247314453125,\n",
       "  'e_distance': 87.98091181681215,\n",
       "  'mmd': 0.407159},\n",
       " 'Panobinostat+SRT1720': {'r_squared': -47.89146423339844,\n",
       "  'sinkhorn_div_1': 43.186866760253906,\n",
       "  'sinkhorn_div_10': 38.07693862915039,\n",
       "  'sinkhorn_div_100': 36.15467834472656,\n",
       "  'e_distance': 71.86661872701488,\n",
       "  'mmd': 0.37971333},\n",
       " 'Panobinostat+Sorafenib': {'r_squared': -11.814579963684082,\n",
       "  'sinkhorn_div_1': 55.43647766113281,\n",
       "  'sinkhorn_div_10': 49.70075988769531,\n",
       "  'sinkhorn_div_100': 47.47370910644531,\n",
       "  'e_distance': 94.408157092309,\n",
       "  'mmd': 0.40299368},\n",
       " 'SRT2104+Alvespimycin': {'r_squared': 0.9526504874229431,\n",
       "  'sinkhorn_div_1': 3.273900032043457,\n",
       "  'sinkhorn_div_10': 1.9784011840820312,\n",
       "  'sinkhorn_div_100': 1.5780305862426758,\n",
       "  'e_distance': 3.0521925236822782,\n",
       "  'mmd': 0.14959493},\n",
       " 'control+Alvespimycin': {'r_squared': 0.8906263709068298,\n",
       "  'sinkhorn_div_1': 5.931666851043701,\n",
       "  'sinkhorn_div_10': 4.728495121002197,\n",
       "  'sinkhorn_div_100': 4.0684709548950195,\n",
       "  'e_distance': 7.954456594697556,\n",
       "  'mmd': 0.19936438},\n",
       " 'control+Dacinostat': {'r_squared': -0.06672537326812744,\n",
       "  'sinkhorn_div_1': 17.400903701782227,\n",
       "  'sinkhorn_div_10': 15.058279037475586,\n",
       "  'sinkhorn_div_100': 14.609030723571777,\n",
       "  'e_distance': 29.124911237339628,\n",
       "  'mmd': 0.3025277}}"
      ]
     },
     "execution_count": 34,
     "metadata": {},
     "output_type": "execute_result"
    }
   ],
   "source": [
    "ood_metrics_encoded"
   ]
  },
  {
   "cell_type": "code",
   "execution_count": 35,
   "id": "ad5e53e5-ff5f-4df7-9e94-5f4414cebb9f",
   "metadata": {},
   "outputs": [],
   "source": [
    "output_dir = \"/lustre/groups/ml01/workspace/ot_perturbation/data/combosciplex/results/cpa\""
   ]
  },
  {
   "cell_type": "code",
   "execution_count": 36,
   "id": "899fc8be-e234-478e-86fc-3874dddf50c8",
   "metadata": {},
   "outputs": [],
   "source": [
    "import os\n",
    "import pandas as pd\n",
    "\n",
    "pd.DataFrame.from_dict(ood_metrics_encoded).to_csv(os.path.join(output_dir, f\"ood_metrics_encoded_{split}.csv\"))\n",
    "pd.DataFrame.from_dict(ood_metrics_decoded).to_csv(os.path.join(output_dir, f\"ood_metrics_decoded_{split}.csv\"))\n",
    "pd.DataFrame.from_dict(test_metrics_encoded).to_csv(os.path.join(output_dir, f\"test_metrics_encoded_{split}.csv\"))\n",
    "pd.DataFrame.from_dict(test_metrics_decoded).to_csv(os.path.join(output_dir, f\"test_metrics_decoded_{split}.csv\"))\n",
    "pd.DataFrame.from_dict(deg_test_metrics).to_csv(os.path.join(output_dir, f\"test_metrics_deg_{split}.csv\"))\n",
    "pd.DataFrame.from_dict(deg_ood_metrics).to_csv(os.path.join(output_dir, f\"ood_metrics_ood_{split}.csv\"))\n"
   ]
  },
  {
   "cell_type": "code",
   "execution_count": null,
   "id": "a2210781-a7bc-4608-bc8c-99ae0c7e341e",
   "metadata": {},
   "outputs": [],
   "source": []
  }
 ],
 "metadata": {
  "kernelspec": {
   "display_name": "cfp",
   "language": "python",
   "name": "cfp"
  },
  "language_info": {
   "codemirror_mode": {
    "name": "ipython",
    "version": 3
   },
   "file_extension": ".py",
   "mimetype": "text/x-python",
   "name": "python",
   "nbconvert_exporter": "python",
   "pygments_lexer": "ipython3",
   "version": "3.11.9"
  }
 },
 "nbformat": 4,
 "nbformat_minor": 5
}
