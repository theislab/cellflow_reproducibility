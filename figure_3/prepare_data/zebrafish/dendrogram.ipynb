{
 "cells": [
  {
   "cell_type": "code",
   "execution_count": 1,
   "id": "9d063d4a-cf7e-4e83-8cbb-129d89ad2437",
   "metadata": {},
   "outputs": [
    {
     "name": "stderr",
     "output_type": "stream",
     "text": [
      "/home/icb/dominik.klein/mambaforge/envs/cfp/lib/python3.11/site-packages/optuna/study/_optimize.py:29: TqdmWarning: IProgress not found. Please update jupyter and ipywidgets. See https://ipywidgets.readthedocs.io/en/stable/user_install.html\n",
      "  from optuna import progress_bar as pbar_module\n"
     ]
    }
   ],
   "source": [
    "import scanpy as sc"
   ]
  },
  {
   "cell_type": "code",
   "execution_count": 2,
   "id": "cffd597a-65c8-4d62-a49e-665325c5d211",
   "metadata": {},
   "outputs": [],
   "source": [
    "adata = sc.read_h5ad(\"/lustre/groups/ml01/workspace/ot_perturbation/data/zebrafish_new/zebrafish_processed.h5ad\")"
   ]
  },
  {
   "cell_type": "code",
   "execution_count": 3,
   "id": "2b918da5-3c1d-48c9-a975-fffb3ebb2d05",
   "metadata": {},
   "outputs": [
    {
     "data": {
      "text/plain": [
       "['mesoderm', 'endoderm', 'ectoderm', 'mesoderm/ectoderm', 'neural crest', 'ectoderm/neural crest', 'Neural Crest', 'mesoderm/neural crest']\n",
       "Categories (8, object): ['Neural Crest', 'ectoderm', 'ectoderm/neural crest', 'endoderm', 'mesoderm', 'mesoderm/ectoderm', 'mesoderm/neural crest', 'neural crest']"
      ]
     },
     "execution_count": 3,
     "metadata": {},
     "output_type": "execute_result"
    }
   ],
   "source": [
    "adata.obs[\"germ_layer\"].unique()"
   ]
  },
  {
   "cell_type": "code",
   "execution_count": 4,
   "id": "2cb75d6c-f806-4c45-8fe3-7c04489e7176",
   "metadata": {},
   "outputs": [],
   "source": [
    "ecto = [\"ectoderm\", 'neural crest', 'ectoderm/neural crest', 'Neural Crest', ]\n",
    "endo = [\"endoderm\", ]\n",
    "meso = [\"mesoderm\", 'mesoderm/neural crest', 'mesoderm/ectoderm']\n",
    "\n",
    "def adapt_germ_layer(x):\n",
    "    if x[\"germ_layer\"] in ecto:\n",
    "        return \"ectoderm\"\n",
    "    if x[\"germ_layer\"] in endo:\n",
    "        return \"endoderm\"\n",
    "    if x[\"germ_layer\"] in meso:\n",
    "        return \"mesoderm\"\n",
    "    raise ValueError(x[\"germ_layer\"])\n",
    "    \n",
    "adata.obs[\"germ_layer_adapted\"] = adata.obs.apply(adapt_germ_layer, axis=1)"
   ]
  },
  {
   "cell_type": "code",
   "execution_count": 5,
   "id": "9bc13006-b838-4d29-89b5-fe00d113507f",
   "metadata": {},
   "outputs": [],
   "source": [
    "adata_meso = adata[(adata.obs[\"gene_target\"]==\"control_control\") & (adata.obs[\"germ_layer_adapted\"]==\"mesoderm\")]\n",
    "adata_endo = adata[(adata.obs[\"gene_target\"]==\"control_control\") & (adata.obs[\"germ_layer_adapted\"]==\"endoderm\")]\n",
    "adata_ecto = adata[(adata.obs[\"gene_target\"]==\"control_control\") & (adata.obs[\"germ_layer_adapted\"]==\"ectoderm\")]"
   ]
  },
  {
   "cell_type": "code",
   "execution_count": 6,
   "id": "bc8f3d59-cd80-4a94-835d-bb704c1adbfd",
   "metadata": {},
   "outputs": [
    {
     "name": "stderr",
     "output_type": "stream",
     "text": [
      "/home/icb/dominik.klein/mambaforge/envs/cfp/lib/python3.11/site-packages/scanpy/tools/_dendrogram.py:193: ImplicitModificationWarning: Trying to modify attribute `._uns` of view, initializing view as actual.\n",
      "  adata.uns[key_added] = dat\n",
      "/home/icb/dominik.klein/mambaforge/envs/cfp/lib/python3.11/site-packages/scanpy/tools/_dendrogram.py:193: ImplicitModificationWarning: Trying to modify attribute `._uns` of view, initializing view as actual.\n",
      "  adata.uns[key_added] = dat\n",
      "/home/icb/dominik.klein/mambaforge/envs/cfp/lib/python3.11/site-packages/scanpy/tools/_dendrogram.py:193: ImplicitModificationWarning: Trying to modify attribute `._uns` of view, initializing view as actual.\n",
      "  adata.uns[key_added] = dat\n"
     ]
    }
   ],
   "source": [
    "sc.tl.dendrogram(adata_meso, groupby=\"cell_type_broad\", use_rep=\"X_aligned\")\n",
    "sc.tl.dendrogram(adata_endo, groupby=\"cell_type_broad\", use_rep=\"X_aligned\")\n",
    "sc.tl.dendrogram(adata_ecto, groupby=\"cell_type_broad\", use_rep=\"X_aligned\")"
   ]
  },
  {
   "cell_type": "code",
   "execution_count": 7,
   "id": "54c2901b-c82b-4e97-a72c-c0ffc1721250",
   "metadata": {},
   "outputs": [],
   "source": [
    "meso_cell_types = adata_meso.uns[\"dendrogram_cell_type_broad\"][\"categories_ordered\"]\n",
    "endo_cell_types = adata_endo.uns[\"dendrogram_cell_type_broad\"][\"categories_ordered\"]\n",
    "ecto_cell_types = adata_ecto.uns[\"dendrogram_cell_type_broad\"][\"categories_ordered\"]"
   ]
  },
  {
   "cell_type": "code",
   "execution_count": 8,
   "id": "d45bb44c-88f0-48e8-bd53-92b5f39992e9",
   "metadata": {},
   "outputs": [],
   "source": [
    "cell_types_ordered = meso_cell_types + endo_cell_types + ecto_cell_types"
   ]
  },
  {
   "cell_type": "code",
   "execution_count": 12,
   "id": "e01a25ae-d81f-4728-9c46-16da938d1b3e",
   "metadata": {},
   "outputs": [],
   "source": [
    "import pandas as pd\n",
    "df_cts = pd.DataFrame(data=cell_types_ordered, columns=[\"CTs\"])\n",
    "df_cts[\"germ_layer\"] = [\"mesoderm\"] * len(meso_cell_types) + [\"endoderm\"] * len(endo_cell_types) + [\"ectoderm\"] * len(ecto_cell_types)"
   ]
  },
  {
   "cell_type": "code",
   "execution_count": 14,
   "id": "370c65ff-15e0-453d-9632-7c0becac6272",
   "metadata": {},
   "outputs": [],
   "source": [
    "df_cts.to_csv(\"/lustre/groups/ml01/workspace/ot_perturbation/data/zebrafish_new/cell_types_ordered.csv\")"
   ]
  },
  {
   "cell_type": "code",
   "execution_count": 15,
   "id": "2a34090b-0766-43c8-902e-c9abbbeed6ed",
   "metadata": {},
   "outputs": [],
   "source": [
    "adata_pert = adata[adata.obs[\"gene_target\"]!=\"control_control\"]"
   ]
  },
  {
   "cell_type": "code",
   "execution_count": 16,
   "id": "b883ad4c-e48d-48df-92d6-8bc51c05f563",
   "metadata": {},
   "outputs": [],
   "source": [
    "meso_target = ['noto_control', 'cdx4_cdx1a', 'tbx16_msgn1', 'smo_control', 'hand2_control', 'cdx4_control', 'tbx16_tbx16l', 'tbx16_control', 'tbx1_control', 'wnt3a_wnt8', 'tbxta_control']\n",
    "nervous_target = ['zc4h2_control', 'met_control', 'hgfa_control', 'epha4a_control', 'mafba_control', 'egr2b_control', 'foxi1_control', 'hoxb1a_control', 'phox2a_control']\n",
    "neural_crest_target = ['tfap2a_control', 'tfap2a_foxd3', 'foxd3_control']\n",
    "\n",
    "def get_gene_target_cat(x):\n",
    "    if x[\"gene_target\"] == \"control_control\":\n",
    "        return \"control\"\n",
    "    if x[\"gene_target\"] in meso_target:\n",
    "        return \"mesoderm\"\n",
    "    if x[\"gene_target\"] in nervous_target:\n",
    "        return \"nervous\"\n",
    "    if x[\"gene_target\"] in neural_crest_target:\n",
    "        return \"neural_crest\"\n",
    "    raise ValueError(x[\"gene_target\"])\n",
    "    \n",
    "adata.obs[\"gene_target_cat\"] = adata.obs.apply(get_gene_target_cat, axis=1)"
   ]
  },
  {
   "cell_type": "code",
   "execution_count": 17,
   "id": "a6bcb720-1502-4190-b71b-362607fde7ab",
   "metadata": {},
   "outputs": [
    {
     "data": {
      "text/plain": [
       "(11, 9, 3)"
      ]
     },
     "execution_count": 17,
     "metadata": {},
     "output_type": "execute_result"
    }
   ],
   "source": [
    "len(meso_target), len(nervous_target), len(neural_crest_target)"
   ]
  },
  {
   "cell_type": "code",
   "execution_count": 20,
   "id": "c3070d85-bb9c-4903-800a-d00f70df97ec",
   "metadata": {},
   "outputs": [],
   "source": [
    "adata_meso_target = adata[adata.obs[\"gene_target_cat\"]==\"mesoderm\"]\n",
    "adata_nervous_target = adata[adata.obs[\"gene_target_cat\"]==\"nervous\"]\n",
    "adata_neural_crest_target = adata[adata.obs[\"gene_target_cat\"]==\"neural_crest\"]"
   ]
  },
  {
   "cell_type": "code",
   "execution_count": 21,
   "id": "aa314086-8d0e-4f41-953c-02e8171825c4",
   "metadata": {},
   "outputs": [
    {
     "name": "stderr",
     "output_type": "stream",
     "text": [
      "/home/icb/dominik.klein/mambaforge/envs/cfp/lib/python3.11/site-packages/scanpy/tools/_dendrogram.py:193: ImplicitModificationWarning: Trying to modify attribute `._uns` of view, initializing view as actual.\n",
      "  adata.uns[key_added] = dat\n",
      "/home/icb/dominik.klein/mambaforge/envs/cfp/lib/python3.11/site-packages/scanpy/tools/_dendrogram.py:193: ImplicitModificationWarning: Trying to modify attribute `._uns` of view, initializing view as actual.\n",
      "  adata.uns[key_added] = dat\n",
      "/home/icb/dominik.klein/mambaforge/envs/cfp/lib/python3.11/site-packages/scanpy/tools/_dendrogram.py:193: ImplicitModificationWarning: Trying to modify attribute `._uns` of view, initializing view as actual.\n",
      "  adata.uns[key_added] = dat\n"
     ]
    }
   ],
   "source": [
    "sc.tl.dendrogram(adata_meso_target, groupby=\"gene_target\", use_rep=\"X_aligned\")\n",
    "sc.tl.dendrogram(adata_nervous_target, groupby=\"gene_target\", use_rep=\"X_aligned\")\n",
    "sc.tl.dendrogram(adata_neural_crest_target, groupby=\"gene_target\", use_rep=\"X_aligned\")"
   ]
  },
  {
   "cell_type": "code",
   "execution_count": 22,
   "id": "2a55d9af-9d84-40d9-908f-e652bc5f13ba",
   "metadata": {},
   "outputs": [],
   "source": [
    "meso_targets = adata_meso_target.uns[\"dendrogram_gene_target\"][\"categories_ordered\"]\n",
    "nervous_targets = adata_nervous_target.uns[\"dendrogram_gene_target\"][\"categories_ordered\"]\n",
    "neural_crest_targets = adata_neural_crest_target.uns[\"dendrogram_gene_target\"][\"categories_ordered\"]"
   ]
  },
  {
   "cell_type": "code",
   "execution_count": 34,
   "id": "683b9d67-7108-4d50-a020-8c8333ee9449",
   "metadata": {},
   "outputs": [],
   "source": [
    "meso_targets2 = [gt + \"_\" + str(tp) for gt in meso_targets for tp in [18, 24, 36, 48, 72]]\n",
    "nervous_targets2 = [gt + \"_\" + str(tp) for gt in nervous_targets for tp in [18, 24, 36, 48, 72]]\n",
    "neural_crest_targets2 = [gt + \"_\" + str(tp) for gt in neural_crest_targets for tp in [18, 24, 36, 48, 72]]"
   ]
  },
  {
   "cell_type": "code",
   "execution_count": 36,
   "id": "041c744d-bd55-43f1-83e9-258eb4560cdb",
   "metadata": {},
   "outputs": [],
   "source": [
    "gts_ordered = meso_targets2 + nervous_targets2 + neural_crest_targets2"
   ]
  },
  {
   "cell_type": "code",
   "execution_count": 37,
   "id": "d8b5dede-1f39-4cc3-abf0-b5ce78b4f155",
   "metadata": {},
   "outputs": [],
   "source": [
    "df_gts = pd.DataFrame(data=gts_ordered, columns=[\"gene_target\"])\n",
    "df_gts[\"germ_layer\"] = [\"mesoderm\"] * len(meso_targets2) + [\"nervous\"] * len(nervous_targets2) + [\"neural_crest\"] * len(neural_crest_targets2)"
   ]
  },
  {
   "cell_type": "code",
   "execution_count": 38,
   "id": "30361fe7-dcfb-417d-a751-a431e91315f8",
   "metadata": {},
   "outputs": [],
   "source": [
    "df_gts.to_csv(\"/lustre/groups/ml01/workspace/ot_perturbation/data/zebrafish_new/gene_targets_ordered.csv\")"
   ]
  },
  {
   "cell_type": "code",
   "execution_count": 41,
   "id": "f357ced8-2fba-4396-b856-3a82209f0382",
   "metadata": {},
   "outputs": [
    {
     "data": {
      "text/plain": [
       "['liver',\n",
       " 'pancreas',\n",
       " 'intestine',\n",
       " 'thyroid follicle cell',\n",
       " 'pharynx',\n",
       " 'pronephric duct',\n",
       " 'swim bladder primordium']"
      ]
     },
     "execution_count": 41,
     "metadata": {},
     "output_type": "execute_result"
    }
   ],
   "source": [
    "endo_cell_types"
   ]
  },
  {
   "cell_type": "code",
   "execution_count": null,
   "id": "c50e5714-e0c8-41b3-8332-dd709e04dfe1",
   "metadata": {},
   "outputs": [],
   "source": []
  }
 ],
 "metadata": {
  "kernelspec": {
   "display_name": "cfp",
   "language": "python",
   "name": "cfp"
  },
  "language_info": {
   "codemirror_mode": {
    "name": "ipython",
    "version": 3
   },
   "file_extension": ".py",
   "mimetype": "text/x-python",
   "name": "python",
   "nbconvert_exporter": "python",
   "pygments_lexer": "ipython3",
   "version": "3.11.9"
  }
 },
 "nbformat": 4,
 "nbformat_minor": 5
}
