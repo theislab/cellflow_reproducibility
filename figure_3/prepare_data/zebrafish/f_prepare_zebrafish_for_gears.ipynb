{
 "cells": [
  {
   "cell_type": "code",
   "execution_count": 1,
   "id": "b67b052d-de6d-49dd-ab04-9d9a70c45658",
   "metadata": {},
   "outputs": [
    {
     "name": "stderr",
     "output_type": "stream",
     "text": [
      "/home/icb/dominik.klein/mambaforge/envs/cfp/lib/python3.11/site-packages/optuna/study/_optimize.py:29: TqdmWarning: IProgress not found. Please update jupyter and ipywidgets. See https://ipywidgets.readthedocs.io/en/stable/user_install.html\n",
      "  from optuna import progress_bar as pbar_module\n"
     ]
    }
   ],
   "source": [
    "import scanpy as sc"
   ]
  },
  {
   "cell_type": "code",
   "execution_count": 30,
   "id": "46b0df1e-5ec6-4961-80bc-f25e5ec03618",
   "metadata": {},
   "outputs": [],
   "source": [
    "bdata = sc.read_h5ad(\"/lustre/groups/ml01/workspace/alejandro.tejada/COLE/fullDataZebra.h5ad\")"
   ]
  },
  {
   "cell_type": "code",
   "execution_count": 31,
   "id": "27cb0d9a-c20c-4b6a-894f-cd2f8dbe27cf",
   "metadata": {},
   "outputs": [],
   "source": [
    "adata = sc.read_h5ad(\"/lustre/groups/ml01/workspace/ot_perturbation/data/zebrafish_new/zebrafish_processed.h5ad\")"
   ]
  },
  {
   "cell_type": "code",
   "execution_count": 32,
   "id": "bd2abf14-9d6a-4838-ba6b-7718d4b9724c",
   "metadata": {},
   "outputs": [],
   "source": [
    "bdata = bdata[adata.obs_names]"
   ]
  },
  {
   "cell_type": "code",
   "execution_count": 33,
   "id": "d61c455e-b099-4ab4-af98-9ba57dafb76f",
   "metadata": {},
   "outputs": [
    {
     "data": {
      "text/plain": [
       "2686684"
      ]
     },
     "execution_count": 33,
     "metadata": {},
     "output_type": "execute_result"
    }
   ],
   "source": [
    "bdata.n_obs"
   ]
  },
  {
   "cell_type": "code",
   "execution_count": 34,
   "id": "87617f97-2565-430e-96b4-27461e712d90",
   "metadata": {},
   "outputs": [],
   "source": [
    "bdata.obs = adata[bdata.obs_names].obs"
   ]
  },
  {
   "cell_type": "code",
   "execution_count": 35,
   "id": "4b636e9e-822a-4e2a-b2ae-f387cd39a2c1",
   "metadata": {},
   "outputs": [
    {
     "name": "stderr",
     "output_type": "stream",
     "text": [
      "/tmp/ipykernel_4091174/2827830222.py:1: FutureWarning: The behavior of Series.replace (and DataFrame.replace) with CategoricalDtype is deprecated. In a future version, replace will only be used for cases that preserve the categories. To change the categories, use ser.cat.rename_categories instead.\n",
      "  bdata.obs[\"gene_target_1\"] = bdata.obs[\"gene_target_1\"].replace('control', 'ctrl')\n",
      "/tmp/ipykernel_4091174/2827830222.py:1: ImplicitModificationWarning: Trying to modify attribute `.obs` of view, initializing view as actual.\n",
      "  bdata.obs[\"gene_target_1\"] = bdata.obs[\"gene_target_1\"].replace('control', 'ctrl')\n",
      "/tmp/ipykernel_4091174/2827830222.py:2: FutureWarning: The behavior of Series.replace (and DataFrame.replace) with CategoricalDtype is deprecated. In a future version, replace will only be used for cases that preserve the categories. To change the categories, use ser.cat.rename_categories instead.\n",
      "  bdata.obs[\"gene_target_2\"] = bdata.obs[\"gene_target_2\"].replace('control', 'ctrl')\n",
      "/tmp/ipykernel_4091174/2827830222.py:2: ImplicitModificationWarning: Trying to modify attribute `.obs` of view, initializing view as actual.\n",
      "  bdata.obs[\"gene_target_2\"] = bdata.obs[\"gene_target_2\"].replace('control', 'ctrl')\n"
     ]
    }
   ],
   "source": [
    "bdata.obs[\"gene_target_1\"] = bdata.obs[\"gene_target_1\"].replace('control', 'ctrl')\n",
    "bdata.obs[\"gene_target_2\"] = bdata.obs[\"gene_target_2\"].replace('control', 'ctrl')\n"
   ]
  },
  {
   "cell_type": "code",
   "execution_count": 36,
   "id": "39bd5648-2426-4782-94ae-7e0758820841",
   "metadata": {},
   "outputs": [
    {
     "data": {
      "text/plain": [
       "gene_target_1\n",
       "control    610839\n",
       "tfap2a     286482\n",
       "tbx16      187545\n",
       "mafba      160550\n",
       "hgfa       149594\n",
       "noto       145401\n",
       "epha4a     124676\n",
       "egr2b      118279\n",
       "foxd3      116680\n",
       "cdx4       105868\n",
       "met         91860\n",
       "tbx1        87439\n",
       "foxi1       81673\n",
       "zc4h2       73264\n",
       "hand2       72204\n",
       "hoxb1a      71278\n",
       "phox2a      71086\n",
       "smo         57617\n",
       "tbxta       39671\n",
       "wnt3a       34678\n",
       "Name: count, dtype: int64"
      ]
     },
     "execution_count": 36,
     "metadata": {},
     "output_type": "execute_result"
    }
   ],
   "source": [
    "adata.obs[\"gene_target_1\"].value_counts()"
   ]
  },
  {
   "cell_type": "code",
   "execution_count": 37,
   "id": "e2066581-176f-4d3d-9895-3ea886e98d9b",
   "metadata": {},
   "outputs": [
    {
     "data": {
      "text/plain": [
       "gene_target_2\n",
       "control    2358321\n",
       "foxd3       127133\n",
       "msgn1        60275\n",
       "tbx16l       58011\n",
       "cdx1a        48266\n",
       "wnt8         34678\n",
       "Name: count, dtype: int64"
      ]
     },
     "execution_count": 37,
     "metadata": {},
     "output_type": "execute_result"
    }
   ],
   "source": [
    "adata.obs[\"gene_target_2\"].value_counts()"
   ]
  },
  {
   "cell_type": "code",
   "execution_count": 38,
   "id": "8a21a2ec-687a-4d89-a580-189515908404",
   "metadata": {},
   "outputs": [
    {
     "name": "stderr",
     "output_type": "stream",
     "text": [
      "/tmp/ipykernel_4091174/1246144728.py:1: ImplicitModificationWarning: Trying to modify attribute `.obs` of view, initializing view as actual.\n",
      "  bdata.obs[\"condition\"] = bdata.obs.apply(lambda x: x[\"gene_target_1\"] + \"+\" + x[\"gene_target_2\"], axis=1)\n"
     ]
    }
   ],
   "source": [
    "bdata.obs[\"condition\"] = bdata.obs.apply(lambda x: x[\"gene_target_1\"] + \"+\" + x[\"gene_target_2\"], axis=1)"
   ]
  },
  {
   "cell_type": "code",
   "execution_count": 39,
   "id": "621e14b7-917b-4195-abfa-cd248e42b00f",
   "metadata": {},
   "outputs": [
    {
     "data": {
      "text/plain": [
       "condition\n",
       "control_control_48    204327\n",
       "control_control_36    158564\n",
       "control_control_72    115985\n",
       "control_control_24     80761\n",
       "hgfa_control_72        77277\n",
       "                       ...  \n",
       "tbxta_control_18       11681\n",
       "wnt3a_wnt8_18          11184\n",
       "cdx4_cdx1a_24           9311\n",
       "tbxta_control_24        8684\n",
       "wnt3a_wnt8_24           4736\n",
       "Name: count, Length: 76, dtype: int64"
      ]
     },
     "execution_count": 39,
     "metadata": {},
     "output_type": "execute_result"
    }
   ],
   "source": [
    "bdata.obs[\"condition\"].value_counts()"
   ]
  },
  {
   "cell_type": "code",
   "execution_count": 40,
   "id": "0e9390c4-c117-4021-94fb-1b0ce01c5f4a",
   "metadata": {},
   "outputs": [],
   "source": [
    "bdata.var[\"gene_name\"] = bdata.var[\"gene_short_name\"]"
   ]
  },
  {
   "cell_type": "code",
   "execution_count": 41,
   "id": "6ce3112c-8b09-4446-9a08-01ca87d1e368",
   "metadata": {},
   "outputs": [
    {
     "data": {
      "text/plain": [
       "array([ 0.,  1.,  2.,  3.,  4.,  5., 13., 14., 29.], dtype=float32)"
      ]
     },
     "execution_count": 41,
     "metadata": {},
     "output_type": "execute_result"
    }
   ],
   "source": [
    "import numpy as np\n",
    "# check if normalized\n",
    "np.unique(bdata.X[1].A)"
   ]
  },
  {
   "cell_type": "code",
   "execution_count": 42,
   "id": "b93dfbc4-be57-4d9e-8479-e43420174353",
   "metadata": {},
   "outputs": [],
   "source": [
    "sc.pp.normalize_total(bdata)\n",
    "sc.pp.log1p(bdata)\n",
    "sc.pp.highly_variable_genes(bdata,n_top_genes=5000, subset=False)"
   ]
  },
  {
   "cell_type": "code",
   "execution_count": 43,
   "id": "4e2954db-37a0-424c-ae34-957bf35381af",
   "metadata": {},
   "outputs": [],
   "source": [
    "genes_to_keep =set(bdata.obs[\"gene_target_1\"].unique()).union(set(bdata.obs[\"gene_target_2\"].unique())) - set(\"ctrl\",)"
   ]
  },
  {
   "cell_type": "code",
   "execution_count": 44,
   "id": "a25015e9-acf6-4121-bfcd-553991aed04d",
   "metadata": {},
   "outputs": [],
   "source": [
    "id_to_keep = set(bdata.var[bdata.var[\"gene_short_name\"].isin(genes_to_keep)].index)"
   ]
  },
  {
   "cell_type": "code",
   "execution_count": 45,
   "id": "871c392c-e50b-4a14-af44-45686d838199",
   "metadata": {},
   "outputs": [],
   "source": [
    "hvgs = bdata.var[bdata.var[\"highly_variable\"]].index"
   ]
  },
  {
   "cell_type": "code",
   "execution_count": 46,
   "id": "c5042bc7-af04-49dd-a3b8-d3b3950492f7",
   "metadata": {},
   "outputs": [],
   "source": [
    "filter_var= list(hvgs)+ list(id_to_keep)"
   ]
  },
  {
   "cell_type": "code",
   "execution_count": 47,
   "id": "00f352a9-ec0d-407e-b471-72fceb2c1463",
   "metadata": {},
   "outputs": [],
   "source": [
    "bdata = bdata[:, filter_var]"
   ]
  },
  {
   "cell_type": "code",
   "execution_count": 48,
   "id": "3345474b-9292-490f-9f32-6e2f9dc8c86a",
   "metadata": {},
   "outputs": [
    {
     "name": "stderr",
     "output_type": "stream",
     "text": [
      "/tmp/ipykernel_4091174/211132322.py:1: ImplicitModificationWarning: Trying to modify attribute `.obs` of view, initializing view as actual.\n",
      "  bdata.obs[\"cell_type\"] = \"zebrafish\" # we don't have different cell lines\n",
      "/home/icb/dominik.klein/mambaforge/envs/cfp/lib/python3.11/site-packages/anndata/_core/anndata.py:1820: UserWarning: Variable names are not unique. To make them unique, call `.var_names_make_unique`.\n",
      "  utils.warn_names_duplicates(\"var\")\n",
      "/home/icb/dominik.klein/mambaforge/envs/cfp/lib/python3.11/site-packages/anndata/_core/anndata.py:1820: UserWarning: Variable names are not unique. To make them unique, call `.var_names_make_unique`.\n",
      "  utils.warn_names_duplicates(\"var\")\n"
     ]
    }
   ],
   "source": [
    "bdata.obs[\"cell_type\"] = \"zebrafish\" # we don't have different cell lines"
   ]
  },
  {
   "cell_type": "code",
   "execution_count": 49,
   "id": "511c349b-fcd0-4535-be8e-cc73a5ac45da",
   "metadata": {},
   "outputs": [],
   "source": [
    "bdata.write_h5ad(\"/lustre/groups/ml01/workspace/ot_perturbation/data/zebrafish_new/zebrafish_processed_for_gears.h5ad\")"
   ]
  },
  {
   "cell_type": "code",
   "execution_count": 50,
   "id": "af1c059c-15e5-4c66-8ff8-cc3149fa2c85",
   "metadata": {},
   "outputs": [],
   "source": [
    "bdata_vals = bdata.var.gene_short_name.values"
   ]
  },
  {
   "cell_type": "code",
   "execution_count": 51,
   "id": "0ae95d42-439d-435b-af7d-2ef786110acf",
   "metadata": {},
   "outputs": [
    {
     "name": "stdout",
     "output_type": "stream",
     "text": [
      "not found control\n",
      "found zc4h2\n",
      "found met\n",
      "found tfap2a\n",
      "found hgfa\n",
      "found noto\n",
      "found cdx4\n",
      "found epha4a\n",
      "found mafba\n",
      "found tbx16\n",
      "found smo\n",
      "found hand2\n",
      "found egr2b\n",
      "found foxi1\n",
      "found hoxb1a\n",
      "found tbx1\n",
      "found wnt3a\n",
      "found phox2a\n",
      "found foxd3\n",
      "found tbxta\n"
     ]
    }
   ],
   "source": [
    "for gene in bdata.obs[\"gene_target_1\"].unique():\n",
    "    if gene not in bdata_vals:\n",
    "        print(\"not found\", gene)\n",
    "    else:\n",
    "        print(\"found\", gene)"
   ]
  },
  {
   "cell_type": "code",
   "execution_count": null,
   "id": "dfdce181-5150-48db-9399-9f847498ffbc",
   "metadata": {},
   "outputs": [],
   "source": []
  },
  {
   "cell_type": "code",
   "execution_count": null,
   "id": "4708dc58-f4ba-4639-b37d-57e0ae2bdd4f",
   "metadata": {},
   "outputs": [],
   "source": []
  },
  {
   "cell_type": "code",
   "execution_count": null,
   "id": "bc56f681-15d3-442a-9bfa-427ff5dd6cb2",
   "metadata": {},
   "outputs": [],
   "source": []
  }
 ],
 "metadata": {
  "kernelspec": {
   "display_name": "cfp",
   "language": "python",
   "name": "cfp"
  },
  "language_info": {
   "codemirror_mode": {
    "name": "ipython",
    "version": 3
   },
   "file_extension": ".py",
   "mimetype": "text/x-python",
   "name": "python",
   "nbconvert_exporter": "python",
   "pygments_lexer": "ipython3",
   "version": "3.11.9"
  }
 },
 "nbformat": 4,
 "nbformat_minor": 5
}
