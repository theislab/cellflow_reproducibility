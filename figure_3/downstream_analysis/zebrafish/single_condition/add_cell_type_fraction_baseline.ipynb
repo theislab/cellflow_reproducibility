{
 "cells": [
  {
   "cell_type": "code",
   "execution_count": 1,
   "id": "5e538424-ea6d-4d10-a8a3-f407ff28cc32",
   "metadata": {},
   "outputs": [],
   "source": [
    "import pandas as pd\n",
    "import os"
   ]
  },
  {
   "cell_type": "code",
   "execution_count": 2,
   "id": "46aeb3cd-0a8e-460e-935f-bf8165540e67",
   "metadata": {},
   "outputs": [],
   "source": [
    "data_dir = \"/lustre/groups/ml01/workspace/ot_perturbation/models/identity/zebrafish/single_condition_min_cell_type_error\"\n",
    "out_dir = \"/lustre/groups/ml01/workspace/ot_perturbation/data/zebrafish_new/results/allocation\""
   ]
  },
  {
   "cell_type": "code",
   "execution_count": 3,
   "id": "3a024c14-01bc-495a-836b-7ad47b66c3de",
   "metadata": {},
   "outputs": [],
   "source": [
    "ood_conditions = ['zc4h2_control_24','met_control_36','tfap2a_control_72','hgfa_control_48','tfap2a_foxd3_72','noto_control_18','cdx4_cdx1a_36','epha4a_control_48','mafba_control_36','tbx16_msgn1_24','noto_control_24','smo_control_18','hand2_control_24','noto_control_36','egr2b_control_36','cdx4_control_18','tfap2a_control_36','foxi1_control_72','egr2b_control_24','cdx4_control_36','zc4h2_control_36','hoxb1a_control_48','tfap2a_foxd3_36','tbx16_tbx16l_24','smo_control_36','mafba_control_18','hgfa_control_72','tbx16_control_18','mafba_control_24','tbx1_control_36','zc4h2_control_48','wnt3a_wnt8_36','foxi1_control_48','smo_control_24','noto_control_48','mafba_control_48','tfap2a_control_48','hand2_control_48','egr2b_control_48','phox2a_control_48','tbx1_control_48','tbx16_msgn1_36','foxd3_control_72','wnt3a_wnt8_24','egr2b_control_18','wnt3a_wnt8_18','met_control_72','phox2a_control_36','epha4a_control_24','foxd3_control_36','tfap2a_foxd3_48','hand2_control_36','cdx4_cdx1a_24','hgfa_control_36','tbx16_tbx16l_18','tbxta_control_36','cdx4_control_24','foxd3_control_48','met_control_48','tbx1_control_24','epha4a_control_36','cdx4_cdx1a_18','tbx16_control_36','tbx16_tbx16l_36','tbx16_control_24','tbxta_control_24','tbx16_msgn1_18','epha4a_control_18','tbxta_control_18','hoxb1a_control_36','hoxb1a_control_24']\n",
    "    "
   ]
  },
  {
   "cell_type": "code",
   "execution_count": 4,
   "id": "82cb671f-6880-49f9-9a79-985cf20acbc3",
   "metadata": {},
   "outputs": [],
   "source": [
    "dfs = []\n",
    "for ood_cond in ood_conditions:\n",
    "    csv_file = [el for el in os.listdir(data_dir) if ((ood_cond in el) and (\"csv\" in el))]\n",
    "    if len(csv_file)==0:\n",
    "        continue\n",
    "    assert len(csv_file) == 1\n",
    "    df = pd.read_csv(os.path.join(data_dir, csv_file[0])).set_index(\"Unnamed: 0\").T\n",
    "    df[\"condition\"] = f\"{ood_cond}\"\n",
    "    dfs.append(df)"
   ]
  },
  {
   "cell_type": "code",
   "execution_count": 5,
   "id": "4a1b5d52-80c9-4b83-83cb-a6e73cb490d1",
   "metadata": {},
   "outputs": [],
   "source": [
    "df = pd.concat(dfs)"
   ]
  },
  {
   "cell_type": "code",
   "execution_count": 6,
   "id": "2d520d64-fe65-47d8-9004-b6b26de096cb",
   "metadata": {},
   "outputs": [],
   "source": [
    "df_other = pd.read_csv(os.path.join(out_dir, \"all_models_metrics.csv\"))"
   ]
  },
  {
   "cell_type": "code",
   "execution_count": 7,
   "id": "d47a53a0-d432-4ff6-acf8-ebb24ea60b24",
   "metadata": {},
   "outputs": [],
   "source": [
    "df_other = df_other[[\"condition\", \"cell_type_fraction_error\", \"model\"]]"
   ]
  },
  {
   "cell_type": "code",
   "execution_count": 8,
   "id": "5566bc73-3dab-4bea-8f26-5a3bd29c0577",
   "metadata": {},
   "outputs": [
    {
     "data": {
      "text/html": [
       "<div>\n",
       "<style scoped>\n",
       "    .dataframe tbody tr th:only-of-type {\n",
       "        vertical-align: middle;\n",
       "    }\n",
       "\n",
       "    .dataframe tbody tr th {\n",
       "        vertical-align: top;\n",
       "    }\n",
       "\n",
       "    .dataframe thead th {\n",
       "        text-align: right;\n",
       "    }\n",
       "</style>\n",
       "<table border=\"1\" class=\"dataframe\">\n",
       "  <thead>\n",
       "    <tr style=\"text-align: right;\">\n",
       "      <th></th>\n",
       "      <th>condition</th>\n",
       "      <th>cell_type_fraction_error</th>\n",
       "      <th>model</th>\n",
       "    </tr>\n",
       "  </thead>\n",
       "  <tbody>\n",
       "    <tr>\n",
       "      <th>0</th>\n",
       "      <td>zc4h2_control_24</td>\n",
       "      <td>0.198075</td>\n",
       "      <td>id</td>\n",
       "    </tr>\n",
       "    <tr>\n",
       "      <th>1</th>\n",
       "      <td>met_control_36</td>\n",
       "      <td>0.290707</td>\n",
       "      <td>id</td>\n",
       "    </tr>\n",
       "    <tr>\n",
       "      <th>2</th>\n",
       "      <td>tfap2a_control_72</td>\n",
       "      <td>0.321600</td>\n",
       "      <td>id</td>\n",
       "    </tr>\n",
       "    <tr>\n",
       "      <th>3</th>\n",
       "      <td>hgfa_control_48</td>\n",
       "      <td>0.348580</td>\n",
       "      <td>id</td>\n",
       "    </tr>\n",
       "    <tr>\n",
       "      <th>4</th>\n",
       "      <td>tfap2a_foxd3_72</td>\n",
       "      <td>0.229467</td>\n",
       "      <td>id</td>\n",
       "    </tr>\n",
       "    <tr>\n",
       "      <th>...</th>\n",
       "      <td>...</td>\n",
       "      <td>...</td>\n",
       "      <td>...</td>\n",
       "    </tr>\n",
       "    <tr>\n",
       "      <th>279</th>\n",
       "      <td>tbx16_msgn1_18</td>\n",
       "      <td>1.212608</td>\n",
       "      <td>same_perturbation</td>\n",
       "    </tr>\n",
       "    <tr>\n",
       "      <th>280</th>\n",
       "      <td>epha4a_control_18</td>\n",
       "      <td>0.929087</td>\n",
       "      <td>same_perturbation</td>\n",
       "    </tr>\n",
       "    <tr>\n",
       "      <th>281</th>\n",
       "      <td>tbxta_control_18</td>\n",
       "      <td>0.524250</td>\n",
       "      <td>same_perturbation</td>\n",
       "    </tr>\n",
       "    <tr>\n",
       "      <th>282</th>\n",
       "      <td>hoxb1a_control_36</td>\n",
       "      <td>0.715763</td>\n",
       "      <td>same_perturbation</td>\n",
       "    </tr>\n",
       "    <tr>\n",
       "      <th>283</th>\n",
       "      <td>hoxb1a_control_24</td>\n",
       "      <td>0.739088</td>\n",
       "      <td>same_perturbation</td>\n",
       "    </tr>\n",
       "  </tbody>\n",
       "</table>\n",
       "<p>284 rows × 3 columns</p>\n",
       "</div>"
      ],
      "text/plain": [
       "             condition  cell_type_fraction_error              model\n",
       "0     zc4h2_control_24                  0.198075                 id\n",
       "1       met_control_36                  0.290707                 id\n",
       "2    tfap2a_control_72                  0.321600                 id\n",
       "3      hgfa_control_48                  0.348580                 id\n",
       "4      tfap2a_foxd3_72                  0.229467                 id\n",
       "..                 ...                       ...                ...\n",
       "279     tbx16_msgn1_18                  1.212608  same_perturbation\n",
       "280  epha4a_control_18                  0.929087  same_perturbation\n",
       "281   tbxta_control_18                  0.524250  same_perturbation\n",
       "282  hoxb1a_control_36                  0.715763  same_perturbation\n",
       "283  hoxb1a_control_24                  0.739088  same_perturbation\n",
       "\n",
       "[284 rows x 3 columns]"
      ]
     },
     "execution_count": 8,
     "metadata": {},
     "output_type": "execute_result"
    }
   ],
   "source": [
    "df_other"
   ]
  },
  {
   "cell_type": "code",
   "execution_count": 9,
   "id": "b56e6a5a-b782-49da-9f3e-bc1855dfbf3f",
   "metadata": {},
   "outputs": [],
   "source": [
    "df[\"model\"] = \"min\""
   ]
  },
  {
   "cell_type": "code",
   "execution_count": 10,
   "id": "29caaad6-1413-4587-8bb4-cfe64c31a298",
   "metadata": {},
   "outputs": [],
   "source": [
    "df_concat = pd.concat((df, df_other))"
   ]
  },
  {
   "cell_type": "code",
   "execution_count": 11,
   "id": "cb9aafce-1dd7-44d1-85b0-ec6bbec12d0e",
   "metadata": {},
   "outputs": [],
   "source": [
    "df_concat.to_csv(os.path.join(out_dir, \"cell_type_fraction_error_all.csv\"))"
   ]
  },
  {
   "cell_type": "code",
   "execution_count": null,
   "id": "8279de84-1d7e-4f1c-9957-40074762915a",
   "metadata": {},
   "outputs": [],
   "source": []
  },
  {
   "cell_type": "code",
   "execution_count": null,
   "id": "e54e757d-ec98-4739-b347-2fbac279d5c5",
   "metadata": {},
   "outputs": [],
   "source": []
  }
 ],
 "metadata": {
  "kernelspec": {
   "display_name": "cfp",
   "language": "python",
   "name": "cfp"
  },
  "language_info": {
   "codemirror_mode": {
    "name": "ipython",
    "version": 3
   },
   "file_extension": ".py",
   "mimetype": "text/x-python",
   "name": "python",
   "nbconvert_exporter": "python",
   "pygments_lexer": "ipython3",
   "version": "3.11.9"
  }
 },
 "nbformat": 4,
 "nbformat_minor": 5
}
