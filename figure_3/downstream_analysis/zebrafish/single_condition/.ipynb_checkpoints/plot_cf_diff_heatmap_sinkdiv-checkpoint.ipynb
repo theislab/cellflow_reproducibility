{
 "cells": [
  {
   "cell_type": "code",
   "execution_count": 12,
   "id": "a194c4d9-d341-4624-a6fd-24e3b3e1c230",
   "metadata": {},
   "outputs": [],
   "source": [
    "library(dplyr)\n",
    "library(ggplot2)\n",
    "install.packages(\"jsonlite\")\n",
    "library(jsonlite)\n",
    "library(glue)"
   ]
  },
  {
   "cell_type": "code",
   "execution_count": 18,
   "id": "c43153cb-feeb-4975-9242-65696bf130cc",
   "metadata": {},
   "outputs": [],
   "source": [
    "output_dir <- glue(\"/lustre/groups/ml01/workspace/ot_perturbation/figures/zebrafish/benchmark/single_condition/large_heatmaps\")"
   ]
  },
  {
   "cell_type": "code",
   "execution_count": 14,
   "id": "f874f00a-73ed-4ee3-a885-bb43015e5d68",
   "metadata": {},
   "outputs": [],
   "source": [
    "cts_ordered <- read.csv(\"/lustre/groups/ml01/workspace/ot_perturbation/data/zebrafish_new/cell_types_ordered.csv\")\n",
    "gts_ordered <- read.csv(\"/lustre/groups/ml01/workspace/ot_perturbation/data/zebrafish_new/gene_targets_ordered.csv\")\n",
    "df_merged <- read.csv(\"/lustre/groups/ml01/workspace/ot_perturbation/data/zebrafish_new/results/allocation/same_tp_cf_diff_mmd.csv\")"
   ]
  },
  {
   "cell_type": "code",
   "execution_count": 15,
   "id": "f20a62e6-99ef-44cb-88d0-e0301ff0dfc6",
   "metadata": {},
   "outputs": [],
   "source": [
    "df_merged$cell_type <- factor(df_merged$cell_type, levels = cts_ordered$CTs)\n",
    "df_merged$condition <- factor(df_merged$condition, levels = rev(gts_ordered$gene_target))"
   ]
  },
  {
   "cell_type": "code",
   "execution_count": 20,
   "id": "572f4e00-23fe-43fe-9d3e-270c46c24b87",
   "metadata": {},
   "outputs": [],
   "source": [
    "options(repr.plot.width = 20, repr.plot.height = 16)\n",
    "\n",
    "color_dict = c(\n",
    "    \"True\"= \"#B12F8C\",\n",
    "    \"False\"= \"#566573\")\n",
    "# Ensure the color scale is centered at 0\n",
    "\n",
    "# Create ggplot\n",
    "p <- ggplot(df_merged, aes(\n",
    "  x = cell_type,\n",
    "  y = condition,\n",
    "  size = perturbation_effect,\n",
    "  color = larger_zero\n",
    ")) +\n",
    "  geom_point(alpha = 0.8) +\n",
    "  scale_color_manual(\n",
    "    values = color_dict,\n",
    "  ) +\n",
    "  scale_size(range = c(1, 10), name = \"Perturbation Effect\") +\n",
    "  theme_minimal() +\n",
    "  theme(\n",
    "    axis.text.x = element_text(angle = 90, hjust = 1, size = 8),\n",
    "    axis.text.y = element_text(size = 8),\n",
    "    legend.position = \"right\"\n",
    "  ) +\n",
    "  labs(\n",
    "    title = \"Improvement of CellFlow over additive model\",\n",
    "    x = \"Cell Type\",\n",
    "    y = \"Condition\"\n",
    "  )"
   ]
  },
  {
   "cell_type": "code",
   "execution_count": 19,
   "id": "8189fe80-2ca8-4f49-a5b1-54109c123b64",
   "metadata": {},
   "outputs": [
    {
     "ename": "ERROR",
     "evalue": "Error in plot_theme(plot): object 'p' not found\n",
     "output_type": "error",
     "traceback": [
      "Error in plot_theme(plot): object 'p' not found\nTraceback:\n",
      "1. calc_element(\"plot.background\", plot_theme(plot))$fill %||% \"transparent\"",
      "2. calc_element(\"plot.background\", plot_theme(plot))",
      "3. plot_theme(plot)",
      "4. .handleSimpleError(function (cnd) \n . {\n .     watcher$capture_plot_and_output()\n .     cnd <- sanitize_call(cnd)\n .     watcher$push(cnd)\n .     switch(on_error, continue = invokeRestart(\"eval_continue\"), \n .         stop = invokeRestart(\"eval_stop\"), error = invokeRestart(\"eval_error\", \n .             cnd))\n . }, \"object 'p' not found\", base::quote(plot_theme(plot)))"
     ]
    }
   ],
   "source": [
    "ggsave(file.path(output_dir, \"mmd_distance_improvement_large.pdf\"), plot = p, device = \"pdf\", width = 3.0, height = 4.0, unit=\"cm\")"
   ]
  },
  {
   "cell_type": "code",
   "execution_count": null,
   "id": "52050693-a197-42ee-82f9-8591ffe1bae7",
   "metadata": {},
   "outputs": [],
   "source": []
  }
 ],
 "metadata": {
  "kernelspec": {
   "display_name": "R",
   "language": "R",
   "name": "ir"
  },
  "language_info": {
   "codemirror_mode": "r",
   "file_extension": ".r",
   "mimetype": "text/x-r-source",
   "name": "R",
   "pygments_lexer": "r",
   "version": "4.2.2"
  }
 },
 "nbformat": 4,
 "nbformat_minor": 5
}
