{
 "cells": [
  {
   "cell_type": "code",
   "execution_count": 35,
   "id": "c456a142-2e77-4b36-b4f7-af7c39a6c722",
   "metadata": {},
   "outputs": [],
   "source": [
    "import pandas as pd\n",
    "from scipy.stats import ttest_ind\n",
    "\n"
   ]
  },
  {
   "cell_type": "code",
   "execution_count": 12,
   "id": "9c375231-6df6-423f-aee8-f27f7a6378db",
   "metadata": {},
   "outputs": [],
   "source": [
    "df = pd.read_csv(\"/lustre/groups/ml01/workspace/ot_perturbation/data/zebrafish_new/results/allocation/all_models_metrics.csv\", index_col=0)"
   ]
  },
  {
   "cell_type": "code",
   "execution_count": 13,
   "id": "dc979395-0a85-4760-b483-d0660718bcab",
   "metadata": {},
   "outputs": [
    {
     "data": {
      "text/html": [
       "<div>\n",
       "<style scoped>\n",
       "    .dataframe tbody tr th:only-of-type {\n",
       "        vertical-align: middle;\n",
       "    }\n",
       "\n",
       "    .dataframe tbody tr th {\n",
       "        vertical-align: top;\n",
       "    }\n",
       "\n",
       "    .dataframe thead th {\n",
       "        text-align: right;\n",
       "    }\n",
       "</style>\n",
       "<table border=\"1\" class=\"dataframe\">\n",
       "  <thead>\n",
       "    <tr style=\"text-align: right;\">\n",
       "      <th></th>\n",
       "      <th>fraction_cell_types_covered</th>\n",
       "      <th>cell_type_fraction_error</th>\n",
       "      <th>mean_r_sq_per_cell_type</th>\n",
       "      <th>mean_e_distance_per_cell_type</th>\n",
       "      <th>mean_mmd_per_cell_type</th>\n",
       "      <th>mean_sdiv_10_per_cell_type</th>\n",
       "      <th>mean_sdiv_100_per_cell_type</th>\n",
       "      <th>median_r_sq_per_cell_type</th>\n",
       "      <th>median_e_distance_per_cell_type</th>\n",
       "      <th>median_mmd_per_cell_type</th>\n",
       "      <th>...</th>\n",
       "      <th>e_distance_hypochord</th>\n",
       "      <th>mmd_hypochord</th>\n",
       "      <th>div_10_hypochord</th>\n",
       "      <th>div_100_hypochord</th>\n",
       "      <th>r_squared_hypophysis/locus coeruleus</th>\n",
       "      <th>e_distance_hypophysis/locus coeruleus</th>\n",
       "      <th>mmd_hypophysis/locus coeruleus</th>\n",
       "      <th>div_10_hypophysis/locus coeruleus</th>\n",
       "      <th>div_100_hypophysis/locus coeruleus</th>\n",
       "      <th>model</th>\n",
       "    </tr>\n",
       "  </thead>\n",
       "  <tbody>\n",
       "    <tr>\n",
       "      <th>zc4h2_control_24</th>\n",
       "      <td>1.0</td>\n",
       "      <td>0.198075</td>\n",
       "      <td>0.997143</td>\n",
       "      <td>17.884346</td>\n",
       "      <td>0.007304</td>\n",
       "      <td>176.589351</td>\n",
       "      <td>50.130940</td>\n",
       "      <td>0.998086</td>\n",
       "      <td>10.724632</td>\n",
       "      <td>0.006735</td>\n",
       "      <td>...</td>\n",
       "      <td>NaN</td>\n",
       "      <td>NaN</td>\n",
       "      <td>NaN</td>\n",
       "      <td>NaN</td>\n",
       "      <td>NaN</td>\n",
       "      <td>NaN</td>\n",
       "      <td>NaN</td>\n",
       "      <td>NaN</td>\n",
       "      <td>NaN</td>\n",
       "      <td>id</td>\n",
       "    </tr>\n",
       "    <tr>\n",
       "      <th>met_control_36</th>\n",
       "      <td>1.0</td>\n",
       "      <td>0.290707</td>\n",
       "      <td>0.996653</td>\n",
       "      <td>21.373934</td>\n",
       "      <td>0.007520</td>\n",
       "      <td>196.086758</td>\n",
       "      <td>64.315720</td>\n",
       "      <td>0.997639</td>\n",
       "      <td>15.631581</td>\n",
       "      <td>0.006816</td>\n",
       "      <td>...</td>\n",
       "      <td>NaN</td>\n",
       "      <td>NaN</td>\n",
       "      <td>NaN</td>\n",
       "      <td>NaN</td>\n",
       "      <td>NaN</td>\n",
       "      <td>NaN</td>\n",
       "      <td>NaN</td>\n",
       "      <td>NaN</td>\n",
       "      <td>NaN</td>\n",
       "      <td>id</td>\n",
       "    </tr>\n",
       "    <tr>\n",
       "      <th>tfap2a_control_72</th>\n",
       "      <td>1.0</td>\n",
       "      <td>0.321600</td>\n",
       "      <td>0.979980</td>\n",
       "      <td>127.018322</td>\n",
       "      <td>0.009210</td>\n",
       "      <td>338.764505</td>\n",
       "      <td>212.046395</td>\n",
       "      <td>0.996153</td>\n",
       "      <td>24.456763</td>\n",
       "      <td>0.007337</td>\n",
       "      <td>...</td>\n",
       "      <td>NaN</td>\n",
       "      <td>NaN</td>\n",
       "      <td>NaN</td>\n",
       "      <td>NaN</td>\n",
       "      <td>NaN</td>\n",
       "      <td>NaN</td>\n",
       "      <td>NaN</td>\n",
       "      <td>NaN</td>\n",
       "      <td>NaN</td>\n",
       "      <td>id</td>\n",
       "    </tr>\n",
       "    <tr>\n",
       "      <th>hgfa_control_48</th>\n",
       "      <td>1.0</td>\n",
       "      <td>0.348580</td>\n",
       "      <td>0.990385</td>\n",
       "      <td>55.715163</td>\n",
       "      <td>0.012429</td>\n",
       "      <td>239.495950</td>\n",
       "      <td>99.938459</td>\n",
       "      <td>0.993441</td>\n",
       "      <td>34.930590</td>\n",
       "      <td>0.011155</td>\n",
       "      <td>...</td>\n",
       "      <td>NaN</td>\n",
       "      <td>NaN</td>\n",
       "      <td>NaN</td>\n",
       "      <td>NaN</td>\n",
       "      <td>NaN</td>\n",
       "      <td>NaN</td>\n",
       "      <td>NaN</td>\n",
       "      <td>NaN</td>\n",
       "      <td>NaN</td>\n",
       "      <td>id</td>\n",
       "    </tr>\n",
       "    <tr>\n",
       "      <th>tfap2a_foxd3_72</th>\n",
       "      <td>1.0</td>\n",
       "      <td>0.229467</td>\n",
       "      <td>0.988895</td>\n",
       "      <td>92.352286</td>\n",
       "      <td>0.009099</td>\n",
       "      <td>292.229661</td>\n",
       "      <td>157.077969</td>\n",
       "      <td>0.994277</td>\n",
       "      <td>32.852069</td>\n",
       "      <td>0.007775</td>\n",
       "      <td>...</td>\n",
       "      <td>NaN</td>\n",
       "      <td>NaN</td>\n",
       "      <td>NaN</td>\n",
       "      <td>NaN</td>\n",
       "      <td>NaN</td>\n",
       "      <td>NaN</td>\n",
       "      <td>NaN</td>\n",
       "      <td>NaN</td>\n",
       "      <td>NaN</td>\n",
       "      <td>id</td>\n",
       "    </tr>\n",
       "  </tbody>\n",
       "</table>\n",
       "<p>5 rows × 484 columns</p>\n",
       "</div>"
      ],
      "text/plain": [
       "                   fraction_cell_types_covered  cell_type_fraction_error  \\\n",
       "zc4h2_control_24                           1.0                  0.198075   \n",
       "met_control_36                             1.0                  0.290707   \n",
       "tfap2a_control_72                          1.0                  0.321600   \n",
       "hgfa_control_48                            1.0                  0.348580   \n",
       "tfap2a_foxd3_72                            1.0                  0.229467   \n",
       "\n",
       "                   mean_r_sq_per_cell_type  mean_e_distance_per_cell_type  \\\n",
       "zc4h2_control_24                  0.997143                      17.884346   \n",
       "met_control_36                    0.996653                      21.373934   \n",
       "tfap2a_control_72                 0.979980                     127.018322   \n",
       "hgfa_control_48                   0.990385                      55.715163   \n",
       "tfap2a_foxd3_72                   0.988895                      92.352286   \n",
       "\n",
       "                   mean_mmd_per_cell_type  mean_sdiv_10_per_cell_type  \\\n",
       "zc4h2_control_24                 0.007304                  176.589351   \n",
       "met_control_36                   0.007520                  196.086758   \n",
       "tfap2a_control_72                0.009210                  338.764505   \n",
       "hgfa_control_48                  0.012429                  239.495950   \n",
       "tfap2a_foxd3_72                  0.009099                  292.229661   \n",
       "\n",
       "                   mean_sdiv_100_per_cell_type  median_r_sq_per_cell_type  \\\n",
       "zc4h2_control_24                     50.130940                   0.998086   \n",
       "met_control_36                       64.315720                   0.997639   \n",
       "tfap2a_control_72                   212.046395                   0.996153   \n",
       "hgfa_control_48                      99.938459                   0.993441   \n",
       "tfap2a_foxd3_72                     157.077969                   0.994277   \n",
       "\n",
       "                   median_e_distance_per_cell_type  median_mmd_per_cell_type  \\\n",
       "zc4h2_control_24                         10.724632                  0.006735   \n",
       "met_control_36                           15.631581                  0.006816   \n",
       "tfap2a_control_72                        24.456763                  0.007337   \n",
       "hgfa_control_48                          34.930590                  0.011155   \n",
       "tfap2a_foxd3_72                          32.852069                  0.007775   \n",
       "\n",
       "                   ...  e_distance_hypochord  mmd_hypochord  div_10_hypochord  \\\n",
       "zc4h2_control_24   ...                   NaN            NaN               NaN   \n",
       "met_control_36     ...                   NaN            NaN               NaN   \n",
       "tfap2a_control_72  ...                   NaN            NaN               NaN   \n",
       "hgfa_control_48    ...                   NaN            NaN               NaN   \n",
       "tfap2a_foxd3_72    ...                   NaN            NaN               NaN   \n",
       "\n",
       "                   div_100_hypochord  r_squared_hypophysis/locus coeruleus  \\\n",
       "zc4h2_control_24                 NaN                                   NaN   \n",
       "met_control_36                   NaN                                   NaN   \n",
       "tfap2a_control_72                NaN                                   NaN   \n",
       "hgfa_control_48                  NaN                                   NaN   \n",
       "tfap2a_foxd3_72                  NaN                                   NaN   \n",
       "\n",
       "                   e_distance_hypophysis/locus coeruleus  \\\n",
       "zc4h2_control_24                                     NaN   \n",
       "met_control_36                                       NaN   \n",
       "tfap2a_control_72                                    NaN   \n",
       "hgfa_control_48                                      NaN   \n",
       "tfap2a_foxd3_72                                      NaN   \n",
       "\n",
       "                   mmd_hypophysis/locus coeruleus  \\\n",
       "zc4h2_control_24                              NaN   \n",
       "met_control_36                                NaN   \n",
       "tfap2a_control_72                             NaN   \n",
       "hgfa_control_48                               NaN   \n",
       "tfap2a_foxd3_72                               NaN   \n",
       "\n",
       "                   div_10_hypophysis/locus coeruleus  \\\n",
       "zc4h2_control_24                                 NaN   \n",
       "met_control_36                                   NaN   \n",
       "tfap2a_control_72                                NaN   \n",
       "hgfa_control_48                                  NaN   \n",
       "tfap2a_foxd3_72                                  NaN   \n",
       "\n",
       "                   div_100_hypophysis/locus coeruleus  model  \n",
       "zc4h2_control_24                                  NaN     id  \n",
       "met_control_36                                    NaN     id  \n",
       "tfap2a_control_72                                 NaN     id  \n",
       "hgfa_control_48                                   NaN     id  \n",
       "tfap2a_foxd3_72                                   NaN     id  \n",
       "\n",
       "[5 rows x 484 columns]"
      ]
     },
     "execution_count": 13,
     "metadata": {},
     "output_type": "execute_result"
    }
   ],
   "source": [
    "df.head()"
   ]
  },
  {
   "cell_type": "code",
   "execution_count": 14,
   "id": "89a036af-7741-43a1-b3c5-65dbf944b2ea",
   "metadata": {},
   "outputs": [],
   "source": [
    "df[\"cell_type_accuracy\"] = (2.0 - df[\"cell_type_fraction_error\"])/2.0\n",
    "df = df[[\"cell_type_accuracy\", \"model\"]]\n",
    "df[\"condition\"] = df.index"
   ]
  },
  {
   "cell_type": "code",
   "execution_count": 17,
   "id": "ace5412d-b38d-4695-800b-c3a5e0a474b6",
   "metadata": {},
   "outputs": [],
   "source": [
    "unique_conditions = df[\"condition\"].unique()"
   ]
  },
  {
   "cell_type": "code",
   "execution_count": 20,
   "id": "853f17f5-c031-4702-ba19-8545688f4332",
   "metadata": {},
   "outputs": [
    {
     "data": {
      "text/plain": [
       "array(['id', 'cf', 'same_timepoint', 'same_perturbation'], dtype=object)"
      ]
     },
     "execution_count": 20,
     "metadata": {},
     "output_type": "execute_result"
    }
   ],
   "source": [
    "df[\"model\"].unique()\n"
   ]
  },
  {
   "cell_type": "code",
   "execution_count": 29,
   "id": "29c47e89-21ef-46f0-af15-cf90a5dadeaa",
   "metadata": {},
   "outputs": [],
   "source": [
    "cf_stats = df[df[\"model\"]==\"cf\"][\"cell_type_accuracy\"].values\n",
    "id_stats = df[df[\"model\"]==\"id\"][\"cell_type_accuracy\"].values\n",
    "mean_tp_stats = df[df[\"model\"]==\"same_timepoint\"][\"cell_type_accuracy\"].values\n",
    "mean_p_stats = df[df[\"model\"]==\"same_perturbation\"][\"cell_type_accuracy\"].values"
   ]
  },
  {
   "cell_type": "code",
   "execution_count": 36,
   "id": "b34b01c2-183e-494c-93b3-5e0138a310a9",
   "metadata": {},
   "outputs": [
    {
     "data": {
      "text/plain": [
       "TtestResult(statistic=4.319157654569095, pvalue=2.9482891300033314e-05, df=140.0)"
      ]
     },
     "execution_count": 36,
     "metadata": {},
     "output_type": "execute_result"
    }
   ],
   "source": [
    "ttest_ind(cf_stats, id_stats)"
   ]
  },
  {
   "cell_type": "code",
   "execution_count": 37,
   "id": "d957c96e-35b5-44d6-a883-5600c546bc38",
   "metadata": {},
   "outputs": [
    {
     "data": {
      "text/plain": [
       "TtestResult(statistic=4.319157654569082, pvalue=2.9482891300034893e-05, df=140.0)"
      ]
     },
     "execution_count": 37,
     "metadata": {},
     "output_type": "execute_result"
    }
   ],
   "source": [
    "ttest_ind(cf_stats, mean_tp_stats)"
   ]
  },
  {
   "cell_type": "code",
   "execution_count": 38,
   "id": "f425c55d-2053-4a03-8863-5b7f863e7cb8",
   "metadata": {},
   "outputs": [
    {
     "data": {
      "text/plain": [
       "TtestResult(statistic=13.744824069433273, pvalue=9.525633731151353e-28, df=140.0)"
      ]
     },
     "execution_count": 38,
     "metadata": {},
     "output_type": "execute_result"
    }
   ],
   "source": [
    "ttest_ind(cf_stats, mean_p_stats)"
   ]
  },
  {
   "cell_type": "code",
   "execution_count": 34,
   "id": "0f87de41-bef5-4f4e-a201-f3b5b7d1965a",
   "metadata": {},
   "outputs": [
    {
     "data": {
      "text/plain": [
       "model\n",
       "cf                   0.888987\n",
       "id                   0.850254\n",
       "same_perturbation    0.653641\n",
       "same_timepoint       0.850254\n",
       "Name: cell_type_accuracy, dtype: float64"
      ]
     },
     "execution_count": 34,
     "metadata": {},
     "output_type": "execute_result"
    }
   ],
   "source": [
    "df.groupby(\"model\")[\"cell_type_accuracy\"].mean()"
   ]
  },
  {
   "cell_type": "code",
   "execution_count": null,
   "id": "1f81adcc-868a-4c93-9957-3ed64930c853",
   "metadata": {},
   "outputs": [],
   "source": []
  }
 ],
 "metadata": {
  "kernelspec": {
   "display_name": "cellflow",
   "language": "python",
   "name": "cellflow"
  },
  "language_info": {
   "codemirror_mode": {
    "name": "ipython",
    "version": 3
   },
   "file_extension": ".py",
   "mimetype": "text/x-python",
   "name": "python",
   "nbconvert_exporter": "python",
   "pygments_lexer": "ipython3",
   "version": "3.12.9"
  }
 },
 "nbformat": 4,
 "nbformat_minor": 5
}
