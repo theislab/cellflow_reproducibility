{
 "cells": [
  {
   "cell_type": "code",
   "execution_count": 1,
   "id": "72c17df2-6d8c-47e4-9117-d364ce71f2a1",
   "metadata": {},
   "outputs": [
    {
     "name": "stderr",
     "output_type": "stream",
     "text": [
      "/home/icb/dominik.klein/mambaforge/envs/cfp/lib/python3.11/site-packages/optuna/study/_optimize.py:29: TqdmWarning: IProgress not found. Please update jupyter and ipywidgets. See https://ipywidgets.readthedocs.io/en/stable/user_install.html\n",
      "  from optuna import progress_bar as pbar_module\n"
     ]
    }
   ],
   "source": [
    "import pandas as pd\n",
    "import numpy as np\n",
    "import scanpy as sc\n",
    "import os\n",
    "from sklearn.metrics import r2_score"
   ]
  },
  {
   "cell_type": "code",
   "execution_count": 2,
   "id": "e4039666-37ee-4a4c-bf92-ed6c639c8006",
   "metadata": {},
   "outputs": [],
   "source": [
    "data_dir = \"/lustre/groups/ml01/workspace/cell_flow_zebrafish/results/single_condition/cell_type_proportion\"\n",
    "out_dir = \"/lustre/groups/ml01/workspace/cell_flow_zebrafish/results/single_condition/cell_type_proportion_downstream\""
   ]
  },
  {
   "cell_type": "code",
   "execution_count": 3,
   "id": "778a9438-f771-4919-9714-eac1b1ee0a35",
   "metadata": {},
   "outputs": [],
   "source": [
    "ood_conditions = ['zc4h2_control_24','met_control_36','tfap2a_control_72','hgfa_control_48','tfap2a_foxd3_72','noto_control_18','cdx4_cdx1a_36','epha4a_control_48','mafba_control_36','tbx16_msgn1_24','noto_control_24','smo_control_18','hand2_control_24','noto_control_36','egr2b_control_36','cdx4_control_18','tfap2a_control_36','foxi1_control_72','egr2b_control_24','cdx4_control_36','zc4h2_control_36','hoxb1a_control_48','tfap2a_foxd3_36','tbx16_tbx16l_24','smo_control_36','mafba_control_18','hgfa_control_72','tbx16_control_18','mafba_control_24','tbx1_control_36','zc4h2_control_48','wnt3a_wnt8_36','foxi1_control_48','smo_control_24','noto_control_48','mafba_control_48','tfap2a_control_48','hand2_control_48','egr2b_control_48','phox2a_control_48','tbx1_control_48','tbx16_msgn1_36','foxd3_control_72','wnt3a_wnt8_24','egr2b_control_18','wnt3a_wnt8_18','met_control_72','phox2a_control_36','epha4a_control_24','foxd3_control_36','tfap2a_foxd3_48','hand2_control_36','cdx4_cdx1a_24','hgfa_control_36','tbx16_tbx16l_18','tbxta_control_36','cdx4_control_24','foxd3_control_48','met_control_48','tbx1_control_24','epha4a_control_36','cdx4_cdx1a_18','tbx16_control_36','tbx16_tbx16l_36','tbx16_control_24','tbxta_control_24','tbx16_msgn1_18','epha4a_control_18','tbxta_control_18','hoxb1a_control_36','hoxb1a_control_24']\n",
    "      "
   ]
  },
  {
   "cell_type": "code",
   "execution_count": 4,
   "id": "822ca0e1-f22f-4916-83c3-e04d8154695c",
   "metadata": {},
   "outputs": [],
   "source": [
    "spearman_corrs = {}\n",
    "pearson_corrs = {}\n",
    "dfs = []\n",
    "for ood_cond in ood_conditions:\n",
    "    csv_file = [el for el in os.listdir(data_dir) if ((ood_cond in el) and (\"csv\" in el))]\n",
    "    if len(csv_file)==0:\n",
    "        continue\n",
    "    assert len(csv_file) == 1\n",
    "    df = pd.read_csv(os.path.join(data_dir, csv_file[0]))\n",
    "    spearman_corrs[ood_cond] = df[[\"logratio_true\", \"logratio_pred\"]].corr(\"spearman\").iloc[0,1]\n",
    "    pearson_corrs[ood_cond] = df[[\"logratio_true\", \"logratio_pred\"]].corr(\"pearson\").iloc[0,1]\n",
    "    df[\"condition\"] = f\"{ood_cond}\"\n",
    "    dfs.append(df)"
   ]
  },
  {
   "cell_type": "code",
   "execution_count": 5,
   "id": "863f6174-1edf-4981-ac7d-a6f8c09837f6",
   "metadata": {},
   "outputs": [],
   "source": [
    "df_all = pd.concat(dfs)"
   ]
  },
  {
   "cell_type": "code",
   "execution_count": 6,
   "id": "ed21d465-db6e-4b41-bb85-d5e6b762d7da",
   "metadata": {},
   "outputs": [
    {
     "data": {
      "text/html": [
       "<div>\n",
       "<style scoped>\n",
       "    .dataframe tbody tr th:only-of-type {\n",
       "        vertical-align: middle;\n",
       "    }\n",
       "\n",
       "    .dataframe tbody tr th {\n",
       "        vertical-align: top;\n",
       "    }\n",
       "\n",
       "    .dataframe thead th {\n",
       "        text-align: right;\n",
       "    }\n",
       "</style>\n",
       "<table border=\"1\" class=\"dataframe\">\n",
       "  <thead>\n",
       "    <tr style=\"text-align: right;\">\n",
       "      <th></th>\n",
       "      <th>cell_type_broad_transfer</th>\n",
       "      <th>ratio_pred</th>\n",
       "      <th>ratio_true</th>\n",
       "      <th>logratio_true</th>\n",
       "      <th>logratio_pred</th>\n",
       "      <th>condition</th>\n",
       "    </tr>\n",
       "  </thead>\n",
       "  <tbody>\n",
       "    <tr>\n",
       "      <th>0</th>\n",
       "      <td>periderm</td>\n",
       "      <td>1.182168</td>\n",
       "      <td>1.349712</td>\n",
       "      <td>0.432652</td>\n",
       "      <td>0.241436</td>\n",
       "      <td>zc4h2_control_24</td>\n",
       "    </tr>\n",
       "    <tr>\n",
       "      <th>1</th>\n",
       "      <td>mature fast muscle</td>\n",
       "      <td>1.177825</td>\n",
       "      <td>1.242196</td>\n",
       "      <td>0.312892</td>\n",
       "      <td>0.236125</td>\n",
       "      <td>zc4h2_control_24</td>\n",
       "    </tr>\n",
       "    <tr>\n",
       "      <th>2</th>\n",
       "      <td>connective tissue-meninges-dermal FB</td>\n",
       "      <td>1.046386</td>\n",
       "      <td>0.899433</td>\n",
       "      <td>-0.152912</td>\n",
       "      <td>0.065415</td>\n",
       "      <td>zc4h2_control_24</td>\n",
       "    </tr>\n",
       "    <tr>\n",
       "      <th>3</th>\n",
       "      <td>neural progenitor (hindbrain)</td>\n",
       "      <td>0.864279</td>\n",
       "      <td>0.775667</td>\n",
       "      <td>-0.366491</td>\n",
       "      <td>-0.210431</td>\n",
       "      <td>zc4h2_control_24</td>\n",
       "    </tr>\n",
       "    <tr>\n",
       "      <th>4</th>\n",
       "      <td>mature slow muscle</td>\n",
       "      <td>0.975546</td>\n",
       "      <td>1.205383</td>\n",
       "      <td>0.269492</td>\n",
       "      <td>-0.035718</td>\n",
       "      <td>zc4h2_control_24</td>\n",
       "    </tr>\n",
       "  </tbody>\n",
       "</table>\n",
       "</div>"
      ],
      "text/plain": [
       "               cell_type_broad_transfer  ratio_pred  ratio_true  \\\n",
       "0                              periderm    1.182168    1.349712   \n",
       "1                    mature fast muscle    1.177825    1.242196   \n",
       "2  connective tissue-meninges-dermal FB    1.046386    0.899433   \n",
       "3         neural progenitor (hindbrain)    0.864279    0.775667   \n",
       "4                    mature slow muscle    0.975546    1.205383   \n",
       "\n",
       "   logratio_true  logratio_pred         condition  \n",
       "0       0.432652       0.241436  zc4h2_control_24  \n",
       "1       0.312892       0.236125  zc4h2_control_24  \n",
       "2      -0.152912       0.065415  zc4h2_control_24  \n",
       "3      -0.366491      -0.210431  zc4h2_control_24  \n",
       "4       0.269492      -0.035718  zc4h2_control_24  "
      ]
     },
     "execution_count": 6,
     "metadata": {},
     "output_type": "execute_result"
    }
   ],
   "source": [
    "df_all.head()"
   ]
  },
  {
   "cell_type": "code",
   "execution_count": 7,
   "id": "24410af3-e4ab-4838-9d38-2af1d0707e8a",
   "metadata": {},
   "outputs": [],
   "source": [
    "brain = ['neural progenitor (hindbrain R7/8)',\n",
    " 'neurons (differentiating, contains peripheral)',\n",
    " 'neurons (gabaergic, glutamatergic)',\n",
    " 'neural progenitor (diencephalon/telencephalon)',\n",
    " 'neural progenitor (MHB)',\n",
    " 'neural progenitor (hindbrain)']"
   ]
  },
  {
   "cell_type": "code",
   "execution_count": 12,
   "id": "1f3e58e6-bf6d-4244-b76e-06bbe2984f1c",
   "metadata": {},
   "outputs": [
    {
     "data": {
      "text/html": [
       "<div>\n",
       "<style scoped>\n",
       "    .dataframe tbody tr th:only-of-type {\n",
       "        vertical-align: middle;\n",
       "    }\n",
       "\n",
       "    .dataframe tbody tr th {\n",
       "        vertical-align: top;\n",
       "    }\n",
       "\n",
       "    .dataframe thead th {\n",
       "        text-align: right;\n",
       "    }\n",
       "</style>\n",
       "<table border=\"1\" class=\"dataframe\">\n",
       "  <thead>\n",
       "    <tr style=\"text-align: right;\">\n",
       "      <th></th>\n",
       "      <th>cell_type_broad_transfer</th>\n",
       "      <th>ratio_pred</th>\n",
       "      <th>ratio_true</th>\n",
       "      <th>logratio_true</th>\n",
       "      <th>logratio_pred</th>\n",
       "      <th>condition</th>\n",
       "    </tr>\n",
       "  </thead>\n",
       "  <tbody>\n",
       "    <tr>\n",
       "      <th>0</th>\n",
       "      <td>neural progenitor (hindbrain)</td>\n",
       "      <td>1.100754</td>\n",
       "      <td>1.111592</td>\n",
       "      <td>0.152627</td>\n",
       "      <td>0.138492</td>\n",
       "      <td>cdx4_cdx1a_18</td>\n",
       "    </tr>\n",
       "    <tr>\n",
       "      <th>6</th>\n",
       "      <td>neural progenitor (MHB)</td>\n",
       "      <td>1.060559</td>\n",
       "      <td>1.036124</td>\n",
       "      <td>0.051197</td>\n",
       "      <td>0.084825</td>\n",
       "      <td>cdx4_cdx1a_18</td>\n",
       "    </tr>\n",
       "    <tr>\n",
       "      <th>7</th>\n",
       "      <td>neural progenitor (hindbrain R7/8)</td>\n",
       "      <td>0.856767</td>\n",
       "      <td>0.729594</td>\n",
       "      <td>-0.454835</td>\n",
       "      <td>-0.223026</td>\n",
       "      <td>cdx4_cdx1a_18</td>\n",
       "    </tr>\n",
       "    <tr>\n",
       "      <th>23</th>\n",
       "      <td>neural progenitor (diencephalon/telencephalon)</td>\n",
       "      <td>0.975276</td>\n",
       "      <td>0.838749</td>\n",
       "      <td>-0.253688</td>\n",
       "      <td>-0.036117</td>\n",
       "      <td>cdx4_cdx1a_18</td>\n",
       "    </tr>\n",
       "    <tr>\n",
       "      <th>34</th>\n",
       "      <td>neurons (differentiating, contains peripheral)</td>\n",
       "      <td>0.838329</td>\n",
       "      <td>0.590604</td>\n",
       "      <td>-0.759736</td>\n",
       "      <td>-0.254411</td>\n",
       "      <td>cdx4_cdx1a_18</td>\n",
       "    </tr>\n",
       "    <tr>\n",
       "      <th>56</th>\n",
       "      <td>neurons (gabaergic, glutamatergic)</td>\n",
       "      <td>0.590792</td>\n",
       "      <td>0.256220</td>\n",
       "      <td>-1.964544</td>\n",
       "      <td>-0.759277</td>\n",
       "      <td>cdx4_cdx1a_18</td>\n",
       "    </tr>\n",
       "  </tbody>\n",
       "</table>\n",
       "</div>"
      ],
      "text/plain": [
       "                          cell_type_broad_transfer  ratio_pred  ratio_true  \\\n",
       "0                    neural progenitor (hindbrain)    1.100754    1.111592   \n",
       "6                          neural progenitor (MHB)    1.060559    1.036124   \n",
       "7               neural progenitor (hindbrain R7/8)    0.856767    0.729594   \n",
       "23  neural progenitor (diencephalon/telencephalon)    0.975276    0.838749   \n",
       "34  neurons (differentiating, contains peripheral)    0.838329    0.590604   \n",
       "56              neurons (gabaergic, glutamatergic)    0.590792    0.256220   \n",
       "\n",
       "    logratio_true  logratio_pred      condition  \n",
       "0        0.152627       0.138492  cdx4_cdx1a_18  \n",
       "6        0.051197       0.084825  cdx4_cdx1a_18  \n",
       "7       -0.454835      -0.223026  cdx4_cdx1a_18  \n",
       "23      -0.253688      -0.036117  cdx4_cdx1a_18  \n",
       "34      -0.759736      -0.254411  cdx4_cdx1a_18  \n",
       "56      -1.964544      -0.759277  cdx4_cdx1a_18  "
      ]
     },
     "execution_count": 12,
     "metadata": {},
     "output_type": "execute_result"
    }
   ],
   "source": [
    "df_all[(df_all[\"cell_type_broad_transfer\"].isin(brain)) & (df_all[\"condition\"]==\"cdx4_cdx1a_18\")]"
   ]
  },
  {
   "cell_type": "code",
   "execution_count": null,
   "id": "0bb8fd23-bf4c-4c52-8b2c-da80b1634d2c",
   "metadata": {},
   "outputs": [],
   "source": []
  },
  {
   "cell_type": "code",
   "execution_count": 6,
   "id": "29b9c546-f2e0-49f0-bfcd-671520a9e24e",
   "metadata": {},
   "outputs": [],
   "source": [
    "df_all[\"gene_target\"] = df_all.apply(lambda x: \"_\".join(x[\"condition\"].split(\"_\")[:-1]), axis=1)"
   ]
  },
  {
   "cell_type": "code",
   "execution_count": 7,
   "id": "5088b597-afa2-4a44-a2e1-23c26a7b6c31",
   "metadata": {},
   "outputs": [],
   "source": [
    "cols3 = ['hatching gland', 'floor plate', 'mature fast muscle', 'mature slow muscle', 'notochord', 'fast-committed myocyte (fusing)', 'fast-committed myocyte (pre-fusion)', 'slow-committed myocyte', 'mesodermal progenitor cells (contains PSM)']"
   ]
  },
  {
   "cell_type": "code",
   "execution_count": 8,
   "id": "7a28e34d-e302-4d28-ba81-11fb6ccf07a5",
   "metadata": {},
   "outputs": [],
   "source": [
    "df_red = df_all[(df_all[\"cell_type_broad_transfer\"].isin(cols3)) & (df_all[\"gene_target\"].isin((\"noto_control\", \"tbxta_control\")))]"
   ]
  },
  {
   "cell_type": "code",
   "execution_count": 9,
   "id": "063065c7-8fd0-46f3-9bfd-458366a1398c",
   "metadata": {},
   "outputs": [],
   "source": [
    "df_red_pred = df_red[[\"condition\", \"logratio_pred\", \"cell_type_broad_transfer\", \"gene_target\"]]"
   ]
  },
  {
   "cell_type": "code",
   "execution_count": 10,
   "id": "bba342e1-2b9b-42bb-a310-6f92b22efc94",
   "metadata": {},
   "outputs": [],
   "source": [
    "df_red_true = df_red[[\"condition\", \"logratio_true\", \"cell_type_broad_transfer\", \"gene_target\"]]"
   ]
  },
  {
   "cell_type": "code",
   "execution_count": 11,
   "id": "5e38eac5-4b29-48a0-82a7-f77cb65bd996",
   "metadata": {},
   "outputs": [
    {
     "name": "stderr",
     "output_type": "stream",
     "text": [
      "/tmp/ipykernel_3806735/1652160588.py:1: SettingWithCopyWarning: \n",
      "A value is trying to be set on a copy of a slice from a DataFrame.\n",
      "Try using .loc[row_indexer,col_indexer] = value instead\n",
      "\n",
      "See the caveats in the documentation: https://pandas.pydata.org/pandas-docs/stable/user_guide/indexing.html#returning-a-view-versus-a-copy\n",
      "  df_red_true[\"logratio_true_sign\"] = df_red_true[\"logratio_true\"] > 0\n",
      "/tmp/ipykernel_3806735/1652160588.py:2: SettingWithCopyWarning: \n",
      "A value is trying to be set on a copy of a slice from a DataFrame.\n",
      "Try using .loc[row_indexer,col_indexer] = value instead\n",
      "\n",
      "See the caveats in the documentation: https://pandas.pydata.org/pandas-docs/stable/user_guide/indexing.html#returning-a-view-versus-a-copy\n",
      "  df_red_pred[\"logratio_pred_sign\"] = df_red_pred[\"logratio_pred\"] > 0\n"
     ]
    }
   ],
   "source": [
    "df_red_true[\"logratio_true_sign\"] = df_red_true[\"logratio_true\"] > 0 \n",
    "df_red_pred[\"logratio_pred_sign\"] = df_red_pred[\"logratio_pred\"] > 0 "
   ]
  },
  {
   "cell_type": "code",
   "execution_count": 12,
   "id": "acceb21b-542d-4879-b4be-0a6ea9ca1874",
   "metadata": {},
   "outputs": [],
   "source": [
    "df_red_true.to_csv(\"/home/icb/dominik.klein/tmp/df_red_true.csv\")\n",
    "df_red_pred.to_csv(\"/home/icb/dominik.klein/tmp/df_red_pred.csv\")"
   ]
  },
  {
   "cell_type": "code",
   "execution_count": 29,
   "id": "f4552b5a-58e1-4cf3-99bd-bc9f30c922db",
   "metadata": {},
   "outputs": [],
   "source": [
    "df_spearman_between_cell_types = pd.DataFrame.from_dict(spearman_corrs, orient=\"index\", columns=[\"condition\"])\n",
    "df_pearson_between_cell_types = pd.DataFrame.from_dict(pearson_corrs, orient=\"index\", columns=[\"condition\"])\n",
    "df_spearman_between_cell_types[\"spearman_correlation\"] = df_spearman_between_cell_types[\"condition\"]\n",
    "df_spearman_between_cell_types[\"condition\"] = df_spearman_between_cell_types.index\n",
    "df_pearson_between_cell_types[\"pearson_correlation\"] = df_pearson_between_cell_types[\"condition\"]\n",
    "df_pearson_between_cell_types[\"condition\"] = df_pearson_between_cell_types.index\n",
    "df_spearman_between_cell_types.to_csv(os.path.join(out_dir, \"spearman_between_cell_types.csv\"))\n",
    "df_pearson_between_cell_types.to_csv(os.path.join(out_dir, \"pearson_between_cell_types.csv\"))"
   ]
  },
  {
   "cell_type": "code",
   "execution_count": 14,
   "id": "b0978c14-a37b-4b2e-95ba-2be8dc552c24",
   "metadata": {},
   "outputs": [],
   "source": [
    "df_pearson_between_conditions = pd.DataFrame(df_all.groupby([\"cell_type_broad_transfer\"])[[\"logratio_true\", \"logratio_pred\"]].apply(lambda x: x.corr(\"pearson\").iloc[0,1]), columns=[\"pearson_correlation\"])\n",
    "df_spearman_between_conditions = pd.DataFrame(df_all.groupby([\"cell_type_broad_transfer\"])[[\"logratio_true\", \"logratio_pred\"]].apply(lambda x: x.corr(\"spearman\").iloc[0,1]), columns=[\"spearman_correlation\"])\n",
    "df_spearman_between_conditions.to_csv(os.path.join(out_dir, \"spearman_between_conditions.csv\"))\n",
    "df_pearson_between_conditions.to_csv(os.path.join(out_dir, \"pearson_between_conditions.csv\"))                   "
   ]
  },
  {
   "cell_type": "code",
   "execution_count": 15,
   "id": "ddaf560c-484d-4580-8c49-247e4508b41d",
   "metadata": {},
   "outputs": [
    {
     "data": {
      "text/html": [
       "<div>\n",
       "<style scoped>\n",
       "    .dataframe tbody tr th:only-of-type {\n",
       "        vertical-align: middle;\n",
       "    }\n",
       "\n",
       "    .dataframe tbody tr th {\n",
       "        vertical-align: top;\n",
       "    }\n",
       "\n",
       "    .dataframe thead th {\n",
       "        text-align: right;\n",
       "    }\n",
       "</style>\n",
       "<table border=\"1\" class=\"dataframe\">\n",
       "  <thead>\n",
       "    <tr style=\"text-align: right;\">\n",
       "      <th></th>\n",
       "      <th>cell_type_broad_transfer</th>\n",
       "      <th>ratio_pred</th>\n",
       "      <th>ratio_true</th>\n",
       "      <th>logratio_true</th>\n",
       "      <th>logratio_pred</th>\n",
       "      <th>condition</th>\n",
       "      <th>gene_target</th>\n",
       "    </tr>\n",
       "  </thead>\n",
       "  <tbody>\n",
       "    <tr>\n",
       "      <th>12</th>\n",
       "      <td>notochord</td>\n",
       "      <td>1.186926</td>\n",
       "      <td>1.099299</td>\n",
       "      <td>0.136583</td>\n",
       "      <td>0.247230</td>\n",
       "      <td>zc4h2_control_24</td>\n",
       "      <td>zc4h2_control</td>\n",
       "    </tr>\n",
       "    <tr>\n",
       "      <th>9</th>\n",
       "      <td>notochord</td>\n",
       "      <td>0.915847</td>\n",
       "      <td>0.464376</td>\n",
       "      <td>-1.106635</td>\n",
       "      <td>-0.126822</td>\n",
       "      <td>met_control_36</td>\n",
       "      <td>met_control</td>\n",
       "    </tr>\n",
       "    <tr>\n",
       "      <th>13</th>\n",
       "      <td>notochord</td>\n",
       "      <td>0.887887</td>\n",
       "      <td>1.380803</td>\n",
       "      <td>0.465508</td>\n",
       "      <td>-0.171553</td>\n",
       "      <td>tfap2a_control_72</td>\n",
       "      <td>tfap2a_control</td>\n",
       "    </tr>\n",
       "    <tr>\n",
       "      <th>17</th>\n",
       "      <td>notochord</td>\n",
       "      <td>0.803582</td>\n",
       "      <td>1.177119</td>\n",
       "      <td>0.235260</td>\n",
       "      <td>-0.315483</td>\n",
       "      <td>hgfa_control_48</td>\n",
       "      <td>hgfa_control</td>\n",
       "    </tr>\n",
       "    <tr>\n",
       "      <th>13</th>\n",
       "      <td>notochord</td>\n",
       "      <td>0.928420</td>\n",
       "      <td>0.858886</td>\n",
       "      <td>-0.219461</td>\n",
       "      <td>-0.107150</td>\n",
       "      <td>tfap2a_foxd3_72</td>\n",
       "      <td>tfap2a_foxd3</td>\n",
       "    </tr>\n",
       "  </tbody>\n",
       "</table>\n",
       "</div>"
      ],
      "text/plain": [
       "   cell_type_broad_transfer  ratio_pred  ratio_true  logratio_true  \\\n",
       "12                notochord    1.186926    1.099299       0.136583   \n",
       "9                 notochord    0.915847    0.464376      -1.106635   \n",
       "13                notochord    0.887887    1.380803       0.465508   \n",
       "17                notochord    0.803582    1.177119       0.235260   \n",
       "13                notochord    0.928420    0.858886      -0.219461   \n",
       "\n",
       "    logratio_pred          condition     gene_target  \n",
       "12       0.247230   zc4h2_control_24   zc4h2_control  \n",
       "9       -0.126822     met_control_36     met_control  \n",
       "13      -0.171553  tfap2a_control_72  tfap2a_control  \n",
       "17      -0.315483    hgfa_control_48    hgfa_control  \n",
       "13      -0.107150    tfap2a_foxd3_72    tfap2a_foxd3  "
      ]
     },
     "execution_count": 15,
     "metadata": {},
     "output_type": "execute_result"
    }
   ],
   "source": [
    "df_noto = df_all[df_all[\"cell_type_broad_transfer\"]==\"notochord\"]\n",
    "df_noto.head()"
   ]
  },
  {
   "cell_type": "code",
   "execution_count": 17,
   "id": "ab4106e3-9c49-4172-a3b3-714ac806675f",
   "metadata": {},
   "outputs": [
    {
     "data": {
      "image/png": "[encoded data removed]",
      "text/plain": [
       "<Figure size 640x480 with 1 Axes>"
      ]
     },
     "metadata": {},
     "output_type": "display_data"
    }
   ],
   "source": [
    "\n",
    "import matplotlib.pyplot as plt\n",
    "import seaborn as sns\n",
    "\n",
    "# Example scatterplot\n",
    "sns.scatterplot(df_noto, x=\"logratio_true\", y=\"logratio_pred\")\n",
    "\n",
    "# Get the axis limits\n",
    "x_min, x_max = plt.gca().get_xlim()\n",
    "y_min, y_max = plt.gca().get_ylim()\n",
    "\n",
    "# Determine the range for the diagonal line\n",
    "line_min = min(x_min, y_min)\n",
    "line_max = max(x_max, y_max)\n",
    "\n",
    "# Draw the diagonal line\n",
    "plt.plot([line_min, line_max], [line_min, line_max], color=\"red\", linestyle=\"--\", label=\"x = y\")\n",
    "\n",
    "# Optional: Add a legend\n",
    "plt.legend()\n",
    "\n",
    "# Show the plot\n",
    "plt.show()\n"
   ]
  },
  {
   "cell_type": "code",
   "execution_count": 18,
   "id": "56106fa7-180a-4f2a-9d18-faac7dc33c17",
   "metadata": {},
   "outputs": [],
   "source": [
    "df_mus_fast = df_all[df_all[\"cell_type_broad_transfer\"]==\"mature fast muscle\"]"
   ]
  },
  {
   "cell_type": "code",
   "execution_count": 19,
   "id": "d673cb3f-3483-4f4a-9ce7-4a97145c42aa",
   "metadata": {},
   "outputs": [
    {
     "data": {
      "image/png": "[encoded data removed]",
      "text/plain": [
       "<Figure size 640x480 with 1 Axes>"
      ]
     },
     "metadata": {},
     "output_type": "display_data"
    }
   ],
   "source": [
    "\n",
    "import matplotlib.pyplot as plt\n",
    "import seaborn as sns\n",
    "\n",
    "# Example scatterplot\n",
    "sns.scatterplot(df_mus_fast, x=\"logratio_true\", y=\"logratio_pred\")\n",
    "\n",
    "# Get the axis limits\n",
    "x_min, x_max = plt.gca().get_xlim()\n",
    "y_min, y_max = plt.gca().get_ylim()\n",
    "\n",
    "# Determine the range for the diagonal line\n",
    "line_min = min(x_min, y_min)\n",
    "line_max = max(x_max, y_max)\n",
    "\n",
    "# Draw the diagonal line\n",
    "plt.plot([line_min, line_max], [line_min, line_max], color=\"red\", linestyle=\"--\", label=\"x = y\")\n",
    "\n",
    "# Optional: Add a legend\n",
    "plt.legend()\n",
    "\n",
    "# Show the plot\n",
    "plt.show()\n"
   ]
  },
  {
   "cell_type": "code",
   "execution_count": null,
   "id": "1fdec62d-3b96-4915-84f3-cad010b58d71",
   "metadata": {},
   "outputs": [],
   "source": []
  },
  {
   "cell_type": "code",
   "execution_count": 20,
   "id": "7a35e36b-0e87-4ee3-a18a-1d1d4b7cc8ea",
   "metadata": {},
   "outputs": [],
   "source": [
    "df_mus_slow = df_all[df_all[\"cell_type_broad_transfer\"]==\"mature slow muscle\"]"
   ]
  },
  {
   "cell_type": "code",
   "execution_count": 21,
   "id": "1033e18f-0493-4fb6-baa6-7ae126a66823",
   "metadata": {},
   "outputs": [
    {
     "data": {
      "image/png": "[encoded data removed]",
      "text/plain": [
       "<Figure size 640x480 with 1 Axes>"
      ]
     },
     "metadata": {},
     "output_type": "display_data"
    }
   ],
   "source": [
    "\n",
    "import matplotlib.pyplot as plt\n",
    "import seaborn as sns\n",
    "\n",
    "# Example scatterplot\n",
    "sns.scatterplot(df_mus_slow, x=\"logratio_true\", y=\"logratio_pred\")\n",
    "\n",
    "# Get the axis limits\n",
    "x_min, x_max = plt.gca().get_xlim()\n",
    "y_min, y_max = plt.gca().get_ylim()\n",
    "\n",
    "# Determine the range for the diagonal line\n",
    "line_min = min(x_min, y_min)\n",
    "line_max = max(x_max, y_max)\n",
    "\n",
    "# Draw the diagonal line\n",
    "plt.plot([line_min, line_max], [line_min, line_max], color=\"red\", linestyle=\"--\", label=\"x = y\")\n",
    "\n",
    "# Optional: Add a legend\n",
    "plt.legend()\n",
    "\n",
    "# Show the plot\n",
    "plt.show()\n"
   ]
  },
  {
   "cell_type": "code",
   "execution_count": 22,
   "id": "db9cd78a-44ae-4347-9e4e-8120aedc51fb",
   "metadata": {},
   "outputs": [
    {
     "data": {
      "text/plain": [
       "spearman_correlation    0.719741\n",
       "Name: mature fast muscle, dtype: float64"
      ]
     },
     "execution_count": 22,
     "metadata": {},
     "output_type": "execute_result"
    }
   ],
   "source": [
    "df_spearman_between_conditions.loc[\"mature fast muscle\"]"
   ]
  },
  {
   "cell_type": "code",
   "execution_count": 23,
   "id": "ee59b7ff-dc72-4859-9683-bfeea36a0a84",
   "metadata": {},
   "outputs": [
    {
     "data": {
      "text/plain": [
       "spearman_correlation    0.818243\n",
       "Name: mature slow muscle, dtype: float64"
      ]
     },
     "execution_count": 23,
     "metadata": {},
     "output_type": "execute_result"
    }
   ],
   "source": [
    "df_spearman_between_conditions.loc[\"mature slow muscle\"]"
   ]
  },
  {
   "cell_type": "code",
   "execution_count": 24,
   "id": "ed9e0f68-da85-4084-8eaa-8c64ecca422e",
   "metadata": {},
   "outputs": [
    {
     "data": {
      "text/plain": [
       "spearman_correlation    0.560532\n",
       "Name: notochord, dtype: float64"
      ]
     },
     "execution_count": 24,
     "metadata": {},
     "output_type": "execute_result"
    }
   ],
   "source": [
    "df_spearman_between_conditions.loc[\"notochord\"]"
   ]
  },
  {
   "cell_type": "code",
   "execution_count": 26,
   "id": "25062f7e-71f8-469e-8f93-c364e4794982",
   "metadata": {},
   "outputs": [],
   "source": [
    "df_noto.to_csv(os.path.join(out_dir, \"notochord_between_conditions.csv\"))\n",
    "df_mus_fast.to_csv(os.path.join(out_dir, \"fast_muscle_between_conditions.csv\"))\n",
    "df_mus_slow.to_csv(os.path.join(out_dir, \"slow_muscle_between_conditions.csv\"))"
   ]
  },
  {
   "cell_type": "code",
   "execution_count": null,
   "id": "7a29608d-a9fc-4b1d-afab-51ed1c3f4bce",
   "metadata": {},
   "outputs": [],
   "source": []
  }
 ],
 "metadata": {
  "kernelspec": {
   "display_name": "cfp",
   "language": "python",
   "name": "cfp"
  },
  "language_info": {
   "codemirror_mode": {
    "name": "ipython",
    "version": 3
   },
   "file_extension": ".py",
   "mimetype": "text/x-python",
   "name": "python",
   "nbconvert_exporter": "python",
   "pygments_lexer": "ipython3",
   "version": "3.11.9"
  }
 },
 "nbformat": 4,
 "nbformat_minor": 5
}
