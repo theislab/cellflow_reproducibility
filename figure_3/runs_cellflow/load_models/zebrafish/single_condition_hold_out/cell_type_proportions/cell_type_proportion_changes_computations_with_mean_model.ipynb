{
 "cells": [
  {
   "cell_type": "code",
   "execution_count": 1,
   "id": "72c17df2-6d8c-47e4-9117-d364ce71f2a1",
   "metadata": {},
   "outputs": [
    {
     "name": "stderr",
     "output_type": "stream",
     "text": [
      "/home/icb/dominik.klein/mambaforge/envs/cfp/lib/python3.11/site-packages/optuna/study/_optimize.py:29: TqdmWarning: IProgress not found. Please update jupyter and ipywidgets. See https://ipywidgets.readthedocs.io/en/stable/user_install.html\n",
      "  from optuna import progress_bar as pbar_module\n"
     ]
    }
   ],
   "source": [
    "import pandas as pd\n",
    "import numpy as np\n",
    "import scanpy as sc\n",
    "import os\n",
    "from sklearn.metrics import r2_score\n",
    "import matplotlib.pyplot as plt\n",
    "import matplotlib.cm as cm\n",
    "import matplotlib.colors as mcolors\n",
    "import numpy as np\n",
    "import matplotlib.pyplot as plt\n",
    "import seaborn as sns\n",
    "import numpy as np"
   ]
  },
  {
   "cell_type": "code",
   "execution_count": 2,
   "id": "e4039666-37ee-4a4c-bf92-ed6c639c8006",
   "metadata": {},
   "outputs": [],
   "source": [
    "data_dir = \"/lustre/groups/ml01/workspace/cell_flow_zebrafish/results/single_condition/cell_type_proportion\"\n",
    "output_dir = \"/lustre/groups/ml01/workspace/cell_flow_zebrafish/results/single_condition/cell_type_proportion_downstream\""
   ]
  },
  {
   "cell_type": "code",
   "execution_count": 3,
   "id": "37a21c3c-30d4-472f-a868-887aa5ca990c",
   "metadata": {},
   "outputs": [],
   "source": [
    "\n",
    "adata = sc.read_h5ad(\"/lustre/groups/ml01/workspace/ot_perturbation/data/zebrafish_new/zebrafish_processed.h5ad\")"
   ]
  },
  {
   "cell_type": "code",
   "execution_count": 4,
   "id": "7c6ac217-1a9c-4f2e-9f0d-e4542c49cb90",
   "metadata": {},
   "outputs": [
    {
     "name": "stderr",
     "output_type": "stream",
     "text": [
      "/tmp/ipykernel_1925910/2853154197.py:1: FutureWarning: The default of observed=False is deprecated and will be changed to True in a future version of pandas. Pass observed=False to retain current behavior or observed=True to adopt the future default and silence this warning.\n",
      "  df_counts = adata.obs.groupby([\"condition\",\"cell_type_broad\"]).size().to_frame(name=\"n_cells\")\n"
     ]
    }
   ],
   "source": [
    "df_counts = adata.obs.groupby([\"condition\",\"cell_type_broad\"]).size().to_frame(name=\"n_cells\")\n"
   ]
  },
  {
   "cell_type": "code",
   "execution_count": 5,
   "id": "b0476e8d-6a78-49ca-8ee2-469eb097a6ac",
   "metadata": {},
   "outputs": [],
   "source": [
    "df_counts = df_counts.reset_index()"
   ]
  },
  {
   "cell_type": "code",
   "execution_count": 6,
   "id": "778a9438-f771-4919-9714-eac1b1ee0a35",
   "metadata": {},
   "outputs": [],
   "source": [
    "ood_conditions = ['zc4h2_control_24','met_control_36','tfap2a_control_72','hgfa_control_48','tfap2a_foxd3_72','noto_control_18','cdx4_cdx1a_36','epha4a_control_48','mafba_control_36','tbx16_msgn1_24','noto_control_24','smo_control_18','hand2_control_24','noto_control_36','egr2b_control_36','cdx4_control_18','tfap2a_control_36','foxi1_control_72','egr2b_control_24','cdx4_control_36','zc4h2_control_36','hoxb1a_control_48','tfap2a_foxd3_36','tbx16_tbx16l_24','smo_control_36','mafba_control_18','hgfa_control_72','tbx16_control_18','mafba_control_24','tbx1_control_36','zc4h2_control_48','wnt3a_wnt8_36','foxi1_control_48','smo_control_24','noto_control_48','mafba_control_48','tfap2a_control_48','hand2_control_48','egr2b_control_48','phox2a_control_48','tbx1_control_48','tbx16_msgn1_36','foxd3_control_72','wnt3a_wnt8_24','egr2b_control_18','wnt3a_wnt8_18','met_control_72','phox2a_control_36','epha4a_control_24','foxd3_control_36','tfap2a_foxd3_48','hand2_control_36','cdx4_cdx1a_24','hgfa_control_36','tbx16_tbx16l_18','tbxta_control_36','cdx4_control_24','foxd3_control_48','met_control_48','tbx1_control_24','epha4a_control_36','cdx4_cdx1a_18','tbx16_control_36','tbx16_tbx16l_36','tbx16_control_24','tbxta_control_24','tbx16_msgn1_18','epha4a_control_18','tbxta_control_18','hoxb1a_control_36','hoxb1a_control_24']\n",
    "      "
   ]
  },
  {
   "cell_type": "code",
   "execution_count": 7,
   "id": "822ca0e1-f22f-4916-83c3-e04d8154695c",
   "metadata": {},
   "outputs": [],
   "source": [
    "spearman_corrs = {}\n",
    "pearson_corrs = {}\n",
    "max_logratios = {}\n",
    "dfs = []\n",
    "for ood_cond in ood_conditions:\n",
    "    csv_file = [el for el in os.listdir(data_dir) if ((ood_cond in el) and (\"csv\" in el))]\n",
    "    if len(csv_file)==0:\n",
    "        continue\n",
    "    assert len(csv_file) == 1\n",
    "    df = pd.read_csv(os.path.join(data_dir, csv_file[0]))\n",
    "    spearman_corrs[ood_cond] = df[[\"logratio_true\", \"logratio_pred\"]].corr(\"spearman\").iloc[0,1]\n",
    "    pearson_corrs[ood_cond] = df[[\"logratio_true\", \"logratio_pred\"]].corr(\"pearson\").iloc[0,1]\n",
    "    max_logratios[ood_cond] = np.abs(df[\"logratio_true\"]).max()\n",
    "    df[\"condition\"] = f\"{ood_cond}\"\n",
    "    dfs.append(df)"
   ]
  },
  {
   "cell_type": "code",
   "execution_count": 8,
   "id": "863f6174-1edf-4981-ac7d-a6f8c09837f6",
   "metadata": {},
   "outputs": [],
   "source": [
    "df_pred = pd.concat(dfs)\n",
    "df_pred[\"gene_target\"] = df_pred.apply(lambda x: \"_\".join(x[\"condition\"].split(\"_\")[:2]), axis=1)\n",
    "df_pred[\"timepoint\"] = df_pred.apply(lambda x: int(x[\"condition\"].split(\"_\")[-1]), axis=1)"
   ]
  },
  {
   "cell_type": "code",
   "execution_count": 9,
   "id": "f993a437-a155-4c39-a687-234d38637f55",
   "metadata": {},
   "outputs": [
    {
     "data": {
      "text/html": [
       "<div>\n",
       "<style scoped>\n",
       "    .dataframe tbody tr th:only-of-type {\n",
       "        vertical-align: middle;\n",
       "    }\n",
       "\n",
       "    .dataframe tbody tr th {\n",
       "        vertical-align: top;\n",
       "    }\n",
       "\n",
       "    .dataframe thead th {\n",
       "        text-align: right;\n",
       "    }\n",
       "</style>\n",
       "<table border=\"1\" class=\"dataframe\">\n",
       "  <thead>\n",
       "    <tr style=\"text-align: right;\">\n",
       "      <th></th>\n",
       "      <th>cell_type_broad_transfer</th>\n",
       "      <th>ratio_pred</th>\n",
       "      <th>ratio_true</th>\n",
       "      <th>logratio_true</th>\n",
       "      <th>logratio_pred</th>\n",
       "      <th>condition</th>\n",
       "      <th>gene_target</th>\n",
       "      <th>timepoint</th>\n",
       "    </tr>\n",
       "  </thead>\n",
       "  <tbody>\n",
       "    <tr>\n",
       "      <th>0</th>\n",
       "      <td>periderm</td>\n",
       "      <td>1.182168</td>\n",
       "      <td>1.349712</td>\n",
       "      <td>0.432652</td>\n",
       "      <td>0.241436</td>\n",
       "      <td>zc4h2_control_24</td>\n",
       "      <td>zc4h2_control</td>\n",
       "      <td>24</td>\n",
       "    </tr>\n",
       "    <tr>\n",
       "      <th>1</th>\n",
       "      <td>mature fast muscle</td>\n",
       "      <td>1.177825</td>\n",
       "      <td>1.242196</td>\n",
       "      <td>0.312892</td>\n",
       "      <td>0.236125</td>\n",
       "      <td>zc4h2_control_24</td>\n",
       "      <td>zc4h2_control</td>\n",
       "      <td>24</td>\n",
       "    </tr>\n",
       "    <tr>\n",
       "      <th>2</th>\n",
       "      <td>connective tissue-meninges-dermal FB</td>\n",
       "      <td>1.046386</td>\n",
       "      <td>0.899433</td>\n",
       "      <td>-0.152912</td>\n",
       "      <td>0.065415</td>\n",
       "      <td>zc4h2_control_24</td>\n",
       "      <td>zc4h2_control</td>\n",
       "      <td>24</td>\n",
       "    </tr>\n",
       "    <tr>\n",
       "      <th>3</th>\n",
       "      <td>neural progenitor (hindbrain)</td>\n",
       "      <td>0.864279</td>\n",
       "      <td>0.775667</td>\n",
       "      <td>-0.366491</td>\n",
       "      <td>-0.210431</td>\n",
       "      <td>zc4h2_control_24</td>\n",
       "      <td>zc4h2_control</td>\n",
       "      <td>24</td>\n",
       "    </tr>\n",
       "    <tr>\n",
       "      <th>4</th>\n",
       "      <td>mature slow muscle</td>\n",
       "      <td>0.975546</td>\n",
       "      <td>1.205383</td>\n",
       "      <td>0.269492</td>\n",
       "      <td>-0.035718</td>\n",
       "      <td>zc4h2_control_24</td>\n",
       "      <td>zc4h2_control</td>\n",
       "      <td>24</td>\n",
       "    </tr>\n",
       "  </tbody>\n",
       "</table>\n",
       "</div>"
      ],
      "text/plain": [
       "               cell_type_broad_transfer  ratio_pred  ratio_true  \\\n",
       "0                              periderm    1.182168    1.349712   \n",
       "1                    mature fast muscle    1.177825    1.242196   \n",
       "2  connective tissue-meninges-dermal FB    1.046386    0.899433   \n",
       "3         neural progenitor (hindbrain)    0.864279    0.775667   \n",
       "4                    mature slow muscle    0.975546    1.205383   \n",
       "\n",
       "   logratio_true  logratio_pred         condition    gene_target  timepoint  \n",
       "0       0.432652       0.241436  zc4h2_control_24  zc4h2_control         24  \n",
       "1       0.312892       0.236125  zc4h2_control_24  zc4h2_control         24  \n",
       "2      -0.152912       0.065415  zc4h2_control_24  zc4h2_control         24  \n",
       "3      -0.366491      -0.210431  zc4h2_control_24  zc4h2_control         24  \n",
       "4       0.269492      -0.035718  zc4h2_control_24  zc4h2_control         24  "
      ]
     },
     "execution_count": 9,
     "metadata": {},
     "output_type": "execute_result"
    }
   ],
   "source": [
    "df_pred.head()"
   ]
  },
  {
   "cell_type": "code",
   "execution_count": 10,
   "id": "71d704ea-4f8d-4195-839d-4c52428421cd",
   "metadata": {},
   "outputs": [],
   "source": [
    "df_baseline = pd.read_csv(\"/lustre/groups/ml01/workspace/cell_flow_zebrafish/results/single_condition/cell_type_proportion_baseline/all_single_oligo_ratios.csv\", index_col=0)\n"
   ]
  },
  {
   "cell_type": "code",
   "execution_count": 11,
   "id": "4785f527-b70b-4a49-a000-620a4b3aa0e8",
   "metadata": {},
   "outputs": [],
   "source": [
    "df_baseline[\"cell_type_broad_transfer\"] = df_baseline.index\n",
    "df_baseline = df_baseline.rename(columns={\"logratio_oligo\": \"logratio_pred\", \"ratio_olgo\": \"logratio_pred\"})\n",
    "df_baseline[\"mode\"] = \"single_oligo\"\n",
    "df_pred[\"mode\"] = \"CellFlow\""
   ]
  },
  {
   "cell_type": "code",
   "execution_count": null,
   "id": "5c1391c4-0b60-4c6e-85dc-817bd37f700b",
   "metadata": {},
   "outputs": [],
   "source": []
  },
  {
   "cell_type": "code",
   "execution_count": 23,
   "id": "03ddad60-1678-4eba-a1b6-83c44e90e0ab",
   "metadata": {},
   "outputs": [],
   "source": [
    "spearman_corrs = {}\n",
    "pearson_corrs = {}\n",
    "max_logratios = {}\n",
    "dfs = []\n",
    "for ood_cond in ood_conditions:\n",
    "    csv_file = [el for el in os.listdir(data_dir) if ((ood_cond in el) and (\"csv\" in el))]\n",
    "    if len(csv_file)==0:\n",
    "        continue\n",
    "    assert len(csv_file) == 1\n",
    "    df = pd.read_csv(os.path.join(\"/lustre/groups/ml01/workspace/cell_flow_zebrafish/results/single_condition/cell_type_proportion_mean_model\", csv_file[0]))\n",
    "    spearman_corrs[ood_cond] = df[[\"logratio_true\", \"logratio_pred\"]].corr(\"spearman\").iloc[0,1]\n",
    "    pearson_corrs[ood_cond] = df[[\"logratio_true\", \"logratio_pred\"]].corr(\"pearson\").iloc[0,1]\n",
    "    max_logratios[ood_cond] = np.abs(df[\"logratio_true\"]).max()\n",
    "    df[\"condition\"] = f\"{ood_cond}\"\n",
    "    dfs.append(df)\n",
    "df_mean = pd.concat(dfs)\n",
    "df_mean[\"gene_target\"] = df_mean.apply(lambda x: \"_\".join(x[\"condition\"].split(\"_\")[:2]), axis=1)\n",
    "df_mean[\"timepoint\"] = df_mean.apply(lambda x: int(x[\"condition\"].split(\"_\")[-1]), axis=1)"
   ]
  },
  {
   "cell_type": "code",
   "execution_count": 24,
   "id": "7766d46c-2052-49de-ac89-63d777d35059",
   "metadata": {},
   "outputs": [
    {
     "data": {
      "text/html": [
       "<div>\n",
       "<style scoped>\n",
       "    .dataframe tbody tr th:only-of-type {\n",
       "        vertical-align: middle;\n",
       "    }\n",
       "\n",
       "    .dataframe tbody tr th {\n",
       "        vertical-align: top;\n",
       "    }\n",
       "\n",
       "    .dataframe thead th {\n",
       "        text-align: right;\n",
       "    }\n",
       "</style>\n",
       "<table border=\"1\" class=\"dataframe\">\n",
       "  <thead>\n",
       "    <tr style=\"text-align: right;\">\n",
       "      <th></th>\n",
       "      <th>cell_type_broad_transfer</th>\n",
       "      <th>ratio_pred</th>\n",
       "      <th>ratio_true</th>\n",
       "      <th>logratio_true</th>\n",
       "      <th>logratio_pred</th>\n",
       "      <th>condition</th>\n",
       "      <th>gene_target</th>\n",
       "      <th>timepoint</th>\n",
       "    </tr>\n",
       "  </thead>\n",
       "  <tbody>\n",
       "    <tr>\n",
       "      <th>0</th>\n",
       "      <td>periderm</td>\n",
       "      <td>0.988935</td>\n",
       "      <td>1.349712</td>\n",
       "      <td>0.432652</td>\n",
       "      <td>-0.016052</td>\n",
       "      <td>zc4h2_control_24</td>\n",
       "      <td>zc4h2_control</td>\n",
       "      <td>24</td>\n",
       "    </tr>\n",
       "    <tr>\n",
       "      <th>1</th>\n",
       "      <td>mature fast muscle</td>\n",
       "      <td>1.022607</td>\n",
       "      <td>1.242196</td>\n",
       "      <td>0.312892</td>\n",
       "      <td>0.032252</td>\n",
       "      <td>zc4h2_control_24</td>\n",
       "      <td>zc4h2_control</td>\n",
       "      <td>24</td>\n",
       "    </tr>\n",
       "    <tr>\n",
       "      <th>2</th>\n",
       "      <td>neural progenitor (hindbrain)</td>\n",
       "      <td>0.985573</td>\n",
       "      <td>0.775667</td>\n",
       "      <td>-0.366491</td>\n",
       "      <td>-0.020965</td>\n",
       "      <td>zc4h2_control_24</td>\n",
       "      <td>zc4h2_control</td>\n",
       "      <td>24</td>\n",
       "    </tr>\n",
       "    <tr>\n",
       "      <th>3</th>\n",
       "      <td>connective tissue-meninges-dermal FB</td>\n",
       "      <td>1.019674</td>\n",
       "      <td>0.899433</td>\n",
       "      <td>-0.152912</td>\n",
       "      <td>0.028109</td>\n",
       "      <td>zc4h2_control_24</td>\n",
       "      <td>zc4h2_control</td>\n",
       "      <td>24</td>\n",
       "    </tr>\n",
       "    <tr>\n",
       "      <th>4</th>\n",
       "      <td>mature slow muscle</td>\n",
       "      <td>1.003983</td>\n",
       "      <td>1.205383</td>\n",
       "      <td>0.269492</td>\n",
       "      <td>0.005735</td>\n",
       "      <td>zc4h2_control_24</td>\n",
       "      <td>zc4h2_control</td>\n",
       "      <td>24</td>\n",
       "    </tr>\n",
       "  </tbody>\n",
       "</table>\n",
       "</div>"
      ],
      "text/plain": [
       "               cell_type_broad_transfer  ratio_pred  ratio_true  \\\n",
       "0                              periderm    0.988935    1.349712   \n",
       "1                    mature fast muscle    1.022607    1.242196   \n",
       "2         neural progenitor (hindbrain)    0.985573    0.775667   \n",
       "3  connective tissue-meninges-dermal FB    1.019674    0.899433   \n",
       "4                    mature slow muscle    1.003983    1.205383   \n",
       "\n",
       "   logratio_true  logratio_pred         condition    gene_target  timepoint  \n",
       "0       0.432652      -0.016052  zc4h2_control_24  zc4h2_control         24  \n",
       "1       0.312892       0.032252  zc4h2_control_24  zc4h2_control         24  \n",
       "2      -0.366491      -0.020965  zc4h2_control_24  zc4h2_control         24  \n",
       "3      -0.152912       0.028109  zc4h2_control_24  zc4h2_control         24  \n",
       "4       0.269492       0.005735  zc4h2_control_24  zc4h2_control         24  "
      ]
     },
     "execution_count": 24,
     "metadata": {},
     "output_type": "execute_result"
    }
   ],
   "source": [
    "df_mean.head()"
   ]
  },
  {
   "cell_type": "code",
   "execution_count": 12,
   "id": "26635fbd-8b22-4ac4-86b7-1eb3ee6db975",
   "metadata": {},
   "outputs": [],
   "source": [
    "df_concat = pd.concat((df_baseline,df_pred))"
   ]
  },
  {
   "cell_type": "code",
   "execution_count": 26,
   "id": "40ba49c6-f9c3-4a03-9204-078ead60c831",
   "metadata": {},
   "outputs": [],
   "source": [
    "df_corrs_conditions = pd.DataFrame(columns=[\"cell_type_broad\", \"pearson\", \"spearman\", \"method\", \"n_cells_mean\", \"n_cells_var\"])\n",
    "\n",
    "i=0\n",
    "\n",
    "\n",
    "for cell_type in adata.obs[\"cell_type_broad\"].unique():\n",
    "    df_pred_red = df_pred[(df_pred[\"cell_type_broad_transfer\"]==cell_type) & (df_pred[\"gene_target\"]!=\"control_control\")]\n",
    "    df_baseline_red = df_baseline[(df_baseline[\"cell_type_broad_transfer\"]==cell_type) & (df_baseline[\"gene_target\"]!=\"control_control\")]\n",
    "    df_mean_red = df_mean[(df_mean[\"cell_type_broad_transfer\"]==cell_type) & (df_mean[\"gene_target\"]!=\"control_control\")]\n",
    "    pearson_pred = df_pred_red[[\"logratio_true\", \"logratio_pred\"]].corr(method=\"pearson\").iloc[0,1]\n",
    "    pearson_baseline = df_baseline_red[[\"logratio_true\", \"logratio_pred\"]].corr(method=\"pearson\").iloc[0,1]\n",
    "    pearson_mean = df_mean_red[[\"logratio_true\", \"logratio_pred\"]].corr(method=\"pearson\").iloc[0,1]\n",
    "    spearman_pred = df_pred_red[[\"logratio_true\", \"logratio_pred\"]].corr(method=\"spearman\").iloc[0,1]\n",
    "    spearman_baseline = df_baseline_red[[\"logratio_true\", \"logratio_pred\"]].corr(method=\"spearman\").iloc[0,1]\n",
    "    spearman_mean = df_mean_red[[\"logratio_true\", \"logratio_pred\"]].corr(method=\"spearman\").iloc[0,1]\n",
    "    n_cells_mean = df_counts[df_counts[\"cell_type_broad\"]==cell_type][\"n_cells\"].mean()\n",
    "    n_cells_var = df_counts[df_counts[\"cell_type_broad\"]==cell_type][\"n_cells\"].std()\n",
    "    df_corrs_conditions.loc[len(df_corrs_conditions)] = [cell_type, pearson_pred, spearman_pred, \"cellflow\", n_cells_mean, n_cells_var]\n",
    "    df_corrs_conditions.loc[len(df_corrs_conditions)] = [cell_type, pearson_baseline, spearman_baseline, \"single_oligo\", n_cells_mean, n_cells_var]\n",
    "    df_corrs_conditions.loc[len(df_corrs_conditions)] = [cell_type, pearson_mean, spearman_mean, \"mean\", n_cells_mean, n_cells_var]\n",
    "    \n",
    "    i+=3\n",
    "\n",
    "    "
   ]
  },
  {
   "cell_type": "code",
   "execution_count": 27,
   "id": "5f8fc85b-e72e-42fd-ae10-7cca0250fe68",
   "metadata": {},
   "outputs": [
    {
     "data": {
      "text/plain": [
       "<Axes: xlabel='method', ylabel='pearson'>"
      ]
     },
     "execution_count": 27,
     "metadata": {},
     "output_type": "execute_result"
    },
    {
     "data": {
      "image/png": "[encoded data removed]",
      "text/plain": [
       "<Figure size 640x480 with 1 Axes>"
      ]
     },
     "metadata": {},
     "output_type": "display_data"
    }
   ],
   "source": [
    "sns.boxplot(df_corrs_conditions, x=\"method\", y=\"pearson\", hue=\"method\")"
   ]
  },
  {
   "cell_type": "code",
   "execution_count": 28,
   "id": "a01ac81e-7cc2-4c6c-9f0b-bc5d1ed51604",
   "metadata": {},
   "outputs": [],
   "source": [
    "df_corrs_conditions.to_csv(os.path.join(output_dir, \"corrs_conditions_with_mean_model.csv\"))"
   ]
  }
 ],
 "metadata": {
  "kernelspec": {
   "display_name": "cfp",
   "language": "python",
   "name": "cfp"
  },
  "language_info": {
   "codemirror_mode": {
    "name": "ipython",
    "version": 3
   },
   "file_extension": ".py",
   "mimetype": "text/x-python",
   "name": "python",
   "nbconvert_exporter": "python",
   "pygments_lexer": "ipython3",
   "version": "3.11.9"
  }
 },
 "nbformat": 4,
 "nbformat_minor": 5
}
