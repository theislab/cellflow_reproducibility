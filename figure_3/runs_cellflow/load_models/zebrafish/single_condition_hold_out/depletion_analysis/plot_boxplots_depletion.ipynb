{
 "cells": [
  {
   "cell_type": "code",
   "execution_count": 1,
   "id": "d8aca17d-065a-404c-bfb4-c637e2a3c0f1",
   "metadata": {},
   "outputs": [
    {
     "name": "stderr",
     "output_type": "stream",
     "text": [
      "Warning message:\n",
      "“package ‘tidyverse’ was built under R version 4.2.3”\n",
      "Warning message:\n",
      "“package ‘tibble’ was built under R version 4.2.3”\n",
      "Warning message:\n",
      "“package ‘readr’ was built under R version 4.2.3”\n",
      "Warning message:\n",
      "“package ‘purrr’ was built under R version 4.2.3”\n",
      "Warning message:\n",
      "“package ‘dplyr’ was built under R version 4.2.3”\n",
      "Warning message:\n",
      "“package ‘stringr’ was built under R version 4.2.3”\n",
      "Warning message:\n",
      "“package ‘forcats’ was built under R version 4.2.3”\n",
      "Warning message:\n",
      "“package ‘lubridate’ was built under R version 4.2.3”\n",
      "── \u001b[1mAttaching core tidyverse packages\u001b[22m ──────────────────────── tidyverse 2.0.0 ──\n",
      "\u001b[32m✔\u001b[39m \u001b[34mdplyr    \u001b[39m 1.1.4     \u001b[32m✔\u001b[39m \u001b[34mreadr    \u001b[39m 2.1.4\n",
      "\u001b[32m✔\u001b[39m \u001b[34mforcats  \u001b[39m 1.0.0     \u001b[32m✔\u001b[39m \u001b[34mstringr  \u001b[39m 1.5.1\n",
      "\u001b[32m✔\u001b[39m \u001b[34mggplot2  \u001b[39m 3.5.1     \u001b[32m✔\u001b[39m \u001b[34mtibble   \u001b[39m 3.2.1\n",
      "\u001b[32m✔\u001b[39m \u001b[34mlubridate\u001b[39m 1.9.3     \u001b[32m✔\u001b[39m \u001b[34mtidyr    \u001b[39m 1.3.1\n",
      "\u001b[32m✔\u001b[39m \u001b[34mpurrr    \u001b[39m 1.0.2     \n",
      "── \u001b[1mConflicts\u001b[22m ────────────────────────────────────────── tidyverse_conflicts() ──\n",
      "\u001b[31m✖\u001b[39m \u001b[34mdplyr\u001b[39m::\u001b[32mfilter()\u001b[39m masks \u001b[34mstats\u001b[39m::filter()\n",
      "\u001b[31m✖\u001b[39m \u001b[34mdplyr\u001b[39m::\u001b[32mlag()\u001b[39m    masks \u001b[34mstats\u001b[39m::lag()\n",
      "\u001b[36mℹ\u001b[39m Use the conflicted package (\u001b[3m\u001b[34m<http://conflicted.r-lib.org/>\u001b[39m\u001b[23m) to force all conflicts to become errors\n",
      "also installing the dependencies ‘sysfonts’, ‘showtextdb’\n",
      "\n",
      "\n",
      "Warning message in install.packages(\"showtext\"):\n",
      "“installation of package ‘sysfonts’ had non-zero exit status”\n",
      "Warning message in install.packages(\"showtext\"):\n",
      "“installation of package ‘showtextdb’ had non-zero exit status”\n",
      "Warning message in install.packages(\"showtext\"):\n",
      "“installation of package ‘showtext’ had non-zero exit status”\n",
      "Registering fonts with R\n",
      "\n"
     ]
    },
    {
     "name": "stdin",
     "output_type": "stream",
     "text": [
      "Importing fonts may take a few minutes, depending on the number of fonts and the speed of the system.\n",
      "Continue? [y/n]  y\n"
     ]
    },
    {
     "name": "stderr",
     "output_type": "stream",
     "text": [
      "Scanning ttf files in /usr/share/fonts/ ...\n",
      "\n",
      "Extracting .afm files from .ttf files...\n",
      "\n",
      "/usr/share/fonts/dejavu-sans-fonts/DejaVuSans-Bold.ttf\n",
      " : DejaVuSans-Bold already registered in fonts database. Skipping.\n",
      "\n",
      "/usr/share/fonts/dejavu-sans-fonts/DejaVuSans-BoldOblique.ttf\n",
      " : DejaVuSans-BoldOblique already registered in fonts database. Skipping.\n",
      "\n",
      "/usr/share/fonts/dejavu-sans-fonts/DejaVuSans-ExtraLight.ttf\n",
      " : DejaVuSans-ExtraLight already registered in fonts database. Skipping.\n",
      "\n",
      "/usr/share/fonts/dejavu-sans-fonts/DejaVuSans-Oblique.ttf\n",
      " : DejaVuSans-Oblique already registered in fonts database. Skipping.\n",
      "\n",
      "/usr/share/fonts/dejavu-sans-fonts/DejaVuSans.ttf\n",
      " : DejaVuSans already registered in fonts database. Skipping.\n",
      "\n",
      "/usr/share/fonts/dejavu-sans-fonts/DejaVuSansCondensed-Bold.ttf\n",
      " : DejaVuSansCondensed-Bold already registered in fonts database. Skipping.\n",
      "\n",
      "/usr/share/fonts/dejavu-sans-fonts/DejaVuSansCondensed-BoldOblique.ttf\n",
      " : DejaVuSansCondensed-BoldOblique already registered in fonts database. Skipping.\n",
      "\n",
      "/usr/share/fonts/dejavu-sans-fonts/DejaVuSansCondensed-Oblique.ttf\n",
      " : DejaVuSansCondensed-Oblique already registered in fonts database. Skipping.\n",
      "\n",
      "/usr/share/fonts/dejavu-sans-fonts/DejaVuSansCondensed.ttf\n",
      " : DejaVuSansCondensed already registered in fonts database. Skipping.\n",
      "\n",
      "/usr/share/fonts/dejavu-sans-mono-fonts/DejaVuSansMono-Bold.ttf\n",
      " : DejaVuSansMono-Bold already registered in fonts database. Skipping.\n",
      "\n",
      "/usr/share/fonts/dejavu-sans-mono-fonts/DejaVuSansMono-BoldOblique.ttf\n",
      " : DejaVuSansMono-BoldOblique already registered in fonts database. Skipping.\n",
      "\n",
      "/usr/share/fonts/dejavu-sans-mono-fonts/DejaVuSansMono-Oblique.ttf\n",
      " : DejaVuSansMono-Oblique already registered in fonts database. Skipping.\n",
      "\n",
      "/usr/share/fonts/dejavu-sans-mono-fonts/DejaVuSansMono.ttf\n",
      " : DejaVuSansMono already registered in fonts database. Skipping.\n",
      "\n",
      "/usr/share/fonts/google-droid-sans-fonts/DroidKufi-Bold.ttf\n",
      " : DroidArabicKufi-Bold already registered in fonts database. Skipping.\n",
      "\n",
      "/usr/share/fonts/google-droid-sans-fonts/DroidKufi-Regular.ttf\n",
      " : DroidArabicKufi already registered in fonts database. Skipping.\n",
      "\n",
      "/usr/share/fonts/google-droid-sans-fonts/DroidSans-Bold.ttf\n",
      " : DroidSans-Bold already registered in fonts database. Skipping.\n",
      "\n",
      "/usr/share/fonts/google-droid-sans-fonts/DroidSans.ttf\n",
      " : DroidSans already registered in fonts database. Skipping.\n",
      "\n",
      "/usr/share/fonts/google-droid-sans-fonts/DroidSansArmenian.ttf\n",
      " : DroidSansArmenian already registered in fonts database. Skipping.\n",
      "\n",
      "/usr/share/fonts/google-droid-sans-fonts/DroidSansDevanagari-Regular.ttf\n",
      " : DroidSansDevanagari already registered in fonts database. Skipping.\n",
      "\n",
      "/usr/share/fonts/google-droid-sans-fonts/DroidSansEthiopic-Bold.ttf\n",
      " : DroidSansEthiopic-Bold already registered in fonts database. Skipping.\n",
      "\n",
      "/usr/share/fonts/google-droid-sans-fonts/DroidSansEthiopic-Regular.ttf\n",
      " : DroidSansEthiopic already registered in fonts database. Skipping.\n",
      "\n",
      "/usr/share/fonts/google-droid-sans-fonts/DroidSansFallbackFull.ttf\n",
      " : DroidSansFallback already registered in fonts database. Skipping.\n",
      "\n",
      "/usr/share/fonts/google-droid-sans-fonts/DroidSansGeorgian.ttf\n",
      " : DroidSansGeorgian already registered in fonts database. Skipping.\n",
      "\n",
      "/usr/share/fonts/google-droid-sans-fonts/DroidSansHebrew-Bold.ttf\n",
      " : DroidSansHebrew-Bold already registered in fonts database. Skipping.\n",
      "\n",
      "/usr/share/fonts/google-droid-sans-fonts/DroidSansHebrew-Regular.ttf\n",
      " : DroidSansHebrew already registered in fonts database. Skipping.\n",
      "\n",
      "/usr/share/fonts/google-droid-sans-fonts/DroidSansJapanese.ttf\n",
      "Warning message in system2(enc2native(ttf2pt1), c(args, shQuote(ttfiles[i]), shQuote(tmpfiles[i])), :\n",
      "“running command ''/ictstr01/home/icb/dominik.klein/mambaforge/envs/gene-regulatory-networks-atac/lib/R/library/Rttf2pt1/exec//ttf2pt1' -a -GfAe '/usr/share/fonts/google-droid-sans-fonts/DroidSansJapanese.ttf' '/tmp/RtmpL7SvQw/fonts/DroidSansJapanese' 2>&1' had status 1”\n",
      " : No FontName. Skipping.\n",
      "\n",
      "/usr/share/fonts/google-droid-sans-fonts/DroidSansTamil-Bold.ttf\n",
      " : DroidSansTamil-Bold already registered in fonts database. Skipping.\n",
      "\n",
      "/usr/share/fonts/google-droid-sans-fonts/DroidSansTamil-Regular.ttf\n",
      " : DroidSansTamil already registered in fonts database. Skipping.\n",
      "\n",
      "/usr/share/fonts/google-droid-sans-fonts/DroidSansThai.ttf\n",
      " : DroidSansThai already registered in fonts database. Skipping.\n",
      "\n",
      "Found FontName for 0 fonts.\n",
      "\n",
      "Scanning afm files in /ictstr01/home/icb/dominik.klein/mambaforge/envs/gene-regulatory-networks-atac/lib/R/library/extrafontdb/metrics\n",
      "\n",
      "Warning message:\n",
      "“\u001b[1m\u001b[22mThe `size` argument of `element_line()` is deprecated as of ggplot2 3.4.0.\n",
      "\u001b[36mℹ\u001b[39m Please use the `linewidth` argument instead.”\n"
     ]
    }
   ],
   "source": [
    "library(tidyverse)\n",
    "library(glue)\n",
    "library(dplyr)\n",
    "\n",
    "install.packages(\"showtext\")\n",
    "install.packages(\"extrafont\")\n",
    "library(extrafont)\n",
    "font_import()\n",
    "\n",
    "\n",
    "theme_rangeframe <- function(size = 0.3) {\n",
    "    theme(\n",
    "        axis.line = element_line(colour = \"black\", lineend = \"round\", size = size),\n",
    "        axis.ticks = element_line(linewidth = size),\n",
    "        panel.border = element_blank()\n",
    "    )\n",
    "}\n",
    "\n",
    "scale_axis_rangeframe <- function() {\n",
    "    guides(x = \"axis_truncated\", y = \"axis_truncated\")\n",
    "}\n",
    "\n",
    "rotate_x_text <- function(angle=45) {\n",
    "    theme(\n",
    "        axis.text.x = element_text(angle = angle, hjust = 1)\n",
    "    )\n",
    "}\n",
    "\n",
    "article_text <- function() {\n",
    "    theme(\n",
    "        text = element_text(size = 5, family = \"Helvetica\"),\n",
    "        title = element_text(size = 6),\n",
    "        axis.text.x = element_text(size = 5),\n",
    "        axis.text.y = element_text(size = 5)\n",
    "    )\n",
    "}\n",
    "\n",
    "no_legend <- function() {\n",
    "    theme(\n",
    "        legend.position = \"none\"\n",
    "    )\n",
    "}\n",
    "\n",
    "no_margin <- function() {\n",
    "    theme(\n",
    "        plot.margin = margin(0, 0, 0, 0, unit = \"lines\")\n",
    "    )\n",
    "}\n",
    "\n",
    "no_label <- function() {\n",
    "    theme(\n",
    "        axis.title = element_blank()\n",
    "    )\n",
    "}\n",
    "\n",
    "no_text <- function() {\n",
    "    theme(\n",
    "        axis.title = element_blank(),\n",
    "        axis.text = element_blank(),\n",
    "        axis.ticks = element_blank()\n",
    "    )\n",
    "}\n",
    "\n",
    "no_x_text <- function() {\n",
    "    theme(\n",
    "        axis.text.x = element_blank(),\n",
    "        axis.ticks.x = element_blank()\n",
    "    )\n",
    "}\n",
    "\n",
    "no_y_text <- function() {\n",
    "    theme(\n",
    "        axis.text.y = element_blank(),\n",
    "        axis.ticks.y = element_blank()\n",
    "    )\n",
    "}\n",
    "\n",
    "\n",
    "custom_theme <- function(size = 0.3){\n",
    "    theme_minimal() +\n",
    "    theme(\n",
    "        text = element_text(family='Helvetica'),\n",
    "        axis.line = element_line(colour = \"black\", lineend = \"round\", size = size),\n",
    "        axis.ticks = element_line(linewidth = size),\n",
    "        panel.border = element_blank()\n",
    "    )\n",
    "\n",
    "}\n",
    "theme_set(custom_theme())\n",
    "\n",
    "article_text <- function() {\n",
    "    theme(\n",
    "        text = element_text(size = 5, family = \"Helvetica\"),\n",
    "        title = element_text(size = 6),\n",
    "        axis.text.x = element_text(size = 5),\n",
    "        axis.text.y = element_text(size = 5)\n",
    "    )\n",
    "}\n"
   ]
  },
  {
   "cell_type": "code",
   "execution_count": 2,
   "id": "a42961c3-3e7a-4d6a-a564-a5351f850a11",
   "metadata": {},
   "outputs": [],
   "source": [
    "output_dir <- \"/lustre/groups/ml01/workspace/ot_perturbation/figures/zebrafish/depletion_analysis\""
   ]
  },
  {
   "cell_type": "code",
   "execution_count": 3,
   "id": "12e45f0c-773b-4f87-9cbd-65a572d6b59a",
   "metadata": {},
   "outputs": [],
   "source": [
    "data_dir = \"/lustre/groups/ml01/workspace/ot_perturbation/models/otfm/zebrafish/depletion_analysis\""
   ]
  },
  {
   "cell_type": "code",
   "execution_count": 8,
   "id": "3a327dfe-38da-40e2-815d-9a5d6746cb25",
   "metadata": {},
   "outputs": [],
   "source": [
    "color_dict = c(\n",
    "    \"depletion_scores_pred\"= \"#B12F8C\",\n",
    "    \"depletion_scores_true\"= \"#BDBDBD\")"
   ]
  },
  {
   "cell_type": "code",
   "execution_count": 19,
   "id": "f5ed12c1-b437-470c-98b9-77934a2e0f89",
   "metadata": {},
   "outputs": [
    {
     "name": "stderr",
     "output_type": "stream",
     "text": [
      "\u001b[1m\u001b[22mNew names:\n",
      "\u001b[36m•\u001b[39m `` -> `...1`\n",
      "\u001b[1mRows: \u001b[22m\u001b[34m14280\u001b[39m \u001b[1mColumns: \u001b[22m\u001b[34m4\u001b[39m\n",
      "\u001b[36m──\u001b[39m \u001b[1mColumn specification\u001b[22m \u001b[36m────────────────────────────────────────────────────────\u001b[39m\n",
      "\u001b[1mDelimiter:\u001b[22m \",\"\n",
      "\u001b[31mchr\u001b[39m (2): cell_type_broad_transfer, variable\n",
      "\u001b[32mdbl\u001b[39m (2): ...1, value\n",
      "\n",
      "\u001b[36mℹ\u001b[39m Use `spec()` to retrieve the full column specification for this data.\n",
      "\u001b[36mℹ\u001b[39m Specify the column types or set `show_col_types = FALSE` to quiet this message.\n"
     ]
    }
   ],
   "source": [
    "df <- read_csv(\"/lustre/groups/ml01/workspace/ot_perturbation/models/otfm/zebrafish/depletion_analysis/depletion_scores_neuron_progenitors.csv\")\n"
   ]
  },
  {
   "cell_type": "code",
   "execution_count": 20,
   "id": "22e08334-c5a5-47cf-ab88-70f7c7d1ae4b",
   "metadata": {},
   "outputs": [
    {
     "data": {
      "image/png": "[encoded data removed]",
      "text/plain": [
       "plot without title"
      ]
     },
     "metadata": {
      "image/png": {
       "height": 300,
       "width": 600
      }
     },
     "output_type": "display_data"
    }
   ],
   "source": [
    "options(repr.plot.width = 10, repr.plot.height = 5)\n",
    "\n",
    "p <- ggplot(df, aes(x=cell_type_broad_transfer, y=value, fill=variable)) +\n",
    "  geom_boxplot(size=0.2,  width=0.8, outlier.size=0.2, outlier.shape=16) +\n",
    "  labs(x=\"Cell type\", y=\"Depletion score\") +\n",
    "  scale_fill_manual(values=color_dict) +  # Removed labels argument\n",
    "  custom_theme() +\n",
    "article_text() +\n",
    "no_legend() +\n",
    "theme(\n",
    "    panel.grid.major=element_blank(), \n",
    "    panel.grid.minor=element_blank()\n",
    ") \n",
    "p\n"
   ]
  },
  {
   "cell_type": "code",
   "execution_count": 21,
   "id": "f1007b97-6aba-4eba-9d44-5f870645bbec",
   "metadata": {},
   "outputs": [
    {
     "data": {
      "text/html": [
       "<table class=\"dataframe\">\n",
       "<caption>A tibble: 8 × 3</caption>\n",
       "<thead>\n",
       "\t<tr><th scope=col>cell_type_broad_transfer</th><th scope=col>variable</th><th scope=col>n</th></tr>\n",
       "\t<tr><th scope=col>&lt;chr&gt;</th><th scope=col>&lt;chr&gt;</th><th scope=col>&lt;int&gt;</th></tr>\n",
       "</thead>\n",
       "<tbody>\n",
       "\t<tr><td>differentiating neuron (hindbrain)            </td><td>depletion_scores_pred</td><td>2969</td></tr>\n",
       "\t<tr><td>differentiating neuron (hindbrain)            </td><td>depletion_scores_true</td><td>2969</td></tr>\n",
       "\t<tr><td>neural progenitor (hindbrain R7/8)            </td><td>depletion_scores_pred</td><td>2044</td></tr>\n",
       "\t<tr><td>neural progenitor (hindbrain R7/8)            </td><td>depletion_scores_true</td><td>2044</td></tr>\n",
       "\t<tr><td>neural progenitor (hindbrain)                 </td><td>depletion_scores_pred</td><td> 418</td></tr>\n",
       "\t<tr><td>neural progenitor (hindbrain)                 </td><td>depletion_scores_true</td><td> 418</td></tr>\n",
       "\t<tr><td>neural progenitor (telencephalon/diencephalon)</td><td>depletion_scores_pred</td><td>1709</td></tr>\n",
       "\t<tr><td>neural progenitor (telencephalon/diencephalon)</td><td>depletion_scores_true</td><td>1709</td></tr>\n",
       "</tbody>\n",
       "</table>\n"
      ],
      "text/latex": [
       "A tibble: 8 × 3\n",
       "\\begin{tabular}{lll}\n",
       " cell\\_type\\_broad\\_transfer & variable & n\\\\\n",
       " <chr> & <chr> & <int>\\\\\n",
       "\\hline\n",
       "\t differentiating neuron (hindbrain)             & depletion\\_scores\\_pred & 2969\\\\\n",
       "\t differentiating neuron (hindbrain)             & depletion\\_scores\\_true & 2969\\\\\n",
       "\t neural progenitor (hindbrain R7/8)             & depletion\\_scores\\_pred & 2044\\\\\n",
       "\t neural progenitor (hindbrain R7/8)             & depletion\\_scores\\_true & 2044\\\\\n",
       "\t neural progenitor (hindbrain)                  & depletion\\_scores\\_pred &  418\\\\\n",
       "\t neural progenitor (hindbrain)                  & depletion\\_scores\\_true &  418\\\\\n",
       "\t neural progenitor (telencephalon/diencephalon) & depletion\\_scores\\_pred & 1709\\\\\n",
       "\t neural progenitor (telencephalon/diencephalon) & depletion\\_scores\\_true & 1709\\\\\n",
       "\\end{tabular}\n"
      ],
      "text/markdown": [
       "\n",
       "A tibble: 8 × 3\n",
       "\n",
       "| cell_type_broad_transfer &lt;chr&gt; | variable &lt;chr&gt; | n &lt;int&gt; |\n",
       "|---|---|---|\n",
       "| differentiating neuron (hindbrain)             | depletion_scores_pred | 2969 |\n",
       "| differentiating neuron (hindbrain)             | depletion_scores_true | 2969 |\n",
       "| neural progenitor (hindbrain R7/8)             | depletion_scores_pred | 2044 |\n",
       "| neural progenitor (hindbrain R7/8)             | depletion_scores_true | 2044 |\n",
       "| neural progenitor (hindbrain)                  | depletion_scores_pred |  418 |\n",
       "| neural progenitor (hindbrain)                  | depletion_scores_true |  418 |\n",
       "| neural progenitor (telencephalon/diencephalon) | depletion_scores_pred | 1709 |\n",
       "| neural progenitor (telencephalon/diencephalon) | depletion_scores_true | 1709 |\n",
       "\n"
      ],
      "text/plain": [
       "  cell_type_broad_transfer                       variable              n   \n",
       "1 differentiating neuron (hindbrain)             depletion_scores_pred 2969\n",
       "2 differentiating neuron (hindbrain)             depletion_scores_true 2969\n",
       "3 neural progenitor (hindbrain R7/8)             depletion_scores_pred 2044\n",
       "4 neural progenitor (hindbrain R7/8)             depletion_scores_true 2044\n",
       "5 neural progenitor (hindbrain)                  depletion_scores_pred  418\n",
       "6 neural progenitor (hindbrain)                  depletion_scores_true  418\n",
       "7 neural progenitor (telencephalon/diencephalon) depletion_scores_pred 1709\n",
       "8 neural progenitor (telencephalon/diencephalon) depletion_scores_true 1709"
      ]
     },
     "metadata": {},
     "output_type": "display_data"
    }
   ],
   "source": [
    "count_data <- df %>%\n",
    "  group_by(cell_type_broad_transfer, variable) %>%\n",
    "  summarise(n = n(), .groups = \"drop\")\n",
    "count_data"
   ]
  },
  {
   "cell_type": "code",
   "execution_count": 22,
   "id": "18d01b4d-66cd-4474-9866-2e96717a6a02",
   "metadata": {},
   "outputs": [],
   "source": [
    "ggsave(file.path(output_dir, \"depletion_score_boxplot_neural_progs.pdf\"), plot = p, device = \"pdf\",width = 4, height = 4, unit=\"cm\")"
   ]
  },
  {
   "cell_type": "code",
   "execution_count": 32,
   "id": "d9ca7e8b-f0e3-42b8-a2c7-c1d2b5f6393c",
   "metadata": {},
   "outputs": [
    {
     "name": "stderr",
     "output_type": "stream",
     "text": [
      "\u001b[1m\u001b[22mNew names:\n",
      "\u001b[36m•\u001b[39m `` -> `...1`\n",
      "\u001b[1mRows: \u001b[22m\u001b[34m44182\u001b[39m \u001b[1mColumns: \u001b[22m\u001b[34m4\u001b[39m\n",
      "\u001b[36m──\u001b[39m \u001b[1mColumn specification\u001b[22m \u001b[36m────────────────────────────────────────────────────────\u001b[39m\n",
      "\u001b[1mDelimiter:\u001b[22m \",\"\n",
      "\u001b[31mchr\u001b[39m (2): cell_type_broad_transfer, variable\n",
      "\u001b[32mdbl\u001b[39m (2): ...1, value\n",
      "\n",
      "\u001b[36mℹ\u001b[39m Use `spec()` to retrieve the full column specification for this data.\n",
      "\u001b[36mℹ\u001b[39m Specify the column types or set `show_col_types = FALSE` to quiet this message.\n"
     ]
    }
   ],
   "source": [
    "df <- read_csv(\"/lustre/groups/ml01/workspace/ot_perturbation/models/otfm/zebrafish/depletion_analysis/depletion_scores_fin.csv\")\n"
   ]
  },
  {
   "cell_type": "code",
   "execution_count": 33,
   "id": "d84f44b0-236b-466d-bd92-f08064d2e7f7",
   "metadata": {},
   "outputs": [
    {
     "data": {
      "image/png": "[encoded data removed]",
      "text/plain": [
       "plot without title"
      ]
     },
     "metadata": {
      "image/png": {
       "height": 300,
       "width": 600
      }
     },
     "output_type": "display_data"
    }
   ],
   "source": [
    "options(repr.plot.width = 10, repr.plot.height = 5)\n",
    "\n",
    "p <- ggplot(df, aes(x=cell_type_broad_transfer, y=value, fill=variable)) +\n",
    "  geom_boxplot(size=0.2,  width=0.8, outlier.size=0.2, outlier.shape=16) +\n",
    "  labs(x=\"Cell type\", y=\"Depletion score\") +\n",
    "  scale_fill_manual(values=color_dict) +  # Removed labels argument\n",
    "  custom_theme() +\n",
    "article_text() +\n",
    "no_legend() +\n",
    "theme(\n",
    "    panel.grid.major=element_blank(), \n",
    "    panel.grid.minor=element_blank()\n",
    ") \n",
    "p\n"
   ]
  },
  {
   "cell_type": "code",
   "execution_count": 34,
   "id": "1dc7c0d3-fdb3-471c-a875-66a162ce755a",
   "metadata": {},
   "outputs": [
    {
     "data": {
      "text/html": [
       "<table class=\"dataframe\">\n",
       "<caption>A tibble: 18 × 3</caption>\n",
       "<thead>\n",
       "\t<tr><th scope=col>cell_type_broad_transfer</th><th scope=col>variable</th><th scope=col>n</th></tr>\n",
       "\t<tr><th scope=col>&lt;chr&gt;</th><th scope=col>&lt;chr&gt;</th><th scope=col>&lt;int&gt;</th></tr>\n",
       "</thead>\n",
       "<tbody>\n",
       "\t<tr><td>basal cell                                      </td><td>depletion_scores_pred</td><td>6434</td></tr>\n",
       "\t<tr><td>basal cell                                      </td><td>depletion_scores_true</td><td>6434</td></tr>\n",
       "\t<tr><td>connective tissue-meninges-dermal FB            </td><td>depletion_scores_pred</td><td>8200</td></tr>\n",
       "\t<tr><td>connective tissue-meninges-dermal FB            </td><td>depletion_scores_true</td><td>8200</td></tr>\n",
       "\t<tr><td>contains head vasculature?                      </td><td>depletion_scores_pred</td><td>  57</td></tr>\n",
       "\t<tr><td>contains head vasculature?                      </td><td>depletion_scores_true</td><td>  57</td></tr>\n",
       "\t<tr><td>fin bud mesoderm (pectoral)                     </td><td>depletion_scores_pred</td><td> 344</td></tr>\n",
       "\t<tr><td>fin bud mesoderm (pectoral)                     </td><td>depletion_scores_true</td><td> 344</td></tr>\n",
       "\t<tr><td>fin fold                                        </td><td>depletion_scores_pred</td><td>3504</td></tr>\n",
       "\t<tr><td>fin fold                                        </td><td>depletion_scores_true</td><td>3504</td></tr>\n",
       "\t<tr><td>fin mesenchyme                                  </td><td>depletion_scores_pred</td><td>  68</td></tr>\n",
       "\t<tr><td>fin mesenchyme                                  </td><td>depletion_scores_true</td><td>  68</td></tr>\n",
       "\t<tr><td>head/eye connective tissue                      </td><td>depletion_scores_pred</td><td>1025</td></tr>\n",
       "\t<tr><td>head/eye connective tissue                      </td><td>depletion_scores_true</td><td>1025</td></tr>\n",
       "\t<tr><td>neural tube-like connective tissue (+ taste bud)</td><td>depletion_scores_pred</td><td>1688</td></tr>\n",
       "\t<tr><td>neural tube-like connective tissue (+ taste bud)</td><td>depletion_scores_true</td><td>1688</td></tr>\n",
       "\t<tr><td>pectoral fin bud (osteoblast+)                  </td><td>depletion_scores_pred</td><td> 771</td></tr>\n",
       "\t<tr><td>pectoral fin bud (osteoblast+)                  </td><td>depletion_scores_true</td><td> 771</td></tr>\n",
       "</tbody>\n",
       "</table>\n"
      ],
      "text/latex": [
       "A tibble: 18 × 3\n",
       "\\begin{tabular}{lll}\n",
       " cell\\_type\\_broad\\_transfer & variable & n\\\\\n",
       " <chr> & <chr> & <int>\\\\\n",
       "\\hline\n",
       "\t basal cell                                       & depletion\\_scores\\_pred & 6434\\\\\n",
       "\t basal cell                                       & depletion\\_scores\\_true & 6434\\\\\n",
       "\t connective tissue-meninges-dermal FB             & depletion\\_scores\\_pred & 8200\\\\\n",
       "\t connective tissue-meninges-dermal FB             & depletion\\_scores\\_true & 8200\\\\\n",
       "\t contains head vasculature?                       & depletion\\_scores\\_pred &   57\\\\\n",
       "\t contains head vasculature?                       & depletion\\_scores\\_true &   57\\\\\n",
       "\t fin bud mesoderm (pectoral)                      & depletion\\_scores\\_pred &  344\\\\\n",
       "\t fin bud mesoderm (pectoral)                      & depletion\\_scores\\_true &  344\\\\\n",
       "\t fin fold                                         & depletion\\_scores\\_pred & 3504\\\\\n",
       "\t fin fold                                         & depletion\\_scores\\_true & 3504\\\\\n",
       "\t fin mesenchyme                                   & depletion\\_scores\\_pred &   68\\\\\n",
       "\t fin mesenchyme                                   & depletion\\_scores\\_true &   68\\\\\n",
       "\t head/eye connective tissue                       & depletion\\_scores\\_pred & 1025\\\\\n",
       "\t head/eye connective tissue                       & depletion\\_scores\\_true & 1025\\\\\n",
       "\t neural tube-like connective tissue (+ taste bud) & depletion\\_scores\\_pred & 1688\\\\\n",
       "\t neural tube-like connective tissue (+ taste bud) & depletion\\_scores\\_true & 1688\\\\\n",
       "\t pectoral fin bud (osteoblast+)                   & depletion\\_scores\\_pred &  771\\\\\n",
       "\t pectoral fin bud (osteoblast+)                   & depletion\\_scores\\_true &  771\\\\\n",
       "\\end{tabular}\n"
      ],
      "text/markdown": [
       "\n",
       "A tibble: 18 × 3\n",
       "\n",
       "| cell_type_broad_transfer &lt;chr&gt; | variable &lt;chr&gt; | n &lt;int&gt; |\n",
       "|---|---|---|\n",
       "| basal cell                                       | depletion_scores_pred | 6434 |\n",
       "| basal cell                                       | depletion_scores_true | 6434 |\n",
       "| connective tissue-meninges-dermal FB             | depletion_scores_pred | 8200 |\n",
       "| connective tissue-meninges-dermal FB             | depletion_scores_true | 8200 |\n",
       "| contains head vasculature?                       | depletion_scores_pred |   57 |\n",
       "| contains head vasculature?                       | depletion_scores_true |   57 |\n",
       "| fin bud mesoderm (pectoral)                      | depletion_scores_pred |  344 |\n",
       "| fin bud mesoderm (pectoral)                      | depletion_scores_true |  344 |\n",
       "| fin fold                                         | depletion_scores_pred | 3504 |\n",
       "| fin fold                                         | depletion_scores_true | 3504 |\n",
       "| fin mesenchyme                                   | depletion_scores_pred |   68 |\n",
       "| fin mesenchyme                                   | depletion_scores_true |   68 |\n",
       "| head/eye connective tissue                       | depletion_scores_pred | 1025 |\n",
       "| head/eye connective tissue                       | depletion_scores_true | 1025 |\n",
       "| neural tube-like connective tissue (+ taste bud) | depletion_scores_pred | 1688 |\n",
       "| neural tube-like connective tissue (+ taste bud) | depletion_scores_true | 1688 |\n",
       "| pectoral fin bud (osteoblast+)                   | depletion_scores_pred |  771 |\n",
       "| pectoral fin bud (osteoblast+)                   | depletion_scores_true |  771 |\n",
       "\n"
      ],
      "text/plain": [
       "   cell_type_broad_transfer                         variable              n   \n",
       "1  basal cell                                       depletion_scores_pred 6434\n",
       "2  basal cell                                       depletion_scores_true 6434\n",
       "3  connective tissue-meninges-dermal FB             depletion_scores_pred 8200\n",
       "4  connective tissue-meninges-dermal FB             depletion_scores_true 8200\n",
       "5  contains head vasculature?                       depletion_scores_pred   57\n",
       "6  contains head vasculature?                       depletion_scores_true   57\n",
       "7  fin bud mesoderm (pectoral)                      depletion_scores_pred  344\n",
       "8  fin bud mesoderm (pectoral)                      depletion_scores_true  344\n",
       "9  fin fold                                         depletion_scores_pred 3504\n",
       "10 fin fold                                         depletion_scores_true 3504\n",
       "11 fin mesenchyme                                   depletion_scores_pred   68\n",
       "12 fin mesenchyme                                   depletion_scores_true   68\n",
       "13 head/eye connective tissue                       depletion_scores_pred 1025\n",
       "14 head/eye connective tissue                       depletion_scores_true 1025\n",
       "15 neural tube-like connective tissue (+ taste bud) depletion_scores_pred 1688\n",
       "16 neural tube-like connective tissue (+ taste bud) depletion_scores_true 1688\n",
       "17 pectoral fin bud (osteoblast+)                   depletion_scores_pred  771\n",
       "18 pectoral fin bud (osteoblast+)                   depletion_scores_true  771"
      ]
     },
     "metadata": {},
     "output_type": "display_data"
    }
   ],
   "source": [
    "count_data <- df %>%\n",
    "  group_by(cell_type_broad_transfer, variable) %>%\n",
    "  summarise(n = n(), .groups = \"drop\")\n",
    "count_data"
   ]
  },
  {
   "cell_type": "code",
   "execution_count": 35,
   "id": "73dc8654-a7b3-420c-b730-4b4b48ac3b2e",
   "metadata": {},
   "outputs": [],
   "source": [
    "ggsave(file.path(output_dir, \"depletion_score_boxplot_fin.pdf\"), plot = p, device = \"pdf\",width = 7, height = 4, unit=\"cm\")"
   ]
  },
  {
   "cell_type": "code",
   "execution_count": 27,
   "id": "64b9a8c3-130e-4568-ae23-bdfec0f9e251",
   "metadata": {},
   "outputs": [
    {
     "name": "stderr",
     "output_type": "stream",
     "text": [
      "\u001b[1m\u001b[22mNew names:\n",
      "\u001b[36m•\u001b[39m `` -> `...1`\n",
      "\u001b[1mRows: \u001b[22m\u001b[34m55214\u001b[39m \u001b[1mColumns: \u001b[22m\u001b[34m4\u001b[39m\n",
      "\u001b[36m──\u001b[39m \u001b[1mColumn specification\u001b[22m \u001b[36m────────────────────────────────────────────────────────\u001b[39m\n",
      "\u001b[1mDelimiter:\u001b[22m \",\"\n",
      "\u001b[31mchr\u001b[39m (2): cell_type_broad_transfer, variable\n",
      "\u001b[32mdbl\u001b[39m (2): ...1, value\n",
      "\n",
      "\u001b[36mℹ\u001b[39m Use `spec()` to retrieve the full column specification for this data.\n",
      "\u001b[36mℹ\u001b[39m Specify the column types or set `show_col_types = FALSE` to quiet this message.\n"
     ]
    }
   ],
   "source": [
    "df <- read_csv(\"/lustre/groups/ml01/workspace/ot_perturbation/models/otfm/zebrafish/depletion_analysis/depletion_scores_muscle.csv\")\n"
   ]
  },
  {
   "cell_type": "code",
   "execution_count": 28,
   "id": "a0639c51-5fd7-4862-953a-4c24b553dbff",
   "metadata": {},
   "outputs": [
    {
     "data": {
      "image/png": "[encoded data removed]",
      "text/plain": [
       "plot without title"
      ]
     },
     "metadata": {
      "image/png": {
       "height": 300,
       "width": 600
      }
     },
     "output_type": "display_data"
    }
   ],
   "source": [
    "options(repr.plot.width = 10, repr.plot.height = 5)\n",
    "\n",
    "p <- ggplot(df, aes(x=cell_type_broad_transfer, y=value, fill=variable)) +\n",
    "  geom_boxplot(size=0.2,  width=0.8, outlier.size=0.2, outlier.shape=16) +\n",
    "  labs(x=\"Cell type\", y=\"Depletion score\") +\n",
    "  scale_fill_manual(values=color_dict) +  # Removed labels argument\n",
    "  custom_theme() +\n",
    "article_text() +\n",
    "no_legend() +\n",
    "theme(\n",
    "    panel.grid.major=element_blank(), \n",
    "    panel.grid.minor=element_blank()\n",
    ") \n",
    "p\n"
   ]
  },
  {
   "cell_type": "code",
   "execution_count": 31,
   "id": "5e05a63a-619c-4b24-b8fa-af554a71d493",
   "metadata": {},
   "outputs": [],
   "source": [
    "ggsave(file.path(output_dir, \"depletion_score_muscle.pdf\"), plot = p, device = \"pdf\",width = 7, height = 4, unit=\"cm\")"
   ]
  },
  {
   "cell_type": "code",
   "execution_count": 30,
   "id": "fe21e5ad-a5a5-4855-851f-056d136ea8ad",
   "metadata": {},
   "outputs": [
    {
     "data": {
      "text/html": [
       "<table class=\"dataframe\">\n",
       "<caption>A tibble: 20 × 3</caption>\n",
       "<thead>\n",
       "\t<tr><th scope=col>cell_type_broad_transfer</th><th scope=col>variable</th><th scope=col>n</th></tr>\n",
       "\t<tr><th scope=col>&lt;chr&gt;</th><th scope=col>&lt;chr&gt;</th><th scope=col>&lt;int&gt;</th></tr>\n",
       "</thead>\n",
       "<tbody>\n",
       "\t<tr><td>anterior migratory muscle                </td><td>depletion_scores_pred</td><td> 2667</td></tr>\n",
       "\t<tr><td>anterior migratory muscle                </td><td>depletion_scores_true</td><td> 2667</td></tr>\n",
       "\t<tr><td>cranial muscle (non-somitic, fast-twitch)</td><td>depletion_scores_pred</td><td>  926</td></tr>\n",
       "\t<tr><td>cranial muscle (non-somitic, fast-twitch)</td><td>depletion_scores_true</td><td>  926</td></tr>\n",
       "\t<tr><td>fast-committed myocyte (fusing)          </td><td>depletion_scores_pred</td><td>   41</td></tr>\n",
       "\t<tr><td>fast-committed myocyte (fusing)          </td><td>depletion_scores_true</td><td>   41</td></tr>\n",
       "\t<tr><td>fast-committed myocyte (pre-fusion)      </td><td>depletion_scores_pred</td><td>    7</td></tr>\n",
       "\t<tr><td>fast-committed myocyte (pre-fusion)      </td><td>depletion_scores_true</td><td>    7</td></tr>\n",
       "\t<tr><td>mature fast muscle                       </td><td>depletion_scores_pred</td><td>18726</td></tr>\n",
       "\t<tr><td>mature fast muscle                       </td><td>depletion_scores_true</td><td>18726</td></tr>\n",
       "\t<tr><td>mature slow muscle                       </td><td>depletion_scores_pred</td><td> 5069</td></tr>\n",
       "\t<tr><td>mature slow muscle                       </td><td>depletion_scores_true</td><td> 5069</td></tr>\n",
       "\t<tr><td>myoblast                                 </td><td>depletion_scores_pred</td><td>    1</td></tr>\n",
       "\t<tr><td>myoblast                                 </td><td>depletion_scores_true</td><td>    1</td></tr>\n",
       "\t<tr><td>satellite cells                          </td><td>depletion_scores_pred</td><td>   33</td></tr>\n",
       "\t<tr><td>satellite cells                          </td><td>depletion_scores_true</td><td>   33</td></tr>\n",
       "\t<tr><td>slow-committed myocyte                   </td><td>depletion_scores_pred</td><td>    3</td></tr>\n",
       "\t<tr><td>slow-committed myocyte                   </td><td>depletion_scores_true</td><td>    3</td></tr>\n",
       "\t<tr><td>unknown (dcn+, col6+)                    </td><td>depletion_scores_pred</td><td>  134</td></tr>\n",
       "\t<tr><td>unknown (dcn+, col6+)                    </td><td>depletion_scores_true</td><td>  134</td></tr>\n",
       "</tbody>\n",
       "</table>\n"
      ],
      "text/latex": [
       "A tibble: 20 × 3\n",
       "\\begin{tabular}{lll}\n",
       " cell\\_type\\_broad\\_transfer & variable & n\\\\\n",
       " <chr> & <chr> & <int>\\\\\n",
       "\\hline\n",
       "\t anterior migratory muscle                 & depletion\\_scores\\_pred &  2667\\\\\n",
       "\t anterior migratory muscle                 & depletion\\_scores\\_true &  2667\\\\\n",
       "\t cranial muscle (non-somitic, fast-twitch) & depletion\\_scores\\_pred &   926\\\\\n",
       "\t cranial muscle (non-somitic, fast-twitch) & depletion\\_scores\\_true &   926\\\\\n",
       "\t fast-committed myocyte (fusing)           & depletion\\_scores\\_pred &    41\\\\\n",
       "\t fast-committed myocyte (fusing)           & depletion\\_scores\\_true &    41\\\\\n",
       "\t fast-committed myocyte (pre-fusion)       & depletion\\_scores\\_pred &     7\\\\\n",
       "\t fast-committed myocyte (pre-fusion)       & depletion\\_scores\\_true &     7\\\\\n",
       "\t mature fast muscle                        & depletion\\_scores\\_pred & 18726\\\\\n",
       "\t mature fast muscle                        & depletion\\_scores\\_true & 18726\\\\\n",
       "\t mature slow muscle                        & depletion\\_scores\\_pred &  5069\\\\\n",
       "\t mature slow muscle                        & depletion\\_scores\\_true &  5069\\\\\n",
       "\t myoblast                                  & depletion\\_scores\\_pred &     1\\\\\n",
       "\t myoblast                                  & depletion\\_scores\\_true &     1\\\\\n",
       "\t satellite cells                           & depletion\\_scores\\_pred &    33\\\\\n",
       "\t satellite cells                           & depletion\\_scores\\_true &    33\\\\\n",
       "\t slow-committed myocyte                    & depletion\\_scores\\_pred &     3\\\\\n",
       "\t slow-committed myocyte                    & depletion\\_scores\\_true &     3\\\\\n",
       "\t unknown (dcn+, col6+)                     & depletion\\_scores\\_pred &   134\\\\\n",
       "\t unknown (dcn+, col6+)                     & depletion\\_scores\\_true &   134\\\\\n",
       "\\end{tabular}\n"
      ],
      "text/markdown": [
       "\n",
       "A tibble: 20 × 3\n",
       "\n",
       "| cell_type_broad_transfer &lt;chr&gt; | variable &lt;chr&gt; | n &lt;int&gt; |\n",
       "|---|---|---|\n",
       "| anterior migratory muscle                 | depletion_scores_pred |  2667 |\n",
       "| anterior migratory muscle                 | depletion_scores_true |  2667 |\n",
       "| cranial muscle (non-somitic, fast-twitch) | depletion_scores_pred |   926 |\n",
       "| cranial muscle (non-somitic, fast-twitch) | depletion_scores_true |   926 |\n",
       "| fast-committed myocyte (fusing)           | depletion_scores_pred |    41 |\n",
       "| fast-committed myocyte (fusing)           | depletion_scores_true |    41 |\n",
       "| fast-committed myocyte (pre-fusion)       | depletion_scores_pred |     7 |\n",
       "| fast-committed myocyte (pre-fusion)       | depletion_scores_true |     7 |\n",
       "| mature fast muscle                        | depletion_scores_pred | 18726 |\n",
       "| mature fast muscle                        | depletion_scores_true | 18726 |\n",
       "| mature slow muscle                        | depletion_scores_pred |  5069 |\n",
       "| mature slow muscle                        | depletion_scores_true |  5069 |\n",
       "| myoblast                                  | depletion_scores_pred |     1 |\n",
       "| myoblast                                  | depletion_scores_true |     1 |\n",
       "| satellite cells                           | depletion_scores_pred |    33 |\n",
       "| satellite cells                           | depletion_scores_true |    33 |\n",
       "| slow-committed myocyte                    | depletion_scores_pred |     3 |\n",
       "| slow-committed myocyte                    | depletion_scores_true |     3 |\n",
       "| unknown (dcn+, col6+)                     | depletion_scores_pred |   134 |\n",
       "| unknown (dcn+, col6+)                     | depletion_scores_true |   134 |\n",
       "\n"
      ],
      "text/plain": [
       "   cell_type_broad_transfer                  variable              n    \n",
       "1  anterior migratory muscle                 depletion_scores_pred  2667\n",
       "2  anterior migratory muscle                 depletion_scores_true  2667\n",
       "3  cranial muscle (non-somitic, fast-twitch) depletion_scores_pred   926\n",
       "4  cranial muscle (non-somitic, fast-twitch) depletion_scores_true   926\n",
       "5  fast-committed myocyte (fusing)           depletion_scores_pred    41\n",
       "6  fast-committed myocyte (fusing)           depletion_scores_true    41\n",
       "7  fast-committed myocyte (pre-fusion)       depletion_scores_pred     7\n",
       "8  fast-committed myocyte (pre-fusion)       depletion_scores_true     7\n",
       "9  mature fast muscle                        depletion_scores_pred 18726\n",
       "10 mature fast muscle                        depletion_scores_true 18726\n",
       "11 mature slow muscle                        depletion_scores_pred  5069\n",
       "12 mature slow muscle                        depletion_scores_true  5069\n",
       "13 myoblast                                  depletion_scores_pred     1\n",
       "14 myoblast                                  depletion_scores_true     1\n",
       "15 satellite cells                           depletion_scores_pred    33\n",
       "16 satellite cells                           depletion_scores_true    33\n",
       "17 slow-committed myocyte                    depletion_scores_pred     3\n",
       "18 slow-committed myocyte                    depletion_scores_true     3\n",
       "19 unknown (dcn+, col6+)                     depletion_scores_pred   134\n",
       "20 unknown (dcn+, col6+)                     depletion_scores_true   134"
      ]
     },
     "metadata": {},
     "output_type": "display_data"
    }
   ],
   "source": [
    "count_data <- df %>%\n",
    "  group_by(cell_type_broad_transfer, variable) %>%\n",
    "  summarise(n = n(), .groups = \"drop\")\n",
    "count_data"
   ]
  },
  {
   "cell_type": "code",
   "execution_count": null,
   "id": "aad50a25-0a02-4ca8-aad4-f28ce2ebc7c2",
   "metadata": {},
   "outputs": [],
   "source": []
  }
 ],
 "metadata": {
  "kernelspec": {
   "display_name": "R",
   "language": "R",
   "name": "ir"
  },
  "language_info": {
   "codemirror_mode": "r",
   "file_extension": ".r",
   "mimetype": "text/x-r-source",
   "name": "R",
   "pygments_lexer": "r",
   "version": "4.2.2"
  }
 },
 "nbformat": 4,
 "nbformat_minor": 5
}
