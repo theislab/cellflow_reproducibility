{
 "cells": [
  {
   "cell_type": "code",
   "execution_count": 3,
   "id": "bd22414c-9298-43d1-9c7e-e1d86b0d966c",
   "metadata": {},
   "outputs": [],
   "source": [
    "import scanpy as sc\n",
    "import functools\n",
    "import os\n",
    "import sys\n",
    "import traceback\n",
    "from typing import Dict, Literal, Optional, Tuple\n",
    "import cfp\n",
    "import scanpy as sc\n",
    "import numpy as np\n",
    "import functools\n",
    "from ott.solvers import utils as solver_utils\n",
    "import optax\n",
    "from omegaconf import OmegaConf\n",
    "from typing import NamedTuple, Any\n",
    "import hydra\n",
    "import wandb\n",
    "import anndata as ad\n",
    "import pandas as pd\n",
    "import os\n",
    "from cfp.training import ComputationCallback\n",
    "from cfp.preprocessing import transfer_labels, compute_wknn\n",
    "from cfp.training import ComputationCallback\n",
    "from numpy.typing import ArrayLike\n",
    "from cfp.metrics import compute_r_squared, compute_e_distance\n"
   ]
  },
  {
   "cell_type": "code",
   "execution_count": 2,
   "id": "92d143ca-df64-492f-8479-d37a914d081d",
   "metadata": {},
   "outputs": [],
   "source": [
    "adata = sc.read_h5ad(\"/lustre/groups/ml01/workspace/ot_perturbation/data/zebrafish_new/zebrafish_processed.h5ad\")"
   ]
  },
  {
   "cell_type": "code",
   "execution_count": 20,
   "id": "e2f54e40-13ef-4944-992d-87c9fc83c1f4",
   "metadata": {},
   "outputs": [],
   "source": [
    "def compute_metrics(adata_ref: ad.AnnData, adata_pred: ad.AnnData, adata_ood_true: ad.AnnData, cell_types_subsets: dict[str, list] = {}, n_neighbors: int=1, cell_type_col: str = \"cell_type_broad\", min_cells_for_dist_metrics: int = 50) -> dict:\n",
    "    dict_to_log = {}\n",
    "    compute_wknn(ref_adata=adata_ref, query_adata=adata_ood_true, n_neighbors=n_neighbors, ref_rep_key=\"X_aligned\", query_rep_key=\"X_aligned\")\n",
    "    transfer_labels(query_adata=adata_ood_true, ref_adata=adata_ref, label_key=cell_type_col)\n",
    "    ct_transferred_true = adata_ood_true.obs[\"cell_type_broad_transfer\"].value_counts().to_frame()\n",
    "    ct_transferred_true = ct_transferred_true / ct_transferred_true.sum()\n",
    "    \n",
    "    compute_wknn(ref_adata=adata_ref, query_adata=adata_pred, n_neighbors=n_neighbors, ref_rep_key=\"X_aligned\", query_rep_key=\"X_aligned\")\n",
    "    transfer_labels(query_adata=adata_pred, ref_adata=adata_ref, label_key=cell_type_col)\n",
    "    ct_transferred_pred = adata_pred.obs[f\"{cell_type_col}_transfer\"].value_counts().to_frame()\n",
    "    ct_transferred_pred/=ct_transferred_pred.sum()\n",
    "    shared_cell_types = list(set(ct_transferred_true.index).intersection(set(ct_transferred_pred.index)))\n",
    "    cell_type_fraction_error = np.abs(ct_transferred_true.loc[shared_cell_types] - ct_transferred_pred.loc[shared_cell_types]).sum()\n",
    "\n",
    "    cell_types_subsets_fraction_error = {}\n",
    "    if len(cell_types_subsets) > 0:\n",
    "        \n",
    "        for cts_name, cts in cell_types_subsets.items():\n",
    "            try:\n",
    "                cell_types = list(set(shared_cell_types).intersection(cts))\n",
    "                ct_true_normalized = ct_transferred_true.loc[cell_types]/ct_transferred_true.loc[cell_types].sum().values()\n",
    "                ct_pred_normalized = ct_transferred_pred.loc[cell_types]/ct_transferred_pred.loc[cell_types].sum().values()\n",
    "                cell_types_subsets_fraction_error[cts_name] = np.abs(ct_true_normalized - ct_pred_normalized).sum()\n",
    "            except:\n",
    "                continue\n",
    "    all_cell_types = list(adata_ood_true.obs[\"cell_type_broad\"].value_counts()[adata_ood_true.obs[\"cell_type_broad\"].value_counts()>min_cells_for_dist_metrics].index)\n",
    "\n",
    "    e_distance = {}\n",
    "    r_sq = {}\n",
    "    n_cell_types_covered = 0\n",
    "    for cell_type in all_cell_types: \n",
    "        dist_true = adata_ood_true[adata_ood_true.obs[\"cell_type_broad\"]==cell_type].obsm[\"X_aligned\"]\n",
    "        dist_pred = adata_pred[adata_pred.obs[f\"{cell_type_col}_transfer\"]==cell_type].obsm[\"X_aligned\"]\n",
    "        if len(dist_pred) == 0:\n",
    "            continue\n",
    "        n_cell_types_covered+=1\n",
    "        r_sq[f\"r_squared_{cell_type}\"] = compute_r_squared(dist_true, dist_pred)\n",
    "        e_distance[f\"e_distance_{cell_type}\"] = compute_e_distance(dist_true, dist_pred)\n",
    "\n",
    "    fraction_cell_types_covered = n_cell_types_covered/len(all_cell_types)\n",
    "    \n",
    "    # metrics to return\n",
    "    dict_to_log[\"fraction_cell_types_covered\"] = fraction_cell_types_covered\n",
    "    dict_to_log[\"cell_type_fraction_error\"] = cell_type_fraction_error.values[0]\n",
    "    dict_to_log[\"mean_r_sq_per_cell_type\"] = np.mean(list(r_sq.values()))\n",
    "    dict_to_log[\"mean_e_distance_per_cell_type\"] = np.mean(list(e_distance.values()))\n",
    "    dict_to_log[\"median_r_sq_per_cell_type\"] = np.median(list(r_sq.values()))\n",
    "    dict_to_log[\"median_e_distance_per_cell_type\"] = np.median(list(e_distance.values()))\n",
    "    dict_to_log.update(cell_types_subsets_fraction_error)\n",
    "    dict_to_log.update(r_sq)\n",
    "    dict_to_log.update(e_distance)\n",
    "    return dict_to_log\n",
    "    "
   ]
  },
  {
   "cell_type": "code",
   "execution_count": 21,
   "id": "bff673c1-b5cf-4650-aaec-419e601dc3f8",
   "metadata": {},
   "outputs": [
    {
     "name": "stderr",
     "output_type": "stream",
     "text": [
      "/ictstr01/home/icb/dominik.klein/git_repos/cell_flow_perturbation/src/cfp/preprocessing/_wknn.py:136: ImplicitModificationWarning: Trying to modify attribute `.obs` of view, initializing view as actual.\n",
      "  query_adata.obs[f\"{label_key}_transfer\"] = scores.idxmax(1)\n",
      "/ictstr01/home/icb/dominik.klein/git_repos/cell_flow_perturbation/src/cfp/preprocessing/_wknn.py:136: ImplicitModificationWarning: Trying to modify attribute `.obs` of view, initializing view as actual.\n",
      "  query_adata.obs[f\"{label_key}_transfer\"] = scores.idxmax(1)\n"
     ]
    }
   ],
   "source": [
    "ood_conds = ['epha4a_control_36']\n",
    "cell_types_subsets = {}\n",
    "ood_cond_results = {}\n",
    "\n",
    "for ood_cond in ood_conds:\n",
    "    adata_ood_true = adata[adata.obs[\"condition\"]==ood_cond]\n",
    "    tp = int(ood_cond.split(\"_\")[-1])\n",
    "    adata_ood_pred = adata[(adata.obs[\"is_control\"]) & (adata.obs[\"timepoint\"]==tp)]\n",
    "    ood_cond_results[ood_cond] = compute_metrics(adata_ref=adata, adata_pred=adata_ood_pred, adata_ood_true=adata_ood_true, cell_types_subsets=cell_types_subsets)"
   ]
  },
  {
   "cell_type": "code",
   "execution_count": 34,
   "id": "f332c314-18ac-4db2-a9a7-37fef3eac1e4",
   "metadata": {},
   "outputs": [],
   "source": [
    "\n",
    "out_dir = \"./\"\n",
    "pd.DataFrame.from_dict(ood_cond_results[ood_cond], columns=[ood_cond], orient=\"index\").to_csv(os.path.join(out_dir, f\"{ood_cond}_identity.csv\"))\n"
   ]
  },
  {
   "cell_type": "code",
   "execution_count": null,
   "id": "ec774526-84e2-46a9-ae62-b4ee894d9ee8",
   "metadata": {},
   "outputs": [],
   "source": []
  }
 ],
 "metadata": {
  "kernelspec": {
   "display_name": "cfp",
   "language": "python",
   "name": "cfp"
  },
  "language_info": {
   "codemirror_mode": {
    "name": "ipython",
    "version": 3
   },
   "file_extension": ".py",
   "mimetype": "text/x-python",
   "name": "python",
   "nbconvert_exporter": "python",
   "pygments_lexer": "ipython3",
   "version": "3.11.9"
  }
 },
 "nbformat": 4,
 "nbformat_minor": 5
}
