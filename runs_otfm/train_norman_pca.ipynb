{
 "cells": [
  {
   "cell_type": "code",
   "execution_count": 1,
   "id": "ebf6962a-41cf-4274-beca-96db4aca3f35",
   "metadata": {},
   "outputs": [],
   "source": [
    "%load_ext autoreload\n",
    "%autoreload 2"
   ]
  },
  {
   "cell_type": "markdown",
   "id": "aa6b2018-4e4d-40d2-8235-25abd847400b",
   "metadata": {},
   "source": [
    "**Adapted from** [https://github.com/theislab/ot_pert_reproducibility/blob/4944509fc4820bde50d0c1da19c33a337ae0df0d/runs_otfm/train_sciplex.py](https://github.com/theislab/ot_pert_reproducibility/blob/4944509fc4820bde50d0c1da19c33a337ae0df0d/runs_otfm/train_sciplex.py)\\\n",
    "The following dependencies need to be installed first:\n",
    "```bash\n",
    "pip install hydra-core --upgrade\n",
    "pip install wandb\n",
    "pip install hydra-submitit-launcher --upgrade\n",
    "```"
   ]
  },
  {
   "cell_type": "code",
   "execution_count": 2,
   "id": "0bfe7e8a-5f29-4be9-bc1f-c8c9edc6eb78",
   "metadata": {},
   "outputs": [],
   "source": [
    "import functools\n",
    "import os\n",
    "import sys\n",
    "import traceback\n",
    "from typing import Dict, Literal, Optional, Tuple\n",
    "\n",
    "import cfp\n",
    "import anndata\n",
    "import scanpy as sc\n",
    "import numpy as np\n",
    "import functools\n",
    "from ott.solvers import utils as solver_utils\n",
    "import optax\n",
    "from omegaconf import OmegaConf\n",
    "from typing import NamedTuple, Any\n",
    "import hydra\n",
    "import wandb"
   ]
  },
  {
   "cell_type": "code",
   "execution_count": 3,
   "id": "1e10af69-6ef9-4dd3-a358-753477f4e5ca",
   "metadata": {},
   "outputs": [
    {
     "data": {
      "text/plain": [
       "{'dataset': {'split': 0,\n",
       "  'sample_rep': 'X_pca',\n",
       "  'perturbation_covariates': {'target_gene': ['gene_1', 'gene_2']},\n",
       "  'perturbation_covariate_reps': {'target_gene': 'esm2'},\n",
       "  'wandb_project': 'otfm_norman'},\n",
       " 'model': {'condition_embedding_dim': 1024,\n",
       "  'time_encoder_dims': [2048, 2048, 2048],\n",
       "  'time_encoder_dropout': 0.0,\n",
       "  'hidden_dims': [4096, 4096, 4096],\n",
       "  'hidden_dropout': 0.0,\n",
       "  'decoder_dims': [4096, 4096, 4096],\n",
       "  'decoder_dropout': 0.2,\n",
       "  'pooling': 'attention_token',\n",
       "  'layers_before_pool': {'target_gene': {'layer_type': 'mlp',\n",
       "    'dims': [1024, 1024],\n",
       "    'dropout_rate': 0.5}},\n",
       "  'layers_after_pool': {'layer_type': 'mlp',\n",
       "   'dims': [1024, 1024],\n",
       "   'dropout_rate': 0.2},\n",
       "  'cond_output_dropout': 0.9,\n",
       "  'time_freqs': 1024,\n",
       "  'flow_noise': 1.0,\n",
       "  'learning_rate': 5e-05,\n",
       "  'multi_steps': 50,\n",
       "  'epsilon': 0.1,\n",
       "  'tau_a': 1.0,\n",
       "  'tau_b': 1.0,\n",
       "  'flow_type': 'constant_noise',\n",
       "  'linear_projection_before_concatenation': False,\n",
       "  'layer_norm_before_concatenation': False},\n",
       " 'logger': {'offline': False,\n",
       "  'id': None,\n",
       "  'anonymous': None,\n",
       "  'project': 'otfm_norman',\n",
       "  'group': 'hparam_search',\n",
       "  'log_model': True},\n",
       " 'training': {'valid_freq': 1000,\n",
       "  'num_iterations': 10000,\n",
       "  'batch_size': 1024,\n",
       "  'test_n_conditions_on_log_iteration': 10,\n",
       "  'test_n_conditions_on_train_end': None,\n",
       "  'ood_n_conditions_on_log_iteration': 0,\n",
       "  'ood_n_conditions_on_train_end': None,\n",
       "  'out_dir': '/lustre/groups/ml01/workspace/ot_perturbation/data/norman/out',\n",
       "  'save_path': '/lustre/groups/ml01/workspace/ot_perturbation/models/otfm/norman',\n",
       "  'save_model': True}}"
      ]
     },
     "metadata": {},
     "output_type": "display_data"
    }
   ],
   "source": [
    "from hydra import compose, initialize\n",
    "\n",
    "with initialize(version_base=None, config_path='conf'):\n",
    "    config = compose(\n",
    "        config_name=\"train\",\n",
    "        overrides=[\n",
    "            \"dataset=norman\",\n",
    "            \"model=norman\",\n",
    "            \"training=norman\",\n",
    "            \"logger=norman\",\n",
    "        ]\n",
    "    )\n",
    "config_dict  = OmegaConf.to_container(config, resolve=True)\n",
    "display(config_dict)"
   ]
  },
  {
   "cell_type": "code",
   "execution_count": 4,
   "id": "5b63fbe5-7d8b-4cb6-a0ea-9e4e6e254832",
   "metadata": {},
   "outputs": [],
   "source": [
    "split = config_dict[\"dataset\"][\"split\"]\n",
    "adata_train_path = f\"/home/haicu/soeren.becker/repos/ot_pert_reproducibility/norman2019/norman_preprocessed_adata/adata_train_split_{split}.h5ad\"\n",
    "adata_test_path = f\"/home/haicu/soeren.becker/repos/ot_pert_reproducibility/norman2019/norman_preprocessed_adata/adata_val_split_{split}.h5ad\"\n",
    "adata_ood_path = f\"/home/haicu/soeren.becker/repos/ot_pert_reproducibility/norman2019/norman_preprocessed_adata/adata_test_split_{split}.h5ad\"\n",
    "adata_train = sc.read_h5ad(adata_train_path)\n",
    "adata_test = sc.read_h5ad(adata_test_path)\n",
    "adata_ood = sc.read_h5ad(adata_ood_path)"
   ]
  },
  {
   "cell_type": "code",
   "execution_count": 5,
   "id": "8bfb2566-30b8-47df-abd6-df24c758d658",
   "metadata": {},
   "outputs": [],
   "source": [
    "cf = cfp.model.CellFlow(adata_train, solver=\"otfm\")"
   ]
  },
  {
   "cell_type": "code",
   "execution_count": 6,
   "id": "ce2aa755-1d94-475e-af25-f172acec5a6e",
   "metadata": {},
   "outputs": [],
   "source": [
    "# Prepare the training data and perturbation conditions\n",
    "perturbation_covariates = {k: tuple(v) for k, v in config_dict[\"dataset\"][\"perturbation_covariates\"].items()}"
   ]
  },
  {
   "cell_type": "code",
   "execution_count": 7,
   "id": "b11d8dc9-7b94-43ca-baf7-77625635880e",
   "metadata": {},
   "outputs": [
    {
     "name": "stderr",
     "output_type": "stream",
     "text": [
      "/ictstr01/home/haicu/soeren.becker/repos/cell_flow_perturbation/src/cfp/data/_datamanager.py:340: SettingWithCopyWarning: \n",
      "A value is trying to be set on a copy of a slice from a DataFrame.\n",
      "Try using .loc[row_indexer,col_indexer] = value instead\n",
      "\n",
      "See the caveats in the documentation: https://pandas.pydata.org/pandas-docs/stable/user_guide/indexing.html#returning-a-view-versus-a-copy\n",
      "  _covariate_data[\"cell_index\"] = _covariate_data.index\n",
      "100%|██████████| 139/139 [00:00<00:00, 231.87it/s]\n"
     ]
    }
   ],
   "source": [
    "cf.prepare_data(\n",
    "    sample_rep=\"X_pca\",\n",
    "    control_key=\"control\",\n",
    "    perturbation_covariates=perturbation_covariates,\n",
    "    perturbation_covariate_reps=dict(config_dict[\"dataset\"][\"perturbation_covariate_reps\"]),\n",
    "    sample_covariates=None,\n",
    "    sample_covariate_reps=None,\n",
    "    split_covariates=None\n",
    ")"
   ]
  },
  {
   "cell_type": "code",
   "execution_count": 8,
   "id": "842dd1a8-4280-40ca-be0a-9da1b2114bdb",
   "metadata": {},
   "outputs": [],
   "source": [
    "match_fn = functools.partial(\n",
    "    solver_utils.match_linear,\n",
    "    epsilon=config_dict[\"model\"][\"epsilon\"],\n",
    "    scale_cost=\"mean\",\n",
    "    tau_a=config_dict[\"model\"][\"tau_a\"],\n",
    "    tau_b=config_dict[\"model\"][\"tau_b\"]\n",
    ")"
   ]
  },
  {
   "cell_type": "code",
   "execution_count": 9,
   "id": "8c80b8b3-8abd-4d68-a446-8fa003b2adc0",
   "metadata": {},
   "outputs": [],
   "source": [
    "optimizer = optax.MultiSteps(optax.adam(config_dict[\"model\"][\"learning_rate\"]), config_dict[\"model\"][\"multi_steps\"])\n",
    "flow = {config_dict[\"model\"][\"flow_type\"]: config_dict[\"model\"][\"flow_noise\"]}\n",
    "\n",
    "layers_before_pool = config_dict[\"model\"][\"layers_before_pool\"]\n",
    "layers_after_pool = config_dict[\"model\"][\"layers_after_pool\"]"
   ]
  },
  {
   "cell_type": "code",
   "execution_count": 10,
   "id": "c5058b25-d951-40be-8539-917bde3b0e2c",
   "metadata": {},
   "outputs": [],
   "source": [
    "# Prepare the model\n",
    "cf.prepare_model(\n",
    "    encode_conditions=True,\n",
    "    condition_embedding_dim=config_dict[\"model\"][\"condition_embedding_dim\"],\n",
    "    pooling=config_dict[\"model\"][\"pooling\"],\n",
    "    time_encoder_dims=config_dict[\"model\"][\"time_encoder_dims\"],\n",
    "    time_encoder_dropout=config_dict[\"model\"][\"time_encoder_dropout\"],\n",
    "    hidden_dims=config_dict[\"model\"][\"hidden_dims\"],\n",
    "    hidden_dropout=config_dict[\"model\"][\"hidden_dropout\"],\n",
    "    decoder_dims=config_dict[\"model\"][\"decoder_dims\"],\n",
    "    decoder_dropout=config_dict[\"model\"][\"decoder_dropout\"],\n",
    "    layers_before_pool=layers_before_pool,\n",
    "    layers_after_pool=layers_after_pool,\n",
    "    cond_output_dropout=config_dict[\"model\"][\"cond_output_dropout\"],\n",
    "    time_freqs=config_dict[\"model\"][\"time_freqs\"],\n",
    "    match_fn=match_fn,\n",
    "    optimizer=optimizer,\n",
    "    flow=flow,\n",
    "    layer_norm_before_concatenation=config_dict[\"model\"][\"layer_norm_before_concatenation\"],\n",
    "    linear_projection_before_concatenation=config_dict[\"model\"][\"linear_projection_before_concatenation\"],\n",
    ")"
   ]
  },
  {
   "cell_type": "code",
   "execution_count": 11,
   "id": "b30f3687-633d-476a-a584-d3819a5ecbc7",
   "metadata": {},
   "outputs": [
    {
     "name": "stderr",
     "output_type": "stream",
     "text": [
      "/ictstr01/home/haicu/soeren.becker/repos/cell_flow_perturbation/src/cfp/data/_datamanager.py:340: SettingWithCopyWarning: \n",
      "A value is trying to be set on a copy of a slice from a DataFrame.\n",
      "Try using .loc[row_indexer,col_indexer] = value instead\n",
      "\n",
      "See the caveats in the documentation: https://pandas.pydata.org/pandas-docs/stable/user_guide/indexing.html#returning-a-view-versus-a-copy\n",
      "  _covariate_data[\"cell_index\"] = _covariate_data.index\n",
      "100%|██████████| 32/32 [00:00<00:00, 599.00it/s]\n"
     ]
    }
   ],
   "source": [
    "cf.prepare_validation_data(\n",
    "    adata_test,\n",
    "    name=\"test\",\n",
    "    n_conditions_on_log_iteration=config_dict[\"training\"][\"test_n_conditions_on_log_iteration\"],\n",
    "    n_conditions_on_train_end=config_dict[\"training\"][\"test_n_conditions_on_log_iteration\"],\n",
    ")"
   ]
  },
  {
   "cell_type": "code",
   "execution_count": 12,
   "id": "e23e954c-973c-4339-89a4-6df2d60bfb10",
   "metadata": {},
   "outputs": [
    {
     "name": "stderr",
     "output_type": "stream",
     "text": [
      "/ictstr01/home/haicu/soeren.becker/repos/cell_flow_perturbation/src/cfp/data/_datamanager.py:340: SettingWithCopyWarning: \n",
      "A value is trying to be set on a copy of a slice from a DataFrame.\n",
      "Try using .loc[row_indexer,col_indexer] = value instead\n",
      "\n",
      "See the caveats in the documentation: https://pandas.pydata.org/pandas-docs/stable/user_guide/indexing.html#returning-a-view-versus-a-copy\n",
      "  _covariate_data[\"cell_index\"] = _covariate_data.index\n",
      "100%|██████████| 108/108 [00:00<00:00, 426.50it/s]\n"
     ]
    }
   ],
   "source": [
    "cf.prepare_validation_data(\n",
    "    adata_ood,\n",
    "    name=\"ood\",\n",
    "    n_conditions_on_log_iteration=2,#config_dict[\"training\"][\"ood_n_conditions_on_log_iteration\"],\n",
    "    n_conditions_on_train_end=2,#config_dict[\"training\"][\"ood_n_conditions_on_log_iteration\"],\n",
    ")"
   ]
  },
  {
   "cell_type": "code",
   "execution_count": 13,
   "id": "220752f1-c1f2-4f85-96ac-ce17baf96da0",
   "metadata": {},
   "outputs": [],
   "source": [
    "metrics_callback = cfp.training.Metrics(metrics=[\"r_squared\", \"mmd\", \"e_distance\"])\n",
    "decoded_metrics_callback = cfp.training.PCADecodedMetrics(ref_adata=adata_train, metrics=[\"r_squared\", \"mmd\", \"e_distance\"])\n",
    "wandb_callback = cfp.training.WandbLogger(project=\"cfp_otfm_norman\", out_dir=\"/home/icb/dominik.klein/tmp\", config=config_dict)\n",
    "\n",
    "callbacks = [metrics_callback, decoded_metrics_callback, wandb_callback]"
   ]
  },
  {
   "cell_type": "code",
   "execution_count": 14,
   "id": "3428ab7f-2de4-4a35-9116-1481c932eea3",
   "metadata": {},
   "outputs": [
    {
     "name": "stderr",
     "output_type": "stream",
     "text": [
      "\u001b[34m\u001b[1mwandb\u001b[0m: Using wandb-core as the SDK backend. Please refer to https://wandb.me/wandb-core for more information.\n",
      "\u001b[34m\u001b[1mwandb\u001b[0m: Currently logged in as: \u001b[33msab\u001b[0m. Use \u001b[1m`wandb login --relogin`\u001b[0m to force relogin\n",
      "\u001b[34m\u001b[1mwandb\u001b[0m: \u001b[33mWARNING\u001b[0m Path /home/icb/dominik.klein/tmp/wandb/ wasn't writable, using system temp directory.\n"
     ]
    },
    {
     "data": {
      "text/html": [
       "Tracking run with wandb version 0.18.5"
      ],
      "text/plain": [
       "<IPython.core.display.HTML object>"
      ]
     },
     "metadata": {},
     "output_type": "display_data"
    },
    {
     "data": {
      "text/html": [
       "Run data is saved locally in <code>/tmp/wandb/run-20241018_154053-5zy74tvh</code>"
      ],
      "text/plain": [
       "<IPython.core.display.HTML object>"
      ]
     },
     "metadata": {},
     "output_type": "display_data"
    },
    {
     "data": {
      "text/html": [
       "Syncing run <strong><a href='https://wandb.ai/sab/cfp_otfm_norman/runs/5zy74tvh' target=\"_blank\">fine-smoke-4</a></strong> to <a href='https://wandb.ai/sab/cfp_otfm_norman' target=\"_blank\">Weights & Biases</a> (<a href='https://wandb.me/run' target=\"_blank\">docs</a>)<br/>"
      ],
      "text/plain": [
       "<IPython.core.display.HTML object>"
      ]
     },
     "metadata": {},
     "output_type": "display_data"
    },
    {
     "data": {
      "text/html": [
       " View project at <a href='https://wandb.ai/sab/cfp_otfm_norman' target=\"_blank\">https://wandb.ai/sab/cfp_otfm_norman</a>"
      ],
      "text/plain": [
       "<IPython.core.display.HTML object>"
      ]
     },
     "metadata": {},
     "output_type": "display_data"
    },
    {
     "data": {
      "text/html": [
       " View run at <a href='https://wandb.ai/sab/cfp_otfm_norman/runs/5zy74tvh' target=\"_blank\">https://wandb.ai/sab/cfp_otfm_norman/runs/5zy74tvh</a>"
      ],
      "text/plain": [
       "<IPython.core.display.HTML object>"
      ]
     },
     "metadata": {},
     "output_type": "display_data"
    },
    {
     "name": "stderr",
     "output_type": "stream",
     "text": [
      "100%|██████████| 10000/10000 [22:11<00:00,  7.51it/s, loss=0.406]  \n"
     ]
    }
   ],
   "source": [
    "cf.train(\n",
    "    num_iterations=config_dict[\"training\"][\"num_iterations\"],\n",
    "    batch_size=config_dict[\"training\"][\"batch_size\"],\n",
    "    callbacks=callbacks,\n",
    "    valid_freq=config_dict[\"training\"][\"valid_freq\"],\n",
    ")"
   ]
  },
  {
   "cell_type": "code",
   "execution_count": null,
   "id": "42605cc8-daf2-42f3-93d2-b8e832357a7d",
   "metadata": {},
   "outputs": [],
   "source": []
  }
 ],
 "metadata": {
  "kernelspec": {
   "display_name": "env_cfp",
   "language": "python",
   "name": "env_cfp"
  },
  "language_info": {
   "codemirror_mode": {
    "name": "ipython",
    "version": 3
   },
   "file_extension": ".py",
   "mimetype": "text/x-python",
   "name": "python",
   "nbconvert_exporter": "python",
   "pygments_lexer": "ipython3",
   "version": "3.12.0"
  }
 },
 "nbformat": 4,
 "nbformat_minor": 5
}
