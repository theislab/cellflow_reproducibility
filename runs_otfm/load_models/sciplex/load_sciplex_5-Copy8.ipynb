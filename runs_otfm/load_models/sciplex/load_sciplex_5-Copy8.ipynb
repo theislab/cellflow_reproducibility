{
 "cells": [
  {
   "cell_type": "code",
   "execution_count": 1,
   "id": "00dbaf13-af84-460d-b1a1-59a2e370b88b",
   "metadata": {},
   "outputs": [],
   "source": [
    "import os\n",
    "os.environ['XLA_PYTHON_CLIENT_PREALLOCATE'] = 'false'"
   ]
  },
  {
   "cell_type": "code",
   "execution_count": 2,
   "id": "71ad2353-da64-4e0b-a8e6-1c34292ad962",
   "metadata": {},
   "outputs": [
    {
     "name": "stderr",
     "output_type": "stream",
     "text": [
      "/home/icb/dominik.klein/mambaforge/envs/cfp/lib/python3.11/site-packages/tqdm/auto.py:21: TqdmWarning: IProgress not found. Please update jupyter and ipywidgets. See https://ipywidgets.readthedocs.io/en/stable/user_install.html\n",
      "  from .autonotebook import tqdm as notebook_tqdm\n"
     ]
    }
   ],
   "source": [
    "import cfp\n",
    "import scanpy as sc\n",
    "import anndata as ad\n",
    "import numpy as np"
   ]
  },
  {
   "cell_type": "code",
   "execution_count": 3,
   "id": "505259bb-3b59-42ed-99c8-25e0209afe54",
   "metadata": {},
   "outputs": [],
   "source": [
    "split = 5\n",
    "model_name = \"wild-snowball-463\""
   ]
  },
  {
   "cell_type": "code",
   "execution_count": 4,
   "id": "d40c7cd6-b75e-4666-b77c-b7be56a898d1",
   "metadata": {},
   "outputs": [],
   "source": [
    "adata_train_path = f\"/lustre/groups/ml01/workspace/ot_perturbation/data/sciplex/adata_train_{split}.h5ad\"\n",
    "adata_test_path = f\"/lustre/groups/ml01/workspace/ot_perturbation/data/sciplex/adata_test_{split}.h5ad\"\n",
    "adata_ood_path = f\"/lustre/groups/ml01/workspace/ot_perturbation/data/sciplex/adata_ood_{split}.h5ad\"\n",
    "adata_train = sc.read_h5ad(adata_train_path)\n",
    "adata_test = sc.read_h5ad(adata_test_path)\n",
    "adata_ood = sc.read_h5ad(adata_ood_path)\n",
    "    "
   ]
  },
  {
   "cell_type": "code",
   "execution_count": 5,
   "id": "39150dd3-6c54-4439-95aa-f8078811e981",
   "metadata": {},
   "outputs": [
    {
     "name": "stderr",
     "output_type": "stream",
     "text": [
      "/tmp/ipykernel_3291779/3822961792.py:3: ImplicitModificationWarning: Trying to modify attribute `.obs` of view, initializing view as actual.\n",
      "  adata_ood_ctrl.obs[\"control\"] = True\n",
      "/tmp/ipykernel_3291779/3822961792.py:4: ImplicitModificationWarning: Trying to modify attribute `.obs` of view, initializing view as actual.\n",
      "  adata_test_ctrl.obs[\"control\"] = True\n",
      "/ictstr01/home/icb/dominik.klein/git_repos/cell_flow_perturbation/src/cfp/data/_datamanager.py:334: SettingWithCopyWarning: \n",
      "A value is trying to be set on a copy of a slice from a DataFrame.\n",
      "Try using .loc[row_indexer,col_indexer] = value instead\n",
      "\n",
      "See the caveats in the documentation: https://pandas.pydata.org/pandas-docs/stable/user_guide/indexing.html#returning-a-view-versus-a-copy\n",
      "  _covariate_data[\"cell_index\"] = _covariate_data.index\n",
      "100%|██████████| 27/27 [00:00<00:00, 122.49it/s]\n",
      "100%|██████████| 32/32 [00:00<00:00, 691.80it/s]\n",
      "100%|██████████| 24/24 [00:00<00:00, 755.02it/s]\n"
     ]
    }
   ],
   "source": [
    "adata_ood_ctrl = adata_ood[adata_ood.obs[\"condition\"].str.contains(\"Vehicle\")]\n",
    "adata_test_ctrl = adata_test[adata_test.obs[\"condition\"].str.contains(\"Vehicle\")]\n",
    "adata_ood_ctrl.obs[\"control\"] = True\n",
    "adata_test_ctrl.obs[\"control\"] = True\n",
    "covariate_data_ood = adata_ood[~adata_ood.obs[\"condition\"].str.contains(\"Vehicle\")].obs.drop_duplicates(subset=[\"condition\"])\n",
    "covariate_data_test = adata_test[~adata_test.obs[\"condition\"].str.contains(\"Vehicle\")].obs.drop_duplicates(subset=[\"condition\"])\n",
    "\n",
    "cf = cfp.model.CellFlow.load(f\"/lustre/groups/ml01/workspace/ot_perturbation/data/sciplex/out/{model_name}_CellFlow.pkl\")\n",
    "\n",
    "preds_ood = cf.predict(adata=adata_ood_ctrl, sample_rep=\"X_pca\", condition_id_key=\"condition\", covariate_data=covariate_data_ood)\n"
   ]
  },
  {
   "cell_type": "code",
   "execution_count": 9,
   "id": "b6f7ee25-eeac-46bc-a305-be753cc7c0ee",
   "metadata": {},
   "outputs": [
    {
     "name": "stderr",
     "output_type": "stream",
     "text": [
      "/home/icb/dominik.klein/mambaforge/envs/cfp/lib/python3.11/site-packages/anndata/_core/aligned_df.py:67: ImplicitModificationWarning: Transforming to str index.\n",
      "  warnings.warn(\"Transforming to str index.\", ImplicitModificationWarning)\n"
     ]
    }
   ],
   "source": [
    "import pandas as pd\n",
    "import cfp.preprocessing as cfpp\n",
    "all_data = []\n",
    "conditions = []\n",
    "\n",
    "for condition, array in preds_ood.items():\n",
    "    all_data.append(array)\n",
    "    conditions.extend([condition] * array.shape[0])\n",
    "\n",
    "# Stack all data vertically to create a single array\n",
    "all_data_array = np.vstack(all_data)\n",
    "\n",
    "# Create a DataFrame for the .obs attribute\n",
    "obs_data = pd.DataFrame({\n",
    "    'condition': conditions\n",
    "})\n",
    "\n",
    "# Create the Anndata object\n",
    "adata_ood_result = ad.AnnData(X=np.empty((len(all_data_array),2001)), obs=obs_data)\n",
    "adata_ood_result.obsm[\"X_pca_pred\"] = all_data_array"
   ]
  },
  {
   "cell_type": "code",
   "execution_count": 10,
   "id": "96feadf6-5cd4-4ac5-90b1-bd8d90e54c58",
   "metadata": {},
   "outputs": [],
   "source": [
    "cfpp.reconstruct_pca(query_adata=adata_ood_result, use_rep=\"X_pca_pred\", ref_adata=adata_train, layers_key_added=\"X_recon_pred\")\n"
   ]
  },
  {
   "cell_type": "code",
   "execution_count": 11,
   "id": "2ae3a2a5-aec2-4568-b8f0-378baf4ab2a4",
   "metadata": {},
   "outputs": [],
   "source": [
    "adata_ref_ood = adata_ood[~adata_ood.obs[\"condition\"].str.contains('Vehicle')].copy()\n",
    "cfpp.centered_pca(adata_ref_ood, n_comps=10)\n"
   ]
  },
  {
   "cell_type": "code",
   "execution_count": 12,
   "id": "30614228-5ee0-4923-bb57-a4c77714dd35",
   "metadata": {},
   "outputs": [],
   "source": [
    "adata_pred_ood = adata_ood_result"
   ]
  },
  {
   "cell_type": "code",
   "execution_count": 13,
   "id": "645646f2-f20b-4416-8091-4f144a5fc5ad",
   "metadata": {},
   "outputs": [],
   "source": [
    "cfpp.project_pca(query_adata=adata_pred_ood, ref_adata=adata_ref_ood)\n",
    "cfpp.project_pca(query_adata=adata_ood, ref_adata=adata_ref_ood)\n",
    "ood_data_target_encoded = {}\n",
    "ood_data_target_decoded = {}\n",
    "ood_data_target_encoded_predicted = {}\n",
    "ood_data_target_decoded_predicted = {}\n",
    "for cond in adata_ood.obs[\"condition\"].cat.categories:\n",
    "    if \"Vehicle\" in cond:\n",
    "        continue\n",
    "    ood_data_target_encoded[cond] = adata_ood[adata_ood.obs[\"condition\"] == cond].obsm[\"X_pca\"]\n",
    "    ood_data_target_decoded[cond] = adata_ood[adata_ood.obs[\"condition\"] == cond].X.toarray()\n",
    "    ood_data_target_decoded_predicted[cond] = adata_pred_ood[adata_pred_ood.obs[\"condition\"] == cond].layers[\"X_recon_pred\"]\n",
    "    ood_data_target_encoded_predicted[cond] = adata_pred_ood[adata_pred_ood.obs[\"condition\"] == cond].obsm[\"X_pca\"]\n"
   ]
  },
  {
   "cell_type": "code",
   "execution_count": 14,
   "id": "d7c36c55-be72-491f-ae40-e350e3bda4c3",
   "metadata": {},
   "outputs": [],
   "source": [
    "import functools\n",
    "import jax\n",
    "import numpy as np\n",
    "import scanpy as sc\n",
    "import cfp.preprocessing as cfpp\n",
    "from cfp.metrics import compute_mean_metrics, compute_metrics, compute_metrics_fast\n",
    "import os\n",
    "import pandas as pd"
   ]
  },
  {
   "cell_type": "code",
   "execution_count": 15,
   "id": "4c4bcc0f-8ca7-4a14-b147-2f117eeb6082",
   "metadata": {},
   "outputs": [],
   "source": [
    "ood_metrics_encoded = jax.tree_util.tree_map(\n",
    "    compute_metrics_fast, ood_data_target_encoded, ood_data_target_encoded_predicted\n",
    ")\n",
    "mean_ood_metrics_encoded = compute_mean_metrics(ood_metrics_encoded, prefix=\"encoded_ood_\")\n",
    "\n",
    "ood_metrics_decoded = jax.tree_util.tree_map(\n",
    "    compute_metrics_fast, ood_data_target_decoded, ood_data_target_decoded_predicted\n",
    ")\n",
    "mean_ood_metrics_decoded = compute_mean_metrics(ood_metrics_decoded, prefix=\"decoded_ood_\")\n"
   ]
  },
  {
   "cell_type": "code",
   "execution_count": 16,
   "id": "57e2e591-84b8-44c0-a034-a6b44a4ffd82",
   "metadata": {},
   "outputs": [
    {
     "data": {
      "text/plain": [
       "{'decoded_ood_r_squared': 0.5348661258608282,\n",
       " 'decoded_ood_e_distance': 25.234276212413874,\n",
       " 'decoded_ood_mmd_distance': 0.04525858489235481}"
      ]
     },
     "execution_count": 16,
     "metadata": {},
     "output_type": "execute_result"
    }
   ],
   "source": [
    "mean_ood_metrics_decoded"
   ]
  },
  {
   "cell_type": "code",
   "execution_count": 17,
   "id": "1ae5ae4d-cf0f-4712-be9d-3658cecf1af1",
   "metadata": {},
   "outputs": [
    {
     "data": {
      "text/plain": [
       "{'encoded_ood_r_squared': -1.360208534227988,\n",
       " 'encoded_ood_e_distance': 60.33726974321534,\n",
       " 'encoded_ood_mmd_distance': 0.8656123043542885}"
      ]
     },
     "execution_count": 17,
     "metadata": {},
     "output_type": "execute_result"
    }
   ],
   "source": [
    "mean_ood_metrics_encoded"
   ]
  },
  {
   "cell_type": "code",
   "execution_count": 18,
   "id": "3bf0fdc0-97c7-4f04-a33e-1bc41649d93f",
   "metadata": {},
   "outputs": [
    {
     "data": {
      "text/plain": [
       "{'A549_Alvespimycin_(17-DMAG)_HCl_10.0': {'r_squared': -0.8475600246691433,\n",
       "  'e_distance': 74.82401513408907,\n",
       "  'mmd_distance': 0.92467564},\n",
       " 'A549_Alvespimycin_(17-DMAG)_HCl_100.0': {'r_squared': -1.1215174490755282,\n",
       "  'e_distance': 89.91276421259919,\n",
       "  'mmd_distance': 0.95831186},\n",
       " 'A549_Belinostat_(PXD101)_10.0': {'r_squared': -1.0220381143122825,\n",
       "  'e_distance': 80.89894198496127,\n",
       "  'mmd_distance': 0.9173282},\n",
       " 'A549_Belinostat_(PXD101)_100.0': {'r_squared': -1.1169971670162018,\n",
       "  'e_distance': 81.91237946926333,\n",
       "  'mmd_distance': 0.9222993},\n",
       " 'A549_Belinostat_(PXD101)_1000.0': {'r_squared': -1.4577155690418548,\n",
       "  'e_distance': 95.84725769201447,\n",
       "  'mmd_distance': 0.95729846},\n",
       " 'A549_Dacinostat_(LAQ824)_10.0': {'r_squared': -1.4612742828219591,\n",
       "  'e_distance': 89.94282587157302,\n",
       "  'mmd_distance': 0.93888617},\n",
       " 'A549_Dacinostat_(LAQ824)_100.0': {'r_squared': -1.769159696517034,\n",
       "  'e_distance': 72.33405853259143,\n",
       "  'mmd_distance': 0.8933489},\n",
       " 'A549_Dacinostat_(LAQ824)_1000.0': {'r_squared': -1.4639791350879832,\n",
       "  'e_distance': 61.99416312305544,\n",
       "  'mmd_distance': 0.8965643},\n",
       " 'A549_Flavopiridol_HCl_10.0': {'r_squared': -0.7203012766590844,\n",
       "  'e_distance': 74.09207182028588,\n",
       "  'mmd_distance': 0.9240782},\n",
       " 'A549_Flavopiridol_HCl_100.0': {'r_squared': -0.4347155099090392,\n",
       "  'e_distance': 46.452422391419745,\n",
       "  'mmd_distance': 0.8323123},\n",
       " 'A549_Flavopiridol_HCl_1000.0': {'r_squared': -0.7454716867867699,\n",
       "  'e_distance': 63.75881018689327,\n",
       "  'mmd_distance': 0.86372393},\n",
       " 'A549_Flavopiridol_HCl_10000.0': {'r_squared': -0.6507370741089453,\n",
       "  'e_distance': 67.82503680732137,\n",
       "  'mmd_distance': 0.8835903},\n",
       " 'A549_Givinostat_(ITF2357)_10.0': {'r_squared': -1.0304481190927128,\n",
       "  'e_distance': 77.72867056319005,\n",
       "  'mmd_distance': 0.91729325},\n",
       " 'A549_Givinostat_(ITF2357)_100.0': {'r_squared': -1.0282565807389128,\n",
       "  'e_distance': 77.78388277131846,\n",
       "  'mmd_distance': 0.92224216},\n",
       " 'A549_Givinostat_(ITF2357)_1000.0': {'r_squared': -1.5456044682093215,\n",
       "  'e_distance': 86.51378758973152,\n",
       "  'mmd_distance': 0.92549306},\n",
       " 'A549_Givinostat_(ITF2357)_10000.0': {'r_squared': -1.174004157389208,\n",
       "  'e_distance': 68.2931207912554,\n",
       "  'mmd_distance': 0.9090983},\n",
       " 'A549_Hesperadin_10.0': {'r_squared': -1.1386534490209508,\n",
       "  'e_distance': 100.07005209001473,\n",
       "  'mmd_distance': 0.9887459},\n",
       " 'A549_Hesperadin_100.0': {'r_squared': -1.1882727190515459,\n",
       "  'e_distance': 97.19130009314598,\n",
       "  'mmd_distance': 0.96902704},\n",
       " 'A549_Hesperadin_1000.0': {'r_squared': -0.8536524697926657,\n",
       "  'e_distance': 77.03597650370523,\n",
       "  'mmd_distance': 0.94153863},\n",
       " 'A549_Quisinostat_(JNJ-26481585)_2HCl_10.0': {'r_squared': -1.9658317614387242,\n",
       "  'e_distance': 61.54624639419699,\n",
       "  'mmd_distance': 0.8909418},\n",
       " 'A549_Quisinostat_(JNJ-26481585)_2HCl_100.0': {'r_squared': -1.7570143315821452,\n",
       "  'e_distance': 60.165117307634475,\n",
       "  'mmd_distance': 0.8885436},\n",
       " 'A549_TAK-901_10.0': {'r_squared': -0.9092826536719651,\n",
       "  'e_distance': 83.13408890086522,\n",
       "  'mmd_distance': 0.92975646},\n",
       " 'A549_TAK-901_100.0': {'r_squared': -1.0765980470469638,\n",
       "  'e_distance': 101.54125177641744,\n",
       "  'mmd_distance': 0.9888665},\n",
       " 'A549_TAK-901_1000.0': {'r_squared': -0.9868944438360563,\n",
       "  'e_distance': 86.80872387885495,\n",
       "  'mmd_distance': 0.9564585},\n",
       " 'A549_Tanespimycin_(17-AAG)_10.0': {'r_squared': -0.884972899891892,\n",
       "  'e_distance': 74.28676225509894,\n",
       "  'mmd_distance': 0.9088232},\n",
       " 'A549_Tanespimycin_(17-AAG)_100.0': {'r_squared': -1.0493764026121397,\n",
       "  'e_distance': 82.35950452762174,\n",
       "  'mmd_distance': 0.92834115},\n",
       " 'A549_Tanespimycin_(17-AAG)_1000.0': {'r_squared': -1.065026541674491,\n",
       "  'e_distance': 86.30343927474004,\n",
       "  'mmd_distance': 0.9482436},\n",
       " 'K562_Alvespimycin_(17-DMAG)_HCl_10.0': {'r_squared': -0.7385705677063394,\n",
       "  'e_distance': 53.430993393996275,\n",
       "  'mmd_distance': 0.8264339},\n",
       " 'K562_Alvespimycin_(17-DMAG)_HCl_100.0': {'r_squared': -0.7564862864509854,\n",
       "  'e_distance': 51.691320035525735,\n",
       "  'mmd_distance': 0.82680917},\n",
       " 'K562_Alvespimycin_(17-DMAG)_HCl_1000.0': {'r_squared': -0.7676051926939584,\n",
       "  'e_distance': 49.32424578194965,\n",
       "  'mmd_distance': 0.8248598},\n",
       " 'K562_Belinostat_(PXD101)_10.0': {'r_squared': -0.7862223231003611,\n",
       "  'e_distance': 62.66135988103603,\n",
       "  'mmd_distance': 0.8455269},\n",
       " 'K562_Belinostat_(PXD101)_100.0': {'r_squared': -0.914886677498558,\n",
       "  'e_distance': 53.33913680903084,\n",
       "  'mmd_distance': 0.81963897},\n",
       " 'K562_Belinostat_(PXD101)_1000.0': {'r_squared': -0.978205571008588,\n",
       "  'e_distance': 70.37185484618546,\n",
       "  'mmd_distance': 0.8715065},\n",
       " 'K562_Dacinostat_(LAQ824)_10.0': {'r_squared': -1.3446749429670852,\n",
       "  'e_distance': 56.845166044887605,\n",
       "  'mmd_distance': 0.85194135},\n",
       " 'K562_Dacinostat_(LAQ824)_100.0': {'r_squared': -1.9750611543022032,\n",
       "  'e_distance': 45.75687069758929,\n",
       "  'mmd_distance': 0.81784505},\n",
       " 'K562_Flavopiridol_HCl_10.0': {'r_squared': -0.6707803228997602,\n",
       "  'e_distance': 57.97504937547666,\n",
       "  'mmd_distance': 0.83687687},\n",
       " 'K562_Flavopiridol_HCl_100.0': {'r_squared': -0.5821870330747749,\n",
       "  'e_distance': 47.048350719888724,\n",
       "  'mmd_distance': 0.81634957},\n",
       " 'K562_Givinostat_(ITF2357)_10.0': {'r_squared': -0.7269347595505635,\n",
       "  'e_distance': 67.05684006089662,\n",
       "  'mmd_distance': 0.85805565},\n",
       " 'K562_Givinostat_(ITF2357)_100.0': {'r_squared': -0.7956417540086456,\n",
       "  'e_distance': 70.05758281894002,\n",
       "  'mmd_distance': 0.859581},\n",
       " 'K562_Givinostat_(ITF2357)_1000.0': {'r_squared': -1.0643503466120774,\n",
       "  'e_distance': 61.26978786117044,\n",
       "  'mmd_distance': 0.83901095},\n",
       " 'K562_Hesperadin_10.0': {'r_squared': -0.698960208732301,\n",
       "  'e_distance': 82.07863750701884,\n",
       "  'mmd_distance': 0.89502764},\n",
       " 'K562_Hesperadin_100.0': {'r_squared': -0.7041483323319937,\n",
       "  'e_distance': 88.65509918850194,\n",
       "  'mmd_distance': 0.90037423},\n",
       " 'K562_Hesperadin_1000.0': {'r_squared': -0.7192973978006763,\n",
       "  'e_distance': 72.53607912556977,\n",
       "  'mmd_distance': 0.8826054},\n",
       " 'K562_Hesperadin_10000.0': {'r_squared': -0.7417193001431919,\n",
       "  'e_distance': 48.29103315258677,\n",
       "  'mmd_distance': 0.8176109},\n",
       " 'K562_Quisinostat_(JNJ-26481585)_2HCl_10.0': {'r_squared': -1.9838424536238706,\n",
       "  'e_distance': 43.78951655334455,\n",
       "  'mmd_distance': 0.8210638},\n",
       " 'K562_TAK-901_10.0': {'r_squared': -0.6686105016194672,\n",
       "  'e_distance': 64.57068204085137,\n",
       "  'mmd_distance': 0.85403997},\n",
       " 'K562_TAK-901_100.0': {'r_squared': -0.7014138119785072,\n",
       "  'e_distance': 73.18813271361414,\n",
       "  'mmd_distance': 0.87149173},\n",
       " 'K562_TAK-901_1000.0': {'r_squared': -0.6506882501236027,\n",
       "  'e_distance': 56.57237182947595,\n",
       "  'mmd_distance': 0.8473951},\n",
       " 'K562_Tanespimycin_(17-AAG)_10.0': {'r_squared': -0.760703128966767,\n",
       "  'e_distance': 60.478732123178865,\n",
       "  'mmd_distance': 0.84881043},\n",
       " 'K562_Tanespimycin_(17-AAG)_100.0': {'r_squared': -0.7350100074777464,\n",
       "  'e_distance': 55.762989528220245,\n",
       "  'mmd_distance': 0.8391072},\n",
       " 'K562_Tanespimycin_(17-AAG)_1000.0': {'r_squared': -0.7274423157583305,\n",
       "  'e_distance': 52.198738556529285,\n",
       "  'mmd_distance': 0.8301502},\n",
       " 'MCF7_Alvespimycin_(17-DMAG)_HCl_10.0': {'r_squared': -1.5708997399685352,\n",
       "  'e_distance': 27.078653809429444,\n",
       "  'mmd_distance': 0.77194995},\n",
       " 'MCF7_Alvespimycin_(17-DMAG)_HCl_100.0': {'r_squared': -2.323245649017454,\n",
       "  'e_distance': 31.36281312604393,\n",
       "  'mmd_distance': 0.8022837},\n",
       " 'MCF7_Alvespimycin_(17-DMAG)_HCl_1000.0': {'r_squared': -2.3736786581505633,\n",
       "  'e_distance': 30.316361787369367,\n",
       "  'mmd_distance': 0.79556316},\n",
       " 'MCF7_Belinostat_(PXD101)_10.0': {'r_squared': -1.6661834372413957,\n",
       "  'e_distance': 32.86168660517038,\n",
       "  'mmd_distance': 0.7913783},\n",
       " 'MCF7_Belinostat_(PXD101)_100.0': {'r_squared': -2.0346434385530636,\n",
       "  'e_distance': 39.24180024138229,\n",
       "  'mmd_distance': 0.8236465},\n",
       " 'MCF7_Belinostat_(PXD101)_1000.0': {'r_squared': -2.620318848620829,\n",
       "  'e_distance': 41.61362119587398,\n",
       "  'mmd_distance': 0.8309662},\n",
       " 'MCF7_Belinostat_(PXD101)_10000.0': {'r_squared': -1.9148289880223732,\n",
       "  'e_distance': 69.39496360212874,\n",
       "  'mmd_distance': 0.91520447},\n",
       " 'MCF7_Dacinostat_(LAQ824)_10.0': {'r_squared': -2.5361444730020466,\n",
       "  'e_distance': 47.64529658450308,\n",
       "  'mmd_distance': 0.8449485},\n",
       " 'MCF7_Dacinostat_(LAQ824)_100.0': {'r_squared': -3.201708660457805,\n",
       "  'e_distance': 54.55043706284316,\n",
       "  'mmd_distance': 0.86257726},\n",
       " 'MCF7_Dacinostat_(LAQ824)_1000.0': {'r_squared': -1.786663220377695,\n",
       "  'e_distance': 75.66058136965898,\n",
       "  'mmd_distance': 0.9212441},\n",
       " 'MCF7_Dacinostat_(LAQ824)_10000.0': {'r_squared': -1.068849791879782,\n",
       "  'e_distance': 95.03172168239323,\n",
       "  'mmd_distance': 0.9546137},\n",
       " 'MCF7_Flavopiridol_HCl_10.0': {'r_squared': -1.229830164020734,\n",
       "  'e_distance': 27.514291381167144,\n",
       "  'mmd_distance': 0.78471047},\n",
       " 'MCF7_Flavopiridol_HCl_100.0': {'r_squared': -1.1509246510192805,\n",
       "  'e_distance': 20.34038070668903,\n",
       "  'mmd_distance': 0.74460715},\n",
       " 'MCF7_Givinostat_(ITF2357)_10.0': {'r_squared': -1.7164070336835717,\n",
       "  'e_distance': 33.97229945853768,\n",
       "  'mmd_distance': 0.79695696},\n",
       " 'MCF7_Givinostat_(ITF2357)_100.0': {'r_squared': -1.9067604391820367,\n",
       "  'e_distance': 34.83943309953519,\n",
       "  'mmd_distance': 0.80402976},\n",
       " 'MCF7_Givinostat_(ITF2357)_1000.0': {'r_squared': -2.583857716377529,\n",
       "  'e_distance': 44.254860507803734,\n",
       "  'mmd_distance': 0.83610195},\n",
       " 'MCF7_Givinostat_(ITF2357)_10000.0': {'r_squared': -1.3603028171547273,\n",
       "  'e_distance': 90.89418511428477,\n",
       "  'mmd_distance': 0.947697},\n",
       " 'MCF7_Hesperadin_10.0': {'r_squared': -1.8979065109437583,\n",
       "  'e_distance': 33.7071525276683,\n",
       "  'mmd_distance': 0.7981601},\n",
       " 'MCF7_Hesperadin_100.0': {'r_squared': -1.8325338228097987,\n",
       "  'e_distance': 34.33992953518729,\n",
       "  'mmd_distance': 0.8043899},\n",
       " 'MCF7_Hesperadin_1000.0': {'r_squared': -1.9449057401950003,\n",
       "  'e_distance': 33.085993269083495,\n",
       "  'mmd_distance': 0.7931153},\n",
       " 'MCF7_Hesperadin_10000.0': {'r_squared': -1.5975436588152996,\n",
       "  'e_distance': 22.357506074854165,\n",
       "  'mmd_distance': 0.7615741},\n",
       " 'MCF7_Quisinostat_(JNJ-26481585)_2HCl_10.0': {'r_squared': -3.0474885453438514,\n",
       "  'e_distance': 58.857208566751005,\n",
       "  'mmd_distance': 0.88163406},\n",
       " 'MCF7_Quisinostat_(JNJ-26481585)_2HCl_100.0': {'r_squared': -1.9238422175228322,\n",
       "  'e_distance': 73.8142191295728,\n",
       "  'mmd_distance': 0.9144535},\n",
       " 'MCF7_Quisinostat_(JNJ-26481585)_2HCl_1000.0': {'r_squared': -1.2166254958962788,\n",
       "  'e_distance': 87.4227243274141,\n",
       "  'mmd_distance': 0.9499424},\n",
       " 'MCF7_Quisinostat_(JNJ-26481585)_2HCl_10000.0': {'r_squared': -1.103401862757536,\n",
       "  'e_distance': 86.69180120231248,\n",
       "  'mmd_distance': 0.9364996},\n",
       " 'MCF7_TAK-901_10.0': {'r_squared': -1.6999120146124986,\n",
       "  'e_distance': 32.4407378654939,\n",
       "  'mmd_distance': 0.7974897},\n",
       " 'MCF7_TAK-901_100.0': {'r_squared': -1.6456948121526347,\n",
       "  'e_distance': 31.278338019615234,\n",
       "  'mmd_distance': 0.7923891},\n",
       " 'MCF7_TAK-901_1000.0': {'r_squared': -1.6666088752704158,\n",
       "  'e_distance': 29.654881870803777,\n",
       "  'mmd_distance': 0.78192896},\n",
       " 'MCF7_Tanespimycin_(17-AAG)_10.0': {'r_squared': -1.4489924198337758,\n",
       "  'e_distance': 28.37054188970162,\n",
       "  'mmd_distance': 0.77979106},\n",
       " 'MCF7_Tanespimycin_(17-AAG)_100.0': {'r_squared': -2.1383311762890758,\n",
       "  'e_distance': 31.106148273996585,\n",
       "  'mmd_distance': 0.7997434},\n",
       " 'MCF7_Tanespimycin_(17-AAG)_1000.0': {'r_squared': -2.395291858804696,\n",
       "  'e_distance': 30.459623436445582,\n",
       "  'mmd_distance': 0.7839114},\n",
       " 'MCF7_Tanespimycin_(17-AAG)_10000.0': {'r_squared': -2.6341829314602423,\n",
       "  'e_distance': 32.32595277383499,\n",
       "  'mmd_distance': 0.8143766}}"
      ]
     },
     "execution_count": 18,
     "metadata": {},
     "output_type": "execute_result"
    }
   ],
   "source": [
    "ood_metrics_encoded"
   ]
  },
  {
   "cell_type": "code",
   "execution_count": null,
   "id": "d680b082-7d96-44d7-ab42-42845500e97a",
   "metadata": {},
   "outputs": [],
   "source": []
  }
 ],
 "metadata": {
  "kernelspec": {
   "display_name": "cfp",
   "language": "python",
   "name": "cfp"
  },
  "language_info": {
   "codemirror_mode": {
    "name": "ipython",
    "version": 3
   },
   "file_extension": ".py",
   "mimetype": "text/x-python",
   "name": "python",
   "nbconvert_exporter": "python",
   "pygments_lexer": "ipython3",
   "version": "3.11.9"
  }
 },
 "nbformat": 4,
 "nbformat_minor": 5
}
