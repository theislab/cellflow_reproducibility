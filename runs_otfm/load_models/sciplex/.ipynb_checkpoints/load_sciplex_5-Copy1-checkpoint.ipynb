{
 "cells": [
  {
   "cell_type": "code",
   "execution_count": null,
   "id": "71ad2353-da64-4e0b-a8e6-1c34292ad962",
   "metadata": {},
   "outputs": [],
   "source": [
    "import cfp\n",
    "import scanpy as sc\n",
    "import anndata as ad\n",
    "import numpy as np"
   ]
  },
  {
   "cell_type": "code",
   "execution_count": null,
   "id": "505259bb-3b59-42ed-99c8-25e0209afe54",
   "metadata": {},
   "outputs": [],
   "source": [
    "split = 5\n",
    "model_name = \"vital-dragon-422\""
   ]
  },
  {
   "cell_type": "code",
   "execution_count": null,
   "id": "d40c7cd6-b75e-4666-b77c-b7be56a898d1",
   "metadata": {},
   "outputs": [],
   "source": [
    "adata_train_path = f\"/lustre/groups/ml01/workspace/ot_perturbation/data/sciplex/adata_train_{split}.h5ad\"\n",
    "adata_test_path = f\"/lustre/groups/ml01/workspace/ot_perturbation/data/sciplex/adata_test_{split}.h5ad\"\n",
    "adata_ood_path = f\"/lustre/groups/ml01/workspace/ot_perturbation/data/sciplex/adata_ood_{split}.h5ad\"\n",
    "adata_train = sc.read_h5ad(adata_train_path)\n",
    "adata_test = sc.read_h5ad(adata_test_path)\n",
    "adata_ood = sc.read_h5ad(adata_ood_path)\n",
    "    "
   ]
  },
  {
   "cell_type": "code",
   "execution_count": null,
   "id": "39150dd3-6c54-4439-95aa-f8078811e981",
   "metadata": {},
   "outputs": [],
   "source": [
    "vae = CFJaxSCVI.load(\"/lustre/groups/ml01/workspace/ot_perturbation/models/vaes/sciplex/32_1024\", adata=adata_train)\n",
    "adata_train.obsm[\"X_scVI\"] = vae.get_latent_representation(adata_train)\n",
    "adata_test.obsm[\"X_scVI\"] = vae.get_latent_representation(adata_test)\n",
    "adata_ood.obsm[\"X_scVI\"] = vae.get_latent_representation(adata_ood)\n"
   ]
  },
  {
   "cell_type": "code",
   "execution_count": null,
   "id": "b6f7ee25-eeac-46bc-a305-be753cc7c0ee",
   "metadata": {},
   "outputs": [],
   "source": [
    "adata_ood_ctrl = adata_ood[adata_ood.obs[\"condition\"]==\"control\"]\n",
    "adata_test_ctrl = adata_test[adata_test.obs[\"condition\"]==\"control\"]\n",
    "adata_ood_ctrl.obs[\"control\"] = True\n",
    "adata_test_ctrl.obs[\"control\"] = True\n",
    "covariate_data_ood = adata_ood[adata_ood.obs[\"condition\"]!=\"control\"].obs.drop_duplicates(subset=[\"condition\"])\n",
    "covariate_data_test = adata_test[adata_test.obs[\"condition\"]!=\"control\"].obs.drop_duplicates(subset=[\"condition\"])"
   ]
  },
  {
   "cell_type": "code",
   "execution_count": null,
   "id": "bff95931-f763-4e37-82c2-7a4182945e7f",
   "metadata": {},
   "outputs": [],
   "source": [
    "cf = cfp.model.CellFlow.load(f\"/lustre/groups/ml01/workspace/ot_perturbation/data/sciplex/out/{model_name}_CellFlow.pkl\")"
   ]
  },
  {
   "cell_type": "code",
   "execution_count": null,
   "id": "4562fbaf-4f29-49d8-8559-95d7bccb2c74",
   "metadata": {},
   "outputs": [],
   "source": [
    "adata_ood_ctrl"
   ]
  },
  {
   "cell_type": "code",
   "execution_count": null,
   "id": "3b775130-2de3-4288-b55e-eb24dc03c1c7",
   "metadata": {
    "scrolled": true
   },
   "outputs": [],
   "source": [
    "preds_ood = cf.predict(adata=adata_ood_ctrl, sample_rep=\"X_scVI\", condition_id_key=\"condition\", covariate_data=covariate_data_ood)"
   ]
  },
  {
   "cell_type": "code",
   "execution_count": null,
   "id": "b4552220-4b67-45ac-b661-114b15939b98",
   "metadata": {},
   "outputs": [],
   "source": [
    "preds_test = cf.predict(adata=adata_test_ctrl, sample_rep=\"X_scVI\", condition_id_key=\"condition\", covariate_data=covariate_data_test)"
   ]
  },
  {
   "cell_type": "code",
   "execution_count": null,
   "id": "a124a6ad-1263-44ea-a791-c27c5745bd27",
   "metadata": {},
   "outputs": [],
   "source": [
    "import pandas as pd\n",
    "all_data = []\n",
    "conditions = []\n",
    "\n",
    "for condition, array in preds_ood.items():\n",
    "    all_data.append(array)\n",
    "    conditions.extend([condition] * array.shape[0])\n",
    "\n",
    "# Stack all data vertically to create a single array\n",
    "all_data_array = np.vstack(all_data)\n",
    "\n",
    "# Create a DataFrame for the .obs attribute\n",
    "obs_data = pd.DataFrame({\n",
    "    'condition': conditions\n",
    "})\n",
    "\n",
    "# Create the Anndata object\n",
    "adata_ood_result = ad.AnnData(X=np.empty((len(all_data_array),2000)), obs=obs_data)\n",
    "adata_ood_result.obsm[\"X_scVI_pred\"] = all_data_array"
   ]
  },
  {
   "cell_type": "code",
   "execution_count": null,
   "id": "29aa36f3-3310-432d-b085-363b9462abd2",
   "metadata": {},
   "outputs": [],
   "source": [
    "adata_ood_result.layers[\"pred_reconstruction\"] = vae.get_reconstructed_expression(adata_ood_result, key=\"X_scVI_pred\")"
   ]
  },
  {
   "cell_type": "code",
   "execution_count": 13,
   "id": "487eefe4-a9b5-48db-9e13-3f3bfcf5e104",
   "metadata": {},
   "outputs": [],
   "source": [
    "adata_ood_result.write(f\"/lustre/groups/ml01/workspace/ot_perturbation/models/otfm/sciplex/adata_ood_with_predictions_{split}.h5ad\")\n"
   ]
  },
  {
   "cell_type": "code",
   "execution_count": null,
   "id": "618aa3e5-9347-4d22-8f5e-d8e7522be956",
   "metadata": {},
   "outputs": [],
   "source": []
  },
  {
   "cell_type": "code",
   "execution_count": null,
   "id": "4151a86a-bf44-4807-8a57-7ad431717f27",
   "metadata": {},
   "outputs": [],
   "source": []
  },
  {
   "cell_type": "code",
   "execution_count": null,
   "id": "6aac7aa2-f076-48ff-a6c5-f0e91e5a92a2",
   "metadata": {},
   "outputs": [],
   "source": []
  },
  {
   "cell_type": "code",
   "execution_count": null,
   "id": "c2579b0e-fb49-4ee6-8527-eaadba4a26e7",
   "metadata": {},
   "outputs": [],
   "source": []
  },
  {
   "cell_type": "code",
   "execution_count": null,
   "id": "bf9dd839-6297-4ec8-a14b-86a218f2480a",
   "metadata": {},
   "outputs": [],
   "source": []
  },
  {
   "cell_type": "code",
   "execution_count": null,
   "id": "a1c7680d-ac89-49a9-8f8f-8738c80e0046",
   "metadata": {},
   "outputs": [],
   "source": []
  },
  {
   "cell_type": "code",
   "execution_count": 13,
   "id": "ba9983ca-3f25-4c6b-a51c-7d6738ae843f",
   "metadata": {},
   "outputs": [
    {
     "name": "stderr",
     "output_type": "stream",
     "text": [
      "/home/icb/dominik.klein/mambaforge/envs/cfp/lib/python3.11/site-packages/anndata/_core/aligned_df.py:67: ImplicitModificationWarning: Transforming to str index.\n",
      "  warnings.warn(\"Transforming to str index.\", ImplicitModificationWarning)\n"
     ]
    }
   ],
   "source": [
    "all_data = []\n",
    "conditions = []\n",
    "\n",
    "for condition, array in preds_test.items():\n",
    "    all_data.append(array)\n",
    "    conditions.extend([condition] * array.shape[0])\n",
    "\n",
    "# Stack all data vertically to create a single array\n",
    "all_data_array = np.vstack(all_data)\n",
    "\n",
    "# Create a DataFrame for the .obs attribute\n",
    "obs_data = pd.DataFrame({\n",
    "    'condition': conditions\n",
    "})\n",
    "\n",
    "# Create the Anndata object\n",
    "adata_test_result = ad.AnnData(X=np.empty((len(all_data_array),2000)), obs=obs_data)\n",
    "adata_test_result.obsm[\"X_pca_pred\"] = all_data_array                       "
   ]
  },
  {
   "cell_type": "code",
   "execution_count": 14,
   "id": "fa378896-fb97-4f38-9384-02c72bbf2d84",
   "metadata": {},
   "outputs": [],
   "source": [
    "cfpp.reconstruct_pca(query_adata=adata_test_result, use_rep=\"X_pca_pred\", ref_adata=adata_train, layers_key_added=\"X_recon_pred\")"
   ]
  },
  {
   "cell_type": "code",
   "execution_count": 15,
   "id": "68f7b472-e219-4c89-b20c-3253c6a79ebd",
   "metadata": {},
   "outputs": [],
   "source": [
    "adata_ood_result.write(f\"/lustre/groups/ml01/workspace/ot_perturbation/models/otfm/combosciplex/adata_ood_with_predictions_{split}.h5ad\")\n",
    "adata_test_result.write(f\"/lustre/groups/ml01/workspace/ot_perturbation/models/otfm/combosciplex/adata_test_with_predictions_{split}.h5ad\")"
   ]
  },
  {
   "cell_type": "code",
   "execution_count": null,
   "id": "2ae3a2a5-aec2-4568-b8f0-378baf4ab2a4",
   "metadata": {},
   "outputs": [],
   "source": []
  }
 ],
 "metadata": {
  "kernelspec": {
   "display_name": "cfp",
   "language": "python",
   "name": "cfp"
  },
  "language_info": {
   "codemirror_mode": {
    "name": "ipython",
    "version": 3
   },
   "file_extension": ".py",
   "mimetype": "text/x-python",
   "name": "python",
   "nbconvert_exporter": "python",
   "pygments_lexer": "ipython3",
   "version": "3.11.9"
  }
 },
 "nbformat": 4,
 "nbformat_minor": 5
}
