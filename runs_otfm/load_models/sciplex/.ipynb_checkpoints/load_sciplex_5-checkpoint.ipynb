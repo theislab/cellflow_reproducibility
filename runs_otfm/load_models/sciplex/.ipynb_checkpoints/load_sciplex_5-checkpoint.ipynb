{
 "cells": [
  {
   "cell_type": "code",
   "execution_count": 1,
   "id": "00dbaf13-af84-460d-b1a1-59a2e370b88b",
   "metadata": {},
   "outputs": [],
   "source": [
    "import os\n",
    "os.environ['XLA_PYTHON_CLIENT_PREALLOCATE'] = 'false'"
   ]
  },
  {
   "cell_type": "code",
   "execution_count": 2,
   "id": "71ad2353-da64-4e0b-a8e6-1c34292ad962",
   "metadata": {},
   "outputs": [
    {
     "name": "stderr",
     "output_type": "stream",
     "text": [
      "/home/icb/dominik.klein/mambaforge/envs/cfp/lib/python3.11/site-packages/tqdm/auto.py:21: TqdmWarning: IProgress not found. Please update jupyter and ipywidgets. See https://ipywidgets.readthedocs.io/en/stable/user_install.html\n",
      "  from .autonotebook import tqdm as notebook_tqdm\n"
     ]
    }
   ],
   "source": [
    "import cfp\n",
    "import scanpy as sc\n",
    "import anndata as ad\n",
    "import numpy as np"
   ]
  },
  {
   "cell_type": "code",
   "execution_count": 4,
   "id": "505259bb-3b59-42ed-99c8-25e0209afe54",
   "metadata": {},
   "outputs": [],
   "source": [
    "split = 5\n",
    "model_name = \"avid-glitter-464\""
   ]
  },
  {
   "cell_type": "code",
   "execution_count": 5,
   "id": "d40c7cd6-b75e-4666-b77c-b7be56a898d1",
   "metadata": {},
   "outputs": [],
   "source": [
    "adata_train_path = f\"/lustre/groups/ml01/workspace/ot_perturbation/data/sciplex/adata_train_{split}.h5ad\"\n",
    "adata_test_path = f\"/lustre/groups/ml01/workspace/ot_perturbation/data/sciplex/adata_test_{split}.h5ad\"\n",
    "adata_ood_path = f\"/lustre/groups/ml01/workspace/ot_perturbation/data/sciplex/adata_ood_{split}.h5ad\"\n",
    "adata_train = sc.read_h5ad(adata_train_path)\n",
    "adata_test = sc.read_h5ad(adata_test_path)\n",
    "adata_ood = sc.read_h5ad(adata_ood_path)\n",
    "    "
   ]
  },
  {
   "cell_type": "code",
   "execution_count": null,
   "id": "39150dd3-6c54-4439-95aa-f8078811e981",
   "metadata": {},
   "outputs": [
    {
     "name": "stderr",
     "output_type": "stream",
     "text": [
      "/tmp/ipykernel_3227071/3822961792.py:3: ImplicitModificationWarning: Trying to modify attribute `.obs` of view, initializing view as actual.\n",
      "  adata_ood_ctrl.obs[\"control\"] = True\n",
      "/tmp/ipykernel_3227071/3822961792.py:4: ImplicitModificationWarning: Trying to modify attribute `.obs` of view, initializing view as actual.\n",
      "  adata_test_ctrl.obs[\"control\"] = True\n",
      "/ictstr01/home/icb/dominik.klein/git_repos/cell_flow_perturbation/src/cfp/data/_datamanager.py:334: SettingWithCopyWarning: \n",
      "A value is trying to be set on a copy of a slice from a DataFrame.\n",
      "Try using .loc[row_indexer,col_indexer] = value instead\n",
      "\n",
      "See the caveats in the documentation: https://pandas.pydata.org/pandas-docs/stable/user_guide/indexing.html#returning-a-view-versus-a-copy\n",
      "  _covariate_data[\"cell_index\"] = _covariate_data.index\n",
      "100%|██████████| 27/27 [00:00<00:00, 126.75it/s]\n",
      "100%|██████████| 32/32 [00:00<00:00, 755.67it/s]\n",
      "100%|██████████| 24/24 [00:00<00:00, 752.34it/s]\n"
     ]
    }
   ],
   "source": [
    "adata_ood_ctrl = adata_ood[adata_ood.obs[\"condition\"].str.contains(\"Vehicle\")]\n",
    "adata_test_ctrl = adata_test[adata_test.obs[\"condition\"].str.contains(\"Vehicle\")]\n",
    "adata_ood_ctrl.obs[\"control\"] = True\n",
    "adata_test_ctrl.obs[\"control\"] = True\n",
    "covariate_data_ood = adata_ood[~adata_ood.obs[\"condition\"].str.contains(\"Vehicle\")].obs.drop_duplicates(subset=[\"condition\"])\n",
    "covariate_data_test = adata_test[~adata_test.obs[\"condition\"].str.contains(\"Vehicle\")].obs.drop_duplicates(subset=[\"condition\"])\n",
    "\n",
    "cf = cfp.model.CellFlow.load(f\"/lustre/groups/ml01/workspace/ot_perturbation/data/sciplex/out/{model_name}_CellFlow.pkl\")\n",
    "\n",
    "preds_ood = cf.predict(adata=adata_ood_ctrl, sample_rep=\"X_pca\", condition_id_key=\"condition\", covariate_data=covariate_data_ood)\n"
   ]
  },
  {
   "cell_type": "code",
   "execution_count": null,
   "id": "b6f7ee25-eeac-46bc-a305-be753cc7c0ee",
   "metadata": {},
   "outputs": [],
   "source": [
    "all_data = []\n",
    "conditions = []\n",
    "\n",
    "for condition, array in preds_ood.items():\n",
    "    all_data.append(array)\n",
    "    conditions.extend([condition] * array.shape[0])\n",
    "\n",
    "# Stack all data vertically to create a single array\n",
    "all_data_array = np.vstack(all_data)\n",
    "\n",
    "# Create a DataFrame for the .obs attribute\n",
    "obs_data = pd.DataFrame({\n",
    "    'condition': conditions\n",
    "})\n",
    "\n",
    "# Create the Anndata object\n",
    "adata_ood_result = ad.AnnData(X=np.empty((len(all_data_array),2001)), obs=obs_data)\n",
    "adata_ood_result.obsm[\"X_pca_pred\"] = all_data_array"
   ]
  },
  {
   "cell_type": "code",
   "execution_count": null,
   "id": "96feadf6-5cd4-4ac5-90b1-bd8d90e54c58",
   "metadata": {},
   "outputs": [],
   "source": [
    "cfpp.reconstruct_pca(query_adata=adata_ood_result, use_rep=\"X_pca_pred\", ref_adata=adata_train, layers_key_added=\"X_recon_pred\")\n"
   ]
  },
  {
   "cell_type": "code",
   "execution_count": null,
   "id": "2ae3a2a5-aec2-4568-b8f0-378baf4ab2a4",
   "metadata": {},
   "outputs": [],
   "source": [
    "adata_ref_ood = adata_ood[~adata_ood.obs[\"condition\"].str.contains('Vehicle')].copy()\n",
    "cfpp.centered_pca(adata_ref_ood, n_comps=10)\n"
   ]
  },
  {
   "cell_type": "code",
   "execution_count": null,
   "id": "30614228-5ee0-4923-bb57-a4c77714dd35",
   "metadata": {},
   "outputs": [],
   "source": [
    "adata_pred_ood = adata_ood_result"
   ]
  },
  {
   "cell_type": "code",
   "execution_count": null,
   "id": "645646f2-f20b-4416-8091-4f144a5fc5ad",
   "metadata": {},
   "outputs": [],
   "source": [
    "cfpp.project_pca(query_adata=adata_pred_ood, ref_adata=adata_ref_ood)\n",
    "cfpp.project_pca(query_adata=adata_ood, ref_adata=adata_ref_ood)\n",
    "ood_data_target_encoded = {}\n",
    "ood_data_target_decoded = {}\n",
    "ood_data_target_encoded_predicted = {}\n",
    "ood_data_target_decoded_predicted = {}\n",
    "for cond in adata_ood.obs[\"condition\"].cat.categories:\n",
    "    if \"Vehicle\" in cond:\n",
    "        continue\n",
    "    ood_data_target_encoded[cond] = adata_ood[adata_ood.obs[\"condition\"] == cond].obsm[\"X_pca\"]\n",
    "    ood_data_target_decoded[cond] = adata_ood[adata_ood.obs[\"condition\"] == cond].X.toarray()\n",
    "    ood_data_target_decoded_predicted[cond] = adata_pred_ood[adata_pred_ood.obs[\"condition\"] == cond].layers[\"X_recon_pred\"]\n",
    "    ood_data_target_encoded_predicted[cond] = adata_pred_ood[adata_pred_ood.obs[\"condition\"] == cond].obsm[\"X_pca\"]\n"
   ]
  },
  {
   "cell_type": "code",
   "execution_count": null,
   "id": "d7c36c55-be72-491f-ae40-e350e3bda4c3",
   "metadata": {},
   "outputs": [],
   "source": [
    "import functools\n",
    "import jax\n",
    "import numpy as np\n",
    "import scanpy as sc\n",
    "import cfp.preprocessing as cfpp\n",
    "from cfp.metrics import compute_mean_metrics, compute_metrics, compute_metrics_fast\n",
    "import os\n",
    "import pandas as pd"
   ]
  },
  {
   "cell_type": "code",
   "execution_count": null,
   "id": "4c4bcc0f-8ca7-4a14-b147-2f117eeb6082",
   "metadata": {},
   "outputs": [],
   "source": [
    "ood_metrics_encoded = jax.tree_util.tree_map(\n",
    "    compute_metrics_fast, ood_data_target_encoded, ood_data_target_encoded_predicted\n",
    ")\n",
    "mean_ood_metrics_encoded = compute_mean_metrics(ood_metrics_encoded, prefix=\"encoded_ood_\")\n",
    "\n",
    "ood_metrics_decoded = jax.tree_util.tree_map(\n",
    "    compute_metrics_fast, ood_data_target_decoded, ood_data_target_decoded_predicted\n",
    ")\n",
    "mean_ood_metrics_decoded = compute_mean_metrics(ood_metrics_decoded, prefix=\"decoded_ood_\")\n"
   ]
  },
  {
   "cell_type": "code",
   "execution_count": null,
   "id": "57e2e591-84b8-44c0-a034-a6b44a4ffd82",
   "metadata": {},
   "outputs": [],
   "source": [
    "mean_ood_metrics_decoded"
   ]
  },
  {
   "cell_type": "code",
   "execution_count": null,
   "id": "1ae5ae4d-cf0f-4712-be9d-3658cecf1af1",
   "metadata": {},
   "outputs": [],
   "source": [
    "mean_ood_metrics_encoded"
   ]
  },
  {
   "cell_type": "code",
   "execution_count": null,
   "id": "3bf0fdc0-97c7-4f04-a33e-1bc41649d93f",
   "metadata": {},
   "outputs": [],
   "source": []
  }
 ],
 "metadata": {
  "kernelspec": {
   "display_name": "cfp",
   "language": "python",
   "name": "cfp"
  },
  "language_info": {
   "codemirror_mode": {
    "name": "ipython",
    "version": 3
   },
   "file_extension": ".py",
   "mimetype": "text/x-python",
   "name": "python",
   "nbconvert_exporter": "python",
   "pygments_lexer": "ipython3",
   "version": "3.11.9"
  }
 },
 "nbformat": 4,
 "nbformat_minor": 5
}
