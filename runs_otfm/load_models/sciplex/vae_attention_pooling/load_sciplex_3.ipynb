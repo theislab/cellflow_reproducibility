{
 "cells": [
  {
   "cell_type": "code",
   "execution_count": 1,
   "id": "00dbaf13-af84-460d-b1a1-59a2e370b88b",
   "metadata": {},
   "outputs": [],
   "source": [
    "import jax \n",
    "jax.config.update(\"jax_enable_x64\", True)"
   ]
  },
  {
   "cell_type": "code",
   "execution_count": 2,
   "id": "71ad2353-da64-4e0b-a8e6-1c34292ad962",
   "metadata": {},
   "outputs": [
    {
     "name": "stderr",
     "output_type": "stream",
     "text": [
      "/home/icb/dominik.klein/mambaforge/envs/cfp/lib/python3.11/site-packages/tqdm/auto.py:21: TqdmWarning: IProgress not found. Please update jupyter and ipywidgets. See https://ipywidgets.readthedocs.io/en/stable/user_install.html\n",
      "  from .autonotebook import tqdm as notebook_tqdm\n"
     ]
    }
   ],
   "source": [
    "import cfp\n",
    "import scanpy as sc\n",
    "import anndata as ad\n",
    "import numpy as np\n",
    "from cfp.external import CFJaxSCVI"
   ]
  },
  {
   "cell_type": "code",
   "execution_count": 3,
   "id": "505259bb-3b59-42ed-99c8-25e0209afe54",
   "metadata": {},
   "outputs": [],
   "source": [
    "split = 3\n",
    "model_name = \"polar-jazz-449\""
   ]
  },
  {
   "cell_type": "code",
   "execution_count": 4,
   "id": "d40c7cd6-b75e-4666-b77c-b7be56a898d1",
   "metadata": {},
   "outputs": [],
   "source": [
    "adata_train_path = f\"/lustre/groups/ml01/workspace/ot_perturbation/data/sciplex/adata_train_{split}.h5ad\"\n",
    "adata_test_path = f\"/lustre/groups/ml01/workspace/ot_perturbation/data/sciplex/adata_test_{split}.h5ad\"\n",
    "adata_ood_path = f\"/lustre/groups/ml01/workspace/ot_perturbation/data/sciplex/adata_ood_{split}.h5ad\"\n",
    "adata_train = sc.read_h5ad(adata_train_path)\n",
    "adata_test = sc.read_h5ad(adata_test_path)\n",
    "adata_ood = sc.read_h5ad(adata_ood_path)\n",
    "    "
   ]
  },
  {
   "cell_type": "code",
   "execution_count": 5,
   "id": "39150dd3-6c54-4439-95aa-f8078811e981",
   "metadata": {},
   "outputs": [
    {
     "name": "stdout",
     "output_type": "stream",
     "text": [
      "\u001b[34mINFO    \u001b[0m File \u001b[35m/lustre/groups/ml01/workspace/ot_perturbation/models/vaes/sciplex/32_1024_3/\u001b[0m\u001b[95mmodel.pt\u001b[0m already         \n",
      "         downloaded                                                                                                \n"
     ]
    },
    {
     "name": "stderr",
     "output_type": "stream",
     "text": [
      "/home/icb/dominik.klein/mambaforge/envs/cfp/lib/python3.11/site-packages/lightning/fabric/plugins/environments/slurm.py:191: The `srun` command is available on your system but is not used. HINT: If your intention is to run Lightning on SLURM, prepend your python command with `srun` like so: srun python /home/icb/dominik.klein/mambaforge/envs/cfp/lib/pyth ...\n",
      "/home/icb/dominik.klein/mambaforge/envs/cfp/lib/python3.11/site-packages/scvi/model/base/_utils.py:66: FutureWarning: You are using `torch.load` with `weights_only=False` (the current default value), which uses the default pickle module implicitly. It is possible to construct malicious pickle data which will execute arbitrary code during unpickling (See https://github.com/pytorch/pytorch/blob/main/SECURITY.md#untrusted-models for more details). In a future release, the default value for `weights_only` will be flipped to `True`. This limits the functions that could be executed during unpickling. Arbitrary objects will no longer be allowed to be loaded via this mode unless they are explicitly allowlisted by the user via `torch.serialization.add_safe_globals`. We recommend you start setting `weights_only=True` for any use case where you don't have full control of the loaded file. Please open an issue on GitHub for any issues related to this experimental feature.\n",
      "  model = torch.load(model_path, map_location=map_location)\n",
      "/home/icb/dominik.klein/mambaforge/envs/cfp/lib/python3.11/site-packages/scvi/data/fields/_base_field.py:64: UserWarning: adata.X does not contain unnormalized count data. Are you sure this is what you want?\n",
      "  self.validate_field(adata)\n"
     ]
    },
    {
     "name": "stdout",
     "output_type": "stream",
     "text": [
      "\u001b[34mINFO    \u001b[0m Jax module moved to cu\u001b[1;92mda:0\u001b[0m.Note: Pytorch lightning will show GPU is not being used for the Trainer.       \n"
     ]
    },
    {
     "name": "stderr",
     "output_type": "stream",
     "text": [
      "/home/icb/dominik.klein/mambaforge/envs/cfp/lib/python3.11/site-packages/lightning/fabric/plugins/environments/slurm.py:191: The `srun` command is available on your system but is not used. HINT: If your intention is to run Lightning on SLURM, prepend your python command with `srun` like so: srun python /home/icb/dominik.klein/mambaforge/envs/cfp/lib/pyth ...\n",
      "/home/icb/dominik.klein/mambaforge/envs/cfp/lib/python3.11/site-packages/lightning/fabric/plugins/environments/slurm.py:191: The `srun` command is available on your system but is not used. HINT: If your intention is to run Lightning on SLURM, prepend your python command with `srun` like so: srun python /home/icb/dominik.klein/mambaforge/envs/cfp/lib/pyth ...\n",
      "GPU available: True (cuda), used: False\n",
      "TPU available: False, using: 0 TPU cores\n",
      "IPU available: False, using: 0 IPUs\n",
      "HPU available: False, using: 0 HPUs\n",
      "/home/icb/dominik.klein/mambaforge/envs/cfp/lib/python3.11/site-packages/lightning/pytorch/trainer/setup.py:187: GPU available but not used. You can set it by doing `Trainer(accelerator='gpu')`.\n",
      "/home/icb/dominik.klein/mambaforge/envs/cfp/lib/python3.11/site-packages/lightning/fabric/plugins/environments/slurm.py:191: The `srun` command is available on your system but is not used. HINT: If your intention is to run Lightning on SLURM, prepend your python command with `srun` like so: srun python /home/icb/dominik.klein/mambaforge/envs/cfp/lib/pyth ...\n",
      "/home/icb/dominik.klein/mambaforge/envs/cfp/lib/python3.11/site-packages/lightning/pytorch/trainer/connectors/data_connector.py:441: The 'train_dataloader' does not have many workers which may be a bottleneck. Consider increasing the value of the `num_workers` argument` to `num_workers=5` in the `DataLoader` to improve performance.\n"
     ]
    },
    {
     "name": "stdout",
     "output_type": "stream",
     "text": [
      "Epoch 1/23:   0%|          | 0/23 [00:00<?, ?it/s]"
     ]
    },
    {
     "name": "stderr",
     "output_type": "stream",
     "text": [
      "/home/icb/dominik.klein/mambaforge/envs/cfp/lib/python3.11/site-packages/lightning/pytorch/trainer/connectors/data_connector.py:385: You have overridden `transfer_batch_to_device` in `LightningModule` but have passed in a `LightningDataModule`. It will use the implementation from `LightningModule` instance.\n"
     ]
    },
    {
     "name": "stdout",
     "output_type": "stream",
     "text": [
      "Epoch 1/23:   4%|▍         | 1/23 [00:02<01:05,  2.98s/it, v_num=1, train_loss_step=395, train_loss_epoch=395]"
     ]
    },
    {
     "name": "stderr",
     "output_type": "stream",
     "text": [
      "`Trainer.fit` stopped: `max_steps=1` reached.\n"
     ]
    },
    {
     "name": "stdout",
     "output_type": "stream",
     "text": [
      "Epoch 1/23:   4%|▍         | 1/23 [00:02<01:05,  2.99s/it, v_num=1, train_loss_step=395, train_loss_epoch=395]\n",
      "\u001b[34mINFO    \u001b[0m Input AnnData not setup with scvi-tools. attempting to transfer AnnData setup                             \n"
     ]
    },
    {
     "name": "stderr",
     "output_type": "stream",
     "text": [
      "/home/icb/dominik.klein/mambaforge/envs/cfp/lib/python3.11/site-packages/scvi/data/fields/_base_field.py:64: UserWarning: adata.X does not contain unnormalized count data. Are you sure this is what you want?\n",
      "  self.validate_field(adata)\n"
     ]
    },
    {
     "name": "stdout",
     "output_type": "stream",
     "text": [
      "\u001b[34mINFO    \u001b[0m Input AnnData not setup with scvi-tools. attempting to transfer AnnData setup                             \n"
     ]
    },
    {
     "name": "stderr",
     "output_type": "stream",
     "text": [
      "/home/icb/dominik.klein/mambaforge/envs/cfp/lib/python3.11/site-packages/scvi/data/fields/_base_field.py:64: UserWarning: adata.X does not contain unnormalized count data. Are you sure this is what you want?\n",
      "  self.validate_field(adata)\n"
     ]
    }
   ],
   "source": [
    "vae = CFJaxSCVI.load(f\"/lustre/groups/ml01/workspace/ot_perturbation/models/vaes/sciplex/32_1024_{split}\", adata=adata_train)\n",
    "adata_train.obsm[\"X_scVI\"] = vae.get_latent_representation(adata_train)\n",
    "adata_test.obsm[\"X_scVI\"] = vae.get_latent_representation(adata_test)\n",
    "adata_ood.obsm[\"X_scVI\"] = vae.get_latent_representation(adata_ood)\n"
   ]
  },
  {
   "cell_type": "code",
   "execution_count": 6,
   "id": "b6f7ee25-eeac-46bc-a305-be753cc7c0ee",
   "metadata": {},
   "outputs": [
    {
     "name": "stderr",
     "output_type": "stream",
     "text": [
      "/tmp/ipykernel_1087118/2979151925.py:3: ImplicitModificationWarning: Trying to modify attribute `.obs` of view, initializing view as actual.\n",
      "  adata_ood_ctrl.obs[\"control\"] = True\n",
      "/tmp/ipykernel_1087118/2979151925.py:4: ImplicitModificationWarning: Trying to modify attribute `.obs` of view, initializing view as actual.\n",
      "  adata_test_ctrl.obs[\"control\"] = True\n"
     ]
    }
   ],
   "source": [
    "adata_ood_ctrl = adata_ood[adata_ood.obs[\"condition\"].str.contains(\"Vehicle\")]\n",
    "adata_test_ctrl = adata_test[adata_test.obs[\"condition\"].str.contains(\"Vehicle\")]\n",
    "adata_ood_ctrl.obs[\"control\"] = True\n",
    "adata_test_ctrl.obs[\"control\"] = True\n",
    "covariate_data_ood = adata_ood[~adata_ood.obs[\"condition\"].str.contains(\"Vehicle\")].obs.drop_duplicates(subset=[\"condition\"])\n",
    "covariate_data_test = adata_test[~adata_test.obs[\"condition\"].str.contains(\"Vehicle\")].obs.drop_duplicates(subset=[\"condition\"])"
   ]
  },
  {
   "cell_type": "code",
   "execution_count": 7,
   "id": "bff95931-f763-4e37-82c2-7a4182945e7f",
   "metadata": {},
   "outputs": [],
   "source": [
    "cf = cfp.model.CellFlow.load(f\"/lustre/groups/ml01/workspace/ot_perturbation/data/sciplex/out/{model_name}_CellFlow.pkl\")"
   ]
  },
  {
   "cell_type": "code",
   "execution_count": 8,
   "id": "4562fbaf-4f29-49d8-8559-95d7bccb2c74",
   "metadata": {},
   "outputs": [
    {
     "data": {
      "text/plain": [
       "AnnData object with n_obs × n_vars = 1500 × 2001\n",
       "    obs: 'cell_type', 'dose', 'dose_character', 'dose_pattern', 'g1s_score', 'g2m_score', 'pathway', 'pathway_level_1', 'pathway_level_2', 'product_dose', 'product_name', 'proliferation_index', 'replicate', 'size_factor', 'target', 'vehicle', 'perturbation', 'drug', 'cell_line', 'logdose', 'condition', 'n_genes', 'pubchem_name', 'pubchem_ID', 'smiles', 'control', 'ood_1', 'ood_2', 'ood_3', 'ood_4', 'ood_5', 'split', '_scvi_batch'\n",
       "    uns: 'cell_line_dict', 'ecfp_dict', '_scvi_uuid', '_scvi_manager_uuid'\n",
       "    obsm: 'X_pca', 'ecfp', 'X_scVI'"
      ]
     },
     "execution_count": 8,
     "metadata": {},
     "output_type": "execute_result"
    }
   ],
   "source": [
    "adata_ood_ctrl"
   ]
  },
  {
   "cell_type": "code",
   "execution_count": 9,
   "id": "3b775130-2de3-4288-b55e-eb24dc03c1c7",
   "metadata": {
    "scrolled": true
   },
   "outputs": [
    {
     "name": "stderr",
     "output_type": "stream",
     "text": [
      "/ictstr01/home/icb/dominik.klein/git_repos/cell_flow_perturbation/src/cfp/data/_datamanager.py:334: SettingWithCopyWarning: \n",
      "A value is trying to be set on a copy of a slice from a DataFrame.\n",
      "Try using .loc[row_indexer,col_indexer] = value instead\n",
      "\n",
      "See the caveats in the documentation: https://pandas.pydata.org/pandas-docs/stable/user_guide/indexing.html#returning-a-view-versus-a-copy\n",
      "  _covariate_data[\"cell_index\"] = _covariate_data.index\n",
      "100%|██████████| 179/179 [00:00<00:00, 434.73it/s]\n",
      "100%|██████████| 185/185 [00:00<00:00, 620.00it/s]\n",
      "100%|██████████| 174/174 [00:00<00:00, 626.13it/s]\n"
     ]
    }
   ],
   "source": [
    "preds_ood = cf.predict(adata=adata_ood_ctrl, sample_rep=\"X_scVI\", condition_id_key=\"condition\", covariate_data=covariate_data_ood)"
   ]
  },
  {
   "cell_type": "code",
   "execution_count": 13,
   "id": "a124a6ad-1263-44ea-a791-c27c5745bd27",
   "metadata": {},
   "outputs": [
    {
     "name": "stderr",
     "output_type": "stream",
     "text": [
      "/home/icb/dominik.klein/mambaforge/envs/cfp/lib/python3.11/site-packages/anndata/_core/aligned_df.py:67: ImplicitModificationWarning: Transforming to str index.\n",
      "  warnings.warn(\"Transforming to str index.\", ImplicitModificationWarning)\n"
     ]
    }
   ],
   "source": [
    "import pandas as pd\n",
    "all_data = []\n",
    "conditions = []\n",
    "\n",
    "for condition, array in preds_ood.items():\n",
    "    all_data.append(array)\n",
    "    conditions.extend([condition] * array.shape[0])\n",
    "\n",
    "# Stack all data vertically to create a single array\n",
    "all_data_array = np.vstack(all_data)\n",
    "\n",
    "# Create a DataFrame for the .obs attribute\n",
    "obs_data = pd.DataFrame({\n",
    "    'condition': conditions\n",
    "})\n",
    "\n",
    "# Create the Anndata object\n",
    "adata_ood_result = ad.AnnData(X=np.empty((len(all_data_array),2001)), obs=obs_data)\n",
    "adata_ood_result.obsm[\"X_scVI_pred\"] = all_data_array"
   ]
  },
  {
   "cell_type": "code",
   "execution_count": 14,
   "id": "29aa36f3-3310-432d-b085-363b9462abd2",
   "metadata": {},
   "outputs": [
    {
     "name": "stdout",
     "output_type": "stream",
     "text": [
      "\u001b[34mINFO    \u001b[0m Input AnnData not setup with scvi-tools. attempting to transfer AnnData setup                             \n"
     ]
    }
   ],
   "source": [
    "adata_ood_result.layers[\"pred_reconstruction\"] = vae.get_reconstructed_expression(adata_ood_result, use_rep=\"X_scVI_pred\")"
   ]
  },
  {
   "cell_type": "code",
   "execution_count": null,
   "id": "4fb5d2c4-2dd9-4892-ad5b-800a0655fe1b",
   "metadata": {},
   "outputs": [],
   "source": []
  },
  {
   "cell_type": "code",
   "execution_count": 15,
   "id": "487eefe4-a9b5-48db-9e13-3f3bfcf5e104",
   "metadata": {},
   "outputs": [],
   "source": [
    "adata_ood_result.write(f\"/lustre/groups/ml01/workspace/ot_perturbation/models/otfm/sciplex/vae_attention_pooling/adata_ood_with_predictions_{split}.h5ad\")\n"
   ]
  },
  {
   "cell_type": "code",
   "execution_count": null,
   "id": "526bd056-2083-4d34-8324-2eb4b094f2da",
   "metadata": {},
   "outputs": [
    {
     "name": "stderr",
     "output_type": "stream",
     "text": [
      "/ictstr01/home/icb/dominik.klein/git_repos/cell_flow_perturbation/src/cfp/data/_datamanager.py:334: SettingWithCopyWarning: \n",
      "A value is trying to be set on a copy of a slice from a DataFrame.\n",
      "Try using .loc[row_indexer,col_indexer] = value instead\n",
      "\n",
      "See the caveats in the documentation: https://pandas.pydata.org/pandas-docs/stable/user_guide/indexing.html#returning-a-view-versus-a-copy\n",
      "  _covariate_data[\"cell_index\"] = _covariate_data.index\n",
      "100%|██████████| 524/524 [00:00<00:00, 645.90it/s]\n",
      "100%|██████████| 554/554 [00:00<00:00, 704.54it/s]\n",
      "100%|██████████| 509/509 [00:00<00:00, 698.31it/s]\n"
     ]
    }
   ],
   "source": [
    "preds_test = cf.predict(adata=adata_test_ctrl, sample_rep=\"X_scVI\", condition_id_key=\"condition\", covariate_data=covariate_data_test)"
   ]
  },
  {
   "cell_type": "code",
   "execution_count": null,
   "id": "618aa3e5-9347-4d22-8f5e-d8e7522be956",
   "metadata": {},
   "outputs": [],
   "source": [
    "import pandas as pd\n",
    "all_data = []\n",
    "conditions = []\n",
    "\n",
    "for condition, array in preds_test.items():\n",
    "    all_data.append(array)\n",
    "    conditions.extend([condition] * array.shape[0])\n",
    "\n",
    "# Stack all data vertically to create a single array\n",
    "all_data_array = np.vstack(all_data)\n",
    "\n",
    "# Create a DataFrame for the .obs attribute\n",
    "obs_data = pd.DataFrame({\n",
    "    'condition': conditions\n",
    "})\n",
    "\n",
    "# Create the Anndata object\n",
    "adata_test_result = ad.AnnData(X=np.empty((len(all_data_array),2000)), obs=obs_data)\n",
    "adata_test_result.obsm[\"X_scVI_pred\"] = all_data_array"
   ]
  },
  {
   "cell_type": "code",
   "execution_count": null,
   "id": "2ce0510f-b281-4248-8fee-2e351c8b9cdf",
   "metadata": {},
   "outputs": [],
   "source": [
    "adata_test_result.layers[\"pred_reconstruction\"] = vae.get_reconstructed_expression(adata_test_result, use_rep=\"X_scVI_pred\")"
   ]
  },
  {
   "cell_type": "code",
   "execution_count": null,
   "id": "4151a86a-bf44-4807-8a57-7ad431717f27",
   "metadata": {},
   "outputs": [],
   "source": [
    "adata_test_result.write(f\"/lustre/groups/ml01/workspace/ot_perturbation/models/otfm/sciplex/vae_attention_pooling/adata_test_with_predictions_{split}.h5ad\")\n"
   ]
  },
  {
   "cell_type": "code",
   "execution_count": null,
   "id": "6aac7aa2-f076-48ff-a6c5-f0e91e5a92a2",
   "metadata": {},
   "outputs": [],
   "source": []
  },
  {
   "cell_type": "code",
   "execution_count": null,
   "id": "c2579b0e-fb49-4ee6-8527-eaadba4a26e7",
   "metadata": {},
   "outputs": [],
   "source": []
  },
  {
   "cell_type": "code",
   "execution_count": null,
   "id": "bf9dd839-6297-4ec8-a14b-86a218f2480a",
   "metadata": {},
   "outputs": [],
   "source": []
  }
 ],
 "metadata": {
  "kernelspec": {
   "display_name": "cfp",
   "language": "python",
   "name": "cfp"
  },
  "language_info": {
   "codemirror_mode": {
    "name": "ipython",
    "version": 3
   },
   "file_extension": ".py",
   "mimetype": "text/x-python",
   "name": "python",
   "nbconvert_exporter": "python",
   "pygments_lexer": "ipython3",
   "version": "3.11.9"
  }
 },
 "nbformat": 4,
 "nbformat_minor": 5
}
