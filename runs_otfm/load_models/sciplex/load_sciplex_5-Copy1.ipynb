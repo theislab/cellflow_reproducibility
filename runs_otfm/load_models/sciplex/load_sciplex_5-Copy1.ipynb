{
 "cells": [
  {
   "cell_type": "code",
   "execution_count": 5,
   "id": "71ad2353-da64-4e0b-a8e6-1c34292ad962",
   "metadata": {},
   "outputs": [],
   "source": [
    "import cfp\n",
    "import scanpy as sc\n",
    "import anndata as ad\n",
    "from cfp.external import CFJaxSCVI\n",
    "import numpy as np"
   ]
  },
  {
   "cell_type": "code",
   "execution_count": 2,
   "id": "505259bb-3b59-42ed-99c8-25e0209afe54",
   "metadata": {},
   "outputs": [],
   "source": [
    "split = 5\n",
    "model_name = \"vital-dragon-422\""
   ]
  },
  {
   "cell_type": "code",
   "execution_count": 12,
   "id": "d40c7cd6-b75e-4666-b77c-b7be56a898d1",
   "metadata": {},
   "outputs": [],
   "source": [
    "adata_train_path = f\"/lustre/groups/ml01/workspace/ot_perturbation/data/sciplex/adata_train_{split}.h5ad\"\n",
    "adata_test_path = f\"/lustre/groups/ml01/workspace/ot_perturbation/data/sciplex/adata_test_{split}.h5ad\"\n",
    "adata_ood_path = f\"/lustre/groups/ml01/workspace/ot_perturbation/data/sciplex/adata_ood_{split}.h5ad\"\n",
    "adata_train = sc.read_h5ad(adata_train_path)\n",
    "adata_test = sc.read_h5ad(adata_test_path)\n",
    "adata_ood = sc.read_h5ad(adata_ood_path)\n",
    "    "
   ]
  },
  {
   "cell_type": "code",
   "execution_count": 13,
   "id": "39150dd3-6c54-4439-95aa-f8078811e981",
   "metadata": {},
   "outputs": [
    {
     "name": "stdout",
     "output_type": "stream",
     "text": [
      "\u001b[34mINFO    \u001b[0m File \u001b[35m/lustre/groups/ml01/workspace/ot_perturbation/models/vaes/sciplex/32_1024/\u001b[0m\u001b[95mmodel.pt\u001b[0m already downloaded\n"
     ]
    },
    {
     "name": "stderr",
     "output_type": "stream",
     "text": [
      "/home/icb/dominik.klein/mambaforge/envs/cfp/lib/python3.11/site-packages/lightning/fabric/plugins/environments/slurm.py:191: The `srun` command is available on your system but is not used. HINT: If your intention is to run Lightning on SLURM, prepend your python command with `srun` like so: srun python /home/icb/dominik.klein/mambaforge/envs/cfp/lib/pyth ...\n",
      "/home/icb/dominik.klein/mambaforge/envs/cfp/lib/python3.11/site-packages/scvi/model/base/_utils.py:66: FutureWarning: You are using `torch.load` with `weights_only=False` (the current default value), which uses the default pickle module implicitly. It is possible to construct malicious pickle data which will execute arbitrary code during unpickling (See https://github.com/pytorch/pytorch/blob/main/SECURITY.md#untrusted-models for more details). In a future release, the default value for `weights_only` will be flipped to `True`. This limits the functions that could be executed during unpickling. Arbitrary objects will no longer be allowed to be loaded via this mode unless they are explicitly allowlisted by the user via `torch.serialization.add_safe_globals`. We recommend you start setting `weights_only=True` for any use case where you don't have full control of the loaded file. Please open an issue on GitHub for any issues related to this experimental feature.\n",
      "  model = torch.load(model_path, map_location=map_location)\n"
     ]
    },
    {
     "name": "stdout",
     "output_type": "stream",
     "text": [
      "\u001b[34mINFO    \u001b[0m Jax module moved to cu\u001b[1;92mda:0\u001b[0m.Note: Pytorch lightning will show GPU is not being used for the Trainer.       \n"
     ]
    },
    {
     "name": "stderr",
     "output_type": "stream",
     "text": [
      "/home/icb/dominik.klein/mambaforge/envs/cfp/lib/python3.11/site-packages/scvi/data/fields/_base_field.py:64: UserWarning: adata.X does not contain unnormalized count data. Are you sure this is what you want?\n",
      "  self.validate_field(adata)\n",
      "/home/icb/dominik.klein/mambaforge/envs/cfp/lib/python3.11/site-packages/lightning/fabric/plugins/environments/slurm.py:191: The `srun` command is available on your system but is not used. HINT: If your intention is to run Lightning on SLURM, prepend your python command with `srun` like so: srun python /home/icb/dominik.klein/mambaforge/envs/cfp/lib/pyth ...\n",
      "/home/icb/dominik.klein/mambaforge/envs/cfp/lib/python3.11/site-packages/lightning/fabric/plugins/environments/slurm.py:191: The `srun` command is available on your system but is not used. HINT: If your intention is to run Lightning on SLURM, prepend your python command with `srun` like so: srun python /home/icb/dominik.klein/mambaforge/envs/cfp/lib/pyth ...\n",
      "GPU available: True (cuda), used: False\n",
      "TPU available: False, using: 0 TPU cores\n",
      "IPU available: False, using: 0 IPUs\n",
      "HPU available: False, using: 0 HPUs\n",
      "/home/icb/dominik.klein/mambaforge/envs/cfp/lib/python3.11/site-packages/lightning/pytorch/trainer/setup.py:187: GPU available but not used. You can set it by doing `Trainer(accelerator='gpu')`.\n",
      "/home/icb/dominik.klein/mambaforge/envs/cfp/lib/python3.11/site-packages/lightning/fabric/plugins/environments/slurm.py:191: The `srun` command is available on your system but is not used. HINT: If your intention is to run Lightning on SLURM, prepend your python command with `srun` like so: srun python /home/icb/dominik.klein/mambaforge/envs/cfp/lib/pyth ...\n",
      "/home/icb/dominik.klein/mambaforge/envs/cfp/lib/python3.11/site-packages/lightning/pytorch/trainer/connectors/data_connector.py:441: The 'train_dataloader' does not have many workers which may be a bottleneck. Consider increasing the value of the `num_workers` argument` to `num_workers=5` in the `DataLoader` to improve performance.\n"
     ]
    },
    {
     "name": "stdout",
     "output_type": "stream",
     "text": [
      "Epoch 1/18:   6%|▌         | 1/18 [00:01<00:30,  1.77s/it, v_num=1, train_loss_step=402, train_loss_epoch=402]"
     ]
    },
    {
     "name": "stderr",
     "output_type": "stream",
     "text": [
      "`Trainer.fit` stopped: `max_steps=1` reached.\n"
     ]
    },
    {
     "name": "stdout",
     "output_type": "stream",
     "text": [
      "Epoch 1/18:   6%|▌         | 1/18 [00:01<00:30,  1.77s/it, v_num=1, train_loss_step=402, train_loss_epoch=402]\n",
      "\u001b[34mINFO    \u001b[0m Input AnnData not setup with scvi-tools. attempting to transfer AnnData setup                             \n"
     ]
    },
    {
     "name": "stderr",
     "output_type": "stream",
     "text": [
      "/home/icb/dominik.klein/mambaforge/envs/cfp/lib/python3.11/site-packages/scvi/data/fields/_base_field.py:64: UserWarning: adata.X does not contain unnormalized count data. Are you sure this is what you want?\n",
      "  self.validate_field(adata)\n"
     ]
    },
    {
     "name": "stdout",
     "output_type": "stream",
     "text": [
      "\u001b[34mINFO    \u001b[0m Input AnnData not setup with scvi-tools. attempting to transfer AnnData setup                             \n"
     ]
    },
    {
     "name": "stderr",
     "output_type": "stream",
     "text": [
      "/home/icb/dominik.klein/mambaforge/envs/cfp/lib/python3.11/site-packages/scvi/data/fields/_base_field.py:64: UserWarning: adata.X does not contain unnormalized count data. Are you sure this is what you want?\n",
      "  self.validate_field(adata)\n"
     ]
    }
   ],
   "source": [
    "vae = CFJaxSCVI.load(\"/lustre/groups/ml01/workspace/ot_perturbation/models/vaes/sciplex/32_1024\", adata=adata_train)\n",
    "adata_train.obsm[\"X_scVI\"] = vae.get_latent_representation(adata_train)\n",
    "adata_test.obsm[\"X_scVI\"] = vae.get_latent_representation(adata_test)\n",
    "adata_ood.obsm[\"X_scVI\"] = vae.get_latent_representation(adata_ood)\n"
   ]
  },
  {
   "cell_type": "code",
   "execution_count": 21,
   "id": "b6f7ee25-eeac-46bc-a305-be753cc7c0ee",
   "metadata": {},
   "outputs": [
    {
     "name": "stderr",
     "output_type": "stream",
     "text": [
      "/tmp/ipykernel_651063/2979151925.py:3: ImplicitModificationWarning: Trying to modify attribute `.obs` of view, initializing view as actual.\n",
      "  adata_ood_ctrl.obs[\"control\"] = True\n",
      "/tmp/ipykernel_651063/2979151925.py:4: ImplicitModificationWarning: Trying to modify attribute `.obs` of view, initializing view as actual.\n",
      "  adata_test_ctrl.obs[\"control\"] = True\n"
     ]
    }
   ],
   "source": [
    "adata_ood_ctrl = adata_ood[adata_ood.obs[\"condition\"].str.contains(\"Vehicle\")]\n",
    "adata_test_ctrl = adata_test[adata_test.obs[\"condition\"].str.contains(\"Vehicle\")]\n",
    "adata_ood_ctrl.obs[\"control\"] = True\n",
    "adata_test_ctrl.obs[\"control\"] = True\n",
    "covariate_data_ood = adata_ood[~adata_ood.obs[\"condition\"].str.contains(\"Vehicle\")].obs.drop_duplicates(subset=[\"condition\"])\n",
    "covariate_data_test = adata_test[~adata_test.obs[\"condition\"].str.contains(\"Vehicle\")].obs.drop_duplicates(subset=[\"condition\"])"
   ]
  },
  {
   "cell_type": "code",
   "execution_count": 16,
   "id": "bff95931-f763-4e37-82c2-7a4182945e7f",
   "metadata": {},
   "outputs": [],
   "source": [
    "cf = cfp.model.CellFlow.load(f\"/lustre/groups/ml01/workspace/ot_perturbation/data/sciplex/out/{model_name}_CellFlow.pkl\")"
   ]
  },
  {
   "cell_type": "code",
   "execution_count": 17,
   "id": "4562fbaf-4f29-49d8-8559-95d7bccb2c74",
   "metadata": {},
   "outputs": [
    {
     "data": {
      "text/plain": [
       "AnnData object with n_obs × n_vars = 0 × 2001\n",
       "    obs: 'cell_type', 'dose', 'dose_character', 'dose_pattern', 'g1s_score', 'g2m_score', 'pathway', 'pathway_level_1', 'pathway_level_2', 'product_dose', 'product_name', 'proliferation_index', 'replicate', 'size_factor', 'target', 'vehicle', 'perturbation', 'drug', 'cell_line', 'logdose', 'condition', 'n_genes', 'pubchem_name', 'pubchem_ID', 'smiles', 'control', 'ood_1', 'ood_2', 'ood_3', 'ood_4', 'ood_5', 'split', '_scvi_batch'\n",
       "    uns: 'cell_line_dict', 'ecfp_dict', '_scvi_uuid', '_scvi_manager_uuid'\n",
       "    obsm: 'X_pca', 'ecfp', 'X_scVI'"
      ]
     },
     "execution_count": 17,
     "metadata": {},
     "output_type": "execute_result"
    }
   ],
   "source": [
    "adata_ood_ctrl"
   ]
  },
  {
   "cell_type": "code",
   "execution_count": 20,
   "id": "2bfd82a6-7e4a-422a-b37f-a7a57cc6d14e",
   "metadata": {},
   "outputs": [
    {
     "data": {
      "text/plain": [
       "AnnData object with n_obs × n_vars = 0 × 2001\n",
       "    obs: 'cell_type', 'dose', 'dose_character', 'dose_pattern', 'g1s_score', 'g2m_score', 'pathway', 'pathway_level_1', 'pathway_level_2', 'product_dose', 'product_name', 'proliferation_index', 'replicate', 'size_factor', 'target', 'vehicle', 'perturbation', 'drug', 'cell_line', 'logdose', 'condition', 'n_genes', 'pubchem_name', 'pubchem_ID', 'smiles', 'control', 'ood_1', 'ood_2', 'ood_3', 'ood_4', 'ood_5', 'split', '_scvi_batch'\n",
       "    uns: 'cell_line_dict', 'ecfp_dict', '_scvi_uuid', '_scvi_manager_uuid'\n",
       "    obsm: 'X_pca', 'ecfp', 'X_scVI'"
      ]
     },
     "execution_count": 20,
     "metadata": {},
     "output_type": "execute_result"
    }
   ],
   "source": [
    "adata_ood_ctrl"
   ]
  },
  {
   "cell_type": "code",
   "execution_count": 22,
   "id": "3b775130-2de3-4288-b55e-eb24dc03c1c7",
   "metadata": {
    "scrolled": true
   },
   "outputs": [
    {
     "name": "stderr",
     "output_type": "stream",
     "text": [
      "/ictstr01/home/icb/dominik.klein/git_repos/cell_flow_perturbation/src/cfp/data/_datamanager.py:334: SettingWithCopyWarning: \n",
      "A value is trying to be set on a copy of a slice from a DataFrame.\n",
      "Try using .loc[row_indexer,col_indexer] = value instead\n",
      "\n",
      "See the caveats in the documentation: https://pandas.pydata.org/pandas-docs/stable/user_guide/indexing.html#returning-a-view-versus-a-copy\n",
      "  _covariate_data[\"cell_index\"] = _covariate_data.index\n",
      "100%|██████████| 27/27 [00:00<00:00, 658.67it/s]\n",
      "100%|██████████| 32/32 [00:00<00:00, 686.63it/s]\n",
      "100%|██████████| 24/24 [00:00<00:00, 660.69it/s]\n"
     ]
    }
   ],
   "source": [
    "preds_ood = cf.predict(adata=adata_ood_ctrl, sample_rep=\"X_scVI\", condition_id_key=\"condition\", covariate_data=covariate_data_ood)"
   ]
  },
  {
   "cell_type": "code",
   "execution_count": 23,
   "id": "b4552220-4b67-45ac-b661-114b15939b98",
   "metadata": {},
   "outputs": [
    {
     "name": "stderr",
     "output_type": "stream",
     "text": [
      "/ictstr01/home/icb/dominik.klein/git_repos/cell_flow_perturbation/src/cfp/data/_datamanager.py:334: SettingWithCopyWarning: \n",
      "A value is trying to be set on a copy of a slice from a DataFrame.\n",
      "Try using .loc[row_indexer,col_indexer] = value instead\n",
      "\n",
      "See the caveats in the documentation: https://pandas.pydata.org/pandas-docs/stable/user_guide/indexing.html#returning-a-view-versus-a-copy\n",
      "  _covariate_data[\"cell_index\"] = _covariate_data.index\n",
      "100%|██████████| 676/676 [00:00<00:00, 676.11it/s]\n",
      "100%|██████████| 707/707 [00:01<00:00, 675.73it/s]\n",
      "100%|██████████| 659/659 [00:00<00:00, 666.36it/s]\n"
     ]
    },
    {
     "ename": "KeyboardInterrupt",
     "evalue": "",
     "output_type": "error",
     "traceback": [
      "\u001b[0;31m---------------------------------------------------------------------------\u001b[0m",
      "\u001b[0;31mKeyboardInterrupt\u001b[0m                         Traceback (most recent call last)",
      "Cell \u001b[0;32mIn[23], line 1\u001b[0m\n\u001b[0;32m----> 1\u001b[0m preds_test \u001b[38;5;241m=\u001b[39m cf\u001b[38;5;241m.\u001b[39mpredict(adata\u001b[38;5;241m=\u001b[39madata_test_ctrl, sample_rep\u001b[38;5;241m=\u001b[39m\u001b[38;5;124m\"\u001b[39m\u001b[38;5;124mX_scVI\u001b[39m\u001b[38;5;124m\"\u001b[39m, condition_id_key\u001b[38;5;241m=\u001b[39m\u001b[38;5;124m\"\u001b[39m\u001b[38;5;124mcondition\u001b[39m\u001b[38;5;124m\"\u001b[39m, covariate_data\u001b[38;5;241m=\u001b[39mcovariate_data_test)\n",
      "File \u001b[0;32m/ictstr01/home/icb/dominik.klein/git_repos/cell_flow_perturbation/src/cfp/model/_cellflow.py:602\u001b[0m, in \u001b[0;36mCellFlow.predict\u001b[0;34m(self, adata, sample_rep, covariate_data, condition_id_key, key_added_prefix, n_samples, **kwargs)\u001b[0m\n\u001b[1;32m    600\u001b[0m src \u001b[38;5;241m=\u001b[39m batch[\u001b[38;5;124m\"\u001b[39m\u001b[38;5;124msource\u001b[39m\u001b[38;5;124m\"\u001b[39m]\n\u001b[1;32m    601\u001b[0m condition \u001b[38;5;241m=\u001b[39m batch\u001b[38;5;241m.\u001b[39mget(\u001b[38;5;124m\"\u001b[39m\u001b[38;5;124mcondition\u001b[39m\u001b[38;5;124m\"\u001b[39m, \u001b[38;5;28;01mNone\u001b[39;00m)\n\u001b[0;32m--> 602\u001b[0m out \u001b[38;5;241m=\u001b[39m jax\u001b[38;5;241m.\u001b[39mtree\u001b[38;5;241m.\u001b[39mmap(functools\u001b[38;5;241m.\u001b[39mpartial(\u001b[38;5;28mself\u001b[39m\u001b[38;5;241m.\u001b[39msolver\u001b[38;5;241m.\u001b[39mpredict, \u001b[38;5;241m*\u001b[39m\u001b[38;5;241m*\u001b[39mkwargs), src, condition)  \u001b[38;5;66;03m# type: ignore[union-attr]\u001b[39;00m\n\u001b[1;32m    603\u001b[0m \u001b[38;5;28;01mif\u001b[39;00m key_added_prefix \u001b[38;5;129;01mis\u001b[39;00m \u001b[38;5;28;01mNone\u001b[39;00m:\n\u001b[1;32m    604\u001b[0m     \u001b[38;5;28;01mreturn\u001b[39;00m out\n",
      "File \u001b[0;32m~/mambaforge/envs/cfp/lib/python3.11/site-packages/jax/_src/tree.py:155\u001b[0m, in \u001b[0;36mmap\u001b[0;34m(f, tree, is_leaf, *rest)\u001b[0m\n\u001b[1;32m    115\u001b[0m \u001b[38;5;28;01mdef\u001b[39;00m \u001b[38;5;21mmap\u001b[39m(f: Callable[\u001b[38;5;241m.\u001b[39m\u001b[38;5;241m.\u001b[39m\u001b[38;5;241m.\u001b[39m, Any],\n\u001b[1;32m    116\u001b[0m         tree: Any,\n\u001b[1;32m    117\u001b[0m         \u001b[38;5;241m*\u001b[39mrest: Any,\n\u001b[1;32m    118\u001b[0m         is_leaf: Callable[[Any], \u001b[38;5;28mbool\u001b[39m] \u001b[38;5;241m|\u001b[39m \u001b[38;5;28;01mNone\u001b[39;00m \u001b[38;5;241m=\u001b[39m \u001b[38;5;28;01mNone\u001b[39;00m) \u001b[38;5;241m-\u001b[39m\u001b[38;5;241m>\u001b[39m Any:\n\u001b[1;32m    119\u001b[0m \u001b[38;5;250m  \u001b[39m\u001b[38;5;124;03m\"\"\"Maps a multi-input function over pytree args to produce a new pytree.\u001b[39;00m\n\u001b[1;32m    120\u001b[0m \n\u001b[1;32m    121\u001b[0m \u001b[38;5;124;03m  Args:\u001b[39;00m\n\u001b[0;32m   (...)\u001b[0m\n\u001b[1;32m    153\u001b[0m \u001b[38;5;124;03m    - :func:`jax.tree.reduce`\u001b[39;00m\n\u001b[1;32m    154\u001b[0m \u001b[38;5;124;03m  \"\"\"\u001b[39;00m\n\u001b[0;32m--> 155\u001b[0m   \u001b[38;5;28;01mreturn\u001b[39;00m tree_util\u001b[38;5;241m.\u001b[39mtree_map(f, tree, \u001b[38;5;241m*\u001b[39mrest, is_leaf\u001b[38;5;241m=\u001b[39mis_leaf)\n",
      "File \u001b[0;32m~/mambaforge/envs/cfp/lib/python3.11/site-packages/jax/_src/tree_util.py:344\u001b[0m, in \u001b[0;36mtree_map\u001b[0;34m(f, tree, is_leaf, *rest)\u001b[0m\n\u001b[1;32m    342\u001b[0m leaves, treedef \u001b[38;5;241m=\u001b[39m tree_flatten(tree, is_leaf)\n\u001b[1;32m    343\u001b[0m all_leaves \u001b[38;5;241m=\u001b[39m [leaves] \u001b[38;5;241m+\u001b[39m [treedef\u001b[38;5;241m.\u001b[39mflatten_up_to(r) \u001b[38;5;28;01mfor\u001b[39;00m r \u001b[38;5;129;01min\u001b[39;00m rest]\n\u001b[0;32m--> 344\u001b[0m \u001b[38;5;28;01mreturn\u001b[39;00m treedef\u001b[38;5;241m.\u001b[39munflatten(f(\u001b[38;5;241m*\u001b[39mxs) \u001b[38;5;28;01mfor\u001b[39;00m xs \u001b[38;5;129;01min\u001b[39;00m \u001b[38;5;28mzip\u001b[39m(\u001b[38;5;241m*\u001b[39mall_leaves))\n",
      "File \u001b[0;32m~/mambaforge/envs/cfp/lib/python3.11/site-packages/jax/_src/tree_util.py:344\u001b[0m, in \u001b[0;36m<genexpr>\u001b[0;34m(.0)\u001b[0m\n\u001b[1;32m    342\u001b[0m leaves, treedef \u001b[38;5;241m=\u001b[39m tree_flatten(tree, is_leaf)\n\u001b[1;32m    343\u001b[0m all_leaves \u001b[38;5;241m=\u001b[39m [leaves] \u001b[38;5;241m+\u001b[39m [treedef\u001b[38;5;241m.\u001b[39mflatten_up_to(r) \u001b[38;5;28;01mfor\u001b[39;00m r \u001b[38;5;129;01min\u001b[39;00m rest]\n\u001b[0;32m--> 344\u001b[0m \u001b[38;5;28;01mreturn\u001b[39;00m treedef\u001b[38;5;241m.\u001b[39munflatten(f(\u001b[38;5;241m*\u001b[39mxs) \u001b[38;5;28;01mfor\u001b[39;00m xs \u001b[38;5;129;01min\u001b[39;00m \u001b[38;5;28mzip\u001b[39m(\u001b[38;5;241m*\u001b[39mall_leaves))\n",
      "File \u001b[0;32m/ictstr01/home/icb/dominik.klein/git_repos/cell_flow_perturbation/src/cfp/solvers/_otfm.py:207\u001b[0m, in \u001b[0;36mOTFlowMatching.predict\u001b[0;34m(self, x, condition, **kwargs)\u001b[0m\n\u001b[1;32m    197\u001b[0m     result \u001b[38;5;241m=\u001b[39m diffrax\u001b[38;5;241m.\u001b[39mdiffeqsolve(\n\u001b[1;32m    198\u001b[0m         ode_term,\n\u001b[1;32m    199\u001b[0m         t0\u001b[38;5;241m=\u001b[39m\u001b[38;5;241m0.0\u001b[39m,\n\u001b[0;32m   (...)\u001b[0m\n\u001b[1;32m    203\u001b[0m         \u001b[38;5;241m*\u001b[39m\u001b[38;5;241m*\u001b[39mkwargs,\n\u001b[1;32m    204\u001b[0m     )\n\u001b[1;32m    205\u001b[0m     \u001b[38;5;28;01mreturn\u001b[39;00m result\u001b[38;5;241m.\u001b[39mys[\u001b[38;5;241m0\u001b[39m]\n\u001b[0;32m--> 207\u001b[0m x_pred \u001b[38;5;241m=\u001b[39m jax\u001b[38;5;241m.\u001b[39mjit(jax\u001b[38;5;241m.\u001b[39mvmap(solve_ode, in_axes\u001b[38;5;241m=\u001b[39m[\u001b[38;5;241m0\u001b[39m, \u001b[38;5;28;01mNone\u001b[39;00m]))(x, condition)\n\u001b[1;32m    208\u001b[0m \u001b[38;5;28;01mreturn\u001b[39;00m np\u001b[38;5;241m.\u001b[39marray(x_pred)\n",
      "    \u001b[0;31m[... skipping hidden 1 frame]\u001b[0m\n",
      "File \u001b[0;32m~/mambaforge/envs/cfp/lib/python3.11/site-packages/jax/_src/pjit.py:332\u001b[0m, in \u001b[0;36m_cpp_pjit.<locals>.cache_miss\u001b[0;34m(*args, **kwargs)\u001b[0m\n\u001b[1;32m    329\u001b[0m \u001b[38;5;28;01mif\u001b[39;00m config\u001b[38;5;241m.\u001b[39mno_tracing\u001b[38;5;241m.\u001b[39mvalue:\n\u001b[1;32m    330\u001b[0m   \u001b[38;5;28;01mraise\u001b[39;00m \u001b[38;5;167;01mRuntimeError\u001b[39;00m(\u001b[38;5;124mf\u001b[39m\u001b[38;5;124m\"\u001b[39m\u001b[38;5;124mre-tracing function \u001b[39m\u001b[38;5;132;01m{\u001b[39;00mjit_info\u001b[38;5;241m.\u001b[39mfun_sourceinfo\u001b[38;5;132;01m}\u001b[39;00m\u001b[38;5;124m for \u001b[39m\u001b[38;5;124m\"\u001b[39m\n\u001b[1;32m    331\u001b[0m                      \u001b[38;5;124m\"\u001b[39m\u001b[38;5;124m`jit`, but \u001b[39m\u001b[38;5;124m'\u001b[39m\u001b[38;5;124mno_tracing\u001b[39m\u001b[38;5;124m'\u001b[39m\u001b[38;5;124m is set\u001b[39m\u001b[38;5;124m\"\u001b[39m)\n\u001b[0;32m--> 332\u001b[0m outs, out_flat, out_tree, args_flat, jaxpr, attrs_tracked \u001b[38;5;241m=\u001b[39m _python_pjit_helper(\n\u001b[1;32m    333\u001b[0m     fun, jit_info, \u001b[38;5;241m*\u001b[39margs, \u001b[38;5;241m*\u001b[39m\u001b[38;5;241m*\u001b[39mkwargs)\n\u001b[1;32m    334\u001b[0m executable \u001b[38;5;241m=\u001b[39m _read_most_recent_pjit_call_executable(jaxpr)\n\u001b[1;32m    335\u001b[0m pgle_profiler \u001b[38;5;241m=\u001b[39m _read_pgle_profiler(jaxpr)\n",
      "File \u001b[0;32m~/mambaforge/envs/cfp/lib/python3.11/site-packages/jax/_src/pjit.py:190\u001b[0m, in \u001b[0;36m_python_pjit_helper\u001b[0;34m(fun, jit_info, *args, **kwargs)\u001b[0m\n\u001b[1;32m    187\u001b[0m   args_flat \u001b[38;5;241m=\u001b[39m [\u001b[38;5;241m*\u001b[39minit_states, \u001b[38;5;241m*\u001b[39margs_flat]\n\u001b[1;32m    189\u001b[0m \u001b[38;5;28;01mtry\u001b[39;00m:\n\u001b[0;32m--> 190\u001b[0m   out_flat \u001b[38;5;241m=\u001b[39m pjit_p\u001b[38;5;241m.\u001b[39mbind(\u001b[38;5;241m*\u001b[39margs_flat, \u001b[38;5;241m*\u001b[39m\u001b[38;5;241m*\u001b[39mp\u001b[38;5;241m.\u001b[39mparams)\n\u001b[1;32m    191\u001b[0m \u001b[38;5;28;01mexcept\u001b[39;00m pxla\u001b[38;5;241m.\u001b[39mDeviceAssignmentMismatchError \u001b[38;5;28;01mas\u001b[39;00m e:\n\u001b[1;32m    192\u001b[0m   fails, \u001b[38;5;241m=\u001b[39m e\u001b[38;5;241m.\u001b[39margs\n",
      "File \u001b[0;32m~/mambaforge/envs/cfp/lib/python3.11/site-packages/jax/_src/core.py:2782\u001b[0m, in \u001b[0;36mAxisPrimitive.bind\u001b[0;34m(self, *args, **params)\u001b[0m\n\u001b[1;32m   2778\u001b[0m axis_main \u001b[38;5;241m=\u001b[39m \u001b[38;5;28mmax\u001b[39m((axis_frame(a)\u001b[38;5;241m.\u001b[39mmain_trace \u001b[38;5;28;01mfor\u001b[39;00m a \u001b[38;5;129;01min\u001b[39;00m used_axis_names(\u001b[38;5;28mself\u001b[39m, params)),\n\u001b[1;32m   2779\u001b[0m                 default\u001b[38;5;241m=\u001b[39m\u001b[38;5;28;01mNone\u001b[39;00m, key\u001b[38;5;241m=\u001b[39m\u001b[38;5;28;01mlambda\u001b[39;00m t: \u001b[38;5;28mgetattr\u001b[39m(t, \u001b[38;5;124m'\u001b[39m\u001b[38;5;124mlevel\u001b[39m\u001b[38;5;124m'\u001b[39m, \u001b[38;5;241m-\u001b[39m\u001b[38;5;241m1\u001b[39m))\n\u001b[1;32m   2780\u001b[0m top_trace \u001b[38;5;241m=\u001b[39m (top_trace \u001b[38;5;28;01mif\u001b[39;00m \u001b[38;5;129;01mnot\u001b[39;00m axis_main \u001b[38;5;129;01mor\u001b[39;00m axis_main\u001b[38;5;241m.\u001b[39mlevel \u001b[38;5;241m<\u001b[39m top_trace\u001b[38;5;241m.\u001b[39mlevel\n\u001b[1;32m   2781\u001b[0m              \u001b[38;5;28;01melse\u001b[39;00m axis_main\u001b[38;5;241m.\u001b[39mwith_cur_sublevel())\n\u001b[0;32m-> 2782\u001b[0m \u001b[38;5;28;01mreturn\u001b[39;00m \u001b[38;5;28mself\u001b[39m\u001b[38;5;241m.\u001b[39mbind_with_trace(top_trace, args, params)\n",
      "File \u001b[0;32m~/mambaforge/envs/cfp/lib/python3.11/site-packages/jax/_src/core.py:443\u001b[0m, in \u001b[0;36mPrimitive.bind_with_trace\u001b[0;34m(self, trace, args, params)\u001b[0m\n\u001b[1;32m    441\u001b[0m \u001b[38;5;28;01mdef\u001b[39;00m \u001b[38;5;21mbind_with_trace\u001b[39m(\u001b[38;5;28mself\u001b[39m, trace, args, params):\n\u001b[1;32m    442\u001b[0m   \u001b[38;5;28;01mwith\u001b[39;00m pop_level(trace\u001b[38;5;241m.\u001b[39mlevel):\n\u001b[0;32m--> 443\u001b[0m     out \u001b[38;5;241m=\u001b[39m trace\u001b[38;5;241m.\u001b[39mprocess_primitive(\u001b[38;5;28mself\u001b[39m, \u001b[38;5;28mmap\u001b[39m(trace\u001b[38;5;241m.\u001b[39mfull_raise, args), params)\n\u001b[1;32m    444\u001b[0m   \u001b[38;5;28;01mreturn\u001b[39;00m \u001b[38;5;28mmap\u001b[39m(full_lower, out) \u001b[38;5;28;01mif\u001b[39;00m \u001b[38;5;28mself\u001b[39m\u001b[38;5;241m.\u001b[39mmultiple_results \u001b[38;5;28;01melse\u001b[39;00m full_lower(out)\n",
      "File \u001b[0;32m~/mambaforge/envs/cfp/lib/python3.11/site-packages/jax/_src/core.py:949\u001b[0m, in \u001b[0;36mEvalTrace.process_primitive\u001b[0;34m(self, primitive, tracers, params)\u001b[0m\n\u001b[1;32m    947\u001b[0m   \u001b[38;5;28;01mreturn\u001b[39;00m call_impl_with_key_reuse_checks(primitive, primitive\u001b[38;5;241m.\u001b[39mimpl, \u001b[38;5;241m*\u001b[39mtracers, \u001b[38;5;241m*\u001b[39m\u001b[38;5;241m*\u001b[39mparams)\n\u001b[1;32m    948\u001b[0m \u001b[38;5;28;01melse\u001b[39;00m:\n\u001b[0;32m--> 949\u001b[0m   \u001b[38;5;28;01mreturn\u001b[39;00m primitive\u001b[38;5;241m.\u001b[39mimpl(\u001b[38;5;241m*\u001b[39mtracers, \u001b[38;5;241m*\u001b[39m\u001b[38;5;241m*\u001b[39mparams)\n",
      "File \u001b[0;32m~/mambaforge/envs/cfp/lib/python3.11/site-packages/jax/_src/pjit.py:1739\u001b[0m, in \u001b[0;36m_pjit_call_impl\u001b[0;34m(jaxpr, in_shardings, out_shardings, in_layouts, out_layouts, resource_env, donated_invars, name, keep_unused, inline, *args)\u001b[0m\n\u001b[1;32m   1736\u001b[0m donated_argnums \u001b[38;5;241m=\u001b[39m [i \u001b[38;5;28;01mfor\u001b[39;00m i, d \u001b[38;5;129;01min\u001b[39;00m \u001b[38;5;28menumerate\u001b[39m(donated_invars) \u001b[38;5;28;01mif\u001b[39;00m d]\n\u001b[1;32m   1737\u001b[0m has_explicit_sharding \u001b[38;5;241m=\u001b[39m _pjit_explicit_sharding_and_layout(\n\u001b[1;32m   1738\u001b[0m     in_shardings, out_shardings, in_layouts, out_layouts, \u001b[38;5;28;01mNone\u001b[39;00m, \u001b[38;5;28;01mNone\u001b[39;00m)\n\u001b[0;32m-> 1739\u001b[0m \u001b[38;5;28;01mreturn\u001b[39;00m xc\u001b[38;5;241m.\u001b[39m_xla\u001b[38;5;241m.\u001b[39mpjit(\n\u001b[1;32m   1740\u001b[0m     name, f, call_impl_cache_miss, [], [], donated_argnums,\n\u001b[1;32m   1741\u001b[0m     tree_util\u001b[38;5;241m.\u001b[39mdispatch_registry, pxla\u001b[38;5;241m.\u001b[39mcc_shard_arg,\n\u001b[1;32m   1742\u001b[0m     _get_cpp_global_cache(has_explicit_sharding))(\u001b[38;5;241m*\u001b[39margs)\n",
      "File \u001b[0;32m~/mambaforge/envs/cfp/lib/python3.11/site-packages/jax/_src/pjit.py:1721\u001b[0m, in \u001b[0;36m_pjit_call_impl.<locals>.call_impl_cache_miss\u001b[0;34m(*args_, **kwargs_)\u001b[0m\n\u001b[1;32m   1720\u001b[0m \u001b[38;5;28;01mdef\u001b[39;00m \u001b[38;5;21mcall_impl_cache_miss\u001b[39m(\u001b[38;5;241m*\u001b[39margs_, \u001b[38;5;241m*\u001b[39m\u001b[38;5;241m*\u001b[39mkwargs_):\n\u001b[0;32m-> 1721\u001b[0m   out_flat, compiled \u001b[38;5;241m=\u001b[39m _pjit_call_impl_python(\n\u001b[1;32m   1722\u001b[0m       \u001b[38;5;241m*\u001b[39margs, jaxpr\u001b[38;5;241m=\u001b[39mjaxpr, in_shardings\u001b[38;5;241m=\u001b[39min_shardings,\n\u001b[1;32m   1723\u001b[0m       out_shardings\u001b[38;5;241m=\u001b[39mout_shardings, in_layouts\u001b[38;5;241m=\u001b[39min_layouts,\n\u001b[1;32m   1724\u001b[0m       out_layouts\u001b[38;5;241m=\u001b[39mout_layouts, resource_env\u001b[38;5;241m=\u001b[39mresource_env,\n\u001b[1;32m   1725\u001b[0m       donated_invars\u001b[38;5;241m=\u001b[39mdonated_invars, name\u001b[38;5;241m=\u001b[39mname, keep_unused\u001b[38;5;241m=\u001b[39mkeep_unused,\n\u001b[1;32m   1726\u001b[0m       inline\u001b[38;5;241m=\u001b[39minline)\n\u001b[1;32m   1727\u001b[0m   pgle_profiler \u001b[38;5;241m=\u001b[39m _read_pgle_profiler(jaxpr)\n\u001b[1;32m   1728\u001b[0m   fastpath_data \u001b[38;5;241m=\u001b[39m _get_fastpath_data(\n\u001b[1;32m   1729\u001b[0m       compiled, tree_structure(out_flat), args, out_flat, [], jaxpr\u001b[38;5;241m.\u001b[39meffects,\n\u001b[1;32m   1730\u001b[0m       jaxpr\u001b[38;5;241m.\u001b[39mconsts, \u001b[38;5;28;01mNone\u001b[39;00m, pgle_profiler)\n",
      "File \u001b[0;32m~/mambaforge/envs/cfp/lib/python3.11/site-packages/jax/_src/pjit.py:1651\u001b[0m, in \u001b[0;36m_pjit_call_impl_python\u001b[0;34m(jaxpr, in_shardings, out_shardings, in_layouts, out_layouts, resource_env, donated_invars, name, keep_unused, inline, *args)\u001b[0m\n\u001b[1;32m   1638\u001b[0m     compile_options \u001b[38;5;241m=\u001b[39m {\u001b[38;5;124m'\u001b[39m\u001b[38;5;124mfdo_profile\u001b[39m\u001b[38;5;124m'\u001b[39m: fdo_profile}\n\u001b[1;32m   1640\u001b[0m \u001b[38;5;66;03m# TODO(patrios): Do not pass mutable profile session through cached lowering\u001b[39;00m\n\u001b[1;32m   1641\u001b[0m \u001b[38;5;66;03m# chain. Instead we need to move profilers dictionary to pxla module and use\u001b[39;00m\n\u001b[1;32m   1642\u001b[0m \u001b[38;5;66;03m# module as key. Right now we can't do that since there is no way to evict _pjit_lower_cached cache for in PGLE mode.\u001b[39;00m\n\u001b[1;32m   1643\u001b[0m compiled \u001b[38;5;241m=\u001b[39m _resolve_and_lower(\n\u001b[1;32m   1644\u001b[0m     args, jaxpr\u001b[38;5;241m=\u001b[39mjaxpr, in_shardings\u001b[38;5;241m=\u001b[39min_shardings,\n\u001b[1;32m   1645\u001b[0m     out_shardings\u001b[38;5;241m=\u001b[39mout_shardings, in_layouts\u001b[38;5;241m=\u001b[39min_layouts,\n\u001b[1;32m   1646\u001b[0m     out_layouts\u001b[38;5;241m=\u001b[39mout_layouts, resource_env\u001b[38;5;241m=\u001b[39mresource_env,\n\u001b[1;32m   1647\u001b[0m     donated_invars\u001b[38;5;241m=\u001b[39mdonated_invars, name\u001b[38;5;241m=\u001b[39mname, keep_unused\u001b[38;5;241m=\u001b[39mkeep_unused,\n\u001b[1;32m   1648\u001b[0m     inline\u001b[38;5;241m=\u001b[39minline, lowering_platforms\u001b[38;5;241m=\u001b[39m\u001b[38;5;28;01mNone\u001b[39;00m,\n\u001b[1;32m   1649\u001b[0m     lowering_parameters\u001b[38;5;241m=\u001b[39mmlir\u001b[38;5;241m.\u001b[39mLoweringParameters(),\n\u001b[1;32m   1650\u001b[0m     pgle_profiler\u001b[38;5;241m=\u001b[39mpgle_profiler\n\u001b[0;32m-> 1651\u001b[0m )\u001b[38;5;241m.\u001b[39mcompile(compile_options)\n\u001b[1;32m   1653\u001b[0m _most_recent_pjit_call_executable\u001b[38;5;241m.\u001b[39mweak_key_dict[jaxpr] \u001b[38;5;241m=\u001b[39m compiled\n\u001b[1;32m   1654\u001b[0m \u001b[38;5;66;03m# This check is expensive so only do it if enable_checks is on.\u001b[39;00m\n",
      "File \u001b[0;32m~/mambaforge/envs/cfp/lib/python3.11/site-packages/jax/_src/interpreters/pxla.py:2313\u001b[0m, in \u001b[0;36mMeshComputation.compile\u001b[0;34m(self, compiler_options)\u001b[0m\n\u001b[1;32m   2311\u001b[0m \u001b[38;5;28;01mdef\u001b[39;00m \u001b[38;5;21mcompile\u001b[39m(\u001b[38;5;28mself\u001b[39m, compiler_options\u001b[38;5;241m=\u001b[39m\u001b[38;5;28;01mNone\u001b[39;00m) \u001b[38;5;241m-\u001b[39m\u001b[38;5;241m>\u001b[39m MeshExecutable:\n\u001b[1;32m   2312\u001b[0m   \u001b[38;5;28;01mif\u001b[39;00m \u001b[38;5;28mself\u001b[39m\u001b[38;5;241m.\u001b[39m_executable \u001b[38;5;129;01mis\u001b[39;00m \u001b[38;5;28;01mNone\u001b[39;00m \u001b[38;5;129;01mor\u001b[39;00m compiler_options \u001b[38;5;129;01mis\u001b[39;00m \u001b[38;5;129;01mnot\u001b[39;00m \u001b[38;5;28;01mNone\u001b[39;00m:\n\u001b[0;32m-> 2313\u001b[0m     executable \u001b[38;5;241m=\u001b[39m UnloadedMeshExecutable\u001b[38;5;241m.\u001b[39mfrom_hlo(\n\u001b[1;32m   2314\u001b[0m         \u001b[38;5;28mself\u001b[39m\u001b[38;5;241m.\u001b[39m_name, \u001b[38;5;28mself\u001b[39m\u001b[38;5;241m.\u001b[39m_hlo, \u001b[38;5;241m*\u001b[39m\u001b[38;5;241m*\u001b[39m\u001b[38;5;28mself\u001b[39m\u001b[38;5;241m.\u001b[39mcompile_args,\n\u001b[1;32m   2315\u001b[0m         compiler_options\u001b[38;5;241m=\u001b[39mcompiler_options)\n\u001b[1;32m   2316\u001b[0m     \u001b[38;5;28;01mif\u001b[39;00m compiler_options \u001b[38;5;129;01mis\u001b[39;00m \u001b[38;5;28;01mNone\u001b[39;00m:\n\u001b[1;32m   2317\u001b[0m       \u001b[38;5;28mself\u001b[39m\u001b[38;5;241m.\u001b[39m_executable \u001b[38;5;241m=\u001b[39m executable\n",
      "File \u001b[0;32m~/mambaforge/envs/cfp/lib/python3.11/site-packages/jax/_src/interpreters/pxla.py:2827\u001b[0m, in \u001b[0;36mUnloadedMeshExecutable.from_hlo\u001b[0;34m(***failed resolving arguments***)\u001b[0m\n\u001b[1;32m   2824\u001b[0m       mesh \u001b[38;5;241m=\u001b[39m i\u001b[38;5;241m.\u001b[39mmesh  \u001b[38;5;66;03m# type: ignore\u001b[39;00m\n\u001b[1;32m   2825\u001b[0m       \u001b[38;5;28;01mbreak\u001b[39;00m\n\u001b[0;32m-> 2827\u001b[0m xla_executable \u001b[38;5;241m=\u001b[39m _cached_compilation(\n\u001b[1;32m   2828\u001b[0m     hlo, name, mesh, spmd_lowering,\n\u001b[1;32m   2829\u001b[0m     tuple_args, auto_spmd_lowering, allow_prop_to_inputs,\n\u001b[1;32m   2830\u001b[0m     allow_prop_to_outputs, \u001b[38;5;28mtuple\u001b[39m(host_callbacks), backend, da, pmap_nreps,\n\u001b[1;32m   2831\u001b[0m     compiler_options_keys, compiler_options_values, pgle_profiler)\n\u001b[1;32m   2833\u001b[0m \u001b[38;5;28;01mif\u001b[39;00m auto_spmd_lowering:\n\u001b[1;32m   2834\u001b[0m   \u001b[38;5;28;01massert\u001b[39;00m mesh \u001b[38;5;129;01mis\u001b[39;00m \u001b[38;5;129;01mnot\u001b[39;00m \u001b[38;5;28;01mNone\u001b[39;00m\n",
      "File \u001b[0;32m~/mambaforge/envs/cfp/lib/python3.11/site-packages/jax/_src/interpreters/pxla.py:2639\u001b[0m, in \u001b[0;36m_cached_compilation\u001b[0;34m(computation, name, mesh, spmd_lowering, tuple_args, auto_spmd_lowering, allow_prop_to_inputs, allow_prop_to_outputs, host_callbacks, backend, da, pmap_nreps, compiler_options_keys, compiler_options_values, pgle_profiler)\u001b[0m\n\u001b[1;32m   2631\u001b[0m compile_options \u001b[38;5;241m=\u001b[39m create_compile_options(\n\u001b[1;32m   2632\u001b[0m     computation, mesh, spmd_lowering, tuple_args, auto_spmd_lowering,\n\u001b[1;32m   2633\u001b[0m     allow_prop_to_inputs, allow_prop_to_outputs, backend,\n\u001b[1;32m   2634\u001b[0m     dev, pmap_nreps, compiler_options)\n\u001b[1;32m   2636\u001b[0m \u001b[38;5;28;01mwith\u001b[39;00m dispatch\u001b[38;5;241m.\u001b[39mlog_elapsed_time(\n\u001b[1;32m   2637\u001b[0m     \u001b[38;5;124m\"\u001b[39m\u001b[38;5;124mFinished XLA compilation of \u001b[39m\u001b[38;5;132;01m{fun_name}\u001b[39;00m\u001b[38;5;124m in \u001b[39m\u001b[38;5;132;01m{elapsed_time:.9f}\u001b[39;00m\u001b[38;5;124m sec\u001b[39m\u001b[38;5;124m\"\u001b[39m,\n\u001b[1;32m   2638\u001b[0m     fun_name\u001b[38;5;241m=\u001b[39mname, event\u001b[38;5;241m=\u001b[39mdispatch\u001b[38;5;241m.\u001b[39mBACKEND_COMPILE_EVENT):\n\u001b[0;32m-> 2639\u001b[0m   xla_executable \u001b[38;5;241m=\u001b[39m compiler\u001b[38;5;241m.\u001b[39mcompile_or_get_cached(\n\u001b[1;32m   2640\u001b[0m       backend, computation, dev, compile_options, host_callbacks,\n\u001b[1;32m   2641\u001b[0m       pgle_profiler)\n\u001b[1;32m   2642\u001b[0m \u001b[38;5;28;01mreturn\u001b[39;00m xla_executable\n",
      "File \u001b[0;32m~/mambaforge/envs/cfp/lib/python3.11/site-packages/jax/_src/compiler.py:426\u001b[0m, in \u001b[0;36mcompile_or_get_cached\u001b[0;34m(backend, computation, devices, compile_options, host_callbacks, pgle_profiler)\u001b[0m\n\u001b[1;32m    424\u001b[0m \u001b[38;5;28;01melse\u001b[39;00m:\n\u001b[1;32m    425\u001b[0m   log_persistent_cache_miss(module_name, cache_key)\n\u001b[0;32m--> 426\u001b[0m   \u001b[38;5;28;01mreturn\u001b[39;00m _compile_and_write_cache(\n\u001b[1;32m    427\u001b[0m       backend,\n\u001b[1;32m    428\u001b[0m       computation,\n\u001b[1;32m    429\u001b[0m       compile_options,\n\u001b[1;32m    430\u001b[0m       host_callbacks,\n\u001b[1;32m    431\u001b[0m       module_name,\n\u001b[1;32m    432\u001b[0m       cache_key,\n\u001b[1;32m    433\u001b[0m   )\n",
      "File \u001b[0;32m~/mambaforge/envs/cfp/lib/python3.11/site-packages/jax/_src/compiler.py:654\u001b[0m, in \u001b[0;36m_compile_and_write_cache\u001b[0;34m(backend, computation, compile_options, host_callbacks, module_name, cache_key)\u001b[0m\n\u001b[1;32m    645\u001b[0m \u001b[38;5;28;01mdef\u001b[39;00m \u001b[38;5;21m_compile_and_write_cache\u001b[39m(\n\u001b[1;32m    646\u001b[0m     backend: xc\u001b[38;5;241m.\u001b[39mClient,\n\u001b[1;32m    647\u001b[0m     computation: ir\u001b[38;5;241m.\u001b[39mModule,\n\u001b[0;32m   (...)\u001b[0m\n\u001b[1;32m    651\u001b[0m     cache_key: \u001b[38;5;28mstr\u001b[39m,\n\u001b[1;32m    652\u001b[0m ) \u001b[38;5;241m-\u001b[39m\u001b[38;5;241m>\u001b[39m xc\u001b[38;5;241m.\u001b[39mLoadedExecutable:\n\u001b[1;32m    653\u001b[0m   start_time \u001b[38;5;241m=\u001b[39m time\u001b[38;5;241m.\u001b[39mmonotonic()\n\u001b[0;32m--> 654\u001b[0m   executable \u001b[38;5;241m=\u001b[39m backend_compile(\n\u001b[1;32m    655\u001b[0m       backend, computation, compile_options, host_callbacks\n\u001b[1;32m    656\u001b[0m   )\n\u001b[1;32m    657\u001b[0m   compile_time \u001b[38;5;241m=\u001b[39m time\u001b[38;5;241m.\u001b[39mmonotonic() \u001b[38;5;241m-\u001b[39m start_time\n\u001b[1;32m    658\u001b[0m   _cache_write(\n\u001b[1;32m    659\u001b[0m       cache_key, compile_time, module_name, backend, executable, host_callbacks\n\u001b[1;32m    660\u001b[0m   )\n",
      "File \u001b[0;32m~/mambaforge/envs/cfp/lib/python3.11/site-packages/jax/_src/profiler.py:333\u001b[0m, in \u001b[0;36mannotate_function.<locals>.wrapper\u001b[0;34m(*args, **kwargs)\u001b[0m\n\u001b[1;32m    330\u001b[0m \u001b[38;5;129m@wraps\u001b[39m(func)\n\u001b[1;32m    331\u001b[0m \u001b[38;5;28;01mdef\u001b[39;00m \u001b[38;5;21mwrapper\u001b[39m(\u001b[38;5;241m*\u001b[39margs, \u001b[38;5;241m*\u001b[39m\u001b[38;5;241m*\u001b[39mkwargs):\n\u001b[1;32m    332\u001b[0m   \u001b[38;5;28;01mwith\u001b[39;00m TraceAnnotation(name, \u001b[38;5;241m*\u001b[39m\u001b[38;5;241m*\u001b[39mdecorator_kwargs):\n\u001b[0;32m--> 333\u001b[0m     \u001b[38;5;28;01mreturn\u001b[39;00m func(\u001b[38;5;241m*\u001b[39margs, \u001b[38;5;241m*\u001b[39m\u001b[38;5;241m*\u001b[39mkwargs)\n\u001b[1;32m    334\u001b[0m   \u001b[38;5;28;01mreturn\u001b[39;00m wrapper\n",
      "File \u001b[0;32m~/mambaforge/envs/cfp/lib/python3.11/site-packages/jax/_src/compiler.py:260\u001b[0m, in \u001b[0;36mbackend_compile\u001b[0;34m(backend, module, options, host_callbacks)\u001b[0m\n\u001b[1;32m    256\u001b[0m \u001b[38;5;28;01mtry\u001b[39;00m:\n\u001b[1;32m    257\u001b[0m   \u001b[38;5;66;03m# we use a separate function call to ensure that XLA compilation appears\u001b[39;00m\n\u001b[1;32m    258\u001b[0m   \u001b[38;5;66;03m# separately in Python profiling results\u001b[39;00m\n\u001b[1;32m    259\u001b[0m   \u001b[38;5;28;01mif\u001b[39;00m host_callbacks:\n\u001b[0;32m--> 260\u001b[0m     \u001b[38;5;28;01mreturn\u001b[39;00m backend\u001b[38;5;241m.\u001b[39mcompile(\n\u001b[1;32m    261\u001b[0m         built_c, compile_options\u001b[38;5;241m=\u001b[39moptions, host_callbacks\u001b[38;5;241m=\u001b[39mhost_callbacks\n\u001b[1;32m    262\u001b[0m     )\n\u001b[1;32m    263\u001b[0m   \u001b[38;5;66;03m# Some backends don't have `host_callbacks` option yet\u001b[39;00m\n\u001b[1;32m    264\u001b[0m   \u001b[38;5;66;03m# TODO(sharadmv): remove this fallback when all backends allow `compile`\u001b[39;00m\n\u001b[1;32m    265\u001b[0m   \u001b[38;5;66;03m# to take in `host_callbacks`\u001b[39;00m\n\u001b[1;32m    266\u001b[0m   \u001b[38;5;28;01mreturn\u001b[39;00m backend\u001b[38;5;241m.\u001b[39mcompile(built_c, compile_options\u001b[38;5;241m=\u001b[39moptions)\n",
      "\u001b[0;31mKeyboardInterrupt\u001b[0m: "
     ]
    }
   ],
   "source": [
    "preds_test = cf.predict(adata=adata_test_ctrl, sample_rep=\"X_scVI\", condition_id_key=\"condition\", covariate_data=covariate_data_test)"
   ]
  },
  {
   "cell_type": "code",
   "execution_count": 29,
   "id": "a124a6ad-1263-44ea-a791-c27c5745bd27",
   "metadata": {},
   "outputs": [
    {
     "name": "stderr",
     "output_type": "stream",
     "text": [
      "/home/icb/dominik.klein/mambaforge/envs/cfp/lib/python3.11/site-packages/anndata/_core/aligned_df.py:67: ImplicitModificationWarning: Transforming to str index.\n",
      "  warnings.warn(\"Transforming to str index.\", ImplicitModificationWarning)\n"
     ]
    }
   ],
   "source": [
    "import pandas as pd\n",
    "all_data = []\n",
    "conditions = []\n",
    "\n",
    "for condition, array in preds_ood.items():\n",
    "    all_data.append(array)\n",
    "    conditions.extend([condition] * array.shape[0])\n",
    "\n",
    "# Stack all data vertically to create a single array\n",
    "all_data_array = np.vstack(all_data)\n",
    "\n",
    "# Create a DataFrame for the .obs attribute\n",
    "obs_data = pd.DataFrame({\n",
    "    'condition': conditions\n",
    "})\n",
    "\n",
    "# Create the Anndata object\n",
    "adata_ood_result = ad.AnnData(X=np.empty((len(all_data_array),2001)), obs=obs_data)\n",
    "adata_ood_result.obsm[\"X_scVI_pred\"] = all_data_array"
   ]
  },
  {
   "cell_type": "code",
   "execution_count": 30,
   "id": "29aa36f3-3310-432d-b085-363b9462abd2",
   "metadata": {},
   "outputs": [
    {
     "name": "stdout",
     "output_type": "stream",
     "text": [
      "\u001b[34mINFO    \u001b[0m Input AnnData not setup with scvi-tools. attempting to transfer AnnData setup                             \n"
     ]
    }
   ],
   "source": [
    "adata_ood_result.layers[\"pred_reconstruction\"] = vae.get_reconstructed_expression(adata_ood_result, use_rep=\"X_scVI_pred\")"
   ]
  },
  {
   "cell_type": "code",
   "execution_count": 31,
   "id": "487eefe4-a9b5-48db-9e13-3f3bfcf5e104",
   "metadata": {},
   "outputs": [],
   "source": [
    "adata_ood_result.write(f\"/lustre/groups/ml01/workspace/ot_perturbation/models/otfm/sciplex/adata_ood_with_predictions_{split}.h5ad\")\n"
   ]
  },
  {
   "cell_type": "code",
   "execution_count": 25,
   "id": "618aa3e5-9347-4d22-8f5e-d8e7522be956",
   "metadata": {},
   "outputs": [
    {
     "data": {
      "text/plain": [
       "dict_keys(['A549_Alvespimycin_(17-DMAG)_HCl_10.0', 'A549_Alvespimycin_(17-DMAG)_HCl_100.0', 'A549_Belinostat_(PXD101)_10.0', 'A549_Belinostat_(PXD101)_100.0', 'A549_Belinostat_(PXD101)_1000.0', 'A549_Dacinostat_(LAQ824)_10.0', 'A549_Dacinostat_(LAQ824)_100.0', 'A549_Dacinostat_(LAQ824)_1000.0', 'A549_Flavopiridol_HCl_10.0', 'A549_Flavopiridol_HCl_100.0', 'A549_Flavopiridol_HCl_1000.0', 'A549_Flavopiridol_HCl_10000.0', 'A549_Givinostat_(ITF2357)_10.0', 'A549_Givinostat_(ITF2357)_100.0', 'A549_Givinostat_(ITF2357)_1000.0', 'A549_Givinostat_(ITF2357)_10000.0', 'A549_Hesperadin_10.0', 'A549_Hesperadin_100.0', 'A549_Hesperadin_1000.0', 'A549_Quisinostat_(JNJ-26481585)_2HCl_10.0', 'A549_Quisinostat_(JNJ-26481585)_2HCl_100.0', 'A549_TAK-901_10.0', 'A549_TAK-901_100.0', 'A549_TAK-901_1000.0', 'A549_Tanespimycin_(17-AAG)_10.0', 'A549_Tanespimycin_(17-AAG)_100.0', 'A549_Tanespimycin_(17-AAG)_1000.0', 'K562_Alvespimycin_(17-DMAG)_HCl_10.0', 'K562_Alvespimycin_(17-DMAG)_HCl_100.0', 'K562_Alvespimycin_(17-DMAG)_HCl_1000.0', 'K562_Belinostat_(PXD101)_10.0', 'K562_Belinostat_(PXD101)_100.0', 'K562_Belinostat_(PXD101)_1000.0', 'K562_Dacinostat_(LAQ824)_10.0', 'K562_Dacinostat_(LAQ824)_100.0', 'K562_Flavopiridol_HCl_10.0', 'K562_Flavopiridol_HCl_100.0', 'K562_Givinostat_(ITF2357)_10.0', 'K562_Givinostat_(ITF2357)_100.0', 'K562_Givinostat_(ITF2357)_1000.0', 'K562_Hesperadin_10.0', 'K562_Hesperadin_100.0', 'K562_Hesperadin_1000.0', 'K562_Hesperadin_10000.0', 'K562_Quisinostat_(JNJ-26481585)_2HCl_10.0', 'K562_TAK-901_10.0', 'K562_TAK-901_100.0', 'K562_TAK-901_1000.0', 'K562_Tanespimycin_(17-AAG)_10.0', 'K562_Tanespimycin_(17-AAG)_100.0', 'K562_Tanespimycin_(17-AAG)_1000.0', 'MCF7_Alvespimycin_(17-DMAG)_HCl_10.0', 'MCF7_Alvespimycin_(17-DMAG)_HCl_100.0', 'MCF7_Alvespimycin_(17-DMAG)_HCl_1000.0', 'MCF7_Belinostat_(PXD101)_10.0', 'MCF7_Belinostat_(PXD101)_100.0', 'MCF7_Belinostat_(PXD101)_1000.0', 'MCF7_Belinostat_(PXD101)_10000.0', 'MCF7_Dacinostat_(LAQ824)_10.0', 'MCF7_Dacinostat_(LAQ824)_100.0', 'MCF7_Dacinostat_(LAQ824)_1000.0', 'MCF7_Dacinostat_(LAQ824)_10000.0', 'MCF7_Flavopiridol_HCl_10.0', 'MCF7_Flavopiridol_HCl_100.0', 'MCF7_Givinostat_(ITF2357)_10.0', 'MCF7_Givinostat_(ITF2357)_100.0', 'MCF7_Givinostat_(ITF2357)_1000.0', 'MCF7_Givinostat_(ITF2357)_10000.0', 'MCF7_Hesperadin_10.0', 'MCF7_Hesperadin_100.0', 'MCF7_Hesperadin_1000.0', 'MCF7_Hesperadin_10000.0', 'MCF7_Quisinostat_(JNJ-26481585)_2HCl_10.0', 'MCF7_Quisinostat_(JNJ-26481585)_2HCl_100.0', 'MCF7_Quisinostat_(JNJ-26481585)_2HCl_1000.0', 'MCF7_Quisinostat_(JNJ-26481585)_2HCl_10000.0', 'MCF7_TAK-901_10.0', 'MCF7_TAK-901_100.0', 'MCF7_TAK-901_1000.0', 'MCF7_Tanespimycin_(17-AAG)_10.0', 'MCF7_Tanespimycin_(17-AAG)_100.0', 'MCF7_Tanespimycin_(17-AAG)_1000.0', 'MCF7_Tanespimycin_(17-AAG)_10000.0'])"
      ]
     },
     "execution_count": 25,
     "metadata": {},
     "output_type": "execute_result"
    }
   ],
   "source": [
    "preds_ood.keys()"
   ]
  },
  {
   "cell_type": "code",
   "execution_count": 33,
   "id": "4151a86a-bf44-4807-8a57-7ad431717f27",
   "metadata": {},
   "outputs": [
    {
     "data": {
      "text/plain": [
       "AxisArrays with keys: X_pca, ecfp, X_scVI"
      ]
     },
     "execution_count": 33,
     "metadata": {},
     "output_type": "execute_result"
    }
   ],
   "source": [
    "adata_ood.obsm"
   ]
  },
  {
   "cell_type": "code",
   "execution_count": 36,
   "id": "6aac7aa2-f076-48ff-a6c5-f0e91e5a92a2",
   "metadata": {},
   "outputs": [],
   "source": [
    "adata_ood.layers[\"X_scvi_recon\"] = vae.get_reconstructed_expression(adata_ood, use_rep=\"X_scVI\")"
   ]
  },
  {
   "cell_type": "code",
   "execution_count": 38,
   "id": "c2579b0e-fb49-4ee6-8527-eaadba4a26e7",
   "metadata": {},
   "outputs": [
    {
     "data": {
      "text/plain": [
       "0.9942914843559265"
      ]
     },
     "execution_count": 38,
     "metadata": {},
     "output_type": "execute_result"
    }
   ],
   "source": [
    "from sklearn.metrics import r2_score\n",
    "r2_score(np.array(np.mean(adata_ood.X, axis=0))[0,:], np.mean(adata_ood.layers[\"X_scvi_recon\"], axis=0))"
   ]
  },
  {
   "cell_type": "code",
   "execution_count": 39,
   "id": "bf9dd839-6297-4ec8-a14b-86a218f2480a",
   "metadata": {},
   "outputs": [
    {
     "data": {
      "text/plain": [
       "AnnData object with n_obs × n_vars = 20173 × 2001\n",
       "    obs: 'cell_type', 'dose', 'dose_character', 'dose_pattern', 'g1s_score', 'g2m_score', 'pathway', 'pathway_level_1', 'pathway_level_2', 'product_dose', 'product_name', 'proliferation_index', 'replicate', 'size_factor', 'target', 'vehicle', 'perturbation', 'drug', 'cell_line', 'logdose', 'condition', 'n_genes', 'pubchem_name', 'pubchem_ID', 'smiles', 'control', 'ood_1', 'ood_2', 'ood_3', 'ood_4', 'ood_5', 'split', '_scvi_batch'\n",
       "    uns: 'cell_line_dict', 'ecfp_dict', '_scvi_uuid', '_scvi_manager_uuid'\n",
       "    obsm: 'X_pca', 'ecfp', 'X_scVI'\n",
       "    layers: 'X_scvi_recon'"
      ]
     },
     "execution_count": 39,
     "metadata": {},
     "output_type": "execute_result"
    }
   ],
   "source": [
    "adata_ood"
   ]
  },
  {
   "cell_type": "code",
   "execution_count": 53,
   "id": "42bad092-6b7b-4eaa-a4b5-bcbad00218d3",
   "metadata": {},
   "outputs": [
    {
     "name": "stdout",
     "output_type": "stream",
     "text": [
      "0.984657883644104 0.981431245803833 0.9981325268745422\n",
      "0.9278574585914612 0.9028077125549316 0.9877969026565552\n",
      "0.9846107363700867 0.9814658761024475 0.9989372491836548\n",
      "0.9712024331092834 0.9645401835441589 0.9977645874023438\n",
      "0.9044577479362488 0.858910858631134 0.9798272252082825\n",
      "0.919241189956665 0.8727970123291016 0.9793018102645874\n",
      "0.9285982847213745 0.676747739315033 0.80793297290802\n",
      "0.9767060875892639 0.2097795605659485 0.24115145206451416\n",
      "0.9784423112869263 0.9707511067390442 0.9954734444618225\n",
      "0.8981156945228577 0.7757612466812134 0.9293370842933655\n",
      "0.9841639399528503 0.9660423994064331 0.9924464225769043\n",
      "0.9862672090530396 0.9713453054428101 0.9919509887695312\n",
      "0.9786919951438904 0.9772029519081116 0.9996663928031921\n",
      "0.9683473706245422 0.9675544500350952 0.9995837807655334\n",
      "0.9241098761558533 0.8748791217803955 0.9806903004646301\n",
      "0.9635095596313477 0.22204184532165527 0.26591211557388306\n",
      "0.9832130074501038 0.9614953994750977 0.9860519170761108\n",
      "0.9818530678749084 0.9617651104927063 0.9882282018661499\n",
      "0.950739860534668 0.9453464150428772 0.997909665107727\n",
      "0.9686973094940186 0.421791672706604 0.46207743883132935\n",
      "0.9712022542953491 0.2786528468132019 0.3088225722312927\n",
      "0.9926474094390869 0.9892167448997498 0.9982396364212036\n",
      "0.9832168817520142 0.9602159857749939 0.9858259558677673\n",
      "0.9679133296012878 0.959608256816864 0.9951614737510681\n",
      "0.9909595847129822 0.989350438117981 0.999299943447113\n",
      "0.9715371131896973 0.9623209238052368 0.9961678981781006\n",
      "0.9313263297080994 0.912331759929657 0.9913800954818726\n",
      "0.9852132797241211 0.9645408391952515 0.9832095503807068\n",
      "0.9001034498214722 0.8223251700401306 0.9601300954818726\n",
      "0.876737117767334 0.7450711727142334 0.9334450364112854\n",
      "0.986911416053772 0.9843476414680481 0.9968077540397644\n",
      "0.9768725037574768 0.9528743624687195 0.9851380586624146\n",
      "0.9162696599960327 0.8754191398620605 0.983795702457428\n",
      "0.8764281868934631 0.7571998238563538 0.9130573868751526\n",
      "0.8263918161392212 0.5828895568847656 0.7873884439468384\n",
      "0.9693722128868103 0.9603791236877441 0.9940743446350098\n",
      "0.9224357604980469 0.8705856800079346 0.9688553214073181\n",
      "0.9747336506843567 0.9730560183525085 0.9984525442123413\n",
      "0.9653766751289368 0.9596258997917175 0.9977439641952515\n",
      "0.9192492961883545 0.8845648765563965 0.9834660291671753\n",
      "0.9868106842041016 0.9742908477783203 0.9920412302017212\n",
      "0.9799420237541199 0.9602115750312805 0.9871323704719543\n",
      "0.9679040908813477 0.956387460231781 0.9951182007789612\n",
      "0.8588947653770447 0.7350181341171265 0.9467244744300842\n",
      "0.7665688991546631 0.4377988576889038 0.6985757350921631\n",
      "0.9868665933609009 0.9823614358901978 0.9954200983047485\n",
      "0.9752489924430847 0.9641057848930359 0.9961873888969421\n",
      "0.9384623765945435 0.8632329702377319 0.960567057132721\n",
      "0.9895039796829224 0.9858001470565796 0.996332585811615\n",
      "0.9732708930969238 0.9545727372169495 0.9863550066947937\n",
      "0.9118221402168274 0.8304249048233032 0.9608426690101624\n",
      "0.9906879663467407 0.9879361391067505 0.9992064833641052\n",
      "0.9241837859153748 0.8901258707046509 0.9866428375244141\n",
      "0.918541669845581 0.8929510116577148 0.9916084408760071\n",
      "0.9911459684371948 0.9843905568122864 0.9961280822753906\n",
      "0.971421480178833 0.9489699602127075 0.9877915978431702\n",
      "0.9161717891693115 0.8843820691108704 0.9850429892539978\n",
      "0.9884136915206909 0.512675940990448 0.5506231188774109\n",
      "0.9088115096092224 0.8556579947471619 0.9680867195129395\n",
      "0.9303117990493774 0.7974430918693542 0.9116009473800659\n",
      "0.9945647120475769 0.5658249855041504 0.5865219831466675\n",
      "0.9941121339797974 0.4388269782066345 0.4628911018371582\n",
      "0.9785410165786743 0.9774245023727417 0.9994497299194336\n",
      "0.8824902772903442 0.801029622554779 0.961601734161377\n",
      "0.9826523065567017 0.9757319688796997 0.9961466193199158\n",
      "0.9736539721488953 0.9642626047134399 0.9954310655593872\n",
      "0.9276056289672852 0.9003923535346985 0.988483190536499\n",
      "0.9934239387512207 0.46901875734329224 0.4840623736381531\n",
      "0.9891716241836548 0.9669321179389954 0.9864700436592102\n",
      "0.980708122253418 0.9493246078491211 0.9824029803276062\n",
      "0.9761874675750732 0.9403159022331238 0.9815247058868408\n",
      "0.8976078033447266 0.8504061102867126 0.9749416708946228\n",
      "0.9682545065879822 0.594284176826477 0.6369085311889648\n",
      "0.9886242747306824 0.45704275369644165 0.4694044589996338\n",
      "0.992719829082489 0.3443511724472046 0.38027840852737427\n",
      "0.9911321997642517 0.3414574861526489 0.39794671535491943\n",
      "0.9914384484291077 0.9814705848693848 0.9941599369049072\n",
      "0.988987147808075 0.9782945513725281 0.9942708015441895\n",
      "0.9693124294281006 0.9590585827827454 0.9957776665687561\n",
      "0.9916661977767944 0.9887781143188477 0.9989500641822815\n",
      "0.9404492974281311 0.9163158535957336 0.9893903732299805\n",
      "0.9254769682884216 0.893406093120575 0.9886927604675293\n",
      "0.9214141964912415 0.896817147731781 0.9914738535881042\n"
     ]
    }
   ],
   "source": [
    "for cond in adata_ood.obs[\"condition\"].cat.categories:\n",
    "    if \"Vehicle\" in cond:\n",
    "        continue\n",
    "    r2_true_recon = r2_score(np.array(np.mean(adata_ood[adata_ood.obs[\"condition\"]==cond].X, axis=0))[0,:], np.mean(adata_ood[adata_ood.obs[\"condition\"]==cond].layers[\"X_scvi_recon\"], axis=0))\n",
    "    r2_true_pred = r2_score(np.array(np.mean(adata_ood[adata_ood.obs[\"condition\"]==cond].X, axis=0))[0,:], np.mean(adata_ood_result[adata_ood_result.obs[\"condition\"]==cond].layers[\"pred_reconstruction\"], axis=0))\n",
    "    r2_recon_pred = r2_score(np.array(np.mean(adata_ood[adata_ood.obs[\"condition\"]==cond].layers[\"X_scvi_recon\"], axis=0)), np.mean(adata_ood_result[adata_ood_result.obs[\"condition\"]==cond].layers[\"pred_reconstruction\"], axis=0))\n",
    "    \n",
    "    print(r2_true_recon, r2_true_pred, r2_recon_pred)\n",
    "    "
   ]
  },
  {
   "cell_type": "code",
   "execution_count": 45,
   "id": "21af5b60-c178-42d0-bbdf-c6626967a636",
   "metadata": {},
   "outputs": [
    {
     "data": {
      "text/plain": [
       "0.9554968774318695"
      ]
     },
     "execution_count": 45,
     "metadata": {},
     "output_type": "execute_result"
    }
   ],
   "source": [
    "# true, reconc\n",
    "np.mean([r2_score(np.array(np.mean(adata_ood[adata_ood.obs[\"condition\"]==cond].X, axis=0))[0,:], np.mean(adata_ood[adata_ood.obs[\"condition\"]==cond].layers[\"X_scvi_recon\"], axis=0)) for cond in adata_ood.obs[\"condition\"].cat.categories])\n",
    "    "
   ]
  },
  {
   "cell_type": "code",
   "execution_count": 50,
   "id": "d2ea8e35-ad2a-4f35-beb5-785b9a5a9401",
   "metadata": {},
   "outputs": [
    {
     "data": {
      "text/plain": [
       "0.8361269637762782"
      ]
     },
     "execution_count": 50,
     "metadata": {},
     "output_type": "execute_result"
    }
   ],
   "source": [
    "# true, pred\n",
    "np.mean([r2_score(np.array(np.mean(adata_ood[adata_ood.obs[\"condition\"]==cond].X, axis=0))[0,:], np.mean(adata_ood_result[adata_ood_result.obs[\"condition\"]==cond].layers[\"pred_reconstruction\"], axis=0)) for cond in adata_ood_result.obs[\"condition\"].cat.categories])"
   ]
  },
  {
   "cell_type": "code",
   "execution_count": 55,
   "id": "0d8a47d3-0ac1-422c-904e-1642c5d3b4be",
   "metadata": {},
   "outputs": [
    {
     "data": {
      "text/plain": [
       "0.8972270251756691"
      ]
     },
     "execution_count": 55,
     "metadata": {},
     "output_type": "execute_result"
    }
   ],
   "source": [
    "# recon, pred\n",
    "np.mean([r2_score(np.array(np.mean(adata_ood[adata_ood.obs[\"condition\"]==cond].layers[\"X_scvi_recon\"], axis=0)), np.mean(adata_ood_result[adata_ood_result.obs[\"condition\"]==cond].layers[\"pred_reconstruction\"], axis=0)) for cond in adata_ood_result.obs[\"condition\"].cat.categories])"
   ]
  },
  {
   "cell_type": "code",
   "execution_count": null,
   "id": "b818049d-3426-4d64-905b-7fb9f73f92b6",
   "metadata": {},
   "outputs": [],
   "source": []
  },
  {
   "cell_type": "code",
   "execution_count": null,
   "id": "97491429-80be-4074-8d6c-15547e6615b2",
   "metadata": {},
   "outputs": [],
   "source": []
  },
  {
   "cell_type": "code",
   "execution_count": null,
   "id": "647e1039-b22a-4691-b206-396ea0b99a28",
   "metadata": {},
   "outputs": [],
   "source": []
  },
  {
   "cell_type": "code",
   "execution_count": 40,
   "id": "a1c7680d-ac89-49a9-8f8f-8738c80e0046",
   "metadata": {},
   "outputs": [
    {
     "data": {
      "text/html": [
       "<div>\n",
       "<style scoped>\n",
       "    .dataframe tbody tr th:only-of-type {\n",
       "        vertical-align: middle;\n",
       "    }\n",
       "\n",
       "    .dataframe tbody tr th {\n",
       "        vertical-align: top;\n",
       "    }\n",
       "\n",
       "    .dataframe thead th {\n",
       "        text-align: right;\n",
       "    }\n",
       "</style>\n",
       "<table border=\"1\" class=\"dataframe\">\n",
       "  <thead>\n",
       "    <tr style=\"text-align: right;\">\n",
       "      <th></th>\n",
       "      <th>cell_type</th>\n",
       "      <th>dose</th>\n",
       "      <th>dose_character</th>\n",
       "      <th>dose_pattern</th>\n",
       "      <th>g1s_score</th>\n",
       "      <th>g2m_score</th>\n",
       "      <th>pathway</th>\n",
       "      <th>pathway_level_1</th>\n",
       "      <th>pathway_level_2</th>\n",
       "      <th>product_dose</th>\n",
       "      <th>...</th>\n",
       "      <th>pubchem_ID</th>\n",
       "      <th>smiles</th>\n",
       "      <th>control</th>\n",
       "      <th>ood_1</th>\n",
       "      <th>ood_2</th>\n",
       "      <th>ood_3</th>\n",
       "      <th>ood_4</th>\n",
       "      <th>ood_5</th>\n",
       "      <th>split</th>\n",
       "      <th>_scvi_batch</th>\n",
       "    </tr>\n",
       "    <tr>\n",
       "      <th>index</th>\n",
       "      <th></th>\n",
       "      <th></th>\n",
       "      <th></th>\n",
       "      <th></th>\n",
       "      <th></th>\n",
       "      <th></th>\n",
       "      <th></th>\n",
       "      <th></th>\n",
       "      <th></th>\n",
       "      <th></th>\n",
       "      <th></th>\n",
       "      <th></th>\n",
       "      <th></th>\n",
       "      <th></th>\n",
       "      <th></th>\n",
       "      <th></th>\n",
       "      <th></th>\n",
       "      <th></th>\n",
       "      <th></th>\n",
       "      <th></th>\n",
       "      <th></th>\n",
       "    </tr>\n",
       "  </thead>\n",
       "  <tbody>\n",
       "    <tr>\n",
       "      <th>A01_E09_RT_BC_108_Lig_BC_256-0-0</th>\n",
       "      <td>A549</td>\n",
       "      <td>10.0</td>\n",
       "      <td>10</td>\n",
       "      <td>4</td>\n",
       "      <td>0.730612</td>\n",
       "      <td>1.148259</td>\n",
       "      <td>Epigenetics</td>\n",
       "      <td>Epigenetic regulation</td>\n",
       "      <td>Histone deacetylation</td>\n",
       "      <td>Quisinostat (JNJ-26481585) 2HCl_10</td>\n",
       "      <td>...</td>\n",
       "      <td>122129987</td>\n",
       "      <td>CN1C=C(C2=CC=CC=C21)CNCC3CCN(CC3)C4=NC=C(C=N4)...</td>\n",
       "      <td>False</td>\n",
       "      <td>not ood</td>\n",
       "      <td>not ood</td>\n",
       "      <td>not ood</td>\n",
       "      <td>A549_Quisinostat_(JNJ-26481585)_2HCl_10.0</td>\n",
       "      <td>A549_Quisinostat_(JNJ-26481585)_2HCl_10.0</td>\n",
       "      <td>ood</td>\n",
       "      <td>0</td>\n",
       "    </tr>\n",
       "    <tr>\n",
       "      <th>A01_E09_RT_BC_116_Lig_BC_193-0-0</th>\n",
       "      <td>A549</td>\n",
       "      <td>10.0</td>\n",
       "      <td>10</td>\n",
       "      <td>4</td>\n",
       "      <td>1.494859</td>\n",
       "      <td>0.000000</td>\n",
       "      <td>Cytoskeletal Signaling</td>\n",
       "      <td>Protein folding &amp; Protein degradation</td>\n",
       "      <td>HSP90 activity</td>\n",
       "      <td>Alvespimycin (17-DMAG) HCl_10</td>\n",
       "      <td>...</td>\n",
       "      <td>9852573</td>\n",
       "      <td>CC1CC(C(C(C=C(C(C(C=CC=C(C(=O)NC2=CC(=O)C(=C(C...</td>\n",
       "      <td>False</td>\n",
       "      <td>not ood</td>\n",
       "      <td>not ood</td>\n",
       "      <td>not ood</td>\n",
       "      <td>A549_Alvespimycin_(17-DMAG)_HCl_10.0</td>\n",
       "      <td>A549_Alvespimycin_(17-DMAG)_HCl_10.0</td>\n",
       "      <td>ood</td>\n",
       "      <td>0</td>\n",
       "    </tr>\n",
       "    <tr>\n",
       "      <th>A01_E09_RT_BC_129_Lig_BC_15-0-0</th>\n",
       "      <td>A549</td>\n",
       "      <td>10000.0</td>\n",
       "      <td>10000</td>\n",
       "      <td>1</td>\n",
       "      <td>1.767667</td>\n",
       "      <td>1.535335</td>\n",
       "      <td>Cell Cycle</td>\n",
       "      <td>Cell cycle regulation</td>\n",
       "      <td>Cell cycle regulation</td>\n",
       "      <td>Flavopiridol HCl_10000</td>\n",
       "      <td>...</td>\n",
       "      <td>9910986</td>\n",
       "      <td>CN1CCC(C(C1)O)C2=C(C=C(C3=C2OC(=CC3=O)C4=CC=CC...</td>\n",
       "      <td>False</td>\n",
       "      <td>A549_Flavopiridol_HCl_10000.0</td>\n",
       "      <td>not ood</td>\n",
       "      <td>not ood</td>\n",
       "      <td>not ood</td>\n",
       "      <td>A549_Flavopiridol_HCl_10000.0</td>\n",
       "      <td>ood</td>\n",
       "      <td>0</td>\n",
       "    </tr>\n",
       "    <tr>\n",
       "      <th>A01_E09_RT_BC_136_Lig_BC_372-0-0</th>\n",
       "      <td>A549</td>\n",
       "      <td>1000.0</td>\n",
       "      <td>1000</td>\n",
       "      <td>2</td>\n",
       "      <td>1.063902</td>\n",
       "      <td>1.063902</td>\n",
       "      <td>Epigenetics</td>\n",
       "      <td>Epigenetic regulation</td>\n",
       "      <td>Histone deacetylation</td>\n",
       "      <td>Belinostat (PXD101)_1000</td>\n",
       "      <td>...</td>\n",
       "      <td>6918638</td>\n",
       "      <td>C1=CC=C(C=C1)NS(=O)(=O)C2=CC=CC(=C2)C=CC(=O)NO</td>\n",
       "      <td>False</td>\n",
       "      <td>not ood</td>\n",
       "      <td>A549_Belinostat_(PXD101)_1000.0</td>\n",
       "      <td>not ood</td>\n",
       "      <td>not ood</td>\n",
       "      <td>A549_Belinostat_(PXD101)_1000.0</td>\n",
       "      <td>ood</td>\n",
       "      <td>0</td>\n",
       "    </tr>\n",
       "    <tr>\n",
       "      <th>A01_E09_RT_BC_136_Lig_BC_6-0-0</th>\n",
       "      <td>A549</td>\n",
       "      <td>1000.0</td>\n",
       "      <td>1000</td>\n",
       "      <td>2</td>\n",
       "      <td>0.402133</td>\n",
       "      <td>0.688145</td>\n",
       "      <td>Cell Cycle</td>\n",
       "      <td>Cell cycle regulation</td>\n",
       "      <td>Aurora kinase activity</td>\n",
       "      <td>Hesperadin_1000</td>\n",
       "      <td>...</td>\n",
       "      <td>135421442</td>\n",
       "      <td>CCS(=O)(=O)NC1=CC2=C(C=C1)NC(=C2C(=NC3=CC=C(C=...</td>\n",
       "      <td>False</td>\n",
       "      <td>not ood</td>\n",
       "      <td>A549_Hesperadin_1000.0</td>\n",
       "      <td>not ood</td>\n",
       "      <td>not ood</td>\n",
       "      <td>A549_Hesperadin_1000.0</td>\n",
       "      <td>ood</td>\n",
       "      <td>0</td>\n",
       "    </tr>\n",
       "    <tr>\n",
       "      <th>...</th>\n",
       "      <td>...</td>\n",
       "      <td>...</td>\n",
       "      <td>...</td>\n",
       "      <td>...</td>\n",
       "      <td>...</td>\n",
       "      <td>...</td>\n",
       "      <td>...</td>\n",
       "      <td>...</td>\n",
       "      <td>...</td>\n",
       "      <td>...</td>\n",
       "      <td>...</td>\n",
       "      <td>...</td>\n",
       "      <td>...</td>\n",
       "      <td>...</td>\n",
       "      <td>...</td>\n",
       "      <td>...</td>\n",
       "      <td>...</td>\n",
       "      <td>...</td>\n",
       "      <td>...</td>\n",
       "      <td>...</td>\n",
       "      <td>...</td>\n",
       "    </tr>\n",
       "    <tr>\n",
       "      <th>H12_E09_RT_BC_353_Lig_BC_331-1</th>\n",
       "      <td>K562</td>\n",
       "      <td>0.0</td>\n",
       "      <td>0</td>\n",
       "      <td>1</td>\n",
       "      <td>1.842164</td>\n",
       "      <td>1.296121</td>\n",
       "      <td>NA</td>\n",
       "      <td>Vehicle</td>\n",
       "      <td>Vehicle</td>\n",
       "      <td>Vehicle_0</td>\n",
       "      <td>...</td>\n",
       "      <td>NaN</td>\n",
       "      <td>NaN</td>\n",
       "      <td>True</td>\n",
       "      <td>not ood</td>\n",
       "      <td>not ood</td>\n",
       "      <td>not ood</td>\n",
       "      <td>not ood</td>\n",
       "      <td>not ood</td>\n",
       "      <td>test</td>\n",
       "      <td>0</td>\n",
       "    </tr>\n",
       "    <tr>\n",
       "      <th>H12_E09_RT_BC_85_Lig_BC_284-1</th>\n",
       "      <td>K562</td>\n",
       "      <td>0.0</td>\n",
       "      <td>0</td>\n",
       "      <td>3</td>\n",
       "      <td>1.677900</td>\n",
       "      <td>1.478572</td>\n",
       "      <td>NA</td>\n",
       "      <td>Vehicle</td>\n",
       "      <td>Vehicle</td>\n",
       "      <td>Vehicle_0</td>\n",
       "      <td>...</td>\n",
       "      <td>NaN</td>\n",
       "      <td>NaN</td>\n",
       "      <td>True</td>\n",
       "      <td>not ood</td>\n",
       "      <td>not ood</td>\n",
       "      <td>not ood</td>\n",
       "      <td>not ood</td>\n",
       "      <td>not ood</td>\n",
       "      <td>test</td>\n",
       "      <td>0</td>\n",
       "    </tr>\n",
       "    <tr>\n",
       "      <th>H12_F10_RT_BC_151_Lig_BC_60-1</th>\n",
       "      <td>K562</td>\n",
       "      <td>0.0</td>\n",
       "      <td>0</td>\n",
       "      <td>1</td>\n",
       "      <td>1.440329</td>\n",
       "      <td>0.959749</td>\n",
       "      <td>NA</td>\n",
       "      <td>Vehicle</td>\n",
       "      <td>Vehicle</td>\n",
       "      <td>Vehicle_0</td>\n",
       "      <td>...</td>\n",
       "      <td>NaN</td>\n",
       "      <td>NaN</td>\n",
       "      <td>True</td>\n",
       "      <td>not ood</td>\n",
       "      <td>not ood</td>\n",
       "      <td>not ood</td>\n",
       "      <td>not ood</td>\n",
       "      <td>not ood</td>\n",
       "      <td>test</td>\n",
       "      <td>0</td>\n",
       "    </tr>\n",
       "    <tr>\n",
       "      <th>H12_F10_RT_BC_383_Lig_BC_377-1</th>\n",
       "      <td>K562</td>\n",
       "      <td>0.0</td>\n",
       "      <td>0</td>\n",
       "      <td>3</td>\n",
       "      <td>2.605085</td>\n",
       "      <td>0.000000</td>\n",
       "      <td>NA</td>\n",
       "      <td>Vehicle</td>\n",
       "      <td>Vehicle</td>\n",
       "      <td>Vehicle_0</td>\n",
       "      <td>...</td>\n",
       "      <td>NaN</td>\n",
       "      <td>NaN</td>\n",
       "      <td>True</td>\n",
       "      <td>not ood</td>\n",
       "      <td>not ood</td>\n",
       "      <td>not ood</td>\n",
       "      <td>not ood</td>\n",
       "      <td>not ood</td>\n",
       "      <td>test</td>\n",
       "      <td>0</td>\n",
       "    </tr>\n",
       "    <tr>\n",
       "      <th>H12_F10_RT_BC_75_Lig_BC_115-1</th>\n",
       "      <td>K562</td>\n",
       "      <td>0.0</td>\n",
       "      <td>0</td>\n",
       "      <td>3</td>\n",
       "      <td>2.154430</td>\n",
       "      <td>1.066690</td>\n",
       "      <td>NA</td>\n",
       "      <td>Vehicle</td>\n",
       "      <td>Vehicle</td>\n",
       "      <td>Vehicle_0</td>\n",
       "      <td>...</td>\n",
       "      <td>NaN</td>\n",
       "      <td>NaN</td>\n",
       "      <td>True</td>\n",
       "      <td>not ood</td>\n",
       "      <td>not ood</td>\n",
       "      <td>not ood</td>\n",
       "      <td>not ood</td>\n",
       "      <td>not ood</td>\n",
       "      <td>test</td>\n",
       "      <td>0</td>\n",
       "    </tr>\n",
       "  </tbody>\n",
       "</table>\n",
       "<p>20173 rows × 33 columns</p>\n",
       "</div>"
      ],
      "text/plain": [
       "                                 cell_type     dose dose_character  \\\n",
       "index                                                                \n",
       "A01_E09_RT_BC_108_Lig_BC_256-0-0      A549     10.0             10   \n",
       "A01_E09_RT_BC_116_Lig_BC_193-0-0      A549     10.0             10   \n",
       "A01_E09_RT_BC_129_Lig_BC_15-0-0       A549  10000.0          10000   \n",
       "A01_E09_RT_BC_136_Lig_BC_372-0-0      A549   1000.0           1000   \n",
       "A01_E09_RT_BC_136_Lig_BC_6-0-0        A549   1000.0           1000   \n",
       "...                                    ...      ...            ...   \n",
       "H12_E09_RT_BC_353_Lig_BC_331-1        K562      0.0              0   \n",
       "H12_E09_RT_BC_85_Lig_BC_284-1         K562      0.0              0   \n",
       "H12_F10_RT_BC_151_Lig_BC_60-1         K562      0.0              0   \n",
       "H12_F10_RT_BC_383_Lig_BC_377-1        K562      0.0              0   \n",
       "H12_F10_RT_BC_75_Lig_BC_115-1         K562      0.0              0   \n",
       "\n",
       "                                 dose_pattern g1s_score g2m_score  \\\n",
       "index                                                               \n",
       "A01_E09_RT_BC_108_Lig_BC_256-0-0            4  0.730612  1.148259   \n",
       "A01_E09_RT_BC_116_Lig_BC_193-0-0            4  1.494859  0.000000   \n",
       "A01_E09_RT_BC_129_Lig_BC_15-0-0             1  1.767667  1.535335   \n",
       "A01_E09_RT_BC_136_Lig_BC_372-0-0            2  1.063902  1.063902   \n",
       "A01_E09_RT_BC_136_Lig_BC_6-0-0              2  0.402133  0.688145   \n",
       "...                                       ...       ...       ...   \n",
       "H12_E09_RT_BC_353_Lig_BC_331-1              1  1.842164  1.296121   \n",
       "H12_E09_RT_BC_85_Lig_BC_284-1               3  1.677900  1.478572   \n",
       "H12_F10_RT_BC_151_Lig_BC_60-1               1  1.440329  0.959749   \n",
       "H12_F10_RT_BC_383_Lig_BC_377-1              3  2.605085  0.000000   \n",
       "H12_F10_RT_BC_75_Lig_BC_115-1               3  2.154430  1.066690   \n",
       "\n",
       "                                                 pathway  \\\n",
       "index                                                      \n",
       "A01_E09_RT_BC_108_Lig_BC_256-0-0             Epigenetics   \n",
       "A01_E09_RT_BC_116_Lig_BC_193-0-0  Cytoskeletal Signaling   \n",
       "A01_E09_RT_BC_129_Lig_BC_15-0-0               Cell Cycle   \n",
       "A01_E09_RT_BC_136_Lig_BC_372-0-0             Epigenetics   \n",
       "A01_E09_RT_BC_136_Lig_BC_6-0-0                Cell Cycle   \n",
       "...                                                  ...   \n",
       "H12_E09_RT_BC_353_Lig_BC_331-1                        NA   \n",
       "H12_E09_RT_BC_85_Lig_BC_284-1                         NA   \n",
       "H12_F10_RT_BC_151_Lig_BC_60-1                         NA   \n",
       "H12_F10_RT_BC_383_Lig_BC_377-1                        NA   \n",
       "H12_F10_RT_BC_75_Lig_BC_115-1                         NA   \n",
       "\n",
       "                                                        pathway_level_1  \\\n",
       "index                                                                     \n",
       "A01_E09_RT_BC_108_Lig_BC_256-0-0                  Epigenetic regulation   \n",
       "A01_E09_RT_BC_116_Lig_BC_193-0-0  Protein folding & Protein degradation   \n",
       "A01_E09_RT_BC_129_Lig_BC_15-0-0                   Cell cycle regulation   \n",
       "A01_E09_RT_BC_136_Lig_BC_372-0-0                  Epigenetic regulation   \n",
       "A01_E09_RT_BC_136_Lig_BC_6-0-0                    Cell cycle regulation   \n",
       "...                                                                 ...   \n",
       "H12_E09_RT_BC_353_Lig_BC_331-1                                  Vehicle   \n",
       "H12_E09_RT_BC_85_Lig_BC_284-1                                   Vehicle   \n",
       "H12_F10_RT_BC_151_Lig_BC_60-1                                   Vehicle   \n",
       "H12_F10_RT_BC_383_Lig_BC_377-1                                  Vehicle   \n",
       "H12_F10_RT_BC_75_Lig_BC_115-1                                   Vehicle   \n",
       "\n",
       "                                         pathway_level_2  \\\n",
       "index                                                      \n",
       "A01_E09_RT_BC_108_Lig_BC_256-0-0   Histone deacetylation   \n",
       "A01_E09_RT_BC_116_Lig_BC_193-0-0          HSP90 activity   \n",
       "A01_E09_RT_BC_129_Lig_BC_15-0-0    Cell cycle regulation   \n",
       "A01_E09_RT_BC_136_Lig_BC_372-0-0   Histone deacetylation   \n",
       "A01_E09_RT_BC_136_Lig_BC_6-0-0    Aurora kinase activity   \n",
       "...                                                  ...   \n",
       "H12_E09_RT_BC_353_Lig_BC_331-1                   Vehicle   \n",
       "H12_E09_RT_BC_85_Lig_BC_284-1                    Vehicle   \n",
       "H12_F10_RT_BC_151_Lig_BC_60-1                    Vehicle   \n",
       "H12_F10_RT_BC_383_Lig_BC_377-1                   Vehicle   \n",
       "H12_F10_RT_BC_75_Lig_BC_115-1                    Vehicle   \n",
       "\n",
       "                                                        product_dose  ...  \\\n",
       "index                                                                 ...   \n",
       "A01_E09_RT_BC_108_Lig_BC_256-0-0  Quisinostat (JNJ-26481585) 2HCl_10  ...   \n",
       "A01_E09_RT_BC_116_Lig_BC_193-0-0       Alvespimycin (17-DMAG) HCl_10  ...   \n",
       "A01_E09_RT_BC_129_Lig_BC_15-0-0               Flavopiridol HCl_10000  ...   \n",
       "A01_E09_RT_BC_136_Lig_BC_372-0-0            Belinostat (PXD101)_1000  ...   \n",
       "A01_E09_RT_BC_136_Lig_BC_6-0-0                       Hesperadin_1000  ...   \n",
       "...                                                              ...  ...   \n",
       "H12_E09_RT_BC_353_Lig_BC_331-1                             Vehicle_0  ...   \n",
       "H12_E09_RT_BC_85_Lig_BC_284-1                              Vehicle_0  ...   \n",
       "H12_F10_RT_BC_151_Lig_BC_60-1                              Vehicle_0  ...   \n",
       "H12_F10_RT_BC_383_Lig_BC_377-1                             Vehicle_0  ...   \n",
       "H12_F10_RT_BC_75_Lig_BC_115-1                              Vehicle_0  ...   \n",
       "\n",
       "                                 pubchem_ID  \\\n",
       "index                                         \n",
       "A01_E09_RT_BC_108_Lig_BC_256-0-0  122129987   \n",
       "A01_E09_RT_BC_116_Lig_BC_193-0-0    9852573   \n",
       "A01_E09_RT_BC_129_Lig_BC_15-0-0     9910986   \n",
       "A01_E09_RT_BC_136_Lig_BC_372-0-0    6918638   \n",
       "A01_E09_RT_BC_136_Lig_BC_6-0-0    135421442   \n",
       "...                                     ...   \n",
       "H12_E09_RT_BC_353_Lig_BC_331-1          NaN   \n",
       "H12_E09_RT_BC_85_Lig_BC_284-1           NaN   \n",
       "H12_F10_RT_BC_151_Lig_BC_60-1           NaN   \n",
       "H12_F10_RT_BC_383_Lig_BC_377-1          NaN   \n",
       "H12_F10_RT_BC_75_Lig_BC_115-1           NaN   \n",
       "\n",
       "                                                                             smiles  \\\n",
       "index                                                                                 \n",
       "A01_E09_RT_BC_108_Lig_BC_256-0-0  CN1C=C(C2=CC=CC=C21)CNCC3CCN(CC3)C4=NC=C(C=N4)...   \n",
       "A01_E09_RT_BC_116_Lig_BC_193-0-0  CC1CC(C(C(C=C(C(C(C=CC=C(C(=O)NC2=CC(=O)C(=C(C...   \n",
       "A01_E09_RT_BC_129_Lig_BC_15-0-0   CN1CCC(C(C1)O)C2=C(C=C(C3=C2OC(=CC3=O)C4=CC=CC...   \n",
       "A01_E09_RT_BC_136_Lig_BC_372-0-0     C1=CC=C(C=C1)NS(=O)(=O)C2=CC=CC(=C2)C=CC(=O)NO   \n",
       "A01_E09_RT_BC_136_Lig_BC_6-0-0    CCS(=O)(=O)NC1=CC2=C(C=C1)NC(=C2C(=NC3=CC=C(C=...   \n",
       "...                                                                             ...   \n",
       "H12_E09_RT_BC_353_Lig_BC_331-1                                                  NaN   \n",
       "H12_E09_RT_BC_85_Lig_BC_284-1                                                   NaN   \n",
       "H12_F10_RT_BC_151_Lig_BC_60-1                                                   NaN   \n",
       "H12_F10_RT_BC_383_Lig_BC_377-1                                                  NaN   \n",
       "H12_F10_RT_BC_75_Lig_BC_115-1                                                   NaN   \n",
       "\n",
       "                                 control                          ood_1  \\\n",
       "index                                                                     \n",
       "A01_E09_RT_BC_108_Lig_BC_256-0-0   False                        not ood   \n",
       "A01_E09_RT_BC_116_Lig_BC_193-0-0   False                        not ood   \n",
       "A01_E09_RT_BC_129_Lig_BC_15-0-0    False  A549_Flavopiridol_HCl_10000.0   \n",
       "A01_E09_RT_BC_136_Lig_BC_372-0-0   False                        not ood   \n",
       "A01_E09_RT_BC_136_Lig_BC_6-0-0     False                        not ood   \n",
       "...                                  ...                            ...   \n",
       "H12_E09_RT_BC_353_Lig_BC_331-1      True                        not ood   \n",
       "H12_E09_RT_BC_85_Lig_BC_284-1       True                        not ood   \n",
       "H12_F10_RT_BC_151_Lig_BC_60-1       True                        not ood   \n",
       "H12_F10_RT_BC_383_Lig_BC_377-1      True                        not ood   \n",
       "H12_F10_RT_BC_75_Lig_BC_115-1       True                        not ood   \n",
       "\n",
       "                                                            ood_2    ood_3  \\\n",
       "index                                                                        \n",
       "A01_E09_RT_BC_108_Lig_BC_256-0-0                          not ood  not ood   \n",
       "A01_E09_RT_BC_116_Lig_BC_193-0-0                          not ood  not ood   \n",
       "A01_E09_RT_BC_129_Lig_BC_15-0-0                           not ood  not ood   \n",
       "A01_E09_RT_BC_136_Lig_BC_372-0-0  A549_Belinostat_(PXD101)_1000.0  not ood   \n",
       "A01_E09_RT_BC_136_Lig_BC_6-0-0             A549_Hesperadin_1000.0  not ood   \n",
       "...                                                           ...      ...   \n",
       "H12_E09_RT_BC_353_Lig_BC_331-1                            not ood  not ood   \n",
       "H12_E09_RT_BC_85_Lig_BC_284-1                             not ood  not ood   \n",
       "H12_F10_RT_BC_151_Lig_BC_60-1                             not ood  not ood   \n",
       "H12_F10_RT_BC_383_Lig_BC_377-1                            not ood  not ood   \n",
       "H12_F10_RT_BC_75_Lig_BC_115-1                             not ood  not ood   \n",
       "\n",
       "                                                                      ood_4  \\\n",
       "index                                                                         \n",
       "A01_E09_RT_BC_108_Lig_BC_256-0-0  A549_Quisinostat_(JNJ-26481585)_2HCl_10.0   \n",
       "A01_E09_RT_BC_116_Lig_BC_193-0-0       A549_Alvespimycin_(17-DMAG)_HCl_10.0   \n",
       "A01_E09_RT_BC_129_Lig_BC_15-0-0                                     not ood   \n",
       "A01_E09_RT_BC_136_Lig_BC_372-0-0                                    not ood   \n",
       "A01_E09_RT_BC_136_Lig_BC_6-0-0                                      not ood   \n",
       "...                                                                     ...   \n",
       "H12_E09_RT_BC_353_Lig_BC_331-1                                      not ood   \n",
       "H12_E09_RT_BC_85_Lig_BC_284-1                                       not ood   \n",
       "H12_F10_RT_BC_151_Lig_BC_60-1                                       not ood   \n",
       "H12_F10_RT_BC_383_Lig_BC_377-1                                      not ood   \n",
       "H12_F10_RT_BC_75_Lig_BC_115-1                                       not ood   \n",
       "\n",
       "                                                                      ood_5  \\\n",
       "index                                                                         \n",
       "A01_E09_RT_BC_108_Lig_BC_256-0-0  A549_Quisinostat_(JNJ-26481585)_2HCl_10.0   \n",
       "A01_E09_RT_BC_116_Lig_BC_193-0-0       A549_Alvespimycin_(17-DMAG)_HCl_10.0   \n",
       "A01_E09_RT_BC_129_Lig_BC_15-0-0               A549_Flavopiridol_HCl_10000.0   \n",
       "A01_E09_RT_BC_136_Lig_BC_372-0-0            A549_Belinostat_(PXD101)_1000.0   \n",
       "A01_E09_RT_BC_136_Lig_BC_6-0-0                       A549_Hesperadin_1000.0   \n",
       "...                                                                     ...   \n",
       "H12_E09_RT_BC_353_Lig_BC_331-1                                      not ood   \n",
       "H12_E09_RT_BC_85_Lig_BC_284-1                                       not ood   \n",
       "H12_F10_RT_BC_151_Lig_BC_60-1                                       not ood   \n",
       "H12_F10_RT_BC_383_Lig_BC_377-1                                      not ood   \n",
       "H12_F10_RT_BC_75_Lig_BC_115-1                                       not ood   \n",
       "\n",
       "                                 split _scvi_batch  \n",
       "index                                               \n",
       "A01_E09_RT_BC_108_Lig_BC_256-0-0   ood           0  \n",
       "A01_E09_RT_BC_116_Lig_BC_193-0-0   ood           0  \n",
       "A01_E09_RT_BC_129_Lig_BC_15-0-0    ood           0  \n",
       "A01_E09_RT_BC_136_Lig_BC_372-0-0   ood           0  \n",
       "A01_E09_RT_BC_136_Lig_BC_6-0-0     ood           0  \n",
       "...                                ...         ...  \n",
       "H12_E09_RT_BC_353_Lig_BC_331-1    test           0  \n",
       "H12_E09_RT_BC_85_Lig_BC_284-1     test           0  \n",
       "H12_F10_RT_BC_151_Lig_BC_60-1     test           0  \n",
       "H12_F10_RT_BC_383_Lig_BC_377-1    test           0  \n",
       "H12_F10_RT_BC_75_Lig_BC_115-1     test           0  \n",
       "\n",
       "[20173 rows x 33 columns]"
      ]
     },
     "execution_count": 40,
     "metadata": {},
     "output_type": "execute_result"
    }
   ],
   "source": [
    "adata_ood.obs"
   ]
  },
  {
   "cell_type": "code",
   "execution_count": 13,
   "id": "ba9983ca-3f25-4c6b-a51c-7d6738ae843f",
   "metadata": {},
   "outputs": [
    {
     "name": "stderr",
     "output_type": "stream",
     "text": [
      "/home/icb/dominik.klein/mambaforge/envs/cfp/lib/python3.11/site-packages/anndata/_core/aligned_df.py:67: ImplicitModificationWarning: Transforming to str index.\n",
      "  warnings.warn(\"Transforming to str index.\", ImplicitModificationWarning)\n"
     ]
    }
   ],
   "source": [
    "all_data = []\n",
    "conditions = []\n",
    "\n",
    "for condition, array in preds_test.items():\n",
    "    all_data.append(array)\n",
    "    conditions.extend([condition] * array.shape[0])\n",
    "\n",
    "# Stack all data vertically to create a single array\n",
    "all_data_array = np.vstack(all_data)\n",
    "\n",
    "# Create a DataFrame for the .obs attribute\n",
    "obs_data = pd.DataFrame({\n",
    "    'condition': conditions\n",
    "})\n",
    "\n",
    "# Create the Anndata object\n",
    "adata_test_result = ad.AnnData(X=np.empty((len(all_data_array),2000)), obs=obs_data)\n",
    "adata_test_result.obsm[\"X_pca_pred\"] = all_data_array                       "
   ]
  },
  {
   "cell_type": "code",
   "execution_count": 14,
   "id": "fa378896-fb97-4f38-9384-02c72bbf2d84",
   "metadata": {},
   "outputs": [],
   "source": [
    "cfpp.reconstruct_pca(query_adata=adata_test_result, use_rep=\"X_pca_pred\", ref_adata=adata_train, layers_key_added=\"X_recon_pred\")"
   ]
  },
  {
   "cell_type": "code",
   "execution_count": 15,
   "id": "68f7b472-e219-4c89-b20c-3253c6a79ebd",
   "metadata": {},
   "outputs": [],
   "source": [
    "adata_ood_result.write(f\"/lustre/groups/ml01/workspace/ot_perturbation/models/otfm/combosciplex/adata_ood_with_predictions_{split}.h5ad\")\n",
    "adata_test_result.write(f\"/lustre/groups/ml01/workspace/ot_perturbation/models/otfm/combosciplex/adata_test_with_predictions_{split}.h5ad\")"
   ]
  },
  {
   "cell_type": "code",
   "execution_count": null,
   "id": "2ae3a2a5-aec2-4568-b8f0-378baf4ab2a4",
   "metadata": {},
   "outputs": [],
   "source": []
  }
 ],
 "metadata": {
  "kernelspec": {
   "display_name": "cfp",
   "language": "python",
   "name": "cfp"
  },
  "language_info": {
   "codemirror_mode": {
    "name": "ipython",
    "version": 3
   },
   "file_extension": ".py",
   "mimetype": "text/x-python",
   "name": "python",
   "nbconvert_exporter": "python",
   "pygments_lexer": "ipython3",
   "version": "3.11.9"
  }
 },
 "nbformat": 4,
 "nbformat_minor": 5
}
