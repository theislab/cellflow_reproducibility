{
 "cells": [
  {
   "cell_type": "code",
   "execution_count": 1,
   "id": "00dbaf13-af84-460d-b1a1-59a2e370b88b",
   "metadata": {},
   "outputs": [],
   "source": [
    "import jax \n",
    "jax.config.update(\"jax_enable_x64\", True)"
   ]
  },
  {
   "cell_type": "code",
   "execution_count": 2,
   "id": "71ad2353-da64-4e0b-a8e6-1c34292ad962",
   "metadata": {},
   "outputs": [
    {
     "name": "stderr",
     "output_type": "stream",
     "text": [
      "/home/icb/dominik.klein/mambaforge/envs/cfp/lib/python3.11/site-packages/tqdm/auto.py:21: TqdmWarning: IProgress not found. Please update jupyter and ipywidgets. See https://ipywidgets.readthedocs.io/en/stable/user_install.html\n",
      "  from .autonotebook import tqdm as notebook_tqdm\n"
     ]
    }
   ],
   "source": [
    "import cfp\n",
    "import scanpy as sc\n",
    "import anndata as ad\n",
    "import numpy as np\n",
    "from cfp.external import CFJaxSCVI"
   ]
  },
  {
   "cell_type": "code",
   "execution_count": 3,
   "id": "505259bb-3b59-42ed-99c8-25e0209afe54",
   "metadata": {},
   "outputs": [],
   "source": [
    "split = 2\n",
    "model_name = \"sweet-dust-443\""
   ]
  },
  {
   "cell_type": "code",
   "execution_count": 4,
   "id": "d40c7cd6-b75e-4666-b77c-b7be56a898d1",
   "metadata": {},
   "outputs": [],
   "source": [
    "adata_train_path = f\"/lustre/groups/ml01/workspace/ot_perturbation/data/sciplex/adata_train_{split}.h5ad\"\n",
    "adata_test_path = f\"/lustre/groups/ml01/workspace/ot_perturbation/data/sciplex/adata_test_{split}.h5ad\"\n",
    "adata_ood_path = f\"/lustre/groups/ml01/workspace/ot_perturbation/data/sciplex/adata_ood_{split}.h5ad\"\n",
    "adata_train = sc.read_h5ad(adata_train_path)\n",
    "adata_test = sc.read_h5ad(adata_test_path)\n",
    "adata_ood = sc.read_h5ad(adata_ood_path)\n",
    "    "
   ]
  },
  {
   "cell_type": "code",
   "execution_count": 5,
   "id": "39150dd3-6c54-4439-95aa-f8078811e981",
   "metadata": {},
   "outputs": [
    {
     "name": "stdout",
     "output_type": "stream",
     "text": [
      "\u001b[34mINFO    \u001b[0m File \u001b[35m/lustre/groups/ml01/workspace/ot_perturbation/models/vaes/sciplex/32_1024_2/\u001b[0m\u001b[95mmodel.pt\u001b[0m already         \n",
      "         downloaded                                                                                                \n"
     ]
    },
    {
     "name": "stderr",
     "output_type": "stream",
     "text": [
      "/home/icb/dominik.klein/mambaforge/envs/cfp/lib/python3.11/site-packages/lightning/fabric/plugins/environments/slurm.py:191: The `srun` command is available on your system but is not used. HINT: If your intention is to run Lightning on SLURM, prepend your python command with `srun` like so: srun python /home/icb/dominik.klein/mambaforge/envs/cfp/lib/pyth ...\n",
      "/home/icb/dominik.klein/mambaforge/envs/cfp/lib/python3.11/site-packages/scvi/model/base/_utils.py:66: FutureWarning: You are using `torch.load` with `weights_only=False` (the current default value), which uses the default pickle module implicitly. It is possible to construct malicious pickle data which will execute arbitrary code during unpickling (See https://github.com/pytorch/pytorch/blob/main/SECURITY.md#untrusted-models for more details). In a future release, the default value for `weights_only` will be flipped to `True`. This limits the functions that could be executed during unpickling. Arbitrary objects will no longer be allowed to be loaded via this mode unless they are explicitly allowlisted by the user via `torch.serialization.add_safe_globals`. We recommend you start setting `weights_only=True` for any use case where you don't have full control of the loaded file. Please open an issue on GitHub for any issues related to this experimental feature.\n",
      "  model = torch.load(model_path, map_location=map_location)\n",
      "/home/icb/dominik.klein/mambaforge/envs/cfp/lib/python3.11/site-packages/scvi/data/fields/_base_field.py:64: UserWarning: adata.X does not contain unnormalized count data. Are you sure this is what you want?\n",
      "  self.validate_field(adata)\n"
     ]
    },
    {
     "name": "stdout",
     "output_type": "stream",
     "text": [
      "\u001b[34mINFO    \u001b[0m Jax module moved to cu\u001b[1;92mda:0\u001b[0m.Note: Pytorch lightning will show GPU is not being used for the Trainer.       \n"
     ]
    },
    {
     "name": "stderr",
     "output_type": "stream",
     "text": [
      "/home/icb/dominik.klein/mambaforge/envs/cfp/lib/python3.11/site-packages/lightning/fabric/plugins/environments/slurm.py:191: The `srun` command is available on your system but is not used. HINT: If your intention is to run Lightning on SLURM, prepend your python command with `srun` like so: srun python /home/icb/dominik.klein/mambaforge/envs/cfp/lib/pyth ...\n",
      "/home/icb/dominik.klein/mambaforge/envs/cfp/lib/python3.11/site-packages/lightning/fabric/plugins/environments/slurm.py:191: The `srun` command is available on your system but is not used. HINT: If your intention is to run Lightning on SLURM, prepend your python command with `srun` like so: srun python /home/icb/dominik.klein/mambaforge/envs/cfp/lib/pyth ...\n",
      "GPU available: True (cuda), used: False\n",
      "TPU available: False, using: 0 TPU cores\n",
      "IPU available: False, using: 0 IPUs\n",
      "HPU available: False, using: 0 HPUs\n",
      "/home/icb/dominik.klein/mambaforge/envs/cfp/lib/python3.11/site-packages/lightning/pytorch/trainer/setup.py:187: GPU available but not used. You can set it by doing `Trainer(accelerator='gpu')`.\n",
      "/home/icb/dominik.klein/mambaforge/envs/cfp/lib/python3.11/site-packages/lightning/fabric/plugins/environments/slurm.py:191: The `srun` command is available on your system but is not used. HINT: If your intention is to run Lightning on SLURM, prepend your python command with `srun` like so: srun python /home/icb/dominik.klein/mambaforge/envs/cfp/lib/pyth ...\n",
      "/home/icb/dominik.klein/mambaforge/envs/cfp/lib/python3.11/site-packages/lightning/pytorch/trainer/connectors/data_connector.py:441: The 'train_dataloader' does not have many workers which may be a bottleneck. Consider increasing the value of the `num_workers` argument` to `num_workers=5` in the `DataLoader` to improve performance.\n"
     ]
    },
    {
     "name": "stdout",
     "output_type": "stream",
     "text": [
      "Epoch 1/23:   0%|          | 0/23 [00:00<?, ?it/s]"
     ]
    },
    {
     "name": "stderr",
     "output_type": "stream",
     "text": [
      "/home/icb/dominik.klein/mambaforge/envs/cfp/lib/python3.11/site-packages/lightning/pytorch/trainer/connectors/data_connector.py:385: You have overridden `transfer_batch_to_device` in `LightningModule` but have passed in a `LightningDataModule`. It will use the implementation from `LightningModule` instance.\n"
     ]
    },
    {
     "name": "stdout",
     "output_type": "stream",
     "text": [
      "Epoch 1/23:   4%|▍         | 1/23 [00:04<01:39,  4.51s/it, v_num=1, train_loss_step=398, train_loss_epoch=398]"
     ]
    },
    {
     "name": "stderr",
     "output_type": "stream",
     "text": [
      "`Trainer.fit` stopped: `max_steps=1` reached.\n"
     ]
    },
    {
     "name": "stdout",
     "output_type": "stream",
     "text": [
      "Epoch 1/23:   4%|▍         | 1/23 [00:04<01:40,  4.58s/it, v_num=1, train_loss_step=398, train_loss_epoch=398]\n",
      "\u001b[34mINFO    \u001b[0m Input AnnData not setup with scvi-tools. attempting to transfer AnnData setup                             \n"
     ]
    },
    {
     "name": "stderr",
     "output_type": "stream",
     "text": [
      "/home/icb/dominik.klein/mambaforge/envs/cfp/lib/python3.11/site-packages/scvi/data/fields/_base_field.py:64: UserWarning: adata.X does not contain unnormalized count data. Are you sure this is what you want?\n",
      "  self.validate_field(adata)\n"
     ]
    },
    {
     "name": "stdout",
     "output_type": "stream",
     "text": [
      "\u001b[34mINFO    \u001b[0m Input AnnData not setup with scvi-tools. attempting to transfer AnnData setup                             \n"
     ]
    },
    {
     "name": "stderr",
     "output_type": "stream",
     "text": [
      "/home/icb/dominik.klein/mambaforge/envs/cfp/lib/python3.11/site-packages/scvi/data/fields/_base_field.py:64: UserWarning: adata.X does not contain unnormalized count data. Are you sure this is what you want?\n",
      "  self.validate_field(adata)\n"
     ]
    }
   ],
   "source": [
    "vae = CFJaxSCVI.load(f\"/lustre/groups/ml01/workspace/ot_perturbation/models/vaes/sciplex/32_1024_{split}\", adata=adata_train)\n",
    "adata_train.obsm[\"X_scVI\"] = vae.get_latent_representation(adata_train)\n",
    "adata_test.obsm[\"X_scVI\"] = vae.get_latent_representation(adata_test)\n",
    "adata_ood.obsm[\"X_scVI\"] = vae.get_latent_representation(adata_ood)\n"
   ]
  },
  {
   "cell_type": "code",
   "execution_count": 6,
   "id": "b6f7ee25-eeac-46bc-a305-be753cc7c0ee",
   "metadata": {},
   "outputs": [
    {
     "name": "stderr",
     "output_type": "stream",
     "text": [
      "/tmp/ipykernel_1079678/2979151925.py:3: ImplicitModificationWarning: Trying to modify attribute `.obs` of view, initializing view as actual.\n",
      "  adata_ood_ctrl.obs[\"control\"] = True\n",
      "/tmp/ipykernel_1079678/2979151925.py:4: ImplicitModificationWarning: Trying to modify attribute `.obs` of view, initializing view as actual.\n",
      "  adata_test_ctrl.obs[\"control\"] = True\n"
     ]
    }
   ],
   "source": [
    "adata_ood_ctrl = adata_ood[adata_ood.obs[\"condition\"].str.contains(\"Vehicle\")]\n",
    "adata_test_ctrl = adata_test[adata_test.obs[\"condition\"].str.contains(\"Vehicle\")]\n",
    "adata_ood_ctrl.obs[\"control\"] = True\n",
    "adata_test_ctrl.obs[\"control\"] = True\n",
    "covariate_data_ood = adata_ood[~adata_ood.obs[\"condition\"].str.contains(\"Vehicle\")].obs.drop_duplicates(subset=[\"condition\"])\n",
    "covariate_data_test = adata_test[~adata_test.obs[\"condition\"].str.contains(\"Vehicle\")].obs.drop_duplicates(subset=[\"condition\"])"
   ]
  },
  {
   "cell_type": "code",
   "execution_count": 7,
   "id": "bff95931-f763-4e37-82c2-7a4182945e7f",
   "metadata": {},
   "outputs": [],
   "source": [
    "cf = cfp.model.CellFlow.load(f\"/lustre/groups/ml01/workspace/ot_perturbation/data/sciplex/out/{model_name}_CellFlow.pkl\")"
   ]
  },
  {
   "cell_type": "code",
   "execution_count": 8,
   "id": "4562fbaf-4f29-49d8-8559-95d7bccb2c74",
   "metadata": {},
   "outputs": [
    {
     "data": {
      "text/plain": [
       "AnnData object with n_obs × n_vars = 1500 × 2001\n",
       "    obs: 'cell_type', 'dose', 'dose_character', 'dose_pattern', 'g1s_score', 'g2m_score', 'pathway', 'pathway_level_1', 'pathway_level_2', 'product_dose', 'product_name', 'proliferation_index', 'replicate', 'size_factor', 'target', 'vehicle', 'perturbation', 'drug', 'cell_line', 'logdose', 'condition', 'n_genes', 'pubchem_name', 'pubchem_ID', 'smiles', 'control', 'ood_1', 'ood_2', 'ood_3', 'ood_4', 'ood_5', 'split', '_scvi_batch'\n",
       "    uns: 'cell_line_dict', 'ecfp_dict', '_scvi_uuid', '_scvi_manager_uuid'\n",
       "    obsm: 'X_pca', 'ecfp', 'X_scVI'"
      ]
     },
     "execution_count": 8,
     "metadata": {},
     "output_type": "execute_result"
    }
   ],
   "source": [
    "adata_ood_ctrl"
   ]
  },
  {
   "cell_type": "code",
   "execution_count": 9,
   "id": "3b775130-2de3-4288-b55e-eb24dc03c1c7",
   "metadata": {
    "scrolled": true
   },
   "outputs": [
    {
     "name": "stderr",
     "output_type": "stream",
     "text": [
      "/ictstr01/home/icb/dominik.klein/git_repos/cell_flow_perturbation/src/cfp/data/_datamanager.py:334: SettingWithCopyWarning: \n",
      "A value is trying to be set on a copy of a slice from a DataFrame.\n",
      "Try using .loc[row_indexer,col_indexer] = value instead\n",
      "\n",
      "See the caveats in the documentation: https://pandas.pydata.org/pandas-docs/stable/user_guide/indexing.html#returning-a-view-versus-a-copy\n",
      "  _covariate_data[\"cell_index\"] = _covariate_data.index\n",
      "100%|██████████| 179/179 [00:00<00:00, 455.46it/s]\n",
      "100%|██████████| 188/188 [00:00<00:00, 649.77it/s]\n",
      "100%|██████████| 173/173 [00:00<00:00, 488.50it/s]\n"
     ]
    }
   ],
   "source": [
    "preds_ood = cf.predict(adata=adata_ood_ctrl, sample_rep=\"X_scVI\", condition_id_key=\"condition\", covariate_data=covariate_data_ood)"
   ]
  },
  {
   "cell_type": "code",
   "execution_count": 12,
   "id": "a124a6ad-1263-44ea-a791-c27c5745bd27",
   "metadata": {},
   "outputs": [
    {
     "name": "stderr",
     "output_type": "stream",
     "text": [
      "/home/icb/dominik.klein/mambaforge/envs/cfp/lib/python3.11/site-packages/anndata/_core/aligned_df.py:67: ImplicitModificationWarning: Transforming to str index.\n",
      "  warnings.warn(\"Transforming to str index.\", ImplicitModificationWarning)\n"
     ]
    }
   ],
   "source": [
    "import pandas as pd\n",
    "all_data = []\n",
    "conditions = []\n",
    "\n",
    "for condition, array in preds_ood.items():\n",
    "    all_data.append(array)\n",
    "    conditions.extend([condition] * array.shape[0])\n",
    "\n",
    "# Stack all data vertically to create a single array\n",
    "all_data_array = np.vstack(all_data)\n",
    "\n",
    "# Create a DataFrame for the .obs attribute\n",
    "obs_data = pd.DataFrame({\n",
    "    'condition': conditions\n",
    "})\n",
    "\n",
    "# Create the Anndata object\n",
    "adata_ood_result = ad.AnnData(X=np.empty((len(all_data_array),2001)), obs=obs_data)\n",
    "adata_ood_result.obsm[\"X_scVI_pred\"] = all_data_array"
   ]
  },
  {
   "cell_type": "code",
   "execution_count": 14,
   "id": "29aa36f3-3310-432d-b085-363b9462abd2",
   "metadata": {},
   "outputs": [
    {
     "name": "stdout",
     "output_type": "stream",
     "text": [
      "\u001b[34mINFO    \u001b[0m Input AnnData not setup with scvi-tools. attempting to transfer AnnData setup                             \n"
     ]
    }
   ],
   "source": [
    "adata_ood_result.layers[\"pred_reconstruction\"] = vae.get_reconstructed_expression(adata_ood_result, use_rep=\"X_scVI_pred\")"
   ]
  },
  {
   "cell_type": "code",
   "execution_count": 15,
   "id": "487eefe4-a9b5-48db-9e13-3f3bfcf5e104",
   "metadata": {},
   "outputs": [],
   "source": [
    "adata_ood_result.write(f\"/lustre/groups/ml01/workspace/ot_perturbation/models/otfm/sciplex/adata_ood_with_predictions_{split}.h5ad\")\n"
   ]
  },
  {
   "cell_type": "code",
   "execution_count": 16,
   "id": "996d9ace-8d8e-4598-bbd8-34b1a7c6e42f",
   "metadata": {},
   "outputs": [
    {
     "name": "stderr",
     "output_type": "stream",
     "text": [
      "/ictstr01/home/icb/dominik.klein/git_repos/cell_flow_perturbation/src/cfp/data/_datamanager.py:334: SettingWithCopyWarning: \n",
      "A value is trying to be set on a copy of a slice from a DataFrame.\n",
      "Try using .loc[row_indexer,col_indexer] = value instead\n",
      "\n",
      "See the caveats in the documentation: https://pandas.pydata.org/pandas-docs/stable/user_guide/indexing.html#returning-a-view-versus-a-copy\n",
      "  _covariate_data[\"cell_index\"] = _covariate_data.index\n",
      "100%|██████████| 524/524 [00:01<00:00, 523.02it/s]\n",
      "100%|██████████| 551/551 [00:00<00:00, 615.50it/s]\n",
      "100%|██████████| 510/510 [00:00<00:00, 580.44it/s]\n",
      "E1004 17:01:15.651990 1079678 pjrt_stream_executor_client.cc:3067] Execution of replica 0 failed: INTERNAL: Failed to allocate 33554432 bytes for new constant\n"
     ]
    },
    {
     "ename": "XlaRuntimeError",
     "evalue": "INTERNAL: Failed to allocate 33554432 bytes for new constant",
     "output_type": "error",
     "traceback": [
      "\u001b[0;31m---------------------------------------------------------------------------\u001b[0m",
      "\u001b[0;31mXlaRuntimeError\u001b[0m                           Traceback (most recent call last)",
      "Cell \u001b[0;32mIn[16], line 1\u001b[0m\n\u001b[0;32m----> 1\u001b[0m preds_test \u001b[38;5;241m=\u001b[39m cf\u001b[38;5;241m.\u001b[39mpredict(adata\u001b[38;5;241m=\u001b[39madata_test_ctrl, sample_rep\u001b[38;5;241m=\u001b[39m\u001b[38;5;124m\"\u001b[39m\u001b[38;5;124mX_scVI\u001b[39m\u001b[38;5;124m\"\u001b[39m, condition_id_key\u001b[38;5;241m=\u001b[39m\u001b[38;5;124m\"\u001b[39m\u001b[38;5;124mcondition\u001b[39m\u001b[38;5;124m\"\u001b[39m, covariate_data\u001b[38;5;241m=\u001b[39mcovariate_data_test)\n",
      "File \u001b[0;32m/ictstr01/home/icb/dominik.klein/git_repos/cell_flow_perturbation/src/cfp/model/_cellflow.py:602\u001b[0m, in \u001b[0;36mCellFlow.predict\u001b[0;34m(self, adata, sample_rep, covariate_data, condition_id_key, key_added_prefix, n_samples, **kwargs)\u001b[0m\n\u001b[1;32m    600\u001b[0m src \u001b[38;5;241m=\u001b[39m batch[\u001b[38;5;124m\"\u001b[39m\u001b[38;5;124msource\u001b[39m\u001b[38;5;124m\"\u001b[39m]\n\u001b[1;32m    601\u001b[0m condition \u001b[38;5;241m=\u001b[39m batch\u001b[38;5;241m.\u001b[39mget(\u001b[38;5;124m\"\u001b[39m\u001b[38;5;124mcondition\u001b[39m\u001b[38;5;124m\"\u001b[39m, \u001b[38;5;28;01mNone\u001b[39;00m)\n\u001b[0;32m--> 602\u001b[0m out \u001b[38;5;241m=\u001b[39m jax\u001b[38;5;241m.\u001b[39mtree\u001b[38;5;241m.\u001b[39mmap(functools\u001b[38;5;241m.\u001b[39mpartial(\u001b[38;5;28mself\u001b[39m\u001b[38;5;241m.\u001b[39msolver\u001b[38;5;241m.\u001b[39mpredict, \u001b[38;5;241m*\u001b[39m\u001b[38;5;241m*\u001b[39mkwargs), src, condition)  \u001b[38;5;66;03m# type: ignore[union-attr]\u001b[39;00m\n\u001b[1;32m    603\u001b[0m \u001b[38;5;28;01mif\u001b[39;00m key_added_prefix \u001b[38;5;129;01mis\u001b[39;00m \u001b[38;5;28;01mNone\u001b[39;00m:\n\u001b[1;32m    604\u001b[0m     \u001b[38;5;28;01mreturn\u001b[39;00m out\n",
      "File \u001b[0;32m~/mambaforge/envs/cfp/lib/python3.11/site-packages/jax/_src/tree.py:155\u001b[0m, in \u001b[0;36mmap\u001b[0;34m(f, tree, is_leaf, *rest)\u001b[0m\n\u001b[1;32m    115\u001b[0m \u001b[38;5;28;01mdef\u001b[39;00m \u001b[38;5;21mmap\u001b[39m(f: Callable[\u001b[38;5;241m.\u001b[39m\u001b[38;5;241m.\u001b[39m\u001b[38;5;241m.\u001b[39m, Any],\n\u001b[1;32m    116\u001b[0m         tree: Any,\n\u001b[1;32m    117\u001b[0m         \u001b[38;5;241m*\u001b[39mrest: Any,\n\u001b[1;32m    118\u001b[0m         is_leaf: Callable[[Any], \u001b[38;5;28mbool\u001b[39m] \u001b[38;5;241m|\u001b[39m \u001b[38;5;28;01mNone\u001b[39;00m \u001b[38;5;241m=\u001b[39m \u001b[38;5;28;01mNone\u001b[39;00m) \u001b[38;5;241m-\u001b[39m\u001b[38;5;241m>\u001b[39m Any:\n\u001b[1;32m    119\u001b[0m \u001b[38;5;250m  \u001b[39m\u001b[38;5;124;03m\"\"\"Maps a multi-input function over pytree args to produce a new pytree.\u001b[39;00m\n\u001b[1;32m    120\u001b[0m \n\u001b[1;32m    121\u001b[0m \u001b[38;5;124;03m  Args:\u001b[39;00m\n\u001b[0;32m   (...)\u001b[0m\n\u001b[1;32m    153\u001b[0m \u001b[38;5;124;03m    - :func:`jax.tree.reduce`\u001b[39;00m\n\u001b[1;32m    154\u001b[0m \u001b[38;5;124;03m  \"\"\"\u001b[39;00m\n\u001b[0;32m--> 155\u001b[0m   \u001b[38;5;28;01mreturn\u001b[39;00m tree_util\u001b[38;5;241m.\u001b[39mtree_map(f, tree, \u001b[38;5;241m*\u001b[39mrest, is_leaf\u001b[38;5;241m=\u001b[39mis_leaf)\n",
      "File \u001b[0;32m~/mambaforge/envs/cfp/lib/python3.11/site-packages/jax/_src/tree_util.py:344\u001b[0m, in \u001b[0;36mtree_map\u001b[0;34m(f, tree, is_leaf, *rest)\u001b[0m\n\u001b[1;32m    342\u001b[0m leaves, treedef \u001b[38;5;241m=\u001b[39m tree_flatten(tree, is_leaf)\n\u001b[1;32m    343\u001b[0m all_leaves \u001b[38;5;241m=\u001b[39m [leaves] \u001b[38;5;241m+\u001b[39m [treedef\u001b[38;5;241m.\u001b[39mflatten_up_to(r) \u001b[38;5;28;01mfor\u001b[39;00m r \u001b[38;5;129;01min\u001b[39;00m rest]\n\u001b[0;32m--> 344\u001b[0m \u001b[38;5;28;01mreturn\u001b[39;00m treedef\u001b[38;5;241m.\u001b[39munflatten(f(\u001b[38;5;241m*\u001b[39mxs) \u001b[38;5;28;01mfor\u001b[39;00m xs \u001b[38;5;129;01min\u001b[39;00m \u001b[38;5;28mzip\u001b[39m(\u001b[38;5;241m*\u001b[39mall_leaves))\n",
      "File \u001b[0;32m~/mambaforge/envs/cfp/lib/python3.11/site-packages/jax/_src/tree_util.py:344\u001b[0m, in \u001b[0;36m<genexpr>\u001b[0;34m(.0)\u001b[0m\n\u001b[1;32m    342\u001b[0m leaves, treedef \u001b[38;5;241m=\u001b[39m tree_flatten(tree, is_leaf)\n\u001b[1;32m    343\u001b[0m all_leaves \u001b[38;5;241m=\u001b[39m [leaves] \u001b[38;5;241m+\u001b[39m [treedef\u001b[38;5;241m.\u001b[39mflatten_up_to(r) \u001b[38;5;28;01mfor\u001b[39;00m r \u001b[38;5;129;01min\u001b[39;00m rest]\n\u001b[0;32m--> 344\u001b[0m \u001b[38;5;28;01mreturn\u001b[39;00m treedef\u001b[38;5;241m.\u001b[39munflatten(f(\u001b[38;5;241m*\u001b[39mxs) \u001b[38;5;28;01mfor\u001b[39;00m xs \u001b[38;5;129;01min\u001b[39;00m \u001b[38;5;28mzip\u001b[39m(\u001b[38;5;241m*\u001b[39mall_leaves))\n",
      "File \u001b[0;32m/ictstr01/home/icb/dominik.klein/git_repos/cell_flow_perturbation/src/cfp/solvers/_otfm.py:207\u001b[0m, in \u001b[0;36mOTFlowMatching.predict\u001b[0;34m(self, x, condition, **kwargs)\u001b[0m\n\u001b[1;32m    197\u001b[0m     result \u001b[38;5;241m=\u001b[39m diffrax\u001b[38;5;241m.\u001b[39mdiffeqsolve(\n\u001b[1;32m    198\u001b[0m         ode_term,\n\u001b[1;32m    199\u001b[0m         t0\u001b[38;5;241m=\u001b[39m\u001b[38;5;241m0.0\u001b[39m,\n\u001b[0;32m   (...)\u001b[0m\n\u001b[1;32m    203\u001b[0m         \u001b[38;5;241m*\u001b[39m\u001b[38;5;241m*\u001b[39mkwargs,\n\u001b[1;32m    204\u001b[0m     )\n\u001b[1;32m    205\u001b[0m     \u001b[38;5;28;01mreturn\u001b[39;00m result\u001b[38;5;241m.\u001b[39mys[\u001b[38;5;241m0\u001b[39m]\n\u001b[0;32m--> 207\u001b[0m x_pred \u001b[38;5;241m=\u001b[39m jax\u001b[38;5;241m.\u001b[39mjit(jax\u001b[38;5;241m.\u001b[39mvmap(solve_ode, in_axes\u001b[38;5;241m=\u001b[39m[\u001b[38;5;241m0\u001b[39m, \u001b[38;5;28;01mNone\u001b[39;00m]))(x, condition)\n\u001b[1;32m    208\u001b[0m \u001b[38;5;28;01mreturn\u001b[39;00m np\u001b[38;5;241m.\u001b[39marray(x_pred)\n",
      "    \u001b[0;31m[... skipping hidden 10 frame]\u001b[0m\n",
      "File \u001b[0;32m~/mambaforge/envs/cfp/lib/python3.11/site-packages/jax/_src/interpreters/pxla.py:1277\u001b[0m, in \u001b[0;36mExecuteReplicated.__call__\u001b[0;34m(self, *args)\u001b[0m\n\u001b[1;32m   1274\u001b[0m \u001b[38;5;28;01mif\u001b[39;00m (\u001b[38;5;28mself\u001b[39m\u001b[38;5;241m.\u001b[39mordered_effects \u001b[38;5;129;01mor\u001b[39;00m \u001b[38;5;28mself\u001b[39m\u001b[38;5;241m.\u001b[39mhas_unordered_effects\n\u001b[1;32m   1275\u001b[0m     \u001b[38;5;129;01mor\u001b[39;00m \u001b[38;5;28mself\u001b[39m\u001b[38;5;241m.\u001b[39mhas_host_callbacks):\n\u001b[1;32m   1276\u001b[0m   input_bufs \u001b[38;5;241m=\u001b[39m \u001b[38;5;28mself\u001b[39m\u001b[38;5;241m.\u001b[39m_add_tokens_to_inputs(input_bufs)\n\u001b[0;32m-> 1277\u001b[0m   results \u001b[38;5;241m=\u001b[39m \u001b[38;5;28mself\u001b[39m\u001b[38;5;241m.\u001b[39mxla_executable\u001b[38;5;241m.\u001b[39mexecute_sharded(\n\u001b[1;32m   1278\u001b[0m       input_bufs, with_tokens\u001b[38;5;241m=\u001b[39m\u001b[38;5;28;01mTrue\u001b[39;00m\n\u001b[1;32m   1279\u001b[0m   )\n\u001b[1;32m   1281\u001b[0m   result_token_bufs \u001b[38;5;241m=\u001b[39m results\u001b[38;5;241m.\u001b[39mdisassemble_prefix_into_single_device_arrays(\n\u001b[1;32m   1282\u001b[0m       \u001b[38;5;28mlen\u001b[39m(\u001b[38;5;28mself\u001b[39m\u001b[38;5;241m.\u001b[39mordered_effects))\n\u001b[1;32m   1283\u001b[0m   sharded_runtime_token \u001b[38;5;241m=\u001b[39m results\u001b[38;5;241m.\u001b[39mconsume_token()\n",
      "\u001b[0;31mXlaRuntimeError\u001b[0m: INTERNAL: Failed to allocate 33554432 bytes for new constant"
     ]
    }
   ],
   "source": [
    "preds_test = cf.predict(adata=adata_test_ctrl, sample_rep=\"X_scVI\", condition_id_key=\"condition\", covariate_data=covariate_data_test)"
   ]
  },
  {
   "cell_type": "code",
   "execution_count": null,
   "id": "618aa3e5-9347-4d22-8f5e-d8e7522be956",
   "metadata": {},
   "outputs": [],
   "source": [
    "import pandas as pd\n",
    "all_data = []\n",
    "conditions = []\n",
    "\n",
    "for condition, array in preds_test.items():\n",
    "    all_data.append(array)\n",
    "    conditions.extend([condition] * array.shape[0])\n",
    "\n",
    "# Stack all data vertically to create a single array\n",
    "all_data_array = np.vstack(all_data)\n",
    "\n",
    "# Create a DataFrame for the .obs attribute\n",
    "obs_data = pd.DataFrame({\n",
    "    'condition': conditions\n",
    "})\n",
    "\n",
    "# Create the Anndata object\n",
    "adata_test_result = ad.AnnData(X=np.empty((len(all_data_array),2001)), obs=obs_data)\n",
    "adata_test_result.obsm[\"X_scVI_pred\"] = all_data_array"
   ]
  },
  {
   "cell_type": "code",
   "execution_count": null,
   "id": "4151a86a-bf44-4807-8a57-7ad431717f27",
   "metadata": {},
   "outputs": [],
   "source": [
    "adata_test_result.write(f\"/lustre/groups/ml01/workspace/ot_perturbation/models/otfm/sciplex/adata_test_with_predictions_{split}.h5ad\")\n"
   ]
  },
  {
   "cell_type": "code",
   "execution_count": null,
   "id": "6aac7aa2-f076-48ff-a6c5-f0e91e5a92a2",
   "metadata": {},
   "outputs": [],
   "source": []
  },
  {
   "cell_type": "code",
   "execution_count": null,
   "id": "c2579b0e-fb49-4ee6-8527-eaadba4a26e7",
   "metadata": {},
   "outputs": [],
   "source": []
  },
  {
   "cell_type": "code",
   "execution_count": null,
   "id": "bf9dd839-6297-4ec8-a14b-86a218f2480a",
   "metadata": {},
   "outputs": [],
   "source": []
  }
 ],
 "metadata": {
  "kernelspec": {
   "display_name": "cfp",
   "language": "python",
   "name": "cfp"
  },
  "language_info": {
   "codemirror_mode": {
    "name": "ipython",
    "version": 3
   },
   "file_extension": ".py",
   "mimetype": "text/x-python",
   "name": "python",
   "nbconvert_exporter": "python",
   "pygments_lexer": "ipython3",
   "version": "3.11.9"
  }
 },
 "nbformat": 4,
 "nbformat_minor": 5
}
