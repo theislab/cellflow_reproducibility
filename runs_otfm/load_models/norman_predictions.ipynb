{
 "cells": [
  {
   "cell_type": "code",
   "execution_count": null,
   "id": "f2e9844e-381b-4064-93e0-871fadbf2850",
   "metadata": {},
   "outputs": [],
   "source": [
    "import functools\n",
    "from typing import Literal, Optional, Iterable\n",
    "\n",
    "import jax\n",
    "import jax.numpy as jnp\n",
    "import jax.tree_util as jtu\n",
    "import numpy as np\n",
    "import optax\n",
    "import scanpy as sc\n",
    "from ott.neural import datasets\n",
    "from ott.neural.methods.flows import dynamics, otfm, genot\n",
    "from ott.neural.networks.layers import time_encoder\n",
    "from ot_pert.nets.nets import CondVelocityField\n",
    "from ott.solvers import utils as solver_utils\n",
    "from torch.utils.data import DataLoader\n",
    "from tqdm import tqdm\n",
    "import joypy\n",
    "import pandas as pd\n",
    "import pickle\n",
    "import yaml\n",
    "from ot_pert.nets.nets import VelocityFieldWithAttention\n",
    "from ot_pert.metrics import compute_metrics, compute_mean_metrics"
   ]
  },
  {
   "cell_type": "code",
   "execution_count": null,
   "id": "2415df30-3e5b-486b-8aff-16337533654e",
   "metadata": {},
   "outputs": [],
   "source": [
    "train_path = \"/lustre/groups/ml01/workspace/ot_perturbation/data/norman/adata_train_0_seen_genes.h5ad\"\n",
    "test_path = \"/lustre/groups/ml01/workspace/ot_perturbation/data/norman/adata_train_1_seen_genes.h5ad\"\n",
    "ood_path = \"/lustre/groups/ml01/workspace/ot_perturbation/data/norman/adata_train_2_seen_genes.h5ad\""
   ]
  },
  {
   "cell_type": "code",
   "execution_count": null,
   "id": "6ff6e208-a015-4359-8d27-4510d9a72b53",
   "metadata": {},
   "outputs": [],
   "source": [
    "adata_train = sc.read_h5ad(train_path)\n",
    "adata_train.obs = adata_train.obs.rename(columns={\"perturbation_name\": \"condition\"})\n",
    "adata_test = sc.read_h5ad(test_path)\n",
    "adata_test.obs = adata_test.obs.rename(columns={\"perturbation_name\": \"condition\"})\n",
    "adata_ood = sc.read_h5ad(ood_path)\n",
    "adata_ood.obs = adata_ood.obs.rename(columns={\"perturbation_name\": \"condition\"})\n"
   ]
  },
  {
   "cell_type": "code",
   "execution_count": null,
   "id": "924658a7-db12-49a7-bc9d-8bae50005be7",
   "metadata": {},
   "outputs": [],
   "source": [
    "train_data = load_data(adata_train, cfg, return_dl=False) if cfg.training.n_train_samples != 0 else {}\n",
    "test_data = load_data(adata_test, cfg, return_dl=False) if cfg.training.n_test_samples != 0 else {}\n",
    "ood_data = load_data(adata_ood, cfg, return_dl=False) if cfg.training.n_ood_samples != 0 else {}\n",
    "dl = load_data(adata_train, cfg, return_dl=True)\n",
    "comp_metrics_fn = compute_metrics_fast if cfg.training.fast_metrics else compute_metrics"
   ]
  },
  {
   "cell_type": "code",
   "execution_count": null,
   "id": "5d437f5b-ea1e-414b-a1b6-181089b91dd2",
   "metadata": {},
   "outputs": [],
   "source": [
    "PCs = 30\n",
    "obsm_key_data = \"X_pca\"\n",
    "obsm_key_cond_1 = \"emb_1\"\n",
    "obsm_key_cond_2 = \"emb_2\""
   ]
  },
  {
   "cell_type": "code",
   "execution_count": null,
   "id": "b2e5811f-5d6a-4afb-b30e-de282f6c28b8",
   "metadata": {},
   "outputs": [],
   "source": [
    "def load_data(adata, return_dl: bool):\n",
    "    \"\"\"Loads data and preprocesses it based on configuration.\"\"\"\n",
    "    dls = []\n",
    "    data_source = {}\n",
    "    data_target = {}\n",
    "    data_source_decoded = {}\n",
    "    data_target_decoded = {}\n",
    "    data_conditions = {}\n",
    "    source = adata[adata.obs[\"condition\"] == \"control\"].obsm[obsm_key_data][:,:PCs]\n",
    "    source_decoded = adata[adata.obs[\"condition\"] == \"control\"].X\n",
    "\n",
    "    for cond in adata.obs[\"condition\"].cat.categories:\n",
    "        if cond != \"control\":\n",
    "            target = adata[adata.obs[\"condition\"] == cond].obsm[cfg.dataset.obsm_key_data][:,:cfg.dataset.PCs]\n",
    "            target_decoded = adata[adata.obs[\"condition\"] == cond].X.A\n",
    "            condition_1 = adata[adata.obs[\"condition\"] == cond].obsm[cfg.dataset.obsm_key_cond_1]\n",
    "            condition_2 = adata[adata.obs[\"condition\"] == cond].obsm[cfg.dataset.obsm_key_cond_2]\n",
    "            assert np.all(np.all(condition_1 == condition_1[0], axis=1))\n",
    "            assert np.all(np.all(condition_2 == condition_2[0], axis=1))\n",
    "            expanded_arr = np.expand_dims(\n",
    "                np.concatenate((condition_1[0, :][None, :], condition_2[0, :][None, :]), axis=0), axis=0\n",
    "            )\n",
    "            conds = np.tile(expanded_arr, (len(source), 1, 1))\n",
    "\n",
    "            if return_dl:\n",
    "                dls.append(\n",
    "                    DataLoader(\n",
    "                        datasets.OTDataset(\n",
    "                            datasets.OTData(\n",
    "                                lin=source,\n",
    "                                condition=conds,\n",
    "                            ),\n",
    "                            datasets.OTData(lin=target),\n",
    "                        ),\n",
    "                        batch_size=cfg.training.batch_size,\n",
    "                        shuffle=True,\n",
    "                    )\n",
    "                )\n",
    "            else:\n",
    "                data_source[cond] = source\n",
    "                data_target[cond] = target\n",
    "                data_source_decoded[cond] = source_decoded\n",
    "                data_target_decoded[cond] = target_decoded\n",
    "                data_conditions[cond] = conds\n",
    "    if return_dl:\n",
    "        return ConditionalLoader(dls, seed=0)\n",
    "\n",
    "    deg_dict = {k: v for k, v in adata.uns[\"rank_genes_groups_cov_all\"].items() if k in data_conditions.keys()}\n",
    "\n",
    "    return {\n",
    "        \"source\": data_source,\n",
    "        \"target\": data_target,\n",
    "        \"source_decoded\": data_source_decoded,\n",
    "        \"target_decoded\": data_target_decoded,\n",
    "        \"conditions\": data_conditions,\n",
    "        \"deg_dict\": deg_dict,\n",
    "    }\n"
   ]
  },
  {
   "cell_type": "code",
   "execution_count": null,
   "id": "8e633939-6a03-4bb3-a624-18125ff84dc6",
   "metadata": {},
   "outputs": [],
   "source": [
    "test_data = load_data(adata_test) \n",
    "ood_data = load_data(adata_ood) "
   ]
  },
  {
   "cell_type": "code",
   "execution_count": null,
   "id": "3b70f748-75ce-4769-8f0d-2d6560974ba0",
   "metadata": {},
   "outputs": [],
   "source": [
    "yaml_config = \"\"\"\n",
    "num_heads: 4\n",
    "qkv_feature_dim: 32\n",
    "max_seq_length: 2\n",
    "hidden_dims: [1024, 1024, 1024]\n",
    "output_dims: [1024, 1024, 1024]\n",
    "condition_dims: [4096, 4096, 4096]\n",
    "time_dims: [512, 512, 512]\n",
    "time_n_freqs: 1024\n",
    "flow_noise: 1.0\n",
    "learning_rate: 0.00005\n",
    "multi_steps: 20\n",
    "epsilon: 0.01\n",
    "tau_a: 0.999\n",
    "tau_b: 0.999\n",
    "dropout_rate: 0.2\n",
    "\"\"\""
   ]
  },
  {
   "cell_type": "code",
   "execution_count": null,
   "id": "737cfe1a-9e47-447e-9f2b-9926cb21dfb8",
   "metadata": {},
   "outputs": [],
   "source": [
    "model_config = yaml.safe_load(yaml_config)"
   ]
  },
  {
   "cell_type": "code",
   "execution_count": null,
   "id": "ed588d2e-df0f-4aaf-b4b9-c54eb91e53ea",
   "metadata": {},
   "outputs": [],
   "source": [
    "output_dim = 30\n",
    "condition_dim = 1024"
   ]
  },
  {
   "cell_type": "code",
   "execution_count": null,
   "id": "0ce35683-24e0-4c33-934a-aa1ec5e3f927",
   "metadata": {},
   "outputs": [],
   "source": [
    "vf = VelocityFieldWithAttention(\n",
    "    num_heads=model_config[\"num_heads\"],\n",
    "    qkv_feature_dim=model_config[\"qkv_feature_dim\"],\n",
    "    max_seq_length=model_config[\"max_seq_length\"],\n",
    "    hidden_dims=model_config[\"hidden_dims\"],\n",
    "    time_dims=model_config[\"time_dims\"],\n",
    "    output_dims=model_config[\"output_dims\"] + [output_dim],\n",
    "    condition_dims=model_config[\"condition_dims\"],\n",
    "    dropout_rate=model_config[\"dropout_rate\"],\n",
    "    time_encoder=functools.partial(time_encoder.cyclical_time_encoder, n_freqs=model_config[\"time_n_freqs\"]),\n",
    ")\n",
    "\n",
    "\n",
    "model = otfm.OTFlowMatching(\n",
    "    vf,\n",
    "    flow=dynamics.ConstantNoiseFlow(model_config[\"flow_noise\"]),\n",
    "    match_fn=None,\n",
    "    condition_dim=condition_dim,\n",
    "    rng=jax.random.PRNGKey(13),\n",
    "    optimizer=optax.MultiSteps(optax.adam(model_config[\"learning_rate\"]), model_config[\"multi_steps\"]),\n",
    ")"
   ]
  },
  {
   "cell_type": "code",
   "execution_count": null,
   "id": "5faef36f-1dd2-473d-acce-684b7bf80c03",
   "metadata": {},
   "outputs": [],
   "source": [
    "load_path = f\"/lustre/groups/ml01/workspace/ot_perturbation/models/otfm/combosciplex/fearless-durian-2804_model.pkl\"\n",
    "\n",
    "# Open the file containing the saved parameters\n",
    "with open(load_path, 'rb') as f:\n",
    "    loaded_params = pickle.load(f)"
   ]
  },
  {
   "cell_type": "code",
   "execution_count": null,
   "id": "a8d725db-cef8-43c4-a669-702185a933e8",
   "metadata": {},
   "outputs": [],
   "source": [
    "from flax.core.frozen_dict import FrozenDict\n",
    "new_params = FrozenDict(loaded_params)\n",
    "\n",
    "if hasattr(model.vf_state, 'replace'):\n",
    "    model.vf_state = model.vf_state.replace(params=new_params)\n",
    "else:\n",
    "    raise ValueError"
   ]
  },
  {
   "cell_type": "code",
   "execution_count": null,
   "id": "c51811d4-7ee5-476e-9172-e7d86dca8034",
   "metadata": {},
   "outputs": [],
   "source": [
    "predictions_test = jtu.tree_map(model.transport, test_data[\"source\"], test_data[\"conditions\"])\n"
   ]
  },
  {
   "cell_type": "code",
   "execution_count": null,
   "id": "7c3a2872-2b84-43ea-82f2-08cc76fa68d0",
   "metadata": {},
   "outputs": [],
   "source": [
    "predictions_ood = jtu.tree_map(model.transport, ood_data[\"source\"], ood_data[\"conditions\"])\n"
   ]
  },
  {
   "cell_type": "code",
   "execution_count": null,
   "id": "40375b42-a8b0-4cea-9de3-cf7ff737f9ff",
   "metadata": {},
   "outputs": [],
   "source": [
    "def reconstruct_data(embedding, projection_matrix, mean_to_add):\n",
    "    \"\"\"Reconstructs data from projections.\"\"\"\n",
    "    return np.matmul(embedding, projection_matrix.T) + mean_to_add"
   ]
  },
  {
   "cell_type": "code",
   "execution_count": null,
   "id": "8b30d188-cfa0-4f6a-8e0a-f94451a7b290",
   "metadata": {},
   "outputs": [],
   "source": [
    "reconstruct_data_fn = functools.partial(\n",
    "    reconstruct_data, projection_matrix=adata_train.varm[\"PCs\"], mean_to_add=adata_train.varm[\"X_train_mean\"].T\n",
    ")"
   ]
  },
  {
   "cell_type": "code",
   "execution_count": null,
   "id": "07911972-2183-49aa-9bf1-480a6dff7c28",
   "metadata": {},
   "outputs": [],
   "source": [
    "predictions_test_decoded = jtu.tree_map(reconstruct_data_fn, predictions_test)\n",
    "predictions_ood_decoded = jtu.tree_map(reconstruct_data_fn, predictions_ood)"
   ]
  },
  {
   "cell_type": "code",
   "execution_count": null,
   "id": "fac620da-4f26-42cf-97ae-3b1ccaf79a3a",
   "metadata": {},
   "outputs": [],
   "source": []
  },
  {
   "cell_type": "code",
   "execution_count": null,
   "id": "c0522b22-59c3-4bf8-9457-1cb37cef275b",
   "metadata": {},
   "outputs": [],
   "source": []
  },
  {
   "cell_type": "code",
   "execution_count": null,
   "id": "9c769d1d-2774-49e1-adac-f48e7fbfa0e1",
   "metadata": {},
   "outputs": [],
   "source": []
  },
  {
   "cell_type": "code",
   "execution_count": null,
   "id": "a1cb1940-f050-4ed6-b0b9-6bc52c91edfa",
   "metadata": {},
   "outputs": [],
   "source": []
  }
 ],
 "metadata": {
  "kernelspec": {
   "display_name": "Python 3 (ipykernel)",
   "language": "python",
   "name": "python3"
  },
  "language_info": {
   "codemirror_mode": {
    "name": "ipython",
    "version": 3
   },
   "file_extension": ".py",
   "mimetype": "text/x-python",
   "name": "python",
   "nbconvert_exporter": "python",
   "pygments_lexer": "ipython3",
   "version": "3.12.3"
  }
 },
 "nbformat": 4,
 "nbformat_minor": 5
}
