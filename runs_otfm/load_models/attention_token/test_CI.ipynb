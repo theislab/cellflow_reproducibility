{
 "cells": [
  {
   "cell_type": "code",
   "execution_count": null,
   "id": "fc9a4045-32c7-4760-8302-5ab914087960",
   "metadata": {},
   "outputs": [],
   "source": [
    "results['ts'] = TheilSenRegressor(fit_intercept=False,\n",
    "                      max_subpopulation=1e5,\n",
    "                      max_iter=1000,\n",
    "                      random_state=1000)   \n",
    "X = singles_expr\n",
    "y = double_expr\n",
    "results['ts'].fit(X, y.ravel())\n",
    "Zts = results['ts'].predict(X)\n",
    "results['c1'] = results['ts'].coef_[0]\n",
    "results['c2'] = results['ts'].coef_[1]\n",
    "results['mag'] = np.sqrt((results['c1']**2 + results['c2']**2))"
   ]
  }
 ],
 "metadata": {
  "kernelspec": {
   "display_name": "cfp",
   "language": "python",
   "name": "cfp"
  },
  "language_info": {
   "codemirror_mode": {
    "name": "ipython",
    "version": 3
   },
   "file_extension": ".py",
   "mimetype": "text/x-python",
   "name": "python",
   "nbconvert_exporter": "python",
   "pygments_lexer": "ipython3",
   "version": "3.11.9"
  }
 },
 "nbformat": 4,
 "nbformat_minor": 5
}
