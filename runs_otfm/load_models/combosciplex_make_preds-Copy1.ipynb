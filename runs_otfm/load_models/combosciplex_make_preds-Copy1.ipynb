{
 "cells": [
  {
   "cell_type": "code",
   "execution_count": 1,
   "id": "aa22631a-b18b-49bb-a632-e22e22d58925",
   "metadata": {},
   "outputs": [],
   "source": [
    "import functools\n",
    "from typing import Literal, Optional, Iterable\n",
    "\n",
    "import jax\n",
    "import jax.numpy as jnp\n",
    "import jax.tree_util as jtu\n",
    "import numpy as np\n",
    "import optax\n",
    "import scanpy as sc\n",
    "from ott.neural import datasets\n",
    "from ott.neural.methods.flows import dynamics, otfm, genot\n",
    "from ott.neural.networks.layers import time_encoder\n",
    "from ot_pert.nets.nets import CondVelocityField\n",
    "from ott.solvers import utils as solver_utils\n",
    "from torch.utils.data import DataLoader\n",
    "from tqdm import tqdm\n",
    "import joypy\n",
    "import pandas as pd\n",
    "import pickle\n",
    "import yaml\n",
    "from ot_pert.nets.nets import VelocityFieldWithAttention\n",
    "from ot_pert.metrics import compute_metrics, compute_mean_metrics"
   ]
  },
  {
   "cell_type": "code",
   "execution_count": 2,
   "id": "0f58d84e-3b3a-4c96-9c14-3fa641f587bb",
   "metadata": {},
   "outputs": [],
   "source": [
    "adata= sc.read_h5ad(\"/lustre/groups/ml01/workspace/ot_perturbation/data/combosciplex/adata_train_300.h5ad\")"
   ]
  },
  {
   "cell_type": "code",
   "execution_count": 3,
   "id": "4eb08397-cd78-48a6-a6f6-3bd1bc1c10f6",
   "metadata": {},
   "outputs": [],
   "source": [
    "bdata= sc.read_h5ad(\"/lustre/groups/ml01/workspace/ot_perturbation/data/combosciplex/adata_train_30.h5ad\")"
   ]
  },
  {
   "cell_type": "code",
   "execution_count": 4,
   "id": "0b12b965-e108-4a57-bd2f-05ff978f0004",
   "metadata": {},
   "outputs": [
    {
     "data": {
      "text/plain": [
       "array([ 2.11913362e-02,  2.35343855e-02,  2.95660775e-02,  5.75021096e-03,\n",
       "        1.82837453e-02,  2.00974364e-02,  2.87587177e-02,  6.00282773e-02,\n",
       "       -1.52458111e-02,  1.10245459e-02, -1.47794914e-02, -2.62054503e-02,\n",
       "       -2.52063968e-03, -8.42657872e-03,  2.70047430e-02, -4.40032361e-03,\n",
       "       -9.60680190e-03, -2.42009498e-02, -1.94818934e-03, -1.42600136e-02,\n",
       "        2.17584576e-02, -2.79323738e-02,  2.63514817e-02,  5.40776551e-03,\n",
       "        7.21516553e-03,  7.19547551e-03, -1.10240839e-03,  2.96931574e-03,\n",
       "       -1.82247292e-02,  2.94831092e-03,  4.80166590e-03,  5.45332488e-03,\n",
       "        3.70094134e-03, -1.81436315e-02,  2.03421842e-02,  1.48177636e-03,\n",
       "       -1.69364940e-02,  9.86076239e-03, -9.40266903e-03,  4.82443208e-03,\n",
       "       -1.54451299e-02,  1.64517779e-02, -3.30265984e-03, -6.44207327e-03,\n",
       "       -3.13839270e-03, -2.43967492e-02,  1.39428452e-02, -2.34153029e-02,\n",
       "        2.88831885e-03,  1.37668364e-02, -3.22198845e-03,  1.04503147e-02,\n",
       "        1.00420043e-02,  1.45004187e-02,  1.66826753e-03, -1.67430285e-02,\n",
       "       -1.17664542e-02, -1.25378566e-02,  7.07454421e-03, -1.04841031e-02,\n",
       "        2.41419561e-02, -1.66772790e-02,  7.28096347e-03,  3.34023294e-04,\n",
       "        1.08717680e-02, -8.94533878e-04, -5.18551888e-03, -3.53936339e-04,\n",
       "        2.95668049e-03, -9.93943680e-03,  2.46690423e-03, -4.19238303e-03,\n",
       "       -1.00702159e-02, -1.51950857e-02, -4.61089378e-03, -1.44849103e-02,\n",
       "        6.01057429e-03, -1.54601736e-02, -1.16260545e-02,  6.04152260e-03,\n",
       "        6.70675794e-03, -5.85471699e-03,  9.81050637e-03, -3.10761359e-04,\n",
       "        9.19924583e-03, -1.22071709e-03, -1.52879497e-02,  1.54105779e-02,\n",
       "        5.02604665e-03,  1.85968615e-02, -5.95400762e-03, -8.93584173e-03,\n",
       "       -3.35963769e-03, -1.06700435e-02, -7.00292643e-03,  2.89571681e-03,\n",
       "        4.10750275e-03, -2.36270688e-02, -1.49168819e-03,  8.10348429e-03,\n",
       "        1.18653793e-02,  2.14496925e-02, -2.08886433e-02, -6.55437179e-04,\n",
       "       -1.85480490e-02,  4.27684560e-03,  2.38230266e-03,  2.18048468e-02,\n",
       "        1.51792830e-02, -1.20566122e-03, -6.75285235e-03,  5.56793809e-03,\n",
       "        7.37085240e-03, -1.15603702e-02, -2.83210222e-02, -1.42746326e-02,\n",
       "       -6.40393654e-03,  7.63141690e-03, -7.76284561e-03, -2.00253576e-02,\n",
       "       -2.24030558e-02,  1.13231484e-02, -1.98225956e-02,  2.78576799e-02,\n",
       "       -9.73707251e-03,  2.67908466e-03,  3.67371715e-03, -7.23340735e-03,\n",
       "        8.34378228e-03,  9.33159236e-03, -2.52455734e-02,  1.17741507e-02,\n",
       "        1.11925788e-02,  2.89768865e-03,  5.49219409e-03,  2.22592112e-02,\n",
       "       -4.76103602e-03, -1.13645466e-02, -1.65223572e-02,  9.03638825e-03,\n",
       "        1.78560317e-02, -2.67176004e-03,  4.08181315e-03, -1.10089537e-02,\n",
       "        5.26151387e-03, -3.05695320e-03,  1.58402754e-03, -6.55415654e-03,\n",
       "       -2.13438296e-03, -1.33396527e-02,  7.61955697e-03, -2.70904489e-02,\n",
       "        5.66899078e-03, -6.23053499e-03,  2.37409715e-02, -1.13569433e-02,\n",
       "       -6.95322594e-03,  1.68101620e-02, -5.02529135e-03,  8.85289628e-03,\n",
       "        1.08924247e-02,  8.41111690e-03,  7.52336439e-03,  6.58435468e-03,\n",
       "        1.11156488e-02,  3.03219724e-03,  1.62366740e-02, -8.53368826e-03,\n",
       "       -9.86007508e-03,  1.61177423e-02, -1.74696986e-02, -1.21739479e-02,\n",
       "       -1.27323205e-02, -3.09654884e-02,  4.32375679e-03, -6.28091814e-03,\n",
       "        1.91521645e-02,  1.14506809e-02, -2.43566744e-02, -4.13214564e-02,\n",
       "        1.69989131e-02, -3.18468660e-02,  2.21479288e-03,  1.85221806e-02,\n",
       "       -5.48488740e-03, -3.66441347e-02, -2.75768992e-02, -6.35136245e-03,\n",
       "        1.52912980e-03, -1.43305808e-02,  3.16512100e-02,  3.00149806e-02,\n",
       "        5.03448434e-02, -3.82915102e-02, -7.36118667e-03,  4.89964820e-02,\n",
       "       -1.81589685e-02,  7.30184186e-03,  5.98450862e-02, -4.16322052e-02,\n",
       "        1.21688331e-02,  2.48573311e-02,  3.03403810e-02, -1.81826018e-02,\n",
       "       -3.99502218e-02, -1.38363512e-02,  5.91148213e-02, -1.60540286e-02,\n",
       "       -2.38054823e-02, -2.05788147e-02,  3.66957411e-02,  2.98106503e-02,\n",
       "        1.67522337e-02, -8.85761995e-03,  1.64134372e-02,  2.17422694e-02,\n",
       "        2.94271391e-02,  2.30465215e-02, -3.99007984e-02, -2.60802377e-02,\n",
       "       -4.30468991e-02,  2.73280293e-02, -3.16322669e-02, -1.25424154e-02,\n",
       "        1.61890816e-02, -4.83359098e-02, -4.07979963e-03, -1.35632241e-02,\n",
       "       -2.28483714e-02,  1.47491926e-02,  4.86490726e-02, -3.75543255e-03,\n",
       "        1.74430031e-02, -6.04281798e-02, -1.77458730e-02, -3.79924998e-02,\n",
       "        8.97384062e-03, -3.30257043e-03,  1.30999950e-03,  1.54793737e-02,\n",
       "       -1.18598053e-02, -2.62331422e-02,  2.86230072e-03,  1.73672233e-02,\n",
       "       -3.79466191e-02,  3.72870266e-02,  5.87140676e-03, -2.03954745e-02,\n",
       "       -2.01753322e-02,  1.29909366e-02, -2.60007344e-02,  2.71723811e-02,\n",
       "       -2.35008057e-02,  5.10688908e-02,  1.32969981e-02, -1.70003958e-02,\n",
       "        3.25712748e-02,  1.37010068e-02, -3.13643320e-03,  3.67227755e-02,\n",
       "        3.26718427e-02, -6.44919919e-06, -2.17555877e-04, -5.15496209e-02,\n",
       "       -4.00457606e-02,  5.06566614e-02, -1.48888631e-02,  1.69060510e-02,\n",
       "        1.38772381e-02,  3.22589800e-02, -3.59098380e-03,  2.15627365e-02,\n",
       "        1.06592523e-02,  5.00079617e-02,  3.53284106e-02,  3.86010529e-03,\n",
       "        1.95964966e-02,  3.13837416e-02, -1.39469868e-02,  3.48224714e-02,\n",
       "        8.53598397e-03,  4.47551683e-02,  4.98657301e-02, -8.20929930e-02,\n",
       "        6.28304929e-02,  4.64889929e-02,  2.12782267e-02, -2.79890560e-02,\n",
       "        7.21229911e-02, -2.41816100e-02, -1.28834946e-02,  5.24136573e-02,\n",
       "       -8.20758566e-03, -4.66933101e-02,  2.68015023e-02,  7.51191601e-02,\n",
       "       -2.24607512e-02,  4.36253734e-02,  8.10150504e-02,  2.39015557e-02])"
      ]
     },
     "execution_count": 4,
     "metadata": {},
     "output_type": "execute_result"
    }
   ],
   "source": [
    "adata.varm[\"PCs\"][0]"
   ]
  },
  {
   "cell_type": "code",
   "execution_count": 2,
   "id": "9da8b5a4-98ab-4b88-9ccb-2ae858c658ee",
   "metadata": {},
   "outputs": [],
   "source": [
    "adata_train_path= \"/lustre/groups/ml01/workspace/ot_perturbation/data/combosciplex/adata_train_300.h5ad\"\n",
    "adata_test_path= \"/lustre/groups/ml01/workspace/ot_perturbation/data/combosciplex/adata_test_300.h5ad\"\n",
    "adata_ood_path= \"/lustre/groups/ml01/workspace/ot_perturbation/data/combosciplex/adata_ood_300.h5ad\"\n"
   ]
  },
  {
   "cell_type": "code",
   "execution_count": 3,
   "id": "e1fea42f-2be0-466f-afa4-3bc39bcf5165",
   "metadata": {},
   "outputs": [],
   "source": [
    "adata_train = sc.read_h5ad(adata_train_path)\n",
    "adata_test = sc.read_h5ad(adata_test_path)\n",
    "adata_ood = sc.read_h5ad(adata_ood_path)\n",
    "   "
   ]
  },
  {
   "cell_type": "code",
   "execution_count": 4,
   "id": "e00a3bfe-9dc1-40e9-811f-2a4dabbc753e",
   "metadata": {},
   "outputs": [],
   "source": [
    "OBSM_KEY_COND_1 = \"ecfp_drug_1\"\n",
    "OBSM_KEY_COND_2 = \"ecfp_drug_2\"\n",
    "OBSM_KEY_DATA = \"X_pca\""
   ]
  },
  {
   "cell_type": "code",
   "execution_count": 5,
   "id": "d58d2ca1-d45f-485f-b517-75c309ce63cd",
   "metadata": {},
   "outputs": [],
   "source": [
    "def load_data(adata):\n",
    "    \"\"\"Loads data and preprocesses it based on configuration.\"\"\"\n",
    "    dls = []\n",
    "    data_source = {}\n",
    "    data_target = {}\n",
    "    data_source_decoded = {}\n",
    "    data_target_decoded = {}\n",
    "    data_conditions = {}\n",
    "    source = adata[adata.obs[\"condition\"] == \"control\"].obsm[OBSM_KEY_DATA]\n",
    "    source_decoded = adata[adata.obs[\"condition\"] == \"control\"].X\n",
    "\n",
    "    for cond in adata.obs[\"condition\"].cat.categories:\n",
    "        if cond != \"control\":\n",
    "            target = adata[adata.obs[\"condition\"] == cond].obsm[OBSM_KEY_DATA]\n",
    "            target_decoded = adata[adata.obs[\"condition\"] == cond].X.A\n",
    "            condition_1 = adata[adata.obs[\"condition\"] == cond].obsm[OBSM_KEY_COND_1]\n",
    "            condition_2 = adata[adata.obs[\"condition\"] == cond].obsm[OBSM_KEY_COND_2]\n",
    "            assert np.all(np.all(condition_1 == condition_1[0], axis=1))\n",
    "            assert np.all(np.all(condition_2 == condition_2[0], axis=1))\n",
    "            expanded_arr = np.expand_dims(\n",
    "                np.concatenate((condition_1[0, :][None, :], condition_2[0, :][None, :]), axis=0), axis=0\n",
    "            )\n",
    "            conds = np.tile(expanded_arr, (len(source), 1, 1))\n",
    "\n",
    "            \n",
    "            data_source[cond] = source\n",
    "            data_target[cond] = target\n",
    "            data_source_decoded[cond] = source_decoded\n",
    "            data_target_decoded[cond] = target_decoded\n",
    "            data_conditions[cond] = conds\n",
    "    deg_dict = {k: v for k, v in adata.uns[\"rank_genes_groups_cov_all\"].items() if k in data_conditions.keys()}\n",
    "\n",
    "    return {\n",
    "        \"source\": data_source,\n",
    "        \"target\": data_target,\n",
    "        \"source_decoded\": data_source_decoded,\n",
    "        \"target_decoded\": data_target_decoded,\n",
    "        \"conditions\": data_conditions,\n",
    "        \"deg_dict\": deg_dict,\n",
    "    }\n",
    "    "
   ]
  },
  {
   "cell_type": "code",
   "execution_count": 6,
   "id": "daedc455-af73-42e5-b116-75735e9dd872",
   "metadata": {},
   "outputs": [],
   "source": [
    "test_data = load_data(adata_test) \n",
    "ood_data = load_data(adata_ood) \n",
    "    "
   ]
  },
  {
   "cell_type": "code",
   "execution_count": 7,
   "id": "5069e633-5958-4145-91d7-3e2323f23f9d",
   "metadata": {},
   "outputs": [],
   "source": [
    "yaml_config = \"\"\"\n",
    "num_heads: 4\n",
    "qkv_feature_dim: 16\n",
    "max_seq_length: 2\n",
    "hidden_dims: [1024, 1024, 1024]\n",
    "output_dims: [1024, 1024, 1024, 1024]\n",
    "condition_dims: [256, 256, 256]\n",
    "time_dims: [512, 512, 512]\n",
    "time_n_freqs: 1024\n",
    "flow_noise: 1.0\n",
    "learning_rate: 0.00005\n",
    "multi_steps: 20\n",
    "epsilon: 0.01\n",
    "tau_a: 0.999\n",
    "tau_b: 0.999\n",
    "dropout_rate: 0.1\n",
    "\"\"\"\n"
   ]
  },
  {
   "cell_type": "code",
   "execution_count": 8,
   "id": "3594d531-7c2c-416f-8292-460f63425bcf",
   "metadata": {},
   "outputs": [],
   "source": [
    "model_config = yaml.safe_load(yaml_config)"
   ]
  },
  {
   "cell_type": "code",
   "execution_count": 9,
   "id": "817f9139-614d-44ae-82d7-c90d0d023371",
   "metadata": {},
   "outputs": [
    {
     "data": {
      "text/plain": [
       "{'num_heads': 4,\n",
       " 'qkv_feature_dim': 16,\n",
       " 'max_seq_length': 2,\n",
       " 'hidden_dims': [1024, 1024, 1024],\n",
       " 'output_dims': [1024, 1024, 1024, 1024],\n",
       " 'condition_dims': [256, 256, 256],\n",
       " 'time_dims': [512, 512, 512],\n",
       " 'time_n_freqs': 1024,\n",
       " 'flow_noise': 1.0,\n",
       " 'learning_rate': 5e-05,\n",
       " 'multi_steps': 20,\n",
       " 'epsilon': 0.01,\n",
       " 'tau_a': 0.999,\n",
       " 'tau_b': 0.999,\n",
       " 'dropout_rate': 0.1}"
      ]
     },
     "execution_count": 9,
     "metadata": {},
     "output_type": "execute_result"
    }
   ],
   "source": [
    "model_config\n"
   ]
  },
  {
   "cell_type": "code",
   "execution_count": 10,
   "id": "2997ff51-3aac-487f-9ffd-8b119358693d",
   "metadata": {},
   "outputs": [],
   "source": [
    "output_dim = 300\n",
    "condition_dim = 1024"
   ]
  },
  {
   "cell_type": "code",
   "execution_count": 11,
   "id": "ce71505e-e174-4bbb-b397-2abf1a654432",
   "metadata": {},
   "outputs": [
    {
     "name": "stderr",
     "output_type": "stream",
     "text": [
      "2024-06-07 09:28:59.729865: W external/xla/xla/service/gpu/nvptx_compiler.cc:718] The NVIDIA driver's CUDA version is 12.3 which is older than the ptxas CUDA version (12.4.131). Because the driver is older than the ptxas version, XLA is disabling parallel compilation, which may slow down compilation. You should update your NVIDIA driver or use the NVIDIA-provided CUDA forward compatibility packages.\n"
     ]
    }
   ],
   "source": [
    "vf = VelocityFieldWithAttention(\n",
    "    num_heads=model_config[\"num_heads\"],\n",
    "    qkv_feature_dim=model_config[\"qkv_feature_dim\"],\n",
    "    max_seq_length=model_config[\"max_seq_length\"],\n",
    "    hidden_dims=model_config[\"hidden_dims\"],\n",
    "    time_dims=model_config[\"time_dims\"],\n",
    "    output_dims=model_config[\"output_dims\"] + [output_dim],\n",
    "    condition_dims=model_config[\"condition_dims\"],\n",
    "    dropout_rate=model_config[\"dropout_rate\"],\n",
    "    time_encoder=functools.partial(time_encoder.cyclical_time_encoder, n_freqs=model_config[\"time_n_freqs\"]),\n",
    ")\n",
    "\n",
    "\n",
    "model = otfm.OTFlowMatching(\n",
    "    vf,\n",
    "    flow=dynamics.ConstantNoiseFlow(model_config[\"flow_noise\"]),\n",
    "    match_fn=None,\n",
    "    condition_dim=condition_dim,\n",
    "    rng=jax.random.PRNGKey(13),\n",
    "    optimizer=optax.MultiSteps(optax.adam(model_config[\"learning_rate\"]), model_config[\"multi_steps\"]),\n",
    ")\n"
   ]
  },
  {
   "cell_type": "code",
   "execution_count": 12,
   "id": "d88122c2-668f-406b-9525-62fd6dc60536",
   "metadata": {},
   "outputs": [],
   "source": [
    "load_path = f\"/lustre/groups/ml01/workspace/ot_perturbation/models/otfm/combosciplex/confused-feather-2848_model.pkl\"\n",
    "\n",
    "# Open the file containing the saved parameters\n",
    "with open(load_path, 'rb') as f:\n",
    "    loaded_params = pickle.load(f)"
   ]
  },
  {
   "cell_type": "code",
   "execution_count": 13,
   "id": "5583fb3c-6380-4318-b6f3-4cd88514d4e8",
   "metadata": {},
   "outputs": [],
   "source": [
    "from flax.core.frozen_dict import FrozenDict\n",
    "new_params = FrozenDict(loaded_params)\n",
    "\n",
    "if hasattr(model.vf_state, 'replace'):\n",
    "    model.vf_state = model.vf_state.replace(params=new_params)\n",
    "else:\n",
    "    raise ValueError"
   ]
  },
  {
   "cell_type": "code",
   "execution_count": 14,
   "id": "6b80d242-c74a-45a7-88f9-ab9dc632f438",
   "metadata": {},
   "outputs": [],
   "source": [
    "predictions_test = jtu.tree_map(model.transport, test_data[\"source\"], test_data[\"conditions\"])"
   ]
  },
  {
   "cell_type": "code",
   "execution_count": 15,
   "id": "9e53127d-5d98-4d39-85b5-55f6cd9791c8",
   "metadata": {},
   "outputs": [],
   "source": [
    "predictions_ood = jtu.tree_map(model.transport, ood_data[\"source\"], ood_data[\"conditions\"])"
   ]
  },
  {
   "cell_type": "code",
   "execution_count": 16,
   "id": "a0d4ef34-8289-4b02-92f5-ddc7c9232603",
   "metadata": {},
   "outputs": [],
   "source": [
    "def reconstruct_data(embedding, projection_matrix, mean_to_add):\n",
    "    \"\"\"Reconstructs data from projections.\"\"\"\n",
    "    return np.matmul(embedding, projection_matrix.T) + mean_to_add\n"
   ]
  },
  {
   "cell_type": "code",
   "execution_count": 17,
   "id": "200a71c3-8579-40bb-9e99-0b4a59b37710",
   "metadata": {},
   "outputs": [],
   "source": [
    "reconstruct_data_fn = functools.partial(\n",
    "    reconstruct_data, projection_matrix=adata_train.varm[\"PCs\"], mean_to_add=adata_train.varm[\"X_train_mean\"].T\n",
    ")"
   ]
  },
  {
   "cell_type": "code",
   "execution_count": 18,
   "id": "296be5f8-7d53-4b07-a39d-d9e3460dd9bf",
   "metadata": {},
   "outputs": [],
   "source": [
    "predictions_test_decoded = jtu.tree_map(reconstruct_data_fn, predictions_test)\n",
    "predictions_ood_decoded = jtu.tree_map(reconstruct_data_fn, predictions_ood)"
   ]
  },
  {
   "cell_type": "code",
   "execution_count": 19,
   "id": "7c09db6c-de3a-4521-af75-4e7e13617e2f",
   "metadata": {},
   "outputs": [],
   "source": [
    "test_metrics_encoded = jax.tree_util.tree_map(compute_metrics, test_data[\"target\"], predictions_test)\n",
    "mean_test_metrics_encoded = compute_mean_metrics(test_metrics_encoded, prefix=\"encoded_test_\")\n",
    "\n",
    "test_metrics_decoded = jax.tree_util.tree_map(compute_metrics, test_data[\"target_decoded\"], predictions_test_decoded)\n",
    "mean_test_metrics_decoded = compute_mean_metrics(test_metrics_decoded, prefix=\"decoded_test_\")"
   ]
  },
  {
   "cell_type": "code",
   "execution_count": 20,
   "id": "e250b62e-767d-4474-b15a-a0f09bf89f3c",
   "metadata": {},
   "outputs": [],
   "source": [
    "ood_metrics_encoded = jax.tree_util.tree_map(compute_metrics, ood_data[\"target\"], predictions_ood)\n",
    "mean_ood_metrics_encoded = compute_mean_metrics(ood_metrics_encoded, prefix=\"encoded_ood_\")\n",
    "\n",
    "ood_metrics_decoded = jax.tree_util.tree_map(compute_metrics, ood_data[\"target_decoded\"], predictions_ood_decoded)\n",
    "mean_ood_metrics_decoded = compute_mean_metrics(ood_metrics_decoded, prefix=\"decoded_ood_\")"
   ]
  },
  {
   "cell_type": "code",
   "execution_count": 21,
   "id": "6382313f-7258-41ca-8c27-8043751d3be1",
   "metadata": {},
   "outputs": [],
   "source": [
    "test_deg_dict = {k: v for k,v in adata_train.uns['rank_genes_groups_cov_all'].items() if k in test_data[\"conditions\"].keys()}\n",
    "ood_deg_dict = {k: v for k,v in adata_train.uns['rank_genes_groups_cov_all'].items() if k in ood_data[\"conditions\"].keys()}"
   ]
  },
  {
   "cell_type": "code",
   "execution_count": 22,
   "id": "e1670d5d-eb41-4f11-805a-db7b3b8daf8a",
   "metadata": {},
   "outputs": [
    {
     "data": {
      "text/plain": [
       "{'decoded_test_r_squared': 0.9854142226833035,\n",
       " 'decoded_test_sinkhorn_div_1': 115.47785362830528,\n",
       " 'decoded_test_sinkhorn_div_10': 79.89690457857571,\n",
       " 'decoded_test_sinkhorn_div_100': 3.126964862530048,\n",
       " 'decoded_test_e_distance': 2.6889577248873056,\n",
       " 'decoded_test_mmd': 0.016066037292163278}"
      ]
     },
     "execution_count": 22,
     "metadata": {},
     "output_type": "execute_result"
    }
   ],
   "source": [
    "mean_test_metrics_decoded"
   ]
  },
  {
   "cell_type": "code",
   "execution_count": 23,
   "id": "c88436a5-79d6-4b46-bd92-a3a71e5ae9d4",
   "metadata": {},
   "outputs": [],
   "source": [
    "def get_mask(x, y, var_names):\n",
    "    return x[:, [gene in y for gene in var_names]]\n",
    "\n",
    "mask_fn = functools.partial(get_mask, var_names=adata_train.var_names)\n",
    "\n",
    "prediction_decoded_test_deg = jtu.tree_map(mask_fn, predictions_test_decoded, test_deg_dict)\n",
    "target_decoded_test_deg = jax.tree_util.tree_map(mask_fn, test_data[\"target_decoded\"], test_deg_dict)\n",
    "\n",
    "prediction_decoded_ood_deg = jtu.tree_map(mask_fn, predictions_ood_decoded, ood_deg_dict)\n",
    "target_decoded_ood_deg = jax.tree_util.tree_map(mask_fn, ood_data[\"target_decoded\"], ood_deg_dict)\n",
    "            "
   ]
  },
  {
   "cell_type": "code",
   "execution_count": 24,
   "id": "e9c048dc-40ec-4c38-a5e3-65d42c911bc6",
   "metadata": {},
   "outputs": [],
   "source": [
    "\n",
    "predictions_test_deg = jax.tree_util.tree_map(mask_fn, predictions_test_decoded, test_deg_dict)\n",
    "target_test_deg = jax.tree_util.tree_map(mask_fn, test_data[\"target_decoded\"], test_deg_dict)\n",
    "\n",
    "predictions_ood_deg = jax.tree_util.tree_map(mask_fn, predictions_ood_decoded, ood_deg_dict)\n",
    "target_ood_deg = jax.tree_util.tree_map(mask_fn, ood_data[\"target_decoded\"], ood_deg_dict)"
   ]
  },
  {
   "cell_type": "code",
   "execution_count": 25,
   "id": "2eb7bd38-0739-4795-a1a0-75c70e912550",
   "metadata": {},
   "outputs": [],
   "source": [
    "test_metrics_deg = jtu.tree_map(compute_metrics, target_test_deg, predictions_test_deg)\n",
    "mean_metrics_deg = compute_mean_metrics(test_metrics_deg, prefix=f\"deg_test_\")\n",
    "\n",
    "ood_metrics_deg = jtu.tree_map(compute_metrics,target_ood_deg, predictions_ood_deg)\n",
    "mean_metrics_deg = compute_mean_metrics(ood_metrics_deg, prefix=f\"deg_ood_\")\n",
    "            "
   ]
  },
  {
   "cell_type": "code",
   "execution_count": 26,
   "id": "3555ca4d-7087-4771-b055-142f9fd90180",
   "metadata": {},
   "outputs": [
    {
     "data": {
      "text/plain": [
       "{'decoded_ood_r_squared': 0.9586435646612876,\n",
       " 'decoded_ood_sinkhorn_div_1': 114.75249633789062,\n",
       " 'decoded_ood_sinkhorn_div_10': 69.23498077392578,\n",
       " 'decoded_ood_sinkhorn_div_100': 4.369729614257812,\n",
       " 'decoded_ood_e_distance': 7.926962827305201,\n",
       " 'decoded_ood_mmd': 0.013214902879714496}"
      ]
     },
     "execution_count": 26,
     "metadata": {},
     "output_type": "execute_result"
    }
   ],
   "source": [
    "mean_ood_metrics_decoded"
   ]
  },
  {
   "cell_type": "code",
   "execution_count": 27,
   "id": "249b214c-9f12-415b-b55c-b91f9a3f5a26",
   "metadata": {},
   "outputs": [],
   "source": [
    "output_dir = \"/lustre/groups/ml01/workspace/ot_perturbation/data/combosciplex/results/otfm\""
   ]
  },
  {
   "cell_type": "code",
   "execution_count": 28,
   "id": "bb441114-5d90-4ef5-927d-875234e8b262",
   "metadata": {},
   "outputs": [],
   "source": [
    "import os\n",
    "import pandas as pd\n",
    "pd.DataFrame.from_dict(ood_metrics_encoded).to_csv(os.path.join(output_dir, \"ood_metrics_encoded.csv\"))\n",
    "pd.DataFrame.from_dict(ood_metrics_decoded).to_csv(os.path.join(output_dir, \"ood_metrics_decoded.csv\"))\n",
    "pd.DataFrame.from_dict(test_metrics_encoded).to_csv(os.path.join(output_dir, \"test_metrics_encoded.csv\"))\n",
    "pd.DataFrame.from_dict(test_metrics_decoded).to_csv(os.path.join(output_dir, \"test_metrics_decoded.csv\"))\n",
    "pd.DataFrame.from_dict(ood_metrics_deg).to_csv(os.path.join(output_dir, \"ood_metrics_deg.csv\"))\n",
    "pd.DataFrame.from_dict(test_metrics_deg).to_csv(os.path.join(output_dir, \"test_metrics_deg.csv\"))"
   ]
  },
  {
   "cell_type": "code",
   "execution_count": null,
   "id": "912fd003-c285-41b7-a3ea-70f8122d6909",
   "metadata": {},
   "outputs": [],
   "source": []
  }
 ],
 "metadata": {
  "kernelspec": {
   "display_name": "ot_pert_genot",
   "language": "python",
   "name": "ot_pert_genot"
  },
  "language_info": {
   "codemirror_mode": {
    "name": "ipython",
    "version": 3
   },
   "file_extension": ".py",
   "mimetype": "text/x-python",
   "name": "python",
   "nbconvert_exporter": "python",
   "pygments_lexer": "ipython3",
   "version": "3.12.2"
  }
 },
 "nbformat": 4,
 "nbformat_minor": 5
}
