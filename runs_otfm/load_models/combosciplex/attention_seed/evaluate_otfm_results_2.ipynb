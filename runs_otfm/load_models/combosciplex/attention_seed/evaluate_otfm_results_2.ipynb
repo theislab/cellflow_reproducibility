{
 "cells": [
  {
   "cell_type": "code",
   "execution_count": 1,
   "id": "1395d093-8d3e-48c0-8ffb-7e864854f3a5",
   "metadata": {},
   "outputs": [],
   "source": [
    "import functools\n",
    "\n",
    "import jax\n",
    "import numpy as np\n",
    "import scanpy as sc\n",
    "\n",
    "from cfp.metrics import compute_mean_metrics, compute_metrics, compute_metrics_fast\n",
    "import cfp.preprocessing as cfpp"
   ]
  },
  {
   "cell_type": "code",
   "execution_count": 2,
   "id": "34291a02-90e4-44ff-9ecd-7ec81aa42b43",
   "metadata": {},
   "outputs": [],
   "source": [
    "split = 2"
   ]
  },
  {
   "cell_type": "code",
   "execution_count": 3,
   "id": "07027cac-18fd-4ef8-b54e-09315f9ae6eb",
   "metadata": {
    "scrolled": true
   },
   "outputs": [],
   "source": [
    "adata_pred_ood = sc.read(f\"/lustre/groups/ml01/workspace/ot_perturbation/models/otfm/combosciplex/adata_ood_with_predictions_{split}_attention_seed.h5ad\")\n",
    "adata_pred_test = sc.read(f\"/lustre/groups/ml01/workspace/ot_perturbation/models/otfm/combosciplex/adata_test_with_predictions_{split}_attention_seed.h5ad\")"
   ]
  },
  {
   "cell_type": "code",
   "execution_count": 4,
   "id": "862ac848-95cb-4c9f-8846-9b46b29d265e",
   "metadata": {},
   "outputs": [],
   "source": [
    "adata_train_path = f\"/lustre/groups/ml01/workspace/ot_perturbation/data/combosciplex/adata_train_{split}.h5ad\"\n",
    "adata_test_path = f\"/lustre/groups/ml01/workspace/ot_perturbation/data/combosciplex/adata_test_{split}.h5ad\"\n",
    "adata_ood_path = f\"/lustre/groups/ml01/workspace/ot_perturbation/data/combosciplex/adata_ood_{split}.h5ad\""
   ]
  },
  {
   "cell_type": "code",
   "execution_count": 5,
   "id": "091f2f81-d713-4a2a-a003-37c5db5d3bc7",
   "metadata": {},
   "outputs": [],
   "source": [
    "adata_train = sc.read(adata_train_path)\n",
    "adata_test = sc.read(adata_test_path)\n",
    "adata_ood = sc.read(adata_ood_path)"
   ]
  },
  {
   "cell_type": "code",
   "execution_count": 6,
   "id": "5f7df9d8-66d9-42bb-bcb6-dbd8db9a4454",
   "metadata": {},
   "outputs": [],
   "source": [
    "adata_ref_test = adata_test[adata_test.obs[\"condition\"]!=\"control\"].copy()\n",
    "cfpp.centered_pca(adata_ref_test, n_comps=10)\n",
    "\n",
    "adata_ref_ood = adata_ood[adata_ood.obs[\"condition\"]!=\"control\"].copy()\n",
    "cfpp.centered_pca(adata_ref_ood, n_comps=10)"
   ]
  },
  {
   "cell_type": "code",
   "execution_count": 7,
   "id": "c2541151-a591-4df2-ada0-948a6cb268fc",
   "metadata": {
    "scrolled": true
   },
   "outputs": [],
   "source": [
    "cfpp.project_pca(query_adata=adata_pred_test, ref_adata=adata_ref_test, layer=\"X_recon_pred\")\n",
    "cfpp.project_pca(query_adata=adata_test, ref_adata=adata_ref_test)\n",
    "test_data_target_encoded = {}\n",
    "test_data_target_decoded = {}\n",
    "test_data_target_encoded_predicted = {}\n",
    "test_data_target_decoded_predicted = {}\n",
    "for cond in adata_test.obs[\"condition\"].cat.categories:\n",
    "    if cond == \"control\":\n",
    "        continue\n",
    "    test_data_target_encoded[cond] = adata_test[adata_test.obs[\"condition\"] == cond].obsm[\"X_pca\"]\n",
    "    test_data_target_decoded[cond] = adata_test[adata_test.obs[\"condition\"] == cond].X.toarray()\n",
    "    test_data_target_decoded_predicted[cond] = adata_pred_test[adata_pred_test.obs[\"condition\"] == cond].layers[\"X_recon_pred\"]\n",
    "    test_data_target_encoded_predicted[cond] = adata_pred_test[adata_pred_test.obs[\"condition\"] == cond].obsm[\"X_pca\"]\n",
    "\n",
    "cfpp.project_pca(query_adata=adata_pred_ood, ref_adata=adata_ref_ood, layer=\"X_recon_pred\")\n",
    "cfpp.project_pca(query_adata=adata_ood, ref_adata=adata_ref_ood)\n",
    "ood_data_target_encoded = {}\n",
    "ood_data_target_decoded = {}\n",
    "ood_data_target_encoded_predicted = {}\n",
    "ood_data_target_decoded_predicted = {}\n",
    "for cond in adata_ood.obs[\"condition\"].cat.categories:\n",
    "    if cond == \"control\":\n",
    "        continue\n",
    "    ood_data_target_encoded[cond] = adata_ood[adata_ood.obs[\"condition\"] == cond].obsm[\"X_pca\"]\n",
    "    ood_data_target_decoded[cond] = adata_ood[adata_ood.obs[\"condition\"] == cond].X.toarray()\n",
    "    ood_data_target_decoded_predicted[cond] = adata_pred_ood[adata_pred_ood.obs[\"condition\"] == cond].layers[\"X_recon_pred\"]\n",
    "    ood_data_target_encoded_predicted[cond] = adata_pred_ood[adata_pred_ood.obs[\"condition\"] == cond].obsm[\"X_pca\"]"
   ]
  },
  {
   "cell_type": "code",
   "execution_count": 8,
   "id": "c9e8562b-66d1-4151-8824-a4944b4e2e85",
   "metadata": {},
   "outputs": [],
   "source": [
    "test_deg_dict = {\n",
    "    k: v\n",
    "    for k, v in adata_train.uns[\"rank_genes_groups_cov_all\"].items()\n",
    "    if k in test_data_target_decoded_predicted.keys()\n",
    "}\n",
    "ood_deg_dict = {\n",
    "    k: v\n",
    "    for k, v in adata_train.uns[\"rank_genes_groups_cov_all\"].items()\n",
    "    if k in ood_data_target_decoded_predicted.keys()\n",
    "}"
   ]
  },
  {
   "cell_type": "code",
   "execution_count": 9,
   "id": "e1fc5bf1-9976-4071-a7ac-605b1494a351",
   "metadata": {},
   "outputs": [],
   "source": [
    "def get_mask(x, y):\n",
    "    return x[:, [gene in y for gene in adata_train.var_names]]\n",
    "\n",
    "\n",
    "ood_deg_target_decoded_predicted = jax.tree_util.tree_map(get_mask, ood_data_target_decoded_predicted, ood_deg_dict)\n",
    "ood_deg_target_decoded = jax.tree_util.tree_map(get_mask, ood_data_target_decoded, ood_deg_dict)\n",
    "\n",
    "test_deg_target_decoded_predicted = jax.tree_util.tree_map(get_mask, test_data_target_decoded_predicted, test_deg_dict)\n",
    "test_deg_target_decoded = jax.tree_util.tree_map(get_mask, test_data_target_decoded, test_deg_dict)\n"
   ]
  },
  {
   "cell_type": "code",
   "execution_count": 10,
   "id": "e8d7ff42-9dbb-4635-9e68-ac3306d27af8",
   "metadata": {},
   "outputs": [],
   "source": [
    "deg_ood_metrics = jax.tree_util.tree_map(compute_metrics, ood_deg_target_decoded, ood_deg_target_decoded_predicted)\n",
    "deg_mean_ood_metrics = compute_mean_metrics(deg_ood_metrics, prefix=\"deg_ood_\")\n",
    "\n",
    "deg_test_metrics = jax.tree_util.tree_map(compute_metrics, test_deg_target_decoded, test_deg_target_decoded_predicted)\n",
    "deg_mean_test_metrics = compute_mean_metrics(deg_test_metrics, prefix=\"deg_test_\")\n"
   ]
  },
  {
   "cell_type": "code",
   "execution_count": 11,
   "id": "9e337bf1-f165-4d62-a79f-4327be259a6c",
   "metadata": {},
   "outputs": [],
   "source": [
    "test_metrics_encoded = jax.tree_util.tree_map(\n",
    "    compute_metrics, test_data_target_encoded, test_data_target_encoded_predicted\n",
    ")\n",
    "mean_test_metrics_encoded = compute_mean_metrics(test_metrics_encoded, prefix=\"encoded_test_\")\n",
    "\n",
    "test_metrics_decoded = jax.tree_util.tree_map(\n",
    "    compute_metrics_fast, test_data_target_decoded, test_data_target_decoded_predicted\n",
    ")\n",
    "mean_test_metrics_decoded = compute_mean_metrics(test_metrics_decoded, prefix=\"decoded_test_\")"
   ]
  },
  {
   "cell_type": "code",
   "execution_count": 12,
   "id": "cbdff236-b23d-4db5-b28f-a072c3ccaecf",
   "metadata": {},
   "outputs": [],
   "source": [
    "ood_metrics_encoded = jax.tree_util.tree_map(\n",
    "    compute_metrics, ood_data_target_encoded, ood_data_target_encoded_predicted\n",
    ")\n",
    "mean_ood_metrics_encoded = compute_mean_metrics(ood_metrics_encoded, prefix=\"encoded_ood_\")\n",
    "\n",
    "ood_metrics_decoded = jax.tree_util.tree_map(\n",
    "    compute_metrics, ood_data_target_decoded, ood_data_target_decoded_predicted\n",
    ")\n",
    "mean_ood_metrics_decoded = compute_mean_metrics(ood_metrics_decoded, prefix=\"decoded_ood_\")"
   ]
  },
  {
   "cell_type": "code",
   "execution_count": null,
   "id": "eae2427a-1f34-4e02-a13c-49d6acf82a97",
   "metadata": {},
   "outputs": [],
   "source": []
  },
  {
   "cell_type": "code",
   "execution_count": 13,
   "id": "8804acce-ed34-449c-b47c-73f96244958d",
   "metadata": {},
   "outputs": [
    {
     "data": {
      "text/plain": [
       "{'decoded_ood_r_squared': 0.9468989274993805,\n",
       " 'decoded_ood_sinkhorn_div_1': 123.31844983782086,\n",
       " 'decoded_ood_sinkhorn_div_10': 75.3612529209682,\n",
       " 'decoded_ood_sinkhorn_div_100': 5.561011178152902,\n",
       " 'decoded_ood_e_distance': 10.224704456031729,\n",
       " 'decoded_ood_mmd': 0.014579998728420054}"
      ]
     },
     "execution_count": 13,
     "metadata": {},
     "output_type": "execute_result"
    }
   ],
   "source": [
    "mean_ood_metrics_decoded"
   ]
  },
  {
   "cell_type": "code",
   "execution_count": 14,
   "id": "60018b48-c646-467d-bfdb-a0b5cefae334",
   "metadata": {},
   "outputs": [
    {
     "data": {
      "text/plain": [
       "{'encoded_ood_r_squared': 0.5543742467113407,\n",
       " 'encoded_ood_sinkhorn_div_1': 7.4788361958095,\n",
       " 'encoded_ood_sinkhorn_div_10': 5.199157442365374,\n",
       " 'encoded_ood_sinkhorn_div_100': 4.443621907915388,\n",
       " 'encoded_ood_e_distance': 8.714489129419137,\n",
       " 'encoded_ood_mmd': 0.048912342105593}"
      ]
     },
     "execution_count": 14,
     "metadata": {},
     "output_type": "execute_result"
    }
   ],
   "source": [
    "mean_ood_metrics_encoded"
   ]
  },
  {
   "cell_type": "code",
   "execution_count": null,
   "id": "f9c784ea-6239-40e0-8c59-44a462a9bad7",
   "metadata": {},
   "outputs": [],
   "source": []
  },
  {
   "cell_type": "code",
   "execution_count": 15,
   "id": "687f3ea3-4546-4c4d-819a-4e0927442ce5",
   "metadata": {},
   "outputs": [
    {
     "data": {
      "text/plain": [
       "{'deg_ood_r_squared': 0.9326301661203235,\n",
       " 'deg_ood_sinkhorn_div_1': 15.514337403433663,\n",
       " 'deg_ood_sinkhorn_div_10': 2.914127894810268,\n",
       " 'deg_ood_sinkhorn_div_100': 2.2765846252441406,\n",
       " 'deg_ood_e_distance': 4.435311405777582,\n",
       " 'deg_ood_mmd': 0.018948799997035946}"
      ]
     },
     "execution_count": 15,
     "metadata": {},
     "output_type": "execute_result"
    }
   ],
   "source": [
    "deg_mean_ood_metrics"
   ]
  },
  {
   "cell_type": "code",
   "execution_count": 16,
   "id": "1ef8107f-d103-479c-8b4a-2933ab105a62",
   "metadata": {},
   "outputs": [
    {
     "data": {
      "text/plain": [
       "{'deg_test_r_squared': 0.9843531548096424,\n",
       " 'deg_test_sinkhorn_div_1': 12.556443870067596,\n",
       " 'deg_test_sinkhorn_div_10': 1.4122504393259685,\n",
       " 'deg_test_sinkhorn_div_100': 0.5204794009526571,\n",
       " 'deg_test_e_distance': 0.9291850731203296,\n",
       " 'deg_test_mmd': 0.012753711896948516}"
      ]
     },
     "execution_count": 16,
     "metadata": {},
     "output_type": "execute_result"
    }
   ],
   "source": [
    "deg_mean_test_metrics"
   ]
  },
  {
   "cell_type": "code",
   "execution_count": 17,
   "id": "e708f928-1654-4b93-b546-5f0b1a537def",
   "metadata": {},
   "outputs": [
    {
     "data": {
      "text/plain": [
       "{'decoded_test_r_squared': 0.9828076732206649,\n",
       " 'decoded_test_e_distance': 3.2462426788455443,\n",
       " 'decoded_test_mmd_distance': 0.013929410371929407}"
      ]
     },
     "execution_count": 17,
     "metadata": {},
     "output_type": "execute_result"
    }
   ],
   "source": [
    "mean_test_metrics_decoded"
   ]
  },
  {
   "cell_type": "code",
   "execution_count": 18,
   "id": "90c58881-8511-4154-8430-507e59c498e7",
   "metadata": {},
   "outputs": [
    {
     "data": {
      "text/plain": [
       "{'decoded_ood_r_squared': 0.9468989274993805,\n",
       " 'decoded_ood_sinkhorn_div_1': 123.31844983782086,\n",
       " 'decoded_ood_sinkhorn_div_10': 75.3612529209682,\n",
       " 'decoded_ood_sinkhorn_div_100': 5.561011178152902,\n",
       " 'decoded_ood_e_distance': 10.224704456031729,\n",
       " 'decoded_ood_mmd': 0.014579998728420054}"
      ]
     },
     "execution_count": 18,
     "metadata": {},
     "output_type": "execute_result"
    }
   ],
   "source": [
    "mean_ood_metrics_decoded"
   ]
  },
  {
   "cell_type": "code",
   "execution_count": 19,
   "id": "4ed6d545-6b19-4d72-887c-f5618d87d47d",
   "metadata": {},
   "outputs": [
    {
     "data": {
      "text/plain": [
       "{'deg_ood_r_squared': 0.9326301661203235,\n",
       " 'deg_ood_sinkhorn_div_1': 15.514337403433663,\n",
       " 'deg_ood_sinkhorn_div_10': 2.914127894810268,\n",
       " 'deg_ood_sinkhorn_div_100': 2.2765846252441406,\n",
       " 'deg_ood_e_distance': 4.435311405777582,\n",
       " 'deg_ood_mmd': 0.018948799997035946}"
      ]
     },
     "execution_count": 19,
     "metadata": {},
     "output_type": "execute_result"
    }
   ],
   "source": [
    "deg_mean_ood_metrics"
   ]
  },
  {
   "cell_type": "code",
   "execution_count": 20,
   "id": "ee62783f-7f1d-4a1e-8c74-eeaa935881a0",
   "metadata": {},
   "outputs": [
    {
     "data": {
      "text/plain": [
       "{'decoded_test_r_squared': 0.9828076732206649,\n",
       " 'decoded_test_e_distance': 3.2462426788455443,\n",
       " 'decoded_test_mmd_distance': 0.013929410371929407}"
      ]
     },
     "execution_count": 20,
     "metadata": {},
     "output_type": "execute_result"
    }
   ],
   "source": [
    "mean_test_metrics_decoded"
   ]
  },
  {
   "cell_type": "code",
   "execution_count": 21,
   "id": "014cbe29-83e0-4a37-aa82-29804107152a",
   "metadata": {},
   "outputs": [
    {
     "data": {
      "text/plain": [
       "{'encoded_test_r_squared': 0.9585716433517278,\n",
       " 'encoded_test_sinkhorn_div_1': 4.39786159992218,\n",
       " 'encoded_test_sinkhorn_div_10': 1.3866101503372192,\n",
       " 'encoded_test_sinkhorn_div_100': 0.6818737188975016,\n",
       " 'encoded_test_e_distance': 1.218643865758949,\n",
       " 'encoded_test_mmd': 0.018176127050537616}"
      ]
     },
     "execution_count": 21,
     "metadata": {},
     "output_type": "execute_result"
    }
   ],
   "source": [
    "mean_test_metrics_encoded"
   ]
  },
  {
   "cell_type": "code",
   "execution_count": 22,
   "id": "a3afa61e-cfbd-40b6-8e55-6057348652ae",
   "metadata": {},
   "outputs": [
    {
     "data": {
      "text/plain": [
       "{'Dacinostat+Dasatinib': {'r_squared': -0.02766840895330369,\n",
       "  'sinkhorn_div_1': 7.21816349029541,\n",
       "  'sinkhorn_div_10': 4.909151077270508,\n",
       "  'sinkhorn_div_100': 4.3495683670043945,\n",
       "  'e_distance': 8.591592556683414,\n",
       "  'mmd': 0.054786656},\n",
       " 'Dacinostat+PCI-34051': {'r_squared': 0.05521346272546557,\n",
       "  'sinkhorn_div_1': 6.974331855773926,\n",
       "  'sinkhorn_div_10': 4.813686370849609,\n",
       "  'sinkhorn_div_100': 4.272054672241211,\n",
       "  'e_distance': 8.432283673574675,\n",
       "  'mmd': 0.054813523},\n",
       " 'Givinostat+Cediranib': {'r_squared': 0.940542117498528,\n",
       "  'sinkhorn_div_1': 2.198640823364258,\n",
       "  'sinkhorn_div_10': 1.0289373397827148,\n",
       "  'sinkhorn_div_100': 0.8444366455078125,\n",
       "  'e_distance': 1.6717557388746336,\n",
       "  'mmd': 0.013037602},\n",
       " 'Givinostat+Curcumin': {'r_squared': 0.942776413317766,\n",
       "  'sinkhorn_div_1': 2.1052322387695312,\n",
       "  'sinkhorn_div_10': 1.040964126586914,\n",
       "  'sinkhorn_div_100': 0.8444023132324219,\n",
       "  'e_distance': 1.6434922518084303,\n",
       "  'mmd': 0.009760681},\n",
       " 'Panobinostat+Alvespimycin': {'r_squared': 0.159803190866892,\n",
       "  'sinkhorn_div_1': 22.193073272705078,\n",
       "  'sinkhorn_div_10': 19.126338958740234,\n",
       "  'sinkhorn_div_100': 17.978696823120117,\n",
       "  'e_distance': 35.681502393591614,\n",
       "  'mmd': 0.1596471},\n",
       " 'Panobinostat+SRT3025': {'r_squared': 0.8919285944546433,\n",
       "  'sinkhorn_div_1': 6.338047981262207,\n",
       "  'sinkhorn_div_10': 3.244283676147461,\n",
       "  'sinkhorn_div_100': 1.8619098663330078,\n",
       "  'e_distance': 3.379533417145474,\n",
       "  'mmd': 0.029762082},\n",
       " 'control+Panobinostat': {'r_squared': 0.9180243570693936,\n",
       "  'sinkhorn_div_1': 5.324363708496094,\n",
       "  'sinkhorn_div_10': 2.230740547180176,\n",
       "  'sinkhorn_div_100': 0.95428466796875,\n",
       "  'e_distance': 1.601263874255725,\n",
       "  'mmd': 0.020578744}}"
      ]
     },
     "execution_count": 22,
     "metadata": {},
     "output_type": "execute_result"
    }
   ],
   "source": [
    "ood_metrics_encoded"
   ]
  },
  {
   "cell_type": "code",
   "execution_count": 23,
   "id": "ad5e53e5-ff5f-4df7-9e94-5f4414cebb9f",
   "metadata": {},
   "outputs": [],
   "source": [
    "output_dir = \"/lustre/groups/ml01/workspace/ot_perturbation/data/combosciplex/results/otfm\""
   ]
  },
  {
   "cell_type": "code",
   "execution_count": 24,
   "id": "899fc8be-e234-478e-86fc-3874dddf50c8",
   "metadata": {},
   "outputs": [],
   "source": [
    "import os\n",
    "import pandas as pd\n",
    "\n",
    "pd.DataFrame.from_dict(ood_metrics_encoded).to_csv(os.path.join(output_dir, f\"ood_metrics_encoded_{split}_attention_seed.csv\"))\n",
    "pd.DataFrame.from_dict(ood_metrics_decoded).to_csv(os.path.join(output_dir, f\"ood_metrics_decoded_{split}_attention_seed.csv\"))\n",
    "pd.DataFrame.from_dict(test_metrics_encoded).to_csv(os.path.join(output_dir, f\"test_metrics_encoded_{split}_attention_seed.csv\"))\n",
    "pd.DataFrame.from_dict(test_metrics_decoded).to_csv(os.path.join(output_dir, f\"test_metrics_decoded_{split}_attention_seed.csv\"))\n",
    "pd.DataFrame.from_dict(deg_test_metrics).to_csv(os.path.join(output_dir, f\"test_metrics_deg_{split}_attention_seed.csv\"))\n",
    "pd.DataFrame.from_dict(deg_ood_metrics).to_csv(os.path.join(output_dir, f\"ood_metrics_ood_{split}_attention_seed.csv\"))\n"
   ]
  },
  {
   "cell_type": "code",
   "execution_count": null,
   "id": "a2210781-a7bc-4608-bc8c-99ae0c7e341e",
   "metadata": {},
   "outputs": [],
   "source": []
  }
 ],
 "metadata": {
  "kernelspec": {
   "display_name": "cfp",
   "language": "python",
   "name": "cfp"
  },
  "language_info": {
   "codemirror_mode": {
    "name": "ipython",
    "version": 3
   },
   "file_extension": ".py",
   "mimetype": "text/x-python",
   "name": "python",
   "nbconvert_exporter": "python",
   "pygments_lexer": "ipython3",
   "version": "3.11.9"
  }
 },
 "nbformat": 4,
 "nbformat_minor": 5
}
