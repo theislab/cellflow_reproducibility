{
 "cells": [
  {
   "cell_type": "code",
   "execution_count": 1,
   "id": "716a4be0-e2ec-4360-8117-a0ff9a3d99c9",
   "metadata": {},
   "outputs": [],
   "source": [
    "import functools\n",
    "from typing import Literal, Optional, Iterable\n",
    "\n",
    "import jax\n",
    "import jax.numpy as jnp\n",
    "import jax.tree_util as jtu\n",
    "import numpy as np\n",
    "import optax\n",
    "import scanpy as sc\n",
    "from ott.neural import datasets\n",
    "from ott.neural.methods.flows import dynamics, otfm, genot\n",
    "from ott.neural.networks.layers import time_encoder\n",
    "from ot_pert.nets.nets import CondVelocityField\n",
    "from ott.solvers import utils as solver_utils\n",
    "from torch.utils.data import DataLoader\n",
    "from tqdm import tqdm\n",
    "import joypy\n",
    "import pandas as pd\n",
    "import pickle\n",
    "import yaml\n",
    "from ot_pert.nets.nets import VelocityFieldWithAttention\n",
    "from ot_pert.metrics import compute_metrics, compute_mean_metrics"
   ]
  },
  {
   "cell_type": "code",
   "execution_count": 2,
   "id": "851ac104-e0ac-4507-bf66-d8bf9a0000cf",
   "metadata": {},
   "outputs": [],
   "source": [
    "adata_train_path= \"/lustre/groups/ml01/workspace/ot_perturbation/data/sciplex/adata_train_30.h5ad\"\n",
    "adata_test_path= \"/lustre/groups/ml01/workspace/ot_perturbation/data/sciplex/adata_test_30.h5ad\"\n",
    "adata_ood_path= \"/lustre/groups/ml01/workspace/ot_perturbation/data/sciplex/adata_ood_30.h5ad\"\n"
   ]
  },
  {
   "cell_type": "code",
   "execution_count": 3,
   "id": "be2f49ca-b455-487f-9dd6-036c02403663",
   "metadata": {},
   "outputs": [],
   "source": [
    "adata_train = sc.read_h5ad(adata_train_path)\n",
    "adata_test = sc.read_h5ad(adata_test_path)\n",
    "adata_ood = sc.read_h5ad(adata_ood_path)\n"
   ]
  },
  {
   "cell_type": "code",
   "execution_count": 4,
   "id": "5a722709-11d5-4b6f-8c5b-9433bbd27c43",
   "metadata": {},
   "outputs": [],
   "source": [
    "obsm_key_cond = \"ecfp_cell_line_logdose_more_dose\"\n",
    "obsm_key_data = \"X_pca\""
   ]
  },
  {
   "cell_type": "code",
   "execution_count": 5,
   "id": "87d39c05-6b02-4a79-8310-6eed275a2c6c",
   "metadata": {},
   "outputs": [],
   "source": [
    "source_dim=30\n",
    "target_dim=30\n",
    "condition_dim=1424"
   ]
  },
  {
   "cell_type": "code",
   "execution_count": 6,
   "id": "3e74891d-cb66-4881-bad9-2d0a43a21548",
   "metadata": {},
   "outputs": [],
   "source": [
    "yaml_config = \"\"\"\n",
    "hidden_dims: [1024, 1024, 1024]\n",
    "output_dims: [1024, 1024, 1024]\n",
    "condition_dims: [4096, 4096, 4096, 4096]\n",
    "time_dims: [512, 512, 512]\n",
    "time_n_freqs: 1024\n",
    "flow_noise: 1.0\n",
    "learning_rate: 0.00005\n",
    "multi_steps: 20\n",
    "epsilon: 0.01\n",
    "tau_a: 0.999\n",
    "tau_b: 0.999\n",
    "dropout_rate: 0.2\n",
    "\"\"\"\n"
   ]
  },
  {
   "cell_type": "code",
   "execution_count": 7,
   "id": "a8a45aa6-ea4a-4db5-a3db-ca89c8c909bd",
   "metadata": {},
   "outputs": [],
   "source": [
    "model_config = yaml.safe_load(yaml_config)"
   ]
  },
  {
   "cell_type": "code",
   "execution_count": 8,
   "id": "57a6ab63-522c-4062-847e-2825a9da9c87",
   "metadata": {},
   "outputs": [
    {
     "name": "stderr",
     "output_type": "stream",
     "text": [
      "2024-06-18 14:51:20.352365: W external/xla/xla/service/gpu/nvptx_compiler.cc:718] The NVIDIA driver's CUDA version is 12.3 which is older than the ptxas CUDA version (12.4.131). Because the driver is older than the ptxas version, XLA is disabling parallel compilation, which may slow down compilation. You should update your NVIDIA driver or use the NVIDIA-provided CUDA forward compatibility packages.\n"
     ]
    }
   ],
   "source": [
    "vf = CondVelocityField(\n",
    "    hidden_dims= model_config[\"hidden_dims\"],\n",
    "    output_dims= model_config[\"output_dims\"] + [target_dim],\n",
    "    condition_dims= model_config[\"condition_dims\"],\n",
    "    time_dims= model_config[\"time_dims\"],\n",
    "    time_encoder=functools.partial(time_encoder.cyclical_time_encoder, n_freqs=1024),\n",
    ")\n",
    "\n",
    "model = otfm.OTFlowMatching(\n",
    "    vf,\n",
    "    flow=dynamics.ConstantNoiseFlow(0),\n",
    "    match_fn=None,\n",
    "    condition_dim=condition_dim,\n",
    "    rng=jax.random.PRNGKey(13),\n",
    "    optimizer=optax.MultiSteps(optax.adam(learning_rate=1e-4), 20),\n",
    ")\n"
   ]
  },
  {
   "cell_type": "code",
   "execution_count": 9,
   "id": "9cbb8a3b-2a40-4e8e-9457-34efb4b27390",
   "metadata": {},
   "outputs": [
    {
     "data": {
      "text/plain": [
       "True"
      ]
     },
     "execution_count": 9,
     "metadata": {},
     "output_type": "execute_result"
    }
   ],
   "source": [
    "load_path = f\"/lustre/groups/ml01/workspace/ot_perturbation/models/otfm/sciplex_biolord_split/cerulean-deluge-3112_model.pkl\"\n",
    "\n",
    "# Open the file containing the saved parameters\n",
    "with open(load_path, 'rb') as f:\n",
    "    loaded_params = pickle.load(f)\n",
    "\n",
    "check_load = jax.tree_util.tree_map(lambda x,y: x.shape==y.shape, model.vf_state.params, loaded_params)\n",
    "def all_values_true(d):\n",
    "    if isinstance(d, dict):\n",
    "        return all(all_values_true(v) for v in d.values())\n",
    "    return d is True\n",
    "all_values_true(check_load)"
   ]
  },
  {
   "cell_type": "code",
   "execution_count": 10,
   "id": "53557d76-438f-4cea-b4ba-fbc5c28eb527",
   "metadata": {},
   "outputs": [],
   "source": [
    "def load_data(adata, obsm_key_data, obsm_key_cond):\n",
    "    \"\"\"Loads data and preprocesses it based on configuration.\"\"\"\n",
    "    dls = []\n",
    "    data_source = {}\n",
    "    data_target = {}\n",
    "    data_source_decoded = {}\n",
    "    data_target_decoded = {}\n",
    "    data_conditions = {}\n",
    "    for cond in adata.obs[\"condition\"].cat.categories:\n",
    "        if \"Vehicle\" not in cond:\n",
    "            src_str_unique = list(adata[adata.obs[\"condition\"] == cond].obs[\"cell_type\"].unique())\n",
    "            assert len(src_str_unique) == 1\n",
    "            src_str = src_str_unique[0] + \"_Vehicle_0.0\"\n",
    "            source = adata[adata.obs[\"condition\"] == src_str].obsm[obsm_key_data]\n",
    "            source_decoded = adata[adata.obs[\"condition\"] == src_str].X.A\n",
    "            target = adata[adata.obs[\"condition\"] == cond].obsm[obsm_key_data]\n",
    "            target_decoded = adata[adata.obs[\"condition\"] == cond].X.A\n",
    "            conds = adata[adata.obs[\"condition\"] == cond].obsm[obsm_key_cond]\n",
    "            assert np.all(np.all(conds == conds[0], axis=1))\n",
    "            conds = np.tile(conds[0], (len(source), 1))\n",
    "            data_source[cond] = source\n",
    "            data_target[cond] = target\n",
    "            data_source_decoded[cond] = source_decoded\n",
    "            data_target_decoded[cond] = target_decoded\n",
    "            data_conditions[cond] = conds\n",
    "    return {\n",
    "        \"source\": data_source,\n",
    "        \"target\": data_target,\n",
    "        \"source_decoded\": data_source_decoded,\n",
    "        \"target_decoded\": data_target_decoded,\n",
    "        \"conditions\": data_conditions,\n",
    "    }\n"
   ]
  },
  {
   "cell_type": "code",
   "execution_count": 11,
   "id": "8f542078-5bf4-474a-a949-496e1a2f14e9",
   "metadata": {},
   "outputs": [],
   "source": [
    "test_data = load_data(adata_test, obsm_key_data, obsm_key_cond) \n",
    "ood_data = load_data(adata_ood, obsm_key_data, obsm_key_cond) \n",
    "    "
   ]
  },
  {
   "cell_type": "code",
   "execution_count": 12,
   "id": "25dce8af-f8c7-4609-a3d1-097e740a1b56",
   "metadata": {},
   "outputs": [],
   "source": [
    "predictions_test = jtu.tree_map(model.transport, test_data[\"source\"], test_data[\"conditions\"])"
   ]
  },
  {
   "cell_type": "code",
   "execution_count": 13,
   "id": "4cfed2c6-e4ec-4b3c-b259-21edc92cd286",
   "metadata": {},
   "outputs": [],
   "source": [
    "predictions_ood = jtu.tree_map(model.transport, ood_data[\"source\"], ood_data[\"conditions\"])"
   ]
  },
  {
   "cell_type": "code",
   "execution_count": 25,
   "id": "3a3703d9-6e91-44d9-a989-693252201764",
   "metadata": {},
   "outputs": [],
   "source": [
    "conds = []\n",
    "preds = []\n",
    "for cond, pred in predictions_test.items():\n",
    "    conds.extend(len(pred) * [cond])\n",
    "    preds.append(np.asarray(pred))\n",
    "\n",
    "\n"
   ]
  },
  {
   "cell_type": "code",
   "execution_count": 15,
   "id": "2f5645b6-abba-4e1b-8718-17e74beeda7c",
   "metadata": {},
   "outputs": [],
   "source": [
    "from anndata import AnnData"
   ]
  },
  {
   "cell_type": "code",
   "execution_count": 30,
   "id": "a349b890-42ff-4a72-b9ea-785f23703f8d",
   "metadata": {},
   "outputs": [
    {
     "name": "stderr",
     "output_type": "stream",
     "text": [
      "/home/icb/dominik.klein/mambaforge/envs/ot_pert_genot/lib/python3.12/site-packages/anndata/_core/anndata.py:183: ImplicitModificationWarning: Transforming to str index.\n",
      "  warnings.warn(\"Transforming to str index.\", ImplicitModificationWarning)\n"
     ]
    }
   ],
   "source": [
    "adata_with_preds = AnnData(X=np.vstack(np.array(preds)), obs=pd.DataFrame(conds, columns=[\"condition\"]))"
   ]
  },
  {
   "cell_type": "code",
   "execution_count": 32,
   "id": "c48c73be-5b3e-433a-b6b2-02034f969141",
   "metadata": {},
   "outputs": [],
   "source": [
    "adata_with_preds.write(\"/lustre/groups/ml01/workspace/ot_perturbation/data/combosciplex/results/otfm/sciplex_biolord_30_predictions_test.h5ad\")"
   ]
  },
  {
   "cell_type": "code",
   "execution_count": null,
   "id": "86b38e97-b631-408c-952a-4c4f7c5eae31",
   "metadata": {},
   "outputs": [],
   "source": [
    "conds = []\n",
    "preds = []\n",
    "for cond, pred in predictions_ood.items():\n",
    "    conds.extend(len(pred) * [cond])\n",
    "    preds.append(np.asarray(pred))\n",
    "\n",
    "adata_with_preds_ood = AnnData(X=np.vstack(np.array(preds)), obs=pd.DataFrame(conds, columns=[\"condition\"]))"
   ]
  },
  {
   "cell_type": "code",
   "execution_count": null,
   "id": "95c4b9cb-adf6-43bc-9921-953d9cd85067",
   "metadata": {},
   "outputs": [],
   "source": [
    "adata_with_preds_ood.write(\"/lustre/groups/ml01/workspace/ot_perturbation/data/combosciplex/results/otfm/sciplex_biolord_30_predictions_ood.h5ad\")"
   ]
  },
  {
   "cell_type": "code",
   "execution_count": null,
   "id": "677b632a-75b3-41e8-a3ad-930690799d38",
   "metadata": {},
   "outputs": [],
   "source": []
  },
  {
   "cell_type": "code",
   "execution_count": 33,
   "id": "00292f1c-87f5-466c-852c-830292057958",
   "metadata": {},
   "outputs": [],
   "source": [
    "def reconstruct_data(embedding, projection_matrix, mean_to_add):\n",
    "    \"\"\"Reconstructs data from projections.\"\"\"\n",
    "    return np.matmul(embedding, projection_matrix.T) + mean_to_add\n"
   ]
  },
  {
   "cell_type": "code",
   "execution_count": 34,
   "id": "a19354bf-4a87-4905-a1ff-d8c763409927",
   "metadata": {},
   "outputs": [],
   "source": [
    "reconstruct_data_fn = functools.partial(\n",
    "    reconstruct_data, projection_matrix=adata_train.varm[\"PCs\"], mean_to_add=adata_train.varm[\"X_train_mean\"].T\n",
    ")"
   ]
  },
  {
   "cell_type": "code",
   "execution_count": 35,
   "id": "64ed4968-cd67-41c0-a095-786e65b2a389",
   "metadata": {},
   "outputs": [],
   "source": [
    "#predictions_test_decoded = jtu.tree_map(reconstruct_data_fn, predictions_test)\n",
    "predictions_ood_decoded = jtu.tree_map(reconstruct_data_fn, predictions_ood)"
   ]
  },
  {
   "cell_type": "code",
   "execution_count": 36,
   "id": "73d94f03-560b-4960-8c3a-50e7369b3b53",
   "metadata": {},
   "outputs": [],
   "source": [
    "#test_metrics_encoded = jax.tree_util.tree_map(compute_metrics, test_data[\"target\"], predictions_test)\n",
    "#mean_test_metrics_encoded = compute_mean_metrics(test_metrics_encoded, prefix=\"encoded_test_\")\n",
    "\n",
    "#test_metrics_decoded = jax.tree_util.tree_map(compute_metrics, test_data[\"target_decoded\"], predictions_test_decoded)\n",
    "#mean_test_metrics_decoded = compute_mean_metrics(test_metrics_decoded, prefix=\"decoded_test_\")"
   ]
  },
  {
   "cell_type": "code",
   "execution_count": null,
   "id": "54d956c3-e536-4c5e-974f-b781deb22c8d",
   "metadata": {},
   "outputs": [],
   "source": [
    "ood_metrics_encoded = jax.tree_util.tree_map(compute_metrics, ood_data[\"target\"], predictions_ood)\n",
    "mean_ood_metrics_encoded = compute_mean_metrics(ood_metrics_encoded, prefix=\"encoded_ood_\")\n",
    "\n",
    "ood_metrics_decoded = jax.tree_util.tree_map(compute_metrics, ood_data[\"target_decoded\"], predictions_ood_decoded)\n",
    "mean_ood_metrics_decoded = compute_mean_metrics(ood_metrics_decoded, prefix=\"decoded_ood_\")"
   ]
  },
  {
   "cell_type": "code",
   "execution_count": null,
   "id": "bbee2c7f-65cd-4d17-a7cc-b01e1da0745c",
   "metadata": {},
   "outputs": [],
   "source": [
    "mean_ood_metrics_decoded"
   ]
  },
  {
   "cell_type": "code",
   "execution_count": null,
   "id": "6dbe5b0b-2f09-46a7-9d2d-e8fe81f00020",
   "metadata": {},
   "outputs": [],
   "source": []
  }
 ],
 "metadata": {
  "kernelspec": {
   "display_name": "ot_pert_genot",
   "language": "python",
   "name": "ot_pert_genot"
  },
  "language_info": {
   "codemirror_mode": {
    "name": "ipython",
    "version": 3
   },
   "file_extension": ".py",
   "mimetype": "text/x-python",
   "name": "python",
   "nbconvert_exporter": "python",
   "pygments_lexer": "ipython3",
   "version": "3.12.2"
  }
 },
 "nbformat": 4,
 "nbformat_minor": 5
}
