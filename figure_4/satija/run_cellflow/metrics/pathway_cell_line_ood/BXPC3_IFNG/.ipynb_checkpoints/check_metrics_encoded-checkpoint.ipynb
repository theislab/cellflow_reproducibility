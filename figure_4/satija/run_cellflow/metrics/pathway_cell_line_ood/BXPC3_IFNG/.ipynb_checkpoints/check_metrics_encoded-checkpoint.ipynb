{
 "cells": [
  {
   "cell_type": "code",
   "execution_count": 50,
   "id": "666fb8f1-3413-4a87-be4c-b9c095eac4fe",
   "metadata": {},
   "outputs": [],
   "source": [
    "import pandas as pd\n",
    "import seaborn as sns\n",
    "import matplotlib.pyplot as plt\n",
    "import numpy as np"
   ]
  },
  {
   "cell_type": "markdown",
   "id": "2caf0978-f5d3-48c3-809b-68df5031bad9",
   "metadata": {},
   "source": [
    "Identity metrics"
   ]
  },
  {
   "cell_type": "code",
   "execution_count": 51,
   "id": "2235ba60-800e-46e7-ac99-e5d00cdf869d",
   "metadata": {},
   "outputs": [],
   "source": [
    "identity_metrics = pd.read_csv(\"/lustre/groups/ml01/workspace/alessandro.palma/ot_pert/out/results_metrics/metrics/sweep_cell_line_pathway/identity_ood_metrics_encoded_BXPC3_IFNG.csv\",\n",
    "                              index_col=0)"
   ]
  },
  {
   "cell_type": "code",
   "execution_count": 52,
   "id": "eeecbaf0-7caa-4ee7-88c1-49cb17e4e3be",
   "metadata": {},
   "outputs": [
    {
     "data": {
      "text/plain": [
       "r_squared            0.933890\n",
       "sinkhorn_div_1      15.871305\n",
       "sinkhorn_div_10      5.226308\n",
       "sinkhorn_div_100     3.346924\n",
       "e_distance           6.499990\n",
       "mmd                  0.014227\n",
       "dtype: float64"
      ]
     },
     "execution_count": 52,
     "metadata": {},
     "output_type": "execute_result"
    }
   ],
   "source": [
    "identity_metrics.mean(1)"
   ]
  },
  {
   "cell_type": "markdown",
   "id": "d8d3f0f0-415e-4da7-8135-c316022a3842",
   "metadata": {},
   "source": [
    "CellFlow"
   ]
  },
  {
   "cell_type": "code",
   "execution_count": 53,
   "id": "31cd1c7e-05f0-4718-938a-9218b67cb9a8",
   "metadata": {},
   "outputs": [],
   "source": [
    "cellflow_metrics = pd.read_csv(\"/lustre/groups/ml01/workspace/alessandro.palma/ot_pert/out/results_metrics/metrics/sweep_cell_line_pathway/cellflow_ood_metrics_encoded_BXPC3_IFNG.csv\",\n",
    "                              index_col=0)"
   ]
  },
  {
   "cell_type": "code",
   "execution_count": 54,
   "id": "66be12e8-7188-48f2-907f-4a528bebd46f",
   "metadata": {},
   "outputs": [
    {
     "data": {
      "text/plain": [
       "r_squared            0.894892\n",
       "sinkhorn_div_1      20.262928\n",
       "sinkhorn_div_10      9.489322\n",
       "sinkhorn_div_100     7.065222\n",
       "e_distance          13.733126\n",
       "mmd                  0.030209\n",
       "dtype: float64"
      ]
     },
     "execution_count": 54,
     "metadata": {},
     "output_type": "execute_result"
    }
   ],
   "source": [
    "cellflow_metrics.mean(1)"
   ]
  },
  {
   "cell_type": "markdown",
   "id": "d134434d-9b88-49ab-900c-cb2d9f93e9c8",
   "metadata": {},
   "source": [
    "Metrics"
   ]
  },
  {
   "cell_type": "code",
   "execution_count": 55,
   "id": "2dab4f16-ef2e-456c-b1a8-65a87bf4f119",
   "metadata": {},
   "outputs": [],
   "source": [
    "mean_metrics = pd.read_csv(\"/lustre/groups/ml01/workspace/alessandro.palma/ot_pert/out/results_metrics/metrics/sweep_cell_line_pathway/mean_train_metrics_encoded_BXPC3_IFNG.csv\",\n",
    "                              index_col=0)"
   ]
  },
  {
   "cell_type": "code",
   "execution_count": 56,
   "id": "ba06cab9-6172-4e19-9ef1-4622fc3b5006",
   "metadata": {},
   "outputs": [
    {
     "data": {
      "text/plain": [
       "r_squared            -0.730125\n",
       "sinkhorn_div_1      121.107389\n",
       "sinkhorn_div_10     110.462325\n",
       "sinkhorn_div_100    108.582921\n",
       "e_distance          216.970816\n",
       "mmd                   0.247511\n",
       "dtype: float64"
      ]
     },
     "execution_count": 56,
     "metadata": {},
     "output_type": "execute_result"
    }
   ],
   "source": [
    "mean_metrics.mean(1)"
   ]
  },
  {
   "cell_type": "markdown",
   "id": "574a01df-f68b-4c58-810c-f0831dcf3e47",
   "metadata": {},
   "source": [
    "## Get gene list by distance from the controls "
   ]
  },
  {
   "cell_type": "code",
   "execution_count": 57,
   "id": "881a2b3f-af89-428b-ab7a-758692469bed",
   "metadata": {},
   "outputs": [],
   "source": [
    "identity_deg = pd.read_csv(\"/lustre/groups/ml01/workspace/alessandro.palma/ot_pert/out/results_metrics/metrics/sweep_cell_line_pathway/identity_ood_metrics_deg_BXPC3_IFNG.csv\",\n",
    "                              index_col=0)"
   ]
  },
  {
   "cell_type": "code",
   "execution_count": 58,
   "id": "f75db290-e60d-4fc3-92f3-6f587c8c7414",
   "metadata": {},
   "outputs": [],
   "source": [
    "gene_list = identity_deg.T.sort_values(by=\"r_squared\")\n",
    "gene_list[\"perturbation\"] = gene_list.index.copy()\n",
    "gene_list = gene_list.reset_index(drop=True)"
   ]
  },
  {
   "cell_type": "code",
   "execution_count": 59,
   "id": "a9608341-80a2-4dfc-8716-96c0d7b77efa",
   "metadata": {},
   "outputs": [],
   "source": [
    "n_splits = 5\n",
    "gene_list[\"Perturbation effect\"] = None\n",
    "\n",
    "range_cond = np.arange(len(gene_list))\n",
    "range_cond_split = np.array_split(range_cond,n_splits)\n",
    "for i, idx_list in enumerate(range_cond_split):\n",
    "    gene_list.loc[idx_list, \"Perturbation effect\"] = i\n",
    "gene_list = gene_list.set_index(\"perturbation\") "
   ]
  },
  {
   "cell_type": "markdown",
   "id": "c8798228-1078-4719-a9fc-3df8176be598",
   "metadata": {},
   "source": [
    "# Plot comparisons"
   ]
  },
  {
   "cell_type": "code",
   "execution_count": 60,
   "id": "b304c2b0-4555-4b0d-a959-3d128b69b9e2",
   "metadata": {},
   "outputs": [],
   "source": [
    "merged = pd.concat([identity_metrics, mean_metrics, cellflow_metrics], axis=1).T"
   ]
  },
  {
   "cell_type": "code",
   "execution_count": 61,
   "id": "f12efd97-5ebe-4b3a-aa31-3eb8d0cef2fd",
   "metadata": {},
   "outputs": [],
   "source": [
    "merged[\"Model\"] = [\"Identity\"]*identity_metrics.shape[1] + [\"Mean\"]*identity_metrics.shape[1] + [\"cellFlow\"]*cellflow_metrics.shape[1]"
   ]
  },
  {
   "cell_type": "code",
   "execution_count": 62,
   "id": "6d41a20b-662d-492d-a370-4345344b88e1",
   "metadata": {},
   "outputs": [],
   "source": [
    "perturbation_cat = []\n",
    "for pert in merged.index:\n",
    "    perturbation_cat.append(gene_list.loc[pert, \"Perturbation effect\"])\n",
    "merged[\"Perturbation effect\"] = perturbation_cat"
   ]
  },
  {
   "cell_type": "code",
   "execution_count": 63,
   "id": "84b22f70-b127-47a7-bb69-cad430b9be72",
   "metadata": {},
   "outputs": [],
   "source": [
    "pathways = []\n",
    "cell_lines = []\n",
    "\n",
    "for cat in merged.index:\n",
    "    cell_line, pathway, _ = cat.split(\"_\")\n",
    "    pathways.append(pathway)\n",
    "    cell_lines.append(cell_line)"
   ]
  },
  {
   "cell_type": "code",
   "execution_count": 64,
   "id": "07f77da1-cce2-4a05-917b-f33abf61c266",
   "metadata": {},
   "outputs": [],
   "source": [
    "# merged[\"pathway\"] = pathways\n",
    "# merged[\"cell_line\"] = cell_lines\n",
    "# merged = merged.loc[merged.pathway==\"IFNG\"]"
   ]
  },
  {
   "cell_type": "code",
   "execution_count": 65,
   "id": "3c32c18b-8d4d-494b-b4d5-f8c8325b5681",
   "metadata": {},
   "outputs": [
    {
     "data": {
      "text/html": [
       "<div>\n",
       "<style scoped>\n",
       "    .dataframe tbody tr th:only-of-type {\n",
       "        vertical-align: middle;\n",
       "    }\n",
       "\n",
       "    .dataframe tbody tr th {\n",
       "        vertical-align: top;\n",
       "    }\n",
       "\n",
       "    .dataframe thead th {\n",
       "        text-align: right;\n",
       "    }\n",
       "</style>\n",
       "<table border=\"1\" class=\"dataframe\">\n",
       "  <thead>\n",
       "    <tr style=\"text-align: right;\">\n",
       "      <th></th>\n",
       "      <th>r_squared</th>\n",
       "      <th>sinkhorn_div_1</th>\n",
       "      <th>sinkhorn_div_10</th>\n",
       "      <th>sinkhorn_div_100</th>\n",
       "      <th>e_distance</th>\n",
       "      <th>mmd</th>\n",
       "      <th>Model</th>\n",
       "      <th>Perturbation effect</th>\n",
       "    </tr>\n",
       "  </thead>\n",
       "  <tbody>\n",
       "    <tr>\n",
       "      <th>BXPC3_IFNG_ATF3</th>\n",
       "      <td>0.988297</td>\n",
       "      <td>11.064507</td>\n",
       "      <td>1.682369</td>\n",
       "      <td>0.802616</td>\n",
       "      <td>1.530037</td>\n",
       "      <td>0.004466</td>\n",
       "      <td>Identity</td>\n",
       "      <td>4</td>\n",
       "    </tr>\n",
       "    <tr>\n",
       "      <th>BXPC3_IFNG_ATF5</th>\n",
       "      <td>0.990208</td>\n",
       "      <td>11.949556</td>\n",
       "      <td>1.823627</td>\n",
       "      <td>0.637592</td>\n",
       "      <td>1.218479</td>\n",
       "      <td>0.004108</td>\n",
       "      <td>Identity</td>\n",
       "      <td>3</td>\n",
       "    </tr>\n",
       "    <tr>\n",
       "      <th>BXPC3_IFNG_BATF2</th>\n",
       "      <td>0.987294</td>\n",
       "      <td>12.312070</td>\n",
       "      <td>2.107090</td>\n",
       "      <td>0.880882</td>\n",
       "      <td>1.703252</td>\n",
       "      <td>0.005324</td>\n",
       "      <td>Identity</td>\n",
       "      <td>3</td>\n",
       "    </tr>\n",
       "    <tr>\n",
       "      <th>BXPC3_IFNG_CEBPB</th>\n",
       "      <td>0.977679</td>\n",
       "      <td>13.963309</td>\n",
       "      <td>3.287434</td>\n",
       "      <td>1.482883</td>\n",
       "      <td>2.858195</td>\n",
       "      <td>0.007863</td>\n",
       "      <td>Identity</td>\n",
       "      <td>3</td>\n",
       "    </tr>\n",
       "    <tr>\n",
       "      <th>BXPC3_IFNG_CLK1</th>\n",
       "      <td>0.987492</td>\n",
       "      <td>14.718393</td>\n",
       "      <td>3.510284</td>\n",
       "      <td>1.032112</td>\n",
       "      <td>1.870986</td>\n",
       "      <td>0.009676</td>\n",
       "      <td>Identity</td>\n",
       "      <td>0</td>\n",
       "    </tr>\n",
       "    <tr>\n",
       "      <th>...</th>\n",
       "      <td>...</td>\n",
       "      <td>...</td>\n",
       "      <td>...</td>\n",
       "      <td>...</td>\n",
       "      <td>...</td>\n",
       "      <td>...</td>\n",
       "      <td>...</td>\n",
       "      <td>...</td>\n",
       "    </tr>\n",
       "    <tr>\n",
       "      <th>BXPC3_IFNG_TBX21</th>\n",
       "      <td>0.911556</td>\n",
       "      <td>16.785076</td>\n",
       "      <td>6.640335</td>\n",
       "      <td>5.085739</td>\n",
       "      <td>9.917276</td>\n",
       "      <td>0.022287</td>\n",
       "      <td>cellFlow</td>\n",
       "      <td>4</td>\n",
       "    </tr>\n",
       "    <tr>\n",
       "      <th>BXPC3_IFNG_TRAFD1</th>\n",
       "      <td>0.881243</td>\n",
       "      <td>22.577106</td>\n",
       "      <td>11.203094</td>\n",
       "      <td>8.185024</td>\n",
       "      <td>16.031616</td>\n",
       "      <td>0.035179</td>\n",
       "      <td>cellFlow</td>\n",
       "      <td>1</td>\n",
       "    </tr>\n",
       "    <tr>\n",
       "      <th>BXPC3_IFNG_ZFP36</th>\n",
       "      <td>0.865507</td>\n",
       "      <td>24.091625</td>\n",
       "      <td>12.971878</td>\n",
       "      <td>10.004841</td>\n",
       "      <td>19.640712</td>\n",
       "      <td>0.042789</td>\n",
       "      <td>cellFlow</td>\n",
       "      <td>1</td>\n",
       "    </tr>\n",
       "    <tr>\n",
       "      <th>BXPC3_IFNG_ZNF267</th>\n",
       "      <td>0.877904</td>\n",
       "      <td>23.326126</td>\n",
       "      <td>11.770359</td>\n",
       "      <td>8.984978</td>\n",
       "      <td>17.553630</td>\n",
       "      <td>0.040431</td>\n",
       "      <td>cellFlow</td>\n",
       "      <td>0</td>\n",
       "    </tr>\n",
       "    <tr>\n",
       "      <th>BXPC3_IFNG_ZNFX1</th>\n",
       "      <td>0.879564</td>\n",
       "      <td>22.500443</td>\n",
       "      <td>11.446777</td>\n",
       "      <td>8.768814</td>\n",
       "      <td>17.201631</td>\n",
       "      <td>0.037472</td>\n",
       "      <td>cellFlow</td>\n",
       "      <td>0</td>\n",
       "    </tr>\n",
       "  </tbody>\n",
       "</table>\n",
       "<p>141 rows × 8 columns</p>\n",
       "</div>"
      ],
      "text/plain": [
       "                   r_squared  sinkhorn_div_1  sinkhorn_div_10  \\\n",
       "BXPC3_IFNG_ATF3     0.988297       11.064507         1.682369   \n",
       "BXPC3_IFNG_ATF5     0.990208       11.949556         1.823627   \n",
       "BXPC3_IFNG_BATF2    0.987294       12.312070         2.107090   \n",
       "BXPC3_IFNG_CEBPB    0.977679       13.963309         3.287434   \n",
       "BXPC3_IFNG_CLK1     0.987492       14.718393         3.510284   \n",
       "...                      ...             ...              ...   \n",
       "BXPC3_IFNG_TBX21    0.911556       16.785076         6.640335   \n",
       "BXPC3_IFNG_TRAFD1   0.881243       22.577106        11.203094   \n",
       "BXPC3_IFNG_ZFP36    0.865507       24.091625        12.971878   \n",
       "BXPC3_IFNG_ZNF267   0.877904       23.326126        11.770359   \n",
       "BXPC3_IFNG_ZNFX1    0.879564       22.500443        11.446777   \n",
       "\n",
       "                   sinkhorn_div_100  e_distance       mmd     Model  \\\n",
       "BXPC3_IFNG_ATF3            0.802616    1.530037  0.004466  Identity   \n",
       "BXPC3_IFNG_ATF5            0.637592    1.218479  0.004108  Identity   \n",
       "BXPC3_IFNG_BATF2           0.880882    1.703252  0.005324  Identity   \n",
       "BXPC3_IFNG_CEBPB           1.482883    2.858195  0.007863  Identity   \n",
       "BXPC3_IFNG_CLK1            1.032112    1.870986  0.009676  Identity   \n",
       "...                             ...         ...       ...       ...   \n",
       "BXPC3_IFNG_TBX21           5.085739    9.917276  0.022287  cellFlow   \n",
       "BXPC3_IFNG_TRAFD1          8.185024   16.031616  0.035179  cellFlow   \n",
       "BXPC3_IFNG_ZFP36          10.004841   19.640712  0.042789  cellFlow   \n",
       "BXPC3_IFNG_ZNF267          8.984978   17.553630  0.040431  cellFlow   \n",
       "BXPC3_IFNG_ZNFX1           8.768814   17.201631  0.037472  cellFlow   \n",
       "\n",
       "                   Perturbation effect  \n",
       "BXPC3_IFNG_ATF3                      4  \n",
       "BXPC3_IFNG_ATF5                      3  \n",
       "BXPC3_IFNG_BATF2                     3  \n",
       "BXPC3_IFNG_CEBPB                     3  \n",
       "BXPC3_IFNG_CLK1                      0  \n",
       "...                                ...  \n",
       "BXPC3_IFNG_TBX21                     4  \n",
       "BXPC3_IFNG_TRAFD1                    1  \n",
       "BXPC3_IFNG_ZFP36                     1  \n",
       "BXPC3_IFNG_ZNF267                    0  \n",
       "BXPC3_IFNG_ZNFX1                     0  \n",
       "\n",
       "[141 rows x 8 columns]"
      ]
     },
     "execution_count": 65,
     "metadata": {},
     "output_type": "execute_result"
    }
   ],
   "source": [
    "merged"
   ]
  },
  {
   "cell_type": "code",
   "execution_count": 66,
   "id": "dc541ecf-127c-4ee0-9615-d7fa7c5ad283",
   "metadata": {},
   "outputs": [
    {
     "data": {
      "image/png": "[encoded data removed]",
      "text/plain": [
       "<Figure size 400x300 with 1 Axes>"
      ]
     },
     "metadata": {},
     "output_type": "display_data"
    }
   ],
   "source": [
    "plt.figure(figsize=(4, 3))\n",
    "sns.boxplot(x=\"Perturbation effect\", hue=\"Model\", y=\"r_squared\", data=merged, palette=\"Set2\", showfliers=False)\n",
    "\n",
    "# Add labels and title\n",
    "plt.title(\"R-squared\", fontsize=16)\n",
    "plt.xlabel(\"Condition\", fontsize=14)\n",
    "plt.ylabel(\"Value\", fontsize=14)\n",
    "\n",
    "# Show the plot\n",
    "plt.tight_layout()\n",
    "plt.xticks(rotation=45)\n",
    "plt.show()"
   ]
  },
  {
   "cell_type": "code",
   "execution_count": 67,
   "id": "4f23e1b3-d4e9-4db8-b753-ce88be7d7cb1",
   "metadata": {},
   "outputs": [
    {
     "data": {
      "image/png": "[encoded data removed]",
      "text/plain": [
       "<Figure size 400x300 with 1 Axes>"
      ]
     },
     "metadata": {},
     "output_type": "display_data"
    }
   ],
   "source": [
    "plt.figure(figsize=(4, 3))\n",
    "sns.boxplot(x=\"Perturbation effect\", hue=\"Model\", y=\"e_distance\", data=merged, palette=\"Set2\", showfliers=False)\n",
    "\n",
    "# Add labels and title\n",
    "plt.title(\"E-distance\", fontsize=16)\n",
    "plt.xlabel(\"Distance from control bin\", fontsize=14)\n",
    "plt.ylabel(\"Value\", fontsize=14)\n",
    "\n",
    "# Show the plot\n",
    "plt.tight_layout()\n",
    "plt.xticks(rotation=45)\n",
    "plt.show()"
   ]
  },
  {
   "cell_type": "code",
   "execution_count": 68,
   "id": "8e1556fc-cd8a-4b63-adbb-3642df9bd2b1",
   "metadata": {},
   "outputs": [],
   "source": [
    "# plt.figure(figsize=(4, 3))\n",
    "# sns.boxplot(x=\"Perturbation effect\", hue=\"Model\", y=\"e_distance\", data=merged, palette=\"Set2\", showfliers=False)\n",
    "\n",
    "# # Add labels and title\n",
    "# plt.title(\"E-distance\", fontsize=16)\n",
    "# plt.xlabel(\"Distance from control bin\", fontsize=14)\n",
    "# plt.ylabel(\"Value\", fontsize=14)\n",
    "\n",
    "# # Show the plot\n",
    "# plt.tight_layout()\n",
    "# plt.xticks(rotation=45)\n",
    "# plt.show()"
   ]
  },
  {
   "cell_type": "code",
   "execution_count": 48,
   "id": "716e6ffe-2d19-4021-a391-d2a1674298d1",
   "metadata": {},
   "outputs": [],
   "source": [
    "# plt.figure(figsize=(3, 4))\n",
    "# sns.boxplot(x=\"Perturbation effect\", hue=\"Model\", y=\"sinkhorn_div_100\", data=merged, palette=\"Set2\", showfliers=False)\n",
    "\n",
    "# # Add labels and title\n",
    "# plt.title(\"Sinkhorn 100\", fontsize=16)\n",
    "# plt.xlabel(\"Condition\", fontsize=14)\n",
    "# plt.ylabel(\"Value\", fontsize=14)\n",
    "\n",
    "# # Show the plot\n",
    "# plt.tight_layout()\n",
    "# plt.xticks(rotation=45)\n",
    "# plt.show()"
   ]
  },
  {
   "cell_type": "code",
   "execution_count": null,
   "id": "364a4c76-95f2-400b-b984-1da2d48aff28",
   "metadata": {},
   "outputs": [],
   "source": [
    "# plt.figure(figsize=(3, 4))\n",
    "# sns.boxplot(x=\"Perturbation effect\", hue=\"Model\", y=\"mmd\", data=merged, palette=\"Set2\", showfliers=False)\n",
    "\n",
    "# # Add labels and title\n",
    "# plt.title(\"MMD\", fontsize=16)\n",
    "# plt.xlabel(\"Condition\", fontsize=14)\n",
    "# plt.ylabel(\"Value\", fontsize=14)\n",
    "\n",
    "# # Show the plot\n",
    "# plt.tight_layout()\n",
    "# plt.xticks(rotation=45)\n",
    "# plt.show()"
   ]
  },
  {
   "cell_type": "code",
   "execution_count": null,
   "id": "ec54f0ae-8073-48c2-81d1-37dbd33bed55",
   "metadata": {},
   "outputs": [],
   "source": []
  },
  {
   "cell_type": "code",
   "execution_count": null,
   "id": "b071c702-2672-4e7d-9bad-dc67b2b8ffc1",
   "metadata": {},
   "outputs": [],
   "source": []
  },
  {
   "cell_type": "code",
   "execution_count": null,
   "id": "9fd02293-174f-4350-ac1a-323b12eb6b2e",
   "metadata": {},
   "outputs": [],
   "source": [
    "s"
   ]
  },
  {
   "cell_type": "code",
   "execution_count": null,
   "id": "b8e65bde-a806-4306-91cc-96c1daf7418a",
   "metadata": {},
   "outputs": [],
   "source": []
  }
 ],
 "metadata": {
  "kernelspec": {
   "display_name": "Python 3 (ipykernel)",
   "language": "python",
   "name": "python3"
  },
  "language_info": {
   "codemirror_mode": {
    "name": "ipython",
    "version": 3
   },
   "file_extension": ".py",
   "mimetype": "text/x-python",
   "name": "python",
   "nbconvert_exporter": "python",
   "pygments_lexer": "ipython3",
   "version": "3.10.15"
  }
 },
 "nbformat": 4,
 "nbformat_minor": 5
}
