{
 "cells": [
  {
   "cell_type": "code",
   "execution_count": 40,
   "id": "666fb8f1-3413-4a87-be4c-b9c095eac4fe",
   "metadata": {},
   "outputs": [],
   "source": [
    "import pandas as pd\n",
    "import seaborn as sns\n",
    "import matplotlib.pyplot as plt"
   ]
  },
  {
   "cell_type": "markdown",
   "id": "cd5130f5-2889-475f-8605-10df18bdb789",
   "metadata": {},
   "source": [
    "Identity metrics"
   ]
  },
  {
   "cell_type": "code",
   "execution_count": 41,
   "id": "2235ba60-800e-46e7-ac99-e5d00cdf869d",
   "metadata": {
    "scrolled": true
   },
   "outputs": [],
   "source": [
    "identity_metrics = pd.read_csv(\"/lustre/groups/ml01/workspace/alessandro.palma/ot_pert/out/results_metrics/metrics/split1/identity_ood_metrics_decoded_1.csv\",\n",
    "                              index_col=0)"
   ]
  },
  {
   "cell_type": "code",
   "execution_count": 42,
   "id": "3a356d80-a765-46e2-a3ec-ad2ffba455ed",
   "metadata": {},
   "outputs": [
    {
     "data": {
      "text/plain": [
       "r_squared      0.970401\n",
       "e_distance    13.409915\n",
       "mmd            0.014089\n",
       "dtype: float64"
      ]
     },
     "execution_count": 42,
     "metadata": {},
     "output_type": "execute_result"
    }
   ],
   "source": [
    "identity_metrics.mean(1)"
   ]
  },
  {
   "cell_type": "markdown",
   "id": "29c40569-3329-44d4-986f-9bc0f060c227",
   "metadata": {},
   "source": [
    "CellFlow"
   ]
  },
  {
   "cell_type": "code",
   "execution_count": 43,
   "id": "180efccf-077d-420b-b900-f86beeca4edd",
   "metadata": {},
   "outputs": [],
   "source": [
    "cellflow_metrics = pd.read_csv(\"/lustre/groups/ml01/workspace/alessandro.palma/ot_pert/out/results_metrics/metrics/split1/ood_metrics_decoded_1.csv\",\n",
    "                              index_col=0)"
   ]
  },
  {
   "cell_type": "code",
   "execution_count": 44,
   "id": "45c1e6cc-9f8e-46b9-9ef5-b52c141f9736",
   "metadata": {},
   "outputs": [
    {
     "data": {
      "text/plain": [
       "r_squared      0.966143\n",
       "e_distance    15.989579\n",
       "mmd            0.053001\n",
       "dtype: float64"
      ]
     },
     "execution_count": 44,
     "metadata": {},
     "output_type": "execute_result"
    }
   ],
   "source": [
    "cellflow_metrics.mean(1)"
   ]
  },
  {
   "cell_type": "markdown",
   "id": "069c48a4-2884-4a7e-ab84-552ef28e97fd",
   "metadata": {},
   "source": [
    "Mean"
   ]
  },
  {
   "cell_type": "code",
   "execution_count": 45,
   "id": "67c9c5b6-fe30-4ca1-82c6-46e0aeb7ab07",
   "metadata": {},
   "outputs": [],
   "source": [
    "mean_metrics = pd.read_csv(\"/lustre/groups/ml01/workspace/alessandro.palma/ot_pert/out/results_metrics/metrics/split1/mean_train_metrics_decoded_1.csv\",\n",
    "                              index_col=0)"
   ]
  },
  {
   "cell_type": "code",
   "execution_count": 46,
   "id": "51d680e4-220f-45f7-8a2b-0d2e35494d05",
   "metadata": {},
   "outputs": [
    {
     "data": {
      "text/plain": [
       "r_squared      0.973691\n",
       "e_distance    11.996061\n",
       "mmd            0.005344\n",
       "dtype: float64"
      ]
     },
     "execution_count": 46,
     "metadata": {},
     "output_type": "execute_result"
    }
   ],
   "source": [
    "mean_metrics.mean(1)"
   ]
  },
  {
   "cell_type": "markdown",
   "id": "45c54c65-bc89-4850-adfd-30bc2ee653b4",
   "metadata": {},
   "source": [
    "# Plot comparisons"
   ]
  },
  {
   "cell_type": "code",
   "execution_count": 47,
   "id": "270d6c61-aeb1-400d-801b-549c48224661",
   "metadata": {},
   "outputs": [],
   "source": [
    "merged = pd.concat([identity_metrics, mean_metrics, cellflow_metrics], axis=1).T"
   ]
  },
  {
   "cell_type": "code",
   "execution_count": 48,
   "id": "11441d65-ae34-4257-92bc-5a22a7cf5c19",
   "metadata": {},
   "outputs": [],
   "source": [
    "merged[\"Model\"] = [\"Identity\"]*identity_metrics.shape[1] + [\"Mean\"]*mean_metrics.shape[1] + [\"cellFlow\"]*cellflow_metrics.shape[1]"
   ]
  },
  {
   "cell_type": "code",
   "execution_count": 49,
   "id": "d0c30163-9699-45a5-bcd9-39ca35b4b845",
   "metadata": {},
   "outputs": [
    {
     "data": {
      "text/html": [
       "<div>\n",
       "<style scoped>\n",
       "    .dataframe tbody tr th:only-of-type {\n",
       "        vertical-align: middle;\n",
       "    }\n",
       "\n",
       "    .dataframe tbody tr th {\n",
       "        vertical-align: top;\n",
       "    }\n",
       "\n",
       "    .dataframe thead th {\n",
       "        text-align: right;\n",
       "    }\n",
       "</style>\n",
       "<table border=\"1\" class=\"dataframe\">\n",
       "  <thead>\n",
       "    <tr style=\"text-align: right;\">\n",
       "      <th></th>\n",
       "      <th>r_squared</th>\n",
       "      <th>e_distance</th>\n",
       "      <th>mmd</th>\n",
       "    </tr>\n",
       "    <tr>\n",
       "      <th>Model</th>\n",
       "      <th></th>\n",
       "      <th></th>\n",
       "      <th></th>\n",
       "    </tr>\n",
       "  </thead>\n",
       "  <tbody>\n",
       "    <tr>\n",
       "      <th>Identity</th>\n",
       "      <td>0.970401</td>\n",
       "      <td>13.409915</td>\n",
       "      <td>0.014089</td>\n",
       "    </tr>\n",
       "    <tr>\n",
       "      <th>Mean</th>\n",
       "      <td>0.973691</td>\n",
       "      <td>11.996061</td>\n",
       "      <td>0.005344</td>\n",
       "    </tr>\n",
       "    <tr>\n",
       "      <th>cellFlow</th>\n",
       "      <td>0.966143</td>\n",
       "      <td>15.989579</td>\n",
       "      <td>0.053001</td>\n",
       "    </tr>\n",
       "  </tbody>\n",
       "</table>\n",
       "</div>"
      ],
      "text/plain": [
       "          r_squared  e_distance       mmd\n",
       "Model                                    \n",
       "Identity   0.970401   13.409915  0.014089\n",
       "Mean       0.973691   11.996061  0.005344\n",
       "cellFlow   0.966143   15.989579  0.053001"
      ]
     },
     "execution_count": 49,
     "metadata": {},
     "output_type": "execute_result"
    }
   ],
   "source": [
    "merged.groupby(\"Model\").mean()"
   ]
  },
  {
   "cell_type": "code",
   "execution_count": 50,
   "id": "a05ff1fc-1c14-404b-99b5-544048eca41c",
   "metadata": {},
   "outputs": [
    {
     "name": "stderr",
     "output_type": "stream",
     "text": [
      "/tmp/ipykernel_1321592/1550834148.py:2: FutureWarning: \n",
      "\n",
      "Passing `palette` without assigning `hue` is deprecated and will be removed in v0.14.0. Assign the `x` variable to `hue` and set `legend=False` for the same effect.\n",
      "\n",
      "  sns.boxplot(x=\"Model\", y=\"r_squared\", data=merged, palette=\"Set2\", showfliers=False)\n"
     ]
    },
    {
     "data": {
      "image/png": "[encoded data removed]",
      "text/plain": [
       "<Figure size 200x400 with 1 Axes>"
      ]
     },
     "metadata": {},
     "output_type": "display_data"
    }
   ],
   "source": [
    "plt.figure(figsize=(2, 4))\n",
    "sns.boxplot(x=\"Model\", y=\"r_squared\", data=merged, palette=\"Set2\", showfliers=False)\n",
    "\n",
    "# Add labels and title\n",
    "plt.title(\"Boxplot of Values by Condition\", fontsize=16)\n",
    "plt.xlabel(\"Condition\", fontsize=14)\n",
    "plt.ylabel(\"Value\", fontsize=14)\n",
    "\n",
    "# Show the plot\n",
    "plt.title(\"R-squared\", fontsize=16)\n",
    "plt.tight_layout()\n",
    "plt.xticks(rotation=45)\n",
    "plt.show()"
   ]
  },
  {
   "cell_type": "code",
   "execution_count": 51,
   "id": "fb3915ea-166b-492a-9f39-9f14973f784e",
   "metadata": {},
   "outputs": [
    {
     "name": "stderr",
     "output_type": "stream",
     "text": [
      "/tmp/ipykernel_1321592/2984718992.py:2: FutureWarning: \n",
      "\n",
      "Passing `palette` without assigning `hue` is deprecated and will be removed in v0.14.0. Assign the `x` variable to `hue` and set `legend=False` for the same effect.\n",
      "\n",
      "  sns.boxplot(x=\"Model\", y=\"e_distance\", data=merged, palette=\"Set2\", showfliers=False)\n"
     ]
    },
    {
     "data": {
      "image/png": "[encoded data removed]",
      "text/plain": [
       "<Figure size 200x400 with 1 Axes>"
      ]
     },
     "metadata": {},
     "output_type": "display_data"
    }
   ],
   "source": [
    "plt.figure(figsize=(2, 4))\n",
    "sns.boxplot(x=\"Model\", y=\"e_distance\", data=merged, palette=\"Set2\", showfliers=False)\n",
    "\n",
    "# Add labels and title\n",
    "plt.title(\"Boxplot of Values by Condition\", fontsize=16)\n",
    "plt.xlabel(\"Condition\", fontsize=14)\n",
    "plt.ylabel(\"Value\", fontsize=14)\n",
    "\n",
    "# Show the plot\n",
    "plt.tight_layout()\n",
    "plt.title(\"E-distance\", fontsize=16)\n",
    "plt.xticks(rotation=45)\n",
    "plt.show()"
   ]
  },
  {
   "cell_type": "code",
   "execution_count": 52,
   "id": "7fb66e05-83c0-4e40-b038-5305844707a5",
   "metadata": {},
   "outputs": [
    {
     "name": "stderr",
     "output_type": "stream",
     "text": [
      "/tmp/ipykernel_1321592/857496663.py:2: FutureWarning: \n",
      "\n",
      "Passing `palette` without assigning `hue` is deprecated and will be removed in v0.14.0. Assign the `x` variable to `hue` and set `legend=False` for the same effect.\n",
      "\n",
      "  sns.boxplot(x=\"Model\", y=\"mmd\", data=merged, palette=\"Set2\", showfliers=False)\n"
     ]
    },
    {
     "data": {
      "image/png": "[encoded data removed]",
      "text/plain": [
       "<Figure size 200x400 with 1 Axes>"
      ]
     },
     "metadata": {},
     "output_type": "display_data"
    }
   ],
   "source": [
    "plt.figure(figsize=(2, 4))\n",
    "sns.boxplot(x=\"Model\", y=\"mmd\", data=merged, palette=\"Set2\", showfliers=False)\n",
    "\n",
    "# Add labels and title\n",
    "plt.title(\"Boxplot of Values by Condition\", fontsize=16)\n",
    "plt.xlabel(\"Condition\", fontsize=14)\n",
    "plt.ylabel(\"Value\", fontsize=14)\n",
    "\n",
    "# Show the plot\n",
    "plt.tight_layout\n",
    "plt.title(\"MMD\", fontsize=16)\n",
    "plt.xticks(rotation=45)\n",
    "plt.show()"
   ]
  },
  {
   "cell_type": "code",
   "execution_count": null,
   "id": "0cca18b0-af5b-4433-880e-a31053e660e8",
   "metadata": {},
   "outputs": [],
   "source": []
  },
  {
   "cell_type": "code",
   "execution_count": null,
   "id": "e193b7d0-2806-4bd4-a674-7ac2e2b37655",
   "metadata": {},
   "outputs": [],
   "source": []
  },
  {
   "cell_type": "code",
   "execution_count": null,
   "id": "f1e47d55-e5ac-4506-8e55-848933b2fe5f",
   "metadata": {},
   "outputs": [],
   "source": []
  },
  {
   "cell_type": "code",
   "execution_count": null,
   "id": "f189b957-0003-448f-bf6d-239a1a524971",
   "metadata": {},
   "outputs": [],
   "source": []
  }
 ],
 "metadata": {
  "kernelspec": {
   "display_name": "Python 3 (ipykernel)",
   "language": "python",
   "name": "python3"
  },
  "language_info": {
   "codemirror_mode": {
    "name": "ipython",
    "version": 3
   },
   "file_extension": ".py",
   "mimetype": "text/x-python",
   "name": "python",
   "nbconvert_exporter": "python",
   "pygments_lexer": "ipython3",
   "version": "3.10.15"
  }
 },
 "nbformat": 4,
 "nbformat_minor": 5
}
