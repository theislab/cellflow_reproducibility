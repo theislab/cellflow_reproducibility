{
 "cells": [
  {
   "cell_type": "code",
   "execution_count": 12,
   "id": "666fb8f1-3413-4a87-be4c-b9c095eac4fe",
   "metadata": {},
   "outputs": [],
   "source": [
    "import pandas as pd\n",
    "import seaborn as sns\n",
    "import matplotlib.pyplot as plt\n",
    "import numpy as np"
   ]
  },
  {
   "cell_type": "markdown",
   "id": "2caf0978-f5d3-48c3-809b-68df5031bad9",
   "metadata": {},
   "source": [
    "Identity metrics"
   ]
  },
  {
   "cell_type": "code",
   "execution_count": 13,
   "id": "2235ba60-800e-46e7-ac99-e5d00cdf869d",
   "metadata": {},
   "outputs": [],
   "source": [
    "identity_metrics = pd.read_csv(\"/lustre/groups/ml01/workspace/alessandro.palma/ot_pert/out/results_metrics/metrics/sweep_gene/split3/identity_ood_metrics_encoded_split_3.csv\",\n",
    "                              index_col=0)"
   ]
  },
  {
   "cell_type": "code",
   "execution_count": 14,
   "id": "eeecbaf0-7caa-4ee7-88c1-49cb17e4e3be",
   "metadata": {},
   "outputs": [
    {
     "data": {
      "text/plain": [
       "r_squared           0.972522\n",
       "sinkhorn_div_1      9.227714\n",
       "sinkhorn_div_10     3.223625\n",
       "sinkhorn_div_100    2.124687\n",
       "e_distance          4.090232\n",
       "mmd                 0.013308\n",
       "dtype: float64"
      ]
     },
     "execution_count": 14,
     "metadata": {},
     "output_type": "execute_result"
    }
   ],
   "source": [
    "identity_metrics.mean(1)"
   ]
  },
  {
   "cell_type": "markdown",
   "id": "d8d3f0f0-415e-4da7-8135-c316022a3842",
   "metadata": {},
   "source": [
    "CellFlow"
   ]
  },
  {
   "cell_type": "code",
   "execution_count": 15,
   "id": "31cd1c7e-05f0-4718-938a-9218b67cb9a8",
   "metadata": {},
   "outputs": [],
   "source": [
    "cellflow_metrics = pd.read_csv(\"/lustre/groups/ml01/workspace/alessandro.palma/ot_pert/out/results_metrics/metrics/sweep_gene/split3/cellflow_ood_metrics_encoded_split_3.csv\",\n",
    "                              index_col=0)"
   ]
  },
  {
   "cell_type": "code",
   "execution_count": 16,
   "id": "66be12e8-7188-48f2-907f-4a528bebd46f",
   "metadata": {},
   "outputs": [
    {
     "data": {
      "text/plain": [
       "r_squared            0.980141\n",
       "sinkhorn_div_1      10.298834\n",
       "sinkhorn_div_10      3.686492\n",
       "sinkhorn_div_100     1.796306\n",
       "e_distance           3.212737\n",
       "mmd                  0.010846\n",
       "dtype: float64"
      ]
     },
     "execution_count": 16,
     "metadata": {},
     "output_type": "execute_result"
    }
   ],
   "source": [
    "cellflow_metrics.mean(1)"
   ]
  },
  {
   "cell_type": "markdown",
   "id": "d134434d-9b88-49ab-900c-cb2d9f93e9c8",
   "metadata": {},
   "source": [
    "Metrics"
   ]
  },
  {
   "cell_type": "code",
   "execution_count": 17,
   "id": "2dab4f16-ef2e-456c-b1a8-65a87bf4f119",
   "metadata": {},
   "outputs": [],
   "source": [
    "# mean_metrics = pd.read_csv(\"/lustre/groups/ml01/workspace/alessandro.palma/ot_pert/out/results_metrics/metrics/sweep_gene/split3/mean_train_metrics_encoded_split_3.csv\",\n",
    "#                               index_col=0)"
   ]
  },
  {
   "cell_type": "code",
   "execution_count": 18,
   "id": "ba06cab9-6172-4e19-9ef1-4622fc3b5006",
   "metadata": {},
   "outputs": [],
   "source": [
    "# mean_metrics.mean(1)"
   ]
  },
  {
   "cell_type": "markdown",
   "id": "574a01df-f68b-4c58-810c-f0831dcf3e47",
   "metadata": {},
   "source": [
    "## Get gene list by distance from the controls "
   ]
  },
  {
   "cell_type": "code",
   "execution_count": 19,
   "id": "881a2b3f-af89-428b-ab7a-758692469bed",
   "metadata": {},
   "outputs": [],
   "source": [
    "identity_deg = pd.read_csv(\"/lustre/groups/ml01/workspace/alessandro.palma/ot_pert/out/results_metrics/metrics/sweep_gene/split3/identity_ood_metrics_deg_split_3.csv\",\n",
    "                              index_col=0)"
   ]
  },
  {
   "cell_type": "code",
   "execution_count": 20,
   "id": "f75db290-e60d-4fc3-92f3-6f587c8c7414",
   "metadata": {},
   "outputs": [],
   "source": [
    "gene_list = identity_deg.T.sort_values(by=\"r_squared\")\n",
    "gene_list[\"perturbation\"] = gene_list.index.copy()\n",
    "gene_list = gene_list.reset_index(drop=True)"
   ]
  },
  {
   "cell_type": "code",
   "execution_count": 21,
   "id": "a9608341-80a2-4dfc-8716-96c0d7b77efa",
   "metadata": {},
   "outputs": [],
   "source": [
    "n_splits = 5\n",
    "gene_list[\"Perturbation effect\"] = None\n",
    "\n",
    "range_cond = np.arange(len(gene_list))\n",
    "range_cond_split = np.array_split(range_cond,n_splits)\n",
    "for i, idx_list in enumerate(range_cond_split):\n",
    "    gene_list.loc[idx_list, \"Perturbation effect\"] = i\n",
    "gene_list = gene_list.set_index(\"perturbation\") "
   ]
  },
  {
   "cell_type": "markdown",
   "id": "c8798228-1078-4719-a9fc-3df8176be598",
   "metadata": {},
   "source": [
    "# Plot comparisons"
   ]
  },
  {
   "cell_type": "code",
   "execution_count": 29,
   "id": "b304c2b0-4555-4b0d-a959-3d128b69b9e2",
   "metadata": {},
   "outputs": [],
   "source": [
    "merged = pd.concat([identity_metrics, cellflow_metrics], axis=1).T"
   ]
  },
  {
   "cell_type": "code",
   "execution_count": 30,
   "id": "f12efd97-5ebe-4b3a-aa31-3eb8d0cef2fd",
   "metadata": {},
   "outputs": [],
   "source": [
    "merged[\"Model\"] = [\"Identity\"]*identity_metrics.shape[1] + [\"cellFlow\"]*cellflow_metrics.shape[1]"
   ]
  },
  {
   "cell_type": "code",
   "execution_count": 31,
   "id": "6d41a20b-662d-492d-a370-4345344b88e1",
   "metadata": {},
   "outputs": [],
   "source": [
    "perturbation_cat = []\n",
    "for pert in merged.index:\n",
    "    perturbation_cat.append(gene_list.loc[pert, \"Perturbation effect\"])\n",
    "merged[\"Perturbation effect\"] = perturbation_cat"
   ]
  },
  {
   "cell_type": "code",
   "execution_count": 32,
   "id": "dc541ecf-127c-4ee0-9615-d7fa7c5ad283",
   "metadata": {},
   "outputs": [
    {
     "data": {
      "image/png": "[encoded data removed]",
      "text/plain": [
       "<Figure size 400x300 with 1 Axes>"
      ]
     },
     "metadata": {},
     "output_type": "display_data"
    }
   ],
   "source": [
    "plt.figure(figsize=(4, 3))\n",
    "sns.boxplot(x=\"Perturbation effect\", hue=\"Model\", y=\"r_squared\", data=merged, palette=\"Set2\", showfliers=False)\n",
    "\n",
    "# Add labels and title\n",
    "plt.title(\"R-squared\", fontsize=16)\n",
    "plt.xlabel(\"Condition\", fontsize=14)\n",
    "plt.ylabel(\"Value\", fontsize=14)\n",
    "\n",
    "# Show the plot\n",
    "plt.tight_layout()\n",
    "plt.xticks(rotation=45)\n",
    "plt.show()"
   ]
  },
  {
   "cell_type": "code",
   "execution_count": 33,
   "id": "4f23e1b3-d4e9-4db8-b753-ce88be7d7cb1",
   "metadata": {},
   "outputs": [
    {
     "data": {
      "image/png": "[encoded data removed]",
      "text/plain": [
       "<Figure size 400x300 with 1 Axes>"
      ]
     },
     "metadata": {},
     "output_type": "display_data"
    }
   ],
   "source": [
    "plt.figure(figsize=(4, 3))\n",
    "sns.boxplot(x=\"Perturbation effect\", hue=\"Model\", y=\"e_distance\", data=merged, palette=\"Set2\", showfliers=False)\n",
    "\n",
    "# Add labels and title\n",
    "plt.title(\"E-distance\", fontsize=16)\n",
    "plt.xlabel(\"Distance from control bin\", fontsize=14)\n",
    "plt.ylabel(\"Value\", fontsize=14)\n",
    "\n",
    "# Show the plot\n",
    "plt.tight_layout()\n",
    "plt.xticks(rotation=45)\n",
    "plt.show()"
   ]
  },
  {
   "cell_type": "code",
   "execution_count": 23,
   "id": "8e1556fc-cd8a-4b63-adbb-3642df9bd2b1",
   "metadata": {},
   "outputs": [],
   "source": [
    "# plt.figure(figsize=(3, 4))\n",
    "# sns.boxplot(x=\"Perturbation effect\", hue=\"Model\", y=\"sinkhorn_div_1\", data=merged, palette=\"Set2\", showfliers=False)\n",
    "\n",
    "# # Add labels and title\n",
    "# plt.title(\"Sinkhorn 1\", fontsize=16)\n",
    "# plt.xlabel(\"Condition\", fontsize=14)\n",
    "# plt.ylabel(\"Value\", fontsize=14)\n",
    "\n",
    "# # Show the plot\n",
    "# plt.tight_layout()\n",
    "# plt.xticks(rotation=45)\n",
    "# plt.show()"
   ]
  },
  {
   "cell_type": "code",
   "execution_count": 26,
   "id": "d1604796-e577-4ae3-824e-e38e8f02cf29",
   "metadata": {},
   "outputs": [],
   "source": [
    "# plt.figure(figsize=(3, 4))\n",
    "# sns.boxplot(x=\"Perturbation effect\", hue=\"Model\", y=\"sinkhorn_div_10\", data=merged, palette=\"Set2\", showfliers=False)\n",
    "\n",
    "# # Add labels and title\n",
    "# plt.title(\"Sinkhorn 10\", fontsize=16)\n",
    "# plt.xlabel(\"Condition\", fontsize=14)\n",
    "# plt.ylabel(\"Value\", fontsize=14)\n",
    "\n",
    "# # Show the plot\n",
    "# plt.tight_layout()\n",
    "# plt.xticks(rotation=45)\n",
    "# plt.show()"
   ]
  },
  {
   "cell_type": "code",
   "execution_count": 24,
   "id": "716e6ffe-2d19-4021-a391-d2a1674298d1",
   "metadata": {},
   "outputs": [],
   "source": [
    "# plt.figure(figsize=(3, 4))\n",
    "# sns.boxplot(x=\"Perturbation effect\", hue=\"Model\", y=\"sinkhorn_div_100\", data=merged, palette=\"Set2\", showfliers=False)\n",
    "\n",
    "# # Add labels and title\n",
    "# plt.title(\"Sinkhorn 100\", fontsize=16)\n",
    "# plt.xlabel(\"Condition\", fontsize=14)\n",
    "# plt.ylabel(\"Value\", fontsize=14)\n",
    "\n",
    "# # Show the plot\n",
    "# plt.tight_layout()\n",
    "# plt.xticks(rotation=45)\n",
    "# plt.show()"
   ]
  },
  {
   "cell_type": "code",
   "execution_count": 25,
   "id": "364a4c76-95f2-400b-b984-1da2d48aff28",
   "metadata": {},
   "outputs": [],
   "source": [
    "# plt.figure(figsize=(3, 4))\n",
    "# sns.boxplot(x=\"Perturbation effect\", hue=\"Model\", y=\"mmd\", data=merged, palette=\"Set2\", showfliers=False)\n",
    "\n",
    "# # Add labels and title\n",
    "# plt.title(\"MMD\", fontsize=16)\n",
    "# plt.xlabel(\"Condition\", fontsize=14)\n",
    "# plt.ylabel(\"Value\", fontsize=14)\n",
    "\n",
    "# # Show the plot\n",
    "# plt.tight_layout()\n",
    "# plt.xticks(rotation=45)\n",
    "# plt.show()"
   ]
  },
  {
   "cell_type": "code",
   "execution_count": null,
   "id": "ec54f0ae-8073-48c2-81d1-37dbd33bed55",
   "metadata": {},
   "outputs": [],
   "source": []
  },
  {
   "cell_type": "code",
   "execution_count": null,
   "id": "b071c702-2672-4e7d-9bad-dc67b2b8ffc1",
   "metadata": {},
   "outputs": [],
   "source": []
  },
  {
   "cell_type": "code",
   "execution_count": null,
   "id": "9fd02293-174f-4350-ac1a-323b12eb6b2e",
   "metadata": {},
   "outputs": [],
   "source": [
    "s"
   ]
  },
  {
   "cell_type": "code",
   "execution_count": null,
   "id": "b8e65bde-a806-4306-91cc-96c1daf7418a",
   "metadata": {},
   "outputs": [],
   "source": []
  }
 ],
 "metadata": {
  "kernelspec": {
   "display_name": "Python 3 (ipykernel)",
   "language": "python",
   "name": "python3"
  },
  "language_info": {
   "codemirror_mode": {
    "name": "ipython",
    "version": 3
   },
   "file_extension": ".py",
   "mimetype": "text/x-python",
   "name": "python",
   "nbconvert_exporter": "python",
   "pygments_lexer": "ipython3",
   "version": "3.10.15"
  }
 },
 "nbformat": 4,
 "nbformat_minor": 5
}
