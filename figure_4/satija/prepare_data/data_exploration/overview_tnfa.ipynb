{
 "cells": [
  {
   "cell_type": "code",
   "execution_count": 1,
   "id": "d6a554cd-54ba-4915-840a-e809a0f004a9",
   "metadata": {},
   "outputs": [],
   "source": [
    "import matplotlib.pyplot as plt\n",
    "import scanpy as sc"
   ]
  },
  {
   "cell_type": "code",
   "execution_count": 2,
   "id": "f5b3cba7-1326-4c66-b080-22a229806a94",
   "metadata": {},
   "outputs": [],
   "source": [
    "ifng = sc.read('/home/icb/lea.zimmermann/projects/pertot/data/satija_h5ad/TNFA_Perturb_seq.h5ad')"
   ]
  },
  {
   "cell_type": "code",
   "execution_count": 3,
   "id": "fa83cfbc-9258-46a3-a6f6-882f5e7092b9",
   "metadata": {},
   "outputs": [
    {
     "data": {
      "text/plain": [
       "AnnData object with n_obs × n_vars = 386631 × 33525\n",
       "    obs: 'orig.ident', 'nCount_RNA', 'nFeature_RNA', 'sample', 'cell_type', 'percent.mito', 'sample_ID', 'Batch_info', 'bc1_well', 'bc2_well', 'bc3_well', 'guide', 'gene', 'mixscale_score'\n",
       "    var: 'vst.mean', 'vst.variance', 'vst.variance.expected', 'vst.variance.standardized', 'vst.variable'"
      ]
     },
     "execution_count": 3,
     "metadata": {},
     "output_type": "execute_result"
    }
   ],
   "source": [
    "ifng_total = ifng\n",
    "ifng_total"
   ]
  },
  {
   "cell_type": "code",
   "execution_count": null,
   "id": "423176d6-552f-420b-9e7d-81c755d11e9b",
   "metadata": {},
   "outputs": [],
   "source": [
    "sc.pp.highly_variable_genes(ifng_total, inplace=True, n_top_genes=2000)\n",
    "ifng_total = ifng_total[:,ifng_total.var[\"highly_variable\"]==True]\n",
    "sc.pp.pca(ifng_total)"
   ]
  },
  {
   "cell_type": "code",
   "execution_count": null,
   "id": "197f369b-e964-4e75-bba6-00cc418de271",
   "metadata": {},
   "outputs": [],
   "source": [
    "ifng_total.obs['perturbed'] = ifng_total.obs['gene'] != 'NT'\n",
    "sc.pl.pca(ifng_total, color='perturbed')"
   ]
  },
  {
   "cell_type": "code",
   "execution_count": null,
   "id": "d825f136-f1a8-42f4-ba24-46423df5e4eb",
   "metadata": {},
   "outputs": [],
   "source": [
    "sc.pl.pca(ifng_total, color='cell_type')"
   ]
  },
  {
   "cell_type": "code",
   "execution_count": null,
   "id": "adc662c4-d8ae-4b15-901c-aca16ecb7845",
   "metadata": {},
   "outputs": [],
   "source": [
    "cell_line_adata = []\n",
    "for cl in ifng.obs['cell_type'].unique():\n",
    "    adata = ifng[ifng.obs['cell_type'] ==  cl, :]\n",
    "    sc.pp.highly_variable_genes(adata, inplace=True, n_top_genes=2000)\n",
    "    adata = adata[:,adata.var[\"highly_variable\"]==True]\n",
    "    sc.pp.pca(adata)\n",
    "    cell_line_adata.append(adata)"
   ]
  },
  {
   "cell_type": "code",
   "execution_count": null,
   "id": "07977233-ff37-4717-a97a-3b6ccc8d041a",
   "metadata": {},
   "outputs": [],
   "source": [
    "for cl in cell_line_adata:\n",
    "    sc.pl.pca(cl, color='gene')"
   ]
  },
  {
   "cell_type": "code",
   "execution_count": null,
   "id": "990c17b4-6983-4690-aff5-afdc3532a131",
   "metadata": {},
   "outputs": [],
   "source": [
    "for cl in cell_line_adata:\n",
    "    cl.obs['perturbed'] = cl.obs['gene'] != 'NT'\n",
    "    sc.pl.pca(cl, color='perturbed')"
   ]
  },
  {
   "cell_type": "code",
   "execution_count": null,
   "id": "28143c6d-7161-4b94-a63b-e97b28af7b26",
   "metadata": {},
   "outputs": [],
   "source": []
  }
 ],
 "metadata": {
  "kernelspec": {
   "display_name": "ott",
   "language": "python",
   "name": "ott"
  },
  "language_info": {
   "codemirror_mode": {
    "name": "ipython",
    "version": 3
   },
   "file_extension": ".py",
   "mimetype": "text/x-python",
   "name": "python",
   "nbconvert_exporter": "python",
   "pygments_lexer": "ipython3",
   "version": "3.10.0"
  }
 },
 "nbformat": 4,
 "nbformat_minor": 5
}
