{
 "cells": [
  {
   "cell_type": "code",
   "execution_count": null,
   "metadata": {},
   "outputs": [
    {
     "ename": "ModuleNotFoundError",
     "evalue": "No module named 'cfp'",
     "output_type": "error",
     "traceback": [
      "\u001b[0;31m---------------------------------------------------------------------------\u001b[0m",
      "\u001b[0;31mModuleNotFoundError\u001b[0m                       Traceback (most recent call last)",
      "\u001b[1;32m/home/icb/lea.zimmermann/projects/ot_pert_reproducibility/evaluation/evaluate_downstream/add_source_cells_ood_set.ipynb Cell 1\u001b[0m line \u001b[0;36m1\n\u001b[1;32m     <a href='vscode-notebook-cell://localhost:8087/home/icb/lea.zimmermann/projects/ot_pert_reproducibility/evaluation/evaluate_downstream/add_source_cells_ood_set.ipynb#W0sdnNjb2RlLXJlbW90ZQ%3D%3D?line=13'>14</a>\u001b[0m \u001b[39mimport\u001b[39;00m \u001b[39mos\u001b[39;00m\n\u001b[1;32m     <a href='vscode-notebook-cell://localhost:8087/home/icb/lea.zimmermann/projects/ot_pert_reproducibility/evaluation/evaluate_downstream/add_source_cells_ood_set.ipynb#W0sdnNjb2RlLXJlbW90ZQ%3D%3D?line=14'>15</a>\u001b[0m \u001b[39mimport\u001b[39;00m \u001b[39mpickle\u001b[39;00m \u001b[39mas\u001b[39;00m \u001b[39mpkl\u001b[39;00m\n\u001b[0;32m---> <a href='vscode-notebook-cell://localhost:8087/home/icb/lea.zimmermann/projects/ot_pert_reproducibility/evaluation/evaluate_downstream/add_source_cells_ood_set.ipynb#W0sdnNjb2RlLXJlbW90ZQ%3D%3D?line=15'>16</a>\u001b[0m \u001b[39mfrom\u001b[39;00m \u001b[39mcfp\u001b[39;00m \u001b[39mimport\u001b[39;00m preprocessing \u001b[39mas\u001b[39;00m cfpp\n",
      "\u001b[0;31mModuleNotFoundError\u001b[0m: No module named 'cfp'"
     ]
    }
   ],
   "source": [
    "import scanpy as sc\n",
    "import numpy as np\n",
    "import anndata as ad\n",
    "import pandas as pd\n",
    "from scipy.sparse import csr_matrix\n",
    "from tqdm import tqdm \n",
    "from collections import defaultdict\n",
    "import itertools\n",
    "import argparse\n",
    "\n",
    "import sys \n",
    "sys.path.insert(0, \"..\")\n",
    "\n",
    "import os\n",
    "import pickle as pkl\n",
    "from cfp import preprocessing as cfpp"
   ]
  },
  {
   "cell_type": "code",
   "execution_count": 1,
   "metadata": {},
   "outputs": [
    {
     "ename": "NameError",
     "evalue": "name 'sc' is not defined",
     "output_type": "error",
     "traceback": [
      "\u001b[0;31m---------------------------------------------------------------------------\u001b[0m",
      "\u001b[0;31mNameError\u001b[0m                                 Traceback (most recent call last)",
      "\u001b[1;32m/home/icb/lea.zimmermann/projects/ot_pert_reproducibility/evaluation/evaluate_downstream/add_source_cells_ood_set.ipynb Cell 2\u001b[0m line \u001b[0;36m8\n\u001b[1;32m      <a href='vscode-notebook-cell://localhost:8087/home/icb/lea.zimmermann/projects/ot_pert_reproducibility/evaluation/evaluate_downstream/add_source_cells_ood_set.ipynb#W1sdnNjb2RlLXJlbW90ZQ%3D%3D?line=4'>5</a>\u001b[0m ood_path \u001b[39m=\u001b[39m \u001b[39mf\u001b[39m\u001b[39m'\u001b[39m\u001b[39m/lustre/groups/ml01/workspace/ot_perturbation/data/satija/datasets/adata_ood_final_pathway_cell_type/\u001b[39m\u001b[39m{\u001b[39;00mood_cell_type\u001b[39m}\u001b[39;00m\u001b[39m_\u001b[39m\u001b[39m{\u001b[39;00mood_pathway\u001b[39m}\u001b[39;00m\u001b[39m/adata_ood_\u001b[39m\u001b[39m{\u001b[39;00mood_cell_type\u001b[39m}\u001b[39;00m\u001b[39m_\u001b[39m\u001b[39m{\u001b[39;00mood_pathway\u001b[39m}\u001b[39;00m\u001b[39m.h5ad\u001b[39m\u001b[39m'\u001b[39m\n\u001b[1;32m      <a href='vscode-notebook-cell://localhost:8087/home/icb/lea.zimmermann/projects/ot_pert_reproducibility/evaluation/evaluate_downstream/add_source_cells_ood_set.ipynb#W1sdnNjb2RlLXJlbW90ZQ%3D%3D?line=5'>6</a>\u001b[0m train_path \u001b[39m=\u001b[39m \u001b[39mf\u001b[39m\u001b[39m'\u001b[39m\u001b[39m/lustre/groups/ml01/workspace/ot_perturbation/data/satija/datasets/adata_ood_final_pathway_cell_type/\u001b[39m\u001b[39m{\u001b[39;00mood_cell_type\u001b[39m}\u001b[39;00m\u001b[39m_\u001b[39m\u001b[39m{\u001b[39;00mood_pathway\u001b[39m}\u001b[39;00m\u001b[39m/adata_train_\u001b[39m\u001b[39m{\u001b[39;00mood_cell_type\u001b[39m}\u001b[39;00m\u001b[39m_\u001b[39m\u001b[39m{\u001b[39;00mood_pathway\u001b[39m}\u001b[39;00m\u001b[39m.h5ad\u001b[39m\u001b[39m'\u001b[39m\n\u001b[0;32m----> <a href='vscode-notebook-cell://localhost:8087/home/icb/lea.zimmermann/projects/ot_pert_reproducibility/evaluation/evaluate_downstream/add_source_cells_ood_set.ipynb#W1sdnNjb2RlLXJlbW90ZQ%3D%3D?line=7'>8</a>\u001b[0m ood \u001b[39m=\u001b[39m sc\u001b[39m.\u001b[39mread_h5ad(ood_path)\n\u001b[1;32m      <a href='vscode-notebook-cell://localhost:8087/home/icb/lea.zimmermann/projects/ot_pert_reproducibility/evaluation/evaluate_downstream/add_source_cells_ood_set.ipynb#W1sdnNjb2RlLXJlbW90ZQ%3D%3D?line=8'>9</a>\u001b[0m train \u001b[39m=\u001b[39m sc\u001b[39m.\u001b[39mread_h5ad(train_path)\n\u001b[1;32m     <a href='vscode-notebook-cell://localhost:8087/home/icb/lea.zimmermann/projects/ot_pert_reproducibility/evaluation/evaluate_downstream/add_source_cells_ood_set.ipynb#W1sdnNjb2RlLXJlbW90ZQ%3D%3D?line=10'>11</a>\u001b[0m ood_genes \u001b[39m=\u001b[39m ood\u001b[39m.\u001b[39mvar_names\n",
      "\u001b[0;31mNameError\u001b[0m: name 'sc' is not defined"
     ]
    }
   ],
   "source": [
    "ood_condition = 'K562_INS'\n",
    "ood_pathway = ood_condition.split('_')[1]\n",
    "ood_cell_type = ood_condition.split('_')[0]\n",
    "\n",
    "ood_path = f'/lustre/groups/ml01/workspace/ot_perturbation/data/satija/datasets/adata_ood_final_pathway_cell_type/{ood_cell_type}_{ood_pathway}/adata_ood_{ood_cell_type}_{ood_pathway}.h5ad'\n",
    "train_path = f'/lustre/groups/ml01/workspace/ot_perturbation/data/satija/datasets/adata_ood_final_pathway_cell_type/{ood_cell_type}_{ood_pathway}/adata_train_{ood_cell_type}_{ood_pathway}.h5ad'\n",
    "\n",
    "ood = sc.read_h5ad(ood_path)\n",
    "train = sc.read_h5ad(train_path)\n",
    "\n",
    "ood_genes = ood.var_names"
   ]
  },
  {
   "cell_type": "code",
   "execution_count": null,
   "metadata": {},
   "outputs": [
    {
     "name": "stdout",
     "output_type": "stream",
     "text": [
      "Loading dataset from /lustre/groups/ml01/workspace/ot_perturbation/data/satija/datasets/ood_cell_type/satija_merged/IFNG_Perturb_seq_ms_0.5.h5ad\n",
      "Loading dataset from /lustre/groups/ml01/workspace/ot_perturbation/data/satija/datasets/ood_cell_type/satija_merged/IFNB_Perturb_seq_ms_0.5.h5ad\n",
      "Loading dataset from /lustre/groups/ml01/workspace/ot_perturbation/data/satija/datasets/ood_cell_type/satija_merged/TNFA_Perturb_seq_ms_0.5.h5ad\n",
      "Loading dataset from /lustre/groups/ml01/workspace/ot_perturbation/data/satija/datasets/ood_cell_type/satija_merged/TGFB_Perturb_seq_ms_0.5.h5ad\n",
      "Loading dataset from /lustre/groups/ml01/workspace/ot_perturbation/data/satija/datasets/ood_cell_type/satija_merged/INS_Perturb_seq_ms_0.5.h5ad\n"
     ]
    },
    {
     "name": "stderr",
     "output_type": "stream",
     "text": [
      "/lustre/groups/ml01/workspace/lea.zimmermann/software/miniconda3/envs/cfp2/lib/python3.10/site-packages/anndata/_core/anndata.py:1754: UserWarning: Observation names are not unique. To make them unique, call `.obs_names_make_unique`.\n",
      "  utils.warn_names_duplicates(\"obs\")\n"
     ]
    },
    {
     "name": "stdout",
     "output_type": "stream",
     "text": [
      "Datasets concatenated\n",
      "Unnecessary columns dropped\n",
      "Filtered adata for perturbation count: 618023 observations remaining\n"
     ]
    },
    {
     "name": "stderr",
     "output_type": "stream",
     "text": [
      "/tmp/ipykernel_4122448/147075829.py:52: ImplicitModificationWarning: Setting element `.layers['counts']` of view, initializing view as actual.\n",
      "  adata.layers[\"counts\"] = adata.layers[\"counts\"].astype(np.float32)\n"
     ]
    }
   ],
   "source": [
    "ms = 0.5\n",
    "# Pathway string use to parse .h5ad\n",
    "pathway = 'IFNG_IFNB_TNFA_TGFB_INS'\n",
    "\n",
    "# The final output dir\n",
    "output_dir = \"/lustre/groups/ml01/workspace/ot_perturbation/data/satija/datasets/adata_ood_final_pathway_cell_type_full_source/\" + ood_cell_type + \"_\" + ood_pathway \n",
    "os.makedirs(output_dir, exist_ok=True)\n",
    "\n",
    "genes_from_paper = [\n",
    "    \"AHNAK\", \"RNF213\", \"APOL6\", \"ASTN2\", \"B2M\", \"CFH\", \"CXCL9\", \"DENND4A\", \n",
    "    \"DOCK9\", \"EFNA5\", \"ERAP2\", \"FAT1\", \"GBP1\", \"GBP4\", \"HAPLN3\", \"HSPG2\", \n",
    "    \"IDO1\", \"IFI6\", \"IRF1\", \"LAP3\", \"LI\", \"LINC02328\", \"MAGI1\", \"MUC4\", \n",
    "    \"NLRC5\", \"NUB1\", \"PARP14\", \"PARP9\", \"RARRES1\", \"RNF213\", \"ROR1\", \"SCN9A\", \n",
    "    \"SERPING1\", \"ST5\", \"STAT1\", \"TAP1\", \"TAP2\", \"THBS1\", \"THSD4\", \"TPM1\", \"VCL\", \n",
    "    \"WARS\", \"XRN1\"\n",
    "]\n",
    "\n",
    "# Read the data \n",
    "datasets = []\n",
    "for pw in pathway.split('_'):\n",
    "    if ms == None:\n",
    "        data_path = '/lustre/groups/ml01/workspace/ot_perturbation/data/satija/datasets/ood_cell_type/satija_merged/' + pw + '_Perturb_seq.h5ad' # '_Perturb_seq_ms_0.5.h5ad'\n",
    "    else:\n",
    "        data_path = '/lustre/groups/ml01/workspace/ot_perturbation/data/satija/datasets/ood_cell_type/satija_merged/' + pw + '_Perturb_seq_ms_' + str(ms) + '.h5ad'\n",
    "    print('Loading dataset from ' + data_path)\n",
    "    dataset = sc.read_h5ad(data_path)\n",
    "    dataset.obs['pathway'] = pw\n",
    "    datasets.append(dataset)\n",
    "\n",
    "# Create common anndata \n",
    "adata = ad.concat(datasets, join='outer')\n",
    "print('Datasets concatenated')\n",
    "\n",
    "# Make the variable names unique\n",
    "adata.obs_names_make_unique()\n",
    "\n",
    "# Drop unused columns \n",
    "columns_to_drop = ['orig.ident', 'nCount_RNA', 'nFeature_RNA', 'sample', 'percent.mito', 'sample_ID', 'Batch_info', 'bc1_well', 'bc2_well', 'bc3_well', 'guide', 'mixscale_score', 'RNA_snn_res.0.9', 'seurat_clusters']\n",
    "adata.obs.drop(columns=columns_to_drop, inplace=True)\n",
    "print('Unnecessary columns dropped')\n",
    "            \n",
    "# Add specific columns to adata.obs \n",
    "adata.obs['condition'] = adata.obs.apply(lambda x: \"_\".join([x.cell_type, x.pathway, x.gene]), axis=1)\n",
    "adata.obs['background'] = adata.obs.apply(lambda x: \"_\".join([x.cell_type, x.pathway]), axis=1)\n",
    "\n",
    "# Filter very rare perturbation classes \n",
    "condition_counts = adata.obs['condition'].value_counts()\n",
    "filtered_conditions = condition_counts[condition_counts >= 100]  # Keep only some conditions\n",
    "adata = adata[adata.obs['condition'].isin(filtered_conditions.index)]\n",
    "print(f\"Filtered adata for perturbation count: {adata.shape[0]} observations remaining\")\n",
    "\n",
    "adata.layers[\"counts\"] = adata.layers[\"counts\"].astype(np.float32)\n",
    "adata.X = csr_matrix(adata.layers[\"counts\"])\n",
    "del adata.layers['counts']\n",
    "sc.pp.normalize_total(adata)\n",
    "sc.pp.log1p(adata)"
   ]
  },
  {
   "cell_type": "code",
   "execution_count": null,
   "metadata": {},
   "outputs": [],
   "source": [
    "output_dir = \"/lustre/groups/ml01/workspace/ot_perturbation/data/satija/datasets/adata_ood_final_pathway_cell_type_full_source/\" + ood_cell_type + \"_\" + ood_pathway \n"
   ]
  },
  {
   "cell_type": "code",
   "execution_count": null,
   "metadata": {},
   "outputs": [],
   "source": [
    "adata = adata[:, ood_genes]"
   ]
  },
  {
   "cell_type": "code",
   "execution_count": null,
   "metadata": {},
   "outputs": [
    {
     "name": "stderr",
     "output_type": "stream",
     "text": [
      "/tmp/ipykernel_4122448/3159982875.py:1: ImplicitModificationWarning: Trying to modify attribute `.obs` of view, initializing view as actual.\n",
      "  adata.obs['is_ood'] = adata.obs.apply(lambda x: x['pathway'] == ood_pathway and x['cell_type'] == ood_cell_type, axis=1)\n"
     ]
    }
   ],
   "source": [
    "adata.obs['is_ood'] = adata.obs.apply(lambda x: x['pathway'] == ood_pathway and x['cell_type'] == ood_cell_type, axis=1)"
   ]
  },
  {
   "cell_type": "code",
   "execution_count": null,
   "metadata": {},
   "outputs": [],
   "source": [
    "adata_ood = adata[adata.obs['is_ood'],:]"
   ]
  },
  {
   "cell_type": "code",
   "execution_count": null,
   "metadata": {},
   "outputs": [],
   "source": [
    "adata_ood.uns = train.uns\n",
    "adata_ood.varm['X_mean'] = train.varm['X_mean']\n",
    "\n",
    "adata_train_final_mean = train.varm[\"X_mean\"].flatten()\n",
    "adata_ood.layers[\"centered_X\"] = csr_matrix(adata_ood.X.toarray() - adata_train_final_mean)\n",
    "adata_ood.obsm[\"X_pca\"] = np.matmul(adata_ood.layers[\"centered_X\"].toarray(), train.varm[\"PCs\"])\n",
    "adata_ood.obs['control'] = adata_ood.obs.apply(lambda x: x['gene'] == 'NT', axis=1)"
   ]
  },
  {
   "cell_type": "code",
   "execution_count": null,
   "metadata": {},
   "outputs": [],
   "source": [
    "adata_ood.uns['gene_emb'] = train.uns['gene_emb']\n",
    "adata_ood.uns['cell_type_emb'] = train.uns['cell_type_emb']\n",
    "adata_ood.uns['pathway_emb'] = train.uns['pathway_emb']"
   ]
  },
  {
   "cell_type": "code",
   "execution_count": null,
   "metadata": {},
   "outputs": [
    {
     "data": {
      "text/plain": [
       "'/lustre/groups/ml01/workspace/ot_perturbation/data/satija/datasets/adata_ood_final_pathway_cell_type_full_source/HT29_TNFA'"
      ]
     },
     "execution_count": 30,
     "metadata": {},
     "output_type": "execute_result"
    }
   ],
   "source": [
    "output_dir"
   ]
  },
  {
   "cell_type": "code",
   "execution_count": null,
   "metadata": {},
   "outputs": [],
   "source": [
    "adata_ood.write(os.path.join(output_dir, \"adata_ood_\" + ood_condition + \".h5ad\"))"
   ]
  },
  {
   "cell_type": "code",
   "execution_count": null,
   "metadata": {},
   "outputs": [],
   "source": []
  },
  {
   "cell_type": "code",
   "execution_count": null,
   "metadata": {},
   "outputs": [],
   "source": []
  }
 ],
 "metadata": {
  "kernelspec": {
   "display_name": "cfp2",
   "language": "python",
   "name": "python3"
  },
  "language_info": {
   "codemirror_mode": {
    "name": "ipython",
    "version": 3
   },
   "file_extension": ".py",
   "mimetype": "text/x-python",
   "name": "python",
   "nbconvert_exporter": "python",
   "pygments_lexer": "ipython3",
   "version": "3.10.15"
  }
 },
 "nbformat": 4,
 "nbformat_minor": 2
}
