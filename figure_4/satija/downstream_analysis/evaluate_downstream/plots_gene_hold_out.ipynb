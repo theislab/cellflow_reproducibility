{
 "cells": [
  {
   "cell_type": "code",
   "execution_count": 1,
   "id": "62e44f0e-2e8c-43c1-9054-4c2a8f22f9f1",
   "metadata": {},
   "outputs": [
    {
     "name": "stderr",
     "output_type": "stream",
     "text": [
      "Warning message:\n",
      "“package ‘tidyverse’ was built under R version 4.2.3”\n",
      "Warning message:\n",
      "“package ‘tibble’ was built under R version 4.2.3”\n",
      "Warning message:\n",
      "“package ‘readr’ was built under R version 4.2.3”\n",
      "Warning message:\n",
      "“package ‘purrr’ was built under R version 4.2.3”\n",
      "Warning message:\n",
      "“package ‘dplyr’ was built under R version 4.2.3”\n",
      "Warning message:\n",
      "“package ‘stringr’ was built under R version 4.2.3”\n",
      "Warning message:\n",
      "“package ‘forcats’ was built under R version 4.2.3”\n",
      "Warning message:\n",
      "“package ‘lubridate’ was built under R version 4.2.3”\n",
      "── \u001b[1mAttaching core tidyverse packages\u001b[22m ──────────────────────── tidyverse 2.0.0 ──\n",
      "\u001b[32m✔\u001b[39m \u001b[34mdplyr    \u001b[39m 1.1.4     \u001b[32m✔\u001b[39m \u001b[34mreadr    \u001b[39m 2.1.4\n",
      "\u001b[32m✔\u001b[39m \u001b[34mforcats  \u001b[39m 1.0.0     \u001b[32m✔\u001b[39m \u001b[34mstringr  \u001b[39m 1.5.1\n",
      "\u001b[32m✔\u001b[39m \u001b[34mggplot2  \u001b[39m 3.5.1     \u001b[32m✔\u001b[39m \u001b[34mtibble   \u001b[39m 3.2.1\n",
      "\u001b[32m✔\u001b[39m \u001b[34mlubridate\u001b[39m 1.9.3     \u001b[32m✔\u001b[39m \u001b[34mtidyr    \u001b[39m 1.3.1\n",
      "\u001b[32m✔\u001b[39m \u001b[34mpurrr    \u001b[39m 1.0.2     \n",
      "── \u001b[1mConflicts\u001b[22m ────────────────────────────────────────── tidyverse_conflicts() ──\n",
      "\u001b[31m✖\u001b[39m \u001b[34mdplyr\u001b[39m::\u001b[32mfilter()\u001b[39m masks \u001b[34mstats\u001b[39m::filter()\n",
      "\u001b[31m✖\u001b[39m \u001b[34mdplyr\u001b[39m::\u001b[32mlag()\u001b[39m    masks \u001b[34mstats\u001b[39m::lag()\n",
      "\u001b[36mℹ\u001b[39m Use the conflicted package (\u001b[3m\u001b[34m<http://conflicted.r-lib.org/>\u001b[39m\u001b[23m) to force all conflicts to become errors\n",
      "also installing the dependencies ‘sysfonts’, ‘showtextdb’\n",
      "\n",
      "\n",
      "Warning message in install.packages(\"showtext\"):\n",
      "“installation of package ‘sysfonts’ had non-zero exit status”\n",
      "Warning message in install.packages(\"showtext\"):\n",
      "“installation of package ‘showtextdb’ had non-zero exit status”\n",
      "Warning message in install.packages(\"showtext\"):\n",
      "“installation of package ‘showtext’ had non-zero exit status”\n",
      "Registering fonts with R\n",
      "\n"
     ]
    },
    {
     "name": "stdin",
     "output_type": "stream",
     "text": [
      "Importing fonts may take a few minutes, depending on the number of fonts and the speed of the system.\n",
      "Continue? [y/n]  y\n"
     ]
    },
    {
     "name": "stderr",
     "output_type": "stream",
     "text": [
      "Scanning ttf files in /usr/share/fonts/ ...\n",
      "\n",
      "Extracting .afm files from .ttf files...\n",
      "\n",
      "/usr/share/fonts/dejavu-sans-fonts/DejaVuSans-Bold.ttf\n",
      " : DejaVuSans-Bold already registered in fonts database. Skipping.\n",
      "\n",
      "/usr/share/fonts/dejavu-sans-fonts/DejaVuSans-BoldOblique.ttf\n",
      " : DejaVuSans-BoldOblique already registered in fonts database. Skipping.\n",
      "\n",
      "/usr/share/fonts/dejavu-sans-fonts/DejaVuSans-ExtraLight.ttf\n",
      " : DejaVuSans-ExtraLight already registered in fonts database. Skipping.\n",
      "\n",
      "/usr/share/fonts/dejavu-sans-fonts/DejaVuSans-Oblique.ttf\n",
      " : DejaVuSans-Oblique already registered in fonts database. Skipping.\n",
      "\n",
      "/usr/share/fonts/dejavu-sans-fonts/DejaVuSans.ttf\n",
      " : DejaVuSans already registered in fonts database. Skipping.\n",
      "\n",
      "/usr/share/fonts/dejavu-sans-fonts/DejaVuSansCondensed-Bold.ttf\n",
      " : DejaVuSansCondensed-Bold already registered in fonts database. Skipping.\n",
      "\n",
      "/usr/share/fonts/dejavu-sans-fonts/DejaVuSansCondensed-BoldOblique.ttf\n",
      " : DejaVuSansCondensed-BoldOblique already registered in fonts database. Skipping.\n",
      "\n",
      "/usr/share/fonts/dejavu-sans-fonts/DejaVuSansCondensed-Oblique.ttf\n",
      " : DejaVuSansCondensed-Oblique already registered in fonts database. Skipping.\n",
      "\n",
      "/usr/share/fonts/dejavu-sans-fonts/DejaVuSansCondensed.ttf\n",
      " : DejaVuSansCondensed already registered in fonts database. Skipping.\n",
      "\n",
      "/usr/share/fonts/dejavu-sans-mono-fonts/DejaVuSansMono-Bold.ttf\n",
      " : DejaVuSansMono-Bold already registered in fonts database. Skipping.\n",
      "\n",
      "/usr/share/fonts/dejavu-sans-mono-fonts/DejaVuSansMono-BoldOblique.ttf\n",
      " : DejaVuSansMono-BoldOblique already registered in fonts database. Skipping.\n",
      "\n",
      "/usr/share/fonts/dejavu-sans-mono-fonts/DejaVuSansMono-Oblique.ttf\n",
      " : DejaVuSansMono-Oblique already registered in fonts database. Skipping.\n",
      "\n",
      "/usr/share/fonts/dejavu-sans-mono-fonts/DejaVuSansMono.ttf\n",
      " : DejaVuSansMono already registered in fonts database. Skipping.\n",
      "\n",
      "/usr/share/fonts/google-droid-sans-fonts/DroidKufi-Bold.ttf\n",
      " : DroidArabicKufi-Bold already registered in fonts database. Skipping.\n",
      "\n",
      "/usr/share/fonts/google-droid-sans-fonts/DroidKufi-Regular.ttf\n",
      " : DroidArabicKufi already registered in fonts database. Skipping.\n",
      "\n",
      "/usr/share/fonts/google-droid-sans-fonts/DroidSans-Bold.ttf\n",
      " : DroidSans-Bold already registered in fonts database. Skipping.\n",
      "\n",
      "/usr/share/fonts/google-droid-sans-fonts/DroidSans.ttf\n",
      " : DroidSans already registered in fonts database. Skipping.\n",
      "\n",
      "/usr/share/fonts/google-droid-sans-fonts/DroidSansArmenian.ttf\n",
      " : DroidSansArmenian already registered in fonts database. Skipping.\n",
      "\n",
      "/usr/share/fonts/google-droid-sans-fonts/DroidSansDevanagari-Regular.ttf\n",
      " : DroidSansDevanagari already registered in fonts database. Skipping.\n",
      "\n",
      "/usr/share/fonts/google-droid-sans-fonts/DroidSansEthiopic-Bold.ttf\n",
      " : DroidSansEthiopic-Bold already registered in fonts database. Skipping.\n",
      "\n",
      "/usr/share/fonts/google-droid-sans-fonts/DroidSansEthiopic-Regular.ttf\n",
      " : DroidSansEthiopic already registered in fonts database. Skipping.\n",
      "\n",
      "/usr/share/fonts/google-droid-sans-fonts/DroidSansFallbackFull.ttf\n",
      " : DroidSansFallback already registered in fonts database. Skipping.\n",
      "\n",
      "/usr/share/fonts/google-droid-sans-fonts/DroidSansGeorgian.ttf\n",
      " : DroidSansGeorgian already registered in fonts database. Skipping.\n",
      "\n",
      "/usr/share/fonts/google-droid-sans-fonts/DroidSansHebrew-Bold.ttf\n",
      " : DroidSansHebrew-Bold already registered in fonts database. Skipping.\n",
      "\n",
      "/usr/share/fonts/google-droid-sans-fonts/DroidSansHebrew-Regular.ttf\n",
      " : DroidSansHebrew already registered in fonts database. Skipping.\n",
      "\n",
      "/usr/share/fonts/google-droid-sans-fonts/DroidSansJapanese.ttf\n",
      "Warning message in system2(enc2native(ttf2pt1), c(args, shQuote(ttfiles[i]), shQuote(tmpfiles[i])), :\n",
      "“running command ''/ictstr01/home/icb/dominik.klein/mambaforge/envs/gene-regulatory-networks-atac/lib/R/library/Rttf2pt1/exec//ttf2pt1' -a -GfAe '/usr/share/fonts/google-droid-sans-fonts/DroidSansJapanese.ttf' '/tmp/RtmpzsH7c6/fonts/DroidSansJapanese' 2>&1' had status 1”\n",
      " : No FontName. Skipping.\n",
      "\n",
      "/usr/share/fonts/google-droid-sans-fonts/DroidSansTamil-Bold.ttf\n",
      " : DroidSansTamil-Bold already registered in fonts database. Skipping.\n",
      "\n",
      "/usr/share/fonts/google-droid-sans-fonts/DroidSansTamil-Regular.ttf\n",
      " : DroidSansTamil already registered in fonts database. Skipping.\n",
      "\n",
      "/usr/share/fonts/google-droid-sans-fonts/DroidSansThai.ttf\n",
      " : DroidSansThai already registered in fonts database. Skipping.\n",
      "\n",
      "Found FontName for 0 fonts.\n",
      "\n",
      "Scanning afm files in /ictstr01/home/icb/dominik.klein/mambaforge/envs/gene-regulatory-networks-atac/lib/R/library/extrafontdb/metrics\n",
      "\n",
      "Warning message:\n",
      "“\u001b[1m\u001b[22mThe `size` argument of `element_line()` is deprecated as of ggplot2 3.4.0.\n",
      "\u001b[36mℹ\u001b[39m Please use the `linewidth` argument instead.”\n"
     ]
    }
   ],
   "source": [
    "library(tidyverse)\n",
    "library(glue)\n",
    "library(dplyr)\n",
    "\n",
    "install.packages(\"showtext\")\n",
    "install.packages(\"extrafont\")\n",
    "library(extrafont)\n",
    "font_import()\n",
    "\n",
    "\n",
    "theme_rangeframe <- function(size = 0.3) {\n",
    "    theme(\n",
    "        axis.line = element_line(colour = \"black\", lineend = \"round\", size = size),\n",
    "        axis.ticks = element_line(linewidth = size),\n",
    "        panel.border = element_blank()\n",
    "    )\n",
    "}\n",
    "\n",
    "scale_axis_rangeframe <- function() {\n",
    "    guides(x = \"axis_truncated\", y = \"axis_truncated\")\n",
    "}\n",
    "\n",
    "rotate_x_text <- function(angle=45) {\n",
    "    theme(\n",
    "        axis.text.x = element_text(angle = angle, hjust = 1)\n",
    "    )\n",
    "}\n",
    "\n",
    "article_text <- function() {\n",
    "    theme(\n",
    "        text = element_text(size = 5, family = \"Helvetica\"),\n",
    "        title = element_text(size = 6),\n",
    "        axis.text.x = element_text(size = 5),\n",
    "        axis.text.y = element_text(size = 5)\n",
    "    )\n",
    "}\n",
    "\n",
    "no_legend <- function() {\n",
    "    theme(\n",
    "        legend.position = \"none\"\n",
    "    )\n",
    "}\n",
    "\n",
    "no_margin <- function() {\n",
    "    theme(\n",
    "        plot.margin = margin(0, 0, 0, 0, unit = \"lines\")\n",
    "    )\n",
    "}\n",
    "\n",
    "no_label <- function() {\n",
    "    theme(\n",
    "        axis.title = element_blank()\n",
    "    )\n",
    "}\n",
    "\n",
    "no_text <- function() {\n",
    "    theme(\n",
    "        axis.title = element_blank(),\n",
    "        axis.text = element_blank(),\n",
    "        axis.ticks = element_blank()\n",
    "    )\n",
    "}\n",
    "\n",
    "no_x_text <- function() {\n",
    "    theme(\n",
    "        axis.text.x = element_blank(),\n",
    "        axis.ticks.x = element_blank()\n",
    "    )\n",
    "}\n",
    "\n",
    "no_y_text <- function() {\n",
    "    theme(\n",
    "        axis.text.y = element_blank(),\n",
    "        axis.ticks.y = element_blank()\n",
    "    )\n",
    "}\n",
    "\n",
    "\n",
    "custom_theme <- function(size = 0.3){\n",
    "    theme_minimal() +\n",
    "    theme(\n",
    "        text = element_text(family='Helvetica'),\n",
    "        axis.line = element_line(colour = \"black\", lineend = \"round\", size = size),\n",
    "        axis.ticks = element_line(linewidth = size),\n",
    "        panel.border = element_blank()\n",
    "    )\n",
    "\n",
    "}\n",
    "theme_set(custom_theme())\n",
    "\n",
    "article_text <- function() {\n",
    "    theme(\n",
    "        text = element_text(size = 5, family = \"Helvetica\"),\n",
    "        title = element_text(size = 6),\n",
    "        axis.text.x = element_text(size = 5),\n",
    "        axis.text.y = element_text(size = 5)\n",
    "    )\n",
    "}\n"
   ]
  },
  {
   "cell_type": "code",
   "execution_count": 4,
   "id": "c87294bc-5344-4da8-9401-f2d8f4664f73",
   "metadata": {},
   "outputs": [],
   "source": [
    "color_dict = c(\n",
    "    \"CellFlow\"= \"#B12F8C\",\n",
    "    \"Mean model\"= \"#566573\",\n",
    "    \"Identity\"=\"#BDBDBD\")"
   ]
  },
  {
   "cell_type": "code",
   "execution_count": 5,
   "id": "8f32657d-b283-431f-bd65-9e79258693ef",
   "metadata": {},
   "outputs": [],
   "source": [
    "output_dir <- \"/lustre/groups/ml01/workspace/ot_perturbation/figures/satija/benchmark/gene_hold_out\""
   ]
  },
  {
   "cell_type": "code",
   "execution_count": 50,
   "id": "99f3a4d8-6c4f-45e0-a4d0-ec303f589e26",
   "metadata": {},
   "outputs": [
    {
     "name": "stderr",
     "output_type": "stream",
     "text": [
      "\u001b[1m\u001b[22mNew names:\n",
      "\u001b[36m•\u001b[39m `` -> `...1`\n",
      "\u001b[1mRows: \u001b[22m\u001b[34m2424\u001b[39m \u001b[1mColumns: \u001b[22m\u001b[34m7\u001b[39m\n",
      "\u001b[36m──\u001b[39m \u001b[1mColumn specification\u001b[22m \u001b[36m────────────────────────────────────────────────────────\u001b[39m\n",
      "\u001b[1mDelimiter:\u001b[22m \",\"\n",
      "\u001b[31mchr\u001b[39m (3): ...1, OOD combination, Model\n",
      "\u001b[32mdbl\u001b[39m (4): r_squared, e_distance, mmd, quantile\n",
      "\n",
      "\u001b[36mℹ\u001b[39m Use `spec()` to retrieve the full column specification for this data.\n",
      "\u001b[36mℹ\u001b[39m Specify the column types or set `show_col_types = FALSE` to quiet this message.\n"
     ]
    }
   ],
   "source": [
    "df <- read_csv(\"/lustre/groups/ml01/workspace/ot_perturbation/figures/satija/benchmark/gene_held_out/metrics_decoded.csv\")"
   ]
  },
  {
   "cell_type": "code",
   "execution_count": 51,
   "id": "bf9884df-ee18-4b94-8faf-c41c269f77f8",
   "metadata": {},
   "outputs": [],
   "source": [
    "df$Model <- factor(df$Model, \n",
    "                                levels = c(\"Identity\", \"Mean\", \"CellFlow\"),\n",
    "                                labels = c(\"Identity\", \"Mean model\", \"CellFlow\"))  # Correct factorization\n",
    "df$quantile <- as.character(df$quantile)\n",
    "\n",
    "df$quantile <- factor(df$quantile, \n",
    "                                    levels = sort(as.numeric(unique(df$quantile))))\n",
    "\n"
   ]
  },
  {
   "cell_type": "code",
   "execution_count": 52,
   "id": "c9934252-d148-4d6d-bf74-298fa2dc415b",
   "metadata": {},
   "outputs": [
    {
     "data": {
      "image/png": "[encoded data removed]",
      "text/plain": [
       "plot without title"
      ]
     },
     "metadata": {
      "image/png": {
       "height": 300,
       "width": 600
      }
     },
     "output_type": "display_data"
    }
   ],
   "source": [
    "options(repr.plot.width = 10, repr.plot.height = 5)\n",
    "\n",
    "p <- ggplot(df, aes(x=quantile, y=r_squared, fill=Model)) +\n",
    "  geom_boxplot(size=0.2,  width=0.8, outlier.size=0.2, outlier.shape=16) +\n",
    "  labs(x=\"Model\", y=\"R squared\") +\n",
    "  scale_fill_manual(values=color_dict) +  # Removed labels argument\n",
    "  custom_theme() +\n",
    "article_text() +\n",
    "no_legend() +\n",
    "theme(\n",
    "    panel.grid.major=element_blank(), \n",
    "    panel.grid.minor=element_blank()\n",
    ")  +\n",
    "  labs(\n",
    "    x=\"Perturbation effect group\",\n",
    "    y=\"R squared DEG\",\n",
    "    fill=\"Model\"\n",
    "  )\n",
    "p\n"
   ]
  },
  {
   "cell_type": "code",
   "execution_count": 53,
   "id": "c5346a64-623b-489e-bac7-0d8a3fb4d898",
   "metadata": {},
   "outputs": [],
   "source": [
    "ggsave(file.path(output_dir, \"r_squared_decoded.pdf\"), plot = p, device = \"pdf\",width = 4.5, height = 3, unit=\"cm\")"
   ]
  },
  {
   "cell_type": "code",
   "execution_count": 54,
   "id": "7f9e76ec-effc-4afe-aca0-f697093c5436",
   "metadata": {},
   "outputs": [
    {
     "name": "stderr",
     "output_type": "stream",
     "text": [
      "\u001b[1m\u001b[22mNew names:\n",
      "\u001b[36m•\u001b[39m `` -> `...1`\n",
      "\u001b[1mRows: \u001b[22m\u001b[34m2424\u001b[39m \u001b[1mColumns: \u001b[22m\u001b[34m10\u001b[39m\n",
      "\u001b[36m──\u001b[39m \u001b[1mColumn specification\u001b[22m \u001b[36m────────────────────────────────────────────────────────\u001b[39m\n",
      "\u001b[1mDelimiter:\u001b[22m \",\"\n",
      "\u001b[31mchr\u001b[39m (3): ...1, OOD combination, Model\n",
      "\u001b[32mdbl\u001b[39m (7): r_squared, sinkhorn_div_1, sinkhorn_div_10, sinkhorn_div_100, e_dis...\n",
      "\n",
      "\u001b[36mℹ\u001b[39m Use `spec()` to retrieve the full column specification for this data.\n",
      "\u001b[36mℹ\u001b[39m Specify the column types or set `show_col_types = FALSE` to quiet this message.\n"
     ]
    }
   ],
   "source": [
    "df <- read_csv(\"/lustre/groups/ml01/workspace/ot_perturbation/figures/satija/benchmark/gene_held_out/metrics_deg.csv\")\n",
    "\n",
    "df$Model <- factor(df$Model, \n",
    "                                levels = c(\"Identity\", \"Mean\", \"CellFlow\"),\n",
    "                                labels = c(\"Identity\", \"Mean model\", \"CellFlow\"))  # Correct factorization\n",
    "df$quantile <- as.character(df$quantile)\n",
    "\n",
    "df$quantile <- factor(df$quantile, \n",
    "                                    levels = sort(as.numeric(unique(df$quantile))))\n",
    "\n",
    "\n"
   ]
  },
  {
   "cell_type": "code",
   "execution_count": 55,
   "id": "15c520dd-20d7-4809-8390-fe7fbc749934",
   "metadata": {},
   "outputs": [
    {
     "name": "stderr",
     "output_type": "stream",
     "text": [
      "Warning message:\n",
      "“\u001b[1m\u001b[22mRemoved 214 rows containing non-finite outside the scale range\n",
      "(`stat_boxplot()`).”\n"
     ]
    },
    {
     "data": {
      "image/png": "[encoded data removed]",
      "text/plain": [
       "plot without title"
      ]
     },
     "metadata": {
      "image/png": {
       "height": 300,
       "width": 600
      }
     },
     "output_type": "display_data"
    }
   ],
   "source": [
    "options(repr.plot.width = 10, repr.plot.height = 5)\n",
    "\n",
    "p <- ggplot(df, aes(x=quantile, y=r_squared, fill=Model)) +\n",
    "  geom_boxplot(size=0.2,  width=0.8, outlier.size=0.2, outlier.shape=16) +\n",
    "  labs(x=\"Model\", y=\"R squared\") +\n",
    "  scale_fill_manual(values=color_dict) +  # Removed labels argument\n",
    "  custom_theme() +\n",
    "article_text() +\n",
    "no_legend() +\n",
    "theme(\n",
    "    panel.grid.major=element_blank(), \n",
    "    panel.grid.minor=element_blank()\n",
    ")  +\n",
    "  labs(\n",
    "    x=\"Perturbation effect group\",\n",
    "    y=\"R squared DEG\",\n",
    "    fill=\"Model\"\n",
    "  ) +\n",
    "    ylim(-1.0, NA)\n",
    "p\n"
   ]
  },
  {
   "cell_type": "code",
   "execution_count": 56,
   "id": "0fb95f3e-2c5d-42f0-aeaf-010a5a332c16",
   "metadata": {},
   "outputs": [
    {
     "name": "stderr",
     "output_type": "stream",
     "text": [
      "Warning message:\n",
      "“\u001b[1m\u001b[22mRemoved 214 rows containing non-finite outside the scale range\n",
      "(`stat_boxplot()`).”\n"
     ]
    }
   ],
   "source": [
    "ggsave(file.path(output_dir, \"r_squared_deg_cut.pdf\"), plot = p, device = \"pdf\",width = 4.5, height = 3, unit=\"cm\")"
   ]
  },
  {
   "cell_type": "code",
   "execution_count": 57,
   "id": "9f60a83d-da9d-48bc-be7a-c7ae0dc085ae",
   "metadata": {},
   "outputs": [
    {
     "data": {
      "image/png": "[encoded data removed]",
      "text/plain": [
       "plot without title"
      ]
     },
     "metadata": {
      "image/png": {
       "height": 300,
       "width": 600
      }
     },
     "output_type": "display_data"
    }
   ],
   "source": [
    "options(repr.plot.width = 10, repr.plot.height = 5)\n",
    "\n",
    "p <- ggplot(df, aes(x=quantile, y=r_squared, fill=Model)) +\n",
    "  geom_boxplot(size=0.2,  width=0.8, outlier.size=0.2, outlier.shape=16) +\n",
    "  labs(x=\"Model\", y=\"R squared\") +\n",
    "  scale_fill_manual(values=color_dict) +  # Removed labels argument\n",
    "  custom_theme() +\n",
    "article_text() +\n",
    "no_legend() +\n",
    "theme(\n",
    "    panel.grid.major=element_blank(), \n",
    "    panel.grid.minor=element_blank()\n",
    ")  +\n",
    "  labs(\n",
    "    x=\"Perturbation effect group\",\n",
    "    y=\"R squared DEG\",\n",
    "    fill=\"Model\"\n",
    "  )\n",
    "p\n"
   ]
  },
  {
   "cell_type": "code",
   "execution_count": 58,
   "id": "a8af47f6-7aa9-4d51-9afb-22ab6929cc69",
   "metadata": {},
   "outputs": [],
   "source": [
    "ggsave(file.path(output_dir, \"r_squared_deg.pdf\"), plot = p, device = \"pdf\",width = 4.5, height = 3, unit=\"cm\")"
   ]
  },
  {
   "cell_type": "code",
   "execution_count": 59,
   "id": "ff094424-c9bf-4877-aa09-54d26c2c4bca",
   "metadata": {},
   "outputs": [
    {
     "name": "stderr",
     "output_type": "stream",
     "text": [
      "\u001b[1m\u001b[22mNew names:\n",
      "\u001b[36m•\u001b[39m `` -> `...1`\n",
      "\u001b[1mRows: \u001b[22m\u001b[34m2424\u001b[39m \u001b[1mColumns: \u001b[22m\u001b[34m11\u001b[39m\n",
      "\u001b[36m──\u001b[39m \u001b[1mColumn specification\u001b[22m \u001b[36m────────────────────────────────────────────────────────\u001b[39m\n",
      "\u001b[1mDelimiter:\u001b[22m \",\"\n",
      "\u001b[31mchr\u001b[39m (3): ...1, OOD combination, Model\n",
      "\u001b[32mdbl\u001b[39m (8): r_squared, sinkhorn_div_1, sinkhorn_div_10, sinkhorn_div_100, e_dis...\n",
      "\n",
      "\u001b[36mℹ\u001b[39m Use `spec()` to retrieve the full column specification for this data.\n",
      "\u001b[36mℹ\u001b[39m Specify the column types or set `show_col_types = FALSE` to quiet this message.\n"
     ]
    }
   ],
   "source": [
    "df <- read_csv(\"/lustre/groups/ml01/workspace/ot_perturbation/figures/satija/benchmark/gene_held_out/metrics_encoded.csv\")\n",
    "\n",
    "df$Model <- factor(df$Model, \n",
    "                                levels = c(\"Identity\", \"Mean\", \"CellFlow\"),\n",
    "                                labels = c(\"Identity\", \"Mean model\", \"CellFlow\"))  # Correct factorization\n",
    "df$quantile <- as.character(df$quantile)\n",
    "\n",
    "df$quantile <- factor(df$quantile, \n",
    "                                    levels = sort(as.numeric(unique(df$quantile))))\n",
    "\n",
    "\n"
   ]
  },
  {
   "cell_type": "code",
   "execution_count": 60,
   "id": "f29a5b08-2048-483d-9f77-9c0c5bec6e09",
   "metadata": {},
   "outputs": [
    {
     "data": {
      "image/png": "[encoded data removed]",
      "text/plain": [
       "plot without title"
      ]
     },
     "metadata": {
      "image/png": {
       "height": 300,
       "width": 600
      }
     },
     "output_type": "display_data"
    }
   ],
   "source": [
    "options(repr.plot.width = 10, repr.plot.height = 5)\n",
    "\n",
    "p <- ggplot(df, aes(x=quantile, y=e_distance, fill=Model)) +\n",
    "  geom_boxplot(size=0.2,  width=0.8, outlier.size=0.2, outlier.shape=16) +\n",
    "  labs(x=\"Model\", y=\"Energy distance\") +\n",
    "  scale_fill_manual(values=color_dict) +  # Removed labels argument\n",
    "  custom_theme() +\n",
    "article_text() +\n",
    "no_legend() +\n",
    "theme(\n",
    "    panel.grid.major=element_blank(), \n",
    "    panel.grid.minor=element_blank()\n",
    ")  +\n",
    "  scale_y_log10() \n",
    "\n",
    "p\n"
   ]
  },
  {
   "cell_type": "code",
   "execution_count": 61,
   "id": "d96a5d18-4765-41de-9331-f29eb8ddc457",
   "metadata": {},
   "outputs": [],
   "source": [
    "ggsave(file.path(output_dir, \"e_distance_encoded.pdf\"), plot = p, device = \"pdf\",width = 4.5, height = 3, unit=\"cm\")"
   ]
  },
  {
   "cell_type": "code",
   "execution_count": 62,
   "id": "d8fec529-ae3c-47ba-9e9a-f245f9493756",
   "metadata": {},
   "outputs": [
    {
     "data": {
      "image/png": "[encoded data removed]",
      "text/plain": [
       "plot without title"
      ]
     },
     "metadata": {
      "image/png": {
       "height": 300,
       "width": 600
      }
     },
     "output_type": "display_data"
    }
   ],
   "source": [
    "options(repr.plot.width = 10, repr.plot.height = 5)\n",
    "\n",
    "p <- ggplot(df, aes(x=quantile, y=mmd, fill=Model)) +\n",
    "  geom_boxplot(size=0.2,  width=0.8, outlier.size=0.2, outlier.shape=16) +\n",
    "  labs(x=\"Model\", y=\"MMD\") +\n",
    "  scale_fill_manual(values=color_dict) +  # Removed labels argument\n",
    "  custom_theme() +\n",
    "article_text() +\n",
    "no_legend() +\n",
    "theme(\n",
    "    panel.grid.major=element_blank(), \n",
    "    panel.grid.minor=element_blank()\n",
    ")  +\n",
    "  scale_y_log10() \n",
    "p\n"
   ]
  },
  {
   "cell_type": "code",
   "execution_count": 63,
   "id": "0e3613b9-fd61-4c60-b365-ebd364997b5e",
   "metadata": {},
   "outputs": [],
   "source": [
    "ggsave(file.path(output_dir, \"mmd_encoded.pdf\"), plot = p, device = \"pdf\",width = 4.5, height = 3, unit=\"cm\")"
   ]
  },
  {
   "cell_type": "code",
   "execution_count": 64,
   "id": "26c49873-e80d-4661-94f1-7158f099d262",
   "metadata": {},
   "outputs": [
    {
     "data": {
      "image/png": "[encoded data removed]",
      "text/plain": [
       "plot without title"
      ]
     },
     "metadata": {
      "image/png": {
       "height": 300,
       "width": 600
      }
     },
     "output_type": "display_data"
    }
   ],
   "source": [
    "options(repr.plot.width = 10, repr.plot.height = 5)\n",
    "\n",
    "p <- ggplot(df, aes(x=quantile, y=sinkhorn_div, fill=Model)) +\n",
    "  geom_boxplot(size=0.2,  width=0.8, outlier.size=0.2, outlier.shape=16) +\n",
    "  labs(x=\"Model\", y=\"Sinkhorn divergence\") +\n",
    "  scale_fill_manual(values=color_dict) +  # Removed labels argument\n",
    "  custom_theme() +\n",
    "article_text() +\n",
    "no_legend() +\n",
    "theme(\n",
    "    panel.grid.major=element_blank(), \n",
    "    panel.grid.minor=element_blank()\n",
    ")  +\n",
    "  scale_y_log10() \n",
    "p\n"
   ]
  },
  {
   "cell_type": "code",
   "execution_count": 65,
   "id": "78851d71-fb5a-4c48-b7f3-7ced5bc63ec2",
   "metadata": {},
   "outputs": [],
   "source": [
    "ggsave(file.path(output_dir, \"sinkhorn_div_encoded.pdf\"), plot = p, device = \"pdf\",width = 4.5, height = 3, unit=\"cm\")"
   ]
  },
  {
   "cell_type": "code",
   "execution_count": null,
   "id": "12d1158b-8ead-4e94-b6f7-edafecf8c67e",
   "metadata": {},
   "outputs": [],
   "source": []
  }
 ],
 "metadata": {
  "kernelspec": {
   "display_name": "R",
   "language": "R",
   "name": "ir"
  },
  "language_info": {
   "codemirror_mode": "r",
   "file_extension": ".r",
   "mimetype": "text/x-r-source",
   "name": "R",
   "pygments_lexer": "r",
   "version": "4.2.2"
  }
 },
 "nbformat": 4,
 "nbformat_minor": 5
}
