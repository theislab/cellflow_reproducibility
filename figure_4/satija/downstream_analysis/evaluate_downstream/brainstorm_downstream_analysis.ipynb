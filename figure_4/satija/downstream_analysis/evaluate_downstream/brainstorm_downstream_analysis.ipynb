{
 "cells": [
  {
   "cell_type": "code",
   "execution_count": 1,
   "metadata": {},
   "outputs": [],
   "source": [
    "import os\n",
    "import scanpy as sc"
   ]
  },
  {
   "cell_type": "markdown",
   "metadata": {},
   "source": [
    "How do we select the genes for which we calculate z-scores?\n",
    "\n",
    "Possible options\n",
    "- z-scores for complete gene space (8000 genes)\n",
    "    - for all perturbations (~200)\n",
    "    - for each cell line: difference between z-scores (or log-fold changes) for prediction and each cell line\n",
    "    - harder tasks: TGFB1 & INS - should we select cell lines here or use the randomly selected combinations?\n",
    "- z-scores for all combinations in Figure 3\n",
    "    - includes conserved perturbation programs (IFNG & IFNB) and less conserved programs (TGFB1 & INS)\n",
    "    - pre-selected/no further analysis necessary and somewhat motivated, but could be criticised?\n",
    "- perturbation programs for each pathway returned by MultiCCA\n",
    "    - MultiMCCA can return multiple perturbation programs for each pathway\n",
    "    - but: identifies conserved programs accross cell lines, so not really what we want to analyse\n",
    "    - could be an interesting point: for INS pathway, MultiMCCA failed to return clear perturbation programs due to extensive heterogeneity and minimal conservation in cell-type specific response\n",
    "        - for this, cell line specific perturbation responses were learned! --> see Supplementarty Table 4\n",
    "- alternatively, we could try to distinguish pathway responses --> z-scores between all pathways and predictions\n",
    "    - Figure 4 contains other examples from the paper we could use here, especially 4 d+e\n",
    "\n",
    "\n",
    "--> first step: compare results for whole dataset BXPC3/IFNG to previous results\n",
    "--> then continue & discuss "
   ]
  },
  {
   "cell_type": "code",
   "execution_count": 3,
   "metadata": {},
   "outputs": [
    {
     "name": "stderr",
     "output_type": "stream",
     "text": [
      "/lustre/groups/ml01/workspace/lea.zimmermann/software/miniconda3/envs/cfp2/lib/python3.10/site-packages/anndata/_core/anndata.py:1754: UserWarning: Observation names are not unique. To make them unique, call `.obs_names_make_unique`.\n",
      "  utils.warn_names_duplicates(\"obs\")\n"
     ]
    }
   ],
   "source": [
    "filtered_dataset = \"/lustre/groups/ml01/workspace/ot_perturbation/data/satija/datasets/ood_cell_type/satija_merged/merged_05.h5ad\"\n",
    "adata = sc.read_h5ad(filtered_dataset)"
   ]
  },
  {
   "cell_type": "code",
   "execution_count": 11,
   "metadata": {},
   "outputs": [
    {
     "name": "stdout",
     "output_type": "stream",
     "text": [
      "A549 - mean nr of knockouts: 22.0\n",
      "BXPC3 - mean nr of knockouts: 49.6\n",
      "HAP1 - mean nr of knockouts: 28.2\n",
      "HT29 - mean nr of knockouts: 29.0\n",
      "K562 - mean nr of knockouts: 31.0\n",
      "MCF7 - mean nr of knockouts: 40.2\n"
     ]
    }
   ],
   "source": [
    "conditions_for_evaluation = 0\n",
    "\n",
    "for ct in adata.obs['cell_type'].unique():\n",
    "    selected = adata[adata.obs['cell_type'] == ct]\n",
    "    for pt in selected.obs['pathway'].unique():\n",
    "        conditions = selected.obs[selected.obs['pathway'] == pt]['gene'].unique().shape[0]\n",
    "        conditions_for_evaluation += conditions\n",
    "    print(f\"{ct} - mean nr of knockouts: {conditions_for_evaluation/5}\")\n",
    "    conditions_for_evaluation = 0"
   ]
  },
  {
   "cell_type": "code",
   "execution_count": null,
   "metadata": {},
   "outputs": [],
   "source": []
  }
 ],
 "metadata": {
  "kernelspec": {
   "display_name": "cfp2",
   "language": "python",
   "name": "python3"
  },
  "language_info": {
   "codemirror_mode": {
    "name": "ipython",
    "version": 3
   },
   "file_extension": ".py",
   "mimetype": "text/x-python",
   "name": "python",
   "nbconvert_exporter": "python",
   "pygments_lexer": "ipython3",
   "version": "3.10.15"
  }
 },
 "nbformat": 4,
 "nbformat_minor": 2
}
