{
 "cells": [
  {
   "cell_type": "code",
   "execution_count": 13,
   "id": "f0c84440-eca4-4b0c-bd19-eaca851f57ca",
   "metadata": {},
   "outputs": [],
   "source": [
    "import pandas as pd\n",
    "from scipy.stats import ttest_ind"
   ]
  },
  {
   "cell_type": "markdown",
   "id": "304ffe45-cb52-4d3e-809c-21c846ac1169",
   "metadata": {},
   "source": [
    "# Task 1: gene hold out"
   ]
  },
  {
   "cell_type": "code",
   "execution_count": 20,
   "id": "3133ba62-bde6-4a92-b47e-380dda0e4a5d",
   "metadata": {},
   "outputs": [],
   "source": [
    "df = pd.read_csv(\"/lustre/groups/ml01/workspace/ot_perturbation/figures/satija/benchmark/gene_held_out/metrics_deg.csv\")"
   ]
  },
  {
   "cell_type": "code",
   "execution_count": 21,
   "id": "e7a4b145-bb40-4ceb-9a6b-0bb581fdb79e",
   "metadata": {},
   "outputs": [
    {
     "data": {
      "text/plain": [
       "array(['CellFlow', 'Mean', 'Identity'], dtype=object)"
      ]
     },
     "execution_count": 21,
     "metadata": {},
     "output_type": "execute_result"
    }
   ],
   "source": [
    "df[\"Model\"].unique()"
   ]
  },
  {
   "cell_type": "code",
   "execution_count": 22,
   "id": "9653a416-f77c-4a11-84c0-9e5ae03028c3",
   "metadata": {},
   "outputs": [
    {
     "name": "stdout",
     "output_type": "stream",
     "text": [
      "3 TtestResult(statistic=-4.242745449374752, pvalue=2.8949330352200307e-05, df=320.0)\n",
      "0 TtestResult(statistic=-0.15664314933955317, pvalue=0.875624260457289, df=322.0)\n",
      "1 TtestResult(statistic=-6.702083240042974, pvalue=9.200631160137535e-11, df=322.0)\n",
      "4 TtestResult(statistic=-1.371461459850005, pvalue=0.17119203392511695, df=320.0)\n",
      "2 TtestResult(statistic=-9.69219659237707, pvalue=1.1677907155977725e-19, df=322.0)\n"
     ]
    }
   ],
   "source": [
    "for q in df[\"quantile\"].unique():\n",
    "    id = df[(df[\"Model\"]==\"Identity\") & (df[\"quantile\"]==q)][\"r_squared\"].values\n",
    "    cf = df[(df[\"Model\"]==\"CellFlow\") & (df[\"quantile\"]==q)][\"r_squared\"].values\n",
    "    print(q, ttest_ind(id, cf))"
   ]
  },
  {
   "cell_type": "code",
   "execution_count": 23,
   "id": "4168c0bd-0044-469d-845a-82975b0cf2c6",
   "metadata": {},
   "outputs": [
    {
     "name": "stdout",
     "output_type": "stream",
     "text": [
      "3 TtestResult(statistic=1.5983912684761967, pvalue=0.11094282419675473, df=320.0)\n",
      "0 TtestResult(statistic=0.5336083828385476, pvalue=0.5939806493501396, df=322.0)\n",
      "1 TtestResult(statistic=-1.2135252062020974, pvalue=0.22581847071740274, df=322.0)\n",
      "4 TtestResult(statistic=0.6631317523727246, pvalue=0.5077235715344209, df=320.0)\n",
      "2 TtestResult(statistic=-0.35454501205927047, pvalue=0.7231625563145243, df=322.0)\n"
     ]
    }
   ],
   "source": [
    "for q in df[\"quantile\"].unique():\n",
    "    id = df[(df[\"Model\"]==\"Mean\") & (df[\"quantile\"]==q)][\"r_squared\"].values\n",
    "    cf = df[(df[\"Model\"]==\"CellFlow\") & (df[\"quantile\"]==q)][\"r_squared\"].values\n",
    "    print(q, ttest_ind(id, cf))"
   ]
  },
  {
   "cell_type": "code",
   "execution_count": 11,
   "id": "c210226a-73c5-4d22-9c0b-7267f3b2d58a",
   "metadata": {},
   "outputs": [
    {
     "data": {
      "text/plain": [
       "quantile\n",
       "0   -173.628467\n",
       "1      0.607760\n",
       "2      0.819347\n",
       "3      0.888593\n",
       "4      0.943618\n",
       "Name: r_squared, dtype: float64"
      ]
     },
     "execution_count": 11,
     "metadata": {},
     "output_type": "execute_result"
    }
   ],
   "source": [
    "df[df[\"Model\"]==\"Identity\"].groupby(\"quantile\")[\"r_squared\"].mean()"
   ]
  },
  {
   "cell_type": "code",
   "execution_count": 27,
   "id": "2b54fbb6-91f8-44f7-ba54-d461d8752ecd",
   "metadata": {},
   "outputs": [
    {
     "name": "stdout",
     "output_type": "stream",
     "text": [
      "3 TtestResult(statistic=-2.5344002454974466, pvalue=0.011740397299964475, df=320.0)\n",
      "0 TtestResult(statistic=2.788181845270274, pvalue=0.005615565769547414, df=322.0)\n",
      "1 TtestResult(statistic=0.8671171957780183, pvalue=0.386523505656548, df=322.0)\n",
      "4 TtestResult(statistic=-5.8296782723533696, pvalue=1.3563626973767754e-08, df=320.0)\n",
      "2 TtestResult(statistic=-1.33816321158483, pvalue=0.18178742084878508, df=322.0)\n"
     ]
    }
   ],
   "source": [
    "df = pd.read_csv(\"/lustre/groups/ml01/workspace/ot_perturbation/figures/satija/benchmark/gene_held_out/metrics_encoded.csv\")\n",
    "for q in df[\"quantile\"].unique():\n",
    "    id = df[(df[\"Model\"]==\"Identity\") & (df[\"quantile\"]==q)][\"e_distance\"].values\n",
    "    cf = df[(df[\"Model\"]==\"CellFlow\") & (df[\"quantile\"]==q)][\"e_distance\"].values\n",
    "    print(q, ttest_ind(id, cf))"
   ]
  },
  {
   "cell_type": "code",
   "execution_count": 28,
   "id": "e5ba8d39-bb53-4bf3-a07a-e211800fdca8",
   "metadata": {},
   "outputs": [
    {
     "name": "stdout",
     "output_type": "stream",
     "text": [
      "3 TtestResult(statistic=-0.9378076760369124, pvalue=0.34905051799054776, df=320.0)\n",
      "0 TtestResult(statistic=1.2956464941879788, pvalue=0.19602531653803282, df=322.0)\n",
      "1 TtestResult(statistic=0.7201738054411088, pvalue=0.471940427106036, df=322.0)\n",
      "4 TtestResult(statistic=-0.09485971927636314, pvalue=0.9244856229169781, df=320.0)\n",
      "2 TtestResult(statistic=1.4280581200294309, pvalue=0.1542442987193283, df=322.0)\n"
     ]
    }
   ],
   "source": [
    "for q in df[\"quantile\"].unique():\n",
    "    id = df[(df[\"Model\"]==\"Mean\") & (df[\"quantile\"]==q)][\"e_distance\"].values\n",
    "    cf = df[(df[\"Model\"]==\"CellFlow\") & (df[\"quantile\"]==q)][\"e_distance\"].values\n",
    "    print(q, ttest_ind(id, cf))"
   ]
  },
  {
   "cell_type": "code",
   "execution_count": null,
   "id": "c6c952dc-dce5-4474-b3f2-db1e7999f629",
   "metadata": {},
   "outputs": [],
   "source": []
  },
  {
   "cell_type": "markdown",
   "id": "33ab907e-453f-4a95-bbca-21e67d292bff",
   "metadata": {},
   "source": [
    "# Task 2: cell line / cytokine hold out"
   ]
  },
  {
   "cell_type": "code",
   "execution_count": 29,
   "id": "889cba05-4c0d-4ad6-9981-3b1bc2cef1bf",
   "metadata": {},
   "outputs": [],
   "source": [
    "df = pd.read_csv(\"/lustre/groups/ml01/workspace/ot_perturbation/figures/satija/benchmark/gene_pathway_cell_line_hold_out/metrics_deg.csv\")"
   ]
  },
  {
   "cell_type": "code",
   "execution_count": 30,
   "id": "87a6b592-81f2-4638-9f7a-7c50a47b4efd",
   "metadata": {},
   "outputs": [
    {
     "data": {
      "text/html": [
       "<div>\n",
       "<style scoped>\n",
       "    .dataframe tbody tr th:only-of-type {\n",
       "        vertical-align: middle;\n",
       "    }\n",
       "\n",
       "    .dataframe tbody tr th {\n",
       "        vertical-align: top;\n",
       "    }\n",
       "\n",
       "    .dataframe thead th {\n",
       "        text-align: right;\n",
       "    }\n",
       "</style>\n",
       "<table border=\"1\" class=\"dataframe\">\n",
       "  <thead>\n",
       "    <tr style=\"text-align: right;\">\n",
       "      <th></th>\n",
       "      <th>Unnamed: 0</th>\n",
       "      <th>r_squared</th>\n",
       "      <th>sinkhorn_div_1</th>\n",
       "      <th>sinkhorn_div_10</th>\n",
       "      <th>sinkhorn_div_100</th>\n",
       "      <th>e_distance</th>\n",
       "      <th>mmd</th>\n",
       "      <th>OOD combination</th>\n",
       "      <th>Model</th>\n",
       "      <th>ood_combination</th>\n",
       "      <th>ood_cond</th>\n",
       "      <th>perturbation_effect</th>\n",
       "    </tr>\n",
       "  </thead>\n",
       "  <tbody>\n",
       "    <tr>\n",
       "      <th>0</th>\n",
       "      <td>A549_IFNB_ADAR</td>\n",
       "      <td>0.513070</td>\n",
       "      <td>20.431528</td>\n",
       "      <td>11.098158</td>\n",
       "      <td>8.359531</td>\n",
       "      <td>16.208273</td>\n",
       "      <td>0.116887</td>\n",
       "      <td>A549/IFNB</td>\n",
       "      <td>CellFlow</td>\n",
       "      <td>A549/IFNB</td>\n",
       "      <td>A549_IFNB_ADAR</td>\n",
       "      <td>0</td>\n",
       "    </tr>\n",
       "    <tr>\n",
       "      <th>1</th>\n",
       "      <td>A549_IFNB_CEBPB</td>\n",
       "      <td>0.656740</td>\n",
       "      <td>20.336010</td>\n",
       "      <td>8.368893</td>\n",
       "      <td>6.775408</td>\n",
       "      <td>13.344430</td>\n",
       "      <td>0.120921</td>\n",
       "      <td>A549/IFNB</td>\n",
       "      <td>CellFlow</td>\n",
       "      <td>A549/IFNB</td>\n",
       "      <td>A549_IFNB_CEBPB</td>\n",
       "      <td>1</td>\n",
       "    </tr>\n",
       "    <tr>\n",
       "      <th>2</th>\n",
       "      <td>A549_IFNB_CEBPG</td>\n",
       "      <td>0.884879</td>\n",
       "      <td>5.932946</td>\n",
       "      <td>1.241293</td>\n",
       "      <td>0.948407</td>\n",
       "      <td>1.838756</td>\n",
       "      <td>0.093196</td>\n",
       "      <td>A549/IFNB</td>\n",
       "      <td>CellFlow</td>\n",
       "      <td>A549/IFNB</td>\n",
       "      <td>A549_IFNB_CEBPG</td>\n",
       "      <td>2</td>\n",
       "    </tr>\n",
       "    <tr>\n",
       "      <th>3</th>\n",
       "      <td>A549_IFNB_CRKL</td>\n",
       "      <td>0.713640</td>\n",
       "      <td>0.732122</td>\n",
       "      <td>0.525205</td>\n",
       "      <td>0.495019</td>\n",
       "      <td>0.983427</td>\n",
       "      <td>0.244442</td>\n",
       "      <td>A549/IFNB</td>\n",
       "      <td>CellFlow</td>\n",
       "      <td>A549/IFNB</td>\n",
       "      <td>A549_IFNB_CRKL</td>\n",
       "      <td>2</td>\n",
       "    </tr>\n",
       "    <tr>\n",
       "      <th>4</th>\n",
       "      <td>A549_IFNB_DRAP1</td>\n",
       "      <td>0.863563</td>\n",
       "      <td>17.111439</td>\n",
       "      <td>4.777651</td>\n",
       "      <td>3.012987</td>\n",
       "      <td>5.807403</td>\n",
       "      <td>0.079628</td>\n",
       "      <td>A549/IFNB</td>\n",
       "      <td>CellFlow</td>\n",
       "      <td>A549/IFNB</td>\n",
       "      <td>A549_IFNB_DRAP1</td>\n",
       "      <td>1</td>\n",
       "    </tr>\n",
       "  </tbody>\n",
       "</table>\n",
       "</div>"
      ],
      "text/plain": [
       "        Unnamed: 0  r_squared  sinkhorn_div_1  sinkhorn_div_10  \\\n",
       "0   A549_IFNB_ADAR   0.513070       20.431528        11.098158   \n",
       "1  A549_IFNB_CEBPB   0.656740       20.336010         8.368893   \n",
       "2  A549_IFNB_CEBPG   0.884879        5.932946         1.241293   \n",
       "3   A549_IFNB_CRKL   0.713640        0.732122         0.525205   \n",
       "4  A549_IFNB_DRAP1   0.863563       17.111439         4.777651   \n",
       "\n",
       "   sinkhorn_div_100  e_distance       mmd OOD combination     Model  \\\n",
       "0          8.359531   16.208273  0.116887       A549/IFNB  CellFlow   \n",
       "1          6.775408   13.344430  0.120921       A549/IFNB  CellFlow   \n",
       "2          0.948407    1.838756  0.093196       A549/IFNB  CellFlow   \n",
       "3          0.495019    0.983427  0.244442       A549/IFNB  CellFlow   \n",
       "4          3.012987    5.807403  0.079628       A549/IFNB  CellFlow   \n",
       "\n",
       "  ood_combination         ood_cond  perturbation_effect  \n",
       "0       A549/IFNB   A549_IFNB_ADAR                    0  \n",
       "1       A549/IFNB  A549_IFNB_CEBPB                    1  \n",
       "2       A549/IFNB  A549_IFNB_CEBPG                    2  \n",
       "3       A549/IFNB   A549_IFNB_CRKL                    2  \n",
       "4       A549/IFNB  A549_IFNB_DRAP1                    1  "
      ]
     },
     "execution_count": 30,
     "metadata": {},
     "output_type": "execute_result"
    }
   ],
   "source": [
    "df.head()\n"
   ]
  },
  {
   "cell_type": "code",
   "execution_count": 31,
   "id": "e9eee4b9-c59f-4b5a-b9bd-0831f5bd0362",
   "metadata": {},
   "outputs": [
    {
     "data": {
      "text/plain": [
       "array(['CellFlow', 'Mean', 'Identity'], dtype=object)"
      ]
     },
     "execution_count": 31,
     "metadata": {},
     "output_type": "execute_result"
    }
   ],
   "source": [
    "df[\"Model\"].unique()"
   ]
  },
  {
   "cell_type": "code",
   "execution_count": 34,
   "id": "bbf96de6-5c8f-41ba-895d-c0cfbb35de4a",
   "metadata": {},
   "outputs": [
    {
     "name": "stdout",
     "output_type": "stream",
     "text": [
      "0 TtestResult(statistic=-2.0636205277019815, pvalue=0.061376746957725596, df=12.0)\n",
      "1 TtestResult(statistic=-0.023019752279581796, pvalue=0.982012875455299, df=12.0)\n",
      "2 TtestResult(statistic=1.455694086414797, pvalue=0.1761420023266547, df=10.0)\n"
     ]
    }
   ],
   "source": [
    "df_tmp = df[df[\"OOD combination\"]==\"A549/IFNB\"]\n",
    "for q in df[\"perturbation_effect\"].unique():\n",
    "    id = df_tmp[(df_tmp[\"Model\"]==\"Identity\") & (df_tmp[\"perturbation_effect\"]==q)][\"r_squared\"].values\n",
    "    cf = df_tmp[(df_tmp[\"Model\"]==\"CellFlow\") & (df_tmp[\"perturbation_effect\"]==q)][\"r_squared\"].values\n",
    "    print(q, ttest_ind(id, cf))"
   ]
  },
  {
   "cell_type": "code",
   "execution_count": 35,
   "id": "2e5381bd-c548-4653-9994-5ca1cf52b5c5",
   "metadata": {},
   "outputs": [
    {
     "name": "stdout",
     "output_type": "stream",
     "text": [
      "0 TtestResult(statistic=-1.1430444803946007, pvalue=0.2753124794582557, df=12.0)\n",
      "1 TtestResult(statistic=-8.13009786248287, pvalue=3.1862917325163263e-06, df=12.0)\n",
      "2 TtestResult(statistic=-5.806077944496632, pvalue=0.00017153395982145552, df=10.0)\n"
     ]
    }
   ],
   "source": [
    "df_tmp = df[df[\"OOD combination\"]==\"A549/IFNB\"]\n",
    "for q in df[\"perturbation_effect\"].unique():\n",
    "    id = df_tmp[(df_tmp[\"Model\"]==\"Mean\") & (df_tmp[\"perturbation_effect\"]==q)][\"r_squared\"].values\n",
    "    cf = df_tmp[(df_tmp[\"Model\"]==\"CellFlow\") & (df_tmp[\"perturbation_effect\"]==q)][\"r_squared\"].values\n",
    "    print(q, ttest_ind(id, cf))"
   ]
  },
  {
   "cell_type": "code",
   "execution_count": 39,
   "id": "857e598f-4579-48d3-ad80-93417e0d9ba3",
   "metadata": {},
   "outputs": [
    {
     "data": {
      "text/plain": [
       "perturbation_effect\n",
       "0   -0.158227\n",
       "1    0.789952\n",
       "2    0.920243\n",
       "Name: r_squared, dtype: float64"
      ]
     },
     "execution_count": 39,
     "metadata": {},
     "output_type": "execute_result"
    }
   ],
   "source": [
    "df_tmp[df_tmp[\"Model\"]==\"Identity\"].groupby(\"perturbation_effect\")[\"r_squared\"].mean()"
   ]
  },
  {
   "cell_type": "code",
   "execution_count": 40,
   "id": "1f6c6dff-4130-45cc-b0b0-77024a3ad1c4",
   "metadata": {},
   "outputs": [
    {
     "name": "stdout",
     "output_type": "stream",
     "text": [
      "0 TtestResult(statistic=0.8415410718666626, pvalue=0.40670328415902235, df=30.0)\n",
      "1 TtestResult(statistic=0.4743503899514184, pvalue=0.6386846997059679, df=30.0)\n",
      "2 TtestResult(statistic=3.9488741523425084, pvalue=0.0004818653598043858, df=28.0)\n"
     ]
    }
   ],
   "source": [
    "df_tmp = df[df[\"OOD combination\"]==\"BXPC3/IFNG\"]\n",
    "for q in df[\"perturbation_effect\"].unique():\n",
    "    id = df_tmp[(df_tmp[\"Model\"]==\"Identity\") & (df_tmp[\"perturbation_effect\"]==q)][\"r_squared\"].values\n",
    "    cf = df_tmp[(df_tmp[\"Model\"]==\"CellFlow\") & (df_tmp[\"perturbation_effect\"]==q)][\"r_squared\"].values\n",
    "    print(q, ttest_ind(id, cf))"
   ]
  },
  {
   "cell_type": "code",
   "execution_count": 41,
   "id": "bdd7a016-dc6a-4571-bf1e-cf688e310f4d",
   "metadata": {},
   "outputs": [
    {
     "name": "stdout",
     "output_type": "stream",
     "text": [
      "0 TtestResult(statistic=-1.086529575137553, pvalue=0.2858981542172122, df=30.0)\n",
      "1 TtestResult(statistic=-10.44394672735774, pvalue=1.647769675269308e-11, df=30.0)\n",
      "2 TtestResult(statistic=-6.673773471746412, pvalue=3.0471479353020165e-07, df=28.0)\n"
     ]
    }
   ],
   "source": [
    "df_tmp = df[df[\"OOD combination\"]==\"BXPC3/IFNG\"]\n",
    "for q in df[\"perturbation_effect\"].unique():\n",
    "    id = df_tmp[(df_tmp[\"Model\"]==\"Mean\") & (df_tmp[\"perturbation_effect\"]==q)][\"r_squared\"].values\n",
    "    cf = df_tmp[(df_tmp[\"Model\"]==\"CellFlow\") & (df_tmp[\"perturbation_effect\"]==q)][\"r_squared\"].values\n",
    "    print(q, ttest_ind(id, cf))"
   ]
  },
  {
   "cell_type": "code",
   "execution_count": 44,
   "id": "eecd07c7-81a0-4d58-9b8c-166ada91287b",
   "metadata": {},
   "outputs": [
    {
     "data": {
      "text/plain": [
       "perturbation_effect\n",
       "0   -871.785620\n",
       "1      0.740321\n",
       "2      0.867636\n",
       "Name: r_squared, dtype: float64"
      ]
     },
     "execution_count": 44,
     "metadata": {},
     "output_type": "execute_result"
    }
   ],
   "source": [
    "df_tmp[df_tmp[\"Model\"]==\"Identity\"].groupby(\"perturbation_effect\")[\"r_squared\"].mean()"
   ]
  },
  {
   "cell_type": "code",
   "execution_count": 45,
   "id": "e4cc7e30-6a8d-4d7c-b75e-62a9627d293e",
   "metadata": {},
   "outputs": [
    {
     "name": "stdout",
     "output_type": "stream",
     "text": [
      "0 TtestResult(statistic=-0.4974193139280483, pvalue=0.6322750997637364, df=8.0)\n",
      "1 TtestResult(statistic=-0.14624487131548497, pvalue=0.8885179065955441, df=6.0)\n",
      "2 TtestResult(statistic=1.6405565315820168, pvalue=0.1519994048001187, df=6.0)\n"
     ]
    }
   ],
   "source": [
    "df_tmp = df[df[\"OOD combination\"]==\"HAP1/TGFB\"]\n",
    "for q in df[\"perturbation_effect\"].unique():\n",
    "    id = df_tmp[(df_tmp[\"Model\"]==\"Identity\") & (df_tmp[\"perturbation_effect\"]==q)][\"r_squared\"].values\n",
    "    cf = df_tmp[(df_tmp[\"Model\"]==\"CellFlow\") & (df_tmp[\"perturbation_effect\"]==q)][\"r_squared\"].values\n",
    "    print(q, ttest_ind(id, cf))"
   ]
  },
  {
   "cell_type": "code",
   "execution_count": 46,
   "id": "382e8707-99eb-43c4-8b97-716193311b0a",
   "metadata": {},
   "outputs": [
    {
     "name": "stdout",
     "output_type": "stream",
     "text": [
      "0 TtestResult(statistic=-0.9554483952233302, pvalue=0.36732718505085415, df=8.0)\n",
      "1 TtestResult(statistic=-4.77404534145055, pvalue=0.003081604529785811, df=6.0)\n",
      "2 TtestResult(statistic=-6.565817630287573, pvalue=0.0005980981218949381, df=6.0)\n"
     ]
    }
   ],
   "source": [
    "df_tmp = df[df[\"OOD combination\"]==\"HAP1/TGFB\"]\n",
    "for q in df[\"perturbation_effect\"].unique():\n",
    "    id = df_tmp[(df_tmp[\"Model\"]==\"Mean\") & (df_tmp[\"perturbation_effect\"]==q)][\"r_squared\"].values\n",
    "    cf = df_tmp[(df_tmp[\"Model\"]==\"CellFlow\") & (df_tmp[\"perturbation_effect\"]==q)][\"r_squared\"].values\n",
    "    print(q, ttest_ind(id, cf))"
   ]
  },
  {
   "cell_type": "code",
   "execution_count": 47,
   "id": "a23b268d-8725-4395-81ec-fbbd94f94069",
   "metadata": {},
   "outputs": [
    {
     "data": {
      "text/plain": [
       "perturbation_effect\n",
       "0   -45.876862\n",
       "1     0.839035\n",
       "2     0.942389\n",
       "Name: r_squared, dtype: float64"
      ]
     },
     "execution_count": 47,
     "metadata": {},
     "output_type": "execute_result"
    }
   ],
   "source": [
    "df_tmp[df_tmp[\"Model\"]==\"Identity\"].groupby(\"perturbation_effect\")[\"r_squared\"].mean()"
   ]
  },
  {
   "cell_type": "code",
   "execution_count": 48,
   "id": "75541bfe-a9a1-4977-825d-3b6566e3e271",
   "metadata": {},
   "outputs": [
    {
     "name": "stdout",
     "output_type": "stream",
     "text": [
      "0 TtestResult(statistic=-0.5306138458784404, pvalue=0.6001897718399369, df=26.0)\n",
      "1 TtestResult(statistic=-0.5809100231651619, pvalue=0.5667168056268539, df=24.0)\n",
      "2 TtestResult(statistic=-1.0965490024087132, pvalue=0.2837199308399579, df=24.0)\n"
     ]
    }
   ],
   "source": [
    "df_tmp = df[df[\"OOD combination\"]==\"K562/INS\"]\n",
    "for q in df[\"perturbation_effect\"].unique():\n",
    "    id = df_tmp[(df_tmp[\"Model\"]==\"Identity\") & (df_tmp[\"perturbation_effect\"]==q)][\"r_squared\"].values\n",
    "    cf = df_tmp[(df_tmp[\"Model\"]==\"CellFlow\") & (df_tmp[\"perturbation_effect\"]==q)][\"r_squared\"].values\n",
    "    print(q, ttest_ind(id, cf))"
   ]
  },
  {
   "cell_type": "code",
   "execution_count": 49,
   "id": "5595da00-42c6-4e7c-b432-5608a4dc61a7",
   "metadata": {},
   "outputs": [
    {
     "name": "stdout",
     "output_type": "stream",
     "text": [
      "0 TtestResult(statistic=-1.6145898883804828, pvalue=0.11847173502782136, df=26.0)\n",
      "1 TtestResult(statistic=-16.835415961302388, pvalue=8.572688935478507e-15, df=24.0)\n",
      "2 TtestResult(statistic=-13.07632815265091, pvalue=2.0696345011714474e-12, df=24.0)\n"
     ]
    }
   ],
   "source": [
    "df_tmp = df[df[\"OOD combination\"]==\"K562/INS\"]\n",
    "for q in df[\"perturbation_effect\"].unique():\n",
    "    id = df_tmp[(df_tmp[\"Model\"]==\"Mean\") & (df_tmp[\"perturbation_effect\"]==q)][\"r_squared\"].values\n",
    "    cf = df_tmp[(df_tmp[\"Model\"]==\"CellFlow\") & (df_tmp[\"perturbation_effect\"]==q)][\"r_squared\"].values\n",
    "    print(q, ttest_ind(id, cf))"
   ]
  },
  {
   "cell_type": "code",
   "execution_count": 50,
   "id": "1f6cbbcf-2952-4a75-b7e5-aa338d47bccb",
   "metadata": {},
   "outputs": [
    {
     "data": {
      "text/plain": [
       "perturbation_effect\n",
       "0   -1.996414\n",
       "1    0.613246\n",
       "2    0.822445\n",
       "Name: r_squared, dtype: float64"
      ]
     },
     "execution_count": 50,
     "metadata": {},
     "output_type": "execute_result"
    }
   ],
   "source": [
    "df_tmp[df_tmp[\"Model\"]==\"Identity\"].groupby(\"perturbation_effect\")[\"r_squared\"].mean()"
   ]
  },
  {
   "cell_type": "code",
   "execution_count": 51,
   "id": "0b14dada-9cab-47e6-9e7d-a2805b8630a3",
   "metadata": {},
   "outputs": [
    {
     "name": "stdout",
     "output_type": "stream",
     "text": [
      "0 TtestResult(statistic=-0.7408465822310085, pvalue=0.4673962147651216, df=20.0)\n",
      "1 TtestResult(statistic=0.7523429535845839, pvalue=0.46060852996733337, df=20.0)\n",
      "2 TtestResult(statistic=3.388295709488276, pvalue=0.002919071358683719, df=20.0)\n"
     ]
    }
   ],
   "source": [
    "df_tmp = df[df[\"OOD combination\"]==\"HT29/TNFA\"]\n",
    "for q in df[\"perturbation_effect\"].unique():\n",
    "    id = df_tmp[(df_tmp[\"Model\"]==\"Identity\") & (df_tmp[\"perturbation_effect\"]==q)][\"r_squared\"].values\n",
    "    cf = df_tmp[(df_tmp[\"Model\"]==\"CellFlow\") & (df_tmp[\"perturbation_effect\"]==q)][\"r_squared\"].values\n",
    "    print(q, ttest_ind(id, cf))"
   ]
  },
  {
   "cell_type": "code",
   "execution_count": 52,
   "id": "855488e5-29f8-4462-a7fa-810998d8b560",
   "metadata": {},
   "outputs": [
    {
     "name": "stdout",
     "output_type": "stream",
     "text": [
      "0 TtestResult(statistic=-0.8010258125273362, pvalue=0.4325304300928591, df=20.0)\n",
      "1 TtestResult(statistic=-10.599028402935307, pvalue=1.1790518444602343e-09, df=20.0)\n",
      "2 TtestResult(statistic=-9.623553368004742, pvalue=6.00769266020483e-09, df=20.0)\n"
     ]
    }
   ],
   "source": [
    "df_tmp = df[df[\"OOD combination\"]==\"HT29/TNFA\"]\n",
    "for q in df[\"perturbation_effect\"].unique():\n",
    "    id = df_tmp[(df_tmp[\"Model\"]==\"Mean\") & (df_tmp[\"perturbation_effect\"]==q)][\"r_squared\"].values\n",
    "    cf = df_tmp[(df_tmp[\"Model\"]==\"CellFlow\") & (df_tmp[\"perturbation_effect\"]==q)][\"r_squared\"].values\n",
    "    print(q, ttest_ind(id, cf))"
   ]
  },
  {
   "cell_type": "code",
   "execution_count": 53,
   "id": "51191387-9ba6-449f-9b1f-7637da8fb331",
   "metadata": {},
   "outputs": [
    {
     "data": {
      "text/plain": [
       "perturbation_effect\n",
       "0   -12.924612\n",
       "1     0.880715\n",
       "2     0.944430\n",
       "Name: r_squared, dtype: float64"
      ]
     },
     "execution_count": 53,
     "metadata": {},
     "output_type": "execute_result"
    }
   ],
   "source": [
    "df_tmp[df_tmp[\"Model\"]==\"Identity\"].groupby(\"perturbation_effect\")[\"r_squared\"].mean()"
   ]
  },
  {
   "cell_type": "markdown",
   "id": "c315e225-bc18-48ef-be7d-818909efd2a0",
   "metadata": {},
   "source": [
    "# Task 3: new cell line"
   ]
  },
  {
   "cell_type": "code",
   "execution_count": 55,
   "id": "14d1695d-2597-4c8b-92af-5ef5e8255d8a",
   "metadata": {},
   "outputs": [],
   "source": [
    "df = pd.read_csv(\"/lustre/groups/ml01/workspace/ot_perturbation/figures/satija/benchmark/new_cell_line_hold_out/metrics_deg.csv\")"
   ]
  },
  {
   "cell_type": "code",
   "execution_count": 57,
   "id": "44742d2f-9f11-4095-90c9-62a46347e182",
   "metadata": {},
   "outputs": [
    {
     "data": {
      "text/html": [
       "<div>\n",
       "<style scoped>\n",
       "    .dataframe tbody tr th:only-of-type {\n",
       "        vertical-align: middle;\n",
       "    }\n",
       "\n",
       "    .dataframe tbody tr th {\n",
       "        vertical-align: top;\n",
       "    }\n",
       "\n",
       "    .dataframe thead th {\n",
       "        text-align: right;\n",
       "    }\n",
       "</style>\n",
       "<table border=\"1\" class=\"dataframe\">\n",
       "  <thead>\n",
       "    <tr style=\"text-align: right;\">\n",
       "      <th></th>\n",
       "      <th>Unnamed: 0</th>\n",
       "      <th>r_squared</th>\n",
       "      <th>sinkhorn_div_1</th>\n",
       "      <th>sinkhorn_div_10</th>\n",
       "      <th>sinkhorn_div_100</th>\n",
       "      <th>e_distance</th>\n",
       "      <th>mmd</th>\n",
       "      <th>model</th>\n",
       "      <th>ood_cond</th>\n",
       "      <th>perturbation_effect</th>\n",
       "    </tr>\n",
       "  </thead>\n",
       "  <tbody>\n",
       "    <tr>\n",
       "      <th>0</th>\n",
       "      <td>BXPC3_IFNB_ADAR</td>\n",
       "      <td>-0.448262</td>\n",
       "      <td>42.210167</td>\n",
       "      <td>28.996569</td>\n",
       "      <td>25.050045</td>\n",
       "      <td>49.137839</td>\n",
       "      <td>0.228605</td>\n",
       "      <td>cellflow</td>\n",
       "      <td>BXPC3_IFNB_ADAR</td>\n",
       "      <td>0</td>\n",
       "    </tr>\n",
       "    <tr>\n",
       "      <th>1</th>\n",
       "      <td>BXPC3_IFNB_AKT1</td>\n",
       "      <td>0.629464</td>\n",
       "      <td>9.876667</td>\n",
       "      <td>4.357474</td>\n",
       "      <td>4.083468</td>\n",
       "      <td>8.112535</td>\n",
       "      <td>0.122949</td>\n",
       "      <td>cellflow</td>\n",
       "      <td>BXPC3_IFNB_AKT1</td>\n",
       "      <td>3</td>\n",
       "    </tr>\n",
       "    <tr>\n",
       "      <th>2</th>\n",
       "      <td>BXPC3_IFNB_BATF2</td>\n",
       "      <td>0.307422</td>\n",
       "      <td>6.056795</td>\n",
       "      <td>3.862335</td>\n",
       "      <td>3.659765</td>\n",
       "      <td>7.276053</td>\n",
       "      <td>0.346983</td>\n",
       "      <td>cellflow</td>\n",
       "      <td>BXPC3_IFNB_BATF2</td>\n",
       "      <td>2</td>\n",
       "    </tr>\n",
       "    <tr>\n",
       "      <th>3</th>\n",
       "      <td>BXPC3_IFNB_BRD9</td>\n",
       "      <td>0.476316</td>\n",
       "      <td>12.647161</td>\n",
       "      <td>3.956746</td>\n",
       "      <td>3.387944</td>\n",
       "      <td>6.677367</td>\n",
       "      <td>0.149129</td>\n",
       "      <td>cellflow</td>\n",
       "      <td>BXPC3_IFNB_BRD9</td>\n",
       "      <td>1</td>\n",
       "    </tr>\n",
       "    <tr>\n",
       "      <th>4</th>\n",
       "      <td>BXPC3_IFNB_CEBPB</td>\n",
       "      <td>0.237813</td>\n",
       "      <td>4.812400</td>\n",
       "      <td>2.238499</td>\n",
       "      <td>2.037755</td>\n",
       "      <td>4.033725</td>\n",
       "      <td>0.270570</td>\n",
       "      <td>cellflow</td>\n",
       "      <td>BXPC3_IFNB_CEBPB</td>\n",
       "      <td>0</td>\n",
       "    </tr>\n",
       "  </tbody>\n",
       "</table>\n",
       "</div>"
      ],
      "text/plain": [
       "         Unnamed: 0  r_squared  sinkhorn_div_1  sinkhorn_div_10  \\\n",
       "0   BXPC3_IFNB_ADAR  -0.448262       42.210167        28.996569   \n",
       "1   BXPC3_IFNB_AKT1   0.629464        9.876667         4.357474   \n",
       "2  BXPC3_IFNB_BATF2   0.307422        6.056795         3.862335   \n",
       "3   BXPC3_IFNB_BRD9   0.476316       12.647161         3.956746   \n",
       "4  BXPC3_IFNB_CEBPB   0.237813        4.812400         2.238499   \n",
       "\n",
       "   sinkhorn_div_100  e_distance       mmd     model          ood_cond  \\\n",
       "0         25.050045   49.137839  0.228605  cellflow   BXPC3_IFNB_ADAR   \n",
       "1          4.083468    8.112535  0.122949  cellflow   BXPC3_IFNB_AKT1   \n",
       "2          3.659765    7.276053  0.346983  cellflow  BXPC3_IFNB_BATF2   \n",
       "3          3.387944    6.677367  0.149129  cellflow   BXPC3_IFNB_BRD9   \n",
       "4          2.037755    4.033725  0.270570  cellflow  BXPC3_IFNB_CEBPB   \n",
       "\n",
       "   perturbation_effect  \n",
       "0                    0  \n",
       "1                    3  \n",
       "2                    2  \n",
       "3                    1  \n",
       "4                    0  "
      ]
     },
     "execution_count": 57,
     "metadata": {},
     "output_type": "execute_result"
    }
   ],
   "source": [
    "df.head()"
   ]
  },
  {
   "cell_type": "code",
   "execution_count": 62,
   "id": "3fbc3afb-68d3-4c5b-ad4d-37123fe4e0fb",
   "metadata": {},
   "outputs": [
    {
     "name": "stdout",
     "output_type": "stream",
     "text": [
      "0 TtestResult(statistic=1.245876855830691, pvalue=0.21560896926433779, df=104.0)\n",
      "3 TtestResult(statistic=14.61221493746977, pvalue=9.286623543170603e-27, df=102.0)\n",
      "2 TtestResult(statistic=17.172484607573534, pvalue=7.342463792321789e-32, df=102.0)\n",
      "1 TtestResult(statistic=12.115059329502383, pvalue=1.3453095351630278e-21, df=104.0)\n"
     ]
    }
   ],
   "source": [
    "for q in df[\"perturbation_effect\"].unique():\n",
    "    id = df[(df[\"model\"]==\"id\") & (df[\"perturbation_effect\"]==q)][\"r_squared\"].values\n",
    "    cf = df[(df[\"model\"]==\"cellflow\") & (df[\"perturbation_effect\"]==q)][\"r_squared\"].values\n",
    "    print(q, ttest_ind(id, cf))"
   ]
  },
  {
   "cell_type": "code",
   "execution_count": 63,
   "id": "442d3506-08f7-4eb8-a14c-c891fb124a1b",
   "metadata": {},
   "outputs": [
    {
     "name": "stdout",
     "output_type": "stream",
     "text": [
      "0 TtestResult(statistic=-0.9795885753532886, pvalue=0.3295625163170446, df=104.0)\n",
      "3 TtestResult(statistic=-6.941067524989525, pvalue=3.686713445146793e-10, df=102.0)\n",
      "2 TtestResult(statistic=-7.6208431757882265, pvalue=1.3411656296633018e-11, df=102.0)\n",
      "1 TtestResult(statistic=-6.780705262051543, pvalue=7.457571409892008e-10, df=104.0)\n"
     ]
    }
   ],
   "source": [
    "for q in df[\"perturbation_effect\"].unique():\n",
    "    id = df[(df[\"model\"]==\"mean\") & (df[\"perturbation_effect\"]==q)][\"r_squared\"].values\n",
    "    cf = df[(df[\"model\"]==\"cellflow\") & (df[\"perturbation_effect\"]==q)][\"r_squared\"].values\n",
    "    print(q, ttest_ind(id, cf))"
   ]
  },
  {
   "cell_type": "code",
   "execution_count": 66,
   "id": "5da56449-f36a-4cf4-b3a7-5d70afd767ae",
   "metadata": {},
   "outputs": [
    {
     "data": {
      "text/plain": [
       "perturbation_effect\n",
       "0   -264.409390\n",
       "1      0.718269\n",
       "2      0.854305\n",
       "3      0.918390\n",
       "Name: r_squared, dtype: float64"
      ]
     },
     "execution_count": 66,
     "metadata": {},
     "output_type": "execute_result"
    }
   ],
   "source": [
    "df[df[\"model\"]==\"id\"].groupby(\"perturbation_effect\")[\"r_squared\"].mean()"
   ]
  },
  {
   "cell_type": "code",
   "execution_count": null,
   "id": "fb54e026-d4ba-4bc9-9272-ba43745c86d8",
   "metadata": {},
   "outputs": [],
   "source": []
  }
 ],
 "metadata": {
  "kernelspec": {
   "display_name": "cfp",
   "language": "python",
   "name": "cfp"
  },
  "language_info": {
   "codemirror_mode": {
    "name": "ipython",
    "version": 3
   },
   "file_extension": ".py",
   "mimetype": "text/x-python",
   "name": "python",
   "nbconvert_exporter": "python",
   "pygments_lexer": "ipython3",
   "version": "3.11.9"
  }
 },
 "nbformat": 4,
 "nbformat_minor": 5
}
