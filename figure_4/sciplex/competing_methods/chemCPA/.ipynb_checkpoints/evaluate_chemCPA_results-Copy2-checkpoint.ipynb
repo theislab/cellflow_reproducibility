{
 "cells": [
  {
   "cell_type": "code",
   "execution_count": 1,
   "id": "b368e37d-0927-441e-8fdc-d4b5c3dc8149",
   "metadata": {},
   "outputs": [],
   "source": [
    "# TODO check right order in DEG"
   ]
  },
  {
   "cell_type": "code",
   "execution_count": 1,
   "id": "b9f12043-6a3a-4a4d-ba04-b8d0804548dd",
   "metadata": {},
   "outputs": [],
   "source": [
    "import functools\n",
    "\n",
    "import jax\n",
    "import numpy as np\n",
    "import scanpy as sc\n",
    "\n",
    "from cfp.metrics import compute_metrics_fast"
   ]
  },
  {
   "cell_type": "code",
   "execution_count": 22,
   "id": "82989c4f-28f1-4a23-907a-f24297518d88",
   "metadata": {},
   "outputs": [],
   "source": [
    "i=1\n",
    "adata_train_path = f\"/lustre/groups/ml01/workspace/ot_perturbation/data/sciplex/adata_train_300_{i}.h5ad\"\n",
    "adata_test_path = f\"/lustre/groups/ml01/workspace/ot_perturbation/data/sciplex/adata_test_300_{i}.h5ad\"\n",
    "adata_ood_path = f\"/lustre/groups/ml01/workspace/ot_perturbation/data/sciplex/adata_ood_300_{i}.h5ad\""
   ]
  },
  {
   "cell_type": "code",
   "execution_count": 23,
   "id": "d2712f07-9396-463a-907b-1510ed579f53",
   "metadata": {},
   "outputs": [],
   "source": [
    "adata_train = sc.read(adata_train_path)\n",
    "adata_test = sc.read(adata_test_path)\n",
    "adata_ood = sc.read(adata_ood_path)\n",
    "#adata_pred_test = sc.read(\"/lustre/groups/ml01/workspace/ot_perturbation/models/chemcpa/sciplex/adata_biolord_test_predictions.h5ad\")\n",
    "#adata_pred_ood = sc.read(\"/lustre/groups/ml01/workspace/ot_perturbation/models/chemcpa/sciplex/adata_biolord_ood_predictions.h5ad\")"
   ]
  },
  {
   "cell_type": "code",
   "execution_count": 24,
   "id": "cd337727-a8df-4adf-8547-678a655933ac",
   "metadata": {},
   "outputs": [],
   "source": [
    "adata_preds = sc.read_h5ad(\"/lustre/groups/ml01/workspace/ot_perturbation/data/sciplex/chemcpa/adata_biolord_split_0_300_pred_ood.h5ad\")"
   ]
  },
  {
   "cell_type": "code",
   "execution_count": 25,
   "id": "56005b05-912a-4c77-8f61-49d8fac2a9e6",
   "metadata": {},
   "outputs": [
    {
     "data": {
      "text/plain": [
       "pert_category\n",
       "MCF7_Cerdulatinib_(PRT062070,_PRT2070)_10.0                1568\n",
       "MCF7_SRT2104_(GSK2245840)_1000.0                           1560\n",
       "MCF7_UNC0631_10.0                                          1558\n",
       "MCF7_Valproic_acid_sodium_salt_(Sodium_valproate)_100.0    1531\n",
       "MCF7_SRT2104_(GSK2245840)_10000.0                          1518\n",
       "                                                           ... \n",
       "A549_Avagacestat_(BMS-708163)_10.0                         1200\n",
       "K562_AG-14361_1000.0                                       1200\n",
       "A549_AG-490_(Tyrphostin_B42)_10000.0                       1200\n",
       "MCF7_Patupilone_(EPO906,_Epothilone_B)_100.0               1199\n",
       "MCF7_Patupilone_(EPO906,_Epothilone_B)_1000.0              1195\n",
       "Name: count, Length: 275, dtype: int64"
      ]
     },
     "execution_count": 25,
     "metadata": {},
     "output_type": "execute_result"
    }
   ],
   "source": [
    "adata_preds.obs[\"pert_category\"].value_counts()"
   ]
  },
  {
   "cell_type": "code",
   "execution_count": 26,
   "id": "942243e9-e9ae-4a88-b766-f53eab44d2a2",
   "metadata": {},
   "outputs": [],
   "source": [
    "adata_preds.obs[\"condition_new\"] = adata_preds.obs[\"pert_category\"]"
   ]
  },
  {
   "cell_type": "code",
   "execution_count": 27,
   "id": "ba044947-d642-4622-8f22-5f7f1148e935",
   "metadata": {},
   "outputs": [],
   "source": [
    "adata_pred_ood = adata_preds"
   ]
  },
  {
   "cell_type": "code",
   "execution_count": 28,
   "id": "13144df2-e083-4a24-a05c-e2a769972014",
   "metadata": {},
   "outputs": [],
   "source": [
    "#adata_pred_test.obs[\"condition_new\"] = adata_pred_test.obs.apply(lambda x: x[\"cell_line\"] + \"_\" + x[\"perturbation\"] + \"_\" + str(x[\"dose\"]), axis=1)\n",
    "#adata_pred_ood.obs[\"condition_new\"] = adata_pred_ood.obs.apply(lambda x: x[\"cell_line\"] + \"_\" + x[\"perturbation\"] + \"_\" + str(x[\"dose\"]), axis=1)"
   ]
  },
  {
   "cell_type": "code",
   "execution_count": 29,
   "id": "ab3658eb-b009-413e-8f69-899d337b6982",
   "metadata": {},
   "outputs": [],
   "source": [
    "OBSM_KEY_DATA_EMBEDDING = \"X_pca\""
   ]
  },
  {
   "cell_type": "code",
   "execution_count": 30,
   "id": "37a50bb9-4365-4e01-8dee-36b9f0fd1f07",
   "metadata": {},
   "outputs": [],
   "source": [
    "def reconstruct_data(embedding: np.ndarray, projection_matrix: np.ndarray, mean_to_add: np.ndarray) -> np.ndarray:\n",
    "    return np.matmul(embedding, projection_matrix.T) + mean_to_add\n",
    "\n",
    "\n",
    "def project_data(data: np.ndarray, projection_matrix: np.ndarray, mean_to_subtract: np.ndarray) -> np.ndarray:\n",
    "    return np.matmul(data - mean_to_subtract, projection_matrix)"
   ]
  },
  {
   "cell_type": "code",
   "execution_count": 31,
   "id": "8f61d8c9-2dce-4996-80f8-4688432d5066",
   "metadata": {},
   "outputs": [],
   "source": [
    "#project_data_fn = functools.partial(\n",
    "#    project_data,\n",
    "#    projection_matrix=adata_train.varm[\"PCs\"],\n",
    "#    mean_to_subtract=adata_train.varm[\"X_train_mean\"].T,\n",
    "#)"
   ]
  },
  {
   "cell_type": "code",
   "execution_count": 32,
   "id": "17ff3dbb-e383-4197-8ff8-8c1230cbe2d0",
   "metadata": {},
   "outputs": [],
   "source": [
    "#test_data_target_encoded = {}\n",
    "#test_data_target_decoded = {}\n",
    "#test_data_target_encoded_predicted = {}\n",
    "#test_data_target_decoded_predicted = {}\n",
    "#for cond in adata_test.obs[\"condition\"].cat.categories:\n",
    "#    if \"Vehicle\" in cond:\n",
    "#        continue\n",
    "#    src_str = list(adata_test[adata_test.obs[\"condition\"] == cond].obs[\"cell_type\"].unique())\n",
    "#    assert len(src_str) == 1\n",
    "#    pred = adata_pred_test[adata_pred_test.obs[\"condition_new\"] == cond].X\n",
    "\n",
    "#    test_data_target_encoded[cond] = adata_test[adata_test.obs[\"condition\"] == cond].obsm[OBSM_KEY_DATA_EMBEDDING]\n",
    "#    test_data_target_decoded[cond] = adata_test[adata_test.obs[\"condition\"] == cond].X.A\n",
    "#    test_data_target_decoded_predicted[cond] = pred\n",
    "#    test_data_target_encoded_predicted[cond] = project_data_fn(pred)\n",
    "\n",
    "ood_data_target_encoded = {}\n",
    "ood_data_target_decoded = {}\n",
    "ood_data_target_encoded_predicted = {}\n",
    "ood_data_target_decoded_predicted = {}\n",
    "for cond in adata_ood.obs[\"condition\"].cat.categories:\n",
    "    if \"Vehicle\" in cond:\n",
    "        continue\n",
    "    src_str = list(adata_ood[adata_ood.obs[\"condition\"] == cond].obs[\"cell_type\"].unique())\n",
    "    assert len(src_str) == 1\n",
    "    pred = adata_pred_ood[adata_pred_ood.obs[\"condition_new\"] == cond].X\n",
    "    ood_data_target_encoded[cond] = adata_ood[adata_ood.obs[\"condition\"] == cond].obsm[OBSM_KEY_DATA_EMBEDDING]\n",
    "    ood_data_target_decoded[cond] = adata_ood[adata_ood.obs[\"condition\"] == cond].X.toarray()\n",
    "    \n",
    "    ood_data_target_decoded_predicted[cond] = pred\n",
    "    #ood_data_target_encoded_predicted[cond] = project_data_fn(pred)"
   ]
  },
  {
   "cell_type": "code",
   "execution_count": 33,
   "id": "e54c9ea6-c94a-4f52-a55d-bbae67de4f7e",
   "metadata": {},
   "outputs": [],
   "source": [
    "#test_deg_dict = {\n",
    "#    k: v\n",
    "#    for k, v in adata_train.uns[\"rank_genes_groups_cov_all\"].items()\n",
    "#    if k in test_data_target_decoded_predicted.keys()\n",
    "#}\n",
    "ood_deg_dict = {\n",
    "    k: v\n",
    "    for k, v in adata_train.uns[\"rank_genes_groups_cov_all\"].items()\n",
    "    if k in ood_data_target_decoded_predicted.keys()\n",
    "}"
   ]
  },
  {
   "cell_type": "code",
   "execution_count": 34,
   "id": "77f59e77-2476-4d36-945f-0726e4c24c0a",
   "metadata": {},
   "outputs": [],
   "source": [
    "def get_mask(x, y):\n",
    "    return x[:, [gene in y for gene in adata_train.var_names]]\n",
    "\n",
    "\n",
    "ood_deg_target_decoded_predicted = jax.tree_util.tree_map(get_mask, ood_data_target_decoded_predicted, ood_deg_dict)\n",
    "ood_deg_target_decoded = jax.tree_util.tree_map(get_mask, ood_data_target_decoded, ood_deg_dict)\n",
    "\n",
    "#test_deg_target_decoded_predicted = jax.tree_util.tree_map(get_mask, test_data_target_decoded_predicted, test_deg_dict)\n",
    "#test_deg_target_decoded = jax.tree_util.tree_map(get_mask, test_data_target_decoded, test_deg_dict)\n"
   ]
  },
  {
   "cell_type": "code",
   "execution_count": 35,
   "id": "2ef43484-db89-4b3c-95bc-996bbf9436f5",
   "metadata": {},
   "outputs": [],
   "source": [
    "#test_metrics_encoded = jax.tree_util.tree_map(compute_metrics, test_data_target_encoded, test_data_target_encoded_predicted)\n",
    "#mean_test_metrics_encoded = compute_mean_metrics(test_metrics_encoded, prefix=\"encoded_test_\")\n",
    "\n",
    "#test_metrics_decoded = jax.tree_util.tree_map(compute_metrics, test_data_target_decoded, test_data_target_decoded_predicted)\n",
    "#mean_test_metrics_decoded = compute_mean_metrics(test_metrics_decoded, prefix=\"decoded_test_\")"
   ]
  },
  {
   "cell_type": "code",
   "execution_count": 36,
   "id": "739f22af-126a-438d-aaf7-5a122c14e009",
   "metadata": {},
   "outputs": [],
   "source": [
    "from cfp.metrics import compute_metrics_fast, compute_mean_metrics"
   ]
  },
  {
   "cell_type": "code",
   "execution_count": 37,
   "id": "54ad57f1-37ce-4963-b6bb-1441a8e7e434",
   "metadata": {},
   "outputs": [
    {
     "name": "stderr",
     "output_type": "stream",
     "text": [
      "/home/icb/dominik.klein/mambaforge/envs/cfp/lib/python3.11/site-packages/numpy/core/fromnumeric.py:3502: RuntimeWarning: Mean of empty slice.\n",
      "  return mean(axis=axis, dtype=dtype, out=out, **kwargs)\n",
      "/home/icb/dominik.klein/mambaforge/envs/cfp/lib/python3.11/site-packages/numpy/core/_methods.py:121: RuntimeWarning: invalid value encountered in divide\n",
      "  ret = um.true_divide(\n"
     ]
    },
    {
     "ename": "ValueError",
     "evalue": "Input contains NaN.",
     "output_type": "error",
     "traceback": [
      "\u001b[0;31m---------------------------------------------------------------------------\u001b[0m",
      "\u001b[0;31mValueError\u001b[0m                                Traceback (most recent call last)",
      "Cell \u001b[0;32mIn[37], line 6\u001b[0m\n\u001b[1;32m      1\u001b[0m \u001b[38;5;66;03m#ood_metrics_encoded = jax.tree_util.tree_map(\u001b[39;00m\n\u001b[1;32m      2\u001b[0m \u001b[38;5;66;03m#    compute_metrics, ood_data_target_encoded, ood_data_target_encoded_predicted\u001b[39;00m\n\u001b[1;32m      3\u001b[0m \u001b[38;5;66;03m#)\u001b[39;00m\n\u001b[1;32m      4\u001b[0m \u001b[38;5;66;03m#mean_ood_metrics_encoded = compute_mean_metrics(ood_metrics_encoded, prefix=\"encoded_ood_\")\u001b[39;00m\n\u001b[0;32m----> 6\u001b[0m ood_metrics_decoded \u001b[38;5;241m=\u001b[39m jax\u001b[38;5;241m.\u001b[39mtree_util\u001b[38;5;241m.\u001b[39mtree_map(\n\u001b[1;32m      7\u001b[0m     compute_metrics_fast, ood_data_target_decoded, ood_data_target_decoded_predicted\n\u001b[1;32m      8\u001b[0m )\n\u001b[1;32m      9\u001b[0m mean_ood_metrics_decoded \u001b[38;5;241m=\u001b[39m compute_mean_metrics(ood_metrics_decoded, prefix\u001b[38;5;241m=\u001b[39m\u001b[38;5;124m\"\u001b[39m\u001b[38;5;124mdecoded_ood_\u001b[39m\u001b[38;5;124m\"\u001b[39m)\n",
      "File \u001b[0;32m~/mambaforge/envs/cfp/lib/python3.11/site-packages/jax/_src/tree_util.py:343\u001b[0m, in \u001b[0;36mtree_map\u001b[0;34m(f, tree, is_leaf, *rest)\u001b[0m\n\u001b[1;32m    341\u001b[0m leaves, treedef \u001b[38;5;241m=\u001b[39m tree_flatten(tree, is_leaf)\n\u001b[1;32m    342\u001b[0m all_leaves \u001b[38;5;241m=\u001b[39m [leaves] \u001b[38;5;241m+\u001b[39m [treedef\u001b[38;5;241m.\u001b[39mflatten_up_to(r) \u001b[38;5;28;01mfor\u001b[39;00m r \u001b[38;5;129;01min\u001b[39;00m rest]\n\u001b[0;32m--> 343\u001b[0m \u001b[38;5;28;01mreturn\u001b[39;00m treedef\u001b[38;5;241m.\u001b[39munflatten(f(\u001b[38;5;241m*\u001b[39mxs) \u001b[38;5;28;01mfor\u001b[39;00m xs \u001b[38;5;129;01min\u001b[39;00m \u001b[38;5;28mzip\u001b[39m(\u001b[38;5;241m*\u001b[39mall_leaves))\n",
      "File \u001b[0;32m~/mambaforge/envs/cfp/lib/python3.11/site-packages/jax/_src/tree_util.py:343\u001b[0m, in \u001b[0;36m<genexpr>\u001b[0;34m(.0)\u001b[0m\n\u001b[1;32m    341\u001b[0m leaves, treedef \u001b[38;5;241m=\u001b[39m tree_flatten(tree, is_leaf)\n\u001b[1;32m    342\u001b[0m all_leaves \u001b[38;5;241m=\u001b[39m [leaves] \u001b[38;5;241m+\u001b[39m [treedef\u001b[38;5;241m.\u001b[39mflatten_up_to(r) \u001b[38;5;28;01mfor\u001b[39;00m r \u001b[38;5;129;01min\u001b[39;00m rest]\n\u001b[0;32m--> 343\u001b[0m \u001b[38;5;28;01mreturn\u001b[39;00m treedef\u001b[38;5;241m.\u001b[39munflatten(f(\u001b[38;5;241m*\u001b[39mxs) \u001b[38;5;28;01mfor\u001b[39;00m xs \u001b[38;5;129;01min\u001b[39;00m \u001b[38;5;28mzip\u001b[39m(\u001b[38;5;241m*\u001b[39mall_leaves))\n",
      "File \u001b[0;32m/ictstr01/home/icb/dominik.klein/git_repos/cell_flow_perturbation/src/cfp/metrics/_metrics.py:109\u001b[0m, in \u001b[0;36mcompute_metrics_fast\u001b[0;34m(x, y)\u001b[0m\n\u001b[1;32m    107\u001b[0m \u001b[38;5;250m\u001b[39m\u001b[38;5;124;03m\"\"\"Compute metrics which are fast to compute.\"\"\"\u001b[39;00m\n\u001b[1;32m    108\u001b[0m metrics \u001b[38;5;241m=\u001b[39m {}\n\u001b[0;32m--> 109\u001b[0m metrics[\u001b[38;5;124m\"\u001b[39m\u001b[38;5;124mr_squared\u001b[39m\u001b[38;5;124m\"\u001b[39m] \u001b[38;5;241m=\u001b[39m compute_r_squared(x, y)\n\u001b[1;32m    110\u001b[0m metrics[\u001b[38;5;124m\"\u001b[39m\u001b[38;5;124me_distance\u001b[39m\u001b[38;5;124m\"\u001b[39m] \u001b[38;5;241m=\u001b[39m compute_e_distance(x, y)\n\u001b[1;32m    111\u001b[0m metrics[\u001b[38;5;124m\"\u001b[39m\u001b[38;5;124mmmd_distance\u001b[39m\u001b[38;5;124m\"\u001b[39m] \u001b[38;5;241m=\u001b[39m compute_scalar_mmd(x, y)\n",
      "File \u001b[0;32m/ictstr01/home/icb/dominik.klein/git_repos/cell_flow_perturbation/src/cfp/metrics/_metrics.py:15\u001b[0m, in \u001b[0;36mcompute_r_squared\u001b[0;34m(x, y)\u001b[0m\n\u001b[1;32m     13\u001b[0m \u001b[38;5;28;01mdef\u001b[39;00m \u001b[38;5;21mcompute_r_squared\u001b[39m(x: ArrayLike, y: ArrayLike) \u001b[38;5;241m-\u001b[39m\u001b[38;5;241m>\u001b[39m \u001b[38;5;28mfloat\u001b[39m:\n\u001b[1;32m     14\u001b[0m \u001b[38;5;250m    \u001b[39m\u001b[38;5;124;03m\"\"\"Compute the R squared between true (x) and predicted (y)\"\"\"\u001b[39;00m\n\u001b[0;32m---> 15\u001b[0m     \u001b[38;5;28;01mreturn\u001b[39;00m r2_score(np\u001b[38;5;241m.\u001b[39mmean(x, axis\u001b[38;5;241m=\u001b[39m\u001b[38;5;241m0\u001b[39m), np\u001b[38;5;241m.\u001b[39mmean(y, axis\u001b[38;5;241m=\u001b[39m\u001b[38;5;241m0\u001b[39m))\n",
      "File \u001b[0;32m~/mambaforge/envs/cfp/lib/python3.11/site-packages/sklearn/utils/_param_validation.py:213\u001b[0m, in \u001b[0;36mvalidate_params.<locals>.decorator.<locals>.wrapper\u001b[0;34m(*args, **kwargs)\u001b[0m\n\u001b[1;32m    207\u001b[0m \u001b[38;5;28;01mtry\u001b[39;00m:\n\u001b[1;32m    208\u001b[0m     \u001b[38;5;28;01mwith\u001b[39;00m config_context(\n\u001b[1;32m    209\u001b[0m         skip_parameter_validation\u001b[38;5;241m=\u001b[39m(\n\u001b[1;32m    210\u001b[0m             prefer_skip_nested_validation \u001b[38;5;129;01mor\u001b[39;00m global_skip_validation\n\u001b[1;32m    211\u001b[0m         )\n\u001b[1;32m    212\u001b[0m     ):\n\u001b[0;32m--> 213\u001b[0m         \u001b[38;5;28;01mreturn\u001b[39;00m func(\u001b[38;5;241m*\u001b[39margs, \u001b[38;5;241m*\u001b[39m\u001b[38;5;241m*\u001b[39mkwargs)\n\u001b[1;32m    214\u001b[0m \u001b[38;5;28;01mexcept\u001b[39;00m InvalidParameterError \u001b[38;5;28;01mas\u001b[39;00m e:\n\u001b[1;32m    215\u001b[0m     \u001b[38;5;66;03m# When the function is just a wrapper around an estimator, we allow\u001b[39;00m\n\u001b[1;32m    216\u001b[0m     \u001b[38;5;66;03m# the function to delegate validation to the estimator, but we replace\u001b[39;00m\n\u001b[1;32m    217\u001b[0m     \u001b[38;5;66;03m# the name of the estimator by the name of the function in the error\u001b[39;00m\n\u001b[1;32m    218\u001b[0m     \u001b[38;5;66;03m# message to avoid confusion.\u001b[39;00m\n\u001b[1;32m    219\u001b[0m     msg \u001b[38;5;241m=\u001b[39m re\u001b[38;5;241m.\u001b[39msub(\n\u001b[1;32m    220\u001b[0m         \u001b[38;5;124mr\u001b[39m\u001b[38;5;124m\"\u001b[39m\u001b[38;5;124mparameter of \u001b[39m\u001b[38;5;124m\\\u001b[39m\u001b[38;5;124mw+ must be\u001b[39m\u001b[38;5;124m\"\u001b[39m,\n\u001b[1;32m    221\u001b[0m         \u001b[38;5;124mf\u001b[39m\u001b[38;5;124m\"\u001b[39m\u001b[38;5;124mparameter of \u001b[39m\u001b[38;5;132;01m{\u001b[39;00mfunc\u001b[38;5;241m.\u001b[39m\u001b[38;5;18m__qualname__\u001b[39m\u001b[38;5;132;01m}\u001b[39;00m\u001b[38;5;124m must be\u001b[39m\u001b[38;5;124m\"\u001b[39m,\n\u001b[1;32m    222\u001b[0m         \u001b[38;5;28mstr\u001b[39m(e),\n\u001b[1;32m    223\u001b[0m     )\n",
      "File \u001b[0;32m~/mambaforge/envs/cfp/lib/python3.11/site-packages/sklearn/metrics/_regression.py:1204\u001b[0m, in \u001b[0;36mr2_score\u001b[0;34m(y_true, y_pred, sample_weight, multioutput, force_finite)\u001b[0m\n\u001b[1;32m   1198\u001b[0m xp, _, device_ \u001b[38;5;241m=\u001b[39m get_namespace_and_device(\n\u001b[1;32m   1199\u001b[0m     y_true, y_pred, sample_weight, multioutput\n\u001b[1;32m   1200\u001b[0m )\n\u001b[1;32m   1202\u001b[0m dtype \u001b[38;5;241m=\u001b[39m _find_matching_floating_dtype(y_true, y_pred, sample_weight, xp\u001b[38;5;241m=\u001b[39mxp)\n\u001b[0;32m-> 1204\u001b[0m _, y_true, y_pred, multioutput \u001b[38;5;241m=\u001b[39m _check_reg_targets(\n\u001b[1;32m   1205\u001b[0m     y_true, y_pred, multioutput, dtype\u001b[38;5;241m=\u001b[39mdtype, xp\u001b[38;5;241m=\u001b[39mxp\n\u001b[1;32m   1206\u001b[0m )\n\u001b[1;32m   1207\u001b[0m check_consistent_length(y_true, y_pred, sample_weight)\n\u001b[1;32m   1209\u001b[0m \u001b[38;5;28;01mif\u001b[39;00m _num_samples(y_pred) \u001b[38;5;241m<\u001b[39m \u001b[38;5;241m2\u001b[39m:\n",
      "File \u001b[0;32m~/mambaforge/envs/cfp/lib/python3.11/site-packages/sklearn/metrics/_regression.py:113\u001b[0m, in \u001b[0;36m_check_reg_targets\u001b[0;34m(y_true, y_pred, multioutput, dtype, xp)\u001b[0m\n\u001b[1;32m    111\u001b[0m check_consistent_length(y_true, y_pred)\n\u001b[1;32m    112\u001b[0m y_true \u001b[38;5;241m=\u001b[39m check_array(y_true, ensure_2d\u001b[38;5;241m=\u001b[39m\u001b[38;5;28;01mFalse\u001b[39;00m, dtype\u001b[38;5;241m=\u001b[39mdtype)\n\u001b[0;32m--> 113\u001b[0m y_pred \u001b[38;5;241m=\u001b[39m check_array(y_pred, ensure_2d\u001b[38;5;241m=\u001b[39m\u001b[38;5;28;01mFalse\u001b[39;00m, dtype\u001b[38;5;241m=\u001b[39mdtype)\n\u001b[1;32m    115\u001b[0m \u001b[38;5;28;01mif\u001b[39;00m y_true\u001b[38;5;241m.\u001b[39mndim \u001b[38;5;241m==\u001b[39m \u001b[38;5;241m1\u001b[39m:\n\u001b[1;32m    116\u001b[0m     y_true \u001b[38;5;241m=\u001b[39m xp\u001b[38;5;241m.\u001b[39mreshape(y_true, (\u001b[38;5;241m-\u001b[39m\u001b[38;5;241m1\u001b[39m, \u001b[38;5;241m1\u001b[39m))\n",
      "File \u001b[0;32m~/mambaforge/envs/cfp/lib/python3.11/site-packages/sklearn/utils/validation.py:1064\u001b[0m, in \u001b[0;36mcheck_array\u001b[0;34m(array, accept_sparse, accept_large_sparse, dtype, order, copy, force_writeable, force_all_finite, ensure_2d, allow_nd, ensure_min_samples, ensure_min_features, estimator, input_name)\u001b[0m\n\u001b[1;32m   1058\u001b[0m     \u001b[38;5;28;01mraise\u001b[39;00m \u001b[38;5;167;01mValueError\u001b[39;00m(\n\u001b[1;32m   1059\u001b[0m         \u001b[38;5;124m\"\u001b[39m\u001b[38;5;124mFound array with dim \u001b[39m\u001b[38;5;132;01m%d\u001b[39;00m\u001b[38;5;124m. \u001b[39m\u001b[38;5;132;01m%s\u001b[39;00m\u001b[38;5;124m expected <= 2.\u001b[39m\u001b[38;5;124m\"\u001b[39m\n\u001b[1;32m   1060\u001b[0m         \u001b[38;5;241m%\u001b[39m (array\u001b[38;5;241m.\u001b[39mndim, estimator_name)\n\u001b[1;32m   1061\u001b[0m     )\n\u001b[1;32m   1063\u001b[0m \u001b[38;5;28;01mif\u001b[39;00m force_all_finite:\n\u001b[0;32m-> 1064\u001b[0m     _assert_all_finite(\n\u001b[1;32m   1065\u001b[0m         array,\n\u001b[1;32m   1066\u001b[0m         input_name\u001b[38;5;241m=\u001b[39minput_name,\n\u001b[1;32m   1067\u001b[0m         estimator_name\u001b[38;5;241m=\u001b[39mestimator_name,\n\u001b[1;32m   1068\u001b[0m         allow_nan\u001b[38;5;241m=\u001b[39mforce_all_finite \u001b[38;5;241m==\u001b[39m \u001b[38;5;124m\"\u001b[39m\u001b[38;5;124mallow-nan\u001b[39m\u001b[38;5;124m\"\u001b[39m,\n\u001b[1;32m   1069\u001b[0m     )\n\u001b[1;32m   1071\u001b[0m \u001b[38;5;28;01mif\u001b[39;00m copy:\n\u001b[1;32m   1072\u001b[0m     \u001b[38;5;28;01mif\u001b[39;00m _is_numpy_namespace(xp):\n\u001b[1;32m   1073\u001b[0m         \u001b[38;5;66;03m# only make a copy if `array` and `array_orig` may share memory`\u001b[39;00m\n",
      "File \u001b[0;32m~/mambaforge/envs/cfp/lib/python3.11/site-packages/sklearn/utils/validation.py:123\u001b[0m, in \u001b[0;36m_assert_all_finite\u001b[0;34m(X, allow_nan, msg_dtype, estimator_name, input_name)\u001b[0m\n\u001b[1;32m    120\u001b[0m \u001b[38;5;28;01mif\u001b[39;00m first_pass_isfinite:\n\u001b[1;32m    121\u001b[0m     \u001b[38;5;28;01mreturn\u001b[39;00m\n\u001b[0;32m--> 123\u001b[0m _assert_all_finite_element_wise(\n\u001b[1;32m    124\u001b[0m     X,\n\u001b[1;32m    125\u001b[0m     xp\u001b[38;5;241m=\u001b[39mxp,\n\u001b[1;32m    126\u001b[0m     allow_nan\u001b[38;5;241m=\u001b[39mallow_nan,\n\u001b[1;32m    127\u001b[0m     msg_dtype\u001b[38;5;241m=\u001b[39mmsg_dtype,\n\u001b[1;32m    128\u001b[0m     estimator_name\u001b[38;5;241m=\u001b[39mestimator_name,\n\u001b[1;32m    129\u001b[0m     input_name\u001b[38;5;241m=\u001b[39minput_name,\n\u001b[1;32m    130\u001b[0m )\n",
      "File \u001b[0;32m~/mambaforge/envs/cfp/lib/python3.11/site-packages/sklearn/utils/validation.py:172\u001b[0m, in \u001b[0;36m_assert_all_finite_element_wise\u001b[0;34m(X, xp, allow_nan, msg_dtype, estimator_name, input_name)\u001b[0m\n\u001b[1;32m    155\u001b[0m \u001b[38;5;28;01mif\u001b[39;00m estimator_name \u001b[38;5;129;01mand\u001b[39;00m input_name \u001b[38;5;241m==\u001b[39m \u001b[38;5;124m\"\u001b[39m\u001b[38;5;124mX\u001b[39m\u001b[38;5;124m\"\u001b[39m \u001b[38;5;129;01mand\u001b[39;00m has_nan_error:\n\u001b[1;32m    156\u001b[0m     \u001b[38;5;66;03m# Improve the error message on how to handle missing values in\u001b[39;00m\n\u001b[1;32m    157\u001b[0m     \u001b[38;5;66;03m# scikit-learn.\u001b[39;00m\n\u001b[1;32m    158\u001b[0m     msg_err \u001b[38;5;241m+\u001b[39m\u001b[38;5;241m=\u001b[39m (\n\u001b[1;32m    159\u001b[0m         \u001b[38;5;124mf\u001b[39m\u001b[38;5;124m\"\u001b[39m\u001b[38;5;130;01m\\n\u001b[39;00m\u001b[38;5;132;01m{\u001b[39;00mestimator_name\u001b[38;5;132;01m}\u001b[39;00m\u001b[38;5;124m does not accept missing values\u001b[39m\u001b[38;5;124m\"\u001b[39m\n\u001b[1;32m    160\u001b[0m         \u001b[38;5;124m\"\u001b[39m\u001b[38;5;124m encoded as NaN natively. For supervised learning, you might want\u001b[39m\u001b[38;5;124m\"\u001b[39m\n\u001b[0;32m   (...)\u001b[0m\n\u001b[1;32m    170\u001b[0m         \u001b[38;5;124m\"\u001b[39m\u001b[38;5;124m#estimators-that-handle-nan-values\u001b[39m\u001b[38;5;124m\"\u001b[39m\n\u001b[1;32m    171\u001b[0m     )\n\u001b[0;32m--> 172\u001b[0m \u001b[38;5;28;01mraise\u001b[39;00m \u001b[38;5;167;01mValueError\u001b[39;00m(msg_err)\n",
      "\u001b[0;31mValueError\u001b[0m: Input contains NaN."
     ]
    }
   ],
   "source": [
    "#ood_metrics_encoded = jax.tree_util.tree_map(\n",
    "#    compute_metrics, ood_data_target_encoded, ood_data_target_encoded_predicted\n",
    "#)\n",
    "#mean_ood_metrics_encoded = compute_mean_metrics(ood_metrics_encoded, prefix=\"encoded_ood_\")\n",
    "\n",
    "ood_metrics_decoded = jax.tree_util.tree_map(\n",
    "    compute_metrics_fast, ood_data_target_decoded, ood_data_target_decoded_predicted\n",
    ")\n",
    "mean_ood_metrics_decoded = compute_mean_metrics(ood_metrics_decoded, prefix=\"decoded_ood_\")"
   ]
  },
  {
   "cell_type": "code",
   "execution_count": null,
   "id": "1e1c98c9-78ef-447c-b1e1-9779f2edc8af",
   "metadata": {},
   "outputs": [],
   "source": [
    "mean_ood_metrics_decoded"
   ]
  },
  {
   "cell_type": "code",
   "execution_count": 41,
   "id": "4921542c-b8f3-4440-b3df-42705804cfb5",
   "metadata": {},
   "outputs": [
    {
     "data": {
      "text/plain": [
       "(214, 300)"
      ]
     },
     "execution_count": 41,
     "metadata": {},
     "output_type": "execute_result"
    }
   ],
   "source": [
    "ood_data_target_encoded['A549_ABT-737_100.0'].shape"
   ]
  },
  {
   "cell_type": "code",
   "execution_count": null,
   "id": "3cd588e5-1471-4dd3-b366-f4b2e256d7e7",
   "metadata": {},
   "outputs": [],
   "source": []
  },
  {
   "cell_type": "code",
   "execution_count": null,
   "id": "dbe8d917-24e2-441e-94f8-70e043d15a5a",
   "metadata": {},
   "outputs": [],
   "source": []
  },
  {
   "cell_type": "code",
   "execution_count": 21,
   "id": "3e1c286a-2737-4342-a3ba-f68e93ced6ab",
   "metadata": {},
   "outputs": [],
   "source": [
    "deg_ood_metrics = jax.tree_util.tree_map(compute_metrics, ood_deg_target_decoded, ood_deg_target_decoded_predicted)\n",
    "deg_mean_ood_metrics = compute_mean_metrics(deg_ood_metrics, prefix=\"deg_ood_\")\n",
    "\n",
    "#deg_test_metrics = jax.tree_util.tree_map(compute_metrics, test_deg_target_decoded, test_deg_target_decoded_predicted)\n",
    "#deg_mean_test_metrics = compute_mean_metrics(deg_test_metrics, prefix=\"deg_test_\")\n"
   ]
  },
  {
   "cell_type": "code",
   "execution_count": 22,
   "id": "b63873d5-62aa-4fd0-adc4-7c6a13ff643e",
   "metadata": {},
   "outputs": [
    {
     "data": {
      "text/plain": [
       "{'decoded_ood_r_squared': 0.8980501904082919,\n",
       " 'decoded_ood_sinkhorn_div_1': 24.087488019788587,\n",
       " 'decoded_ood_sinkhorn_div_10': 10.629761876286688,\n",
       " 'decoded_ood_sinkhorn_div_100': 2.7574647439492717,\n",
       " 'decoded_ood_e_distance': 5.1997032814852515,\n",
       " 'decoded_ood_mmd': 0.21532548593854323}"
      ]
     },
     "execution_count": 22,
     "metadata": {},
     "output_type": "execute_result"
    }
   ],
   "source": [
    "mean_ood_metrics_decoded"
   ]
  },
  {
   "cell_type": "code",
   "execution_count": 24,
   "id": "5cd17b55-deba-42f6-82a5-a736c1fd8fa9",
   "metadata": {},
   "outputs": [
    {
     "data": {
      "text/plain": [
       "{'deg_ood_r_squared': 0.7707121466237041,\n",
       " 'deg_ood_sinkhorn_div_1': 4.967486492484002,\n",
       " 'deg_ood_sinkhorn_div_10': 2.5098944519822664,\n",
       " 'deg_ood_sinkhorn_div_100': 2.1683613976111284,\n",
       " 'deg_ood_e_distance': 4.266040287749948,\n",
       " 'deg_ood_mmd': 0.19586701085056843}"
      ]
     },
     "execution_count": 24,
     "metadata": {},
     "output_type": "execute_result"
    }
   ],
   "source": [
    "deg_mean_ood_metrics"
   ]
  },
  {
   "cell_type": "code",
   "execution_count": null,
   "id": "49a4ba22-77fc-4b6b-94cd-3a72c9a36752",
   "metadata": {},
   "outputs": [],
   "source": []
  },
  {
   "cell_type": "code",
   "execution_count": 20,
   "id": "80213bc7-c9a2-4ce5-8feb-48f769ff5c87",
   "metadata": {},
   "outputs": [
    {
     "data": {
      "text/plain": [
       "{'encoded_test_r_squared': 0.9663768763027192,\n",
       " 'encoded_test_sinkhorn_div_1': 5.592183408591178,\n",
       " 'encoded_test_sinkhorn_div_10': 0.9784451699041209,\n",
       " 'encoded_test_sinkhorn_div_100': 0.29335878487668604,\n",
       " 'encoded_test_e_distance': 0.4529303384860695,\n",
       " 'encoded_test_mmd': 0.30223043528903787}"
      ]
     },
     "execution_count": 20,
     "metadata": {},
     "output_type": "execute_result"
    }
   ],
   "source": [
    "mean_test_metrics_encoded"
   ]
  },
  {
   "cell_type": "code",
   "execution_count": 21,
   "id": "836ae463-bd9c-477c-8043-647a61970802",
   "metadata": {},
   "outputs": [
    {
     "data": {
      "text/plain": [
       "{'decoded_test_r_squared': 0.9776814478837761,\n",
       " 'decoded_test_sinkhorn_div_1': 35.21613923791555,\n",
       " 'decoded_test_sinkhorn_div_10': 20.111658681658465,\n",
       " 'decoded_test_sinkhorn_div_100': 1.0817417683664428,\n",
       " 'decoded_test_e_distance': 1.142540392218624,\n",
       " 'decoded_test_mmd': 0.37149997041274985}"
      ]
     },
     "execution_count": 21,
     "metadata": {},
     "output_type": "execute_result"
    }
   ],
   "source": [
    "mean_test_metrics_decoded"
   ]
  },
  {
   "cell_type": "code",
   "execution_count": 22,
   "id": "570aa9f0-7bdd-416f-bca1-b052a2074cb9",
   "metadata": {},
   "outputs": [
    {
     "data": {
      "text/plain": [
       "1"
      ]
     },
     "execution_count": 22,
     "metadata": {},
     "output_type": "execute_result"
    }
   ],
   "source": [
    "1"
   ]
  },
  {
   "cell_type": "code",
   "execution_count": 35,
   "id": "d0b18eca-d40b-4f80-9e44-e19026b107ee",
   "metadata": {},
   "outputs": [
    {
     "data": {
      "text/plain": [
       "{'decoded_ood_r_squared': 0.9217317916065486,\n",
       " 'decoded_ood_sinkhorn_div_1': 23.054601695086504,\n",
       " 'decoded_ood_sinkhorn_div_10': 9.644866092784985,\n",
       " 'decoded_ood_sinkhorn_div_100': 1.9331934129869617,\n",
       " 'decoded_ood_e_distance': 3.578220447385841,\n",
       " 'decoded_ood_mmd': 0.2573978977324021}"
      ]
     },
     "execution_count": 35,
     "metadata": {},
     "output_type": "execute_result"
    }
   ],
   "source": [
    "mean_ood_metrics_decoded"
   ]
  },
  {
   "cell_type": "code",
   "execution_count": 36,
   "id": "6310d701-1c96-4c70-8e1d-405ab46117c5",
   "metadata": {},
   "outputs": [
    {
     "data": {
      "text/plain": [
       "{'encoded_ood_r_squared': 0.8452027128954586,\n",
       " 'encoded_ood_sinkhorn_div_1': 4.813160806088834,\n",
       " 'encoded_ood_sinkhorn_div_10': 1.7860163869084538,\n",
       " 'encoded_ood_sinkhorn_div_100': 1.4259318918795199,\n",
       " 'encoded_ood_e_distance': 2.7788584662605174,\n",
       " 'encoded_ood_mmd': 0.22473051721413326}"
      ]
     },
     "execution_count": 36,
     "metadata": {},
     "output_type": "execute_result"
    }
   ],
   "source": [
    "mean_ood_metrics_encoded"
   ]
  },
  {
   "cell_type": "code",
   "execution_count": 39,
   "id": "73de072b-ec74-4476-b4f6-d056a869bdd2",
   "metadata": {},
   "outputs": [
    {
     "data": {
      "text/plain": [
       "{'deg_ood_r_squared': 0.8268589686731178,\n",
       " 'deg_ood_sinkhorn_div_1': 4.0035812242611035,\n",
       " 'deg_ood_sinkhorn_div_10': 1.6815547105428335,\n",
       " 'deg_ood_sinkhorn_div_100': 1.44983539146346,\n",
       " 'deg_ood_e_distance': 2.855253432602434,\n",
       " 'deg_ood_mmd': 0.21982185384478872}"
      ]
     },
     "execution_count": 39,
     "metadata": {},
     "output_type": "execute_result"
    }
   ],
   "source": [
    "deg_mean_ood_metrics"
   ]
  },
  {
   "cell_type": "code",
   "execution_count": 45,
   "id": "4d3e8921-b28a-49cc-a607-95143dbcce6e",
   "metadata": {},
   "outputs": [
    {
     "data": {
      "text/plain": [
       "{'r_squared': 0.8533951642409745,\n",
       " 'sinkhorn_div_1': 20.31417579650879,\n",
       " 'sinkhorn_div_10': 6.025485992431641,\n",
       " 'sinkhorn_div_100': 3.3319061279296873,\n",
       " 'e_distance': 6.475952334054742,\n",
       " 'mmd': 0.23551200519238286}"
      ]
     },
     "execution_count": 45,
     "metadata": {},
     "output_type": "execute_result"
    }
   ],
   "source": [
    "compute_mean_metrics({k:v for k,v in ood_metrics_decoded.items() if \"10000\" in k})"
   ]
  },
  {
   "cell_type": "code",
   "execution_count": 46,
   "id": "e325d03c-73d8-409b-920a-6921254d8bf0",
   "metadata": {},
   "outputs": [
    {
     "data": {
      "text/plain": [
       "3000"
      ]
     },
     "execution_count": 46,
     "metadata": {},
     "output_type": "execute_result"
    }
   ],
   "source": [
    "adata_pred_ood[adata_pred_ood.obs[\"perturbation\"]==\"Vehicle\"].n_obs"
   ]
  },
  {
   "cell_type": "code",
   "execution_count": 48,
   "id": "c5c6251e-4f5f-4b20-a2ed-2e635a4eb277",
   "metadata": {},
   "outputs": [
    {
     "data": {
      "text/html": [
       "<div>\n",
       "<style scoped>\n",
       "    .dataframe tbody tr th:only-of-type {\n",
       "        vertical-align: middle;\n",
       "    }\n",
       "\n",
       "    .dataframe tbody tr th {\n",
       "        vertical-align: top;\n",
       "    }\n",
       "\n",
       "    .dataframe thead th {\n",
       "        text-align: right;\n",
       "    }\n",
       "</style>\n",
       "<table border=\"1\" class=\"dataframe\">\n",
       "  <thead>\n",
       "    <tr style=\"text-align: right;\">\n",
       "      <th></th>\n",
       "      <th>cell_type</th>\n",
       "      <th>dose</th>\n",
       "      <th>dose_character</th>\n",
       "      <th>dose_pattern</th>\n",
       "      <th>g1s_score</th>\n",
       "      <th>g2m_score</th>\n",
       "      <th>pathway</th>\n",
       "      <th>pathway_level_1</th>\n",
       "      <th>pathway_level_2</th>\n",
       "      <th>product_dose</th>\n",
       "      <th>...</th>\n",
       "      <th>cell_line</th>\n",
       "      <th>logdose</th>\n",
       "      <th>condition</th>\n",
       "      <th>pubchem_name</th>\n",
       "      <th>pubchem_ID</th>\n",
       "      <th>smiles</th>\n",
       "      <th>control</th>\n",
       "      <th>ood</th>\n",
       "      <th>is_ood</th>\n",
       "      <th>split</th>\n",
       "    </tr>\n",
       "    <tr>\n",
       "      <th>index</th>\n",
       "      <th></th>\n",
       "      <th></th>\n",
       "      <th></th>\n",
       "      <th></th>\n",
       "      <th></th>\n",
       "      <th></th>\n",
       "      <th></th>\n",
       "      <th></th>\n",
       "      <th></th>\n",
       "      <th></th>\n",
       "      <th></th>\n",
       "      <th></th>\n",
       "      <th></th>\n",
       "      <th></th>\n",
       "      <th></th>\n",
       "      <th></th>\n",
       "      <th></th>\n",
       "      <th></th>\n",
       "      <th></th>\n",
       "      <th></th>\n",
       "      <th></th>\n",
       "    </tr>\n",
       "  </thead>\n",
       "  <tbody>\n",
       "    <tr>\n",
       "      <th>A01_E09_RT_BC_100_Lig_BC_306-0-0</th>\n",
       "      <td>A549</td>\n",
       "      <td>10.0</td>\n",
       "      <td>10</td>\n",
       "      <td>4</td>\n",
       "      <td>0.000000</td>\n",
       "      <td>1.980748</td>\n",
       "      <td>DNA Damage</td>\n",
       "      <td>DNA damage &amp; DNA repair</td>\n",
       "      <td>Nucleotide analog</td>\n",
       "      <td>Raltitrexed_10</td>\n",
       "      <td>...</td>\n",
       "      <td>A549</td>\n",
       "      <td>1.0</td>\n",
       "      <td>A549_Raltitrexed_10.0</td>\n",
       "      <td>Raltitrexed</td>\n",
       "      <td>135400182</td>\n",
       "      <td>CC1=NC2=C(C=C(C=C2)CN(C)C3=CC=C(S3)C(=O)NC(CCC...</td>\n",
       "      <td>0</td>\n",
       "      <td>not ood</td>\n",
       "      <td>False</td>\n",
       "      <td>test</td>\n",
       "    </tr>\n",
       "    <tr>\n",
       "      <th>A01_E09_RT_BC_101_Lig_BC_109-0-0</th>\n",
       "      <td>A549</td>\n",
       "      <td>0.0</td>\n",
       "      <td>0</td>\n",
       "      <td>3</td>\n",
       "      <td>0.000000</td>\n",
       "      <td>0.000000</td>\n",
       "      <td>Vehicle</td>\n",
       "      <td>Vehicle</td>\n",
       "      <td>Vehicle</td>\n",
       "      <td>Vehicle_0</td>\n",
       "      <td>...</td>\n",
       "      <td>A549</td>\n",
       "      <td>0.0</td>\n",
       "      <td>A549_Vehicle_0.0</td>\n",
       "      <td>NaN</td>\n",
       "      <td>NaN</td>\n",
       "      <td>NaN</td>\n",
       "      <td>1</td>\n",
       "      <td>not ood</td>\n",
       "      <td>False</td>\n",
       "      <td>test</td>\n",
       "    </tr>\n",
       "    <tr>\n",
       "      <th>A01_E09_RT_BC_101_Lig_BC_229-0-0</th>\n",
       "      <td>A549</td>\n",
       "      <td>10.0</td>\n",
       "      <td>10</td>\n",
       "      <td>4</td>\n",
       "      <td>1.817254</td>\n",
       "      <td>2.801225</td>\n",
       "      <td>Apoptosis</td>\n",
       "      <td>Protein folding &amp; Protein degradation</td>\n",
       "      <td>E3 ubiquitin ligase activity</td>\n",
       "      <td>Lenalidomide (CC-5013)_10</td>\n",
       "      <td>...</td>\n",
       "      <td>A549</td>\n",
       "      <td>1.0</td>\n",
       "      <td>A549_Lenalidomide_(CC-5013)_10.0</td>\n",
       "      <td>Lenalidomide</td>\n",
       "      <td>216326</td>\n",
       "      <td>C1CC(=O)NC(=O)C1N2CC3=C(C2=O)C=CC=C3N</td>\n",
       "      <td>0</td>\n",
       "      <td>not ood</td>\n",
       "      <td>False</td>\n",
       "      <td>test</td>\n",
       "    </tr>\n",
       "    <tr>\n",
       "      <th>A01_E09_RT_BC_102_Lig_BC_265-0-0</th>\n",
       "      <td>A549</td>\n",
       "      <td>100.0</td>\n",
       "      <td>100</td>\n",
       "      <td>3</td>\n",
       "      <td>0.646621</td>\n",
       "      <td>1.315667</td>\n",
       "      <td>Protein Tyrosine Kinase</td>\n",
       "      <td>Tyrosine kinase signaling</td>\n",
       "      <td>RTK activity</td>\n",
       "      <td>Linifanib (ABT-869)_100</td>\n",
       "      <td>...</td>\n",
       "      <td>A549</td>\n",
       "      <td>2.0</td>\n",
       "      <td>A549_Linifanib_(ABT-869)_100.0</td>\n",
       "      <td>Linifanib</td>\n",
       "      <td>11485656</td>\n",
       "      <td>CC1=CC(=C(C=C1)F)NC(=O)NC2=CC=C(C=C2)C3=C4C(=C...</td>\n",
       "      <td>0</td>\n",
       "      <td>not ood</td>\n",
       "      <td>False</td>\n",
       "      <td>test</td>\n",
       "    </tr>\n",
       "    <tr>\n",
       "      <th>A01_E09_RT_BC_102_Lig_BC_379-0-0</th>\n",
       "      <td>A549</td>\n",
       "      <td>10000.0</td>\n",
       "      <td>10000</td>\n",
       "      <td>1</td>\n",
       "      <td>0.915929</td>\n",
       "      <td>3.055782</td>\n",
       "      <td>Protein Tyrosine Kinase</td>\n",
       "      <td>Tyrosine kinase signaling</td>\n",
       "      <td>RTK activity</td>\n",
       "      <td>Linifanib (ABT-869)_10000</td>\n",
       "      <td>...</td>\n",
       "      <td>A549</td>\n",
       "      <td>4.0</td>\n",
       "      <td>A549_Linifanib_(ABT-869)_10000.0</td>\n",
       "      <td>Linifanib</td>\n",
       "      <td>11485656</td>\n",
       "      <td>CC1=CC(=C(C=C1)F)NC(=O)NC2=CC=C(C=C2)C3=C4C(=C...</td>\n",
       "      <td>0</td>\n",
       "      <td>not ood</td>\n",
       "      <td>False</td>\n",
       "      <td>test</td>\n",
       "    </tr>\n",
       "  </tbody>\n",
       "</table>\n",
       "<p>5 rows × 28 columns</p>\n",
       "</div>"
      ],
      "text/plain": [
       "                                 cell_type     dose dose_character  \\\n",
       "index                                                                \n",
       "A01_E09_RT_BC_100_Lig_BC_306-0-0      A549     10.0             10   \n",
       "A01_E09_RT_BC_101_Lig_BC_109-0-0      A549      0.0              0   \n",
       "A01_E09_RT_BC_101_Lig_BC_229-0-0      A549     10.0             10   \n",
       "A01_E09_RT_BC_102_Lig_BC_265-0-0      A549    100.0            100   \n",
       "A01_E09_RT_BC_102_Lig_BC_379-0-0      A549  10000.0          10000   \n",
       "\n",
       "                                 dose_pattern g1s_score g2m_score  \\\n",
       "index                                                               \n",
       "A01_E09_RT_BC_100_Lig_BC_306-0-0            4  0.000000  1.980748   \n",
       "A01_E09_RT_BC_101_Lig_BC_109-0-0            3  0.000000  0.000000   \n",
       "A01_E09_RT_BC_101_Lig_BC_229-0-0            4  1.817254  2.801225   \n",
       "A01_E09_RT_BC_102_Lig_BC_265-0-0            3  0.646621  1.315667   \n",
       "A01_E09_RT_BC_102_Lig_BC_379-0-0            1  0.915929  3.055782   \n",
       "\n",
       "                                                  pathway  \\\n",
       "index                                                       \n",
       "A01_E09_RT_BC_100_Lig_BC_306-0-0               DNA Damage   \n",
       "A01_E09_RT_BC_101_Lig_BC_109-0-0                  Vehicle   \n",
       "A01_E09_RT_BC_101_Lig_BC_229-0-0                Apoptosis   \n",
       "A01_E09_RT_BC_102_Lig_BC_265-0-0  Protein Tyrosine Kinase   \n",
       "A01_E09_RT_BC_102_Lig_BC_379-0-0  Protein Tyrosine Kinase   \n",
       "\n",
       "                                                        pathway_level_1  \\\n",
       "index                                                                     \n",
       "A01_E09_RT_BC_100_Lig_BC_306-0-0                DNA damage & DNA repair   \n",
       "A01_E09_RT_BC_101_Lig_BC_109-0-0                                Vehicle   \n",
       "A01_E09_RT_BC_101_Lig_BC_229-0-0  Protein folding & Protein degradation   \n",
       "A01_E09_RT_BC_102_Lig_BC_265-0-0              Tyrosine kinase signaling   \n",
       "A01_E09_RT_BC_102_Lig_BC_379-0-0              Tyrosine kinase signaling   \n",
       "\n",
       "                                               pathway_level_2  \\\n",
       "index                                                            \n",
       "A01_E09_RT_BC_100_Lig_BC_306-0-0             Nucleotide analog   \n",
       "A01_E09_RT_BC_101_Lig_BC_109-0-0                       Vehicle   \n",
       "A01_E09_RT_BC_101_Lig_BC_229-0-0  E3 ubiquitin ligase activity   \n",
       "A01_E09_RT_BC_102_Lig_BC_265-0-0                  RTK activity   \n",
       "A01_E09_RT_BC_102_Lig_BC_379-0-0                  RTK activity   \n",
       "\n",
       "                                               product_dose  ... cell_line  \\\n",
       "index                                                        ...             \n",
       "A01_E09_RT_BC_100_Lig_BC_306-0-0             Raltitrexed_10  ...      A549   \n",
       "A01_E09_RT_BC_101_Lig_BC_109-0-0                  Vehicle_0  ...      A549   \n",
       "A01_E09_RT_BC_101_Lig_BC_229-0-0  Lenalidomide (CC-5013)_10  ...      A549   \n",
       "A01_E09_RT_BC_102_Lig_BC_265-0-0    Linifanib (ABT-869)_100  ...      A549   \n",
       "A01_E09_RT_BC_102_Lig_BC_379-0-0  Linifanib (ABT-869)_10000  ...      A549   \n",
       "\n",
       "                                 logdose                         condition  \\\n",
       "index                                                                        \n",
       "A01_E09_RT_BC_100_Lig_BC_306-0-0     1.0             A549_Raltitrexed_10.0   \n",
       "A01_E09_RT_BC_101_Lig_BC_109-0-0     0.0                  A549_Vehicle_0.0   \n",
       "A01_E09_RT_BC_101_Lig_BC_229-0-0     1.0  A549_Lenalidomide_(CC-5013)_10.0   \n",
       "A01_E09_RT_BC_102_Lig_BC_265-0-0     2.0    A549_Linifanib_(ABT-869)_100.0   \n",
       "A01_E09_RT_BC_102_Lig_BC_379-0-0     4.0  A549_Linifanib_(ABT-869)_10000.0   \n",
       "\n",
       "                                  pubchem_name pubchem_ID  \\\n",
       "index                                                       \n",
       "A01_E09_RT_BC_100_Lig_BC_306-0-0   Raltitrexed  135400182   \n",
       "A01_E09_RT_BC_101_Lig_BC_109-0-0           NaN        NaN   \n",
       "A01_E09_RT_BC_101_Lig_BC_229-0-0  Lenalidomide     216326   \n",
       "A01_E09_RT_BC_102_Lig_BC_265-0-0     Linifanib   11485656   \n",
       "A01_E09_RT_BC_102_Lig_BC_379-0-0     Linifanib   11485656   \n",
       "\n",
       "                                                                             smiles  \\\n",
       "index                                                                                 \n",
       "A01_E09_RT_BC_100_Lig_BC_306-0-0  CC1=NC2=C(C=C(C=C2)CN(C)C3=CC=C(S3)C(=O)NC(CCC...   \n",
       "A01_E09_RT_BC_101_Lig_BC_109-0-0                                                NaN   \n",
       "A01_E09_RT_BC_101_Lig_BC_229-0-0              C1CC(=O)NC(=O)C1N2CC3=C(C2=O)C=CC=C3N   \n",
       "A01_E09_RT_BC_102_Lig_BC_265-0-0  CC1=CC(=C(C=C1)F)NC(=O)NC2=CC=C(C=C2)C3=C4C(=C...   \n",
       "A01_E09_RT_BC_102_Lig_BC_379-0-0  CC1=CC(=C(C=C1)F)NC(=O)NC2=CC=C(C=C2)C3=C4C(=C...   \n",
       "\n",
       "                                 control      ood is_ood split  \n",
       "index                                                           \n",
       "A01_E09_RT_BC_100_Lig_BC_306-0-0       0  not ood  False  test  \n",
       "A01_E09_RT_BC_101_Lig_BC_109-0-0       1  not ood  False  test  \n",
       "A01_E09_RT_BC_101_Lig_BC_229-0-0       0  not ood  False  test  \n",
       "A01_E09_RT_BC_102_Lig_BC_265-0-0       0  not ood  False  test  \n",
       "A01_E09_RT_BC_102_Lig_BC_379-0-0       0  not ood  False  test  \n",
       "\n",
       "[5 rows x 28 columns]"
      ]
     },
     "execution_count": 48,
     "metadata": {},
     "output_type": "execute_result"
    }
   ],
   "source": [
    "adata_test.obs.head()"
   ]
  },
  {
   "cell_type": "code",
   "execution_count": 50,
   "id": "1331727e-99bb-43c5-be0e-24c5b46369cb",
   "metadata": {},
   "outputs": [
    {
     "data": {
      "text/plain": [
       "cell_line\n",
       "A549    500\n",
       "Name: count, dtype: int64"
      ]
     },
     "execution_count": 50,
     "metadata": {},
     "output_type": "execute_result"
    }
   ],
   "source": [
    "adata_test[adata_test.obs[\"pathway\"]==\"Vehicle\"].obs[\"cell_line\"].value_counts()"
   ]
  },
  {
   "cell_type": "code",
   "execution_count": 51,
   "id": "491c2483-1729-49bf-af46-54394719c9b9",
   "metadata": {},
   "outputs": [
    {
     "data": {
      "text/plain": [
       "cell_line\n",
       "A549    500\n",
       "Name: count, dtype: int64"
      ]
     },
     "execution_count": 51,
     "metadata": {},
     "output_type": "execute_result"
    }
   ],
   "source": [
    "\n",
    "adata_ood[adata_ood.obs[\"pathway\"]==\"Vehicle\"].obs[\"cell_line\"].value_counts()"
   ]
  },
  {
   "cell_type": "code",
   "execution_count": 53,
   "id": "e145fa7a-b2d9-40a5-9a9f-f6bb58597792",
   "metadata": {},
   "outputs": [
    {
     "data": {
      "text/plain": [
       "cell_line\n",
       "A549    1\n",
       "Name: count, dtype: int64"
      ]
     },
     "execution_count": 53,
     "metadata": {},
     "output_type": "execute_result"
    }
   ],
   "source": [
    "adata_train[\"Vehicle\" in adata_train.obs[\"condition\"]].obs[\"cell_line\"].value_counts()"
   ]
  },
  {
   "cell_type": "code",
   "execution_count": 54,
   "id": "9c63e649-cec5-4108-8011-6f0c3beb8532",
   "metadata": {},
   "outputs": [
    {
     "data": {
      "text/plain": [
       "View of AnnData object with n_obs × n_vars = 1 × 2002\n",
       "    obs: 'cell_type', 'dose', 'dose_character', 'dose_pattern', 'g1s_score', 'g2m_score', 'pathway', 'pathway_level_1', 'pathway_level_2', 'product_dose', 'product_name', 'proliferation_index', 'replicate', 'size_factor', 'target', 'vehicle', 'perturbation', 'drug', 'cell_line', 'logdose', 'condition', 'pubchem_name', 'pubchem_ID', 'smiles', 'control', 'ood', 'is_ood', 'split'\n",
       "    var: 'id', 'num_cells_expressed-0-0', 'num_cells_expressed-1-0', 'num_cells_expressed-1', 'highly_variable', 'means', 'dispersions', 'dispersions_norm'\n",
       "    uns: 'hvg', 'log1p', 'pca', 'rank_genes_groups_cov_all'\n",
       "    obsm: 'X_pca', 'cell_line_emb', 'ecfp', 'ecfp_cell_line', 'ecfp_cell_line_dose', 'ecfp_cell_line_dose_more_dose', 'ecfp_cell_line_logdose', 'ecfp_cell_line_logdose_more_dose'\n",
       "    varm: 'PCs', 'X_train_mean'\n",
       "    layers: 'X_log1p', 'centered_X'"
      ]
     },
     "execution_count": 54,
     "metadata": {},
     "output_type": "execute_result"
    }
   ],
   "source": [
    "adata_train[\"Vehicle\" in adata_train.obs[\"condition\"]]"
   ]
  },
  {
   "cell_type": "code",
   "execution_count": 58,
   "id": "ac176b83-3031-4786-bc42-8bda61ca9d76",
   "metadata": {},
   "outputs": [
    {
     "data": {
      "text/plain": [
       "['A549', 'MCF7', 'K562']\n",
       "Categories (3, object): ['A549', 'K562', 'MCF7']"
      ]
     },
     "execution_count": 58,
     "metadata": {},
     "output_type": "execute_result"
    }
   ],
   "source": [
    "adata_ood[adata_ood.obs[\"]].obs[\"cell_line\"].unique()"
   ]
  },
  {
   "cell_type": "code",
   "execution_count": 60,
   "id": "e58aeaba-dda3-4e07-9469-dc22602af6d8",
   "metadata": {},
   "outputs": [
    {
     "data": {
      "text/plain": [
       "index\n",
       "A01_E09_RT_BC_116_Lig_BC_193-0-0    A549_Alvespimycin_(17-DMAG)_HCl_10.0\n",
       "A01_E09_RT_BC_175_Lig_BC_81-0-0     A549_Alvespimycin_(17-DMAG)_HCl_10.0\n",
       "A01_E09_RT_BC_328_Lig_BC_18-0-0            A549_Dacinostat_(LAQ824)_10.0\n",
       "A01_E09_RT_BC_357_Lig_BC_85-0-0          A549_Tanespimycin_(17-AAG)_10.0\n",
       "A01_E09_RT_BC_380_Lig_BC_55-0-0            A549_Dacinostat_(LAQ824)_10.0\n",
       "                                                    ...                 \n",
       "H12_E09_RT_BC_137_Lig_BC_304-1                          K562_Vehicle_0.0\n",
       "H12_E09_RT_BC_181_Lig_BC_329-1                          K562_Vehicle_0.0\n",
       "H12_E09_RT_BC_18_Lig_BC_18-1                            K562_Vehicle_0.0\n",
       "H12_F10_RT_BC_291_Lig_BC_126-1                          K562_Vehicle_0.0\n",
       "H12_F10_RT_BC_75_Lig_BC_115-1                           K562_Vehicle_0.0\n",
       "Name: condition, Length: 13317, dtype: category\n",
       "Categories (40, object): ['A549_Alvespimycin_(17-DMAG)_HCl_10.0', 'A549_Belinostat_(PXD101)_100.0', 'A549_Dacinostat_(LAQ824)_10.0', 'A549_Tanespimycin_(17-AAG)_10.0', ..., 'MCF7_TAK-901_1000.0', 'MCF7_Tanespimycin_(17-AAG)_10.0', 'MCF7_Tanespimycin_(17-AAG)_100.0', 'MCF7_Vehicle_0.0']"
      ]
     },
     "execution_count": 60,
     "metadata": {},
     "output_type": "execute_result"
    }
   ],
   "source": [
    "adata_ood.obs[\"condition\"]"
   ]
  },
  {
   "cell_type": "code",
   "execution_count": 53,
   "id": "815164ff-7cd4-4d24-bd06-34573ea50915",
   "metadata": {},
   "outputs": [],
   "source": [
    "output_dir = \"/lustre/groups/ml01/workspace/ot_perturbation/data/sciplex/results/biolord\""
   ]
  },
  {
   "cell_type": "code",
   "execution_count": 54,
   "id": "7ed36ede-fe87-45f3-b3b6-4508868a06c8",
   "metadata": {},
   "outputs": [],
   "source": [
    "import os\n",
    "import pandas as pd\n",
    "\n",
    "pd.DataFrame.from_dict(ood_metrics_encoded).to_csv(os.path.join(output_dir, \"biolord_split_ood_metrics_encoded.csv\"))\n",
    "pd.DataFrame.from_dict(ood_metrics_decoded).to_csv(os.path.join(output_dir, \"biolord_split_ood_metrics_decoded.csv\"))\n",
    "#pd.DataFrame.from_dict(test_metrics_encoded).to_csv(os.path.join(output_dir, \"biolord_split_test_metrics_encoded.csv\"))\n",
    "#pd.DataFrame.from_dict(test_metrics_decoded).to_csv(os.path.join(output_dir, \"biolord_split_test_metrics_decoded.csv\"))\n",
    "#pd.DataFrame.from_dict(train_metrics_encoded).to_csv(os.path.join(output_dir, \"biolord_split_train_metrics_encoded.csv\"))\n",
    "#pd.DataFrame.from_dict(train_metrics_decoded).to_csv(os.path.join(output_dir, \"biolord_split_train_metrics_decoded.csv\"))"
   ]
  },
  {
   "cell_type": "code",
   "execution_count": null,
   "id": "93f8f467-467c-40d6-bdcc-eee662579c77",
   "metadata": {},
   "outputs": [],
   "source": []
  }
 ],
 "metadata": {
  "kernelspec": {
   "display_name": "cfp",
   "language": "python",
   "name": "cfp"
  },
  "language_info": {
   "codemirror_mode": {
    "name": "ipython",
    "version": 3
   },
   "file_extension": ".py",
   "mimetype": "text/x-python",
   "name": "python",
   "nbconvert_exporter": "python",
   "pygments_lexer": "ipython3",
   "version": "3.11.9"
  }
 },
 "nbformat": 4,
 "nbformat_minor": 5
}
