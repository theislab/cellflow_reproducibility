{
 "cells": [
  {
   "cell_type": "code",
   "execution_count": 1,
   "id": "b6a4b109-5df1-41f9-aade-146d3bd42a97",
   "metadata": {},
   "outputs": [],
   "source": [
    "import pandas as pd"
   ]
  },
  {
   "cell_type": "code",
   "execution_count": 35,
   "id": "30cef2a6-7ceb-430e-b257-566fc7bc7b93",
   "metadata": {},
   "outputs": [],
   "source": [
    "df_cf = pd.read_csv(\"/lustre/groups/ml01/workspace/ot_perturbation/data/sciplex/results/allocation/ood_metrics_decoded.csv\", index_col=0)\n",
    "df_recon = pd.read_csv(\"/lustre/groups/ml01/workspace/ot_perturbation/data/sciplex/results/allocation/encoder_decoder_metrics_decoded.csv\", index_col=0)\n",
    "\n",
    "df_cf[\"dose\"] = df_cf.apply(lambda x: float(x[\"variable\"].split(\"_\")[-1]), axis=1)  \n",
    "df_cf = df_cf[(df_cf[\"model\"]==\"otfm\") & (df_cf[\"split\"]==5)]\n",
    "df_recon = df_recon.rename(columns={\"embedding\": \"model\"})\n",
    "df_all = pd.concat((df_cf, df_recon), axis=0)\n",
    "df_all.to_csv(\"/lustre/groups/ml01/workspace/ot_perturbation/data/sciplex/results/allocation/encoder_decoder_with_cellflow_decoded.csv\")"
   ]
  },
  {
   "cell_type": "code",
   "execution_count": 36,
   "id": "41fccb8f-0560-4ad2-a94f-ccec309cfcc7",
   "metadata": {},
   "outputs": [],
   "source": [
    "df_cf = pd.read_csv(\"/lustre/groups/ml01/workspace/ot_perturbation/data/sciplex/results/allocation/ood_metrics_encoded.csv\", index_col=0)\n",
    "df_recon = pd.read_csv(\"/lustre/groups/ml01/workspace/ot_perturbation/data/sciplex/results/allocation/encoder_decoder_metrics_encoded.csv\", index_col=0)\n",
    "\n",
    "df_cf[\"dose\"] = df_cf.apply(lambda x: float(x[\"variable\"].split(\"_\")[-1]), axis=1)  \n",
    "df_cf = df_cf[(df_cf[\"model\"]==\"otfm\") & (df_cf[\"split\"]==5)]\n",
    "df_recon = df_recon.rename(columns={\"embedding\": \"model\"})\n",
    "df_all = pd.concat((df_cf, df_recon), axis=0)\n",
    "df_all.to_csv(\"/lustre/groups/ml01/workspace/ot_perturbation/data/sciplex/results/allocation/encoder_decoder_with_cellflow_encoded.csv\")"
   ]
  },
  {
   "cell_type": "code",
   "execution_count": 37,
   "id": "77adb89e-b563-4a15-a87b-4c8419280c8c",
   "metadata": {},
   "outputs": [],
   "source": [
    "df_cf = pd.read_csv(\"/lustre/groups/ml01/workspace/ot_perturbation/data/sciplex/results/allocation/ood_metrics_deg.csv\", index_col=0)\n",
    "df_recon = pd.read_csv(\"/lustre/groups/ml01/workspace/ot_perturbation/data/sciplex/results/allocation/encoder_decoder_metrics_deg.csv\", index_col=0)\n",
    "\n",
    "df_cf[\"dose\"] = df_cf.apply(lambda x: float(x[\"variable\"].split(\"_\")[-1]), axis=1)  \n",
    "df_cf = df_cf[(df_cf[\"model\"]==\"otfm\") & (df_cf[\"split\"]==5)]\n",
    "df_recon = df_recon.rename(columns={\"embedding\": \"model\"})\n",
    "df_all = pd.concat((df_cf, df_recon), axis=0)\n",
    "df_all.to_csv(\"/lustre/groups/ml01/workspace/ot_perturbation/data/sciplex/results/allocation/encoder_decoder_with_cellflow_deg.csv\")"
   ]
  },
  {
   "cell_type": "code",
   "execution_count": null,
   "id": "b240c990-00df-4b09-b296-6b5fd7d813d9",
   "metadata": {},
   "outputs": [],
   "source": []
  }
 ],
 "metadata": {
  "kernelspec": {
   "display_name": "cfp",
   "language": "python",
   "name": "cfp"
  },
  "language_info": {
   "codemirror_mode": {
    "name": "ipython",
    "version": 3
   },
   "file_extension": ".py",
   "mimetype": "text/x-python",
   "name": "python",
   "nbconvert_exporter": "python",
   "pygments_lexer": "ipython3",
   "version": "3.11.9"
  }
 },
 "nbformat": 4,
 "nbformat_minor": 5
}
