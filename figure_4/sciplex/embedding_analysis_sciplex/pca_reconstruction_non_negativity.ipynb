{
 "cells": [
  {
   "cell_type": "code",
   "execution_count": 1,
   "id": "e8d391c3-f404-42e6-a5ef-fd999599463a",
   "metadata": {},
   "outputs": [
    {
     "name": "stderr",
     "output_type": "stream",
     "text": [
      "/home/icb/dominik.klein/mambaforge/envs/cfp/lib/python3.11/site-packages/optuna/study/_optimize.py:29: TqdmWarning: IProgress not found. Please update jupyter and ipywidgets. See https://ipywidgets.readthedocs.io/en/stable/user_install.html\n",
      "  from optuna import progress_bar as pbar_module\n"
     ]
    }
   ],
   "source": [
    "import scanpy as sc\n",
    "import os\n",
    "from cfp.preprocessing import reconstruct_pca\n",
    "from cfp.metrics import compute_metrics\n",
    "import pandas as pd"
   ]
  },
  {
   "cell_type": "code",
   "execution_count": 2,
   "id": "68be4f2d-b15c-414b-8a50-5977be648346",
   "metadata": {},
   "outputs": [],
   "source": [
    "data_dir = \"/lustre/groups/ml01/workspace/ot_perturbation/data/sciplex\"\n",
    "out_dir = \"/lustre/groups/ml01/workspace/ot_perturbation/data/sciplex/reconstruction\""
   ]
  },
  {
   "cell_type": "code",
   "execution_count": 3,
   "id": "8e4b9ddb-3b3a-4826-b419-d5b0530d7074",
   "metadata": {},
   "outputs": [],
   "source": [
    "split = 5\n",
    "adata_train_300 = sc.read(os.path.join(data_dir, f\"adata_train_{split}.h5ad\"))\n",
    "adata_ood_300 = sc.read(os.path.join(data_dir, f\"adata_ood_{split}.h5ad\")) "
   ]
  },
  {
   "cell_type": "code",
   "execution_count": 4,
   "id": "a98e38fe-6cec-40a6-a129-e1061267a2b8",
   "metadata": {},
   "outputs": [
    {
     "data": {
      "text/plain": [
       "(20173, 300)"
      ]
     },
     "execution_count": 4,
     "metadata": {},
     "output_type": "execute_result"
    }
   ],
   "source": [
    "adata_ood_300.obsm[\"X_pca\"].shape"
   ]
  },
  {
   "cell_type": "code",
   "execution_count": 5,
   "id": "505f091b-b7ec-4a9b-bf91-efcfd73b53ec",
   "metadata": {},
   "outputs": [],
   "source": [
    "reconstruct_pca(query_adata=adata_ood_300, ref_adata=adata_train_300)"
   ]
  },
  {
   "cell_type": "code",
   "execution_count": 6,
   "id": "357c153b-8c76-4732-8b36-2a3b00680dad",
   "metadata": {},
   "outputs": [
    {
     "data": {
      "text/plain": [
       "Layers with keys: X_recon"
      ]
     },
     "execution_count": 6,
     "metadata": {},
     "output_type": "execute_result"
    }
   ],
   "source": [
    "adata_ood_300.layers"
   ]
  },
  {
   "cell_type": "code",
   "execution_count": 7,
   "id": "4d15deff-9ee0-4921-97ee-72a3c5ed09d6",
   "metadata": {},
   "outputs": [],
   "source": [
    "fraction_negative = {}\n",
    "for cond in adata_ood_300.obs[\"condition\"].unique():\n",
    "    pred_dist = adata_ood_300[adata_ood_300.obs[\"condition\"]==cond].layers[\"X_recon\"]\n",
    "    neg = (pred_dist < 0).sum().sum()\n",
    "    fraction_negative[cond] = [neg / ((pred_dist.shape[0]) * (pred_dist.shape[1]))]"
   ]
  },
  {
   "cell_type": "code",
   "execution_count": null,
   "id": "441c302c-72d4-463e-ad49-27157c81570a",
   "metadata": {},
   "outputs": [],
   "source": []
  },
  {
   "cell_type": "code",
   "execution_count": 8,
   "id": "31ed688c-f445-481f-9a4b-8f2cb2c9d128",
   "metadata": {},
   "outputs": [
    {
     "data": {
      "text/plain": [
       "{'A549_Quisinostat_(JNJ-26481585)_2HCl_10.0': [0.3651390678929541],\n",
       " 'A549_Alvespimycin_(17-DMAG)_HCl_10.0': [0.4301576890126365],\n",
       " 'A549_Flavopiridol_HCl_10000.0': [0.4301224387806097],\n",
       " 'A549_Belinostat_(PXD101)_1000.0': [0.41574475919934767],\n",
       " 'A549_Hesperadin_1000.0': [0.4141524279182723],\n",
       " 'A549_Dacinostat_(LAQ824)_1000.0': [0.3662983323153238],\n",
       " 'A549_TAK-901_1000.0': [0.4108682093061996],\n",
       " 'A549_Flavopiridol_HCl_10.0': [0.4209941661293706],\n",
       " 'A549_Hesperadin_100.0': [0.4180671568977416],\n",
       " 'A549_Dacinostat_(LAQ824)_10.0': [0.41253623188405797],\n",
       " 'A549_TAK-901_100.0': [0.4145108653726828],\n",
       " 'A549_Tanespimycin_(17-AAG)_100.0': [0.42683571509043167],\n",
       " 'A549_Flavopiridol_HCl_100.0': [0.40773310823579806],\n",
       " 'A549_Tanespimycin_(17-AAG)_10.0': [0.42933206294049236],\n",
       " 'A549_Givinostat_(ITF2357)_1000.0': [0.40033889305347325],\n",
       " 'A549_Belinostat_(PXD101)_10.0': [0.4267513302172443],\n",
       " 'A549_Belinostat_(PXD101)_100.0': [0.42552797675236453],\n",
       " 'A549_Flavopiridol_HCl_1000.0': [0.42469713419152494],\n",
       " 'A549_TAK-901_10.0': [0.4283156041027105],\n",
       " 'A549_Alvespimycin_(17-DMAG)_HCl_100.0': [0.4204804377472281],\n",
       " 'A549_Givinostat_(ITF2357)_10.0': [0.4258426342384363],\n",
       " 'A549_Dacinostat_(LAQ824)_100.0': [0.382779005234225],\n",
       " 'A549_Givinostat_(ITF2357)_100.0': [0.4180650791355591],\n",
       " 'A549_Tanespimycin_(17-AAG)_1000.0': [0.422240007815641],\n",
       " 'A549_Quisinostat_(JNJ-26481585)_2HCl_100.0': [0.36235161107970604],\n",
       " 'A549_Givinostat_(ITF2357)_10000.0': [0.3646548818613949],\n",
       " 'A549_Hesperadin_10.0': [0.41519063477111],\n",
       " 'MCF7_Tanespimycin_(17-AAG)_100.0': [0.40184025634241705],\n",
       " 'MCF7_TAK-901_10.0': [0.4070668248937421],\n",
       " 'MCF7_Belinostat_(PXD101)_10.0': [0.4242435600381627],\n",
       " 'MCF7_Alvespimycin_(17-DMAG)_HCl_1000.0': [0.3990613388957695],\n",
       " 'MCF7_Tanespimycin_(17-AAG)_10.0': [0.41140937467774047],\n",
       " 'MCF7_Dacinostat_(LAQ824)_10.0': [0.41860127205119907],\n",
       " 'MCF7_Givinostat_(ITF2357)_10.0': [0.4205121887953819],\n",
       " 'MCF7_Quisinostat_(JNJ-26481585)_2HCl_1000.0': [0.3968645306976142],\n",
       " 'MCF7_Hesperadin_10000.0': [0.3866754405602629],\n",
       " 'MCF7_Dacinostat_(LAQ824)_10000.0': [0.3982709794528023],\n",
       " 'MCF7_Givinostat_(ITF2357)_10000.0': [0.3955067920585162],\n",
       " 'MCF7_Quisinostat_(JNJ-26481585)_2HCl_10000.0': [0.3944634825444421],\n",
       " 'MCF7_Hesperadin_1000.0': [0.4148901739606387],\n",
       " 'MCF7_Hesperadin_10.0': [0.40811558506461054],\n",
       " 'MCF7_Dacinostat_(LAQ824)_100.0': [0.4026408670664668],\n",
       " 'MCF7_Belinostat_(PXD101)_100.0': [0.4219944291420181],\n",
       " 'MCF7_Givinostat_(ITF2357)_1000.0': [0.4096792913366994],\n",
       " 'MCF7_Dacinostat_(LAQ824)_1000.0': [0.39290550255598455],\n",
       " 'MCF7_TAK-901_100.0': [0.40808167344898977],\n",
       " 'MCF7_Givinostat_(ITF2357)_100.0': [0.418001793400652],\n",
       " 'MCF7_Alvespimycin_(17-DMAG)_HCl_10.0': [0.4056714659430061],\n",
       " 'MCF7_Belinostat_(PXD101)_10000.0': [0.38919358885957867],\n",
       " 'MCF7_Flavopiridol_HCl_10.0': [0.40485958571102043],\n",
       " 'MCF7_Belinostat_(PXD101)_1000.0': [0.414204586018679],\n",
       " 'MCF7_Alvespimycin_(17-DMAG)_HCl_100.0': [0.3981603668211977],\n",
       " 'MCF7_TAK-901_1000.0': [0.4061419703371455],\n",
       " 'MCF7_Quisinostat_(JNJ-26481585)_2HCl_10.0': [0.38464685785762087],\n",
       " 'MCF7_Tanespimycin_(17-AAG)_10000.0': [0.3927010853547585],\n",
       " 'MCF7_Flavopiridol_HCl_100.0': [0.38711455083269175],\n",
       " 'MCF7_Hesperadin_100.0': [0.41276126642561073],\n",
       " 'MCF7_Quisinostat_(JNJ-26481585)_2HCl_100.0': [0.38718707111700945],\n",
       " 'MCF7_Tanespimycin_(17-AAG)_1000.0': [0.3962439511951341],\n",
       " 'K562_Alvespimycin_(17-DMAG)_HCl_10.0': [0.37293269253223854],\n",
       " 'K562_Flavopiridol_HCl_100.0': [0.37949428063745905],\n",
       " 'K562_Hesperadin_10000.0': [0.35655856282385123],\n",
       " 'K562_Tanespimycin_(17-AAG)_100.0': [0.3725931152071023],\n",
       " 'K562_TAK-901_100.0': [0.357841547062726],\n",
       " 'K562_Dacinostat_(LAQ824)_100.0': [0.34225887056471765],\n",
       " 'K562_Tanespimycin_(17-AAG)_1000.0': [0.3676521739130435],\n",
       " 'K562_Givinostat_(ITF2357)_100.0': [0.3583734448565191],\n",
       " 'K562_TAK-901_10.0': [0.3717532096895715],\n",
       " 'K562_Flavopiridol_HCl_10.0': [0.38019000703729766],\n",
       " 'K562_Hesperadin_10.0': [0.35726102466008375],\n",
       " 'K562_Quisinostat_(JNJ-26481585)_2HCl_10.0': [0.3386095413831546],\n",
       " 'K562_Belinostat_(PXD101)_1000.0': [0.35357882856324646],\n",
       " 'K562_TAK-901_1000.0': [0.3586784589356698],\n",
       " 'K562_Tanespimycin_(17-AAG)_10.0': [0.3714083325309822],\n",
       " 'K562_Givinostat_(ITF2357)_1000.0': [0.35194167622071315],\n",
       " 'K562_Belinostat_(PXD101)_10.0': [0.37146811209779723],\n",
       " 'K562_Alvespimycin_(17-DMAG)_HCl_1000.0': [0.3658265207019132],\n",
       " 'K562_Alvespimycin_(17-DMAG)_HCl_100.0': [0.36164579000822167],\n",
       " 'K562_Givinostat_(ITF2357)_10.0': [0.3671489497969462],\n",
       " 'K562_Dacinostat_(LAQ824)_10.0': [0.34548995343598043],\n",
       " 'K562_Hesperadin_100.0': [0.35145802894730976],\n",
       " 'K562_Hesperadin_1000.0': [0.3545520057650733],\n",
       " 'K562_Belinostat_(PXD101)_100.0': [0.3637245416700517],\n",
       " 'A549_Vehicle_0.0': [0.4304357821089455],\n",
       " 'MCF7_Vehicle_0.0': [0.41693253373313344],\n",
       " 'K562_Vehicle_0.0': [0.3711334332833583]}"
      ]
     },
     "execution_count": 8,
     "metadata": {},
     "output_type": "execute_result"
    }
   ],
   "source": [
    "fraction_negative"
   ]
  },
  {
   "cell_type": "code",
   "execution_count": 9,
   "id": "b0b217ef-c8c8-48cd-9891-c7e62a5ac099",
   "metadata": {},
   "outputs": [],
   "source": [
    "pd.DataFrame.from_dict(fraction_negative).to_csv(os.path.join(out_dir, \"negativity_pca_300.csv\"))"
   ]
  },
  {
   "cell_type": "code",
   "execution_count": 10,
   "id": "6188b84b-3a8d-40dc-9887-37042e5c5b6d",
   "metadata": {},
   "outputs": [],
   "source": [
    "split = 10\n",
    "adata_train_100 = sc.read(os.path.join(data_dir, f\"adata_train_{split}.h5ad\"))\n",
    "adata_ood_100 = sc.read(os.path.join(data_dir, f\"adata_ood_{split}.h5ad\")) "
   ]
  },
  {
   "cell_type": "code",
   "execution_count": 11,
   "id": "f8147b23-2120-4b3a-9e84-c25f01706867",
   "metadata": {},
   "outputs": [],
   "source": [
    "reconstruct_pca(query_adata=adata_ood_100, ref_adata=adata_train_100)"
   ]
  },
  {
   "cell_type": "code",
   "execution_count": 12,
   "id": "38ea2430-41c7-4120-898c-4bbaa0c18ba0",
   "metadata": {},
   "outputs": [],
   "source": [
    "fraction_negative = {}\n",
    "for cond in adata_ood_100.obs[\"condition\"].unique():\n",
    "    pred_dist = adata_ood_100[adata_ood_100.obs[\"condition\"]==cond].layers[\"X_recon\"]\n",
    "    neg = (pred_dist < 0).sum().sum()\n",
    "    fraction_negative[cond] = [neg / ((pred_dist.shape[0]) * (pred_dist.shape[1]))]"
   ]
  },
  {
   "cell_type": "code",
   "execution_count": 13,
   "id": "6c004223-711c-426b-b622-d77bd92fc85c",
   "metadata": {},
   "outputs": [],
   "source": [
    "pd.DataFrame.from_dict(fraction_negative).to_csv(os.path.join(out_dir, \"negativity_pca_100.csv\"))"
   ]
  },
  {
   "cell_type": "code",
   "execution_count": 14,
   "id": "99e91a57-1382-46eb-8930-1a377a32eb61",
   "metadata": {},
   "outputs": [],
   "source": [
    "split = 15\n",
    "adata_train_50 = sc.read(os.path.join(data_dir, f\"adata_train_{split}.h5ad\"))\n",
    "adata_ood_50 = sc.read(os.path.join(data_dir, f\"adata_ood_{split}.h5ad\")) "
   ]
  },
  {
   "cell_type": "code",
   "execution_count": 15,
   "id": "6dba9123-3ec5-4e97-9a78-4230f57ff1b2",
   "metadata": {},
   "outputs": [
    {
     "data": {
      "text/plain": [
       "(20173, 50)"
      ]
     },
     "execution_count": 15,
     "metadata": {},
     "output_type": "execute_result"
    }
   ],
   "source": [
    "adata_ood_50.obsm[\"X_pca\"].shape"
   ]
  },
  {
   "cell_type": "code",
   "execution_count": 16,
   "id": "bd2349a0-f11e-4d9c-a6c3-348c0bb6145b",
   "metadata": {},
   "outputs": [],
   "source": [
    "reconstruct_pca(query_adata=adata_ood_50, ref_adata=adata_train_50)"
   ]
  },
  {
   "cell_type": "code",
   "execution_count": 17,
   "id": "15040273-3d5e-4057-b18d-9de5b0a1923e",
   "metadata": {},
   "outputs": [],
   "source": [
    "fraction_negative = {}\n",
    "for cond in adata_ood_50.obs[\"condition\"].unique():\n",
    "    pred_dist = adata_ood_50[adata_ood_50.obs[\"condition\"]==cond].layers[\"X_recon\"]\n",
    "    neg = (pred_dist < 0).sum().sum()\n",
    "    fraction_negative[cond] = [neg / ((pred_dist.shape[0]) * (pred_dist.shape[1]))]"
   ]
  },
  {
   "cell_type": "code",
   "execution_count": 18,
   "id": "1129bc94-b799-4a25-8e8b-9b4d5f9e96d3",
   "metadata": {},
   "outputs": [],
   "source": [
    "pd.DataFrame.from_dict(fraction_negative).to_csv(os.path.join(out_dir, \"negativity_pca_50.csv\"))"
   ]
  }
 ],
 "metadata": {
  "kernelspec": {
   "display_name": "cfp",
   "language": "python",
   "name": "cfp"
  },
  "language_info": {
   "codemirror_mode": {
    "name": "ipython",
    "version": 3
   },
   "file_extension": ".py",
   "mimetype": "text/x-python",
   "name": "python",
   "nbconvert_exporter": "python",
   "pygments_lexer": "ipython3",
   "version": "3.11.9"
  }
 },
 "nbformat": 4,
 "nbformat_minor": 5
}
