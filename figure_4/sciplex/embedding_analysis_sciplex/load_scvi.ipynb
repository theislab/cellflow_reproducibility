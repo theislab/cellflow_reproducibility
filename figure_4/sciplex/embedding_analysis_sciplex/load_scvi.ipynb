{
 "cells": [
  {
   "cell_type": "code",
   "execution_count": 1,
   "id": "fca79365-1339-45ad-b32d-3486adf70a4f",
   "metadata": {},
   "outputs": [
    {
     "name": "stderr",
     "output_type": "stream",
     "text": [
      "/home/icb/dominik.klein/mambaforge/envs/cfp/lib/python3.11/site-packages/optuna/study/_optimize.py:29: TqdmWarning: IProgress not found. Please update jupyter and ipywidgets. See https://ipywidgets.readthedocs.io/en/stable/user_install.html\n",
      "  from optuna import progress_bar as pbar_module\n"
     ]
    }
   ],
   "source": [
    "import scvi\n",
    "import scanpy as sc\n",
    "import os\n",
    "import pandas as pd\n",
    "import numpy as np\n",
    "from cfp.external import CFJaxSCVI\n",
    "from cfp.metrics import compute_metrics"
   ]
  },
  {
   "cell_type": "code",
   "execution_count": 2,
   "id": "1816758c-70c8-486b-b27e-7c81a53d698c",
   "metadata": {},
   "outputs": [],
   "source": [
    "split = 5\n",
    "output_dir = \"/lustre/groups/ml01/workspace/ot_perturbation/data/sciplex\"\n",
    "adata_train = sc.read(os.path.join(output_dir, f\"adata_train_{split}.h5ad\"))\n",
    "adata_test = sc.read(os.path.join(output_dir, f\"adata_test_{split}.h5ad\"))\n",
    "adata_ood = sc.read(os.path.join(output_dir, f\"adata_ood_{split}.h5ad\")) \n",
    "\n",
    "\n"
   ]
  },
  {
   "cell_type": "code",
   "execution_count": 3,
   "id": "5d75597c-b529-4e60-9858-1b75f199e962",
   "metadata": {},
   "outputs": [
    {
     "name": "stdout",
     "output_type": "stream",
     "text": [
      "\u001b[34mINFO    \u001b[0m File \u001b[35m/lustre/groups/ml01/workspace/ot_perturbation/models/vaes/sciplex/10_2048_5/\u001b[0m\u001b[95mmodel.pt\u001b[0m already         \n",
      "         downloaded                                                                                                \n"
     ]
    },
    {
     "name": "stderr",
     "output_type": "stream",
     "text": [
      "/home/icb/dominik.klein/mambaforge/envs/cfp/lib/python3.11/site-packages/lightning/fabric/plugins/environments/slurm.py:191: The `srun` command is available on your system but is not used. HINT: If your intention is to run Lightning on SLURM, prepend your python command with `srun` like so: srun python /home/icb/dominik.klein/mambaforge/envs/cfp/lib/pyth ...\n",
      "/home/icb/dominik.klein/mambaforge/envs/cfp/lib/python3.11/site-packages/scvi/model/base/_utils.py:66: FutureWarning: You are using `torch.load` with `weights_only=False` (the current default value), which uses the default pickle module implicitly. It is possible to construct malicious pickle data which will execute arbitrary code during unpickling (See https://github.com/pytorch/pytorch/blob/main/SECURITY.md#untrusted-models for more details). In a future release, the default value for `weights_only` will be flipped to `True`. This limits the functions that could be executed during unpickling. Arbitrary objects will no longer be allowed to be loaded via this mode unless they are explicitly allowlisted by the user via `torch.serialization.add_safe_globals`. We recommend you start setting `weights_only=True` for any use case where you don't have full control of the loaded file. Please open an issue on GitHub for any issues related to this experimental feature.\n",
      "  model = torch.load(model_path, map_location=map_location)\n",
      "/home/icb/dominik.klein/mambaforge/envs/cfp/lib/python3.11/site-packages/scvi/data/fields/_base_field.py:64: UserWarning: adata.X does not contain unnormalized count data. Are you sure this is what you want?\n",
      "  self.validate_field(adata)\n"
     ]
    },
    {
     "name": "stdout",
     "output_type": "stream",
     "text": [
      "\u001b[34mINFO    \u001b[0m Jax module moved to cu\u001b[1;92mda:0\u001b[0m.Note: Pytorch lightning will show GPU is not being used for the Trainer.       \n"
     ]
    },
    {
     "name": "stderr",
     "output_type": "stream",
     "text": [
      "/home/icb/dominik.klein/mambaforge/envs/cfp/lib/python3.11/site-packages/lightning/fabric/plugins/environments/slurm.py:191: The `srun` command is available on your system but is not used. HINT: If your intention is to run Lightning on SLURM, prepend your python command with `srun` like so: srun python /home/icb/dominik.klein/mambaforge/envs/cfp/lib/pyth ...\n",
      "/home/icb/dominik.klein/mambaforge/envs/cfp/lib/python3.11/site-packages/lightning/fabric/plugins/environments/slurm.py:191: The `srun` command is available on your system but is not used. HINT: If your intention is to run Lightning on SLURM, prepend your python command with `srun` like so: srun python /home/icb/dominik.klein/mambaforge/envs/cfp/lib/pyth ...\n",
      "GPU available: True (cuda), used: False\n",
      "TPU available: False, using: 0 TPU cores\n",
      "IPU available: False, using: 0 IPUs\n",
      "HPU available: False, using: 0 HPUs\n",
      "/home/icb/dominik.klein/mambaforge/envs/cfp/lib/python3.11/site-packages/lightning/pytorch/trainer/setup.py:187: GPU available but not used. You can set it by doing `Trainer(accelerator='gpu')`.\n",
      "/home/icb/dominik.klein/mambaforge/envs/cfp/lib/python3.11/site-packages/lightning/fabric/plugins/environments/slurm.py:191: The `srun` command is available on your system but is not used. HINT: If your intention is to run Lightning on SLURM, prepend your python command with `srun` like so: srun python /home/icb/dominik.klein/mambaforge/envs/cfp/lib/pyth ...\n",
      "/home/icb/dominik.klein/mambaforge/envs/cfp/lib/python3.11/site-packages/lightning/pytorch/trainer/connectors/data_connector.py:441: The 'train_dataloader' does not have many workers which may be a bottleneck. Consider increasing the value of the `num_workers` argument` to `num_workers=5` in the `DataLoader` to improve performance.\n"
     ]
    },
    {
     "name": "stdout",
     "output_type": "stream",
     "text": [
      "Epoch 1/18:   0%|          | 0/18 [00:00<?, ?it/s]"
     ]
    },
    {
     "name": "stderr",
     "output_type": "stream",
     "text": [
      "/home/icb/dominik.klein/mambaforge/envs/cfp/lib/python3.11/site-packages/lightning/pytorch/trainer/connectors/data_connector.py:385: You have overridden `transfer_batch_to_device` in `LightningModule` but have passed in a `LightningDataModule`. It will use the implementation from `LightningModule` instance.\n"
     ]
    },
    {
     "name": "stdout",
     "output_type": "stream",
     "text": [
      "Epoch 1/18:   6%|▌         | 1/18 [00:02<00:48,  2.85s/it, v_num=1, train_loss_step=405, train_loss_epoch=405]"
     ]
    },
    {
     "name": "stderr",
     "output_type": "stream",
     "text": [
      "`Trainer.fit` stopped: `max_steps=1` reached.\n"
     ]
    },
    {
     "name": "stdout",
     "output_type": "stream",
     "text": [
      "Epoch 1/18:   6%|▌         | 1/18 [00:02<00:49,  2.90s/it, v_num=1, train_loss_step=405, train_loss_epoch=405]\n"
     ]
    }
   ],
   "source": [
    "vae = CFJaxSCVI.load(\"/lustre/groups/ml01/workspace/ot_perturbation/models/vaes/sciplex/10_2048_5\", adata=adata_train)"
   ]
  },
  {
   "cell_type": "code",
   "execution_count": 4,
   "id": "093c9f15-d7f3-45c8-9290-1544958327b2",
   "metadata": {},
   "outputs": [
    {
     "name": "stdout",
     "output_type": "stream",
     "text": [
      "\u001b[34mINFO    \u001b[0m Input AnnData not setup with scvi-tools. attempting to transfer AnnData setup                             \n"
     ]
    },
    {
     "name": "stderr",
     "output_type": "stream",
     "text": [
      "/home/icb/dominik.klein/mambaforge/envs/cfp/lib/python3.11/site-packages/scvi/data/fields/_base_field.py:64: UserWarning: adata.X does not contain unnormalized count data. Are you sure this is what you want?\n",
      "  self.validate_field(adata)\n"
     ]
    },
    {
     "name": "stdout",
     "output_type": "stream",
     "text": [
      "\u001b[34mINFO    \u001b[0m Input AnnData not setup with scvi-tools. attempting to transfer AnnData setup                             \n"
     ]
    },
    {
     "name": "stderr",
     "output_type": "stream",
     "text": [
      "/home/icb/dominik.klein/mambaforge/envs/cfp/lib/python3.11/site-packages/scvi/data/fields/_base_field.py:64: UserWarning: adata.X does not contain unnormalized count data. Are you sure this is what you want?\n",
      "  self.validate_field(adata)\n"
     ]
    }
   ],
   "source": [
    "adata_test.obsm[\"X_scVI\"] = vae.get_latent_representation(adata_test)\n",
    "adata_ood.obsm[\"X_scVI\"] = vae.get_latent_representation(adata_ood)\n",
    "\n"
   ]
  },
  {
   "cell_type": "code",
   "execution_count": 5,
   "id": "c5bda683-501e-4a41-a47b-108ff236c380",
   "metadata": {},
   "outputs": [],
   "source": [
    "adata_test.obsm[\"reconstruction\"] = vae.get_reconstructed_expression(adata_test)\n",
    "adata_ood.obsm[\"reconstruction\"] = vae.get_reconstructed_expression(adata_ood)"
   ]
  },
  {
   "cell_type": "code",
   "execution_count": 9,
   "id": "b8c8b5c7-306f-45bc-a56c-562ff4245a80",
   "metadata": {},
   "outputs": [],
   "source": [
    "metrics_ood = {}\n",
    "for cond in adata_ood.obs[\"condition\"].unique():\n",
    "    if \"Vehicle\" in cond:\n",
    "        continue\n",
    "    true_dist = adata_ood[adata_ood.obs[\"condition\"]==cond].X.toarray()\n",
    "    pred_dist = adata_ood[adata_ood.obs[\"condition\"]==cond].obsm[\"reconstruction\"]\n",
    "    metrics_ood[cond] = compute_metrics(true_dist, pred_dist)"
   ]
  },
  {
   "cell_type": "code",
   "execution_count": 7,
   "id": "eca9192e-a42f-45c1-91a0-a31077231e98",
   "metadata": {},
   "outputs": [],
   "source": [
    "out_dir = \"/lustre/groups/ml01/workspace/ot_perturbation/data/sciplex/reconstruction\""
   ]
  },
  {
   "cell_type": "code",
   "execution_count": 11,
   "id": "ef748223-b7b6-4df5-a81a-53c309d3c020",
   "metadata": {},
   "outputs": [],
   "source": [
    "pd.DataFrame.from_dict(metrics_ood).to_csv(os.path.join(out_dir, \"reconstruction_vae.csv\"))"
   ]
  },
  {
   "cell_type": "code",
   "execution_count": 6,
   "id": "871d1393-799f-470f-8072-27821f8eef8e",
   "metadata": {},
   "outputs": [],
   "source": [
    "metrics_test = {}\n",
    "for cond in adata_test.obs[\"condition\"].unique():\n",
    "    if \"Vehicle\" in cond:\n",
    "        continue\n",
    "    true_dist = adata_test[adata_test.obs[\"condition\"]==cond].X.toarray()\n",
    "    pred_dist = adata_test[adata_test.obs[\"condition\"]==cond].obsm[\"reconstruction\"]\n",
    "    metrics_test[cond] = compute_metrics(true_dist, pred_dist)"
   ]
  },
  {
   "cell_type": "code",
   "execution_count": 9,
   "id": "edeacfbb-1a3b-4009-bd35-737c2c075e7e",
   "metadata": {},
   "outputs": [],
   "source": [
    "pd.DataFrame.from_dict(metrics_test).to_csv(os.path.join(out_dir, \"reconstruction_vae_test.csv\"))"
   ]
  },
  {
   "cell_type": "code",
   "execution_count": 6,
   "id": "93c8864b-9000-4c37-aa9a-55c26f6630b2",
   "metadata": {},
   "outputs": [],
   "source": [
    "fraction_negative = {}\n",
    "for cond in adata_ood.obs[\"condition\"].unique():\n",
    "    pred_dist = adata_ood[adata_ood.obs[\"condition\"]==cond].obsm[\"reconstruction\"]\n",
    "    neg = (pred_dist < 0).sum().sum()\n",
    "    fraction_negative[cond] = [neg / ((pred_dist.shape[0]) * (pred_dist.shape[1]))]"
   ]
  },
  {
   "cell_type": "code",
   "execution_count": 8,
   "id": "eb5d64c5-e206-4b86-b258-c7104cb7f679",
   "metadata": {},
   "outputs": [],
   "source": [
    "pd.DataFrame.from_dict(fraction_negative).to_csv(os.path.join(out_dir, \"negativity_vae.csv\"))"
   ]
  },
  {
   "cell_type": "code",
   "execution_count": null,
   "id": "f08bb5f5-8343-474f-9732-90f45473e095",
   "metadata": {},
   "outputs": [],
   "source": []
  }
 ],
 "metadata": {
  "kernelspec": {
   "display_name": "cfp",
   "language": "python",
   "name": "cfp"
  },
  "language_info": {
   "codemirror_mode": {
    "name": "ipython",
    "version": 3
   },
   "file_extension": ".py",
   "mimetype": "text/x-python",
   "name": "python",
   "nbconvert_exporter": "python",
   "pygments_lexer": "ipython3",
   "version": "3.11.9"
  }
 },
 "nbformat": 4,
 "nbformat_minor": 5
}
