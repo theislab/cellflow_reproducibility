{
 "cells": [
  {
   "cell_type": "code",
   "execution_count": 1,
   "id": "86f34cf7-0357-4786-91cb-790576ab13ba",
   "metadata": {},
   "outputs": [],
   "source": [
    "import pandas as pd\n",
    "import os\n",
    "import seaborn as sns"
   ]
  },
  {
   "cell_type": "code",
   "execution_count": 2,
   "id": "afeabafe-07dc-4983-9837-b17ac7ae1b7b",
   "metadata": {},
   "outputs": [],
   "source": [
    "data_dir = out_dir = \"/lustre/groups/ml01/workspace/ot_perturbation/data/sciplex/reconstruction\""
   ]
  },
  {
   "cell_type": "code",
   "execution_count": 3,
   "id": "595733d8-e032-48ca-9e4f-fbf128f589d9",
   "metadata": {},
   "outputs": [],
   "source": [
    "df_50 = pd.read_csv(os.path.join(data_dir, \"negativity_pca_50.csv\")).T\n",
    "df_100 = pd.read_csv(os.path.join(data_dir, \"negativity_pca_100.csv\")).T\n",
    "df_300 = pd.read_csv(os.path.join(data_dir, \"negativity_pca_300.csv\")).T\n",
    "df_vae = pd.read_csv(os.path.join(data_dir, \"negativity_vae.csv\")).T"
   ]
  },
  {
   "cell_type": "code",
   "execution_count": 4,
   "id": "b4b42fcc-dced-445f-ab85-09b6fecb5263",
   "metadata": {},
   "outputs": [],
   "source": [
    "df_50.columns=df_50.iloc[0,:]\n",
    "df_50 = df_50.iloc[1:, :]\n",
    "df_100.columns=df_100.iloc[0,:]\n",
    "df_100 = df_100.iloc[1:, :]\n",
    "df_300.columns=df_300.iloc[0,:]\n",
    "df_300 = df_300.iloc[1:, :]\n",
    "df_vae.columns=df_vae.iloc[0,:]\n",
    "df_vae = df_vae.iloc[1:, :]"
   ]
  },
  {
   "cell_type": "code",
   "execution_count": 5,
   "id": "a0e5711d-6f5b-4f86-bd31-709f481f6f37",
   "metadata": {},
   "outputs": [],
   "source": [
    "df_50[\"dose\"] = df_50.apply(lambda x: x.name.split(\"_\")[-1], axis=1)\n",
    "df_100[\"dose\"] = df_100.apply(lambda x: x.name.split(\"_\")[-1], axis=1)\n",
    "df_300[\"dose\"] = df_300.apply(lambda x: x.name.split(\"_\")[-1], axis=1)\n",
    "df_vae[\"dose\"] = df_vae.apply(lambda x: x.name.split(\"_\")[-1], axis=1)"
   ]
  },
  {
   "cell_type": "code",
   "execution_count": 6,
   "id": "81ed8bb0-a631-4d5e-b723-d3c7abc7fea3",
   "metadata": {},
   "outputs": [],
   "source": [
    "df_50[\"embedding\"] = \"PC_50\"\n",
    "df_100[\"embedding\"] = \"PC_100\"\n",
    "df_300[\"embedding\"] = \"PC_300\"\n",
    "df_vae[\"embedding\"] = \"VAE\""
   ]
  },
  {
   "cell_type": "code",
   "execution_count": 7,
   "id": "d858e053-1953-4fbe-811b-99fcf15f670e",
   "metadata": {},
   "outputs": [],
   "source": [
    "df = pd.concat((df_50, df_100, df_300, df_vae))"
   ]
  },
  {
   "cell_type": "code",
   "execution_count": 8,
   "id": "61911d15-af3c-4488-9fab-45589b44ab8e",
   "metadata": {},
   "outputs": [
    {
     "data": {
      "text/html": [
       "<div>\n",
       "<style scoped>\n",
       "    .dataframe tbody tr th:only-of-type {\n",
       "        vertical-align: middle;\n",
       "    }\n",
       "\n",
       "    .dataframe tbody tr th {\n",
       "        vertical-align: top;\n",
       "    }\n",
       "\n",
       "    .dataframe thead th {\n",
       "        text-align: right;\n",
       "    }\n",
       "</style>\n",
       "<table border=\"1\" class=\"dataframe\">\n",
       "  <thead>\n",
       "    <tr style=\"text-align: right;\">\n",
       "      <th>Unnamed: 0</th>\n",
       "      <th>0.0</th>\n",
       "      <th>dose</th>\n",
       "      <th>embedding</th>\n",
       "    </tr>\n",
       "  </thead>\n",
       "  <tbody>\n",
       "    <tr>\n",
       "      <th>A549_Quisinostat_(JNJ-26481585)_2HCl_10.0</th>\n",
       "      <td>0.261591</td>\n",
       "      <td>10.0</td>\n",
       "      <td>PC_50</td>\n",
       "    </tr>\n",
       "    <tr>\n",
       "      <th>A549_Alvespimycin_(17-DMAG)_HCl_10.0</th>\n",
       "      <td>0.361498</td>\n",
       "      <td>10.0</td>\n",
       "      <td>PC_50</td>\n",
       "    </tr>\n",
       "    <tr>\n",
       "      <th>A549_Flavopiridol_HCl_10000.0</th>\n",
       "      <td>0.356601</td>\n",
       "      <td>10000.0</td>\n",
       "      <td>PC_50</td>\n",
       "    </tr>\n",
       "    <tr>\n",
       "      <th>A549_Belinostat_(PXD101)_1000.0</th>\n",
       "      <td>0.339906</td>\n",
       "      <td>1000.0</td>\n",
       "      <td>PC_50</td>\n",
       "    </tr>\n",
       "    <tr>\n",
       "      <th>A549_Hesperadin_1000.0</th>\n",
       "      <td>0.335246</td>\n",
       "      <td>1000.0</td>\n",
       "      <td>PC_50</td>\n",
       "    </tr>\n",
       "    <tr>\n",
       "      <th>...</th>\n",
       "      <td>...</td>\n",
       "      <td>...</td>\n",
       "      <td>...</td>\n",
       "    </tr>\n",
       "    <tr>\n",
       "      <th>K562_Hesperadin_1000.0</th>\n",
       "      <td>0.332969</td>\n",
       "      <td>1000.0</td>\n",
       "      <td>VAE</td>\n",
       "    </tr>\n",
       "    <tr>\n",
       "      <th>K562_Belinostat_(PXD101)_100.0</th>\n",
       "      <td>0.333410</td>\n",
       "      <td>100.0</td>\n",
       "      <td>VAE</td>\n",
       "    </tr>\n",
       "    <tr>\n",
       "      <th>A549_Vehicle_0.0</th>\n",
       "      <td>0.408293</td>\n",
       "      <td>0.0</td>\n",
       "      <td>VAE</td>\n",
       "    </tr>\n",
       "    <tr>\n",
       "      <th>MCF7_Vehicle_0.0</th>\n",
       "      <td>0.416321</td>\n",
       "      <td>0.0</td>\n",
       "      <td>VAE</td>\n",
       "    </tr>\n",
       "    <tr>\n",
       "      <th>K562_Vehicle_0.0</th>\n",
       "      <td>0.334348</td>\n",
       "      <td>0.0</td>\n",
       "      <td>VAE</td>\n",
       "    </tr>\n",
       "  </tbody>\n",
       "</table>\n",
       "<p>344 rows × 3 columns</p>\n",
       "</div>"
      ],
      "text/plain": [
       "Unnamed: 0                                      0.0     dose embedding\n",
       "A549_Quisinostat_(JNJ-26481585)_2HCl_10.0  0.261591     10.0     PC_50\n",
       "A549_Alvespimycin_(17-DMAG)_HCl_10.0       0.361498     10.0     PC_50\n",
       "A549_Flavopiridol_HCl_10000.0              0.356601  10000.0     PC_50\n",
       "A549_Belinostat_(PXD101)_1000.0            0.339906   1000.0     PC_50\n",
       "A549_Hesperadin_1000.0                     0.335246   1000.0     PC_50\n",
       "...                                             ...      ...       ...\n",
       "K562_Hesperadin_1000.0                     0.332969   1000.0       VAE\n",
       "K562_Belinostat_(PXD101)_100.0             0.333410    100.0       VAE\n",
       "A549_Vehicle_0.0                           0.408293      0.0       VAE\n",
       "MCF7_Vehicle_0.0                           0.416321      0.0       VAE\n",
       "K562_Vehicle_0.0                           0.334348      0.0       VAE\n",
       "\n",
       "[344 rows x 3 columns]"
      ]
     },
     "execution_count": 8,
     "metadata": {},
     "output_type": "execute_result"
    }
   ],
   "source": [
    "df"
   ]
  },
  {
   "cell_type": "code",
   "execution_count": 9,
   "id": "2221103b-c340-4f78-83fd-0a3c84c10921",
   "metadata": {},
   "outputs": [
    {
     "data": {
      "text/plain": [
       "<Axes: xlabel='dose', ylabel='0.0'>"
      ]
     },
     "execution_count": 9,
     "metadata": {},
     "output_type": "execute_result"
    },
    {
     "data": {
      "image/png": "[encoded data removed]",
      "text/plain": [
       "<Figure size 640x480 with 1 Axes>"
      ]
     },
     "metadata": {},
     "output_type": "display_data"
    }
   ],
   "source": [
    "sns.boxplot(df, x=\"dose\", y=0.0, hue=\"embedding\")"
   ]
  },
  {
   "cell_type": "code",
   "execution_count": 10,
   "id": "5bb56447-c95d-4ebd-ab3e-01d8632a69f3",
   "metadata": {},
   "outputs": [],
   "source": [
    "df[\"fraction_negative\"] = df[0.0]"
   ]
  },
  {
   "cell_type": "code",
   "execution_count": 11,
   "id": "5c84d396-bb01-4f1a-a83d-526398e8f2a5",
   "metadata": {},
   "outputs": [],
   "source": [
    "df.to_csv(os.path.join(data_dir, \"negativity_allocated.csv\"))"
   ]
  },
  {
   "cell_type": "code",
   "execution_count": null,
   "id": "1e48dd51-ebc7-4a67-aa03-839ff0a1192d",
   "metadata": {},
   "outputs": [],
   "source": []
  }
 ],
 "metadata": {
  "kernelspec": {
   "display_name": "cfp",
   "language": "python",
   "name": "cfp"
  },
  "language_info": {
   "codemirror_mode": {
    "name": "ipython",
    "version": 3
   },
   "file_extension": ".py",
   "mimetype": "text/x-python",
   "name": "python",
   "nbconvert_exporter": "python",
   "pygments_lexer": "ipython3",
   "version": "3.11.9"
  }
 },
 "nbformat": 4,
 "nbformat_minor": 5
}
