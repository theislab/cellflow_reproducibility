{
 "cells": [
  {
   "cell_type": "code",
   "execution_count": 1,
   "id": "e8d391c3-f404-42e6-a5ef-fd999599463a",
   "metadata": {},
   "outputs": [
    {
     "name": "stderr",
     "output_type": "stream",
     "text": [
      "/home/icb/dominik.klein/mambaforge/envs/cfp/lib/python3.11/site-packages/optuna/study/_optimize.py:29: TqdmWarning: IProgress not found. Please update jupyter and ipywidgets. See https://ipywidgets.readthedocs.io/en/stable/user_install.html\n",
      "  from optuna import progress_bar as pbar_module\n"
     ]
    }
   ],
   "source": [
    "import scanpy as sc\n",
    "import os\n",
    "from cfp.preprocessing import reconstruct_pca\n",
    "from cfp.metrics import compute_metrics\n",
    "import pandas as pd"
   ]
  },
  {
   "cell_type": "code",
   "execution_count": 2,
   "id": "68be4f2d-b15c-414b-8a50-5977be648346",
   "metadata": {},
   "outputs": [],
   "source": [
    "data_dir = \"/lustre/groups/ml01/workspace/ot_perturbation/data/sciplex\"\n",
    "out_dir = \"/lustre/groups/ml01/workspace/ot_perturbation/data/sciplex/reconstruction\""
   ]
  },
  {
   "cell_type": "code",
   "execution_count": 3,
   "id": "8e4b9ddb-3b3a-4826-b419-d5b0530d7074",
   "metadata": {},
   "outputs": [],
   "source": [
    "split = 5\n",
    "adata_train_300 = sc.read(os.path.join(data_dir, f\"adata_train_{split}.h5ad\"))\n",
    "adata_ood_300 = sc.read(os.path.join(data_dir, f\"adata_ood_{split}.h5ad\")) "
   ]
  },
  {
   "cell_type": "code",
   "execution_count": 4,
   "id": "a98e38fe-6cec-40a6-a129-e1061267a2b8",
   "metadata": {},
   "outputs": [
    {
     "data": {
      "text/plain": [
       "(20173, 300)"
      ]
     },
     "execution_count": 4,
     "metadata": {},
     "output_type": "execute_result"
    }
   ],
   "source": [
    "adata_ood_300.obsm[\"X_pca\"].shape"
   ]
  },
  {
   "cell_type": "code",
   "execution_count": 5,
   "id": "505f091b-b7ec-4a9b-bf91-efcfd73b53ec",
   "metadata": {},
   "outputs": [],
   "source": [
    "reconstruct_pca(query_adata=adata_ood_300, ref_adata=adata_train_300)"
   ]
  },
  {
   "cell_type": "code",
   "execution_count": 6,
   "id": "357c153b-8c76-4732-8b36-2a3b00680dad",
   "metadata": {},
   "outputs": [
    {
     "data": {
      "text/plain": [
       "Layers with keys: X_recon"
      ]
     },
     "execution_count": 6,
     "metadata": {},
     "output_type": "execute_result"
    }
   ],
   "source": [
    "adata_ood_300.layers"
   ]
  },
  {
   "cell_type": "code",
   "execution_count": 7,
   "id": "4d15deff-9ee0-4921-97ee-72a3c5ed09d6",
   "metadata": {},
   "outputs": [],
   "source": [
    "metrics_pca_300 = {}\n",
    "for cond in adata_ood_300.obs[\"condition\"].unique():\n",
    "    if \"Vehicle\" in cond:\n",
    "        continue\n",
    "    true_dist = adata_ood_300[adata_ood_300.obs[\"condition\"]==cond].X.toarray()\n",
    "    pred_dist = adata_ood_300[adata_ood_300.obs[\"condition\"]==cond].layers[\"X_recon\"]\n",
    "    metrics_pca_300[cond] = compute_metrics(true_dist, pred_dist)"
   ]
  },
  {
   "cell_type": "code",
   "execution_count": 8,
   "id": "b0b217ef-c8c8-48cd-9891-c7e62a5ac099",
   "metadata": {},
   "outputs": [],
   "source": [
    "pd.DataFrame.from_dict(metrics_pca_300).to_csv(os.path.join(out_dir, \"reconstruction_pca_300.csv\"))"
   ]
  },
  {
   "cell_type": "code",
   "execution_count": 9,
   "id": "6188b84b-3a8d-40dc-9887-37042e5c5b6d",
   "metadata": {},
   "outputs": [],
   "source": [
    "split = 10\n",
    "adata_train_100 = sc.read(os.path.join(data_dir, f\"adata_train_{split}.h5ad\"))\n",
    "adata_ood_100 = sc.read(os.path.join(data_dir, f\"adata_ood_{split}.h5ad\")) "
   ]
  },
  {
   "cell_type": "code",
   "execution_count": 10,
   "id": "3a5c0548-9224-4a91-8b3e-140f47f82f3f",
   "metadata": {},
   "outputs": [
    {
     "data": {
      "text/plain": [
       "(20173, 100)"
      ]
     },
     "execution_count": 10,
     "metadata": {},
     "output_type": "execute_result"
    }
   ],
   "source": [
    "adata_ood_100.obsm[\"X_pca\"].shape"
   ]
  },
  {
   "cell_type": "code",
   "execution_count": 11,
   "id": "f8147b23-2120-4b3a-9e84-c25f01706867",
   "metadata": {},
   "outputs": [],
   "source": [
    "reconstruct_pca(query_adata=adata_ood_100, ref_adata=adata_train_100)"
   ]
  },
  {
   "cell_type": "code",
   "execution_count": 12,
   "id": "38ea2430-41c7-4120-898c-4bbaa0c18ba0",
   "metadata": {},
   "outputs": [],
   "source": [
    "metrics_pca_100 = {}\n",
    "for cond in adata_ood_100.obs[\"condition\"].unique():\n",
    "    if \"Vehicle\" in cond:\n",
    "        continue\n",
    "    true_dist = adata_ood_100[adata_ood_100.obs[\"condition\"]==cond].X.toarray()\n",
    "    pred_dist = adata_ood_100[adata_ood_100.obs[\"condition\"]==cond].layers[\"X_recon\"]\n",
    "    metrics_pca_100[cond] = compute_metrics(true_dist, pred_dist)"
   ]
  },
  {
   "cell_type": "code",
   "execution_count": 13,
   "id": "6c004223-711c-426b-b622-d77bd92fc85c",
   "metadata": {},
   "outputs": [],
   "source": [
    "pd.DataFrame.from_dict(metrics_pca_100).to_csv(os.path.join(out_dir, \"reconstruction_pca_100.csv\"))"
   ]
  },
  {
   "cell_type": "code",
   "execution_count": 14,
   "id": "99e91a57-1382-46eb-8930-1a377a32eb61",
   "metadata": {},
   "outputs": [],
   "source": [
    "split = 15\n",
    "adata_train_50 = sc.read(os.path.join(data_dir, f\"adata_train_{split}.h5ad\"))\n",
    "adata_ood_50 = sc.read(os.path.join(data_dir, f\"adata_ood_{split}.h5ad\")) "
   ]
  },
  {
   "cell_type": "code",
   "execution_count": 15,
   "id": "6dba9123-3ec5-4e97-9a78-4230f57ff1b2",
   "metadata": {},
   "outputs": [
    {
     "data": {
      "text/plain": [
       "(20173, 50)"
      ]
     },
     "execution_count": 15,
     "metadata": {},
     "output_type": "execute_result"
    }
   ],
   "source": [
    "adata_ood_50.obsm[\"X_pca\"].shape"
   ]
  },
  {
   "cell_type": "code",
   "execution_count": 16,
   "id": "bd2349a0-f11e-4d9c-a6c3-348c0bb6145b",
   "metadata": {},
   "outputs": [],
   "source": [
    "reconstruct_pca(query_adata=adata_ood_50, ref_adata=adata_train_50)"
   ]
  },
  {
   "cell_type": "code",
   "execution_count": 17,
   "id": "15040273-3d5e-4057-b18d-9de5b0a1923e",
   "metadata": {},
   "outputs": [],
   "source": [
    "metrics_pca_50 = {}\n",
    "for cond in adata_ood_50.obs[\"condition\"].unique():\n",
    "    if \"Vehicle\" in cond:\n",
    "        continue\n",
    "    true_dist = adata_ood_50[adata_ood_50.obs[\"condition\"]==cond].X.toarray()\n",
    "    pred_dist = adata_ood_50[adata_ood_50.obs[\"condition\"]==cond].layers[\"X_recon\"]\n",
    "    metrics_pca_50[cond] = compute_metrics(true_dist, pred_dist)"
   ]
  },
  {
   "cell_type": "code",
   "execution_count": 18,
   "id": "1129bc94-b799-4a25-8e8b-9b4d5f9e96d3",
   "metadata": {},
   "outputs": [],
   "source": [
    "pd.DataFrame.from_dict(metrics_pca_50).to_csv(os.path.join(out_dir, \"reconstruction_pca_50.csv\"))"
   ]
  },
  {
   "cell_type": "code",
   "execution_count": null,
   "id": "c6e1320f-ce3c-45d7-9ae8-411fefc997c4",
   "metadata": {},
   "outputs": [],
   "source": []
  }
 ],
 "metadata": {
  "kernelspec": {
   "display_name": "cfp",
   "language": "python",
   "name": "cfp"
  },
  "language_info": {
   "codemirror_mode": {
    "name": "ipython",
    "version": 3
   },
   "file_extension": ".py",
   "mimetype": "text/x-python",
   "name": "python",
   "nbconvert_exporter": "python",
   "pygments_lexer": "ipython3",
   "version": "3.11.9"
  }
 },
 "nbformat": 4,
 "nbformat_minor": 5
}
