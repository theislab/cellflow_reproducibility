{
 "cells": [
  {
   "cell_type": "code",
   "execution_count": null,
   "id": "86f34cf7-0357-4786-91cb-790576ab13ba",
   "metadata": {},
   "outputs": [],
   "source": [
    "import pandas as pd\n",
    "import os\n",
    "import scanpy as sc\n",
    "import seaborn as sns"
   ]
  },
  {
   "cell_type": "code",
   "execution_count": null,
   "id": "afeabafe-07dc-4983-9837-b17ac7ae1b7b",
   "metadata": {},
   "outputs": [],
   "source": [
    "data_dir = out_dir = \"/lustre/groups/ml01/workspace/ot_perturbation/data/sciplex/reconstruction\""
   ]
  },
  {
   "cell_type": "code",
   "execution_count": null,
   "id": "600607c8-da74-4d62-8f0d-3a265a73ee56",
   "metadata": {},
   "outputs": [],
   "source": [
    "splits = [5,10,15, \"vae\"]\n",
    "split_to_embedding = {5: \"PCA_300\", 10: \"PCA_100\", 15: \"PCA_50\", \"vae\": \"vae\"}"
   ]
  },
  {
   "cell_type": "code",
   "execution_count": null,
   "id": "bfc2e3ca-2c10-4c77-a722-27b4fc6d3f18",
   "metadata": {},
   "outputs": [],
   "source": [
    "\n",
    "all_dfs = []\n",
    "\n",
    "dfs = {}\n",
    "for split in splits:\n",
    "    metrics_file = f\"ood_metrics_decoded_{split}.csv\" # because we take 100-dim PCA space for CellFlow\n",
    "    dfs[split] = pd.read_csv(os.path.join(data_dir, metrics_file), index_col=0)\n",
    "    if \"sinkhorn_div_1\" in dfs[split].index:\n",
    "        dfs[split] = dfs[split].drop([\"sinkhorn_div_1\", \"sinkhorn_div_10\", \"sinkhorn_div_100\"])\n",
    "    if \"mmd_distance\" in dfs[split].index:\n",
    "        dfs[split] = dfs[split].drop([\"mmd_distance\"])\n",
    "    if \"mmd\" in dfs[split].index:\n",
    "        dfs[split] = dfs[split].drop([\"mmd\"])\n",
    "    if \"e_distance\" in dfs[split].index:\n",
    "        dfs[split] = dfs[split].drop([\"e_distance\"])\n",
    "    dfs[split][\"embedding\"] = split_to_embedding[split]\n",
    "result_df = pd.concat(dfs.values(), ignore_index=False)\n",
    "result_df[\"metric\"] = result_df.index\n",
    "metrics = result_df[\"metric\"].unique()\n",
    "df2 = pd.melt(result_df, id_vars=[\"embedding\", \"metric\"])\n",
    "all_dfs.append(df2)"
   ]
  },
  {
   "cell_type": "code",
   "execution_count": null,
   "id": "849257bd-9969-4fe2-900a-875a559befaf",
   "metadata": {},
   "outputs": [],
   "source": [
    "df_ood_metrics_decoded = pd.concat(all_dfs)\n",
    "df_ood_metrics_decoded[\"dose\"] = df_ood_metrics_decoded.apply(lambda x: x.variable.split(\"_\")[-1], axis=1)"
   ]
  },
  {
   "cell_type": "code",
   "execution_count": null,
   "id": "588d6fff-74e2-4b23-af3a-bf2b8676332f",
   "metadata": {},
   "outputs": [],
   "source": [
    "df_ood_metrics_decoded.to_csv(\"/lustre/groups/ml01/workspace/ot_perturbation/data/sciplex/results/allocation/encoder_decoder_metrics_decoded.csv\")"
   ]
  },
  {
   "cell_type": "code",
   "execution_count": null,
   "id": "52924e9d-819f-4db7-9c3d-79897ca26f53",
   "metadata": {},
   "outputs": [],
   "source": [
    "\n",
    "all_dfs = []\n",
    "\n",
    "dfs = {}\n",
    "for split in splits:\n",
    "    metrics_file = f\"ood_metrics_encoded_{split}.csv\" # because we take 100-dim PCA space for CellFlow\n",
    "    dfs[split] = pd.read_csv(os.path.join(data_dir, metrics_file), index_col=0)\n",
    "    dfs[split].loc[\"sinkhorn_div\"] = dfs[split].loc[[\"sinkhorn_div_1\", \"sinkhorn_div_10\", \"sinkhorn_div_100\"]].mean(axis=0)\n",
    "    if \"sinkhorn_div_1\" in dfs[split].index:\n",
    "        dfs[split] = dfs[split].drop([\"sinkhorn_div_1\", \"sinkhorn_div_10\", \"sinkhorn_div_100\"])\n",
    "    dfs[split][\"embedding\"] = split_to_embedding[split]\n",
    "result_df = pd.concat(dfs.values(), ignore_index=False)\n",
    "result_df[\"metric\"] = result_df.index\n",
    "metrics = result_df[\"metric\"].unique()\n",
    "df2 = pd.melt(result_df, id_vars=[\"embedding\", \"metric\"])\n",
    "all_dfs.append(df2)"
   ]
  },
  {
   "cell_type": "code",
   "execution_count": null,
   "id": "2398c266-f8c5-4fed-811f-ab394cd285c6",
   "metadata": {},
   "outputs": [],
   "source": [
    "df_ood_metrics_encoded = pd.concat(all_dfs)\n",
    "df_ood_metrics_encoded[\"dose\"] = df_ood_metrics_encoded.apply(lambda x: x.variable.split(\"_\")[-1], axis=1)"
   ]
  },
  {
   "cell_type": "code",
   "execution_count": null,
   "id": "d44a4321-8dab-4aa0-826e-b3741ac64e73",
   "metadata": {},
   "outputs": [],
   "source": [
    "df_ood_metrics_encoded.to_csv(\"/lustre/groups/ml01/workspace/ot_perturbation/data/sciplex/results/allocation/encoder_decoder_metrics_encoded.csv\")\n"
   ]
  },
  {
   "cell_type": "code",
   "execution_count": null,
   "id": "a729e10d-352b-4356-a533-820e81d29cba",
   "metadata": {},
   "outputs": [],
   "source": [
    "\n",
    "all_dfs = []\n",
    "\n",
    "dfs = {}\n",
    "for split in splits:\n",
    "    metrics_file = f\"ood_metrics_ood_{split}.csv\" # because we take 100-dim PCA space for CellFlow\n",
    "    dfs[split] = pd.read_csv(os.path.join(data_dir, metrics_file), index_col=0)\n",
    "    dfs[split].loc[\"sinkhorn_div\"] = dfs[split].loc[[\"sinkhorn_div_1\", \"sinkhorn_div_10\", \"sinkhorn_div_100\"]].mean(axis=0)\n",
    "    if \"sinkhorn_div_1\" in dfs[split].index:\n",
    "        dfs[split] = dfs[split].drop([\"sinkhorn_div_1\", \"sinkhorn_div_10\", \"sinkhorn_div_100\"])\n",
    "    dfs[split][\"embedding\"] = split_to_embedding[split]\n",
    "result_df = pd.concat(dfs.values(), ignore_index=False)\n",
    "result_df[\"metric\"] = result_df.index\n",
    "metrics = result_df[\"metric\"].unique()\n",
    "df2 = pd.melt(result_df, id_vars=[\"embedding\", \"metric\"])\n",
    "all_dfs.append(df2)"
   ]
  },
  {
   "cell_type": "code",
   "execution_count": null,
   "id": "435e9c2c-4c48-4d2f-9d42-86b38b6ce3b0",
   "metadata": {},
   "outputs": [],
   "source": [
    "df_ood_metrics_deg = pd.concat(all_dfs)\n",
    "df_ood_metrics_deg[\"dose\"] = df_ood_metrics_deg.apply(lambda x: x.variable.split(\"_\")[-1], axis=1)"
   ]
  },
  {
   "cell_type": "code",
   "execution_count": null,
   "id": "e692d6e8-4bec-4eb5-a082-c264e5d7ddcf",
   "metadata": {},
   "outputs": [],
   "source": [
    "df_ood_metrics_deg.to_csv(\"/lustre/groups/ml01/workspace/ot_perturbation/data/sciplex/results/allocation/encoder_decoder_metrics_deg.csv\")\n"
   ]
  },
  {
   "cell_type": "code",
   "execution_count": null,
   "id": "4fce55a0-8418-4d10-9b23-669db8df92de",
   "metadata": {},
   "outputs": [],
   "source": []
  }
 ],
 "metadata": {
  "kernelspec": {
   "display_name": "cfp",
   "language": "python",
   "name": "cfp"
  },
  "language_info": {
   "codemirror_mode": {
    "name": "ipython",
    "version": 3
   },
   "file_extension": ".py",
   "mimetype": "text/x-python",
   "name": "python",
   "nbconvert_exporter": "python",
   "pygments_lexer": "ipython3",
   "version": "3.11.9"
  }
 },
 "nbformat": 4,
 "nbformat_minor": 5
}
