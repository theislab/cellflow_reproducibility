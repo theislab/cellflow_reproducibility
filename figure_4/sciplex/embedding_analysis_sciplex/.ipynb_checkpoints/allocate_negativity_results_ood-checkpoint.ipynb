{
 "cells": [
  {
   "cell_type": "code",
   "execution_count": 9,
   "id": "86f34cf7-0357-4786-91cb-790576ab13ba",
   "metadata": {},
   "outputs": [],
   "source": [
    "import pandas as pd\n",
    "import os\n",
    "import seaborn as sns"
   ]
  },
  {
   "cell_type": "code",
   "execution_count": 5,
   "id": "afeabafe-07dc-4983-9837-b17ac7ae1b7b",
   "metadata": {},
   "outputs": [],
   "source": [
    "data_dir = out_dir = \"/lustre/groups/ml01/workspace/ot_perturbation/data/sciplex/reconstruction\""
   ]
  },
  {
   "cell_type": "code",
   "execution_count": 49,
   "id": "595733d8-e032-48ca-9e4f-fbf128f589d9",
   "metadata": {},
   "outputs": [],
   "source": [
    "df_50 = pd.read_csv(os.path.join(data_dir, \"reconstruction_pca_50.csv\")).T\n",
    "df_100 = pd.read_csv(os.path.join(data_dir, \"reconstruction_pca_100.csv\")).T\n",
    "df_300 = pd.read_csv(os.path.join(data_dir, \"reconstruction_pca_300.csv\")).T\n",
    "df_vae = pd.read_csv(os.path.join(data_dir, \"reconstruction_vae.csv\")).T"
   ]
  },
  {
   "cell_type": "code",
   "execution_count": 50,
   "id": "b4b42fcc-dced-445f-ab85-09b6fecb5263",
   "metadata": {},
   "outputs": [],
   "source": [
    "df_50.columns=df_50.iloc[0,:]\n",
    "df_50 = df_50.iloc[1:, :]\n",
    "df_100.columns=df_100.iloc[0,:]\n",
    "df_100 = df_100.iloc[1:, :]\n",
    "df_300.columns=df_300.iloc[0,:]\n",
    "df_300 = df_300.iloc[1:, :]\n",
    "df_vae.columns=df_vae.iloc[0,:]\n",
    "df_vae = df_vae.iloc[1:, :]"
   ]
  },
  {
   "cell_type": "code",
   "execution_count": 51,
   "id": "a0e5711d-6f5b-4f86-bd31-709f481f6f37",
   "metadata": {},
   "outputs": [],
   "source": [
    "df_50[\"dose\"] = df_50.apply(lambda x: x.name.split(\"_\")[-1], axis=1)\n",
    "df_100[\"dose\"] = df_100.apply(lambda x: x.name.split(\"_\")[-1], axis=1)\n",
    "df_300[\"dose\"] = df_300.apply(lambda x: x.name.split(\"_\")[-1], axis=1)\n",
    "df_vae[\"dose\"] = df_vae.apply(lambda x: x.name.split(\"_\")[-1], axis=1)"
   ]
  },
  {
   "cell_type": "code",
   "execution_count": 43,
   "id": "81ed8bb0-a631-4d5e-b723-d3c7abc7fea3",
   "metadata": {},
   "outputs": [],
   "source": [
    "df_50[\"embedding\"] = \"PC_50\"\n",
    "df_100[\"embedding\"] = \"PC_100\"\n",
    "df_300[\"embedding\"] = \"PC_300\"\n",
    "df_vae[\"embedding\"] = \"VAE\""
   ]
  },
  {
   "cell_type": "code",
   "execution_count": 44,
   "id": "d858e053-1953-4fbe-811b-99fcf15f670e",
   "metadata": {},
   "outputs": [],
   "source": [
    "df = pd.concat((df_50, df_100, df_300, df_vae))"
   ]
  },
  {
   "cell_type": "code",
   "execution_count": 45,
   "id": "2221103b-c340-4f78-83fd-0a3c84c10921",
   "metadata": {},
   "outputs": [
    {
     "data": {
      "text/plain": [
       "<Axes: xlabel='dose', ylabel='r_squared'>"
      ]
     },
     "execution_count": 45,
     "metadata": {},
     "output_type": "execute_result"
    },
    {
     "data": {
      "image/png": "[encoded data removed]",
      "text/plain": [
       "<Figure size 640x480 with 1 Axes>"
      ]
     },
     "metadata": {},
     "output_type": "display_data"
    }
   ],
   "source": [
    "sns.boxplot(df, x=\"dose\", y=\"r_squared\", hue=\"embedding\")"
   ]
  },
  {
   "cell_type": "code",
   "execution_count": 47,
   "id": "661a61eb-93b2-45b0-ac56-e344b5ab1a22",
   "metadata": {},
   "outputs": [],
   "source": [
    "df[\"sinkhorn_div\"] = df[[\"sinkhorn_div_1\", \"sinkhorn_div_10\", \"sinkhorn_div_100\"]].mean(axis=1)"
   ]
  },
  {
   "cell_type": "code",
   "execution_count": 48,
   "id": "5c84d396-bb01-4f1a-a83d-526398e8f2a5",
   "metadata": {},
   "outputs": [],
   "source": [
    "df.to_csv(os.path.join(data_dir, \"reconstruction_ood_allocated.csv\"))"
   ]
  },
  {
   "cell_type": "code",
   "execution_count": 57,
   "id": "02172580-a607-4906-abb9-72c643976ff4",
   "metadata": {},
   "outputs": [],
   "source": [
    "df[\"neg_r_squared\"] = -df[\"r_squared\"]"
   ]
  },
  {
   "cell_type": "code",
   "execution_count": 59,
   "id": "ed0c523e-0cb1-4384-a450-8aa9e282f834",
   "metadata": {},
   "outputs": [
    {
     "data": {
      "text/html": [
       "<div>\n",
       "<style scoped>\n",
       "    .dataframe tbody tr th:only-of-type {\n",
       "        vertical-align: middle;\n",
       "    }\n",
       "\n",
       "    .dataframe tbody tr th {\n",
       "        vertical-align: top;\n",
       "    }\n",
       "\n",
       "    .dataframe thead th {\n",
       "        text-align: right;\n",
       "    }\n",
       "</style>\n",
       "<table border=\"1\" class=\"dataframe\">\n",
       "  <thead>\n",
       "    <tr style=\"text-align: right;\">\n",
       "      <th>Unnamed: 0</th>\n",
       "      <th>neg_r_squared</th>\n",
       "      <th>sinkhorn_div_1</th>\n",
       "      <th>sinkhorn_div_10</th>\n",
       "      <th>sinkhorn_div_100</th>\n",
       "      <th>sinkhorn_div</th>\n",
       "      <th>mmd</th>\n",
       "      <th>e_distance</th>\n",
       "    </tr>\n",
       "    <tr>\n",
       "      <th>Unnamed: 0</th>\n",
       "      <th></th>\n",
       "      <th></th>\n",
       "      <th></th>\n",
       "      <th></th>\n",
       "      <th></th>\n",
       "      <th></th>\n",
       "      <th></th>\n",
       "    </tr>\n",
       "  </thead>\n",
       "  <tbody>\n",
       "    <tr>\n",
       "      <th>neg_r_squared</th>\n",
       "      <td>1.000000</td>\n",
       "      <td>0.458428</td>\n",
       "      <td>0.417801</td>\n",
       "      <td>0.968757</td>\n",
       "      <td>0.468776</td>\n",
       "      <td>0.349710</td>\n",
       "      <td>0.985638</td>\n",
       "    </tr>\n",
       "    <tr>\n",
       "      <th>sinkhorn_div_1</th>\n",
       "      <td>0.458428</td>\n",
       "      <td>1.000000</td>\n",
       "      <td>0.954386</td>\n",
       "      <td>0.625511</td>\n",
       "      <td>0.990688</td>\n",
       "      <td>0.427403</td>\n",
       "      <td>0.487291</td>\n",
       "    </tr>\n",
       "    <tr>\n",
       "      <th>sinkhorn_div_10</th>\n",
       "      <td>0.417801</td>\n",
       "      <td>0.954386</td>\n",
       "      <td>1.000000</td>\n",
       "      <td>0.590839</td>\n",
       "      <td>0.985351</td>\n",
       "      <td>0.200717</td>\n",
       "      <td>0.434730</td>\n",
       "    </tr>\n",
       "    <tr>\n",
       "      <th>sinkhorn_div_100</th>\n",
       "      <td>0.968757</td>\n",
       "      <td>0.625511</td>\n",
       "      <td>0.590839</td>\n",
       "      <td>1.000000</td>\n",
       "      <td>0.637882</td>\n",
       "      <td>0.365112</td>\n",
       "      <td>0.982578</td>\n",
       "    </tr>\n",
       "    <tr>\n",
       "      <th>sinkhorn_div</th>\n",
       "      <td>0.468776</td>\n",
       "      <td>0.990688</td>\n",
       "      <td>0.985351</td>\n",
       "      <td>0.637882</td>\n",
       "      <td>1.000000</td>\n",
       "      <td>0.333676</td>\n",
       "      <td>0.492453</td>\n",
       "    </tr>\n",
       "    <tr>\n",
       "      <th>mmd</th>\n",
       "      <td>0.349710</td>\n",
       "      <td>0.427403</td>\n",
       "      <td>0.200717</td>\n",
       "      <td>0.365112</td>\n",
       "      <td>0.333676</td>\n",
       "      <td>1.000000</td>\n",
       "      <td>0.362309</td>\n",
       "    </tr>\n",
       "    <tr>\n",
       "      <th>e_distance</th>\n",
       "      <td>0.985638</td>\n",
       "      <td>0.487291</td>\n",
       "      <td>0.434730</td>\n",
       "      <td>0.982578</td>\n",
       "      <td>0.492453</td>\n",
       "      <td>0.362309</td>\n",
       "      <td>1.000000</td>\n",
       "    </tr>\n",
       "  </tbody>\n",
       "</table>\n",
       "</div>"
      ],
      "text/plain": [
       "Unnamed: 0        neg_r_squared  sinkhorn_div_1  sinkhorn_div_10  \\\n",
       "Unnamed: 0                                                         \n",
       "neg_r_squared          1.000000        0.458428         0.417801   \n",
       "sinkhorn_div_1         0.458428        1.000000         0.954386   \n",
       "sinkhorn_div_10        0.417801        0.954386         1.000000   \n",
       "sinkhorn_div_100       0.968757        0.625511         0.590839   \n",
       "sinkhorn_div           0.468776        0.990688         0.985351   \n",
       "mmd                    0.349710        0.427403         0.200717   \n",
       "e_distance             0.985638        0.487291         0.434730   \n",
       "\n",
       "Unnamed: 0        sinkhorn_div_100  sinkhorn_div       mmd  e_distance  \n",
       "Unnamed: 0                                                              \n",
       "neg_r_squared             0.968757      0.468776  0.349710    0.985638  \n",
       "sinkhorn_div_1            0.625511      0.990688  0.427403    0.487291  \n",
       "sinkhorn_div_10           0.590839      0.985351  0.200717    0.434730  \n",
       "sinkhorn_div_100          1.000000      0.637882  0.365112    0.982578  \n",
       "sinkhorn_div              0.637882      1.000000  0.333676    0.492453  \n",
       "mmd                       0.365112      0.333676  1.000000    0.362309  \n",
       "e_distance                0.982578      0.492453  0.362309    1.000000  "
      ]
     },
     "execution_count": 59,
     "metadata": {},
     "output_type": "execute_result"
    }
   ],
   "source": [
    "df[df[\"dose\"]==\"10.0\"][[\"neg_r_squared\", \"sinkhorn_div_1\", \"sinkhorn_div_10\", \"sinkhorn_div_100\", \"sinkhorn_div\", \"mmd\", \"e_distance\"]].corr()"
   ]
  },
  {
   "cell_type": "code",
   "execution_count": 68,
   "id": "1ca4a5ea-aba5-43ae-93d6-c587e266cc11",
   "metadata": {},
   "outputs": [],
   "source": [
    "df_10 = df[df[\"dose\"]==\"10.0\"][[\"neg_r_squared\", \"sinkhorn_div\", \"mmd\", \"e_distance\"]].corr()"
   ]
  },
  {
   "cell_type": "code",
   "execution_count": 69,
   "id": "2091452e-0125-48fd-9a3a-ca5c839e6d89",
   "metadata": {},
   "outputs": [],
   "source": [
    "df_10000 = df[df[\"dose\"]==\"10000.0\"][[\"neg_r_squared\", \"sinkhorn_div\", \"mmd\", \"e_distance\"]].corr()"
   ]
  },
  {
   "cell_type": "code",
   "execution_count": 72,
   "id": "24974cb0-613b-41b7-a7d5-0a5fd30c1e61",
   "metadata": {},
   "outputs": [
    {
     "data": {
      "text/plain": [
       "<Axes: xlabel='Unnamed: 0', ylabel='Unnamed: 0'>"
      ]
     },
     "execution_count": 72,
     "metadata": {},
     "output_type": "execute_result"
    },
    {
     "data": {
      "image/png": "[encoded data removed]",
      "text/plain": [
       "<Figure size 640x480 with 2 Axes>"
      ]
     },
     "metadata": {},
     "output_type": "display_data"
    }
   ],
   "source": [
    "import numpy as np\n",
    "sns.heatmap(np.abs(df_10 - df_10000))"
   ]
  },
  {
   "cell_type": "code",
   "execution_count": null,
   "id": "4fce55a0-8418-4d10-9b23-669db8df92de",
   "metadata": {},
   "outputs": [],
   "source": []
  }
 ],
 "metadata": {
  "kernelspec": {
   "display_name": "cfp",
   "language": "python",
   "name": "cfp"
  },
  "language_info": {
   "codemirror_mode": {
    "name": "ipython",
    "version": 3
   },
   "file_extension": ".py",
   "mimetype": "text/x-python",
   "name": "python",
   "nbconvert_exporter": "python",
   "pygments_lexer": "ipython3",
   "version": "3.11.9"
  }
 },
 "nbformat": 4,
 "nbformat_minor": 5
}
