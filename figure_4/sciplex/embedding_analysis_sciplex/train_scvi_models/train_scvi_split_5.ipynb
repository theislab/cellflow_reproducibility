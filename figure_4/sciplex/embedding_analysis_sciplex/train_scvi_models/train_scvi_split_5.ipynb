{
 "cells": [
  {
   "cell_type": "code",
   "execution_count": 1,
   "id": "7fa42406-ce70-4f15-8409-79902a769f42",
   "metadata": {},
   "outputs": [
    {
     "name": "stderr",
     "output_type": "stream",
     "text": [
      "/home/icb/dominik.klein/mambaforge/envs/cfp/lib/python3.11/site-packages/optuna/study/_optimize.py:29: TqdmWarning: IProgress not found. Please update jupyter and ipywidgets. See https://ipywidgets.readthedocs.io/en/stable/user_install.html\n",
      "  from optuna import progress_bar as pbar_module\n"
     ]
    }
   ],
   "source": [
    "import scvi\n",
    "import scanpy as sc\n",
    "import os\n",
    "import pandas as pd\n",
    "import numpy as np\n",
    "from cfp.external import CFJaxSCVI"
   ]
  },
  {
   "cell_type": "code",
   "execution_count": 2,
   "id": "ca30cf7b-b799-41be-9381-ff5e3a810599",
   "metadata": {},
   "outputs": [],
   "source": [
    "split = 5\n",
    "output_dir = \"/lustre/groups/ml01/workspace/ot_perturbation/data/sciplex\"\n",
    "adata_train = sc.read(os.path.join(output_dir, f\"adata_train_{split}.h5ad\"))\n",
    "adata_test = sc.read(os.path.join(output_dir, f\"adata_test_{split}.h5ad\"))\n",
    "adata_ood = sc.read(os.path.join(output_dir, f\"adata_ood_{split}.h5ad\")) "
   ]
  },
  {
   "cell_type": "code",
   "execution_count": null,
   "id": "899946c1-36cd-454c-888d-04438dc5c1f3",
   "metadata": {},
   "outputs": [],
   "source": [
    "CFJaxSCVI.setup_anndata(adata_train)\n",
    "\n",
    "n_latent=10\n",
    "n_hidden=2048\n",
    "\n",
    "vae = CFJaxSCVI(adata_train, gene_likelihood=\"normal\", n_latent = n_latent, n_hidden = n_hidden)\n",
    "\n",
    "vae.train(\n",
    "    max_epochs=2000,\n",
    "    batch_size=1024,\n",
    "    plan_kwargs=dict(\n",
    "        lr=1e-4,\n",
    "    ),\n",
    "    early_stopping=True,\n",
    "    early_stopping_patience=20,\n",
    ")\n",
    "\n",
    "adata_ood.obsm[\"X_scVI\"] = vae.get_latent_representation(adata_ood)\n",
    "adata_ood.obsm[\"reconstruction\"] = vae.get_reconstructed_expression(adata_ood, give_mean=\"True\")"
   ]
  },
  {
   "cell_type": "code",
   "execution_count": null,
   "id": "f9132964-d905-456d-b2fb-bbc31c5df56e",
   "metadata": {},
   "outputs": [],
   "source": [
    "adata_ood.write(f\"/lustre/groups/ml01/workspace/ot_perturbation/models/vaes/sciplex/10_2048_{split}_reconstruction.h5ad\")"
   ]
  },
  {
   "cell_type": "code",
   "execution_count": null,
   "id": "ed57a42e-4100-4147-8ef2-f13d8b984381",
   "metadata": {},
   "outputs": [],
   "source": [
    "vae.save(f\"/lustre/groups/ml01/workspace/ot_perturbation/models/vaes/sciplex/10_2048_{split}\")"
   ]
  },
  {
   "cell_type": "code",
   "execution_count": null,
   "id": "a57b0cd4-1516-4051-9274-182ec97526d9",
   "metadata": {},
   "outputs": [],
   "source": []
  }
 ],
 "metadata": {
  "kernelspec": {
   "display_name": "cfp",
   "language": "python",
   "name": "cfp"
  },
  "language_info": {
   "codemirror_mode": {
    "name": "ipython",
    "version": 3
   },
   "file_extension": ".py",
   "mimetype": "text/x-python",
   "name": "python",
   "nbconvert_exporter": "python",
   "pygments_lexer": "ipython3",
   "version": "3.11.9"
  }
 },
 "nbformat": 4,
 "nbformat_minor": 5
}
