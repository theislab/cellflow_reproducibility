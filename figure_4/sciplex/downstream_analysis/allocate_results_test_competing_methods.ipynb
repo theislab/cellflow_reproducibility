{
 "cells": [
  {
   "cell_type": "code",
   "execution_count": 1,
   "id": "5602f65d-bbab-45e4-b72d-b03b3da451fd",
   "metadata": {},
   "outputs": [],
   "source": [
    "import os\n",
    "import pandas as pd\n",
    "import seaborn as sns\n",
    "import matplotlib.pyplot as plt\n",
    "import numpy as np"
   ]
  },
  {
   "cell_type": "code",
   "execution_count": 2,
   "id": "dfe989a0-9852-4705-bf73-bb4e080089ec",
   "metadata": {},
   "outputs": [],
   "source": [
    "chemcpa_dir = \"/lustre/groups/ml01/workspace/ot_perturbation/data/sciplex/results/chemcpa\"\n",
    "biolord_dir = \"/lustre/groups/ml01/workspace/ot_perturbation/data/sciplex/results/biolord\"\n",
    "id_dir = \"/lustre/groups/ml01/workspace/ot_perturbation/data/sciplex/results/identity\"\n",
    "condot_dir = \"/lustre/groups/ml01/workspace/ot_perturbation/data/sciplex/results/condot\"\n",
    "otfm_dir = \"/lustre/groups/ml01/workspace/ot_perturbation/data/sciplex/results/otfm/pca_mean_pooling\""
   ]
  },
  {
   "cell_type": "code",
   "execution_count": 3,
   "id": "285618e9-3f61-49d7-a2c3-3794589e3c5d",
   "metadata": {},
   "outputs": [],
   "source": [
    "model_dirs = {\"id\": id_dir, \"biolord\": biolord_dir, \"otfm\": otfm_dir, \"condot\": condot_dir, \"chemCPA\": chemcpa_dir} # otfm and chemCPA missing\n",
    "model_dirs = {\"biolord\": biolord_dir, \"chemCPA\": chemcpa_dir} # otfm and chemCPA missing\n"
   ]
  },
  {
   "cell_type": "code",
   "execution_count": 4,
   "id": "ab4f0a72-4235-4dec-be73-c8e8ce567bdd",
   "metadata": {},
   "outputs": [],
   "source": [
    "splits = [5]"
   ]
  },
  {
   "cell_type": "markdown",
   "id": "1177649e-5b11-4ace-bdd9-fbce0dac76b1",
   "metadata": {},
   "source": [
    "# Decoded"
   ]
  },
  {
   "cell_type": "code",
   "execution_count": 5,
   "id": "1caed032-ef64-49fb-852c-90d259327ef5",
   "metadata": {},
   "outputs": [],
   "source": [
    "\n",
    "all_dfs = []\n",
    "for split in splits:\n",
    "    dfs = {}\n",
    "    for model, model_dir in model_dirs.items():\n",
    "        if model == \"otfm\": # TODO: adpat once we have all splits\n",
    "            metrics_file = f\"test_metrics_decoded_{split+5}.csv\" # because we take 100-dim PCA space for CellFlow\n",
    "        else:\n",
    "            metrics_file = f\"test_metrics_decoded_{split}.csv\"\n",
    "        dfs[model] = pd.read_csv(os.path.join(model_dir, metrics_file), index_col=0)\n",
    "        #dfs[model].loc[\"sinkhorn_div\"] = dfs[model].loc[[\"sinkhorn_div_1\", \"sinkhorn_div_10\", \"sinkhorn_div_100\"]].mean(axis=0)\n",
    "        if \"sinkhorn_div_1\" in dfs[model].index:\n",
    "            dfs[model] = dfs[model].drop([\"sinkhorn_div_1\", \"sinkhorn_div_10\", \"sinkhorn_div_100\"])\n",
    "        if \"mmd_distance\" in dfs[model].index:\n",
    "            dfs[model] = dfs[model].drop([\"mmd_distance\"])\n",
    "        if \"mmd\" in dfs[model].index:\n",
    "            dfs[model] = dfs[model].drop([\"mmd\"])\n",
    "        if \"e_distance\" in dfs[model].index:\n",
    "            dfs[model] = dfs[model].drop([\"e_distance\"])\n",
    "        dfs[model][\"model\"] = model\n",
    "    result_df = pd.concat(dfs.values(), ignore_index=False)\n",
    "    result_df[\"metric\"] = result_df.index\n",
    "    metrics = result_df[\"metric\"].unique()\n",
    "    df2 = pd.melt(result_df, id_vars=[\"model\", \"metric\"])\n",
    "    df2[\"split\"] = split\n",
    "    all_dfs.append(df2)"
   ]
  },
  {
   "cell_type": "code",
   "execution_count": 6,
   "id": "3372e1a7-0b2c-4a2a-a493-792df3fd6673",
   "metadata": {},
   "outputs": [],
   "source": [
    "df_test_metrics_decoded = pd.concat(all_dfs)\n"
   ]
  },
  {
   "cell_type": "code",
   "execution_count": 7,
   "id": "159c8f82-bf8b-4ee9-a8dd-bfe03eeac457",
   "metadata": {
    "scrolled": true
   },
   "outputs": [
    {
     "data": {
      "text/html": [
       "<div>\n",
       "<style scoped>\n",
       "    .dataframe tbody tr th:only-of-type {\n",
       "        vertical-align: middle;\n",
       "    }\n",
       "\n",
       "    .dataframe tbody tr th {\n",
       "        vertical-align: top;\n",
       "    }\n",
       "\n",
       "    .dataframe thead th {\n",
       "        text-align: right;\n",
       "    }\n",
       "</style>\n",
       "<table border=\"1\" class=\"dataframe\">\n",
       "  <thead>\n",
       "    <tr style=\"text-align: right;\">\n",
       "      <th></th>\n",
       "      <th>model</th>\n",
       "      <th>metric</th>\n",
       "      <th>variable</th>\n",
       "      <th>value</th>\n",
       "      <th>split</th>\n",
       "    </tr>\n",
       "  </thead>\n",
       "  <tbody>\n",
       "    <tr>\n",
       "      <th>0</th>\n",
       "      <td>biolord</td>\n",
       "      <td>r_squared</td>\n",
       "      <td>A549_(+)-JQ1_10.0</td>\n",
       "      <td>0.971842</td>\n",
       "      <td>5</td>\n",
       "    </tr>\n",
       "    <tr>\n",
       "      <th>1</th>\n",
       "      <td>chemCPA</td>\n",
       "      <td>r_squared</td>\n",
       "      <td>A549_(+)-JQ1_10.0</td>\n",
       "      <td>0.973942</td>\n",
       "      <td>5</td>\n",
       "    </tr>\n",
       "    <tr>\n",
       "      <th>2</th>\n",
       "      <td>biolord</td>\n",
       "      <td>r_squared</td>\n",
       "      <td>A549_(+)-JQ1_100.0</td>\n",
       "      <td>0.971151</td>\n",
       "      <td>5</td>\n",
       "    </tr>\n",
       "    <tr>\n",
       "      <th>3</th>\n",
       "      <td>chemCPA</td>\n",
       "      <td>r_squared</td>\n",
       "      <td>A549_(+)-JQ1_100.0</td>\n",
       "      <td>0.963646</td>\n",
       "      <td>5</td>\n",
       "    </tr>\n",
       "    <tr>\n",
       "      <th>4</th>\n",
       "      <td>biolord</td>\n",
       "      <td>r_squared</td>\n",
       "      <td>A549_(+)-JQ1_1000.0</td>\n",
       "      <td>0.970617</td>\n",
       "      <td>5</td>\n",
       "    </tr>\n",
       "    <tr>\n",
       "      <th>...</th>\n",
       "      <td>...</td>\n",
       "      <td>...</td>\n",
       "      <td>...</td>\n",
       "      <td>...</td>\n",
       "      <td>...</td>\n",
       "    </tr>\n",
       "    <tr>\n",
       "      <th>4079</th>\n",
       "      <td>chemCPA</td>\n",
       "      <td>r_squared</td>\n",
       "      <td>MCF7_Zileuton_100.0</td>\n",
       "      <td>0.964944</td>\n",
       "      <td>5</td>\n",
       "    </tr>\n",
       "    <tr>\n",
       "      <th>4080</th>\n",
       "      <td>biolord</td>\n",
       "      <td>r_squared</td>\n",
       "      <td>MCF7_Zileuton_1000.0</td>\n",
       "      <td>0.969585</td>\n",
       "      <td>5</td>\n",
       "    </tr>\n",
       "    <tr>\n",
       "      <th>4081</th>\n",
       "      <td>chemCPA</td>\n",
       "      <td>r_squared</td>\n",
       "      <td>MCF7_Zileuton_1000.0</td>\n",
       "      <td>0.974171</td>\n",
       "      <td>5</td>\n",
       "    </tr>\n",
       "    <tr>\n",
       "      <th>4082</th>\n",
       "      <td>biolord</td>\n",
       "      <td>r_squared</td>\n",
       "      <td>MCF7_Zileuton_10000.0</td>\n",
       "      <td>0.972548</td>\n",
       "      <td>5</td>\n",
       "    </tr>\n",
       "    <tr>\n",
       "      <th>4083</th>\n",
       "      <td>chemCPA</td>\n",
       "      <td>r_squared</td>\n",
       "      <td>MCF7_Zileuton_10000.0</td>\n",
       "      <td>0.970416</td>\n",
       "      <td>5</td>\n",
       "    </tr>\n",
       "  </tbody>\n",
       "</table>\n",
       "<p>4084 rows × 5 columns</p>\n",
       "</div>"
      ],
      "text/plain": [
       "        model     metric               variable     value  split\n",
       "0     biolord  r_squared      A549_(+)-JQ1_10.0  0.971842      5\n",
       "1     chemCPA  r_squared      A549_(+)-JQ1_10.0  0.973942      5\n",
       "2     biolord  r_squared     A549_(+)-JQ1_100.0  0.971151      5\n",
       "3     chemCPA  r_squared     A549_(+)-JQ1_100.0  0.963646      5\n",
       "4     biolord  r_squared    A549_(+)-JQ1_1000.0  0.970617      5\n",
       "...       ...        ...                    ...       ...    ...\n",
       "4079  chemCPA  r_squared    MCF7_Zileuton_100.0  0.964944      5\n",
       "4080  biolord  r_squared   MCF7_Zileuton_1000.0  0.969585      5\n",
       "4081  chemCPA  r_squared   MCF7_Zileuton_1000.0  0.974171      5\n",
       "4082  biolord  r_squared  MCF7_Zileuton_10000.0  0.972548      5\n",
       "4083  chemCPA  r_squared  MCF7_Zileuton_10000.0  0.970416      5\n",
       "\n",
       "[4084 rows x 5 columns]"
      ]
     },
     "execution_count": 7,
     "metadata": {},
     "output_type": "execute_result"
    }
   ],
   "source": [
    "df_test_metrics_decoded"
   ]
  },
  {
   "cell_type": "code",
   "execution_count": 8,
   "id": "eba4f50e-a6fb-47fd-91f1-03a32338cab3",
   "metadata": {},
   "outputs": [],
   "source": [
    "df_test_metrics_decoded.to_csv(\"/lustre/groups/ml01/workspace/ot_perturbation/data/sciplex/results/allocation/test_metrics_decoded.csv\")"
   ]
  },
  {
   "cell_type": "code",
   "execution_count": 9,
   "id": "0e73aaa1-febb-4c04-9f68-37b472a5c884",
   "metadata": {},
   "outputs": [],
   "source": [
    "\n",
    "all_dfs = []\n",
    "for split in splits:\n",
    "    dfs = {}\n",
    "    for model, model_dir in model_dirs.items():\n",
    "        if model == \"otfm\" and split==5: # TODO: adpat once we have all splits\n",
    "            metrics_file = f\"test_metrics_encoded_{split+5}.csv\" # because we take 100-dim PCA space for CellFlow\n",
    "        else:\n",
    "            metrics_file = f\"test_metrics_encoded_{split}.csv\"\n",
    "        dfs[model] = pd.read_csv(os.path.join(model_dir, metrics_file), index_col=0)\n",
    "        dfs[model].loc[\"sinkhorn_div\"] = dfs[model].loc[[\"sinkhorn_div_1\", \"sinkhorn_div_10\", \"sinkhorn_div_100\"]].mean(axis=0)\n",
    "        dfs[model] = dfs[model].drop([\"sinkhorn_div_1\", \"sinkhorn_div_10\", \"sinkhorn_div_100\"])\n",
    "        dfs[model][\"model\"] = model\n",
    "    result_df = pd.concat(dfs.values(), ignore_index=False)\n",
    "    result_df[\"metric\"] = result_df.index\n",
    "    metrics = result_df[\"metric\"].unique()\n",
    "    df2 = pd.melt(result_df, id_vars=[\"model\", \"metric\"])\n",
    "    df2[\"split\"] = split\n",
    "    all_dfs.append(df2)"
   ]
  },
  {
   "cell_type": "code",
   "execution_count": 10,
   "id": "e4b52a33-da9b-41f6-8b8f-069bcb104dc6",
   "metadata": {},
   "outputs": [],
   "source": [
    "df_test_metrics_encoded = pd.concat(all_dfs)\n"
   ]
  },
  {
   "cell_type": "code",
   "execution_count": 11,
   "id": "c9304fd2-ad60-4375-8e89-ca6c1108e90f",
   "metadata": {},
   "outputs": [
    {
     "data": {
      "text/plain": [
       "metric\n",
       "r_squared       4084\n",
       "e_distance      4084\n",
       "mmd             4084\n",
       "sinkhorn_div    4084\n",
       "Name: count, dtype: int64"
      ]
     },
     "execution_count": 11,
     "metadata": {},
     "output_type": "execute_result"
    }
   ],
   "source": [
    "df_test_metrics_encoded[\"metric\"].value_counts()"
   ]
  },
  {
   "cell_type": "code",
   "execution_count": 12,
   "id": "b1eea9ed-cdcb-43d3-98a7-de561dafe2e0",
   "metadata": {},
   "outputs": [],
   "source": [
    "df_test_metrics_encoded.to_csv(\"/lustre/groups/ml01/workspace/ot_perturbation/data/sciplex/results/allocation/test_metrics_encoded.csv\")"
   ]
  },
  {
   "cell_type": "code",
   "execution_count": 14,
   "id": "45c95333-1abc-4d26-abd9-49cfbcbe7aed",
   "metadata": {},
   "outputs": [],
   "source": [
    "\n",
    "all_dfs = []\n",
    "for split in splits:\n",
    "    dfs = {}\n",
    "    for model, model_dir in model_dirs.items():\n",
    "        if model == \"otfm\": # TODO: adpat once we have all splits\n",
    "            metrics_file = f\"test_metrics_encoded_{split+5}.csv\" # because we take 100-dim PCA space for CellFlow\n",
    "        else:\n",
    "            metrics_file = f\"test_metrics_encoded_{split}.csv\"\n",
    "        dfs[model] = pd.read_csv(os.path.join(model_dir, metrics_file), index_col=0)\n",
    "        dfs[model].loc[\"sinkhorn_div\"] = dfs[model].loc[[\"sinkhorn_div_1\", \"sinkhorn_div_10\", \"sinkhorn_div_100\"]].mean(axis=0)\n",
    "        dfs[model] = dfs[model].drop([\"sinkhorn_div_1\", \"sinkhorn_div_10\", \"sinkhorn_div_100\"])\n",
    "        dfs[model][\"model\"] = model\n",
    "    result_df = pd.concat(dfs.values(), ignore_index=False)\n",
    "    result_df[\"metric\"] = result_df.index\n",
    "    metrics = result_df[\"metric\"].unique()\n",
    "    df2 = pd.melt(result_df, id_vars=[\"model\", \"metric\"])\n",
    "    df2[\"split\"] = split\n",
    "    all_dfs.append(df2)"
   ]
  },
  {
   "cell_type": "code",
   "execution_count": 15,
   "id": "fe121fb2-b14a-4ef4-be91-7e2466ec2b98",
   "metadata": {},
   "outputs": [],
   "source": [
    "df_test_metrics_deg = pd.concat(all_dfs)\n"
   ]
  },
  {
   "cell_type": "code",
   "execution_count": 16,
   "id": "ffd38a93-6669-470c-9d3f-c4a3d55aaab7",
   "metadata": {},
   "outputs": [],
   "source": [
    "df_test_metrics_deg.to_csv(\"/lustre/groups/ml01/workspace/ot_perturbation/data/sciplex/results/allocation/test_metrics_deg.csv\")"
   ]
  },
  {
   "cell_type": "code",
   "execution_count": null,
   "id": "5b412d3b-badc-4020-a126-162b8295d68c",
   "metadata": {},
   "outputs": [],
   "source": []
  }
 ],
 "metadata": {
  "kernelspec": {
   "display_name": "cfp",
   "language": "python",
   "name": "cfp"
  },
  "language_info": {
   "codemirror_mode": {
    "name": "ipython",
    "version": 3
   },
   "file_extension": ".py",
   "mimetype": "text/x-python",
   "name": "python",
   "nbconvert_exporter": "python",
   "pygments_lexer": "ipython3",
   "version": "3.11.9"
  }
 },
 "nbformat": 4,
 "nbformat_minor": 5
}
