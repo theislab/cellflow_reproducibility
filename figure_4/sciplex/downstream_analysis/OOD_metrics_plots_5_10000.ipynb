{
 "cells": [
  {
   "cell_type": "code",
   "execution_count": 1,
   "id": "c133c1a9-2cd8-44f6-be9a-3a79c788cc12",
   "metadata": {},
   "outputs": [
    {
     "name": "stderr",
     "output_type": "stream",
     "text": [
      "Warning message:\n",
      "“package ‘tidyverse’ was built under R version 4.2.3”\n",
      "Warning message:\n",
      "“package ‘tibble’ was built under R version 4.2.3”\n",
      "Warning message:\n",
      "“package ‘readr’ was built under R version 4.2.3”\n",
      "Warning message:\n",
      "“package ‘purrr’ was built under R version 4.2.3”\n",
      "Warning message:\n",
      "“package ‘dplyr’ was built under R version 4.2.3”\n",
      "Warning message:\n",
      "“package ‘stringr’ was built under R version 4.2.3”\n",
      "Warning message:\n",
      "“package ‘forcats’ was built under R version 4.2.3”\n",
      "Warning message:\n",
      "“package ‘lubridate’ was built under R version 4.2.3”\n",
      "── \u001b[1mAttaching core tidyverse packages\u001b[22m ──────────────────────── tidyverse 2.0.0 ──\n",
      "\u001b[32m✔\u001b[39m \u001b[34mdplyr    \u001b[39m 1.1.4     \u001b[32m✔\u001b[39m \u001b[34mreadr    \u001b[39m 2.1.4\n",
      "\u001b[32m✔\u001b[39m \u001b[34mforcats  \u001b[39m 1.0.0     \u001b[32m✔\u001b[39m \u001b[34mstringr  \u001b[39m 1.5.1\n",
      "\u001b[32m✔\u001b[39m \u001b[34mggplot2  \u001b[39m 3.5.1     \u001b[32m✔\u001b[39m \u001b[34mtibble   \u001b[39m 3.2.1\n",
      "\u001b[32m✔\u001b[39m \u001b[34mlubridate\u001b[39m 1.9.3     \u001b[32m✔\u001b[39m \u001b[34mtidyr    \u001b[39m 1.3.1\n",
      "\u001b[32m✔\u001b[39m \u001b[34mpurrr    \u001b[39m 1.0.2     \n",
      "── \u001b[1mConflicts\u001b[22m ────────────────────────────────────────── tidyverse_conflicts() ──\n",
      "\u001b[31m✖\u001b[39m \u001b[34mdplyr\u001b[39m::\u001b[32mfilter()\u001b[39m masks \u001b[34mstats\u001b[39m::filter()\n",
      "\u001b[31m✖\u001b[39m \u001b[34mdplyr\u001b[39m::\u001b[32mlag()\u001b[39m    masks \u001b[34mstats\u001b[39m::lag()\n",
      "\u001b[36mℹ\u001b[39m Use the conflicted package (\u001b[3m\u001b[34m<http://conflicted.r-lib.org/>\u001b[39m\u001b[23m) to force all conflicts to become errors\n",
      "also installing the dependencies ‘sysfonts’, ‘showtextdb’\n",
      "\n",
      "\n",
      "Warning message in install.packages(\"showtext\"):\n",
      "“installation of package ‘sysfonts’ had non-zero exit status”\n",
      "Warning message in install.packages(\"showtext\"):\n",
      "“installation of package ‘showtextdb’ had non-zero exit status”\n",
      "Warning message in install.packages(\"showtext\"):\n",
      "“installation of package ‘showtext’ had non-zero exit status”\n",
      "Registering fonts with R\n",
      "\n"
     ]
    },
    {
     "name": "stdin",
     "output_type": "stream",
     "text": [
      "Importing fonts may take a few minutes, depending on the number of fonts and the speed of the system.\n",
      "Continue? [y/n]  y\n"
     ]
    },
    {
     "name": "stderr",
     "output_type": "stream",
     "text": [
      "Scanning ttf files in /usr/share/fonts/ ...\n",
      "\n",
      "Extracting .afm files from .ttf files...\n",
      "\n",
      "/usr/share/fonts/dejavu-sans-fonts/DejaVuSans-Bold.ttf\n",
      " : DejaVuSans-Bold already registered in fonts database. Skipping.\n",
      "\n",
      "/usr/share/fonts/dejavu-sans-fonts/DejaVuSans-BoldOblique.ttf\n",
      " : DejaVuSans-BoldOblique already registered in fonts database. Skipping.\n",
      "\n",
      "/usr/share/fonts/dejavu-sans-fonts/DejaVuSans-ExtraLight.ttf\n",
      " : DejaVuSans-ExtraLight already registered in fonts database. Skipping.\n",
      "\n",
      "/usr/share/fonts/dejavu-sans-fonts/DejaVuSans-Oblique.ttf\n",
      " : DejaVuSans-Oblique already registered in fonts database. Skipping.\n",
      "\n",
      "/usr/share/fonts/dejavu-sans-fonts/DejaVuSans.ttf\n",
      " : DejaVuSans already registered in fonts database. Skipping.\n",
      "\n",
      "/usr/share/fonts/dejavu-sans-fonts/DejaVuSansCondensed-Bold.ttf\n",
      " : DejaVuSansCondensed-Bold already registered in fonts database. Skipping.\n",
      "\n",
      "/usr/share/fonts/dejavu-sans-fonts/DejaVuSansCondensed-BoldOblique.ttf\n",
      " : DejaVuSansCondensed-BoldOblique already registered in fonts database. Skipping.\n",
      "\n",
      "/usr/share/fonts/dejavu-sans-fonts/DejaVuSansCondensed-Oblique.ttf\n",
      " : DejaVuSansCondensed-Oblique already registered in fonts database. Skipping.\n",
      "\n",
      "/usr/share/fonts/dejavu-sans-fonts/DejaVuSansCondensed.ttf\n",
      " : DejaVuSansCondensed already registered in fonts database. Skipping.\n",
      "\n",
      "/usr/share/fonts/dejavu-sans-mono-fonts/DejaVuSansMono-Bold.ttf\n",
      " : DejaVuSansMono-Bold already registered in fonts database. Skipping.\n",
      "\n",
      "/usr/share/fonts/dejavu-sans-mono-fonts/DejaVuSansMono-BoldOblique.ttf\n",
      " : DejaVuSansMono-BoldOblique already registered in fonts database. Skipping.\n",
      "\n",
      "/usr/share/fonts/dejavu-sans-mono-fonts/DejaVuSansMono-Oblique.ttf\n",
      " : DejaVuSansMono-Oblique already registered in fonts database. Skipping.\n",
      "\n",
      "/usr/share/fonts/dejavu-sans-mono-fonts/DejaVuSansMono.ttf\n",
      " : DejaVuSansMono already registered in fonts database. Skipping.\n",
      "\n",
      "/usr/share/fonts/google-droid-sans-fonts/DroidKufi-Bold.ttf\n",
      " : DroidArabicKufi-Bold already registered in fonts database. Skipping.\n",
      "\n",
      "/usr/share/fonts/google-droid-sans-fonts/DroidKufi-Regular.ttf\n",
      " : DroidArabicKufi already registered in fonts database. Skipping.\n",
      "\n",
      "/usr/share/fonts/google-droid-sans-fonts/DroidSans-Bold.ttf\n",
      " : DroidSans-Bold already registered in fonts database. Skipping.\n",
      "\n",
      "/usr/share/fonts/google-droid-sans-fonts/DroidSans.ttf\n",
      " : DroidSans already registered in fonts database. Skipping.\n",
      "\n",
      "/usr/share/fonts/google-droid-sans-fonts/DroidSansArmenian.ttf\n",
      " : DroidSansArmenian already registered in fonts database. Skipping.\n",
      "\n",
      "/usr/share/fonts/google-droid-sans-fonts/DroidSansDevanagari-Regular.ttf\n",
      " : DroidSansDevanagari already registered in fonts database. Skipping.\n",
      "\n",
      "/usr/share/fonts/google-droid-sans-fonts/DroidSansEthiopic-Bold.ttf\n",
      " : DroidSansEthiopic-Bold already registered in fonts database. Skipping.\n",
      "\n",
      "/usr/share/fonts/google-droid-sans-fonts/DroidSansEthiopic-Regular.ttf\n",
      " : DroidSansEthiopic already registered in fonts database. Skipping.\n",
      "\n",
      "/usr/share/fonts/google-droid-sans-fonts/DroidSansFallbackFull.ttf\n",
      " : DroidSansFallback already registered in fonts database. Skipping.\n",
      "\n",
      "/usr/share/fonts/google-droid-sans-fonts/DroidSansGeorgian.ttf\n",
      " : DroidSansGeorgian already registered in fonts database. Skipping.\n",
      "\n",
      "/usr/share/fonts/google-droid-sans-fonts/DroidSansHebrew-Bold.ttf\n",
      " : DroidSansHebrew-Bold already registered in fonts database. Skipping.\n",
      "\n",
      "/usr/share/fonts/google-droid-sans-fonts/DroidSansHebrew-Regular.ttf\n",
      " : DroidSansHebrew already registered in fonts database. Skipping.\n",
      "\n",
      "/usr/share/fonts/google-droid-sans-fonts/DroidSansJapanese.ttf\n",
      "Warning message in system2(enc2native(ttf2pt1), c(args, shQuote(ttfiles[i]), shQuote(tmpfiles[i])), :\n",
      "“running command ''/ictstr01/home/icb/dominik.klein/mambaforge/envs/gene-regulatory-networks-atac/lib/R/library/Rttf2pt1/exec//ttf2pt1' -a -GfAe '/usr/share/fonts/google-droid-sans-fonts/DroidSansJapanese.ttf' '/tmp/RtmpFnZHJN/fonts/DroidSansJapanese' 2>&1' had status 1”\n",
      " : No FontName. Skipping.\n",
      "\n",
      "/usr/share/fonts/google-droid-sans-fonts/DroidSansTamil-Bold.ttf\n",
      " : DroidSansTamil-Bold already registered in fonts database. Skipping.\n",
      "\n",
      "/usr/share/fonts/google-droid-sans-fonts/DroidSansTamil-Regular.ttf\n",
      " : DroidSansTamil already registered in fonts database. Skipping.\n",
      "\n",
      "/usr/share/fonts/google-droid-sans-fonts/DroidSansThai.ttf\n",
      " : DroidSansThai already registered in fonts database. Skipping.\n",
      "\n",
      "Found FontName for 0 fonts.\n",
      "\n",
      "Scanning afm files in /ictstr01/home/icb/dominik.klein/mambaforge/envs/gene-regulatory-networks-atac/lib/R/library/extrafontdb/metrics\n",
      "\n",
      "Warning message:\n",
      "“\u001b[1m\u001b[22mThe `size` argument of `element_line()` is deprecated as of ggplot2 3.4.0.\n",
      "\u001b[36mℹ\u001b[39m Please use the `linewidth` argument instead.”\n"
     ]
    }
   ],
   "source": [
    "library(tidyverse)\n",
    "library(glue)\n",
    "library(dplyr)\n",
    "\n",
    "install.packages(\"showtext\")\n",
    "install.packages(\"extrafont\")\n",
    "library(extrafont)\n",
    "font_import()\n",
    "\n",
    "\n",
    "theme_rangeframe <- function(size = 0.3) {\n",
    "    theme(\n",
    "        axis.line = element_line(colour = \"black\", lineend = \"round\", size = size),\n",
    "        axis.ticks = element_line(linewidth = size),\n",
    "        panel.border = element_blank()\n",
    "    )\n",
    "}\n",
    "\n",
    "scale_axis_rangeframe <- function() {\n",
    "    guides(x = \"axis_truncated\", y = \"axis_truncated\")\n",
    "}\n",
    "\n",
    "rotate_x_text <- function(angle=45) {\n",
    "    theme(\n",
    "        axis.text.x = element_text(angle = angle, hjust = 1)\n",
    "    )\n",
    "}\n",
    "\n",
    "article_text <- function() {\n",
    "    theme(\n",
    "        text = element_text(size = 5, family = \"Helvetica\"),\n",
    "        title = element_text(size = 6),\n",
    "        axis.text.x = element_text(size = 5),\n",
    "        axis.text.y = element_text(size = 5)\n",
    "    )\n",
    "}\n",
    "\n",
    "no_legend <- function() {\n",
    "    theme(\n",
    "        legend.position = \"none\"\n",
    "    )\n",
    "}\n",
    "\n",
    "no_margin <- function() {\n",
    "    theme(\n",
    "        plot.margin = margin(0, 0, 0, 0, unit = \"lines\")\n",
    "    )\n",
    "}\n",
    "\n",
    "no_label <- function() {\n",
    "    theme(\n",
    "        axis.title = element_blank()\n",
    "    )\n",
    "}\n",
    "\n",
    "no_text <- function() {\n",
    "    theme(\n",
    "        axis.title = element_blank(),\n",
    "        axis.text = element_blank(),\n",
    "        axis.ticks = element_blank()\n",
    "    )\n",
    "}\n",
    "\n",
    "no_x_text <- function() {\n",
    "    theme(\n",
    "        axis.text.x = element_blank(),\n",
    "        axis.ticks.x = element_blank()\n",
    "    )\n",
    "}\n",
    "\n",
    "no_y_text <- function() {\n",
    "    theme(\n",
    "        axis.text.y = element_blank(),\n",
    "        axis.ticks.y = element_blank()\n",
    "    )\n",
    "}\n",
    "\n",
    "\n",
    "custom_theme <- function(size = 0.3){\n",
    "    theme_minimal() +\n",
    "    theme(\n",
    "        text = element_text(family='Helvetica'),\n",
    "        axis.line = element_line(colour = \"black\", lineend = \"round\", size = size),\n",
    "        axis.ticks = element_line(linewidth = size),\n",
    "        panel.border = element_blank()\n",
    "    )\n",
    "\n",
    "}\n",
    "theme_set(custom_theme())\n",
    "\n",
    "article_text <- function() {\n",
    "    theme(\n",
    "        text = element_text(size = 5, family = \"Helvetica\"),\n",
    "        title = element_text(size = 6),\n",
    "        axis.text.x = element_text(size = 5),\n",
    "        axis.text.y = element_text(size = 5)\n",
    "    )\n",
    "}\n"
   ]
  },
  {
   "cell_type": "code",
   "execution_count": 2,
   "id": "5da2601b-ae88-4591-8fe3-357502d0c27e",
   "metadata": {},
   "outputs": [],
   "source": [
    "color_dict = c(\n",
    "    \"CellFlow\"= \"#B12F8C\",\n",
    "    \"chemCPA\"= \"#A2E5E7\",\n",
    "    \"Biolord\"= \"#BD6DED\",\n",
    "    \"Identity\"=\"#BDBDBD\",\n",
    "    \"CondOT\"=\"#DEA1A6\")"
   ]
  },
  {
   "cell_type": "code",
   "execution_count": 3,
   "id": "b0d458d0-3a8e-46f8-ac65-250ea178a3b6",
   "metadata": {},
   "outputs": [],
   "source": [
    "split_to_filter <- 5\n",
    "dosage_to_filter <- \"10000\\\\.0$\"\n",
    "dosage_to_filter_str <- sub(\"\\\\\\\\.*\", \"\", dosage_to_filter)"
   ]
  },
  {
   "cell_type": "code",
   "execution_count": 4,
   "id": "6663e14c-9a31-4985-b5d1-d8955fdfd48e",
   "metadata": {},
   "outputs": [],
   "source": [
    "output_dir <- glue(\"/lustre/groups/ml01/workspace/ot_perturbation/figures/sciplex/benchmark/plots_{split_to_filter}_{dosage_to_filter_str}\")"
   ]
  },
  {
   "cell_type": "code",
   "execution_count": 5,
   "id": "3cbc2e4e-7605-4daa-b0fa-27530ca6ed41",
   "metadata": {},
   "outputs": [
    {
     "data": {
      "text/html": [
       "'/lustre/groups/ml01/workspace/ot_perturbation/figures/sciplex/benchmark/plots_5_10000'"
      ],
      "text/latex": [
       "'/lustre/groups/ml01/workspace/ot\\_perturbation/figures/sciplex/benchmark/plots\\_5\\_10000'"
      ],
      "text/markdown": [
       "'/lustre/groups/ml01/workspace/ot_perturbation/figures/sciplex/benchmark/plots_5_10000'"
      ],
      "text/plain": [
       "/lustre/groups/ml01/workspace/ot_perturbation/figures/sciplex/benchmark/plots_5_10000"
      ]
     },
     "metadata": {},
     "output_type": "display_data"
    }
   ],
   "source": [
    "output_dir"
   ]
  },
  {
   "cell_type": "markdown",
   "id": "86e55c4e-6808-4de4-a220-6cc11088e9de",
   "metadata": {},
   "source": [
    "# Decoded"
   ]
  },
  {
   "cell_type": "code",
   "execution_count": 6,
   "id": "b1b0e4fd-dc2f-466a-aa84-54025bd73f7e",
   "metadata": {},
   "outputs": [
    {
     "name": "stderr",
     "output_type": "stream",
     "text": [
      "\u001b[1m\u001b[22mNew names:\n",
      "\u001b[36m•\u001b[39m `` -> `...1`\n",
      "\u001b[1mRows: \u001b[22m\u001b[34m11040\u001b[39m \u001b[1mColumns: \u001b[22m\u001b[34m6\u001b[39m\n",
      "\u001b[36m──\u001b[39m \u001b[1mColumn specification\u001b[22m \u001b[36m────────────────────────────────────────────────────────\u001b[39m\n",
      "\u001b[1mDelimiter:\u001b[22m \",\"\n",
      "\u001b[31mchr\u001b[39m (3): model, metric, variable\n",
      "\u001b[32mdbl\u001b[39m (3): ...1, value, split\n",
      "\n",
      "\u001b[36mℹ\u001b[39m Use `spec()` to retrieve the full column specification for this data.\n",
      "\u001b[36mℹ\u001b[39m Specify the column types or set `show_col_types = FALSE` to quiet this message.\n"
     ]
    }
   ],
   "source": [
    "results_decoded <- read_csv(\"/lustre/groups/ml01/workspace/ot_perturbation/data/sciplex/results/allocation/ood_metrics_decoded.csv\") \n",
    "results_decoded <- results_decoded %>%\n",
    "  filter(grepl(dosage_to_filter, variable) & split == split_to_filter)\n",
    "\n"
   ]
  },
  {
   "cell_type": "code",
   "execution_count": 7,
   "id": "5ba2632a-d773-4311-ae6d-5468a2b79c4e",
   "metadata": {},
   "outputs": [
    {
     "data": {
      "image/png": "[encoded data removed]",
      "text/plain": [
       "plot without title"
      ]
     },
     "metadata": {
      "image/png": {
       "height": 240,
       "width": 180
      }
     },
     "output_type": "display_data"
    }
   ],
   "source": [
    "options(repr.plot.width = 3.0, repr.plot.height = 4.0, unit=\"cm\")\n",
    "\n",
    "results_decoded$model <- factor(results_decoded$model, \n",
    "                            levels = c(\"id\", \"condot\", \"chemCPA\", \"biolord\", \"otfm\"),\n",
    "                            labels = c(\"Identity\", \"CondOT\", \"chemCPA\", \"Biolord\", \"CellFlow\"))  # Correct factorization\n",
    "\n",
    "p <- ggplot(results_decoded, aes(x=model, y=value, fill=model)) +\n",
    "  geom_boxplot(size=0.2,  width=0.8, outlier.size=0.2, outlier.shape=16) +\n",
    "  labs(x=\"Model\", y=glue(\"R squared\")) +\n",
    "  scale_fill_manual(values=color_dict) +  # Removed labels argument\n",
    "  custom_theme() +\n",
    "article_text() +\n",
    "no_legend() +\n",
    "theme(\n",
    "    panel.grid.major=element_blank(), \n",
    "    panel.grid.minor=element_blank()\n",
    ")\n",
    "p"
   ]
  },
  {
   "cell_type": "code",
   "execution_count": 8,
   "id": "33ea4f16-7e78-4500-9f89-dcc63f9ad81f",
   "metadata": {},
   "outputs": [],
   "source": [
    "ggsave(file.path(output_dir, \"ood_r_squared_decoded.pdf\"), plot = p, device = \"pdf\", width = 3.0, height = 4.0, unit=\"cm\")"
   ]
  },
  {
   "cell_type": "markdown",
   "id": "fa587cc5-4688-4a34-80f3-5609bc64e1ce",
   "metadata": {},
   "source": [
    "# Encoded"
   ]
  },
  {
   "cell_type": "code",
   "execution_count": 9,
   "id": "d86ce5b2-4092-42e1-86e9-8f448c679725",
   "metadata": {},
   "outputs": [
    {
     "name": "stderr",
     "output_type": "stream",
     "text": [
      "\u001b[1m\u001b[22mNew names:\n",
      "\u001b[36m•\u001b[39m `` -> `...1`\n",
      "\u001b[1mRows: \u001b[22m\u001b[34m44160\u001b[39m \u001b[1mColumns: \u001b[22m\u001b[34m6\u001b[39m\n",
      "\u001b[36m──\u001b[39m \u001b[1mColumn specification\u001b[22m \u001b[36m────────────────────────────────────────────────────────\u001b[39m\n",
      "\u001b[1mDelimiter:\u001b[22m \",\"\n",
      "\u001b[31mchr\u001b[39m (3): model, metric, variable\n",
      "\u001b[32mdbl\u001b[39m (3): ...1, value, split\n",
      "\n",
      "\u001b[36mℹ\u001b[39m Use `spec()` to retrieve the full column specification for this data.\n",
      "\u001b[36mℹ\u001b[39m Specify the column types or set `show_col_types = FALSE` to quiet this message.\n"
     ]
    }
   ],
   "source": [
    "results_encoded <- read_csv(\"/lustre/groups/ml01/workspace/ot_perturbation/data/sciplex/results/allocation/ood_metrics_encoded.csv\") \n",
    "results_encoded <- results_encoded %>%\n",
    "  filter(grepl(dosage_to_filter, variable) & split == split_to_filter)\n"
   ]
  },
  {
   "cell_type": "code",
   "execution_count": 10,
   "id": "2b20430a-37b6-4520-bf39-e5a77df02e20",
   "metadata": {},
   "outputs": [
    {
     "data": {
      "image/png": "[encoded data removed]",
      "text/plain": [
       "plot without title"
      ]
     },
     "metadata": {
      "image/png": {
       "height": 240,
       "width": 180
      }
     },
     "output_type": "display_data"
    }
   ],
   "source": [
    "options(repr.plot.width = 3.0, repr.plot.height = 4.0, unit=\"cm\")\n",
    "\n",
    "results <- results_encoded %>% filter(metric == \"e_distance\")\n",
    "\n",
    "results$model <- factor(results$model, \n",
    "                                levels = c(\"id\", \"condot\", \"chemCPA\", \"biolord\", \"otfm\"),\n",
    "                                labels = c(\"Identity\", \"CondOT\", \"chemCPA\", \"Biolord\", \"CellFlow\"))  # Correct factorization\n",
    "\n",
    "p <- ggplot(results, aes(x=model, y=value, fill=model)) +\n",
    "  geom_boxplot(size=0.2,  width=0.8, outlier.size=0.2, outlier.shape=16) +\n",
    "  labs(y=\"Energy distance\") +\n",
    "  scale_fill_manual(values=color_dict) +  # Removed labels argument\n",
    "  custom_theme() +\n",
    "article_text() +\n",
    "no_legend() +\n",
    "scale_y_log10() +\n",
    "theme(\n",
    "    panel.grid.major=element_blank(), \n",
    "    panel.grid.minor=element_blank()\n",
    ")\n",
    "p"
   ]
  },
  {
   "cell_type": "code",
   "execution_count": 11,
   "id": "23669806-d4bb-464a-91c4-61b5b51cdbf5",
   "metadata": {},
   "outputs": [],
   "source": [
    "ggsave(file.path(output_dir, \"ood_e_distance_encoded.pdf\"), plot = p, device = \"pdf\", width = 3.0, height = 4.0, unit=\"cm\")"
   ]
  },
  {
   "cell_type": "code",
   "execution_count": 12,
   "id": "448a2cdc-fbb9-4d52-92e6-00faa6d7a484",
   "metadata": {},
   "outputs": [
    {
     "data": {
      "image/png": "[encoded data removed]",
      "text/plain": [
       "plot without title"
      ]
     },
     "metadata": {
      "image/png": {
       "height": 240,
       "width": 180
      }
     },
     "output_type": "display_data"
    }
   ],
   "source": [
    "options(repr.plot.width = 3.0, repr.plot.height = 4.0, unit=\"cm\")\n",
    "\n",
    "results <- results_encoded %>% filter(metric == \"mmd\")\n",
    "\n",
    "results$model <- factor(results$model, \n",
    "                                levels = c(\"id\", \"condot\", \"chemCPA\", \"biolord\", \"otfm\"),\n",
    "                                labels = c(\"Identity\", \"CondOT\", \"chemCPA\", \"Biolord\", \"CellFlow\"))  # Correct factorization\n",
    "\n",
    "p <- ggplot(results, aes(x=model, y=value, fill=model)) +\n",
    "  geom_boxplot(size=0.2,  width=0.8, outlier.size=0.2, outlier.shape=16) +\n",
    "  labs(x=\"Model\", y=\"MMD\") +\n",
    "  scale_fill_manual(values=color_dict) +  # Removed labels argument\n",
    "  custom_theme() +\n",
    "article_text() +\n",
    "scale_y_log10() +\n",
    "no_legend() +\n",
    "theme(\n",
    "    panel.grid.major=element_blank(), \n",
    "    panel.grid.minor=element_blank()\n",
    ")\n",
    "p"
   ]
  },
  {
   "cell_type": "code",
   "execution_count": 13,
   "id": "d55231f8-7d40-4e65-a3f5-5ba681c39b20",
   "metadata": {},
   "outputs": [],
   "source": [
    "ggsave(file.path(output_dir, \"ood_mmd_distance_encoded.pdf\"), plot = p, device = \"pdf\", width = 3.0, height = 4.0, unit=\"cm\")"
   ]
  },
  {
   "cell_type": "code",
   "execution_count": 14,
   "id": "5166e3b2-fc5e-4faa-b9c5-558d99bc628f",
   "metadata": {},
   "outputs": [
    {
     "data": {
      "image/png": "[encoded data removed]",
      "text/plain": [
       "plot without title"
      ]
     },
     "metadata": {
      "image/png": {
       "height": 240,
       "width": 180
      }
     },
     "output_type": "display_data"
    }
   ],
   "source": [
    "options(repr.plot.width = 3.0, repr.plot.height = 4.0, unit=\"cm\")\n",
    "\n",
    "results <- results_encoded %>% filter(metric == \"sinkhorn_div\")\n",
    "\n",
    "results$model <- factor(results$model, \n",
    "                                levels = c(\"id\", \"condot\", \"chemCPA\", \"biolord\", \"otfm\"),\n",
    "                            labels = c(\"Identity\", \"CondOT\", \"chemCPA\", \"Biolord\", \"CellFlow\"))  # Correct factorization\n",
    "\n",
    "p <- ggplot(results, aes(x=model, y=value, fill=model)) +\n",
    "  geom_boxplot(size=0.2,  width=0.8, outlier.size=0.2, outlier.shape=16) +\n",
    "  labs(x=\"Model\", y=\"Sinkhorn divergence\") +\n",
    "  scale_fill_manual(values=color_dict) +  # Removed labels argument\n",
    "  custom_theme() +\n",
    "article_text() +\n",
    "scale_y_log10() +\n",
    "no_legend() +\n",
    "theme(\n",
    "    panel.grid.major=element_blank(), \n",
    "    panel.grid.minor=element_blank()\n",
    ")\n",
    "p"
   ]
  },
  {
   "cell_type": "code",
   "execution_count": 15,
   "id": "7ffb9bf0-72eb-46ad-a77b-dfd24ed1af07",
   "metadata": {},
   "outputs": [],
   "source": [
    "ggsave(file.path(output_dir, \"ood_sink_div_encoded.pdf\"), plot = p, device = \"pdf\", width = 3.0, height = 4.0, unit=\"cm\")"
   ]
  },
  {
   "cell_type": "markdown",
   "id": "c48398a4-714e-4e13-96d7-b4cd96186164",
   "metadata": {},
   "source": [
    "# DEG"
   ]
  },
  {
   "cell_type": "code",
   "execution_count": 16,
   "id": "535e0136-b74e-4a50-8ac7-9f53049eb0a5",
   "metadata": {},
   "outputs": [
    {
     "name": "stderr",
     "output_type": "stream",
     "text": [
      "\u001b[1m\u001b[22mNew names:\n",
      "\u001b[36m•\u001b[39m `` -> `...1`\n",
      "\u001b[1mRows: \u001b[22m\u001b[34m44160\u001b[39m \u001b[1mColumns: \u001b[22m\u001b[34m6\u001b[39m\n",
      "\u001b[36m──\u001b[39m \u001b[1mColumn specification\u001b[22m \u001b[36m────────────────────────────────────────────────────────\u001b[39m\n",
      "\u001b[1mDelimiter:\u001b[22m \",\"\n",
      "\u001b[31mchr\u001b[39m (3): model, metric, variable\n",
      "\u001b[32mdbl\u001b[39m (3): ...1, value, split\n",
      "\n",
      "\u001b[36mℹ\u001b[39m Use `spec()` to retrieve the full column specification for this data.\n",
      "\u001b[36mℹ\u001b[39m Specify the column types or set `show_col_types = FALSE` to quiet this message.\n"
     ]
    }
   ],
   "source": [
    "results_deg <- read_csv(\"/lustre/groups/ml01/workspace/ot_perturbation/data/sciplex/results/allocation/ood_metrics_deg.csv\") \n",
    "results_deg <- results_deg %>%\n",
    "  filter(grepl(dosage_to_filter, variable) & split == split_to_filter)\n"
   ]
  },
  {
   "cell_type": "code",
   "execution_count": 17,
   "id": "bca127a2-1494-4556-a90b-85a25e77d3c8",
   "metadata": {},
   "outputs": [
    {
     "name": "stderr",
     "output_type": "stream",
     "text": [
      "\u001b[1m\u001b[22mScale for \u001b[32mfill\u001b[39m is already present.\n",
      "Adding another scale for \u001b[32mfill\u001b[39m, which will replace the existing scale.\n"
     ]
    },
    {
     "data": {
      "image/png": "[encoded data removed]",
      "text/plain": [
       "plot without title"
      ]
     },
     "metadata": {
      "image/png": {
       "height": 240,
       "width": 180
      }
     },
     "output_type": "display_data"
    }
   ],
   "source": [
    "options(repr.plot.width = 3.0, repr.plot.height = 4.0, unit=\"cm\")\n",
    "\n",
    "results <- results_deg %>% filter(metric == \"r_squared\")\n",
    "\n",
    "\n",
    "results$model <- factor(results$model, \n",
    "                                levels = c(\"id\", \"condot\", \"chemCPA\", \"biolord\", \"otfm\"),\n",
    "                            labels = c(\"Identity\", \"CondOT\", \"chemCPA\", \"Biolord\", \"CellFlow\"))  # Correct factorization\n",
    "\n",
    "p <- ggplot(results, aes(x=model, y=value, fill=model)) +\n",
    "  geom_boxplot(size=0.2,  width=0.8, outlier.size=0.2, outlier.shape=16) +\n",
    "  labs(x=\"Model\", y=\"R squared DEG\") +\n",
    "    scale_fill_manual(values=color_dict) +\n",
    "  scale_fill_manual(values=color_dict) +  # Removed labels argument\n",
    "  custom_theme() +\n",
    "article_text() +\n",
    "no_legend() +\n",
    "theme(\n",
    "    panel.grid.major=element_blank(), \n",
    "    panel.grid.minor=element_blank()\n",
    ")\n",
    "p"
   ]
  },
  {
   "cell_type": "code",
   "execution_count": 18,
   "id": "31936c23-7afc-4c0a-a45f-dcd4e729bbfe",
   "metadata": {},
   "outputs": [],
   "source": [
    "ggsave(file.path(output_dir, \"ood_r_squared_deg.pdf\"), plot = p, device = \"pdf\", width = 3.0, height = 4.0, unit=\"cm\")"
   ]
  },
  {
   "cell_type": "code",
   "execution_count": null,
   "id": "8da4551b-a2d4-401c-baa5-7f56c1e6a382",
   "metadata": {},
   "outputs": [],
   "source": []
  }
 ],
 "metadata": {
  "kernelspec": {
   "display_name": "R",
   "language": "R",
   "name": "ir"
  },
  "language_info": {
   "codemirror_mode": "r",
   "file_extension": ".r",
   "mimetype": "text/x-r-source",
   "name": "R",
   "pygments_lexer": "r",
   "version": "4.2.2"
  }
 },
 "nbformat": 4,
 "nbformat_minor": 5
}
