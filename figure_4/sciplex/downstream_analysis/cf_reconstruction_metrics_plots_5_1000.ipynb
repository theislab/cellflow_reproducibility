{
 "cells": [
  {
   "cell_type": "code",
   "execution_count": null,
   "id": "c133c1a9-2cd8-44f6-be9a-3a79c788cc12",
   "metadata": {},
   "outputs": [],
   "source": [
    "library(tidyverse)\n",
    "library(glue)"
   ]
  },
  {
   "cell_type": "code",
   "execution_count": null,
   "id": "5da2601b-ae88-4591-8fe3-357502d0c27e",
   "metadata": {},
   "outputs": [],
   "source": [
    "color_dict = c(\n",
    "    \"CellFlow\"= \"#B12F8C\",\n",
    "    \"Optimal\"= \"#b8c88d\"\n",
    "    )"
   ]
  },
  {
   "cell_type": "code",
   "execution_count": null,
   "id": "b0d458d0-3a8e-46f8-ac65-250ea178a3b6",
   "metadata": {},
   "outputs": [],
   "source": [
    "split_to_filter <- 5\n",
    "dosage_to_filter <- \"1000\\\\.0$\"\n",
    "dosage_to_filter_str <- sub(\"\\\\\\\\.*\", \"\", dosage_to_filter)"
   ]
  },
  {
   "cell_type": "code",
   "execution_count": null,
   "id": "6663e14c-9a31-4985-b5d1-d8955fdfd48e",
   "metadata": {},
   "outputs": [],
   "source": [
    "output_dir <- glue(\"/lustre/groups/ml01/workspace/ot_perturbation/figures/sciplex/benchmark/plots_recon_{dosage_to_filter_str}\")"
   ]
  },
  {
   "cell_type": "code",
   "execution_count": null,
   "id": "3cbc2e4e-7605-4daa-b0fa-27530ca6ed41",
   "metadata": {},
   "outputs": [],
   "source": [
    "output_dir"
   ]
  },
  {
   "cell_type": "markdown",
   "id": "86e55c4e-6808-4de4-a220-6cc11088e9de",
   "metadata": {},
   "source": [
    "# Decoded"
   ]
  },
  {
   "cell_type": "code",
   "execution_count": null,
   "id": "b1b0e4fd-dc2f-466a-aa84-54025bd73f7e",
   "metadata": {},
   "outputs": [],
   "source": [
    "results_decoded <- read_csv(\"/lustre/groups/ml01/workspace/ot_perturbation/data/sciplex/results/allocation/recon_cf_metrics_decoded.csv\") \n",
    "results_decoded <- results_decoded %>%\n",
    "  filter(grepl(dosage_to_filter, variable) & split == split_to_filter)\n",
    "\n"
   ]
  },
  {
   "cell_type": "code",
   "execution_count": null,
   "id": "cd8e1101-5fb0-4e85-a900-d3930165f42c",
   "metadata": {},
   "outputs": [],
   "source": [
    "results_decoded$model <- factor(results_decoded$model, \n",
    "                            levels = c(\"recon\", \"otfm\"),\n",
    "                            labels = c(\"Optimal\", \"CellFlow\"))  # Correct factorization\n",
    "\n",
    "p <- ggplot(results_decoded, aes(x=metric, y=value, fill=model)) +\n",
    "  geom_boxplot(outlier.size=2) +\n",
    "  labs(x=\"Model\", y=glue(\"R squared normalized gene expression\")) +\n",
    "  scale_fill_manual(values=color_dict) +  # Removed labels argument\n",
    "  scale_x_discrete(labels=c(\"\")) +  # Keep this if you want no x-axis labels\n",
    "  theme_bw() +\n",
    "  theme(\n",
    "    axis.title.x = element_text(size=16, face=\"bold\"),\n",
    "    axis.title.y = element_text(size=16, face=\"bold\"),\n",
    "    axis.text.x = element_text(size=14),\n",
    "    axis.text.y = element_text(size=14),\n",
    "    legend.title = element_text(size=14),\n",
    "    legend.text = element_text(size=12),\n",
    "    legend.position = \"right\",\n",
    "    legend.box.background = element_rect(color=\"black\"),\n",
    "    panel.grid.major = element_blank(),\n",
    "    panel.grid.minor = element_blank()\n",
    "  )\n",
    "p"
   ]
  },
  {
   "cell_type": "code",
   "execution_count": null,
   "id": "33ea4f16-7e78-4500-9f89-dcc63f9ad81f",
   "metadata": {},
   "outputs": [],
   "source": [
    "ggsave(file.path(output_dir, \"ood_r_squared_decoded.pdf\"), plot = p, device = \"pdf\")"
   ]
  },
  {
   "cell_type": "markdown",
   "id": "fa587cc5-4688-4a34-80f3-5609bc64e1ce",
   "metadata": {},
   "source": [
    "# Encoded"
   ]
  },
  {
   "cell_type": "code",
   "execution_count": null,
   "id": "d86ce5b2-4092-42e1-86e9-8f448c679725",
   "metadata": {},
   "outputs": [],
   "source": [
    "results_encoded <- read_csv(\"/lustre/groups/ml01/workspace/ot_perturbation/data/sciplex/results/allocation/recon_cf_metrics_encoded.csv\") \n",
    "results_encoded <- results_encoded %>%\n",
    "  filter(grepl(dosage_to_filter, variable) & split == split_to_filter)\n"
   ]
  },
  {
   "cell_type": "code",
   "execution_count": null,
   "id": "2c784ee6-70ca-4ba2-9993-b10e7a757abe",
   "metadata": {},
   "outputs": [],
   "source": [
    "results <- results_encoded %>% filter(metric == \"r_squared\")\n",
    "\n",
    "results$model <- factor(results$model, \n",
    "                                levels = c(\"recon\", \"otfm\"),\n",
    "                            labels = c(\"Optimal\", \"CellFlow\"))  # Correct factorization\n",
    "\n",
    "p <- ggplot(results, aes(x=metric, y=value, fill=model)) +\n",
    "  geom_boxplot(outlier.size=2) +\n",
    "  labs(x=\"Model\", y=\"R squared latent space\") +\n",
    "  scale_fill_manual(values=color_dict) +\n",
    "  scale_x_discrete(labels=c(\"\")) +  # Change x-axis labels\n",
    "  theme_bw() +\n",
    "  theme(\n",
    "    axis.title.x = element_text(size=16, face=\"bold\"),\n",
    "    axis.title.y = element_text(size=16, face=\"bold\"),\n",
    "    axis.text.x = element_text(size=14),\n",
    "    axis.text.y = element_text(size=14),\n",
    "    legend.title = element_text(size=14),\n",
    "    legend.text = element_text(size=12),\n",
    "    legend.position = \"right\",\n",
    "    legend.box.background = element_rect(color=\"black\"),\n",
    "    panel.grid.major = element_blank(),\n",
    "    panel.grid.minor = element_blank()\n",
    "  )\n",
    "\n",
    "p"
   ]
  },
  {
   "cell_type": "code",
   "execution_count": null,
   "id": "9d0a9758-0388-447d-a7b8-56df83297153",
   "metadata": {},
   "outputs": [],
   "source": [
    "ggsave(file.path(output_dir, \"ood_r_squared_encoded.pdf\"), plot = p, device = \"pdf\")"
   ]
  },
  {
   "cell_type": "code",
   "execution_count": null,
   "id": "2b20430a-37b6-4520-bf39-e5a77df02e20",
   "metadata": {},
   "outputs": [],
   "source": [
    "results <- results_encoded %>% filter(metric == \"e_distance\")\n",
    "\n",
    "results$model <- factor(results$model, \n",
    "                                levels = c(\"recon\", \"otfm\"),\n",
    "                            labels = c(\"Optimal\", \"CellFlow\"))  # Correct factorization\n",
    "\n",
    "p <- ggplot(results, aes(x=metric, y=value, fill=model)) +\n",
    "  geom_boxplot(outlier.size=2) +\n",
    "  labs(x=\"Model\", y=\"Energy distance latent space\") +\n",
    "  scale_fill_manual(values=color_dict) +\n",
    "  scale_x_discrete(labels=c(\"\")) +  # Change x-axis labels\n",
    "  theme_bw() +\n",
    "  theme(\n",
    "    axis.title.x = element_text(size=16, face=\"bold\"),\n",
    "    axis.title.y = element_text(size=16, face=\"bold\"),\n",
    "    axis.text.x = element_text(size=14),\n",
    "    axis.text.y = element_text(size=14),\n",
    "    legend.title = element_text(size=14),\n",
    "    legend.text = element_text(size=12),\n",
    "    legend.position = \"right\",\n",
    "    legend.box.background = element_rect(color=\"black\"),\n",
    "    panel.grid.major = element_blank(),\n",
    "    panel.grid.minor = element_blank()\n",
    "  )\n",
    "p"
   ]
  },
  {
   "cell_type": "code",
   "execution_count": null,
   "id": "23669806-d4bb-464a-91c4-61b5b51cdbf5",
   "metadata": {},
   "outputs": [],
   "source": [
    "ggsave(file.path(output_dir, \"ood_e_distance_encoded.pdf\"), plot = p, device = \"pdf\")"
   ]
  },
  {
   "cell_type": "code",
   "execution_count": null,
   "id": "448a2cdc-fbb9-4d52-92e6-00faa6d7a484",
   "metadata": {},
   "outputs": [],
   "source": [
    "results <- results_encoded %>% filter(metric == \"mmd\")\n",
    "\n",
    "results$model <- factor(results$model, \n",
    "                                levels = c(\"recon\", \"otfm\"),\n",
    "                            labels = c(\"Optimal\", \"CellFlow\"))  # Correct factorization\n",
    "\n",
    "p <- ggplot(results, aes(x=metric, y=value, fill=model)) +\n",
    "  geom_boxplot(outlier.size=2) +\n",
    "  labs(x=\"Model\", y=\"MMD latent space\") +\n",
    "  scale_fill_manual(values=color_dict) +\n",
    "  scale_x_discrete(labels=c(\"\")) +  # Change x-axis labels\n",
    "  theme_bw() +\n",
    "  theme(\n",
    "    axis.title.x = element_text(size=16, face=\"bold\"),\n",
    "    axis.title.y = element_text(size=16, face=\"bold\"),\n",
    "    axis.text.x = element_text(size=14),\n",
    "    axis.text.y = element_text(size=14),\n",
    "    legend.title = element_text(size=14),\n",
    "    legend.text = element_text(size=12),\n",
    "    legend.position = \"right\",\n",
    "    legend.box.background = element_rect(color=\"black\"),\n",
    "    panel.grid.major = element_blank(),\n",
    "    panel.grid.minor = element_blank()\n",
    "  )\n",
    "p"
   ]
  },
  {
   "cell_type": "code",
   "execution_count": null,
   "id": "d55231f8-7d40-4e65-a3f5-5ba681c39b20",
   "metadata": {},
   "outputs": [],
   "source": [
    "ggsave(file.path(output_dir, \"ood_mmd_distance_encoded.pdf\"), plot = p, device = \"pdf\")"
   ]
  },
  {
   "cell_type": "code",
   "execution_count": null,
   "id": "5166e3b2-fc5e-4faa-b9c5-558d99bc628f",
   "metadata": {},
   "outputs": [],
   "source": [
    "results <- results_encoded %>% filter(metric == \"sinkhorn_div\")\n",
    "\n",
    "results$model <- factor(results$model, \n",
    "                                levels = c(\"recon\", \"otfm\"),\n",
    "                            labels = c(\"Optimal\", \"CellFlow\"))  # Correct factorization\n",
    "\n",
    "p <- ggplot(results, aes(x=metric, y=value, fill=model)) +\n",
    "  geom_boxplot(outlier.size=2) +\n",
    "  labs(x=\"Model\", y=\"Sinkhorn divergence latent space\") +\n",
    "  scale_fill_manual(values=color_dict, c(\"Baseline\", \"CondOT\", \"Biolord\", \"CellFlow\")) +\n",
    "  scale_x_discrete(labels=c(\"\")) +  # Change x-axis labels\n",
    "  theme_bw() +\n",
    "  theme(\n",
    "    axis.title.x = element_text(size=16, face=\"bold\"),\n",
    "    axis.title.y = element_text(size=16, face=\"bold\"),\n",
    "    axis.text.x = element_text(size=14),\n",
    "    axis.text.y = element_text(size=14),\n",
    "    legend.title = element_text(size=14),\n",
    "    legend.text = element_text(size=12),\n",
    "    legend.position = \"right\",\n",
    "    legend.box.background = element_rect(color=\"black\"),\n",
    "    panel.grid.major = element_blank(),\n",
    "    panel.grid.minor = element_blank()\n",
    "  )\n",
    "p"
   ]
  },
  {
   "cell_type": "code",
   "execution_count": null,
   "id": "7ffb9bf0-72eb-46ad-a77b-dfd24ed1af07",
   "metadata": {},
   "outputs": [],
   "source": [
    "ggsave(file.path(output_dir, \"ood_sink_div_encoded.pdf\"), plot = p, device = \"pdf\")"
   ]
  },
  {
   "cell_type": "markdown",
   "id": "c48398a4-714e-4e13-96d7-b4cd96186164",
   "metadata": {},
   "source": [
    "# DEG"
   ]
  },
  {
   "cell_type": "code",
   "execution_count": null,
   "id": "535e0136-b74e-4a50-8ac7-9f53049eb0a5",
   "metadata": {},
   "outputs": [],
   "source": [
    "results_deg <- read_csv(\"/lustre/groups/ml01/workspace/ot_perturbation/data/sciplex/results/allocation/recon_cf_metrics_deg.csv\") \n",
    "results_deg <- results_deg %>%\n",
    "  filter(grepl(dosage_to_filter, variable) & split == split_to_filter)\n"
   ]
  },
  {
   "cell_type": "code",
   "execution_count": null,
   "id": "bca127a2-1494-4556-a90b-85a25e77d3c8",
   "metadata": {},
   "outputs": [],
   "source": [
    "results <- results_deg %>% filter(metric == \"r_squared\")\n",
    "\n",
    "\n",
    "results$model <- factor(results$model, \n",
    "                                levels = c(\"recon\", \"otfm\"),\n",
    "                            labels = c(\"Optimal\", \"CellFlow\"))  # Correct factorization\n",
    "\n",
    "p <- ggplot(results, aes(x=metric, y=value, fill=model)) +\n",
    "  geom_boxplot(outlier.size=2) +\n",
    "  labs(x=\"Model\", y=\"R squared DEG\") +\n",
    "    scale_fill_manual(values=color_dict, c(\"Baseline\", \"CondOT\", \"Biolord\", \"CellFlow\")) +\n",
    "  scale_x_discrete(labels=c(\"\")) +  # Change x-axis labels\n",
    "  theme_bw() +\n",
    "  theme(\n",
    "    axis.title.x = element_text(size=16, face=\"bold\"),\n",
    "    axis.title.y = element_text(size=16, face=\"bold\"),\n",
    "    axis.text.x = element_text(size=14),\n",
    "    axis.text.y = element_text(size=14),\n",
    "    legend.title = element_text(size=14),\n",
    "    legend.text = element_text(size=12),\n",
    "    legend.position = \"right\",\n",
    "    legend.box.background = element_rect(color=\"black\"),\n",
    "    panel.grid.major = element_blank(),\n",
    "    panel.grid.minor = element_blank()\n",
    "  )\n",
    "p"
   ]
  },
  {
   "cell_type": "code",
   "execution_count": null,
   "id": "31936c23-7afc-4c0a-a45f-dcd4e729bbfe",
   "metadata": {},
   "outputs": [],
   "source": [
    "ggsave(file.path(output_dir, \"ood_r_squared_deg.pdf\"), plot = p, device = \"pdf\")"
   ]
  },
  {
   "cell_type": "code",
   "execution_count": null,
   "id": "27b638b4-69db-4b79-be01-14df3c8333ea",
   "metadata": {},
   "outputs": [],
   "source": [
    "results <- results_deg %>% filter(metric == \"sinkhorn_div\")\n",
    "\n",
    "\n",
    "results$model <- factor(results$model, \n",
    "                                levels = c(\"recon\", \"otfm\"),\n",
    "                            labels = c(\"Optimal\", \"CellFlow\"))  # Correct factorization\n",
    "\n",
    "p <- ggplot(results, aes(x=metric, y=value, fill=model)) +\n",
    "  geom_boxplot(outlier.size=2) +\n",
    "  labs(x=\"Model\", y=\"Sinkhorn divergence DEG\") +\n",
    "    scale_fill_manual(values=color_dict) +\n",
    "  scale_x_discrete(labels=c(\"\")) +  # Change x-axis labels\n",
    "  theme_bw() +\n",
    "  theme(\n",
    "    axis.title.x = element_text(size=16, face=\"bold\"),\n",
    "    axis.title.y = element_text(size=16, face=\"bold\"),\n",
    "    axis.text.x = element_text(size=14),\n",
    "    axis.text.y = element_text(size=14),\n",
    "    legend.title = element_text(size=14),\n",
    "    legend.text = element_text(size=12),\n",
    "    legend.position = \"right\",\n",
    "    legend.box.background = element_rect(color=\"black\"),\n",
    "    panel.grid.major = element_blank(),\n",
    "    panel.grid.minor = element_blank()\n",
    "  )\n",
    "p"
   ]
  },
  {
   "cell_type": "code",
   "execution_count": null,
   "id": "09beb9af-3d06-461f-b5c5-8e3b9786ac6a",
   "metadata": {},
   "outputs": [],
   "source": [
    "ggsave(file.path(output_dir, \"ood_sink_div_deg.pdf\"), plot = p, device = \"pdf\")"
   ]
  },
  {
   "cell_type": "code",
   "execution_count": null,
   "id": "1fc46902-3b42-4202-a9d0-c060931ae9a2",
   "metadata": {},
   "outputs": [],
   "source": [
    "results <- results_deg %>% filter(metric == \"e_distance\")\n",
    "\n",
    "\n",
    "results$model <- factor(results$model, \n",
    "                                levels = c(\"recon\", \"otfm\"),\n",
    "                            labels = c(\"Optimal\", \"CellFlow\"))  # Correct factorization\n",
    "p <- ggplot(results, aes(x=metric, y=value, fill=model)) +\n",
    "  geom_boxplot(outlier.size=2) +\n",
    "  labs(x=\"Model\", y=\"Energy distance DEG\") +\n",
    "    scale_fill_manual(values=color_dict) +\n",
    "  scale_x_discrete(labels=c(\"\")) +  # Change x-axis labels\n",
    "  theme_bw() +\n",
    "  theme(\n",
    "    axis.title.x = element_text(size=16, face=\"bold\"),\n",
    "    axis.title.y = element_text(size=16, face=\"bold\"),\n",
    "    axis.text.x = element_text(size=14),\n",
    "    axis.text.y = element_text(size=14),\n",
    "    legend.title = element_text(size=14),\n",
    "    legend.text = element_text(size=12),\n",
    "    legend.position = \"right\",\n",
    "    legend.box.background = element_rect(color=\"black\"),\n",
    "    panel.grid.major = element_blank(),\n",
    "    panel.grid.minor = element_blank()\n",
    "  )\n",
    "p"
   ]
  },
  {
   "cell_type": "code",
   "execution_count": null,
   "id": "9f92eaa5-6819-4735-8054-666f2c341025",
   "metadata": {},
   "outputs": [],
   "source": [
    "ggsave(file.path(output_dir, \"ood_e_distance_deg.pdf\"), plot = p, device = \"pdf\")"
   ]
  },
  {
   "cell_type": "code",
   "execution_count": null,
   "id": "50450d9e-a159-41c5-8b91-846eaf5c6c40",
   "metadata": {},
   "outputs": [],
   "source": [
    "results <- results_deg %>% filter(metric == \"mmd\")\n",
    "\n",
    "\n",
    "results$model <- factor(results$model, \n",
    "                                levels = c(\"recon\", \"otfm\"),\n",
    "                            labels = c(\"Optimal\", \"CellFlow\"))  # Correct factorization\n",
    "\n",
    "p <- ggplot(results, aes(x=metric, y=value, fill=model)) +\n",
    "  geom_boxplot(outlier.size=2) +\n",
    "  labs(x=\"Model\", y=\"MMD DEG\") +\n",
    "    scale_fill_manual(values=color_dict) +\n",
    "  scale_x_discrete(labels=c(\"\")) +  # Change x-axis labels\n",
    "  theme_bw() +\n",
    "  theme(\n",
    "    axis.title.x = element_text(size=16, face=\"bold\"),\n",
    "    axis.title.y = element_text(size=16, face=\"bold\"),\n",
    "    axis.text.x = element_text(size=14),\n",
    "    axis.text.y = element_text(size=14),\n",
    "    legend.title = element_text(size=14),\n",
    "    legend.text = element_text(size=12),\n",
    "    legend.position = \"right\",\n",
    "    legend.box.background = element_rect(color=\"black\"),\n",
    "    panel.grid.major = element_blank(),\n",
    "    panel.grid.minor = element_blank()\n",
    "  )\n",
    "p"
   ]
  },
  {
   "cell_type": "code",
   "execution_count": null,
   "id": "7b1ebb37-a33d-4186-9208-7a12fe51575e",
   "metadata": {},
   "outputs": [],
   "source": [
    "ggsave(file.path(output_dir, \"ood_mmd_deg.pdf\"), plot = p, device = \"pdf\")"
   ]
  },
  {
   "cell_type": "code",
   "execution_count": null,
   "id": "8da4551b-a2d4-401c-baa5-7f56c1e6a382",
   "metadata": {},
   "outputs": [],
   "source": []
  }
 ],
 "metadata": {
  "kernelspec": {
   "display_name": "R",
   "language": "R",
   "name": "ir"
  },
  "language_info": {
   "codemirror_mode": "r",
   "file_extension": ".r",
   "mimetype": "text/x-r-source",
   "name": "R",
   "pygments_lexer": "r",
   "version": "4.2.2"
  }
 },
 "nbformat": 4,
 "nbformat_minor": 5
}
