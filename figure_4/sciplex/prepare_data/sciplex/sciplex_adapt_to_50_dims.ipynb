{
 "cells": [
  {
   "cell_type": "code",
   "execution_count": 1,
   "id": "86eb5c2a-cb57-45a9-a7e5-413ad1e6c0fe",
   "metadata": {},
   "outputs": [
    {
     "name": "stderr",
     "output_type": "stream",
     "text": [
      "/home/icb/dominik.klein/mambaforge/envs/cfp/lib/python3.11/site-packages/optuna/study/_optimize.py:29: TqdmWarning: IProgress not found. Please update jupyter and ipywidgets. See https://ipywidgets.readthedocs.io/en/stable/user_install.html\n",
      "  from optuna import progress_bar as pbar_module\n"
     ]
    }
   ],
   "source": [
    "import numpy as np\n",
    "import pandas as pd\n",
    "import scanpy as sc\n",
    "import anndata\n",
    "import os\n",
    "from cfp import preprocessing as cfpp"
   ]
  },
  {
   "cell_type": "code",
   "execution_count": 2,
   "id": "eff2249a-2172-4a6f-80e2-54374918cd11",
   "metadata": {},
   "outputs": [],
   "source": [
    "dir = \"/lustre/groups/ml01/workspace/ot_perturbation/data/sciplex\"\n",
    "output_dir = dir"
   ]
  },
  {
   "cell_type": "code",
   "execution_count": 3,
   "id": "6dc2c656-e840-4f6a-82ec-ac522106551a",
   "metadata": {},
   "outputs": [],
   "source": [
    "for i in range(5):\n",
    "    adata_train = sc.read_h5ad(os.path.join(dir, f\"adata_train_{i+1}.h5ad\"))\n",
    "    adata_test = sc.read_h5ad(os.path.join(dir, f\"adata_test_{i+1}.h5ad\"))\n",
    "    adata_ood = sc.read_h5ad(os.path.join(dir, f\"adata_ood_{i+1}.h5ad\"))\n",
    "    \n",
    "    cfpp.centered_pca(adata_train, n_comps=50)\n",
    "    cfpp.project_pca(query_adata = adata_test, ref_adata=adata_train)\n",
    "    cfpp.project_pca(query_adata = adata_ood, ref_adata=adata_train)\n",
    "    \n",
    "    adata_train.varm[\"X_mean\"] = np.asarray(adata_train.varm[\"X_mean\"])\n",
    "    adata_train.write(os.path.join(output_dir, f\"adata_train_{i+11}.h5ad\"))\n",
    "    adata_ood.write(os.path.join(output_dir, f\"adata_ood_{i+11}.h5ad\"))\n",
    "    adata_test.write(os.path.join(output_dir, f\"adata_test_{i+11}.h5ad\"))"
   ]
  },
  {
   "cell_type": "code",
   "execution_count": null,
   "id": "e82cb987-4b05-47c6-ae6b-e82bf1578e8a",
   "metadata": {},
   "outputs": [],
   "source": []
  }
 ],
 "metadata": {
  "kernelspec": {
   "display_name": "cfp",
   "language": "python",
   "name": "cfp"
  },
  "language_info": {
   "codemirror_mode": {
    "name": "ipython",
    "version": 3
   },
   "file_extension": ".py",
   "mimetype": "text/x-python",
   "name": "python",
   "nbconvert_exporter": "python",
   "pygments_lexer": "ipython3",
   "version": "3.11.9"
  }
 },
 "nbformat": 4,
 "nbformat_minor": 5
}
