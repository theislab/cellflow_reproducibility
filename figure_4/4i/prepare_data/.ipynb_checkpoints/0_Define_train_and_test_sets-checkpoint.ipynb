{
 "cells": [
  {
   "cell_type": "code",
   "execution_count": 1,
   "id": "8f75d5ed",
   "metadata": {},
   "outputs": [],
   "source": [
    "# In order to always have the same set for training and for evaluation I do the split here and\n",
    "# then load it into each model"
   ]
  },
  {
   "cell_type": "code",
   "execution_count": 2,
   "id": "56689105",
   "metadata": {},
   "outputs": [],
   "source": [
    "import matplotlib.pyplot as plt\n",
    "import seaborn as sns\n",
    "import scanpy as sc\n",
    "import pandas as pd\n",
    "import anndata"
   ]
  },
  {
   "cell_type": "code",
   "execution_count": 16,
   "id": "b9ee546a",
   "metadata": {},
   "outputs": [
    {
     "data": {
      "text/plain": [
       "AnnData object with n_obs × n_vars = 119479 × 78\n",
       "    obs: 'drug'\n",
       "    var: 'cell_part', 'measurement', 'stat', 'feature', 'original'\n",
       "    uns: 'source'"
      ]
     },
     "execution_count": 16,
     "metadata": {},
     "output_type": "execute_result"
    }
   ],
   "source": [
    "drugs = pd.read_csv('/lustre/groups/ml01/projects/CellOT_comparison/cellflow/data/4i/drugs.txt', header=None)[0].values\n",
    "drugs = [a[:-1] if a!='vindesine' else a for a in drugs]\n",
    "adata = sc.read_h5ad('/lustre/groups/ml01/projects/CellOT_comparison/cellflow/data/4i/8h.h5ad')\n",
    "adata"
   ]
  },
  {
   "cell_type": "code",
   "execution_count": 17,
   "id": "dd311397",
   "metadata": {},
   "outputs": [
    {
     "data": {
      "text/plain": [
       "AnnData object with n_obs × n_vars = 97748 × 78\n",
       "    obs: 'drug'\n",
       "    var: 'cell_part', 'measurement', 'stat', 'feature', 'original'\n",
       "    uns: 'source'"
      ]
     },
     "execution_count": 17,
     "metadata": {},
     "output_type": "execute_result"
    }
   ],
   "source": [
    "adata = adata[adata.obs.drug.isin([*drugs, 'control'])].copy()\n",
    "adata"
   ]
  },
  {
   "cell_type": "code",
   "execution_count": 18,
   "id": "a2d32271",
   "metadata": {},
   "outputs": [],
   "source": [
    "frac = 0.4\n",
    "\n",
    "adata0 = adata[adata.obs.drug=='control'].copy()\n",
    "df_control_test = adata0.obs.sample(frac=frac)\n",
    "\n",
    "for d in drugs:\n",
    "    df_drug_test = adata[adata.obs.drug==d].obs.sample(frac=frac)\n",
    "    \n",
    "    dfc = adata[adata.obs.drug.isin(['control', d])].obs.copy()\n",
    "                \n",
    "    dfc['split'] = 'train'\n",
    "    dfc.loc[dfc.index.isin(df_control_test.index), 'split'] = 'test'\n",
    "    dfc.loc[dfc.index.isin(df_drug_test.index), 'split'] = 'test'\n",
    "    \n",
    "    dfc.to_csv(f'/lustre/groups/ml01/projects/CellOT_comparison/cellflow/data/splits/{d}.csv')"
   ]
  }
 ],
 "metadata": {
  "kernelspec": {
   "display_name": "Python 3 (ipykernel)",
   "language": "python",
   "name": "python3"
  },
  "language_info": {
   "codemirror_mode": {
    "name": "ipython",
    "version": 3
   },
   "file_extension": ".py",
   "mimetype": "text/x-python",
   "name": "python",
   "nbconvert_exporter": "python",
   "pygments_lexer": "ipython3",
   "version": "3.11.4"
  }
 },
 "nbformat": 4,
 "nbformat_minor": 5
}
