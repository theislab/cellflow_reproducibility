{
 "cells": [
  {
   "cell_type": "code",
   "execution_count": null,
   "id": "a5681553",
   "metadata": {},
   "outputs": [],
   "source": [
    "# Load the drugs into an array\n",
    "drugs=($(python -c \"import pandas as pd; drugs = pd.read_csv('/home/manu/Desktop/cellflow/data/4i/drugs.txt', header=None)[0].values; print(' '.join([a[:-1] if a != 'vindesine' else a for a in drugs]))\"))\n",
    "\n",
    "# Verify the array contents\n",
    "echo \"${drugs[@]}\"\n",
    "\n",
    "# Loop over each drug and run the scripts\n",
    "for k in \"${drugs[@]}\"; do\n",
    "    echo \"Processing drug: $k\"\n",
    "    \n",
    "    # Run train.py\n",
    "    python /home/manu/cellot-main/scripts/train.py --outdir /home/manu/cellot-main/results/4i/drug-$k/model-cellot --config /home/manu/cellot-main/configs/tasks/4i.yaml --config /home/manu/cellot-main/configs/models/cellot.yaml --config.data.target $k\n",
    "\n",
    "    # Run evaluate.py\n",
    "    python /home/manu/cellot-main/scripts/evaluate.py --outdir ./results/4i/drug-$k/model-cellot --setting iid --where data_space\n",
    "done"
   ]
  },
  {
   "cell_type": "code",
   "execution_count": null,
   "id": "bca70ea9",
   "metadata": {},
   "outputs": [],
   "source": []
  },
  {
   "cell_type": "code",
   "execution_count": null,
   "id": "6f94047f",
   "metadata": {},
   "outputs": [],
   "source": [
    "# Load the drugs into an array\n",
    "drugs=($(python -c \"import pandas as pd; drugs = pd.read_csv('/home/manu/Desktop/cellflow/data/4i/drugs.txt', header=None)[0].values[23:]; print(' '.join([a[:-1] if a != 'vindesine' else a for a in drugs]))\"))\n",
    "\n",
    "# Verify the array contents\n",
    "echo \"${drugs[@]}\"\n",
    "\n",
    "# Loop over each drug and run the scripts\n",
    "for k in \"${drugs[@]}\"; do\n",
    "    echo \"Processing drug: $k\"\n",
    "    \n",
    "    # Run train.py\n",
    "    python /home/manu/cellot-main/scripts/train.py --outdir /home/manu/cellot-main/results/4i/drug-$k/model-cellot --config /home/manu/cellot-main/configs/tasks/4i.yaml --config /home/manu/cellot-main/configs/models/cellot.yaml --config.data.target $k\n",
    "\n",
    "    # Run evaluate.py\n",
    "    python /home/manu/cellot-main/scripts/evaluate.py --outdir ./results/4i/drug-$k/model-cellot --setting iid --where data_space\n",
    "done"
   ]
  },
  {
   "cell_type": "code",
   "execution_count": null,
   "id": "0106b108",
   "metadata": {},
   "outputs": [],
   "source": [
    "drugs=($(python -c \"import pandas as pd; drugs = pd.read_csv('/home/manu/Desktop/cellflow/data/4i/drugs.txt', header=None)[0].values[23:]; print(' '.join([a[:-1] if a != 'vindesine' else a for a in drugs]))\"))\n",
    "echo \"${drugs[@]}\""
   ]
  },
  {
   "cell_type": "code",
   "execution_count": null,
   "id": "df070cd5",
   "metadata": {},
   "outputs": [],
   "source": []
  }
 ],
 "metadata": {
  "kernelspec": {
   "display_name": "petrus",
   "language": "python",
   "name": "petrus"
  },
  "language_info": {
   "codemirror_mode": {
    "name": "ipython",
    "version": 3
   },
   "file_extension": ".py",
   "mimetype": "text/x-python",
   "name": "python",
   "nbconvert_exporter": "python",
   "pygments_lexer": "ipython3",
   "version": "3.12.9"
  }
 },
 "nbformat": 4,
 "nbformat_minor": 5
}
