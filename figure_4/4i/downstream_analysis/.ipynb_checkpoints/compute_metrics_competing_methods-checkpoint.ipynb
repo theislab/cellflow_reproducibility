{
 "cells": [
  {
   "cell_type": "code",
   "execution_count": 5,
   "id": "726b335a",
   "metadata": {},
   "outputs": [],
   "source": [
    "import matplotlib.pyplot as plt\n",
    "import seaborn as sns\n",
    "import scanpy as sc\n",
    "import pandas as pd\n",
    "import anndata\n",
    "import numpy as np\n",
    "import metrics\n",
    "import jax\n",
    "from tqdm import tqdm\n",
    "import pickle\n",
    "import scipy"
   ]
  },
  {
   "cell_type": "code",
   "execution_count": 6,
   "id": "0ff5e67a",
   "metadata": {},
   "outputs": [],
   "source": [
    "def save_with_pickle(m, path):\n",
    "    with open(path, 'wb') as file:\n",
    "        pickle.dump(m, file)"
   ]
  },
  {
   "cell_type": "code",
   "execution_count": 7,
   "id": "75d757b0",
   "metadata": {},
   "outputs": [],
   "source": [
    "Path = '/home/manu'"
   ]
  },
  {
   "cell_type": "code",
   "execution_count": 8,
   "id": "0cc6c438",
   "metadata": {},
   "outputs": [],
   "source": [
    "drugs = pd.read_csv('../../data/4i/drugs.txt', header=None)[0].values\n",
    "drugs = [a[:-1] if a!='vindesine' else a for a in drugs]\n",
    "adata = sc.read_h5ad('../../data/4i/8h.h5ad')"
   ]
  },
  {
   "cell_type": "code",
   "execution_count": null,
   "id": "8558dcb5",
   "metadata": {},
   "outputs": [],
   "source": []
  },
  {
   "cell_type": "code",
   "execution_count": null,
   "id": "5ba352d4",
   "metadata": {},
   "outputs": [],
   "source": []
  },
  {
   "cell_type": "code",
   "execution_count": 9,
   "id": "576b00ae",
   "metadata": {},
   "outputs": [
    {
     "data": {
      "text/plain": [
       "AnnData object with n_obs × n_vars = 97748 × 48\n",
       "    obs: 'drug'\n",
       "    var: 'cell_part', 'measurement', 'stat', 'feature', 'original'\n",
       "    uns: 'source'"
      ]
     },
     "execution_count": 9,
     "metadata": {},
     "output_type": "execute_result"
    }
   ],
   "source": [
    "drugs = pd.read_csv('../../data/4i/drugs.txt', header=None)[0].values\n",
    "drugs = [a[:-1] if a!='vindesine' else a for a in drugs]\n",
    "adata = sc.read_h5ad('../..data/4i/8h.h5ad')\n",
    "adata = adata[adata.obs.drug.isin([*drugs, 'control'])].copy()\n",
    "features = pd.read_csv('../../../cellot-main/datasets/4i/features.txt', header=None)\n",
    "features = list(features[0])\n",
    "adata = adata[:, features].copy()\n",
    "adata"
   ]
  },
  {
   "cell_type": "code",
   "execution_count": null,
   "id": "e2afdd85",
   "metadata": {},
   "outputs": [],
   "source": []
  },
  {
   "cell_type": "code",
   "execution_count": 6,
   "id": "b2262124",
   "metadata": {
    "scrolled": true
   },
   "outputs": [
    {
     "name": "stderr",
     "output_type": "stream",
     "text": [
      "100%|█████████████████████████████████████████████| 35/35 [09:05<00:00, 15.59s/it]\n"
     ]
    }
   ],
   "source": [
    "# identity\n",
    "\n",
    "for drug in tqdm(drugs):\n",
    "    Tests = {}\n",
    "    Imputations = {}\n",
    "    \n",
    "    df = pd.read_csv(f'../../data/splits/{drug}.csv')\n",
    "    train_cells = list(df[df['split']=='train']['Unnamed: 0'])\n",
    "    test_cells = list(df[df['split']=='test']['Unnamed: 0'])\n",
    "    adata_train = adata[adata.obs.index.isin(train_cells)].copy()\n",
    "    adata_test = adata[adata.obs.index.isin(test_cells)].copy()\n",
    "    \n",
    "    Tests = {drug+'_identity':adata_test[adata_test.obs['drug']=='control'].X}\n",
    "    Imputations = {drug+'_identity':adata_test[adata_test.obs['drug']==drug].X}\n",
    "    m = jax.tree_util.tree_map(metrics.compute_metrics, Tests, Imputations)\n",
    "    dfm = pd.DataFrame(m)\n",
    "    dfm.to_csv(f'../../data/evals/identity_{drug}.csv')"
   ]
  },
  {
   "cell_type": "code",
   "execution_count": null,
   "id": "d8e4d3ab",
   "metadata": {},
   "outputs": [],
   "source": []
  },
  {
   "cell_type": "code",
   "execution_count": null,
   "id": "534811e4",
   "metadata": {},
   "outputs": [],
   "source": []
  },
  {
   "cell_type": "code",
   "execution_count": 11,
   "id": "06ff7968",
   "metadata": {
    "scrolled": true
   },
   "outputs": [
    {
     "name": "stderr",
     "output_type": "stream",
     "text": [
      "  0%|                                                    | 0/35 [00:00<?, ?it/s]/home/manu/miniconda3/envs/petrus/lib/python3.12/site-packages/ott/solvers/linear/sinkhorn.py:924: UserWarning: Explicitly requested dtype float64 requested in ones is not available, and will be truncated to dtype float32. To enable more dtypes, set the jax_enable_x64 configuration option or the JAX_ENABLE_X64 shell environment variable. See https://github.com/jax-ml/jax#current-gotchas for more.\n",
      "  errors = -jnp.ones((self.outer_iterations, len(self.norm_error)),\n",
      "/home/manu/miniconda3/envs/petrus/lib/python3.12/site-packages/ott/solvers/linear/sinkhorn.py:881: UserWarning: Explicitly requested dtype float64 requested in array is not available, and will be truncated to dtype float32. To enable more dtypes, set the jax_enable_x64 configuration option or the JAX_ENABLE_X64 shell environment variable. See https://github.com/jax-ml/jax#current-gotchas for more.\n",
      "  lambda *_: jnp.array(jnp.inf, dtype=ot_prob.dtype),\n",
      "  3%|█▎                                          | 1/35 [00:18<10:33, 18.62s/it]/home/manu/miniconda3/envs/petrus/lib/python3.12/site-packages/ott/solvers/linear/sinkhorn.py:924: UserWarning: Explicitly requested dtype float64 requested in ones is not available, and will be truncated to dtype float32. To enable more dtypes, set the jax_enable_x64 configuration option or the JAX_ENABLE_X64 shell environment variable. See https://github.com/jax-ml/jax#current-gotchas for more.\n",
      "  errors = -jnp.ones((self.outer_iterations, len(self.norm_error)),\n",
      "/home/manu/miniconda3/envs/petrus/lib/python3.12/site-packages/ott/solvers/linear/sinkhorn.py:881: UserWarning: Explicitly requested dtype float64 requested in array is not available, and will be truncated to dtype float32. To enable more dtypes, set the jax_enable_x64 configuration option or the JAX_ENABLE_X64 shell environment variable. See https://github.com/jax-ml/jax#current-gotchas for more.\n",
      "  lambda *_: jnp.array(jnp.inf, dtype=ot_prob.dtype),\n",
      "  6%|██▌                                         | 2/35 [00:35<09:31, 17.32s/it]/home/manu/miniconda3/envs/petrus/lib/python3.12/site-packages/ott/solvers/linear/sinkhorn.py:924: UserWarning: Explicitly requested dtype float64 requested in ones is not available, and will be truncated to dtype float32. To enable more dtypes, set the jax_enable_x64 configuration option or the JAX_ENABLE_X64 shell environment variable. See https://github.com/jax-ml/jax#current-gotchas for more.\n",
      "  errors = -jnp.ones((self.outer_iterations, len(self.norm_error)),\n",
      "/home/manu/miniconda3/envs/petrus/lib/python3.12/site-packages/ott/solvers/linear/sinkhorn.py:881: UserWarning: Explicitly requested dtype float64 requested in array is not available, and will be truncated to dtype float32. To enable more dtypes, set the jax_enable_x64 configuration option or the JAX_ENABLE_X64 shell environment variable. See https://github.com/jax-ml/jax#current-gotchas for more.\n",
      "  lambda *_: jnp.array(jnp.inf, dtype=ot_prob.dtype),\n",
      "  9%|███▊                                        | 3/35 [00:51<09:08, 17.13s/it]/home/manu/miniconda3/envs/petrus/lib/python3.12/site-packages/ott/solvers/linear/sinkhorn.py:924: UserWarning: Explicitly requested dtype float64 requested in ones is not available, and will be truncated to dtype float32. To enable more dtypes, set the jax_enable_x64 configuration option or the JAX_ENABLE_X64 shell environment variable. See https://github.com/jax-ml/jax#current-gotchas for more.\n",
      "  errors = -jnp.ones((self.outer_iterations, len(self.norm_error)),\n",
      "/home/manu/miniconda3/envs/petrus/lib/python3.12/site-packages/ott/solvers/linear/sinkhorn.py:881: UserWarning: Explicitly requested dtype float64 requested in array is not available, and will be truncated to dtype float32. To enable more dtypes, set the jax_enable_x64 configuration option or the JAX_ENABLE_X64 shell environment variable. See https://github.com/jax-ml/jax#current-gotchas for more.\n",
      "  lambda *_: jnp.array(jnp.inf, dtype=ot_prob.dtype),\n",
      " 11%|█████                                       | 4/35 [01:09<08:58, 17.37s/it]/home/manu/miniconda3/envs/petrus/lib/python3.12/site-packages/ott/solvers/linear/sinkhorn.py:924: UserWarning: Explicitly requested dtype float64 requested in ones is not available, and will be truncated to dtype float32. To enable more dtypes, set the jax_enable_x64 configuration option or the JAX_ENABLE_X64 shell environment variable. See https://github.com/jax-ml/jax#current-gotchas for more.\n",
      "  errors = -jnp.ones((self.outer_iterations, len(self.norm_error)),\n",
      "/home/manu/miniconda3/envs/petrus/lib/python3.12/site-packages/ott/solvers/linear/sinkhorn.py:881: UserWarning: Explicitly requested dtype float64 requested in array is not available, and will be truncated to dtype float32. To enable more dtypes, set the jax_enable_x64 configuration option or the JAX_ENABLE_X64 shell environment variable. See https://github.com/jax-ml/jax#current-gotchas for more.\n",
      "  lambda *_: jnp.array(jnp.inf, dtype=ot_prob.dtype),\n",
      " 14%|██████▎                                     | 5/35 [01:26<08:33, 17.12s/it]/home/manu/miniconda3/envs/petrus/lib/python3.12/site-packages/ott/solvers/linear/sinkhorn.py:924: UserWarning: Explicitly requested dtype float64 requested in ones is not available, and will be truncated to dtype float32. To enable more dtypes, set the jax_enable_x64 configuration option or the JAX_ENABLE_X64 shell environment variable. See https://github.com/jax-ml/jax#current-gotchas for more.\n",
      "  errors = -jnp.ones((self.outer_iterations, len(self.norm_error)),\n",
      "/home/manu/miniconda3/envs/petrus/lib/python3.12/site-packages/ott/solvers/linear/sinkhorn.py:881: UserWarning: Explicitly requested dtype float64 requested in array is not available, and will be truncated to dtype float32. To enable more dtypes, set the jax_enable_x64 configuration option or the JAX_ENABLE_X64 shell environment variable. See https://github.com/jax-ml/jax#current-gotchas for more.\n",
      "  lambda *_: jnp.array(jnp.inf, dtype=ot_prob.dtype),\n",
      " 17%|███████▌                                    | 6/35 [01:44<08:25, 17.45s/it]/home/manu/miniconda3/envs/petrus/lib/python3.12/site-packages/ott/solvers/linear/sinkhorn.py:924: UserWarning: Explicitly requested dtype float64 requested in ones is not available, and will be truncated to dtype float32. To enable more dtypes, set the jax_enable_x64 configuration option or the JAX_ENABLE_X64 shell environment variable. See https://github.com/jax-ml/jax#current-gotchas for more.\n",
      "  errors = -jnp.ones((self.outer_iterations, len(self.norm_error)),\n",
      "/home/manu/miniconda3/envs/petrus/lib/python3.12/site-packages/ott/solvers/linear/sinkhorn.py:881: UserWarning: Explicitly requested dtype float64 requested in array is not available, and will be truncated to dtype float32. To enable more dtypes, set the jax_enable_x64 configuration option or the JAX_ENABLE_X64 shell environment variable. See https://github.com/jax-ml/jax#current-gotchas for more.\n",
      "  lambda *_: jnp.array(jnp.inf, dtype=ot_prob.dtype),\n",
      " 20%|████████▊                                   | 7/35 [02:01<08:01, 17.20s/it]/home/manu/miniconda3/envs/petrus/lib/python3.12/site-packages/ott/solvers/linear/sinkhorn.py:924: UserWarning: Explicitly requested dtype float64 requested in ones is not available, and will be truncated to dtype float32. To enable more dtypes, set the jax_enable_x64 configuration option or the JAX_ENABLE_X64 shell environment variable. See https://github.com/jax-ml/jax#current-gotchas for more.\n",
      "  errors = -jnp.ones((self.outer_iterations, len(self.norm_error)),\n",
      "/home/manu/miniconda3/envs/petrus/lib/python3.12/site-packages/ott/solvers/linear/sinkhorn.py:881: UserWarning: Explicitly requested dtype float64 requested in array is not available, and will be truncated to dtype float32. To enable more dtypes, set the jax_enable_x64 configuration option or the JAX_ENABLE_X64 shell environment variable. See https://github.com/jax-ml/jax#current-gotchas for more.\n",
      "  lambda *_: jnp.array(jnp.inf, dtype=ot_prob.dtype),\n",
      " 23%|██████████                                  | 8/35 [02:19<07:50, 17.44s/it]/home/manu/miniconda3/envs/petrus/lib/python3.12/site-packages/ott/solvers/linear/sinkhorn.py:924: UserWarning: Explicitly requested dtype float64 requested in ones is not available, and will be truncated to dtype float32. To enable more dtypes, set the jax_enable_x64 configuration option or the JAX_ENABLE_X64 shell environment variable. See https://github.com/jax-ml/jax#current-gotchas for more.\n",
      "  errors = -jnp.ones((self.outer_iterations, len(self.norm_error)),\n",
      "/home/manu/miniconda3/envs/petrus/lib/python3.12/site-packages/ott/solvers/linear/sinkhorn.py:881: UserWarning: Explicitly requested dtype float64 requested in array is not available, and will be truncated to dtype float32. To enable more dtypes, set the jax_enable_x64 configuration option or the JAX_ENABLE_X64 shell environment variable. See https://github.com/jax-ml/jax#current-gotchas for more.\n",
      "  lambda *_: jnp.array(jnp.inf, dtype=ot_prob.dtype),\n"
     ]
    },
    {
     "name": "stderr",
     "output_type": "stream",
     "text": [
      " 26%|███████████▎                                | 9/35 [02:36<07:37, 17.58s/it]/home/manu/miniconda3/envs/petrus/lib/python3.12/site-packages/ott/solvers/linear/sinkhorn.py:924: UserWarning: Explicitly requested dtype float64 requested in ones is not available, and will be truncated to dtype float32. To enable more dtypes, set the jax_enable_x64 configuration option or the JAX_ENABLE_X64 shell environment variable. See https://github.com/jax-ml/jax#current-gotchas for more.\n",
      "  errors = -jnp.ones((self.outer_iterations, len(self.norm_error)),\n",
      "/home/manu/miniconda3/envs/petrus/lib/python3.12/site-packages/ott/solvers/linear/sinkhorn.py:881: UserWarning: Explicitly requested dtype float64 requested in array is not available, and will be truncated to dtype float32. To enable more dtypes, set the jax_enable_x64 configuration option or the JAX_ENABLE_X64 shell environment variable. See https://github.com/jax-ml/jax#current-gotchas for more.\n",
      "  lambda *_: jnp.array(jnp.inf, dtype=ot_prob.dtype),\n",
      " 29%|████████████▎                              | 10/35 [02:53<07:12, 17.32s/it]/home/manu/miniconda3/envs/petrus/lib/python3.12/site-packages/ott/solvers/linear/sinkhorn.py:924: UserWarning: Explicitly requested dtype float64 requested in ones is not available, and will be truncated to dtype float32. To enable more dtypes, set the jax_enable_x64 configuration option or the JAX_ENABLE_X64 shell environment variable. See https://github.com/jax-ml/jax#current-gotchas for more.\n",
      "  errors = -jnp.ones((self.outer_iterations, len(self.norm_error)),\n",
      "/home/manu/miniconda3/envs/petrus/lib/python3.12/site-packages/ott/solvers/linear/sinkhorn.py:881: UserWarning: Explicitly requested dtype float64 requested in array is not available, and will be truncated to dtype float32. To enable more dtypes, set the jax_enable_x64 configuration option or the JAX_ENABLE_X64 shell environment variable. See https://github.com/jax-ml/jax#current-gotchas for more.\n",
      "  lambda *_: jnp.array(jnp.inf, dtype=ot_prob.dtype),\n",
      " 31%|█████████████▌                             | 11/35 [03:10<06:52, 17.17s/it]/home/manu/miniconda3/envs/petrus/lib/python3.12/site-packages/ott/solvers/linear/sinkhorn.py:924: UserWarning: Explicitly requested dtype float64 requested in ones is not available, and will be truncated to dtype float32. To enable more dtypes, set the jax_enable_x64 configuration option or the JAX_ENABLE_X64 shell environment variable. See https://github.com/jax-ml/jax#current-gotchas for more.\n",
      "  errors = -jnp.ones((self.outer_iterations, len(self.norm_error)),\n",
      "/home/manu/miniconda3/envs/petrus/lib/python3.12/site-packages/ott/solvers/linear/sinkhorn.py:881: UserWarning: Explicitly requested dtype float64 requested in array is not available, and will be truncated to dtype float32. To enable more dtypes, set the jax_enable_x64 configuration option or the JAX_ENABLE_X64 shell environment variable. See https://github.com/jax-ml/jax#current-gotchas for more.\n",
      "  lambda *_: jnp.array(jnp.inf, dtype=ot_prob.dtype),\n",
      " 34%|██████████████▋                            | 12/35 [03:27<06:34, 17.16s/it]/home/manu/miniconda3/envs/petrus/lib/python3.12/site-packages/ott/solvers/linear/sinkhorn.py:924: UserWarning: Explicitly requested dtype float64 requested in ones is not available, and will be truncated to dtype float32. To enable more dtypes, set the jax_enable_x64 configuration option or the JAX_ENABLE_X64 shell environment variable. See https://github.com/jax-ml/jax#current-gotchas for more.\n",
      "  errors = -jnp.ones((self.outer_iterations, len(self.norm_error)),\n",
      "/home/manu/miniconda3/envs/petrus/lib/python3.12/site-packages/ott/solvers/linear/sinkhorn.py:881: UserWarning: Explicitly requested dtype float64 requested in array is not available, and will be truncated to dtype float32. To enable more dtypes, set the jax_enable_x64 configuration option or the JAX_ENABLE_X64 shell environment variable. See https://github.com/jax-ml/jax#current-gotchas for more.\n",
      "  lambda *_: jnp.array(jnp.inf, dtype=ot_prob.dtype),\n",
      " 37%|███████████████▉                           | 13/35 [03:44<06:13, 16.99s/it]/home/manu/miniconda3/envs/petrus/lib/python3.12/site-packages/ott/solvers/linear/sinkhorn.py:924: UserWarning: Explicitly requested dtype float64 requested in ones is not available, and will be truncated to dtype float32. To enable more dtypes, set the jax_enable_x64 configuration option or the JAX_ENABLE_X64 shell environment variable. See https://github.com/jax-ml/jax#current-gotchas for more.\n",
      "  errors = -jnp.ones((self.outer_iterations, len(self.norm_error)),\n",
      "/home/manu/miniconda3/envs/petrus/lib/python3.12/site-packages/ott/solvers/linear/sinkhorn.py:881: UserWarning: Explicitly requested dtype float64 requested in array is not available, and will be truncated to dtype float32. To enable more dtypes, set the jax_enable_x64 configuration option or the JAX_ENABLE_X64 shell environment variable. See https://github.com/jax-ml/jax#current-gotchas for more.\n",
      "  lambda *_: jnp.array(jnp.inf, dtype=ot_prob.dtype),\n",
      " 40%|█████████████████▏                         | 14/35 [04:01<05:55, 16.94s/it]/home/manu/miniconda3/envs/petrus/lib/python3.12/site-packages/ott/solvers/linear/sinkhorn.py:924: UserWarning: Explicitly requested dtype float64 requested in ones is not available, and will be truncated to dtype float32. To enable more dtypes, set the jax_enable_x64 configuration option or the JAX_ENABLE_X64 shell environment variable. See https://github.com/jax-ml/jax#current-gotchas for more.\n",
      "  errors = -jnp.ones((self.outer_iterations, len(self.norm_error)),\n",
      "/home/manu/miniconda3/envs/petrus/lib/python3.12/site-packages/ott/solvers/linear/sinkhorn.py:881: UserWarning: Explicitly requested dtype float64 requested in array is not available, and will be truncated to dtype float32. To enable more dtypes, set the jax_enable_x64 configuration option or the JAX_ENABLE_X64 shell environment variable. See https://github.com/jax-ml/jax#current-gotchas for more.\n",
      "  lambda *_: jnp.array(jnp.inf, dtype=ot_prob.dtype),\n",
      " 43%|██████████████████▍                        | 15/35 [04:17<05:34, 16.75s/it]/home/manu/miniconda3/envs/petrus/lib/python3.12/site-packages/ott/solvers/linear/sinkhorn.py:924: UserWarning: Explicitly requested dtype float64 requested in ones is not available, and will be truncated to dtype float32. To enable more dtypes, set the jax_enable_x64 configuration option or the JAX_ENABLE_X64 shell environment variable. See https://github.com/jax-ml/jax#current-gotchas for more.\n",
      "  errors = -jnp.ones((self.outer_iterations, len(self.norm_error)),\n",
      "/home/manu/miniconda3/envs/petrus/lib/python3.12/site-packages/ott/solvers/linear/sinkhorn.py:881: UserWarning: Explicitly requested dtype float64 requested in array is not available, and will be truncated to dtype float32. To enable more dtypes, set the jax_enable_x64 configuration option or the JAX_ENABLE_X64 shell environment variable. See https://github.com/jax-ml/jax#current-gotchas for more.\n",
      "  lambda *_: jnp.array(jnp.inf, dtype=ot_prob.dtype),\n",
      " 46%|███████████████████▋                       | 16/35 [04:34<05:22, 16.95s/it]/home/manu/miniconda3/envs/petrus/lib/python3.12/site-packages/ott/solvers/linear/sinkhorn.py:924: UserWarning: Explicitly requested dtype float64 requested in ones is not available, and will be truncated to dtype float32. To enable more dtypes, set the jax_enable_x64 configuration option or the JAX_ENABLE_X64 shell environment variable. See https://github.com/jax-ml/jax#current-gotchas for more.\n",
      "  errors = -jnp.ones((self.outer_iterations, len(self.norm_error)),\n",
      "/home/manu/miniconda3/envs/petrus/lib/python3.12/site-packages/ott/solvers/linear/sinkhorn.py:881: UserWarning: Explicitly requested dtype float64 requested in array is not available, and will be truncated to dtype float32. To enable more dtypes, set the jax_enable_x64 configuration option or the JAX_ENABLE_X64 shell environment variable. See https://github.com/jax-ml/jax#current-gotchas for more.\n",
      "  lambda *_: jnp.array(jnp.inf, dtype=ot_prob.dtype),\n",
      " 49%|████████████████████▉                      | 17/35 [04:51<05:02, 16.82s/it]/home/manu/miniconda3/envs/petrus/lib/python3.12/site-packages/ott/solvers/linear/sinkhorn.py:924: UserWarning: Explicitly requested dtype float64 requested in ones is not available, and will be truncated to dtype float32. To enable more dtypes, set the jax_enable_x64 configuration option or the JAX_ENABLE_X64 shell environment variable. See https://github.com/jax-ml/jax#current-gotchas for more.\n",
      "  errors = -jnp.ones((self.outer_iterations, len(self.norm_error)),\n",
      "/home/manu/miniconda3/envs/petrus/lib/python3.12/site-packages/ott/solvers/linear/sinkhorn.py:881: UserWarning: Explicitly requested dtype float64 requested in array is not available, and will be truncated to dtype float32. To enable more dtypes, set the jax_enable_x64 configuration option or the JAX_ENABLE_X64 shell environment variable. See https://github.com/jax-ml/jax#current-gotchas for more.\n",
      "  lambda *_: jnp.array(jnp.inf, dtype=ot_prob.dtype),\n"
     ]
    },
    {
     "name": "stderr",
     "output_type": "stream",
     "text": [
      " 51%|██████████████████████                     | 18/35 [05:08<04:46, 16.83s/it]/home/manu/miniconda3/envs/petrus/lib/python3.12/site-packages/ott/solvers/linear/sinkhorn.py:924: UserWarning: Explicitly requested dtype float64 requested in ones is not available, and will be truncated to dtype float32. To enable more dtypes, set the jax_enable_x64 configuration option or the JAX_ENABLE_X64 shell environment variable. See https://github.com/jax-ml/jax#current-gotchas for more.\n",
      "  errors = -jnp.ones((self.outer_iterations, len(self.norm_error)),\n",
      "/home/manu/miniconda3/envs/petrus/lib/python3.12/site-packages/ott/solvers/linear/sinkhorn.py:881: UserWarning: Explicitly requested dtype float64 requested in array is not available, and will be truncated to dtype float32. To enable more dtypes, set the jax_enable_x64 configuration option or the JAX_ENABLE_X64 shell environment variable. See https://github.com/jax-ml/jax#current-gotchas for more.\n",
      "  lambda *_: jnp.array(jnp.inf, dtype=ot_prob.dtype),\n",
      " 54%|███████████████████████▎                   | 19/35 [05:23<04:22, 16.38s/it]/home/manu/miniconda3/envs/petrus/lib/python3.12/site-packages/ott/solvers/linear/sinkhorn.py:924: UserWarning: Explicitly requested dtype float64 requested in ones is not available, and will be truncated to dtype float32. To enable more dtypes, set the jax_enable_x64 configuration option or the JAX_ENABLE_X64 shell environment variable. See https://github.com/jax-ml/jax#current-gotchas for more.\n",
      "  errors = -jnp.ones((self.outer_iterations, len(self.norm_error)),\n",
      "/home/manu/miniconda3/envs/petrus/lib/python3.12/site-packages/ott/solvers/linear/sinkhorn.py:881: UserWarning: Explicitly requested dtype float64 requested in array is not available, and will be truncated to dtype float32. To enable more dtypes, set the jax_enable_x64 configuration option or the JAX_ENABLE_X64 shell environment variable. See https://github.com/jax-ml/jax#current-gotchas for more.\n",
      "  lambda *_: jnp.array(jnp.inf, dtype=ot_prob.dtype),\n",
      " 57%|████████████████████████▌                  | 20/35 [05:39<04:05, 16.37s/it]/home/manu/miniconda3/envs/petrus/lib/python3.12/site-packages/ott/solvers/linear/sinkhorn.py:924: UserWarning: Explicitly requested dtype float64 requested in ones is not available, and will be truncated to dtype float32. To enable more dtypes, set the jax_enable_x64 configuration option or the JAX_ENABLE_X64 shell environment variable. See https://github.com/jax-ml/jax#current-gotchas for more.\n",
      "  errors = -jnp.ones((self.outer_iterations, len(self.norm_error)),\n",
      "/home/manu/miniconda3/envs/petrus/lib/python3.12/site-packages/ott/solvers/linear/sinkhorn.py:881: UserWarning: Explicitly requested dtype float64 requested in array is not available, and will be truncated to dtype float32. To enable more dtypes, set the jax_enable_x64 configuration option or the JAX_ENABLE_X64 shell environment variable. See https://github.com/jax-ml/jax#current-gotchas for more.\n",
      "  lambda *_: jnp.array(jnp.inf, dtype=ot_prob.dtype),\n",
      " 60%|█████████████████████████▊                 | 21/35 [05:56<03:52, 16.58s/it]/home/manu/miniconda3/envs/petrus/lib/python3.12/site-packages/ott/solvers/linear/sinkhorn.py:924: UserWarning: Explicitly requested dtype float64 requested in ones is not available, and will be truncated to dtype float32. To enable more dtypes, set the jax_enable_x64 configuration option or the JAX_ENABLE_X64 shell environment variable. See https://github.com/jax-ml/jax#current-gotchas for more.\n",
      "  errors = -jnp.ones((self.outer_iterations, len(self.norm_error)),\n",
      "/home/manu/miniconda3/envs/petrus/lib/python3.12/site-packages/ott/solvers/linear/sinkhorn.py:881: UserWarning: Explicitly requested dtype float64 requested in array is not available, and will be truncated to dtype float32. To enable more dtypes, set the jax_enable_x64 configuration option or the JAX_ENABLE_X64 shell environment variable. See https://github.com/jax-ml/jax#current-gotchas for more.\n",
      "  lambda *_: jnp.array(jnp.inf, dtype=ot_prob.dtype),\n",
      " 63%|███████████████████████████                | 22/35 [06:13<03:33, 16.46s/it]/home/manu/miniconda3/envs/petrus/lib/python3.12/site-packages/ott/solvers/linear/sinkhorn.py:924: UserWarning: Explicitly requested dtype float64 requested in ones is not available, and will be truncated to dtype float32. To enable more dtypes, set the jax_enable_x64 configuration option or the JAX_ENABLE_X64 shell environment variable. See https://github.com/jax-ml/jax#current-gotchas for more.\n",
      "  errors = -jnp.ones((self.outer_iterations, len(self.norm_error)),\n",
      "/home/manu/miniconda3/envs/petrus/lib/python3.12/site-packages/ott/solvers/linear/sinkhorn.py:881: UserWarning: Explicitly requested dtype float64 requested in array is not available, and will be truncated to dtype float32. To enable more dtypes, set the jax_enable_x64 configuration option or the JAX_ENABLE_X64 shell environment variable. See https://github.com/jax-ml/jax#current-gotchas for more.\n",
      "  lambda *_: jnp.array(jnp.inf, dtype=ot_prob.dtype),\n",
      " 66%|████████████████████████████▎              | 23/35 [06:30<03:20, 16.71s/it]/home/manu/miniconda3/envs/petrus/lib/python3.12/site-packages/ott/solvers/linear/sinkhorn.py:924: UserWarning: Explicitly requested dtype float64 requested in ones is not available, and will be truncated to dtype float32. To enable more dtypes, set the jax_enable_x64 configuration option or the JAX_ENABLE_X64 shell environment variable. See https://github.com/jax-ml/jax#current-gotchas for more.\n",
      "  errors = -jnp.ones((self.outer_iterations, len(self.norm_error)),\n",
      "/home/manu/miniconda3/envs/petrus/lib/python3.12/site-packages/ott/solvers/linear/sinkhorn.py:881: UserWarning: Explicitly requested dtype float64 requested in array is not available, and will be truncated to dtype float32. To enable more dtypes, set the jax_enable_x64 configuration option or the JAX_ENABLE_X64 shell environment variable. See https://github.com/jax-ml/jax#current-gotchas for more.\n",
      "  lambda *_: jnp.array(jnp.inf, dtype=ot_prob.dtype),\n",
      " 69%|█████████████████████████████▍             | 24/35 [06:45<02:58, 16.22s/it]/home/manu/miniconda3/envs/petrus/lib/python3.12/site-packages/ott/solvers/linear/sinkhorn.py:924: UserWarning: Explicitly requested dtype float64 requested in ones is not available, and will be truncated to dtype float32. To enable more dtypes, set the jax_enable_x64 configuration option or the JAX_ENABLE_X64 shell environment variable. See https://github.com/jax-ml/jax#current-gotchas for more.\n",
      "  errors = -jnp.ones((self.outer_iterations, len(self.norm_error)),\n",
      "/home/manu/miniconda3/envs/petrus/lib/python3.12/site-packages/ott/solvers/linear/sinkhorn.py:881: UserWarning: Explicitly requested dtype float64 requested in array is not available, and will be truncated to dtype float32. To enable more dtypes, set the jax_enable_x64 configuration option or the JAX_ENABLE_X64 shell environment variable. See https://github.com/jax-ml/jax#current-gotchas for more.\n",
      "  lambda *_: jnp.array(jnp.inf, dtype=ot_prob.dtype),\n",
      " 71%|██████████████████████████████▋            | 25/35 [07:03<02:46, 16.68s/it]/home/manu/miniconda3/envs/petrus/lib/python3.12/site-packages/ott/solvers/linear/sinkhorn.py:924: UserWarning: Explicitly requested dtype float64 requested in ones is not available, and will be truncated to dtype float32. To enable more dtypes, set the jax_enable_x64 configuration option or the JAX_ENABLE_X64 shell environment variable. See https://github.com/jax-ml/jax#current-gotchas for more.\n",
      "  errors = -jnp.ones((self.outer_iterations, len(self.norm_error)),\n",
      "/home/manu/miniconda3/envs/petrus/lib/python3.12/site-packages/ott/solvers/linear/sinkhorn.py:881: UserWarning: Explicitly requested dtype float64 requested in array is not available, and will be truncated to dtype float32. To enable more dtypes, set the jax_enable_x64 configuration option or the JAX_ENABLE_X64 shell environment variable. See https://github.com/jax-ml/jax#current-gotchas for more.\n",
      "  lambda *_: jnp.array(jnp.inf, dtype=ot_prob.dtype),\n",
      " 74%|███████████████████████████████▉           | 26/35 [07:17<02:24, 16.04s/it]/home/manu/miniconda3/envs/petrus/lib/python3.12/site-packages/ott/solvers/linear/sinkhorn.py:924: UserWarning: Explicitly requested dtype float64 requested in ones is not available, and will be truncated to dtype float32. To enable more dtypes, set the jax_enable_x64 configuration option or the JAX_ENABLE_X64 shell environment variable. See https://github.com/jax-ml/jax#current-gotchas for more.\n",
      "  errors = -jnp.ones((self.outer_iterations, len(self.norm_error)),\n",
      "/home/manu/miniconda3/envs/petrus/lib/python3.12/site-packages/ott/solvers/linear/sinkhorn.py:881: UserWarning: Explicitly requested dtype float64 requested in array is not available, and will be truncated to dtype float32. To enable more dtypes, set the jax_enable_x64 configuration option or the JAX_ENABLE_X64 shell environment variable. See https://github.com/jax-ml/jax#current-gotchas for more.\n",
      "  lambda *_: jnp.array(jnp.inf, dtype=ot_prob.dtype),\n"
     ]
    },
    {
     "name": "stderr",
     "output_type": "stream",
     "text": [
      " 77%|█████████████████████████████████▏         | 27/35 [07:34<02:10, 16.36s/it]/home/manu/miniconda3/envs/petrus/lib/python3.12/site-packages/ott/solvers/linear/sinkhorn.py:924: UserWarning: Explicitly requested dtype float64 requested in ones is not available, and will be truncated to dtype float32. To enable more dtypes, set the jax_enable_x64 configuration option or the JAX_ENABLE_X64 shell environment variable. See https://github.com/jax-ml/jax#current-gotchas for more.\n",
      "  errors = -jnp.ones((self.outer_iterations, len(self.norm_error)),\n",
      "/home/manu/miniconda3/envs/petrus/lib/python3.12/site-packages/ott/solvers/linear/sinkhorn.py:881: UserWarning: Explicitly requested dtype float64 requested in array is not available, and will be truncated to dtype float32. To enable more dtypes, set the jax_enable_x64 configuration option or the JAX_ENABLE_X64 shell environment variable. See https://github.com/jax-ml/jax#current-gotchas for more.\n",
      "  lambda *_: jnp.array(jnp.inf, dtype=ot_prob.dtype),\n",
      " 80%|██████████████████████████████████▍        | 28/35 [07:53<01:59, 17.03s/it]/home/manu/miniconda3/envs/petrus/lib/python3.12/site-packages/ott/solvers/linear/sinkhorn.py:924: UserWarning: Explicitly requested dtype float64 requested in ones is not available, and will be truncated to dtype float32. To enable more dtypes, set the jax_enable_x64 configuration option or the JAX_ENABLE_X64 shell environment variable. See https://github.com/jax-ml/jax#current-gotchas for more.\n",
      "  errors = -jnp.ones((self.outer_iterations, len(self.norm_error)),\n",
      "/home/manu/miniconda3/envs/petrus/lib/python3.12/site-packages/ott/solvers/linear/sinkhorn.py:881: UserWarning: Explicitly requested dtype float64 requested in array is not available, and will be truncated to dtype float32. To enable more dtypes, set the jax_enable_x64 configuration option or the JAX_ENABLE_X64 shell environment variable. See https://github.com/jax-ml/jax#current-gotchas for more.\n",
      "  lambda *_: jnp.array(jnp.inf, dtype=ot_prob.dtype),\n",
      " 83%|███████████████████████████████████▋       | 29/35 [08:11<01:43, 17.22s/it]/home/manu/miniconda3/envs/petrus/lib/python3.12/site-packages/ott/solvers/linear/sinkhorn.py:924: UserWarning: Explicitly requested dtype float64 requested in ones is not available, and will be truncated to dtype float32. To enable more dtypes, set the jax_enable_x64 configuration option or the JAX_ENABLE_X64 shell environment variable. See https://github.com/jax-ml/jax#current-gotchas for more.\n",
      "  errors = -jnp.ones((self.outer_iterations, len(self.norm_error)),\n",
      "/home/manu/miniconda3/envs/petrus/lib/python3.12/site-packages/ott/solvers/linear/sinkhorn.py:881: UserWarning: Explicitly requested dtype float64 requested in array is not available, and will be truncated to dtype float32. To enable more dtypes, set the jax_enable_x64 configuration option or the JAX_ENABLE_X64 shell environment variable. See https://github.com/jax-ml/jax#current-gotchas for more.\n",
      "  lambda *_: jnp.array(jnp.inf, dtype=ot_prob.dtype),\n",
      " 86%|████████████████████████████████████▊      | 30/35 [08:28<01:25, 17.16s/it]/home/manu/miniconda3/envs/petrus/lib/python3.12/site-packages/ott/solvers/linear/sinkhorn.py:924: UserWarning: Explicitly requested dtype float64 requested in ones is not available, and will be truncated to dtype float32. To enable more dtypes, set the jax_enable_x64 configuration option or the JAX_ENABLE_X64 shell environment variable. See https://github.com/jax-ml/jax#current-gotchas for more.\n",
      "  errors = -jnp.ones((self.outer_iterations, len(self.norm_error)),\n",
      "/home/manu/miniconda3/envs/petrus/lib/python3.12/site-packages/ott/solvers/linear/sinkhorn.py:881: UserWarning: Explicitly requested dtype float64 requested in array is not available, and will be truncated to dtype float32. To enable more dtypes, set the jax_enable_x64 configuration option or the JAX_ENABLE_X64 shell environment variable. See https://github.com/jax-ml/jax#current-gotchas for more.\n",
      "  lambda *_: jnp.array(jnp.inf, dtype=ot_prob.dtype),\n",
      " 89%|██████████████████████████████████████     | 31/35 [08:44<01:07, 17.00s/it]/home/manu/miniconda3/envs/petrus/lib/python3.12/site-packages/ott/solvers/linear/sinkhorn.py:924: UserWarning: Explicitly requested dtype float64 requested in ones is not available, and will be truncated to dtype float32. To enable more dtypes, set the jax_enable_x64 configuration option or the JAX_ENABLE_X64 shell environment variable. See https://github.com/jax-ml/jax#current-gotchas for more.\n",
      "  errors = -jnp.ones((self.outer_iterations, len(self.norm_error)),\n",
      "/home/manu/miniconda3/envs/petrus/lib/python3.12/site-packages/ott/solvers/linear/sinkhorn.py:881: UserWarning: Explicitly requested dtype float64 requested in array is not available, and will be truncated to dtype float32. To enable more dtypes, set the jax_enable_x64 configuration option or the JAX_ENABLE_X64 shell environment variable. See https://github.com/jax-ml/jax#current-gotchas for more.\n",
      "  lambda *_: jnp.array(jnp.inf, dtype=ot_prob.dtype),\n",
      " 91%|███████████████████████████████████████▎   | 32/35 [09:00<00:49, 16.50s/it]/home/manu/miniconda3/envs/petrus/lib/python3.12/site-packages/ott/solvers/linear/sinkhorn.py:924: UserWarning: Explicitly requested dtype float64 requested in ones is not available, and will be truncated to dtype float32. To enable more dtypes, set the jax_enable_x64 configuration option or the JAX_ENABLE_X64 shell environment variable. See https://github.com/jax-ml/jax#current-gotchas for more.\n",
      "  errors = -jnp.ones((self.outer_iterations, len(self.norm_error)),\n",
      "/home/manu/miniconda3/envs/petrus/lib/python3.12/site-packages/ott/solvers/linear/sinkhorn.py:881: UserWarning: Explicitly requested dtype float64 requested in array is not available, and will be truncated to dtype float32. To enable more dtypes, set the jax_enable_x64 configuration option or the JAX_ENABLE_X64 shell environment variable. See https://github.com/jax-ml/jax#current-gotchas for more.\n",
      "  lambda *_: jnp.array(jnp.inf, dtype=ot_prob.dtype),\n",
      " 94%|████████████████████████████████████████▌  | 33/35 [09:17<00:33, 16.69s/it]/home/manu/miniconda3/envs/petrus/lib/python3.12/site-packages/ott/solvers/linear/sinkhorn.py:924: UserWarning: Explicitly requested dtype float64 requested in ones is not available, and will be truncated to dtype float32. To enable more dtypes, set the jax_enable_x64 configuration option or the JAX_ENABLE_X64 shell environment variable. See https://github.com/jax-ml/jax#current-gotchas for more.\n",
      "  errors = -jnp.ones((self.outer_iterations, len(self.norm_error)),\n",
      "/home/manu/miniconda3/envs/petrus/lib/python3.12/site-packages/ott/solvers/linear/sinkhorn.py:881: UserWarning: Explicitly requested dtype float64 requested in array is not available, and will be truncated to dtype float32. To enable more dtypes, set the jax_enable_x64 configuration option or the JAX_ENABLE_X64 shell environment variable. See https://github.com/jax-ml/jax#current-gotchas for more.\n",
      "  lambda *_: jnp.array(jnp.inf, dtype=ot_prob.dtype),\n",
      " 97%|█████████████████████████████████████████▊ | 34/35 [09:34<00:16, 16.96s/it]/home/manu/miniconda3/envs/petrus/lib/python3.12/site-packages/ott/solvers/linear/sinkhorn.py:924: UserWarning: Explicitly requested dtype float64 requested in ones is not available, and will be truncated to dtype float32. To enable more dtypes, set the jax_enable_x64 configuration option or the JAX_ENABLE_X64 shell environment variable. See https://github.com/jax-ml/jax#current-gotchas for more.\n",
      "  errors = -jnp.ones((self.outer_iterations, len(self.norm_error)),\n",
      "/home/manu/miniconda3/envs/petrus/lib/python3.12/site-packages/ott/solvers/linear/sinkhorn.py:881: UserWarning: Explicitly requested dtype float64 requested in array is not available, and will be truncated to dtype float32. To enable more dtypes, set the jax_enable_x64 configuration option or the JAX_ENABLE_X64 shell environment variable. See https://github.com/jax-ml/jax#current-gotchas for more.\n",
      "  lambda *_: jnp.array(jnp.inf, dtype=ot_prob.dtype),\n",
      "100%|███████████████████████████████████████████| 35/35 [09:51<00:00, 16.89s/it]\n"
     ]
    }
   ],
   "source": [
    "# scGen\n",
    "for drug in tqdm(drugs):\n",
    "    Tests = {}\n",
    "    Imputations = {}\n",
    "    \n",
    "    df = pd.read_csv(f'../../data/splits/{drug}.csv')\n",
    "    train_cells = list(df[df['split']=='train']['Unnamed: 0'])\n",
    "    test_cells = list(df[df['split']=='test']['Unnamed: 0'])\n",
    "    adata_train = adata[adata.obs.index.isin(train_cells)].copy()\n",
    "    adata_test = adata[adata.obs.index.isin(test_cells)].copy()\n",
    "    \n",
    "    Tests = {drug+'_scgen':adata_test[adata_test.obs['drug']==drug].X}\n",
    "    Imputations = {drug+'_scgen':sc.read_h5ad(f'/home/manu/Desktop/cellflow/data/scgen_preds/imputed_{drug}.h5ad').X}\n",
    "    m = jax.tree_util.tree_map(metrics.compute_metrics, Tests, Imputations)\n",
    "    dfm = pd.DataFrame(m)\n",
    "    dfm.to_csv(f'../../data/evals/scGen_{drug}.csv')"
   ]
  },
  {
   "cell_type": "code",
   "execution_count": 7,
   "id": "409fe21a",
   "metadata": {},
   "outputs": [
    {
     "data": {
      "text/plain": [
       "AnnData object with n_obs × n_vars = 6597 × 48\n",
       "    obs: 'drug', 'cell_type', '_scvi_batch', '_scvi_labels', 'split'\n",
       "    var: 'cell_part', 'measurement', 'stat', 'feature', 'original'"
      ]
     },
     "execution_count": 7,
     "metadata": {},
     "output_type": "execute_result"
    }
   ],
   "source": [
    "sc.read_h5ad(f'../../data/scgen_preds/imputed_{drug}.h5ad')"
   ]
  },
  {
   "cell_type": "code",
   "execution_count": null,
   "id": "65ad7168",
   "metadata": {},
   "outputs": [],
   "source": []
  },
  {
   "cell_type": "code",
   "execution_count": null,
   "id": "f74720bb",
   "metadata": {},
   "outputs": [],
   "source": []
  },
  {
   "cell_type": "code",
   "execution_count": null,
   "id": "8ed02092",
   "metadata": {},
   "outputs": [],
   "source": []
  },
  {
   "cell_type": "code",
   "execution_count": 10,
   "id": "cbeecad0",
   "metadata": {
    "scrolled": true
   },
   "outputs": [
    {
     "name": "stderr",
     "output_type": "stream",
     "text": [
      "100%|█| 35/35 [06:56<00:00, 11.91s/i\n"
     ]
    }
   ],
   "source": [
    "# CellOT\n",
    "\n",
    "for drug in tqdm(drugs):\n",
    "    Tests = {}\n",
    "    Imputations = {}\n",
    "    \n",
    "    df = pd.read_csv(f'../../data/splits/{drug}.csv')\n",
    "    train_cells = list(df[df['split']=='train']['Unnamed: 0'])\n",
    "    test_cells = list(df[df['split']=='test']['Unnamed: 0'])\n",
    "    adata_train = adata[adata.obs.index.isin(train_cells)].copy()\n",
    "    adata_test = adata[adata.obs.index.isin(test_cells)].copy()\n",
    "    \n",
    "    Tests = {drug+'_CellOT':adata_test[adata_test.obs['drug']==drug].X}\n",
    "    Imputations = {drug+'_CellOT':sc.read_h5ad('../../../cellot-main/results/4i/drug-{drug}/model-cellot/evals_iid_data_space/imputed.h5ad').X}\n",
    "    m = jax.tree_util.tree_map(metrics.compute_metrics, Tests, Imputations)\n",
    "    dfm = pd.DataFrame(m)\n",
    "    dfm.to_csv(f'../../data/evals/CellOT_{drug}.csv')"
   ]
  },
  {
   "cell_type": "code",
   "execution_count": 13,
   "id": "c9d2185a",
   "metadata": {},
   "outputs": [],
   "source": [
    "cns = ['0_0', '0_2', '0_5']"
   ]
  },
  {
   "cell_type": "code",
   "execution_count": 15,
   "id": "2bb81a2c",
   "metadata": {},
   "outputs": [
    {
     "name": "stderr",
     "output_type": "stream",
     "text": [
      "100%|███████████████████████████████████████████████████| 35/35 [06:08<00:00, 10.51s/it]\n",
      "100%|███████████████████████████████████████████████████| 35/35 [06:07<00:00, 10.51s/it]\n",
      "100%|███████████████████████████████████████████████████| 35/35 [06:03<00:00, 10.40s/it]\n"
     ]
    }
   ],
   "source": [
    "# CellFlow\n",
    "for cn in cns:\n",
    "    for drug in tqdm(drugs):\n",
    "        Tests = {}\n",
    "        Imputations = {}\n",
    "\n",
    "        df = pd.read_csv(f'../../data/splits/{drug}.csv')\n",
    "        train_cells = list(df[df['split']=='train']['Unnamed: 0'])\n",
    "        test_cells = list(df[df['split']=='test']['Unnamed: 0'])\n",
    "        adata_train = adata[adata.obs.index.isin(train_cells)].copy()\n",
    "        adata_test = adata[adata.obs.index.isin(test_cells)].copy()\n",
    "\n",
    "        Tests = {drug+'_scgen':adata_test[adata_test.obs['drug']==drug].X}\n",
    "        Imputations = {drug+'_scgen':sc.read_h5ad(f'/home/manu/Desktop/cellflow/data/cellflow_preds_cn{cn}/imputed_{drug}.h5ad').X}\n",
    "        m = jax.tree_util.tree_map(metrics.compute_metrics, Tests, Imputations)\n",
    "        dfm = pd.DataFrame(m)\n",
    "        dfm.to_csv(f'../../data/evals/Cellflow_cn{cn}_{drug}.csv')"
   ]
  },
  {
   "cell_type": "code",
   "execution_count": null,
   "id": "14e8e6dc",
   "metadata": {},
   "outputs": [],
   "source": []
  },
  {
   "cell_type": "code",
   "execution_count": null,
   "id": "01e748b3",
   "metadata": {},
   "outputs": [],
   "source": []
  },
  {
   "cell_type": "code",
   "execution_count": null,
   "id": "428b0da5",
   "metadata": {},
   "outputs": [],
   "source": []
  }
 ],
 "metadata": {
  "kernelspec": {
   "display_name": "Python 3 (ipykernel)",
   "language": "python",
   "name": "python3"
  },
  "language_info": {
   "codemirror_mode": {
    "name": "ipython",
    "version": 3
   },
   "file_extension": ".py",
   "mimetype": "text/x-python",
   "name": "python",
   "nbconvert_exporter": "python",
   "pygments_lexer": "ipython3",
   "version": "3.8.20"
  }
 },
 "nbformat": 4,
 "nbformat_minor": 5
}
