{
 "cells": [
  {
   "cell_type": "code",
   "execution_count": 1,
   "id": "3a9c325c",
   "metadata": {},
   "outputs": [
    {
     "name": "stderr",
     "output_type": "stream",
     "text": [
      "/home/icb/dominik.klein/mambaforge/envs/cellflow/lib/python3.12/site-packages/optuna/study/_optimize.py:29: TqdmWarning: IProgress not found. Please update jupyter and ipywidgets. See https://ipywidgets.readthedocs.io/en/stable/user_install.html\n",
      "  from optuna import progress_bar as pbar_module\n",
      "/home/icb/dominik.klein/mambaforge/envs/cellflow/lib/python3.12/site-packages/anndata/utils.py:429: FutureWarning: Importing read_csv from `anndata` is deprecated. Import anndata.io.read_csv instead.\n",
      "  warnings.warn(msg, FutureWarning)\n",
      "/home/icb/dominik.klein/mambaforge/envs/cellflow/lib/python3.12/site-packages/anndata/utils.py:429: FutureWarning: Importing read_excel from `anndata` is deprecated. Import anndata.io.read_excel instead.\n",
      "  warnings.warn(msg, FutureWarning)\n",
      "/home/icb/dominik.klein/mambaforge/envs/cellflow/lib/python3.12/site-packages/anndata/utils.py:429: FutureWarning: Importing read_hdf from `anndata` is deprecated. Import anndata.io.read_hdf instead.\n",
      "  warnings.warn(msg, FutureWarning)\n",
      "/home/icb/dominik.klein/mambaforge/envs/cellflow/lib/python3.12/site-packages/anndata/utils.py:429: FutureWarning: Importing read_loom from `anndata` is deprecated. Import anndata.io.read_loom instead.\n",
      "  warnings.warn(msg, FutureWarning)\n",
      "/home/icb/dominik.klein/mambaforge/envs/cellflow/lib/python3.12/site-packages/anndata/utils.py:429: FutureWarning: Importing read_mtx from `anndata` is deprecated. Import anndata.io.read_mtx instead.\n",
      "  warnings.warn(msg, FutureWarning)\n",
      "/home/icb/dominik.klein/mambaforge/envs/cellflow/lib/python3.12/site-packages/anndata/utils.py:429: FutureWarning: Importing read_text from `anndata` is deprecated. Import anndata.io.read_text instead.\n",
      "  warnings.warn(msg, FutureWarning)\n",
      "/home/icb/dominik.klein/mambaforge/envs/cellflow/lib/python3.12/site-packages/anndata/utils.py:429: FutureWarning: Importing read_umi_tools from `anndata` is deprecated. Import anndata.io.read_umi_tools instead.\n",
      "  warnings.warn(msg, FutureWarning)\n"
     ]
    }
   ],
   "source": [
    "import matplotlib.pyplot as plt\n",
    "import seaborn as sns\n",
    "import scanpy as sc\n",
    "import pandas as pd\n",
    "import anndata\n",
    "from tqdm import tqdm\n",
    "import pickle\n",
    "import numpy as np\n",
    "import joypy"
   ]
  },
  {
   "cell_type": "code",
   "execution_count": 2,
   "id": "7083f8f6-2f9c-4a7a-99ef-bf9c0fc67bb3",
   "metadata": {},
   "outputs": [],
   "source": [
    "adata = sc.read_h5ad(\"/lustre/groups/ml01/projects/CellOT_comparison/adata_processed.h5ad\")"
   ]
  },
  {
   "cell_type": "code",
   "execution_count": 3,
   "id": "53ba73fe-b05d-4a36-9e66-35e9c0dde903",
   "metadata": {},
   "outputs": [],
   "source": [
    "adata_test = adata[adata.obs[\"split\"]==\"test\"]"
   ]
  },
  {
   "cell_type": "code",
   "execution_count": 4,
   "id": "840e71c4",
   "metadata": {},
   "outputs": [],
   "source": [
    "drug = \"regorafenib\"#'staurosporine' # convexity\n",
    "#drug = 'cisplatin' # convexity"
   ]
  },
  {
   "cell_type": "code",
   "execution_count": 5,
   "id": "0f2156f3",
   "metadata": {
    "scrolled": true
   },
   "outputs": [],
   "source": [
    "adata_scgen = sc.read_h5ad(f'/lustre/groups/ml01/projects/CellOT_comparison/cellflow/data/scgen_preds/imputed_{drug}.h5ad')\n",
    "adata_cellflow = sc.read_h5ad(f\"/lustre/groups/ml01/projects/CellOT_comparison/4i/predictions_{drug}.h5ad\")\n",
    "adata_cellot = sc.read_h5ad(f'/lustre/groups/ml01/projects/CellOT_comparison/cellot-main/results/4i/drug-{drug}/model-cellot/evals_iid_data_space/imputed.h5ad')"
   ]
  },
  {
   "cell_type": "code",
   "execution_count": 6,
   "id": "2dd80629",
   "metadata": {},
   "outputs": [],
   "source": [
    "adata_scgen.obs['method']='scGen'\n",
    "adata_cellflow.obs['method']='CellFlow'\n",
    "adata_cellot.obs['method']='CellOT'"
   ]
  },
  {
   "cell_type": "code",
   "execution_count": 7,
   "id": "5e8d51a4",
   "metadata": {},
   "outputs": [
    {
     "name": "stderr",
     "output_type": "stream",
     "text": [
      "/tmp/ipykernel_431668/4056761388.py:3: ImplicitModificationWarning: Trying to modify attribute `.obs` of view, initializing view as actual.\n",
      "  adata_control.obs[\"method\"] = \"control\"\n",
      "/tmp/ipykernel_431668/4056761388.py:4: ImplicitModificationWarning: Trying to modify attribute `.obs` of view, initializing view as actual.\n",
      "  adata_true.obs[\"method\"] = \"true\"\n"
     ]
    }
   ],
   "source": [
    "adata_control = adata_test[adata_test.obs['drug']=='control']\n",
    "adata_true = adata_test[adata_test.obs['drug']==drug]\n",
    "adata_control.obs[\"method\"] = \"control\"\n",
    "adata_true.obs[\"method\"] = \"true\"\n",
    "\n",
    "adata_scgen.var_names = adata_control.var_names\n",
    "adata_cellot.var_names = adata_control.var_names\n",
    "adata_cellflow.var_names = adata_control.var_names"
   ]
  },
  {
   "cell_type": "code",
   "execution_count": 8,
   "id": "7b915067",
   "metadata": {},
   "outputs": [],
   "source": [
    "l=len(adata_true)\n",
    "sc.pp.subsample(adata_cellot, n_obs=l)\n",
    "sc.pp.subsample(adata_true, n_obs=l)\n",
    "sc.pp.subsample(adata_scgen, n_obs=l)\n",
    "sc.pp.subsample(adata_cellflow, n_obs=l)"
   ]
  },
  {
   "cell_type": "code",
   "execution_count": 9,
   "id": "d7f71eb2",
   "metadata": {},
   "outputs": [
    {
     "name": "stderr",
     "output_type": "stream",
     "text": [
      "/home/icb/dominik.klein/mambaforge/envs/cellflow/lib/python3.12/site-packages/anndata/_core/anndata.py:1756: UserWarning: Observation names are not unique. To make them unique, call `.obs_names_make_unique`.\n",
      "  utils.warn_names_duplicates(\"obs\")\n"
     ]
    }
   ],
   "source": [
    "bdata = anndata.concat([adata_control, adata_scgen, adata_cellot, adata_cellflow, adata_true])\n",
    "\n"
   ]
  },
  {
   "cell_type": "code",
   "execution_count": 10,
   "id": "2a4eab76",
   "metadata": {},
   "outputs": [],
   "source": [
    "fs = list(adata.var.index)\n",
    "for i in range(adata.X.shape[1]):\n",
    "    f = fs[i]\n",
    "    bdata.obs[f]=bdata.X[:,i]"
   ]
  },
  {
   "cell_type": "code",
   "execution_count": 11,
   "id": "bd5820f8-be35-4105-85d9-3908d4a7fbac",
   "metadata": {},
   "outputs": [
    {
     "data": {
      "text/html": [
       "<div>\n",
       "<style scoped>\n",
       "    .dataframe tbody tr th:only-of-type {\n",
       "        vertical-align: middle;\n",
       "    }\n",
       "\n",
       "    .dataframe tbody tr th {\n",
       "        vertical-align: top;\n",
       "    }\n",
       "\n",
       "    .dataframe thead th {\n",
       "        text-align: right;\n",
       "    }\n",
       "</style>\n",
       "<table border=\"1\" class=\"dataframe\">\n",
       "  <thead>\n",
       "    <tr style=\"text-align: right;\">\n",
       "      <th></th>\n",
       "      <th>method</th>\n",
       "      <th>intensity-cell-CD45-mean</th>\n",
       "      <th>intensity-cell-ClCasp3-mean</th>\n",
       "      <th>intensity-cell-DAPI-sum</th>\n",
       "      <th>intensity-cell-Ki67-mean</th>\n",
       "      <th>intensity-cell-MelA-mean</th>\n",
       "      <th>intensity-cell-PCNA-mean</th>\n",
       "      <th>intensity-cell-Sox9-mean</th>\n",
       "      <th>intensity-cell-aTUB-mean</th>\n",
       "      <th>intensity-cell-pAKT-mean</th>\n",
       "      <th>...</th>\n",
       "      <th>morphology-nuclei-circularity</th>\n",
       "      <th>morphology-nuclei-convexity</th>\n",
       "      <th>morphology-nuclei-eccentricity</th>\n",
       "      <th>morphology-nuclei-elongation</th>\n",
       "      <th>morphology-nuclei-equivalent_diameter</th>\n",
       "      <th>morphology-nuclei-extent</th>\n",
       "      <th>morphology-nuclei-major_axis_length</th>\n",
       "      <th>morphology-nuclei-mean_radius</th>\n",
       "      <th>morphology-nuclei-perimeter</th>\n",
       "      <th>morphology-nuclei-roundness</th>\n",
       "    </tr>\n",
       "  </thead>\n",
       "  <tbody>\n",
       "    <tr>\n",
       "      <th>oj7jgazo</th>\n",
       "      <td>control</td>\n",
       "      <td>1.588632</td>\n",
       "      <td>1.717460</td>\n",
       "      <td>0.904260</td>\n",
       "      <td>1.166460</td>\n",
       "      <td>2.359702</td>\n",
       "      <td>0.826874</td>\n",
       "      <td>0.012280</td>\n",
       "      <td>1.060241</td>\n",
       "      <td>1.366889</td>\n",
       "      <td>...</td>\n",
       "      <td>0.661298</td>\n",
       "      <td>0.967811</td>\n",
       "      <td>0.978509</td>\n",
       "      <td>0.954846</td>\n",
       "      <td>0.947649</td>\n",
       "      <td>0.888596</td>\n",
       "      <td>0.986176</td>\n",
       "      <td>0.903684</td>\n",
       "      <td>1.081256</td>\n",
       "      <td>1.338552</td>\n",
       "    </tr>\n",
       "    <tr>\n",
       "      <th>y72mt3ri</th>\n",
       "      <td>control</td>\n",
       "      <td>0.732505</td>\n",
       "      <td>0.835004</td>\n",
       "      <td>1.082412</td>\n",
       "      <td>0.998285</td>\n",
       "      <td>1.217489</td>\n",
       "      <td>0.359832</td>\n",
       "      <td>0.002249</td>\n",
       "      <td>0.851681</td>\n",
       "      <td>0.874237</td>\n",
       "      <td>...</td>\n",
       "      <td>0.773645</td>\n",
       "      <td>0.985916</td>\n",
       "      <td>0.654408</td>\n",
       "      <td>0.373924</td>\n",
       "      <td>1.164749</td>\n",
       "      <td>0.976931</td>\n",
       "      <td>1.038238</td>\n",
       "      <td>1.213381</td>\n",
       "      <td>1.228988</td>\n",
       "      <td>1.079498</td>\n",
       "    </tr>\n",
       "    <tr>\n",
       "      <th>l3bzrner</th>\n",
       "      <td>control</td>\n",
       "      <td>0.847655</td>\n",
       "      <td>1.010935</td>\n",
       "      <td>0.596190</td>\n",
       "      <td>0.487643</td>\n",
       "      <td>-0.002276</td>\n",
       "      <td>0.855733</td>\n",
       "      <td>0.945299</td>\n",
       "      <td>0.498624</td>\n",
       "      <td>0.071097</td>\n",
       "      <td>...</td>\n",
       "      <td>0.798610</td>\n",
       "      <td>0.968761</td>\n",
       "      <td>0.831977</td>\n",
       "      <td>0.641546</td>\n",
       "      <td>0.956227</td>\n",
       "      <td>0.926529</td>\n",
       "      <td>0.910743</td>\n",
       "      <td>0.956814</td>\n",
       "      <td>0.993474</td>\n",
       "      <td>1.048556</td>\n",
       "    </tr>\n",
       "    <tr>\n",
       "      <th>6f3u25yz</th>\n",
       "      <td>control</td>\n",
       "      <td>0.602730</td>\n",
       "      <td>1.001169</td>\n",
       "      <td>0.556268</td>\n",
       "      <td>0.523879</td>\n",
       "      <td>0.001644</td>\n",
       "      <td>0.688062</td>\n",
       "      <td>0.168382</td>\n",
       "      <td>0.599140</td>\n",
       "      <td>0.309349</td>\n",
       "      <td>...</td>\n",
       "      <td>0.954912</td>\n",
       "      <td>0.991663</td>\n",
       "      <td>0.881671</td>\n",
       "      <td>0.736291</td>\n",
       "      <td>0.893249</td>\n",
       "      <td>0.926357</td>\n",
       "      <td>0.870643</td>\n",
       "      <td>0.915353</td>\n",
       "      <td>0.848774</td>\n",
       "      <td>0.800802</td>\n",
       "    </tr>\n",
       "    <tr>\n",
       "      <th>4xgis31m</th>\n",
       "      <td>control</td>\n",
       "      <td>0.452700</td>\n",
       "      <td>0.583371</td>\n",
       "      <td>0.646004</td>\n",
       "      <td>0.386817</td>\n",
       "      <td>-0.002276</td>\n",
       "      <td>0.628258</td>\n",
       "      <td>0.276255</td>\n",
       "      <td>0.488343</td>\n",
       "      <td>0.322082</td>\n",
       "      <td>...</td>\n",
       "      <td>0.801490</td>\n",
       "      <td>0.971189</td>\n",
       "      <td>0.992590</td>\n",
       "      <td>0.991188</td>\n",
       "      <td>0.875477</td>\n",
       "      <td>0.881603</td>\n",
       "      <td>0.922412</td>\n",
       "      <td>0.848327</td>\n",
       "      <td>0.908019</td>\n",
       "      <td>1.006636</td>\n",
       "    </tr>\n",
       "  </tbody>\n",
       "</table>\n",
       "<p>5 rows × 49 columns</p>\n",
       "</div>"
      ],
      "text/plain": [
       "           method  intensity-cell-CD45-mean  intensity-cell-ClCasp3-mean  \\\n",
       "oj7jgazo  control                  1.588632                     1.717460   \n",
       "y72mt3ri  control                  0.732505                     0.835004   \n",
       "l3bzrner  control                  0.847655                     1.010935   \n",
       "6f3u25yz  control                  0.602730                     1.001169   \n",
       "4xgis31m  control                  0.452700                     0.583371   \n",
       "\n",
       "          intensity-cell-DAPI-sum  intensity-cell-Ki67-mean  \\\n",
       "oj7jgazo                 0.904260                  1.166460   \n",
       "y72mt3ri                 1.082412                  0.998285   \n",
       "l3bzrner                 0.596190                  0.487643   \n",
       "6f3u25yz                 0.556268                  0.523879   \n",
       "4xgis31m                 0.646004                  0.386817   \n",
       "\n",
       "          intensity-cell-MelA-mean  intensity-cell-PCNA-mean  \\\n",
       "oj7jgazo                  2.359702                  0.826874   \n",
       "y72mt3ri                  1.217489                  0.359832   \n",
       "l3bzrner                 -0.002276                  0.855733   \n",
       "6f3u25yz                  0.001644                  0.688062   \n",
       "4xgis31m                 -0.002276                  0.628258   \n",
       "\n",
       "          intensity-cell-Sox9-mean  intensity-cell-aTUB-mean  \\\n",
       "oj7jgazo                  0.012280                  1.060241   \n",
       "y72mt3ri                  0.002249                  0.851681   \n",
       "l3bzrner                  0.945299                  0.498624   \n",
       "6f3u25yz                  0.168382                  0.599140   \n",
       "4xgis31m                  0.276255                  0.488343   \n",
       "\n",
       "          intensity-cell-pAKT-mean  ...  morphology-nuclei-circularity  \\\n",
       "oj7jgazo                  1.366889  ...                       0.661298   \n",
       "y72mt3ri                  0.874237  ...                       0.773645   \n",
       "l3bzrner                  0.071097  ...                       0.798610   \n",
       "6f3u25yz                  0.309349  ...                       0.954912   \n",
       "4xgis31m                  0.322082  ...                       0.801490   \n",
       "\n",
       "          morphology-nuclei-convexity  morphology-nuclei-eccentricity  \\\n",
       "oj7jgazo                     0.967811                        0.978509   \n",
       "y72mt3ri                     0.985916                        0.654408   \n",
       "l3bzrner                     0.968761                        0.831977   \n",
       "6f3u25yz                     0.991663                        0.881671   \n",
       "4xgis31m                     0.971189                        0.992590   \n",
       "\n",
       "          morphology-nuclei-elongation  morphology-nuclei-equivalent_diameter  \\\n",
       "oj7jgazo                      0.954846                               0.947649   \n",
       "y72mt3ri                      0.373924                               1.164749   \n",
       "l3bzrner                      0.641546                               0.956227   \n",
       "6f3u25yz                      0.736291                               0.893249   \n",
       "4xgis31m                      0.991188                               0.875477   \n",
       "\n",
       "          morphology-nuclei-extent  morphology-nuclei-major_axis_length  \\\n",
       "oj7jgazo                  0.888596                             0.986176   \n",
       "y72mt3ri                  0.976931                             1.038238   \n",
       "l3bzrner                  0.926529                             0.910743   \n",
       "6f3u25yz                  0.926357                             0.870643   \n",
       "4xgis31m                  0.881603                             0.922412   \n",
       "\n",
       "          morphology-nuclei-mean_radius  morphology-nuclei-perimeter  \\\n",
       "oj7jgazo                       0.903684                     1.081256   \n",
       "y72mt3ri                       1.213381                     1.228988   \n",
       "l3bzrner                       0.956814                     0.993474   \n",
       "6f3u25yz                       0.915353                     0.848774   \n",
       "4xgis31m                       0.848327                     0.908019   \n",
       "\n",
       "          morphology-nuclei-roundness  \n",
       "oj7jgazo                     1.338552  \n",
       "y72mt3ri                     1.079498  \n",
       "l3bzrner                     1.048556  \n",
       "6f3u25yz                     0.800802  \n",
       "4xgis31m                     1.006636  \n",
       "\n",
       "[5 rows x 49 columns]"
      ]
     },
     "execution_count": 11,
     "metadata": {},
     "output_type": "execute_result"
    }
   ],
   "source": [
    "bdata.obs.head()"
   ]
  },
  {
   "cell_type": "code",
   "execution_count": 12,
   "id": "a49091a9-c81f-45e9-a57b-def784257d60",
   "metadata": {},
   "outputs": [],
   "source": [
    "df = bdata.obs.copy()\n"
   ]
  },
  {
   "cell_type": "code",
   "execution_count": 13,
   "id": "55653560-f203-44a2-85aa-7680e8bc8fd4",
   "metadata": {},
   "outputs": [
    {
     "data": {
      "text/plain": [
       "method\n",
       "control     4398\n",
       "scGen       1010\n",
       "CellOT      1010\n",
       "CellFlow    1010\n",
       "true        1010\n",
       "Name: count, dtype: int64"
      ]
     },
     "execution_count": 13,
     "metadata": {},
     "output_type": "execute_result"
    }
   ],
   "source": [
    "df[\"method\"].value_counts()"
   ]
  },
  {
   "cell_type": "code",
   "execution_count": 14,
   "id": "35912f49",
   "metadata": {},
   "outputs": [],
   "source": [
    "custom_order = ['control', 'scGen', 'CellOT', 'CellFlow', 'true']\n",
    "custom_dtype = pd.CategoricalDtype(categories=custom_order, ordered=True)\n",
    "df['method'] = df['method'].astype('category').astype(custom_dtype)"
   ]
  },
  {
   "cell_type": "code",
   "execution_count": 15,
   "id": "cae180b4-c3da-45ca-8d2e-fac6ad2c921f",
   "metadata": {},
   "outputs": [],
   "source": [
    "features = bdata.var_names"
   ]
  },
  {
   "cell_type": "code",
   "execution_count": 16,
   "id": "144bcbdc-f85b-48c5-b028-1b4a7d2f2de1",
   "metadata": {},
   "outputs": [
    {
     "data": {
      "text/plain": [
       "method\n",
       "control     4398\n",
       "scGen       1010\n",
       "CellOT      1010\n",
       "CellFlow    1010\n",
       "true        1010\n",
       "Name: count, dtype: int64"
      ]
     },
     "execution_count": 16,
     "metadata": {},
     "output_type": "execute_result"
    }
   ],
   "source": [
    "df[\"method\"].value_counts()"
   ]
  },
  {
   "cell_type": "code",
   "execution_count": 17,
   "id": "a0dbb4e1",
   "metadata": {},
   "outputs": [
    {
     "name": "stderr",
     "output_type": "stream",
     "text": [
      "/home/icb/dominik.klein/mambaforge/envs/cellflow/lib/python3.12/site-packages/joypy/joyplot.py:176: FutureWarning: The default of observed=False is deprecated and will be changed to True in a future version of pandas. Pass observed=False to retain current behavior or observed=True to adopt the future default and silence this warning.\n",
      "  grouped = data.groupby(by)\n"
     ]
    },
    {
     "data": {
      "image/png": "[encoded data removed]",
      "text/plain": [
       "<Figure size 300x300 with 6 Axes>"
      ]
     },
     "metadata": {},
     "output_type": "display_data"
    },
    {
     "name": "stderr",
     "output_type": "stream",
     "text": [
      "/home/icb/dominik.klein/mambaforge/envs/cellflow/lib/python3.12/site-packages/joypy/joyplot.py:176: FutureWarning: The default of observed=False is deprecated and will be changed to True in a future version of pandas. Pass observed=False to retain current behavior or observed=True to adopt the future default and silence this warning.\n",
      "  grouped = data.groupby(by)\n"
     ]
    },
    {
     "data": {
      "image/png": "[encoded data removed]",
      "text/plain": [
       "<Figure size 300x300 with 6 Axes>"
      ]
     },
     "metadata": {},
     "output_type": "display_data"
    },
    {
     "name": "stderr",
     "output_type": "stream",
     "text": [
      "/home/icb/dominik.klein/mambaforge/envs/cellflow/lib/python3.12/site-packages/joypy/joyplot.py:176: FutureWarning: The default of observed=False is deprecated and will be changed to True in a future version of pandas. Pass observed=False to retain current behavior or observed=True to adopt the future default and silence this warning.\n",
      "  grouped = data.groupby(by)\n"
     ]
    },
    {
     "data": {
      "image/png": "[encoded data removed]",
      "text/plain": [
       "<Figure size 300x300 with 6 Axes>"
      ]
     },
     "metadata": {},
     "output_type": "display_data"
    }
   ],
   "source": [
    "from matplotlib.colors import ListedColormap\n",
    "import matplotlib.pyplot as plt\n",
    "import joypy\n",
    "\n",
    "\n",
    "palette = ['#000000', \"#8CBDE5\", \"#65C8BF\", \"#B12F8C\", '#D6D6D6']\n",
    "custom_cmap = ListedColormap(palette)\n",
    "\n",
    "features = [\"morphology-cell-elongation\", \"intensity-nuclei-pEGFR-mean\", \"intensity-cell-Ki67-mean\"]\n",
    "\n",
    "for i,feature in enumerate(features):\n",
    "    fig, axes = joypy.joyplot(\n",
    "        df[[feature, \"method\"]],\n",
    "        by=\"method\",\n",
    "        colormap=custom_cmap,\n",
    "        overlap=1.5,\n",
    "        alpha=0.8,\n",
    "        figsize=(3, 3),\n",
    "        linewidth=1\n",
    "    )\n",
    "    plt.title(f\"{feature} {drug}\", fontsize=12)\n",
    "    fig.savefig(f\"/lustre/groups/ml01/workspace/ot_perturbation/figures/4i/joyplots/{drug}_{feature}.pdf\")\n",
    "    plt.show()\n"
   ]
  },
  {
   "cell_type": "code",
   "execution_count": null,
   "id": "bab47dd6",
   "metadata": {},
   "outputs": [],
   "source": []
  },
  {
   "cell_type": "code",
   "execution_count": null,
   "id": "45805852",
   "metadata": {},
   "outputs": [],
   "source": []
  },
  {
   "cell_type": "code",
   "execution_count": null,
   "id": "26982bd4",
   "metadata": {},
   "outputs": [],
   "source": []
  },
  {
   "cell_type": "code",
   "execution_count": null,
   "id": "b9c2ffe9-38ae-41a2-9a03-705e02bcbd81",
   "metadata": {},
   "outputs": [],
   "source": []
  }
 ],
 "metadata": {
  "kernelspec": {
   "display_name": "cellflow",
   "language": "python",
   "name": "cellflow"
  },
  "language_info": {
   "codemirror_mode": {
    "name": "ipython",
    "version": 3
   },
   "file_extension": ".py",
   "mimetype": "text/x-python",
   "name": "python",
   "nbconvert_exporter": "python",
   "pygments_lexer": "ipython3",
   "version": "3.12.9"
  }
 },
 "nbformat": 4,
 "nbformat_minor": 5
}
