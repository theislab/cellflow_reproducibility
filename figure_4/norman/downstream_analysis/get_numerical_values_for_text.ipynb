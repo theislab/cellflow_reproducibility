{
 "cells": [
  {
   "cell_type": "code",
   "execution_count": 1,
   "id": "ecc7116b-9dd1-4ae8-8353-dc0103f31f2d",
   "metadata": {},
   "outputs": [],
   "source": [
    "import pandas as pd"
   ]
  },
  {
   "cell_type": "code",
   "execution_count": 2,
   "id": "108eea2f-a395-4e75-9e41-3d5805401684",
   "metadata": {},
   "outputs": [],
   "source": [
    "df = pd.read_csv(\"/lustre/groups/ml01/workspace/ot_perturbation/data/norman_2/results/allocation/results_norman_prelim2.csv\")"
   ]
  },
  {
   "cell_type": "code",
   "execution_count": 3,
   "id": "b4c55bf6-bc35-4d4b-a0ea-8167a37c3e06",
   "metadata": {},
   "outputs": [
    {
     "name": "stdout",
     "output_type": "stream",
     "text": [
      "model\n",
      "biolord     15.663891\n",
      "cellflow    12.144304\n",
      "gears       14.739131\n",
      "identity    44.350379\n",
      "Name: encoded_ood_e_distance, dtype: float64\n",
      "model\n",
      "biolord     11.446430\n",
      "cellflow    10.112005\n",
      "gears       11.063463\n",
      "identity    15.443059\n",
      "Name: encoded_ood_e_distance, dtype: float64\n",
      "model\n",
      "biolord     26.114216\n",
      "cellflow    17.169187\n",
      "gears       20.367313\n",
      "identity    55.628238\n",
      "Name: encoded_ood_e_distance, dtype: float64\n",
      "model\n",
      "additive     5.646977\n",
      "biolord      5.687315\n",
      "cellflow     3.004856\n",
      "gears        7.766070\n",
      "identity    51.229344\n",
      "Name: encoded_ood_e_distance, dtype: float64\n"
     ]
    }
   ],
   "source": [
    "for subgroup in df[\"subgroup\"].unique():\n",
    "    df_tmp = df[df[\"subgroup\"]==subgroup]\n",
    "    print(df_tmp.groupby(\"model\")[\"encoded_ood_e_distance\"].median())"
   ]
  },
  {
   "cell_type": "code",
   "execution_count": 4,
   "id": "f017ce20-5b19-4d86-a83f-dd14cdc3a714",
   "metadata": {},
   "outputs": [
    {
     "name": "stdout",
     "output_type": "stream",
     "text": [
      "model\n",
      "biolord     0.071328\n",
      "cellflow    0.029047\n",
      "gears       0.052325\n",
      "identity    0.086363\n",
      "Name: encoded_ood_mmd, dtype: float64\n",
      "model\n",
      "biolord     0.053012\n",
      "cellflow    0.024776\n",
      "gears       0.033496\n",
      "identity    0.038023\n",
      "Name: encoded_ood_mmd, dtype: float64\n",
      "model\n",
      "biolord     0.062861\n",
      "cellflow    0.036084\n",
      "gears       0.065108\n",
      "identity    0.098695\n",
      "Name: encoded_ood_mmd, dtype: float64\n",
      "model\n",
      "additive    0.025671\n",
      "biolord     0.663943\n",
      "cellflow    0.011213\n",
      "gears       0.038774\n",
      "identity    0.099738\n",
      "Name: encoded_ood_mmd, dtype: float64\n"
     ]
    }
   ],
   "source": [
    "for subgroup in df[\"subgroup\"].unique():\n",
    "    df_tmp = df[df[\"subgroup\"]==subgroup]\n",
    "    print(df_tmp.groupby(\"model\")[\"encoded_ood_mmd\"].median())"
   ]
  },
  {
   "cell_type": "code",
   "execution_count": 6,
   "id": "d0a83234-33bb-4336-8741-043ecf10cfe2",
   "metadata": {},
   "outputs": [
    {
     "name": "stdout",
     "output_type": "stream",
     "text": [
      "model\n",
      "biolord     0.970107\n",
      "cellflow    0.984464\n",
      "gears       0.972513\n",
      "identity    0.961148\n",
      "Name: decoded_ood_r_squared, dtype: float64\n",
      "model\n",
      "biolord     0.975615\n",
      "cellflow    0.988459\n",
      "gears       0.985117\n",
      "identity    0.984033\n",
      "Name: decoded_ood_r_squared, dtype: float64\n",
      "model\n",
      "biolord     0.948921\n",
      "cellflow    0.978833\n",
      "gears       0.966772\n",
      "identity    0.959195\n",
      "Name: decoded_ood_r_squared, dtype: float64\n",
      "model\n",
      "additive    0.992122\n",
      "biolord     0.991957\n",
      "cellflow    0.992101\n",
      "gears       0.977384\n",
      "identity    0.957725\n",
      "Name: decoded_ood_r_squared, dtype: float64\n"
     ]
    }
   ],
   "source": [
    "for subgroup in df[\"subgroup\"].unique():\n",
    "    df_tmp = df[df[\"subgroup\"]==subgroup]\n",
    "    print(df_tmp.groupby(\"model\")[\"decoded_ood_r_squared\"].median())"
   ]
  },
  {
   "cell_type": "code",
   "execution_count": 10,
   "id": "1d7eae0e-b3df-433c-b751-96dbd66dcb71",
   "metadata": {},
   "outputs": [
    {
     "name": "stdout",
     "output_type": "stream",
     "text": [
      "model\n",
      "biolord     0.936665\n",
      "cellflow    0.930345\n",
      "gears       0.919217\n",
      "identity    0.758234\n",
      "Name: deg_ood_r_squared, dtype: float64\n",
      "model\n",
      "biolord     0.931522\n",
      "cellflow    0.932328\n",
      "gears       0.937026\n",
      "identity    0.913746\n",
      "Name: deg_ood_r_squared, dtype: float64\n",
      "model\n",
      "biolord     0.868950\n",
      "cellflow    0.887265\n",
      "gears       0.865197\n",
      "identity    0.760794\n",
      "Name: deg_ood_r_squared, dtype: float64\n",
      "model\n",
      "additive    0.983520\n",
      "biolord     0.983012\n",
      "cellflow    0.972533\n",
      "gears       0.953288\n",
      "identity    0.779529\n",
      "Name: deg_ood_r_squared, dtype: float64\n"
     ]
    }
   ],
   "source": [
    "for subgroup in df[\"subgroup\"].unique():\n",
    "    df_tmp = df[df[\"subgroup\"]==subgroup]\n",
    "    print(df_tmp.groupby(\"model\")[\"deg_ood_r_squared\"].median())"
   ]
  },
  {
   "cell_type": "code",
   "execution_count": null,
   "id": "3ff7c26f-faf4-4665-b055-cc6ea79570cb",
   "metadata": {},
   "outputs": [],
   "source": []
  }
 ],
 "metadata": {
  "kernelspec": {
   "display_name": "cfp",
   "language": "python",
   "name": "cfp"
  },
  "language_info": {
   "codemirror_mode": {
    "name": "ipython",
    "version": 3
   },
   "file_extension": ".py",
   "mimetype": "text/x-python",
   "name": "python",
   "nbconvert_exporter": "python",
   "pygments_lexer": "ipython3",
   "version": "3.11.9"
  }
 },
 "nbformat": 4,
 "nbformat_minor": 5
}
