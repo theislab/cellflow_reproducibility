{
 "cells": [
  {
   "cell_type": "code",
   "execution_count": 2,
   "metadata": {},
   "outputs": [
    {
     "name": "stdout",
     "output_type": "stream",
     "text": [
      "The autoreload extension is already loaded. To reload it, use:\n",
      "  %reload_ext autoreload\n"
     ]
    }
   ],
   "source": [
    "%load_ext autoreload\n",
    "%autoreload 2"
   ]
  },
  {
   "cell_type": "code",
   "execution_count": 3,
   "metadata": {},
   "outputs": [
    {
     "name": "stdout",
     "output_type": "stream",
     "text": [
      "Sat Nov 30 12:02:38 2024       \n",
      "+-----------------------------------------------------------------------------------------+\n",
      "| NVIDIA-SMI 560.35.03              Driver Version: 560.35.03      CUDA Version: 12.6     |\n",
      "|-----------------------------------------+------------------------+----------------------+\n",
      "| GPU  Name                 Persistence-M | Bus-Id          Disp.A | Volatile Uncorr. ECC |\n",
      "| Fan  Temp   Perf          Pwr:Usage/Cap |           Memory-Usage | GPU-Util  Compute M. |\n",
      "|                                         |                        |               MIG M. |\n",
      "|=========================================+========================+======================|\n",
      "|   0  Tesla V100-SXM3-32GB           Off |   00000000:4C:00.0 Off |                    0 |\n",
      "| N/A   29C    P0             48W /  350W |       1MiB /  32768MiB |      0%      Default |\n",
      "|                                         |                        |                  N/A |\n",
      "+-----------------------------------------+------------------------+----------------------+\n",
      "                                                                                         \n",
      "+-----------------------------------------------------------------------------------------+\n",
      "| Processes:                                                                              |\n",
      "|  GPU   GI   CI        PID   Type   Process name                              GPU Memory |\n",
      "|        ID   ID                                                               Usage      |\n",
      "|=========================================================================================|\n",
      "|  No running processes found                                                             |\n",
      "+-----------------------------------------------------------------------------------------+\n"
     ]
    }
   ],
   "source": [
    "!nvidia-smi"
   ]
  },
  {
   "cell_type": "code",
   "execution_count": null,
   "metadata": {},
   "outputs": [],
   "source": [
    "import os\n",
    "import ast\n",
    "import jax\n",
    "import numpy as np\n",
    "import pandas as pd\n",
    "import anndata as ad\n",
    "import scanpy as sc\n",
    "\n",
    "from tqdm.auto import tqdm\n",
    "\n",
    "import cfp.preprocessing as cfpp\n",
    "from cfp.metrics import compute_metrics, compute_mean_metrics, compute_metrics_fast"
   ]
  },
  {
   "cell_type": "code",
   "execution_count": null,
   "metadata": {},
   "outputs": [],
   "source": [
    "def get_mask(x, y):\n",
    "    return x[:, [gene in y for gene in adata_train.var_names]]"
   ]
  },
  {
   "cell_type": "code",
   "execution_count": null,
   "metadata": {},
   "outputs": [],
   "source": [
    "def extract_metainfo(file_path):\n",
    "    \"\"\"\n",
    "    Extracts the configuration dictionary, results file path, split index, \n",
    "    and wandb run name from the log file and returns them in a dictionary.\n",
    "\n",
    "    Args:\n",
    "        file_path (str): Path to the log file.\n",
    "\n",
    "    Returns:\n",
    "        dict: A dictionary containing the extracted information:\n",
    "            - 'config': The configuration dictionary parsed from the log file.\n",
    "            - 'results_path': The path of the results file.\n",
    "            - 'split_index': The split index as an integer.\n",
    "            - 'wandb_run_name': The wandb run name as a string.\n",
    "    \"\"\"\n",
    "    with open(file_path, \"r\") as file:\n",
    "        lines = file.readlines()\n",
    "\n",
    "    # Initialize the metainfo dictionary\n",
    "    metainfo = {\n",
    "        \"config\": None,\n",
    "        \"path_predictions\": None,\n",
    "        \"split_index\": None,\n",
    "        \"wandb_run_name\": None\n",
    "    }\n",
    "\n",
    "    # Extract the third line containing the config dictionary\n",
    "    config_line = lines[2].strip()\n",
    "\n",
    "    # Parse the configuration dictionary\n",
    "    try:\n",
    "        metainfo[\"config\"] = ast.literal_eval(config_line)\n",
    "    except (SyntaxError, ValueError) as e:\n",
    "        raise ValueError(\"Failed to parse configuration dictionary.\") from e\n",
    "\n",
    "    # Extract the results file path and wandb run name\n",
    "    for line in lines:\n",
    "        if \"Saving results at:\" in line:\n",
    "            metainfo[\"path_predictions\"] = line.split(\"Saving results at:\")[-1].strip()\n",
    "        # if \"🚀 View run\" in line:\n",
    "        #     metainfo[\"wandb_run_name\"] = line.split(\"View run\")[1].split(\"at:\")[0].strip()\n",
    "        if \"🚀 View run\" in line:\n",
    "            # Extract the run name and remove any icons or extra spaces\n",
    "            raw_run_name = line.split(\"View run\")[1].split(\"at:\")[0].strip()\n",
    "            metainfo[\"wandb_run_name\"] = raw_run_name.replace(\"\\x1b[33m\", \"\").replace(\"\\x1b[0m\", \"\").strip()\n",
    "\n",
    "    if not metainfo[\"path_predictions\"]:\n",
    "        raise ValueError(\"Results path not found in the log file.\")\n",
    "    if not metainfo[\"wandb_run_name\"]:\n",
    "        raise ValueError(\"wandb run name not found in the log file.\")\n",
    "\n",
    "    # Extract the split index from the first line\n",
    "    for line in lines:\n",
    "        if line.startswith(\"split:\"):\n",
    "            try:\n",
    "                metainfo[\"split_index\"] = int(line.split(\":\")[-1].strip())\n",
    "            except ValueError:\n",
    "                raise ValueError(\"Failed to parse the split index.\")\n",
    "            break\n",
    "\n",
    "    if metainfo[\"split_index\"] is None:\n",
    "        raise ValueError(\"Split index not found in the log file.\")\n",
    "\n",
    "    return metainfo\n",
    "\n",
    "# # Example usage\n",
    "# log_file_path = \"path_to_your_log_file.txt\"\n",
    "# metainfo = extract_metainfo(log_file_path)\n",
    "\n",
    "# # Print the results\n",
    "# print(\"Metainfo:\", metainfo)\n"
   ]
  },
  {
   "cell_type": "code",
   "execution_count": null,
   "metadata": {},
   "outputs": [],
   "source": [
    "path_log_file = \"/home/haicu/soeren.becker/repos/ot_pert_reproducibility/runs_otfm/bash_scripts/h-otfm-norman_29797689.out\""
   ]
  },
  {
   "cell_type": "code",
   "execution_count": null,
   "metadata": {},
   "outputs": [],
   "source": [
    "metainfo = extract_metainfo(path_log_file)\n",
    "config = metainfo[\"config\"]\n",
    "path_predictions = metainfo[\"path_predictions\"]\n",
    "split = metainfo[\"split_index\"]\n",
    "wandb_run_name = metainfo[\"wandb_run_name\"]\n",
    "print(\"wandb_run_name\", wandb_run_name)\n",
    "print(\"split\", split)\n",
    "print(\"path_predictions\", path_predictions)\n",
    "print(\"config\", config)\n",
    "assert split == config[\"dataset\"][\"split\"]\n"
   ]
  },
  {
   "cell_type": "code",
   "execution_count": null,
   "metadata": {},
   "outputs": [],
   "source": [
    "wandb_run_name"
   ]
  },
  {
   "cell_type": "code",
   "execution_count": null,
   "metadata": {},
   "outputs": [],
   "source": [
    "DATA_DIR = \"/home/haicu/soeren.becker/repos/ot_pert_reproducibility/norman2019/norman_preprocessed_adata\"\n",
    "\n",
    "adata_train_path = os.path.join(DATA_DIR, f\"adata_train_pca_50_split_{split}.h5ad\")\n",
    "adata_test_path = os.path.join(DATA_DIR, f\"adata_val_pca_50_split_{split}.h5ad\")\n",
    "adata_ood_path = os.path.join(DATA_DIR, f\"adata_test_pca_50_split_{split}.h5ad\")\n",
    "\n",
    "# load data splits\n",
    "adata_train = sc.read(adata_train_path)\n",
    "adata_test = sc.read(adata_test_path)\n",
    "adata_ood = sc.read(adata_ood_path)"
   ]
  },
  {
   "cell_type": "code",
   "execution_count": null,
   "metadata": {},
   "outputs": [],
   "source": [
    "# adata_pred_ood = sc.read_h5ad(f\"/lustre/groups/ml01/workspace/ot_perturbation/data/norman_soren/cellflow/out/solar-pine-515_adata_test_with_predictions_0.h5ad\")\n",
    "# path_predictions = f\"/lustre/groups/ml01/workspace/ot_perturbation/data/norman_soren/cellflow/out/astral-water-224_adata_test_with_predictions_0.h5ad\"\n",
    "adata_pred_ood = sc.read_h5ad(path_predictions)\n",
    "adata_pred_ood.obs.loc[:, [\"gene_1\", \"gene_2\"]] = adata_pred_ood.obs.condition.str.split(\"+\", expand=True).rename({0: \"gene_1\", 1: \"gene_2\"}, axis=1).values\n",
    "adata_pred_ood.X = adata_pred_ood.layers['X_recon_pred']"
   ]
  },
  {
   "cell_type": "code",
   "execution_count": null,
   "metadata": {},
   "outputs": [],
   "source": [
    "adata_pred_ood.X.max(),  adata_ood.X.max(), adata_train.X.max(), adata_test.X.max()"
   ]
  },
  {
   "cell_type": "code",
   "execution_count": null,
   "metadata": {},
   "outputs": [],
   "source": [
    "# compute pca on full dataset\n",
    "adata_all = ad.concat((adata_train, adata_test, adata_ood))\n",
    "cfpp.centered_pca(adata_all, n_comps=10)"
   ]
  },
  {
   "cell_type": "code",
   "execution_count": null,
   "metadata": {},
   "outputs": [],
   "source": [
    "cfpp.project_pca(query_adata=adata_pred_ood, ref_adata=adata_all)\n",
    "cfpp.project_pca(query_adata=adata_ood, ref_adata=adata_all)"
   ]
  },
  {
   "cell_type": "code",
   "execution_count": null,
   "metadata": {},
   "outputs": [],
   "source": [
    "def add_subgroup_annotations(adata_train, adata): \n",
    "\n",
    "    train_conditions = adata_train.obs.condition.str.replace(\"+ctrl\", \"\").str.replace(\"ctrl+\", \"\").unique()\n",
    "\n",
    "    assert not adata[adata.obs.condition != \"ctrl\"].obs.condition.isin(train_conditions).any()\n",
    "\n",
    "    mask_single_perturbation = adata.obs.condition.str.contains(\"ctrl\")\n",
    "    mask_double_perturbation_seen_0 = (\n",
    "        ~adata.obs.condition.str.contains(\"ctrl\") & \n",
    "        ~adata.obs.gene_1.isin(train_conditions) & \n",
    "        ~adata.obs.gene_2.isin(train_conditions)\n",
    "    )\n",
    "    mask_double_perturbation_seen_1 = (\n",
    "        ~adata.obs.condition.str.contains(\"ctrl\") & \n",
    "        (\n",
    "            (adata.obs.gene_1.isin(train_conditions) & ~adata.obs.gene_2.isin(train_conditions)) | \n",
    "            (~adata.obs.gene_1.isin(train_conditions) & adata.obs.gene_2.isin(train_conditions))\n",
    "        )\n",
    "    )\n",
    "    mask_double_perturbation_seen_2 = (\n",
    "        ~adata.obs.condition.str.contains(\"ctrl\") & \n",
    "        adata.obs.gene_1.isin(train_conditions) & \n",
    "        adata.obs.gene_2.isin(train_conditions)\n",
    "    )\n",
    "    adata.obs.loc[mask_single_perturbation, \"subgroup\"] = \"single\"\n",
    "    adata.obs.loc[mask_double_perturbation_seen_0, \"subgroup\"] = \"double_seen_0\"\n",
    "    adata.obs.loc[mask_double_perturbation_seen_1, \"subgroup\"] = \"double_seen_1\"\n",
    "    adata.obs.loc[mask_double_perturbation_seen_2, \"subgroup\"] = \"double_seen_2\"\n",
    "\n",
    "add_subgroup_annotations(adata_train, adata_ood)\n",
    "add_subgroup_annotations(adata_train, adata_pred_ood)\n",
    "\n",
    "display(adata_ood.obs.subgroup.value_counts())\n",
    "display(adata_pred_ood.obs.subgroup.value_counts())"
   ]
  },
  {
   "cell_type": "code",
   "execution_count": null,
   "metadata": {},
   "outputs": [],
   "source": [
    "ood_data_target_encoded, ood_data_target_decoded = {}, {}\n",
    "ood_data_target_encoded_predicted, ood_data_target_decoded_predicted = {}, {}\n",
    "\n",
    "subgroups = [\"single\", \"double_seen_0\", \"double_seen_1\", \"double_seen_2\"]\n",
    "\n",
    "for subgroup in tqdm(subgroups):\n",
    "\n",
    "    ood_data_target_encoded[subgroup] = {}\n",
    "    ood_data_target_decoded[subgroup] = {}\n",
    "    ood_data_target_encoded_predicted[subgroup] = {}\n",
    "    ood_data_target_decoded_predicted[subgroup] = {}\n",
    "    \n",
    "    for cond in adata_ood.obs[\"condition\"].cat.categories:\n",
    "        if cond == \"ctrl\":\n",
    "            continue\n",
    "        \n",
    "        select = adata_ood.obs[\"condition\"] == cond\n",
    "        select_pred = adata_pred_ood.obs[\"condition\"] == cond\n",
    "\n",
    "        if subgroup != \"all\":\n",
    "            select = select & (adata_ood.obs.subgroup == subgroup)\n",
    "            select_pred = select_pred & (adata_pred_ood.obs.subgroup == subgroup)\n",
    "\n",
    "        if not any(select):\n",
    "            # the condition is not part of this subgroup\n",
    "            continue\n",
    "        \n",
    "        # pca space\n",
    "        ood_data_target_encoded[subgroup][cond] = adata_ood[select].obsm[\"X_pca\"]\n",
    "        ood_data_target_encoded_predicted[subgroup][cond] = adata_pred_ood[select_pred].obsm[\"X_pca\"]\n",
    "    \n",
    "        # gene space\n",
    "        ood_data_target_decoded[subgroup][cond] = np.asarray(adata_ood[select].X.todense())\n",
    "        ood_data_target_decoded_predicted[subgroup][cond] = adata_pred_ood[select_pred].X"
   ]
  },
  {
   "cell_type": "code",
   "execution_count": null,
   "metadata": {},
   "outputs": [],
   "source": [
    "ood_metrics_encoded, mean_ood_metrics_encoded = {}, {}\n",
    "ood_metrics_decoded, mean_ood_metrics_decoded = {}, {}\n",
    "deg_ood_metrics, deg_mean_ood_metrics = {}, {}\n",
    "ood_deg_dict = {}\n",
    "ood_deg_target_decoded_predicted, ood_deg_target_decoded = {}, {}\n",
    "\n",
    "for subgroup in tqdm(subgroups[::-1]):\n",
    "\n",
    "    print(f\"subgroup: {subgroup}\")\n",
    "    print(\"Computing ood_metrics_encoded\")\n",
    "    # ood set: evaluation in encoded (=pca) space\n",
    "    ood_metrics_encoded[subgroup] = jax.tree_util.tree_map(\n",
    "        compute_metrics, \n",
    "        # compute_metrics_fast, \n",
    "        ood_data_target_encoded[subgroup], \n",
    "        ood_data_target_encoded_predicted[subgroup]\n",
    "    )\n",
    "    mean_ood_metrics_encoded[subgroup] = compute_mean_metrics(\n",
    "        ood_metrics_encoded[subgroup], \n",
    "        prefix=\"encoded_ood_\",\n",
    "    )\n",
    "\n",
    "    print(\"Computing ood_metrics_decoded\")\n",
    "    # ood set: evaluation in decoded (=gene) space\n",
    "    ood_metrics_decoded[subgroup] = jax.tree_util.tree_map(\n",
    "        # compute_metrics, \n",
    "        compute_metrics_fast, \n",
    "        ood_data_target_decoded[subgroup], \n",
    "        ood_data_target_decoded_predicted[subgroup]\n",
    "    )\n",
    "    mean_ood_metrics_decoded[subgroup] = compute_mean_metrics(\n",
    "        ood_metrics_decoded[subgroup], \n",
    "        prefix=\"decoded_ood_\",\n",
    "    )\n",
    "\n",
    "    # ood set\n",
    "    ood_deg_dict[subgroup] = {\n",
    "        k: v\n",
    "        for k, v in adata_train.uns['rank_genes_groups_cov_all'].items() \n",
    "        if k in ood_data_target_decoded_predicted[subgroup].keys()\n",
    "    }\n",
    "\n",
    "    print(\"Apply DEG mask\")\n",
    "    # ood set\n",
    "    ood_deg_target_decoded_predicted[subgroup] = jax.tree_util.tree_map(\n",
    "        get_mask, \n",
    "        ood_data_target_decoded_predicted[subgroup], \n",
    "        ood_deg_dict[subgroup]\n",
    "    )\n",
    "    \n",
    "    ood_deg_target_decoded[subgroup] = jax.tree_util.tree_map(\n",
    "        get_mask, \n",
    "        ood_data_target_decoded[subgroup], \n",
    "        ood_deg_dict[subgroup]\n",
    "    )\n",
    "\n",
    "    print(\"Compute metrics on DEG subsetted decoded\")\n",
    "    deg_ood_metrics[subgroup] = jax.tree_util.tree_map(\n",
    "        compute_metrics, \n",
    "        # compute_metrics_fast, \n",
    "        ood_deg_target_decoded[subgroup], \n",
    "        ood_deg_target_decoded_predicted[subgroup]\n",
    "    )\n",
    "    deg_mean_ood_metrics[subgroup] = compute_mean_metrics(\n",
    "        deg_ood_metrics[subgroup], \n",
    "        prefix=\"deg_ood_\"\n",
    "    )"
   ]
  },
  {
   "cell_type": "code",
   "execution_count": null,
   "metadata": {},
   "outputs": [],
   "source": [
    "collected_results = {\n",
    "    # ood\n",
    "    \"ood_metrics_encoded\": ood_metrics_encoded,\n",
    "    \"mean_ood_metrics_encoded\": mean_ood_metrics_encoded,\n",
    "    \"ood_metrics_decoded\": ood_metrics_decoded,\n",
    "    \"mean_ood_metrics_decoded\": mean_ood_metrics_decoded,\n",
    "    \"deg_ood_metrics\": deg_ood_metrics,\n",
    "    \"deg_mean_ood_metrics\": deg_mean_ood_metrics,\n",
    "    \"ood_deg_dict\": ood_deg_dict,\n",
    "    \"ood_deg_target_decoded_predicted\": ood_deg_target_decoded_predicted,\n",
    "    \"ood_deg_target_decoded\": ood_deg_target_decoded,\n",
    "    \"path_predictions\": path_predictions,\n",
    "    \"wandb_run_name\": wandb_run_name,\n",
    "}"
   ]
  },
  {
   "cell_type": "code",
   "execution_count": null,
   "metadata": {},
   "outputs": [],
   "source": [
    "collected_results[\"deg_mean_ood_metrics\"]"
   ]
  },
  {
   "cell_type": "code",
   "execution_count": null,
   "metadata": {},
   "outputs": [],
   "source": [
    "OUT_DIR = \"/lustre/groups/ml01/workspace/ot_perturbation/data/norman_soren/cellflow\"\n",
    "result_filename = os.path.join(OUT_DIR, f\"cellflow_split_{split}_collected_results_{wandb_run_name}.pkl\")\n",
    "print(f\"Saving results at: {result_filename}\")\n",
    "pd.to_pickle(collected_results, result_filename)"
   ]
  },
  {
   "cell_type": "code",
   "execution_count": null,
   "metadata": {},
   "outputs": [],
   "source": [
    "wandb_run_name"
   ]
  },
  {
   "cell_type": "code",
   "execution_count": null,
   "metadata": {},
   "outputs": [],
   "source": []
  }
 ],
 "metadata": {
  "kernelspec": {
   "display_name": "env_cfp2",
   "language": "python",
   "name": "python3"
  },
  "language_info": {
   "codemirror_mode": {
    "name": "ipython",
    "version": 3
   },
   "file_extension": ".py",
   "mimetype": "text/x-python",
   "name": "python",
   "nbconvert_exporter": "python",
   "pygments_lexer": "ipython3",
   "version": "3.12.0"
  }
 },
 "nbformat": 4,
 "nbformat_minor": 2
}
