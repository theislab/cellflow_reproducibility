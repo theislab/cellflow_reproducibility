{
 "cells": [
  {
   "cell_type": "code",
   "execution_count": 1,
   "id": "c133c1a9-2cd8-44f6-be9a-3a79c788cc12",
   "metadata": {},
   "outputs": [
    {
     "name": "stderr",
     "output_type": "stream",
     "text": [
      "Warning message:\n",
      "“package ‘tidyverse’ was built under R version 4.2.3”\n",
      "Warning message:\n",
      "“package ‘tibble’ was built under R version 4.2.3”\n",
      "Warning message:\n",
      "“package ‘readr’ was built under R version 4.2.3”\n",
      "Warning message:\n",
      "“package ‘purrr’ was built under R version 4.2.3”\n",
      "Warning message:\n",
      "“package ‘dplyr’ was built under R version 4.2.3”\n",
      "Warning message:\n",
      "“package ‘stringr’ was built under R version 4.2.3”\n",
      "Warning message:\n",
      "“package ‘forcats’ was built under R version 4.2.3”\n",
      "Warning message:\n",
      "“package ‘lubridate’ was built under R version 4.2.3”\n",
      "── \u001b[1mAttaching core tidyverse packages\u001b[22m ──────────────────────── tidyverse 2.0.0 ──\n",
      "\u001b[32m✔\u001b[39m \u001b[34mdplyr    \u001b[39m 1.1.4     \u001b[32m✔\u001b[39m \u001b[34mreadr    \u001b[39m 2.1.4\n",
      "\u001b[32m✔\u001b[39m \u001b[34mforcats  \u001b[39m 1.0.0     \u001b[32m✔\u001b[39m \u001b[34mstringr  \u001b[39m 1.5.1\n",
      "\u001b[32m✔\u001b[39m \u001b[34mggplot2  \u001b[39m 3.5.1     \u001b[32m✔\u001b[39m \u001b[34mtibble   \u001b[39m 3.2.1\n",
      "\u001b[32m✔\u001b[39m \u001b[34mlubridate\u001b[39m 1.9.3     \u001b[32m✔\u001b[39m \u001b[34mtidyr    \u001b[39m 1.3.1\n",
      "\u001b[32m✔\u001b[39m \u001b[34mpurrr    \u001b[39m 1.0.2     \n",
      "── \u001b[1mConflicts\u001b[22m ────────────────────────────────────────── tidyverse_conflicts() ──\n",
      "\u001b[31m✖\u001b[39m \u001b[34mdplyr\u001b[39m::\u001b[32mfilter()\u001b[39m masks \u001b[34mstats\u001b[39m::filter()\n",
      "\u001b[31m✖\u001b[39m \u001b[34mdplyr\u001b[39m::\u001b[32mlag()\u001b[39m    masks \u001b[34mstats\u001b[39m::lag()\n",
      "\u001b[36mℹ\u001b[39m Use the conflicted package (\u001b[3m\u001b[34m<http://conflicted.r-lib.org/>\u001b[39m\u001b[23m) to force all conflicts to become errors\n",
      "also installing the dependencies ‘sysfonts’, ‘showtextdb’\n",
      "\n",
      "\n",
      "Warning message in install.packages(\"showtext\"):\n",
      "“installation of package ‘sysfonts’ had non-zero exit status”\n",
      "Warning message in install.packages(\"showtext\"):\n",
      "“installation of package ‘showtextdb’ had non-zero exit status”\n",
      "Warning message in install.packages(\"showtext\"):\n",
      "“installation of package ‘showtext’ had non-zero exit status”\n",
      "Registering fonts with R\n",
      "\n"
     ]
    },
    {
     "name": "stdin",
     "output_type": "stream",
     "text": [
      "Importing fonts may take a few minutes, depending on the number of fonts and the speed of the system.\n",
      "Continue? [y/n]  y\n"
     ]
    },
    {
     "name": "stderr",
     "output_type": "stream",
     "text": [
      "Scanning ttf files in /usr/share/fonts/ ...\n",
      "\n",
      "Extracting .afm files from .ttf files...\n",
      "\n",
      "/usr/share/fonts/dejavu-sans-fonts/DejaVuSans-Bold.ttf\n",
      " : DejaVuSans-Bold already registered in fonts database. Skipping.\n",
      "\n",
      "/usr/share/fonts/dejavu-sans-fonts/DejaVuSans-BoldOblique.ttf\n",
      " : DejaVuSans-BoldOblique already registered in fonts database. Skipping.\n",
      "\n",
      "/usr/share/fonts/dejavu-sans-fonts/DejaVuSans-ExtraLight.ttf\n",
      " : DejaVuSans-ExtraLight already registered in fonts database. Skipping.\n",
      "\n",
      "/usr/share/fonts/dejavu-sans-fonts/DejaVuSans-Oblique.ttf\n",
      " : DejaVuSans-Oblique already registered in fonts database. Skipping.\n",
      "\n",
      "/usr/share/fonts/dejavu-sans-fonts/DejaVuSans.ttf\n",
      " : DejaVuSans already registered in fonts database. Skipping.\n",
      "\n",
      "/usr/share/fonts/dejavu-sans-fonts/DejaVuSansCondensed-Bold.ttf\n",
      " : DejaVuSansCondensed-Bold already registered in fonts database. Skipping.\n",
      "\n",
      "/usr/share/fonts/dejavu-sans-fonts/DejaVuSansCondensed-BoldOblique.ttf\n",
      " : DejaVuSansCondensed-BoldOblique already registered in fonts database. Skipping.\n",
      "\n",
      "/usr/share/fonts/dejavu-sans-fonts/DejaVuSansCondensed-Oblique.ttf\n",
      " : DejaVuSansCondensed-Oblique already registered in fonts database. Skipping.\n",
      "\n",
      "/usr/share/fonts/dejavu-sans-fonts/DejaVuSansCondensed.ttf\n",
      " : DejaVuSansCondensed already registered in fonts database. Skipping.\n",
      "\n",
      "/usr/share/fonts/dejavu-sans-mono-fonts/DejaVuSansMono-Bold.ttf\n",
      " : DejaVuSansMono-Bold already registered in fonts database. Skipping.\n",
      "\n",
      "/usr/share/fonts/dejavu-sans-mono-fonts/DejaVuSansMono-BoldOblique.ttf\n",
      " : DejaVuSansMono-BoldOblique already registered in fonts database. Skipping.\n",
      "\n",
      "/usr/share/fonts/dejavu-sans-mono-fonts/DejaVuSansMono-Oblique.ttf\n",
      " : DejaVuSansMono-Oblique already registered in fonts database. Skipping.\n",
      "\n",
      "/usr/share/fonts/dejavu-sans-mono-fonts/DejaVuSansMono.ttf\n",
      " : DejaVuSansMono already registered in fonts database. Skipping.\n",
      "\n",
      "/usr/share/fonts/google-droid-sans-fonts/DroidKufi-Bold.ttf\n",
      " : DroidArabicKufi-Bold already registered in fonts database. Skipping.\n",
      "\n",
      "/usr/share/fonts/google-droid-sans-fonts/DroidKufi-Regular.ttf\n",
      " : DroidArabicKufi already registered in fonts database. Skipping.\n",
      "\n",
      "/usr/share/fonts/google-droid-sans-fonts/DroidSans-Bold.ttf\n",
      " : DroidSans-Bold already registered in fonts database. Skipping.\n",
      "\n",
      "/usr/share/fonts/google-droid-sans-fonts/DroidSans.ttf\n",
      " : DroidSans already registered in fonts database. Skipping.\n",
      "\n",
      "/usr/share/fonts/google-droid-sans-fonts/DroidSansArmenian.ttf\n",
      " : DroidSansArmenian already registered in fonts database. Skipping.\n",
      "\n",
      "/usr/share/fonts/google-droid-sans-fonts/DroidSansDevanagari-Regular.ttf\n",
      " : DroidSansDevanagari already registered in fonts database. Skipping.\n",
      "\n",
      "/usr/share/fonts/google-droid-sans-fonts/DroidSansEthiopic-Bold.ttf\n",
      " : DroidSansEthiopic-Bold already registered in fonts database. Skipping.\n",
      "\n",
      "/usr/share/fonts/google-droid-sans-fonts/DroidSansEthiopic-Regular.ttf\n",
      " : DroidSansEthiopic already registered in fonts database. Skipping.\n",
      "\n",
      "/usr/share/fonts/google-droid-sans-fonts/DroidSansFallbackFull.ttf\n",
      " : DroidSansFallback already registered in fonts database. Skipping.\n",
      "\n",
      "/usr/share/fonts/google-droid-sans-fonts/DroidSansGeorgian.ttf\n",
      " : DroidSansGeorgian already registered in fonts database. Skipping.\n",
      "\n",
      "/usr/share/fonts/google-droid-sans-fonts/DroidSansHebrew-Bold.ttf\n",
      " : DroidSansHebrew-Bold already registered in fonts database. Skipping.\n",
      "\n",
      "/usr/share/fonts/google-droid-sans-fonts/DroidSansHebrew-Regular.ttf\n",
      " : DroidSansHebrew already registered in fonts database. Skipping.\n",
      "\n",
      "/usr/share/fonts/google-droid-sans-fonts/DroidSansJapanese.ttf\n",
      "Warning message in system2(enc2native(ttf2pt1), c(args, shQuote(ttfiles[i]), shQuote(tmpfiles[i])), :\n",
      "“running command ''/ictstr01/home/icb/dominik.klein/mambaforge/envs/gene-regulatory-networks-atac/lib/R/library/Rttf2pt1/exec//ttf2pt1' -a -GfAe '/usr/share/fonts/google-droid-sans-fonts/DroidSansJapanese.ttf' '/tmp/RtmpkPBXUd/fonts/DroidSansJapanese' 2>&1' had status 1”\n",
      " : No FontName. Skipping.\n",
      "\n",
      "/usr/share/fonts/google-droid-sans-fonts/DroidSansTamil-Bold.ttf\n",
      " : DroidSansTamil-Bold already registered in fonts database. Skipping.\n",
      "\n",
      "/usr/share/fonts/google-droid-sans-fonts/DroidSansTamil-Regular.ttf\n",
      " : DroidSansTamil already registered in fonts database. Skipping.\n",
      "\n",
      "/usr/share/fonts/google-droid-sans-fonts/DroidSansThai.ttf\n",
      " : DroidSansThai already registered in fonts database. Skipping.\n",
      "\n",
      "Found FontName for 0 fonts.\n",
      "\n",
      "Scanning afm files in /ictstr01/home/icb/dominik.klein/mambaforge/envs/gene-regulatory-networks-atac/lib/R/library/extrafontdb/metrics\n",
      "\n",
      "Warning message:\n",
      "“\u001b[1m\u001b[22mThe `size` argument of `element_line()` is deprecated as of ggplot2 3.4.0.\n",
      "\u001b[36mℹ\u001b[39m Please use the `linewidth` argument instead.”\n"
     ]
    }
   ],
   "source": [
    "library(tidyverse)\n",
    "library(glue)\n",
    "library(dplyr)\n",
    "\n",
    "install.packages(\"showtext\")\n",
    "install.packages(\"extrafont\")\n",
    "library(extrafont)\n",
    "font_import()\n",
    "\n",
    "\n",
    "theme_rangeframe <- function(size = 0.3) {\n",
    "    theme(\n",
    "        axis.line = element_line(colour = \"black\", lineend = \"round\", size = size),\n",
    "        axis.ticks = element_line(linewidth = size),\n",
    "        panel.border = element_blank()\n",
    "    )\n",
    "}\n",
    "\n",
    "scale_axis_rangeframe <- function() {\n",
    "    guides(x = \"axis_truncated\", y = \"axis_truncated\")\n",
    "}\n",
    "\n",
    "rotate_x_text <- function(angle=45) {\n",
    "    theme(\n",
    "        axis.text.x = element_text(angle = angle, hjust = 1)\n",
    "    )\n",
    "}\n",
    "\n",
    "article_text <- function() {\n",
    "    theme(\n",
    "        text = element_text(size = 5, family = \"Helvetica\"),\n",
    "        title = element_text(size = 6),\n",
    "        axis.text.x = element_text(size = 5),\n",
    "        axis.text.y = element_text(size = 5)\n",
    "    )\n",
    "}\n",
    "\n",
    "no_legend <- function() {\n",
    "    theme(\n",
    "        legend.position = \"none\"\n",
    "    )\n",
    "}\n",
    "\n",
    "no_margin <- function() {\n",
    "    theme(\n",
    "        plot.margin = margin(0, 0, 0, 0, unit = \"lines\")\n",
    "    )\n",
    "}\n",
    "\n",
    "no_label <- function() {\n",
    "    theme(\n",
    "        axis.title = element_blank()\n",
    "    )\n",
    "}\n",
    "\n",
    "no_text <- function() {\n",
    "    theme(\n",
    "        axis.title = element_blank(),\n",
    "        axis.text = element_blank(),\n",
    "        axis.ticks = element_blank()\n",
    "    )\n",
    "}\n",
    "\n",
    "no_x_text <- function() {\n",
    "    theme(\n",
    "        axis.text.x = element_blank(),\n",
    "        axis.ticks.x = element_blank()\n",
    "    )\n",
    "}\n",
    "\n",
    "no_y_text <- function() {\n",
    "    theme(\n",
    "        axis.text.y = element_blank(),\n",
    "        axis.ticks.y = element_blank()\n",
    "    )\n",
    "}\n",
    "\n",
    "\n",
    "custom_theme <- function(size = 0.3){\n",
    "    theme_minimal() +\n",
    "    theme(\n",
    "        text = element_text(family='Helvetica'),\n",
    "        axis.line = element_line(colour = \"black\", lineend = \"round\", size = size),\n",
    "        axis.ticks = element_line(linewidth = size),\n",
    "        panel.border = element_blank()\n",
    "    )\n",
    "\n",
    "}\n",
    "theme_set(custom_theme())\n",
    "\n",
    "article_text <- function() {\n",
    "    theme(\n",
    "        text = element_text(size = 5, family = \"Helvetica\"),\n",
    "        title = element_text(size = 6),\n",
    "        axis.text.x = element_text(size = 5),\n",
    "        axis.text.y = element_text(size = 5)\n",
    "    )\n",
    "}\n"
   ]
  },
  {
   "cell_type": "code",
   "execution_count": 3,
   "id": "5da2601b-ae88-4591-8fe3-357502d0c27e",
   "metadata": {},
   "outputs": [],
   "source": [
    "color_dict = c(\n",
    "    \"CellFlow\"= \"#B12F8C\",\n",
    "    \"GEARS\"= \"#A2E5E7\",\n",
    "    \"Biolord\"= \"#BD6DED\",\n",
    "    \"Identity\"=\"#BDBDBD\",\n",
    "    \"scGPT\"=\"#3DB1DE\")"
   ]
  },
  {
   "cell_type": "code",
   "execution_count": 5,
   "id": "b0d458d0-3a8e-46f8-ac65-250ea178a3b6",
   "metadata": {},
   "outputs": [],
   "source": [
    "split_to_filter <- \"double_seen_0\""
   ]
  },
  {
   "cell_type": "code",
   "execution_count": 6,
   "id": "6663e14c-9a31-4985-b5d1-d8955fdfd48e",
   "metadata": {},
   "outputs": [
    {
     "name": "stderr",
     "output_type": "stream",
     "text": [
      "Warning message in dir.create(output_dir):\n",
      "“'/lustre/groups/ml01/workspace/ot_perturbation/figures/norman/benchmark/plots_double_seen_0' already exists”\n"
     ]
    }
   ],
   "source": [
    "output_dir <- glue(\"/lustre/groups/ml01/workspace/ot_perturbation/figures/norman/benchmark/plots_{split_to_filter}\")\n",
    "dir.create(output_dir)"
   ]
  },
  {
   "cell_type": "code",
   "execution_count": 7,
   "id": "3cbc2e4e-7605-4daa-b0fa-27530ca6ed41",
   "metadata": {},
   "outputs": [
    {
     "data": {
      "text/html": [
       "'/lustre/groups/ml01/workspace/ot_perturbation/figures/norman/benchmark/plots_double_seen_0'"
      ],
      "text/latex": [
       "'/lustre/groups/ml01/workspace/ot\\_perturbation/figures/norman/benchmark/plots\\_double\\_seen\\_0'"
      ],
      "text/markdown": [
       "'/lustre/groups/ml01/workspace/ot_perturbation/figures/norman/benchmark/plots_double_seen_0'"
      ],
      "text/plain": [
       "/lustre/groups/ml01/workspace/ot_perturbation/figures/norman/benchmark/plots_double_seen_0"
      ]
     },
     "metadata": {},
     "output_type": "display_data"
    }
   ],
   "source": [
    "output_dir"
   ]
  },
  {
   "cell_type": "markdown",
   "id": "86e55c4e-6808-4de4-a220-6cc11088e9de",
   "metadata": {},
   "source": [
    "# Decoded"
   ]
  },
  {
   "cell_type": "code",
   "execution_count": 25,
   "id": "b1b0e4fd-dc2f-466a-aa84-54025bd73f7e",
   "metadata": {},
   "outputs": [
    {
     "name": "stderr",
     "output_type": "stream",
     "text": [
      "\u001b[1m\u001b[22mNew names:\n",
      "\u001b[36m•\u001b[39m `` -> `...1`\n",
      "\u001b[1mRows: \u001b[22m\u001b[34m2869\u001b[39m \u001b[1mColumns: \u001b[22m\u001b[34m23\u001b[39m\n",
      "\u001b[36m──\u001b[39m \u001b[1mColumn specification\u001b[22m \u001b[36m────────────────────────────────────────────────────────\u001b[39m\n",
      "\u001b[1mDelimiter:\u001b[22m \",\"\n",
      "\u001b[31mchr\u001b[39m  (4): ...1, subgroup, condition, model\n",
      "\u001b[32mdbl\u001b[39m (19): encoded_ood_r_squared, encoded_ood_sinkhorn_div_1, encoded_ood_sin...\n",
      "\n",
      "\u001b[36mℹ\u001b[39m Use `spec()` to retrieve the full column specification for this data.\n",
      "\u001b[36mℹ\u001b[39m Specify the column types or set `show_col_types = FALSE` to quiet this message.\n"
     ]
    }
   ],
   "source": [
    "results_decoded <- read_csv(\"/lustre/groups/ml01/workspace/ot_perturbation/data/norman_2/results/allocation/norman_results_all.csv\") \n",
    "results_decoded <- results_decoded %>%\n",
    "  filter(subgroup == split_to_filter)\n",
    "results_decoded$model <- factor(results_decoded$model, \n",
    "                                levels = c(\"identity\", \"biolord\", \"gears\", \"scgpt\", \"cellflow\"),\n",
    "                                labels = c(\"Identity\", \"Biolord\", \"GEARS\" , \"scGPT\", \"CellFlow\"))  # Correct factorization\n",
    "\n"
   ]
  },
  {
   "cell_type": "code",
   "execution_count": 26,
   "id": "cd8e1101-5fb0-4e85-a900-d3930165f42c",
   "metadata": {},
   "outputs": [
    {
     "data": {
      "image/png": "[encoded data removed]",
      "text/plain": [
       "plot without title"
      ]
     },
     "metadata": {
      "image/png": {
       "height": 240,
       "width": 180
      }
     },
     "output_type": "display_data"
    }
   ],
   "source": [
    "options(repr.plot.width = 3.0, repr.plot.height = 4.0, unit=\"cm\")\n",
    "p <- ggplot(results_decoded, aes(x=model, y=decoded_ood_r_squared, fill=model)) +\n",
    "  geom_boxplot(size=0.2,  width=0.8, outlier.size=0.2, outlier.shape=16) +\n",
    "  labs(x=\"Model\", y=\"R squared\") +\n",
    "  scale_fill_manual(values=color_dict) +  # Removed labels argument\n",
    "  custom_theme() +\n",
    "article_text() +\n",
    "no_legend() +\n",
    "theme(\n",
    "    panel.grid.major=element_blank(), \n",
    "    panel.grid.minor=element_blank()\n",
    ") +\n",
    "  ylim(0.75, NA)  # Ensure the y-axis starts at 0\n",
    "p\n"
   ]
  },
  {
   "cell_type": "code",
   "execution_count": 27,
   "id": "33ea4f16-7e78-4500-9f89-dcc63f9ad81f",
   "metadata": {},
   "outputs": [],
   "source": [
    "ggsave(file.path(output_dir, \"ood_r_squared_decoded.pdf\"), plot = p, device = \"pdf\", width = 3.0, height = 4.0, unit=\"cm\")"
   ]
  },
  {
   "cell_type": "markdown",
   "id": "fa587cc5-4688-4a34-80f3-5609bc64e1ce",
   "metadata": {},
   "source": [
    "# Encoded"
   ]
  },
  {
   "cell_type": "code",
   "execution_count": 28,
   "id": "cc8ad165-1114-4b9b-9840-11ab640d4291",
   "metadata": {},
   "outputs": [],
   "source": [
    "results <- results_decoded\n",
    "results$sinkhorn_div = results$encoded_ood_sinkhorn_div_1 + results$encoded_ood_sinkhorn_div_10 + results$encoded_ood_sinkhorn_div_100"
   ]
  },
  {
   "cell_type": "code",
   "execution_count": 29,
   "id": "2c784ee6-70ca-4ba2-9993-b10e7a757abe",
   "metadata": {},
   "outputs": [
    {
     "data": {
      "image/png": "[encoded data removed]",
      "text/plain": [
       "plot without title"
      ]
     },
     "metadata": {
      "image/png": {
       "height": 240,
       "width": 180
      }
     },
     "output_type": "display_data"
    }
   ],
   "source": [
    "options(repr.plot.width = 3.0, repr.plot.height = 4.0, unit=\"cm\")\n",
    "p <- ggplot(results, aes(x=model, y=encoded_ood_e_distance, fill=model)) +\n",
    "  geom_boxplot(size=0.2,  width=0.8, outlier.size=0.2, outlier.shape=16) +\n",
    "  labs(x=\"Model\", y=\"Energy distance\") +\n",
    "  scale_fill_manual(values=color_dict) +\n",
    "  scale_y_log10() +\n",
    "  custom_theme() +\n",
    "article_text() +\n",
    "no_legend() +\n",
    "theme(\n",
    "    panel.grid.major=element_blank(), \n",
    "    panel.grid.minor=element_blank()\n",
    ") \n",
    "\n",
    "p"
   ]
  },
  {
   "cell_type": "code",
   "execution_count": 30,
   "id": "23669806-d4bb-464a-91c4-61b5b51cdbf5",
   "metadata": {},
   "outputs": [],
   "source": [
    "ggsave(file.path(output_dir, \"ood_e_distance_encoded.pdf\"), plot = p, device = \"pdf\", width = 3.0, height = 4.0, unit=\"cm\")"
   ]
  },
  {
   "cell_type": "code",
   "execution_count": 31,
   "id": "448a2cdc-fbb9-4d52-92e6-00faa6d7a484",
   "metadata": {},
   "outputs": [
    {
     "data": {
      "image/png": "[encoded data removed]",
      "text/plain": [
       "plot without title"
      ]
     },
     "metadata": {
      "image/png": {
       "height": 240,
       "width": 180
      }
     },
     "output_type": "display_data"
    }
   ],
   "source": [
    "options(repr.plot.width = 3.0, repr.plot.height = 4.0, unit=\"cm\")\n",
    "p <- ggplot(results, aes(x=model, y=encoded_ood_mmd, fill=model)) +\n",
    "  geom_boxplot(size=0.2,  width=0.8, outlier.size=0.2, outlier.shape=16) +\n",
    "  labs(x=\"Model\", y=\"MMD\") +\n",
    "  scale_fill_manual(values=color_dict) +\n",
    "  scale_y_log10() +\n",
    "  custom_theme() +\n",
    "article_text() +\n",
    "no_legend() +\n",
    "theme(\n",
    "    panel.grid.major=element_blank(), \n",
    "    panel.grid.minor=element_blank()\n",
    ") \n",
    "\n",
    "p"
   ]
  },
  {
   "cell_type": "code",
   "execution_count": 32,
   "id": "d55231f8-7d40-4e65-a3f5-5ba681c39b20",
   "metadata": {},
   "outputs": [],
   "source": [
    "ggsave(file.path(output_dir, \"ood_mmd_distance_encoded.pdf\"), plot = p, device = \"pdf\", width = 3.0, height = 4.0, unit=\"cm\")"
   ]
  },
  {
   "cell_type": "code",
   "execution_count": 33,
   "id": "5166e3b2-fc5e-4faa-b9c5-558d99bc628f",
   "metadata": {},
   "outputs": [
    {
     "data": {
      "image/png": "[encoded data removed]",
      "text/plain": [
       "plot without title"
      ]
     },
     "metadata": {
      "image/png": {
       "height": 240,
       "width": 180
      }
     },
     "output_type": "display_data"
    }
   ],
   "source": [
    "options(repr.plot.width = 3.0, repr.plot.height = 4.0, unit=\"cm\")\n",
    "p <- ggplot(results, aes(x=model, y=sinkhorn_div, fill=model)) +\n",
    "  geom_boxplot(size=0.2,  width=0.8, outlier.size=0.2, outlier.shape=16) +\n",
    "  labs(x=\"Model\", y=\"Sinkhorn divergence\") +\n",
    "  scale_y_log10() +\n",
    "  scale_fill_manual(values=color_dict) +\n",
    "  custom_theme() +\n",
    "article_text() +\n",
    "no_legend() +\n",
    "theme(\n",
    "    panel.grid.major=element_blank(), \n",
    "    panel.grid.minor=element_blank()\n",
    ") \n",
    "\n",
    "p"
   ]
  },
  {
   "cell_type": "code",
   "execution_count": 34,
   "id": "7ffb9bf0-72eb-46ad-a77b-dfd24ed1af07",
   "metadata": {},
   "outputs": [],
   "source": [
    "ggsave(file.path(output_dir, \"ood_sink_div_encoded.pdf\"), plot = p, device = \"pdf\", width = 3.0, height = 4.0, unit=\"cm\")"
   ]
  },
  {
   "cell_type": "markdown",
   "id": "c48398a4-714e-4e13-96d7-b4cd96186164",
   "metadata": {},
   "source": [
    "# DEG"
   ]
  },
  {
   "cell_type": "code",
   "execution_count": 35,
   "id": "bca127a2-1494-4556-a90b-85a25e77d3c8",
   "metadata": {},
   "outputs": [
    {
     "data": {
      "image/png": "[encoded data removed]",
      "text/plain": [
       "plot without title"
      ]
     },
     "metadata": {
      "image/png": {
       "height": 240,
       "width": 180
      }
     },
     "output_type": "display_data"
    }
   ],
   "source": [
    "options(repr.plot.width = 3.0, repr.plot.height = 4.0, unit=\"cm\")\n",
    "p <- ggplot(results[results$deg_ood_r_squared!=0,], aes(x=model, y=deg_ood_r_squared, fill=model)) +\n",
    "  geom_boxplot(size=0.2,  width=0.8, outlier.size=0.2, outlier.shape=16) +\n",
    "  labs(x=\"Model\", y=\"R squared DEG\") +\n",
    "    scale_fill_manual(values=color_dict) +\n",
    "  custom_theme() +\n",
    "article_text() +\n",
    "no_legend() +\n",
    "theme(\n",
    "    panel.grid.major=element_blank(), \n",
    "    panel.grid.minor=element_blank()\n",
    ") \n",
    "p"
   ]
  },
  {
   "cell_type": "code",
   "execution_count": 36,
   "id": "31936c23-7afc-4c0a-a45f-dcd4e729bbfe",
   "metadata": {},
   "outputs": [],
   "source": [
    "ggsave(file.path(output_dir, \"ood_r_squared_deg.pdf\"), plot = p, device = \"pdf\", width = 3.0, height = 4.0, unit=\"cm\")"
   ]
  },
  {
   "cell_type": "code",
   "execution_count": 37,
   "id": "8da4551b-a2d4-401c-baa5-7f56c1e6a382",
   "metadata": {},
   "outputs": [
    {
     "name": "stderr",
     "output_type": "stream",
     "text": [
      "Warning message:\n",
      "“\u001b[1m\u001b[22mRemoved 13 rows containing non-finite outside the scale range\n",
      "(`stat_boxplot()`).”\n"
     ]
    },
    {
     "data": {
      "image/png": "[encoded data removed]",
      "text/plain": [
       "plot without title"
      ]
     },
     "metadata": {
      "image/png": {
       "height": 240,
       "width": 180
      }
     },
     "output_type": "display_data"
    }
   ],
   "source": [
    "options(repr.plot.width = 3.0, repr.plot.height = 4.0, unit=\"cm\")\n",
    "p <- ggplot(results[results$deg_ood_r_squared!=0,], aes(x=model, y=deg_ood_r_squared, fill=model)) +\n",
    "  geom_boxplot(size=0.2,  width=0.8, outlier.size=0.2, outlier.shape=16) +\n",
    "  labs(x=\"Model\", y=\"R squared DEG\") +\n",
    "    scale_fill_manual(values=color_dict) +\n",
    "  custom_theme() +\n",
    "article_text() +\n",
    "no_legend() +\n",
    "theme(\n",
    "    panel.grid.major=element_blank(), \n",
    "    panel.grid.minor=element_blank()\n",
    ") +\n",
    "  ylim(0.0, NA)\n",
    "p"
   ]
  },
  {
   "cell_type": "code",
   "execution_count": 38,
   "id": "5e5a0778-7b0c-47b5-8e34-b9a5c861507c",
   "metadata": {},
   "outputs": [
    {
     "name": "stderr",
     "output_type": "stream",
     "text": [
      "Warning message:\n",
      "“\u001b[1m\u001b[22mRemoved 13 rows containing non-finite outside the scale range\n",
      "(`stat_boxplot()`).”\n"
     ]
    }
   ],
   "source": [
    "ggsave(file.path(output_dir, \"ood_r_squared_deg_pos.pdf\"), plot = p, device = \"pdf\", width = 3.0, height = 4.0, unit=\"cm\")"
   ]
  },
  {
   "cell_type": "code",
   "execution_count": null,
   "id": "ab807529-b110-4ef8-9f40-cd86074e8af5",
   "metadata": {},
   "outputs": [],
   "source": []
  }
 ],
 "metadata": {
  "kernelspec": {
   "display_name": "R",
   "language": "R",
   "name": "ir"
  },
  "language_info": {
   "codemirror_mode": "r",
   "file_extension": ".r",
   "mimetype": "text/x-r-source",
   "name": "R",
   "pygments_lexer": "r",
   "version": "4.2.2"
  }
 },
 "nbformat": 4,
 "nbformat_minor": 5
}
