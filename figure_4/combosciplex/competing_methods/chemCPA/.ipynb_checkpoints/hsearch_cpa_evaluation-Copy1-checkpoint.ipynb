{
 "cells": [
  {
   "cell_type": "code",
   "execution_count": 21,
   "id": "d62a6e2e-4275-4c9b-9656-ccd1b7a40825",
   "metadata": {},
   "outputs": [],
   "source": [
    "import pandas as pd\n",
    "import os\n",
    "import json\n",
    "import numpy as np"
   ]
  },
  {
   "cell_type": "code",
   "execution_count": 22,
   "id": "0d07a3b8-d9c7-4df7-8670-8122f6c1e4ce",
   "metadata": {},
   "outputs": [],
   "source": [
    "ret_val_files = os.listdir(\"/lustre/groups/ml01/workspace/ot_perturbation/hparam/cpa_combosciplex/results\")"
   ]
  },
  {
   "cell_type": "code",
   "execution_count": 23,
   "id": "5c651668-853e-478b-8d56-4e8ef551c63e",
   "metadata": {},
   "outputs": [],
   "source": [
    "ret_vals = {}\n",
    "for file in ret_val_files:\n",
    "    with open(os.path.join(\"/lustre/groups/ml01/workspace/ot_perturbation/hparam/cpa_combosciplex/results\", file), \"r\") as f:\n",
    "        ret_vals[file] = json.load(f)\n",
    "    "
   ]
  },
  {
   "cell_type": "code",
   "execution_count": 24,
   "id": "97258dd8-cee6-414b-a3b4-a3a6de5e48f4",
   "metadata": {},
   "outputs": [
    {
     "data": {
      "text/plain": [
       "0.9319459533893248"
      ]
     },
     "execution_count": 24,
     "metadata": {},
     "output_type": "execute_result"
    }
   ],
   "source": [
    "np.max(list(ret_vals.values()))"
   ]
  },
  {
   "cell_type": "code",
   "execution_count": 25,
   "id": "10080a4a-84bc-4a9f-b058-768a7940d9ab",
   "metadata": {},
   "outputs": [],
   "source": [
    "val_to_hash = {v:k for k,v in ret_vals.items()}"
   ]
  },
  {
   "cell_type": "code",
   "execution_count": 26,
   "id": "b0867e25-c261-4b84-b827-f001c68d1fe9",
   "metadata": {},
   "outputs": [
    {
     "data": {
      "text/plain": [
       "'1405016_return_value.json'"
      ]
     },
     "execution_count": 26,
     "metadata": {},
     "output_type": "execute_result"
    }
   ],
   "source": [
    "val_to_hash[np.max(list(ret_vals.values()))]"
   ]
  },
  {
   "cell_type": "code",
   "execution_count": 27,
   "id": "2aa655b7-d120-4f36-9b67-28a2ac2a3f21",
   "metadata": {},
   "outputs": [],
   "source": [
    "config_files = os.listdir(\"/lustre/groups/ml01/workspace/ot_perturbation/hparam/cpa_combosciplex/config\")"
   ]
  },
  {
   "cell_type": "code",
   "execution_count": 28,
   "id": "88e6a3d0-08f3-4c95-b96b-467f550abcf2",
   "metadata": {},
   "outputs": [
    {
     "data": {
      "text/plain": [
       "'1405016_config.json'"
      ]
     },
     "execution_count": 28,
     "metadata": {},
     "output_type": "execute_result"
    }
   ],
   "source": [
    "config = [el for el in config_files if el.startswith(\"1405016\")]\n",
    "assert len(config)==1\n",
    "config[0]"
   ]
  },
  {
   "cell_type": "code",
   "execution_count": 29,
   "id": "cbaa62bc-d5c6-4893-87e5-96a3ab34160f",
   "metadata": {},
   "outputs": [],
   "source": [
    "config_path = os.path.join(\"/lustre/groups/ml01/workspace/ot_perturbation/hparam/cpa_combosciplex/config\",config[0])\n"
   ]
  },
  {
   "cell_type": "code",
   "execution_count": 30,
   "id": "c8cc84a3-ed15-4fcc-8439-9a52e8e31c97",
   "metadata": {},
   "outputs": [
    {
     "data": {
      "text/plain": [
       "'/lustre/groups/ml01/workspace/ot_perturbation/hparam/cpa_combosciplex/config/1405016_config.json'"
      ]
     },
     "execution_count": 30,
     "metadata": {},
     "output_type": "execute_result"
    }
   ],
   "source": [
    "config_path"
   ]
  },
  {
   "cell_type": "code",
   "execution_count": 31,
   "id": "5d8932aa-924a-43eb-8396-26d6557d3c12",
   "metadata": {},
   "outputs": [
    {
     "name": "stdout",
     "output_type": "stream",
     "text": [
      "File content: ae_hparams:\n",
      "  n_latent: 256\n",
      "  doser_type: logsigm\n",
      "  n_hidden_encoder: 256\n",
      "  n_layers_encoder: 2\n",
      "  n_hidden_decoder: 256\n",
      "  n_layers_decoder: 2\n",
      "  use_batch_norm_encoder: false\n",
      "  use_layer_norm_encoder: false\n",
      "  use_batch_norm_decoder: true\n",
      "  use_layer_norm_decoder: true\n",
      "  dropout_rate_encoder: 0.1\n",
      "  dropout_rate_decoder: 0.1\n",
      "  variational: false\n",
      "  seed: 434\n",
      "generic_params:\n",
      "  use_counts: false\n",
      "  use_deg_stopping_criterion: true\n",
      "trainer_hparams:\n",
      "  n_epochs_kl_warmup: 3\n",
      "  n_epochs_pretrain_ae: to_none\n",
      "  n_epochs_adv_warmup: to_none\n",
      "  n_epochs_mixup_warmup: to_none\n",
      "  mixup_alpha: 0.1\n",
      "  adv_steps: 5\n",
      "  n_hidden_adv: 64\n",
      "  n_layers_adv: 2\n",
      "  use_batch_norm_adv: true\n",
      "  use_layer_norm_adv: false\n",
      "  dropout_rate_adv: 0.2\n",
      "  reg_adv: 20.0\n",
      "  pen_adv: 20.0\n",
      "  lr: 0.0003\n",
      "  wd: 7.0e-07\n",
      "  adv_lr: 0.0003\n",
      "  adv_wd: 7.0e-07\n",
      "  adv_loss: cce\n",
      "  doser_lr: 0.0003\n",
      "  doser_wd: 7.0e-07\n",
      "  do_clip_grad: false\n",
      "  gradient_clip_value: 1.0\n",
      "  step_size_lr: 45\n",
      "logger:\n",
      "  offline: false\n",
      "  id: null\n",
      "  anonymous: null\n",
      "  project: otfm_combosciplex\n",
      "  group: hparam_search\n",
      "  log_model: true\n",
      "optimized_metric: r_squared\n",
      "\n"
     ]
    }
   ],
   "source": [
    "with open(config_path, \"r\") as f:\n",
    "    content = f.read()\n",
    "    print(f\"File content: {content}\")  # Print the first few characters\n"
   ]
  },
  {
   "cell_type": "code",
   "execution_count": null,
   "id": "3b711bda-5c8f-4fbb-8c07-0a89aef6c9b6",
   "metadata": {},
   "outputs": [],
   "source": []
  }
 ],
 "metadata": {
  "kernelspec": {
   "display_name": "cfp",
   "language": "python",
   "name": "cfp"
  },
  "language_info": {
   "codemirror_mode": {
    "name": "ipython",
    "version": 3
   },
   "file_extension": ".py",
   "mimetype": "text/x-python",
   "name": "python",
   "nbconvert_exporter": "python",
   "pygments_lexer": "ipython3",
   "version": "3.11.9"
  }
 },
 "nbformat": 4,
 "nbformat_minor": 5
}
