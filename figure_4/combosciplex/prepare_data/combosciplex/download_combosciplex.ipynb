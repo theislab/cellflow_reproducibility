{
 "cells": [
  {
   "cell_type": "code",
   "execution_count": 1,
   "id": "1632ceb5-2c07-454d-be9b-c259c305a0f7",
   "metadata": {},
   "outputs": [
    {
     "name": "stderr",
     "output_type": "stream",
     "text": [
      "/home/icb/dominik.klein/mambaforge/envs/cfp/lib/python3.11/site-packages/optuna/study/_optimize.py:29: TqdmWarning: IProgress not found. Please update jupyter and ipywidgets. See https://ipywidgets.readthedocs.io/en/stable/user_install.html\n",
      "  from optuna import progress_bar as pbar_module\n"
     ]
    }
   ],
   "source": [
    "import numpy as np\n",
    "import pandas as pd\n",
    "import pertpy\n",
    "import scanpy as sc\n",
    "from rdkit import Chem\n",
    "import anndata\n",
    "from cfp import preprocessing as cfpp"
   ]
  },
  {
   "cell_type": "code",
   "execution_count": 2,
   "id": "1debb0cc-6f1f-45c1-afd3-af069777bbd3",
   "metadata": {},
   "outputs": [
    {
     "name": "stdout",
     "output_type": "stream",
     "text": [
      "0.9.4\n"
     ]
    }
   ],
   "source": [
    "print(pertpy.__version__)"
   ]
  },
  {
   "cell_type": "code",
   "execution_count": 3,
   "id": "87679af1-bfb9-4def-aa24-647fdd997c31",
   "metadata": {},
   "outputs": [],
   "source": [
    "output_dir = \"/lustre/groups/ml01/workspace/ot_perturbation/data/combosciplex\""
   ]
  },
  {
   "cell_type": "code",
   "execution_count": 4,
   "id": "e98ec35b-2ece-46db-900d-41fc45e88693",
   "metadata": {},
   "outputs": [
    {
     "data": {
      "text/html": [
       "<pre style=\"white-space:pre;overflow-x:auto;line-height:normal;font-family:Menlo,'DejaVu Sans Mono',consolas,'Courier New',monospace\">/home/icb/dominik.klein/mambaforge/envs/cfp/lib/python3.11/site-packages/rich/live.py:231: UserWarning: install \n",
       "\"ipywidgets\" for Jupyter support\n",
       "  warnings.warn('install \"ipywidgets\" for Jupyter support')\n",
       "</pre>\n"
      ],
      "text/plain": [
       "/home/icb/dominik.klein/mambaforge/envs/cfp/lib/python3.11/site-packages/rich/live.py:231: UserWarning: install \n",
       "\"ipywidgets\" for Jupyter support\n",
       "  warnings.warn('install \"ipywidgets\" for Jupyter support')\n"
      ]
     },
     "metadata": {},
     "output_type": "display_data"
    },
    {
     "data": {
      "text/html": [
       "<pre style=\"white-space:pre;overflow-x:auto;line-height:normal;font-family:Menlo,'DejaVu Sans Mono',consolas,'Courier New',monospace\"></pre>\n"
      ],
      "text/plain": []
     },
     "metadata": {},
     "output_type": "display_data"
    },
    {
     "data": {
      "text/html": [
       "<pre style=\"white-space:pre;overflow-x:auto;line-height:normal;font-family:Menlo,'DejaVu Sans Mono',consolas,'Courier New',monospace\">\n",
       "</pre>\n"
      ],
      "text/plain": [
       "\n"
      ]
     },
     "metadata": {},
     "output_type": "display_data"
    }
   ],
   "source": [
    "adata = pertpy.data.combosciplex()"
   ]
  },
  {
   "cell_type": "code",
   "execution_count": 5,
   "id": "d3fa26be-79ad-480d-985b-0d79f6ba6d28",
   "metadata": {},
   "outputs": [],
   "source": [
    "adata.write_h5ad(\"/lustre/groups/ml01/workspace/ot_perturbation/data/combosciplex/combosciplex_raw.h5ad\")"
   ]
  },
  {
   "cell_type": "code",
   "execution_count": 6,
   "id": "7763ae35-780c-46c8-a99a-770dc0d1d43a",
   "metadata": {},
   "outputs": [
    {
     "data": {
      "text/plain": [
       "matrix([[2205.2349],\n",
       "        [2343.424 ],\n",
       "        [2366.2957],\n",
       "        ...,\n",
       "        [2150.9614],\n",
       "        [2699.2158],\n",
       "        [4081.7876]], dtype=float32)"
      ]
     },
     "execution_count": 6,
     "metadata": {},
     "output_type": "execute_result"
    }
   ],
   "source": [
    "adata.X.sum(axis=1)"
   ]
  },
  {
   "cell_type": "code",
   "execution_count": 7,
   "id": "3cb627e2-8c70-46c4-aa27-218982dcda37",
   "metadata": {},
   "outputs": [],
   "source": [
    "bdata = adata.copy()"
   ]
  },
  {
   "cell_type": "code",
   "execution_count": 8,
   "id": "23eef098-aa20-4e81-a41a-aa4bb00a2a6a",
   "metadata": {},
   "outputs": [],
   "source": [
    "sc.pp.normalize_total(bdata)"
   ]
  },
  {
   "cell_type": "code",
   "execution_count": 9,
   "id": "82599ca4-8437-4b95-93ac-ba7c269a1cf7",
   "metadata": {},
   "outputs": [
    {
     "data": {
      "text/plain": [
       "matrix([[3020.188 ],\n",
       "        [3020.216 ],\n",
       "        [3020.194 ],\n",
       "        ...,\n",
       "        [3020.1978],\n",
       "        [3020.2156],\n",
       "        [3020.3552]], dtype=float32)"
      ]
     },
     "execution_count": 9,
     "metadata": {},
     "output_type": "execute_result"
    }
   ],
   "source": [
    "bdata.X.sum(axis=1)"
   ]
  },
  {
   "cell_type": "code",
   "execution_count": null,
   "id": "092ee237-78e3-4688-978e-c8e31023fcbc",
   "metadata": {},
   "outputs": [],
   "source": []
  }
 ],
 "metadata": {
  "kernelspec": {
   "display_name": "cfp",
   "language": "python",
   "name": "cfp"
  },
  "language_info": {
   "codemirror_mode": {
    "name": "ipython",
    "version": 3
   },
   "file_extension": ".py",
   "mimetype": "text/x-python",
   "name": "python",
   "nbconvert_exporter": "python",
   "pygments_lexer": "ipython3",
   "version": "3.11.9"
  }
 },
 "nbformat": 4,
 "nbformat_minor": 5
}
