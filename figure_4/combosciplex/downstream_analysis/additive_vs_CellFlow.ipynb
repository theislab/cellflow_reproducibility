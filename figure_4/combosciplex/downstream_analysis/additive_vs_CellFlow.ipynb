{
 "cells": [
  {
   "cell_type": "code",
   "execution_count": 11,
   "id": "c133c1a9-2cd8-44f6-be9a-3a79c788cc12",
   "metadata": {},
   "outputs": [
    {
     "name": "stderr",
     "output_type": "stream",
     "text": [
      "also installing the dependencies ‘sysfonts’, ‘showtextdb’\n",
      "\n",
      "\n",
      "Warning message in install.packages(\"showtext\"):\n",
      "“installation of package ‘sysfonts’ had non-zero exit status”\n",
      "Warning message in install.packages(\"showtext\"):\n",
      "“installation of package ‘showtextdb’ had non-zero exit status”\n",
      "Warning message in install.packages(\"showtext\"):\n",
      "“installation of package ‘showtext’ had non-zero exit status”\n",
      "Registering fonts with R\n",
      "\n"
     ]
    },
    {
     "name": "stdin",
     "output_type": "stream",
     "text": [
      "Importing fonts may take a few minutes, depending on the number of fonts and the speed of the system.\n",
      "Continue? [y/n]  y\n"
     ]
    },
    {
     "name": "stderr",
     "output_type": "stream",
     "text": [
      "Scanning ttf files in /usr/share/fonts/ ...\n",
      "\n",
      "Extracting .afm files from .ttf files...\n",
      "\n",
      "/usr/share/fonts/dejavu-sans-fonts/DejaVuSans-Bold.ttf\n",
      " : DejaVuSans-Bold already registered in fonts database. Skipping.\n",
      "\n",
      "/usr/share/fonts/dejavu-sans-fonts/DejaVuSans-BoldOblique.ttf\n",
      " : DejaVuSans-BoldOblique already registered in fonts database. Skipping.\n",
      "\n",
      "/usr/share/fonts/dejavu-sans-fonts/DejaVuSans-ExtraLight.ttf\n",
      " : DejaVuSans-ExtraLight already registered in fonts database. Skipping.\n",
      "\n",
      "/usr/share/fonts/dejavu-sans-fonts/DejaVuSans-Oblique.ttf\n",
      " : DejaVuSans-Oblique already registered in fonts database. Skipping.\n",
      "\n",
      "/usr/share/fonts/dejavu-sans-fonts/DejaVuSans.ttf\n",
      " : DejaVuSans already registered in fonts database. Skipping.\n",
      "\n",
      "/usr/share/fonts/dejavu-sans-fonts/DejaVuSansCondensed-Bold.ttf\n",
      " : DejaVuSansCondensed-Bold already registered in fonts database. Skipping.\n",
      "\n",
      "/usr/share/fonts/dejavu-sans-fonts/DejaVuSansCondensed-BoldOblique.ttf\n",
      " : DejaVuSansCondensed-BoldOblique already registered in fonts database. Skipping.\n",
      "\n",
      "/usr/share/fonts/dejavu-sans-fonts/DejaVuSansCondensed-Oblique.ttf\n",
      " : DejaVuSansCondensed-Oblique already registered in fonts database. Skipping.\n",
      "\n",
      "/usr/share/fonts/dejavu-sans-fonts/DejaVuSansCondensed.ttf\n",
      " : DejaVuSansCondensed already registered in fonts database. Skipping.\n",
      "\n",
      "/usr/share/fonts/dejavu-sans-mono-fonts/DejaVuSansMono-Bold.ttf\n",
      " : DejaVuSansMono-Bold already registered in fonts database. Skipping.\n",
      "\n",
      "/usr/share/fonts/dejavu-sans-mono-fonts/DejaVuSansMono-BoldOblique.ttf\n",
      " : DejaVuSansMono-BoldOblique already registered in fonts database. Skipping.\n",
      "\n",
      "/usr/share/fonts/dejavu-sans-mono-fonts/DejaVuSansMono-Oblique.ttf\n",
      " : DejaVuSansMono-Oblique already registered in fonts database. Skipping.\n",
      "\n",
      "/usr/share/fonts/dejavu-sans-mono-fonts/DejaVuSansMono.ttf\n",
      " : DejaVuSansMono already registered in fonts database. Skipping.\n",
      "\n",
      "/usr/share/fonts/google-droid-sans-fonts/DroidKufi-Bold.ttf\n",
      " : DroidArabicKufi-Bold already registered in fonts database. Skipping.\n",
      "\n",
      "/usr/share/fonts/google-droid-sans-fonts/DroidKufi-Regular.ttf\n",
      " : DroidArabicKufi already registered in fonts database. Skipping.\n",
      "\n",
      "/usr/share/fonts/google-droid-sans-fonts/DroidSans-Bold.ttf\n",
      " : DroidSans-Bold already registered in fonts database. Skipping.\n",
      "\n",
      "/usr/share/fonts/google-droid-sans-fonts/DroidSans.ttf\n",
      " : DroidSans already registered in fonts database. Skipping.\n",
      "\n",
      "/usr/share/fonts/google-droid-sans-fonts/DroidSansArmenian.ttf\n",
      " : DroidSansArmenian already registered in fonts database. Skipping.\n",
      "\n",
      "/usr/share/fonts/google-droid-sans-fonts/DroidSansDevanagari-Regular.ttf\n",
      " : DroidSansDevanagari already registered in fonts database. Skipping.\n",
      "\n",
      "/usr/share/fonts/google-droid-sans-fonts/DroidSansEthiopic-Bold.ttf\n",
      " : DroidSansEthiopic-Bold already registered in fonts database. Skipping.\n",
      "\n",
      "/usr/share/fonts/google-droid-sans-fonts/DroidSansEthiopic-Regular.ttf\n",
      " : DroidSansEthiopic already registered in fonts database. Skipping.\n",
      "\n",
      "/usr/share/fonts/google-droid-sans-fonts/DroidSansFallbackFull.ttf\n",
      " : DroidSansFallback already registered in fonts database. Skipping.\n",
      "\n",
      "/usr/share/fonts/google-droid-sans-fonts/DroidSansGeorgian.ttf\n",
      " : DroidSansGeorgian already registered in fonts database. Skipping.\n",
      "\n",
      "/usr/share/fonts/google-droid-sans-fonts/DroidSansHebrew-Bold.ttf\n",
      " : DroidSansHebrew-Bold already registered in fonts database. Skipping.\n",
      "\n",
      "/usr/share/fonts/google-droid-sans-fonts/DroidSansHebrew-Regular.ttf\n",
      " : DroidSansHebrew already registered in fonts database. Skipping.\n",
      "\n",
      "/usr/share/fonts/google-droid-sans-fonts/DroidSansJapanese.ttf\n",
      "Warning message in system2(enc2native(ttf2pt1), c(args, shQuote(ttfiles[i]), shQuote(tmpfiles[i])), :\n",
      "“running command ''/ictstr01/home/icb/dominik.klein/mambaforge/envs/gene-regulatory-networks-atac/lib/R/library/Rttf2pt1/exec//ttf2pt1' -a -GfAe '/usr/share/fonts/google-droid-sans-fonts/DroidSansJapanese.ttf' '/tmp/RtmprCLR5Y/fonts/DroidSansJapanese' 2>&1' had status 1”\n",
      " : No FontName. Skipping.\n",
      "\n",
      "/usr/share/fonts/google-droid-sans-fonts/DroidSansTamil-Bold.ttf\n",
      " : DroidSansTamil-Bold already registered in fonts database. Skipping.\n",
      "\n",
      "/usr/share/fonts/google-droid-sans-fonts/DroidSansTamil-Regular.ttf\n",
      " : DroidSansTamil already registered in fonts database. Skipping.\n",
      "\n",
      "/usr/share/fonts/google-droid-sans-fonts/DroidSansThai.ttf\n",
      " : DroidSansThai already registered in fonts database. Skipping.\n",
      "\n",
      "Found FontName for 0 fonts.\n",
      "\n",
      "Scanning afm files in /ictstr01/home/icb/dominik.klein/mambaforge/envs/gene-regulatory-networks-atac/lib/R/library/extrafontdb/metrics\n",
      "\n",
      "Warning message:\n",
      "“\u001b[1m\u001b[22mThe `size` argument of `element_line()` is deprecated as of ggplot2 3.4.0.\n",
      "\u001b[36mℹ\u001b[39m Please use the `linewidth` argument instead.”\n"
     ]
    }
   ],
   "source": [
    "library(tidyverse)\n",
    "library(glue)\n",
    "library(dplyr)\n",
    "\n",
    "install.packages(\"showtext\")\n",
    "install.packages(\"extrafont\")\n",
    "library(extrafont)\n",
    "font_import()\n",
    "\n",
    "\n",
    "theme_rangeframe <- function(size = 0.3) {\n",
    "    theme(\n",
    "        axis.line = element_line(colour = \"black\", lineend = \"round\", size = size),\n",
    "        axis.ticks = element_line(linewidth = size),\n",
    "        panel.border = element_blank()\n",
    "    )\n",
    "}\n",
    "\n",
    "scale_axis_rangeframe <- function() {\n",
    "    guides(x = \"axis_truncated\", y = \"axis_truncated\")\n",
    "}\n",
    "\n",
    "rotate_x_text <- function(angle=45) {\n",
    "    theme(\n",
    "        axis.text.x = element_text(angle = angle, hjust = 1)\n",
    "    )\n",
    "}\n",
    "\n",
    "article_text <- function() {\n",
    "    theme(\n",
    "        text = element_text(size = 5, family = \"Helvetica\"),\n",
    "        title = element_text(size = 6),\n",
    "        axis.text.x = element_text(size = 5),\n",
    "        axis.text.y = element_text(size = 5)\n",
    "    )\n",
    "}\n",
    "\n",
    "no_legend <- function() {\n",
    "    theme(\n",
    "        legend.position = \"none\"\n",
    "    )\n",
    "}\n",
    "\n",
    "no_margin <- function() {\n",
    "    theme(\n",
    "        plot.margin = margin(0, 0, 0, 0, unit = \"lines\")\n",
    "    )\n",
    "}\n",
    "\n",
    "no_label <- function() {\n",
    "    theme(\n",
    "        axis.title = element_blank()\n",
    "    )\n",
    "}\n",
    "\n",
    "no_text <- function() {\n",
    "    theme(\n",
    "        axis.title = element_blank(),\n",
    "        axis.text = element_blank(),\n",
    "        axis.ticks = element_blank()\n",
    "    )\n",
    "}\n",
    "\n",
    "no_x_text <- function() {\n",
    "    theme(\n",
    "        axis.text.x = element_blank(),\n",
    "        axis.ticks.x = element_blank()\n",
    "    )\n",
    "}\n",
    "\n",
    "no_y_text <- function() {\n",
    "    theme(\n",
    "        axis.text.y = element_blank(),\n",
    "        axis.ticks.y = element_blank()\n",
    "    )\n",
    "}\n",
    "\n",
    "\n",
    "custom_theme <- function(size = 0.3){\n",
    "    theme_minimal() +\n",
    "    theme(\n",
    "        text = element_text(family='Helvetica'),\n",
    "        axis.line = element_line(colour = \"black\", lineend = \"round\", size = size),\n",
    "        axis.ticks = element_line(linewidth = size),\n",
    "        panel.border = element_blank()\n",
    "    )\n",
    "\n",
    "}\n",
    "theme_set(custom_theme())\n",
    "\n",
    "article_text <- function() {\n",
    "    theme(\n",
    "        text = element_text(size = 5, family = \"Helvetica\"),\n",
    "        title = element_text(size = 6),\n",
    "        axis.text.x = element_text(size = 5),\n",
    "        axis.text.y = element_text(size = 5)\n",
    "    )\n",
    "}\n"
   ]
  },
  {
   "cell_type": "code",
   "execution_count": 12,
   "id": "24eb532f-dcc3-484e-ba63-87bad7408483",
   "metadata": {},
   "outputs": [],
   "source": [
    "output_dir <- \"/lustre/groups/ml01/workspace/ot_perturbation/figures/combosciplex/benchmark\""
   ]
  },
  {
   "cell_type": "code",
   "execution_count": 13,
   "id": "5da2601b-ae88-4591-8fe3-357502d0c27e",
   "metadata": {},
   "outputs": [],
   "source": [
    "color_dict = c(\n",
    "    \"CellFlow\"= \"#B12F8C\",\n",
    "    \"chemCPA\"= \"#A2E5E7\",\n",
    "    \"CPA\"= \"#26B0B6\",\n",
    "    \"Additive\"=\"#C4925A\")"
   ]
  },
  {
   "cell_type": "code",
   "execution_count": 14,
   "id": "1ea67a23-643c-4868-b1dc-f28a46c2a1bd",
   "metadata": {},
   "outputs": [],
   "source": [
    "# Updated R color dictionary with the new replacements\n",
    "number_terms <- c(\n",
    "  'Alvespimycin+Pirarubicin' = NULL,\n",
    "  'Cediranib+PCI-34051' = 5,\n",
    "  'Dacinostat+Danusertib' = NULL,\n",
    "  'Dacinostat+Dasatinib' = 2,\n",
    "  'Dacinostat+PCI-34051' = 4,\n",
    "  'Givinostat+Carmofur' = NULL,\n",
    "  'Givinostat+Cediranib' = 5,\n",
    "  'Givinostat+Crizotinib' = 4,\n",
    "  'Givinostat+Curcumin' = 4,\n",
    "  'Givinostat+Dasatinib' = 3,\n",
    "  'Givinostat+SRT1720' = 3,\n",
    "  'Givinostat+SRT2104' = 4,\n",
    "  'Givinostat+Sorafenib' = 4,  \n",
    "  'Givinostat+Tanespimycin' = NULL,\n",
    "  'Panobinostat+Alvespimycin' = 3,\n",
    "  'Panobinostat+Crizotinib' = 3,\n",
    "  'Panobinostat+Curcumin' = 3,\n",
    "  'Panobinostat+Dasatinib' = 3,\n",
    "  'Panobinostat+PCI-34051' = 3,\n",
    "  'Panobinostat+SRT1720' = 3,\n",
    "  'Panobinostat+SRT2104' = 3,\n",
    "  'Panobinostat+SRT3025' = 3,\n",
    "  'Panobinostat+Sorafenib' = 3,\n",
    "  'SRT2104+Alvespimycin' = 4,\n",
    "  'SRT3025+Cediranib' = 5,\n",
    "  'control+Alvespimycin' = 2,\n",
    "  'control+Dacinostat' = 2,\n",
    "  'control+Dasatinib' = 2,\n",
    "  'control+Givinostat' = 2,\n",
    "  'control+Panobinostat' = 2,\n",
    "  'control+SRT2104' = 2\n",
    ")\n"
   ]
  },
  {
   "cell_type": "markdown",
   "id": "86e55c4e-6808-4de4-a220-6cc11088e9de",
   "metadata": {},
   "source": [
    "# Decoded"
   ]
  },
  {
   "cell_type": "code",
   "execution_count": 15,
   "id": "b1b0e4fd-dc2f-466a-aa84-54025bd73f7e",
   "metadata": {},
   "outputs": [
    {
     "name": "stderr",
     "output_type": "stream",
     "text": [
      "\u001b[1m\u001b[22mNew names:\n",
      "\u001b[36m•\u001b[39m `` -> `...1`\n",
      "\u001b[1mRows: \u001b[22m\u001b[34m135\u001b[39m \u001b[1mColumns: \u001b[22m\u001b[34m6\u001b[39m\n",
      "\u001b[36m──\u001b[39m \u001b[1mColumn specification\u001b[22m \u001b[36m────────────────────────────────────────────────────────\u001b[39m\n",
      "\u001b[1mDelimiter:\u001b[22m \",\"\n",
      "\u001b[31mchr\u001b[39m (3): model, metric, variable\n",
      "\u001b[32mdbl\u001b[39m (3): ...1, value, split\n",
      "\n",
      "\u001b[36mℹ\u001b[39m Use `spec()` to retrieve the full column specification for this data.\n",
      "\u001b[36mℹ\u001b[39m Specify the column types or set `show_col_types = FALSE` to quiet this message.\n"
     ]
    }
   ],
   "source": [
    "results_decoded <- read_csv(\"/lustre/groups/ml01/workspace/ot_perturbation/data/combosciplex/results/allocation/ood_metrics_decoded.csv\") \n",
    "\n"
   ]
  },
  {
   "cell_type": "code",
   "execution_count": 95,
   "id": "2b2883bc-1323-4a88-9874-930ba0307730",
   "metadata": {},
   "outputs": [],
   "source": [
    "\n",
    "results_decoded <- results_decoded %>%\n",
    "  filter(model %in% c(\"add\", \"otfm\"))"
   ]
  },
  {
   "cell_type": "code",
   "execution_count": 96,
   "id": "d21d0c81-ad8d-4e46-bc25-ffe3d47e183a",
   "metadata": {},
   "outputs": [],
   "source": [
    "results_cf = results_decoded %>%\n",
    "  filter(model %in% c(\"otfm\"))\n",
    "results_add = results_decoded %>%\n",
    "  filter(model %in% c(\"add\"))"
   ]
  },
  {
   "cell_type": "code",
   "execution_count": 97,
   "id": "00739796-eb7a-4629-b933-d2b09023c5d8",
   "metadata": {},
   "outputs": [],
   "source": [
    "results_cf$diff <- results_cf$value - results_add$value\n",
    "results_add$diff <- results_cf$value - results_add$value\n",
    "results_add$err <- 1-results_add$value"
   ]
  },
  {
   "cell_type": "code",
   "execution_count": 98,
   "id": "995e2373-0fb4-4385-9488-b53f60795207",
   "metadata": {},
   "outputs": [],
   "source": [
    "number_terms_vec <- unlist(number_terms)\n",
    "results_add <- results_add %>%\n",
    "  mutate(\n",
    "    category = fct_relevel(variable, names(number_terms_vec)[order(number_terms_vec)]),  # Reorder categories\n",
    "    number_terms = number_terms_vec[variable]  # Add a new column with numbers from the dictionary\n",
    "  )"
   ]
  },
  {
   "cell_type": "code",
   "execution_count": 99,
   "id": "2978b3ac-6032-459c-868f-def179f95aa8",
   "metadata": {},
   "outputs": [
    {
     "data": {
      "image/png": "[encoded data removed]",
      "text/plain": [
       "plot without title"
      ]
     },
     "metadata": {
      "image/png": {
       "height": 120,
       "width": 300
      }
     },
     "output_type": "display_data"
    }
   ],
   "source": [
    "options(repr.plot.width = 5.0, repr.plot.height = 2.0, unit=\"cm\")\n",
    "\n",
    "# Convert number_terms to a factor if it's not already\n",
    "results_add$number_terms <- as.factor(results_add$number_terms)\n",
    "\n",
    "\n",
    "x_min <- min(-0.01, min(results_add$err))\n",
    "x_max <- max(results_add$err)\n",
    "\n",
    "y_min <- min(-0.01, min(results_add$diff))\n",
    "y_max <- max(results_add$diff)\n",
    "\n",
    "\n",
    "# Define colors for each level of number_terms\n",
    "colors <- c(\"5\" = \"#1E1009\", \"4\" = \"#DCAB6B\", \"3\" = \"#774E24\", \"2\" = \"#6A381F\")\n",
    "p <- ggplot(results_add, aes(x = err, y = diff, color = number_terms)) +\n",
    "  geom_point(size = 2) +  # Increase the size of the points here\n",
    "  labs(title = \"Improvement of CellFlow over additive model\", \n",
    "       x = \"Error (R squared) additive model\", \n",
    "       y = \"CellFlow improvement \\n over additive model\",\n",
    "       color = \"Number of Terms \") +  # Legend title\n",
    "  custom_theme() +\n",
    "    article_text() +\n",
    "    no_legend() +\n",
    "    theme(\n",
    "        panel.grid.major=element_blank(), \n",
    "        panel.grid.minor=element_blank()\n",
    "    ) +\n",
    "      xlim(x_min, x_max) +\n",
    "      ylim(y_min, y_max) +\n",
    "  scale_color_manual(values = colors) \n",
    "ggsave(file.path(output_dir, \"cf_improvement_r_squared.pdf\"), plot = p, device = \"pdf\", width = 5.0, height = 2.0, unit=\"cm\")\n",
    "p"
   ]
  },
  {
   "cell_type": "markdown",
   "id": "fa587cc5-4688-4a34-80f3-5609bc64e1ce",
   "metadata": {},
   "source": [
    "# Encoded"
   ]
  },
  {
   "cell_type": "code",
   "execution_count": 100,
   "id": "d86ce5b2-4092-42e1-86e9-8f448c679725",
   "metadata": {},
   "outputs": [
    {
     "name": "stderr",
     "output_type": "stream",
     "text": [
      "\u001b[1m\u001b[22mNew names:\n",
      "\u001b[36m•\u001b[39m `` -> `...1`\n",
      "\u001b[1mRows: \u001b[22m\u001b[34m540\u001b[39m \u001b[1mColumns: \u001b[22m\u001b[34m6\u001b[39m\n",
      "\u001b[36m──\u001b[39m \u001b[1mColumn specification\u001b[22m \u001b[36m────────────────────────────────────────────────────────\u001b[39m\n",
      "\u001b[1mDelimiter:\u001b[22m \",\"\n",
      "\u001b[31mchr\u001b[39m (3): model, metric, variable\n",
      "\u001b[32mdbl\u001b[39m (3): ...1, value, split\n",
      "\n",
      "\u001b[36mℹ\u001b[39m Use `spec()` to retrieve the full column specification for this data.\n",
      "\u001b[36mℹ\u001b[39m Specify the column types or set `show_col_types = FALSE` to quiet this message.\n"
     ]
    }
   ],
   "source": [
    "results_encoded <- read_csv(\"/lustre/groups/ml01/workspace/ot_perturbation/data/combosciplex/results/allocation/ood_metrics_encoded.csv\") \n",
    "\n"
   ]
  },
  {
   "cell_type": "code",
   "execution_count": 122,
   "id": "f9e80980-0bd1-4b4d-83fc-509c9634ee63",
   "metadata": {},
   "outputs": [],
   "source": [
    "results_encoded <- results_encoded %>%\n",
    "  filter(model %in% c(\"add\", \"otfm\"))"
   ]
  },
  {
   "cell_type": "code",
   "execution_count": 123,
   "id": "87cd0da3-d747-44f2-b391-a50d3e3fa23a",
   "metadata": {},
   "outputs": [],
   "source": [
    "results_cf = results_encoded %>%\n",
    "  filter(model %in% c(\"otfm\"))\n",
    "results_add = results_encoded %>%\n",
    "  filter(model %in% c(\"add\"))"
   ]
  },
  {
   "cell_type": "code",
   "execution_count": 124,
   "id": "d2bec41d-0e2f-4265-8a57-b2baf7ea2d0f",
   "metadata": {},
   "outputs": [],
   "source": [
    "results_cf = results_cf %>%\n",
    "  filter(metric %in% c(\"sinkhorn_div\"))\n",
    "\n",
    "results_add = results_add %>%\n",
    "  filter(metric %in% c(\"sinkhorn_div\"))\n"
   ]
  },
  {
   "cell_type": "code",
   "execution_count": 125,
   "id": "33a00558-1ca3-4cae-aea9-34a6cf0af2ef",
   "metadata": {},
   "outputs": [],
   "source": [
    "results_add$diff <- results_add$value - results_cf$value "
   ]
  },
  {
   "cell_type": "code",
   "execution_count": 126,
   "id": "5d88470f-3ae6-4da8-81de-ed7c1b1cf26b",
   "metadata": {},
   "outputs": [],
   "source": [
    "number_terms_vec <- unlist(number_terms)\n",
    "results_add <- results_add %>%\n",
    "  mutate(\n",
    "    category = fct_relevel(variable, names(number_terms_vec)[order(number_terms_vec)]),  # Reorder categories\n",
    "    number_terms = number_terms_vec[variable]  # Add a new column with numbers from the dictionary\n",
    "  )"
   ]
  },
  {
   "cell_type": "code",
   "execution_count": 127,
   "id": "df70cc05-f900-4a4e-8f20-cf1a9174b9ce",
   "metadata": {},
   "outputs": [
    {
     "data": {
      "image/png": "[encoded data removed]",
      "text/plain": [
       "plot without title"
      ]
     },
     "metadata": {
      "image/png": {
       "height": 120,
       "width": 300
      }
     },
     "output_type": "display_data"
    }
   ],
   "source": [
    "options(repr.plot.width = 5.0, repr.plot.height = 2.0, unit=\"cm\")\n",
    "\n",
    "# Convert number_terms to a factor if it's not already\n",
    "results_add$number_terms <- as.factor(results_add$number_terms)\n",
    "\n",
    "x_min <- min(-0.1, min(results_add$value))\n",
    "x_max <- max(results_add$value)\n",
    "\n",
    "y_min <- min(-0.1, min(results_add$diff))\n",
    "y_max <- max(results_add$diff)\n",
    "\n",
    "\n",
    "# Define colors for each level of number_terms\n",
    "colors <- c(\"5\" = \"#1E1009\", \"4\" = \"#DCAB6B\", \"3\" = \"#774E24\", \"2\" = \"#6A381F\")\n",
    "p <- ggplot(results_add, aes(x = value, y = diff, color = number_terms)) +\n",
    "  geom_point(size = 2) +  # Increase the size of the points here\n",
    "  labs(title = \"Improvement of CellFlow over additive model (Sinkhorn Divergence)\", \n",
    "       x = \"Perturbation effect\", \n",
    "       y = \"CellFlow improvement \\n over additive model\",\n",
    "       color = \"Number of Terms \") +  # Legend title\n",
    "  custom_theme() +\n",
    "    article_text() +\n",
    "    no_legend() +\n",
    "    theme(\n",
    "        panel.grid.major=element_blank(), \n",
    "        panel.grid.minor=element_blank()\n",
    "    ) +\n",
    "      xlim(x_min, x_max) +\n",
    "      ylim(y_min, y_max) +\n",
    "  scale_color_manual(values = colors)  # Manually set the colors for each level\n",
    "ggsave(file.path(output_dir, \"cf_improvement_sink_div.pdf\"), plot = p, device = \"pdf\", width = 5.0, height = 2.0, unit=\"cm\")\n",
    "p"
   ]
  },
  {
   "cell_type": "code",
   "execution_count": 128,
   "id": "edc72b24-3bb8-48e4-a33b-08dbb699e006",
   "metadata": {},
   "outputs": [],
   "source": [
    "results_cf = results_encoded %>%\n",
    "  filter(model %in% c(\"otfm\"))\n",
    "results_add = results_encoded %>%\n",
    "  filter(model %in% c(\"add\"))\n",
    "\n",
    "results_cf = results_cf %>%\n",
    "  filter(metric %in% c(\"mmd\"))\n",
    "\n",
    "results_add = results_add %>%\n",
    "  filter(metric %in% c(\"mmd\"))"
   ]
  },
  {
   "cell_type": "code",
   "execution_count": 129,
   "id": "487072e9-33ab-4226-8b27-50383a0f2df2",
   "metadata": {},
   "outputs": [],
   "source": [
    "results_add$diff <- results_add$value - results_cf$value "
   ]
  },
  {
   "cell_type": "code",
   "execution_count": 130,
   "id": "d775bb7f-d7fb-4368-a1e0-ae4e097479bf",
   "metadata": {},
   "outputs": [],
   "source": [
    "number_terms_vec <- unlist(number_terms)\n",
    "results_add <- results_add %>%\n",
    "  mutate(\n",
    "    category = fct_relevel(variable, names(number_terms_vec)[order(number_terms_vec)]),  # Reorder categories\n",
    "    number_terms = number_terms_vec[variable]  # Add a new column with numbers from the dictionary\n",
    "  )"
   ]
  },
  {
   "cell_type": "code",
   "execution_count": 131,
   "id": "4c01645a-6630-4e13-b03e-41f7e73b7b57",
   "metadata": {},
   "outputs": [
    {
     "data": {
      "image/png": "[encoded data removed]",
      "text/plain": [
       "plot without title"
      ]
     },
     "metadata": {
      "image/png": {
       "height": 120,
       "width": 300
      }
     },
     "output_type": "display_data"
    }
   ],
   "source": [
    "options(repr.plot.width = 5.0, repr.plot.height = 2.0, unit=\"cm\")\n",
    "\n",
    "# Convert number_terms to a factor if it's not already\n",
    "results_add$number_terms <- as.factor(results_add$number_terms)\n",
    "\n",
    "x_min <- min(-0.01, min(results_add$value))\n",
    "x_max <- max(results_add$value)\n",
    "\n",
    "y_min <- min(-0.01, min(results_add$diff))\n",
    "y_max <- max(results_add$diff)\n",
    "\n",
    "\n",
    "# Define colors for each level of number_terms\n",
    "colors <- c(\"5\" = \"#1E1009\", \"4\" = \"#DCAB6B\", \"3\" = \"#774E24\", \"2\" = \"#6A381F\")\n",
    "p <- ggplot(results_add, aes(x = value, y = diff, color = number_terms)) +\n",
    "  geom_point(size = 2) +  # Increase the size of the points here\n",
    "  labs(title = \"Improvement of CellFlow over additive model\", \n",
    "       x = \"MMD of additive model\", \n",
    "       y = \"CellFlow improvement \\n over additive model\",\n",
    "       color = \"Number of Terms \") +  # Legend title\n",
    "  custom_theme() +\n",
    "    article_text() +\n",
    "    no_legend() +\n",
    "    theme(\n",
    "        panel.grid.major=element_blank(), \n",
    "        panel.grid.minor=element_blank()\n",
    "    ) +\n",
    "      xlim(x_min, x_max) +\n",
    "      ylim(y_min, y_max) +\n",
    "  scale_color_manual(values = colors)  # Manually set the colors for each level\n",
    "ggsave(file.path(output_dir, \"cf_improvement_mmd.pdf\"), plot = p, device = \"pdf\", width = 5.0, height = 2.0, unit=\"cm\")\n",
    "p"
   ]
  },
  {
   "cell_type": "code",
   "execution_count": null,
   "id": "e170287d-280c-4022-8f77-2ac976230e3d",
   "metadata": {},
   "outputs": [],
   "source": []
  },
  {
   "cell_type": "code",
   "execution_count": 132,
   "id": "96488868-30c7-4afd-a0a7-b21f34eec89e",
   "metadata": {},
   "outputs": [],
   "source": [
    "results_cf = results_encoded %>%\n",
    "  filter(model %in% c(\"otfm\"))\n",
    "results_add = results_encoded %>%\n",
    "  filter(model %in% c(\"add\"))\n",
    "\n",
    "results_cf = results_cf %>%\n",
    "  filter(metric %in% c(\"e_distance\"))\n",
    "\n",
    "results_add = results_add %>%\n",
    "  filter(metric %in% c(\"e_distance\"))\n"
   ]
  },
  {
   "cell_type": "code",
   "execution_count": 133,
   "id": "0d2685bb-f872-4920-84da-93bce9830f90",
   "metadata": {},
   "outputs": [],
   "source": [
    "results_add$diff <- results_add$value - results_cf$value"
   ]
  },
  {
   "cell_type": "code",
   "execution_count": 134,
   "id": "392ab551-d762-470e-8bec-013f82c951e6",
   "metadata": {},
   "outputs": [],
   "source": [
    "number_terms_vec <- unlist(number_terms)\n",
    "results_add <- results_add %>%\n",
    "  mutate(\n",
    "    category = fct_relevel(variable, names(number_terms_vec)[order(number_terms_vec)]),  # Reorder categories\n",
    "    number_terms = number_terms_vec[variable]  # Add a new column with numbers from the dictionary\n",
    "  )"
   ]
  },
  {
   "cell_type": "code",
   "execution_count": 135,
   "id": "5df7a9f4-d890-46c2-a89f-8399c9a4b47d",
   "metadata": {},
   "outputs": [
    {
     "data": {
      "image/png": "[encoded data removed]",
      "text/plain": [
       "plot without title"
      ]
     },
     "metadata": {
      "image/png": {
       "height": 120,
       "width": 300
      }
     },
     "output_type": "display_data"
    }
   ],
   "source": [
    "options(repr.plot.width = 5.0, repr.plot.height = 2.0)\n",
    "\n",
    "# Convert number_terms to a factor if it's not already\n",
    "results_add$number_terms <- as.factor(results_add$number_terms)\n",
    "\n",
    "x_min <- min(-0.1, min(results_add$value))\n",
    "x_max <- max(results_add$value)\n",
    "\n",
    "y_min <- min(-0.1, min(results_add$diff))\n",
    "y_max <- max(results_add$diff)\n",
    "\n",
    "# Define colors for each level of number_terms\n",
    "colors <- c(\"5\" = \"#1E1009\", \"4\" = \"#DCAB6B\", \"3\" = \"#774E24\", \"2\" = \"#6A381F\")\n",
    "p <- ggplot(results_add, aes(x = value, y = diff, color = number_terms)) +\n",
    "  geom_point(size = 2) +  # Increase the size of the points here\n",
    "  labs(title = \"Improvement of CellFlow over additive model\", \n",
    "       x = \"Energy distance of additive model\", \n",
    "       y = \"CellFlow improvement \\n over additive model\",\n",
    "       color = \"Number of Terms \") +  # Legend title\n",
    "  custom_theme() +\n",
    "    article_text() +\n",
    "    no_legend() +\n",
    "    theme(\n",
    "        panel.grid.major=element_blank(), \n",
    "        panel.grid.minor=element_blank()\n",
    "    ) +\n",
    "      xlim(x_min, x_max) +\n",
    "      ylim(y_min, y_max) +\n",
    "  scale_color_manual(values = colors)   # Manually set the colors for each level\n",
    "ggsave(file.path(output_dir, \"cf_improvement_e_dist.pdf\"), plot = p, device = \"pdf\", width = 5.0, height = 2.0, unit=\"cm\")\n",
    "p"
   ]
  },
  {
   "cell_type": "markdown",
   "id": "c48398a4-714e-4e13-96d7-b4cd96186164",
   "metadata": {},
   "source": [
    "# DEG"
   ]
  },
  {
   "cell_type": "code",
   "execution_count": 136,
   "id": "535e0136-b74e-4a50-8ac7-9f53049eb0a5",
   "metadata": {},
   "outputs": [
    {
     "name": "stderr",
     "output_type": "stream",
     "text": [
      "\u001b[1m\u001b[22mNew names:\n",
      "\u001b[36m•\u001b[39m `` -> `...1`\n",
      "\u001b[1mRows: \u001b[22m\u001b[34m540\u001b[39m \u001b[1mColumns: \u001b[22m\u001b[34m6\u001b[39m\n",
      "\u001b[36m──\u001b[39m \u001b[1mColumn specification\u001b[22m \u001b[36m────────────────────────────────────────────────────────\u001b[39m\n",
      "\u001b[1mDelimiter:\u001b[22m \",\"\n",
      "\u001b[31mchr\u001b[39m (3): model, metric, variable\n",
      "\u001b[32mdbl\u001b[39m (3): ...1, value, split\n",
      "\n",
      "\u001b[36mℹ\u001b[39m Use `spec()` to retrieve the full column specification for this data.\n",
      "\u001b[36mℹ\u001b[39m Specify the column types or set `show_col_types = FALSE` to quiet this message.\n"
     ]
    }
   ],
   "source": [
    "results_deg <- read_csv(\"/lustre/groups/ml01/workspace/ot_perturbation/data/combosciplex/results/allocation/ood_metrics_deg.csv\") \n",
    "\n"
   ]
  },
  {
   "cell_type": "code",
   "execution_count": 137,
   "id": "ae7f16c6-df8c-4d2b-a223-1ff2aefde364",
   "metadata": {},
   "outputs": [],
   "source": [
    "results_deg <- results_deg %>%\n",
    "  filter(model %in% c(\"add\", \"otfm\"))"
   ]
  },
  {
   "cell_type": "code",
   "execution_count": 138,
   "id": "f3965ef8-4b13-4bf5-9d02-cafdf2719732",
   "metadata": {},
   "outputs": [],
   "source": [
    "results_cf = results_deg %>%\n",
    "  filter(model %in% c(\"otfm\"))\n",
    "results_add = results_deg %>%\n",
    "  filter(model %in% c(\"add\"))"
   ]
  },
  {
   "cell_type": "code",
   "execution_count": 139,
   "id": "8bd958a3-4d6c-4117-887f-388fe24a9e83",
   "metadata": {},
   "outputs": [],
   "source": [
    "results_cf = results_cf %>%\n",
    "  filter(metric %in% c(\"r_squared\"))\n",
    "\n",
    "results_add = results_add %>%\n",
    "  filter(metric %in% c(\"r_squared\"))"
   ]
  },
  {
   "cell_type": "code",
   "execution_count": 140,
   "id": "63a45f9c-106a-4d7b-a0f9-718e5d3a037d",
   "metadata": {},
   "outputs": [],
   "source": [
    "results_add$diff <- results_cf$value - results_add$value\n",
    "results_add$err <- 1-results_add$value"
   ]
  },
  {
   "cell_type": "code",
   "execution_count": 141,
   "id": "80e19f7b-617f-4a6a-89c5-9ce483ca6d7f",
   "metadata": {},
   "outputs": [],
   "source": [
    "number_terms_vec <- unlist(number_terms)\n",
    "results_add <- results_add %>%\n",
    "  mutate(\n",
    "    category = fct_relevel(variable, names(number_terms_vec)[order(number_terms_vec)]),  # Reorder categories\n",
    "    number_terms = number_terms_vec[variable]  # Add a new column with numbers from the dictionary\n",
    "  )"
   ]
  },
  {
   "cell_type": "code",
   "execution_count": 149,
   "id": "0e83965d-2ee7-49a6-ae9c-d2c9750f6cce",
   "metadata": {},
   "outputs": [
    {
     "data": {
      "image/png": "[encoded data removed]",
      "text/plain": [
       "plot without title"
      ]
     },
     "metadata": {
      "image/png": {
       "height": 300,
       "width": 240
      }
     },
     "output_type": "display_data"
    }
   ],
   "source": [
    "options(repr.plot.width = 4.0, repr.plot.height = 5.0)\n",
    "# Convert number_terms to a factor if it's not already\n",
    "results_add$number_terms <- as.factor(results_add$number_terms)\n",
    "\n",
    "# Define axis limits before they are used\n",
    "x_min <- min(results_add$err, na.rm = TRUE)\n",
    "x_max <- max(results_add$err, na.rm = TRUE)\n",
    "\n",
    "y_min <- min(results_add$diff, na.rm = TRUE)\n",
    "y_max <- max(results_add$diff, na.rm = TRUE)\n",
    "\n",
    "# Define colors for each level of number_terms\n",
    "colors <- c(\"5\" = \"#1E1009\", \"4\" = \"#DCAB6B\", \"3\" = \"#774E24\", \"2\" = \"#6A381F\")\n",
    "\n",
    "# Create plot\n",
    "p <- ggplot(results_add, aes(x = err, y = diff, color = number_terms)) +\n",
    "  geom_point(size = 1) +  # Increase the size of the points here\n",
    "  #labs(title = \"Improvement of CellFlow over additive model\", \n",
    "  #     x = \"Error (R squared DEG) additive model\", \n",
    "  #     y = \"CellFlow improvement \\n over additive model\",\n",
    "  #     color = \"Number of Terms \") +  # Legend title\n",
    "  custom_theme() +\n",
    "  article_text() +\n",
    "  no_legend() +\n",
    "  theme(\n",
    "    panel.grid.major = element_blank(), \n",
    "    panel.grid.minor = element_blank()\n",
    "  ) +\n",
    "  xlim(x_min, x_max) +\n",
    "  ylim(y_min, y_max) +\n",
    "  scale_color_manual(values = colors) \n",
    "\n",
    "# Save plot\n",
    "ggsave(file.path(output_dir, \"cf_improvement_deg_r_squared.pdf\"), plot = p, device = \"pdf\", width = 3.5, height = 4.0, unit=\"cm\")\n",
    "\n",
    "# Display plot\n",
    "p\n"
   ]
  },
  {
   "cell_type": "code",
   "execution_count": null,
   "id": "d09a058d-51a2-455e-87ed-ab80b4b8d325",
   "metadata": {},
   "outputs": [],
   "source": []
  }
 ],
 "metadata": {
  "kernelspec": {
   "display_name": "R",
   "language": "R",
   "name": "ir"
  },
  "language_info": {
   "codemirror_mode": "r",
   "file_extension": ".r",
   "mimetype": "text/x-r-source",
   "name": "R",
   "pygments_lexer": "r",
   "version": "4.2.2"
  }
 },
 "nbformat": 4,
 "nbformat_minor": 5
}
