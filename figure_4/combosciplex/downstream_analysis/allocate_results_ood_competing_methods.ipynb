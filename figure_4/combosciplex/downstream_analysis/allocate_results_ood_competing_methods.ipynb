{
 "cells": [
  {
   "cell_type": "code",
   "execution_count": 1,
   "id": "5602f65d-bbab-45e4-b72d-b03b3da451fd",
   "metadata": {},
   "outputs": [],
   "source": [
    "import os\n",
    "import pandas as pd\n",
    "import seaborn as sns\n",
    "import matplotlib.pyplot as plt\n",
    "import numpy as np"
   ]
  },
  {
   "cell_type": "code",
   "execution_count": 2,
   "id": "dfe989a0-9852-4705-bf73-bb4e080089ec",
   "metadata": {},
   "outputs": [],
   "source": [
    "cpa_dir = \"/lustre/groups/ml01/workspace/ot_perturbation/data/combosciplex/results/cpa\"\n",
    "chemcpa_dir = \"/lustre/groups/ml01/workspace/ot_perturbation/data/combosciplex/results/chemcpa\"\n",
    "id_dir = \"/lustre/groups/ml01/workspace/ot_perturbation/data/combosciplex/results/identity\"\n",
    "add_dir = \"/lustre/groups/ml01/workspace/ot_perturbation/data/combosciplex/results/additive\"\n",
    "otfm_dir = \"/lustre/groups/ml01/workspace/ot_perturbation/data/combosciplex/results/otfm\"\n",
    "id_dir = \"/lustre/groups/ml01/workspace/ot_perturbation/data/combosciplex/results/identity\""
   ]
  },
  {
   "cell_type": "code",
   "execution_count": 3,
   "id": "285618e9-3f61-49d7-a2c3-3794589e3c5d",
   "metadata": {},
   "outputs": [],
   "source": [
    "model_dirs = {\"CPA\": cpa_dir, \"chemCPA\": chemcpa_dir, \"otfm\": otfm_dir, \"add\": add_dir, \"id\": id_dir}"
   ]
  },
  {
   "cell_type": "code",
   "execution_count": 4,
   "id": "ab4f0a72-4235-4dec-be73-c8e8ce567bdd",
   "metadata": {},
   "outputs": [],
   "source": [
    "splits = [1,2,3,4]"
   ]
  },
  {
   "cell_type": "markdown",
   "id": "1177649e-5b11-4ace-bdd9-fbce0dac76b1",
   "metadata": {},
   "source": [
    "# Decoded"
   ]
  },
  {
   "cell_type": "code",
   "execution_count": 5,
   "id": "1caed032-ef64-49fb-852c-90d259327ef5",
   "metadata": {},
   "outputs": [],
   "source": [
    "\n",
    "all_dfs = []\n",
    "for split in splits:\n",
    "    metrics_file = f\"ood_metrics_decoded_{split}.csv\"\n",
    "    dfs = {}\n",
    "    for model, model_dir in model_dirs.items():\n",
    "        dfs[model] = pd.read_csv(os.path.join(model_dir, metrics_file), index_col=0)\n",
    "        #dfs[model].loc[\"sinkhorn_div\"] = dfs[model].loc[[\"sinkhorn_div_1\", \"sinkhorn_div_10\", \"sinkhorn_div_100\"]].mean(axis=0)\n",
    "        if \"sinkhorn_div_1\" in dfs[model].index:\n",
    "            dfs[model] = dfs[model].drop([\"sinkhorn_div_1\", \"sinkhorn_div_10\", \"sinkhorn_div_100\"])\n",
    "        if \"mmd_distance\" in dfs[model].index:\n",
    "            dfs[model] = dfs[model].drop([\"mmd_distance\"])\n",
    "        if \"mmd\" in dfs[model].index:\n",
    "            dfs[model] = dfs[model].drop([\"mmd\"])\n",
    "        if \"e_distance\" in dfs[model].index:\n",
    "            dfs[model] = dfs[model].drop([\"e_distance\"])\n",
    "        dfs[model][\"model\"] = model\n",
    "    result_df = pd.concat(dfs.values(), ignore_index=False)\n",
    "    result_df[\"metric\"] = result_df.index\n",
    "    metrics = result_df[\"metric\"].unique()\n",
    "    df2 = pd.melt(result_df, id_vars=[\"model\", \"metric\"])\n",
    "    df2[\"split\"] = split\n",
    "    all_dfs.append(df2)"
   ]
  },
  {
   "cell_type": "code",
   "execution_count": 6,
   "id": "3372e1a7-0b2c-4a2a-a493-792df3fd6673",
   "metadata": {},
   "outputs": [],
   "source": [
    "df_ood_metrics_decoded = pd.concat(all_dfs)\n"
   ]
  },
  {
   "cell_type": "code",
   "execution_count": 7,
   "id": "159c8f82-bf8b-4ee9-a8dd-bfe03eeac457",
   "metadata": {},
   "outputs": [
    {
     "data": {
      "text/plain": [
       "split\n",
       "1    0.943985\n",
       "2    0.898254\n",
       "3    0.837761\n",
       "4    0.859008\n",
       "Name: value, dtype: float64"
      ]
     },
     "execution_count": 7,
     "metadata": {},
     "output_type": "execute_result"
    }
   ],
   "source": [
    "df_ood_metrics_decoded[df_ood_metrics_decoded[\"model\"]==\"add\"].groupby([\"split\"])[\"value\"].mean()"
   ]
  },
  {
   "cell_type": "code",
   "execution_count": 8,
   "id": "8b78ca70-d05b-4d5b-83e0-8ac7ab16733d",
   "metadata": {},
   "outputs": [
    {
     "data": {
      "text/plain": [
       "split\n",
       "1    0.962075\n",
       "2    0.940297\n",
       "3    0.931946\n",
       "4    0.953651\n",
       "Name: value, dtype: float64"
      ]
     },
     "execution_count": 8,
     "metadata": {},
     "output_type": "execute_result"
    }
   ],
   "source": [
    "df_ood_metrics_decoded[df_ood_metrics_decoded[\"model\"]==\"CPA\"].groupby([\"split\"])[\"value\"].mean()"
   ]
  },
  {
   "cell_type": "code",
   "execution_count": 9,
   "id": "5abec50e-1bae-4363-9d34-c1350af43414",
   "metadata": {},
   "outputs": [
    {
     "data": {
      "text/plain": [
       "split\n",
       "1    0.967048\n",
       "2    0.903307\n",
       "3    0.920254\n",
       "4    0.965265\n",
       "Name: value, dtype: float64"
      ]
     },
     "execution_count": 9,
     "metadata": {},
     "output_type": "execute_result"
    }
   ],
   "source": [
    "df_ood_metrics_decoded[df_ood_metrics_decoded[\"model\"]==\"chemCPA\"].groupby([\"split\"])[\"value\"].mean()"
   ]
  },
  {
   "cell_type": "code",
   "execution_count": 10,
   "id": "73d2f186-cdf1-42cd-9680-2df2b6c3ee9e",
   "metadata": {},
   "outputs": [
    {
     "data": {
      "text/plain": [
       "split\n",
       "1    0.926754\n",
       "2    0.954994\n",
       "3    0.957123\n",
       "4    0.964958\n",
       "Name: value, dtype: float64"
      ]
     },
     "execution_count": 10,
     "metadata": {},
     "output_type": "execute_result"
    }
   ],
   "source": [
    "df_ood_metrics_decoded[df_ood_metrics_decoded[\"model\"]==\"otfm\"].groupby([\"split\"])[\"value\"].mean()"
   ]
  },
  {
   "cell_type": "code",
   "execution_count": 11,
   "id": "eba4f50e-a6fb-47fd-91f1-03a32338cab3",
   "metadata": {},
   "outputs": [],
   "source": [
    "df_ood_metrics_decoded.to_csv(\"/lustre/groups/ml01/workspace/ot_perturbation/data/combosciplex/results/allocation/ood_metrics_decoded.csv\")"
   ]
  },
  {
   "cell_type": "code",
   "execution_count": 12,
   "id": "0e73aaa1-febb-4c04-9f68-37b472a5c884",
   "metadata": {},
   "outputs": [],
   "source": [
    "\n",
    "all_dfs = []\n",
    "for split in splits:\n",
    "    metrics_file = f\"ood_metrics_encoded_{split}.csv\"\n",
    "    dfs = {}\n",
    "    for model, model_dir in model_dirs.items():\n",
    "        dfs[model] = pd.read_csv(os.path.join(model_dir, metrics_file), index_col=0)\n",
    "        dfs[model].loc[\"sinkhorn_div\"] = dfs[model].loc[[\"sinkhorn_div_1\", \"sinkhorn_div_10\", \"sinkhorn_div_100\"]].mean(axis=0)\n",
    "        dfs[model] = dfs[model].drop([\"sinkhorn_div_1\", \"sinkhorn_div_10\", \"sinkhorn_div_100\"])\n",
    "        dfs[model][\"model\"] = model\n",
    "    result_df = pd.concat(dfs.values(), ignore_index=False)\n",
    "    result_df[\"metric\"] = result_df.index\n",
    "    metrics = result_df[\"metric\"].unique()\n",
    "    df2 = pd.melt(result_df, id_vars=[\"model\", \"metric\"])\n",
    "    df2[\"split\"] = split\n",
    "    all_dfs.append(df2)"
   ]
  },
  {
   "cell_type": "code",
   "execution_count": 13,
   "id": "e4b52a33-da9b-41f6-8b8f-069bcb104dc6",
   "metadata": {},
   "outputs": [],
   "source": [
    "df_ood_metrics_encoded = pd.concat(all_dfs)\n"
   ]
  },
  {
   "cell_type": "code",
   "execution_count": 14,
   "id": "c9304fd2-ad60-4375-8e89-ca6c1108e90f",
   "metadata": {},
   "outputs": [
    {
     "data": {
      "text/plain": [
       "metric\n",
       "r_squared       135\n",
       "e_distance      135\n",
       "mmd             135\n",
       "sinkhorn_div    135\n",
       "Name: count, dtype: int64"
      ]
     },
     "execution_count": 14,
     "metadata": {},
     "output_type": "execute_result"
    }
   ],
   "source": [
    "df_ood_metrics_encoded[\"metric\"].value_counts()"
   ]
  },
  {
   "cell_type": "code",
   "execution_count": 15,
   "id": "b1eea9ed-cdcb-43d3-98a7-de561dafe2e0",
   "metadata": {},
   "outputs": [],
   "source": [
    "df_ood_metrics_encoded.to_csv(\"/lustre/groups/ml01/workspace/ot_perturbation/data/combosciplex/results/allocation/ood_metrics_encoded.csv\")"
   ]
  },
  {
   "cell_type": "code",
   "execution_count": 16,
   "id": "45c95333-1abc-4d26-abd9-49cfbcbe7aed",
   "metadata": {},
   "outputs": [],
   "source": [
    "\n",
    "all_dfs = []\n",
    "for split in splits:\n",
    "    metrics_file = f\"ood_metrics_ood_{split}.csv\"\n",
    "    dfs = {}\n",
    "    for model, model_dir in model_dirs.items():\n",
    "        dfs[model] = pd.read_csv(os.path.join(model_dir, metrics_file), index_col=0)\n",
    "        dfs[model].loc[\"sinkhorn_div\"] = dfs[model].loc[[\"sinkhorn_div_1\", \"sinkhorn_div_10\", \"sinkhorn_div_100\"]].mean(axis=0)\n",
    "        dfs[model] = dfs[model].drop([\"sinkhorn_div_1\", \"sinkhorn_div_10\", \"sinkhorn_div_100\"])\n",
    "        dfs[model][\"model\"] = model\n",
    "    result_df = pd.concat(dfs.values(), ignore_index=False)\n",
    "    result_df[\"metric\"] = result_df.index\n",
    "    metrics = result_df[\"metric\"].unique()\n",
    "    df2 = pd.melt(result_df, id_vars=[\"model\", \"metric\"])\n",
    "    df2[\"split\"] = split\n",
    "    all_dfs.append(df2)"
   ]
  },
  {
   "cell_type": "code",
   "execution_count": 17,
   "id": "fe121fb2-b14a-4ef4-be91-7e2466ec2b98",
   "metadata": {},
   "outputs": [],
   "source": [
    "df_ood_metrics_deg = pd.concat(all_dfs)\n"
   ]
  },
  {
   "cell_type": "code",
   "execution_count": 18,
   "id": "7d608e35-0a5c-4f9b-92b3-096ae3fe6d56",
   "metadata": {},
   "outputs": [
    {
     "data": {
      "text/html": [
       "<div>\n",
       "<style scoped>\n",
       "    .dataframe tbody tr th:only-of-type {\n",
       "        vertical-align: middle;\n",
       "    }\n",
       "\n",
       "    .dataframe tbody tr th {\n",
       "        vertical-align: top;\n",
       "    }\n",
       "\n",
       "    .dataframe thead th {\n",
       "        text-align: right;\n",
       "    }\n",
       "</style>\n",
       "<table border=\"1\" class=\"dataframe\">\n",
       "  <thead>\n",
       "    <tr style=\"text-align: right;\">\n",
       "      <th></th>\n",
       "      <th>model</th>\n",
       "      <th>metric</th>\n",
       "      <th>variable</th>\n",
       "      <th>value</th>\n",
       "      <th>split</th>\n",
       "    </tr>\n",
       "  </thead>\n",
       "  <tbody>\n",
       "    <tr>\n",
       "      <th>0</th>\n",
       "      <td>CPA</td>\n",
       "      <td>r_squared</td>\n",
       "      <td>Givinostat+Dasatinib</td>\n",
       "      <td>0.962096</td>\n",
       "      <td>1</td>\n",
       "    </tr>\n",
       "    <tr>\n",
       "      <th>1</th>\n",
       "      <td>CPA</td>\n",
       "      <td>e_distance</td>\n",
       "      <td>Givinostat+Dasatinib</td>\n",
       "      <td>6.047985</td>\n",
       "      <td>1</td>\n",
       "    </tr>\n",
       "    <tr>\n",
       "      <th>2</th>\n",
       "      <td>CPA</td>\n",
       "      <td>mmd</td>\n",
       "      <td>Givinostat+Dasatinib</td>\n",
       "      <td>0.212075</td>\n",
       "      <td>1</td>\n",
       "    </tr>\n",
       "    <tr>\n",
       "      <th>3</th>\n",
       "      <td>CPA</td>\n",
       "      <td>sinkhorn_div</td>\n",
       "      <td>Givinostat+Dasatinib</td>\n",
       "      <td>71.171120</td>\n",
       "      <td>1</td>\n",
       "    </tr>\n",
       "    <tr>\n",
       "      <th>4</th>\n",
       "      <td>chemCPA</td>\n",
       "      <td>r_squared</td>\n",
       "      <td>Givinostat+Dasatinib</td>\n",
       "      <td>0.967164</td>\n",
       "      <td>1</td>\n",
       "    </tr>\n",
       "    <tr>\n",
       "      <th>...</th>\n",
       "      <td>...</td>\n",
       "      <td>...</td>\n",
       "      <td>...</td>\n",
       "      <td>...</td>\n",
       "      <td>...</td>\n",
       "    </tr>\n",
       "    <tr>\n",
       "      <th>115</th>\n",
       "      <td>add</td>\n",
       "      <td>sinkhorn_div</td>\n",
       "      <td>control+SRT2104</td>\n",
       "      <td>67.478353</td>\n",
       "      <td>4</td>\n",
       "    </tr>\n",
       "    <tr>\n",
       "      <th>116</th>\n",
       "      <td>id</td>\n",
       "      <td>r_squared</td>\n",
       "      <td>control+SRT2104</td>\n",
       "      <td>0.976856</td>\n",
       "      <td>4</td>\n",
       "    </tr>\n",
       "    <tr>\n",
       "      <th>117</th>\n",
       "      <td>id</td>\n",
       "      <td>e_distance</td>\n",
       "      <td>control+SRT2104</td>\n",
       "      <td>5.184864</td>\n",
       "      <td>4</td>\n",
       "    </tr>\n",
       "    <tr>\n",
       "      <th>118</th>\n",
       "      <td>id</td>\n",
       "      <td>mmd</td>\n",
       "      <td>control+SRT2104</td>\n",
       "      <td>0.004212</td>\n",
       "      <td>4</td>\n",
       "    </tr>\n",
       "    <tr>\n",
       "      <th>119</th>\n",
       "      <td>id</td>\n",
       "      <td>sinkhorn_div</td>\n",
       "      <td>control+SRT2104</td>\n",
       "      <td>67.751630</td>\n",
       "      <td>4</td>\n",
       "    </tr>\n",
       "  </tbody>\n",
       "</table>\n",
       "<p>540 rows × 5 columns</p>\n",
       "</div>"
      ],
      "text/plain": [
       "       model        metric              variable      value  split\n",
       "0        CPA     r_squared  Givinostat+Dasatinib   0.962096      1\n",
       "1        CPA    e_distance  Givinostat+Dasatinib   6.047985      1\n",
       "2        CPA           mmd  Givinostat+Dasatinib   0.212075      1\n",
       "3        CPA  sinkhorn_div  Givinostat+Dasatinib  71.171120      1\n",
       "4    chemCPA     r_squared  Givinostat+Dasatinib   0.967164      1\n",
       "..       ...           ...                   ...        ...    ...\n",
       "115      add  sinkhorn_div       control+SRT2104  67.478353      4\n",
       "116       id     r_squared       control+SRT2104   0.976856      4\n",
       "117       id    e_distance       control+SRT2104   5.184864      4\n",
       "118       id           mmd       control+SRT2104   0.004212      4\n",
       "119       id  sinkhorn_div       control+SRT2104  67.751630      4\n",
       "\n",
       "[540 rows x 5 columns]"
      ]
     },
     "execution_count": 18,
     "metadata": {},
     "output_type": "execute_result"
    }
   ],
   "source": [
    "df_ood_metrics_deg"
   ]
  },
  {
   "cell_type": "code",
   "execution_count": 19,
   "id": "ffd38a93-6669-470c-9d3f-c4a3d55aaab7",
   "metadata": {},
   "outputs": [],
   "source": [
    "df_ood_metrics_deg.to_csv(\"/lustre/groups/ml01/workspace/ot_perturbation/data/combosciplex/results/allocation/ood_metrics_deg.csv\")"
   ]
  },
  {
   "cell_type": "code",
   "execution_count": null,
   "id": "269ef050-ac4f-4381-b316-69161b343914",
   "metadata": {},
   "outputs": [],
   "source": []
  },
  {
   "cell_type": "code",
   "execution_count": 17,
   "id": "7efd2942-83ed-42fa-aa54-85f09b4eb025",
   "metadata": {},
   "outputs": [
    {
     "data": {
      "text/plain": [
       "3.825"
      ]
     },
     "execution_count": 17,
     "metadata": {},
     "output_type": "execute_result"
    }
   ],
   "source": [
    "0.957 + 0.946 + 0.952 + 0.970"
   ]
  },
  {
   "cell_type": "code",
   "execution_count": 18,
   "id": "02cb97d8-a115-40cf-9aa6-ddc41a64871f",
   "metadata": {},
   "outputs": [
    {
     "data": {
      "text/plain": [
       "3.8035999999999994"
      ]
     },
     "execution_count": 18,
     "metadata": {},
     "output_type": "execute_result"
    }
   ],
   "source": [
    "0.95 +0.9666+0.933+0.954"
   ]
  },
  {
   "cell_type": "code",
   "execution_count": 19,
   "id": "5ea1b472-0fb6-44bb-b3cc-fa5104b442a5",
   "metadata": {},
   "outputs": [
    {
     "data": {
      "text/plain": [
       "3.787969321012497"
      ]
     },
     "execution_count": 19,
     "metadata": {},
     "output_type": "execute_result"
    }
   ],
   "source": [
    "df_ood_metrics_decoded[df_ood_metrics_decoded[\"model\"]==\"CPA\"].groupby([\"split\"])[\"value\"].mean().sum()"
   ]
  },
  {
   "cell_type": "code",
   "execution_count": 20,
   "id": "a0f548a0-2e9b-4a36-9de9-681ecbb82a04",
   "metadata": {},
   "outputs": [
    {
     "data": {
      "text/plain": [
       "3.855936318766099"
      ]
     },
     "execution_count": 20,
     "metadata": {},
     "output_type": "execute_result"
    }
   ],
   "source": [
    "df_ood_metrics_decoded[df_ood_metrics_decoded[\"model\"]==\"otfm\"].groupby([\"split\"])[\"value\"].mean().sum()"
   ]
  },
  {
   "cell_type": "code",
   "execution_count": null,
   "id": "39f52d6f-3611-46b5-9bc2-216c209b0a17",
   "metadata": {},
   "outputs": [],
   "source": []
  }
 ],
 "metadata": {
  "kernelspec": {
   "display_name": "cfp",
   "language": "python",
   "name": "cfp"
  },
  "language_info": {
   "codemirror_mode": {
    "name": "ipython",
    "version": 3
   },
   "file_extension": ".py",
   "mimetype": "text/x-python",
   "name": "python",
   "nbconvert_exporter": "python",
   "pygments_lexer": "ipython3",
   "version": "3.11.9"
  }
 },
 "nbformat": 4,
 "nbformat_minor": 5
}
