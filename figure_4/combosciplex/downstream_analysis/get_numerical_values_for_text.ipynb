{
 "cells": [
  {
   "cell_type": "code",
   "execution_count": 1,
   "id": "ea888c60-96be-43ce-9d2e-36d2a1a1b475",
   "metadata": {},
   "outputs": [],
   "source": [
    "import pandas as pd"
   ]
  },
  {
   "cell_type": "code",
   "execution_count": 17,
   "id": "f15f36d7-cb09-4555-9fdc-7ee0dd42b2e9",
   "metadata": {},
   "outputs": [],
   "source": [
    "df = pd.read_csv(\"/lustre/groups/ml01/workspace/ot_perturbation/data/combosciplex/results/allocation/ood_metrics_deg.csv\")"
   ]
  },
  {
   "cell_type": "code",
   "execution_count": 18,
   "id": "3505a6a1-d27b-470d-b470-99ec14fcebd0",
   "metadata": {},
   "outputs": [],
   "source": [
    "df = df[df[\"model\"].isin((\"otfm\", \"add\"))]"
   ]
  },
  {
   "cell_type": "code",
   "execution_count": 19,
   "id": "49111619-9e70-446d-85c4-d726b71392b5",
   "metadata": {},
   "outputs": [],
   "source": [
    "df = df[df[\"metric\"]==\"r_squared\"]"
   ]
  },
  {
   "cell_type": "code",
   "execution_count": 22,
   "id": "8e12562d-6430-45b5-8db0-f9e4ff2d25c8",
   "metadata": {},
   "outputs": [
    {
     "data": {
      "text/plain": [
       "0.8309607130509836"
      ]
     },
     "execution_count": 22,
     "metadata": {},
     "output_type": "execute_result"
    }
   ],
   "source": [
    "df[df[\"model\"]==\"add\"][\"value\"].mean()"
   ]
  },
  {
   "cell_type": "code",
   "execution_count": 23,
   "id": "93b649a3-ad4f-4850-b182-44ea616dd599",
   "metadata": {},
   "outputs": [
    {
     "data": {
      "text/plain": [
       "0.943069356409304"
      ]
     },
     "execution_count": 23,
     "metadata": {},
     "output_type": "execute_result"
    }
   ],
   "source": [
    "df[df[\"model\"]==\"otfm\"][\"value\"].mean()"
   ]
  },
  {
   "cell_type": "code",
   "execution_count": 26,
   "id": "29958a0f-42a2-4e78-ab7d-20fbae63f9c5",
   "metadata": {},
   "outputs": [],
   "source": [
    "err_cf = (1-0.943069356409304)"
   ]
  },
  {
   "cell_type": "code",
   "execution_count": 27,
   "id": "365788fd-d5f3-4f3b-a93e-ded3acffe2f6",
   "metadata": {},
   "outputs": [],
   "source": [
    "err_add = (1-0.8309607130509836)"
   ]
  },
  {
   "cell_type": "code",
   "execution_count": 30,
   "id": "e1f66e64-172a-44de-9119-762f7ec512ec",
   "metadata": {},
   "outputs": [
    {
     "data": {
      "text/plain": [
       "0.6632105789237815"
      ]
     },
     "execution_count": 30,
     "metadata": {},
     "output_type": "execute_result"
    }
   ],
   "source": [
    "(err_add-err_cf)/err_add"
   ]
  },
  {
   "cell_type": "code",
   "execution_count": null,
   "id": "bafaac4c-fbc6-49db-b310-300024f85cb4",
   "metadata": {},
   "outputs": [],
   "source": []
  }
 ],
 "metadata": {
  "kernelspec": {
   "display_name": "cfp",
   "language": "python",
   "name": "cfp"
  },
  "language_info": {
   "codemirror_mode": {
    "name": "ipython",
    "version": 3
   },
   "file_extension": ".py",
   "mimetype": "text/x-python",
   "name": "python",
   "nbconvert_exporter": "python",
   "pygments_lexer": "ipython3",
   "version": "3.11.9"
  }
 },
 "nbformat": 4,
 "nbformat_minor": 5
}
