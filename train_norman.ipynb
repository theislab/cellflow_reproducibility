{
 "cells": [
  {
   "cell_type": "code",
   "execution_count": 3,
   "id": "61dfebb8-0f7f-46d6-bb81-e5f83ae92878",
   "metadata": {},
   "outputs": [],
   "source": [
    "import hydra\n",
    "import wandb\n",
    "from ott.neural import datasets\n",
    "import sys\n",
    "from omegaconf import DictConfig\n",
    "import jax.numpy as jnp\n",
    "from jax import random\n",
    "from typing import Optional, Literal\n",
    "import jax\n",
    "import pathlib\n",
    "import optax\n",
    "import yaml\n",
    "from datetime import datetime\n",
    "from flax import linen as nn\n",
    "import functools\n",
    "from tqdm import tqdm\n",
    "from flax.training import train_state\n",
    "\n",
    "from ott.neural.networks.layers import time_encoder\n",
    "from ott.neural.methods.flows import dynamics, otfm\n",
    "from ott.neural.networks import velocity_field\n",
    "from ott.solvers import utils as solver_utils\n",
    "import jax.tree_util as jtu\n",
    "from ott.neural.networks.layers import time_encoder\n",
    "import pandas as pd\n",
    "import os\n",
    "\n",
    "import hydra\n",
    "from omegaconf import DictConfig, OmegaConf\n",
    "\n",
    "from torch.utils.data import DataLoader\n",
    "import numpy as np\n",
    "\n",
    "import scanpy as sc"
   ]
  },
  {
   "cell_type": "code",
   "execution_count": 4,
   "id": "d5cef7c9-5bac-41a7-bff7-7b77e6a24fe0",
   "metadata": {},
   "outputs": [],
   "source": [
    "from src.ot_pert.metrics import compute_metrics, compute_mean_metrics\n",
    "from src.ot_pert.nets.nets import VelocityFieldWithAttention\n",
    "from src.ot_pert.utils import ConditionalLoader"
   ]
  },
  {
   "cell_type": "code",
   "execution_count": 7,
   "id": "c8d9117e-686f-4a49-a1f5-dc2f2f4bd724",
   "metadata": {},
   "outputs": [],
   "source": [
    "\n",
    "def reconstruct_data(embedding: np.ndarray, projection_matrix: np.ndarray, mean_to_add: np.ndarray) -> np.ndarray:\n",
    "    return np.matmul(embedding, projection_matrix.T) + mean_to_add"
   ]
  },
  {
   "cell_type": "code",
   "execution_count": 5,
   "id": "eb042442-062d-4f8a-afdc-e585d7554e5e",
   "metadata": {},
   "outputs": [],
   "source": [
    "def data_match_fn(\n",
    "        src_lin: Optional[jnp.ndarray], tgt_lin: Optional[jnp.ndarray],\n",
    "        src_quad: Optional[jnp.ndarray], tgt_quad: Optional[jnp.ndarray], *,\n",
    "        typ: Literal[\"lin\", \"quad\", \"fused\"], epsilon: float = 1e-2, tau_a: float = 1.0,\n",
    "        tau_b: float = 1.0,\n",
    "    ) -> jnp.ndarray:\n",
    "        if typ == \"lin\":\n",
    "            return solver_utils.match_linear(x=src_lin, y=tgt_lin, scale_cost=\"mean\", epsilon=epsilon, tau_a=tau_a, tau_b=tau_b)\n",
    "        if typ == \"quad\":\n",
    "            return solver_utils.match_quadratic(xx=src_quad, yy=tgt_quad)\n",
    "        if typ == \"fused\":\n",
    "            return solver_utils.match_quadratic(\n",
    "                xx=src_quad, yy=tgt_quad, x=src_lin, y=tgt_lin\n",
    "            )\n",
    "        raise NotImplementedError(f\"Unknown type: {typ}.\")"
   ]
  },
  {
   "cell_type": "code",
   "execution_count": 19,
   "id": "a91b5cf0-1638-47a7-9e05-2dc3abe6160b",
   "metadata": {},
   "outputs": [],
   "source": [
    "adata_train = sc.read('/lustre/groups/ml01/workspace/ot_perturbation/data/norman/adata_train_0_seen_genes.h5ad')\n",
    "adata_train.obs = adata_train.obs.rename(columns={\"perturbation_name\": \"condition\"})\n",
    "dls = []\n",
    "\n",
    "train_data_source = {}\n",
    "train_data_target = {}\n",
    "train_data_source_decoded = {}\n",
    "train_data_target_decoded = {}\n",
    "train_data_conditions = {}\n",
    "\n",
    "\n",
    "source = adata_train[adata_train.obs[\"condition\"]==\"control\"].obsm['X_pca']\n",
    "source_decoded = adata_train[adata_train.obs[\"condition\"]==\"control\"].X\n",
    "for cond in adata_train.obs[\"condition\"].cat.categories:\n",
    "    if cond == \"ctrl\":\n",
    "        continue\n",
    "    target = adata_train[adata_train.obs[\"condition\"]==cond].obsm['X_pca']\n",
    "    target_decoded = adata_train[adata_train.obs[\"condition\"]==cond].X.A\n",
    "    condition_1 = adata_train[adata_train.obs[\"condition\"]==cond].obsm['emb_1']\n",
    "    condition_2 = adata_train[adata_train.obs[\"condition\"]==cond].obsm['emb_2']\n",
    "    assert np.all(np.all(condition_1 == condition_1[0], axis=1))\n",
    "    assert np.all(np.all(condition_2 == condition_2[0], axis=1))\n",
    "    expanded_arr = np.expand_dims(np.concatenate((condition_1[0,:][None,:],condition_2[0,:][None,:]), axis=0), axis=0)\n",
    "    conds = np.tile(expanded_arr, (len(source), 1, 1))\n",
    "    dls.append(DataLoader(datasets.OTDataset(datasets.OTData(\n",
    "        lin=source,\n",
    "        condition=conds,\n",
    "    ), datasets.OTData(lin=target)), batch_size=128, shuffle=True))\n",
    "    train_data_source[cond] = source\n",
    "    train_data_target[cond] = target\n",
    "    train_data_conditions[cond] = conds\n",
    "    train_data_source_decoded[cond] = source_decoded\n",
    "    train_data_target_decoded[cond] = target_decoded\n",
    "\n",
    "# train_loader = ConditionalLoader(dls, seed=0)\n",
    "\n",
    "# reconstruct_data_fn = functools.partial(reconstruct_data, projection_matrix=adata_train.varm[\"PCs\"], mean_to_add=adata_train.varm[\"X_train_mean\"].T)\n",
    "\n",
    "# source_dim = source.shape[1]\n",
    "# target_dim = source_dim\n",
    "# condition_dim = condition_1.shape[1]\n",
    "\n",
    "# source_dim = source.shape[1]\n",
    "# target_dim = source_dim\n",
    "# condition_dim = condition_1.shape[1]\n",
    "\n",
    "# vf = VelocityFieldWithAttention(\n",
    "#     num_heads=cfg.model.num_heads,\n",
    "#     qkv_feature_dim=cfg.model.qkv_feature_dim,\n",
    "#     max_seq_length=cfg.model.max_seq_length,\n",
    "#     hidden_dims=cfg.model.hidden_dims,\n",
    "#     time_dims=cfg.model.time_dims,\n",
    "#     output_dims=cfg.model.output_dims+[target_dim],\n",
    "#     condition_dims=cfg.model.condition_dims,\n",
    "#     time_encoder = functools.partial(time_encoder.cyclical_time_encoder, n_freqs=cfg.model.time_n_freqs),\n",
    "#     )\n",
    "\n",
    "# print(vf)\n",
    "\n",
    "# model = otfm.OTFlowMatching(vf,\n",
    "#     flow=dynamics.ConstantNoiseFlow(cfg.model.flow_noise),\n",
    "#     match_fn=jax.jit(functools.partial(data_match_fn, typ=\"lin\", src_quad=None, tgt_quad=None, epsilon=cfg.model.epsilon, tau_a=cfg.model.tau_a, tau_b=cfg.model.tau_b)),\n",
    "#     condition_dim=condition_dim,\n",
    "#     rng=jax.random.PRNGKey(13),\n",
    "#     optimizer=optax.MultiSteps(optax.adam(learning_rate=cfg.model.learning_rate), cfg.model.multi_steps)\n",
    "# )\n",
    "\n",
    "# print(model)\n",
    "\n",
    "# training_logs = {\"loss\": []}\n"
   ]
  },
  {
   "cell_type": "code",
   "execution_count": null,
   "id": "da04921d-e6d7-415d-94cb-d2908a33ad22",
   "metadata": {},
   "outputs": [],
   "source": []
  },
  {
   "cell_type": "code",
   "execution_count": null,
   "id": "8f4b5879-3bc8-404a-be6f-72470e589881",
   "metadata": {},
   "outputs": [],
   "source": []
  },
  {
   "cell_type": "code",
   "execution_count": 18,
   "id": "597de95d-2ddc-436e-bc2e-6c9c31293f17",
   "metadata": {},
   "outputs": [
    {
     "data": {
      "text/plain": [
       "index\n",
       "AAACCTGAGAAGAAGC-1          control\n",
       "AAACCTGCACGAAGCA-1          control\n",
       "AAACCTGCAGCCTTGG-1            MAML2\n",
       "AAACCTGCATTACCTT-1      ETS2+MAP7D1\n",
       "AAACCTGGTATAATGG-1          control\n",
       "                          ...      \n",
       "TTTGTCAGTATAAACG-8    SAMD1+UBASH3B\n",
       "TTTGTCAGTCAGAATA-8          control\n",
       "TTTGTCATCAGTACGT-8            FOXA3\n",
       "TTTGTCATCCCAACGG-8           BCORL1\n",
       "TTTGTCATCTGGCGAC-8           MAP4K3\n",
       "Name: condition, Length: 59579, dtype: category\n",
       "Categories (134, object): ['AHR', 'ARID1A', 'ARRDC3', 'ATL1', ..., 'ZBTB25', 'ZC3HAV1', 'ZNF318', 'control']"
      ]
     },
     "execution_count": 18,
     "metadata": {},
     "output_type": "execute_result"
    }
   ],
   "source": [
    "adata_train.obs.condition"
   ]
  },
  {
   "cell_type": "code",
   "execution_count": 15,
   "id": "3b5c7ea7-23fa-4582-8dbb-b4c7b5347c9e",
   "metadata": {},
   "outputs": [
    {
     "data": {
      "text/plain": [
       "tensor([[0.8811, 0.5417, 0.8617],\n",
       "        [0.5732, 0.9433, 0.4122],\n",
       "        [0.0000, 0.0000, 1.0000],\n",
       "        [0.0000, 0.0000, 1.0000]])"
      ]
     },
     "execution_count": 15,
     "metadata": {},
     "output_type": "execute_result"
    }
   ],
   "source": [
    "torch.where(b==torch.tensor([[0.0000, 0.0000, 0.0000]]), torch.tensor([[0.0000, 0.0000, 1.0000]]), b)"
   ]
  },
  {
   "cell_type": "code",
   "execution_count": 20,
   "id": "9f4911b5-fed5-404d-b395-12841e38dc21",
   "metadata": {},
   "outputs": [],
   "source": [
    "a = {'b': 2}"
   ]
  },
  {
   "cell_type": "code",
   "execution_count": 21,
   "id": "c9996763-2cb9-4b22-afa2-55fa74e1d458",
   "metadata": {},
   "outputs": [
    {
     "name": "stdout",
     "output_type": "stream",
     "text": [
      "f\n"
     ]
    }
   ],
   "source": [
    "if a:\n",
    "    print(\"f\")"
   ]
  },
  {
   "cell_type": "code",
   "execution_count": 32,
   "id": "315d6055-1adc-4ad6-ac0b-a41a80d2ec2e",
   "metadata": {},
   "outputs": [
    {
     "data": {
      "text/plain": [
       "-1.999990000012275e-05"
      ]
     },
     "execution_count": 32,
     "metadata": {},
     "output_type": "execute_result"
    }
   ],
   "source": [
    "(np.log(10) - np.log(10.0001))*2"
   ]
  },
  {
   "cell_type": "code",
   "execution_count": 33,
   "id": "d3e4200b-eb28-4a49-a6e6-b062beb2581f",
   "metadata": {},
   "outputs": [
    {
     "data": {
      "text/plain": [
       "-0.00019999999999953388"
      ]
     },
     "execution_count": 33,
     "metadata": {},
     "output_type": "execute_result"
    }
   ],
   "source": [
    "(10-10.0001)*2"
   ]
  },
  {
   "cell_type": "code",
   "execution_count": 35,
   "id": "e6b6cd7e-05f9-4dca-852e-bcb85c3c89d3",
   "metadata": {},
   "outputs": [],
   "source": [
    "dicta = {'adata_train_path': '/lustre/groups/ml01/workspace/ot_perturbation/data/norman/adata_train_0_seen_genes.h5ad',\n",
    "'adata_test_path': '/lustre/groups/ml01/workspace/ot_perturbation/data/norman/adata_test_0_seen_genes.h5ad',\n",
    "'adata_ood_path': '/lustre/groups/ml01/workspace/ot_perturbation/data/norman/adata_val_0_seen_genes.h5ad'}"
   ]
  },
  {
   "cell_type": "code",
   "execution_count": 36,
   "id": "ed9758c7-e044-462d-bf04-755d3151e90a",
   "metadata": {},
   "outputs": [],
   "source": [
    "import scanpy as sc"
   ]
  },
  {
   "cell_type": "code",
   "execution_count": 41,
   "id": "8269db12-85f1-4759-8ec0-4e149bbc88bd",
   "metadata": {},
   "outputs": [
    {
     "data": {
      "text/plain": [
       "array([[-0.00188   , -0.00241112,  0.03851924, ...,  0.08719031,\n",
       "        -0.12514378,  0.01683793],\n",
       "       [ 0.04002452, -0.02404516,  0.00446936, ..., -0.00661617,\n",
       "        -0.133329  ,  0.06671482],\n",
       "       [-0.02541345, -0.00573373,  0.03895705, ...,  0.02111108,\n",
       "        -0.07714359, -0.02685452],\n",
       "       ...,\n",
       "       [-0.04211034, -0.09814648, -0.00608418, ...,  0.10736639,\n",
       "        -0.06857122, -0.0775749 ],\n",
       "       [ 0.04481288, -0.02440529,  0.05576424, ...,  0.00169797,\n",
       "        -0.1467784 ,  0.00504636],\n",
       "       [-0.06218398, -0.0427513 ,  0.01320167, ...,  0.08727837,\n",
       "        -0.10445533, -0.13681167]])"
      ]
     },
     "execution_count": 41,
     "metadata": {},
     "output_type": "execute_result"
    }
   ],
   "source": [
    "train = sc.read_h5ad(dicta['adata_test_path'])\n",
    "train.obsm['emb_1']"
   ]
  },
  {
   "cell_type": "code",
   "execution_count": 38,
   "id": "0c738785-6f55-43d6-9168-36cc89ad9b19",
   "metadata": {},
   "outputs": [
    {
     "data": {
      "text/plain": [
       "AxisArrays with keys: X_pca, X_umap, emb_1, emb_2"
      ]
     },
     "execution_count": 38,
     "metadata": {},
     "output_type": "execute_result"
    }
   ],
   "source": [
    "train.obsm"
   ]
  },
  {
   "cell_type": "code",
   "execution_count": 43,
   "id": "265ccf92-6fb2-43df-a99d-d7c3967f72da",
   "metadata": {},
   "outputs": [],
   "source": [
    "DATA_PATH = \"/lustre/groups/ml01/projects/super_rad_project/data\"\n",
    "RAD_PATH = f\"{DATA_PATH}/Cas9_data_nofilter_mean_combn_with_singletons_minmax.csv\"\n",
    "HORLBECK_PATH = f\"{DATA_PATH}/Horlbeck_minmax.csv\"\n",
    "SCORE_PATH = f\"{DATA_PATH}/SCORE_minmax.csv\""
   ]
  },
  {
   "cell_type": "code",
   "execution_count": 45,
   "id": "5574b3b9-075b-4baf-bc5a-97cc2927ee40",
   "metadata": {},
   "outputs": [],
   "source": [
    "score =pd.read_csv(SCORE_PATH, index_col=0)"
   ]
  },
  {
   "cell_type": "code",
   "execution_count": 50,
   "id": "5577b451-9c68-45f0-a6a4-cc537e369378",
   "metadata": {},
   "outputs": [
    {
     "data": {
      "text/plain": [
       "'ACTA1'"
      ]
     },
     "execution_count": 50,
     "metadata": {},
     "output_type": "execute_result"
    }
   ],
   "source": [
    "score.iv1.unique()[200]"
   ]
  },
  {
   "cell_type": "code",
   "execution_count": null,
   "id": "d6174dc6-aeb7-4fef-aa15-db27c68a9e34",
   "metadata": {},
   "outputs": [],
   "source": []
  }
 ],
 "metadata": {
  "kernelspec": {
   "display_name": "Python 3 (ipykernel)",
   "language": "python",
   "name": "python3"
  },
  "language_info": {
   "codemirror_mode": {
    "name": "ipython",
    "version": 3
   },
   "file_extension": ".py",
   "mimetype": "text/x-python",
   "name": "python",
   "nbconvert_exporter": "python",
   "pygments_lexer": "ipython3",
   "version": "3.12.3"
  }
 },
 "nbformat": 4,
 "nbformat_minor": 5
}
