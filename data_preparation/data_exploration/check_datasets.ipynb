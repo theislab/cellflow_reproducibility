{
 "cells": [
  {
   "cell_type": "code",
   "execution_count": 1,
   "id": "00be1cda-01a9-4ce2-8d04-ac5577d704d1",
   "metadata": {},
   "outputs": [],
   "source": [
    "import scanpy as sc"
   ]
  },
  {
   "cell_type": "code",
   "execution_count": 2,
   "id": "5fb9258e-ee60-4847-bfe9-e60b0c8643a5",
   "metadata": {},
   "outputs": [],
   "source": [
    "adata_train = sc.read_h5ad(\"/lustre/groups/ml01/workspace/ot_perturbation/data/satija/datasets/adata_ood_final_cell_type/BXPC3/adata_train_BXPC3.h5ad\")\n",
    "adata_test = sc.read_h5ad(\"/lustre/groups/ml01/workspace/ot_perturbation/data/satija/datasets/adata_ood_final_cell_type/BXPC3/adata_test_BXPC3.h5ad\")\n",
    "adata_ood = sc.read_h5ad(\"/lustre/groups/ml01/workspace/ot_perturbation/data/satija/datasets/adata_ood_final_cell_type/BXPC3/adata_ood_BXPC3.h5ad\")"
   ]
  },
  {
   "cell_type": "code",
   "execution_count": 3,
   "id": "b8ab922d-8a61-43e2-944c-7822bb0a4829",
   "metadata": {},
   "outputs": [
    {
     "data": {
      "text/plain": [
       "AnnData object with n_obs × n_vars = 339425 × 8265\n",
       "    obs: 'cell_type', 'gene', 'pathway', 'condition', 'background', 'control', 'is_ood', 'split'\n",
       "    uns: 'cell_type_emb', 'gene_emb', 'log1p', 'pathway_emb', 'pca', 'rank_genes_groups_cov_all'\n",
       "    obsm: 'X_pca'\n",
       "    varm: 'PCs', 'X_mean'\n",
       "    layers: 'X_centered', 'X_log1p'"
      ]
     },
     "execution_count": 3,
     "metadata": {},
     "output_type": "execute_result"
    }
   ],
   "source": [
    "adata_train"
   ]
  },
  {
   "cell_type": "code",
   "execution_count": 4,
   "id": "01f9af0b-c871-44f6-836b-a5f3623f9540",
   "metadata": {},
   "outputs": [
    {
     "data": {
      "text/plain": [
       "AnnData object with n_obs × n_vars = 54300 × 8265\n",
       "    obs: 'cell_type', 'gene', 'pathway', 'condition', 'background', 'control', 'is_ood', 'split'\n",
       "    uns: 'cell_type_emb', 'gene_emb', 'log1p', 'pathway_emb', 'rank_genes_groups_cov_all'\n",
       "    obsm: 'X_pca'\n",
       "    varm: 'X_mean'\n",
       "    layers: 'centered_X'"
      ]
     },
     "execution_count": 4,
     "metadata": {},
     "output_type": "execute_result"
    }
   ],
   "source": [
    "adata_test"
   ]
  },
  {
   "cell_type": "code",
   "execution_count": 5,
   "id": "8b726ffe-2c0e-47c0-a528-d3e75b820578",
   "metadata": {},
   "outputs": [
    {
     "data": {
      "text/plain": [
       "AnnData object with n_obs × n_vars = 0 × 8265\n",
       "    obs: 'cell_type', 'gene', 'pathway', 'condition', 'background', 'control', 'is_ood'\n",
       "    uns: 'cell_type_emb', 'gene_emb', 'log1p', 'pathway_emb', 'rank_genes_groups_cov_all'\n",
       "    obsm: 'X_pca'\n",
       "    varm: 'X_mean'\n",
       "    layers: 'centered_X'"
      ]
     },
     "execution_count": 5,
     "metadata": {},
     "output_type": "execute_result"
    }
   ],
   "source": [
    "adata_ood"
   ]
  },
  {
   "cell_type": "code",
   "execution_count": null,
   "id": "0df205c3-b969-4c37-8b7d-389b81d06e80",
   "metadata": {},
   "outputs": [],
   "source": []
  }
 ],
 "metadata": {
  "kernelspec": {
   "display_name": "Python 3 (ipykernel)",
   "language": "python",
   "name": "python3"
  },
  "language_info": {
   "codemirror_mode": {
    "name": "ipython",
    "version": 3
   },
   "file_extension": ".py",
   "mimetype": "text/x-python",
   "name": "python",
   "nbconvert_exporter": "python",
   "pygments_lexer": "ipython3",
   "version": "3.10.15"
  }
 },
 "nbformat": 4,
 "nbformat_minor": 5
}
