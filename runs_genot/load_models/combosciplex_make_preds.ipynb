{
 "cells": [
  {
   "cell_type": "code",
   "execution_count": 1,
   "id": "8bb6d4dd-d825-4d1a-bb46-506387428b83",
   "metadata": {},
   "outputs": [],
   "source": [
    "import functools\n",
    "from typing import Literal, Optional, Iterable\n",
    "\n",
    "import jax\n",
    "import jax.numpy as jnp\n",
    "import jax.tree_util as jtu\n",
    "import numpy as np\n",
    "import optax\n",
    "import scanpy as sc\n",
    "from ott.neural import datasets\n",
    "from ott.neural.methods.flows import dynamics, otfm, genot\n",
    "from ott.neural.networks.layers import time_encoder\n",
    "from ot_pert.nets.nets import CondVelocityField\n",
    "from ott.solvers import utils as solver_utils\n",
    "from torch.utils.data import DataLoader\n",
    "from tqdm import tqdm\n",
    "import joypy\n",
    "import pandas as pd\n",
    "import pickle\n",
    "import yaml\n",
    "from ot_pert.nets.nets import GENOTVelocityFieldWithAttention\n",
    "from ot_pert.metrics import compute_metrics, compute_mean_metrics"
   ]
  },
  {
   "cell_type": "code",
   "execution_count": 2,
   "id": "16368082-0504-4e7a-9612-bbbdd2e793f3",
   "metadata": {},
   "outputs": [],
   "source": [
    "adata_train_path= \"/lustre/groups/ml01/workspace/ot_perturbation/data/combosciplex/adata_train_30.h5ad\"\n",
    "adata_test_path= \"/lustre/groups/ml01/workspace/ot_perturbation/data/combosciplex/adata_test_30.h5ad\"\n",
    "adata_ood_path= \"/lustre/groups/ml01/workspace/ot_perturbation/data/combosciplex/adata_ood_30.h5ad\"\n"
   ]
  },
  {
   "cell_type": "code",
   "execution_count": 3,
   "id": "71b59579-d2cf-49be-9bfc-c17e81d5ffdd",
   "metadata": {},
   "outputs": [],
   "source": [
    "adata_train = sc.read_h5ad(adata_train_path)\n",
    "adata_test = sc.read_h5ad(adata_test_path)\n",
    "adata_ood = sc.read_h5ad(adata_ood_path)"
   ]
  },
  {
   "cell_type": "code",
   "execution_count": 4,
   "id": "80c6053e-c819-4de2-b46c-b8b446c364f7",
   "metadata": {},
   "outputs": [],
   "source": [
    "OBSM_KEY_COND_1 = \"ecfp_drug_1\"\n",
    "OBSM_KEY_COND_2 = \"ecfp_drug_2\"\n",
    "OBSM_KEY_DATA = \"X_pca\""
   ]
  },
  {
   "cell_type": "code",
   "execution_count": 5,
   "id": "6fd24023-fb8f-4291-80f4-51c94e40ad61",
   "metadata": {},
   "outputs": [],
   "source": [
    "def load_data(adata):\n",
    "    \"\"\"Loads data and preprocesses it based on configuration.\"\"\"\n",
    "    dls = []\n",
    "    data_source = {}\n",
    "    data_target = {}\n",
    "    data_source_decoded = {}\n",
    "    data_target_decoded = {}\n",
    "    data_conditions = {}\n",
    "    source = adata[adata.obs[\"condition\"] == \"control\"].obsm[OBSM_KEY_DATA]\n",
    "    source_decoded = adata[adata.obs[\"condition\"] == \"control\"].X\n",
    "\n",
    "    for cond in adata.obs[\"condition\"].cat.categories:\n",
    "        if cond != \"control\":\n",
    "            target = adata[adata.obs[\"condition\"] == cond].obsm[OBSM_KEY_DATA]\n",
    "            target_decoded = adata[adata.obs[\"condition\"] == cond].X.A\n",
    "            condition_1 = adata[adata.obs[\"condition\"] == cond].obsm[OBSM_KEY_COND_1]\n",
    "            condition_2 = adata[adata.obs[\"condition\"] == cond].obsm[OBSM_KEY_COND_2]\n",
    "            assert np.all(np.all(condition_1 == condition_1[0], axis=1))\n",
    "            assert np.all(np.all(condition_2 == condition_2[0], axis=1))\n",
    "            expanded_arr = np.expand_dims(\n",
    "                np.concatenate((condition_1[0, :][None, :], condition_2[0, :][None, :]), axis=0), axis=0\n",
    "            )\n",
    "            conds = np.tile(expanded_arr, (len(source), 1, 1))\n",
    "\n",
    "            \n",
    "            data_source[cond] = source\n",
    "            data_target[cond] = target\n",
    "            data_source_decoded[cond] = source_decoded\n",
    "            data_target_decoded[cond] = target_decoded\n",
    "            data_conditions[cond] = conds\n",
    "    deg_dict = {k: v for k, v in adata.uns[\"rank_genes_groups_cov_all\"].items() if k in data_conditions.keys()}\n",
    "\n",
    "    return {\n",
    "        \"source\": data_source,\n",
    "        \"target\": data_target,\n",
    "        \"source_decoded\": data_source_decoded,\n",
    "        \"target_decoded\": data_target_decoded,\n",
    "        \"conditions\": data_conditions,\n",
    "        \"deg_dict\": deg_dict,\n",
    "    }\n",
    "    "
   ]
  },
  {
   "cell_type": "code",
   "execution_count": 6,
   "id": "53a1c03f-519a-470b-97e2-85468d898a2c",
   "metadata": {},
   "outputs": [],
   "source": [
    "test_data = load_data(adata_test) \n",
    "ood_data = load_data(adata_ood) \n",
    "    "
   ]
  },
  {
   "cell_type": "code",
   "execution_count": 7,
   "id": "c083f732-e18d-4810-87b8-5fe6ee463ecb",
   "metadata": {},
   "outputs": [],
   "source": [
    "yaml_config = \"\"\"\n",
    "num_heads: 4\n",
    "qkv_feature_dim: 32\n",
    "max_seq_length: 2\n",
    "hidden_dims: [512, 512, 512]\n",
    "output_dims: [1024, 1024, 1024]\n",
    "condition_dims: [4096, 4096, 4096]\n",
    "condition_dims_forward: [512, 512]\n",
    "condition_dims_post_attention: [512, 512]\n",
    "time_dims: [512, 512, 512]\n",
    "time_n_freqs: 1024\n",
    "flow_noise: 1.0\n",
    "learning_rate: 0.00005\n",
    "multi_steps: 20\n",
    "epsilon: 0.1\n",
    "tau_a: 0.999\n",
    "tau_b: 0.999\n",
    "dropout_rate: 0.2\n",
    "\"\"\"\n"
   ]
  },
  {
   "cell_type": "code",
   "execution_count": 8,
   "id": "b3b5b45d-f30c-44e5-ba62-f271a7ab9e89",
   "metadata": {},
   "outputs": [],
   "source": [
    "model_config = yaml.safe_load(yaml_config)"
   ]
  },
  {
   "cell_type": "code",
   "execution_count": 9,
   "id": "563c4e74-85f4-4328-838f-e3a0d048d4e1",
   "metadata": {},
   "outputs": [],
   "source": [
    "source_dim = 30\n",
    "target_dim = 30\n",
    "condition_dim = 1024"
   ]
  },
  {
   "cell_type": "code",
   "execution_count": 10,
   "id": "4f7e74cb-d087-45f2-b558-04e2f2c1b075",
   "metadata": {},
   "outputs": [
    {
     "name": "stderr",
     "output_type": "stream",
     "text": [
      "2024-05-28 10:33:28.743480: W external/xla/xla/service/gpu/nvptx_compiler.cc:718] The NVIDIA driver's CUDA version is 12.3 which is older than the ptxas CUDA version (12.4.131). Because the driver is older than the ptxas version, XLA is disabling parallel compilation, which may slow down compilation. You should update your NVIDIA driver or use the NVIDIA-provided CUDA forward compatibility packages.\n"
     ]
    }
   ],
   "source": [
    "vf = GENOTVelocityFieldWithAttention(\n",
    "    split_dim=source_dim,\n",
    "    num_heads=model_config[\"num_heads\"],\n",
    "    qkv_feature_dim=model_config[\"qkv_feature_dim\"],\n",
    "    max_seq_length=model_config[\"max_seq_length\"],\n",
    "    hidden_dims=model_config[\"hidden_dims\"],\n",
    "    time_dims=model_config[\"time_dims\"],\n",
    "    output_dims=model_config[\"output_dims\"] + [target_dim],\n",
    "    condition_dims=model_config[\"condition_dims\"],\n",
    "    condition_dims_forward=model_config[\"condition_dims_forward\"],\n",
    "    condition_dims_post_attention=model_config[\"condition_dims_post_attention\"],\n",
    "    dropout_rate=model_config[\"dropout_rate\"],\n",
    "    time_encoder=functools.partial(time_encoder.cyclical_time_encoder, n_freqs=model_config[\"time_n_freqs\"]),\n",
    ")\n",
    "\n",
    "model = genot.GENOT(\n",
    "    vf,\n",
    "    flow=dynamics.ConstantNoiseFlow(model_config[\"flow_noise\"]),\n",
    "    data_match_fn=None,\n",
    "    source_dim=source_dim,\n",
    "    target_dim=target_dim,\n",
    "    condition_dim=condition_dim,\n",
    "    rng=jax.random.PRNGKey(13),\n",
    "    optimizer=optax.MultiSteps(optax.adam(model_config[\"learning_rate\"]), model_config[\"multi_steps\"]),\n",
    ")\n"
   ]
  },
  {
   "cell_type": "code",
   "execution_count": 11,
   "id": "a30fc16b-b2dd-453f-aa3e-eee275a2a39d",
   "metadata": {},
   "outputs": [
    {
     "data": {
      "text/plain": [
       "True"
      ]
     },
     "execution_count": 11,
     "metadata": {},
     "output_type": "execute_result"
    }
   ],
   "source": [
    "load_path = f\"/lustre/groups/ml01/workspace/ot_perturbation/models/genot/combosciplex/comic-water-264_model.pkl\"\n",
    "\n",
    "# Open the file containing the saved parameters\n",
    "with open(load_path, 'rb') as f:\n",
    "    loaded_params = pickle.load(f)\n",
    "\n",
    "check_load = jax.tree_util.tree_map(lambda x,y: x.shape==y.shape, model.vf_state.params, loaded_params)\n",
    "def all_values_true(d):\n",
    "    if isinstance(d, dict):\n",
    "        return all(all_values_true(v) for v in d.values())\n",
    "    return d is True\n",
    "all_values_true(check_load)"
   ]
  },
  {
   "cell_type": "code",
   "execution_count": 12,
   "id": "cb6c5c4c-e6c9-4e79-a762-a79bed2c319c",
   "metadata": {},
   "outputs": [],
   "source": [
    "from flax.core.frozen_dict import FrozenDict\n",
    "new_params = FrozenDict(loaded_params)\n",
    "\n",
    "if hasattr(model.vf_state, 'replace'):\n",
    "    model.vf_state = model.vf_state.replace(params=new_params)\n",
    "else:\n",
    "    raise ValueError"
   ]
  },
  {
   "cell_type": "code",
   "execution_count": 13,
   "id": "197411d6-1a05-4d73-900f-0ffc41f6269e",
   "metadata": {},
   "outputs": [],
   "source": [
    "test_data[\"source\"] = jax.tree_util.tree_map(\n",
    "                lambda x: jnp.tile(jnp.expand_dims(x, 1), (1, model_config[\"max_seq_length\"], 1)), test_data[\"source\"]\n",
    "            )"
   ]
  },
  {
   "cell_type": "code",
   "execution_count": 14,
   "id": "c83e853d-4410-4b14-a61d-ce440056fe6a",
   "metadata": {},
   "outputs": [],
   "source": [
    "ood_data[\"source\"] = jax.tree_util.tree_map(\n",
    "                lambda x: jnp.tile(jnp.expand_dims(x, 1), (1, model_config[\"max_seq_length\"], 1)), ood_data[\"source\"]\n",
    "            )"
   ]
  },
  {
   "cell_type": "code",
   "execution_count": 15,
   "id": "46ec2773-b814-401a-b50c-6be2a542a9f0",
   "metadata": {},
   "outputs": [],
   "source": [
    "predictions_test = jtu.tree_map(model.transport, test_data[\"source\"], test_data[\"conditions\"])"
   ]
  },
  {
   "cell_type": "code",
   "execution_count": 16,
   "id": "102370f1-b372-46e8-ba64-ddc3fd7bbd60",
   "metadata": {},
   "outputs": [],
   "source": [
    "predictions_ood = jtu.tree_map(model.transport, ood_data[\"source\"], ood_data[\"conditions\"])"
   ]
  },
  {
   "cell_type": "code",
   "execution_count": 17,
   "id": "745d23ac-d895-4582-b50f-3169fc278017",
   "metadata": {},
   "outputs": [],
   "source": [
    "def reconstruct_data(embedding, projection_matrix, mean_to_add):\n",
    "    \"\"\"Reconstructs data from projections.\"\"\"\n",
    "    return np.matmul(embedding, projection_matrix.T) + mean_to_add\n"
   ]
  },
  {
   "cell_type": "code",
   "execution_count": 18,
   "id": "5980c0d2-19f0-4bb9-a8fd-10cbedd7cc90",
   "metadata": {},
   "outputs": [],
   "source": [
    "reconstruct_data_fn = functools.partial(\n",
    "    reconstruct_data, projection_matrix=adata_train.varm[\"PCs\"], mean_to_add=adata_train.varm[\"X_train_mean\"].T\n",
    ")"
   ]
  },
  {
   "cell_type": "code",
   "execution_count": 19,
   "id": "7ef31d01-624e-4324-a5e8-5b7fcf42e5b9",
   "metadata": {},
   "outputs": [],
   "source": [
    "predictions_test_decoded = jtu.tree_map(reconstruct_data_fn, predictions_test)\n",
    "predictions_ood_decoded = jtu.tree_map(reconstruct_data_fn, predictions_ood)"
   ]
  },
  {
   "cell_type": "code",
   "execution_count": 20,
   "id": "7baa6d16-f034-4a51-9345-9ac6832433a4",
   "metadata": {},
   "outputs": [],
   "source": [
    "test_metrics_encoded = jax.tree_util.tree_map(compute_metrics, test_data[\"target\"], predictions_test)\n",
    "mean_test_metrics_encoded = compute_mean_metrics(test_metrics_encoded, prefix=\"encoded_test_\")\n",
    "\n",
    "test_metrics_decoded = jax.tree_util.tree_map(compute_metrics, test_data[\"target_decoded\"], predictions_test_decoded)\n",
    "mean_test_metrics_decoded = compute_mean_metrics(test_metrics_decoded, prefix=\"decoded_test_\")"
   ]
  },
  {
   "cell_type": "code",
   "execution_count": 21,
   "id": "f11fedf3-9231-41dc-af62-d50a9253f3bd",
   "metadata": {},
   "outputs": [],
   "source": [
    "ood_metrics_encoded = jax.tree_util.tree_map(compute_metrics, ood_data[\"target\"], predictions_ood)\n",
    "mean_ood_metrics_encoded = compute_mean_metrics(ood_metrics_encoded, prefix=\"encoded_ood_\")\n",
    "\n",
    "ood_metrics_decoded = jax.tree_util.tree_map(compute_metrics, ood_data[\"target_decoded\"], predictions_ood_decoded)\n",
    "mean_ood_metrics_decoded = compute_mean_metrics(ood_metrics_decoded, prefix=\"decoded_ood_\")"
   ]
  },
  {
   "cell_type": "code",
   "execution_count": 22,
   "id": "b7164b34-d65c-46dc-9387-4e49172b008a",
   "metadata": {},
   "outputs": [],
   "source": [
    "test_deg_dict = {k: v for k,v in adata_train.uns['rank_genes_groups_cov_all'].items() if k in test_data[\"conditions\"].keys()}\n",
    "ood_deg_dict = {k: v for k,v in adata_train.uns['rank_genes_groups_cov_all'].items() if k in ood_data[\"conditions\"].keys()}"
   ]
  },
  {
   "cell_type": "code",
   "execution_count": 23,
   "id": "4a0a8f8a-0a83-4950-980e-cb2425561425",
   "metadata": {},
   "outputs": [
    {
     "data": {
      "text/plain": [
       "{'decoded_test_r_squared': 0.9856373735045885,\n",
       " 'decoded_test_sinkhorn_div_1': 87.34805268507738,\n",
       " 'decoded_test_sinkhorn_div_10': 59.60111867464506,\n",
       " 'decoded_test_sinkhorn_div_100': 3.065449934739333,\n",
       " 'decoded_test_e_distance': 2.648968538741212,\n",
       " 'decoded_test_mmd': 0.04035635034552697}"
      ]
     },
     "execution_count": 23,
     "metadata": {},
     "output_type": "execute_result"
    }
   ],
   "source": [
    "mean_test_metrics_decoded"
   ]
  },
  {
   "cell_type": "code",
   "execution_count": 24,
   "id": "ed78ff5e-8d74-4785-a539-25d03b6412a0",
   "metadata": {},
   "outputs": [],
   "source": [
    "def get_mask(x, y, var_names):\n",
    "    return x[:, [gene in y for gene in var_names]]\n",
    "\n",
    "mask_fn = functools.partial(get_mask, var_names=adata_train.var_names)\n",
    "\n",
    "prediction_decoded_test_deg = jtu.tree_map(mask_fn, predictions_test_decoded, test_deg_dict)\n",
    "target_decoded_test_deg = jax.tree_util.tree_map(mask_fn, test_data[\"target_decoded\"], test_deg_dict)\n",
    "\n",
    "prediction_decoded_ood_deg = jtu.tree_map(mask_fn, predictions_ood_decoded, ood_deg_dict)\n",
    "target_decoded_ood_deg = jax.tree_util.tree_map(mask_fn, ood_data[\"target_decoded\"], ood_deg_dict)\n"
   ]
  },
  {
   "cell_type": "code",
   "execution_count": 25,
   "id": "39cd5f70-b498-4c6c-818d-755e639a42dc",
   "metadata": {},
   "outputs": [],
   "source": [
    "\n",
    "predictions_test_deg = jax.tree_util.tree_map(mask_fn, predictions_test_decoded, test_deg_dict)\n",
    "target_test_deg = jax.tree_util.tree_map(mask_fn, test_data[\"target_decoded\"], test_deg_dict)\n",
    "\n",
    "predictions_ood_deg = jax.tree_util.tree_map(mask_fn, predictions_ood_decoded, ood_deg_dict)\n",
    "target_ood_deg = jax.tree_util.tree_map(mask_fn, ood_data[\"target_decoded\"], ood_deg_dict)"
   ]
  },
  {
   "cell_type": "code",
   "execution_count": 26,
   "id": "1c335cd3-690b-4dff-aec8-620ea06a8999",
   "metadata": {},
   "outputs": [],
   "source": [
    "test_metrics_deg = jtu.tree_map(compute_metrics, target_test_deg, predictions_test_deg)\n",
    "mean_metrics_deg = compute_mean_metrics(test_metrics_deg, prefix=f\"deg_test_\")\n",
    "\n",
    "ood_metrics_deg = jtu.tree_map(compute_metrics,target_ood_deg, predictions_ood_deg)\n",
    "mean_metrics_deg = compute_mean_metrics(ood_metrics_deg, prefix=f\"deg_ood_\")\n",
    "            "
   ]
  },
  {
   "cell_type": "code",
   "execution_count": 27,
   "id": "f48df460-565f-4426-89f6-7afad3216d2e",
   "metadata": {},
   "outputs": [],
   "source": [
    "output_dir = \"/lustre/groups/ml01/workspace/ot_perturbation/data/combosciplex/results/genot\""
   ]
  },
  {
   "cell_type": "code",
   "execution_count": 28,
   "id": "bf945536-6c14-4ec7-860f-6f0338f4d66d",
   "metadata": {},
   "outputs": [],
   "source": [
    "import os\n",
    "import pandas as pd\n",
    "pd.DataFrame.from_dict(ood_metrics_encoded).to_csv(os.path.join(output_dir, \"ood_metrics_encoded.csv\"))\n",
    "pd.DataFrame.from_dict(ood_metrics_decoded).to_csv(os.path.join(output_dir, \"ood_metrics_decoded.csv\"))\n",
    "pd.DataFrame.from_dict(test_metrics_encoded).to_csv(os.path.join(output_dir, \"test_metrics_encoded.csv\"))\n",
    "pd.DataFrame.from_dict(test_metrics_decoded).to_csv(os.path.join(output_dir, \"test_metrics_decoded.csv\"))\n",
    "pd.DataFrame.from_dict(ood_metrics_deg).to_csv(os.path.join(output_dir, \"ood_metrics_deg.csv\"))\n",
    "pd.DataFrame.from_dict(test_metrics_deg).to_csv(os.path.join(output_dir, \"test_metrics_deg.csv\"))"
   ]
  },
  {
   "cell_type": "code",
   "execution_count": null,
   "id": "e248abe3-2607-46f4-9a7b-f91a0b6a5868",
   "metadata": {},
   "outputs": [],
   "source": []
  }
 ],
 "metadata": {
  "kernelspec": {
   "display_name": "ot_pert_genot",
   "language": "python",
   "name": "ot_pert_genot"
  },
  "language_info": {
   "codemirror_mode": {
    "name": "ipython",
    "version": 3
   },
   "file_extension": ".py",
   "mimetype": "text/x-python",
   "name": "python",
   "nbconvert_exporter": "python",
   "pygments_lexer": "ipython3",
   "version": "3.12.2"
  }
 },
 "nbformat": 4,
 "nbformat_minor": 5
}
