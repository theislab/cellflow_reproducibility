{
 "cells": [
  {
   "cell_type": "code",
   "execution_count": 1,
   "id": "2764bf7a-0f1e-4732-8507-1e2f3cd81a94",
   "metadata": {},
   "outputs": [
    {
     "name": "stderr",
     "output_type": "stream",
     "text": [
      "/home/icb/alessandro.palma/miniconda3/envs/ot_pert/lib/python3.10/site-packages/anndata/utils.py:429: FutureWarning: Importing read_csv from `anndata` is deprecated. Import anndata.io.read_csv instead.\n",
      "  warnings.warn(msg, FutureWarning)\n",
      "/home/icb/alessandro.palma/miniconda3/envs/ot_pert/lib/python3.10/site-packages/anndata/utils.py:429: FutureWarning: Importing read_loom from `anndata` is deprecated. Import anndata.io.read_loom instead.\n",
      "  warnings.warn(msg, FutureWarning)\n",
      "/home/icb/alessandro.palma/miniconda3/envs/ot_pert/lib/python3.10/site-packages/anndata/utils.py:429: FutureWarning: Importing read_text from `anndata` is deprecated. Import anndata.io.read_text instead.\n",
      "  warnings.warn(msg, FutureWarning)\n",
      "/home/icb/alessandro.palma/miniconda3/envs/ot_pert/lib/python3.10/site-packages/anndata/utils.py:429: FutureWarning: Importing CSCDataset from `anndata.experimental` is deprecated. Import anndata.abc.CSCDataset instead.\n",
      "  warnings.warn(msg, FutureWarning)\n",
      "/home/icb/alessandro.palma/miniconda3/envs/ot_pert/lib/python3.10/site-packages/anndata/utils.py:429: FutureWarning: Importing CSRDataset from `anndata.experimental` is deprecated. Import anndata.abc.CSRDataset instead.\n",
      "  warnings.warn(msg, FutureWarning)\n",
      "/home/icb/alessandro.palma/miniconda3/envs/ot_pert/lib/python3.10/site-packages/anndata/utils.py:429: FutureWarning: Importing read_elem from `anndata.experimental` is deprecated. Import anndata.io.read_elem instead.\n",
      "  warnings.warn(msg, FutureWarning)\n",
      "/home/icb/alessandro.palma/miniconda3/envs/ot_pert/lib/python3.10/site-packages/tqdm/auto.py:21: TqdmWarning: IProgress not found. Please update jupyter and ipywidgets. See https://ipywidgets.readthedocs.io/en/stable/user_install.html\n",
      "  from .autonotebook import tqdm as notebook_tqdm\n"
     ]
    }
   ],
   "source": [
    "import functools\n",
    "import jax\n",
    "import numpy as np\n",
    "import scanpy as sc\n",
    "import cfp.preprocessing as cfpp\n",
    "from cfp.metrics import compute_mean_metrics, compute_metrics, compute_metrics_fast\n",
    "import os\n",
    "import pandas as pd\n",
    "import sys\n",
    "from pathlib import Path"
   ]
  },
  {
   "cell_type": "code",
   "execution_count": 2,
   "id": "83c61062-d702-4fee-86d0-7c61c5d5ac99",
   "metadata": {},
   "outputs": [],
   "source": [
    "# Read the reference dataset plus centered PCA \n",
    "adata_ref = sc.read_h5ad(\"/lustre/groups/ml01/workspace/ot_perturbation/data/satija/datasets/full_adata_with_splits.h5ad\")"
   ]
  },
  {
   "cell_type": "code",
   "execution_count": 4,
   "id": "08844df5-dcbb-41ca-a8bf-9f83033f6e60",
   "metadata": {},
   "outputs": [],
   "source": [
    "sc.pp.subsample(adata_ref, 0.8)"
   ]
  },
  {
   "cell_type": "code",
   "execution_count": null,
   "id": "f27a879d-c183-4325-a52d-3a3e046c71d9",
   "metadata": {},
   "outputs": [
    {
     "name": "stdout",
     "output_type": "stream",
     "text": [
      "Centered pca\n"
     ]
    }
   ],
   "source": [
    "print(\"Centered pca\")\n",
    "cfpp.centered_pca(adata_ref, n_comps=20)"
   ]
  },
  {
   "cell_type": "code",
   "execution_count": null,
   "id": "354b1bf7-6673-4fed-9d09-1b378c02edbd",
   "metadata": {},
   "outputs": [],
   "source": [
    "adata_ref"
   ]
  },
  {
   "cell_type": "code",
   "execution_count": null,
   "id": "1de87d85-3649-4a71-8e9e-9f93372a8584",
   "metadata": {},
   "outputs": [],
   "source": []
  }
 ],
 "metadata": {
  "kernelspec": {
   "display_name": "Python 3 (ipykernel)",
   "language": "python",
   "name": "python3"
  },
  "language_info": {
   "codemirror_mode": {
    "name": "ipython",
    "version": 3
   },
   "file_extension": ".py",
   "mimetype": "text/x-python",
   "name": "python",
   "nbconvert_exporter": "python",
   "pygments_lexer": "ipython3",
   "version": "3.10.15"
  }
 },
 "nbformat": 4,
 "nbformat_minor": 5
}
