{
 "cells": [
  {
   "cell_type": "code",
   "execution_count": 1,
   "id": "67278220-1e4f-4b47-aed3-8e31522ce5f5",
   "metadata": {},
   "outputs": [],
   "source": [
    "import pandas\n",
    "import pickle"
   ]
  },
  {
   "cell_type": "code",
   "execution_count": 2,
   "id": "cd88ed31-ee0d-4035-96be-da43e6464721",
   "metadata": {},
   "outputs": [],
   "source": [
    "f_name = \"/lustre/groups/ml01/workspace/ot_pert_new/output/2024-04-14_12-22-55/.submitit/20063231_3/20063231_3_0_result.pkl\""
   ]
  },
  {
   "cell_type": "code",
   "execution_count": 3,
   "id": "21ce780e-07e1-41d2-89fa-1d7f27565a44",
   "metadata": {},
   "outputs": [],
   "source": [
    "with open(f_name, 'rb') as f:\n",
    "    x = pickle.load(f)"
   ]
  },
  {
   "cell_type": "code",
   "execution_count": 4,
   "id": "310b28b7-18c0-44ef-bc24-b33164f5bc04",
   "metadata": {},
   "outputs": [
    {
     "data": {
      "text/plain": [
       "('error',\n",
       " 'Traceback (most recent call last):\\n  File \"/home/icb/dominik.klein/mambaforge/envs/ot_pert_genot/lib/python3.12/site-packages/submitit/core/submission.py\", line 55, in process_job\\n    result = delayed.result()\\n             ^^^^^^^^^^^^^^^^\\n  File \"/home/icb/dominik.klein/mambaforge/envs/ot_pert_genot/lib/python3.12/site-packages/submitit/core/utils.py\", line 133, in result\\n    self._result = self.function(*self.args, **self.kwargs)\\n                   ^^^^^^^^^^^^^^^^^^^^^^^^^^^^^^^^^^^^^^^^\\n  File \"/home/icb/dominik.klein/mambaforge/envs/ot_pert_genot/lib/python3.12/site-packages/hydra_plugins/hydra_submitit_launcher/submitit_launcher.py\", line 62, in __call__\\n    sweep_config = self.hydra_context.config_loader.load_sweep_config(\\n                   ^^^^^^^^^^^^^^^^^^^^^^^^^^^^^^^^^^^^^^^^^^^^^^^^^^^\\n  File \"/home/icb/dominik.klein/mambaforge/envs/ot_pert_genot/lib/python3.12/site-packages/hydra/_internal/config_loader_impl.py\", line 319, in load_sweep_config\\n    sweep_config = self.load_configuration(\\n                   ^^^^^^^^^^^^^^^^^^^^^^^^\\n  File \"/home/icb/dominik.klein/mambaforge/envs/ot_pert_genot/lib/python3.12/site-packages/hydra/_internal/config_loader_impl.py\", line 142, in load_configuration\\n    return self._load_configuration_impl(\\n           ^^^^^^^^^^^^^^^^^^^^^^^^^^^^^^\\n  File \"/home/icb/dominik.klein/mambaforge/envs/ot_pert_genot/lib/python3.12/site-packages/hydra/_internal/config_loader_impl.py\", line 243, in _load_configuration_impl\\n    self.ensure_main_config_source_available()\\n  File \"/home/icb/dominik.klein/mambaforge/envs/ot_pert_genot/lib/python3.12/site-packages/hydra/_internal/config_loader_impl.py\", line 129, in ensure_main_config_source_available\\n    self._missing_config_error(\\n  File \"/home/icb/dominik.klein/mambaforge/envs/ot_pert_genot/lib/python3.12/site-packages/hydra/_internal/config_loader_impl.py\", line 102, in _missing_config_error\\n    raise MissingConfigException(\\nhydra.errors.MissingConfigException: Primary config directory not found.\\nCheck that the config directory \\'/ictstr01/home/icb/dominik.klein/git_repos/ot_pert_new/runs_genot/conf\\' exists and readable\\n')"
      ]
     },
     "execution_count": 4,
     "metadata": {},
     "output_type": "execute_result"
    }
   ],
   "source": [
    "x"
   ]
  },
  {
   "cell_type": "code",
   "execution_count": 5,
   "id": "50fcf1f7-e649-46d5-92f9-2d6adc3907c7",
   "metadata": {},
   "outputs": [],
   "source": [
    "f_name = \"/lustre/groups/ml01/workspace/ot_pert_new/output/2024-04-14_12-22-55/.submitit/20063231_2/20063231_2_0_result.pkl\""
   ]
  },
  {
   "cell_type": "code",
   "execution_count": 6,
   "id": "3232151b-e776-4eb6-9c6a-cb4275cc9ec8",
   "metadata": {},
   "outputs": [],
   "source": [
    "with open(f_name, 'rb') as f:\n",
    "    y = pickle.load(f)"
   ]
  },
  {
   "cell_type": "code",
   "execution_count": 7,
   "id": "d37bb339-12c3-4e22-a132-7855a9d01195",
   "metadata": {},
   "outputs": [
    {
     "data": {
      "text/plain": [
       "('success',\n",
       " JobReturn(overrides=['model.num_heads=4', 'model.qkv_feature_dim=64', 'model.output_dims=[1024,1024,1204]', 'model.hidden_dims=[256,256,256]', 'model.time_dims=[256,256,256]', 'model.condition_dims=[64,64]', 'model.flow_noise=0.1', 'model.learning_rate=0.0001', 'model.multi_steps=50', 'model.epsilon=0.1', 'model.tau_a=1.0', 'model.tau_b=0.95', 'training.num_iterations=10000', 'training.batch_size=512'], cfg={'dataset': {'adata_train_path': '/lustre/groups/ml01/workspace/ot_perturbation/data/combosciplex/adata_train.h5ad', 'adata_test_path': '/lustre/groups/ml01/workspace/ot_perturbation/data/combosciplex/adata_test.h5ad', 'adata_ood_path': '/lustre/groups/ml01/workspace/ot_perturbation/data/combosciplex/adata_ood.h5ad', 'obsm_key_data': 'X_pca', 'obsm_key_cond_1': 'ecfp_drug_1', 'obsm_key_cond_2': 'ecfp_drug_2'}, 'optimized_metric': 'ood_sinkhorn_div_01', 'model': {'num_heads': 4, 'qkv_feature_dim': 64, 'max_seq_length': 2, 'hidden_dims': [256, 256, 256], 'output_dims': [1024, 1024, 1204], 'condition_dims': [64, 64], 'time_dims': [256, 256, 256], 'time_n_freqs': 1024, 'flow_noise': 0.1, 'learning_rate': 0.0001, 'multi_steps': 50, 'epsilon': 0.1, 'tau_a': 1.0, 'tau_b': 0.95}, 'logger': {'offline': False, 'id': None, 'anonymous': None, 'project': 'otfm_combosciplex', 'group': 'hparam_search', 'log_model': True}, 'training': {'valid_freq': 1000, 'num_iterations': 10000, 'batch_size': 512, 'out_dir': '/lustre/groups/ml01/workspace/ot_perturbation/data/combosciplex/out'}}, hydra_cfg={'hydra': {'run': {'dir': '/lustre/groups/ml01/workspace/ot_pert_new/output/${now:%Y-%m-%d}_${now:%H-%M-%S}'}, 'sweep': {'dir': '/lustre/groups/ml01/workspace/ot_pert_new/output/${now:%Y-%m-%d}_${now:%H-%M-%S}', 'subdir': '${hydra.job.num}'}, 'launcher': {'submitit_folder': '${hydra.sweep.dir}/.submitit/%j', 'timeout_min': 1440, 'cpus_per_task': 6, 'gpus_per_node': None, 'tasks_per_node': 1, 'mem_gb': 100, 'nodes': 1, 'name': '${hydra.job.name}', 'stderr_to_stdout': False, '_target_': 'hydra_plugins.hydra_submitit_launcher.submitit_launcher.SlurmLauncher', 'partition': 'gpu_p', 'qos': 'gpu_normal', 'comment': None, 'constraint': None, 'exclude': None, 'gres': 'gpu:1', 'cpus_per_gpu': None, 'gpus_per_task': None, 'mem_per_gpu': None, 'mem_per_cpu': None, 'account': None, 'signal_delay_s': 120, 'max_num_timeout': 0, 'additional_parameters': {}, 'array_parallelism': 5, 'setup': None}, 'sweeper': {'sampler': {'_target_': 'optuna.samplers.RandomSampler', 'seed': None}, '_target_': 'hydra_plugins.hydra_optuna_sweeper.optuna_sweeper.OptunaSweeper', 'direction': 'minimize', 'storage': None, 'study_name': None, 'n_trials': 1000, 'n_jobs': 10, 'search_space': None, 'params': {'model.num_heads': 'choice(2, 4, 8)', 'model.qkv_feature_dim': 'choice(16, 32, 64, 128)', 'model.output_dims': 'choice([256, 256, 256], [512, 512, 512], [1024, 1024, 1204])', 'model.hidden_dims': 'choice([256, 256, 256], [512, 512, 512], [1024, 1024, 1204])', 'model.time_dims': 'choice([256, 256, 256], [512, 512, 512], [1024, 1024, 1204])', 'model.condition_dims': 'choice([32, 32], [64, 64], [128, 128])', 'model.flow_noise': 'choice(0.0, 0.1, 0.2, 0.5, 1.0)', 'model.learning_rate': 'choice(0.0001, 0.00005)', 'model.multi_steps': 'choice(10, 20, 50, 100)', 'model.epsilon': 'choice(1.0, 0.1, 0.01)', 'model.tau_a': 'choice(1.0, 0.999, 0.99, 0.95)', 'model.tau_b': 'choice(1.0, 0.999, 0.99, 0.95)', 'training.num_iterations': 'choice(10000, 20000, 50000)', 'training.batch_size': 'choice(512, 1024, 2048)'}, 'custom_search_space': None}, 'help': {'app_name': '${hydra.job.name}', 'header': '${hydra.help.app_name} is powered by Hydra.\\n', 'footer': 'Powered by Hydra (https://hydra.cc)\\nUse --hydra-help to view Hydra specific help\\n', 'template': '${hydra.help.header}\\n== Configuration groups ==\\nCompose your configuration from those groups (group=option)\\n\\n$APP_CONFIG_GROUPS\\n\\n== Config ==\\nOverride anything in the config (foo.bar=value)\\n\\n$CONFIG\\n\\n${hydra.help.footer}\\n'}, 'hydra_help': {'template': \"Hydra (${hydra.runtime.version})\\nSee https://hydra.cc for more info.\\n\\n== Flags ==\\n$FLAGS_HELP\\n\\n== Configuration groups ==\\nCompose your configuration from those groups (For example, append hydra/job_logging=disabled to command line)\\n\\n$HYDRA_CONFIG_GROUPS\\n\\nUse '--cfg hydra' to Show the Hydra config.\\n\", 'hydra_help': '???'}, 'hydra_logging': {'version': 1, 'formatters': {'simple': {'format': '[%(asctime)s][HYDRA] %(message)s'}}, 'handlers': {'console': {'class': 'logging.StreamHandler', 'formatter': 'simple', 'stream': 'ext://sys.stdout'}}, 'root': {'level': 'INFO', 'handlers': ['console']}, 'loggers': {'logging_example': {'level': 'DEBUG'}}, 'disable_existing_loggers': False}, 'job_logging': {'version': 1, 'formatters': {'simple': {'format': '[%(asctime)s][%(name)s][%(levelname)s] - %(message)s'}}, 'handlers': {'console': {'class': 'logging.StreamHandler', 'formatter': 'simple', 'stream': 'ext://sys.stdout'}, 'file': {'class': 'logging.FileHandler', 'formatter': 'simple', 'filename': '${hydra.runtime.output_dir}/${hydra.job.name}.log'}}, 'root': {'level': 'INFO', 'handlers': ['console', 'file']}, 'disable_existing_loggers': False}, 'env': {}, 'mode': <RunMode.MULTIRUN: 2>, 'searchpath': [], 'callbacks': {}, 'output_subdir': '.hydra', 'overrides': {'hydra': ['hydra/launcher=submitit_slurm', 'hydra.mode=MULTIRUN'], 'task': ['model.num_heads=4', 'model.qkv_feature_dim=64', 'model.output_dims=[1024,1024,1204]', 'model.hidden_dims=[256,256,256]', 'model.time_dims=[256,256,256]', 'model.condition_dims=[64,64]', 'model.flow_noise=0.1', 'model.learning_rate=0.0001', 'model.multi_steps=50', 'model.epsilon=0.1', 'model.tau_a=1.0', 'model.tau_b=0.95', 'training.num_iterations=10000', 'training.batch_size=512']}, 'job': {'name': 'train_combosciplex', 'chdir': None, 'override_dirname': 'model.condition_dims=[64,64],model.epsilon=0.1,model.flow_noise=0.1,model.hidden_dims=[256,256,256],model.learning_rate=0.0001,model.multi_steps=50,model.num_heads=4,model.output_dims=[1024,1024,1204],model.qkv_feature_dim=64,model.tau_a=1.0,model.tau_b=0.95,model.time_dims=[256,256,256],training.batch_size=512,training.num_iterations=10000', 'id': '20063231_2', 'num': 2, 'config_name': 'train', 'env_set': {}, 'env_copy': [], 'config': {'override_dirname': {'kv_sep': '=', 'item_sep': ',', 'exclude_keys': []}}}, 'runtime': {'version': '1.3.2', 'version_base': '1.3', 'cwd': '/ictstr01/home/icb/dominik.klein/git_repos/ot_pert_new/runs_genot/bash_scripts', 'config_sources': [{'path': 'hydra.conf', 'schema': 'pkg', 'provider': 'hydra'}, {'path': '/ictstr01/home/icb/dominik.klein/git_repos/ot_pert_new/runs_genot/conf', 'schema': 'file', 'provider': 'main'}, {'path': '', 'schema': 'structured', 'provider': 'schema'}], 'output_dir': '/lustre/groups/ml01/workspace/ot_pert_new/output/2024-04-14_12-22-55/2', 'choices': {'training': 'training', 'logger': 'default', 'launcher': 'slurm_icb', 'model': 'default', 'hydra': 'default', 'hparams_search': 'hparams_otfm', 'dataset': 'combosciplex', 'hydra/env': 'default', 'hydra/callbacks': None, 'hydra/job_logging': 'default', 'hydra/hydra_logging': 'default', 'hydra/hydra_help': 'default', 'hydra/help': 'default', 'hydra/sweeper': 'optuna', 'hydra/sweeper/sampler': 'random', 'hydra/launcher': 'submitit_slurm', 'hydra/output': 'default'}}, 'verbose': False}}, working_dir='/ictstr01/home/icb/dominik.klein/git_repos/ot_pert_new/runs_genot/bash_scripts', task_name='train_combosciplex', status=<JobStatus.COMPLETED: 1>, _return_value=15.859070968627929))"
      ]
     },
     "execution_count": 7,
     "metadata": {},
     "output_type": "execute_result"
    }
   ],
   "source": [
    "y"
   ]
  },
  {
   "cell_type": "code",
   "execution_count": 9,
   "id": "a77d8a62-08ad-4280-a898-0f2a4f1a7a8b",
   "metadata": {},
   "outputs": [
    {
     "data": {
      "text/plain": [
       "['__annotations__',\n",
       " '__class__',\n",
       " '__dataclass_fields__',\n",
       " '__dataclass_params__',\n",
       " '__delattr__',\n",
       " '__dict__',\n",
       " '__dir__',\n",
       " '__doc__',\n",
       " '__eq__',\n",
       " '__format__',\n",
       " '__ge__',\n",
       " '__getattribute__',\n",
       " '__getstate__',\n",
       " '__gt__',\n",
       " '__hash__',\n",
       " '__init__',\n",
       " '__init_subclass__',\n",
       " '__le__',\n",
       " '__lt__',\n",
       " '__match_args__',\n",
       " '__module__',\n",
       " '__ne__',\n",
       " '__new__',\n",
       " '__reduce__',\n",
       " '__reduce_ex__',\n",
       " '__repr__',\n",
       " '__setattr__',\n",
       " '__sizeof__',\n",
       " '__str__',\n",
       " '__subclasshook__',\n",
       " '__weakref__',\n",
       " '_return_value',\n",
       " 'cfg',\n",
       " 'hydra_cfg',\n",
       " 'overrides',\n",
       " 'return_value',\n",
       " 'status',\n",
       " 'task_name',\n",
       " 'working_dir']"
      ]
     },
     "execution_count": 9,
     "metadata": {},
     "output_type": "execute_result"
    }
   ],
   "source": [
    "dir(y[1])"
   ]
  },
  {
   "cell_type": "code",
   "execution_count": 15,
   "id": "8bb914a5-28cf-408d-8294-93341fc1fd12",
   "metadata": {},
   "outputs": [
    {
     "data": {
      "text/plain": [
       "'/ictstr01/home/icb/dominik.klein/git_repos/ot_pert_new/runs_genot/bash_scripts'"
      ]
     },
     "execution_count": 15,
     "metadata": {},
     "output_type": "execute_result"
    }
   ],
   "source": [
    "y[1].working_dir"
   ]
  },
  {
   "cell_type": "code",
   "execution_count": 17,
   "id": "208e8b80-e206-49bf-b20e-e80fea06056d",
   "metadata": {},
   "outputs": [
    {
     "data": {
      "text/plain": [
       "{'hydra': {'run': {'dir': '/lustre/groups/ml01/workspace/ot_pert_new/output/${now:%Y-%m-%d}_${now:%H-%M-%S}'}, 'sweep': {'dir': '/lustre/groups/ml01/workspace/ot_pert_new/output/${now:%Y-%m-%d}_${now:%H-%M-%S}', 'subdir': '${hydra.job.num}'}, 'launcher': {'submitit_folder': '${hydra.sweep.dir}/.submitit/%j', 'timeout_min': 1440, 'cpus_per_task': 6, 'gpus_per_node': None, 'tasks_per_node': 1, 'mem_gb': 100, 'nodes': 1, 'name': '${hydra.job.name}', 'stderr_to_stdout': False, '_target_': 'hydra_plugins.hydra_submitit_launcher.submitit_launcher.SlurmLauncher', 'partition': 'gpu_p', 'qos': 'gpu_normal', 'comment': None, 'constraint': None, 'exclude': None, 'gres': 'gpu:1', 'cpus_per_gpu': None, 'gpus_per_task': None, 'mem_per_gpu': None, 'mem_per_cpu': None, 'account': None, 'signal_delay_s': 120, 'max_num_timeout': 0, 'additional_parameters': {}, 'array_parallelism': 5, 'setup': None}, 'sweeper': {'sampler': {'_target_': 'optuna.samplers.RandomSampler', 'seed': None}, '_target_': 'hydra_plugins.hydra_optuna_sweeper.optuna_sweeper.OptunaSweeper', 'direction': 'minimize', 'storage': None, 'study_name': None, 'n_trials': 1000, 'n_jobs': 10, 'search_space': None, 'params': {'model.num_heads': 'choice(2, 4, 8)', 'model.qkv_feature_dim': 'choice(16, 32, 64, 128)', 'model.output_dims': 'choice([256, 256, 256], [512, 512, 512], [1024, 1024, 1204])', 'model.hidden_dims': 'choice([256, 256, 256], [512, 512, 512], [1024, 1024, 1204])', 'model.time_dims': 'choice([256, 256, 256], [512, 512, 512], [1024, 1024, 1204])', 'model.condition_dims': 'choice([32, 32], [64, 64], [128, 128])', 'model.flow_noise': 'choice(0.0, 0.1, 0.2, 0.5, 1.0)', 'model.learning_rate': 'choice(0.0001, 0.00005)', 'model.multi_steps': 'choice(10, 20, 50, 100)', 'model.epsilon': 'choice(1.0, 0.1, 0.01)', 'model.tau_a': 'choice(1.0, 0.999, 0.99, 0.95)', 'model.tau_b': 'choice(1.0, 0.999, 0.99, 0.95)', 'training.num_iterations': 'choice(10000, 20000, 50000)', 'training.batch_size': 'choice(512, 1024, 2048)'}, 'custom_search_space': None}, 'help': {'app_name': '${hydra.job.name}', 'header': '${hydra.help.app_name} is powered by Hydra.\\n', 'footer': 'Powered by Hydra (https://hydra.cc)\\nUse --hydra-help to view Hydra specific help\\n', 'template': '${hydra.help.header}\\n== Configuration groups ==\\nCompose your configuration from those groups (group=option)\\n\\n$APP_CONFIG_GROUPS\\n\\n== Config ==\\nOverride anything in the config (foo.bar=value)\\n\\n$CONFIG\\n\\n${hydra.help.footer}\\n'}, 'hydra_help': {'template': \"Hydra (${hydra.runtime.version})\\nSee https://hydra.cc for more info.\\n\\n== Flags ==\\n$FLAGS_HELP\\n\\n== Configuration groups ==\\nCompose your configuration from those groups (For example, append hydra/job_logging=disabled to command line)\\n\\n$HYDRA_CONFIG_GROUPS\\n\\nUse '--cfg hydra' to Show the Hydra config.\\n\", 'hydra_help': '???'}, 'hydra_logging': {'version': 1, 'formatters': {'simple': {'format': '[%(asctime)s][HYDRA] %(message)s'}}, 'handlers': {'console': {'class': 'logging.StreamHandler', 'formatter': 'simple', 'stream': 'ext://sys.stdout'}}, 'root': {'level': 'INFO', 'handlers': ['console']}, 'loggers': {'logging_example': {'level': 'DEBUG'}}, 'disable_existing_loggers': False}, 'job_logging': {'version': 1, 'formatters': {'simple': {'format': '[%(asctime)s][%(name)s][%(levelname)s] - %(message)s'}}, 'handlers': {'console': {'class': 'logging.StreamHandler', 'formatter': 'simple', 'stream': 'ext://sys.stdout'}, 'file': {'class': 'logging.FileHandler', 'formatter': 'simple', 'filename': '${hydra.runtime.output_dir}/${hydra.job.name}.log'}}, 'root': {'level': 'INFO', 'handlers': ['console', 'file']}, 'disable_existing_loggers': False}, 'env': {}, 'mode': <RunMode.MULTIRUN: 2>, 'searchpath': [], 'callbacks': {}, 'output_subdir': '.hydra', 'overrides': {'hydra': ['hydra/launcher=submitit_slurm', 'hydra.mode=MULTIRUN'], 'task': ['model.num_heads=4', 'model.qkv_feature_dim=64', 'model.output_dims=[1024,1024,1204]', 'model.hidden_dims=[256,256,256]', 'model.time_dims=[256,256,256]', 'model.condition_dims=[64,64]', 'model.flow_noise=0.1', 'model.learning_rate=0.0001', 'model.multi_steps=50', 'model.epsilon=0.1', 'model.tau_a=1.0', 'model.tau_b=0.95', 'training.num_iterations=10000', 'training.batch_size=512']}, 'job': {'name': 'train_combosciplex', 'chdir': None, 'override_dirname': 'model.condition_dims=[64,64],model.epsilon=0.1,model.flow_noise=0.1,model.hidden_dims=[256,256,256],model.learning_rate=0.0001,model.multi_steps=50,model.num_heads=4,model.output_dims=[1024,1024,1204],model.qkv_feature_dim=64,model.tau_a=1.0,model.tau_b=0.95,model.time_dims=[256,256,256],training.batch_size=512,training.num_iterations=10000', 'id': '20063231_2', 'num': 2, 'config_name': 'train', 'env_set': {}, 'env_copy': [], 'config': {'override_dirname': {'kv_sep': '=', 'item_sep': ',', 'exclude_keys': []}}}, 'runtime': {'version': '1.3.2', 'version_base': '1.3', 'cwd': '/ictstr01/home/icb/dominik.klein/git_repos/ot_pert_new/runs_genot/bash_scripts', 'config_sources': [{'path': 'hydra.conf', 'schema': 'pkg', 'provider': 'hydra'}, {'path': '/ictstr01/home/icb/dominik.klein/git_repos/ot_pert_new/runs_genot/conf', 'schema': 'file', 'provider': 'main'}, {'path': '', 'schema': 'structured', 'provider': 'schema'}], 'output_dir': '/lustre/groups/ml01/workspace/ot_pert_new/output/2024-04-14_12-22-55/2', 'choices': {'training': 'training', 'logger': 'default', 'launcher': 'slurm_icb', 'model': 'default', 'hydra': 'default', 'hparams_search': 'hparams_otfm', 'dataset': 'combosciplex', 'hydra/env': 'default', 'hydra/callbacks': None, 'hydra/job_logging': 'default', 'hydra/hydra_logging': 'default', 'hydra/hydra_help': 'default', 'hydra/help': 'default', 'hydra/sweeper': 'optuna', 'hydra/sweeper/sampler': 'random', 'hydra/launcher': 'submitit_slurm', 'hydra/output': 'default'}}, 'verbose': False}}"
      ]
     },
     "execution_count": 17,
     "metadata": {},
     "output_type": "execute_result"
    }
   ],
   "source": [
    "y[1].hydra_cfg"
   ]
  },
  {
   "cell_type": "code",
   "execution_count": null,
   "id": "dbbed438-af69-4a16-ac93-61e2bc2ba8a8",
   "metadata": {},
   "outputs": [],
   "source": []
  }
 ],
 "metadata": {
  "kernelspec": {
   "display_name": "ot_pert_genot",
   "language": "python",
   "name": "ot_pert_genot"
  },
  "language_info": {
   "codemirror_mode": {
    "name": "ipython",
    "version": 3
   },
   "file_extension": ".py",
   "mimetype": "text/x-python",
   "name": "python",
   "nbconvert_exporter": "python",
   "pygments_lexer": "ipython3",
   "version": "3.12.2"
  }
 },
 "nbformat": 4,
 "nbformat_minor": 5
}
