{
 "cells": [
  {
   "cell_type": "code",
   "execution_count": 1,
   "id": "bde72adb-53c2-4c23-84d7-8a11594cabd0",
   "metadata": {},
   "outputs": [],
   "source": [
    "# TODO: subsample to same number of cells"
   ]
  },
  {
   "cell_type": "code",
   "execution_count": 2,
   "id": "2cd4f529-f168-47aa-b2e6-063906aed76a",
   "metadata": {},
   "outputs": [
    {
     "name": "stderr",
     "output_type": "stream",
     "text": [
      "/home/icb/dominik.klein/mambaforge/envs/cfp/lib/python3.11/site-packages/optuna/study/_optimize.py:29: TqdmWarning: IProgress not found. Please update jupyter and ipywidgets. See https://ipywidgets.readthedocs.io/en/stable/user_install.html\n",
      "  from optuna import progress_bar as pbar_module\n",
      "/home/icb/dominik.klein/mambaforge/envs/cfp/lib/python3.11/site-packages/cudf/utils/_ptxcompiler.py:64: UserWarning: Error getting driver and runtime versions:\n",
      "\n",
      "stdout:\n",
      "\n",
      "\n",
      "\n",
      "stderr:\n",
      "\n",
      "Traceback (most recent call last):\n",
      "  File \"<string>\", line 4, in <module>\n",
      "  File \"/home/icb/dominik.klein/mambaforge/envs/cfp/lib/python3.11/site-packages/numba/cuda/cudadrv/driver.py\", line 295, in __getattr__\n",
      "    raise CudaSupportError(\"Error at driver init: \\n%s:\" %\n",
      "numba.cuda.cudadrv.error.CudaSupportError: Error at driver init: \n",
      "\n",
      "CUDA driver library cannot be found.\n",
      "If you are sure that a CUDA driver is installed,\n",
      "try setting environment variable NUMBA_CUDA_DRIVER\n",
      "with the file path of the CUDA driver shared library.\n",
      ":\n",
      "\n",
      "\n",
      "Not patching Numba\n",
      "  warnings.warn(msg, UserWarning)\n",
      "/home/icb/dominik.klein/mambaforge/envs/cfp/lib/python3.11/site-packages/cudf/utils/gpu_utils.py:62: UserWarning: Failed to dlopen libcuda.so.1\n",
      "  warnings.warn(str(e))\n"
     ]
    },
    {
     "ename": "ImportError",
     "evalue": "libcusolver.so.11: cannot open shared object file: No such file or directory",
     "output_type": "error",
     "traceback": [
      "\u001b[0;31m---------------------------------------------------------------------------\u001b[0m",
      "\u001b[0;31mImportError\u001b[0m                               Traceback (most recent call last)",
      "Cell \u001b[0;32mIn[2], line 7\u001b[0m\n\u001b[1;32m      5\u001b[0m \u001b[38;5;28;01mimport\u001b[39;00m \u001b[38;5;21;01mpandas\u001b[39;00m \u001b[38;5;28;01mas\u001b[39;00m \u001b[38;5;21;01mpd\u001b[39;00m\n\u001b[1;32m      6\u001b[0m \u001b[38;5;28;01mimport\u001b[39;00m \u001b[38;5;21;01mnumpy\u001b[39;00m \u001b[38;5;28;01mas\u001b[39;00m \u001b[38;5;21;01mnp\u001b[39;00m\n\u001b[0;32m----> 7\u001b[0m \u001b[38;5;28;01mimport\u001b[39;00m \u001b[38;5;21;01mrapids_singlecell\u001b[39;00m \u001b[38;5;28;01mas\u001b[39;00m \u001b[38;5;21;01mrsc\u001b[39;00m\n\u001b[1;32m      8\u001b[0m \u001b[38;5;28;01mimport\u001b[39;00m \u001b[38;5;21;01mpickle\u001b[39;00m\n\u001b[1;32m      9\u001b[0m \u001b[38;5;28;01mfrom\u001b[39;00m \u001b[38;5;21;01mcfp\u001b[39;00m\u001b[38;5;21;01m.\u001b[39;00m\u001b[38;5;21;01mpreprocessing\u001b[39;00m \u001b[38;5;28;01mimport\u001b[39;00m transfer_labels, compute_wknn, centered_pca, project_pca\n",
      "File \u001b[0;32m~/mambaforge/envs/cfp/lib/python3.11/site-packages/rapids_singlecell/__init__.py:3\u001b[0m\n\u001b[1;32m      1\u001b[0m \u001b[38;5;28;01mfrom\u001b[39;00m \u001b[38;5;21;01m__future__\u001b[39;00m \u001b[38;5;28;01mimport\u001b[39;00m annotations\n\u001b[0;32m----> 3\u001b[0m \u001b[38;5;28;01mfrom\u001b[39;00m \u001b[38;5;21;01m.\u001b[39;00m \u001b[38;5;28;01mimport\u001b[39;00m dcg, get, gr, pp, tl\n\u001b[1;32m      4\u001b[0m \u001b[38;5;28;01mfrom\u001b[39;00m \u001b[38;5;21;01m.\u001b[39;00m\u001b[38;5;21;01m_version\u001b[39;00m \u001b[38;5;28;01mimport\u001b[39;00m __version__\n",
      "File \u001b[0;32m~/mambaforge/envs/cfp/lib/python3.11/site-packages/rapids_singlecell/dcg.py:3\u001b[0m\n\u001b[1;32m      1\u001b[0m \u001b[38;5;28;01mfrom\u001b[39;00m \u001b[38;5;21;01m__future__\u001b[39;00m \u001b[38;5;28;01mimport\u001b[39;00m annotations\n\u001b[0;32m----> 3\u001b[0m \u001b[38;5;28;01mfrom\u001b[39;00m \u001b[38;5;21;01m.\u001b[39;00m\u001b[38;5;21;01mdecoupler_gpu\u001b[39;00m \u001b[38;5;28;01mimport\u001b[39;00m \u001b[38;5;241m*\u001b[39m\n",
      "File \u001b[0;32m~/mambaforge/envs/cfp/lib/python3.11/site-packages/rapids_singlecell/decoupler_gpu/__init__.py:3\u001b[0m\n\u001b[1;32m      1\u001b[0m \u001b[38;5;28;01mfrom\u001b[39;00m \u001b[38;5;21;01m__future__\u001b[39;00m \u001b[38;5;28;01mimport\u001b[39;00m annotations\n\u001b[0;32m----> 3\u001b[0m \u001b[38;5;28;01mfrom\u001b[39;00m \u001b[38;5;21;01m.\u001b[39;00m\u001b[38;5;21;01m_method_aucell\u001b[39;00m \u001b[38;5;28;01mimport\u001b[39;00m run_aucell\n\u001b[1;32m      4\u001b[0m \u001b[38;5;28;01mfrom\u001b[39;00m \u001b[38;5;21;01m.\u001b[39;00m\u001b[38;5;21;01m_method_mlm\u001b[39;00m \u001b[38;5;28;01mimport\u001b[39;00m run_mlm\n\u001b[1;32m      5\u001b[0m \u001b[38;5;28;01mfrom\u001b[39;00m \u001b[38;5;21;01m.\u001b[39;00m\u001b[38;5;21;01m_method_ulm\u001b[39;00m \u001b[38;5;28;01mimport\u001b[39;00m run_ulm\n",
      "File \u001b[0;32m~/mambaforge/envs/cfp/lib/python3.11/site-packages/rapids_singlecell/decoupler_gpu/_method_aucell.py:13\u001b[0m\n\u001b[1;32m     10\u001b[0m \u001b[38;5;28;01mfrom\u001b[39;00m \u001b[38;5;21;01mscipy\u001b[39;00m\u001b[38;5;21;01m.\u001b[39;00m\u001b[38;5;21;01msparse\u001b[39;00m \u001b[38;5;28;01mimport\u001b[39;00m csr_matrix\n\u001b[1;32m     11\u001b[0m \u001b[38;5;28;01mfrom\u001b[39;00m \u001b[38;5;21;01mtqdm\u001b[39;00m\u001b[38;5;21;01m.\u001b[39;00m\u001b[38;5;21;01mauto\u001b[39;00m \u001b[38;5;28;01mimport\u001b[39;00m tqdm\n\u001b[0;32m---> 13\u001b[0m \u001b[38;5;28;01mfrom\u001b[39;00m \u001b[38;5;21;01mrapids_singlecell\u001b[39;00m\u001b[38;5;21;01m.\u001b[39;00m\u001b[38;5;21;01mdecoupler_gpu\u001b[39;00m\u001b[38;5;21;01m.\u001b[39;00m\u001b[38;5;21;01m_pre\u001b[39;00m \u001b[38;5;28;01mimport\u001b[39;00m (\n\u001b[1;32m     14\u001b[0m     extract,\n\u001b[1;32m     15\u001b[0m     filt_min_n,\n\u001b[1;32m     16\u001b[0m     rename_net,\n\u001b[1;32m     17\u001b[0m )\n\u001b[1;32m     18\u001b[0m \u001b[38;5;28;01mfrom\u001b[39;00m \u001b[38;5;21;01mrapids_singlecell\u001b[39;00m\u001b[38;5;21;01m.\u001b[39;00m\u001b[38;5;21;01mpreprocessing\u001b[39;00m\u001b[38;5;21;01m.\u001b[39;00m\u001b[38;5;21;01m_utils\u001b[39;00m \u001b[38;5;28;01mimport\u001b[39;00m _sparse_to_dense\n\u001b[1;32m     20\u001b[0m \u001b[38;5;66;03m# Kernel definition\u001b[39;00m\n",
      "File \u001b[0;32m~/mambaforge/envs/cfp/lib/python3.11/site-packages/rapids_singlecell/decoupler_gpu/_pre.py:15\u001b[0m\n\u001b[1;32m     12\u001b[0m \u001b[38;5;28;01mfrom\u001b[39;00m \u001b[38;5;21;01mscanpy\u001b[39;00m\u001b[38;5;21;01m.\u001b[39;00m\u001b[38;5;21;01mget\u001b[39;00m \u001b[38;5;28;01mimport\u001b[39;00m _get_obs_rep\n\u001b[1;32m     13\u001b[0m \u001b[38;5;28;01mfrom\u001b[39;00m \u001b[38;5;21;01mscipy\u001b[39;00m\u001b[38;5;21;01m.\u001b[39;00m\u001b[38;5;21;01msparse\u001b[39;00m \u001b[38;5;28;01mimport\u001b[39;00m csr_matrix, issparse\n\u001b[0;32m---> 15\u001b[0m \u001b[38;5;28;01mfrom\u001b[39;00m \u001b[38;5;21;01mrapids_singlecell\u001b[39;00m\u001b[38;5;21;01m.\u001b[39;00m\u001b[38;5;21;01mpreprocessing\u001b[39;00m\u001b[38;5;21;01m.\u001b[39;00m\u001b[38;5;21;01m_utils\u001b[39;00m \u001b[38;5;28;01mimport\u001b[39;00m _check_use_raw\n\u001b[1;32m     17\u001b[0m getnnz_0 \u001b[38;5;241m=\u001b[39m cp\u001b[38;5;241m.\u001b[39mElementwiseKernel(\n\u001b[1;32m     18\u001b[0m     \u001b[38;5;124m\"\u001b[39m\u001b[38;5;124mint32 idx\u001b[39m\u001b[38;5;124m\"\u001b[39m,\n\u001b[1;32m     19\u001b[0m     \u001b[38;5;124m\"\u001b[39m\u001b[38;5;124mraw int32 sum\u001b[39m\u001b[38;5;124m\"\u001b[39m,\n\u001b[0;32m   (...)\u001b[0m\n\u001b[1;32m     23\u001b[0m     \u001b[38;5;124m\"\u001b[39m\u001b[38;5;124mget_nnz_0\u001b[39m\u001b[38;5;124m\"\u001b[39m,\n\u001b[1;32m     24\u001b[0m )\n\u001b[1;32m     27\u001b[0m \u001b[38;5;28;01mdef\u001b[39;00m \u001b[38;5;21m__stdtr\u001b[39m(df, t):\n",
      "File \u001b[0;32m~/mambaforge/envs/cfp/lib/python3.11/site-packages/rapids_singlecell/preprocessing/__init__.py:5\u001b[0m\n\u001b[1;32m      3\u001b[0m \u001b[38;5;28;01mfrom\u001b[39;00m \u001b[38;5;21;01m.\u001b[39;00m\u001b[38;5;21;01m_harmony_integrate\u001b[39;00m \u001b[38;5;28;01mimport\u001b[39;00m harmony_integrate\n\u001b[1;32m      4\u001b[0m \u001b[38;5;28;01mfrom\u001b[39;00m \u001b[38;5;21;01m.\u001b[39;00m\u001b[38;5;21;01m_hvg\u001b[39;00m \u001b[38;5;28;01mimport\u001b[39;00m highly_variable_genes\n\u001b[0;32m----> 5\u001b[0m \u001b[38;5;28;01mfrom\u001b[39;00m \u001b[38;5;21;01m.\u001b[39;00m\u001b[38;5;21;01m_neighbors\u001b[39;00m \u001b[38;5;28;01mimport\u001b[39;00m bbknn, neighbors\n\u001b[1;32m      6\u001b[0m \u001b[38;5;28;01mfrom\u001b[39;00m \u001b[38;5;21;01m.\u001b[39;00m\u001b[38;5;21;01m_normalize\u001b[39;00m \u001b[38;5;28;01mimport\u001b[39;00m log1p, normalize_pearson_residuals, normalize_total\n\u001b[1;32m      7\u001b[0m \u001b[38;5;28;01mfrom\u001b[39;00m \u001b[38;5;21;01m.\u001b[39;00m\u001b[38;5;21;01m_pca\u001b[39;00m \u001b[38;5;28;01mimport\u001b[39;00m pca\n",
      "File \u001b[0;32m~/mambaforge/envs/cfp/lib/python3.11/site-packages/rapids_singlecell/preprocessing/_neighbors.py:9\u001b[0m\n\u001b[1;32m      7\u001b[0m \u001b[38;5;28;01mimport\u001b[39;00m \u001b[38;5;21;01mcupy\u001b[39;00m \u001b[38;5;28;01mas\u001b[39;00m \u001b[38;5;21;01mcp\u001b[39;00m\n\u001b[1;32m      8\u001b[0m \u001b[38;5;28;01mimport\u001b[39;00m \u001b[38;5;21;01mnumpy\u001b[39;00m \u001b[38;5;28;01mas\u001b[39;00m \u001b[38;5;21;01mnp\u001b[39;00m\n\u001b[0;32m----> 9\u001b[0m \u001b[38;5;28;01mfrom\u001b[39;00m \u001b[38;5;21;01mcuml\u001b[39;00m\u001b[38;5;21;01m.\u001b[39;00m\u001b[38;5;21;01mmanifold\u001b[39;00m\u001b[38;5;21;01m.\u001b[39;00m\u001b[38;5;21;01msimpl_set\u001b[39;00m \u001b[38;5;28;01mimport\u001b[39;00m fuzzy_simplicial_set\n\u001b[1;32m     10\u001b[0m \u001b[38;5;28;01mfrom\u001b[39;00m \u001b[38;5;21;01mcupyx\u001b[39;00m\u001b[38;5;21;01m.\u001b[39;00m\u001b[38;5;21;01mscipy\u001b[39;00m \u001b[38;5;28;01mimport\u001b[39;00m sparse \u001b[38;5;28;01mas\u001b[39;00m cp_sparse\n\u001b[1;32m     11\u001b[0m \u001b[38;5;28;01mfrom\u001b[39;00m \u001b[38;5;21;01mpylibraft\u001b[39;00m\u001b[38;5;21;01m.\u001b[39;00m\u001b[38;5;21;01mcommon\u001b[39;00m \u001b[38;5;28;01mimport\u001b[39;00m DeviceResources\n",
      "File \u001b[0;32m~/mambaforge/envs/cfp/lib/python3.11/site-packages/cuml/__init__.py:17\u001b[0m\n\u001b[1;32m      1\u001b[0m \u001b[38;5;66;03m#\u001b[39;00m\n\u001b[1;32m      2\u001b[0m \u001b[38;5;66;03m# Copyright (c) 2022-2023, NVIDIA CORPORATION.\u001b[39;00m\n\u001b[1;32m      3\u001b[0m \u001b[38;5;66;03m#\u001b[39;00m\n\u001b[0;32m   (...)\u001b[0m\n\u001b[1;32m     14\u001b[0m \u001b[38;5;66;03m# limitations under the License.\u001b[39;00m\n\u001b[1;32m     15\u001b[0m \u001b[38;5;66;03m#\u001b[39;00m\n\u001b[0;32m---> 17\u001b[0m \u001b[38;5;28;01mfrom\u001b[39;00m \u001b[38;5;21;01mcuml\u001b[39;00m\u001b[38;5;21;01m.\u001b[39;00m\u001b[38;5;21;01minternals\u001b[39;00m\u001b[38;5;21;01m.\u001b[39;00m\u001b[38;5;21;01mbase\u001b[39;00m \u001b[38;5;28;01mimport\u001b[39;00m Base, UniversalBase\n\u001b[1;32m     18\u001b[0m \u001b[38;5;28;01mfrom\u001b[39;00m \u001b[38;5;21;01mcuml\u001b[39;00m\u001b[38;5;21;01m.\u001b[39;00m\u001b[38;5;21;01minternals\u001b[39;00m\u001b[38;5;21;01m.\u001b[39;00m\u001b[38;5;21;01mavailable_devices\u001b[39;00m \u001b[38;5;28;01mimport\u001b[39;00m is_cuda_available\n\u001b[1;32m     20\u001b[0m \u001b[38;5;66;03m# GPU only packages\u001b[39;00m\n",
      "File \u001b[0;32m~/mambaforge/envs/cfp/lib/python3.11/site-packages/cuml/internals/__init__.py:17\u001b[0m\n\u001b[1;32m      1\u001b[0m \u001b[38;5;66;03m#\u001b[39;00m\n\u001b[1;32m      2\u001b[0m \u001b[38;5;66;03m# Copyright (c) 2019-2023, NVIDIA CORPORATION.\u001b[39;00m\n\u001b[1;32m      3\u001b[0m \u001b[38;5;66;03m#\u001b[39;00m\n\u001b[0;32m   (...)\u001b[0m\n\u001b[1;32m     14\u001b[0m \u001b[38;5;66;03m# limitations under the License.\u001b[39;00m\n\u001b[1;32m     15\u001b[0m \u001b[38;5;66;03m#\u001b[39;00m\n\u001b[0;32m---> 17\u001b[0m \u001b[38;5;28;01mfrom\u001b[39;00m \u001b[38;5;21;01mcuml\u001b[39;00m\u001b[38;5;21;01m.\u001b[39;00m\u001b[38;5;21;01minternals\u001b[39;00m\u001b[38;5;21;01m.\u001b[39;00m\u001b[38;5;21;01mavailable_devices\u001b[39;00m \u001b[38;5;28;01mimport\u001b[39;00m is_cuda_available\n\u001b[1;32m     18\u001b[0m \u001b[38;5;28;01mfrom\u001b[39;00m \u001b[38;5;21;01mcuml\u001b[39;00m\u001b[38;5;21;01m.\u001b[39;00m\u001b[38;5;21;01minternals\u001b[39;00m\u001b[38;5;21;01m.\u001b[39;00m\u001b[38;5;21;01mbase_helpers\u001b[39;00m \u001b[38;5;28;01mimport\u001b[39;00m BaseMetaClass, _tags_class_and_instance\n\u001b[1;32m     19\u001b[0m \u001b[38;5;28;01mfrom\u001b[39;00m \u001b[38;5;21;01mcuml\u001b[39;00m\u001b[38;5;21;01m.\u001b[39;00m\u001b[38;5;21;01minternals\u001b[39;00m\u001b[38;5;21;01m.\u001b[39;00m\u001b[38;5;21;01mapi_decorators\u001b[39;00m \u001b[38;5;28;01mimport\u001b[39;00m (\n\u001b[1;32m     20\u001b[0m     _deprecate_pos_args,\n\u001b[1;32m     21\u001b[0m     api_base_fit_transform,\n\u001b[0;32m   (...)\u001b[0m\n\u001b[1;32m     33\u001b[0m     exit_internal_api,\n\u001b[1;32m     34\u001b[0m )\n",
      "File \u001b[0;32m~/mambaforge/envs/cfp/lib/python3.11/site-packages/cuml/internals/available_devices.py:16\u001b[0m\n\u001b[1;32m      1\u001b[0m \u001b[38;5;66;03m#\u001b[39;00m\n\u001b[1;32m      2\u001b[0m \u001b[38;5;66;03m# Copyright (c) 2022-2024, NVIDIA CORPORATION.\u001b[39;00m\n\u001b[1;32m      3\u001b[0m \u001b[38;5;66;03m#\u001b[39;00m\n\u001b[0;32m   (...)\u001b[0m\n\u001b[1;32m     14\u001b[0m \u001b[38;5;66;03m# limitations under the License.\u001b[39;00m\n\u001b[1;32m     15\u001b[0m \u001b[38;5;66;03m#\u001b[39;00m\n\u001b[0;32m---> 16\u001b[0m \u001b[38;5;28;01mfrom\u001b[39;00m \u001b[38;5;21;01mcuml\u001b[39;00m\u001b[38;5;21;01m.\u001b[39;00m\u001b[38;5;21;01minternals\u001b[39;00m\u001b[38;5;21;01m.\u001b[39;00m\u001b[38;5;21;01mdevice_support\u001b[39;00m \u001b[38;5;28;01mimport\u001b[39;00m GPU_ENABLED\n\u001b[1;32m     17\u001b[0m \u001b[38;5;28;01mfrom\u001b[39;00m \u001b[38;5;21;01mcuml\u001b[39;00m\u001b[38;5;21;01m.\u001b[39;00m\u001b[38;5;21;01minternals\u001b[39;00m\u001b[38;5;21;01m.\u001b[39;00m\u001b[38;5;21;01msafe_imports\u001b[39;00m \u001b[38;5;28;01mimport\u001b[39;00m gpu_only_import_from, UnavailableError\n\u001b[1;32m     20\u001b[0m \u001b[38;5;28;01mfrom\u001b[39;00m \u001b[38;5;21;01mfunctools\u001b[39;00m \u001b[38;5;28;01mimport\u001b[39;00m cache\n",
      "\u001b[0;31mImportError\u001b[0m: libcusolver.so.11: cannot open shared object file: No such file or directory"
     ]
    }
   ],
   "source": [
    "import scanpy as sc\n",
    "import cfp\n",
    "import os\n",
    "import anndata as ad\n",
    "import pandas as pd\n",
    "import numpy as np\n",
    "import rapids_singlecell as rsc\n",
    "import pickle\n",
    "from cfp.preprocessing import transfer_labels, compute_wknn, centered_pca, project_pca"
   ]
  },
  {
   "cell_type": "code",
   "execution_count": null,
   "id": "13254c76-7610-4875-9fdc-d9165b2acb88",
   "metadata": {},
   "outputs": [],
   "source": [
    "out_dir = \"/lustre/groups/ml01/workspace/ot_perturbation/figures/pbmc_new_cytokine/umaps\""
   ]
  },
  {
   "cell_type": "code",
   "execution_count": null,
   "id": "e8dcbf5d-1c70-4f82-b296-8309a01a2ab0",
   "metadata": {},
   "outputs": [],
   "source": [
    "df_id = pd.read_csv(\"/lustre/groups/ml01/workspace/ot_perturbation/models/identity/pbmc_new_cytokine/metrics_new_cytokine.csv\", index_col=0)"
   ]
  },
  {
   "cell_type": "code",
   "execution_count": null,
   "id": "7bde21ed-35db-4f84-b5e3-f9fe8ec65466",
   "metadata": {},
   "outputs": [],
   "source": [
    "adata_full = sc.read_h5ad(\"/lustre/groups/ml01/workspace/ot_perturbation/data/pbmc/pbmc_with_pca.h5ad\")\n",
    "\n",
    "with open(\"/lustre/groups/ml01/workspace/ot_perturbation/data/pbmc/idcs_to_keep.pkl\", \"rb\") as pickle_file:\n",
    "    idcs_to_keep = pickle.load(pickle_file)\n",
    "adata_ref = adata_full[adata_full.obs_names.isin(idcs_to_keep)]\n"
   ]
  },
  {
   "cell_type": "code",
   "execution_count": null,
   "id": "a2068a87-f6d4-41c9-ac53-2ada741e125f",
   "metadata": {},
   "outputs": [],
   "source": [
    "df_id[(df_id[\"donor\"]==\"Donor1\")&(df_id[\"cytokine\"]==\"IL-15\")][['e_distance_CD14 Mono', \"mean_decoded_r_sq_per_cell_type\", \"mean_deg_r_sq_per_cell_type\", \"decoded_ood_r_squared\"]]"
   ]
  },
  {
   "cell_type": "code",
   "execution_count": null,
   "id": "5988d390-4e5b-44c0-b42e-b97eb441c595",
   "metadata": {},
   "outputs": [],
   "source": [
    "df_cf = pd.read_csv(\"/lustre/groups/ml01/workspace/ot_perturbation/data/pbmc/metrics/metrics_new_cytokine.csv\", index_col=0)"
   ]
  },
  {
   "cell_type": "code",
   "execution_count": null,
   "id": "03ecc3e8-7695-4dc2-a335-e84508ed95bd",
   "metadata": {},
   "outputs": [],
   "source": [
    "df_cf.head()"
   ]
  },
  {
   "cell_type": "code",
   "execution_count": null,
   "id": "d5e191ba-689d-455f-a62d-3faafa3840b1",
   "metadata": {},
   "outputs": [],
   "source": [
    "res = {}\n",
    "for cyto in df_cf[\"cytokine\"].unique():\n",
    "    df_tmp = df_cf[(df_cf[\"donor\"]==\"Donor1\")&(df_cf[\"cytokine\"]==cyto)]\n",
    "    diff = df_tmp[df_tmp.num_donors_in_train==1.0][\"decoded_ood_r_squared\"].values[0]-df_tmp[df_tmp.num_donors_in_train==0.0][\"decoded_ood_r_squared\"].values[0]\n",
    "    res[cyto]=diff"
   ]
  },
  {
   "cell_type": "code",
   "execution_count": null,
   "id": "920f5064-b648-40a6-b86b-f35f2319b774",
   "metadata": {},
   "outputs": [],
   "source": []
  },
  {
   "cell_type": "code",
   "execution_count": null,
   "id": "154af668-d05d-40f2-b374-fd537921a890",
   "metadata": {},
   "outputs": [],
   "source": [
    "df_cf.loc[\"Donor1_IL-15\"][['e_distance_CD14 Mono', \"mean_decoded_r_sq_per_cell_type\", \"mean_deg_r_sq_per_cell_type\", \"decoded_ood_r_squared\", \"num_donors_in_train\", \"wandb_name\"]]"
   ]
  },
  {
   "cell_type": "code",
   "execution_count": null,
   "id": "2caea023-92f5-4b3d-b28a-e07f969f51ed",
   "metadata": {},
   "outputs": [],
   "source": [
    "donor = \"Donor1\"\n",
    "cytokine = \"IL-15\"\n"
   ]
  },
  {
   "cell_type": "code",
   "execution_count": null,
   "id": "277698f3-649e-4fdb-9aea-07b1f87cd7f2",
   "metadata": {},
   "outputs": [],
   "source": [
    "condition = f\"{donor}_{cytokine}\"\n",
    "wandb_name = \"effortless-cosmos-547\"\n",
    "num_donors_in_train = 0\n",
    "condition = condition + \"_\" + str(num_donors_in_train)\n",
    "adata_pred_0 = sc.read_h5ad(os.path.join(\"/lustre/groups/ml01/workspace/ot_perturbation/models/otfm/pbmc_new_cytokine\", f\"{wandb_name}_{condition}_preds.h5ad\"))\n"
   ]
  },
  {
   "cell_type": "code",
   "execution_count": null,
   "id": "2c5678b6-c1fa-4bcf-a8d5-af3a032ec831",
   "metadata": {},
   "outputs": [],
   "source": [
    "condition = f\"{donor}_{cytokine}\"\n",
    "wandb_name = \"flowing-shadow-548\"\n",
    "num_donors_in_train = 1\n",
    "condition = condition + \"_\" + str(num_donors_in_train)\n",
    "adata_pred_1 = sc.read_h5ad(os.path.join(\"/lustre/groups/ml01/workspace/ot_perturbation/models/otfm/pbmc_new_cytokine\", f\"{wandb_name}_{condition}_preds.h5ad\"))\n"
   ]
  },
  {
   "cell_type": "code",
   "execution_count": null,
   "id": "9306ba06-892f-4ae3-9255-fb8a6b3d7298",
   "metadata": {},
   "outputs": [],
   "source": [
    "#condition = f\"{donor}_{cytokine}\"\n",
    "#wandb_name = \"likely-mountain-580\"\n",
    "#num_donors_in_train = 11\n",
    "#condition = condition + \"_\" + str(num_donors_in_train)\n",
    "#adata_pred_11 = sc.read_h5ad(os.path.join(\"/lustre/groups/ml01/workspace/ot_perturbation/models/otfm/pbmc_new_cytokine\", f\"{wandb_name}_{condition}_preds.h5ad\"))\n"
   ]
  },
  {
   "cell_type": "code",
   "execution_count": null,
   "id": "85ca82d3-1641-49a9-baba-ca62f6925422",
   "metadata": {},
   "outputs": [],
   "source": [
    "adata_pred_0.X = adata_pred_0.layers[\"X_recon\"]\n",
    "adata_pred_0.obs[\"cytokine\"] = cytokine\n",
    "adata_pred_0.obs[\"donor\"] = donor\n",
    "adata_pred_0.var_names=adata_full.var_names\n",
    "adata_pred_0.obs[\"mode\"]=\"pred_0\"\n",
    "project_pca(query_adata=adata_pred_0, ref_adata=adata_ref, obsm_key_added=\"X_pca_for_ct_transfer\")\n",
    "compute_wknn(ref_adata=adata_ref, query_adata=adata_pred_0, n_neighbors=1, ref_rep_key=\"X_pca\", query_rep_key=\"X_pca_for_ct_transfer\")\n",
    "transfer_labels(query_adata=adata_pred_0, ref_adata=adata_ref, label_key=\"cell_type_new\")\n",
    "adata_pred_0.obs[\"cell_type_new\"] = adata_pred_0.obs[\"cell_type_new_transfer\"]\n",
    "    \n",
    "\n",
    "adata_pred_1.X = adata_pred_1.layers[\"X_recon\"]\n",
    "adata_pred_1.obs[\"cytokine\"] = cytokine\n",
    "adata_pred_1.obs[\"donor\"] = donor\n",
    "adata_pred_1.var_names=adata_full.var_names\n",
    "adata_pred_1.obs[\"mode\"]=\"pred_1\"\n",
    "project_pca(query_adata=adata_pred_1, ref_adata=adata_ref, obsm_key_added=\"X_pca_for_ct_transfer\")\n",
    "compute_wknn(ref_adata=adata_ref, query_adata=adata_pred_1, n_neighbors=1, ref_rep_key=\"X_pca\", query_rep_key=\"X_pca_for_ct_transfer\")\n",
    "transfer_labels(query_adata=adata_pred_1, ref_adata=adata_ref, label_key=\"cell_type_new\")\n",
    "adata_pred_1.obs[\"cell_type_new\"] = adata_pred_1.obs[\"cell_type_new_transfer\"]\n",
    "\n",
    "#adata_pred_11.X = adata_pred_11.layers[\"X_recon\"]\n",
    "#adata_pred_11.obs[\"cytokine\"] = cytokine\n",
    "#adata_pred_11.obs[\"donor\"] = donor\n",
    "#adata_pred_11.var_names=adata_full.var_names\n",
    "#adata_pred_11.obs[\"mode\"]=\"pred_11\"\n",
    "#project_pca(query_adata=adata_pred_11, ref_adata=adata_ref, obsm_key_added=\"X_pca_for_ct_transfer\")\n",
    "#compute_wknn(ref_adata=adata_ref, query_adata=adata_pred_11, n_neighbors=1, ref_rep_key=\"X_pca\", query_rep_key=\"X_pca_for_ct_transfer\")\n",
    "#transfer_labels(query_adata=adata_pred_11, ref_adata=adata_ref, label_key=\"cell_type_new\")\n",
    "#adata_pred_11.obs[\"cell_type_new\"] = adata_pred_1.obs[\"cell_type_new_transfer\"]\n",
    "\n",
    "    \n"
   ]
  },
  {
   "cell_type": "code",
   "execution_count": null,
   "id": "bfdeff0d-3ea7-4e2f-940e-bbfd100c99e5",
   "metadata": {},
   "outputs": [],
   "source": [
    "adata_pred_0.obs[\"cell_type_new\"] = adata_pred_0.obs[\"cell_type_new_transfer\"]\n",
    "adata_pred_1.obs[\"cell_type_new\"] = adata_pred_1.obs[\"cell_type_new_transfer\"]\n",
    "#adata_pred_11.obs[\"cell_type_new\"] = adata_pred_11.obs[\"cell_type_new_transfer\"]"
   ]
  },
  {
   "cell_type": "code",
   "execution_count": null,
   "id": "9f1864df-6f82-4bf3-9932-d6ba723d7147",
   "metadata": {},
   "outputs": [],
   "source": [
    "adata_ood_true = adata_full[(adata_full.obs[\"donor\"] == donor) & (adata_full.obs[\"cytokine\"]==cytokine)]    \n",
    "adata_ood_true.obs[\"mode\"] = \"true\"\n",
    "adata_ctrl = adata_full[(adata_full.obs[\"cytokine\"]==\"PBS\")&(adata_full.obs[\"donor\"]==donor)]\n",
    "adata_ctrl.obs[\"mode\"] = \"control\"\n",
    "    "
   ]
  },
  {
   "cell_type": "code",
   "execution_count": null,
   "id": "769ffe9a-0bb7-4b56-998a-70953a3cf5c0",
   "metadata": {},
   "outputs": [],
   "source": [
    "to_subsample=min(adata_ood_true.n_obs, 10_000)\n",
    "#sc.pp.subsample(adata_pred_0,n_obs=to_subsample)\n",
    "#sc.pp.subsample(adata_pred_1,n_obs=to_subsample)\n",
    "#sc.pp.subsample(adata_pred_11,n_obs=to_subsample)\n",
    "#sc.pp.subsample(adata_ctrl,n_obs=to_subsample)"
   ]
  },
  {
   "cell_type": "code",
   "execution_count": null,
   "id": "a33acb51-9642-4063-a274-48affcf2de87",
   "metadata": {},
   "outputs": [],
   "source": [
    "#bdata = ad.concat((adata_pred_0, adata_pred_1, adata_pred_11, adata_ood_true, adata_ctrl))\n",
    "bdata = ad.concat((adata_pred_0, adata_pred_1, adata_ood_true, adata_ctrl))"
   ]
  },
  {
   "cell_type": "code",
   "execution_count": null,
   "id": "10b739ee-71c5-497e-a508-697c1823d742",
   "metadata": {},
   "outputs": [],
   "source": [
    "bdata"
   ]
  },
  {
   "cell_type": "code",
   "execution_count": null,
   "id": "96b8ece0-265b-489a-87e5-a973b0dcc721",
   "metadata": {},
   "outputs": [],
   "source": [
    "rsc.pp.pca(bdata)"
   ]
  },
  {
   "cell_type": "code",
   "execution_count": null,
   "id": "ef0cda2e-6861-44eb-9650-2d9a7590c647",
   "metadata": {},
   "outputs": [],
   "source": [
    "rsc.pp.neighbors(bdata)"
   ]
  },
  {
   "cell_type": "code",
   "execution_count": null,
   "id": "4838c19b-13a1-4d64-a019-32dce3c7e37c",
   "metadata": {},
   "outputs": [],
   "source": [
    "sc.tl.umap(bdata)"
   ]
  },
  {
   "cell_type": "code",
   "execution_count": null,
   "id": "ff8f9e6e-0c70-4df4-a666-7173f1694799",
   "metadata": {},
   "outputs": [],
   "source": [
    "bdata.obs = bdata.obs.reset_index()"
   ]
  },
  {
   "cell_type": "code",
   "execution_count": null,
   "id": "8929deaf-8ae5-4e03-89db-5e490cffcb06",
   "metadata": {},
   "outputs": [],
   "source": [
    "palette = {\"control\": \"#000000\", \"true\": \"#B6B6B6\", \"pred_0\": \"#B6B6B6\", \"pred_1\": \"#B6B6B6\"}\n",
    "order =  list(bdata[bdata.obs[\"mode\"]==\"pred_0\"].obs_names) + list(bdata[bdata.obs[\"mode\"]==\"pred_1\"].obs_names) + list(bdata[bdata.obs[\"mode\"]==\"true\"].obs_names) + list(bdata[bdata.obs[\"mode\"]==\"control\"].obs_names)  \n",
    "fig = sc.pl.umap(bdata[order], color=\"mode\", size=10, palette=palette, return_fig=True)\n",
    "fig.savefig(os.path.join(out_dir, \"all_control.png\"), dpi=300)"
   ]
  },
  {
   "cell_type": "code",
   "execution_count": null,
   "id": "11c3c9f1-cfcd-4447-af63-477174853cb3",
   "metadata": {},
   "outputs": [],
   "source": []
  },
  {
   "cell_type": "code",
   "execution_count": null,
   "id": "e49dc292-d789-49cc-8ac8-55405da37e6f",
   "metadata": {},
   "outputs": [],
   "source": [
    "palette = {\"control\": \"#B6B6B6\", \"true\": \"#3F8AA6\", \"pred_0\": \"#B6B6B6\", \"pred_1\": \"#B6B6B6\", \"pred_11\": \"#B6B6B6\"}\n",
    "order =  list(bdata[bdata.obs[\"mode\"]==\"control\"].obs_names) + list(bdata[bdata.obs[\"mode\"]==\"pred_0\"].obs_names) + list(bdata[bdata.obs[\"mode\"]==\"pred_1\"].obs_names) + list(bdata[bdata.obs[\"mode\"]==\"true\"].obs_names) \n",
    "fig = sc.pl.umap(bdata[order], color=\"mode\", size=10, palette=palette, return_fig=True)\n",
    "fig.savefig(os.path.join(out_dir, \"all_true.png\"), dpi=300)"
   ]
  },
  {
   "cell_type": "code",
   "execution_count": null,
   "id": "45fe4e18-ac8a-4db5-baa3-8f15edc43889",
   "metadata": {},
   "outputs": [],
   "source": [
    "palette = {\"pred_0\": \"#E590C6\", \"pred_1\": \"#B6B6B6\", \"pred_11\": \"#B6B6B6\", \"true\": \"#B6B6B6\", \"control\": \"#B6B6B6\"}\n",
    "order =  list(bdata[bdata.obs[\"mode\"]==\"control\"].obs_names)  + list(bdata[bdata.obs[\"mode\"]==\"pred_1\"].obs_names) + list(bdata[bdata.obs[\"mode\"]==\"true\"].obs_names) + list(bdata[bdata.obs[\"mode\"]==\"pred_0\"].obs_names)\n",
    "fig = sc.pl.umap(bdata[order], color=\"mode\", size=10, palette=palette, return_fig=True)\n",
    "fig.savefig(os.path.join(out_dir, \"all_pred0.png\"), dpi=300)"
   ]
  },
  {
   "cell_type": "code",
   "execution_count": null,
   "id": "a5d8f9b8-dce6-4664-93dc-3035d06f2df3",
   "metadata": {},
   "outputs": [],
   "source": [
    "palette = {\"pred_1\": \"#B12F8C\", \"pred_0\": \"#B6B6B6\", \"pred_11\": \"#B6B6B6\", \"true\": \"#B6B6B6\", \"control\": \"#B6B6B6\"}\n",
    "order =  list(bdata[bdata.obs[\"mode\"]==\"control\"].obs_names)  + list(bdata[bdata.obs[\"mode\"]==\"pred_0\"].obs_names) + list(bdata[bdata.obs[\"mode\"]==\"true\"].obs_names) + list(bdata[bdata.obs[\"mode\"]==\"pred_1\"].obs_names)\n",
    "fig = sc.pl.umap(bdata[order], color=\"mode\", size=10, palette=palette, return_fig=True)\n",
    "fig.savefig(os.path.join(out_dir, \"all_pred1.png\"), dpi=300)"
   ]
  },
  {
   "cell_type": "code",
   "execution_count": null,
   "id": "224aed90-350d-44db-ab62-0f5eaff07ce3",
   "metadata": {},
   "outputs": [],
   "source": [
    "region_colors = {\n",
    "    \"Cortex\":\"#F06292\",\n",
    "    \"Forebrain\":\"#BA68C8\",\n",
    "    \"Hippocampus\":\"#FFCDD2\",\n",
    "    \"Subcortex\":\"#B39DDB\",\n",
    "    \"Striatum\":\"#BA377E\",\n",
    "    \"Hypothalamus\":\"#673AB7\",\n",
    "    \"Thalamus\":\"#0288D1\",\n",
    "    \"Diencephalon\":\"#7986CB\",\n",
    "    \"Midbrain\":\"#00BCD4\", \n",
    "    \"Midbrain ventral\":\"#4DB6AC\", \n",
    "    \"Midbrain dorsal\":\"#00897B\", \n",
    "    \"Hindbrain\":\"#A5D6A7\", \n",
    "    \"Cerebellum\":\"#558B2F\",\n",
    "    \"Pons\":\"#8BC34A\",\n",
    "    \"Medulla\":\"#DCE775\",\n",
    "    \"Spinal cord\":\"#63372C\", \n",
    "    \"Other\":\"grey\",\n",
    "    \"ENS\":\"#a1887f\", \n",
    "    \"SYM\":\"#D2927D\",\n",
    "    \"null\": \"#FFD274\",\n",
    "}\n",
    "colors=list(region_colors.values())\n",
    "ct_palette= {ct: colors[i] for i,ct in enumerate(bdata.obs[\"cell_type_new\"].unique())}\n",
    "fig = sc.pl.umap(bdata, color=\"cell_type_new\",palette=ct_palette,return_fig=True)\n",
    "fig.savefig(os.path.join(out_dir, \"all_cell_types.png\"), dpi=300)"
   ]
  },
  {
   "cell_type": "code",
   "execution_count": null,
   "id": "690787a4-bcc0-4d19-8b63-56b0dc2fbf2d",
   "metadata": {},
   "outputs": [],
   "source": [
    "cdata = bdata[bdata.obs[\"cell_type_new\"]==\"CD14 Mono\"].copy()"
   ]
  },
  {
   "cell_type": "code",
   "execution_count": null,
   "id": "03242cf8-ae21-4dc1-bfd0-4e47f13a8786",
   "metadata": {},
   "outputs": [],
   "source": [
    "palette = {\"control\": \"#000000\", \"true\": \"#B6B6B6\", \"pred_0\": \"#B6B6B6\", \"pred_1\": \"#B6B6B6\", \"pred_11\": \"#B6B6B6\"}\n",
    "order =  list(cdata[cdata.obs[\"mode\"]==\"pred_0\"].obs_names) + list(cdata[cdata.obs[\"mode\"]==\"pred_1\"].obs_names) + list(cdata[cdata.obs[\"mode\"]==\"true\"].obs_names) + list(cdata[cdata.obs[\"mode\"]==\"control\"].obs_names)  \n",
    "n_cells_to_highlight = cdata[cdata.obs[\"mode\"]==\"control\"].n_obs\n",
    "sizes = [20] * (cdata.n_obs-n_cells_to_highlight) + [20] * n_cells_to_highlight\n",
    "fig = sc.pl.umap(cdata[order], color=\"mode\", size=sizes, palette=palette, return_fig=True)\n",
    "fig.savefig(os.path.join(out_dir, \"CD14_control.png\"), dpi=300)"
   ]
  },
  {
   "cell_type": "code",
   "execution_count": null,
   "id": "478f27c3-1faf-4771-a60c-252965da75c1",
   "metadata": {},
   "outputs": [],
   "source": [
    "palette = {\"control\": \"#B6B6B6\", \"true\": \"#3F8AA6\", \"pred_0\": \"#B6B6B6\", \"pred_1\": \"#B6B6B6\", \"pred_11\": \"#B6B6B6\"}\n",
    "order =  list(cdata[cdata.obs[\"mode\"]==\"control\"].obs_names) + list(cdata[cdata.obs[\"mode\"]==\"pred_0\"].obs_names) + list(cdata[cdata.obs[\"mode\"]==\"pred_1\"].obs_names) + list(cdata[cdata.obs[\"mode\"]==\"true\"].obs_names) \n",
    "n_cells_to_highlight = cdata[cdata.obs[\"mode\"]==\"true\"].n_obs\n",
    "sizes = [20] * (cdata.n_obs-n_cells_to_highlight) + [40] * n_cells_to_highlight\n",
    "fig = sc.pl.umap(cdata[order], color=\"mode\", size=sizes, palette=palette, return_fig=True)\n",
    "fig.savefig(os.path.join(out_dir, \"CD14_true.png\"), dpi=300)"
   ]
  },
  {
   "cell_type": "code",
   "execution_count": null,
   "id": "09a07fbf-f775-46c9-8696-4514e78eae00",
   "metadata": {},
   "outputs": [],
   "source": [
    "palette = {\"control\": \"#B6B6B6\", \"true\": \"#B6B6B6\", \"pred_0\":\"#E590C6\", \"pred_1\": \"#B6B6B6\", \"pred_11\": \"#B6B6B6\"}\n",
    "order =  list(cdata[cdata.obs[\"mode\"]==\"control\"].obs_names)  + list(cdata[cdata.obs[\"mode\"]==\"pred_1\"].obs_names)  + list(cdata[cdata.obs[\"mode\"]==\"true\"].obs_names)+ list(cdata[cdata.obs[\"mode\"]==\"pred_0\"].obs_names) \n",
    "n_cells_to_highlight = cdata[cdata.obs[\"mode\"]==\"pred_0\"].n_obs\n",
    "sizes = [20] * (cdata.n_obs-n_cells_to_highlight) + [40] * n_cells_to_highlight\n",
    "fig = sc.pl.umap(cdata[order], color=\"mode\", size=sizes, palette=palette, return_fig=True)\n",
    "fig.savefig(os.path.join(out_dir, \"CD14_pred_0.png\"), dpi=300)\n"
   ]
  },
  {
   "cell_type": "code",
   "execution_count": null,
   "id": "49ab0c15-ac01-4fb8-93df-07c99f037110",
   "metadata": {},
   "outputs": [],
   "source": [
    "palette = {\"control\": \"#B6B6B6\", \"true\": \"#B6B6B6\", \"pred_0\":\"#B6B6B6\", \"pred_1\": \"#B12F8C\", \"pred_11\": \"#B6B6B6\"}\n",
    "order = list(cdata[cdata.obs[\"mode\"]==\"control\"].obs_names)  + list(cdata[cdata.obs[\"mode\"]==\"true\"].obs_names)+ list(cdata[cdata.obs[\"mode\"]==\"pred_0\"].obs_names) + list(cdata[cdata.obs[\"mode\"]==\"pred_1\"].obs_names) \n",
    "n_cells_to_highlight = cdata[cdata.obs[\"mode\"]==\"pred_1\"].n_obs\n",
    "sizes = [20] * (cdata.n_obs-n_cells_to_highlight) + [40] * n_cells_to_highlight\n",
    "fig = sc.pl.umap(cdata[order], color=\"mode\", size=sizes, palette=palette, return_fig=True)\n",
    "fig.savefig(os.path.join(out_dir, \"CD14_pred_1.png\"), dpi=300)"
   ]
  },
  {
   "cell_type": "code",
   "execution_count": null,
   "id": "bddf181f-9ba6-47cf-806c-80324e487d63",
   "metadata": {},
   "outputs": [],
   "source": [
    "with open(\"/lustre/groups/ml01/workspace/ot_perturbation/data/pbmc/degs.pkl\", \"rb\") as pickle_file:\n",
    "    deg_genes = pickle.load(pickle_file)\n",
    "degs = deg_genes[\"Donor1_CD14 Mono_IL-15\"]"
   ]
  },
  {
   "cell_type": "code",
   "execution_count": null,
   "id": "e81c9c49-bf14-40e4-8dc4-ffebc08c8f6e",
   "metadata": {},
   "outputs": [],
   "source": [
    "fig=sc.pl.umap(cdata, color=degs[0], size=20, vmin=0, vmax=6.0, return_fig=True, cmap=\"YlGnBu\")\n",
    "fig.savefig(os.path.join(out_dir, f\"CD14_{degs[0]}.png\"), dpi=300)"
   ]
  },
  {
   "cell_type": "code",
   "execution_count": null,
   "id": "d1909025-8f8a-4afc-a8e4-3c687e4f6fa7",
   "metadata": {},
   "outputs": [],
   "source": [
    "fig=sc.pl.umap(cdata, color=degs[1], size=20, vmin=0, vmax=6.0, return_fig=True, cmap=\"YlGnBu\")\n",
    "fig.savefig(os.path.join(out_dir, f\"CD14_{degs[1]}.png\"), dpi=300)"
   ]
  },
  {
   "cell_type": "code",
   "execution_count": null,
   "id": "26b2616c-d895-4a7a-a61d-15a17bbe3600",
   "metadata": {},
   "outputs": [],
   "source": [
    "fig=sc.pl.umap(cdata, color=degs[2], size=20, vmin=0, vmax=6.0, return_fig=True, cmap=\"YlGnBu\")\n",
    "fig.savefig(os.path.join(out_dir, f\"CD14_{degs[2]}.png\"), dpi=300)"
   ]
  },
  {
   "cell_type": "code",
   "execution_count": null,
   "id": "24e070be-f3ec-439a-a7ec-2522094f0e10",
   "metadata": {},
   "outputs": [],
   "source": [
    "cdata.obs[f\"CD14_{degs[0]}\"] = np.multiply((cdata.obs[\"mode\"]==\"control\").values, cdata[:,cdata.var_names==degs[0]].X.toarray().squeeze())"
   ]
  },
  {
   "cell_type": "code",
   "execution_count": null,
   "id": "df9e4bf5-fb76-466b-bc42-1b1cfb036f4b",
   "metadata": {},
   "outputs": [],
   "source": [
    "mode = \"control\"\n",
    "cdata.obs[f\"CD14_{mode}_{degs[0]}\"] = cdata[:, degs[0]].X.toarray().flatten()\n",
    "cdata.obs[f\"CD14_{mode}_{degs[0]}\"] = cdata.obs.apply(lambda x: x[f\"CD14_{mode}_{degs[0]}\"] if x[\"mode\"]==mode else None,axis=1)\n",
    "\n",
    "cdata.obs[f\"CD14_{mode}_{degs[1]}\"] = cdata[:, degs[1]].X.toarray().flatten()\n",
    "cdata.obs[f\"CD14_{mode}_{degs[1]}\"] = cdata.obs.apply(lambda x: x[f\"CD14_{mode}_{degs[1]}\"] if x[\"mode\"]==mode else None,axis=1)\n",
    "\n",
    "cdata.obs[f\"CD14_{mode}_{degs[2]}\"] = cdata[:, degs[2]].X.toarray().flatten()\n",
    "cdata.obs[f\"CD14_{mode}_{degs[2]}\"] = cdata.obs.apply(lambda x: x[f\"CD14_{mode}_{degs[2]}\"] if x[\"mode\"]==mode else None,axis=1)"
   ]
  },
  {
   "cell_type": "code",
   "execution_count": null,
   "id": "8d03df9f-c098-4e25-bf5f-4bd4bd529e8a",
   "metadata": {},
   "outputs": [],
   "source": [
    "mode = \"pred_0\"\n",
    "cdata.obs[f\"CD14_{mode}_{degs[0]}\"] = cdata[:, degs[0]].X.toarray().flatten()\n",
    "cdata.obs[f\"CD14_{mode}_{degs[0]}\"] = cdata.obs.apply(lambda x: x[f\"CD14_{mode}_{degs[0]}\"] if x[\"mode\"]==mode else None,axis=1)\n",
    "\n",
    "cdata.obs[f\"CD14_{mode}_{degs[1]}\"] = cdata[:, degs[1]].X.toarray().flatten()\n",
    "cdata.obs[f\"CD14_{mode}_{degs[1]}\"] = cdata.obs.apply(lambda x: x[f\"CD14_{mode}_{degs[1]}\"] if x[\"mode\"]==mode else None,axis=1)\n",
    "\n",
    "cdata.obs[f\"CD14_{mode}_{degs[2]}\"] = cdata[:, degs[2]].X.toarray().flatten()\n",
    "cdata.obs[f\"CD14_{mode}_{degs[2]}\"] = cdata.obs.apply(lambda x: x[f\"CD14_{mode}_{degs[2]}\"] if x[\"mode\"]==mode else None,axis=1)"
   ]
  },
  {
   "cell_type": "code",
   "execution_count": null,
   "id": "caeb6ee6-248c-48ce-9634-a54469e2ebe9",
   "metadata": {},
   "outputs": [],
   "source": [
    "mode = \"pred_1\"\n",
    "cdata.obs[f\"CD14_{mode}_{degs[0]}\"] = cdata[:, degs[0]].X.toarray().flatten()\n",
    "cdata.obs[f\"CD14_{mode}_{degs[0]}\"] = cdata.obs.apply(lambda x: x[f\"CD14_{mode}_{degs[0]}\"] if x[\"mode\"]==mode else None,axis=1)\n",
    "\n",
    "cdata.obs[f\"CD14_{mode}_{degs[1]}\"] = cdata[:, degs[1]].X.toarray().flatten()\n",
    "cdata.obs[f\"CD14_{mode}_{degs[1]}\"] = cdata.obs.apply(lambda x: x[f\"CD14_{mode}_{degs[1]}\"] if x[\"mode\"]==mode else None,axis=1)\n",
    "\n",
    "cdata.obs[f\"CD14_{mode}_{degs[2]}\"] = cdata[:, degs[2]].X.toarray().flatten()\n",
    "cdata.obs[f\"CD14_{mode}_{degs[2]}\"] = cdata.obs.apply(lambda x: x[f\"CD14_{mode}_{degs[2]}\"] if x[\"mode\"]==mode else None,axis=1)"
   ]
  },
  {
   "cell_type": "code",
   "execution_count": null,
   "id": "0b8d786a-5eea-4321-baaa-eed9cfba0b97",
   "metadata": {},
   "outputs": [],
   "source": [
    "mode = \"true\"\n",
    "cdata.obs[f\"CD14_{mode}_{degs[0]}\"] = cdata[:, degs[0]].X.toarray().flatten()\n",
    "cdata.obs[f\"CD14_{mode}_{degs[0]}\"] = cdata.obs.apply(lambda x: x[f\"CD14_{mode}_{degs[0]}\"] if x[\"mode\"]==mode else None,axis=1)\n",
    "\n",
    "cdata.obs[f\"CD14_{mode}_{degs[1]}\"] = cdata[:, degs[1]].X.toarray().flatten()\n",
    "cdata.obs[f\"CD14_{mode}_{degs[1]}\"] = cdata.obs.apply(lambda x: x[f\"CD14_{mode}_{degs[1]}\"] if x[\"mode\"]==mode else None,axis=1)\n",
    "\n",
    "cdata.obs[f\"CD14_{mode}_{degs[2]}\"] = cdata[:, degs[2]].X.toarray().flatten()\n",
    "cdata.obs[f\"CD14_{mode}_{degs[2]}\"] = cdata.obs.apply(lambda x: x[f\"CD14_{mode}_{degs[2]}\"] if x[\"mode\"]==mode else None,axis=1)"
   ]
  },
  {
   "cell_type": "code",
   "execution_count": null,
   "id": "4898f263-66ef-40fc-acb3-94c3f92c7b61",
   "metadata": {},
   "outputs": [],
   "source": [
    "mode= \"true\"\n",
    "deg_idx=0\n",
    "size = [20 if cdata.obs[f\"CD14_{mode}_{degs[deg_idx]}\"] is None else 40]\n",
    "fig=sc.pl.umap(cdata, color=f\"CD14_{mode}_{degs[deg_idx]}\", size=size, vmin=0, vmax=6.0, return_fig=True, cmap=\"YlGnBu\")\n",
    "fig.savefig(os.path.join(out_dir, f\"CD14_{mode}_{degs[deg_idx]}.png\"), dpi=300)"
   ]
  },
  {
   "cell_type": "code",
   "execution_count": null,
   "id": "2027ef81-1de9-4f8f-965d-8624c8000d1f",
   "metadata": {},
   "outputs": [],
   "source": [
    "mode= \"true\"\n",
    "deg_idx=1\n",
    "size = [20 if cdata.obs[f\"CD14_{mode}_{degs[deg_idx]}\"] is None else 40]\n",
    "fig=sc.pl.umap(cdata, color=f\"CD14_{mode}_{degs[deg_idx]}\", size=size, vmin=0, vmax=6.0, return_fig=True, cmap=\"YlGnBu\")\n",
    "fig.savefig(os.path.join(out_dir, f\"CD14_{mode}_{degs[deg_idx]}.png\"), dpi=300)"
   ]
  },
  {
   "cell_type": "code",
   "execution_count": null,
   "id": "e73a1cfb-ec21-4f05-9a46-71b786f3a49e",
   "metadata": {},
   "outputs": [],
   "source": [
    "mode= \"true\"\n",
    "deg_idx=2\n",
    "size = [20 if cdata.obs[f\"CD14_{mode}_{degs[deg_idx]}\"] is None else 40]\n",
    "fig=sc.pl.umap(cdata, color=f\"CD14_{mode}_{degs[deg_idx]}\", size=size, vmin=0, vmax=6.0, return_fig=True, cmap=\"YlGnBu\")\n",
    "fig.savefig(os.path.join(out_dir, f\"CD14_{mode}_{degs[deg_idx]}.png\"), dpi=300)"
   ]
  },
  {
   "cell_type": "code",
   "execution_count": null,
   "id": "fdde4606-546c-4dea-a351-794808506f25",
   "metadata": {},
   "outputs": [],
   "source": [
    "mode= \"control\"\n",
    "deg_idx=0\n",
    "size = [20 if cdata.obs[f\"CD14_{mode}_{degs[deg_idx]}\"] is None else 40]\n",
    "fig=sc.pl.umap(cdata, color=f\"CD14_{mode}_{degs[deg_idx]}\", size=size, vmin=0, vmax=6.0, return_fig=True, cmap=\"YlGnBu\")\n",
    "fig.savefig(os.path.join(out_dir, f\"CD14_{mode}_{degs[deg_idx]}.png\"), dpi=300)"
   ]
  },
  {
   "cell_type": "code",
   "execution_count": null,
   "id": "6552c8c5-a745-4265-986e-c3ab85f495f8",
   "metadata": {},
   "outputs": [],
   "source": [
    "mode= \"control\"\n",
    "deg_idx=1\n",
    "size = [20 if cdata.obs[f\"CD14_{mode}_{degs[deg_idx]}\"] is None else 40]\n",
    "fig=sc.pl.umap(cdata, color=f\"CD14_{mode}_{degs[deg_idx]}\", size=size, vmin=0, vmax=6.0, return_fig=True, cmap=\"YlGnBu\")\n",
    "fig.savefig(os.path.join(out_dir, f\"CD14_{mode}_{degs[deg_idx]}.png\"), dpi=300)"
   ]
  },
  {
   "cell_type": "code",
   "execution_count": null,
   "id": "7dc02b26-18bb-4f61-9624-109752d59f2a",
   "metadata": {},
   "outputs": [],
   "source": [
    "mode= \"control\"\n",
    "deg_idx=2\n",
    "size = [20 if cdata.obs[f\"CD14_{mode}_{degs[deg_idx]}\"] is None else 40]\n",
    "fig=sc.pl.umap(cdata, color=f\"CD14_{mode}_{degs[deg_idx]}\", size=size, vmin=0, vmax=6.0, return_fig=True, cmap=\"YlGnBu\")\n",
    "fig.savefig(os.path.join(out_dir, f\"CD14_{mode}_{degs[deg_idx]}.png\"), dpi=300)"
   ]
  },
  {
   "cell_type": "code",
   "execution_count": null,
   "id": "072d6128-f964-4f2f-aa4e-483ba9b1c550",
   "metadata": {},
   "outputs": [],
   "source": [
    "mode= \"pred_0\"\n",
    "deg_idx=0\n",
    "size = [20 if cdata.obs[f\"CD14_{mode}_{degs[deg_idx]}\"] is None else 40]\n",
    "fig=sc.pl.umap(cdata, color=f\"CD14_{mode}_{degs[deg_idx]}\", size=size, vmin=0, vmax=6.0, return_fig=True, cmap=\"YlGnBu\")\n",
    "fig.savefig(os.path.join(out_dir, f\"CD14_{mode}_{degs[deg_idx]}.png\"), dpi=300)"
   ]
  },
  {
   "cell_type": "code",
   "execution_count": null,
   "id": "d842da98-8b0b-479f-9b50-36b486765789",
   "metadata": {},
   "outputs": [],
   "source": [
    "mode= \"pred_0\"\n",
    "deg_idx=1\n",
    "size = [20 if cdata.obs[f\"CD14_{mode}_{degs[deg_idx]}\"] is None else 40]\n",
    "fig=sc.pl.umap(cdata, color=f\"CD14_{mode}_{degs[deg_idx]}\", size=size, vmin=0, vmax=6.0, return_fig=True, cmap=\"YlGnBu\")\n",
    "fig.savefig(os.path.join(out_dir, f\"CD14_{mode}_{degs[deg_idx]}.png\"), dpi=300)"
   ]
  },
  {
   "cell_type": "code",
   "execution_count": null,
   "id": "cb0ec2a1-c2a8-4cc1-9689-3bf7aa0366f7",
   "metadata": {},
   "outputs": [],
   "source": [
    "mode= \"pred_0\"\n",
    "deg_idx=2\n",
    "size = [20 if cdata.obs[f\"CD14_{mode}_{degs[deg_idx]}\"] is None else 40]\n",
    "fig=sc.pl.umap(cdata, color=f\"CD14_{mode}_{degs[deg_idx]}\", size=size, vmin=0, vmax=6.0, return_fig=True, cmap=\"YlGnBu\")\n",
    "fig.savefig(os.path.join(out_dir, f\"CD14_{mode}_{degs[deg_idx]}.png\"), dpi=300)"
   ]
  },
  {
   "cell_type": "code",
   "execution_count": null,
   "id": "988da734-6d50-43a1-a960-88d221e428e7",
   "metadata": {},
   "outputs": [],
   "source": [
    "mode= \"pred_1\"\n",
    "deg_idx=0\n",
    "size = [20 if cdata.obs[f\"CD14_{mode}_{degs[deg_idx]}\"] is None else 40]\n",
    "fig=sc.pl.umap(cdata, color=f\"CD14_{mode}_{degs[deg_idx]}\", size=size, vmin=0, vmax=6.0, return_fig=True, cmap=\"YlGnBu\")\n",
    "fig.savefig(os.path.join(out_dir, f\"CD14_{mode}_{degs[deg_idx]}.png\"), dpi=300)"
   ]
  },
  {
   "cell_type": "code",
   "execution_count": null,
   "id": "36dc0c6e-e410-4b2a-ad62-8d1fef694fd6",
   "metadata": {},
   "outputs": [],
   "source": [
    "mode= \"pred_1\"\n",
    "deg_idx=1\n",
    "size = [20 if cdata.obs[f\"CD14_{mode}_{degs[deg_idx]}\"] is None else 40]\n",
    "fig=sc.pl.umap(cdata, color=f\"CD14_{mode}_{degs[deg_idx]}\", size=size, vmin=0, vmax=6.0, return_fig=True, cmap=\"YlGnBu\")\n",
    "fig.savefig(os.path.join(out_dir, f\"CD14_{mode}_{degs[deg_idx]}.png\"), dpi=300)"
   ]
  },
  {
   "cell_type": "code",
   "execution_count": null,
   "id": "d87e24ce-7062-42d7-ac21-3dea3d599ffa",
   "metadata": {},
   "outputs": [],
   "source": [
    "mode= \"pred_1\"\n",
    "deg_idx=2\n",
    "size = [20 if cdata.obs[f\"CD14_{mode}_{degs[deg_idx]}\"] is None else 40]\n",
    "fig=sc.pl.umap(cdata, color=f\"CD14_{mode}_{degs[deg_idx]}\", size=size, vmin=0, vmax=6.0, return_fig=True, cmap=\"YlGnBu\")\n",
    "fig.savefig(os.path.join(out_dir, f\"CD14_{mode}_{degs[deg_idx]}.png\"), dpi=300)"
   ]
  },
  {
   "cell_type": "code",
   "execution_count": null,
   "id": "b1f245b9-fe62-48a5-896a-610f55e401e1",
   "metadata": {},
   "outputs": [],
   "source": [
    "df=pd.read_csv(\"/lustre/groups/ml01/workspace/ot_perturbation/data/pbmc/results/allocation/metrics_new_cytokine.csv\", index_col=0)"
   ]
  },
  {
   "cell_type": "code",
   "execution_count": null,
   "id": "02ab4585-e66e-4c69-803b-5fa6208d24d3",
   "metadata": {},
   "outputs": [],
   "source": [
    "df2 = df[(df[\"donor\"]==\"Donor1\")&(df[\"cytokine\"]==\"IL-15\")]"
   ]
  },
  {
   "cell_type": "code",
   "execution_count": null,
   "id": "fde66d16-d65a-4cc5-b0aa-55561b72415e",
   "metadata": {},
   "outputs": [],
   "source": [
    "df_id = df2[df2[\"method\"]==\"id\"].iloc[[0]]"
   ]
  },
  {
   "cell_type": "code",
   "execution_count": null,
   "id": "75e714e5-669d-49df-86e4-f591a1cc2a37",
   "metadata": {},
   "outputs": [],
   "source": [
    "df_cf0 = df2[(df2[\"method\"]==\"cf\")&(df2[\"num_donors_in_train\"]==0)]"
   ]
  },
  {
   "cell_type": "code",
   "execution_count": null,
   "id": "e4152735-76f0-467f-96cd-a7af84450f12",
   "metadata": {},
   "outputs": [],
   "source": [
    "df_cf1 = df2[(df2[\"method\"]==\"cf\")&(df2[\"num_donors_in_train\"]==1)].iloc[[0]]"
   ]
  },
  {
   "cell_type": "code",
   "execution_count": null,
   "id": "728deab2-2c0f-495e-acd9-30506f7abe91",
   "metadata": {},
   "outputs": [],
   "source": [
    "df_id[\"method2\"] = \"id\"\n",
    "df_cf0[\"method2\"] = \"cf0\"\n",
    "df_cf1[\"method2\"] = \"cf1\"\n",
    "df_sub = pd.concat((df_id, df_cf0, df_cf1))"
   ]
  },
  {
   "cell_type": "code",
   "execution_count": null,
   "id": "3090748c-f41f-46de-a44b-77eb2112b0ad",
   "metadata": {},
   "outputs": [],
   "source": [
    "df_sub[\"e_distance_CD14_Mono\"]=df_sub[\"e_distance_CD14 Mono\"]\n",
    "df_sub[\"deg_decoded_r_squared_CD14_Mono\"]= df_sub[\"deg_decoded_r_squared_CD14 Mono\"]"
   ]
  },
  {
   "cell_type": "code",
   "execution_count": null,
   "id": "66fa2400-a217-4bf7-abf9-08489b0f9fc0",
   "metadata": {},
   "outputs": [],
   "source": [
    "df_sub.to_csv(\"/lustre/groups/ml01/workspace/ot_perturbation/data/pbmc/results/allocation/metrics_sub.csv\")"
   ]
  },
  {
   "cell_type": "code",
   "execution_count": null,
   "id": "89cb43e9-2415-47f5-ace4-aa5e4a0631c7",
   "metadata": {},
   "outputs": [],
   "source": [
    "import seaborn as sns\n",
    "sns.barplot(df_sub, x=\"method2\" ,y=\"e_distance_CD14 Mono\")"
   ]
  },
  {
   "cell_type": "code",
   "execution_count": null,
   "id": "c286aba1-17b5-4f33-83b5-7804fc766ecc",
   "metadata": {},
   "outputs": [],
   "source": [
    "sns.barplot(df_sub, x=\"method2\" ,y=\"ood_e_distance\")"
   ]
  },
  {
   "cell_type": "code",
   "execution_count": null,
   "id": "8598d943-15c7-4591-9744-0fd72fa27389",
   "metadata": {},
   "outputs": [],
   "source": [
    "list(df_sub.columns)"
   ]
  },
  {
   "cell_type": "code",
   "execution_count": null,
   "id": "faadf036-c1ca-40d9-9598-551edaccad00",
   "metadata": {},
   "outputs": [],
   "source": [
    "ct_palette"
   ]
  },
  {
   "cell_type": "code",
   "execution_count": null,
   "id": "a4f2c4a6-d22c-4f76-b491-6f228a409ff0",
   "metadata": {},
   "outputs": [],
   "source": []
  }
 ],
 "metadata": {
  "kernelspec": {
   "display_name": "cfp",
   "language": "python",
   "name": "cfp"
  },
  "language_info": {
   "codemirror_mode": {
    "name": "ipython",
    "version": 3
   },
   "file_extension": ".py",
   "mimetype": "text/x-python",
   "name": "python",
   "nbconvert_exporter": "python",
   "pygments_lexer": "ipython3",
   "version": "3.11.9"
  }
 },
 "nbformat": 4,
 "nbformat_minor": 5
}
