{
 "cells": [
  {
   "cell_type": "code",
   "execution_count": 1,
   "id": "2e872caf-0521-4c34-badd-263ee664c6ba",
   "metadata": {},
   "outputs": [
    {
     "name": "stderr",
     "output_type": "stream",
     "text": [
      "/home/icb/dominik.klein/mambaforge/envs/cfp/lib/python3.11/site-packages/optuna/study/_optimize.py:29: TqdmWarning: IProgress not found. Please update jupyter and ipywidgets. See https://ipywidgets.readthedocs.io/en/stable/user_install.html\n",
      "  from optuna import progress_bar as pbar_module\n"
     ]
    }
   ],
   "source": [
    "import scanpy as sc\n",
    "import os\n",
    "import random\n",
    "import pickle\n",
    "import pandas as pd\n",
    "from sklearn.metrics.pairwise import cosine_similarity"
   ]
  },
  {
   "cell_type": "code",
   "execution_count": 2,
   "id": "2544c1c7-e96b-4014-b434-b4c7ba850c0d",
   "metadata": {},
   "outputs": [],
   "source": [
    "data_dir = \"/lustre/groups/ml01/workspace/ot_perturbation/data/pbmc\""
   ]
  },
  {
   "cell_type": "code",
   "execution_count": 3,
   "id": "8cfb1252-f381-43e8-8db3-2c919388f00e",
   "metadata": {},
   "outputs": [],
   "source": [
    "adata = sc.read_h5ad(\"/lustre/groups/ml01/workspace/ot_perturbation/data/pbmc/adata_hvg2000_LV.h5ad\")"
   ]
  },
  {
   "cell_type": "code",
   "execution_count": 4,
   "id": "9bfb6c60-48a3-4746-bedc-2cb28f65e71b",
   "metadata": {},
   "outputs": [],
   "source": [
    "df_cytokines = pd.read_excel(\"/home/icb/dominik.klein/git_repos/ot_pert_new/notebooks/prepare_data/pbmc_cytokines/20250107_cytokines_mouse_vs_human_LV.xlsx\")"
   ]
  },
  {
   "cell_type": "code",
   "execution_count": 6,
   "id": "949dc226-b869-4c67-9d19-285a249dd92a",
   "metadata": {},
   "outputs": [],
   "source": [
    "unique_donors = adata.obs[\"donor\"].unique()\n",
    "unique_cytokines = list(set(adata.obs[\"cytokine\"].unique()) - set([\"PBS\"]))"
   ]
  },
  {
   "cell_type": "code",
   "execution_count": 7,
   "id": "30b82ded-438a-49cf-8868-ab0421730f00",
   "metadata": {},
   "outputs": [
    {
     "name": "stdout",
     "output_type": "stream",
     "text": [
      "IFN-epsilon\n",
      "LT-alpha2-beta1\n",
      "IFN-lambda2\n",
      "IL-1-beta\n",
      "IL-1-alpha\n",
      "LT-alpha1-beta2\n",
      "IFN-beta\n",
      "IL-36-alpha\n",
      "IFN-alpha1\n",
      "FGF-beta\n",
      "TGF-beta1\n",
      "TNF-alpha\n",
      "IFN-gamma\n"
     ]
    }
   ],
   "source": [
    "cyto_to_family = {}\n",
    "for cyto in unique_cytokines:\n",
    "    try:\n",
    "        cyto_to_family[cyto] = df_cytokines[df_cytokines[\"Cytokine\"]==cyto][\"Family\"].values[0]\n",
    "    except:\n",
    "        print(cyto)"
   ]
  },
  {
   "cell_type": "code",
   "execution_count": 8,
   "id": "cb6188ce-6ae0-441b-bee3-a348e289206c",
   "metadata": {},
   "outputs": [],
   "source": [
    "cyto_to_family[\"LT-alpha2-beta1\"] = \"TNF\"\n",
    "cyto_to_family[\"LT-alpha1-beta2\"] = \"TNF\"\n",
    "cyto_to_family[\"IFN-gamma\"] =\"Interferon\"\n",
    "cyto_to_family[\"IL-36-alpha\"] = \"IL-1\"\n",
    "cyto_to_family[\"IFN-alpha1\"] = \"Interferon\"\n",
    "cyto_to_family[\"FGF-beta\"] = \"Growth factor\"\n",
    "cyto_to_family[\"IL-1-alpha\"] = \"IL-1\"\n",
    "cyto_to_family[\"IL-1-beta\"] = \"IL-1\"\n",
    "cyto_to_family[\"IFN-beta\"] = \"Interferon\"\n",
    "cyto_to_family[\"TNF-alpha\"] = \"TNF\"\n",
    "cyto_to_family[\"IFN-lambda2\"] = \"Interferon\"\n",
    "cyto_to_family[\"IFN-epsilon\"] = \"Interferon\"\n",
    "cyto_to_family[\"TGF-beta1\"] = \"Other\""
   ]
  },
  {
   "cell_type": "code",
   "execution_count": 10,
   "id": "7367bba1-03f5-41b9-ac48-8f7a0b851b03",
   "metadata": {},
   "outputs": [
    {
     "data": {
      "text/plain": [
       "90"
      ]
     },
     "execution_count": 10,
     "metadata": {},
     "output_type": "execute_result"
    }
   ],
   "source": [
    "len(cyto_to_family)"
   ]
  },
  {
   "cell_type": "code",
   "execution_count": 9,
   "id": "0ef9ac06-5458-4fbb-bca2-c56066ce3660",
   "metadata": {},
   "outputs": [],
   "source": [
    "with open(\"/lustre/groups/ml01/workspace/ot_perturbation/data/pbmc/cyto_to_fam.pkl\", \"wb\") as file:\n",
    "    pickle.dump(cyto_to_family, file)\n"
   ]
  },
  {
   "cell_type": "code",
   "execution_count": 11,
   "id": "868ad3a4-56a2-4127-9899-41fe2b173e15",
   "metadata": {},
   "outputs": [],
   "source": [
    "df_fam = pd.DataFrame.from_dict(cyto_to_family, orient='index', columns=['family'])"
   ]
  },
  {
   "cell_type": "code",
   "execution_count": 12,
   "id": "25f0b528-8e2c-406d-8940-4dfa9a758af7",
   "metadata": {},
   "outputs": [
    {
     "data": {
      "text/plain": [
       "family\n",
       "TNF                             17\n",
       "Growth factor                   11\n",
       "IL-6/IL-12                      10\n",
       "Other                            9\n",
       "Interferon                       8\n",
       "Common γ chain/IL-13/TSLP        8\n",
       "IL-1                             7\n",
       "IL-17                            6\n",
       "IL-10                            5\n",
       "Common β chain                   3\n",
       "Interleukin - non-classified     2\n",
       "Complement                       2\n",
       "IL-10 (IL-20 subfamily)          1\n",
       "Chemokine                        1\n",
       "Name: count, dtype: int64"
      ]
     },
     "execution_count": 12,
     "metadata": {},
     "output_type": "execute_result"
    }
   ],
   "source": [
    "df_fam[\"family\"].value_counts()"
   ]
  },
  {
   "cell_type": "code",
   "execution_count": 15,
   "id": "a2a90e2d-d3c3-43e2-8f49-a543708f2644",
   "metadata": {},
   "outputs": [],
   "source": []
  },
  {
   "cell_type": "code",
   "execution_count": null,
   "id": "edfe8484-58f7-4422-ab60-11558e5dd3b0",
   "metadata": {},
   "outputs": [],
   "source": []
  }
 ],
 "metadata": {
  "kernelspec": {
   "display_name": "cfp",
   "language": "python",
   "name": "cfp"
  },
  "language_info": {
   "codemirror_mode": {
    "name": "ipython",
    "version": 3
   },
   "file_extension": ".py",
   "mimetype": "text/x-python",
   "name": "python",
   "nbconvert_exporter": "python",
   "pygments_lexer": "ipython3",
   "version": "3.11.9"
  }
 },
 "nbformat": 4,
 "nbformat_minor": 5
}
