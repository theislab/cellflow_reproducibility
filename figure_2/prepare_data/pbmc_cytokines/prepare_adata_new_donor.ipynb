{
 "cells": [
  {
   "cell_type": "code",
   "execution_count": 1,
   "id": "2e872caf-0521-4c34-badd-263ee664c6ba",
   "metadata": {},
   "outputs": [
    {
     "name": "stderr",
     "output_type": "stream",
     "text": [
      "/home/icb/dominik.klein/mambaforge/envs/cfp/lib/python3.11/site-packages/optuna/study/_optimize.py:29: TqdmWarning: IProgress not found. Please update jupyter and ipywidgets. See https://ipywidgets.readthedocs.io/en/stable/user_install.html\n",
      "  from optuna import progress_bar as pbar_module\n"
     ]
    }
   ],
   "source": [
    "import scanpy as sc\n",
    "import cfp\n",
    "import os\n",
    "import random\n",
    "import numpy as np\n",
    "import pickle\n",
    "import anndata as ad"
   ]
  },
  {
   "cell_type": "code",
   "execution_count": 2,
   "id": "2544c1c7-e96b-4014-b434-b4c7ba850c0d",
   "metadata": {},
   "outputs": [],
   "source": [
    "data_dir = \"/lustre/groups/ml01/workspace/ot_perturbation/data/pbmc\""
   ]
  },
  {
   "cell_type": "code",
   "execution_count": 3,
   "id": "8cfb1252-f381-43e8-8db3-2c919388f00e",
   "metadata": {},
   "outputs": [],
   "source": [
    "adata = sc.read_h5ad(\"/lustre/groups/ml01/workspace/ot_perturbation/data/pbmc/adata_hvg2000_LV.h5ad\")"
   ]
  },
  {
   "cell_type": "code",
   "execution_count": 4,
   "id": "4a372025-7c40-4ad8-8a06-0ef68728b058",
   "metadata": {},
   "outputs": [
    {
     "data": {
      "text/plain": [
       "AnnData object with n_obs × n_vars = 9697974 × 2000\n",
       "    obs: 'sample', 'species', 'gene_count', 'tscp_count', 'mread_count', 'bc1_wind', 'bc2_wind', 'bc3_wind', 'bc1_well', 'bc2_well', 'bc3_well', 'log1p_n_genes_by_counts', 'log1p_total_counts', 'total_counts_MT', 'pct_counts_MT', 'log1p_total_counts_MT', 'donor', 'cytokine', 'treatment', 'cell_type'\n",
       "    var: 'n_cells', 'highly_variable', 'means', 'dispersions', 'dispersions_norm'\n",
       "    uns: 'hvg', 'log1p'\n",
       "    layers: 'counts'"
      ]
     },
     "execution_count": 4,
     "metadata": {},
     "output_type": "execute_result"
    }
   ],
   "source": [
    "adata"
   ]
  },
  {
   "cell_type": "code",
   "execution_count": 5,
   "id": "43ea7143-644b-4d71-bbe2-a170ddd7142e",
   "metadata": {},
   "outputs": [
    {
     "name": "stdout",
     "output_type": "stream",
     "text": [
      "WARNING: adata.X seems to be already log-transformed.\n"
     ]
    }
   ],
   "source": [
    "adata.X = adata.layers[\"counts\"]\n",
    "sc.pp.normalize_total(adata, target_sum=1e4)\n",
    "sc.pp.log1p(adata)"
   ]
  },
  {
   "cell_type": "code",
   "execution_count": 6,
   "id": "19ca352b-929e-4ac4-9510-099c94e353f7",
   "metadata": {},
   "outputs": [],
   "source": [
    "esm_data_dir = \"/lustre/groups/ml01/workspace/ot_perturbation/data/pbmc\"\n",
    "with open(os.path.join(esm_data_dir, \"esm2_embeddings.pkl\"), \"rb\") as file:\n",
    "    esm2_embeddings = pickle.load(file)\n",
    "\n",
    "adata.uns[\"esm2_embeddings\"] = esm2_embeddings"
   ]
  },
  {
   "cell_type": "code",
   "execution_count": 7,
   "id": "0ae98bec-5e10-4a6d-8ec5-33d6ba74fb0b",
   "metadata": {},
   "outputs": [],
   "source": [
    "def get_donor_embeddings(adata: ad.AnnData) -> None:\n",
    "    adata.uns[\"donor_embeddings\"] = {}\n",
    "    for donor in adata.obs[\"donor\"].unique():\n",
    "        pbs_gex = adata[(adata.obs[\"donor\"]==donor) & (adata.obs[\"cytokine\"]==\"PBS\")]\n",
    "        adata.uns[\"donor_embeddings\"][donor] = np.array(pbs_gex.X.mean(axis=0))"
   ]
  },
  {
   "cell_type": "code",
   "execution_count": 8,
   "id": "2bd3d79a-b9d1-480e-af73-444af03a0284",
   "metadata": {},
   "outputs": [],
   "source": [
    "get_donor_embeddings(adata)"
   ]
  },
  {
   "cell_type": "code",
   "execution_count": 9,
   "id": "50c413a7-737c-4a03-8352-7459548df511",
   "metadata": {},
   "outputs": [],
   "source": [
    "adata.obs[\"condition\"] = adata.obs[\"sample\"]"
   ]
  },
  {
   "cell_type": "code",
   "execution_count": 10,
   "id": "3ca3fa9c-bd12-4c77-b05a-a4583189ab0c",
   "metadata": {},
   "outputs": [],
   "source": [
    "adata.obs[\"is_control\"] = adata.obs.apply(lambda x: True if x[\"treatment\"]==\"PBS\" else False, axis=1)"
   ]
  },
  {
   "cell_type": "code",
   "execution_count": 11,
   "id": "61b438a3-7e0c-43bb-858b-b2663fc8e904",
   "metadata": {},
   "outputs": [
    {
     "data": {
      "text/plain": [
       "array(['OX40L', 'IL-32-beta', 'IL-1Ra', 'IFN-gamma', 'IFN-omega', 'BAFF',\n",
       "       'CD27L', 'ADSF', 'FasL', 'M-CSF'], dtype=object)"
      ]
     },
     "execution_count": 11,
     "metadata": {},
     "output_type": "execute_result"
    }
   ],
   "source": [
    "rng = np.random.default_rng(0)\n",
    "\n",
    "unique_cytokines = adata.obs[\"cytokine\"].unique()\n",
    "cytokines_to_impute = rng.choice(unique_cytokines, size=10)\n",
    "\n",
    "unique_cytokines = list(set(unique_cytokines)-set([\"PBS\"]).union(set(cytokines_to_impute)))\n",
    "cytokines_to_impute"
   ]
  },
  {
   "cell_type": "code",
   "execution_count": 12,
   "id": "39bdd0db-4ea0-4b1d-a060-96ab76e1c611",
   "metadata": {},
   "outputs": [],
   "source": [
    "num_observed_cytokines = [1,2,4,8,16,32,64,80]"
   ]
  },
  {
   "cell_type": "code",
   "execution_count": 13,
   "id": "097706d0-0598-4b6f-aabb-8411d291f310",
   "metadata": {},
   "outputs": [],
   "source": [
    "cytokines_to_train_data = {}\n",
    "for k in num_observed_cytokines:\n",
    "    res = []\n",
    "    for i in range(3):\n",
    "        candidate = rng.choice(unique_cytokines, size=k, replace=False)\n",
    "        res.append(list(candidate) + [\"PBS\"])\n",
    "    \n",
    "    cytokines_to_train_data[str(k)] = res"
   ]
  },
  {
   "cell_type": "code",
   "execution_count": 14,
   "id": "6af8ae49-c03d-4662-9f29-c327b0d33b31",
   "metadata": {},
   "outputs": [],
   "source": [
    "adata.uns['cytokines_to_impute'] = cytokines_to_impute\n",
    "adata.uns['cytokines_to_train_data'] = cytokines_to_train_data"
   ]
  },
  {
   "cell_type": "code",
   "execution_count": 15,
   "id": "887babf3-4122-49b2-9037-292273d1282f",
   "metadata": {},
   "outputs": [],
   "source": [
    "adata.write(\"/lustre/groups/ml01/workspace/ot_perturbation/data/pbmc/pbmc_new_donor_processed.h5ad\")"
   ]
  },
  {
   "cell_type": "markdown",
   "id": "e9f699c1-af0c-45b6-be9d-95fec637d466",
   "metadata": {},
   "source": [
    "Choose 10 cytokines to always evaluate on.\n",
    "Then, choose 3 sets of size [1,2,4,8,16,32,64,80] of \"train cytokines\" to include, resulting in 12 x 3 x 8 = 288 models, and also include the \"OOD patient\" scenario 12 times -> 288+12=300 models. We always impute on 10 cytokines --> 3000 predictions.\n"
   ]
  }
 ],
 "metadata": {
  "kernelspec": {
   "display_name": "cfp",
   "language": "python",
   "name": "cfp"
  },
  "language_info": {
   "codemirror_mode": {
    "name": "ipython",
    "version": 3
   },
   "file_extension": ".py",
   "mimetype": "text/x-python",
   "name": "python",
   "nbconvert_exporter": "python",
   "pygments_lexer": "ipython3",
   "version": "3.11.9"
  }
 },
 "nbformat": 4,
 "nbformat_minor": 5
}
