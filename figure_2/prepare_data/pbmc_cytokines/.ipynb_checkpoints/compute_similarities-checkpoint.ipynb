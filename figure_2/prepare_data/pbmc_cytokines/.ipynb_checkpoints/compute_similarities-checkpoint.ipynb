{
 "cells": [
  {
   "cell_type": "code",
   "execution_count": 12,
   "id": "2e872caf-0521-4c34-badd-263ee664c6ba",
   "metadata": {},
   "outputs": [],
   "source": [
    "import scanpy as sc\n",
    "import os\n",
    "import random\n",
    "import pickle\n",
    "import pandas as pd\n",
    "from sklearn.metrics.pairwise import cosine_similarity\n",
    "import numpy as np"
   ]
  },
  {
   "cell_type": "code",
   "execution_count": 2,
   "id": "2544c1c7-e96b-4014-b434-b4c7ba850c0d",
   "metadata": {},
   "outputs": [],
   "source": [
    "data_dir = \"/lustre/groups/ml01/workspace/ot_perturbation/data/pbmc\""
   ]
  },
  {
   "cell_type": "code",
   "execution_count": 3,
   "id": "8cfb1252-f381-43e8-8db3-2c919388f00e",
   "metadata": {},
   "outputs": [],
   "source": [
    "adata = sc.read_h5ad(\"/lustre/groups/ml01/workspace/ot_perturbation/data/pbmc/adata_hvg2000_LV.h5ad\")"
   ]
  },
  {
   "cell_type": "code",
   "execution_count": 4,
   "id": "4a372025-7c40-4ad8-8a06-0ef68728b058",
   "metadata": {},
   "outputs": [],
   "source": [
    "with open(\"/lustre/groups/ml01/workspace/ot_perturbation/data/pbmc/cyto_order.pkl\", \"rb\") as file:\n",
    "    cyto_order = pickle.load(file)"
   ]
  },
  {
   "cell_type": "code",
   "execution_count": 5,
   "id": "43ea7143-644b-4d71-bbe2-a170ddd7142e",
   "metadata": {},
   "outputs": [
    {
     "name": "stdout",
     "output_type": "stream",
     "text": [
      "WARNING: adata.X seems to be already log-transformed.\n"
     ]
    }
   ],
   "source": [
    "adata.X = adata.layers[\"counts\"]\n",
    "sc.pp.normalize_total(adata, target_sum=1e4)\n",
    "sc.pp.log1p(adata)"
   ]
  },
  {
   "cell_type": "code",
   "execution_count": 6,
   "id": "858e3026-4b4a-49e5-8132-d7b4e34c20aa",
   "metadata": {},
   "outputs": [],
   "source": [
    "unique_donors = adata.obs[\"donor\"].unique()\n",
    "unique_cytokines = list(set(adata.obs[\"cytokine\"].unique()) - set([\"PBS\"]))"
   ]
  },
  {
   "cell_type": "code",
   "execution_count": 7,
   "id": "b80bcb88-d614-4693-8d88-29d2b3e4f4e0",
   "metadata": {},
   "outputs": [],
   "source": [
    "donor_control_vecs = {}\n",
    "for donor in unique_donors:\n",
    "    donor_control_vecs[donor] = adata[(adata.obs[\"donor\"]==donor) & (adata.obs[\"cytokine\"]==\"PBS\")].X.mean(axis=0)"
   ]
  },
  {
   "cell_type": "code",
   "execution_count": 13,
   "id": "d88c2901-d44d-44f5-a493-9fdb75018ee4",
   "metadata": {},
   "outputs": [],
   "source": [
    "donor_cytokine_displacements = {}\n",
    "for donor in unique_donors:\n",
    "    donor_cytokine_displacements[donor] = {}\n",
    "    for cytokine in unique_cytokines:\n",
    "        donor_cytokine_displacements[donor][cytokine] = np.asarray(adata[(adata.obs[\"donor\"]==donor) & (adata.obs[\"cytokine\"]==cytokine)].X.mean(axis=0) -donor_control_vecs[donor])\n",
    "    "
   ]
  },
  {
   "cell_type": "code",
   "execution_count": 16,
   "id": "3eab00a4-cf12-4e6c-9b92-cb0140a0a81e",
   "metadata": {},
   "outputs": [],
   "source": [
    "import json\n",
    "with open(\"/lustre/groups/ml01/workspace/ot_perturbation/data/pbmc/donor_cytokine_displacements.pkl\", \"wb\") as file:\n",
    "    pickle.dump(donor_cytokine_displacements, file)"
   ]
  }
 ],
 "metadata": {
  "kernelspec": {
   "display_name": "cfp",
   "language": "python",
   "name": "cfp"
  },
  "language_info": {
   "codemirror_mode": {
    "name": "ipython",
    "version": 3
   },
   "file_extension": ".py",
   "mimetype": "text/x-python",
   "name": "python",
   "nbconvert_exporter": "python",
   "pygments_lexer": "ipython3",
   "version": "3.11.9"
  }
 },
 "nbformat": 4,
 "nbformat_minor": 5
}
