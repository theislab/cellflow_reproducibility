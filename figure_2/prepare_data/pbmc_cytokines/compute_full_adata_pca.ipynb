{
 "cells": [
  {
   "cell_type": "code",
   "execution_count": 1,
   "id": "2e872caf-0521-4c34-badd-263ee664c6ba",
   "metadata": {},
   "outputs": [
    {
     "name": "stderr",
     "output_type": "stream",
     "text": [
      "/home/icb/dominik.klein/mambaforge/envs/cfp/lib/python3.11/site-packages/optuna/study/_optimize.py:29: TqdmWarning: IProgress not found. Please update jupyter and ipywidgets. See https://ipywidgets.readthedocs.io/en/stable/user_install.html\n",
      "  from optuna import progress_bar as pbar_module\n"
     ]
    }
   ],
   "source": [
    "import scanpy as sc\n",
    "import cfp\n",
    "import os\n",
    "import random\n",
    "import pickle\n",
    "import pandas as pd"
   ]
  },
  {
   "cell_type": "code",
   "execution_count": 2,
   "id": "2544c1c7-e96b-4014-b434-b4c7ba850c0d",
   "metadata": {},
   "outputs": [],
   "source": [
    "data_dir = \"/lustre/groups/ml01/workspace/ot_perturbation/data/pbmc\""
   ]
  },
  {
   "cell_type": "code",
   "execution_count": 3,
   "id": "8cfb1252-f381-43e8-8db3-2c919388f00e",
   "metadata": {},
   "outputs": [],
   "source": [
    "adata = sc.read_h5ad(\"/lustre/groups/ml01/workspace/ot_perturbation/data/pbmc/adata_hvg2000_LV.h5ad\")"
   ]
  },
  {
   "cell_type": "code",
   "execution_count": 4,
   "id": "4a372025-7c40-4ad8-8a06-0ef68728b058",
   "metadata": {},
   "outputs": [
    {
     "data": {
      "text/plain": [
       "AnnData object with n_obs × n_vars = 9697974 × 2000\n",
       "    obs: 'sample', 'species', 'gene_count', 'tscp_count', 'mread_count', 'bc1_wind', 'bc2_wind', 'bc3_wind', 'bc1_well', 'bc2_well', 'bc3_well', 'log1p_n_genes_by_counts', 'log1p_total_counts', 'total_counts_MT', 'pct_counts_MT', 'log1p_total_counts_MT', 'donor', 'cytokine', 'treatment', 'cell_type'\n",
       "    var: 'n_cells', 'highly_variable', 'means', 'dispersions', 'dispersions_norm'\n",
       "    uns: 'hvg', 'log1p'\n",
       "    layers: 'counts'"
      ]
     },
     "execution_count": 4,
     "metadata": {},
     "output_type": "execute_result"
    }
   ],
   "source": [
    "adata"
   ]
  },
  {
   "cell_type": "code",
   "execution_count": 5,
   "id": "43ea7143-644b-4d71-bbe2-a170ddd7142e",
   "metadata": {},
   "outputs": [
    {
     "name": "stdout",
     "output_type": "stream",
     "text": [
      "WARNING: adata.X seems to be already log-transformed.\n"
     ]
    }
   ],
   "source": [
    "adata.X = adata.layers[\"counts\"]\n",
    "sc.pp.normalize_total(adata, target_sum=1e4)\n",
    "sc.pp.log1p(adata)"
   ]
  },
  {
   "cell_type": "code",
   "execution_count": 6,
   "id": "19ca352b-929e-4ac4-9510-099c94e353f7",
   "metadata": {},
   "outputs": [
    {
     "name": "stderr",
     "output_type": "stream",
     "text": [
      "/tmp/ipykernel_2225788/1232491902.py:1: DtypeWarning: Columns (4) have mixed types. Specify dtype option on import or set low_memory=False.\n",
      "  annotations = pd.read_csv(\"/lustre/groups/ml01/workspace/ten_million/data/data_2024_12_16/new_cell_type_annotations.csv\", index_col=0)\n"
     ]
    }
   ],
   "source": [
    "annotations = pd.read_csv(\"/lustre/groups/ml01/workspace/ten_million/data/data_2024_12_16/new_cell_type_annotations.csv\", index_col=0)\n",
    "adata.obs[\"cell_type_new\"] = annotations[\"cell_type_new\"] "
   ]
  },
  {
   "cell_type": "code",
   "execution_count": 7,
   "id": "50c413a7-737c-4a03-8352-7459548df511",
   "metadata": {},
   "outputs": [],
   "source": [
    "adata.obs[\"condition\"] = adata.obs[\"sample\"]"
   ]
  },
  {
   "cell_type": "code",
   "execution_count": 8,
   "id": "3ca3fa9c-bd12-4c77-b05a-a4583189ab0c",
   "metadata": {},
   "outputs": [],
   "source": [
    "adata.obs[\"is_control\"] = adata.obs.apply(lambda x: True if x[\"treatment\"]==\"PBS\" else False, axis=1)"
   ]
  },
  {
   "cell_type": "code",
   "execution_count": null,
   "id": "fcfba259-f422-453e-8a9f-5b945e4e2e85",
   "metadata": {},
   "outputs": [],
   "source": [
    "cfp.preprocessing.centered_pca(adata, n_comps=30)"
   ]
  },
  {
   "cell_type": "code",
   "execution_count": null,
   "id": "887babf3-4122-49b2-9037-292273d1282f",
   "metadata": {},
   "outputs": [],
   "source": [
    "adata.write(\"/lustre/groups/ml01/workspace/ot_perturbation/data/pbmc/pbmc_with_pca.h5ad\")"
   ]
  },
  {
   "cell_type": "markdown",
   "id": "e9f699c1-af0c-45b6-be9d-95fec637d466",
   "metadata": {},
   "source": [
    "For each cytokine select 6 patients randomly. \n",
    "Impute each of the 6 patients' GEX profile trained on 0, 1, 2, 3, 4, 5, 6, 7,8,9,10,11 included other patients. This means training 7+6=13 models and 8*6=48 inferred populations for each cytokine.\n",
    "\n",
    "All in all, this is 90*13=1170 models, and 90*48=4320 inferred populations.\n",
    "\n",
    "Naming conventions are f\"{cytokine_held_out}_{donor_held_out}_{number_of_included_patients}\""
   ]
  },
  {
   "cell_type": "code",
   "execution_count": null,
   "id": "b80bcb88-d614-4693-8d88-29d2b3e4f4e0",
   "metadata": {},
   "outputs": [],
   "source": [
    "ADSF           218\n",
    "4-1BBL         218\n",
    "BAFF           218\n",
    "Noggin         218\n",
    "OSM            218\n",
    "OX40L          218\n",
    "IFN-epsilon    218\n",
    "IL-15          218\n",
    "IFN-beta"
   ]
  }
 ],
 "metadata": {
  "kernelspec": {
   "display_name": "cfp",
   "language": "python",
   "name": "cfp"
  },
  "language_info": {
   "codemirror_mode": {
    "name": "ipython",
    "version": 3
   },
   "file_extension": ".py",
   "mimetype": "text/x-python",
   "name": "python",
   "nbconvert_exporter": "python",
   "pygments_lexer": "ipython3",
   "version": "3.11.9"
  }
 },
 "nbformat": 4,
 "nbformat_minor": 5
}
