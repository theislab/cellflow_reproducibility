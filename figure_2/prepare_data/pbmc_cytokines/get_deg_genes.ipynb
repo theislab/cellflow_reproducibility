{
 "cells": [
  {
   "cell_type": "code",
   "execution_count": 1,
   "id": "e1775e1a-e2a7-4099-9982-218b98314eb4",
   "metadata": {},
   "outputs": [],
   "source": [
    "import warnings\n",
    "warnings.filterwarnings('ignore')\n"
   ]
  },
  {
   "cell_type": "code",
   "execution_count": 2,
   "id": "37f9e6d2-3728-4415-8f0a-0fa4bb10b903",
   "metadata": {},
   "outputs": [],
   "source": [
    "import scanpy as sc\n",
    "import pandas as pd\n",
    "import numpy as np"
   ]
  },
  {
   "cell_type": "code",
   "execution_count": 3,
   "id": "04de92f3-6427-44d6-a63f-3a676bf39e73",
   "metadata": {},
   "outputs": [],
   "source": [
    "adata = sc.read_h5ad(\"/lustre/groups/ml01/workspace/ot_perturbation/data/pbmc/adata_hvg2000_LV.h5ad\")"
   ]
  },
  {
   "cell_type": "code",
   "execution_count": 4,
   "id": "c627fd9d-5623-4d1d-8b18-0a95183375a4",
   "metadata": {},
   "outputs": [],
   "source": [
    "annotations = pd.read_csv(\"/lustre/groups/ml01/workspace/ten_million/data/data_2024_12_16/new_cell_type_annotations.csv\", index_col=0)"
   ]
  },
  {
   "cell_type": "code",
   "execution_count": 5,
   "id": "eefcedb8-4cce-408e-8842-cf44b831903c",
   "metadata": {},
   "outputs": [],
   "source": [
    "adata.obs[\"cell_type_new\"] = annotations[\"cell_type_new\"] "
   ]
  },
  {
   "cell_type": "code",
   "execution_count": 6,
   "id": "488ab8e3-4812-4b92-9db0-acfd14de26e1",
   "metadata": {},
   "outputs": [],
   "source": [
    "adata.obs[\"donor_cell_type\"] = adata.obs.apply(lambda x: x[\"donor\"] + \"_\" + x[\"cell_type_new\"], axis=1)"
   ]
  },
  {
   "cell_type": "code",
   "execution_count": 7,
   "id": "0884dff2-8d3a-4798-9afa-31637db31122",
   "metadata": {},
   "outputs": [
    {
     "name": "stdout",
     "output_type": "stream",
     "text": [
      "WARNING: adata.X seems to be already log-transformed.\n"
     ]
    }
   ],
   "source": [
    "adata.X = adata.layers[\"counts\"]\n",
    "sc.pp.normalize_total(adata, target_sum=1e4)\n",
    "sc.pp.log1p(adata)"
   ]
  },
  {
   "cell_type": "code",
   "execution_count": 8,
   "id": "8e7ae4f7-ebf4-45c6-8b3e-7cb21ccc0f46",
   "metadata": {},
   "outputs": [],
   "source": [
    "adata.obs[\"donor_cell_type_pert\"] = adata.obs.apply(lambda x: x[\"donor\"] + \"_\" + x[\"cell_type_new\"] + \"_\" + x[\"cytokine\"], axis=1)\n",
    "conds = adata.obs[\"donor_cell_type_pert\"].value_counts()\n",
    "conds_to_keep = list(conds[conds>=50].index)"
   ]
  },
  {
   "cell_type": "code",
   "execution_count": 9,
   "id": "e0ffdbb6-d676-466e-81c1-1bb6abe9c734",
   "metadata": {},
   "outputs": [],
   "source": [
    "def rank_genes_groups_by_cov(\n",
    "    adata,\n",
    "    groupby,\n",
    "    control_group,\n",
    "    covariate,\n",
    "    n_genes=50,\n",
    "    rankby_abs=True,\n",
    "    key_added=\"rank_genes_groups_cov\",\n",
    "    return_dict=False,\n",
    "):\n",
    "    gene_dict = {}\n",
    "    cov_categories = adata.obs[covariate].unique()\n",
    "    for cov_cat in cov_categories:\n",
    "        adata_cov = adata[(adata.obs[covariate] == cov_cat)&(adata.obs[\"cell_type_new\"]!=\"Platelet\")]\n",
    "        if len(adata_cov.obs[\"cytokine\"].unique()) < 2:\n",
    "            continue\n",
    "        \n",
    "        if adata_cov.n_obs == 0:\n",
    "            continue\n",
    "\n",
    "        # compute DEGs\n",
    "        sc.tl.rank_genes_groups(\n",
    "            adata_cov,\n",
    "            groupby=groupby,\n",
    "            reference=control_group,\n",
    "            rankby_abs=rankby_abs,\n",
    "            n_genes=n_genes,\n",
    "            use_raw=False,\n",
    "            method=\"wilcoxon\",\n",
    "        )\n",
    "        # add entries to dictionary of gene sets\n",
    "        de_genes = pd.DataFrame(adata_cov.uns[\"rank_genes_groups\"][\"names\"])\n",
    "        for group in de_genes:\n",
    "            gene_dict[f\"{cov_cat}_{group}\"] = de_genes[group].tolist()\n",
    "    adata.uns[key_added] = gene_dict\n",
    "    if return_dict:\n",
    "        return gene_dict\n",
    "\n"
   ]
  },
  {
   "cell_type": "code",
   "execution_count": 10,
   "id": "069b82c6-ddfb-45aa-a5cd-c70a080fdb36",
   "metadata": {},
   "outputs": [],
   "source": [
    "deg_genes = rank_genes_groups_by_cov(\n",
    "    adata[adata.obs[\"donor_cell_type_pert\"].isin(conds_to_keep)],\n",
    "    groupby=\"cytokine\",\n",
    "    control_group=\"PBS\",\n",
    "    covariate=\"donor_cell_type\",\n",
    "    n_genes=50,\n",
    "    rankby_abs=True,\n",
    "    key_added=\"rank_genes_groups_cov\",\n",
    "    return_dict=True,\n",
    ")"
   ]
  },
  {
   "cell_type": "code",
   "execution_count": 11,
   "id": "373e9140-ab07-4212-acda-74fe3c743eef",
   "metadata": {},
   "outputs": [],
   "source": [
    "import pickle\n",
    "\n",
    "with open(\"/lustre/groups/ml01/workspace/ot_perturbation/data/pbmc/degs.pkl\", \"wb\") as pickle_file:\n",
    "    pickle.dump(deg_genes, pickle_file)\n"
   ]
  },
  {
   "cell_type": "code",
   "execution_count": 12,
   "id": "6002ba5e-5163-4706-b4f1-a54f6fcb5396",
   "metadata": {},
   "outputs": [
    {
     "data": {
      "text/plain": [
       "13903"
      ]
     },
     "execution_count": 12,
     "metadata": {},
     "output_type": "execute_result"
    }
   ],
   "source": [
    "len(deg_genes)"
   ]
  },
  {
   "cell_type": "code",
   "execution_count": 13,
   "id": "13f9fc44-c2cb-44bb-84c4-ba8278c8cfa0",
   "metadata": {},
   "outputs": [],
   "source": [
    "pred_file = 'treasured-meadow-414_Donor2_Noggin_11_preds.h5ad'"
   ]
  },
  {
   "cell_type": "code",
   "execution_count": 15,
   "id": "b80e852f-8ca1-40c3-9296-1136a6b2905c",
   "metadata": {},
   "outputs": [
    {
     "data": {
      "text/plain": [
       "'treasured-meadow-414_Donor2_Noggin_11'"
      ]
     },
     "execution_count": 15,
     "metadata": {},
     "output_type": "execute_result"
    }
   ],
   "source": [
    "\"_\".join(pred_file.split(\"_\")[:-1])"
   ]
  },
  {
   "cell_type": "code",
   "execution_count": null,
   "id": "72949a3f-aa80-4906-a928-dd4b2f2d06d6",
   "metadata": {},
   "outputs": [],
   "source": []
  }
 ],
 "metadata": {
  "kernelspec": {
   "display_name": "cfp",
   "language": "python",
   "name": "cfp"
  },
  "language_info": {
   "codemirror_mode": {
    "name": "ipython",
    "version": 3
   },
   "file_extension": ".py",
   "mimetype": "text/x-python",
   "name": "python",
   "nbconvert_exporter": "python",
   "pygments_lexer": "ipython3",
   "version": "3.11.9"
  }
 },
 "nbformat": 4,
 "nbformat_minor": 5
}
