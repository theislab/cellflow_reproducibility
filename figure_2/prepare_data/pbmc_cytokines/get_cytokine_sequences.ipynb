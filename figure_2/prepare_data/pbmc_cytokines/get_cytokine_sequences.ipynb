{
 "cells": [
  {
   "cell_type": "code",
   "execution_count": 1,
   "id": "f29e00e9-d04d-4ce4-88b8-2e1f941eb0f3",
   "metadata": {},
   "outputs": [
    {
     "name": "stderr",
     "output_type": "stream",
     "text": [
      "/home/icb/dominik.klein/mambaforge/envs/esm_cfp/lib/python3.12/site-packages/anndata/utils.py:429: FutureWarning: Importing read_csv from `anndata` is deprecated. Import anndata.io.read_csv instead.\n",
      "  warnings.warn(msg, FutureWarning)\n",
      "/home/icb/dominik.klein/mambaforge/envs/esm_cfp/lib/python3.12/site-packages/anndata/utils.py:429: FutureWarning: Importing read_excel from `anndata` is deprecated. Import anndata.io.read_excel instead.\n",
      "  warnings.warn(msg, FutureWarning)\n",
      "/home/icb/dominik.klein/mambaforge/envs/esm_cfp/lib/python3.12/site-packages/anndata/utils.py:429: FutureWarning: Importing read_hdf from `anndata` is deprecated. Import anndata.io.read_hdf instead.\n",
      "  warnings.warn(msg, FutureWarning)\n",
      "/home/icb/dominik.klein/mambaforge/envs/esm_cfp/lib/python3.12/site-packages/anndata/utils.py:429: FutureWarning: Importing read_loom from `anndata` is deprecated. Import anndata.io.read_loom instead.\n",
      "  warnings.warn(msg, FutureWarning)\n",
      "/home/icb/dominik.klein/mambaforge/envs/esm_cfp/lib/python3.12/site-packages/anndata/utils.py:429: FutureWarning: Importing read_mtx from `anndata` is deprecated. Import anndata.io.read_mtx instead.\n",
      "  warnings.warn(msg, FutureWarning)\n",
      "/home/icb/dominik.klein/mambaforge/envs/esm_cfp/lib/python3.12/site-packages/anndata/utils.py:429: FutureWarning: Importing read_text from `anndata` is deprecated. Import anndata.io.read_text instead.\n",
      "  warnings.warn(msg, FutureWarning)\n",
      "/home/icb/dominik.klein/mambaforge/envs/esm_cfp/lib/python3.12/site-packages/anndata/utils.py:429: FutureWarning: Importing read_umi_tools from `anndata` is deprecated. Import anndata.io.read_umi_tools instead.\n",
      "  warnings.warn(msg, FutureWarning)\n",
      "/home/icb/dominik.klein/.local/lib/python3.12/site-packages/tqdm/auto.py:21: TqdmWarning: IProgress not found. Please update jupyter and ipywidgets. See https://ipywidgets.readthedocs.io/en/stable/user_install.html\n",
      "  from .autonotebook import tqdm as notebook_tqdm\n"
     ]
    }
   ],
   "source": [
    "import os\n",
    "from dataclasses import dataclass\n",
    "from functools import cached_property\n",
    "import scanpy as sc\n",
    "import anndata as ad\n",
    "import pandas as pd\n",
    "import requests\n",
    "import torch\n",
    "from collections.abc import Callable, Iterable\n",
    "from esm import FastaBatchedDataset, pretrained\n",
    "from Bio import ExPASy\n",
    "from Bio import SwissProt\n",
    "import requests\n",
    "\n",
    "\n",
    "try:\n",
    "    import torch\n",
    "    from torch.utils.data import DataLoader\n",
    "    from transformers import AutoTokenizer, EsmModel\n",
    "except ImportError as e:\n",
    "    torch = None\n",
    "    DataLoader = None\n",
    "    AutoTokenizer = None\n",
    "    EsmModel = None\n",
    "    raise ImportError(\n",
    "        \"To use gene embedding, please install `transformers` and `torch` \\\n",
    "            e.g. via `pip install cfp['embedding']`.\"\n",
    "    ) from e"
   ]
  },
  {
   "cell_type": "code",
   "execution_count": 2,
   "id": "07213534-5683-49ed-88c1-6c6135abc2c8",
   "metadata": {},
   "outputs": [],
   "source": [
    "adata = sc.read_h5ad(\"/lustre/groups/ml01/workspace/ot_perturbation/data/pbmc/adata_hvg2000_LV.h5ad\")"
   ]
  },
  {
   "cell_type": "code",
   "execution_count": 3,
   "id": "35553c6b-c32b-44fb-b986-47aa0f1d2e75",
   "metadata": {},
   "outputs": [
    {
     "data": {
      "text/plain": [
       "90"
      ]
     },
     "execution_count": 3,
     "metadata": {},
     "output_type": "execute_result"
    }
   ],
   "source": [
    "cytokines = adata[adata.obs[\"cytokine\"]!=\"PBS\"].obs[\"cytokine\"].unique()\n",
    "len(cytokines)"
   ]
  },
  {
   "cell_type": "code",
   "execution_count": 4,
   "id": "145678f3-296c-4176-9581-09238978b8eb",
   "metadata": {},
   "outputs": [
    {
     "name": "stdout",
     "output_type": "stream",
     "text": [
      "UniProt ID: P29459, Name: {'value': 'Interleukin-12 subunit alpha'}\n",
      "UniProt ID: E9PGR3, Name: {'evidences': [{'evidenceCode': 'ECO:0000256', 'source': 'ARBA', 'id': 'ARBA00014463'}, {'evidenceCode': 'ECO:0000256', 'source': 'RuleBase', 'id': 'RU363133'}], 'value': 'Interleukin-12 subunit alpha'}\n",
      "UniProt ID: E7ENE1, Name: {'evidences': [{'evidenceCode': 'ECO:0000256', 'source': 'ARBA', 'id': 'ARBA00014463'}, {'evidenceCode': 'ECO:0000256', 'source': 'RuleBase', 'id': 'RU363133'}], 'value': 'Interleukin-12 subunit alpha'}\n",
      "UniProt ID: O60595, Name: {'evidences': [{'evidenceCode': 'ECO:0000256', 'source': 'ARBA', 'id': 'ARBA00014463'}, {'evidenceCode': 'ECO:0000256', 'source': 'RuleBase', 'id': 'RU363133'}], 'value': 'Interleukin-12 subunit alpha'}\n"
     ]
    }
   ],
   "source": [
    "def get_uniprot_id(cytokine_name, organism=\"Homo sapiens\"):\n",
    "    \"\"\"\n",
    "    Get the UniProt ID for a given cytokine name.\n",
    "\n",
    "    Parameters:\n",
    "        cytokine_name (str): Name of the cytokine (e.g., IL-12A).\n",
    "        organism (str): Organism name (default: Homo sapiens).\n",
    "\n",
    "    Returns:\n",
    "        list: A list of UniProt IDs matching the query.\n",
    "    \"\"\"\n",
    "    base_url = \"https://rest.uniprot.org/uniprotkb/search\"\n",
    "    query = f'\"{cytokine_name}\" AND (organism_name:\"{organism}\")'\n",
    "\n",
    "    params = {\n",
    "        \"query\": query,\n",
    "        \"format\": \"json\",\n",
    "        \"fields\": \"accession,id,protein_name,organism_name\"\n",
    "    }\n",
    "\n",
    "    try:\n",
    "        response = requests.get(base_url, params=params)\n",
    "        response.raise_for_status()\n",
    "        results = response.json().get(\"results\", [])\n",
    "        \n",
    "        if not results:\n",
    "            return []\n",
    "\n",
    "        uniprot_ids = [\n",
    "            {\"id\": result[\"primaryAccession\"], \n",
    "             \"name\": result.get(\"proteinDescription\", {}).get(\"recommendedName\", {}).get(\"fullName\", \"Unknown\")}\n",
    "            for result in results\n",
    "        ]\n",
    "        return uniprot_ids\n",
    "\n",
    "    except requests.exceptions.RequestException as e:\n",
    "        print(f\"Error fetching data from UniProt: {e}\")\n",
    "        return []\n",
    "\n",
    "# Example: Search for UniProt IDs for IL-12A\n",
    "cytokine_name = \"IL-12A\"\n",
    "uniprot_ids = get_uniprot_id(cytokine_name)\n",
    "\n",
    "if uniprot_ids:\n",
    "    for protein in uniprot_ids:\n",
    "        print(f\"UniProt ID: {protein['id']}, Name: {protein['name']}\")\n",
    "else:\n",
    "    print(f\"No UniProt IDs found for {cytokine_name}.\")\n"
   ]
  },
  {
   "cell_type": "code",
   "execution_count": 5,
   "id": "784a4edd-c185-46b1-bcf8-20523dab7e29",
   "metadata": {},
   "outputs": [],
   "source": [
    "res = {}\n",
    "cyto_not_found = []\n",
    "for cytokine in cytokines:\n",
    "    try:\n",
    "        res[cytokine] = get_uniprot_id(cytokine)[0]['id']\n",
    "    except IndexError:\n",
    "        cyto_not_found.append(cytokine)"
   ]
  },
  {
   "cell_type": "code",
   "execution_count": 20,
   "id": "f76413b5-da29-4a29-9f3b-6fa64ed12112",
   "metadata": {},
   "outputs": [
    {
     "name": "stdout",
     "output_type": "stream",
     "text": [
      "IL-12 IL-35\n",
      "IL-35 IL-12\n"
     ]
    }
   ],
   "source": [
    "for k1,v1 in res.items():\n",
    "    for k2,v2 in res.items():\n",
    "        if (v1==v2) and k1!=k2:\n",
    "            print(k1,k2)"
   ]
  },
  {
   "cell_type": "code",
   "execution_count": 22,
   "id": "7d8f6fe7-dcbe-435c-8f1f-1dcec41a5143",
   "metadata": {},
   "outputs": [
    {
     "data": {
      "text/plain": [
       "('Q06643', 'Q06643')"
      ]
     },
     "execution_count": 22,
     "metadata": {},
     "output_type": "execute_result"
    }
   ],
   "source": []
  },
  {
   "cell_type": "code",
   "execution_count": 6,
   "id": "c733f92c-7cea-42bf-97cd-c3e86a9109b6",
   "metadata": {},
   "outputs": [
    {
     "data": {
      "text/plain": [
       "['FGF-beta',\n",
       " 'IFN-alpha1',\n",
       " 'IFN-lambda2',\n",
       " 'IFN-lambda3',\n",
       " 'IL-32-beta',\n",
       " 'IL-36-alpha',\n",
       " 'LT-alpha1-beta2',\n",
       " 'LT-alpha2-beta1']"
      ]
     },
     "execution_count": 6,
     "metadata": {},
     "output_type": "execute_result"
    }
   ],
   "source": [
    "cyto_not_found"
   ]
  },
  {
   "cell_type": "code",
   "execution_count": 23,
   "id": "215116f1-3b95-41f5-9eff-99876ebd63c7",
   "metadata": {},
   "outputs": [],
   "source": [
    "manual_uniprot = {\n",
    "    'IL-12': 'P29459',\n",
    "    'EBI3': 'Q14213',\n",
    "    'FGF-beta': 'P09038',\n",
    "    \"IL-32-beta\": \"P24001\",\n",
    "    \"IFN-alpha1\": \"L0N195\",\n",
    "    'IFN-lambda2': \"Q8IZJ0\",\n",
    "    'IFN-lambda3': \"Q8IZI9\",\n",
    "    'IL-36-alpha': 'Q9JLA2',\n",
    "    'LT-alpha': 'P01374', #TODO: concatenate with beta to get LT-alpha1-beta2, and LT-alpha2-beta1\n",
    "    'LT-beta': 'Q06643', #TODO: concatenate with beta to get LT-alpha1-beta2, and LT-alpha2-beta1\n",
    "}"
   ]
  },
  {
   "cell_type": "code",
   "execution_count": 24,
   "id": "c4e496f2-79b8-4526-a8f8-768839e4b2fe",
   "metadata": {},
   "outputs": [],
   "source": [
    "res.update(manual_uniprot)"
   ]
  },
  {
   "cell_type": "code",
   "execution_count": 25,
   "id": "8e4b1a24-365f-4b20-bd47-e4132a888a81",
   "metadata": {},
   "outputs": [
    {
     "data": {
      "text/plain": [
       "91"
      ]
     },
     "execution_count": 25,
     "metadata": {},
     "output_type": "execute_result"
    }
   ],
   "source": [
    "len(res)"
   ]
  },
  {
   "cell_type": "code",
   "execution_count": 26,
   "id": "fd54b4dd-5f98-4547-b8f3-42a48ee9d066",
   "metadata": {},
   "outputs": [],
   "source": [
    "def fetch_amino_acid_sequence(uniprot_id):\n",
    "    \"\"\"\n",
    "    Fetch the amino acid sequence of a protein using its UniProt ID.\n",
    "    \n",
    "    Parameters:\n",
    "        uniprot_id (str): The UniProt ID of the protein.\n",
    "\n",
    "    Returns:\n",
    "        str: Amino acid sequence of the protein.\n",
    "    \"\"\"\n",
    "    try:\n",
    "        # Fetch the record from UniProt\n",
    "        handle = ExPASy.get_sprot_raw(uniprot_id)\n",
    "        record = SwissProt.read(handle)\n",
    "        \n",
    "        # Extract the amino acid sequence\n",
    "        sequence = record.sequence\n",
    "        return sequence\n",
    "    except Exception as e:\n",
    "        print(f\"Error fetching sequence: {e}\")\n",
    "        return None"
   ]
  },
  {
   "cell_type": "code",
   "execution_count": 27,
   "id": "96ba6470-e125-44f8-928a-f02c2b347c47",
   "metadata": {},
   "outputs": [],
   "source": [
    "amino_acid_seqs = {}\n",
    "for cyto, uniprot_id in res.items():\n",
    "    amino_acid_seqs[cyto] = fetch_amino_acid_sequence(uniprot_id)"
   ]
  },
  {
   "cell_type": "code",
   "execution_count": 28,
   "id": "965513dd-dbad-4606-a6ab-15f6ccbf906b",
   "metadata": {},
   "outputs": [],
   "source": [
    "amino_acid_seqs[\"LT-alpha1-beta2\"] = amino_acid_seqs[\"LT-alpha\"] + \":\" + amino_acid_seqs[\"LT-beta\"] + \":\" + amino_acid_seqs[\"LT-beta\"]\n",
    "amino_acid_seqs[\"LT-alpha2-beta1\"] = amino_acid_seqs[\"LT-alpha\"] + \":\" + amino_acid_seqs[\"LT-alpha\"] + \":\" + amino_acid_seqs[\"LT-beta\"]\n",
    "amino_acid_seqs[\"IL-35\"] = amino_acid_seqs[\"IL-12\"] + \":\" + amino_acid_seqs[\"EBI3\"] "
   ]
  },
  {
   "cell_type": "code",
   "execution_count": 29,
   "id": "e977faf0-49f3-40bf-b652-20fead093640",
   "metadata": {},
   "outputs": [
    {
     "data": {
      "text/plain": [
       "(set(), {'EBI3', 'LT-alpha', 'LT-beta'})"
      ]
     },
     "execution_count": 29,
     "metadata": {},
     "output_type": "execute_result"
    }
   ],
   "source": [
    "set(cytokines) - set(amino_acid_seqs.keys()) , set(amino_acid_seqs.keys())-set(cytokines)"
   ]
  },
  {
   "cell_type": "code",
   "execution_count": 30,
   "id": "9b812fbf-6695-42fa-bebf-ca17210bda12",
   "metadata": {},
   "outputs": [],
   "source": [
    "out_dir = \"/lustre/groups/ml01/workspace/ot_perturbation/data/pbmc\"\n",
    "with open(os.path.join(out_dir, \"cytokines.fasta\"), \"w\") as fasta_file:\n",
    "    for cytokine, seq in amino_acid_seqs.items():\n",
    "        fasta_file.write(f\">{cytokine}\\n\")\n",
    "        fasta_file.write(f\"{seq}\\n\")"
   ]
  },
  {
   "cell_type": "code",
   "execution_count": null,
   "id": "15e57046-3e7a-489e-853c-1ba33bdbd8ee",
   "metadata": {},
   "outputs": [],
   "source": []
  }
 ],
 "metadata": {
  "kernelspec": {
   "display_name": "esm_cfp",
   "language": "python",
   "name": "esm_cfp"
  },
  "language_info": {
   "codemirror_mode": {
    "name": "ipython",
    "version": 3
   },
   "file_extension": ".py",
   "mimetype": "text/x-python",
   "name": "python",
   "nbconvert_exporter": "python",
   "pygments_lexer": "ipython3",
   "version": "3.12.7"
  }
 },
 "nbformat": 4,
 "nbformat_minor": 5
}
