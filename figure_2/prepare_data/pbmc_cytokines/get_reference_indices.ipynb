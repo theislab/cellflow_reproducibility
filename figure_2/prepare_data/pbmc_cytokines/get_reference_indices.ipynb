{
 "cells": [
  {
   "cell_type": "code",
   "execution_count": 1,
   "id": "6dbaf10e-c488-4811-bf73-07ea06f89cee",
   "metadata": {},
   "outputs": [
    {
     "name": "stderr",
     "output_type": "stream",
     "text": [
      "/home/icb/dominik.klein/mambaforge/envs/cfp/lib/python3.11/site-packages/optuna/study/_optimize.py:29: TqdmWarning: IProgress not found. Please update jupyter and ipywidgets. See https://ipywidgets.readthedocs.io/en/stable/user_install.html\n",
      "  from optuna import progress_bar as pbar_module\n"
     ]
    }
   ],
   "source": [
    "import scanpy as sc\n",
    "import pandas as pd\n",
    "import numpy as np\n",
    "import cfp"
   ]
  },
  {
   "cell_type": "code",
   "execution_count": 2,
   "id": "be0a3a9f-769a-4350-afe3-bcb046bc8ece",
   "metadata": {},
   "outputs": [],
   "source": [
    "adata=sc.read_h5ad(\"/lustre/groups/ml01/workspace/ot_perturbation/data/pbmc/pbmc_new_cytokine_processed.h5ad\")"
   ]
  },
  {
   "cell_type": "code",
   "execution_count": 3,
   "id": "f081c585-9e71-4fc0-9c49-3cbbf4c55d0e",
   "metadata": {},
   "outputs": [
    {
     "name": "stderr",
     "output_type": "stream",
     "text": [
      "/tmp/ipykernel_3711382/189709436.py:1: DtypeWarning: Columns (4) have mixed types. Specify dtype option on import or set low_memory=False.\n",
      "  annotations = pd.read_csv(\"/lustre/groups/ml01/workspace/ten_million/data/data_2024_12_16/new_cell_type_annotations.csv\", index_col=0)\n"
     ]
    }
   ],
   "source": [
    "annotations = pd.read_csv(\"/lustre/groups/ml01/workspace/ten_million/data/data_2024_12_16/new_cell_type_annotations.csv\", index_col=0)"
   ]
  },
  {
   "cell_type": "code",
   "execution_count": 4,
   "id": "8082014d-e384-47d3-824f-485677188fe6",
   "metadata": {},
   "outputs": [
    {
     "data": {
      "text/html": [
       "<div>\n",
       "<style scoped>\n",
       "    .dataframe tbody tr th:only-of-type {\n",
       "        vertical-align: middle;\n",
       "    }\n",
       "\n",
       "    .dataframe tbody tr th {\n",
       "        vertical-align: top;\n",
       "    }\n",
       "\n",
       "    .dataframe thead th {\n",
       "        text-align: right;\n",
       "    }\n",
       "</style>\n",
       "<table border=\"1\" class=\"dataframe\">\n",
       "  <thead>\n",
       "    <tr style=\"text-align: right;\">\n",
       "      <th></th>\n",
       "      <th>sample</th>\n",
       "      <th>donor</th>\n",
       "      <th>treatment</th>\n",
       "      <th>cell_type</th>\n",
       "      <th>cell_type_new</th>\n",
       "    </tr>\n",
       "  </thead>\n",
       "  <tbody>\n",
       "    <tr>\n",
       "      <th>89_001_008__s1</th>\n",
       "      <td>Donor1_4-1BBL</td>\n",
       "      <td>Donor1</td>\n",
       "      <td>cytokine</td>\n",
       "      <td>CD8 Naive</td>\n",
       "      <td>CD8 Naive</td>\n",
       "    </tr>\n",
       "    <tr>\n",
       "      <th>89_001_021__s1</th>\n",
       "      <td>Donor1_4-1BBL</td>\n",
       "      <td>Donor1</td>\n",
       "      <td>cytokine</td>\n",
       "      <td>CD4 Naive</td>\n",
       "      <td>CD4 Naive</td>\n",
       "    </tr>\n",
       "    <tr>\n",
       "      <th>89_001_061__s1</th>\n",
       "      <td>Donor1_4-1BBL</td>\n",
       "      <td>Donor1</td>\n",
       "      <td>cytokine</td>\n",
       "      <td>CD4 Naive</td>\n",
       "      <td>CD4 Naive</td>\n",
       "    </tr>\n",
       "    <tr>\n",
       "      <th>89_001_093__s1</th>\n",
       "      <td>Donor1_4-1BBL</td>\n",
       "      <td>Donor1</td>\n",
       "      <td>cytokine</td>\n",
       "      <td>Treg</td>\n",
       "      <td>Treg</td>\n",
       "    </tr>\n",
       "    <tr>\n",
       "      <th>89_001_112__s1</th>\n",
       "      <td>Donor1_4-1BBL</td>\n",
       "      <td>Donor1</td>\n",
       "      <td>cytokine</td>\n",
       "      <td>CD4 Memory</td>\n",
       "      <td>CD4 Memory</td>\n",
       "    </tr>\n",
       "  </tbody>\n",
       "</table>\n",
       "</div>"
      ],
      "text/plain": [
       "                       sample   donor treatment   cell_type cell_type_new\n",
       "89_001_008__s1  Donor1_4-1BBL  Donor1  cytokine   CD8 Naive     CD8 Naive\n",
       "89_001_021__s1  Donor1_4-1BBL  Donor1  cytokine   CD4 Naive     CD4 Naive\n",
       "89_001_061__s1  Donor1_4-1BBL  Donor1  cytokine   CD4 Naive     CD4 Naive\n",
       "89_001_093__s1  Donor1_4-1BBL  Donor1  cytokine        Treg          Treg\n",
       "89_001_112__s1  Donor1_4-1BBL  Donor1  cytokine  CD4 Memory    CD4 Memory"
      ]
     },
     "execution_count": 4,
     "metadata": {},
     "output_type": "execute_result"
    }
   ],
   "source": [
    "annotations.head()"
   ]
  },
  {
   "cell_type": "code",
   "execution_count": 5,
   "id": "71e94272-4635-407b-8727-c275d5d73496",
   "metadata": {},
   "outputs": [],
   "source": [
    "adata.obs[\"cell_type_new\"] = annotations[\"cell_type_new\"] "
   ]
  },
  {
   "cell_type": "code",
   "execution_count": 6,
   "id": "052ca7e6-ec96-4735-b649-549a872a679e",
   "metadata": {},
   "outputs": [],
   "source": [
    "rng = np.random.default_rng(0)\n",
    "idcs_to_keep = []\n",
    "for d in adata.obs[\"donor\"].unique():\n",
    "    adata_d = adata[adata.obs[\"donor\"]==d]\n",
    "    for ct in adata.obs[\"cell_type_new\"].unique():\n",
    "        adata_tmp = adata_d[adata_d.obs[\"cell_type_new\"]==ct]\n",
    "        idcs_to_keep.extend(list(rng.choice(adata_tmp.obs_names, min(1000, adata_tmp.n_obs), replace=False)))"
   ]
  },
  {
   "cell_type": "code",
   "execution_count": 7,
   "id": "26c4466a-a015-4ac9-901c-5be8d2747054",
   "metadata": {},
   "outputs": [],
   "source": [
    "\n",
    "import pickle\n",
    "\n",
    "with open(\"/lustre/groups/ml01/workspace/ot_perturbation/data/pbmc/idcs_to_keep.pkl\", \"wb\") as pickle_file:\n",
    "    pickle.dump(idcs_to_keep, pickle_file)\n"
   ]
  },
  {
   "cell_type": "code",
   "execution_count": 8,
   "id": "ff8440cb-dd70-412b-b84c-6768a9d59aa4",
   "metadata": {},
   "outputs": [],
   "source": [
    "with open(\"/lustre/groups/ml01/workspace/ot_perturbation/data/pbmc/idcs_to_keep.pkl\", \"rb\") as pickle_file:\n",
    "        idcs_to_keep2 = pickle.load(pickle_file)\n",
    "    "
   ]
  },
  {
   "cell_type": "code",
   "execution_count": null,
   "id": "f1c899c2-f014-4d5c-a5fe-41ce93cdd65c",
   "metadata": {},
   "outputs": [],
   "source": []
  }
 ],
 "metadata": {
  "kernelspec": {
   "display_name": "cfp",
   "language": "python",
   "name": "cfp"
  },
  "language_info": {
   "codemirror_mode": {
    "name": "ipython",
    "version": 3
   },
   "file_extension": ".py",
   "mimetype": "text/x-python",
   "name": "python",
   "nbconvert_exporter": "python",
   "pygments_lexer": "ipython3",
   "version": "3.11.9"
  }
 },
 "nbformat": 4,
 "nbformat_minor": 5
}
