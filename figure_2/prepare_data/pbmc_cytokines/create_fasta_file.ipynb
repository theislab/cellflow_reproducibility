{
 "cells": [
  {
   "cell_type": "code",
   "execution_count": 6,
   "id": "ed1a3970-09c4-493c-9da5-40a1782f1243",
   "metadata": {},
   "outputs": [
    {
     "name": "stderr",
     "output_type": "stream",
     "text": [
      "/home/icb/dominik.klein/mambaforge/envs/esm_cfp/lib/python3.12/site-packages/anndata/utils.py:429: FutureWarning: Importing read_csv from `anndata` is deprecated. Import anndata.io.read_csv instead.\n",
      "  warnings.warn(msg, FutureWarning)\n",
      "/home/icb/dominik.klein/mambaforge/envs/esm_cfp/lib/python3.12/site-packages/anndata/utils.py:429: FutureWarning: Importing read_excel from `anndata` is deprecated. Import anndata.io.read_excel instead.\n",
      "  warnings.warn(msg, FutureWarning)\n",
      "/home/icb/dominik.klein/mambaforge/envs/esm_cfp/lib/python3.12/site-packages/anndata/utils.py:429: FutureWarning: Importing read_hdf from `anndata` is deprecated. Import anndata.io.read_hdf instead.\n",
      "  warnings.warn(msg, FutureWarning)\n",
      "/home/icb/dominik.klein/mambaforge/envs/esm_cfp/lib/python3.12/site-packages/anndata/utils.py:429: FutureWarning: Importing read_loom from `anndata` is deprecated. Import anndata.io.read_loom instead.\n",
      "  warnings.warn(msg, FutureWarning)\n",
      "/home/icb/dominik.klein/mambaforge/envs/esm_cfp/lib/python3.12/site-packages/anndata/utils.py:429: FutureWarning: Importing read_mtx from `anndata` is deprecated. Import anndata.io.read_mtx instead.\n",
      "  warnings.warn(msg, FutureWarning)\n",
      "/home/icb/dominik.klein/mambaforge/envs/esm_cfp/lib/python3.12/site-packages/anndata/utils.py:429: FutureWarning: Importing read_text from `anndata` is deprecated. Import anndata.io.read_text instead.\n",
      "  warnings.warn(msg, FutureWarning)\n",
      "/home/icb/dominik.klein/mambaforge/envs/esm_cfp/lib/python3.12/site-packages/anndata/utils.py:429: FutureWarning: Importing read_umi_tools from `anndata` is deprecated. Import anndata.io.read_umi_tools instead.\n",
      "  warnings.warn(msg, FutureWarning)\n"
     ]
    }
   ],
   "source": [
    "import pandas as pd\n",
    "import numpy as np\n",
    "import requests\n",
    "from Bio import Entrez\n",
    "\n",
    "import scanpy as sc"
   ]
  },
  {
   "cell_type": "code",
   "execution_count": 7,
   "id": "c025fe8c-e319-417c-b8ce-97cd636bc037",
   "metadata": {},
   "outputs": [],
   "source": [
    "adata = sc.read_h5ad(\"/lustre/groups/ml01/workspace/ten_million/data/final_data/outputDIR_LV/adata_hvg2000_LV.h5ad\")"
   ]
  },
  {
   "cell_type": "code",
   "execution_count": 8,
   "id": "1d986338-49d4-457c-b74b-f070c9cea2fe",
   "metadata": {},
   "outputs": [],
   "source": [
    "cytokines = adata.obs[\"cytokine\"].unique()"
   ]
  },
  {
   "cell_type": "code",
   "execution_count": 82,
   "id": "5406af95-6d3d-46fa-9c41-12a71efb4a26",
   "metadata": {},
   "outputs": [],
   "source": [
    "def fetch_protein_sequence(protein_name: str, return_fasta=False) -> str:\n",
    "    Entrez.email = \"your_email@example.com\"  # Replace with your email\n",
    "    # Search for the protein in the NCBI database\n",
    "    handle = Entrez.esearch(db=\"protein\", term=protein_name)\n",
    "    record = Entrez.read(handle)\n",
    "    handle.close()\n",
    "    if record['IdList']:\n",
    "        protein_id = record['IdList'][0]\n",
    "        # Fetch the protein sequence\n",
    "        handle = Entrez.efetch(db=\"protein\", id=protein_id, rettype=\"fasta\", retmode=\"text\")\n",
    "        fasta_record = handle.read()\n",
    "        handle.close()\n",
    "        if return_fasta:\n",
    "            return fasta_record.strip()  # Return the full FASTA format\n",
    "        else:\n",
    "            # Extract the amino acid sequence\n",
    "            sequence_lines = fasta_record.strip().split(\"\\n\")[1:]  # Skip the first line (header)\n",
    "            amino_sequence = ''.join(sequence_lines)  # Join the lines to get the full sequence\n",
    "            return amino_sequence\n",
    "    else:\n",
    "        return \"Protein not found.\""
   ]
  },
  {
   "cell_type": "code",
   "execution_count": 86,
   "id": "5ede8186-d617-49e7-92bf-9265a99f39e3",
   "metadata": {},
   "outputs": [],
   "source": [
    "with open(\"cytokines.fasta\", \"w\") as fasta_file:\n",
    "    for cytokine in cytokines:\n",
    "        protein_sequence = fetch_protein_sequence(cytokine)\n",
    "        fasta_file.write(f\">{cytokine}\\n\")\n",
    "        fasta_file.write(f\"{protein_sequence}\\n\")"
   ]
  },
  {
   "cell_type": "code",
   "execution_count": null,
   "id": "4dc51e55-007e-40a8-9680-36ad9464d2e6",
   "metadata": {},
   "outputs": [],
   "source": []
  }
 ],
 "metadata": {
  "kernelspec": {
   "display_name": "esm_cfp",
   "language": "python",
   "name": "esm_cfp"
  },
  "language_info": {
   "codemirror_mode": {
    "name": "ipython",
    "version": 3
   },
   "file_extension": ".py",
   "mimetype": "text/x-python",
   "name": "python",
   "nbconvert_exporter": "python",
   "pygments_lexer": "ipython3",
   "version": "3.12.7"
  }
 },
 "nbformat": 4,
 "nbformat_minor": 5
}
