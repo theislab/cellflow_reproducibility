{
 "cells": [
  {
   "cell_type": "code",
   "execution_count": 106,
   "id": "983b716d-caa5-4386-9050-d74a577a9c52",
   "metadata": {},
   "outputs": [],
   "source": [
    "import os\n",
    "import pandas as pd\n",
    "import scanpy as sc\n",
    "import seaborn as sns"
   ]
  },
  {
   "cell_type": "code",
   "execution_count": 2,
   "id": "c8aa8ba8-e50f-40a1-89d5-3aa64537f48d",
   "metadata": {},
   "outputs": [],
   "source": [
    "data_dir = \"/lustre/groups/ml01/workspace/ot_perturbation/models/identity/pbmc\""
   ]
  },
  {
   "cell_type": "code",
   "execution_count": 5,
   "id": "d867254f-6637-474e-8422-754e6190dcc5",
   "metadata": {},
   "outputs": [],
   "source": [
    "adata = sc.read_h5ad(f\"/lustre/groups/ml01/workspace/ot_perturbation/data/pbmc/pbmc_processed.h5ad\")\n"
   ]
  },
  {
   "cell_type": "code",
   "execution_count": 6,
   "id": "bd583c6a-02de-442c-8a7d-d0fddcc52276",
   "metadata": {},
   "outputs": [],
   "source": [
    "ood_conds = adata.obs[\"condition\"].unique()"
   ]
  },
  {
   "cell_type": "code",
   "execution_count": 10,
   "id": "16fc48ec-1aa4-4a76-9f4e-fc1550446be0",
   "metadata": {},
   "outputs": [],
   "source": [
    "a,b =ood_cond.split(\"_\")"
   ]
  },
  {
   "cell_type": "code",
   "execution_count": 12,
   "id": "6649fef7-ec70-4f5c-a1c9-e68644f6e799",
   "metadata": {},
   "outputs": [
    {
     "data": {
      "text/plain": [
       "'4-1BBL'"
      ]
     },
     "execution_count": 12,
     "metadata": {},
     "output_type": "execute_result"
    }
   ],
   "source": [
    "b"
   ]
  },
  {
   "cell_type": "code",
   "execution_count": 23,
   "id": "d2e13edc-22ec-475f-87e2-e362ca97a69f",
   "metadata": {},
   "outputs": [],
   "source": [
    "df_id = []\n",
    "for ood_cond in ood_conds:\n",
    "    if \"PBS\" in ood_cond:\n",
    "        continue\n",
    "    donor, cytokine = ood_cond.split(\"_\")\n",
    "    res = pd.read_csv(os.path.join(data_dir, f\"{cytokine}_{donor}_identity.csv\")).set_index(\"Unnamed: 0\").T\n",
    "    res[\"donor\"] = donor\n",
    "    res[\"cytokine\"] = cytokine\n",
    "    df_id.append(res)"
   ]
  },
  {
   "cell_type": "code",
   "execution_count": 25,
   "id": "286663e8-26d1-4ce0-9850-cc232dab84af",
   "metadata": {},
   "outputs": [],
   "source": [
    "df = pd.concat(df_id)"
   ]
  },
  {
   "cell_type": "code",
   "execution_count": 109,
   "id": "481f0a98-25f8-40ae-b007-3777c93bffa9",
   "metadata": {},
   "outputs": [
    {
     "data": {
      "text/html": [
       "<div>\n",
       "<style scoped>\n",
       "    .dataframe tbody tr th:only-of-type {\n",
       "        vertical-align: middle;\n",
       "    }\n",
       "\n",
       "    .dataframe tbody tr th {\n",
       "        vertical-align: top;\n",
       "    }\n",
       "\n",
       "    .dataframe thead th {\n",
       "        text-align: right;\n",
       "    }\n",
       "</style>\n",
       "<table border=\"1\" class=\"dataframe\">\n",
       "  <thead>\n",
       "    <tr style=\"text-align: right;\">\n",
       "      <th>Unnamed: 0</th>\n",
       "      <th>ood_r_squared</th>\n",
       "      <th>ood_e_distance</th>\n",
       "      <th>ood_mmd</th>\n",
       "      <th>decoded_ood_r_squared</th>\n",
       "      <th>donor</th>\n",
       "      <th>cytokine</th>\n",
       "    </tr>\n",
       "  </thead>\n",
       "  <tbody>\n",
       "    <tr>\n",
       "      <th>IFN-beta</th>\n",
       "      <td>0.589450</td>\n",
       "      <td>5.359480</td>\n",
       "      <td>0.010553</td>\n",
       "      <td>0.884275</td>\n",
       "      <td>Donor10</td>\n",
       "      <td>IFN-beta</td>\n",
       "    </tr>\n",
       "    <tr>\n",
       "      <th>IFN-beta</th>\n",
       "      <td>-0.335042</td>\n",
       "      <td>16.131113</td>\n",
       "      <td>0.024250</td>\n",
       "      <td>0.630397</td>\n",
       "      <td>Donor11</td>\n",
       "      <td>IFN-beta</td>\n",
       "    </tr>\n",
       "    <tr>\n",
       "      <th>IFN-beta</th>\n",
       "      <td>-0.510804</td>\n",
       "      <td>21.398124</td>\n",
       "      <td>0.025771</td>\n",
       "      <td>0.586840</td>\n",
       "      <td>Donor12</td>\n",
       "      <td>IFN-beta</td>\n",
       "    </tr>\n",
       "    <tr>\n",
       "      <th>IFN-beta</th>\n",
       "      <td>0.661350</td>\n",
       "      <td>4.629702</td>\n",
       "      <td>0.007317</td>\n",
       "      <td>0.916437</td>\n",
       "      <td>Donor1</td>\n",
       "      <td>IFN-beta</td>\n",
       "    </tr>\n",
       "    <tr>\n",
       "      <th>IFN-beta</th>\n",
       "      <td>-0.422523</td>\n",
       "      <td>16.428092</td>\n",
       "      <td>0.020492</td>\n",
       "      <td>0.663307</td>\n",
       "      <td>Donor2</td>\n",
       "      <td>IFN-beta</td>\n",
       "    </tr>\n",
       "    <tr>\n",
       "      <th>IFN-beta</th>\n",
       "      <td>0.885202</td>\n",
       "      <td>1.452249</td>\n",
       "      <td>0.003108</td>\n",
       "      <td>0.966630</td>\n",
       "      <td>Donor3</td>\n",
       "      <td>IFN-beta</td>\n",
       "    </tr>\n",
       "    <tr>\n",
       "      <th>IFN-beta</th>\n",
       "      <td>0.654829</td>\n",
       "      <td>8.763031</td>\n",
       "      <td>0.017601</td>\n",
       "      <td>0.828954</td>\n",
       "      <td>Donor4</td>\n",
       "      <td>IFN-beta</td>\n",
       "    </tr>\n",
       "    <tr>\n",
       "      <th>IFN-beta</th>\n",
       "      <td>-0.287866</td>\n",
       "      <td>17.448678</td>\n",
       "      <td>0.019935</td>\n",
       "      <td>0.667205</td>\n",
       "      <td>Donor5</td>\n",
       "      <td>IFN-beta</td>\n",
       "    </tr>\n",
       "    <tr>\n",
       "      <th>IFN-beta</th>\n",
       "      <td>0.065409</td>\n",
       "      <td>14.609627</td>\n",
       "      <td>0.017465</td>\n",
       "      <td>0.735283</td>\n",
       "      <td>Donor6</td>\n",
       "      <td>IFN-beta</td>\n",
       "    </tr>\n",
       "    <tr>\n",
       "      <th>IFN-beta</th>\n",
       "      <td>-0.571734</td>\n",
       "      <td>20.044232</td>\n",
       "      <td>0.023286</td>\n",
       "      <td>0.628182</td>\n",
       "      <td>Donor7</td>\n",
       "      <td>IFN-beta</td>\n",
       "    </tr>\n",
       "    <tr>\n",
       "      <th>IFN-beta</th>\n",
       "      <td>-0.503307</td>\n",
       "      <td>19.069875</td>\n",
       "      <td>0.023460</td>\n",
       "      <td>0.644546</td>\n",
       "      <td>Donor8</td>\n",
       "      <td>IFN-beta</td>\n",
       "    </tr>\n",
       "    <tr>\n",
       "      <th>IFN-beta</th>\n",
       "      <td>-0.957224</td>\n",
       "      <td>18.659033</td>\n",
       "      <td>0.022893</td>\n",
       "      <td>0.597063</td>\n",
       "      <td>Donor9</td>\n",
       "      <td>IFN-beta</td>\n",
       "    </tr>\n",
       "  </tbody>\n",
       "</table>\n",
       "</div>"
      ],
      "text/plain": [
       "Unnamed: 0  ood_r_squared  ood_e_distance   ood_mmd  decoded_ood_r_squared  \\\n",
       "IFN-beta         0.589450        5.359480  0.010553               0.884275   \n",
       "IFN-beta        -0.335042       16.131113  0.024250               0.630397   \n",
       "IFN-beta        -0.510804       21.398124  0.025771               0.586840   \n",
       "IFN-beta         0.661350        4.629702  0.007317               0.916437   \n",
       "IFN-beta        -0.422523       16.428092  0.020492               0.663307   \n",
       "IFN-beta         0.885202        1.452249  0.003108               0.966630   \n",
       "IFN-beta         0.654829        8.763031  0.017601               0.828954   \n",
       "IFN-beta        -0.287866       17.448678  0.019935               0.667205   \n",
       "IFN-beta         0.065409       14.609627  0.017465               0.735283   \n",
       "IFN-beta        -0.571734       20.044232  0.023286               0.628182   \n",
       "IFN-beta        -0.503307       19.069875  0.023460               0.644546   \n",
       "IFN-beta        -0.957224       18.659033  0.022893               0.597063   \n",
       "\n",
       "Unnamed: 0    donor  cytokine  \n",
       "IFN-beta    Donor10  IFN-beta  \n",
       "IFN-beta    Donor11  IFN-beta  \n",
       "IFN-beta    Donor12  IFN-beta  \n",
       "IFN-beta     Donor1  IFN-beta  \n",
       "IFN-beta     Donor2  IFN-beta  \n",
       "IFN-beta     Donor3  IFN-beta  \n",
       "IFN-beta     Donor4  IFN-beta  \n",
       "IFN-beta     Donor5  IFN-beta  \n",
       "IFN-beta     Donor6  IFN-beta  \n",
       "IFN-beta     Donor7  IFN-beta  \n",
       "IFN-beta     Donor8  IFN-beta  \n",
       "IFN-beta     Donor9  IFN-beta  "
      ]
     },
     "execution_count": 109,
     "metadata": {},
     "output_type": "execute_result"
    }
   ],
   "source": [
    "df[df.cytokine==\"IFN-beta\"]"
   ]
  },
  {
   "cell_type": "code",
   "execution_count": 31,
   "id": "1747aa79-364e-4f79-bf5a-c41a2b407a41",
   "metadata": {},
   "outputs": [],
   "source": [
    "df_mean = df.groupby(\"cytokine\")[\"decoded_ood_r_squared\"].mean()"
   ]
  },
  {
   "cell_type": "code",
   "execution_count": 42,
   "id": "ebf2dbcf-328b-4f91-acb5-2a25b28e593c",
   "metadata": {},
   "outputs": [],
   "source": [
    "df_mean = df_mean.sort_values().to_frame()"
   ]
  },
  {
   "cell_type": "code",
   "execution_count": null,
   "id": "0175f8ff-7dc7-4eba-8e06-32f9155c693d",
   "metadata": {},
   "outputs": [],
   "source": []
  },
  {
   "cell_type": "code",
   "execution_count": 49,
   "id": "9be6a925-fae9-485c-89f5-91cedb10b885",
   "metadata": {},
   "outputs": [],
   "source": [
    "df_cf = pd.read_csv(\"/home/icb/dominik.klein/git_repos/ot_pert_new/notebooks/results_allocation/pbmc/.ipynb_checkpoints/wandb_export_2024-12-15T06_00_34.617-08_00.csv\")"
   ]
  },
  {
   "cell_type": "code",
   "execution_count": 50,
   "id": "fc0daa4f-94b2-45a0-afcc-b6b1d8783a0a",
   "metadata": {},
   "outputs": [],
   "source": [
    "df_cf = df_cf[[\"pca_decoded_ood_r_squared_mean\", \"dataset.ood_condition\"]]"
   ]
  },
  {
   "cell_type": "code",
   "execution_count": 51,
   "id": "a2c3da96-ba50-4aec-b5c5-c57f41869ea0",
   "metadata": {},
   "outputs": [],
   "source": [
    "df_cf[\"cytokine\"] = df_cf[\"dataset.ood_condition\"]"
   ]
  },
  {
   "cell_type": "code",
   "execution_count": 52,
   "id": "f7be2b44-779d-4167-b049-b973dce10a21",
   "metadata": {},
   "outputs": [],
   "source": [
    "df_cf[\"decoded_ood_r_squared\"] = df_cf[\"pca_decoded_ood_r_squared_mean\"]"
   ]
  },
  {
   "cell_type": "code",
   "execution_count": 53,
   "id": "e61b5391-840f-4e82-b818-a568a9944604",
   "metadata": {},
   "outputs": [
    {
     "data": {
      "text/html": [
       "<div>\n",
       "<style scoped>\n",
       "    .dataframe tbody tr th:only-of-type {\n",
       "        vertical-align: middle;\n",
       "    }\n",
       "\n",
       "    .dataframe tbody tr th {\n",
       "        vertical-align: top;\n",
       "    }\n",
       "\n",
       "    .dataframe thead th {\n",
       "        text-align: right;\n",
       "    }\n",
       "</style>\n",
       "<table border=\"1\" class=\"dataframe\">\n",
       "  <thead>\n",
       "    <tr style=\"text-align: right;\">\n",
       "      <th></th>\n",
       "      <th>decoded_ood_r_squared</th>\n",
       "    </tr>\n",
       "    <tr>\n",
       "      <th>cytokine</th>\n",
       "      <th></th>\n",
       "    </tr>\n",
       "  </thead>\n",
       "  <tbody>\n",
       "    <tr>\n",
       "      <th>IFN-beta</th>\n",
       "      <td>0.729093</td>\n",
       "    </tr>\n",
       "    <tr>\n",
       "      <th>IL-4</th>\n",
       "      <td>0.748974</td>\n",
       "    </tr>\n",
       "    <tr>\n",
       "      <th>IL-32-beta</th>\n",
       "      <td>0.772600</td>\n",
       "    </tr>\n",
       "    <tr>\n",
       "      <th>IFN-omega</th>\n",
       "      <td>0.773668</td>\n",
       "    </tr>\n",
       "    <tr>\n",
       "      <th>CD40L</th>\n",
       "      <td>0.786041</td>\n",
       "    </tr>\n",
       "    <tr>\n",
       "      <th>...</th>\n",
       "      <td>...</td>\n",
       "    </tr>\n",
       "    <tr>\n",
       "      <th>IL-17F</th>\n",
       "      <td>0.992356</td>\n",
       "    </tr>\n",
       "    <tr>\n",
       "      <th>TRAIL</th>\n",
       "      <td>0.992379</td>\n",
       "    </tr>\n",
       "    <tr>\n",
       "      <th>IL-17A</th>\n",
       "      <td>0.992428</td>\n",
       "    </tr>\n",
       "    <tr>\n",
       "      <th>TPO</th>\n",
       "      <td>0.992733</td>\n",
       "    </tr>\n",
       "    <tr>\n",
       "      <th>IL-5</th>\n",
       "      <td>0.992754</td>\n",
       "    </tr>\n",
       "  </tbody>\n",
       "</table>\n",
       "<p>90 rows × 1 columns</p>\n",
       "</div>"
      ],
      "text/plain": [
       "            decoded_ood_r_squared\n",
       "cytokine                         \n",
       "IFN-beta                 0.729093\n",
       "IL-4                     0.748974\n",
       "IL-32-beta               0.772600\n",
       "IFN-omega                0.773668\n",
       "CD40L                    0.786041\n",
       "...                           ...\n",
       "IL-17F                   0.992356\n",
       "TRAIL                    0.992379\n",
       "IL-17A                   0.992428\n",
       "TPO                      0.992733\n",
       "IL-5                     0.992754\n",
       "\n",
       "[90 rows x 1 columns]"
      ]
     },
     "execution_count": 53,
     "metadata": {},
     "output_type": "execute_result"
    }
   ],
   "source": [
    "df_mean"
   ]
  },
  {
   "cell_type": "code",
   "execution_count": 55,
   "id": "fe305abf-db0a-4828-9b7d-f597247f5f5e",
   "metadata": {},
   "outputs": [],
   "source": [
    "df_cf = df_cf.set_index(\"cytokine\")[[\"decoded_ood_r_squared\"]]"
   ]
  },
  {
   "cell_type": "code",
   "execution_count": 56,
   "id": "23c5d8b3-bc3e-4f64-9e60-7ee59d987926",
   "metadata": {},
   "outputs": [
    {
     "data": {
      "text/html": [
       "<div>\n",
       "<style scoped>\n",
       "    .dataframe tbody tr th:only-of-type {\n",
       "        vertical-align: middle;\n",
       "    }\n",
       "\n",
       "    .dataframe tbody tr th {\n",
       "        vertical-align: top;\n",
       "    }\n",
       "\n",
       "    .dataframe thead th {\n",
       "        text-align: right;\n",
       "    }\n",
       "</style>\n",
       "<table border=\"1\" class=\"dataframe\">\n",
       "  <thead>\n",
       "    <tr style=\"text-align: right;\">\n",
       "      <th></th>\n",
       "      <th>decoded_ood_r_squared</th>\n",
       "    </tr>\n",
       "    <tr>\n",
       "      <th>cytokine</th>\n",
       "      <th></th>\n",
       "    </tr>\n",
       "  </thead>\n",
       "  <tbody>\n",
       "    <tr>\n",
       "      <th>IFN-beta</th>\n",
       "      <td>0.753413</td>\n",
       "    </tr>\n",
       "    <tr>\n",
       "      <th>IL-32-beta</th>\n",
       "      <td>0.786686</td>\n",
       "    </tr>\n",
       "    <tr>\n",
       "      <th>CD40L</th>\n",
       "      <td>0.791394</td>\n",
       "    </tr>\n",
       "    <tr>\n",
       "      <th>IFN-omega</th>\n",
       "      <td>0.801166</td>\n",
       "    </tr>\n",
       "    <tr>\n",
       "      <th>IL-4</th>\n",
       "      <td>0.804215</td>\n",
       "    </tr>\n",
       "    <tr>\n",
       "      <th>...</th>\n",
       "      <td>...</td>\n",
       "    </tr>\n",
       "    <tr>\n",
       "      <th>4-1BBL</th>\n",
       "      <td>NaN</td>\n",
       "    </tr>\n",
       "    <tr>\n",
       "      <th>LIGHT</th>\n",
       "      <td>NaN</td>\n",
       "    </tr>\n",
       "    <tr>\n",
       "      <th>LT-alpha1-beta2</th>\n",
       "      <td>NaN</td>\n",
       "    </tr>\n",
       "    <tr>\n",
       "      <th>4-1BBL</th>\n",
       "      <td>NaN</td>\n",
       "    </tr>\n",
       "    <tr>\n",
       "      <th>ADSF</th>\n",
       "      <td>NaN</td>\n",
       "    </tr>\n",
       "  </tbody>\n",
       "</table>\n",
       "<p>87 rows × 1 columns</p>\n",
       "</div>"
      ],
      "text/plain": [
       "                 decoded_ood_r_squared\n",
       "cytokine                              \n",
       "IFN-beta                      0.753413\n",
       "IL-32-beta                    0.786686\n",
       "CD40L                         0.791394\n",
       "IFN-omega                     0.801166\n",
       "IL-4                          0.804215\n",
       "...                                ...\n",
       "4-1BBL                             NaN\n",
       "LIGHT                              NaN\n",
       "LT-alpha1-beta2                    NaN\n",
       "4-1BBL                             NaN\n",
       "ADSF                               NaN\n",
       "\n",
       "[87 rows x 1 columns]"
      ]
     },
     "execution_count": 56,
     "metadata": {},
     "output_type": "execute_result"
    }
   ],
   "source": [
    "df_cf"
   ]
  },
  {
   "cell_type": "code",
   "execution_count": 65,
   "id": "573e22b0-0864-48da-a441-7897c0a6266d",
   "metadata": {},
   "outputs": [],
   "source": [
    "inter = list(set(df_mean.index).intersection(set(df_cf.index)))"
   ]
  },
  {
   "cell_type": "code",
   "execution_count": 87,
   "id": "9bc5c06d-11bc-45d4-aa53-a750fd5e617e",
   "metadata": {},
   "outputs": [],
   "source": [
    "diff = (df_cf.loc[inter] - df_mean.loc[inter])"
   ]
  },
  {
   "cell_type": "code",
   "execution_count": 92,
   "id": "f4fc6799-212d-4748-89d4-543c574d3844",
   "metadata": {},
   "outputs": [],
   "source": [
    "df_cf[\"model\"] = \"cf\"\n",
    "df_mean[\"model\"] = \"id\""
   ]
  },
  {
   "cell_type": "code",
   "execution_count": 94,
   "id": "f1997f01-717e-48f7-b851-83710b5a69a2",
   "metadata": {},
   "outputs": [],
   "source": [
    "df_concat = pd.concat((df_cf, df_mean))"
   ]
  },
  {
   "cell_type": "code",
   "execution_count": 103,
   "id": "2e15b77f-6d91-4f3b-ab59-645aa14f4c8e",
   "metadata": {},
   "outputs": [],
   "source": [
    "import numpy as np\n",
    "df_concat.head()\n",
    "df_concat[\"cytokine\"] = df_concat.index\n",
    "df_concat.index = np.arange(len(df_concat))"
   ]
  },
  {
   "cell_type": "code",
   "execution_count": 105,
   "id": "23c9f731-4ddd-49a5-b283-1705f731e533",
   "metadata": {},
   "outputs": [
    {
     "data": {
      "text/plain": [
       "<Axes: xlabel='model', ylabel='decoded_ood_r_squared'>"
      ]
     },
     "execution_count": 105,
     "metadata": {},
     "output_type": "execute_result"
    },
    {
     "data": {
      "image/png": "[encoded data removed]",
      "text/plain": [
       "<Figure size 640x480 with 1 Axes>"
      ]
     },
     "metadata": {},
     "output_type": "display_data"
    }
   ],
   "source": [
    "sns.boxplot(df_concat, x=\"model\", y=\"decoded_ood_r_squared\")"
   ]
  },
  {
   "cell_type": "code",
   "execution_count": 89,
   "id": "cfa13f68-e11a-4438-b016-3ace36eaba5b",
   "metadata": {},
   "outputs": [
    {
     "data": {
      "text/plain": [
       "decoded_ood_r_squared    0.02432\n",
       "Name: IFN-beta, dtype: float64"
      ]
     },
     "execution_count": 89,
     "metadata": {},
     "output_type": "execute_result"
    }
   ],
   "source": [
    "diff.loc[\"IFN-beta\"]"
   ]
  },
  {
   "cell_type": "code",
   "execution_count": 91,
   "id": "ed1b4670-53ff-4a48-989f-59891beb86bb",
   "metadata": {},
   "outputs": [
    {
     "data": {
      "text/plain": [
       "(array([31., 35.,  3.,  5.,  3.,  2.,  2.,  0.,  0.,  1.]),\n",
       " array([-0.00489092,  0.00112229,  0.00713551,  0.01314872,  0.01916193,\n",
       "         0.02517514,  0.03118836,  0.03720157,  0.04321478,  0.049228  ,\n",
       "         0.05524121]),\n",
       " <BarContainer object of 10 artists>)"
      ]
     },
     "execution_count": 91,
     "metadata": {},
     "output_type": "execute_result"
    },
    {
     "data": {
      "image/png": "[encoded data removed]",
      "text/plain": [
       "<Figure size 640x480 with 1 Axes>"
      ]
     },
     "metadata": {},
     "output_type": "display_data"
    }
   ],
   "source": [
    "plt.hist(diff)"
   ]
  },
  {
   "cell_type": "code",
   "execution_count": 113,
   "id": "5c4da7ce-783c-4fb5-a1ff-b5599ea07c5a",
   "metadata": {},
   "outputs": [],
   "source": [
    "cyto_strong_effect = df_mean[:10].index"
   ]
  },
  {
   "cell_type": "code",
   "execution_count": 114,
   "id": "83bbf017-639e-443b-af6a-611a3814fcf1",
   "metadata": {},
   "outputs": [
    {
     "data": {
      "text/plain": [
       "Index(['IFN-beta', 'IL-4', 'IL-32-beta', 'IFN-omega', 'CD40L', 'IL-15', 'IL-7',\n",
       "       'IL-2', 'IFN-gamma', 'IL-10'],\n",
       "      dtype='object', name='cytokine')"
      ]
     },
     "execution_count": 114,
     "metadata": {},
     "output_type": "execute_result"
    }
   ],
   "source": [
    "cyto_strong_effect"
   ]
  },
  {
   "cell_type": "code",
   "execution_count": 116,
   "id": "288f53ae-73f5-4fc8-ba85-cc3131cd3254",
   "metadata": {},
   "outputs": [
    {
     "data": {
      "text/plain": [
       "89_103_005__s1      Donor10_4-1BBL\n",
       "89_103_083__s1      Donor10_4-1BBL\n",
       "89_103_085__s1      Donor10_4-1BBL\n",
       "89_104_009__s1      Donor10_4-1BBL\n",
       "89_104_025__s1      Donor10_4-1BBL\n",
       "                         ...      \n",
       "61_186_093__s144       Donor9_VEGF\n",
       "61_186_108__s144       Donor9_VEGF\n",
       "61_186_135__s144       Donor9_VEGF\n",
       "61_186_157__s144       Donor9_VEGF\n",
       "61_186_168__s144       Donor9_VEGF\n",
       "Name: condition, Length: 9697974, dtype: category\n",
       "Categories (1092, object): ['Donor1_4-1BBL', 'Donor1_ADSF', 'Donor1_APRIL', 'Donor1_BAFF', ..., 'Donor12_TRAIL', 'Donor12_TSLP', 'Donor12_TWEAK', 'Donor12_VEGF']"
      ]
     },
     "execution_count": 116,
     "metadata": {},
     "output_type": "execute_result"
    }
   ],
   "source": [
    "adata.obs[\"condition\"]"
   ]
  },
  {
   "cell_type": "code",
   "execution_count": 119,
   "id": "e155e4b4-de88-4b40-b0ff-4ec7cce04e6c",
   "metadata": {},
   "outputs": [
    {
     "data": {
      "text/plain": [
       "['Donor10_CD40L',\n",
       " 'Donor10_IFN-beta',\n",
       " 'Donor10_IFN-gamma',\n",
       " 'Donor10_IFN-omega',\n",
       " 'Donor10_IL-10',\n",
       " 'Donor10_IL-15',\n",
       " 'Donor10_IL-2',\n",
       " 'Donor10_IL-32-beta',\n",
       " 'Donor10_IL-4',\n",
       " 'Donor10_IL-7',\n",
       " 'Donor11_CD40L',\n",
       " 'Donor11_IFN-beta',\n",
       " 'Donor11_IFN-gamma',\n",
       " 'Donor11_IFN-omega',\n",
       " 'Donor11_IL-10',\n",
       " 'Donor11_IL-15',\n",
       " 'Donor11_IL-2',\n",
       " 'Donor11_IL-32-beta',\n",
       " 'Donor11_IL-4',\n",
       " 'Donor11_IL-7',\n",
       " 'Donor12_CD40L',\n",
       " 'Donor12_IFN-beta',\n",
       " 'Donor12_IFN-gamma',\n",
       " 'Donor12_IFN-omega',\n",
       " 'Donor12_IL-10',\n",
       " 'Donor12_IL-15',\n",
       " 'Donor12_IL-2',\n",
       " 'Donor12_IL-32-beta',\n",
       " 'Donor12_IL-4',\n",
       " 'Donor12_IL-7',\n",
       " 'Donor1_CD40L',\n",
       " 'Donor1_IFN-beta',\n",
       " 'Donor1_IFN-gamma',\n",
       " 'Donor1_IFN-omega',\n",
       " 'Donor1_IL-10',\n",
       " 'Donor1_IL-15',\n",
       " 'Donor1_IL-2',\n",
       " 'Donor1_IL-32-beta',\n",
       " 'Donor1_IL-4',\n",
       " 'Donor1_IL-7',\n",
       " 'Donor2_CD40L',\n",
       " 'Donor2_IFN-beta',\n",
       " 'Donor2_IFN-gamma',\n",
       " 'Donor2_IFN-omega',\n",
       " 'Donor2_IL-10',\n",
       " 'Donor2_IL-15',\n",
       " 'Donor2_IL-2',\n",
       " 'Donor2_IL-32-beta',\n",
       " 'Donor2_IL-4',\n",
       " 'Donor2_IL-7',\n",
       " 'Donor3_CD40L',\n",
       " 'Donor3_IFN-beta',\n",
       " 'Donor3_IFN-gamma',\n",
       " 'Donor3_IFN-omega',\n",
       " 'Donor3_IL-10',\n",
       " 'Donor3_IL-15',\n",
       " 'Donor3_IL-2',\n",
       " 'Donor3_IL-32-beta',\n",
       " 'Donor3_IL-4',\n",
       " 'Donor3_IL-7',\n",
       " 'Donor4_CD40L',\n",
       " 'Donor4_IFN-beta',\n",
       " 'Donor4_IFN-gamma',\n",
       " 'Donor4_IFN-omega',\n",
       " 'Donor4_IL-10',\n",
       " 'Donor4_IL-15',\n",
       " 'Donor4_IL-2',\n",
       " 'Donor4_IL-32-beta',\n",
       " 'Donor4_IL-4',\n",
       " 'Donor4_IL-7',\n",
       " 'Donor5_CD40L',\n",
       " 'Donor5_IFN-beta',\n",
       " 'Donor5_IFN-gamma',\n",
       " 'Donor5_IFN-omega',\n",
       " 'Donor5_IL-10',\n",
       " 'Donor5_IL-15',\n",
       " 'Donor5_IL-2',\n",
       " 'Donor5_IL-32-beta',\n",
       " 'Donor5_IL-4',\n",
       " 'Donor5_IL-7',\n",
       " 'Donor6_CD40L',\n",
       " 'Donor6_IFN-beta',\n",
       " 'Donor6_IFN-gamma',\n",
       " 'Donor6_IFN-omega',\n",
       " 'Donor6_IL-10',\n",
       " 'Donor6_IL-15',\n",
       " 'Donor6_IL-2',\n",
       " 'Donor6_IL-32-beta',\n",
       " 'Donor6_IL-4',\n",
       " 'Donor6_IL-7',\n",
       " 'Donor7_CD40L',\n",
       " 'Donor7_IFN-beta',\n",
       " 'Donor7_IFN-gamma',\n",
       " 'Donor7_IFN-omega',\n",
       " 'Donor7_IL-10',\n",
       " 'Donor7_IL-15',\n",
       " 'Donor7_IL-2',\n",
       " 'Donor7_IL-32-beta',\n",
       " 'Donor7_IL-4',\n",
       " 'Donor7_IL-7',\n",
       " 'Donor8_CD40L',\n",
       " 'Donor8_IFN-beta',\n",
       " 'Donor8_IFN-gamma',\n",
       " 'Donor8_IFN-omega',\n",
       " 'Donor8_IL-10',\n",
       " 'Donor8_IL-15',\n",
       " 'Donor8_IL-2',\n",
       " 'Donor8_IL-32-beta',\n",
       " 'Donor8_IL-4',\n",
       " 'Donor8_IL-7',\n",
       " 'Donor9_CD40L',\n",
       " 'Donor9_IFN-beta',\n",
       " 'Donor9_IFN-gamma',\n",
       " 'Donor9_IFN-omega',\n",
       " 'Donor9_IL-10',\n",
       " 'Donor9_IL-15',\n",
       " 'Donor9_IL-2',\n",
       " 'Donor9_IL-32-beta',\n",
       " 'Donor9_IL-4',\n",
       " 'Donor9_IL-7']"
      ]
     },
     "execution_count": 119,
     "metadata": {},
     "output_type": "execute_result"
    }
   ],
   "source": [
    "list(adata[adata.obs[\"cytokine\"].isin(cyto_strong_effect)].obs[\"condition\"].unique())"
   ]
  },
  {
   "cell_type": "code",
   "execution_count": null,
   "id": "e3c85504-9c6b-4d1e-9e21-a15a095dbb49",
   "metadata": {},
   "outputs": [],
   "source": []
  }
 ],
 "metadata": {
  "kernelspec": {
   "display_name": "cfp",
   "language": "python",
   "name": "cfp"
  },
  "language_info": {
   "codemirror_mode": {
    "name": "ipython",
    "version": 3
   },
   "file_extension": ".py",
   "mimetype": "text/x-python",
   "name": "python",
   "nbconvert_exporter": "python",
   "pygments_lexer": "ipython3",
   "version": "3.11.9"
  }
 },
 "nbformat": 4,
 "nbformat_minor": 5
}
