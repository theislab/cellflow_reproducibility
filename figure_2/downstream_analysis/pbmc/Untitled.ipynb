{
 "cells": [
  {
   "cell_type": "code",
   "execution_count": 1,
   "id": "ef5895bb-d0a6-4823-99ee-73c0238b6644",
   "metadata": {},
   "outputs": [
    {
     "name": "stderr",
     "output_type": "stream",
     "text": [
      "/home/icb/dominik.klein/mambaforge/envs/cfp/lib/python3.11/site-packages/optuna/study/_optimize.py:29: TqdmWarning: IProgress not found. Please update jupyter and ipywidgets. See https://ipywidgets.readthedocs.io/en/stable/user_install.html\n",
      "  from optuna import progress_bar as pbar_module\n"
     ]
    }
   ],
   "source": [
    "import functools\n",
    "import os\n",
    "import sys\n",
    "import traceback\n",
    "from typing import Dict, Literal, Optional, Tuple\n",
    "import cfp\n",
    "import scanpy as sc\n",
    "import numpy as np\n",
    "import functools\n",
    "from ott.solvers import utils as solver_utils\n",
    "import optax\n",
    "from omegaconf import OmegaConf\n",
    "from typing import NamedTuple, Any\n",
    "import hydra\n",
    "import wandb\n",
    "import anndata as ad\n",
    "import pandas as pd\n",
    "import os\n",
    "from cfp.training import ComputationCallback\n",
    "from cfp.preprocessing import transfer_labels, compute_wknn\n",
    "from cfp.training import ComputationCallback\n",
    "from numpy.typing import ArrayLike\n",
    "from cfp.metrics import compute_r_squared, compute_e_distance\n",
    "from cfp.metrics import compute_r_squared, compute_e_distance, compute_scalar_mmd, compute_sinkhorn_div\n",
    "import sys\n",
    "import pickle\n",
    "from cfp.preprocessing import transfer_labels, compute_wknn, centered_pca, project_pca\n"
   ]
  },
  {
   "cell_type": "code",
   "execution_count": 2,
   "id": "5e77eebf-77f1-42e8-a485-f243186d558f",
   "metadata": {},
   "outputs": [],
   "source": [
    "\n",
    "\n",
    "def compute_metrics(adata_ref: ad.AnnData, adata_pred: ad.AnnData, donor_deg_dict: dict, adata_ood_true: ad.AnnData, adata_ctrl: ad.AnnData, n_neighbors: int=1, cell_type_col: str = \"cell_type_new\", min_cells_for_dist_metrics: int = 50) -> dict:\n",
    "    dict_to_log = {}\n",
    "    compute_wknn(ref_adata=adata_ref, query_adata=adata_pred, n_neighbors=n_neighbors, ref_rep_key=\"X_pca\", query_rep_key=\"X_pca_for_ct_transfer\")\n",
    "    transfer_labels(query_adata=adata_pred, ref_adata=adata_ref, label_key=cell_type_col)\n",
    "    \n",
    "    e_distance = {}\n",
    "    r_sq = {}\n",
    "    mmd = {}\n",
    "    sdiv_10 = {}\n",
    "    sdiv_100 = {}\n",
    "    deg_e_distance = {}\n",
    "    deg_r_sq = {}\n",
    "    deg_mmd = {}\n",
    "    deg_sdiv_10 = {}\n",
    "    deg_sdiv_100 = {}\n",
    "    for ct_cyto in donor_deg_dict.keys(): \n",
    "        cell_type = ct_cyto.split(\"_\")[1]\n",
    "        adata_true_ct = adata_ood_true[(adata_ood_true.obs[f\"{cell_type_col}\"]==cell_type)]\n",
    "        adata_pred_ct = adata_pred[adata_pred.obs[f\"{cell_type_col}_transfer\"]==cell_type]\n",
    "        if adata_pred_ct.n_obs == 0:\n",
    "            continue\n",
    "        dist_true_decoded = adata_true_ct.X.toarray()\n",
    "        dist_pred_decoded = adata_pred_ct.X\n",
    "        dist_true = adata_true_ct.obsm[\"X_pca\"]\n",
    "        dist_pred = adata_pred_ct.obsm[\"X_pca\"]\n",
    "        r_sq[f\"decoded_r_squared_{cell_type}\"] = compute_r_squared(dist_true_decoded, dist_pred_decoded)\n",
    "        e_distance[f\"e_distance_{cell_type}\"] = compute_e_distance(dist_true, dist_pred)\n",
    "        mmd[f\"mmd_{cell_type}\"] = compute_scalar_mmd(dist_true, dist_pred)\n",
    "        sdiv_10[f\"div_10_{cell_type}\"] = compute_sinkhorn_div(dist_true, dist_pred, epsilon=10.0)\n",
    "        sdiv_100[f\"div_100_{cell_type}\"] = compute_sinkhorn_div(dist_true, dist_pred, epsilon=100.0)\n",
    "\n",
    "        deg_mask = [True if el in donor_deg_dict[ct_cyto] else False for el in adata_ood_true.var_names]\n",
    "        deg_true_decoded = adata_true_ct[:,deg_mask].X.toarray()\n",
    "        deg_pred_decoded = adata_pred_ct[:,deg_mask].X\n",
    "        deg_r_sq[f\"deg_decoded_r_squared_{cell_type}\"] = compute_r_squared(deg_true_decoded, deg_pred_decoded)\n",
    "        deg_e_distance[f\"deg_e_distance_{cell_type}\"] = compute_e_distance(deg_true_decoded, deg_pred_decoded)\n",
    "        deg_mmd[f\"deg_mmd_{cell_type}\"] = compute_scalar_mmd(deg_true_decoded, deg_pred_decoded)\n",
    "        deg_sdiv_10[f\"deg_div_10_{cell_type}\"] = compute_sinkhorn_div(deg_true_decoded, deg_pred_decoded, epsilon=10.0)\n",
    "        deg_sdiv_100[f\"deg_div_100_{cell_type}\"] = compute_sinkhorn_div(deg_true_decoded, deg_pred_decoded, epsilon=100.0)\n",
    "\n",
    "    adata_concat = ad.concat([adata_ctrl, adata_pred], join=\"inner\", label=\"all\")\n",
    "    sc.tl.rank_genes_groups(\n",
    "            adata_concat,\n",
    "            groupby=\"cytokine\",\n",
    "            reference=\"PBS\",\n",
    "            rankby_abs=True,\n",
    "            n_genes=50,\n",
    "            use_raw=False,\n",
    "            method=\"wilcoxon\",\n",
    "        )\n",
    "    predicted_deg_genes = [el[0] for el in list(adata_concat.uns[\"rank_genes_groups\"][\"names\"])]\n",
    "\n",
    "    # standard metrics\n",
    "    decoded_ood_r_squared = compute_r_squared(adata_ood_true.X.toarray(), adata_pred.X)\n",
    "    ood_e_distance = compute_e_distance(adata_ood_true.obsm[\"X_pca\"], adata_pred.obsm[\"X_pca\"])\n",
    "    ood_mmd = compute_scalar_mmd(adata_ood_true.obsm[\"X_pca\"], adata_pred.obsm[\"X_pca\"])\n",
    "    ood_sdiv_10 = compute_sinkhorn_div(adata_ood_true.obsm[\"X_pca\"], adata_pred.obsm[\"X_pca\"], epsilon=10.0)\n",
    "    ood_sdiv_100 = compute_sinkhorn_div(adata_ood_true.obsm[\"X_pca\"], adata_pred.obsm[\"X_pca\"], epsilon=100.0)\n",
    "    \n",
    "    # metrics to return\n",
    "    dict_to_log[\"mean_decoded_r_sq_per_cell_type\"] = np.mean(list(r_sq.values()))\n",
    "    dict_to_log[\"mean_e_distance_per_cell_type\"] = np.mean(list(e_distance.values()))\n",
    "    dict_to_log[\"mean_mmd_per_cell_type\"] = np.mean(list(mmd.values()))\n",
    "    dict_to_log[\"mean_sdiv_10_per_cell_type\"] = np.mean(list(sdiv_10.values()))\n",
    "    dict_to_log[\"mean_sdiv_100_per_cell_type\"] = np.mean(list(sdiv_100.values()))\n",
    "    dict_to_log[\"mean_deg_r_sq_per_cell_type\"] = np.mean(list(deg_r_sq.values()))\n",
    "    dict_to_log[\"mean_deg_e_distance_per_cell_type\"] = np.mean(list(deg_e_distance.values()))\n",
    "    dict_to_log[\"mean_deg_mmd_per_cell_type\"] = np.mean(list(deg_mmd.values()))\n",
    "    dict_to_log[\"mean_deg_sdiv_10_per_cell_type\"] = np.mean(list(deg_sdiv_10.values()))\n",
    "    dict_to_log[\"mean_deg_sdiv_100_per_cell_type\"] = np.mean(list(deg_sdiv_100.values()))\n",
    "    \n",
    "    dict_to_log.update(r_sq)\n",
    "    dict_to_log.update(e_distance)\n",
    "    dict_to_log.update(mmd)\n",
    "    dict_to_log.update(sdiv_10)\n",
    "    dict_to_log.update(sdiv_100)\n",
    "    dict_to_log.update(deg_r_sq)\n",
    "    dict_to_log.update(deg_e_distance)\n",
    "    dict_to_log.update(deg_mmd)\n",
    "    dict_to_log.update(deg_sdiv_10)\n",
    "    dict_to_log.update(deg_sdiv_100)\n",
    "    dict_to_log[\"decoded_ood_r_squared\"] = decoded_ood_r_squared\n",
    "    dict_to_log[\"ood_e_distance\"] = ood_e_distance\n",
    "    dict_to_log[\"ood_mmd\"] = ood_mmd\n",
    "    dict_to_log[\"ood_sdiv_10\"] = ood_sdiv_10\n",
    "    dict_to_log[\"ood_sdiv_100\"] = ood_sdiv_100\n",
    "    dict_to_log[\"predicted_deg_genes\"] = predicted_deg_genes\n",
    "    return dict_to_log\n",
    "\n"
   ]
  },
  {
   "cell_type": "code",
   "execution_count": 3,
   "id": "be2c5ab4-0962-477d-9155-e030c0d4674c",
   "metadata": {},
   "outputs": [],
   "source": [
    "def mean_model_1(adata_train, adata_ctrl, donor):\n",
    "    # Mean displacement of same donor across cytokines\n",
    "    # i.e. this is a constant prediction for all test cytokines\n",
    "    adata_perturbed_same_donor = adata_train[(adata_train.obs[\"donor\"]==donor) & (adata_train.obs[\"cytokine\"]!=\"PBS\")]\n",
    "    displacement = adata_perturbed_same_donor.X.mean(axis=0) - adata_ctrl.X.mean(axis=0)\n",
    "    return np.asarray(adata_ctrl.X.toarray() + displacement)\n",
    "\n",
    "def mean_model_2(adata_train, adata_ctrl, cytokine):\n",
    "    # Mean displacement of same cytokine across donors\n",
    "    adata_perturbed_same_cytokine = adata_train[adata_train.obs[\"cytokine\"]==cytokine]\n",
    "    displacement = adata_perturbed_same_cytokine.X.mean(axis=0) - adata_ctrl.X.mean(axis=0)\n",
    "    return np.asarray(adata_ctrl.X.toarray() + displacement)\n"
   ]
  },
  {
   "cell_type": "code",
   "execution_count": 46,
   "id": "2340e5a5-1b83-47dd-aab3-04a147379d12",
   "metadata": {},
   "outputs": [
    {
     "ename": "KeyError",
     "evalue": "'24'",
     "output_type": "error",
     "traceback": [
      "\u001b[0;31m---------------------------------------------------------------------------\u001b[0m",
      "\u001b[0;31mKeyError\u001b[0m                                  Traceback (most recent call last)",
      "Cell \u001b[0;32mIn[46], line 9\u001b[0m\n\u001b[1;32m      7\u001b[0m adata_train \u001b[38;5;241m=\u001b[39m sc\u001b[38;5;241m.\u001b[39mread_h5ad(\u001b[38;5;124mf\u001b[39m\u001b[38;5;124m\"\u001b[39m\u001b[38;5;124m/lustre/groups/ml01/workspace/ot_perturbation/data/pbmc/new_donor/\u001b[39m\u001b[38;5;132;01m{\u001b[39;00mdonor_held_out\u001b[38;5;132;01m}\u001b[39;00m\u001b[38;5;124m/\u001b[39m\u001b[38;5;132;01m{\u001b[39;00m\u001b[38;5;28mstr\u001b[39m(idx_given_donor)\u001b[38;5;132;01m}\u001b[39;00m\u001b[38;5;124m/adata_train_\u001b[39m\u001b[38;5;132;01m{\u001b[39;00mdonor_held_out\u001b[38;5;132;01m}\u001b[39;00m\u001b[38;5;124m.h5ad\u001b[39m\u001b[38;5;124m\"\u001b[39m)\n\u001b[1;32m      8\u001b[0m adata_ood_perturbed  \u001b[38;5;241m=\u001b[39m sc\u001b[38;5;241m.\u001b[39mread_h5ad(\u001b[38;5;124mf\u001b[39m\u001b[38;5;124m\"\u001b[39m\u001b[38;5;124m/lustre/groups/ml01/workspace/ot_perturbation/data/pbmc/new_donor/\u001b[39m\u001b[38;5;132;01m{\u001b[39;00mdonor_held_out\u001b[38;5;132;01m}\u001b[39;00m\u001b[38;5;124m/\u001b[39m\u001b[38;5;132;01m{\u001b[39;00m\u001b[38;5;28mstr\u001b[39m(idx_given_donor)\u001b[38;5;132;01m}\u001b[39;00m\u001b[38;5;124m/adata_ood_\u001b[39m\u001b[38;5;132;01m{\u001b[39;00mdonor_held_out\u001b[38;5;132;01m}\u001b[39;00m\u001b[38;5;124m.h5ad\u001b[39m\u001b[38;5;124m\"\u001b[39m)\n\u001b[0;32m----> 9\u001b[0m cytokines_to_impute \u001b[38;5;241m=\u001b[39m adata_train\u001b[38;5;241m.\u001b[39muns[\u001b[38;5;124m\"\u001b[39m\u001b[38;5;124msplit_info\u001b[39m\u001b[38;5;124m\"\u001b[39m][idx_given_donor][\u001b[38;5;124m\"\u001b[39m\u001b[38;5;124mcytokines_to_impute\u001b[39m\u001b[38;5;124m\"\u001b[39m]\n\u001b[1;32m     10\u001b[0m cytokines_to_train_data \u001b[38;5;241m=\u001b[39m adata_train\u001b[38;5;241m.\u001b[39muns[\u001b[38;5;124m\"\u001b[39m\u001b[38;5;124msplit_info\u001b[39m\u001b[38;5;124m\"\u001b[39m][idx_given_donor][\u001b[38;5;124m\"\u001b[39m\u001b[38;5;124mcytokines_to_train_data\u001b[39m\u001b[38;5;124m\"\u001b[39m]\n\u001b[1;32m     12\u001b[0m adata_ctrl \u001b[38;5;241m=\u001b[39m adata_train[adata_train\u001b[38;5;241m.\u001b[39mobs[control_key]\u001b[38;5;241m.\u001b[39mto_numpy()]\n",
      "\u001b[0;31mKeyError\u001b[0m: '24'"
     ]
    }
   ],
   "source": [
    "out_dir_mean_model_2 = \"/lustre/groups/ml01/workspace/ot_perturbation/models/additive_model/pbmc_new_donor/mean_model_same_cytokine\"\n",
    "donor_held_out = \"Donor1\"\n",
    "idx_given_donor = \"24\"\n",
    "\n",
    "control_key = \"is_control\"\n",
    "\n",
    "adata_train = sc.read_h5ad(f\"/lustre/groups/ml01/workspace/ot_perturbation/data/pbmc/new_donor/{donor_held_out}/{str(idx_given_donor)}/adata_train_{donor_held_out}.h5ad\")\n",
    "adata_ood_perturbed  = sc.read_h5ad(f\"/lustre/groups/ml01/workspace/ot_perturbation/data/pbmc/new_donor/{donor_held_out}/{str(idx_given_donor)}/adata_ood_{donor_held_out}.h5ad\")\n",
    "cytokines_to_impute = adata_train.uns[\"split_info\"][idx_given_donor][\"cytokines_to_impute\"]\n",
    "cytokines_to_train_data = adata_train.uns[\"split_info\"][idx_given_donor][\"cytokines_to_train_data\"]\n",
    "\n",
    "adata_ctrl = adata_train[adata_train.obs[control_key].to_numpy()]\n",
    "\n",
    "\n",
    "\n"
   ]
  },
  {
   "cell_type": "code",
   "execution_count": null,
   "id": "cb4c1af8-f05f-4049-8e8a-d92dd65ba407",
   "metadata": {},
   "outputs": [],
   "source": [
    "adata_train.uns[\"split_info\"][\"24\"][\"cytokines_to_train_data\"]"
   ]
  },
  {
   "cell_type": "code",
   "execution_count": 47,
   "id": "d5ae1058-3ab3-4a91-9a5b-ac892ac04410",
   "metadata": {},
   "outputs": [],
   "source": [
    "adata_tmp =adata_train[adata_train.obs[\"donor\"]==\"Donor1\"]"
   ]
  },
  {
   "cell_type": "code",
   "execution_count": 49,
   "id": "4967e38a-206c-4082-9bb2-0705d81a9098",
   "metadata": {},
   "outputs": [
    {
     "data": {
      "text/plain": [
       "81"
      ]
     },
     "execution_count": 49,
     "metadata": {},
     "output_type": "execute_result"
    }
   ],
   "source": [
    "len(adata_tmp.obs[\"cytokine\"].value_counts())"
   ]
  },
  {
   "cell_type": "code",
   "execution_count": 39,
   "id": "acbdf012-9212-4890-a383-157c99da1430",
   "metadata": {},
   "outputs": [
    {
     "data": {
      "text/plain": [
       "array(['IL-17C', 'IFN-beta', 'TSLP', 'GITRL', 'LIGHT', 'IL-26', 'IL-17A',\n",
       "       'TNF-alpha', 'IL-1-alpha', 'IL-17B', 'IL-17D', 'IL-24', 'IL-3',\n",
       "       'TPO', 'G-CSF', 'IL-5', 'PBS'], dtype=object)"
      ]
     },
     "execution_count": 39,
     "metadata": {},
     "output_type": "execute_result"
    }
   ],
   "source": [
    "cytokines_to_train_data"
   ]
  },
  {
   "cell_type": "code",
   "execution_count": 51,
   "id": "9eca8360-f84d-4f33-a8a7-a7cc2bcb9142",
   "metadata": {},
   "outputs": [
    {
     "data": {
      "text/plain": [
       "dict_keys(['1', '16', '2', '32', '4', '64', '8', '80'])"
      ]
     },
     "execution_count": 51,
     "metadata": {},
     "output_type": "execute_result"
    }
   ],
   "source": [
    "adata_train.uns['cytokines_to_train_data'].keys()"
   ]
  },
  {
   "cell_type": "code",
   "execution_count": 54,
   "id": "5f59fdfa-87ce-4e7b-b677-dd1c511c6a7c",
   "metadata": {},
   "outputs": [
    {
     "data": {
      "text/plain": [
       "array(['IL-8', 'PBS'], dtype=object)"
      ]
     },
     "execution_count": 54,
     "metadata": {},
     "output_type": "execute_result"
    }
   ],
   "source": [
    "adata_train.uns[\"split_info\"][\"0\"][\"cytokines_to_train_data\"]"
   ]
  },
  {
   "cell_type": "code",
   "execution_count": 56,
   "id": "aee16229-1665-48fe-ac88-466666b2a580",
   "metadata": {},
   "outputs": [
    {
     "data": {
      "text/plain": [
       "{'0': {'cytokines_to_impute': array(['OX40L', 'IL-32-beta', 'IL-1Ra', 'IFN-gamma', 'IFN-omega', 'BAFF',\n",
       "         'CD27L', 'ADSF', 'FasL', 'M-CSF'], dtype=object),\n",
       "  'cytokines_to_train_data': array(['IL-8', 'PBS'], dtype=object)},\n",
       " '1': {'cytokines_to_impute': array(['OX40L', 'IL-32-beta', 'IL-1Ra', 'IFN-gamma', 'IFN-omega', 'BAFF',\n",
       "         'CD27L', 'ADSF', 'FasL', 'M-CSF'], dtype=object),\n",
       "  'cytokines_to_train_data': array(['IFN-alpha1', 'PBS'], dtype=object)},\n",
       " '10': {'cytokines_to_impute': array(['OX40L', 'IL-32-beta', 'IL-1Ra', 'IFN-gamma', 'IFN-omega', 'BAFF',\n",
       "         'CD27L', 'ADSF', 'FasL', 'M-CSF'], dtype=object),\n",
       "  'cytokines_to_train_data': array(['IL-17D', 'IL-12', 'Leptin', 'IL-31', 'IL-13', 'GITRL', 'IL-21',\n",
       "         'TWEAK', 'PRL', 'G-CSF', 'IFN-lambda3', 'IL-8', 'CD40L', 'EGF',\n",
       "         'EPO', 'TNF-alpha', 'IL-17C', 'LT-alpha1-beta2', 'IL-19', 'IL-23',\n",
       "         'IL-34', 'IFN-lambda1', 'VEGF', 'HGF', 'IFN-lambda2', 'GM-CSF',\n",
       "         'IL-3', 'IL-36-alpha', 'IL-15', 'IL-35', 'IFN-beta', 'IL-10',\n",
       "         'PBS'], dtype=object)},\n",
       " '11': {'cytokines_to_impute': array(['OX40L', 'IL-32-beta', 'IL-1Ra', 'IFN-gamma', 'IFN-omega', 'BAFF',\n",
       "         'CD27L', 'ADSF', 'FasL', 'M-CSF'], dtype=object),\n",
       "  'cytokines_to_train_data': array(['IL-7', 'C5a', 'APRIL', 'IL-31', 'Decorin', 'IL-12', 'IL-3',\n",
       "         'IL-11', 'GDNF', 'FLT3L', 'IL-19', 'IL-18', 'IL-34', 'TRAIL',\n",
       "         'IL-13', 'C3a', 'FGF-beta', 'IL-24', 'OSM', 'TGF-beta1',\n",
       "         'LT-alpha2-beta1', 'IFN-lambda2', 'IL-8', 'IL-35', 'IL-6',\n",
       "         'IL-36-alpha', 'SCF', 'EPO', 'CD30L', '4-1BBL', 'TWEAK', 'IL-33',\n",
       "         'PBS'], dtype=object)},\n",
       " '12': {'cytokines_to_impute': array(['OX40L', 'IL-32-beta', 'IL-1Ra', 'IFN-gamma', 'IFN-omega', 'BAFF',\n",
       "         'CD27L', 'ADSF', 'FasL', 'M-CSF'], dtype=object),\n",
       "  'cytokines_to_train_data': array(['IFN-lambda1', 'APRIL', 'IL-8', 'IL-12', 'PBS'], dtype=object)},\n",
       " '13': {'cytokines_to_impute': array(['OX40L', 'IL-32-beta', 'IL-1Ra', 'IFN-gamma', 'IFN-omega', 'BAFF',\n",
       "         'CD27L', 'ADSF', 'FasL', 'M-CSF'], dtype=object),\n",
       "  'cytokines_to_train_data': array(['IL-31', 'TGF-beta1', 'Leptin', 'IL-36-alpha', 'PBS'], dtype=object)},\n",
       " '14': {'cytokines_to_impute': array(['OX40L', 'IL-32-beta', 'IL-1Ra', 'IFN-gamma', 'IFN-omega', 'BAFF',\n",
       "         'CD27L', 'ADSF', 'FasL', 'M-CSF'], dtype=object),\n",
       "  'cytokines_to_train_data': array(['TWEAK', 'EPO', 'IL-26', 'IL-18', 'PBS'], dtype=object)},\n",
       " '15': {'cytokines_to_impute': array(['OX40L', 'IL-32-beta', 'IL-1Ra', 'IFN-gamma', 'IFN-omega', 'BAFF',\n",
       "         'CD27L', 'ADSF', 'FasL', 'M-CSF'], dtype=object),\n",
       "  'cytokines_to_train_data': array(['IL-34', 'IL-20', 'LIGHT', 'Leptin', 'APRIL', 'RANKL', 'IL-23',\n",
       "         'IFN-beta', 'IL-17E', 'IL-26', 'TRAIL', 'IL-33', 'IL-17F', 'IL-8',\n",
       "         'IL-19', 'IL-1-beta', 'TGF-beta1', 'IL-17B', 'IL-17D', 'IL-4',\n",
       "         'PRL', 'LIF', 'LT-alpha2-beta1', 'TWEAK', 'IL-7', 'IL-16', 'FLT3L',\n",
       "         'IL-21', 'IL-15', 'OSM', 'IFN-lambda3', 'GITRL', 'TNF-alpha',\n",
       "         'Decorin', 'IL-2', 'IL-31', 'IL-12', 'IL-17C', 'IL-17A', 'CD30L',\n",
       "         'C5a', 'IL-3', 'Noggin', 'IL-24', 'EPO', 'IFN-lambda2',\n",
       "         'IL-1-alpha', 'IFN-alpha1', '4-1BBL', 'IL-6', 'FGF-beta', 'IL-11',\n",
       "         'IL-36-alpha', 'IGF-1', 'IL-18', 'TL1A', 'PSPN', 'SCF', 'IL-10',\n",
       "         'IL-9', 'LT-alpha1-beta2', 'IL-22', 'C3a', 'IL-5', 'PBS'],\n",
       "        dtype=object)},\n",
       " '16': {'cytokines_to_impute': array(['OX40L', 'IL-32-beta', 'IL-1Ra', 'IFN-gamma', 'IFN-omega', 'BAFF',\n",
       "         'CD27L', 'ADSF', 'FasL', 'M-CSF'], dtype=object),\n",
       "  'cytokines_to_train_data': array(['APRIL', 'EGF', 'CD40L', 'IL-15', 'IL-8', 'IL-21', 'IL-5',\n",
       "         'IFN-epsilon', 'IL-17C', 'IL-1-beta', 'IL-18', 'IL-36-alpha',\n",
       "         'SCF', 'IFN-lambda2', 'RANKL', 'HGF', 'IL-6', 'EPO', 'IL-17B',\n",
       "         'VEGF', 'TNF-alpha', 'IL-17D', 'IL-23', 'IL-27', 'TGF-beta1',\n",
       "         'IL-35', 'TPO', 'IL-3', 'IL-2', 'Leptin', 'FLT3L', 'IL-7', 'TWEAK',\n",
       "         '4-1BBL', 'GITRL', 'TRAIL', 'IFN-lambda3', 'IL-17A', 'LIF',\n",
       "         'IL-34', 'LT-alpha2-beta1', 'TSLP', 'IL-19', 'Decorin', 'GM-CSF',\n",
       "         'CT-1', 'PRL', 'IFN-alpha1', 'IL-17F', 'IL-26', 'G-CSF', 'IL-12',\n",
       "         'LT-alpha1-beta2', 'IL-22', 'TL1A', 'IL-33', 'IL-31', 'C5a',\n",
       "         'IL-24', 'Noggin', 'IL-1-alpha', 'IL-16', 'IL-4', 'IL-9', 'PBS'],\n",
       "        dtype=object)},\n",
       " '17': {'cytokines_to_impute': array(['OX40L', 'IL-32-beta', 'IL-1Ra', 'IFN-gamma', 'IFN-omega', 'BAFF',\n",
       "         'CD27L', 'ADSF', 'FasL', 'M-CSF'], dtype=object),\n",
       "  'cytokines_to_train_data': array(['GM-CSF', 'IL-11', 'IL-7', 'GDNF', 'PSPN', 'TNF-alpha', 'IL-17D',\n",
       "         'IL-1-alpha', 'IL-6', 'IFN-epsilon', 'CD40L', 'IL-17C', 'IL-20',\n",
       "         'Noggin', 'IFN-lambda2', 'IL-1-beta', 'IL-17F', 'FGF-beta',\n",
       "         'IL-17B', 'VEGF', 'IL-15', 'IL-34', 'IL-31', '4-1BBL', 'LIF',\n",
       "         'IGF-1', 'TL1A', 'IFN-lambda3', 'Decorin', 'IL-36-alpha', 'IL-27',\n",
       "         'HGF', 'PRL', 'IL-8', 'C3a', 'IL-17E', 'IL-3', 'IL-12', 'IL-16',\n",
       "         'IL-9', 'IL-17A', 'IL-33', 'GITRL', 'IL-35', 'IL-2', 'IL-4', 'C5a',\n",
       "         'TSLP', 'APRIL', 'CT-1', 'CD30L', 'IL-19', 'IFN-lambda1',\n",
       "         'LT-alpha1-beta2', 'LT-alpha2-beta1', 'TWEAK', 'IL-13', 'IL-24',\n",
       "         'IL-5', 'IL-23', 'TRAIL', 'EGF', 'IL-36Ra', 'Leptin', 'PBS'],\n",
       "        dtype=object)},\n",
       " '18': {'cytokines_to_impute': array(['OX40L', 'IL-32-beta', 'IL-1Ra', 'IFN-gamma', 'IFN-omega', 'BAFF',\n",
       "         'CD27L', 'ADSF', 'FasL', 'M-CSF'], dtype=object),\n",
       "  'cytokines_to_train_data': array(['RANKL', 'TNF-alpha', 'APRIL', 'IL-13', 'IL-3', 'TRAIL', 'G-CSF',\n",
       "         'IGF-1', 'PBS'], dtype=object)},\n",
       " '19': {'cytokines_to_impute': array(['OX40L', 'IL-32-beta', 'IL-1Ra', 'IFN-gamma', 'IFN-omega', 'BAFF',\n",
       "         'CD27L', 'ADSF', 'FasL', 'M-CSF'], dtype=object),\n",
       "  'cytokines_to_train_data': array(['IL-23', 'IL-2', 'SCF', 'IL-13', 'IFN-beta', 'IL-1-alpha', 'IL-5',\n",
       "         'IL-36Ra', 'PBS'], dtype=object)},\n",
       " '2': {'cytokines_to_impute': array(['OX40L', 'IL-32-beta', 'IL-1Ra', 'IFN-gamma', 'IFN-omega', 'BAFF',\n",
       "         'CD27L', 'ADSF', 'FasL', 'M-CSF'], dtype=object),\n",
       "  'cytokines_to_train_data': array(['IFN-lambda3', 'PBS'], dtype=object)},\n",
       " '20': {'cytokines_to_impute': array(['OX40L', 'IL-32-beta', 'IL-1Ra', 'IFN-gamma', 'IFN-omega', 'BAFF',\n",
       "         'CD27L', 'ADSF', 'FasL', 'M-CSF'], dtype=object),\n",
       "  'cytokines_to_train_data': array(['CD30L', 'IL-17F', 'IL-27', 'TGF-beta1', 'IL-17E', 'IL-17A',\n",
       "         'IL-22', 'LT-alpha1-beta2', 'PBS'], dtype=object)},\n",
       " '21': {'cytokines_to_impute': array(['OX40L', 'IL-32-beta', 'IL-1Ra', 'IFN-gamma', 'IFN-omega', 'BAFF',\n",
       "         'CD27L', 'ADSF', 'FasL', 'M-CSF'], dtype=object),\n",
       "  'cytokines_to_train_data': array(['GDNF', 'IL-34', 'HGF', 'GM-CSF', 'FGF-beta', 'C5a', 'IL-6',\n",
       "         'IGF-1', 'IFN-lambda3', 'C3a', 'TSLP', 'IFN-lambda1', 'IL-24',\n",
       "         'IL-1-beta', 'Decorin', 'IFN-beta', 'IL-3', 'IL-17C', 'IL-17D',\n",
       "         'PRL', 'EGF', 'SCF', 'IL-36Ra', 'APRIL', 'FLT3L', 'RANKL', 'IL-23',\n",
       "         'IL-10', 'Leptin', 'IL-18', 'IL-7', 'IL-4', 'IL-36-alpha', 'IL-8',\n",
       "         'IL-16', 'IL-35', 'IL-19', 'IL-11', 'IL-13', 'IL-22', 'CD40L',\n",
       "         'TWEAK', 'Noggin', 'G-CSF', 'IL-33', 'LT-alpha2-beta1', 'IL-17A',\n",
       "         'TL1A', 'TRAIL', 'IFN-epsilon', '4-1BBL', 'IFN-lambda2', 'IL-17E',\n",
       "         'LIGHT', 'IL-27', 'VEGF', 'EPO', 'LIF', 'IL-12', 'IL-5', 'IL-17F',\n",
       "         'IL-31', 'LT-alpha1-beta2', 'IL-15', 'TNF-alpha', 'IL-9', 'IL-17B',\n",
       "         'OSM', 'CD30L', 'IL-26', 'IFN-alpha1', 'IL-2', 'PSPN', 'TPO',\n",
       "         'IL-1-alpha', 'CT-1', 'IL-21', 'GITRL', 'TGF-beta1', 'IL-20',\n",
       "         'PBS'], dtype=object)},\n",
       " '22': {'cytokines_to_impute': array(['OX40L', 'IL-32-beta', 'IL-1Ra', 'IFN-gamma', 'IFN-omega', 'BAFF',\n",
       "         'CD27L', 'ADSF', 'FasL', 'M-CSF'], dtype=object),\n",
       "  'cytokines_to_train_data': array(['TRAIL', 'IL-12', 'GITRL', 'IL-22', 'PRL', 'Noggin', 'IFN-lambda2',\n",
       "         'IL-19', 'OSM', 'TWEAK', 'EGF', 'IFN-lambda3', 'IL-9',\n",
       "         'IL-1-alpha', 'C5a', 'PSPN', 'CD40L', 'LIGHT', 'IFN-alpha1',\n",
       "         'IL-33', 'IL-7', 'IL-36Ra', 'IL-24', 'IL-10', 'SCF', 'VEGF',\n",
       "         'IL-36-alpha', 'IL-16', 'G-CSF', 'TSLP', 'IL-20', 'IL-17C', 'TPO',\n",
       "         'IGF-1', 'IL-17D', 'CD30L', 'LT-alpha2-beta1', 'TL1A', 'RANKL',\n",
       "         'IL-26', 'IL-23', 'CT-1', 'IL-17F', 'EPO', 'IL-18', 'LIF',\n",
       "         'IFN-beta', 'GDNF', 'IL-4', 'FLT3L', 'IL-1-beta', 'IL-6', 'IL-8',\n",
       "         'TNF-alpha', 'IL-2', 'IL-31', 'C3a', 'IL-11', 'APRIL',\n",
       "         'IFN-epsilon', 'IL-17B', 'TGF-beta1', 'IL-21', 'IL-17A', 'Leptin',\n",
       "         'FGF-beta', 'IL-17E', 'IL-35', '4-1BBL', 'GM-CSF', 'IL-5', 'IL-15',\n",
       "         'LT-alpha1-beta2', 'IL-27', 'HGF', 'Decorin', 'IL-34',\n",
       "         'IFN-lambda1', 'IL-13', 'IL-3', 'PBS'], dtype=object)},\n",
       " '23': {'cytokines_to_impute': array(['OX40L', 'IL-32-beta', 'IL-1Ra', 'IFN-gamma', 'IFN-omega', 'BAFF',\n",
       "         'CD27L', 'ADSF', 'FasL', 'M-CSF'], dtype=object),\n",
       "  'cytokines_to_train_data': array(['IL-5', 'IL-2', 'TNF-alpha', 'Noggin', 'IL-7', 'IL-31', 'EPO',\n",
       "         'IL-24', 'IFN-beta', 'VEGF', 'IL-8', 'IL-11', 'LIF', 'IFN-epsilon',\n",
       "         'IFN-alpha1', 'TSLP', 'IL-36Ra', 'IL-17C', 'IL-15', 'GDNF',\n",
       "         'TGF-beta1', 'IFN-lambda2', 'IL-1-alpha', 'IL-23', 'APRIL',\n",
       "         '4-1BBL', 'IL-36-alpha', 'GM-CSF', 'TPO', 'IGF-1', 'RANKL', 'CT-1',\n",
       "         'IL-18', 'PSPN', 'G-CSF', 'IL-1-beta', 'SCF', 'EGF', 'IL-19',\n",
       "         'IL-13', 'IL-20', 'IFN-lambda1', 'TRAIL', 'IL-35', 'Leptin',\n",
       "         'IL-4', 'IL-17B', 'PRL', 'IL-10', 'IL-21', 'IL-26', 'LIGHT',\n",
       "         'IL-12', 'IL-17F', 'IL-33', 'CD40L', 'IL-16', 'IL-22',\n",
       "         'LT-alpha2-beta1', 'FGF-beta', 'IL-17E', 'TL1A', 'IL-27', 'IL-3',\n",
       "         'C5a', 'HGF', 'IFN-lambda3', 'FLT3L', 'IL-6', 'C3a', 'IL-34',\n",
       "         'LT-alpha1-beta2', 'OSM', 'Decorin', 'CD30L', 'IL-17D', 'IL-9',\n",
       "         'TWEAK', 'IL-17A', 'GITRL', 'PBS'], dtype=object)},\n",
       " '3': {'cytokines_to_impute': array(['OX40L', 'IL-32-beta', 'IL-1Ra', 'IFN-gamma', 'IFN-omega', 'BAFF',\n",
       "         'CD27L', 'ADSF', 'FasL', 'M-CSF'], dtype=object),\n",
       "  'cytokines_to_train_data': array(['IL-17C', 'IFN-beta', 'TSLP', 'GITRL', 'LIGHT', 'IL-26', 'IL-17A',\n",
       "         'TNF-alpha', 'IL-1-alpha', 'IL-17B', 'IL-17D', 'IL-24', 'IL-3',\n",
       "         'TPO', 'G-CSF', 'IL-5', 'PBS'], dtype=object)},\n",
       " '4': {'cytokines_to_impute': array(['OX40L', 'IL-32-beta', 'IL-1Ra', 'IFN-gamma', 'IFN-omega', 'BAFF',\n",
       "         'CD27L', 'ADSF', 'FasL', 'M-CSF'], dtype=object),\n",
       "  'cytokines_to_train_data': array(['IFN-lambda1', 'IL-31', 'IL-17B', 'OSM', 'IL-11', 'IL-8', 'C3a',\n",
       "         'LIGHT', 'IFN-alpha1', 'IL-26', 'SCF', 'IL-35', 'HGF', 'TGF-beta1',\n",
       "         'IL-24', 'IL-17D', 'PBS'], dtype=object)},\n",
       " '5': {'cytokines_to_impute': array(['OX40L', 'IL-32-beta', 'IL-1Ra', 'IFN-gamma', 'IFN-omega', 'BAFF',\n",
       "         'CD27L', 'ADSF', 'FasL', 'M-CSF'], dtype=object),\n",
       "  'cytokines_to_train_data': array(['TWEAK', 'IL-12', 'IFN-beta', 'FLT3L', 'IL-24', 'EPO', 'IL-16',\n",
       "         'LT-alpha2-beta1', 'Noggin', 'IFN-lambda1', 'LIF', 'CD30L', 'SCF',\n",
       "         'IL-17A', 'PRL', 'HGF', 'PBS'], dtype=object)},\n",
       " '6': {'cytokines_to_impute': array(['OX40L', 'IL-32-beta', 'IL-1Ra', 'IFN-gamma', 'IFN-omega', 'BAFF',\n",
       "         'CD27L', 'ADSF', 'FasL', 'M-CSF'], dtype=object),\n",
       "  'cytokines_to_train_data': array(['IL-4', 'IL-7', 'PBS'], dtype=object)},\n",
       " '7': {'cytokines_to_impute': array(['OX40L', 'IL-32-beta', 'IL-1Ra', 'IFN-gamma', 'IFN-omega', 'BAFF',\n",
       "         'CD27L', 'ADSF', 'FasL', 'M-CSF'], dtype=object),\n",
       "  'cytokines_to_train_data': array(['IL-3', 'C5a', 'PBS'], dtype=object)},\n",
       " '8': {'cytokines_to_impute': array(['OX40L', 'IL-32-beta', 'IL-1Ra', 'IFN-gamma', 'IFN-omega', 'BAFF',\n",
       "         'CD27L', 'ADSF', 'FasL', 'M-CSF'], dtype=object),\n",
       "  'cytokines_to_train_data': array(['IFN-alpha1', 'IL-11', 'PBS'], dtype=object)},\n",
       " '9': {'cytokines_to_impute': array(['OX40L', 'IL-32-beta', 'IL-1Ra', 'IFN-gamma', 'IFN-omega', 'BAFF',\n",
       "         'CD27L', 'ADSF', 'FasL', 'M-CSF'], dtype=object),\n",
       "  'cytokines_to_train_data': array(['Decorin', 'Leptin', 'TGF-beta1', 'IL-33', 'IL-8', 'PRL', 'IL-19',\n",
       "         'IL-4', '4-1BBL', 'TPO', 'TRAIL', 'IL-18', 'TL1A', 'IL-10', 'IL-3',\n",
       "         'RANKL', 'IL-7', 'SCF', 'IL-26', 'LT-alpha1-beta2', 'IL-2',\n",
       "         'IL-1-beta', 'GITRL', 'IL-23', 'HGF', 'IL-17B', 'IL-11', 'TWEAK',\n",
       "         'IFN-lambda1', 'IFN-alpha1', 'APRIL', 'G-CSF', 'PBS'], dtype=object)}}"
      ]
     },
     "execution_count": 56,
     "metadata": {},
     "output_type": "execute_result"
    }
   ],
   "source": [
    "adata_train.uns[\"split_info\"]#[s][\"cytokines_to_train_data\"]"
   ]
  },
  {
   "cell_type": "code",
   "execution_count": 12,
   "id": "4492de97-e2b1-43f6-a50a-449e6de8c2d6",
   "metadata": {},
   "outputs": [
    {
     "data": {
      "text/plain": [
       "[2,\n",
       " 2,\n",
       " 33,\n",
       " 33,\n",
       " 5,\n",
       " 5,\n",
       " 5,\n",
       " 65,\n",
       " 65,\n",
       " 65,\n",
       " 9,\n",
       " 9,\n",
       " 2,\n",
       " 9,\n",
       " 81,\n",
       " 81,\n",
       " 81,\n",
       " 17,\n",
       " 17,\n",
       " 17,\n",
       " 3,\n",
       " 3,\n",
       " 3,\n",
       " 33]"
      ]
     },
     "execution_count": 12,
     "metadata": {},
     "output_type": "execute_result"
    }
   ],
   "source": [
    "[len(adata_train.uns[\"split_info\"][str(idx)][\"cytokines_to_train_data\"]) for idx in  adata_train.uns[\"split_info\"].keys()]"
   ]
  },
  {
   "cell_type": "code",
   "execution_count": 16,
   "id": "a126814c-3034-4738-86ee-81cc7feeeaf3",
   "metadata": {},
   "outputs": [
    {
     "data": {
      "text/plain": [
       "array(['IL-8', 'PBS'], dtype=object)"
      ]
     },
     "execution_count": 16,
     "metadata": {},
     "output_type": "execute_result"
    }
   ],
   "source": [
    "adata_train.uns[\"split_info\"][str(0)][\"cytokines_to_train_data\"]"
   ]
  },
  {
   "cell_type": "code",
   "execution_count": null,
   "id": "694e5ad1-df90-4a84-8556-dce135684629",
   "metadata": {},
   "outputs": [],
   "source": []
  },
  {
   "cell_type": "code",
   "execution_count": null,
   "id": "0d7a4ad9-1adf-466c-aa45-50e1bf429d13",
   "metadata": {},
   "outputs": [],
   "source": []
  },
  {
   "cell_type": "code",
   "execution_count": null,
   "id": "16e67e5b-9b38-4a90-891a-65c97100f2e7",
   "metadata": {},
   "outputs": [],
   "source": [
    "with open(\"/lustre/groups/ml01/workspace/ot_perturbation/data/pbmc/idcs_to_keep.pkl\", \"rb\") as pickle_file:\n",
    "    idcs_to_keep = pickle.load(pickle_file)\n",
    "adata_full = sc.read_h5ad(\"/lustre/groups/ml01/workspace/ot_perturbation/data/pbmc/pbmc_with_pca.h5ad\")\n",
    "adata_ref = adata_full[adata_full.obs_names.isin(idcs_to_keep)]\n",
    "with open(\"/lustre/groups/ml01/workspace/ot_perturbation/data/pbmc/degs.pkl\", \"rb\") as pickle_file:\n",
    "    deg_genes = pickle.load(pickle_file)\n",
    "\n",
    "adata_ctrl_current_donor = adata_ctrl[adata_ctrl.obs[\"donor\"]==donor_held_out]\n",
    "if adata_ctrl_current_donor.n_obs > 10000:\n",
    "        sc.pp.subsample(adata_ctrl_current_donor, n_obs=10000)\n",
    "    \n",
    "for cytokine in cytokines_to_impute:\n",
    "    pred1 = mean_model_2(adata_train, adata_ctrl_current_donor, cytokine)\n",
    "    condition = f\"{donor_held_out}_{cytokine}\"\n",
    "    conditions = [condition] * pred1.shape[0]\n",
    "\n",
    "    obs_data = pd.DataFrame({\n",
    "        'condition': conditions\n",
    "    })\n",
    "\n",
    "    adata_pred = ad.AnnData(X=pred1, obs=obs_data)\n",
    "    adata_pred.obs[\"cytokine\"] = cytokine\n",
    "    adata_pred.obs[\"donor\"] = donor_held_out\n",
    "    adata_pred.var_names=adata_ctrl.var_names   \n",
    "    \n",
    "    project_pca(query_adata=adata_pred, ref_adata=adata_ref, obsm_key_added=\"X_pca_for_ct_transfer\")\n",
    "    project_pca(query_adata=adata_pred, ref_adata=adata_full, obsm_key_added=\"X_pca\")\n",
    "    cond_orig = condition\n",
    "    condition = condition + \"_\" + str(len(cytokines_to_train_data))\n",
    "    donor_deg_dict = {k: v for k, v in deg_genes.items() if (k.startswith(donor_held_out) and k.endswith(f\"_{cytokine}\"))}\n",
    "    adata_ood_true = adata_full[(adata_full.obs[\"donor\"] == donor_held_out) & (adata_full.obs[\"cytokine\"]==cytokine)]\n",
    "    \n",
    "    out = compute_metrics(adata_ref=adata_ref, adata_pred=adata_pred, donor_deg_dict=donor_deg_dict, adata_ood_true=adata_ood_true, adata_ctrl=adata_ctrl_current_donor)\n",
    "    out[\"num_cytokines_in_train\"] = len(cytokines_to_train_data)\n",
    "    pd.DataFrame.from_dict(out, columns=[condition], orient=\"index\").to_csv(os.path.join(out_dir_mean_model_2, f\"{idx_given_donor}_{condition}.csv\"))\n",
    "    \n"
   ]
  },
  {
   "cell_type": "code",
   "execution_count": null,
   "id": "5538f40e-3e8b-4266-a953-97183d5d992f",
   "metadata": {},
   "outputs": [],
   "source": []
  },
  {
   "cell_type": "code",
   "execution_count": null,
   "id": "9c042d95-4078-4e7a-bc9c-a0301a9c2b1a",
   "metadata": {},
   "outputs": [],
   "source": []
  },
  {
   "cell_type": "code",
   "execution_count": null,
   "id": "b68fd82f-90b5-4a72-a0d1-2e1a2489edc3",
   "metadata": {},
   "outputs": [],
   "source": []
  },
  {
   "cell_type": "code",
   "execution_count": 17,
   "id": "19be7455-1dfc-4f70-9536-1a7171e427a4",
   "metadata": {},
   "outputs": [],
   "source": [
    "out_dir_mean_model_2 = \"/lustre/groups/ml01/workspace/ot_perturbation/models/additive_model/pbmc_new_cytokine/mean_model_same_cytokine\"\n",
    "cytokine_held_out = '4-1BBL'\n",
    "idx_given_cytokine = \"0\"\n",
    "\n",
    "control_key = \"is_control\"\n",
    "\n",
    "adata_base = sc.read_h5ad(f\"/lustre/groups/ml01/workspace/ot_perturbation/data/pbmc/new_cytokine/adata_base_{cytokine_held_out}.h5ad\")\n",
    "adata_rest = sc.read_h5ad(f\"/lustre/groups/ml01/workspace/ot_perturbation/data/pbmc/new_cytokine/adata_rest_{cytokine_held_out}.h5ad\")\n",
    "donors_to_impute = adata_rest.uns[\"split_info\"][idx_given_cytokine][\"donors_to_impute\"]\n",
    "donors_to_train_data = adata_rest.uns[\"split_info\"][idx_given_cytokine][\"donors_to_train_data\"]\n",
    "adata_to_append = adata_rest[adata_rest.obs[\"donor\"].isin(donors_to_train_data)]\n"
   ]
  },
  {
   "cell_type": "code",
   "execution_count": 19,
   "id": "96f0cba5-2f8c-4651-a7ed-4187e138d34a",
   "metadata": {},
   "outputs": [
    {
     "data": {
      "text/plain": [
       "{'0': {'donors_to_impute': array(['Donor8', 'Donor10', 'Donor2', 'Donor9', 'Donor7', 'Donor3',\n",
       "         'Donor6', 'Donor1', 'Donor5', 'Donor11', 'Donor4', 'Donor12'],\n",
       "        dtype=object),\n",
       "  'donors_to_train_data': array([], dtype=float64)},\n",
       " '1': {'donors_to_impute': array(['Donor8', 'Donor2', 'Donor9', 'Donor7', 'Donor3', 'Donor6',\n",
       "         'Donor1', 'Donor5', 'Donor11', 'Donor4', 'Donor12'], dtype=object),\n",
       "  'donors_to_train_data': array(['Donor10'], dtype=object)},\n",
       " '10': {'donors_to_impute': array(['Donor8', 'Donor2', 'Donor7', 'Donor3', 'Donor6', 'Donor1',\n",
       "         'Donor11', 'Donor12'], dtype=object),\n",
       "  'donors_to_train_data': array(['Donor10', 'Donor4', 'Donor5', 'Donor9'], dtype=object)},\n",
       " '11': {'donors_to_impute': array(['Donor10', 'Donor2', 'Donor9', 'Donor7', 'Donor3', 'Donor1',\n",
       "         'Donor4', 'Donor12'], dtype=object),\n",
       "  'donors_to_train_data': array(['Donor11', 'Donor5', 'Donor6', 'Donor8'], dtype=object)},\n",
       " '12': {'donors_to_impute': array(['Donor2', 'Donor9', 'Donor7', 'Donor3', 'Donor6', 'Donor5',\n",
       "         'Donor4', 'Donor12'], dtype=object),\n",
       "  'donors_to_train_data': array(['Donor10', 'Donor11', 'Donor1', 'Donor8'], dtype=object)},\n",
       " '13': {'donors_to_impute': array(['Donor2', 'Donor9', 'Donor7', 'Donor3', 'Donor6', 'Donor1',\n",
       "         'Donor4'], dtype=object),\n",
       "  'donors_to_train_data': array(['Donor10', 'Donor11', 'Donor12', 'Donor5', 'Donor8'], dtype=object)},\n",
       " '14': {'donors_to_impute': array(['Donor8', 'Donor10', 'Donor9', 'Donor1', 'Donor11', 'Donor4',\n",
       "         'Donor12'], dtype=object),\n",
       "  'donors_to_train_data': array(['Donor2', 'Donor3', 'Donor5', 'Donor6', 'Donor7'], dtype=object)},\n",
       " '15': {'donors_to_impute': array(['Donor10', 'Donor2', 'Donor9', 'Donor3', 'Donor6', 'Donor4',\n",
       "         'Donor12'], dtype=object),\n",
       "  'donors_to_train_data': array(['Donor11', 'Donor1', 'Donor5', 'Donor7', 'Donor8'], dtype=object)},\n",
       " '16': {'donors_to_impute': array(['Donor10', 'Donor2', 'Donor9', 'Donor6', 'Donor5', 'Donor4'],\n",
       "        dtype=object),\n",
       "  'donors_to_train_data': array(['Donor11', 'Donor12', 'Donor1', 'Donor3', 'Donor7', 'Donor8'],\n",
       "        dtype=object)},\n",
       " '17': {'donors_to_impute': array(['Donor8', 'Donor6', 'Donor5', 'Donor11', 'Donor4', 'Donor12'],\n",
       "        dtype=object),\n",
       "  'donors_to_train_data': array(['Donor10', 'Donor1', 'Donor2', 'Donor3', 'Donor7', 'Donor9'],\n",
       "        dtype=object)},\n",
       " '18': {'donors_to_impute': array(['Donor8', 'Donor10', 'Donor9', 'Donor3', 'Donor1', 'Donor4'],\n",
       "        dtype=object),\n",
       "  'donors_to_train_data': array(['Donor11', 'Donor12', 'Donor2', 'Donor5', 'Donor6', 'Donor7'],\n",
       "        dtype=object)},\n",
       " '19': {'donors_to_impute': array(['Donor2', 'Donor9', 'Donor7', 'Donor5', 'Donor4'], dtype=object),\n",
       "  'donors_to_train_data': array(['Donor10', 'Donor11', 'Donor12', 'Donor1', 'Donor3', 'Donor6',\n",
       "         'Donor8'], dtype=object)},\n",
       " '2': {'donors_to_impute': array(['Donor10', 'Donor2', 'Donor9', 'Donor7', 'Donor3', 'Donor6',\n",
       "         'Donor1', 'Donor5', 'Donor11', 'Donor4', 'Donor12'], dtype=object),\n",
       "  'donors_to_train_data': array(['Donor8'], dtype=object)},\n",
       " '20': {'donors_to_impute': array(['Donor10', 'Donor2', 'Donor7', 'Donor5', 'Donor12'], dtype=object),\n",
       "  'donors_to_train_data': array(['Donor11', 'Donor1', 'Donor3', 'Donor4', 'Donor6', 'Donor8',\n",
       "         'Donor9'], dtype=object)},\n",
       " '21': {'donors_to_impute': array(['Donor9', 'Donor7', 'Donor3', 'Donor1', 'Donor11'], dtype=object),\n",
       "  'donors_to_train_data': array(['Donor10', 'Donor12', 'Donor2', 'Donor4', 'Donor5', 'Donor6',\n",
       "         'Donor8'], dtype=object)},\n",
       " '22': {'donors_to_impute': array(['Donor2', 'Donor4', 'Donor3', 'Donor5'], dtype=object),\n",
       "  'donors_to_train_data': array(['Donor10', 'Donor11', 'Donor12', 'Donor1', 'Donor6', 'Donor7',\n",
       "         'Donor8', 'Donor9'], dtype=object)},\n",
       " '23': {'donors_to_impute': array(['Donor8', 'Donor12', 'Donor7', 'Donor11'], dtype=object),\n",
       "  'donors_to_train_data': array(['Donor10', 'Donor1', 'Donor2', 'Donor3', 'Donor4', 'Donor5',\n",
       "         'Donor6', 'Donor9'], dtype=object)},\n",
       " '24': {'donors_to_impute': array(['Donor2', 'Donor1', 'Donor9', 'Donor11'], dtype=object),\n",
       "  'donors_to_train_data': array(['Donor10', 'Donor12', 'Donor3', 'Donor4', 'Donor5', 'Donor6',\n",
       "         'Donor7', 'Donor8'], dtype=object)},\n",
       " '25': {'donors_to_impute': array(['Donor9', 'Donor3', 'Donor10'], dtype=object),\n",
       "  'donors_to_train_data': array(['Donor11', 'Donor12', 'Donor1', 'Donor2', 'Donor4', 'Donor5',\n",
       "         'Donor6', 'Donor7', 'Donor8'], dtype=object)},\n",
       " '26': {'donors_to_impute': array(['Donor9', 'Donor3', 'Donor11'], dtype=object),\n",
       "  'donors_to_train_data': array(['Donor10', 'Donor12', 'Donor1', 'Donor2', 'Donor4', 'Donor5',\n",
       "         'Donor6', 'Donor7', 'Donor8'], dtype=object)},\n",
       " '27': {'donors_to_impute': array(['Donor9', 'Donor12', 'Donor11'], dtype=object),\n",
       "  'donors_to_train_data': array(['Donor10', 'Donor1', 'Donor2', 'Donor3', 'Donor4', 'Donor5',\n",
       "         'Donor6', 'Donor7', 'Donor8'], dtype=object)},\n",
       " '28': {'donors_to_impute': array(['Donor2', 'Donor3'], dtype=object),\n",
       "  'donors_to_train_data': array(['Donor10', 'Donor11', 'Donor12', 'Donor1', 'Donor4', 'Donor5',\n",
       "         'Donor6', 'Donor7', 'Donor8', 'Donor9'], dtype=object)},\n",
       " '29': {'donors_to_impute': array(['Donor1', 'Donor12'], dtype=object),\n",
       "  'donors_to_train_data': array(['Donor10', 'Donor11', 'Donor2', 'Donor3', 'Donor4', 'Donor5',\n",
       "         'Donor6', 'Donor7', 'Donor8', 'Donor9'], dtype=object)},\n",
       " '3': {'donors_to_impute': array(['Donor8', 'Donor10', 'Donor2', 'Donor9', 'Donor7', 'Donor6',\n",
       "         'Donor1', 'Donor5', 'Donor11', 'Donor4', 'Donor12'], dtype=object),\n",
       "  'donors_to_train_data': array(['Donor3'], dtype=object)},\n",
       " '30': {'donors_to_impute': array(['Donor10', 'Donor5'], dtype=object),\n",
       "  'donors_to_train_data': array(['Donor11', 'Donor12', 'Donor1', 'Donor2', 'Donor3', 'Donor4',\n",
       "         'Donor6', 'Donor7', 'Donor8', 'Donor9'], dtype=object)},\n",
       " '31': {'donors_to_impute': array(['Donor10'], dtype=object),\n",
       "  'donors_to_train_data': array(['Donor8', 'Donor2', 'Donor9', 'Donor7', 'Donor3', 'Donor6',\n",
       "         'Donor1', 'Donor5', 'Donor11', 'Donor4', 'Donor12'], dtype=object)},\n",
       " '32': {'donors_to_impute': array(['Donor11'], dtype=object),\n",
       "  'donors_to_train_data': array(['Donor8', 'Donor10', 'Donor2', 'Donor9', 'Donor7', 'Donor3',\n",
       "         'Donor6', 'Donor1', 'Donor5', 'Donor4', 'Donor12'], dtype=object)},\n",
       " '33': {'donors_to_impute': array(['Donor12'], dtype=object),\n",
       "  'donors_to_train_data': array(['Donor8', 'Donor10', 'Donor2', 'Donor9', 'Donor7', 'Donor3',\n",
       "         'Donor6', 'Donor1', 'Donor5', 'Donor11', 'Donor4'], dtype=object)},\n",
       " '34': {'donors_to_impute': array(['Donor1'], dtype=object),\n",
       "  'donors_to_train_data': array(['Donor8', 'Donor10', 'Donor2', 'Donor9', 'Donor7', 'Donor3',\n",
       "         'Donor6', 'Donor5', 'Donor11', 'Donor4', 'Donor12'], dtype=object)},\n",
       " '35': {'donors_to_impute': array(['Donor2'], dtype=object),\n",
       "  'donors_to_train_data': array(['Donor8', 'Donor10', 'Donor9', 'Donor7', 'Donor3', 'Donor6',\n",
       "         'Donor1', 'Donor5', 'Donor11', 'Donor4', 'Donor12'], dtype=object)},\n",
       " '36': {'donors_to_impute': array(['Donor3'], dtype=object),\n",
       "  'donors_to_train_data': array(['Donor8', 'Donor10', 'Donor2', 'Donor9', 'Donor7', 'Donor6',\n",
       "         'Donor1', 'Donor5', 'Donor11', 'Donor4', 'Donor12'], dtype=object)},\n",
       " '37': {'donors_to_impute': array(['Donor4'], dtype=object),\n",
       "  'donors_to_train_data': array(['Donor8', 'Donor10', 'Donor2', 'Donor9', 'Donor7', 'Donor3',\n",
       "         'Donor6', 'Donor1', 'Donor5', 'Donor11', 'Donor12'], dtype=object)},\n",
       " '38': {'donors_to_impute': array(['Donor5'], dtype=object),\n",
       "  'donors_to_train_data': array(['Donor8', 'Donor10', 'Donor2', 'Donor9', 'Donor7', 'Donor3',\n",
       "         'Donor6', 'Donor1', 'Donor11', 'Donor4', 'Donor12'], dtype=object)},\n",
       " '39': {'donors_to_impute': array(['Donor6'], dtype=object),\n",
       "  'donors_to_train_data': array(['Donor8', 'Donor10', 'Donor2', 'Donor9', 'Donor7', 'Donor3',\n",
       "         'Donor1', 'Donor5', 'Donor11', 'Donor4', 'Donor12'], dtype=object)},\n",
       " '4': {'donors_to_impute': array(['Donor8', 'Donor10', 'Donor2', 'Donor9', 'Donor7', 'Donor3',\n",
       "         'Donor6', 'Donor1', 'Donor11', 'Donor4'], dtype=object),\n",
       "  'donors_to_train_data': array(['Donor12', 'Donor5'], dtype=object)},\n",
       " '40': {'donors_to_impute': array(['Donor7'], dtype=object),\n",
       "  'donors_to_train_data': array(['Donor8', 'Donor10', 'Donor2', 'Donor9', 'Donor3', 'Donor6',\n",
       "         'Donor1', 'Donor5', 'Donor11', 'Donor4', 'Donor12'], dtype=object)},\n",
       " '41': {'donors_to_impute': array(['Donor8'], dtype=object),\n",
       "  'donors_to_train_data': array(['Donor10', 'Donor2', 'Donor9', 'Donor7', 'Donor3', 'Donor6',\n",
       "         'Donor1', 'Donor5', 'Donor11', 'Donor4', 'Donor12'], dtype=object)},\n",
       " '42': {'donors_to_impute': array(['Donor9'], dtype=object),\n",
       "  'donors_to_train_data': array(['Donor8', 'Donor10', 'Donor2', 'Donor7', 'Donor3', 'Donor6',\n",
       "         'Donor1', 'Donor5', 'Donor11', 'Donor4', 'Donor12'], dtype=object)},\n",
       " '5': {'donors_to_impute': array(['Donor8', 'Donor10', 'Donor2', 'Donor9', 'Donor7', 'Donor3',\n",
       "         'Donor1', 'Donor5', 'Donor11', 'Donor12'], dtype=object),\n",
       "  'donors_to_train_data': array(['Donor4', 'Donor6'], dtype=object)},\n",
       " '6': {'donors_to_impute': array(['Donor8', 'Donor2', 'Donor9', 'Donor7', 'Donor3', 'Donor6',\n",
       "         'Donor5', 'Donor11', 'Donor4', 'Donor12'], dtype=object),\n",
       "  'donors_to_train_data': array(['Donor10', 'Donor1'], dtype=object)},\n",
       " '7': {'donors_to_impute': array(['Donor10', 'Donor9', 'Donor7', 'Donor3', 'Donor6', 'Donor1',\n",
       "         'Donor5', 'Donor11', 'Donor4'], dtype=object),\n",
       "  'donors_to_train_data': array(['Donor12', 'Donor2', 'Donor8'], dtype=object)},\n",
       " '8': {'donors_to_impute': array(['Donor8', 'Donor10', 'Donor2', 'Donor3', 'Donor6', 'Donor1',\n",
       "         'Donor11', 'Donor4', 'Donor12'], dtype=object),\n",
       "  'donors_to_train_data': array(['Donor5', 'Donor7', 'Donor9'], dtype=object)},\n",
       " '9': {'donors_to_impute': array(['Donor8', 'Donor2', 'Donor7', 'Donor3', 'Donor6', 'Donor1',\n",
       "         'Donor5', 'Donor11', 'Donor12'], dtype=object),\n",
       "  'donors_to_train_data': array(['Donor10', 'Donor4', 'Donor9'], dtype=object)}}"
      ]
     },
     "execution_count": 19,
     "metadata": {},
     "output_type": "execute_result"
    }
   ],
   "source": [
    "adata_rest.uns[\"split_info\"][\"donors_to_train_data\"]"
   ]
  },
  {
   "cell_type": "code",
   "execution_count": 20,
   "id": "579e1c03-bd31-4595-bcee-d00c38c2331a",
   "metadata": {},
   "outputs": [
    {
     "data": {
      "text/plain": [
       "dict_keys(['0', '1', '10', '11', '12', '13', '14', '15', '16', '17', '18', '19', '2', '20', '21', '22', '23', '24', '25', '26', '27', '28', '29', '3', '30', '31', '32', '33', '34', '35', '36', '37', '38', '39', '4', '40', '41', '42', '5', '6', '7', '8', '9'])"
      ]
     },
     "execution_count": 20,
     "metadata": {},
     "output_type": "execute_result"
    }
   ],
   "source": [
    "adata_rest.uns[\"split_info\"].keys()"
   ]
  },
  {
   "cell_type": "code",
   "execution_count": 25,
   "id": "2b81b709-ac01-4262-941b-18ecb1f9ef50",
   "metadata": {},
   "outputs": [
    {
     "data": {
      "text/plain": [
       "{'0': 0,\n",
       " '1': 1,\n",
       " '10': 4,\n",
       " '11': 4,\n",
       " '12': 4,\n",
       " '13': 5,\n",
       " '14': 5,\n",
       " '15': 5,\n",
       " '16': 6,\n",
       " '17': 6,\n",
       " '18': 6,\n",
       " '19': 7,\n",
       " '2': 1,\n",
       " '20': 7,\n",
       " '21': 7,\n",
       " '22': 8,\n",
       " '23': 8,\n",
       " '24': 8,\n",
       " '25': 9,\n",
       " '26': 9,\n",
       " '27': 9,\n",
       " '28': 10,\n",
       " '29': 10,\n",
       " '3': 1,\n",
       " '30': 10,\n",
       " '31': 11,\n",
       " '32': 11,\n",
       " '33': 11,\n",
       " '34': 11,\n",
       " '35': 11,\n",
       " '36': 11,\n",
       " '37': 11,\n",
       " '38': 11,\n",
       " '39': 11,\n",
       " '4': 2,\n",
       " '40': 11,\n",
       " '41': 11,\n",
       " '42': 11,\n",
       " '5': 2,\n",
       " '6': 2,\n",
       " '7': 3,\n",
       " '8': 3,\n",
       " '9': 3}"
      ]
     },
     "execution_count": 25,
     "metadata": {},
     "output_type": "execute_result"
    }
   ],
   "source": [
    "{idx: len(adata_rest.uns[\"split_info\"][str(idx)][\"donors_to_train_data\"]) for idx in adata_rest.uns[\"split_info\"].keys()}"
   ]
  },
  {
   "cell_type": "code",
   "execution_count": 22,
   "id": "2847ed76-46ae-49e7-b4fe-efd8f12ee23f",
   "metadata": {},
   "outputs": [
    {
     "data": {
      "text/plain": [
       "dict_keys(['0'])"
      ]
     },
     "execution_count": 22,
     "metadata": {},
     "output_type": "execute_result"
    }
   ],
   "source": [
    "adata_train.uns[\"split_info\"].keys()"
   ]
  },
  {
   "cell_type": "code",
   "execution_count": 26,
   "id": "769ab976-9983-4a92-bdc2-0ffba7bb0840",
   "metadata": {},
   "outputs": [
    {
     "data": {
      "text/plain": [
       "9"
      ]
     },
     "execution_count": 26,
     "metadata": {},
     "output_type": "execute_result"
    }
   ],
   "source": [
    "42-34+1"
   ]
  },
  {
   "cell_type": "code",
   "execution_count": null,
   "id": "0408ead7-c580-427d-8ee0-cf1570f46d13",
   "metadata": {},
   "outputs": [],
   "source": []
  }
 ],
 "metadata": {
  "kernelspec": {
   "display_name": "cfp",
   "language": "python",
   "name": "cfp"
  },
  "language_info": {
   "codemirror_mode": {
    "name": "ipython",
    "version": 3
   },
   "file_extension": ".py",
   "mimetype": "text/x-python",
   "name": "python",
   "nbconvert_exporter": "python",
   "pygments_lexer": "ipython3",
   "version": "3.11.9"
  }
 },
 "nbformat": 4,
 "nbformat_minor": 5
}
