{
 "cells": [
  {
   "cell_type": "code",
   "execution_count": 1,
   "id": "62e44f0e-2e8c-43c1-9054-4c2a8f22f9f1",
   "metadata": {},
   "outputs": [
    {
     "name": "stderr",
     "output_type": "stream",
     "text": [
      "Warning message:\n",
      "“package ‘tidyverse’ was built under R version 4.2.3”\n",
      "Warning message:\n",
      "“package ‘tibble’ was built under R version 4.2.3”\n",
      "Warning message:\n",
      "“package ‘readr’ was built under R version 4.2.3”\n",
      "Warning message:\n",
      "“package ‘purrr’ was built under R version 4.2.3”\n",
      "Warning message:\n",
      "“package ‘dplyr’ was built under R version 4.2.3”\n",
      "Warning message:\n",
      "“package ‘stringr’ was built under R version 4.2.3”\n",
      "Warning message:\n",
      "“package ‘forcats’ was built under R version 4.2.3”\n",
      "Warning message:\n",
      "“package ‘lubridate’ was built under R version 4.2.3”\n",
      "── \u001b[1mAttaching core tidyverse packages\u001b[22m ──────────────────────── tidyverse 2.0.0 ──\n",
      "\u001b[32m✔\u001b[39m \u001b[34mdplyr    \u001b[39m 1.1.4     \u001b[32m✔\u001b[39m \u001b[34mreadr    \u001b[39m 2.1.4\n",
      "\u001b[32m✔\u001b[39m \u001b[34mforcats  \u001b[39m 1.0.0     \u001b[32m✔\u001b[39m \u001b[34mstringr  \u001b[39m 1.5.1\n",
      "\u001b[32m✔\u001b[39m \u001b[34mggplot2  \u001b[39m 3.5.1     \u001b[32m✔\u001b[39m \u001b[34mtibble   \u001b[39m 3.2.1\n",
      "\u001b[32m✔\u001b[39m \u001b[34mlubridate\u001b[39m 1.9.3     \u001b[32m✔\u001b[39m \u001b[34mtidyr    \u001b[39m 1.3.1\n",
      "\u001b[32m✔\u001b[39m \u001b[34mpurrr    \u001b[39m 1.0.2     \n",
      "── \u001b[1mConflicts\u001b[22m ────────────────────────────────────────── tidyverse_conflicts() ──\n",
      "\u001b[31m✖\u001b[39m \u001b[34mdplyr\u001b[39m::\u001b[32mfilter()\u001b[39m masks \u001b[34mstats\u001b[39m::filter()\n",
      "\u001b[31m✖\u001b[39m \u001b[34mdplyr\u001b[39m::\u001b[32mlag()\u001b[39m    masks \u001b[34mstats\u001b[39m::lag()\n",
      "\u001b[36mℹ\u001b[39m Use the conflicted package (\u001b[3m\u001b[34m<http://conflicted.r-lib.org/>\u001b[39m\u001b[23m) to force all conflicts to become errors\n",
      "also installing the dependencies ‘sysfonts’, ‘showtextdb’\n",
      "\n",
      "\n",
      "Warning message in install.packages(\"showtext\"):\n",
      "“installation of package ‘sysfonts’ had non-zero exit status”\n",
      "Warning message in install.packages(\"showtext\"):\n",
      "“installation of package ‘showtextdb’ had non-zero exit status”\n",
      "Warning message in install.packages(\"showtext\"):\n",
      "“installation of package ‘showtext’ had non-zero exit status”\n",
      "Registering fonts with R\n",
      "\n"
     ]
    },
    {
     "name": "stdin",
     "output_type": "stream",
     "text": [
      "Importing fonts may take a few minutes, depending on the number of fonts and the speed of the system.\n",
      "Continue? [y/n]  y\n"
     ]
    },
    {
     "name": "stderr",
     "output_type": "stream",
     "text": [
      "Scanning ttf files in /usr/share/fonts/ ...\n",
      "\n",
      "Extracting .afm files from .ttf files...\n",
      "\n",
      "/usr/share/fonts/dejavu-sans-fonts/DejaVuSans-Bold.ttf\n",
      " : DejaVuSans-Bold already registered in fonts database. Skipping.\n",
      "\n",
      "/usr/share/fonts/dejavu-sans-fonts/DejaVuSans-BoldOblique.ttf\n",
      " : DejaVuSans-BoldOblique already registered in fonts database. Skipping.\n",
      "\n",
      "/usr/share/fonts/dejavu-sans-fonts/DejaVuSans-ExtraLight.ttf\n",
      " : DejaVuSans-ExtraLight already registered in fonts database. Skipping.\n",
      "\n",
      "/usr/share/fonts/dejavu-sans-fonts/DejaVuSans-Oblique.ttf\n",
      " : DejaVuSans-Oblique already registered in fonts database. Skipping.\n",
      "\n",
      "/usr/share/fonts/dejavu-sans-fonts/DejaVuSans.ttf\n",
      " : DejaVuSans already registered in fonts database. Skipping.\n",
      "\n",
      "/usr/share/fonts/dejavu-sans-fonts/DejaVuSansCondensed-Bold.ttf\n",
      " : DejaVuSansCondensed-Bold already registered in fonts database. Skipping.\n",
      "\n",
      "/usr/share/fonts/dejavu-sans-fonts/DejaVuSansCondensed-BoldOblique.ttf\n",
      " : DejaVuSansCondensed-BoldOblique already registered in fonts database. Skipping.\n",
      "\n",
      "/usr/share/fonts/dejavu-sans-fonts/DejaVuSansCondensed-Oblique.ttf\n",
      " : DejaVuSansCondensed-Oblique already registered in fonts database. Skipping.\n",
      "\n",
      "/usr/share/fonts/dejavu-sans-fonts/DejaVuSansCondensed.ttf\n",
      " : DejaVuSansCondensed already registered in fonts database. Skipping.\n",
      "\n",
      "/usr/share/fonts/dejavu-sans-mono-fonts/DejaVuSansMono-Bold.ttf\n",
      " : DejaVuSansMono-Bold already registered in fonts database. Skipping.\n",
      "\n",
      "/usr/share/fonts/dejavu-sans-mono-fonts/DejaVuSansMono-BoldOblique.ttf\n",
      " : DejaVuSansMono-BoldOblique already registered in fonts database. Skipping.\n",
      "\n",
      "/usr/share/fonts/dejavu-sans-mono-fonts/DejaVuSansMono-Oblique.ttf\n",
      " : DejaVuSansMono-Oblique already registered in fonts database. Skipping.\n",
      "\n",
      "/usr/share/fonts/dejavu-sans-mono-fonts/DejaVuSansMono.ttf\n",
      " : DejaVuSansMono already registered in fonts database. Skipping.\n",
      "\n",
      "/usr/share/fonts/google-droid-sans-fonts/DroidKufi-Bold.ttf\n",
      " : DroidArabicKufi-Bold already registered in fonts database. Skipping.\n",
      "\n",
      "/usr/share/fonts/google-droid-sans-fonts/DroidKufi-Regular.ttf\n",
      " : DroidArabicKufi already registered in fonts database. Skipping.\n",
      "\n",
      "/usr/share/fonts/google-droid-sans-fonts/DroidSans-Bold.ttf\n",
      " : DroidSans-Bold already registered in fonts database. Skipping.\n",
      "\n",
      "/usr/share/fonts/google-droid-sans-fonts/DroidSans.ttf\n",
      " : DroidSans already registered in fonts database. Skipping.\n",
      "\n",
      "/usr/share/fonts/google-droid-sans-fonts/DroidSansArmenian.ttf\n",
      " : DroidSansArmenian already registered in fonts database. Skipping.\n",
      "\n",
      "/usr/share/fonts/google-droid-sans-fonts/DroidSansDevanagari-Regular.ttf\n",
      " : DroidSansDevanagari already registered in fonts database. Skipping.\n",
      "\n",
      "/usr/share/fonts/google-droid-sans-fonts/DroidSansEthiopic-Bold.ttf\n",
      " : DroidSansEthiopic-Bold already registered in fonts database. Skipping.\n",
      "\n",
      "/usr/share/fonts/google-droid-sans-fonts/DroidSansEthiopic-Regular.ttf\n",
      " : DroidSansEthiopic already registered in fonts database. Skipping.\n",
      "\n",
      "/usr/share/fonts/google-droid-sans-fonts/DroidSansFallbackFull.ttf\n",
      " : DroidSansFallback already registered in fonts database. Skipping.\n",
      "\n",
      "/usr/share/fonts/google-droid-sans-fonts/DroidSansGeorgian.ttf\n",
      " : DroidSansGeorgian already registered in fonts database. Skipping.\n",
      "\n",
      "/usr/share/fonts/google-droid-sans-fonts/DroidSansHebrew-Bold.ttf\n",
      " : DroidSansHebrew-Bold already registered in fonts database. Skipping.\n",
      "\n",
      "/usr/share/fonts/google-droid-sans-fonts/DroidSansHebrew-Regular.ttf\n",
      " : DroidSansHebrew already registered in fonts database. Skipping.\n",
      "\n",
      "/usr/share/fonts/google-droid-sans-fonts/DroidSansJapanese.ttf\n",
      "Warning message in system2(enc2native(ttf2pt1), c(args, shQuote(ttfiles[i]), shQuote(tmpfiles[i])), :\n",
      "“running command ''/ictstr01/home/icb/dominik.klein/mambaforge/envs/gene-regulatory-networks-atac/lib/R/library/Rttf2pt1/exec//ttf2pt1' -a -GfAe '/usr/share/fonts/google-droid-sans-fonts/DroidSansJapanese.ttf' '/tmp/RtmpZ7m8VJ/fonts/DroidSansJapanese' 2>&1' had status 1”\n",
      " : No FontName. Skipping.\n",
      "\n",
      "/usr/share/fonts/google-droid-sans-fonts/DroidSansTamil-Bold.ttf\n",
      " : DroidSansTamil-Bold already registered in fonts database. Skipping.\n",
      "\n",
      "/usr/share/fonts/google-droid-sans-fonts/DroidSansTamil-Regular.ttf\n",
      " : DroidSansTamil already registered in fonts database. Skipping.\n",
      "\n",
      "/usr/share/fonts/google-droid-sans-fonts/DroidSansThai.ttf\n",
      " : DroidSansThai already registered in fonts database. Skipping.\n",
      "\n",
      "Found FontName for 0 fonts.\n",
      "\n",
      "Scanning afm files in /ictstr01/home/icb/dominik.klein/mambaforge/envs/gene-regulatory-networks-atac/lib/R/library/extrafontdb/metrics\n",
      "\n",
      "Warning message:\n",
      "“\u001b[1m\u001b[22mThe `size` argument of `element_line()` is deprecated as of ggplot2 3.4.0.\n",
      "\u001b[36mℹ\u001b[39m Please use the `linewidth` argument instead.”\n"
     ]
    }
   ],
   "source": [
    "library(tidyverse)\n",
    "library(dplyr)\n",
    "\n",
    "install.packages(\"showtext\")\n",
    "install.packages(\"extrafont\")\n",
    "library(extrafont)\n",
    "font_import()\n",
    "\n",
    "\n",
    "theme_rangeframe <- function(size = 0.3) {\n",
    "    theme(\n",
    "        axis.line = element_line(colour = \"black\", lineend = \"round\", size = size),\n",
    "        axis.ticks = element_line(linewidth = size),\n",
    "        panel.border = element_blank()\n",
    "    )\n",
    "}\n",
    "\n",
    "scale_axis_rangeframe <- function() {\n",
    "    guides(x = \"axis_truncated\", y = \"axis_truncated\")\n",
    "}\n",
    "\n",
    "rotate_x_text <- function(angle=45) {\n",
    "    theme(\n",
    "        axis.text.x = element_text(angle = angle, hjust = 1)\n",
    "    )\n",
    "}\n",
    "\n",
    "article_text <- function() {\n",
    "    theme(\n",
    "        text = element_text(size = 5, family = \"Helvetica\"),\n",
    "        title = element_text(size = 6),\n",
    "        axis.text.x = element_text(size = 5),\n",
    "        axis.text.y = element_text(size = 5)\n",
    "    )\n",
    "}\n",
    "\n",
    "no_legend <- function() {\n",
    "    theme(\n",
    "        legend.position = \"none\"\n",
    "    )\n",
    "}\n",
    "\n",
    "no_margin <- function() {\n",
    "    theme(\n",
    "        plot.margin = margin(0, 0, 0, 0, unit = \"lines\")\n",
    "    )\n",
    "}\n",
    "\n",
    "no_label <- function() {\n",
    "    theme(\n",
    "        axis.title = element_blank()\n",
    "    )\n",
    "}\n",
    "\n",
    "no_text <- function() {\n",
    "    theme(\n",
    "        axis.title = element_blank(),\n",
    "        axis.text = element_blank(),\n",
    "        axis.ticks = element_blank()\n",
    "    )\n",
    "}\n",
    "\n",
    "no_x_text <- function() {\n",
    "    theme(\n",
    "        axis.text.x = element_blank(),\n",
    "        axis.ticks.x = element_blank()\n",
    "    )\n",
    "}\n",
    "\n",
    "no_y_text <- function() {\n",
    "    theme(\n",
    "        axis.text.y = element_blank(),\n",
    "        axis.ticks.y = element_blank()\n",
    "    )\n",
    "}\n",
    "\n",
    "\n",
    "custom_theme <- function(size = 0.3){\n",
    "    theme_minimal() +\n",
    "    theme(\n",
    "        text = element_text(family='Helvetica'),\n",
    "        axis.line = element_line(colour = \"black\", lineend = \"round\", size = size),\n",
    "        axis.ticks = element_line(linewidth = size),\n",
    "        panel.border = element_blank()\n",
    "    )\n",
    "\n",
    "}\n",
    "theme_set(custom_theme())\n",
    "\n",
    "article_text <- function() {\n",
    "    theme(\n",
    "        text = element_text(size = 5, family = \"Helvetica\"),\n",
    "        title = element_text(size = 6),\n",
    "        axis.text.x = element_text(size = 5),\n",
    "        axis.text.y = element_text(size = 5)\n",
    "    )\n",
    "}"
   ]
  },
  {
   "cell_type": "code",
   "execution_count": 2,
   "id": "c87294bc-5344-4da8-9401-f2d8f4664f73",
   "metadata": {},
   "outputs": [],
   "source": [
    "color_dict = c(\n",
    "    \"CellFlow\"= \"#B12F8C\",\n",
    "    \"Mean model 1\"= \"#8F97A8\",\n",
    "    \"Mean model 2\"= \"#566573\",\n",
    "    \"Identity\"=\"#BDBDBD\")"
   ]
  },
  {
   "cell_type": "code",
   "execution_count": 3,
   "id": "8f32657d-b283-431f-bd65-9e79258693ef",
   "metadata": {},
   "outputs": [],
   "source": [
    "output_dir <- \"/lustre/groups/ml01/workspace/ot_perturbation/figures/pbmc_new_donor/benchmark\""
   ]
  },
  {
   "cell_type": "code",
   "execution_count": 4,
   "id": "99f3a4d8-6c4f-45e0-a4d0-ec303f589e26",
   "metadata": {},
   "outputs": [
    {
     "name": "stderr",
     "output_type": "stream",
     "text": [
      "\u001b[1m\u001b[22mNew names:\n",
      "\u001b[36m•\u001b[39m `` -> `...1`\n",
      "\u001b[1mRows: \u001b[22m\u001b[34m9456\u001b[39m \u001b[1mColumns: \u001b[22m\u001b[34m179\u001b[39m\n",
      "\u001b[36m──\u001b[39m \u001b[1mColumn specification\u001b[22m \u001b[36m────────────────────────────────────────────────────────\u001b[39m\n",
      "\u001b[1mDelimiter:\u001b[22m \",\"\n",
      "\u001b[31mchr\u001b[39m   (10): ...1, Unnamed: 0, predicted_deg_genes, wandb_name, cytokine_in_t...\n",
      "\u001b[32mdbl\u001b[39m  (167): mean_decoded_r_sq_per_cell_type, mean_e_distance_per_cell_type, ...\n",
      "\u001b[33mlgl\u001b[39m    (1): new_run\n",
      "\u001b[34mdttm\u001b[39m   (1): date\n",
      "\n",
      "\u001b[36mℹ\u001b[39m Use `spec()` to retrieve the full column specification for this data.\n",
      "\u001b[36mℹ\u001b[39m Specify the column types or set `show_col_types = FALSE` to quiet this message.\n"
     ]
    }
   ],
   "source": [
    "df <- read_csv(\"/lustre/groups/ml01/workspace/ot_perturbation/data/pbmc/results/allocation/metrics_new_donor.csv\")"
   ]
  },
  {
   "cell_type": "code",
   "execution_count": 5,
   "id": "bf9884df-ee18-4b94-8faf-c41c269f77f8",
   "metadata": {},
   "outputs": [],
   "source": [
    "df$method <- factor(df$method, \n",
    "                                levels = c(\"id\", \"m1\", \"m2\", \"cf\"),\n",
    "                                labels = c(\"Identity\", \"Mean model 1\", \"Mean model 2\", \"CellFlow\"))  # Correct factorization\n",
    "df$num_cytokines_in_train <- as.character(df$num_cytokines_in_train)\n",
    "\n",
    "df$num_cytokines_in_train <- factor(df$num_cytokines_in_train, \n",
    "                                    levels = sort(as.numeric(unique(df$num_cytokines_in_train))))\n",
    "\n"
   ]
  },
  {
   "cell_type": "code",
   "execution_count": 6,
   "id": "7123aec1-feb4-4d38-b1d3-149771896a3c",
   "metadata": {},
   "outputs": [
    {
     "name": "stderr",
     "output_type": "stream",
     "text": [
      "\u001b[1m\u001b[22mScale for \u001b[32mfill\u001b[39m is already present.\n",
      "Adding another scale for \u001b[32mfill\u001b[39m, which will replace the existing scale.\n"
     ]
    },
    {
     "data": {
      "image/png": "[encoded data removed]",
      "text/plain": [
       "plot without title"
      ]
     },
     "metadata": {
      "image/png": {
       "height": 156,
       "width": 540
      }
     },
     "output_type": "display_data"
    }
   ],
   "source": [
    "options(repr.plot.width = 9.0, repr.plot.height = 2.6, unit=\"cm\")\n",
    "\n",
    "df_summary <- df %>%\n",
    "  group_by(num_cytokines_in_train, method) %>%\n",
    "  summarise(\n",
    "    mean_ood_mmd = mean(ood_mmd, na.rm = TRUE),\n",
    "    se = sd(ood_mmd, na.rm = TRUE) / sqrt(n()),  # Standard error\n",
    "    .groups = 'drop'\n",
    "  )\n",
    "\n",
    "p <- ggplot(df_summary, aes(x=num_cytokines_in_train, y=mean_ood_mmd, fill=method)) +\n",
    "  geom_bar(\n",
    "    stat=\"identity\", \n",
    "    position=position_dodge(0.7), \n",
    "    width=0.6  # Bar width\n",
    "  ) +\n",
    "  geom_errorbar(\n",
    "    aes(ymin = mean_ood_mmd - se, ymax = mean_ood_mmd + se),\n",
    "    position=position_dodge(0.7),  # Align error bars with bars\n",
    "    width=0.5,  # Width of error bar caps\n",
    "    linewidth=0.3,\n",
    "  ) +\n",
    "  labs(\n",
    "    x=\"Number of cytokines seen for test donor\",\n",
    "    y=\"MMD\",\n",
    "    fill=\"Method\"\n",
    "  ) +\n",
    "#scale_y_log10() +\n",
    "scale_fill_manual(values=color_dict) +\n",
    "  scale_fill_manual(values=color_dict) +  # Replace with your actual color dictionary\n",
    "  custom_theme() +\n",
    "    article_text() +\n",
    "    no_legend() +\n",
    "  theme(\n",
    "    axis.title.x = element_text(size=5),\n",
    "    axis.title.y = element_text(size=5),\n",
    "    axis.text.x = element_text(size=5),\n",
    "    axis.text.y = element_text(size=5),\n",
    "    panel.grid.major = element_blank(),\n",
    "    panel.grid.minor = element_blank()\n",
    "  )\n",
    "p\n"
   ]
  },
  {
   "cell_type": "code",
   "execution_count": 7,
   "id": "3ca4f298-db2e-49fe-b57c-9d4e02c946f4",
   "metadata": {},
   "outputs": [],
   "source": [
    "ggsave(file.path(output_dir, \"MMD.pdf\"), plot = p, device = \"pdf\",width = 8.0, height = 4.0, unit=\"cm\")"
   ]
  },
  {
   "cell_type": "code",
   "execution_count": 8,
   "id": "959478c1-091d-456a-b672-7b8e8d548331",
   "metadata": {},
   "outputs": [],
   "source": [
    "df$sinkhorn_div <- df$ood_sdiv_10 + df$ood_sdiv_100\n",
    "df$mean_sinkhorn_div_per_cell_type <- df$mean_sdiv_100_per_cell_type + df$mean_sdiv_100_per_cell_type"
   ]
  },
  {
   "cell_type": "code",
   "execution_count": 9,
   "id": "9ff098d1-8923-4452-9485-c9245a35c550",
   "metadata": {},
   "outputs": [
    {
     "name": "stderr",
     "output_type": "stream",
     "text": [
      "\u001b[1m\u001b[22mScale for \u001b[32mfill\u001b[39m is already present.\n",
      "Adding another scale for \u001b[32mfill\u001b[39m, which will replace the existing scale.\n"
     ]
    },
    {
     "data": {
      "image/png": "[encoded data removed]",
      "text/plain": [
       "plot without title"
      ]
     },
     "metadata": {
      "image/png": {
       "height": 156,
       "width": 540
      }
     },
     "output_type": "display_data"
    }
   ],
   "source": [
    "options(repr.plot.width = 9.0, repr.plot.height = 2.6, unit=\"cm\")\n",
    "\n",
    "df_summary <- df %>%\n",
    "  group_by(num_cytokines_in_train, method) %>%\n",
    "  summarise(\n",
    "    mean_sinkhorn_div = mean(sinkhorn_div, na.rm = TRUE),\n",
    "    se = sd(sinkhorn_div, na.rm = TRUE) / sqrt(n()),  # Standard error\n",
    "    .groups = 'drop'\n",
    "  )\n",
    "\n",
    "p <- ggplot(df_summary, aes(x=num_cytokines_in_train, y=mean_sinkhorn_div, fill=method)) +\n",
    "  geom_bar(\n",
    "    stat=\"identity\", \n",
    "    position=position_dodge(0.7), \n",
    "    width=0.6  # Bar width\n",
    "  ) +\n",
    "  geom_errorbar(\n",
    "    aes(ymin = mean_sinkhorn_div - se, ymax = mean_sinkhorn_div + se),\n",
    "    position=position_dodge(0.7),  # Align error bars with bars\n",
    "    width=0.5,  # Width of error bar caps\n",
    "    linewidth=0.3,\n",
    "  ) +\n",
    "  labs(\n",
    "    x=\"Number of cytokines seen for test donor\",\n",
    "    y=\"Sinkhorn divergence\",\n",
    "    fill=\"Method\"\n",
    "  ) +\n",
    "#scale_y_log10() +\n",
    "scale_fill_manual(values=color_dict) +\n",
    "  scale_fill_manual(values=color_dict) +  # Replace with your actual color dictionary\n",
    "  custom_theme() +\n",
    "    article_text() +\n",
    "    no_legend() +\n",
    "  theme(\n",
    "    axis.title.x = element_text(size=5),\n",
    "    axis.title.y = element_text(size=5),\n",
    "    axis.text.x = element_text(size=5),\n",
    "    axis.text.y = element_text(size=5),\n",
    "    panel.grid.major = element_blank(),\n",
    "    panel.grid.minor = element_blank()\n",
    "  )\n",
    "p\n"
   ]
  },
  {
   "cell_type": "code",
   "execution_count": 10,
   "id": "ea5cbd2a-24ca-4ba8-8c17-e7eaeb4740f3",
   "metadata": {},
   "outputs": [],
   "source": [
    "ggsave(file.path(output_dir, \"sinkhorn_div.pdf\"), plot = p, device = \"pdf\",width = 8.0, height = 4.0, unit=\"cm\")"
   ]
  },
  {
   "cell_type": "code",
   "execution_count": 11,
   "id": "395a0cc3-9f02-495e-b7d2-dc236982f0a8",
   "metadata": {},
   "outputs": [
    {
     "name": "stderr",
     "output_type": "stream",
     "text": [
      "\u001b[1m\u001b[22mScale for \u001b[32mfill\u001b[39m is already present.\n",
      "Adding another scale for \u001b[32mfill\u001b[39m, which will replace the existing scale.\n"
     ]
    },
    {
     "data": {
      "image/png": "[encoded data removed]",
      "text/plain": [
       "plot without title"
      ]
     },
     "metadata": {
      "image/png": {
       "height": 156,
       "width": 540
      }
     },
     "output_type": "display_data"
    }
   ],
   "source": [
    "options(repr.plot.width = 9.0, repr.plot.height = 2.6, unit=\"cm\")\n",
    "\n",
    "df_summary <- df %>%\n",
    "  group_by(num_cytokines_in_train, method) %>%\n",
    "  summarise(\n",
    "    mean_mean_decoded_r_sq_per_cell_type = mean(mean_decoded_r_sq_per_cell_type, na.rm = TRUE),\n",
    "    se = sd(mean_decoded_r_sq_per_cell_type, na.rm = TRUE) / sqrt(n()),  # Standard error\n",
    "    .groups = 'drop'\n",
    "  )\n",
    "\n",
    "p <- ggplot(df_summary, aes(x=num_cytokines_in_train, y=mean_mean_decoded_r_sq_per_cell_type, fill=method)) +\n",
    "  geom_bar(\n",
    "    stat=\"identity\", \n",
    "    position=position_dodge(0.7), \n",
    "    width=0.6  # Bar width\n",
    "  ) +\n",
    "  geom_errorbar(\n",
    "    aes(ymin = mean_mean_decoded_r_sq_per_cell_type - se, ymax = mean_mean_decoded_r_sq_per_cell_type + se),\n",
    "    position=position_dodge(0.7),  # Align error bars with bars\n",
    "    width=0.5,  # Width of error bar caps\n",
    "    linewidth=0.3,\n",
    "  ) +\n",
    "  labs(\n",
    "    x=\"Number of cytokines seen for test donor\",\n",
    "    y=\"Mean R squared per cell type\",\n",
    "    fill=\"Method\"\n",
    "  ) +\n",
    "#scale_y_log10() +\n",
    "scale_fill_manual(values=color_dict) +\n",
    "  scale_fill_manual(values=color_dict) +  # Replace with your actual color dictionary\n",
    "  custom_theme() +\n",
    "    article_text() +\n",
    "    no_legend() +\n",
    "  theme(\n",
    "    axis.title.x = element_text(size=5),\n",
    "    axis.title.y = element_text(size=5),\n",
    "    axis.text.x = element_text(size=5),\n",
    "    axis.text.y = element_text(size=5),\n",
    "    panel.grid.major = element_blank(),\n",
    "    panel.grid.minor = element_blank()\n",
    "  ) +\n",
    "  coord_cartesian(ylim = c(0.70, 0.95)) \n",
    "p\n"
   ]
  },
  {
   "cell_type": "code",
   "execution_count": 12,
   "id": "5b8f4538-da6f-48e4-ac24-8f14d761c7ca",
   "metadata": {},
   "outputs": [],
   "source": [
    "ggsave(file.path(output_dir, \"mean_r_squared_per_cell_type.pdf\"), plot = p, device = \"pdf\",width = 8.0, height = 4.0, unit=\"cm\")\n"
   ]
  },
  {
   "cell_type": "code",
   "execution_count": 13,
   "id": "f55fe3c9-c446-4c82-bef1-a8ce5e8688b1",
   "metadata": {},
   "outputs": [
    {
     "name": "stderr",
     "output_type": "stream",
     "text": [
      "\u001b[1m\u001b[22mScale for \u001b[32mfill\u001b[39m is already present.\n",
      "Adding another scale for \u001b[32mfill\u001b[39m, which will replace the existing scale.\n"
     ]
    },
    {
     "data": {
      "image/png": "[encoded data removed]",
      "text/plain": [
       "plot without title"
      ]
     },
     "metadata": {
      "image/png": {
       "height": 240,
       "width": 480
      }
     },
     "output_type": "display_data"
    }
   ],
   "source": [
    "options(repr.plot.width = 8.0, repr.plot.height = 4.0, unit=\"cm\")\n",
    "\n",
    "df_summary <- df %>%\n",
    "  group_by(num_cytokines_in_train, method) %>%\n",
    "  summarise(\n",
    "    mean_mean_e_distance_per_cell_type = mean(mean_e_distance_per_cell_type, na.rm = TRUE),\n",
    "    se = sd(mean_e_distance_per_cell_type, na.rm = TRUE) / sqrt(n()),  # Standard error\n",
    "    .groups = 'drop'\n",
    "  )\n",
    "\n",
    "p <- ggplot(df_summary, aes(x=num_cytokines_in_train, y=mean_mean_e_distance_per_cell_type, fill=method)) +\n",
    "  geom_bar(\n",
    "    stat=\"identity\", \n",
    "    position=position_dodge(0.7), \n",
    "    width=0.6  # Bar width\n",
    "  ) +\n",
    "  geom_errorbar(\n",
    "    aes(ymin = mean_mean_e_distance_per_cell_type - se, ymax = mean_mean_e_distance_per_cell_type + se),\n",
    "    position=position_dodge(0.7),  # Align error bars with bars\n",
    "    width=0.5,  # Width of error bar caps\n",
    "    linewidth=0.3,\n",
    "  ) +\n",
    "  labs(\n",
    "    x=\"Number of cytokines seen for test donor\",\n",
    "    y=\"Mean energy distance per cell type\",\n",
    "    fill=\"Method\"\n",
    "  ) +\n",
    "#scale_y_log10() +\n",
    "scale_fill_manual(values=color_dict) +\n",
    "  scale_fill_manual(values=color_dict) +  # Replace with your actual color dictionary\n",
    "  custom_theme() +\n",
    "    article_text() +\n",
    "    no_legend() +\n",
    "  theme(\n",
    "    axis.title.x = element_text(size=5),\n",
    "    axis.title.y = element_text(size=5),\n",
    "    axis.text.x = element_text(size=5),\n",
    "    axis.text.y = element_text(size=5),\n",
    "    panel.grid.major = element_blank(),\n",
    "    panel.grid.minor = element_blank()\n",
    "  ) #+\n",
    "  #coord_cartesian(ylim = c(0.70, 0.95)) \n",
    "p\n"
   ]
  },
  {
   "cell_type": "code",
   "execution_count": 14,
   "id": "ea9a136a-7985-4bba-b710-8c44568d3ac3",
   "metadata": {},
   "outputs": [],
   "source": [
    "ggsave(file.path(output_dir, \"mean_e_distance_per_cell_type.pdf\"), plot = p, device = \"pdf\",width = 8.0, height = 4.0, unit=\"cm\")\n"
   ]
  },
  {
   "cell_type": "code",
   "execution_count": 15,
   "id": "7f9e76ec-effc-4afe-aca0-f697093c5436",
   "metadata": {},
   "outputs": [
    {
     "name": "stderr",
     "output_type": "stream",
     "text": [
      "\u001b[1m\u001b[22mScale for \u001b[32mfill\u001b[39m is already present.\n",
      "Adding another scale for \u001b[32mfill\u001b[39m, which will replace the existing scale.\n"
     ]
    },
    {
     "data": {
      "image/png": "[encoded data removed]",
      "text/plain": [
       "plot without title"
      ]
     },
     "metadata": {
      "image/png": {
       "height": 156,
       "width": 540
      }
     },
     "output_type": "display_data"
    }
   ],
   "source": [
    "options(repr.plot.width = 9.0, repr.plot.height = 2.6, unit=\"cm\")\n",
    "\n",
    "df_summary <- df %>%\n",
    "  group_by(num_cytokines_in_train, method) %>%\n",
    "  summarise(\n",
    "    mean_mean_sinkhorn_div_per_cell_type = mean(mean_sinkhorn_div_per_cell_type, na.rm = TRUE),\n",
    "    se = sd(mean_sinkhorn_div_per_cell_type, na.rm = TRUE) / sqrt(n()),  # Standard error\n",
    "    .groups = 'drop'\n",
    "  )\n",
    "\n",
    "p <- ggplot(df_summary, aes(x=num_cytokines_in_train, y=mean_mean_sinkhorn_div_per_cell_type, fill=method)) +\n",
    "  geom_bar(\n",
    "    stat=\"identity\", \n",
    "    position=position_dodge(0.7), \n",
    "    width=0.6  # Bar width\n",
    "  ) +\n",
    "  geom_errorbar(\n",
    "    aes(ymin = mean_mean_sinkhorn_div_per_cell_type - se, ymax = mean_mean_sinkhorn_div_per_cell_type + se),\n",
    "    position=position_dodge(0.7),  # Align error bars with bars\n",
    "    width=0.5,  # Width of error bar caps\n",
    "    linewidth=0.3,\n",
    "  ) +\n",
    "  labs(\n",
    "    x=\"Number of cytokines seen for test donor\",\n",
    "    y=\"Mean Sinkhorn divergence per cell type\",\n",
    "    fill=\"Method\"\n",
    "  ) +\n",
    "#scale_y_log10() +\n",
    "scale_fill_manual(values=color_dict) +\n",
    "  scale_fill_manual(values=color_dict) +  # Replace with your actual color dictionary\n",
    "  custom_theme() +\n",
    "    article_text() +\n",
    "    no_legend() +\n",
    "  theme(\n",
    "    axis.title.x = element_text(size=5),\n",
    "    axis.title.y = element_text(size=5),\n",
    "    axis.text.x = element_text(size=5),\n",
    "    axis.text.y = element_text(size=5),\n",
    "    panel.grid.major = element_blank(),\n",
    "    panel.grid.minor = element_blank()\n",
    "  ) #+\n",
    "  #coord_cartesian(ylim = c(0.70, 0.95)) \n",
    "p\n"
   ]
  },
  {
   "cell_type": "code",
   "execution_count": 16,
   "id": "70239e8c-4062-485b-9d96-a913bc36f1d3",
   "metadata": {},
   "outputs": [],
   "source": [
    "ggsave(file.path(output_dir, \"mean_sinkhorn_div_per_cell_type.pdf\"), plot = p, device = \"pdf\",width = 8.0, height = 4.0, unit=\"cm\")\n"
   ]
  },
  {
   "cell_type": "code",
   "execution_count": 17,
   "id": "19bc95cf-d6b7-466f-8328-008b33ff6d98",
   "metadata": {},
   "outputs": [
    {
     "name": "stderr",
     "output_type": "stream",
     "text": [
      "\u001b[1m\u001b[22mScale for \u001b[32mfill\u001b[39m is already present.\n",
      "Adding another scale for \u001b[32mfill\u001b[39m, which will replace the existing scale.\n"
     ]
    },
    {
     "data": {
      "image/png": "[encoded data removed]",
      "text/plain": [
       "plot without title"
      ]
     },
     "metadata": {
      "image/png": {
       "height": 156,
       "width": 540
      }
     },
     "output_type": "display_data"
    }
   ],
   "source": [
    "options(repr.plot.width = 9.0, repr.plot.height = 2.6, unit=\"cm\")\n",
    "\n",
    "df_summary <- df %>%\n",
    "  group_by(num_cytokines_in_train, method) %>%\n",
    "  summarise(\n",
    "    mean_mean_mmd_per_cell_type = mean(mean_mmd_per_cell_type, na.rm = TRUE),\n",
    "    se = sd(mean_mmd_per_cell_type, na.rm = TRUE) / sqrt(n()),  # Standard error\n",
    "    .groups = 'drop'\n",
    "  )\n",
    "\n",
    "p <- ggplot(df_summary, aes(x=num_cytokines_in_train, y=mean_mean_mmd_per_cell_type, fill=method)) +\n",
    "  geom_bar(\n",
    "    stat=\"identity\", \n",
    "    position=position_dodge(0.7), \n",
    "    width=0.6  # Bar width\n",
    "  ) +\n",
    "  geom_errorbar(\n",
    "    aes(ymin = mean_mean_mmd_per_cell_type - se, ymax = mean_mean_mmd_per_cell_type + se),\n",
    "    position=position_dodge(0.7),  # Align error bars with bars\n",
    "    width=0.5,  # Width of error bar caps\n",
    "    linewidth=0.3,\n",
    "  ) +\n",
    "  labs(\n",
    "    x=\"Number of cytokines seen for test donor\",\n",
    "    y=\"Mean MMD per cell type\",\n",
    "    fill=\"Method\"\n",
    "  ) +\n",
    "#scale_y_log10() +\n",
    "scale_fill_manual(values=color_dict) +\n",
    "  scale_fill_manual(values=color_dict) +  # Replace with your actual color dictionary\n",
    "  custom_theme() +\n",
    "    article_text() +\n",
    "    no_legend() +\n",
    "  theme(\n",
    "    axis.title.x = element_text(size=5),\n",
    "    axis.title.y = element_text(size=5),\n",
    "    axis.text.x = element_text(size=5),\n",
    "    axis.text.y = element_text(size=5),\n",
    "    panel.grid.major = element_blank(),\n",
    "    panel.grid.minor = element_blank()\n",
    "  ) #+\n",
    "  #coord_cartesian(ylim = c(0.70, 0.95)) \n",
    "p\n"
   ]
  },
  {
   "cell_type": "code",
   "execution_count": 18,
   "id": "986b63d3-e40c-44e2-a446-109d78211672",
   "metadata": {},
   "outputs": [],
   "source": [
    "ggsave(file.path(output_dir, \"mean_mmd_per_cell_type.pdf\"), plot = p, device = \"pdf\",width = 8.0, height = 4.0, unit=\"cm\")\n"
   ]
  },
  {
   "cell_type": "code",
   "execution_count": 19,
   "id": "d5507bb2-3d56-4c57-b44e-50b4a7bc9e2a",
   "metadata": {},
   "outputs": [
    {
     "name": "stderr",
     "output_type": "stream",
     "text": [
      "\u001b[1m\u001b[22mScale for \u001b[32mfill\u001b[39m is already present.\n",
      "Adding another scale for \u001b[32mfill\u001b[39m, which will replace the existing scale.\n"
     ]
    },
    {
     "data": {
      "image/png": "[encoded data removed]",
      "text/plain": [
       "plot without title"
      ]
     },
     "metadata": {
      "image/png": {
       "height": 156,
       "width": 540
      }
     },
     "output_type": "display_data"
    }
   ],
   "source": [
    "options(repr.plot.width = 9.0, repr.plot.height = 2.6, unit=\"cm\")\n",
    "\n",
    "df_summary <- df %>%\n",
    "  group_by(num_cytokines_in_train, method) %>%\n",
    "  summarise(\n",
    "    mean_decoded_ood_r_squared = mean(decoded_ood_r_squared, na.rm = TRUE),\n",
    "    se = sd(decoded_ood_r_squared, na.rm = TRUE) / sqrt(n()),  # Standard error\n",
    "    .groups = 'drop'\n",
    "  )\n",
    "\n",
    "p <- ggplot(df_summary, aes(x=num_cytokines_in_train, y=mean_decoded_ood_r_squared, fill=method)) +\n",
    "  geom_bar(\n",
    "    stat=\"identity\", \n",
    "    position=position_dodge(0.7), \n",
    "    width=0.6  # Bar width\n",
    "  ) +\n",
    "  geom_errorbar(\n",
    "    aes(ymin = mean_decoded_ood_r_squared - se, ymax = mean_decoded_ood_r_squared + se),\n",
    "    position=position_dodge(0.7),  # Align error bars with bars\n",
    "    width=0.5,  # Width of error bar caps\n",
    "    linewidth=0.3,\n",
    "  ) +\n",
    "  labs(\n",
    "    x=\"Number of cytokines seen for test donor\",\n",
    "    y=\"R squared\",\n",
    "    fill=\"Method\"\n",
    "  ) +\n",
    "#scale_y_log10() +\n",
    "scale_fill_manual(values=color_dict) +\n",
    "  scale_fill_manual(values=color_dict) +  # Replace with your actual color dictionary\n",
    "  custom_theme() +\n",
    "    article_text() +\n",
    "    no_legend() +\n",
    "  theme(\n",
    "    axis.title.x = element_text(size=5),\n",
    "    axis.title.y = element_text(size=5),\n",
    "    axis.text.x = element_text(size=5),\n",
    "    axis.text.y = element_text(size=5),\n",
    "    panel.grid.major = element_blank(),\n",
    "    panel.grid.minor = element_blank()\n",
    "  ) #+\n",
    "  #coord_cartesian(ylim = c(0.70, 0.95)) \n",
    "p\n"
   ]
  },
  {
   "cell_type": "code",
   "execution_count": 20,
   "id": "ebef6ac1-3d99-4fd6-8aa4-3d60b822e7ec",
   "metadata": {},
   "outputs": [],
   "source": [
    "ggsave(file.path(output_dir, \"r_squared.pdf\"), plot = p, device = \"pdf\",width = 8.0, height = 4.0, unit=\"cm\")\n"
   ]
  },
  {
   "cell_type": "code",
   "execution_count": null,
   "id": "4884261a-a8e8-4b84-8bc5-ebb108d64eb5",
   "metadata": {},
   "outputs": [],
   "source": []
  }
 ],
 "metadata": {
  "kernelspec": {
   "display_name": "R",
   "language": "R",
   "name": "ir"
  },
  "language_info": {
   "codemirror_mode": "r",
   "file_extension": ".r",
   "mimetype": "text/x-r-source",
   "name": "R",
   "pygments_lexer": "r",
   "version": "4.2.2"
  }
 },
 "nbformat": 4,
 "nbformat_minor": 5
}
