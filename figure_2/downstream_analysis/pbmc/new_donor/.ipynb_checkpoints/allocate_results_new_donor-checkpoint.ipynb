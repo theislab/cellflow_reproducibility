{
 "cells": [
  {
   "cell_type": "code",
   "execution_count": 17,
   "id": "520cd0ae-a755-4412-a454-03bfef38480a",
   "metadata": {},
   "outputs": [],
   "source": [
    "import pandas as pd\n",
    "import seaborn as sns"
   ]
  },
  {
   "cell_type": "code",
   "execution_count": 18,
   "id": "8dbb1c8c-d661-4599-aa1d-edf96ecfbf95",
   "metadata": {},
   "outputs": [],
   "source": [
    "df_id = pd.read_csv(\"/lustre/groups/ml01/workspace/ot_perturbation/models/identity/pbmc_new_cytokine/metrics_new_cytokine.csv\", index_col=0)\n",
    "df_mean_1 = pd.read_csv(\"/lustre/groups/ml01/workspace/ot_perturbation/models/additive_model/pbmc_new_cytokine/mean_model_same_donor/metrics_new_cytokine.csv\", index_col=0)\n",
    "df_mean_2 = pd.read_csv(\"/lustre/groups/ml01/workspace/ot_perturbation/models/additive_model/pbmc_new_cytokine/mean_model_same_cytokine/metrics_new_cytokine.csv\", index_col=0)\n",
    "df_cf = pd.read_csv(\"/lustre/groups/ml01/workspace/ot_perturbation/data/pbmc/metrics/metrics_new_cytokine.csv\")"
   ]
  },
  {
   "cell_type": "code",
   "execution_count": 30,
   "id": "eb914d01-84c8-4f9d-ada5-25c10f636dcd",
   "metadata": {},
   "outputs": [],
   "source": [
    "dfs_id = []\n",
    "for n in df_cf[\"num_donors_in_train\"].unique():\n",
    "    df_tmp = df_id.copy()\n",
    "    df_tmp[\"num_donors_in_train\"] = n\n",
    "    dfs_id.append(df_tmp)"
   ]
  },
  {
   "cell_type": "code",
   "execution_count": 31,
   "id": "eebee8f6-6039-4f4a-8625-f09eaae4e225",
   "metadata": {},
   "outputs": [],
   "source": [
    "df_id_final = pd.concat(dfs_id)"
   ]
  },
  {
   "cell_type": "code",
   "execution_count": 19,
   "id": "706e02ad-fb37-4880-9c14-60f40fb3953d",
   "metadata": {},
   "outputs": [
    {
     "data": {
      "text/plain": [
       "num_donors_in_train\n",
       "1.0     396\n",
       "2.0     360\n",
       "3.0     324\n",
       "4.0     288\n",
       "5.0     252\n",
       "6.0     216\n",
       "7.0     180\n",
       "11.0    144\n",
       "0.0     144\n",
       "8.0     144\n",
       "9.0     108\n",
       "10.0     72\n",
       "Name: count, dtype: int64"
      ]
     },
     "execution_count": 19,
     "metadata": {},
     "output_type": "execute_result"
    }
   ],
   "source": [
    "df_cf[\"num_donors_in_train\"].value_counts()"
   ]
  },
  {
   "cell_type": "code",
   "execution_count": 20,
   "id": "d66e114c-d971-4bc5-a457-53a656b2f498",
   "metadata": {},
   "outputs": [],
   "source": [
    "df_mean_1[\"num_donors_in_train\"] =df_mean_1[\"split-idx\"]"
   ]
  },
  {
   "cell_type": "code",
   "execution_count": 21,
   "id": "99ef71da-fd55-40c7-a226-1cae5a723721",
   "metadata": {},
   "outputs": [],
   "source": [
    "df_mean_2[\"num_donors_in_train\"] =df_mean_2[\"split-idx\"]"
   ]
  },
  {
   "cell_type": "code",
   "execution_count": 22,
   "id": "0c9904a4-7b4d-4948-a2e3-fea4a99db298",
   "metadata": {},
   "outputs": [
    {
     "data": {
      "text/plain": [
       "num_donors_in_train\n",
       "1     396\n",
       "2     360\n",
       "3     324\n",
       "4     288\n",
       "5     252\n",
       "6     216\n",
       "7     180\n",
       "11    144\n",
       "8     144\n",
       "0     144\n",
       "9     108\n",
       "10     72\n",
       "Name: count, dtype: int64"
      ]
     },
     "execution_count": 22,
     "metadata": {},
     "output_type": "execute_result"
    }
   ],
   "source": [
    "df_mean_1[\"num_donors_in_train\"].value_counts()"
   ]
  },
  {
   "cell_type": "code",
   "execution_count": 23,
   "id": "a195c8dd-2e9d-4141-88eb-e7b8776f6455",
   "metadata": {},
   "outputs": [
    {
     "data": {
      "text/plain": [
       "num_donors_in_train\n",
       "1     396\n",
       "2     360\n",
       "3     324\n",
       "4     288\n",
       "5     252\n",
       "6     216\n",
       "7     180\n",
       "8     144\n",
       "9     108\n",
       "10     72\n",
       "11     36\n",
       "Name: count, dtype: int64"
      ]
     },
     "execution_count": 23,
     "metadata": {},
     "output_type": "execute_result"
    }
   ],
   "source": [
    "df_mean_2[\"num_donors_in_train\"].value_counts()"
   ]
  },
  {
   "cell_type": "code",
   "execution_count": 24,
   "id": "45e0600f-c601-467b-aed4-927c4dd30b4c",
   "metadata": {},
   "outputs": [
    {
     "data": {
      "text/plain": [
       "num_donors_in_train\n",
       "1.0     396\n",
       "2.0     360\n",
       "3.0     324\n",
       "4.0     288\n",
       "5.0     252\n",
       "6.0     216\n",
       "7.0     180\n",
       "11.0    144\n",
       "0.0     144\n",
       "8.0     144\n",
       "9.0     108\n",
       "10.0     72\n",
       "Name: count, dtype: int64"
      ]
     },
     "execution_count": 24,
     "metadata": {},
     "output_type": "execute_result"
    }
   ],
   "source": [
    "df_cf[\"num_donors_in_train\"].value_counts()"
   ]
  },
  {
   "cell_type": "code",
   "execution_count": 32,
   "id": "541ff1f1-146e-4008-85d6-3371a1c15109",
   "metadata": {},
   "outputs": [],
   "source": [
    "df_id_final[\"method\"] = \"id\"\n",
    "df_cf[\"method\"] = \"cf\"\n",
    "df_mean_1[\"method\"] = \"m1\"\n",
    "df_mean_2[\"method\"] = \"m2\"\n",
    "df = pd.concat((df_cf, df_id_final, df_mean_1, df_mean_2))"
   ]
  },
  {
   "cell_type": "code",
   "execution_count": 33,
   "id": "ebed2b8c-90e6-4c9c-a4bf-902795bf5927",
   "metadata": {},
   "outputs": [
    {
     "data": {
      "text/plain": [
       "<Axes: xlabel='num_donors_in_train', ylabel='ood_e_distance'>"
      ]
     },
     "execution_count": 33,
     "metadata": {},
     "output_type": "execute_result"
    },
    {
     "data": {
      "image/png": "[encoded data removed]",
      "text/plain": [
       "<Figure size 640x480 with 1 Axes>"
      ]
     },
     "metadata": {},
     "output_type": "display_data"
    }
   ],
   "source": [
    "sns.barplot(df, x=\"num_donors_in_train\", y=\"ood_e_distance\", hue=\"method\")"
   ]
  },
  {
   "cell_type": "code",
   "execution_count": 34,
   "id": "0dc6d88f-ba5b-49fe-8d92-65673ad2b6c8",
   "metadata": {},
   "outputs": [
    {
     "data": {
      "text/plain": [
       "<Axes: xlabel='num_donors_in_train', ylabel='decoded_ood_r_squared'>"
      ]
     },
     "execution_count": 34,
     "metadata": {},
     "output_type": "execute_result"
    },
    {
     "data": {
      "image/png": "[encoded data removed]",
      "text/plain": [
       "<Figure size 640x480 with 1 Axes>"
      ]
     },
     "metadata": {},
     "output_type": "display_data"
    }
   ],
   "source": [
    "sns.barplot(df, x=\"num_donors_in_train\", y=\"decoded_ood_r_squared\", hue=\"method\")"
   ]
  },
  {
   "cell_type": "code",
   "execution_count": null,
   "id": "b346f656-ad58-46df-994c-9d8d9d539f18",
   "metadata": {},
   "outputs": [],
   "source": []
  }
 ],
 "metadata": {
  "kernelspec": {
   "display_name": "cfp",
   "language": "python",
   "name": "cfp"
  },
  "language_info": {
   "codemirror_mode": {
    "name": "ipython",
    "version": 3
   },
   "file_extension": ".py",
   "mimetype": "text/x-python",
   "name": "python",
   "nbconvert_exporter": "python",
   "pygments_lexer": "ipython3",
   "version": "3.11.9"
  }
 },
 "nbformat": 4,
 "nbformat_minor": 5
}
