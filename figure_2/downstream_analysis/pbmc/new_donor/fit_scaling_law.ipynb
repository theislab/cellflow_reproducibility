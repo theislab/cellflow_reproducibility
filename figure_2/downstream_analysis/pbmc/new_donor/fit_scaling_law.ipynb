{
 "cells": [
  {
   "cell_type": "code",
   "execution_count": 1,
   "id": "a38228da-f190-4dfb-a680-22cd9cfa725a",
   "metadata": {},
   "outputs": [],
   "source": [
    "import pandas as pd\n",
    "import seaborn as sns\n",
    "from sklearn.linear_model import LinearRegression\n",
    "import matplotlib.pyplot as plt\n",
    "import numpy as np"
   ]
  },
  {
   "cell_type": "code",
   "execution_count": 2,
   "id": "11aa822b-83c2-49d1-b41b-52f69b3f4629",
   "metadata": {},
   "outputs": [
    {
     "name": "stderr",
     "output_type": "stream",
     "text": [
      "/tmp/ipykernel_2645558/1534787288.py:1: DtypeWarning: Columns (1,148,149,150,154,175) have mixed types. Specify dtype option on import or set low_memory=False.\n",
      "  df = pd.read_csv(\"/lustre/groups/ml01/workspace/ot_perturbation/data/pbmc/results/allocation/metrics_new_donor.csv\", index_col=0)\n"
     ]
    }
   ],
   "source": [
    "df = pd.read_csv(\"/lustre/groups/ml01/workspace/ot_perturbation/data/pbmc/results/allocation/metrics_new_donor.csv\", index_col=0)\n"
   ]
  },
  {
   "cell_type": "code",
   "execution_count": 3,
   "id": "99402d3b-52d9-4812-bcd3-4e393e905b2b",
   "metadata": {},
   "outputs": [],
   "source": [
    "df_scaling = pd.DataFrame(df.groupby([\"method\", \"num_cytokines_in_train\"])[\"ood_e_distance\"].mean())\n",
    "df_scaling = df_scaling.reset_index()"
   ]
  },
  {
   "cell_type": "code",
   "execution_count": 4,
   "id": "881389af-e2b3-467a-afda-dc0f28b88e88",
   "metadata": {},
   "outputs": [],
   "source": [
    "df_scaling = df_scaling[df_scaling[\"num_cytokines_in_train\"]>0.0]"
   ]
  },
  {
   "cell_type": "code",
   "execution_count": 5,
   "id": "5f51a994-a7d8-43be-a4fd-b3ac7404fefd",
   "metadata": {},
   "outputs": [],
   "source": [
    "df_scaling[\"log2_num_cytokines_in_train\"] = df_scaling[\"num_cytokines_in_train\"].apply(np.log2)\n",
    "df_scaling[\"log2_ood_e_distance\"] = df_scaling[\"ood_e_distance\"].apply(np.log2)\n"
   ]
  },
  {
   "cell_type": "code",
   "execution_count": 6,
   "id": "793b5162-7397-48ba-b34e-3f6b10c54908",
   "metadata": {},
   "outputs": [],
   "source": [
    "df_scaling.to_csv(\"/lustre/groups/ml01/workspace/ot_perturbation/data/pbmc/results/allocation/scaling_law.csv\")"
   ]
  },
  {
   "cell_type": "code",
   "execution_count": 7,
   "id": "8cdb96ab-7cd8-460d-b52b-51d6f804a39d",
   "metadata": {},
   "outputs": [],
   "source": [
    "df_scaling2 = df_scaling.copy() "
   ]
  },
  {
   "cell_type": "code",
   "execution_count": 8,
   "id": "1f82fa16-0578-4927-98e9-0fde231f95e0",
   "metadata": {},
   "outputs": [],
   "source": [
    "df_scaling2 = df_scaling2[df_scaling2[\"log2_num_cytokines_in_train\"]>3.0]"
   ]
  },
  {
   "cell_type": "code",
   "execution_count": 11,
   "id": "53571c49-a924-48f8-bd19-9a36a1de87d7",
   "metadata": {},
   "outputs": [],
   "source": [
    "df_scaling2[\"method\"] = df_scaling2.apply(lambda x: x[\"method\"]+\"_red\", axis=1)"
   ]
  },
  {
   "cell_type": "code",
   "execution_count": 13,
   "id": "4d3b1a05-39da-4be6-a847-fdeda2d7d544",
   "metadata": {},
   "outputs": [],
   "source": [
    "df_all = pd.concat((df_scaling, df_scaling2), axis=0)"
   ]
  },
  {
   "cell_type": "code",
   "execution_count": 14,
   "id": "d047d2db-0c22-45f2-ae5f-fb1536dd925e",
   "metadata": {},
   "outputs": [],
   "source": [
    "df_all.to_csv(\"/lustre/groups/ml01/workspace/ot_perturbation/data/pbmc/results/allocation/scaling_law_two_curves.csv\")"
   ]
  },
  {
   "cell_type": "code",
   "execution_count": null,
   "id": "dc3e3908-88d4-4918-aab7-b2524da973c1",
   "metadata": {},
   "outputs": [],
   "source": []
  }
 ],
 "metadata": {
  "kernelspec": {
   "display_name": "cfp",
   "language": "python",
   "name": "cfp"
  },
  "language_info": {
   "codemirror_mode": {
    "name": "ipython",
    "version": 3
   },
   "file_extension": ".py",
   "mimetype": "text/x-python",
   "name": "python",
   "nbconvert_exporter": "python",
   "pygments_lexer": "ipython3",
   "version": "3.11.9"
  }
 },
 "nbformat": 4,
 "nbformat_minor": 5
}
