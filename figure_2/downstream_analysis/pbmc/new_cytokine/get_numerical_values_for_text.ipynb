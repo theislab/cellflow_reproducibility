{
 "cells": [
  {
   "cell_type": "code",
   "execution_count": 1,
   "id": "311307c1-80ce-4df6-b5de-a3a50eef73c6",
   "metadata": {},
   "outputs": [],
   "source": [
    "import pandas as pd"
   ]
  },
  {
   "cell_type": "code",
   "execution_count": 2,
   "id": "493451cf-f77f-431a-bbde-cdc6e7d507ba",
   "metadata": {},
   "outputs": [
    {
     "name": "stderr",
     "output_type": "stream",
     "text": [
      "/tmp/ipykernel_3957041/1065194569.py:1: DtypeWarning: Columns (1,128,129,171) have mixed types. Specify dtype option on import or set low_memory=False.\n",
      "  df = pd.read_csv(\"/lustre/groups/ml01/workspace/ot_perturbation/data/pbmc/results/allocation/metrics_new_cytokine.csv\")\n"
     ]
    }
   ],
   "source": [
    "df = pd.read_csv(\"/lustre/groups/ml01/workspace/ot_perturbation/data/pbmc/results/allocation/metrics_new_cytokine.csv\")"
   ]
  },
  {
   "cell_type": "code",
   "execution_count": 3,
   "id": "c725df57-aa14-4fac-b954-a0f240a8605d",
   "metadata": {},
   "outputs": [
    {
     "data": {
      "text/plain": [
       "(9468, 177)"
      ]
     },
     "execution_count": 3,
     "metadata": {},
     "output_type": "execute_result"
    }
   ],
   "source": [
    "df.shape"
   ]
  },
  {
   "cell_type": "code",
   "execution_count": 4,
   "id": "b6e91fae-94fd-43b9-8d43-abd49cefb45d",
   "metadata": {},
   "outputs": [],
   "source": [
    "df = df[df[\"num_donors_in_train\"]>0]"
   ]
  },
  {
   "cell_type": "code",
   "execution_count": 5,
   "id": "4831f0b0-59d9-4ef6-b013-c7e2b056e1ce",
   "metadata": {},
   "outputs": [
    {
     "data": {
      "text/plain": [
       "(9036, 177)"
      ]
     },
     "execution_count": 5,
     "metadata": {},
     "output_type": "execute_result"
    }
   ],
   "source": [
    "df.shape"
   ]
  },
  {
   "cell_type": "code",
   "execution_count": 6,
   "id": "ce0412af-9a07-4f5b-be4a-e3440335c919",
   "metadata": {},
   "outputs": [
    {
     "data": {
      "text/plain": [
       "method\n",
       "cf    0.770085\n",
       "id    0.646947\n",
       "m1    0.666847\n",
       "m2    0.604476\n",
       "Name: mean_deg_r_sq_per_cell_type, dtype: float64"
      ]
     },
     "execution_count": 6,
     "metadata": {},
     "output_type": "execute_result"
    }
   ],
   "source": [
    "df.groupby(\"method\")[\"mean_deg_r_sq_per_cell_type\"].mean()"
   ]
  },
  {
   "cell_type": "code",
   "execution_count": 7,
   "id": "90ea575b-b7f6-42f7-bd10-66e6194eab37",
   "metadata": {},
   "outputs": [
    {
     "name": "stderr",
     "output_type": "stream",
     "text": [
      "/tmp/ipykernel_3957041/1065194569.py:1: DtypeWarning: Columns (1,128,129,171) have mixed types. Specify dtype option on import or set low_memory=False.\n",
      "  df = pd.read_csv(\"/lustre/groups/ml01/workspace/ot_perturbation/data/pbmc/results/allocation/metrics_new_cytokine.csv\")\n"
     ]
    }
   ],
   "source": [
    "df = pd.read_csv(\"/lustre/groups/ml01/workspace/ot_perturbation/data/pbmc/results/allocation/metrics_new_cytokine.csv\")"
   ]
  },
  {
   "cell_type": "code",
   "execution_count": 9,
   "id": "a91637b6-a5f9-461f-b4f9-62618f0ff398",
   "metadata": {},
   "outputs": [
    {
     "data": {
      "text/plain": [
       "num_donors_in_train\n",
       "0.0     0.601444\n",
       "1.0     0.759522\n",
       "2.0     0.765380\n",
       "3.0     0.766650\n",
       "4.0     0.775976\n",
       "5.0     0.771055\n",
       "6.0     0.772706\n",
       "7.0     0.777193\n",
       "8.0     0.773794\n",
       "9.0     0.770378\n",
       "10.0    0.776826\n",
       "11.0    0.785028\n",
       "Name: mean_deg_r_sq_per_cell_type, dtype: float64"
      ]
     },
     "execution_count": 9,
     "metadata": {},
     "output_type": "execute_result"
    }
   ],
   "source": [
    "df[df[\"method\"]==\"cf\"].groupby(\"num_donors_in_train\")[\"mean_deg_r_sq_per_cell_type\"].mean()"
   ]
  },
  {
   "cell_type": "code",
   "execution_count": null,
   "id": "60a3ef06-0d04-4c87-a31a-f95d8a40332b",
   "metadata": {},
   "outputs": [],
   "source": []
  }
 ],
 "metadata": {
  "kernelspec": {
   "display_name": "cfp",
   "language": "python",
   "name": "cfp"
  },
  "language_info": {
   "codemirror_mode": {
    "name": "ipython",
    "version": 3
   },
   "file_extension": ".py",
   "mimetype": "text/x-python",
   "name": "python",
   "nbconvert_exporter": "python",
   "pygments_lexer": "ipython3",
   "version": "3.11.9"
  }
 },
 "nbformat": 4,
 "nbformat_minor": 5
}
