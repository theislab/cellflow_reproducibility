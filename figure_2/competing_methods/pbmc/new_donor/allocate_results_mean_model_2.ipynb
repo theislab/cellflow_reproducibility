{
 "cells": [
  {
   "cell_type": "code",
   "execution_count": 1,
   "id": "2bdc81e3-f22a-4f61-87d5-ed41f891b377",
   "metadata": {},
   "outputs": [],
   "source": [
    "import pandas as pd\n",
    "import os"
   ]
  },
  {
   "cell_type": "code",
   "execution_count": 2,
   "id": "3506cc10-4d56-42f6-828f-a8bfab93baa3",
   "metadata": {},
   "outputs": [],
   "source": [
    "data_dir = \"/lustre/groups/ml01/workspace/ot_perturbation/models/additive_model/pbmc_new_donor/mean_model_same_cytokine\""
   ]
  },
  {
   "cell_type": "code",
   "execution_count": 3,
   "id": "4eecff22-4650-4ce5-9f18-9967217c0169",
   "metadata": {},
   "outputs": [],
   "source": [
    "dfs = []\n",
    "i=0\n",
    "for el in os.listdir(data_dir):\n",
    "    if el.endswith(\".csv\"):\n",
    "        df_tmp = pd.read_csv(os.path.join(data_dir, el), index_col=0)\n",
    "        df_tmp = df_tmp.rename(columns={df_tmp.columns[0]: f\"{df_tmp.columns[0]}_{i}\"})\n",
    "        if 'decoded_ood_r_squared' not in df_tmp.index:\n",
    "            continue\n",
    "        i+=1\n",
    "        dfs.append(df_tmp)"
   ]
  },
  {
   "cell_type": "code",
   "execution_count": 4,
   "id": "88dd6c69-ce39-4b30-b117-18e71a1e54ab",
   "metadata": {},
   "outputs": [
    {
     "data": {
      "text/plain": [
       "3000"
      ]
     },
     "execution_count": 4,
     "metadata": {},
     "output_type": "execute_result"
    }
   ],
   "source": [
    "len(dfs)"
   ]
  },
  {
   "cell_type": "code",
   "execution_count": null,
   "id": "04594fb2-93b0-4477-98f0-dbad5050f516",
   "metadata": {},
   "outputs": [],
   "source": []
  },
  {
   "cell_type": "code",
   "execution_count": null,
   "id": "9ba266ec-5ab8-456a-bf85-69a80a5f5423",
   "metadata": {},
   "outputs": [],
   "source": []
  },
  {
   "cell_type": "code",
   "execution_count": null,
   "id": "43315068-81f9-4764-a11f-14278bcaae87",
   "metadata": {},
   "outputs": [],
   "source": []
  },
  {
   "cell_type": "code",
   "execution_count": 4,
   "id": "82518618-ad6e-41d6-9427-353dc8f5b3e2",
   "metadata": {},
   "outputs": [
    {
     "data": {
      "text/plain": [
       "2880"
      ]
     },
     "execution_count": 4,
     "metadata": {},
     "output_type": "execute_result"
    }
   ],
   "source": [
    "len(dfs)"
   ]
  },
  {
   "cell_type": "code",
   "execution_count": 5,
   "id": "13f0b1eb-9ad2-4f1f-a30e-52f3f99d8d73",
   "metadata": {},
   "outputs": [],
   "source": [
    "df = pd.concat([el.T for el in dfs])"
   ]
  },
  {
   "cell_type": "code",
   "execution_count": 6,
   "id": "f4e46216-4b2a-4d8d-be4a-2e5981cae6e6",
   "metadata": {},
   "outputs": [
    {
     "name": "stderr",
     "output_type": "stream",
     "text": [
      "/tmp/ipykernel_3441981/2560909508.py:1: PerformanceWarning: DataFrame is highly fragmented.  This is usually the result of calling `frame.insert` many times, which has poor performance.  Consider joining all columns at once using pd.concat(axis=1) instead. To get a de-fragmented frame, use `newframe = frame.copy()`\n",
      "  df[\"donor_cytokine_split-idx\"] = df.index\n",
      "/tmp/ipykernel_3441981/2560909508.py:2: PerformanceWarning: DataFrame is highly fragmented.  This is usually the result of calling `frame.insert` many times, which has poor performance.  Consider joining all columns at once using pd.concat(axis=1) instead. To get a de-fragmented frame, use `newframe = frame.copy()`\n",
      "  df[\"donor\"] = df.apply(lambda x: x[\"donor_cytokine_split-idx\"].split(\"_\")[0], axis=1)\n",
      "/tmp/ipykernel_3441981/2560909508.py:3: PerformanceWarning: DataFrame is highly fragmented.  This is usually the result of calling `frame.insert` many times, which has poor performance.  Consider joining all columns at once using pd.concat(axis=1) instead. To get a de-fragmented frame, use `newframe = frame.copy()`\n",
      "  df[\"cytokine\"] = df.apply(lambda x: x[\"donor_cytokine_split-idx\"].split(\"_\")[1], axis=1)\n",
      "/tmp/ipykernel_3441981/2560909508.py:4: PerformanceWarning: DataFrame is highly fragmented.  This is usually the result of calling `frame.insert` many times, which has poor performance.  Consider joining all columns at once using pd.concat(axis=1) instead. To get a de-fragmented frame, use `newframe = frame.copy()`\n",
      "  df[\"split-idx\"] = df.apply(lambda x: x[\"donor_cytokine_split-idx\"].split(\"_\")[2], axis=1)\n"
     ]
    }
   ],
   "source": [
    "df[\"donor_cytokine_split-idx\"] = df.index\n",
    "df[\"donor\"] = df.apply(lambda x: x[\"donor_cytokine_split-idx\"].split(\"_\")[0], axis=1)\n",
    "df[\"cytokine\"] = df.apply(lambda x: x[\"donor_cytokine_split-idx\"].split(\"_\")[1], axis=1)\n",
    "df[\"split-idx\"] = df.apply(lambda x: x[\"donor_cytokine_split-idx\"].split(\"_\")[2], axis=1)"
   ]
  },
  {
   "cell_type": "code",
   "execution_count": 7,
   "id": "fa6750a7-32d9-466f-a94f-2b9dc8ea4ce9",
   "metadata": {},
   "outputs": [
    {
     "data": {
      "text/plain": [
       "donor\n",
       "Donor12    250\n",
       "Donor6     250\n",
       "Donor2     250\n",
       "Donor3     250\n",
       "Donor9     250\n",
       "Donor5     250\n",
       "Donor4     250\n",
       "Donor11    250\n",
       "Donor7     250\n",
       "Donor10    250\n",
       "Donor8     250\n",
       "Donor1     250\n",
       "Name: count, dtype: int64"
      ]
     },
     "execution_count": 7,
     "metadata": {},
     "output_type": "execute_result"
    }
   ],
   "source": [
    "df[\"donor\"].value_counts()"
   ]
  },
  {
   "cell_type": "code",
   "execution_count": 8,
   "id": "e080d4d6-6137-4db5-ba43-47a8837756e4",
   "metadata": {},
   "outputs": [
    {
     "data": {
      "text/plain": [
       "cytokine\n",
       "IL-32-beta    300\n",
       "FasL          300\n",
       "CD27L         300\n",
       "OX40L         300\n",
       "IFN-omega     300\n",
       "IL-1Ra        300\n",
       "BAFF          300\n",
       "ADSF          300\n",
       "M-CSF         300\n",
       "IFN-gamma     300\n",
       "Name: count, dtype: int64"
      ]
     },
     "execution_count": 8,
     "metadata": {},
     "output_type": "execute_result"
    }
   ],
   "source": [
    "df[\"cytokine\"].value_counts()"
   ]
  },
  {
   "cell_type": "code",
   "execution_count": 9,
   "id": "028859b4-4187-484a-9673-74c0b6efc066",
   "metadata": {},
   "outputs": [
    {
     "data": {
      "text/plain": [
       "split-idx\n",
       "9     360\n",
       "33    360\n",
       "3     360\n",
       "5     360\n",
       "17    360\n",
       "65    360\n",
       "2     360\n",
       "81    360\n",
       "1     120\n",
       "Name: count, dtype: int64"
      ]
     },
     "execution_count": 9,
     "metadata": {},
     "output_type": "execute_result"
    }
   ],
   "source": [
    "df[\"split-idx\"].value_counts()"
   ]
  },
  {
   "cell_type": "code",
   "execution_count": 10,
   "id": "dedeeb23-d37c-447c-ba53-c58f651102eb",
   "metadata": {},
   "outputs": [],
   "source": [
    "df_other = df[df[\"split-idx\"]!=\"81\"]\n",
    "df_81 = df[df[\"split-idx\"]==\"81\"]"
   ]
  },
  {
   "cell_type": "code",
   "execution_count": 11,
   "id": "a185e768-cca1-42ba-9c18-62a94ce791a7",
   "metadata": {},
   "outputs": [
    {
     "data": {
      "text/plain": [
       "(360, 171)"
      ]
     },
     "execution_count": 11,
     "metadata": {},
     "output_type": "execute_result"
    }
   ],
   "source": [
    "df_81.shape"
   ]
  },
  {
   "cell_type": "code",
   "execution_count": 12,
   "id": "0e12f927-e91c-4001-b75c-5dedac13c148",
   "metadata": {},
   "outputs": [],
   "source": [
    "df_81 = df_81.drop_duplicates(\"decoded_ood_r_squared\")"
   ]
  },
  {
   "cell_type": "code",
   "execution_count": 13,
   "id": "aa84ca8a-46b5-4e4d-a5cb-667f2c437df7",
   "metadata": {},
   "outputs": [
    {
     "data": {
      "text/plain": [
       "(120, 171)"
      ]
     },
     "execution_count": 13,
     "metadata": {},
     "output_type": "execute_result"
    }
   ],
   "source": [
    "df_81.shape"
   ]
  },
  {
   "cell_type": "code",
   "execution_count": 14,
   "id": "2cb13082-2dee-49b5-9736-c3f0f5a32b0f",
   "metadata": {},
   "outputs": [],
   "source": [
    "df_final = pd.concat((df_other, df_81))"
   ]
  },
  {
   "cell_type": "code",
   "execution_count": 15,
   "id": "de91a3db-b18b-474e-b24e-2ecb44e781b3",
   "metadata": {},
   "outputs": [
    {
     "data": {
      "text/plain": [
       "num_cytokines_in_train\n",
       "9     360\n",
       "33    360\n",
       "3     360\n",
       "5     360\n",
       "17    360\n",
       "65    360\n",
       "2     360\n",
       "1     120\n",
       "81    120\n",
       "Name: count, dtype: int64"
      ]
     },
     "execution_count": 15,
     "metadata": {},
     "output_type": "execute_result"
    }
   ],
   "source": [
    "df_final[\"num_cytokines_in_train\"].value_counts()"
   ]
  },
  {
   "cell_type": "code",
   "execution_count": 16,
   "id": "317b235e-018d-4322-8a0e-1441db8e7e1c",
   "metadata": {},
   "outputs": [],
   "source": [
    "df_final.to_csv(os.path.join(data_dir, \"metrics_mean_model_2.csv\"))"
   ]
  },
  {
   "cell_type": "code",
   "execution_count": null,
   "id": "fd74edd2-b229-4e6c-8bab-a59312550d9c",
   "metadata": {},
   "outputs": [],
   "source": []
  }
 ],
 "metadata": {
  "kernelspec": {
   "display_name": "cfp",
   "language": "python",
   "name": "cfp"
  },
  "language_info": {
   "codemirror_mode": {
    "name": "ipython",
    "version": 3
   },
   "file_extension": ".py",
   "mimetype": "text/x-python",
   "name": "python",
   "nbconvert_exporter": "python",
   "pygments_lexer": "ipython3",
   "version": "3.11.9"
  }
 },
 "nbformat": 4,
 "nbformat_minor": 5
}
