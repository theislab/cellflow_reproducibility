{
 "cells": [
  {
   "cell_type": "code",
   "execution_count": 2,
   "id": "2bdc81e3-f22a-4f61-87d5-ed41f891b377",
   "metadata": {},
   "outputs": [],
   "source": [
    "import pandas as pd\n",
    "import os"
   ]
  },
  {
   "cell_type": "code",
   "execution_count": 1,
   "id": "3506cc10-4d56-42f6-828f-a8bfab93baa3",
   "metadata": {},
   "outputs": [],
   "source": [
    "data_dir = \"/lustre/groups/ml01/workspace/ot_perturbation/models/identity/pbmc_new_donor\""
   ]
  },
  {
   "cell_type": "code",
   "execution_count": 10,
   "id": "4eecff22-4650-4ce5-9f18-9967217c0169",
   "metadata": {},
   "outputs": [],
   "source": [
    "dfs = []\n",
    "i=0\n",
    "for el in os.listdir(data_dir):\n",
    "    if el.endswith(\".csv\"):\n",
    "        df_tmp = pd.read_csv(os.path.join(data_dir, el), index_col=0)\n",
    "        df_tmp = df_tmp.rename(columns={df_tmp.columns[0]: f\"{df_tmp.columns[0]}_{i}\"})\n",
    "        if 'decoded_ood_r_squared' not in df_tmp.index:\n",
    "            continue\n",
    "        i+=1\n",
    "        dfs.append(df_tmp)"
   ]
  },
  {
   "cell_type": "code",
   "execution_count": 11,
   "id": "82518618-ad6e-41d6-9427-353dc8f5b3e2",
   "metadata": {},
   "outputs": [
    {
     "data": {
      "text/plain": [
       "144"
      ]
     },
     "execution_count": 11,
     "metadata": {},
     "output_type": "execute_result"
    }
   ],
   "source": [
    "len(dfs)"
   ]
  },
  {
   "cell_type": "code",
   "execution_count": 12,
   "id": "13f0b1eb-9ad2-4f1f-a30e-52f3f99d8d73",
   "metadata": {},
   "outputs": [],
   "source": [
    "df = pd.concat([el.T for el in dfs])"
   ]
  },
  {
   "cell_type": "code",
   "execution_count": 13,
   "id": "f4e46216-4b2a-4d8d-be4a-2e5981cae6e6",
   "metadata": {},
   "outputs": [],
   "source": [
    "df[\"donor_cytokine_split-idx\"] = df.index\n",
    "df[\"donor\"] = df.apply(lambda x: x[\"donor_cytokine_split-idx\"].split(\"_\")[0], axis=1)\n",
    "df[\"cytokine\"] = df.apply(lambda x: x[\"donor_cytokine_split-idx\"].split(\"_\")[1], axis=1)\n",
    "df[\"split-idx\"] = df.apply(lambda x: x[\"donor_cytokine_split-idx\"].split(\"_\")[2], axis=1)"
   ]
  },
  {
   "cell_type": "code",
   "execution_count": 14,
   "id": "1e0491cf-614b-461a-8957-8d3381c634e7",
   "metadata": {},
   "outputs": [
    {
     "data": {
      "text/plain": [
       "donor\n",
       "Donor11    12\n",
       "Donor6     12\n",
       "Donor5     12\n",
       "Donor9     12\n",
       "Donor10    12\n",
       "Donor1     12\n",
       "Donor2     12\n",
       "Donor12    12\n",
       "Donor8     12\n",
       "Donor3     12\n",
       "Donor7     12\n",
       "Donor4     12\n",
       "Name: count, dtype: int64"
      ]
     },
     "execution_count": 14,
     "metadata": {},
     "output_type": "execute_result"
    }
   ],
   "source": [
    "df[\"donor\"].value_counts()"
   ]
  },
  {
   "cell_type": "code",
   "execution_count": 15,
   "id": "c0f2e2da-2748-45a6-a99d-a47f920411c6",
   "metadata": {},
   "outputs": [
    {
     "data": {
      "text/plain": [
       "cytokine\n",
       "4-1BBL         12\n",
       "OSM            12\n",
       "IL-15          12\n",
       "IFN-epsilon    12\n",
       "APRIL          12\n",
       "OX40L          12\n",
       "Noggin         12\n",
       "C5a            12\n",
       "IFN-beta       12\n",
       "IL-13          12\n",
       "ADSF           12\n",
       "BAFF           12\n",
       "Name: count, dtype: int64"
      ]
     },
     "execution_count": 15,
     "metadata": {},
     "output_type": "execute_result"
    }
   ],
   "source": [
    "df[\"cytokine\"].value_counts()"
   ]
  },
  {
   "cell_type": "code",
   "execution_count": 16,
   "id": "317b235e-018d-4322-8a0e-1441db8e7e1c",
   "metadata": {},
   "outputs": [],
   "source": [
    "df.to_csv(os.path.join(data_dir, \"metrics_new_donor.csv\"))"
   ]
  },
  {
   "cell_type": "code",
   "execution_count": null,
   "id": "fd74edd2-b229-4e6c-8bab-a59312550d9c",
   "metadata": {},
   "outputs": [],
   "source": []
  }
 ],
 "metadata": {
  "kernelspec": {
   "display_name": "cfp",
   "language": "python",
   "name": "cfp"
  },
  "language_info": {
   "codemirror_mode": {
    "name": "ipython",
    "version": 3
   },
   "file_extension": ".py",
   "mimetype": "text/x-python",
   "name": "python",
   "nbconvert_exporter": "python",
   "pygments_lexer": "ipython3",
   "version": "3.11.9"
  }
 },
 "nbformat": 4,
 "nbformat_minor": 5
}
