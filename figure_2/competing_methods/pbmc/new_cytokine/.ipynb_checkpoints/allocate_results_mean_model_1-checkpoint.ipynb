{
 "cells": [
  {
   "cell_type": "code",
   "execution_count": 1,
   "id": "dca27076-1028-4e41-973d-40f3775e9342",
   "metadata": {},
   "outputs": [],
   "source": [
    "import pandas as pd\n",
    "import os"
   ]
  },
  {
   "cell_type": "code",
   "execution_count": 3,
   "id": "2defb1f5-7de6-4faf-9c00-c90b4071691d",
   "metadata": {},
   "outputs": [],
   "source": [
    "data_dir = \"/lustre/groups/ml01/workspace/ot_perturbation/models/additive_model/pbmc_new_cytokine/mean_model_same_donor\"    "
   ]
  },
  {
   "cell_type": "code",
   "execution_count": 4,
   "id": "19a2c2f3-d6a8-4205-93ed-83e17696b03e",
   "metadata": {},
   "outputs": [],
   "source": [
    "dfs = []\n",
    "for el in os.listdir(data_dir):\n",
    "    if el.endswith(\"metrics.csv\"):\n",
    "        dfs.append(pd.read_csv(os.path.join(data_dir, el), index_col=0))"
   ]
  },
  {
   "cell_type": "code",
   "execution_count": 5,
   "id": "580ae061-62ce-4ce9-8a5c-28497eaab8f2",
   "metadata": {},
   "outputs": [
    {
     "data": {
      "text/plain": [
       "0"
      ]
     },
     "execution_count": 5,
     "metadata": {},
     "output_type": "execute_result"
    }
   ],
   "source": [
    "len(dfs)"
   ]
  },
  {
   "cell_type": "code",
   "execution_count": null,
   "id": "52996e1c-fd2c-4eac-8653-2548e94036c6",
   "metadata": {},
   "outputs": [],
   "source": []
  }
 ],
 "metadata": {
  "kernelspec": {
   "display_name": "cfp",
   "language": "python",
   "name": "cfp"
  },
  "language_info": {
   "codemirror_mode": {
    "name": "ipython",
    "version": 3
   },
   "file_extension": ".py",
   "mimetype": "text/x-python",
   "name": "python",
   "nbconvert_exporter": "python",
   "pygments_lexer": "ipython3",
   "version": "3.11.9"
  }
 },
 "nbformat": 4,
 "nbformat_minor": 5
}
