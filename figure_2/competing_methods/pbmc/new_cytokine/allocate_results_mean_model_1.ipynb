{
 "cells": [
  {
   "cell_type": "code",
   "execution_count": 1,
   "id": "dca27076-1028-4e41-973d-40f3775e9342",
   "metadata": {},
   "outputs": [],
   "source": [
    "import pandas as pd\n",
    "import os"
   ]
  },
  {
   "cell_type": "code",
   "execution_count": 2,
   "id": "2defb1f5-7de6-4faf-9c00-c90b4071691d",
   "metadata": {},
   "outputs": [],
   "source": [
    "data_dir = \"/lustre/groups/ml01/workspace/ot_perturbation/models/additive_model/pbmc_new_cytokine/mean_model_same_donor\""
   ]
  },
  {
   "cell_type": "code",
   "execution_count": 3,
   "id": "19a2c2f3-d6a8-4205-93ed-83e17696b03e",
   "metadata": {},
   "outputs": [],
   "source": [
    "dfs = []\n",
    "for el in os.listdir(data_dir):\n",
    "    if el.endswith(\".csv\"):\n",
    "        df_tmp = pd.read_csv(os.path.join(data_dir, el), index_col=0)\n",
    "        if 'decoded_ood_r_squared' not in df_tmp.index:\n",
    "            continue\n",
    "        dfs.append(df_tmp)"
   ]
  },
  {
   "cell_type": "code",
   "execution_count": 4,
   "id": "580ae061-62ce-4ce9-8a5c-28497eaab8f2",
   "metadata": {},
   "outputs": [
    {
     "data": {
      "text/plain": [
       "2628"
      ]
     },
     "execution_count": 4,
     "metadata": {},
     "output_type": "execute_result"
    }
   ],
   "source": [
    "len(dfs)"
   ]
  },
  {
   "cell_type": "code",
   "execution_count": 5,
   "id": "52996e1c-fd2c-4eac-8653-2548e94036c6",
   "metadata": {},
   "outputs": [],
   "source": [
    "df = pd.concat([el.T for el in dfs])"
   ]
  },
  {
   "cell_type": "code",
   "execution_count": 6,
   "id": "d9d69558-a368-4f3f-9d10-75928d805453",
   "metadata": {},
   "outputs": [
    {
     "data": {
      "text/html": [
       "<div>\n",
       "<style scoped>\n",
       "    .dataframe tbody tr th:only-of-type {\n",
       "        vertical-align: middle;\n",
       "    }\n",
       "\n",
       "    .dataframe tbody tr th {\n",
       "        vertical-align: top;\n",
       "    }\n",
       "\n",
       "    .dataframe thead th {\n",
       "        text-align: right;\n",
       "    }\n",
       "</style>\n",
       "<table border=\"1\" class=\"dataframe\">\n",
       "  <thead>\n",
       "    <tr style=\"text-align: right;\">\n",
       "      <th></th>\n",
       "      <th>mean_decoded_r_sq_per_cell_type</th>\n",
       "      <th>mean_e_distance_per_cell_type</th>\n",
       "      <th>mean_mmd_per_cell_type</th>\n",
       "      <th>mean_sdiv_10_per_cell_type</th>\n",
       "      <th>mean_sdiv_100_per_cell_type</th>\n",
       "      <th>mean_deg_r_sq_per_cell_type</th>\n",
       "      <th>mean_deg_e_distance_per_cell_type</th>\n",
       "      <th>mean_deg_mmd_per_cell_type</th>\n",
       "      <th>mean_deg_sdiv_10_per_cell_type</th>\n",
       "      <th>mean_deg_sdiv_100_per_cell_type</th>\n",
       "      <th>...</th>\n",
       "      <th>decoded_r_squared_pDC</th>\n",
       "      <th>e_distance_pDC</th>\n",
       "      <th>mmd_pDC</th>\n",
       "      <th>div_10_pDC</th>\n",
       "      <th>div_100_pDC</th>\n",
       "      <th>deg_decoded_r_squared_pDC</th>\n",
       "      <th>deg_e_distance_pDC</th>\n",
       "      <th>deg_mmd_pDC</th>\n",
       "      <th>deg_div_10_pDC</th>\n",
       "      <th>deg_div_100_pDC</th>\n",
       "    </tr>\n",
       "  </thead>\n",
       "  <tbody>\n",
       "    <tr>\n",
       "      <th>Donor10_IFN-beta_1</th>\n",
       "      <td>0.9200652608504662</td>\n",
       "      <td>68.40114425550321</td>\n",
       "      <td>0.023188846</td>\n",
       "      <td>129.84285501333383</td>\n",
       "      <td>44.95694791353666</td>\n",
       "      <td>0.6054282417664161</td>\n",
       "      <td>75.25820633504692</td>\n",
       "      <td>0.026766876</td>\n",
       "      <td>222.3191399207482</td>\n",
       "      <td>51.62250342735877</td>\n",
       "      <td>...</td>\n",
       "      <td>NaN</td>\n",
       "      <td>NaN</td>\n",
       "      <td>NaN</td>\n",
       "      <td>NaN</td>\n",
       "      <td>NaN</td>\n",
       "      <td>NaN</td>\n",
       "      <td>NaN</td>\n",
       "      <td>NaN</td>\n",
       "      <td>NaN</td>\n",
       "      <td>NaN</td>\n",
       "    </tr>\n",
       "    <tr>\n",
       "      <th>Donor1_APRIL_6</th>\n",
       "      <td>0.9371368501867566</td>\n",
       "      <td>31.719337108894127</td>\n",
       "      <td>0.017400773</td>\n",
       "      <td>118.66412789481026</td>\n",
       "      <td>28.467146737234934</td>\n",
       "      <td>0.8973914469991412</td>\n",
       "      <td>17.622403069838523</td>\n",
       "      <td>0.01424812</td>\n",
       "      <td>172.9953166416713</td>\n",
       "      <td>20.52849360874721</td>\n",
       "      <td>...</td>\n",
       "      <td>NaN</td>\n",
       "      <td>NaN</td>\n",
       "      <td>NaN</td>\n",
       "      <td>NaN</td>\n",
       "      <td>NaN</td>\n",
       "      <td>NaN</td>\n",
       "      <td>NaN</td>\n",
       "      <td>NaN</td>\n",
       "      <td>NaN</td>\n",
       "      <td>NaN</td>\n",
       "    </tr>\n",
       "    <tr>\n",
       "      <th>Donor12_IL-15_4</th>\n",
       "      <td>0.726588921887534</td>\n",
       "      <td>223.6926199363086</td>\n",
       "      <td>0.06221814</td>\n",
       "      <td>211.864262172154</td>\n",
       "      <td>125.97643171037946</td>\n",
       "      <td>-0.5399483953203473</td>\n",
       "      <td>252.67054878992445</td>\n",
       "      <td>0.049114298</td>\n",
       "      <td>326.95006016322543</td>\n",
       "      <td>143.8321489606585</td>\n",
       "      <td>...</td>\n",
       "      <td>NaN</td>\n",
       "      <td>NaN</td>\n",
       "      <td>NaN</td>\n",
       "      <td>NaN</td>\n",
       "      <td>NaN</td>\n",
       "      <td>NaN</td>\n",
       "      <td>NaN</td>\n",
       "      <td>NaN</td>\n",
       "      <td>NaN</td>\n",
       "      <td>NaN</td>\n",
       "    </tr>\n",
       "    <tr>\n",
       "      <th>Donor6_OX40L_5</th>\n",
       "      <td>0.9702400607722146</td>\n",
       "      <td>16.810295126498012</td>\n",
       "      <td>0.009832768</td>\n",
       "      <td>95.68594305855888</td>\n",
       "      <td>14.3876953125</td>\n",
       "      <td>0.8884855551379067</td>\n",
       "      <td>15.39881799203433</td>\n",
       "      <td>0.009022526</td>\n",
       "      <td>166.95018768310547</td>\n",
       "      <td>13.788543701171875</td>\n",
       "      <td>...</td>\n",
       "      <td>NaN</td>\n",
       "      <td>NaN</td>\n",
       "      <td>NaN</td>\n",
       "      <td>NaN</td>\n",
       "      <td>NaN</td>\n",
       "      <td>NaN</td>\n",
       "      <td>NaN</td>\n",
       "      <td>NaN</td>\n",
       "      <td>NaN</td>\n",
       "      <td>NaN</td>\n",
       "    </tr>\n",
       "    <tr>\n",
       "      <th>Donor4_C5a_5</th>\n",
       "      <td>0.9754117998209867</td>\n",
       "      <td>8.956676726807167</td>\n",
       "      <td>0.01040917</td>\n",
       "      <td>87.9144304448908</td>\n",
       "      <td>10.693134654651988</td>\n",
       "      <td>0.8993862921541388</td>\n",
       "      <td>13.499121254506582</td>\n",
       "      <td>0.011120687</td>\n",
       "      <td>164.90439744429156</td>\n",
       "      <td>14.794344815340908</td>\n",
       "      <td>...</td>\n",
       "      <td>NaN</td>\n",
       "      <td>NaN</td>\n",
       "      <td>NaN</td>\n",
       "      <td>NaN</td>\n",
       "      <td>NaN</td>\n",
       "      <td>NaN</td>\n",
       "      <td>NaN</td>\n",
       "      <td>NaN</td>\n",
       "      <td>NaN</td>\n",
       "      <td>NaN</td>\n",
       "    </tr>\n",
       "  </tbody>\n",
       "</table>\n",
       "<p>5 rows × 166 columns</p>\n",
       "</div>"
      ],
      "text/plain": [
       "                   mean_decoded_r_sq_per_cell_type  \\\n",
       "Donor10_IFN-beta_1              0.9200652608504662   \n",
       "Donor1_APRIL_6                  0.9371368501867566   \n",
       "Donor12_IL-15_4                  0.726588921887534   \n",
       "Donor6_OX40L_5                  0.9702400607722146   \n",
       "Donor4_C5a_5                    0.9754117998209867   \n",
       "\n",
       "                   mean_e_distance_per_cell_type mean_mmd_per_cell_type  \\\n",
       "Donor10_IFN-beta_1             68.40114425550321            0.023188846   \n",
       "Donor1_APRIL_6                31.719337108894127            0.017400773   \n",
       "Donor12_IL-15_4                223.6926199363086             0.06221814   \n",
       "Donor6_OX40L_5                16.810295126498012            0.009832768   \n",
       "Donor4_C5a_5                   8.956676726807167             0.01040917   \n",
       "\n",
       "                   mean_sdiv_10_per_cell_type mean_sdiv_100_per_cell_type  \\\n",
       "Donor10_IFN-beta_1         129.84285501333383           44.95694791353666   \n",
       "Donor1_APRIL_6             118.66412789481026          28.467146737234934   \n",
       "Donor12_IL-15_4              211.864262172154          125.97643171037946   \n",
       "Donor6_OX40L_5              95.68594305855888               14.3876953125   \n",
       "Donor4_C5a_5                 87.9144304448908          10.693134654651988   \n",
       "\n",
       "                   mean_deg_r_sq_per_cell_type  \\\n",
       "Donor10_IFN-beta_1          0.6054282417664161   \n",
       "Donor1_APRIL_6              0.8973914469991412   \n",
       "Donor12_IL-15_4            -0.5399483953203473   \n",
       "Donor6_OX40L_5              0.8884855551379067   \n",
       "Donor4_C5a_5                0.8993862921541388   \n",
       "\n",
       "                   mean_deg_e_distance_per_cell_type  \\\n",
       "Donor10_IFN-beta_1                 75.25820633504692   \n",
       "Donor1_APRIL_6                    17.622403069838523   \n",
       "Donor12_IL-15_4                   252.67054878992445   \n",
       "Donor6_OX40L_5                     15.39881799203433   \n",
       "Donor4_C5a_5                      13.499121254506582   \n",
       "\n",
       "                   mean_deg_mmd_per_cell_type mean_deg_sdiv_10_per_cell_type  \\\n",
       "Donor10_IFN-beta_1                0.026766876              222.3191399207482   \n",
       "Donor1_APRIL_6                     0.01424812              172.9953166416713   \n",
       "Donor12_IL-15_4                   0.049114298             326.95006016322543   \n",
       "Donor6_OX40L_5                    0.009022526             166.95018768310547   \n",
       "Donor4_C5a_5                      0.011120687             164.90439744429156   \n",
       "\n",
       "                   mean_deg_sdiv_100_per_cell_type  ... decoded_r_squared_pDC  \\\n",
       "Donor10_IFN-beta_1               51.62250342735877  ...                   NaN   \n",
       "Donor1_APRIL_6                   20.52849360874721  ...                   NaN   \n",
       "Donor12_IL-15_4                  143.8321489606585  ...                   NaN   \n",
       "Donor6_OX40L_5                  13.788543701171875  ...                   NaN   \n",
       "Donor4_C5a_5                    14.794344815340908  ...                   NaN   \n",
       "\n",
       "                   e_distance_pDC mmd_pDC div_10_pDC div_100_pDC  \\\n",
       "Donor10_IFN-beta_1            NaN     NaN        NaN         NaN   \n",
       "Donor1_APRIL_6                NaN     NaN        NaN         NaN   \n",
       "Donor12_IL-15_4               NaN     NaN        NaN         NaN   \n",
       "Donor6_OX40L_5                NaN     NaN        NaN         NaN   \n",
       "Donor4_C5a_5                  NaN     NaN        NaN         NaN   \n",
       "\n",
       "                   deg_decoded_r_squared_pDC deg_e_distance_pDC deg_mmd_pDC  \\\n",
       "Donor10_IFN-beta_1                       NaN                NaN         NaN   \n",
       "Donor1_APRIL_6                           NaN                NaN         NaN   \n",
       "Donor12_IL-15_4                          NaN                NaN         NaN   \n",
       "Donor6_OX40L_5                           NaN                NaN         NaN   \n",
       "Donor4_C5a_5                             NaN                NaN         NaN   \n",
       "\n",
       "                   deg_div_10_pDC deg_div_100_pDC  \n",
       "Donor10_IFN-beta_1            NaN             NaN  \n",
       "Donor1_APRIL_6                NaN             NaN  \n",
       "Donor12_IL-15_4               NaN             NaN  \n",
       "Donor6_OX40L_5                NaN             NaN  \n",
       "Donor4_C5a_5                  NaN             NaN  \n",
       "\n",
       "[5 rows x 166 columns]"
      ]
     },
     "execution_count": 6,
     "metadata": {},
     "output_type": "execute_result"
    }
   ],
   "source": [
    "df.head()"
   ]
  },
  {
   "cell_type": "code",
   "execution_count": 7,
   "id": "2f2551be-c981-4dc0-9c6c-4e90a2d40395",
   "metadata": {},
   "outputs": [
    {
     "name": "stderr",
     "output_type": "stream",
     "text": [
      "/tmp/ipykernel_927423/2560909508.py:1: PerformanceWarning: DataFrame is highly fragmented.  This is usually the result of calling `frame.insert` many times, which has poor performance.  Consider joining all columns at once using pd.concat(axis=1) instead. To get a de-fragmented frame, use `newframe = frame.copy()`\n",
      "  df[\"donor_cytokine_split-idx\"] = df.index\n",
      "/tmp/ipykernel_927423/2560909508.py:2: PerformanceWarning: DataFrame is highly fragmented.  This is usually the result of calling `frame.insert` many times, which has poor performance.  Consider joining all columns at once using pd.concat(axis=1) instead. To get a de-fragmented frame, use `newframe = frame.copy()`\n",
      "  df[\"donor\"] = df.apply(lambda x: x[\"donor_cytokine_split-idx\"].split(\"_\")[0], axis=1)\n",
      "/tmp/ipykernel_927423/2560909508.py:3: PerformanceWarning: DataFrame is highly fragmented.  This is usually the result of calling `frame.insert` many times, which has poor performance.  Consider joining all columns at once using pd.concat(axis=1) instead. To get a de-fragmented frame, use `newframe = frame.copy()`\n",
      "  df[\"cytokine\"] = df.apply(lambda x: x[\"donor_cytokine_split-idx\"].split(\"_\")[1], axis=1)\n",
      "/tmp/ipykernel_927423/2560909508.py:4: PerformanceWarning: DataFrame is highly fragmented.  This is usually the result of calling `frame.insert` many times, which has poor performance.  Consider joining all columns at once using pd.concat(axis=1) instead. To get a de-fragmented frame, use `newframe = frame.copy()`\n",
      "  df[\"split-idx\"] = df.apply(lambda x: x[\"donor_cytokine_split-idx\"].split(\"_\")[2], axis=1)\n"
     ]
    }
   ],
   "source": [
    "df[\"donor_cytokine_split-idx\"] = df.index\n",
    "df[\"donor\"] = df.apply(lambda x: x[\"donor_cytokine_split-idx\"].split(\"_\")[0], axis=1)\n",
    "df[\"cytokine\"] = df.apply(lambda x: x[\"donor_cytokine_split-idx\"].split(\"_\")[1], axis=1)\n",
    "df[\"split-idx\"] = df.apply(lambda x: x[\"donor_cytokine_split-idx\"].split(\"_\")[2], axis=1)"
   ]
  },
  {
   "cell_type": "code",
   "execution_count": 8,
   "id": "58282e56-8f15-4bc8-bb27-0b7dbfddc720",
   "metadata": {},
   "outputs": [],
   "source": []
  },
  {
   "cell_type": "code",
   "execution_count": 8,
   "id": "21031dc3-e878-407c-b9e4-eaa2ec52430c",
   "metadata": {},
   "outputs": [
    {
     "data": {
      "text/plain": [
       "donor\n",
       "Donor5     234\n",
       "Donor12    228\n",
       "Donor8     225\n",
       "Donor7     222\n",
       "Donor10    221\n",
       "Donor9     221\n",
       "Donor2     217\n",
       "Donor3     216\n",
       "Donor11    215\n",
       "Donor1     214\n",
       "Donor4     209\n",
       "Donor6     206\n",
       "Name: count, dtype: int64"
      ]
     },
     "execution_count": 8,
     "metadata": {},
     "output_type": "execute_result"
    }
   ],
   "source": [
    "df[\"donor\"].value_counts()"
   ]
  },
  {
   "cell_type": "code",
   "execution_count": 9,
   "id": "a47ee957-d5f0-4830-96c6-65decac2e255",
   "metadata": {},
   "outputs": [
    {
     "data": {
      "text/plain": [
       "cytokine\n",
       "IFN-beta       219\n",
       "APRIL          219\n",
       "IL-15          219\n",
       "OX40L          219\n",
       "C5a            219\n",
       "IFN-epsilon    219\n",
       "IL-13          219\n",
       "OSM            219\n",
       "Noggin         219\n",
       "4-1BBL         219\n",
       "ADSF           219\n",
       "BAFF           219\n",
       "Name: count, dtype: int64"
      ]
     },
     "execution_count": 9,
     "metadata": {},
     "output_type": "execute_result"
    }
   ],
   "source": [
    "df[\"cytokine\"].value_counts()"
   ]
  },
  {
   "cell_type": "code",
   "execution_count": 10,
   "id": "e2bd553a-aa9f-4c59-b3d8-10d313f2c014",
   "metadata": {},
   "outputs": [
    {
     "data": {
      "text/plain": [
       "split-idx\n",
       "1     396\n",
       "2     360\n",
       "3     324\n",
       "4     288\n",
       "5     252\n",
       "6     216\n",
       "7     180\n",
       "11    144\n",
       "8     144\n",
       "0     144\n",
       "9     108\n",
       "10     72\n",
       "Name: count, dtype: int64"
      ]
     },
     "execution_count": 10,
     "metadata": {},
     "output_type": "execute_result"
    }
   ],
   "source": [
    "df[\"split-idx\"].value_counts()"
   ]
  },
  {
   "cell_type": "code",
   "execution_count": 11,
   "id": "bb2b91cd-fe2e-4c25-8bf9-35e4532160ef",
   "metadata": {},
   "outputs": [],
   "source": [
    "df.to_csv(os.path.join(data_dir, \"metrics_new_cytokine.csv\"))"
   ]
  },
  {
   "cell_type": "code",
   "execution_count": null,
   "id": "0fc3eaf7-0366-42e9-aa99-4120546640ab",
   "metadata": {},
   "outputs": [],
   "source": []
  }
 ],
 "metadata": {
  "kernelspec": {
   "display_name": "cfp",
   "language": "python",
   "name": "cfp"
  },
  "language_info": {
   "codemirror_mode": {
    "name": "ipython",
    "version": 3
   },
   "file_extension": ".py",
   "mimetype": "text/x-python",
   "name": "python",
   "nbconvert_exporter": "python",
   "pygments_lexer": "ipython3",
   "version": "3.11.9"
  }
 },
 "nbformat": 4,
 "nbformat_minor": 5
}
