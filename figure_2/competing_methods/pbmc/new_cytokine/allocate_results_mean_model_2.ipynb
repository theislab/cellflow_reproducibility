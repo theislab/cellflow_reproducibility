{
 "cells": [
  {
   "cell_type": "code",
   "execution_count": 1,
   "id": "dca27076-1028-4e41-973d-40f3775e9342",
   "metadata": {},
   "outputs": [],
   "source": [
    "import pandas as pd\n",
    "import os"
   ]
  },
  {
   "cell_type": "code",
   "execution_count": 2,
   "id": "2defb1f5-7de6-4faf-9c00-c90b4071691d",
   "metadata": {},
   "outputs": [],
   "source": [
    "data_dir = \"/lustre/groups/ml01/workspace/ot_perturbation/models/additive_model/pbmc_new_cytokine/mean_model_same_cytokine\"\n",
    "    "
   ]
  },
  {
   "cell_type": "code",
   "execution_count": 3,
   "id": "19a2c2f3-d6a8-4205-93ed-83e17696b03e",
   "metadata": {},
   "outputs": [],
   "source": [
    "dfs = []\n",
    "for el in os.listdir(data_dir):\n",
    "    if el.endswith(\".csv\"):\n",
    "        df_tmp = pd.read_csv(os.path.join(data_dir, el), index_col=0)\n",
    "        if 'decoded_ood_r_squared' not in df_tmp.index:\n",
    "            continue\n",
    "        dfs.append(df_tmp)"
   ]
  },
  {
   "cell_type": "code",
   "execution_count": 4,
   "id": "580ae061-62ce-4ce9-8a5c-28497eaab8f2",
   "metadata": {},
   "outputs": [
    {
     "data": {
      "text/plain": [
       "2484"
      ]
     },
     "execution_count": 4,
     "metadata": {},
     "output_type": "execute_result"
    }
   ],
   "source": [
    "len(dfs)"
   ]
  },
  {
   "cell_type": "code",
   "execution_count": 5,
   "id": "3a379485-266f-4db4-bd43-9007c42d9a71",
   "metadata": {},
   "outputs": [],
   "source": [
    "df = pd.concat([el.T for el in dfs])"
   ]
  },
  {
   "cell_type": "code",
   "execution_count": 6,
   "id": "f2396ab0-47e0-4073-9dac-9c2c3f4e7037",
   "metadata": {},
   "outputs": [
    {
     "data": {
      "text/html": [
       "<div>\n",
       "<style scoped>\n",
       "    .dataframe tbody tr th:only-of-type {\n",
       "        vertical-align: middle;\n",
       "    }\n",
       "\n",
       "    .dataframe tbody tr th {\n",
       "        vertical-align: top;\n",
       "    }\n",
       "\n",
       "    .dataframe thead th {\n",
       "        text-align: right;\n",
       "    }\n",
       "</style>\n",
       "<table border=\"1\" class=\"dataframe\">\n",
       "  <thead>\n",
       "    <tr style=\"text-align: right;\">\n",
       "      <th></th>\n",
       "      <th>mean_decoded_r_sq_per_cell_type</th>\n",
       "      <th>mean_e_distance_per_cell_type</th>\n",
       "      <th>mean_mmd_per_cell_type</th>\n",
       "      <th>mean_sdiv_10_per_cell_type</th>\n",
       "      <th>mean_sdiv_100_per_cell_type</th>\n",
       "      <th>mean_deg_r_sq_per_cell_type</th>\n",
       "      <th>mean_deg_e_distance_per_cell_type</th>\n",
       "      <th>mean_deg_mmd_per_cell_type</th>\n",
       "      <th>mean_deg_sdiv_10_per_cell_type</th>\n",
       "      <th>mean_deg_sdiv_100_per_cell_type</th>\n",
       "      <th>...</th>\n",
       "      <th>decoded_r_squared_pDC</th>\n",
       "      <th>e_distance_pDC</th>\n",
       "      <th>mmd_pDC</th>\n",
       "      <th>div_10_pDC</th>\n",
       "      <th>div_100_pDC</th>\n",
       "      <th>deg_decoded_r_squared_pDC</th>\n",
       "      <th>deg_e_distance_pDC</th>\n",
       "      <th>deg_mmd_pDC</th>\n",
       "      <th>deg_div_10_pDC</th>\n",
       "      <th>deg_div_100_pDC</th>\n",
       "    </tr>\n",
       "  </thead>\n",
       "  <tbody>\n",
       "    <tr>\n",
       "      <th>Donor10_IFN-beta_1</th>\n",
       "      <td>0.7864066270681528</td>\n",
       "      <td>216.7222938660857</td>\n",
       "      <td>0.061340198</td>\n",
       "      <td>204.26333266038162</td>\n",
       "      <td>119.28882188063402</td>\n",
       "      <td>0.6393075998012836</td>\n",
       "      <td>67.46164082182912</td>\n",
       "      <td>0.02538702</td>\n",
       "      <td>218.5262216421274</td>\n",
       "      <td>47.9081796499399</td>\n",
       "      <td>...</td>\n",
       "      <td>NaN</td>\n",
       "      <td>NaN</td>\n",
       "      <td>NaN</td>\n",
       "      <td>NaN</td>\n",
       "      <td>NaN</td>\n",
       "      <td>NaN</td>\n",
       "      <td>NaN</td>\n",
       "      <td>NaN</td>\n",
       "      <td>NaN</td>\n",
       "      <td>NaN</td>\n",
       "    </tr>\n",
       "    <tr>\n",
       "      <th>Donor1_APRIL_6</th>\n",
       "      <td>0.8902862284864698</td>\n",
       "      <td>85.49331923232161</td>\n",
       "      <td>0.03557208</td>\n",
       "      <td>147.41582543509347</td>\n",
       "      <td>56.494978768484934</td>\n",
       "      <td>0.8064879051276616</td>\n",
       "      <td>32.62103090214167</td>\n",
       "      <td>0.017755784</td>\n",
       "      <td>179.88013512747628</td>\n",
       "      <td>27.80047389439174</td>\n",
       "      <td>...</td>\n",
       "      <td>NaN</td>\n",
       "      <td>NaN</td>\n",
       "      <td>NaN</td>\n",
       "      <td>NaN</td>\n",
       "      <td>NaN</td>\n",
       "      <td>NaN</td>\n",
       "      <td>NaN</td>\n",
       "      <td>NaN</td>\n",
       "      <td>NaN</td>\n",
       "      <td>NaN</td>\n",
       "    </tr>\n",
       "    <tr>\n",
       "      <th>Donor12_IL-15_4</th>\n",
       "      <td>0.826137112719672</td>\n",
       "      <td>119.00782829203811</td>\n",
       "      <td>0.042169493</td>\n",
       "      <td>160.44701821463448</td>\n",
       "      <td>74.65953717912946</td>\n",
       "      <td>0.33330720237323214</td>\n",
       "      <td>112.20807158196568</td>\n",
       "      <td>0.03342482</td>\n",
       "      <td>256.527708871024</td>\n",
       "      <td>73.52325221470424</td>\n",
       "      <td>...</td>\n",
       "      <td>NaN</td>\n",
       "      <td>NaN</td>\n",
       "      <td>NaN</td>\n",
       "      <td>NaN</td>\n",
       "      <td>NaN</td>\n",
       "      <td>NaN</td>\n",
       "      <td>NaN</td>\n",
       "      <td>NaN</td>\n",
       "      <td>NaN</td>\n",
       "      <td>NaN</td>\n",
       "    </tr>\n",
       "    <tr>\n",
       "      <th>Donor6_OX40L_5</th>\n",
       "      <td>0.9194410443305969</td>\n",
       "      <td>67.06712368864373</td>\n",
       "      <td>0.024994612</td>\n",
       "      <td>120.93953922816685</td>\n",
       "      <td>39.51568276541574</td>\n",
       "      <td>0.8343924837453025</td>\n",
       "      <td>23.350194401299913</td>\n",
       "      <td>0.009473255</td>\n",
       "      <td>170.81883948189872</td>\n",
       "      <td>17.716455732073104</td>\n",
       "      <td>...</td>\n",
       "      <td>NaN</td>\n",
       "      <td>NaN</td>\n",
       "      <td>NaN</td>\n",
       "      <td>NaN</td>\n",
       "      <td>NaN</td>\n",
       "      <td>NaN</td>\n",
       "      <td>NaN</td>\n",
       "      <td>NaN</td>\n",
       "      <td>NaN</td>\n",
       "      <td>NaN</td>\n",
       "    </tr>\n",
       "    <tr>\n",
       "      <th>Donor4_C5a_5</th>\n",
       "      <td>0.6750960946083069</td>\n",
       "      <td>378.163800339959</td>\n",
       "      <td>0.09964091</td>\n",
       "      <td>276.6443370472301</td>\n",
       "      <td>198.29125421697444</td>\n",
       "      <td>0.5000115578824823</td>\n",
       "      <td>65.51219271860322</td>\n",
       "      <td>0.022289133</td>\n",
       "      <td>191.23193636807528</td>\n",
       "      <td>40.95424305308949</td>\n",
       "      <td>...</td>\n",
       "      <td>NaN</td>\n",
       "      <td>NaN</td>\n",
       "      <td>NaN</td>\n",
       "      <td>NaN</td>\n",
       "      <td>NaN</td>\n",
       "      <td>NaN</td>\n",
       "      <td>NaN</td>\n",
       "      <td>NaN</td>\n",
       "      <td>NaN</td>\n",
       "      <td>NaN</td>\n",
       "    </tr>\n",
       "  </tbody>\n",
       "</table>\n",
       "<p>5 rows × 166 columns</p>\n",
       "</div>"
      ],
      "text/plain": [
       "                   mean_decoded_r_sq_per_cell_type  \\\n",
       "Donor10_IFN-beta_1              0.7864066270681528   \n",
       "Donor1_APRIL_6                  0.8902862284864698   \n",
       "Donor12_IL-15_4                  0.826137112719672   \n",
       "Donor6_OX40L_5                  0.9194410443305969   \n",
       "Donor4_C5a_5                    0.6750960946083069   \n",
       "\n",
       "                   mean_e_distance_per_cell_type mean_mmd_per_cell_type  \\\n",
       "Donor10_IFN-beta_1             216.7222938660857            0.061340198   \n",
       "Donor1_APRIL_6                 85.49331923232161             0.03557208   \n",
       "Donor12_IL-15_4               119.00782829203811            0.042169493   \n",
       "Donor6_OX40L_5                 67.06712368864373            0.024994612   \n",
       "Donor4_C5a_5                    378.163800339959             0.09964091   \n",
       "\n",
       "                   mean_sdiv_10_per_cell_type mean_sdiv_100_per_cell_type  \\\n",
       "Donor10_IFN-beta_1         204.26333266038162          119.28882188063402   \n",
       "Donor1_APRIL_6             147.41582543509347          56.494978768484934   \n",
       "Donor12_IL-15_4            160.44701821463448           74.65953717912946   \n",
       "Donor6_OX40L_5             120.93953922816685           39.51568276541574   \n",
       "Donor4_C5a_5                276.6443370472301          198.29125421697444   \n",
       "\n",
       "                   mean_deg_r_sq_per_cell_type  \\\n",
       "Donor10_IFN-beta_1          0.6393075998012836   \n",
       "Donor1_APRIL_6              0.8064879051276616   \n",
       "Donor12_IL-15_4            0.33330720237323214   \n",
       "Donor6_OX40L_5              0.8343924837453025   \n",
       "Donor4_C5a_5                0.5000115578824823   \n",
       "\n",
       "                   mean_deg_e_distance_per_cell_type  \\\n",
       "Donor10_IFN-beta_1                 67.46164082182912   \n",
       "Donor1_APRIL_6                     32.62103090214167   \n",
       "Donor12_IL-15_4                   112.20807158196568   \n",
       "Donor6_OX40L_5                    23.350194401299913   \n",
       "Donor4_C5a_5                       65.51219271860322   \n",
       "\n",
       "                   mean_deg_mmd_per_cell_type mean_deg_sdiv_10_per_cell_type  \\\n",
       "Donor10_IFN-beta_1                 0.02538702              218.5262216421274   \n",
       "Donor1_APRIL_6                    0.017755784             179.88013512747628   \n",
       "Donor12_IL-15_4                    0.03342482               256.527708871024   \n",
       "Donor6_OX40L_5                    0.009473255             170.81883948189872   \n",
       "Donor4_C5a_5                      0.022289133             191.23193636807528   \n",
       "\n",
       "                   mean_deg_sdiv_100_per_cell_type  ... decoded_r_squared_pDC  \\\n",
       "Donor10_IFN-beta_1                47.9081796499399  ...                   NaN   \n",
       "Donor1_APRIL_6                   27.80047389439174  ...                   NaN   \n",
       "Donor12_IL-15_4                  73.52325221470424  ...                   NaN   \n",
       "Donor6_OX40L_5                  17.716455732073104  ...                   NaN   \n",
       "Donor4_C5a_5                     40.95424305308949  ...                   NaN   \n",
       "\n",
       "                   e_distance_pDC mmd_pDC div_10_pDC div_100_pDC  \\\n",
       "Donor10_IFN-beta_1            NaN     NaN        NaN         NaN   \n",
       "Donor1_APRIL_6                NaN     NaN        NaN         NaN   \n",
       "Donor12_IL-15_4               NaN     NaN        NaN         NaN   \n",
       "Donor6_OX40L_5                NaN     NaN        NaN         NaN   \n",
       "Donor4_C5a_5                  NaN     NaN        NaN         NaN   \n",
       "\n",
       "                   deg_decoded_r_squared_pDC deg_e_distance_pDC deg_mmd_pDC  \\\n",
       "Donor10_IFN-beta_1                       NaN                NaN         NaN   \n",
       "Donor1_APRIL_6                           NaN                NaN         NaN   \n",
       "Donor12_IL-15_4                          NaN                NaN         NaN   \n",
       "Donor6_OX40L_5                           NaN                NaN         NaN   \n",
       "Donor4_C5a_5                             NaN                NaN         NaN   \n",
       "\n",
       "                   deg_div_10_pDC deg_div_100_pDC  \n",
       "Donor10_IFN-beta_1            NaN             NaN  \n",
       "Donor1_APRIL_6                NaN             NaN  \n",
       "Donor12_IL-15_4               NaN             NaN  \n",
       "Donor6_OX40L_5                NaN             NaN  \n",
       "Donor4_C5a_5                  NaN             NaN  \n",
       "\n",
       "[5 rows x 166 columns]"
      ]
     },
     "execution_count": 6,
     "metadata": {},
     "output_type": "execute_result"
    }
   ],
   "source": [
    "df.head()"
   ]
  },
  {
   "cell_type": "code",
   "execution_count": 7,
   "id": "f3e08187-2ba2-4736-ad55-c1db538f36bd",
   "metadata": {},
   "outputs": [
    {
     "name": "stderr",
     "output_type": "stream",
     "text": [
      "/tmp/ipykernel_927901/2560909508.py:1: PerformanceWarning: DataFrame is highly fragmented.  This is usually the result of calling `frame.insert` many times, which has poor performance.  Consider joining all columns at once using pd.concat(axis=1) instead. To get a de-fragmented frame, use `newframe = frame.copy()`\n",
      "  df[\"donor_cytokine_split-idx\"] = df.index\n",
      "/tmp/ipykernel_927901/2560909508.py:2: PerformanceWarning: DataFrame is highly fragmented.  This is usually the result of calling `frame.insert` many times, which has poor performance.  Consider joining all columns at once using pd.concat(axis=1) instead. To get a de-fragmented frame, use `newframe = frame.copy()`\n",
      "  df[\"donor\"] = df.apply(lambda x: x[\"donor_cytokine_split-idx\"].split(\"_\")[0], axis=1)\n",
      "/tmp/ipykernel_927901/2560909508.py:3: PerformanceWarning: DataFrame is highly fragmented.  This is usually the result of calling `frame.insert` many times, which has poor performance.  Consider joining all columns at once using pd.concat(axis=1) instead. To get a de-fragmented frame, use `newframe = frame.copy()`\n",
      "  df[\"cytokine\"] = df.apply(lambda x: x[\"donor_cytokine_split-idx\"].split(\"_\")[1], axis=1)\n",
      "/tmp/ipykernel_927901/2560909508.py:4: PerformanceWarning: DataFrame is highly fragmented.  This is usually the result of calling `frame.insert` many times, which has poor performance.  Consider joining all columns at once using pd.concat(axis=1) instead. To get a de-fragmented frame, use `newframe = frame.copy()`\n",
      "  df[\"split-idx\"] = df.apply(lambda x: x[\"donor_cytokine_split-idx\"].split(\"_\")[2], axis=1)\n"
     ]
    }
   ],
   "source": [
    "df[\"donor_cytokine_split-idx\"] = df.index\n",
    "df[\"donor\"] = df.apply(lambda x: x[\"donor_cytokine_split-idx\"].split(\"_\")[0], axis=1)\n",
    "df[\"cytokine\"] = df.apply(lambda x: x[\"donor_cytokine_split-idx\"].split(\"_\")[1], axis=1)\n",
    "df[\"split-idx\"] = df.apply(lambda x: x[\"donor_cytokine_split-idx\"].split(\"_\")[2], axis=1)"
   ]
  },
  {
   "cell_type": "code",
   "execution_count": 9,
   "id": "e1b4b91f-0783-49a2-929e-ba435df00c89",
   "metadata": {},
   "outputs": [],
   "source": [
    "df.to_csv(os.path.join(data_dir, \"metrics_new_cytokine.csv\"))"
   ]
  },
  {
   "cell_type": "code",
   "execution_count": 8,
   "id": "b32cfba1-7066-45b3-b10f-274a66ab1b72",
   "metadata": {},
   "outputs": [
    {
     "data": {
      "text/plain": [
       "cytokine\n",
       "IFN-beta       207\n",
       "APRIL          207\n",
       "IL-15          207\n",
       "OX40L          207\n",
       "C5a            207\n",
       "IFN-epsilon    207\n",
       "IL-13          207\n",
       "OSM            207\n",
       "Noggin         207\n",
       "4-1BBL         207\n",
       "ADSF           207\n",
       "BAFF           207\n",
       "Name: count, dtype: int64"
      ]
     },
     "execution_count": 8,
     "metadata": {},
     "output_type": "execute_result"
    }
   ],
   "source": [
    "df[\"cytokine\"].value_counts()"
   ]
  },
  {
   "cell_type": "code",
   "execution_count": 10,
   "id": "56473d96-6643-4f41-87b2-6428ad6dc2ea",
   "metadata": {},
   "outputs": [
    {
     "data": {
      "text/plain": [
       "donor\n",
       "Donor5     222\n",
       "Donor12    216\n",
       "Donor8     213\n",
       "Donor7     210\n",
       "Donor10    209\n",
       "Donor9     209\n",
       "Donor2     205\n",
       "Donor3     204\n",
       "Donor11    203\n",
       "Donor1     202\n",
       "Donor4     197\n",
       "Donor6     194\n",
       "Name: count, dtype: int64"
      ]
     },
     "execution_count": 10,
     "metadata": {},
     "output_type": "execute_result"
    }
   ],
   "source": [
    "df[\"donor\"].value_counts()"
   ]
  },
  {
   "cell_type": "code",
   "execution_count": 11,
   "id": "3aaee4e4-2773-4d25-937a-fc2b4c081d27",
   "metadata": {},
   "outputs": [
    {
     "data": {
      "text/plain": [
       "split-idx\n",
       "1     396\n",
       "2     360\n",
       "3     324\n",
       "4     288\n",
       "5     252\n",
       "6     216\n",
       "7     180\n",
       "11    144\n",
       "8     144\n",
       "9     108\n",
       "10     72\n",
       "Name: count, dtype: int64"
      ]
     },
     "execution_count": 11,
     "metadata": {},
     "output_type": "execute_result"
    }
   ],
   "source": [
    "df[\"split-idx\"].value_counts()"
   ]
  },
  {
   "cell_type": "code",
   "execution_count": null,
   "id": "1b440f69-6b40-4e90-a8b0-06173fb151b5",
   "metadata": {},
   "outputs": [],
   "source": []
  }
 ],
 "metadata": {
  "kernelspec": {
   "display_name": "cfp",
   "language": "python",
   "name": "cfp"
  },
  "language_info": {
   "codemirror_mode": {
    "name": "ipython",
    "version": 3
   },
   "file_extension": ".py",
   "mimetype": "text/x-python",
   "name": "python",
   "nbconvert_exporter": "python",
   "pygments_lexer": "ipython3",
   "version": "3.11.9"
  }
 },
 "nbformat": 4,
 "nbformat_minor": 5
}
