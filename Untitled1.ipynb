{
 "cells": [
  {
   "cell_type": "code",
   "execution_count": 1,
   "id": "3a12fcb4-ea3b-429e-804c-17ffd3935b52",
   "metadata": {},
   "outputs": [],
   "source": [
    "from omegaconf import OmegaConf"
   ]
  },
  {
   "cell_type": "code",
   "execution_count": 2,
   "id": "70d274ce-ee07-4e2c-8f45-b50870f57fcb",
   "metadata": {},
   "outputs": [],
   "source": [
    "conf = OmegaConf.create({\"foo\": \"bar\", \"foo2\": \"${foo}\"})"
   ]
  },
  {
   "cell_type": "code",
   "execution_count": 3,
   "id": "184564d4-46e5-49f4-a04d-b840e6c40ce2",
   "metadata": {},
   "outputs": [],
   "source": [
    "model_config = {\n",
    "    \"condition_embedding_dim\" : 1024,\n",
    "    \"time_encoder_dims\": (1024, 1024, 1024),\n",
    "    \"time_encoder_dropout\": 0.0,\n",
    "    \"hidden_dims\": (2048, 2048, 2048),\n",
    "    \"hidden_dropout\": 0.2,\n",
    "    \"decoder_dims\": (1024, 1024, 1024),\n",
    "    \"decoder_dropout\": 0.0,\n",
    "    \"pooling\": \"mean\",\n",
    "    \"layers_before_pool\": {\"drugs\": ({\"layer_type\": \"mlp\", \"dims\": (1024, 1024, 512)}),\n",
    "                           \"dose\": ({\"layer_type\": \"mlp\", \"dims\": (128, 256, 512)}),\n",
    "                          #\"cell_line\": ({\"layer_type\": \"mlp\", \"dims\": (512, 512)})},\n",
    "                          },\n",
    "    \"layers_after_pool\": {\"layer_type\": \"mlp\", \"dims\": (1024, 1024)},\n",
    "    \"cond_output_dropout\": 0.9,\n",
    "    \"time_freqs\": 1024,\n",
    "    \"epsilon\": 0.1,\n",
    "    \"tau_a\": 0.99,\n",
    "    \"tau_b\": 0.99,\n",
    "    \"learning_rate\": 1e-4,\n",
    "    \"multisteps\": 50,\n",
    "    \"flow_type\": \"constant_noise\",\n",
    "    \"flow_noise\": 1.0,\n",
    "}"
   ]
  },
  {
   "cell_type": "code",
   "execution_count": 4,
   "id": "30f759f3-cf07-4442-903c-dcf55d6be649",
   "metadata": {},
   "outputs": [],
   "source": [
    "conf = OmegaConf.create(model_config)"
   ]
  },
  {
   "cell_type": "code",
   "execution_count": 5,
   "id": "608ac405-9c5f-4a11-a701-3cf0c7a41ed2",
   "metadata": {},
   "outputs": [
    {
     "data": {
      "text/plain": [
       "{'condition_embedding_dim': 1024, 'time_encoder_dims': [1024, 1024, 1024], 'time_encoder_dropout': 0.0, 'hidden_dims': [2048, 2048, 2048], 'hidden_dropout': 0.2, 'decoder_dims': [1024, 1024, 1024], 'decoder_dropout': 0.0, 'pooling': 'mean', 'layers_before_pool': {'drugs': {'layer_type': 'mlp', 'dims': [1024, 1024, 512]}, 'dose': {'layer_type': 'mlp', 'dims': [128, 256, 512]}}, 'layers_after_pool': {'layer_type': 'mlp', 'dims': [1024, 1024]}, 'cond_output_dropout': 0.9, 'time_freqs': 1024, 'epsilon': 0.1, 'tau_a': 0.99, 'tau_b': 0.99, 'learning_rate': 0.0001, 'multisteps': 50, 'flow_type': 'constant_noise', 'flow_noise': 1.0}"
      ]
     },
     "execution_count": 5,
     "metadata": {},
     "output_type": "execute_result"
    }
   ],
   "source": [
    "conf"
   ]
  },
  {
   "cell_type": "code",
   "execution_count": 6,
   "id": "89df911a-1b93-474c-ab37-5602a8f7d2d4",
   "metadata": {},
   "outputs": [],
   "source": [
    "d = OmegaConf.to_container(conf, resolve=True)"
   ]
  },
  {
   "cell_type": "code",
   "execution_count": 7,
   "id": "0bd9cb00-2355-4643-b3dc-1d4c910fa479",
   "metadata": {},
   "outputs": [
    {
     "data": {
      "text/plain": [
       "{'condition_embedding_dim': 1024,\n",
       " 'time_encoder_dims': [1024, 1024, 1024],\n",
       " 'time_encoder_dropout': 0.0,\n",
       " 'hidden_dims': [2048, 2048, 2048],\n",
       " 'hidden_dropout': 0.2,\n",
       " 'decoder_dims': [1024, 1024, 1024],\n",
       " 'decoder_dropout': 0.0,\n",
       " 'pooling': 'mean',\n",
       " 'layers_before_pool': {'drugs': {'layer_type': 'mlp',\n",
       "   'dims': [1024, 1024, 512]},\n",
       "  'dose': {'layer_type': 'mlp', 'dims': [128, 256, 512]}},\n",
       " 'layers_after_pool': {'layer_type': 'mlp', 'dims': [1024, 1024]},\n",
       " 'cond_output_dropout': 0.9,\n",
       " 'time_freqs': 1024,\n",
       " 'epsilon': 0.1,\n",
       " 'tau_a': 0.99,\n",
       " 'tau_b': 0.99,\n",
       " 'learning_rate': 0.0001,\n",
       " 'multisteps': 50,\n",
       " 'flow_type': 'constant_noise',\n",
       " 'flow_noise': 1.0}"
      ]
     },
     "execution_count": 7,
     "metadata": {},
     "output_type": "execute_result"
    }
   ],
   "source": [
    "d"
   ]
  },
  {
   "cell_type": "code",
   "execution_count": null,
   "id": "c1c26f61-cabe-4086-9cf9-6f86e4bcd612",
   "metadata": {},
   "outputs": [],
   "source": []
  }
 ],
 "metadata": {
  "kernelspec": {
   "display_name": "cfp",
   "language": "python",
   "name": "cfp"
  },
  "language_info": {
   "codemirror_mode": {
    "name": "ipython",
    "version": 3
   },
   "file_extension": ".py",
   "mimetype": "text/x-python",
   "name": "python",
   "nbconvert_exporter": "python",
   "pygments_lexer": "ipython3",
   "version": "3.11.9"
  }
 },
 "nbformat": 4,
 "nbformat_minor": 5
}
