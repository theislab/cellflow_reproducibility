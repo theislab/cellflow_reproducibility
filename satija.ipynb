{
 "cells": [
  {
   "cell_type": "code",
   "execution_count": 1,
   "id": "c7967d53-bf51-4b7a-9576-94c2ad821e4b",
   "metadata": {},
   "outputs": [],
   "source": [
    "import cfp\n",
    "import scanpy as sc\n",
    "import numpy as np\n",
    "import optax\n",
    "from omegaconf import DictConfig, OmegaConf\n",
    "from functools import partial\n",
    "from cfp.training import Metrics, PCADecoder, PCADecodedMetrics\n",
    "from cfp.training._callbacks import WandbLogger\n",
    "from ott.solvers import utils as solver_utils\n",
    "\n"
   ]
  },
  {
   "cell_type": "code",
   "execution_count": 2,
   "id": "06a2d16b-8f6c-4d7c-9302-5546cc2ceb5e",
   "metadata": {},
   "outputs": [],
   "source": [
    "dataset_path = {\n",
    "    \"train\": '/lustre/groups/ml01/workspace/ot_perturbation/data/satija/datasets/ood_cell_type/IFNG_ct-BXPC3_hvg-2000_pca-30_norm/adata_train_IFNG_BXPC3_embs.h5ad',\n",
    "    \"test\": '/lustre/groups/ml01/workspace/ot_perturbation/data/satija/datasets/ood_cell_type/IFNG_ct-BXPC3_hvg-2000_pca-30_norm/adata_test_IFNG_BXPC3_embs.h5ad',\n",
    "    \"ood\": '/lustre/groups/ml01/workspace/ot_perturbation/data/satija/datasets/ood_cell_type/IFNG_ct-BXPC3_hvg-2000_pca-30_norm/adata_ood_IFNG_BXPC3_embs.h5ad'\n",
    "}\n",
    "\n",
    "\n",
    "\n",
    "adata_train = sc.read_h5ad(dataset_path[\"train\"])\n",
    "adata_test = sc.read_h5ad(dataset_path[\"test\"])\n",
    "adata_ood = sc.read_h5ad(dataset_path[\"ood\"])\n",
    "\n",
    "\n"
   ]
  },
  {
   "cell_type": "code",
   "execution_count": 3,
   "id": "b8a15e82-c524-4518-b568-b716295f0c80",
   "metadata": {},
   "outputs": [
    {
     "name": "stderr",
     "output_type": "stream",
     "text": [
      "/ictstr01/home/icb/dominik.klein/git_repos/cell_flow_perturbation/src/cfp/data/_datamanager.py:319: SettingWithCopyWarning: \n",
      "A value is trying to be set on a copy of a slice from a DataFrame.\n",
      "Try using .loc[row_indexer,col_indexer] = value instead\n",
      "\n",
      "See the caveats in the documentation: https://pandas.pydata.org/pandas-docs/stable/user_guide/indexing.html#returning-a-view-versus-a-copy\n",
      "  _covariate_data[\"cell_index\"] = _covariate_data.index\n",
      "2024-08-22 14:39:28.921586: W external/xla/xla/service/gpu/nvptx_compiler.cc:836] The NVIDIA driver's CUDA version is 12.3 which is older than the PTX compiler version (12.6.20). Because the driver is older than the PTX compiler version, XLA is disabling parallel compilation, which may slow down compilation. You should update your NVIDIA driver or use the NVIDIA-provided CUDA forward compatibility packages.\n",
      "100%|██████████| 219/219 [00:02<00:00, 97.95it/s] \n"
     ]
    }
   ],
   "source": [
    "# Prepare model\n",
    "model_config = {\n",
    "    \"hidden_dims\": (1024, 1024, 1024),\n",
    "    \"decoder_dims\": (2048, 2048, 2048),\n",
    "    \"condition_embedding_dim\": 4096,\n",
    "    \"time_encoder_dims\": (512, 512, 512),\n",
    "    \"flow\": {\"constant_noise\": 1.0},\n",
    "    \"hidden_dropout\": 0.0,\n",
    "    \"decoder_dropout\": 0.0,\n",
    "    \"layers_after_pool\": ({\"layer_type\": \"mlp\", \"dims\": (4096, 4096)},),\n",
    "    \"match_kwargs\": {\"epsilon\": 0.01, \"tau_a\": 1.0, \"tau_b\": 0.999},\n",
    "    #\"covariates_not_pooled\": ['cell_type', 'pathway', 'gene'],\n",
    "}\n",
    "\n",
    "train_config = {\n",
    "    \"learning_rate\": 5.0e-05,\n",
    "    \"batch_size\": 1024,\n",
    "    \"multi_steps\": 50,\n",
    "    \"num_iterations\": 1000000,\n",
    "    \"valid_freq\": 1000,\n",
    "    \"n_test_samples\": 2,\n",
    "    \"n_ood_samples\": 2,\n",
    "    \"save_model\": True,\n",
    "    \"save_model_path\": \"/home/icb/lea.zimmermann/projects/cell_flow_perturbation/results\"\n",
    "}\n",
    "optimizer = optax.MultiSteps(optax.adam(learning_rate=train_config[\"learning_rate\"]), train_config[\"multi_steps\"])\n",
    "\n",
    "match_fn = partial(solver_utils.match_linear, **model_config[\"match_kwargs\"])\n",
    "\n",
    "\n",
    "# Initiate the model (only otfm works for now)\n",
    "cf = cfp.model.CellFlow(adata_train, solver='otfm')\n",
    "\n",
    "# Prepare training data\n",
    "cf.prepare_data(\n",
    "    sample_rep=\"X_pca\",  # this is the location of the cell data, can also be \"X\"\n",
    "    control_key=\"control\",  # Column to distinguish controls. could wither be a tuple with the column key and the control name or just the name of a boolian column\n",
    "    sample_covariates=[\n",
    "        'pathway',\n",
    "        'cell_type'\n",
    "    ],  # split the data based on the covariates in obs, such as \"cell_type\"\n",
    "    sample_covariate_reps={\n",
    "        \"cell_type\": \"cell_type_emb\",\n",
    "        \"pathway\": \"pathway_emb\",\n",
    "    },  \n",
    "    perturbation_covariates={'gene': ('gene',)},\n",
    "    perturbation_covariate_reps={\n",
    "        \"gene\": \"gene_emb\",\n",
    "    }, \n",
    ")\n",
    "\n"
   ]
  },
  {
   "cell_type": "code",
   "execution_count": 9,
   "id": "824ae1f4-b8bc-474b-9600-99b53ecd5f75",
   "metadata": {},
   "outputs": [
    {
     "data": {
      "text/plain": [
       "['pathway', 'cell_type']"
      ]
     },
     "execution_count": 9,
     "metadata": {},
     "output_type": "execute_result"
    }
   ],
   "source": [
    "cf.dm.sample_covariates"
   ]
  },
  {
   "cell_type": "code",
   "execution_count": null,
   "id": "bee7f1c6-4d51-40cf-9574-b8d23d1a86db",
   "metadata": {},
   "outputs": [],
   "source": [
    "# Then prepare validation data from separate adata object\n",
    "cf.prepare_validation_data(\n",
    "    adata_test,\n",
    "    name=\"test\",\n",
    "    n_conditions_on_log_iteration=2,\n",
    "    n_conditions_on_train_end=2\n",
    ")\n",
    "# If you have two, such as test & ood you can run it a second time\n",
    "cf.prepare_validation_data(\n",
    "    adata_ood,\n",
    "    name=\"ood\",\n",
    "    n_conditions_on_log_iteration=2,\n",
    "    n_conditions_on_train_end=2\n",
    ")\n",
    "\n",
    "cf.prepare_model(\n",
    "    hidden_dims=model_config[\"hidden_dims\"],\n",
    "    decoder_dims=model_config[\"decoder_dims\"],\n",
    "    condition_embedding_dim=model_config[\"condition_embedding_dim\"],\n",
    "    time_encoder_dims=model_config[\"time_encoder_dims\"],\n",
    "    flow=model_config[\"flow\"],\n",
    "    hidden_dropout=model_config[\"hidden_dropout\"],\n",
    "    decoder_dropout=model_config[\"decoder_dropout\"],\n",
    "    match_fn=match_fn,\n",
    "    optimizer=optimizer,\n",
    "    layers_after_pool=model_config[\"layers_after_pool\"]\n",
    ")\n",
    "\n",
    "metrics_callback = Metrics(metrics=[\"r_squared\"])\n",
    "pca_decoder = PCADecoder(pcs=adata_train.varm['PCs'], means=adata_train.varm[\"X_train_mean\"])\n",
    "decoded_metrics_callback = PCADecodedMetrics(\n",
    "    metrics=[\"r_squared\"],\n",
    "    pca_decoder=pca_decoder\n",
    ")\n",
    "\n",
    "logger_config = {\n",
    "    'project': 'satija_ifng_otfm_test',\n",
    "    'out_dir': '/lustre/groups/ml01/workspace/ot_perturbation/data/satija/out'\n",
    "}\n",
    "\n",
    "config = {\n",
    "    \"model\": model_config,\n",
    "    \"train\": train_config,\n",
    "    \"logger\": logger_config\n",
    "}\n",
    "\n",
    "wandb_callback = WandbLogger(project=logger_config['project'], out_dir=logger_config['out_dir'],config=config)\n",
    "\n",
    "cf.train(\n",
    "    num_iterations=train_config[\"num_iterations\"], \n",
    "    callbacks=[metrics_callback, decoded_metrics_callback, wandb_callback], \n",
    "    valid_freq=train_config[\"valid_freq\"], \n",
    "    batch_size=train_config[\"batch_size\"]\n",
    ")\n"
   ]
  }
 ],
 "metadata": {
  "kernelspec": {
   "display_name": "cfp",
   "language": "python",
   "name": "cfp"
  },
  "language_info": {
   "codemirror_mode": {
    "name": "ipython",
    "version": 3
   },
   "file_extension": ".py",
   "mimetype": "text/x-python",
   "name": "python",
   "nbconvert_exporter": "python",
   "pygments_lexer": "ipython3",
   "version": "3.11.9"
  }
 },
 "nbformat": 4,
 "nbformat_minor": 5
}
