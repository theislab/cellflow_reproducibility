{
 "cells": [
  {
   "cell_type": "code",
   "execution_count": 1,
   "metadata": {},
   "outputs": [],
   "source": [
    "import numpy as np\n",
    "import pandas as pd\n",
    "import anndata as ad\n",
    "import scanpy as sc"
   ]
  },
  {
   "cell_type": "code",
   "execution_count": 2,
   "metadata": {},
   "outputs": [],
   "source": [
    "molecules = [\"SAG\", \"SHH\", \"PM\", \"CycA\", \"FGF2\", \"FGF4\", \"FGF8\", \"FGF17\", \"FGF19\",\n",
    "             \"BMP4\", \"BMP7\", \"LDN\", \"Activin\", \"CHIR\", \"IWP2\", \"XAV\", \"Rspondin2\",\n",
    "             \"Rspondin3\", \"RA\", \"SR11237\", \"DAPT\", \"EGF\", \"Insulin\"]"
   ]
  },
  {
   "cell_type": "markdown",
   "metadata": {},
   "source": [
    "## Fatima's data"
   ]
  },
  {
   "cell_type": "code",
   "execution_count": 3,
   "metadata": {},
   "outputs": [],
   "source": [
    "#fatima = sc.read_h5ad(\"/pmount/projects/site/pred/organoid-atlas/USERS/fleckj/projects/juniper/data/datasets/FatimaPatterningScreen/240710_fatima_patscreen_v1_common_hv2k_wknn_ctrl_ref_mean.h5ad\")\n",
    "fatima = sc.read_h5ad(\"/projects/site/pred/organoid-atlas/data/local/perturbation/PatterningScreenFatima/fatima_patscreen_v1_common_hv2k_wknn.h5ad\")\n",
    "fatima_conds = pd.read_csv(\"/pmount/projects/site/pred/organoid-atlas/USERS/fleckj/projects/juniper/data/datasets/FatimaPatterningScreen/fatima_patscreen_conditions.tsv\", sep=\"\\t\")\n",
    "\n",
    "fatima = fatima[fatima.obs[\"Condition\"].isin(fatima_conds[\"Condition\"])]"
   ]
  },
  {
   "cell_type": "code",
   "execution_count": 4,
   "metadata": {},
   "outputs": [],
   "source": [
    "mol_concs = {morph: [] for morph in molecules}\n",
    "mol_start_times = {morph: [] for morph in molecules}\n",
    "mol_end_times = {morph: [] for morph in molecules}\n",
    "for i, row in fatima.obs.iterrows():\n",
    "    cond = fatima_conds[fatima_conds[\"Condition\"] == row[\"Condition\"]].iloc[0]\n",
    "    mols = [cond[\"Morphogen_AP\"], cond[\"Morphogen_DV\"], cond[\"Morphogen_F\"]]\n",
    "    mols_present = []\n",
    "    for mol, ax in zip(mols, [\"AP\", \"DV\", \"F\"]):\n",
    "        if mol != \"-\" and \"_\" not in mol:\n",
    "            mol = mol if mol != \"XAV939\" else \"XAV\"\n",
    "            mols_present.append(mol)\n",
    "            mol_concs[mol].append(float(cond[\"Dose_\" + ax + \"_conc\"]))\n",
    "            start_time, end_time = cond[\"Timing_\" + ax + \"_days\"].split(\"-\")\n",
    "            mol_start_times[mol].append(float(start_time))\n",
    "            mol_end_times[mol].append(float(end_time))\n",
    "        elif \"_\" in mol:\n",
    "            mols_dv = mol.split(\"_\")\n",
    "            concs_dv = cond[\"Dose_DV_conc\"].split(\"_\")\n",
    "            start_time, end_time = cond[\"Timing_DV_days\"].split(\"-\")\n",
    "            for mol_dv, conc_dv in zip(mols_dv, concs_dv):\n",
    "                mol = mol if mol != \"XAV939\" else \"XAV\"\n",
    "                mols_present.append(mol_dv)\n",
    "                mol_concs[mol_dv].append(float(conc_dv))\n",
    "                mol_start_times[mol_dv].append(float(start_time))\n",
    "                mol_end_times[mol_dv].append(float(end_time))\n",
    "\n",
    "    # Other morphogens\n",
    "    for mol in molecules:\n",
    "        if not mol in mols_present:\n",
    "            mol_concs[mol].append(0)\n",
    "            mol_start_times[mol].append(0)\n",
    "            mol_end_times[mol].append(0)"
   ]
  },
  {
   "cell_type": "code",
   "execution_count": 5,
   "metadata": {},
   "outputs": [
    {
     "name": "stderr",
     "output_type": "stream",
     "text": [
      "/tmp/ipykernel_2948049/3748026991.py:2: ImplicitModificationWarning: Trying to modify attribute `.obs` of view, initializing view as actual.\n",
      "  fatima.obs[mol + \"_conc\"] = mol_concs[mol]\n"
     ]
    }
   ],
   "source": [
    "for mol in molecules:\n",
    "    fatima.obs[mol + \"_conc\"] = mol_concs[mol]\n",
    "    fatima.obs[mol + \"_start_time\"] = mol_start_times[mol]\n",
    "    fatima.obs[mol + \"_end_time\"] = mol_end_times[mol]"
   ]
  },
  {
   "cell_type": "code",
   "execution_count": 6,
   "metadata": {},
   "outputs": [],
   "source": [
    "# nM to ng/mL (molecular weights: BMP4=13kDa, BMP7=15.7kDa - Fatima used monomers)\n",
    "fatima.obs[\"BMP4_conc\"] = fatima.obs[\"BMP4_conc\"] * 13\n",
    "fatima.obs[\"BMP7_conc\"] = fatima.obs[\"BMP7_conc\"] * 15.7\n",
    "\n",
    "# nM to uM\n",
    "fatima.obs.loc[fatima.obs[\"XAV_conc\"] == 180, \"XAV_conc\"] = 0.18"
   ]
  },
  {
   "cell_type": "markdown",
   "metadata": {},
   "source": [
    "## Neal Amin's data"
   ]
  },
  {
   "cell_type": "code",
   "execution_count": 7,
   "metadata": {},
   "outputs": [],
   "source": [
    "neal = sc.read_h5ad(\"/projects/site/pred/organoid-atlas/data/public_datasets/scg/brain_organoids/AminPasca2023brx/pasca_primary_screen_v1_common_hv2k_wknn.h5ad\")\n",
    "neal_conds = pd.read_csv(\"/pmount/projects/site/pred/organoid-atlas/USERS/bobrovsd/data/amin/amin_conditions_rt.csv\")"
   ]
  },
  {
   "cell_type": "code",
   "execution_count": 8,
   "metadata": {},
   "outputs": [],
   "source": [
    "mol_concs = {morph: [] for morph in molecules}\n",
    "mol_start_times = {morph: [] for morph in molecules}\n",
    "mol_end_times = {morph: [] for morph in molecules}\n",
    "for i, row in neal.obs.iterrows():\n",
    "    cond = neal_conds[neal_conds[\"cond_id\"] == row[\"condition\"]].iloc[0]\n",
    "    mols = cond[~cond.isna()]\n",
    "    mol_names = mols.index[~mols.index.isin(['condition', 'cond_id', 'dataset'])]\n",
    "    mol_names = mol_names[~mol_names.str.contains(\"_\")]\n",
    "    for mol in molecules:\n",
    "        if mol in mol_names:\n",
    "            mol_concs[mol].append(mols[mol])\n",
    "            mol_start_times[mol].append(mols[mol + \"_start\"])\n",
    "            mol_end_times[mol].append(mols[mol + \"_end\"])\n",
    "        else:\n",
    "            mol_concs[mol].append(0)\n",
    "            mol_start_times[mol].append(0)\n",
    "            mol_end_times[mol].append(0)"
   ]
  },
  {
   "cell_type": "code",
   "execution_count": 9,
   "metadata": {},
   "outputs": [],
   "source": [
    "for mol in molecules:\n",
    "    neal.obs[mol + \"_conc\"] = mol_concs[mol]\n",
    "    neal.obs[mol + \"_start_time\"] = mol_start_times[mol]\n",
    "    neal.obs[mol + \"_end_time\"] = mol_end_times[mol]"
   ]
  },
  {
   "cell_type": "markdown",
   "metadata": {},
   "source": [
    "## Midbrain data"
   ]
  },
  {
   "cell_type": "code",
   "execution_count": 3,
   "metadata": {},
   "outputs": [],
   "source": [
    "nadya = sc.read_h5ad(\"/projects/site/pred/organoid-atlas/data/local/perturbation/MidbrainPatterningNadya/midbrain_patterning_v2_common_hv2k_wknn.h5ad\")\n",
    "nadya_conds = pd.read_csv(\"/projects/site/pred/organoid-atlas/USERS/bobrovsd/data/nadya/midbrain_conditions.csv\", index_col=0)"
   ]
  },
  {
   "cell_type": "code",
   "execution_count": 4,
   "metadata": {},
   "outputs": [],
   "source": [
    "mol_concs = {morph: [] for morph in molecules}\n",
    "mol_start_times = {morph: [] for morph in molecules}\n",
    "mol_end_times = {morph: [] for morph in molecules}\n",
    "count = 0\n",
    "d = {}\n",
    "d[0] = []\n",
    "for i, row in nadya.obs.iterrows():\n",
    "    if count == 3:\n",
    "        break\n",
    "    cond = nadya_conds[nadya_conds[\"Condition\"] == int(row[\"Condition\"])].iloc[0]\n",
    "    mols = cond[cond != 0]\n",
    "    mol_names = mols.index[~mols.index.isin(['Condition'])]\n",
    "    mol_names = mol_names.str.replace(\"M_\", \"\").str.replace(\"_d.*\",\"\", regex=True).unique()\n",
    "    for mol in molecules:\n",
    "        if mol == \"PM\":\n",
    "            if \"SHH\" in mol_names:\n",
    "                if mols[\"M_SHH\"] == 5:\n",
    "                    mol_concs[mol].append(2000)\n",
    "                    mol_start_times[mol].append(1)\n",
    "                    mol_end_times[mol].append(8)\n",
    "                elif mols[\"M_SHH\"] == 1:\n",
    "                    mol_concs[mol].append(400)\n",
    "                    mol_start_times[mol].append(1)\n",
    "                    mol_end_times[mol].append(8)\n",
    "            else:\n",
    "                mol_concs[mol].append(0)\n",
    "                mol_start_times[mol].append(0)\n",
    "                mol_end_times[mol].append(0)\n",
    "        elif mol == \"LDN\":\n",
    "            mol_concs[mol].append(100)\n",
    "            if \"BMP4\" in mol_names:\n",
    "                mol_start_times[mol].append(1)\n",
    "                mol_end_times[mol].append(8)\n",
    "            else:\n",
    "                mol_start_times[mol].append(1)\n",
    "                mol_end_times[mol].append(15)\n",
    "        elif mol == \"CHIR\":\n",
    "            if row[\"Condition\"] == '4':\n",
    "                mol_concs[mol].append(0.8)\n",
    "            else:\n",
    "                mol_concs[mol].append(3)\n",
    "            mol_start_times[mol].append(5)\n",
    "            mol_end_times[mol].append(15)\n",
    "        elif mol not in mol_names:\n",
    "            mol_concs[mol].append(0)\n",
    "            mol_start_times[mol].append(0)\n",
    "            mol_end_times[mol].append(0)\n",
    "        elif mol == \"SHH\":\n",
    "            mol_concs[mol].append(mols[\"M_SHH\"])\n",
    "            mol_start_times[mol].append(1)\n",
    "            mol_end_times[mol].append(8)\n",
    "        elif mol in [\"FGF8\", \"FGF2\", \"FGF17\"]:\n",
    "            fgf_cols = np.array([\"M_\" + mol + \"_d1_8\", \"M_\" + mol + \"_d8_15\"])\n",
    "            if np.all(np.isin(fgf_cols, mols.index)):\n",
    "                concs = mols[fgf_cols].tolist()\n",
    "                if concs[0] == concs[1]:\n",
    "                    mol_concs[mol].append(concs[0] * 100)\n",
    "                    mol_start_times[mol].append(1)\n",
    "                    mol_end_times[mol].append(15)\n",
    "                else:\n",
    "                    mol_concs[mol].append(str(concs[0] * 100) + \"_\" + str(concs[1] * 100))\n",
    "                    mol_start_times[mol].append(\"1_8\")\n",
    "                    mol_end_times[mol].append(\"8_15\")\n",
    "            elif np.any(np.isin(fgf_cols, mols.index)):\n",
    "                fgf_col = fgf_cols[np.isin(fgf_cols, mols.index)]\n",
    "                mol_concs[mol].append(mols[fgf_col].values[0] * 100)\n",
    "                mol_start_times[mol].append(int(fgf_col[0].split(\"_d\")[1].split(\"_\")[0]))\n",
    "                mol_end_times[mol].append(int(fgf_col[0].split(\"_\")[3]))\n",
    "            else:\n",
    "                mol_concs[mol].append(0)\n",
    "                mol_start_times[mol].append(0)\n",
    "                mol_end_times[mol].append(0)\n",
    "        elif mol == \"Insulin\":\n",
    "            mol_concs[mol].append(mols[\"M_Insulin\"])\n",
    "            mol_start_times[mol].append(1)\n",
    "            mol_end_times[mol].append(15)\n",
    "        elif mol in [\"BMP4\", \"RA\", \"Rspondin2\", \"Rspondin3\"]:\n",
    "            mol_concs[mol].append(mols[\"M_\" + mol])\n",
    "            mol_start_times[mol].append(8)\n",
    "            mol_end_times[mol].append(15)\n",
    "        elif mol == \"FGF19\":\n",
    "            mol_concs[mol].append(mols[\"M_FGF19\"])\n",
    "            mol_start_times[mol].append(15)\n",
    "            mol_end_times[mol].append(36)"
   ]
  },
  {
   "cell_type": "code",
   "execution_count": 5,
   "metadata": {},
   "outputs": [],
   "source": [
    "for mol in molecules:\n",
    "    nadya.obs[mol + \"_conc\"] = mol_concs[mol]\n",
    "    nadya.obs[mol + \"_start_time\"] = mol_start_times[mol]\n",
    "    nadya.obs[mol + \"_end_time\"] = mol_end_times[mol]"
   ]
  },
  {
   "cell_type": "code",
   "execution_count": 6,
   "metadata": {},
   "outputs": [],
   "source": [
    "# to ng/mL\n",
    "nadya.obs[\"SHH_conc\"] = nadya.obs[\"SHH_conc\"]*20\n",
    "nadya.obs[\"FGF19_conc\"] = nadya.obs[\"FGF19_conc\"]*100\n",
    "# nM to ng/mL (molecular weights: BMP4=26kDa, BMP7=31.4kDa - Nadya used dimers)\n",
    "nadya.obs[\"BMP4_conc\"] = nadya.obs[\"BMP4_conc\"]*26\n",
    "nadya.obs[\"BMP7_conc\"] = nadya.obs[\"BMP7_conc\"]*31.4\n",
    "# to nM\n",
    "nadya.obs[\"RA_conc\"] = nadya.obs[\"RA_conc\"]*100\n",
    "# to ug/mL\n",
    "nadya.obs[\"Insulin_conc\"] = nadya.obs[\"Insulin_conc\"]*7"
   ]
  },
  {
   "cell_type": "markdown",
   "metadata": {},
   "source": [
    "## Merged data"
   ]
  },
  {
   "cell_type": "code",
   "execution_count": 15,
   "metadata": {},
   "outputs": [],
   "source": [
    "fatima_with_ctrl = sc.read_h5ad(\"/pmount/projects/site/pred/organoid-atlas/USERS/fleckj/projects/juniper/data/datasets/FatimaPatterningScreen/240710_fatima_patscreen_v1_common_hv2k_wknn_ctrl_ref_mean.h5ad\")\n",
    "ctrl = fatima_with_ctrl[fatima_with_ctrl.obs[\"CTRL\"]]"
   ]
  },
  {
   "cell_type": "code",
   "execution_count": 16,
   "metadata": {},
   "outputs": [
    {
     "name": "stderr",
     "output_type": "stream",
     "text": [
      "/home/bobrovsd/miniconda3/envs/cellflow/lib/python3.10/site-packages/anndata/_core/merge.py:1284: FutureWarning: The behavior of DataFrame concatenation with empty or all-NA entries is deprecated. In a future version, this will no longer exclude empty or all-NA columns when determining the result dtypes. To retain the old behavior, exclude the relevant entries before the concat operation.\n",
      "  concat_annot = pd.concat(\n",
      "/home/bobrovsd/miniconda3/envs/cellflow/lib/python3.10/site-packages/anndata/_core/anndata.py:1818: UserWarning: Observation names are not unique. To make them unique, call `.obs_names_make_unique`.\n",
      "  utils.warn_names_duplicates(\"obs\")\n"
     ]
    }
   ],
   "source": [
    "fatima = fatima[:, []]\n",
    "neal = neal[:, []]\n",
    "nadya = nadya[:, []]\n",
    "ctrl = ctrl[:, []]\n",
    "\n",
    "# merge ctrl, fatima, neal, nadya\n",
    "adata = ad.concat([ctrl, fatima, neal, nadya], join=\"outer\")\n",
    "adata.obs_names_make_unique()\n",
    "adata.obs = adata.obs.drop(columns=[col for col in adata.obs.columns if not np.any([\"_start_time\" in col, \"_end_time\" in col, \"_conc\" in col])])\n",
    "adata.obs[adata.obs.isna()] = 0.0\n",
    "adata.obs[adata.obs == 0] = 0.0\n",
    "adata.obs = adata.obs.astype(str)\n",
    "adata.obs[\"dataset\"] = [\"ctrl\"] * ctrl.n_obs + [\"fatima\"] * fatima.n_obs + [\"neal\"] * neal.n_obs + [\"nadya\"] * nadya.n_obs\n",
    "adata.obs[\"source\"] = '0'\n",
    "adata.obs[\"CTRL\"] = adata.obs[\"dataset\"] == \"ctrl\"\n",
    "adata.obsm = {\"X_latent\": adata.obsm[\"X_scanvi_braun\"]}\n",
    "adata.uns = {\"dataset\": {'ctrl': [0, 0, 0, 0, 0, 0, 0],\n",
    "                         'fatima': [0, 0, 1, 0, 0, 0, 0],\n",
    "                         'neal': [0, 1, 0, 0, 0, 0, 0],\n",
    "                         'nadya': [1, 0, 0, 0, 0, 0, 0]}}"
   ]
  },
  {
   "cell_type": "code",
   "execution_count": 17,
   "metadata": {},
   "outputs": [],
   "source": [
    "adata.write_h5ad(\"/pmount/projects/site/pred/organoid-atlas/USERS/bobrovsd/data/morphogens/organoids_all.h5ad\")"
   ]
  },
  {
   "cell_type": "code",
   "execution_count": 42,
   "metadata": {},
   "outputs": [
    {
     "name": "stderr",
     "output_type": "stream",
     "text": [
      "/tmp/ipykernel_3627575/460049955.py:14: FutureWarning: DataFrame.applymap has been deprecated. Use DataFrame.map instead.\n",
      "  df_pca = df_pca.applymap(lambda x: (np.nan if \"_\" in x else float(x)) if isinstance(x, str) else x)\n"
     ]
    }
   ],
   "source": [
    "# pca of cells based on morphogen concentrations and timing\n",
    "from sklearn.decomposition import PCA\n",
    "from sklearn.preprocessing import StandardScaler\n",
    "import matplotlib.pyplot as plt\n",
    "import seaborn as sns\n",
    "\n",
    "df_pca = pd.DataFrame(index=adata.obs_names, columns=molecules)\n",
    "for mol in molecules:\n",
    "    df_pca[mol] = adata.obs[mol + \"_conc\"]\n",
    "    df_pca[mol + \"_start_time\"] = adata.obs[mol + \"_start_time\"]\n",
    "    df_pca[mol + \"_end_time\"] = adata.obs[mol + \"_end_time\"]\n",
    "df_pca = df_pca.fillna(0)\n",
    "# convert str to float; if cannot convert, drop row\n",
    "df_pca = df_pca.applymap(lambda x: (np.nan if \"_\" in x else float(x)) if isinstance(x, str) else x)\n",
    "dataset = adata.obs[\"dataset\"]\n",
    "dataset = np.array([np.array([\"ctrl\", \"fatima\", \"neal\", \"nadya\"])[int(i)] for i in dataset])\n",
    "\n",
    "# filter na\n",
    "dataset = dataset[~df_pca.isna().any(axis=1)]\n",
    "df_pca = df_pca.dropna()\n",
    "\n",
    "scaler = StandardScaler()\n",
    "X = scaler.fit_transform(df_pca)\n",
    "pca = PCA(n_components=2)\n",
    "pca.fit(X)\n",
    "X_pca = pca.transform(X)"
   ]
  },
  {
   "cell_type": "code",
   "execution_count": 43,
   "metadata": {},
   "outputs": [
    {
     "data": {
      "image/png": "[encoded data removed]",
      "text/plain": [
       "<Figure size 640x480 with 1 Axes>"
      ]
     },
     "metadata": {},
     "output_type": "display_data"
    }
   ],
   "source": [
    "sns.scatterplot(x=X_pca[:, 0], y=X_pca[:, 1], hue=dataset, palette=\"tab10\")\n",
    "plt.xlabel(\"PC1\")\n",
    "plt.ylabel(\"PC2\")\n",
    "plt.show()"
   ]
  },
  {
   "cell_type": "code",
   "execution_count": 47,
   "metadata": {},
   "outputs": [],
   "source": [
    "# fig, axs = plt.subplots(6, 4, figsize=(20, 30))\n",
    "\n",
    "# for i, mol in enumerate(molecules):\n",
    "#     ax = axs[i // 4, i % 4]\n",
    "#     sns.scatterplot(x=X_pca[:, 0], y=X_pca[:, 1], hue=df_pca[mol], palette=\"viridis\", ax=ax)\n",
    "#     ax.set_title(mol)\n",
    "#     ax.set_xlabel(\"PC1\")\n",
    "#     ax.set_ylabel(\"PC2\")"
   ]
  },
  {
   "cell_type": "code",
   "execution_count": null,
   "metadata": {},
   "outputs": [],
   "source": []
  }
 ],
 "metadata": {
  "kernelspec": {
   "display_name": "cellflow",
   "language": "python",
   "name": "python3"
  },
  "language_info": {
   "codemirror_mode": {
    "name": "ipython",
    "version": 3
   },
   "file_extension": ".py",
   "mimetype": "text/x-python",
   "name": "python",
   "nbconvert_exporter": "python",
   "pygments_lexer": "ipython3",
   "version": "3.10.14"
  }
 },
 "nbformat": 4,
 "nbformat_minor": 2
}
