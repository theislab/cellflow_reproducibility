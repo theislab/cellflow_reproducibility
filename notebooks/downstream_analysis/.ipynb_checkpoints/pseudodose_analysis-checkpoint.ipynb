{
 "cells": [
  {
   "cell_type": "code",
   "execution_count": 1,
   "id": "af9ec9cd-56dc-474b-843e-90fdef14a2f6",
   "metadata": {},
   "outputs": [],
   "source": [
    "import functools\n",
    "from typing import Literal, Optional, Iterable\n",
    "\n",
    "import jax\n",
    "import jax.numpy as jnp\n",
    "import jax.tree_util as jtu\n",
    "import numpy as np\n",
    "import optax\n",
    "import scanpy as sc\n",
    "from ott.neural import datasets\n",
    "from ott.neural.methods.flows import dynamics, otfm\n",
    "from ott.neural.networks.layers import time_encoder\n",
    "from ott.neural.networks.velocity_field import VelocityField\n",
    "from ott.solvers import utils as solver_utils\n",
    "from torch.utils.data import DataLoader\n",
    "from tqdm import tqdm\n",
    "import joypy\n",
    "import pandas as pd"
   ]
  },
  {
   "cell_type": "code",
   "execution_count": 2,
   "id": "9518a5e1-5655-4c26-8787-ac7335f6b897",
   "metadata": {},
   "outputs": [],
   "source": [
    "def reconstruct_data(embedding: np.ndarray, projection_matrix: np.ndarray, mean_to_add: np.ndarray) -> np.ndarray:\n",
    "    return np.matmul(embedding, projection_matrix.T) + mean_to_add"
   ]
  },
  {
   "cell_type": "code",
   "execution_count": 3,
   "id": "2f272239-3767-4df3-8fc2-abdce63209c8",
   "metadata": {},
   "outputs": [],
   "source": [
    "obsm_key_cond = \"ecfp_cell_line_logdose_more_dose\"\n",
    "obsm_key_data = \"X_pca\""
   ]
  },
  {
   "cell_type": "code",
   "execution_count": 4,
   "id": "511bf642-2e0e-4bbf-b730-ee20c393d689",
   "metadata": {},
   "outputs": [],
   "source": [
    "adata_train_path = \"/lustre/groups/ml01/workspace/ot_perturbation/data/sciplex/adata_train_30.h5ad\"\n",
    "adata_test_path = \"/lustre/groups/ml01/workspace/ot_perturbation/data/sciplex/adata_test_30.h5ad\"\n",
    "adata_ood_path = \"/lustre/groups/ml01/workspace/ot_perturbation/data/sciplex/adata_ood_30.h5ad\""
   ]
  },
  {
   "cell_type": "code",
   "execution_count": 5,
   "id": "d6f8a3e5-c0d9-45b8-bf50-a31c8fd99a87",
   "metadata": {},
   "outputs": [
    {
     "name": "stderr",
     "output_type": "stream",
     "text": [
      "/home/icb/dominik.klein/mambaforge/envs/ot_pert_genot/lib/python3.12/site-packages/anndata/__init__.py:51: FutureWarning: `anndata.read` is deprecated, use `anndata.read_h5ad` instead. `ad.read` will be removed in mid 2024.\n",
      "  warnings.warn(\n",
      "/home/icb/dominik.klein/mambaforge/envs/ot_pert_genot/lib/python3.12/site-packages/anndata/__init__.py:51: FutureWarning: `anndata.read` is deprecated, use `anndata.read_h5ad` instead. `ad.read` will be removed in mid 2024.\n",
      "  warnings.warn(\n",
      "/home/icb/dominik.klein/mambaforge/envs/ot_pert_genot/lib/python3.12/site-packages/anndata/__init__.py:51: FutureWarning: `anndata.read` is deprecated, use `anndata.read_h5ad` instead. `ad.read` will be removed in mid 2024.\n",
      "  warnings.warn(\n"
     ]
    }
   ],
   "source": [
    "adata_train = sc.read(adata_train_path)\n",
    "adata_ood = sc.read(adata_ood_path)\n",
    "adata_test = sc.read(adata_test_path)"
   ]
  },
  {
   "cell_type": "code",
   "execution_count": 6,
   "id": "d9b68a23-0daf-4756-a736-dd92bf73b6fd",
   "metadata": {},
   "outputs": [],
   "source": [
    "source_dim=30\n",
    "target_dim=30\n",
    "condition_dim=1424"
   ]
  },
  {
   "cell_type": "code",
   "execution_count": 7,
   "id": "9b914c02-7934-4092-9323-75eb9fdbf382",
   "metadata": {},
   "outputs": [
    {
     "name": "stderr",
     "output_type": "stream",
     "text": [
      "2024-05-15 13:12:55.464877: W external/xla/xla/service/gpu/nvptx_compiler.cc:718] The NVIDIA driver's CUDA version is 12.3 which is older than the ptxas CUDA version (12.4.131). Because the driver is older than the ptxas version, XLA is disabling parallel compilation, which may slow down compilation. You should update your NVIDIA driver or use the NVIDIA-provided CUDA forward compatibility packages.\n"
     ]
    }
   ],
   "source": [
    "vf = VelocityField(\n",
    "    hidden_dims=[1024, 1024, 1024],\n",
    "    time_dims=[512, 512],\n",
    "    output_dims=[1024, 1024, 1024] + [target_dim],\n",
    "    condition_dims=[4096, 2048, 1024],\n",
    "    time_encoder=functools.partial(time_encoder.cyclical_time_encoder, n_freqs=1024),\n",
    ")\n",
    "\n",
    "model = otfm.OTFlowMatching(\n",
    "    vf,\n",
    "    flow=dynamics.ConstantNoiseFlow(0),\n",
    "    match_fn=None,\n",
    "    condition_dim=condition_dim,\n",
    "    rng=jax.random.PRNGKey(13),\n",
    "    optimizer=optax.MultiSteps(optax.adam(learning_rate=1e-4), 20),\n",
    ")\n"
   ]
  },
  {
   "cell_type": "code",
   "execution_count": null,
   "id": "709afb52-ae66-4772-a2e1-673a0405e577",
   "metadata": {},
   "outputs": [],
   "source": [
    "load_path = f\"{checkpoint_path}/model.pkl\"\n",
    "\n",
    "# Open the file containing the saved parameters\n",
    "with open(load_path, 'rb') as f:\n",
    "    loaded_params = pickle.load(f)"
   ]
  },
  {
   "cell_type": "code",
   "execution_count": null,
   "id": "90b73296-3a95-439e-bb7e-8447bb133786",
   "metadata": {},
   "outputs": [],
   "source": [
    "model.vf_state.params = loaded_params"
   ]
  },
  {
   "cell_type": "code",
   "execution_count": 8,
   "id": "e3dac86e-eaa3-4c51-9880-c4fd7c4da889",
   "metadata": {},
   "outputs": [],
   "source": [
    "OBSM_KEY_DATA = \"X_pca\"\n",
    "OBSM_KEY_COND = \"ecfp_cell_line_logdose_more_dose\""
   ]
  },
  {
   "cell_type": "code",
   "execution_count": 9,
   "id": "a59cbd7b-9571-4e9f-b8e7-3cb5cb59cd41",
   "metadata": {},
   "outputs": [],
   "source": [
    "def load_data(adata, obsm_key_data=\"X_pca\", obsm_key_cond=\"ecfp_cell_line_logdose_more_dose\"):\n",
    "    \"\"\"Loads data and preprocesses it based on configuration.\"\"\"\n",
    "    dls = []\n",
    "    data_source = {}\n",
    "    data_target = {}\n",
    "    data_source_decoded = {}\n",
    "    data_target_decoded = {}\n",
    "    data_conditions = {}\n",
    "    for cond in adata.obs[\"condition\"].cat.categories:\n",
    "        if \"Vehicle\" not in cond:\n",
    "            src_str_unique = list(adata[adata.obs[\"condition\"] == cond].obs[\"cell_type\"].unique())\n",
    "            assert len(src_str_unique) == 1\n",
    "            src_str = src_str_unique[0] + \"_Vehicle_0.0\"\n",
    "            source = adata[adata.obs[\"condition\"] == src_str].obsm[obsm_key_data]\n",
    "            source_decoded = adata[adata.obs[\"condition\"] == src_str].X.A\n",
    "            target = adata[adata.obs[\"condition\"] == cond].obsm[obsm_key_data]\n",
    "            target_decoded = adata[adata.obs[\"condition\"] == cond].X.A\n",
    "            conds = adata[adata.obs[\"condition\"] == cond].obsm[obsm_key_cond]\n",
    "            assert np.all(np.all(conds == conds[0], axis=1))\n",
    "            conds = np.tile(conds[0], (len(source), 1))\n",
    "            data_source[cond] = source\n",
    "            data_target[cond] = target\n",
    "            data_source_decoded[cond] = source_decoded\n",
    "            data_target_decoded[cond] = target_decoded\n",
    "            data_conditions[cond] = conds\n",
    "    return {\n",
    "        \"source\": data_source,\n",
    "        \"target\": data_target,\n",
    "        \"source_decoded\": data_source_decoded,\n",
    "        \"target_decoded\": data_target_decoded,\n",
    "        \"conditions\": data_conditions,\n",
    "    }\n"
   ]
  },
  {
   "cell_type": "code",
   "execution_count": 10,
   "id": "6d0d819e-9581-487c-bb76-7d87512ba7f6",
   "metadata": {},
   "outputs": [],
   "source": [
    "test_data_dict = load_data(adata_test)"
   ]
  },
  {
   "cell_type": "code",
   "execution_count": 11,
   "id": "63dbbac4-51e6-4f9e-8ce4-d31eff66218d",
   "metadata": {},
   "outputs": [],
   "source": [
    "reconstruct_data_fn = functools.partial(\n",
    "        reconstruct_data, projection_matrix=adata_train.varm[\"PCs\"], mean_to_add=adata_train.varm[\"X_train_mean\"].T\n",
    "    )"
   ]
  },
  {
   "cell_type": "code",
   "execution_count": 12,
   "id": "04d0ff9e-a4de-4d3f-ba08-78b0347fddaf",
   "metadata": {},
   "outputs": [],
   "source": [
    "def interpolate_continuous_covariate(model, source: jnp.ndarray, condition_without_covariate: jnp.ndarray, covariate_values: Iterable):\n",
    "    assert condition_without_covariate.shape[0] == 1 # we only do one condition\n",
    "    conditions = {}\n",
    "    for cov in covariate_values:\n",
    "        conds = np.concatenate((condition_without_covariate, jnp.array([[cov] * 100])), axis=-1)\n",
    "        conditions[cov] = np.tile(conds, (len(source), 1))\n",
    "    return jtu.tree_map(lambda c: functools.partial(model.transport, x=source)(condition=c), conditions)"
   ]
  },
  {
   "cell_type": "code",
   "execution_count": 13,
   "id": "051098c7-8b23-46e3-b10f-3aff8cc18d7e",
   "metadata": {},
   "outputs": [
    {
     "data": {
      "text/plain": [
       "['A549_CUDC-907_10.0',\n",
       " 'MCF7_CUDC-907_10.0',\n",
       " 'MCF7_CUDC-907_100.0',\n",
       " 'MCF7_CUDC-907_1000.0',\n",
       " 'MCF7_CUDC-907_10000.0']"
      ]
     },
     "execution_count": 13,
     "metadata": {},
     "output_type": "execute_result"
    }
   ],
   "source": [
    "[el for el in test_data_dict[\"conditions\"].keys() if \"CUDC-907\" in el]\n",
    "\n"
   ]
  },
  {
   "cell_type": "code",
   "execution_count": 14,
   "id": "4cf3004b-44d8-4d9f-b923-ef17fea0e981",
   "metadata": {},
   "outputs": [],
   "source": [
    "adata = adata_test"
   ]
  },
  {
   "cell_type": "code",
   "execution_count": 15,
   "id": "3d704329-d918-4e6b-b1f3-92e7cb64bbda",
   "metadata": {},
   "outputs": [],
   "source": [
    "perturbation_condition = \"MCF7_CUDC-907_10.0\"\n",
    "src_str_unique = list(adata[adata.obs[\"condition\"] == perturbation_condition].obs[\"cell_type\"].unique())\n",
    "assert len(src_str_unique) == 1\n",
    "src_str = src_str_unique[0] + \"_Vehicle_0.0\"\n",
    "source = adata[adata.obs[\"condition\"] == src_str].obsm[OBSM_KEY_DATA]\n",
    "conds = adata[adata.obs[\"condition\"] == perturbation_condition].obsm[OBSM_KEY_COND]\n",
    "condition_without_covariate = conds[0,...,:-100][None,...]\n",
    "covariate_values = [0.5, 1.0, 1.5, 2.0, 2.5, 3.0, 3.5, 4.0]\n",
    "\n"
   ]
  },
  {
   "cell_type": "code",
   "execution_count": 16,
   "id": "4097dc9f-50df-4229-b98f-8c7fbcd2a307",
   "metadata": {},
   "outputs": [],
   "source": [
    "interpolation_results = interpolate_continuous_covariate(model, source, condition_without_covariate, covariate_values)\n"
   ]
  },
  {
   "cell_type": "code",
   "execution_count": 17,
   "id": "7828f08f-3164-4158-9da5-5b4b2b8f86c1",
   "metadata": {},
   "outputs": [],
   "source": [
    "\n",
    "prediction_decoded = jtu.tree_map(reconstruct_data_fn, interpolation_results)"
   ]
  },
  {
   "cell_type": "code",
   "execution_count": 42,
   "id": "02546937-c8ed-4b05-b09e-762602d1ceed",
   "metadata": {},
   "outputs": [],
   "source": [
    "dfs = []\n",
    "for k, preds in prediction_decoded.items():\n",
    "    df = pd.DataFrame(data=preds, columns=adata_train.var_names)\n",
    "    df[\"dosage\"] = k\n",
    "    df[\"mode\"] = \"predicted\"\n",
    "    dfs.append(df)"
   ]
  },
  {
   "cell_type": "code",
   "execution_count": 43,
   "id": "d673c982-3389-4844-8b0f-60374046a490",
   "metadata": {},
   "outputs": [],
   "source": [
    "df_preds = pd.concat(dfs)"
   ]
  },
  {
   "cell_type": "code",
   "execution_count": 44,
   "id": "8ca5a306-eb72-4210-99f8-b6f01f1e981e",
   "metadata": {},
   "outputs": [],
   "source": [
    "gene1 = \"CFH\"\n",
    "gene2 = \"GCLC\""
   ]
  },
  {
   "cell_type": "code",
   "execution_count": 45,
   "id": "ffe2a694-966b-42e3-bea9-d0be6a702654",
   "metadata": {},
   "outputs": [
    {
     "data": {
      "text/plain": [
       "[10.0, 0.0, 1000.0, 100.0, 10000.0]\n",
       "Categories (5, float64): [0.0, 10.0, 100.0, 1000.0, 10000.0]"
      ]
     },
     "execution_count": 45,
     "metadata": {},
     "output_type": "execute_result"
    }
   ],
   "source": [
    "adata.obs[\"dose\"].unique()"
   ]
  },
  {
   "cell_type": "code",
   "execution_count": 69,
   "id": "3674bbbd-5765-415f-8fc2-911d44c1d30f",
   "metadata": {},
   "outputs": [],
   "source": [
    "pert_condition_without_dose = \"MCF7_CUDC-907_\"\n",
    "dfs_ground_truth = []\n",
    "for dose in adata.obs[\"dose\"].unique():\n",
    "    if dose == 0.0:\n",
    "        continue\n",
    "    pert_condition = pert_condition_without_dose + str(dose)\n",
    "    cols = pd.Index([gene+\"_true\" for gene in adata_train.var_names])\n",
    "    df = pd.DataFrame(data=adata_train[adata_train.obs[\"condition\"]==pert_condition].X.A, columns=cols)\n",
    "    df[\"dosage\"] = np.log10(dose)\n",
    "    df[\"mode\"] = \"true\"\n",
    "    dfs_ground_truth.append(df)\n",
    "    "
   ]
  },
  {
   "cell_type": "code",
   "execution_count": 70,
   "id": "c2f69798-db07-4dec-8333-da23b5df2c0d",
   "metadata": {},
   "outputs": [],
   "source": [
    "df_ground_truth = pd.concat(dfs_ground_truth)"
   ]
  },
  {
   "cell_type": "code",
   "execution_count": 71,
   "id": "f773aca5-2113-4d7c-b45a-e3021cac92ff",
   "metadata": {},
   "outputs": [],
   "source": [
    "df = pd.concat((df_ground_truth, df_preds))"
   ]
  },
  {
   "cell_type": "code",
   "execution_count": 77,
   "id": "5d873e32-bb45-48a4-b15f-42c46cfa8fb4",
   "metadata": {},
   "outputs": [
    {
     "data": {
      "text/html": [
       "<div>\n",
       "<style scoped>\n",
       "    .dataframe tbody tr th:only-of-type {\n",
       "        vertical-align: middle;\n",
       "    }\n",
       "\n",
       "    .dataframe tbody tr th {\n",
       "        vertical-align: top;\n",
       "    }\n",
       "\n",
       "    .dataframe thead th {\n",
       "        text-align: right;\n",
       "    }\n",
       "</style>\n",
       "<table border=\"1\" class=\"dataframe\">\n",
       "  <thead>\n",
       "    <tr style=\"text-align: right;\">\n",
       "      <th></th>\n",
       "      <th>CFH_true</th>\n",
       "      <th>GCLC_true</th>\n",
       "      <th>TFPI_true</th>\n",
       "      <th>SLC4A1_true</th>\n",
       "      <th>CALCR_true</th>\n",
       "      <th>THSD7A_true</th>\n",
       "      <th>ACSM3_true</th>\n",
       "      <th>PRKAR2B_true</th>\n",
       "      <th>TAC1_true</th>\n",
       "      <th>ETV1_true</th>\n",
       "      <th>...</th>\n",
       "      <th>MIR7114</th>\n",
       "      <th>MIR2110</th>\n",
       "      <th>MIR1304</th>\n",
       "      <th>OR8B3</th>\n",
       "      <th>AL354702.2</th>\n",
       "      <th>AL590434.1</th>\n",
       "      <th>AL049637.2</th>\n",
       "      <th>AC073869.10</th>\n",
       "      <th>AP001153.1</th>\n",
       "      <th>PDE11A-1</th>\n",
       "    </tr>\n",
       "  </thead>\n",
       "  <tbody>\n",
       "    <tr>\n",
       "      <th>0</th>\n",
       "      <td>0.0</td>\n",
       "      <td>0.0000</td>\n",
       "      <td>0.337939</td>\n",
       "      <td>0.0</td>\n",
       "      <td>0.337939</td>\n",
       "      <td>0.0</td>\n",
       "      <td>0.0</td>\n",
       "      <td>0.0</td>\n",
       "      <td>0.0</td>\n",
       "      <td>0.0</td>\n",
       "      <td>...</td>\n",
       "      <td>0.000000e+00</td>\n",
       "      <td>0.000000e+00</td>\n",
       "      <td>0.000000</td>\n",
       "      <td>0.000000</td>\n",
       "      <td>0.000000</td>\n",
       "      <td>0.000000</td>\n",
       "      <td>0.000000e+00</td>\n",
       "      <td>0.000000e+00</td>\n",
       "      <td>0.000000</td>\n",
       "      <td>0.000000</td>\n",
       "    </tr>\n",
       "    <tr>\n",
       "      <th>1</th>\n",
       "      <td>0.0</td>\n",
       "      <td>0.0000</td>\n",
       "      <td>0.000000</td>\n",
       "      <td>0.0</td>\n",
       "      <td>0.000000</td>\n",
       "      <td>0.0</td>\n",
       "      <td>0.0</td>\n",
       "      <td>0.0</td>\n",
       "      <td>0.0</td>\n",
       "      <td>0.0</td>\n",
       "      <td>...</td>\n",
       "      <td>0.000000e+00</td>\n",
       "      <td>0.000000e+00</td>\n",
       "      <td>0.000000</td>\n",
       "      <td>0.000000</td>\n",
       "      <td>0.000000</td>\n",
       "      <td>0.000000</td>\n",
       "      <td>0.000000e+00</td>\n",
       "      <td>0.000000e+00</td>\n",
       "      <td>0.000000</td>\n",
       "      <td>0.000000</td>\n",
       "    </tr>\n",
       "    <tr>\n",
       "      <th>2</th>\n",
       "      <td>0.0</td>\n",
       "      <td>0.0000</td>\n",
       "      <td>0.000000</td>\n",
       "      <td>0.0</td>\n",
       "      <td>0.000000</td>\n",
       "      <td>0.0</td>\n",
       "      <td>0.0</td>\n",
       "      <td>0.0</td>\n",
       "      <td>0.0</td>\n",
       "      <td>0.0</td>\n",
       "      <td>...</td>\n",
       "      <td>0.000000e+00</td>\n",
       "      <td>0.000000e+00</td>\n",
       "      <td>0.000000</td>\n",
       "      <td>0.000000</td>\n",
       "      <td>0.000000</td>\n",
       "      <td>0.000000</td>\n",
       "      <td>0.000000e+00</td>\n",
       "      <td>0.000000e+00</td>\n",
       "      <td>0.000000</td>\n",
       "      <td>0.000000</td>\n",
       "    </tr>\n",
       "    <tr>\n",
       "      <th>3</th>\n",
       "      <td>0.0</td>\n",
       "      <td>0.0000</td>\n",
       "      <td>0.224880</td>\n",
       "      <td>0.0</td>\n",
       "      <td>0.815747</td>\n",
       "      <td>0.0</td>\n",
       "      <td>0.0</td>\n",
       "      <td>0.0</td>\n",
       "      <td>0.0</td>\n",
       "      <td>0.0</td>\n",
       "      <td>...</td>\n",
       "      <td>0.000000e+00</td>\n",
       "      <td>0.000000e+00</td>\n",
       "      <td>0.000000</td>\n",
       "      <td>0.000000</td>\n",
       "      <td>0.000000</td>\n",
       "      <td>0.000000</td>\n",
       "      <td>0.000000e+00</td>\n",
       "      <td>0.000000e+00</td>\n",
       "      <td>0.000000</td>\n",
       "      <td>0.000000</td>\n",
       "    </tr>\n",
       "    <tr>\n",
       "      <th>4</th>\n",
       "      <td>0.0</td>\n",
       "      <td>0.1514</td>\n",
       "      <td>0.000000</td>\n",
       "      <td>0.0</td>\n",
       "      <td>0.683485</td>\n",
       "      <td>0.0</td>\n",
       "      <td>0.0</td>\n",
       "      <td>0.0</td>\n",
       "      <td>0.0</td>\n",
       "      <td>0.0</td>\n",
       "      <td>...</td>\n",
       "      <td>0.000000e+00</td>\n",
       "      <td>0.000000e+00</td>\n",
       "      <td>0.000000</td>\n",
       "      <td>0.000000</td>\n",
       "      <td>0.000000</td>\n",
       "      <td>0.000000</td>\n",
       "      <td>0.000000e+00</td>\n",
       "      <td>0.000000e+00</td>\n",
       "      <td>0.000000</td>\n",
       "      <td>0.000000</td>\n",
       "    </tr>\n",
       "    <tr>\n",
       "      <th>...</th>\n",
       "      <td>...</td>\n",
       "      <td>...</td>\n",
       "      <td>...</td>\n",
       "      <td>...</td>\n",
       "      <td>...</td>\n",
       "      <td>...</td>\n",
       "      <td>...</td>\n",
       "      <td>...</td>\n",
       "      <td>...</td>\n",
       "      <td>...</td>\n",
       "      <td>...</td>\n",
       "      <td>...</td>\n",
       "      <td>...</td>\n",
       "      <td>...</td>\n",
       "      <td>...</td>\n",
       "      <td>...</td>\n",
       "      <td>...</td>\n",
       "      <td>...</td>\n",
       "      <td>...</td>\n",
       "      <td>...</td>\n",
       "      <td>...</td>\n",
       "    </tr>\n",
       "    <tr>\n",
       "      <th>495</th>\n",
       "      <td>0.0</td>\n",
       "      <td>0.0000</td>\n",
       "      <td>0.000000</td>\n",
       "      <td>0.0</td>\n",
       "      <td>0.000000</td>\n",
       "      <td>0.0</td>\n",
       "      <td>0.0</td>\n",
       "      <td>0.0</td>\n",
       "      <td>0.0</td>\n",
       "      <td>0.0</td>\n",
       "      <td>...</td>\n",
       "      <td>-7.651306e-08</td>\n",
       "      <td>2.686144e-08</td>\n",
       "      <td>0.000004</td>\n",
       "      <td>0.000073</td>\n",
       "      <td>0.000257</td>\n",
       "      <td>0.000303</td>\n",
       "      <td>2.270493e-08</td>\n",
       "      <td>2.828588e-10</td>\n",
       "      <td>0.000004</td>\n",
       "      <td>0.000162</td>\n",
       "    </tr>\n",
       "    <tr>\n",
       "      <th>496</th>\n",
       "      <td>0.0</td>\n",
       "      <td>0.0000</td>\n",
       "      <td>0.000000</td>\n",
       "      <td>0.0</td>\n",
       "      <td>0.000000</td>\n",
       "      <td>0.0</td>\n",
       "      <td>0.0</td>\n",
       "      <td>0.0</td>\n",
       "      <td>0.0</td>\n",
       "      <td>0.0</td>\n",
       "      <td>...</td>\n",
       "      <td>3.563360e-07</td>\n",
       "      <td>-1.209708e-07</td>\n",
       "      <td>-0.000013</td>\n",
       "      <td>0.000111</td>\n",
       "      <td>-0.001793</td>\n",
       "      <td>0.000131</td>\n",
       "      <td>-1.081781e-07</td>\n",
       "      <td>-1.338090e-09</td>\n",
       "      <td>-0.000015</td>\n",
       "      <td>-0.000001</td>\n",
       "    </tr>\n",
       "    <tr>\n",
       "      <th>497</th>\n",
       "      <td>0.0</td>\n",
       "      <td>0.0000</td>\n",
       "      <td>0.000000</td>\n",
       "      <td>0.0</td>\n",
       "      <td>0.000000</td>\n",
       "      <td>0.0</td>\n",
       "      <td>0.0</td>\n",
       "      <td>0.0</td>\n",
       "      <td>0.0</td>\n",
       "      <td>0.0</td>\n",
       "      <td>...</td>\n",
       "      <td>1.747171e-07</td>\n",
       "      <td>-5.927610e-08</td>\n",
       "      <td>0.000025</td>\n",
       "      <td>0.000023</td>\n",
       "      <td>0.001438</td>\n",
       "      <td>0.000498</td>\n",
       "      <td>-5.346086e-08</td>\n",
       "      <td>-6.589077e-10</td>\n",
       "      <td>-0.000009</td>\n",
       "      <td>0.000057</td>\n",
       "    </tr>\n",
       "    <tr>\n",
       "      <th>498</th>\n",
       "      <td>0.0</td>\n",
       "      <td>0.0000</td>\n",
       "      <td>0.000000</td>\n",
       "      <td>0.0</td>\n",
       "      <td>0.000000</td>\n",
       "      <td>0.0</td>\n",
       "      <td>0.0</td>\n",
       "      <td>0.0</td>\n",
       "      <td>0.0</td>\n",
       "      <td>0.0</td>\n",
       "      <td>...</td>\n",
       "      <td>-4.304508e-09</td>\n",
       "      <td>1.853059e-09</td>\n",
       "      <td>0.000066</td>\n",
       "      <td>-0.000010</td>\n",
       "      <td>0.013662</td>\n",
       "      <td>0.000565</td>\n",
       "      <td>1.429063e-09</td>\n",
       "      <td>1.760218e-11</td>\n",
       "      <td>-0.000012</td>\n",
       "      <td>0.000240</td>\n",
       "    </tr>\n",
       "    <tr>\n",
       "      <th>499</th>\n",
       "      <td>0.0</td>\n",
       "      <td>0.0000</td>\n",
       "      <td>0.000000</td>\n",
       "      <td>0.0</td>\n",
       "      <td>0.000000</td>\n",
       "      <td>0.0</td>\n",
       "      <td>0.0</td>\n",
       "      <td>0.0</td>\n",
       "      <td>0.0</td>\n",
       "      <td>0.0</td>\n",
       "      <td>...</td>\n",
       "      <td>2.294432e-07</td>\n",
       "      <td>-7.773599e-08</td>\n",
       "      <td>-0.000030</td>\n",
       "      <td>0.000121</td>\n",
       "      <td>0.007796</td>\n",
       "      <td>0.000269</td>\n",
       "      <td>-6.944609e-08</td>\n",
       "      <td>-8.603492e-10</td>\n",
       "      <td>0.000008</td>\n",
       "      <td>0.000242</td>\n",
       "    </tr>\n",
       "  </tbody>\n",
       "</table>\n",
       "<p>5142 rows × 4006 columns</p>\n",
       "</div>"
      ],
      "text/plain": [
       "     CFH_true  GCLC_true  TFPI_true  SLC4A1_true  CALCR_true  THSD7A_true  \\\n",
       "0         0.0     0.0000   0.337939          0.0    0.337939          0.0   \n",
       "1         0.0     0.0000   0.000000          0.0    0.000000          0.0   \n",
       "2         0.0     0.0000   0.000000          0.0    0.000000          0.0   \n",
       "3         0.0     0.0000   0.224880          0.0    0.815747          0.0   \n",
       "4         0.0     0.1514   0.000000          0.0    0.683485          0.0   \n",
       "..        ...        ...        ...          ...         ...          ...   \n",
       "495       0.0     0.0000   0.000000          0.0    0.000000          0.0   \n",
       "496       0.0     0.0000   0.000000          0.0    0.000000          0.0   \n",
       "497       0.0     0.0000   0.000000          0.0    0.000000          0.0   \n",
       "498       0.0     0.0000   0.000000          0.0    0.000000          0.0   \n",
       "499       0.0     0.0000   0.000000          0.0    0.000000          0.0   \n",
       "\n",
       "     ACSM3_true  PRKAR2B_true  TAC1_true  ETV1_true  ...       MIR7114  \\\n",
       "0           0.0           0.0        0.0        0.0  ...  0.000000e+00   \n",
       "1           0.0           0.0        0.0        0.0  ...  0.000000e+00   \n",
       "2           0.0           0.0        0.0        0.0  ...  0.000000e+00   \n",
       "3           0.0           0.0        0.0        0.0  ...  0.000000e+00   \n",
       "4           0.0           0.0        0.0        0.0  ...  0.000000e+00   \n",
       "..          ...           ...        ...        ...  ...           ...   \n",
       "495         0.0           0.0        0.0        0.0  ... -7.651306e-08   \n",
       "496         0.0           0.0        0.0        0.0  ...  3.563360e-07   \n",
       "497         0.0           0.0        0.0        0.0  ...  1.747171e-07   \n",
       "498         0.0           0.0        0.0        0.0  ... -4.304508e-09   \n",
       "499         0.0           0.0        0.0        0.0  ...  2.294432e-07   \n",
       "\n",
       "          MIR2110   MIR1304     OR8B3  AL354702.2  AL590434.1    AL049637.2  \\\n",
       "0    0.000000e+00  0.000000  0.000000    0.000000    0.000000  0.000000e+00   \n",
       "1    0.000000e+00  0.000000  0.000000    0.000000    0.000000  0.000000e+00   \n",
       "2    0.000000e+00  0.000000  0.000000    0.000000    0.000000  0.000000e+00   \n",
       "3    0.000000e+00  0.000000  0.000000    0.000000    0.000000  0.000000e+00   \n",
       "4    0.000000e+00  0.000000  0.000000    0.000000    0.000000  0.000000e+00   \n",
       "..            ...       ...       ...         ...         ...           ...   \n",
       "495  2.686144e-08  0.000004  0.000073    0.000257    0.000303  2.270493e-08   \n",
       "496 -1.209708e-07 -0.000013  0.000111   -0.001793    0.000131 -1.081781e-07   \n",
       "497 -5.927610e-08  0.000025  0.000023    0.001438    0.000498 -5.346086e-08   \n",
       "498  1.853059e-09  0.000066 -0.000010    0.013662    0.000565  1.429063e-09   \n",
       "499 -7.773599e-08 -0.000030  0.000121    0.007796    0.000269 -6.944609e-08   \n",
       "\n",
       "      AC073869.10  AP001153.1  PDE11A-1  \n",
       "0    0.000000e+00    0.000000  0.000000  \n",
       "1    0.000000e+00    0.000000  0.000000  \n",
       "2    0.000000e+00    0.000000  0.000000  \n",
       "3    0.000000e+00    0.000000  0.000000  \n",
       "4    0.000000e+00    0.000000  0.000000  \n",
       "..            ...         ...       ...  \n",
       "495  2.828588e-10    0.000004  0.000162  \n",
       "496 -1.338090e-09   -0.000015 -0.000001  \n",
       "497 -6.589077e-10   -0.000009  0.000057  \n",
       "498  1.760218e-11   -0.000012  0.000240  \n",
       "499 -8.603492e-10    0.000008  0.000242  \n",
       "\n",
       "[5142 rows x 4006 columns]"
      ]
     },
     "execution_count": 77,
     "metadata": {},
     "output_type": "execute_result"
    }
   ],
   "source": [
    "df"
   ]
  },
  {
   "cell_type": "code",
   "execution_count": 75,
   "id": "75d0ce9d-d6e6-4dda-9e77-efc038cd4788",
   "metadata": {},
   "outputs": [],
   "source": [
    "df = df.fillna(0)"
   ]
  },
  {
   "cell_type": "code",
   "execution_count": null,
   "id": "2afc7979-d168-424e-a132-7955201fd7a6",
   "metadata": {},
   "outputs": [],
   "source": []
  },
  {
   "cell_type": "code",
   "execution_count": 78,
   "id": "8da66332-c85c-4f1d-827e-3bfc4ea5f4c4",
   "metadata": {},
   "outputs": [
    {
     "data": {
      "image/png": "[encoded data removed]",
      "text/plain": [
       "<Figure size 600x400 with 9 Axes>"
      ]
     },
     "metadata": {},
     "output_type": "display_data"
    }
   ],
   "source": [
    "fig, axes = joypy.joyplot(\n",
    "    df[[gene1, gene1+\"_true\", \"dosage\"]],\n",
    "    by='dosage',\n",
    "    #color=[palette[dataset] for dataset in datasets],\n",
    "    alpha=0.75,\n",
    "    #labels=datasets,\n",
    "    #x_range=[0, 18],\n",
    "    figsize=(6, 4),\n",
    "    grid='both'\n",
    ")"
   ]
  },
  {
   "cell_type": "code",
   "execution_count": 81,
   "id": "107db2b5-7d51-4c0c-8ec5-481fb7009a4c",
   "metadata": {},
   "outputs": [
    {
     "data": {
      "text/plain": [
       "dosage\n",
       "1.0    370\n",
       "2.0    322\n",
       "3.0    268\n",
       "4.0    182\n",
       "Name: count, dtype: int64"
      ]
     },
     "execution_count": 81,
     "metadata": {},
     "output_type": "execute_result"
    }
   ],
   "source": [
    "df_ground_truth.dosage.value_counts()"
   ]
  },
  {
   "cell_type": "code",
   "execution_count": 68,
   "id": "1b47d532-f510-4840-8f63-dd4e0807d9e5",
   "metadata": {},
   "outputs": [
    {
     "data": {
      "image/png": "[encoded data removed]",
      "text/plain": [
       "<Figure size 600x400 with 9 Axes>"
      ]
     },
     "metadata": {},
     "output_type": "display_data"
    }
   ],
   "source": [
    "import joypy\n",
    "import pandas as pd\n",
    "import matplotlib.pyplot as plt\n",
    "\n",
    "\n",
    "\n",
    "# Define a color palette\n",
    "palette = {\n",
    "    'true': 'blue',\n",
    "    'predicted': 'green'\n",
    "}\n",
    "\n",
    "# Create a color list based on the \"mode\" column\n",
    "colors = df['mode'].map(palette)\n",
    "\n",
    "# Plot using joypy.joyplot\n",
    "fig, axes = joypy.joyplot(\n",
    "    df[[gene1, gene2, \"dosage\"]],\n",
    "    by='dosage',\n",
    "    column=gene1,\n",
    "    alpha=0.75,\n",
    "    figsize=(6, 4),\n",
    "    grid='both'\n",
    ")\n",
    "\n",
    "# Add legend to indicate which color corresponds to which mode\n",
    "for mode, color in palette.items():\n",
    "    plt.plot([], [], color=color, label=mode)\n",
    "plt.legend(title=\"Mode\")\n",
    "\n",
    "plt.show()\n"
   ]
  },
  {
   "cell_type": "code",
   "execution_count": 83,
   "id": "a19d95f4-77bb-479b-a29c-d81981428fe3",
   "metadata": {},
   "outputs": [
    {
     "ename": "ValueError",
     "evalue": "The 'color' keyword argument must have one color per dataset, but 1 datasets and 8 colors were provided",
     "output_type": "error",
     "traceback": [
      "\u001b[0;31m---------------------------------------------------------------------------\u001b[0m",
      "\u001b[0;31mValueError\u001b[0m                                Traceback (most recent call last)",
      "Cell \u001b[0;32mIn[83], line 27\u001b[0m\n\u001b[1;32m     24\u001b[0m colors \u001b[38;5;241m=\u001b[39m df_dosage[\u001b[38;5;124m'\u001b[39m\u001b[38;5;124mmode\u001b[39m\u001b[38;5;124m'\u001b[39m]\u001b[38;5;241m.\u001b[39mmap(palette)\u001b[38;5;241m.\u001b[39mtolist()\n\u001b[1;32m     26\u001b[0m \u001b[38;5;66;03m# Plot using joypy.joyplot\u001b[39;00m\n\u001b[0;32m---> 27\u001b[0m fig, axes \u001b[38;5;241m=\u001b[39m joypy\u001b[38;5;241m.\u001b[39mjoyplot(\n\u001b[1;32m     28\u001b[0m     data\u001b[38;5;241m=\u001b[39mdf_dosage,\n\u001b[1;32m     29\u001b[0m     by\u001b[38;5;241m=\u001b[39m\u001b[38;5;124m'\u001b[39m\u001b[38;5;124mmode\u001b[39m\u001b[38;5;124m'\u001b[39m,\n\u001b[1;32m     30\u001b[0m     column\u001b[38;5;241m=\u001b[39m\u001b[38;5;124m'\u001b[39m\u001b[38;5;124mdosage\u001b[39m\u001b[38;5;124m'\u001b[39m,\n\u001b[1;32m     31\u001b[0m     color\u001b[38;5;241m=\u001b[39mcolors,\n\u001b[1;32m     32\u001b[0m     alpha\u001b[38;5;241m=\u001b[39m\u001b[38;5;241m0.75\u001b[39m,\n\u001b[1;32m     33\u001b[0m     figsize\u001b[38;5;241m=\u001b[39m(\u001b[38;5;241m6\u001b[39m, \u001b[38;5;241m4\u001b[39m),\n\u001b[1;32m     34\u001b[0m     grid\u001b[38;5;241m=\u001b[39m\u001b[38;5;124m'\u001b[39m\u001b[38;5;124mboth\u001b[39m\u001b[38;5;124m'\u001b[39m,\n\u001b[1;32m     35\u001b[0m     hist\u001b[38;5;241m=\u001b[39m\u001b[38;5;28;01mTrue\u001b[39;00m\n\u001b[1;32m     36\u001b[0m )\n\u001b[1;32m     38\u001b[0m \u001b[38;5;66;03m# Add legend to indicate which color corresponds to which mode\u001b[39;00m\n\u001b[1;32m     39\u001b[0m \u001b[38;5;28;01mfor\u001b[39;00m mode, color \u001b[38;5;129;01min\u001b[39;00m palette\u001b[38;5;241m.\u001b[39mitems():\n",
      "File \u001b[0;32m~/mambaforge/envs/ot_pert_genot/lib/python3.12/site-packages/joypy/joyplot.py:241\u001b[0m, in \u001b[0;36mjoyplot\u001b[0;34m(data, column, by, grid, xlabelsize, xrot, ylabelsize, yrot, ax, figsize, hist, bins, fade, ylim, fill, linecolor, overlap, background, labels, xlabels, ylabels, range_style, x_range, title, colormap, color, normalize, floc, **kwds)\u001b[0m\n\u001b[1;32m    237\u001b[0m \u001b[38;5;28;01mif\u001b[39;00m \u001b[38;5;28many\u001b[39m(\u001b[38;5;28mlen\u001b[39m(subg)\u001b[38;5;241m==\u001b[39m\u001b[38;5;241m0\u001b[39m \u001b[38;5;28;01mfor\u001b[39;00m g \u001b[38;5;129;01min\u001b[39;00m converted \u001b[38;5;28;01mfor\u001b[39;00m subg \u001b[38;5;129;01min\u001b[39;00m g):\n\u001b[1;32m    238\u001b[0m     warn(\u001b[38;5;124m\"\u001b[39m\u001b[38;5;124mAt least a column/group has no numeric values.\u001b[39m\u001b[38;5;124m\"\u001b[39m)\n\u001b[0;32m--> 241\u001b[0m \u001b[38;5;28;01mreturn\u001b[39;00m _joyplot(converted, labels\u001b[38;5;241m=\u001b[39mlabels, sublabels\u001b[38;5;241m=\u001b[39msublabels,\n\u001b[1;32m    242\u001b[0m                 grid\u001b[38;5;241m=\u001b[39mgrid,\n\u001b[1;32m    243\u001b[0m                 xlabelsize\u001b[38;5;241m=\u001b[39mxlabelsize, xrot\u001b[38;5;241m=\u001b[39mxrot, ylabelsize\u001b[38;5;241m=\u001b[39mylabelsize, yrot\u001b[38;5;241m=\u001b[39myrot,\n\u001b[1;32m    244\u001b[0m                 ax\u001b[38;5;241m=\u001b[39max, figsize\u001b[38;5;241m=\u001b[39mfigsize,\n\u001b[1;32m    245\u001b[0m                 hist\u001b[38;5;241m=\u001b[39mhist, bins\u001b[38;5;241m=\u001b[39mbins,\n\u001b[1;32m    246\u001b[0m                 fade\u001b[38;5;241m=\u001b[39mfade, ylim\u001b[38;5;241m=\u001b[39mylim,\n\u001b[1;32m    247\u001b[0m                 fill\u001b[38;5;241m=\u001b[39mfill, linecolor\u001b[38;5;241m=\u001b[39mlinecolor,\n\u001b[1;32m    248\u001b[0m                 overlap\u001b[38;5;241m=\u001b[39moverlap, background\u001b[38;5;241m=\u001b[39mbackground,\n\u001b[1;32m    249\u001b[0m                 xlabels\u001b[38;5;241m=\u001b[39mxlabels,\n\u001b[1;32m    250\u001b[0m                 range_style\u001b[38;5;241m=\u001b[39mrange_style, x_range\u001b[38;5;241m=\u001b[39mx_range,\n\u001b[1;32m    251\u001b[0m                 title\u001b[38;5;241m=\u001b[39mtitle,\n\u001b[1;32m    252\u001b[0m                 colormap\u001b[38;5;241m=\u001b[39mcolormap,\n\u001b[1;32m    253\u001b[0m                 color\u001b[38;5;241m=\u001b[39mcolor,\n\u001b[1;32m    254\u001b[0m                 normalize\u001b[38;5;241m=\u001b[39mnormalize,\n\u001b[1;32m    255\u001b[0m                 floc\u001b[38;5;241m=\u001b[39mfloc,\n\u001b[1;32m    256\u001b[0m                 \u001b[38;5;241m*\u001b[39m\u001b[38;5;241m*\u001b[39mkwds)\n",
      "File \u001b[0;32m~/mambaforge/envs/ot_pert_genot/lib/python3.12/site-packages/joypy/joyplot.py:467\u001b[0m, in \u001b[0;36m_joyplot\u001b[0;34m(data, grid, labels, sublabels, xlabels, xlabelsize, xrot, ylabelsize, yrot, ax, figsize, hist, bins, fade, xlim, ylim, fill, linecolor, overlap, background, range_style, x_range, tails, title, legend, loc, colormap, color, normalize, floc, **kwargs)\u001b[0m\n\u001b[1;32m    463\u001b[0m num_subgroups \u001b[38;5;241m=\u001b[39m \u001b[38;5;28mlen\u001b[39m(group)\n\u001b[1;32m    465\u001b[0m \u001b[38;5;28;01mif\u001b[39;00m hist:\n\u001b[1;32m    466\u001b[0m     \u001b[38;5;66;03m# matplotlib hist() already handles multiple subgroups in a histogram\u001b[39;00m\n\u001b[0;32m--> 467\u001b[0m     a\u001b[38;5;241m.\u001b[39mhist(group, label\u001b[38;5;241m=\u001b[39msublabels, bins\u001b[38;5;241m=\u001b[39mbins, color\u001b[38;5;241m=\u001b[39mcolor,\n\u001b[1;32m    468\u001b[0m            \u001b[38;5;28mrange\u001b[39m\u001b[38;5;241m=\u001b[39m[\u001b[38;5;28mmin\u001b[39m(global_x_range), \u001b[38;5;28mmax\u001b[39m(global_x_range)],\n\u001b[1;32m    469\u001b[0m            edgecolor\u001b[38;5;241m=\u001b[39mlinecolor, zorder\u001b[38;5;241m=\u001b[39mgroup_zorder, \u001b[38;5;241m*\u001b[39m\u001b[38;5;241m*\u001b[39mkwargs)\n\u001b[1;32m    470\u001b[0m \u001b[38;5;28;01melse\u001b[39;00m:\n\u001b[1;32m    471\u001b[0m     \u001b[38;5;28;01mfor\u001b[39;00m j, subgroup \u001b[38;5;129;01min\u001b[39;00m \u001b[38;5;28menumerate\u001b[39m(group):\n\u001b[1;32m    472\u001b[0m \n\u001b[1;32m    473\u001b[0m         \u001b[38;5;66;03m# Compute the x_range of the current plot\u001b[39;00m\n",
      "File \u001b[0;32m~/mambaforge/envs/ot_pert_genot/lib/python3.12/site-packages/matplotlib/__init__.py:1465\u001b[0m, in \u001b[0;36m_preprocess_data.<locals>.inner\u001b[0;34m(ax, data, *args, **kwargs)\u001b[0m\n\u001b[1;32m   1462\u001b[0m \u001b[38;5;129m@functools\u001b[39m\u001b[38;5;241m.\u001b[39mwraps(func)\n\u001b[1;32m   1463\u001b[0m \u001b[38;5;28;01mdef\u001b[39;00m \u001b[38;5;21minner\u001b[39m(ax, \u001b[38;5;241m*\u001b[39margs, data\u001b[38;5;241m=\u001b[39m\u001b[38;5;28;01mNone\u001b[39;00m, \u001b[38;5;241m*\u001b[39m\u001b[38;5;241m*\u001b[39mkwargs):\n\u001b[1;32m   1464\u001b[0m     \u001b[38;5;28;01mif\u001b[39;00m data \u001b[38;5;129;01mis\u001b[39;00m \u001b[38;5;28;01mNone\u001b[39;00m:\n\u001b[0;32m-> 1465\u001b[0m         \u001b[38;5;28;01mreturn\u001b[39;00m func(ax, \u001b[38;5;241m*\u001b[39m\u001b[38;5;28mmap\u001b[39m(sanitize_sequence, args), \u001b[38;5;241m*\u001b[39m\u001b[38;5;241m*\u001b[39mkwargs)\n\u001b[1;32m   1467\u001b[0m     bound \u001b[38;5;241m=\u001b[39m new_sig\u001b[38;5;241m.\u001b[39mbind(ax, \u001b[38;5;241m*\u001b[39margs, \u001b[38;5;241m*\u001b[39m\u001b[38;5;241m*\u001b[39mkwargs)\n\u001b[1;32m   1468\u001b[0m     auto_label \u001b[38;5;241m=\u001b[39m (bound\u001b[38;5;241m.\u001b[39marguments\u001b[38;5;241m.\u001b[39mget(label_namer)\n\u001b[1;32m   1469\u001b[0m                   \u001b[38;5;129;01mor\u001b[39;00m bound\u001b[38;5;241m.\u001b[39mkwargs\u001b[38;5;241m.\u001b[39mget(label_namer))\n",
      "File \u001b[0;32m~/mambaforge/envs/ot_pert_genot/lib/python3.12/site-packages/matplotlib/axes/_axes.py:6818\u001b[0m, in \u001b[0;36mAxes.hist\u001b[0;34m(self, x, bins, range, density, weights, cumulative, bottom, histtype, align, orientation, rwidth, log, color, label, stacked, **kwargs)\u001b[0m\n\u001b[1;32m   6816\u001b[0m     colors \u001b[38;5;241m=\u001b[39m mcolors\u001b[38;5;241m.\u001b[39mto_rgba_array(color)\n\u001b[1;32m   6817\u001b[0m     \u001b[38;5;28;01mif\u001b[39;00m \u001b[38;5;28mlen\u001b[39m(colors) \u001b[38;5;241m!=\u001b[39m nx:\n\u001b[0;32m-> 6818\u001b[0m         \u001b[38;5;28;01mraise\u001b[39;00m \u001b[38;5;167;01mValueError\u001b[39;00m(\u001b[38;5;124mf\u001b[39m\u001b[38;5;124m\"\u001b[39m\u001b[38;5;124mThe \u001b[39m\u001b[38;5;124m'\u001b[39m\u001b[38;5;124mcolor\u001b[39m\u001b[38;5;124m'\u001b[39m\u001b[38;5;124m keyword argument must have one \u001b[39m\u001b[38;5;124m\"\u001b[39m\n\u001b[1;32m   6819\u001b[0m                          \u001b[38;5;124mf\u001b[39m\u001b[38;5;124m\"\u001b[39m\u001b[38;5;124mcolor per dataset, but \u001b[39m\u001b[38;5;132;01m{\u001b[39;00mnx\u001b[38;5;132;01m}\u001b[39;00m\u001b[38;5;124m datasets and \u001b[39m\u001b[38;5;124m\"\u001b[39m\n\u001b[1;32m   6820\u001b[0m                          \u001b[38;5;124mf\u001b[39m\u001b[38;5;124m\"\u001b[39m\u001b[38;5;132;01m{\u001b[39;00m\u001b[38;5;28mlen\u001b[39m(colors)\u001b[38;5;132;01m}\u001b[39;00m\u001b[38;5;124m colors were provided\u001b[39m\u001b[38;5;124m\"\u001b[39m)\n\u001b[1;32m   6822\u001b[0m hist_kwargs \u001b[38;5;241m=\u001b[39m \u001b[38;5;28mdict\u001b[39m()\n\u001b[1;32m   6824\u001b[0m \u001b[38;5;66;03m# if the bin_range is not given, compute without nan numpy\u001b[39;00m\n\u001b[1;32m   6825\u001b[0m \u001b[38;5;66;03m# does not do this for us when guessing the range (but will\u001b[39;00m\n\u001b[1;32m   6826\u001b[0m \u001b[38;5;66;03m# happily ignore nans when computing the histogram).\u001b[39;00m\n",
      "\u001b[0;31mValueError\u001b[0m: The 'color' keyword argument must have one color per dataset, but 1 datasets and 8 colors were provided"
     ]
    },
    {
     "data": {
      "image/png": "[encoded data removed]",
      "text/plain": [
       "<Figure size 600x400 with 2 Axes>"
      ]
     },
     "metadata": {},
     "output_type": "display_data"
    }
   ],
   "source": [
    "import joypy\n",
    "import pandas as pd\n",
    "import matplotlib.pyplot as plt\n",
    "\n",
    "# Example data setup with different lengths and subset conditions\n",
    "data = {\n",
    "    'gene1': [1, 2, 3, 4, 5, 6, 7, 8, 9, 10],\n",
    "    'dosage': [0.1, 0.2, 0.3, 0.4, None, 0.6, 0.7, 0.8, 0.9, 1.0],\n",
    "    'mode': ['A', 'B', 'A', 'B', 'A', 'B', 'A', 'B', 'A', None]\n",
    "}\n",
    "df = pd.DataFrame(data)\n",
    "\n",
    "# Drop rows with NaN values in the relevant columns for the subset\n",
    "df_gene1 = df[['gene1', 'dosage', 'mode']].dropna(subset=['gene1', 'dosage'])\n",
    "df_dosage = df[['dosage', 'mode']].dropna(subset=['dosage', 'mode'])\n",
    "\n",
    "# Define a color palette\n",
    "palette = {\n",
    "    'A': 'blue',\n",
    "    'B': 'green'\n",
    "}\n",
    "\n",
    "# Create a color list based on the \"mode\" column for df_dosage\n",
    "colors = df_dosage['mode'].map(palette).tolist()\n",
    "\n",
    "# Plot using joypy.joyplot\n",
    "fig, axes = joypy.joyplot(\n",
    "    data=df_dosage,\n",
    "    by='mode',\n",
    "    column='dosage',\n",
    "    color=colors,\n",
    "    alpha=0.75,\n",
    "    figsize=(6, 4),\n",
    "    grid='both',\n",
    "    hist=True\n",
    ")\n",
    "\n",
    "# Add legend to indicate which color corresponds to which mode\n",
    "for mode, color in palette.items():\n",
    "    plt.plot([], [], color=color, label=mode)\n",
    "plt.legend(title=\"Mode\")\n",
    "\n",
    "plt.show()\n"
   ]
  },
  {
   "cell_type": "code",
   "execution_count": null,
   "id": "9c5912e8-651d-4741-8873-3a4c5c7470c2",
   "metadata": {},
   "outputs": [],
   "source": []
  }
 ],
 "metadata": {
  "kernelspec": {
   "display_name": "ot_pert_genot",
   "language": "python",
   "name": "ot_pert_genot"
  },
  "language_info": {
   "codemirror_mode": {
    "name": "ipython",
    "version": 3
   },
   "file_extension": ".py",
   "mimetype": "text/x-python",
   "name": "python",
   "nbconvert_exporter": "python",
   "pygments_lexer": "ipython3",
   "version": "3.12.2"
  }
 },
 "nbformat": 4,
 "nbformat_minor": 5
}
