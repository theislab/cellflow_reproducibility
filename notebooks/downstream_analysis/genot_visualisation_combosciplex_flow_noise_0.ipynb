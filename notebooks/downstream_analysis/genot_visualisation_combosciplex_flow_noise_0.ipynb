{
 "cells": [
  {
   "cell_type": "code",
   "execution_count": 2,
   "id": "b932fe8a-c6da-4e99-90e3-4723b36a7652",
   "metadata": {},
   "outputs": [],
   "source": [
    "import functools\n",
    "from typing import Literal, Optional, Iterable\n",
    "\n",
    "import jax\n",
    "import jax.numpy as jnp\n",
    "import jax.tree_util as jtu\n",
    "import numpy as np\n",
    "import optax\n",
    "import scanpy as sc\n",
    "from ott.neural import datasets\n",
    "from ott.neural.methods.flows import dynamics, otfm, genot\n",
    "from ott.neural.networks.layers import time_encoder\n",
    "from ott.neural.networks.velocity_field import VelocityField\n",
    "from ott.solvers import utils as solver_utils\n",
    "from torch.utils.data import DataLoader\n",
    "from tqdm import tqdm\n",
    "import joypy\n",
    "import pandas as pd\n",
    "from ot_pert.nets.nets import GENOTVelocityFieldWithAttention\n",
    "import pickle"
   ]
  },
  {
   "cell_type": "code",
   "execution_count": 3,
   "id": "aad561e0-4ff6-416b-bf35-2c19a2fa873f",
   "metadata": {},
   "outputs": [],
   "source": [
    "def reconstruct_data(embedding: np.ndarray, projection_matrix: np.ndarray, mean_to_add: np.ndarray) -> np.ndarray:\n",
    "    return np.matmul(embedding, projection_matrix.T) + mean_to_add"
   ]
  },
  {
   "cell_type": "code",
   "execution_count": 4,
   "id": "b870af0e-daec-4b4c-ae0e-dc7db5cc1842",
   "metadata": {},
   "outputs": [],
   "source": [
    "adata_train_path = \"/lustre/groups/ml01/workspace/ot_perturbation/data/combosciplex/adata_train_300.h5ad\"\n",
    "adata_test_path = \"/lustre/groups/ml01/workspace/ot_perturbation/data/combosciplex/adata_test_300.h5ad\"\n",
    "adata_ood_path = \"/lustre/groups/ml01/workspace/ot_perturbation/data/combosciplex/adata_ood_300.h5ad\""
   ]
  },
  {
   "cell_type": "code",
   "execution_count": 5,
   "id": "4798ed65-06bc-48ef-ae37-b86f86d0b5ef",
   "metadata": {},
   "outputs": [
    {
     "name": "stderr",
     "output_type": "stream",
     "text": [
      "/home/icb/dominik.klein/mambaforge/envs/ot_pert_genot/lib/python3.12/site-packages/anndata/__init__.py:51: FutureWarning: `anndata.read` is deprecated, use `anndata.read_h5ad` instead. `ad.read` will be removed in mid 2024.\n",
      "  warnings.warn(\n",
      "/home/icb/dominik.klein/mambaforge/envs/ot_pert_genot/lib/python3.12/site-packages/anndata/__init__.py:51: FutureWarning: `anndata.read` is deprecated, use `anndata.read_h5ad` instead. `ad.read` will be removed in mid 2024.\n",
      "  warnings.warn(\n",
      "/home/icb/dominik.klein/mambaforge/envs/ot_pert_genot/lib/python3.12/site-packages/anndata/__init__.py:51: FutureWarning: `anndata.read` is deprecated, use `anndata.read_h5ad` instead. `ad.read` will be removed in mid 2024.\n",
      "  warnings.warn(\n"
     ]
    }
   ],
   "source": [
    "adata_train = sc.read(adata_train_path)\n",
    "adata_ood = sc.read(adata_ood_path)\n",
    "adata_test = sc.read(adata_test_path)"
   ]
  },
  {
   "cell_type": "code",
   "execution_count": 6,
   "id": "0947ce23-922f-4cbd-aa25-6fb4237a0349",
   "metadata": {},
   "outputs": [],
   "source": [
    "yaml_config = \"\"\"\n",
    "num_heads: 2\n",
    "qkv_feature_dim: 64\n",
    "max_seq_length: 2\n",
    "hidden_dims: [4096, 4096, 4096, 4096]\n",
    "output_dims: [1024, 1024, 1024, 1024]\n",
    "condition_dims: [1024, 1024, 1024]\n",
    "condition_dims_forward: [4096, 4096, 4096]\n",
    "condition_dims_post_attention: [512, 512, 512]\n",
    "time_dims: [512, 512, 512]\n",
    "time_n_freqs: 1024\n",
    "flow_noise: 1.0\n",
    "learning_rate: 0.00005\n",
    "multi_steps: 20\n",
    "epsilon: 0.1\n",
    "tau_a: 0.999\n",
    "tau_b: 0.999\n",
    "dropout_rate: 0.0\n",
    "\"\"\"\n"
   ]
  },
  {
   "cell_type": "code",
   "execution_count": 7,
   "id": "332558c0-fbe8-4f71-86e4-89f0d12880ae",
   "metadata": {},
   "outputs": [],
   "source": [
    "import yaml\n",
    "model_config = yaml.safe_load(yaml_config)\n"
   ]
  },
  {
   "cell_type": "code",
   "execution_count": 8,
   "id": "27130588-af3b-4044-a92d-3f09fd08defd",
   "metadata": {},
   "outputs": [],
   "source": [
    "source_dim = 300\n",
    "target_dim = 300\n",
    "condition_dim = 1024"
   ]
  },
  {
   "cell_type": "code",
   "execution_count": 9,
   "id": "16bbd042-6858-47e5-ad62-5dfd08d3c8bf",
   "metadata": {},
   "outputs": [
    {
     "name": "stderr",
     "output_type": "stream",
     "text": [
      "2024-06-10 14:50:54.160856: W external/xla/xla/service/gpu/nvptx_compiler.cc:718] The NVIDIA driver's CUDA version is 12.3 which is older than the ptxas CUDA version (12.4.131). Because the driver is older than the ptxas version, XLA is disabling parallel compilation, which may slow down compilation. You should update your NVIDIA driver or use the NVIDIA-provided CUDA forward compatibility packages.\n"
     ]
    }
   ],
   "source": [
    "vf = GENOTVelocityFieldWithAttention(\n",
    "        split_dim=source_dim,\n",
    "        num_heads=model_config[\"num_heads\"],\n",
    "        qkv_feature_dim=model_config[\"qkv_feature_dim\"],\n",
    "        max_seq_length=model_config[\"max_seq_length\"],\n",
    "        hidden_dims=model_config[\"hidden_dims\"],\n",
    "        time_dims=model_config[\"time_dims\"],\n",
    "        output_dims=model_config[\"output_dims\"] + [target_dim],\n",
    "        condition_dims=model_config[\"condition_dims\"],\n",
    "        condition_dims_forward=model_config[\"condition_dims_forward\"],\n",
    "        condition_dims_post_attention=model_config[\"condition_dims_post_attention\"],\n",
    "        dropout_rate=model_config[\"dropout_rate\"],\n",
    "        time_encoder=functools.partial(time_encoder.cyclical_time_encoder, n_freqs=model_config[\"time_n_freqs\"]),\n",
    "    )\n",
    "\n",
    "\n",
    "model = genot.GENOT(\n",
    "        vf,\n",
    "        flow=dynamics.ConstantNoiseFlow(model_config[\"flow_noise\"]),\n",
    "        data_match_fn=None,\n",
    "        source_dim=source_dim,\n",
    "        target_dim=target_dim,\n",
    "        condition_dim=condition_dim,\n",
    "        rng=jax.random.PRNGKey(13),\n",
    "        optimizer=optax.MultiSteps(optax.adam(model_config[\"learning_rate\"]), model_config[\"multi_steps\"]),\n",
    "    )\n"
   ]
  },
  {
   "cell_type": "code",
   "execution_count": 10,
   "id": "16dda65c-983f-4b6d-b621-ea289660498c",
   "metadata": {},
   "outputs": [
    {
     "data": {
      "text/plain": [
       "True"
      ]
     },
     "execution_count": 10,
     "metadata": {},
     "output_type": "execute_result"
    }
   ],
   "source": [
    "load_path = f\"/lustre/groups/ml01/workspace/ot_perturbation/models/genot/combosciplex/zesty-mountain-390_model.pkl\"\n",
    "\n",
    "# Open the file containing the saved parameters\n",
    "with open(load_path, 'rb') as f:\n",
    "    loaded_params = pickle.load(f)\n",
    "\n",
    "check_load = jax.tree_util.tree_map(lambda x,y: x.shape==y.shape, model.vf_state.params, loaded_params)\n",
    "def all_values_true(d):\n",
    "    if isinstance(d, dict):\n",
    "        return all(all_values_true(v) for v in d.values())\n",
    "    return d is True\n",
    "all_values_true(check_load)"
   ]
  },
  {
   "cell_type": "code",
   "execution_count": 11,
   "id": "04c1ea6a-0b89-4968-9aa7-4300446ab512",
   "metadata": {},
   "outputs": [
    {
     "data": {
      "text/plain": [
       "{'Dense_0': {'bias': True, 'kernel': True},\n",
       " 'Dense_1': {'bias': True, 'kernel': True},\n",
       " 'Dense_10': {'bias': True, 'kernel': True},\n",
       " 'Dense_11': {'bias': True, 'kernel': True},\n",
       " 'Dense_12': {'bias': True, 'kernel': True},\n",
       " 'Dense_13': {'bias': True, 'kernel': True},\n",
       " 'Dense_14': {'bias': True, 'kernel': True},\n",
       " 'Dense_15': {'bias': True, 'kernel': True},\n",
       " 'Dense_16': {'bias': True, 'kernel': True},\n",
       " 'Dense_17': {'bias': True, 'kernel': True},\n",
       " 'Dense_18': {'bias': True, 'kernel': True},\n",
       " 'Dense_19': {'bias': True, 'kernel': True},\n",
       " 'Dense_2': {'bias': True, 'kernel': True},\n",
       " 'Dense_20': {'bias': True, 'kernel': True},\n",
       " 'Dense_3': {'bias': True, 'kernel': True},\n",
       " 'Dense_4': {'bias': True, 'kernel': True},\n",
       " 'Dense_5': {'bias': True, 'kernel': True},\n",
       " 'Dense_6': {'bias': True, 'kernel': True},\n",
       " 'Dense_7': {'bias': True, 'kernel': True},\n",
       " 'Dense_8': {'bias': True, 'kernel': True},\n",
       " 'Dense_9': {'bias': True, 'kernel': True},\n",
       " 'Embed_0': {'embedding': True},\n",
       " 'MultiHeadDotProductAttention_0': {'key': {'bias': True, 'kernel': True},\n",
       "  'out': {'bias': True, 'kernel': True},\n",
       "  'query': {'bias': True, 'kernel': True},\n",
       "  'value': {'bias': True, 'kernel': True}}}"
      ]
     },
     "execution_count": 11,
     "metadata": {},
     "output_type": "execute_result"
    }
   ],
   "source": [
    "check_load"
   ]
  },
  {
   "cell_type": "code",
   "execution_count": 12,
   "id": "cfca2a7e-5232-4027-a488-6c083fa7bb78",
   "metadata": {},
   "outputs": [],
   "source": [
    "from flax.core.frozen_dict import FrozenDict\n",
    "new_params = FrozenDict(loaded_params)\n",
    "\n",
    "if hasattr(model.vf_state, 'replace'):\n",
    "    model.vf_state = model.vf_state.replace(params=new_params)\n",
    "else:\n",
    "    raise ValueError"
   ]
  },
  {
   "cell_type": "code",
   "execution_count": 13,
   "id": "cb2d9c0e-914c-46b0-8bfc-b376ef04d707",
   "metadata": {},
   "outputs": [],
   "source": [
    "OBSM_KEY_COND_1 = \"ecfp_drug_1\"\n",
    "OBSM_KEY_COND_2 = \"ecfp_drug_2\"\n",
    "OBSM_KEY_DATA = \"X_pca\""
   ]
  },
  {
   "cell_type": "code",
   "execution_count": 14,
   "id": "ccf3fb04-5bd3-413a-8c68-33d40170ae1c",
   "metadata": {},
   "outputs": [],
   "source": [
    "def load_data(adata):\n",
    "    \"\"\"Loads data and preprocesses it based on configuration.\"\"\"\n",
    "    dls = []\n",
    "    data_source = {}\n",
    "    data_target = {}\n",
    "    data_source_decoded = {}\n",
    "    data_target_decoded = {}\n",
    "    data_conditions = {}\n",
    "    source = adata[adata.obs[\"condition\"] == \"control\"].obsm[OBSM_KEY_DATA]\n",
    "    source_decoded = adata[adata.obs[\"condition\"] == \"control\"].X\n",
    "\n",
    "    for cond in adata.obs[\"condition\"].cat.categories:\n",
    "        if cond != \"control\":\n",
    "            target = adata[adata.obs[\"condition\"] == cond].obsm[OBSM_KEY_DATA]\n",
    "            target_decoded = adata[adata.obs[\"condition\"] == cond].X.A\n",
    "            condition_1 = adata[adata.obs[\"condition\"] == cond].obsm[OBSM_KEY_COND_1]\n",
    "            condition_2 = adata[adata.obs[\"condition\"] == cond].obsm[OBSM_KEY_COND_2]\n",
    "            assert np.all(np.all(condition_1 == condition_1[0], axis=1))\n",
    "            assert np.all(np.all(condition_2 == condition_2[0], axis=1))\n",
    "            expanded_arr = np.expand_dims(\n",
    "                np.concatenate((condition_1[0, :][None, :], condition_2[0, :][None, :]), axis=0), axis=0\n",
    "            )\n",
    "            conds = np.tile(expanded_arr, (len(source), 1, 1))\n",
    "\n",
    "            \n",
    "            data_source[cond] = source\n",
    "            data_target[cond] = target\n",
    "            data_source_decoded[cond] = source_decoded\n",
    "            data_target_decoded[cond] = target_decoded\n",
    "            data_conditions[cond] = conds\n",
    "    deg_dict = {k: v for k, v in adata.uns[\"rank_genes_groups_cov_all\"].items() if k in data_conditions.keys()}\n",
    "\n",
    "    return {\n",
    "        \"source\": data_source,\n",
    "        \"target\": data_target,\n",
    "        \"source_decoded\": data_source_decoded,\n",
    "        \"target_decoded\": data_target_decoded,\n",
    "        \"conditions\": data_conditions,\n",
    "        \"deg_dict\": deg_dict,\n",
    "    }\n",
    "    "
   ]
  },
  {
   "cell_type": "code",
   "execution_count": 15,
   "id": "e66f3323-8895-407e-9ed4-fcae2c8862ec",
   "metadata": {},
   "outputs": [],
   "source": [
    "test_data = load_data(adata_test) \n",
    "ood_data = load_data(adata_ood) \n",
    "    "
   ]
  },
  {
   "cell_type": "code",
   "execution_count": 16,
   "id": "9933a0f1-a5f7-461c-a222-3f200cd7034b",
   "metadata": {},
   "outputs": [],
   "source": [
    "reconstruct_data_fn = functools.partial(\n",
    "        reconstruct_data, projection_matrix=adata_train.varm[\"PCs\"], mean_to_add=adata_train.varm[\"X_train_mean\"].T\n",
    "    )"
   ]
  },
  {
   "cell_type": "code",
   "execution_count": 18,
   "id": "65c9e357-785f-4f93-9685-a20ba38d46b4",
   "metadata": {},
   "outputs": [],
   "source": [
    "test_data[\"source\"] = jax.tree_util.tree_map(\n",
    "                lambda x: jnp.tile(jnp.expand_dims(x, 1), (1, model_config[\"max_seq_length\"], 1)), test_data[\"source\"]\n",
    "            )"
   ]
  },
  {
   "cell_type": "code",
   "execution_count": 19,
   "id": "4212bf4a-d7ea-4bdd-be1b-7adaf90cbf1d",
   "metadata": {},
   "outputs": [],
   "source": [
    "ood_data[\"source\"] = jax.tree_util.tree_map(\n",
    "                lambda x: jnp.tile(jnp.expand_dims(x, 1), (1, model_config[\"max_seq_length\"], 1)), ood_data[\"source\"]\n",
    "            )"
   ]
  },
  {
   "cell_type": "code",
   "execution_count": 20,
   "id": "a2867aa8-8299-4db8-bf4f-a2a02148dc32",
   "metadata": {},
   "outputs": [],
   "source": [
    "predictions_test = jtu.tree_map(model.transport, test_data[\"source\"], test_data[\"conditions\"])"
   ]
  },
  {
   "cell_type": "code",
   "execution_count": 21,
   "id": "509b46ac-ddca-45bd-a4f8-1e3fee6d9015",
   "metadata": {},
   "outputs": [
    {
     "data": {
      "text/plain": [
       "dict_keys(['Alvespimycin+Pirarubicin', 'Dacinostat+Danusertib', 'Dacinostat+Dasatinib', 'Dacinostat+PCI-34051', 'Givinostat+Carmofur', 'Givinostat+Cediranib', 'Givinostat+Crizotinib', 'Givinostat+Curcumin', 'Givinostat+Dasatinib', 'Givinostat+SRT2104', 'Givinostat+Sorafenib', 'Givinostat+Tanespimycin', 'Panobinostat+Alvespimycin', 'Panobinostat+Curcumin', 'Panobinostat+Dasatinib', 'Panobinostat+SRT1720', 'Panobinostat+SRT2104', 'Panobinostat+SRT3025', 'Panobinostat+Sorafenib', 'SRT3025+Cediranib', 'control+Alvespimycin', 'control+Dacinostat', 'control+Dasatinib', 'control+Givinostat', 'control+Panobinostat', 'control+SRT2104'])"
      ]
     },
     "execution_count": 21,
     "metadata": {},
     "output_type": "execute_result"
    }
   ],
   "source": [
    "predictions_test.keys()"
   ]
  },
  {
   "cell_type": "code",
   "execution_count": 22,
   "id": "50ae4410-bc01-4c33-93d7-36fc83d47328",
   "metadata": {},
   "outputs": [],
   "source": [
    "predictions_test_decoded = jtu.tree_map(reconstruct_data_fn, predictions_test)"
   ]
  },
  {
   "cell_type": "code",
   "execution_count": 23,
   "id": "4b143bbb-988e-4583-9647-45a5bed8c804",
   "metadata": {},
   "outputs": [],
   "source": [
    "df_preds = pd.DataFrame(data=predictions_test_decoded['Givinostat+Curcumin'], columns=adata_test.var_names)"
   ]
  },
  {
   "cell_type": "code",
   "execution_count": 24,
   "id": "725ed374-775e-4d64-a291-cfccf8a1cd92",
   "metadata": {},
   "outputs": [
    {
     "data": {
      "text/plain": [
       "Index(['C1orf112', 'CFTR', 'KLHL13', 'TFPI', 'SLC7A2', 'CD38', 'PDK4', 'MEOX1',\n",
       "       'ZFX', 'ASB4',\n",
       "       ...\n",
       "       'AC139493.2', 'AC007529.2', 'AL355860.1', 'AC020915.6', 'MIR3658',\n",
       "       'AC006460.2', 'AL589669.1', 'AC020912.1', 'AL805961.1', 'AL031731.1'],\n",
       "      dtype='object', name='gene_short_name', length=2000)"
      ]
     },
     "execution_count": 24,
     "metadata": {},
     "output_type": "execute_result"
    }
   ],
   "source": [
    "adata_test.var_names"
   ]
  },
  {
   "cell_type": "code",
   "execution_count": 25,
   "id": "55eef9b1-b22f-4974-81c9-b8ab0a112620",
   "metadata": {},
   "outputs": [
    {
     "data": {
      "image/png": "[encoded data removed]",
      "text/plain": [
       "<Figure size 600x400 with 5 Axes>"
      ]
     },
     "metadata": {},
     "output_type": "display_data"
    }
   ],
   "source": [
    "from ot_pert.plotting import joyplot\n",
    "import seaborn as sns\n",
    "from matplotlib import cm\n",
    "\n",
    "fig, axes = joyplot(\n",
    "    df_preds[['SLC7A2', 'CD38', 'PDK4', 'MEOX1']],\n",
    "    #by='dosage',\n",
    "    alpha=0.75,\n",
    "    figsize=(6, 4),\n",
    "    grid='both',\n",
    "    kind=\"kde\",\n",
    ")"
   ]
  },
  {
   "cell_type": "code",
   "execution_count": 26,
   "id": "f6b20568-4776-4147-b0ab-1d0d85dc5f03",
   "metadata": {},
   "outputs": [],
   "source": [
    "df_true = pd.DataFrame(data=adata_test[adata_test.obs[\"condition\"]=='Givinostat+Curcumin'].X.A, columns=adata_test.var_names)"
   ]
  },
  {
   "cell_type": "code",
   "execution_count": null,
   "id": "061b4401-0f95-4495-855a-f2bb6f3e241c",
   "metadata": {},
   "outputs": [],
   "source": [
    "fig, axes = joyplot(\n",
    "    df_true[['SLC7A2', 'CD38', 'PDK4', 'MEOX1']],\n",
    "    #by='dosage',\n",
    "    alpha=0.75,\n",
    "    figsize=(6, 4),\n",
    "    grid='both',\n",
    "    kind=\"kde\",\n",
    ")"
   ]
  },
  {
   "cell_type": "code",
   "execution_count": null,
   "id": "f6706e10-a673-4fce-8d6e-36142c108458",
   "metadata": {},
   "outputs": [],
   "source": [
    "adata_test.obsm[\"X_pca\"].shape"
   ]
  },
  {
   "cell_type": "code",
   "execution_count": null,
   "id": "5d148f14-25e2-4e6a-a322-829415039fda",
   "metadata": {},
   "outputs": [],
   "source": []
  }
 ],
 "metadata": {
  "kernelspec": {
   "display_name": "ot_pert_genot",
   "language": "python",
   "name": "ot_pert_genot"
  },
  "language_info": {
   "codemirror_mode": {
    "name": "ipython",
    "version": 3
   },
   "file_extension": ".py",
   "mimetype": "text/x-python",
   "name": "python",
   "nbconvert_exporter": "python",
   "pygments_lexer": "ipython3",
   "version": "3.12.2"
  }
 },
 "nbformat": 4,
 "nbformat_minor": 5
}
