{
 "cells": [
  {
   "metadata": {
    "ExecuteTime": {
     "end_time": "2024-04-26T18:42:42.030405Z",
     "start_time": "2024-04-26T18:42:42.027970Z"
    }
   },
   "cell_type": "code",
   "source": [
    "# adata_train_path = \"/lustre/groups/ml01/workspace/ot_perturbation/data/sciplex/adata_train_30.h5ad\"\n",
    "# adata_test_path = \"/lustre/groups/ml01/workspace/ot_perturbation/data/sciplex/adata_test_30.h5ad\"\n",
    "# adata_ood_path = \"/lustre/groups/ml01/workspace/ot_perturbation/data/sciplex/adata_ood_30.h5ad\""
   ],
   "id": "451b005a13806ad4",
   "outputs": [],
   "execution_count": 2
  },
  {
   "cell_type": "code",
   "id": "initial_id",
   "metadata": {
    "collapsed": true,
    "ExecuteTime": {
     "end_time": "2024-04-26T22:17:46.706608Z",
     "start_time": "2024-04-26T22:17:46.704098Z"
    }
   },
   "source": [
    "import anndata as ad\n",
    "import numpy as np\n",
    "import biolord\n",
    "\n",
    "from parameters_sciplex3 import module_params, trainer_params\n",
    "from utils_perturbation_sciplex3 import compute_prediction"
   ],
   "outputs": [],
   "execution_count": 142
  },
  {
   "metadata": {
    "ExecuteTime": {
     "end_time": "2024-04-26T19:11:36.309578Z",
     "start_time": "2024-04-26T19:11:34.422288Z"
    }
   },
   "cell_type": "code",
   "source": "adata = ad.read_h5ad(\"../data/sciplex/sciplex3_biolord.h5ad\")",
   "id": "8511e95a732b27c4",
   "outputs": [],
   "execution_count": 4
  },
  {
   "metadata": {
    "ExecuteTime": {
     "end_time": "2024-04-26T19:16:24.684386Z",
     "start_time": "2024-04-26T19:16:24.673761Z"
    }
   },
   "cell_type": "code",
   "source": [
    "biolord.Biolord.setup_anndata(\n",
    "    adata,\n",
    "    ordered_attributes_keys=[\"rdkit2d_dose\"],\n",
    "    categorical_attributes_keys=[\"cell_type\"],\n",
    "    retrieval_attribute_key=None,\n",
    ")"
   ],
   "id": "1712d94710897620",
   "outputs": [
    {
     "name": "stdout",
     "output_type": "stream",
     "text": [
      "\u001B[34mINFO    \u001B[0m Generating sequential column names                                                                        \n"
     ]
    }
   ],
   "execution_count": 6
  },
  {
   "metadata": {
    "ExecuteTime": {
     "end_time": "2024-04-26T19:23:13.630027Z",
     "start_time": "2024-04-26T19:23:12.432577Z"
    }
   },
   "cell_type": "code",
   "source": [
    "model = biolord.Biolord(\n",
    "    adata=adata,\n",
    "    n_latent=256,\n",
    "    model_name=\"sciplex3\",\n",
    "    module_params=module_params,\n",
    "    train_classifiers=False,\n",
    "    split_key=\"split_ood\",\n",
    ")"
   ],
   "id": "382f7220d5da8ef9",
   "outputs": [
    {
     "name": "stderr",
     "output_type": "stream",
     "text": [
      "Seed set to 42\n"
     ]
    }
   ],
   "execution_count": 9
  },
  {
   "metadata": {
    "ExecuteTime": {
     "end_time": "2024-04-26T19:50:14.553023Z",
     "start_time": "2024-04-26T19:39:32.503581Z"
    }
   },
   "cell_type": "code",
   "source": [
    "model.train(\n",
    "    max_epochs=1,#200\n",
    "    batch_size=512,\n",
    "    plan_kwargs=trainer_params,\n",
    "    early_stopping=True,\n",
    "    early_stopping_patience=20,\n",
    "    check_val_every_n_epoch=10,\n",
    "    num_workers=10,\n",
    "    enable_checkpointing=False\n",
    ")"
   ],
   "id": "8de975ca979fb0f7",
   "outputs": [
    {
     "name": "stderr",
     "output_type": "stream",
     "text": [
      "GPU available: True (mps), used: False\n",
      "TPU available: False, using: 0 TPU cores\n",
      "IPU available: False, using: 0 IPUs\n",
      "HPU available: False, using: 0 HPUs\n",
      "/Users/arturszalata/miniconda3/envs/ot_pert_reproducibility/lib/python3.10/site-packages/lightning/pytorch/trainer/setup.py:187: GPU available but not used. You can set it by doing `Trainer(accelerator='gpu')`.\n",
      "/Users/arturszalata/miniconda3/envs/ot_pert_reproducibility/lib/python3.10/site-packages/lightning/pytorch/trainer/connectors/data_connector.py:436: Consider setting `persistent_workers=True` in 'train_dataloader' to speed up the dataloader worker initialization.\n",
      "/Users/arturszalata/miniconda3/envs/ot_pert_reproducibility/lib/python3.10/site-packages/lightning/pytorch/trainer/connectors/data_connector.py:436: Consider setting `persistent_workers=True` in 'val_dataloader' to speed up the dataloader worker initialization.\n"
     ]
    },
    {
     "name": "stdout",
     "output_type": "stream",
     "text": [
      "Epoch 1/1: 100%|██████████| 1/1 [08:02<00:00, 482.98s/it, v_num=1, val_generative_mean_accuracy=0.399, val_generative_var_accuracy=-4.76, val_biolord_metric=-2.18, val_reconstruction_loss=424, val_unknown_attribute_penalty_loss=204]"
     ]
    },
    {
     "name": "stderr",
     "output_type": "stream",
     "text": [
      "`Trainer.fit` stopped: `max_epochs=1` reached.\n"
     ]
    },
    {
     "name": "stdout",
     "output_type": "stream",
     "text": [
      "Epoch 1/1: 100%|██████████| 1/1 [08:03<00:00, 483.01s/it, v_num=1, val_generative_mean_accuracy=0.399, val_generative_var_accuracy=-4.76, val_biolord_metric=-2.18, val_reconstruction_loss=424, val_unknown_attribute_penalty_loss=204]\n"
     ]
    }
   ],
   "execution_count": 16
  },
  {
   "metadata": {
    "ExecuteTime": {
     "end_time": "2024-04-26T21:21:26.103497Z",
     "start_time": "2024-04-26T21:21:25.617265Z"
    }
   },
   "cell_type": "code",
   "source": [
    "idx_test_control = np.where(\n",
    "    (adata.obs[\"split_ood\"] == \"test\") & (adata.obs[\"control\"] == 1)\n",
    ")[0]\n",
    "\n",
    "adata_test_control = adata[idx_test_control].copy()\n",
    "\n",
    "idx_ood = np.where((adata.obs[\"split_ood\"] == \"ood\"))[0]\n",
    "\n",
    "adata_ood = adata[idx_ood].copy()"
   ],
   "id": "2b559e04f5254c6",
   "outputs": [],
   "execution_count": 95
  },
  {
   "metadata": {
    "ExecuteTime": {
     "end_time": "2024-04-26T22:19:09.255475Z",
     "start_time": "2024-04-26T22:19:09.247111Z"
    }
   },
   "cell_type": "code",
   "source": [
    "# narrow to a single drug dose cell type for testing\n",
    "adata_ood = adata_ood[(adata_ood.obs.cov_drug_dose_name == \"A549_Quisinostat_0.001\")]"
   ],
   "id": "e48cdb101dfc2b6a",
   "outputs": [],
   "execution_count": 143
  },
  {
   "metadata": {
    "ExecuteTime": {
     "end_time": "2024-04-26T22:14:29.573397Z",
     "start_time": "2024-04-26T22:14:29.495946Z"
    }
   },
   "cell_type": "code",
   "source": [
    "dataset_control = model.get_dataset(adata_test_control)\n",
    "dataset_ood = model.get_dataset(adata_ood)"
   ],
   "id": "801422cf27295d85",
   "outputs": [
    {
     "name": "stdout",
     "output_type": "stream",
     "text": [
      "\u001B[34mINFO    \u001B[0m Received view of anndata, making copy.                                                                    \n",
      "\u001B[34mINFO    \u001B[0m Input AnnData not setup with scvi-tools. attempting to transfer AnnData setup                             \n"
     ]
    }
   ],
   "execution_count": 138
  },
  {
   "metadata": {
    "ExecuteTime": {
     "end_time": "2024-04-26T22:15:26.410914Z",
     "start_time": "2024-04-26T22:15:26.195349Z"
    }
   },
   "cell_type": "code",
   "source": [
    "biolord_prediction = compute_prediction(\n",
    "    model=model,\n",
    "    adata=adata_ood,\n",
    "    dataset=dataset_ood,\n",
    "    dataset_control=dataset_control)"
   ],
   "id": "a195154e1591285d",
   "outputs": [
    {
     "name": "stderr",
     "output_type": "stream",
     "text": [
      "0it [00:00, ?it/s]/var/folders/98/9ygjwkpd12d1vxydfprn1st00000gp/T/ipykernel_28888/253641653.py:9: DeprecationWarning: Calling nonzero on 0d arrays is deprecated, as it behaves surprisingly. Use `atleast_1d(arr).nonzero()` if the old behavior was intended.\n",
      "  return np.where(x)[0]\n",
      "1it [00:00,  4.73it/s]\n"
     ]
    }
   ],
   "execution_count": 140
  }
 ],
 "metadata": {
  "kernelspec": {
   "display_name": "Python 3",
   "language": "python",
   "name": "python3"
  },
  "language_info": {
   "codemirror_mode": {
    "name": "ipython",
    "version": 2
   },
   "file_extension": ".py",
   "mimetype": "text/x-python",
   "name": "python",
   "nbconvert_exporter": "python",
   "pygments_lexer": "ipython2",
   "version": "2.7.6"
  }
 },
 "nbformat": 4,
 "nbformat_minor": 5
}
