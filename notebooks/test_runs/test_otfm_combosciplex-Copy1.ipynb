{
 "cells": [
  {
   "cell_type": "code",
   "execution_count": 1,
   "id": "0cc320b7-e3d5-467b-b551-dc5556a7f9a1",
   "metadata": {},
   "outputs": [],
   "source": [
    "\n",
    "import hydra\n",
    "import wandb\n",
    "from ott.neural import datasets\n",
    "import sys\n",
    "from omegaconf import DictConfig\n",
    "import jax.numpy as jnp\n",
    "from jax import random\n",
    "from typing import Optional, Literal\n",
    "import jax\n",
    "import pathlib\n",
    "import optax\n",
    "import yaml\n",
    "from datetime import datetime\n",
    "from flax import linen as nn\n",
    "import functools\n",
    "from tqdm import tqdm\n",
    "from flax.training import train_state\n",
    "\n",
    "from ott.neural.networks.layers import time_encoder\n",
    "from ott.neural.methods.flows import dynamics, otfm\n",
    "from ott.neural.networks import velocity_field\n",
    "from ott.solvers import utils as solver_utils\n",
    "import jax.tree_util as jtu\n",
    "from ott.neural.networks.layers import time_encoder\n",
    "\n",
    "import hydra\n",
    "from omegaconf import DictConfig, OmegaConf\n",
    "\n",
    "from torch.utils.data import DataLoader\n",
    "import numpy as np\n",
    "\n",
    "import scanpy as sc\n",
    "from ot_pert.metrics import compute_metrics, compute_mean_metrics\n",
    "from ot_pert.nets.nets import VelocityFieldWithAttention\n",
    "from ot_pert.utils import ConditionalLoader\n"
   ]
  },
  {
   "cell_type": "code",
   "execution_count": 2,
   "id": "43584f7a-784d-4b6c-91b8-09ab35014873",
   "metadata": {},
   "outputs": [],
   "source": [
    "def data_match_fn(\n",
    "    src_lin: Optional[jnp.ndarray], tgt_lin: Optional[jnp.ndarray],\n",
    "    src_quad: Optional[jnp.ndarray], tgt_quad: Optional[jnp.ndarray], *,\n",
    "    typ: Literal[\"lin\", \"quad\", \"fused\"]\n",
    ") -> jnp.ndarray:\n",
    "    if typ == \"lin\":\n",
    "        return solver_utils.match_linear(x=src_lin, y=tgt_lin, scale_cost=\"mean\")\n",
    "    if typ == \"quad\":\n",
    "        return solver_utils.match_quadratic(xx=src_quad, yy=tgt_quad)\n",
    "    if typ == \"fused\":\n",
    "        return solver_utils.match_quadratic(\n",
    "            xx=src_quad, yy=tgt_quad, x=src_lin, y=tgt_lin\n",
    "        )\n",
    "    raise NotImplementedError(f\"Unknown type: {typ}.\")"
   ]
  },
  {
   "cell_type": "code",
   "execution_count": 3,
   "id": "6b304049-c3ab-45ac-ad23-12e5cf6f3488",
   "metadata": {},
   "outputs": [],
   "source": [
    "adata_train_path= \"/lustre/groups/ml01/workspace/ot_perturbation/data/combosciplex/adata_train.h5ad\"\n",
    "adata_test_path= \"/lustre/groups/ml01/workspace/ot_perturbation/data/combosciplex/adata_test.h5ad\"\n",
    "adata_ood_path= \"/lustre/groups/ml01/workspace/ot_perturbation/data/combosciplex/adata_ood.h5ad\"\n",
    "obsm_key_data= \"X_pca\"\n",
    "obsm_key_cond_1= \"ecfp_drug_1\"\n",
    "obsm_key_cond_2= \"ecfp_drug_2\""
   ]
  },
  {
   "cell_type": "code",
   "execution_count": 16,
   "id": "e0eb8e60-8e1c-4db5-9df8-11847b095df8",
   "metadata": {},
   "outputs": [
    {
     "name": "stderr",
     "output_type": "stream",
     "text": [
      "/home/icb/dominik.klein/mambaforge/envs/ot_pert_genot/lib/python3.12/site-packages/anndata/__init__.py:51: FutureWarning: `anndata.read` is deprecated, use `anndata.read_h5ad` instead. `ad.read` will be removed in mid 2024.\n",
      "  warnings.warn(\n",
      "/home/icb/dominik.klein/mambaforge/envs/ot_pert_genot/lib/python3.12/site-packages/anndata/__init__.py:51: FutureWarning: `anndata.read` is deprecated, use `anndata.read_h5ad` instead. `ad.read` will be removed in mid 2024.\n",
      "  warnings.warn(\n",
      "/home/icb/dominik.klein/mambaforge/envs/ot_pert_genot/lib/python3.12/site-packages/anndata/__init__.py:51: FutureWarning: `anndata.read` is deprecated, use `anndata.read_h5ad` instead. `ad.read` will be removed in mid 2024.\n",
      "  warnings.warn(\n"
     ]
    }
   ],
   "source": [
    "\n",
    "   \n",
    "# Load data\n",
    "adata_train = sc.read(adata_train_path)\n",
    "dls = []\n",
    "source = adata_train[adata_train.obs[\"condition\"]==\"control\"].obsm[obsm_key_data]\n",
    "for cond in adata_train.obs[\"condition\"].cat.categories:\n",
    "    if cond == \"control\":\n",
    "        continue\n",
    "    target = adata_train[adata_train.obs[\"condition\"]==cond].obsm[obsm_key_data]\n",
    "    condition_1 = adata_train[adata_train.obs[\"condition\"]==cond].obsm[obsm_key_cond_1]\n",
    "    condition_2 = adata_train[adata_train.obs[\"condition\"]==cond].obsm[obsm_key_cond_2]\n",
    "    assert np.all(np.all(condition_1 == condition_1[0], axis=1))\n",
    "    assert np.all(np.all(condition_2 == condition_2[0], axis=1))\n",
    "    expanded_arr = np.expand_dims(np.concatenate((condition_1[0,:][None,:],condition_2[0,:][None,:]), axis=0), axis=0)\n",
    "    conds = np.tile(expanded_arr, (len(source), 1, 1))\n",
    "    dls.append(DataLoader(datasets.OTDataset(datasets.OTData(\n",
    "        lin=source,\n",
    "        condition=conds,\n",
    "    ), datasets.OTData(lin=target)), batch_size=13))\n",
    "\n",
    "train_loader = ConditionalLoader(dls, seed=0)\n",
    "\n",
    "test_data_source = {}\n",
    "test_data_target = {}\n",
    "test_data_conditions = {}\n",
    "adata_test = sc.read(adata_test_path)\n",
    "source = adata_test[adata_test.obs[\"condition\"]==\"control\"].obsm[obsm_key_data]\n",
    "for cond in adata_test.obs[\"condition\"].cat.categories:\n",
    "    if cond == \"control\":\n",
    "        continue\n",
    "    target = adata_test[adata_test.obs[\"condition\"]==cond].obsm[obsm_key_data]\n",
    "    condition_1 = adata_test[adata_test.obs[\"condition\"]==cond].obsm[obsm_key_cond_1]\n",
    "    condition_2 = adata_test[adata_test.obs[\"condition\"]==cond].obsm[obsm_key_cond_1]\n",
    "    assert np.all(np.all(condition_1 == condition_1[0], axis=1))\n",
    "    assert np.all(np.all(condition_2 == condition_2[0], axis=1))\n",
    "    expanded_arr = np.expand_dims(np.concatenate((condition_1[0,:][None,:],condition_2[0,:][None,:]), axis=0), axis=0)\n",
    "    conds = np.tile(expanded_arr, (len(source), 1, 1))\n",
    "    test_data_source[cond] = source\n",
    "    test_data_target[cond] = target\n",
    "    test_data_conditions[cond] = conds\n",
    "\n",
    "ood_data_source = {}\n",
    "ood_data_target = {}\n",
    "ood_data_conditions = {}\n",
    "adata_ood = sc.read(adata_ood_path)\n",
    "source = adata_ood[adata_ood.obs[\"condition\"]==\"control\"].obsm[obsm_key_data]\n",
    "for cond in adata_ood.obs[\"condition\"].cat.categories:\n",
    "    if cond == \"control\":\n",
    "        continue\n",
    "    target = adata_ood[adata_ood.obs[\"condition\"]==cond].obsm[obsm_key_data]\n",
    "    condition_1 = adata_ood[adata_ood.obs[\"condition\"]==cond].obsm[obsm_key_cond_1]\n",
    "    condition_2 = adata_ood[adata_ood.obs[\"condition\"]==cond].obsm[obsm_key_cond_1]\n",
    "    assert np.all(np.all(condition_1 == condition_1[0], axis=1))\n",
    "    assert np.all(np.all(condition_2 == condition_2[0], axis=1))\n",
    "    expanded_arr = np.expand_dims(np.concatenate((condition_1[0,:][None,:],condition_2[0,:][None,:]), axis=0), axis=0)\n",
    "    conds = np.tile(expanded_arr, (len(source), 1, 1))\n",
    "    ood_data_source[cond] = source\n",
    "    ood_data_target[cond] = target\n",
    "    ood_data_conditions[cond] = conds\n",
    "\n"
   ]
  },
  {
   "cell_type": "code",
   "execution_count": 14,
   "id": "7344e3ac-2343-4f75-9ffc-731934d4d5c8",
   "metadata": {},
   "outputs": [
    {
     "ename": "TypeError",
     "evalue": "ConditionalLoader.__init__() got an unexpected keyword argument 'batch_size'",
     "output_type": "error",
     "traceback": [
      "\u001b[0;31m---------------------------------------------------------------------------\u001b[0m",
      "\u001b[0;31mTypeError\u001b[0m                                 Traceback (most recent call last)",
      "Cell \u001b[0;32mIn[14], line 1\u001b[0m\n\u001b[0;32m----> 1\u001b[0m train_loader \u001b[38;5;241m=\u001b[39m ConditionalLoader(dls, batch_size\u001b[38;5;241m=\u001b[39m\u001b[38;5;241m13\u001b[39m, seed\u001b[38;5;241m=\u001b[39m\u001b[38;5;241m0\u001b[39m)\n",
      "\u001b[0;31mTypeError\u001b[0m: ConditionalLoader.__init__() got an unexpected keyword argument 'batch_size'"
     ]
    }
   ],
   "source": [
    "train_loader = ConditionalLoader(dls, batch_size=13, seed=0)"
   ]
  },
  {
   "cell_type": "code",
   "execution_count": 7,
   "id": "a267b6aa-e4a6-4dec-bd3c-3f8f1407e577",
   "metadata": {},
   "outputs": [
    {
     "data": {
      "text/plain": [
       "(30, 30, 1024)"
      ]
     },
     "execution_count": 7,
     "metadata": {},
     "output_type": "execute_result"
    }
   ],
   "source": [
    "source_dim, target_dim, condition_dim"
   ]
  },
  {
   "cell_type": "code",
   "execution_count": 26,
   "id": "0301ddc0-49c4-4026-aa41-4b39557173e0",
   "metadata": {},
   "outputs": [],
   "source": [
    "batch = next(train_loader)"
   ]
  },
  {
   "cell_type": "code",
   "execution_count": 27,
   "id": "cbe0cfdc-2710-486e-ba17-66c4df996b55",
   "metadata": {},
   "outputs": [
    {
     "data": {
      "text/plain": [
       "dict_keys(['src_lin', 'src_condition', 'tgt_lin'])"
      ]
     },
     "execution_count": 27,
     "metadata": {},
     "output_type": "execute_result"
    }
   ],
   "source": [
    "batch.keys()"
   ]
  },
  {
   "cell_type": "code",
   "execution_count": 28,
   "id": "47c3aaef-4c22-4576-97fb-5673407ae5c5",
   "metadata": {},
   "outputs": [
    {
     "data": {
      "text/plain": [
       "torch.Size([13, 30])"
      ]
     },
     "execution_count": 28,
     "metadata": {},
     "output_type": "execute_result"
    }
   ],
   "source": [
    "batch[\"src_lin\"].shape"
   ]
  },
  {
   "cell_type": "code",
   "execution_count": 29,
   "id": "d21246a2-7b88-4286-976d-31f05e78c843",
   "metadata": {},
   "outputs": [
    {
     "data": {
      "text/plain": [
       "torch.Size([13, 2, 1024])"
      ]
     },
     "execution_count": 29,
     "metadata": {},
     "output_type": "execute_result"
    }
   ],
   "source": [
    "batch['src_condition'].shape"
   ]
  },
  {
   "cell_type": "code",
   "execution_count": 30,
   "id": "6d2d2fe1-2728-433d-838d-58a00b58ce49",
   "metadata": {},
   "outputs": [
    {
     "data": {
      "text/plain": [
       "torch.Size([13, 30])"
      ]
     },
     "execution_count": 30,
     "metadata": {},
     "output_type": "execute_result"
    }
   ],
   "source": [
    "batch['tgt_lin'].shape"
   ]
  },
  {
   "cell_type": "code",
   "execution_count": 90,
   "id": "c5f8ccb0-98f2-4ac6-8d28-b1825b373b38",
   "metadata": {},
   "outputs": [
    {
     "name": "stderr",
     "output_type": "stream",
     "text": [
      "100%|██████████| 5000/5000 [00:40<00:00, 124.23it/s]\n"
     ]
    }
   ],
   "source": [
    "source_dim = source.shape[1]\n",
    "target_dim = source_dim\n",
    "condition_dim = condition_1.shape[1]\n",
    "\n",
    "source_dim = source.shape[1]\n",
    "target_dim = source_dim\n",
    "condition_dim = condition_1.shape[1]\n",
    "\n",
    "vf = VelocityFieldWithAttention2(\n",
    "        num_heads=2,\n",
    "        qkv_feature_dim=32,\n",
    "        max_seq_length=2,\n",
    "        hidden_dims=[512, 512],\n",
    "        time_dims=[512, 512],\n",
    "        output_dims=[512, 512]+[target_dim],\n",
    "        condition_dims=[512, 512],\n",
    "        time_encoder = functools.partial(time_encoder.cyclical_time_encoder, n_freqs=1025),\n",
    "        )\n",
    "    \n",
    "model = otfm.OTFlowMatching(vf,\n",
    "    flow=dynamics.ConstantNoiseFlow(0),\n",
    "    match_fn=jax.jit(functools.partial(data_match_fn, typ=\"lin\", src_quad=None, tgt_quad=None)),\n",
    "    condition_dim=condition_dim,\n",
    "    rng=jax.random.PRNGKey(13),\n",
    "    optimizer=optax.MultiSteps(optax.adam(learning_rate=1e-4), 5)\n",
    ")\n",
    "\n",
    "training_logs = {\"loss\": []}\n",
    "\n",
    "rng = jax.random.PRNGKey(0)\n",
    "for it in tqdm(range(5000)):\n",
    "    rng, rng_resample, rng_step_fn = jax.random.split(rng, 3)\n",
    "    batch = next(train_loader)\n",
    "    batch = jtu.tree_map(jnp.asarray, batch)\n",
    "\n",
    "    src, tgt = batch[\"src_lin\"], batch[\"tgt_lin\"]\n",
    "    src_cond = batch.get(\"src_condition\")\n",
    "\n",
    "    if model.match_fn is not None:\n",
    "        tmat = model.match_fn(src, tgt)\n",
    "        src_ixs, tgt_ixs = solver_utils.sample_joint(rng_resample, tmat)\n",
    "        src, tgt = src[src_ixs], tgt[tgt_ixs]\n",
    "        src_cond = None if src_cond is None else src_cond[src_ixs]\n",
    "\n",
    "    model.vf_state, loss = model.step_fn(\n",
    "        rng_step_fn,\n",
    "        model.vf_state,\n",
    "        src,\n",
    "        tgt,\n",
    "        src_cond,\n",
    "    )"
   ]
  },
  {
   "cell_type": "code",
   "execution_count": 72,
   "id": "c2d00649-0d7d-45ac-b41c-5a5eed846a82",
   "metadata": {},
   "outputs": [],
   "source": [
    "predicted_target_test = jax.tree_util.tree_map(model.transport, test_data_source, test_data_conditions)"
   ]
  },
  {
   "cell_type": "code",
   "execution_count": 91,
   "id": "b2f6e216-7bd7-40cc-86b3-389c521b1047",
   "metadata": {},
   "outputs": [],
   "source": [
    "test_metrics = jtu.tree_map(my_compute_metrics, predicted_target_test, test_data_target)"
   ]
  },
  {
   "cell_type": "code",
   "execution_count": 92,
   "id": "8a704e13-dac2-4bb8-9cef-7059b2769d44",
   "metadata": {},
   "outputs": [],
   "source": [
    "mean_test_metrics = compute_mean_metrics(test_metrics, prefix=\"test_\")"
   ]
  },
  {
   "cell_type": "code",
   "execution_count": 93,
   "id": "21040729-9a39-42aa-9475-c5ed71539634",
   "metadata": {},
   "outputs": [
    {
     "data": {
      "text/plain": [
       "{'test_r_squared': [], 'r_squared': -0.1613270389181651}"
      ]
     },
     "execution_count": 93,
     "metadata": {},
     "output_type": "execute_result"
    }
   ],
   "source": [
    "mean_test_metrics"
   ]
  },
  {
   "cell_type": "code",
   "execution_count": null,
   "id": "e0fc4c02-1e51-480d-898a-195bcdb8afa3",
   "metadata": {},
   "outputs": [],
   "source": []
  },
  {
   "cell_type": "code",
   "execution_count": null,
   "id": "a7a1d414-32c5-4fd2-b481-6d1a03813857",
   "metadata": {},
   "outputs": [],
   "source": []
  },
  {
   "cell_type": "code",
   "execution_count": null,
   "id": "e7dc5d23-207d-4178-a839-b9da36d3a9f3",
   "metadata": {},
   "outputs": [],
   "source": []
  },
  {
   "cell_type": "code",
   "execution_count": 67,
   "id": "b105b2f5-99d2-44ac-9eea-fed97e0b8f51",
   "metadata": {},
   "outputs": [
    {
     "data": {
      "text/plain": [
       "{'test_r_squared': [], 'r_squared': -0.07531033044386308}"
      ]
     },
     "execution_count": 67,
     "metadata": {},
     "output_type": "execute_result"
    }
   ],
   "source": [
    "mean_test_metrics"
   ]
  },
  {
   "cell_type": "code",
   "execution_count": 76,
   "id": "5e6f4789-6b04-46a3-a2b7-bcdfb2e84492",
   "metadata": {},
   "outputs": [],
   "source": [
    "loss_dict = {\"train_loss\": loss}"
   ]
  },
  {
   "cell_type": "code",
   "execution_count": 86,
   "id": "fb3d42ea-9c57-4cf6-8ede-e6b3cacb4e98",
   "metadata": {},
   "outputs": [],
   "source": [
    "loss_dict.update(mean_test_metrics)"
   ]
  },
  {
   "cell_type": "code",
   "execution_count": 87,
   "id": "ea00fc25-de85-43b6-8f39-e7312d3ea731",
   "metadata": {},
   "outputs": [
    {
     "data": {
      "text/plain": [
       "{'train_loss': Array(0.20256655, dtype=float32),\n",
       " 'test_r_squared': [],\n",
       " 'r_squared': -0.1613270389181651}"
      ]
     },
     "execution_count": 87,
     "metadata": {},
     "output_type": "execute_result"
    }
   ],
   "source": [
    "loss_dict"
   ]
  },
  {
   "cell_type": "code",
   "execution_count": 88,
   "id": "95190030-742b-4557-87e1-3e40580e7251",
   "metadata": {},
   "outputs": [],
   "source": [
    "loss_dict.update(mean_ood_metrics)"
   ]
  },
  {
   "cell_type": "code",
   "execution_count": 89,
   "id": "e6a91328-fb30-47a8-9fef-7b4009cc34a1",
   "metadata": {},
   "outputs": [
    {
     "data": {
      "text/plain": [
       "{'train_loss': Array(0.20256655, dtype=float32),\n",
       " 'test_r_squared': [],\n",
       " 'r_squared': -2.62764481371016}"
      ]
     },
     "execution_count": 89,
     "metadata": {},
     "output_type": "execute_result"
    }
   ],
   "source": [
    "loss_dict"
   ]
  },
  {
   "cell_type": "code",
   "execution_count": 77,
   "id": "8e9dbf65-4d69-4aaf-a517-cb7f0094f837",
   "metadata": {},
   "outputs": [],
   "source": [
    "predicted_target_ood = jax.tree_util.tree_map(model.transport, ood_data_source, ood_data_conditions)"
   ]
  },
  {
   "cell_type": "code",
   "execution_count": 78,
   "id": "6238ee73-da2f-4aac-92b5-941f6be15ddf",
   "metadata": {},
   "outputs": [],
   "source": [
    "ood_metrics = jtu.tree_map(my_compute_metrics, predicted_target_ood, ood_data_target)"
   ]
  },
  {
   "cell_type": "code",
   "execution_count": 79,
   "id": "4841bb18-31e2-4fd7-8b1d-ab22e2dba8c8",
   "metadata": {},
   "outputs": [],
   "source": [
    "mean_ood_metrics = compute_mean_metrics(ood_metrics, prefix=\"test_\")"
   ]
  },
  {
   "cell_type": "code",
   "execution_count": 80,
   "id": "475a091f-4a9a-4df9-b170-c9241afd1a4c",
   "metadata": {},
   "outputs": [
    {
     "data": {
      "text/plain": [
       "{'test_r_squared': [], 'r_squared': 0.21197287566022}"
      ]
     },
     "execution_count": 80,
     "metadata": {},
     "output_type": "execute_result"
    }
   ],
   "source": [
    "mean_ood_metrics"
   ]
  },
  {
   "cell_type": "code",
   "execution_count": 96,
   "id": "076cb870-282d-4445-97a2-16e86ee0b452",
   "metadata": {},
   "outputs": [],
   "source": [
    "m = jtu.tree_map(compute_metrics, ood_data_source, ood_data_target)\n",
    "mean_ood_metrics = compute_mean_metrics(m, prefix=\"test_\")"
   ]
  },
  {
   "cell_type": "code",
   "execution_count": 97,
   "id": "9cdf57ae-7bc9-4afb-9247-795ec4a451f2",
   "metadata": {},
   "outputs": [
    {
     "data": {
      "text/plain": [
       "{'test_r_squared': [],\n",
       " 'test_sinkhorn_div_01': [],\n",
       " 'test_e_distance': [],\n",
       " 'test_mmd': [],\n",
       " 'r_squared': -2.62764481371016,\n",
       " 'sinkhorn_div_01': 54.35254440307617,\n",
       " 'e_distance': 5.064446949747692,\n",
       " 'mmd': 37.39942092895508}"
      ]
     },
     "execution_count": 97,
     "metadata": {},
     "output_type": "execute_result"
    }
   ],
   "source": [
    "mean_ood_metrics"
   ]
  },
  {
   "cell_type": "code",
   "execution_count": null,
   "id": "d3a3740c-85f3-4e8c-8c72-dc69ac8f3ed1",
   "metadata": {},
   "outputs": [],
   "source": []
  },
  {
   "cell_type": "code",
   "execution_count": 68,
   "id": "e9e51e09-f59a-4e79-9024-491c55cc08c6",
   "metadata": {},
   "outputs": [],
   "source": [
    "test_metrics = jtu.tree_map(my_compute_metrics, test_data_source, test_data_target)"
   ]
  },
  {
   "cell_type": "code",
   "execution_count": 70,
   "id": "e6fa1b62-0496-42a9-84d6-e438d6515346",
   "metadata": {},
   "outputs": [
    {
     "data": {
      "text/plain": [
       "{'test_r_squared': [], 'r_squared': -1.736959665179751}"
      ]
     },
     "execution_count": 70,
     "metadata": {},
     "output_type": "execute_result"
    }
   ],
   "source": [
    "compute_mean_metrics(test_metrics, prefix=\"test_\")"
   ]
  },
  {
   "cell_type": "code",
   "execution_count": 60,
   "id": "3781e4b7-fa39-4961-b8c1-78998379af20",
   "metadata": {},
   "outputs": [],
   "source": [
    "def my_compute_mean_metrics(metrics: Dict[str, Dict[str, float]], prefix: str = \"\"):\n",
    "    metric_names = list(list(metrics.values())[0].keys())\n",
    "    metric_dict = {prefix+met_name: [] for met_name in metric_names}\n",
    "    for met in metric_names:\n",
    "        stat = 0.0\n",
    "        for vals in metrics.values():\n",
    "            stat += vals[met]\n",
    "        metric_dict[prefix+met] = stat/len(metrics)\n",
    "    return metric_dict"
   ]
  },
  {
   "cell_type": "code",
   "execution_count": 61,
   "id": "1f3a0838-cc0d-451a-9341-bf935f76a648",
   "metadata": {},
   "outputs": [
    {
     "data": {
      "text/plain": [
       "{'test_r_squared': -3.5588256209986255}"
      ]
     },
     "execution_count": 61,
     "metadata": {},
     "output_type": "execute_result"
    }
   ],
   "source": [
    "my_compute_mean_metrics(test_metrics, prefix=\"test_\")"
   ]
  },
  {
   "cell_type": "code",
   "execution_count": 39,
   "id": "477ec24b-2b64-4446-bda1-15b2edccfb31",
   "metadata": {},
   "outputs": [],
   "source": [
    "from ot_pert.metrics import compute_r_squared"
   ]
  },
  {
   "cell_type": "code",
   "execution_count": 48,
   "id": "14a256c7-cb46-48cd-802a-a3ec499348b6",
   "metadata": {},
   "outputs": [],
   "source": [
    "from typing import Dict\n",
    "def my_compute_metrics(x: np.ndarray, y: np.ndarray) -> Dict[str, float]:\n",
    "    metrics = {}\n",
    "    metrics[\"r_squared\"] = compute_r_squared(x, y)\n",
    "    #metrics[\"sinkhorn_div_01\"] = compute_sinkhorn_div(x, y, epsilon=0.1)\n",
    "    #metrics[\"sinkhorn_div_1\"] = compute_sinkhorn_div(x, y, epsilon=1.0)\n",
    "    #metrics[\"sinkhorn_div_10\"] = compute_sinkhorn_div(x, y, epsilon=10.0)\n",
    "    #metrics[\"e_distance\"] = compute_e_distance(x, y)\n",
    "    #metrics[\"mmd\"] = compute_sinkhorn_div(x, y, epsilon=100_000)\n",
    "    return metrics"
   ]
  },
  {
   "cell_type": "code",
   "execution_count": null,
   "id": "3524732c-1efa-4454-bdc4-1691e0d52926",
   "metadata": {},
   "outputs": [],
   "source": []
  },
  {
   "cell_type": "code",
   "execution_count": 45,
   "id": "a118f2b8-f42e-49cc-92c4-7b5a3fd8719e",
   "metadata": {},
   "outputs": [],
   "source": [
    "def compute_metrics_2(x,y):\n",
    "    return compute_r_squared(x,y)"
   ]
  },
  {
   "cell_type": "code",
   "execution_count": 49,
   "id": "d63d353a-dd2b-4ce0-b698-5f4e2e0d475a",
   "metadata": {},
   "outputs": [
    {
     "data": {
      "text/plain": [
       "{'Alvespimycin+Pirarubicin': {'r_squared': -0.7466006158068266},\n",
       " 'Cediranib+PCI-34051': {'r_squared': 0.8640461270769257},\n",
       " 'Dacinostat+Dasatinib': {'r_squared': -9.682569086856425},\n",
       " 'Dacinostat+PCI-34051': {'r_squared': -9.987457531575235},\n",
       " 'Givinostat+Carmofur': {'r_squared': -1.0107396383636411},\n",
       " 'Givinostat+Cediranib': {'r_squared': -0.9845886639260741},\n",
       " 'Givinostat+Crizotinib': {'r_squared': -1.1409188410728945},\n",
       " 'Givinostat+Curcumin': {'r_squared': -1.0071303950176702},\n",
       " 'Givinostat+Dasatinib': {'r_squared': -1.4685804937050633},\n",
       " 'Givinostat+SRT2104': {'r_squared': -1.1926887220068818},\n",
       " 'Givinostat+Sorafenib': {'r_squared': -2.0905154065024982},\n",
       " 'Givinostat+Tanespimycin': {'r_squared': -1.1907641168137788},\n",
       " 'Panobinostat+Alvespimycin': {'r_squared': -10.067461330557448},\n",
       " 'Panobinostat+Crizotinib': {'r_squared': -9.669594057637498},\n",
       " 'Panobinostat+Dasatinib': {'r_squared': -5.763317813628087},\n",
       " 'Panobinostat+SRT1720': {'r_squared': -3.909559664756981},\n",
       " 'Panobinostat+SRT2104': {'r_squared': -4.9626385479785},\n",
       " 'Panobinostat+SRT3025': {'r_squared': -6.8340181074459325},\n",
       " 'Panobinostat+Sorafenib': {'r_squared': -6.707075410466809},\n",
       " 'SRT3025+Cediranib': {'r_squared': -0.6193600119825751},\n",
       " 'control+Alvespimycin': {'r_squared': -1.6110256294625311},\n",
       " 'control+Dacinostat': {'r_squared': -3.8769293942703866},\n",
       " 'control+Dasatinib': {'r_squared': -0.18932762340596},\n",
       " 'control+Givinostat': {'r_squared': 0.24859128685012055},\n",
       " 'control+Panobinostat': {'r_squared': -9.304801030555447},\n",
       " 'control+SRT2104': {'r_squared': 0.3755585739038515}}"
      ]
     },
     "execution_count": 49,
     "metadata": {},
     "output_type": "execute_result"
    }
   ],
   "source": [
    "jtu.tree_map(my_compute_metrics ,predicted_target_test, test_data_target)"
   ]
  },
  {
   "cell_type": "code",
   "execution_count": null,
   "id": "dabfea43-f361-43f6-91a9-7076af43debb",
   "metadata": {},
   "outputs": [],
   "source": []
  },
  {
   "cell_type": "code",
   "execution_count": 40,
   "id": "73bff275-8272-42e8-8454-5bd1a5b181aa",
   "metadata": {},
   "outputs": [
    {
     "data": {
      "text/plain": [
       "{'Alvespimycin+Pirarubicin': -0.7466006158068266,\n",
       " 'Cediranib+PCI-34051': 0.8640461270769257,\n",
       " 'Dacinostat+Dasatinib': -9.682569086856425,\n",
       " 'Dacinostat+PCI-34051': -9.987457531575235,\n",
       " 'Givinostat+Carmofur': -1.0107396383636411,\n",
       " 'Givinostat+Cediranib': -0.9845886639260741,\n",
       " 'Givinostat+Crizotinib': -1.1409188410728945,\n",
       " 'Givinostat+Curcumin': -1.0071303950176702,\n",
       " 'Givinostat+Dasatinib': -1.4685804937050633,\n",
       " 'Givinostat+SRT2104': -1.1926887220068818,\n",
       " 'Givinostat+Sorafenib': -2.0905154065024982,\n",
       " 'Givinostat+Tanespimycin': -1.1907641168137788,\n",
       " 'Panobinostat+Alvespimycin': -10.067461330557448,\n",
       " 'Panobinostat+Crizotinib': -9.669594057637498,\n",
       " 'Panobinostat+Dasatinib': -5.763317813628087,\n",
       " 'Panobinostat+SRT1720': -3.909559664756981,\n",
       " 'Panobinostat+SRT2104': -4.9626385479785,\n",
       " 'Panobinostat+SRT3025': -6.8340181074459325,\n",
       " 'Panobinostat+Sorafenib': -6.707075410466809,\n",
       " 'SRT3025+Cediranib': -0.6193600119825751,\n",
       " 'control+Alvespimycin': -1.6110256294625311,\n",
       " 'control+Dacinostat': -3.8769293942703866,\n",
       " 'control+Dasatinib': -0.18932762340596,\n",
       " 'control+Givinostat': 0.24859128685012055,\n",
       " 'control+Panobinostat': -9.304801030555447,\n",
       " 'control+SRT2104': 0.3755585739038515}"
      ]
     },
     "execution_count": 40,
     "metadata": {},
     "output_type": "execute_result"
    }
   ],
   "source": [
    "jtu.tree_map(compute_r_squared ,predicted_target_test, test_data_target)"
   ]
  },
  {
   "cell_type": "code",
   "execution_count": 38,
   "id": "f8cd919d-bf91-46aa-b990-53a239240366",
   "metadata": {},
   "outputs": [
    {
     "data": {
      "text/plain": [
       "{'Alvespimycin+Pirarubicin': (100, 30),\n",
       " 'Cediranib+PCI-34051': (100, 30),\n",
       " 'Dacinostat+Dasatinib': (100, 30),\n",
       " 'Dacinostat+PCI-34051': (100, 30),\n",
       " 'Givinostat+Carmofur': (100, 30),\n",
       " 'Givinostat+Cediranib': (100, 30),\n",
       " 'Givinostat+Crizotinib': (100, 30),\n",
       " 'Givinostat+Curcumin': (100, 30),\n",
       " 'Givinostat+Dasatinib': (100, 30),\n",
       " 'Givinostat+SRT2104': (100, 30),\n",
       " 'Givinostat+Sorafenib': (100, 30),\n",
       " 'Givinostat+Tanespimycin': (100, 30),\n",
       " 'Panobinostat+Alvespimycin': (100, 30),\n",
       " 'Panobinostat+Crizotinib': (100, 30),\n",
       " 'Panobinostat+Dasatinib': (100, 30),\n",
       " 'Panobinostat+SRT1720': (100, 30),\n",
       " 'Panobinostat+SRT2104': (100, 30),\n",
       " 'Panobinostat+SRT3025': (100, 30),\n",
       " 'Panobinostat+Sorafenib': (100, 30),\n",
       " 'SRT3025+Cediranib': (100, 30),\n",
       " 'control+Alvespimycin': (100, 30),\n",
       " 'control+Dacinostat': (100, 30),\n",
       " 'control+Dasatinib': (100, 30),\n",
       " 'control+Givinostat': (100, 30),\n",
       " 'control+Panobinostat': (100, 30),\n",
       " 'control+SRT2104': (100, 30)}"
      ]
     },
     "execution_count": 38,
     "metadata": {},
     "output_type": "execute_result"
    }
   ],
   "source": [
    "jtu.tree_map(lambda x: x.shape ,test_data_target)"
   ]
  },
  {
   "cell_type": "code",
   "execution_count": 33,
   "id": "de44c9eb-12fc-43c4-9347-d927058f26a4",
   "metadata": {},
   "outputs": [],
   "source": [
    "from typing import Callable, Optional, Sequence, List\n",
    "\n",
    "import jax\n",
    "import jax.numpy as jnp\n",
    "\n",
    "import optax\n",
    "from flax import linen as nn\n",
    "from flax.training import train_state\n",
    "\n",
    "from ott.neural.networks.layers import time_encoder\n",
    "import functools\n",
    "\n",
    "def get_masks(dataset: List[jnp.ndarray], max_seq_length: int, pad_max_dim: Optional[int] = None, pad_token=0):\n",
    "    # dataset should be of size [batch_size, max_seq_length, dim_concatenated_conditions]\n",
    "    # and the first `pad_max_dim` dimensions of `dim_concatenated_conditions` should contain 0.0\n",
    "    # if an element of the sequence is considered to be `None`\n",
    "    attention_mask = []\n",
    "    for data in dataset:\n",
    "        if data.ndim<2:\n",
    "            data = data[None, :]\n",
    "        if data.ndim<3:\n",
    "            data = data[None, :]\n",
    "        mask = jnp.all(data[:, :pad_max_dim, 0] == 0.0, axis=1)\n",
    "        mask = 1-mask\n",
    "        mask = jnp.outer(mask, mask)\n",
    "        attention_mask.append(mask)\n",
    "    return jnp.expand_dims(jnp.array(attention_mask), 1)\n",
    "\n",
    "\n",
    "\n",
    "class VelocityFieldWithAttention2(nn.Module):\n",
    "    num_heads: int\n",
    "    qkv_feature_dim: int\n",
    "    max_seq_length: int\n",
    "    hidden_dims: Sequence[int]\n",
    "    output_dims: Sequence[int]\n",
    "    condition_dims: Optional[Sequence[int]] = None\n",
    "    time_dims: Optional[Sequence[int]] = None\n",
    "    time_encoder: Callable[[jnp.ndarray],\n",
    "                         jnp.ndarray] = time_encoder.cyclical_time_encoder\n",
    "    act_fn: Callable[[jnp.ndarray], jnp.ndarray] = nn.silu\n",
    "    pad_max_dim: int = -1\n",
    "\n",
    "    def __post_init__(self):\n",
    "        self.get_masks = jax.jit(functools.partial(get_masks, max_seq_length=self.max_seq_length+1, pad_max_dim=self.pad_max_dim))\n",
    "        super().__post_init__()\n",
    "\n",
    "\n",
    "    @nn.compact\n",
    "    def __call__(\n",
    "      self,\n",
    "      t: jnp.ndarray,\n",
    "      x: jnp.ndarray,\n",
    "      condition: Optional[jnp.ndarray] = None,\n",
    "    ) -> jnp.ndarray:\n",
    "        \"\"\"Forward pass through the neural vector field.\n",
    "        \n",
    "        Args:\n",
    "          t: Time of shape ``[batch, 1]``.\n",
    "          x: Data of shape ``[batch, ...]``.\n",
    "          condition: Conditioning vector of shape ``[batch, ...]``.\n",
    "        \n",
    "        Returns:\n",
    "          Output of the neural vector field of shape ``[batch, output_dim]``.\n",
    "        \"\"\"\n",
    "        squeeze_output = False\n",
    "        if x.ndim < 2:\n",
    "            x = x[None,:]\n",
    "            t = jnp.full(shape=(1, 1), fill_value=t)\n",
    "            condition = condition[None,:]\n",
    "            squeeze_output = True\n",
    "            \n",
    "        time_dims = self.hidden_dims if self.time_dims is None else self.time_dims\n",
    "        t = self.time_encoder(t)\n",
    "        for time_dim in time_dims:\n",
    "          t = self.act_fn(nn.Dense(time_dim)(t))\n",
    "        \n",
    "        for hidden_dim in self.hidden_dims:\n",
    "          x = self.act_fn(nn.Dense(hidden_dim)(x))\n",
    "    \n",
    "        assert condition is not None, \"No condition sequence was passed.\"\n",
    "\n",
    "        token_shape = (len(condition),1) if condition.ndim > 2 else (1,)\n",
    "        class_token = nn.Embed(num_embeddings=1, features=condition.shape[-1])(jnp.int32(jnp.zeros(token_shape)))\n",
    "        \n",
    "        condition = jnp.concatenate((class_token, condition), axis=-2)\n",
    "        mask = self.get_masks(condition) \n",
    "            \n",
    "        attention = nn.MultiHeadDotProductAttention(num_heads=self.num_heads, qkv_features=self.qkv_feature_dim)\n",
    "        emb = attention(condition, mask=mask)\n",
    "        emb = emb[:,0,:] # only continue with token 0\n",
    "        \n",
    "        for cond_dim in self.condition_dims:\n",
    "            condition = self.act_fn(nn.Dense(cond_dim)(emb))\n",
    "    \n",
    "        \n",
    "        feats = jnp.concatenate([t, x, condition], axis=1)\n",
    "        \n",
    "        for output_dim in self.output_dims[:-1]:\n",
    "          feats = self.act_fn(nn.Dense(output_dim)(feats))\n",
    "        \n",
    "        # no activation function for the final layer\n",
    "        out =  nn.Dense(self.output_dims[-1])(feats)\n",
    "        return jnp.squeeze(out) if squeeze_output else out\n",
    "\n",
    "    def create_train_state(\n",
    "          self,\n",
    "          rng: jax.Array,\n",
    "          optimizer: optax.OptState,\n",
    "          input_dim: int,\n",
    "          condition_dim: Optional[int] = None,\n",
    "      ) -> train_state.TrainState:\n",
    "        \"\"\"Create the training state.\n",
    "    \n",
    "        Args:\n",
    "          rng: Random number generator.\n",
    "          optimizer: Optimizer.\n",
    "          input_dim: Dimensionality of the velocity field.\n",
    "          condition_dim: Dimensionality of the condition of the velocity field.\n",
    "    \n",
    "        Returns:\n",
    "          The training state.\n",
    "        \"\"\"\n",
    "        t, x = jnp.ones((1, 1)), jnp.ones((1, input_dim))\n",
    "        if self.condition_dims is None:\n",
    "          cond = None\n",
    "        else:\n",
    "          assert condition_dim > 0, \"Condition dimension must be positive.\"\n",
    "          cond = jnp.ones((1, 1, condition_dim))\n",
    "    \n",
    "        params = self.init(rng, t, x, cond)[\"params\"]\n",
    "        return train_state.TrainState.create(\n",
    "            apply_fn=self.apply, params=params, tx=optimizer\n",
    "        )"
   ]
  },
  {
   "cell_type": "code",
   "execution_count": null,
   "id": "7b0e28a5-ba91-4f58-b05b-339a7620d285",
   "metadata": {},
   "outputs": [],
   "source": []
  },
  {
   "cell_type": "code",
   "execution_count": null,
   "id": "20da1fca-e8a5-4d6b-b5a5-34202ed32e8d",
   "metadata": {},
   "outputs": [],
   "source": []
  },
  {
   "cell_type": "code",
   "execution_count": null,
   "id": "22080eb0-85a9-4cda-99d9-0b84e2e856e7",
   "metadata": {},
   "outputs": [],
   "source": []
  },
  {
   "cell_type": "code",
   "execution_count": null,
   "id": "5c221519-288a-4d58-add4-eb61e365d674",
   "metadata": {},
   "outputs": [],
   "source": []
  },
  {
   "cell_type": "code",
   "execution_count": null,
   "id": "78e647af-e383-4e07-82e4-3ef33197d4be",
   "metadata": {},
   "outputs": [],
   "source": []
  },
  {
   "cell_type": "code",
   "execution_count": 1,
   "id": "61bc4d83-ca80-4308-bbe9-e52f520c4be4",
   "metadata": {},
   "outputs": [],
   "source": [
    "from ott.neural import datasets\n",
    "import sys\n",
    "import jax.numpy as jnp\n",
    "from jax import random\n",
    "from typing import Optional, Literal\n",
    "import jax\n",
    "import pathlib\n",
    "import optax\n",
    "import yaml\n",
    "from datetime import datetime\n",
    "from flax import linen as nn\n",
    "import functools\n",
    "from tqdm import tqdm\n",
    "from flax.training import train_state\n",
    "\n",
    "from ott.neural.networks.layers import time_encoder\n",
    "from ott.neural.methods.flows import dynamics, otfm\n",
    "from ott.neural.networks import velocity_field\n",
    "from ott.solvers import utils as solver_utils\n",
    "from ott.neural.networks.layers import time_encoder\n",
    "\n",
    "\n",
    "from torch.utils.data import DataLoader\n",
    "import numpy as np\n",
    "\n",
    "import scanpy as sc\n",
    "from typing import Iterable\n",
    "\n",
    "class ConditionalLoader:\n",
    "  \"\"\"Dataset for OT problems with conditions.\n",
    "\n",
    "  This data loader wraps several data loaders and samples from them.\n",
    "\n",
    "  Args:\n",
    "    datasets: Datasets to sample from.\n",
    "    seed: Random seed.\n",
    "  \"\"\"\n",
    "\n",
    "  def __init__(\n",
    "      self,\n",
    "      dataloaders: Iterable[DataLoader],\n",
    "      seed: int = 0,\n",
    "  ):\n",
    "    self.dataloaders = tuple(dataloaders)\n",
    "    self._rng = jax.random.PRNGKey(seed)\n",
    "    \n",
    "  def __next__(self):\n",
    "    rng, self._rng = jax.random.split(self._rng, 2)\n",
    "    idx = int(jax.random.choice(rng, len(self.dataloaders)))\n",
    "    dl = self.dataloaders[idx]\n",
    "    \n",
    "    return next(iter(dl))\n",
    "\n",
    "\n",
    "  def __iter__(self) -> \"ConditionalLoader\":\n",
    "    return self\n",
    "\n",
    "  def __len__(self) -> int:\n",
    "    return 100000"
   ]
  },
  {
   "cell_type": "code",
   "execution_count": 3,
   "id": "243f4031-8e40-4eac-a874-bc836e4188a8",
   "metadata": {},
   "outputs": [
    {
     "name": "stderr",
     "output_type": "stream",
     "text": [
      "/home/icb/dominik.klein/mambaforge/envs/ot_pert_genot/lib/python3.12/site-packages/anndata/__init__.py:51: FutureWarning: `anndata.read` is deprecated, use `anndata.read_h5ad` instead. `ad.read` will be removed in mid 2024.\n",
      "  warnings.warn(\n",
      "2024-04-10 09:29:19.803859: W external/xla/xla/service/gpu/nvptx_compiler.cc:718] The NVIDIA driver's CUDA version is 12.3 which is older than the ptxas CUDA version (12.4.131). Because the driver is older than the ptxas version, XLA is disabling parallel compilation, which may slow down compilation. You should update your NVIDIA driver or use the NVIDIA-provided CUDA forward compatibility packages.\n"
     ]
    }
   ],
   "source": [
    "def data_match_fn(\n",
    "    src_lin: Optional[jnp.ndarray], tgt_lin: Optional[jnp.ndarray],\n",
    "    src_quad: Optional[jnp.ndarray], tgt_quad: Optional[jnp.ndarray], *,\n",
    "    typ: Literal[\"lin\", \"quad\", \"fused\"]\n",
    ") -> jnp.ndarray:\n",
    "    if typ == \"lin\":\n",
    "        return solver_utils.match_linear(x=src_lin, y=tgt_lin, scale_cost=\"mean\")\n",
    "    if typ == \"quad\":\n",
    "        return solver_utils.match_quadratic(xx=src_quad, yy=tgt_quad)\n",
    "    if typ == \"fused\":\n",
    "        return solver_utils.match_quadratic(\n",
    "            xx=src_quad, yy=tgt_quad, x=src_lin, y=tgt_lin\n",
    "        )\n",
    "    raise NotImplementedError(f\"Unknown type: {typ}.\")\n",
    "   \n",
    "adata_train = sc.read(\"/lustre/groups/ml01/workspace/ot_perturbation/data/combosciplex/adata_train.h5ad\")\n",
    "dls = []\n",
    "source = adata_train[adata_train.obs[\"condition\"]==\"control\"].obsm[\"X_pca\"]\n",
    "for cond in adata_train.obs[\"condition\"].cat.categories:\n",
    "    if cond == \"control\":\n",
    "        continue\n",
    "    target = adata_train[adata_train.obs[\"condition\"]==cond].obsm[\"X_pca\"]\n",
    "    condition_1 = adata_train[adata_train.obs[\"condition\"]==cond].obsm[\"ecfp_drug_1\"]\n",
    "    condition_2 = adata_train[adata_train.obs[\"condition\"]==cond].obsm[\"ecfp_drug_2\"]\n",
    "    assert np.all(np.all(condition_1 == condition_1[0], axis=1))\n",
    "    assert np.all(np.all(condition_2 == condition_2[0], axis=1))\n",
    "    expanded_arr = np.expand_dims(np.concatenate((condition_1[0,:][None,:],condition_2[0,:][None,:]), axis=0), axis=0)\n",
    "    conds = np.tile(expanded_arr, (len(source), 1, 1))\n",
    "    dls.append(DataLoader(datasets.OTDataset(datasets.OTData(\n",
    "        lin=source,\n",
    "        condition=conds,\n",
    "    ), datasets.OTData(lin=target))))\n",
    "\n",
    "train_loader = ConditionalLoader(dls, seed=0)\n",
    "\n"
   ]
  },
  {
   "cell_type": "code",
   "execution_count": 4,
   "id": "f7e21cc5-c280-41b9-b844-c1844c6e429d",
   "metadata": {},
   "outputs": [],
   "source": [
    "batch= next(iter(train_loader))"
   ]
  },
  {
   "cell_type": "code",
   "execution_count": 5,
   "id": "b2925ccd-9dc5-4be4-a981-bdf71bd89af4",
   "metadata": {},
   "outputs": [
    {
     "data": {
      "text/plain": [
       "dict_keys(['src_lin', 'src_condition', 'tgt_lin'])"
      ]
     },
     "execution_count": 5,
     "metadata": {},
     "output_type": "execute_result"
    }
   ],
   "source": [
    "batch.keys()"
   ]
  },
  {
   "cell_type": "code",
   "execution_count": 6,
   "id": "dbc3feb4-c064-4c49-9cc7-8e4fa7b54b2d",
   "metadata": {},
   "outputs": [
    {
     "data": {
      "text/plain": [
       "tensor([[[ 0.0000, -0.3542, -0.2425,  ...,  0.0000,  0.0000, -0.2425],\n",
       "         [ 0.0000, -0.3542, -0.2425,  ...,  0.0000,  0.0000, -0.2425]]],\n",
       "       dtype=torch.float64)"
      ]
     },
     "execution_count": 6,
     "metadata": {},
     "output_type": "execute_result"
    }
   ],
   "source": [
    "batch['src_condition']"
   ]
  },
  {
   "cell_type": "code",
   "execution_count": 123,
   "id": "6b03a80c-0dfe-4556-b4c6-de1a2276f9d5",
   "metadata": {},
   "outputs": [],
   "source": [
    "arr = np.array([[2.0, 3.0, 1.0],\n",
    "                [0.0, 2.0, 0.0],\n",
    "                [0.0, 0.0, 0.0],\n",
    "                [0.0, 4.0, 0.0]])\n",
    "\n",
    "# Number of columns to check\n",
    "k = 3\n",
    "\n",
    "mask = np.all(arr[:, :k] == 0.0, axis=1)\n",
    "\n",
    "index = np.argmax(mask)"
   ]
  },
  {
   "cell_type": "code",
   "execution_count": 124,
   "id": "415ea9ee-479b-46f7-8771-0fbb83a0840d",
   "metadata": {},
   "outputs": [
    {
     "data": {
      "text/plain": [
       "array([False, False,  True, False])"
      ]
     },
     "execution_count": 124,
     "metadata": {},
     "output_type": "execute_result"
    }
   ],
   "source": [
    "mask"
   ]
  },
  {
   "cell_type": "code",
   "execution_count": 125,
   "id": "b78d18f7-ca83-4bb7-bf10-cdee7415a354",
   "metadata": {},
   "outputs": [
    {
     "data": {
      "text/plain": [
       "Array([[1, 1, 0, 1],\n",
       "       [1, 1, 0, 1],\n",
       "       [0, 0, 0, 0],\n",
       "       [1, 1, 0, 1]], dtype=int32)"
      ]
     },
     "execution_count": 125,
     "metadata": {},
     "output_type": "execute_result"
    }
   ],
   "source": [
    "mask = np.all(arr[:, :k] == 0.0, axis=1)\n",
    "mask = 1-mask\n",
    "mask = jnp.outer(mask, mask)\n",
    "mask"
   ]
  },
  {
   "cell_type": "code",
   "execution_count": 128,
   "id": "03798b8b-518f-4320-b78e-03b4c9ba8c38",
   "metadata": {},
   "outputs": [
    {
     "data": {
      "text/plain": [
       "Array([[1, 1, 0, 1],\n",
       "       [1, 1, 0, 1],\n",
       "       [0, 0, 0, 0],\n",
       "       [1, 1, 0, 1]], dtype=int32)"
      ]
     },
     "execution_count": 128,
     "metadata": {},
     "output_type": "execute_result"
    }
   ],
   "source": [
    "mask[:None]"
   ]
  },
  {
   "cell_type": "code",
   "execution_count": 327,
   "id": "dc9a2874-fe17-40c1-adb9-d857eed1a7ac",
   "metadata": {},
   "outputs": [],
   "source": [
    "a = jnp.ones((1,3))"
   ]
  },
  {
   "cell_type": "code",
   "execution_count": 328,
   "id": "c59d84f3-bc73-49de-8b8e-cd2fd0ecdc00",
   "metadata": {},
   "outputs": [
    {
     "data": {
      "text/plain": [
       "(1, 3)"
      ]
     },
     "execution_count": 328,
     "metadata": {},
     "output_type": "execute_result"
    }
   ],
   "source": [
    "a.shape\n"
   ]
  },
  {
   "cell_type": "code",
   "execution_count": 330,
   "id": "6cbe2cfd-535e-430a-99cb-8b491dcbd953",
   "metadata": {},
   "outputs": [
    {
     "data": {
      "text/plain": [
       "(3,)"
      ]
     },
     "execution_count": 330,
     "metadata": {},
     "output_type": "execute_result"
    }
   ],
   "source": [
    "jnp.squeeze(a).shape\n"
   ]
  },
  {
   "cell_type": "code",
   "execution_count": 261,
   "id": "d24604e3-0ffc-422c-a3ac-26a49fe2a1ee",
   "metadata": {},
   "outputs": [
    {
     "data": {
      "text/plain": [
       "()"
      ]
     },
     "execution_count": 261,
     "metadata": {},
     "output_type": "execute_result"
    }
   ],
   "source": [
    "a[0,...].shape"
   ]
  },
  {
   "cell_type": "code",
   "execution_count": 262,
   "id": "641d61b8-8509-4eeb-8b0f-3ff3543214bf",
   "metadata": {},
   "outputs": [
    {
     "data": {
      "text/plain": [
       "Array(0, dtype=int32)"
      ]
     },
     "execution_count": 262,
     "metadata": {},
     "output_type": "execute_result"
    }
   ],
   "source": [
    "jnp.int32(jnp.zeros(a[0,...].shape))"
   ]
  },
  {
   "cell_type": "code",
   "execution_count": 331,
   "id": "154a8c65-eeb3-41ca-867e-bff5a2a380e4",
   "metadata": {},
   "outputs": [],
   "source": [
    "from typing import Callable, Optional, Sequence, List\n",
    "\n",
    "import jax\n",
    "import jax.numpy as jnp\n",
    "\n",
    "import optax\n",
    "from flax import linen as nn\n",
    "from flax.training import train_state\n",
    "\n",
    "from ott.neural.networks.layers import time_encoder\n",
    "\n",
    "def get_masks(dataset: List[jnp.ndarray], max_seq_length: int, pad_max_dim: Optional[int] = None, pad_token=0):\n",
    "    # dataset should be of size [batch_size, max_seq_length, dim_concatenated_conditions]\n",
    "    # and the first `pad_max_dim` dimensions of `dim_concatenated_conditions` should contain 0.0\n",
    "    # if an element of the sequence is considered to be `None`\n",
    "    attention_mask = []\n",
    "    for data in dataset:\n",
    "        if data.ndim<2:\n",
    "            data = data[None, :]\n",
    "        if data.ndim<3:\n",
    "            data = data[None, :]\n",
    "        mask = np.all(data[:, :pad_max_dim, 0] == 0.0, axis=1)\n",
    "        mask = 1-mask\n",
    "        mask = jnp.outer(mask, mask)\n",
    "        attention_mask.append(mask)\n",
    "    return jnp.expand_dims(jnp.array(attention_mask), 1)\n",
    "\n",
    "\n",
    "\n",
    "class VelocityFieldWithAttention(nn.Module):\n",
    "    num_heads: int\n",
    "    qkv_feature_dim: int\n",
    "    max_seq_length: int\n",
    "    hidden_dims: Sequence[int]\n",
    "    output_dims: Sequence[int]\n",
    "    condition_dims: Optional[Sequence[int]] = None\n",
    "    time_dims: Optional[Sequence[int]] = None\n",
    "    time_encoder: Callable[[jnp.ndarray],\n",
    "                         jnp.ndarray] = time_encoder.cyclical_time_encoder\n",
    "    act_fn: Callable[[jnp.ndarray], jnp.ndarray] = nn.silu\n",
    "    pad_max_dim: int = -1\n",
    "\n",
    "    def __post_init__(self):\n",
    "        self.get_masks = jax.jit(functools.partial(get_masks, max_seq_length=self.max_seq_length+1, pad_max_dim=self.pad_max_dim))\n",
    "        super().__post_init__()\n",
    "\n",
    "\n",
    "    @nn.compact\n",
    "    def __call__(\n",
    "      self,\n",
    "      t: jnp.ndarray,\n",
    "      x: jnp.ndarray,\n",
    "      condition: Optional[jnp.ndarray] = None,\n",
    "    ) -> jnp.ndarray:\n",
    "        \"\"\"Forward pass through the neural vector field.\n",
    "        \n",
    "        Args:\n",
    "          t: Time of shape ``[batch, 1]``.\n",
    "          x: Data of shape ``[batch, ...]``.\n",
    "          condition: Conditioning vector of shape ``[batch, ...]``.\n",
    "        \n",
    "        Returns:\n",
    "          Output of the neural vector field of shape ``[batch, output_dim]``.\n",
    "        \"\"\"\n",
    "        squeeze_output = False\n",
    "        if x.ndim < 2:\n",
    "            x = x[None,:]\n",
    "            t = jnp.full(shape=(1, 1), fill_value=t)\n",
    "            condition = condition[None,:]\n",
    "            squeeze_output = True\n",
    "            \n",
    "        time_dims = self.hidden_dims if self.time_dims is None else self.time_dims\n",
    "        t = self.time_encoder(t)\n",
    "        for time_dim in time_dims:\n",
    "          t = self.act_fn(nn.Dense(time_dim)(t))\n",
    "        \n",
    "        for hidden_dim in self.hidden_dims:\n",
    "          x = self.act_fn(nn.Dense(hidden_dim)(x))\n",
    "    \n",
    "        assert condition is not None, \"No condition sequence was passed.\"\n",
    "\n",
    "        token_shape = (1,1) if condition.ndim > 2 else (1,)\n",
    "        class_token = nn.Embed(num_embeddings=1, features=condition.shape[-1])(jnp.int32(jnp.zeros(token_shape)))\n",
    "        \n",
    "        condition = jnp.concatenate((class_token, condition), axis=-2)\n",
    "        mask = self.get_masks(condition) \n",
    "            \n",
    "        query = nn.Dense(self.qkv_feature_dim, use_bias=False)(condition)\n",
    "        key = nn.Dense(self.qkv_feature_dim, use_bias=False)(condition)\n",
    "        value = nn.Dense(self.qkv_feature_dim, use_bias=False)(condition)\n",
    " \n",
    "        attention = nn.MultiHeadDotProductAttention(num_heads=self.num_heads, qkv_features=self.qkv_feature_dim)\n",
    "        emb = attention(query, key, value, mask=mask)\n",
    "        emb = emb[:,0,:] # only continue with token 0\n",
    "        \n",
    "        for cond_dim in self.condition_dims:\n",
    "            condition = self.act_fn(nn.Dense(cond_dim)(emb))\n",
    "    \n",
    "        \n",
    "        feats = jnp.concatenate([t, x, condition], axis=1)\n",
    "        \n",
    "        for output_dim in self.output_dims[:-1]:\n",
    "          feats = self.act_fn(nn.Dense(output_dim)(feats))\n",
    "        \n",
    "        # no activation function for the final layer\n",
    "        out =  nn.Dense(self.output_dims[-1])(feats)\n",
    "        return jnp.squeeze(out) if squeeze_output else out\n",
    "\n",
    "    def create_train_state(\n",
    "          self,\n",
    "          rng: jax.Array,\n",
    "          optimizer: optax.OptState,\n",
    "          input_dim: int,\n",
    "          condition_dim: Optional[int] = None,\n",
    "      ) -> train_state.TrainState:\n",
    "        \"\"\"Create the training state.\n",
    "    \n",
    "        Args:\n",
    "          rng: Random number generator.\n",
    "          optimizer: Optimizer.\n",
    "          input_dim: Dimensionality of the velocity field.\n",
    "          condition_dim: Dimensionality of the condition of the velocity field.\n",
    "    \n",
    "        Returns:\n",
    "          The training state.\n",
    "        \"\"\"\n",
    "        t, x = jnp.ones((1, 1)), jnp.ones((1, input_dim))\n",
    "        if self.condition_dims is None:\n",
    "          cond = None\n",
    "        else:\n",
    "          assert condition_dim > 0, \"Condition dimension must be positive.\"\n",
    "          cond = jnp.ones((1, 1, condition_dim))\n",
    "    \n",
    "        params = self.init(rng, t, x, cond)[\"params\"]\n",
    "        return train_state.TrainState.create(\n",
    "            apply_fn=self.apply, params=params, tx=optimizer\n",
    "        )"
   ]
  },
  {
   "cell_type": "code",
   "execution_count": 332,
   "id": "56be1259-b057-4c02-a36e-e80d4ab1b19d",
   "metadata": {},
   "outputs": [],
   "source": [
    "source_dim = source.shape[1]\n",
    "target_dim = source_dim\n",
    "condition_dim = condition_1.shape[1]\n",
    "\n",
    "vf = VelocityFieldWithAttention(\n",
    "    num_heads=1,\n",
    "    qkv_feature_dim=32,\n",
    "    max_seq_length=2,\n",
    "    hidden_dims=[512, 512, 512],\n",
    "    output_dims=[512, 512, target_dim],\n",
    "    condition_dims=[512, 512, 512],\n",
    "    time_encoder = functools.partial(time_encoder.cyclical_time_encoder, n_freqs=1024),\n",
    "    )\n"
   ]
  },
  {
   "cell_type": "code",
   "execution_count": 333,
   "id": "19983d1b-e1ad-4a3c-8a2e-c7070fe024b8",
   "metadata": {},
   "outputs": [],
   "source": [
    "from flax.linen import Embed"
   ]
  },
  {
   "cell_type": "code",
   "execution_count": 382,
   "id": "73553bdd-0f28-4291-8a79-b997ce4aa93a",
   "metadata": {},
   "outputs": [],
   "source": [
    "model = otfm.OTFlowMatching(vf,\n",
    "    flow=dynamics.ConstantNoiseFlow(0.0),\n",
    "    match_fn=jax.jit(functools.partial(data_match_fn, typ=\"lin\", src_quad=None, tgt_quad=None)),\n",
    "    condition_dim=condition_dim,\n",
    "    rng=jax.random.PRNGKey(13),\n",
    "    optimizer=optax.adam(learning_rate=1e-4),)"
   ]
  },
  {
   "cell_type": "code",
   "execution_count": 383,
   "id": "a5e7340b-9955-4fab-8734-4b631e4cddcc",
   "metadata": {},
   "outputs": [],
   "source": [
    "training_logs = {\"loss\": []}\n",
    "s_divs_valid = []\n",
    "valid_freq = 1000"
   ]
  },
  {
   "cell_type": "code",
   "execution_count": 384,
   "id": "47821b9f-79fc-4174-b30e-2a37f47217ae",
   "metadata": {},
   "outputs": [
    {
     "name": "stderr",
     "output_type": "stream",
     "text": [
      "100%|██████████| 5000/5000 [11:12<00:00,  7.43it/s]  \n"
     ]
    }
   ],
   "source": [
    "import jax.tree_util as jtu\n",
    "\n",
    "\n",
    "rng = jax.random.PRNGKey(0)\n",
    "for it in tqdm(range(5000)):\n",
    "    \n",
    "    rng, rng_resample, rng_step_fn = jax.random.split(rng, 3)\n",
    "    batch = next(iter(train_loader))\n",
    "    batch = jtu.tree_map(jnp.asarray, batch)\n",
    "\n",
    "    src, tgt = batch[\"src_lin\"], batch[\"tgt_lin\"]\n",
    "    src_cond = batch.get(\"src_condition\")\n",
    "\n",
    "    if model.match_fn is not None:\n",
    "        tmat = model.match_fn(src, tgt)\n",
    "        src_ixs, tgt_ixs = solver_utils.sample_joint(rng_resample, tmat)\n",
    "        src, tgt = src[src_ixs], tgt[tgt_ixs]\n",
    "        src_cond = None if src_cond is None else src_cond[src_ixs]\n",
    "\n",
    "    model.vf_state, loss = model.step_fn(\n",
    "        rng_step_fn,\n",
    "        model.vf_state,\n",
    "        src,\n",
    "        tgt,\n",
    "        src_cond,\n",
    "    )\n",
    "\n",
    "    training_logs[\"loss\"].append(float(loss))\n",
    "    if it % valid_freq == 0:\n",
    "        \n",
    "        predicted_target_test = jax.tree_util.tree_map(model.transport, test_data_source, test_data_conditions)\n",
    "        s_divs = jax.tree_util.tree_map(compute_sinkhorn_div, predicted_target_test, test_data_target)\n",
    "        s_divs_valid.append(s_divs)"
   ]
  },
  {
   "cell_type": "code",
   "execution_count": 385,
   "id": "73610244-e6e9-4de4-8b9c-088dca26a131",
   "metadata": {},
   "outputs": [
    {
     "data": {
      "text/plain": [
       "[<matplotlib.lines.Line2D at 0x7f2ad7a8dac0>]"
      ]
     },
     "execution_count": 385,
     "metadata": {},
     "output_type": "execute_result"
    },
    {
     "data": {
      "image/png": "[encoded data removed]",
      "text/plain": [
       "<Figure size 640x480 with 1 Axes>"
      ]
     },
     "metadata": {},
     "output_type": "display_data"
    }
   ],
   "source": [
    "import matplotlib.pyplot as plt\n",
    "\n",
    "plt.plot(np.arange(len(training_logs[\"loss\"])),training_logs[\"loss\"]) "
   ]
  },
  {
   "cell_type": "code",
   "execution_count": null,
   "id": "094ca7ce-a50c-432d-928e-913574463387",
   "metadata": {},
   "outputs": [],
   "source": []
  },
  {
   "cell_type": "code",
   "execution_count": 221,
   "id": "430a9884-8355-4956-81b2-8b6481e4574f",
   "metadata": {},
   "outputs": [
    {
     "name": "stderr",
     "output_type": "stream",
     "text": [
      "/home/icb/dominik.klein/mambaforge/envs/ot_pert_genot/lib/python3.12/site-packages/anndata/__init__.py:51: FutureWarning: `anndata.read` is deprecated, use `anndata.read_h5ad` instead. `ad.read` will be removed in mid 2024.\n",
      "  warnings.warn(\n"
     ]
    }
   ],
   "source": [
    "test_data_source = {}\n",
    "test_data_target = {}\n",
    "test_data_conditions = {}\n",
    "adata_test = sc.read(\"/lustre/groups/ml01/workspace/ot_perturbation/data/combosciplex/adata_test.h5ad\")\n",
    "source = adata_test[adata_test.obs[\"condition\"]==\"control\"].obsm[\"X_pca\"]\n",
    "for cond in adata_test.obs[\"condition\"].cat.categories:\n",
    "    if cond == \"control\":\n",
    "        continue\n",
    "    target = adata_test[adata_test.obs[\"condition\"]==cond].obsm[\"X_pca\"]\n",
    "    condition_1 = adata_test[adata_test.obs[\"condition\"]==cond].obsm[\"ecfp_drug_1\"]\n",
    "    condition_2 = adata_test[adata_test.obs[\"condition\"]==cond].obsm[\"ecfp_drug_2\"]\n",
    "    assert np.all(np.all(condition_1 == condition_1[0], axis=1))\n",
    "    assert np.all(np.all(condition_2 == condition_2[0], axis=1))\n",
    "    expanded_arr = np.expand_dims(np.concatenate((condition_1[0,:][None,:],condition_2[0,:][None,:]), axis=0), axis=0)\n",
    "    conds = np.tile(expanded_arr, (len(source), 1, 1))\n",
    "    test_data_source[cond] = source\n",
    "    test_data_target[cond] = target\n",
    "    test_data_conditions[cond] = conds"
   ]
  },
  {
   "cell_type": "code",
   "execution_count": 396,
   "id": "f627173f-c72f-45c7-830c-4924615be341",
   "metadata": {},
   "outputs": [
    {
     "data": {
      "text/html": [
       "<div>\n",
       "<style scoped>\n",
       "    .dataframe tbody tr th:only-of-type {\n",
       "        vertical-align: middle;\n",
       "    }\n",
       "\n",
       "    .dataframe tbody tr th {\n",
       "        vertical-align: top;\n",
       "    }\n",
       "\n",
       "    .dataframe thead th {\n",
       "        text-align: right;\n",
       "    }\n",
       "</style>\n",
       "<table border=\"1\" class=\"dataframe\">\n",
       "  <thead>\n",
       "    <tr style=\"text-align: right;\">\n",
       "      <th></th>\n",
       "      <th>sample</th>\n",
       "      <th>Size_Factor</th>\n",
       "      <th>n.umi</th>\n",
       "      <th>RT_well</th>\n",
       "      <th>Drug1</th>\n",
       "      <th>Drug2</th>\n",
       "      <th>Well</th>\n",
       "      <th>n_genes</th>\n",
       "      <th>n_genes_by_counts</th>\n",
       "      <th>total_counts</th>\n",
       "      <th>...</th>\n",
       "      <th>condition</th>\n",
       "      <th>pathway1</th>\n",
       "      <th>pathway2</th>\n",
       "      <th>split</th>\n",
       "      <th>control</th>\n",
       "      <th>cell_type</th>\n",
       "      <th>perturbation</th>\n",
       "      <th>cell_line</th>\n",
       "      <th>smiles_drug_1</th>\n",
       "      <th>smiles_drug_2</th>\n",
       "    </tr>\n",
       "    <tr>\n",
       "      <th>Cell</th>\n",
       "      <th></th>\n",
       "      <th></th>\n",
       "      <th></th>\n",
       "      <th></th>\n",
       "      <th></th>\n",
       "      <th></th>\n",
       "      <th></th>\n",
       "      <th></th>\n",
       "      <th></th>\n",
       "      <th></th>\n",
       "      <th></th>\n",
       "      <th></th>\n",
       "      <th></th>\n",
       "      <th></th>\n",
       "      <th></th>\n",
       "      <th></th>\n",
       "      <th></th>\n",
       "      <th></th>\n",
       "      <th></th>\n",
       "      <th></th>\n",
       "      <th></th>\n",
       "    </tr>\n",
       "  </thead>\n",
       "  <tbody>\n",
       "    <tr>\n",
       "      <th>A01_A02_RT_BC_16_Lig_BC_2</th>\n",
       "      <td>sciPlex_theis</td>\n",
       "      <td>1.298964</td>\n",
       "      <td>3487</td>\n",
       "      <td>RT_16</td>\n",
       "      <td>Givinostat</td>\n",
       "      <td>SRT1720</td>\n",
       "      <td>B4</td>\n",
       "      <td>2154</td>\n",
       "      <td>2152</td>\n",
       "      <td>3485.0</td>\n",
       "      <td>...</td>\n",
       "      <td>Givinostat+SRT1720</td>\n",
       "      <td>HDAC inhibitor</td>\n",
       "      <td>Sirtuin inhibitor</td>\n",
       "      <td>train</td>\n",
       "      <td>0</td>\n",
       "      <td>A549</td>\n",
       "      <td>Givinostat+SRT1720</td>\n",
       "      <td>A549</td>\n",
       "      <td>CCN(CC)CC1=CC2=C(C=C1)C=C(C=C2)COC(=O)NC3=CC=C...</td>\n",
       "      <td>C1CN(CCN1)CC2=CSC3=NC(=CN23)C4=CC=CC=C4NC(=O)C...</td>\n",
       "    </tr>\n",
       "    <tr>\n",
       "      <th>A01_A02_RT_BC_16_Lig_BC_47</th>\n",
       "      <td>sciPlex_theis</td>\n",
       "      <td>0.638120</td>\n",
       "      <td>1713</td>\n",
       "      <td>RT_16</td>\n",
       "      <td>Givinostat</td>\n",
       "      <td>SRT1720</td>\n",
       "      <td>B4</td>\n",
       "      <td>1281</td>\n",
       "      <td>1281</td>\n",
       "      <td>1713.0</td>\n",
       "      <td>...</td>\n",
       "      <td>Givinostat+SRT1720</td>\n",
       "      <td>HDAC inhibitor</td>\n",
       "      <td>Sirtuin inhibitor</td>\n",
       "      <td>train</td>\n",
       "      <td>0</td>\n",
       "      <td>A549</td>\n",
       "      <td>Givinostat+SRT1720</td>\n",
       "      <td>A549</td>\n",
       "      <td>CCN(CC)CC1=CC2=C(C=C1)C=C(C=C2)COC(=O)NC3=CC=C...</td>\n",
       "      <td>C1CN(CCN1)CC2=CSC3=NC(=CN23)C4=CC=CC=C4NC(=O)C...</td>\n",
       "    </tr>\n",
       "    <tr>\n",
       "      <th>A01_A02_RT_BC_16_Lig_BC_55</th>\n",
       "      <td>sciPlex_theis</td>\n",
       "      <td>0.636630</td>\n",
       "      <td>1709</td>\n",
       "      <td>RT_16</td>\n",
       "      <td>Givinostat</td>\n",
       "      <td>SRT1720</td>\n",
       "      <td>B4</td>\n",
       "      <td>1269</td>\n",
       "      <td>1268</td>\n",
       "      <td>1708.0</td>\n",
       "      <td>...</td>\n",
       "      <td>Givinostat+SRT1720</td>\n",
       "      <td>HDAC inhibitor</td>\n",
       "      <td>Sirtuin inhibitor</td>\n",
       "      <td>train</td>\n",
       "      <td>0</td>\n",
       "      <td>A549</td>\n",
       "      <td>Givinostat+SRT1720</td>\n",
       "      <td>A549</td>\n",
       "      <td>CCN(CC)CC1=CC2=C(C=C1)C=C(C=C2)COC(=O)NC3=CC=C...</td>\n",
       "      <td>C1CN(CCN1)CC2=CSC3=NC(=CN23)C4=CC=CC=C4NC(=O)C...</td>\n",
       "    </tr>\n",
       "    <tr>\n",
       "      <th>A01_A02_RT_BC_16_Lig_BC_57</th>\n",
       "      <td>sciPlex_theis</td>\n",
       "      <td>3.330295</td>\n",
       "      <td>8940</td>\n",
       "      <td>RT_16</td>\n",
       "      <td>Givinostat</td>\n",
       "      <td>SRT1720</td>\n",
       "      <td>B4</td>\n",
       "      <td>4199</td>\n",
       "      <td>4198</td>\n",
       "      <td>8939.0</td>\n",
       "      <td>...</td>\n",
       "      <td>Givinostat+SRT1720</td>\n",
       "      <td>HDAC inhibitor</td>\n",
       "      <td>Sirtuin inhibitor</td>\n",
       "      <td>train</td>\n",
       "      <td>0</td>\n",
       "      <td>A549</td>\n",
       "      <td>Givinostat+SRT1720</td>\n",
       "      <td>A549</td>\n",
       "      <td>CCN(CC)CC1=CC2=C(C=C1)C=C(C=C2)COC(=O)NC3=CC=C...</td>\n",
       "      <td>C1CN(CCN1)CC2=CSC3=NC(=CN23)C4=CC=CC=C4NC(=O)C...</td>\n",
       "    </tr>\n",
       "    <tr>\n",
       "      <th>A01_A02_RT_BC_16_Lig_BC_6</th>\n",
       "      <td>sciPlex_theis</td>\n",
       "      <td>0.847474</td>\n",
       "      <td>2275</td>\n",
       "      <td>RT_16</td>\n",
       "      <td>Givinostat</td>\n",
       "      <td>SRT1720</td>\n",
       "      <td>B4</td>\n",
       "      <td>1584</td>\n",
       "      <td>1581</td>\n",
       "      <td>2272.0</td>\n",
       "      <td>...</td>\n",
       "      <td>Givinostat+SRT1720</td>\n",
       "      <td>HDAC inhibitor</td>\n",
       "      <td>Sirtuin inhibitor</td>\n",
       "      <td>train</td>\n",
       "      <td>0</td>\n",
       "      <td>A549</td>\n",
       "      <td>Givinostat+SRT1720</td>\n",
       "      <td>A549</td>\n",
       "      <td>CCN(CC)CC1=CC2=C(C=C1)C=C(C=C2)COC(=O)NC3=CC=C...</td>\n",
       "      <td>C1CN(CCN1)CC2=CSC3=NC(=CN23)C4=CC=CC=C4NC(=O)C...</td>\n",
       "    </tr>\n",
       "    <tr>\n",
       "      <th>...</th>\n",
       "      <td>...</td>\n",
       "      <td>...</td>\n",
       "      <td>...</td>\n",
       "      <td>...</td>\n",
       "      <td>...</td>\n",
       "      <td>...</td>\n",
       "      <td>...</td>\n",
       "      <td>...</td>\n",
       "      <td>...</td>\n",
       "      <td>...</td>\n",
       "      <td>...</td>\n",
       "      <td>...</td>\n",
       "      <td>...</td>\n",
       "      <td>...</td>\n",
       "      <td>...</td>\n",
       "      <td>...</td>\n",
       "      <td>...</td>\n",
       "      <td>...</td>\n",
       "      <td>...</td>\n",
       "      <td>...</td>\n",
       "      <td>...</td>\n",
       "    </tr>\n",
       "    <tr>\n",
       "      <th>H12_A02_RT_BC_90_Lig_BC_36</th>\n",
       "      <td>sciPlex_theis</td>\n",
       "      <td>0.626572</td>\n",
       "      <td>1682</td>\n",
       "      <td>RT_90</td>\n",
       "      <td>Givinostat</td>\n",
       "      <td>Crizotinib</td>\n",
       "      <td>H6</td>\n",
       "      <td>1225</td>\n",
       "      <td>1224</td>\n",
       "      <td>1681.0</td>\n",
       "      <td>...</td>\n",
       "      <td>Givinostat+Crizotinib</td>\n",
       "      <td>HDAC inhibitor</td>\n",
       "      <td>EGFR inhibitor</td>\n",
       "      <td>test</td>\n",
       "      <td>0</td>\n",
       "      <td>A549</td>\n",
       "      <td>Givinostat+Crizotinib</td>\n",
       "      <td>A549</td>\n",
       "      <td>CCN(CC)CC1=CC2=C(C=C1)C=C(C=C2)COC(=O)NC3=CC=C...</td>\n",
       "      <td>C[C@H](C1=C(C=CC(=C1Cl)F)Cl)OC2=C(N=CC(=C2)C3=...</td>\n",
       "    </tr>\n",
       "    <tr>\n",
       "      <th>H12_A02_RT_BC_90_Lig_BC_5</th>\n",
       "      <td>sciPlex_theis</td>\n",
       "      <td>2.903764</td>\n",
       "      <td>7795</td>\n",
       "      <td>RT_90</td>\n",
       "      <td>Givinostat</td>\n",
       "      <td>Crizotinib</td>\n",
       "      <td>H6</td>\n",
       "      <td>3667</td>\n",
       "      <td>3663</td>\n",
       "      <td>7791.0</td>\n",
       "      <td>...</td>\n",
       "      <td>Givinostat+Crizotinib</td>\n",
       "      <td>HDAC inhibitor</td>\n",
       "      <td>EGFR inhibitor</td>\n",
       "      <td>test</td>\n",
       "      <td>0</td>\n",
       "      <td>A549</td>\n",
       "      <td>Givinostat+Crizotinib</td>\n",
       "      <td>A549</td>\n",
       "      <td>CCN(CC)CC1=CC2=C(C=C1)C=C(C=C2)COC(=O)NC3=CC=C...</td>\n",
       "      <td>C[C@H](C1=C(C=CC(=C1Cl)F)Cl)OC2=C(N=CC(=C2)C3=...</td>\n",
       "    </tr>\n",
       "    <tr>\n",
       "      <th>H12_A02_RT_BC_90_Lig_BC_96</th>\n",
       "      <td>sciPlex_theis</td>\n",
       "      <td>0.660844</td>\n",
       "      <td>1774</td>\n",
       "      <td>RT_90</td>\n",
       "      <td>Givinostat</td>\n",
       "      <td>Crizotinib</td>\n",
       "      <td>H6</td>\n",
       "      <td>1315</td>\n",
       "      <td>1313</td>\n",
       "      <td>1772.0</td>\n",
       "      <td>...</td>\n",
       "      <td>Givinostat+Crizotinib</td>\n",
       "      <td>HDAC inhibitor</td>\n",
       "      <td>EGFR inhibitor</td>\n",
       "      <td>test</td>\n",
       "      <td>0</td>\n",
       "      <td>A549</td>\n",
       "      <td>Givinostat+Crizotinib</td>\n",
       "      <td>A549</td>\n",
       "      <td>CCN(CC)CC1=CC2=C(C=C1)C=C(C=C2)COC(=O)NC3=CC=C...</td>\n",
       "      <td>C[C@H](C1=C(C=CC(=C1Cl)F)Cl)OC2=C(N=CC(=C2)C3=...</td>\n",
       "    </tr>\n",
       "    <tr>\n",
       "      <th>H12_A02_RT_BC_94_Lig_BC_60</th>\n",
       "      <td>sciPlex_theis</td>\n",
       "      <td>1.517259</td>\n",
       "      <td>4073</td>\n",
       "      <td>RT_94</td>\n",
       "      <td>control</td>\n",
       "      <td>Dasatinib</td>\n",
       "      <td>H10</td>\n",
       "      <td>2472</td>\n",
       "      <td>2472</td>\n",
       "      <td>4073.0</td>\n",
       "      <td>...</td>\n",
       "      <td>control+Dasatinib</td>\n",
       "      <td>Vehicle</td>\n",
       "      <td>EGFR inhibitor</td>\n",
       "      <td>test</td>\n",
       "      <td>0</td>\n",
       "      <td>A549</td>\n",
       "      <td>control+Dasatinib</td>\n",
       "      <td>A549</td>\n",
       "      <td>NaN</td>\n",
       "      <td>CC1=C(C(=CC=C1)Cl)NC(=O)C2=CN=C(S2)NC3=CC(=NC(...</td>\n",
       "    </tr>\n",
       "    <tr>\n",
       "      <th>H12_A02_RT_BC_94_Lig_BC_75</th>\n",
       "      <td>sciPlex_theis</td>\n",
       "      <td>1.225206</td>\n",
       "      <td>3289</td>\n",
       "      <td>RT_94</td>\n",
       "      <td>control</td>\n",
       "      <td>Dasatinib</td>\n",
       "      <td>H10</td>\n",
       "      <td>2154</td>\n",
       "      <td>2154</td>\n",
       "      <td>3289.0</td>\n",
       "      <td>...</td>\n",
       "      <td>control+Dasatinib</td>\n",
       "      <td>Vehicle</td>\n",
       "      <td>EGFR inhibitor</td>\n",
       "      <td>test</td>\n",
       "      <td>0</td>\n",
       "      <td>A549</td>\n",
       "      <td>control+Dasatinib</td>\n",
       "      <td>A549</td>\n",
       "      <td>NaN</td>\n",
       "      <td>CC1=C(C(=CC=C1)Cl)NC(=O)C2=CN=C(S2)NC3=CC(=NC(...</td>\n",
       "    </tr>\n",
       "  </tbody>\n",
       "</table>\n",
       "<p>11877 rows × 23 columns</p>\n",
       "</div>"
      ],
      "text/plain": [
       "                                   sample  Size_Factor  n.umi RT_well  \\\n",
       "Cell                                                                    \n",
       "A01_A02_RT_BC_16_Lig_BC_2   sciPlex_theis     1.298964   3487   RT_16   \n",
       "A01_A02_RT_BC_16_Lig_BC_47  sciPlex_theis     0.638120   1713   RT_16   \n",
       "A01_A02_RT_BC_16_Lig_BC_55  sciPlex_theis     0.636630   1709   RT_16   \n",
       "A01_A02_RT_BC_16_Lig_BC_57  sciPlex_theis     3.330295   8940   RT_16   \n",
       "A01_A02_RT_BC_16_Lig_BC_6   sciPlex_theis     0.847474   2275   RT_16   \n",
       "...                                   ...          ...    ...     ...   \n",
       "H12_A02_RT_BC_90_Lig_BC_36  sciPlex_theis     0.626572   1682   RT_90   \n",
       "H12_A02_RT_BC_90_Lig_BC_5   sciPlex_theis     2.903764   7795   RT_90   \n",
       "H12_A02_RT_BC_90_Lig_BC_96  sciPlex_theis     0.660844   1774   RT_90   \n",
       "H12_A02_RT_BC_94_Lig_BC_60  sciPlex_theis     1.517259   4073   RT_94   \n",
       "H12_A02_RT_BC_94_Lig_BC_75  sciPlex_theis     1.225206   3289   RT_94   \n",
       "\n",
       "                                 Drug1       Drug2 Well  n_genes  \\\n",
       "Cell                                                               \n",
       "A01_A02_RT_BC_16_Lig_BC_2   Givinostat     SRT1720   B4     2154   \n",
       "A01_A02_RT_BC_16_Lig_BC_47  Givinostat     SRT1720   B4     1281   \n",
       "A01_A02_RT_BC_16_Lig_BC_55  Givinostat     SRT1720   B4     1269   \n",
       "A01_A02_RT_BC_16_Lig_BC_57  Givinostat     SRT1720   B4     4199   \n",
       "A01_A02_RT_BC_16_Lig_BC_6   Givinostat     SRT1720   B4     1584   \n",
       "...                                ...         ...  ...      ...   \n",
       "H12_A02_RT_BC_90_Lig_BC_36  Givinostat  Crizotinib   H6     1225   \n",
       "H12_A02_RT_BC_90_Lig_BC_5   Givinostat  Crizotinib   H6     3667   \n",
       "H12_A02_RT_BC_90_Lig_BC_96  Givinostat  Crizotinib   H6     1315   \n",
       "H12_A02_RT_BC_94_Lig_BC_60     control   Dasatinib  H10     2472   \n",
       "H12_A02_RT_BC_94_Lig_BC_75     control   Dasatinib  H10     2154   \n",
       "\n",
       "                            n_genes_by_counts  total_counts  ...  \\\n",
       "Cell                                                         ...   \n",
       "A01_A02_RT_BC_16_Lig_BC_2                2152        3485.0  ...   \n",
       "A01_A02_RT_BC_16_Lig_BC_47               1281        1713.0  ...   \n",
       "A01_A02_RT_BC_16_Lig_BC_55               1268        1708.0  ...   \n",
       "A01_A02_RT_BC_16_Lig_BC_57               4198        8939.0  ...   \n",
       "A01_A02_RT_BC_16_Lig_BC_6                1581        2272.0  ...   \n",
       "...                                       ...           ...  ...   \n",
       "H12_A02_RT_BC_90_Lig_BC_36               1224        1681.0  ...   \n",
       "H12_A02_RT_BC_90_Lig_BC_5                3663        7791.0  ...   \n",
       "H12_A02_RT_BC_90_Lig_BC_96               1313        1772.0  ...   \n",
       "H12_A02_RT_BC_94_Lig_BC_60               2472        4073.0  ...   \n",
       "H12_A02_RT_BC_94_Lig_BC_75               2154        3289.0  ...   \n",
       "\n",
       "                                        condition        pathway1  \\\n",
       "Cell                                                                \n",
       "A01_A02_RT_BC_16_Lig_BC_2      Givinostat+SRT1720  HDAC inhibitor   \n",
       "A01_A02_RT_BC_16_Lig_BC_47     Givinostat+SRT1720  HDAC inhibitor   \n",
       "A01_A02_RT_BC_16_Lig_BC_55     Givinostat+SRT1720  HDAC inhibitor   \n",
       "A01_A02_RT_BC_16_Lig_BC_57     Givinostat+SRT1720  HDAC inhibitor   \n",
       "A01_A02_RT_BC_16_Lig_BC_6      Givinostat+SRT1720  HDAC inhibitor   \n",
       "...                                           ...             ...   \n",
       "H12_A02_RT_BC_90_Lig_BC_36  Givinostat+Crizotinib  HDAC inhibitor   \n",
       "H12_A02_RT_BC_90_Lig_BC_5   Givinostat+Crizotinib  HDAC inhibitor   \n",
       "H12_A02_RT_BC_90_Lig_BC_96  Givinostat+Crizotinib  HDAC inhibitor   \n",
       "H12_A02_RT_BC_94_Lig_BC_60      control+Dasatinib         Vehicle   \n",
       "H12_A02_RT_BC_94_Lig_BC_75      control+Dasatinib         Vehicle   \n",
       "\n",
       "                                     pathway2  split control cell_type  \\\n",
       "Cell                                                                     \n",
       "A01_A02_RT_BC_16_Lig_BC_2   Sirtuin inhibitor  train       0      A549   \n",
       "A01_A02_RT_BC_16_Lig_BC_47  Sirtuin inhibitor  train       0      A549   \n",
       "A01_A02_RT_BC_16_Lig_BC_55  Sirtuin inhibitor  train       0      A549   \n",
       "A01_A02_RT_BC_16_Lig_BC_57  Sirtuin inhibitor  train       0      A549   \n",
       "A01_A02_RT_BC_16_Lig_BC_6   Sirtuin inhibitor  train       0      A549   \n",
       "...                                       ...    ...     ...       ...   \n",
       "H12_A02_RT_BC_90_Lig_BC_36     EGFR inhibitor   test       0      A549   \n",
       "H12_A02_RT_BC_90_Lig_BC_5      EGFR inhibitor   test       0      A549   \n",
       "H12_A02_RT_BC_90_Lig_BC_96     EGFR inhibitor   test       0      A549   \n",
       "H12_A02_RT_BC_94_Lig_BC_60     EGFR inhibitor   test       0      A549   \n",
       "H12_A02_RT_BC_94_Lig_BC_75     EGFR inhibitor   test       0      A549   \n",
       "\n",
       "                                     perturbation  cell_line  \\\n",
       "Cell                                                           \n",
       "A01_A02_RT_BC_16_Lig_BC_2      Givinostat+SRT1720       A549   \n",
       "A01_A02_RT_BC_16_Lig_BC_47     Givinostat+SRT1720       A549   \n",
       "A01_A02_RT_BC_16_Lig_BC_55     Givinostat+SRT1720       A549   \n",
       "A01_A02_RT_BC_16_Lig_BC_57     Givinostat+SRT1720       A549   \n",
       "A01_A02_RT_BC_16_Lig_BC_6      Givinostat+SRT1720       A549   \n",
       "...                                           ...        ...   \n",
       "H12_A02_RT_BC_90_Lig_BC_36  Givinostat+Crizotinib       A549   \n",
       "H12_A02_RT_BC_90_Lig_BC_5   Givinostat+Crizotinib       A549   \n",
       "H12_A02_RT_BC_90_Lig_BC_96  Givinostat+Crizotinib       A549   \n",
       "H12_A02_RT_BC_94_Lig_BC_60      control+Dasatinib       A549   \n",
       "H12_A02_RT_BC_94_Lig_BC_75      control+Dasatinib       A549   \n",
       "\n",
       "                                                                smiles_drug_1  \\\n",
       "Cell                                                                            \n",
       "A01_A02_RT_BC_16_Lig_BC_2   CCN(CC)CC1=CC2=C(C=C1)C=C(C=C2)COC(=O)NC3=CC=C...   \n",
       "A01_A02_RT_BC_16_Lig_BC_47  CCN(CC)CC1=CC2=C(C=C1)C=C(C=C2)COC(=O)NC3=CC=C...   \n",
       "A01_A02_RT_BC_16_Lig_BC_55  CCN(CC)CC1=CC2=C(C=C1)C=C(C=C2)COC(=O)NC3=CC=C...   \n",
       "A01_A02_RT_BC_16_Lig_BC_57  CCN(CC)CC1=CC2=C(C=C1)C=C(C=C2)COC(=O)NC3=CC=C...   \n",
       "A01_A02_RT_BC_16_Lig_BC_6   CCN(CC)CC1=CC2=C(C=C1)C=C(C=C2)COC(=O)NC3=CC=C...   \n",
       "...                                                                       ...   \n",
       "H12_A02_RT_BC_90_Lig_BC_36  CCN(CC)CC1=CC2=C(C=C1)C=C(C=C2)COC(=O)NC3=CC=C...   \n",
       "H12_A02_RT_BC_90_Lig_BC_5   CCN(CC)CC1=CC2=C(C=C1)C=C(C=C2)COC(=O)NC3=CC=C...   \n",
       "H12_A02_RT_BC_90_Lig_BC_96  CCN(CC)CC1=CC2=C(C=C1)C=C(C=C2)COC(=O)NC3=CC=C...   \n",
       "H12_A02_RT_BC_94_Lig_BC_60                                                NaN   \n",
       "H12_A02_RT_BC_94_Lig_BC_75                                                NaN   \n",
       "\n",
       "                                                                smiles_drug_2  \n",
       "Cell                                                                           \n",
       "A01_A02_RT_BC_16_Lig_BC_2   C1CN(CCN1)CC2=CSC3=NC(=CN23)C4=CC=CC=C4NC(=O)C...  \n",
       "A01_A02_RT_BC_16_Lig_BC_47  C1CN(CCN1)CC2=CSC3=NC(=CN23)C4=CC=CC=C4NC(=O)C...  \n",
       "A01_A02_RT_BC_16_Lig_BC_55  C1CN(CCN1)CC2=CSC3=NC(=CN23)C4=CC=CC=C4NC(=O)C...  \n",
       "A01_A02_RT_BC_16_Lig_BC_57  C1CN(CCN1)CC2=CSC3=NC(=CN23)C4=CC=CC=C4NC(=O)C...  \n",
       "A01_A02_RT_BC_16_Lig_BC_6   C1CN(CCN1)CC2=CSC3=NC(=CN23)C4=CC=CC=C4NC(=O)C...  \n",
       "...                                                                       ...  \n",
       "H12_A02_RT_BC_90_Lig_BC_36  C[C@H](C1=C(C=CC(=C1Cl)F)Cl)OC2=C(N=CC(=C2)C3=...  \n",
       "H12_A02_RT_BC_90_Lig_BC_5   C[C@H](C1=C(C=CC(=C1Cl)F)Cl)OC2=C(N=CC(=C2)C3=...  \n",
       "H12_A02_RT_BC_90_Lig_BC_96  C[C@H](C1=C(C=CC(=C1Cl)F)Cl)OC2=C(N=CC(=C2)C3=...  \n",
       "H12_A02_RT_BC_94_Lig_BC_60  CC1=C(C(=CC=C1)Cl)NC(=O)C2=CN=C(S2)NC3=CC(=NC(...  \n",
       "H12_A02_RT_BC_94_Lig_BC_75  CC1=C(C(=CC=C1)Cl)NC(=O)C2=CN=C(S2)NC3=CC(=NC(...  \n",
       "\n",
       "[11877 rows x 23 columns]"
      ]
     },
     "execution_count": 396,
     "metadata": {},
     "output_type": "execute_result"
    }
   ],
   "source": [
    "adata_test.obs"
   ]
  },
  {
   "cell_type": "code",
   "execution_count": 386,
   "id": "8a8817e3-36d3-46d0-82b5-53bb167382ed",
   "metadata": {},
   "outputs": [],
   "source": [
    "predicted_target_test = jax.tree_util.tree_map(model.transport, test_data_source, test_data_conditions)"
   ]
  },
  {
   "cell_type": "code",
   "execution_count": 391,
   "id": "8c1b3ce8-59de-4687-ae0a-e63af2a70756",
   "metadata": {},
   "outputs": [
    {
     "ename": "ImportError",
     "evalue": "cannot import name 'compute_mean_metrics' from 'ot_pert.metrics' (/home/icb/dominik.klein/git_repos/ot_pert_reproducibility/src/ot_pert/metrics.py)",
     "output_type": "error",
     "traceback": [
      "\u001b[0;31m---------------------------------------------------------------------------\u001b[0m",
      "\u001b[0;31mImportError\u001b[0m                               Traceback (most recent call last)",
      "Cell \u001b[0;32mIn[391], line 1\u001b[0m\n\u001b[0;32m----> 1\u001b[0m \u001b[38;5;28;01mfrom\u001b[39;00m \u001b[38;5;21;01mot_pert\u001b[39;00m\u001b[38;5;21;01m.\u001b[39;00m\u001b[38;5;21;01mmetrics\u001b[39;00m \u001b[38;5;28;01mimport\u001b[39;00m compute_metrics, compute_mean_metrics\n",
      "\u001b[0;31mImportError\u001b[0m: cannot import name 'compute_mean_metrics' from 'ot_pert.metrics' (/home/icb/dominik.klein/git_repos/ot_pert_reproducibility/src/ot_pert/metrics.py)"
     ]
    }
   ],
   "source": [
    "from ot_pert.metrics import compute_metrics"
   ]
  },
  {
   "cell_type": "code",
   "execution_count": 392,
   "id": "845e82a0-22b3-4d01-a0b0-3c13da5ceec8",
   "metadata": {},
   "outputs": [],
   "source": [
    "def compute_mean_metrics(metrics: Dict[str, Dict[str, float]]):\n",
    "    metric_names = list(list(metrics.values())[0].keys())\n",
    "    metric_dict = {met_name: [] for met_name in metric_names}\n",
    "    for met in metric_names:\n",
    "        stat = 0.0\n",
    "        for vals in metrics.values():\n",
    "            stat += vals[met]\n",
    "        metric_dict[met] = stat/len(metrics)\n",
    "    return metric_dict"
   ]
  },
  {
   "cell_type": "code",
   "execution_count": null,
   "id": "823aa938-eb98-4264-b973-8f1abb870178",
   "metadata": {},
   "outputs": [],
   "source": []
  },
  {
   "cell_type": "code",
   "execution_count": 388,
   "id": "c6e30733-2f67-4115-8608-95fdad920096",
   "metadata": {},
   "outputs": [],
   "source": [
    "metrics = jax.tree_util.tree_map(compute_metrics, test_data_source, test_data_target)"
   ]
  },
  {
   "cell_type": "code",
   "execution_count": 389,
   "id": "c1cd132e-2fb2-44bf-89cc-4677d2dfc4b7",
   "metadata": {},
   "outputs": [
    {
     "data": {
      "text/plain": [
       "{'Alvespimycin+Pirarubicin': {'r_squared': -0.29950814120262126,\n",
       "  'sinkhorn_div_01': Array(38.39657, dtype=float32),\n",
       "  'sinkhorn_div_1': Array(37.111435, dtype=float32),\n",
       "  'sinkhorn_div_10': Array(16.780907, dtype=float32),\n",
       "  'e_distance': 1.9909521669271442,\n",
       "  'mmd': Array(13.6084175, dtype=float32)},\n",
       " 'Cediranib+PCI-34051': {'r_squared': 0.942392938278495,\n",
       "  'sinkhorn_div_01': Array(23.916113, dtype=float32),\n",
       "  'sinkhorn_div_1': Array(22.750998, dtype=float32),\n",
       "  'sinkhorn_div_10': Array(3.743885, dtype=float32),\n",
       "  'e_distance': 0.05635032675105389,\n",
       "  'mmd': Array(0.6249008, dtype=float32)},\n",
       " 'Dacinostat+Danusertib': {'r_squared': -3.000604544341078,\n",
       "  'sinkhorn_div_01': Array(66.6324, dtype=float32),\n",
       "  'sinkhorn_div_1': Array(65.09537, dtype=float32),\n",
       "  'sinkhorn_div_10': Array(44.63218, dtype=float32),\n",
       "  'e_distance': 5.531957485499465,\n",
       "  'mmd': Array(41.653156, dtype=float32)},\n",
       " 'Dacinostat+Dasatinib': {'r_squared': -2.8112897815015025,\n",
       "  'sinkhorn_div_01': Array(68.649826, dtype=float32),\n",
       "  'sinkhorn_div_1': Array(67.310555, dtype=float32),\n",
       "  'sinkhorn_div_10': Array(44.398, dtype=float32),\n",
       "  'e_distance': 5.12074857471137,\n",
       "  'mmd': Array(39.692936, dtype=float32)},\n",
       " 'Dacinostat+PCI-34051': {'r_squared': -2.9471066174614466,\n",
       "  'sinkhorn_div_01': Array(70.89889, dtype=float32),\n",
       "  'sinkhorn_div_1': Array(69.5593, dtype=float32),\n",
       "  'sinkhorn_div_10': Array(46.416645, dtype=float32),\n",
       "  'e_distance': 5.280174646260801,\n",
       "  'mmd': Array(41.10123, dtype=float32)},\n",
       " 'Givinostat+Carmofur': {'r_squared': 0.4042171773802563,\n",
       "  'sinkhorn_div_01': Array(30.961555, dtype=float32),\n",
       "  'sinkhorn_div_1': Array(29.762806, dtype=float32),\n",
       "  'sinkhorn_div_10': Array(9.687359, dtype=float32),\n",
       "  'e_distance': 0.8842999483065679,\n",
       "  'mmd': Array(6.246998, dtype=float32)},\n",
       " 'Givinostat+Cediranib': {'r_squared': 0.5192941147239809,\n",
       "  'sinkhorn_div_01': Array(30.582087, dtype=float32),\n",
       "  'sinkhorn_div_1': Array(29.378206, dtype=float32),\n",
       "  'sinkhorn_div_10': Array(8.7253, dtype=float32),\n",
       "  'e_distance': 0.6980448655821752,\n",
       "  'mmd': Array(5.0498085, dtype=float32)},\n",
       " 'Givinostat+Crizotinib': {'r_squared': 0.5376858042729811,\n",
       "  'sinkhorn_div_01': Array(30.333477, dtype=float32),\n",
       "  'sinkhorn_div_1': Array(29.136478, dtype=float32),\n",
       "  'sinkhorn_div_10': Array(8.857052, dtype=float32),\n",
       "  'e_distance': 0.6714274370249891,\n",
       "  'mmd': Array(4.8310585, dtype=float32)},\n",
       " 'Givinostat+Curcumin': {'r_squared': 0.581567065088846,\n",
       "  'sinkhorn_div_01': Array(29.378134, dtype=float32),\n",
       "  'sinkhorn_div_1': Array(28.205496, dtype=float32),\n",
       "  'sinkhorn_div_10': Array(8.015236, dtype=float32),\n",
       "  'e_distance': 0.6017297088770803,\n",
       "  'mmd': Array(4.359543, dtype=float32)},\n",
       " 'Givinostat+Dasatinib': {'r_squared': 0.5755695682693902,\n",
       "  'sinkhorn_div_01': Array(29.898594, dtype=float32),\n",
       "  'sinkhorn_div_1': Array(28.709076, dtype=float32),\n",
       "  'sinkhorn_div_10': Array(8.310684, dtype=float32),\n",
       "  'e_distance': 0.620752320681933,\n",
       "  'mmd': Array(4.4612236, dtype=float32)},\n",
       " 'Givinostat+SRT1720': {'r_squared': 0.5659516013646828,\n",
       "  'sinkhorn_div_01': Array(26.242947, dtype=float32),\n",
       "  'sinkhorn_div_1': Array(24.885645, dtype=float32),\n",
       "  'sinkhorn_div_10': Array(5.946007, dtype=float32),\n",
       "  'e_distance': 0.6710321584908536,\n",
       "  'mmd': Array(4.5671997, dtype=float32)},\n",
       " 'Givinostat+SRT2104': {'r_squared': 0.6463422713268978,\n",
       "  'sinkhorn_div_01': Array(28.66233, dtype=float32),\n",
       "  'sinkhorn_div_1': Array(27.489054, dtype=float32),\n",
       "  'sinkhorn_div_10': Array(7.3584023, dtype=float32),\n",
       "  'e_distance': 0.5108729302255073,\n",
       "  'mmd': Array(3.737545, dtype=float32)},\n",
       " 'Givinostat+Sorafenib': {'r_squared': -0.4694572738284841,\n",
       "  'sinkhorn_div_01': Array(42.129257, dtype=float32),\n",
       "  'sinkhorn_div_1': Array(40.8666, dtype=float32),\n",
       "  'sinkhorn_div_10': Array(19.245602, dtype=float32),\n",
       "  'e_distance': 2.160766748804538,\n",
       "  'mmd': Array(15.268391, dtype=float32)},\n",
       " 'Givinostat+Tanespimycin': {'r_squared': 0.18334032124438993,\n",
       "  'sinkhorn_div_01': Array(34.21008, dtype=float32),\n",
       "  'sinkhorn_div_1': Array(32.97279, dtype=float32),\n",
       "  'sinkhorn_div_10': Array(12.364765, dtype=float32),\n",
       "  'e_distance': 1.2008081738729075,\n",
       "  'mmd': Array(8.549953, dtype=float32)},\n",
       " 'Panobinostat+Alvespimycin': {'r_squared': -6.462606602065238,\n",
       "  'sinkhorn_div_01': Array(106.181854, dtype=float32),\n",
       "  'sinkhorn_div_1': Array(104.73834, dtype=float32),\n",
       "  'sinkhorn_div_10': Array(82.46286, dtype=float32),\n",
       "  'e_distance': 9.126967279639288,\n",
       "  'mmd': Array(77.66481, dtype=float32)},\n",
       " 'Panobinostat+Crizotinib': {'r_squared': -6.899751643713281,\n",
       "  'sinkhorn_div_01': Array(113.067505, dtype=float32),\n",
       "  'sinkhorn_div_1': Array(111.62825, dtype=float32),\n",
       "  'sinkhorn_div_10': Array(88.40466, dtype=float32),\n",
       "  'e_distance': 9.39097081446012,\n",
       "  'mmd': Array(82.35877, dtype=float32)},\n",
       " 'Panobinostat+Curcumin': {'r_squared': -5.113552240640825,\n",
       "  'sinkhorn_div_01': Array(93.16471, dtype=float32),\n",
       "  'sinkhorn_div_1': Array(91.5193, dtype=float32),\n",
       "  'sinkhorn_div_10': Array(68.16609, dtype=float32),\n",
       "  'e_distance': 7.563575065082867,\n",
       "  'mmd': Array(63.730488, dtype=float32)},\n",
       " 'Panobinostat+Dasatinib': {'r_squared': -5.004799475840867,\n",
       "  'sinkhorn_div_01': Array(92.68804, dtype=float32),\n",
       "  'sinkhorn_div_1': Array(91.27349, dtype=float32),\n",
       "  'sinkhorn_div_10': Array(67.81314, dtype=float32),\n",
       "  'e_distance': 7.553526491374445,\n",
       "  'mmd': Array(62.546543, dtype=float32)},\n",
       " 'Panobinostat+PCI-34051': {'r_squared': -5.642150091500692,\n",
       "  'sinkhorn_div_01': Array(98.577065, dtype=float32),\n",
       "  'sinkhorn_div_1': Array(96.97273, dtype=float32),\n",
       "  'sinkhorn_div_10': Array(74.00324, dtype=float32),\n",
       "  'e_distance': 8.135459068876807,\n",
       "  'mmd': Array(69.24583, dtype=float32)},\n",
       " 'Panobinostat+SRT1720': {'r_squared': -4.330700211407645,\n",
       "  'sinkhorn_div_01': Array(84.55727, dtype=float32),\n",
       "  'sinkhorn_div_1': Array(83.117645, dtype=float32),\n",
       "  'sinkhorn_div_10': Array(60.371735, dtype=float32),\n",
       "  'e_distance': 6.939866835847342,\n",
       "  'mmd': Array(55.574043, dtype=float32)},\n",
       " 'Panobinostat+SRT2104': {'r_squared': -4.9137180772948525,\n",
       "  'sinkhorn_div_01': Array(92.328445, dtype=float32),\n",
       "  'sinkhorn_div_1': Array(90.91904, dtype=float32),\n",
       "  'sinkhorn_div_10': Array(67.33039, dtype=float32),\n",
       "  'e_distance': 7.404332294689195,\n",
       "  'mmd': Array(61.529083, dtype=float32)},\n",
       " 'Panobinostat+SRT3025': {'r_squared': -5.72460171601306,\n",
       "  'sinkhorn_div_01': Array(101.33395, dtype=float32),\n",
       "  'sinkhorn_div_1': Array(99.88417, dtype=float32),\n",
       "  'sinkhorn_div_10': Array(76.12568, dtype=float32),\n",
       "  'e_distance': 8.225312759931661,\n",
       "  'mmd': Array(70.03342, dtype=float32)},\n",
       " 'Panobinostat+Sorafenib': {'r_squared': -5.670476061028917,\n",
       "  'sinkhorn_div_01': Array(101.4236, dtype=float32),\n",
       "  'sinkhorn_div_1': Array(100.01046, dtype=float32),\n",
       "  'sinkhorn_div_10': Array(76.04874, dtype=float32),\n",
       "  'e_distance': 8.090923030914352,\n",
       "  'mmd': Array(69.533295, dtype=float32)},\n",
       " 'SRT2104+Alvespimycin': {'r_squared': 0.15639278827397463,\n",
       "  'sinkhorn_div_01': Array(31.972776, dtype=float32),\n",
       "  'sinkhorn_div_1': Array(31.007828, dtype=float32),\n",
       "  'sinkhorn_div_10': Array(10.8210335, dtype=float32),\n",
       "  'e_distance': 1.287140475650431,\n",
       "  'mmd': Array(8.802555, dtype=float32)},\n",
       " 'SRT3025+Cediranib': {'r_squared': 0.9635866337210476,\n",
       "  'sinkhorn_div_01': Array(24.887808, dtype=float32),\n",
       "  'sinkhorn_div_1': Array(23.68723, dtype=float32),\n",
       "  'sinkhorn_div_10': Array(3.7549324, dtype=float32),\n",
       "  'e_distance': 0.01613185379312032,\n",
       "  'mmd': Array(0.34908295, dtype=float32)},\n",
       " 'control+Alvespimycin': {'r_squared': -0.18864849706094988,\n",
       "  'sinkhorn_div_01': Array(35.953312, dtype=float32),\n",
       "  'sinkhorn_div_1': Array(34.623623, dtype=float32),\n",
       "  'sinkhorn_div_10': Array(15.402546, dtype=float32),\n",
       "  'e_distance': 1.8592153006188221,\n",
       "  'mmd': Array(12.412933, dtype=float32)},\n",
       " 'control+Dacinostat': {'r_squared': -1.9925066084044332,\n",
       "  'sinkhorn_div_01': Array(59.672436, dtype=float32),\n",
       "  'sinkhorn_div_1': Array(58.376453, dtype=float32),\n",
       "  'sinkhorn_div_10': Array(35.710434, dtype=float32),\n",
       "  'e_distance': 4.116157476695881,\n",
       "  'mmd': Array(31.180336, dtype=float32)},\n",
       " 'control+Dasatinib': {'r_squared': 0.4279739665898521,\n",
       "  'sinkhorn_div_01': Array(31.970783, dtype=float32),\n",
       "  'sinkhorn_div_1': Array(30.762352, dtype=float32),\n",
       "  'sinkhorn_div_10': Array(9.995026, dtype=float32),\n",
       "  'e_distance': 0.8259451687977055,\n",
       "  'mmd': Array(5.9715385, dtype=float32)},\n",
       " 'control+Givinostat': {'r_squared': 0.532643669300435,\n",
       "  'sinkhorn_div_01': Array(30.325455, dtype=float32),\n",
       "  'sinkhorn_div_1': Array(29.160702, dtype=float32),\n",
       "  'sinkhorn_div_10': Array(8.75584, dtype=float32),\n",
       "  'e_distance': 0.6635365137516631,\n",
       "  'mmd': Array(4.8868523, dtype=float32)},\n",
       " 'control+Panobinostat': {'r_squared': -4.478732846422874,\n",
       "  'sinkhorn_div_01': Array(90.69832, dtype=float32),\n",
       "  'sinkhorn_div_1': Array(89.33564, dtype=float32),\n",
       "  'sinkhorn_div_10': Array(64.77887, dtype=float32),\n",
       "  'e_distance': 6.721440604064564,\n",
       "  'mmd': Array(57.069042, dtype=float32)},\n",
       " 'control+SRT2104': {'r_squared': 0.9601012731644993,\n",
       "  'sinkhorn_div_01': Array(24.635456, dtype=float32),\n",
       "  'sinkhorn_div_1': Array(23.437862, dtype=float32),\n",
       "  'sinkhorn_div_10': Array(3.8663292, dtype=float32),\n",
       "  'e_distance': 0.023737407116392717,\n",
       "  'mmd': Array(0.42408752, dtype=float32)}}"
      ]
     },
     "execution_count": 389,
     "metadata": {},
     "output_type": "execute_result"
    }
   ],
   "source": [
    "metrics"
   ]
  },
  {
   "cell_type": "code",
   "execution_count": 390,
   "id": "2c588ce6-2130-4cda-ad11-abb7c740fe53",
   "metadata": {},
   "outputs": [],
   "source": [
    "metrics_prediction =  jax.tree_util.tree_map(compute_metrics, predicted_target_test, test_data_target)"
   ]
  },
  {
   "cell_type": "code",
   "execution_count": 393,
   "id": "e0f0e91e-3e69-4df3-9237-0f63354da673",
   "metadata": {},
   "outputs": [
    {
     "data": {
      "text/plain": [
       "{'Alvespimycin+Pirarubicin': {'r_squared': 0.0461943447815959,\n",
       "  'sinkhorn_div_01': Array(121.2691, dtype=float32),\n",
       "  'sinkhorn_div_1': Array(120.236374, dtype=float32),\n",
       "  'sinkhorn_div_10': Array(97.5441, dtype=float32),\n",
       "  'e_distance': 5.2776427950864235,\n",
       "  'mmd': Array(43.770584, dtype=float32)},\n",
       " 'Cediranib+PCI-34051': {'r_squared': 0.2885621683159073,\n",
       "  'sinkhorn_div_01': Array(112.379364, dtype=float32),\n",
       "  'sinkhorn_div_1': Array(111.40526, dtype=float32),\n",
       "  'sinkhorn_div_10': Array(91.01689, dtype=float32),\n",
       "  'e_distance': 4.446493150252048,\n",
       "  'mmd': Array(36.07248, dtype=float32)},\n",
       " 'Dacinostat+Danusertib': {'r_squared': -0.772150888675639,\n",
       "  'sinkhorn_div_01': Array(171.79695, dtype=float32),\n",
       "  'sinkhorn_div_1': Array(170.68747, dtype=float32),\n",
       "  'sinkhorn_div_10': Array(149.06532, dtype=float32),\n",
       "  'e_distance': 9.162895278170492,\n",
       "  'mmd': Array(92.9149, dtype=float32)},\n",
       " 'Dacinostat+Dasatinib': {'r_squared': -0.29891798080113086,\n",
       "  'sinkhorn_div_01': Array(143.79199, dtype=float32),\n",
       "  'sinkhorn_div_1': Array(142.74696, dtype=float32),\n",
       "  'sinkhorn_div_10': Array(117.92224, dtype=float32),\n",
       "  'e_distance': 6.1959478728131065,\n",
       "  'mmd': Array(56.246094, dtype=float32)},\n",
       " 'Dacinostat+PCI-34051': {'r_squared': -0.3502441108814307,\n",
       "  'sinkhorn_div_01': Array(142.30371, dtype=float32),\n",
       "  'sinkhorn_div_1': Array(141.22781, dtype=float32),\n",
       "  'sinkhorn_div_10': Array(116.26407, dtype=float32),\n",
       "  'e_distance': 6.24042649422555,\n",
       "  'mmd': Array(57.057404, dtype=float32)},\n",
       " 'Givinostat+Carmofur': {'r_squared': 0.052740836775708955,\n",
       "  'sinkhorn_div_01': Array(125.451164, dtype=float32),\n",
       "  'sinkhorn_div_1': Array(124.44793, dtype=float32),\n",
       "  'sinkhorn_div_10': Array(102.96676, dtype=float32),\n",
       "  'e_distance': 5.107651785822313,\n",
       "  'mmd': Array(44.962204, dtype=float32)},\n",
       " 'Givinostat+Cediranib': {'r_squared': 0.08286707069192278,\n",
       "  'sinkhorn_div_01': Array(128.88234, dtype=float32),\n",
       "  'sinkhorn_div_1': Array(127.892334, dtype=float32),\n",
       "  'sinkhorn_div_10': Array(106.219666, dtype=float32),\n",
       "  'e_distance': 5.182066348181347,\n",
       "  'mmd': Array(45.994766, dtype=float32)},\n",
       " 'Givinostat+Crizotinib': {'r_squared': 0.07764490403911228,\n",
       "  'sinkhorn_div_01': Array(128.1409, dtype=float32),\n",
       "  'sinkhorn_div_1': Array(127.167175, dtype=float32),\n",
       "  'sinkhorn_div_10': Array(105.71244, dtype=float32),\n",
       "  'e_distance': 5.142348148064749,\n",
       "  'mmd': Array(46.55339, dtype=float32)},\n",
       " 'Givinostat+Curcumin': {'r_squared': 0.0631386794939226,\n",
       "  'sinkhorn_div_01': Array(124.33528, dtype=float32),\n",
       "  'sinkhorn_div_1': Array(123.36197, dtype=float32),\n",
       "  'sinkhorn_div_10': Array(101.94625, dtype=float32),\n",
       "  'e_distance': 5.041171949534384,\n",
       "  'mmd': Array(45.094444, dtype=float32)},\n",
       " 'Givinostat+Dasatinib': {'r_squared': 0.10807515609712848,\n",
       "  'sinkhorn_div_01': Array(128.06206, dtype=float32),\n",
       "  'sinkhorn_div_1': Array(127.07518, dtype=float32),\n",
       "  'sinkhorn_div_10': Array(105.74776, dtype=float32),\n",
       "  'e_distance': 5.001323667703651,\n",
       "  'mmd': Array(43.895424, dtype=float32)},\n",
       " 'Givinostat+SRT1720': {'r_squared': 0.05340062324227779,\n",
       "  'sinkhorn_div_01': Array(118.24102, dtype=float32),\n",
       "  'sinkhorn_div_1': Array(117.19126, dtype=float32),\n",
       "  'sinkhorn_div_10': Array(99.84219, dtype=float32),\n",
       "  'e_distance': 5.057646955066356,\n",
       "  'mmd': Array(43.942123, dtype=float32)},\n",
       " 'Givinostat+SRT2104': {'r_squared': 0.12288435690078336,\n",
       "  'sinkhorn_div_01': Array(124.421425, dtype=float32),\n",
       "  'sinkhorn_div_1': Array(123.46748, dtype=float32),\n",
       "  'sinkhorn_div_10': Array(102.43111, dtype=float32),\n",
       "  'e_distance': 4.923937574497242,\n",
       "  'mmd': Array(42.954453, dtype=float32)},\n",
       " 'Givinostat+Sorafenib': {'r_squared': -0.07294166412799896,\n",
       "  'sinkhorn_div_01': Array(138.10242, dtype=float32),\n",
       "  'sinkhorn_div_1': Array(137.06892, dtype=float32),\n",
       "  'sinkhorn_div_10': Array(113.66379, dtype=float32),\n",
       "  'e_distance': 5.786721729708293,\n",
       "  'mmd': Array(51.327972, dtype=float32)},\n",
       " 'Givinostat+Tanespimycin': {'r_squared': -0.06994479208969429,\n",
       "  'sinkhorn_div_01': Array(129.14867, dtype=float32),\n",
       "  'sinkhorn_div_1': Array(128.1405, dtype=float32),\n",
       "  'sinkhorn_div_10': Array(106.102234, dtype=float32),\n",
       "  'e_distance': 5.368663747161703,\n",
       "  'mmd': Array(48.05024, dtype=float32)},\n",
       " 'Panobinostat+Alvespimycin': {'r_squared': -0.1909081079896775,\n",
       "  'sinkhorn_div_01': Array(138.42784, dtype=float32),\n",
       "  'sinkhorn_div_1': Array(137.31026, dtype=float32),\n",
       "  'sinkhorn_div_10': Array(112.26015, dtype=float32),\n",
       "  'e_distance': 6.5143431233605655,\n",
       "  'mmd': Array(56.803604, dtype=float32)},\n",
       " 'Panobinostat+Crizotinib': {'r_squared': -0.18353926158618838,\n",
       "  'sinkhorn_div_01': Array(142.74968, dtype=float32),\n",
       "  'sinkhorn_div_1': Array(141.63983, dtype=float32),\n",
       "  'sinkhorn_div_10': Array(115.856026, dtype=float32),\n",
       "  'e_distance': 6.416828039262231,\n",
       "  'mmd': Array(57.864014, dtype=float32)},\n",
       " 'Panobinostat+Curcumin': {'r_squared': -0.15736229432278392,\n",
       "  'sinkhorn_div_01': Array(133.43768, dtype=float32),\n",
       "  'sinkhorn_div_1': Array(132.24318, dtype=float32),\n",
       "  'sinkhorn_div_10': Array(108.59162, dtype=float32),\n",
       "  'e_distance': 5.931951693583498,\n",
       "  'mmd': Array(53.491486, dtype=float32)},\n",
       " 'Panobinostat+Dasatinib': {'r_squared': 0.07750254039140225,\n",
       "  'sinkhorn_div_01': Array(133.02199, dtype=float32),\n",
       "  'sinkhorn_div_1': Array(131.93742, dtype=float32),\n",
       "  'sinkhorn_div_10': Array(106.24462, dtype=float32),\n",
       "  'e_distance': 5.583385578825361,\n",
       "  'mmd': Array(47.47307, dtype=float32)},\n",
       " 'Panobinostat+PCI-34051': {'r_squared': -0.05983894147247515,\n",
       "  'sinkhorn_div_01': Array(132.3062, dtype=float32),\n",
       "  'sinkhorn_div_1': Array(131.18512, dtype=float32),\n",
       "  'sinkhorn_div_10': Array(107.67601, dtype=float32),\n",
       "  'e_distance': 5.925062609338452,\n",
       "  'mmd': Array(52.452072, dtype=float32)},\n",
       " 'Panobinostat+SRT1720': {'r_squared': -0.016995024600670705,\n",
       "  'sinkhorn_div_01': Array(133.11661, dtype=float32),\n",
       "  'sinkhorn_div_1': Array(132.01219, dtype=float32),\n",
       "  'sinkhorn_div_10': Array(106.98597, dtype=float32),\n",
       "  'e_distance': 5.869943621212313,\n",
       "  'mmd': Array(49.620453, dtype=float32)},\n",
       " 'Panobinostat+SRT2104': {'r_squared': -0.05982941946149589,\n",
       "  'sinkhorn_div_01': Array(137.3125, dtype=float32),\n",
       "  'sinkhorn_div_1': Array(136.2161, dtype=float32),\n",
       "  'sinkhorn_div_10': Array(110.529755, dtype=float32),\n",
       "  'e_distance': 5.885527922864422,\n",
       "  'mmd': Array(52.126625, dtype=float32)},\n",
       " 'Panobinostat+SRT3025': {'r_squared': -0.05909300151426211,\n",
       "  'sinkhorn_div_01': Array(136.18855, dtype=float32),\n",
       "  'sinkhorn_div_1': Array(135.08224, dtype=float32),\n",
       "  'sinkhorn_div_10': Array(108.891556, dtype=float32),\n",
       "  'e_distance': 5.857704660284095,\n",
       "  'mmd': Array(51.475365, dtype=float32)},\n",
       " 'Panobinostat+Sorafenib': {'r_squared': -0.018089145003552964,\n",
       "  'sinkhorn_div_01': Array(134.46736, dtype=float32),\n",
       "  'sinkhorn_div_1': Array(133.38167, dtype=float32),\n",
       "  'sinkhorn_div_10': Array(107.38029, dtype=float32),\n",
       "  'e_distance': 5.732873368347164,\n",
       "  'mmd': Array(51.175705, dtype=float32)},\n",
       " 'SRT2104+Alvespimycin': {'r_squared': 0.05598156300867807,\n",
       "  'sinkhorn_div_01': Array(118.21894, dtype=float32),\n",
       "  'sinkhorn_div_1': Array(117.59623, dtype=float32),\n",
       "  'sinkhorn_div_10': Array(97.742905, dtype=float32),\n",
       "  'e_distance': 5.061556276860823,\n",
       "  'mmd': Array(42.871475, dtype=float32)},\n",
       " 'SRT3025+Cediranib': {'r_squared': 0.28170783083828677,\n",
       "  'sinkhorn_div_01': Array(113.55843, dtype=float32),\n",
       "  'sinkhorn_div_1': Array(112.57083, dtype=float32),\n",
       "  'sinkhorn_div_10': Array(91.19481, dtype=float32),\n",
       "  'e_distance': 4.282142991737266,\n",
       "  'mmd': Array(35.14186, dtype=float32)},\n",
       " 'control+Alvespimycin': {'r_squared': 0.013721503287194792,\n",
       "  'sinkhorn_div_01': Array(120.51512, dtype=float32),\n",
       "  'sinkhorn_div_1': Array(119.4718, dtype=float32),\n",
       "  'sinkhorn_div_10': Array(97.9915, dtype=float32),\n",
       "  'e_distance': 5.344379928998703,\n",
       "  'mmd': Array(43.53076, dtype=float32)},\n",
       " 'control+Dacinostat': {'r_squared': -0.34468164157611425,\n",
       "  'sinkhorn_div_01': Array(139.61223, dtype=float32),\n",
       "  'sinkhorn_div_1': Array(138.56592, dtype=float32),\n",
       "  'sinkhorn_div_10': Array(113.897095, dtype=float32),\n",
       "  'e_distance': 6.07165690145819,\n",
       "  'mmd': Array(55.667755, dtype=float32)},\n",
       " 'control+Dasatinib': {'r_squared': 0.2080763018905203,\n",
       "  'sinkhorn_div_01': Array(120.677155, dtype=float32),\n",
       "  'sinkhorn_div_1': Array(119.69726, dtype=float32),\n",
       "  'sinkhorn_div_10': Array(97.865326, dtype=float32),\n",
       "  'e_distance': 4.562161214376127,\n",
       "  'mmd': Array(38.6932, dtype=float32)},\n",
       " 'control+Givinostat': {'r_squared': 0.07207998605706167,\n",
       "  'sinkhorn_div_01': Array(124.58759, dtype=float32),\n",
       "  'sinkhorn_div_1': Array(123.61211, dtype=float32),\n",
       "  'sinkhorn_div_10': Array(102.32192, dtype=float32),\n",
       "  'e_distance': 4.955208813982497,\n",
       "  'mmd': Array(43.857185, dtype=float32)},\n",
       " 'control+Panobinostat': {'r_squared': -0.06665055304836831,\n",
       "  'sinkhorn_div_01': Array(136.00905, dtype=float32),\n",
       "  'sinkhorn_div_1': Array(134.95616, dtype=float32),\n",
       "  'sinkhorn_div_10': Array(108.35576, dtype=float32),\n",
       "  'e_distance': 5.4699520707437115,\n",
       "  'mmd': Array(50.256363, dtype=float32)},\n",
       " 'control+SRT2104': {'r_squared': 0.21961379502307388,\n",
       "  'sinkhorn_div_01': Array(115.01281, dtype=float32),\n",
       "  'sinkhorn_div_1': Array(114.03397, dtype=float32),\n",
       "  'sinkhorn_div_10': Array(93.02092, dtype=float32),\n",
       "  'e_distance': 4.486622769668809,\n",
       "  'mmd': Array(37.583504, dtype=float32)}}"
      ]
     },
     "execution_count": 393,
     "metadata": {},
     "output_type": "execute_result"
    }
   ],
   "source": [
    "metrics_prediction"
   ]
  },
  {
   "cell_type": "code",
   "execution_count": 394,
   "id": "00e85409-0cf6-4683-b293-d86350c463c3",
   "metadata": {},
   "outputs": [
    {
     "data": {
      "text/plain": [
       "[{'Alvespimycin+Pirarubicin': Array(37.480278, dtype=float32),\n",
       "  'Cediranib+PCI-34051': Array(22.808172, dtype=float32),\n",
       "  'Dacinostat+Danusertib': Array(65.158676, dtype=float32),\n",
       "  'Dacinostat+Dasatinib': Array(67.22008, dtype=float32),\n",
       "  'Dacinostat+PCI-34051': Array(69.46284, dtype=float32),\n",
       "  'Givinostat+Carmofur': Array(29.747753, dtype=float32),\n",
       "  'Givinostat+Cediranib': Array(29.419748, dtype=float32),\n",
       "  'Givinostat+Crizotinib': Array(29.203156, dtype=float32),\n",
       "  'Givinostat+Curcumin': Array(28.262575, dtype=float32),\n",
       "  'Givinostat+Dasatinib': Array(28.650684, dtype=float32),\n",
       "  'Givinostat+SRT1720': Array(24.815353, dtype=float32),\n",
       "  'Givinostat+SRT2104': Array(27.414984, dtype=float32),\n",
       "  'Givinostat+Sorafenib': Array(40.768993, dtype=float32),\n",
       "  'Givinostat+Tanespimycin': Array(33.172718, dtype=float32),\n",
       "  'Panobinostat+Alvespimycin': Array(105.08519, dtype=float32),\n",
       "  'Panobinostat+Crizotinib': Array(111.36747, dtype=float32),\n",
       "  'Panobinostat+Curcumin': Array(91.41628, dtype=float32),\n",
       "  'Panobinostat+Dasatinib': Array(91.24497, dtype=float32),\n",
       "  'Panobinostat+PCI-34051': Array(96.712715, dtype=float32),\n",
       "  'Panobinostat+SRT1720': Array(82.91317, dtype=float32),\n",
       "  'Panobinostat+SRT2104': Array(90.674126, dtype=float32),\n",
       "  'Panobinostat+SRT3025': Array(98.909904, dtype=float32),\n",
       "  'Panobinostat+Sorafenib': Array(99.72589, dtype=float32),\n",
       "  'SRT2104+Alvespimycin': Array(31.179594, dtype=float32),\n",
       "  'SRT3025+Cediranib': Array(23.8125, dtype=float32),\n",
       "  'control+Alvespimycin': Array(34.76005, dtype=float32),\n",
       "  'control+Dacinostat': Array(58.250195, dtype=float32),\n",
       "  'control+Dasatinib': Array(30.652538, dtype=float32),\n",
       "  'control+Givinostat': Array(29.184618, dtype=float32),\n",
       "  'control+Panobinostat': Array(89.18276, dtype=float32),\n",
       "  'control+SRT2104': Array(23.473938, dtype=float32)},\n",
       " {'Alvespimycin+Pirarubicin': Array(96.14801, dtype=float32),\n",
       "  'Cediranib+PCI-34051': Array(83.4461, dtype=float32),\n",
       "  'Dacinostat+Danusertib': Array(98.42146, dtype=float32),\n",
       "  'Dacinostat+Dasatinib': Array(99.35958, dtype=float32),\n",
       "  'Dacinostat+PCI-34051': Array(97.572624, dtype=float32),\n",
       "  'Givinostat+Carmofur': Array(87.67726, dtype=float32),\n",
       "  'Givinostat+Cediranib': Array(93.25357, dtype=float32),\n",
       "  'Givinostat+Crizotinib': Array(88.67396, dtype=float32),\n",
       "  'Givinostat+Curcumin': Array(86.49281, dtype=float32),\n",
       "  'Givinostat+Dasatinib': Array(90.77228, dtype=float32),\n",
       "  'Givinostat+SRT1720': Array(81.61819, dtype=float32),\n",
       "  'Givinostat+SRT2104': Array(88.847145, dtype=float32),\n",
       "  'Givinostat+Sorafenib': Array(102.53312, dtype=float32),\n",
       "  'Givinostat+Tanespimycin': Array(94.87906, dtype=float32),\n",
       "  'Panobinostat+Alvespimycin': Array(104.276, dtype=float32),\n",
       "  'Panobinostat+Crizotinib': Array(101.59123, dtype=float32),\n",
       "  'Panobinostat+Curcumin': Array(93.2374, dtype=float32),\n",
       "  'Panobinostat+Dasatinib': Array(93.103386, dtype=float32),\n",
       "  'Panobinostat+PCI-34051': Array(93.359375, dtype=float32),\n",
       "  'Panobinostat+SRT1720': Array(92.774216, dtype=float32),\n",
       "  'Panobinostat+SRT2104': Array(97.01073, dtype=float32),\n",
       "  'Panobinostat+SRT3025': Array(96.76446, dtype=float32),\n",
       "  'Panobinostat+Sorafenib': Array(92.992615, dtype=float32),\n",
       "  'SRT2104+Alvespimycin': Array(94.76108, dtype=float32),\n",
       "  'SRT3025+Cediranib': Array(90.5703, dtype=float32),\n",
       "  'control+Alvespimycin': Array(92.3937, dtype=float32),\n",
       "  'control+Dacinostat': Array(95.625496, dtype=float32),\n",
       "  'control+Dasatinib': Array(93.95206, dtype=float32),\n",
       "  'control+Givinostat': Array(88.720505, dtype=float32),\n",
       "  'control+Panobinostat': Array(96.224434, dtype=float32),\n",
       "  'control+SRT2104': Array(86.89542, dtype=float32)},\n",
       " {'Alvespimycin+Pirarubicin': Array(96.046524, dtype=float32),\n",
       "  'Cediranib+PCI-34051': Array(87.91951, dtype=float32),\n",
       "  'Dacinostat+Danusertib': Array(117.28871, dtype=float32),\n",
       "  'Dacinostat+Dasatinib': Array(107.30571, dtype=float32),\n",
       "  'Dacinostat+PCI-34051': Array(107.60584, dtype=float32),\n",
       "  'Givinostat+Carmofur': Array(97.99289, dtype=float32),\n",
       "  'Givinostat+Cediranib': Array(102.03396, dtype=float32),\n",
       "  'Givinostat+Crizotinib': Array(97.69406, dtype=float32),\n",
       "  'Givinostat+Curcumin': Array(97.221344, dtype=float32),\n",
       "  'Givinostat+Dasatinib': Array(101.53031, dtype=float32),\n",
       "  'Givinostat+SRT1720': Array(94.73413, dtype=float32),\n",
       "  'Givinostat+SRT2104': Array(98.36933, dtype=float32),\n",
       "  'Givinostat+Sorafenib': Array(106.50644, dtype=float32),\n",
       "  'Givinostat+Tanespimycin': Array(101.68, dtype=float32),\n",
       "  'Panobinostat+Alvespimycin': Array(106.347534, dtype=float32),\n",
       "  'Panobinostat+Crizotinib': Array(104.16747, dtype=float32),\n",
       "  'Panobinostat+Curcumin': Array(98.23622, dtype=float32),\n",
       "  'Panobinostat+Dasatinib': Array(97.98855, dtype=float32),\n",
       "  'Panobinostat+PCI-34051': Array(98.57408, dtype=float32),\n",
       "  'Panobinostat+SRT1720': Array(102.91903, dtype=float32),\n",
       "  'Panobinostat+SRT2104': Array(102.2681, dtype=float32),\n",
       "  'Panobinostat+SRT3025': Array(101.596794, dtype=float32),\n",
       "  'Panobinostat+Sorafenib': Array(97.19119, dtype=float32),\n",
       "  'SRT2104+Alvespimycin': Array(96.63502, dtype=float32),\n",
       "  'SRT3025+Cediranib': Array(88.95507, dtype=float32),\n",
       "  'control+Alvespimycin': Array(96.10132, dtype=float32),\n",
       "  'control+Dacinostat': Array(102.12462, dtype=float32),\n",
       "  'control+Dasatinib': Array(96.915504, dtype=float32),\n",
       "  'control+Givinostat': Array(97.50914, dtype=float32),\n",
       "  'control+Panobinostat': Array(100.69955, dtype=float32),\n",
       "  'control+SRT2104': Array(90.776665, dtype=float32)},\n",
       " {'Alvespimycin+Pirarubicin': Array(101.050514, dtype=float32),\n",
       "  'Cediranib+PCI-34051': Array(100.14056, dtype=float32),\n",
       "  'Dacinostat+Danusertib': Array(139.17441, dtype=float32),\n",
       "  'Dacinostat+Dasatinib': Array(117.17752, dtype=float32),\n",
       "  'Dacinostat+PCI-34051': Array(117.58694, dtype=float32),\n",
       "  'Givinostat+Carmofur': Array(106.77049, dtype=float32),\n",
       "  'Givinostat+Cediranib': Array(113.438644, dtype=float32),\n",
       "  'Givinostat+Crizotinib': Array(108.084465, dtype=float32),\n",
       "  'Givinostat+Curcumin': Array(108.96018, dtype=float32),\n",
       "  'Givinostat+Dasatinib': Array(109.3761, dtype=float32),\n",
       "  'Givinostat+SRT1720': Array(101.93152, dtype=float32),\n",
       "  'Givinostat+SRT2104': Array(108.96627, dtype=float32),\n",
       "  'Givinostat+Sorafenib': Array(123.710144, dtype=float32),\n",
       "  'Givinostat+Tanespimycin': Array(110.79428, dtype=float32),\n",
       "  'Panobinostat+Alvespimycin': Array(118.82683, dtype=float32),\n",
       "  'Panobinostat+Crizotinib': Array(116.85955, dtype=float32),\n",
       "  'Panobinostat+Curcumin': Array(113.217186, dtype=float32),\n",
       "  'Panobinostat+Dasatinib': Array(112.033066, dtype=float32),\n",
       "  'Panobinostat+PCI-34051': Array(112.23738, dtype=float32),\n",
       "  'Panobinostat+SRT1720': Array(111.96161, dtype=float32),\n",
       "  'Panobinostat+SRT2104': Array(115.54236, dtype=float32),\n",
       "  'Panobinostat+SRT3025': Array(116.57242, dtype=float32),\n",
       "  'Panobinostat+Sorafenib': Array(112.26895, dtype=float32),\n",
       "  'SRT2104+Alvespimycin': Array(101.8434, dtype=float32),\n",
       "  'SRT3025+Cediranib': Array(100.24981, dtype=float32),\n",
       "  'control+Alvespimycin': Array(101.20948, dtype=float32),\n",
       "  'control+Dacinostat': Array(114.94903, dtype=float32),\n",
       "  'control+Dasatinib': Array(104.60126, dtype=float32),\n",
       "  'control+Givinostat': Array(107.8828, dtype=float32),\n",
       "  'control+Panobinostat': Array(114.274666, dtype=float32),\n",
       "  'control+SRT2104': Array(99.38191, dtype=float32)},\n",
       " {'Alvespimycin+Pirarubicin': Array(111.29694, dtype=float32),\n",
       "  'Cediranib+PCI-34051': Array(106.32402, dtype=float32),\n",
       "  'Dacinostat+Danusertib': Array(159.2804, dtype=float32),\n",
       "  'Dacinostat+Dasatinib': Array(128.78969, dtype=float32),\n",
       "  'Dacinostat+PCI-34051': Array(129.00995, dtype=float32),\n",
       "  'Givinostat+Carmofur': Array(116.54312, dtype=float32),\n",
       "  'Givinostat+Cediranib': Array(119.547226, dtype=float32),\n",
       "  'Givinostat+Crizotinib': Array(116.149994, dtype=float32),\n",
       "  'Givinostat+Curcumin': Array(115.35159, dtype=float32),\n",
       "  'Givinostat+Dasatinib': Array(117.43001, dtype=float32),\n",
       "  'Givinostat+SRT1720': Array(110.86996, dtype=float32),\n",
       "  'Givinostat+SRT2104': Array(116.45237, dtype=float32),\n",
       "  'Givinostat+Sorafenib': Array(126.79222, dtype=float32),\n",
       "  'Givinostat+Tanespimycin': Array(118.7943, dtype=float32),\n",
       "  'Panobinostat+Alvespimycin': Array(132.73552, dtype=float32),\n",
       "  'Panobinostat+Crizotinib': Array(131.26527, dtype=float32),\n",
       "  'Panobinostat+Curcumin': Array(125.33606, dtype=float32),\n",
       "  'Panobinostat+Dasatinib': Array(122.423134, dtype=float32),\n",
       "  'Panobinostat+PCI-34051': Array(125.09679, dtype=float32),\n",
       "  'Panobinostat+SRT1720': Array(127.100876, dtype=float32),\n",
       "  'Panobinostat+SRT2104': Array(128.43565, dtype=float32),\n",
       "  'Panobinostat+SRT3025': Array(131.44016, dtype=float32),\n",
       "  'Panobinostat+Sorafenib': Array(129.52873, dtype=float32),\n",
       "  'SRT2104+Alvespimycin': Array(109.49587, dtype=float32),\n",
       "  'SRT3025+Cediranib': Array(107.45707, dtype=float32),\n",
       "  'control+Alvespimycin': Array(111.63794, dtype=float32),\n",
       "  'control+Dacinostat': Array(125.26745, dtype=float32),\n",
       "  'control+Dasatinib': Array(112.22372, dtype=float32),\n",
       "  'control+Givinostat': Array(114.83721, dtype=float32),\n",
       "  'control+Panobinostat': Array(126.397575, dtype=float32),\n",
       "  'control+SRT2104': Array(108.035095, dtype=float32)}]"
      ]
     },
     "execution_count": 394,
     "metadata": {},
     "output_type": "execute_result"
    }
   ],
   "source": [
    "s_divs_valid"
   ]
  },
  {
   "cell_type": "code",
   "execution_count": null,
   "id": "6cb0c031-39f3-43c8-8210-06720660baf8",
   "metadata": {},
   "outputs": [],
   "source": []
  },
  {
   "cell_type": "code",
   "execution_count": null,
   "id": "f6657e8d-7618-4843-89d5-699ad7ea1567",
   "metadata": {},
   "outputs": [],
   "source": []
  },
  {
   "cell_type": "code",
   "execution_count": 366,
   "id": "f4ff0866-e2a0-4798-97f5-e9162d56a9e1",
   "metadata": {},
   "outputs": [],
   "source": [
    "metric_names = list(list(metrics.values())[0].keys())\n"
   ]
  },
  {
   "cell_type": "code",
   "execution_count": 367,
   "id": "8c418aaa-1c11-49e3-956f-d8830284c5aa",
   "metadata": {},
   "outputs": [
    {
     "data": {
      "text/plain": [
       "['r_squared',\n",
       " 'sinkhorn_div_01',\n",
       " 'sinkhorn_div_1',\n",
       " 'sinkhorn_div_10',\n",
       " 'e_distance',\n",
       " 'mmd']"
      ]
     },
     "execution_count": 367,
     "metadata": {},
     "output_type": "execute_result"
    }
   ],
   "source": [
    "metric_names"
   ]
  },
  {
   "cell_type": "code",
   "execution_count": 368,
   "id": "acd97a3a-1392-4164-a9f9-55b63eaa4400",
   "metadata": {},
   "outputs": [],
   "source": [
    "metric_dict = {met_name: [] for met_name in metric_names}"
   ]
  },
  {
   "cell_type": "code",
   "execution_count": 369,
   "id": "c1a999d9-b814-4bab-ac3c-90960122d1f5",
   "metadata": {},
   "outputs": [
    {
     "data": {
      "text/plain": [
       "{'r_squared': [],\n",
       " 'sinkhorn_div_01': [],\n",
       " 'sinkhorn_div_1': [],\n",
       " 'sinkhorn_div_10': [],\n",
       " 'e_distance': [],\n",
       " 'mmd': []}"
      ]
     },
     "execution_count": 369,
     "metadata": {},
     "output_type": "execute_result"
    }
   ],
   "source": [
    "metric_dict"
   ]
  },
  {
   "cell_type": "code",
   "execution_count": 380,
   "id": "76c0fb85-1f20-4d5f-b02e-524b35f5feff",
   "metadata": {},
   "outputs": [],
   "source": [
    "from typing import Dict\n",
    "def compute_mean_metrics(metrics: Dict[str, Dict[str, float]]):\n",
    "    metric_names = list(list(metrics.values())[0].keys())\n",
    "    metric_dict = {met_name: [] for met_name in metric_names}\n",
    "    for met in metric_names:\n",
    "        stat = 0.0\n",
    "        for vals in metrics.values():\n",
    "            stat += vals[met]\n",
    "        metric_dict[met] = stat/len(metrics)\n",
    "    return metric_dict"
   ]
  },
  {
   "cell_type": "code",
   "execution_count": 381,
   "id": "7cd50802-7282-48c8-8af7-9caa0a8a3996",
   "metadata": {},
   "outputs": [
    {
     "data": {
      "text/plain": [
       "{'r_squared': -1.8694564915073884,\n",
       " 'sinkhorn_div_01': Array(56.91391, dtype=float32),\n",
       " 'sinkhorn_div_1': Array(55.60287, dtype=float32),\n",
       " 'sinkhorn_div_10': Array(34.1385, dtype=float32),\n",
       " 'e_distance': 3.6756179333329366,\n",
       " 'mmd': Array(29.905327, dtype=float32)}"
      ]
     },
     "execution_count": 381,
     "metadata": {},
     "output_type": "execute_result"
    }
   ],
   "source": [
    "compute_mean_metrics(metrics)"
   ]
  },
  {
   "cell_type": "code",
   "execution_count": 374,
   "id": "01ecc57d-983d-4f26-bf61-dbae9c0e32e9",
   "metadata": {},
   "outputs": [
    {
     "data": {
      "text/plain": [
       "{'r_squared': -1.8694564915073884,\n",
       " 'sinkhorn_div_01': Array(56.91391, dtype=float32),\n",
       " 'sinkhorn_div_1': Array(55.60287, dtype=float32),\n",
       " 'sinkhorn_div_10': Array(34.1385, dtype=float32),\n",
       " 'e_distance': 3.6756179333329366,\n",
       " 'mmd': Array(29.905327, dtype=float32)}"
      ]
     },
     "execution_count": 374,
     "metadata": {},
     "output_type": "execute_result"
    }
   ],
   "source": [
    "metric_dict"
   ]
  },
  {
   "cell_type": "code",
   "execution_count": 364,
   "id": "136907ce-8f94-4832-8465-801727c1324b",
   "metadata": {},
   "outputs": [
    {
     "ename": "TypeError",
     "evalue": "argument of type 'numpy.float64' is not iterable",
     "output_type": "error",
     "traceback": [
      "\u001b[0;31m---------------------------------------------------------------------------\u001b[0m",
      "\u001b[0;31mTypeError\u001b[0m                                 Traceback (most recent call last)",
      "Cell \u001b[0;32mIn[364], line 1\u001b[0m\n\u001b[0;32m----> 1\u001b[0m average \u001b[38;5;241m=\u001b[39m get_average_of_values(metrics, \u001b[38;5;124m'\u001b[39m\u001b[38;5;124mvalue\u001b[39m\u001b[38;5;124m'\u001b[39m)\n",
      "Cell \u001b[0;32mIn[363], line 15\u001b[0m, in \u001b[0;36mget_average_of_values\u001b[0;34m(dictionary, key)\u001b[0m\n\u001b[1;32m     12\u001b[0m             total_sum \u001b[38;5;241m+\u001b[39m\u001b[38;5;241m=\u001b[39m v[key]\n\u001b[1;32m     13\u001b[0m             count \u001b[38;5;241m+\u001b[39m\u001b[38;5;241m=\u001b[39m \u001b[38;5;241m1\u001b[39m\n\u001b[0;32m---> 15\u001b[0m traverse(dictionary)\n\u001b[1;32m     17\u001b[0m \u001b[38;5;66;03m# Calculate the average\u001b[39;00m\n\u001b[1;32m     18\u001b[0m \u001b[38;5;28;01mif\u001b[39;00m count \u001b[38;5;241m==\u001b[39m \u001b[38;5;241m0\u001b[39m:\n",
      "Cell \u001b[0;32mIn[363], line 10\u001b[0m, in \u001b[0;36mget_average_of_values.<locals>.traverse\u001b[0;34m(d)\u001b[0m\n\u001b[1;32m      8\u001b[0m \u001b[38;5;28;01mfor\u001b[39;00m _, v \u001b[38;5;129;01min\u001b[39;00m d\u001b[38;5;241m.\u001b[39mitems():\n\u001b[1;32m      9\u001b[0m     \u001b[38;5;28;01mif\u001b[39;00m \u001b[38;5;28misinstance\u001b[39m(v, \u001b[38;5;28mdict\u001b[39m):\n\u001b[0;32m---> 10\u001b[0m         traverse(v)\n\u001b[1;32m     11\u001b[0m     \u001b[38;5;28;01melif\u001b[39;00m key \u001b[38;5;129;01min\u001b[39;00m v:\n\u001b[1;32m     12\u001b[0m         total_sum \u001b[38;5;241m+\u001b[39m\u001b[38;5;241m=\u001b[39m v[key]\n",
      "Cell \u001b[0;32mIn[363], line 11\u001b[0m, in \u001b[0;36mget_average_of_values.<locals>.traverse\u001b[0;34m(d)\u001b[0m\n\u001b[1;32m      9\u001b[0m \u001b[38;5;28;01mif\u001b[39;00m \u001b[38;5;28misinstance\u001b[39m(v, \u001b[38;5;28mdict\u001b[39m):\n\u001b[1;32m     10\u001b[0m     traverse(v)\n\u001b[0;32m---> 11\u001b[0m \u001b[38;5;28;01melif\u001b[39;00m key \u001b[38;5;129;01min\u001b[39;00m v:\n\u001b[1;32m     12\u001b[0m     total_sum \u001b[38;5;241m+\u001b[39m\u001b[38;5;241m=\u001b[39m v[key]\n\u001b[1;32m     13\u001b[0m     count \u001b[38;5;241m+\u001b[39m\u001b[38;5;241m=\u001b[39m \u001b[38;5;241m1\u001b[39m\n",
      "\u001b[0;31mTypeError\u001b[0m: argument of type 'numpy.float64' is not iterable"
     ]
    }
   ],
   "source": [
    "average = get_average_of_values(metrics, 'value')"
   ]
  },
  {
   "cell_type": "code",
   "execution_count": null,
   "id": "96d5b191-158d-4bf4-a7a7-6da84499191e",
   "metadata": {},
   "outputs": [],
   "source": []
  }
 ],
 "metadata": {
  "kernelspec": {
   "display_name": "ot_pert_genot",
   "language": "python",
   "name": "ot_pert_genot"
  },
  "language_info": {
   "codemirror_mode": {
    "name": "ipython",
    "version": 3
   },
   "file_extension": ".py",
   "mimetype": "text/x-python",
   "name": "python",
   "nbconvert_exporter": "python",
   "pygments_lexer": "ipython3",
   "version": "3.12.2"
  }
 },
 "nbformat": 4,
 "nbformat_minor": 5
}
