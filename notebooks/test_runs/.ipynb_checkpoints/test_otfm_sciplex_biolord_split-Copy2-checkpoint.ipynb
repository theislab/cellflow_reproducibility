{
 "cells": [
  {
   "cell_type": "code",
   "execution_count": 1,
   "id": "e761b2ce-9f52-4aff-ba9e-93048c063928",
   "metadata": {},
   "outputs": [],
   "source": [
    "import hydra\n",
    "import wandb\n",
    "from ott.neural import datasets\n",
    "import sys\n",
    "from omegaconf import DictConfig\n",
    "import jax.numpy as jnp\n",
    "from jax import random\n",
    "from typing import Optional, Literal\n",
    "import jax\n",
    "import pathlib\n",
    "import optax\n",
    "import yaml\n",
    "from datetime import datetime\n",
    "from flax import linen as nn\n",
    "import functools\n",
    "from tqdm import tqdm\n",
    "from flax.training import train_state\n",
    "\n",
    "from ott.neural.networks.layers import time_encoder\n",
    "from ott.neural.methods.flows import dynamics, otfm\n",
    "from ott.neural.networks import velocity_field\n",
    "from ott.solvers import utils as solver_utils\n",
    "import jax.tree_util as jtu\n",
    "from ott.neural.networks.layers import time_encoder\n",
    "from ott.neural.networks.velocity_field import VelocityField\n",
    "import pandas as pd\n",
    "import os\n",
    "\n",
    "import hydra\n",
    "from omegaconf import DictConfig, OmegaConf\n",
    "\n",
    "from torch.utils.data import DataLoader\n",
    "import numpy as np\n",
    "\n",
    "import scanpy as sc\n",
    "from ot_pert.metrics import compute_metrics_fast, compute_mean_metrics\n",
    "from ot_pert.nets.nets import VelocityFieldWithAttention\n",
    "from ot_pert.utils import ConditionalLoader\n"
   ]
  },
  {
   "cell_type": "code",
   "execution_count": 2,
   "id": "74575f53-0f9e-4c99-b2a8-967ec3143352",
   "metadata": {},
   "outputs": [],
   "source": [
    "def reconstruct_data(embedding: np.ndarray, projection_matrix: np.ndarray, mean_to_add: np.ndarray) -> np.ndarray:\n",
    "    return np.matmul(embedding, projection_matrix.T) + mean_to_add"
   ]
  },
  {
   "cell_type": "code",
   "execution_count": 3,
   "id": "2e7d7477-ca40-49dd-b84c-6f6b67f71706",
   "metadata": {},
   "outputs": [],
   "source": [
    "obsm_key_cond = \"ecfp_cell_line_logdose_more_dose\"\n",
    "obsm_key_data = \"X_pca\""
   ]
  },
  {
   "cell_type": "code",
   "execution_count": 6,
   "id": "f80093da-403e-4a3e-8a39-afc0b8d66467",
   "metadata": {},
   "outputs": [],
   "source": [
    "adata_train_path = \"/lustre/groups/ml01/workspace/ot_perturbation/data/sciplex/adata_train_30.h5ad\"\n",
    "adata_test_path = \"/lustre/groups/ml01/workspace/ot_perturbation/data/sciplex/adata_test_30.h5ad\"\n",
    "adata_ood_path = \"/lustre/groups/ml01/workspace/ot_perturbation/data/sciplex/adata_ood_30.h5ad\""
   ]
  },
  {
   "cell_type": "code",
   "execution_count": 7,
   "id": "fab46905-01b3-42e4-a2a1-ed7baa0b8344",
   "metadata": {},
   "outputs": [
    {
     "name": "stderr",
     "output_type": "stream",
     "text": [
      "/home/icb/dominik.klein/mambaforge/envs/ot_pert_genot/lib/python3.12/site-packages/anndata/__init__.py:51: FutureWarning: `anndata.read` is deprecated, use `anndata.read_h5ad` instead. `ad.read` will be removed in mid 2024.\n",
      "  warnings.warn(\n",
      "/home/icb/dominik.klein/mambaforge/envs/ot_pert_genot/lib/python3.12/site-packages/anndata/__init__.py:51: FutureWarning: `anndata.read` is deprecated, use `anndata.read_h5ad` instead. `ad.read` will be removed in mid 2024.\n",
      "  warnings.warn(\n"
     ]
    }
   ],
   "source": [
    "adata_train = sc.read(adata_train_path)\n",
    "adata_ood = sc.read(adata_ood_path)\n",
    "adata_test = sc.read(adata_test_path)"
   ]
  },
  {
   "cell_type": "code",
   "execution_count": 8,
   "id": "dd9bd81d-69e9-45ef-9bd7-1f44c180f230",
   "metadata": {},
   "outputs": [
    {
     "data": {
      "text/plain": [
       "AnnData object with n_obs × n_vars = 278826 × 2002\n",
       "    obs: 'cell_type', 'dose', 'dose_character', 'dose_pattern', 'g1s_score', 'g2m_score', 'pathway', 'pathway_level_1', 'pathway_level_2', 'product_dose', 'product_name', 'proliferation_index', 'replicate', 'size_factor', 'target', 'vehicle', 'perturbation', 'drug', 'cell_line', 'logdose', 'condition', 'pubchem_name', 'pubchem_ID', 'smiles', 'control', 'ood', 'is_ood', 'split'\n",
       "    var: 'id', 'num_cells_expressed-0-0', 'num_cells_expressed-1-0', 'num_cells_expressed-1', 'highly_variable', 'means', 'dispersions', 'dispersions_norm'\n",
       "    uns: 'hvg', 'log1p', 'pca', 'rank_genes_groups_cov_all'\n",
       "    obsm: 'X_pca', 'cell_line_emb', 'ecfp', 'ecfp_cell_line', 'ecfp_cell_line_dose', 'ecfp_cell_line_dose_more_dose', 'ecfp_cell_line_logdose', 'ecfp_cell_line_logdose_more_dose'\n",
       "    varm: 'PCs', 'X_train_mean'\n",
       "    layers: 'X_log1p', 'centered_X'"
      ]
     },
     "execution_count": 8,
     "metadata": {},
     "output_type": "execute_result"
    }
   ],
   "source": [
    "adata_train"
   ]
  },
  {
   "cell_type": "code",
   "execution_count": 9,
   "id": "23ebef7f-c1d7-4164-be7d-ffbdf1e20645",
   "metadata": {},
   "outputs": [],
   "source": [
    "sc.pp.subsample(adata_train, fraction=0.4)"
   ]
  },
  {
   "cell_type": "code",
   "execution_count": 10,
   "id": "fa8f481e-fa48-400a-b487-d058f3fbfbbe",
   "metadata": {},
   "outputs": [],
   "source": [
    "#adata_train.obsm[\"ecfp_logdose_cell_line_new\"] = np.concatenate(\n",
    "#    (adata_train.obsm[\"ecfp\"], np.tile(np.asarray(adata_train.obs[\"logdose\"])[:, None], (1, 100))), axis=1\n",
    "#)\n",
    "\n",
    "#adata_test.obsm[\"ecfp_logdose_cell_line_new\"] = np.concatenate(\n",
    "#    (adata_test.obsm[\"ecfp\"], np.tile(np.asarray(adata_test.obs[\"logdose\"])[:, None], (1, 100))), axis=1\n",
    "#)\n",
    "\n",
    "#adata_ood.obsm[\"ecfp_logdose_cell_line_new\"] = np.concatenate(\n",
    "#    (adata_ood.obsm[\"ecfp\"], np.tile(np.asarray(adata_ood.obs[\"logdose\"])[:, None], (1, 100))), axis=1\n",
    "#)"
   ]
  },
  {
   "cell_type": "code",
   "execution_count": 11,
   "id": "c4cbec42-2b6a-40e4-9c44-32e82f26a03f",
   "metadata": {},
   "outputs": [
    {
     "data": {
      "text/plain": [
       "AxisArrays with keys: X_pca, cell_line_emb, ecfp, ecfp_cell_line, ecfp_cell_line_dose, ecfp_cell_line_dose_more_dose, ecfp_cell_line_logdose, ecfp_cell_line_logdose_more_dose"
      ]
     },
     "execution_count": 11,
     "metadata": {},
     "output_type": "execute_result"
    }
   ],
   "source": [
    "adata_train.obsm"
   ]
  },
  {
   "cell_type": "code",
   "execution_count": 12,
   "id": "e81c5a24-8ae5-495c-bf39-588a5600bbd4",
   "metadata": {},
   "outputs": [
    {
     "name": "stderr",
     "output_type": "stream",
     "text": [
      "2024-04-20 15:42:37.850204: W external/xla/xla/service/gpu/nvptx_compiler.cc:718] The NVIDIA driver's CUDA version is 12.3 which is older than the ptxas CUDA version (12.4.131). Because the driver is older than the ptxas version, XLA is disabling parallel compilation, which may slow down compilation. You should update your NVIDIA driver or use the NVIDIA-provided CUDA forward compatibility packages.\n"
     ]
    }
   ],
   "source": [
    "def data_match_fn(\n",
    "    src_lin: Optional[jnp.ndarray], tgt_lin: Optional[jnp.ndarray],\n",
    "    src_quad: Optional[jnp.ndarray], tgt_quad: Optional[jnp.ndarray], *,\n",
    "    typ: Literal[\"lin\", \"quad\", \"fused\"], epsilon: float = 1e-2, tau_a: float = 1.0,\n",
    "    tau_b: float = 1.0,\n",
    ") -> jnp.ndarray:\n",
    "    if typ == \"lin\":\n",
    "        return solver_utils.match_linear(x=src_lin, y=tgt_lin, scale_cost=\"mean\", epsilon=epsilon, tau_a=tau_a, tau_b=tau_b)\n",
    "    if typ == \"quad\":\n",
    "        return solver_utils.match_quadratic(xx=src_quad, yy=tgt_quad)\n",
    "    if typ == \"fused\":\n",
    "        return solver_utils.match_quadratic(\n",
    "            xx=src_quad, yy=tgt_quad, x=src_lin, y=tgt_lin\n",
    "        )\n",
    "    raise NotImplementedError(f\"Unknown type: {typ}.\")\n",
    "\n",
    "# Load data\n",
    "\n",
    "dls = []\n",
    "\n",
    "train_data_source = {}\n",
    "train_data_target = {}\n",
    "train_data_source_decoded = {}\n",
    "train_data_target_decoded = {}\n",
    "train_data_conditions = {}\n",
    "\n",
    "\n",
    "for cond in adata_train.obs[\"condition\"].cat.categories:\n",
    "    if \"Vehicle\" in cond:\n",
    "        continue\n",
    "    src_str = list(adata_train[adata_train.obs[\"condition\"]==cond].obs[\"cell_type\"].unique())\n",
    "    assert len(src_str) == 1\n",
    "    source = adata_train[adata_train.obs[\"condition\"]==src_str[0]+\"_Vehicle_0.0\"].obsm[obsm_key_data]\n",
    "    source_decoded = adata_train[adata_train.obs[\"condition\"]==src_str[0]+\"_Vehicle_0.0\"].X.A\n",
    "    target = adata_train[adata_train.obs[\"condition\"]==cond].obsm[obsm_key_data]\n",
    "    target_decoded = adata_train[adata_train.obs[\"condition\"]==cond].X.A\n",
    "    conds = adata_train[adata_train.obs[\"condition\"]==cond].obsm[obsm_key_cond]\n",
    "    assert np.all(np.all(conds == conds[0], axis=1))\n",
    "    conds = np.tile(conds[0], (len(source), 1))\n",
    "    dls.append(DataLoader(datasets.OTDataset(datasets.OTData(\n",
    "        lin=source,\n",
    "        condition=conds,\n",
    "    ), datasets.OTData(lin=target)), batch_size=10, shuffle=True))\n",
    "    #train_data_source[cond] = source\n",
    "    #train_data_target[cond] = target\n",
    "    #train_data_conditions[cond] = conds\n",
    "    #train_data_source_decoded[cond] = source_decoded\n",
    "    #train_data_target_decoded[cond] = target_decoded\n",
    "\n",
    "train_loader = ConditionalLoader(dls, seed=0)\n",
    "\n",
    "test_data_source = {}\n",
    "test_data_target = {}\n",
    "test_data_source_decoded = {}\n",
    "test_data_target_decoded = {}\n",
    "test_data_conditions = {}\n",
    "\n",
    "for cond in adata_test.obs[\"condition\"].cat.categories:\n",
    "    if \"Vehicle\" in cond:\n",
    "        continue\n",
    "    src_str = list(adata_test[adata_test.obs[\"condition\"]==cond].obs[\"cell_type\"].unique())\n",
    "    assert len(src_str) == 1\n",
    "    source = adata_test[adata_test.obs[\"condition\"]==src_str[0]+\"_Vehicle_0.0\"].obsm[obsm_key_data]\n",
    "    source_decoded = adata_test[adata_test.obs[\"condition\"]==src_str[0]+\"_Vehicle_0.0\"].X.A\n",
    "    \n",
    "    target = adata_test[adata_test.obs[\"condition\"]==cond].obsm[obsm_key_data]\n",
    "    target_decoded = adata_test[adata_test.obs[\"condition\"]==cond].X.A\n",
    "    conds = adata_test[adata_test.obs[\"condition\"]==cond].obsm[obsm_key_cond]\n",
    "    assert np.all(np.all(conds == conds[0], axis=1))\n",
    "    conds = np.tile(conds[0], (len(source), 1))\n",
    "    test_data_source[cond] = source\n",
    "    test_data_target[cond] = target\n",
    "    test_data_source_decoded[cond] = source_decoded\n",
    "    test_data_target_decoded[cond] = target_decoded\n",
    "    test_data_conditions[cond] = conds\n",
    "\n",
    "ood_data_source = {}\n",
    "ood_data_target = {}\n",
    "ood_data_source_decoded = {}\n",
    "ood_data_target_decoded = {}\n",
    "ood_data_conditions = {}\n",
    "\n",
    "for cond in adata_ood.obs[\"condition\"].cat.categories:\n",
    "    if \"Vehicle\" in cond:\n",
    "        continue\n",
    "    src_str = list(adata_ood[adata_ood.obs[\"condition\"]==cond].obs[\"cell_type\"].unique())\n",
    "    assert len(src_str) == 1\n",
    "    source = adata_ood[adata_ood.obs[\"condition\"]==src_str[0]+\"_Vehicle_0.0\"].obsm[obsm_key_data]\n",
    "    source_decoded = adata_ood[adata_ood.obs[\"condition\"]==src_str[0]+\"_Vehicle_0.0\"].X.A\n",
    "\n",
    "    target = adata_ood[adata_ood.obs[\"condition\"]==cond].obsm[obsm_key_data]\n",
    "    target_decoded = adata_ood[adata_ood.obs[\"condition\"]==cond].X.A\n",
    "    conds = adata_ood[adata_ood.obs[\"condition\"]==cond].obsm[obsm_key_cond]\n",
    "    assert np.all(np.all(conds == conds[0], axis=1))\n",
    "    conds = np.tile(conds[0], (len(source), 1))\n",
    "    ood_data_source[cond] = source\n",
    "    ood_data_target[cond] = target\n",
    "    ood_data_source_decoded[cond] = source_decoded\n",
    "    ood_data_target_decoded[cond] = target_decoded\n",
    "    ood_data_conditions[cond] = conds\n",
    "\n",
    "reconstruct_data_fn = functools.partial(reconstruct_data, projection_matrix=adata_train.varm[\"PCs\"], mean_to_add=adata_train.varm[\"X_train_mean\"].T)\n"
   ]
  },
  {
   "cell_type": "code",
   "execution_count": 13,
   "id": "f4e3ec12-c0cd-4b18-8a05-c06d531dde9a",
   "metadata": {},
   "outputs": [],
   "source": [
    "reconstruct_data_fn = functools.partial(reconstruct_data, projection_matrix=adata_train.varm[\"PCs\"], mean_to_add=adata_train.varm[\"X_train_mean\"].T)\n",
    "\n",
    "train_deg_dict = {k: v for k,v in adata_train.uns['rank_genes_groups_cov_all'].items() if k in train_data_conditions.keys()}\n",
    "test_deg_dict = {k: v for k,v in adata_train.uns['rank_genes_groups_cov_all'].items() if k in test_data_conditions.keys()}\n",
    "ood_deg_dict = {k: v for k,v in adata_train.uns['rank_genes_groups_cov_all'].items() if k in ood_data_conditions.keys()}\n",
    "\n",
    "def get_mask(x, y):\n",
    "    return x[:, [gene in y for gene in adata_train.var_names]]"
   ]
  },
  {
   "cell_type": "code",
   "execution_count": 14,
   "id": "86e0193b-e615-47ba-a26e-8115ea641ca3",
   "metadata": {},
   "outputs": [],
   "source": [
    "source_dim = source.shape[1]\n",
    "target_dim = source_dim\n",
    "condition_dim = conds.shape[1]\n",
    "\n",
    "source_dim = source.shape[1]\n",
    "target_dim = source_dim\n",
    "condition_dim = conds.shape[1]"
   ]
  },
  {
   "cell_type": "code",
   "execution_count": 15,
   "id": "318c0f30-741f-4c43-b91d-9faee6132676",
   "metadata": {},
   "outputs": [],
   "source": [
    "vf = VelocityField(\n",
    "    hidden_dims=[1024, 1024, 1024],\n",
    "    time_dims=[512,512],\n",
    "    output_dims=[1024, 1024, 1024]+[target_dim],\n",
    "    condition_dims=[4096, 2048, 1024],\n",
    "    time_encoder = functools.partial(time_encoder.cyclical_time_encoder, n_freqs=1024),\n",
    "    )\n",
    "\n",
    "model = otfm.OTFlowMatching(vf,\n",
    "    flow=dynamics.ConstantNoiseFlow(0),\n",
    "    match_fn=jax.jit(functools.partial(data_match_fn, typ=\"lin\", src_quad=None, tgt_quad=None, epsilon=0.1, tau_a=1.0, tau_b=1.0)),\n",
    "    condition_dim=condition_dim,\n",
    "    rng=jax.random.PRNGKey(13),\n",
    "    optimizer=optax.MultiSteps(optax.adam(learning_rate=1e-4), 20)\n",
    ")\n",
    "\n",
    "training_logs = {\"loss\": []}"
   ]
  },
  {
   "cell_type": "code",
   "execution_count": 16,
   "id": "df472524-4a2a-496b-9169-6d1f5eafb87c",
   "metadata": {},
   "outputs": [
    {
     "name": "stderr",
     "output_type": "stream",
     "text": [
      "100%|██████████| 50000/50000 [07:50<00:00, 106.35it/s]\n"
     ]
    }
   ],
   "source": [
    "\n",
    "\n",
    "rng = jax.random.PRNGKey(0)\n",
    "for it in tqdm(range(50000)):\n",
    "    rng, rng_resample, rng_step_fn = jax.random.split(rng, 3)\n",
    "    batch = next(train_loader)\n",
    "    batch = jtu.tree_map(jnp.asarray, batch)\n",
    "\n",
    "    src, tgt = batch[\"src_lin\"], batch[\"tgt_lin\"]\n",
    "    src_cond = batch.get(\"src_condition\")\n",
    "\n",
    "    if model.match_fn is not None:\n",
    "        tmat = model.match_fn(src, tgt)\n",
    "        src_ixs, tgt_ixs = solver_utils.sample_joint(rng_resample, tmat)\n",
    "        src, tgt = src[src_ixs], tgt[tgt_ixs]\n",
    "        src_cond = None if src_cond is None else src_cond[src_ixs]\n",
    "\n",
    "    model.vf_state, loss = model.step_fn(\n",
    "        rng_step_fn,\n",
    "        model.vf_state,\n",
    "        src,\n",
    "        tgt,\n",
    "        src_cond,\n",
    "    )\n",
    "\n",
    "    training_logs[\"loss\"].append(float(loss))\n",
    "    if (it % 100000 == 0) and (it > 0):\n",
    "        idcs = np.random.choice(list(test_data_source.keys()), 20)\n",
    "        test_data_source_tmp = {k:v for k,v in test_data_source.items() if k in idcs}\n",
    "        test_data_target_tmp = {k:v for k,v in test_data_target.items() if k in idcs}\n",
    "        test_data_conditions_tmp = {k:v for k,v in test_data_conditions.items() if k in idcs}\n",
    "        test_data_target_decoded_tmp = {k:v for k,v in test_data_target_decoded.items() if k in idcs}\n",
    "        test_deg_dict_tmp = {k:v for k,v in test_deg_dict.items() if k in idcs}\n",
    "        valid_losses = []\n",
    "        #for cond in test_data_source_tmp.keys():\n",
    "        #    src = test_data_source_tmp[cond]\n",
    "        #    tgt = test_data_target_tmp[cond]\n",
    "        #    src_cond = test_data_conditions_tmp[cond]\n",
    "        #    if model.match_fn is not None:\n",
    "        #        tmat = model.match_fn(src, tgt)\n",
    "        #        src_ixs, tgt_ixs = solver_utils.sample_joint(rng_resample, tmat)\n",
    "        #        src, tgt = src[src_ixs], tgt[tgt_ixs]\n",
    "        #        src_cond = None if src_cond is None else src_cond[src_ixs]\n",
    "        #    _, valid_loss = model.step_fn(\n",
    "        #        rng,\n",
    "        #        model.vf_state,\n",
    "        #        src,\n",
    "        #        tgt,\n",
    "        #        src_cond,\n",
    "        #    )\n",
    "        #    valid_losses.append(valid_loss)\n",
    "\n",
    "        # predicted_target_train = jax.tree_util.tree_map(model.transport, train_data_source, train_data_conditions)\n",
    "        # train_metrics = jax.tree_util.tree_map(compute_metrics_fast, train_data_target, predicted_target_train)\n",
    "        # mean_train_metrics = compute_mean_metrics(train_metrics, prefix=\"train_\")\n",
    "\n",
    "        # predicted_target_train_decoded = jax.tree_util.tree_map(reconstruct_data_fn, predicted_target_train)\n",
    "        # train_metrics_decoded = jax.tree_util.tree_map(compute_metrics_fast, train_data_target_decoded, predicted_target_train_decoded)\n",
    "        # mean_train_metrics_decoded = compute_mean_metrics(train_metrics_decoded, prefix=\"decoded_train_\")\n",
    "\n",
    "        # train_deg_target_decoded_predicted = jax.tree_util.tree_map(get_mask, predicted_target_train_decoded, train_deg_dict)\n",
    "        # train_deg_target_decoded = jax.tree_util.tree_map(get_mask, train_data_target_decoded, test_deg_dict)\n",
    "\n",
    "        predicted_target_test = jax.tree_util.tree_map(model.transport, test_data_source_tmp, test_data_conditions_tmp)\n",
    "        #test_metrics = jax.tree_util.tree_map(compute_metrics_fast, test_data_target_tmp, predicted_target_test)\n",
    "        #mean_test_metrics = compute_mean_metrics(test_metrics, prefix=\"test_\")\n",
    "\n",
    "        predicted_target_test_decoded = jax.tree_util.tree_map(reconstruct_data_fn, predicted_target_test)\n",
    "        test_metrics_decoded = jax.tree_util.tree_map(\n",
    "            compute_metrics_fast, test_data_target_decoded_tmp, predicted_target_test_decoded\n",
    "        )\n",
    "        mean_test_metrics_decoded = compute_mean_metrics(test_metrics_decoded, prefix=\"decoded_test_\")\n",
    "\n",
    "        \n",
    "        #test_deg_target_decoded_predicted = jax.tree_util.tree_map(\n",
    "        #    get_mask, predicted_target_test_decoded, test_deg_dict_tmp\n",
    "        #)\n",
    "        #test_deg_target_decoded = jax.tree_util.tree_map(get_mask, test_data_target_decoded_tmp, test_deg_dict_tmp)\n",
    "        #deg_test_metrics_encoded = jax.tree_util.tree_map(\n",
    "        #    compute_metrics_fast, test_deg_target_decoded, test_deg_target_decoded_predicted\n",
    "        #)\n",
    "        #deg_mean_test_metrics_encoded = compute_mean_metrics(deg_test_metrics_encoded, prefix=\"deg_test_\")\n",
    "\n",
    "        predicted_target_ood = jax.tree_util.tree_map(model.transport, ood_data_source, ood_data_conditions)\n",
    "        ood_metrics = jax.tree_util.tree_map(compute_metrics_fast, ood_data_target, predicted_target_ood)\n",
    "        mean_ood_metrics = compute_mean_metrics(ood_metrics, prefix=\"ood_\")\n",
    "\n",
    "        predicted_target_ood_decoded = jax.tree_util.tree_map(reconstruct_data_fn, predicted_target_ood)\n",
    "        ood_metrics_decoded = jax.tree_util.tree_map(\n",
    "            compute_metrics_fast, ood_data_target_decoded, predicted_target_ood_decoded\n",
    "        )\n",
    "        mean_ood_metrics_decoded = compute_mean_metrics(ood_metrics_decoded, prefix=\"decoded_ood_\")\n",
    "\n",
    "        #ood_deg_target_decoded_predicted = jax.tree_util.tree_map(\n",
    "        #    get_mask, predicted_target_ood_decoded, ood_deg_dict\n",
    "        #)\n",
    "        #ood_deg_target_decoded = jax.tree_util.tree_map(get_mask, ood_data_target_decoded, ood_deg_dict)\n",
    "        #deg_ood_metrics_encoded = jax.tree_util.tree_map(\n",
    "        #    compute_metrics_fast, ood_deg_target_decoded, ood_deg_target_decoded_predicted\n",
    "        #)\n",
    "        #deg_mean_ood_metrics_encoded = compute_mean_metrics(deg_ood_metrics_encoded, prefix=\"deg_ood_\")\n",
    "        print(mean_test_metrics_decoded, mean_ood_metrics_decoded)\n"
   ]
  },
  {
   "cell_type": "code",
   "execution_count": null,
   "id": "6d14e5e9-c664-44d0-ac51-82ce45e44aae",
   "metadata": {},
   "outputs": [],
   "source": [
    "predicted_target_ood = jax.tree_util.tree_map(model.transport, ood_data_source, ood_data_conditions)\n",
    "ood_metrics = jax.tree_util.tree_map(compute_metrics_fast, ood_data_target, predicted_target_ood)\n",
    "mean_ood_metrics = compute_mean_metrics(ood_metrics, prefix=\"ood_\")\n",
    "\n",
    "predicted_target_ood_decoded = jax.tree_util.tree_map(reconstruct_data_fn, predicted_target_ood)\n",
    "ood_metrics_decoded = jax.tree_util.tree_map(\n",
    "    compute_metrics_fast, ood_data_target_decoded, predicted_target_ood_decoded\n",
    ")\n",
    "mean_ood_metrics_decoded = compute_mean_metrics(ood_metrics_decoded, prefix=\"decoded_ood_\")"
   ]
  },
  {
   "cell_type": "code",
   "execution_count": null,
   "id": "0da8004e-679a-4a14-abed-60d52e6850c8",
   "metadata": {},
   "outputs": [],
   "source": []
  },
  {
   "cell_type": "code",
   "execution_count": 43,
   "id": "7303f67b-c4d4-4714-ac32-e263d64a7eeb",
   "metadata": {},
   "outputs": [
    {
     "data": {
      "text/plain": [
       "{'decoded_ood_r_squared': 0.38866557890688525,\n",
       " 'decoded_ood_e_distance': 37.214420014356634,\n",
       " 'decoded_ood_mmd_distance': 0.09443202899581506}"
      ]
     },
     "execution_count": 43,
     "metadata": {},
     "output_type": "execute_result"
    }
   ],
   "source": [
    "mean_ood_metrics_decoded"
   ]
  },
  {
   "cell_type": "code",
   "execution_count": 44,
   "id": "2e3a95d9-78e7-4920-804c-e15e2ce8fa00",
   "metadata": {},
   "outputs": [
    {
     "data": {
      "text/plain": [
       "{'MCF7_Belinostat_(PXD101)_10000.0': {'r_squared': 0.34493555127941533,\n",
       "  'e_distance': 33.089548425213025,\n",
       "  'mmd_distance': 0.09340944674393255},\n",
       " 'MCF7_Dacinostat_(LAQ824)_10000.0': {'r_squared': 0.43697908014070475,\n",
       "  'e_distance': 43.46068627057733,\n",
       "  'mmd_distance': 0.10408588551034377},\n",
       " 'MCF7_Givinostat_(ITF2357)_10000.0': {'r_squared': 0.3831804779293714,\n",
       "  'e_distance': 43.03774757709929,\n",
       "  'mmd_distance': 0.1058987622278555},\n",
       " 'MCF7_Hesperadin_10000.0': {'r_squared': 0.6512504011719353,\n",
       "  'e_distance': 5.226772543749874,\n",
       "  'mmd_distance': 0.029198555289275206},\n",
       " 'MCF7_Quisinostat_(JNJ-26481585)_2HCl_10000.0': {'r_squared': 0.12698238401299944,\n",
       "  'e_distance': 61.25734525514367,\n",
       "  'mmd_distance': 0.1395674952076682}}"
      ]
     },
     "execution_count": 44,
     "metadata": {},
     "output_type": "execute_result"
    }
   ],
   "source": [
    "ood_metrics_decoded"
   ]
  },
  {
   "cell_type": "code",
   "execution_count": 39,
   "id": "c9e4cb77-8b78-42b4-b44d-771c1e83edc2",
   "metadata": {},
   "outputs": [
    {
     "ename": "NameError",
     "evalue": "name 'test_data_source_tmp' is not defined",
     "output_type": "error",
     "traceback": [
      "\u001b[0;31m---------------------------------------------------------------------------\u001b[0m",
      "\u001b[0;31mNameError\u001b[0m                                 Traceback (most recent call last)",
      "Cell \u001b[0;32mIn[39], line 1\u001b[0m\n\u001b[0;32m----> 1\u001b[0m predicted_target_test \u001b[38;5;241m=\u001b[39m jax\u001b[38;5;241m.\u001b[39mtree_util\u001b[38;5;241m.\u001b[39mtree_map(model\u001b[38;5;241m.\u001b[39mtransport, test_data_source_tmp, test_data_conditions_tmp)\n\u001b[1;32m      2\u001b[0m test_metrics \u001b[38;5;241m=\u001b[39m jax\u001b[38;5;241m.\u001b[39mtree_util\u001b[38;5;241m.\u001b[39mtree_map(compute_metrics_fast, test_data_target_tmp, predicted_target_test)\n\u001b[1;32m      3\u001b[0m mean_test_metrics \u001b[38;5;241m=\u001b[39m compute_mean_metrics(test_metrics, prefix\u001b[38;5;241m=\u001b[39m\u001b[38;5;124m\"\u001b[39m\u001b[38;5;124mtest_\u001b[39m\u001b[38;5;124m\"\u001b[39m)\n",
      "\u001b[0;31mNameError\u001b[0m: name 'test_data_source_tmp' is not defined"
     ]
    }
   ],
   "source": [
    "predicted_target_test = jax.tree_util.tree_map(model.transport, test_data_source_tmp, test_data_conditions_tmp)\n",
    "test_metrics = jax.tree_util.tree_map(compute_metrics_fast, test_data_target_tmp, predicted_target_test)\n",
    "mean_test_metrics = compute_mean_metrics(test_metrics, prefix=\"test_\")\n",
    "\n",
    "predicted_target_test_decoded = jax.tree_util.tree_map(reconstruct_data_fn, predicted_target_test)\n",
    "test_metrics_decoded = jax.tree_util.tree_map(\n",
    "    compute_metrics_fast, test_data_target_decoded_tmp, predicted_target_test_decoded\n",
    ")\n",
    "mean_test_metrics_decoded = compute_mean_metrics(test_metrics_decoded, prefix=\"decoded_test_\")"
   ]
  },
  {
   "cell_type": "code",
   "execution_count": 24,
   "id": "ad829ff8-f3ab-443d-83b4-bed622b50aee",
   "metadata": {},
   "outputs": [],
   "source": [
    "pred_1 = model.transport(ood_data_source['A549_Alvespimycin_(17-DMAG)_HCl_10.0'], ood_data_conditions['A549_Alvespimycin_(17-DMAG)_HCl_10.0'])\n",
    "pred_2 = model.transport(ood_data_source['K562_Alvespimycin_(17-DMAG)_HCl_10.0'], ood_data_conditions['K562_Alvespimycin_(17-DMAG)_HCl_10.0'])"
   ]
  },
  {
   "cell_type": "code",
   "execution_count": 25,
   "id": "784c4d79-e5e8-48ee-ab11-fc15e2aeb7e3",
   "metadata": {},
   "outputs": [
    {
     "data": {
      "text/plain": [
       "10.810272"
      ]
     },
     "execution_count": 25,
     "metadata": {},
     "output_type": "execute_result"
    }
   ],
   "source": [
    "np.abs((pred_1 - pred_2)).max()"
   ]
  },
  {
   "cell_type": "code",
   "execution_count": 26,
   "id": "402191e8-adca-4eee-8499-fadb53ac0043",
   "metadata": {},
   "outputs": [
    {
     "data": {
      "text/plain": [
       "Array(10.810272, dtype=float32)"
      ]
     },
     "execution_count": 26,
     "metadata": {},
     "output_type": "execute_result"
    }
   ],
   "source": [
    "(pred_2 - pred_1).max()"
   ]
  },
  {
   "cell_type": "code",
   "execution_count": 27,
   "id": "35bc7462-24bf-4966-93be-8769ddecc0c0",
   "metadata": {},
   "outputs": [],
   "source": [
    "import anndata\n",
    "from anndata import AnnData\n",
    "adata_1 = AnnData(ood_data_source['K562_Belinostat_(PXD101)_10.0'])\n",
    "adata_2 = AnnData(ood_data_source['A549_Alvespimycin_(17-DMAG)_HCl_10.0'])\n",
    "adata_3 = AnnData(ood_data_target[\"A549_Dacinostat_(LAQ824)_10.0\"])\n",
    "adata_4 = AnnData(np.asarray(predicted_target_ood[\"A549_Dacinostat_(LAQ824)_10.0\"]))\n",
    "adata_5 = AnnData(ood_data_target[\"K562_Alvespimycin_(17-DMAG)_HCl_10.0\"])\n",
    "adata_6 = AnnData(np.asarray(predicted_target_ood[\"K562_Alvespimycin_(17-DMAG)_HCl_10.0\"]))"
   ]
  },
  {
   "cell_type": "code",
   "execution_count": 34,
   "id": "022de677-842b-4a63-83a5-7994d5de5b74",
   "metadata": {},
   "outputs": [
    {
     "name": "stderr",
     "output_type": "stream",
     "text": [
      "/home/icb/dominik.klein/mambaforge/envs/ot_pert_genot/lib/python3.12/site-packages/anndata/_core/anndata.py:1906: UserWarning: Observation names are not unique. To make them unique, call `.obs_names_make_unique`.\n",
      "  utils.warn_names_duplicates(\"obs\")\n"
     ]
    }
   ],
   "source": [
    "bdata = anndata.concat((adata_1, adata_2, adata_3, adata_4, adata_5, adata_6), label=\"dist\", keys=[\"src_k562\", \"src_a549\", \"tgt_a549_dac_10\", \"pred_a549_dac_10\", \"tgt_k562_alv_10\", \"pred_k562_alv_10\"])\n",
    "                                                                                                   "
   ]
  },
  {
   "cell_type": "code",
   "execution_count": 35,
   "id": "9bff2722-b76e-4fd4-96e3-9cc82043e159",
   "metadata": {},
   "outputs": [],
   "source": [
    "sc.pp.neighbors(bdata)"
   ]
  },
  {
   "cell_type": "code",
   "execution_count": 36,
   "id": "447fe26d-ed7f-4cc8-98f9-41c6aa929960",
   "metadata": {},
   "outputs": [],
   "source": [
    "sc.tl.umap(bdata)"
   ]
  },
  {
   "cell_type": "code",
   "execution_count": 37,
   "id": "85e41fcd-50cb-472a-bcf4-e6f310c29fff",
   "metadata": {},
   "outputs": [
    {
     "name": "stderr",
     "output_type": "stream",
     "text": [
      "/home/icb/dominik.klein/mambaforge/envs/ot_pert_genot/lib/python3.12/site-packages/scanpy/plotting/_tools/scatterplots.py:1234: FutureWarning: The default value of 'ignore' for the `na_action` parameter in pandas.Categorical.map is deprecated and will be changed to 'None' in a future version. Please set na_action to the desired value to avoid seeing this warning\n",
      "  color_vector = pd.Categorical(values.map(color_map))\n",
      "/home/icb/dominik.klein/mambaforge/envs/ot_pert_genot/lib/python3.12/site-packages/scanpy/plotting/_tools/scatterplots.py:394: UserWarning: No data for colormapping provided via 'c'. Parameters 'cmap' will be ignored\n",
      "  cax = scatter(\n"
     ]
    },
    {
     "data": {
      "image/png": "[encoded data removed]",
      "text/plain": [
       "<Figure size 640x480 with 1 Axes>"
      ]
     },
     "metadata": {},
     "output_type": "display_data"
    }
   ],
   "source": [
    "sc.pl.umap(bdata, color=\"dist\")"
   ]
  },
  {
   "cell_type": "code",
   "execution_count": 27,
   "id": "d7badd31-34b4-49c8-9059-e3fefd0e9863",
   "metadata": {},
   "outputs": [
    {
     "data": {
      "text/plain": [
       "dict_keys(['A549_Alvespimycin_(17-DMAG)_HCl_10.0', 'A549_Belinostat_(PXD101)_100.0', 'A549_Dacinostat_(LAQ824)_10.0', 'A549_Tanespimycin_(17-AAG)_10.0', 'K562_Alvespimycin_(17-DMAG)_HCl_10.0', 'K562_Belinostat_(PXD101)_10.0', 'K562_Belinostat_(PXD101)_100.0', 'K562_Givinostat_(ITF2357)_10.0', 'K562_Tanespimycin_(17-AAG)_10.0', 'MCF7_Alvespimycin_(17-DMAG)_HCl_10.0', 'MCF7_Alvespimycin_(17-DMAG)_HCl_100.0', 'MCF7_Alvespimycin_(17-DMAG)_HCl_1000.0', 'MCF7_Belinostat_(PXD101)_10.0', 'MCF7_Belinostat_(PXD101)_100.0', 'MCF7_Belinostat_(PXD101)_1000.0', 'MCF7_Belinostat_(PXD101)_10000.0', 'MCF7_Dacinostat_(LAQ824)_10.0', 'MCF7_Dacinostat_(LAQ824)_100.0', 'MCF7_Dacinostat_(LAQ824)_1000.0', 'MCF7_Dacinostat_(LAQ824)_10000.0', 'MCF7_Flavopiridol_HCl_10.0', 'MCF7_Givinostat_(ITF2357)_10.0', 'MCF7_Givinostat_(ITF2357)_100.0', 'MCF7_Givinostat_(ITF2357)_1000.0', 'MCF7_Givinostat_(ITF2357)_10000.0', 'MCF7_Hesperadin_10.0', 'MCF7_Hesperadin_1000.0', 'MCF7_Hesperadin_10000.0', 'MCF7_Quisinostat_(JNJ-26481585)_2HCl_10.0', 'MCF7_Quisinostat_(JNJ-26481585)_2HCl_100.0', 'MCF7_Quisinostat_(JNJ-26481585)_2HCl_1000.0', 'MCF7_Quisinostat_(JNJ-26481585)_2HCl_10000.0', 'MCF7_TAK-901_10.0', 'MCF7_TAK-901_100.0', 'MCF7_TAK-901_1000.0', 'MCF7_Tanespimycin_(17-AAG)_10.0', 'MCF7_Tanespimycin_(17-AAG)_100.0'])"
      ]
     },
     "execution_count": 27,
     "metadata": {},
     "output_type": "execute_result"
    }
   ],
   "source": [
    "ood_data_source.keys()\n"
   ]
  },
  {
   "cell_type": "code",
   "execution_count": 33,
   "id": "17bfeabe-cb39-4ed5-8b88-57fe59bf3ad3",
   "metadata": {},
   "outputs": [
    {
     "data": {
      "text/plain": [
       "View of AnnData object with n_obs × n_vars = 224 × 2002\n",
       "    obs: 'cell_type', 'dose', 'dose_character', 'dose_pattern', 'g1s_score', 'g2m_score', 'pathway', 'pathway_level_1', 'pathway_level_2', 'product_dose', 'product_name', 'proliferation_index', 'replicate', 'size_factor', 'target', 'vehicle', 'perturbation', 'drug', 'cell_line', 'logdose', 'condition', 'pubchem_name', 'pubchem_ID', 'smiles', 'control', 'ood', 'is_ood', 'split'\n",
       "    obsm: 'X_pca', 'cell_line_emb', 'ecfp', 'ecfp_logdose', 'ecfp_logdose_cell_line'\n",
       "    varm: 'X_train_mean'\n",
       "    layers: 'centered_X'"
      ]
     },
     "execution_count": 33,
     "metadata": {},
     "output_type": "execute_result"
    }
   ],
   "source": [
    "adata_ood[adata_ood.obs[\"condition\"]==\"A549_Alvespimycin_(17-DMAG)_HCl_10.0\"]"
   ]
  },
  {
   "cell_type": "code",
   "execution_count": 38,
   "id": "967d8282-6114-42ce-91e6-53779957e518",
   "metadata": {},
   "outputs": [
    {
     "ename": "ValueError",
     "evalue": "operands could not be broadcast together with shapes (214,30) (100,30) ",
     "output_type": "error",
     "traceback": [
      "\u001b[0;31m---------------------------------------------------------------------------\u001b[0m",
      "\u001b[0;31mValueError\u001b[0m                                Traceback (most recent call last)",
      "Cell \u001b[0;32mIn[38], line 1\u001b[0m\n\u001b[0;32m----> 1\u001b[0m adata_ood[adata_ood\u001b[38;5;241m.\u001b[39mobs[\u001b[38;5;124m\"\u001b[39m\u001b[38;5;124mcondition\u001b[39m\u001b[38;5;124m\"\u001b[39m]\u001b[38;5;241m==\u001b[39m\u001b[38;5;124m\"\u001b[39m\u001b[38;5;124mK562_Alvespimycin_(17-DMAG)_HCl_10.0\u001b[39m\u001b[38;5;124m\"\u001b[39m]\u001b[38;5;241m.\u001b[39mobsm[\u001b[38;5;124m\"\u001b[39m\u001b[38;5;124mX_pca\u001b[39m\u001b[38;5;124m\"\u001b[39m] \u001b[38;5;241m==\u001b[39m ood_data_target[\u001b[38;5;124m\"\u001b[39m\u001b[38;5;124mK562_Alvespimycin_(17-DMAG)_HCl_10.0\u001b[39m\u001b[38;5;124m\"\u001b[39m]\n",
      "File \u001b[0;32m~/mambaforge/envs/ot_pert_genot/lib/python3.12/site-packages/anndata/_core/views.py:144\u001b[0m, in \u001b[0;36mArrayView.__array_ufunc__\u001b[0;34m(self, ufunc, method, out, *inputs, **kwargs)\u001b[0m\n\u001b[1;32m    141\u001b[0m \u001b[38;5;28;01melse\u001b[39;00m:\n\u001b[1;32m    142\u001b[0m     out \u001b[38;5;241m=\u001b[39m outputs \u001b[38;5;241m=\u001b[39m \u001b[38;5;28mtuple\u001b[39m(convert_all(out))\n\u001b[0;32m--> 144\u001b[0m results \u001b[38;5;241m=\u001b[39m \u001b[38;5;28msuper\u001b[39m()\u001b[38;5;241m.\u001b[39m__array_ufunc__(\n\u001b[1;32m    145\u001b[0m     ufunc, method, \u001b[38;5;241m*\u001b[39mconvert_all(inputs), out\u001b[38;5;241m=\u001b[39mout, \u001b[38;5;241m*\u001b[39m\u001b[38;5;241m*\u001b[39mkwargs\n\u001b[1;32m    146\u001b[0m )\n\u001b[1;32m    147\u001b[0m \u001b[38;5;28;01mif\u001b[39;00m results \u001b[38;5;129;01mis\u001b[39;00m \u001b[38;5;28mNotImplemented\u001b[39m:\n\u001b[1;32m    148\u001b[0m     \u001b[38;5;28;01mreturn\u001b[39;00m \u001b[38;5;28mNotImplemented\u001b[39m\n",
      "\u001b[0;31mValueError\u001b[0m: operands could not be broadcast together with shapes (214,30) (100,30) "
     ]
    }
   ],
   "source": [
    "adata_ood[adata_ood.obs[\"condition\"]==\"K562_Alvespimycin_(17-DMAG)_HCl_10.0\"].obsm[\"X_pca\"] == ood_data_target[\"K562_Alvespimycin_(17-DMAG)_HCl_10.0\"]\n"
   ]
  },
  {
   "cell_type": "code",
   "execution_count": 39,
   "id": "b42ced17-f86a-48ea-9569-eafa94863057",
   "metadata": {},
   "outputs": [
    {
     "data": {
      "text/plain": [
       "condition\n",
       "A549_Vehicle_0.0                        500\n",
       "K562_Vehicle_0.0                        500\n",
       "A549_Alvespimycin_(17-DMAG)_HCl_10.0    224\n",
       "K562_Belinostat_(PXD101)_10.0           221\n",
       "K562_Tanespimycin_(17-AAG)_10.0         219\n",
       "A549_Belinostat_(PXD101)_100.0          216\n",
       "A549_Tanespimycin_(17-AAG)_10.0         214\n",
       "K562_Alvespimycin_(17-DMAG)_HCl_10.0    214\n",
       "K562_Givinostat_(ITF2357)_10.0          206\n",
       "K562_Belinostat_(PXD101)_100.0          203\n",
       "A549_Dacinostat_(LAQ824)_10.0           200\n",
       "Name: count, dtype: int64"
      ]
     },
     "execution_count": 39,
     "metadata": {},
     "output_type": "execute_result"
    }
   ],
   "source": [
    "adata_ood.obs[\"condition\"].value_counts()"
   ]
  },
  {
   "cell_type": "code",
   "execution_count": null,
   "id": "db1ac791-a2ce-41d3-8516-1c3c2cfe984b",
   "metadata": {},
   "outputs": [],
   "source": []
  }
 ],
 "metadata": {
  "kernelspec": {
   "display_name": "ot_pert_genot",
   "language": "python",
   "name": "ot_pert_genot"
  },
  "language_info": {
   "codemirror_mode": {
    "name": "ipython",
    "version": 3
   },
   "file_extension": ".py",
   "mimetype": "text/x-python",
   "name": "python",
   "nbconvert_exporter": "python",
   "pygments_lexer": "ipython3",
   "version": "3.12.2"
  }
 },
 "nbformat": 4,
 "nbformat_minor": 5
}
