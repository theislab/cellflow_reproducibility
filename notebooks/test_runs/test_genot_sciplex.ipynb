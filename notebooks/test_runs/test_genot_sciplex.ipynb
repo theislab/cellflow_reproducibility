{
 "cells": [
  {
   "cell_type": "code",
   "execution_count": 1,
   "id": "e761b2ce-9f52-4aff-ba9e-93048c063928",
   "metadata": {},
   "outputs": [],
   "source": [
    "import hydra\n",
    "import wandb\n",
    "from ott.neural import datasets\n",
    "import sys\n",
    "from omegaconf import DictConfig\n",
    "import jax.numpy as jnp\n",
    "from jax import random\n",
    "from typing import Optional, Literal\n",
    "import jax\n",
    "import pathlib\n",
    "import optax\n",
    "import yaml\n",
    "from datetime import datetime\n",
    "from flax import linen as nn\n",
    "import functools\n",
    "from tqdm import tqdm\n",
    "from flax.training import train_state\n",
    "\n",
    "from ott.neural.networks.layers import time_encoder\n",
    "from ott.neural.methods.flows import dynamics, otfm, genot\n",
    "from ott.neural.networks import velocity_field\n",
    "from ott.solvers import utils as solver_utils\n",
    "import jax.tree_util as jtu\n",
    "from ott.neural.networks.layers import time_encoder\n",
    "from ott.neural.networks.velocity_field import VelocityField\n",
    "import pandas as pd\n",
    "import os\n",
    "\n",
    "import hydra\n",
    "from omegaconf import DictConfig, OmegaConf\n",
    "\n",
    "from torch.utils.data import DataLoader\n",
    "import numpy as np\n",
    "\n",
    "import scanpy as sc\n",
    "from ot_pert.metrics import compute_metrics_fast, compute_mean_metrics\n",
    "from ot_pert.nets.nets import VelocityFieldWithAttention\n",
    "from ot_pert.utils import ConditionalLoader\n"
   ]
  },
  {
   "cell_type": "code",
   "execution_count": 2,
   "id": "74575f53-0f9e-4c99-b2a8-967ec3143352",
   "metadata": {},
   "outputs": [],
   "source": [
    "def reconstruct_data(embedding: np.ndarray, projection_matrix: np.ndarray, mean_to_add: np.ndarray) -> np.ndarray:\n",
    "    return np.matmul(embedding, projection_matrix.T) + mean_to_add"
   ]
  },
  {
   "cell_type": "code",
   "execution_count": 3,
   "id": "2e7d7477-ca40-49dd-b84c-6f6b67f71706",
   "metadata": {},
   "outputs": [],
   "source": [
    "obsm_key_cond = \"ecfp_dose_cell_line\"\n",
    "obsm_key_data = \"X_pca\""
   ]
  },
  {
   "cell_type": "code",
   "execution_count": 4,
   "id": "f80093da-403e-4a3e-8a39-afc0b8d66467",
   "metadata": {},
   "outputs": [],
   "source": [
    "adata_train_path = \"/lustre/groups/ml01/workspace/ot_perturbation/data/sciplex/adata_train_30.h5ad\"\n",
    "adata_test_path = \"/lustre/groups/ml01/workspace/ot_perturbation/data/sciplex/adata_test_30.h5ad\"\n",
    "adata_ood_path = \"/lustre/groups/ml01/workspace/ot_perturbation/data/sciplex/adata_ood_30.h5ad\""
   ]
  },
  {
   "cell_type": "code",
   "execution_count": 5,
   "id": "fab46905-01b3-42e4-a2a1-ed7baa0b8344",
   "metadata": {},
   "outputs": [
    {
     "name": "stderr",
     "output_type": "stream",
     "text": [
      "/home/icb/dominik.klein/mambaforge/envs/ot_pert_genot/lib/python3.12/site-packages/anndata/__init__.py:51: FutureWarning: `anndata.read` is deprecated, use `anndata.read_h5ad` instead. `ad.read` will be removed in mid 2024.\n",
      "  warnings.warn(\n",
      "/home/icb/dominik.klein/mambaforge/envs/ot_pert_genot/lib/python3.12/site-packages/anndata/__init__.py:51: FutureWarning: `anndata.read` is deprecated, use `anndata.read_h5ad` instead. `ad.read` will be removed in mid 2024.\n",
      "  warnings.warn(\n",
      "/home/icb/dominik.klein/mambaforge/envs/ot_pert_genot/lib/python3.12/site-packages/anndata/__init__.py:51: FutureWarning: `anndata.read` is deprecated, use `anndata.read_h5ad` instead. `ad.read` will be removed in mid 2024.\n",
      "  warnings.warn(\n"
     ]
    }
   ],
   "source": [
    "adata_train = sc.read(adata_train_path)\n",
    "adata_test = sc.read(adata_test_path)\n",
    "adata_ood = sc.read(adata_ood_path)"
   ]
  },
  {
   "cell_type": "code",
   "execution_count": 6,
   "id": "da9fda51-88db-44f2-b359-eb538622de11",
   "metadata": {},
   "outputs": [],
   "source": [
    "sc.pp.subsample(adata_train, fraction=0.3)"
   ]
  },
  {
   "cell_type": "code",
   "execution_count": 7,
   "id": "f1b701de-8c48-4880-b85d-cc667475d4cb",
   "metadata": {},
   "outputs": [],
   "source": [
    "adata_train.obsm[\"ecfp_dose\"] = np.concatenate(\n",
    "    (adata_train.obsm[\"ecfp\"], np.asarray(adata_train.obs[\"dose\"])[:, None]), axis=1\n",
    ")\n",
    "adata_test.obsm[\"ecfp_dose\"] = np.concatenate(\n",
    "    (adata_test.obsm[\"ecfp\"], np.asarray(adata_test.obs[\"dose\"])[:, None]), axis=1\n",
    ")\n",
    "adata_ood.obsm[\"ecfp_dose\"] = np.concatenate(\n",
    "    (adata_ood.obsm[\"ecfp\"], np.asarray(adata_ood.obs[\"dose\"])[:, None]), axis=1\n",
    ")"
   ]
  },
  {
   "cell_type": "code",
   "execution_count": 8,
   "id": "2342c0bc-9552-4c62-9fda-87af01ce07cc",
   "metadata": {},
   "outputs": [],
   "source": [
    "adata_train.obsm[\"ecfp_dose_cell_line\"] = np.concatenate(\n",
    "    (adata_train.obsm[\"ecfp_dose\"], adata_train.obsm[\"cell_line_emb\"]), axis=1\n",
    ")\n",
    "adata_test.obsm[\"ecfp_dose_cell_line\"] = np.concatenate(\n",
    "    (adata_test.obsm[\"ecfp_dose\"], adata_test.obsm[\"cell_line_emb\"]), axis=1\n",
    ")\n",
    "adata_ood.obsm[\"ecfp_dose_cell_line\"] = np.concatenate(\n",
    "    (adata_ood.obsm[\"ecfp_dose\"], adata_ood.obsm[\"cell_line_emb\"]), axis=1\n",
    ")"
   ]
  },
  {
   "cell_type": "code",
   "execution_count": 9,
   "id": "e81c5a24-8ae5-495c-bf39-588a5600bbd4",
   "metadata": {},
   "outputs": [
    {
     "name": "stderr",
     "output_type": "stream",
     "text": [
      "2024-04-24 14:07:51.618117: W external/xla/xla/service/gpu/nvptx_compiler.cc:718] The NVIDIA driver's CUDA version is 12.3 which is older than the ptxas CUDA version (12.4.131). Because the driver is older than the ptxas version, XLA is disabling parallel compilation, which may slow down compilation. You should update your NVIDIA driver or use the NVIDIA-provided CUDA forward compatibility packages.\n"
     ]
    }
   ],
   "source": [
    "def data_match_fn(\n",
    "    src_lin: Optional[jnp.ndarray], tgt_lin: Optional[jnp.ndarray],\n",
    "    src_quad: Optional[jnp.ndarray], tgt_quad: Optional[jnp.ndarray], *,\n",
    "    typ: Literal[\"lin\", \"quad\", \"fused\"], epsilon: float = 1e-2, tau_a: float = 1.0,\n",
    "    tau_b: float = 1.0,\n",
    ") -> jnp.ndarray:\n",
    "    if typ == \"lin\":\n",
    "        return solver_utils.match_linear(x=src_lin, y=tgt_lin, scale_cost=\"mean\", epsilon=epsilon, tau_a=tau_a, tau_b=tau_b)\n",
    "    if typ == \"quad\":\n",
    "        return solver_utils.match_quadratic(xx=src_quad, yy=tgt_quad)\n",
    "    if typ == \"fused\":\n",
    "        return solver_utils.match_quadratic(\n",
    "            xx=src_quad, yy=tgt_quad, x=src_lin, y=tgt_lin\n",
    "        )\n",
    "    raise NotImplementedError(f\"Unknown type: {typ}.\")\n",
    "\n",
    "# Load data\n",
    "\n",
    "dls = []\n",
    "\n",
    "train_data_source = {}\n",
    "train_data_target = {}\n",
    "train_data_source_decoded = {}\n",
    "train_data_target_decoded = {}\n",
    "train_data_conditions = {}\n",
    "\n",
    "\n",
    "for cond in adata_train.obs[\"condition\"].cat.categories:\n",
    "    if \"Vehicle\" in cond:\n",
    "        continue\n",
    "    src_str = list(adata_train[adata_train.obs[\"condition\"]==cond].obs[\"cell_type\"].unique())\n",
    "    assert len(src_str) == 1\n",
    "    source = adata_train[adata_train.obs[\"condition\"]==src_str[0]+\"_Vehicle_0.0\"].obsm[obsm_key_data]\n",
    "    source_decoded = adata_train[adata_train.obs[\"condition\"]==src_str[0]+\"_Vehicle_0.0\"].X.A\n",
    "    target = adata_train[adata_train.obs[\"condition\"]==cond].obsm[obsm_key_data]\n",
    "    target_decoded = adata_train[adata_train.obs[\"condition\"]==cond].X.A\n",
    "    conds = adata_train[adata_train.obs[\"condition\"]==cond].obsm[obsm_key_cond]\n",
    "    assert np.all(np.all(conds == conds[0], axis=1))\n",
    "    conds = np.tile(conds[0], (len(source), 1))\n",
    "    dls.append(DataLoader(datasets.OTDataset(datasets.OTData(\n",
    "        lin=source,\n",
    "        condition=conds,\n",
    "    ), datasets.OTData(lin=target)), batch_size=1024, shuffle=True))\n",
    "    train_data_source[cond] = source\n",
    "    train_data_target[cond] = target\n",
    "    train_data_conditions[cond] = conds\n",
    "    train_data_source_decoded[cond] = source_decoded\n",
    "    train_data_target_decoded[cond] = target_decoded\n",
    "\n",
    "train_loader = ConditionalLoader(dls, seed=0)\n",
    "\n",
    "test_data_source = {}\n",
    "test_data_target = {}\n",
    "test_data_source_decoded = {}\n",
    "test_data_target_decoded = {}\n",
    "test_data_conditions = {}\n",
    "\n",
    "for cond in adata_test.obs[\"condition\"].cat.categories:\n",
    "    if \"Vehicle\" in cond:\n",
    "        continue\n",
    "    src_str = list(adata_test[adata_test.obs[\"condition\"]==cond].obs[\"cell_type\"].unique())\n",
    "    assert len(src_str) == 1\n",
    "    source = adata_test[adata_test.obs[\"condition\"]==src_str[0]+\"_Vehicle_0.0\"].obsm[obsm_key_data]\n",
    "    source_decoded = adata_test[adata_test.obs[\"condition\"]==src_str[0]+\"_Vehicle_0.0\"].X.A\n",
    "\n",
    "    target = adata_test[adata_test.obs[\"condition\"]==cond].obsm[obsm_key_data]\n",
    "    target_decoded = adata_test[adata_test.obs[\"condition\"]==cond].X.A\n",
    "\n",
    "\n",
    "    conds = adata_test[adata_test.obs[\"condition\"]==cond].obsm[obsm_key_cond]\n",
    "    assert np.all(np.all(conds == conds[0], axis=1))\n",
    "    conds = np.tile(conds[0], (len(source), 1))\n",
    "    test_data_source[cond] = source\n",
    "    test_data_target[cond] = target\n",
    "    test_data_source_decoded[cond] = source_decoded\n",
    "    test_data_target_decoded[cond] = target_decoded\n",
    "    test_data_conditions[cond] = conds\n",
    "\n",
    "ood_data_source = {}\n",
    "ood_data_target = {}\n",
    "ood_data_source_decoded = {}\n",
    "ood_data_target_decoded = {}\n",
    "ood_data_conditions = {}\n",
    "\n",
    "for cond in adata_ood.obs[\"condition\"].cat.categories:\n",
    "    if \"Vehicle\" in cond:\n",
    "        continue\n",
    "    src_str = list(adata_ood[adata_ood.obs[\"condition\"]==cond].obs[\"cell_type\"].unique())\n",
    "    assert len(src_str) == 1\n",
    "    source = adata_ood[adata_ood.obs[\"condition\"]==src_str[0]+\"_Vehicle_0.0\"].obsm[obsm_key_data]\n",
    "    source_decoded = adata_ood[adata_ood.obs[\"condition\"]==src_str[0]+\"_Vehicle_0.0\"].X.A\n",
    "    target = adata_ood[adata_ood.obs[\"condition\"]==cond].obsm[obsm_key_data]\n",
    "    target_decoded = adata_ood[adata_ood.obs[\"condition\"]==cond].X.A\n",
    "    conds = adata_ood[adata_ood.obs[\"condition\"]==cond].obsm[obsm_key_cond]\n",
    "    assert np.all(np.all(conds == conds[0], axis=1))\n",
    "    conds = np.tile(conds[0], (len(source), 1))\n",
    "    ood_data_source[cond] = source\n",
    "    ood_data_target[cond] = target\n",
    "    ood_data_source_decoded[cond] = source_decoded\n",
    "    ood_data_target_decoded[cond] = target_decoded\n",
    "    ood_data_conditions[cond] = conds\n",
    "\n",
    "reconstruct_data_fn = functools.partial(reconstruct_data, projection_matrix=adata_train.varm[\"PCs\"], mean_to_add=adata_train.varm[\"X_train_mean\"].T)\n"
   ]
  },
  {
   "cell_type": "code",
   "execution_count": 10,
   "id": "f4e3ec12-c0cd-4b18-8a05-c06d531dde9a",
   "metadata": {},
   "outputs": [],
   "source": [
    "reconstruct_data_fn = functools.partial(reconstruct_data, projection_matrix=adata_train.varm[\"PCs\"], mean_to_add=adata_train.varm[\"X_train_mean\"].T)\n",
    "\n",
    "train_deg_dict = {k: v for k,v in adata_train.uns['rank_genes_groups_cov_all'].items() if k in train_data_conditions.keys()}\n",
    "test_deg_dict = {k: v for k,v in adata_train.uns['rank_genes_groups_cov_all'].items() if k in test_data_conditions.keys()}\n",
    "ood_deg_dict = {k: v for k,v in adata_train.uns['rank_genes_groups_cov_all'].items() if k in ood_data_conditions.keys()}\n",
    "\n",
    "def get_mask(x, y):\n",
    "    return x[:, [gene in y for gene in adata_train.var_names]]"
   ]
  },
  {
   "cell_type": "code",
   "execution_count": 11,
   "id": "86e0193b-e615-47ba-a26e-8115ea641ca3",
   "metadata": {},
   "outputs": [],
   "source": [
    "source_dim = source.shape[1]\n",
    "target_dim = source_dim\n",
    "condition_dim = conds.shape[1]\n",
    "\n",
    "source_dim = source.shape[1]\n",
    "target_dim = source_dim\n",
    "condition_dim = conds.shape[1]"
   ]
  },
  {
   "cell_type": "code",
   "execution_count": 12,
   "id": "ad838285-5aaa-45b4-abdc-56301ac404e3",
   "metadata": {},
   "outputs": [],
   "source": [
    "from typing import Callable, Optional, Sequence\n",
    "\n",
    "import jax.numpy as jnp\n",
    "\n",
    "from flax import linen as nn\n",
    "\n",
    "from ott.neural.networks.layers import time_encoder\n",
    "from ot_pert.nets.nets import CondVelocityField"
   ]
  },
  {
   "cell_type": "code",
   "execution_count": 13,
   "id": "318c0f30-741f-4c43-b91d-9faee6132676",
   "metadata": {},
   "outputs": [],
   "source": [
    "vf = CondVelocityField(\n",
    "    hidden_dims=[1024, 1024, 1024],\n",
    "    time_dims=[512,512],\n",
    "    output_dims=[1024, 1024, 1024]+[target_dim],\n",
    "    condition_dims=[2048, 2048],\n",
    "    time_encoder = functools.partial(time_encoder.cyclical_time_encoder, n_freqs=1024),\n",
    "    dropout_rate=0.2\n",
    "    )\n",
    "\n",
    "model = genot.GENOT(\n",
    "    vf,\n",
    "    flow=dynamics.ConstantNoiseFlow(0.0),\n",
    "    data_match_fn=jax.jit(functools.partial(data_match_fn, typ=\"lin\", src_quad=None, tgt_quad=None)),\n",
    "    source_dim=source_dim,\n",
    "    target_dim=target_dim,\n",
    "    condition_dim=condition_dim,\n",
    "    rng=jax.random.PRNGKey(13),\n",
    "    optimizer=optax.MultiSteps(optax.adam(learning_rate=1e-4), 20),)\n",
    "training_logs = {\"loss\": []}"
   ]
  },
  {
   "cell_type": "code",
   "execution_count": 14,
   "id": "06b39388-2df6-4ccd-8c65-4a6a2412b183",
   "metadata": {},
   "outputs": [],
   "source": [
    "import functools\n",
    "import sys\n",
    "import traceback\n",
    "from typing import Optional, Literal, Tuple, Dict\n",
    "import hydra\n",
    "import jax\n",
    "import jax.numpy as jnp\n",
    "import jax.tree_util as jtu\n",
    "import numpy as np\n",
    "import optax\n",
    "import scanpy as sc\n",
    "import wandb\n",
    "from omegaconf import DictConfig, OmegaConf\n",
    "from ott.neural import datasets\n",
    "from ott.neural.methods.flows import dynamics, genot\n",
    "from ott.neural.networks.layers import time_encoder\n",
    "from ott.neural.networks.velocity_field import VelocityField\n",
    "from ott.solvers import utils as solver_utils\n",
    "from torch.utils.data import DataLoader\n",
    "from tqdm import tqdm\n",
    "import orbax\n",
    "import os\n",
    "\n",
    "def prepare_data(\n",
    "    batch: Dict[str, jnp.ndarray]\n",
    "    ) -> Tuple[Tuple[jnp.ndarray, Optional[jnp.ndarray], jnp.ndarray],\n",
    "            Tuple[jnp.ndarray, jnp.ndarray, Optional[jnp.ndarray],\n",
    "                    Optional[jnp.ndarray]]]:\n",
    "    src_lin, src_quad = batch.get(\"src_lin\"), batch.get(\"src_quad\")\n",
    "    tgt_lin, tgt_quad = batch.get(\"tgt_lin\"), batch.get(\"tgt_quad\")\n",
    "\n",
    "    if src_quad is None and tgt_quad is None:  # lin\n",
    "        src, tgt = src_lin, tgt_lin\n",
    "        arrs = src_lin, tgt_lin\n",
    "    elif src_lin is None and tgt_lin is None:  # quad\n",
    "        src, tgt = src_quad, tgt_quad\n",
    "        arrs = src_quad, tgt_quad\n",
    "    elif all(\n",
    "        arr is not None for arr in (src_lin, tgt_lin, src_quad, tgt_quad)\n",
    "    ):  # fused quad\n",
    "        src = jnp.concatenate([src_lin, src_quad], axis=1)\n",
    "        tgt = jnp.concatenate([tgt_lin, tgt_quad], axis=1)\n",
    "        arrs = src_quad, tgt_quad, src_lin, tgt_lin\n",
    "    else:\n",
    "        raise RuntimeError(\"Cannot infer OT problem type from data.\")\n",
    "\n",
    "    return (src, batch.get(\"src_condition\"), tgt), arrs"
   ]
  },
  {
   "cell_type": "code",
   "execution_count": 15,
   "id": "df472524-4a2a-496b-9169-6d1f5eafb87c",
   "metadata": {},
   "outputs": [
    {
     "name": "stderr",
     "output_type": "stream",
     "text": [
      " 45%|████▌     | 22710/50000 [50:42<1:00:56,  7.46it/s]\n"
     ]
    },
    {
     "ename": "KeyboardInterrupt",
     "evalue": "",
     "output_type": "error",
     "traceback": [
      "\u001b[0;31m---------------------------------------------------------------------------\u001b[0m",
      "\u001b[0;31mKeyboardInterrupt\u001b[0m                         Traceback (most recent call last)",
      "Cell \u001b[0;32mIn[15], line 15\u001b[0m\n\u001b[1;32m     12\u001b[0m time \u001b[38;5;241m=\u001b[39m model\u001b[38;5;241m.\u001b[39mtime_sampler(rng_time, n \u001b[38;5;241m*\u001b[39m model\u001b[38;5;241m.\u001b[39mn_samples_per_src)\n\u001b[1;32m     13\u001b[0m latent \u001b[38;5;241m=\u001b[39m model\u001b[38;5;241m.\u001b[39mlatent_noise_fn(rng_noise, (n, model\u001b[38;5;241m.\u001b[39mn_samples_per_src))\n\u001b[0;32m---> 15\u001b[0m tmat \u001b[38;5;241m=\u001b[39m model\u001b[38;5;241m.\u001b[39mdata_match_fn(\u001b[38;5;241m*\u001b[39mmatching_data)  \u001b[38;5;66;03m# (n, m)\u001b[39;00m\n\u001b[1;32m     16\u001b[0m src_ixs, tgt_ixs \u001b[38;5;241m=\u001b[39m solver_utils\u001b[38;5;241m.\u001b[39msample_conditional(  \u001b[38;5;66;03m# (n, k), (m, k)\u001b[39;00m\n\u001b[1;32m     17\u001b[0m rng_resample,\n\u001b[1;32m     18\u001b[0m tmat,\n\u001b[1;32m     19\u001b[0m k\u001b[38;5;241m=\u001b[39mmodel\u001b[38;5;241m.\u001b[39mn_samples_per_src,\n\u001b[1;32m     20\u001b[0m )\n\u001b[1;32m     22\u001b[0m src, tgt \u001b[38;5;241m=\u001b[39m src[src_ixs], tgt[tgt_ixs]  \u001b[38;5;66;03m# (n, k, ...),  # (m, k, ...)\u001b[39;00m\n",
      "\u001b[0;31mKeyboardInterrupt\u001b[0m: "
     ]
    }
   ],
   "source": [
    "\n",
    "\n",
    "rng = jax.random.PRNGKey(0)\n",
    "for it in tqdm(range(50000)):\n",
    "    batch = next(iter(train_loader))\n",
    "    batch = jtu.tree_map(jnp.asarray, batch)\n",
    "    rng = jax.random.split(rng, 5)\n",
    "    rng, rng_resample, rng_noise, rng_time, rng_step_fn = rng\n",
    "    \n",
    "    batch = jtu.tree_map(jnp.asarray, batch)\n",
    "    (src, src_cond, tgt), matching_data = prepare_data(batch)\n",
    "    \n",
    "    n = src.shape[0]\n",
    "    time = model.time_sampler(rng_time, n * model.n_samples_per_src)\n",
    "    latent = model.latent_noise_fn(rng_noise, (n, model.n_samples_per_src))\n",
    "    \n",
    "    tmat = model.data_match_fn(*matching_data)  # (n, m)\n",
    "    src_ixs, tgt_ixs = solver_utils.sample_conditional(  # (n, k), (m, k)\n",
    "    rng_resample,\n",
    "    tmat,\n",
    "    k=model.n_samples_per_src,\n",
    "    )\n",
    "    \n",
    "    src, tgt = src[src_ixs], tgt[tgt_ixs]  # (n, k, ...),  # (m, k, ...)\n",
    "    if src_cond is not None:\n",
    "        src_cond = src_cond[src_ixs]\n",
    "    \n",
    "    if model.latent_match_fn is not None:\n",
    "        src, src_cond, tgt = model._match_latent(rng, src, src_cond, latent, tgt)\n",
    "    \n",
    "    src = src.reshape(-1, *src.shape[2:])  # (n * k, ...)\n",
    "    tgt = tgt.reshape(-1, *tgt.shape[2:])  # (m * k, ...)\n",
    "    latent = latent.reshape(-1, *latent.shape[2:])\n",
    "    if src_cond is not None:\n",
    "        src_cond = src_cond.reshape(-1, *src_cond.shape[2:])\n",
    "\n",
    "    \n",
    "    \n",
    "    loss, model.vf_state = model.step_fn(\n",
    "    rng_step_fn, model.vf_state, time, src, tgt, latent, src_cond\n",
    "    )\n",
    "\n",
    "    training_logs[\"loss\"].append(float(loss))\n",
    "    if (it % 100000 == 0) and (it > 0):\n",
    "        idcs = np.random.choice(list(test_data_source.keys()), 20)\n",
    "        test_data_source_tmp = {k:v for k,v in test_data_source.items() if k in idcs}\n",
    "        test_data_target_tmp = {k:v for k,v in test_data_target.items() if k in idcs}\n",
    "        test_data_conditions_tmp = {k:v for k,v in test_data_conditions.items() if k in idcs}\n",
    "        test_data_target_decoded_tmp = {k:v for k,v in test_data_target_decoded.items() if k in idcs}\n",
    "        test_deg_dict_tmp = {k:v for k,v in test_deg_dict.items() if k in idcs}\n",
    "        valid_losses = []\n",
    "        #for cond in test_data_source_tmp.keys():\n",
    "        #    src = test_data_source_tmp[cond]\n",
    "        #    tgt = test_data_target_tmp[cond]\n",
    "        #    src_cond = test_data_conditions_tmp[cond]\n",
    "        #    if model.match_fn is not None:\n",
    "        #        tmat = model.match_fn(src, tgt)\n",
    "        #        src_ixs, tgt_ixs = solver_utils.sample_joint(rng_resample, tmat)\n",
    "        #        src, tgt = src[src_ixs], tgt[tgt_ixs]\n",
    "        #        src_cond = None if src_cond is None else src_cond[src_ixs]\n",
    "        #    _, valid_loss = model.step_fn(\n",
    "        #        rng,\n",
    "        #        model.vf_state,\n",
    "        #        src,\n",
    "        #        tgt,\n",
    "        #        src_cond,\n",
    "        #    )\n",
    "        #    valid_losses.append(valid_loss)\n",
    "\n",
    "        # predicted_target_train = jax.tree_util.tree_map(model.transport, train_data_source, train_data_conditions)\n",
    "        # train_metrics = jax.tree_util.tree_map(compute_metrics_fast, train_data_target, predicted_target_train)\n",
    "        # mean_train_metrics = compute_mean_metrics(train_metrics, prefix=\"train_\")\n",
    "\n",
    "        # predicted_target_train_decoded = jax.tree_util.tree_map(reconstruct_data_fn, predicted_target_train)\n",
    "        # train_metrics_decoded = jax.tree_util.tree_map(compute_metrics_fast, train_data_target_decoded, predicted_target_train_decoded)\n",
    "        # mean_train_metrics_decoded = compute_mean_metrics(train_metrics_decoded, prefix=\"decoded_train_\")\n",
    "\n",
    "        # train_deg_target_decoded_predicted = jax.tree_util.tree_map(get_mask, predicted_target_train_decoded, train_deg_dict)\n",
    "        # train_deg_target_decoded = jax.tree_util.tree_map(get_mask, train_data_target_decoded, test_deg_dict)\n",
    "\n",
    "        predicted_target_test = jax.tree_util.tree_map(model.transport, test_data_source_tmp, test_data_conditions_tmp)\n",
    "        #test_metrics = jax.tree_util.tree_map(compute_metrics_fast, test_data_target_tmp, predicted_target_test)\n",
    "        #mean_test_metrics = compute_mean_metrics(test_metrics, prefix=\"test_\")\n",
    "\n",
    "        predicted_target_test_decoded = jax.tree_util.tree_map(reconstruct_data_fn, predicted_target_test)\n",
    "        test_metrics_decoded = jax.tree_util.tree_map(\n",
    "            compute_metrics_fast, test_data_target_decoded_tmp, predicted_target_test_decoded\n",
    "        )\n",
    "        mean_test_metrics_decoded = compute_mean_metrics(test_metrics_decoded, prefix=\"decoded_test_\")\n",
    "\n",
    "\n",
    "        #test_deg_target_decoded_predicted = jax.tree_util.tree_map(\n",
    "        #    get_mask, predicted_target_test_decoded, test_deg_dict_tmp\n",
    "        #)\n",
    "        #test_deg_target_decoded = jax.tree_util.tree_map(get_mask, test_data_target_decoded_tmp, test_deg_dict_tmp)\n",
    "        #deg_test_metrics_encoded = jax.tree_util.tree_map(\n",
    "        #    compute_metrics_fast, test_deg_target_decoded, test_deg_target_decoded_predicted\n",
    "        #)\n",
    "        #deg_mean_test_metrics_encoded = compute_mean_metrics(deg_test_metrics_encoded, prefix=\"deg_test_\")\n",
    "\n",
    "        predicted_target_ood = jax.tree_util.tree_map(model.transport, ood_data_source, ood_data_conditions)\n",
    "        ood_metrics = jax.tree_util.tree_map(compute_metrics_fast, ood_data_target, predicted_target_ood)\n",
    "        mean_ood_metrics = compute_mean_metrics(ood_metrics, prefix=\"ood_\")\n",
    "\n",
    "        predicted_target_ood_decoded = jax.tree_util.tree_map(reconstruct_data_fn, predicted_target_ood)\n",
    "        ood_metrics_decoded = jax.tree_util.tree_map(\n",
    "            compute_metrics_fast, ood_data_target_decoded, predicted_target_ood_decoded\n",
    "        )\n",
    "        mean_ood_metrics_decoded = compute_mean_metrics(ood_metrics_decoded, prefix=\"decoded_ood_\")\n",
    "\n",
    "        #ood_deg_target_decoded_predicted = jax.tree_util.tree_map(\n",
    "        #    get_mask, predicted_target_ood_decoded, ood_deg_dict\n",
    "        #)\n",
    "        #ood_deg_target_decoded = jax.tree_util.tree_map(get_mask, ood_data_target_decoded, ood_deg_dict)\n",
    "        #deg_ood_metrics_encoded = jax.tree_util.tree_map(\n",
    "        #    compute_metrics_fast, ood_deg_target_decoded, ood_deg_target_decoded_predicted\n",
    "        #)\n",
    "        #deg_mean_ood_metrics_encoded = compute_mean_metrics(deg_ood_metrics_encoded, prefix=\"deg_ood_\")\n",
    "        print(mean_test_metrics_decoded, mean_ood_metrics_decoded)\n"
   ]
  },
  {
   "cell_type": "code",
   "execution_count": null,
   "id": "c29c3437-af1a-46f7-8f94-dee977fdf04e",
   "metadata": {},
   "outputs": [],
   "source": [
    "predicted_target_ood = jax.tree_util.tree_map(model.transport, ood_data_source, ood_data_conditions)\n",
    "ood_metrics = jax.tree_util.tree_map(compute_metrics_fast, ood_data_target, predicted_target_ood)\n",
    "mean_ood_metrics = compute_mean_metrics(ood_metrics, prefix=\"ood_\")\n",
    "\n",
    "predicted_target_ood_decoded = jax.tree_util.tree_map(reconstruct_data_fn, predicted_target_ood)\n",
    "ood_metrics_decoded = jax.tree_util.tree_map(\n",
    "    compute_metrics_fast, ood_data_target_decoded, predicted_target_ood_decoded\n",
    ")\n",
    "mean_ood_metrics_decoded = compute_mean_metrics(ood_metrics_decoded, prefix=\"decoded_ood_\")"
   ]
  },
  {
   "cell_type": "code",
   "execution_count": null,
   "id": "5fa5aa1d-a803-4f14-9f21-57bbe91646f1",
   "metadata": {},
   "outputs": [],
   "source": [
    "mean_ood_metrics"
   ]
  },
  {
   "cell_type": "code",
   "execution_count": null,
   "id": "a3a7807c-8f93-411d-8312-af48fd5dd4c3",
   "metadata": {},
   "outputs": [],
   "source": [
    "mean_ood_metrics_decoded"
   ]
  },
  {
   "cell_type": "code",
   "execution_count": 41,
   "id": "2eb75067-a15d-49b8-927e-3e7834637138",
   "metadata": {},
   "outputs": [],
   "source": [
    "ood_data_conditions_inp = jax.tree_util.tree_map(lambda x,y: jnp.concatenate((x,y), axis=1), train_data_source, train_data_conditions)"
   ]
  },
  {
   "cell_type": "code",
   "execution_count": 42,
   "id": "633784c9-8ca1-4ac9-aca1-00e6112699db",
   "metadata": {},
   "outputs": [],
   "source": [
    "embs = jax.tree_util.tree_map(lambda x: vf.get_embedding(model.vf_state, x[0:1]), ood_data_conditions_inp)"
   ]
  },
  {
   "cell_type": "code",
   "execution_count": 43,
   "id": "6a369e8e-b389-4dbc-babe-606c32635c0a",
   "metadata": {},
   "outputs": [],
   "source": [
    "embs_ls = [v for v in embs.values()]"
   ]
  },
  {
   "cell_type": "code",
   "execution_count": 44,
   "id": "f5fedf4d-59c1-4018-9a3c-4c342183bdb8",
   "metadata": {},
   "outputs": [],
   "source": [
    "emb = np.concatenate(embs_ls, axis=0)"
   ]
  },
  {
   "cell_type": "code",
   "execution_count": 45,
   "id": "8af9c438-0939-4753-b6f6-69ad31f6c433",
   "metadata": {},
   "outputs": [
    {
     "data": {
      "text/plain": [
       "(1275, 2048)"
      ]
     },
     "execution_count": 45,
     "metadata": {},
     "output_type": "execute_result"
    }
   ],
   "source": [
    "emb.shape"
   ]
  },
  {
   "cell_type": "code",
   "execution_count": 46,
   "id": "b16b0a35-44b9-489e-af3b-7d22b1890f1f",
   "metadata": {},
   "outputs": [],
   "source": [
    "from sklearn.metrics.pairwise import cosine_similarity\n",
    "from sklearn.decomposition import KernelPCA\n",
    "import matplotlib.pyplot as plt"
   ]
  },
  {
   "cell_type": "code",
   "execution_count": 47,
   "id": "f920ed29-3f80-4404-8d4d-0bb3bf397950",
   "metadata": {},
   "outputs": [],
   "source": [
    "similarity_matrix = cosine_similarity(emb)\n",
    "np.fill_diagonal(similarity_matrix, 1.0)\n",
    "X = KernelPCA(n_components=2, kernel=\"precomputed\") \\\n",
    "    .fit_transform(similarity_matrix)"
   ]
  },
  {
   "cell_type": "code",
   "execution_count": 48,
   "id": "4fb5949d-c6ed-4c04-bf25-1c93fd28260a",
   "metadata": {},
   "outputs": [
    {
     "data": {
      "text/plain": [
       "<matplotlib.collections.PathCollection at 0x7f06128a5040>"
      ]
     },
     "execution_count": 48,
     "metadata": {},
     "output_type": "execute_result"
    },
    {
     "data": {
      "image/png": "[encoded data removed]",
      "text/plain": [
       "<Figure size 640x480 with 1 Axes>"
      ]
     },
     "metadata": {},
     "output_type": "display_data"
    }
   ],
   "source": [
    "plt.scatter(X[:10,0], X[:10,1])"
   ]
  },
  {
   "cell_type": "code",
   "execution_count": 54,
   "id": "4ae58bbd-5e19-4204-8065-5038f9965bc1",
   "metadata": {},
   "outputs": [],
   "source": [
    "df_conditions = adata_train[adata_train.obs[\"condition\"].isin(list(embs.keys()))].obs.drop_duplicates(subset=[\"condition\"])"
   ]
  },
  {
   "cell_type": "code",
   "execution_count": 55,
   "id": "3af1f787-6ace-469c-9adc-7b312f77d58c",
   "metadata": {},
   "outputs": [
    {
     "name": "stderr",
     "output_type": "stream",
     "text": [
      "/tmp/ipykernel_649664/2509494363.py:11: SettingWithCopyWarning: \n",
      "A value is trying to be set on a copy of a slice from a DataFrame.\n",
      "Try using .loc[row_indexer,col_indexer] = value instead\n",
      "\n",
      "See the caveats in the documentation: https://pandas.pydata.org/pandas-docs/stable/user_guide/indexing.html#returning-a-view-versus-a-copy\n",
      "  df_conditions[\"dose_color\"] = df_conditions.apply(get_dose_color, axis=1)\n"
     ]
    }
   ],
   "source": [
    "def get_dose_color(x):\n",
    "    dose = x[\"dose\"]\n",
    "    if dose==10.0:\n",
    "        return \"#f7e5e4\"\n",
    "    if dose == 100.0:\n",
    "        return \"#f29f99\"\n",
    "    if dose == 1000.0:\n",
    "        return \"#f5675d\"\n",
    "    if dose == 10000.0:\n",
    "        return \"#f01405\"\n",
    "df_conditions[\"dose_color\"] = df_conditions.apply(get_dose_color, axis=1)"
   ]
  },
  {
   "cell_type": "code",
   "execution_count": 56,
   "id": "28a9f79b-61a5-4763-85d5-c50d0b545cf5",
   "metadata": {},
   "outputs": [],
   "source": [
    "col_dict_dose = df_conditions.set_index(\"condition\")['dose_color'].to_dict()"
   ]
  },
  {
   "cell_type": "code",
   "execution_count": 57,
   "id": "54e6330b-b270-4c42-9b54-0ba4ee349711",
   "metadata": {},
   "outputs": [
    {
     "data": {
      "image/png": "[encoded data removed]",
      "text/plain": [
       "<Figure size 400x400 with 1 Axes>"
      ]
     },
     "metadata": {},
     "output_type": "display_data"
    }
   ],
   "source": [
    "import seaborn as sns\n",
    "import pandas as pd\n",
    "from adjustText import adjust_text\n",
    "\n",
    "plot_embedding(X, labels=np.array(list(embs.keys())), show_text=False, col_dict=col_dict_dose)\n"
   ]
  },
  {
   "cell_type": "code",
   "execution_count": 58,
   "id": "73b79180-6428-4c99-a4cf-2ea57f936d38",
   "metadata": {},
   "outputs": [],
   "source": [
    "def get_cell_line_color(x):\n",
    "    cell_line=x[\"cell_line\"]\n",
    "    if cell_line==\"MCF7\":\n",
    "        return \"#38f005\"\n",
    "    if cell_line==\"K562\":\n",
    "        return \"#cc05f0\"\n",
    "    if cell_line == \"A549\":\n",
    "        return \"#058af0\"\n",
    "    \n",
    "df_conditions[\"cell_line_color\"] = df_conditions.apply(get_cell_line_color, axis=1)"
   ]
  },
  {
   "cell_type": "code",
   "execution_count": 59,
   "id": "17c94632-562f-4569-b999-70d93d9a2ca7",
   "metadata": {},
   "outputs": [],
   "source": [
    "col_dict_cell_line = df_conditions.set_index(\"condition\")['cell_line_color'].to_dict()"
   ]
  },
  {
   "cell_type": "code",
   "execution_count": 60,
   "id": "d22a3a31-3759-4fd7-8bab-78c2def50a6b",
   "metadata": {},
   "outputs": [
    {
     "data": {
      "image/png": "[encoded data removed]",
      "text/plain": [
       "<Figure size 400x400 with 1 Axes>"
      ]
     },
     "metadata": {},
     "output_type": "display_data"
    }
   ],
   "source": [
    "from ot_pert.plotting import plot_embedding\n",
    "plot_embedding(X, labels=np.array(list(embs.keys())), show_text=False, col_dict=col_dict_cell_line)"
   ]
  },
  {
   "cell_type": "code",
   "execution_count": null,
   "id": "294c5586-bd68-4342-9684-e69eb66985e6",
   "metadata": {},
   "outputs": [],
   "source": []
  },
  {
   "cell_type": "code",
   "execution_count": null,
   "id": "fb36bf29-fb41-4990-a0cb-d42612786af9",
   "metadata": {},
   "outputs": [],
   "source": [
    "predicted_target_ood = jax.tree_util.tree_map(model.transport, ood_data_source, ood_data_conditions)\n",
    "ood_metrics = jax.tree_util.tree_map(compute_metrics_fast, ood_data_target, predicted_target_ood)\n",
    "mean_ood_metrics = compute_mean_metrics(ood_metrics, prefix=\"ood_\")\n",
    "\n",
    "predicted_target_ood_decoded = jax.tree_util.tree_map(reconstruct_data_fn, predicted_target_ood)\n",
    "ood_metrics_decoded = jax.tree_util.tree_map(\n",
    "    compute_metrics_fast, ood_data_target_decoded, predicted_target_ood_decoded\n",
    ")\n",
    "mean_ood_metrics_decoded = compute_mean_metrics(ood_metrics_decoded, prefix=\"decoded_ood_\")"
   ]
  },
  {
   "cell_type": "code",
   "execution_count": null,
   "id": "22507b33-b218-41db-9ac2-2e63a5b4d886",
   "metadata": {},
   "outputs": [],
   "source": [
    "mean_ood_metrics_decoded"
   ]
  },
  {
   "cell_type": "code",
   "execution_count": null,
   "id": "d1c09eaf-91ea-46f9-a527-5f92c1baa834",
   "metadata": {},
   "outputs": [],
   "source": []
  }
 ],
 "metadata": {
  "kernelspec": {
   "display_name": "ot_pert_genot",
   "language": "python",
   "name": "ot_pert_genot"
  },
  "language_info": {
   "codemirror_mode": {
    "name": "ipython",
    "version": 3
   },
   "file_extension": ".py",
   "mimetype": "text/x-python",
   "name": "python",
   "nbconvert_exporter": "python",
   "pygments_lexer": "ipython3",
   "version": "3.12.2"
  }
 },
 "nbformat": 4,
 "nbformat_minor": 5
}
