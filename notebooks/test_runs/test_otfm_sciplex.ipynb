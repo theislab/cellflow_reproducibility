{
 "cells": [
  {
   "cell_type": "code",
   "execution_count": 1,
   "id": "e761b2ce-9f52-4aff-ba9e-93048c063928",
   "metadata": {},
   "outputs": [],
   "source": [
    "import functools\n",
    "from typing import Literal, Optional\n",
    "\n",
    "import jax\n",
    "import jax.numpy as jnp\n",
    "import jax.tree_util as jtu\n",
    "import numpy as np\n",
    "import optax\n",
    "import scanpy as sc\n",
    "from ott.neural import datasets\n",
    "from ott.neural.methods.flows import dynamics, otfm\n",
    "from ott.neural.networks.layers import time_encoder\n",
    "from ott.neural.networks.velocity_field import VelocityField\n",
    "from ott.solvers import utils as solver_utils\n",
    "from torch.utils.data import DataLoader\n",
    "from tqdm import tqdm\n",
    "\n",
    "from ot_pert.metrics import compute_mean_metrics, compute_metrics\n",
    "from ot_pert.utils import ConditionalLoader"
   ]
  },
  {
   "cell_type": "code",
   "execution_count": 2,
   "id": "74575f53-0f9e-4c99-b2a8-967ec3143352",
   "metadata": {},
   "outputs": [],
   "source": [
    "def reconstruct_data(embedding: np.ndarray, projection_matrix: np.ndarray, mean_to_add: np.ndarray) -> np.ndarray:\n",
    "    return np.matmul(embedding, projection_matrix.T) + mean_to_add"
   ]
  },
  {
   "cell_type": "code",
   "execution_count": 3,
   "id": "2e7d7477-ca40-49dd-b84c-6f6b67f71706",
   "metadata": {},
   "outputs": [],
   "source": [
    "obsm_key_cond = \"ecfp_and_dose\"\n",
    "obsm_key_data = \"X_pca\""
   ]
  },
  {
   "cell_type": "code",
   "execution_count": 4,
   "id": "f80093da-403e-4a3e-8a39-afc0b8d66467",
   "metadata": {},
   "outputs": [],
   "source": [
    "adata_train_path = \"/lustre/groups/ml01/workspace/ot_perturbation/data/sciplex/adata_train_30.h5ad\"\n",
    "adata_test_path = \"/lustre/groups/ml01/workspace/ot_perturbation/data/sciplex/adata_test_30.h5ad\"\n",
    "adata_ood_path = \"/lustre/groups/ml01/workspace/ot_perturbation/data/sciplex/adata_ood_30.h5ad\""
   ]
  },
  {
   "cell_type": "code",
   "execution_count": 6,
   "id": "fab46905-01b3-42e4-a2a1-ed7baa0b8344",
   "metadata": {},
   "outputs": [
    {
     "name": "stderr",
     "output_type": "stream",
     "text": [
      "/home/icb/dominik.klein/mambaforge/envs/ot_pert_genot/lib/python3.12/site-packages/anndata/__init__.py:51: FutureWarning: `anndata.read` is deprecated, use `anndata.read_h5ad` instead. `ad.read` will be removed in mid 2024.\n",
      "  warnings.warn(\n"
     ]
    }
   ],
   "source": [
    "adata_train = sc.read(adata_train_path)"
   ]
  },
  {
   "cell_type": "code",
   "execution_count": 7,
   "id": "07aa8920-e4e2-4c9d-a99d-c07fc9dc9035",
   "metadata": {},
   "outputs": [],
   "source": [
    "sc.pp.subsample(adata_train, fraction=0.5)"
   ]
  },
  {
   "cell_type": "code",
   "execution_count": 12,
   "id": "e81c5a24-8ae5-495c-bf39-588a5600bbd4",
   "metadata": {},
   "outputs": [],
   "source": [
    "def data_match_fn(\n",
    "    src_lin: Optional[jnp.ndarray],\n",
    "    tgt_lin: Optional[jnp.ndarray],\n",
    "    src_quad: Optional[jnp.ndarray],\n",
    "    tgt_quad: Optional[jnp.ndarray],\n",
    "    *,\n",
    "    typ: Literal[\"lin\", \"quad\", \"fused\"],\n",
    "    epsilon: float = 1e-2,\n",
    "    tau_a: float = 1.0,\n",
    "    tau_b: float = 1.0,\n",
    ") -> jnp.ndarray:\n",
    "    if typ == \"lin\":\n",
    "        return solver_utils.match_linear(\n",
    "            x=src_lin, y=tgt_lin, scale_cost=\"mean\", epsilon=epsilon, tau_a=tau_a, tau_b=tau_b\n",
    "        )\n",
    "    if typ == \"quad\":\n",
    "        return solver_utils.match_quadratic(xx=src_quad, yy=tgt_quad)\n",
    "    if typ == \"fused\":\n",
    "        return solver_utils.match_quadratic(xx=src_quad, yy=tgt_quad, x=src_lin, y=tgt_lin)\n",
    "    raise NotImplementedError(f\"Unknown type: {typ}.\")\n",
    "\n",
    "\n",
    "# Load data\n",
    "\n",
    "dls = []\n",
    "\n",
    "train_data_source = {}\n",
    "train_data_target = {}\n",
    "train_data_source_decoded = {}\n",
    "train_data_target_decoded = {}\n",
    "train_data_conditions = {}\n",
    "\n",
    "\n",
    "for cond in adata_train.obs[\"condition\"].cat.categories:\n",
    "    if \"Vehicle\" in cond:\n",
    "        continue\n",
    "    src_str = list(adata_train[adata_train.obs[\"condition\"] == cond].obs[\"cell_type\"].unique())\n",
    "    assert len(src_str) == 1\n",
    "    source = adata_train[adata_train.obs[\"condition\"] == src_str[0] + \"_Vehicle_0.0\"].obsm[obsm_key_data]\n",
    "    source_decoded = adata_train[adata_train.obs[\"condition\"] == src_str[0] + \"_Vehicle_0.0\"].X.A\n",
    "    target = adata_train[adata_train.obs[\"condition\"] == cond].obsm[obsm_key_data]\n",
    "    target_decoded = adata_train[adata_train.obs[\"condition\"] == cond].X.A\n",
    "    conds = adata_train[adata_train.obs[\"condition\"] == cond].obsm[obsm_key_cond]\n",
    "    assert np.all(np.all(conds == conds[0], axis=1))\n",
    "    conds = np.tile(conds[0], (len(source), 1))\n",
    "    dls.append(\n",
    "        DataLoader(\n",
    "            datasets.OTDataset(\n",
    "                datasets.OTData(\n",
    "                    lin=source,\n",
    "                    condition=conds,\n",
    "                ),\n",
    "                datasets.OTData(lin=target),\n",
    "            ),\n",
    "            batch_size=10,\n",
    "            shuffle=True,\n",
    "        )\n",
    "    )\n",
    "    train_data_source[cond] = source\n",
    "    train_data_target[cond] = target\n",
    "    train_data_conditions[cond] = conds\n",
    "    train_data_source_decoded[cond] = source_decoded\n",
    "    train_data_target_decoded[cond] = target_decoded\n",
    "\n",
    "train_loader = ConditionalLoader(dls, seed=0)\n",
    "\n",
    "test_data_source = {}\n",
    "test_data_target = {}\n",
    "test_data_source_decoded = {}\n",
    "test_data_target_decoded = {}\n",
    "test_data_conditions = {}\n",
    "# adata_test = sc.read(adata_test_path)\n",
    "for cond in adata_test.obs[\"condition\"].cat.categories:\n",
    "    if \"Vehicle\" in cond:\n",
    "        continue\n",
    "    src_str = list(adata_test[adata_test.obs[\"condition\"] == cond].obs[\"cell_type\"].unique())\n",
    "    assert len(src_str) == 1\n",
    "    source = adata_test[adata_test.obs[\"condition\"] == src_str[0] + \"_Vehicle_0.0\"].obsm[obsm_key_data]\n",
    "    source_decoded = adata_test[adata_test.obs[\"condition\"] == src_str[0] + \"_Vehicle_0.0\"].X.A\n",
    "\n",
    "    target = adata_test[adata_test.obs[\"condition\"] == cond].obsm[obsm_key_data]\n",
    "    target_decoded = adata_test[adata_test.obs[\"condition\"] == cond].X.A\n",
    "    conds = adata_test[adata_test.obs[\"condition\"] == cond].obsm[obsm_key_cond]\n",
    "    assert np.all(np.all(conds == conds[0], axis=1))\n",
    "    conds = np.tile(conds[0], (len(source), 1))\n",
    "    test_data_source[cond] = source\n",
    "    test_data_target[cond] = target\n",
    "    test_data_source_decoded[cond] = source_decoded\n",
    "    test_data_target_decoded[cond] = target_decoded\n",
    "    test_data_conditions[cond] = conds\n",
    "\n",
    "ood_data_source = {}\n",
    "ood_data_target = {}\n",
    "ood_data_source_decoded = {}\n",
    "ood_data_target_decoded = {}\n",
    "ood_data_conditions = {}\n",
    "# adata_ood = sc.read(adata_ood_path)\n",
    "for cond in adata_ood.obs[\"condition\"].cat.categories:\n",
    "    if \"Vehicle\" in cond:\n",
    "        continue\n",
    "    src_str = list(adata_ood[adata_ood.obs[\"condition\"] == cond].obs[\"cell_type\"].unique())\n",
    "    assert len(src_str) == 1\n",
    "    source = adata_ood[adata_ood.obs[\"condition\"] == src_str[0] + \"_Vehicle_0.0\"].obsm[obsm_key_data]\n",
    "    source_decoded = adata_ood[adata_ood.obs[\"condition\"] == src_str[0] + \"_Vehicle_0.0\"].X.A\n",
    "    conds = adata_ood[adata_ood.obs[\"condition\"] == cond].obsm[obsm_key_cond]\n",
    "    assert np.all(np.all(conds == conds[0], axis=1))\n",
    "    conds = np.tile(conds[0], (len(source), 1))\n",
    "    ood_data_source[cond] = source\n",
    "    ood_data_target[cond] = target\n",
    "    ood_data_source_decoded[cond] = source_decoded\n",
    "    ood_data_target_decoded[cond] = target_decoded\n",
    "    ood_data_conditions[cond] = cond\n",
    "\n",
    "reconstruct_data_fn = functools.partial(\n",
    "    reconstruct_data, projection_matrix=adata_train.varm[\"PCs\"], mean_to_add=adata_train.varm[\"X_train_mean\"].T\n",
    ")"
   ]
  },
  {
   "cell_type": "code",
   "execution_count": 13,
   "id": "f4e3ec12-c0cd-4b18-8a05-c06d531dde9a",
   "metadata": {},
   "outputs": [],
   "source": [
    "reconstruct_data_fn = functools.partial(\n",
    "    reconstruct_data, projection_matrix=adata_train.varm[\"PCs\"], mean_to_add=adata_train.varm[\"X_train_mean\"].T\n",
    ")\n",
    "\n",
    "train_deg_dict = {\n",
    "    k: v for k, v in adata_train.uns[\"rank_genes_groups_cov_all\"].items() if k in train_data_conditions.keys()\n",
    "}\n",
    "test_deg_dict = {\n",
    "    k: v for k, v in adata_train.uns[\"rank_genes_groups_cov_all\"].items() if k in test_data_conditions.keys()\n",
    "}\n",
    "ood_deg_dict = {\n",
    "    k: v for k, v in adata_train.uns[\"rank_genes_groups_cov_all\"].items() if k in ood_data_conditions.keys()\n",
    "}\n",
    "\n",
    "\n",
    "def get_mask(x, y):\n",
    "    return x[:, [gene in y for gene in adata_train.var_names]]"
   ]
  },
  {
   "cell_type": "code",
   "execution_count": 14,
   "id": "86e0193b-e615-47ba-a26e-8115ea641ca3",
   "metadata": {},
   "outputs": [],
   "source": [
    "source_dim = source.shape[1]\n",
    "target_dim = source_dim\n",
    "condition_dim = conds.shape[1]\n",
    "\n",
    "source_dim = source.shape[1]\n",
    "target_dim = source_dim\n",
    "condition_dim = conds.shape[1]"
   ]
  },
  {
   "cell_type": "code",
   "execution_count": null,
   "id": "df472524-4a2a-496b-9169-6d1f5eafb87c",
   "metadata": {},
   "outputs": [
    {
     "name": "stderr",
     "output_type": "stream",
     "text": [
      " 10%|▉         | 98/1000 [00:14<00:09, 99.74it/s]"
     ]
    }
   ],
   "source": [
    "vf = VelocityField(\n",
    "    hidden_dims=[512, 512],\n",
    "    time_dims=[512, 512],\n",
    "    output_dims=[30] + [target_dim],\n",
    "    condition_dims=[512, 512],\n",
    "    time_encoder=functools.partial(time_encoder.cyclical_time_encoder, n_freqs=1024),\n",
    ")\n",
    "\n",
    "model = otfm.OTFlowMatching(\n",
    "    vf,\n",
    "    flow=dynamics.ConstantNoiseFlow(0),\n",
    "    match_fn=jax.jit(\n",
    "        functools.partial(data_match_fn, typ=\"lin\", src_quad=None, tgt_quad=None, epsilon=0.1, tau_a=1.0, tau_b=1.0)\n",
    "    ),\n",
    "    condition_dim=condition_dim,\n",
    "    rng=jax.random.PRNGKey(13),\n",
    "    optimizer=optax.MultiSteps(optax.adam(learning_rate=1e-3), 5),\n",
    ")\n",
    "\n",
    "training_logs = {\"loss\": []}\n",
    "\n",
    "rng = jax.random.PRNGKey(0)\n",
    "for it in tqdm(range(1000)):\n",
    "    rng, rng_resample, rng_step_fn = jax.random.split(rng, 3)\n",
    "    batch = next(train_loader)\n",
    "    batch = jtu.tree_map(jnp.asarray, batch)\n",
    "\n",
    "    src, tgt = batch[\"src_lin\"], batch[\"tgt_lin\"]\n",
    "    src_cond = batch.get(\"src_condition\")\n",
    "\n",
    "    if model.match_fn is not None:\n",
    "        tmat = model.match_fn(src, tgt)\n",
    "        src_ixs, tgt_ixs = solver_utils.sample_joint(rng_resample, tmat)\n",
    "        src, tgt = src[src_ixs], tgt[tgt_ixs]\n",
    "        src_cond = None if src_cond is None else src_cond[src_ixs]\n",
    "\n",
    "    model.vf_state, loss = model.step_fn(\n",
    "        rng_step_fn,\n",
    "        model.vf_state,\n",
    "        src,\n",
    "        tgt,\n",
    "        src_cond,\n",
    "    )\n",
    "\n",
    "    training_logs[\"loss\"].append(float(loss))\n",
    "    if (it % 100 == 0) and (it > 0):\n",
    "        valid_losses = []\n",
    "        for cond in test_data_source.keys():\n",
    "            src = test_data_source[cond]\n",
    "            tgt = test_data_target[cond]\n",
    "            src_cond = test_data_conditions[cond]\n",
    "            if model.match_fn is not None:\n",
    "                tmat = model.match_fn(src, tgt)\n",
    "                src_ixs, tgt_ixs = solver_utils.sample_joint(rng_resample, tmat)\n",
    "                src, tgt = src[src_ixs], tgt[tgt_ixs]\n",
    "                src_cond = None if src_cond is None else src_cond[src_ixs]\n",
    "            _, valid_loss = model.step_fn(\n",
    "                rng,\n",
    "                model.vf_state,\n",
    "                src,\n",
    "                tgt,\n",
    "                src_cond,\n",
    "            )\n",
    "            valid_losses.append(valid_loss)\n",
    "\n",
    "        # predicted_target_train = jax.tree_util.tree_map(model.transport, train_data_source, train_data_conditions)\n",
    "        # train_metrics = jax.tree_util.tree_map(compute_metrics, train_data_target, predicted_target_train)\n",
    "        # mean_train_metrics = compute_mean_metrics(train_metrics, prefix=\"train_\")\n",
    "\n",
    "        # predicted_target_train_decoded = jax.tree_util.tree_map(reconstruct_data_fn, predicted_target_train)\n",
    "        # train_metrics_decoded = jax.tree_util.tree_map(compute_metrics, train_data_target_decoded, predicted_target_train_decoded)\n",
    "        # mean_train_metrics_decoded = compute_mean_metrics(train_metrics_decoded, prefix=\"decoded_train_\")\n",
    "\n",
    "        # train_deg_target_decoded_predicted = jax.tree_util.tree_map(get_mask, predicted_target_train_decoded, train_deg_dict)\n",
    "        # train_deg_target_decoded = jax.tree_util.tree_map(get_mask, train_data_target_decoded, test_deg_dict)\n",
    "\n",
    "        predicted_target_test = jax.tree_util.tree_map(model.transport, test_data_source, test_data_conditions)\n",
    "        test_metrics = jax.tree_util.tree_map(compute_metrics, test_data_target, predicted_target_test)\n",
    "        mean_test_metrics = compute_mean_metrics(test_metrics, prefix=\"test_\")\n",
    "\n",
    "        predicted_target_test_decoded = jax.tree_util.tree_map(reconstruct_data_fn, predicted_target_test)\n",
    "        test_metrics_decoded = jax.tree_util.tree_map(\n",
    "            compute_metrics, test_data_target_decoded, predicted_target_test_decoded\n",
    "        )\n",
    "        mean_test_metrics_decoded = compute_mean_metrics(test_metrics_decoded, prefix=\"decoded_test_\")\n",
    "\n",
    "        test_deg_target_decoded_predicted = jax.tree_util.tree_map(\n",
    "            get_mask, predicted_target_test_decoded, test_deg_dict\n",
    "        )\n",
    "        test_deg_target_decoded = jax.tree_util.tree_map(get_mask, test_data_target_decoded, test_deg_dict)\n",
    "        deg_test_metrics_encoded = jax.tree_util.tree_map(\n",
    "            compute_metrics, test_deg_target_decoded, test_deg_target_decoded_predicted\n",
    "        )\n",
    "        deg_mean_test_metrics_encoded = compute_mean_metrics(deg_test_metrics_encoded, prefix=\"deg_test_\")\n",
    "\n",
    "        predicted_target_ood = jax.tree_util.tree_map(model.transport, ood_data_source, ood_data_conditions)\n",
    "        ood_metrics = jax.tree_util.tree_map(compute_metrics, ood_data_target, predicted_target_ood)\n",
    "        mean_ood_metrics = compute_mean_metrics(ood_metrics, prefix=\"ood_\")\n",
    "\n",
    "        predicted_target_ood_decoded = jax.tree_util.tree_map(reconstruct_data_fn, predicted_target_ood)\n",
    "        ood_metrics_decoded = jax.tree_util.tree_map(\n",
    "            compute_metrics, ood_data_target_decoded, predicted_target_ood_decoded\n",
    "        )\n",
    "        mean_ood_metrics_decoded = compute_mean_metrics(ood_metrics_decoded, prefix=\"decoded_ood_\")\n",
    "\n",
    "        ood_deg_target_decoded_predicted = jax.tree_util.tree_map(get_mask, predicted_target_ood_decoded, ood_deg_dict)\n",
    "        ood_deg_target_decoded = jax.tree_util.tree_map(get_mask, ood_data_target_decoded, ood_deg_dict)\n",
    "        deg_ood_metrics_encoded = jax.tree_util.tree_map(\n",
    "            compute_metrics, ood_deg_target_decoded, ood_deg_target_decoded_predicted\n",
    "        )\n",
    "        deg_mean_ood_metrics_encoded = compute_mean_metrics(deg_ood_metrics_encoded, prefix=\"deg_ood_\")"
   ]
  },
  {
   "cell_type": "code",
   "execution_count": null,
   "id": "aaf5e27a-d03e-44dc-87a7-fbbe22e08bb7",
   "metadata": {},
   "outputs": [],
   "source": [
    "next(iter(dls[2]))"
   ]
  },
  {
   "cell_type": "code",
   "execution_count": 25,
   "id": "658f9377-86eb-4e69-bf1a-97ca6e173e80",
   "metadata": {},
   "outputs": [],
   "source": [
    "for cond in adata_train.obs[\"condition\"].cat.categories:\n",
    "    if \"Vehicle\" in cond:\n",
    "        continue\n",
    "    src_str = list(adata_train[adata_train.obs[\"condition\"] == cond].obs[\"cell_type\"].unique())\n",
    "    assert len(src_str) == 1\n",
    "    source = adata_train[adata_train.obs[\"condition\"] == src_str[0] + \"_Vehicle_0.0\"].obsm[obsm_key_data]\n",
    "    source_decoded = adata_train[adata_train.obs[\"condition\"] == src_str[0] + \"_Vehicle_0.0\"].X.A\n",
    "    target = adata_train[adata_train.obs[\"condition\"] == cond].obsm[obsm_key_data]\n",
    "    target_decoded = adata_train[adata_train.obs[\"condition\"] == cond].X.A\n",
    "    conds = adata_train[adata_train.obs[\"condition\"] == cond].obsm[obsm_key_cond]\n",
    "    assert np.all(np.all(conds == conds[0], axis=1))\n",
    "\n",
    "    ds = datasets.OTDataset(\n",
    "        datasets.OTData(\n",
    "            lin=source,\n",
    "            condition=conds,\n",
    "        ),\n",
    "        datasets.OTData(lin=target),\n",
    "    )\n",
    "    break"
   ]
  },
  {
   "cell_type": "code",
   "execution_count": 47,
   "id": "9c788ba1-ab53-4969-8b7c-2a5e68efc70a",
   "metadata": {},
   "outputs": [],
   "source": [
    "conds = np.tile(conds[0], (len(source), 1))"
   ]
  },
  {
   "cell_type": "code",
   "execution_count": 48,
   "id": "47837a6b-f8ca-45f2-b128-3e3538510203",
   "metadata": {},
   "outputs": [
    {
     "data": {
      "text/plain": [
       "(2787, 1025)"
      ]
     },
     "execution_count": 48,
     "metadata": {},
     "output_type": "execute_result"
    }
   ],
   "source": [
    "conds.shape"
   ]
  },
  {
   "cell_type": "code",
   "execution_count": 30,
   "id": "0935dee9-380f-4c68-b641-1149d8fe8360",
   "metadata": {},
   "outputs": [],
   "source": [
    "batch = next(iter(ds))"
   ]
  },
  {
   "cell_type": "code",
   "execution_count": 31,
   "id": "5b1cdefa-dbb2-4725-97ca-2a19cadff657",
   "metadata": {},
   "outputs": [
    {
     "data": {
      "text/plain": [
       "(30,)"
      ]
     },
     "execution_count": 31,
     "metadata": {},
     "output_type": "execute_result"
    }
   ],
   "source": [
    "batch[\"src_lin\"].shape"
   ]
  },
  {
   "cell_type": "code",
   "execution_count": 32,
   "id": "ece747fc-a088-4a3d-9ef9-f35ec01c04dd",
   "metadata": {},
   "outputs": [
    {
     "data": {
      "text/plain": [
       "(30,)"
      ]
     },
     "execution_count": 32,
     "metadata": {},
     "output_type": "execute_result"
    }
   ],
   "source": [
    "batch[\"tgt_lin\"].shape"
   ]
  },
  {
   "cell_type": "code",
   "execution_count": 33,
   "id": "db6f7af9-1c25-42fe-8db2-8f7f53f67992",
   "metadata": {},
   "outputs": [
    {
     "data": {
      "text/plain": [
       "(1025,)"
      ]
     },
     "execution_count": 33,
     "metadata": {},
     "output_type": "execute_result"
    }
   ],
   "source": [
    "batch[\"src_condition\"].shape"
   ]
  },
  {
   "cell_type": "code",
   "execution_count": 39,
   "id": "04291951-371f-474e-ba21-6451ce19377a",
   "metadata": {},
   "outputs": [
    {
     "data": {
      "text/plain": [
       "(2787, 30)"
      ]
     },
     "execution_count": 39,
     "metadata": {},
     "output_type": "execute_result"
    }
   ],
   "source": [
    "ds.src_data.lin.shape"
   ]
  },
  {
   "cell_type": "code",
   "execution_count": 40,
   "id": "bfc3cafd-66f1-45a0-9cce-985a5cde1d1d",
   "metadata": {},
   "outputs": [
    {
     "data": {
      "text/plain": [
       "(114, 30)"
      ]
     },
     "execution_count": 40,
     "metadata": {},
     "output_type": "execute_result"
    }
   ],
   "source": [
    "ds.tgt_data.lin.shape"
   ]
  },
  {
   "cell_type": "code",
   "execution_count": 44,
   "id": "735e58f9-f9b9-454b-a404-133d2f5cbbd6",
   "metadata": {},
   "outputs": [
    {
     "data": {
      "text/plain": [
       "(114, 1025)"
      ]
     },
     "execution_count": 44,
     "metadata": {},
     "output_type": "execute_result"
    }
   ],
   "source": [
    "ds.src_data.condition.shape"
   ]
  },
  {
   "cell_type": "code",
   "execution_count": 36,
   "id": "75d63a18-b7fe-4bb4-ba27-cdda3c929311",
   "metadata": {},
   "outputs": [
    {
     "data": {
      "text/plain": [
       "['SRC_PREFIX',\n",
       " 'TGT_PREFIX',\n",
       " '__class__',\n",
       " '__delattr__',\n",
       " '__dict__',\n",
       " '__dir__',\n",
       " '__doc__',\n",
       " '__eq__',\n",
       " '__format__',\n",
       " '__ge__',\n",
       " '__getattribute__',\n",
       " '__getitem__',\n",
       " '__getstate__',\n",
       " '__gt__',\n",
       " '__hash__',\n",
       " '__init__',\n",
       " '__init_subclass__',\n",
       " '__le__',\n",
       " '__len__',\n",
       " '__lt__',\n",
       " '__module__',\n",
       " '__ne__',\n",
       " '__new__',\n",
       " '__reduce__',\n",
       " '__reduce_ex__',\n",
       " '__repr__',\n",
       " '__setattr__',\n",
       " '__sizeof__',\n",
       " '__str__',\n",
       " '__subclasshook__',\n",
       " '__weakref__',\n",
       " '_rng',\n",
       " '_sample_from_target',\n",
       " '_tgt_cond_to_ix',\n",
       " '_verify_integrity',\n",
       " 'is_aligned',\n",
       " 'src_conditions',\n",
       " 'src_data',\n",
       " 'tgt_conditions',\n",
       " 'tgt_data']"
      ]
     },
     "execution_count": 36,
     "metadata": {},
     "output_type": "execute_result"
    }
   ],
   "source": [
    "dir(ds)"
   ]
  },
  {
   "cell_type": "code",
   "execution_count": null,
   "id": "d68e5343-9cf6-43e5-a526-2ab97ca684f9",
   "metadata": {},
   "outputs": [],
   "source": []
  }
 ],
 "metadata": {
  "kernelspec": {
   "display_name": "ot_pert_genot",
   "language": "python",
   "name": "ot_pert_genot"
  },
  "language_info": {
   "codemirror_mode": {
    "name": "ipython",
    "version": 3
   },
   "file_extension": ".py",
   "mimetype": "text/x-python",
   "name": "python",
   "nbconvert_exporter": "python",
   "pygments_lexer": "ipython3",
   "version": "3.12.2"
  }
 },
 "nbformat": 4,
 "nbformat_minor": 5
}
