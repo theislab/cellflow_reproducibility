{
 "cells": [
  {
   "cell_type": "code",
   "execution_count": 1,
   "id": "e761b2ce-9f52-4aff-ba9e-93048c063928",
   "metadata": {},
   "outputs": [],
   "source": [
    "import hydra\n",
    "import wandb\n",
    "from ott.neural import datasets\n",
    "import sys\n",
    "from omegaconf import DictConfig\n",
    "import jax.numpy as jnp\n",
    "from jax import random\n",
    "from typing import Optional, Literal\n",
    "import jax\n",
    "import pathlib\n",
    "import optax\n",
    "import yaml\n",
    "from datetime import datetime\n",
    "from flax import linen as nn\n",
    "import functools\n",
    "from tqdm import tqdm\n",
    "from flax.training import train_state\n",
    "\n",
    "from ott.neural.networks.layers import time_encoder\n",
    "from ott.neural.methods.flows import dynamics, otfm\n",
    "from ott.neural.networks import velocity_field\n",
    "from ott.solvers import utils as solver_utils\n",
    "import jax.tree_util as jtu\n",
    "from ott.neural.networks.layers import time_encoder\n",
    "from ott.neural.networks.velocity_field import VelocityField\n",
    "import pandas as pd\n",
    "import os\n",
    "\n",
    "import hydra\n",
    "from omegaconf import DictConfig, OmegaConf\n",
    "\n",
    "from torch.utils.data import DataLoader\n",
    "import numpy as np\n",
    "\n",
    "import scanpy as sc\n",
    "from ot_pert.metrics import compute_metrics, compute_mean_metrics\n",
    "from ot_pert.nets.nets import VelocityFieldWithAttention\n",
    "from ot_pert.utils import ConditionalLoader\n"
   ]
  },
  {
   "cell_type": "code",
   "execution_count": 2,
   "id": "74575f53-0f9e-4c99-b2a8-967ec3143352",
   "metadata": {},
   "outputs": [],
   "source": [
    "def reconstruct_data(embedding: np.ndarray, projection_matrix: np.ndarray, mean_to_add: np.ndarray) -> np.ndarray:\n",
    "    return np.matmul(embedding, projection_matrix.T) + mean_to_add"
   ]
  },
  {
   "cell_type": "code",
   "execution_count": 3,
   "id": "2e7d7477-ca40-49dd-b84c-6f6b67f71706",
   "metadata": {},
   "outputs": [],
   "source": [
    "obsm_key_cond = \"ecfp_and_dose\"\n",
    "obsm_key_data = \"X_pca\""
   ]
  },
  {
   "cell_type": "code",
   "execution_count": 4,
   "id": "f80093da-403e-4a3e-8a39-afc0b8d66467",
   "metadata": {},
   "outputs": [],
   "source": [
    "adata_train_path = \"/lustre/groups/ml01/workspace/ot_perturbation/data/sciplex/adata_train_30.h5ad\"\n",
    "adata_test_path = \"/lustre/groups/ml01/workspace/ot_perturbation/data/sciplex/adata_test_30.h5ad\"\n",
    "adata_ood_path = \"/lustre/groups/ml01/workspace/ot_perturbation/data/sciplex/adata_ood_30.h5ad\""
   ]
  },
  {
   "cell_type": "code",
   "execution_count": 5,
   "id": "fab46905-01b3-42e4-a2a1-ed7baa0b8344",
   "metadata": {},
   "outputs": [
    {
     "name": "stderr",
     "output_type": "stream",
     "text": [
      "/home/icb/dominik.klein/mambaforge/envs/ot_pert_genot/lib/python3.12/site-packages/anndata/__init__.py:51: FutureWarning: `anndata.read` is deprecated, use `anndata.read_h5ad` instead. `ad.read` will be removed in mid 2024.\n",
      "  warnings.warn(\n"
     ]
    }
   ],
   "source": [
    "adata_train = sc.read(adata_train_path)"
   ]
  },
  {
   "cell_type": "code",
   "execution_count": 6,
   "id": "07aa8920-e4e2-4c9d-a99d-c07fc9dc9035",
   "metadata": {},
   "outputs": [],
   "source": [
    "sc.pp.subsample(adata_train, fraction = 0.5)"
   ]
  },
  {
   "cell_type": "code",
   "execution_count": 8,
   "id": "e81c5a24-8ae5-495c-bf39-588a5600bbd4",
   "metadata": {},
   "outputs": [
    {
     "name": "stderr",
     "output_type": "stream",
     "text": [
      "/home/icb/dominik.klein/mambaforge/envs/ot_pert_genot/lib/python3.12/site-packages/anndata/__init__.py:51: FutureWarning: `anndata.read` is deprecated, use `anndata.read_h5ad` instead. `ad.read` will be removed in mid 2024.\n",
      "  warnings.warn(\n",
      "/home/icb/dominik.klein/mambaforge/envs/ot_pert_genot/lib/python3.12/site-packages/anndata/__init__.py:51: FutureWarning: `anndata.read` is deprecated, use `anndata.read_h5ad` instead. `ad.read` will be removed in mid 2024.\n",
      "  warnings.warn(\n"
     ]
    }
   ],
   "source": [
    "def data_match_fn(\n",
    "    src_lin: Optional[jnp.ndarray], tgt_lin: Optional[jnp.ndarray],\n",
    "    src_quad: Optional[jnp.ndarray], tgt_quad: Optional[jnp.ndarray], *,\n",
    "    typ: Literal[\"lin\", \"quad\", \"fused\"], epsilon: float = 1e-2, tau_a: float = 1.0,\n",
    "    tau_b: float = 1.0,\n",
    ") -> jnp.ndarray:\n",
    "    if typ == \"lin\":\n",
    "        return solver_utils.match_linear(x=src_lin, y=tgt_lin, scale_cost=\"mean\", epsilon=epsilon, tau_a=tau_a, tau_b=tau_b)\n",
    "    if typ == \"quad\":\n",
    "        return solver_utils.match_quadratic(xx=src_quad, yy=tgt_quad)\n",
    "    if typ == \"fused\":\n",
    "        return solver_utils.match_quadratic(\n",
    "            xx=src_quad, yy=tgt_quad, x=src_lin, y=tgt_lin\n",
    "        )\n",
    "    raise NotImplementedError(f\"Unknown type: {typ}.\")\n",
    "\n",
    "# Load data\n",
    "\n",
    "dls = []\n",
    "\n",
    "train_data_source = {}\n",
    "train_data_target = {}\n",
    "train_data_source_decoded = {}\n",
    "train_data_target_decoded = {}\n",
    "train_data_conditions = {}\n",
    "\n",
    "\n",
    "for cond in adata_train.obs[\"condition\"].cat.categories:\n",
    "    if \"Vehicle\" in cond:\n",
    "        continue\n",
    "    src_str = list(adata_train[adata_train.obs[\"condition\"]==cond].obs[\"cell_type\"].unique())\n",
    "    assert len(src_str) == 1\n",
    "    source = adata_train[adata_train.obs[\"condition\"]==src_str[0]+\"_Vehicle_0.0\"].obsm[obsm_key_data]\n",
    "    source_decoded = adata_train[adata_train.obs[\"condition\"]==src_str[0]+\"_Vehicle_0.0\"].X.A\n",
    "    target = adata_train[adata_train.obs[\"condition\"]==cond].obsm[obsm_key_data]\n",
    "    target_decoded = adata_train[adata_train.obs[\"condition\"]==cond].X.A\n",
    "    conds = adata_train[adata_train.obs[\"condition\"]==cond].obsm[obsm_key_cond]\n",
    "    assert np.all(np.all(conds == conds[0], axis=1))\n",
    "    conds = np.tile(conds[0], (len(source), 1))\n",
    "    dls.append(DataLoader(datasets.OTDataset(datasets.OTData(\n",
    "        lin=source,\n",
    "        condition=conds,\n",
    "    ), datasets.OTData(lin=target)), batch_size=10, shuffle=True))\n",
    "    train_data_source[cond] = source\n",
    "    train_data_target[cond] = target\n",
    "    train_data_conditions[cond] = conds\n",
    "    train_data_source_decoded[cond] = source_decoded\n",
    "    train_data_target_decoded[cond] = target_decoded\n",
    "\n",
    "train_loader = ConditionalLoader(dls, seed=0)\n",
    "\n",
    "test_data_source = {}\n",
    "test_data_target = {}\n",
    "test_data_source_decoded = {}\n",
    "test_data_target_decoded = {}\n",
    "test_data_conditions = {}\n",
    "adata_test = sc.read(adata_test_path)\n",
    "for cond in adata_test.obs[\"condition\"].cat.categories:\n",
    "    if \"Vehicle\" in cond:\n",
    "        continue\n",
    "    src_str = list(adata_test[adata_test.obs[\"condition\"]==cond].obs[\"cell_type\"].unique())\n",
    "    assert len(src_str) == 1\n",
    "    source = adata_test[adata_test.obs[\"condition\"]==src_str[0]+\"_Vehicle_0.0\"].obsm[obsm_key_data]\n",
    "    source_decoded = adata_test[adata_test.obs[\"condition\"]==src_str[0]+\"_Vehicle_0.0\"].X.A\n",
    "    \n",
    "    target = adata_test[adata_test.obs[\"condition\"]==cond].obsm[obsm_key_data]\n",
    "    target_decoded = adata_test[adata_test.obs[\"condition\"]==cond].X.A\n",
    "    conds = adata_test[adata_test.obs[\"condition\"]==cond].obsm[obsm_key_cond]\n",
    "    assert np.all(np.all(conds == conds[0], axis=1))\n",
    "    conds = np.tile(conds[0], (len(source), 1))\n",
    "    test_data_source[cond] = source\n",
    "    test_data_target[cond] = target\n",
    "    test_data_source_decoded[cond] = source_decoded\n",
    "    test_data_target_decoded[cond] = target_decoded\n",
    "    test_data_conditions[cond] = conds\n",
    "\n",
    "ood_data_source = {}\n",
    "ood_data_target = {}\n",
    "ood_data_source_decoded = {}\n",
    "ood_data_target_decoded = {}\n",
    "ood_data_conditions = {}\n",
    "adata_ood = sc.read(adata_ood_path)\n",
    "for cond in adata_ood.obs[\"condition\"].cat.categories:\n",
    "    if \"Vehicle\" in cond:\n",
    "        continue\n",
    "    src_str = list(adata_ood[adata_ood.obs[\"condition\"]==cond].obs[\"cell_type\"].unique())\n",
    "    assert len(src_str) == 1\n",
    "    source = adata_ood[adata_ood.obs[\"condition\"]==src_str[0]+\"_Vehicle_0.0\"].obsm[obsm_key_data]\n",
    "    source_decoded = adata_ood[adata_ood.obs[\"condition\"]==src_str[0]+\"_Vehicle_0.0\"].X.A\n",
    "    conds = adata_ood[adata_ood.obs[\"condition\"]==cond].obsm[obsm_key_cond]\n",
    "    assert np.all(np.all(conds == conds[0], axis=1))\n",
    "    conds = np.tile(conds[0], (len(source), 1))\n",
    "    ood_data_source[cond] = source\n",
    "    ood_data_target[cond] = target\n",
    "    ood_data_source_decoded[cond] = source_decoded\n",
    "    ood_data_target_decoded[cond] = target_decoded\n",
    "    ood_data_conditions[cond] = conds\n",
    "\n",
    "reconstruct_data_fn = functools.partial(reconstruct_data, projection_matrix=adata_train.varm[\"PCs\"], mean_to_add=adata_train.varm[\"X_train_mean\"].T)\n"
   ]
  },
  {
   "cell_type": "code",
   "execution_count": 9,
   "id": "f4e3ec12-c0cd-4b18-8a05-c06d531dde9a",
   "metadata": {},
   "outputs": [],
   "source": [
    "reconstruct_data_fn = functools.partial(reconstruct_data, projection_matrix=adata_train.varm[\"PCs\"], mean_to_add=adata_train.varm[\"X_train_mean\"].T)\n",
    "\n",
    "train_deg_dict = {k: v for k,v in adata_train.uns['rank_genes_groups_cov_all'].items() if k in train_data_conditions.keys()}\n",
    "test_deg_dict = {k: v for k,v in adata_train.uns['rank_genes_groups_cov_all'].items() if k in test_data_conditions.keys()}\n",
    "ood_deg_dict = {k: v for k,v in adata_train.uns['rank_genes_groups_cov_all'].items() if k in ood_data_conditions.keys()}\n",
    "\n",
    "def get_mask(x, y):\n",
    "    return x[:, [gene in y for gene in adata_train.var_names]]"
   ]
  },
  {
   "cell_type": "code",
   "execution_count": 10,
   "id": "86e0193b-e615-47ba-a26e-8115ea641ca3",
   "metadata": {},
   "outputs": [],
   "source": [
    "source_dim = source.shape[1]\n",
    "target_dim = source_dim\n",
    "condition_dim = conds.shape[1]\n",
    "\n",
    "source_dim = source.shape[1]\n",
    "target_dim = source_dim\n",
    "condition_dim = conds.shape[1]"
   ]
  },
  {
   "cell_type": "code",
   "execution_count": null,
   "id": "df472524-4a2a-496b-9169-6d1f5eafb87c",
   "metadata": {},
   "outputs": [
    {
     "name": "stderr",
     "output_type": "stream",
     "text": [
      " 30%|██▉       | 298/1000 [1:33:40<56:59,  4.87s/it]   2024-04-18 16:36:18.248686: E external/xla/xla/service/slow_operation_alarm.cc:65] \n",
      "********************************\n",
      "[Compiling module jit_while] Very slow compile? If you want to file a bug, run with envvar XLA_FLAGS=--xla_dump_to=/tmp/foo and attach the results.\n",
      "********************************\n",
      "2024-04-18 16:36:18.753498: E external/xla/xla/service/slow_operation_alarm.cc:133] The operation took 2m22.998164108s\n",
      "\n",
      "********************************\n",
      "[Compiling module jit_while] Very slow compile? If you want to file a bug, run with envvar XLA_FLAGS=--xla_dump_to=/tmp/foo and attach the results.\n",
      "********************************\n"
     ]
    }
   ],
   "source": [
    "vf = VelocityField(\n",
    "    hidden_dims=[512,512],\n",
    "    time_dims=[512,512],\n",
    "    output_dims=[30]+[target_dim],\n",
    "    condition_dims=[512,512],\n",
    "    time_encoder = functools.partial(time_encoder.cyclical_time_encoder, n_freqs=1024),\n",
    "    )\n",
    "\n",
    "model = otfm.OTFlowMatching(vf,\n",
    "    flow=dynamics.ConstantNoiseFlow(0),\n",
    "    match_fn=jax.jit(functools.partial(data_match_fn, typ=\"lin\", src_quad=None, tgt_quad=None, epsilon=0.1, tau_a=1.0, tau_b=1.0)),\n",
    "    condition_dim=condition_dim,\n",
    "    rng=jax.random.PRNGKey(13),\n",
    "    optimizer=optax.MultiSteps(optax.adam(learning_rate=1e-3), 5)\n",
    ")\n",
    "\n",
    "training_logs = {\"loss\": []}\n",
    "\n",
    "rng = jax.random.PRNGKey(0)\n",
    "for it in tqdm(range(1000)):\n",
    "    rng, rng_resample, rng_step_fn = jax.random.split(rng, 3)\n",
    "    batch = next(train_loader)\n",
    "    batch = jtu.tree_map(jnp.asarray, batch)\n",
    "\n",
    "    src, tgt = batch[\"src_lin\"], batch[\"tgt_lin\"]\n",
    "    src_cond = batch.get(\"src_condition\")\n",
    "\n",
    "    if model.match_fn is not None:\n",
    "        tmat = model.match_fn(src, tgt)\n",
    "        src_ixs, tgt_ixs = solver_utils.sample_joint(rng_resample, tmat)\n",
    "        src, tgt = src[src_ixs], tgt[tgt_ixs]\n",
    "        src_cond = None if src_cond is None else src_cond[src_ixs]\n",
    "\n",
    "    model.vf_state, loss = model.step_fn(\n",
    "        rng_step_fn,\n",
    "        model.vf_state,\n",
    "        src,\n",
    "        tgt,\n",
    "        src_cond,\n",
    "    )\n",
    "\n",
    "    training_logs[\"loss\"].append(float(loss))\n",
    "    if (it % 100 == 0) and (it > 0):\n",
    "        idcs = np.random.choice(list(test_data_source.keys()), 20)\n",
    "        test_data_source_tmp = {k:v for k,v in test_data_source.items() if k in idcs}\n",
    "        test_data_target_tmp = {k:v for k,v in test_data_target.items() if k in idcs}\n",
    "        test_data_conditions_tmp = {k:v for k,v in test_data_conditions.items() if k in idcs}\n",
    "        test_data_target_decoded_tmp = {k:v for k,v in test_data_target_decoded.items() if k in idcs}\n",
    "        test_deg_dict_tmp = {k:v for k,v in test_deg_dict.items() if k in idcs}\n",
    "        valid_losses = []\n",
    "        for cond in test_data_source_tmp.keys():\n",
    "            src = test_data_source_tmp[cond]\n",
    "            tgt = test_data_target_tmp[cond]\n",
    "            src_cond = test_data_conditions_tmp[cond]\n",
    "            if model.match_fn is not None:\n",
    "                tmat = model.match_fn(src, tgt)\n",
    "                src_ixs, tgt_ixs = solver_utils.sample_joint(rng_resample, tmat)\n",
    "                src, tgt = src[src_ixs], tgt[tgt_ixs]\n",
    "                src_cond = None if src_cond is None else src_cond[src_ixs]\n",
    "            _, valid_loss = model.step_fn(\n",
    "                rng,\n",
    "                model.vf_state,\n",
    "                src,\n",
    "                tgt,\n",
    "                src_cond,\n",
    "            )\n",
    "            valid_losses.append(valid_loss)\n",
    "\n",
    "        # predicted_target_train = jax.tree_util.tree_map(model.transport, train_data_source, train_data_conditions)\n",
    "        # train_metrics = jax.tree_util.tree_map(compute_metrics, train_data_target, predicted_target_train)\n",
    "        # mean_train_metrics = compute_mean_metrics(train_metrics, prefix=\"train_\")\n",
    "\n",
    "        # predicted_target_train_decoded = jax.tree_util.tree_map(reconstruct_data_fn, predicted_target_train)\n",
    "        # train_metrics_decoded = jax.tree_util.tree_map(compute_metrics, train_data_target_decoded, predicted_target_train_decoded)\n",
    "        # mean_train_metrics_decoded = compute_mean_metrics(train_metrics_decoded, prefix=\"decoded_train_\")\n",
    "\n",
    "        # train_deg_target_decoded_predicted = jax.tree_util.tree_map(get_mask, predicted_target_train_decoded, train_deg_dict)\n",
    "        # train_deg_target_decoded = jax.tree_util.tree_map(get_mask, train_data_target_decoded, test_deg_dict)\n",
    "\n",
    "        predicted_target_test = jax.tree_util.tree_map(model.transport, test_data_source_tmp, test_data_conditions_tmp)\n",
    "        #test_metrics = jax.tree_util.tree_map(compute_metrics, test_data_target_tmp, predicted_target_test)\n",
    "        #mean_test_metrics = compute_mean_metrics(test_metrics, prefix=\"test_\")\n",
    "\n",
    "        predicted_target_test_decoded = jax.tree_util.tree_map(reconstruct_data_fn, predicted_target_test)\n",
    "        #test_metrics_decoded = jax.tree_util.tree_map(\n",
    "        #    compute_metrics, test_data_target_decoded_tmp, predicted_target_test_decoded\n",
    "        #)\n",
    "        #mean_test_metrics_decoded = compute_mean_metrics(test_metrics_decoded, prefix=\"decoded_test_\")\n",
    "\n",
    "        \n",
    "        test_deg_target_decoded_predicted = jax.tree_util.tree_map(\n",
    "            get_mask, predicted_target_test_decoded, test_deg_dict_tmp\n",
    "        )\n",
    "        test_deg_target_decoded = jax.tree_util.tree_map(get_mask, test_data_target_decoded_tmp, test_deg_dict_tmp)\n",
    "        deg_test_metrics_encoded = jax.tree_util.tree_map(\n",
    "            compute_metrics, test_deg_target_decoded, test_deg_target_decoded_predicted\n",
    "        )\n",
    "        deg_mean_test_metrics_encoded = compute_mean_metrics(deg_test_metrics_encoded, prefix=\"deg_test_\")\n",
    "\n",
    "        predicted_target_ood = jax.tree_util.tree_map(model.transport, ood_data_source, ood_data_conditions)\n",
    "        ood_metrics = jax.tree_util.tree_map(compute_metrics, ood_data_target, predicted_target_ood)\n",
    "        mean_ood_metrics = compute_mean_metrics(ood_metrics, prefix=\"ood_\")\n",
    "\n",
    "        predicted_target_ood_decoded = jax.tree_util.tree_map(reconstruct_data_fn, predicted_target_ood)\n",
    "        ood_metrics_decoded = jax.tree_util.tree_map(\n",
    "            compute_metrics, ood_data_target_decoded, predicted_target_ood_decoded\n",
    "        )\n",
    "        mean_ood_metrics_decoded = compute_mean_metrics(ood_metrics_decoded, prefix=\"decoded_ood_\")\n",
    "\n",
    "        ood_deg_target_decoded_predicted = jax.tree_util.tree_map(\n",
    "            get_mask, predicted_target_ood_decoded, ood_deg_dict\n",
    "        )\n",
    "        ood_deg_target_decoded = jax.tree_util.tree_map(get_mask, ood_data_target_decoded, ood_deg_dict)\n",
    "        deg_ood_metrics_encoded = jax.tree_util.tree_map(\n",
    "            compute_metrics, ood_deg_target_decoded, ood_deg_target_decoded_predicted\n",
    "        )\n",
    "        deg_mean_ood_metrics_encoded = compute_mean_metrics(deg_ood_metrics_encoded, prefix=\"deg_ood_\")\n"
   ]
  },
  {
   "cell_type": "code",
   "execution_count": 11,
   "id": "d419fb8a-5e8e-479e-b841-8d072ffedbb9",
   "metadata": {},
   "outputs": [
    {
     "data": {
      "text/plain": [
       "{'A549_A-366_10.0': 'A549_A-366_10.0',\n",
       " 'A549_A-366_100.0': 'A549_A-366_100.0',\n",
       " 'A549_A-366_10000.0': 'A549_A-366_10000.0',\n",
       " 'A549_Carmofur_10.0': 'A549_Carmofur_10.0',\n",
       " 'A549_Carmofur_100.0': 'A549_Carmofur_100.0',\n",
       " 'A549_Disulfiram__10.0': 'A549_Disulfiram__10.0',\n",
       " 'A549_Disulfiram__1000.0': 'A549_Disulfiram__1000.0',\n",
       " 'A549_Disulfiram__10000.0': 'A549_Disulfiram__10000.0',\n",
       " 'A549_GSK-LSD1_2HCl_10.0': 'A549_GSK-LSD1_2HCl_10.0',\n",
       " 'A549_GSK-LSD1_2HCl_100.0': 'A549_GSK-LSD1_2HCl_100.0',\n",
       " 'A549_GSK-LSD1_2HCl_1000.0': 'A549_GSK-LSD1_2HCl_1000.0',\n",
       " 'A549_GSK-LSD1_2HCl_10000.0': 'A549_GSK-LSD1_2HCl_10000.0',\n",
       " 'A549_INO-1001_(3-Aminobenzamide)_100.0': 'A549_INO-1001_(3-Aminobenzamide)_100.0',\n",
       " 'A549_INO-1001_(3-Aminobenzamide)_1000.0': 'A549_INO-1001_(3-Aminobenzamide)_1000.0',\n",
       " 'A549_INO-1001_(3-Aminobenzamide)_10000.0': 'A549_INO-1001_(3-Aminobenzamide)_10000.0',\n",
       " 'A549_Lenalidomide_(CC-5013)_10.0': 'A549_Lenalidomide_(CC-5013)_10.0',\n",
       " 'A549_Lenalidomide_(CC-5013)_100.0': 'A549_Lenalidomide_(CC-5013)_100.0',\n",
       " 'A549_Lenalidomide_(CC-5013)_1000.0': 'A549_Lenalidomide_(CC-5013)_1000.0',\n",
       " 'A549_Linifanib_(ABT-869)_10.0': 'A549_Linifanib_(ABT-869)_10.0',\n",
       " 'A549_Linifanib_(ABT-869)_100.0': 'A549_Linifanib_(ABT-869)_100.0',\n",
       " 'A549_Linifanib_(ABT-869)_1000.0': 'A549_Linifanib_(ABT-869)_1000.0',\n",
       " 'A549_Linifanib_(ABT-869)_10000.0': 'A549_Linifanib_(ABT-869)_10000.0',\n",
       " 'A549_MK-0752_10.0': 'A549_MK-0752_10.0',\n",
       " 'A549_MK-0752_100.0': 'A549_MK-0752_100.0',\n",
       " 'A549_MK-0752_1000.0': 'A549_MK-0752_1000.0',\n",
       " 'A549_MK-0752_10000.0': 'A549_MK-0752_10000.0',\n",
       " 'A549_Mesna__10.0': 'A549_Mesna__10.0',\n",
       " 'A549_Mesna__100.0': 'A549_Mesna__100.0',\n",
       " 'A549_Mesna__10000.0': 'A549_Mesna__10000.0',\n",
       " 'A549_Nilotinib_(AMN-107)_10.0': 'A549_Nilotinib_(AMN-107)_10.0',\n",
       " 'A549_Nilotinib_(AMN-107)_100.0': 'A549_Nilotinib_(AMN-107)_100.0',\n",
       " 'A549_Nilotinib_(AMN-107)_1000.0': 'A549_Nilotinib_(AMN-107)_1000.0',\n",
       " 'A549_Nilotinib_(AMN-107)_10000.0': 'A549_Nilotinib_(AMN-107)_10000.0',\n",
       " 'A549_Prednisone__10.0': 'A549_Prednisone__10.0',\n",
       " 'A549_Prednisone__100.0': 'A549_Prednisone__100.0',\n",
       " 'A549_Prednisone__1000.0': 'A549_Prednisone__1000.0',\n",
       " 'A549_Prednisone__10000.0': 'A549_Prednisone__10000.0',\n",
       " 'A549_SRT1720_HCl_100.0': 'A549_SRT1720_HCl_100.0',\n",
       " 'A549_SRT1720_HCl_1000.0': 'A549_SRT1720_HCl_1000.0',\n",
       " 'A549_TGX-221_10.0': 'A549_TGX-221_10.0',\n",
       " 'A549_TGX-221_100.0': 'A549_TGX-221_100.0',\n",
       " 'A549_TGX-221_1000.0': 'A549_TGX-221_1000.0',\n",
       " 'A549_TGX-221_10000.0': 'A549_TGX-221_10000.0',\n",
       " 'A549_Tazemetostat_(EPZ-6438)_100.0': 'A549_Tazemetostat_(EPZ-6438)_100.0',\n",
       " 'A549_Thiotepa_10.0': 'A549_Thiotepa_10.0',\n",
       " 'A549_Thiotepa_100.0': 'A549_Thiotepa_100.0',\n",
       " 'A549_Tubastatin_A_HCl_10.0': 'A549_Tubastatin_A_HCl_10.0',\n",
       " 'A549_Tubastatin_A_HCl_100.0': 'A549_Tubastatin_A_HCl_100.0',\n",
       " 'A549_Tubastatin_A_HCl_1000.0': 'A549_Tubastatin_A_HCl_1000.0',\n",
       " 'A549_Tubastatin_A_HCl_10000.0': 'A549_Tubastatin_A_HCl_10000.0',\n",
       " 'A549_Valproic_acid_sodium_salt_(Sodium_valproate)_10.0': 'A549_Valproic_acid_sodium_salt_(Sodium_valproate)_10.0',\n",
       " 'A549_Valproic_acid_sodium_salt_(Sodium_valproate)_1000.0': 'A549_Valproic_acid_sodium_salt_(Sodium_valproate)_1000.0',\n",
       " 'A549_Valproic_acid_sodium_salt_(Sodium_valproate)_10000.0': 'A549_Valproic_acid_sodium_salt_(Sodium_valproate)_10000.0',\n",
       " 'A549_WHI-P154_10.0': 'A549_WHI-P154_10.0',\n",
       " 'A549_WHI-P154_100.0': 'A549_WHI-P154_100.0',\n",
       " 'A549_WHI-P154_1000.0': 'A549_WHI-P154_1000.0',\n",
       " 'A549_WHI-P154_10000.0': 'A549_WHI-P154_10000.0',\n",
       " 'K562_A-366_10.0': 'K562_A-366_10.0',\n",
       " 'K562_A-366_100.0': 'K562_A-366_100.0',\n",
       " 'K562_A-366_1000.0': 'K562_A-366_1000.0',\n",
       " 'K562_A-366_10000.0': 'K562_A-366_10000.0',\n",
       " 'K562_Carmofur_10.0': 'K562_Carmofur_10.0',\n",
       " 'K562_Carmofur_100.0': 'K562_Carmofur_100.0',\n",
       " 'K562_Carmofur_1000.0': 'K562_Carmofur_1000.0',\n",
       " 'K562_Carmofur_10000.0': 'K562_Carmofur_10000.0',\n",
       " 'K562_Disulfiram__10.0': 'K562_Disulfiram__10.0',\n",
       " 'K562_Disulfiram__100.0': 'K562_Disulfiram__100.0',\n",
       " 'K562_Disulfiram__1000.0': 'K562_Disulfiram__1000.0',\n",
       " 'K562_Disulfiram__10000.0': 'K562_Disulfiram__10000.0',\n",
       " 'K562_GSK-LSD1_2HCl_10.0': 'K562_GSK-LSD1_2HCl_10.0',\n",
       " 'K562_GSK-LSD1_2HCl_10000.0': 'K562_GSK-LSD1_2HCl_10000.0',\n",
       " 'K562_INO-1001_(3-Aminobenzamide)_10.0': 'K562_INO-1001_(3-Aminobenzamide)_10.0',\n",
       " 'K562_INO-1001_(3-Aminobenzamide)_100.0': 'K562_INO-1001_(3-Aminobenzamide)_100.0',\n",
       " 'K562_INO-1001_(3-Aminobenzamide)_1000.0': 'K562_INO-1001_(3-Aminobenzamide)_1000.0',\n",
       " 'K562_INO-1001_(3-Aminobenzamide)_10000.0': 'K562_INO-1001_(3-Aminobenzamide)_10000.0',\n",
       " 'K562_Lenalidomide_(CC-5013)_10.0': 'K562_Lenalidomide_(CC-5013)_10.0',\n",
       " 'K562_Lenalidomide_(CC-5013)_100.0': 'K562_Lenalidomide_(CC-5013)_100.0',\n",
       " 'K562_Lenalidomide_(CC-5013)_1000.0': 'K562_Lenalidomide_(CC-5013)_1000.0',\n",
       " 'K562_Lenalidomide_(CC-5013)_10000.0': 'K562_Lenalidomide_(CC-5013)_10000.0',\n",
       " 'K562_Linifanib_(ABT-869)_10.0': 'K562_Linifanib_(ABT-869)_10.0',\n",
       " 'K562_Linifanib_(ABT-869)_100.0': 'K562_Linifanib_(ABT-869)_100.0',\n",
       " 'K562_Linifanib_(ABT-869)_1000.0': 'K562_Linifanib_(ABT-869)_1000.0',\n",
       " 'K562_Linifanib_(ABT-869)_10000.0': 'K562_Linifanib_(ABT-869)_10000.0',\n",
       " 'K562_MK-0752_10.0': 'K562_MK-0752_10.0',\n",
       " 'K562_MK-0752_100.0': 'K562_MK-0752_100.0',\n",
       " 'K562_MK-0752_1000.0': 'K562_MK-0752_1000.0',\n",
       " 'K562_MK-0752_10000.0': 'K562_MK-0752_10000.0',\n",
       " 'K562_Mesna__10.0': 'K562_Mesna__10.0',\n",
       " 'K562_Mesna__100.0': 'K562_Mesna__100.0',\n",
       " 'K562_Mesna__1000.0': 'K562_Mesna__1000.0',\n",
       " 'K562_Mesna__10000.0': 'K562_Mesna__10000.0',\n",
       " 'K562_Nilotinib_(AMN-107)_10.0': 'K562_Nilotinib_(AMN-107)_10.0',\n",
       " 'K562_PCI-34051_10.0': 'K562_PCI-34051_10.0',\n",
       " 'K562_PCI-34051_100.0': 'K562_PCI-34051_100.0',\n",
       " 'K562_PCI-34051_1000.0': 'K562_PCI-34051_1000.0',\n",
       " 'K562_Prednisone__10.0': 'K562_Prednisone__10.0',\n",
       " 'K562_Prednisone__100.0': 'K562_Prednisone__100.0',\n",
       " 'K562_Prednisone__1000.0': 'K562_Prednisone__1000.0',\n",
       " 'K562_Prednisone__10000.0': 'K562_Prednisone__10000.0',\n",
       " 'K562_SRT1720_HCl_10.0': 'K562_SRT1720_HCl_10.0',\n",
       " 'K562_SRT1720_HCl_100.0': 'K562_SRT1720_HCl_100.0',\n",
       " 'K562_SRT1720_HCl_1000.0': 'K562_SRT1720_HCl_1000.0',\n",
       " 'K562_TGX-221_10.0': 'K562_TGX-221_10.0',\n",
       " 'K562_TGX-221_100.0': 'K562_TGX-221_100.0',\n",
       " 'K562_TGX-221_1000.0': 'K562_TGX-221_1000.0',\n",
       " 'K562_TGX-221_10000.0': 'K562_TGX-221_10000.0',\n",
       " 'K562_Tazemetostat_(EPZ-6438)_10.0': 'K562_Tazemetostat_(EPZ-6438)_10.0',\n",
       " 'K562_Tazemetostat_(EPZ-6438)_100.0': 'K562_Tazemetostat_(EPZ-6438)_100.0',\n",
       " 'K562_Tazemetostat_(EPZ-6438)_1000.0': 'K562_Tazemetostat_(EPZ-6438)_1000.0',\n",
       " 'K562_Tazemetostat_(EPZ-6438)_10000.0': 'K562_Tazemetostat_(EPZ-6438)_10000.0',\n",
       " 'K562_Thiotepa_10.0': 'K562_Thiotepa_10.0',\n",
       " 'K562_Thiotepa_100.0': 'K562_Thiotepa_100.0',\n",
       " 'K562_Thiotepa_1000.0': 'K562_Thiotepa_1000.0',\n",
       " 'K562_Thiotepa_10000.0': 'K562_Thiotepa_10000.0',\n",
       " 'K562_Tubastatin_A_HCl_10.0': 'K562_Tubastatin_A_HCl_10.0',\n",
       " 'K562_Tubastatin_A_HCl_1000.0': 'K562_Tubastatin_A_HCl_1000.0',\n",
       " 'K562_Tubastatin_A_HCl_10000.0': 'K562_Tubastatin_A_HCl_10000.0',\n",
       " 'K562_Valproic_acid_sodium_salt_(Sodium_valproate)_10.0': 'K562_Valproic_acid_sodium_salt_(Sodium_valproate)_10.0',\n",
       " 'K562_Valproic_acid_sodium_salt_(Sodium_valproate)_1000.0': 'K562_Valproic_acid_sodium_salt_(Sodium_valproate)_1000.0',\n",
       " 'K562_Valproic_acid_sodium_salt_(Sodium_valproate)_10000.0': 'K562_Valproic_acid_sodium_salt_(Sodium_valproate)_10000.0',\n",
       " 'K562_WHI-P154_10.0': 'K562_WHI-P154_10.0',\n",
       " 'K562_WHI-P154_100.0': 'K562_WHI-P154_100.0',\n",
       " 'K562_WHI-P154_1000.0': 'K562_WHI-P154_1000.0',\n",
       " 'MCF7_A-366_10.0': 'MCF7_A-366_10.0',\n",
       " 'MCF7_A-366_100.0': 'MCF7_A-366_100.0',\n",
       " 'MCF7_A-366_1000.0': 'MCF7_A-366_1000.0',\n",
       " 'MCF7_A-366_10000.0': 'MCF7_A-366_10000.0',\n",
       " 'MCF7_Carmofur_10.0': 'MCF7_Carmofur_10.0',\n",
       " 'MCF7_Carmofur_100.0': 'MCF7_Carmofur_100.0',\n",
       " 'MCF7_Carmofur_1000.0': 'MCF7_Carmofur_1000.0',\n",
       " 'MCF7_Carmofur_10000.0': 'MCF7_Carmofur_10000.0',\n",
       " 'MCF7_Disulfiram__10.0': 'MCF7_Disulfiram__10.0',\n",
       " 'MCF7_Disulfiram__100.0': 'MCF7_Disulfiram__100.0',\n",
       " 'MCF7_Disulfiram__1000.0': 'MCF7_Disulfiram__1000.0',\n",
       " 'MCF7_Disulfiram__10000.0': 'MCF7_Disulfiram__10000.0',\n",
       " 'MCF7_GSK-LSD1_2HCl_10.0': 'MCF7_GSK-LSD1_2HCl_10.0',\n",
       " 'MCF7_GSK-LSD1_2HCl_100.0': 'MCF7_GSK-LSD1_2HCl_100.0',\n",
       " 'MCF7_GSK-LSD1_2HCl_1000.0': 'MCF7_GSK-LSD1_2HCl_1000.0',\n",
       " 'MCF7_GSK-LSD1_2HCl_10000.0': 'MCF7_GSK-LSD1_2HCl_10000.0',\n",
       " 'MCF7_INO-1001_(3-Aminobenzamide)_10.0': 'MCF7_INO-1001_(3-Aminobenzamide)_10.0',\n",
       " 'MCF7_INO-1001_(3-Aminobenzamide)_100.0': 'MCF7_INO-1001_(3-Aminobenzamide)_100.0',\n",
       " 'MCF7_INO-1001_(3-Aminobenzamide)_1000.0': 'MCF7_INO-1001_(3-Aminobenzamide)_1000.0',\n",
       " 'MCF7_INO-1001_(3-Aminobenzamide)_10000.0': 'MCF7_INO-1001_(3-Aminobenzamide)_10000.0',\n",
       " 'MCF7_Lenalidomide_(CC-5013)_10.0': 'MCF7_Lenalidomide_(CC-5013)_10.0',\n",
       " 'MCF7_Lenalidomide_(CC-5013)_100.0': 'MCF7_Lenalidomide_(CC-5013)_100.0',\n",
       " 'MCF7_Lenalidomide_(CC-5013)_1000.0': 'MCF7_Lenalidomide_(CC-5013)_1000.0',\n",
       " 'MCF7_Lenalidomide_(CC-5013)_10000.0': 'MCF7_Lenalidomide_(CC-5013)_10000.0',\n",
       " 'MCF7_Linifanib_(ABT-869)_10.0': 'MCF7_Linifanib_(ABT-869)_10.0',\n",
       " 'MCF7_Linifanib_(ABT-869)_100.0': 'MCF7_Linifanib_(ABT-869)_100.0',\n",
       " 'MCF7_Linifanib_(ABT-869)_1000.0': 'MCF7_Linifanib_(ABT-869)_1000.0',\n",
       " 'MCF7_Linifanib_(ABT-869)_10000.0': 'MCF7_Linifanib_(ABT-869)_10000.0',\n",
       " 'MCF7_MK-0752_10.0': 'MCF7_MK-0752_10.0',\n",
       " 'MCF7_MK-0752_100.0': 'MCF7_MK-0752_100.0',\n",
       " 'MCF7_MK-0752_1000.0': 'MCF7_MK-0752_1000.0',\n",
       " 'MCF7_MK-0752_10000.0': 'MCF7_MK-0752_10000.0',\n",
       " 'MCF7_Mesna__10.0': 'MCF7_Mesna__10.0',\n",
       " 'MCF7_Mesna__100.0': 'MCF7_Mesna__100.0',\n",
       " 'MCF7_Mesna__1000.0': 'MCF7_Mesna__1000.0',\n",
       " 'MCF7_Mesna__10000.0': 'MCF7_Mesna__10000.0',\n",
       " 'MCF7_Nilotinib_(AMN-107)_10.0': 'MCF7_Nilotinib_(AMN-107)_10.0',\n",
       " 'MCF7_Nilotinib_(AMN-107)_100.0': 'MCF7_Nilotinib_(AMN-107)_100.0',\n",
       " 'MCF7_Nilotinib_(AMN-107)_1000.0': 'MCF7_Nilotinib_(AMN-107)_1000.0',\n",
       " 'MCF7_Nilotinib_(AMN-107)_10000.0': 'MCF7_Nilotinib_(AMN-107)_10000.0',\n",
       " 'MCF7_PCI-34051_10.0': 'MCF7_PCI-34051_10.0',\n",
       " 'MCF7_PCI-34051_100.0': 'MCF7_PCI-34051_100.0',\n",
       " 'MCF7_PCI-34051_1000.0': 'MCF7_PCI-34051_1000.0',\n",
       " 'MCF7_PCI-34051_10000.0': 'MCF7_PCI-34051_10000.0',\n",
       " 'MCF7_Prednisone__10.0': 'MCF7_Prednisone__10.0',\n",
       " 'MCF7_Prednisone__100.0': 'MCF7_Prednisone__100.0',\n",
       " 'MCF7_Prednisone__1000.0': 'MCF7_Prednisone__1000.0',\n",
       " 'MCF7_Prednisone__10000.0': 'MCF7_Prednisone__10000.0',\n",
       " 'MCF7_SRT1720_HCl_10.0': 'MCF7_SRT1720_HCl_10.0',\n",
       " 'MCF7_SRT1720_HCl_100.0': 'MCF7_SRT1720_HCl_100.0',\n",
       " 'MCF7_SRT1720_HCl_1000.0': 'MCF7_SRT1720_HCl_1000.0',\n",
       " 'MCF7_SRT1720_HCl_10000.0': 'MCF7_SRT1720_HCl_10000.0',\n",
       " 'MCF7_TGX-221_10.0': 'MCF7_TGX-221_10.0',\n",
       " 'MCF7_TGX-221_100.0': 'MCF7_TGX-221_100.0',\n",
       " 'MCF7_TGX-221_1000.0': 'MCF7_TGX-221_1000.0',\n",
       " 'MCF7_TGX-221_10000.0': 'MCF7_TGX-221_10000.0',\n",
       " 'MCF7_Tazemetostat_(EPZ-6438)_10.0': 'MCF7_Tazemetostat_(EPZ-6438)_10.0',\n",
       " 'MCF7_Tazemetostat_(EPZ-6438)_100.0': 'MCF7_Tazemetostat_(EPZ-6438)_100.0',\n",
       " 'MCF7_Tazemetostat_(EPZ-6438)_1000.0': 'MCF7_Tazemetostat_(EPZ-6438)_1000.0',\n",
       " 'MCF7_Tazemetostat_(EPZ-6438)_10000.0': 'MCF7_Tazemetostat_(EPZ-6438)_10000.0',\n",
       " 'MCF7_Thiotepa_10.0': 'MCF7_Thiotepa_10.0',\n",
       " 'MCF7_Thiotepa_100.0': 'MCF7_Thiotepa_100.0',\n",
       " 'MCF7_Thiotepa_1000.0': 'MCF7_Thiotepa_1000.0',\n",
       " 'MCF7_Thiotepa_10000.0': 'MCF7_Thiotepa_10000.0',\n",
       " 'MCF7_Tubastatin_A_HCl_10.0': 'MCF7_Tubastatin_A_HCl_10.0',\n",
       " 'MCF7_Tubastatin_A_HCl_100.0': 'MCF7_Tubastatin_A_HCl_100.0',\n",
       " 'MCF7_Tubastatin_A_HCl_1000.0': 'MCF7_Tubastatin_A_HCl_1000.0',\n",
       " 'MCF7_Tubastatin_A_HCl_10000.0': 'MCF7_Tubastatin_A_HCl_10000.0',\n",
       " 'MCF7_Valproic_acid_sodium_salt_(Sodium_valproate)_10.0': 'MCF7_Valproic_acid_sodium_salt_(Sodium_valproate)_10.0',\n",
       " 'MCF7_Valproic_acid_sodium_salt_(Sodium_valproate)_100.0': 'MCF7_Valproic_acid_sodium_salt_(Sodium_valproate)_100.0',\n",
       " 'MCF7_Valproic_acid_sodium_salt_(Sodium_valproate)_1000.0': 'MCF7_Valproic_acid_sodium_salt_(Sodium_valproate)_1000.0',\n",
       " 'MCF7_Valproic_acid_sodium_salt_(Sodium_valproate)_10000.0': 'MCF7_Valproic_acid_sodium_salt_(Sodium_valproate)_10000.0',\n",
       " 'MCF7_WHI-P154_10.0': 'MCF7_WHI-P154_10.0',\n",
       " 'MCF7_WHI-P154_100.0': 'MCF7_WHI-P154_100.0',\n",
       " 'MCF7_WHI-P154_1000.0': 'MCF7_WHI-P154_1000.0',\n",
       " 'MCF7_WHI-P154_10000.0': 'MCF7_WHI-P154_10000.0'}"
      ]
     },
     "execution_count": 11,
     "metadata": {},
     "output_type": "execute_result"
    }
   ],
   "source": [
    "ood_data_conditions"
   ]
  },
  {
   "cell_type": "code",
   "execution_count": 39,
   "id": "eb8b4df0-3b07-4ee2-b194-78bbe5bdc276",
   "metadata": {},
   "outputs": [
    {
     "data": {
      "text/plain": [
       "((500, 30), (500, 30), (500, 30))"
      ]
     },
     "execution_count": 39,
     "metadata": {},
     "output_type": "execute_result"
    }
   ],
   "source": [
    "src.shape, tgt.shape, src_cond.shape"
   ]
  },
  {
   "cell_type": "code",
   "execution_count": 42,
   "id": "174bf674-871a-4669-972c-bd27e97750f6",
   "metadata": {},
   "outputs": [
    {
     "data": {
      "text/plain": [
       "Array(17.699856, dtype=float32)"
      ]
     },
     "execution_count": 42,
     "metadata": {},
     "output_type": "execute_result"
    }
   ],
   "source": [
    "from ott.geometry import costs, pointcloud\n",
    "pointcloud.PointCloud(\n",
    "            x=src,\n",
    "            y=tgt,\n",
    "            cost_fn=costs.SqEuclidean(),\n",
    "            scale_cost=1.0,\n",
    "        ).cost_matrix.mean()"
   ]
  },
  {
   "cell_type": "code",
   "execution_count": 38,
   "id": "aaf5e27a-d03e-44dc-87a7-fbbe22e08bb7",
   "metadata": {},
   "outputs": [
    {
     "data": {
      "text/plain": [
       "{'A549_Crizotinib_(PF-02341066)_1000.0': (500, 1025),\n",
       " 'A549_Ki16425_10000.0': (500, 1025),\n",
       " 'A549_MK-5108_(VX-689)_100.0': (500, 1025),\n",
       " 'A549_Veliparib_(ABT-888)_1000.0': (500, 1025),\n",
       " 'K562_Maraviroc_1000.0': (500, 1025),\n",
       " 'K562_Ofloxacin_1000.0': (500, 1025),\n",
       " 'K562_SRT2104_(GSK2245840)_100.0': (500, 1025),\n",
       " 'K562_UNC0379_100.0': (500, 1025),\n",
       " 'MCF7_Anacardic_Acid_1000.0': (500, 1025),\n",
       " 'MCF7_CUDC-101_10000.0': (500, 1025),\n",
       " 'MCF7_Capecitabine__1000.0': (500, 1025),\n",
       " 'MCF7_Cerdulatinib_(PRT062070,_PRT2070)_10000.0': (500, 1025),\n",
       " 'MCF7_Clevudine__10000.0': (500, 1025),\n",
       " 'MCF7_G007-LK_100.0': (500, 1025),\n",
       " 'MCF7_Iniparib_(BSI-201)_100.0': (500, 1025),\n",
       " 'MCF7_PHA-680632_10.0': (500, 1025),\n",
       " 'MCF7_RG108_10000.0': (500, 1025),\n",
       " 'MCF7_Ramelteon_10.0': (500, 1025),\n",
       " 'MCF7_Resveratrol_10000.0': (500, 1025),\n",
       " 'MCF7_Tofacitinib_(CP-690550)_Citrate_100.0': (500, 1025)}"
      ]
     },
     "execution_count": 38,
     "metadata": {},
     "output_type": "execute_result"
    }
   ],
   "source": [
    "jax.tree_util.tree_map(lambda x: x.shape, test_data_conditions_tmp)"
   ]
  },
  {
   "cell_type": "code",
   "execution_count": 26,
   "id": "e2c3bc10-9dd0-4152-95f6-dfeca10a2780",
   "metadata": {},
   "outputs": [],
   "source": [
    "idcs = np.random.choice(list(test_data_source.keys()), 50)"
   ]
  },
  {
   "cell_type": "code",
   "execution_count": 27,
   "id": "db20f74b-7031-46dc-9d32-217507ce1cfa",
   "metadata": {},
   "outputs": [
    {
     "data": {
      "text/plain": [
       "array(['MCF7_Vandetanib_(ZD6474)_100.0', 'K562_Ramelteon_100.0',\n",
       "       'K562_ENMD-2076_L-(+)-Tartaric_acid__100.0',\n",
       "       'MCF7_Navitoclax_(ABT-263)_100.0',\n",
       "       'MCF7_Motesanib_Diphosphate_(AMG-706)_10000.0',\n",
       "       'A549_WP1066_1000.0', 'A549_Fulvestrant_100.0',\n",
       "       'MCF7_Temsirolimus_(CCI-779,_NSC_683864)_100.0',\n",
       "       'MCF7_Curcumin_1000.0', 'MCF7_Alvespimycin_(17-DMAG)_HCl_10.0',\n",
       "       'MCF7_Barasertib_(AZD1152-HQPA)_10000.0', 'MCF7_Quercetin_10000.0',\n",
       "       'K562_RG108_10.0', 'MCF7_Ofloxacin_100.0',\n",
       "       'K562_Thalidomide_100.0', 'A549_Cimetidine__10.0',\n",
       "       'MCF7_MC1568_1000.0', 'MCF7_RG108_10000.0',\n",
       "       'A549_Resminostat_100.0', 'MCF7_SRT2104_(GSK2245840)_1000.0',\n",
       "       'K562_ABT-737_100.0', 'K562_Fluorouracil_(5-Fluoracil,_5-FU)_10.0',\n",
       "       'MCF7_TMP195_10.0', 'A549_AICAR_(Acadesine)_1000.0',\n",
       "       'MCF7_Decitabine_10.0', 'MCF7_AICAR_(Acadesine)_1000.0',\n",
       "       'MCF7_UNC0631_100.0', 'K562_UNC0379_1000.0',\n",
       "       'MCF7_Trichostatin_A_(TSA)_10.0', 'A549_Andarine_10.0',\n",
       "       'MCF7_Avagacestat_(BMS-708163)_10000.0', 'MCF7_BMS-911543_100.0',\n",
       "       'MCF7_Crizotinib_(PF-02341066)_1000.0',\n",
       "       'MCF7_Ivosidenib_(AG-120)_1000.0', 'A549_Sirtinol_1000.0',\n",
       "       'A549_Roscovitine_(Seliciclib,CYC202)_10000.0',\n",
       "       'MCF7_Sodium_Phenylbutyrate_100.0',\n",
       "       'K562_Aminoglutethimide__100.0', 'MCF7_EED226_100.0',\n",
       "       'K562_Cerdulatinib_(PRT062070,_PRT2070)_100.0',\n",
       "       'K562_Momelotinib_(CYT387)_10.0',\n",
       "       'K562_Motesanib_Diphosphate_(AMG-706)_1000.0',\n",
       "       'K562_Nintedanib_(BIBF_1120)_10.0',\n",
       "       'MCF7_Givinostat_(ITF2357)_10000.0', 'K562_Sirtinol_10000.0',\n",
       "       'MCF7_Quisinostat_(JNJ-26481585)_2HCl_100.0',\n",
       "       'K562_Veliparib_(ABT-888)_10000.0', 'MCF7_SL-327_100.0',\n",
       "       'A549_Belinostat_(PXD101)_100.0', 'MCF7_Sirtinol_1000.0'],\n",
       "      dtype='<U56')"
      ]
     },
     "execution_count": 27,
     "metadata": {},
     "output_type": "execute_result"
    }
   ],
   "source": [
    "idcs"
   ]
  },
  {
   "cell_type": "code",
   "execution_count": 31,
   "id": "9fc87b5f-ec39-4234-940f-b54da64fae53",
   "metadata": {},
   "outputs": [
    {
     "data": {
      "text/plain": [
       "50"
      ]
     },
     "execution_count": 31,
     "metadata": {},
     "output_type": "execute_result"
    }
   ],
   "source": [
    "len({k:v for k,v in test_data_source.items() if k in idcs})"
   ]
  },
  {
   "cell_type": "code",
   "execution_count": 25,
   "id": "658f9377-86eb-4e69-bf1a-97ca6e173e80",
   "metadata": {},
   "outputs": [],
   "source": [
    "for cond in adata_train.obs[\"condition\"].cat.categories:\n",
    "    if \"Vehicle\" in cond:\n",
    "        continue\n",
    "    src_str = list(adata_train[adata_train.obs[\"condition\"]==cond].obs[\"cell_type\"].unique())\n",
    "    assert len(src_str) == 1\n",
    "    source = adata_train[adata_train.obs[\"condition\"]==src_str[0]+\"_Vehicle_0.0\"].obsm[obsm_key_data]\n",
    "    source_decoded = adata_train[adata_train.obs[\"condition\"]==src_str[0]+\"_Vehicle_0.0\"].X.A\n",
    "    target = adata_train[adata_train.obs[\"condition\"]==cond].obsm[obsm_key_data]\n",
    "    target_decoded = adata_train[adata_train.obs[\"condition\"]==cond].X.A\n",
    "    conds = adata_train[adata_train.obs[\"condition\"]==cond].obsm[obsm_key_cond]\n",
    "    assert np.all(np.all(conds == conds[0], axis=1))\n",
    "    \n",
    "    ds = datasets.OTDataset(datasets.OTData(\n",
    "        lin=source,\n",
    "        condition=conds,\n",
    "    ),datasets.OTData(lin=target))\n",
    "    break"
   ]
  },
  {
   "cell_type": "code",
   "execution_count": 47,
   "id": "9c788ba1-ab53-4969-8b7c-2a5e68efc70a",
   "metadata": {},
   "outputs": [],
   "source": [
    "conds = np.tile(conds[0], (len(source), 1))"
   ]
  },
  {
   "cell_type": "code",
   "execution_count": 48,
   "id": "47837a6b-f8ca-45f2-b128-3e3538510203",
   "metadata": {},
   "outputs": [
    {
     "data": {
      "text/plain": [
       "(2787, 1025)"
      ]
     },
     "execution_count": 48,
     "metadata": {},
     "output_type": "execute_result"
    }
   ],
   "source": [
    "conds.shape"
   ]
  },
  {
   "cell_type": "code",
   "execution_count": 30,
   "id": "0935dee9-380f-4c68-b641-1149d8fe8360",
   "metadata": {},
   "outputs": [],
   "source": [
    "batch = next(iter(ds))"
   ]
  },
  {
   "cell_type": "code",
   "execution_count": 31,
   "id": "5b1cdefa-dbb2-4725-97ca-2a19cadff657",
   "metadata": {},
   "outputs": [
    {
     "data": {
      "text/plain": [
       "(30,)"
      ]
     },
     "execution_count": 31,
     "metadata": {},
     "output_type": "execute_result"
    }
   ],
   "source": [
    "batch[\"src_lin\"].shape"
   ]
  },
  {
   "cell_type": "code",
   "execution_count": 32,
   "id": "ece747fc-a088-4a3d-9ef9-f35ec01c04dd",
   "metadata": {},
   "outputs": [
    {
     "data": {
      "text/plain": [
       "(30,)"
      ]
     },
     "execution_count": 32,
     "metadata": {},
     "output_type": "execute_result"
    }
   ],
   "source": [
    "batch[\"tgt_lin\"].shape"
   ]
  },
  {
   "cell_type": "code",
   "execution_count": 33,
   "id": "db6f7af9-1c25-42fe-8db2-8f7f53f67992",
   "metadata": {},
   "outputs": [
    {
     "data": {
      "text/plain": [
       "(1025,)"
      ]
     },
     "execution_count": 33,
     "metadata": {},
     "output_type": "execute_result"
    }
   ],
   "source": [
    "batch[\"src_condition\"].shape"
   ]
  },
  {
   "cell_type": "code",
   "execution_count": 39,
   "id": "04291951-371f-474e-ba21-6451ce19377a",
   "metadata": {},
   "outputs": [
    {
     "data": {
      "text/plain": [
       "(2787, 30)"
      ]
     },
     "execution_count": 39,
     "metadata": {},
     "output_type": "execute_result"
    }
   ],
   "source": [
    "ds.src_data.lin.shape"
   ]
  },
  {
   "cell_type": "code",
   "execution_count": 40,
   "id": "bfc3cafd-66f1-45a0-9cce-985a5cde1d1d",
   "metadata": {},
   "outputs": [
    {
     "data": {
      "text/plain": [
       "(114, 30)"
      ]
     },
     "execution_count": 40,
     "metadata": {},
     "output_type": "execute_result"
    }
   ],
   "source": [
    "ds.tgt_data.lin.shape"
   ]
  },
  {
   "cell_type": "code",
   "execution_count": 44,
   "id": "735e58f9-f9b9-454b-a404-133d2f5cbbd6",
   "metadata": {},
   "outputs": [
    {
     "data": {
      "text/plain": [
       "(114, 1025)"
      ]
     },
     "execution_count": 44,
     "metadata": {},
     "output_type": "execute_result"
    }
   ],
   "source": [
    "ds.src_data.condition.shape"
   ]
  },
  {
   "cell_type": "code",
   "execution_count": 36,
   "id": "75d63a18-b7fe-4bb4-ba27-cdda3c929311",
   "metadata": {},
   "outputs": [
    {
     "data": {
      "text/plain": [
       "['SRC_PREFIX',\n",
       " 'TGT_PREFIX',\n",
       " '__class__',\n",
       " '__delattr__',\n",
       " '__dict__',\n",
       " '__dir__',\n",
       " '__doc__',\n",
       " '__eq__',\n",
       " '__format__',\n",
       " '__ge__',\n",
       " '__getattribute__',\n",
       " '__getitem__',\n",
       " '__getstate__',\n",
       " '__gt__',\n",
       " '__hash__',\n",
       " '__init__',\n",
       " '__init_subclass__',\n",
       " '__le__',\n",
       " '__len__',\n",
       " '__lt__',\n",
       " '__module__',\n",
       " '__ne__',\n",
       " '__new__',\n",
       " '__reduce__',\n",
       " '__reduce_ex__',\n",
       " '__repr__',\n",
       " '__setattr__',\n",
       " '__sizeof__',\n",
       " '__str__',\n",
       " '__subclasshook__',\n",
       " '__weakref__',\n",
       " '_rng',\n",
       " '_sample_from_target',\n",
       " '_tgt_cond_to_ix',\n",
       " '_verify_integrity',\n",
       " 'is_aligned',\n",
       " 'src_conditions',\n",
       " 'src_data',\n",
       " 'tgt_conditions',\n",
       " 'tgt_data']"
      ]
     },
     "execution_count": 36,
     "metadata": {},
     "output_type": "execute_result"
    }
   ],
   "source": [
    "dir(ds)"
   ]
  },
  {
   "cell_type": "code",
   "execution_count": 17,
   "id": "d68e5343-9cf6-43e5-a526-2ab97ca684f9",
   "metadata": {},
   "outputs": [],
   "source": [
    "ood_data_source = {}\n",
    "ood_data_target = {}\n",
    "ood_data_source_decoded = {}\n",
    "ood_data_target_decoded = {}\n",
    "ood_data_conditions = {}\n",
    "#adata_ood = sc.read(adata_ood_path)\n",
    "for cond in adata_ood.obs[\"condition\"].cat.categories:\n",
    "    if \"Vehicle\" in cond:\n",
    "        continue\n",
    "    src_str = list(adata_ood[adata_ood.obs[\"condition\"]==cond].obs[\"cell_type\"].unique())\n",
    "    assert len(src_str) == 1\n",
    "    source = adata_ood[adata_ood.obs[\"condition\"]==src_str[0]+\"_Vehicle_0.0\"].obsm[obsm_key_data]\n",
    "    source_decoded = adata_ood[adata_ood.obs[\"condition\"]==src_str[0]+\"_Vehicle_0.0\"].X.A\n",
    "    conds = adata_ood[adata_ood.obs[\"condition\"]==cond].obsm[obsm_key_cond]\n",
    "    assert np.all(np.all(conds == conds[0], axis=1))\n",
    "    conds = np.tile(conds[0], (len(source), 1))\n",
    "    ood_data_source[cond] = source\n",
    "    ood_data_target[cond] = target\n",
    "    ood_data_source_decoded[cond] = source_decoded\n",
    "    ood_data_target_decoded[cond] = target_decoded\n",
    "    ood_data_conditions[cond] = conds\n",
    "    break"
   ]
  },
  {
   "cell_type": "code",
   "execution_count": 18,
   "id": "14a6c31a-db11-4806-b1a5-df3bc3a55384",
   "metadata": {},
   "outputs": [
    {
     "data": {
      "text/plain": [
       "{'A549_A-366_10.0': ArrayView([[ 0.,  0.,  0., ...,  0.,  0., 10.],\n",
       "            [ 0.,  0.,  0., ...,  0.,  0., 10.],\n",
       "            [ 0.,  0.,  0., ...,  0.,  0., 10.],\n",
       "            ...,\n",
       "            [ 0.,  0.,  0., ...,  0.,  0., 10.],\n",
       "            [ 0.,  0.,  0., ...,  0.,  0., 10.],\n",
       "            [ 0.,  0.,  0., ...,  0.,  0., 10.]])}"
      ]
     },
     "execution_count": 18,
     "metadata": {},
     "output_type": "execute_result"
    }
   ],
   "source": [
    "ood_data_conditions"
   ]
  },
  {
   "cell_type": "code",
   "execution_count": 15,
   "id": "41b4e4e8-3ffc-4a5a-9662-7c026adaf68b",
   "metadata": {},
   "outputs": [
    {
     "data": {
      "text/plain": [
       "ArrayView([[ 0.,  0.,  0., ...,  0.,  0., 10.],\n",
       "           [ 0.,  0.,  0., ...,  0.,  0., 10.],\n",
       "           [ 0.,  0.,  0., ...,  0.,  0., 10.],\n",
       "           ...,\n",
       "           [ 0.,  0.,  0., ...,  0.,  0., 10.],\n",
       "           [ 0.,  0.,  0., ...,  0.,  0., 10.],\n",
       "           [ 0.,  0.,  0., ...,  0.,  0., 10.]])"
      ]
     },
     "execution_count": 15,
     "metadata": {},
     "output_type": "execute_result"
    }
   ],
   "source": [
    "conds"
   ]
  },
  {
   "cell_type": "code",
   "execution_count": 56,
   "id": "ac02bea5-e2e7-490d-8979-12e7021109db",
   "metadata": {},
   "outputs": [],
   "source": [
    "src_str = adata_ood[adata_ood.obs[\"condition\"]==cond].obs[\"cell_type\"].unique()"
   ]
  },
  {
   "cell_type": "code",
   "execution_count": 57,
   "id": "296cc5df-7dd8-4e16-a607-36446bf00fee",
   "metadata": {},
   "outputs": [
    {
     "data": {
      "text/plain": [
       "['A549']\n",
       "Categories (1, object): ['A549']"
      ]
     },
     "execution_count": 57,
     "metadata": {},
     "output_type": "execute_result"
    }
   ],
   "source": [
    "src_str"
   ]
  },
  {
   "cell_type": "code",
   "execution_count": 58,
   "id": "2b6048c6-9c26-4148-b170-460227078688",
   "metadata": {},
   "outputs": [
    {
     "data": {
      "text/plain": [
       "View of AnnData object with n_obs × n_vars = 0 × 2002\n",
       "    obs: 'cell_type', 'dose', 'dose_character', 'dose_pattern', 'g1s_score', 'g2m_score', 'pathway', 'pathway_level_1', 'pathway_level_2', 'product_dose', 'product_name', 'proliferation_index', 'replicate', 'size_factor', 'target', 'vehicle', 'perturbation', 'drug', 'cell_line', 'condition', 'pubchem_name', 'pubchem_ID', 'smiles', 'control', 'ood', 'is_ood', 'split'\n",
       "    obsm: 'X_pca', 'X_umap', 'ecfp', 'ecfp_and_dose'\n",
       "    varm: 'X_train_mean'\n",
       "    layers: 'centered_X'"
      ]
     },
     "execution_count": 58,
     "metadata": {},
     "output_type": "execute_result"
    }
   ],
   "source": [
    "adata_ood[adata_ood.obs[\"condition\"]==src_str[0]+\"_Vehicle_0.0\"]"
   ]
  },
  {
   "cell_type": "code",
   "execution_count": 60,
   "id": "0732bc9b-dd66-4190-9974-740d37b7fe5b",
   "metadata": {},
   "outputs": [
    {
     "data": {
      "text/plain": [
       "condition\n",
       "A549_Vehicle_0.0                  500\n",
       "K562_Vehicle_0.0                  500\n",
       "MCF7_Vehicle_0.0                  500\n",
       "A549_ABT-737_100.0                100\n",
       "MCF7_Dasatinib_100.0              100\n",
       "                                 ... \n",
       "K562_Droxinostat_1000.0           100\n",
       "K562_Divalproex_Sodium_10000.0    100\n",
       "K562_Divalproex_Sodium_1000.0     100\n",
       "K562_Divalproex_Sodium_10.0       100\n",
       "MCF7_Zileuton_10000.0             100\n",
       "Name: count, Length: 1278, dtype: int64"
      ]
     },
     "execution_count": 60,
     "metadata": {},
     "output_type": "execute_result"
    }
   ],
   "source": [
    "adata_test.obs[\"condition\"].value_counts()"
   ]
  },
  {
   "cell_type": "code",
   "execution_count": 64,
   "id": "55141c3c-a1b6-4310-8932-faf62dbcb9f4",
   "metadata": {},
   "outputs": [
    {
     "data": {
      "text/plain": [
       "1500"
      ]
     },
     "execution_count": 64,
     "metadata": {},
     "output_type": "execute_result"
    }
   ],
   "source": [
    "(adata_test.obs[\"drug\"] == \"Vehicle\").sum()"
   ]
  },
  {
   "cell_type": "code",
   "execution_count": null,
   "id": "fb36bf29-fb41-4990-a0cb-d42612786af9",
   "metadata": {},
   "outputs": [],
   "source": []
  }
 ],
 "metadata": {
  "kernelspec": {
   "display_name": "ot_pert_genot",
   "language": "python",
   "name": "ot_pert_genot"
  },
  "language_info": {
   "codemirror_mode": {
    "name": "ipython",
    "version": 3
   },
   "file_extension": ".py",
   "mimetype": "text/x-python",
   "name": "python",
   "nbconvert_exporter": "python",
   "pygments_lexer": "ipython3",
   "version": "3.12.2"
  }
 },
 "nbformat": 4,
 "nbformat_minor": 5
}
