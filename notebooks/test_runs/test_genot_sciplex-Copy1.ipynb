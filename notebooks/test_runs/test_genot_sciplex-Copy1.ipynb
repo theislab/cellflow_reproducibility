{
 "cells": [
  {
   "cell_type": "code",
   "execution_count": 23,
   "id": "41311b7f-bbe0-4dd6-a040-39659a42870f",
   "metadata": {},
   "outputs": [],
   "source": [
    "from orbax import checkpoint"
   ]
  },
  {
   "cell_type": "code",
   "execution_count": 1,
   "id": "e761b2ce-9f52-4aff-ba9e-93048c063928",
   "metadata": {},
   "outputs": [],
   "source": [
    "import hydra\n",
    "import wandb\n",
    "from ott.neural import datasets\n",
    "import sys\n",
    "from omegaconf import DictConfig\n",
    "import jax.numpy as jnp\n",
    "from jax import random\n",
    "from typing import Optional, Literal\n",
    "import jax\n",
    "import pathlib\n",
    "import optax\n",
    "import yaml\n",
    "from datetime import datetime\n",
    "from flax import linen as nn\n",
    "import functools\n",
    "from tqdm import tqdm\n",
    "from flax.training import train_state\n",
    "\n",
    "from ott.neural.networks.layers import time_encoder\n",
    "from ott.neural.methods.flows import dynamics, otfm, genot\n",
    "from ott.neural.networks import velocity_field\n",
    "from ott.solvers import utils as solver_utils\n",
    "import jax.tree_util as jtu\n",
    "from ott.neural.networks.layers import time_encoder\n",
    "from ott.neural.networks.velocity_field import VelocityField\n",
    "import pandas as pd\n",
    "import os\n",
    "\n",
    "import hydra\n",
    "from omegaconf import DictConfig, OmegaConf\n",
    "\n",
    "from torch.utils.data import DataLoader\n",
    "import numpy as np\n",
    "\n",
    "import scanpy as sc\n",
    "from ot_pert.metrics import compute_metrics_fast, compute_mean_metrics\n",
    "from ot_pert.nets.nets import VelocityFieldWithAttention\n",
    "from ot_pert.utils import ConditionalLoader\n"
   ]
  },
  {
   "cell_type": "code",
   "execution_count": 2,
   "id": "74575f53-0f9e-4c99-b2a8-967ec3143352",
   "metadata": {},
   "outputs": [],
   "source": [
    "def reconstruct_data(embedding: np.ndarray, projection_matrix: np.ndarray, mean_to_add: np.ndarray) -> np.ndarray:\n",
    "    return np.matmul(embedding, projection_matrix.T) + mean_to_add"
   ]
  },
  {
   "cell_type": "code",
   "execution_count": 3,
   "id": "2e7d7477-ca40-49dd-b84c-6f6b67f71706",
   "metadata": {},
   "outputs": [],
   "source": [
    "obsm_key_cond = \"ecfp_dose_cell_line\"\n",
    "obsm_key_data = \"X_pca\""
   ]
  },
  {
   "cell_type": "code",
   "execution_count": 4,
   "id": "f80093da-403e-4a3e-8a39-afc0b8d66467",
   "metadata": {},
   "outputs": [],
   "source": [
    "adata_train_path = \"/lustre/groups/ml01/workspace/ot_perturbation/data/sciplex/adata_train_30.h5ad\"\n",
    "adata_test_path = \"/lustre/groups/ml01/workspace/ot_perturbation/data/sciplex/adata_test_30.h5ad\"\n",
    "adata_ood_path = \"/lustre/groups/ml01/workspace/ot_perturbation/data/sciplex/adata_ood_30.h5ad\""
   ]
  },
  {
   "cell_type": "code",
   "execution_count": 5,
   "id": "fab46905-01b3-42e4-a2a1-ed7baa0b8344",
   "metadata": {},
   "outputs": [
    {
     "name": "stderr",
     "output_type": "stream",
     "text": [
      "/home/icb/dominik.klein/mambaforge/envs/ot_pert_genot/lib/python3.12/site-packages/anndata/__init__.py:51: FutureWarning: `anndata.read` is deprecated, use `anndata.read_h5ad` instead. `ad.read` will be removed in mid 2024.\n",
      "  warnings.warn(\n",
      "/home/icb/dominik.klein/mambaforge/envs/ot_pert_genot/lib/python3.12/site-packages/anndata/__init__.py:51: FutureWarning: `anndata.read` is deprecated, use `anndata.read_h5ad` instead. `ad.read` will be removed in mid 2024.\n",
      "  warnings.warn(\n",
      "/home/icb/dominik.klein/mambaforge/envs/ot_pert_genot/lib/python3.12/site-packages/anndata/__init__.py:51: FutureWarning: `anndata.read` is deprecated, use `anndata.read_h5ad` instead. `ad.read` will be removed in mid 2024.\n",
      "  warnings.warn(\n"
     ]
    }
   ],
   "source": [
    "adata_train = sc.read(adata_train_path)\n",
    "adata_test = sc.read(adata_test_path)\n",
    "adata_ood = sc.read(adata_ood_path)"
   ]
  },
  {
   "cell_type": "code",
   "execution_count": 6,
   "id": "da9fda51-88db-44f2-b359-eb538622de11",
   "metadata": {},
   "outputs": [],
   "source": [
    "sc.pp.subsample(adata_train, fraction=0.1)"
   ]
  },
  {
   "cell_type": "code",
   "execution_count": 7,
   "id": "f1b701de-8c48-4880-b85d-cc667475d4cb",
   "metadata": {},
   "outputs": [],
   "source": [
    "adata_train.obsm[\"ecfp_dose\"] = np.concatenate(\n",
    "    (adata_train.obsm[\"ecfp\"], np.asarray(adata_train.obs[\"dose\"])[:, None]), axis=1\n",
    ")\n",
    "adata_test.obsm[\"ecfp_dose\"] = np.concatenate(\n",
    "    (adata_test.obsm[\"ecfp\"], np.asarray(adata_test.obs[\"dose\"])[:, None]), axis=1\n",
    ")\n",
    "adata_ood.obsm[\"ecfp_dose\"] = np.concatenate(\n",
    "    (adata_ood.obsm[\"ecfp\"], np.asarray(adata_ood.obs[\"dose\"])[:, None]), axis=1\n",
    ")"
   ]
  },
  {
   "cell_type": "code",
   "execution_count": 8,
   "id": "2342c0bc-9552-4c62-9fda-87af01ce07cc",
   "metadata": {},
   "outputs": [],
   "source": [
    "adata_train.obsm[\"ecfp_dose_cell_line\"] = np.concatenate(\n",
    "    (adata_train.obsm[\"ecfp_dose\"], adata_train.obsm[\"cell_line_emb\"]), axis=1\n",
    ")\n",
    "adata_test.obsm[\"ecfp_dose_cell_line\"] = np.concatenate(\n",
    "    (adata_test.obsm[\"ecfp_dose\"], adata_test.obsm[\"cell_line_emb\"]), axis=1\n",
    ")\n",
    "adata_ood.obsm[\"ecfp_dose_cell_line\"] = np.concatenate(\n",
    "    (adata_ood.obsm[\"ecfp_dose\"], adata_ood.obsm[\"cell_line_emb\"]), axis=1\n",
    ")"
   ]
  },
  {
   "cell_type": "code",
   "execution_count": 9,
   "id": "e81c5a24-8ae5-495c-bf39-588a5600bbd4",
   "metadata": {},
   "outputs": [
    {
     "name": "stderr",
     "output_type": "stream",
     "text": [
      "2024-04-23 13:59:44.826100: W external/xla/xla/service/gpu/nvptx_compiler.cc:718] The NVIDIA driver's CUDA version is 12.3 which is older than the ptxas CUDA version (12.4.131). Because the driver is older than the ptxas version, XLA is disabling parallel compilation, which may slow down compilation. You should update your NVIDIA driver or use the NVIDIA-provided CUDA forward compatibility packages.\n"
     ]
    }
   ],
   "source": [
    "def data_match_fn(\n",
    "    src_lin: Optional[jnp.ndarray], tgt_lin: Optional[jnp.ndarray],\n",
    "    src_quad: Optional[jnp.ndarray], tgt_quad: Optional[jnp.ndarray], *,\n",
    "    typ: Literal[\"lin\", \"quad\", \"fused\"], epsilon: float = 1e-2, tau_a: float = 1.0,\n",
    "    tau_b: float = 1.0,\n",
    ") -> jnp.ndarray:\n",
    "    if typ == \"lin\":\n",
    "        return solver_utils.match_linear(x=src_lin, y=tgt_lin, scale_cost=\"mean\", epsilon=epsilon, tau_a=tau_a, tau_b=tau_b)\n",
    "    if typ == \"quad\":\n",
    "        return solver_utils.match_quadratic(xx=src_quad, yy=tgt_quad)\n",
    "    if typ == \"fused\":\n",
    "        return solver_utils.match_quadratic(\n",
    "            xx=src_quad, yy=tgt_quad, x=src_lin, y=tgt_lin\n",
    "        )\n",
    "    raise NotImplementedError(f\"Unknown type: {typ}.\")\n",
    "\n",
    "# Load data\n",
    "\n",
    "dls = []\n",
    "\n",
    "train_data_source = {}\n",
    "train_data_target = {}\n",
    "train_data_source_decoded = {}\n",
    "train_data_target_decoded = {}\n",
    "train_data_conditions = {}\n",
    "\n",
    "\n",
    "for cond in adata_train.obs[\"condition\"].cat.categories:\n",
    "    if \"Vehicle\" in cond:\n",
    "        continue\n",
    "    src_str = list(adata_train[adata_train.obs[\"condition\"]==cond].obs[\"cell_type\"].unique())\n",
    "    assert len(src_str) == 1\n",
    "    source = adata_train[adata_train.obs[\"condition\"]==src_str[0]+\"_Vehicle_0.0\"].obsm[obsm_key_data]\n",
    "    source_decoded = adata_train[adata_train.obs[\"condition\"]==src_str[0]+\"_Vehicle_0.0\"].X.A\n",
    "    target = adata_train[adata_train.obs[\"condition\"]==cond].obsm[obsm_key_data]\n",
    "    target_decoded = adata_train[adata_train.obs[\"condition\"]==cond].X.A\n",
    "    conds = adata_train[adata_train.obs[\"condition\"]==cond].obsm[obsm_key_cond]\n",
    "    assert np.all(np.all(conds == conds[0], axis=1))\n",
    "    conds = np.tile(conds[0], (len(source), 1))\n",
    "    dls.append(DataLoader(datasets.OTDataset(datasets.OTData(\n",
    "        lin=source,\n",
    "        condition=conds,\n",
    "    ), datasets.OTData(lin=target)), batch_size=1024, shuffle=True))\n",
    "    train_data_source[cond] = source\n",
    "    train_data_target[cond] = target\n",
    "    train_data_conditions[cond] = conds\n",
    "    train_data_source_decoded[cond] = source_decoded\n",
    "    train_data_target_decoded[cond] = target_decoded\n",
    "\n",
    "train_loader = ConditionalLoader(dls, seed=0)\n",
    "\n",
    "test_data_source = {}\n",
    "test_data_target = {}\n",
    "test_data_source_decoded = {}\n",
    "test_data_target_decoded = {}\n",
    "test_data_conditions = {}\n",
    "\n",
    "for cond in adata_test.obs[\"condition\"].cat.categories:\n",
    "    if \"Vehicle\" in cond:\n",
    "        continue\n",
    "    src_str = list(adata_test[adata_test.obs[\"condition\"]==cond].obs[\"cell_type\"].unique())\n",
    "    assert len(src_str) == 1\n",
    "    source = adata_test[adata_test.obs[\"condition\"]==src_str[0]+\"_Vehicle_0.0\"].obsm[obsm_key_data]\n",
    "    source_decoded = adata_test[adata_test.obs[\"condition\"]==src_str[0]+\"_Vehicle_0.0\"].X.A\n",
    "\n",
    "    target = adata_test[adata_test.obs[\"condition\"]==cond].obsm[obsm_key_data]\n",
    "    target_decoded = adata_test[adata_test.obs[\"condition\"]==cond].X.A\n",
    "\n",
    "\n",
    "    conds = adata_test[adata_test.obs[\"condition\"]==cond].obsm[obsm_key_cond]\n",
    "    assert np.all(np.all(conds == conds[0], axis=1))\n",
    "    conds = np.tile(conds[0], (len(source), 1))\n",
    "    test_data_source[cond] = source\n",
    "    test_data_target[cond] = target\n",
    "    test_data_source_decoded[cond] = source_decoded\n",
    "    test_data_target_decoded[cond] = target_decoded\n",
    "    test_data_conditions[cond] = conds\n",
    "\n",
    "ood_data_source = {}\n",
    "ood_data_target = {}\n",
    "ood_data_source_decoded = {}\n",
    "ood_data_target_decoded = {}\n",
    "ood_data_conditions = {}\n",
    "\n",
    "for cond in adata_ood.obs[\"condition\"].cat.categories:\n",
    "    if \"Vehicle\" in cond:\n",
    "        continue\n",
    "    src_str = list(adata_ood[adata_ood.obs[\"condition\"]==cond].obs[\"cell_type\"].unique())\n",
    "    assert len(src_str) == 1\n",
    "    source = adata_ood[adata_ood.obs[\"condition\"]==src_str[0]+\"_Vehicle_0.0\"].obsm[obsm_key_data]\n",
    "    source_decoded = adata_ood[adata_ood.obs[\"condition\"]==src_str[0]+\"_Vehicle_0.0\"].X.A\n",
    "    target = adata_ood[adata_ood.obs[\"condition\"]==cond].obsm[obsm_key_data]\n",
    "    target_decoded = adata_ood[adata_ood.obs[\"condition\"]==cond].X.A\n",
    "    conds = adata_ood[adata_ood.obs[\"condition\"]==cond].obsm[obsm_key_cond]\n",
    "    assert np.all(np.all(conds == conds[0], axis=1))\n",
    "    conds = np.tile(conds[0], (len(source), 1))\n",
    "    ood_data_source[cond] = source\n",
    "    ood_data_target[cond] = target\n",
    "    ood_data_source_decoded[cond] = source_decoded\n",
    "    ood_data_target_decoded[cond] = target_decoded\n",
    "    ood_data_conditions[cond] = conds\n",
    "\n",
    "reconstruct_data_fn = functools.partial(reconstruct_data, projection_matrix=adata_train.varm[\"PCs\"], mean_to_add=adata_train.varm[\"X_train_mean\"].T)\n"
   ]
  },
  {
   "cell_type": "code",
   "execution_count": 10,
   "id": "f4e3ec12-c0cd-4b18-8a05-c06d531dde9a",
   "metadata": {},
   "outputs": [],
   "source": [
    "reconstruct_data_fn = functools.partial(reconstruct_data, projection_matrix=adata_train.varm[\"PCs\"], mean_to_add=adata_train.varm[\"X_train_mean\"].T)\n",
    "\n",
    "train_deg_dict = {k: v for k,v in adata_train.uns['rank_genes_groups_cov_all'].items() if k in train_data_conditions.keys()}\n",
    "test_deg_dict = {k: v for k,v in adata_train.uns['rank_genes_groups_cov_all'].items() if k in test_data_conditions.keys()}\n",
    "ood_deg_dict = {k: v for k,v in adata_train.uns['rank_genes_groups_cov_all'].items() if k in ood_data_conditions.keys()}\n",
    "\n",
    "def get_mask(x, y):\n",
    "    return x[:, [gene in y for gene in adata_train.var_names]]"
   ]
  },
  {
   "cell_type": "code",
   "execution_count": 11,
   "id": "86e0193b-e615-47ba-a26e-8115ea641ca3",
   "metadata": {},
   "outputs": [],
   "source": [
    "source_dim = source.shape[1]\n",
    "target_dim = source_dim\n",
    "condition_dim = conds.shape[1]\n",
    "\n",
    "source_dim = source.shape[1]\n",
    "target_dim = source_dim\n",
    "condition_dim = conds.shape[1]"
   ]
  },
  {
   "cell_type": "code",
   "execution_count": 12,
   "id": "ad838285-5aaa-45b4-abdc-56301ac404e3",
   "metadata": {},
   "outputs": [],
   "source": [
    "from typing import Callable, Optional, Sequence\n",
    "\n",
    "import jax.numpy as jnp\n",
    "\n",
    "from flax import linen as nn\n",
    "\n",
    "from ott.neural.networks.layers import time_encoder"
   ]
  },
  {
   "cell_type": "code",
   "execution_count": 13,
   "id": "6689aed8-a19b-4d48-a9f2-c2f3ffba1453",
   "metadata": {},
   "outputs": [],
   "source": [
    "from typing import Dict, Tuple\n",
    "def prepare_data(\n",
    "        batch: Dict[str, jnp.ndarray]\n",
    "    ) -> Tuple[Tuple[jnp.ndarray, Optional[jnp.ndarray], jnp.ndarray],\n",
    "               Tuple[jnp.ndarray, jnp.ndarray, Optional[jnp.ndarray],\n",
    "                     Optional[jnp.ndarray]]]:\n",
    "      src_lin, src_quad = batch.get(\"src_lin\"), batch.get(\"src_quad\")\n",
    "      tgt_lin, tgt_quad = batch.get(\"tgt_lin\"), batch.get(\"tgt_quad\")\n",
    "\n",
    "      if src_quad is None and tgt_quad is None:  # lin\n",
    "        src, tgt = src_lin, tgt_lin\n",
    "        arrs = src_lin, tgt_lin\n",
    "      elif src_lin is None and tgt_lin is None:  # quad\n",
    "        src, tgt = src_quad, tgt_quad\n",
    "        arrs = src_quad, tgt_quad\n",
    "      elif all(\n",
    "          arr is not None for arr in (src_lin, tgt_lin, src_quad, tgt_quad)\n",
    "      ):  # fused quad\n",
    "        src = jnp.concatenate([src_lin, src_quad], axis=1)\n",
    "        tgt = jnp.concatenate([tgt_lin, tgt_quad], axis=1)\n",
    "        arrs = src_quad, tgt_quad, src_lin, tgt_lin\n",
    "      else:\n",
    "        raise RuntimeError(\"Cannot infer OT problem type from data.\")\n",
    "\n",
    "      return (src, batch.get(\"src_condition\"), tgt), arrs\n"
   ]
  },
  {
   "cell_type": "code",
   "execution_count": 14,
   "id": "318c0f30-741f-4c43-b91d-9faee6132676",
   "metadata": {},
   "outputs": [],
   "source": [
    "vf = VelocityField(\n",
    "    hidden_dims=[1024, 1024, 1024],\n",
    "    time_dims=[512,512],\n",
    "    output_dims=[1024, 1024, 1024]+[target_dim],\n",
    "    condition_dims=[2048, 2048],\n",
    "    time_encoder = functools.partial(time_encoder.cyclical_time_encoder, n_freqs=1024),\n",
    "    )\n",
    "\n",
    "model = genot.GENOT(\n",
    "    vf,\n",
    "    flow=dynamics.ConstantNoiseFlow(0.0),\n",
    "    data_match_fn=jax.jit(functools.partial(data_match_fn, typ=\"lin\", src_quad=None, tgt_quad=None)),\n",
    "    source_dim=source_dim,\n",
    "    target_dim=target_dim,\n",
    "    condition_dim=condition_dim,\n",
    "    rng=jax.random.PRNGKey(13),\n",
    "    optimizer=optax.MultiSteps(optax.adam(learning_rate=1e-4), 20), )\n",
    "training_logs = {\"loss\": []}"
   ]
  },
  {
   "cell_type": "code",
   "execution_count": 15,
   "id": "df472524-4a2a-496b-9169-6d1f5eafb87c",
   "metadata": {},
   "outputs": [
    {
     "name": "stderr",
     "output_type": "stream",
     "text": [
      "100%|██████████| 1000/1000 [02:04<00:00,  8.04it/s]\n"
     ]
    }
   ],
   "source": [
    "rng = jax.random.PRNGKey(0)\n",
    "for it in tqdm(range(1000)):\n",
    "\n",
    "    batch = next(iter(train_loader))\n",
    "    batch = jtu.tree_map(jnp.asarray, batch)\n",
    "    rng = jax.random.split(rng, 5)\n",
    "    rng, rng_resample, rng_noise, rng_time, rng_step_fn = rng\n",
    "\n",
    "    batch = jtu.tree_map(jnp.asarray, batch)\n",
    "    (src, src_cond, tgt), matching_data = prepare_data(batch)\n",
    "\n",
    "    n = src.shape[0]\n",
    "    time = model.time_sampler(rng_time, n * model.n_samples_per_src)\n",
    "    latent = model.latent_noise_fn(rng_noise, (n, model.n_samples_per_src))\n",
    "\n",
    "    tmat = model.data_match_fn(*matching_data)  # (n, m)\n",
    "    src_ixs, tgt_ixs = solver_utils.sample_conditional(  # (n, k), (m, k)\n",
    "      rng_resample,\n",
    "      tmat,\n",
    "      k=model.n_samples_per_src,\n",
    "    )\n",
    "\n",
    "    src, tgt = src[src_ixs], tgt[tgt_ixs]  # (n, k, ...),  # (m, k, ...)\n",
    "    if src_cond is not None:\n",
    "        src_cond = src_cond[src_ixs]\n",
    "\n",
    "    if model.latent_match_fn is not None:\n",
    "        src, src_cond, tgt = model._match_latent(rng, src, src_cond, latent, tgt)\n",
    "\n",
    "    src = src.reshape(-1, *src.shape[2:])  # (n * k, ...)\n",
    "    tgt = tgt.reshape(-1, *tgt.shape[2:])  # (m * k, ...)\n",
    "    latent = latent.reshape(-1, *latent.shape[2:])\n",
    "    if src_cond is not None:\n",
    "        src_cond = src_cond.reshape(-1, *src_cond.shape[2:])\n",
    "\n",
    "\n",
    "\n",
    "    loss, model.vf_state = model.step_fn(\n",
    "      rng_step_fn, model.vf_state, time, src, tgt, latent, src_cond\n",
    "    )\n",
    "\n",
    "    training_logs[\"loss\"].append(float(loss))\n",
    "\n"
   ]
  },
  {
   "cell_type": "code",
   "execution_count": 17,
   "id": "694f2d92-0a08-4c8d-99a3-3062779f4bad",
   "metadata": {},
   "outputs": [],
   "source": [
    "import orbax"
   ]
  },
  {
   "cell_type": "code",
   "execution_count": 24,
   "id": "474f9420-c926-44ea-be57-d760c4943014",
   "metadata": {},
   "outputs": [
    {
     "ename": "AttributeError",
     "evalue": "module 'orbax' has no attribute 'Checkpointer'",
     "output_type": "error",
     "traceback": [
      "\u001b[0;31m---------------------------------------------------------------------------\u001b[0m",
      "\u001b[0;31mAttributeError\u001b[0m                            Traceback (most recent call last)",
      "Cell \u001b[0;32mIn[24], line 1\u001b[0m\n\u001b[0;32m----> 1\u001b[0m checkpointer \u001b[38;5;241m=\u001b[39m orbax\u001b[38;5;241m.\u001b[39mCheckpointer(directory\u001b[38;5;241m=\u001b[39m\u001b[38;5;124m\"\u001b[39m\u001b[38;5;124mcheckpoints\u001b[39m\u001b[38;5;124m\"\u001b[39m, prefix\u001b[38;5;241m=\u001b[39m\u001b[38;5;124m\"\u001b[39m\u001b[38;5;124mmodel_checkpoint\u001b[39m\u001b[38;5;124m\"\u001b[39m)\n",
      "\u001b[0;31mAttributeError\u001b[0m: module 'orbax' has no attribute 'Checkpointer'"
     ]
    }
   ],
   "source": [
    "checkpointer = orbax.Checkpointer(directory=\"checkpoints\", prefix=\"model_checkpoint\")\n"
   ]
  },
  {
   "cell_type": "code",
   "execution_count": 25,
   "id": "664b13c0-dfbf-4bf2-9a71-6482b85cfcf7",
   "metadata": {},
   "outputs": [
    {
     "name": "stderr",
     "output_type": "stream",
     "text": [
      "WARNING:absl:Configured `CheckpointManager` using deprecated legacy API. Please follow the instructions at https://orbax.readthedocs.io/en/latest/api_refactor.html to migrate by May 1st, 2024.\n"
     ]
    }
   ],
   "source": [
    "options = orbax.checkpoint.CheckpointManagerOptions(max_to_keep=10, create=True)\n",
    "orbax_checkpointer = orbax.checkpoint.PyTreeCheckpointer()\n",
    "checkpoint_manager = orbax.checkpoint.CheckpointManager(\".\", orbax_checkpointer, options)"
   ]
  },
  {
   "cell_type": "code",
   "execution_count": 30,
   "id": "a1defa68-700d-4c2f-b408-5c44735fc649",
   "metadata": {},
   "outputs": [
    {
     "ename": "TypeError",
     "evalue": "Checkpointer.__init__() got an unexpected keyword argument 'directory'",
     "output_type": "error",
     "traceback": [
      "\u001b[0;31m---------------------------------------------------------------------------\u001b[0m",
      "\u001b[0;31mTypeError\u001b[0m                                 Traceback (most recent call last)",
      "Cell \u001b[0;32mIn[30], line 1\u001b[0m\n\u001b[0;32m----> 1\u001b[0m checkpointer_load \u001b[38;5;241m=\u001b[39m orbax\u001b[38;5;241m.\u001b[39mcheckpoint\u001b[38;5;241m.\u001b[39mCheckpointer(directory\u001b[38;5;241m=\u001b[39m\u001b[38;5;124m\"\u001b[39m\u001b[38;5;124m.\u001b[39m\u001b[38;5;124m\"\u001b[39m, prefix\u001b[38;5;241m=\u001b[39m\u001b[38;5;124m\"\u001b[39m\u001b[38;5;124mmodel_checkpoint\u001b[39m\u001b[38;5;124m\"\u001b[39m)\n",
      "\u001b[0;31mTypeError\u001b[0m: Checkpointer.__init__() got an unexpected keyword argument 'directory'"
     ]
    }
   ],
   "source": [
    "checkpointer_load = orbax.checkpoint.Checkpointer(directory=\".\", prefix=\"model_checkpoint\")"
   ]
  },
  {
   "cell_type": "code",
   "execution_count": null,
   "id": "19f3c538-0b4c-42ef-b341-d634c47221b2",
   "metadata": {},
   "outputs": [],
   "source": [
    "model_state, step = checkpointer_load.restore_latest()"
   ]
  },
  {
   "cell_type": "code",
   "execution_count": 22,
   "id": "c0409425-e1ca-423e-b270-9c0c6591ab54",
   "metadata": {},
   "outputs": [],
   "source": [
    "from orbax import checkpoint"
   ]
  },
  {
   "cell_type": "code",
   "execution_count": 32,
   "id": "1989277b-f20f-404b-9d75-85ba325427bd",
   "metadata": {},
   "outputs": [
    {
     "name": "stderr",
     "output_type": "stream",
     "text": [
      "WARNING:absl:SaveArgs.aggregate is deprecated, please use custom TypeHandler (https://orbax.readthedocs.io/en/latest/custom_handlers.html#typehandler) or contact Orbax team to migrate before May 1st, 2024.\n",
      "WARNING:absl:SaveArgs.aggregate is deprecated, please use custom TypeHandler (https://orbax.readthedocs.io/en/latest/custom_handlers.html#typehandler) or contact Orbax team to migrate before May 1st, 2024.\n"
     ]
    }
   ],
   "source": [
    "checkpointer = ocp.StandardCheckpointer()\n",
    "\n",
    "checkpointer.save( '/home/icb/dominik.klein/tmp/checkpoint_name', model.vf_state)\n"
   ]
  },
  {
   "cell_type": "code",
   "execution_count": null,
   "id": "97f0a31c-8cfc-4ba3-8d74-e42a73186395",
   "metadata": {},
   "outputs": [],
   "source": [
    "checkpointer.restore(\n",
    "    \"/home/icb/dominik.klein/tmp/checkpoint_name\",\n",
    "    args=ocp.args.StandardRestore(abstract_my_tree)\n",
    ")"
   ]
  },
  {
   "cell_type": "code",
   "execution_count": 29,
   "id": "abf123da-678f-4b34-9e87-17d088923171",
   "metadata": {},
   "outputs": [
    {
     "name": "stdout",
     "output_type": "stream",
     "text": [
      "['__doc__', '__file__', '__loader__', '__name__', '__package__', '__path__', '__spec__', 'checkpoint']\n"
     ]
    }
   ],
   "source": [
    "print(dir(orbax))"
   ]
  },
  {
   "cell_type": "code",
   "execution_count": 38,
   "id": "1eea78bb-269c-4375-b177-f51546364de2",
   "metadata": {},
   "outputs": [
    {
     "name": "stderr",
     "output_type": "stream",
     "text": [
      "WARNING:absl:Configured `CheckpointManager` using deprecated legacy API. Please follow the instructions at https://orbax.readthedocs.io/en/latest/api_refactor.html to migrate by May 1st, 2024.\n"
     ]
    }
   ],
   "source": [
    "options = orbax.checkpoint.CheckpointManagerOptions(max_to_keep=10, create=True)\n",
    "orbax_checkpointer = orbax.checkpoint.PyTreeCheckpointer()\n",
    "checkpoint_manager = orbax.checkpoint.CheckpointManager(\"/home/icb/dominik.klein/tmp/\", orbax_checkpointer, options)"
   ]
  },
  {
   "cell_type": "code",
   "execution_count": 36,
   "id": "645bc3d8-50f0-4d12-82cc-8e0eba785ba8",
   "metadata": {},
   "outputs": [],
   "source": [
    "out_dir = \"/home/icb/dominik.klein/tmp/\""
   ]
  },
  {
   "cell_type": "code",
   "execution_count": 37,
   "id": "8e9d14c4-6fc5-4da9-8b01-01123c8e27dc",
   "metadata": {},
   "outputs": [
    {
     "ename": "AttributeError",
     "evalue": "module 'orbax.checkpoint.test_utils' has no attribute 'erase_and_create_empty'",
     "output_type": "error",
     "traceback": [
      "\u001b[0;31m---------------------------------------------------------------------------\u001b[0m",
      "\u001b[0;31mAttributeError\u001b[0m                            Traceback (most recent call last)",
      "Cell \u001b[0;32mIn[37], line 1\u001b[0m\n\u001b[0;32m----> 1\u001b[0m path \u001b[38;5;241m=\u001b[39m ocp\u001b[38;5;241m.\u001b[39mtest_utils\u001b[38;5;241m.\u001b[39merase_and_create_empty(outdir)\n",
      "\u001b[0;31mAttributeError\u001b[0m: module 'orbax.checkpoint.test_utils' has no attribute 'erase_and_create_empty'"
     ]
    }
   ],
   "source": [
    "path = ocp.test_utils.erase_and_create_empty(outdir)"
   ]
  },
  {
   "cell_type": "code",
   "execution_count": null,
   "id": "f5f7c053-60d6-4852-b087-00befeae52a1",
   "metadata": {},
   "outputs": [],
   "source": []
  },
  {
   "cell_type": "code",
   "execution_count": 39,
   "id": "265ee127-a843-420f-9168-82586143c22c",
   "metadata": {},
   "outputs": [],
   "source": [
    "checkpointer = ocp.StandardCheckpointer()"
   ]
  },
  {
   "cell_type": "code",
   "execution_count": 41,
   "id": "9d38debd-4df0-4d34-ac0c-02a74557212a",
   "metadata": {},
   "outputs": [
    {
     "name": "stderr",
     "output_type": "stream",
     "text": [
      "WARNING:absl:SaveArgs.aggregate is deprecated, please use custom TypeHandler (https://orbax.readthedocs.io/en/latest/custom_handlers.html#typehandler) or contact Orbax team to migrate before May 1st, 2024.\n",
      "WARNING:absl:SaveArgs.aggregate is deprecated, please use custom TypeHandler (https://orbax.readthedocs.io/en/latest/custom_handlers.html#typehandler) or contact Orbax team to migrate before May 1st, 2024.\n"
     ]
    }
   ],
   "source": [
    "checkpointer.save(out_dir+\"/tmp\", model.vf_state)"
   ]
  },
  {
   "cell_type": "code",
   "execution_count": 47,
   "id": "daec3941-e2fd-469b-9748-2c219a0b2c4c",
   "metadata": {},
   "outputs": [
    {
     "ename": "TypeError",
     "evalue": "CheckpointManager.__init__() got an unexpected keyword argument 'checkpoint_dir'",
     "output_type": "error",
     "traceback": [
      "\u001b[0;31m---------------------------------------------------------------------------\u001b[0m",
      "\u001b[0;31mTypeError\u001b[0m                                 Traceback (most recent call last)",
      "Cell \u001b[0;32mIn[47], line 1\u001b[0m\n\u001b[0;32m----> 1\u001b[0m checkpoint_manager \u001b[38;5;241m=\u001b[39m orbax\u001b[38;5;241m.\u001b[39mcheckpoint\u001b[38;5;241m.\u001b[39mCheckpointManager(checkpoint_dir\u001b[38;5;241m=\u001b[39mout_dir, max_to_keep\u001b[38;5;241m=\u001b[39m\u001b[38;5;241m5\u001b[39m)\n",
      "\u001b[0;31mTypeError\u001b[0m: CheckpointManager.__init__() got an unexpected keyword argument 'checkpoint_dir'"
     ]
    }
   ],
   "source": [
    "checkpoint_manager = orbax.checkpoint.CheckpointManager(checkpoint_dir=out_dir, max_to_keep=5)"
   ]
  },
  {
   "cell_type": "code",
   "execution_count": 48,
   "id": "3877ce16-71e4-46f4-807b-f8cc69a0f621",
   "metadata": {},
   "outputs": [
    {
     "ename": "TypeError",
     "evalue": "CheckpointManager.__init__() got an unexpected keyword argument 'checkpoint_dir'",
     "output_type": "error",
     "traceback": [
      "\u001b[0;31m---------------------------------------------------------------------------\u001b[0m",
      "\u001b[0;31mTypeError\u001b[0m                                 Traceback (most recent call last)",
      "Cell \u001b[0;32mIn[48], line 5\u001b[0m\n\u001b[1;32m      2\u001b[0m \u001b[38;5;28;01mimport\u001b[39;00m \u001b[38;5;21;01mos\u001b[39;00m\n\u001b[1;32m      4\u001b[0m \u001b[38;5;66;03m# Initialize the checkpoint manager\u001b[39;00m\n\u001b[0;32m----> 5\u001b[0m checkpoint_manager \u001b[38;5;241m=\u001b[39m CheckpointManager(checkpoint_dir\u001b[38;5;241m=\u001b[39mout_dir)\n\u001b[1;32m      7\u001b[0m \u001b[38;5;66;03m# Load the most recent checkpoint\u001b[39;00m\n\u001b[1;32m      8\u001b[0m checkpoint \u001b[38;5;241m=\u001b[39m checkpoint_manager\u001b[38;5;241m.\u001b[39mrestore_latest()\n",
      "\u001b[0;31mTypeError\u001b[0m: CheckpointManager.__init__() got an unexpected keyword argument 'checkpoint_dir'"
     ]
    }
   ],
   "source": [
    "from orbax.checkpoint import CheckpointManager\n",
    "import os\n",
    "\n",
    "# Initialize the checkpoint manager\n",
    "checkpoint_manager = CheckpointManager(checkpoint_dir=out_dir)\n",
    "\n",
    "# Load the most recent checkpoint\n",
    "checkpoint = checkpoint_manager.restore_latest()\n",
    "\n",
    "# If a checkpoint was found and loaded\n",
    "if checkpoint is not None:\n",
    "    restored_vf_state = checkpoint['vf_state']\n",
    "    # Assuming 'model' is your model instance and 'vf_state' is a property or attribute\n",
    "    model.vf_state = restored_vf_state\n",
    "    print(\"Model state restored successfully.\")\n",
    "else:\n",
    "    print(\"No checkpoint found. Starting from scratch.\")\n"
   ]
  },
  {
   "cell_type": "code",
   "execution_count": 52,
   "id": "3a320ba4-78c3-4f8a-913e-e30a96b0d041",
   "metadata": {},
   "outputs": [
    {
     "name": "stderr",
     "output_type": "stream",
     "text": [
      "WARNING:absl:SaveArgs.aggregate is deprecated, please use custom TypeHandler (https://orbax.readthedocs.io/en/latest/custom_handlers.html#typehandler) or contact Orbax team to migrate before May 1st, 2024.\n",
      "WARNING:absl:SaveArgs.aggregate is deprecated, please use custom TypeHandler (https://orbax.readthedocs.io/en/latest/custom_handlers.html#typehandler) or contact Orbax team to migrate before May 1st, 2024.\n"
     ]
    }
   ],
   "source": [
    "checkpointer = orbax.checkpoint.PyTreeCheckpointer()\n",
    "checkpointer.save(out_dir+\"/tmp/tmp\", model.vf_state)"
   ]
  },
  {
   "cell_type": "code",
   "execution_count": 53,
   "id": "e08718e0-a02b-4eaf-818a-a5acdbbbeb5d",
   "metadata": {},
   "outputs": [
    {
     "name": "stderr",
     "output_type": "stream",
     "text": [
      "/home/icb/dominik.klein/mambaforge/envs/ot_pert_genot/lib/python3.12/site-packages/orbax/checkpoint/type_handlers.py:1475: UserWarning: Couldn't find sharding info under RestoreArgs. Populating sharding info from sharding file. Please note restoration time will be slightly increased due to reading from file instead of directly from RestoreArgs.\n",
      "  warnings.warn(\n"
     ]
    }
   ],
   "source": [
    "checkpointer2 = orbax.checkpoint.PyTreeCheckpointer()\n",
    "state = checkpointer2.restore(out_dir+\"/tmp/tmp\", item=model.vf_state)"
   ]
  },
  {
   "cell_type": "code",
   "execution_count": null,
   "id": "11a545b6-948a-4dbc-810d-6d0ae2d8fa27",
   "metadata": {},
   "outputs": [],
   "source": [
    "checkpointer.restore(\n",
    "    out_dir+\"/tmp\",\n",
    "    args=ocp.args.StandardRestore(model.vf_state2)\n",
    ")"
   ]
  },
  {
   "cell_type": "code",
   "execution_count": 24,
   "id": "c29c3437-af1a-46f7-8f94-dee977fdf04e",
   "metadata": {},
   "outputs": [
    {
     "data": {
      "text/plain": [
       "[<matplotlib.lines.Line2D at 0x7f1c3b1469f0>]"
      ]
     },
     "execution_count": 24,
     "metadata": {},
     "output_type": "execute_result"
    },
    {
     "data": {
      "image/png": "[encoded data removed]",
      "text/plain": [
       "<Figure size 640x480 with 1 Axes>"
      ]
     },
     "metadata": {},
     "output_type": "display_data"
    }
   ],
   "source": [
    "import matplotlib.pyplot as plt\n",
    "\n",
    "plt.plot(np.arange(len(training_logs[\"loss\"][10000:])), training_logs[\"loss\"][10000:])"
   ]
  },
  {
   "cell_type": "code",
   "execution_count": null,
   "id": "5fa5aa1d-a803-4f14-9f21-57bbe91646f1",
   "metadata": {},
   "outputs": [],
   "source": []
  },
  {
   "cell_type": "code",
   "execution_count": null,
   "id": "633784c9-8ca1-4ac9-aca1-00e6112699db",
   "metadata": {},
   "outputs": [],
   "source": []
  },
  {
   "cell_type": "code",
   "execution_count": null,
   "id": "73b79180-6428-4c99-a4cf-2ea57f936d38",
   "metadata": {},
   "outputs": [],
   "source": []
  },
  {
   "cell_type": "code",
   "execution_count": 25,
   "id": "fb36bf29-fb41-4990-a0cb-d42612786af9",
   "metadata": {},
   "outputs": [],
   "source": [
    "predicted_target_ood = jax.tree_util.tree_map(model.transport, ood_data_source, ood_data_conditions)\n",
    "ood_metrics = jax.tree_util.tree_map(compute_metrics_fast, ood_data_target, predicted_target_ood)\n",
    "mean_ood_metrics = compute_mean_metrics(ood_metrics, prefix=\"ood_\")\n",
    "\n",
    "predicted_target_ood_decoded = jax.tree_util.tree_map(reconstruct_data_fn, predicted_target_ood)\n",
    "ood_metrics_decoded = jax.tree_util.tree_map(\n",
    "    compute_metrics_fast, ood_data_target_decoded, predicted_target_ood_decoded\n",
    ")\n",
    "mean_ood_metrics_decoded = compute_mean_metrics(ood_metrics_decoded, prefix=\"decoded_ood_\")"
   ]
  },
  {
   "cell_type": "code",
   "execution_count": 26,
   "id": "9e764024-4d9b-44f9-963f-71ac28e8f7d3",
   "metadata": {},
   "outputs": [
    {
     "data": {
      "text/plain": [
       "{'decoded_ood_r_squared': 0.9536295289511787,\n",
       " 'decoded_ood_e_distance': 2.2383484574574974,\n",
       " 'decoded_ood_mmd_distance': 0.05575790749466011}"
      ]
     },
     "execution_count": 26,
     "metadata": {},
     "output_type": "execute_result"
    }
   ],
   "source": [
    "mean_ood_metrics_decoded"
   ]
  },
  {
   "cell_type": "code",
   "execution_count": 28,
   "id": "6c3b93f3-3727-42e2-b0c0-20aefc60502c",
   "metadata": {},
   "outputs": [
    {
     "data": {
      "text/plain": [
       "{'A549_A-366_10.0': {'r_squared': 0.988750883634964,\n",
       "  'e_distance': 0.689524552861867,\n",
       "  'mmd_distance': 0.00879505051122285},\n",
       " 'A549_A-366_100.0': {'r_squared': 0.9955801809442499,\n",
       "  'e_distance': 0.24552247339868494,\n",
       "  'mmd_distance': 0.005803556220645091},\n",
       " 'A549_A-366_10000.0': {'r_squared': 0.852262618114223,\n",
       "  'e_distance': 8.2846604877384,\n",
       "  'mmd_distance': 0.05139989404043497},\n",
       " 'A549_Carmofur_10.0': {'r_squared': 0.990265990498614,\n",
       "  'e_distance': 0.5802889401868825,\n",
       "  'mmd_distance': 0.008087431469814105},\n",
       " 'A549_Carmofur_100.0': {'r_squared': 0.9942623167640163,\n",
       "  'e_distance': 0.3406466795675911,\n",
       "  'mmd_distance': 0.005872124656406539},\n",
       " 'A549_Disulfiram__10.0': {'r_squared': 0.99407125698334,\n",
       "  'e_distance': 0.334014377948078,\n",
       "  'mmd_distance': 0.006722748704250399},\n",
       " 'A549_Disulfiram__1000.0': {'r_squared': 0.9929527329748723,\n",
       "  'e_distance': 0.4326922752295701,\n",
       "  'mmd_distance': 0.008836829684776096},\n",
       " 'A549_Disulfiram__10000.0': {'r_squared': 0.8496479756522815,\n",
       "  'e_distance': 9.304440840818174,\n",
       "  'mmd_distance': 0.05630563439352315},\n",
       " 'A549_GSK-LSD1_2HCl_10.0': {'r_squared': 0.9917854016111528,\n",
       "  'e_distance': 0.47500758265563725,\n",
       "  'mmd_distance': 0.007596359873037201},\n",
       " 'A549_GSK-LSD1_2HCl_100.0': {'r_squared': 0.995556821113369,\n",
       "  'e_distance': 0.23904442432753292,\n",
       "  'mmd_distance': 0.005414229930459792},\n",
       " 'A549_GSK-LSD1_2HCl_1000.0': {'r_squared': 0.9934051994827388,\n",
       "  'e_distance': 0.37216086267661375,\n",
       "  'mmd_distance': 0.007540952535019731},\n",
       " 'A549_GSK-LSD1_2HCl_10000.0': {'r_squared': 0.8584122436321091,\n",
       "  'e_distance': 7.951016141655364,\n",
       "  'mmd_distance': 0.04995650497806004},\n",
       " 'A549_INO-1001_(3-Aminobenzamide)_100.0': {'r_squared': 0.9929566475015661,\n",
       "  'e_distance': 0.3789903166836712,\n",
       "  'mmd_distance': 0.005874367113974569},\n",
       " 'A549_INO-1001_(3-Aminobenzamide)_1000.0': {'r_squared': 0.9955321490736828,\n",
       "  'e_distance': 0.23999640193014393,\n",
       "  'mmd_distance': 0.0071972906418908385},\n",
       " 'A549_INO-1001_(3-Aminobenzamide)_10000.0': {'r_squared': 0.8595302069353401,\n",
       "  'e_distance': 7.711173477537129,\n",
       "  'mmd_distance': 0.04929936318564208},\n",
       " 'A549_Lenalidomide_(CC-5013)_10.0': {'r_squared': 0.9877495778725044,\n",
       "  'e_distance': 0.7360324418373505,\n",
       "  'mmd_distance': 0.009072750038359792},\n",
       " 'A549_Lenalidomide_(CC-5013)_100.0': {'r_squared': 0.9928618010344105,\n",
       "  'e_distance': 0.4123397937744748,\n",
       "  'mmd_distance': 0.006841354973025429},\n",
       " 'A549_Lenalidomide_(CC-5013)_1000.0': {'r_squared': 0.9941770899627634,\n",
       "  'e_distance': 0.352419904684659,\n",
       "  'mmd_distance': 0.0076913612972992875},\n",
       " 'A549_Linifanib_(ABT-869)_10.0': {'r_squared': 0.9937430250181111,\n",
       "  'e_distance': 0.3501135565766962,\n",
       "  'mmd_distance': 0.006440963722417447},\n",
       " 'A549_Linifanib_(ABT-869)_100.0': {'r_squared': 0.9954937507184172,\n",
       "  'e_distance': 0.26932645469872085,\n",
       "  'mmd_distance': 0.006211411156408868},\n",
       " 'A549_Linifanib_(ABT-869)_1000.0': {'r_squared': 0.9939438446394481,\n",
       "  'e_distance': 0.3496450516305085,\n",
       "  'mmd_distance': 0.008132688673125674},\n",
       " 'A549_Linifanib_(ABT-869)_10000.0': {'r_squared': 0.8459842113770295,\n",
       "  'e_distance': 7.347472414267031,\n",
       "  'mmd_distance': 0.04671457590487549},\n",
       " 'A549_MK-0752_10.0': {'r_squared': 0.9931597378018583,\n",
       "  'e_distance': 0.39276770304992503,\n",
       "  'mmd_distance': 0.006377926029416469},\n",
       " 'A549_MK-0752_100.0': {'r_squared': 0.9938009173964758,\n",
       "  'e_distance': 0.35407047555977655,\n",
       "  'mmd_distance': 0.005895491919936345},\n",
       " 'A549_MK-0752_1000.0': {'r_squared': 0.9935238532653169,\n",
       "  'e_distance': 0.3803879417062568,\n",
       "  'mmd_distance': 0.008152618440911337},\n",
       " 'A549_MK-0752_10000.0': {'r_squared': 0.8447813492922104,\n",
       "  'e_distance': 9.943167459213823,\n",
       "  'mmd_distance': 0.05712075049800427},\n",
       " 'A549_Mesna__10.0': {'r_squared': 0.9953179347381137,\n",
       "  'e_distance': 0.2754007880283229,\n",
       "  'mmd_distance': 0.006359998545941677},\n",
       " 'A549_Mesna__100.0': {'r_squared': 0.9953078649951257,\n",
       "  'e_distance': 0.27761289450592663,\n",
       "  'mmd_distance': 0.006003474297890609},\n",
       " 'A549_Mesna__10000.0': {'r_squared': 0.8454687111520984,\n",
       "  'e_distance': 8.859644779437751,\n",
       "  'mmd_distance': 0.05385604799825894},\n",
       " 'A549_Nilotinib_(AMN-107)_10.0': {'r_squared': 0.9827092899840311,\n",
       "  'e_distance': 1.0167623011813802,\n",
       "  'mmd_distance': 0.011173348470669272},\n",
       " 'A549_Nilotinib_(AMN-107)_100.0': {'r_squared': 0.986831029747803,\n",
       "  'e_distance': 0.745182965325931,\n",
       "  'mmd_distance': 0.009331753647046274},\n",
       " 'A549_Nilotinib_(AMN-107)_1000.0': {'r_squared': 0.991376026822418,\n",
       "  'e_distance': 0.45715525738403073,\n",
       "  'mmd_distance': 0.007568384075267477},\n",
       " 'A549_Nilotinib_(AMN-107)_10000.0': {'r_squared': 0.8585787288681358,\n",
       "  'e_distance': 7.578234267178738,\n",
       "  'mmd_distance': 0.047821466306936684},\n",
       " 'A549_Prednisone__10.0': {'r_squared': 0.991488362802103,\n",
       "  'e_distance': 0.48518652087294,\n",
       "  'mmd_distance': 0.0073490050503470265},\n",
       " 'A549_Prednisone__100.0': {'r_squared': 0.995690668389784,\n",
       "  'e_distance': 0.25882771297255225,\n",
       "  'mmd_distance': 0.006031903974254102},\n",
       " 'A549_Prednisone__1000.0': {'r_squared': 0.9943779477305741,\n",
       "  'e_distance': 0.33739901062478417,\n",
       "  'mmd_distance': 0.007922090984897627},\n",
       " 'A549_Prednisone__10000.0': {'r_squared': 0.8416795545015399,\n",
       "  'e_distance': 9.767927737553808,\n",
       "  'mmd_distance': 0.05803195344073553},\n",
       " 'A549_SRT1720_HCl_100.0': {'r_squared': 0.9952236129640041,\n",
       "  'e_distance': 0.28582912324590026,\n",
       "  'mmd_distance': 0.0061690143926325875},\n",
       " 'A549_SRT1720_HCl_1000.0': {'r_squared': 0.9969822184343906,\n",
       "  'e_distance': 0.17636806892965673,\n",
       "  'mmd_distance': 0.00705261916946334},\n",
       " 'A549_TGX-221_10.0': {'r_squared': 0.9930327845976128,\n",
       "  'e_distance': 0.4027782559894302,\n",
       "  'mmd_distance': 0.0071260903649146235},\n",
       " 'A549_TGX-221_100.0': {'r_squared': 0.9940713724075335,\n",
       "  'e_distance': 0.3506746911788934,\n",
       "  'mmd_distance': 0.006893904631856914},\n",
       " 'A549_TGX-221_1000.0': {'r_squared': 0.9889194743677467,\n",
       "  'e_distance': 0.669445229996942,\n",
       "  'mmd_distance': 0.011283118030080483},\n",
       " 'A549_TGX-221_10000.0': {'r_squared': 0.8336447821925368,\n",
       "  'e_distance': 10.30572572969618,\n",
       "  'mmd_distance': 0.06083041815914623},\n",
       " 'A549_Tazemetostat_(EPZ-6438)_100.0': {'r_squared': 0.9876884269349075,\n",
       "  'e_distance': 0.6704127671061659,\n",
       "  'mmd_distance': 0.00824797249715079},\n",
       " 'A549_Thiotepa_10.0': {'r_squared': 0.9923840214065182,\n",
       "  'e_distance': 0.4519784436654959,\n",
       "  'mmd_distance': 0.007050288997882463},\n",
       " 'A549_Thiotepa_100.0': {'r_squared': 0.9945656903716439,\n",
       "  'e_distance': 0.31254773929352453,\n",
       "  'mmd_distance': 0.006455001445461718},\n",
       " 'A549_Tubastatin_A_HCl_10.0': {'r_squared': 0.9861858602057813,\n",
       "  'e_distance': 0.819315665090345,\n",
       "  'mmd_distance': 0.009364957687923035},\n",
       " 'A549_Tubastatin_A_HCl_100.0': {'r_squared': 0.9942829368262336,\n",
       "  'e_distance': 0.3253304868003628,\n",
       "  'mmd_distance': 0.006106556194913559},\n",
       " 'A549_Tubastatin_A_HCl_1000.0': {'r_squared': 0.9969243519754079,\n",
       "  'e_distance': 0.17176847328607892,\n",
       "  'mmd_distance': 0.006305837135555814},\n",
       " 'A549_Tubastatin_A_HCl_10000.0': {'r_squared': 0.8632489481217579,\n",
       "  'e_distance': 7.799363721502157,\n",
       "  'mmd_distance': 0.0516073872124419},\n",
       " 'A549_Valproic_acid_sodium_salt_(Sodium_valproate)_10.0': {'r_squared': 0.9894832330754939,\n",
       "  'e_distance': 0.5904235497337869,\n",
       "  'mmd_distance': 0.007507329555776048},\n",
       " 'A549_Valproic_acid_sodium_salt_(Sodium_valproate)_1000.0': {'r_squared': 0.9850389422143688,\n",
       "  'e_distance': 0.9152894786684591,\n",
       "  'mmd_distance': 0.011695120535444832},\n",
       " 'A549_Valproic_acid_sodium_salt_(Sodium_valproate)_10000.0': {'r_squared': 0.8320331864576375,\n",
       "  'e_distance': 10.308581524125774,\n",
       "  'mmd_distance': 0.05808942280065225},\n",
       " 'A549_WHI-P154_10.0': {'r_squared': 0.986947518038288,\n",
       "  'e_distance': 0.8026675749490426,\n",
       "  'mmd_distance': 0.009737072269565666},\n",
       " 'A549_WHI-P154_100.0': {'r_squared': 0.9960934157334449,\n",
       "  'e_distance': 0.2244179831433044,\n",
       "  'mmd_distance': 0.005480140779864724},\n",
       " 'A549_WHI-P154_1000.0': {'r_squared': 0.9939385896186204,\n",
       "  'e_distance': 0.34973734096064923,\n",
       "  'mmd_distance': 0.0072108899417934426},\n",
       " 'A549_WHI-P154_10000.0': {'r_squared': 0.8644198816845685,\n",
       "  'e_distance': 7.461445097039693,\n",
       "  'mmd_distance': 0.04857532870984416},\n",
       " 'K562_A-366_10.0': {'r_squared': 0.9789360205491706,\n",
       "  'e_distance': 0.9450216941248151,\n",
       "  'mmd_distance': 0.007672254658104884},\n",
       " 'K562_A-366_100.0': {'r_squared': 0.9897426223483939,\n",
       "  'e_distance': 0.5151366961666142,\n",
       "  'mmd_distance': 0.006869769780910909},\n",
       " 'K562_A-366_1000.0': {'r_squared': 0.9965701444409558,\n",
       "  'e_distance': 0.1540313591810758,\n",
       "  'mmd_distance': 0.006130875273197174},\n",
       " 'K562_A-366_10000.0': {'r_squared': 0.8835699067350486,\n",
       "  'e_distance': 4.9004097504518285,\n",
       "  'mmd_distance': 0.029916026570164445},\n",
       " 'K562_Carmofur_10.0': {'r_squared': 0.9808823885922088,\n",
       "  'e_distance': 0.8179222273437823,\n",
       "  'mmd_distance': 0.006544860254626743},\n",
       " 'K562_Carmofur_100.0': {'r_squared': 0.9743927273801897,\n",
       "  'e_distance': 1.0511558230647928,\n",
       "  'mmd_distance': 0.006928812405284063},\n",
       " 'K562_Carmofur_1000.0': {'r_squared': 0.9961376683627474,\n",
       "  'e_distance': 0.1748131062465177,\n",
       "  'mmd_distance': 0.006170384279863438},\n",
       " 'K562_Carmofur_10000.0': {'r_squared': 0.8977531536701784,\n",
       "  'e_distance': 4.268309463259239,\n",
       "  'mmd_distance': 0.026805874757862908},\n",
       " 'K562_Disulfiram__10.0': {'r_squared': 0.977645830532639,\n",
       "  'e_distance': 1.0298243975598353,\n",
       "  'mmd_distance': 0.00927751312539884},\n",
       " 'K562_Disulfiram__100.0': {'r_squared': 0.9906955887408576,\n",
       "  'e_distance': 0.4180147269944854,\n",
       "  'mmd_distance': 0.006114584531760847},\n",
       " 'K562_Disulfiram__1000.0': {'r_squared': 0.992129485536385,\n",
       "  'e_distance': 0.3524375609353143,\n",
       "  'mmd_distance': 0.006767631851929167},\n",
       " 'K562_Disulfiram__10000.0': {'r_squared': 0.9029563949052669,\n",
       "  'e_distance': 4.416587516222748,\n",
       "  'mmd_distance': 0.028051172689437107},\n",
       " 'K562_GSK-LSD1_2HCl_10.0': {'r_squared': 0.9219979093907398,\n",
       "  'e_distance': 3.3674738768327046,\n",
       "  'mmd_distance': 0.01679724299687242},\n",
       " 'K562_GSK-LSD1_2HCl_10000.0': {'r_squared': 0.9055045011042053,\n",
       "  'e_distance': 4.126510827871769,\n",
       "  'mmd_distance': 0.027619596461707297},\n",
       " 'K562_INO-1001_(3-Aminobenzamide)_10.0': {'r_squared': 0.9852811653416939,\n",
       "  'e_distance': 0.6318910757971281,\n",
       "  'mmd_distance': 0.006611261479458327},\n",
       " 'K562_INO-1001_(3-Aminobenzamide)_100.0': {'r_squared': 0.9829318744605544,\n",
       "  'e_distance': 0.7244893205756071,\n",
       "  'mmd_distance': 0.006309259053018881},\n",
       " 'K562_INO-1001_(3-Aminobenzamide)_1000.0': {'r_squared': 0.9954450846195609,\n",
       "  'e_distance': 0.20746310592451422,\n",
       "  'mmd_distance': 0.006507730037761347},\n",
       " 'K562_INO-1001_(3-Aminobenzamide)_10000.0': {'r_squared': 0.9109517456678771,\n",
       "  'e_distance': 4.0566930320481625,\n",
       "  'mmd_distance': 0.02632311379597972},\n",
       " 'K562_Lenalidomide_(CC-5013)_10.0': {'r_squared': 0.9871927340060449,\n",
       "  'e_distance': 0.6145306037689764,\n",
       "  'mmd_distance': 0.007042322307318958},\n",
       " 'K562_Lenalidomide_(CC-5013)_100.0': {'r_squared': 0.988878141409231,\n",
       "  'e_distance': 0.5114307651559109,\n",
       "  'mmd_distance': 0.0063554558417178485},\n",
       " 'K562_Lenalidomide_(CC-5013)_1000.0': {'r_squared': 0.9918368479797216,\n",
       "  'e_distance': 0.3296247940046051,\n",
       "  'mmd_distance': 0.007237018964401563},\n",
       " 'K562_Lenalidomide_(CC-5013)_10000.0': {'r_squared': 0.9073608679582476,\n",
       "  'e_distance': 4.172751715325738,\n",
       "  'mmd_distance': 0.026931960112548784},\n",
       " 'K562_Linifanib_(ABT-869)_10.0': {'r_squared': 0.9847476407637067,\n",
       "  'e_distance': 0.6850164075058629,\n",
       "  'mmd_distance': 0.006442680906633046},\n",
       " 'K562_Linifanib_(ABT-869)_100.0': {'r_squared': 0.9817026175404273,\n",
       "  'e_distance': 0.7728093246303409,\n",
       "  'mmd_distance': 0.0063610848349919735},\n",
       " 'K562_Linifanib_(ABT-869)_1000.0': {'r_squared': 0.9960830538750187,\n",
       "  'e_distance': 0.17205889660084495,\n",
       "  'mmd_distance': 0.00727047699593657},\n",
       " 'K562_Linifanib_(ABT-869)_10000.0': {'r_squared': 0.8950153019037784,\n",
       "  'e_distance': 5.422360895341271,\n",
       "  'mmd_distance': 0.03275754935720148},\n",
       " 'K562_MK-0752_10.0': {'r_squared': 0.9722641998409842,\n",
       "  'e_distance': 1.450118926999096,\n",
       "  'mmd_distance': 0.010028213594833657},\n",
       " 'K562_MK-0752_100.0': {'r_squared': 0.9899231025369378,\n",
       "  'e_distance': 0.4697379896150551,\n",
       "  'mmd_distance': 0.006290831784829379},\n",
       " 'K562_MK-0752_1000.0': {'r_squared': 0.9951919880228851,\n",
       "  'e_distance': 0.22246142034662597,\n",
       "  'mmd_distance': 0.007117718622175515},\n",
       " 'K562_MK-0752_10000.0': {'r_squared': 0.8972208849818313,\n",
       "  'e_distance': 4.957118455454275,\n",
       "  'mmd_distance': 0.031076911231697046},\n",
       " 'K562_Mesna__10.0': {'r_squared': 0.9862247544806552,\n",
       "  'e_distance': 0.6296499428375988,\n",
       "  'mmd_distance': 0.006866895831102616},\n",
       " 'K562_Mesna__100.0': {'r_squared': 0.989082307237636,\n",
       "  'e_distance': 0.5343624440700587,\n",
       "  'mmd_distance': 0.006044815983508051},\n",
       " 'K562_Mesna__1000.0': {'r_squared': 0.9920264772445546,\n",
       "  'e_distance': 0.3636364145426789,\n",
       "  'mmd_distance': 0.007012856846331184},\n",
       " 'K562_Mesna__10000.0': {'r_squared': 0.9053536311863664,\n",
       "  'e_distance': 4.545108630874523,\n",
       "  'mmd_distance': 0.02830594085735909},\n",
       " 'K562_Nilotinib_(AMN-107)_10.0': {'r_squared': 0.9192629785589751,\n",
       "  'e_distance': 3.074895486958642,\n",
       "  'mmd_distance': 0.01367981860962456},\n",
       " 'K562_PCI-34051_10.0': {'r_squared': 0.988434933769952,\n",
       "  'e_distance': 0.5220200027004189,\n",
       "  'mmd_distance': 0.00660358450402979},\n",
       " 'K562_PCI-34051_100.0': {'r_squared': 0.9880888817461334,\n",
       "  'e_distance': 0.6087298099172074,\n",
       "  'mmd_distance': 0.007977385676288097},\n",
       " 'K562_PCI-34051_1000.0': {'r_squared': 0.9883533166565447,\n",
       "  'e_distance': 0.5615216722624687,\n",
       "  'mmd_distance': 0.010158563875616224},\n",
       " 'K562_Prednisone__10.0': {'r_squared': 0.9780445035704189,\n",
       "  'e_distance': 1.0077955512803136,\n",
       "  'mmd_distance': 0.008838214800568697},\n",
       " 'K562_Prednisone__100.0': {'r_squared': 0.9891111080972265,\n",
       "  'e_distance': 0.47404513736104903,\n",
       "  'mmd_distance': 0.006750266122779225},\n",
       " 'K562_Prednisone__1000.0': {'r_squared': 0.9948350899937353,\n",
       "  'e_distance': 0.23329806078286808,\n",
       "  'mmd_distance': 0.006965034962610043},\n",
       " 'K562_Prednisone__10000.0': {'r_squared': 0.9099666022102386,\n",
       "  'e_distance': 4.105922842430605,\n",
       "  'mmd_distance': 0.026086181204747445},\n",
       " 'K562_SRT1720_HCl_10.0': {'r_squared': 0.986079586819135,\n",
       "  'e_distance': 0.6759570760739742,\n",
       "  'mmd_distance': 0.0069161729209674715},\n",
       " 'K562_SRT1720_HCl_100.0': {'r_squared': 0.9772661532007595,\n",
       "  'e_distance': 1.0441616707924908,\n",
       "  'mmd_distance': 0.0077332940185594},\n",
       " 'K562_SRT1720_HCl_1000.0': {'r_squared': 0.993924859385087,\n",
       "  'e_distance': 0.2726084789890031,\n",
       "  'mmd_distance': 0.006737716505041884},\n",
       " 'K562_TGX-221_10.0': {'r_squared': 0.9750039201658329,\n",
       "  'e_distance': 1.24878865833551,\n",
       "  'mmd_distance': 0.009284371679165617},\n",
       " 'K562_TGX-221_100.0': {'r_squared': 0.980577242056114,\n",
       "  'e_distance': 0.9345750267620545,\n",
       "  'mmd_distance': 0.007780018188908211},\n",
       " 'K562_TGX-221_1000.0': {'r_squared': 0.9935881734219281,\n",
       "  'e_distance': 0.28539433799197056,\n",
       "  'mmd_distance': 0.008028862763155157},\n",
       " 'K562_TGX-221_10000.0': {'r_squared': 0.9124638973851931,\n",
       "  'e_distance': 4.6158068816626425,\n",
       "  'mmd_distance': 0.028386472040950527},\n",
       " 'K562_Tazemetostat_(EPZ-6438)_10.0': {'r_squared': 0.9776626821713558,\n",
       "  'e_distance': 1.0083450903842994,\n",
       "  'mmd_distance': 0.008169053679933315},\n",
       " 'K562_Tazemetostat_(EPZ-6438)_100.0': {'r_squared': 0.9884530166437806,\n",
       "  'e_distance': 0.502770321887045,\n",
       "  'mmd_distance': 0.005762766866218786},\n",
       " 'K562_Tazemetostat_(EPZ-6438)_1000.0': {'r_squared': 0.9902156252909406,\n",
       "  'e_distance': 0.478414769209099,\n",
       "  'mmd_distance': 0.008592408619950117},\n",
       " 'K562_Tazemetostat_(EPZ-6438)_10000.0': {'r_squared': 0.8976636746754763,\n",
       "  'e_distance': 4.813936253337872,\n",
       "  'mmd_distance': 0.02950693255610502},\n",
       " 'K562_Thiotepa_10.0': {'r_squared': 0.9845391651520492,\n",
       "  'e_distance': 0.663617315163318,\n",
       "  'mmd_distance': 0.006686075836828789},\n",
       " 'K562_Thiotepa_100.0': {'r_squared': 0.9908140750254707,\n",
       "  'e_distance': 0.39796840775287734,\n",
       "  'mmd_distance': 0.005069553076459166},\n",
       " 'K562_Thiotepa_1000.0': {'r_squared': 0.9972479955570619,\n",
       "  'e_distance': 0.12178965709112788,\n",
       "  'mmd_distance': 0.0058922361302048976},\n",
       " 'K562_Thiotepa_10000.0': {'r_squared': 0.9085279100500867,\n",
       "  'e_distance': 4.232244950880435,\n",
       "  'mmd_distance': 0.027312535361581295},\n",
       " 'K562_Tubastatin_A_HCl_10.0': {'r_squared': 0.9717065123317389,\n",
       "  'e_distance': 1.2441504028817896,\n",
       "  'mmd_distance': 0.007902647863858725},\n",
       " 'K562_Tubastatin_A_HCl_1000.0': {'r_squared': 0.9964618848190608,\n",
       "  'e_distance': 0.15439042356694443,\n",
       "  'mmd_distance': 0.006278562597861796},\n",
       " 'K562_Tubastatin_A_HCl_10000.0': {'r_squared': 0.9140989197010291,\n",
       "  'e_distance': 4.107480099858353,\n",
       "  'mmd_distance': 0.02688560901496369},\n",
       " 'K562_Valproic_acid_sodium_salt_(Sodium_valproate)_10.0': {'r_squared': 0.9804101216488722,\n",
       "  'e_distance': 0.9265033229639243,\n",
       "  'mmd_distance': 0.007848147109412328},\n",
       " 'K562_Valproic_acid_sodium_salt_(Sodium_valproate)_1000.0': {'r_squared': 0.9955482596163417,\n",
       "  'e_distance': 0.20134825020532787,\n",
       "  'mmd_distance': 0.006965360350292861},\n",
       " 'K562_Valproic_acid_sodium_salt_(Sodium_valproate)_10000.0': {'r_squared': 0.9016977585137105,\n",
       "  'e_distance': 4.530454977658735,\n",
       "  'mmd_distance': 0.028188563421753448},\n",
       " 'K562_WHI-P154_10.0': {'r_squared': 0.973282505177892,\n",
       "  'e_distance': 1.13233606039811,\n",
       "  'mmd_distance': 0.008055747545890706},\n",
       " 'K562_WHI-P154_100.0': {'r_squared': 0.985496228819848,\n",
       "  'e_distance': 0.6229299103471888,\n",
       "  'mmd_distance': 0.0059482879496250115},\n",
       " 'K562_WHI-P154_1000.0': {'r_squared': 0.9910497969298455,\n",
       "  'e_distance': 0.3867260314352947,\n",
       "  'mmd_distance': 0.007343837664498028},\n",
       " 'MCF7_A-366_10.0': {'r_squared': 0.8796562005930697,\n",
       "  'e_distance': 0.6097847409195438,\n",
       "  'mmd_distance': 0.006170875750656964},\n",
       " 'MCF7_A-366_100.0': {'r_squared': 0.94217910367722,\n",
       "  'e_distance': 0.3041184786562532,\n",
       "  'mmd_distance': 0.005049420948123377},\n",
       " 'MCF7_A-366_1000.0': {'r_squared': 0.9412345263318651,\n",
       "  'e_distance': 0.3074886100519407,\n",
       "  'mmd_distance': 0.006466516703237196},\n",
       " 'MCF7_A-366_10000.0': {'r_squared': -0.06342930934062752,\n",
       "  'e_distance': 5.479985235099422,\n",
       "  'mmd_distance': 0.034770476512926016},\n",
       " 'MCF7_Carmofur_10.0': {'r_squared': 0.8855581907977471,\n",
       "  'e_distance': 0.5939366007966722,\n",
       "  'mmd_distance': 0.006544928429182643},\n",
       " 'MCF7_Carmofur_100.0': {'r_squared': 0.9363446375903004,\n",
       "  'e_distance': 0.31859131474576685,\n",
       "  'mmd_distance': 0.005356175920077557},\n",
       " 'MCF7_Carmofur_1000.0': {'r_squared': 0.9277115549991893,\n",
       "  'e_distance': 0.34995946269278555,\n",
       "  'mmd_distance': 0.006953966790523617},\n",
       " 'MCF7_Carmofur_10000.0': {'r_squared': -0.13036833551282845,\n",
       "  'e_distance': 5.628801839027334,\n",
       "  'mmd_distance': 0.03993492250757979},\n",
       " 'MCF7_Disulfiram__10.0': {'r_squared': 0.8596359024860575,\n",
       "  'e_distance': 0.6750550999523153,\n",
       "  'mmd_distance': 0.00781628560088129},\n",
       " 'MCF7_Disulfiram__100.0': {'r_squared': 0.931174226720027,\n",
       "  'e_distance': 0.33184114229683104,\n",
       "  'mmd_distance': 0.006200557628677513},\n",
       " 'MCF7_Disulfiram__1000.0': {'r_squared': 0.9541738003427028,\n",
       "  'e_distance': 0.2182482646795343,\n",
       "  'mmd_distance': 0.005864764800661247},\n",
       " 'MCF7_Disulfiram__10000.0': {'r_squared': 0.06405844531343052,\n",
       "  'e_distance': 4.7727223005971755,\n",
       "  'mmd_distance': 0.03194010664878941},\n",
       " 'MCF7_GSK-LSD1_2HCl_10.0': {'r_squared': 0.8622897019793827,\n",
       "  'e_distance': 0.722560840096893,\n",
       "  'mmd_distance': 0.006491989575038007},\n",
       " 'MCF7_GSK-LSD1_2HCl_100.0': {'r_squared': 0.9248925096594994,\n",
       "  'e_distance': 0.3663128995637184,\n",
       "  'mmd_distance': 0.004965905906356739},\n",
       " 'MCF7_GSK-LSD1_2HCl_1000.0': {'r_squared': 0.949052633606216,\n",
       "  'e_distance': 0.26697526479763845,\n",
       "  'mmd_distance': 0.005866194723535323},\n",
       " 'MCF7_GSK-LSD1_2HCl_10000.0': {'r_squared': 0.061038860711500775,\n",
       "  'e_distance': 4.865453311102268,\n",
       "  'mmd_distance': 0.03093405163272767},\n",
       " 'MCF7_INO-1001_(3-Aminobenzamide)_10.0': {'r_squared': 0.8948987701698428,\n",
       "  'e_distance': 0.5592558188820718,\n",
       "  'mmd_distance': 0.005786332768769072},\n",
       " 'MCF7_INO-1001_(3-Aminobenzamide)_100.0': {'r_squared': 0.9512501124755051,\n",
       "  'e_distance': 0.24718859318804753,\n",
       "  'mmd_distance': 0.004025689063135955},\n",
       " 'MCF7_INO-1001_(3-Aminobenzamide)_1000.0': {'r_squared': 0.9588244159324372,\n",
       "  'e_distance': 0.22103232691534913,\n",
       "  'mmd_distance': 0.005898056949477144},\n",
       " 'MCF7_INO-1001_(3-Aminobenzamide)_10000.0': {'r_squared': 0.05356248622688553,\n",
       "  'e_distance': 5.004451782164008,\n",
       "  'mmd_distance': 0.03172448982110465},\n",
       " 'MCF7_Lenalidomide_(CC-5013)_10.0': {'r_squared': 0.8648360154950795,\n",
       "  'e_distance': 0.7311628170098068,\n",
       "  'mmd_distance': 0.007376307086548924},\n",
       " 'MCF7_Lenalidomide_(CC-5013)_100.0': {'r_squared': 0.8742532379890139,\n",
       "  'e_distance': 0.6273693641255527,\n",
       "  'mmd_distance': 0.007346823063558816},\n",
       " 'MCF7_Lenalidomide_(CC-5013)_1000.0': {'r_squared': 0.9126854194331177,\n",
       "  'e_distance': 0.43053299217883456,\n",
       "  'mmd_distance': 0.007794864626177321},\n",
       " 'MCF7_Lenalidomide_(CC-5013)_10000.0': {'r_squared': 0.11402458120705272,\n",
       "  'e_distance': 4.643375218833876,\n",
       "  'mmd_distance': 0.030697938996077322},\n",
       " 'MCF7_Linifanib_(ABT-869)_10.0': {'r_squared': 0.9141023133002623,\n",
       "  'e_distance': 0.4465641551547588,\n",
       "  'mmd_distance': 0.005473012874145217},\n",
       " 'MCF7_Linifanib_(ABT-869)_100.0': {'r_squared': 0.9523505394207785,\n",
       "  'e_distance': 0.25510100695630555,\n",
       "  'mmd_distance': 0.004438064627728513},\n",
       " 'MCF7_Linifanib_(ABT-869)_1000.0': {'r_squared': 0.9618791262969771,\n",
       "  'e_distance': 0.20589294635023592,\n",
       "  'mmd_distance': 0.006063867966033052},\n",
       " 'MCF7_Linifanib_(ABT-869)_10000.0': {'r_squared': -0.7839511762278384,\n",
       "  'e_distance': 9.246265058956423,\n",
       "  'mmd_distance': 0.05739784272218873},\n",
       " 'MCF7_MK-0752_10.0': {'r_squared': 0.9083128371010535,\n",
       "  'e_distance': 0.5147656325138374,\n",
       "  'mmd_distance': 0.00575594126915223},\n",
       " 'MCF7_MK-0752_100.0': {'r_squared': 0.9335549081709983,\n",
       "  'e_distance': 0.3263579856743988,\n",
       "  'mmd_distance': 0.004616064145245668},\n",
       " 'MCF7_MK-0752_1000.0': {'r_squared': 0.9410033049961447,\n",
       "  'e_distance': 0.327381707750817,\n",
       "  'mmd_distance': 0.006952365216716112},\n",
       " 'MCF7_MK-0752_10000.0': {'r_squared': 0.23304155234317747,\n",
       "  'e_distance': 4.666652765109204,\n",
       "  'mmd_distance': 0.030838632326403843},\n",
       " 'MCF7_Mesna__10.0': {'r_squared': 0.8997895584659388,\n",
       "  'e_distance': 0.5602385457664276,\n",
       "  'mmd_distance': 0.005964684068648865},\n",
       " 'MCF7_Mesna__100.0': {'r_squared': 0.879834911602831,\n",
       "  'e_distance': 0.678498063234855,\n",
       "  'mmd_distance': 0.006321083230368149},\n",
       " 'MCF7_Mesna__1000.0': {'r_squared': 0.952440632486981,\n",
       "  'e_distance': 0.2434930417536343,\n",
       "  'mmd_distance': 0.0065240858945873935},\n",
       " 'MCF7_Mesna__10000.0': {'r_squared': 0.19150117281069612,\n",
       "  'e_distance': 4.527764740915185,\n",
       "  'mmd_distance': 0.029271457894731234},\n",
       " 'MCF7_Nilotinib_(AMN-107)_10.0': {'r_squared': 0.8677171892852586,\n",
       "  'e_distance': 0.6656599969108594,\n",
       "  'mmd_distance': 0.0064809910202711625},\n",
       " 'MCF7_Nilotinib_(AMN-107)_100.0': {'r_squared': 0.8459365338313178,\n",
       "  'e_distance': 0.7240976574870324,\n",
       "  'mmd_distance': 0.007291947258711174},\n",
       " 'MCF7_Nilotinib_(AMN-107)_1000.0': {'r_squared': 0.8944094869891059,\n",
       "  'e_distance': 0.5426744456390313,\n",
       "  'mmd_distance': 0.00812826192717418},\n",
       " 'MCF7_Nilotinib_(AMN-107)_10000.0': {'r_squared': -0.17368041606497098,\n",
       "  'e_distance': 5.731347563350498,\n",
       "  'mmd_distance': 0.0372578917925776},\n",
       " 'MCF7_PCI-34051_10.0': {'r_squared': 0.873790998557122,\n",
       "  'e_distance': 0.6890466984763943,\n",
       "  'mmd_distance': 0.007123825195347085},\n",
       " 'MCF7_PCI-34051_100.0': {'r_squared': 0.9144962059856843,\n",
       "  'e_distance': 0.4717033273560336,\n",
       "  'mmd_distance': 0.005970586095878141},\n",
       " 'MCF7_PCI-34051_1000.0': {'r_squared': 0.9772467694000647,\n",
       "  'e_distance': 0.12137208691807189,\n",
       "  'mmd_distance': 0.005585323841269499},\n",
       " 'MCF7_PCI-34051_10000.0': {'r_squared': -0.051553108222051724,\n",
       "  'e_distance': 5.297202911097861,\n",
       "  'mmd_distance': 0.033046313630213944},\n",
       " 'MCF7_Prednisone__10.0': {'r_squared': 0.8955255589110306,\n",
       "  'e_distance': 0.5774474351850305,\n",
       "  'mmd_distance': 0.007130438553624485},\n",
       " 'MCF7_Prednisone__100.0': {'r_squared': 0.9174419535213447,\n",
       "  'e_distance': 0.4203597954616196,\n",
       "  'mmd_distance': 0.006539696772292044},\n",
       " 'MCF7_Prednisone__1000.0': {'r_squared': 0.9504773454122896,\n",
       "  'e_distance': 0.23983189140610506,\n",
       "  'mmd_distance': 0.00666098111939071},\n",
       " 'MCF7_Prednisone__10000.0': {'r_squared': 0.0076634079014987755,\n",
       "  'e_distance': 5.08004792439011,\n",
       "  'mmd_distance': 0.03300102168014205},\n",
       " 'MCF7_SRT1720_HCl_10.0': {'r_squared': 0.8832868163557606,\n",
       "  'e_distance': 0.6381215941449998,\n",
       "  'mmd_distance': 0.006831037808771291},\n",
       " 'MCF7_SRT1720_HCl_100.0': {'r_squared': 0.9470415121497884,\n",
       "  'e_distance': 0.2725737635084222,\n",
       "  'mmd_distance': 0.004788899360095214},\n",
       " 'MCF7_SRT1720_HCl_1000.0': {'r_squared': 0.9526768349425211,\n",
       "  'e_distance': 0.23661670865578088,\n",
       "  'mmd_distance': 0.006254731087460635},\n",
       " 'MCF7_SRT1720_HCl_10000.0': {'r_squared': 0.012079633148525115,\n",
       "  'e_distance': 5.339894403215238,\n",
       "  'mmd_distance': 0.033857580074134266},\n",
       " 'MCF7_TGX-221_10.0': {'r_squared': 0.926378994227814,\n",
       "  'e_distance': 0.4296402793742491,\n",
       "  'mmd_distance': 0.00560295433519481},\n",
       " 'MCF7_TGX-221_100.0': {'r_squared': 0.9467715458416321,\n",
       "  'e_distance': 0.2795476241645254,\n",
       "  'mmd_distance': 0.004601510534450789},\n",
       " 'MCF7_TGX-221_1000.0': {'r_squared': 0.9692919940566476,\n",
       "  'e_distance': 0.1812125075413622,\n",
       "  'mmd_distance': 0.005719401919980812},\n",
       " 'MCF7_TGX-221_10000.0': {'r_squared': 0.20775832769345914,\n",
       "  'e_distance': 4.994269927994974,\n",
       "  'mmd_distance': 0.031406872150389085},\n",
       " 'MCF7_Tazemetostat_(EPZ-6438)_10.0': {'r_squared': 0.8125181816846995,\n",
       "  'e_distance': 1.0265145593809404,\n",
       "  'mmd_distance': 0.008768411291723356},\n",
       " 'MCF7_Tazemetostat_(EPZ-6438)_100.0': {'r_squared': 0.7974352331463191,\n",
       "  'e_distance': 1.0899908562680576,\n",
       "  'mmd_distance': 0.009597021769106377},\n",
       " 'MCF7_Tazemetostat_(EPZ-6438)_1000.0': {'r_squared': 0.9606267365188936,\n",
       "  'e_distance': 0.2063835546314774,\n",
       "  'mmd_distance': 0.005649234247537291},\n",
       " 'MCF7_Tazemetostat_(EPZ-6438)_10000.0': {'r_squared': 0.07363414200000296,\n",
       "  'e_distance': 4.662215329734327,\n",
       "  'mmd_distance': 0.029804437588291006},\n",
       " 'MCF7_Thiotepa_10.0': {'r_squared': 0.9063781926216142,\n",
       "  'e_distance': 0.5172739519812435,\n",
       "  'mmd_distance': 0.00561006585675005},\n",
       " 'MCF7_Thiotepa_100.0': {'r_squared': 0.9569869371387612,\n",
       "  'e_distance': 0.21642268467750903,\n",
       "  'mmd_distance': 0.004256082308306718},\n",
       " 'MCF7_Thiotepa_1000.0': {'r_squared': 0.9657330507649354,\n",
       "  'e_distance': 0.17321770894372612,\n",
       "  'mmd_distance': 0.0055642690953750075},\n",
       " 'MCF7_Thiotepa_10000.0': {'r_squared': 0.09975799793387286,\n",
       "  'e_distance': 4.879907487274297,\n",
       "  'mmd_distance': 0.032235005356489606},\n",
       " 'MCF7_Tubastatin_A_HCl_10.0': {'r_squared': 0.8064178249629683,\n",
       "  'e_distance': 1.036898252931774,\n",
       "  'mmd_distance': 0.008917142011375672},\n",
       " 'MCF7_Tubastatin_A_HCl_100.0': {'r_squared': 0.8794732110955641,\n",
       "  'e_distance': 0.6823672663806448,\n",
       "  'mmd_distance': 0.006601399522047013},\n",
       " 'MCF7_Tubastatin_A_HCl_1000.0': {'r_squared': 0.9435061067760622,\n",
       "  'e_distance': 0.28826884050543633,\n",
       "  'mmd_distance': 0.005789032066120918},\n",
       " 'MCF7_Tubastatin_A_HCl_10000.0': {'r_squared': 0.05745186201791119,\n",
       "  'e_distance': 6.118818134763515,\n",
       "  'mmd_distance': 0.038447597201870236},\n",
       " 'MCF7_Valproic_acid_sodium_salt_(Sodium_valproate)_10.0': {'r_squared': 0.8680715641984841,\n",
       "  'e_distance': 0.7676264743460592,\n",
       "  'mmd_distance': 0.006737996887138265},\n",
       " 'MCF7_Valproic_acid_sodium_salt_(Sodium_valproate)_100.0': {'r_squared': 0.9499529099211139,\n",
       "  'e_distance': 0.26362557912975326,\n",
       "  'mmd_distance': 0.00391899107358981},\n",
       " 'MCF7_Valproic_acid_sodium_salt_(Sodium_valproate)_1000.0': {'r_squared': 0.9771568943330112,\n",
       "  'e_distance': 0.12383256118681985,\n",
       "  'mmd_distance': 0.004788769140659135},\n",
       " 'MCF7_Valproic_acid_sodium_salt_(Sodium_valproate)_10000.0': {'r_squared': 0.24645504493953907,\n",
       "  'e_distance': 4.548032015101807,\n",
       "  'mmd_distance': 0.030239777201183236},\n",
       " 'MCF7_WHI-P154_10.0': {'r_squared': 0.9011012259395791,\n",
       "  'e_distance': 0.5346477969902459,\n",
       "  'mmd_distance': 0.00571240682388643},\n",
       " 'MCF7_WHI-P154_100.0': {'r_squared': 0.9615371519080653,\n",
       "  'e_distance': 0.20961701992317394,\n",
       "  'mmd_distance': 0.003960652975362517},\n",
       " 'MCF7_WHI-P154_1000.0': {'r_squared': 0.958937469122111,\n",
       "  'e_distance': 0.21629579295929346,\n",
       "  'mmd_distance': 0.005323836587860991},\n",
       " 'MCF7_WHI-P154_10000.0': {'r_squared': 0.0534398983109684,\n",
       "  'e_distance': 5.129065437757395,\n",
       "  'mmd_distance': 0.031718470922560416}}"
      ]
     },
     "execution_count": 28,
     "metadata": {},
     "output_type": "execute_result"
    }
   ],
   "source": [
    "ood_metrics"
   ]
  },
  {
   "cell_type": "code",
   "execution_count": 19,
   "id": "22507b33-b218-41db-9ac2-2e63a5b4d886",
   "metadata": {},
   "outputs": [
    {
     "data": {
      "text/plain": [
       "{'decoded_ood_r_squared': -0.7164179366485877,\n",
       " 'decoded_ood_e_distance': 52.26967538874433,\n",
       " 'decoded_ood_mmd_distance': 0.13167360613726622}"
      ]
     },
     "execution_count": 19,
     "metadata": {},
     "output_type": "execute_result"
    }
   ],
   "source": [
    "[k:]"
   ]
  },
  {
   "cell_type": "code",
   "execution_count": 1,
   "id": "9f58d6b2-83f6-42b1-bfa9-ba184e28627e",
   "metadata": {},
   "outputs": [
    {
     "data": {
      "text/plain": [
       "1"
      ]
     },
     "execution_count": 1,
     "metadata": {},
     "output_type": "execute_result"
    }
   ],
   "source": [
    "1"
   ]
  },
  {
   "cell_type": "code",
   "execution_count": 1,
   "id": "a75f9cd3-9fcb-4713-ab95-68f4ddd2ebc5",
   "metadata": {},
   "outputs": [
    {
     "ename": "NameError",
     "evalue": "name 'ood_metrics_decoded' is not defined",
     "output_type": "error",
     "traceback": [
      "\u001b[0;31m---------------------------------------------------------------------------\u001b[0m",
      "\u001b[0;31mNameError\u001b[0m                                 Traceback (most recent call last)",
      "Cell \u001b[0;32mIn[1], line 1\u001b[0m\n\u001b[0;32m----> 1\u001b[0m ood_metrics_decoded\n",
      "\u001b[0;31mNameError\u001b[0m: name 'ood_metrics_decoded' is not defined"
     ]
    }
   ],
   "source": [
    "ood_metrics_decoded"
   ]
  },
  {
   "cell_type": "code",
   "execution_count": 15,
   "id": "b605b457-2c5d-4d3d-9f20-a8cf290661b1",
   "metadata": {},
   "outputs": [
    {
     "data": {
      "text/plain": [
       "353"
      ]
     },
     "execution_count": 15,
     "metadata": {},
     "output_type": "execute_result"
    }
   ],
   "source": [
    "len([el for el in test_data_source.keys() if el.startswith(\"K562\")])"
   ]
  },
  {
   "cell_type": "code",
   "execution_count": 16,
   "id": "7a44719a-7d29-43e7-8721-e4a5d7d9d052",
   "metadata": {},
   "outputs": [
    {
     "data": {
      "text/plain": [
       "619"
      ]
     },
     "execution_count": 16,
     "metadata": {},
     "output_type": "execute_result"
    }
   ],
   "source": [
    "len([el for el in test_data_source.keys() if el.startswith(\"MCF7\")])"
   ]
  },
  {
   "cell_type": "code",
   "execution_count": 17,
   "id": "939ed433-5d4e-477a-81a4-984c5d87eb85",
   "metadata": {},
   "outputs": [
    {
     "data": {
      "text/plain": [
       "303"
      ]
     },
     "execution_count": 17,
     "metadata": {},
     "output_type": "execute_result"
    }
   ],
   "source": [
    "len([el for el in test_data_source.keys() if el.startswith(\"A549\")])"
   ]
  },
  {
   "cell_type": "code",
   "execution_count": null,
   "id": "d1c09eaf-91ea-46f9-a527-5f92c1baa834",
   "metadata": {},
   "outputs": [],
   "source": []
  }
 ],
 "metadata": {
  "kernelspec": {
   "display_name": "ot_pert_genot",
   "language": "python",
   "name": "ot_pert_genot"
  },
  "language_info": {
   "codemirror_mode": {
    "name": "ipython",
    "version": 3
   },
   "file_extension": ".py",
   "mimetype": "text/x-python",
   "name": "python",
   "nbconvert_exporter": "python",
   "pygments_lexer": "ipython3",
   "version": "3.12.2"
  }
 },
 "nbformat": 4,
 "nbformat_minor": 5
}
