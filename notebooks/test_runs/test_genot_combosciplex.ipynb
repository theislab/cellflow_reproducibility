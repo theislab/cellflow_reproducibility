{
 "cells": [
  {
   "cell_type": "code",
   "execution_count": 1,
   "id": "5877735c-40ce-4342-adbd-088b7d162a86",
   "metadata": {},
   "outputs": [],
   "source": [
    "import functools\n",
    "from typing import Literal, Optional\n",
    "\n",
    "import jax\n",
    "import jax.numpy as jnp\n",
    "import numpy as np\n",
    "import optax\n",
    "import scanpy as sc\n",
    "from flax import linen as nn\n",
    "from flax.training import train_state\n",
    "from ott.neural import datasets\n",
    "from ott.neural.methods.flows import dynamics, genot\n",
    "from ott.neural.networks.layers import time_encoder\n",
    "from ott.solvers import utils as solver_utils\n",
    "from torch.utils.data import DataLoader\n",
    "from tqdm import tqdm\n",
    "\n",
    "from ot_pert.utils import ConditionalLoader"
   ]
  },
  {
   "cell_type": "code",
   "execution_count": 96,
   "id": "243f4031-8e40-4eac-a874-bc836e4188a8",
   "metadata": {},
   "outputs": [
    {
     "name": "stderr",
     "output_type": "stream",
     "text": [
      "/home/icb/dominik.klein/mambaforge/envs/ot_pert_genot/lib/python3.12/site-packages/anndata/__init__.py:51: FutureWarning: `anndata.read` is deprecated, use `anndata.read_h5ad` instead. `ad.read` will be removed in mid 2024.\n",
      "  warnings.warn(\n"
     ]
    }
   ],
   "source": [
    "def data_match_fn(\n",
    "    src_lin: Optional[jnp.ndarray],\n",
    "    tgt_lin: Optional[jnp.ndarray],\n",
    "    src_quad: Optional[jnp.ndarray],\n",
    "    tgt_quad: Optional[jnp.ndarray],\n",
    "    *,\n",
    "    typ: Literal[\"lin\", \"quad\", \"fused\"],\n",
    ") -> jnp.ndarray:\n",
    "    if typ == \"lin\":\n",
    "        return solver_utils.match_linear(x=src_lin, y=tgt_lin, scale_cost=\"mean\")\n",
    "    if typ == \"quad\":\n",
    "        return solver_utils.match_quadratic(xx=src_quad, yy=tgt_quad)\n",
    "    if typ == \"fused\":\n",
    "        return solver_utils.match_quadratic(xx=src_quad, yy=tgt_quad, x=src_lin, y=tgt_lin)\n",
    "    raise NotImplementedError(f\"Unknown type: {typ}.\")\n",
    "\n",
    "\n",
    "adata_train = sc.read(\"/lustre/groups/ml01/workspace/ot_perturbation/data/combosciplex/adata_train.h5ad\")\n",
    "dls = []\n",
    "source = adata_train[adata_train.obs[\"condition\"] == \"control\"].obsm[\"X_pca\"]\n",
    "\n",
    "for cond in adata_train.obs[\"condition\"].cat.categories:\n",
    "    if cond == \"control\":\n",
    "        continue\n",
    "    target = adata_train[adata_train.obs[\"condition\"] == cond].obsm[\"X_pca\"]\n",
    "    condition_1 = adata_train[adata_train.obs[\"condition\"] == cond].obsm[\"ecfp_drug_1\"]\n",
    "    condition_2 = adata_train[adata_train.obs[\"condition\"] == cond].obsm[\"ecfp_drug_2\"]\n",
    "    assert np.all(np.all(condition_1 == condition_1[0], axis=1))\n",
    "    assert np.all(np.all(condition_2 == condition_2[0], axis=1))\n",
    "    expanded_arr = np.expand_dims(\n",
    "        np.concatenate((condition_1[0, :][None, :], condition_2[0, :][None, :]), axis=0), axis=0\n",
    "    )\n",
    "    conds = np.tile(expanded_arr, (len(source), 1, 1))\n",
    "    dls.append(\n",
    "        DataLoader(\n",
    "            datasets.OTDataset(\n",
    "                datasets.OTData(\n",
    "                    lin=source,\n",
    "                    condition=conds,\n",
    "                ),\n",
    "                datasets.OTData(lin=target),\n",
    "            ),\n",
    "            batch_size=1024,\n",
    "            shuffle=True,\n",
    "        )\n",
    "    )\n",
    "\n",
    "train_loader = ConditionalLoader(dls, seed=0)"
   ]
  },
  {
   "cell_type": "code",
   "execution_count": 97,
   "id": "ee6bc27d-3931-4e9e-83f3-8903b0766519",
   "metadata": {},
   "outputs": [],
   "source": [
    "from collections.abc import Sequence\n",
    "from typing import Callable, List, Optional\n",
    "\n",
    "import jax.numpy as jnp\n",
    "\n",
    "\n",
    "def get_masks(dataset: List[jnp.ndarray]):\n",
    "    attention_mask = []\n",
    "    for data in dataset:\n",
    "        if data.ndim < 2:\n",
    "            data = data[None, :]\n",
    "        if data.ndim < 3:\n",
    "            data = data[None, :]\n",
    "        mask = jnp.all(data == 0.0, axis=-1)\n",
    "        mask = 1 - mask\n",
    "        mask = jnp.outer(mask, mask)\n",
    "        attention_mask.append(mask)\n",
    "    return jnp.expand_dims(jnp.equal(jnp.array(attention_mask), 1.0), 1)\n",
    "\n",
    "\n",
    "class GENOTVelocityFieldWithAttention2(nn.Module):\n",
    "    split_dim: int\n",
    "    num_heads: int\n",
    "    qkv_feature_dim: int\n",
    "    max_seq_length: int\n",
    "    hidden_dims: Sequence[int]\n",
    "    output_dims: Sequence[int]\n",
    "    condition_dims: Sequence[int]\n",
    "    condition_dims_forward: Sequence[int]\n",
    "    condition_dims_post_attention: Sequence[int]\n",
    "    time_dims: Optional[Sequence[int]] = None\n",
    "    time_encoder: Callable[[jnp.ndarray], jnp.ndarray] = time_encoder.cyclical_time_encoder\n",
    "    act_fn: Callable[[jnp.ndarray], jnp.ndarray] = nn.silu\n",
    "    pad_max_dim: int = -1\n",
    "\n",
    "    def __post_init__(self):\n",
    "        self.get_masks = jax.jit(get_masks)\n",
    "        super().__post_init__()\n",
    "\n",
    "    @nn.compact\n",
    "    def __call__(\n",
    "        self,\n",
    "        t: jnp.ndarray,\n",
    "        x: jnp.ndarray,\n",
    "        condition: Optional[jnp.ndarray] = None,\n",
    "    ) -> jnp.ndarray:\n",
    "        \"\"\"Forward pass through the neural vector field.\n",
    "\n",
    "        Args:\n",
    "          t: Time of shape ``[batch, 1]``.\n",
    "          x: Data of shape ``[batch, ...]``.\n",
    "          condition: Conditioning vector of shape ``[batch, ...]``.\n",
    "\n",
    "        Returns\n",
    "        -------\n",
    "          Output of the neural vector field of shape ``[batch, output_dim]``.\n",
    "        \"\"\"\n",
    "        squeeze_output = False\n",
    "        if x.ndim < 2:\n",
    "            x = x[None, :]\n",
    "            t = jnp.full(shape=(1, 1), fill_value=t)\n",
    "            condition = condition[None, :]\n",
    "            squeeze_output = True\n",
    "\n",
    "        time_dims = self.hidden_dims if self.time_dims is None else self.time_dims\n",
    "        t = self.time_encoder(t)\n",
    "        for time_dim in time_dims:\n",
    "            t = self.act_fn(nn.Dense(time_dim)(t))\n",
    "\n",
    "        for hidden_dim in self.hidden_dims:\n",
    "            x = self.act_fn(nn.Dense(hidden_dim)(x))\n",
    "\n",
    "        assert condition is not None, \"No condition sequence was passed.\"\n",
    "        condition_forward = condition[:, 0, : self.split_dim]  # the first split_dim elements are the source data points\n",
    "        condition_attention = condition[..., self.split_dim :]  # the remaining elements are conditions\n",
    "\n",
    "        for cond_dim in self.condition_dims_forward:\n",
    "            condition_forward = self.act_fn(nn.Dense(cond_dim)(condition_forward))\n",
    "\n",
    "        token_shape = (len(condition_attention), 1) if condition_attention.ndim > 2 else (1,)\n",
    "        class_token = nn.Embed(num_embeddings=1, features=condition_attention.shape[-1])(\n",
    "            jnp.int32(jnp.zeros(token_shape))\n",
    "        )\n",
    "\n",
    "        condition_attention = jnp.concatenate((class_token, condition_attention), axis=-2)\n",
    "        mask = self.get_masks(condition_attention)\n",
    "\n",
    "        attention = nn.MultiHeadDotProductAttention(num_heads=self.num_heads, qkv_features=self.qkv_feature_dim)\n",
    "        emb = attention(condition_attention, mask=mask)\n",
    "        emb = emb[:, 0, :]  # only continue with token 0\n",
    "        for cond_dim in self.condition_dims_post_attention:\n",
    "            condition = self.act_fn(nn.Dense(cond_dim)(emb))\n",
    "\n",
    "        cond_all = jnp.concatenate((condition_forward, condition), axis=1)\n",
    "        for cond_dim in self.condition_dims:\n",
    "            condition = self.act_fn(nn.Dense(cond_dim)(cond_all))\n",
    "\n",
    "        feats = jnp.concatenate([t, x, condition], axis=1)\n",
    "\n",
    "        for output_dim in self.output_dims[:-1]:\n",
    "            feats = self.act_fn(nn.Dense(output_dim)(feats))\n",
    "\n",
    "        # no activation function for the final layer\n",
    "        out = nn.Dense(self.output_dims[-1])(feats)\n",
    "        return jnp.squeeze(out) if squeeze_output else out\n",
    "\n",
    "    def create_train_state(\n",
    "        self,\n",
    "        rng: jax.Array,\n",
    "        optimizer: optax.OptState,\n",
    "        input_dim: int,\n",
    "        condition_dim: Optional[int] = None,\n",
    "    ) -> train_state.TrainState:\n",
    "        \"\"\"Create the training state.\n",
    "\n",
    "        Args:\n",
    "          rng: Random number generator.\n",
    "          optimizer: Optimizer.\n",
    "          input_dim: Dimensionality of the velocity field.\n",
    "          condition_dim: Dimensionality of the condition of the velocity field.\n",
    "\n",
    "        Returns\n",
    "        -------\n",
    "          The training state.\n",
    "        \"\"\"\n",
    "        t, x = jnp.ones((1, 1)), jnp.ones((1, input_dim))\n",
    "        if self.condition_dims is None:\n",
    "            cond = None\n",
    "        else:\n",
    "            assert condition_dim > 0, \"Condition dimension must be positive.\"\n",
    "            cond = jnp.ones((1, 1, condition_dim))\n",
    "\n",
    "        params = self.init(rng, t, x, cond)[\"params\"]\n",
    "        return train_state.TrainState.create(apply_fn=self.apply, params=params, tx=optimizer)"
   ]
  },
  {
   "cell_type": "code",
   "execution_count": 98,
   "id": "56be1259-b057-4c02-a36e-e80d4ab1b19d",
   "metadata": {},
   "outputs": [],
   "source": [
    "source_dim = source.shape[1]\n",
    "target_dim = source_dim\n",
    "condition_dim = condition_1.shape[1]\n",
    "\n",
    "vf = GENOTVelocityFieldWithAttention2(\n",
    "    split_dim=source_dim,\n",
    "    num_heads=1,\n",
    "    qkv_feature_dim=32,\n",
    "    max_seq_length=2,\n",
    "    hidden_dims=[1024, 1024, 1024],\n",
    "    output_dims=[1024, 1024, 1024, target_dim],\n",
    "    condition_dims=[512, 512],\n",
    "    condition_dims_forward=[512, 512],\n",
    "    condition_dims_post_attention=[64, 64],\n",
    "    time_encoder=functools.partial(time_encoder.cyclical_time_encoder, n_freqs=1024),\n",
    ")"
   ]
  },
  {
   "cell_type": "code",
   "execution_count": 102,
   "id": "73553bdd-0f28-4291-8a79-b997ce4aa93a",
   "metadata": {},
   "outputs": [],
   "source": [
    "model = genot.GENOT(\n",
    "    vf,\n",
    "    flow=dynamics.ConstantNoiseFlow(0.0),\n",
    "    data_match_fn=jax.jit(functools.partial(data_match_fn, typ=\"lin\", src_quad=None, tgt_quad=None)),\n",
    "    source_dim=source_dim,\n",
    "    target_dim=target_dim,\n",
    "    condition_dim=condition_dim,\n",
    "    rng=jax.random.PRNGKey(13),\n",
    "    optimizer=optax.MultiSteps(optax.adam(learning_rate=1e-4), 20),\n",
    ")"
   ]
  },
  {
   "cell_type": "code",
   "execution_count": 103,
   "id": "a5e7340b-9955-4fab-8734-4b631e4cddcc",
   "metadata": {},
   "outputs": [],
   "source": [
    "training_logs = {\"loss\": []}\n",
    "s_divs_valid = []\n",
    "valid_freq = 10000"
   ]
  },
  {
   "cell_type": "code",
   "execution_count": 104,
   "id": "5fb7531b-2f4b-422c-b988-f040b80d668e",
   "metadata": {},
   "outputs": [],
   "source": [
    "from typing import Dict, Tuple\n",
    "\n",
    "\n",
    "def prepare_data(\n",
    "    batch: Dict[str, jnp.ndarray],\n",
    ") -> Tuple[\n",
    "    Tuple[jnp.ndarray, Optional[jnp.ndarray], jnp.ndarray],\n",
    "    Tuple[jnp.ndarray, jnp.ndarray, Optional[jnp.ndarray], Optional[jnp.ndarray]],\n",
    "]:\n",
    "    src_lin, src_quad = batch.get(\"src_lin\"), batch.get(\"src_quad\")\n",
    "    tgt_lin, tgt_quad = batch.get(\"tgt_lin\"), batch.get(\"tgt_quad\")\n",
    "\n",
    "    if src_quad is None and tgt_quad is None:  # lin\n",
    "        src, tgt = src_lin, tgt_lin\n",
    "        arrs = src_lin, tgt_lin\n",
    "    elif src_lin is None and tgt_lin is None:  # quad\n",
    "        src, tgt = src_quad, tgt_quad\n",
    "        arrs = src_quad, tgt_quad\n",
    "    elif all(arr is not None for arr in (src_lin, tgt_lin, src_quad, tgt_quad)):  # fused quad\n",
    "        src = jnp.concatenate([src_lin, src_quad], axis=1)\n",
    "        tgt = jnp.concatenate([tgt_lin, tgt_quad], axis=1)\n",
    "        arrs = src_quad, tgt_quad, src_lin, tgt_lin\n",
    "    else:\n",
    "        raise RuntimeError(\"Cannot infer OT problem type from data.\")\n",
    "\n",
    "    return (src, batch.get(\"src_condition\"), tgt), arrs"
   ]
  },
  {
   "cell_type": "code",
   "execution_count": 105,
   "id": "64b158b6-9d20-49e0-8d39-359bdf429c6e",
   "metadata": {},
   "outputs": [
    {
     "name": "stderr",
     "output_type": "stream",
     "text": [
      "  6%|▌         | 6086/100000 [15:27<3:58:30,  6.56it/s] \n"
     ]
    },
    {
     "ename": "KeyboardInterrupt",
     "evalue": "",
     "output_type": "error",
     "traceback": [
      "\u001b[0;31m---------------------------------------------------------------------------\u001b[0m",
      "\u001b[0;31mKeyboardInterrupt\u001b[0m                         Traceback (most recent call last)",
      "Cell \u001b[0;32mIn[105], line 4\u001b[0m\n\u001b[1;32m      1\u001b[0m rng \u001b[38;5;241m=\u001b[39m jax\u001b[38;5;241m.\u001b[39mrandom\u001b[38;5;241m.\u001b[39mPRNGKey(\u001b[38;5;241m0\u001b[39m)\n\u001b[1;32m      2\u001b[0m \u001b[38;5;28;01mfor\u001b[39;00m it \u001b[38;5;129;01min\u001b[39;00m tqdm(\u001b[38;5;28mrange\u001b[39m(\u001b[38;5;241m100000\u001b[39m)):\n\u001b[0;32m----> 4\u001b[0m     batch \u001b[38;5;241m=\u001b[39m \u001b[38;5;28mnext\u001b[39m(\u001b[38;5;28miter\u001b[39m(train_loader))\n\u001b[1;32m      5\u001b[0m     batch \u001b[38;5;241m=\u001b[39m jtu\u001b[38;5;241m.\u001b[39mtree_map(jnp\u001b[38;5;241m.\u001b[39masarray, batch)\n\u001b[1;32m      6\u001b[0m     rng \u001b[38;5;241m=\u001b[39m jax\u001b[38;5;241m.\u001b[39mrandom\u001b[38;5;241m.\u001b[39msplit(rng, \u001b[38;5;241m5\u001b[39m)\n",
      "File \u001b[0;32m~/git_repos/ot_pert_new/src/ot_pert/utils.py:30\u001b[0m, in \u001b[0;36mConditionalLoader.__next__\u001b[0;34m(self)\u001b[0m\n\u001b[1;32m     27\u001b[0m idx \u001b[38;5;241m=\u001b[39m \u001b[38;5;28mint\u001b[39m(jax\u001b[38;5;241m.\u001b[39mrandom\u001b[38;5;241m.\u001b[39mchoice(rng, \u001b[38;5;28mlen\u001b[39m(\u001b[38;5;28mself\u001b[39m\u001b[38;5;241m.\u001b[39mdataloaders)))\n\u001b[1;32m     28\u001b[0m dl \u001b[38;5;241m=\u001b[39m \u001b[38;5;28mself\u001b[39m\u001b[38;5;241m.\u001b[39mdataloaders[idx]\n\u001b[0;32m---> 30\u001b[0m \u001b[38;5;28;01mreturn\u001b[39;00m \u001b[38;5;28mnext\u001b[39m(\u001b[38;5;28miter\u001b[39m(dl))\n",
      "File \u001b[0;32m~/mambaforge/envs/ot_pert_genot/lib/python3.12/site-packages/torch/utils/data/dataloader.py:631\u001b[0m, in \u001b[0;36m_BaseDataLoaderIter.__next__\u001b[0;34m(self)\u001b[0m\n\u001b[1;32m    628\u001b[0m \u001b[38;5;28;01mif\u001b[39;00m \u001b[38;5;28mself\u001b[39m\u001b[38;5;241m.\u001b[39m_sampler_iter \u001b[38;5;129;01mis\u001b[39;00m \u001b[38;5;28;01mNone\u001b[39;00m:\n\u001b[1;32m    629\u001b[0m     \u001b[38;5;66;03m# TODO(https://github.com/pytorch/pytorch/issues/76750)\u001b[39;00m\n\u001b[1;32m    630\u001b[0m     \u001b[38;5;28mself\u001b[39m\u001b[38;5;241m.\u001b[39m_reset()  \u001b[38;5;66;03m# type: ignore[call-arg]\u001b[39;00m\n\u001b[0;32m--> 631\u001b[0m data \u001b[38;5;241m=\u001b[39m \u001b[38;5;28mself\u001b[39m\u001b[38;5;241m.\u001b[39m_next_data()\n\u001b[1;32m    632\u001b[0m \u001b[38;5;28mself\u001b[39m\u001b[38;5;241m.\u001b[39m_num_yielded \u001b[38;5;241m+\u001b[39m\u001b[38;5;241m=\u001b[39m \u001b[38;5;241m1\u001b[39m\n\u001b[1;32m    633\u001b[0m \u001b[38;5;28;01mif\u001b[39;00m \u001b[38;5;28mself\u001b[39m\u001b[38;5;241m.\u001b[39m_dataset_kind \u001b[38;5;241m==\u001b[39m _DatasetKind\u001b[38;5;241m.\u001b[39mIterable \u001b[38;5;129;01mand\u001b[39;00m \\\n\u001b[1;32m    634\u001b[0m         \u001b[38;5;28mself\u001b[39m\u001b[38;5;241m.\u001b[39m_IterableDataset_len_called \u001b[38;5;129;01mis\u001b[39;00m \u001b[38;5;129;01mnot\u001b[39;00m \u001b[38;5;28;01mNone\u001b[39;00m \u001b[38;5;129;01mand\u001b[39;00m \\\n\u001b[1;32m    635\u001b[0m         \u001b[38;5;28mself\u001b[39m\u001b[38;5;241m.\u001b[39m_num_yielded \u001b[38;5;241m>\u001b[39m \u001b[38;5;28mself\u001b[39m\u001b[38;5;241m.\u001b[39m_IterableDataset_len_called:\n",
      "File \u001b[0;32m~/mambaforge/envs/ot_pert_genot/lib/python3.12/site-packages/torch/utils/data/dataloader.py:675\u001b[0m, in \u001b[0;36m_SingleProcessDataLoaderIter._next_data\u001b[0;34m(self)\u001b[0m\n\u001b[1;32m    673\u001b[0m \u001b[38;5;28;01mdef\u001b[39;00m \u001b[38;5;21m_next_data\u001b[39m(\u001b[38;5;28mself\u001b[39m):\n\u001b[1;32m    674\u001b[0m     index \u001b[38;5;241m=\u001b[39m \u001b[38;5;28mself\u001b[39m\u001b[38;5;241m.\u001b[39m_next_index()  \u001b[38;5;66;03m# may raise StopIteration\u001b[39;00m\n\u001b[0;32m--> 675\u001b[0m     data \u001b[38;5;241m=\u001b[39m \u001b[38;5;28mself\u001b[39m\u001b[38;5;241m.\u001b[39m_dataset_fetcher\u001b[38;5;241m.\u001b[39mfetch(index)  \u001b[38;5;66;03m# may raise StopIteration\u001b[39;00m\n\u001b[1;32m    676\u001b[0m     \u001b[38;5;28;01mif\u001b[39;00m \u001b[38;5;28mself\u001b[39m\u001b[38;5;241m.\u001b[39m_pin_memory:\n\u001b[1;32m    677\u001b[0m         data \u001b[38;5;241m=\u001b[39m _utils\u001b[38;5;241m.\u001b[39mpin_memory\u001b[38;5;241m.\u001b[39mpin_memory(data, \u001b[38;5;28mself\u001b[39m\u001b[38;5;241m.\u001b[39m_pin_memory_device)\n",
      "File \u001b[0;32m~/mambaforge/envs/ot_pert_genot/lib/python3.12/site-packages/torch/utils/data/_utils/fetch.py:51\u001b[0m, in \u001b[0;36m_MapDatasetFetcher.fetch\u001b[0;34m(self, possibly_batched_index)\u001b[0m\n\u001b[1;32m     49\u001b[0m         data \u001b[38;5;241m=\u001b[39m \u001b[38;5;28mself\u001b[39m\u001b[38;5;241m.\u001b[39mdataset\u001b[38;5;241m.\u001b[39m__getitems__(possibly_batched_index)\n\u001b[1;32m     50\u001b[0m     \u001b[38;5;28;01melse\u001b[39;00m:\n\u001b[0;32m---> 51\u001b[0m         data \u001b[38;5;241m=\u001b[39m [\u001b[38;5;28mself\u001b[39m\u001b[38;5;241m.\u001b[39mdataset[idx] \u001b[38;5;28;01mfor\u001b[39;00m idx \u001b[38;5;129;01min\u001b[39;00m possibly_batched_index]\n\u001b[1;32m     52\u001b[0m \u001b[38;5;28;01melse\u001b[39;00m:\n\u001b[1;32m     53\u001b[0m     data \u001b[38;5;241m=\u001b[39m \u001b[38;5;28mself\u001b[39m\u001b[38;5;241m.\u001b[39mdataset[possibly_batched_index]\n",
      "File \u001b[0;32m~/mambaforge/envs/ot_pert_genot/lib/python3.12/site-packages/ott/neural/datasets.py:114\u001b[0m, in \u001b[0;36mOTDataset.__getitem__\u001b[0;34m(self, ix)\u001b[0m\n\u001b[1;32m    111\u001b[0m src \u001b[38;5;241m=\u001b[39m \u001b[38;5;28mself\u001b[39m\u001b[38;5;241m.\u001b[39msrc_data[ix]\n\u001b[1;32m    112\u001b[0m src \u001b[38;5;241m=\u001b[39m {\u001b[38;5;124mf\u001b[39m\u001b[38;5;124m\"\u001b[39m\u001b[38;5;132;01m{\u001b[39;00m\u001b[38;5;28mself\u001b[39m\u001b[38;5;241m.\u001b[39mSRC_PREFIX\u001b[38;5;132;01m}\u001b[39;00m\u001b[38;5;124m_\u001b[39m\u001b[38;5;132;01m{\u001b[39;00mk\u001b[38;5;132;01m}\u001b[39;00m\u001b[38;5;124m\"\u001b[39m: v \u001b[38;5;28;01mfor\u001b[39;00m k, v \u001b[38;5;129;01min\u001b[39;00m src\u001b[38;5;241m.\u001b[39mitems()}\n\u001b[0;32m--> 114\u001b[0m tgt \u001b[38;5;241m=\u001b[39m \u001b[38;5;28mself\u001b[39m\u001b[38;5;241m.\u001b[39mtgt_data[ix] \u001b[38;5;28;01mif\u001b[39;00m \u001b[38;5;28mself\u001b[39m\u001b[38;5;241m.\u001b[39mis_aligned \u001b[38;5;28;01melse\u001b[39;00m \u001b[38;5;28mself\u001b[39m\u001b[38;5;241m.\u001b[39m_sample_from_target(ix)\n\u001b[1;32m    115\u001b[0m tgt \u001b[38;5;241m=\u001b[39m {\u001b[38;5;124mf\u001b[39m\u001b[38;5;124m\"\u001b[39m\u001b[38;5;132;01m{\u001b[39;00m\u001b[38;5;28mself\u001b[39m\u001b[38;5;241m.\u001b[39mTGT_PREFIX\u001b[38;5;132;01m}\u001b[39;00m\u001b[38;5;124m_\u001b[39m\u001b[38;5;132;01m{\u001b[39;00mk\u001b[38;5;132;01m}\u001b[39;00m\u001b[38;5;124m\"\u001b[39m: v \u001b[38;5;28;01mfor\u001b[39;00m k, v \u001b[38;5;129;01min\u001b[39;00m tgt\u001b[38;5;241m.\u001b[39mitems()}\n\u001b[1;32m    117\u001b[0m \u001b[38;5;28;01mreturn\u001b[39;00m {\u001b[38;5;241m*\u001b[39m\u001b[38;5;241m*\u001b[39msrc, \u001b[38;5;241m*\u001b[39m\u001b[38;5;241m*\u001b[39mtgt}\n",
      "File \u001b[0;32m~/mambaforge/envs/ot_pert_genot/lib/python3.12/site-packages/ott/neural/datasets.py:107\u001b[0m, in \u001b[0;36mOTDataset._sample_from_target\u001b[0;34m(self, src_ix)\u001b[0m\n\u001b[1;32m    105\u001b[0m src_cond \u001b[38;5;241m=\u001b[39m \u001b[38;5;28mself\u001b[39m\u001b[38;5;241m.\u001b[39msrc_conditions[src_ix]\n\u001b[1;32m    106\u001b[0m tgt_ixs \u001b[38;5;241m=\u001b[39m \u001b[38;5;28mself\u001b[39m\u001b[38;5;241m.\u001b[39m_tgt_cond_to_ix[src_cond]\n\u001b[0;32m--> 107\u001b[0m ix \u001b[38;5;241m=\u001b[39m \u001b[38;5;28mself\u001b[39m\u001b[38;5;241m.\u001b[39m_rng\u001b[38;5;241m.\u001b[39mchoice(tgt_ixs)\n\u001b[1;32m    108\u001b[0m \u001b[38;5;28;01mreturn\u001b[39;00m \u001b[38;5;28mself\u001b[39m\u001b[38;5;241m.\u001b[39mtgt_data[ix]\n",
      "\u001b[0;31mKeyboardInterrupt\u001b[0m: "
     ]
    }
   ],
   "source": [
    "rng = jax.random.PRNGKey(0)\n",
    "for it in tqdm(range(100000)):\n",
    "    batch = next(iter(train_loader))\n",
    "    batch = jtu.tree_map(jnp.asarray, batch)\n",
    "    rng = jax.random.split(rng, 5)\n",
    "    rng, rng_resample, rng_noise, rng_time, rng_step_fn = rng\n",
    "\n",
    "    batch = jtu.tree_map(jnp.asarray, batch)\n",
    "    (src, src_cond, tgt), matching_data = prepare_data(batch)\n",
    "\n",
    "    n = src.shape[0]\n",
    "    time = model.time_sampler(rng_time, n * model.n_samples_per_src)\n",
    "    latent = model.latent_noise_fn(rng_noise, (n, model.n_samples_per_src))\n",
    "\n",
    "    tmat = model.data_match_fn(*matching_data)  # (n, m)\n",
    "    src_ixs, tgt_ixs = solver_utils.sample_conditional(  # (n, k), (m, k)\n",
    "        rng_resample,\n",
    "        tmat,\n",
    "        k=model.n_samples_per_src,\n",
    "    )\n",
    "\n",
    "    src, tgt = src[src_ixs], tgt[tgt_ixs]  # (n, k, ...),  # (m, k, ...)\n",
    "    if src_cond is not None:\n",
    "        src_cond = src_cond[src_ixs]\n",
    "\n",
    "    if model.latent_match_fn is not None:\n",
    "        src, src_cond, tgt = model._match_latent(rng, src, src_cond, latent, tgt)\n",
    "\n",
    "    src = src.reshape(-1, *src.shape[2:])  # (n * k, ...)\n",
    "    tgt = tgt.reshape(-1, *tgt.shape[2:])  # (m * k, ...)\n",
    "    latent = latent.reshape(-1, *latent.shape[2:])\n",
    "    if src_cond is not None:\n",
    "        src_cond = src_cond.reshape(-1, *src_cond.shape[2:])\n",
    "\n",
    "    src = jnp.tile(jnp.expand_dims(src, 1), (1, 2, 1))\n",
    "\n",
    "    loss, model.vf_state = model.step_fn(rng_step_fn, model.vf_state, time, src, tgt, latent, src_cond)\n",
    "\n",
    "    training_logs[\"loss\"].append(float(loss))"
   ]
  },
  {
   "cell_type": "code",
   "execution_count": 106,
   "id": "73610244-e6e9-4de4-8b9c-088dca26a131",
   "metadata": {},
   "outputs": [
    {
     "data": {
      "text/plain": [
       "[<matplotlib.lines.Line2D at 0x7fac9b876ba0>]"
      ]
     },
     "execution_count": 106,
     "metadata": {},
     "output_type": "execute_result"
    },
    {
     "data": {
      "image/png": "[encoded data removed]",
      "text/plain": [
       "<Figure size 640x480 with 1 Axes>"
      ]
     },
     "metadata": {},
     "output_type": "display_data"
    }
   ],
   "source": [
    "import matplotlib.pyplot as plt\n",
    "\n",
    "plt.plot(np.arange(len(training_logs[\"loss\"])), training_logs[\"loss\"])"
   ]
  },
  {
   "cell_type": "code",
   "execution_count": null,
   "id": "094ca7ce-a50c-432d-928e-913574463387",
   "metadata": {},
   "outputs": [],
   "source": []
  },
  {
   "cell_type": "code",
   "execution_count": 107,
   "id": "430a9884-8355-4956-81b2-8b6481e4574f",
   "metadata": {},
   "outputs": [
    {
     "name": "stderr",
     "output_type": "stream",
     "text": [
      "/home/icb/dominik.klein/mambaforge/envs/ot_pert_genot/lib/python3.12/site-packages/anndata/__init__.py:51: FutureWarning: `anndata.read` is deprecated, use `anndata.read_h5ad` instead. `ad.read` will be removed in mid 2024.\n",
      "  warnings.warn(\n"
     ]
    }
   ],
   "source": [
    "test_data_source = {}\n",
    "test_data_target = {}\n",
    "test_data_conditions = {}\n",
    "adata_test = sc.read(\"/lustre/groups/ml01/workspace/ot_perturbation/data/combosciplex/adata_test.h5ad\")\n",
    "source = adata_test[adata_test.obs[\"condition\"] == \"control\"].obsm[\"X_pca\"]\n",
    "for cond in adata_test.obs[\"condition\"].cat.categories:\n",
    "    if cond == \"control\":\n",
    "        continue\n",
    "    target = adata_test[adata_test.obs[\"condition\"] == cond].obsm[\"X_pca\"]\n",
    "    condition_1 = adata_test[adata_test.obs[\"condition\"] == cond].obsm[\"ecfp_drug_1\"]\n",
    "    condition_2 = adata_test[adata_test.obs[\"condition\"] == cond].obsm[\"ecfp_drug_2\"]\n",
    "    assert np.all(np.all(condition_1 == condition_1[0], axis=1))\n",
    "    assert np.all(np.all(condition_2 == condition_2[0], axis=1))\n",
    "    expanded_arr = np.expand_dims(\n",
    "        np.concatenate((condition_1[0, :][None, :], condition_2[0, :][None, :]), axis=0), axis=0\n",
    "    )\n",
    "    conds = np.tile(expanded_arr, (len(source), 1, 1))\n",
    "    test_data_source[cond] = source\n",
    "    test_data_target[cond] = target\n",
    "    test_data_conditions[cond] = conds"
   ]
  },
  {
   "cell_type": "code",
   "execution_count": 111,
   "id": "35a6dd24-3643-416d-bb91-3ef9639936f4",
   "metadata": {},
   "outputs": [],
   "source": [
    "test_data_source_tiled = jax.tree_util.tree_map(lambda x: jnp.tile(jnp.expand_dims(x, 1), (1, 2, 1)), test_data_source)"
   ]
  },
  {
   "cell_type": "code",
   "execution_count": 112,
   "id": "8a8817e3-36d3-46d0-82b5-53bb167382ed",
   "metadata": {},
   "outputs": [],
   "source": [
    "predicted_target_test = jax.tree_util.tree_map(model.transport, test_data_source_tiled, test_data_conditions)"
   ]
  },
  {
   "cell_type": "code",
   "execution_count": 113,
   "id": "8c1b3ce8-59de-4687-ae0a-e63af2a70756",
   "metadata": {},
   "outputs": [],
   "source": [
    "from ot_pert.metrics import compute_mean_metrics, compute_metrics_fast"
   ]
  },
  {
   "cell_type": "code",
   "execution_count": 114,
   "id": "c6e30733-2f67-4115-8608-95fdad920096",
   "metadata": {},
   "outputs": [],
   "source": [
    "metrics = jax.tree_util.tree_map(compute_metrics_fast, test_data_target, predicted_target_test)"
   ]
  },
  {
   "cell_type": "code",
   "execution_count": 116,
   "id": "c1cd132e-2fb2-44bf-89cc-4677d2dfc4b7",
   "metadata": {},
   "outputs": [
    {
     "data": {
      "text/plain": [
       "{'r_squared': 0.9505661802227665,\n",
       " 'e_distance': 1.178403027925843,\n",
       " 'mmd_distance': 0.01134050096761651}"
      ]
     },
     "execution_count": 116,
     "metadata": {},
     "output_type": "execute_result"
    }
   ],
   "source": [
    "compute_mean_metrics(metrics)"
   ]
  },
  {
   "cell_type": "code",
   "execution_count": 117,
   "id": "2c588ce6-2130-4cda-ad11-abb7c740fe53",
   "metadata": {},
   "outputs": [
    {
     "name": "stderr",
     "output_type": "stream",
     "text": [
      "/home/icb/dominik.klein/mambaforge/envs/ot_pert_genot/lib/python3.12/site-packages/anndata/__init__.py:51: FutureWarning: `anndata.read` is deprecated, use `anndata.read_h5ad` instead. `ad.read` will be removed in mid 2024.\n",
      "  warnings.warn(\n"
     ]
    }
   ],
   "source": [
    "ood_data_source = {}\n",
    "ood_data_target = {}\n",
    "ood_data_conditions = {}\n",
    "adata_ood = sc.read(\"/lustre/groups/ml01/workspace/ot_perturbation/data/combosciplex/adata_ood.h5ad\")\n",
    "source = adata_ood[adata_ood.obs[\"condition\"] == \"control\"].obsm[\"X_pca\"]\n",
    "for cond in adata_ood.obs[\"condition\"].cat.categories:\n",
    "    if cond == \"control\":\n",
    "        continue\n",
    "    target = adata_ood[adata_ood.obs[\"condition\"] == cond].obsm[\"X_pca\"]\n",
    "    condition_1 = adata_ood[adata_ood.obs[\"condition\"] == cond].obsm[\"ecfp_drug_1\"]\n",
    "    condition_2 = adata_ood[adata_ood.obs[\"condition\"] == cond].obsm[\"ecfp_drug_2\"]\n",
    "    assert np.all(np.all(condition_1 == condition_1[0], axis=1))\n",
    "    assert np.all(np.all(condition_2 == condition_2[0], axis=1))\n",
    "    expanded_arr = np.expand_dims(\n",
    "        np.concatenate((condition_1[0, :][None, :], condition_2[0, :][None, :]), axis=0), axis=0\n",
    "    )\n",
    "    conds = np.tile(expanded_arr, (len(source), 1, 1))\n",
    "    ood_data_source[cond] = source\n",
    "    ood_data_target[cond] = target\n",
    "    ood_data_conditions[cond] = conds"
   ]
  },
  {
   "cell_type": "code",
   "execution_count": 118,
   "id": "7bda3c7a-f0ad-48c5-99b3-bb2869c5d7ce",
   "metadata": {},
   "outputs": [],
   "source": [
    "ood_data_source_tiled = jax.tree_util.tree_map(lambda x: jnp.tile(jnp.expand_dims(x, 1), (1, 2, 1)), ood_data_source)"
   ]
  },
  {
   "cell_type": "code",
   "execution_count": 119,
   "id": "578118b5-ec8e-41cb-961e-0e13956e5daf",
   "metadata": {},
   "outputs": [],
   "source": [
    "predicted_target_ood = jax.tree_util.tree_map(model.transport, ood_data_source_tiled, ood_data_conditions)"
   ]
  },
  {
   "cell_type": "code",
   "execution_count": 120,
   "id": "f6da1d24-caa2-4a6e-9f58-5e39c5be995b",
   "metadata": {},
   "outputs": [],
   "source": [
    "metrics = jax.tree_util.tree_map(compute_metrics_fast, ood_data_target, predicted_target_ood)"
   ]
  },
  {
   "cell_type": "code",
   "execution_count": 121,
   "id": "e0f0e91e-3e69-4df3-9237-0f63354da673",
   "metadata": {},
   "outputs": [
    {
     "data": {
      "text/plain": [
       "{'r_squared': 0.4976348736007222,\n",
       " 'e_distance': 14.759638180738397,\n",
       " 'mmd_distance': 0.031664483016373646}"
      ]
     },
     "execution_count": 121,
     "metadata": {},
     "output_type": "execute_result"
    }
   ],
   "source": [
    "compute_mean_metrics(metrics)"
   ]
  },
  {
   "cell_type": "code",
   "execution_count": null,
   "id": "96d5b191-158d-4bf4-a7a7-6da84499191e",
   "metadata": {},
   "outputs": [],
   "source": []
  }
 ],
 "metadata": {
  "kernelspec": {
   "display_name": "ot_pert_genot",
   "language": "python",
   "name": "ot_pert_genot"
  },
  "language_info": {
   "codemirror_mode": {
    "name": "ipython",
    "version": 3
   },
   "file_extension": ".py",
   "mimetype": "text/x-python",
   "name": "python",
   "nbconvert_exporter": "python",
   "pygments_lexer": "ipython3",
   "version": "3.12.2"
  }
 },
 "nbformat": 4,
 "nbformat_minor": 5
}
