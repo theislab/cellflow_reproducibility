{
 "cells": [
  {
   "cell_type": "code",
   "execution_count": 1,
   "id": "5877735c-40ce-4342-adbd-088b7d162a86",
   "metadata": {},
   "outputs": [],
   "source": [
    "import functools\n",
    "from typing import Literal, Optional\n",
    "\n",
    "import jax\n",
    "import jax.numpy as jnp\n",
    "import numpy as np\n",
    "import optax\n",
    "import scanpy as sc\n",
    "from flax import linen as nn\n",
    "from flax.training import train_state\n",
    "from ott.neural import datasets\n",
    "from ott.neural.methods.flows import dynamics, genot\n",
    "from ott.neural.networks.layers import time_encoder\n",
    "from ott.solvers import utils as solver_utils\n",
    "from torch.utils.data import DataLoader\n",
    "from tqdm import tqdm\n",
    "\n",
    "from ot_pert.utils import ConditionalLoader\n",
    "from ot_pert.nets.nets import GENOTVelocityFieldWithAttention"
   ]
  },
  {
   "cell_type": "code",
   "execution_count": 2,
   "id": "243f4031-8e40-4eac-a874-bc836e4188a8",
   "metadata": {},
   "outputs": [
    {
     "name": "stderr",
     "output_type": "stream",
     "text": [
      "/home/icb/dominik.klein/mambaforge/envs/ot_pert_genot/lib/python3.12/site-packages/anndata/__init__.py:51: FutureWarning: `anndata.read` is deprecated, use `anndata.read_h5ad` instead. `ad.read` will be removed in mid 2024.\n",
      "  warnings.warn(\n",
      "2024-04-24 14:27:51.054036: W external/xla/xla/service/gpu/nvptx_compiler.cc:718] The NVIDIA driver's CUDA version is 12.3 which is older than the ptxas CUDA version (12.4.131). Because the driver is older than the ptxas version, XLA is disabling parallel compilation, which may slow down compilation. You should update your NVIDIA driver or use the NVIDIA-provided CUDA forward compatibility packages.\n"
     ]
    }
   ],
   "source": [
    "def data_match_fn(\n",
    "    src_lin: Optional[jnp.ndarray],\n",
    "    tgt_lin: Optional[jnp.ndarray],\n",
    "    src_quad: Optional[jnp.ndarray],\n",
    "    tgt_quad: Optional[jnp.ndarray],\n",
    "    *,\n",
    "    typ: Literal[\"lin\", \"quad\", \"fused\"],\n",
    ") -> jnp.ndarray:\n",
    "    if typ == \"lin\":\n",
    "        return solver_utils.match_linear(x=src_lin, y=tgt_lin, scale_cost=\"mean\")\n",
    "    if typ == \"quad\":\n",
    "        return solver_utils.match_quadratic(xx=src_quad, yy=tgt_quad)\n",
    "    if typ == \"fused\":\n",
    "        return solver_utils.match_quadratic(xx=src_quad, yy=tgt_quad, x=src_lin, y=tgt_lin)\n",
    "    raise NotImplementedError(f\"Unknown type: {typ}.\")\n",
    "\n",
    "\n",
    "adata_train = sc.read(\"/lustre/groups/ml01/workspace/ot_perturbation/data/combosciplex/adata_train.h5ad\")\n",
    "dls = []\n",
    "source = adata_train[adata_train.obs[\"condition\"] == \"control\"].obsm[\"X_pca\"]\n",
    "\n",
    "for cond in adata_train.obs[\"condition\"].cat.categories:\n",
    "    if cond == \"control\":\n",
    "        continue\n",
    "    target = adata_train[adata_train.obs[\"condition\"] == cond].obsm[\"X_pca\"]\n",
    "    condition_1 = adata_train[adata_train.obs[\"condition\"] == cond].obsm[\"ecfp_drug_1\"]\n",
    "    condition_2 = adata_train[adata_train.obs[\"condition\"] == cond].obsm[\"ecfp_drug_2\"]\n",
    "    assert np.all(np.all(condition_1 == condition_1[0], axis=1))\n",
    "    assert np.all(np.all(condition_2 == condition_2[0], axis=1))\n",
    "    expanded_arr = np.expand_dims(\n",
    "        np.concatenate((condition_1[0, :][None, :], condition_2[0, :][None, :]), axis=0), axis=0\n",
    "    )\n",
    "    conds = np.tile(expanded_arr, (len(source), 1, 1))\n",
    "    dls.append(\n",
    "        DataLoader(\n",
    "            datasets.OTDataset(\n",
    "                datasets.OTData(\n",
    "                    lin=source,\n",
    "                    condition=conds,\n",
    "                ),\n",
    "                datasets.OTData(lin=target),\n",
    "            ),\n",
    "            batch_size=1024,\n",
    "            shuffle=True,\n",
    "        )\n",
    "    )\n",
    "\n",
    "train_loader = ConditionalLoader(dls, seed=0)"
   ]
  },
  {
   "cell_type": "code",
   "execution_count": 3,
   "id": "56be1259-b057-4c02-a36e-e80d4ab1b19d",
   "metadata": {},
   "outputs": [],
   "source": [
    "source_dim = source.shape[1]\n",
    "target_dim = source_dim\n",
    "condition_dim = condition_1.shape[1]\n",
    "\n",
    "vf = GENOTVelocityFieldWithAttention(\n",
    "    split_dim=source_dim,\n",
    "    num_heads=1,\n",
    "    qkv_feature_dim=32,\n",
    "    max_seq_length=2,\n",
    "    hidden_dims=[1024, 1024, 1024],\n",
    "    output_dims=[1024, 1024, 1024, target_dim],\n",
    "    condition_dims=[512, 512],\n",
    "    condition_dims_forward=[512, 512],\n",
    "    condition_dims_post_attention=[64, 64],\n",
    "    time_encoder=functools.partial(time_encoder.cyclical_time_encoder, n_freqs=1024),\n",
    "    dropout_rate=0.1\n",
    ")"
   ]
  },
  {
   "cell_type": "code",
   "execution_count": 4,
   "id": "73553bdd-0f28-4291-8a79-b997ce4aa93a",
   "metadata": {},
   "outputs": [],
   "source": [
    "model = genot.GENOT(\n",
    "    vf,\n",
    "    flow=dynamics.ConstantNoiseFlow(0.0),\n",
    "    data_match_fn=jax.jit(functools.partial(data_match_fn, typ=\"lin\", src_quad=None, tgt_quad=None)),\n",
    "    source_dim=source_dim,\n",
    "    target_dim=target_dim,\n",
    "    condition_dim=condition_dim,\n",
    "    rng=jax.random.PRNGKey(13),\n",
    "    optimizer=optax.MultiSteps(optax.adam(learning_rate=1e-4), 20),\n",
    ")"
   ]
  },
  {
   "cell_type": "code",
   "execution_count": 5,
   "id": "a5e7340b-9955-4fab-8734-4b631e4cddcc",
   "metadata": {},
   "outputs": [],
   "source": [
    "training_logs = {\"loss\": []}\n",
    "s_divs_valid = []\n",
    "valid_freq = 10000"
   ]
  },
  {
   "cell_type": "code",
   "execution_count": 6,
   "id": "5fb7531b-2f4b-422c-b988-f040b80d668e",
   "metadata": {},
   "outputs": [],
   "source": [
    "from typing import Dict, Tuple\n",
    "\n",
    "\n",
    "def prepare_data(\n",
    "    batch: Dict[str, jnp.ndarray],\n",
    ") -> Tuple[\n",
    "    Tuple[jnp.ndarray, Optional[jnp.ndarray], jnp.ndarray],\n",
    "    Tuple[jnp.ndarray, jnp.ndarray, Optional[jnp.ndarray], Optional[jnp.ndarray]],\n",
    "]:\n",
    "    src_lin, src_quad = batch.get(\"src_lin\"), batch.get(\"src_quad\")\n",
    "    tgt_lin, tgt_quad = batch.get(\"tgt_lin\"), batch.get(\"tgt_quad\")\n",
    "\n",
    "    if src_quad is None and tgt_quad is None:  # lin\n",
    "        src, tgt = src_lin, tgt_lin\n",
    "        arrs = src_lin, tgt_lin\n",
    "    elif src_lin is None and tgt_lin is None:  # quad\n",
    "        src, tgt = src_quad, tgt_quad\n",
    "        arrs = src_quad, tgt_quad\n",
    "    elif all(arr is not None for arr in (src_lin, tgt_lin, src_quad, tgt_quad)):  # fused quad\n",
    "        src = jnp.concatenate([src_lin, src_quad], axis=1)\n",
    "        tgt = jnp.concatenate([tgt_lin, tgt_quad], axis=1)\n",
    "        arrs = src_quad, tgt_quad, src_lin, tgt_lin\n",
    "    else:\n",
    "        raise RuntimeError(\"Cannot infer OT problem type from data.\")\n",
    "\n",
    "    return (src, batch.get(\"src_condition\"), tgt), arrs"
   ]
  },
  {
   "cell_type": "code",
   "execution_count": 7,
   "id": "0a6a97bf-db29-4490-b0d9-28d051bf3492",
   "metadata": {},
   "outputs": [],
   "source": [
    "import jax.tree_util as jtu"
   ]
  },
  {
   "cell_type": "code",
   "execution_count": 8,
   "id": "64b158b6-9d20-49e0-8d39-359bdf429c6e",
   "metadata": {},
   "outputs": [
    {
     "name": "stderr",
     "output_type": "stream",
     "text": [
      "100%|██████████| 1000/1000 [03:26<00:00,  4.85it/s]\n"
     ]
    }
   ],
   "source": [
    "rng = jax.random.PRNGKey(0)\n",
    "for it in tqdm(range(1000)):\n",
    "    batch = next(iter(train_loader))\n",
    "    batch = jtu.tree_map(jnp.asarray, batch)\n",
    "    rng = jax.random.split(rng, 5)\n",
    "    rng, rng_resample, rng_noise, rng_time, rng_step_fn = rng\n",
    "\n",
    "    batch = jtu.tree_map(jnp.asarray, batch)\n",
    "    (src, src_cond, tgt), matching_data = prepare_data(batch)\n",
    "\n",
    "    n = src.shape[0]\n",
    "    time = model.time_sampler(rng_time, n * model.n_samples_per_src)\n",
    "    latent = model.latent_noise_fn(rng_noise, (n, model.n_samples_per_src))\n",
    "\n",
    "    tmat = model.data_match_fn(*matching_data)  # (n, m)\n",
    "    src_ixs, tgt_ixs = solver_utils.sample_conditional(  # (n, k), (m, k)\n",
    "        rng_resample,\n",
    "        tmat,\n",
    "        k=model.n_samples_per_src,\n",
    "    )\n",
    "\n",
    "    src, tgt = src[src_ixs], tgt[tgt_ixs]  # (n, k, ...),  # (m, k, ...)\n",
    "    if src_cond is not None:\n",
    "        src_cond = src_cond[src_ixs]\n",
    "\n",
    "    if model.latent_match_fn is not None:\n",
    "        src, src_cond, tgt = model._match_latent(rng, src, src_cond, latent, tgt)\n",
    "\n",
    "    src = src.reshape(-1, *src.shape[2:])  # (n * k, ...)\n",
    "    tgt = tgt.reshape(-1, *tgt.shape[2:])  # (m * k, ...)\n",
    "    latent = latent.reshape(-1, *latent.shape[2:])\n",
    "    if src_cond is not None:\n",
    "        src_cond = src_cond.reshape(-1, *src_cond.shape[2:])\n",
    "\n",
    "    src = jnp.tile(jnp.expand_dims(src, 1), (1, 2, 1))\n",
    "\n",
    "    loss, model.vf_state = model.step_fn(rng_step_fn, model.vf_state, time, src, tgt, latent, src_cond)\n",
    "\n",
    "    training_logs[\"loss\"].append(float(loss))"
   ]
  },
  {
   "cell_type": "code",
   "execution_count": 9,
   "id": "73610244-e6e9-4de4-8b9c-088dca26a131",
   "metadata": {},
   "outputs": [
    {
     "data": {
      "text/plain": [
       "[<matplotlib.lines.Line2D at 0x7f31c431a390>]"
      ]
     },
     "execution_count": 9,
     "metadata": {},
     "output_type": "execute_result"
    },
    {
     "data": {
      "image/png": "[encoded data removed]",
      "text/plain": [
       "<Figure size 640x480 with 1 Axes>"
      ]
     },
     "metadata": {},
     "output_type": "display_data"
    }
   ],
   "source": [
    "import matplotlib.pyplot as plt\n",
    "\n",
    "plt.plot(np.arange(len(training_logs[\"loss\"])), training_logs[\"loss\"])"
   ]
  },
  {
   "cell_type": "code",
   "execution_count": null,
   "id": "094ca7ce-a50c-432d-928e-913574463387",
   "metadata": {},
   "outputs": [],
   "source": []
  },
  {
   "cell_type": "code",
   "execution_count": 10,
   "id": "430a9884-8355-4956-81b2-8b6481e4574f",
   "metadata": {},
   "outputs": [
    {
     "name": "stderr",
     "output_type": "stream",
     "text": [
      "/home/icb/dominik.klein/mambaforge/envs/ot_pert_genot/lib/python3.12/site-packages/anndata/__init__.py:51: FutureWarning: `anndata.read` is deprecated, use `anndata.read_h5ad` instead. `ad.read` will be removed in mid 2024.\n",
      "  warnings.warn(\n"
     ]
    }
   ],
   "source": [
    "test_data_source = {}\n",
    "test_data_target = {}\n",
    "test_data_conditions = {}\n",
    "adata_test = sc.read(\"/lustre/groups/ml01/workspace/ot_perturbation/data/combosciplex/adata_test.h5ad\")\n",
    "source = adata_test[adata_test.obs[\"condition\"] == \"control\"].obsm[\"X_pca\"]\n",
    "for cond in adata_test.obs[\"condition\"].cat.categories:\n",
    "    if cond == \"control\":\n",
    "        continue\n",
    "    target = adata_test[adata_test.obs[\"condition\"] == cond].obsm[\"X_pca\"]\n",
    "    condition_1 = adata_test[adata_test.obs[\"condition\"] == cond].obsm[\"ecfp_drug_1\"]\n",
    "    condition_2 = adata_test[adata_test.obs[\"condition\"] == cond].obsm[\"ecfp_drug_2\"]\n",
    "    assert np.all(np.all(condition_1 == condition_1[0], axis=1))\n",
    "    assert np.all(np.all(condition_2 == condition_2[0], axis=1))\n",
    "    expanded_arr = np.expand_dims(\n",
    "        np.concatenate((condition_1[0, :][None, :], condition_2[0, :][None, :]), axis=0), axis=0\n",
    "    )\n",
    "    conds = np.tile(expanded_arr, (len(source), 1, 1))\n",
    "    test_data_source[cond] = source\n",
    "    test_data_target[cond] = target\n",
    "    test_data_conditions[cond] = conds"
   ]
  },
  {
   "cell_type": "code",
   "execution_count": 11,
   "id": "35a6dd24-3643-416d-bb91-3ef9639936f4",
   "metadata": {},
   "outputs": [],
   "source": [
    "test_data_source_tiled = jax.tree_util.tree_map(lambda x: jnp.tile(jnp.expand_dims(x, 1), (1, 2, 1)), test_data_source)"
   ]
  },
  {
   "cell_type": "code",
   "execution_count": 15,
   "id": "8a8817e3-36d3-46d0-82b5-53bb167382ed",
   "metadata": {},
   "outputs": [],
   "source": [
    "predicted_target_test = jax.tree_util.tree_map(model.transport, test_data_source_tiled, test_data_conditions)"
   ]
  },
  {
   "cell_type": "code",
   "execution_count": 16,
   "id": "8c1b3ce8-59de-4687-ae0a-e63af2a70756",
   "metadata": {},
   "outputs": [],
   "source": [
    "from ot_pert.metrics import compute_mean_metrics, compute_metrics_fast"
   ]
  },
  {
   "cell_type": "code",
   "execution_count": 17,
   "id": "c6e30733-2f67-4115-8608-95fdad920096",
   "metadata": {},
   "outputs": [],
   "source": [
    "metrics = jax.tree_util.tree_map(compute_metrics_fast, test_data_target, predicted_target_test)"
   ]
  },
  {
   "cell_type": "code",
   "execution_count": 18,
   "id": "76221215-d566-4e9e-8b76-c261faf53608",
   "metadata": {},
   "outputs": [
    {
     "data": {
      "text/plain": [
       "{'r_squared': 0.9526334842052073,\n",
       " 'e_distance': 1.1838676804027275,\n",
       " 'mmd_distance': 0.010763765451701253}"
      ]
     },
     "execution_count": 18,
     "metadata": {},
     "output_type": "execute_result"
    }
   ],
   "source": [
    "compute_mean_metrics(metrics)"
   ]
  },
  {
   "cell_type": "code",
   "execution_count": 11,
   "id": "c4f79ee4-a049-4c7d-a602-6eba384cefac",
   "metadata": {},
   "outputs": [],
   "source": [
    "embs = jax.tree_util.tree_map(lambda x: vf.get_embedding(model.vf_state, x[0:1,...]), test_data_conditions)"
   ]
  },
  {
   "cell_type": "code",
   "execution_count": null,
   "id": "783bfd52-0725-4985-ae10-e67ba2ed6b9c",
   "metadata": {},
   "outputs": [],
   "source": []
  },
  {
   "cell_type": "code",
   "execution_count": null,
   "id": "da2b34c6-666b-4eac-8a92-5791128685f2",
   "metadata": {},
   "outputs": [],
   "source": []
  },
  {
   "cell_type": "code",
   "execution_count": 25,
   "id": "4a623bb4-3f2d-401b-86da-2ae17ab3e0f9",
   "metadata": {},
   "outputs": [
    {
     "data": {
      "text/plain": [
       "(1, 2, 1024)"
      ]
     },
     "execution_count": 25,
     "metadata": {},
     "output_type": "execute_result"
    }
   ],
   "source": [
    "test_data_conditions['Alvespimycin+Pirarubicin'][0:1, :, :].shape"
   ]
  },
  {
   "cell_type": "code",
   "execution_count": null,
   "id": "552c97ed-336a-4200-8f22-c08e33692df0",
   "metadata": {},
   "outputs": [],
   "source": []
  },
  {
   "cell_type": "code",
   "execution_count": null,
   "id": "0bd9a57c-0b14-4d3c-8eca-3bd12d9bfe81",
   "metadata": {},
   "outputs": [],
   "source": []
  },
  {
   "cell_type": "code",
   "execution_count": null,
   "id": "b451afaf-ee33-4c98-9fa5-3dcf04753b78",
   "metadata": {},
   "outputs": [],
   "source": []
  },
  {
   "cell_type": "code",
   "execution_count": 116,
   "id": "c1cd132e-2fb2-44bf-89cc-4677d2dfc4b7",
   "metadata": {},
   "outputs": [
    {
     "data": {
      "text/plain": [
       "{'r_squared': 0.9505661802227665,\n",
       " 'e_distance': 1.178403027925843,\n",
       " 'mmd_distance': 0.01134050096761651}"
      ]
     },
     "execution_count": 116,
     "metadata": {},
     "output_type": "execute_result"
    }
   ],
   "source": [
    "#compute_mean_metrics(metrics)"
   ]
  },
  {
   "cell_type": "code",
   "execution_count": 117,
   "id": "2c588ce6-2130-4cda-ad11-abb7c740fe53",
   "metadata": {},
   "outputs": [
    {
     "name": "stderr",
     "output_type": "stream",
     "text": [
      "/home/icb/dominik.klein/mambaforge/envs/ot_pert_genot/lib/python3.12/site-packages/anndata/__init__.py:51: FutureWarning: `anndata.read` is deprecated, use `anndata.read_h5ad` instead. `ad.read` will be removed in mid 2024.\n",
      "  warnings.warn(\n"
     ]
    }
   ],
   "source": [
    "ood_data_source = {}\n",
    "ood_data_target = {}\n",
    "ood_data_conditions = {}\n",
    "adata_ood = sc.read(\"/lustre/groups/ml01/workspace/ot_perturbation/data/combosciplex/adata_ood.h5ad\")\n",
    "source = adata_ood[adata_ood.obs[\"condition\"] == \"control\"].obsm[\"X_pca\"]\n",
    "for cond in adata_ood.obs[\"condition\"].cat.categories:\n",
    "    if cond == \"control\":\n",
    "        continue\n",
    "    target = adata_ood[adata_ood.obs[\"condition\"] == cond].obsm[\"X_pca\"]\n",
    "    condition_1 = adata_ood[adata_ood.obs[\"condition\"] == cond].obsm[\"ecfp_drug_1\"]\n",
    "    condition_2 = adata_ood[adata_ood.obs[\"condition\"] == cond].obsm[\"ecfp_drug_2\"]\n",
    "    assert np.all(np.all(condition_1 == condition_1[0], axis=1))\n",
    "    assert np.all(np.all(condition_2 == condition_2[0], axis=1))\n",
    "    expanded_arr = np.expand_dims(\n",
    "        np.concatenate((condition_1[0, :][None, :], condition_2[0, :][None, :]), axis=0), axis=0\n",
    "    )\n",
    "    conds = np.tile(expanded_arr, (len(source), 1, 1))\n",
    "    ood_data_source[cond] = source\n",
    "    ood_data_target[cond] = target\n",
    "    ood_data_conditions[cond] = conds"
   ]
  },
  {
   "cell_type": "code",
   "execution_count": 118,
   "id": "7bda3c7a-f0ad-48c5-99b3-bb2869c5d7ce",
   "metadata": {},
   "outputs": [],
   "source": [
    "ood_data_source_tiled = jax.tree_util.tree_map(lambda x: jnp.tile(jnp.expand_dims(x, 1), (1, 2, 1)), ood_data_source)"
   ]
  },
  {
   "cell_type": "code",
   "execution_count": 119,
   "id": "578118b5-ec8e-41cb-961e-0e13956e5daf",
   "metadata": {},
   "outputs": [],
   "source": [
    "predicted_target_ood = jax.tree_util.tree_map(model.transport, ood_data_source_tiled, ood_data_conditions)"
   ]
  },
  {
   "cell_type": "code",
   "execution_count": 120,
   "id": "f6da1d24-caa2-4a6e-9f58-5e39c5be995b",
   "metadata": {},
   "outputs": [],
   "source": [
    "metrics = jax.tree_util.tree_map(compute_metrics_fast, ood_data_target, predicted_target_ood)"
   ]
  },
  {
   "cell_type": "code",
   "execution_count": 121,
   "id": "e0f0e91e-3e69-4df3-9237-0f63354da673",
   "metadata": {},
   "outputs": [
    {
     "data": {
      "text/plain": [
       "{'r_squared': 0.4976348736007222,\n",
       " 'e_distance': 14.759638180738397,\n",
       " 'mmd_distance': 0.031664483016373646}"
      ]
     },
     "execution_count": 121,
     "metadata": {},
     "output_type": "execute_result"
    }
   ],
   "source": [
    "compute_mean_metrics(metrics)"
   ]
  },
  {
   "cell_type": "code",
   "execution_count": null,
   "id": "96d5b191-158d-4bf4-a7a7-6da84499191e",
   "metadata": {},
   "outputs": [],
   "source": []
  }
 ],
 "metadata": {
  "kernelspec": {
   "display_name": "ot_pert_genot",
   "language": "python",
   "name": "ot_pert_genot"
  },
  "language_info": {
   "codemirror_mode": {
    "name": "ipython",
    "version": 3
   },
   "file_extension": ".py",
   "mimetype": "text/x-python",
   "name": "python",
   "nbconvert_exporter": "python",
   "pygments_lexer": "ipython3",
   "version": "3.12.2"
  }
 },
 "nbformat": 4,
 "nbformat_minor": 5
}
