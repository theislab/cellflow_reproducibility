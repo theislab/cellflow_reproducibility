{
 "cells": [
  {
   "cell_type": "code",
   "execution_count": 1,
   "id": "61bc4d83-ca80-4308-bbe9-e52f520c4be4",
   "metadata": {},
   "outputs": [],
   "source": [
    "import functools\n",
    "from collections.abc import Iterable\n",
    "from typing import Literal, Optional\n",
    "\n",
    "import jax\n",
    "import jax.numpy as jnp\n",
    "import numpy as np\n",
    "import optax\n",
    "import scanpy as sc\n",
    "from ott.neural import datasets\n",
    "from ott.neural.methods.flows import dynamics, otfm\n",
    "from ott.neural.networks.layers import time_encoder\n",
    "from ott.solvers import utils as solver_utils\n",
    "from torch.utils.data import DataLoader\n",
    "from tqdm import tqdm\n",
    "\n",
    "\n",
    "class ConditionalLoader:\n",
    "    \"\"\"Dataset for OT problems with conditions.\n",
    "\n",
    "    This data loader wraps several data loaders and samples from them.\n",
    "\n",
    "    Args:\n",
    "      datasets: Datasets to sample from.\n",
    "      seed: Random seed.\n",
    "    \"\"\"\n",
    "\n",
    "    def __init__(\n",
    "        self,\n",
    "        dataloaders: Iterable[DataLoader],\n",
    "        seed: int = 0,\n",
    "    ):\n",
    "        self.dataloaders = tuple(dataloaders)\n",
    "        self._rng = jax.random.PRNGKey(seed)\n",
    "\n",
    "    def __next__(self):\n",
    "        rng, self._rng = jax.random.split(self._rng, 2)\n",
    "        idx = int(jax.random.choice(rng, len(self.dataloaders)))\n",
    "        dl = self.dataloaders[idx]\n",
    "\n",
    "        return next(iter(dl))\n",
    "\n",
    "    def __iter__(self) -> \"ConditionalLoader\":\n",
    "        return self\n",
    "\n",
    "    def __len__(self) -> int:\n",
    "        return 100000"
   ]
  },
  {
   "cell_type": "code",
   "execution_count": 2,
   "id": "243f4031-8e40-4eac-a874-bc836e4188a8",
   "metadata": {},
   "outputs": [
    {
     "name": "stderr",
     "output_type": "stream",
     "text": [
      "/home/icb/dominik.klein/mambaforge/envs/ot_pert_genot/lib/python3.12/site-packages/anndata/__init__.py:51: FutureWarning: `anndata.read` is deprecated, use `anndata.read_h5ad` instead. `ad.read` will be removed in mid 2024.\n",
      "  warnings.warn(\n",
      "2024-04-24 13:19:07.184272: W external/xla/xla/service/gpu/nvptx_compiler.cc:718] The NVIDIA driver's CUDA version is 12.3 which is older than the ptxas CUDA version (12.4.131). Because the driver is older than the ptxas version, XLA is disabling parallel compilation, which may slow down compilation. You should update your NVIDIA driver or use the NVIDIA-provided CUDA forward compatibility packages.\n"
     ]
    }
   ],
   "source": [
    "def data_match_fn(\n",
    "    src_lin: Optional[jnp.ndarray],\n",
    "    tgt_lin: Optional[jnp.ndarray],\n",
    "    src_quad: Optional[jnp.ndarray],\n",
    "    tgt_quad: Optional[jnp.ndarray],\n",
    "    *,\n",
    "    typ: Literal[\"lin\", \"quad\", \"fused\"],\n",
    ") -> jnp.ndarray:\n",
    "    if typ == \"lin\":\n",
    "        return solver_utils.match_linear(x=src_lin, y=tgt_lin, scale_cost=\"mean\")\n",
    "    if typ == \"quad\":\n",
    "        return solver_utils.match_quadratic(xx=src_quad, yy=tgt_quad)\n",
    "    if typ == \"fused\":\n",
    "        return solver_utils.match_quadratic(xx=src_quad, yy=tgt_quad, x=src_lin, y=tgt_lin)\n",
    "    raise NotImplementedError(f\"Unknown type: {typ}.\")\n",
    "\n",
    "\n",
    "adata_train = sc.read(\"/lustre/groups/ml01/workspace/ot_perturbation/data/combosciplex/adata_train.h5ad\")\n",
    "dls = []\n",
    "source = adata_train[adata_train.obs[\"condition\"] == \"control\"].obsm[\"X_pca\"]\n",
    "for cond in adata_train.obs[\"condition\"].cat.categories:\n",
    "    if cond == \"control\":\n",
    "        continue\n",
    "    target = adata_train[adata_train.obs[\"condition\"] == cond].obsm[\"X_pca\"]\n",
    "    condition_1 = adata_train[adata_train.obs[\"condition\"] == cond].obsm[\"ecfp_drug_1\"]\n",
    "    condition_2 = adata_train[adata_train.obs[\"condition\"] == cond].obsm[\"ecfp_drug_2\"]\n",
    "    assert np.all(np.all(condition_1 == condition_1[0], axis=1))\n",
    "    assert np.all(np.all(condition_2 == condition_2[0], axis=1))\n",
    "    expanded_arr = np.expand_dims(\n",
    "        np.concatenate((condition_1[0, :][None, :], condition_2[0, :][None, :]), axis=0), axis=0\n",
    "    )\n",
    "    conds = np.tile(expanded_arr, (len(source), 1, 1))\n",
    "    dls.append(\n",
    "        DataLoader(\n",
    "            datasets.OTDataset(\n",
    "                datasets.OTData(\n",
    "                    lin=source,\n",
    "                    condition=conds,\n",
    "                ),\n",
    "                datasets.OTData(lin=target),\n",
    "            )\n",
    "        )\n",
    "    )\n",
    "\n",
    "train_loader = ConditionalLoader(dls, seed=0)"
   ]
  },
  {
   "cell_type": "code",
   "execution_count": 3,
   "id": "f7e21cc5-c280-41b9-b844-c1844c6e429d",
   "metadata": {},
   "outputs": [],
   "source": [
    "batch = next(iter(train_loader))"
   ]
  },
  {
   "cell_type": "code",
   "execution_count": 4,
   "id": "b2925ccd-9dc5-4be4-a981-bdf71bd89af4",
   "metadata": {},
   "outputs": [
    {
     "data": {
      "text/plain": [
       "dict_keys(['src_lin', 'src_condition', 'tgt_lin'])"
      ]
     },
     "execution_count": 4,
     "metadata": {},
     "output_type": "execute_result"
    }
   ],
   "source": [
    "batch.keys()"
   ]
  },
  {
   "cell_type": "code",
   "execution_count": 5,
   "id": "8654fb4c-4622-4573-a939-bad430c842e3",
   "metadata": {},
   "outputs": [],
   "source": [
    "from ot_pert.nets.nets import VelocityFieldWithAttention"
   ]
  },
  {
   "cell_type": "code",
   "execution_count": 6,
   "id": "56be1259-b057-4c02-a36e-e80d4ab1b19d",
   "metadata": {},
   "outputs": [],
   "source": [
    "source_dim = source.shape[1]\n",
    "target_dim = source_dim\n",
    "condition_dim = condition_1.shape[1]\n",
    "\n",
    "vf = VelocityFieldWithAttention(\n",
    "    num_heads=1,\n",
    "    qkv_feature_dim=32,\n",
    "    max_seq_length=2,\n",
    "    hidden_dims=[512, 512, 512],\n",
    "    output_dims=[512, 512, target_dim],\n",
    "    condition_dims=[512, 512, 512],\n",
    "    time_encoder=functools.partial(time_encoder.cyclical_time_encoder, n_freqs=1024),\n",
    "    dropout_rate=0.2,\n",
    ")"
   ]
  },
  {
   "cell_type": "code",
   "execution_count": 7,
   "id": "73553bdd-0f28-4291-8a79-b997ce4aa93a",
   "metadata": {},
   "outputs": [],
   "source": [
    "model = otfm.OTFlowMatching(\n",
    "    vf,\n",
    "    flow=dynamics.ConstantNoiseFlow(0.0),\n",
    "    match_fn=jax.jit(functools.partial(data_match_fn, typ=\"lin\", src_quad=None, tgt_quad=None)),\n",
    "    condition_dim=condition_dim,\n",
    "    rng=jax.random.PRNGKey(13),\n",
    "    optimizer=optax.adam(learning_rate=1e-4),\n",
    ")"
   ]
  },
  {
   "cell_type": "code",
   "execution_count": 8,
   "id": "a5e7340b-9955-4fab-8734-4b631e4cddcc",
   "metadata": {},
   "outputs": [],
   "source": [
    "training_logs = {\"loss\": []}\n",
    "valid_freq = 10000000"
   ]
  },
  {
   "cell_type": "code",
   "execution_count": 10,
   "id": "47821b9f-79fc-4174-b30e-2a37f47217ae",
   "metadata": {},
   "outputs": [
    {
     "name": "stderr",
     "output_type": "stream",
     "text": [
      "100%|██████████| 50000/50000 [06:08<00:00, 135.79it/s]\n"
     ]
    }
   ],
   "source": [
    "import jax.tree_util as jtu\n",
    "\n",
    "rng = jax.random.PRNGKey(0)\n",
    "for it in tqdm(range(50000)):\n",
    "    rng, rng_resample, rng_step_fn = jax.random.split(rng, 3)\n",
    "    batch = next(iter(train_loader))\n",
    "    batch = jtu.tree_map(jnp.asarray, batch)\n",
    "\n",
    "    src, tgt = batch[\"src_lin\"], batch[\"tgt_lin\"]\n",
    "    src_cond = batch.get(\"src_condition\")\n",
    "\n",
    "    if model.match_fn is not None:\n",
    "        tmat = model.match_fn(src, tgt)\n",
    "        src_ixs, tgt_ixs = solver_utils.sample_joint(rng_resample, tmat)\n",
    "        src, tgt = src[src_ixs], tgt[tgt_ixs]\n",
    "        src_cond = None if src_cond is None else src_cond[src_ixs]\n",
    "\n",
    "    model.vf_state, loss = model.step_fn(\n",
    "        rng_step_fn,\n",
    "        model.vf_state,\n",
    "        src,\n",
    "        tgt,\n",
    "        src_cond,\n",
    "    )\n",
    "\n",
    "    training_logs[\"loss\"].append(float(loss))"
   ]
  },
  {
   "cell_type": "code",
   "execution_count": 11,
   "id": "430a9884-8355-4956-81b2-8b6481e4574f",
   "metadata": {},
   "outputs": [
    {
     "name": "stderr",
     "output_type": "stream",
     "text": [
      "/home/icb/dominik.klein/mambaforge/envs/ot_pert_genot/lib/python3.12/site-packages/anndata/__init__.py:51: FutureWarning: `anndata.read` is deprecated, use `anndata.read_h5ad` instead. `ad.read` will be removed in mid 2024.\n",
      "  warnings.warn(\n"
     ]
    }
   ],
   "source": [
    "test_data_source = {}\n",
    "test_data_target = {}\n",
    "test_data_conditions = {}\n",
    "adata_test = sc.read(\"/lustre/groups/ml01/workspace/ot_perturbation/data/combosciplex/adata_test.h5ad\")\n",
    "source = adata_test[adata_test.obs[\"condition\"] == \"control\"].obsm[\"X_pca\"]\n",
    "for cond in adata_test.obs[\"condition\"].cat.categories:\n",
    "    if cond == \"control\":\n",
    "        continue\n",
    "    target = adata_test[adata_test.obs[\"condition\"] == cond].obsm[\"X_pca\"]\n",
    "    condition_1 = adata_test[adata_test.obs[\"condition\"] == cond].obsm[\"ecfp_drug_1\"]\n",
    "    condition_2 = adata_test[adata_test.obs[\"condition\"] == cond].obsm[\"ecfp_drug_2\"]\n",
    "    assert np.all(np.all(condition_1 == condition_1[0], axis=1))\n",
    "    assert np.all(np.all(condition_2 == condition_2[0], axis=1))\n",
    "    expanded_arr = np.expand_dims(\n",
    "        np.concatenate((condition_1[0, :][None, :], condition_2[0, :][None, :]), axis=0), axis=0\n",
    "    )\n",
    "    conds = np.tile(expanded_arr, (len(source), 1, 1))\n",
    "    test_data_source[cond] = source\n",
    "    test_data_target[cond] = target\n",
    "    test_data_conditions[cond] = conds"
   ]
  },
  {
   "cell_type": "code",
   "execution_count": 13,
   "id": "a5a2be87-10f6-4796-a5ef-798aa2e5fdaa",
   "metadata": {},
   "outputs": [],
   "source": [
    "from ot_pert.metrics import compute_mean_metrics, compute_metrics_fast"
   ]
  },
  {
   "cell_type": "code",
   "execution_count": 18,
   "id": "9d230d44-2700-4cd5-b170-5384835829a0",
   "metadata": {},
   "outputs": [],
   "source": [
    "def reconstruct_data(embedding: np.ndarray, projection_matrix: np.ndarray, mean_to_add: np.ndarray) -> np.ndarray:\n",
    "    return np.matmul(embedding, projection_matrix.T) + mean_to_add\n",
    "\n",
    "\n",
    "reconstruct_data_fn = functools.partial(\n",
    "    reconstruct_data, projection_matrix=adata_train.varm[\"PCs\"], mean_to_add=adata_train.varm[\"X_train_mean\"].T\n",
    ")"
   ]
  },
  {
   "cell_type": "code",
   "execution_count": null,
   "id": "1f8a6f18-9e84-46fc-a297-46076947129f",
   "metadata": {},
   "outputs": [],
   "source": [
    "predicted_target_ood = jax.tree_util.tree_map(model.transport, test_data_source, test_data_conditions)\n",
    "test_metrics = jax.tree_util.tree_map(compute_metrics_fast, test_data_target, predicted_target_ood)\n",
    "mean_test_metrics = compute_mean_metrics(test_metrics, prefix=\"test_\")"
   ]
  },
  {
   "cell_type": "code",
   "execution_count": 19,
   "id": "96d5b191-158d-4bf4-a7a7-6da84499191e",
   "metadata": {},
   "outputs": [
    {
     "ename": "NameError",
     "evalue": "name 'test_data_target_decoded' is not defined",
     "output_type": "error",
     "traceback": [
      "\u001b[0;31m---------------------------------------------------------------------------\u001b[0m",
      "\u001b[0;31mNameError\u001b[0m                                 Traceback (most recent call last)",
      "Cell \u001b[0;32mIn[19], line 3\u001b[0m\n\u001b[1;32m      1\u001b[0m predicted_target_test_decoded \u001b[38;5;241m=\u001b[39m jax\u001b[38;5;241m.\u001b[39mtree_util\u001b[38;5;241m.\u001b[39mtree_map(reconstruct_data_fn, predicted_target_ood)\n\u001b[1;32m      2\u001b[0m test_metrics_decoded \u001b[38;5;241m=\u001b[39m jax\u001b[38;5;241m.\u001b[39mtree_util\u001b[38;5;241m.\u001b[39mtree_map(\n\u001b[0;32m----> 3\u001b[0m     compute_metrics_fast, test_data_target_decoded, predicted_target_test_decoded\n\u001b[1;32m      4\u001b[0m )\n\u001b[1;32m      5\u001b[0m mean_test_metrics_decoded \u001b[38;5;241m=\u001b[39m compute_mean_metrics(test_metrics_decoded, prefix\u001b[38;5;241m=\u001b[39m\u001b[38;5;124m\"\u001b[39m\u001b[38;5;124mdecoded_test_\u001b[39m\u001b[38;5;124m\"\u001b[39m)\n",
      "\u001b[0;31mNameError\u001b[0m: name 'test_data_target_decoded' is not defined"
     ]
    }
   ],
   "source": [
    "predicted_target_test_decoded = jax.tree_util.tree_map(reconstruct_data_fn, predicted_target_ood)\n",
    "test_metrics_decoded = jax.tree_util.tree_map(\n",
    "    compute_metrics_fast, test_data_target_decoded, predicted_target_test_decoded\n",
    ")\n",
    "mean_test_metrics_decoded = compute_mean_metrics(test_metrics_decoded, prefix=\"decoded_test_\")"
   ]
  },
  {
   "cell_type": "code",
   "execution_count": null,
   "id": "0a6187df-2b19-43e9-bc00-01c6c90f5f58",
   "metadata": {},
   "outputs": [],
   "source": [
    "mean_test_metrics_decoded"
   ]
  },
  {
   "cell_type": "code",
   "execution_count": null,
   "id": "c48c7be9-4eea-4a81-a6e0-3ebb6b377ef3",
   "metadata": {},
   "outputs": [],
   "source": [
    "mean_test_metrics"
   ]
  },
  {
   "cell_type": "code",
   "execution_count": 22,
   "id": "80a00801-5e96-4ecf-8fb8-3ea484e1381c",
   "metadata": {},
   "outputs": [],
   "source": [
    "embs = jax.tree_util.tree_map(lambda x: vf.get_embedding(model.vf_state, x[0]), test_data_conditions)"
   ]
  },
  {
   "cell_type": "code",
   "execution_count": 23,
   "id": "8ab82aec-1402-491a-82bd-a26da8e53ad6",
   "metadata": {},
   "outputs": [
    {
     "data": {
      "text/plain": [
       "{'Alvespimycin+Pirarubicin': Array([[-0.01111262, -0.01984059,  0.00402328, ..., -0.06305397,\n",
       "         -0.0452285 , -0.02433442],\n",
       "        [-0.01111262, -0.01984059,  0.00402328, ..., -0.06305397,\n",
       "         -0.0452285 , -0.02433442],\n",
       "        [-0.01111262, -0.01984059,  0.00402328, ..., -0.06305397,\n",
       "         -0.0452285 , -0.02433442]], dtype=float32),\n",
       " 'Dacinostat+Danusertib': Array([[ 0.04122573,  0.00685555,  0.04499897, ..., -0.06701037,\n",
       "         -0.08553509,  0.08969629],\n",
       "        [ 0.04122573,  0.00685555,  0.04499897, ..., -0.06701037,\n",
       "         -0.08553509,  0.08969629],\n",
       "        [ 0.04122573,  0.00685555,  0.04499897, ..., -0.06701037,\n",
       "         -0.08553509,  0.08969629]], dtype=float32),\n",
       " 'Dacinostat+Dasatinib': Array([[ 0.02645211, -0.01343745,  0.04022329, ..., -0.10119122,\n",
       "         -0.06401235,  0.13010481],\n",
       "        [ 0.02645211, -0.01343745,  0.04022329, ..., -0.10119122,\n",
       "         -0.06401235,  0.13010481],\n",
       "        [ 0.02645211, -0.01343745,  0.04022329, ..., -0.10119122,\n",
       "         -0.06401235,  0.13010481]], dtype=float32),\n",
       " 'Dacinostat+PCI-34051': Array([[ 0.04096897, -0.00680416,  0.05441938, ..., -0.06472235,\n",
       "         -0.08667087,  0.09541781],\n",
       "        [ 0.04096897, -0.00680416,  0.05441938, ..., -0.06472235,\n",
       "         -0.08667087,  0.09541781],\n",
       "        [ 0.04096897, -0.00680416,  0.05441938, ..., -0.06472235,\n",
       "         -0.08667087,  0.09541781]], dtype=float32),\n",
       " 'Givinostat+Carmofur': Array([[ 0.1030552 , -0.05407411,  0.04048552, ..., -0.04855857,\n",
       "         -0.01442662, -0.04167231],\n",
       "        [ 0.1030552 , -0.05407411,  0.04048552, ..., -0.04855857,\n",
       "         -0.01442662, -0.04167231],\n",
       "        [ 0.1030552 , -0.05407411,  0.04048552, ..., -0.04855857,\n",
       "         -0.01442662, -0.04167231]], dtype=float32),\n",
       " 'Givinostat+Cediranib': Array([[ 0.07705193, -0.06515803,  0.02317826, ..., -0.05003438,\n",
       "         -0.01552676, -0.0436272 ],\n",
       "        [ 0.07705193, -0.06515803,  0.02317826, ..., -0.05003438,\n",
       "         -0.01552676, -0.0436272 ],\n",
       "        [ 0.07705193, -0.06515803,  0.02317826, ..., -0.05003438,\n",
       "         -0.01552676, -0.0436272 ]], dtype=float32),\n",
       " 'Givinostat+Crizotinib': Array([[ 0.08335641, -0.05891053,  0.03169047, ..., -0.04584749,\n",
       "         -0.01164561, -0.05772294],\n",
       "        [ 0.08335641, -0.05891053,  0.03169047, ..., -0.04584749,\n",
       "         -0.01164561, -0.05772294],\n",
       "        [ 0.08335641, -0.05891053,  0.03169047, ..., -0.04584749,\n",
       "         -0.01164561, -0.05772294]], dtype=float32),\n",
       " 'Givinostat+Curcumin': Array([[ 0.08445018, -0.06306642,  0.0238039 , ..., -0.02690795,\n",
       "         -0.04068301, -0.07270893],\n",
       "        [ 0.08445018, -0.06306642,  0.0238039 , ..., -0.02690795,\n",
       "         -0.04068301, -0.07270893],\n",
       "        [ 0.08445018, -0.06306642,  0.0238039 , ..., -0.02690795,\n",
       "         -0.04068301, -0.07270893]], dtype=float32),\n",
       " 'Givinostat+Dasatinib': Array([[ 0.07851496, -0.0663113 ,  0.02155041, ..., -0.05481657,\n",
       "         -0.0103243 , -0.03781898],\n",
       "        [ 0.07851496, -0.0663113 ,  0.02155041, ..., -0.05481657,\n",
       "         -0.0103243 , -0.03781898],\n",
       "        [ 0.07851496, -0.0663113 ,  0.02155041, ..., -0.05481657,\n",
       "         -0.0103243 , -0.03781898]], dtype=float32),\n",
       " 'Givinostat+SRT2104': Array([[ 0.08071779, -0.06528427,  0.02227276, ..., -0.04942745,\n",
       "         -0.01641073, -0.04315637],\n",
       "        [ 0.08071779, -0.06528427,  0.02227276, ..., -0.04942745,\n",
       "         -0.01641073, -0.04315637],\n",
       "        [ 0.08071779, -0.06528427,  0.02227276, ..., -0.04942745,\n",
       "         -0.01641073, -0.04315637]], dtype=float32),\n",
       " 'Givinostat+Sorafenib': Array([[ 0.05651116, -0.04932861,  0.00600046, ..., -0.02708634,\n",
       "          0.00512406, -0.05264698],\n",
       "        [ 0.05651116, -0.04932861,  0.00600046, ..., -0.02708634,\n",
       "          0.00512406, -0.05264698],\n",
       "        [ 0.05651116, -0.04932861,  0.00600046, ..., -0.02708634,\n",
       "          0.00512406, -0.05264698]], dtype=float32),\n",
       " 'Givinostat+Tanespimycin': Array([[ 0.06239123, -0.0557961 ,  0.0314469 , ..., -0.02103503,\n",
       "         -0.06494107, -0.07202341],\n",
       "        [ 0.06239123, -0.0557961 ,  0.0314469 , ..., -0.02103503,\n",
       "         -0.06494107, -0.07202341],\n",
       "        [ 0.06239123, -0.0557961 ,  0.0314469 , ..., -0.02103503,\n",
       "         -0.06494107, -0.07202341]], dtype=float32),\n",
       " 'Panobinostat+Alvespimycin': Array([[-0.0044539 , -0.09839293, -0.01174214, ..., -0.05951251,\n",
       "         -0.07244653, -0.02221253],\n",
       "        [-0.0044539 , -0.09839293, -0.01174214, ..., -0.05951251,\n",
       "         -0.07244653, -0.02221253],\n",
       "        [-0.0044539 , -0.09839293, -0.01174214, ..., -0.05951251,\n",
       "         -0.07244653, -0.02221253]], dtype=float32),\n",
       " 'Panobinostat+Curcumin': Array([[-0.0034213 , -0.09902534, -0.01041828, ..., -0.05588989,\n",
       "         -0.07473393, -0.02326867],\n",
       "        [-0.0034213 , -0.09902534, -0.01041828, ..., -0.05588989,\n",
       "         -0.07473393, -0.02326867],\n",
       "        [-0.0034213 , -0.09902534, -0.01041828, ..., -0.05588989,\n",
       "         -0.07473393, -0.02326867]], dtype=float32),\n",
       " 'Panobinostat+Dasatinib': Array([[-0.00295324, -0.09779632, -0.01001606, ..., -0.05609611,\n",
       "         -0.07474945, -0.02308599],\n",
       "        [-0.00295324, -0.09779632, -0.01001606, ..., -0.05609611,\n",
       "         -0.07474945, -0.02308599],\n",
       "        [-0.00295324, -0.09779632, -0.01001606, ..., -0.05609611,\n",
       "         -0.07474945, -0.02308599]], dtype=float32),\n",
       " 'Panobinostat+SRT1720': Array([[-0.00152445, -0.09611168, -0.00531686, ..., -0.05679448,\n",
       "         -0.07662648, -0.02524683],\n",
       "        [-0.00152445, -0.09611168, -0.00531686, ..., -0.05679448,\n",
       "         -0.07662648, -0.02524683],\n",
       "        [-0.00152445, -0.09611168, -0.00531686, ..., -0.05679448,\n",
       "         -0.07662648, -0.02524683]], dtype=float32),\n",
       " 'Panobinostat+SRT2104': Array([[-0.00293883, -0.09801283, -0.00994967, ..., -0.05598502,\n",
       "         -0.07482832, -0.02318782],\n",
       "        [-0.00293883, -0.09801283, -0.00994967, ..., -0.05598502,\n",
       "         -0.07482832, -0.02318782],\n",
       "        [-0.00293883, -0.09801283, -0.00994967, ..., -0.05598502,\n",
       "         -0.07482832, -0.02318782]], dtype=float32),\n",
       " 'Panobinostat+SRT3025': Array([[-0.00307169, -0.09792872, -0.01008078, ..., -0.05602071,\n",
       "         -0.07474065, -0.02314098],\n",
       "        [-0.00307169, -0.09792872, -0.01008078, ..., -0.05602071,\n",
       "         -0.07474065, -0.02314098],\n",
       "        [-0.00307169, -0.09792872, -0.01008078, ..., -0.05602071,\n",
       "         -0.07474065, -0.02314098]], dtype=float32),\n",
       " 'Panobinostat+Sorafenib': Array([[-0.0043542 , -0.09721392, -0.00979606, ..., -0.05760898,\n",
       "         -0.07324549, -0.0217963 ],\n",
       "        [-0.0043542 , -0.09721392, -0.00979606, ..., -0.05760898,\n",
       "         -0.07324549, -0.0217963 ],\n",
       "        [-0.0043542 , -0.09721392, -0.00979606, ..., -0.05760898,\n",
       "         -0.07324549, -0.0217963 ]], dtype=float32),\n",
       " 'SRT3025+Cediranib': Array([[ 0.05918404, -0.07672363,  0.00708436, ..., -0.066259  ,\n",
       "         -0.0036354 , -0.02401127],\n",
       "        [ 0.05918404, -0.07672363,  0.00708436, ..., -0.066259  ,\n",
       "         -0.0036354 , -0.02401127],\n",
       "        [ 0.05918404, -0.07672363,  0.00708436, ..., -0.066259  ,\n",
       "         -0.0036354 , -0.02401127]], dtype=float32),\n",
       " 'control+Alvespimycin': Array([[ 0.06030531, -0.03101527,  0.04894639, ..., -0.09117372,\n",
       "         -0.04125137,  0.00689816],\n",
       "        [-0.12600057, -0.04349338, -0.02389852, ..., -0.11378997,\n",
       "         -0.03962527, -0.02828248],\n",
       "        [ 0.06030531, -0.03101527,  0.04894639, ..., -0.09117372,\n",
       "         -0.04125137,  0.00689816]], dtype=float32),\n",
       " 'control+Dacinostat': Array([[ 0.04321309, -0.03384005,  0.04393226, ..., -0.11236475,\n",
       "         -0.05975508,  0.12375559],\n",
       "        [ 0.05501327, -0.06560465,  0.03818664, ..., -0.12683444,\n",
       "         -0.05154024,  0.09991773],\n",
       "        [ 0.04321309, -0.03384005,  0.04393226, ..., -0.11236475,\n",
       "         -0.05975508,  0.12375559]], dtype=float32),\n",
       " 'control+Dasatinib': Array([[ 0.15528266, -0.05519157,  0.06087061, ..., -0.12308645,\n",
       "         -0.01914513,  0.02068745],\n",
       "        [-0.17005467, -0.11964735,  0.18589252, ..., -0.20243756,\n",
       "         -0.06298982,  0.18099073],\n",
       "        [ 0.15528266, -0.05519157,  0.06087061, ..., -0.12308645,\n",
       "         -0.01914513,  0.02068745]], dtype=float32),\n",
       " 'control+Givinostat': Array([[ 0.16210754, -0.04951449,  0.06843986, ..., -0.11237011,\n",
       "         -0.02388019,  0.00494332],\n",
       "        [-0.12321137, -0.01338626,  0.18947782, ..., -0.00720242,\n",
       "         -0.08587109, -0.08351698],\n",
       "        [ 0.16210754, -0.04951449,  0.06843986, ..., -0.11237011,\n",
       "         -0.02388019,  0.00494332]], dtype=float32),\n",
       " 'control+Panobinostat': Array([[ 0.00019767, -0.0991552 , -0.00982857, ..., -0.05977212,\n",
       "         -0.07512592, -0.02011364],\n",
       "        [ 0.05853815, -0.10488696,  0.00871219, ..., -0.11280587,\n",
       "         -0.04954557,  0.01639908],\n",
       "        [ 0.00019767, -0.0991552 , -0.00982857, ..., -0.05977212,\n",
       "         -0.07512592, -0.02011364]], dtype=float32),\n",
       " 'control+SRT2104': Array([[ 0.15664387, -0.05426753,  0.05989218, ..., -0.11972472,\n",
       "         -0.02071602,  0.01600234],\n",
       "        [-0.20691296,  0.09089547,  0.27892902, ..., -0.19368932,\n",
       "          0.01186698, -0.05950662],\n",
       "        [ 0.15664387, -0.05426753,  0.05989218, ..., -0.11972472,\n",
       "         -0.02071602,  0.01600234]], dtype=float32)}"
      ]
     },
     "execution_count": 23,
     "metadata": {},
     "output_type": "execute_result"
    }
   ],
   "source": [
    "embs"
   ]
  },
  {
   "cell_type": "code",
   "execution_count": 1,
   "id": "63c2cb46-dd38-40f0-a576-e619ed8c4727",
   "metadata": {},
   "outputs": [
    {
     "data": {
      "text/plain": [
       "1"
      ]
     },
     "execution_count": 1,
     "metadata": {},
     "output_type": "execute_result"
    }
   ],
   "source": [
    "1"
   ]
  },
  {
   "cell_type": "code",
   "execution_count": null,
   "id": "d6e6cb0e-41fa-4986-90a9-899c98759e71",
   "metadata": {},
   "outputs": [],
   "source": []
  }
 ],
 "metadata": {
  "kernelspec": {
   "display_name": "ot_pert_genot",
   "language": "python",
   "name": "ot_pert_genot"
  },
  "language_info": {
   "codemirror_mode": {
    "name": "ipython",
    "version": 3
   },
   "file_extension": ".py",
   "mimetype": "text/x-python",
   "name": "python",
   "nbconvert_exporter": "python",
   "pygments_lexer": "ipython3",
   "version": "3.12.2"
  }
 },
 "nbformat": 4,
 "nbformat_minor": 5
}
