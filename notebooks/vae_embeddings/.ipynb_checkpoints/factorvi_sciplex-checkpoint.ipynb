{
 "cells": [
  {
   "cell_type": "code",
   "execution_count": 1,
   "id": "a8756dd3-abf8-4c80-ba48-f7414b52df5e",
   "metadata": {},
   "outputs": [
    {
     "name": "stderr",
     "output_type": "stream",
     "text": [
      "/home/icb/dominik.klein/mambaforge/envs/ot_pert_genot_scvi/lib/python3.12/site-packages/tqdm/auto.py:21: TqdmWarning: IProgress not found. Please update jupyter and ipywidgets. See https://ipywidgets.readthedocs.io/en/stable/user_install.html\n",
      "  from .autonotebook import tqdm as notebook_tqdm\n"
     ]
    }
   ],
   "source": [
    "import juniper\n",
    "import scanpy as sc\n",
    "import os"
   ]
  },
  {
   "cell_type": "code",
   "execution_count": 2,
   "id": "ec853029-4b43-43f3-ac0e-b80c11733f7c",
   "metadata": {},
   "outputs": [
    {
     "name": "stderr",
     "output_type": "stream",
     "text": [
      "/home/icb/dominik.klein/mambaforge/envs/ot_pert_genot_scvi/lib/python3.12/site-packages/anndata/__init__.py:51: FutureWarning: `anndata.read` is deprecated, use `anndata.read_h5ad` instead. `ad.read` will be removed in mid 2024.\n",
      "  warnings.warn(\n",
      "/home/icb/dominik.klein/mambaforge/envs/ot_pert_genot_scvi/lib/python3.12/site-packages/anndata/__init__.py:51: FutureWarning: `anndata.read` is deprecated, use `anndata.read_h5ad` instead. `ad.read` will be removed in mid 2024.\n",
      "  warnings.warn(\n",
      "/home/icb/dominik.klein/mambaforge/envs/ot_pert_genot_scvi/lib/python3.12/site-packages/anndata/__init__.py:51: FutureWarning: `anndata.read` is deprecated, use `anndata.read_h5ad` instead. `ad.read` will be removed in mid 2024.\n",
      "  warnings.warn(\n"
     ]
    }
   ],
   "source": [
    "output_dir = \"/lustre/groups/ml01/workspace/ot_perturbation/data/sciplex\"\n",
    "adata_train = sc.read(os.path.join(output_dir, \"adata_train_biolord_split_30.h5ad\"))\n",
    "adata_test = sc.read(os.path.join(output_dir, \"adata_test_biolord_split_30.h5ad\"))\n",
    "adata_ood = sc.read(os.path.join(output_dir, \"adata_ood_biolord_split_30.h5ad\")) \n"
   ]
  },
  {
   "cell_type": "code",
   "execution_count": 3,
   "id": "8ff7982f-d996-47ee-8ecf-9e90b9dd3c52",
   "metadata": {},
   "outputs": [
    {
     "name": "stderr",
     "output_type": "stream",
     "text": [
      "/home/icb/dominik.klein/mambaforge/envs/ot_pert_genot_scvi/lib/python3.12/site-packages/anndata/__init__.py:51: FutureWarning: `anndata.read` is deprecated, use `anndata.read_h5ad` instead. `ad.read` will be removed in mid 2024.\n",
      "  warnings.warn(\n"
     ]
    }
   ],
   "source": [
    "adata_orig = sc.read(\"/home/icb/dominik.klein/git_repos/ot_pert_new/notebooks/prepare_data/data/sciplex3.h5ad\")\n"
   ]
  },
  {
   "cell_type": "code",
   "execution_count": 4,
   "id": "d3b4b479-f053-4615-91d1-b48b1f14a134",
   "metadata": {},
   "outputs": [
    {
     "data": {
      "text/plain": [
       "581777"
      ]
     },
     "execution_count": 4,
     "metadata": {},
     "output_type": "execute_result"
    }
   ],
   "source": [
    "adata_orig.n_obs"
   ]
  },
  {
   "cell_type": "code",
   "execution_count": 6,
   "id": "7785a784-b946-4378-8da9-aa7ae7d7c8c3",
   "metadata": {},
   "outputs": [],
   "source": [
    "sc.pp.filter_cells(adata_orig, min_counts=100)"
   ]
  },
  {
   "cell_type": "code",
   "execution_count": 7,
   "id": "5003135d-ef6a-4f38-b74c-117ed0977e76",
   "metadata": {},
   "outputs": [
    {
     "data": {
      "text/plain": [
       "581777"
      ]
     },
     "execution_count": 7,
     "metadata": {},
     "output_type": "execute_result"
    }
   ],
   "source": [
    "adata_orig.n_obs"
   ]
  },
  {
   "cell_type": "code",
   "execution_count": 8,
   "id": "9e85f4ec-f38c-4e5c-8665-3566dd540a1e",
   "metadata": {},
   "outputs": [],
   "source": [
    "sc.pp.filter_cells(adata_orig, min_genes=100)"
   ]
  },
  {
   "cell_type": "code",
   "execution_count": 9,
   "id": "da2f90fe-557d-49aa-899f-78edac772c72",
   "metadata": {},
   "outputs": [
    {
     "data": {
      "text/plain": [
       "581580"
      ]
     },
     "execution_count": 9,
     "metadata": {},
     "output_type": "execute_result"
    }
   ],
   "source": [
    "adata_orig.n_obs"
   ]
  },
  {
   "cell_type": "code",
   "execution_count": 12,
   "id": "50afbf42-75ad-468e-88b6-f566a9e09eb8",
   "metadata": {},
   "outputs": [
    {
     "data": {
      "text/plain": [
       "array([2., 1., 1., ..., 1., 1., 1.], dtype=float32)"
      ]
     },
     "execution_count": 12,
     "metadata": {},
     "output_type": "execute_result"
    }
   ],
   "source": [
    "adata_orig.X[0].data"
   ]
  },
  {
   "cell_type": "code",
   "execution_count": 13,
   "id": "bbe89ef7-9b43-4650-9c65-3a76b29397e6",
   "metadata": {},
   "outputs": [],
   "source": [
    "sc.pp.highly_variable_genes(adata_orig, flavor='seurat_v3', n_top_genes=2000, subset=True)"
   ]
  },
  {
   "cell_type": "code",
   "execution_count": 14,
   "id": "1bd80b24-b060-4571-9b37-b2acb9f84f35",
   "metadata": {},
   "outputs": [
    {
     "data": {
      "text/plain": [
       "2000"
      ]
     },
     "execution_count": 14,
     "metadata": {},
     "output_type": "execute_result"
    }
   ],
   "source": [
    "adata_orig.n_vars"
   ]
  },
  {
   "cell_type": "code",
   "execution_count": 16,
   "id": "7b3d323d-bd22-43f8-beeb-59446807e42a",
   "metadata": {},
   "outputs": [],
   "source": [
    "adata_orig.obs[\"total_counts\"] = adata_orig.X.sum(axis=1)"
   ]
  },
  {
   "cell_type": "code",
   "execution_count": 17,
   "id": "5aaf42ac-f3bc-41ce-91f7-2a179a09a3ed",
   "metadata": {},
   "outputs": [
    {
     "data": {
      "text/plain": [
       "581580"
      ]
     },
     "execution_count": 17,
     "metadata": {},
     "output_type": "execute_result"
    }
   ],
   "source": [
    "adata_orig.n_obs"
   ]
  },
  {
   "cell_type": "code",
   "execution_count": 19,
   "id": "635f5ccb-6efe-450d-852b-8ef7524fe93a",
   "metadata": {},
   "outputs": [
    {
     "data": {
      "text/plain": [
       "0"
      ]
     },
     "execution_count": 19,
     "metadata": {},
     "output_type": "execute_result"
    }
   ],
   "source": [
    "adata_orig[adata_orig.obs[\"total_counts\"]== 0].n_obs"
   ]
  },
  {
   "cell_type": "code",
   "execution_count": 21,
   "id": "85be2658-4b7b-4bff-b47a-989e17266653",
   "metadata": {},
   "outputs": [],
   "source": [
    "#adata_orig = adata_train[adata_train.obs[\"total_counts\"]!= 0].copy()"
   ]
  },
  {
   "cell_type": "code",
   "execution_count": 22,
   "id": "29c898d8-372f-49d6-baa0-8dceab9fcd46",
   "metadata": {},
   "outputs": [],
   "source": [
    "juniper.latent.model.FactorVI.setup_anndata(adata_orig)\n",
    "vae = juniper.latent.model.FactorVI(adata_orig, n_latent = 64, encoder_layers= (2048, 2048), decoder_layers = (2048, 2048))"
   ]
  },
  {
   "cell_type": "code",
   "execution_count": 23,
   "id": "4c2f7810-5256-48d4-822c-a4784c033e98",
   "metadata": {},
   "outputs": [
    {
     "name": "stderr",
     "output_type": "stream",
     "text": [
      "/home/icb/dominik.klein/mambaforge/envs/ot_pert_genot_scvi/lib/python3.12/site-packages/lightning/fabric/plugins/environments/slurm.py:191: The `srun` command is available on your system but is not used. HINT: If your intention is to run Lightning on SLURM, prepend your python command with `srun` like so: srun python /home/icb/dominik.klein/mambaforge/envs/ot_pert_geno ...\n",
      "GPU available: True (cuda), used: True\n",
      "TPU available: False, using: 0 TPU cores\n",
      "IPU available: False, using: 0 IPUs\n",
      "HPU available: False, using: 0 HPUs\n",
      "/home/icb/dominik.klein/mambaforge/envs/ot_pert_genot_scvi/lib/python3.12/site-packages/lightning/fabric/plugins/environments/slurm.py:191: The `srun` command is available on your system but is not used. HINT: If your intention is to run Lightning on SLURM, prepend your python command with `srun` like so: srun python /home/icb/dominik.klein/mambaforge/envs/ot_pert_geno ...\n",
      "You are using a CUDA device ('NVIDIA H100 80GB HBM3') that has Tensor Cores. To properly utilize them, you should set `torch.set_float32_matmul_precision('medium' | 'high')` which will trade-off precision for performance. For more details, read https://pytorch.org/docs/stable/generated/torch.set_float32_matmul_precision.html#torch.set_float32_matmul_precision\n",
      "LOCAL_RANK: 0 - CUDA_VISIBLE_DEVICES: [0]\n",
      "/ictstr01/home/icb/dominik.klein/mambaforge/envs/ot_pert_genot_scvi/lib/python3.12/site-packages/lightning/pytorch/trainer/connectors/data_connector.py:441: The 'train_dataloader' does not have many workers which may be a bottleneck. Consider increasing the value of the `num_workers` argument` to `num_workers=5` in the `DataLoader` to improve performance.\n",
      "/ictstr01/home/icb/dominik.klein/mambaforge/envs/ot_pert_genot_scvi/lib/python3.12/site-packages/lightning/pytorch/trainer/connectors/data_connector.py:441: The 'val_dataloader' does not have many workers which may be a bottleneck. Consider increasing the value of the `num_workers` argument` to `num_workers=5` in the `DataLoader` to improve performance.\n"
     ]
    },
    {
     "name": "stdout",
     "output_type": "stream",
     "text": [
      "Epoch 1/2000:   0%|                                                                                | 0/2000 [00:00<?, ?it/s]"
     ]
    },
    {
     "name": "stderr",
     "output_type": "stream",
     "text": [
      "/ictstr01/home/icb/dominik.klein/mambaforge/envs/ot_pert_genot_scvi/lib/python3.12/site-packages/lightning/pytorch/trainer/connectors/data_connector.py:385: You have overridden `transfer_batch_to_device` in `LightningModule` but have passed in a `LightningDataModule`. It will use the implementation from `LightningModule` instance.\n"
     ]
    },
    {
     "name": "stdout",
     "output_type": "stream",
     "text": [
      "Epoch 14/2000:   1%|               | 14/2000 [03:55<9:17:00, 16.83s/it, v_num=1, train_loss=nan, rec_loss=nan, kld_loss=nan]\n",
      "Monitored metric reconstruction_loss_validation = nan is not finite. Previous best value was 297.167. Signaling Trainer to stop.\n"
     ]
    }
   ],
   "source": [
    "vae.train(\n",
    "    max_epochs=2000,\n",
    "    batch_size=128,\n",
    "    plan_kwargs=dict(\n",
    "        lr=1e-4,\n",
    "    ),\n",
    "    early_stopping=True,\n",
    "    early_stopping_patience=20,\n",
    ")"
   ]
  },
  {
   "cell_type": "code",
   "execution_count": null,
   "id": "c653a29b-c166-4aeb-9664-de354a8546e0",
   "metadata": {},
   "outputs": [],
   "source": []
  },
  {
   "cell_type": "code",
   "execution_count": null,
   "id": "9d011af3-63d7-46cb-b2b2-4a534457b90b",
   "metadata": {},
   "outputs": [],
   "source": []
  },
  {
   "cell_type": "code",
   "execution_count": 24,
   "id": "04717053-253d-434c-8113-787b86c3631d",
   "metadata": {},
   "outputs": [],
   "source": [
    "sc.pp.highly_variable_genes(\n",
    "    adata_train_tmp,\n",
    "    flavor=\"seurat_v3\",\n",
    "    n_top_genes=1900,\n",
    "    subset=True,\n",
    ")"
   ]
  },
  {
   "cell_type": "code",
   "execution_count": 11,
   "id": "cbeb5c25-d58a-43b1-acaf-2d736c4d6673",
   "metadata": {},
   "outputs": [],
   "source": [
    "#del vae\n",
    "#del adata_train_tmp\n",
    "#adata_train_tmp = adata_train[[i for i in range(200001) if i != 198475]].copy() #does not work: 198_470:198_480"
   ]
  },
  {
   "cell_type": "code",
   "execution_count": 12,
   "id": "327a9893-a8a1-42ed-b7fb-a21e3da5c486",
   "metadata": {},
   "outputs": [],
   "source": [
    "#del vae\n",
    "#del adata_train_tmp\n",
    "#adata_train_tmp = adata_train[200000:].copy() #does not work: 198_470:198_480"
   ]
  },
  {
   "cell_type": "code",
   "execution_count": 25,
   "id": "d1ca316f-5472-4dd9-b7e4-fe0389e0d898",
   "metadata": {},
   "outputs": [
    {
     "data": {
      "text/plain": [
       "2002"
      ]
     },
     "execution_count": 25,
     "metadata": {},
     "output_type": "execute_result"
    }
   ],
   "source": [
    "adata_train.n_vars"
   ]
  },
  {
   "cell_type": "code",
   "execution_count": 26,
   "id": "2c7f8c16-b152-4307-a9cc-6ec568c40848",
   "metadata": {},
   "outputs": [],
   "source": [
    "juniper.latent.model.FactorVI.setup_anndata(adata_train_tmp)\n",
    "vae = juniper.latent.model.FactorVI(adata_train_tmp, n_latent = 64, encoder_layers= (2048, 2048), decoder_layers = (2048, 2048))"
   ]
  },
  {
   "cell_type": "code",
   "execution_count": 27,
   "id": "d4a8f006-b804-4889-adb8-f1e08db3b6ea",
   "metadata": {},
   "outputs": [
    {
     "name": "stderr",
     "output_type": "stream",
     "text": [
      "/home/icb/dominik.klein/mambaforge/envs/ot_pert_genot_scvi/lib/python3.12/site-packages/lightning/fabric/plugins/environments/slurm.py:191: The `srun` command is available on your system but is not used. HINT: If your intention is to run Lightning on SLURM, prepend your python command with `srun` like so: srun python /home/icb/dominik.klein/mambaforge/envs/ot_pert_geno ...\n",
      "GPU available: True (cuda), used: True\n",
      "TPU available: False, using: 0 TPU cores\n",
      "IPU available: False, using: 0 IPUs\n",
      "HPU available: False, using: 0 HPUs\n",
      "/home/icb/dominik.klein/mambaforge/envs/ot_pert_genot_scvi/lib/python3.12/site-packages/lightning/fabric/plugins/environments/slurm.py:191: The `srun` command is available on your system but is not used. HINT: If your intention is to run Lightning on SLURM, prepend your python command with `srun` like so: srun python /home/icb/dominik.klein/mambaforge/envs/ot_pert_geno ...\n",
      "LOCAL_RANK: 0 - CUDA_VISIBLE_DEVICES: [0]\n",
      "/ictstr01/home/icb/dominik.klein/mambaforge/envs/ot_pert_genot_scvi/lib/python3.12/site-packages/lightning/pytorch/trainer/connectors/data_connector.py:441: The 'train_dataloader' does not have many workers which may be a bottleneck. Consider increasing the value of the `num_workers` argument` to `num_workers=5` in the `DataLoader` to improve performance.\n",
      "/ictstr01/home/icb/dominik.klein/mambaforge/envs/ot_pert_genot_scvi/lib/python3.12/site-packages/lightning/pytorch/trainer/connectors/data_connector.py:441: The 'val_dataloader' does not have many workers which may be a bottleneck. Consider increasing the value of the `num_workers` argument` to `num_workers=5` in the `DataLoader` to improve performance.\n"
     ]
    },
    {
     "name": "stdout",
     "output_type": "stream",
     "text": [
      "Epoch 19/2000:   1%|▏              | 19/2000 [02:47<4:50:49,  8.81s/it, v_num=1, train_loss=nan, rec_loss=nan, kld_loss=nan]\n",
      "Monitored metric reconstruction_loss_validation = nan is not finite. Previous best value was 124.625. Signaling Trainer to stop.\n"
     ]
    }
   ],
   "source": [
    "vae.train(\n",
    "    max_epochs=2000,\n",
    "    batch_size=128,\n",
    "    plan_kwargs=dict(\n",
    "        lr=1e-4,\n",
    "    ),\n",
    "    early_stopping=True,\n",
    "    early_stopping_patience=20,\n",
    ")"
   ]
  },
  {
   "cell_type": "code",
   "execution_count": 28,
   "id": "7e9ec651-0f4b-4f0d-8d21-9e232e690932",
   "metadata": {},
   "outputs": [],
   "source": [
    "adata_train_tmp.obsm[\"X_scVI\"] = vae.get_latent_representation(adata_train_tmp)"
   ]
  },
  {
   "cell_type": "code",
   "execution_count": 29,
   "id": "216ecbce-bc49-4da1-bb66-c489660e9c80",
   "metadata": {},
   "outputs": [],
   "source": [
    "adata_train_tmp.obsm[\"reconstruction\"] = vae.get_reconstructed_expression(adata_train_tmp)"
   ]
  },
  {
   "cell_type": "code",
   "execution_count": 30,
   "id": "4da928ea-f398-46aa-b975-680e4957ff71",
   "metadata": {},
   "outputs": [],
   "source": [
    "from sklearn.metrics import pairwise_distances, r2_score\n",
    "import numpy as np"
   ]
  },
  {
   "cell_type": "code",
   "execution_count": 31,
   "id": "b5d7c275-80e6-4ecd-a8f9-1c70ef7a2e48",
   "metadata": {},
   "outputs": [
    {
     "ename": "ValueError",
     "evalue": "Input contains NaN.",
     "output_type": "error",
     "traceback": [
      "\u001b[0;31m---------------------------------------------------------------------------\u001b[0m",
      "\u001b[0;31mValueError\u001b[0m                                Traceback (most recent call last)",
      "Cell \u001b[0;32mIn[31], line 1\u001b[0m\n\u001b[0;32m----> 1\u001b[0m r2_score(np\u001b[38;5;241m.\u001b[39mmean(adata_train_tmp\u001b[38;5;241m.\u001b[39mobsm[\u001b[38;5;124m\"\u001b[39m\u001b[38;5;124mreconstruction\u001b[39m\u001b[38;5;124m\"\u001b[39m], axis\u001b[38;5;241m=\u001b[39m\u001b[38;5;241m0\u001b[39m), np\u001b[38;5;241m.\u001b[39mmean(adata_train_tmp\u001b[38;5;241m.\u001b[39mX\u001b[38;5;241m.\u001b[39mA, axis\u001b[38;5;241m=\u001b[39m\u001b[38;5;241m0\u001b[39m))\n",
      "File \u001b[0;32m~/mambaforge/envs/ot_pert_genot_scvi/lib/python3.12/site-packages/sklearn/utils/_param_validation.py:213\u001b[0m, in \u001b[0;36mvalidate_params.<locals>.decorator.<locals>.wrapper\u001b[0;34m(*args, **kwargs)\u001b[0m\n\u001b[1;32m    207\u001b[0m \u001b[38;5;28;01mtry\u001b[39;00m:\n\u001b[1;32m    208\u001b[0m     \u001b[38;5;28;01mwith\u001b[39;00m config_context(\n\u001b[1;32m    209\u001b[0m         skip_parameter_validation\u001b[38;5;241m=\u001b[39m(\n\u001b[1;32m    210\u001b[0m             prefer_skip_nested_validation \u001b[38;5;129;01mor\u001b[39;00m global_skip_validation\n\u001b[1;32m    211\u001b[0m         )\n\u001b[1;32m    212\u001b[0m     ):\n\u001b[0;32m--> 213\u001b[0m         \u001b[38;5;28;01mreturn\u001b[39;00m func(\u001b[38;5;241m*\u001b[39margs, \u001b[38;5;241m*\u001b[39m\u001b[38;5;241m*\u001b[39mkwargs)\n\u001b[1;32m    214\u001b[0m \u001b[38;5;28;01mexcept\u001b[39;00m InvalidParameterError \u001b[38;5;28;01mas\u001b[39;00m e:\n\u001b[1;32m    215\u001b[0m     \u001b[38;5;66;03m# When the function is just a wrapper around an estimator, we allow\u001b[39;00m\n\u001b[1;32m    216\u001b[0m     \u001b[38;5;66;03m# the function to delegate validation to the estimator, but we replace\u001b[39;00m\n\u001b[1;32m    217\u001b[0m     \u001b[38;5;66;03m# the name of the estimator by the name of the function in the error\u001b[39;00m\n\u001b[1;32m    218\u001b[0m     \u001b[38;5;66;03m# message to avoid confusion.\u001b[39;00m\n\u001b[1;32m    219\u001b[0m     msg \u001b[38;5;241m=\u001b[39m re\u001b[38;5;241m.\u001b[39msub(\n\u001b[1;32m    220\u001b[0m         \u001b[38;5;124mr\u001b[39m\u001b[38;5;124m\"\u001b[39m\u001b[38;5;124mparameter of \u001b[39m\u001b[38;5;124m\\\u001b[39m\u001b[38;5;124mw+ must be\u001b[39m\u001b[38;5;124m\"\u001b[39m,\n\u001b[1;32m    221\u001b[0m         \u001b[38;5;124mf\u001b[39m\u001b[38;5;124m\"\u001b[39m\u001b[38;5;124mparameter of \u001b[39m\u001b[38;5;132;01m{\u001b[39;00mfunc\u001b[38;5;241m.\u001b[39m\u001b[38;5;18m__qualname__\u001b[39m\u001b[38;5;132;01m}\u001b[39;00m\u001b[38;5;124m must be\u001b[39m\u001b[38;5;124m\"\u001b[39m,\n\u001b[1;32m    222\u001b[0m         \u001b[38;5;28mstr\u001b[39m(e),\n\u001b[1;32m    223\u001b[0m     )\n",
      "File \u001b[0;32m~/mambaforge/envs/ot_pert_genot_scvi/lib/python3.12/site-packages/sklearn/metrics/_regression.py:1180\u001b[0m, in \u001b[0;36mr2_score\u001b[0;34m(y_true, y_pred, sample_weight, multioutput, force_finite)\u001b[0m\n\u001b[1;32m   1039\u001b[0m \u001b[38;5;129m@validate_params\u001b[39m(\n\u001b[1;32m   1040\u001b[0m     {\n\u001b[1;32m   1041\u001b[0m         \u001b[38;5;124m\"\u001b[39m\u001b[38;5;124my_true\u001b[39m\u001b[38;5;124m\"\u001b[39m: [\u001b[38;5;124m\"\u001b[39m\u001b[38;5;124marray-like\u001b[39m\u001b[38;5;124m\"\u001b[39m],\n\u001b[0;32m   (...)\u001b[0m\n\u001b[1;32m   1059\u001b[0m     force_finite\u001b[38;5;241m=\u001b[39m\u001b[38;5;28;01mTrue\u001b[39;00m,\n\u001b[1;32m   1060\u001b[0m ):\n\u001b[1;32m   1061\u001b[0m \u001b[38;5;250m    \u001b[39m\u001b[38;5;124;03m\"\"\":math:`R^2` (coefficient of determination) regression score function.\u001b[39;00m\n\u001b[1;32m   1062\u001b[0m \n\u001b[1;32m   1063\u001b[0m \u001b[38;5;124;03m    Best possible score is 1.0 and it can be negative (because the\u001b[39;00m\n\u001b[0;32m   (...)\u001b[0m\n\u001b[1;32m   1178\u001b[0m \u001b[38;5;124;03m    -inf\u001b[39;00m\n\u001b[1;32m   1179\u001b[0m \u001b[38;5;124;03m    \"\"\"\u001b[39;00m\n\u001b[0;32m-> 1180\u001b[0m     y_type, y_true, y_pred, multioutput \u001b[38;5;241m=\u001b[39m _check_reg_targets(\n\u001b[1;32m   1181\u001b[0m         y_true, y_pred, multioutput\n\u001b[1;32m   1182\u001b[0m     )\n\u001b[1;32m   1183\u001b[0m     check_consistent_length(y_true, y_pred, sample_weight)\n\u001b[1;32m   1185\u001b[0m     \u001b[38;5;28;01mif\u001b[39;00m _num_samples(y_pred) \u001b[38;5;241m<\u001b[39m \u001b[38;5;241m2\u001b[39m:\n",
      "File \u001b[0;32m~/mambaforge/envs/ot_pert_genot_scvi/lib/python3.12/site-packages/sklearn/metrics/_regression.py:103\u001b[0m, in \u001b[0;36m_check_reg_targets\u001b[0;34m(y_true, y_pred, multioutput, dtype)\u001b[0m\n\u001b[1;32m     69\u001b[0m \u001b[38;5;250m\u001b[39m\u001b[38;5;124;03m\"\"\"Check that y_true and y_pred belong to the same regression task.\u001b[39;00m\n\u001b[1;32m     70\u001b[0m \n\u001b[1;32m     71\u001b[0m \u001b[38;5;124;03mParameters\u001b[39;00m\n\u001b[0;32m   (...)\u001b[0m\n\u001b[1;32m    100\u001b[0m \u001b[38;5;124;03m    correct keyword.\u001b[39;00m\n\u001b[1;32m    101\u001b[0m \u001b[38;5;124;03m\"\"\"\u001b[39;00m\n\u001b[1;32m    102\u001b[0m check_consistent_length(y_true, y_pred)\n\u001b[0;32m--> 103\u001b[0m y_true \u001b[38;5;241m=\u001b[39m check_array(y_true, ensure_2d\u001b[38;5;241m=\u001b[39m\u001b[38;5;28;01mFalse\u001b[39;00m, dtype\u001b[38;5;241m=\u001b[39mdtype)\n\u001b[1;32m    104\u001b[0m y_pred \u001b[38;5;241m=\u001b[39m check_array(y_pred, ensure_2d\u001b[38;5;241m=\u001b[39m\u001b[38;5;28;01mFalse\u001b[39;00m, dtype\u001b[38;5;241m=\u001b[39mdtype)\n\u001b[1;32m    106\u001b[0m \u001b[38;5;28;01mif\u001b[39;00m y_true\u001b[38;5;241m.\u001b[39mndim \u001b[38;5;241m==\u001b[39m \u001b[38;5;241m1\u001b[39m:\n",
      "File \u001b[0;32m~/mambaforge/envs/ot_pert_genot_scvi/lib/python3.12/site-packages/sklearn/utils/validation.py:1049\u001b[0m, in \u001b[0;36mcheck_array\u001b[0;34m(array, accept_sparse, accept_large_sparse, dtype, order, copy, force_all_finite, ensure_2d, allow_nd, ensure_min_samples, ensure_min_features, estimator, input_name)\u001b[0m\n\u001b[1;32m   1043\u001b[0m     \u001b[38;5;28;01mraise\u001b[39;00m \u001b[38;5;167;01mValueError\u001b[39;00m(\n\u001b[1;32m   1044\u001b[0m         \u001b[38;5;124m\"\u001b[39m\u001b[38;5;124mFound array with dim \u001b[39m\u001b[38;5;132;01m%d\u001b[39;00m\u001b[38;5;124m. \u001b[39m\u001b[38;5;132;01m%s\u001b[39;00m\u001b[38;5;124m expected <= 2.\u001b[39m\u001b[38;5;124m\"\u001b[39m\n\u001b[1;32m   1045\u001b[0m         \u001b[38;5;241m%\u001b[39m (array\u001b[38;5;241m.\u001b[39mndim, estimator_name)\n\u001b[1;32m   1046\u001b[0m     )\n\u001b[1;32m   1048\u001b[0m \u001b[38;5;28;01mif\u001b[39;00m force_all_finite:\n\u001b[0;32m-> 1049\u001b[0m     _assert_all_finite(\n\u001b[1;32m   1050\u001b[0m         array,\n\u001b[1;32m   1051\u001b[0m         input_name\u001b[38;5;241m=\u001b[39minput_name,\n\u001b[1;32m   1052\u001b[0m         estimator_name\u001b[38;5;241m=\u001b[39mestimator_name,\n\u001b[1;32m   1053\u001b[0m         allow_nan\u001b[38;5;241m=\u001b[39mforce_all_finite \u001b[38;5;241m==\u001b[39m \u001b[38;5;124m\"\u001b[39m\u001b[38;5;124mallow-nan\u001b[39m\u001b[38;5;124m\"\u001b[39m,\n\u001b[1;32m   1054\u001b[0m     )\n\u001b[1;32m   1056\u001b[0m \u001b[38;5;28;01mif\u001b[39;00m copy:\n\u001b[1;32m   1057\u001b[0m     \u001b[38;5;28;01mif\u001b[39;00m _is_numpy_namespace(xp):\n\u001b[1;32m   1058\u001b[0m         \u001b[38;5;66;03m# only make a copy if `array` and `array_orig` may share memory`\u001b[39;00m\n",
      "File \u001b[0;32m~/mambaforge/envs/ot_pert_genot_scvi/lib/python3.12/site-packages/sklearn/utils/validation.py:126\u001b[0m, in \u001b[0;36m_assert_all_finite\u001b[0;34m(X, allow_nan, msg_dtype, estimator_name, input_name)\u001b[0m\n\u001b[1;32m    123\u001b[0m \u001b[38;5;28;01mif\u001b[39;00m first_pass_isfinite:\n\u001b[1;32m    124\u001b[0m     \u001b[38;5;28;01mreturn\u001b[39;00m\n\u001b[0;32m--> 126\u001b[0m _assert_all_finite_element_wise(\n\u001b[1;32m    127\u001b[0m     X,\n\u001b[1;32m    128\u001b[0m     xp\u001b[38;5;241m=\u001b[39mxp,\n\u001b[1;32m    129\u001b[0m     allow_nan\u001b[38;5;241m=\u001b[39mallow_nan,\n\u001b[1;32m    130\u001b[0m     msg_dtype\u001b[38;5;241m=\u001b[39mmsg_dtype,\n\u001b[1;32m    131\u001b[0m     estimator_name\u001b[38;5;241m=\u001b[39mestimator_name,\n\u001b[1;32m    132\u001b[0m     input_name\u001b[38;5;241m=\u001b[39minput_name,\n\u001b[1;32m    133\u001b[0m )\n",
      "File \u001b[0;32m~/mambaforge/envs/ot_pert_genot_scvi/lib/python3.12/site-packages/sklearn/utils/validation.py:175\u001b[0m, in \u001b[0;36m_assert_all_finite_element_wise\u001b[0;34m(X, xp, allow_nan, msg_dtype, estimator_name, input_name)\u001b[0m\n\u001b[1;32m    158\u001b[0m \u001b[38;5;28;01mif\u001b[39;00m estimator_name \u001b[38;5;129;01mand\u001b[39;00m input_name \u001b[38;5;241m==\u001b[39m \u001b[38;5;124m\"\u001b[39m\u001b[38;5;124mX\u001b[39m\u001b[38;5;124m\"\u001b[39m \u001b[38;5;129;01mand\u001b[39;00m has_nan_error:\n\u001b[1;32m    159\u001b[0m     \u001b[38;5;66;03m# Improve the error message on how to handle missing values in\u001b[39;00m\n\u001b[1;32m    160\u001b[0m     \u001b[38;5;66;03m# scikit-learn.\u001b[39;00m\n\u001b[1;32m    161\u001b[0m     msg_err \u001b[38;5;241m+\u001b[39m\u001b[38;5;241m=\u001b[39m (\n\u001b[1;32m    162\u001b[0m         \u001b[38;5;124mf\u001b[39m\u001b[38;5;124m\"\u001b[39m\u001b[38;5;130;01m\\n\u001b[39;00m\u001b[38;5;132;01m{\u001b[39;00mestimator_name\u001b[38;5;132;01m}\u001b[39;00m\u001b[38;5;124m does not accept missing values\u001b[39m\u001b[38;5;124m\"\u001b[39m\n\u001b[1;32m    163\u001b[0m         \u001b[38;5;124m\"\u001b[39m\u001b[38;5;124m encoded as NaN natively. For supervised learning, you might want\u001b[39m\u001b[38;5;124m\"\u001b[39m\n\u001b[0;32m   (...)\u001b[0m\n\u001b[1;32m    173\u001b[0m         \u001b[38;5;124m\"\u001b[39m\u001b[38;5;124m#estimators-that-handle-nan-values\u001b[39m\u001b[38;5;124m\"\u001b[39m\n\u001b[1;32m    174\u001b[0m     )\n\u001b[0;32m--> 175\u001b[0m \u001b[38;5;28;01mraise\u001b[39;00m \u001b[38;5;167;01mValueError\u001b[39;00m(msg_err)\n",
      "\u001b[0;31mValueError\u001b[0m: Input contains NaN."
     ]
    }
   ],
   "source": [
    "r2_score(np.mean(adata_train_tmp.obsm[\"reconstruction\"], axis=0), np.mean(adata_train_tmp.X.A, axis=0))"
   ]
  },
  {
   "cell_type": "code",
   "execution_count": 24,
   "id": "43ca328c-fc97-4ad1-b82b-710a4d6ac8a8",
   "metadata": {},
   "outputs": [
    {
     "data": {
      "text/plain": [
       "['__abstractmethods__',\n",
       " '__class__',\n",
       " '__delattr__',\n",
       " '__dict__',\n",
       " '__dir__',\n",
       " '__doc__',\n",
       " '__eq__',\n",
       " '__format__',\n",
       " '__ge__',\n",
       " '__getattribute__',\n",
       " '__getstate__',\n",
       " '__gt__',\n",
       " '__hash__',\n",
       " '__init__',\n",
       " '__init_subclass__',\n",
       " '__le__',\n",
       " '__lt__',\n",
       " '__module__',\n",
       " '__ne__',\n",
       " '__new__',\n",
       " '__reduce__',\n",
       " '__reduce_ex__',\n",
       " '__repr__',\n",
       " '__setattr__',\n",
       " '__sizeof__',\n",
       " '__str__',\n",
       " '__subclasshook__',\n",
       " '__weakref__',\n",
       " '_abc_impl',\n",
       " '_adata',\n",
       " '_adata_manager',\n",
       " '_check_if_trained',\n",
       " '_create_modalities_attr_dict',\n",
       " '_data_loader_cls',\n",
       " '_get_init_params',\n",
       " '_get_most_recent_anndata_manager',\n",
       " '_get_setup_method_args',\n",
       " '_get_user_attributes',\n",
       " '_make_data_loader',\n",
       " '_model_summary_string',\n",
       " '_module_init_on_train',\n",
       " '_per_instance_manager_store',\n",
       " '_register_manager_for_instance',\n",
       " '_setup_adata_manager_store',\n",
       " '_tunables',\n",
       " '_validate_anndata',\n",
       " 'adata',\n",
       " 'adata_manager',\n",
       " 'convert_legacy_save',\n",
       " 'deregister_manager',\n",
       " 'device',\n",
       " 'get_anndata_manager',\n",
       " 'get_from_registry',\n",
       " 'get_latent_representation',\n",
       " 'get_reconstructed_expression',\n",
       " 'history',\n",
       " 'history_',\n",
       " 'id',\n",
       " 'init_params_',\n",
       " 'is_trained',\n",
       " 'is_trained_',\n",
       " 'load',\n",
       " 'load_query_data',\n",
       " 'load_registry',\n",
       " 'module',\n",
       " 'prepare_query_anndata',\n",
       " 'register_manager',\n",
       " 'registry_',\n",
       " 'save',\n",
       " 'setup_anndata',\n",
       " 'summary_stats',\n",
       " 'summary_string',\n",
       " 'test_indices',\n",
       " 'test_indices_',\n",
       " 'to_device',\n",
       " 'train',\n",
       " 'train_indices',\n",
       " 'train_indices_',\n",
       " 'trainer',\n",
       " 'training_plan',\n",
       " 'validation_indices',\n",
       " 'validation_indices_',\n",
       " 'view_anndata_setup',\n",
       " 'view_setup_args']"
      ]
     },
     "execution_count": 24,
     "metadata": {},
     "output_type": "execute_result"
    }
   ],
   "source": [
    "dir(vae)"
   ]
  },
  {
   "cell_type": "code",
   "execution_count": null,
   "id": "7c15e9f1-f3a0-4698-bba5-fd30a7c51c2b",
   "metadata": {},
   "outputs": [],
   "source": [
    "adata_ood.obsm[\"X_scVI\"] = vae.get_latent_representation(adata_ood)\n",
    "adata_ood.obsm[\"reconstruction\"] = vae.get_reconstructed_expression(adata_ood)\n",
    "r2_ood = r2_score(np.mean(adata_ood.obsm[\"reconstruction\"], axis=0), np.mean(adata_ood.X.A, axis=0))\n"
   ]
  },
  {
   "cell_type": "code",
   "execution_count": null,
   "id": "accf1066-5a33-4f01-8817-8dfd10111a3d",
   "metadata": {},
   "outputs": [],
   "source": [
    "r2_ood"
   ]
  },
  {
   "cell_type": "code",
   "execution_count": null,
   "id": "3c9ce0db-85ee-47f1-b6d2-6fb37c4652b2",
   "metadata": {},
   "outputs": [],
   "source": [
    "save_path = \"/lustre/groups/ml01/workspace/ot_perturbation/data/sciplex/sciplex_factorvi_test\"\n",
    "\n",
    "# Save the trained model\n",
    "vae.save(save_path, overwrite=True)\n",
    "\n",
    "# Load the saved model\n",
    "#loaded_model = scvi.model.SCVI.load(save_path, adata)"
   ]
  },
  {
   "cell_type": "code",
   "execution_count": null,
   "id": "517735db-58da-426c-9611-0173f6ac2fb9",
   "metadata": {},
   "outputs": [],
   "source": []
  }
 ],
 "metadata": {
  "kernelspec": {
   "display_name": "ot_pert_genot_scvi",
   "language": "python",
   "name": "ot_pert_genot_scvi"
  },
  "language_info": {
   "codemirror_mode": {
    "name": "ipython",
    "version": 3
   },
   "file_extension": ".py",
   "mimetype": "text/x-python",
   "name": "python",
   "nbconvert_exporter": "python",
   "pygments_lexer": "ipython3",
   "version": "3.12.2"
  }
 },
 "nbformat": 4,
 "nbformat_minor": 5
}
