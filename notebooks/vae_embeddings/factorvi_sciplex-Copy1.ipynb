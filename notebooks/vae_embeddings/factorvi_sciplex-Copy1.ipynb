{
 "cells": [
  {
   "cell_type": "code",
   "execution_count": 1,
   "id": "3830d78a-4245-4f81-932e-87c33b6dab63",
   "metadata": {},
   "outputs": [],
   "source": [
    "import jax\n",
    "jax.config.update(\"jax_enable_x64\", True)"
   ]
  },
  {
   "cell_type": "code",
   "execution_count": 2,
   "id": "a8756dd3-abf8-4c80-ba48-f7414b52df5e",
   "metadata": {},
   "outputs": [
    {
     "name": "stderr",
     "output_type": "stream",
     "text": [
      "/home/icb/dominik.klein/mambaforge/envs/ot_pert_genot_scvi/lib/python3.12/site-packages/tqdm/auto.py:21: TqdmWarning: IProgress not found. Please update jupyter and ipywidgets. See https://ipywidgets.readthedocs.io/en/stable/user_install.html\n",
      "  from .autonotebook import tqdm as notebook_tqdm\n"
     ]
    }
   ],
   "source": [
    "import scvi\n",
    "import scanpy as sc\n",
    "import os\n",
    "import juniper"
   ]
  },
  {
   "cell_type": "code",
   "execution_count": 3,
   "id": "ec853029-4b43-43f3-ac0e-b80c11733f7c",
   "metadata": {},
   "outputs": [
    {
     "name": "stderr",
     "output_type": "stream",
     "text": [
      "/home/icb/dominik.klein/mambaforge/envs/ot_pert_genot_scvi/lib/python3.12/site-packages/anndata/__init__.py:51: FutureWarning: `anndata.read` is deprecated, use `anndata.read_h5ad` instead. `ad.read` will be removed in mid 2024.\n",
      "  warnings.warn(\n",
      "/home/icb/dominik.klein/mambaforge/envs/ot_pert_genot_scvi/lib/python3.12/site-packages/anndata/__init__.py:51: FutureWarning: `anndata.read` is deprecated, use `anndata.read_h5ad` instead. `ad.read` will be removed in mid 2024.\n",
      "  warnings.warn(\n",
      "/home/icb/dominik.klein/mambaforge/envs/ot_pert_genot_scvi/lib/python3.12/site-packages/anndata/__init__.py:51: FutureWarning: `anndata.read` is deprecated, use `anndata.read_h5ad` instead. `ad.read` will be removed in mid 2024.\n",
      "  warnings.warn(\n"
     ]
    }
   ],
   "source": [
    "output_dir = \"/lustre/groups/ml01/workspace/ot_perturbation/data/sciplex\"\n",
    "adata_train = sc.read(os.path.join(output_dir, \"adata_train_biolord_split_30.h5ad\"))\n",
    "adata_test = sc.read(os.path.join(output_dir, \"adata_test_biolord_split_30.h5ad\"))\n",
    "adata_ood = sc.read(os.path.join(output_dir, \"adata_ood_biolord_split_30.h5ad\")) \n"
   ]
  },
  {
   "cell_type": "code",
   "execution_count": 23,
   "id": "623b6307-5e13-4a37-870a-a474f32ecd91",
   "metadata": {},
   "outputs": [
    {
     "name": "stderr",
     "output_type": "stream",
     "text": [
      "/home/icb/dominik.klein/mambaforge/envs/ot_pert_genot_scvi/lib/python3.12/site-packages/scvi/data/fields/_base_field.py:64: UserWarning: adata.X does not contain unnormalized count data. Are you sure this is what you want?\n",
      "  self.validate_field(adata)\n"
     ]
    }
   ],
   "source": [
    "juniper.latent.model.FactorVI.setup_anndata(adata_train)\n",
    "vae = juniper.latent.model.FactorVI(adata_train, count_input=False, n_latent = 10, encoder_layers= (2048, 2048, 2048), decoder_layers = (2048, 2048, 2048), disentangling_weight=0.1, kld_weight=0.5)\n"
   ]
  },
  {
   "cell_type": "code",
   "execution_count": 24,
   "id": "810a1bf2-b28d-45d6-a77a-f4acc2bb6de0",
   "metadata": {},
   "outputs": [
    {
     "name": "stderr",
     "output_type": "stream",
     "text": [
      "/home/icb/dominik.klein/mambaforge/envs/ot_pert_genot_scvi/lib/python3.12/site-packages/lightning/fabric/plugins/environments/slurm.py:191: The `srun` command is available on your system but is not used. HINT: If your intention is to run Lightning on SLURM, prepend your python command with `srun` like so: srun python /home/icb/dominik.klein/mambaforge/envs/ot_pert_geno ...\n",
      "GPU available: True (cuda), used: True\n",
      "TPU available: False, using: 0 TPU cores\n",
      "IPU available: False, using: 0 IPUs\n",
      "HPU available: False, using: 0 HPUs\n",
      "/home/icb/dominik.klein/mambaforge/envs/ot_pert_genot_scvi/lib/python3.12/site-packages/lightning/fabric/plugins/environments/slurm.py:191: The `srun` command is available on your system but is not used. HINT: If your intention is to run Lightning on SLURM, prepend your python command with `srun` like so: srun python /home/icb/dominik.klein/mambaforge/envs/ot_pert_geno ...\n",
      "LOCAL_RANK: 0 - CUDA_VISIBLE_DEVICES: [0]\n",
      "/ictstr01/home/icb/dominik.klein/mambaforge/envs/ot_pert_genot_scvi/lib/python3.12/site-packages/lightning/pytorch/trainer/connectors/data_connector.py:441: The 'train_dataloader' does not have many workers which may be a bottleneck. Consider increasing the value of the `num_workers` argument` to `num_workers=5` in the `DataLoader` to improve performance.\n",
      "/ictstr01/home/icb/dominik.klein/mambaforge/envs/ot_pert_genot_scvi/lib/python3.12/site-packages/lightning/pytorch/trainer/connectors/data_connector.py:441: The 'val_dataloader' does not have many workers which may be a bottleneck. Consider increasing the value of the `num_workers` argument` to `num_workers=5` in the `DataLoader` to improve performance.\n"
     ]
    },
    {
     "name": "stdout",
     "output_type": "stream",
     "text": [
      "Epoch 590/2000:  30%|██▉       | 590/2000 [1:13:18<2:55:12,  7.46s/it, v_num=1, train_loss=30.3, rec_loss=27.1, kld_loss=6.51]\n",
      "Monitored metric reconstruction_loss_validation did not improve in the last 500 records. Best score: 25.688. Signaling Trainer to stop.\n"
     ]
    }
   ],
   "source": [
    "vae.train(\n",
    "    max_epochs=2000,\n",
    "    batch_size=1024,\n",
    "    plan_kwargs=dict(\n",
    "        lr=1e-4,\n",
    "    ),\n",
    "    early_stopping=True,\n",
    "    early_stopping_patience=500,\n",
    ")"
   ]
  },
  {
   "cell_type": "code",
   "execution_count": 25,
   "id": "7e9ec651-0f4b-4f0d-8d21-9e232e690932",
   "metadata": {},
   "outputs": [],
   "source": [
    "adata_train.obsm[\"X_scVI\"] = vae.get_latent_representation(adata_train, give_mean=True)"
   ]
  },
  {
   "cell_type": "code",
   "execution_count": 26,
   "id": "216ecbce-bc49-4da1-bb66-c489660e9c80",
   "metadata": {},
   "outputs": [],
   "source": [
    "adata_train.obsm[\"reconstruction\"] = vae.get_reconstructed_expression(adata_train, give_mean=True)"
   ]
  },
  {
   "cell_type": "code",
   "execution_count": 27,
   "id": "4da928ea-f398-46aa-b975-680e4957ff71",
   "metadata": {},
   "outputs": [],
   "source": [
    "from sklearn.metrics import pairwise_distances, r2_score\n",
    "import numpy as np"
   ]
  },
  {
   "cell_type": "code",
   "execution_count": 28,
   "id": "b5d7c275-80e6-4ecd-a8f9-1c70ef7a2e48",
   "metadata": {},
   "outputs": [
    {
     "data": {
      "text/plain": [
       "0.9950848577258933"
      ]
     },
     "execution_count": 28,
     "metadata": {},
     "output_type": "execute_result"
    }
   ],
   "source": [
    "r2_score(np.mean(adata_train.obsm[\"reconstruction\"], axis=0), np.array(np.mean(adata_train.X, axis=0))[0,:])"
   ]
  },
  {
   "cell_type": "code",
   "execution_count": 29,
   "id": "04307741-4e9e-4ee5-92ba-df3ef2356d4c",
   "metadata": {},
   "outputs": [
    {
     "name": "stdout",
     "output_type": "stream",
     "text": [
      "\u001b[34mINFO    \u001b[0m Input AnnData not setup with scvi-tools. attempting to transfer AnnData setup                             \n"
     ]
    },
    {
     "name": "stderr",
     "output_type": "stream",
     "text": [
      "/home/icb/dominik.klein/mambaforge/envs/ot_pert_genot_scvi/lib/python3.12/site-packages/scvi/data/fields/_base_field.py:64: UserWarning: adata.X does not contain unnormalized count data. Are you sure this is what you want?\n",
      "  self.validate_field(adata)\n"
     ]
    },
    {
     "data": {
      "text/plain": [
       "0.9240844114443761"
      ]
     },
     "execution_count": 29,
     "metadata": {},
     "output_type": "execute_result"
    }
   ],
   "source": [
    "adata_ood.obsm[\"X_scVI\"] = vae.get_latent_representation(adata_ood, give_mean=True)\n",
    "adata_ood.obsm[\"reconstruction\"] = vae.get_reconstructed_expression(adata_ood, give_mean=True)\n",
    "r2_score(np.mean(adata_ood.obsm[\"reconstruction\"], axis=0), np.array(np.mean(adata_ood.X, axis=0))[0,:])"
   ]
  },
  {
   "cell_type": "code",
   "execution_count": 30,
   "id": "2b457532-0254-4335-97b2-87102a4637b2",
   "metadata": {},
   "outputs": [
    {
     "name": "stdout",
     "output_type": "stream",
     "text": [
      "\u001b[34mINFO    \u001b[0m Input AnnData not setup with scvi-tools. attempting to transfer AnnData setup                             \n"
     ]
    },
    {
     "name": "stderr",
     "output_type": "stream",
     "text": [
      "/home/icb/dominik.klein/mambaforge/envs/ot_pert_genot_scvi/lib/python3.12/site-packages/scvi/data/fields/_base_field.py:64: UserWarning: adata.X does not contain unnormalized count data. Are you sure this is what you want?\n",
      "  self.validate_field(adata)\n"
     ]
    },
    {
     "data": {
      "text/plain": [
       "0.9953748657941697"
      ]
     },
     "execution_count": 30,
     "metadata": {},
     "output_type": "execute_result"
    }
   ],
   "source": [
    "adata_test.obsm[\"X_scVI\"] = vae.get_latent_representation(adata_test, give_mean=True)\n",
    "adata_test.obsm[\"reconstruction\"] = vae.get_reconstructed_expression(adata_test, give_mean=True)\n",
    "r2_score(np.mean(adata_test.obsm[\"reconstruction\"], axis=0), np.array(np.mean(adata_test.X, axis=0))[0,:])"
   ]
  },
  {
   "cell_type": "code",
   "execution_count": null,
   "id": "279a9b77-2629-4d83-8b94-f03722c9be97",
   "metadata": {},
   "outputs": [],
   "source": []
  },
  {
   "cell_type": "code",
   "execution_count": 12,
   "id": "3c9ce0db-85ee-47f1-b6d2-6fb37c4652b2",
   "metadata": {},
   "outputs": [],
   "source": [
    "save_path = \"/lustre/groups/ml01/workspace/ot_perturbation/data/sciplex/sciplex_factorvi_test_10\"\n",
    "vae.save(save_path, overwrite=True)"
   ]
  },
  {
   "cell_type": "code",
   "execution_count": 13,
   "id": "c75915e6-ee74-4b58-bbb0-a73fbe2fea00",
   "metadata": {},
   "outputs": [],
   "source": [
    "adata_ood.uns['rank_genes_groups_cov_all'] = adata_train.uns['rank_genes_groups_cov_all']"
   ]
  },
  {
   "cell_type": "code",
   "execution_count": 14,
   "id": "517735db-58da-426c-9611-0173f6ac2fb9",
   "metadata": {},
   "outputs": [],
   "source": [
    "adata_train.write(os.path.join(output_dir, \"adata_train_biolord_split_30_with_scvi_10.h5ad\"))\n",
    "adata_test.write(os.path.join(output_dir, \"adata_test_biolord_split_30_with_scvi_10.h5ad\"))\n",
    "adata_ood.write(os.path.join(output_dir, \"adata_ood_biolord_split_30_with_scvi_10.h5ad\")) \n"
   ]
  },
  {
   "cell_type": "code",
   "execution_count": null,
   "id": "0c658def-e29d-4404-ae7a-686a86994763",
   "metadata": {},
   "outputs": [],
   "source": []
  }
 ],
 "metadata": {
  "kernelspec": {
   "display_name": "ot_pert_genot_scvi",
   "language": "python",
   "name": "ot_pert_genot_scvi"
  },
  "language_info": {
   "codemirror_mode": {
    "name": "ipython",
    "version": 3
   },
   "file_extension": ".py",
   "mimetype": "text/x-python",
   "name": "python",
   "nbconvert_exporter": "python",
   "pygments_lexer": "ipython3",
   "version": "3.12.2"
  }
 },
 "nbformat": 4,
 "nbformat_minor": 5
}
