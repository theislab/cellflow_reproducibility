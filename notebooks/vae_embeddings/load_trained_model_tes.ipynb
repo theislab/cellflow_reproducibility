{
 "cells": [
  {
   "cell_type": "code",
   "execution_count": 1,
   "id": "9d71f801-aa23-4ebb-8761-6aef9973d452",
   "metadata": {},
   "outputs": [
    {
     "name": "stderr",
     "output_type": "stream",
     "text": [
      "/home/icb/dominik.klein/mambaforge/envs/ot_pert_genot_scvi/lib/python3.12/site-packages/tqdm/auto.py:21: TqdmWarning: IProgress not found. Please update jupyter and ipywidgets. See https://ipywidgets.readthedocs.io/en/stable/user_install.html\n",
      "  from .autonotebook import tqdm as notebook_tqdm\n"
     ]
    }
   ],
   "source": [
    "\n",
    "import anndata as ad\n",
    "import numpy as np\n",
    "import scvi\n",
    "import juniper\n",
    "from typing import Literal, Optional, Dict\n",
    "import jax\n",
    "import pandas as pd\n",
    "import os\n",
    "\n",
    "def get_preds_from_adata(adata: ad.AnnData) -> Dict[str, jax.Array]:\n",
    "    d = {}\n",
    "\n",
    "    for condition in adata.obs[\"condition\"].cat.categories:\n",
    "        d[condition] = adata[adata.obs[\"condition\"]==condition].X\n",
    "    return d \n",
    "\n",
    "def write_preds_to_adata(predictions: Dict[str, jax.Array]) -> ad.AnnData:\n",
    "    all_data = []\n",
    "    conditions = []\n",
    "    for condition, array in predictions.items():\n",
    "        all_data.append(array)\n",
    "        conditions.extend([condition] * array.shape[0])\n",
    "    all_data_array = np.vstack(all_data)\n",
    "    obs_data = pd.DataFrame({\n",
    "        'condition': conditions\n",
    "    })\n",
    "    adata_pred = ad.AnnData(X=all_data_array, obs=obs_data)\n",
    "    return adata_pred\n",
    "\n",
    "\n",
    "def reconstruct_data(embedding, projection_matrix, mean_to_add):\n",
    "    \"\"\"Reconstructs data from projections.\"\"\"\n",
    "    return np.matmul(embedding, projection_matrix.T) + mean_to_add\n",
    "\n",
    "\n",
    "def reconstruct_data_from_vae(model_dir, adata_train, adata):\n",
    "    \"\"\"Reconstructs data from projections.\"\"\"\n",
    "    model = juniper.latent.model.FactorVI.load(model_dir, adata_train)\n",
    "    adata.obsm[\"X_scVI\"] = model.get_latent_representation(adata)\n",
    "    return model.get_reconstructed_expression(adata, give_mean=True)\n",
    "\n"
   ]
  },
  {
   "cell_type": "code",
   "execution_count": 2,
   "id": "b1dbc6da-5dd6-437d-a661-5885293b65f8",
   "metadata": {},
   "outputs": [
    {
     "name": "stderr",
     "output_type": "stream",
     "text": [
      "/home/icb/dominik.klein/mambaforge/envs/ot_pert_genot_scvi/lib/python3.12/site-packages/anndata/__init__.py:51: FutureWarning: `anndata.read` is deprecated, use `anndata.read_h5ad` instead. `ad.read` will be removed in mid 2024.\n",
      "  warnings.warn(\n",
      "/home/icb/dominik.klein/mambaforge/envs/ot_pert_genot_scvi/lib/python3.12/site-packages/anndata/__init__.py:51: FutureWarning: `anndata.read` is deprecated, use `anndata.read_h5ad` instead. `ad.read` will be removed in mid 2024.\n",
      "  warnings.warn(\n",
      "/home/icb/dominik.klein/mambaforge/envs/ot_pert_genot_scvi/lib/python3.12/site-packages/anndata/__init__.py:51: FutureWarning: `anndata.read` is deprecated, use `anndata.read_h5ad` instead. `ad.read` will be removed in mid 2024.\n",
      "  warnings.warn(\n"
     ]
    }
   ],
   "source": [
    "import scanpy as sc\n",
    "output_dir = \"/lustre/groups/ml01/workspace/ot_perturbation/data/combosciplex\"\n",
    "adata_train = sc.read(os.path.join(output_dir, \"adata_train_300.h5ad\"))\n",
    "adata_test = sc.read(os.path.join(output_dir, \"adata_test_300.h5ad\"))\n",
    "adata_ood = sc.read(os.path.join(output_dir, \"adata_ood_300.h5ad\")) \n"
   ]
  },
  {
   "cell_type": "code",
   "execution_count": 3,
   "id": "0920febd-646d-4693-b0e5-fe101308f65b",
   "metadata": {},
   "outputs": [],
   "source": [
    "model_dir = \"/lustre/groups/ml01/workspace/ot_perturbation/data/sciplex/combosciplex_factorvi_test\""
   ]
  },
  {
   "cell_type": "code",
   "execution_count": 4,
   "id": "4e39e5ed-41ff-40d6-b4c3-9b35f9460a1b",
   "metadata": {},
   "outputs": [],
   "source": [
    "import functools"
   ]
  },
  {
   "cell_type": "code",
   "execution_count": 5,
   "id": "76bfdb6a-8d32-4a73-8a7c-aa38e982c612",
   "metadata": {},
   "outputs": [
    {
     "name": "stdout",
     "output_type": "stream",
     "text": [
      "\u001b[34mINFO    \u001b[0m File \u001b[35m/lustre/groups/ml01/workspace/ot_perturbation/data/sciplex/combosciplex_factorvi_test/\u001b[0m\u001b[95mmodel.pt\u001b[0m       \n",
      "         already downloaded                                                                                        \n"
     ]
    },
    {
     "name": "stderr",
     "output_type": "stream",
     "text": [
      "/home/icb/dominik.klein/mambaforge/envs/ot_pert_genot_scvi/lib/python3.12/site-packages/lightning/fabric/plugins/environments/slurm.py:191: The `srun` command is available on your system but is not used. HINT: If your intention is to run Lightning on SLURM, prepend your python command with `srun` like so: srun python /home/icb/dominik.klein/mambaforge/envs/ot_pert_geno ...\n",
      "/home/icb/dominik.klein/mambaforge/envs/ot_pert_genot_scvi/lib/python3.12/site-packages/scvi/data/fields/_base_field.py:64: UserWarning: adata.X does not contain unnormalized count data. Are you sure this is what you want?\n",
      "  self.validate_field(adata)\n",
      "/home/icb/dominik.klein/mambaforge/envs/ot_pert_genot_scvi/lib/python3.12/site-packages/scvi/data/fields/_layer_field.py:116: UserWarning: Training will be faster when sparse matrix is formatted as CSR. It is safe to cast before model initialization.\n",
      "  _verify_and_correct_data_format(adata, self.attr_name, self.attr_key)\n",
      "2024-07-08 09:11:14.382151: W external/xla/xla/service/gpu/nvptx_compiler.cc:718] The NVIDIA driver's CUDA version is 12.3 which is older than the ptxas CUDA version (12.4.131). Because the driver is older than the ptxas version, XLA is disabling parallel compilation, which may slow down compilation. You should update your NVIDIA driver or use the NVIDIA-provided CUDA forward compatibility packages.\n",
      "/home/icb/dominik.klein/mambaforge/envs/ot_pert_genot_scvi/lib/python3.12/site-packages/lightning/fabric/plugins/environments/slurm.py:191: The `srun` command is available on your system but is not used. HINT: If your intention is to run Lightning on SLURM, prepend your python command with `srun` like so: srun python /home/icb/dominik.klein/mambaforge/envs/ot_pert_geno ...\n",
      "GPU available: True (cuda), used: True\n",
      "TPU available: False, using: 0 TPU cores\n",
      "IPU available: False, using: 0 IPUs\n",
      "HPU available: False, using: 0 HPUs\n",
      "/home/icb/dominik.klein/mambaforge/envs/ot_pert_genot_scvi/lib/python3.12/site-packages/lightning/fabric/plugins/environments/slurm.py:191: The `srun` command is available on your system but is not used. HINT: If your intention is to run Lightning on SLURM, prepend your python command with `srun` like so: srun python /home/icb/dominik.klein/mambaforge/envs/ot_pert_geno ...\n",
      "LOCAL_RANK: 0 - CUDA_VISIBLE_DEVICES: [0]\n",
      "/ictstr01/home/icb/dominik.klein/mambaforge/envs/ot_pert_genot_scvi/lib/python3.12/site-packages/lightning/pytorch/trainer/connectors/data_connector.py:441: The 'train_dataloader' does not have many workers which may be a bottleneck. Consider increasing the value of the `num_workers` argument` to `num_workers=5` in the `DataLoader` to improve performance.\n"
     ]
    },
    {
     "name": "stdout",
     "output_type": "stream",
     "text": [
      "Epoch 1/154:   0%|          | 0/154 [00:00<?, ?it/s]"
     ]
    },
    {
     "name": "stderr",
     "output_type": "stream",
     "text": [
      "/ictstr01/home/icb/dominik.klein/mambaforge/envs/ot_pert_genot_scvi/lib/python3.12/site-packages/lightning/pytorch/trainer/connectors/data_connector.py:385: You have overridden `transfer_batch_to_device` in `LightningModule` but have passed in a `LightningDataModule`. It will use the implementation from `LightningModule` instance.\n"
     ]
    },
    {
     "name": "stdout",
     "output_type": "stream",
     "text": [
      "Epoch 1/154:   1%|          | 1/154 [00:04<09:47,  3.84s/it, v_num=1, train_loss=578, rec_loss=578, kld_loss=14.1]"
     ]
    },
    {
     "name": "stderr",
     "output_type": "stream",
     "text": [
      "`Trainer.fit` stopped: `max_steps=1` reached.\n"
     ]
    },
    {
     "name": "stdout",
     "output_type": "stream",
     "text": [
      "Epoch 1/154:   1%|          | 1/154 [00:04<11:17,  4.43s/it, v_num=1, train_loss=578, rec_loss=578, kld_loss=14.1]\n"
     ]
    }
   ],
   "source": [
    "model = juniper.latent.model.FactorVI.load(model_dir, adata_train)"
   ]
  },
  {
   "cell_type": "code",
   "execution_count": 7,
   "id": "d233c1e4-e6ae-44f2-9f58-47139999e960",
   "metadata": {},
   "outputs": [
    {
     "data": {
      "text/plain": [
       "['__annotations__',\n",
       " '__call__',\n",
       " '__class__',\n",
       " '__dataclass_fields__',\n",
       " '__dataclass_params__',\n",
       " '__dataclass_transform__',\n",
       " '__delattr__',\n",
       " '__dict__',\n",
       " '__dir__',\n",
       " '__doc__',\n",
       " '__eq__',\n",
       " '__format__',\n",
       " '__ge__',\n",
       " '__getattr__',\n",
       " '__getattribute__',\n",
       " '__getstate__',\n",
       " '__gt__',\n",
       " '__hash__',\n",
       " '__init__',\n",
       " '__init_subclass__',\n",
       " '__le__',\n",
       " '__lt__',\n",
       " '__match_args__',\n",
       " '__module__',\n",
       " '__ne__',\n",
       " '__new__',\n",
       " '__post_init__',\n",
       " '__reduce__',\n",
       " '__reduce_ex__',\n",
       " '__repr__',\n",
       " '__setattr__',\n",
       " '__sizeof__',\n",
       " '__str__',\n",
       " '__subclasshook__',\n",
       " '__weakref__',\n",
       " '_call_wrapped_method',\n",
       " '_check_train_state_is_not_none',\n",
       " '_compact_name_scope_methods',\n",
       " '_customized_dataclass_transform',\n",
       " '_find_compact_name_scope_methods',\n",
       " '_get_generative_input',\n",
       " '_get_inference_input',\n",
       " '_id',\n",
       " '_initialization_allowed',\n",
       " '_module_checks',\n",
       " '_name_taken',\n",
       " '_parent_ref',\n",
       " '_register_submodules',\n",
       " '_rngs',\n",
       " '_set_rngs',\n",
       " '_split_rngs',\n",
       " '_state',\n",
       " '_try_setup',\n",
       " '_validate_setup',\n",
       " '_verify_single_or_no_compact',\n",
       " '_wrap_module_attributes',\n",
       " 'apply',\n",
       " 'as_bound',\n",
       " 'as_numpy_array',\n",
       " 'bind',\n",
       " 'clone',\n",
       " 'configure',\n",
       " 'copy',\n",
       " 'count_input',\n",
       " 'decoder_layers',\n",
       " 'device',\n",
       " 'disentangling_metric',\n",
       " 'disentangling_weight',\n",
       " 'encoder_layers',\n",
       " 'eval',\n",
       " 'generative',\n",
       " 'get_jit_generative_fn',\n",
       " 'get_jit_inference_fn',\n",
       " 'get_variable',\n",
       " 'has_rng',\n",
       " 'has_variable',\n",
       " 'inference',\n",
       " 'init',\n",
       " 'init_with_output',\n",
       " 'is_initializing',\n",
       " 'is_mutable_collection',\n",
       " 'kld_weight',\n",
       " 'lazy_init',\n",
       " 'load_state_dict',\n",
       " 'loss',\n",
       " 'make_rng',\n",
       " 'mask_dims',\n",
       " 'module_paths',\n",
       " 'n_batch',\n",
       " 'n_cats_per_cov',\n",
       " 'name',\n",
       " 'net_kwargs',\n",
       " 'on_load',\n",
       " 'param',\n",
       " 'param_partitions',\n",
       " 'params',\n",
       " 'parent',\n",
       " 'path',\n",
       " 'perturb',\n",
       " 'put_variable',\n",
       " 'required_rngs',\n",
       " 'rngs',\n",
       " 'scope',\n",
       " 'seed',\n",
       " 'seed_rng',\n",
       " 'setup',\n",
       " 'sow',\n",
       " 'state',\n",
       " 'state_dict',\n",
       " 'tabulate',\n",
       " 'to',\n",
       " 'train',\n",
       " 'train_state',\n",
       " 'training',\n",
       " 'unbind',\n",
       " 'variable',\n",
       " 'variables',\n",
       " 'x_dim',\n",
       " 'z_dim']"
      ]
     },
     "execution_count": 7,
     "metadata": {},
     "output_type": "execute_result"
    }
   ],
   "source": [
    "dir(model.module)"
   ]
  },
  {
   "cell_type": "code",
   "execution_count": 8,
   "id": "c3d872e6-3012-497c-9dfc-0086374891a9",
   "metadata": {},
   "outputs": [
    {
     "data": {
      "text/plain": [
       "{'decoder': {'disp': Array([[-0.00901103],\n",
       "         [ 1.6431851 ],\n",
       "         [-0.862552  ],\n",
       "         ...,\n",
       "         [-0.316092  ],\n",
       "         [-0.8693874 ],\n",
       "         [ 0.02939256]], dtype=float32),\n",
       "  'mlp': {'batchnorms_0': {'bias': Array([-0.1754373 , -0.16873913, -0.09719211, ..., -0.1230128 ,\n",
       "           -0.11073232, -0.05947183], dtype=float32),\n",
       "    'scale': Array([0.93593216, 0.9610804 , 1.0540652 , ..., 1.0390935 , 0.95801276,\n",
       "           0.97524554], dtype=float32)},\n",
       "   'batchnorms_1': {'bias': Array([-0.06353407, -0.07592379, -0.13063285, ..., -0.06392703,\n",
       "           -0.10699841, -0.09110859], dtype=float32),\n",
       "    'scale': Array([0.9887081, 0.972156 , 1.043807 , ..., 1.0458841, 1.0110469,\n",
       "           1.0576954], dtype=float32)},\n",
       "   'layers_0': {'bias': Array([ 1.2064066e-09, -3.7738426e-09, -2.4081122e-09, ...,\n",
       "           -1.6211040e-09, -1.6765181e-09,  1.4856989e-09], dtype=float32),\n",
       "    'kernel': Array([[ 0.01861437,  0.31134918, -0.18183663, ...,  0.0770072 ,\n",
       "             0.02881805, -0.17456822],\n",
       "           [ 0.10345166,  0.04676194, -0.06509297, ..., -0.08995378,\n",
       "            -0.07540017, -0.32118744],\n",
       "           [ 0.27774814,  0.06030556, -0.07817854, ...,  0.15069476,\n",
       "             0.23736647, -0.3100459 ],\n",
       "           ...,\n",
       "           [-0.2824225 ,  0.05490134,  0.12513132, ...,  0.00874408,\n",
       "            -0.13190393, -0.05701025],\n",
       "           [-0.21270867, -0.03891667,  0.01026755, ..., -0.18264897,\n",
       "             0.05913155, -0.05449793],\n",
       "           [-0.11923637, -0.30178183, -0.1571174 , ...,  0.28878313,\n",
       "            -0.29563177, -0.00618881]], dtype=float32)},\n",
       "   'layers_1': {'bias': Array([ 1.9345853e-08, -6.4875652e-09,  1.0139515e-08, ...,\n",
       "           -1.5730552e-09, -2.9989631e-09,  2.9531969e-10], dtype=float32),\n",
       "    'kernel': Array([[-0.0033871 , -0.03498361, -0.05957913, ..., -0.02496732,\n",
       "             0.00129699,  0.02307948],\n",
       "           [-0.0204458 , -0.01869565, -0.01860948, ..., -0.01926231,\n",
       "            -0.00163348,  0.01286641],\n",
       "           [-0.07946392,  0.01134114,  0.00925425, ..., -0.05391093,\n",
       "            -0.03016745,  0.05126151],\n",
       "           ...,\n",
       "           [ 0.06367945,  0.00328768,  0.0252581 , ...,  0.00888825,\n",
       "             0.0215699 ,  0.01865831],\n",
       "           [ 0.01566956,  0.00837824,  0.03114268, ...,  0.05973287,\n",
       "             0.01975063, -0.00926174],\n",
       "           [ 0.02184233,  0.02033641, -0.00519094, ..., -0.06804976,\n",
       "            -0.04187907, -0.03860455]], dtype=float32)}},\n",
       "  'rho_layer': {'bias': Array([-0.01573858, -0.01731621, -0.01113795, ..., -0.02427163,\n",
       "          -0.02201004, -0.02353079], dtype=float32),\n",
       "   'kernel': Array([[ 0.02930788,  0.03212149,  0.00663858, ..., -0.05476316,\n",
       "           -0.02910549,  0.00901911],\n",
       "          [-0.05096642,  0.00482161, -0.02068488, ...,  0.02071023,\n",
       "           -0.07021569, -0.04999741],\n",
       "          [ 0.03452136, -0.04050749,  0.03345118, ...,  0.01780654,\n",
       "           -0.06547631, -0.05314903],\n",
       "          ...,\n",
       "          [ 0.03548086, -0.02679087, -0.04206576, ..., -0.01650231,\n",
       "           -0.02203178,  0.00716711],\n",
       "          [ 0.02050164,  0.0342189 , -0.03595452, ...,  0.01201777,\n",
       "            0.00932172, -0.0221709 ],\n",
       "          [ 0.02649221, -0.04167614, -0.02834908, ..., -0.02920581,\n",
       "           -0.02382302, -0.02258711]], dtype=float32)}},\n",
       " 'encoder': {'logvar_layer': {'bias': Array([-0.09258008, -0.10441778, -0.09336581, -0.09209744, -0.0878019 ,\n",
       "          -0.0943297 , -0.07921253, -0.0901155 , -0.08847063, -0.09910748,\n",
       "          -0.09285964, -0.10353985, -0.08276762, -0.09785946, -0.09414671,\n",
       "          -0.08235567, -0.09035163, -0.09708606, -0.0910568 , -0.08831955,\n",
       "          -0.08717842, -0.0935706 , -0.08444458, -0.08560928, -0.08702967,\n",
       "          -0.08460955, -0.08495524, -0.08389337, -0.08527324, -0.08883096,\n",
       "          -0.0962903 , -0.08570161], dtype=float32),\n",
       "   'kernel': Array([[-0.00068364,  0.02036661, -0.01551458, ..., -0.01140638,\n",
       "           -0.01025182,  0.00079961],\n",
       "          [-0.00850997, -0.03793503, -0.00786606, ..., -0.03159815,\n",
       "           -0.03165266, -0.01222823],\n",
       "          [-0.02404334, -0.02487759, -0.00161732, ..., -0.02977718,\n",
       "           -0.00445448, -0.00169744],\n",
       "          ...,\n",
       "          [ 0.00986835,  0.0050106 ,  0.02014167, ..., -0.00488284,\n",
       "           -0.00263792,  0.03697617],\n",
       "          [-0.02551032, -0.02652017, -0.02691031, ..., -0.04221265,\n",
       "           -0.01958413, -0.02963914],\n",
       "          [ 0.00346945, -0.00813398, -0.00636812, ..., -0.02652359,\n",
       "           -0.00300125, -0.02214134]], dtype=float32)},\n",
       "  'mean_layer': {'bias': Array([-0.00542548,  0.01240005, -0.11865256,  0.0169653 ,  0.06877633,\n",
       "          -0.05338262,  0.02687297,  0.00693411,  0.05825164,  0.02741167,\n",
       "          -0.05925823, -0.06711995, -0.01555058, -0.03730049, -0.05771104,\n",
       "           0.04603313, -0.03124012,  0.02544443,  0.01809792, -0.08085505,\n",
       "          -0.0630469 , -0.07733188,  0.05160084, -0.01709241,  0.13483638,\n",
       "          -0.05540089,  0.07307059,  0.00678069,  0.14276811, -0.04932   ,\n",
       "          -0.09067447,  0.0605472 ], dtype=float32),\n",
       "   'kernel': Array([[ 0.02851762,  0.0066634 ,  0.00052748, ..., -0.00668621,\n",
       "           -0.00446259, -0.0159832 ],\n",
       "          [-0.02122411,  0.00250455, -0.00612573, ...,  0.00069693,\n",
       "            0.01382598, -0.01781509],\n",
       "          [ 0.02086127,  0.01038415,  0.00238749, ...,  0.00756784,\n",
       "           -0.00074114, -0.00021705],\n",
       "          ...,\n",
       "          [-0.00630813,  0.00668587, -0.02359454, ..., -0.00420012,\n",
       "            0.00524237,  0.00035475],\n",
       "          [-0.01862075,  0.00482457,  0.01542855, ..., -0.01578259,\n",
       "            0.02722354,  0.00863443],\n",
       "          [-0.01302445,  0.01810345, -0.002966  , ..., -0.01227869,\n",
       "            0.02677427,  0.00019151]], dtype=float32)},\n",
       "  'mlp': {'batchnorms_0': {'bias': Array([-0.01346894, -0.09323328, -0.08451196, ..., -0.08129244,\n",
       "           -0.10045157, -0.06914775], dtype=float32),\n",
       "    'scale': Array([0.99016213, 1.0151078 , 1.0003515 , ..., 0.9942918 , 0.9990124 ,\n",
       "           1.0182853 ], dtype=float32)},\n",
       "   'batchnorms_1': {'bias': Array([-0.08798192,  0.0095362 ,  0.01581176, ..., -0.02515005,\n",
       "           -0.00470939, -0.00862971], dtype=float32),\n",
       "    'scale': Array([0.9473134 , 0.95560664, 0.9561607 , ..., 0.9590837 , 0.95984626,\n",
       "           0.94960386], dtype=float32)},\n",
       "   'layers_0': {'bias': Array([-1.1226052e-09,  5.8557870e-09,  3.1357195e-09, ...,\n",
       "           -3.3890493e-09, -7.5896789e-10,  1.4647006e-09], dtype=float32),\n",
       "    'kernel': Array([[ 0.00035263, -0.02340562,  0.01752869, ..., -0.02797489,\n",
       "            -0.0400017 , -0.03345189],\n",
       "           [ 0.01534055,  0.02613363, -0.04460263, ...,  0.00186126,\n",
       "            -0.01095142, -0.03664051],\n",
       "           [ 0.00386132,  0.00946962,  0.01479863, ..., -0.03389167,\n",
       "            -0.00323965, -0.00996023],\n",
       "           ...,\n",
       "           [ 0.03743462,  0.02622158, -0.04496361, ..., -0.01394518,\n",
       "             0.00453863, -0.01058034],\n",
       "           [ 0.04331514,  0.01248835,  0.0189737 , ..., -0.00969102,\n",
       "             0.01321241,  0.01141229],\n",
       "           [ 0.01862492, -0.04224344, -0.00353125, ...,  0.03033238,\n",
       "            -0.03284767,  0.04009218]], dtype=float32)},\n",
       "   'layers_1': {'bias': Array([-2.1931124e-10, -1.8411126e-09, -1.8598615e-09, ...,\n",
       "           -5.6783560e-11, -2.4907616e-09,  8.8959079e-10], dtype=float32),\n",
       "    'kernel': Array([[ 0.02468325, -0.00568348,  0.02827049, ..., -0.04629427,\n",
       "             0.03172363, -0.08341108],\n",
       "           [ 0.0578707 , -0.01718105,  0.0096538 , ...,  0.02189762,\n",
       "            -0.00184351,  0.01970991],\n",
       "           [-0.01688483,  0.03380609,  0.01141659, ...,  0.02006847,\n",
       "             0.04042163, -0.01814707],\n",
       "           ...,\n",
       "           [ 0.0321211 ,  0.00255354, -0.01094751, ...,  0.01853547,\n",
       "             0.00192605,  0.01806085],\n",
       "           [-0.03883148,  0.0283083 ,  0.01785913, ...,  0.01928093,\n",
       "             0.05589643, -0.00461853],\n",
       "           [-0.05151733, -0.03454115, -0.01393097, ...,  0.06023927,\n",
       "             0.04851406, -0.05972084]], dtype=float32)}}}}"
      ]
     },
     "execution_count": 8,
     "metadata": {},
     "output_type": "execute_result"
    }
   ],
   "source": [
    "model.module.params"
   ]
  },
  {
   "cell_type": "code",
   "execution_count": null,
   "id": "1062c79f-d96e-4f82-a1b4-18126014ff67",
   "metadata": {},
   "outputs": [],
   "source": []
  },
  {
   "cell_type": "code",
   "execution_count": 9,
   "id": "8edfcaa8-5d79-41d0-a961-a083650270ef",
   "metadata": {},
   "outputs": [],
   "source": [
    "model.save(\"/lustre/groups/ml01/workspace/ot_perturbation/data/sciplex/combosciplex_factorvi_test2\")"
   ]
  },
  {
   "cell_type": "code",
   "execution_count": 10,
   "id": "1c289dac-b074-4eec-aef3-54745e806511",
   "metadata": {},
   "outputs": [
    {
     "name": "stdout",
     "output_type": "stream",
     "text": [
      "\u001b[34mINFO    \u001b[0m File \u001b[35m/lustre/groups/ml01/workspace/ot_perturbation/data/sciplex/combosciplex_factorvi_test2/\u001b[0m\u001b[95mmodel.pt\u001b[0m      \n",
      "         already downloaded                                                                                        \n"
     ]
    },
    {
     "name": "stderr",
     "output_type": "stream",
     "text": [
      "/home/icb/dominik.klein/mambaforge/envs/ot_pert_genot_scvi/lib/python3.12/site-packages/lightning/fabric/plugins/environments/slurm.py:191: The `srun` command is available on your system but is not used. HINT: If your intention is to run Lightning on SLURM, prepend your python command with `srun` like so: srun python /home/icb/dominik.klein/mambaforge/envs/ot_pert_geno ...\n",
      "/home/icb/dominik.klein/mambaforge/envs/ot_pert_genot_scvi/lib/python3.12/site-packages/scvi/data/fields/_base_field.py:64: UserWarning: adata.X does not contain unnormalized count data. Are you sure this is what you want?\n",
      "  self.validate_field(adata)\n",
      "/home/icb/dominik.klein/mambaforge/envs/ot_pert_genot_scvi/lib/python3.12/site-packages/scvi/data/fields/_layer_field.py:116: UserWarning: Training will be faster when sparse matrix is formatted as CSR. It is safe to cast before model initialization.\n",
      "  _verify_and_correct_data_format(adata, self.attr_name, self.attr_key)\n",
      "/home/icb/dominik.klein/mambaforge/envs/ot_pert_genot_scvi/lib/python3.12/site-packages/lightning/fabric/plugins/environments/slurm.py:191: The `srun` command is available on your system but is not used. HINT: If your intention is to run Lightning on SLURM, prepend your python command with `srun` like so: srun python /home/icb/dominik.klein/mambaforge/envs/ot_pert_geno ...\n",
      "GPU available: True (cuda), used: True\n",
      "TPU available: False, using: 0 TPU cores\n",
      "IPU available: False, using: 0 IPUs\n",
      "HPU available: False, using: 0 HPUs\n",
      "/home/icb/dominik.klein/mambaforge/envs/ot_pert_genot_scvi/lib/python3.12/site-packages/lightning/fabric/plugins/environments/slurm.py:191: The `srun` command is available on your system but is not used. HINT: If your intention is to run Lightning on SLURM, prepend your python command with `srun` like so: srun python /home/icb/dominik.klein/mambaforge/envs/ot_pert_geno ...\n",
      "LOCAL_RANK: 0 - CUDA_VISIBLE_DEVICES: [0]\n",
      "/ictstr01/home/icb/dominik.klein/mambaforge/envs/ot_pert_genot_scvi/lib/python3.12/site-packages/lightning/pytorch/trainer/connectors/data_connector.py:441: The 'train_dataloader' does not have many workers which may be a bottleneck. Consider increasing the value of the `num_workers` argument` to `num_workers=5` in the `DataLoader` to improve performance.\n"
     ]
    },
    {
     "name": "stdout",
     "output_type": "stream",
     "text": [
      "Epoch 1/154:   1%|          | 1/154 [00:03<08:52,  3.48s/it, v_num=1, train_loss=564, rec_loss=564, kld_loss=14.1]"
     ]
    },
    {
     "name": "stderr",
     "output_type": "stream",
     "text": [
      "`Trainer.fit` stopped: `max_steps=1` reached.\n"
     ]
    },
    {
     "name": "stdout",
     "output_type": "stream",
     "text": [
      "Epoch 1/154:   1%|          | 1/154 [00:03<09:02,  3.55s/it, v_num=1, train_loss=564, rec_loss=564, kld_loss=14.1]\n"
     ]
    }
   ],
   "source": [
    "model2 = juniper.latent.model.FactorVI.load(\"/lustre/groups/ml01/workspace/ot_perturbation/data/sciplex/combosciplex_factorvi_test2\", adata_train)"
   ]
  },
  {
   "cell_type": "code",
   "execution_count": 12,
   "id": "52c6e339-4d44-482d-a942-634300e78c02",
   "metadata": {},
   "outputs": [
    {
     "data": {
      "text/plain": [
       "{'decoder': {'disp': Array([[-0.00901103],\n",
       "         [ 1.6431851 ],\n",
       "         [-0.862552  ],\n",
       "         ...,\n",
       "         [-0.316092  ],\n",
       "         [-0.8693874 ],\n",
       "         [ 0.02939256]], dtype=float32),\n",
       "  'mlp': {'batchnorms_0': {'bias': Array([-0.1754373 , -0.16873913, -0.09719211, ..., -0.1230128 ,\n",
       "           -0.11073232, -0.05947183], dtype=float32),\n",
       "    'scale': Array([0.93593216, 0.9610804 , 1.0540652 , ..., 1.0390935 , 0.95801276,\n",
       "           0.97524554], dtype=float32)},\n",
       "   'batchnorms_1': {'bias': Array([-0.06353407, -0.07592379, -0.13063285, ..., -0.06392703,\n",
       "           -0.10699841, -0.09110859], dtype=float32),\n",
       "    'scale': Array([0.9887081, 0.972156 , 1.043807 , ..., 1.0458841, 1.0110469,\n",
       "           1.0576954], dtype=float32)},\n",
       "   'layers_0': {'bias': Array([ 1.2064066e-09, -3.7738426e-09, -2.4081122e-09, ...,\n",
       "           -1.6211040e-09, -1.6765181e-09,  1.4856989e-09], dtype=float32),\n",
       "    'kernel': Array([[ 0.01861437,  0.31134918, -0.18183663, ...,  0.0770072 ,\n",
       "             0.02881805, -0.17456822],\n",
       "           [ 0.10345166,  0.04676194, -0.06509297, ..., -0.08995378,\n",
       "            -0.07540017, -0.32118744],\n",
       "           [ 0.27774814,  0.06030556, -0.07817854, ...,  0.15069476,\n",
       "             0.23736647, -0.3100459 ],\n",
       "           ...,\n",
       "           [-0.2824225 ,  0.05490134,  0.12513132, ...,  0.00874408,\n",
       "            -0.13190393, -0.05701025],\n",
       "           [-0.21270867, -0.03891667,  0.01026755, ..., -0.18264897,\n",
       "             0.05913155, -0.05449793],\n",
       "           [-0.11923637, -0.30178183, -0.1571174 , ...,  0.28878313,\n",
       "            -0.29563177, -0.00618881]], dtype=float32)},\n",
       "   'layers_1': {'bias': Array([ 1.9345853e-08, -6.4875652e-09,  1.0139515e-08, ...,\n",
       "           -1.5730552e-09, -2.9989631e-09,  2.9531969e-10], dtype=float32),\n",
       "    'kernel': Array([[-0.0033871 , -0.03498361, -0.05957913, ..., -0.02496732,\n",
       "             0.00129699,  0.02307948],\n",
       "           [-0.0204458 , -0.01869565, -0.01860948, ..., -0.01926231,\n",
       "            -0.00163348,  0.01286641],\n",
       "           [-0.07946392,  0.01134114,  0.00925425, ..., -0.05391093,\n",
       "            -0.03016745,  0.05126151],\n",
       "           ...,\n",
       "           [ 0.06367945,  0.00328768,  0.0252581 , ...,  0.00888825,\n",
       "             0.0215699 ,  0.01865831],\n",
       "           [ 0.01566956,  0.00837824,  0.03114268, ...,  0.05973287,\n",
       "             0.01975063, -0.00926174],\n",
       "           [ 0.02184233,  0.02033641, -0.00519094, ..., -0.06804976,\n",
       "            -0.04187907, -0.03860455]], dtype=float32)}},\n",
       "  'rho_layer': {'bias': Array([-0.01573858, -0.01731621, -0.01113795, ..., -0.02427163,\n",
       "          -0.02201004, -0.02353079], dtype=float32),\n",
       "   'kernel': Array([[ 0.02930788,  0.03212149,  0.00663858, ..., -0.05476316,\n",
       "           -0.02910549,  0.00901911],\n",
       "          [-0.05096642,  0.00482161, -0.02068488, ...,  0.02071023,\n",
       "           -0.07021569, -0.04999741],\n",
       "          [ 0.03452136, -0.04050749,  0.03345118, ...,  0.01780654,\n",
       "           -0.06547631, -0.05314903],\n",
       "          ...,\n",
       "          [ 0.03548086, -0.02679087, -0.04206576, ..., -0.01650231,\n",
       "           -0.02203178,  0.00716711],\n",
       "          [ 0.02050164,  0.0342189 , -0.03595452, ...,  0.01201777,\n",
       "            0.00932172, -0.0221709 ],\n",
       "          [ 0.02649221, -0.04167614, -0.02834908, ..., -0.02920581,\n",
       "           -0.02382302, -0.02258711]], dtype=float32)}},\n",
       " 'encoder': {'logvar_layer': {'bias': Array([-0.09258008, -0.10441778, -0.09336581, -0.09209744, -0.0878019 ,\n",
       "          -0.0943297 , -0.07921253, -0.0901155 , -0.08847063, -0.09910748,\n",
       "          -0.09285964, -0.10353985, -0.08276762, -0.09785946, -0.09414671,\n",
       "          -0.08235567, -0.09035163, -0.09708606, -0.0910568 , -0.08831955,\n",
       "          -0.08717842, -0.0935706 , -0.08444458, -0.08560928, -0.08702967,\n",
       "          -0.08460955, -0.08495524, -0.08389337, -0.08527324, -0.08883096,\n",
       "          -0.0962903 , -0.08570161], dtype=float32),\n",
       "   'kernel': Array([[-0.00068364,  0.02036661, -0.01551458, ..., -0.01140638,\n",
       "           -0.01025182,  0.00079961],\n",
       "          [-0.00850997, -0.03793503, -0.00786606, ..., -0.03159815,\n",
       "           -0.03165266, -0.01222823],\n",
       "          [-0.02404334, -0.02487759, -0.00161732, ..., -0.02977718,\n",
       "           -0.00445448, -0.00169744],\n",
       "          ...,\n",
       "          [ 0.00986835,  0.0050106 ,  0.02014167, ..., -0.00488284,\n",
       "           -0.00263792,  0.03697617],\n",
       "          [-0.02551032, -0.02652017, -0.02691031, ..., -0.04221265,\n",
       "           -0.01958413, -0.02963914],\n",
       "          [ 0.00346945, -0.00813398, -0.00636812, ..., -0.02652359,\n",
       "           -0.00300125, -0.02214134]], dtype=float32)},\n",
       "  'mean_layer': {'bias': Array([-0.00542548,  0.01240005, -0.11865256,  0.0169653 ,  0.06877633,\n",
       "          -0.05338262,  0.02687297,  0.00693411,  0.05825164,  0.02741167,\n",
       "          -0.05925823, -0.06711995, -0.01555058, -0.03730049, -0.05771104,\n",
       "           0.04603313, -0.03124012,  0.02544443,  0.01809792, -0.08085505,\n",
       "          -0.0630469 , -0.07733188,  0.05160084, -0.01709241,  0.13483638,\n",
       "          -0.05540089,  0.07307059,  0.00678069,  0.14276811, -0.04932   ,\n",
       "          -0.09067447,  0.0605472 ], dtype=float32),\n",
       "   'kernel': Array([[ 0.02851762,  0.0066634 ,  0.00052748, ..., -0.00668621,\n",
       "           -0.00446259, -0.0159832 ],\n",
       "          [-0.02122411,  0.00250455, -0.00612573, ...,  0.00069693,\n",
       "            0.01382598, -0.01781509],\n",
       "          [ 0.02086127,  0.01038415,  0.00238749, ...,  0.00756784,\n",
       "           -0.00074114, -0.00021705],\n",
       "          ...,\n",
       "          [-0.00630813,  0.00668587, -0.02359454, ..., -0.00420012,\n",
       "            0.00524237,  0.00035475],\n",
       "          [-0.01862075,  0.00482457,  0.01542855, ..., -0.01578259,\n",
       "            0.02722354,  0.00863443],\n",
       "          [-0.01302445,  0.01810345, -0.002966  , ..., -0.01227869,\n",
       "            0.02677427,  0.00019151]], dtype=float32)},\n",
       "  'mlp': {'batchnorms_0': {'bias': Array([-0.01346894, -0.09323328, -0.08451196, ..., -0.08129244,\n",
       "           -0.10045157, -0.06914775], dtype=float32),\n",
       "    'scale': Array([0.99016213, 1.0151078 , 1.0003515 , ..., 0.9942918 , 0.9990124 ,\n",
       "           1.0182853 ], dtype=float32)},\n",
       "   'batchnorms_1': {'bias': Array([-0.08798192,  0.0095362 ,  0.01581176, ..., -0.02515005,\n",
       "           -0.00470939, -0.00862971], dtype=float32),\n",
       "    'scale': Array([0.9473134 , 0.95560664, 0.9561607 , ..., 0.9590837 , 0.95984626,\n",
       "           0.94960386], dtype=float32)},\n",
       "   'layers_0': {'bias': Array([-1.1226052e-09,  5.8557870e-09,  3.1357195e-09, ...,\n",
       "           -3.3890493e-09, -7.5896789e-10,  1.4647006e-09], dtype=float32),\n",
       "    'kernel': Array([[ 0.00035263, -0.02340562,  0.01752869, ..., -0.02797489,\n",
       "            -0.0400017 , -0.03345189],\n",
       "           [ 0.01534055,  0.02613363, -0.04460263, ...,  0.00186126,\n",
       "            -0.01095142, -0.03664051],\n",
       "           [ 0.00386132,  0.00946962,  0.01479863, ..., -0.03389167,\n",
       "            -0.00323965, -0.00996023],\n",
       "           ...,\n",
       "           [ 0.03743462,  0.02622158, -0.04496361, ..., -0.01394518,\n",
       "             0.00453863, -0.01058034],\n",
       "           [ 0.04331514,  0.01248835,  0.0189737 , ..., -0.00969102,\n",
       "             0.01321241,  0.01141229],\n",
       "           [ 0.01862492, -0.04224344, -0.00353125, ...,  0.03033238,\n",
       "            -0.03284767,  0.04009218]], dtype=float32)},\n",
       "   'layers_1': {'bias': Array([-2.1931124e-10, -1.8411126e-09, -1.8598615e-09, ...,\n",
       "           -5.6783560e-11, -2.4907616e-09,  8.8959079e-10], dtype=float32),\n",
       "    'kernel': Array([[ 0.02468325, -0.00568348,  0.02827049, ..., -0.04629427,\n",
       "             0.03172363, -0.08341108],\n",
       "           [ 0.0578707 , -0.01718105,  0.0096538 , ...,  0.02189762,\n",
       "            -0.00184351,  0.01970991],\n",
       "           [-0.01688483,  0.03380609,  0.01141659, ...,  0.02006847,\n",
       "             0.04042163, -0.01814707],\n",
       "           ...,\n",
       "           [ 0.0321211 ,  0.00255354, -0.01094751, ...,  0.01853547,\n",
       "             0.00192605,  0.01806085],\n",
       "           [-0.03883148,  0.0283083 ,  0.01785913, ...,  0.01928093,\n",
       "             0.05589643, -0.00461853],\n",
       "           [-0.05151733, -0.03454115, -0.01393097, ...,  0.06023927,\n",
       "             0.04851406, -0.05972084]], dtype=float32)}}}}"
      ]
     },
     "execution_count": 12,
     "metadata": {},
     "output_type": "execute_result"
    }
   ],
   "source": [
    "model2.module.params"
   ]
  },
  {
   "cell_type": "code",
   "execution_count": 17,
   "id": "9e208664-ce5b-43fc-8de3-873812faf48b",
   "metadata": {},
   "outputs": [],
   "source": [
    "out_tree = jax.tree_util.tree_map(lambda x,y: x==y, model2.module.params, model.module.params)"
   ]
  },
  {
   "cell_type": "code",
   "execution_count": 28,
   "id": "0676277d-a0ef-4f06-bd92-8809d684a3fc",
   "metadata": {},
   "outputs": [],
   "source": [
    "reconstruct_data_fn = functools.partial(\n",
    "            reconstruct_data_from_vae, model_dir=model_dir, adata_train=adata_train\n",
    "        )"
   ]
  },
  {
   "cell_type": "code",
   "execution_count": 29,
   "id": "2cc515bb-9c9d-47e7-b317-3b6db25957d9",
   "metadata": {},
   "outputs": [
    {
     "name": "stdout",
     "output_type": "stream",
     "text": [
      "\u001b[34mINFO    \u001b[0m File \u001b[35m/lustre/groups/ml01/workspace/ot_perturbation/data/sciplex/combosciplex_factorvi_test/\u001b[0m\u001b[95mmodel.pt\u001b[0m       \n",
      "         already downloaded                                                                                        \n"
     ]
    },
    {
     "name": "stderr",
     "output_type": "stream",
     "text": [
      "/home/icb/dominik.klein/mambaforge/envs/ot_pert_genot_scvi/lib/python3.12/site-packages/lightning/fabric/plugins/environments/slurm.py:191: The `srun` command is available on your system but is not used. HINT: If your intention is to run Lightning on SLURM, prepend your python command with `srun` like so: srun python /home/icb/dominik.klein/mambaforge/envs/ot_pert_geno ...\n",
      "/home/icb/dominik.klein/mambaforge/envs/ot_pert_genot_scvi/lib/python3.12/site-packages/scvi/data/fields/_base_field.py:64: UserWarning: adata.X does not contain unnormalized count data. Are you sure this is what you want?\n",
      "  self.validate_field(adata)\n",
      "/home/icb/dominik.klein/mambaforge/envs/ot_pert_genot_scvi/lib/python3.12/site-packages/scvi/data/fields/_layer_field.py:116: UserWarning: Training will be faster when sparse matrix is formatted as CSR. It is safe to cast before model initialization.\n",
      "  _verify_and_correct_data_format(adata, self.attr_name, self.attr_key)\n",
      "/home/icb/dominik.klein/mambaforge/envs/ot_pert_genot_scvi/lib/python3.12/site-packages/lightning/fabric/plugins/environments/slurm.py:191: The `srun` command is available on your system but is not used. HINT: If your intention is to run Lightning on SLURM, prepend your python command with `srun` like so: srun python /home/icb/dominik.klein/mambaforge/envs/ot_pert_geno ...\n",
      "GPU available: True (cuda), used: True\n",
      "TPU available: False, using: 0 TPU cores\n",
      "IPU available: False, using: 0 IPUs\n",
      "HPU available: False, using: 0 HPUs\n",
      "/home/icb/dominik.klein/mambaforge/envs/ot_pert_genot_scvi/lib/python3.12/site-packages/lightning/fabric/plugins/environments/slurm.py:191: The `srun` command is available on your system but is not used. HINT: If your intention is to run Lightning on SLURM, prepend your python command with `srun` like so: srun python /home/icb/dominik.klein/mambaforge/envs/ot_pert_geno ...\n",
      "LOCAL_RANK: 0 - CUDA_VISIBLE_DEVICES: [0]\n",
      "/ictstr01/home/icb/dominik.klein/mambaforge/envs/ot_pert_genot_scvi/lib/python3.12/site-packages/lightning/pytorch/trainer/connectors/data_connector.py:441: The 'train_dataloader' does not have many workers which may be a bottleneck. Consider increasing the value of the `num_workers` argument` to `num_workers=5` in the `DataLoader` to improve performance.\n"
     ]
    },
    {
     "name": "stdout",
     "output_type": "stream",
     "text": [
      "Epoch 1/154:   1%|▏                     | 1/154 [00:01<03:20,  1.31s/it, v_num=1, train_loss=564, rec_loss=564, kld_loss=14]"
     ]
    },
    {
     "name": "stderr",
     "output_type": "stream",
     "text": [
      "`Trainer.fit` stopped: `max_steps=1` reached.\n"
     ]
    },
    {
     "name": "stdout",
     "output_type": "stream",
     "text": [
      "Epoch 1/154:   1%|▏                     | 1/154 [00:01<03:24,  1.34s/it, v_num=1, train_loss=564, rec_loss=564, kld_loss=14]\n"
     ]
    },
    {
     "data": {
      "text/plain": [
       "array([[2.7503736e-02, 1.1914163e-02, 4.1405678e-02, ..., 1.9252802e-04,\n",
       "        4.2046292e-04, 7.4307516e-04],\n",
       "       [5.4195523e-01, 2.4819948e-02, 1.4656386e-01, ..., 4.9367110e-04,\n",
       "        1.6829079e-03, 3.9218913e-04],\n",
       "       [6.0350452e-02, 1.3270142e-02, 4.5655414e-02, ..., 3.1717151e-04,\n",
       "        5.0042296e-04, 1.1857266e-03],\n",
       "       ...,\n",
       "       [7.0108501e-03, 2.6738483e-03, 8.5345637e-03, ..., 1.3301597e-04,\n",
       "        3.3469306e-04, 4.7523857e-04],\n",
       "       [9.3866192e-02, 6.1572436e-03, 1.7388327e-01, ..., 3.4696562e-04,\n",
       "        2.5106650e-03, 5.5780029e-04],\n",
       "       [2.3246704e-02, 1.9229881e-02, 5.1356196e-02, ..., 3.5961738e-04,\n",
       "        3.8658368e-04, 7.7950372e-04]], dtype=float32)"
      ]
     },
     "execution_count": 29,
     "metadata": {},
     "output_type": "execute_result"
    }
   ],
   "source": [
    "reconstruct_data_fn(adata=adata_train)"
   ]
  },
  {
   "cell_type": "code",
   "execution_count": null,
   "id": "66e0b05e-ece4-4c29-8948-be513a84f2bc",
   "metadata": {},
   "outputs": [],
   "source": [
    "adata_with_preds = write_preds_to_adata(prediction)"
   ]
  },
  {
   "cell_type": "code",
   "execution_count": 30,
   "id": "d4725f32-38e7-46b2-9d50-ecc7a9c34b32",
   "metadata": {},
   "outputs": [
    {
     "name": "stdout",
     "output_type": "stream",
     "text": [
      "\u001b[34mINFO    \u001b[0m File \u001b[35m/lustre/groups/ml01/workspace/ot_perturbation/data/sciplex/combosciplex_factorvi_test/\u001b[0m\u001b[95mmodel.pt\u001b[0m       \n",
      "         already downloaded                                                                                        \n"
     ]
    },
    {
     "name": "stderr",
     "output_type": "stream",
     "text": [
      "/home/icb/dominik.klein/mambaforge/envs/ot_pert_genot_scvi/lib/python3.12/site-packages/lightning/fabric/plugins/environments/slurm.py:191: The `srun` command is available on your system but is not used. HINT: If your intention is to run Lightning on SLURM, prepend your python command with `srun` like so: srun python /home/icb/dominik.klein/mambaforge/envs/ot_pert_geno ...\n",
      "/home/icb/dominik.klein/mambaforge/envs/ot_pert_genot_scvi/lib/python3.12/site-packages/scvi/data/fields/_base_field.py:64: UserWarning: adata.X does not contain unnormalized count data. Are you sure this is what you want?\n",
      "  self.validate_field(adata)\n",
      "/home/icb/dominik.klein/mambaforge/envs/ot_pert_genot_scvi/lib/python3.12/site-packages/scvi/data/fields/_layer_field.py:116: UserWarning: Training will be faster when sparse matrix is formatted as CSR. It is safe to cast before model initialization.\n",
      "  _verify_and_correct_data_format(adata, self.attr_name, self.attr_key)\n",
      "/home/icb/dominik.klein/mambaforge/envs/ot_pert_genot_scvi/lib/python3.12/site-packages/lightning/fabric/plugins/environments/slurm.py:191: The `srun` command is available on your system but is not used. HINT: If your intention is to run Lightning on SLURM, prepend your python command with `srun` like so: srun python /home/icb/dominik.klein/mambaforge/envs/ot_pert_geno ...\n",
      "GPU available: True (cuda), used: True\n",
      "TPU available: False, using: 0 TPU cores\n",
      "IPU available: False, using: 0 IPUs\n",
      "HPU available: False, using: 0 HPUs\n",
      "/home/icb/dominik.klein/mambaforge/envs/ot_pert_genot_scvi/lib/python3.12/site-packages/lightning/fabric/plugins/environments/slurm.py:191: The `srun` command is available on your system but is not used. HINT: If your intention is to run Lightning on SLURM, prepend your python command with `srun` like so: srun python /home/icb/dominik.klein/mambaforge/envs/ot_pert_geno ...\n",
      "LOCAL_RANK: 0 - CUDA_VISIBLE_DEVICES: [0]\n",
      "/ictstr01/home/icb/dominik.klein/mambaforge/envs/ot_pert_genot_scvi/lib/python3.12/site-packages/lightning/pytorch/trainer/connectors/data_connector.py:441: The 'train_dataloader' does not have many workers which may be a bottleneck. Consider increasing the value of the `num_workers` argument` to `num_workers=5` in the `DataLoader` to improve performance.\n"
     ]
    },
    {
     "name": "stdout",
     "output_type": "stream",
     "text": [
      "Epoch 1/154:   1%|▏                   | 1/154 [00:01<03:10,  1.24s/it, v_num=1, train_loss=582, rec_loss=582, kld_loss=13.9]"
     ]
    },
    {
     "name": "stderr",
     "output_type": "stream",
     "text": [
      "`Trainer.fit` stopped: `max_steps=1` reached.\n"
     ]
    },
    {
     "name": "stdout",
     "output_type": "stream",
     "text": [
      "Epoch 1/154:   1%|▏                   | 1/154 [00:01<03:11,  1.25s/it, v_num=1, train_loss=582, rec_loss=582, kld_loss=13.9]\n",
      "\u001b[34mINFO    \u001b[0m Input AnnData not setup with scvi-tools. attempting to transfer AnnData setup                             \n"
     ]
    },
    {
     "name": "stderr",
     "output_type": "stream",
     "text": [
      "/home/icb/dominik.klein/mambaforge/envs/ot_pert_genot_scvi/lib/python3.12/site-packages/scvi/data/fields/_base_field.py:64: UserWarning: adata.X does not contain unnormalized count data. Are you sure this is what you want?\n",
      "  self.validate_field(adata)\n"
     ]
    }
   ],
   "source": [
    "out_ood = reconstruct_data_fn(adata=adata_ood)"
   ]
  },
  {
   "cell_type": "code",
   "execution_count": 32,
   "id": "4e467560-bd12-442e-9699-cda72f32a987",
   "metadata": {},
   "outputs": [
    {
     "data": {
      "text/plain": [
       "(8896, 2000)"
      ]
     },
     "execution_count": 32,
     "metadata": {},
     "output_type": "execute_result"
    }
   ],
   "source": [
    "out_ood.shape"
   ]
  },
  {
   "cell_type": "code",
   "execution_count": 31,
   "id": "829683f5-1449-40a3-98c3-7d713dc919a5",
   "metadata": {},
   "outputs": [
    {
     "ename": "AttributeError",
     "evalue": "'numpy.ndarray' object has no attribute 'items'",
     "output_type": "error",
     "traceback": [
      "\u001b[0;31m---------------------------------------------------------------------------\u001b[0m",
      "\u001b[0;31mAttributeError\u001b[0m                            Traceback (most recent call last)",
      "Cell \u001b[0;32mIn[31], line 1\u001b[0m\n\u001b[0;32m----> 1\u001b[0m adata_with_preds \u001b[38;5;241m=\u001b[39m write_preds_to_adata(out_ood)\n",
      "Cell \u001b[0;32mIn[24], line 20\u001b[0m, in \u001b[0;36mwrite_preds_to_adata\u001b[0;34m(predictions)\u001b[0m\n\u001b[1;32m     18\u001b[0m all_data \u001b[38;5;241m=\u001b[39m []\n\u001b[1;32m     19\u001b[0m conditions \u001b[38;5;241m=\u001b[39m []\n\u001b[0;32m---> 20\u001b[0m \u001b[38;5;28;01mfor\u001b[39;00m condition, array \u001b[38;5;129;01min\u001b[39;00m predictions\u001b[38;5;241m.\u001b[39mitems():\n\u001b[1;32m     21\u001b[0m     all_data\u001b[38;5;241m.\u001b[39mappend(array)\n\u001b[1;32m     22\u001b[0m     conditions\u001b[38;5;241m.\u001b[39mextend([condition] \u001b[38;5;241m*\u001b[39m array\u001b[38;5;241m.\u001b[39mshape[\u001b[38;5;241m0\u001b[39m])\n",
      "\u001b[0;31mAttributeError\u001b[0m: 'numpy.ndarray' object has no attribute 'items'"
     ]
    }
   ],
   "source": [
    "adata_with_preds = write_preds_to_adata(out_ood)"
   ]
  },
  {
   "cell_type": "code",
   "execution_count": 33,
   "id": "a258654e-8292-49f6-b1e5-e98aa28e64f3",
   "metadata": {},
   "outputs": [
    {
     "data": {
      "text/plain": [
       "51882"
      ]
     },
     "execution_count": 33,
     "metadata": {},
     "output_type": "execute_result"
    }
   ],
   "source": [
    "adata_train.n_obs"
   ]
  },
  {
   "cell_type": "code",
   "execution_count": null,
   "id": "d9d2c1ef-5a08-41d7-a621-ba5640dd1214",
   "metadata": {},
   "outputs": [],
   "source": [
    "\n",
    "\n",
    "\n",
    "# Load the saved model\n",
    "loaded_model = juniper.latent.model.FactorVI.load(save_path, adata_train)"
   ]
  }
 ],
 "metadata": {
  "kernelspec": {
   "display_name": "ot_pert_genot_scvi",
   "language": "python",
   "name": "ot_pert_genot_scvi"
  },
  "language_info": {
   "codemirror_mode": {
    "name": "ipython",
    "version": 3
   },
   "file_extension": ".py",
   "mimetype": "text/x-python",
   "name": "python",
   "nbconvert_exporter": "python",
   "pygments_lexer": "ipython3",
   "version": "3.12.2"
  }
 },
 "nbformat": 4,
 "nbformat_minor": 5
}
