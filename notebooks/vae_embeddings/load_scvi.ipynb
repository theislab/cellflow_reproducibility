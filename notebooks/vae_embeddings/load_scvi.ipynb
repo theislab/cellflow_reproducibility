{
 "cells": [
  {
   "cell_type": "code",
   "execution_count": 1,
   "id": "c1739526-2bd1-4a85-9a10-fa70c9e918a1",
   "metadata": {},
   "outputs": [
    {
     "data": {
      "text/plain": [
       "1"
      ]
     },
     "execution_count": 1,
     "metadata": {},
     "output_type": "execute_result"
    }
   ],
   "source": [
    "1"
   ]
  },
  {
   "cell_type": "code",
   "execution_count": 2,
   "id": "a57b41a4-0bfd-49c6-a9ad-399c900cfe91",
   "metadata": {},
   "outputs": [],
   "source": [
    "%load_ext autoreload\n",
    "%autoreload 2"
   ]
  },
  {
   "cell_type": "code",
   "execution_count": 3,
   "id": "7240e8e3-8d95-4200-8c9f-b99058c87ac5",
   "metadata": {},
   "outputs": [],
   "source": [
    "import jax\n",
    "jax.config.update(\"jax_enable_x64\", True)"
   ]
  },
  {
   "cell_type": "code",
   "execution_count": 4,
   "id": "fca79365-1339-45ad-b32d-3486adf70a4f",
   "metadata": {},
   "outputs": [
    {
     "name": "stderr",
     "output_type": "stream",
     "text": [
      "/home/icb/dominik.klein/mambaforge/envs/cfp/lib/python3.11/site-packages/tqdm/auto.py:21: TqdmWarning: IProgress not found. Please update jupyter and ipywidgets. See https://ipywidgets.readthedocs.io/en/stable/user_install.html\n",
      "  from .autonotebook import tqdm as notebook_tqdm\n"
     ]
    }
   ],
   "source": [
    "import scvi\n",
    "import scanpy as sc\n",
    "import os\n",
    "import pandas as pd\n",
    "import numpy as np\n",
    "from cfp.external import CFJaxSCVI"
   ]
  },
  {
   "cell_type": "code",
   "execution_count": 5,
   "id": "1816758c-70c8-486b-b27e-7c81a53d698c",
   "metadata": {},
   "outputs": [],
   "source": [
    "split = 5\n",
    "output_dir = \"/lustre/groups/ml01/workspace/ot_perturbation/data/sciplex\"\n",
    "adata_train = sc.read(os.path.join(output_dir, f\"adata_train_{split}.h5ad\"))\n",
    "adata_test = sc.read(os.path.join(output_dir, f\"adata_test_{split}.h5ad\"))\n",
    "adata_ood = sc.read(os.path.join(output_dir, f\"adata_ood_{split}.h5ad\")) \n",
    "\n",
    "\n"
   ]
  },
  {
   "cell_type": "code",
   "execution_count": 7,
   "id": "5d75597c-b529-4e60-9858-1b75f199e962",
   "metadata": {},
   "outputs": [
    {
     "name": "stdout",
     "output_type": "stream",
     "text": [
      "\u001b[34mINFO    \u001b[0m File \u001b[35m/lustre/groups/ml01/workspace/ot_perturbation/models/vaes/sciplex/32_1024/\u001b[0m\u001b[95mmodel.pt\u001b[0m already downloaded\n"
     ]
    },
    {
     "name": "stderr",
     "output_type": "stream",
     "text": [
      "/home/icb/dominik.klein/mambaforge/envs/cfp/lib/python3.11/site-packages/lightning/fabric/plugins/environments/slurm.py:191: The `srun` command is available on your system but is not used. HINT: If your intention is to run Lightning on SLURM, prepend your python command with `srun` like so: srun python /home/icb/dominik.klein/mambaforge/envs/cfp/lib/pyth ...\n",
      "/home/icb/dominik.klein/mambaforge/envs/cfp/lib/python3.11/site-packages/scvi/model/base/_utils.py:66: FutureWarning: You are using `torch.load` with `weights_only=False` (the current default value), which uses the default pickle module implicitly. It is possible to construct malicious pickle data which will execute arbitrary code during unpickling (See https://github.com/pytorch/pytorch/blob/main/SECURITY.md#untrusted-models for more details). In a future release, the default value for `weights_only` will be flipped to `True`. This limits the functions that could be executed during unpickling. Arbitrary objects will no longer be allowed to be loaded via this mode unless they are explicitly allowlisted by the user via `torch.serialization.add_safe_globals`. We recommend you start setting `weights_only=True` for any use case where you don't have full control of the loaded file. Please open an issue on GitHub for any issues related to this experimental feature.\n",
      "  model = torch.load(model_path, map_location=map_location)\n",
      "/home/icb/dominik.klein/mambaforge/envs/cfp/lib/python3.11/site-packages/scvi/data/fields/_base_field.py:64: UserWarning: adata.X does not contain unnormalized count data. Are you sure this is what you want?\n",
      "  self.validate_field(adata)\n"
     ]
    },
    {
     "name": "stdout",
     "output_type": "stream",
     "text": [
      "\u001b[34mINFO    \u001b[0m Jax module moved to cu\u001b[1;92mda:0\u001b[0m.Note: Pytorch lightning will show GPU is not being used for the Trainer.       \n"
     ]
    },
    {
     "name": "stderr",
     "output_type": "stream",
     "text": [
      "/home/icb/dominik.klein/mambaforge/envs/cfp/lib/python3.11/site-packages/lightning/fabric/plugins/environments/slurm.py:191: The `srun` command is available on your system but is not used. HINT: If your intention is to run Lightning on SLURM, prepend your python command with `srun` like so: srun python /home/icb/dominik.klein/mambaforge/envs/cfp/lib/pyth ...\n",
      "/home/icb/dominik.klein/mambaforge/envs/cfp/lib/python3.11/site-packages/lightning/fabric/plugins/environments/slurm.py:191: The `srun` command is available on your system but is not used. HINT: If your intention is to run Lightning on SLURM, prepend your python command with `srun` like so: srun python /home/icb/dominik.klein/mambaforge/envs/cfp/lib/pyth ...\n",
      "GPU available: True (cuda), used: False\n",
      "TPU available: False, using: 0 TPU cores\n",
      "IPU available: False, using: 0 IPUs\n",
      "HPU available: False, using: 0 HPUs\n",
      "/home/icb/dominik.klein/mambaforge/envs/cfp/lib/python3.11/site-packages/lightning/pytorch/trainer/setup.py:187: GPU available but not used. You can set it by doing `Trainer(accelerator='gpu')`.\n",
      "/home/icb/dominik.klein/mambaforge/envs/cfp/lib/python3.11/site-packages/lightning/fabric/plugins/environments/slurm.py:191: The `srun` command is available on your system but is not used. HINT: If your intention is to run Lightning on SLURM, prepend your python command with `srun` like so: srun python /home/icb/dominik.klein/mambaforge/envs/cfp/lib/pyth ...\n",
      "/home/icb/dominik.klein/mambaforge/envs/cfp/lib/python3.11/site-packages/lightning/pytorch/trainer/connectors/data_connector.py:441: The 'train_dataloader' does not have many workers which may be a bottleneck. Consider increasing the value of the `num_workers` argument` to `num_workers=5` in the `DataLoader` to improve performance.\n"
     ]
    },
    {
     "name": "stdout",
     "output_type": "stream",
     "text": [
      "Epoch 1/18:   0%|          | 0/18 [00:00<?, ?it/s]"
     ]
    },
    {
     "name": "stderr",
     "output_type": "stream",
     "text": [
      "/home/icb/dominik.klein/mambaforge/envs/cfp/lib/python3.11/site-packages/lightning/pytorch/trainer/connectors/data_connector.py:385: You have overridden `transfer_batch_to_device` in `LightningModule` but have passed in a `LightningDataModule`. It will use the implementation from `LightningModule` instance.\n"
     ]
    },
    {
     "name": "stdout",
     "output_type": "stream",
     "text": [
      "Epoch 1/18:   6%|▌         | 1/18 [00:08<02:20,  8.29s/it, v_num=1, train_loss_step=402, train_loss_epoch=402]"
     ]
    },
    {
     "name": "stderr",
     "output_type": "stream",
     "text": [
      "`Trainer.fit` stopped: `max_steps=1` reached.\n"
     ]
    },
    {
     "name": "stdout",
     "output_type": "stream",
     "text": [
      "Epoch 1/18:   6%|▌         | 1/18 [00:08<02:22,  8.38s/it, v_num=1, train_loss_step=402, train_loss_epoch=402]\n"
     ]
    }
   ],
   "source": [
    "vae = CFJaxSCVI.load(\"/lustre/groups/ml01/workspace/ot_perturbation/models/vaes/sciplex/32_1024\", adata=adata_train)"
   ]
  },
  {
   "cell_type": "code",
   "execution_count": 8,
   "id": "093c9f15-d7f3-45c8-9290-1544958327b2",
   "metadata": {},
   "outputs": [
    {
     "name": "stdout",
     "output_type": "stream",
     "text": [
      "\u001b[34mINFO    \u001b[0m Input AnnData not setup with scvi-tools. attempting to transfer AnnData setup                             \n"
     ]
    },
    {
     "name": "stderr",
     "output_type": "stream",
     "text": [
      "/home/icb/dominik.klein/mambaforge/envs/cfp/lib/python3.11/site-packages/scvi/data/fields/_base_field.py:64: UserWarning: adata.X does not contain unnormalized count data. Are you sure this is what you want?\n",
      "  self.validate_field(adata)\n"
     ]
    },
    {
     "name": "stdout",
     "output_type": "stream",
     "text": [
      "\u001b[34mINFO    \u001b[0m Input AnnData not setup with scvi-tools. attempting to transfer AnnData setup                             \n"
     ]
    },
    {
     "name": "stderr",
     "output_type": "stream",
     "text": [
      "/home/icb/dominik.klein/mambaforge/envs/cfp/lib/python3.11/site-packages/scvi/data/fields/_base_field.py:64: UserWarning: adata.X does not contain unnormalized count data. Are you sure this is what you want?\n",
      "  self.validate_field(adata)\n"
     ]
    }
   ],
   "source": [
    "adata_train.obsm[\"X_scVI\"] = vae.get_latent_representation(adata_train)\n",
    "adata_test.obsm[\"X_scVI\"] = vae.get_latent_representation(adata_test)\n",
    "adata_ood.obsm[\"X_scVI\"] = vae.get_latent_representation(adata_ood)\n",
    "\n"
   ]
  },
  {
   "cell_type": "code",
   "execution_count": 9,
   "id": "234bcc4f-8cd3-4bc9-a0a3-4c1280bfcf20",
   "metadata": {},
   "outputs": [],
   "source": [
    "from cfp.training import VAEDecodedMetrics\n",
    "import cfp"
   ]
  },
  {
   "cell_type": "code",
   "execution_count": null,
   "id": "7d7de474-7ec5-4b29-b914-841d576dd142",
   "metadata": {},
   "outputs": [],
   "source": []
  },
  {
   "cell_type": "code",
   "execution_count": 10,
   "id": "fb40ed21-b3ac-4382-a8d8-926179920181",
   "metadata": {},
   "outputs": [
    {
     "data": {
      "text/plain": [
       "Index(['cell_type', 'dose', 'dose_character', 'dose_pattern', 'g1s_score',\n",
       "       'g2m_score', 'pathway', 'pathway_level_1', 'pathway_level_2',\n",
       "       'product_dose', 'product_name', 'proliferation_index', 'replicate',\n",
       "       'size_factor', 'target', 'vehicle', 'perturbation', 'drug', 'cell_line',\n",
       "       'logdose', 'condition', 'n_genes', 'pubchem_name', 'pubchem_ID',\n",
       "       'smiles', 'control', 'ood_1', 'ood_2', 'ood_3', 'ood_4', 'ood_5',\n",
       "       'split', '_scvi_batch'],\n",
       "      dtype='object')"
      ]
     },
     "execution_count": 10,
     "metadata": {},
     "output_type": "execute_result"
    }
   ],
   "source": [
    "adata_train.obs.columns"
   ]
  },
  {
   "cell_type": "code",
   "execution_count": 11,
   "id": "acbdf2e4-4018-492d-aba1-7ca5b583f119",
   "metadata": {},
   "outputs": [
    {
     "name": "stderr",
     "output_type": "stream",
     "text": [
      "/ictstr01/home/icb/dominik.klein/git_repos/cell_flow_perturbation/src/cfp/data/_datamanager.py:334: SettingWithCopyWarning: \n",
      "A value is trying to be set on a copy of a slice from a DataFrame.\n",
      "Try using .loc[row_indexer,col_indexer] = value instead\n",
      "\n",
      "See the caveats in the documentation: https://pandas.pydata.org/pandas-docs/stable/user_guide/indexing.html#returning-a-view-versus-a-copy\n",
      "  _covariate_data[\"cell_index\"] = _covariate_data.index\n",
      "100%|██████████| 677/677 [00:12<00:00, 52.15it/s]\n",
      "100%|██████████| 708/708 [00:13<00:00, 53.87it/s]\n",
      "100%|██████████| 660/660 [00:11<00:00, 58.47it/s]\n"
     ]
    }
   ],
   "source": [
    "cf = cfp.model.CellFlow(adata_train, solver=\"otfm\")\n",
    "\n",
    "cf.prepare_data(\n",
    "    sample_rep=\"X_scVI\",\n",
    "    control_key=\"control\",\n",
    "    perturbation_covariates= {\"drugs\": [\"drug\"], \"dosage\": [\"logdose\"]},\n",
    "    perturbation_covariate_reps={\"drugs\": \"ecfp_dict\"},\n",
    "    sample_covariates=[\"cell_line\"],\n",
    "    sample_covariate_reps={\"cell_line\": 'cell_line_dict'},\n",
    "    split_covariates=[\"cell_line\"],\n",
    ")\n",
    "\n",
    "\n"
   ]
  },
  {
   "cell_type": "code",
   "execution_count": 12,
   "id": "437f89f6-8559-4023-9ea1-939348eab1c2",
   "metadata": {},
   "outputs": [],
   "source": [
    "import functools\n",
    "import optax\n",
    "from ott.solvers import utils as solver_utils\n",
    "match_fn = functools.partial(\n",
    "    solver_utils.match_linear,\n",
    "    epsilon=1.0,\n",
    "    scale_cost=\"mean\",\n",
    ")\n",
    "optimizer = optax.MultiSteps(optax.adam(1e-4), 20)\n",
    "\n",
    "# Prepare the model\n",
    "cf.prepare_model(\n",
    "    encode_conditions=True,\n",
    "    condition_embedding_dim=1024,\n",
    "    pooling=\"attention_token\",\n",
    "    )\n"
   ]
  },
  {
   "cell_type": "code",
   "execution_count": 13,
   "id": "fad6b297-968a-4a00-8f12-fec4968fe257",
   "metadata": {},
   "outputs": [
    {
     "name": "stderr",
     "output_type": "stream",
     "text": [
      "/ictstr01/home/icb/dominik.klein/git_repos/cell_flow_perturbation/src/cfp/data/_datamanager.py:334: SettingWithCopyWarning: \n",
      "A value is trying to be set on a copy of a slice from a DataFrame.\n",
      "Try using .loc[row_indexer,col_indexer] = value instead\n",
      "\n",
      "See the caveats in the documentation: https://pandas.pydata.org/pandas-docs/stable/user_guide/indexing.html#returning-a-view-versus-a-copy\n",
      "  _covariate_data[\"cell_index\"] = _covariate_data.index\n",
      "100%|██████████| 28/28 [00:00<00:00, 389.53it/s]\n",
      "100%|██████████| 33/33 [00:00<00:00, 386.51it/s]\n",
      "100%|██████████| 25/25 [00:00<00:00, 417.20it/s]\n"
     ]
    }
   ],
   "source": [
    "#cf.prepare_validation_data(\n",
    "#    adata_test,\n",
    "#    name=\"test\",\n",
    "#    n_conditions_on_log_iteration=2,\n",
    "#    n_conditions_on_train_end=2,\n",
    "#)\n",
    "\n",
    "cf.prepare_validation_data(\n",
    "    adata_ood,\n",
    "    name=\"ood\",\n",
    "    n_conditions_on_log_iteration=2,\n",
    "    n_conditions_on_train_end=2,\n",
    ")\n"
   ]
  },
  {
   "cell_type": "code",
   "execution_count": 14,
   "id": "b5f8332f-e284-4acc-ba77-ca6383e80eb2",
   "metadata": {},
   "outputs": [],
   "source": [
    "metrics_callback = cfp.training.Metrics(metrics=[\"r_squared\", \"mmd\", \"e_distance\"])\n",
    "decoded_metrics_callback = cfp.training.VAEDecodedMetrics(vae, adata=adata_train, metrics=[\"r_squared\"])\n",
    "wandb_callback = cfp.training.WandbLogger(project=\"cfp_otfm_sciplex\", out_dir=\"/home/icb/dominik.klein/tmp\", config={})\n"
   ]
  },
  {
   "cell_type": "code",
   "execution_count": 15,
   "id": "96575a02-e5ff-44b0-9307-1a990684172a",
   "metadata": {},
   "outputs": [],
   "source": [
    "callbacks = [metrics_callback, decoded_metrics_callback, wandb_callback]"
   ]
  },
  {
   "cell_type": "code",
   "execution_count": null,
   "id": "70bbad56-13bc-49b2-b599-a998dd996ec2",
   "metadata": {},
   "outputs": [
    {
     "name": "stderr",
     "output_type": "stream",
     "text": [
      "Failed to detect the name of this notebook, you can set it manually with the WANDB_NOTEBOOK_NAME environment variable to enable code saving.\n",
      "\u001b[34m\u001b[1mwandb\u001b[0m: Currently logged in as: \u001b[33mmucdk\u001b[0m (\u001b[33mmodality_translation\u001b[0m). Use \u001b[1m`wandb login --relogin`\u001b[0m to force relogin\n"
     ]
    },
    {
     "data": {
      "text/html": [
       "wandb version 0.18.2 is available!  To upgrade, please run:\n",
       " $ pip install wandb --upgrade"
      ],
      "text/plain": [
       "<IPython.core.display.HTML object>"
      ]
     },
     "metadata": {},
     "output_type": "display_data"
    },
    {
     "data": {
      "text/html": [
       "Tracking run with wandb version 0.17.6"
      ],
      "text/plain": [
       "<IPython.core.display.HTML object>"
      ]
     },
     "metadata": {},
     "output_type": "display_data"
    },
    {
     "data": {
      "text/html": [
       "Run data is saved locally in <code>/home/icb/dominik.klein/tmp/wandb/run-20241001_171056-co2gs1gx</code>"
      ],
      "text/plain": [
       "<IPython.core.display.HTML object>"
      ]
     },
     "metadata": {},
     "output_type": "display_data"
    },
    {
     "data": {
      "text/html": [
       "Syncing run <strong><a href='https://wandb.ai/modality_translation/cfp_otfm_sciplex/runs/co2gs1gx' target=\"_blank\">lunar-vortex-420</a></strong> to <a href='https://wandb.ai/modality_translation/cfp_otfm_sciplex' target=\"_blank\">Weights & Biases</a> (<a href='https://wandb.me/run' target=\"_blank\">docs</a>)<br/>"
      ],
      "text/plain": [
       "<IPython.core.display.HTML object>"
      ]
     },
     "metadata": {},
     "output_type": "display_data"
    },
    {
     "data": {
      "text/html": [
       " View project at <a href='https://wandb.ai/modality_translation/cfp_otfm_sciplex' target=\"_blank\">https://wandb.ai/modality_translation/cfp_otfm_sciplex</a>"
      ],
      "text/plain": [
       "<IPython.core.display.HTML object>"
      ]
     },
     "metadata": {},
     "output_type": "display_data"
    },
    {
     "data": {
      "text/html": [
       " View run at <a href='https://wandb.ai/modality_translation/cfp_otfm_sciplex/runs/co2gs1gx' target=\"_blank\">https://wandb.ai/modality_translation/cfp_otfm_sciplex/runs/co2gs1gx</a>"
      ],
      "text/plain": [
       "<IPython.core.display.HTML object>"
      ]
     },
     "metadata": {},
     "output_type": "display_data"
    },
    {
     "name": "stderr",
     "output_type": "stream",
     "text": [
      "  2%|▏         | 18/1000 [00:21<02:51,  5.73it/s] "
     ]
    },
    {
     "name": "stdout",
     "output_type": "stream",
     "text": [
      "data is  [[ 1.2531824e-02  1.1047505e+00 -9.8844886e-01 ...  4.1933823e-03\n",
      "  -5.1874681e-03 -1.7095216e-03]\n",
      " [-8.8377483e-03  2.1481929e+00  1.3905278e-01 ... -1.3914330e-02\n",
      "  -1.8148536e-02 -2.4921631e-03]\n",
      " [-2.3707479e-02  1.3324978e+00 -1.2112579e-01 ... -1.1239069e-02\n",
      "   4.8553204e-04  1.2016719e-02]\n",
      " ...\n",
      " [-1.2723635e-02  1.4950398e+00 -7.1578991e-01 ... -7.0440369e-03\n",
      "   1.9683372e-03  1.7811233e-02]\n",
      " [-1.0520482e-02  2.2472453e+00  2.6795559e+00 ...  1.7473670e-03\n",
      "   1.3639921e-02  8.9097861e-03]\n",
      " [-9.3352413e-03  1.4724388e+00 -1.7890689e-01 ... -6.9763046e-03\n",
      "  -5.9305574e-03  1.1611126e-02]]\n",
      "data is  [[ 2.9154364e-03 -4.2029750e-01 -6.2267864e-01 ...  1.2524012e-03\n",
      "  -3.2466378e-03  2.9241201e-05]\n",
      " [-4.1480120e-03 -8.8686693e-01 -1.3223681e+00 ... -3.7375072e-03\n",
      "  -1.7004258e-03  7.7369809e-04]\n",
      " [ 5.1181521e-03 -4.2105746e-01 -8.1826699e-01 ...  2.2320142e-03\n",
      "  -6.4227474e-03 -8.0334139e-04]\n",
      " ...\n",
      " [-1.6588010e-03 -1.7779232e+00 -5.3553391e-01 ...  1.5321407e-03\n",
      "   5.4185148e-03  4.9589691e-04]\n",
      " [-2.8768517e-03 -8.6905658e-01 -8.1298923e-01 ... -3.8590173e-03\n",
      "   2.5492948e-03  1.3298108e-03]\n",
      " [-4.5605600e-03  1.4633220e-01  9.4900310e-02 ... -3.5778484e-03\n",
      "  -3.7741679e-04 -1.5327807e-03]]\n",
      "data is  [[ 0.04610247  0.86154495 -0.27689021 ...  0.05621928  0.08074491\n",
      "   0.05311448]\n",
      " [ 0.02076073  1.42767645  0.12778331 ...  0.03356136  0.06646986\n",
      "   0.04395182]\n",
      " [ 0.02201832  1.74844147  1.36349797 ...  0.05059872  0.04987208\n",
      "   0.05739561]\n",
      " ...\n",
      " [ 0.0607356   1.10306214  1.36506528 ...  0.06370529  0.08346133\n",
      "   0.08328165]\n",
      " [ 0.02845119  0.90460274  0.38967748 ...  0.0199143   0.07057888\n",
      "   0.0468357 ]\n",
      " [ 0.02607201  1.04531724 -0.92262996 ...  0.04064208  0.07460096\n",
      "   0.04829073]]\n",
      "data is  [[-5.26331642e-02  2.06271837e-01 -2.97679173e-01 ... -1.92187579e-02\n",
      "   2.97626843e-03  1.47381965e-01]\n",
      " [-4.67645296e-02 -1.92131612e-01  2.46138975e-01 ... -2.18482996e-02\n",
      "  -6.70941012e-04  1.50690788e-01]\n",
      " [-3.93643977e-02 -4.25357474e-01 -3.43181084e-01 ... -9.14919429e-03\n",
      "  -8.72267939e-04  1.46822933e-01]\n",
      " ...\n",
      " [-4.64419001e-02  1.03309920e-01 -1.04271461e-01 ... -2.09164548e-02\n",
      "  -2.85565091e-03  1.47936738e-01]\n",
      " [-4.70623250e-02  4.79043825e-02 -1.62555700e+00 ... -1.23159182e-02\n",
      "  -3.94780675e-03  1.44877946e-01]\n",
      " [-6.64433744e-02  1.01303667e-01 -8.55297170e-01 ... -1.83240291e-02\n",
      "   6.03384703e-03  1.49140259e-01]]\n",
      "\u001b[34mINFO    \u001b[0m Input AnnData not setup with scvi-tools. attempting to transfer AnnData setup                             \n"
     ]
    },
    {
     "name": "stderr",
     "output_type": "stream",
     "text": [
      "/home/icb/dominik.klein/mambaforge/envs/cfp/lib/python3.11/site-packages/scvi/data/fields/_base_field.py:64: UserWarning: adata.X does not contain unnormalized count data. Are you sure this is what you want?\n",
      "  self.validate_field(adata)\n"
     ]
    },
    {
     "name": "stdout",
     "output_type": "stream",
     "text": [
      "\u001b[34mINFO    \u001b[0m Input AnnData not setup with scvi-tools. attempting to transfer AnnData setup                             \n"
     ]
    },
    {
     "name": "stderr",
     "output_type": "stream",
     "text": [
      "/home/icb/dominik.klein/mambaforge/envs/cfp/lib/python3.11/site-packages/scvi/data/fields/_base_field.py:64: UserWarning: adata.X does not contain unnormalized count data. Are you sure this is what you want?\n",
      "  self.validate_field(adata)\n"
     ]
    },
    {
     "name": "stdout",
     "output_type": "stream",
     "text": [
      "\u001b[34mINFO    \u001b[0m Input AnnData not setup with scvi-tools. attempting to transfer AnnData setup                             \n"
     ]
    },
    {
     "name": "stderr",
     "output_type": "stream",
     "text": [
      "/home/icb/dominik.klein/mambaforge/envs/cfp/lib/python3.11/site-packages/scvi/data/fields/_base_field.py:64: UserWarning: adata.X does not contain unnormalized count data. Are you sure this is what you want?\n",
      "  self.validate_field(adata)\n"
     ]
    },
    {
     "name": "stdout",
     "output_type": "stream",
     "text": [
      "\u001b[34mINFO    \u001b[0m Input AnnData not setup with scvi-tools. attempting to transfer AnnData setup                             \n"
     ]
    },
    {
     "name": "stderr",
     "output_type": "stream",
     "text": [
      "/home/icb/dominik.klein/mambaforge/envs/cfp/lib/python3.11/site-packages/scvi/data/fields/_base_field.py:64: UserWarning: adata.X does not contain unnormalized count data. Are you sure this is what you want?\n",
      "  self.validate_field(adata)\n",
      "  4%|▍         | 40/1000 [00:24<06:13,  2.57it/s, loss=0.13]"
     ]
    },
    {
     "name": "stdout",
     "output_type": "stream",
     "text": [
      "data is  [[ 2.2051763e-03 -1.8300498e-01  1.1183486e+00 ...  3.7726774e-03\n",
      "   5.9797415e-03  1.8454771e-03]\n",
      " [-9.0308674e-03  2.6034111e-01  1.0081103e+00 ... -4.3511158e-03\n",
      "   2.0747769e-03  1.6442519e-03]\n",
      " [ 6.3326210e-03 -7.8875196e-01  1.9089992e+00 ... -2.1476103e-03\n",
      "   2.0452503e-03 -3.8853968e-03]\n",
      " ...\n",
      " [-5.7581440e-03 -5.4868019e-01  1.7056667e+00 ... -2.7255546e-03\n",
      "   1.8922978e-03 -7.5166379e-03]\n",
      " [-5.1606447e-05  4.7904253e-03  1.0446918e+00 ... -4.3623364e-03\n",
      "   4.8833457e-03  9.1248881e-03]\n",
      " [ 1.0805193e-02 -8.3582306e-01  1.7793969e+00 ...  3.9815879e-03\n",
      "   3.4764751e-03 -5.6675468e-03]]\n",
      "data is  [[ 0.02433657  0.08627862  0.6749923  ...  0.01066811 -0.0012394\n",
      "  -0.00345421]\n",
      " [ 0.02236652 -0.04579908  0.74725235 ...  0.00936224  0.00254531\n",
      "  -0.00526942]\n",
      " [ 0.03766418  0.09985518  0.7195208  ...  0.0162874  -0.00241835\n",
      "  -0.00639349]\n",
      " ...\n",
      " [ 0.02022174  0.24788898  0.7034297  ...  0.00905183 -0.00191052\n",
      "  -0.00507187]\n",
      " [ 0.01925986  0.03495568  0.6621037  ...  0.00966274 -0.00076339\n",
      "  -0.00510235]\n",
      " [ 0.03653602  0.07705849  0.7235545  ...  0.01418721 -0.00138307\n",
      "  -0.00623956]]\n",
      "data is  [[-3.01085133e-02  1.41273667e-01  1.32401522e+00 ...  2.17675894e-03\n",
      "  -2.95770679e-02  2.68735611e-03]\n",
      " [-4.08281855e-02 -7.26498448e-01  1.36529602e+00 ... -7.83636070e-03\n",
      "  -2.32334111e-02 -9.28925676e-05]\n",
      " [-2.55453940e-02 -1.08709200e-01  1.31969127e+00 ... -2.78281152e-04\n",
      "  -1.33069154e-02  8.28972424e-03]\n",
      " ...\n",
      " [-2.60329818e-02  2.42981639e-01  1.70530029e+00 ... -6.02605317e-03\n",
      "  -2.69255691e-02  4.42364267e-03]\n",
      " [-3.60640246e-02  7.14759221e-02  1.08798159e+00 ... -3.87557671e-03\n",
      "  -2.24418150e-02  3.86094306e-04]\n",
      " [-2.05593146e-02  2.68147270e-01  9.74448083e-01 ...  5.59359639e-03\n",
      "  -1.48210235e-02  9.48162168e-03]]\n",
      "data is  [[-2.89469208e-02  1.43156824e-01  1.32212342e+00 ...  4.16560622e-03\n",
      "  -2.50348618e-02  5.26469638e-03]\n",
      " [-3.75764220e-02 -7.24405549e-01  1.36426991e+00 ... -7.25184778e-03\n",
      "  -1.88663678e-02  4.73637312e-04]\n",
      " [-2.60877561e-02 -1.06261113e-01  1.31981318e+00 ... -1.20566160e-03\n",
      "  -9.10905851e-03  7.92931866e-03]\n",
      " ...\n",
      " [-2.67835449e-02  2.48166211e-01  1.70665434e+00 ... -5.12203535e-03\n",
      "  -2.20098244e-02  4.67976858e-03]\n",
      " [-3.66185150e-02  7.38144800e-02  1.08552080e+00 ... -3.45145093e-03\n",
      "  -1.99816497e-02 -1.86212020e-03]\n",
      " [-2.07696712e-02  2.71676336e-01  9.75314681e-01 ...  3.79505398e-03\n",
      "  -9.83978348e-03  9.56308158e-03]]\n",
      "\u001b[34mINFO    \u001b[0m Input AnnData not setup with scvi-tools. attempting to transfer AnnData setup                             \n"
     ]
    },
    {
     "name": "stderr",
     "output_type": "stream",
     "text": [
      "/home/icb/dominik.klein/mambaforge/envs/cfp/lib/python3.11/site-packages/scvi/data/fields/_base_field.py:64: UserWarning: adata.X does not contain unnormalized count data. Are you sure this is what you want?\n",
      "  self.validate_field(adata)\n"
     ]
    },
    {
     "name": "stdout",
     "output_type": "stream",
     "text": [
      "\u001b[34mINFO    \u001b[0m Input AnnData not setup with scvi-tools. attempting to transfer AnnData setup                             \n"
     ]
    },
    {
     "name": "stderr",
     "output_type": "stream",
     "text": [
      "/home/icb/dominik.klein/mambaforge/envs/cfp/lib/python3.11/site-packages/scvi/data/fields/_base_field.py:64: UserWarning: adata.X does not contain unnormalized count data. Are you sure this is what you want?\n",
      "  self.validate_field(adata)\n"
     ]
    },
    {
     "name": "stdout",
     "output_type": "stream",
     "text": [
      "\u001b[34mINFO    \u001b[0m Input AnnData not setup with scvi-tools. attempting to transfer AnnData setup                             \n",
      "\u001b[34mINFO    \u001b[0m Input AnnData not setup with scvi-tools. attempting to transfer AnnData setup                             \n"
     ]
    },
    {
     "name": "stderr",
     "output_type": "stream",
     "text": [
      "/home/icb/dominik.klein/mambaforge/envs/cfp/lib/python3.11/site-packages/scvi/data/fields/_base_field.py:64: UserWarning: adata.X does not contain unnormalized count data. Are you sure this is what you want?\n",
      "  self.validate_field(adata)\n",
      "/home/icb/dominik.klein/mambaforge/envs/cfp/lib/python3.11/site-packages/scvi/data/fields/_base_field.py:64: UserWarning: adata.X does not contain unnormalized count data. Are you sure this is what you want?\n",
      "  self.validate_field(adata)\n",
      "/home/icb/dominik.klein/mambaforge/envs/cfp/lib/python3.11/site-packages/scvi/data/_anntorchdataset.py:151: RuntimeWarning: overflow encountered in cast\n",
      "  sliced_data = data[indexes].astype(dtype, copy=False)\n",
      "/home/icb/dominik.klein/mambaforge/envs/cfp/lib/python3.11/site-packages/numpy/core/_methods.py:49: RuntimeWarning: invalid value encountered in reduce\n",
      "  return umr_sum(a, axis, dtype, out, keepdims, initial, where)\n",
      "  6%|▌         | 57/1000 [00:41<09:02,  1.74it/s, loss=0.075]"
     ]
    }
   ],
   "source": [
    "cf.train(\n",
    "    num_iterations=1000,\n",
    "    batch_size=1024,\n",
    "    callbacks=callbacks,\n",
    "    valid_freq=20,\n",
    ")\n",
    "   "
   ]
  },
  {
   "cell_type": "code",
   "execution_count": null,
   "id": "c5bda683-501e-4a41-a47b-108ff236c380",
   "metadata": {},
   "outputs": [],
   "source": []
  }
 ],
 "metadata": {
  "kernelspec": {
   "display_name": "cfp",
   "language": "python",
   "name": "cfp"
  },
  "language_info": {
   "codemirror_mode": {
    "name": "ipython",
    "version": 3
   },
   "file_extension": ".py",
   "mimetype": "text/x-python",
   "name": "python",
   "nbconvert_exporter": "python",
   "pygments_lexer": "ipython3",
   "version": "3.11.9"
  }
 },
 "nbformat": 4,
 "nbformat_minor": 5
}
