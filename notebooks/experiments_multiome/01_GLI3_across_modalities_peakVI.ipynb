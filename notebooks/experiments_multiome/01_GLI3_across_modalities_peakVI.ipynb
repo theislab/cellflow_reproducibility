{
 "cells": [
  {
   "cell_type": "code",
   "execution_count": 1,
   "id": "b2f7a9e6-1f58-450a-b007-eaefd6b8b56e",
   "metadata": {},
   "outputs": [],
   "source": [
    "import ott\n",
    "import jax\n",
    "from ott.neural import datasets\n",
    "from ott.neural.methods.flows import dynamics, otfm\n",
    "from ott.neural.networks.layers import time_encoder\n",
    "from ott.neural.networks.velocity_field import VelocityField\n",
    "from ott.solvers import utils as solver_utils\n",
    "from ott.neural.methods.flows.genot import GENOT\n",
    "from torch.utils.data import DataLoader\n",
    "import jax.numpy as jnp\n",
    "from typing import Literal, Optional, Any\n",
    "import scanpy as sc\n",
    "import functools\n",
    "import optax\n",
    "import moscot\n",
    "import matplotlib.pyplot as plt\n",
    "import numpy as np\n",
    "from sklearn import preprocessing as pp\n",
    "from ott.solvers.linear import sinkhorn, acceleration\n",
    "import anndata"
   ]
  },
  {
   "cell_type": "code",
   "execution_count": 2,
   "id": "2a09f6f7-712e-49ce-a571-2fdeda563d81",
   "metadata": {},
   "outputs": [],
   "source": [
    "adata_rna_train = sc.read_h5ad(\"/lustre/groups/ml01/workspace/ot_perturbation/data/multiome/GLI3_KO_multiome_18d_adata_src_train_processed_with_scvi.h5ad\")\n",
    "adata_activity_train = sc.read_h5ad(\"/lustre/groups/ml01/workspace/ot_perturbation/data/multiome/GLI3_KO_multiome_18d_adata_activity_train_processed_with_scvi.h5ad\")"
   ]
  },
  {
   "cell_type": "code",
   "execution_count": 3,
   "id": "3e019adc-8b2e-4cdf-afa5-9cab4ef23364",
   "metadata": {},
   "outputs": [],
   "source": [
    "adata_atac_train = sc.read_h5ad(\"/lustre/groups/ml01/workspace/ot_perturbation/data/multiome/GLI3_KO_multiome_18d_adata_tgt_train_processed_peakvi.h5ad\")"
   ]
  },
  {
   "cell_type": "code",
   "execution_count": 4,
   "id": "06f5a24a-d318-4893-84a0-7741acd11cf7",
   "metadata": {},
   "outputs": [],
   "source": [
    "adata_atac_train.obsm[\"X_scVI\"] = adata_activity_train.obsm[\"X_scVI\"]"
   ]
  },
  {
   "cell_type": "code",
   "execution_count": 5,
   "id": "d2c6ca4c-c939-44d8-bf85-ac6ced5623f6",
   "metadata": {},
   "outputs": [],
   "source": [
    "source_train_fused = adata_rna_train.obsm[\"X_scVI\"]\n",
    "target_train_fused = adata_atac_train.obsm[\"X_scVI\"]\n",
    "\n",
    "source_train_q = adata_rna_train.obsm[\"X_scVI\"]\n",
    "target_train_q = adata_atac_train.obsm[\"X_peakVI\"]"
   ]
  },
  {
   "cell_type": "code",
   "execution_count": 6,
   "id": "5677648d-2aea-4353-bec5-83ebb7f96b9c",
   "metadata": {},
   "outputs": [],
   "source": [
    "def data_match_fn(\n",
    "    src_lin: Optional[jnp.ndarray],\n",
    "    tgt_lin: Optional[jnp.ndarray],\n",
    "    src_quad: Optional[jnp.ndarray],\n",
    "    tgt_quad: Optional[jnp.ndarray],\n",
    "    *,\n",
    "    typ: Literal[\"lin\", \"quad\", \"fused\"],\n",
    "    epsilon: float = 1e-2,\n",
    "    tau_a: float = 0.999,\n",
    "    tau_b: float = 0.999,\n",
    "    **kwargs: Any,\n",
    ") -> jnp.ndarray:\n",
    "        \n",
    "    #tgt_quad = tgt_quad[:, :30]\n",
    "    if typ == \"lin\":\n",
    "        return solver_utils.match_linear(\n",
    "            x=src_lin, y=tgt_lin, scale_cost=\"mean\", epsilon=epsilon, tau_a=tau_a, tau_b=tau_b, **kwargs\n",
    "        )\n",
    "    if typ == \"quad\":\n",
    "        return solver_utils.match_quadratic(xx=src_quad, yy=tgt_quad, scale_cost=\"mean\", **kwargs)\n",
    "    if typ == \"fused\":\n",
    "        return solver_utils.match_quadratic(xx=src_quad, yy=tgt_quad, x=src_lin, y=tgt_lin, scale_cost=\"mean\", **kwargs)\n",
    "    raise NotImplementedError(f\"Unknown type: {typ}.\")"
   ]
  },
  {
   "cell_type": "code",
   "execution_count": 7,
   "id": "2040519b-d110-4207-982c-d47bfcb66f16",
   "metadata": {},
   "outputs": [],
   "source": [
    "source_dim = source_train_fused.shape[1] + source_train_q.shape[1]\n",
    "target_dim = source_train_fused.shape[1] + target_train_q.shape[1]"
   ]
  },
  {
   "cell_type": "code",
   "execution_count": 8,
   "id": "f736fa13-ba48-4375-bfd2-efb9b6d3e13b",
   "metadata": {},
   "outputs": [],
   "source": [
    "dl = DataLoader(datasets.OTDataset(datasets.OTData(lin=source_train_fused, quad=source_train_q), datasets.OTData(lin=target_train_fused, quad=target_train_q)),\n",
    "            batch_size=1024,\n",
    "            shuffle=True,\n",
    "        )"
   ]
  },
  {
   "cell_type": "code",
   "execution_count": 9,
   "id": "cee51a87-d987-4b0f-bf93-d4a4603991ac",
   "metadata": {},
   "outputs": [],
   "source": [
    "vf = VelocityField(\n",
    "    hidden_dims=[1024, 1024, 1024],\n",
    "    time_dims=[1024, 1024, 1024],\n",
    "    output_dims=[1024, 1024, 1024] + [target_dim],\n",
    "    condition_dims=[1024, 1024, 1024],\n",
    "    time_encoder=functools.partial(time_encoder.cyclical_time_encoder, n_freqs=1024),\n",
    ")"
   ]
  },
  {
   "cell_type": "code",
   "execution_count": 32,
   "id": "7902642b-d0d6-463c-aaa1-7b608176417b",
   "metadata": {},
   "outputs": [],
   "source": [
    "\n",
    "match_fn = jax.jit(\n",
    "            functools.partial(\n",
    "                data_match_fn,\n",
    "                typ=\"fused\",\n",
    "                epsilon=1e-3,\n",
    "                tau_a=0.999, \n",
    "                tau_b=0.999, \n",
    "                fused_penalty=10.0,\n",
    "                linear_ot_solver=sinkhorn.Sinkhorn(momentum=acceleration.Momentum(value=1., start=25)),\n",
    "            )\n",
    "        )"
   ]
  },
  {
   "cell_type": "code",
   "execution_count": 33,
   "id": "bc6bea4e-21a4-44b0-bc0d-f916640a5183",
   "metadata": {},
   "outputs": [],
   "source": [
    "model = GENOT(vf, \n",
    "     flow=dynamics.ConstantNoiseFlow(0.0), \n",
    "     data_match_fn = match_fn,\n",
    "     source_dim=source_dim,\n",
    "     target_dim=target_dim,\n",
    "     optimizer = optax.adam(learning_rate=1e-4),\n",
    "     rng=jax.random.PRNGKey(0))"
   ]
  },
  {
   "cell_type": "code",
   "execution_count": 34,
   "id": "3e9c84fe-be61-4d40-b671-ea77ad1f0dd8",
   "metadata": {},
   "outputs": [],
   "source": [
    "from typing import Dict, Tuple\n",
    "from tqdm import tqdm\n",
    "import jax.tree_util as jtu\n",
    "\n",
    "\n",
    "def prepare_data(\n",
    "    batch: Dict[str, jnp.ndarray]\n",
    ") -> Tuple[Tuple[jnp.ndarray, Optional[jnp.ndarray], jnp.ndarray],\n",
    "           Tuple[jnp.ndarray, jnp.ndarray, Optional[jnp.ndarray],\n",
    "                 Optional[jnp.ndarray]]]:\n",
    "  src_lin, src_quad = batch.get(\"src_lin\"), batch.get(\"src_quad\")\n",
    "  tgt_lin, tgt_quad = batch.get(\"tgt_lin\"), batch.get(\"tgt_quad\")\n",
    "\n",
    "  if src_quad is None and tgt_quad is None:  # lin\n",
    "    src, tgt = src_lin, tgt_lin\n",
    "    arrs = src_lin, tgt_lin, None, None\n",
    "  elif src_lin is None and tgt_lin is None:  # quad\n",
    "    src, tgt = src_quad, tgt_quad\n",
    "    arrs = None, None, src_quad, tgt_quad\n",
    "  elif all(\n",
    "      arr is not None for arr in (src_lin, tgt_lin, src_quad, tgt_quad)\n",
    "  ):  # fused quad\n",
    "    src = jnp.concatenate([src_lin, src_quad], axis=1)\n",
    "    tgt = jnp.concatenate([tgt_lin, tgt_quad], axis=1)\n",
    "    arrs = src_lin, tgt_lin, src_quad, tgt_quad\n",
    "  else:\n",
    "    raise RuntimeError(\"Cannot infer OT problem type from data.\")\n",
    "\n",
    "  return (src, batch.get(\"src_condition\"), tgt), arrs"
   ]
  },
  {
   "cell_type": "code",
   "execution_count": 35,
   "id": "e9db2719-339b-4a75-9fc5-a722797d2536",
   "metadata": {},
   "outputs": [],
   "source": [
    "training_logs = {\"loss\": []}"
   ]
  },
  {
   "cell_type": "code",
   "execution_count": 36,
   "id": "9a71b059-5fb2-4a40-b8fb-af38cd54abdd",
   "metadata": {},
   "outputs": [
    {
     "name": "stderr",
     "output_type": "stream",
     "text": [
      "100%|█████████████████████████████████████████████████████████████████████████████████████████████████████████████████████| 10000/10000 [29:44<00:00,  5.60it/s]\n"
     ]
    }
   ],
   "source": [
    "NUM_ITER = 10000\n",
    "\n",
    "\n",
    "rng = jax.random.PRNGKey(0)\n",
    "\n",
    "for it in tqdm(range(NUM_ITER)):\n",
    "  rng = jax.random.split(rng, 5)\n",
    "  rng, rng_resample, rng_noise, rng_time, rng_step_fn = rng\n",
    "\n",
    "  batch = next(iter(dl))\n",
    "  batch = jtu.tree_map(jnp.asarray, batch)\n",
    "  (src, src_cond, tgt), matching_data = prepare_data(batch)\n",
    "\n",
    "  n = src.shape[0]\n",
    "  time = model.time_sampler(rng_time, n * model.n_samples_per_src)\n",
    "  latent = model.latent_noise_fn(rng_noise, (n, model.n_samples_per_src))\n",
    "\n",
    "  tmat = model.data_match_fn(*matching_data)  # (n, m)\n",
    "  if np.isnan(tmat).sum()>0:\n",
    "      print(\"not converged\")\n",
    "      continue\n",
    "  src_ixs, tgt_ixs = solver_utils.sample_conditional(  # (n, k), (m, k)\n",
    "      rng_resample,\n",
    "      tmat,\n",
    "      k=model.n_samples_per_src,\n",
    "  )\n",
    "\n",
    "  src, tgt = src[src_ixs], tgt[tgt_ixs]  # (n, k, ...),  # (m, k, ...)\n",
    "  if src_cond is not None:\n",
    "    src_cond = src_cond[src_ixs]\n",
    "\n",
    "  if model.latent_match_fn is not None:\n",
    "    src, src_cond, tgt = model._match_latent(rng, src, src_cond, latent, tgt)\n",
    "\n",
    "  src = src.reshape(-1, *src.shape[2:])  # (n * k, ...)\n",
    "  tgt = tgt.reshape(-1, *tgt.shape[2:])  # (m * k, ...)\n",
    "  latent = latent.reshape(-1, *latent.shape[2:])\n",
    "  if src_cond is not None:\n",
    "    src_cond = src_cond.reshape(-1, *src_cond.shape[2:])\n",
    "\n",
    "  loss, model.vf_state = model.step_fn(\n",
    "      rng_step_fn, model.vf_state, time, src, tgt, latent, src_cond\n",
    "  )\n",
    "\n",
    "  training_logs[\"loss\"].append(float(loss))\n",
    "\n"
   ]
  },
  {
   "cell_type": "code",
   "execution_count": 37,
   "id": "5fda0df6-cb40-4792-bf73-3f54e66a68e1",
   "metadata": {},
   "outputs": [
    {
     "data": {
      "text/plain": [
       "[<matplotlib.lines.Line2D at 0x7fb54475d1c0>]"
      ]
     },
     "execution_count": 37,
     "metadata": {},
     "output_type": "execute_result"
    },
    {
     "data": {
      "image/png": "[encoded data removed]",
      "text/plain": [
       "<Figure size 640x480 with 1 Axes>"
      ]
     },
     "metadata": {},
     "output_type": "display_data"
    }
   ],
   "source": [
    "import matplotlib.pyplot as plt\n",
    "import numpy as np\n",
    "plt.plot(np.arange(len(training_logs[\"loss\"])), training_logs[\"loss\"])\n",
    "\n",
    "# the training looks"
   ]
  },
  {
   "cell_type": "code",
   "execution_count": 15,
   "id": "58daae43-ac8b-405a-8ac3-f95c3e2db973",
   "metadata": {},
   "outputs": [
    {
     "data": {
      "text/plain": [
       "[<matplotlib.lines.Line2D at 0x7fb6dd64c1a0>]"
      ]
     },
     "execution_count": 15,
     "metadata": {},
     "output_type": "execute_result"
    },
    {
     "data": {
      "image/png": "[encoded data removed]",
      "text/plain": [
       "<Figure size 640x480 with 1 Axes>"
      ]
     },
     "metadata": {},
     "output_type": "display_data"
    }
   ],
   "source": [
    "import matplotlib.pyplot as plt\n",
    "import numpy as np\n",
    "plt.plot(np.arange(len(training_logs[\"loss\"])), training_logs[\"loss\"])\n",
    "\n",
    "# the training looks"
   ]
  },
  {
   "cell_type": "code",
   "execution_count": 38,
   "id": "3e646c55-cba6-4f54-93d5-0c46ef1cce2b",
   "metadata": {},
   "outputs": [],
   "source": [
    "adata_rna_test = sc.read_h5ad(\"/lustre/groups/ml01/workspace/ot_perturbation/data/multiome/GLI3_KO_multiome_18d_adata_src_train_processed_with_scvi.h5ad\")\n",
    "adata_activity_test = sc.read_h5ad(\"/lustre/groups/ml01/workspace/ot_perturbation/data/multiome/GLI3_KO_multiome_18d_adata_activity_train_processed_with_scvi.h5ad\")\n",
    "adata_atac_test = sc.read_h5ad(\"/lustre/groups/ml01/workspace/ot_perturbation/data/multiome/GLI3_KO_multiome_18d_adata_tgt_train_processed_peakvi.h5ad\")"
   ]
  },
  {
   "cell_type": "code",
   "execution_count": 39,
   "id": "98c6f550-b7ce-43b8-8425-545a0fda8b06",
   "metadata": {},
   "outputs": [],
   "source": [
    "source_test = np.concatenate((adata_rna_test.obsm[\"X_scVI\"], adata_rna_test.obsm[\"X_scVI\"]), axis=1)"
   ]
  },
  {
   "cell_type": "code",
   "execution_count": 40,
   "id": "592acedb-b5dc-421c-9997-15ad02438a75",
   "metadata": {},
   "outputs": [],
   "source": [
    "tr = []\n",
    "for i in range(10):\n",
    "    tr.append(model.transport(source_test, rng=jax.random.PRNGKey(i)))"
   ]
  },
  {
   "cell_type": "code",
   "execution_count": 41,
   "id": "e5cd798b-7baa-4d22-b02c-06d97f059df4",
   "metadata": {},
   "outputs": [],
   "source": [
    "for i in range(10):\n",
    "    adata_rna_test.obsm[f\"predicted_atac_{i}\"] = np.asarray(tr[i])"
   ]
  },
  {
   "cell_type": "code",
   "execution_count": 42,
   "id": "812c732c-f422-46db-b649-4459b6092fc9",
   "metadata": {},
   "outputs": [],
   "source": [
    "adata_rna_test.write(\"/lustre/groups/ml01/workspace/ot_perturbation/data/multiome/GLI3_KO_multiome_18d_adata_src_with_predictions_peakVI.h5ad\")"
   ]
  },
  {
   "cell_type": "code",
   "execution_count": null,
   "id": "a6386856-99eb-4716-a689-d747589aa3aa",
   "metadata": {},
   "outputs": [],
   "source": []
  }
 ],
 "metadata": {
  "kernelspec": {
   "display_name": "ot_pert_genot",
   "language": "python",
   "name": "ot_pert_genot"
  },
  "language_info": {
   "codemirror_mode": {
    "name": "ipython",
    "version": 3
   },
   "file_extension": ".py",
   "mimetype": "text/x-python",
   "name": "python",
   "nbconvert_exporter": "python",
   "pygments_lexer": "ipython3",
   "version": "3.12.2"
  }
 },
 "nbformat": 4,
 "nbformat_minor": 5
}
