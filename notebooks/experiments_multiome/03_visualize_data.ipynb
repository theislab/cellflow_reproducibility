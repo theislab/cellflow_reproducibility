{
 "cells": [
  {
   "cell_type": "code",
   "execution_count": null,
   "id": "ea13e12a-7464-4f5b-8c88-021f5c911284",
   "metadata": {},
   "outputs": [],
   "source": [
    "import scanpy as sc\n",
    "import matplotlib.pyplot as plt\n",
    "sc.set_figure_params(scanpy=True, dpi=80, dpi_save=400)\n",
    "import anndata\n",
    "import mplscience\n",
    "\n",
    "mplscience.available_styles()\n",
    "mplscience.set_style(reset_current=True)\n",
    "plt.rcParams['legend.scatterpoints'] = 1\n",
    "plt.rcParams['figure.dpi'] = 100 #250\n"
   ]
  },
  {
   "cell_type": "code",
   "execution_count": null,
   "id": "6c337a68-1620-48c3-beb9-753d5be182ff",
   "metadata": {},
   "outputs": [],
   "source": [
    "fig_output_dir = \"/lustre/groups/ml01/workspace/ot_perturbation/figures/multiome\""
   ]
  },
  {
   "cell_type": "code",
   "execution_count": null,
   "id": "8f7db9df-722d-4552-9e6b-244c3dd196c0",
   "metadata": {},
   "outputs": [],
   "source": [
    "source_col = \"#8f97a8\"\n",
    "target_col = \"#1099c7\" \n"
   ]
  },
  {
   "cell_type": "code",
   "execution_count": null,
   "id": "95ee0587-6c04-4125-94b9-8e290fd97039",
   "metadata": {},
   "outputs": [],
   "source": [
    "adata_rna_test = sc.read_h5ad(\"/lustre/groups/ml01/workspace/ot_perturbation/data/multiome/GLI3_KO_multiome_18d_adata_src_test_processed_with_scvi.h5ad\")\n",
    "adata_atac_test = sc.read_h5ad(\"/lustre/groups/ml01/workspace/ot_perturbation/data/multiome/GLI3_KO_multiome_18d_adata_tgt_test_processed_peakvi.h5ad\")\n",
    "adata_src_atac_test = sc.read_h5ad(\"/lustre/groups/ml01/workspace/ot_perturbation/data/multiome/GLI3_KO_multiome_18d_adata_arc_atac_test_processed_peakvi.h5ad\")"
   ]
  },
  {
   "cell_type": "code",
   "execution_count": null,
   "id": "d5a8d34a-c98c-4f2d-a70d-5aedfea1dbe1",
   "metadata": {},
   "outputs": [],
   "source": [
    "sc.pl.umap(adata_rna_test, color=\"branch\", save=os.path.join(fig_output_dir, \"rna_scvi_umap.png\"))"
   ]
  },
  {
   "cell_type": "code",
   "execution_count": null,
   "id": "ee4539f5-00ab-4bdd-b6b5-4bf95beb199d",
   "metadata": {},
   "outputs": [],
   "source": [
    "sc.pl.umap(adata_atac_test, color=\"branch\", save=os.path.join(fig_output_dir, \"atac_peakvi_umap.png\"))"
   ]
  },
  {
   "cell_type": "code",
   "execution_count": null,
   "id": "d3cb4965-a2cd-4f76-91b8-17d61c48bc94",
   "metadata": {},
   "outputs": [],
   "source": [
    "adata_atac = anndata.concat((adata_src_atac_test, adata_atac_test), label=\"perturbation\", keys=[\"unperturbed\", \"perturbed\"])"
   ]
  },
  {
   "cell_type": "code",
   "execution_count": null,
   "id": "97edec72-d249-4309-adff-6146fdf37e7d",
   "metadata": {},
   "outputs": [],
   "source": [
    "sc.pp.neighbors(adata_atac, use_rep=\"X_pca\")\n",
    "sc.tl.umap(adata_atac)"
   ]
  },
  {
   "cell_type": "code",
   "execution_count": null,
   "id": "680eb491-2324-4d83-9aef-8ae47ecdce25",
   "metadata": {},
   "outputs": [],
   "source": [
    "sc.pl.umap(adata_atac, color=\"perturbation\", palette=[source_col, target_col], save=os.path.join(fig_output_dir, \"atac_unperturbed_perturbed_umap.png\")))"
   ]
  },
  {
   "cell_type": "code",
   "execution_count": null,
   "id": "a590d54e-215c-4b0e-aebc-6c0c47fb2fca",
   "metadata": {},
   "outputs": [],
   "source": [
    "sc.pl.umap(adata_atac, color=[\"branch\"], save=os.path.join(fig_output_dir, \"atac_unperturbed_perturbed_umap_cell_type.png\")))"
   ]
  },
  {
   "cell_type": "code",
   "execution_count": null,
   "id": "9390ec0c-d4eb-4873-9f1c-3d2f05aa0935",
   "metadata": {},
   "outputs": [],
   "source": [
    "sc.pl.umap(adata_atac, color=[\"seurat_clusters\"], save=os.path.join(fig_output_dir, \"atac_unperturbed_perturbed_cluster_umap.png\")))"
   ]
  },
  {
   "cell_type": "code",
   "execution_count": null,
   "id": "9fd0b1ea-e742-4c0a-87b5-df1b7e59a832",
   "metadata": {},
   "outputs": [],
   "source": [
    "sc.pl.umap(adata_atac, color=[\"seurat_clusters\"], groups=[\"0\", \"2\"], save=os.path.join(fig_output_dir, \"atac_two_clusters.png\")))"
   ]
  },
  {
   "cell_type": "code",
   "execution_count": null,
   "id": "b424b2e8-23a7-42c5-94a0-d502f6874ed1",
   "metadata": {},
   "outputs": [],
   "source": []
  }
 ],
 "metadata": {
  "kernelspec": {
   "display_name": "ot_pert_genot",
   "language": "python",
   "name": "ot_pert_genot"
  },
  "language_info": {
   "codemirror_mode": {
    "name": "ipython",
    "version": 3
   },
   "file_extension": ".py",
   "mimetype": "text/x-python",
   "name": "python",
   "nbconvert_exporter": "python",
   "pygments_lexer": "ipython3",
   "version": "3.12.2"
  }
 },
 "nbformat": 4,
 "nbformat_minor": 5
}
