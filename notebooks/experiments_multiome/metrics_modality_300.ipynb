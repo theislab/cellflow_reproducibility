{
 "cells": [
  {
   "cell_type": "code",
   "execution_count": 1,
   "id": "5fb6364d-273a-40f8-afc1-0fe433c7deb7",
   "metadata": {},
   "outputs": [],
   "source": [
    "import scanpy as sc\n",
    "import jax\n",
    "from ot_pert.metrics import compute_metrics, compute_metrics_fast, compute_mean_metrics\n",
    "import functools\n",
    "import numpy as np"
   ]
  },
  {
   "cell_type": "code",
   "execution_count": 2,
   "id": "3fc7b592-2091-4967-955d-429ed349735e",
   "metadata": {},
   "outputs": [
    {
     "name": "stderr",
     "output_type": "stream",
     "text": [
      "/home/icb/dominik.klein/mambaforge/envs/ot_pert_genot/lib/python3.12/site-packages/anndata/__init__.py:51: FutureWarning: `anndata.read` is deprecated, use `anndata.read_h5ad` instead. `ad.read` will be removed in mid 2024.\n",
      "  warnings.warn(\n",
      "/home/icb/dominik.klein/mambaforge/envs/ot_pert_genot/lib/python3.12/site-packages/anndata/__init__.py:51: FutureWarning: `anndata.read` is deprecated, use `anndata.read_h5ad` instead. `ad.read` will be removed in mid 2024.\n",
      "  warnings.warn(\n"
     ]
    }
   ],
   "source": [
    "adata_preds_from_atac = sc.read(\"/lustre/groups/ml01/workspace/ot_perturbation/data/multiome/GLI3_KO_multiome_18d_adata_src_atac_with_predictions.h5ad\")\n",
    "adata_preds_from_rna = sc.read(\"/lustre/groups/ml01/workspace/ot_perturbation/data/multiome/GLI3_KO_multiome_18d_adata_src_with_predictions.h5ad\")\n",
    "adata_target_atac = sc.read_h5ad(\"/lustre/groups/ml01/workspace/ot_perturbation/data/multiome/GLI3_KO_multiome_18d_adata_tgt_test_processed.h5ad\")\n",
    "adata_atac_train = sc.read_h5ad(\"/lustre/groups/ml01/workspace/ot_perturbation/data/multiome/GLI3_KO_multiome_18d_adata_tgt_train_processed.h5ad\")"
   ]
  },
  {
   "cell_type": "code",
   "execution_count": 14,
   "id": "6f3bd3d2-de90-4886-a40a-88b9e787b057",
   "metadata": {},
   "outputs": [
    {
     "name": "stderr",
     "output_type": "stream",
     "text": [
      "/home/icb/dominik.klein/mambaforge/envs/ot_pert_genot/lib/python3.12/site-packages/anndata/__init__.py:51: FutureWarning: `anndata.read` is deprecated, use `anndata.read_h5ad` instead. `ad.read` will be removed in mid 2024.\n",
      "  warnings.warn(\n"
     ]
    }
   ],
   "source": [
    "adata_preds_from_rna_unbalanced = sc.read(\"/lustre/groups/ml01/workspace/ot_perturbation/data/multiome/GLI3_KO_multiome_18d_adata_src_with_predictions_unbalanced.h5ad\")\n"
   ]
  },
  {
   "cell_type": "code",
   "execution_count": 3,
   "id": "d1f28211-7ca1-428f-8aee-0840181eda2b",
   "metadata": {},
   "outputs": [],
   "source": [
    "adata_atac_train = sc.read_h5ad(\"/lustre/groups/ml01/workspace/ot_perturbation/data/multiome/GLI3_KO_multiome_18d_adata_tgt_train_processed.h5ad\")"
   ]
  },
  {
   "cell_type": "code",
   "execution_count": 19,
   "id": "7b0815a2-f702-4f5e-8ae3-b75593d3b4f8",
   "metadata": {},
   "outputs": [],
   "source": [
    "preds_from_atac = {}\n",
    "preds_from_rna = {}\n",
    "true_atac = {}\n",
    "preds_from_rna_unbalanced = {}\n",
    "for i in range(10):\n",
    "    preds_from_atac[i] = adata_preds_from_atac.obsm[f\"predicted_atac_{i}\"][:,:30]\n",
    "    true_atac[i] = adata_target_atac.obsm[\"X_pca\"][:,:30]\n",
    "    preds_from_rna[i] = adata_preds_from_rna.obsm[f\"predicted_atac_{i}\"][:, 10:40]\n",
    "    preds_from_rna_unbalanced[i] = adata_preds_from_rna_unbalanced.obsm[f\"predicted_atac_{i}\"][:, 10:40]\n",
    "    \n"
   ]
  },
  {
   "cell_type": "code",
   "execution_count": 28,
   "id": "ade9b447-4d64-4fba-90a5-32939bb163e8",
   "metadata": {},
   "outputs": [],
   "source": [
    "preds_identity = {0: adata_preds_from_atac.obsm[\"X_pca\"][:,:30]}"
   ]
  },
  {
   "cell_type": "code",
   "execution_count": 21,
   "id": "153c704a-f5e5-4eb9-a8a5-ac933346ebea",
   "metadata": {},
   "outputs": [],
   "source": [
    "metrics_encoded_from_atac = jax.tree_util.tree_map(compute_metrics, preds_from_atac, true_atac)"
   ]
  },
  {
   "cell_type": "code",
   "execution_count": 22,
   "id": "dd20eac0-b333-45ac-8473-ae6e3e3b7558",
   "metadata": {},
   "outputs": [
    {
     "data": {
      "text/plain": [
       "{'r_squared': -0.5386099213755221,\n",
       " 'sinkhorn_div_1': 26.055681133270262,\n",
       " 'sinkhorn_div_10': 16.629411697387695,\n",
       " 'sinkhorn_div_100': 13.295442962646485,\n",
       " 'e_distance': 0.8559387105334437,\n",
       " 'mmd': 0.011484599991222814}"
      ]
     },
     "execution_count": 22,
     "metadata": {},
     "output_type": "execute_result"
    }
   ],
   "source": [
    "compute_mean_metrics(metrics_encoded_from_atac)"
   ]
  },
  {
   "cell_type": "code",
   "execution_count": 23,
   "id": "7522abbc-459a-4938-a2b2-5402a3373a6a",
   "metadata": {},
   "outputs": [],
   "source": [
    "metrics_encoded_from_rna = jax.tree_util.tree_map(compute_metrics, preds_from_rna, true_atac)"
   ]
  },
  {
   "cell_type": "code",
   "execution_count": 24,
   "id": "cbdbff45-9421-4025-9d31-bd3389f1ef16",
   "metadata": {},
   "outputs": [
    {
     "data": {
      "text/plain": [
       "{'r_squared': -0.3697249694496364,\n",
       " 'sinkhorn_div_1': 54.159423446655275,\n",
       " 'sinkhorn_div_10': 44.8317626953125,\n",
       " 'sinkhorn_div_100': 40.88667602539063,\n",
       " 'e_distance': 0.4048078238511465,\n",
       " 'mmd': 0.008571079101224354}"
      ]
     },
     "execution_count": 24,
     "metadata": {},
     "output_type": "execute_result"
    }
   ],
   "source": [
    "compute_mean_metrics(metrics_encoded_from_rna)"
   ]
  },
  {
   "cell_type": "code",
   "execution_count": 29,
   "id": "051603bf-5c57-4621-9cf9-21a1c2f3b7e0",
   "metadata": {},
   "outputs": [],
   "source": [
    "metrics_identity = jax.tree_util.tree_map(compute_metrics, preds_identity, {0: true_atac[0]})"
   ]
  },
  {
   "cell_type": "code",
   "execution_count": 30,
   "id": "807d6532-d757-41df-83f6-6d398ca6778b",
   "metadata": {},
   "outputs": [
    {
     "data": {
      "text/plain": [
       "{'r_squared': -0.05631441220782829,\n",
       " 'sinkhorn_div_1': 7.723011493682861,\n",
       " 'sinkhorn_div_10': 5.198238372802734,\n",
       " 'sinkhorn_div_100': 2.7516136169433594,\n",
       " 'e_distance': 2.9667363750196074,\n",
       " 'mmd': 0.012982505842508712}"
      ]
     },
     "execution_count": 30,
     "metadata": {},
     "output_type": "execute_result"
    }
   ],
   "source": [
    "compute_mean_metrics(metrics_identity)"
   ]
  },
  {
   "cell_type": "code",
   "execution_count": 31,
   "id": "7d58c600-22a9-4f7a-9b42-3cf063d06f4e",
   "metadata": {},
   "outputs": [],
   "source": [
    "metrics_identity = jax.tree_util.tree_map(compute_metrics, preds_from_rna_unbalanced, true_atac)"
   ]
  },
  {
   "cell_type": "code",
   "execution_count": 32,
   "id": "e62dbfbd-e222-4533-8b41-567518605712",
   "metadata": {},
   "outputs": [
    {
     "data": {
      "text/plain": [
       "{'r_squared': -0.3697249694496364,\n",
       " 'sinkhorn_div_1': 54.159423446655275,\n",
       " 'sinkhorn_div_10': 44.8317626953125,\n",
       " 'sinkhorn_div_100': 40.88667602539063,\n",
       " 'e_distance': 0.4048078238511465,\n",
       " 'mmd': 0.008571079101224354}"
      ]
     },
     "execution_count": 32,
     "metadata": {},
     "output_type": "execute_result"
    }
   ],
   "source": [
    "compute_mean_metrics(metrics_identity)"
   ]
  },
  {
   "cell_type": "code",
   "execution_count": null,
   "id": "76e63274-1442-4dfe-8d1c-91ca0d8e7153",
   "metadata": {},
   "outputs": [],
   "source": []
  },
  {
   "cell_type": "code",
   "execution_count": 15,
   "id": "287f09d2-9be7-41c1-a32a-2aab0e3052e8",
   "metadata": {},
   "outputs": [
    {
     "data": {
      "text/plain": [
       "{0: {'r_squared': 0.186773556045167,\n",
       "  'sinkhorn_div_1': 620266048.0,\n",
       "  'sinkhorn_div_10': 359.1116638183594,\n",
       "  'sinkhorn_div_100': 231.46322631835938,\n",
       "  'e_distance': 1.7272871428227035,\n",
       "  'mmd': 0.055085826717612606},\n",
       " 1: {'r_squared': 0.18352470440932533,\n",
       "  'sinkhorn_div_1': 2389987584.0,\n",
       "  'sinkhorn_div_10': 356.0127868652344,\n",
       "  'sinkhorn_div_100': 227.6110076904297,\n",
       "  'e_distance': 1.7580845997567138,\n",
       "  'mmd': 0.0554653851806148},\n",
       " 2: {'r_squared': 0.16396652574037784,\n",
       "  'sinkhorn_div_1': 632819810304.0,\n",
       "  'sinkhorn_div_10': 401.33648681640625,\n",
       "  'sinkhorn_div_100': 273.28106689453125,\n",
       "  'e_distance': 1.8077618822780295,\n",
       "  'mmd': 0.05549144560960642},\n",
       " 3: {'r_squared': 0.20180889929033552,\n",
       "  'sinkhorn_div_1': 828003200.0,\n",
       "  'sinkhorn_div_10': 332.9805908203125,\n",
       "  'sinkhorn_div_100': 203.94680786132812,\n",
       "  'e_distance': 1.723044557429759,\n",
       "  'mmd': 0.05581822539090261},\n",
       " 4: {'r_squared': 0.16406000817552369,\n",
       "  'sinkhorn_div_1': 13991589888.0,\n",
       "  'sinkhorn_div_10': 378.1598815917969,\n",
       "  'sinkhorn_div_100': 247.94772338867188,\n",
       "  'e_distance': 1.8394885521976647,\n",
       "  'mmd': 0.056556046269401826},\n",
       " 5: {'r_squared': 0.16929209591784866,\n",
       "  'sinkhorn_div_1': 2521664.75,\n",
       "  'sinkhorn_div_10': 383.685791015625,\n",
       "  'sinkhorn_div_100': 254.8318328857422,\n",
       "  'e_distance': 1.724842503506963,\n",
       "  'mmd': 0.055849724638427835},\n",
       " 6: {'r_squared': 0.16808338421713487,\n",
       "  'sinkhorn_div_1': 380728344576.0,\n",
       "  'sinkhorn_div_10': 386.197998046875,\n",
       "  'sinkhorn_div_100': 258.74005126953125,\n",
       "  'e_distance': 1.8813662221939893,\n",
       "  'mmd': 0.05532987035675604},\n",
       " 7: {'r_squared': 0.16679489303634276,\n",
       "  'sinkhorn_div_1': 3934528512.0,\n",
       "  'sinkhorn_div_10': 393.0452575683594,\n",
       "  'sinkhorn_div_100': 266.42132568359375,\n",
       "  'e_distance': 1.8302714556070185,\n",
       "  'mmd': 0.055068766374031526},\n",
       " 8: {'r_squared': 0.17692274664259655,\n",
       "  'sinkhorn_div_1': 285587374080.0,\n",
       "  'sinkhorn_div_10': 358.2252502441406,\n",
       "  'sinkhorn_div_100': 229.3891143798828,\n",
       "  'e_distance': 1.7901830789182185,\n",
       "  'mmd': 0.055925324884374995},\n",
       " 9: {'r_squared': 0.17603269234591834,\n",
       "  'sinkhorn_div_1': 618528768.0,\n",
       "  'sinkhorn_div_10': 390.13067626953125,\n",
       "  'sinkhorn_div_100': 261.99176025390625,\n",
       "  'e_distance': 1.7414673068206383,\n",
       "  'mmd': 0.055600007891155635}}"
      ]
     },
     "execution_count": 15,
     "metadata": {},
     "output_type": "execute_result"
    }
   ],
   "source": [
    "metrics_encoded_from_rna"
   ]
  },
  {
   "cell_type": "code",
   "execution_count": null,
   "id": "ad312972-aedc-46a4-9b71-269cec5f2744",
   "metadata": {},
   "outputs": [],
   "source": []
  }
 ],
 "metadata": {
  "kernelspec": {
   "display_name": "ot_pert_genot",
   "language": "python",
   "name": "ot_pert_genot"
  },
  "language_info": {
   "codemirror_mode": {
    "name": "ipython",
    "version": 3
   },
   "file_extension": ".py",
   "mimetype": "text/x-python",
   "name": "python",
   "nbconvert_exporter": "python",
   "pygments_lexer": "ipython3",
   "version": "3.12.2"
  }
 },
 "nbformat": 4,
 "nbformat_minor": 5
}
