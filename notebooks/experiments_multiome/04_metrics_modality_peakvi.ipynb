{
 "cells": [
  {
   "cell_type": "code",
   "execution_count": 1,
   "id": "5fb6364d-273a-40f8-afc1-0fe433c7deb7",
   "metadata": {},
   "outputs": [],
   "source": [
    "import scanpy as sc\n",
    "import jax\n",
    "from ot_pert.metrics import compute_metrics, compute_metrics_fast, compute_mean_metrics\n",
    "import functools\n",
    "import numpy as np"
   ]
  },
  {
   "cell_type": "code",
   "execution_count": 2,
   "id": "3fc7b592-2091-4967-955d-429ed349735e",
   "metadata": {},
   "outputs": [
    {
     "name": "stderr",
     "output_type": "stream",
     "text": [
      "/home/icb/dominik.klein/mambaforge/envs/ot_pert_genot/lib/python3.12/site-packages/anndata/__init__.py:51: FutureWarning: `anndata.read` is deprecated, use `anndata.read_h5ad` instead. `ad.read` will be removed in mid 2024.\n",
      "  warnings.warn(\n",
      "/home/icb/dominik.klein/mambaforge/envs/ot_pert_genot/lib/python3.12/site-packages/anndata/__init__.py:51: FutureWarning: `anndata.read` is deprecated, use `anndata.read_h5ad` instead. `ad.read` will be removed in mid 2024.\n",
      "  warnings.warn(\n"
     ]
    }
   ],
   "source": [
    "adata_preds_from_atac = sc.read(\"/lustre/groups/ml01/workspace/ot_perturbation/data/multiome/GLI3_KO_multiome_18d_adata_src_atac_with_predictions_peakVI.h5ad\")\n",
    "adata_preds_from_rna = sc.read(\"/lustre/groups/ml01/workspace/ot_perturbation/data/multiome/GLI3_KO_multiome_18d_adata_src_with_predictions_peakVI.h5ad\")\n",
    "adata_target_atac = sc.read_h5ad(\"/lustre/groups/ml01/workspace/ot_perturbation/data/multiome/GLI3_KO_multiome_18d_adata_tgt_test_processed_peakvi.h5ad\")\n",
    "adata_atac_train = sc.read_h5ad(\"/lustre/groups/ml01/workspace/ot_perturbation/data/multiome/GLI3_KO_multiome_18d_adata_tgt_train_processed_peakvi.h5ad\")"
   ]
  },
  {
   "cell_type": "code",
   "execution_count": 3,
   "id": "7b0815a2-f702-4f5e-8ae3-b75593d3b4f8",
   "metadata": {},
   "outputs": [],
   "source": [
    "preds_from_atac = {}\n",
    "preds_from_rna = {}\n",
    "true_atac = {}\n",
    "for i in range(10):\n",
    "    preds_from_atac[i] = adata_preds_from_atac.obsm[f\"predicted_atac_{i}\"]\n",
    "    true_atac[i] = adata_target_atac.obsm[\"X_peakVI\"]\n",
    "    preds_from_rna[i] = adata_preds_from_rna.obsm[f\"predicted_atac_{i}\"][:,10:]\n",
    "    \n"
   ]
  },
  {
   "cell_type": "code",
   "execution_count": 4,
   "id": "ade9b447-4d64-4fba-90a5-32939bb163e8",
   "metadata": {},
   "outputs": [],
   "source": [
    "preds_identity = {0: adata_preds_from_atac.obsm[\"X_peakVI\"]}"
   ]
  },
  {
   "cell_type": "code",
   "execution_count": 5,
   "id": "153c704a-f5e5-4eb9-a8a5-ac933346ebea",
   "metadata": {},
   "outputs": [
    {
     "name": "stderr",
     "output_type": "stream",
     "text": [
      "2024-06-28 17:14:37.339472: W external/xla/xla/service/gpu/nvptx_compiler.cc:718] The NVIDIA driver's CUDA version is 12.3 which is older than the ptxas CUDA version (12.4.131). Because the driver is older than the ptxas version, XLA is disabling parallel compilation, which may slow down compilation. You should update your NVIDIA driver or use the NVIDIA-provided CUDA forward compatibility packages.\n"
     ]
    }
   ],
   "source": [
    "metrics_encoded_from_atac = jax.tree_util.tree_map(compute_metrics, preds_from_atac, true_atac)"
   ]
  },
  {
   "cell_type": "code",
   "execution_count": 6,
   "id": "dd20eac0-b333-45ac-8473-ae6e3e3b7558",
   "metadata": {},
   "outputs": [
    {
     "data": {
      "text/plain": [
       "{'r_squared': 0.9905986411804077,\n",
       " 'sinkhorn_div_1': 2.2347991466522217,\n",
       " 'sinkhorn_div_10': 0.47048587799072267,\n",
       " 'sinkhorn_div_100': 0.20024528503417968,\n",
       " 'e_distance': 0.3467470892186476,\n",
       " 'mmd': 0.002353695882387304}"
      ]
     },
     "execution_count": 6,
     "metadata": {},
     "output_type": "execute_result"
    }
   ],
   "source": [
    "compute_mean_metrics(metrics_encoded_from_atac)"
   ]
  },
  {
   "cell_type": "code",
   "execution_count": 7,
   "id": "8654303c-d685-4b0b-aa9c-c14401f82d3a",
   "metadata": {},
   "outputs": [],
   "source": [
    "metrics_encoded_from_rna = jax.tree_util.tree_map(compute_metrics, preds_from_rna, true_atac)"
   ]
  },
  {
   "cell_type": "code",
   "execution_count": 8,
   "id": "546d60c9-971f-41f4-b062-dab1bd3aef45",
   "metadata": {},
   "outputs": [
    {
     "data": {
      "text/plain": [
       "{'r_squared': 0.9942269174178907,\n",
       " 'sinkhorn_div_1': 2.9219343185424806,\n",
       " 'sinkhorn_div_10': 0.6000816345214843,\n",
       " 'sinkhorn_div_100': 0.15695571899414062,\n",
       " 'e_distance': 0.1862438339751101,\n",
       " 'mmd': 0.0026335724627036443}"
      ]
     },
     "execution_count": 8,
     "metadata": {},
     "output_type": "execute_result"
    }
   ],
   "source": [
    "compute_mean_metrics(metrics_encoded_from_rna)"
   ]
  },
  {
   "cell_type": "code",
   "execution_count": 9,
   "id": "051603bf-5c57-4621-9cf9-21a1c2f3b7e0",
   "metadata": {},
   "outputs": [],
   "source": [
    "metrics_identity = jax.tree_util.tree_map(compute_metrics, preds_identity, {0: true_atac[0]})"
   ]
  },
  {
   "cell_type": "code",
   "execution_count": 10,
   "id": "807d6532-d757-41df-83f6-6d398ca6778b",
   "metadata": {},
   "outputs": [
    {
     "data": {
      "text/plain": [
       "{'r_squared': 0.9172198370643104,\n",
       " 'sinkhorn_div_1': 4.872247695922852,\n",
       " 'sinkhorn_div_10': 3.1665306091308594,\n",
       " 'sinkhorn_div_100': 1.8755989074707031,\n",
       " 'e_distance': 3.2671523303988153,\n",
       " 'mmd': 0.013792068571395552}"
      ]
     },
     "execution_count": 10,
     "metadata": {},
     "output_type": "execute_result"
    }
   ],
   "source": [
    "compute_mean_metrics(metrics_identity)"
   ]
  },
  {
   "cell_type": "code",
   "execution_count": 11,
   "id": "0c31696d-a975-46fa-ab92-8755b592239d",
   "metadata": {},
   "outputs": [],
   "source": [
    "output_dir = \"/lustre/groups/ml01/workspace/ot_perturbation/data/multiome/results/identity\""
   ]
  },
  {
   "cell_type": "code",
   "execution_count": 13,
   "id": "cd936dfd-8094-4cf5-b963-ff425830f27b",
   "metadata": {},
   "outputs": [],
   "source": [
    "import os\n",
    "import pandas as pd\n",
    "pd.DataFrame.from_dict(metrics_encoded_from_rna).to_csv(\"/lustre/groups/ml01/workspace/ot_perturbation/data/multiome/results/genot_quad/metrics_encoded.csv\")\n",
    "pd.DataFrame.from_dict(metrics_encoded_from_atac).to_csv(\"/lustre/groups/ml01/workspace/ot_perturbation/data/multiome/results/genot_lin/metrics_encoded.csv\")\n",
    "pd.DataFrame.from_dict(metrics_identity).to_csv(\"/lustre/groups/ml01/workspace/ot_perturbation/data/multiome/results/identity/metrics_encoded.csv\")\n"
   ]
  },
  {
   "cell_type": "code",
   "execution_count": null,
   "id": "a6665ea2-5f97-44c3-9dbc-fc40b96a1653",
   "metadata": {},
   "outputs": [],
   "source": []
  }
 ],
 "metadata": {
  "kernelspec": {
   "display_name": "ot_pert_genot",
   "language": "python",
   "name": "ot_pert_genot"
  },
  "language_info": {
   "codemirror_mode": {
    "name": "ipython",
    "version": 3
   },
   "file_extension": ".py",
   "mimetype": "text/x-python",
   "name": "python",
   "nbconvert_exporter": "python",
   "pygments_lexer": "ipython3",
   "version": "3.12.2"
  }
 },
 "nbformat": 4,
 "nbformat_minor": 5
}
