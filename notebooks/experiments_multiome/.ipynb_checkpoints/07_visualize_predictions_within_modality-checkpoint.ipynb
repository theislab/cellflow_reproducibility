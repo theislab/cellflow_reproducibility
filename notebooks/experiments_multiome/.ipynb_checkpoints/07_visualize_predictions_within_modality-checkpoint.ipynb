{
 "cells": [
  {
   "cell_type": "code",
   "execution_count": 10,
   "id": "320d5bb8-21f2-4368-b901-4f0d57dc36d1",
   "metadata": {},
   "outputs": [
    {
     "name": "stdout",
     "output_type": "stream",
     "text": [
      "['default', 'despine']\n"
     ]
    }
   ],
   "source": [
    "import scanpy as sc\n",
    "import matplotlib.pyplot as plt\n",
    "sc.set_figure_params(scanpy=True, dpi=80, dpi_save=400)\n",
    "import anndata\n",
    "import mplscience\n",
    "import numpy as np\n",
    "\n",
    "\n",
    "mplscience.available_styles()\n",
    "mplscience.set_style(reset_current=True)\n",
    "plt.rcParams['legend.scatterpoints'] = 1\n",
    "plt.rcParams['figure.dpi'] = 250"
   ]
  },
  {
   "cell_type": "code",
   "execution_count": 2,
   "id": "4bc8113c-358b-408d-8a3b-81268e52c997",
   "metadata": {},
   "outputs": [
    {
     "name": "stderr",
     "output_type": "stream",
     "text": [
      "/home/icb/dominik.klein/mambaforge/envs/ot_pert_genot/lib/python3.12/site-packages/anndata/__init__.py:51: FutureWarning: `anndata.read` is deprecated, use `anndata.read_h5ad` instead. `ad.read` will be removed in mid 2024.\n",
      "  warnings.warn(\n"
     ]
    }
   ],
   "source": [
    "adata_preds_from_rna = sc.read(\"/lustre/groups/ml01/workspace/ot_perturbation/data/multiome/GLI3_KO_multiome_18d_adata_src_with_predictions.h5ad\")\n",
    "adata_target_atac = sc.read_h5ad(\"/lustre/groups/ml01/workspace/ot_perturbation/data/multiome/GLI3_KO_multiome_18d_adata_tgt_test_processed.h5ad\")\n"
   ]
  },
  {
   "cell_type": "code",
   "execution_count": 5,
   "id": "ba73f658-adce-410c-aa7f-e2298f1c3614",
   "metadata": {},
   "outputs": [],
   "source": [
    "adata_target_atac = sc.read_h5ad(\"/lustre/groups/ml01/workspace/ot_perturbation/data/multiome/GLI3_KO_multiome_18d_adata_tgt_test_processed.h5ad\")\n"
   ]
  },
  {
   "cell_type": "code",
   "execution_count": 4,
   "id": "a531286f-4e63-430a-aae9-db3d3c83c595",
   "metadata": {},
   "outputs": [
    {
     "data": {
      "text/plain": [
       "(3383, 310)"
      ]
     },
     "execution_count": 4,
     "metadata": {},
     "output_type": "execute_result"
    }
   ],
   "source": [
    "adata_preds_from_rna.obsm[\"predicted_atac_14\"].shape"
   ]
  },
  {
   "cell_type": "code",
   "execution_count": 18,
   "id": "33203bbf-5675-4da8-bfaf-12fc12f799d7",
   "metadata": {},
   "outputs": [],
   "source": [
    "adata = sc.concat(\n",
    "    [adata_preds_from_rna, adata_target_atac],\n",
    "    join=\"outer\",\n",
    "    label=\"mode\",\n",
    "    keys=[\"pred\", \"true\"],\n",
    ")\n",
    "adata.obsm[\"X_pca\"] = np.concatenate(\n",
    "    (adata_preds_from_rna.obsm[\"predicted_atac_0\"][:,10:], adata_target_atac.obsm[\"X_pca\"]), axis=0\n",
    ")"
   ]
  },
  {
   "cell_type": "code",
   "execution_count": 19,
   "id": "bd066ad9-e0dc-455e-969a-8828474436b5",
   "metadata": {},
   "outputs": [
    {
     "name": "stderr",
     "output_type": "stream",
     "text": [
      "/home/icb/dominik.klein/mambaforge/envs/ot_pert_genot/lib/python3.12/site-packages/tqdm/auto.py:21: TqdmWarning: IProgress not found. Please update jupyter and ipywidgets. See https://ipywidgets.readthedocs.io/en/stable/user_install.html\n",
      "  from .autonotebook import tqdm as notebook_tqdm\n"
     ]
    }
   ],
   "source": [
    "sc.pp.neighbors(adata, use_rep=\"X_pca\")\n",
    "sc.tl.umap(adata)"
   ]
  },
  {
   "cell_type": "code",
   "execution_count": null,
   "id": "9a53c0ee-bbb5-4ae9-b901-c6d307d2c475",
   "metadata": {},
   "outputs": [
    {
     "name": "stderr",
     "output_type": "stream",
     "text": [
      "/home/icb/dominik.klein/mambaforge/envs/ot_pert_genot/lib/python3.12/site-packages/scanpy/plotting/_tools/scatterplots.py:1234: FutureWarning: The default value of 'ignore' for the `na_action` parameter in pandas.Categorical.map is deprecated and will be changed to 'None' in a future version. Please set na_action to the desired value to avoid seeing this warning\n",
      "  color_vector = pd.Categorical(values.map(color_map))\n",
      "/home/icb/dominik.klein/mambaforge/envs/ot_pert_genot/lib/python3.12/site-packages/scanpy/plotting/_tools/scatterplots.py:394: UserWarning: No data for colormapping provided via 'c'. Parameters 'cmap' will be ignored\n",
      "  cax = scatter(\n"
     ]
    }
   ],
   "source": [
    "sc.pl.umap(adata, color=\"mode\")"
   ]
  },
  {
   "cell_type": "code",
   "execution_count": null,
   "id": "d63aa916-9cee-4c5c-ac6e-c851382924ce",
   "metadata": {},
   "outputs": [],
   "source": [
    "sc.pl.umap(adata, color=\"branch\")"
   ]
  }
 ],
 "metadata": {
  "kernelspec": {
   "display_name": "ot_pert_genot",
   "language": "python",
   "name": "ot_pert_genot"
  },
  "language_info": {
   "codemirror_mode": {
    "name": "ipython",
    "version": 3
   },
   "file_extension": ".py",
   "mimetype": "text/x-python",
   "name": "python",
   "nbconvert_exporter": "python",
   "pygments_lexer": "ipython3",
   "version": "3.12.2"
  }
 },
 "nbformat": 4,
 "nbformat_minor": 5
}
