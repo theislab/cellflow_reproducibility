{
 "cells": [
  {
   "cell_type": "code",
   "execution_count": 2,
   "id": "5fb6364d-273a-40f8-afc1-0fe433c7deb7",
   "metadata": {},
   "outputs": [],
   "source": [
    "import scanpy as sc\n",
    "import jax\n",
    "from ot_pert.metrics import compute_metrics, compute_metrics_fast, compute_mean_metrics\n",
    "import functools\n",
    "import numpy as np"
   ]
  },
  {
   "cell_type": "code",
   "execution_count": 3,
   "id": "3fc7b592-2091-4967-955d-429ed349735e",
   "metadata": {},
   "outputs": [
    {
     "name": "stderr",
     "output_type": "stream",
     "text": [
      "/home/icb/dominik.klein/mambaforge/envs/ot_pert_genot/lib/python3.12/site-packages/anndata/__init__.py:51: FutureWarning: `anndata.read` is deprecated, use `anndata.read_h5ad` instead. `ad.read` will be removed in mid 2024.\n",
      "  warnings.warn(\n",
      "/home/icb/dominik.klein/mambaforge/envs/ot_pert_genot/lib/python3.12/site-packages/anndata/__init__.py:51: FutureWarning: `anndata.read` is deprecated, use `anndata.read_h5ad` instead. `ad.read` will be removed in mid 2024.\n",
      "  warnings.warn(\n"
     ]
    }
   ],
   "source": [
    "adata_preds_from_atac = sc.read(\"/lustre/groups/ml01/workspace/ot_perturbation/data/multiome/GLI3_KO_multiome_18d_adata_src_atac_with_predictions.h5ad\")\n",
    "adata_preds_from_rna = sc.read(\"/lustre/groups/ml01/workspace/ot_perturbation/data/multiome/GLI3_KO_multiome_18d_adata_src_with_predictions.h5ad\")\n",
    "adata_target_atac = sc.read_h5ad(\"/lustre/groups/ml01/workspace/ot_perturbation/data/multiome/GLI3_KO_multiome_18d_adata_tgt_test_processed.h5ad\")\n",
    "adata_atac_train = sc.read_h5ad(\"/lustre/groups/ml01/workspace/ot_perturbation/data/multiome/GLI3_KO_multiome_18d_adata_tgt_train_processed.h5ad\")"
   ]
  },
  {
   "cell_type": "code",
   "execution_count": 4,
   "id": "d1f28211-7ca1-428f-8aee-0840181eda2b",
   "metadata": {},
   "outputs": [],
   "source": [
    "adata_atac_train = sc.read_h5ad(\"/lustre/groups/ml01/workspace/ot_perturbation/data/multiome/GLI3_KO_multiome_18d_adata_tgt_train_processed.h5ad\")"
   ]
  },
  {
   "cell_type": "code",
   "execution_count": 5,
   "id": "7b0815a2-f702-4f5e-8ae3-b75593d3b4f8",
   "metadata": {},
   "outputs": [],
   "source": [
    "preds_from_atac = {}\n",
    "preds_from_rna = {}\n",
    "true_atac = {}\n",
    "for i in range(10):\n",
    "    preds_from_atac[i] = adata_preds_from_atac.obsm[f\"predicted_atac_{i}\"]\n",
    "    true_atac[i] = adata_target_atac.obsm[\"X_pca\"]\n",
    "    preds_from_rna[i] = adata_preds_from_rna.obsm[f\"predicted_atac_{i}\"]\n",
    "    \n"
   ]
  },
  {
   "cell_type": "code",
   "execution_count": 6,
   "id": "ade9b447-4d64-4fba-90a5-32939bb163e8",
   "metadata": {},
   "outputs": [],
   "source": [
    "preds_identity = {0: adata_preds_from_atac.obsm[\"X_pca\"]}"
   ]
  },
  {
   "cell_type": "code",
   "execution_count": null,
   "id": "153c704a-f5e5-4eb9-a8a5-ac933346ebea",
   "metadata": {},
   "outputs": [
    {
     "name": "stderr",
     "output_type": "stream",
     "text": [
      "2024-06-25 16:39:31.579989: W external/xla/xla/service/gpu/nvptx_compiler.cc:718] The NVIDIA driver's CUDA version is 12.3 which is older than the ptxas CUDA version (12.4.131). Because the driver is older than the ptxas version, XLA is disabling parallel compilation, which may slow down compilation. You should update your NVIDIA driver or use the NVIDIA-provided CUDA forward compatibility packages.\n"
     ]
    }
   ],
   "source": [
    "metrics_encoded_from_atac = jax.tree_util.tree_map(compute_metrics, preds_from_atac, true_atac)"
   ]
  },
  {
   "cell_type": "code",
   "execution_count": 60,
   "id": "dd20eac0-b333-45ac-8473-ae6e3e3b7558",
   "metadata": {},
   "outputs": [
    {
     "data": {
      "text/plain": [
       "{'r_squared': 0.10327609316637207,\n",
       " 'sinkhorn_div_1': 410.0357696533203,\n",
       " 'sinkhorn_div_10': 382.9518112182617,\n",
       " 'sinkhorn_div_100': 180.51769409179687,\n",
       " 'e_distance': 1.8509822166101657,\n",
       " 'mmd': 0.09110569102225465}"
      ]
     },
     "execution_count": 60,
     "metadata": {},
     "output_type": "execute_result"
    }
   ],
   "source": [
    "compute_mean_metrics(metrics_encoded_from_atac)"
   ]
  },
  {
   "cell_type": "code",
   "execution_count": 10,
   "id": "546d60c9-971f-41f4-b062-dab1bd3aef45",
   "metadata": {},
   "outputs": [
    {
     "data": {
      "text/plain": [
       "{'r_squared': -0.07448460389433026,\n",
       " 'sinkhorn_div_1': 23.351204109191894,\n",
       " 'sinkhorn_div_10': 7.909745597839356,\n",
       " 'sinkhorn_div_100': 1.2324970245361329,\n",
       " 'e_distance': 0.3113244712105455,\n",
       " 'mmd': 0.0187563247317036}"
      ]
     },
     "execution_count": 10,
     "metadata": {},
     "output_type": "execute_result"
    }
   ],
   "source": [
    "compute_mean_metrics(metrics_encoded_from_atac)"
   ]
  },
  {
   "cell_type": "code",
   "execution_count": 61,
   "id": "7522abbc-459a-4938-a2b2-5402a3373a6a",
   "metadata": {},
   "outputs": [
    {
     "ename": "ValueError",
     "evalue": "Found input variables with inconsistent numbers of samples: [310, 300]",
     "output_type": "error",
     "traceback": [
      "\u001b[0;31m---------------------------------------------------------------------------\u001b[0m",
      "\u001b[0;31mValueError\u001b[0m                                Traceback (most recent call last)",
      "Cell \u001b[0;32mIn[61], line 1\u001b[0m\n\u001b[0;32m----> 1\u001b[0m metrics_encoded_from_rna \u001b[38;5;241m=\u001b[39m jax\u001b[38;5;241m.\u001b[39mtree_util\u001b[38;5;241m.\u001b[39mtree_map(compute_metrics, preds_from_rna, true_atac)\n",
      "File \u001b[0;32m~/mambaforge/envs/ot_pert_genot/lib/python3.12/site-packages/jax/_src/tree_util.py:321\u001b[0m, in \u001b[0;36mtree_map\u001b[0;34m(f, tree, is_leaf, *rest)\u001b[0m\n\u001b[1;32m    319\u001b[0m leaves, treedef \u001b[38;5;241m=\u001b[39m tree_flatten(tree, is_leaf)\n\u001b[1;32m    320\u001b[0m all_leaves \u001b[38;5;241m=\u001b[39m [leaves] \u001b[38;5;241m+\u001b[39m [treedef\u001b[38;5;241m.\u001b[39mflatten_up_to(r) \u001b[38;5;28;01mfor\u001b[39;00m r \u001b[38;5;129;01min\u001b[39;00m rest]\n\u001b[0;32m--> 321\u001b[0m \u001b[38;5;28;01mreturn\u001b[39;00m treedef\u001b[38;5;241m.\u001b[39munflatten(f(\u001b[38;5;241m*\u001b[39mxs) \u001b[38;5;28;01mfor\u001b[39;00m xs \u001b[38;5;129;01min\u001b[39;00m \u001b[38;5;28mzip\u001b[39m(\u001b[38;5;241m*\u001b[39mall_leaves))\n",
      "File \u001b[0;32m~/mambaforge/envs/ot_pert_genot/lib/python3.12/site-packages/jax/_src/tree_util.py:321\u001b[0m, in \u001b[0;36m<genexpr>\u001b[0;34m(.0)\u001b[0m\n\u001b[1;32m    319\u001b[0m leaves, treedef \u001b[38;5;241m=\u001b[39m tree_flatten(tree, is_leaf)\n\u001b[1;32m    320\u001b[0m all_leaves \u001b[38;5;241m=\u001b[39m [leaves] \u001b[38;5;241m+\u001b[39m [treedef\u001b[38;5;241m.\u001b[39mflatten_up_to(r) \u001b[38;5;28;01mfor\u001b[39;00m r \u001b[38;5;129;01min\u001b[39;00m rest]\n\u001b[0;32m--> 321\u001b[0m \u001b[38;5;28;01mreturn\u001b[39;00m treedef\u001b[38;5;241m.\u001b[39munflatten(f(\u001b[38;5;241m*\u001b[39mxs) \u001b[38;5;28;01mfor\u001b[39;00m xs \u001b[38;5;129;01min\u001b[39;00m \u001b[38;5;28mzip\u001b[39m(\u001b[38;5;241m*\u001b[39mall_leaves))\n",
      "File \u001b[0;32m~/git_repos/ot_pert_new/src/ot_pert/metrics.py:36\u001b[0m, in \u001b[0;36mcompute_metrics\u001b[0;34m(x, y)\u001b[0m\n\u001b[1;32m     34\u001b[0m \u001b[38;5;28;01mdef\u001b[39;00m \u001b[38;5;21mcompute_metrics\u001b[39m(x: np\u001b[38;5;241m.\u001b[39mndarray, y: np\u001b[38;5;241m.\u001b[39mndarray) \u001b[38;5;241m-\u001b[39m\u001b[38;5;241m>\u001b[39m Dict[\u001b[38;5;28mstr\u001b[39m, \u001b[38;5;28mfloat\u001b[39m]:\n\u001b[1;32m     35\u001b[0m     metrics \u001b[38;5;241m=\u001b[39m {}\n\u001b[0;32m---> 36\u001b[0m     metrics[\u001b[38;5;124m\"\u001b[39m\u001b[38;5;124mr_squared\u001b[39m\u001b[38;5;124m\"\u001b[39m] \u001b[38;5;241m=\u001b[39m compute_r_squared(x, y)\n\u001b[1;32m     37\u001b[0m     metrics[\u001b[38;5;124m\"\u001b[39m\u001b[38;5;124msinkhorn_div_1\u001b[39m\u001b[38;5;124m\"\u001b[39m] \u001b[38;5;241m=\u001b[39m compute_sinkhorn_div(x, y, epsilon\u001b[38;5;241m=\u001b[39m\u001b[38;5;241m1.0\u001b[39m)\n\u001b[1;32m     38\u001b[0m     metrics[\u001b[38;5;124m\"\u001b[39m\u001b[38;5;124msinkhorn_div_10\u001b[39m\u001b[38;5;124m\"\u001b[39m] \u001b[38;5;241m=\u001b[39m compute_sinkhorn_div(x, y, epsilon\u001b[38;5;241m=\u001b[39m\u001b[38;5;241m10.0\u001b[39m)\n",
      "File \u001b[0;32m~/git_repos/ot_pert_new/src/ot_pert/metrics.py:11\u001b[0m, in \u001b[0;36mcompute_r_squared\u001b[0;34m(x, y)\u001b[0m\n\u001b[1;32m     10\u001b[0m \u001b[38;5;28;01mdef\u001b[39;00m \u001b[38;5;21mcompute_r_squared\u001b[39m(x: np\u001b[38;5;241m.\u001b[39mndarray, y: np\u001b[38;5;241m.\u001b[39mndarray) \u001b[38;5;241m-\u001b[39m\u001b[38;5;241m>\u001b[39m \u001b[38;5;28mfloat\u001b[39m:\n\u001b[0;32m---> 11\u001b[0m     \u001b[38;5;28;01mreturn\u001b[39;00m r2_score(np\u001b[38;5;241m.\u001b[39mmean(x, axis\u001b[38;5;241m=\u001b[39m\u001b[38;5;241m0\u001b[39m), np\u001b[38;5;241m.\u001b[39mmean(y, axis\u001b[38;5;241m=\u001b[39m\u001b[38;5;241m0\u001b[39m))\n",
      "File \u001b[0;32m~/mambaforge/envs/ot_pert_genot/lib/python3.12/site-packages/sklearn/utils/_param_validation.py:213\u001b[0m, in \u001b[0;36mvalidate_params.<locals>.decorator.<locals>.wrapper\u001b[0;34m(*args, **kwargs)\u001b[0m\n\u001b[1;32m    207\u001b[0m \u001b[38;5;28;01mtry\u001b[39;00m:\n\u001b[1;32m    208\u001b[0m     \u001b[38;5;28;01mwith\u001b[39;00m config_context(\n\u001b[1;32m    209\u001b[0m         skip_parameter_validation\u001b[38;5;241m=\u001b[39m(\n\u001b[1;32m    210\u001b[0m             prefer_skip_nested_validation \u001b[38;5;129;01mor\u001b[39;00m global_skip_validation\n\u001b[1;32m    211\u001b[0m         )\n\u001b[1;32m    212\u001b[0m     ):\n\u001b[0;32m--> 213\u001b[0m         \u001b[38;5;28;01mreturn\u001b[39;00m func(\u001b[38;5;241m*\u001b[39margs, \u001b[38;5;241m*\u001b[39m\u001b[38;5;241m*\u001b[39mkwargs)\n\u001b[1;32m    214\u001b[0m \u001b[38;5;28;01mexcept\u001b[39;00m InvalidParameterError \u001b[38;5;28;01mas\u001b[39;00m e:\n\u001b[1;32m    215\u001b[0m     \u001b[38;5;66;03m# When the function is just a wrapper around an estimator, we allow\u001b[39;00m\n\u001b[1;32m    216\u001b[0m     \u001b[38;5;66;03m# the function to delegate validation to the estimator, but we replace\u001b[39;00m\n\u001b[1;32m    217\u001b[0m     \u001b[38;5;66;03m# the name of the estimator by the name of the function in the error\u001b[39;00m\n\u001b[1;32m    218\u001b[0m     \u001b[38;5;66;03m# message to avoid confusion.\u001b[39;00m\n\u001b[1;32m    219\u001b[0m     msg \u001b[38;5;241m=\u001b[39m re\u001b[38;5;241m.\u001b[39msub(\n\u001b[1;32m    220\u001b[0m         \u001b[38;5;124mr\u001b[39m\u001b[38;5;124m\"\u001b[39m\u001b[38;5;124mparameter of \u001b[39m\u001b[38;5;124m\\\u001b[39m\u001b[38;5;124mw+ must be\u001b[39m\u001b[38;5;124m\"\u001b[39m,\n\u001b[1;32m    221\u001b[0m         \u001b[38;5;124mf\u001b[39m\u001b[38;5;124m\"\u001b[39m\u001b[38;5;124mparameter of \u001b[39m\u001b[38;5;132;01m{\u001b[39;00mfunc\u001b[38;5;241m.\u001b[39m\u001b[38;5;18m__qualname__\u001b[39m\u001b[38;5;132;01m}\u001b[39;00m\u001b[38;5;124m must be\u001b[39m\u001b[38;5;124m\"\u001b[39m,\n\u001b[1;32m    222\u001b[0m         \u001b[38;5;28mstr\u001b[39m(e),\n\u001b[1;32m    223\u001b[0m     )\n",
      "File \u001b[0;32m~/mambaforge/envs/ot_pert_genot/lib/python3.12/site-packages/sklearn/metrics/_regression.py:1180\u001b[0m, in \u001b[0;36mr2_score\u001b[0;34m(y_true, y_pred, sample_weight, multioutput, force_finite)\u001b[0m\n\u001b[1;32m   1039\u001b[0m \u001b[38;5;129m@validate_params\u001b[39m(\n\u001b[1;32m   1040\u001b[0m     {\n\u001b[1;32m   1041\u001b[0m         \u001b[38;5;124m\"\u001b[39m\u001b[38;5;124my_true\u001b[39m\u001b[38;5;124m\"\u001b[39m: [\u001b[38;5;124m\"\u001b[39m\u001b[38;5;124marray-like\u001b[39m\u001b[38;5;124m\"\u001b[39m],\n\u001b[0;32m   (...)\u001b[0m\n\u001b[1;32m   1059\u001b[0m     force_finite\u001b[38;5;241m=\u001b[39m\u001b[38;5;28;01mTrue\u001b[39;00m,\n\u001b[1;32m   1060\u001b[0m ):\n\u001b[1;32m   1061\u001b[0m \u001b[38;5;250m    \u001b[39m\u001b[38;5;124;03m\"\"\":math:`R^2` (coefficient of determination) regression score function.\u001b[39;00m\n\u001b[1;32m   1062\u001b[0m \n\u001b[1;32m   1063\u001b[0m \u001b[38;5;124;03m    Best possible score is 1.0 and it can be negative (because the\u001b[39;00m\n\u001b[0;32m   (...)\u001b[0m\n\u001b[1;32m   1178\u001b[0m \u001b[38;5;124;03m    -inf\u001b[39;00m\n\u001b[1;32m   1179\u001b[0m \u001b[38;5;124;03m    \"\"\"\u001b[39;00m\n\u001b[0;32m-> 1180\u001b[0m     y_type, y_true, y_pred, multioutput \u001b[38;5;241m=\u001b[39m _check_reg_targets(\n\u001b[1;32m   1181\u001b[0m         y_true, y_pred, multioutput\n\u001b[1;32m   1182\u001b[0m     )\n\u001b[1;32m   1183\u001b[0m     check_consistent_length(y_true, y_pred, sample_weight)\n\u001b[1;32m   1185\u001b[0m     \u001b[38;5;28;01mif\u001b[39;00m _num_samples(y_pred) \u001b[38;5;241m<\u001b[39m \u001b[38;5;241m2\u001b[39m:\n",
      "File \u001b[0;32m~/mambaforge/envs/ot_pert_genot/lib/python3.12/site-packages/sklearn/metrics/_regression.py:102\u001b[0m, in \u001b[0;36m_check_reg_targets\u001b[0;34m(y_true, y_pred, multioutput, dtype)\u001b[0m\n\u001b[1;32m     68\u001b[0m \u001b[38;5;28;01mdef\u001b[39;00m \u001b[38;5;21m_check_reg_targets\u001b[39m(y_true, y_pred, multioutput, dtype\u001b[38;5;241m=\u001b[39m\u001b[38;5;124m\"\u001b[39m\u001b[38;5;124mnumeric\u001b[39m\u001b[38;5;124m\"\u001b[39m):\n\u001b[1;32m     69\u001b[0m \u001b[38;5;250m    \u001b[39m\u001b[38;5;124;03m\"\"\"Check that y_true and y_pred belong to the same regression task.\u001b[39;00m\n\u001b[1;32m     70\u001b[0m \n\u001b[1;32m     71\u001b[0m \u001b[38;5;124;03m    Parameters\u001b[39;00m\n\u001b[0;32m   (...)\u001b[0m\n\u001b[1;32m    100\u001b[0m \u001b[38;5;124;03m        correct keyword.\u001b[39;00m\n\u001b[1;32m    101\u001b[0m \u001b[38;5;124;03m    \"\"\"\u001b[39;00m\n\u001b[0;32m--> 102\u001b[0m     check_consistent_length(y_true, y_pred)\n\u001b[1;32m    103\u001b[0m     y_true \u001b[38;5;241m=\u001b[39m check_array(y_true, ensure_2d\u001b[38;5;241m=\u001b[39m\u001b[38;5;28;01mFalse\u001b[39;00m, dtype\u001b[38;5;241m=\u001b[39mdtype)\n\u001b[1;32m    104\u001b[0m     y_pred \u001b[38;5;241m=\u001b[39m check_array(y_pred, ensure_2d\u001b[38;5;241m=\u001b[39m\u001b[38;5;28;01mFalse\u001b[39;00m, dtype\u001b[38;5;241m=\u001b[39mdtype)\n",
      "File \u001b[0;32m~/mambaforge/envs/ot_pert_genot/lib/python3.12/site-packages/sklearn/utils/validation.py:457\u001b[0m, in \u001b[0;36mcheck_consistent_length\u001b[0;34m(*arrays)\u001b[0m\n\u001b[1;32m    455\u001b[0m uniques \u001b[38;5;241m=\u001b[39m np\u001b[38;5;241m.\u001b[39munique(lengths)\n\u001b[1;32m    456\u001b[0m \u001b[38;5;28;01mif\u001b[39;00m \u001b[38;5;28mlen\u001b[39m(uniques) \u001b[38;5;241m>\u001b[39m \u001b[38;5;241m1\u001b[39m:\n\u001b[0;32m--> 457\u001b[0m     \u001b[38;5;28;01mraise\u001b[39;00m \u001b[38;5;167;01mValueError\u001b[39;00m(\n\u001b[1;32m    458\u001b[0m         \u001b[38;5;124m\"\u001b[39m\u001b[38;5;124mFound input variables with inconsistent numbers of samples: \u001b[39m\u001b[38;5;132;01m%r\u001b[39;00m\u001b[38;5;124m\"\u001b[39m\n\u001b[1;32m    459\u001b[0m         \u001b[38;5;241m%\u001b[39m [\u001b[38;5;28mint\u001b[39m(l) \u001b[38;5;28;01mfor\u001b[39;00m l \u001b[38;5;129;01min\u001b[39;00m lengths]\n\u001b[1;32m    460\u001b[0m     )\n",
      "\u001b[0;31mValueError\u001b[0m: Found input variables with inconsistent numbers of samples: [310, 300]"
     ]
    }
   ],
   "source": [
    "metrics_encoded_from_rna = jax.tree_util.tree_map(compute_metrics, preds_from_rna, true_atac)"
   ]
  },
  {
   "cell_type": "code",
   "execution_count": null,
   "id": "051603bf-5c57-4621-9cf9-21a1c2f3b7e0",
   "metadata": {},
   "outputs": [],
   "source": [
    "metrics_identity = jax.tree_util.tree_map(compute_metrics, preds_identity, {0: true_atac[0]})"
   ]
  },
  {
   "cell_type": "code",
   "execution_count": null,
   "id": "807d6532-d757-41df-83f6-6d398ca6778b",
   "metadata": {},
   "outputs": [],
   "source": []
  },
  {
   "cell_type": "code",
   "execution_count": null,
   "id": "287f09d2-9be7-41c1-a32a-2aab0e3052e8",
   "metadata": {},
   "outputs": [],
   "source": []
  },
  {
   "cell_type": "code",
   "execution_count": null,
   "id": "697182a5-abe4-4d12-9aa3-8836bb1f75e8",
   "metadata": {},
   "outputs": [],
   "source": []
  },
  {
   "cell_type": "code",
   "execution_count": null,
   "id": "a9f4a0f8-35c8-4186-96e8-7dd8f0fd5a49",
   "metadata": {},
   "outputs": [],
   "source": []
  },
  {
   "cell_type": "code",
   "execution_count": 46,
   "id": "ce4d68ac-4eef-4651-b328-937558c1d025",
   "metadata": {},
   "outputs": [],
   "source": [
    "from ott.tools.sinkhorn_divergence import sinkhorn_divergence\n",
    "from ott.geometry import costs, pointcloud\n",
    "\n",
    "def compute_sinkhorn_div(x: np.ndarray, y: np.ndarray, epsilon: float) -> float:\n",
    "    return float(\n",
    "        sinkhorn_divergence(\n",
    "            pointcloud.PointCloud,\n",
    "            x=x,\n",
    "            y=y,\n",
    "            cost_fn=costs.SqEuclidean(),\n",
    "            epsilon=epsilon,\n",
    "            scale_cost=1.0,\n",
    "        ).divergence\n",
    "    )"
   ]
  },
  {
   "cell_type": "code",
   "execution_count": 50,
   "id": "9bc1fd70-9522-4a6a-bf96-663f3333c058",
   "metadata": {},
   "outputs": [
    {
     "data": {
      "text/plain": [
       "(2256, 30)"
      ]
     },
     "execution_count": 50,
     "metadata": {},
     "output_type": "execute_result"
    }
   ],
   "source": [
    "preds_identity[0].shape"
   ]
  },
  {
   "cell_type": "code",
   "execution_count": 52,
   "id": "749c2ca0-336a-43c5-b510-8ae3c702ce22",
   "metadata": {},
   "outputs": [
    {
     "name": "stdout",
     "output_type": "stream",
     "text": [
      "2.8055381774902344\n",
      "5.285221099853516\n",
      "7.772226333618164\n",
      "9.46060562133789\n",
      "9.073535919189453\n"
     ]
    }
   ],
   "source": [
    "epsilons=[100, 10, 1, 0.1, 0.01]\n",
    "for eps in epsilons:\n",
    "    print(compute_sinkhorn_div(preds_identity[0], true_atac[0], eps))"
   ]
  },
  {
   "cell_type": "code",
   "execution_count": 53,
   "id": "6375b461-a9f6-4e0d-bdf1-356a8b987650",
   "metadata": {},
   "outputs": [
    {
     "name": "stdout",
     "output_type": "stream",
     "text": [
      "73.7833251953125\n",
      "82.466064453125\n",
      "97.15760803222656\n",
      "98.32093048095703\n",
      "97.88299560546875\n"
     ]
    }
   ],
   "source": [
    "epsilons=[100, 10, 1, 0.1, 0.01]\n",
    "for eps in epsilons:\n",
    "    print(compute_sinkhorn_div(adata_preds_from_rna.obsm[f\"predicted_atac_{i}\"][:,10:40], true_atac[0], eps))"
   ]
  },
  {
   "cell_type": "code",
   "execution_count": 54,
   "id": "92ef1cdc-6728-479c-bafd-bdafdad9fe34",
   "metadata": {},
   "outputs": [
    {
     "name": "stdout",
     "output_type": "stream",
     "text": [
      "4.763275146484375\n",
      "19.935626983642578\n",
      "38.114891052246094\n",
      "39.59211349487305\n",
      "39.63445281982422\n"
     ]
    }
   ],
   "source": [
    "epsilons=[100, 10, 1, 0.1, 0.01]\n",
    "for eps in epsilons:\n",
    "    print(compute_sinkhorn_div(adata_preds_from_atac.obsm[f\"predicted_atac_{i}\"][:,10:40], true_atac[0], eps))"
   ]
  },
  {
   "cell_type": "code",
   "execution_count": 55,
   "id": "4f8d7457-be62-4beb-9dd3-26aa69538c44",
   "metadata": {},
   "outputs": [
    {
     "data": {
      "text/plain": [
       "(2256, 300)"
      ]
     },
     "execution_count": 55,
     "metadata": {},
     "output_type": "execute_result"
    }
   ],
   "source": [
    "adata_preds_from_atac.obsm[f\"predicted_atac_{i}\"].shape"
   ]
  },
  {
   "cell_type": "code",
   "execution_count": null,
   "id": "25fc3ab5-df45-4c41-a11f-b134e33b1a9a",
   "metadata": {},
   "outputs": [],
   "source": [
    "compute_metrics(preds_identity, )"
   ]
  },
  {
   "cell_type": "code",
   "execution_count": 13,
   "id": "aa4b5ed1-7276-4e47-9816-6328e3dd2972",
   "metadata": {},
   "outputs": [],
   "source": [
    "#metrics_encoded_from_rna"
   ]
  },
  {
   "cell_type": "code",
   "execution_count": 14,
   "id": "ac1757b2-395b-46fb-a4f3-515a35f14ee8",
   "metadata": {},
   "outputs": [
    {
     "data": {
      "text/plain": [
       "{'r_squared': -0.09274222490294173,\n",
       " 'sinkhorn_div_1': 90.12466545104981,\n",
       " 'sinkhorn_div_10': 75.44568176269532,\n",
       " 'sinkhorn_div_100': 67.00428009033203,\n",
       " 'e_distance': 0.511375552743371,\n",
       " 'mmd': 0.017853959425094542}"
      ]
     },
     "execution_count": 14,
     "metadata": {},
     "output_type": "execute_result"
    }
   ],
   "source": [
    "compute_mean_metrics(metrics_encoded_from_rna)"
   ]
  },
  {
   "cell_type": "code",
   "execution_count": 15,
   "id": "34010db9-16e5-4d53-b7bb-10b3e380d51b",
   "metadata": {},
   "outputs": [
    {
     "data": {
      "text/plain": [
       "{'r_squared': -0.06430970850429762,\n",
       " 'sinkhorn_div_1': 7.772226333618164,\n",
       " 'sinkhorn_div_10': 5.285221099853516,\n",
       " 'sinkhorn_div_100': 2.8055381774902344,\n",
       " 'e_distance': 3.098105384156412,\n",
       " 'mmd': 0.012945614852765797}"
      ]
     },
     "execution_count": 15,
     "metadata": {},
     "output_type": "execute_result"
    }
   ],
   "source": [
    "compute_mean_metrics(metrics_identity)"
   ]
  },
  {
   "cell_type": "code",
   "execution_count": 19,
   "id": "72104297-c1ff-4056-aa8b-48f8ce6af38b",
   "metadata": {},
   "outputs": [],
   "source": [
    "\n",
    "def reconstruct_data(embedding, projection_matrix, mean_to_add):\n",
    "    \"\"\"Reconstructs data from projections.\"\"\"\n",
    "    return np.matmul(embedding, projection_matrix.T) + mean_to_add\n",
    "\n",
    "reconstruct_data_fn = functools.partial(\n",
    "        reconstruct_data, projection_matrix=adata_atac_train.varm[\"PCs\"][:, :30], mean_to_add=adata_atac_train.varm[\"X_train_mean\"].T\n",
    "    )\n",
    "\n"
   ]
  },
  {
   "cell_type": "code",
   "execution_count": 18,
   "id": "2f017e5d-7348-40b2-b16e-de3d8369f09c",
   "metadata": {},
   "outputs": [
    {
     "data": {
      "text/plain": [
       "(100000, 300)"
      ]
     },
     "execution_count": 18,
     "metadata": {},
     "output_type": "execute_result"
    }
   ],
   "source": [
    "adata_atac_train.varm[\"PCs\"].shape"
   ]
  },
  {
   "cell_type": "code",
   "execution_count": 20,
   "id": "fa2d2872-2ff1-468a-af73-92da86c8ce50",
   "metadata": {},
   "outputs": [],
   "source": [
    "preds_from_atac_reconstructed = jax.tree_util.tree_map(reconstruct_data_fn, preds_from_atac)\n",
    "preds_from_rna_reconstructed = jax.tree_util.tree_map(reconstruct_data_fn, preds_from_rna)"
   ]
  },
  {
   "cell_type": "code",
   "execution_count": 22,
   "id": "9d28d67d-4364-43d0-a7c9-7d349b6194cf",
   "metadata": {},
   "outputs": [],
   "source": [
    "\n",
    "identity = {i: adata_target_atac.X.A for i in range(20)}"
   ]
  },
  {
   "cell_type": "code",
   "execution_count": 31,
   "id": "8662ae13-e6ab-4acf-b94e-f379e0e3a057",
   "metadata": {},
   "outputs": [],
   "source": [
    "\n",
    "true_atac_full = {}\n",
    "true_atac_reconstructed_full = {}\n",
    "preds_identity = {}\n",
    "\n",
    "for i in range(20):\n",
    "    preds_identity[i] = adata_preds_from_atac.X.A\n",
    "    true_atac_reconstructed_full[i] =adata_target_atac.layers[\"reconstruction\"]\n",
    "    true_atac_full[i] = adata_target_atac.X.A\n"
   ]
  },
  {
   "cell_type": "code",
   "execution_count": 33,
   "id": "bdbeea08-2060-47c0-a31d-9c5d3f3fb4ea",
   "metadata": {},
   "outputs": [
    {
     "data": {
      "text/plain": [
       "(3383, 30)"
      ]
     },
     "execution_count": 33,
     "metadata": {},
     "output_type": "execute_result"
    }
   ],
   "source": [
    "preds_from_rna[0].shape"
   ]
  },
  {
   "cell_type": "code",
   "execution_count": null,
   "id": "98b870b9-babc-4abf-9eea-654f4b288668",
   "metadata": {},
   "outputs": [],
   "source": []
  },
  {
   "cell_type": "code",
   "execution_count": null,
   "id": "bcc06859-d279-4e7e-90ef-bca5dacdc18c",
   "metadata": {},
   "outputs": [],
   "source": []
  },
  {
   "cell_type": "code",
   "execution_count": null,
   "id": "d74de094-aced-45ba-9198-9c2548fc041c",
   "metadata": {},
   "outputs": [],
   "source": []
  },
  {
   "cell_type": "code",
   "execution_count": null,
   "id": "90286d37-dbbc-418f-a167-d86aeb597816",
   "metadata": {},
   "outputs": [],
   "source": []
  },
  {
   "cell_type": "code",
   "execution_count": 34,
   "id": "66588234-c6bb-4fef-a7c5-40e214cef5ca",
   "metadata": {},
   "outputs": [
    {
     "ename": "KeyboardInterrupt",
     "evalue": "",
     "output_type": "error",
     "traceback": [
      "\u001b[0;31m---------------------------------------------------------------------------\u001b[0m",
      "\u001b[0;31mKeyboardInterrupt\u001b[0m                         Traceback (most recent call last)",
      "Cell \u001b[0;32mIn[34], line 1\u001b[0m\n\u001b[0;32m----> 1\u001b[0m metrics_decoded_from_rna \u001b[38;5;241m=\u001b[39m jax\u001b[38;5;241m.\u001b[39mtree_util\u001b[38;5;241m.\u001b[39mtree_map(compute_metrics_fast, preds_from_rna_reconstructed, true_atac_full)\n",
      "File \u001b[0;32m~/mambaforge/envs/ot_pert_genot/lib/python3.12/site-packages/jax/_src/tree_util.py:321\u001b[0m, in \u001b[0;36mtree_map\u001b[0;34m(f, tree, is_leaf, *rest)\u001b[0m\n\u001b[1;32m    319\u001b[0m leaves, treedef \u001b[38;5;241m=\u001b[39m tree_flatten(tree, is_leaf)\n\u001b[1;32m    320\u001b[0m all_leaves \u001b[38;5;241m=\u001b[39m [leaves] \u001b[38;5;241m+\u001b[39m [treedef\u001b[38;5;241m.\u001b[39mflatten_up_to(r) \u001b[38;5;28;01mfor\u001b[39;00m r \u001b[38;5;129;01min\u001b[39;00m rest]\n\u001b[0;32m--> 321\u001b[0m \u001b[38;5;28;01mreturn\u001b[39;00m treedef\u001b[38;5;241m.\u001b[39munflatten(f(\u001b[38;5;241m*\u001b[39mxs) \u001b[38;5;28;01mfor\u001b[39;00m xs \u001b[38;5;129;01min\u001b[39;00m \u001b[38;5;28mzip\u001b[39m(\u001b[38;5;241m*\u001b[39mall_leaves))\n",
      "File \u001b[0;32m~/mambaforge/envs/ot_pert_genot/lib/python3.12/site-packages/jax/_src/tree_util.py:321\u001b[0m, in \u001b[0;36m<genexpr>\u001b[0;34m(.0)\u001b[0m\n\u001b[1;32m    319\u001b[0m leaves, treedef \u001b[38;5;241m=\u001b[39m tree_flatten(tree, is_leaf)\n\u001b[1;32m    320\u001b[0m all_leaves \u001b[38;5;241m=\u001b[39m [leaves] \u001b[38;5;241m+\u001b[39m [treedef\u001b[38;5;241m.\u001b[39mflatten_up_to(r) \u001b[38;5;28;01mfor\u001b[39;00m r \u001b[38;5;129;01min\u001b[39;00m rest]\n\u001b[0;32m--> 321\u001b[0m \u001b[38;5;28;01mreturn\u001b[39;00m treedef\u001b[38;5;241m.\u001b[39munflatten(f(\u001b[38;5;241m*\u001b[39mxs) \u001b[38;5;28;01mfor\u001b[39;00m xs \u001b[38;5;129;01min\u001b[39;00m \u001b[38;5;28mzip\u001b[39m(\u001b[38;5;241m*\u001b[39mall_leaves))\n",
      "File \u001b[0;32m~/git_repos/ot_pert_new/src/ot_pert/metrics.py:82\u001b[0m, in \u001b[0;36mcompute_metrics_fast\u001b[0;34m(x, y)\u001b[0m\n\u001b[1;32m     80\u001b[0m metrics[\u001b[38;5;124m\"\u001b[39m\u001b[38;5;124mr_squared\u001b[39m\u001b[38;5;124m\"\u001b[39m] \u001b[38;5;241m=\u001b[39m compute_r_squared(x, y)\n\u001b[1;32m     81\u001b[0m metrics[\u001b[38;5;124m\"\u001b[39m\u001b[38;5;124me_distance\u001b[39m\u001b[38;5;124m\"\u001b[39m] \u001b[38;5;241m=\u001b[39m compute_e_distance(x, y)\n\u001b[0;32m---> 82\u001b[0m metrics[\u001b[38;5;124m\"\u001b[39m\u001b[38;5;124mmmd_distance\u001b[39m\u001b[38;5;124m\"\u001b[39m] \u001b[38;5;241m=\u001b[39m compute_scalar_mmd(x, y)\n\u001b[1;32m     83\u001b[0m \u001b[38;5;28;01mreturn\u001b[39;00m metrics\n",
      "File \u001b[0;32m~/git_repos/ot_pert_new/src/ot_pert/metrics.py:75\u001b[0m, in \u001b[0;36mcompute_scalar_mmd\u001b[0;34m(target, transport, gammas)\u001b[0m\n\u001b[1;32m     72\u001b[0m         mmd \u001b[38;5;241m=\u001b[39m np\u001b[38;5;241m.\u001b[39mnan\n\u001b[1;32m     73\u001b[0m     \u001b[38;5;28;01mreturn\u001b[39;00m mmd\n\u001b[0;32m---> 75\u001b[0m \u001b[38;5;28;01mreturn\u001b[39;00m np\u001b[38;5;241m.\u001b[39mmean(\u001b[38;5;28mlist\u001b[39m(\u001b[38;5;28mmap\u001b[39m(\u001b[38;5;28;01mlambda\u001b[39;00m x: safe_mmd(target, transport, x), gammas)))\n",
      "File \u001b[0;32m~/git_repos/ot_pert_new/src/ot_pert/metrics.py:75\u001b[0m, in \u001b[0;36mcompute_scalar_mmd.<locals>.<lambda>\u001b[0;34m(x)\u001b[0m\n\u001b[1;32m     72\u001b[0m         mmd \u001b[38;5;241m=\u001b[39m np\u001b[38;5;241m.\u001b[39mnan\n\u001b[1;32m     73\u001b[0m     \u001b[38;5;28;01mreturn\u001b[39;00m mmd\n\u001b[0;32m---> 75\u001b[0m \u001b[38;5;28;01mreturn\u001b[39;00m np\u001b[38;5;241m.\u001b[39mmean(\u001b[38;5;28mlist\u001b[39m(\u001b[38;5;28mmap\u001b[39m(\u001b[38;5;28;01mlambda\u001b[39;00m x: safe_mmd(target, transport, x), gammas)))\n",
      "File \u001b[0;32m~/git_repos/ot_pert_new/src/ot_pert/metrics.py:70\u001b[0m, in \u001b[0;36mcompute_scalar_mmd.<locals>.safe_mmd\u001b[0;34m(*args)\u001b[0m\n\u001b[1;32m     68\u001b[0m \u001b[38;5;28;01mdef\u001b[39;00m \u001b[38;5;21msafe_mmd\u001b[39m(\u001b[38;5;241m*\u001b[39margs):\n\u001b[1;32m     69\u001b[0m     \u001b[38;5;28;01mtry\u001b[39;00m:\n\u001b[0;32m---> 70\u001b[0m         mmd \u001b[38;5;241m=\u001b[39m mmd_distance(\u001b[38;5;241m*\u001b[39margs)\n\u001b[1;32m     71\u001b[0m     \u001b[38;5;28;01mexcept\u001b[39;00m \u001b[38;5;167;01mValueError\u001b[39;00m:\n\u001b[1;32m     72\u001b[0m         mmd \u001b[38;5;241m=\u001b[39m np\u001b[38;5;241m.\u001b[39mnan\n",
      "File \u001b[0;32m~/git_repos/ot_pert_new/src/ot_pert/metrics.py:58\u001b[0m, in \u001b[0;36mmmd_distance\u001b[0;34m(x, y, gamma)\u001b[0m\n\u001b[1;32m     56\u001b[0m \u001b[38;5;28;01mdef\u001b[39;00m \u001b[38;5;21mmmd_distance\u001b[39m(x, y, gamma):\n\u001b[1;32m     57\u001b[0m     xx \u001b[38;5;241m=\u001b[39m rbf_kernel(x, x, gamma)\n\u001b[0;32m---> 58\u001b[0m     xy \u001b[38;5;241m=\u001b[39m rbf_kernel(x, y, gamma)\n\u001b[1;32m     59\u001b[0m     yy \u001b[38;5;241m=\u001b[39m rbf_kernel(y, y, gamma)\n\u001b[1;32m     61\u001b[0m     \u001b[38;5;28;01mreturn\u001b[39;00m xx\u001b[38;5;241m.\u001b[39mmean() \u001b[38;5;241m+\u001b[39m yy\u001b[38;5;241m.\u001b[39mmean() \u001b[38;5;241m-\u001b[39m \u001b[38;5;241m2\u001b[39m \u001b[38;5;241m*\u001b[39m xy\u001b[38;5;241m.\u001b[39mmean()\n",
      "File \u001b[0;32m~/mambaforge/envs/ot_pert_genot/lib/python3.12/site-packages/sklearn/utils/_param_validation.py:213\u001b[0m, in \u001b[0;36mvalidate_params.<locals>.decorator.<locals>.wrapper\u001b[0;34m(*args, **kwargs)\u001b[0m\n\u001b[1;32m    207\u001b[0m \u001b[38;5;28;01mtry\u001b[39;00m:\n\u001b[1;32m    208\u001b[0m     \u001b[38;5;28;01mwith\u001b[39;00m config_context(\n\u001b[1;32m    209\u001b[0m         skip_parameter_validation\u001b[38;5;241m=\u001b[39m(\n\u001b[1;32m    210\u001b[0m             prefer_skip_nested_validation \u001b[38;5;129;01mor\u001b[39;00m global_skip_validation\n\u001b[1;32m    211\u001b[0m         )\n\u001b[1;32m    212\u001b[0m     ):\n\u001b[0;32m--> 213\u001b[0m         \u001b[38;5;28;01mreturn\u001b[39;00m func(\u001b[38;5;241m*\u001b[39margs, \u001b[38;5;241m*\u001b[39m\u001b[38;5;241m*\u001b[39mkwargs)\n\u001b[1;32m    214\u001b[0m \u001b[38;5;28;01mexcept\u001b[39;00m InvalidParameterError \u001b[38;5;28;01mas\u001b[39;00m e:\n\u001b[1;32m    215\u001b[0m     \u001b[38;5;66;03m# When the function is just a wrapper around an estimator, we allow\u001b[39;00m\n\u001b[1;32m    216\u001b[0m     \u001b[38;5;66;03m# the function to delegate validation to the estimator, but we replace\u001b[39;00m\n\u001b[1;32m    217\u001b[0m     \u001b[38;5;66;03m# the name of the estimator by the name of the function in the error\u001b[39;00m\n\u001b[1;32m    218\u001b[0m     \u001b[38;5;66;03m# message to avoid confusion.\u001b[39;00m\n\u001b[1;32m    219\u001b[0m     msg \u001b[38;5;241m=\u001b[39m re\u001b[38;5;241m.\u001b[39msub(\n\u001b[1;32m    220\u001b[0m         \u001b[38;5;124mr\u001b[39m\u001b[38;5;124m\"\u001b[39m\u001b[38;5;124mparameter of \u001b[39m\u001b[38;5;124m\\\u001b[39m\u001b[38;5;124mw+ must be\u001b[39m\u001b[38;5;124m\"\u001b[39m,\n\u001b[1;32m    221\u001b[0m         \u001b[38;5;124mf\u001b[39m\u001b[38;5;124m\"\u001b[39m\u001b[38;5;124mparameter of \u001b[39m\u001b[38;5;132;01m{\u001b[39;00mfunc\u001b[38;5;241m.\u001b[39m\u001b[38;5;18m__qualname__\u001b[39m\u001b[38;5;132;01m}\u001b[39;00m\u001b[38;5;124m must be\u001b[39m\u001b[38;5;124m\"\u001b[39m,\n\u001b[1;32m    222\u001b[0m         \u001b[38;5;28mstr\u001b[39m(e),\n\u001b[1;32m    223\u001b[0m     )\n",
      "File \u001b[0;32m~/mambaforge/envs/ot_pert_genot/lib/python3.12/site-packages/sklearn/metrics/pairwise.py:1540\u001b[0m, in \u001b[0;36mrbf_kernel\u001b[0;34m(X, Y, gamma)\u001b[0m\n\u001b[1;32m   1537\u001b[0m \u001b[38;5;28;01mif\u001b[39;00m gamma \u001b[38;5;129;01mis\u001b[39;00m \u001b[38;5;28;01mNone\u001b[39;00m:\n\u001b[1;32m   1538\u001b[0m     gamma \u001b[38;5;241m=\u001b[39m \u001b[38;5;241m1.0\u001b[39m \u001b[38;5;241m/\u001b[39m X\u001b[38;5;241m.\u001b[39mshape[\u001b[38;5;241m1\u001b[39m]\n\u001b[0;32m-> 1540\u001b[0m K \u001b[38;5;241m=\u001b[39m euclidean_distances(X, Y, squared\u001b[38;5;241m=\u001b[39m\u001b[38;5;28;01mTrue\u001b[39;00m)\n\u001b[1;32m   1541\u001b[0m K \u001b[38;5;241m*\u001b[39m\u001b[38;5;241m=\u001b[39m \u001b[38;5;241m-\u001b[39mgamma\n\u001b[1;32m   1542\u001b[0m np\u001b[38;5;241m.\u001b[39mexp(K, K)  \u001b[38;5;66;03m# exponentiate K in-place\u001b[39;00m\n",
      "File \u001b[0;32m~/mambaforge/envs/ot_pert_genot/lib/python3.12/site-packages/sklearn/utils/_param_validation.py:186\u001b[0m, in \u001b[0;36mvalidate_params.<locals>.decorator.<locals>.wrapper\u001b[0;34m(*args, **kwargs)\u001b[0m\n\u001b[1;32m    184\u001b[0m global_skip_validation \u001b[38;5;241m=\u001b[39m get_config()[\u001b[38;5;124m\"\u001b[39m\u001b[38;5;124mskip_parameter_validation\u001b[39m\u001b[38;5;124m\"\u001b[39m]\n\u001b[1;32m    185\u001b[0m \u001b[38;5;28;01mif\u001b[39;00m global_skip_validation:\n\u001b[0;32m--> 186\u001b[0m     \u001b[38;5;28;01mreturn\u001b[39;00m func(\u001b[38;5;241m*\u001b[39margs, \u001b[38;5;241m*\u001b[39m\u001b[38;5;241m*\u001b[39mkwargs)\n\u001b[1;32m    188\u001b[0m func_sig \u001b[38;5;241m=\u001b[39m signature(func)\n\u001b[1;32m    190\u001b[0m \u001b[38;5;66;03m# Map *args/**kwargs to the function signature\u001b[39;00m\n",
      "File \u001b[0;32m~/mambaforge/envs/ot_pert_genot/lib/python3.12/site-packages/sklearn/metrics/pairwise.py:347\u001b[0m, in \u001b[0;36meuclidean_distances\u001b[0;34m(X, Y, Y_norm_squared, squared, X_norm_squared)\u001b[0m\n\u001b[1;32m    341\u001b[0m     \u001b[38;5;28;01mif\u001b[39;00m Y_norm_squared\u001b[38;5;241m.\u001b[39mshape \u001b[38;5;241m!=\u001b[39m (\u001b[38;5;241m1\u001b[39m, Y\u001b[38;5;241m.\u001b[39mshape[\u001b[38;5;241m0\u001b[39m]):\n\u001b[1;32m    342\u001b[0m         \u001b[38;5;28;01mraise\u001b[39;00m \u001b[38;5;167;01mValueError\u001b[39;00m(\n\u001b[1;32m    343\u001b[0m             \u001b[38;5;124mf\u001b[39m\u001b[38;5;124m\"\u001b[39m\u001b[38;5;124mIncompatible dimensions for Y of shape \u001b[39m\u001b[38;5;132;01m{\u001b[39;00mY\u001b[38;5;241m.\u001b[39mshape\u001b[38;5;132;01m}\u001b[39;00m\u001b[38;5;124m and \u001b[39m\u001b[38;5;124m\"\u001b[39m\n\u001b[1;32m    344\u001b[0m             \u001b[38;5;124mf\u001b[39m\u001b[38;5;124m\"\u001b[39m\u001b[38;5;124mY_norm_squared of shape \u001b[39m\u001b[38;5;132;01m{\u001b[39;00moriginal_shape\u001b[38;5;132;01m}\u001b[39;00m\u001b[38;5;124m.\u001b[39m\u001b[38;5;124m\"\u001b[39m\n\u001b[1;32m    345\u001b[0m         )\n\u001b[0;32m--> 347\u001b[0m \u001b[38;5;28;01mreturn\u001b[39;00m _euclidean_distances(X, Y, X_norm_squared, Y_norm_squared, squared)\n",
      "File \u001b[0;32m~/mambaforge/envs/ot_pert_genot/lib/python3.12/site-packages/sklearn/metrics/pairwise.py:382\u001b[0m, in \u001b[0;36m_euclidean_distances\u001b[0;34m(X, Y, X_norm_squared, Y_norm_squared, squared)\u001b[0m\n\u001b[1;32m    379\u001b[0m     distances \u001b[38;5;241m=\u001b[39m _euclidean_distances_upcast(X, XX, Y, YY)\n\u001b[1;32m    380\u001b[0m \u001b[38;5;28;01melse\u001b[39;00m:\n\u001b[1;32m    381\u001b[0m     \u001b[38;5;66;03m# if dtype is already float64, no need to chunk and upcast\u001b[39;00m\n\u001b[0;32m--> 382\u001b[0m     distances \u001b[38;5;241m=\u001b[39m \u001b[38;5;241m-\u001b[39m\u001b[38;5;241m2\u001b[39m \u001b[38;5;241m*\u001b[39m safe_sparse_dot(X, Y\u001b[38;5;241m.\u001b[39mT, dense_output\u001b[38;5;241m=\u001b[39m\u001b[38;5;28;01mTrue\u001b[39;00m)\n\u001b[1;32m    383\u001b[0m     distances \u001b[38;5;241m+\u001b[39m\u001b[38;5;241m=\u001b[39m XX\n\u001b[1;32m    384\u001b[0m     distances \u001b[38;5;241m+\u001b[39m\u001b[38;5;241m=\u001b[39m YY\n",
      "File \u001b[0;32m~/mambaforge/envs/ot_pert_genot/lib/python3.12/site-packages/sklearn/utils/extmath.py:211\u001b[0m, in \u001b[0;36msafe_sparse_dot\u001b[0;34m(a, b, dense_output)\u001b[0m\n\u001b[1;32m    207\u001b[0m \u001b[38;5;28;01melse\u001b[39;00m:\n\u001b[1;32m    208\u001b[0m     ret \u001b[38;5;241m=\u001b[39m a \u001b[38;5;241m@\u001b[39m b\n\u001b[1;32m    210\u001b[0m \u001b[38;5;28;01mif\u001b[39;00m (\n\u001b[0;32m--> 211\u001b[0m     sparse\u001b[38;5;241m.\u001b[39missparse(a)\n\u001b[1;32m    212\u001b[0m     \u001b[38;5;129;01mand\u001b[39;00m sparse\u001b[38;5;241m.\u001b[39missparse(b)\n\u001b[1;32m    213\u001b[0m     \u001b[38;5;129;01mand\u001b[39;00m dense_output\n\u001b[1;32m    214\u001b[0m     \u001b[38;5;129;01mand\u001b[39;00m \u001b[38;5;28mhasattr\u001b[39m(ret, \u001b[38;5;124m\"\u001b[39m\u001b[38;5;124mtoarray\u001b[39m\u001b[38;5;124m\"\u001b[39m)\n\u001b[1;32m    215\u001b[0m ):\n\u001b[1;32m    216\u001b[0m     \u001b[38;5;28;01mreturn\u001b[39;00m ret\u001b[38;5;241m.\u001b[39mtoarray()\n\u001b[1;32m    217\u001b[0m \u001b[38;5;28;01mreturn\u001b[39;00m ret\n",
      "File \u001b[0;32m~/mambaforge/envs/ot_pert_genot/lib/python3.12/site-packages/scipy/sparse/_base.py:1483\u001b[0m, in \u001b[0;36missparse\u001b[0;34m(x)\u001b[0m\n\u001b[1;32m   1478\u001b[0m     \u001b[38;5;28;01mpass\u001b[39;00m\n\u001b[1;32m   1480\u001b[0m sparray\u001b[38;5;241m.\u001b[39m\u001b[38;5;18m__doc__\u001b[39m \u001b[38;5;241m=\u001b[39m _spbase\u001b[38;5;241m.\u001b[39m\u001b[38;5;18m__doc__\u001b[39m\n\u001b[0;32m-> 1483\u001b[0m \u001b[38;5;28;01mdef\u001b[39;00m \u001b[38;5;21missparse\u001b[39m(x):\n\u001b[1;32m   1484\u001b[0m \u001b[38;5;250m    \u001b[39m\u001b[38;5;124;03m\"\"\"Is `x` of a sparse array or sparse matrix type?\u001b[39;00m\n\u001b[1;32m   1485\u001b[0m \n\u001b[1;32m   1486\u001b[0m \u001b[38;5;124;03m    Parameters\u001b[39;00m\n\u001b[0;32m   (...)\u001b[0m\n\u001b[1;32m   1507\u001b[0m \u001b[38;5;124;03m    False\u001b[39;00m\n\u001b[1;32m   1508\u001b[0m \u001b[38;5;124;03m    \"\"\"\u001b[39;00m\n\u001b[1;32m   1509\u001b[0m     \u001b[38;5;28;01mreturn\u001b[39;00m \u001b[38;5;28misinstance\u001b[39m(x, _spbase)\n",
      "\u001b[0;31mKeyboardInterrupt\u001b[0m: "
     ]
    }
   ],
   "source": [
    "metrics_decoded_from_rna = jax.tree_util.tree_map(compute_metrics_fast, preds_from_rna_reconstructed, true_atac_full)"
   ]
  },
  {
   "cell_type": "code",
   "execution_count": null,
   "id": "1ca9f813-b746-498d-924b-ef036e3230ae",
   "metadata": {},
   "outputs": [],
   "source": [
    "metrics_decoded_from_atac = jax.tree_util.tree_map(compute_metrics_fast, preds_from_atac_reconstructed, true_atac_full)"
   ]
  },
  {
   "cell_type": "code",
   "execution_count": null,
   "id": "518d1cf2-2bd4-4cf0-9799-c755af01ef20",
   "metadata": {},
   "outputs": [],
   "source": [
    "metrics_decoded_id = jax.tree_util.tree_map(compute_metrics_fast, preds_identity, true_atac_full)"
   ]
  },
  {
   "cell_type": "code",
   "execution_count": null,
   "id": "4615ef45-8c53-419c-8f78-54b1eb210640",
   "metadata": {},
   "outputs": [],
   "source": [
    "compute_mean_metrics(metrics_decoded_from_rna)\n"
   ]
  },
  {
   "cell_type": "code",
   "execution_count": null,
   "id": "eab2b2aa-5830-48d0-a65b-c6ae52e8d039",
   "metadata": {},
   "outputs": [],
   "source": [
    "compute_mean_metrics(metrics_decoded_from_atac)\n"
   ]
  },
  {
   "cell_type": "code",
   "execution_count": null,
   "id": "26311eda-bb71-4c35-be9f-5670a6591c1f",
   "metadata": {},
   "outputs": [],
   "source": [
    "compute_mean_metrics(metrics_decoded_id)\n"
   ]
  },
  {
   "cell_type": "code",
   "execution_count": null,
   "id": "13bc9f53-beb5-4c17-999f-b16e0848f22a",
   "metadata": {},
   "outputs": [],
   "source": []
  }
 ],
 "metadata": {
  "kernelspec": {
   "display_name": "ot_pert_genot",
   "language": "python",
   "name": "ot_pert_genot"
  },
  "language_info": {
   "codemirror_mode": {
    "name": "ipython",
    "version": 3
   },
   "file_extension": ".py",
   "mimetype": "text/x-python",
   "name": "python",
   "nbconvert_exporter": "python",
   "pygments_lexer": "ipython3",
   "version": "3.12.2"
  }
 },
 "nbformat": 4,
 "nbformat_minor": 5
}
