{
 "cells": [
  {
   "cell_type": "code",
   "execution_count": 1,
   "id": "b2f7a9e6-1f58-450a-b007-eaefd6b8b56e",
   "metadata": {},
   "outputs": [],
   "source": [
    "import ott\n",
    "import jax\n",
    "from ott.neural import datasets\n",
    "from ott.neural.methods.flows import dynamics, otfm\n",
    "from ott.neural.networks.layers import time_encoder\n",
    "from ott.neural.networks.velocity_field import VelocityField\n",
    "from ott.solvers import utils as solver_utils\n",
    "from ott.neural.methods.flows.genot import GENOT\n",
    "from torch.utils.data import DataLoader\n",
    "import jax.numpy as jnp\n",
    "from typing import Literal, Optional, Any\n",
    "import scanpy as sc\n",
    "import functools\n",
    "import optax\n",
    "import moscot\n",
    "import matplotlib.pyplot as plt\n",
    "import numpy as np\n",
    "from sklearn import preprocessing as pp\n",
    "from ott.solvers.linear import sinkhorn, acceleration\n",
    "import anndata"
   ]
  },
  {
   "cell_type": "code",
   "execution_count": 2,
   "id": "2a09f6f7-712e-49ce-a571-2fdeda563d81",
   "metadata": {},
   "outputs": [],
   "source": [
    "adata_atc_train_src = sc.read_h5ad(\"/lustre/groups/ml01/workspace/ot_perturbation/data/multiome/GLI3_KO_multiome_18d_adata_src_atac_train_processed.h5ad\")\n",
    "adata_atac_train_tgt = sc.read_h5ad(\"/lustre/groups/ml01/workspace/ot_perturbation/data/multiome/GLI3_KO_multiome_18d_adata_tgt_train_processed.h5ad\")"
   ]
  },
  {
   "cell_type": "code",
   "execution_count": 3,
   "id": "d2c6ca4c-c939-44d8-bf85-ac6ced5623f6",
   "metadata": {},
   "outputs": [],
   "source": [
    "source_train = adata_atc_train_src.obsm[\"X_pca\"]\n",
    "target_train = adata_atac_train_tgt.obsm[\"X_pca\"]"
   ]
  },
  {
   "cell_type": "code",
   "execution_count": 4,
   "id": "5677648d-2aea-4353-bec5-83ebb7f96b9c",
   "metadata": {},
   "outputs": [],
   "source": [
    "def data_match_fn(\n",
    "    src_lin: Optional[jnp.ndarray],\n",
    "    tgt_lin: Optional[jnp.ndarray],\n",
    "    src_quad: Optional[jnp.ndarray],\n",
    "    tgt_quad: Optional[jnp.ndarray],\n",
    "    *,\n",
    "    typ: Literal[\"lin\", \"quad\", \"fused\"],\n",
    "    epsilon: float = 1e-2,\n",
    "    tau_a: float = 0.999,\n",
    "    tau_b: float = 0.999,\n",
    "    **kwargs: Any,\n",
    ") -> jnp.ndarray:\n",
    "        \n",
    "    src_lin = src_lin[:, :30]\n",
    "    tgt_lin = tgt_lin[:, :30]\n",
    "    if typ == \"lin\":\n",
    "        return solver_utils.match_linear(\n",
    "            x=src_lin, y=tgt_lin, scale_cost=\"mean\", epsilon=epsilon, tau_a=tau_a, tau_b=tau_b, **kwargs\n",
    "        )\n",
    "    if typ == \"quad\":\n",
    "        return solver_utils.match_quadratic(xx=src_quad, yy=tgt_quad, scale_cost=\"mean\", **kwargs)\n",
    "    if typ == \"fused\":\n",
    "        return solver_utils.match_quadratic(xx=src_quad, yy=tgt_quad, x=src_lin, y=tgt_lin, scale_cost=\"mean\", **kwargs)\n",
    "    raise NotImplementedError(f\"Unknown type: {typ}.\")"
   ]
  },
  {
   "cell_type": "code",
   "execution_count": 5,
   "id": "2040519b-d110-4207-982c-d47bfcb66f16",
   "metadata": {},
   "outputs": [],
   "source": [
    "source_dim = source_train.shape[1]\n",
    "target_dim = source_train.shape[1]"
   ]
  },
  {
   "cell_type": "code",
   "execution_count": 6,
   "id": "f736fa13-ba48-4375-bfd2-efb9b6d3e13b",
   "metadata": {},
   "outputs": [],
   "source": [
    "dl = DataLoader(datasets.OTDataset(datasets.OTData(lin=source_train), datasets.OTData(lin=target_train)),\n",
    "            batch_size=1024,\n",
    "            shuffle=True,\n",
    "        )"
   ]
  },
  {
   "cell_type": "code",
   "execution_count": 7,
   "id": "cee51a87-d987-4b0f-bf93-d4a4603991ac",
   "metadata": {},
   "outputs": [],
   "source": [
    "vf = VelocityField(\n",
    "    hidden_dims=[4096, 4096, 4096],\n",
    "    time_dims=[4096, 4096, 4096],\n",
    "    output_dims=[4096, 4096, 4096] + [target_dim],\n",
    "    condition_dims=[4096, 4096, 4096],\n",
    "    time_encoder=functools.partial(time_encoder.cyclical_time_encoder, n_freqs=1024),\n",
    ")"
   ]
  },
  {
   "cell_type": "code",
   "execution_count": 8,
   "id": "7902642b-d0d6-463c-aaa1-7b608176417b",
   "metadata": {},
   "outputs": [],
   "source": [
    "\n",
    "match_fn = jax.jit(\n",
    "            functools.partial(\n",
    "                data_match_fn,\n",
    "                typ=\"lin\",\n",
    "                epsilon=1e-2,\n",
    "                tau_a=0.999, \n",
    "                tau_b=0.999, \n",
    "                )\n",
    "        )"
   ]
  },
  {
   "cell_type": "code",
   "execution_count": 9,
   "id": "bc6bea4e-21a4-44b0-bc0d-f916640a5183",
   "metadata": {},
   "outputs": [
    {
     "name": "stderr",
     "output_type": "stream",
     "text": [
      "2024-06-25 11:21:59.881502: W external/xla/xla/service/gpu/nvptx_compiler.cc:718] The NVIDIA driver's CUDA version is 12.3 which is older than the ptxas CUDA version (12.4.131). Because the driver is older than the ptxas version, XLA is disabling parallel compilation, which may slow down compilation. You should update your NVIDIA driver or use the NVIDIA-provided CUDA forward compatibility packages.\n"
     ]
    }
   ],
   "source": [
    "model = GENOT(vf, \n",
    "     flow=dynamics.ConstantNoiseFlow(0.5), \n",
    "     data_match_fn = match_fn,\n",
    "     source_dim=source_dim,\n",
    "     target_dim=target_dim,\n",
    "     optimizer = optax.adam(learning_rate=1e-4),\n",
    "     rng=jax.random.PRNGKey(0))"
   ]
  },
  {
   "cell_type": "code",
   "execution_count": 10,
   "id": "3e9c84fe-be61-4d40-b671-ea77ad1f0dd8",
   "metadata": {},
   "outputs": [],
   "source": [
    "from typing import Dict, Tuple\n",
    "from tqdm import tqdm\n",
    "import jax.tree_util as jtu\n",
    "\n",
    "\n",
    "def prepare_data(\n",
    "    batch: Dict[str, jnp.ndarray]\n",
    ") -> Tuple[Tuple[jnp.ndarray, Optional[jnp.ndarray], jnp.ndarray],\n",
    "           Tuple[jnp.ndarray, jnp.ndarray, Optional[jnp.ndarray],\n",
    "                 Optional[jnp.ndarray]]]:\n",
    "  src_lin, src_quad = batch.get(\"src_lin\"), batch.get(\"src_quad\")\n",
    "  tgt_lin, tgt_quad = batch.get(\"tgt_lin\"), batch.get(\"tgt_quad\")\n",
    "\n",
    "  if src_quad is None and tgt_quad is None:  # lin\n",
    "    src, tgt = src_lin, tgt_lin\n",
    "    arrs = src_lin, tgt_lin, None, None\n",
    "  elif src_lin is None and tgt_lin is None:  # quad\n",
    "    src, tgt = src_quad, tgt_quad\n",
    "    arrs = None, None, src_quad, tgt_quad\n",
    "  elif all(\n",
    "      arr is not None for arr in (src_lin, tgt_lin, src_quad, tgt_quad)\n",
    "  ):  # fused quad\n",
    "    src = jnp.concatenate([src_lin, src_quad], axis=1)\n",
    "    tgt = jnp.concatenate([tgt_lin, tgt_quad], axis=1)\n",
    "    arrs = src_lin, tgt_lin, src_quad, tgt_quad\n",
    "  else:\n",
    "    raise RuntimeError(\"Cannot infer OT problem type from data.\")\n",
    "\n",
    "  return (src, batch.get(\"src_condition\"), tgt), arrs"
   ]
  },
  {
   "cell_type": "code",
   "execution_count": 11,
   "id": "e9db2719-339b-4a75-9fc5-a722797d2536",
   "metadata": {},
   "outputs": [],
   "source": [
    "training_logs = {\"loss\": []}"
   ]
  },
  {
   "cell_type": "code",
   "execution_count": null,
   "id": "9a71b059-5fb2-4a40-b8fb-af38cd54abdd",
   "metadata": {},
   "outputs": [
    {
     "name": "stderr",
     "output_type": "stream",
     "text": [
      " 10%|██████████▎                                                                                                 | 1907/20000 [12:41<2:06:07,  2.39it/s]"
     ]
    }
   ],
   "source": [
    "NUM_ITER = 20000\n",
    "\n",
    "\n",
    "rng = jax.random.PRNGKey(0)\n",
    "\n",
    "for it in tqdm(range(NUM_ITER)):\n",
    "  rng = jax.random.split(rng, 5)\n",
    "  rng, rng_resample, rng_noise, rng_time, rng_step_fn = rng\n",
    "\n",
    "  batch = next(iter(dl))\n",
    "  batch = jtu.tree_map(jnp.asarray, batch)\n",
    "  (src, src_cond, tgt), matching_data = prepare_data(batch)\n",
    "\n",
    "  n = src.shape[0]\n",
    "  time = model.time_sampler(rng_time, n * model.n_samples_per_src)\n",
    "  latent = model.latent_noise_fn(rng_noise, (n, model.n_samples_per_src))\n",
    "\n",
    "  tmat = model.data_match_fn(*matching_data)  # (n, m)\n",
    "  if np.isnan(tmat).sum()>0:\n",
    "      print(\"not converged\")\n",
    "      continue\n",
    "  src_ixs, tgt_ixs = solver_utils.sample_conditional(  # (n, k), (m, k)\n",
    "      rng_resample,\n",
    "      tmat,\n",
    "      k=model.n_samples_per_src,\n",
    "  )\n",
    "\n",
    "  src, tgt = src[src_ixs], tgt[tgt_ixs]  # (n, k, ...),  # (m, k, ...)\n",
    "  if src_cond is not None:\n",
    "    src_cond = src_cond[src_ixs]\n",
    "\n",
    "  if model.latent_match_fn is not None:\n",
    "    src, src_cond, tgt = model._match_latent(rng, src, src_cond, latent, tgt)\n",
    "\n",
    "  src = src.reshape(-1, *src.shape[2:])  # (n * k, ...)\n",
    "  tgt = tgt.reshape(-1, *tgt.shape[2:])  # (m * k, ...)\n",
    "  latent = latent.reshape(-1, *latent.shape[2:])\n",
    "  if src_cond is not None:\n",
    "    src_cond = src_cond.reshape(-1, *src_cond.shape[2:])\n",
    "\n",
    "  loss, model.vf_state = model.step_fn(\n",
    "      rng_step_fn, model.vf_state, time, src, tgt, latent, src_cond\n",
    "  )\n",
    "\n",
    "  training_logs[\"loss\"].append(float(loss))\n",
    "\n"
   ]
  },
  {
   "cell_type": "code",
   "execution_count": null,
   "id": "42311a49-75df-4bfc-8ac9-873367745220",
   "metadata": {},
   "outputs": [],
   "source": [
    "import matplotlib.pyplot as plt\n",
    "import numpy as np\n",
    "plt.plot(np.arange(len(training_logs[\"loss\"])), training_logs[\"loss\"])\n",
    "\n",
    "# the training looks"
   ]
  },
  {
   "cell_type": "code",
   "execution_count": null,
   "id": "df45be6c-6523-49bb-9470-69732c968251",
   "metadata": {},
   "outputs": [],
   "source": [
    "adata_atac_test_src = sc.read_h5ad(\"/lustre/groups/ml01/workspace/ot_perturbation/data/multiome/GLI3_KO_multiome_18d_adata_arc_atac_test_processed.h5ad\")\n",
    "adata_atac_test_tgt = sc.read_h5ad(\"/lustre/groups/ml01/workspace/ot_perturbation/data/multiome/GLI3_KO_multiome_18d_adata_tgt_test_processed.h5ad\")"
   ]
  },
  {
   "cell_type": "code",
   "execution_count": null,
   "id": "e156fd1b-af0f-49ff-bd5f-df4d60b94b79",
   "metadata": {},
   "outputs": [],
   "source": [
    "source_test = adata_atac_test_src.obsm[\"X_pca\"]\n",
    "target_test = adata_atac_test_tgt.obsm[\"X_pca\"]"
   ]
  },
  {
   "cell_type": "code",
   "execution_count": null,
   "id": "bd11d5a9-d633-45b6-b928-a54ad5a7707e",
   "metadata": {},
   "outputs": [],
   "source": [
    "transported = model.transport(source_test, rng=jax.random.PRNGKey(0))"
   ]
  },
  {
   "cell_type": "code",
   "execution_count": null,
   "id": "c9f24112-4a7c-441f-8804-c7006b99e4c1",
   "metadata": {},
   "outputs": [],
   "source": [
    "adata_source_test = adata_atac_test_src\n",
    "adata_target_test = adata_atac_test_tgt"
   ]
  },
  {
   "cell_type": "code",
   "execution_count": null,
   "id": "ac57985d-a276-4d67-936b-a7efed9a4eed",
   "metadata": {},
   "outputs": [],
   "source": [
    "adata_one_sample = sc.concat(\n",
    "    [adata_source_test, adata_target_test],\n",
    "    join=\"outer\",\n",
    "    label=\"batch\",\n",
    "    keys=[\"RNA predicted from ATAC\", \"RNA\"],\n",
    ")\n",
    "adata_one_sample.obsm[\"X_translated_0\"] = np.concatenate(\n",
    "    (transported, target_test), axis=0\n",
    ")\n",
    "sc.pp.neighbors(adata_one_sample, use_rep=\"X_translated_0\")\n",
    "sc.tl.umap(adata_one_sample)\n",
    "\n",
    "fig, (ax1, ax2) = plt.subplots(1, 2, figsize=(15, 6))\n",
    "fig.suptitle(\"Joint UMAP computed based on both fused term and quadratic term\", size=18, y=0.9)\n",
    "sc.pl.umap(adata_one_sample, color=[\"batch\"], ax=ax1, show=False, size=30, legend_fontsize=10)\n",
    "ax1.legend()\n",
    "ax1.set_title(\"Colored based on (predicted) modality\", fontsize=16)\n",
    "ax1.set_xlabel('UMAP 1', fontsize=16)\n",
    "ax1.set_ylabel('UMAP 2', fontsize=16)\n",
    "sc.pl.umap(adata_one_sample, color=[\"branch\"], ax=ax2, show=False, size=30, legend_fontsize=13)\n",
    "ax2.set_title(\"Colored based on (predicted) cell types\", fontsize=16)\n",
    "ax2.set_xlabel('UMAP 1', fontsize=16)\n",
    "ax2.set_ylabel('UMAP 2', fontsize=16)\n",
    "ax1.legend(fontsize=13)\n",
    "plt.tight_layout(pad=3.0)\n",
    "plt.show()"
   ]
  },
  {
   "cell_type": "code",
   "execution_count": null,
   "id": "053cd3f9-05d0-4838-bb87-c578dff4a78d",
   "metadata": {},
   "outputs": [],
   "source": [
    "tr = []\n",
    "for i in range(10):\n",
    "    tr.append(model.transport(source_test, rng=jax.random.PRNGKey(i)))\n",
    "tr_arr = np.array(tr)\n",
    "trans = tr_arr.mean(axis=0)"
   ]
  },
  {
   "cell_type": "code",
   "execution_count": null,
   "id": "31e15d87-9152-4b61-8fdb-2fe6f43a14b6",
   "metadata": {},
   "outputs": [],
   "source": [
    "for i in range(10):\n",
    "    adata_atac_test_src.obsm[f\"predicted_atac_{i}\"] = tr_arr[i]"
   ]
  },
  {
   "cell_type": "code",
   "execution_count": null,
   "id": "592acedb-b5dc-421c-9997-15ad02438a75",
   "metadata": {},
   "outputs": [],
   "source": [
    "adata_atac_test_src.write(\"/lustre/groups/ml01/workspace/ot_perturbation/data/multiome/GLI3_KO_multiome_18d_adata_src_atac_with_predictions.h5ad\")"
   ]
  },
  {
   "cell_type": "code",
   "execution_count": null,
   "id": "f6f875de-1c71-48b7-971a-eb2775853905",
   "metadata": {},
   "outputs": [],
   "source": []
  }
 ],
 "metadata": {
  "kernelspec": {
   "display_name": "ot_pert_genot",
   "language": "python",
   "name": "ot_pert_genot"
  },
  "language_info": {
   "codemirror_mode": {
    "name": "ipython",
    "version": 3
   },
   "file_extension": ".py",
   "mimetype": "text/x-python",
   "name": "python",
   "nbconvert_exporter": "python",
   "pygments_lexer": "ipython3",
   "version": "3.12.2"
  }
 },
 "nbformat": 4,
 "nbformat_minor": 5
}
