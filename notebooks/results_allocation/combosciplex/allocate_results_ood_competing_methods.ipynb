{
 "cells": [
  {
   "cell_type": "code",
   "execution_count": 2,
   "id": "5602f65d-bbab-45e4-b72d-b03b3da451fd",
   "metadata": {},
   "outputs": [],
   "source": [
    "import os\n",
    "import pandas as pd\n",
    "import seaborn as sns\n",
    "import matplotlib.pyplot as plt\n",
    "import numpy as np"
   ]
  },
  {
   "cell_type": "code",
   "execution_count": 1,
   "id": "c5c1c7ee-aae8-4bf1-bb18-3ce781d983ab",
   "metadata": {},
   "outputs": [],
   "source": [
    "color_dict = {\"genot\": \"#317d01\",\n",
    "    \"otfm\": \"#a4fa6e\",\n",
    "    \"CPA\": \"#6c0399\",\n",
    "    \"additive\": \"#ffA500\",\n",
    "    \"id\": \"#8f97a8\",}\n"
   ]
  },
  {
   "cell_type": "code",
   "execution_count": 3,
   "id": "dfe989a0-9852-4705-bf73-bb4e080089ec",
   "metadata": {},
   "outputs": [],
   "source": [
    "cpa_dir = \"/lustre/groups/ml01/workspace/ot_perturbation/data/combosciplex/results/cpa\"\n",
    "chemcpa_dir = \"/lustre/groups/ml01/workspace/ot_perturbation/data/combosciplex/results/chemcpa\"\n",
    "id_dir = \"/lustre/groups/ml01/workspace/ot_perturbation/data/combosciplex/results/identity\"\n",
    "add_dir = \"/lustre/groups/ml01/workspace/ot_perturbation/data/combosciplex/results/additive_model\"\n",
    "otfm_dir = \"/lustre/groups/ml01/workspace/ot_perturbation/data/combosciplex/results/otfm\"\n",
    "#genot_dir = \"/lustre/groups/ml01/workspace/ot_perturbation/data/combosciplex/results/genot_tmp\""
   ]
  },
  {
   "cell_type": "code",
   "execution_count": 4,
   "id": "285618e9-3f61-49d7-a2c3-3794589e3c5d",
   "metadata": {},
   "outputs": [],
   "source": [
    "model_dirs = {\"CPA\": cpa_dir, \"id\": id_dir, \"chemCPA\": chemcpa_dir, \"otfm\": otfm_dir, \"add\": add_dir}#, \"genot\": genot_dir}"
   ]
  },
  {
   "cell_type": "code",
   "execution_count": 5,
   "id": "ab4f0a72-4235-4dec-be73-c8e8ce567bdd",
   "metadata": {},
   "outputs": [],
   "source": [
    "splits = [1,2,3,4]"
   ]
  },
  {
   "cell_type": "markdown",
   "id": "1177649e-5b11-4ace-bdd9-fbce0dac76b1",
   "metadata": {},
   "source": [
    "# Decoded"
   ]
  },
  {
   "cell_type": "code",
   "execution_count": 6,
   "id": "1caed032-ef64-49fb-852c-90d259327ef5",
   "metadata": {},
   "outputs": [],
   "source": [
    "\n",
    "all_dfs = []\n",
    "for split in splits:\n",
    "    metrics_file = f\"ood_metrics_decoded_{split}.csv\"\n",
    "    dfs = {}\n",
    "    for model, model_dir in model_dirs.items():\n",
    "        dfs[model] = pd.read_csv(os.path.join(model_dir, metrics_file), index_col=0)\n",
    "        #dfs[model].loc[\"sinkhorn_div\"] = dfs[model].loc[[\"sinkhorn_div_1\", \"sinkhorn_div_10\", \"sinkhorn_div_100\"]].mean(axis=0)\n",
    "        if \"sinkhorn_div_1\" in dfs[model].index:\n",
    "            dfs[model] = dfs[model].drop([\"sinkhorn_div_1\", \"sinkhorn_div_10\", \"sinkhorn_div_100\"])\n",
    "        if \"mmd_distance\" in dfs[model].index:\n",
    "            dfs[model] = dfs[model].drop([\"mmd_distance\"])\n",
    "        if \"mmd\" in dfs[model].index:\n",
    "            dfs[model] = dfs[model].drop([\"mmd\"])\n",
    "        if \"e_distance\" in dfs[model].index:\n",
    "            dfs[model] = dfs[model].drop([\"e_distance\"])\n",
    "        dfs[model][\"model\"] = model\n",
    "    result_df = pd.concat(dfs.values(), ignore_index=False)\n",
    "    result_df[\"metric\"] = result_df.index\n",
    "    metrics = result_df[\"metric\"].unique()\n",
    "    df2 = pd.melt(result_df, id_vars=[\"model\", \"metric\"])\n",
    "    df2[\"split\"] = split\n",
    "    all_dfs.append(df2)"
   ]
  },
  {
   "cell_type": "code",
   "execution_count": 7,
   "id": "3372e1a7-0b2c-4a2a-a493-792df3fd6673",
   "metadata": {},
   "outputs": [],
   "source": [
    "df_ood_metrics_decoded = pd.concat(all_dfs)\n"
   ]
  },
  {
   "cell_type": "code",
   "execution_count": 8,
   "id": "159c8f82-bf8b-4ee9-a8dd-bfe03eeac457",
   "metadata": {},
   "outputs": [
    {
     "data": {
      "text/html": [
       "<div>\n",
       "<style scoped>\n",
       "    .dataframe tbody tr th:only-of-type {\n",
       "        vertical-align: middle;\n",
       "    }\n",
       "\n",
       "    .dataframe tbody tr th {\n",
       "        vertical-align: top;\n",
       "    }\n",
       "\n",
       "    .dataframe thead th {\n",
       "        text-align: right;\n",
       "    }\n",
       "</style>\n",
       "<table border=\"1\" class=\"dataframe\">\n",
       "  <thead>\n",
       "    <tr style=\"text-align: right;\">\n",
       "      <th></th>\n",
       "      <th>model</th>\n",
       "      <th>metric</th>\n",
       "      <th>variable</th>\n",
       "      <th>value</th>\n",
       "      <th>split</th>\n",
       "    </tr>\n",
       "  </thead>\n",
       "  <tbody>\n",
       "    <tr>\n",
       "      <th>0</th>\n",
       "      <td>CPA</td>\n",
       "      <td>r_squared</td>\n",
       "      <td>Givinostat+Dasatinib</td>\n",
       "      <td>0.971376</td>\n",
       "      <td>1</td>\n",
       "    </tr>\n",
       "    <tr>\n",
       "      <th>1</th>\n",
       "      <td>id</td>\n",
       "      <td>r_squared</td>\n",
       "      <td>Givinostat+Dasatinib</td>\n",
       "      <td>0.940951</td>\n",
       "      <td>1</td>\n",
       "    </tr>\n",
       "    <tr>\n",
       "      <th>2</th>\n",
       "      <td>chemCPA</td>\n",
       "      <td>r_squared</td>\n",
       "      <td>Givinostat+Dasatinib</td>\n",
       "      <td>0.964667</td>\n",
       "      <td>1</td>\n",
       "    </tr>\n",
       "    <tr>\n",
       "      <th>3</th>\n",
       "      <td>otfm</td>\n",
       "      <td>r_squared</td>\n",
       "      <td>Givinostat+Dasatinib</td>\n",
       "      <td>0.984970</td>\n",
       "      <td>1</td>\n",
       "    </tr>\n",
       "    <tr>\n",
       "      <th>4</th>\n",
       "      <td>add</td>\n",
       "      <td>r_squared</td>\n",
       "      <td>Givinostat+Dasatinib</td>\n",
       "      <td>0.940292</td>\n",
       "      <td>1</td>\n",
       "    </tr>\n",
       "    <tr>\n",
       "      <th>...</th>\n",
       "      <td>...</td>\n",
       "      <td>...</td>\n",
       "      <td>...</td>\n",
       "      <td>...</td>\n",
       "      <td>...</td>\n",
       "    </tr>\n",
       "    <tr>\n",
       "      <th>25</th>\n",
       "      <td>CPA</td>\n",
       "      <td>r_squared</td>\n",
       "      <td>control+SRT2104</td>\n",
       "      <td>0.987199</td>\n",
       "      <td>4</td>\n",
       "    </tr>\n",
       "    <tr>\n",
       "      <th>26</th>\n",
       "      <td>id</td>\n",
       "      <td>r_squared</td>\n",
       "      <td>control+SRT2104</td>\n",
       "      <td>0.994301</td>\n",
       "      <td>4</td>\n",
       "    </tr>\n",
       "    <tr>\n",
       "      <th>27</th>\n",
       "      <td>chemCPA</td>\n",
       "      <td>r_squared</td>\n",
       "      <td>control+SRT2104</td>\n",
       "      <td>0.979043</td>\n",
       "      <td>4</td>\n",
       "    </tr>\n",
       "    <tr>\n",
       "      <th>28</th>\n",
       "      <td>otfm</td>\n",
       "      <td>r_squared</td>\n",
       "      <td>control+SRT2104</td>\n",
       "      <td>0.973836</td>\n",
       "      <td>4</td>\n",
       "    </tr>\n",
       "    <tr>\n",
       "      <th>29</th>\n",
       "      <td>add</td>\n",
       "      <td>r_squared</td>\n",
       "      <td>control+SRT2104</td>\n",
       "      <td>0.973347</td>\n",
       "      <td>4</td>\n",
       "    </tr>\n",
       "  </tbody>\n",
       "</table>\n",
       "<p>135 rows × 5 columns</p>\n",
       "</div>"
      ],
      "text/plain": [
       "      model     metric              variable     value  split\n",
       "0       CPA  r_squared  Givinostat+Dasatinib  0.971376      1\n",
       "1        id  r_squared  Givinostat+Dasatinib  0.940951      1\n",
       "2   chemCPA  r_squared  Givinostat+Dasatinib  0.964667      1\n",
       "3      otfm  r_squared  Givinostat+Dasatinib  0.984970      1\n",
       "4       add  r_squared  Givinostat+Dasatinib  0.940292      1\n",
       "..      ...        ...                   ...       ...    ...\n",
       "25      CPA  r_squared       control+SRT2104  0.987199      4\n",
       "26       id  r_squared       control+SRT2104  0.994301      4\n",
       "27  chemCPA  r_squared       control+SRT2104  0.979043      4\n",
       "28     otfm  r_squared       control+SRT2104  0.973836      4\n",
       "29      add  r_squared       control+SRT2104  0.973347      4\n",
       "\n",
       "[135 rows x 5 columns]"
      ]
     },
     "execution_count": 8,
     "metadata": {},
     "output_type": "execute_result"
    }
   ],
   "source": [
    "df_ood_metrics_decoded"
   ]
  },
  {
   "cell_type": "code",
   "execution_count": 9,
   "id": "eba4f50e-a6fb-47fd-91f1-03a32338cab3",
   "metadata": {},
   "outputs": [],
   "source": [
    "df_ood_metrics_decoded.to_csv(\"/lustre/groups/ml01/workspace/ot_perturbation/data/combosciplex/results/allocation/ood_metrics_decoded.csv\")"
   ]
  },
  {
   "cell_type": "code",
   "execution_count": 10,
   "id": "0e73aaa1-febb-4c04-9f68-37b472a5c884",
   "metadata": {},
   "outputs": [],
   "source": [
    "\n",
    "all_dfs = []\n",
    "for split in splits:\n",
    "    metrics_file = f\"ood_metrics_encoded_{split}.csv\"\n",
    "    dfs = {}\n",
    "    for model, model_dir in model_dirs.items():\n",
    "        dfs[model] = pd.read_csv(os.path.join(model_dir, metrics_file), index_col=0)\n",
    "        dfs[model].loc[\"sinkhorn_div\"] = dfs[model].loc[[\"sinkhorn_div_1\", \"sinkhorn_div_10\", \"sinkhorn_div_100\"]].mean(axis=0)\n",
    "        dfs[model] = dfs[model].drop([\"sinkhorn_div_1\", \"sinkhorn_div_10\", \"sinkhorn_div_100\"])\n",
    "        dfs[model][\"model\"] = model\n",
    "    result_df = pd.concat(dfs.values(), ignore_index=False)\n",
    "    result_df[\"metric\"] = result_df.index\n",
    "    metrics = result_df[\"metric\"].unique()\n",
    "    df2 = pd.melt(result_df, id_vars=[\"model\", \"metric\"])\n",
    "    df2[\"split\"] = split\n",
    "    all_dfs.append(df2)"
   ]
  },
  {
   "cell_type": "code",
   "execution_count": 11,
   "id": "e4b52a33-da9b-41f6-8b8f-069bcb104dc6",
   "metadata": {},
   "outputs": [],
   "source": [
    "df_ood_metrics_encoded = pd.concat(all_dfs)\n"
   ]
  },
  {
   "cell_type": "code",
   "execution_count": 12,
   "id": "c9304fd2-ad60-4375-8e89-ca6c1108e90f",
   "metadata": {},
   "outputs": [
    {
     "data": {
      "text/plain": [
       "metric\n",
       "r_squared       135\n",
       "e_distance      135\n",
       "mmd             135\n",
       "sinkhorn_div    135\n",
       "Name: count, dtype: int64"
      ]
     },
     "execution_count": 12,
     "metadata": {},
     "output_type": "execute_result"
    }
   ],
   "source": [
    "df_ood_metrics_encoded[\"metric\"].value_counts()"
   ]
  },
  {
   "cell_type": "code",
   "execution_count": 13,
   "id": "b1eea9ed-cdcb-43d3-98a7-de561dafe2e0",
   "metadata": {},
   "outputs": [],
   "source": [
    "df_ood_metrics_encoded.to_csv(\"/lustre/groups/ml01/workspace/ot_perturbation/data/combosciplex/results/allocation/ood_metrics_encoded.csv\")"
   ]
  },
  {
   "cell_type": "code",
   "execution_count": 14,
   "id": "45c95333-1abc-4d26-abd9-49cfbcbe7aed",
   "metadata": {},
   "outputs": [],
   "source": [
    "\n",
    "all_dfs = []\n",
    "for split in splits:\n",
    "    metrics_file = f\"ood_metrics_ood_{split}.csv\"\n",
    "    dfs = {}\n",
    "    for model, model_dir in model_dirs.items():\n",
    "        dfs[model] = pd.read_csv(os.path.join(model_dir, metrics_file), index_col=0)\n",
    "        dfs[model].loc[\"sinkhorn_div\"] = dfs[model].loc[[\"sinkhorn_div_1\", \"sinkhorn_div_10\", \"sinkhorn_div_100\"]].mean(axis=0)\n",
    "        dfs[model] = dfs[model].drop([\"sinkhorn_div_1\", \"sinkhorn_div_10\", \"sinkhorn_div_100\"])\n",
    "        dfs[model][\"model\"] = model\n",
    "    result_df = pd.concat(dfs.values(), ignore_index=False)\n",
    "    result_df[\"metric\"] = result_df.index\n",
    "    metrics = result_df[\"metric\"].unique()\n",
    "    df2 = pd.melt(result_df, id_vars=[\"model\", \"metric\"])\n",
    "    df2[\"split\"] = split\n",
    "    all_dfs.append(df2)"
   ]
  },
  {
   "cell_type": "code",
   "execution_count": 15,
   "id": "fe121fb2-b14a-4ef4-be91-7e2466ec2b98",
   "metadata": {},
   "outputs": [],
   "source": [
    "df_ood_metrics_deg = pd.concat(all_dfs)\n"
   ]
  },
  {
   "cell_type": "code",
   "execution_count": 16,
   "id": "7d608e35-0a5c-4f9b-92b3-096ae3fe6d56",
   "metadata": {},
   "outputs": [
    {
     "data": {
      "text/html": [
       "<div>\n",
       "<style scoped>\n",
       "    .dataframe tbody tr th:only-of-type {\n",
       "        vertical-align: middle;\n",
       "    }\n",
       "\n",
       "    .dataframe tbody tr th {\n",
       "        vertical-align: top;\n",
       "    }\n",
       "\n",
       "    .dataframe thead th {\n",
       "        text-align: right;\n",
       "    }\n",
       "</style>\n",
       "<table border=\"1\" class=\"dataframe\">\n",
       "  <thead>\n",
       "    <tr style=\"text-align: right;\">\n",
       "      <th></th>\n",
       "      <th>model</th>\n",
       "      <th>metric</th>\n",
       "      <th>variable</th>\n",
       "      <th>value</th>\n",
       "      <th>split</th>\n",
       "    </tr>\n",
       "  </thead>\n",
       "  <tbody>\n",
       "    <tr>\n",
       "      <th>0</th>\n",
       "      <td>CPA</td>\n",
       "      <td>r_squared</td>\n",
       "      <td>Givinostat+Dasatinib</td>\n",
       "      <td>0.950307</td>\n",
       "      <td>1</td>\n",
       "    </tr>\n",
       "    <tr>\n",
       "      <th>1</th>\n",
       "      <td>CPA</td>\n",
       "      <td>e_distance</td>\n",
       "      <td>Givinostat+Dasatinib</td>\n",
       "      <td>1.875571</td>\n",
       "      <td>1</td>\n",
       "    </tr>\n",
       "    <tr>\n",
       "      <th>2</th>\n",
       "      <td>CPA</td>\n",
       "      <td>mmd</td>\n",
       "      <td>Givinostat+Dasatinib</td>\n",
       "      <td>0.238072</td>\n",
       "      <td>1</td>\n",
       "    </tr>\n",
       "    <tr>\n",
       "      <th>3</th>\n",
       "      <td>CPA</td>\n",
       "      <td>sinkhorn_div</td>\n",
       "      <td>Givinostat+Dasatinib</td>\n",
       "      <td>3.935415</td>\n",
       "      <td>1</td>\n",
       "    </tr>\n",
       "    <tr>\n",
       "      <th>4</th>\n",
       "      <td>id</td>\n",
       "      <td>r_squared</td>\n",
       "      <td>Givinostat+Dasatinib</td>\n",
       "      <td>0.842175</td>\n",
       "      <td>1</td>\n",
       "    </tr>\n",
       "    <tr>\n",
       "      <th>...</th>\n",
       "      <td>...</td>\n",
       "      <td>...</td>\n",
       "      <td>...</td>\n",
       "      <td>...</td>\n",
       "      <td>...</td>\n",
       "    </tr>\n",
       "    <tr>\n",
       "      <th>115</th>\n",
       "      <td>otfm</td>\n",
       "      <td>sinkhorn_div</td>\n",
       "      <td>control+SRT2104</td>\n",
       "      <td>1.958838</td>\n",
       "      <td>4</td>\n",
       "    </tr>\n",
       "    <tr>\n",
       "      <th>116</th>\n",
       "      <td>add</td>\n",
       "      <td>r_squared</td>\n",
       "      <td>control+SRT2104</td>\n",
       "      <td>0.984063</td>\n",
       "      <td>4</td>\n",
       "    </tr>\n",
       "    <tr>\n",
       "      <th>117</th>\n",
       "      <td>add</td>\n",
       "      <td>e_distance</td>\n",
       "      <td>control+SRT2104</td>\n",
       "      <td>1.024477</td>\n",
       "      <td>4</td>\n",
       "    </tr>\n",
       "    <tr>\n",
       "      <th>118</th>\n",
       "      <td>add</td>\n",
       "      <td>mmd</td>\n",
       "      <td>control+SRT2104</td>\n",
       "      <td>0.020146</td>\n",
       "      <td>4</td>\n",
       "    </tr>\n",
       "    <tr>\n",
       "      <th>119</th>\n",
       "      <td>add</td>\n",
       "      <td>sinkhorn_div</td>\n",
       "      <td>control+SRT2104</td>\n",
       "      <td>5.416944</td>\n",
       "      <td>4</td>\n",
       "    </tr>\n",
       "  </tbody>\n",
       "</table>\n",
       "<p>540 rows × 5 columns</p>\n",
       "</div>"
      ],
      "text/plain": [
       "    model        metric              variable     value  split\n",
       "0     CPA     r_squared  Givinostat+Dasatinib  0.950307      1\n",
       "1     CPA    e_distance  Givinostat+Dasatinib  1.875571      1\n",
       "2     CPA           mmd  Givinostat+Dasatinib  0.238072      1\n",
       "3     CPA  sinkhorn_div  Givinostat+Dasatinib  3.935415      1\n",
       "4      id     r_squared  Givinostat+Dasatinib  0.842175      1\n",
       "..    ...           ...                   ...       ...    ...\n",
       "115  otfm  sinkhorn_div       control+SRT2104  1.958838      4\n",
       "116   add     r_squared       control+SRT2104  0.984063      4\n",
       "117   add    e_distance       control+SRT2104  1.024477      4\n",
       "118   add           mmd       control+SRT2104  0.020146      4\n",
       "119   add  sinkhorn_div       control+SRT2104  5.416944      4\n",
       "\n",
       "[540 rows x 5 columns]"
      ]
     },
     "execution_count": 16,
     "metadata": {},
     "output_type": "execute_result"
    }
   ],
   "source": [
    "df_ood_metrics_deg"
   ]
  },
  {
   "cell_type": "code",
   "execution_count": 17,
   "id": "ffd38a93-6669-470c-9d3f-c4a3d55aaab7",
   "metadata": {},
   "outputs": [],
   "source": [
    "df_ood_metrics_deg.to_csv(\"/lustre/groups/ml01/workspace/ot_perturbation/data/combosciplex/results/allocation/ood_metrics_deg.csv\")"
   ]
  },
  {
   "cell_type": "code",
   "execution_count": null,
   "id": "269ef050-ac4f-4381-b316-69161b343914",
   "metadata": {},
   "outputs": [],
   "source": []
  },
  {
   "cell_type": "code",
   "execution_count": null,
   "id": "7efd2942-83ed-42fa-aa54-85f09b4eb025",
   "metadata": {},
   "outputs": [],
   "source": []
  },
  {
   "cell_type": "code",
   "execution_count": null,
   "id": "8cd4557e-eb98-4e39-af2a-9a48a72c107c",
   "metadata": {},
   "outputs": [],
   "source": []
  },
  {
   "cell_type": "code",
   "execution_count": null,
   "id": "6411bb2a-03e3-43ed-9f65-5a5e7b6f0f81",
   "metadata": {},
   "outputs": [],
   "source": []
  }
 ],
 "metadata": {
  "kernelspec": {
   "display_name": "cfp",
   "language": "python",
   "name": "cfp"
  },
  "language_info": {
   "codemirror_mode": {
    "name": "ipython",
    "version": 3
   },
   "file_extension": ".py",
   "mimetype": "text/x-python",
   "name": "python",
   "nbconvert_exporter": "python",
   "pygments_lexer": "ipython3",
   "version": "3.11.9"
  }
 },
 "nbformat": 4,
 "nbformat_minor": 5
}
