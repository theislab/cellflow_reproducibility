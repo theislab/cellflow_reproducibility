{
 "cells": [
  {
   "cell_type": "code",
   "execution_count": 1,
   "id": "5602f65d-bbab-45e4-b72d-b03b3da451fd",
   "metadata": {},
   "outputs": [],
   "source": [
    "import os\n",
    "import pandas as pd\n",
    "import seaborn as sns\n",
    "import matplotlib.pyplot as plt\n",
    "import numpy as np"
   ]
  },
  {
   "cell_type": "code",
   "execution_count": 2,
   "id": "dfe989a0-9852-4705-bf73-bb4e080089ec",
   "metadata": {},
   "outputs": [],
   "source": [
    "chemcpa_dir = \"/lustre/groups/ml01/workspace/ot_perturbation/data/sciplex/results/chemcpa\"\n",
    "biolord_dir = \"/lustre/groups/ml01/workspace/ot_perturbation/data/sciplex/results/biolord\"\n",
    "id_dir = \"/lustre/groups/ml01/workspace/ot_perturbation/data/sciplex/results/identity\"\n",
    "condot_dir = \"/lustre/groups/ml01/workspace/ot_perturbation/data/sciplex/results/condot\"\n",
    "otfm_dir = \"/lustre/groups/ml01/workspace/ot_perturbation/data/sciplex/results/otfm/pca_mean_pooling\""
   ]
  },
  {
   "cell_type": "code",
   "execution_count": 3,
   "id": "285618e9-3f61-49d7-a2c3-3794589e3c5d",
   "metadata": {},
   "outputs": [],
   "source": [
    "model_dirs = {\"id\": id_dir, \"biolord\": biolord_dir, \"otfm\": otfm_dir, \"condot\": condot_dir} # otfm and chemCPA missing"
   ]
  },
  {
   "cell_type": "code",
   "execution_count": 4,
   "id": "ab4f0a72-4235-4dec-be73-c8e8ce567bdd",
   "metadata": {},
   "outputs": [],
   "source": [
    "splits = [1,2,3,4,5]"
   ]
  },
  {
   "cell_type": "markdown",
   "id": "1177649e-5b11-4ace-bdd9-fbce0dac76b1",
   "metadata": {},
   "source": [
    "# Decoded"
   ]
  },
  {
   "cell_type": "code",
   "execution_count": 5,
   "id": "1caed032-ef64-49fb-852c-90d259327ef5",
   "metadata": {},
   "outputs": [],
   "source": [
    "\n",
    "all_dfs = []\n",
    "for split in splits:\n",
    "    metrics_file = f\"ood_metrics_decoded_{split}.csv\"\n",
    "    dfs = {}\n",
    "    for model, model_dir in model_dirs.items():\n",
    "        dfs[model] = pd.read_csv(os.path.join(model_dir, metrics_file), index_col=0)\n",
    "        #dfs[model].loc[\"sinkhorn_div\"] = dfs[model].loc[[\"sinkhorn_div_1\", \"sinkhorn_div_10\", \"sinkhorn_div_100\"]].mean(axis=0)\n",
    "        if \"sinkhorn_div_1\" in dfs[model].index:\n",
    "            dfs[model] = dfs[model].drop([\"sinkhorn_div_1\", \"sinkhorn_div_10\", \"sinkhorn_div_100\"])\n",
    "        if \"mmd_distance\" in dfs[model].index:\n",
    "            dfs[model] = dfs[model].drop([\"mmd_distance\"])\n",
    "        if \"mmd\" in dfs[model].index:\n",
    "            dfs[model] = dfs[model].drop([\"mmd\"])\n",
    "        if \"e_distance\" in dfs[model].index:\n",
    "            dfs[model] = dfs[model].drop([\"e_distance\"])\n",
    "        dfs[model][\"model\"] = model\n",
    "    result_df = pd.concat(dfs.values(), ignore_index=False)\n",
    "    result_df[\"metric\"] = result_df.index\n",
    "    metrics = result_df[\"metric\"].unique()\n",
    "    df2 = pd.melt(result_df, id_vars=[\"model\", \"metric\"])\n",
    "    df2[\"split\"] = split\n",
    "    all_dfs.append(df2)"
   ]
  },
  {
   "cell_type": "code",
   "execution_count": 6,
   "id": "3372e1a7-0b2c-4a2a-a493-792df3fd6673",
   "metadata": {},
   "outputs": [],
   "source": [
    "df_ood_metrics_decoded = pd.concat(all_dfs)\n"
   ]
  },
  {
   "cell_type": "code",
   "execution_count": 7,
   "id": "159c8f82-bf8b-4ee9-a8dd-bfe03eeac457",
   "metadata": {},
   "outputs": [
    {
     "data": {
      "text/html": [
       "<div>\n",
       "<style scoped>\n",
       "    .dataframe tbody tr th:only-of-type {\n",
       "        vertical-align: middle;\n",
       "    }\n",
       "\n",
       "    .dataframe tbody tr th {\n",
       "        vertical-align: top;\n",
       "    }\n",
       "\n",
       "    .dataframe thead th {\n",
       "        text-align: right;\n",
       "    }\n",
       "</style>\n",
       "<table border=\"1\" class=\"dataframe\">\n",
       "  <thead>\n",
       "    <tr style=\"text-align: right;\">\n",
       "      <th></th>\n",
       "      <th>model</th>\n",
       "      <th>metric</th>\n",
       "      <th>variable</th>\n",
       "      <th>value</th>\n",
       "      <th>split</th>\n",
       "    </tr>\n",
       "  </thead>\n",
       "  <tbody>\n",
       "    <tr>\n",
       "      <th>0</th>\n",
       "      <td>id</td>\n",
       "      <td>r_squared</td>\n",
       "      <td>A549_(+)-JQ1_10.0</td>\n",
       "      <td>0.988324</td>\n",
       "      <td>1</td>\n",
       "    </tr>\n",
       "    <tr>\n",
       "      <th>1</th>\n",
       "      <td>biolord</td>\n",
       "      <td>r_squared</td>\n",
       "      <td>A549_(+)-JQ1_10.0</td>\n",
       "      <td>0.989759</td>\n",
       "      <td>1</td>\n",
       "    </tr>\n",
       "    <tr>\n",
       "      <th>2</th>\n",
       "      <td>otfm</td>\n",
       "      <td>r_squared</td>\n",
       "      <td>A549_(+)-JQ1_10.0</td>\n",
       "      <td>0.986635</td>\n",
       "      <td>1</td>\n",
       "    </tr>\n",
       "    <tr>\n",
       "      <th>3</th>\n",
       "      <td>condot</td>\n",
       "      <td>r_squared</td>\n",
       "      <td>A549_(+)-JQ1_10.0</td>\n",
       "      <td>0.701462</td>\n",
       "      <td>1</td>\n",
       "    </tr>\n",
       "    <tr>\n",
       "      <th>4</th>\n",
       "      <td>id</td>\n",
       "      <td>r_squared</td>\n",
       "      <td>A549_(+)-JQ1_100.0</td>\n",
       "      <td>0.958643</td>\n",
       "      <td>1</td>\n",
       "    </tr>\n",
       "    <tr>\n",
       "      <th>...</th>\n",
       "      <td>...</td>\n",
       "      <td>...</td>\n",
       "      <td>...</td>\n",
       "      <td>...</td>\n",
       "      <td>...</td>\n",
       "    </tr>\n",
       "    <tr>\n",
       "      <th>327</th>\n",
       "      <td>condot</td>\n",
       "      <td>r_squared</td>\n",
       "      <td>MCF7_Tanespimycin_(17-AAG)_1000.0</td>\n",
       "      <td>0.799012</td>\n",
       "      <td>5</td>\n",
       "    </tr>\n",
       "    <tr>\n",
       "      <th>328</th>\n",
       "      <td>id</td>\n",
       "      <td>r_squared</td>\n",
       "      <td>MCF7_Tanespimycin_(17-AAG)_10000.0</td>\n",
       "      <td>0.869440</td>\n",
       "      <td>5</td>\n",
       "    </tr>\n",
       "    <tr>\n",
       "      <th>329</th>\n",
       "      <td>biolord</td>\n",
       "      <td>r_squared</td>\n",
       "      <td>MCF7_Tanespimycin_(17-AAG)_10000.0</td>\n",
       "      <td>0.883039</td>\n",
       "      <td>5</td>\n",
       "    </tr>\n",
       "    <tr>\n",
       "      <th>330</th>\n",
       "      <td>otfm</td>\n",
       "      <td>r_squared</td>\n",
       "      <td>MCF7_Tanespimycin_(17-AAG)_10000.0</td>\n",
       "      <td>0.879834</td>\n",
       "      <td>5</td>\n",
       "    </tr>\n",
       "    <tr>\n",
       "      <th>331</th>\n",
       "      <td>condot</td>\n",
       "      <td>r_squared</td>\n",
       "      <td>MCF7_Tanespimycin_(17-AAG)_10000.0</td>\n",
       "      <td>0.770208</td>\n",
       "      <td>5</td>\n",
       "    </tr>\n",
       "  </tbody>\n",
       "</table>\n",
       "<p>8832 rows × 5 columns</p>\n",
       "</div>"
      ],
      "text/plain": [
       "       model     metric                            variable     value  split\n",
       "0         id  r_squared                   A549_(+)-JQ1_10.0  0.988324      1\n",
       "1    biolord  r_squared                   A549_(+)-JQ1_10.0  0.989759      1\n",
       "2       otfm  r_squared                   A549_(+)-JQ1_10.0  0.986635      1\n",
       "3     condot  r_squared                   A549_(+)-JQ1_10.0  0.701462      1\n",
       "4         id  r_squared                  A549_(+)-JQ1_100.0  0.958643      1\n",
       "..       ...        ...                                 ...       ...    ...\n",
       "327   condot  r_squared   MCF7_Tanespimycin_(17-AAG)_1000.0  0.799012      5\n",
       "328       id  r_squared  MCF7_Tanespimycin_(17-AAG)_10000.0  0.869440      5\n",
       "329  biolord  r_squared  MCF7_Tanespimycin_(17-AAG)_10000.0  0.883039      5\n",
       "330     otfm  r_squared  MCF7_Tanespimycin_(17-AAG)_10000.0  0.879834      5\n",
       "331   condot  r_squared  MCF7_Tanespimycin_(17-AAG)_10000.0  0.770208      5\n",
       "\n",
       "[8832 rows x 5 columns]"
      ]
     },
     "execution_count": 7,
     "metadata": {},
     "output_type": "execute_result"
    }
   ],
   "source": [
    "df_ood_metrics_decoded"
   ]
  },
  {
   "cell_type": "code",
   "execution_count": 8,
   "id": "eba4f50e-a6fb-47fd-91f1-03a32338cab3",
   "metadata": {},
   "outputs": [
    {
     "ename": "OSError",
     "evalue": "Cannot save file into a non-existent directory: '/lustre/groups/ml01/workspace/ot_perturbation/data/sciplex/results/allocation'",
     "output_type": "error",
     "traceback": [
      "\u001b[0;31m---------------------------------------------------------------------------\u001b[0m",
      "\u001b[0;31mOSError\u001b[0m                                   Traceback (most recent call last)",
      "Cell \u001b[0;32mIn[8], line 1\u001b[0m\n\u001b[0;32m----> 1\u001b[0m df_ood_metrics_decoded\u001b[38;5;241m.\u001b[39mto_csv(\u001b[38;5;124m\"\u001b[39m\u001b[38;5;124m/lustre/groups/ml01/workspace/ot_perturbation/data/sciplex/results/allocation/ood_metrics_decoded.csv\u001b[39m\u001b[38;5;124m\"\u001b[39m)\n",
      "File \u001b[0;32m~/mambaforge/envs/cfp/lib/python3.11/site-packages/pandas/util/_decorators.py:333\u001b[0m, in \u001b[0;36mdeprecate_nonkeyword_arguments.<locals>.decorate.<locals>.wrapper\u001b[0;34m(*args, **kwargs)\u001b[0m\n\u001b[1;32m    327\u001b[0m \u001b[38;5;28;01mif\u001b[39;00m \u001b[38;5;28mlen\u001b[39m(args) \u001b[38;5;241m>\u001b[39m num_allow_args:\n\u001b[1;32m    328\u001b[0m     warnings\u001b[38;5;241m.\u001b[39mwarn(\n\u001b[1;32m    329\u001b[0m         msg\u001b[38;5;241m.\u001b[39mformat(arguments\u001b[38;5;241m=\u001b[39m_format_argument_list(allow_args)),\n\u001b[1;32m    330\u001b[0m         \u001b[38;5;167;01mFutureWarning\u001b[39;00m,\n\u001b[1;32m    331\u001b[0m         stacklevel\u001b[38;5;241m=\u001b[39mfind_stack_level(),\n\u001b[1;32m    332\u001b[0m     )\n\u001b[0;32m--> 333\u001b[0m \u001b[38;5;28;01mreturn\u001b[39;00m func(\u001b[38;5;241m*\u001b[39margs, \u001b[38;5;241m*\u001b[39m\u001b[38;5;241m*\u001b[39mkwargs)\n",
      "File \u001b[0;32m~/mambaforge/envs/cfp/lib/python3.11/site-packages/pandas/core/generic.py:3967\u001b[0m, in \u001b[0;36mNDFrame.to_csv\u001b[0;34m(self, path_or_buf, sep, na_rep, float_format, columns, header, index, index_label, mode, encoding, compression, quoting, quotechar, lineterminator, chunksize, date_format, doublequote, escapechar, decimal, errors, storage_options)\u001b[0m\n\u001b[1;32m   3956\u001b[0m df \u001b[38;5;241m=\u001b[39m \u001b[38;5;28mself\u001b[39m \u001b[38;5;28;01mif\u001b[39;00m \u001b[38;5;28misinstance\u001b[39m(\u001b[38;5;28mself\u001b[39m, ABCDataFrame) \u001b[38;5;28;01melse\u001b[39;00m \u001b[38;5;28mself\u001b[39m\u001b[38;5;241m.\u001b[39mto_frame()\n\u001b[1;32m   3958\u001b[0m formatter \u001b[38;5;241m=\u001b[39m DataFrameFormatter(\n\u001b[1;32m   3959\u001b[0m     frame\u001b[38;5;241m=\u001b[39mdf,\n\u001b[1;32m   3960\u001b[0m     header\u001b[38;5;241m=\u001b[39mheader,\n\u001b[0;32m   (...)\u001b[0m\n\u001b[1;32m   3964\u001b[0m     decimal\u001b[38;5;241m=\u001b[39mdecimal,\n\u001b[1;32m   3965\u001b[0m )\n\u001b[0;32m-> 3967\u001b[0m \u001b[38;5;28;01mreturn\u001b[39;00m DataFrameRenderer(formatter)\u001b[38;5;241m.\u001b[39mto_csv(\n\u001b[1;32m   3968\u001b[0m     path_or_buf,\n\u001b[1;32m   3969\u001b[0m     lineterminator\u001b[38;5;241m=\u001b[39mlineterminator,\n\u001b[1;32m   3970\u001b[0m     sep\u001b[38;5;241m=\u001b[39msep,\n\u001b[1;32m   3971\u001b[0m     encoding\u001b[38;5;241m=\u001b[39mencoding,\n\u001b[1;32m   3972\u001b[0m     errors\u001b[38;5;241m=\u001b[39merrors,\n\u001b[1;32m   3973\u001b[0m     compression\u001b[38;5;241m=\u001b[39mcompression,\n\u001b[1;32m   3974\u001b[0m     quoting\u001b[38;5;241m=\u001b[39mquoting,\n\u001b[1;32m   3975\u001b[0m     columns\u001b[38;5;241m=\u001b[39mcolumns,\n\u001b[1;32m   3976\u001b[0m     index_label\u001b[38;5;241m=\u001b[39mindex_label,\n\u001b[1;32m   3977\u001b[0m     mode\u001b[38;5;241m=\u001b[39mmode,\n\u001b[1;32m   3978\u001b[0m     chunksize\u001b[38;5;241m=\u001b[39mchunksize,\n\u001b[1;32m   3979\u001b[0m     quotechar\u001b[38;5;241m=\u001b[39mquotechar,\n\u001b[1;32m   3980\u001b[0m     date_format\u001b[38;5;241m=\u001b[39mdate_format,\n\u001b[1;32m   3981\u001b[0m     doublequote\u001b[38;5;241m=\u001b[39mdoublequote,\n\u001b[1;32m   3982\u001b[0m     escapechar\u001b[38;5;241m=\u001b[39mescapechar,\n\u001b[1;32m   3983\u001b[0m     storage_options\u001b[38;5;241m=\u001b[39mstorage_options,\n\u001b[1;32m   3984\u001b[0m )\n",
      "File \u001b[0;32m~/mambaforge/envs/cfp/lib/python3.11/site-packages/pandas/io/formats/format.py:1014\u001b[0m, in \u001b[0;36mDataFrameRenderer.to_csv\u001b[0;34m(self, path_or_buf, encoding, sep, columns, index_label, mode, compression, quoting, quotechar, lineterminator, chunksize, date_format, doublequote, escapechar, errors, storage_options)\u001b[0m\n\u001b[1;32m    993\u001b[0m     created_buffer \u001b[38;5;241m=\u001b[39m \u001b[38;5;28;01mFalse\u001b[39;00m\n\u001b[1;32m    995\u001b[0m csv_formatter \u001b[38;5;241m=\u001b[39m CSVFormatter(\n\u001b[1;32m    996\u001b[0m     path_or_buf\u001b[38;5;241m=\u001b[39mpath_or_buf,\n\u001b[1;32m    997\u001b[0m     lineterminator\u001b[38;5;241m=\u001b[39mlineterminator,\n\u001b[0;32m   (...)\u001b[0m\n\u001b[1;32m   1012\u001b[0m     formatter\u001b[38;5;241m=\u001b[39m\u001b[38;5;28mself\u001b[39m\u001b[38;5;241m.\u001b[39mfmt,\n\u001b[1;32m   1013\u001b[0m )\n\u001b[0;32m-> 1014\u001b[0m csv_formatter\u001b[38;5;241m.\u001b[39msave()\n\u001b[1;32m   1016\u001b[0m \u001b[38;5;28;01mif\u001b[39;00m created_buffer:\n\u001b[1;32m   1017\u001b[0m     \u001b[38;5;28;01massert\u001b[39;00m \u001b[38;5;28misinstance\u001b[39m(path_or_buf, StringIO)\n",
      "File \u001b[0;32m~/mambaforge/envs/cfp/lib/python3.11/site-packages/pandas/io/formats/csvs.py:251\u001b[0m, in \u001b[0;36mCSVFormatter.save\u001b[0;34m(self)\u001b[0m\n\u001b[1;32m    247\u001b[0m \u001b[38;5;250m\u001b[39m\u001b[38;5;124;03m\"\"\"\u001b[39;00m\n\u001b[1;32m    248\u001b[0m \u001b[38;5;124;03mCreate the writer & save.\u001b[39;00m\n\u001b[1;32m    249\u001b[0m \u001b[38;5;124;03m\"\"\"\u001b[39;00m\n\u001b[1;32m    250\u001b[0m \u001b[38;5;66;03m# apply compression and byte/text conversion\u001b[39;00m\n\u001b[0;32m--> 251\u001b[0m \u001b[38;5;28;01mwith\u001b[39;00m get_handle(\n\u001b[1;32m    252\u001b[0m     \u001b[38;5;28mself\u001b[39m\u001b[38;5;241m.\u001b[39mfilepath_or_buffer,\n\u001b[1;32m    253\u001b[0m     \u001b[38;5;28mself\u001b[39m\u001b[38;5;241m.\u001b[39mmode,\n\u001b[1;32m    254\u001b[0m     encoding\u001b[38;5;241m=\u001b[39m\u001b[38;5;28mself\u001b[39m\u001b[38;5;241m.\u001b[39mencoding,\n\u001b[1;32m    255\u001b[0m     errors\u001b[38;5;241m=\u001b[39m\u001b[38;5;28mself\u001b[39m\u001b[38;5;241m.\u001b[39merrors,\n\u001b[1;32m    256\u001b[0m     compression\u001b[38;5;241m=\u001b[39m\u001b[38;5;28mself\u001b[39m\u001b[38;5;241m.\u001b[39mcompression,\n\u001b[1;32m    257\u001b[0m     storage_options\u001b[38;5;241m=\u001b[39m\u001b[38;5;28mself\u001b[39m\u001b[38;5;241m.\u001b[39mstorage_options,\n\u001b[1;32m    258\u001b[0m ) \u001b[38;5;28;01mas\u001b[39;00m handles:\n\u001b[1;32m    259\u001b[0m     \u001b[38;5;66;03m# Note: self.encoding is irrelevant here\u001b[39;00m\n\u001b[1;32m    260\u001b[0m     \u001b[38;5;28mself\u001b[39m\u001b[38;5;241m.\u001b[39mwriter \u001b[38;5;241m=\u001b[39m csvlib\u001b[38;5;241m.\u001b[39mwriter(\n\u001b[1;32m    261\u001b[0m         handles\u001b[38;5;241m.\u001b[39mhandle,\n\u001b[1;32m    262\u001b[0m         lineterminator\u001b[38;5;241m=\u001b[39m\u001b[38;5;28mself\u001b[39m\u001b[38;5;241m.\u001b[39mlineterminator,\n\u001b[0;32m   (...)\u001b[0m\n\u001b[1;32m    267\u001b[0m         quotechar\u001b[38;5;241m=\u001b[39m\u001b[38;5;28mself\u001b[39m\u001b[38;5;241m.\u001b[39mquotechar,\n\u001b[1;32m    268\u001b[0m     )\n\u001b[1;32m    270\u001b[0m     \u001b[38;5;28mself\u001b[39m\u001b[38;5;241m.\u001b[39m_save()\n",
      "File \u001b[0;32m~/mambaforge/envs/cfp/lib/python3.11/site-packages/pandas/io/common.py:749\u001b[0m, in \u001b[0;36mget_handle\u001b[0;34m(path_or_buf, mode, encoding, compression, memory_map, is_text, errors, storage_options)\u001b[0m\n\u001b[1;32m    747\u001b[0m \u001b[38;5;66;03m# Only for write methods\u001b[39;00m\n\u001b[1;32m    748\u001b[0m \u001b[38;5;28;01mif\u001b[39;00m \u001b[38;5;124m\"\u001b[39m\u001b[38;5;124mr\u001b[39m\u001b[38;5;124m\"\u001b[39m \u001b[38;5;129;01mnot\u001b[39;00m \u001b[38;5;129;01min\u001b[39;00m mode \u001b[38;5;129;01mand\u001b[39;00m is_path:\n\u001b[0;32m--> 749\u001b[0m     check_parent_directory(\u001b[38;5;28mstr\u001b[39m(handle))\n\u001b[1;32m    751\u001b[0m \u001b[38;5;28;01mif\u001b[39;00m compression:\n\u001b[1;32m    752\u001b[0m     \u001b[38;5;28;01mif\u001b[39;00m compression \u001b[38;5;241m!=\u001b[39m \u001b[38;5;124m\"\u001b[39m\u001b[38;5;124mzstd\u001b[39m\u001b[38;5;124m\"\u001b[39m:\n\u001b[1;32m    753\u001b[0m         \u001b[38;5;66;03m# compression libraries do not like an explicit text-mode\u001b[39;00m\n",
      "File \u001b[0;32m~/mambaforge/envs/cfp/lib/python3.11/site-packages/pandas/io/common.py:616\u001b[0m, in \u001b[0;36mcheck_parent_directory\u001b[0;34m(path)\u001b[0m\n\u001b[1;32m    614\u001b[0m parent \u001b[38;5;241m=\u001b[39m Path(path)\u001b[38;5;241m.\u001b[39mparent\n\u001b[1;32m    615\u001b[0m \u001b[38;5;28;01mif\u001b[39;00m \u001b[38;5;129;01mnot\u001b[39;00m parent\u001b[38;5;241m.\u001b[39mis_dir():\n\u001b[0;32m--> 616\u001b[0m     \u001b[38;5;28;01mraise\u001b[39;00m \u001b[38;5;167;01mOSError\u001b[39;00m(\u001b[38;5;124mrf\u001b[39m\u001b[38;5;124m\"\u001b[39m\u001b[38;5;124mCannot save file into a non-existent directory: \u001b[39m\u001b[38;5;124m'\u001b[39m\u001b[38;5;132;01m{\u001b[39;00mparent\u001b[38;5;132;01m}\u001b[39;00m\u001b[38;5;124m'\u001b[39m\u001b[38;5;124m\"\u001b[39m)\n",
      "\u001b[0;31mOSError\u001b[0m: Cannot save file into a non-existent directory: '/lustre/groups/ml01/workspace/ot_perturbation/data/sciplex/results/allocation'"
     ]
    }
   ],
   "source": [
    "df_ood_metrics_decoded.to_csv(\"/lustre/groups/ml01/workspace/ot_perturbation/data/sciplex/results/allocation/ood_metrics_decoded.csv\")"
   ]
  },
  {
   "cell_type": "code",
   "execution_count": null,
   "id": "0e73aaa1-febb-4c04-9f68-37b472a5c884",
   "metadata": {},
   "outputs": [],
   "source": [
    "\n",
    "all_dfs = []\n",
    "for split in splits:\n",
    "    metrics_file = f\"ood_metrics_encoded_{split}.csv\"\n",
    "    dfs = {}\n",
    "    for model, model_dir in model_dirs.items():\n",
    "        dfs[model] = pd.read_csv(os.path.join(model_dir, metrics_file), index_col=0)\n",
    "        dfs[model].loc[\"sinkhorn_div\"] = dfs[model].loc[[\"sinkhorn_div_1\", \"sinkhorn_div_10\", \"sinkhorn_div_100\"]].mean(axis=0)\n",
    "        dfs[model] = dfs[model].drop([\"sinkhorn_div_1\", \"sinkhorn_div_10\", \"sinkhorn_div_100\"])\n",
    "        dfs[model][\"model\"] = model\n",
    "    result_df = pd.concat(dfs.values(), ignore_index=False)\n",
    "    result_df[\"metric\"] = result_df.index\n",
    "    metrics = result_df[\"metric\"].unique()\n",
    "    df2 = pd.melt(result_df, id_vars=[\"model\", \"metric\"])\n",
    "    df2[\"split\"] = split\n",
    "    all_dfs.append(df2)"
   ]
  },
  {
   "cell_type": "code",
   "execution_count": null,
   "id": "e4b52a33-da9b-41f6-8b8f-069bcb104dc6",
   "metadata": {},
   "outputs": [],
   "source": [
    "df_ood_metrics_encoded = pd.concat(all_dfs)\n"
   ]
  },
  {
   "cell_type": "code",
   "execution_count": null,
   "id": "c9304fd2-ad60-4375-8e89-ca6c1108e90f",
   "metadata": {},
   "outputs": [],
   "source": [
    "df_ood_metrics_encoded[\"metric\"].value_counts()"
   ]
  },
  {
   "cell_type": "code",
   "execution_count": null,
   "id": "b1eea9ed-cdcb-43d3-98a7-de561dafe2e0",
   "metadata": {},
   "outputs": [],
   "source": [
    "df_ood_metrics_encoded.to_csv(\"/lustre/groups/ml01/workspace/ot_perturbation/data/sciplex/results/allocation/ood_metrics_encoded.csv\")"
   ]
  },
  {
   "cell_type": "code",
   "execution_count": null,
   "id": "45c95333-1abc-4d26-abd9-49cfbcbe7aed",
   "metadata": {},
   "outputs": [],
   "source": [
    "\n",
    "all_dfs = []\n",
    "for split in splits:\n",
    "    metrics_file = f\"ood_metrics_ood_{split}.csv\"\n",
    "    dfs = {}\n",
    "    for model, model_dir in model_dirs.items():\n",
    "        dfs[model] = pd.read_csv(os.path.join(model_dir, metrics_file), index_col=0)\n",
    "        dfs[model].loc[\"sinkhorn_div\"] = dfs[model].loc[[\"sinkhorn_div_1\", \"sinkhorn_div_10\", \"sinkhorn_div_100\"]].mean(axis=0)\n",
    "        dfs[model] = dfs[model].drop([\"sinkhorn_div_1\", \"sinkhorn_div_10\", \"sinkhorn_div_100\"])\n",
    "        dfs[model][\"model\"] = model\n",
    "    result_df = pd.concat(dfs.values(), ignore_index=False)\n",
    "    result_df[\"metric\"] = result_df.index\n",
    "    metrics = result_df[\"metric\"].unique()\n",
    "    df2 = pd.melt(result_df, id_vars=[\"model\", \"metric\"])\n",
    "    df2[\"split\"] = split\n",
    "    all_dfs.append(df2)"
   ]
  },
  {
   "cell_type": "code",
   "execution_count": null,
   "id": "fe121fb2-b14a-4ef4-be91-7e2466ec2b98",
   "metadata": {},
   "outputs": [],
   "source": [
    "df_ood_metrics_deg = pd.concat(all_dfs)\n"
   ]
  },
  {
   "cell_type": "code",
   "execution_count": null,
   "id": "7d608e35-0a5c-4f9b-92b3-096ae3fe6d56",
   "metadata": {},
   "outputs": [],
   "source": [
    "df_ood_metrics_deg"
   ]
  },
  {
   "cell_type": "code",
   "execution_count": null,
   "id": "ffd38a93-6669-470c-9d3f-c4a3d55aaab7",
   "metadata": {},
   "outputs": [],
   "source": [
    "df_ood_metrics_deg.to_csv(\"/lustre/groups/ml01/workspace/ot_perturbation/data/sciplex/results/allocation/ood_metrics_deg.csv\")"
   ]
  },
  {
   "cell_type": "code",
   "execution_count": null,
   "id": "269ef050-ac4f-4381-b316-69161b343914",
   "metadata": {},
   "outputs": [],
   "source": []
  },
  {
   "cell_type": "code",
   "execution_count": null,
   "id": "5b8c9821-5a5a-4bba-9afc-2bbc75b52d23",
   "metadata": {},
   "outputs": [],
   "source": []
  }
 ],
 "metadata": {
  "kernelspec": {
   "display_name": "cfp",
   "language": "python",
   "name": "cfp"
  },
  "language_info": {
   "codemirror_mode": {
    "name": "ipython",
    "version": 3
   },
   "file_extension": ".py",
   "mimetype": "text/x-python",
   "name": "python",
   "nbconvert_exporter": "python",
   "pygments_lexer": "ipython3",
   "version": "3.11.9"
  }
 },
 "nbformat": 4,
 "nbformat_minor": 5
}
