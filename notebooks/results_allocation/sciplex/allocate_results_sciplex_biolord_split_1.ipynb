{
 "cells": [
  {
   "cell_type": "code",
   "execution_count": 7,
   "id": "446fceb8-1f63-48ab-a250-55601c40b70a",
   "metadata": {},
   "outputs": [],
   "source": [
    "split=1"
   ]
  },
  {
   "cell_type": "code",
   "execution_count": 1,
   "id": "5a9a7e97-c2a3-4bfd-a088-dac1a2158d0f",
   "metadata": {},
   "outputs": [],
   "source": [
    "import os\n",
    "import pandas as pd\n",
    "import seaborn as sns\n",
    "import matplotlib.pyplot as plt\n",
    "import numpy as np"
   ]
  },
  {
   "cell_type": "code",
   "execution_count": 2,
   "id": "4de40704-d3de-4fec-8cc5-b47c9b438108",
   "metadata": {},
   "outputs": [],
   "source": [
    "color_dict = {\"GENOT\": \"#317d01\",\n",
    "    \"OTFM (eps=0)\": \"#a4fa6e\",\n",
    "    \"cellOT\": \"#1099c7\",\n",
    "    \"scGen\": \"#f2aa18\",\n",
    "    \"CPA\": \"#6c0399\",\n",
    "    \"chemCPA\": \"#e6b1fc\",\n",
    "    \"biolord\": \"#54f0e5\",\n",
    "    \"GEARS\": \"#f05c54\",\n",
    "             }\n"
   ]
  },
  {
   "cell_type": "code",
   "execution_count": 3,
   "id": "24b6ae19-24de-4108-8859-fba8740d97b2",
   "metadata": {},
   "outputs": [],
   "source": [
    "biolord_dir = \"/lustre/groups/ml01/workspace/ot_perturbation/data/sciplex/results/biolord\"\n",
    "id_dir = \"/lustre/groups/ml01/workspace/ot_perturbation/data/sciplex/results/identity\"\n",
    "chemcpa_dir = \"/lustre/groups/ml01/workspace/ot_perturbation/data/sciplex/results/chem\"\n",
    "genot_dir = None\n",
    "otfm_dir = None\n",
    "condot_dir = None"
   ]
  },
  {
   "cell_type": "code",
   "execution_count": 4,
   "id": "66445e21-6ade-43e8-8027-668cc4ef3c3a",
   "metadata": {},
   "outputs": [],
   "source": [
    "model_dirs = {\"biolord\": biolord_dir, \"id\": id_dir}"
   ]
  },
  {
   "cell_type": "code",
   "execution_count": 12,
   "id": "48d8948a-ee54-493e-8427-d481bf7f9b12",
   "metadata": {},
   "outputs": [],
   "source": [
    "metrics_files = {\"ood_encoded\": f\"ood_metrics_encoded_{str(split)}.csv\", \"ood_decoded\": f\"ood_metrics_decoded_{str(split)}.csv\"}"
   ]
  },
  {
   "cell_type": "code",
   "execution_count": 14,
   "id": "5afadfe4-a03f-4aa7-b2a9-1e7cd323c488",
   "metadata": {},
   "outputs": [
    {
     "ename": "TypeError",
     "evalue": "string indices must be integers, not 'str'",
     "output_type": "error",
     "traceback": [
      "\u001b[0;31m---------------------------------------------------------------------------\u001b[0m",
      "\u001b[0;31mTypeError\u001b[0m                                 Traceback (most recent call last)",
      "Cell \u001b[0;32mIn[14], line 3\u001b[0m\n\u001b[1;32m      1\u001b[0m dfs \u001b[38;5;241m=\u001b[39m {}\n\u001b[1;32m      2\u001b[0m \u001b[38;5;28;01mfor\u001b[39;00m model, model_dir \u001b[38;5;129;01min\u001b[39;00m model_dirs\u001b[38;5;241m.\u001b[39mitems():\n\u001b[0;32m----> 3\u001b[0m     dfs[model] \u001b[38;5;241m=\u001b[39m pd\u001b[38;5;241m.\u001b[39mread_csv(os\u001b[38;5;241m.\u001b[39mpath\u001b[38;5;241m.\u001b[39mjoin(model_dir, metrics_file[\u001b[38;5;124m\"\u001b[39m\u001b[38;5;124mood_encoded\u001b[39m\u001b[38;5;124m\"\u001b[39m]))\u001b[38;5;66;03m#, index_col=0)\u001b[39;00m\n\u001b[1;32m      4\u001b[0m     dfs[model][\u001b[38;5;124m\"\u001b[39m\u001b[38;5;124mmodel\u001b[39m\u001b[38;5;124m\"\u001b[39m] \u001b[38;5;241m=\u001b[39m model\n",
      "\u001b[0;31mTypeError\u001b[0m: string indices must be integers, not 'str'"
     ]
    }
   ],
   "source": [
    "dfs = {}\n",
    "for model, model_dir in model_dirs.items():\n",
    "    dfs[model] = pd.read_csv(os.path.join(model_dir, metrics_file), index_col=0)\n",
    "    dfs[model][\"model\"] = model"
   ]
  },
  {
   "cell_type": "code",
   "execution_count": 16,
   "id": "677cf7bb-4c47-405f-b0f2-a157b0fd3430",
   "metadata": {},
   "outputs": [],
   "source": [
    "split =1\n",
    "all_dfs = []\n",
    "metrics_file = f\"ood_metrics_decoded_{split}.csv\"\n",
    "dfs = {}\n",
    "for model, model_dir in model_dirs.items():\n",
    "    dfs[model] = pd.read_csv(os.path.join(model_dir, metrics_file), index_col=0)\n",
    "    #dfs[model].loc[\"sinkhorn_div\"] = dfs[model].loc[[\"sinkhorn_div_1\", \"sinkhorn_div_10\", \"sinkhorn_div_100\"]].mean(axis=0)\n",
    "    if \"sinkhorn_div_1\" in dfs[model].index:\n",
    "        dfs[model] = dfs[model].drop([\"sinkhorn_div_1\", \"sinkhorn_div_10\", \"sinkhorn_div_100\"])\n",
    "    if \"mmd_distance\" in dfs[model].index:\n",
    "        dfs[model] = dfs[model].drop([\"mmd_distance\"])\n",
    "    if \"mmd\" in dfs[model].index:\n",
    "        dfs[model] = dfs[model].drop([\"mmd\"])\n",
    "    if \"e_distance\" in dfs[model].index:\n",
    "        dfs[model] = dfs[model].drop([\"e_distance\"])\n",
    "    dfs[model][\"model\"] = model\n",
    "result_df = pd.concat(dfs.values(), ignore_index=False)\n",
    "result_df[\"metric\"] = result_df.index\n",
    "metrics = result_df[\"metric\"].unique()\n",
    "df2 = pd.melt(result_df, id_vars=[\"model\", \"metric\"])\n",
    "df2[\"split\"] = split\n",
    "all_dfs.append(df2)"
   ]
  },
  {
   "cell_type": "code",
   "execution_count": 17,
   "id": "ee710e64-3f30-47fe-9851-642ed4887864",
   "metadata": {},
   "outputs": [],
   "source": [
    "df_ood_metrics_decoded = pd.concat(all_dfs)\n"
   ]
  },
  {
   "cell_type": "code",
   "execution_count": 18,
   "id": "0573cc19-e2ea-464b-9660-a10b05d9bf0e",
   "metadata": {},
   "outputs": [
    {
     "data": {
      "text/html": [
       "<div>\n",
       "<style scoped>\n",
       "    .dataframe tbody tr th:only-of-type {\n",
       "        vertical-align: middle;\n",
       "    }\n",
       "\n",
       "    .dataframe tbody tr th {\n",
       "        vertical-align: top;\n",
       "    }\n",
       "\n",
       "    .dataframe thead th {\n",
       "        text-align: right;\n",
       "    }\n",
       "</style>\n",
       "<table border=\"1\" class=\"dataframe\">\n",
       "  <thead>\n",
       "    <tr style=\"text-align: right;\">\n",
       "      <th></th>\n",
       "      <th>model</th>\n",
       "      <th>metric</th>\n",
       "      <th>variable</th>\n",
       "      <th>value</th>\n",
       "      <th>split</th>\n",
       "    </tr>\n",
       "  </thead>\n",
       "  <tbody>\n",
       "    <tr>\n",
       "      <th>0</th>\n",
       "      <td>biolord</td>\n",
       "      <td>r_squared</td>\n",
       "      <td>A549_(+)-JQ1_10.0</td>\n",
       "      <td>0.989759</td>\n",
       "      <td>1</td>\n",
       "    </tr>\n",
       "    <tr>\n",
       "      <th>1</th>\n",
       "      <td>id</td>\n",
       "      <td>r_squared</td>\n",
       "      <td>A549_(+)-JQ1_10.0</td>\n",
       "      <td>0.988324</td>\n",
       "      <td>1</td>\n",
       "    </tr>\n",
       "    <tr>\n",
       "      <th>2</th>\n",
       "      <td>biolord</td>\n",
       "      <td>r_squared</td>\n",
       "      <td>A549_(+)-JQ1_100.0</td>\n",
       "      <td>0.963307</td>\n",
       "      <td>1</td>\n",
       "    </tr>\n",
       "    <tr>\n",
       "      <th>3</th>\n",
       "      <td>id</td>\n",
       "      <td>r_squared</td>\n",
       "      <td>A549_(+)-JQ1_100.0</td>\n",
       "      <td>0.958643</td>\n",
       "      <td>1</td>\n",
       "    </tr>\n",
       "    <tr>\n",
       "      <th>4</th>\n",
       "      <td>biolord</td>\n",
       "      <td>r_squared</td>\n",
       "      <td>A549_(+)-JQ1_1000.0</td>\n",
       "      <td>0.867155</td>\n",
       "      <td>1</td>\n",
       "    </tr>\n",
       "    <tr>\n",
       "      <th>...</th>\n",
       "      <td>...</td>\n",
       "      <td>...</td>\n",
       "      <td>...</td>\n",
       "      <td>...</td>\n",
       "      <td>...</td>\n",
       "    </tr>\n",
       "    <tr>\n",
       "      <th>1039</th>\n",
       "      <td>id</td>\n",
       "      <td>r_squared</td>\n",
       "      <td>MCF7_XAV-939_100.0</td>\n",
       "      <td>0.993501</td>\n",
       "      <td>1</td>\n",
       "    </tr>\n",
       "    <tr>\n",
       "      <th>1040</th>\n",
       "      <td>biolord</td>\n",
       "      <td>r_squared</td>\n",
       "      <td>MCF7_XAV-939_1000.0</td>\n",
       "      <td>0.994599</td>\n",
       "      <td>1</td>\n",
       "    </tr>\n",
       "    <tr>\n",
       "      <th>1041</th>\n",
       "      <td>id</td>\n",
       "      <td>r_squared</td>\n",
       "      <td>MCF7_XAV-939_1000.0</td>\n",
       "      <td>0.994054</td>\n",
       "      <td>1</td>\n",
       "    </tr>\n",
       "    <tr>\n",
       "      <th>1042</th>\n",
       "      <td>biolord</td>\n",
       "      <td>r_squared</td>\n",
       "      <td>MCF7_XAV-939_10000.0</td>\n",
       "      <td>0.984463</td>\n",
       "      <td>1</td>\n",
       "    </tr>\n",
       "    <tr>\n",
       "      <th>1043</th>\n",
       "      <td>id</td>\n",
       "      <td>r_squared</td>\n",
       "      <td>MCF7_XAV-939_10000.0</td>\n",
       "      <td>0.986081</td>\n",
       "      <td>1</td>\n",
       "    </tr>\n",
       "  </tbody>\n",
       "</table>\n",
       "<p>1044 rows × 5 columns</p>\n",
       "</div>"
      ],
      "text/plain": [
       "        model     metric              variable     value  split\n",
       "0     biolord  r_squared     A549_(+)-JQ1_10.0  0.989759      1\n",
       "1          id  r_squared     A549_(+)-JQ1_10.0  0.988324      1\n",
       "2     biolord  r_squared    A549_(+)-JQ1_100.0  0.963307      1\n",
       "3          id  r_squared    A549_(+)-JQ1_100.0  0.958643      1\n",
       "4     biolord  r_squared   A549_(+)-JQ1_1000.0  0.867155      1\n",
       "...       ...        ...                   ...       ...    ...\n",
       "1039       id  r_squared    MCF7_XAV-939_100.0  0.993501      1\n",
       "1040  biolord  r_squared   MCF7_XAV-939_1000.0  0.994599      1\n",
       "1041       id  r_squared   MCF7_XAV-939_1000.0  0.994054      1\n",
       "1042  biolord  r_squared  MCF7_XAV-939_10000.0  0.984463      1\n",
       "1043       id  r_squared  MCF7_XAV-939_10000.0  0.986081      1\n",
       "\n",
       "[1044 rows x 5 columns]"
      ]
     },
     "execution_count": 18,
     "metadata": {},
     "output_type": "execute_result"
    }
   ],
   "source": [
    "df_ood_metrics_decoded"
   ]
  },
  {
   "cell_type": "code",
   "execution_count": 20,
   "id": "30b94afc-3c95-4bf5-a2f2-bd1e506835b7",
   "metadata": {},
   "outputs": [
    {
     "data": {
      "text/plain": [
       "<Axes: xlabel='metric', ylabel='value'>"
      ]
     },
     "execution_count": 20,
     "metadata": {},
     "output_type": "execute_result"
    },
    {
     "data": {
      "image/png": "[encoded data removed]",
      "text/plain": [
       "<Figure size 640x480 with 1 Axes>"
      ]
     },
     "metadata": {},
     "output_type": "display_data"
    }
   ],
   "source": [
    "sns.boxplot(df_ood_metrics_decoded, x=\"metric\", y=\"value\", hue=\"model\")"
   ]
  },
  {
   "cell_type": "code",
   "execution_count": 22,
   "id": "1d4e3963-9bb8-4651-9f6b-6f5a8e314e81",
   "metadata": {},
   "outputs": [
    {
     "data": {
      "text/html": [
       "<div>\n",
       "<style scoped>\n",
       "    .dataframe tbody tr th:only-of-type {\n",
       "        vertical-align: middle;\n",
       "    }\n",
       "\n",
       "    .dataframe tbody tr th {\n",
       "        vertical-align: top;\n",
       "    }\n",
       "\n",
       "    .dataframe thead th {\n",
       "        text-align: right;\n",
       "    }\n",
       "</style>\n",
       "<table border=\"1\" class=\"dataframe\">\n",
       "  <thead>\n",
       "    <tr style=\"text-align: right;\">\n",
       "      <th></th>\n",
       "      <th>value</th>\n",
       "    </tr>\n",
       "    <tr>\n",
       "      <th>model</th>\n",
       "      <th></th>\n",
       "    </tr>\n",
       "  </thead>\n",
       "  <tbody>\n",
       "    <tr>\n",
       "      <th>biolord</th>\n",
       "      <td>0.956968</td>\n",
       "    </tr>\n",
       "    <tr>\n",
       "      <th>id</th>\n",
       "      <td>0.957961</td>\n",
       "    </tr>\n",
       "  </tbody>\n",
       "</table>\n",
       "</div>"
      ],
      "text/plain": [
       "            value\n",
       "model            \n",
       "biolord  0.956968\n",
       "id       0.957961"
      ]
     },
     "execution_count": 22,
     "metadata": {},
     "output_type": "execute_result"
    }
   ],
   "source": [
    "df_ood_metrics_decoded[[\"model\", \"value\"]].groupby(\"model\").mean()"
   ]
  },
  {
   "cell_type": "code",
   "execution_count": null,
   "id": "b6b3ff6f-a48e-48d3-aac2-4166321f5b0a",
   "metadata": {},
   "outputs": [],
   "source": []
  },
  {
   "cell_type": "code",
   "execution_count": null,
   "id": "ea53ec67-8ad7-4bef-888a-f3954f29f78a",
   "metadata": {},
   "outputs": [],
   "source": [
    "result_df = pd.concat(dfs.values(), ignore_index=False)\n",
    "result_df[\"metric\"] = result_df.index\n",
    "metrics = result_df[\"metric\"].unique()\n",
    "df2 = pd.melt(result_df, id_vars=[\"model\", \"metric\"])"
   ]
  }
 ],
 "metadata": {
  "kernelspec": {
   "display_name": "ot_pert_genot",
   "language": "python",
   "name": "ot_pert_genot"
  },
  "language_info": {
   "codemirror_mode": {
    "name": "ipython",
    "version": 3
   },
   "file_extension": ".py",
   "mimetype": "text/x-python",
   "name": "python",
   "nbconvert_exporter": "python",
   "pygments_lexer": "ipython3",
   "version": "3.12.2"
  }
 },
 "nbformat": 4,
 "nbformat_minor": 5
}
