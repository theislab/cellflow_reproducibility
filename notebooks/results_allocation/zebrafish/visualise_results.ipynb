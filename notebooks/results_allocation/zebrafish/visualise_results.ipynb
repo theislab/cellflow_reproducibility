{
 "cells": [
  {
   "cell_type": "code",
   "execution_count": 37,
   "id": "5c7598c6-5699-42af-93ec-7f9fd0cdd49f",
   "metadata": {},
   "outputs": [],
   "source": [
    "import cfp\n",
    "import scanpy as sc\n",
    "import numpy as np\n",
    "import pandas as pd\n",
    "import anndata as ad\n",
    "import os \n",
    "import pickle\n",
    "import yaml\n",
    "import functools\n",
    "from ott.solvers import utils as solver_utils\n",
    "import optax"
   ]
  },
  {
   "cell_type": "code",
   "execution_count": 29,
   "id": "a92cdc64-ab68-4b90-bade-e8950a2d239e",
   "metadata": {},
   "outputs": [],
   "source": [
    "with open('/home/icb/alejandro.tejada/ot_pert_reproducibility/runs_otfm/conf/model/zebrafish.yaml', 'r') as file:\n",
    "    model = yaml.safe_load(file)\n",
    "\n",
    "with open('/home/icb/alejandro.tejada/ot_pert_reproducibility/runs_otfm/conf/dataset/zebrafish.yaml', 'r') as file:\n",
    "    dataset = yaml.safe_load(file)"
   ]
  },
  {
   "cell_type": "code",
   "execution_count": 2,
   "id": "6d10ddf3-62b8-4670-90b0-3fd47fe115e8",
   "metadata": {},
   "outputs": [],
   "source": [
    "def prepare_data(adata_train, adata_test, adata_ood, path_dict):\n",
    "\n",
    "    adata_train.obs['control'] = False\n",
    "    adata_test.obs['control'] = False\n",
    "    adata_ood.obs['control'] = False\n",
    "\n",
    "    adata_train.obs['logtimepoint'] = np.log(pd.to_numeric(adata_train.obs['timepoint']))\n",
    "    adata_test.obs['logtimepoint'] = np.log(pd.to_numeric(adata_test.obs['timepoint']))\n",
    "    adata_ood.obs['logtimepoint'] = np.log(pd.to_numeric(adata_ood.obs['timepoint']))\n",
    "\n",
    "    adata_train.obs.loc[(adata_train.obs['gene1+gene2'] == 'negative+negative') & (adata_train.obs['timepoint'] == '18'), 'control'] = True \n",
    "\n",
    "    adata_test.obs.loc[(adata_test.obs['gene1+gene2'] == 'negative+negative') & (adata_test.obs['timepoint'] == '18'), 'control'] = True \n",
    "\n",
    "    adata_ood.obs.loc[(adata_ood.obs['gene1+gene2'] == 'negative+negative') & (adata_ood.obs['timepoint'] == '18'), 'control'] = True \n",
    "    \n",
    "    adata_ood = ad.concat((adata_ood, adata_test[adata_test.obs.control == True])) # add controls to ood\n",
    "\n",
    "    file_path = os.path.join(path_dict)\n",
    "\n",
    "    with open(file_path, 'rb') as file:\n",
    "        gene_dict = pickle.load(file) \n",
    "\n",
    "    adata_train.uns['crispr_rep'] = gene_dict\n",
    "    adata_test.uns['crispr_rep'] = gene_dict\n",
    "    adata_ood.uns['crispr_rep'] = gene_dict\n",
    "\n",
    "    return adata_train, adata_test, adata_ood"
   ]
  },
  {
   "cell_type": "code",
   "execution_count": 3,
   "id": "cb0f4c6d-9eb8-4e4f-a687-5e192b09e0e4",
   "metadata": {},
   "outputs": [],
   "source": [
    "adata_train_path = \"/lustre/groups/ml01/workspace/ot_perturbation/data/zebrafish/adata_train.h5ad\"\n",
    "adata_test_path = \"/lustre/groups/ml01/workspace/ot_perturbation/data/zebrafish/adata_test.h5ad\"\n",
    "adata_ood_path = \"/lustre/groups/ml01/workspace/ot_perturbation/data/zebrafish/adata_ood.h5ad\"\n",
    "embedding_dict = \"/lustre/groups/ml01/workspace/ot_perturbation/data/zebrafish/ESM2_embeddings.pkl\""
   ]
  },
  {
   "cell_type": "code",
   "execution_count": null,
   "id": "40dc45cf-0535-4af6-85f0-5fb4c311d219",
   "metadata": {},
   "outputs": [],
   "source": [
    "adata_train = sc.read_h5ad(adata_train_path)\n",
    "adata_test = sc.read_h5ad(adata_test_path)\n",
    "adata_ood = sc.read_h5ad(adata_ood_path)\n",
    "\n",
    "del adata_train.obsm['emb_1'], adata_train.obsm['emb_2'], adata_test.obsm['emb_1'], adata_test.obsm['emb_2'], adata_ood.obsm['emb_1'], adata_ood.obsm['emb_2']\n",
    "\n",
    "adata_train.varm[\"X_mean\"] = adata_train.varm[\"X_train_mean\"]\n",
    "adata_test.varm[\"X_mean\"] = adata_test.varm[\"X_train_mean\"]\n",
    "adata_ood.varm[\"X_mean\"] = adata_ood.varm[\"X_train_mean\"]\n",
    "\n",
    "del adata_train.varm[\"X_train_mean\"], adata_test.varm[\"X_train_mean\"], adata_ood.varm[\"X_train_mean\"]\n",
    "    "
   ]
  },
  {
   "cell_type": "code",
   "execution_count": 9,
   "id": "d1e210cf-a530-4169-9f76-705310435179",
   "metadata": {},
   "outputs": [
    {
     "name": "stderr",
     "output_type": "stream",
     "text": [
      "/home/icb/alejandro.tejada/miniforge3/envs/jax/lib/python3.12/site-packages/anndata/_core/anndata.py:1818: UserWarning: Observation names are not unique. To make them unique, call `.obs_names_make_unique`.\n",
      "  utils.warn_names_duplicates(\"obs\")\n"
     ]
    }
   ],
   "source": [
    "adata_train, adata_test, adata_ood = prepare_data(adata_train, adata_test, adata_ood, embedding_dict)\n",
    "\n",
    "adata_train.obsm[\"X_pca_use\"] = adata_train.obsm[\"X_pca\"]\n",
    "adata_test.obsm[\"X_pca_use\"] = adata_test.obsm[\"X_pca\"]\n",
    "adata_ood.obsm[\"X_pca_use\"] = adata_ood.obsm[\"X_pca\"]\n"
   ]
  },
  {
   "cell_type": "code",
   "execution_count": 21,
   "id": "54a7766f-057c-4550-82b2-e41e64272804",
   "metadata": {},
   "outputs": [],
   "source": [
    "cf = cfp.model.CellFlow(adata_train, solver=\"otfm\")\n"
   ]
  },
  {
   "cell_type": "code",
   "execution_count": 30,
   "id": "172ac761-4dd5-4ec4-aecb-589877d45623",
   "metadata": {
    "scrolled": true
   },
   "outputs": [
    {
     "name": "stderr",
     "output_type": "stream",
     "text": [
      "/ictstr01/home/icb/alejandro.tejada/cell_flow_perturbation/src/cfp/data/_datamanager.py:334: SettingWithCopyWarning: \n",
      "A value is trying to be set on a copy of a slice from a DataFrame.\n",
      "Try using .loc[row_indexer,col_indexer] = value instead\n",
      "\n",
      "See the caveats in the documentation: https://pandas.pydata.org/pandas-docs/stable/user_guide/indexing.html#returning-a-view-versus-a-copy\n",
      "  _covariate_data[\"cell_index\"] = _covariate_data.index\n",
      "100%|██████████| 21/21 [00:03<00:00,  5.93it/s]\n"
     ]
    }
   ],
   "source": [
    "# Prepare the training data and perturbation conditions\n",
    "perturbation_covariates = {k: tuple(v) for k, v in dataset[\"perturbation_covariates\"].items()} # gene1, gene2\n",
    "cf.prepare_data(\n",
    "    sample_rep=\"X_pca_use\",\n",
    "    control_key=\"control\",\n",
    "    perturbation_covariates=perturbation_covariates,\n",
    "    perturbation_covariate_reps=dict(dataset[\"perturbation_covariate_reps\"]),    )"
   ]
  },
  {
   "cell_type": "code",
   "execution_count": 38,
   "id": "906e1419-7cc6-4993-af66-690554e96940",
   "metadata": {},
   "outputs": [],
   "source": [
    "match_fn = functools.partial(\n",
    "        solver_utils.match_linear,\n",
    "        epsilon=model[\"epsilon\"],\n",
    "        scale_cost=\"mean\",\n",
    "        tau_a=model[\"tau_a\"],\n",
    "        tau_b=model[\"tau_b\"]\n",
    "    )"
   ]
  },
  {
   "cell_type": "code",
   "execution_count": 39,
   "id": "579ced9c-9ea2-4052-abf1-8cf6e572cbbd",
   "metadata": {},
   "outputs": [],
   "source": [
    "optimizer = optax.MultiSteps(optax.adam(model[\"learning_rate\"]), model[\"multi_steps\"])\n",
    "flow = {model[\"flow_type\"]: model[\"flow_noise\"]}\n",
    "\n",
    "layers_before_pool = model[\"layers_before_pool\"]\n",
    "layers_after_pool = model[\"layers_after_pool\"]"
   ]
  },
  {
   "cell_type": "code",
   "execution_count": 41,
   "id": "4dd5893b-dd4b-4231-a7d0-3d021c9ecf7d",
   "metadata": {},
   "outputs": [],
   "source": [
    "# Prepare the model\n",
    "cf.prepare_model(\n",
    "    encode_conditions=True,\n",
    "    condition_embedding_dim=model[\"condition_embedding_dim\"],\n",
    "    time_encoder_dims=model[\"time_encoder_dims\"],\n",
    "    time_encoder_dropout=model[\"time_encoder_dropout\"],\n",
    "    hidden_dims=model[\"hidden_dims\"],\n",
    "    hidden_dropout=model[\"hidden_dropout\"],\n",
    "    decoder_dims=model[\"decoder_dims\"],\n",
    "    decoder_dropout=model[\"decoder_dropout\"],\n",
    "    pooling=model[\"pooling\"],\n",
    "    layers_before_pool=layers_before_pool,\n",
    "    layers_after_pool=layers_after_pool,\n",
    "    cond_output_dropout=model[\"cond_output_dropout\"],\n",
    "    time_freqs=model[\"time_freqs\"],\n",
    "    match_fn=match_fn,\n",
    "    optimizer=optimizer,\n",
    "    flow=flow,\n",
    ")"
   ]
  },
  {
   "cell_type": "code",
   "execution_count": 46,
   "id": "efb47ba8-62fb-4180-a102-002e3d705be6",
   "metadata": {},
   "outputs": [],
   "source": [
    "ckpt = \"/lustre/groups/ml01/workspace/cell_flow_perturbation/zebrafish/CellFlow.pkl\""
   ]
  },
  {
   "cell_type": "code",
   "execution_count": 73,
   "id": "c26db9e9-9b2d-478b-8567-b21e3056adfc",
   "metadata": {},
   "outputs": [],
   "source": [
    "cf = cf.load(ckpt)"
   ]
  },
  {
   "cell_type": "code",
   "execution_count": 63,
   "id": "fead5b72-47a9-4cc1-a57e-d31fb5a5cb6b",
   "metadata": {},
   "outputs": [],
   "source": [
    "adata_ctrl = adata_train[(adata_train.obs['gene1+gene2'] == 'negative+negative') & (adata_train.obs.timepoint=='18')]"
   ]
  },
  {
   "cell_type": "code",
   "execution_count": 84,
   "id": "ee51ea89-1a57-4abb-b845-c388f2488301",
   "metadata": {},
   "outputs": [],
   "source": [
    "m = adata_ctrl.shape[0]\n",
    "\n",
    "test_condition_df = pd.DataFrame({\n",
    "    'gene1': ['negative'] * m,\n",
    "    'gene2': ['negative'] * m,\n",
    "    'logtimepoint': [3.871201] * m\n",
    "})\n"
   ]
  },
  {
   "cell_type": "code",
   "execution_count": 85,
   "id": "52e362cb-9518-4eae-b7db-54894347aa85",
   "metadata": {},
   "outputs": [
    {
     "name": "stderr",
     "output_type": "stream",
     "text": [
      "100%|██████████| 1/1 [00:00<00:00, 232.00it/s]\n"
     ]
    }
   ],
   "source": [
    "# Make predictions\n",
    "X_pca_pred = cf.predict(\n",
    "    adata_ctrl,\n",
    "    covariate_data=test_condition_df,\n",
    "    sample_rep=\"X_pca_use\",\n",
    ")"
   ]
  },
  {
   "cell_type": "code",
   "execution_count": 86,
   "id": "b923289d-aa2e-4c9a-a7a0-8fb3eda03fea",
   "metadata": {},
   "outputs": [
    {
     "name": "stdout",
     "output_type": "stream",
     "text": [
      "('negative', 'negative')\n"
     ]
    }
   ],
   "source": [
    "for key, value in X_pca_pred.items():\n",
    "    print(key)"
   ]
  },
  {
   "cell_type": "code",
   "execution_count": 82,
   "id": "6ddd2f45-e1aa-4380-ab0e-060e54a4d924",
   "metadata": {},
   "outputs": [
    {
     "data": {
      "text/plain": [
       "array([[-1.38737932e-02, -6.97984397e-02, -6.22924685e-01, ...,\n",
       "         3.24704319e-01, -2.05856562e-01,  4.68166731e-02],\n",
       "       [ 2.96986639e-01, -1.32533297e-01, -7.01308668e-01, ...,\n",
       "         1.09518096e-01,  3.01962703e-01, -3.95097733e-01],\n",
       "       [ 9.71315444e-01, -3.21484655e-01, -4.55359876e-01, ...,\n",
       "         2.24381387e-01, -2.26696627e-03,  1.69605568e-01],\n",
       "       ...,\n",
       "       [ 1.03912401e+00, -5.24812639e-01,  2.18347326e-01, ...,\n",
       "        -1.00334153e-01, -5.24305217e-02, -7.42635578e-02],\n",
       "       [-7.29464531e-01, -1.31363618e+00,  7.38438249e-01, ...,\n",
       "         1.37648329e-01,  1.00623734e-01, -2.88038373e-01],\n",
       "       [-2.12585020e+00, -2.45961952e+00,  3.79014421e+00, ...,\n",
       "         2.32681543e-01, -6.30738679e-03,  8.80552903e-02]], dtype=float32)"
      ]
     },
     "execution_count": 82,
     "metadata": {},
     "output_type": "execute_result"
    }
   ],
   "source": [
    "X_pca_pred[('negative', 'negative')]"
   ]
  },
  {
   "cell_type": "code",
   "execution_count": 87,
   "id": "e7ee79fd-9296-452f-8c88-1116e441abcf",
   "metadata": {},
   "outputs": [
    {
     "data": {
      "text/plain": [
       "array([[-1.38737932e-02, -6.97984397e-02, -6.22924685e-01, ...,\n",
       "         3.24704319e-01, -2.05856562e-01,  4.68166731e-02],\n",
       "       [ 2.96986639e-01, -1.32533297e-01, -7.01308668e-01, ...,\n",
       "         1.09518096e-01,  3.01962703e-01, -3.95097733e-01],\n",
       "       [ 9.71315444e-01, -3.21484655e-01, -4.55359876e-01, ...,\n",
       "         2.24381387e-01, -2.26696627e-03,  1.69605568e-01],\n",
       "       ...,\n",
       "       [ 1.03912401e+00, -5.24812639e-01,  2.18347326e-01, ...,\n",
       "        -1.00334153e-01, -5.24305217e-02, -7.42635578e-02],\n",
       "       [-7.29464531e-01, -1.31363618e+00,  7.38438249e-01, ...,\n",
       "         1.37648329e-01,  1.00623734e-01, -2.88038373e-01],\n",
       "       [-2.12585020e+00, -2.45961952e+00,  3.79014421e+00, ...,\n",
       "         2.32681543e-01, -6.30738679e-03,  8.80552903e-02]], dtype=float32)"
      ]
     },
     "execution_count": 87,
     "metadata": {},
     "output_type": "execute_result"
    }
   ],
   "source": [
    "X_pca_pred[('negative', 'negative')]"
   ]
  },
  {
   "cell_type": "code",
   "execution_count": 3,
   "id": "3c6ce75e-3ad0-4841-ab28-394339d2c8f7",
   "metadata": {},
   "outputs": [],
   "source": [
    "pq = pd.read_parquet('/lustre/groups/ml01/projects/2023_nicheformer/attention/male/train/tokens-0.parquet')"
   ]
  },
  {
   "cell_type": "code",
   "execution_count": 2,
   "id": "d3118e1a-5dbe-40e0-8245-025281c1b019",
   "metadata": {},
   "outputs": [],
   "source": [
    "import pandas as pd"
   ]
  },
  {
   "cell_type": "code",
   "execution_count": 4,
   "id": "80e486c5-2320-4fe3-b16d-9712578b2933",
   "metadata": {},
   "outputs": [
    {
     "data": {
      "text/html": [
       "<div>\n",
       "<style scoped>\n",
       "    .dataframe tbody tr th:only-of-type {\n",
       "        vertical-align: middle;\n",
       "    }\n",
       "\n",
       "    .dataframe tbody tr th {\n",
       "        vertical-align: top;\n",
       "    }\n",
       "\n",
       "    .dataframe thead th {\n",
       "        text-align: right;\n",
       "    }\n",
       "</style>\n",
       "<table border=\"1\" class=\"dataframe\">\n",
       "  <thead>\n",
       "    <tr style=\"text-align: right;\">\n",
       "      <th></th>\n",
       "      <th>assay</th>\n",
       "      <th>specie</th>\n",
       "      <th>modality</th>\n",
       "      <th>CCF_acronym</th>\n",
       "      <th>X</th>\n",
       "    </tr>\n",
       "  </thead>\n",
       "  <tbody>\n",
       "    <tr>\n",
       "      <th>0</th>\n",
       "      <td>7</td>\n",
       "      <td>6</td>\n",
       "      <td>4</td>\n",
       "      <td>LPO</td>\n",
       "      <td>[12262, 11729, 10645, 13432, 8170, 8616, 3194,...</td>\n",
       "    </tr>\n",
       "    <tr>\n",
       "      <th>1</th>\n",
       "      <td>7</td>\n",
       "      <td>6</td>\n",
       "      <td>4</td>\n",
       "      <td>OT</td>\n",
       "      <td>[12262, 5037, 13961, 3483, 13262, 16091, 8286,...</td>\n",
       "    </tr>\n",
       "    <tr>\n",
       "      <th>2</th>\n",
       "      <td>7</td>\n",
       "      <td>6</td>\n",
       "      <td>4</td>\n",
       "      <td>NA</td>\n",
       "      <td>[630, 12434, 16016, 7885, 7554, 4601, 13961, 1...</td>\n",
       "    </tr>\n",
       "    <tr>\n",
       "      <th>3</th>\n",
       "      <td>7</td>\n",
       "      <td>6</td>\n",
       "      <td>4</td>\n",
       "      <td>root</td>\n",
       "      <td>[10073, 45, 12262, 7915, 394, 6009, 9627, 1234...</td>\n",
       "    </tr>\n",
       "    <tr>\n",
       "      <th>4</th>\n",
       "      <td>7</td>\n",
       "      <td>6</td>\n",
       "      <td>4</td>\n",
       "      <td>MPO</td>\n",
       "      <td>[13961, 9627, 10073, 6009, 394, 10146, 12738, ...</td>\n",
       "    </tr>\n",
       "    <tr>\n",
       "      <th>...</th>\n",
       "      <td>...</td>\n",
       "      <td>...</td>\n",
       "      <td>...</td>\n",
       "      <td>...</td>\n",
       "      <td>...</td>\n",
       "    </tr>\n",
       "    <tr>\n",
       "      <th>8316</th>\n",
       "      <td>7</td>\n",
       "      <td>6</td>\n",
       "      <td>4</td>\n",
       "      <td>ADP</td>\n",
       "      <td>[9213, 1669, 5610, 10889, 686, 14879, 5543, 48...</td>\n",
       "    </tr>\n",
       "    <tr>\n",
       "      <th>8317</th>\n",
       "      <td>7</td>\n",
       "      <td>6</td>\n",
       "      <td>4</td>\n",
       "      <td>root</td>\n",
       "      <td>[5543, 1669, 12464, 10573, 3457, 8532, 9239, 1...</td>\n",
       "    </tr>\n",
       "    <tr>\n",
       "      <th>8318</th>\n",
       "      <td>7</td>\n",
       "      <td>6</td>\n",
       "      <td>4</td>\n",
       "      <td>aco</td>\n",
       "      <td>[12262, 5543, 394, 6009, 362, 13944, 15011, 67...</td>\n",
       "    </tr>\n",
       "    <tr>\n",
       "      <th>8319</th>\n",
       "      <td>7</td>\n",
       "      <td>6</td>\n",
       "      <td>4</td>\n",
       "      <td>SI</td>\n",
       "      <td>[5543, 9213, 12235, 3194, 1332, 13111, 12738, ...</td>\n",
       "    </tr>\n",
       "    <tr>\n",
       "      <th>8320</th>\n",
       "      <td>7</td>\n",
       "      <td>6</td>\n",
       "      <td>4</td>\n",
       "      <td>MPO</td>\n",
       "      <td>[1669, 5543, 11803, 4102, 11682, 11179, 194, 6...</td>\n",
       "    </tr>\n",
       "  </tbody>\n",
       "</table>\n",
       "<p>8321 rows × 5 columns</p>\n",
       "</div>"
      ],
      "text/plain": [
       "      assay  specie  modality CCF_acronym  \\\n",
       "0         7       6         4         LPO   \n",
       "1         7       6         4          OT   \n",
       "2         7       6         4          NA   \n",
       "3         7       6         4        root   \n",
       "4         7       6         4         MPO   \n",
       "...     ...     ...       ...         ...   \n",
       "8316      7       6         4         ADP   \n",
       "8317      7       6         4        root   \n",
       "8318      7       6         4         aco   \n",
       "8319      7       6         4          SI   \n",
       "8320      7       6         4         MPO   \n",
       "\n",
       "                                                      X  \n",
       "0     [12262, 11729, 10645, 13432, 8170, 8616, 3194,...  \n",
       "1     [12262, 5037, 13961, 3483, 13262, 16091, 8286,...  \n",
       "2     [630, 12434, 16016, 7885, 7554, 4601, 13961, 1...  \n",
       "3     [10073, 45, 12262, 7915, 394, 6009, 9627, 1234...  \n",
       "4     [13961, 9627, 10073, 6009, 394, 10146, 12738, ...  \n",
       "...                                                 ...  \n",
       "8316  [9213, 1669, 5610, 10889, 686, 14879, 5543, 48...  \n",
       "8317  [5543, 1669, 12464, 10573, 3457, 8532, 9239, 1...  \n",
       "8318  [12262, 5543, 394, 6009, 362, 13944, 15011, 67...  \n",
       "8319  [5543, 9213, 12235, 3194, 1332, 13111, 12738, ...  \n",
       "8320  [1669, 5543, 11803, 4102, 11682, 11179, 194, 6...  \n",
       "\n",
       "[8321 rows x 5 columns]"
      ]
     },
     "execution_count": 4,
     "metadata": {},
     "output_type": "execute_result"
    }
   ],
   "source": [
    "pq"
   ]
  },
  {
   "cell_type": "code",
   "execution_count": null,
   "id": "cb66d63a-e725-4333-a680-62434b5c559a",
   "metadata": {},
   "outputs": [],
   "source": []
  }
 ],
 "metadata": {
  "kernelspec": {
   "display_name": "Python 3 (ipykernel)",
   "language": "python",
   "name": "python3"
  },
  "language_info": {
   "codemirror_mode": {
    "name": "ipython",
    "version": 3
   },
   "file_extension": ".py",
   "mimetype": "text/x-python",
   "name": "python",
   "nbconvert_exporter": "python",
   "pygments_lexer": "ipython3",
   "version": "3.12.3"
  }
 },
 "nbformat": 4,
 "nbformat_minor": 5
}
