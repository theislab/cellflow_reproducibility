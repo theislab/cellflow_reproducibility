{
 "cells": [
  {
   "cell_type": "code",
   "execution_count": 37,
   "id": "5c7598c6-5699-42af-93ec-7f9fd0cdd49f",
   "metadata": {},
   "outputs": [],
   "source": [
    "import cfp\n",
    "import scanpy as sc\n",
    "import numpy as np\n",
    "import pandas as pd\n",
    "import anndata as ad\n",
    "import os \n",
    "import pickle\n",
    "import yaml\n",
    "import functools\n",
    "from ott.solvers import utils as solver_utils\n",
    "import optax"
   ]
  },
  {
   "cell_type": "code",
   "execution_count": 29,
   "id": "a92cdc64-ab68-4b90-bade-e8950a2d239e",
   "metadata": {},
   "outputs": [],
   "source": [
    "with open('/home/icb/alejandro.tejada/ot_pert_reproducibility/runs_otfm/conf/model/zebrafish.yaml', 'r') as file:\n",
    "    model = yaml.safe_load(file)\n",
    "\n",
    "with open('/home/icb/alejandro.tejada/ot_pert_reproducibility/runs_otfm/conf/dataset/zebrafish.yaml', 'r') as file:\n",
    "    dataset = yaml.safe_load(file)"
   ]
  },
  {
   "cell_type": "code",
   "execution_count": 2,
   "id": "6d10ddf3-62b8-4670-90b0-3fd47fe115e8",
   "metadata": {},
   "outputs": [],
   "source": [
    "def prepare_data(adata_train, adata_test, adata_ood, path_dict):\n",
    "\n",
    "    adata_train.obs['control'] = False\n",
    "    adata_test.obs['control'] = False\n",
    "    adata_ood.obs['control'] = False\n",
    "\n",
    "    adata_train.obs['logtimepoint'] = np.log(pd.to_numeric(adata_train.obs['timepoint']))\n",
    "    adata_test.obs['logtimepoint'] = np.log(pd.to_numeric(adata_test.obs['timepoint']))\n",
    "    adata_ood.obs['logtimepoint'] = np.log(pd.to_numeric(adata_ood.obs['timepoint']))\n",
    "\n",
    "    adata_train.obs.loc[(adata_train.obs['gene1+gene2'] == 'negative+negative') & (adata_train.obs['timepoint'] == '18'), 'control'] = True \n",
    "\n",
    "    adata_test.obs.loc[(adata_test.obs['gene1+gene2'] == 'negative+negative') & (adata_test.obs['timepoint'] == '18'), 'control'] = True \n",
    "\n",
    "    adata_ood.obs.loc[(adata_ood.obs['gene1+gene2'] == 'negative+negative') & (adata_ood.obs['timepoint'] == '18'), 'control'] = True \n",
    "    \n",
    "    adata_ood = ad.concat((adata_ood, adata_test[adata_test.obs.control == True])) # add controls to ood\n",
    "\n",
    "    file_path = os.path.join(path_dict)\n",
    "\n",
    "    with open(file_path, 'rb') as file:\n",
    "        gene_dict = pickle.load(file) \n",
    "\n",
    "    adata_train.uns['crispr_rep'] = gene_dict\n",
    "    adata_test.uns['crispr_rep'] = gene_dict\n",
    "    adata_ood.uns['crispr_rep'] = gene_dict\n",
    "\n",
    "    return adata_train, adata_test, adata_ood"
   ]
  },
  {
   "cell_type": "code",
   "execution_count": 3,
   "id": "cb0f4c6d-9eb8-4e4f-a687-5e192b09e0e4",
   "metadata": {},
   "outputs": [],
   "source": [
    "adata_train_path = \"/lustre/groups/ml01/workspace/ot_perturbation/data/zebrafish/adata_train.h5ad\"\n",
    "adata_test_path = \"/lustre/groups/ml01/workspace/ot_perturbation/data/zebrafish/adata_test.h5ad\"\n",
    "adata_ood_path = \"/lustre/groups/ml01/workspace/ot_perturbation/data/zebrafish/adata_ood.h5ad\"\n",
    "embedding_dict = \"/lustre/groups/ml01/workspace/ot_perturbation/data/zebrafish/ESM2_embeddings.pkl\""
   ]
  },
  {
   "cell_type": "code",
   "execution_count": null,
   "id": "40dc45cf-0535-4af6-85f0-5fb4c311d219",
   "metadata": {},
   "outputs": [],
   "source": [
    "adata_train = sc.read_h5ad(adata_train_path)\n",
    "adata_test = sc.read_h5ad(adata_test_path)\n",
    "adata_ood = sc.read_h5ad(adata_ood_path)\n",
    "\n",
    "del adata_train.obsm['emb_1'], adata_train.obsm['emb_2'], adata_test.obsm['emb_1'], adata_test.obsm['emb_2'], adata_ood.obsm['emb_1'], adata_ood.obsm['emb_2']\n",
    "\n",
    "adata_train.varm[\"X_mean\"] = adata_train.varm[\"X_train_mean\"]\n",
    "adata_test.varm[\"X_mean\"] = adata_test.varm[\"X_train_mean\"]\n",
    "adata_ood.varm[\"X_mean\"] = adata_ood.varm[\"X_train_mean\"]\n",
    "\n",
    "del adata_train.varm[\"X_train_mean\"], adata_test.varm[\"X_train_mean\"], adata_ood.varm[\"X_train_mean\"]\n",
    "    "
   ]
  },
  {
   "cell_type": "code",
   "execution_count": 9,
   "id": "d1e210cf-a530-4169-9f76-705310435179",
   "metadata": {},
   "outputs": [
    {
     "name": "stderr",
     "output_type": "stream",
     "text": [
      "/home/icb/alejandro.tejada/miniforge3/envs/jax/lib/python3.12/site-packages/anndata/_core/anndata.py:1818: UserWarning: Observation names are not unique. To make them unique, call `.obs_names_make_unique`.\n",
      "  utils.warn_names_duplicates(\"obs\")\n"
     ]
    }
   ],
   "source": [
    "adata_train, adata_test, adata_ood = prepare_data(adata_train, adata_test, adata_ood, embedding_dict)\n",
    "\n",
    "adata_train.obsm[\"X_pca_use\"] = adata_train.obsm[\"X_pca\"]\n",
    "adata_test.obsm[\"X_pca_use\"] = adata_test.obsm[\"X_pca\"]\n",
    "adata_ood.obsm[\"X_pca_use\"] = adata_ood.obsm[\"X_pca\"]\n"
   ]
  },
  {
   "cell_type": "code",
   "execution_count": 21,
   "id": "54a7766f-057c-4550-82b2-e41e64272804",
   "metadata": {},
   "outputs": [],
   "source": [
    "cf = cfp.model.CellFlow(adata_train, solver=\"otfm\")\n"
   ]
  },
  {
   "cell_type": "code",
   "execution_count": 30,
   "id": "172ac761-4dd5-4ec4-aecb-589877d45623",
   "metadata": {
    "scrolled": true
   },
   "outputs": [
    {
     "name": "stderr",
     "output_type": "stream",
     "text": [
      "/ictstr01/home/icb/alejandro.tejada/cell_flow_perturbation/src/cfp/data/_datamanager.py:334: SettingWithCopyWarning: \n",
      "A value is trying to be set on a copy of a slice from a DataFrame.\n",
      "Try using .loc[row_indexer,col_indexer] = value instead\n",
      "\n",
      "See the caveats in the documentation: https://pandas.pydata.org/pandas-docs/stable/user_guide/indexing.html#returning-a-view-versus-a-copy\n",
      "  _covariate_data[\"cell_index\"] = _covariate_data.index\n",
      "100%|██████████| 21/21 [00:03<00:00,  5.93it/s]\n"
     ]
    }
   ],
   "source": [
    "# Prepare the training data and perturbation conditions\n",
    "perturbation_covariates = {k: tuple(v) for k, v in dataset[\"perturbation_covariates\"].items()} # gene1, gene2\n",
    "cf.prepare_data(\n",
    "    sample_rep=\"X_pca_use\",\n",
    "    control_key=\"control\",\n",
    "    perturbation_covariates=perturbation_covariates,\n",
    "    perturbation_covariate_reps=dict(dataset[\"perturbation_covariate_reps\"]),    )"
   ]
  },
  {
   "cell_type": "code",
   "execution_count": 38,
   "id": "906e1419-7cc6-4993-af66-690554e96940",
   "metadata": {},
   "outputs": [],
   "source": [
    "match_fn = functools.partial(\n",
    "        solver_utils.match_linear,\n",
    "        epsilon=model[\"epsilon\"],\n",
    "        scale_cost=\"mean\",\n",
    "        tau_a=model[\"tau_a\"],\n",
    "        tau_b=model[\"tau_b\"]\n",
    "    )"
   ]
  },
  {
   "cell_type": "code",
   "execution_count": 39,
   "id": "579ced9c-9ea2-4052-abf1-8cf6e572cbbd",
   "metadata": {},
   "outputs": [],
   "source": [
    "optimizer = optax.MultiSteps(optax.adam(model[\"learning_rate\"]), model[\"multi_steps\"])\n",
    "flow = {model[\"flow_type\"]: model[\"flow_noise\"]}\n",
    "\n",
    "layers_before_pool = model[\"layers_before_pool\"]\n",
    "layers_after_pool = model[\"layers_after_pool\"]"
   ]
  },
  {
   "cell_type": "code",
   "execution_count": 41,
   "id": "4dd5893b-dd4b-4231-a7d0-3d021c9ecf7d",
   "metadata": {},
   "outputs": [],
   "source": [
    "# Prepare the model\n",
    "cf.prepare_model(\n",
    "    encode_conditions=True,\n",
    "    condition_embedding_dim=model[\"condition_embedding_dim\"],\n",
    "    time_encoder_dims=model[\"time_encoder_dims\"],\n",
    "    time_encoder_dropout=model[\"time_encoder_dropout\"],\n",
    "    hidden_dims=model[\"hidden_dims\"],\n",
    "    hidden_dropout=model[\"hidden_dropout\"],\n",
    "    decoder_dims=model[\"decoder_dims\"],\n",
    "    decoder_dropout=model[\"decoder_dropout\"],\n",
    "    pooling=model[\"pooling\"],\n",
    "    layers_before_pool=layers_before_pool,\n",
    "    layers_after_pool=layers_after_pool,\n",
    "    cond_output_dropout=model[\"cond_output_dropout\"],\n",
    "    time_freqs=model[\"time_freqs\"],\n",
    "    match_fn=match_fn,\n",
    "    optimizer=optimizer,\n",
    "    flow=flow,\n",
    ")"
   ]
  },
  {
   "cell_type": "code",
   "execution_count": 46,
   "id": "efb47ba8-62fb-4180-a102-002e3d705be6",
   "metadata": {},
   "outputs": [],
   "source": [
    "ckpt = \"/lustre/groups/ml01/workspace/cell_flow_perturbation/zebrafish/CellFlow.pkl\""
   ]
  },
  {
   "cell_type": "code",
   "execution_count": 47,
   "id": "c26db9e9-9b2d-478b-8567-b21e3056adfc",
   "metadata": {},
   "outputs": [
    {
     "data": {
      "text/plain": [
       "<cfp.model._cellflow.CellFlow at 0x7f214cda4ec0>"
      ]
     },
     "execution_count": 47,
     "metadata": {},
     "output_type": "execute_result"
    }
   ],
   "source": [
    "cf.load(ckpt)"
   ]
  },
  {
   "cell_type": "code",
   "execution_count": null,
   "id": "784a5221-fa92-4af1-a594-0a165d5f20f5",
   "metadata": {},
   "outputs": [],
   "source": []
  },
  {
   "cell_type": "code",
   "execution_count": null,
   "id": "7f3e900d-fa01-4599-8fff-90f336707643",
   "metadata": {},
   "outputs": [],
   "source": []
  },
  {
   "cell_type": "code",
   "execution_count": 63,
   "id": "fead5b72-47a9-4cc1-a57e-d31fb5a5cb6b",
   "metadata": {},
   "outputs": [],
   "source": [
    "adata_ctrl = adata_train[(adata_train.obs['gene1+gene2'] == 'negative+negative') & (adata_train.obs.timepoint=='18')]"
   ]
  },
  {
   "cell_type": "code",
   "execution_count": null,
   "id": "7a33a9f6-fb75-4b46-9dd4-38fa1516c458",
   "metadata": {},
   "outputs": [],
   "source": [
    "adata_train.obs[adata_train.obs.control == True]"
   ]
  },
  {
   "cell_type": "code",
   "execution_count": null,
   "id": "948dcc80-4c84-4191-a711-e1005b7cdb99",
   "metadata": {},
   "outputs": [],
   "source": [
    "# Make predictions\n",
    "X_pca_pred = cf.predict(\n",
    "    adata_ctrl,\n",
    "    condition_data=test_condition_df,\n",
    ")"
   ]
  },
  {
   "cell_type": "code",
   "execution_count": null,
   "id": "ee51ea89-1a57-4abb-b845-c388f2488301",
   "metadata": {},
   "outputs": [],
   "source": []
  }
 ],
 "metadata": {
  "kernelspec": {
   "display_name": "Python 3 (ipykernel)",
   "language": "python",
   "name": "python3"
  },
  "language_info": {
   "codemirror_mode": {
    "name": "ipython",
    "version": 3
   },
   "file_extension": ".py",
   "mimetype": "text/x-python",
   "name": "python",
   "nbconvert_exporter": "python",
   "pygments_lexer": "ipython3",
   "version": "3.12.3"
  }
 },
 "nbformat": 4,
 "nbformat_minor": 5
}
