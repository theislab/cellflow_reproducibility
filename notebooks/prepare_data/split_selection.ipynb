{
 "cells": [
  {
   "cell_type": "code",
   "execution_count": 2,
   "id": "5988938a-3400-4c6b-8628-70320c2d0a4d",
   "metadata": {},
   "outputs": [],
   "source": [
    "import scanpy as sc\n",
    "#import pertpy as pt\n",
    "import numpy as np\n",
    "import pandas as pd\n",
    "from sklearn.metrics import r2_score\n",
    "from tqdm import tqdm\n",
    "import matplotlib.pyplot as plt"
   ]
  },
  {
   "cell_type": "code",
   "execution_count": 2,
   "id": "0a6a9b24-3963-41fe-86d6-69bacf1951ad",
   "metadata": {},
   "outputs": [
    {
     "name": "stdout",
     "output_type": "stream",
     "text": [
      "0.7.0\n"
     ]
    }
   ],
   "source": [
    "print(pt.__version__)"
   ]
  },
  {
   "cell_type": "markdown",
   "id": "ed1aa4a3-d09e-4a68-9f37-c72b9eee5fc1",
   "metadata": {},
   "source": [
    "## Sciplex-3"
   ]
  },
  {
   "cell_type": "code",
   "execution_count": 3,
   "id": "6666f62f-9a54-4776-8fb6-e17720454c31",
   "metadata": {},
   "outputs": [],
   "source": [
    "adata = pt.data.sciplex3_raw()"
   ]
  },
  {
   "cell_type": "code",
   "execution_count": 4,
   "id": "740db1d3-91f5-4a89-b76e-c93be43f163b",
   "metadata": {},
   "outputs": [
    {
     "data": {
      "text/plain": [
       "AnnData object with n_obs × n_vars = 581777 × 58347\n",
       "    obs: 'cell_type', 'dose', 'dose_character', 'dose_pattern', 'g1s_score', 'g2m_score', 'pathway', 'pathway_level_1', 'pathway_level_2', 'product_dose', 'product_name', 'proliferation_index', 'replicate', 'size_factor', 'target', 'vehicle'\n",
       "    var: 'id', 'num_cells_expressed-0-0', 'num_cells_expressed-1-0', 'num_cells_expressed-1'"
      ]
     },
     "execution_count": 4,
     "metadata": {},
     "output_type": "execute_result"
    }
   ],
   "source": [
    "adata"
   ]
  },
  {
   "cell_type": "code",
   "execution_count": 5,
   "id": "b1701698-2314-43f9-87ef-ffcad0fc1d89",
   "metadata": {},
   "outputs": [],
   "source": [
    "sc.pp.normalize_total(adata)\n",
    "sc.pp.log1p(adata)"
   ]
  },
  {
   "cell_type": "code",
   "execution_count": 6,
   "id": "aed2e650-d297-4d67-8d03-c96a040c86a0",
   "metadata": {},
   "outputs": [],
   "source": [
    "sc.pp.highly_variable_genes(adata, inplace=True, n_top_genes=2000)"
   ]
  },
  {
   "cell_type": "code",
   "execution_count": 7,
   "id": "6e11ca7b-a2b8-4d28-9a86-a704e7c5389f",
   "metadata": {},
   "outputs": [
    {
     "data": {
      "text/plain": [
       "AnnData object with n_obs × n_vars = 581777 × 58347\n",
       "    obs: 'cell_type', 'dose', 'dose_character', 'dose_pattern', 'g1s_score', 'g2m_score', 'pathway', 'pathway_level_1', 'pathway_level_2', 'product_dose', 'product_name', 'proliferation_index', 'replicate', 'size_factor', 'target', 'vehicle'\n",
       "    var: 'id', 'num_cells_expressed-0-0', 'num_cells_expressed-1-0', 'num_cells_expressed-1', 'highly_variable', 'means', 'dispersions', 'dispersions_norm'\n",
       "    uns: 'log1p', 'hvg'"
      ]
     },
     "execution_count": 7,
     "metadata": {},
     "output_type": "execute_result"
    }
   ],
   "source": [
    "adata"
   ]
  },
  {
   "cell_type": "code",
   "execution_count": 8,
   "id": "3209ef59-1e6e-49d0-acce-9d4ee006af88",
   "metadata": {},
   "outputs": [],
   "source": [
    "adata = adata[:,adata.var[\"highly_variable\"]==True]"
   ]
  },
  {
   "cell_type": "code",
   "execution_count": 9,
   "id": "26dc179e-0d12-43e5-9e3f-c06add7cf47a",
   "metadata": {},
   "outputs": [
    {
     "data": {
      "text/plain": [
       "View of AnnData object with n_obs × n_vars = 581777 × 2000\n",
       "    obs: 'cell_type', 'dose', 'dose_character', 'dose_pattern', 'g1s_score', 'g2m_score', 'pathway', 'pathway_level_1', 'pathway_level_2', 'product_dose', 'product_name', 'proliferation_index', 'replicate', 'size_factor', 'target', 'vehicle'\n",
       "    var: 'id', 'num_cells_expressed-0-0', 'num_cells_expressed-1-0', 'num_cells_expressed-1', 'highly_variable', 'means', 'dispersions', 'dispersions_norm'\n",
       "    uns: 'log1p', 'hvg'"
      ]
     },
     "execution_count": 9,
     "metadata": {},
     "output_type": "execute_result"
    }
   ],
   "source": [
    "adata"
   ]
  },
  {
   "cell_type": "code",
   "execution_count": 10,
   "id": "f7ba0a84-8d57-4c56-845c-0256deeaf1c9",
   "metadata": {},
   "outputs": [
    {
     "name": "stderr",
     "output_type": "stream",
     "text": [
      "/tmp/ipykernel_1021055/3465839703.py:1: ImplicitModificationWarning: Trying to modify attribute `.obs` of view, initializing view as actual.\n",
      "  adata.obs[\"perturbation\"] = adata.obs[\"product_name\"]\n"
     ]
    }
   ],
   "source": [
    "adata.obs[\"perturbation\"] = adata.obs[\"product_name\"]\n",
    "adata.obs[\"cell_line\"] = adata.obs[\"cell_type\"]"
   ]
  },
  {
   "cell_type": "code",
   "execution_count": 91,
   "id": "c6130a8e-581b-4406-88bf-bd87c3087ae0",
   "metadata": {},
   "outputs": [],
   "source": [
    "adata_control = adata[adata.obs.perturbation == 'Vehicle']\n",
    "adata_perturbed = adata[adata.obs.perturbation != 'Vehicle']"
   ]
  },
  {
   "cell_type": "code",
   "execution_count": 92,
   "id": "557a2983-8725-4f85-ba4e-4a735421a911",
   "metadata": {},
   "outputs": [
    {
     "data": {
      "text/plain": [
       "View of AnnData object with n_obs × n_vars = 13004 × 2000\n",
       "    obs: 'cell_type', 'dose', 'dose_character', 'dose_pattern', 'g1s_score', 'g2m_score', 'pathway', 'pathway_level_1', 'pathway_level_2', 'product_dose', 'product_name', 'proliferation_index', 'replicate', 'size_factor', 'target', 'vehicle', 'perturbation', 'cell_line'\n",
       "    var: 'id', 'num_cells_expressed-0-0', 'num_cells_expressed-1-0', 'num_cells_expressed-1', 'highly_variable', 'means', 'dispersions', 'dispersions_norm'\n",
       "    uns: 'log1p', 'hvg'"
      ]
     },
     "execution_count": 92,
     "metadata": {},
     "output_type": "execute_result"
    }
   ],
   "source": [
    "adata_control"
   ]
  },
  {
   "cell_type": "code",
   "execution_count": 93,
   "id": "bb50ad35-686c-4006-83b0-5799f1c73505",
   "metadata": {},
   "outputs": [
    {
     "name": "stderr",
     "output_type": "stream",
     "text": [
      "/tmp/ipykernel_1021055/3585228133.py:1: ImplicitModificationWarning: Setting element `.varm['X_train_mean']` of view, initializing view as actual.\n",
      "  adata_control.varm[\"X_train_mean\"] = adata_control.X.mean(axis=0).T\n"
     ]
    }
   ],
   "source": [
    "adata_control.varm[\"X_train_mean\"] = adata_control.X.mean(axis=0).T"
   ]
  },
  {
   "cell_type": "code",
   "execution_count": 94,
   "id": "15debbb8-55db-4782-9487-c7dc8fb68b5f",
   "metadata": {},
   "outputs": [],
   "source": [
    "from scipy.sparse import csr_matrix, vstack\n",
    "\n",
    "train_mean = adata_control.varm[\"X_train_mean\"].T\n",
    "adata_control.layers[\"centered_X\"] = csr_matrix(adata_control.X.A - train_mean)"
   ]
  },
  {
   "cell_type": "code",
   "execution_count": 95,
   "id": "8c10f683-8449-49b5-9a6b-a1cbf247e6b1",
   "metadata": {},
   "outputs": [],
   "source": [
    "sc.pp.pca(adata_control, layer=\"centered_X\", zero_center=False, n_comps=50)"
   ]
  },
  {
   "cell_type": "code",
   "execution_count": 96,
   "id": "fe64dd1d-0e68-4143-9205-52d308a01059",
   "metadata": {},
   "outputs": [
    {
     "data": {
      "text/plain": [
       "AnnData object with n_obs × n_vars = 13004 × 2000\n",
       "    obs: 'cell_type', 'dose', 'dose_character', 'dose_pattern', 'g1s_score', 'g2m_score', 'pathway', 'pathway_level_1', 'pathway_level_2', 'product_dose', 'product_name', 'proliferation_index', 'replicate', 'size_factor', 'target', 'vehicle', 'perturbation', 'cell_line'\n",
       "    var: 'id', 'num_cells_expressed-0-0', 'num_cells_expressed-1-0', 'num_cells_expressed-1', 'highly_variable', 'means', 'dispersions', 'dispersions_norm'\n",
       "    uns: 'log1p', 'hvg', 'pca'\n",
       "    obsm: 'X_pca'\n",
       "    varm: 'X_train_mean', 'PCs'\n",
       "    layers: 'centered_X'"
      ]
     },
     "execution_count": 96,
     "metadata": {},
     "output_type": "execute_result"
    }
   ],
   "source": [
    "adata_control"
   ]
  },
  {
   "cell_type": "code",
   "execution_count": 126,
   "id": "14874478-fbf6-41f6-b87f-5f48091c5491",
   "metadata": {},
   "outputs": [],
   "source": [
    "decoded_control = np.matmul(adata_control.obsm[\"X_pca\"], adata_control.varm[\"PCs\"].T)"
   ]
  },
  {
   "cell_type": "code",
   "execution_count": 127,
   "id": "41aff74a-3e23-4800-a6d4-4b9d7344124c",
   "metadata": {},
   "outputs": [
    {
     "data": {
      "text/plain": [
       "(13004, 2000)"
      ]
     },
     "execution_count": 127,
     "metadata": {},
     "output_type": "execute_result"
    }
   ],
   "source": [
    "decoded_control.shape"
   ]
  },
  {
   "cell_type": "code",
   "execution_count": 128,
   "id": "1a7f2e69-a911-4892-a306-5b033510527c",
   "metadata": {},
   "outputs": [
    {
     "data": {
      "text/plain": [
       "(1, 2000)"
      ]
     },
     "execution_count": 128,
     "metadata": {},
     "output_type": "execute_result"
    }
   ],
   "source": [
    "adata_control.varm[\"X_train_mean\"].T.shape"
   ]
  },
  {
   "cell_type": "code",
   "execution_count": 129,
   "id": "26f08046-9e56-413e-a518-cf56abc9a1fe",
   "metadata": {},
   "outputs": [],
   "source": [
    "decoded_control = decoded_control + adata_control.varm[\"X_train_mean\"].T"
   ]
  },
  {
   "cell_type": "code",
   "execution_count": 130,
   "id": "fa89f97b-b657-40e3-ace4-306dd02c7340",
   "metadata": {},
   "outputs": [
    {
     "data": {
      "text/plain": [
       "(13004, 2000)"
      ]
     },
     "execution_count": 130,
     "metadata": {},
     "output_type": "execute_result"
    }
   ],
   "source": [
    "decoded_control.shape"
   ]
  },
  {
   "cell_type": "code",
   "execution_count": 131,
   "id": "8e47b1a6-ecae-47ae-b5f8-bb4e4f2f88f1",
   "metadata": {},
   "outputs": [],
   "source": [
    "adata_control.layers[\"decoded\"] = decoded_control"
   ]
  },
  {
   "cell_type": "code",
   "execution_count": 132,
   "id": "7e601a52-7507-458c-9fe3-1859bc330edf",
   "metadata": {},
   "outputs": [],
   "source": [
    "adata_perturbed.varm[\"X_train_mean\"] = adata_control.varm[\"X_train_mean\"]"
   ]
  },
  {
   "cell_type": "code",
   "execution_count": 133,
   "id": "87783f98-ac61-4d31-9787-6ec1892d851b",
   "metadata": {},
   "outputs": [],
   "source": [
    "adata_perturbed.layers[\"centered_X\"] = csr_matrix(adata_perturbed.X.A - train_mean)\n"
   ]
  },
  {
   "cell_type": "code",
   "execution_count": 134,
   "id": "f87e8ec7-7d18-4fbb-832b-9c3f72b5e36e",
   "metadata": {},
   "outputs": [],
   "source": [
    "adata_perturbed.obsm[\"X_pca\"] = np.matmul(adata_perturbed.layers[\"centered_X\"].A, adata_control.varm[\"PCs\"])\n"
   ]
  },
  {
   "cell_type": "code",
   "execution_count": 135,
   "id": "6c974e03-2bf6-43f8-954b-83b9e6664f0e",
   "metadata": {},
   "outputs": [],
   "source": [
    "decoded_perturbed = np.matmul(adata_perturbed.obsm[\"X_pca\"], adata_control.varm[\"PCs\"].T)"
   ]
  },
  {
   "cell_type": "code",
   "execution_count": 136,
   "id": "4ad2ee52-fc38-49ce-9daa-b4020906e277",
   "metadata": {},
   "outputs": [
    {
     "data": {
      "text/plain": [
       "array([[ 7.80393835e-02,  3.41828004e-01, -5.10543482e-03, ...,\n",
       "         0.00000000e+00,  0.00000000e+00, -3.99864773e-04],\n",
       "       [ 1.01995904e-01,  4.71809951e-02,  2.13708996e-03, ...,\n",
       "         0.00000000e+00,  0.00000000e+00, -6.94999894e-04],\n",
       "       [ 4.22458117e-02,  2.38393133e-01, -3.59778556e-03, ...,\n",
       "         0.00000000e+00,  0.00000000e+00, -5.78315377e-04],\n",
       "       ...,\n",
       "       [ 6.69048303e-02, -1.11790441e-01, -3.26662213e-04, ...,\n",
       "         0.00000000e+00,  0.00000000e+00, -1.32636322e-04],\n",
       "       [ 2.55742621e-02, -1.63081840e-01, -9.30656761e-03, ...,\n",
       "         0.00000000e+00,  0.00000000e+00, -9.01088163e-04],\n",
       "       [-1.19392935e-02, -1.28501196e-01, -9.61455750e-04, ...,\n",
       "         0.00000000e+00,  0.00000000e+00, -2.39609574e-04]])"
      ]
     },
     "execution_count": 136,
     "metadata": {},
     "output_type": "execute_result"
    }
   ],
   "source": [
    "decoded_perturbed"
   ]
  },
  {
   "cell_type": "code",
   "execution_count": 137,
   "id": "5d464398-8fc4-4823-a046-9e0dde13fd35",
   "metadata": {},
   "outputs": [],
   "source": [
    "decoded_perturbed = decoded_perturbed + adata_perturbed.varm[\"X_train_mean\"].T"
   ]
  },
  {
   "cell_type": "code",
   "execution_count": 138,
   "id": "1aeca999-b8b4-4dad-bdff-efff74aa0646",
   "metadata": {},
   "outputs": [
    {
     "data": {
      "text/plain": [
       "matrix([[ 1.48714786e-01,  4.73295033e-01, -3.86351303e-03, ...,\n",
       "          0.00000000e+00,  0.00000000e+00, -4.27780608e-05],\n",
       "        [ 1.72671307e-01,  1.78648025e-01,  3.37901175e-03, ...,\n",
       "          0.00000000e+00,  0.00000000e+00, -3.37913182e-04],\n",
       "        [ 1.12921215e-01,  3.69860163e-01, -2.35586376e-03, ...,\n",
       "          0.00000000e+00,  0.00000000e+00, -2.21228665e-04],\n",
       "        ...,\n",
       "        [ 1.37580233e-01,  1.96765889e-02,  9.15259583e-04, ...,\n",
       "          0.00000000e+00,  0.00000000e+00,  2.24450390e-04],\n",
       "        [ 9.62496650e-02, -3.16148101e-02, -8.06464582e-03, ...,\n",
       "          0.00000000e+00,  0.00000000e+00, -5.44001451e-04],\n",
       "        [ 5.87361094e-02,  2.96583391e-03,  2.80466047e-04, ...,\n",
       "          0.00000000e+00,  0.00000000e+00,  1.17477138e-04]])"
      ]
     },
     "execution_count": 138,
     "metadata": {},
     "output_type": "execute_result"
    }
   ],
   "source": [
    "decoded_perturbed"
   ]
  },
  {
   "cell_type": "code",
   "execution_count": 139,
   "id": "d451bfb5-ca46-4731-af76-08e2f623d66f",
   "metadata": {},
   "outputs": [
    {
     "data": {
      "text/plain": [
       "(568773, 2000)"
      ]
     },
     "execution_count": 139,
     "metadata": {},
     "output_type": "execute_result"
    }
   ],
   "source": [
    "decoded_perturbed.shape"
   ]
  },
  {
   "cell_type": "code",
   "execution_count": 140,
   "id": "ba7b31ec-4e9c-492a-84c4-d318367d1e36",
   "metadata": {},
   "outputs": [],
   "source": [
    "adata_perturbed.layers[\"decoded\"] = decoded_perturbed"
   ]
  },
  {
   "cell_type": "code",
   "execution_count": 141,
   "id": "dc812bad-933f-48db-81d1-7484ac8a09b1",
   "metadata": {},
   "outputs": [],
   "source": [
    "unique_doses = adata_perturbed.obs[\"dose\"].unique()\n",
    "unique_perturbations = adata_perturbed.obs[\"perturbation\"].unique()\n",
    "\n",
    "df = pd.DataFrame(index=unique_doses, columns=unique_perturbations)\n"
   ]
  },
  {
   "cell_type": "code",
   "execution_count": 142,
   "id": "f0813c81-3cab-4135-85e6-8df8197cdad4",
   "metadata": {},
   "outputs": [
    {
     "data": {
      "text/html": [
       "<div>\n",
       "<style scoped>\n",
       "    .dataframe tbody tr th:only-of-type {\n",
       "        vertical-align: middle;\n",
       "    }\n",
       "\n",
       "    .dataframe tbody tr th {\n",
       "        vertical-align: top;\n",
       "    }\n",
       "\n",
       "    .dataframe thead th {\n",
       "        text-align: right;\n",
       "    }\n",
       "</style>\n",
       "<table border=\"1\" class=\"dataframe\">\n",
       "  <thead>\n",
       "    <tr style=\"text-align: right;\">\n",
       "      <th></th>\n",
       "      <th>Enzastaurin (LY317615)</th>\n",
       "      <th>Raltitrexed</th>\n",
       "      <th>Lenalidomide (CC-5013)</th>\n",
       "      <th>Divalproex Sodium</th>\n",
       "      <th>MLN8054</th>\n",
       "      <th>Sodium Phenylbutyrate</th>\n",
       "      <th>Celecoxib</th>\n",
       "      <th>Linifanib (ABT-869)</th>\n",
       "      <th>Thalidomide</th>\n",
       "      <th>SNS-314</th>\n",
       "      <th>...</th>\n",
       "      <th>Givinostat (ITF2357)</th>\n",
       "      <th>SB431542</th>\n",
       "      <th>YM155 (Sepantronium Bromide)</th>\n",
       "      <th>Ramelteon</th>\n",
       "      <th>Iniparib (BSI-201)</th>\n",
       "      <th>Tucidinostat (Chidamide)</th>\n",
       "      <th>PCI-34051</th>\n",
       "      <th>Epothilone A</th>\n",
       "      <th>Thiotepa</th>\n",
       "      <th>PHA-680632</th>\n",
       "    </tr>\n",
       "  </thead>\n",
       "  <tbody>\n",
       "    <tr>\n",
       "      <th>1000.0</th>\n",
       "      <td>NaN</td>\n",
       "      <td>NaN</td>\n",
       "      <td>NaN</td>\n",
       "      <td>NaN</td>\n",
       "      <td>NaN</td>\n",
       "      <td>NaN</td>\n",
       "      <td>NaN</td>\n",
       "      <td>NaN</td>\n",
       "      <td>NaN</td>\n",
       "      <td>NaN</td>\n",
       "      <td>...</td>\n",
       "      <td>NaN</td>\n",
       "      <td>NaN</td>\n",
       "      <td>NaN</td>\n",
       "      <td>NaN</td>\n",
       "      <td>NaN</td>\n",
       "      <td>NaN</td>\n",
       "      <td>NaN</td>\n",
       "      <td>NaN</td>\n",
       "      <td>NaN</td>\n",
       "      <td>NaN</td>\n",
       "    </tr>\n",
       "    <tr>\n",
       "      <th>10.0</th>\n",
       "      <td>NaN</td>\n",
       "      <td>NaN</td>\n",
       "      <td>NaN</td>\n",
       "      <td>NaN</td>\n",
       "      <td>NaN</td>\n",
       "      <td>NaN</td>\n",
       "      <td>NaN</td>\n",
       "      <td>NaN</td>\n",
       "      <td>NaN</td>\n",
       "      <td>NaN</td>\n",
       "      <td>...</td>\n",
       "      <td>NaN</td>\n",
       "      <td>NaN</td>\n",
       "      <td>NaN</td>\n",
       "      <td>NaN</td>\n",
       "      <td>NaN</td>\n",
       "      <td>NaN</td>\n",
       "      <td>NaN</td>\n",
       "      <td>NaN</td>\n",
       "      <td>NaN</td>\n",
       "      <td>NaN</td>\n",
       "    </tr>\n",
       "    <tr>\n",
       "      <th>100.0</th>\n",
       "      <td>NaN</td>\n",
       "      <td>NaN</td>\n",
       "      <td>NaN</td>\n",
       "      <td>NaN</td>\n",
       "      <td>NaN</td>\n",
       "      <td>NaN</td>\n",
       "      <td>NaN</td>\n",
       "      <td>NaN</td>\n",
       "      <td>NaN</td>\n",
       "      <td>NaN</td>\n",
       "      <td>...</td>\n",
       "      <td>NaN</td>\n",
       "      <td>NaN</td>\n",
       "      <td>NaN</td>\n",
       "      <td>NaN</td>\n",
       "      <td>NaN</td>\n",
       "      <td>NaN</td>\n",
       "      <td>NaN</td>\n",
       "      <td>NaN</td>\n",
       "      <td>NaN</td>\n",
       "      <td>NaN</td>\n",
       "    </tr>\n",
       "    <tr>\n",
       "      <th>10000.0</th>\n",
       "      <td>NaN</td>\n",
       "      <td>NaN</td>\n",
       "      <td>NaN</td>\n",
       "      <td>NaN</td>\n",
       "      <td>NaN</td>\n",
       "      <td>NaN</td>\n",
       "      <td>NaN</td>\n",
       "      <td>NaN</td>\n",
       "      <td>NaN</td>\n",
       "      <td>NaN</td>\n",
       "      <td>...</td>\n",
       "      <td>NaN</td>\n",
       "      <td>NaN</td>\n",
       "      <td>NaN</td>\n",
       "      <td>NaN</td>\n",
       "      <td>NaN</td>\n",
       "      <td>NaN</td>\n",
       "      <td>NaN</td>\n",
       "      <td>NaN</td>\n",
       "      <td>NaN</td>\n",
       "      <td>NaN</td>\n",
       "    </tr>\n",
       "  </tbody>\n",
       "</table>\n",
       "<p>4 rows × 188 columns</p>\n",
       "</div>"
      ],
      "text/plain": [
       "        Enzastaurin (LY317615) Raltitrexed Lenalidomide (CC-5013)  \\\n",
       "1000.0                     NaN         NaN                    NaN   \n",
       "10.0                       NaN         NaN                    NaN   \n",
       "100.0                      NaN         NaN                    NaN   \n",
       "10000.0                    NaN         NaN                    NaN   \n",
       "\n",
       "        Divalproex Sodium MLN8054 Sodium Phenylbutyrate Celecoxib  \\\n",
       "1000.0                NaN     NaN                   NaN       NaN   \n",
       "10.0                  NaN     NaN                   NaN       NaN   \n",
       "100.0                 NaN     NaN                   NaN       NaN   \n",
       "10000.0               NaN     NaN                   NaN       NaN   \n",
       "\n",
       "        Linifanib (ABT-869) Thalidomide SNS-314  ... Givinostat (ITF2357)  \\\n",
       "1000.0                  NaN         NaN     NaN  ...                  NaN   \n",
       "10.0                    NaN         NaN     NaN  ...                  NaN   \n",
       "100.0                   NaN         NaN     NaN  ...                  NaN   \n",
       "10000.0                 NaN         NaN     NaN  ...                  NaN   \n",
       "\n",
       "        SB431542 YM155 (Sepantronium Bromide) Ramelteon Iniparib (BSI-201)  \\\n",
       "1000.0       NaN                          NaN       NaN                NaN   \n",
       "10.0         NaN                          NaN       NaN                NaN   \n",
       "100.0        NaN                          NaN       NaN                NaN   \n",
       "10000.0      NaN                          NaN       NaN                NaN   \n",
       "\n",
       "        Tucidinostat (Chidamide) PCI-34051 Epothilone A Thiotepa PHA-680632  \n",
       "1000.0                       NaN       NaN          NaN      NaN        NaN  \n",
       "10.0                         NaN       NaN          NaN      NaN        NaN  \n",
       "100.0                        NaN       NaN          NaN      NaN        NaN  \n",
       "10000.0                      NaN       NaN          NaN      NaN        NaN  \n",
       "\n",
       "[4 rows x 188 columns]"
      ]
     },
     "execution_count": 142,
     "metadata": {},
     "output_type": "execute_result"
    }
   ],
   "source": [
    "df"
   ]
  },
  {
   "cell_type": "code",
   "execution_count": 183,
   "id": "7a87be04-8c21-48ad-b8f9-e5e6db181773",
   "metadata": {},
   "outputs": [],
   "source": [
    "reference_control = np.mean(np.asarray(decoded_control), axis=0)"
   ]
  },
  {
   "cell_type": "code",
   "execution_count": 184,
   "id": "415e6bb8-aa77-4e06-897d-ac49a34b5d34",
   "metadata": {},
   "outputs": [
    {
     "data": {
      "text/plain": [
       "(2000,)"
      ]
     },
     "execution_count": 184,
     "metadata": {},
     "output_type": "execute_result"
    }
   ],
   "source": [
    "reference_control.shape"
   ]
  },
  {
   "cell_type": "code",
   "execution_count": 185,
   "id": "a3cfccb1-61c0-4a5c-bc4b-8b32051c2efc",
   "metadata": {},
   "outputs": [
    {
     "name": "stderr",
     "output_type": "stream",
     "text": [
      "  0%|          | 0/4 [00:00<?, ?it/s]\n",
      "  0%|          | 0/188 [00:00<?, ?it/s]\u001b[A\n",
      "  1%|          | 1/188 [00:00<01:23,  2.24it/s]\u001b[A\n",
      "  7%|▋         | 13/188 [00:00<00:05, 30.66it/s]\u001b[A\n",
      " 13%|█▎        | 25/188 [00:00<00:03, 53.04it/s]\u001b[A\n",
      " 20%|██        | 38/188 [00:00<00:02, 72.73it/s]\u001b[A\n",
      " 27%|██▋       | 50/188 [00:00<00:01, 85.12it/s]\u001b[A\n",
      " 33%|███▎      | 62/188 [00:00<00:01, 94.86it/s]\u001b[A\n",
      " 39%|███▉      | 74/188 [00:01<00:01, 100.48it/s]\u001b[A\n",
      " 46%|████▌     | 86/188 [00:01<00:00, 106.07it/s]\u001b[A\n",
      " 52%|█████▏    | 98/188 [00:01<00:00, 108.77it/s]\u001b[A\n",
      " 59%|█████▊    | 110/188 [00:01<00:00, 111.30it/s]\u001b[A\n",
      " 65%|██████▌   | 123/188 [00:01<00:00, 114.33it/s]\u001b[A\n",
      " 72%|███████▏  | 135/188 [00:01<00:00, 114.76it/s]\u001b[A\n",
      " 78%|███████▊  | 147/188 [00:01<00:00, 115.62it/s]\u001b[A\n",
      " 85%|████████▌ | 160/188 [00:01<00:00, 119.05it/s]\u001b[A\n",
      " 92%|█████████▏| 173/188 [00:01<00:00, 119.72it/s]\u001b[A\n",
      "100%|██████████| 188/188 [00:02<00:00, 93.62it/s] \u001b[A\n",
      " 25%|██▌       | 1/4 [00:02<00:06,  2.01s/it]\n",
      "  0%|          | 0/188 [00:00<?, ?it/s]\u001b[A\n",
      "  7%|▋         | 13/188 [00:00<00:01, 120.87it/s]\u001b[A\n",
      " 14%|█▍        | 26/188 [00:00<00:01, 122.54it/s]\u001b[A\n",
      " 21%|██        | 39/188 [00:00<00:01, 116.94it/s]\u001b[A\n",
      " 27%|██▋       | 51/188 [00:00<00:01, 112.53it/s]\u001b[A\n",
      " 34%|███▎      | 63/188 [00:00<00:01, 114.06it/s]\u001b[A\n",
      " 40%|███▉      | 75/188 [00:00<00:01, 111.63it/s]\u001b[A\n",
      " 46%|████▋     | 87/188 [00:00<00:00, 112.88it/s]\u001b[A\n",
      " 53%|█████▎    | 99/188 [00:00<00:00, 109.53it/s]\u001b[A\n",
      " 59%|█████▉    | 111/188 [00:00<00:00, 111.63it/s]\u001b[A\n",
      " 65%|██████▌   | 123/188 [00:01<00:00, 113.59it/s]\u001b[A\n",
      " 72%|███████▏  | 135/188 [00:01<00:00, 112.52it/s]\u001b[A\n",
      " 78%|███████▊  | 147/188 [00:01<00:00, 112.62it/s]\u001b[A\n",
      " 85%|████████▍ | 159/188 [00:01<00:00, 113.52it/s]\u001b[A\n",
      " 91%|█████████ | 171/188 [00:01<00:00, 112.01it/s]\u001b[A\n",
      "100%|██████████| 188/188 [00:01<00:00, 113.84it/s]\u001b[A\n",
      " 50%|█████     | 2/4 [00:03<00:03,  1.80s/it]\n",
      "  0%|          | 0/188 [00:00<?, ?it/s]\u001b[A\n",
      "  7%|▋         | 13/188 [00:00<00:01, 128.44it/s]\u001b[A\n",
      " 14%|█▍        | 26/188 [00:00<00:01, 123.42it/s]\u001b[A\n",
      " 21%|██        | 39/188 [00:00<00:01, 118.76it/s]\u001b[A\n",
      " 27%|██▋       | 51/188 [00:00<00:01, 117.30it/s]\u001b[A\n",
      " 34%|███▍      | 64/188 [00:00<00:01, 118.36it/s]\u001b[A\n",
      " 40%|████      | 76/188 [00:00<00:00, 115.27it/s]\u001b[A\n",
      " 47%|████▋     | 88/188 [00:00<00:00, 116.66it/s]\u001b[A\n",
      " 53%|█████▎    | 100/188 [00:00<00:00, 114.77it/s]\u001b[A\n",
      " 60%|██████    | 113/188 [00:00<00:00, 116.51it/s]\u001b[A\n",
      " 66%|██████▋   | 125/188 [00:01<00:00, 114.46it/s]\u001b[A\n",
      " 73%|███████▎  | 137/188 [00:01<00:00, 114.21it/s]\u001b[A\n",
      " 79%|███████▉  | 149/188 [00:01<00:00, 115.05it/s]\u001b[A\n",
      " 86%|████████▌ | 161/188 [00:01<00:00, 115.71it/s]\u001b[A\n",
      " 92%|█████████▏| 173/188 [00:01<00:00, 115.18it/s]\u001b[A\n",
      "100%|██████████| 188/188 [00:01<00:00, 117.15it/s]\u001b[A\n",
      " 75%|███████▌  | 3/4 [00:05<00:01,  1.71s/it]\n",
      "  0%|          | 0/188 [00:00<?, ?it/s]\u001b[A\n",
      "  7%|▋         | 13/188 [00:00<00:01, 125.76it/s]\u001b[A\n",
      " 14%|█▍        | 27/188 [00:00<00:01, 128.79it/s]\u001b[A\n",
      " 22%|██▏       | 41/188 [00:00<00:01, 131.68it/s]\u001b[A\n",
      " 29%|██▉       | 55/188 [00:00<00:01, 129.63it/s]\u001b[A\n",
      " 36%|███▌      | 68/188 [00:00<00:00, 128.37it/s]\u001b[A\n",
      " 44%|████▎     | 82/188 [00:00<00:00, 130.83it/s]\u001b[A\n",
      " 51%|█████     | 96/188 [00:00<00:00, 124.55it/s]\u001b[A\n",
      " 59%|█████▊    | 110/188 [00:00<00:00, 128.01it/s]\u001b[A\n",
      " 66%|██████▌   | 124/188 [00:00<00:00, 131.02it/s]\u001b[A\n",
      " 73%|███████▎  | 138/188 [00:01<00:00, 128.29it/s]\u001b[A\n",
      " 81%|████████  | 152/188 [00:01<00:00, 130.64it/s]\u001b[A\n",
      " 88%|████████▊ | 166/188 [00:01<00:00, 129.61it/s]\u001b[A\n",
      "100%|██████████| 188/188 [00:01<00:00, 129.68it/s]\u001b[A\n",
      "100%|██████████| 4/4 [00:06<00:00,  1.68s/it]\n"
     ]
    }
   ],
   "source": [
    "for dose in tqdm(unique_doses):\n",
    "    for perturbation in tqdm(unique_perturbations):\n",
    "        adata_temporal = adata_perturbed[(adata_perturbed.obs.dose == dose) & (adata_perturbed.obs.perturbation == perturbation)]\n",
    "        decoded = adata_temporal.layers[\"decoded\"]\n",
    "        decoded_mean = np.mean(np.asarray(decoded), axis=0)\n",
    "        r2score_temporal = r2_score(decoded_mean, reference_control)\n",
    "        df.loc[dose, perturbation] = r2score_temporal"
   ]
  },
  {
   "cell_type": "code",
   "execution_count": 186,
   "id": "6dd58ec6-95af-4598-82d6-eca52ad8059a",
   "metadata": {},
   "outputs": [
    {
     "data": {
      "text/html": [
       "<div>\n",
       "<style scoped>\n",
       "    .dataframe tbody tr th:only-of-type {\n",
       "        vertical-align: middle;\n",
       "    }\n",
       "\n",
       "    .dataframe tbody tr th {\n",
       "        vertical-align: top;\n",
       "    }\n",
       "\n",
       "    .dataframe thead th {\n",
       "        text-align: right;\n",
       "    }\n",
       "</style>\n",
       "<table border=\"1\" class=\"dataframe\">\n",
       "  <thead>\n",
       "    <tr style=\"text-align: right;\">\n",
       "      <th></th>\n",
       "      <th>Enzastaurin (LY317615)</th>\n",
       "      <th>Raltitrexed</th>\n",
       "      <th>Lenalidomide (CC-5013)</th>\n",
       "      <th>Divalproex Sodium</th>\n",
       "      <th>MLN8054</th>\n",
       "      <th>Sodium Phenylbutyrate</th>\n",
       "      <th>Celecoxib</th>\n",
       "      <th>Linifanib (ABT-869)</th>\n",
       "      <th>Thalidomide</th>\n",
       "      <th>SNS-314</th>\n",
       "      <th>...</th>\n",
       "      <th>Givinostat (ITF2357)</th>\n",
       "      <th>SB431542</th>\n",
       "      <th>YM155 (Sepantronium Bromide)</th>\n",
       "      <th>Ramelteon</th>\n",
       "      <th>Iniparib (BSI-201)</th>\n",
       "      <th>Tucidinostat (Chidamide)</th>\n",
       "      <th>PCI-34051</th>\n",
       "      <th>Epothilone A</th>\n",
       "      <th>Thiotepa</th>\n",
       "      <th>PHA-680632</th>\n",
       "    </tr>\n",
       "  </thead>\n",
       "  <tbody>\n",
       "    <tr>\n",
       "      <th>1000.0</th>\n",
       "      <td>0.995938</td>\n",
       "      <td>0.963475</td>\n",
       "      <td>0.983394</td>\n",
       "      <td>0.951245</td>\n",
       "      <td>0.960518</td>\n",
       "      <td>0.995127</td>\n",
       "      <td>0.964651</td>\n",
       "      <td>0.995997</td>\n",
       "      <td>0.992278</td>\n",
       "      <td>0.961328</td>\n",
       "      <td>...</td>\n",
       "      <td>0.898484</td>\n",
       "      <td>0.993849</td>\n",
       "      <td>0.631675</td>\n",
       "      <td>0.983447</td>\n",
       "      <td>0.995941</td>\n",
       "      <td>0.955317</td>\n",
       "      <td>0.986858</td>\n",
       "      <td>0.913192</td>\n",
       "      <td>0.984079</td>\n",
       "      <td>0.969389</td>\n",
       "    </tr>\n",
       "    <tr>\n",
       "      <th>10.0</th>\n",
       "      <td>0.969037</td>\n",
       "      <td>0.968302</td>\n",
       "      <td>0.998726</td>\n",
       "      <td>0.987578</td>\n",
       "      <td>0.990257</td>\n",
       "      <td>0.994854</td>\n",
       "      <td>0.995995</td>\n",
       "      <td>0.997095</td>\n",
       "      <td>0.99612</td>\n",
       "      <td>0.986088</td>\n",
       "      <td>...</td>\n",
       "      <td>0.978731</td>\n",
       "      <td>0.99022</td>\n",
       "      <td>0.716144</td>\n",
       "      <td>0.994294</td>\n",
       "      <td>0.736835</td>\n",
       "      <td>0.9944</td>\n",
       "      <td>0.994534</td>\n",
       "      <td>0.955435</td>\n",
       "      <td>0.99419</td>\n",
       "      <td>0.983875</td>\n",
       "    </tr>\n",
       "    <tr>\n",
       "      <th>100.0</th>\n",
       "      <td>0.994341</td>\n",
       "      <td>0.968841</td>\n",
       "      <td>0.977067</td>\n",
       "      <td>0.995201</td>\n",
       "      <td>0.969407</td>\n",
       "      <td>0.993304</td>\n",
       "      <td>0.994797</td>\n",
       "      <td>0.996768</td>\n",
       "      <td>0.996216</td>\n",
       "      <td>0.980356</td>\n",
       "      <td>...</td>\n",
       "      <td>0.969034</td>\n",
       "      <td>0.996949</td>\n",
       "      <td>0.694541</td>\n",
       "      <td>0.988595</td>\n",
       "      <td>0.99014</td>\n",
       "      <td>0.939727</td>\n",
       "      <td>0.989225</td>\n",
       "      <td>0.905285</td>\n",
       "      <td>0.991989</td>\n",
       "      <td>0.972103</td>\n",
       "    </tr>\n",
       "    <tr>\n",
       "      <th>10000.0</th>\n",
       "      <td>0.9609</td>\n",
       "      <td>0.974749</td>\n",
       "      <td>0.992123</td>\n",
       "      <td>0.976793</td>\n",
       "      <td>0.974579</td>\n",
       "      <td>0.990655</td>\n",
       "      <td>0.998321</td>\n",
       "      <td>0.938825</td>\n",
       "      <td>0.993512</td>\n",
       "      <td>0.965974</td>\n",
       "      <td>...</td>\n",
       "      <td>0.728381</td>\n",
       "      <td>0.98878</td>\n",
       "      <td>0.582222</td>\n",
       "      <td>0.991076</td>\n",
       "      <td>0.935654</td>\n",
       "      <td>0.908777</td>\n",
       "      <td>0.981011</td>\n",
       "      <td>0.972235</td>\n",
       "      <td>0.981184</td>\n",
       "      <td>0.94782</td>\n",
       "    </tr>\n",
       "  </tbody>\n",
       "</table>\n",
       "<p>4 rows × 188 columns</p>\n",
       "</div>"
      ],
      "text/plain": [
       "        Enzastaurin (LY317615) Raltitrexed Lenalidomide (CC-5013)  \\\n",
       "1000.0                0.995938    0.963475               0.983394   \n",
       "10.0                  0.969037    0.968302               0.998726   \n",
       "100.0                 0.994341    0.968841               0.977067   \n",
       "10000.0                 0.9609    0.974749               0.992123   \n",
       "\n",
       "        Divalproex Sodium   MLN8054 Sodium Phenylbutyrate Celecoxib  \\\n",
       "1000.0           0.951245  0.960518              0.995127  0.964651   \n",
       "10.0             0.987578  0.990257              0.994854  0.995995   \n",
       "100.0            0.995201  0.969407              0.993304  0.994797   \n",
       "10000.0          0.976793  0.974579              0.990655  0.998321   \n",
       "\n",
       "        Linifanib (ABT-869) Thalidomide   SNS-314  ... Givinostat (ITF2357)  \\\n",
       "1000.0             0.995997    0.992278  0.961328  ...             0.898484   \n",
       "10.0               0.997095     0.99612  0.986088  ...             0.978731   \n",
       "100.0              0.996768    0.996216  0.980356  ...             0.969034   \n",
       "10000.0            0.938825    0.993512  0.965974  ...             0.728381   \n",
       "\n",
       "         SB431542 YM155 (Sepantronium Bromide) Ramelteon Iniparib (BSI-201)  \\\n",
       "1000.0   0.993849                     0.631675  0.983447           0.995941   \n",
       "10.0      0.99022                     0.716144  0.994294           0.736835   \n",
       "100.0    0.996949                     0.694541  0.988595            0.99014   \n",
       "10000.0   0.98878                     0.582222  0.991076           0.935654   \n",
       "\n",
       "        Tucidinostat (Chidamide) PCI-34051 Epothilone A  Thiotepa PHA-680632  \n",
       "1000.0                  0.955317  0.986858     0.913192  0.984079   0.969389  \n",
       "10.0                      0.9944  0.994534     0.955435   0.99419   0.983875  \n",
       "100.0                   0.939727  0.989225     0.905285  0.991989   0.972103  \n",
       "10000.0                 0.908777  0.981011     0.972235  0.981184    0.94782  \n",
       "\n",
       "[4 rows x 188 columns]"
      ]
     },
     "execution_count": 186,
     "metadata": {},
     "output_type": "execute_result"
    }
   ],
   "source": [
    "df"
   ]
  },
  {
   "cell_type": "code",
   "execution_count": 194,
   "id": "0b832a71-302f-4fa0-9131-9e99350fdc43",
   "metadata": {},
   "outputs": [
    {
     "data": {
      "image/png": "[encoded data removed]",
      "text/plain": [
       "<Figure size 640x480 with 1 Axes>"
      ]
     },
     "metadata": {},
     "output_type": "display_data"
    }
   ],
   "source": [
    "# Plot the histogram\n",
    "plt.hist(df.iloc[0].values, bins=100, edgecolor='black')  # Adjust the number of bins as needed\n",
    "plt.title('Histogram second to highest dose')\n",
    "plt.xlabel('R2')\n",
    "plt.ylabel('Frequency')\n",
    "plt.grid(True)\n",
    "plt.show()"
   ]
  },
  {
   "cell_type": "code",
   "execution_count": 196,
   "id": "63ffed3b-7753-4379-9d2d-55847dcea045",
   "metadata": {},
   "outputs": [
    {
     "data": {
      "image/png": "[encoded data removed]",
      "text/plain": [
       "<Figure size 640x480 with 1 Axes>"
      ]
     },
     "metadata": {},
     "output_type": "display_data"
    }
   ],
   "source": [
    "# Plot the histogram\n",
    "plt.hist(df.iloc[3].values, bins=100, edgecolor='black')  # Adjust the number of bins as needed\n",
    "plt.title('Histogram highest dose')\n",
    "plt.xlabel('R2')\n",
    "plt.ylabel('Frequency')\n",
    "plt.grid(True)\n",
    "plt.show()"
   ]
  },
  {
   "cell_type": "code",
   "execution_count": 197,
   "id": "7a15c91a-2315-4d3f-8173-3f10ffa3e45c",
   "metadata": {},
   "outputs": [
    {
     "data": {
      "image/png": "[encoded data removed]",
      "text/plain": [
       "<Figure size 640x480 with 1 Axes>"
      ]
     },
     "metadata": {},
     "output_type": "display_data"
    }
   ],
   "source": [
    "# Plot the histogram\n",
    "plt.hist(df.iloc[1].values, bins=100, edgecolor='black')  # Adjust the number of bins as needed\n",
    "plt.title('Histogram dose lowest dose')\n",
    "plt.xlabel('R2')\n",
    "plt.ylabel('Frequency')\n",
    "plt.grid(True)\n",
    "plt.show()"
   ]
  },
  {
   "cell_type": "markdown",
   "id": "1cdd8a21-3caf-45f5-be08-316fb1118120",
   "metadata": {},
   "source": [
    "## Combosciplex"
   ]
  },
  {
   "cell_type": "code",
   "execution_count": 198,
   "id": "ba43b632-f02f-4cfb-b33c-e98665fa0622",
   "metadata": {},
   "outputs": [
    {
     "data": {
      "text/html": [
       "<pre style=\"white-space:pre;overflow-x:auto;line-height:normal;font-family:Menlo,'DejaVu Sans Mono',consolas,'Courier New',monospace\">/home/icb/alejandro.tejada/miniconda3/envs/pertpy/lib/python3.11/site-packages/rich/live.py:231: UserWarning: \n",
       "install \"ipywidgets\" for Jupyter support\n",
       "  warnings.warn('install \"ipywidgets\" for Jupyter support')\n",
       "</pre>\n"
      ],
      "text/plain": [
       "/home/icb/alejandro.tejada/miniconda3/envs/pertpy/lib/python3.11/site-packages/rich/live.py:231: UserWarning: \n",
       "install \"ipywidgets\" for Jupyter support\n",
       "  warnings.warn('install \"ipywidgets\" for Jupyter support')\n"
      ]
     },
     "metadata": {},
     "output_type": "display_data"
    },
    {
     "data": {
      "text/html": [
       "<pre style=\"white-space:pre;overflow-x:auto;line-height:normal;font-family:Menlo,'DejaVu Sans Mono',consolas,'Courier New',monospace\"></pre>\n"
      ],
      "text/plain": []
     },
     "metadata": {},
     "output_type": "display_data"
    },
    {
     "data": {
      "text/html": [
       "<pre style=\"white-space:pre;overflow-x:auto;line-height:normal;font-family:Menlo,'DejaVu Sans Mono',consolas,'Courier New',monospace\">\n",
       "</pre>\n"
      ],
      "text/plain": [
       "\n"
      ]
     },
     "metadata": {},
     "output_type": "display_data"
    }
   ],
   "source": [
    "adata = pt.data.combosciplex()"
   ]
  },
  {
   "cell_type": "code",
   "execution_count": 199,
   "id": "e5284319-2ef4-4be0-a7ff-d68a5f16cc33",
   "metadata": {},
   "outputs": [
    {
     "data": {
      "text/plain": [
       "AnnData object with n_obs × n_vars = 63378 × 27518\n",
       "    obs: 'sample', 'Size_Factor', 'n.umi', 'RT_well', 'Drug1', 'Drug2', 'Well', 'n_genes', 'n_genes_by_counts', 'total_counts', 'total_counts_mt', 'pct_counts_mt', 'leiden', 'condition', 'pathway1', 'pathway2', 'split', 'control', 'cell_type'\n",
       "    var: 'id', 'n_cells', 'mt', 'n_cells_by_counts', 'mean_counts', 'pct_dropout_by_counts', 'total_counts', 'highly_variable', 'means', 'dispersions', 'dispersions_norm'\n",
       "    uns: 'Drug1_colors', 'Drug2_colors', 'Well_colors', 'condition_colors', 'dendrogram_leiden', 'hvg', 'leiden', 'leiden_colors', 'neighbors', 'pathway1_colors', 'pathway2_colors', 'pathway_colors', 'pca', 'rank_genes_groups', 'split_colors', 'umap'\n",
       "    obsm: 'X_pca', 'X_umap'\n",
       "    varm: 'PCs'\n",
       "    layers: 'counts'\n",
       "    obsp: 'connectivities', 'distances'"
      ]
     },
     "execution_count": 199,
     "metadata": {},
     "output_type": "execute_result"
    }
   ],
   "source": [
    "adata"
   ]
  },
  {
   "cell_type": "code",
   "execution_count": 200,
   "id": "9d0c0806-9c19-4df9-a304-a9db207a9c6a",
   "metadata": {},
   "outputs": [],
   "source": [
    "sc.pp.normalize_total(adata)\n",
    "sc.pp.log1p(adata)"
   ]
  },
  {
   "cell_type": "code",
   "execution_count": 201,
   "id": "25463d4b-3fda-4609-9073-6a30310dcf88",
   "metadata": {},
   "outputs": [],
   "source": [
    "sc.pp.highly_variable_genes(adata, inplace=True, n_top_genes=2000)"
   ]
  },
  {
   "cell_type": "code",
   "execution_count": 202,
   "id": "ef0a87bf-7ee7-4b42-9f61-a0680d6ff840",
   "metadata": {},
   "outputs": [
    {
     "data": {
      "text/plain": [
       "AnnData object with n_obs × n_vars = 63378 × 27518\n",
       "    obs: 'sample', 'Size_Factor', 'n.umi', 'RT_well', 'Drug1', 'Drug2', 'Well', 'n_genes', 'n_genes_by_counts', 'total_counts', 'total_counts_mt', 'pct_counts_mt', 'leiden', 'condition', 'pathway1', 'pathway2', 'split', 'control', 'cell_type'\n",
       "    var: 'id', 'n_cells', 'mt', 'n_cells_by_counts', 'mean_counts', 'pct_dropout_by_counts', 'total_counts', 'highly_variable', 'means', 'dispersions', 'dispersions_norm'\n",
       "    uns: 'Drug1_colors', 'Drug2_colors', 'Well_colors', 'condition_colors', 'dendrogram_leiden', 'hvg', 'leiden', 'leiden_colors', 'neighbors', 'pathway1_colors', 'pathway2_colors', 'pathway_colors', 'pca', 'rank_genes_groups', 'split_colors', 'umap', 'log1p'\n",
       "    obsm: 'X_pca', 'X_umap'\n",
       "    varm: 'PCs'\n",
       "    layers: 'counts'\n",
       "    obsp: 'connectivities', 'distances'"
      ]
     },
     "execution_count": 202,
     "metadata": {},
     "output_type": "execute_result"
    }
   ],
   "source": [
    "adata"
   ]
  },
  {
   "cell_type": "code",
   "execution_count": 203,
   "id": "e041dfe5-5c07-455c-8f0e-e726f9e698fb",
   "metadata": {},
   "outputs": [],
   "source": [
    "adata = adata[:,adata.var[\"highly_variable\"]==True]"
   ]
  },
  {
   "cell_type": "code",
   "execution_count": 204,
   "id": "0ddaf7e7-e5b4-4cd8-b880-2a30fbf9f222",
   "metadata": {},
   "outputs": [
    {
     "data": {
      "text/plain": [
       "View of AnnData object with n_obs × n_vars = 63378 × 2000\n",
       "    obs: 'sample', 'Size_Factor', 'n.umi', 'RT_well', 'Drug1', 'Drug2', 'Well', 'n_genes', 'n_genes_by_counts', 'total_counts', 'total_counts_mt', 'pct_counts_mt', 'leiden', 'condition', 'pathway1', 'pathway2', 'split', 'control', 'cell_type'\n",
       "    var: 'id', 'n_cells', 'mt', 'n_cells_by_counts', 'mean_counts', 'pct_dropout_by_counts', 'total_counts', 'highly_variable', 'means', 'dispersions', 'dispersions_norm'\n",
       "    uns: 'Drug1_colors', 'Drug2_colors', 'Well_colors', 'condition_colors', 'dendrogram_leiden', 'hvg', 'leiden', 'leiden_colors', 'neighbors', 'pathway1_colors', 'pathway2_colors', 'pathway_colors', 'pca', 'rank_genes_groups', 'split_colors', 'umap', 'log1p'\n",
       "    obsm: 'X_pca', 'X_umap'\n",
       "    varm: 'PCs'\n",
       "    layers: 'counts'\n",
       "    obsp: 'connectivities', 'distances'"
      ]
     },
     "execution_count": 204,
     "metadata": {},
     "output_type": "execute_result"
    }
   ],
   "source": [
    "adata"
   ]
  },
  {
   "cell_type": "code",
   "execution_count": 209,
   "id": "c8fd3c5e-8b7c-46c0-a473-b009650c8ec4",
   "metadata": {},
   "outputs": [
    {
     "name": "stderr",
     "output_type": "stream",
     "text": [
      "/tmp/ipykernel_1021055/41560897.py:1: ImplicitModificationWarning: Trying to modify attribute `.obs` of view, initializing view as actual.\n",
      "  adata.obs[\"perturbation\"] = adata.obs[\"condition\"]\n"
     ]
    }
   ],
   "source": [
    "adata.obs[\"perturbation\"] = adata.obs[\"condition\"]\n",
    "adata.obs[\"cell_line\"] = adata.obs[\"cell_type\"]"
   ]
  },
  {
   "cell_type": "code",
   "execution_count": 211,
   "id": "ada5b7ca-5baf-4aa4-86fe-414c51a8e100",
   "metadata": {},
   "outputs": [],
   "source": [
    "adata_control = adata[adata.obs.perturbation == 'control+control']\n",
    "adata_perturbed = adata[adata.obs.perturbation != 'control+control']"
   ]
  },
  {
   "cell_type": "code",
   "execution_count": 212,
   "id": "ab3794bf-e5aa-4528-b9d3-4d5ed2229e62",
   "metadata": {},
   "outputs": [
    {
     "data": {
      "text/plain": [
       "View of AnnData object with n_obs × n_vars = 1451 × 2000\n",
       "    obs: 'sample', 'Size_Factor', 'n.umi', 'RT_well', 'Drug1', 'Drug2', 'Well', 'n_genes', 'n_genes_by_counts', 'total_counts', 'total_counts_mt', 'pct_counts_mt', 'leiden', 'condition', 'pathway1', 'pathway2', 'split', 'control', 'cell_type', 'perturbation', 'cell_line'\n",
       "    var: 'id', 'n_cells', 'mt', 'n_cells_by_counts', 'mean_counts', 'pct_dropout_by_counts', 'total_counts', 'highly_variable', 'means', 'dispersions', 'dispersions_norm'\n",
       "    uns: 'Drug1_colors', 'Drug2_colors', 'Well_colors', 'condition_colors', 'dendrogram_leiden', 'hvg', 'leiden', 'leiden_colors', 'neighbors', 'pathway1_colors', 'pathway2_colors', 'pathway_colors', 'pca', 'rank_genes_groups', 'split_colors', 'umap', 'log1p'\n",
       "    obsm: 'X_pca', 'X_umap'\n",
       "    varm: 'PCs'\n",
       "    layers: 'counts'\n",
       "    obsp: 'connectivities', 'distances'"
      ]
     },
     "execution_count": 212,
     "metadata": {},
     "output_type": "execute_result"
    }
   ],
   "source": [
    "adata_control"
   ]
  },
  {
   "cell_type": "code",
   "execution_count": 213,
   "id": "72ca1cd1-cf57-41b8-b6c0-986046618f2e",
   "metadata": {},
   "outputs": [
    {
     "name": "stderr",
     "output_type": "stream",
     "text": [
      "/tmp/ipykernel_1021055/3585228133.py:1: ImplicitModificationWarning: Setting element `.varm['X_train_mean']` of view, initializing view as actual.\n",
      "  adata_control.varm[\"X_train_mean\"] = adata_control.X.mean(axis=0).T\n"
     ]
    }
   ],
   "source": [
    "adata_control.varm[\"X_train_mean\"] = adata_control.X.mean(axis=0).T"
   ]
  },
  {
   "cell_type": "code",
   "execution_count": 214,
   "id": "1d9ff06c-b4db-40dc-a787-ee28e6f4d460",
   "metadata": {},
   "outputs": [],
   "source": [
    "from scipy.sparse import csr_matrix, vstack\n",
    "\n",
    "train_mean = adata_control.varm[\"X_train_mean\"].T\n",
    "adata_control.layers[\"centered_X\"] = csr_matrix(adata_control.X.A - train_mean)"
   ]
  },
  {
   "cell_type": "code",
   "execution_count": 215,
   "id": "cbe7f62a-7b3d-4e90-a194-21f352cbd2b0",
   "metadata": {},
   "outputs": [],
   "source": [
    "sc.pp.pca(adata_control, layer=\"centered_X\", zero_center=False, n_comps=50)"
   ]
  },
  {
   "cell_type": "code",
   "execution_count": 216,
   "id": "23f32cba-69da-4ea6-8495-f749967f4a19",
   "metadata": {},
   "outputs": [
    {
     "data": {
      "text/plain": [
       "AnnData object with n_obs × n_vars = 1451 × 2000\n",
       "    obs: 'sample', 'Size_Factor', 'n.umi', 'RT_well', 'Drug1', 'Drug2', 'Well', 'n_genes', 'n_genes_by_counts', 'total_counts', 'total_counts_mt', 'pct_counts_mt', 'leiden', 'condition', 'pathway1', 'pathway2', 'split', 'control', 'cell_type', 'perturbation', 'cell_line'\n",
       "    var: 'id', 'n_cells', 'mt', 'n_cells_by_counts', 'mean_counts', 'pct_dropout_by_counts', 'total_counts', 'highly_variable', 'means', 'dispersions', 'dispersions_norm'\n",
       "    uns: 'Drug1_colors', 'Drug2_colors', 'Well_colors', 'condition_colors', 'dendrogram_leiden', 'hvg', 'leiden', 'leiden_colors', 'neighbors', 'pathway1_colors', 'pathway2_colors', 'pathway_colors', 'pca', 'rank_genes_groups', 'split_colors', 'umap', 'log1p'\n",
       "    obsm: 'X_pca', 'X_umap'\n",
       "    varm: 'PCs', 'X_train_mean'\n",
       "    layers: 'counts', 'centered_X'\n",
       "    obsp: 'connectivities', 'distances'"
      ]
     },
     "execution_count": 216,
     "metadata": {},
     "output_type": "execute_result"
    }
   ],
   "source": [
    "adata_control"
   ]
  },
  {
   "cell_type": "code",
   "execution_count": 217,
   "id": "0df5288d-ab9d-42e1-ac11-2fc3e4d59612",
   "metadata": {},
   "outputs": [],
   "source": [
    "decoded_control = np.matmul(adata_control.obsm[\"X_pca\"], adata_control.varm[\"PCs\"].T)"
   ]
  },
  {
   "cell_type": "code",
   "execution_count": 218,
   "id": "0d80d49a-d86c-401c-9aa9-ec8f72e76b1e",
   "metadata": {},
   "outputs": [
    {
     "data": {
      "text/plain": [
       "(1451, 2000)"
      ]
     },
     "execution_count": 218,
     "metadata": {},
     "output_type": "execute_result"
    }
   ],
   "source": [
    "decoded_control.shape"
   ]
  },
  {
   "cell_type": "code",
   "execution_count": 219,
   "id": "11ca4487-07a1-4535-9b3d-0d1ec0d8237f",
   "metadata": {},
   "outputs": [
    {
     "data": {
      "text/plain": [
       "(1, 2000)"
      ]
     },
     "execution_count": 219,
     "metadata": {},
     "output_type": "execute_result"
    }
   ],
   "source": [
    "adata_control.varm[\"X_train_mean\"].T.shape"
   ]
  },
  {
   "cell_type": "code",
   "execution_count": 220,
   "id": "35fbedcf-80d7-4196-a973-e72a770824e2",
   "metadata": {},
   "outputs": [],
   "source": [
    "decoded_control = decoded_control + adata_control.varm[\"X_train_mean\"].T"
   ]
  },
  {
   "cell_type": "code",
   "execution_count": 221,
   "id": "e435d245-114f-4530-aa0e-500e776ada3d",
   "metadata": {},
   "outputs": [
    {
     "data": {
      "text/plain": [
       "(1451, 2000)"
      ]
     },
     "execution_count": 221,
     "metadata": {},
     "output_type": "execute_result"
    }
   ],
   "source": [
    "decoded_control.shape"
   ]
  },
  {
   "cell_type": "code",
   "execution_count": 222,
   "id": "811347a8-d68a-46e4-afeb-82f5e46e63e4",
   "metadata": {},
   "outputs": [],
   "source": [
    "adata_control.layers[\"decoded\"] = decoded_control"
   ]
  },
  {
   "cell_type": "code",
   "execution_count": 223,
   "id": "a1247485-3e61-4b76-b707-a1d692014a1d",
   "metadata": {},
   "outputs": [
    {
     "name": "stderr",
     "output_type": "stream",
     "text": [
      "/tmp/ipykernel_1021055/3129674469.py:1: ImplicitModificationWarning: Setting element `.varm['X_train_mean']` of view, initializing view as actual.\n",
      "  adata_perturbed.varm[\"X_train_mean\"] = adata_control.varm[\"X_train_mean\"]\n"
     ]
    }
   ],
   "source": [
    "adata_perturbed.varm[\"X_train_mean\"] = adata_control.varm[\"X_train_mean\"]"
   ]
  },
  {
   "cell_type": "code",
   "execution_count": 224,
   "id": "d10806ab-7c3e-4f3a-9745-6c35b7469bcd",
   "metadata": {},
   "outputs": [],
   "source": [
    "adata_perturbed.layers[\"centered_X\"] = csr_matrix(adata_perturbed.X.A - train_mean)\n"
   ]
  },
  {
   "cell_type": "code",
   "execution_count": 225,
   "id": "fd4b3a20-437d-44d2-88d2-bb7954e4a7cf",
   "metadata": {},
   "outputs": [],
   "source": [
    "adata_perturbed.obsm[\"X_pca\"] = np.matmul(adata_perturbed.layers[\"centered_X\"].A, adata_control.varm[\"PCs\"])\n"
   ]
  },
  {
   "cell_type": "code",
   "execution_count": 226,
   "id": "93351f7f-c87e-42e5-8fdc-d75e0f2b50d7",
   "metadata": {},
   "outputs": [],
   "source": [
    "decoded_perturbed = np.matmul(adata_perturbed.obsm[\"X_pca\"], adata_control.varm[\"PCs\"].T)"
   ]
  },
  {
   "cell_type": "code",
   "execution_count": 227,
   "id": "2638b1d5-ac29-4277-9525-ef1f6a86251b",
   "metadata": {},
   "outputs": [
    {
     "data": {
      "text/plain": [
       "array([[-0.07000489,  0.04507792, -0.57818966, ...,  0.        ,\n",
       "         0.0064722 ,  0.        ],\n",
       "       [-0.06357426, -0.03105273, -0.28592279, ...,  0.        ,\n",
       "         0.00058535,  0.        ],\n",
       "       [-0.1433932 , -0.00365249, -0.40443147, ...,  0.        ,\n",
       "         0.0054383 ,  0.        ],\n",
       "       ...,\n",
       "       [-0.00158478,  0.04010468, -0.03574026, ...,  0.        ,\n",
       "         0.01117865,  0.        ],\n",
       "       [-0.00099264, -0.02552648,  0.24073236, ...,  0.        ,\n",
       "        -0.00328933,  0.        ],\n",
       "       [-0.03212178, -0.00821749, -0.19500846, ...,  0.        ,\n",
       "         0.00317082,  0.        ]])"
      ]
     },
     "execution_count": 227,
     "metadata": {},
     "output_type": "execute_result"
    }
   ],
   "source": [
    "decoded_perturbed"
   ]
  },
  {
   "cell_type": "code",
   "execution_count": 228,
   "id": "2abd29a3-5464-4b4d-bc91-e0dc79136e60",
   "metadata": {},
   "outputs": [],
   "source": [
    "decoded_perturbed = decoded_perturbed + adata_perturbed.varm[\"X_train_mean\"].T"
   ]
  },
  {
   "cell_type": "code",
   "execution_count": 229,
   "id": "8970b12d-4615-42a3-9211-6f43508b6e45",
   "metadata": {},
   "outputs": [
    {
     "data": {
      "text/plain": [
       "matrix([[ 0.03510217,  0.07441067, -0.13535424, ...,  0.        ,\n",
       "          0.00711592,  0.        ],\n",
       "        [ 0.0415328 , -0.00171999,  0.15691263, ...,  0.        ,\n",
       "          0.00122907,  0.        ],\n",
       "        [-0.03828614,  0.02568025,  0.03840395, ...,  0.        ,\n",
       "          0.00608202,  0.        ],\n",
       "        ...,\n",
       "        [ 0.10352228,  0.06943743,  0.40709516, ...,  0.        ,\n",
       "          0.01182236,  0.        ],\n",
       "        [ 0.10411442,  0.00380627,  0.68356778, ...,  0.        ,\n",
       "         -0.00264561,  0.        ],\n",
       "        [ 0.07298528,  0.02111526,  0.24782696, ...,  0.        ,\n",
       "          0.00381454,  0.        ]])"
      ]
     },
     "execution_count": 229,
     "metadata": {},
     "output_type": "execute_result"
    }
   ],
   "source": [
    "decoded_perturbed"
   ]
  },
  {
   "cell_type": "code",
   "execution_count": 230,
   "id": "08544329-cd29-4367-abea-79d57a690a75",
   "metadata": {},
   "outputs": [
    {
     "data": {
      "text/plain": [
       "(61927, 2000)"
      ]
     },
     "execution_count": 230,
     "metadata": {},
     "output_type": "execute_result"
    }
   ],
   "source": [
    "decoded_perturbed.shape"
   ]
  },
  {
   "cell_type": "code",
   "execution_count": 231,
   "id": "5da2505f-bec1-4ae9-bfb1-ce6109fe72ff",
   "metadata": {},
   "outputs": [],
   "source": [
    "adata_perturbed.layers[\"decoded\"] = decoded_perturbed"
   ]
  },
  {
   "cell_type": "code",
   "execution_count": 235,
   "id": "c7c28211-4671-4e78-9bed-dbf8c211967d",
   "metadata": {},
   "outputs": [],
   "source": [
    "unique_doses = [\"max_dose\"]\n",
    "unique_perturbations = adata_perturbed.obs[\"condition\"].unique()\n",
    "\n",
    "df = pd.DataFrame(index=unique_doses, columns=unique_perturbations)\n"
   ]
  },
  {
   "cell_type": "code",
   "execution_count": 236,
   "id": "b5b061f1-c2ed-410d-87e4-e7553b119e09",
   "metadata": {},
   "outputs": [],
   "source": [
    "reference_control = np.mean(np.asarray(decoded_control), axis=0)"
   ]
  },
  {
   "cell_type": "code",
   "execution_count": 237,
   "id": "14135ab3-365b-42fc-bbaf-526b4aed211d",
   "metadata": {},
   "outputs": [
    {
     "data": {
      "text/plain": [
       "(2000,)"
      ]
     },
     "execution_count": 237,
     "metadata": {},
     "output_type": "execute_result"
    }
   ],
   "source": [
    "reference_control.shape"
   ]
  },
  {
   "cell_type": "code",
   "execution_count": 238,
   "id": "766eac3a-2504-4e70-9b3b-30f69d1f2f0a",
   "metadata": {},
   "outputs": [
    {
     "name": "stderr",
     "output_type": "stream",
     "text": [
      "100%|██████████| 31/31 [00:01<00:00, 19.52it/s]\n"
     ]
    }
   ],
   "source": [
    "for perturbation in tqdm(unique_perturbations):\n",
    "    adata_temporal = adata_perturbed[(adata_perturbed.obs.perturbation == perturbation)]\n",
    "    decoded = adata_temporal.layers[\"decoded\"]\n",
    "    decoded_mean = np.mean(np.asarray(decoded), axis=0)\n",
    "    r2score_temporal = r2_score(decoded_mean, reference_control)\n",
    "    df.loc[\"max_dose\", perturbation] = r2score_temporal\n",
    "\n"
   ]
  },
  {
   "cell_type": "code",
   "execution_count": 239,
   "id": "31673cce-4043-4379-9199-e895ed4d1dc8",
   "metadata": {},
   "outputs": [
    {
     "data": {
      "text/html": [
       "<div>\n",
       "<style scoped>\n",
       "    .dataframe tbody tr th:only-of-type {\n",
       "        vertical-align: middle;\n",
       "    }\n",
       "\n",
       "    .dataframe tbody tr th {\n",
       "        vertical-align: top;\n",
       "    }\n",
       "\n",
       "    .dataframe thead th {\n",
       "        text-align: right;\n",
       "    }\n",
       "</style>\n",
       "<table border=\"1\" class=\"dataframe\">\n",
       "  <thead>\n",
       "    <tr style=\"text-align: right;\">\n",
       "      <th></th>\n",
       "      <th>control+Panobinostat</th>\n",
       "      <th>Cediranib+PCI-34051</th>\n",
       "      <th>Givinostat+SRT1720</th>\n",
       "      <th>Panobinostat+SRT3025</th>\n",
       "      <th>Panobinostat+PCI-34051</th>\n",
       "      <th>control+Dacinostat</th>\n",
       "      <th>Dacinostat+PCI-34051</th>\n",
       "      <th>Panobinostat+Sorafenib</th>\n",
       "      <th>Givinostat+Cediranib</th>\n",
       "      <th>control+Givinostat</th>\n",
       "      <th>...</th>\n",
       "      <th>control+Alvespimycin</th>\n",
       "      <th>Panobinostat+Curcumin</th>\n",
       "      <th>Givinostat+Dasatinib</th>\n",
       "      <th>SRT2104+Alvespimycin</th>\n",
       "      <th>Dacinostat+Dasatinib</th>\n",
       "      <th>control+SRT2104</th>\n",
       "      <th>Givinostat+Curcumin</th>\n",
       "      <th>Givinostat+Crizotinib</th>\n",
       "      <th>SRT3025+Cediranib</th>\n",
       "      <th>control+Dasatinib</th>\n",
       "    </tr>\n",
       "  </thead>\n",
       "  <tbody>\n",
       "    <tr>\n",
       "      <th>max_dose</th>\n",
       "      <td>0.402184</td>\n",
       "      <td>0.997354</td>\n",
       "      <td>0.962293</td>\n",
       "      <td>0.330006</td>\n",
       "      <td>0.388579</td>\n",
       "      <td>0.738828</td>\n",
       "      <td>0.61907</td>\n",
       "      <td>0.3525</td>\n",
       "      <td>0.961331</td>\n",
       "      <td>0.961492</td>\n",
       "      <td>...</td>\n",
       "      <td>0.931223</td>\n",
       "      <td>0.365691</td>\n",
       "      <td>0.960862</td>\n",
       "      <td>0.948157</td>\n",
       "      <td>0.595102</td>\n",
       "      <td>0.998055</td>\n",
       "      <td>0.964563</td>\n",
       "      <td>0.951202</td>\n",
       "      <td>0.998669</td>\n",
       "      <td>0.94783</td>\n",
       "    </tr>\n",
       "  </tbody>\n",
       "</table>\n",
       "<p>1 rows × 31 columns</p>\n",
       "</div>"
      ],
      "text/plain": [
       "         control+Panobinostat Cediranib+PCI-34051 Givinostat+SRT1720  \\\n",
       "max_dose             0.402184            0.997354           0.962293   \n",
       "\n",
       "         Panobinostat+SRT3025 Panobinostat+PCI-34051 control+Dacinostat  \\\n",
       "max_dose             0.330006               0.388579           0.738828   \n",
       "\n",
       "         Dacinostat+PCI-34051 Panobinostat+Sorafenib Givinostat+Cediranib  \\\n",
       "max_dose              0.61907                 0.3525             0.961331   \n",
       "\n",
       "         control+Givinostat  ... control+Alvespimycin Panobinostat+Curcumin  \\\n",
       "max_dose           0.961492  ...             0.931223              0.365691   \n",
       "\n",
       "         Givinostat+Dasatinib SRT2104+Alvespimycin Dacinostat+Dasatinib  \\\n",
       "max_dose             0.960862             0.948157             0.595102   \n",
       "\n",
       "         control+SRT2104 Givinostat+Curcumin Givinostat+Crizotinib  \\\n",
       "max_dose        0.998055            0.964563              0.951202   \n",
       "\n",
       "         SRT3025+Cediranib control+Dasatinib  \n",
       "max_dose          0.998669           0.94783  \n",
       "\n",
       "[1 rows x 31 columns]"
      ]
     },
     "execution_count": 239,
     "metadata": {},
     "output_type": "execute_result"
    }
   ],
   "source": [
    "df"
   ]
  },
  {
   "cell_type": "code",
   "execution_count": 241,
   "id": "13081185-dac1-40cd-8a51-c333223c726f",
   "metadata": {},
   "outputs": [
    {
     "data": {
      "image/png": "[encoded data removed]",
      "text/plain": [
       "<Figure size 640x480 with 1 Axes>"
      ]
     },
     "metadata": {},
     "output_type": "display_data"
    }
   ],
   "source": [
    "# Plot the histogram\n",
    "plt.hist(df.iloc[0].values, bins=100, edgecolor='black')  # Adjust the number of bins as needed\n",
    "plt.title('Histogram unique dose')\n",
    "plt.xlabel('R2')\n",
    "plt.ylabel('Frequency')\n",
    "plt.grid(True)\n",
    "plt.show()"
   ]
  },
  {
   "cell_type": "markdown",
   "id": "7d5275bc-238c-483f-8fa0-d27a41e865b4",
   "metadata": {},
   "source": [
    "## Satija's"
   ]
  },
  {
   "cell_type": "code",
   "execution_count": 3,
   "id": "1c99b7a1-a651-4712-8759-521f5d201433",
   "metadata": {},
   "outputs": [],
   "source": [
    "adata = sc.read_h5ad('/home/icb/alejandro.tejada/merged_adata.h5ad')"
   ]
  },
  {
   "cell_type": "code",
   "execution_count": 4,
   "id": "47c44969-19e5-458f-8f9e-19ff2d376f5f",
   "metadata": {},
   "outputs": [
    {
     "data": {
      "text/plain": [
       "AnnData object with n_obs × n_vars = 989299 × 58347\n",
       "    obs: 'orig.ident', 'nCount_originalexp', 'nFeature_originalexp', 'cell', 'sample', 'Size_Factor', 'n.umi', 'hash_umis', 'pval', 'qval', 'top_to_second_best_ratio', 'top_oligo', 'RT_well', 'Lig_well', 'P7_index', 'P5_index', 'PCR_plate', 'P5_cell', 'new_cell', 'scrublet_score', 'background_loading', 'hash_plate', 'cell_line', 'treatment', 'dose', 'replicate', 'gRNA_id', 'gene_id', 'guide_number', 'gRNA_maxCount', 'gRNA_topRatio'\n",
       "    var: 'id', 'gene_short_name'"
      ]
     },
     "execution_count": 4,
     "metadata": {},
     "output_type": "execute_result"
    }
   ],
   "source": [
    "adata"
   ]
  },
  {
   "cell_type": "code",
   "execution_count": 5,
   "id": "f8aac139-3a4f-482a-bfdd-d9f814613990",
   "metadata": {},
   "outputs": [],
   "source": [
    "sc.pp.normalize_total(adata)\n",
    "sc.pp.log1p(adata)"
   ]
  },
  {
   "cell_type": "code",
   "execution_count": 6,
   "id": "4f0a529c-e76a-43a8-a78d-6b522c840c79",
   "metadata": {},
   "outputs": [
    {
     "name": "stderr",
     "output_type": "stream",
     "text": [
      "/home/icb/alejandro.tejada/miniconda3/envs/fm/lib/python3.10/site-packages/scanpy/preprocessing/_highly_variable_genes.py:226: FutureWarning: The default of observed=False is deprecated and will be changed to True in a future version of pandas. Pass observed=False to retain current behavior or observed=True to adopt the future default and silence this warning.\n",
      "  disp_grouped = df.groupby(\"mean_bin\")[\"dispersions\"]\n"
     ]
    }
   ],
   "source": [
    "sc.pp.highly_variable_genes(adata, inplace=True, n_top_genes=2000)"
   ]
  },
  {
   "cell_type": "code",
   "execution_count": 7,
   "id": "d77f2304-c54b-4d74-828b-5f63d6442136",
   "metadata": {},
   "outputs": [
    {
     "data": {
      "text/plain": [
       "AnnData object with n_obs × n_vars = 989299 × 58347\n",
       "    obs: 'orig.ident', 'nCount_originalexp', 'nFeature_originalexp', 'cell', 'sample', 'Size_Factor', 'n.umi', 'hash_umis', 'pval', 'qval', 'top_to_second_best_ratio', 'top_oligo', 'RT_well', 'Lig_well', 'P7_index', 'P5_index', 'PCR_plate', 'P5_cell', 'new_cell', 'scrublet_score', 'background_loading', 'hash_plate', 'cell_line', 'treatment', 'dose', 'replicate', 'gRNA_id', 'gene_id', 'guide_number', 'gRNA_maxCount', 'gRNA_topRatio'\n",
       "    var: 'id', 'gene_short_name', 'highly_variable', 'means', 'dispersions', 'dispersions_norm'\n",
       "    uns: 'log1p', 'hvg'"
      ]
     },
     "execution_count": 7,
     "metadata": {},
     "output_type": "execute_result"
    }
   ],
   "source": [
    "adata"
   ]
  },
  {
   "cell_type": "code",
   "execution_count": 8,
   "id": "cccffc03-52b2-4700-ae49-d1951d4c227a",
   "metadata": {},
   "outputs": [],
   "source": [
    "adata = adata[:,adata.var[\"highly_variable\"]==True]"
   ]
  },
  {
   "cell_type": "code",
   "execution_count": 9,
   "id": "7ae5a24c-7186-4a39-b25f-3e965cc76cf6",
   "metadata": {},
   "outputs": [
    {
     "data": {
      "text/plain": [
       "View of AnnData object with n_obs × n_vars = 989299 × 2000\n",
       "    obs: 'orig.ident', 'nCount_originalexp', 'nFeature_originalexp', 'cell', 'sample', 'Size_Factor', 'n.umi', 'hash_umis', 'pval', 'qval', 'top_to_second_best_ratio', 'top_oligo', 'RT_well', 'Lig_well', 'P7_index', 'P5_index', 'PCR_plate', 'P5_cell', 'new_cell', 'scrublet_score', 'background_loading', 'hash_plate', 'cell_line', 'treatment', 'dose', 'replicate', 'gRNA_id', 'gene_id', 'guide_number', 'gRNA_maxCount', 'gRNA_topRatio'\n",
       "    var: 'id', 'gene_short_name', 'highly_variable', 'means', 'dispersions', 'dispersions_norm'\n",
       "    uns: 'log1p', 'hvg'"
      ]
     },
     "execution_count": 9,
     "metadata": {},
     "output_type": "execute_result"
    }
   ],
   "source": [
    "adata"
   ]
  },
  {
   "cell_type": "code",
   "execution_count": 11,
   "id": "45487096-db48-4331-b7af-ede16b1d9cd8",
   "metadata": {},
   "outputs": [
    {
     "data": {
      "text/html": [
       "<div>\n",
       "<style scoped>\n",
       "    .dataframe tbody tr th:only-of-type {\n",
       "        vertical-align: middle;\n",
       "    }\n",
       "\n",
       "    .dataframe tbody tr th {\n",
       "        vertical-align: top;\n",
       "    }\n",
       "\n",
       "    .dataframe thead th {\n",
       "        text-align: right;\n",
       "    }\n",
       "</style>\n",
       "<table border=\"1\" class=\"dataframe\">\n",
       "  <thead>\n",
       "    <tr style=\"text-align: right;\">\n",
       "      <th></th>\n",
       "      <th>cell_line</th>\n",
       "      <th>treatment</th>\n",
       "      <th>dose</th>\n",
       "      <th>replicate</th>\n",
       "      <th>gRNA_id</th>\n",
       "      <th>gene_id</th>\n",
       "      <th>guide_number</th>\n",
       "      <th>gRNA_maxCount</th>\n",
       "      <th>gRNA_topRatio</th>\n",
       "    </tr>\n",
       "  </thead>\n",
       "  <tbody>\n",
       "    <tr>\n",
       "      <th>01A_A01_RT_BC_100_Lig_BC_134</th>\n",
       "      <td>0</td>\n",
       "      <td>1</td>\n",
       "      <td>1</td>\n",
       "      <td>0</td>\n",
       "      <td>PHKG2_4</td>\n",
       "      <td>PHKG2</td>\n",
       "      <td>1.0</td>\n",
       "      <td>502</td>\n",
       "      <td>0.896429</td>\n",
       "    </tr>\n",
       "    <tr>\n",
       "      <th>01A_A01_RT_BC_100_Lig_BC_253</th>\n",
       "      <td>0</td>\n",
       "      <td>4</td>\n",
       "      <td>10</td>\n",
       "      <td>0</td>\n",
       "      <td>DAPK1_2</td>\n",
       "      <td>DAPK1</td>\n",
       "      <td>1.0</td>\n",
       "      <td>467</td>\n",
       "      <td>0.917485</td>\n",
       "    </tr>\n",
       "    <tr>\n",
       "      <th>01A_A01_RT_BC_100_Lig_BC_26</th>\n",
       "      <td>0</td>\n",
       "      <td>0</td>\n",
       "      <td>10</td>\n",
       "      <td>0</td>\n",
       "      <td>MYO3B_3</td>\n",
       "      <td>MYO3B</td>\n",
       "      <td>1.0</td>\n",
       "      <td>784</td>\n",
       "      <td>0.894977</td>\n",
       "    </tr>\n",
       "    <tr>\n",
       "      <th>01A_A01_RT_BC_100_Lig_BC_340</th>\n",
       "      <td>0</td>\n",
       "      <td>0</td>\n",
       "      <td>10</td>\n",
       "      <td>0</td>\n",
       "      <td>CDK9_3</td>\n",
       "      <td>CDK9</td>\n",
       "      <td>1.0</td>\n",
       "      <td>275</td>\n",
       "      <td>0.867508</td>\n",
       "    </tr>\n",
       "    <tr>\n",
       "      <th>01A_A01_RT_BC_100_Lig_BC_83</th>\n",
       "      <td>0</td>\n",
       "      <td>0</td>\n",
       "      <td>10</td>\n",
       "      <td>0</td>\n",
       "      <td>NEK9_2</td>\n",
       "      <td>NEK9</td>\n",
       "      <td>1.0</td>\n",
       "      <td>482</td>\n",
       "      <td>0.894249</td>\n",
       "    </tr>\n",
       "    <tr>\n",
       "      <th>...</th>\n",
       "      <td>...</td>\n",
       "      <td>...</td>\n",
       "      <td>...</td>\n",
       "      <td>...</td>\n",
       "      <td>...</td>\n",
       "      <td>...</td>\n",
       "      <td>...</td>\n",
       "      <td>...</td>\n",
       "      <td>...</td>\n",
       "    </tr>\n",
       "    <tr>\n",
       "      <th>12D_H12_RT_BC_99_Lig_BC_147</th>\n",
       "      <td>2</td>\n",
       "      <td>1</td>\n",
       "      <td>10</td>\n",
       "      <td>0</td>\n",
       "      <td>PTK6_1</td>\n",
       "      <td>PTK6</td>\n",
       "      <td>1.0</td>\n",
       "      <td>2766</td>\n",
       "      <td>0.928811</td>\n",
       "    </tr>\n",
       "    <tr>\n",
       "      <th>12D_H12_RT_BC_99_Lig_BC_303</th>\n",
       "      <td>2</td>\n",
       "      <td>0</td>\n",
       "      <td>10</td>\n",
       "      <td>0</td>\n",
       "      <td>ARAF_4</td>\n",
       "      <td>ARAF</td>\n",
       "      <td>1.0</td>\n",
       "      <td>822</td>\n",
       "      <td>0.916388</td>\n",
       "    </tr>\n",
       "    <tr>\n",
       "      <th>12D_H12_RT_BC_99_Lig_BC_307</th>\n",
       "      <td>2</td>\n",
       "      <td>1</td>\n",
       "      <td>1</td>\n",
       "      <td>0</td>\n",
       "      <td>ERN2_3</td>\n",
       "      <td>ERN2</td>\n",
       "      <td>1.0</td>\n",
       "      <td>1</td>\n",
       "      <td>1.000000</td>\n",
       "    </tr>\n",
       "    <tr>\n",
       "      <th>12D_H12_RT_BC_99_Lig_BC_34</th>\n",
       "      <td>2</td>\n",
       "      <td>1</td>\n",
       "      <td>10</td>\n",
       "      <td>0</td>\n",
       "      <td>CDK9_2</td>\n",
       "      <td>CDK9</td>\n",
       "      <td>1.0</td>\n",
       "      <td>388</td>\n",
       "      <td>0.919431</td>\n",
       "    </tr>\n",
       "    <tr>\n",
       "      <th>12D_H12_RT_BC_9_Lig_BC_174</th>\n",
       "      <td>2</td>\n",
       "      <td>0</td>\n",
       "      <td>10</td>\n",
       "      <td>0</td>\n",
       "      <td>BRAF_2</td>\n",
       "      <td>BRAF</td>\n",
       "      <td>1.0</td>\n",
       "      <td>470</td>\n",
       "      <td>0.925197</td>\n",
       "    </tr>\n",
       "  </tbody>\n",
       "</table>\n",
       "<p>989299 rows × 9 columns</p>\n",
       "</div>"
      ],
      "text/plain": [
       "                              cell_line  treatment  dose  replicate  gRNA_id  \\\n",
       "01A_A01_RT_BC_100_Lig_BC_134          0          1     1          0  PHKG2_4   \n",
       "01A_A01_RT_BC_100_Lig_BC_253          0          4    10          0  DAPK1_2   \n",
       "01A_A01_RT_BC_100_Lig_BC_26           0          0    10          0  MYO3B_3   \n",
       "01A_A01_RT_BC_100_Lig_BC_340          0          0    10          0   CDK9_3   \n",
       "01A_A01_RT_BC_100_Lig_BC_83           0          0    10          0   NEK9_2   \n",
       "...                                 ...        ...   ...        ...      ...   \n",
       "12D_H12_RT_BC_99_Lig_BC_147           2          1    10          0   PTK6_1   \n",
       "12D_H12_RT_BC_99_Lig_BC_303           2          0    10          0   ARAF_4   \n",
       "12D_H12_RT_BC_99_Lig_BC_307           2          1     1          0   ERN2_3   \n",
       "12D_H12_RT_BC_99_Lig_BC_34            2          1    10          0   CDK9_2   \n",
       "12D_H12_RT_BC_9_Lig_BC_174            2          0    10          0   BRAF_2   \n",
       "\n",
       "                             gene_id  guide_number  gRNA_maxCount  \\\n",
       "01A_A01_RT_BC_100_Lig_BC_134   PHKG2           1.0            502   \n",
       "01A_A01_RT_BC_100_Lig_BC_253   DAPK1           1.0            467   \n",
       "01A_A01_RT_BC_100_Lig_BC_26    MYO3B           1.0            784   \n",
       "01A_A01_RT_BC_100_Lig_BC_340    CDK9           1.0            275   \n",
       "01A_A01_RT_BC_100_Lig_BC_83     NEK9           1.0            482   \n",
       "...                              ...           ...            ...   \n",
       "12D_H12_RT_BC_99_Lig_BC_147     PTK6           1.0           2766   \n",
       "12D_H12_RT_BC_99_Lig_BC_303     ARAF           1.0            822   \n",
       "12D_H12_RT_BC_99_Lig_BC_307     ERN2           1.0              1   \n",
       "12D_H12_RT_BC_99_Lig_BC_34      CDK9           1.0            388   \n",
       "12D_H12_RT_BC_9_Lig_BC_174      BRAF           1.0            470   \n",
       "\n",
       "                              gRNA_topRatio  \n",
       "01A_A01_RT_BC_100_Lig_BC_134       0.896429  \n",
       "01A_A01_RT_BC_100_Lig_BC_253       0.917485  \n",
       "01A_A01_RT_BC_100_Lig_BC_26        0.894977  \n",
       "01A_A01_RT_BC_100_Lig_BC_340       0.867508  \n",
       "01A_A01_RT_BC_100_Lig_BC_83        0.894249  \n",
       "...                                     ...  \n",
       "12D_H12_RT_BC_99_Lig_BC_147        0.928811  \n",
       "12D_H12_RT_BC_99_Lig_BC_303        0.916388  \n",
       "12D_H12_RT_BC_99_Lig_BC_307        1.000000  \n",
       "12D_H12_RT_BC_99_Lig_BC_34         0.919431  \n",
       "12D_H12_RT_BC_9_Lig_BC_174         0.925197  \n",
       "\n",
       "[989299 rows x 9 columns]"
      ]
     },
     "execution_count": 11,
     "metadata": {},
     "output_type": "execute_result"
    }
   ],
   "source": [
    "adata.obs[[ 'cell_line', 'treatment', 'dose', 'replicate', 'gRNA_id', 'gene_id', 'guide_number', 'gRNA_maxCount', 'gRNA_topRatio']]"
   ]
  },
  {
   "cell_type": "code",
   "execution_count": 209,
   "id": "a652dcc7-d7e2-4e78-bf96-b12ede670539",
   "metadata": {},
   "outputs": [
    {
     "name": "stderr",
     "output_type": "stream",
     "text": [
      "/tmp/ipykernel_1021055/41560897.py:1: ImplicitModificationWarning: Trying to modify attribute `.obs` of view, initializing view as actual.\n",
      "  adata.obs[\"perturbation\"] = adata.obs[\"condition\"]\n"
     ]
    }
   ],
   "source": [
    "adata.obs[\"perturbation\"] = adata.obs[\"condition\"]\n",
    "adata.obs[\"cell_line\"] = adata.obs[\"cell_type\"]"
   ]
  },
  {
   "cell_type": "code",
   "execution_count": 211,
   "id": "733dccde-6f17-4b94-b5ab-334b5870fa47",
   "metadata": {},
   "outputs": [],
   "source": [
    "adata_control = adata[adata.obs.perturbation == 'control+control']\n",
    "adata_perturbed = adata[adata.obs.perturbation != 'control+control']"
   ]
  },
  {
   "cell_type": "code",
   "execution_count": 212,
   "id": "e1be905e-0efb-4a93-81c2-d9a60e5a5c16",
   "metadata": {},
   "outputs": [
    {
     "data": {
      "text/plain": [
       "View of AnnData object with n_obs × n_vars = 1451 × 2000\n",
       "    obs: 'sample', 'Size_Factor', 'n.umi', 'RT_well', 'Drug1', 'Drug2', 'Well', 'n_genes', 'n_genes_by_counts', 'total_counts', 'total_counts_mt', 'pct_counts_mt', 'leiden', 'condition', 'pathway1', 'pathway2', 'split', 'control', 'cell_type', 'perturbation', 'cell_line'\n",
       "    var: 'id', 'n_cells', 'mt', 'n_cells_by_counts', 'mean_counts', 'pct_dropout_by_counts', 'total_counts', 'highly_variable', 'means', 'dispersions', 'dispersions_norm'\n",
       "    uns: 'Drug1_colors', 'Drug2_colors', 'Well_colors', 'condition_colors', 'dendrogram_leiden', 'hvg', 'leiden', 'leiden_colors', 'neighbors', 'pathway1_colors', 'pathway2_colors', 'pathway_colors', 'pca', 'rank_genes_groups', 'split_colors', 'umap', 'log1p'\n",
       "    obsm: 'X_pca', 'X_umap'\n",
       "    varm: 'PCs'\n",
       "    layers: 'counts'\n",
       "    obsp: 'connectivities', 'distances'"
      ]
     },
     "execution_count": 212,
     "metadata": {},
     "output_type": "execute_result"
    }
   ],
   "source": [
    "adata_control"
   ]
  },
  {
   "cell_type": "code",
   "execution_count": 213,
   "id": "08cc4409-10f7-4af1-99ed-a597c1a41a18",
   "metadata": {},
   "outputs": [
    {
     "name": "stderr",
     "output_type": "stream",
     "text": [
      "/tmp/ipykernel_1021055/3585228133.py:1: ImplicitModificationWarning: Setting element `.varm['X_train_mean']` of view, initializing view as actual.\n",
      "  adata_control.varm[\"X_train_mean\"] = adata_control.X.mean(axis=0).T\n"
     ]
    }
   ],
   "source": [
    "adata_control.varm[\"X_train_mean\"] = adata_control.X.mean(axis=0).T"
   ]
  },
  {
   "cell_type": "code",
   "execution_count": 214,
   "id": "9415d38f-9b40-4c4d-8817-5afa918f02e1",
   "metadata": {},
   "outputs": [],
   "source": [
    "from scipy.sparse import csr_matrix, vstack\n",
    "\n",
    "train_mean = adata_control.varm[\"X_train_mean\"].T\n",
    "adata_control.layers[\"centered_X\"] = csr_matrix(adata_control.X.A - train_mean)"
   ]
  },
  {
   "cell_type": "code",
   "execution_count": 215,
   "id": "a1430dec-b3fd-48a2-b64e-b33193b3e2ed",
   "metadata": {},
   "outputs": [],
   "source": [
    "sc.pp.pca(adata_control, layer=\"centered_X\", zero_center=False, n_comps=50)"
   ]
  },
  {
   "cell_type": "code",
   "execution_count": 216,
   "id": "89ac2d44-899d-4f5e-8e38-6415d9de3a03",
   "metadata": {},
   "outputs": [
    {
     "data": {
      "text/plain": [
       "AnnData object with n_obs × n_vars = 1451 × 2000\n",
       "    obs: 'sample', 'Size_Factor', 'n.umi', 'RT_well', 'Drug1', 'Drug2', 'Well', 'n_genes', 'n_genes_by_counts', 'total_counts', 'total_counts_mt', 'pct_counts_mt', 'leiden', 'condition', 'pathway1', 'pathway2', 'split', 'control', 'cell_type', 'perturbation', 'cell_line'\n",
       "    var: 'id', 'n_cells', 'mt', 'n_cells_by_counts', 'mean_counts', 'pct_dropout_by_counts', 'total_counts', 'highly_variable', 'means', 'dispersions', 'dispersions_norm'\n",
       "    uns: 'Drug1_colors', 'Drug2_colors', 'Well_colors', 'condition_colors', 'dendrogram_leiden', 'hvg', 'leiden', 'leiden_colors', 'neighbors', 'pathway1_colors', 'pathway2_colors', 'pathway_colors', 'pca', 'rank_genes_groups', 'split_colors', 'umap', 'log1p'\n",
       "    obsm: 'X_pca', 'X_umap'\n",
       "    varm: 'PCs', 'X_train_mean'\n",
       "    layers: 'counts', 'centered_X'\n",
       "    obsp: 'connectivities', 'distances'"
      ]
     },
     "execution_count": 216,
     "metadata": {},
     "output_type": "execute_result"
    }
   ],
   "source": [
    "adata_control"
   ]
  },
  {
   "cell_type": "code",
   "execution_count": 217,
   "id": "7760ff88-5b6a-4b20-b64e-8656457e1c38",
   "metadata": {},
   "outputs": [],
   "source": [
    "decoded_control = np.matmul(adata_control.obsm[\"X_pca\"], adata_control.varm[\"PCs\"].T)"
   ]
  },
  {
   "cell_type": "code",
   "execution_count": 218,
   "id": "af56e0e2-5da7-4d64-a35f-4bc945bb4a05",
   "metadata": {},
   "outputs": [
    {
     "data": {
      "text/plain": [
       "(1451, 2000)"
      ]
     },
     "execution_count": 218,
     "metadata": {},
     "output_type": "execute_result"
    }
   ],
   "source": [
    "decoded_control.shape"
   ]
  },
  {
   "cell_type": "code",
   "execution_count": 219,
   "id": "7d0215f2-447c-4710-904a-e43e29fdf9e4",
   "metadata": {},
   "outputs": [
    {
     "data": {
      "text/plain": [
       "(1, 2000)"
      ]
     },
     "execution_count": 219,
     "metadata": {},
     "output_type": "execute_result"
    }
   ],
   "source": [
    "adata_control.varm[\"X_train_mean\"].T.shape"
   ]
  },
  {
   "cell_type": "code",
   "execution_count": 220,
   "id": "fedb0f74-291a-4db1-ac3f-91b30af984ba",
   "metadata": {},
   "outputs": [],
   "source": [
    "decoded_control = decoded_control + adata_control.varm[\"X_train_mean\"].T"
   ]
  },
  {
   "cell_type": "code",
   "execution_count": 221,
   "id": "a473c11f-d6b2-4351-913d-e0ecbdf7f406",
   "metadata": {},
   "outputs": [
    {
     "data": {
      "text/plain": [
       "(1451, 2000)"
      ]
     },
     "execution_count": 221,
     "metadata": {},
     "output_type": "execute_result"
    }
   ],
   "source": [
    "decoded_control.shape"
   ]
  },
  {
   "cell_type": "code",
   "execution_count": 222,
   "id": "ccfe83ca-014f-4d42-950c-ebf9cf39543f",
   "metadata": {},
   "outputs": [],
   "source": [
    "adata_control.layers[\"decoded\"] = decoded_control"
   ]
  },
  {
   "cell_type": "code",
   "execution_count": 223,
   "id": "286c342a-3b93-44fb-8436-1f30becd8603",
   "metadata": {},
   "outputs": [
    {
     "name": "stderr",
     "output_type": "stream",
     "text": [
      "/tmp/ipykernel_1021055/3129674469.py:1: ImplicitModificationWarning: Setting element `.varm['X_train_mean']` of view, initializing view as actual.\n",
      "  adata_perturbed.varm[\"X_train_mean\"] = adata_control.varm[\"X_train_mean\"]\n"
     ]
    }
   ],
   "source": [
    "adata_perturbed.varm[\"X_train_mean\"] = adata_control.varm[\"X_train_mean\"]"
   ]
  },
  {
   "cell_type": "code",
   "execution_count": 224,
   "id": "a351be94-3deb-404e-b077-d8f07dcd6353",
   "metadata": {},
   "outputs": [],
   "source": [
    "adata_perturbed.layers[\"centered_X\"] = csr_matrix(adata_perturbed.X.A - train_mean)\n"
   ]
  },
  {
   "cell_type": "code",
   "execution_count": 225,
   "id": "e7872a9e-d8b6-445c-9138-f990632e92c1",
   "metadata": {},
   "outputs": [],
   "source": [
    "adata_perturbed.obsm[\"X_pca\"] = np.matmul(adata_perturbed.layers[\"centered_X\"].A, adata_control.varm[\"PCs\"])\n"
   ]
  },
  {
   "cell_type": "code",
   "execution_count": 226,
   "id": "9a2a8a3a-030d-4c52-acdc-ff688fdc625b",
   "metadata": {},
   "outputs": [],
   "source": [
    "decoded_perturbed = np.matmul(adata_perturbed.obsm[\"X_pca\"], adata_control.varm[\"PCs\"].T)"
   ]
  },
  {
   "cell_type": "code",
   "execution_count": 227,
   "id": "a5c995ba-c17e-4eb6-bb44-002952333f28",
   "metadata": {},
   "outputs": [
    {
     "data": {
      "text/plain": [
       "array([[-0.07000489,  0.04507792, -0.57818966, ...,  0.        ,\n",
       "         0.0064722 ,  0.        ],\n",
       "       [-0.06357426, -0.03105273, -0.28592279, ...,  0.        ,\n",
       "         0.00058535,  0.        ],\n",
       "       [-0.1433932 , -0.00365249, -0.40443147, ...,  0.        ,\n",
       "         0.0054383 ,  0.        ],\n",
       "       ...,\n",
       "       [-0.00158478,  0.04010468, -0.03574026, ...,  0.        ,\n",
       "         0.01117865,  0.        ],\n",
       "       [-0.00099264, -0.02552648,  0.24073236, ...,  0.        ,\n",
       "        -0.00328933,  0.        ],\n",
       "       [-0.03212178, -0.00821749, -0.19500846, ...,  0.        ,\n",
       "         0.00317082,  0.        ]])"
      ]
     },
     "execution_count": 227,
     "metadata": {},
     "output_type": "execute_result"
    }
   ],
   "source": [
    "decoded_perturbed"
   ]
  },
  {
   "cell_type": "code",
   "execution_count": 228,
   "id": "36411c07-963a-4ed7-a0cb-f37a1595e5c5",
   "metadata": {},
   "outputs": [],
   "source": [
    "decoded_perturbed = decoded_perturbed + adata_perturbed.varm[\"X_train_mean\"].T"
   ]
  },
  {
   "cell_type": "code",
   "execution_count": 229,
   "id": "9eb7d957-6a8a-49f9-adb2-a51ddcee9e03",
   "metadata": {},
   "outputs": [
    {
     "data": {
      "text/plain": [
       "matrix([[ 0.03510217,  0.07441067, -0.13535424, ...,  0.        ,\n",
       "          0.00711592,  0.        ],\n",
       "        [ 0.0415328 , -0.00171999,  0.15691263, ...,  0.        ,\n",
       "          0.00122907,  0.        ],\n",
       "        [-0.03828614,  0.02568025,  0.03840395, ...,  0.        ,\n",
       "          0.00608202,  0.        ],\n",
       "        ...,\n",
       "        [ 0.10352228,  0.06943743,  0.40709516, ...,  0.        ,\n",
       "          0.01182236,  0.        ],\n",
       "        [ 0.10411442,  0.00380627,  0.68356778, ...,  0.        ,\n",
       "         -0.00264561,  0.        ],\n",
       "        [ 0.07298528,  0.02111526,  0.24782696, ...,  0.        ,\n",
       "          0.00381454,  0.        ]])"
      ]
     },
     "execution_count": 229,
     "metadata": {},
     "output_type": "execute_result"
    }
   ],
   "source": [
    "decoded_perturbed"
   ]
  },
  {
   "cell_type": "code",
   "execution_count": 230,
   "id": "f0bcf03a-236f-45c0-ab49-00068e19bf27",
   "metadata": {},
   "outputs": [
    {
     "data": {
      "text/plain": [
       "(61927, 2000)"
      ]
     },
     "execution_count": 230,
     "metadata": {},
     "output_type": "execute_result"
    }
   ],
   "source": [
    "decoded_perturbed.shape"
   ]
  },
  {
   "cell_type": "code",
   "execution_count": 231,
   "id": "fee7dd61-77fd-4601-b887-3d642fad510e",
   "metadata": {},
   "outputs": [],
   "source": [
    "adata_perturbed.layers[\"decoded\"] = decoded_perturbed"
   ]
  },
  {
   "cell_type": "code",
   "execution_count": 235,
   "id": "80da7500-8767-4cc2-b94b-842d29b3916e",
   "metadata": {},
   "outputs": [],
   "source": [
    "unique_doses = [\"max_dose\"]\n",
    "unique_perturbations = adata_perturbed.obs[\"condition\"].unique()\n",
    "\n",
    "df = pd.DataFrame(index=unique_doses, columns=unique_perturbations)\n"
   ]
  },
  {
   "cell_type": "code",
   "execution_count": 236,
   "id": "24532e6b-7026-4e4d-b600-9a8652cc5454",
   "metadata": {},
   "outputs": [],
   "source": [
    "reference_control = np.mean(np.asarray(decoded_control), axis=0)"
   ]
  },
  {
   "cell_type": "code",
   "execution_count": 237,
   "id": "408cc46e-b7f2-4e51-be9c-81f31dc4613e",
   "metadata": {},
   "outputs": [
    {
     "data": {
      "text/plain": [
       "(2000,)"
      ]
     },
     "execution_count": 237,
     "metadata": {},
     "output_type": "execute_result"
    }
   ],
   "source": [
    "reference_control.shape"
   ]
  },
  {
   "cell_type": "code",
   "execution_count": 238,
   "id": "a6c98bc3-c8fb-4412-8a31-5a139367b891",
   "metadata": {},
   "outputs": [
    {
     "name": "stderr",
     "output_type": "stream",
     "text": [
      "100%|██████████| 31/31 [00:01<00:00, 19.52it/s]\n"
     ]
    }
   ],
   "source": [
    "for perturbation in tqdm(unique_perturbations):\n",
    "    adata_temporal = adata_perturbed[(adata_perturbed.obs.perturbation == perturbation)]\n",
    "    decoded = adata_temporal.layers[\"decoded\"]\n",
    "    decoded_mean = np.mean(np.asarray(decoded), axis=0)\n",
    "    r2score_temporal = r2_score(decoded_mean, reference_control)\n",
    "    df.loc[\"max_dose\", perturbation] = r2score_temporal\n",
    "\n"
   ]
  },
  {
   "cell_type": "code",
   "execution_count": 239,
   "id": "69c65b0e-335e-463c-b524-e5f22a81e4c3",
   "metadata": {},
   "outputs": [
    {
     "data": {
      "text/html": [
       "<div>\n",
       "<style scoped>\n",
       "    .dataframe tbody tr th:only-of-type {\n",
       "        vertical-align: middle;\n",
       "    }\n",
       "\n",
       "    .dataframe tbody tr th {\n",
       "        vertical-align: top;\n",
       "    }\n",
       "\n",
       "    .dataframe thead th {\n",
       "        text-align: right;\n",
       "    }\n",
       "</style>\n",
       "<table border=\"1\" class=\"dataframe\">\n",
       "  <thead>\n",
       "    <tr style=\"text-align: right;\">\n",
       "      <th></th>\n",
       "      <th>control+Panobinostat</th>\n",
       "      <th>Cediranib+PCI-34051</th>\n",
       "      <th>Givinostat+SRT1720</th>\n",
       "      <th>Panobinostat+SRT3025</th>\n",
       "      <th>Panobinostat+PCI-34051</th>\n",
       "      <th>control+Dacinostat</th>\n",
       "      <th>Dacinostat+PCI-34051</th>\n",
       "      <th>Panobinostat+Sorafenib</th>\n",
       "      <th>Givinostat+Cediranib</th>\n",
       "      <th>control+Givinostat</th>\n",
       "      <th>...</th>\n",
       "      <th>control+Alvespimycin</th>\n",
       "      <th>Panobinostat+Curcumin</th>\n",
       "      <th>Givinostat+Dasatinib</th>\n",
       "      <th>SRT2104+Alvespimycin</th>\n",
       "      <th>Dacinostat+Dasatinib</th>\n",
       "      <th>control+SRT2104</th>\n",
       "      <th>Givinostat+Curcumin</th>\n",
       "      <th>Givinostat+Crizotinib</th>\n",
       "      <th>SRT3025+Cediranib</th>\n",
       "      <th>control+Dasatinib</th>\n",
       "    </tr>\n",
       "  </thead>\n",
       "  <tbody>\n",
       "    <tr>\n",
       "      <th>max_dose</th>\n",
       "      <td>0.402184</td>\n",
       "      <td>0.997354</td>\n",
       "      <td>0.962293</td>\n",
       "      <td>0.330006</td>\n",
       "      <td>0.388579</td>\n",
       "      <td>0.738828</td>\n",
       "      <td>0.61907</td>\n",
       "      <td>0.3525</td>\n",
       "      <td>0.961331</td>\n",
       "      <td>0.961492</td>\n",
       "      <td>...</td>\n",
       "      <td>0.931223</td>\n",
       "      <td>0.365691</td>\n",
       "      <td>0.960862</td>\n",
       "      <td>0.948157</td>\n",
       "      <td>0.595102</td>\n",
       "      <td>0.998055</td>\n",
       "      <td>0.964563</td>\n",
       "      <td>0.951202</td>\n",
       "      <td>0.998669</td>\n",
       "      <td>0.94783</td>\n",
       "    </tr>\n",
       "  </tbody>\n",
       "</table>\n",
       "<p>1 rows × 31 columns</p>\n",
       "</div>"
      ],
      "text/plain": [
       "         control+Panobinostat Cediranib+PCI-34051 Givinostat+SRT1720  \\\n",
       "max_dose             0.402184            0.997354           0.962293   \n",
       "\n",
       "         Panobinostat+SRT3025 Panobinostat+PCI-34051 control+Dacinostat  \\\n",
       "max_dose             0.330006               0.388579           0.738828   \n",
       "\n",
       "         Dacinostat+PCI-34051 Panobinostat+Sorafenib Givinostat+Cediranib  \\\n",
       "max_dose              0.61907                 0.3525             0.961331   \n",
       "\n",
       "         control+Givinostat  ... control+Alvespimycin Panobinostat+Curcumin  \\\n",
       "max_dose           0.961492  ...             0.931223              0.365691   \n",
       "\n",
       "         Givinostat+Dasatinib SRT2104+Alvespimycin Dacinostat+Dasatinib  \\\n",
       "max_dose             0.960862             0.948157             0.595102   \n",
       "\n",
       "         control+SRT2104 Givinostat+Curcumin Givinostat+Crizotinib  \\\n",
       "max_dose        0.998055            0.964563              0.951202   \n",
       "\n",
       "         SRT3025+Cediranib control+Dasatinib  \n",
       "max_dose          0.998669           0.94783  \n",
       "\n",
       "[1 rows x 31 columns]"
      ]
     },
     "execution_count": 239,
     "metadata": {},
     "output_type": "execute_result"
    }
   ],
   "source": [
    "df"
   ]
  },
  {
   "cell_type": "code",
   "execution_count": 241,
   "id": "8bb79790-743e-4a92-a32a-c2df3420d510",
   "metadata": {},
   "outputs": [
    {
     "data": {
      "image/png": "[encoded data removed]",
      "text/plain": [
       "<Figure size 640x480 with 1 Axes>"
      ]
     },
     "metadata": {},
     "output_type": "display_data"
    }
   ],
   "source": [
    "# Plot the histogram\n",
    "plt.hist(df.iloc[0].values, bins=100, edgecolor='black')  # Adjust the number of bins as needed\n",
    "plt.title('Histogram unique dose')\n",
    "plt.xlabel('R2')\n",
    "plt.ylabel('Frequency')\n",
    "plt.grid(True)\n",
    "plt.show()"
   ]
  }
 ],
 "metadata": {
  "kernelspec": {
   "display_name": "Python 3 (ipykernel)",
   "language": "python",
   "name": "python3"
  },
  "language_info": {
   "codemirror_mode": {
    "name": "ipython",
    "version": 3
   },
   "file_extension": ".py",
   "mimetype": "text/x-python",
   "name": "python",
   "nbconvert_exporter": "python",
   "pygments_lexer": "ipython3",
   "version": "3.10.13"
  }
 },
 "nbformat": 4,
 "nbformat_minor": 5
}
