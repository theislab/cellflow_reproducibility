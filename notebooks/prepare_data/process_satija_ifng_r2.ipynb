{
 "cells": [
  {
   "cell_type": "code",
   "execution_count": 107,
   "metadata": {},
   "outputs": [],
   "source": [
    "import os\n",
    "import scanpy as sc\n",
    "import anndata\n",
    "import numpy as np\n",
    "import pandas as pd\n",
    "import pickle\n",
    "from sklearn.metrics import r2_score\n",
    "from scipy.sparse import csr_matrix, vstack\n",
    "from tqdm import tqdm\n",
    "from ott.geometry import costs, pointcloud\n",
    "from ott.solvers.linear import sinkhorn\n",
    "from ott.solvers import linear\n",
    "from ott.tools.sinkhorn_divergence import sinkhorn_divergence\n",
    "from sklearn.metrics import r2_score"
   ]
  },
  {
   "cell_type": "code",
   "execution_count": 171,
   "metadata": {},
   "outputs": [],
   "source": [
    "k_ood = 6\n",
    "pathway = 'IFNG'\n",
    "cell_type = 'HAP1'\n",
    "output_dir = \"/lustre/groups/ml01/workspace/ot_perturbation/data/satija/datasets/ifng/r2\""
   ]
  },
  {
   "cell_type": "code",
   "execution_count": 172,
   "metadata": {},
   "outputs": [],
   "source": [
    "def compute_r_squared(x: np.ndarray, y: np.ndarray) -> float:\n",
    "    return r2_score(np.mean(x, axis=0), np.mean(y, axis=0))"
   ]
  },
  {
   "cell_type": "code",
   "execution_count": 173,
   "metadata": {},
   "outputs": [],
   "source": [
    "# TODO create complete list of embeddings\n",
    "ko_embeddings = pickle.load(open('/lustre/groups/ml01/workspace/ot_perturbation/data/satija/embeddings/embeddings_ifng.pkl', 'rb'))\n",
    "ko_embeddings = pd.DataFrame(ko_embeddings).T\n",
    "cell_embeddings = pd.read_csv('/lustre/groups/ml01/workspace/ot_perturbation/data/satija/embeddings/cell_line_embedding_full_ccle_300_normalized.csv', index_col=0)"
   ]
  },
  {
   "cell_type": "code",
   "execution_count": 174,
   "metadata": {},
   "outputs": [
    {
     "data": {
      "text/plain": [
       "AnnData object with n_obs × n_vars = 245240 × 33525\n",
       "    obs: 'orig.ident', 'nCount_RNA', 'nFeature_RNA', 'sample', 'cell_type', 'percent.mito', 'sample_ID', 'Batch_info', 'bc1_well', 'bc2_well', 'bc3_well', 'guide', 'gene', 'mixscale_score'\n",
       "    var: 'vst.mean', 'vst.variance', 'vst.variance.expected', 'vst.variance.standardized', 'vst.variable'"
      ]
     },
     "execution_count": 174,
     "metadata": {},
     "output_type": "execute_result"
    }
   ],
   "source": [
    "adata = sc.read(\"/lustre/groups/ml01/workspace/ot_perturbation/data/satija/h5ad/\" + pathway + \"_Perturb_seq.h5ad\")\n",
    "adata"
   ]
  },
  {
   "cell_type": "code",
   "execution_count": 175,
   "metadata": {},
   "outputs": [
    {
     "data": {
      "text/plain": [
       "View of AnnData object with n_obs × n_vars = 22817 × 33525\n",
       "    obs: 'orig.ident', 'nCount_RNA', 'nFeature_RNA', 'sample', 'cell_type', 'percent.mito', 'sample_ID', 'Batch_info', 'bc1_well', 'bc2_well', 'bc3_well', 'guide', 'gene', 'mixscale_score'\n",
       "    var: 'vst.mean', 'vst.variance', 'vst.variance.expected', 'vst.variance.standardized', 'vst.variable'"
      ]
     },
     "execution_count": 175,
     "metadata": {},
     "output_type": "execute_result"
    }
   ],
   "source": [
    "adata = adata[adata.obs['cell_type'] == cell_type, :]\n",
    "adata"
   ]
  },
  {
   "cell_type": "code",
   "execution_count": 176,
   "metadata": {},
   "outputs": [
    {
     "name": "stderr",
     "output_type": "stream",
     "text": [
      "/tmp/ipykernel_1484391/2985145172.py:1: ImplicitModificationWarning: Trying to modify attribute `.obs` of view, initializing view as actual.\n",
      "  adata.obs['condition'] = adata.obs.apply(lambda x: \"_\".join([x.cell_type, x.gene]), axis=1)\n"
     ]
    }
   ],
   "source": [
    "adata.obs['condition'] = adata.obs.apply(lambda x: \"_\".join([x.cell_type, x.gene]), axis=1)"
   ]
  },
  {
   "cell_type": "code",
   "execution_count": 177,
   "metadata": {},
   "outputs": [
    {
     "data": {
      "text/plain": [
       "View of AnnData object with n_obs × n_vars = 22402 × 33525\n",
       "    obs: 'orig.ident', 'nCount_RNA', 'nFeature_RNA', 'sample', 'cell_type', 'percent.mito', 'sample_ID', 'Batch_info', 'bc1_well', 'bc2_well', 'bc3_well', 'guide', 'gene', 'mixscale_score', 'condition'\n",
       "    var: 'vst.mean', 'vst.variance', 'vst.variance.expected', 'vst.variance.standardized', 'vst.variable'"
      ]
     },
     "execution_count": 177,
     "metadata": {},
     "output_type": "execute_result"
    }
   ],
   "source": [
    "condition_counts = adata.obs['condition'].value_counts()\n",
    "conditions_with_at_least_100 = condition_counts[condition_counts >= 100].index.tolist()\n",
    "adata = adata[adata.obs['condition'].isin(conditions_with_at_least_100), :]\n",
    "adata"
   ]
  },
  {
   "cell_type": "code",
   "execution_count": 178,
   "metadata": {},
   "outputs": [
    {
     "data": {
      "text/plain": [
       "condition\n",
       "HAP1_PIK3CA       104\n",
       "HAP1_EHF          129\n",
       "HAP1_ZC3H3        131\n",
       "HAP1_IRF2         133\n",
       "HAP1_HLX          134\n",
       "HAP1_TAPBPL       136\n",
       "HAP1_NFKB1        138\n",
       "HAP1_SRC          166\n",
       "HAP1_IRF9         174\n",
       "HAP1_RARRES3      182\n",
       "HAP1_ATF5         202\n",
       "HAP1_STAT2        203\n",
       "HAP1_ZNF267       206\n",
       "HAP1_RFX5         207\n",
       "HAP1_SP110        217\n",
       "HAP1_GUK1         221\n",
       "HAP1_PTGES3       239\n",
       "HAP1_CEBPB        277\n",
       "HAP1_IFNGR1       300\n",
       "HAP1_TRAFD1       309\n",
       "HAP1_FBXO6        322\n",
       "HAP1_FMNL2        334\n",
       "HAP1_KLF4         335\n",
       "HAP1_HLA-DQB1     344\n",
       "HAP1_ZNFX1        356\n",
       "HAP1_IRF7         372\n",
       "HAP1_RNF14        390\n",
       "HAP1_MAFB         405\n",
       "HAP1_ZFP36        428\n",
       "HAP1_PTPN11       436\n",
       "HAP1_JAK2         439\n",
       "HAP1_PLEK         447\n",
       "HAP1_CEBPE        448\n",
       "HAP1_PARP12       473\n",
       "HAP1_ATF3         493\n",
       "HAP1_JUN          497\n",
       "HAP1_SP100        512\n",
       "HAP1_STAT3        544\n",
       "HAP1_TBX21        554\n",
       "HAP1_FOXN3        560\n",
       "HAP1_MYC          585\n",
       "HAP1_TSC22D1      586\n",
       "HAP1_IRF1         644\n",
       "HAP1_MAFF         682\n",
       "HAP1_PRDM1        686\n",
       "HAP1_JAK1         709\n",
       "HAP1_IRF5         713\n",
       "HAP1_ETV7         776\n",
       "HAP1_IFNGR2       827\n",
       "HAP1_STAT1        844\n",
       "HAP1_BATF2        845\n",
       "HAP1_RUNX1        947\n",
       "HAP1_NT          1061\n",
       "Name: count, dtype: int64"
      ]
     },
     "execution_count": 178,
     "metadata": {},
     "output_type": "execute_result"
    }
   ],
   "source": [
    "adata.obs['condition'].value_counts(ascending=True)"
   ]
  },
  {
   "cell_type": "code",
   "execution_count": 179,
   "metadata": {},
   "outputs": [
    {
     "name": "stderr",
     "output_type": "stream",
     "text": [
      "/lustre/groups/ml01/workspace/lea.zimmermann/software/miniconda3/envs/notebook/lib/python3.10/site-packages/scanpy/preprocessing/_highly_variable_genes.py:664: ImplicitModificationWarning: Trying to modify attribute `._uns` of view, initializing view as actual.\n",
      "  adata.uns[\"hvg\"] = {\"flavor\": flavor}\n"
     ]
    }
   ],
   "source": [
    "sc.pp.highly_variable_genes(adata, inplace=True, n_top_genes=2000)\n",
    "adata = adata[:,adata.var[\"highly_variable\"]==True]"
   ]
  },
  {
   "cell_type": "code",
   "execution_count": 180,
   "metadata": {},
   "outputs": [],
   "source": [
    "controls = {}\n",
    "for ct in adata.obs[\"cell_type\"].unique():\n",
    "    controls[ct] = adata[adata.obs[\"condition\"]==ct+'_NT'].X.A"
   ]
  },
  {
   "cell_type": "code",
   "execution_count": 181,
   "metadata": {},
   "outputs": [
    {
     "name": "stderr",
     "output_type": "stream",
     "text": [
      "100%|███████████████████████████████████████████████████████████████████████████████████████████████████████████████████| 53/53 [00:01<00:00, 36.56it/s]\n"
     ]
    }
   ],
   "source": [
    "pert_effects = {}\n",
    "for c in tqdm(adata.obs[\"condition\"].unique()):\n",
    "    if c.endswith('_NT'):\n",
    "        continue\n",
    "    cell_type = c.split(\"_\")[0]\n",
    "    pert_effects[c] = float(compute_r_squared(\n",
    "        controls[cell_type],\n",
    "        adata[adata.obs[\"condition\"]==c].X.A))"
   ]
  },
  {
   "cell_type": "code",
   "execution_count": 182,
   "metadata": {},
   "outputs": [
    {
     "data": {
      "text/plain": [
       "{'HAP1_PARP12': 0.9951486773727936,\n",
       " 'HAP1_HLA-DQB1': 0.9951123417185797,\n",
       " 'HAP1_ETV7': 0.9968376895289561,\n",
       " 'HAP1_TRAFD1': 0.9944211037483908,\n",
       " 'HAP1_PLEK': 0.9958565240759455,\n",
       " 'HAP1_TBX21': 0.99642143421027,\n",
       " 'HAP1_CEBPE': 0.9964098481052932,\n",
       " 'HAP1_HLX': 0.9693206925722188,\n",
       " 'HAP1_MAFB': 0.9947618655042224,\n",
       " 'HAP1_BATF2': 0.9911634155531313,\n",
       " 'HAP1_PTPN11': 0.9916861716802698,\n",
       " 'HAP1_PTGES3': 0.9917827337371468,\n",
       " 'HAP1_PRDM1': 0.9961540716062789,\n",
       " 'HAP1_MAFF': 0.9928683962983671,\n",
       " 'HAP1_RUNX1': 0.9971833328884568,\n",
       " 'HAP1_IRF5': 0.9967849039171066,\n",
       " 'HAP1_IFNGR2': 0.8386700681646465,\n",
       " 'HAP1_STAT3': 0.9958027883687551,\n",
       " 'HAP1_TSC22D1': 0.9961330367657327,\n",
       " 'HAP1_RARRES3': 0.9908305892494338,\n",
       " 'HAP1_JAK1': 0.91949323892956,\n",
       " 'HAP1_JUN': 0.9961206182416456,\n",
       " 'HAP1_MYC': 0.9963200998352286,\n",
       " 'HAP1_FMNL2': 0.9950976079060341,\n",
       " 'HAP1_CEBPB': 0.9927641183402391,\n",
       " 'HAP1_IRF9': 0.9867422629451881,\n",
       " 'HAP1_ATF5': 0.9921214496886448,\n",
       " 'HAP1_ATF3': 0.9945984101088307,\n",
       " 'HAP1_GUK1': 0.9907130800599333,\n",
       " 'HAP1_RNF14': 0.996043543752468,\n",
       " 'HAP1_ZNFX1': 0.9922216259483974,\n",
       " 'HAP1_ZFP36': 0.9958180899884748,\n",
       " 'HAP1_FBXO6': 0.9941068764618949,\n",
       " 'HAP1_SP100': 0.9946101594324603,\n",
       " 'HAP1_KLF4': 0.9953506173088983,\n",
       " 'HAP1_STAT1': 0.8472989283376468,\n",
       " 'HAP1_JAK2': 0.8553004297691604,\n",
       " 'HAP1_IRF1': 0.9439173140303347,\n",
       " 'HAP1_TAPBPL': 0.9884593821926603,\n",
       " 'HAP1_EHF': 0.9863100808641111,\n",
       " 'HAP1_SRC': 0.9895461846704667,\n",
       " 'HAP1_STAT2': 0.9925529789989811,\n",
       " 'HAP1_IRF2': 0.9882533219435757,\n",
       " 'HAP1_FOXN3': 0.9956246851728907,\n",
       " 'HAP1_IRF7': 0.9924626627286314,\n",
       " 'HAP1_ZNF267': 0.9932391030487573,\n",
       " 'HAP1_IFNGR1': 0.8644235341566104,\n",
       " 'HAP1_RFX5': 0.9889128918202749,\n",
       " 'HAP1_SP110': 0.9920247727247795,\n",
       " 'HAP1_ZC3H3': 0.9721555278104586,\n",
       " 'HAP1_NFKB1': 0.9891284871045155,\n",
       " 'HAP1_PIK3CA': 0.9885498442670123}"
      ]
     },
     "execution_count": 182,
     "metadata": {},
     "output_type": "execute_result"
    }
   ],
   "source": [
    "pert_effects"
   ]
  },
  {
   "cell_type": "code",
   "execution_count": 183,
   "metadata": {},
   "outputs": [],
   "source": [
    "features_cell_line = np.zeros((adata.shape[0], cell_embeddings.shape[1]))\n",
    "features_ko = np.zeros((adata.shape[0], ko_embeddings.shape[1]))\n",
    "for cell_line, emb in cell_embeddings.iterrows():\n",
    "    features_cell_line[adata.obs['cell_type'].isin([cell_line])] = emb.values\n",
    "for ko, emb in ko_embeddings.iterrows():\n",
    "    features_ko[adata.obs['gene'].isin([ko])] = emb.values"
   ]
  },
  {
   "cell_type": "code",
   "execution_count": 184,
   "metadata": {},
   "outputs": [
    {
     "name": "stderr",
     "output_type": "stream",
     "text": [
      "/tmp/ipykernel_1484391/4212301904.py:1: ImplicitModificationWarning: Setting element `.obsm['cell_line_emb']` of view, initializing view as actual.\n",
      "  adata.obsm['cell_line_emb'] = features_cell_line\n"
     ]
    }
   ],
   "source": [
    "adata.obsm['cell_line_emb'] = features_cell_line\n",
    "adata.obsm['gene_emb'] = features_ko\n",
    "adata.obsm['cond_emb'] = np.concatenate([adata.obsm['cell_line_emb'], adata.obsm['gene_emb']], axis = -1)"
   ]
  },
  {
   "cell_type": "code",
   "execution_count": 185,
   "metadata": {},
   "outputs": [
    {
     "data": {
      "text/plain": [
       "(22402, 300)"
      ]
     },
     "execution_count": 185,
     "metadata": {},
     "output_type": "execute_result"
    }
   ],
   "source": [
    "adata.obsm['cell_line_emb'].shape"
   ]
  },
  {
   "cell_type": "code",
   "execution_count": 186,
   "metadata": {},
   "outputs": [
    {
     "data": {
      "text/plain": [
       "(22402, 2560)"
      ]
     },
     "execution_count": 186,
     "metadata": {},
     "output_type": "execute_result"
    }
   ],
   "source": [
    "adata.obsm['gene_emb'].shape"
   ]
  },
  {
   "cell_type": "code",
   "execution_count": 187,
   "metadata": {},
   "outputs": [
    {
     "data": {
      "text/html": [
       "<div>\n",
       "<style scoped>\n",
       "    .dataframe tbody tr th:only-of-type {\n",
       "        vertical-align: middle;\n",
       "    }\n",
       "\n",
       "    .dataframe tbody tr th {\n",
       "        vertical-align: top;\n",
       "    }\n",
       "\n",
       "    .dataframe thead th {\n",
       "        text-align: right;\n",
       "    }\n",
       "</style>\n",
       "<table border=\"1\" class=\"dataframe\">\n",
       "  <thead>\n",
       "    <tr style=\"text-align: right;\">\n",
       "      <th></th>\n",
       "      <th>conditions</th>\n",
       "      <th>sinkhorn_div</th>\n",
       "    </tr>\n",
       "  </thead>\n",
       "  <tbody>\n",
       "    <tr>\n",
       "      <th>16</th>\n",
       "      <td>HAP1_IFNGR2</td>\n",
       "      <td>0.838670</td>\n",
       "    </tr>\n",
       "    <tr>\n",
       "      <th>35</th>\n",
       "      <td>HAP1_STAT1</td>\n",
       "      <td>0.847299</td>\n",
       "    </tr>\n",
       "    <tr>\n",
       "      <th>36</th>\n",
       "      <td>HAP1_JAK2</td>\n",
       "      <td>0.855300</td>\n",
       "    </tr>\n",
       "    <tr>\n",
       "      <th>46</th>\n",
       "      <td>HAP1_IFNGR1</td>\n",
       "      <td>0.864424</td>\n",
       "    </tr>\n",
       "    <tr>\n",
       "      <th>20</th>\n",
       "      <td>HAP1_JAK1</td>\n",
       "      <td>0.919493</td>\n",
       "    </tr>\n",
       "    <tr>\n",
       "      <th>37</th>\n",
       "      <td>HAP1_IRF1</td>\n",
       "      <td>0.943917</td>\n",
       "    </tr>\n",
       "    <tr>\n",
       "      <th>7</th>\n",
       "      <td>HAP1_HLX</td>\n",
       "      <td>0.969321</td>\n",
       "    </tr>\n",
       "    <tr>\n",
       "      <th>49</th>\n",
       "      <td>HAP1_ZC3H3</td>\n",
       "      <td>0.972156</td>\n",
       "    </tr>\n",
       "    <tr>\n",
       "      <th>39</th>\n",
       "      <td>HAP1_EHF</td>\n",
       "      <td>0.986310</td>\n",
       "    </tr>\n",
       "    <tr>\n",
       "      <th>25</th>\n",
       "      <td>HAP1_IRF9</td>\n",
       "      <td>0.986742</td>\n",
       "    </tr>\n",
       "    <tr>\n",
       "      <th>42</th>\n",
       "      <td>HAP1_IRF2</td>\n",
       "      <td>0.988253</td>\n",
       "    </tr>\n",
       "    <tr>\n",
       "      <th>38</th>\n",
       "      <td>HAP1_TAPBPL</td>\n",
       "      <td>0.988459</td>\n",
       "    </tr>\n",
       "    <tr>\n",
       "      <th>51</th>\n",
       "      <td>HAP1_PIK3CA</td>\n",
       "      <td>0.988550</td>\n",
       "    </tr>\n",
       "    <tr>\n",
       "      <th>47</th>\n",
       "      <td>HAP1_RFX5</td>\n",
       "      <td>0.988913</td>\n",
       "    </tr>\n",
       "    <tr>\n",
       "      <th>50</th>\n",
       "      <td>HAP1_NFKB1</td>\n",
       "      <td>0.989128</td>\n",
       "    </tr>\n",
       "    <tr>\n",
       "      <th>40</th>\n",
       "      <td>HAP1_SRC</td>\n",
       "      <td>0.989546</td>\n",
       "    </tr>\n",
       "    <tr>\n",
       "      <th>28</th>\n",
       "      <td>HAP1_GUK1</td>\n",
       "      <td>0.990713</td>\n",
       "    </tr>\n",
       "    <tr>\n",
       "      <th>19</th>\n",
       "      <td>HAP1_RARRES3</td>\n",
       "      <td>0.990831</td>\n",
       "    </tr>\n",
       "    <tr>\n",
       "      <th>9</th>\n",
       "      <td>HAP1_BATF2</td>\n",
       "      <td>0.991163</td>\n",
       "    </tr>\n",
       "    <tr>\n",
       "      <th>10</th>\n",
       "      <td>HAP1_PTPN11</td>\n",
       "      <td>0.991686</td>\n",
       "    </tr>\n",
       "    <tr>\n",
       "      <th>11</th>\n",
       "      <td>HAP1_PTGES3</td>\n",
       "      <td>0.991783</td>\n",
       "    </tr>\n",
       "    <tr>\n",
       "      <th>48</th>\n",
       "      <td>HAP1_SP110</td>\n",
       "      <td>0.992025</td>\n",
       "    </tr>\n",
       "    <tr>\n",
       "      <th>26</th>\n",
       "      <td>HAP1_ATF5</td>\n",
       "      <td>0.992121</td>\n",
       "    </tr>\n",
       "    <tr>\n",
       "      <th>30</th>\n",
       "      <td>HAP1_ZNFX1</td>\n",
       "      <td>0.992222</td>\n",
       "    </tr>\n",
       "    <tr>\n",
       "      <th>44</th>\n",
       "      <td>HAP1_IRF7</td>\n",
       "      <td>0.992463</td>\n",
       "    </tr>\n",
       "    <tr>\n",
       "      <th>41</th>\n",
       "      <td>HAP1_STAT2</td>\n",
       "      <td>0.992553</td>\n",
       "    </tr>\n",
       "    <tr>\n",
       "      <th>24</th>\n",
       "      <td>HAP1_CEBPB</td>\n",
       "      <td>0.992764</td>\n",
       "    </tr>\n",
       "    <tr>\n",
       "      <th>13</th>\n",
       "      <td>HAP1_MAFF</td>\n",
       "      <td>0.992868</td>\n",
       "    </tr>\n",
       "    <tr>\n",
       "      <th>45</th>\n",
       "      <td>HAP1_ZNF267</td>\n",
       "      <td>0.993239</td>\n",
       "    </tr>\n",
       "    <tr>\n",
       "      <th>32</th>\n",
       "      <td>HAP1_FBXO6</td>\n",
       "      <td>0.994107</td>\n",
       "    </tr>\n",
       "    <tr>\n",
       "      <th>3</th>\n",
       "      <td>HAP1_TRAFD1</td>\n",
       "      <td>0.994421</td>\n",
       "    </tr>\n",
       "    <tr>\n",
       "      <th>27</th>\n",
       "      <td>HAP1_ATF3</td>\n",
       "      <td>0.994598</td>\n",
       "    </tr>\n",
       "    <tr>\n",
       "      <th>33</th>\n",
       "      <td>HAP1_SP100</td>\n",
       "      <td>0.994610</td>\n",
       "    </tr>\n",
       "    <tr>\n",
       "      <th>8</th>\n",
       "      <td>HAP1_MAFB</td>\n",
       "      <td>0.994762</td>\n",
       "    </tr>\n",
       "    <tr>\n",
       "      <th>23</th>\n",
       "      <td>HAP1_FMNL2</td>\n",
       "      <td>0.995098</td>\n",
       "    </tr>\n",
       "    <tr>\n",
       "      <th>1</th>\n",
       "      <td>HAP1_HLA-DQB1</td>\n",
       "      <td>0.995112</td>\n",
       "    </tr>\n",
       "    <tr>\n",
       "      <th>0</th>\n",
       "      <td>HAP1_PARP12</td>\n",
       "      <td>0.995149</td>\n",
       "    </tr>\n",
       "    <tr>\n",
       "      <th>34</th>\n",
       "      <td>HAP1_KLF4</td>\n",
       "      <td>0.995351</td>\n",
       "    </tr>\n",
       "    <tr>\n",
       "      <th>43</th>\n",
       "      <td>HAP1_FOXN3</td>\n",
       "      <td>0.995625</td>\n",
       "    </tr>\n",
       "    <tr>\n",
       "      <th>17</th>\n",
       "      <td>HAP1_STAT3</td>\n",
       "      <td>0.995803</td>\n",
       "    </tr>\n",
       "    <tr>\n",
       "      <th>31</th>\n",
       "      <td>HAP1_ZFP36</td>\n",
       "      <td>0.995818</td>\n",
       "    </tr>\n",
       "    <tr>\n",
       "      <th>4</th>\n",
       "      <td>HAP1_PLEK</td>\n",
       "      <td>0.995857</td>\n",
       "    </tr>\n",
       "    <tr>\n",
       "      <th>29</th>\n",
       "      <td>HAP1_RNF14</td>\n",
       "      <td>0.996044</td>\n",
       "    </tr>\n",
       "    <tr>\n",
       "      <th>21</th>\n",
       "      <td>HAP1_JUN</td>\n",
       "      <td>0.996121</td>\n",
       "    </tr>\n",
       "    <tr>\n",
       "      <th>18</th>\n",
       "      <td>HAP1_TSC22D1</td>\n",
       "      <td>0.996133</td>\n",
       "    </tr>\n",
       "    <tr>\n",
       "      <th>12</th>\n",
       "      <td>HAP1_PRDM1</td>\n",
       "      <td>0.996154</td>\n",
       "    </tr>\n",
       "    <tr>\n",
       "      <th>22</th>\n",
       "      <td>HAP1_MYC</td>\n",
       "      <td>0.996320</td>\n",
       "    </tr>\n",
       "    <tr>\n",
       "      <th>6</th>\n",
       "      <td>HAP1_CEBPE</td>\n",
       "      <td>0.996410</td>\n",
       "    </tr>\n",
       "    <tr>\n",
       "      <th>5</th>\n",
       "      <td>HAP1_TBX21</td>\n",
       "      <td>0.996421</td>\n",
       "    </tr>\n",
       "    <tr>\n",
       "      <th>15</th>\n",
       "      <td>HAP1_IRF5</td>\n",
       "      <td>0.996785</td>\n",
       "    </tr>\n",
       "    <tr>\n",
       "      <th>2</th>\n",
       "      <td>HAP1_ETV7</td>\n",
       "      <td>0.996838</td>\n",
       "    </tr>\n",
       "    <tr>\n",
       "      <th>14</th>\n",
       "      <td>HAP1_RUNX1</td>\n",
       "      <td>0.997183</td>\n",
       "    </tr>\n",
       "  </tbody>\n",
       "</table>\n",
       "</div>"
      ],
      "text/plain": [
       "       conditions  sinkhorn_div\n",
       "16    HAP1_IFNGR2      0.838670\n",
       "35     HAP1_STAT1      0.847299\n",
       "36      HAP1_JAK2      0.855300\n",
       "46    HAP1_IFNGR1      0.864424\n",
       "20      HAP1_JAK1      0.919493\n",
       "37      HAP1_IRF1      0.943917\n",
       "7        HAP1_HLX      0.969321\n",
       "49     HAP1_ZC3H3      0.972156\n",
       "39       HAP1_EHF      0.986310\n",
       "25      HAP1_IRF9      0.986742\n",
       "42      HAP1_IRF2      0.988253\n",
       "38    HAP1_TAPBPL      0.988459\n",
       "51    HAP1_PIK3CA      0.988550\n",
       "47      HAP1_RFX5      0.988913\n",
       "50     HAP1_NFKB1      0.989128\n",
       "40       HAP1_SRC      0.989546\n",
       "28      HAP1_GUK1      0.990713\n",
       "19   HAP1_RARRES3      0.990831\n",
       "9      HAP1_BATF2      0.991163\n",
       "10    HAP1_PTPN11      0.991686\n",
       "11    HAP1_PTGES3      0.991783\n",
       "48     HAP1_SP110      0.992025\n",
       "26      HAP1_ATF5      0.992121\n",
       "30     HAP1_ZNFX1      0.992222\n",
       "44      HAP1_IRF7      0.992463\n",
       "41     HAP1_STAT2      0.992553\n",
       "24     HAP1_CEBPB      0.992764\n",
       "13      HAP1_MAFF      0.992868\n",
       "45    HAP1_ZNF267      0.993239\n",
       "32     HAP1_FBXO6      0.994107\n",
       "3     HAP1_TRAFD1      0.994421\n",
       "27      HAP1_ATF3      0.994598\n",
       "33     HAP1_SP100      0.994610\n",
       "8       HAP1_MAFB      0.994762\n",
       "23     HAP1_FMNL2      0.995098\n",
       "1   HAP1_HLA-DQB1      0.995112\n",
       "0     HAP1_PARP12      0.995149\n",
       "34      HAP1_KLF4      0.995351\n",
       "43     HAP1_FOXN3      0.995625\n",
       "17     HAP1_STAT3      0.995803\n",
       "31     HAP1_ZFP36      0.995818\n",
       "4       HAP1_PLEK      0.995857\n",
       "29     HAP1_RNF14      0.996044\n",
       "21       HAP1_JUN      0.996121\n",
       "18   HAP1_TSC22D1      0.996133\n",
       "12     HAP1_PRDM1      0.996154\n",
       "22       HAP1_MYC      0.996320\n",
       "6      HAP1_CEBPE      0.996410\n",
       "5      HAP1_TBX21      0.996421\n",
       "15      HAP1_IRF5      0.996785\n",
       "2       HAP1_ETV7      0.996838\n",
       "14     HAP1_RUNX1      0.997183"
      ]
     },
     "execution_count": 187,
     "metadata": {},
     "output_type": "execute_result"
    }
   ],
   "source": [
    "df_effects = pd.DataFrame({\"conditions\": pert_effects.keys(), \"sinkhorn_div\": pert_effects.values()})\n",
    "df_effects_sorted = df_effects.sort_values(\"sinkhorn_div\")\n",
    "df_effects_sorted"
   ]
  },
  {
   "cell_type": "code",
   "execution_count": 188,
   "metadata": {},
   "outputs": [
    {
     "data": {
      "text/html": [
       "<div>\n",
       "<style scoped>\n",
       "    .dataframe tbody tr th:only-of-type {\n",
       "        vertical-align: middle;\n",
       "    }\n",
       "\n",
       "    .dataframe tbody tr th {\n",
       "        vertical-align: top;\n",
       "    }\n",
       "\n",
       "    .dataframe thead th {\n",
       "        text-align: right;\n",
       "    }\n",
       "</style>\n",
       "<table border=\"1\" class=\"dataframe\">\n",
       "  <thead>\n",
       "    <tr style=\"text-align: right;\">\n",
       "      <th></th>\n",
       "      <th>conditions</th>\n",
       "      <th>sinkhorn_div</th>\n",
       "    </tr>\n",
       "  </thead>\n",
       "  <tbody>\n",
       "    <tr>\n",
       "      <th>16</th>\n",
       "      <td>HAP1_IFNGR2</td>\n",
       "      <td>0.838670</td>\n",
       "    </tr>\n",
       "    <tr>\n",
       "      <th>7</th>\n",
       "      <td>HAP1_HLX</td>\n",
       "      <td>0.969321</td>\n",
       "    </tr>\n",
       "    <tr>\n",
       "      <th>51</th>\n",
       "      <td>HAP1_PIK3CA</td>\n",
       "      <td>0.988550</td>\n",
       "    </tr>\n",
       "    <tr>\n",
       "      <th>9</th>\n",
       "      <td>HAP1_BATF2</td>\n",
       "      <td>0.991163</td>\n",
       "    </tr>\n",
       "    <tr>\n",
       "      <th>44</th>\n",
       "      <td>HAP1_IRF7</td>\n",
       "      <td>0.992463</td>\n",
       "    </tr>\n",
       "    <tr>\n",
       "      <th>3</th>\n",
       "      <td>HAP1_TRAFD1</td>\n",
       "      <td>0.994421</td>\n",
       "    </tr>\n",
       "    <tr>\n",
       "      <th>0</th>\n",
       "      <td>HAP1_PARP12</td>\n",
       "      <td>0.995149</td>\n",
       "    </tr>\n",
       "    <tr>\n",
       "      <th>29</th>\n",
       "      <td>HAP1_RNF14</td>\n",
       "      <td>0.996044</td>\n",
       "    </tr>\n",
       "    <tr>\n",
       "      <th>5</th>\n",
       "      <td>HAP1_TBX21</td>\n",
       "      <td>0.996421</td>\n",
       "    </tr>\n",
       "  </tbody>\n",
       "</table>\n",
       "</div>"
      ],
      "text/plain": [
       "     conditions  sinkhorn_div\n",
       "16  HAP1_IFNGR2      0.838670\n",
       "7      HAP1_HLX      0.969321\n",
       "51  HAP1_PIK3CA      0.988550\n",
       "9    HAP1_BATF2      0.991163\n",
       "44    HAP1_IRF7      0.992463\n",
       "3   HAP1_TRAFD1      0.994421\n",
       "0   HAP1_PARP12      0.995149\n",
       "29   HAP1_RNF14      0.996044\n",
       "5    HAP1_TBX21      0.996421"
      ]
     },
     "execution_count": 188,
     "metadata": {},
     "output_type": "execute_result"
    }
   ],
   "source": [
    "ood_ko = df_effects_sorted[::k_ood]\n",
    "ood_ko"
   ]
  },
  {
   "cell_type": "code",
   "execution_count": 189,
   "metadata": {},
   "outputs": [
    {
     "data": {
      "text/plain": [
       "array(['HAP1_IFNGR2', 'HAP1_HLX', 'HAP1_PIK3CA', 'HAP1_BATF2',\n",
       "       'HAP1_IRF7', 'HAP1_TRAFD1', 'HAP1_PARP12', 'HAP1_RNF14',\n",
       "       'HAP1_TBX21'], dtype=object)"
      ]
     },
     "execution_count": 189,
     "metadata": {},
     "output_type": "execute_result"
    }
   ],
   "source": [
    "ood_conditions = ood_ko.conditions.values\n",
    "ood_conditions"
   ]
  },
  {
   "cell_type": "code",
   "execution_count": 190,
   "metadata": {},
   "outputs": [
    {
     "data": {
      "text/plain": [
       "['TBX21',\n",
       " 'HAP1',\n",
       " 'HLX',\n",
       " 'PARP12',\n",
       " 'IFNGR2',\n",
       " 'PIK3CA',\n",
       " 'BATF2',\n",
       " 'RNF14',\n",
       " 'TRAFD1',\n",
       " 'IRF7']"
      ]
     },
     "execution_count": 190,
     "metadata": {},
     "output_type": "execute_result"
    }
   ],
   "source": [
    "ood_unique = list(set([value for entry in ood_conditions for value in entry.split('_')]))\n",
    "ood_unique"
   ]
  },
  {
   "cell_type": "code",
   "execution_count": 191,
   "metadata": {},
   "outputs": [
    {
     "data": {
      "text/plain": [
       "10"
      ]
     },
     "execution_count": 191,
     "metadata": {},
     "output_type": "execute_result"
    }
   ],
   "source": [
    "len(ood_unique)"
   ]
  },
  {
   "cell_type": "code",
   "execution_count": 192,
   "metadata": {},
   "outputs": [
    {
     "data": {
      "text/plain": [
       "['NFKB1',\n",
       " 'FMNL2',\n",
       " 'ATF3',\n",
       " 'MYC',\n",
       " 'MAFB',\n",
       " 'GUK1',\n",
       " 'SRC',\n",
       " 'ZNF267',\n",
       " 'ZC3H3',\n",
       " 'IRF1',\n",
       " 'FBXO6',\n",
       " 'STAT2',\n",
       " 'IRF5',\n",
       " 'CEBPE',\n",
       " 'FOXN3',\n",
       " 'PTPN11',\n",
       " 'IRF9',\n",
       " 'IRF2',\n",
       " 'RUNX1',\n",
       " 'EHF',\n",
       " 'TSC22D1',\n",
       " 'IFNGR1',\n",
       " 'HLA-DQB1',\n",
       " 'ATF5',\n",
       " 'STAT3',\n",
       " 'ZFP36',\n",
       " 'PRDM1',\n",
       " 'ZNFX1',\n",
       " 'JUN',\n",
       " 'ETV7',\n",
       " 'MAFF',\n",
       " 'JAK2',\n",
       " 'SP100',\n",
       " 'SP110',\n",
       " 'STAT1',\n",
       " 'TAPBPL',\n",
       " 'PLEK',\n",
       " 'JAK1',\n",
       " 'HAP1',\n",
       " 'CEBPB',\n",
       " 'KLF4',\n",
       " 'RFX5',\n",
       " 'RARRES3',\n",
       " 'PTGES3']"
      ]
     },
     "execution_count": 192,
     "metadata": {},
     "output_type": "execute_result"
    }
   ],
   "source": [
    "remaining_conditions = df_effects_sorted[~df_effects_sorted['conditions'].isin(ood_conditions)].conditions.values\n",
    "remaining_unique = list(set([value for entry in remaining_conditions for value in entry.split('_')]))\n",
    "remaining_unique"
   ]
  },
  {
   "cell_type": "code",
   "execution_count": 193,
   "metadata": {},
   "outputs": [
    {
     "data": {
      "text/plain": [
       "9"
      ]
     },
     "execution_count": 193,
     "metadata": {},
     "output_type": "execute_result"
    }
   ],
   "source": [
    "len(set(ood_unique) - set(remaining_unique))"
   ]
  },
  {
   "cell_type": "code",
   "execution_count": 194,
   "metadata": {},
   "outputs": [],
   "source": [
    "adata.obs[\"ood\"] = adata.obs.apply(lambda x: x[\"condition\"] if x[\"condition\"] in ood_conditions else False, axis=1)\n",
    "adata.obs[\"is_ood\"] = adata.obs.apply(lambda x: x[\"condition\"] in ood_conditions, axis=1)\n",
    "adata.obs[\"ood\"] = adata.obs[\"ood\"].astype(\"category\")"
   ]
  },
  {
   "cell_type": "code",
   "execution_count": 195,
   "metadata": {},
   "outputs": [],
   "source": [
    "adata_train = adata[~adata.obs[\"condition\"].isin(ood_conditions)].copy()\n",
    "adata_ood = adata[adata.obs[\"condition\"].isin(ood_conditions)].copy()"
   ]
  },
  {
   "cell_type": "code",
   "execution_count": 196,
   "metadata": {},
   "outputs": [
    {
     "data": {
      "text/plain": [
       "(18394, 4008)"
      ]
     },
     "execution_count": 196,
     "metadata": {},
     "output_type": "execute_result"
    }
   ],
   "source": [
    "adata_train.n_obs, adata_ood.n_obs"
   ]
  },
  {
   "cell_type": "code",
   "execution_count": 197,
   "metadata": {},
   "outputs": [],
   "source": [
    "rng = np.random.default_rng(0)\n",
    "split_dfs = []\n",
    "for c in adata_train.obs[\"condition\"].unique():\n",
    "    adata_subset = adata_train[(adata_train.obs[\"condition\"]==c)]\n",
    "    n_cells = adata_subset.n_obs\n",
    "    if c.endswith('_NT'):\n",
    "        idx_test = rng.choice(np.arange(n_cells), 500, replace=False)\n",
    "        remaining_idcs = set(np.arange(n_cells)) - set(idx_test)\n",
    "        split = [\"test\" if idx in idx_test else \"train\" for idx in range(n_cells)]\n",
    "        df = adata_subset.obs[[\"condition\"]].copy()\n",
    "        df[\"split\"] = split\n",
    "        split_dfs.append(df)\n",
    "    elif n_cells>300:\n",
    "        idx_test = rng.choice(np.arange(n_cells), 100, replace=False)\n",
    "        split = [\"test\" if idx in idx_test else \"train\" for idx in range(n_cells)]\n",
    "        df = adata_subset.obs[[\"condition\"]].copy()\n",
    "        df[\"split\"] = split\n",
    "        split_dfs.append(df)"
   ]
  },
  {
   "cell_type": "code",
   "execution_count": 198,
   "metadata": {},
   "outputs": [],
   "source": [
    "df_concat = pd.concat(split_dfs, axis=0)"
   ]
  },
  {
   "cell_type": "code",
   "execution_count": 199,
   "metadata": {},
   "outputs": [
    {
     "data": {
      "text/plain": [
       "(15133, 18394)"
      ]
     },
     "execution_count": 199,
     "metadata": {},
     "output_type": "execute_result"
    }
   ],
   "source": [
    "len(df_concat), adata_train.n_obs"
   ]
  },
  {
   "cell_type": "code",
   "execution_count": 200,
   "metadata": {},
   "outputs": [
    {
     "data": {
      "text/html": [
       "<div>\n",
       "<style scoped>\n",
       "    .dataframe tbody tr th:only-of-type {\n",
       "        vertical-align: middle;\n",
       "    }\n",
       "\n",
       "    .dataframe tbody tr th {\n",
       "        vertical-align: top;\n",
       "    }\n",
       "\n",
       "    .dataframe thead th {\n",
       "        text-align: right;\n",
       "    }\n",
       "</style>\n",
       "<table border=\"1\" class=\"dataframe\">\n",
       "  <thead>\n",
       "    <tr style=\"text-align: right;\">\n",
       "      <th></th>\n",
       "      <th>condition</th>\n",
       "      <th>split</th>\n",
       "    </tr>\n",
       "  </thead>\n",
       "  <tbody>\n",
       "    <tr>\n",
       "      <th>19_54_52_1_1_1_1_1_1_1_1_1</th>\n",
       "      <td>HAP1_NT</td>\n",
       "      <td>train</td>\n",
       "    </tr>\n",
       "    <tr>\n",
       "      <th>18_66_05_1_1_1_1_1_1_1_1_1</th>\n",
       "      <td>HAP1_NT</td>\n",
       "      <td>test</td>\n",
       "    </tr>\n",
       "    <tr>\n",
       "      <th>19_41_75_1_1_1_1_1_1_1_1_1</th>\n",
       "      <td>HAP1_NT</td>\n",
       "      <td>train</td>\n",
       "    </tr>\n",
       "    <tr>\n",
       "      <th>18_02_05_1_1_1_1_1_1_1_1_1</th>\n",
       "      <td>HAP1_NT</td>\n",
       "      <td>test</td>\n",
       "    </tr>\n",
       "    <tr>\n",
       "      <th>18_20_51_1_1_1_1_1_1_1_1_1</th>\n",
       "      <td>HAP1_NT</td>\n",
       "      <td>train</td>\n",
       "    </tr>\n",
       "    <tr>\n",
       "      <th>...</th>\n",
       "      <td>...</td>\n",
       "      <td>...</td>\n",
       "    </tr>\n",
       "    <tr>\n",
       "      <th>14_33_94_2_2</th>\n",
       "      <td>HAP1_NT</td>\n",
       "      <td>train</td>\n",
       "    </tr>\n",
       "    <tr>\n",
       "      <th>14_94_31_2_2</th>\n",
       "      <td>HAP1_NT</td>\n",
       "      <td>train</td>\n",
       "    </tr>\n",
       "    <tr>\n",
       "      <th>16_21_49_2_2</th>\n",
       "      <td>HAP1_NT</td>\n",
       "      <td>test</td>\n",
       "    </tr>\n",
       "    <tr>\n",
       "      <th>16_23_27_2_2</th>\n",
       "      <td>HAP1_NT</td>\n",
       "      <td>test</td>\n",
       "    </tr>\n",
       "    <tr>\n",
       "      <th>15_96_38_2_2</th>\n",
       "      <td>HAP1_NT</td>\n",
       "      <td>test</td>\n",
       "    </tr>\n",
       "  </tbody>\n",
       "</table>\n",
       "<p>1061 rows × 2 columns</p>\n",
       "</div>"
      ],
      "text/plain": [
       "                           condition  split\n",
       "19_54_52_1_1_1_1_1_1_1_1_1   HAP1_NT  train\n",
       "18_66_05_1_1_1_1_1_1_1_1_1   HAP1_NT   test\n",
       "19_41_75_1_1_1_1_1_1_1_1_1   HAP1_NT  train\n",
       "18_02_05_1_1_1_1_1_1_1_1_1   HAP1_NT   test\n",
       "18_20_51_1_1_1_1_1_1_1_1_1   HAP1_NT  train\n",
       "...                              ...    ...\n",
       "14_33_94_2_2                 HAP1_NT  train\n",
       "14_94_31_2_2                 HAP1_NT  train\n",
       "16_21_49_2_2                 HAP1_NT   test\n",
       "16_23_27_2_2                 HAP1_NT   test\n",
       "15_96_38_2_2                 HAP1_NT   test\n",
       "\n",
       "[1061 rows x 2 columns]"
      ]
     },
     "execution_count": 200,
     "metadata": {},
     "output_type": "execute_result"
    }
   ],
   "source": [
    "df_concat[df_concat[\"condition\"].str.endswith('_NT')]"
   ]
  },
  {
   "cell_type": "code",
   "execution_count": 201,
   "metadata": {},
   "outputs": [
    {
     "data": {
      "text/plain": [
       "condition\n",
       "HAP1_NT          1061\n",
       "HAP1_RUNX1        947\n",
       "HAP1_STAT1        844\n",
       "HAP1_ETV7         776\n",
       "HAP1_IRF5         713\n",
       "HAP1_JAK1         709\n",
       "HAP1_PRDM1        686\n",
       "HAP1_MAFF         682\n",
       "HAP1_IRF1         644\n",
       "HAP1_TSC22D1      586\n",
       "HAP1_MYC          585\n",
       "HAP1_FOXN3        560\n",
       "HAP1_STAT3        544\n",
       "HAP1_SP100        512\n",
       "HAP1_JUN          497\n",
       "HAP1_ATF3         493\n",
       "HAP1_CEBPE        448\n",
       "HAP1_PLEK         447\n",
       "HAP1_JAK2         439\n",
       "HAP1_PTPN11       436\n",
       "HAP1_ZFP36        428\n",
       "HAP1_MAFB         405\n",
       "HAP1_ZNFX1        356\n",
       "HAP1_HLA-DQB1     344\n",
       "HAP1_KLF4         335\n",
       "HAP1_FMNL2        334\n",
       "HAP1_FBXO6        322\n",
       "Name: count, dtype: int64"
      ]
     },
     "execution_count": 201,
     "metadata": {},
     "output_type": "execute_result"
    }
   ],
   "source": [
    "df_concat[\"condition\"].value_counts()"
   ]
  },
  {
   "cell_type": "code",
   "execution_count": 202,
   "metadata": {},
   "outputs": [],
   "source": [
    "adata_train.obs[\"split\"] = df_concat[[\"split\"]]"
   ]
  },
  {
   "cell_type": "code",
   "execution_count": 203,
   "metadata": {},
   "outputs": [
    {
     "data": {
      "text/plain": [
       "View of AnnData object with n_obs × n_vars = 0 × 2000\n",
       "    obs: 'orig.ident', 'nCount_RNA', 'nFeature_RNA', 'sample', 'cell_type', 'percent.mito', 'sample_ID', 'Batch_info', 'bc1_well', 'bc2_well', 'bc3_well', 'guide', 'gene', 'mixscale_score', 'condition', 'ood', 'is_ood'\n",
       "    var: 'vst.mean', 'vst.variance', 'vst.variance.expected', 'vst.variance.standardized', 'vst.variable', 'highly_variable', 'means', 'dispersions', 'dispersions_norm'\n",
       "    uns: 'hvg'\n",
       "    obsm: 'cell_line_emb', 'gene_emb', 'cond_emb'"
      ]
     },
     "execution_count": 203,
     "metadata": {},
     "output_type": "execute_result"
    }
   ],
   "source": [
    "adata_ood[adata_ood.obs[\"condition\"].str.endswith('_NT')]"
   ]
  },
  {
   "cell_type": "code",
   "execution_count": 204,
   "metadata": {},
   "outputs": [],
   "source": [
    "adata_train_final = adata_train[adata_train.obs[\"split\"]==\"train\"]\n",
    "adata_test_final = adata_train[adata_train.obs[\"split\"]==\"test\"]\n",
    "adata_ood_final = anndata.concat((adata_ood, adata_test_final[adata_test_final.obs[\"condition\"].str.endswith('_NT')]))"
   ]
  },
  {
   "cell_type": "code",
   "execution_count": 205,
   "metadata": {},
   "outputs": [
    {
     "data": {
      "text/plain": [
       "condition\n",
       "HAP1_RUNX1       847\n",
       "HAP1_STAT1       744\n",
       "HAP1_ETV7        676\n",
       "HAP1_IRF5        613\n",
       "HAP1_JAK1        609\n",
       "HAP1_PRDM1       586\n",
       "HAP1_MAFF        582\n",
       "HAP1_NT          561\n",
       "HAP1_IRF1        544\n",
       "HAP1_TSC22D1     486\n",
       "HAP1_MYC         485\n",
       "HAP1_FOXN3       460\n",
       "HAP1_STAT3       444\n",
       "HAP1_SP100       412\n",
       "HAP1_JUN         397\n",
       "HAP1_ATF3        393\n",
       "HAP1_CEBPE       348\n",
       "HAP1_PLEK        347\n",
       "HAP1_JAK2        339\n",
       "HAP1_PTPN11      336\n",
       "HAP1_ZFP36       328\n",
       "HAP1_MAFB        305\n",
       "HAP1_ZNFX1       256\n",
       "HAP1_HLA-DQB1    244\n",
       "HAP1_KLF4        235\n",
       "HAP1_FMNL2       234\n",
       "HAP1_FBXO6       222\n",
       "Name: count, dtype: int64"
      ]
     },
     "execution_count": 205,
     "metadata": {},
     "output_type": "execute_result"
    }
   ],
   "source": [
    "adata_train_final.obs[\"condition\"].value_counts()"
   ]
  },
  {
   "cell_type": "code",
   "execution_count": 206,
   "metadata": {},
   "outputs": [
    {
     "data": {
      "text/plain": [
       "condition\n",
       "HAP1_BATF2     845\n",
       "HAP1_IFNGR2    827\n",
       "HAP1_TBX21     554\n",
       "HAP1_NT        500\n",
       "HAP1_PARP12    473\n",
       "HAP1_RNF14     390\n",
       "HAP1_IRF7      372\n",
       "HAP1_TRAFD1    309\n",
       "HAP1_HLX       134\n",
       "HAP1_PIK3CA    104\n",
       "Name: count, dtype: int64"
      ]
     },
     "execution_count": 206,
     "metadata": {},
     "output_type": "execute_result"
    }
   ],
   "source": [
    "adata_ood_final.obs[\"condition\"].value_counts()"
   ]
  },
  {
   "cell_type": "code",
   "execution_count": 207,
   "metadata": {},
   "outputs": [
    {
     "data": {
      "text/plain": [
       "condition\n",
       "HAP1_NT          500\n",
       "HAP1_CEBPE       100\n",
       "HAP1_MAFB        100\n",
       "HAP1_PTPN11      100\n",
       "HAP1_IRF5        100\n",
       "HAP1_FMNL2       100\n",
       "HAP1_ZFP36       100\n",
       "HAP1_STAT3       100\n",
       "HAP1_STAT1       100\n",
       "HAP1_ETV7        100\n",
       "HAP1_JUN         100\n",
       "HAP1_HLA-DQB1    100\n",
       "HAP1_TSC22D1     100\n",
       "HAP1_JAK1        100\n",
       "HAP1_KLF4        100\n",
       "HAP1_RUNX1       100\n",
       "HAP1_MAFF        100\n",
       "HAP1_JAK2        100\n",
       "HAP1_PLEK        100\n",
       "HAP1_ATF3        100\n",
       "HAP1_PRDM1       100\n",
       "HAP1_ZNFX1       100\n",
       "HAP1_FOXN3       100\n",
       "HAP1_FBXO6       100\n",
       "HAP1_SP100       100\n",
       "HAP1_MYC         100\n",
       "HAP1_IRF1        100\n",
       "Name: count, dtype: int64"
      ]
     },
     "execution_count": 207,
     "metadata": {},
     "output_type": "execute_result"
    }
   ],
   "source": [
    "adata_test_final.obs[\"condition\"].value_counts()"
   ]
  },
  {
   "cell_type": "code",
   "execution_count": 208,
   "metadata": {},
   "outputs": [
    {
     "name": "stderr",
     "output_type": "stream",
     "text": [
      "/tmp/ipykernel_1484391/2775379558.py:1: ImplicitModificationWarning: Setting element `.varm['X_train_mean']` of view, initializing view as actual.\n",
      "  adata_train_final.varm[\"X_train_mean\"] = adata_train_final.X.mean(axis=0).T\n"
     ]
    }
   ],
   "source": [
    "adata_train_final.varm[\"X_train_mean\"] = adata_train_final.X.mean(axis=0).T"
   ]
  },
  {
   "cell_type": "code",
   "execution_count": 209,
   "metadata": {},
   "outputs": [],
   "source": [
    "train_mean = adata_train_final.varm[\"X_train_mean\"].T\n",
    "adata_train_final.layers[\"centered_X\"] = csr_matrix(adata_train_final.X.A - train_mean)"
   ]
  },
  {
   "cell_type": "code",
   "execution_count": 210,
   "metadata": {},
   "outputs": [],
   "source": [
    "adata_train_final.layers[\"X_log1p\"] = adata_train_final.X.copy()\n",
    "adata_train_final.X = adata_train_final.layers[\"centered_X\"]"
   ]
  },
  {
   "cell_type": "code",
   "execution_count": 211,
   "metadata": {},
   "outputs": [],
   "source": [
    "sc.pp.pca(adata_train_final, zero_center=False, n_comps=30)"
   ]
  },
  {
   "cell_type": "code",
   "execution_count": 212,
   "metadata": {},
   "outputs": [],
   "source": [
    "adata_train_final.X = adata_train_final.layers[\"X_log1p\"]"
   ]
  },
  {
   "cell_type": "code",
   "execution_count": 213,
   "metadata": {},
   "outputs": [
    {
     "name": "stderr",
     "output_type": "stream",
     "text": [
      "/tmp/ipykernel_1484391/3355210628.py:2: ImplicitModificationWarning: Setting element `.varm['X_train_mean']` of view, initializing view as actual.\n",
      "  adata_test_final.varm[\"X_train_mean\"] = adata_train_final.varm[\"X_train_mean\"]\n"
     ]
    }
   ],
   "source": [
    "adata_ood_final.varm[\"X_train_mean\"] = adata_train_final.varm[\"X_train_mean\"]\n",
    "adata_test_final.varm[\"X_train_mean\"] = adata_train_final.varm[\"X_train_mean\"]"
   ]
  },
  {
   "cell_type": "code",
   "execution_count": 214,
   "metadata": {},
   "outputs": [],
   "source": [
    "adata_test_final.layers[\"centered_X\"] = csr_matrix(adata_test_final.X.A - train_mean)\n",
    "adata_ood_final.layers[\"centered_X\"] = csr_matrix(adata_ood_final.X.A - train_mean)"
   ]
  },
  {
   "cell_type": "code",
   "execution_count": 215,
   "metadata": {},
   "outputs": [],
   "source": [
    "adata_train_final.obsm[\"X_pca\"] = sc.pp.pca(adata_train_final.layers[\"centered_X\"], zero_center=False, n_comps=50)"
   ]
  },
  {
   "cell_type": "code",
   "execution_count": 216,
   "metadata": {},
   "outputs": [
    {
     "data": {
      "text/plain": [
       "(12033, 50)"
      ]
     },
     "execution_count": 216,
     "metadata": {},
     "output_type": "execute_result"
    }
   ],
   "source": [
    "adata_train_final.obsm[\"X_pca\"].shape"
   ]
  },
  {
   "cell_type": "code",
   "execution_count": 217,
   "metadata": {},
   "outputs": [],
   "source": [
    "adata_ood_final.varm[\"X_train_mean\"] = adata_train_final.varm[\"X_train_mean\"]\n",
    "adata_test_final.varm[\"X_train_mean\"] = adata_train_final.varm[\"X_train_mean\"]"
   ]
  },
  {
   "cell_type": "code",
   "execution_count": 218,
   "metadata": {},
   "outputs": [],
   "source": [
    "adata_test_final.layers[\"centered_X\"] = csr_matrix(adata_test_final.X.A - train_mean)\n",
    "adata_ood_final.layers[\"centered_X\"] = csr_matrix(adata_ood_final.X.A - train_mean)"
   ]
  },
  {
   "cell_type": "code",
   "execution_count": 219,
   "metadata": {},
   "outputs": [],
   "source": [
    "adata_test_final.obsm[\"X_pca\"] = np.matmul(adata_test_final.layers[\"centered_X\"].A, adata_train_final.varm[\"PCs\"])\n",
    "adata_ood_final.obsm[\"X_pca\"] = np.matmul(adata_ood_final.layers[\"centered_X\"].A, adata_train_final.varm[\"PCs\"])"
   ]
  },
  {
   "cell_type": "code",
   "execution_count": 220,
   "metadata": {},
   "outputs": [
    {
     "name": "stderr",
     "output_type": "stream",
     "text": [
      "/tmp/ipykernel_1484391/3437680434.py:3: DeprecationWarning: is_categorical_dtype is deprecated and will be removed in a future version. Use isinstance(dtype, pd.CategoricalDtype) instead\n",
      "  if pd.api.types.is_categorical_dtype(ob.obs[column]):\n",
      "/tmp/ipykernel_1484391/3437680434.py:3: DeprecationWarning: is_categorical_dtype is deprecated and will be removed in a future version. Use isinstance(dtype, pd.CategoricalDtype) instead\n",
      "  if pd.api.types.is_categorical_dtype(ob.obs[column]):\n",
      "/tmp/ipykernel_1484391/3437680434.py:3: DeprecationWarning: is_categorical_dtype is deprecated and will be removed in a future version. Use isinstance(dtype, pd.CategoricalDtype) instead\n",
      "  if pd.api.types.is_categorical_dtype(ob.obs[column]):\n",
      "/tmp/ipykernel_1484391/3437680434.py:3: DeprecationWarning: is_categorical_dtype is deprecated and will be removed in a future version. Use isinstance(dtype, pd.CategoricalDtype) instead\n",
      "  if pd.api.types.is_categorical_dtype(ob.obs[column]):\n",
      "/tmp/ipykernel_1484391/3437680434.py:3: DeprecationWarning: is_categorical_dtype is deprecated and will be removed in a future version. Use isinstance(dtype, pd.CategoricalDtype) instead\n",
      "  if pd.api.types.is_categorical_dtype(ob.obs[column]):\n",
      "/tmp/ipykernel_1484391/3437680434.py:3: DeprecationWarning: is_categorical_dtype is deprecated and will be removed in a future version. Use isinstance(dtype, pd.CategoricalDtype) instead\n",
      "  if pd.api.types.is_categorical_dtype(ob.obs[column]):\n",
      "/tmp/ipykernel_1484391/3437680434.py:3: DeprecationWarning: is_categorical_dtype is deprecated and will be removed in a future version. Use isinstance(dtype, pd.CategoricalDtype) instead\n",
      "  if pd.api.types.is_categorical_dtype(ob.obs[column]):\n",
      "/tmp/ipykernel_1484391/3437680434.py:3: DeprecationWarning: is_categorical_dtype is deprecated and will be removed in a future version. Use isinstance(dtype, pd.CategoricalDtype) instead\n",
      "  if pd.api.types.is_categorical_dtype(ob.obs[column]):\n",
      "/tmp/ipykernel_1484391/3437680434.py:3: DeprecationWarning: is_categorical_dtype is deprecated and will be removed in a future version. Use isinstance(dtype, pd.CategoricalDtype) instead\n",
      "  if pd.api.types.is_categorical_dtype(ob.obs[column]):\n",
      "/tmp/ipykernel_1484391/3437680434.py:3: DeprecationWarning: is_categorical_dtype is deprecated and will be removed in a future version. Use isinstance(dtype, pd.CategoricalDtype) instead\n",
      "  if pd.api.types.is_categorical_dtype(ob.obs[column]):\n",
      "/tmp/ipykernel_1484391/3437680434.py:3: DeprecationWarning: is_categorical_dtype is deprecated and will be removed in a future version. Use isinstance(dtype, pd.CategoricalDtype) instead\n",
      "  if pd.api.types.is_categorical_dtype(ob.obs[column]):\n",
      "/tmp/ipykernel_1484391/3437680434.py:3: DeprecationWarning: is_categorical_dtype is deprecated and will be removed in a future version. Use isinstance(dtype, pd.CategoricalDtype) instead\n",
      "  if pd.api.types.is_categorical_dtype(ob.obs[column]):\n",
      "/tmp/ipykernel_1484391/3437680434.py:3: DeprecationWarning: is_categorical_dtype is deprecated and will be removed in a future version. Use isinstance(dtype, pd.CategoricalDtype) instead\n",
      "  if pd.api.types.is_categorical_dtype(ob.obs[column]):\n",
      "/tmp/ipykernel_1484391/3437680434.py:3: DeprecationWarning: is_categorical_dtype is deprecated and will be removed in a future version. Use isinstance(dtype, pd.CategoricalDtype) instead\n",
      "  if pd.api.types.is_categorical_dtype(ob.obs[column]):\n",
      "/tmp/ipykernel_1484391/3437680434.py:3: DeprecationWarning: is_categorical_dtype is deprecated and will be removed in a future version. Use isinstance(dtype, pd.CategoricalDtype) instead\n",
      "  if pd.api.types.is_categorical_dtype(ob.obs[column]):\n",
      "/tmp/ipykernel_1484391/3437680434.py:3: DeprecationWarning: is_categorical_dtype is deprecated and will be removed in a future version. Use isinstance(dtype, pd.CategoricalDtype) instead\n",
      "  if pd.api.types.is_categorical_dtype(ob.obs[column]):\n",
      "/tmp/ipykernel_1484391/3437680434.py:3: DeprecationWarning: is_categorical_dtype is deprecated and will be removed in a future version. Use isinstance(dtype, pd.CategoricalDtype) instead\n",
      "  if pd.api.types.is_categorical_dtype(ob.obs[column]):\n",
      "/tmp/ipykernel_1484391/3437680434.py:3: DeprecationWarning: is_categorical_dtype is deprecated and will be removed in a future version. Use isinstance(dtype, pd.CategoricalDtype) instead\n",
      "  if pd.api.types.is_categorical_dtype(ob.obs[column]):\n",
      "/tmp/ipykernel_1484391/3437680434.py:3: DeprecationWarning: is_categorical_dtype is deprecated and will be removed in a future version. Use isinstance(dtype, pd.CategoricalDtype) instead\n",
      "  if pd.api.types.is_categorical_dtype(ob.obs[column]):\n",
      "/tmp/ipykernel_1484391/3437680434.py:3: DeprecationWarning: is_categorical_dtype is deprecated and will be removed in a future version. Use isinstance(dtype, pd.CategoricalDtype) instead\n",
      "  if pd.api.types.is_categorical_dtype(ob.obs[column]):\n",
      "/tmp/ipykernel_1484391/3437680434.py:3: DeprecationWarning: is_categorical_dtype is deprecated and will be removed in a future version. Use isinstance(dtype, pd.CategoricalDtype) instead\n",
      "  if pd.api.types.is_categorical_dtype(ob.obs[column]):\n",
      "/tmp/ipykernel_1484391/3437680434.py:3: DeprecationWarning: is_categorical_dtype is deprecated and will be removed in a future version. Use isinstance(dtype, pd.CategoricalDtype) instead\n",
      "  if pd.api.types.is_categorical_dtype(ob.obs[column]):\n",
      "/tmp/ipykernel_1484391/3437680434.py:3: DeprecationWarning: is_categorical_dtype is deprecated and will be removed in a future version. Use isinstance(dtype, pd.CategoricalDtype) instead\n",
      "  if pd.api.types.is_categorical_dtype(ob.obs[column]):\n",
      "/tmp/ipykernel_1484391/3437680434.py:3: DeprecationWarning: is_categorical_dtype is deprecated and will be removed in a future version. Use isinstance(dtype, pd.CategoricalDtype) instead\n",
      "  if pd.api.types.is_categorical_dtype(ob.obs[column]):\n",
      "/tmp/ipykernel_1484391/3437680434.py:3: DeprecationWarning: is_categorical_dtype is deprecated and will be removed in a future version. Use isinstance(dtype, pd.CategoricalDtype) instead\n",
      "  if pd.api.types.is_categorical_dtype(ob.obs[column]):\n",
      "/tmp/ipykernel_1484391/3437680434.py:3: DeprecationWarning: is_categorical_dtype is deprecated and will be removed in a future version. Use isinstance(dtype, pd.CategoricalDtype) instead\n",
      "  if pd.api.types.is_categorical_dtype(ob.obs[column]):\n",
      "/tmp/ipykernel_1484391/3437680434.py:3: DeprecationWarning: is_categorical_dtype is deprecated and will be removed in a future version. Use isinstance(dtype, pd.CategoricalDtype) instead\n",
      "  if pd.api.types.is_categorical_dtype(ob.obs[column]):\n",
      "/tmp/ipykernel_1484391/3437680434.py:3: DeprecationWarning: is_categorical_dtype is deprecated and will be removed in a future version. Use isinstance(dtype, pd.CategoricalDtype) instead\n",
      "  if pd.api.types.is_categorical_dtype(ob.obs[column]):\n",
      "/tmp/ipykernel_1484391/3437680434.py:3: DeprecationWarning: is_categorical_dtype is deprecated and will be removed in a future version. Use isinstance(dtype, pd.CategoricalDtype) instead\n",
      "  if pd.api.types.is_categorical_dtype(ob.obs[column]):\n",
      "/tmp/ipykernel_1484391/3437680434.py:3: DeprecationWarning: is_categorical_dtype is deprecated and will be removed in a future version. Use isinstance(dtype, pd.CategoricalDtype) instead\n",
      "  if pd.api.types.is_categorical_dtype(ob.obs[column]):\n",
      "/tmp/ipykernel_1484391/3437680434.py:3: DeprecationWarning: is_categorical_dtype is deprecated and will be removed in a future version. Use isinstance(dtype, pd.CategoricalDtype) instead\n",
      "  if pd.api.types.is_categorical_dtype(ob.obs[column]):\n",
      "/tmp/ipykernel_1484391/3437680434.py:3: DeprecationWarning: is_categorical_dtype is deprecated and will be removed in a future version. Use isinstance(dtype, pd.CategoricalDtype) instead\n",
      "  if pd.api.types.is_categorical_dtype(ob.obs[column]):\n",
      "/tmp/ipykernel_1484391/3437680434.py:3: DeprecationWarning: is_categorical_dtype is deprecated and will be removed in a future version. Use isinstance(dtype, pd.CategoricalDtype) instead\n",
      "  if pd.api.types.is_categorical_dtype(ob.obs[column]):\n",
      "/tmp/ipykernel_1484391/3437680434.py:3: DeprecationWarning: is_categorical_dtype is deprecated and will be removed in a future version. Use isinstance(dtype, pd.CategoricalDtype) instead\n",
      "  if pd.api.types.is_categorical_dtype(ob.obs[column]):\n"
     ]
    }
   ],
   "source": [
    "for ob in [adata_train_final, adata_ood_final, adata_test_final]:\n",
    "    for column in ob.obs.columns:\n",
    "        if pd.api.types.is_categorical_dtype(ob.obs[column]):\n",
    "            ob.obs[column] = ob.obs[column].astype(str)"
   ]
  },
  {
   "cell_type": "code",
   "execution_count": 221,
   "metadata": {},
   "outputs": [],
   "source": [
    "adata_train_final.varm['X_train_mean'] = adata_train_final.varm['X_train_mean'].A\n",
    "adata_ood_final.varm['X_train_mean'] = adata_ood_final.varm['X_train_mean'].A\n",
    "adata_test_final.varm['X_train_mean'] = adata_test_final.varm['X_train_mean'].A"
   ]
  },
  {
   "cell_type": "code",
   "execution_count": 222,
   "metadata": {},
   "outputs": [],
   "source": [
    "adata_train_final.write(os.path.join(output_dir, \"adata_train_\" + pathway + \"_\" + cell_type + \".h5ad\"))\n",
    "adata_ood_final.write(os.path.join(output_dir, \"adata_ood_\" + pathway + \"_\" + cell_type + \".h5ad\"))\n",
    "adata_test_final.write(os.path.join(output_dir, \"adata_test_\" + pathway + \"_\" + cell_type + \".h5ad\"))"
   ]
  },
  {
   "cell_type": "code",
   "execution_count": 223,
   "metadata": {},
   "outputs": [],
   "source": [
    "adata_loaded = sc.read(os.path.join(output_dir, \"adata_ood_\" + pathway + \"_\" + cell_type + \".h5ad\"))"
   ]
  },
  {
   "cell_type": "code",
   "execution_count": 224,
   "metadata": {},
   "outputs": [],
   "source": [
    "decoded_test = np.matmul(adata_test_final.obsm[\"X_pca\"], adata_train_final.varm[\"PCs\"].T)"
   ]
  },
  {
   "cell_type": "code",
   "execution_count": 225,
   "metadata": {},
   "outputs": [
    {
     "data": {
      "text/plain": [
       "0.9996564467456698"
      ]
     },
     "execution_count": 225,
     "metadata": {},
     "output_type": "execute_result"
    }
   ],
   "source": [
    "compute_r_squared(np.asarray(decoded_test+adata_test_final.varm[\"X_train_mean\"].T), adata_test_final.X.A)"
   ]
  },
  {
   "cell_type": "code",
   "execution_count": 226,
   "metadata": {},
   "outputs": [],
   "source": [
    "decoded_ood = np.matmul(adata_ood_final.obsm[\"X_pca\"], adata_train_final.varm[\"PCs\"].T)"
   ]
  },
  {
   "cell_type": "code",
   "execution_count": 227,
   "metadata": {},
   "outputs": [
    {
     "data": {
      "text/plain": [
       "0.9995589681864923"
      ]
     },
     "execution_count": 227,
     "metadata": {},
     "output_type": "execute_result"
    }
   ],
   "source": [
    "compute_r_squared(np.asarray(decoded_ood+adata_ood_final.varm[\"X_train_mean\"].T), adata_ood_final.X.A)"
   ]
  },
  {
   "cell_type": "code",
   "execution_count": null,
   "metadata": {},
   "outputs": [],
   "source": []
  },
  {
   "cell_type": "code",
   "execution_count": null,
   "metadata": {},
   "outputs": [],
   "source": []
  },
  {
   "cell_type": "code",
   "execution_count": null,
   "metadata": {},
   "outputs": [],
   "source": []
  }
 ],
 "metadata": {
  "kernelspec": {
   "display_name": "notebook",
   "language": "python",
   "name": "notebook"
  },
  "language_info": {
   "codemirror_mode": {
    "name": "ipython",
    "version": 3
   },
   "file_extension": ".py",
   "mimetype": "text/x-python",
   "name": "python",
   "nbconvert_exporter": "python",
   "pygments_lexer": "ipython3",
   "version": "3.10.13"
  }
 },
 "nbformat": 4,
 "nbformat_minor": 4
}
