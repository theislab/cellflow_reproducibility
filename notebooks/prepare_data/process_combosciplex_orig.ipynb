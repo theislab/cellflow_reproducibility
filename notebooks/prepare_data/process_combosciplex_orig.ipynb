{
 "cells": [
  {
   "cell_type": "code",
   "execution_count": 1,
   "id": "1632ceb5-2c07-454d-be9b-c259c305a0f7",
   "metadata": {},
   "outputs": [],
   "source": [
    "import numpy as np\n",
    "import pandas as pd\n",
    "import scanpy as sc\n",
    "from rdkit import Chem"
   ]
  },
  {
   "cell_type": "code",
   "execution_count": 2,
   "id": "87679af1-bfb9-4def-aa24-647fdd997c31",
   "metadata": {},
   "outputs": [],
   "source": [
    "output_dir = \"/lustre/groups/ml01/workspace/ot_perturbation/data/combosciplex\""
   ]
  },
  {
   "cell_type": "code",
   "execution_count": 3,
   "id": "e98ec35b-2ece-46db-900d-41fc45e88693",
   "metadata": {},
   "outputs": [
    {
     "name": "stderr",
     "output_type": "stream",
     "text": [
      "/home/icb/dominik.klein/mambaforge/envs/ot_pert_genot/lib/python3.12/site-packages/anndata/__init__.py:51: FutureWarning: `anndata.read` is deprecated, use `anndata.read_h5ad` instead. `ad.read` will be removed in mid 2024.\n",
      "  warnings.warn(\n"
     ]
    }
   ],
   "source": [
    "data_path = \"/home/icb/dominik.klein/git_repos/ot_pert_new/competing_methods/combosciplex/CPA/combo_sciplex_prep_hvg_filtered.h5ad\"\n",
    "adata = sc.read(data_path)"
   ]
  },
  {
   "cell_type": "code",
   "execution_count": 4,
   "id": "81e6f3a8-150b-4da4-9a8a-92c57c9c7602",
   "metadata": {},
   "outputs": [
    {
     "data": {
      "text/plain": [
       "AnnData object with n_obs × n_vars = 63378 × 5000\n",
       "    obs: 'ncounts', 'well', 'plate', 'cell_line', 'replicate', 'time', 'dose_value', 'pathway1', 'pathway2', 'perturbation', 'target', 'pathway', 'dose_unit', 'celltype', 'disease', 'tissue_type', 'organism', 'perturbation_type', 'ngenes', 'percent_mito', 'percent_ribo', 'nperts', 'chembl-ID', 'condition', 'condition_ID', 'control', 'cell_type', 'smiles_rdkit', 'source', 'sample', 'Size_Factor', 'n.umi', 'RT_well', 'Drug1', 'Drug2', 'Well', 'n_genes', 'n_genes_by_counts', 'total_counts', 'total_counts_mt', 'pct_counts_mt', 'leiden', 'split', 'condition_old', 'pert_type', 'batch', 'split_1ct_MEC', 'split_2ct_MEC', 'split_3ct_MEC', 'batch_cov', 'batch_cov_cond', 'log_dose', 'cov_drug_dose'\n",
       "    var: 'ensembl_id-0', 'ncounts-0', 'ncells-0', 'symbol-0', 'symbol-1', 'id-1', 'n_cells-1', 'mt-1', 'n_cells_by_counts-1', 'mean_counts-1', 'pct_dropout_by_counts-1', 'total_counts-1', 'highly_variable-1', 'means-1', 'dispersions-1', 'dispersions_norm-1', 'highly_variable', 'means', 'dispersions', 'dispersions_norm', 'highly_variable_nbatches', 'highly_variable_intersection'\n",
       "    uns: 'cell_type_colors', 'hvg', 'neighbors', 'pathway1_colors', 'pca', 'rank_genes_groups_cov', 'rank_genes_groups_cov_detailed', 'source_colors', 'umap'\n",
       "    obsm: 'X_pca', 'X_umap'\n",
       "    varm: 'PCs'\n",
       "    layers: 'counts'\n",
       "    obsp: 'connectivities', 'distances'"
      ]
     },
     "execution_count": 4,
     "metadata": {},
     "output_type": "execute_result"
    }
   ],
   "source": [
    "adata"
   ]
  },
  {
   "cell_type": "code",
   "execution_count": 5,
   "id": "c0bcf8bf-ee38-41cd-9759-08f0a9f6f42e",
   "metadata": {},
   "outputs": [
    {
     "data": {
      "text/plain": [
       "condition\n",
       "Dacinostat (LAQ824)+PCI-34051                       3298\n",
       "SRT3025+Cediranib (AZD2171)                         3016\n",
       "Givinostat (ITF2357)+Cediranib (AZD2171)            2783\n",
       "SRT2104 (GSK2245840)                                2756\n",
       "Givinostat (ITF2357)+Curcumin                       2736\n",
       "Givinostat (ITF2357)+Sorafenib Tosylate             2734\n",
       "Givinostat (ITF2357)+Carmofur                       2692\n",
       "Givinostat (ITF2357)+Crizotinib (PF-02341066)       2662\n",
       "Givinostat (ITF2357)+Dasatinib                      2421\n",
       "Givinostat (ITF2357)+SRT2104 (GSK2245840)           2353\n",
       "Dasatinib                                           2343\n",
       "Givinostat (ITF2357)+SRT1720                        2260\n",
       "Panobinostat (LBH589)+Curcumin                      2244\n",
       "Cediranib (AZD2171)+PCI-34051                       2161\n",
       "Panobinostat (LBH589)+Sorafenib Tosylate            2013\n",
       "Panobinostat (LBH589)+SRT2104 (GSK2245840)          1971\n",
       "Panobinostat (LBH589)+Dasatinib                     1955\n",
       "Dacinostat (LAQ824)+Danusertib (PHA-739358)         1939\n",
       "Panobinostat (LBH589)+SRT3025                       1889\n",
       "Dacinostat (LAQ824)                                 1869\n",
       "Panobinostat (LBH589)+SRT1720                       1826\n",
       "Panobinostat (LBH589)+PCI-34051                     1814\n",
       "Givinostat (ITF2357)                                1682\n",
       "Panobinostat (LBH589)+Crizotinib (PF-02341066)      1641\n",
       "Panobinostat (LBH589)                               1578\n",
       "control                                             1451\n",
       "Givinostat (ITF2357)+Tanespimycin (17-AAG)          1310\n",
       "Dacinostat (LAQ824)+Dasatinib                       1231\n",
       "Panobinostat (LBH589)+Alvespimycin (17-DMAG) HCl     996\n",
       "Alvespimycin (17-DMAG) HCl                           758\n",
       "SRT2104 (GSK2245840)+Alvespimycin (17-DMAG) HCl      520\n",
       "Alvespimycin (17-DMAG) HCl+Pirarubicin               476\n",
       "Name: count, dtype: int64"
      ]
     },
     "execution_count": 5,
     "metadata": {},
     "output_type": "execute_result"
    }
   ],
   "source": [
    "adata.obs[\"condition\"].value_counts()"
   ]
  },
  {
   "cell_type": "code",
   "execution_count": 6,
   "id": "1fa6a04b-9b1d-445a-8383-64225743f852",
   "metadata": {},
   "outputs": [
    {
     "data": {
      "text/plain": [
       "Drug2\n",
       "Dasatinib       7950\n",
       "PCI-34051       7273\n",
       "SRT2104         7080\n",
       "Cediranib       5799\n",
       "Curcumin        4980\n",
       "Sorafenib       4747\n",
       "Crizotinib      4303\n",
       "SRT1720         4086\n",
       "Carmofur        2692\n",
       "Alvespimycin    2274\n",
       "Danusertib      1939\n",
       "SRT3025         1889\n",
       "Dacinostat      1869\n",
       "Givinostat      1682\n",
       "Panobinostat    1578\n",
       "control         1451\n",
       "Tanespimycin    1310\n",
       "Pirarubicin      476\n",
       "Name: count, dtype: int64"
      ]
     },
     "execution_count": 6,
     "metadata": {},
     "output_type": "execute_result"
    }
   ],
   "source": [
    "adata.obs[\"Drug2\"].value_counts()"
   ]
  },
  {
   "cell_type": "code",
   "execution_count": 7,
   "id": "42970243-59f8-45b0-bc21-4342b4a06754",
   "metadata": {},
   "outputs": [
    {
     "data": {
      "text/plain": [
       "Drug1\n",
       "Givinostat      21951\n",
       "Panobinostat    16349\n",
       "control         12437\n",
       "Dacinostat       6468\n",
       "SRT3025          3016\n",
       "Cediranib        2161\n",
       "SRT2104           520\n",
       "Alvespimycin      476\n",
       "Name: count, dtype: int64"
      ]
     },
     "execution_count": 7,
     "metadata": {},
     "output_type": "execute_result"
    }
   ],
   "source": [
    "adata.obs[\"Drug1\"].value_counts()"
   ]
  },
  {
   "cell_type": "code",
   "execution_count": 8,
   "id": "27507da7-e2f0-4f49-beb7-352302fb3826",
   "metadata": {},
   "outputs": [],
   "source": [
    "adata.X = adata.layers[\"counts\"]"
   ]
  },
  {
   "cell_type": "code",
   "execution_count": 9,
   "id": "e9c1a067-8a30-47b4-83ec-833ad1f0abfa",
   "metadata": {},
   "outputs": [],
   "source": [
    "sc.pp.normalize_total(adata)\n",
    "sc.pp.log1p(adata)"
   ]
  },
  {
   "cell_type": "code",
   "execution_count": 10,
   "id": "8e920cb2-ef2d-45ba-92bd-f7b34b97086e",
   "metadata": {},
   "outputs": [
    {
     "name": "stderr",
     "output_type": "stream",
     "text": [
      "/home/icb/dominik.klein/mambaforge/envs/ot_pert_genot/lib/python3.12/site-packages/scanpy/preprocessing/_highly_variable_genes.py:226: FutureWarning: The default of observed=False is deprecated and will be changed to True in a future version of pandas. Pass observed=False to retain current behavior or observed=True to adopt the future default and silence this warning.\n",
      "  disp_grouped = df.groupby(\"mean_bin\")[\"dispersions\"]\n"
     ]
    }
   ],
   "source": [
    "sc.pp.highly_variable_genes(adata, inplace=True, n_top_genes=2000)"
   ]
  },
  {
   "cell_type": "code",
   "execution_count": 11,
   "id": "68447018-dd3f-48c3-8759-1ca8014f2ff4",
   "metadata": {},
   "outputs": [],
   "source": [
    "adata = adata[:, adata.var[\"highly_variable\"] == True]"
   ]
  },
  {
   "cell_type": "code",
   "execution_count": 12,
   "id": "122e3309-0cdf-4f4d-85c5-fcbc6e504114",
   "metadata": {},
   "outputs": [
    {
     "name": "stderr",
     "output_type": "stream",
     "text": [
      "/tmp/ipykernel_579898/3265058569.py:1: ImplicitModificationWarning: Trying to modify attribute `.obs` of view, initializing view as actual.\n",
      "  adata.obs[\"condition\"] = adata.obs.apply(\n"
     ]
    }
   ],
   "source": [
    "adata.obs[\"condition\"] = adata.obs.apply(\n",
    "    lambda x: \"control\" if x[\"condition\"] == \"control\" else x[\"Drug1\"]+\"_\"+x[\"Drug2\"], axis=1\n",
    ")"
   ]
  },
  {
   "cell_type": "code",
   "execution_count": 13,
   "id": "c1907a36-9490-45cf-950e-d2b573c680ea",
   "metadata": {},
   "outputs": [
    {
     "data": {
      "text/plain": [
       "A01_A02_RT_BC_10_Lig_BC_18-1    control_Panobinostat\n",
       "A01_A02_RT_BC_10_Lig_BC_25-1    control_Panobinostat\n",
       "A01_A02_RT_BC_10_Lig_BC_48-1    control_Panobinostat\n",
       "A01_A02_RT_BC_10_Lig_BC_51-1    control_Panobinostat\n",
       "A01_A02_RT_BC_10_Lig_BC_70-1    control_Panobinostat\n",
       "                                        ...         \n",
       "H12_A02_RT_BC_96_Lig_BC_50-1       control_Dasatinib\n",
       "H12_A02_RT_BC_96_Lig_BC_95-1       control_Dasatinib\n",
       "H12_A02_RT_BC_9_Lig_BC_41-1     Dacinostat_Dasatinib\n",
       "H12_A02_RT_BC_9_Lig_BC_69-1     Dacinostat_Dasatinib\n",
       "H12_A02_RT_BC_9_Lig_BC_83-1     Dacinostat_Dasatinib\n",
       "Name: condition, Length: 63378, dtype: object"
      ]
     },
     "execution_count": 13,
     "metadata": {},
     "output_type": "execute_result"
    }
   ],
   "source": [
    "adata.obs[\"condition\"]"
   ]
  },
  {
   "cell_type": "code",
   "execution_count": 14,
   "id": "6decab35-25c7-41a2-a2ee-a74d9e072775",
   "metadata": {},
   "outputs": [],
   "source": [
    "def rank_genes_groups_by_cov(\n",
    "    adata,\n",
    "    groupby,\n",
    "    control_group,\n",
    "    covariate,\n",
    "    n_genes=50,\n",
    "    rankby_abs=True,\n",
    "    key_added=\"rank_genes_groups_cov\",\n",
    "    return_dict=False,\n",
    "):\n",
    "    gene_dict = {}\n",
    "    cov_categories = adata.obs[covariate].unique()\n",
    "    for cov_cat in cov_categories:\n",
    "        # name of the control group in the groupby obs column\n",
    "        control_group_cov = control_group  # \"_\".join([cov_cat, control_group])\n",
    "        # subset adata to cells belonging to a covariate category\n",
    "        adata_cov = adata[adata.obs[covariate] == cov_cat]\n",
    "        # compute DEGs\n",
    "        sc.tl.rank_genes_groups(\n",
    "            adata_cov,\n",
    "            groupby=groupby,\n",
    "            reference=control_group_cov,\n",
    "            rankby_abs=rankby_abs,\n",
    "            n_genes=n_genes,\n",
    "            use_raw=False,\n",
    "        )\n",
    "        # add entries to dictionary of gene sets\n",
    "        de_genes = pd.DataFrame(adata_cov.uns[\"rank_genes_groups\"][\"names\"])\n",
    "        for group in de_genes:\n",
    "            gene_dict[group] = de_genes[group].tolist()\n",
    "    adata.uns[key_added] = gene_dict\n",
    "    if return_dict:\n",
    "        return gene_dict\n",
    "\n",
    "\n",
    "def get_DE_genes(adata):\n",
    "    adata.obs.loc[:, \"control\"] = adata.obs.condition.apply(lambda x: 1 if x == \"control\" else 0)\n",
    "    adata.obs = adata.obs.astype(\"category\")\n",
    "    rank_genes_groups_by_cov(\n",
    "        adata,\n",
    "        groupby=\"condition\",\n",
    "        covariate=\"cell_type\",\n",
    "        control_group=\"control\",\n",
    "        n_genes=50,\n",
    "        key_added=\"rank_genes_groups_cov_all\",\n",
    "    )\n",
    "    return adata"
   ]
  },
  {
   "cell_type": "code",
   "execution_count": 15,
   "id": "99efa959-202d-4c07-a201-ae141a3b6bc7",
   "metadata": {},
   "outputs": [
    {
     "name": "stdout",
     "output_type": "stream",
     "text": [
      "WARNING: Default of the method has been changed to 't-test' from 't-test_overestim_var'\n"
     ]
    },
    {
     "name": "stderr",
     "output_type": "stream",
     "text": [
      "/home/icb/dominik.klein/mambaforge/envs/ot_pert_genot/lib/python3.12/site-packages/scanpy/tools/_rank_genes_groups.py:582: ImplicitModificationWarning: Trying to modify attribute `._uns` of view, initializing view as actual.\n",
      "  adata.uns[key_added] = {}\n",
      "/home/icb/dominik.klein/mambaforge/envs/ot_pert_genot/lib/python3.12/site-packages/scanpy/tools/_rank_genes_groups.py:396: PerformanceWarning: DataFrame is highly fragmented.  This is usually the result of calling `frame.insert` many times, which has poor performance.  Consider joining all columns at once using pd.concat(axis=1) instead. To get a de-fragmented frame, use `newframe = frame.copy()`\n",
      "  self.stats[group_name, 'names'] = self.var_names[global_indices]\n",
      "/home/icb/dominik.klein/mambaforge/envs/ot_pert_genot/lib/python3.12/site-packages/scanpy/tools/_rank_genes_groups.py:398: PerformanceWarning: DataFrame is highly fragmented.  This is usually the result of calling `frame.insert` many times, which has poor performance.  Consider joining all columns at once using pd.concat(axis=1) instead. To get a de-fragmented frame, use `newframe = frame.copy()`\n",
      "  self.stats[group_name, 'scores'] = scores[global_indices]\n",
      "/home/icb/dominik.klein/mambaforge/envs/ot_pert_genot/lib/python3.12/site-packages/scanpy/tools/_rank_genes_groups.py:401: PerformanceWarning: DataFrame is highly fragmented.  This is usually the result of calling `frame.insert` many times, which has poor performance.  Consider joining all columns at once using pd.concat(axis=1) instead. To get a de-fragmented frame, use `newframe = frame.copy()`\n",
      "  self.stats[group_name, 'pvals'] = pvals[global_indices]\n",
      "/home/icb/dominik.klein/mambaforge/envs/ot_pert_genot/lib/python3.12/site-packages/scanpy/tools/_rank_genes_groups.py:411: PerformanceWarning: DataFrame is highly fragmented.  This is usually the result of calling `frame.insert` many times, which has poor performance.  Consider joining all columns at once using pd.concat(axis=1) instead. To get a de-fragmented frame, use `newframe = frame.copy()`\n",
      "  self.stats[group_name, 'pvals_adj'] = pvals_adj[global_indices]\n",
      "/home/icb/dominik.klein/mambaforge/envs/ot_pert_genot/lib/python3.12/site-packages/scanpy/tools/_rank_genes_groups.py:422: PerformanceWarning: DataFrame is highly fragmented.  This is usually the result of calling `frame.insert` many times, which has poor performance.  Consider joining all columns at once using pd.concat(axis=1) instead. To get a de-fragmented frame, use `newframe = frame.copy()`\n",
      "  self.stats[group_name, 'logfoldchanges'] = np.log2(\n",
      "/home/icb/dominik.klein/mambaforge/envs/ot_pert_genot/lib/python3.12/site-packages/scanpy/tools/_rank_genes_groups.py:396: PerformanceWarning: DataFrame is highly fragmented.  This is usually the result of calling `frame.insert` many times, which has poor performance.  Consider joining all columns at once using pd.concat(axis=1) instead. To get a de-fragmented frame, use `newframe = frame.copy()`\n",
      "  self.stats[group_name, 'names'] = self.var_names[global_indices]\n",
      "/home/icb/dominik.klein/mambaforge/envs/ot_pert_genot/lib/python3.12/site-packages/scanpy/tools/_rank_genes_groups.py:398: PerformanceWarning: DataFrame is highly fragmented.  This is usually the result of calling `frame.insert` many times, which has poor performance.  Consider joining all columns at once using pd.concat(axis=1) instead. To get a de-fragmented frame, use `newframe = frame.copy()`\n",
      "  self.stats[group_name, 'scores'] = scores[global_indices]\n",
      "/home/icb/dominik.klein/mambaforge/envs/ot_pert_genot/lib/python3.12/site-packages/scanpy/tools/_rank_genes_groups.py:401: PerformanceWarning: DataFrame is highly fragmented.  This is usually the result of calling `frame.insert` many times, which has poor performance.  Consider joining all columns at once using pd.concat(axis=1) instead. To get a de-fragmented frame, use `newframe = frame.copy()`\n",
      "  self.stats[group_name, 'pvals'] = pvals[global_indices]\n",
      "/home/icb/dominik.klein/mambaforge/envs/ot_pert_genot/lib/python3.12/site-packages/scanpy/tools/_rank_genes_groups.py:411: PerformanceWarning: DataFrame is highly fragmented.  This is usually the result of calling `frame.insert` many times, which has poor performance.  Consider joining all columns at once using pd.concat(axis=1) instead. To get a de-fragmented frame, use `newframe = frame.copy()`\n",
      "  self.stats[group_name, 'pvals_adj'] = pvals_adj[global_indices]\n",
      "/home/icb/dominik.klein/mambaforge/envs/ot_pert_genot/lib/python3.12/site-packages/scanpy/tools/_rank_genes_groups.py:422: PerformanceWarning: DataFrame is highly fragmented.  This is usually the result of calling `frame.insert` many times, which has poor performance.  Consider joining all columns at once using pd.concat(axis=1) instead. To get a de-fragmented frame, use `newframe = frame.copy()`\n",
      "  self.stats[group_name, 'logfoldchanges'] = np.log2(\n",
      "/home/icb/dominik.klein/mambaforge/envs/ot_pert_genot/lib/python3.12/site-packages/scanpy/tools/_rank_genes_groups.py:396: PerformanceWarning: DataFrame is highly fragmented.  This is usually the result of calling `frame.insert` many times, which has poor performance.  Consider joining all columns at once using pd.concat(axis=1) instead. To get a de-fragmented frame, use `newframe = frame.copy()`\n",
      "  self.stats[group_name, 'names'] = self.var_names[global_indices]\n",
      "/home/icb/dominik.klein/mambaforge/envs/ot_pert_genot/lib/python3.12/site-packages/scanpy/tools/_rank_genes_groups.py:398: PerformanceWarning: DataFrame is highly fragmented.  This is usually the result of calling `frame.insert` many times, which has poor performance.  Consider joining all columns at once using pd.concat(axis=1) instead. To get a de-fragmented frame, use `newframe = frame.copy()`\n",
      "  self.stats[group_name, 'scores'] = scores[global_indices]\n",
      "/home/icb/dominik.klein/mambaforge/envs/ot_pert_genot/lib/python3.12/site-packages/scanpy/tools/_rank_genes_groups.py:401: PerformanceWarning: DataFrame is highly fragmented.  This is usually the result of calling `frame.insert` many times, which has poor performance.  Consider joining all columns at once using pd.concat(axis=1) instead. To get a de-fragmented frame, use `newframe = frame.copy()`\n",
      "  self.stats[group_name, 'pvals'] = pvals[global_indices]\n",
      "/home/icb/dominik.klein/mambaforge/envs/ot_pert_genot/lib/python3.12/site-packages/scanpy/tools/_rank_genes_groups.py:411: PerformanceWarning: DataFrame is highly fragmented.  This is usually the result of calling `frame.insert` many times, which has poor performance.  Consider joining all columns at once using pd.concat(axis=1) instead. To get a de-fragmented frame, use `newframe = frame.copy()`\n",
      "  self.stats[group_name, 'pvals_adj'] = pvals_adj[global_indices]\n",
      "/home/icb/dominik.klein/mambaforge/envs/ot_pert_genot/lib/python3.12/site-packages/scanpy/tools/_rank_genes_groups.py:422: PerformanceWarning: DataFrame is highly fragmented.  This is usually the result of calling `frame.insert` many times, which has poor performance.  Consider joining all columns at once using pd.concat(axis=1) instead. To get a de-fragmented frame, use `newframe = frame.copy()`\n",
      "  self.stats[group_name, 'logfoldchanges'] = np.log2(\n",
      "/home/icb/dominik.klein/mambaforge/envs/ot_pert_genot/lib/python3.12/site-packages/scanpy/tools/_rank_genes_groups.py:396: PerformanceWarning: DataFrame is highly fragmented.  This is usually the result of calling `frame.insert` many times, which has poor performance.  Consider joining all columns at once using pd.concat(axis=1) instead. To get a de-fragmented frame, use `newframe = frame.copy()`\n",
      "  self.stats[group_name, 'names'] = self.var_names[global_indices]\n",
      "/home/icb/dominik.klein/mambaforge/envs/ot_pert_genot/lib/python3.12/site-packages/scanpy/tools/_rank_genes_groups.py:398: PerformanceWarning: DataFrame is highly fragmented.  This is usually the result of calling `frame.insert` many times, which has poor performance.  Consider joining all columns at once using pd.concat(axis=1) instead. To get a de-fragmented frame, use `newframe = frame.copy()`\n",
      "  self.stats[group_name, 'scores'] = scores[global_indices]\n",
      "/home/icb/dominik.klein/mambaforge/envs/ot_pert_genot/lib/python3.12/site-packages/scanpy/tools/_rank_genes_groups.py:401: PerformanceWarning: DataFrame is highly fragmented.  This is usually the result of calling `frame.insert` many times, which has poor performance.  Consider joining all columns at once using pd.concat(axis=1) instead. To get a de-fragmented frame, use `newframe = frame.copy()`\n",
      "  self.stats[group_name, 'pvals'] = pvals[global_indices]\n",
      "/home/icb/dominik.klein/mambaforge/envs/ot_pert_genot/lib/python3.12/site-packages/scanpy/tools/_rank_genes_groups.py:411: PerformanceWarning: DataFrame is highly fragmented.  This is usually the result of calling `frame.insert` many times, which has poor performance.  Consider joining all columns at once using pd.concat(axis=1) instead. To get a de-fragmented frame, use `newframe = frame.copy()`\n",
      "  self.stats[group_name, 'pvals_adj'] = pvals_adj[global_indices]\n",
      "/home/icb/dominik.klein/mambaforge/envs/ot_pert_genot/lib/python3.12/site-packages/scanpy/tools/_rank_genes_groups.py:422: PerformanceWarning: DataFrame is highly fragmented.  This is usually the result of calling `frame.insert` many times, which has poor performance.  Consider joining all columns at once using pd.concat(axis=1) instead. To get a de-fragmented frame, use `newframe = frame.copy()`\n",
      "  self.stats[group_name, 'logfoldchanges'] = np.log2(\n",
      "/home/icb/dominik.klein/mambaforge/envs/ot_pert_genot/lib/python3.12/site-packages/scanpy/tools/_rank_genes_groups.py:396: PerformanceWarning: DataFrame is highly fragmented.  This is usually the result of calling `frame.insert` many times, which has poor performance.  Consider joining all columns at once using pd.concat(axis=1) instead. To get a de-fragmented frame, use `newframe = frame.copy()`\n",
      "  self.stats[group_name, 'names'] = self.var_names[global_indices]\n",
      "/home/icb/dominik.klein/mambaforge/envs/ot_pert_genot/lib/python3.12/site-packages/scanpy/tools/_rank_genes_groups.py:398: PerformanceWarning: DataFrame is highly fragmented.  This is usually the result of calling `frame.insert` many times, which has poor performance.  Consider joining all columns at once using pd.concat(axis=1) instead. To get a de-fragmented frame, use `newframe = frame.copy()`\n",
      "  self.stats[group_name, 'scores'] = scores[global_indices]\n",
      "/home/icb/dominik.klein/mambaforge/envs/ot_pert_genot/lib/python3.12/site-packages/scanpy/tools/_rank_genes_groups.py:401: PerformanceWarning: DataFrame is highly fragmented.  This is usually the result of calling `frame.insert` many times, which has poor performance.  Consider joining all columns at once using pd.concat(axis=1) instead. To get a de-fragmented frame, use `newframe = frame.copy()`\n",
      "  self.stats[group_name, 'pvals'] = pvals[global_indices]\n",
      "/home/icb/dominik.klein/mambaforge/envs/ot_pert_genot/lib/python3.12/site-packages/scanpy/tools/_rank_genes_groups.py:411: PerformanceWarning: DataFrame is highly fragmented.  This is usually the result of calling `frame.insert` many times, which has poor performance.  Consider joining all columns at once using pd.concat(axis=1) instead. To get a de-fragmented frame, use `newframe = frame.copy()`\n",
      "  self.stats[group_name, 'pvals_adj'] = pvals_adj[global_indices]\n",
      "/home/icb/dominik.klein/mambaforge/envs/ot_pert_genot/lib/python3.12/site-packages/scanpy/tools/_rank_genes_groups.py:422: PerformanceWarning: DataFrame is highly fragmented.  This is usually the result of calling `frame.insert` many times, which has poor performance.  Consider joining all columns at once using pd.concat(axis=1) instead. To get a de-fragmented frame, use `newframe = frame.copy()`\n",
      "  self.stats[group_name, 'logfoldchanges'] = np.log2(\n",
      "/home/icb/dominik.klein/mambaforge/envs/ot_pert_genot/lib/python3.12/site-packages/scanpy/tools/_rank_genes_groups.py:396: PerformanceWarning: DataFrame is highly fragmented.  This is usually the result of calling `frame.insert` many times, which has poor performance.  Consider joining all columns at once using pd.concat(axis=1) instead. To get a de-fragmented frame, use `newframe = frame.copy()`\n",
      "  self.stats[group_name, 'names'] = self.var_names[global_indices]\n",
      "/home/icb/dominik.klein/mambaforge/envs/ot_pert_genot/lib/python3.12/site-packages/scanpy/tools/_rank_genes_groups.py:398: PerformanceWarning: DataFrame is highly fragmented.  This is usually the result of calling `frame.insert` many times, which has poor performance.  Consider joining all columns at once using pd.concat(axis=1) instead. To get a de-fragmented frame, use `newframe = frame.copy()`\n",
      "  self.stats[group_name, 'scores'] = scores[global_indices]\n",
      "/home/icb/dominik.klein/mambaforge/envs/ot_pert_genot/lib/python3.12/site-packages/scanpy/tools/_rank_genes_groups.py:401: PerformanceWarning: DataFrame is highly fragmented.  This is usually the result of calling `frame.insert` many times, which has poor performance.  Consider joining all columns at once using pd.concat(axis=1) instead. To get a de-fragmented frame, use `newframe = frame.copy()`\n",
      "  self.stats[group_name, 'pvals'] = pvals[global_indices]\n",
      "/home/icb/dominik.klein/mambaforge/envs/ot_pert_genot/lib/python3.12/site-packages/scanpy/tools/_rank_genes_groups.py:411: PerformanceWarning: DataFrame is highly fragmented.  This is usually the result of calling `frame.insert` many times, which has poor performance.  Consider joining all columns at once using pd.concat(axis=1) instead. To get a de-fragmented frame, use `newframe = frame.copy()`\n",
      "  self.stats[group_name, 'pvals_adj'] = pvals_adj[global_indices]\n",
      "/home/icb/dominik.klein/mambaforge/envs/ot_pert_genot/lib/python3.12/site-packages/scanpy/tools/_rank_genes_groups.py:422: PerformanceWarning: DataFrame is highly fragmented.  This is usually the result of calling `frame.insert` many times, which has poor performance.  Consider joining all columns at once using pd.concat(axis=1) instead. To get a de-fragmented frame, use `newframe = frame.copy()`\n",
      "  self.stats[group_name, 'logfoldchanges'] = np.log2(\n",
      "/home/icb/dominik.klein/mambaforge/envs/ot_pert_genot/lib/python3.12/site-packages/scanpy/tools/_rank_genes_groups.py:396: PerformanceWarning: DataFrame is highly fragmented.  This is usually the result of calling `frame.insert` many times, which has poor performance.  Consider joining all columns at once using pd.concat(axis=1) instead. To get a de-fragmented frame, use `newframe = frame.copy()`\n",
      "  self.stats[group_name, 'names'] = self.var_names[global_indices]\n",
      "/home/icb/dominik.klein/mambaforge/envs/ot_pert_genot/lib/python3.12/site-packages/scanpy/tools/_rank_genes_groups.py:398: PerformanceWarning: DataFrame is highly fragmented.  This is usually the result of calling `frame.insert` many times, which has poor performance.  Consider joining all columns at once using pd.concat(axis=1) instead. To get a de-fragmented frame, use `newframe = frame.copy()`\n",
      "  self.stats[group_name, 'scores'] = scores[global_indices]\n",
      "/home/icb/dominik.klein/mambaforge/envs/ot_pert_genot/lib/python3.12/site-packages/scanpy/tools/_rank_genes_groups.py:401: PerformanceWarning: DataFrame is highly fragmented.  This is usually the result of calling `frame.insert` many times, which has poor performance.  Consider joining all columns at once using pd.concat(axis=1) instead. To get a de-fragmented frame, use `newframe = frame.copy()`\n",
      "  self.stats[group_name, 'pvals'] = pvals[global_indices]\n",
      "/home/icb/dominik.klein/mambaforge/envs/ot_pert_genot/lib/python3.12/site-packages/scanpy/tools/_rank_genes_groups.py:411: PerformanceWarning: DataFrame is highly fragmented.  This is usually the result of calling `frame.insert` many times, which has poor performance.  Consider joining all columns at once using pd.concat(axis=1) instead. To get a de-fragmented frame, use `newframe = frame.copy()`\n",
      "  self.stats[group_name, 'pvals_adj'] = pvals_adj[global_indices]\n",
      "/home/icb/dominik.klein/mambaforge/envs/ot_pert_genot/lib/python3.12/site-packages/scanpy/tools/_rank_genes_groups.py:422: PerformanceWarning: DataFrame is highly fragmented.  This is usually the result of calling `frame.insert` many times, which has poor performance.  Consider joining all columns at once using pd.concat(axis=1) instead. To get a de-fragmented frame, use `newframe = frame.copy()`\n",
      "  self.stats[group_name, 'logfoldchanges'] = np.log2(\n",
      "/home/icb/dominik.klein/mambaforge/envs/ot_pert_genot/lib/python3.12/site-packages/scanpy/tools/_rank_genes_groups.py:396: PerformanceWarning: DataFrame is highly fragmented.  This is usually the result of calling `frame.insert` many times, which has poor performance.  Consider joining all columns at once using pd.concat(axis=1) instead. To get a de-fragmented frame, use `newframe = frame.copy()`\n",
      "  self.stats[group_name, 'names'] = self.var_names[global_indices]\n",
      "/home/icb/dominik.klein/mambaforge/envs/ot_pert_genot/lib/python3.12/site-packages/scanpy/tools/_rank_genes_groups.py:398: PerformanceWarning: DataFrame is highly fragmented.  This is usually the result of calling `frame.insert` many times, which has poor performance.  Consider joining all columns at once using pd.concat(axis=1) instead. To get a de-fragmented frame, use `newframe = frame.copy()`\n",
      "  self.stats[group_name, 'scores'] = scores[global_indices]\n",
      "/home/icb/dominik.klein/mambaforge/envs/ot_pert_genot/lib/python3.12/site-packages/scanpy/tools/_rank_genes_groups.py:401: PerformanceWarning: DataFrame is highly fragmented.  This is usually the result of calling `frame.insert` many times, which has poor performance.  Consider joining all columns at once using pd.concat(axis=1) instead. To get a de-fragmented frame, use `newframe = frame.copy()`\n",
      "  self.stats[group_name, 'pvals'] = pvals[global_indices]\n",
      "/home/icb/dominik.klein/mambaforge/envs/ot_pert_genot/lib/python3.12/site-packages/scanpy/tools/_rank_genes_groups.py:411: PerformanceWarning: DataFrame is highly fragmented.  This is usually the result of calling `frame.insert` many times, which has poor performance.  Consider joining all columns at once using pd.concat(axis=1) instead. To get a de-fragmented frame, use `newframe = frame.copy()`\n",
      "  self.stats[group_name, 'pvals_adj'] = pvals_adj[global_indices]\n",
      "/home/icb/dominik.klein/mambaforge/envs/ot_pert_genot/lib/python3.12/site-packages/scanpy/tools/_rank_genes_groups.py:422: PerformanceWarning: DataFrame is highly fragmented.  This is usually the result of calling `frame.insert` many times, which has poor performance.  Consider joining all columns at once using pd.concat(axis=1) instead. To get a de-fragmented frame, use `newframe = frame.copy()`\n",
      "  self.stats[group_name, 'logfoldchanges'] = np.log2(\n",
      "/home/icb/dominik.klein/mambaforge/envs/ot_pert_genot/lib/python3.12/site-packages/scanpy/tools/_rank_genes_groups.py:396: PerformanceWarning: DataFrame is highly fragmented.  This is usually the result of calling `frame.insert` many times, which has poor performance.  Consider joining all columns at once using pd.concat(axis=1) instead. To get a de-fragmented frame, use `newframe = frame.copy()`\n",
      "  self.stats[group_name, 'names'] = self.var_names[global_indices]\n",
      "/home/icb/dominik.klein/mambaforge/envs/ot_pert_genot/lib/python3.12/site-packages/scanpy/tools/_rank_genes_groups.py:398: PerformanceWarning: DataFrame is highly fragmented.  This is usually the result of calling `frame.insert` many times, which has poor performance.  Consider joining all columns at once using pd.concat(axis=1) instead. To get a de-fragmented frame, use `newframe = frame.copy()`\n",
      "  self.stats[group_name, 'scores'] = scores[global_indices]\n",
      "/home/icb/dominik.klein/mambaforge/envs/ot_pert_genot/lib/python3.12/site-packages/scanpy/tools/_rank_genes_groups.py:401: PerformanceWarning: DataFrame is highly fragmented.  This is usually the result of calling `frame.insert` many times, which has poor performance.  Consider joining all columns at once using pd.concat(axis=1) instead. To get a de-fragmented frame, use `newframe = frame.copy()`\n",
      "  self.stats[group_name, 'pvals'] = pvals[global_indices]\n",
      "/home/icb/dominik.klein/mambaforge/envs/ot_pert_genot/lib/python3.12/site-packages/scanpy/tools/_rank_genes_groups.py:411: PerformanceWarning: DataFrame is highly fragmented.  This is usually the result of calling `frame.insert` many times, which has poor performance.  Consider joining all columns at once using pd.concat(axis=1) instead. To get a de-fragmented frame, use `newframe = frame.copy()`\n",
      "  self.stats[group_name, 'pvals_adj'] = pvals_adj[global_indices]\n",
      "/home/icb/dominik.klein/mambaforge/envs/ot_pert_genot/lib/python3.12/site-packages/scanpy/tools/_rank_genes_groups.py:422: PerformanceWarning: DataFrame is highly fragmented.  This is usually the result of calling `frame.insert` many times, which has poor performance.  Consider joining all columns at once using pd.concat(axis=1) instead. To get a de-fragmented frame, use `newframe = frame.copy()`\n",
      "  self.stats[group_name, 'logfoldchanges'] = np.log2(\n",
      "/home/icb/dominik.klein/mambaforge/envs/ot_pert_genot/lib/python3.12/site-packages/scanpy/tools/_rank_genes_groups.py:396: PerformanceWarning: DataFrame is highly fragmented.  This is usually the result of calling `frame.insert` many times, which has poor performance.  Consider joining all columns at once using pd.concat(axis=1) instead. To get a de-fragmented frame, use `newframe = frame.copy()`\n",
      "  self.stats[group_name, 'names'] = self.var_names[global_indices]\n",
      "/home/icb/dominik.klein/mambaforge/envs/ot_pert_genot/lib/python3.12/site-packages/scanpy/tools/_rank_genes_groups.py:398: PerformanceWarning: DataFrame is highly fragmented.  This is usually the result of calling `frame.insert` many times, which has poor performance.  Consider joining all columns at once using pd.concat(axis=1) instead. To get a de-fragmented frame, use `newframe = frame.copy()`\n",
      "  self.stats[group_name, 'scores'] = scores[global_indices]\n",
      "/home/icb/dominik.klein/mambaforge/envs/ot_pert_genot/lib/python3.12/site-packages/scanpy/tools/_rank_genes_groups.py:401: PerformanceWarning: DataFrame is highly fragmented.  This is usually the result of calling `frame.insert` many times, which has poor performance.  Consider joining all columns at once using pd.concat(axis=1) instead. To get a de-fragmented frame, use `newframe = frame.copy()`\n",
      "  self.stats[group_name, 'pvals'] = pvals[global_indices]\n",
      "/home/icb/dominik.klein/mambaforge/envs/ot_pert_genot/lib/python3.12/site-packages/scanpy/tools/_rank_genes_groups.py:411: PerformanceWarning: DataFrame is highly fragmented.  This is usually the result of calling `frame.insert` many times, which has poor performance.  Consider joining all columns at once using pd.concat(axis=1) instead. To get a de-fragmented frame, use `newframe = frame.copy()`\n",
      "  self.stats[group_name, 'pvals_adj'] = pvals_adj[global_indices]\n",
      "/home/icb/dominik.klein/mambaforge/envs/ot_pert_genot/lib/python3.12/site-packages/scanpy/tools/_rank_genes_groups.py:422: PerformanceWarning: DataFrame is highly fragmented.  This is usually the result of calling `frame.insert` many times, which has poor performance.  Consider joining all columns at once using pd.concat(axis=1) instead. To get a de-fragmented frame, use `newframe = frame.copy()`\n",
      "  self.stats[group_name, 'logfoldchanges'] = np.log2(\n",
      "/home/icb/dominik.klein/mambaforge/envs/ot_pert_genot/lib/python3.12/site-packages/scanpy/tools/_rank_genes_groups.py:396: PerformanceWarning: DataFrame is highly fragmented.  This is usually the result of calling `frame.insert` many times, which has poor performance.  Consider joining all columns at once using pd.concat(axis=1) instead. To get a de-fragmented frame, use `newframe = frame.copy()`\n",
      "  self.stats[group_name, 'names'] = self.var_names[global_indices]\n",
      "/home/icb/dominik.klein/mambaforge/envs/ot_pert_genot/lib/python3.12/site-packages/scanpy/tools/_rank_genes_groups.py:398: PerformanceWarning: DataFrame is highly fragmented.  This is usually the result of calling `frame.insert` many times, which has poor performance.  Consider joining all columns at once using pd.concat(axis=1) instead. To get a de-fragmented frame, use `newframe = frame.copy()`\n",
      "  self.stats[group_name, 'scores'] = scores[global_indices]\n",
      "/home/icb/dominik.klein/mambaforge/envs/ot_pert_genot/lib/python3.12/site-packages/scanpy/tools/_rank_genes_groups.py:401: PerformanceWarning: DataFrame is highly fragmented.  This is usually the result of calling `frame.insert` many times, which has poor performance.  Consider joining all columns at once using pd.concat(axis=1) instead. To get a de-fragmented frame, use `newframe = frame.copy()`\n",
      "  self.stats[group_name, 'pvals'] = pvals[global_indices]\n",
      "/home/icb/dominik.klein/mambaforge/envs/ot_pert_genot/lib/python3.12/site-packages/scanpy/tools/_rank_genes_groups.py:411: PerformanceWarning: DataFrame is highly fragmented.  This is usually the result of calling `frame.insert` many times, which has poor performance.  Consider joining all columns at once using pd.concat(axis=1) instead. To get a de-fragmented frame, use `newframe = frame.copy()`\n",
      "  self.stats[group_name, 'pvals_adj'] = pvals_adj[global_indices]\n",
      "/home/icb/dominik.klein/mambaforge/envs/ot_pert_genot/lib/python3.12/site-packages/scanpy/tools/_rank_genes_groups.py:422: PerformanceWarning: DataFrame is highly fragmented.  This is usually the result of calling `frame.insert` many times, which has poor performance.  Consider joining all columns at once using pd.concat(axis=1) instead. To get a de-fragmented frame, use `newframe = frame.copy()`\n",
      "  self.stats[group_name, 'logfoldchanges'] = np.log2(\n"
     ]
    }
   ],
   "source": [
    "adata = get_DE_genes(adata)"
   ]
  },
  {
   "cell_type": "code",
   "execution_count": 16,
   "id": "227ab6ed-c174-4d66-9c8c-ee97050c9bbb",
   "metadata": {},
   "outputs": [],
   "source": [
    "assert \"rank_genes_groups_cov_all\" in adata.uns.keys()"
   ]
  },
  {
   "cell_type": "code",
   "execution_count": 17,
   "id": "68b5f895-0775-425a-b464-dfb2b360a2fb",
   "metadata": {},
   "outputs": [],
   "source": [
    "# taken from pubchem\n",
    "drug_to_smiles = {\n",
    "    \"Panobinostat\": \"CC1=C(C2=CC=CC=C2N1)CCNCC3=CC=C(C=C3)/C=C/C(=O)NO\",\n",
    "    \"PCI-34051\": \"COC1=CC=C(C=C1)CN2C=CC3=C2C=C(C=C3)C(=O)NO\",\n",
    "    \"SRT1720\": \"C1CN(CCN1)CC2=CSC3=NC(=CN23)C4=CC=CC=C4NC(=O)C5=NC6=CC=CC=C6N=C5\",\n",
    "    \"SRT3025\": \"COCCCC1=C(N=C(S1)C2=CC=CC=C2)C(=O)NC3=CC=CC=C3C4=NC5=C(S4)N=CC(=C5)CN6CCCC6\",\n",
    "    \"Dacinostat\": \"C1=CC=C2C(=C1)C(=CN2)CCN(CCO)CC3=CC=C(C=C3)/C=C/C(=O)NO\",\n",
    "    \"Sorafenib\": \"CNC(=O)C1=NC=CC(=C1)OC2=CC=C(C=C2)NC(=O)NC3=CC(=C(C=C3)Cl)C(F)(F)F\",\n",
    "    \"Cediranib\": \"CC1=CC2=C(N1)C=CC(=C2F)OC3=NC=NC4=CC(=C(C=C43)OC)OCCCN5CCCC5\",\n",
    "    \"Givinostat\": \"CCN(CC)CC1=CC2=C(C=C1)C=C(C=C2)COC(=O)NC3=CC=C(C=C3)C(=O)NO\",\n",
    "    \"Danusertib\": \"CN1CCN(CC1)C2=CC=C(C=C2)C(=O)NC3=NNC4=C3CN(C4)C(=O)[C@@H](C5=CC=CC=C5)OC\",\n",
    "    \"Dasatinib\": \"CC1=C(C(=CC=C1)Cl)NC(=O)C2=CN=C(S2)NC3=CC(=NC(=N3)C)N4CCN(CC4)CCO\",\n",
    "    \"Tanespimycin\": r\"C[C@H]1C[C@@H]([C@@H]([C@H](/C=C(/[C@@H]([C@H](/C=C\\C=C(\\C(=O)NC2=CC(=O)C(=C(C1)C2=O)NCC=C)/C)OC)OC(=O)N)\\C)C)O)OC\",\n",
    "    \"Carmofur\": \"CCCCCCNC(=O)N1C=C(C(=O)NC1=O)F\",\n",
    "    \"SRT2104\": \"CC1=C(SC(=N1)C2=CN=CC=C2)C(=O)NC3=CC=CC=C3C4=CN5C(=CSC5=N4)CN6CCOCC6\",\n",
    "    \"Crizotinib\": \"C[C@H](C1=C(C=CC(=C1Cl)F)Cl)OC2=C(N=CC(=C2)C3=CN(N=C3)C4CCNCC4)N\",\n",
    "    \"Pirarubicin\": \"C[C@H]1[C@H]([C@H](C[C@@H](O1)O[C@H]2C[C@@](CC3=C2C(=C4C(=C3O)C(=O)C5=C(C4=O)C(=CC=C5)OC)O)(C(=O)CO)O)N)O[C@@H]6CCCCO6\",\n",
    "    \"Alvespimycin\": r\"C[C@H]1C[C@@H]([C@@H]([C@H](/C=C(/[C@@H]([C@H](/C=C\\C=C(\\C(=O)NC2=CC(=O)C(=C(C1)C2=O)NCCN(C)C)/C)OC)OC(=O)N)\\C)C)O)OC\",\n",
    "    \"Curcumin\": \"COC1=C(C=CC(=C1)/C=C/C(=O)CC(=O)/C=C/C2=CC(=C(C=C2)O)OC)O\",\n",
    "    \"control\": None,\n",
    "}"
   ]
  },
  {
   "cell_type": "code",
   "execution_count": 18,
   "id": "6ed2ec39-645e-4bae-b37f-8a4c6d48aa68",
   "metadata": {},
   "outputs": [],
   "source": [
    "adata.obs[\"smiles_drug_1\"] = adata.obs[\"Drug1\"].map(drug_to_smiles)\n",
    "adata.obs[\"smiles_drug_2\"] = adata.obs[\"Drug2\"].map(drug_to_smiles)"
   ]
  },
  {
   "cell_type": "code",
   "execution_count": 19,
   "id": "1b583441-9223-4122-a829-4999f6c21ef9",
   "metadata": {},
   "outputs": [],
   "source": [
    "from rdkit.Chem import AllChem\n",
    "\n",
    "\n",
    "def get_fp(smiles, radius=4, nBits=1024):\n",
    "    m = Chem.MolFromSmiles(smiles, sanitize=False)\n",
    "    if m is None:\n",
    "        return \"invalid\"\n",
    "    else:\n",
    "        try:\n",
    "            Chem.SanitizeMol(m)\n",
    "        except:\n",
    "            return \"invalid\"\n",
    "    return AllChem.GetHashedMorganFingerprint(m, radius=radius, nBits=nBits)"
   ]
  },
  {
   "cell_type": "code",
   "execution_count": 20,
   "id": "c5fe5f76-92c6-4f8e-b6ea-b43c66e7a8af",
   "metadata": {},
   "outputs": [],
   "source": [
    "drug_to_fp = {}\n",
    "for drug, sm in drug_to_smiles.items():\n",
    "    if not isinstance(sm, str):\n",
    "        continue\n",
    "    drug_to_fp[drug] = np.array(list(get_fp(sm)))"
   ]
  },
  {
   "cell_type": "code",
   "execution_count": 21,
   "id": "57a88eaf-d87f-42dd-99de-2612001f8af5",
   "metadata": {},
   "outputs": [
    {
     "data": {
      "text/plain": [
       "(17, 18)"
      ]
     },
     "execution_count": 21,
     "metadata": {},
     "output_type": "execute_result"
    }
   ],
   "source": [
    "len(drug_to_fp), len(drug_to_smiles)"
   ]
  },
  {
   "cell_type": "code",
   "execution_count": 22,
   "id": "b9ad5093-327f-4b1f-8163-f2f43a5279d2",
   "metadata": {},
   "outputs": [],
   "source": [
    "features_df = pd.DataFrame.from_dict(drug_to_fp).T"
   ]
  },
  {
   "cell_type": "code",
   "execution_count": 23,
   "id": "76bf3595-cb4d-481e-ae23-b00d0dad1602",
   "metadata": {},
   "outputs": [
    {
     "data": {
      "text/html": [
       "<div>\n",
       "<style scoped>\n",
       "    .dataframe tbody tr th:only-of-type {\n",
       "        vertical-align: middle;\n",
       "    }\n",
       "\n",
       "    .dataframe tbody tr th {\n",
       "        vertical-align: top;\n",
       "    }\n",
       "\n",
       "    .dataframe thead th {\n",
       "        text-align: right;\n",
       "    }\n",
       "</style>\n",
       "<table border=\"1\" class=\"dataframe\">\n",
       "  <thead>\n",
       "    <tr style=\"text-align: right;\">\n",
       "      <th></th>\n",
       "      <th>0</th>\n",
       "      <th>1</th>\n",
       "      <th>2</th>\n",
       "      <th>3</th>\n",
       "      <th>4</th>\n",
       "      <th>5</th>\n",
       "      <th>6</th>\n",
       "      <th>7</th>\n",
       "      <th>8</th>\n",
       "      <th>9</th>\n",
       "      <th>...</th>\n",
       "      <th>1014</th>\n",
       "      <th>1015</th>\n",
       "      <th>1016</th>\n",
       "      <th>1017</th>\n",
       "      <th>1018</th>\n",
       "      <th>1019</th>\n",
       "      <th>1020</th>\n",
       "      <th>1021</th>\n",
       "      <th>1022</th>\n",
       "      <th>1023</th>\n",
       "    </tr>\n",
       "  </thead>\n",
       "  <tbody>\n",
       "    <tr>\n",
       "      <th>Panobinostat</th>\n",
       "      <td>0</td>\n",
       "      <td>0</td>\n",
       "      <td>0</td>\n",
       "      <td>0</td>\n",
       "      <td>0</td>\n",
       "      <td>0</td>\n",
       "      <td>0</td>\n",
       "      <td>1</td>\n",
       "      <td>0</td>\n",
       "      <td>0</td>\n",
       "      <td>...</td>\n",
       "      <td>0</td>\n",
       "      <td>0</td>\n",
       "      <td>0</td>\n",
       "      <td>0</td>\n",
       "      <td>0</td>\n",
       "      <td>0</td>\n",
       "      <td>0</td>\n",
       "      <td>0</td>\n",
       "      <td>0</td>\n",
       "      <td>0</td>\n",
       "    </tr>\n",
       "    <tr>\n",
       "      <th>PCI-34051</th>\n",
       "      <td>0</td>\n",
       "      <td>0</td>\n",
       "      <td>0</td>\n",
       "      <td>0</td>\n",
       "      <td>0</td>\n",
       "      <td>0</td>\n",
       "      <td>0</td>\n",
       "      <td>0</td>\n",
       "      <td>0</td>\n",
       "      <td>0</td>\n",
       "      <td>...</td>\n",
       "      <td>1</td>\n",
       "      <td>0</td>\n",
       "      <td>0</td>\n",
       "      <td>0</td>\n",
       "      <td>0</td>\n",
       "      <td>0</td>\n",
       "      <td>0</td>\n",
       "      <td>0</td>\n",
       "      <td>0</td>\n",
       "      <td>0</td>\n",
       "    </tr>\n",
       "    <tr>\n",
       "      <th>SRT1720</th>\n",
       "      <td>0</td>\n",
       "      <td>0</td>\n",
       "      <td>0</td>\n",
       "      <td>0</td>\n",
       "      <td>0</td>\n",
       "      <td>0</td>\n",
       "      <td>0</td>\n",
       "      <td>0</td>\n",
       "      <td>0</td>\n",
       "      <td>0</td>\n",
       "      <td>...</td>\n",
       "      <td>0</td>\n",
       "      <td>0</td>\n",
       "      <td>1</td>\n",
       "      <td>0</td>\n",
       "      <td>1</td>\n",
       "      <td>0</td>\n",
       "      <td>0</td>\n",
       "      <td>0</td>\n",
       "      <td>0</td>\n",
       "      <td>0</td>\n",
       "    </tr>\n",
       "    <tr>\n",
       "      <th>SRT3025</th>\n",
       "      <td>0</td>\n",
       "      <td>0</td>\n",
       "      <td>1</td>\n",
       "      <td>0</td>\n",
       "      <td>2</td>\n",
       "      <td>0</td>\n",
       "      <td>0</td>\n",
       "      <td>0</td>\n",
       "      <td>1</td>\n",
       "      <td>0</td>\n",
       "      <td>...</td>\n",
       "      <td>0</td>\n",
       "      <td>0</td>\n",
       "      <td>0</td>\n",
       "      <td>0</td>\n",
       "      <td>0</td>\n",
       "      <td>0</td>\n",
       "      <td>0</td>\n",
       "      <td>0</td>\n",
       "      <td>0</td>\n",
       "      <td>0</td>\n",
       "    </tr>\n",
       "    <tr>\n",
       "      <th>Dacinostat</th>\n",
       "      <td>0</td>\n",
       "      <td>0</td>\n",
       "      <td>0</td>\n",
       "      <td>0</td>\n",
       "      <td>0</td>\n",
       "      <td>0</td>\n",
       "      <td>0</td>\n",
       "      <td>1</td>\n",
       "      <td>0</td>\n",
       "      <td>0</td>\n",
       "      <td>...</td>\n",
       "      <td>0</td>\n",
       "      <td>0</td>\n",
       "      <td>0</td>\n",
       "      <td>0</td>\n",
       "      <td>0</td>\n",
       "      <td>0</td>\n",
       "      <td>0</td>\n",
       "      <td>0</td>\n",
       "      <td>0</td>\n",
       "      <td>0</td>\n",
       "    </tr>\n",
       "    <tr>\n",
       "      <th>Sorafenib</th>\n",
       "      <td>0</td>\n",
       "      <td>0</td>\n",
       "      <td>0</td>\n",
       "      <td>0</td>\n",
       "      <td>0</td>\n",
       "      <td>0</td>\n",
       "      <td>0</td>\n",
       "      <td>0</td>\n",
       "      <td>0</td>\n",
       "      <td>1</td>\n",
       "      <td>...</td>\n",
       "      <td>1</td>\n",
       "      <td>0</td>\n",
       "      <td>0</td>\n",
       "      <td>0</td>\n",
       "      <td>0</td>\n",
       "      <td>1</td>\n",
       "      <td>0</td>\n",
       "      <td>0</td>\n",
       "      <td>0</td>\n",
       "      <td>0</td>\n",
       "    </tr>\n",
       "    <tr>\n",
       "      <th>Cediranib</th>\n",
       "      <td>0</td>\n",
       "      <td>0</td>\n",
       "      <td>0</td>\n",
       "      <td>0</td>\n",
       "      <td>2</td>\n",
       "      <td>0</td>\n",
       "      <td>0</td>\n",
       "      <td>0</td>\n",
       "      <td>0</td>\n",
       "      <td>0</td>\n",
       "      <td>...</td>\n",
       "      <td>0</td>\n",
       "      <td>0</td>\n",
       "      <td>0</td>\n",
       "      <td>1</td>\n",
       "      <td>1</td>\n",
       "      <td>0</td>\n",
       "      <td>0</td>\n",
       "      <td>0</td>\n",
       "      <td>0</td>\n",
       "      <td>1</td>\n",
       "    </tr>\n",
       "    <tr>\n",
       "      <th>Givinostat</th>\n",
       "      <td>0</td>\n",
       "      <td>0</td>\n",
       "      <td>0</td>\n",
       "      <td>0</td>\n",
       "      <td>0</td>\n",
       "      <td>0</td>\n",
       "      <td>0</td>\n",
       "      <td>0</td>\n",
       "      <td>0</td>\n",
       "      <td>0</td>\n",
       "      <td>...</td>\n",
       "      <td>0</td>\n",
       "      <td>0</td>\n",
       "      <td>0</td>\n",
       "      <td>0</td>\n",
       "      <td>0</td>\n",
       "      <td>0</td>\n",
       "      <td>0</td>\n",
       "      <td>0</td>\n",
       "      <td>0</td>\n",
       "      <td>0</td>\n",
       "    </tr>\n",
       "    <tr>\n",
       "      <th>Danusertib</th>\n",
       "      <td>0</td>\n",
       "      <td>1</td>\n",
       "      <td>0</td>\n",
       "      <td>0</td>\n",
       "      <td>0</td>\n",
       "      <td>0</td>\n",
       "      <td>1</td>\n",
       "      <td>0</td>\n",
       "      <td>0</td>\n",
       "      <td>0</td>\n",
       "      <td>...</td>\n",
       "      <td>0</td>\n",
       "      <td>0</td>\n",
       "      <td>0</td>\n",
       "      <td>0</td>\n",
       "      <td>0</td>\n",
       "      <td>0</td>\n",
       "      <td>0</td>\n",
       "      <td>0</td>\n",
       "      <td>0</td>\n",
       "      <td>0</td>\n",
       "    </tr>\n",
       "    <tr>\n",
       "      <th>Dasatinib</th>\n",
       "      <td>0</td>\n",
       "      <td>0</td>\n",
       "      <td>0</td>\n",
       "      <td>0</td>\n",
       "      <td>1</td>\n",
       "      <td>0</td>\n",
       "      <td>0</td>\n",
       "      <td>0</td>\n",
       "      <td>0</td>\n",
       "      <td>0</td>\n",
       "      <td>...</td>\n",
       "      <td>0</td>\n",
       "      <td>0</td>\n",
       "      <td>0</td>\n",
       "      <td>0</td>\n",
       "      <td>0</td>\n",
       "      <td>0</td>\n",
       "      <td>0</td>\n",
       "      <td>0</td>\n",
       "      <td>0</td>\n",
       "      <td>0</td>\n",
       "    </tr>\n",
       "    <tr>\n",
       "      <th>Tanespimycin</th>\n",
       "      <td>0</td>\n",
       "      <td>0</td>\n",
       "      <td>0</td>\n",
       "      <td>0</td>\n",
       "      <td>0</td>\n",
       "      <td>0</td>\n",
       "      <td>0</td>\n",
       "      <td>1</td>\n",
       "      <td>0</td>\n",
       "      <td>0</td>\n",
       "      <td>...</td>\n",
       "      <td>0</td>\n",
       "      <td>2</td>\n",
       "      <td>0</td>\n",
       "      <td>0</td>\n",
       "      <td>0</td>\n",
       "      <td>6</td>\n",
       "      <td>0</td>\n",
       "      <td>0</td>\n",
       "      <td>0</td>\n",
       "      <td>0</td>\n",
       "    </tr>\n",
       "    <tr>\n",
       "      <th>Carmofur</th>\n",
       "      <td>0</td>\n",
       "      <td>0</td>\n",
       "      <td>0</td>\n",
       "      <td>0</td>\n",
       "      <td>0</td>\n",
       "      <td>0</td>\n",
       "      <td>0</td>\n",
       "      <td>0</td>\n",
       "      <td>0</td>\n",
       "      <td>0</td>\n",
       "      <td>...</td>\n",
       "      <td>0</td>\n",
       "      <td>0</td>\n",
       "      <td>0</td>\n",
       "      <td>1</td>\n",
       "      <td>0</td>\n",
       "      <td>0</td>\n",
       "      <td>0</td>\n",
       "      <td>0</td>\n",
       "      <td>0</td>\n",
       "      <td>0</td>\n",
       "    </tr>\n",
       "    <tr>\n",
       "      <th>SRT2104</th>\n",
       "      <td>0</td>\n",
       "      <td>0</td>\n",
       "      <td>0</td>\n",
       "      <td>0</td>\n",
       "      <td>0</td>\n",
       "      <td>0</td>\n",
       "      <td>0</td>\n",
       "      <td>0</td>\n",
       "      <td>0</td>\n",
       "      <td>0</td>\n",
       "      <td>...</td>\n",
       "      <td>0</td>\n",
       "      <td>0</td>\n",
       "      <td>0</td>\n",
       "      <td>0</td>\n",
       "      <td>0</td>\n",
       "      <td>0</td>\n",
       "      <td>0</td>\n",
       "      <td>0</td>\n",
       "      <td>0</td>\n",
       "      <td>0</td>\n",
       "    </tr>\n",
       "    <tr>\n",
       "      <th>Crizotinib</th>\n",
       "      <td>0</td>\n",
       "      <td>1</td>\n",
       "      <td>0</td>\n",
       "      <td>0</td>\n",
       "      <td>0</td>\n",
       "      <td>0</td>\n",
       "      <td>0</td>\n",
       "      <td>0</td>\n",
       "      <td>0</td>\n",
       "      <td>0</td>\n",
       "      <td>...</td>\n",
       "      <td>0</td>\n",
       "      <td>0</td>\n",
       "      <td>0</td>\n",
       "      <td>0</td>\n",
       "      <td>0</td>\n",
       "      <td>1</td>\n",
       "      <td>0</td>\n",
       "      <td>0</td>\n",
       "      <td>0</td>\n",
       "      <td>0</td>\n",
       "    </tr>\n",
       "    <tr>\n",
       "      <th>Pirarubicin</th>\n",
       "      <td>0</td>\n",
       "      <td>0</td>\n",
       "      <td>0</td>\n",
       "      <td>0</td>\n",
       "      <td>2</td>\n",
       "      <td>0</td>\n",
       "      <td>0</td>\n",
       "      <td>0</td>\n",
       "      <td>0</td>\n",
       "      <td>0</td>\n",
       "      <td>...</td>\n",
       "      <td>0</td>\n",
       "      <td>0</td>\n",
       "      <td>0</td>\n",
       "      <td>1</td>\n",
       "      <td>0</td>\n",
       "      <td>6</td>\n",
       "      <td>0</td>\n",
       "      <td>0</td>\n",
       "      <td>0</td>\n",
       "      <td>0</td>\n",
       "    </tr>\n",
       "    <tr>\n",
       "      <th>Alvespimycin</th>\n",
       "      <td>0</td>\n",
       "      <td>0</td>\n",
       "      <td>0</td>\n",
       "      <td>0</td>\n",
       "      <td>0</td>\n",
       "      <td>0</td>\n",
       "      <td>0</td>\n",
       "      <td>1</td>\n",
       "      <td>0</td>\n",
       "      <td>0</td>\n",
       "      <td>...</td>\n",
       "      <td>0</td>\n",
       "      <td>2</td>\n",
       "      <td>0</td>\n",
       "      <td>0</td>\n",
       "      <td>0</td>\n",
       "      <td>6</td>\n",
       "      <td>0</td>\n",
       "      <td>0</td>\n",
       "      <td>0</td>\n",
       "      <td>0</td>\n",
       "    </tr>\n",
       "    <tr>\n",
       "      <th>Curcumin</th>\n",
       "      <td>0</td>\n",
       "      <td>0</td>\n",
       "      <td>0</td>\n",
       "      <td>0</td>\n",
       "      <td>0</td>\n",
       "      <td>0</td>\n",
       "      <td>0</td>\n",
       "      <td>0</td>\n",
       "      <td>0</td>\n",
       "      <td>0</td>\n",
       "      <td>...</td>\n",
       "      <td>0</td>\n",
       "      <td>0</td>\n",
       "      <td>0</td>\n",
       "      <td>2</td>\n",
       "      <td>0</td>\n",
       "      <td>0</td>\n",
       "      <td>0</td>\n",
       "      <td>0</td>\n",
       "      <td>0</td>\n",
       "      <td>0</td>\n",
       "    </tr>\n",
       "  </tbody>\n",
       "</table>\n",
       "<p>17 rows × 1024 columns</p>\n",
       "</div>"
      ],
      "text/plain": [
       "              0     1     2     3     4     5     6     7     8     9     ...  \\\n",
       "Panobinostat     0     0     0     0     0     0     0     1     0     0  ...   \n",
       "PCI-34051        0     0     0     0     0     0     0     0     0     0  ...   \n",
       "SRT1720          0     0     0     0     0     0     0     0     0     0  ...   \n",
       "SRT3025          0     0     1     0     2     0     0     0     1     0  ...   \n",
       "Dacinostat       0     0     0     0     0     0     0     1     0     0  ...   \n",
       "Sorafenib        0     0     0     0     0     0     0     0     0     1  ...   \n",
       "Cediranib        0     0     0     0     2     0     0     0     0     0  ...   \n",
       "Givinostat       0     0     0     0     0     0     0     0     0     0  ...   \n",
       "Danusertib       0     1     0     0     0     0     1     0     0     0  ...   \n",
       "Dasatinib        0     0     0     0     1     0     0     0     0     0  ...   \n",
       "Tanespimycin     0     0     0     0     0     0     0     1     0     0  ...   \n",
       "Carmofur         0     0     0     0     0     0     0     0     0     0  ...   \n",
       "SRT2104          0     0     0     0     0     0     0     0     0     0  ...   \n",
       "Crizotinib       0     1     0     0     0     0     0     0     0     0  ...   \n",
       "Pirarubicin      0     0     0     0     2     0     0     0     0     0  ...   \n",
       "Alvespimycin     0     0     0     0     0     0     0     1     0     0  ...   \n",
       "Curcumin         0     0     0     0     0     0     0     0     0     0  ...   \n",
       "\n",
       "              1014  1015  1016  1017  1018  1019  1020  1021  1022  1023  \n",
       "Panobinostat     0     0     0     0     0     0     0     0     0     0  \n",
       "PCI-34051        1     0     0     0     0     0     0     0     0     0  \n",
       "SRT1720          0     0     1     0     1     0     0     0     0     0  \n",
       "SRT3025          0     0     0     0     0     0     0     0     0     0  \n",
       "Dacinostat       0     0     0     0     0     0     0     0     0     0  \n",
       "Sorafenib        1     0     0     0     0     1     0     0     0     0  \n",
       "Cediranib        0     0     0     1     1     0     0     0     0     1  \n",
       "Givinostat       0     0     0     0     0     0     0     0     0     0  \n",
       "Danusertib       0     0     0     0     0     0     0     0     0     0  \n",
       "Dasatinib        0     0     0     0     0     0     0     0     0     0  \n",
       "Tanespimycin     0     2     0     0     0     6     0     0     0     0  \n",
       "Carmofur         0     0     0     1     0     0     0     0     0     0  \n",
       "SRT2104          0     0     0     0     0     0     0     0     0     0  \n",
       "Crizotinib       0     0     0     0     0     1     0     0     0     0  \n",
       "Pirarubicin      0     0     0     1     0     6     0     0     0     0  \n",
       "Alvespimycin     0     2     0     0     0     6     0     0     0     0  \n",
       "Curcumin         0     0     0     2     0     0     0     0     0     0  \n",
       "\n",
       "[17 rows x 1024 columns]"
      ]
     },
     "execution_count": 23,
     "metadata": {},
     "output_type": "execute_result"
    }
   ],
   "source": [
    "features_df"
   ]
  },
  {
   "cell_type": "code",
   "execution_count": 24,
   "id": "5aaf11af-ae31-4b15-aac6-1d49991ddd92",
   "metadata": {},
   "outputs": [
    {
     "name": "stdout",
     "output_type": "stream",
     "text": [
      "Panobinostat\n",
      "PCI-34051\n",
      "SRT1720\n",
      "SRT3025\n",
      "Dacinostat\n",
      "Sorafenib\n",
      "Cediranib\n",
      "Givinostat\n",
      "Danusertib\n",
      "Dasatinib\n",
      "Tanespimycin\n",
      "Carmofur\n",
      "SRT2104\n",
      "Crizotinib\n",
      "Pirarubicin\n",
      "Alvespimycin\n",
      "Curcumin\n"
     ]
    }
   ],
   "source": [
    "features_cells_drug_1 = np.zeros((adata.shape[0], features_df.shape[1]))\n",
    "features_cells_drug_2 = np.zeros((adata.shape[0], features_df.shape[1]))\n",
    "for mol, ecfp in features_df.iterrows():\n",
    "    print(mol)\n",
    "    features_cells_drug_1[adata.obs[\"Drug1\"].isin([mol])] = ecfp.values\n",
    "    features_cells_drug_2[adata.obs[\"Drug2\"].isin([mol])] = ecfp.values"
   ]
  },
  {
   "cell_type": "code",
   "execution_count": 25,
   "id": "0d04da7c-d53d-4c19-aa26-8bc479568872",
   "metadata": {},
   "outputs": [],
   "source": [
    "adata.obsm[\"ecfp_drug_1\"] = features_cells_drug_1\n",
    "adata.obsm[\"ecfp_drug_2\"] = features_cells_drug_2"
   ]
  },
  {
   "cell_type": "code",
   "execution_count": 26,
   "id": "f9701e29-9c28-4fef-a4d1-04a5e78d02d2",
   "metadata": {},
   "outputs": [
    {
     "data": {
      "text/plain": [
       "split_1ct_MEC\n",
       "train    49683\n",
       "ood       8209\n",
       "valid     5486\n",
       "Name: count, dtype: int64"
      ]
     },
     "execution_count": 26,
     "metadata": {},
     "output_type": "execute_result"
    }
   ],
   "source": [
    "adata.obs['split_1ct_MEC'].value_counts()"
   ]
  },
  {
   "cell_type": "code",
   "execution_count": 27,
   "id": "3436d39d-5b2a-4147-a762-eb95dedea08c",
   "metadata": {},
   "outputs": [
    {
     "data": {
      "text/plain": [
       "condition\n",
       "Dacinostat_PCI-34051        323\n",
       "SRT3025_Cediranib           293\n",
       "Givinostat_Curcumin         289\n",
       "Givinostat_Crizotinib       279\n",
       "Givinostat_Carmofur         267\n",
       "control_SRT2104             265\n",
       "Givinostat_Dasatinib        263\n",
       "Givinostat_Sorafenib        255\n",
       "Panobinostat_Curcumin       228\n",
       "Givinostat_SRT2104          226\n",
       "Givinostat_SRT1720          223\n",
       "Cediranib_PCI-34051         211\n",
       "control_Dasatinib           210\n",
       "Panobinostat_Sorafenib      203\n",
       "Panobinostat_SRT1720        195\n",
       "Panobinostat_Dasatinib      193\n",
       "Panobinostat_SRT3025        192\n",
       "control_Dacinostat          190\n",
       "Panobinostat_PCI-34051      185\n",
       "Panobinostat_Crizotinib     169\n",
       "control_Panobinostat        165\n",
       "control_Givinostat          155\n",
       "control                     142\n",
       "Givinostat_Tanespimycin     135\n",
       "Dacinostat_Dasatinib        107\n",
       "control_Alvespimycin         68\n",
       "Alvespimycin_Pirarubicin     55\n",
       "Name: count, dtype: int64"
      ]
     },
     "execution_count": 27,
     "metadata": {},
     "output_type": "execute_result"
    }
   ],
   "source": [
    "adata[adata.obs['split_1ct_MEC']==\"valid\"].obs[\"condition\"].value_counts()"
   ]
  },
  {
   "cell_type": "code",
   "execution_count": 28,
   "id": "042db92f-3b87-4b25-971c-c4065758b5f5",
   "metadata": {},
   "outputs": [
    {
     "name": "stderr",
     "output_type": "stream",
     "text": [
      "/tmp/ipykernel_579898/3308937776.py:6: FutureWarning: Use anndata.concat instead of AnnData.concatenate, AnnData.concatenate is deprecated and will be removed in the future. See the tutorial for concat at: https://anndata.readthedocs.io/en/latest/concatenation.html\n",
      "  adata_ood_final = adata_ood.concatenate(adata_test_final[adata_test_final.obs[\"condition\"]==\"control\"])\n"
     ]
    }
   ],
   "source": [
    "import anndata\n",
    "\n",
    "adata_train_final = adata[adata.obs['split_1ct_MEC']==\"train\"]\n",
    "adata_test_final = adata[adata.obs['split_1ct_MEC']==\"valid\"]\n",
    "adata_ood = adata[adata.obs['split_1ct_MEC']==\"ood\"]\n",
    "adata_ood_final = adata_ood.concatenate(adata_test_final[adata_test_final.obs[\"condition\"]==\"control\"])"
   ]
  },
  {
   "cell_type": "code",
   "execution_count": 29,
   "id": "f0649268-fd6d-4c5f-9f73-6c616e80fc4a",
   "metadata": {},
   "outputs": [
    {
     "data": {
      "text/plain": [
       "(49683, 5486, 8351)"
      ]
     },
     "execution_count": 29,
     "metadata": {},
     "output_type": "execute_result"
    }
   ],
   "source": [
    "adata_train_final.n_obs, adata_test_final.n_obs, adata_ood_final.n_obs "
   ]
  },
  {
   "cell_type": "code",
   "execution_count": 30,
   "id": "a99e17b8-95fc-4d34-b542-009dc21ad5fe",
   "metadata": {},
   "outputs": [
    {
     "name": "stderr",
     "output_type": "stream",
     "text": [
      "/tmp/ipykernel_579898/2775379558.py:1: ImplicitModificationWarning: Setting element `.varm['X_train_mean']` of view, initializing view as actual.\n",
      "  adata_train_final.varm[\"X_train_mean\"] = adata_train_final.X.mean(axis=0).T\n"
     ]
    }
   ],
   "source": [
    "adata_train_final.varm[\"X_train_mean\"] = adata_train_final.X.mean(axis=0).T"
   ]
  },
  {
   "cell_type": "code",
   "execution_count": 31,
   "id": "5bb1e717-e83d-4389-b512-68f51b65ee1e",
   "metadata": {},
   "outputs": [],
   "source": [
    "from scipy.sparse import csr_matrix\n",
    "\n",
    "adata_train_final.layers[\"X_log1p\"] = adata_train_final.X.copy()\n",
    "train_mean = adata_train_final.varm[\"X_train_mean\"].T\n",
    "adata_train_final.layers[\"centered_X\"] = csr_matrix(adata_train_final.X.A - train_mean)\n",
    "adata_train_final.X = adata_train_final.layers[\"centered_X\"]"
   ]
  },
  {
   "cell_type": "code",
   "execution_count": 32,
   "id": "23b3ac3d-3996-4b9b-aa5d-89b68936a62d",
   "metadata": {},
   "outputs": [],
   "source": [
    "sc.pp.pca(adata_train_final, zero_center=False, n_comps=30)\n",
    "adata_train_final.X = adata_train_final.layers[\"X_log1p\"]"
   ]
  },
  {
   "cell_type": "code",
   "execution_count": 33,
   "id": "09a4244c-0449-42bb-baff-edd9bfa98766",
   "metadata": {},
   "outputs": [
    {
     "data": {
      "text/plain": [
       "(49683, 30)"
      ]
     },
     "execution_count": 33,
     "metadata": {},
     "output_type": "execute_result"
    }
   ],
   "source": [
    "adata_train_final.obsm[\"X_pca\"].shape"
   ]
  },
  {
   "cell_type": "code",
   "execution_count": 34,
   "id": "159b1dfc-049b-41c6-a140-dc3b09953664",
   "metadata": {},
   "outputs": [
    {
     "name": "stderr",
     "output_type": "stream",
     "text": [
      "/tmp/ipykernel_579898/3355210628.py:2: ImplicitModificationWarning: Setting element `.varm['X_train_mean']` of view, initializing view as actual.\n",
      "  adata_test_final.varm[\"X_train_mean\"] = adata_train_final.varm[\"X_train_mean\"]\n"
     ]
    }
   ],
   "source": [
    "adata_ood_final.varm[\"X_train_mean\"] = adata_train_final.varm[\"X_train_mean\"]\n",
    "adata_test_final.varm[\"X_train_mean\"] = adata_train_final.varm[\"X_train_mean\"]"
   ]
  },
  {
   "cell_type": "code",
   "execution_count": 35,
   "id": "56772032-cd54-47ae-805b-fce26c43f2a8",
   "metadata": {},
   "outputs": [],
   "source": [
    "adata_test_final.layers[\"centered_X\"] = csr_matrix(adata_test_final.X.A - train_mean)\n",
    "adata_ood_final.layers[\"centered_X\"] = csr_matrix(adata_ood_final.X.A - train_mean)"
   ]
  },
  {
   "cell_type": "code",
   "execution_count": 36,
   "id": "8534bb85-228c-4302-a348-1e6eccdc9c4b",
   "metadata": {},
   "outputs": [],
   "source": [
    "adata_test_final.obsm[\"X_pca\"] = np.matmul(adata_test_final.layers[\"centered_X\"].A, adata_train_final.varm[\"PCs\"])\n",
    "adata_ood_final.obsm[\"X_pca\"] = np.matmul(adata_ood_final.layers[\"centered_X\"].A, adata_train_final.varm[\"PCs\"])"
   ]
  },
  {
   "cell_type": "code",
   "execution_count": 37,
   "id": "864f5651-ed24-463c-88dd-9cca63bb0266",
   "metadata": {},
   "outputs": [
    {
     "data": {
      "text/plain": [
       "dict_keys(['cell_type_colors', 'hvg', 'neighbors', 'pathway1_colors', 'pca', 'rank_genes_groups_cov', 'rank_genes_groups_cov_detailed', 'source_colors', 'umap', 'log1p', 'rank_genes_groups_cov_all'])"
      ]
     },
     "execution_count": 37,
     "metadata": {},
     "output_type": "execute_result"
    }
   ],
   "source": [
    "adata_train_final.uns.keys()"
   ]
  },
  {
   "cell_type": "code",
   "execution_count": 38,
   "id": "70d54f0f-bee1-4cfa-83e3-1014869e7139",
   "metadata": {},
   "outputs": [],
   "source": [
    "adata_train_final.varm[\"X_train_mean\"] = np.asarray(adata_train_final.varm[\"X_train_mean\"])\n",
    "adata_test_final.varm[\"X_train_mean\"] = np.asarray(adata_test_final.varm[\"X_train_mean\"])\n",
    "adata_ood_final.varm[\"X_train_mean\"] = np.asarray(adata_ood_final.varm[\"X_train_mean\"])"
   ]
  },
  {
   "cell_type": "code",
   "execution_count": 39,
   "id": "ee4a8b1c-6796-4acb-8e48-0f154c892f52",
   "metadata": {},
   "outputs": [],
   "source": [
    "adata_ood_final.uns = adata_train_final.uns.copy()"
   ]
  },
  {
   "cell_type": "code",
   "execution_count": 40,
   "id": "4ce099a5-d268-4fdb-b1a6-d4f581687f7c",
   "metadata": {},
   "outputs": [],
   "source": [
    "import os\n",
    "\n",
    "adata_train_final.write(os.path.join(output_dir, \"adata_train_orig.h5ad\"))\n",
    "adata_ood_final.write(os.path.join(output_dir, \"adata_ood_orig.h5ad\"))\n",
    "adata_test_final.write(os.path.join(output_dir, \"adata_test_orig.h5ad\"))"
   ]
  },
  {
   "cell_type": "markdown",
   "id": "dac56b23-cb77-45d6-a5e8-af74a862211b",
   "metadata": {},
   "source": [
    "Check that reconstruction is meaningful"
   ]
  },
  {
   "cell_type": "code",
   "execution_count": 41,
   "id": "16ff37ae-7e63-4d0d-96e8-2c99a6bb825a",
   "metadata": {},
   "outputs": [],
   "source": [
    "from sklearn.metrics import r2_score\n",
    "\n",
    "\n",
    "def compute_r_squared(x: np.ndarray, y: np.ndarray) -> float:\n",
    "    return r2_score(np.mean(x, axis=0), np.mean(y, axis=0))"
   ]
  },
  {
   "cell_type": "code",
   "execution_count": 42,
   "id": "975311bb-6973-488a-9b08-8b52a8fd4956",
   "metadata": {},
   "outputs": [],
   "source": [
    "decoded_test = np.matmul(adata_test_final.obsm[\"X_pca\"], adata_train_final.varm[\"PCs\"].T)"
   ]
  },
  {
   "cell_type": "code",
   "execution_count": 43,
   "id": "21c0f768-7fce-453a-8fa0-c45b129f9612",
   "metadata": {},
   "outputs": [
    {
     "data": {
      "text/plain": [
       "0.9993031270750916"
      ]
     },
     "execution_count": 43,
     "metadata": {},
     "output_type": "execute_result"
    }
   ],
   "source": [
    "compute_r_squared(np.asarray(decoded_test + adata_test_final.varm[\"X_train_mean\"].T), adata_test_final.X.A)"
   ]
  },
  {
   "cell_type": "code",
   "execution_count": 44,
   "id": "20650954-7041-4b84-adc1-e81b2b098313",
   "metadata": {},
   "outputs": [],
   "source": [
    "decoded_ood = np.matmul(adata_ood_final.obsm[\"X_pca\"], adata_train_final.varm[\"PCs\"].T)"
   ]
  },
  {
   "cell_type": "code",
   "execution_count": 45,
   "id": "65fbf4c7-15a0-42e6-9bb7-0d498dfd5886",
   "metadata": {},
   "outputs": [
    {
     "data": {
      "text/plain": [
       "0.9901804525345049"
      ]
     },
     "execution_count": 45,
     "metadata": {},
     "output_type": "execute_result"
    }
   ],
   "source": [
    "compute_r_squared(np.asarray(decoded_ood + adata_ood_final.varm[\"X_train_mean\"].T), adata_ood_final.X.A)"
   ]
  },
  {
   "cell_type": "code",
   "execution_count": 46,
   "id": "84b82044-27d5-43f1-8733-b62b8c5296ea",
   "metadata": {},
   "outputs": [
    {
     "data": {
      "text/plain": [
       "dict_keys(['cell_type_colors', 'hvg', 'neighbors', 'pathway1_colors', 'pca', 'rank_genes_groups_cov', 'rank_genes_groups_cov_detailed', 'source_colors', 'umap', 'log1p', 'rank_genes_groups_cov_all'])"
      ]
     },
     "execution_count": 46,
     "metadata": {},
     "output_type": "execute_result"
    }
   ],
   "source": [
    "adata_train_final.uns.keys()"
   ]
  },
  {
   "cell_type": "code",
   "execution_count": 47,
   "id": "db440a3d-f655-4338-b87b-e3ddcc60ded8",
   "metadata": {},
   "outputs": [
    {
     "data": {
      "text/plain": [
       "dict_keys(['cell_type_colors', 'hvg', 'neighbors', 'pathway1_colors', 'pca', 'rank_genes_groups_cov', 'rank_genes_groups_cov_detailed', 'source_colors', 'umap', 'log1p', 'rank_genes_groups_cov_all'])"
      ]
     },
     "execution_count": 47,
     "metadata": {},
     "output_type": "execute_result"
    }
   ],
   "source": [
    "adata_test_final.uns.keys()"
   ]
  },
  {
   "cell_type": "code",
   "execution_count": 48,
   "id": "f1435e5a-52bc-430a-8fb5-4a658f4bd8bc",
   "metadata": {},
   "outputs": [
    {
     "data": {
      "text/plain": [
       "(49683, 30)"
      ]
     },
     "execution_count": 48,
     "metadata": {},
     "output_type": "execute_result"
    }
   ],
   "source": [
    "adata_train_final.obsm[\"X_pca\"].shape"
   ]
  },
  {
   "cell_type": "code",
   "execution_count": 49,
   "id": "2a88f015-07bf-44ea-ba0b-93fb2067edb2",
   "metadata": {},
   "outputs": [
    {
     "data": {
      "text/plain": [
       "(5486, 30)"
      ]
     },
     "execution_count": 49,
     "metadata": {},
     "output_type": "execute_result"
    }
   ],
   "source": [
    "adata_test_final.obsm[\"X_pca\"].shape"
   ]
  },
  {
   "cell_type": "code",
   "execution_count": 50,
   "id": "be92a15a-c2b4-4ecb-bbc7-de6ff0623e8f",
   "metadata": {},
   "outputs": [
    {
     "data": {
      "text/plain": [
       "(8351, 30)"
      ]
     },
     "execution_count": 50,
     "metadata": {},
     "output_type": "execute_result"
    }
   ],
   "source": [
    "adata_ood_final.obsm[\"X_pca\"].shape"
   ]
  },
  {
   "cell_type": "code",
   "execution_count": null,
   "id": "4809361a-7bbf-49de-afa3-9b2f50be458c",
   "metadata": {},
   "outputs": [],
   "source": []
  }
 ],
 "metadata": {
  "kernelspec": {
   "display_name": "ot_pert_genot",
   "language": "python",
   "name": "ot_pert_genot"
  },
  "language_info": {
   "codemirror_mode": {
    "name": "ipython",
    "version": 3
   },
   "file_extension": ".py",
   "mimetype": "text/x-python",
   "name": "python",
   "nbconvert_exporter": "python",
   "pygments_lexer": "ipython3",
   "version": "3.12.2"
  }
 },
 "nbformat": 4,
 "nbformat_minor": 5
}
