{
 "cells": [
  {
   "cell_type": "code",
   "execution_count": 1,
   "id": "b48abe8b-ca65-40ec-a2b5-3bc39c84fc86",
   "metadata": {},
   "outputs": [
    {
     "name": "stderr",
     "output_type": "stream",
     "text": [
      "/home/icb/dominik.klein/mambaforge/envs/ot_pert_genot/lib/python3.12/site-packages/tqdm/auto.py:21: TqdmWarning: IProgress not found. Please update jupyter and ipywidgets. See https://ipywidgets.readthedocs.io/en/stable/user_install.html\n",
      "  from .autonotebook import tqdm as notebook_tqdm\n"
     ]
    }
   ],
   "source": [
    "import scanpy as sc\n",
    "from muon import atac as ac\n",
    "import numpy as np\n",
    "from scipy.sparse import csr_matrix\n",
    "import functools"
   ]
  },
  {
   "cell_type": "code",
   "execution_count": 2,
   "id": "79072267-886e-405b-8aa7-6dc3d87d22e2",
   "metadata": {},
   "outputs": [],
   "source": [
    "adata_rna = sc.read_h5ad(\"/lustre/groups/ml01/workspace/ot_perturbation/data/multiome/GLI3_KO_multiome_18d_srt_rna.h5ad\")\n",
    "adata_atac = sc.read_h5ad(\"/lustre/groups/ml01/workspace/ot_perturbation/data/multiome/GLI3_KO_multiome_18d_srt_peaks.h5ad\")\n",
    "adata_activity = sc.read_h5ad(\"/lustre/groups/ml01/workspace/ot_perturbation/data/multiome/GLI3_KO_multiome_18d_srt_activity.h5ad\")"
   ]
  },
  {
   "cell_type": "code",
   "execution_count": 3,
   "id": "5f907dd3-683a-4b5a-91e6-17bb6435af34",
   "metadata": {},
   "outputs": [],
   "source": [
    "adata_rna.layers[\"raw_counts\"] = adata_rna.X.copy()"
   ]
  },
  {
   "cell_type": "code",
   "execution_count": 4,
   "id": "022e4996-6275-40e0-80e9-22a56541188e",
   "metadata": {},
   "outputs": [],
   "source": [
    "adata_atac.obs = adata_rna.obs\n",
    "adata_activity.obs = adata_rna.obs"
   ]
  },
  {
   "cell_type": "code",
   "execution_count": 5,
   "id": "95be257c-7b91-441f-8c97-8040693b4069",
   "metadata": {},
   "outputs": [],
   "source": [
    "adata_src = adata_rna[adata_rna.obs[\"orig.ident\"]==\"GLI3_WT_A4_day19\"]\n",
    "adata_tgt_all = adata_atac[adata_atac.obs[\"orig.ident\"].isin((\"GLI3_WT_A4_day19\", \"GLI3_KO_D3_day19\"))]"
   ]
  },
  {
   "cell_type": "code",
   "execution_count": 6,
   "id": "03445a02-9e18-4aeb-a526-591a87870c63",
   "metadata": {},
   "outputs": [
    {
     "name": "stderr",
     "output_type": "stream",
     "text": [
      "/home/icb/dominik.klein/mambaforge/envs/ot_pert_genot/lib/python3.12/site-packages/scanpy/preprocessing/_normalization.py:169: UserWarning: Received a view of an AnnData. Making a copy.\n",
      "  view_to_actual(adata)\n",
      "/home/icb/dominik.klein/mambaforge/envs/ot_pert_genot/lib/python3.12/site-packages/muon/_atac/preproc.py:84: UserWarning: Received a view of an AnnData. Making a copy.\n",
      "  view_to_actual(adata)\n"
     ]
    }
   ],
   "source": [
    "sc.pp.normalize_total(adata_src)\n",
    "sc.pp.log1p(adata_src)\n",
    "\n",
    "ac.pp.tfidf(adata_tgt_all)\n",
    "\n"
   ]
  },
  {
   "cell_type": "code",
   "execution_count": 7,
   "id": "6eb9673a-9ef4-4107-b1b9-c9aa7f579294",
   "metadata": {},
   "outputs": [
    {
     "data": {
      "text/plain": [
       "0.0"
      ]
     },
     "execution_count": 7,
     "metadata": {},
     "output_type": "execute_result"
    }
   ],
   "source": [
    "adata_tgt_all.X.min()"
   ]
  },
  {
   "cell_type": "code",
   "execution_count": 9,
   "id": "20d64a3c-deba-4493-bfeb-b1a17504f354",
   "metadata": {},
   "outputs": [
    {
     "name": "stderr",
     "output_type": "stream",
     "text": [
      "/home/icb/dominik.klein/mambaforge/envs/ot_pert_genot/lib/python3.12/site-packages/scanpy/preprocessing/_highly_variable_genes.py:226: FutureWarning: The default of observed=False is deprecated and will be changed to True in a future version of pandas. Pass observed=False to retain current behavior or observed=True to adopt the future default and silence this warning.\n",
      "  disp_grouped = df.groupby(\"mean_bin\")[\"dispersions\"]\n",
      "/home/icb/dominik.klein/mambaforge/envs/ot_pert_genot/lib/python3.12/site-packages/scanpy/preprocessing/_highly_variable_genes.py:226: FutureWarning: The default of observed=False is deprecated and will be changed to True in a future version of pandas. Pass observed=False to retain current behavior or observed=True to adopt the future default and silence this warning.\n",
      "  disp_grouped = df.groupby(\"mean_bin\")[\"dispersions\"]\n",
      "/home/icb/dominik.klein/mambaforge/envs/ot_pert_genot/lib/python3.12/site-packages/scanpy/preprocessing/_highly_variable_genes.py:226: FutureWarning: The default of observed=False is deprecated and will be changed to True in a future version of pandas. Pass observed=False to retain current behavior or observed=True to adopt the future default and silence this warning.\n",
      "  disp_grouped = df.groupby(\"mean_bin\")[\"dispersions\"]\n"
     ]
    }
   ],
   "source": [
    "sc.pp.highly_variable_genes(adata_src, n_top_genes=2000, subset=True)\n",
    "sc.pp.highly_variable_genes(adata_tgt_all, n_top_genes=100000, subset=True)\n",
    "sc.pp.highly_variable_genes(adata_tgt_all, n_top_genes=50, subset=False)"
   ]
  },
  {
   "cell_type": "code",
   "execution_count": 11,
   "id": "da85b3ec-c1c9-4b8c-ad20-7d5b733c3602",
   "metadata": {},
   "outputs": [
    {
     "data": {
      "text/plain": [
       "50"
      ]
     },
     "execution_count": 11,
     "metadata": {},
     "output_type": "execute_result"
    }
   ],
   "source": [
    "adata_tgt_all.var[\"highly_variable\"].sum()"
   ]
  },
  {
   "cell_type": "code",
   "execution_count": 12,
   "id": "fcf0b13a-82d6-4959-97c1-d3ceba60a0c4",
   "metadata": {},
   "outputs": [],
   "source": [
    "adata_tgt = adata_tgt_all[adata_tgt_all.obs[\"orig.ident\"]==\"GLI3_KO_D3_day19\"]\n",
    "adata_src_atac = adata_tgt_all[adata_tgt_all.obs[\"orig.ident\"]==\"GLI3_WT_A4_day19\"]"
   ]
  },
  {
   "cell_type": "code",
   "execution_count": 13,
   "id": "7cf9e9d8-b38e-44a0-99e3-b6ad3cfe6c57",
   "metadata": {},
   "outputs": [],
   "source": [
    "rng = np.random.default_rng(1)\n",
    "n_cells_source = adata_src.n_obs\n",
    "\n",
    "n_samples_train_source = int(n_cells_source * 0.6)\n",
    "n_samples_test_source = n_cells_source - n_cells_source\n",
    "\n",
    "inds_train_source = np.asarray(rng.choice(n_cells_source, (n_samples_train_source,), replace=False))\n",
    "inds_test_source = list(set(list(range(n_cells_source))) - set(np.asarray(inds_train_source)))"
   ]
  },
  {
   "cell_type": "code",
   "execution_count": 14,
   "id": "297b7497-03e1-4034-b07f-ced71046102e",
   "metadata": {},
   "outputs": [],
   "source": [
    "rng = np.random.default_rng(0)\n",
    "n_cells_target = adata_tgt.n_obs\n",
    "\n",
    "n_samples_train_target = int(n_cells_target * 0.6)\n",
    "n_samples_test_target = n_cells_target - n_cells_target\n",
    "\n",
    "inds_train_target = np.asarray(rng.choice(n_cells_target, (n_samples_train_target,), replace=False))\n",
    "inds_test_target = list(set(list(range(n_cells_target))) - set(np.asarray(inds_train_target)))"
   ]
  },
  {
   "cell_type": "code",
   "execution_count": 15,
   "id": "2508b004-fe6d-480f-bdca-1684025a84de",
   "metadata": {},
   "outputs": [],
   "source": [
    "adata_src_train = adata_src[inds_train_source]\n",
    "adata_tgt_train = adata_tgt[inds_train_target]\n",
    "\n",
    "adata_src_test = adata_src[inds_test_source]\n",
    "adata_tgt_test = adata_tgt[inds_test_target]\n",
    "\n",
    "adata_src_atac_train = adata_src_atac[inds_train_source]\n",
    "adata_src_atac_test = adata_src_atac[inds_test_source]"
   ]
  },
  {
   "cell_type": "code",
   "execution_count": 16,
   "id": "c76c3f7f-a773-4c87-891e-7986b135d3e5",
   "metadata": {},
   "outputs": [],
   "source": [
    "adata_activity_red = adata_activity[adata_activity.obs[\"orig.ident\"]==\"GLI3_KO_D3_day19\"]\n",
    "\n",
    "adata_activity_train = adata_activity_red[inds_train_target]\n",
    "adata_activity_test = adata_activity_red[inds_test_target]"
   ]
  },
  {
   "cell_type": "code",
   "execution_count": 17,
   "id": "ad0ad1e6-4b7e-48cd-92be-5d73c02e86d4",
   "metadata": {},
   "outputs": [],
   "source": [
    "assert (adata_activity_train.obs_names == adata_tgt_train.obs_names).all()\n",
    "assert (adata_activity_test.obs_names == adata_tgt_test.obs_names).all()"
   ]
  },
  {
   "cell_type": "code",
   "execution_count": 18,
   "id": "0298f9d9-d765-43e5-a6d2-6bde427056ea",
   "metadata": {},
   "outputs": [],
   "source": [
    "adata_src_train.write(\"/lustre/groups/ml01/workspace/ot_perturbation/data/multiome/GLI3_KO_multiome_18d_adata_src_train_processed.h5ad\")\n",
    "adata_src_test.write(\"/lustre/groups/ml01/workspace/ot_perturbation/data/multiome/GLI3_KO_multiome_18d_adata_src_test_processed.h5ad\")\n",
    "adata_tgt_train.write(\"/lustre/groups/ml01/workspace/ot_perturbation/data/multiome/GLI3_KO_multiome_18d_adata_tgt_train_processed.h5ad\")\n",
    "adata_tgt_test.write(\"/lustre/groups/ml01/workspace/ot_perturbation/data/multiome/GLI3_KO_multiome_18d_adata_tgt_test_processed.h5ad\")\n",
    "adata_activity_train.write(\"/lustre/groups/ml01/workspace/ot_perturbation/data/multiome/GLI3_KO_multiome_18d_adata_activity_train_processed.h5ad\")\n",
    "adata_activity_test.write(\"/lustre/groups/ml01/workspace/ot_perturbation/data/multiome/GLI3_KO_multiome_18d_adata_activity_test_processed.h5ad\")\n",
    "adata_src_atac_train.write(\"/lustre/groups/ml01/workspace/ot_perturbation/data/multiome/GLI3_KO_multiome_18d_adata_src_atac_train_processed.h5ad\")\n",
    "adata_src_atac_test.write(\"/lustre/groups/ml01/workspace/ot_perturbation/data/multiome/GLI3_KO_multiome_18d_adata_arc_atac_test_processed.h5ad\")"
   ]
  },
  {
   "cell_type": "code",
   "execution_count": null,
   "id": "241f2e76-02e3-4846-b97d-e575a4086f65",
   "metadata": {},
   "outputs": [],
   "source": []
  }
 ],
 "metadata": {
  "kernelspec": {
   "display_name": "ot_pert_genot",
   "language": "python",
   "name": "ot_pert_genot"
  },
  "language_info": {
   "codemirror_mode": {
    "name": "ipython",
    "version": 3
   },
   "file_extension": ".py",
   "mimetype": "text/x-python",
   "name": "python",
   "nbconvert_exporter": "python",
   "pygments_lexer": "ipython3",
   "version": "3.12.2"
  }
 },
 "nbformat": 4,
 "nbformat_minor": 5
}
