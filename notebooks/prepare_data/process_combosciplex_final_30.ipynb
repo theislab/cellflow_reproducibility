{
 "cells": [
  {
   "cell_type": "code",
   "execution_count": 1,
   "id": "1632ceb5-2c07-454d-be9b-c259c305a0f7",
   "metadata": {},
   "outputs": [
    {
     "name": "stderr",
     "output_type": "stream",
     "text": [
      "/home/icb/dominik.klein/mambaforge/envs/ot_pert_genot/lib/python3.12/site-packages/tqdm/auto.py:21: TqdmWarning: IProgress not found. Please update jupyter and ipywidgets. See https://ipywidgets.readthedocs.io/en/stable/user_install.html\n",
      "  from .autonotebook import tqdm as notebook_tqdm\n"
     ]
    },
    {
     "data": {
      "text/html": [
       "<pre style=\"white-space:pre;overflow-x:auto;line-height:normal;font-family:Menlo,'DejaVu Sans Mono',consolas,'Courier New',monospace\"><span style=\"color: #808000; text-decoration-color: #808000; font-weight: bold\">ryp2 is not installed. Install with </span><span style=\"color: #008000; text-decoration-color: #008000; font-weight: bold\">pip install rpy2 </span><span style=\"color: #808000; text-decoration-color: #808000; font-weight: bold\">to run tools with R support.</span>\n",
       "</pre>\n"
      ],
      "text/plain": [
       "\u001b[1;33mryp2 is not installed. Install with \u001b[0m\u001b[1;32mpip install rpy2 \u001b[0m\u001b[1;33mto run tools with R support.\u001b[0m\n"
      ]
     },
     "metadata": {},
     "output_type": "display_data"
    }
   ],
   "source": [
    "import numpy as np\n",
    "import pandas as pd\n",
    "import pertpy\n",
    "import scanpy as sc\n",
    "from rdkit import Chem"
   ]
  },
  {
   "cell_type": "code",
   "execution_count": 2,
   "id": "1debb0cc-6f1f-45c1-afd3-af069777bbd3",
   "metadata": {},
   "outputs": [
    {
     "name": "stdout",
     "output_type": "stream",
     "text": [
      "0.7.0\n"
     ]
    }
   ],
   "source": [
    "print(pertpy.__version__)"
   ]
  },
  {
   "cell_type": "code",
   "execution_count": 3,
   "id": "87679af1-bfb9-4def-aa24-647fdd997c31",
   "metadata": {},
   "outputs": [],
   "source": [
    "output_dir = \"/lustre/groups/ml01/workspace/ot_perturbation/data/combosciplex\""
   ]
  },
  {
   "cell_type": "code",
   "execution_count": 4,
   "id": "e98ec35b-2ece-46db-900d-41fc45e88693",
   "metadata": {},
   "outputs": [],
   "source": [
    "adata = pertpy.data.combosciplex()"
   ]
  },
  {
   "cell_type": "code",
   "execution_count": 5,
   "id": "81e6f3a8-150b-4da4-9a8a-92c57c9c7602",
   "metadata": {},
   "outputs": [
    {
     "data": {
      "text/plain": [
       "AnnData object with n_obs × n_vars = 63378 × 27518\n",
       "    obs: 'sample', 'Size_Factor', 'n.umi', 'RT_well', 'Drug1', 'Drug2', 'Well', 'n_genes', 'n_genes_by_counts', 'total_counts', 'total_counts_mt', 'pct_counts_mt', 'leiden', 'condition', 'pathway1', 'pathway2', 'split', 'control', 'cell_type'\n",
       "    var: 'id', 'n_cells', 'mt', 'n_cells_by_counts', 'mean_counts', 'pct_dropout_by_counts', 'total_counts', 'highly_variable', 'means', 'dispersions', 'dispersions_norm'\n",
       "    uns: 'Drug1_colors', 'Drug2_colors', 'Well_colors', 'condition_colors', 'dendrogram_leiden', 'hvg', 'leiden', 'leiden_colors', 'neighbors', 'pathway1_colors', 'pathway2_colors', 'pathway_colors', 'pca', 'rank_genes_groups', 'split_colors', 'umap'\n",
       "    obsm: 'X_pca', 'X_umap'\n",
       "    varm: 'PCs'\n",
       "    layers: 'counts'\n",
       "    obsp: 'connectivities', 'distances'"
      ]
     },
     "execution_count": 5,
     "metadata": {},
     "output_type": "execute_result"
    }
   ],
   "source": [
    "adata"
   ]
  },
  {
   "cell_type": "code",
   "execution_count": 6,
   "id": "c0bcf8bf-ee38-41cd-9759-08f0a9f6f42e",
   "metadata": {},
   "outputs": [
    {
     "data": {
      "text/plain": [
       "condition\n",
       "Dacinostat+PCI-34051         3298\n",
       "SRT3025+Cediranib            3016\n",
       "Givinostat+Cediranib         2783\n",
       "control+SRT2104              2756\n",
       "Givinostat+Curcumin          2736\n",
       "Givinostat+Sorafenib         2734\n",
       "Givinostat+Carmofur          2692\n",
       "Givinostat+Crizotinib        2662\n",
       "Givinostat+Dasatinib         2421\n",
       "Givinostat+SRT2104           2353\n",
       "control+Dasatinib            2343\n",
       "Givinostat+SRT1720           2260\n",
       "Panobinostat+Curcumin        2244\n",
       "Cediranib+PCI-34051          2161\n",
       "Panobinostat+Sorafenib       2013\n",
       "Panobinostat+SRT2104         1971\n",
       "Panobinostat+Dasatinib       1955\n",
       "Dacinostat+Danusertib        1939\n",
       "Panobinostat+SRT3025         1889\n",
       "control+Dacinostat           1869\n",
       "Panobinostat+SRT1720         1826\n",
       "Panobinostat+PCI-34051       1814\n",
       "control+Givinostat           1682\n",
       "Panobinostat+Crizotinib      1641\n",
       "control+Panobinostat         1578\n",
       "control+control              1451\n",
       "Givinostat+Tanespimycin      1310\n",
       "Dacinostat+Dasatinib         1231\n",
       "Panobinostat+Alvespimycin     996\n",
       "control+Alvespimycin          758\n",
       "SRT2104+Alvespimycin          520\n",
       "Alvespimycin+Pirarubicin      476\n",
       "Name: count, dtype: int64"
      ]
     },
     "execution_count": 6,
     "metadata": {},
     "output_type": "execute_result"
    }
   ],
   "source": [
    "adata.obs[\"condition\"].value_counts()"
   ]
  },
  {
   "cell_type": "code",
   "execution_count": 7,
   "id": "1fa6a04b-9b1d-445a-8383-64225743f852",
   "metadata": {},
   "outputs": [
    {
     "data": {
      "text/plain": [
       "Drug2\n",
       "Dasatinib       7950\n",
       "PCI-34051       7273\n",
       "SRT2104         7080\n",
       "Cediranib       5799\n",
       "Curcumin        4980\n",
       "Sorafenib       4747\n",
       "Crizotinib      4303\n",
       "SRT1720         4086\n",
       "Carmofur        2692\n",
       "Alvespimycin    2274\n",
       "Danusertib      1939\n",
       "SRT3025         1889\n",
       "Dacinostat      1869\n",
       "Givinostat      1682\n",
       "Panobinostat    1578\n",
       "control         1451\n",
       "Tanespimycin    1310\n",
       "Pirarubicin      476\n",
       "Name: count, dtype: int64"
      ]
     },
     "execution_count": 7,
     "metadata": {},
     "output_type": "execute_result"
    }
   ],
   "source": [
    "adata.obs[\"Drug2\"].value_counts()"
   ]
  },
  {
   "cell_type": "code",
   "execution_count": 8,
   "id": "42970243-59f8-45b0-bc21-4342b4a06754",
   "metadata": {},
   "outputs": [
    {
     "data": {
      "text/plain": [
       "Drug1\n",
       "Givinostat      21951\n",
       "Panobinostat    16349\n",
       "control         12437\n",
       "Dacinostat       6468\n",
       "SRT3025          3016\n",
       "Cediranib        2161\n",
       "SRT2104           520\n",
       "Alvespimycin      476\n",
       "Name: count, dtype: int64"
      ]
     },
     "execution_count": 8,
     "metadata": {},
     "output_type": "execute_result"
    }
   ],
   "source": [
    "adata.obs[\"Drug1\"].value_counts()"
   ]
  },
  {
   "cell_type": "code",
   "execution_count": 9,
   "id": "3f8aec92-a031-4815-8439-15d5f7fea2d3",
   "metadata": {},
   "outputs": [
    {
     "data": {
      "text/plain": [
       "183.0"
      ]
     },
     "execution_count": 9,
     "metadata": {},
     "output_type": "execute_result"
    }
   ],
   "source": [
    "adata.layers[\"counts\"][0].data.max()"
   ]
  },
  {
   "cell_type": "code",
   "execution_count": 10,
   "id": "27507da7-e2f0-4f49-beb7-352302fb3826",
   "metadata": {},
   "outputs": [],
   "source": [
    "adata.X = adata.layers[\"counts\"]"
   ]
  },
  {
   "cell_type": "code",
   "execution_count": 11,
   "id": "e9c1a067-8a30-47b4-83ec-833ad1f0abfa",
   "metadata": {},
   "outputs": [],
   "source": [
    "sc.pp.normalize_total(adata)\n",
    "sc.pp.log1p(adata)"
   ]
  },
  {
   "cell_type": "code",
   "execution_count": 12,
   "id": "8e920cb2-ef2d-45ba-92bd-f7b34b97086e",
   "metadata": {},
   "outputs": [
    {
     "name": "stderr",
     "output_type": "stream",
     "text": [
      "/home/icb/dominik.klein/mambaforge/envs/ot_pert_genot/lib/python3.12/site-packages/scanpy/preprocessing/_highly_variable_genes.py:226: FutureWarning: The default of observed=False is deprecated and will be changed to True in a future version of pandas. Pass observed=False to retain current behavior or observed=True to adopt the future default and silence this warning.\n",
      "  disp_grouped = df.groupby(\"mean_bin\")[\"dispersions\"]\n"
     ]
    }
   ],
   "source": [
    "sc.pp.highly_variable_genes(adata, inplace=True, n_top_genes=2000)"
   ]
  },
  {
   "cell_type": "code",
   "execution_count": 13,
   "id": "68447018-dd3f-48c3-8759-1ca8014f2ff4",
   "metadata": {},
   "outputs": [],
   "source": [
    "adata = adata[:, adata.var[\"highly_variable\"] == True]"
   ]
  },
  {
   "cell_type": "code",
   "execution_count": 14,
   "id": "122e3309-0cdf-4f4d-85c5-fcbc6e504114",
   "metadata": {},
   "outputs": [
    {
     "name": "stderr",
     "output_type": "stream",
     "text": [
      "/tmp/ipykernel_3420958/3534986501.py:1: ImplicitModificationWarning: Trying to modify attribute `.obs` of view, initializing view as actual.\n",
      "  adata.obs[\"condition\"] = adata.obs.apply(lambda x: \"control\" if x[\"condition\"]==\"control+control\" else x[\"condition\"], axis=1)\n"
     ]
    }
   ],
   "source": [
    "adata.obs[\"condition\"] = adata.obs.apply(\n",
    "    lambda x: \"control\" if x[\"condition\"] == \"control+control\" else x[\"condition\"], axis=1\n",
    ")"
   ]
  },
  {
   "cell_type": "code",
   "execution_count": 15,
   "id": "6decab35-25c7-41a2-a2ee-a74d9e072775",
   "metadata": {},
   "outputs": [],
   "source": [
    "def rank_genes_groups_by_cov(\n",
    "    adata,\n",
    "    groupby,\n",
    "    control_group,\n",
    "    covariate,\n",
    "    n_genes=50,\n",
    "    rankby_abs=True,\n",
    "    key_added=\"rank_genes_groups_cov\",\n",
    "    return_dict=False,\n",
    "):\n",
    "    gene_dict = {}\n",
    "    cov_categories = adata.obs[covariate].unique()\n",
    "    for cov_cat in cov_categories:\n",
    "        # name of the control group in the groupby obs column\n",
    "        control_group_cov = control_group  # \"_\".join([cov_cat, control_group])\n",
    "        # subset adata to cells belonging to a covariate category\n",
    "        adata_cov = adata[adata.obs[covariate] == cov_cat]\n",
    "        # compute DEGs\n",
    "        sc.tl.rank_genes_groups(\n",
    "            adata_cov,\n",
    "            groupby=groupby,\n",
    "            reference=control_group_cov,\n",
    "            rankby_abs=rankby_abs,\n",
    "            n_genes=n_genes,\n",
    "            use_raw=False,\n",
    "        )\n",
    "        # add entries to dictionary of gene sets\n",
    "        de_genes = pd.DataFrame(adata_cov.uns[\"rank_genes_groups\"][\"names\"])\n",
    "        for group in de_genes:\n",
    "            gene_dict[group] = de_genes[group].tolist()\n",
    "    adata.uns[key_added] = gene_dict\n",
    "    if return_dict:\n",
    "        return gene_dict\n",
    "\n",
    "\n",
    "def get_DE_genes(adata):\n",
    "    adata.obs.loc[:, \"control\"] = adata.obs.condition.apply(lambda x: 1 if x == \"control\" else 0)\n",
    "    adata.obs = adata.obs.astype(\"category\")\n",
    "    rank_genes_groups_by_cov(\n",
    "        adata,\n",
    "        groupby=\"condition\",\n",
    "        covariate=\"cell_type\",\n",
    "        control_group=\"control\",\n",
    "        n_genes=50,\n",
    "        key_added=\"rank_genes_groups_cov_all\",\n",
    "    )\n",
    "    return adata"
   ]
  },
  {
   "cell_type": "code",
   "execution_count": 16,
   "id": "99efa959-202d-4c07-a201-ae141a3b6bc7",
   "metadata": {},
   "outputs": [
    {
     "name": "stdout",
     "output_type": "stream",
     "text": [
      "WARNING: Default of the method has been changed to 't-test' from 't-test_overestim_var'\n"
     ]
    },
    {
     "name": "stderr",
     "output_type": "stream",
     "text": [
      "/home/icb/dominik.klein/mambaforge/envs/ot_pert_genot/lib/python3.12/site-packages/scanpy/tools/_rank_genes_groups.py:582: ImplicitModificationWarning: Trying to modify attribute `._uns` of view, initializing view as actual.\n",
      "  adata.uns[key_added] = {}\n",
      "/home/icb/dominik.klein/mambaforge/envs/ot_pert_genot/lib/python3.12/site-packages/scanpy/tools/_rank_genes_groups.py:396: PerformanceWarning: DataFrame is highly fragmented.  This is usually the result of calling `frame.insert` many times, which has poor performance.  Consider joining all columns at once using pd.concat(axis=1) instead. To get a de-fragmented frame, use `newframe = frame.copy()`\n",
      "  self.stats[group_name, 'names'] = self.var_names[global_indices]\n",
      "/home/icb/dominik.klein/mambaforge/envs/ot_pert_genot/lib/python3.12/site-packages/scanpy/tools/_rank_genes_groups.py:398: PerformanceWarning: DataFrame is highly fragmented.  This is usually the result of calling `frame.insert` many times, which has poor performance.  Consider joining all columns at once using pd.concat(axis=1) instead. To get a de-fragmented frame, use `newframe = frame.copy()`\n",
      "  self.stats[group_name, 'scores'] = scores[global_indices]\n",
      "/home/icb/dominik.klein/mambaforge/envs/ot_pert_genot/lib/python3.12/site-packages/scanpy/tools/_rank_genes_groups.py:401: PerformanceWarning: DataFrame is highly fragmented.  This is usually the result of calling `frame.insert` many times, which has poor performance.  Consider joining all columns at once using pd.concat(axis=1) instead. To get a de-fragmented frame, use `newframe = frame.copy()`\n",
      "  self.stats[group_name, 'pvals'] = pvals[global_indices]\n",
      "/home/icb/dominik.klein/mambaforge/envs/ot_pert_genot/lib/python3.12/site-packages/scanpy/tools/_rank_genes_groups.py:411: PerformanceWarning: DataFrame is highly fragmented.  This is usually the result of calling `frame.insert` many times, which has poor performance.  Consider joining all columns at once using pd.concat(axis=1) instead. To get a de-fragmented frame, use `newframe = frame.copy()`\n",
      "  self.stats[group_name, 'pvals_adj'] = pvals_adj[global_indices]\n",
      "/home/icb/dominik.klein/mambaforge/envs/ot_pert_genot/lib/python3.12/site-packages/scanpy/tools/_rank_genes_groups.py:422: PerformanceWarning: DataFrame is highly fragmented.  This is usually the result of calling `frame.insert` many times, which has poor performance.  Consider joining all columns at once using pd.concat(axis=1) instead. To get a de-fragmented frame, use `newframe = frame.copy()`\n",
      "  self.stats[group_name, 'logfoldchanges'] = np.log2(\n",
      "/home/icb/dominik.klein/mambaforge/envs/ot_pert_genot/lib/python3.12/site-packages/scanpy/tools/_rank_genes_groups.py:396: PerformanceWarning: DataFrame is highly fragmented.  This is usually the result of calling `frame.insert` many times, which has poor performance.  Consider joining all columns at once using pd.concat(axis=1) instead. To get a de-fragmented frame, use `newframe = frame.copy()`\n",
      "  self.stats[group_name, 'names'] = self.var_names[global_indices]\n",
      "/home/icb/dominik.klein/mambaforge/envs/ot_pert_genot/lib/python3.12/site-packages/scanpy/tools/_rank_genes_groups.py:398: PerformanceWarning: DataFrame is highly fragmented.  This is usually the result of calling `frame.insert` many times, which has poor performance.  Consider joining all columns at once using pd.concat(axis=1) instead. To get a de-fragmented frame, use `newframe = frame.copy()`\n",
      "  self.stats[group_name, 'scores'] = scores[global_indices]\n",
      "/home/icb/dominik.klein/mambaforge/envs/ot_pert_genot/lib/python3.12/site-packages/scanpy/tools/_rank_genes_groups.py:401: PerformanceWarning: DataFrame is highly fragmented.  This is usually the result of calling `frame.insert` many times, which has poor performance.  Consider joining all columns at once using pd.concat(axis=1) instead. To get a de-fragmented frame, use `newframe = frame.copy()`\n",
      "  self.stats[group_name, 'pvals'] = pvals[global_indices]\n",
      "/home/icb/dominik.klein/mambaforge/envs/ot_pert_genot/lib/python3.12/site-packages/scanpy/tools/_rank_genes_groups.py:411: PerformanceWarning: DataFrame is highly fragmented.  This is usually the result of calling `frame.insert` many times, which has poor performance.  Consider joining all columns at once using pd.concat(axis=1) instead. To get a de-fragmented frame, use `newframe = frame.copy()`\n",
      "  self.stats[group_name, 'pvals_adj'] = pvals_adj[global_indices]\n",
      "/home/icb/dominik.klein/mambaforge/envs/ot_pert_genot/lib/python3.12/site-packages/scanpy/tools/_rank_genes_groups.py:422: PerformanceWarning: DataFrame is highly fragmented.  This is usually the result of calling `frame.insert` many times, which has poor performance.  Consider joining all columns at once using pd.concat(axis=1) instead. To get a de-fragmented frame, use `newframe = frame.copy()`\n",
      "  self.stats[group_name, 'logfoldchanges'] = np.log2(\n",
      "/home/icb/dominik.klein/mambaforge/envs/ot_pert_genot/lib/python3.12/site-packages/scanpy/tools/_rank_genes_groups.py:396: PerformanceWarning: DataFrame is highly fragmented.  This is usually the result of calling `frame.insert` many times, which has poor performance.  Consider joining all columns at once using pd.concat(axis=1) instead. To get a de-fragmented frame, use `newframe = frame.copy()`\n",
      "  self.stats[group_name, 'names'] = self.var_names[global_indices]\n",
      "/home/icb/dominik.klein/mambaforge/envs/ot_pert_genot/lib/python3.12/site-packages/scanpy/tools/_rank_genes_groups.py:398: PerformanceWarning: DataFrame is highly fragmented.  This is usually the result of calling `frame.insert` many times, which has poor performance.  Consider joining all columns at once using pd.concat(axis=1) instead. To get a de-fragmented frame, use `newframe = frame.copy()`\n",
      "  self.stats[group_name, 'scores'] = scores[global_indices]\n",
      "/home/icb/dominik.klein/mambaforge/envs/ot_pert_genot/lib/python3.12/site-packages/scanpy/tools/_rank_genes_groups.py:401: PerformanceWarning: DataFrame is highly fragmented.  This is usually the result of calling `frame.insert` many times, which has poor performance.  Consider joining all columns at once using pd.concat(axis=1) instead. To get a de-fragmented frame, use `newframe = frame.copy()`\n",
      "  self.stats[group_name, 'pvals'] = pvals[global_indices]\n",
      "/home/icb/dominik.klein/mambaforge/envs/ot_pert_genot/lib/python3.12/site-packages/scanpy/tools/_rank_genes_groups.py:411: PerformanceWarning: DataFrame is highly fragmented.  This is usually the result of calling `frame.insert` many times, which has poor performance.  Consider joining all columns at once using pd.concat(axis=1) instead. To get a de-fragmented frame, use `newframe = frame.copy()`\n",
      "  self.stats[group_name, 'pvals_adj'] = pvals_adj[global_indices]\n",
      "/home/icb/dominik.klein/mambaforge/envs/ot_pert_genot/lib/python3.12/site-packages/scanpy/tools/_rank_genes_groups.py:422: PerformanceWarning: DataFrame is highly fragmented.  This is usually the result of calling `frame.insert` many times, which has poor performance.  Consider joining all columns at once using pd.concat(axis=1) instead. To get a de-fragmented frame, use `newframe = frame.copy()`\n",
      "  self.stats[group_name, 'logfoldchanges'] = np.log2(\n",
      "/home/icb/dominik.klein/mambaforge/envs/ot_pert_genot/lib/python3.12/site-packages/scanpy/tools/_rank_genes_groups.py:396: PerformanceWarning: DataFrame is highly fragmented.  This is usually the result of calling `frame.insert` many times, which has poor performance.  Consider joining all columns at once using pd.concat(axis=1) instead. To get a de-fragmented frame, use `newframe = frame.copy()`\n",
      "  self.stats[group_name, 'names'] = self.var_names[global_indices]\n",
      "/home/icb/dominik.klein/mambaforge/envs/ot_pert_genot/lib/python3.12/site-packages/scanpy/tools/_rank_genes_groups.py:398: PerformanceWarning: DataFrame is highly fragmented.  This is usually the result of calling `frame.insert` many times, which has poor performance.  Consider joining all columns at once using pd.concat(axis=1) instead. To get a de-fragmented frame, use `newframe = frame.copy()`\n",
      "  self.stats[group_name, 'scores'] = scores[global_indices]\n",
      "/home/icb/dominik.klein/mambaforge/envs/ot_pert_genot/lib/python3.12/site-packages/scanpy/tools/_rank_genes_groups.py:401: PerformanceWarning: DataFrame is highly fragmented.  This is usually the result of calling `frame.insert` many times, which has poor performance.  Consider joining all columns at once using pd.concat(axis=1) instead. To get a de-fragmented frame, use `newframe = frame.copy()`\n",
      "  self.stats[group_name, 'pvals'] = pvals[global_indices]\n",
      "/home/icb/dominik.klein/mambaforge/envs/ot_pert_genot/lib/python3.12/site-packages/scanpy/tools/_rank_genes_groups.py:411: PerformanceWarning: DataFrame is highly fragmented.  This is usually the result of calling `frame.insert` many times, which has poor performance.  Consider joining all columns at once using pd.concat(axis=1) instead. To get a de-fragmented frame, use `newframe = frame.copy()`\n",
      "  self.stats[group_name, 'pvals_adj'] = pvals_adj[global_indices]\n",
      "/home/icb/dominik.klein/mambaforge/envs/ot_pert_genot/lib/python3.12/site-packages/scanpy/tools/_rank_genes_groups.py:422: PerformanceWarning: DataFrame is highly fragmented.  This is usually the result of calling `frame.insert` many times, which has poor performance.  Consider joining all columns at once using pd.concat(axis=1) instead. To get a de-fragmented frame, use `newframe = frame.copy()`\n",
      "  self.stats[group_name, 'logfoldchanges'] = np.log2(\n",
      "/home/icb/dominik.klein/mambaforge/envs/ot_pert_genot/lib/python3.12/site-packages/scanpy/tools/_rank_genes_groups.py:396: PerformanceWarning: DataFrame is highly fragmented.  This is usually the result of calling `frame.insert` many times, which has poor performance.  Consider joining all columns at once using pd.concat(axis=1) instead. To get a de-fragmented frame, use `newframe = frame.copy()`\n",
      "  self.stats[group_name, 'names'] = self.var_names[global_indices]\n",
      "/home/icb/dominik.klein/mambaforge/envs/ot_pert_genot/lib/python3.12/site-packages/scanpy/tools/_rank_genes_groups.py:398: PerformanceWarning: DataFrame is highly fragmented.  This is usually the result of calling `frame.insert` many times, which has poor performance.  Consider joining all columns at once using pd.concat(axis=1) instead. To get a de-fragmented frame, use `newframe = frame.copy()`\n",
      "  self.stats[group_name, 'scores'] = scores[global_indices]\n",
      "/home/icb/dominik.klein/mambaforge/envs/ot_pert_genot/lib/python3.12/site-packages/scanpy/tools/_rank_genes_groups.py:401: PerformanceWarning: DataFrame is highly fragmented.  This is usually the result of calling `frame.insert` many times, which has poor performance.  Consider joining all columns at once using pd.concat(axis=1) instead. To get a de-fragmented frame, use `newframe = frame.copy()`\n",
      "  self.stats[group_name, 'pvals'] = pvals[global_indices]\n",
      "/home/icb/dominik.klein/mambaforge/envs/ot_pert_genot/lib/python3.12/site-packages/scanpy/tools/_rank_genes_groups.py:411: PerformanceWarning: DataFrame is highly fragmented.  This is usually the result of calling `frame.insert` many times, which has poor performance.  Consider joining all columns at once using pd.concat(axis=1) instead. To get a de-fragmented frame, use `newframe = frame.copy()`\n",
      "  self.stats[group_name, 'pvals_adj'] = pvals_adj[global_indices]\n",
      "/home/icb/dominik.klein/mambaforge/envs/ot_pert_genot/lib/python3.12/site-packages/scanpy/tools/_rank_genes_groups.py:422: PerformanceWarning: DataFrame is highly fragmented.  This is usually the result of calling `frame.insert` many times, which has poor performance.  Consider joining all columns at once using pd.concat(axis=1) instead. To get a de-fragmented frame, use `newframe = frame.copy()`\n",
      "  self.stats[group_name, 'logfoldchanges'] = np.log2(\n",
      "/home/icb/dominik.klein/mambaforge/envs/ot_pert_genot/lib/python3.12/site-packages/scanpy/tools/_rank_genes_groups.py:396: PerformanceWarning: DataFrame is highly fragmented.  This is usually the result of calling `frame.insert` many times, which has poor performance.  Consider joining all columns at once using pd.concat(axis=1) instead. To get a de-fragmented frame, use `newframe = frame.copy()`\n",
      "  self.stats[group_name, 'names'] = self.var_names[global_indices]\n",
      "/home/icb/dominik.klein/mambaforge/envs/ot_pert_genot/lib/python3.12/site-packages/scanpy/tools/_rank_genes_groups.py:398: PerformanceWarning: DataFrame is highly fragmented.  This is usually the result of calling `frame.insert` many times, which has poor performance.  Consider joining all columns at once using pd.concat(axis=1) instead. To get a de-fragmented frame, use `newframe = frame.copy()`\n",
      "  self.stats[group_name, 'scores'] = scores[global_indices]\n",
      "/home/icb/dominik.klein/mambaforge/envs/ot_pert_genot/lib/python3.12/site-packages/scanpy/tools/_rank_genes_groups.py:401: PerformanceWarning: DataFrame is highly fragmented.  This is usually the result of calling `frame.insert` many times, which has poor performance.  Consider joining all columns at once using pd.concat(axis=1) instead. To get a de-fragmented frame, use `newframe = frame.copy()`\n",
      "  self.stats[group_name, 'pvals'] = pvals[global_indices]\n",
      "/home/icb/dominik.klein/mambaforge/envs/ot_pert_genot/lib/python3.12/site-packages/scanpy/tools/_rank_genes_groups.py:411: PerformanceWarning: DataFrame is highly fragmented.  This is usually the result of calling `frame.insert` many times, which has poor performance.  Consider joining all columns at once using pd.concat(axis=1) instead. To get a de-fragmented frame, use `newframe = frame.copy()`\n",
      "  self.stats[group_name, 'pvals_adj'] = pvals_adj[global_indices]\n",
      "/home/icb/dominik.klein/mambaforge/envs/ot_pert_genot/lib/python3.12/site-packages/scanpy/tools/_rank_genes_groups.py:422: PerformanceWarning: DataFrame is highly fragmented.  This is usually the result of calling `frame.insert` many times, which has poor performance.  Consider joining all columns at once using pd.concat(axis=1) instead. To get a de-fragmented frame, use `newframe = frame.copy()`\n",
      "  self.stats[group_name, 'logfoldchanges'] = np.log2(\n",
      "/home/icb/dominik.klein/mambaforge/envs/ot_pert_genot/lib/python3.12/site-packages/scanpy/tools/_rank_genes_groups.py:396: PerformanceWarning: DataFrame is highly fragmented.  This is usually the result of calling `frame.insert` many times, which has poor performance.  Consider joining all columns at once using pd.concat(axis=1) instead. To get a de-fragmented frame, use `newframe = frame.copy()`\n",
      "  self.stats[group_name, 'names'] = self.var_names[global_indices]\n",
      "/home/icb/dominik.klein/mambaforge/envs/ot_pert_genot/lib/python3.12/site-packages/scanpy/tools/_rank_genes_groups.py:398: PerformanceWarning: DataFrame is highly fragmented.  This is usually the result of calling `frame.insert` many times, which has poor performance.  Consider joining all columns at once using pd.concat(axis=1) instead. To get a de-fragmented frame, use `newframe = frame.copy()`\n",
      "  self.stats[group_name, 'scores'] = scores[global_indices]\n",
      "/home/icb/dominik.klein/mambaforge/envs/ot_pert_genot/lib/python3.12/site-packages/scanpy/tools/_rank_genes_groups.py:401: PerformanceWarning: DataFrame is highly fragmented.  This is usually the result of calling `frame.insert` many times, which has poor performance.  Consider joining all columns at once using pd.concat(axis=1) instead. To get a de-fragmented frame, use `newframe = frame.copy()`\n",
      "  self.stats[group_name, 'pvals'] = pvals[global_indices]\n",
      "/home/icb/dominik.klein/mambaforge/envs/ot_pert_genot/lib/python3.12/site-packages/scanpy/tools/_rank_genes_groups.py:411: PerformanceWarning: DataFrame is highly fragmented.  This is usually the result of calling `frame.insert` many times, which has poor performance.  Consider joining all columns at once using pd.concat(axis=1) instead. To get a de-fragmented frame, use `newframe = frame.copy()`\n",
      "  self.stats[group_name, 'pvals_adj'] = pvals_adj[global_indices]\n",
      "/home/icb/dominik.klein/mambaforge/envs/ot_pert_genot/lib/python3.12/site-packages/scanpy/tools/_rank_genes_groups.py:422: PerformanceWarning: DataFrame is highly fragmented.  This is usually the result of calling `frame.insert` many times, which has poor performance.  Consider joining all columns at once using pd.concat(axis=1) instead. To get a de-fragmented frame, use `newframe = frame.copy()`\n",
      "  self.stats[group_name, 'logfoldchanges'] = np.log2(\n",
      "/home/icb/dominik.klein/mambaforge/envs/ot_pert_genot/lib/python3.12/site-packages/scanpy/tools/_rank_genes_groups.py:396: PerformanceWarning: DataFrame is highly fragmented.  This is usually the result of calling `frame.insert` many times, which has poor performance.  Consider joining all columns at once using pd.concat(axis=1) instead. To get a de-fragmented frame, use `newframe = frame.copy()`\n",
      "  self.stats[group_name, 'names'] = self.var_names[global_indices]\n",
      "/home/icb/dominik.klein/mambaforge/envs/ot_pert_genot/lib/python3.12/site-packages/scanpy/tools/_rank_genes_groups.py:398: PerformanceWarning: DataFrame is highly fragmented.  This is usually the result of calling `frame.insert` many times, which has poor performance.  Consider joining all columns at once using pd.concat(axis=1) instead. To get a de-fragmented frame, use `newframe = frame.copy()`\n",
      "  self.stats[group_name, 'scores'] = scores[global_indices]\n",
      "/home/icb/dominik.klein/mambaforge/envs/ot_pert_genot/lib/python3.12/site-packages/scanpy/tools/_rank_genes_groups.py:401: PerformanceWarning: DataFrame is highly fragmented.  This is usually the result of calling `frame.insert` many times, which has poor performance.  Consider joining all columns at once using pd.concat(axis=1) instead. To get a de-fragmented frame, use `newframe = frame.copy()`\n",
      "  self.stats[group_name, 'pvals'] = pvals[global_indices]\n",
      "/home/icb/dominik.klein/mambaforge/envs/ot_pert_genot/lib/python3.12/site-packages/scanpy/tools/_rank_genes_groups.py:411: PerformanceWarning: DataFrame is highly fragmented.  This is usually the result of calling `frame.insert` many times, which has poor performance.  Consider joining all columns at once using pd.concat(axis=1) instead. To get a de-fragmented frame, use `newframe = frame.copy()`\n",
      "  self.stats[group_name, 'pvals_adj'] = pvals_adj[global_indices]\n",
      "/home/icb/dominik.klein/mambaforge/envs/ot_pert_genot/lib/python3.12/site-packages/scanpy/tools/_rank_genes_groups.py:422: PerformanceWarning: DataFrame is highly fragmented.  This is usually the result of calling `frame.insert` many times, which has poor performance.  Consider joining all columns at once using pd.concat(axis=1) instead. To get a de-fragmented frame, use `newframe = frame.copy()`\n",
      "  self.stats[group_name, 'logfoldchanges'] = np.log2(\n",
      "/home/icb/dominik.klein/mambaforge/envs/ot_pert_genot/lib/python3.12/site-packages/scanpy/tools/_rank_genes_groups.py:396: PerformanceWarning: DataFrame is highly fragmented.  This is usually the result of calling `frame.insert` many times, which has poor performance.  Consider joining all columns at once using pd.concat(axis=1) instead. To get a de-fragmented frame, use `newframe = frame.copy()`\n",
      "  self.stats[group_name, 'names'] = self.var_names[global_indices]\n",
      "/home/icb/dominik.klein/mambaforge/envs/ot_pert_genot/lib/python3.12/site-packages/scanpy/tools/_rank_genes_groups.py:398: PerformanceWarning: DataFrame is highly fragmented.  This is usually the result of calling `frame.insert` many times, which has poor performance.  Consider joining all columns at once using pd.concat(axis=1) instead. To get a de-fragmented frame, use `newframe = frame.copy()`\n",
      "  self.stats[group_name, 'scores'] = scores[global_indices]\n",
      "/home/icb/dominik.klein/mambaforge/envs/ot_pert_genot/lib/python3.12/site-packages/scanpy/tools/_rank_genes_groups.py:401: PerformanceWarning: DataFrame is highly fragmented.  This is usually the result of calling `frame.insert` many times, which has poor performance.  Consider joining all columns at once using pd.concat(axis=1) instead. To get a de-fragmented frame, use `newframe = frame.copy()`\n",
      "  self.stats[group_name, 'pvals'] = pvals[global_indices]\n",
      "/home/icb/dominik.klein/mambaforge/envs/ot_pert_genot/lib/python3.12/site-packages/scanpy/tools/_rank_genes_groups.py:411: PerformanceWarning: DataFrame is highly fragmented.  This is usually the result of calling `frame.insert` many times, which has poor performance.  Consider joining all columns at once using pd.concat(axis=1) instead. To get a de-fragmented frame, use `newframe = frame.copy()`\n",
      "  self.stats[group_name, 'pvals_adj'] = pvals_adj[global_indices]\n",
      "/home/icb/dominik.klein/mambaforge/envs/ot_pert_genot/lib/python3.12/site-packages/scanpy/tools/_rank_genes_groups.py:422: PerformanceWarning: DataFrame is highly fragmented.  This is usually the result of calling `frame.insert` many times, which has poor performance.  Consider joining all columns at once using pd.concat(axis=1) instead. To get a de-fragmented frame, use `newframe = frame.copy()`\n",
      "  self.stats[group_name, 'logfoldchanges'] = np.log2(\n",
      "/home/icb/dominik.klein/mambaforge/envs/ot_pert_genot/lib/python3.12/site-packages/scanpy/tools/_rank_genes_groups.py:396: PerformanceWarning: DataFrame is highly fragmented.  This is usually the result of calling `frame.insert` many times, which has poor performance.  Consider joining all columns at once using pd.concat(axis=1) instead. To get a de-fragmented frame, use `newframe = frame.copy()`\n",
      "  self.stats[group_name, 'names'] = self.var_names[global_indices]\n",
      "/home/icb/dominik.klein/mambaforge/envs/ot_pert_genot/lib/python3.12/site-packages/scanpy/tools/_rank_genes_groups.py:398: PerformanceWarning: DataFrame is highly fragmented.  This is usually the result of calling `frame.insert` many times, which has poor performance.  Consider joining all columns at once using pd.concat(axis=1) instead. To get a de-fragmented frame, use `newframe = frame.copy()`\n",
      "  self.stats[group_name, 'scores'] = scores[global_indices]\n",
      "/home/icb/dominik.klein/mambaforge/envs/ot_pert_genot/lib/python3.12/site-packages/scanpy/tools/_rank_genes_groups.py:401: PerformanceWarning: DataFrame is highly fragmented.  This is usually the result of calling `frame.insert` many times, which has poor performance.  Consider joining all columns at once using pd.concat(axis=1) instead. To get a de-fragmented frame, use `newframe = frame.copy()`\n",
      "  self.stats[group_name, 'pvals'] = pvals[global_indices]\n",
      "/home/icb/dominik.klein/mambaforge/envs/ot_pert_genot/lib/python3.12/site-packages/scanpy/tools/_rank_genes_groups.py:411: PerformanceWarning: DataFrame is highly fragmented.  This is usually the result of calling `frame.insert` many times, which has poor performance.  Consider joining all columns at once using pd.concat(axis=1) instead. To get a de-fragmented frame, use `newframe = frame.copy()`\n",
      "  self.stats[group_name, 'pvals_adj'] = pvals_adj[global_indices]\n",
      "/home/icb/dominik.klein/mambaforge/envs/ot_pert_genot/lib/python3.12/site-packages/scanpy/tools/_rank_genes_groups.py:422: PerformanceWarning: DataFrame is highly fragmented.  This is usually the result of calling `frame.insert` many times, which has poor performance.  Consider joining all columns at once using pd.concat(axis=1) instead. To get a de-fragmented frame, use `newframe = frame.copy()`\n",
      "  self.stats[group_name, 'logfoldchanges'] = np.log2(\n",
      "/home/icb/dominik.klein/mambaforge/envs/ot_pert_genot/lib/python3.12/site-packages/scanpy/tools/_rank_genes_groups.py:396: PerformanceWarning: DataFrame is highly fragmented.  This is usually the result of calling `frame.insert` many times, which has poor performance.  Consider joining all columns at once using pd.concat(axis=1) instead. To get a de-fragmented frame, use `newframe = frame.copy()`\n",
      "  self.stats[group_name, 'names'] = self.var_names[global_indices]\n",
      "/home/icb/dominik.klein/mambaforge/envs/ot_pert_genot/lib/python3.12/site-packages/scanpy/tools/_rank_genes_groups.py:398: PerformanceWarning: DataFrame is highly fragmented.  This is usually the result of calling `frame.insert` many times, which has poor performance.  Consider joining all columns at once using pd.concat(axis=1) instead. To get a de-fragmented frame, use `newframe = frame.copy()`\n",
      "  self.stats[group_name, 'scores'] = scores[global_indices]\n",
      "/home/icb/dominik.klein/mambaforge/envs/ot_pert_genot/lib/python3.12/site-packages/scanpy/tools/_rank_genes_groups.py:401: PerformanceWarning: DataFrame is highly fragmented.  This is usually the result of calling `frame.insert` many times, which has poor performance.  Consider joining all columns at once using pd.concat(axis=1) instead. To get a de-fragmented frame, use `newframe = frame.copy()`\n",
      "  self.stats[group_name, 'pvals'] = pvals[global_indices]\n",
      "/home/icb/dominik.klein/mambaforge/envs/ot_pert_genot/lib/python3.12/site-packages/scanpy/tools/_rank_genes_groups.py:411: PerformanceWarning: DataFrame is highly fragmented.  This is usually the result of calling `frame.insert` many times, which has poor performance.  Consider joining all columns at once using pd.concat(axis=1) instead. To get a de-fragmented frame, use `newframe = frame.copy()`\n",
      "  self.stats[group_name, 'pvals_adj'] = pvals_adj[global_indices]\n",
      "/home/icb/dominik.klein/mambaforge/envs/ot_pert_genot/lib/python3.12/site-packages/scanpy/tools/_rank_genes_groups.py:422: PerformanceWarning: DataFrame is highly fragmented.  This is usually the result of calling `frame.insert` many times, which has poor performance.  Consider joining all columns at once using pd.concat(axis=1) instead. To get a de-fragmented frame, use `newframe = frame.copy()`\n",
      "  self.stats[group_name, 'logfoldchanges'] = np.log2(\n"
     ]
    }
   ],
   "source": [
    "adata = get_DE_genes(adata)"
   ]
  },
  {
   "cell_type": "code",
   "execution_count": 17,
   "id": "227ab6ed-c174-4d66-9c8c-ee97050c9bbb",
   "metadata": {},
   "outputs": [],
   "source": [
    "assert \"rank_genes_groups_cov_all\" in adata.uns.keys()"
   ]
  },
  {
   "cell_type": "code",
   "execution_count": 18,
   "id": "c652f908-c099-4208-b38b-70d2c5c0f816",
   "metadata": {},
   "outputs": [],
   "source": [
    "adata.obs[\"cell_line\"] = adata.obs[\"cell_type\"]"
   ]
  },
  {
   "cell_type": "code",
   "execution_count": 19,
   "id": "d14c9e2a-bc41-4319-b212-d105c1ada1dd",
   "metadata": {},
   "outputs": [
    {
     "data": {
      "text/plain": [
       "set()"
      ]
     },
     "execution_count": 19,
     "metadata": {},
     "output_type": "execute_result"
    }
   ],
   "source": [
    "set(adata.obs[\"Drug1\"].unique()) - set(adata.obs[\"Drug2\"].unique())"
   ]
  },
  {
   "cell_type": "code",
   "execution_count": 20,
   "id": "7e7b6a09-718f-4b0a-8ecd-4bb1e10b33a4",
   "metadata": {},
   "outputs": [],
   "source": [
    "adata_dummy = adata[adata.obs_names.isin(adata.obs.drop_duplicates(subset=[\"Drug2\"]).index)]"
   ]
  },
  {
   "cell_type": "code",
   "execution_count": 21,
   "id": "d6c72d36-2d43-4580-8f2e-e5f981ff4b94",
   "metadata": {},
   "outputs": [
    {
     "data": {
      "text/plain": [
       "['Panobinostat',\n",
       " 'PCI-34051',\n",
       " 'SRT1720',\n",
       " 'SRT3025',\n",
       " 'Dacinostat',\n",
       " 'Sorafenib',\n",
       " 'Cediranib',\n",
       " 'Givinostat',\n",
       " 'Danusertib',\n",
       " 'Dasatinib',\n",
       " 'Tanespimycin',\n",
       " 'Carmofur',\n",
       " 'SRT2104',\n",
       " 'Crizotinib',\n",
       " 'Pirarubicin',\n",
       " 'control',\n",
       " 'Alvespimycin',\n",
       " 'Curcumin']"
      ]
     },
     "execution_count": 21,
     "metadata": {},
     "output_type": "execute_result"
    }
   ],
   "source": [
    "list(adata.obs[\"Drug2\"].unique())"
   ]
  },
  {
   "cell_type": "code",
   "execution_count": 22,
   "id": "68b5f895-0775-425a-b464-dfb2b360a2fb",
   "metadata": {},
   "outputs": [
    {
     "name": "stderr",
     "output_type": "stream",
     "text": [
      "<>:12: SyntaxWarning: invalid escape sequence '\\C'\n",
      "<>:17: SyntaxWarning: invalid escape sequence '\\C'\n",
      "<>:12: SyntaxWarning: invalid escape sequence '\\C'\n",
      "<>:17: SyntaxWarning: invalid escape sequence '\\C'\n",
      "/tmp/ipykernel_3420958/503292394.py:12: SyntaxWarning: invalid escape sequence '\\C'\n",
      "  'Tanespimycin': \"C[C@H]1C[C@@H]([C@@H]([C@H](/C=C(/[C@@H]([C@H](/C=C\\C=C(\\C(=O)NC2=CC(=O)C(=C(C1)C2=O)NCC=C)/C)OC)OC(=O)N)\\C)C)O)OC\",\n",
      "/tmp/ipykernel_3420958/503292394.py:17: SyntaxWarning: invalid escape sequence '\\C'\n",
      "  \"Alvespimycin\": \"C[C@H]1C[C@@H]([C@@H]([C@H](/C=C(/[C@@H]([C@H](/C=C\\C=C(\\C(=O)NC2=CC(=O)C(=C(C1)C2=O)NCCN(C)C)/C)OC)OC(=O)N)\\C)C)O)OC\",\n"
     ]
    }
   ],
   "source": [
    "# taken from pubchem\n",
    "drug_to_smiles = {\n",
    "    \"Panobinostat\": \"CC1=C(C2=CC=CC=C2N1)CCNCC3=CC=C(C=C3)/C=C/C(=O)NO\",\n",
    "    \"PCI-34051\": \"COC1=CC=C(C=C1)CN2C=CC3=C2C=C(C=C3)C(=O)NO\",\n",
    "    \"SRT1720\": \"C1CN(CCN1)CC2=CSC3=NC(=CN23)C4=CC=CC=C4NC(=O)C5=NC6=CC=CC=C6N=C5\",\n",
    "    \"SRT3025\": \"COCCCC1=C(N=C(S1)C2=CC=CC=C2)C(=O)NC3=CC=CC=C3C4=NC5=C(S4)N=CC(=C5)CN6CCCC6\",\n",
    "    \"Dacinostat\": \"C1=CC=C2C(=C1)C(=CN2)CCN(CCO)CC3=CC=C(C=C3)/C=C/C(=O)NO\",\n",
    "    \"Sorafenib\": \"CNC(=O)C1=NC=CC(=C1)OC2=CC=C(C=C2)NC(=O)NC3=CC(=C(C=C3)Cl)C(F)(F)F\",\n",
    "    \"Cediranib\": \"CC1=CC2=C(N1)C=CC(=C2F)OC3=NC=NC4=CC(=C(C=C43)OC)OCCCN5CCCC5\",\n",
    "    \"Givinostat\": \"CCN(CC)CC1=CC2=C(C=C1)C=C(C=C2)COC(=O)NC3=CC=C(C=C3)C(=O)NO\",\n",
    "    \"Danusertib\": \"CN1CCN(CC1)C2=CC=C(C=C2)C(=O)NC3=NNC4=C3CN(C4)C(=O)[C@@H](C5=CC=CC=C5)OC\",\n",
    "    \"Dasatinib\": \"CC1=C(C(=CC=C1)Cl)NC(=O)C2=CN=C(S2)NC3=CC(=NC(=N3)C)N4CCN(CC4)CCO\",\n",
    "    \"Tanespimycin\": r\"C[C@H]1C[C@@H]([C@@H]([C@H](/C=C(/[C@@H]([C@H](/C=C\\C=C(\\C(=O)NC2=CC(=O)C(=C(C1)C2=O)NCC=C)/C)OC)OC(=O)N)\\C)C)O)OC\",\n",
    "    \"Carmofur\": \"CCCCCCNC(=O)N1C=C(C(=O)NC1=O)F\",\n",
    "    \"SRT2104\": \"CC1=C(SC(=N1)C2=CN=CC=C2)C(=O)NC3=CC=CC=C3C4=CN5C(=CSC5=N4)CN6CCOCC6\",\n",
    "    \"Crizotinib\": \"C[C@H](C1=C(C=CC(=C1Cl)F)Cl)OC2=C(N=CC(=C2)C3=CN(N=C3)C4CCNCC4)N\",\n",
    "    \"Pirarubicin\": \"C[C@H]1[C@H]([C@H](C[C@@H](O1)O[C@H]2C[C@@](CC3=C2C(=C4C(=C3O)C(=O)C5=C(C4=O)C(=CC=C5)OC)O)(C(=O)CO)O)N)O[C@@H]6CCCCO6\",\n",
    "    \"Alvespimycin\": r\"C[C@H]1C[C@@H]([C@@H]([C@H](/C=C(/[C@@H]([C@H](/C=C\\C=C(\\C(=O)NC2=CC(=O)C(=C(C1)C2=O)NCCN(C)C)/C)OC)OC(=O)N)\\C)C)O)OC\",\n",
    "    \"Curcumin\": \"COC1=C(C=CC(=C1)/C=C/C(=O)CC(=O)/C=C/C2=CC(=C(C=C2)O)OC)O\",\n",
    "    \"control\": None,\n",
    "}"
   ]
  },
  {
   "cell_type": "code",
   "execution_count": 23,
   "id": "6ed2ec39-645e-4bae-b37f-8a4c6d48aa68",
   "metadata": {},
   "outputs": [],
   "source": [
    "adata.obs[\"smiles_drug_1\"] = adata.obs[\"Drug1\"].map(drug_to_smiles)\n",
    "adata.obs[\"smiles_drug_2\"] = adata.obs[\"Drug2\"].map(drug_to_smiles)"
   ]
  },
  {
   "cell_type": "code",
   "execution_count": 24,
   "id": "1b583441-9223-4122-a829-4999f6c21ef9",
   "metadata": {},
   "outputs": [],
   "source": [
    "from rdkit.Chem import AllChem\n",
    "\n",
    "\n",
    "def get_fp(smiles, radius=4, nBits=1024):\n",
    "    m = Chem.MolFromSmiles(smiles, sanitize=False)\n",
    "    if m is None:\n",
    "        return \"invalid\"\n",
    "    else:\n",
    "        try:\n",
    "            Chem.SanitizeMol(m)\n",
    "        except:\n",
    "            return \"invalid\"\n",
    "    return AllChem.GetHashedMorganFingerprint(m, radius=radius, nBits=nBits)"
   ]
  },
  {
   "cell_type": "code",
   "execution_count": 25,
   "id": "c5fe5f76-92c6-4f8e-b6ea-b43c66e7a8af",
   "metadata": {},
   "outputs": [],
   "source": [
    "drug_to_fp = {}\n",
    "for drug, sm in drug_to_smiles.items():\n",
    "    if not isinstance(sm, str):\n",
    "        continue\n",
    "    drug_to_fp[drug] = np.array(list(get_fp(sm)))"
   ]
  },
  {
   "cell_type": "code",
   "execution_count": 26,
   "id": "57a88eaf-d87f-42dd-99de-2612001f8af5",
   "metadata": {},
   "outputs": [
    {
     "data": {
      "text/plain": [
       "(17, 18)"
      ]
     },
     "execution_count": 26,
     "metadata": {},
     "output_type": "execute_result"
    }
   ],
   "source": [
    "len(drug_to_fp), len(drug_to_smiles)"
   ]
  },
  {
   "cell_type": "code",
   "execution_count": 27,
   "id": "b9ad5093-327f-4b1f-8163-f2f43a5279d2",
   "metadata": {},
   "outputs": [],
   "source": [
    "features_df = pd.DataFrame.from_dict(drug_to_fp).T"
   ]
  },
  {
   "cell_type": "code",
   "execution_count": 28,
   "id": "76bf3595-cb4d-481e-ae23-b00d0dad1602",
   "metadata": {},
   "outputs": [
    {
     "data": {
      "text/html": [
       "<div>\n",
       "<style scoped>\n",
       "    .dataframe tbody tr th:only-of-type {\n",
       "        vertical-align: middle;\n",
       "    }\n",
       "\n",
       "    .dataframe tbody tr th {\n",
       "        vertical-align: top;\n",
       "    }\n",
       "\n",
       "    .dataframe thead th {\n",
       "        text-align: right;\n",
       "    }\n",
       "</style>\n",
       "<table border=\"1\" class=\"dataframe\">\n",
       "  <thead>\n",
       "    <tr style=\"text-align: right;\">\n",
       "      <th></th>\n",
       "      <th>0</th>\n",
       "      <th>1</th>\n",
       "      <th>2</th>\n",
       "      <th>3</th>\n",
       "      <th>4</th>\n",
       "      <th>5</th>\n",
       "      <th>6</th>\n",
       "      <th>7</th>\n",
       "      <th>8</th>\n",
       "      <th>9</th>\n",
       "      <th>...</th>\n",
       "      <th>1014</th>\n",
       "      <th>1015</th>\n",
       "      <th>1016</th>\n",
       "      <th>1017</th>\n",
       "      <th>1018</th>\n",
       "      <th>1019</th>\n",
       "      <th>1020</th>\n",
       "      <th>1021</th>\n",
       "      <th>1022</th>\n",
       "      <th>1023</th>\n",
       "    </tr>\n",
       "  </thead>\n",
       "  <tbody>\n",
       "    <tr>\n",
       "      <th>Panobinostat</th>\n",
       "      <td>0</td>\n",
       "      <td>0</td>\n",
       "      <td>0</td>\n",
       "      <td>0</td>\n",
       "      <td>0</td>\n",
       "      <td>0</td>\n",
       "      <td>0</td>\n",
       "      <td>1</td>\n",
       "      <td>0</td>\n",
       "      <td>0</td>\n",
       "      <td>...</td>\n",
       "      <td>0</td>\n",
       "      <td>0</td>\n",
       "      <td>0</td>\n",
       "      <td>0</td>\n",
       "      <td>0</td>\n",
       "      <td>0</td>\n",
       "      <td>0</td>\n",
       "      <td>0</td>\n",
       "      <td>0</td>\n",
       "      <td>0</td>\n",
       "    </tr>\n",
       "    <tr>\n",
       "      <th>PCI-34051</th>\n",
       "      <td>0</td>\n",
       "      <td>0</td>\n",
       "      <td>0</td>\n",
       "      <td>0</td>\n",
       "      <td>0</td>\n",
       "      <td>0</td>\n",
       "      <td>0</td>\n",
       "      <td>0</td>\n",
       "      <td>0</td>\n",
       "      <td>0</td>\n",
       "      <td>...</td>\n",
       "      <td>1</td>\n",
       "      <td>0</td>\n",
       "      <td>0</td>\n",
       "      <td>0</td>\n",
       "      <td>0</td>\n",
       "      <td>0</td>\n",
       "      <td>0</td>\n",
       "      <td>0</td>\n",
       "      <td>0</td>\n",
       "      <td>0</td>\n",
       "    </tr>\n",
       "    <tr>\n",
       "      <th>SRT1720</th>\n",
       "      <td>0</td>\n",
       "      <td>0</td>\n",
       "      <td>0</td>\n",
       "      <td>0</td>\n",
       "      <td>0</td>\n",
       "      <td>0</td>\n",
       "      <td>0</td>\n",
       "      <td>0</td>\n",
       "      <td>0</td>\n",
       "      <td>0</td>\n",
       "      <td>...</td>\n",
       "      <td>0</td>\n",
       "      <td>0</td>\n",
       "      <td>1</td>\n",
       "      <td>0</td>\n",
       "      <td>1</td>\n",
       "      <td>0</td>\n",
       "      <td>0</td>\n",
       "      <td>0</td>\n",
       "      <td>0</td>\n",
       "      <td>0</td>\n",
       "    </tr>\n",
       "    <tr>\n",
       "      <th>SRT3025</th>\n",
       "      <td>0</td>\n",
       "      <td>0</td>\n",
       "      <td>1</td>\n",
       "      <td>0</td>\n",
       "      <td>2</td>\n",
       "      <td>0</td>\n",
       "      <td>0</td>\n",
       "      <td>0</td>\n",
       "      <td>1</td>\n",
       "      <td>0</td>\n",
       "      <td>...</td>\n",
       "      <td>0</td>\n",
       "      <td>0</td>\n",
       "      <td>0</td>\n",
       "      <td>0</td>\n",
       "      <td>0</td>\n",
       "      <td>0</td>\n",
       "      <td>0</td>\n",
       "      <td>0</td>\n",
       "      <td>0</td>\n",
       "      <td>0</td>\n",
       "    </tr>\n",
       "    <tr>\n",
       "      <th>Dacinostat</th>\n",
       "      <td>0</td>\n",
       "      <td>0</td>\n",
       "      <td>0</td>\n",
       "      <td>0</td>\n",
       "      <td>0</td>\n",
       "      <td>0</td>\n",
       "      <td>0</td>\n",
       "      <td>1</td>\n",
       "      <td>0</td>\n",
       "      <td>0</td>\n",
       "      <td>...</td>\n",
       "      <td>0</td>\n",
       "      <td>0</td>\n",
       "      <td>0</td>\n",
       "      <td>0</td>\n",
       "      <td>0</td>\n",
       "      <td>0</td>\n",
       "      <td>0</td>\n",
       "      <td>0</td>\n",
       "      <td>0</td>\n",
       "      <td>0</td>\n",
       "    </tr>\n",
       "    <tr>\n",
       "      <th>Sorafenib</th>\n",
       "      <td>0</td>\n",
       "      <td>0</td>\n",
       "      <td>0</td>\n",
       "      <td>0</td>\n",
       "      <td>0</td>\n",
       "      <td>0</td>\n",
       "      <td>0</td>\n",
       "      <td>0</td>\n",
       "      <td>0</td>\n",
       "      <td>1</td>\n",
       "      <td>...</td>\n",
       "      <td>1</td>\n",
       "      <td>0</td>\n",
       "      <td>0</td>\n",
       "      <td>0</td>\n",
       "      <td>0</td>\n",
       "      <td>1</td>\n",
       "      <td>0</td>\n",
       "      <td>0</td>\n",
       "      <td>0</td>\n",
       "      <td>0</td>\n",
       "    </tr>\n",
       "    <tr>\n",
       "      <th>Cediranib</th>\n",
       "      <td>0</td>\n",
       "      <td>0</td>\n",
       "      <td>0</td>\n",
       "      <td>0</td>\n",
       "      <td>2</td>\n",
       "      <td>0</td>\n",
       "      <td>0</td>\n",
       "      <td>0</td>\n",
       "      <td>0</td>\n",
       "      <td>0</td>\n",
       "      <td>...</td>\n",
       "      <td>0</td>\n",
       "      <td>0</td>\n",
       "      <td>0</td>\n",
       "      <td>1</td>\n",
       "      <td>1</td>\n",
       "      <td>0</td>\n",
       "      <td>0</td>\n",
       "      <td>0</td>\n",
       "      <td>0</td>\n",
       "      <td>1</td>\n",
       "    </tr>\n",
       "    <tr>\n",
       "      <th>Givinostat</th>\n",
       "      <td>0</td>\n",
       "      <td>0</td>\n",
       "      <td>0</td>\n",
       "      <td>0</td>\n",
       "      <td>0</td>\n",
       "      <td>0</td>\n",
       "      <td>0</td>\n",
       "      <td>0</td>\n",
       "      <td>0</td>\n",
       "      <td>0</td>\n",
       "      <td>...</td>\n",
       "      <td>0</td>\n",
       "      <td>0</td>\n",
       "      <td>0</td>\n",
       "      <td>0</td>\n",
       "      <td>0</td>\n",
       "      <td>0</td>\n",
       "      <td>0</td>\n",
       "      <td>0</td>\n",
       "      <td>0</td>\n",
       "      <td>0</td>\n",
       "    </tr>\n",
       "    <tr>\n",
       "      <th>Danusertib</th>\n",
       "      <td>0</td>\n",
       "      <td>1</td>\n",
       "      <td>0</td>\n",
       "      <td>0</td>\n",
       "      <td>0</td>\n",
       "      <td>0</td>\n",
       "      <td>1</td>\n",
       "      <td>0</td>\n",
       "      <td>0</td>\n",
       "      <td>0</td>\n",
       "      <td>...</td>\n",
       "      <td>0</td>\n",
       "      <td>0</td>\n",
       "      <td>0</td>\n",
       "      <td>0</td>\n",
       "      <td>0</td>\n",
       "      <td>0</td>\n",
       "      <td>0</td>\n",
       "      <td>0</td>\n",
       "      <td>0</td>\n",
       "      <td>0</td>\n",
       "    </tr>\n",
       "    <tr>\n",
       "      <th>Dasatinib</th>\n",
       "      <td>0</td>\n",
       "      <td>0</td>\n",
       "      <td>0</td>\n",
       "      <td>0</td>\n",
       "      <td>1</td>\n",
       "      <td>0</td>\n",
       "      <td>0</td>\n",
       "      <td>0</td>\n",
       "      <td>0</td>\n",
       "      <td>0</td>\n",
       "      <td>...</td>\n",
       "      <td>0</td>\n",
       "      <td>0</td>\n",
       "      <td>0</td>\n",
       "      <td>0</td>\n",
       "      <td>0</td>\n",
       "      <td>0</td>\n",
       "      <td>0</td>\n",
       "      <td>0</td>\n",
       "      <td>0</td>\n",
       "      <td>0</td>\n",
       "    </tr>\n",
       "    <tr>\n",
       "      <th>Tanespimycin</th>\n",
       "      <td>0</td>\n",
       "      <td>0</td>\n",
       "      <td>0</td>\n",
       "      <td>0</td>\n",
       "      <td>0</td>\n",
       "      <td>0</td>\n",
       "      <td>0</td>\n",
       "      <td>1</td>\n",
       "      <td>0</td>\n",
       "      <td>0</td>\n",
       "      <td>...</td>\n",
       "      <td>0</td>\n",
       "      <td>2</td>\n",
       "      <td>0</td>\n",
       "      <td>0</td>\n",
       "      <td>0</td>\n",
       "      <td>6</td>\n",
       "      <td>0</td>\n",
       "      <td>0</td>\n",
       "      <td>0</td>\n",
       "      <td>0</td>\n",
       "    </tr>\n",
       "    <tr>\n",
       "      <th>Carmofur</th>\n",
       "      <td>0</td>\n",
       "      <td>0</td>\n",
       "      <td>0</td>\n",
       "      <td>0</td>\n",
       "      <td>0</td>\n",
       "      <td>0</td>\n",
       "      <td>0</td>\n",
       "      <td>0</td>\n",
       "      <td>0</td>\n",
       "      <td>0</td>\n",
       "      <td>...</td>\n",
       "      <td>0</td>\n",
       "      <td>0</td>\n",
       "      <td>0</td>\n",
       "      <td>1</td>\n",
       "      <td>0</td>\n",
       "      <td>0</td>\n",
       "      <td>0</td>\n",
       "      <td>0</td>\n",
       "      <td>0</td>\n",
       "      <td>0</td>\n",
       "    </tr>\n",
       "    <tr>\n",
       "      <th>SRT2104</th>\n",
       "      <td>0</td>\n",
       "      <td>0</td>\n",
       "      <td>0</td>\n",
       "      <td>0</td>\n",
       "      <td>0</td>\n",
       "      <td>0</td>\n",
       "      <td>0</td>\n",
       "      <td>0</td>\n",
       "      <td>0</td>\n",
       "      <td>0</td>\n",
       "      <td>...</td>\n",
       "      <td>0</td>\n",
       "      <td>0</td>\n",
       "      <td>0</td>\n",
       "      <td>0</td>\n",
       "      <td>0</td>\n",
       "      <td>0</td>\n",
       "      <td>0</td>\n",
       "      <td>0</td>\n",
       "      <td>0</td>\n",
       "      <td>0</td>\n",
       "    </tr>\n",
       "    <tr>\n",
       "      <th>Crizotinib</th>\n",
       "      <td>0</td>\n",
       "      <td>1</td>\n",
       "      <td>0</td>\n",
       "      <td>0</td>\n",
       "      <td>0</td>\n",
       "      <td>0</td>\n",
       "      <td>0</td>\n",
       "      <td>0</td>\n",
       "      <td>0</td>\n",
       "      <td>0</td>\n",
       "      <td>...</td>\n",
       "      <td>0</td>\n",
       "      <td>0</td>\n",
       "      <td>0</td>\n",
       "      <td>0</td>\n",
       "      <td>0</td>\n",
       "      <td>1</td>\n",
       "      <td>0</td>\n",
       "      <td>0</td>\n",
       "      <td>0</td>\n",
       "      <td>0</td>\n",
       "    </tr>\n",
       "    <tr>\n",
       "      <th>Pirarubicin</th>\n",
       "      <td>0</td>\n",
       "      <td>0</td>\n",
       "      <td>0</td>\n",
       "      <td>0</td>\n",
       "      <td>2</td>\n",
       "      <td>0</td>\n",
       "      <td>0</td>\n",
       "      <td>0</td>\n",
       "      <td>0</td>\n",
       "      <td>0</td>\n",
       "      <td>...</td>\n",
       "      <td>0</td>\n",
       "      <td>0</td>\n",
       "      <td>0</td>\n",
       "      <td>1</td>\n",
       "      <td>0</td>\n",
       "      <td>6</td>\n",
       "      <td>0</td>\n",
       "      <td>0</td>\n",
       "      <td>0</td>\n",
       "      <td>0</td>\n",
       "    </tr>\n",
       "    <tr>\n",
       "      <th>Alvespimycin</th>\n",
       "      <td>0</td>\n",
       "      <td>0</td>\n",
       "      <td>0</td>\n",
       "      <td>0</td>\n",
       "      <td>0</td>\n",
       "      <td>0</td>\n",
       "      <td>0</td>\n",
       "      <td>1</td>\n",
       "      <td>0</td>\n",
       "      <td>0</td>\n",
       "      <td>...</td>\n",
       "      <td>0</td>\n",
       "      <td>2</td>\n",
       "      <td>0</td>\n",
       "      <td>0</td>\n",
       "      <td>0</td>\n",
       "      <td>6</td>\n",
       "      <td>0</td>\n",
       "      <td>0</td>\n",
       "      <td>0</td>\n",
       "      <td>0</td>\n",
       "    </tr>\n",
       "    <tr>\n",
       "      <th>Curcumin</th>\n",
       "      <td>0</td>\n",
       "      <td>0</td>\n",
       "      <td>0</td>\n",
       "      <td>0</td>\n",
       "      <td>0</td>\n",
       "      <td>0</td>\n",
       "      <td>0</td>\n",
       "      <td>0</td>\n",
       "      <td>0</td>\n",
       "      <td>0</td>\n",
       "      <td>...</td>\n",
       "      <td>0</td>\n",
       "      <td>0</td>\n",
       "      <td>0</td>\n",
       "      <td>2</td>\n",
       "      <td>0</td>\n",
       "      <td>0</td>\n",
       "      <td>0</td>\n",
       "      <td>0</td>\n",
       "      <td>0</td>\n",
       "      <td>0</td>\n",
       "    </tr>\n",
       "  </tbody>\n",
       "</table>\n",
       "<p>17 rows × 1024 columns</p>\n",
       "</div>"
      ],
      "text/plain": [
       "              0     1     2     3     4     5     6     7     8     9     ...  \\\n",
       "Panobinostat     0     0     0     0     0     0     0     1     0     0  ...   \n",
       "PCI-34051        0     0     0     0     0     0     0     0     0     0  ...   \n",
       "SRT1720          0     0     0     0     0     0     0     0     0     0  ...   \n",
       "SRT3025          0     0     1     0     2     0     0     0     1     0  ...   \n",
       "Dacinostat       0     0     0     0     0     0     0     1     0     0  ...   \n",
       "Sorafenib        0     0     0     0     0     0     0     0     0     1  ...   \n",
       "Cediranib        0     0     0     0     2     0     0     0     0     0  ...   \n",
       "Givinostat       0     0     0     0     0     0     0     0     0     0  ...   \n",
       "Danusertib       0     1     0     0     0     0     1     0     0     0  ...   \n",
       "Dasatinib        0     0     0     0     1     0     0     0     0     0  ...   \n",
       "Tanespimycin     0     0     0     0     0     0     0     1     0     0  ...   \n",
       "Carmofur         0     0     0     0     0     0     0     0     0     0  ...   \n",
       "SRT2104          0     0     0     0     0     0     0     0     0     0  ...   \n",
       "Crizotinib       0     1     0     0     0     0     0     0     0     0  ...   \n",
       "Pirarubicin      0     0     0     0     2     0     0     0     0     0  ...   \n",
       "Alvespimycin     0     0     0     0     0     0     0     1     0     0  ...   \n",
       "Curcumin         0     0     0     0     0     0     0     0     0     0  ...   \n",
       "\n",
       "              1014  1015  1016  1017  1018  1019  1020  1021  1022  1023  \n",
       "Panobinostat     0     0     0     0     0     0     0     0     0     0  \n",
       "PCI-34051        1     0     0     0     0     0     0     0     0     0  \n",
       "SRT1720          0     0     1     0     1     0     0     0     0     0  \n",
       "SRT3025          0     0     0     0     0     0     0     0     0     0  \n",
       "Dacinostat       0     0     0     0     0     0     0     0     0     0  \n",
       "Sorafenib        1     0     0     0     0     1     0     0     0     0  \n",
       "Cediranib        0     0     0     1     1     0     0     0     0     1  \n",
       "Givinostat       0     0     0     0     0     0     0     0     0     0  \n",
       "Danusertib       0     0     0     0     0     0     0     0     0     0  \n",
       "Dasatinib        0     0     0     0     0     0     0     0     0     0  \n",
       "Tanespimycin     0     2     0     0     0     6     0     0     0     0  \n",
       "Carmofur         0     0     0     1     0     0     0     0     0     0  \n",
       "SRT2104          0     0     0     0     0     0     0     0     0     0  \n",
       "Crizotinib       0     0     0     0     0     1     0     0     0     0  \n",
       "Pirarubicin      0     0     0     1     0     6     0     0     0     0  \n",
       "Alvespimycin     0     2     0     0     0     6     0     0     0     0  \n",
       "Curcumin         0     0     0     2     0     0     0     0     0     0  \n",
       "\n",
       "[17 rows x 1024 columns]"
      ]
     },
     "execution_count": 28,
     "metadata": {},
     "output_type": "execute_result"
    }
   ],
   "source": [
    "features_df"
   ]
  },
  {
   "cell_type": "code",
   "execution_count": 29,
   "id": "5aaf11af-ae31-4b15-aac6-1d49991ddd92",
   "metadata": {},
   "outputs": [
    {
     "name": "stdout",
     "output_type": "stream",
     "text": [
      "Panobinostat\n",
      "PCI-34051\n",
      "SRT1720\n",
      "SRT3025\n",
      "Dacinostat\n",
      "Sorafenib\n",
      "Cediranib\n",
      "Givinostat\n",
      "Danusertib\n",
      "Dasatinib\n",
      "Tanespimycin\n",
      "Carmofur\n",
      "SRT2104\n",
      "Crizotinib\n",
      "Pirarubicin\n",
      "Alvespimycin\n",
      "Curcumin\n"
     ]
    }
   ],
   "source": [
    "features_cells_drug_1 = np.zeros((adata.shape[0], features_df.shape[1]))\n",
    "features_cells_drug_2 = np.zeros((adata.shape[0], features_df.shape[1]))\n",
    "for mol, ecfp in features_df.iterrows():\n",
    "    print(mol)\n",
    "    features_cells_drug_1[adata.obs[\"Drug1\"].isin([mol])] = ecfp.values\n",
    "    features_cells_drug_2[adata.obs[\"Drug2\"].isin([mol])] = ecfp.values"
   ]
  },
  {
   "cell_type": "code",
   "execution_count": 30,
   "id": "0d04da7c-d53d-4c19-aa26-8bc479568872",
   "metadata": {},
   "outputs": [],
   "source": [
    "adata.obsm[\"ecfp_drug_1\"] = features_cells_drug_1\n",
    "adata.obsm[\"ecfp_drug_2\"] = features_cells_drug_2"
   ]
  },
  {
   "cell_type": "code",
   "execution_count": 31,
   "id": "8017ddf9-643d-4ab7-8930-5cc3a0825c37",
   "metadata": {},
   "outputs": [],
   "source": [
    "adata_dummy = adata[adata.obs_names.isin(adata.obs.drop_duplicates(subset=[\"Drug2\"]).index)]"
   ]
  },
  {
   "cell_type": "code",
   "execution_count": 32,
   "id": "9841b0c5-12f5-416c-a9f5-bc94a3340785",
   "metadata": {},
   "outputs": [
    {
     "data": {
      "text/plain": [
       "condition\n",
       "Dacinostat+PCI-34051         3298\n",
       "SRT3025+Cediranib            3016\n",
       "Givinostat+Cediranib         2783\n",
       "control+SRT2104              2756\n",
       "Givinostat+Curcumin          2736\n",
       "Givinostat+Sorafenib         2734\n",
       "Givinostat+Carmofur          2692\n",
       "Givinostat+Crizotinib        2662\n",
       "Givinostat+Dasatinib         2421\n",
       "Givinostat+SRT2104           2353\n",
       "control+Dasatinib            2343\n",
       "Givinostat+SRT1720           2260\n",
       "Panobinostat+Curcumin        2244\n",
       "Cediranib+PCI-34051          2161\n",
       "Panobinostat+Sorafenib       2013\n",
       "Panobinostat+SRT2104         1971\n",
       "Panobinostat+Dasatinib       1955\n",
       "Dacinostat+Danusertib        1939\n",
       "Panobinostat+SRT3025         1889\n",
       "control+Dacinostat           1869\n",
       "Panobinostat+SRT1720         1826\n",
       "Panobinostat+PCI-34051       1814\n",
       "control+Givinostat           1682\n",
       "Panobinostat+Crizotinib      1641\n",
       "control+Panobinostat         1578\n",
       "control                      1451\n",
       "Givinostat+Tanespimycin      1310\n",
       "Dacinostat+Dasatinib         1231\n",
       "Panobinostat+Alvespimycin     996\n",
       "control+Alvespimycin          758\n",
       "SRT2104+Alvespimycin          520\n",
       "Alvespimycin+Pirarubicin      476\n",
       "Name: count, dtype: int64"
      ]
     },
     "execution_count": 32,
     "metadata": {},
     "output_type": "execute_result"
    }
   ],
   "source": [
    "adata.obs[\"condition\"].value_counts()"
   ]
  },
  {
   "cell_type": "code",
   "execution_count": 33,
   "id": "48f49a23-b7da-4f43-a75a-a47835657d70",
   "metadata": {},
   "outputs": [],
   "source": [
    "df_conds = adata.obs.drop_duplicates(subset=[\"condition\"])"
   ]
  },
  {
   "cell_type": "code",
   "execution_count": 34,
   "id": "800a2ab8-0e76-453f-98d9-bf1304c341d6",
   "metadata": {},
   "outputs": [],
   "source": [
    "df_conds_combs = df_conds[(df_conds[\"Drug1\"] != \"control\") & (df_conds[\"Drug2\"] != \"control\")]"
   ]
  },
  {
   "cell_type": "code",
   "execution_count": 35,
   "id": "3e57d0f3-15b1-4895-be75-30a0e161230d",
   "metadata": {},
   "outputs": [
    {
     "data": {
      "text/plain": [
       "Drug1\n",
       "Givinostat      9\n",
       "Panobinostat    9\n",
       "Dacinostat      3\n",
       "Alvespimycin    1\n",
       "Cediranib       1\n",
       "SRT2104         1\n",
       "SRT3025         1\n",
       "control         0\n",
       "Name: count, dtype: int64"
      ]
     },
     "execution_count": 35,
     "metadata": {},
     "output_type": "execute_result"
    }
   ],
   "source": [
    "df_conds_combs[\"Drug1\"].value_counts()"
   ]
  },
  {
   "cell_type": "code",
   "execution_count": 36,
   "id": "647b3d20-5b61-4145-984a-07f375a9b7f4",
   "metadata": {},
   "outputs": [
    {
     "data": {
      "text/plain": [
       "Drug2\n",
       "PCI-34051       3\n",
       "Dasatinib       3\n",
       "Sorafenib       2\n",
       "SRT2104         2\n",
       "SRT1720         2\n",
       "Alvespimycin    2\n",
       "Curcumin        2\n",
       "Crizotinib      2\n",
       "Cediranib       2\n",
       "Danusertib      1\n",
       "Carmofur        1\n",
       "Pirarubicin     1\n",
       "SRT3025         1\n",
       "Tanespimycin    1\n",
       "Dacinostat      0\n",
       "Givinostat      0\n",
       "Panobinostat    0\n",
       "control         0\n",
       "Name: count, dtype: int64"
      ]
     },
     "execution_count": 36,
     "metadata": {},
     "output_type": "execute_result"
    }
   ],
   "source": [
    "df_conds_combs[\"Drug2\"].value_counts()"
   ]
  },
  {
   "cell_type": "code",
   "execution_count": 37,
   "id": "0b0bdb79-3931-4b34-ad08-69b7c4e002bb",
   "metadata": {},
   "outputs": [],
   "source": [
    "at_least_twice = (\n",
    "    set(df_conds_combs[\"Drug1\"].value_counts()[df_conds_combs[\"Drug1\"].value_counts() >= 2].index)\n",
    "    | set(df_conds_combs[\"Drug2\"].value_counts()[df_conds_combs[\"Drug2\"].value_counts() >= 2].index)\n",
    "    | (\n",
    "        set(df_conds_combs[\"Drug1\"].value_counts()[df_conds_combs[\"Drug1\"].value_counts() >= 1].index).intersection(\n",
    "            set(df_conds_combs[\"Drug2\"].value_counts()[df_conds_combs[\"Drug2\"].value_counts() >= 1].index)\n",
    "        )\n",
    "    )\n",
    ")"
   ]
  },
  {
   "cell_type": "code",
   "execution_count": 38,
   "id": "64dd5df1-c865-4cdf-8311-233e99471e5c",
   "metadata": {},
   "outputs": [],
   "source": [
    "filtered_df = df_conds_combs[\n",
    "    (df_conds_combs[\"Drug1\"].isin(at_least_twice)) & (df_conds_combs[\"Drug2\"].isin(at_least_twice))\n",
    "]"
   ]
  },
  {
   "cell_type": "code",
   "execution_count": 39,
   "id": "dcc79773-ed71-47c2-8970-fca1ddcec764",
   "metadata": {},
   "outputs": [
    {
     "data": {
      "text/html": [
       "<div>\n",
       "<style scoped>\n",
       "    .dataframe tbody tr th:only-of-type {\n",
       "        vertical-align: middle;\n",
       "    }\n",
       "\n",
       "    .dataframe tbody tr th {\n",
       "        vertical-align: top;\n",
       "    }\n",
       "\n",
       "    .dataframe thead th {\n",
       "        text-align: right;\n",
       "    }\n",
       "</style>\n",
       "<table border=\"1\" class=\"dataframe\">\n",
       "  <thead>\n",
       "    <tr style=\"text-align: right;\">\n",
       "      <th></th>\n",
       "      <th>sample</th>\n",
       "      <th>Size_Factor</th>\n",
       "      <th>n.umi</th>\n",
       "      <th>RT_well</th>\n",
       "      <th>Drug1</th>\n",
       "      <th>Drug2</th>\n",
       "      <th>Well</th>\n",
       "      <th>n_genes</th>\n",
       "      <th>n_genes_by_counts</th>\n",
       "      <th>total_counts</th>\n",
       "      <th>...</th>\n",
       "      <th>leiden</th>\n",
       "      <th>condition</th>\n",
       "      <th>pathway1</th>\n",
       "      <th>pathway2</th>\n",
       "      <th>split</th>\n",
       "      <th>control</th>\n",
       "      <th>cell_type</th>\n",
       "      <th>cell_line</th>\n",
       "      <th>smiles_drug_1</th>\n",
       "      <th>smiles_drug_2</th>\n",
       "    </tr>\n",
       "    <tr>\n",
       "      <th>Cell</th>\n",
       "      <th></th>\n",
       "      <th></th>\n",
       "      <th></th>\n",
       "      <th></th>\n",
       "      <th></th>\n",
       "      <th></th>\n",
       "      <th></th>\n",
       "      <th></th>\n",
       "      <th></th>\n",
       "      <th></th>\n",
       "      <th></th>\n",
       "      <th></th>\n",
       "      <th></th>\n",
       "      <th></th>\n",
       "      <th></th>\n",
       "      <th></th>\n",
       "      <th></th>\n",
       "      <th></th>\n",
       "      <th></th>\n",
       "      <th></th>\n",
       "      <th></th>\n",
       "    </tr>\n",
       "  </thead>\n",
       "  <tbody>\n",
       "    <tr>\n",
       "      <th>A01_A02_RT_BC_13_Lig_BC_1</th>\n",
       "      <td>sciPlex_theis</td>\n",
       "      <td>1.083277</td>\n",
       "      <td>2908</td>\n",
       "      <td>RT_13</td>\n",
       "      <td>Cediranib</td>\n",
       "      <td>PCI-34051</td>\n",
       "      <td>B1</td>\n",
       "      <td>1896</td>\n",
       "      <td>1895</td>\n",
       "      <td>2907.0</td>\n",
       "      <td>...</td>\n",
       "      <td>0</td>\n",
       "      <td>Cediranib+PCI-34051</td>\n",
       "      <td>EGFR inhibitor</td>\n",
       "      <td>HDAC inhibitor</td>\n",
       "      <td>test</td>\n",
       "      <td>0</td>\n",
       "      <td>A549</td>\n",
       "      <td>A549</td>\n",
       "      <td>CC1=CC2=C(N1)C=CC(=C2F)OC3=NC=NC4=CC(=C(C=C43)...</td>\n",
       "      <td>COC1=CC=C(C=C1)CN2C=CC3=C2C=C(C=C3)C(=O)NO</td>\n",
       "    </tr>\n",
       "    <tr>\n",
       "      <th>A01_A02_RT_BC_16_Lig_BC_2</th>\n",
       "      <td>sciPlex_theis</td>\n",
       "      <td>1.298964</td>\n",
       "      <td>3487</td>\n",
       "      <td>RT_16</td>\n",
       "      <td>Givinostat</td>\n",
       "      <td>SRT1720</td>\n",
       "      <td>B4</td>\n",
       "      <td>2154</td>\n",
       "      <td>2152</td>\n",
       "      <td>3485.0</td>\n",
       "      <td>...</td>\n",
       "      <td>0</td>\n",
       "      <td>Givinostat+SRT1720</td>\n",
       "      <td>HDAC inhibitor</td>\n",
       "      <td>Sirtuin inhibitor</td>\n",
       "      <td>train</td>\n",
       "      <td>0</td>\n",
       "      <td>A549</td>\n",
       "      <td>A549</td>\n",
       "      <td>CCN(CC)CC1=CC2=C(C=C1)C=C(C=C2)COC(=O)NC3=CC=C...</td>\n",
       "      <td>C1CN(CCN1)CC2=CSC3=NC(=CN23)C4=CC=CC=C4NC(=O)C...</td>\n",
       "    </tr>\n",
       "    <tr>\n",
       "      <th>A01_A02_RT_BC_19_Lig_BC_11</th>\n",
       "      <td>sciPlex_theis</td>\n",
       "      <td>0.587086</td>\n",
       "      <td>1576</td>\n",
       "      <td>RT_19</td>\n",
       "      <td>Panobinostat</td>\n",
       "      <td>SRT3025</td>\n",
       "      <td>B7</td>\n",
       "      <td>1131</td>\n",
       "      <td>1129</td>\n",
       "      <td>1574.0</td>\n",
       "      <td>...</td>\n",
       "      <td>1</td>\n",
       "      <td>Panobinostat+SRT3025</td>\n",
       "      <td>HDAC inhibitor</td>\n",
       "      <td>Sirtuin inhibitor</td>\n",
       "      <td>train</td>\n",
       "      <td>0</td>\n",
       "      <td>A549</td>\n",
       "      <td>A549</td>\n",
       "      <td>CC1=C(C2=CC=CC=C2N1)CCNCC3=CC=C(C=C3)/C=C/C(=O)NO</td>\n",
       "      <td>COCCCC1=C(N=C(S1)C2=CC=CC=C2)C(=O)NC3=CC=CC=C3...</td>\n",
       "    </tr>\n",
       "    <tr>\n",
       "      <th>A01_A02_RT_BC_1_Lig_BC_3</th>\n",
       "      <td>sciPlex_theis</td>\n",
       "      <td>2.151281</td>\n",
       "      <td>5775</td>\n",
       "      <td>RT_1</td>\n",
       "      <td>Panobinostat</td>\n",
       "      <td>PCI-34051</td>\n",
       "      <td>A1</td>\n",
       "      <td>3139</td>\n",
       "      <td>3138</td>\n",
       "      <td>5774.0</td>\n",
       "      <td>...</td>\n",
       "      <td>1</td>\n",
       "      <td>Panobinostat+PCI-34051</td>\n",
       "      <td>HDAC inhibitor</td>\n",
       "      <td>HDAC inhibitor</td>\n",
       "      <td>train</td>\n",
       "      <td>0</td>\n",
       "      <td>A549</td>\n",
       "      <td>A549</td>\n",
       "      <td>CC1=C(C2=CC=CC=C2N1)CCNCC3=CC=C(C=C3)/C=C/C(=O)NO</td>\n",
       "      <td>COC1=CC=C(C=C1)CN2C=CC3=C2C=C(C=C3)C(=O)NO</td>\n",
       "    </tr>\n",
       "    <tr>\n",
       "      <th>A01_A02_RT_BC_25_Lig_BC_12</th>\n",
       "      <td>sciPlex_theis</td>\n",
       "      <td>0.534188</td>\n",
       "      <td>1434</td>\n",
       "      <td>RT_25</td>\n",
       "      <td>Dacinostat</td>\n",
       "      <td>PCI-34051</td>\n",
       "      <td>C1</td>\n",
       "      <td>1015</td>\n",
       "      <td>1014</td>\n",
       "      <td>1433.0</td>\n",
       "      <td>...</td>\n",
       "      <td>1</td>\n",
       "      <td>Dacinostat+PCI-34051</td>\n",
       "      <td>HDAC inhibitor</td>\n",
       "      <td>HDAC inhibitor</td>\n",
       "      <td>train</td>\n",
       "      <td>0</td>\n",
       "      <td>A549</td>\n",
       "      <td>A549</td>\n",
       "      <td>C1=CC=C2C(=C1)C(=CN2)CCN(CCO)CC3=CC=C(C=C3)/C=...</td>\n",
       "      <td>COC1=CC=C(C=C1)CN2C=CC3=C2C=C(C=C3)C(=O)NO</td>\n",
       "    </tr>\n",
       "    <tr>\n",
       "      <th>A01_A02_RT_BC_28_Lig_BC_12</th>\n",
       "      <td>sciPlex_theis</td>\n",
       "      <td>1.136175</td>\n",
       "      <td>3050</td>\n",
       "      <td>RT_28</td>\n",
       "      <td>Panobinostat</td>\n",
       "      <td>Sorafenib</td>\n",
       "      <td>C4</td>\n",
       "      <td>2015</td>\n",
       "      <td>2015</td>\n",
       "      <td>3050.0</td>\n",
       "      <td>...</td>\n",
       "      <td>1</td>\n",
       "      <td>Panobinostat+Sorafenib</td>\n",
       "      <td>HDAC inhibitor</td>\n",
       "      <td>EGFR inhibitor</td>\n",
       "      <td>train</td>\n",
       "      <td>0</td>\n",
       "      <td>A549</td>\n",
       "      <td>A549</td>\n",
       "      <td>CC1=C(C2=CC=CC=C2N1)CCNCC3=CC=C(C=C3)/C=C/C(=O)NO</td>\n",
       "      <td>CNC(=O)C1=NC=CC(=C1)OC2=CC=C(C=C2)NC(=O)NC3=CC...</td>\n",
       "    </tr>\n",
       "    <tr>\n",
       "      <th>A01_A02_RT_BC_31_Lig_BC_2</th>\n",
       "      <td>sciPlex_theis</td>\n",
       "      <td>2.073798</td>\n",
       "      <td>5567</td>\n",
       "      <td>RT_31</td>\n",
       "      <td>Givinostat</td>\n",
       "      <td>Cediranib</td>\n",
       "      <td>C7</td>\n",
       "      <td>3103</td>\n",
       "      <td>3100</td>\n",
       "      <td>5564.0</td>\n",
       "      <td>...</td>\n",
       "      <td>0</td>\n",
       "      <td>Givinostat+Cediranib</td>\n",
       "      <td>HDAC inhibitor</td>\n",
       "      <td>EGFR inhibitor</td>\n",
       "      <td>ood</td>\n",
       "      <td>0</td>\n",
       "      <td>A549</td>\n",
       "      <td>A549</td>\n",
       "      <td>CCN(CC)CC1=CC2=C(C=C1)C=C(C=C2)COC(=O)NC3=CC=C...</td>\n",
       "      <td>CC1=CC2=C(N1)C=CC(=C2F)OC3=NC=NC4=CC(=C(C=C43)...</td>\n",
       "    </tr>\n",
       "    <tr>\n",
       "      <th>A01_A02_RT_BC_40_Lig_BC_18</th>\n",
       "      <td>sciPlex_theis</td>\n",
       "      <td>2.642630</td>\n",
       "      <td>7094</td>\n",
       "      <td>RT_40</td>\n",
       "      <td>Panobinostat</td>\n",
       "      <td>Dasatinib</td>\n",
       "      <td>D4</td>\n",
       "      <td>3767</td>\n",
       "      <td>3760</td>\n",
       "      <td>7087.0</td>\n",
       "      <td>...</td>\n",
       "      <td>1</td>\n",
       "      <td>Panobinostat+Dasatinib</td>\n",
       "      <td>HDAC inhibitor</td>\n",
       "      <td>EGFR inhibitor</td>\n",
       "      <td>train</td>\n",
       "      <td>0</td>\n",
       "      <td>A549</td>\n",
       "      <td>A549</td>\n",
       "      <td>CC1=C(C2=CC=CC=C2N1)CCNCC3=CC=C(C=C3)/C=C/C(=O)NO</td>\n",
       "      <td>CC1=C(C(=CC=C1)Cl)NC(=O)C2=CN=C(S2)NC3=CC(=NC(...</td>\n",
       "    </tr>\n",
       "    <tr>\n",
       "      <th>A01_A02_RT_BC_49_Lig_BC_10</th>\n",
       "      <td>sciPlex_theis</td>\n",
       "      <td>2.406455</td>\n",
       "      <td>6460</td>\n",
       "      <td>RT_49</td>\n",
       "      <td>Panobinostat</td>\n",
       "      <td>SRT2104</td>\n",
       "      <td>E1</td>\n",
       "      <td>3453</td>\n",
       "      <td>3451</td>\n",
       "      <td>6458.0</td>\n",
       "      <td>...</td>\n",
       "      <td>1</td>\n",
       "      <td>Panobinostat+SRT2104</td>\n",
       "      <td>HDAC inhibitor</td>\n",
       "      <td>Sirtuin inhibitor</td>\n",
       "      <td>ood</td>\n",
       "      <td>0</td>\n",
       "      <td>A549</td>\n",
       "      <td>A549</td>\n",
       "      <td>CC1=C(C2=CC=CC=C2N1)CCNCC3=CC=C(C=C3)/C=C/C(=O)NO</td>\n",
       "      <td>CC1=C(SC(=N1)C2=CN=CC=C2)C(=O)NC3=CC=CC=C3C4=C...</td>\n",
       "    </tr>\n",
       "    <tr>\n",
       "      <th>A01_A02_RT_BC_4_Lig_BC_15</th>\n",
       "      <td>sciPlex_theis</td>\n",
       "      <td>0.932036</td>\n",
       "      <td>2502</td>\n",
       "      <td>RT_4</td>\n",
       "      <td>Panobinostat</td>\n",
       "      <td>SRT1720</td>\n",
       "      <td>A4</td>\n",
       "      <td>1649</td>\n",
       "      <td>1649</td>\n",
       "      <td>2502.0</td>\n",
       "      <td>...</td>\n",
       "      <td>1</td>\n",
       "      <td>Panobinostat+SRT1720</td>\n",
       "      <td>HDAC inhibitor</td>\n",
       "      <td>Sirtuin inhibitor</td>\n",
       "      <td>train</td>\n",
       "      <td>0</td>\n",
       "      <td>A549</td>\n",
       "      <td>A549</td>\n",
       "      <td>CC1=C(C2=CC=CC=C2N1)CCNCC3=CC=C(C=C3)/C=C/C(=O)NO</td>\n",
       "      <td>C1CN(CCN1)CC2=CSC3=NC(=CN23)C4=CC=CC=C4NC(=O)C...</td>\n",
       "    </tr>\n",
       "    <tr>\n",
       "      <th>A01_A02_RT_BC_52_Lig_BC_32</th>\n",
       "      <td>sciPlex_theis</td>\n",
       "      <td>2.259311</td>\n",
       "      <td>6065</td>\n",
       "      <td>RT_52</td>\n",
       "      <td>Panobinostat</td>\n",
       "      <td>Crizotinib</td>\n",
       "      <td>E4</td>\n",
       "      <td>3262</td>\n",
       "      <td>3260</td>\n",
       "      <td>6063.0</td>\n",
       "      <td>...</td>\n",
       "      <td>1</td>\n",
       "      <td>Panobinostat+Crizotinib</td>\n",
       "      <td>HDAC inhibitor</td>\n",
       "      <td>EGFR inhibitor</td>\n",
       "      <td>test</td>\n",
       "      <td>0</td>\n",
       "      <td>A549</td>\n",
       "      <td>A549</td>\n",
       "      <td>CC1=C(C2=CC=CC=C2N1)CCNCC3=CC=C(C=C3)/C=C/C(=O)NO</td>\n",
       "      <td>C[C@H](C1=C(C=CC(=C1Cl)F)Cl)OC2=C(N=CC(=C2)C3=...</td>\n",
       "    </tr>\n",
       "    <tr>\n",
       "      <th>A01_A02_RT_BC_61_Lig_BC_1</th>\n",
       "      <td>sciPlex_theis</td>\n",
       "      <td>0.897019</td>\n",
       "      <td>2408</td>\n",
       "      <td>RT_61</td>\n",
       "      <td>Givinostat</td>\n",
       "      <td>SRT2104</td>\n",
       "      <td>F1</td>\n",
       "      <td>1607</td>\n",
       "      <td>1607</td>\n",
       "      <td>2408.0</td>\n",
       "      <td>...</td>\n",
       "      <td>0</td>\n",
       "      <td>Givinostat+SRT2104</td>\n",
       "      <td>HDAC inhibitor</td>\n",
       "      <td>Sirtuin inhibitor</td>\n",
       "      <td>train</td>\n",
       "      <td>0</td>\n",
       "      <td>A549</td>\n",
       "      <td>A549</td>\n",
       "      <td>CCN(CC)CC1=CC2=C(C=C1)C=C(C=C2)COC(=O)NC3=CC=C...</td>\n",
       "      <td>CC1=C(SC(=N1)C2=CN=CC=C2)C(=O)NC3=CC=CC=C3C4=C...</td>\n",
       "    </tr>\n",
       "    <tr>\n",
       "      <th>A01_A02_RT_BC_64_Lig_BC_29</th>\n",
       "      <td>sciPlex_theis</td>\n",
       "      <td>0.473096</td>\n",
       "      <td>1270</td>\n",
       "      <td>RT_64</td>\n",
       "      <td>Givinostat</td>\n",
       "      <td>Sorafenib</td>\n",
       "      <td>F4</td>\n",
       "      <td>977</td>\n",
       "      <td>977</td>\n",
       "      <td>1270.0</td>\n",
       "      <td>...</td>\n",
       "      <td>0</td>\n",
       "      <td>Givinostat+Sorafenib</td>\n",
       "      <td>HDAC inhibitor</td>\n",
       "      <td>EGFR inhibitor</td>\n",
       "      <td>test</td>\n",
       "      <td>0</td>\n",
       "      <td>A549</td>\n",
       "      <td>A549</td>\n",
       "      <td>CCN(CC)CC1=CC2=C(C=C1)C=C(C=C2)COC(=O)NC3=CC=C...</td>\n",
       "      <td>CNC(=O)C1=NC=CC(=C1)OC2=CC=C(C=C2)NC(=O)NC3=CC...</td>\n",
       "    </tr>\n",
       "    <tr>\n",
       "      <th>A01_A02_RT_BC_67_Lig_BC_36</th>\n",
       "      <td>sciPlex_theis</td>\n",
       "      <td>1.218873</td>\n",
       "      <td>3272</td>\n",
       "      <td>RT_67</td>\n",
       "      <td>Panobinostat</td>\n",
       "      <td>Alvespimycin</td>\n",
       "      <td>F7</td>\n",
       "      <td>2008</td>\n",
       "      <td>2007</td>\n",
       "      <td>3271.0</td>\n",
       "      <td>...</td>\n",
       "      <td>3</td>\n",
       "      <td>Panobinostat+Alvespimycin</td>\n",
       "      <td>HDAC inhibitor</td>\n",
       "      <td>Protein folding &amp; Protein degradation</td>\n",
       "      <td>ood</td>\n",
       "      <td>0</td>\n",
       "      <td>A549</td>\n",
       "      <td>A549</td>\n",
       "      <td>CC1=C(C2=CC=CC=C2N1)CCNCC3=CC=C(C=C3)/C=C/C(=O)NO</td>\n",
       "      <td>C[C@H]1C[C@@H]([C@@H]([C@H](/C=C(/[C@@H]([C@H]...</td>\n",
       "    </tr>\n",
       "    <tr>\n",
       "      <th>A01_A02_RT_BC_73_Lig_BC_11</th>\n",
       "      <td>sciPlex_theis</td>\n",
       "      <td>0.539404</td>\n",
       "      <td>1448</td>\n",
       "      <td>RT_73</td>\n",
       "      <td>Panobinostat</td>\n",
       "      <td>Curcumin</td>\n",
       "      <td>G1</td>\n",
       "      <td>1114</td>\n",
       "      <td>1113</td>\n",
       "      <td>1447.0</td>\n",
       "      <td>...</td>\n",
       "      <td>1</td>\n",
       "      <td>Panobinostat+Curcumin</td>\n",
       "      <td>HDAC inhibitor</td>\n",
       "      <td>Sirtuin inhibitor</td>\n",
       "      <td>train</td>\n",
       "      <td>0</td>\n",
       "      <td>A549</td>\n",
       "      <td>A549</td>\n",
       "      <td>CC1=C(C2=CC=CC=C2N1)CCNCC3=CC=C(C=C3)/C=C/C(=O)NO</td>\n",
       "      <td>COC1=C(C=CC(=C1)/C=C/C(=O)CC(=O)/C=C/C2=CC(=C(...</td>\n",
       "    </tr>\n",
       "    <tr>\n",
       "      <th>A01_A02_RT_BC_76_Lig_BC_1</th>\n",
       "      <td>sciPlex_theis</td>\n",
       "      <td>0.381829</td>\n",
       "      <td>1025</td>\n",
       "      <td>RT_76</td>\n",
       "      <td>Givinostat</td>\n",
       "      <td>Dasatinib</td>\n",
       "      <td>G4</td>\n",
       "      <td>822</td>\n",
       "      <td>822</td>\n",
       "      <td>1025.0</td>\n",
       "      <td>...</td>\n",
       "      <td>0</td>\n",
       "      <td>Givinostat+Dasatinib</td>\n",
       "      <td>HDAC inhibitor</td>\n",
       "      <td>EGFR inhibitor</td>\n",
       "      <td>train</td>\n",
       "      <td>0</td>\n",
       "      <td>A549</td>\n",
       "      <td>A549</td>\n",
       "      <td>CCN(CC)CC1=CC2=C(C=C1)C=C(C=C2)COC(=O)NC3=CC=C...</td>\n",
       "      <td>CC1=C(C(=CC=C1)Cl)NC(=O)C2=CN=C(S2)NC3=CC(=NC(...</td>\n",
       "    </tr>\n",
       "    <tr>\n",
       "      <th>A01_A02_RT_BC_79_Lig_BC_57</th>\n",
       "      <td>sciPlex_theis</td>\n",
       "      <td>0.772226</td>\n",
       "      <td>2073</td>\n",
       "      <td>RT_79</td>\n",
       "      <td>SRT2104</td>\n",
       "      <td>Alvespimycin</td>\n",
       "      <td>G7</td>\n",
       "      <td>1459</td>\n",
       "      <td>1456</td>\n",
       "      <td>2070.0</td>\n",
       "      <td>...</td>\n",
       "      <td>2</td>\n",
       "      <td>SRT2104+Alvespimycin</td>\n",
       "      <td>Sirtuin inhibitor</td>\n",
       "      <td>Protein folding &amp; Protein degradation</td>\n",
       "      <td>ood</td>\n",
       "      <td>0</td>\n",
       "      <td>A549</td>\n",
       "      <td>A549</td>\n",
       "      <td>CC1=C(SC(=N1)C2=CN=CC=C2)C(=O)NC3=CC=CC=C3C4=C...</td>\n",
       "      <td>C[C@H]1C[C@@H]([C@@H]([C@H](/C=C(/[C@@H]([C@H]...</td>\n",
       "    </tr>\n",
       "    <tr>\n",
       "      <th>A01_A02_RT_BC_7_Lig_BC_54</th>\n",
       "      <td>sciPlex_theis</td>\n",
       "      <td>1.436050</td>\n",
       "      <td>3855</td>\n",
       "      <td>RT_7</td>\n",
       "      <td>Dacinostat</td>\n",
       "      <td>Dasatinib</td>\n",
       "      <td>A7</td>\n",
       "      <td>2456</td>\n",
       "      <td>2452</td>\n",
       "      <td>3851.0</td>\n",
       "      <td>...</td>\n",
       "      <td>1</td>\n",
       "      <td>Dacinostat+Dasatinib</td>\n",
       "      <td>HDAC inhibitor</td>\n",
       "      <td>EGFR inhibitor</td>\n",
       "      <td>train</td>\n",
       "      <td>0</td>\n",
       "      <td>A549</td>\n",
       "      <td>A549</td>\n",
       "      <td>C1=CC=C2C(=C1)C(=CN2)CCN(CCO)CC3=CC=C(C=C3)/C=...</td>\n",
       "      <td>CC1=C(C(=CC=C1)Cl)NC(=O)C2=CN=C(S2)NC3=CC(=NC(...</td>\n",
       "    </tr>\n",
       "    <tr>\n",
       "      <th>A01_A02_RT_BC_85_Lig_BC_15</th>\n",
       "      <td>sciPlex_theis</td>\n",
       "      <td>0.397847</td>\n",
       "      <td>1068</td>\n",
       "      <td>RT_85</td>\n",
       "      <td>Givinostat</td>\n",
       "      <td>Curcumin</td>\n",
       "      <td>H1</td>\n",
       "      <td>836</td>\n",
       "      <td>836</td>\n",
       "      <td>1068.0</td>\n",
       "      <td>...</td>\n",
       "      <td>0</td>\n",
       "      <td>Givinostat+Curcumin</td>\n",
       "      <td>HDAC inhibitor</td>\n",
       "      <td>Sirtuin inhibitor</td>\n",
       "      <td>train</td>\n",
       "      <td>0</td>\n",
       "      <td>A549</td>\n",
       "      <td>A549</td>\n",
       "      <td>CCN(CC)CC1=CC2=C(C=C1)C=C(C=C2)COC(=O)NC3=CC=C...</td>\n",
       "      <td>COC1=C(C=CC(=C1)/C=C/C(=O)CC(=O)/C=C/C2=CC(=C(...</td>\n",
       "    </tr>\n",
       "    <tr>\n",
       "      <th>A01_A02_RT_BC_88_Lig_BC_49</th>\n",
       "      <td>sciPlex_theis</td>\n",
       "      <td>0.730877</td>\n",
       "      <td>1962</td>\n",
       "      <td>RT_88</td>\n",
       "      <td>Givinostat</td>\n",
       "      <td>Crizotinib</td>\n",
       "      <td>H4</td>\n",
       "      <td>1396</td>\n",
       "      <td>1396</td>\n",
       "      <td>1962.0</td>\n",
       "      <td>...</td>\n",
       "      <td>0</td>\n",
       "      <td>Givinostat+Crizotinib</td>\n",
       "      <td>HDAC inhibitor</td>\n",
       "      <td>EGFR inhibitor</td>\n",
       "      <td>train</td>\n",
       "      <td>0</td>\n",
       "      <td>A549</td>\n",
       "      <td>A549</td>\n",
       "      <td>CCN(CC)CC1=CC2=C(C=C1)C=C(C=C2)COC(=O)NC3=CC=C...</td>\n",
       "      <td>C[C@H](C1=C(C=CC(=C1Cl)F)Cl)OC2=C(N=CC(=C2)C3=...</td>\n",
       "    </tr>\n",
       "    <tr>\n",
       "      <th>A01_A02_RT_BC_91_Lig_BC_13</th>\n",
       "      <td>sciPlex_theis</td>\n",
       "      <td>0.506995</td>\n",
       "      <td>1361</td>\n",
       "      <td>RT_91</td>\n",
       "      <td>SRT3025</td>\n",
       "      <td>Cediranib</td>\n",
       "      <td>H7</td>\n",
       "      <td>1072</td>\n",
       "      <td>1072</td>\n",
       "      <td>1361.0</td>\n",
       "      <td>...</td>\n",
       "      <td>0</td>\n",
       "      <td>SRT3025+Cediranib</td>\n",
       "      <td>Sirtuin inhibitor</td>\n",
       "      <td>EGFR inhibitor</td>\n",
       "      <td>train</td>\n",
       "      <td>0</td>\n",
       "      <td>A549</td>\n",
       "      <td>A549</td>\n",
       "      <td>COCCCC1=C(N=C(S1)C2=CC=CC=C2)C(=O)NC3=CC=CC=C3...</td>\n",
       "      <td>CC1=CC2=C(N1)C=CC(=C2F)OC3=NC=NC4=CC(=C(C=C43)...</td>\n",
       "    </tr>\n",
       "  </tbody>\n",
       "</table>\n",
       "<p>21 rows × 22 columns</p>\n",
       "</div>"
      ],
      "text/plain": [
       "                                   sample Size_Factor n.umi RT_well  \\\n",
       "Cell                                                                  \n",
       "A01_A02_RT_BC_13_Lig_BC_1   sciPlex_theis    1.083277  2908   RT_13   \n",
       "A01_A02_RT_BC_16_Lig_BC_2   sciPlex_theis    1.298964  3487   RT_16   \n",
       "A01_A02_RT_BC_19_Lig_BC_11  sciPlex_theis    0.587086  1576   RT_19   \n",
       "A01_A02_RT_BC_1_Lig_BC_3    sciPlex_theis    2.151281  5775    RT_1   \n",
       "A01_A02_RT_BC_25_Lig_BC_12  sciPlex_theis    0.534188  1434   RT_25   \n",
       "A01_A02_RT_BC_28_Lig_BC_12  sciPlex_theis    1.136175  3050   RT_28   \n",
       "A01_A02_RT_BC_31_Lig_BC_2   sciPlex_theis    2.073798  5567   RT_31   \n",
       "A01_A02_RT_BC_40_Lig_BC_18  sciPlex_theis    2.642630  7094   RT_40   \n",
       "A01_A02_RT_BC_49_Lig_BC_10  sciPlex_theis    2.406455  6460   RT_49   \n",
       "A01_A02_RT_BC_4_Lig_BC_15   sciPlex_theis    0.932036  2502    RT_4   \n",
       "A01_A02_RT_BC_52_Lig_BC_32  sciPlex_theis    2.259311  6065   RT_52   \n",
       "A01_A02_RT_BC_61_Lig_BC_1   sciPlex_theis    0.897019  2408   RT_61   \n",
       "A01_A02_RT_BC_64_Lig_BC_29  sciPlex_theis    0.473096  1270   RT_64   \n",
       "A01_A02_RT_BC_67_Lig_BC_36  sciPlex_theis    1.218873  3272   RT_67   \n",
       "A01_A02_RT_BC_73_Lig_BC_11  sciPlex_theis    0.539404  1448   RT_73   \n",
       "A01_A02_RT_BC_76_Lig_BC_1   sciPlex_theis    0.381829  1025   RT_76   \n",
       "A01_A02_RT_BC_79_Lig_BC_57  sciPlex_theis    0.772226  2073   RT_79   \n",
       "A01_A02_RT_BC_7_Lig_BC_54   sciPlex_theis    1.436050  3855    RT_7   \n",
       "A01_A02_RT_BC_85_Lig_BC_15  sciPlex_theis    0.397847  1068   RT_85   \n",
       "A01_A02_RT_BC_88_Lig_BC_49  sciPlex_theis    0.730877  1962   RT_88   \n",
       "A01_A02_RT_BC_91_Lig_BC_13  sciPlex_theis    0.506995  1361   RT_91   \n",
       "\n",
       "                                   Drug1         Drug2 Well n_genes  \\\n",
       "Cell                                                                  \n",
       "A01_A02_RT_BC_13_Lig_BC_1      Cediranib     PCI-34051   B1    1896   \n",
       "A01_A02_RT_BC_16_Lig_BC_2     Givinostat       SRT1720   B4    2154   \n",
       "A01_A02_RT_BC_19_Lig_BC_11  Panobinostat       SRT3025   B7    1131   \n",
       "A01_A02_RT_BC_1_Lig_BC_3    Panobinostat     PCI-34051   A1    3139   \n",
       "A01_A02_RT_BC_25_Lig_BC_12    Dacinostat     PCI-34051   C1    1015   \n",
       "A01_A02_RT_BC_28_Lig_BC_12  Panobinostat     Sorafenib   C4    2015   \n",
       "A01_A02_RT_BC_31_Lig_BC_2     Givinostat     Cediranib   C7    3103   \n",
       "A01_A02_RT_BC_40_Lig_BC_18  Panobinostat     Dasatinib   D4    3767   \n",
       "A01_A02_RT_BC_49_Lig_BC_10  Panobinostat       SRT2104   E1    3453   \n",
       "A01_A02_RT_BC_4_Lig_BC_15   Panobinostat       SRT1720   A4    1649   \n",
       "A01_A02_RT_BC_52_Lig_BC_32  Panobinostat    Crizotinib   E4    3262   \n",
       "A01_A02_RT_BC_61_Lig_BC_1     Givinostat       SRT2104   F1    1607   \n",
       "A01_A02_RT_BC_64_Lig_BC_29    Givinostat     Sorafenib   F4     977   \n",
       "A01_A02_RT_BC_67_Lig_BC_36  Panobinostat  Alvespimycin   F7    2008   \n",
       "A01_A02_RT_BC_73_Lig_BC_11  Panobinostat      Curcumin   G1    1114   \n",
       "A01_A02_RT_BC_76_Lig_BC_1     Givinostat     Dasatinib   G4     822   \n",
       "A01_A02_RT_BC_79_Lig_BC_57       SRT2104  Alvespimycin   G7    1459   \n",
       "A01_A02_RT_BC_7_Lig_BC_54     Dacinostat     Dasatinib   A7    2456   \n",
       "A01_A02_RT_BC_85_Lig_BC_15    Givinostat      Curcumin   H1     836   \n",
       "A01_A02_RT_BC_88_Lig_BC_49    Givinostat    Crizotinib   H4    1396   \n",
       "A01_A02_RT_BC_91_Lig_BC_13       SRT3025     Cediranib   H7    1072   \n",
       "\n",
       "                           n_genes_by_counts total_counts  ... leiden  \\\n",
       "Cell                                                       ...          \n",
       "A01_A02_RT_BC_13_Lig_BC_1               1895       2907.0  ...      0   \n",
       "A01_A02_RT_BC_16_Lig_BC_2               2152       3485.0  ...      0   \n",
       "A01_A02_RT_BC_19_Lig_BC_11              1129       1574.0  ...      1   \n",
       "A01_A02_RT_BC_1_Lig_BC_3                3138       5774.0  ...      1   \n",
       "A01_A02_RT_BC_25_Lig_BC_12              1014       1433.0  ...      1   \n",
       "A01_A02_RT_BC_28_Lig_BC_12              2015       3050.0  ...      1   \n",
       "A01_A02_RT_BC_31_Lig_BC_2               3100       5564.0  ...      0   \n",
       "A01_A02_RT_BC_40_Lig_BC_18              3760       7087.0  ...      1   \n",
       "A01_A02_RT_BC_49_Lig_BC_10              3451       6458.0  ...      1   \n",
       "A01_A02_RT_BC_4_Lig_BC_15               1649       2502.0  ...      1   \n",
       "A01_A02_RT_BC_52_Lig_BC_32              3260       6063.0  ...      1   \n",
       "A01_A02_RT_BC_61_Lig_BC_1               1607       2408.0  ...      0   \n",
       "A01_A02_RT_BC_64_Lig_BC_29               977       1270.0  ...      0   \n",
       "A01_A02_RT_BC_67_Lig_BC_36              2007       3271.0  ...      3   \n",
       "A01_A02_RT_BC_73_Lig_BC_11              1113       1447.0  ...      1   \n",
       "A01_A02_RT_BC_76_Lig_BC_1                822       1025.0  ...      0   \n",
       "A01_A02_RT_BC_79_Lig_BC_57              1456       2070.0  ...      2   \n",
       "A01_A02_RT_BC_7_Lig_BC_54               2452       3851.0  ...      1   \n",
       "A01_A02_RT_BC_85_Lig_BC_15               836       1068.0  ...      0   \n",
       "A01_A02_RT_BC_88_Lig_BC_49              1396       1962.0  ...      0   \n",
       "A01_A02_RT_BC_91_Lig_BC_13              1072       1361.0  ...      0   \n",
       "\n",
       "                                            condition           pathway1  \\\n",
       "Cell                                                                       \n",
       "A01_A02_RT_BC_13_Lig_BC_1         Cediranib+PCI-34051     EGFR inhibitor   \n",
       "A01_A02_RT_BC_16_Lig_BC_2          Givinostat+SRT1720     HDAC inhibitor   \n",
       "A01_A02_RT_BC_19_Lig_BC_11       Panobinostat+SRT3025     HDAC inhibitor   \n",
       "A01_A02_RT_BC_1_Lig_BC_3       Panobinostat+PCI-34051     HDAC inhibitor   \n",
       "A01_A02_RT_BC_25_Lig_BC_12       Dacinostat+PCI-34051     HDAC inhibitor   \n",
       "A01_A02_RT_BC_28_Lig_BC_12     Panobinostat+Sorafenib     HDAC inhibitor   \n",
       "A01_A02_RT_BC_31_Lig_BC_2        Givinostat+Cediranib     HDAC inhibitor   \n",
       "A01_A02_RT_BC_40_Lig_BC_18     Panobinostat+Dasatinib     HDAC inhibitor   \n",
       "A01_A02_RT_BC_49_Lig_BC_10       Panobinostat+SRT2104     HDAC inhibitor   \n",
       "A01_A02_RT_BC_4_Lig_BC_15        Panobinostat+SRT1720     HDAC inhibitor   \n",
       "A01_A02_RT_BC_52_Lig_BC_32    Panobinostat+Crizotinib     HDAC inhibitor   \n",
       "A01_A02_RT_BC_61_Lig_BC_1          Givinostat+SRT2104     HDAC inhibitor   \n",
       "A01_A02_RT_BC_64_Lig_BC_29       Givinostat+Sorafenib     HDAC inhibitor   \n",
       "A01_A02_RT_BC_67_Lig_BC_36  Panobinostat+Alvespimycin     HDAC inhibitor   \n",
       "A01_A02_RT_BC_73_Lig_BC_11      Panobinostat+Curcumin     HDAC inhibitor   \n",
       "A01_A02_RT_BC_76_Lig_BC_1        Givinostat+Dasatinib     HDAC inhibitor   \n",
       "A01_A02_RT_BC_79_Lig_BC_57       SRT2104+Alvespimycin  Sirtuin inhibitor   \n",
       "A01_A02_RT_BC_7_Lig_BC_54        Dacinostat+Dasatinib     HDAC inhibitor   \n",
       "A01_A02_RT_BC_85_Lig_BC_15        Givinostat+Curcumin     HDAC inhibitor   \n",
       "A01_A02_RT_BC_88_Lig_BC_49      Givinostat+Crizotinib     HDAC inhibitor   \n",
       "A01_A02_RT_BC_91_Lig_BC_13          SRT3025+Cediranib  Sirtuin inhibitor   \n",
       "\n",
       "                                                         pathway2  split  \\\n",
       "Cell                                                                       \n",
       "A01_A02_RT_BC_13_Lig_BC_1                          HDAC inhibitor   test   \n",
       "A01_A02_RT_BC_16_Lig_BC_2                       Sirtuin inhibitor  train   \n",
       "A01_A02_RT_BC_19_Lig_BC_11                      Sirtuin inhibitor  train   \n",
       "A01_A02_RT_BC_1_Lig_BC_3                           HDAC inhibitor  train   \n",
       "A01_A02_RT_BC_25_Lig_BC_12                         HDAC inhibitor  train   \n",
       "A01_A02_RT_BC_28_Lig_BC_12                         EGFR inhibitor  train   \n",
       "A01_A02_RT_BC_31_Lig_BC_2                          EGFR inhibitor    ood   \n",
       "A01_A02_RT_BC_40_Lig_BC_18                         EGFR inhibitor  train   \n",
       "A01_A02_RT_BC_49_Lig_BC_10                      Sirtuin inhibitor    ood   \n",
       "A01_A02_RT_BC_4_Lig_BC_15                       Sirtuin inhibitor  train   \n",
       "A01_A02_RT_BC_52_Lig_BC_32                         EGFR inhibitor   test   \n",
       "A01_A02_RT_BC_61_Lig_BC_1                       Sirtuin inhibitor  train   \n",
       "A01_A02_RT_BC_64_Lig_BC_29                         EGFR inhibitor   test   \n",
       "A01_A02_RT_BC_67_Lig_BC_36  Protein folding & Protein degradation    ood   \n",
       "A01_A02_RT_BC_73_Lig_BC_11                      Sirtuin inhibitor  train   \n",
       "A01_A02_RT_BC_76_Lig_BC_1                          EGFR inhibitor  train   \n",
       "A01_A02_RT_BC_79_Lig_BC_57  Protein folding & Protein degradation    ood   \n",
       "A01_A02_RT_BC_7_Lig_BC_54                          EGFR inhibitor  train   \n",
       "A01_A02_RT_BC_85_Lig_BC_15                      Sirtuin inhibitor  train   \n",
       "A01_A02_RT_BC_88_Lig_BC_49                         EGFR inhibitor  train   \n",
       "A01_A02_RT_BC_91_Lig_BC_13                         EGFR inhibitor  train   \n",
       "\n",
       "                           control cell_type cell_line  \\\n",
       "Cell                                                     \n",
       "A01_A02_RT_BC_13_Lig_BC_1        0      A549      A549   \n",
       "A01_A02_RT_BC_16_Lig_BC_2        0      A549      A549   \n",
       "A01_A02_RT_BC_19_Lig_BC_11       0      A549      A549   \n",
       "A01_A02_RT_BC_1_Lig_BC_3         0      A549      A549   \n",
       "A01_A02_RT_BC_25_Lig_BC_12       0      A549      A549   \n",
       "A01_A02_RT_BC_28_Lig_BC_12       0      A549      A549   \n",
       "A01_A02_RT_BC_31_Lig_BC_2        0      A549      A549   \n",
       "A01_A02_RT_BC_40_Lig_BC_18       0      A549      A549   \n",
       "A01_A02_RT_BC_49_Lig_BC_10       0      A549      A549   \n",
       "A01_A02_RT_BC_4_Lig_BC_15        0      A549      A549   \n",
       "A01_A02_RT_BC_52_Lig_BC_32       0      A549      A549   \n",
       "A01_A02_RT_BC_61_Lig_BC_1        0      A549      A549   \n",
       "A01_A02_RT_BC_64_Lig_BC_29       0      A549      A549   \n",
       "A01_A02_RT_BC_67_Lig_BC_36       0      A549      A549   \n",
       "A01_A02_RT_BC_73_Lig_BC_11       0      A549      A549   \n",
       "A01_A02_RT_BC_76_Lig_BC_1        0      A549      A549   \n",
       "A01_A02_RT_BC_79_Lig_BC_57       0      A549      A549   \n",
       "A01_A02_RT_BC_7_Lig_BC_54        0      A549      A549   \n",
       "A01_A02_RT_BC_85_Lig_BC_15       0      A549      A549   \n",
       "A01_A02_RT_BC_88_Lig_BC_49       0      A549      A549   \n",
       "A01_A02_RT_BC_91_Lig_BC_13       0      A549      A549   \n",
       "\n",
       "                                                                smiles_drug_1  \\\n",
       "Cell                                                                            \n",
       "A01_A02_RT_BC_13_Lig_BC_1   CC1=CC2=C(N1)C=CC(=C2F)OC3=NC=NC4=CC(=C(C=C43)...   \n",
       "A01_A02_RT_BC_16_Lig_BC_2   CCN(CC)CC1=CC2=C(C=C1)C=C(C=C2)COC(=O)NC3=CC=C...   \n",
       "A01_A02_RT_BC_19_Lig_BC_11  CC1=C(C2=CC=CC=C2N1)CCNCC3=CC=C(C=C3)/C=C/C(=O)NO   \n",
       "A01_A02_RT_BC_1_Lig_BC_3    CC1=C(C2=CC=CC=C2N1)CCNCC3=CC=C(C=C3)/C=C/C(=O)NO   \n",
       "A01_A02_RT_BC_25_Lig_BC_12  C1=CC=C2C(=C1)C(=CN2)CCN(CCO)CC3=CC=C(C=C3)/C=...   \n",
       "A01_A02_RT_BC_28_Lig_BC_12  CC1=C(C2=CC=CC=C2N1)CCNCC3=CC=C(C=C3)/C=C/C(=O)NO   \n",
       "A01_A02_RT_BC_31_Lig_BC_2   CCN(CC)CC1=CC2=C(C=C1)C=C(C=C2)COC(=O)NC3=CC=C...   \n",
       "A01_A02_RT_BC_40_Lig_BC_18  CC1=C(C2=CC=CC=C2N1)CCNCC3=CC=C(C=C3)/C=C/C(=O)NO   \n",
       "A01_A02_RT_BC_49_Lig_BC_10  CC1=C(C2=CC=CC=C2N1)CCNCC3=CC=C(C=C3)/C=C/C(=O)NO   \n",
       "A01_A02_RT_BC_4_Lig_BC_15   CC1=C(C2=CC=CC=C2N1)CCNCC3=CC=C(C=C3)/C=C/C(=O)NO   \n",
       "A01_A02_RT_BC_52_Lig_BC_32  CC1=C(C2=CC=CC=C2N1)CCNCC3=CC=C(C=C3)/C=C/C(=O)NO   \n",
       "A01_A02_RT_BC_61_Lig_BC_1   CCN(CC)CC1=CC2=C(C=C1)C=C(C=C2)COC(=O)NC3=CC=C...   \n",
       "A01_A02_RT_BC_64_Lig_BC_29  CCN(CC)CC1=CC2=C(C=C1)C=C(C=C2)COC(=O)NC3=CC=C...   \n",
       "A01_A02_RT_BC_67_Lig_BC_36  CC1=C(C2=CC=CC=C2N1)CCNCC3=CC=C(C=C3)/C=C/C(=O)NO   \n",
       "A01_A02_RT_BC_73_Lig_BC_11  CC1=C(C2=CC=CC=C2N1)CCNCC3=CC=C(C=C3)/C=C/C(=O)NO   \n",
       "A01_A02_RT_BC_76_Lig_BC_1   CCN(CC)CC1=CC2=C(C=C1)C=C(C=C2)COC(=O)NC3=CC=C...   \n",
       "A01_A02_RT_BC_79_Lig_BC_57  CC1=C(SC(=N1)C2=CN=CC=C2)C(=O)NC3=CC=CC=C3C4=C...   \n",
       "A01_A02_RT_BC_7_Lig_BC_54   C1=CC=C2C(=C1)C(=CN2)CCN(CCO)CC3=CC=C(C=C3)/C=...   \n",
       "A01_A02_RT_BC_85_Lig_BC_15  CCN(CC)CC1=CC2=C(C=C1)C=C(C=C2)COC(=O)NC3=CC=C...   \n",
       "A01_A02_RT_BC_88_Lig_BC_49  CCN(CC)CC1=CC2=C(C=C1)C=C(C=C2)COC(=O)NC3=CC=C...   \n",
       "A01_A02_RT_BC_91_Lig_BC_13  COCCCC1=C(N=C(S1)C2=CC=CC=C2)C(=O)NC3=CC=CC=C3...   \n",
       "\n",
       "                                                                smiles_drug_2  \n",
       "Cell                                                                           \n",
       "A01_A02_RT_BC_13_Lig_BC_1          COC1=CC=C(C=C1)CN2C=CC3=C2C=C(C=C3)C(=O)NO  \n",
       "A01_A02_RT_BC_16_Lig_BC_2   C1CN(CCN1)CC2=CSC3=NC(=CN23)C4=CC=CC=C4NC(=O)C...  \n",
       "A01_A02_RT_BC_19_Lig_BC_11  COCCCC1=C(N=C(S1)C2=CC=CC=C2)C(=O)NC3=CC=CC=C3...  \n",
       "A01_A02_RT_BC_1_Lig_BC_3           COC1=CC=C(C=C1)CN2C=CC3=C2C=C(C=C3)C(=O)NO  \n",
       "A01_A02_RT_BC_25_Lig_BC_12         COC1=CC=C(C=C1)CN2C=CC3=C2C=C(C=C3)C(=O)NO  \n",
       "A01_A02_RT_BC_28_Lig_BC_12  CNC(=O)C1=NC=CC(=C1)OC2=CC=C(C=C2)NC(=O)NC3=CC...  \n",
       "A01_A02_RT_BC_31_Lig_BC_2   CC1=CC2=C(N1)C=CC(=C2F)OC3=NC=NC4=CC(=C(C=C43)...  \n",
       "A01_A02_RT_BC_40_Lig_BC_18  CC1=C(C(=CC=C1)Cl)NC(=O)C2=CN=C(S2)NC3=CC(=NC(...  \n",
       "A01_A02_RT_BC_49_Lig_BC_10  CC1=C(SC(=N1)C2=CN=CC=C2)C(=O)NC3=CC=CC=C3C4=C...  \n",
       "A01_A02_RT_BC_4_Lig_BC_15   C1CN(CCN1)CC2=CSC3=NC(=CN23)C4=CC=CC=C4NC(=O)C...  \n",
       "A01_A02_RT_BC_52_Lig_BC_32  C[C@H](C1=C(C=CC(=C1Cl)F)Cl)OC2=C(N=CC(=C2)C3=...  \n",
       "A01_A02_RT_BC_61_Lig_BC_1   CC1=C(SC(=N1)C2=CN=CC=C2)C(=O)NC3=CC=CC=C3C4=C...  \n",
       "A01_A02_RT_BC_64_Lig_BC_29  CNC(=O)C1=NC=CC(=C1)OC2=CC=C(C=C2)NC(=O)NC3=CC...  \n",
       "A01_A02_RT_BC_67_Lig_BC_36  C[C@H]1C[C@@H]([C@@H]([C@H](/C=C(/[C@@H]([C@H]...  \n",
       "A01_A02_RT_BC_73_Lig_BC_11  COC1=C(C=CC(=C1)/C=C/C(=O)CC(=O)/C=C/C2=CC(=C(...  \n",
       "A01_A02_RT_BC_76_Lig_BC_1   CC1=C(C(=CC=C1)Cl)NC(=O)C2=CN=C(S2)NC3=CC(=NC(...  \n",
       "A01_A02_RT_BC_79_Lig_BC_57  C[C@H]1C[C@@H]([C@@H]([C@H](/C=C(/[C@@H]([C@H]...  \n",
       "A01_A02_RT_BC_7_Lig_BC_54   CC1=C(C(=CC=C1)Cl)NC(=O)C2=CN=C(S2)NC3=CC(=NC(...  \n",
       "A01_A02_RT_BC_85_Lig_BC_15  COC1=C(C=CC(=C1)/C=C/C(=O)CC(=O)/C=C/C2=CC(=C(...  \n",
       "A01_A02_RT_BC_88_Lig_BC_49  C[C@H](C1=C(C=CC(=C1Cl)F)Cl)OC2=C(N=CC(=C2)C3=...  \n",
       "A01_A02_RT_BC_91_Lig_BC_13  CC1=CC2=C(N1)C=CC(=C2F)OC3=NC=NC4=CC(=C(C=C43)...  \n",
       "\n",
       "[21 rows x 22 columns]"
      ]
     },
     "execution_count": 39,
     "metadata": {},
     "output_type": "execute_result"
    }
   ],
   "source": [
    "filtered_df"
   ]
  },
  {
   "cell_type": "code",
   "execution_count": 40,
   "id": "b4da928e-91da-446d-808c-0a0e78be72d4",
   "metadata": {},
   "outputs": [
    {
     "name": "stderr",
     "output_type": "stream",
     "text": [
      "2024-04-17 13:55:56.546644: W external/xla/xla/service/gpu/nvptx_compiler.cc:718] The NVIDIA driver's CUDA version is 12.3 which is older than the ptxas CUDA version (12.4.131). Because the driver is older than the ptxas version, XLA is disabling parallel compilation, which may slow down compilation. You should update your NVIDIA driver or use the NVIDIA-provided CUDA forward compatibility packages.\n"
     ]
    }
   ],
   "source": [
    "from ott.geometry import costs, pointcloud\n",
    "from ott.tools.sinkhorn_divergence import sinkhorn_divergence\n",
    "\n",
    "pert_effects = {}\n",
    "sc.pp.pca(adata)\n",
    "control = adata[adata.obs[\"condition\"] == \"control\"].obsm[\"X_pca\"]\n",
    "for c in filtered_df[\"condition\"].unique():\n",
    "    if \"control\" in c:  # we only want to have combinations of drugs as potential OOD\n",
    "        continue\n",
    "    pert_effects[c] = float(\n",
    "        sinkhorn_divergence(\n",
    "            pointcloud.PointCloud,\n",
    "            x=control,\n",
    "            y=adata[adata.obs[\"condition\"] == c].obsm[\"X_pca\"],\n",
    "            cost_fn=costs.SqEuclidean(),\n",
    "            epsilon=1.0,\n",
    "            scale_cost=1.0,\n",
    "        ).divergence\n",
    "    )"
   ]
  },
  {
   "cell_type": "code",
   "execution_count": 41,
   "id": "308578a4-6a31-4628-9efb-51cd35a64dca",
   "metadata": {},
   "outputs": [],
   "source": [
    "perts = pert_effects.keys()\n",
    "vals = pert_effects.values()"
   ]
  },
  {
   "cell_type": "code",
   "execution_count": 42,
   "id": "8ce9dc3b-221e-4cbf-b210-d5235fcea20a",
   "metadata": {},
   "outputs": [],
   "source": [
    "df_effects = pd.DataFrame({\"conditions\": perts, \"sinkhorn_div\": vals})"
   ]
  },
  {
   "cell_type": "code",
   "execution_count": 43,
   "id": "0424c4a2-5898-4133-86df-04aa5af5bb3e",
   "metadata": {},
   "outputs": [],
   "source": [
    "df_effects_sorted = df_effects.sort_values(\"sinkhorn_div\")"
   ]
  },
  {
   "cell_type": "code",
   "execution_count": 44,
   "id": "1ee2b304-8307-403a-b028-ee11f3f27d2a",
   "metadata": {},
   "outputs": [
    {
     "data": {
      "text/html": [
       "<div>\n",
       "<style scoped>\n",
       "    .dataframe tbody tr th:only-of-type {\n",
       "        vertical-align: middle;\n",
       "    }\n",
       "\n",
       "    .dataframe tbody tr th {\n",
       "        vertical-align: top;\n",
       "    }\n",
       "\n",
       "    .dataframe thead th {\n",
       "        text-align: right;\n",
       "    }\n",
       "</style>\n",
       "<table border=\"1\" class=\"dataframe\">\n",
       "  <thead>\n",
       "    <tr style=\"text-align: right;\">\n",
       "      <th></th>\n",
       "      <th>conditions</th>\n",
       "      <th>sinkhorn_div</th>\n",
       "    </tr>\n",
       "  </thead>\n",
       "  <tbody>\n",
       "    <tr>\n",
       "      <th>0</th>\n",
       "      <td>Cediranib+PCI-34051</td>\n",
       "      <td>17.821072</td>\n",
       "    </tr>\n",
       "    <tr>\n",
       "      <th>20</th>\n",
       "      <td>SRT3025+Cediranib</td>\n",
       "      <td>18.272712</td>\n",
       "    </tr>\n",
       "    <tr>\n",
       "      <th>11</th>\n",
       "      <td>Givinostat+SRT2104</td>\n",
       "      <td>23.134429</td>\n",
       "    </tr>\n",
       "    <tr>\n",
       "      <th>18</th>\n",
       "      <td>Givinostat+Curcumin</td>\n",
       "      <td>23.330440</td>\n",
       "    </tr>\n",
       "    <tr>\n",
       "      <th>1</th>\n",
       "      <td>Givinostat+SRT1720</td>\n",
       "      <td>23.480160</td>\n",
       "    </tr>\n",
       "    <tr>\n",
       "      <th>6</th>\n",
       "      <td>Givinostat+Cediranib</td>\n",
       "      <td>24.296336</td>\n",
       "    </tr>\n",
       "    <tr>\n",
       "      <th>15</th>\n",
       "      <td>Givinostat+Dasatinib</td>\n",
       "      <td>24.396876</td>\n",
       "    </tr>\n",
       "    <tr>\n",
       "      <th>19</th>\n",
       "      <td>Givinostat+Crizotinib</td>\n",
       "      <td>24.981733</td>\n",
       "    </tr>\n",
       "    <tr>\n",
       "      <th>16</th>\n",
       "      <td>SRT2104+Alvespimycin</td>\n",
       "      <td>30.070134</td>\n",
       "    </tr>\n",
       "    <tr>\n",
       "      <th>12</th>\n",
       "      <td>Givinostat+Sorafenib</td>\n",
       "      <td>36.192255</td>\n",
       "    </tr>\n",
       "    <tr>\n",
       "      <th>17</th>\n",
       "      <td>Dacinostat+Dasatinib</td>\n",
       "      <td>62.941853</td>\n",
       "    </tr>\n",
       "    <tr>\n",
       "      <th>4</th>\n",
       "      <td>Dacinostat+PCI-34051</td>\n",
       "      <td>64.367214</td>\n",
       "    </tr>\n",
       "    <tr>\n",
       "      <th>9</th>\n",
       "      <td>Panobinostat+SRT1720</td>\n",
       "      <td>82.867790</td>\n",
       "    </tr>\n",
       "    <tr>\n",
       "      <th>8</th>\n",
       "      <td>Panobinostat+SRT2104</td>\n",
       "      <td>90.393034</td>\n",
       "    </tr>\n",
       "    <tr>\n",
       "      <th>14</th>\n",
       "      <td>Panobinostat+Curcumin</td>\n",
       "      <td>91.615563</td>\n",
       "    </tr>\n",
       "    <tr>\n",
       "      <th>7</th>\n",
       "      <td>Panobinostat+Dasatinib</td>\n",
       "      <td>91.864062</td>\n",
       "    </tr>\n",
       "    <tr>\n",
       "      <th>3</th>\n",
       "      <td>Panobinostat+PCI-34051</td>\n",
       "      <td>97.108386</td>\n",
       "    </tr>\n",
       "    <tr>\n",
       "      <th>2</th>\n",
       "      <td>Panobinostat+SRT3025</td>\n",
       "      <td>98.316755</td>\n",
       "    </tr>\n",
       "    <tr>\n",
       "      <th>5</th>\n",
       "      <td>Panobinostat+Sorafenib</td>\n",
       "      <td>98.772841</td>\n",
       "    </tr>\n",
       "    <tr>\n",
       "      <th>13</th>\n",
       "      <td>Panobinostat+Alvespimycin</td>\n",
       "      <td>100.527654</td>\n",
       "    </tr>\n",
       "    <tr>\n",
       "      <th>10</th>\n",
       "      <td>Panobinostat+Crizotinib</td>\n",
       "      <td>107.466211</td>\n",
       "    </tr>\n",
       "  </tbody>\n",
       "</table>\n",
       "</div>"
      ],
      "text/plain": [
       "                   conditions  sinkhorn_div\n",
       "0         Cediranib+PCI-34051     17.821072\n",
       "20          SRT3025+Cediranib     18.272712\n",
       "11         Givinostat+SRT2104     23.134429\n",
       "18        Givinostat+Curcumin     23.330440\n",
       "1          Givinostat+SRT1720     23.480160\n",
       "6        Givinostat+Cediranib     24.296336\n",
       "15       Givinostat+Dasatinib     24.396876\n",
       "19      Givinostat+Crizotinib     24.981733\n",
       "16       SRT2104+Alvespimycin     30.070134\n",
       "12       Givinostat+Sorafenib     36.192255\n",
       "17       Dacinostat+Dasatinib     62.941853\n",
       "4        Dacinostat+PCI-34051     64.367214\n",
       "9        Panobinostat+SRT1720     82.867790\n",
       "8        Panobinostat+SRT2104     90.393034\n",
       "14      Panobinostat+Curcumin     91.615563\n",
       "7      Panobinostat+Dasatinib     91.864062\n",
       "3      Panobinostat+PCI-34051     97.108386\n",
       "2        Panobinostat+SRT3025     98.316755\n",
       "5      Panobinostat+Sorafenib     98.772841\n",
       "13  Panobinostat+Alvespimycin    100.527654\n",
       "10    Panobinostat+Crizotinib    107.466211"
      ]
     },
     "execution_count": 44,
     "metadata": {},
     "output_type": "execute_result"
    }
   ],
   "source": [
    "df_effects_sorted"
   ]
  },
  {
   "cell_type": "code",
   "execution_count": 45,
   "id": "86f21f9b-64cc-441c-8047-61cb52ad6160",
   "metadata": {},
   "outputs": [],
   "source": [
    "k_ood_drugs = 6"
   ]
  },
  {
   "cell_type": "code",
   "execution_count": 46,
   "id": "e9aad445-c5ef-464a-a5bb-39e941537358",
   "metadata": {},
   "outputs": [],
   "source": [
    "indices = np.arange(len(df_effects_sorted))"
   ]
  },
  {
   "cell_type": "code",
   "execution_count": 47,
   "id": "ff162a2a-e633-4811-b246-6e23b8a7679f",
   "metadata": {},
   "outputs": [
    {
     "data": {
      "text/plain": [
       "3.5"
      ]
     },
     "execution_count": 47,
     "metadata": {},
     "output_type": "execute_result"
    }
   ],
   "source": [
    "len(df_effects_sorted) / k_ood_drugs"
   ]
  },
  {
   "cell_type": "code",
   "execution_count": 48,
   "id": "4315d85b-d16c-4a40-948c-c73693827af2",
   "metadata": {},
   "outputs": [],
   "source": [
    "drugs_ood = df_effects_sorted.iloc[indices[::4]]"
   ]
  },
  {
   "cell_type": "code",
   "execution_count": 49,
   "id": "88145d74-c623-4029-a585-1aba769a5770",
   "metadata": {},
   "outputs": [
    {
     "data": {
      "text/html": [
       "<div>\n",
       "<style scoped>\n",
       "    .dataframe tbody tr th:only-of-type {\n",
       "        vertical-align: middle;\n",
       "    }\n",
       "\n",
       "    .dataframe tbody tr th {\n",
       "        vertical-align: top;\n",
       "    }\n",
       "\n",
       "    .dataframe thead th {\n",
       "        text-align: right;\n",
       "    }\n",
       "</style>\n",
       "<table border=\"1\" class=\"dataframe\">\n",
       "  <thead>\n",
       "    <tr style=\"text-align: right;\">\n",
       "      <th></th>\n",
       "      <th>conditions</th>\n",
       "      <th>sinkhorn_div</th>\n",
       "    </tr>\n",
       "  </thead>\n",
       "  <tbody>\n",
       "    <tr>\n",
       "      <th>0</th>\n",
       "      <td>Cediranib+PCI-34051</td>\n",
       "      <td>17.821072</td>\n",
       "    </tr>\n",
       "    <tr>\n",
       "      <th>1</th>\n",
       "      <td>Givinostat+SRT1720</td>\n",
       "      <td>23.480160</td>\n",
       "    </tr>\n",
       "    <tr>\n",
       "      <th>16</th>\n",
       "      <td>SRT2104+Alvespimycin</td>\n",
       "      <td>30.070134</td>\n",
       "    </tr>\n",
       "    <tr>\n",
       "      <th>9</th>\n",
       "      <td>Panobinostat+SRT1720</td>\n",
       "      <td>82.867790</td>\n",
       "    </tr>\n",
       "    <tr>\n",
       "      <th>3</th>\n",
       "      <td>Panobinostat+PCI-34051</td>\n",
       "      <td>97.108386</td>\n",
       "    </tr>\n",
       "    <tr>\n",
       "      <th>10</th>\n",
       "      <td>Panobinostat+Crizotinib</td>\n",
       "      <td>107.466211</td>\n",
       "    </tr>\n",
       "  </tbody>\n",
       "</table>\n",
       "</div>"
      ],
      "text/plain": [
       "                 conditions  sinkhorn_div\n",
       "0       Cediranib+PCI-34051     17.821072\n",
       "1        Givinostat+SRT1720     23.480160\n",
       "16     SRT2104+Alvespimycin     30.070134\n",
       "9      Panobinostat+SRT1720     82.867790\n",
       "3    Panobinostat+PCI-34051     97.108386\n",
       "10  Panobinostat+Crizotinib    107.466211"
      ]
     },
     "execution_count": 49,
     "metadata": {},
     "output_type": "execute_result"
    }
   ],
   "source": [
    "drugs_ood"
   ]
  },
  {
   "cell_type": "code",
   "execution_count": 50,
   "id": "fa4ef29a-68aa-4434-af26-45b99246a9ec",
   "metadata": {},
   "outputs": [],
   "source": [
    "ood_conditions = drugs_ood.conditions.values"
   ]
  },
  {
   "cell_type": "code",
   "execution_count": 51,
   "id": "d51f8f80-2b3a-4670-af41-13d2b44ae37a",
   "metadata": {},
   "outputs": [],
   "source": [
    "adata.obs[\"ood\"] = adata.obs.apply(lambda x: x[\"condition\"] if x[\"condition\"] in ood_conditions else \"not ood\", axis=1)\n",
    "adata.obs[\"is_ood\"] = adata.obs.apply(lambda x: x[\"condition\"] in ood_conditions, axis=1)\n",
    "adata.obs[\"ood\"] = adata.obs[\"ood\"].astype(\"category\")"
   ]
  },
  {
   "cell_type": "code",
   "execution_count": 52,
   "id": "0b1bee4b-f6e9-406c-abd8-95c4de44a87c",
   "metadata": {},
   "outputs": [
    {
     "name": "stderr",
     "output_type": "stream",
     "text": [
      "/home/icb/dominik.klein/mambaforge/envs/ot_pert_genot/lib/python3.12/site-packages/scanpy/plotting/_tools/scatterplots.py:1234: FutureWarning: The default value of 'ignore' for the `na_action` parameter in pandas.Categorical.map is deprecated and will be changed to 'None' in a future version. Please set na_action to the desired value to avoid seeing this warning\n",
      "  color_vector = pd.Categorical(values.map(color_map))\n",
      "/home/icb/dominik.klein/mambaforge/envs/ot_pert_genot/lib/python3.12/site-packages/scanpy/plotting/_tools/scatterplots.py:394: UserWarning: No data for colormapping provided via 'c'. Parameters 'cmap' will be ignored\n",
      "  cax = scatter(\n"
     ]
    },
    {
     "data": {
      "image/png": "[encoded data removed]",
      "text/plain": [
       "<Figure size 640x480 with 1 Axes>"
      ]
     },
     "metadata": {},
     "output_type": "display_data"
    }
   ],
   "source": [
    "sc.pl.umap(adata, color=\"ood\")"
   ]
  },
  {
   "cell_type": "code",
   "execution_count": 53,
   "id": "a412e4f4-812a-4b6e-9eff-b4eb739a19e0",
   "metadata": {},
   "outputs": [],
   "source": [
    "adata_ood = adata[adata.obs[\"is_ood\"]]"
   ]
  },
  {
   "cell_type": "code",
   "execution_count": 54,
   "id": "65cbba0f-6e94-4054-90da-7ccdb9cbed4e",
   "metadata": {},
   "outputs": [],
   "source": [
    "ood_unique_drugs = list(adata_ood.obs[\"Drug1\"].cat.categories)\n",
    "ood_unique_drugs.extend(list(adata_ood.obs[\"Drug2\"].cat.categories))"
   ]
  },
  {
   "cell_type": "code",
   "execution_count": 55,
   "id": "f937a28a-2b26-494b-bb8a-6675377ad155",
   "metadata": {},
   "outputs": [
    {
     "data": {
      "text/plain": [
       "['Cediranib',\n",
       " 'Givinostat',\n",
       " 'Panobinostat',\n",
       " 'SRT2104',\n",
       " 'Alvespimycin',\n",
       " 'Crizotinib',\n",
       " 'PCI-34051',\n",
       " 'SRT1720']"
      ]
     },
     "execution_count": 55,
     "metadata": {},
     "output_type": "execute_result"
    }
   ],
   "source": [
    "ood_unique_drugs"
   ]
  },
  {
   "cell_type": "code",
   "execution_count": 56,
   "id": "ff154f6c-3c62-48e2-8a02-3bcade8916ee",
   "metadata": {},
   "outputs": [],
   "source": [
    "adata_remaining = adata[~adata.obs[\"is_ood\"]]"
   ]
  },
  {
   "cell_type": "code",
   "execution_count": 57,
   "id": "88f18101-920f-4036-8391-9f9d1c95748d",
   "metadata": {},
   "outputs": [],
   "source": [
    "remaining_unique_drugs = list(adata_remaining.obs[\"Drug1\"].cat.categories)\n",
    "remaining_unique_drugs.extend(list(adata_remaining.obs[\"Drug2\"].cat.categories))"
   ]
  },
  {
   "cell_type": "code",
   "execution_count": 58,
   "id": "ee293e71-aaa8-4dae-b0cb-374d4fa2a7c1",
   "metadata": {},
   "outputs": [
    {
     "data": {
      "text/plain": [
       "['Alvespimycin',\n",
       " 'Dacinostat',\n",
       " 'Givinostat',\n",
       " 'Panobinostat',\n",
       " 'SRT3025',\n",
       " 'control',\n",
       " 'Alvespimycin',\n",
       " 'Carmofur',\n",
       " 'Cediranib',\n",
       " 'Crizotinib',\n",
       " 'Curcumin',\n",
       " 'Dacinostat',\n",
       " 'Danusertib',\n",
       " 'Dasatinib',\n",
       " 'Givinostat',\n",
       " 'PCI-34051',\n",
       " 'Panobinostat',\n",
       " 'Pirarubicin',\n",
       " 'SRT2104',\n",
       " 'SRT3025',\n",
       " 'Sorafenib',\n",
       " 'Tanespimycin',\n",
       " 'control']"
      ]
     },
     "execution_count": 58,
     "metadata": {},
     "output_type": "execute_result"
    }
   ],
   "source": [
    "remaining_unique_drugs"
   ]
  },
  {
   "cell_type": "code",
   "execution_count": 59,
   "id": "cabc941b-5c2f-42e5-936e-b62a88153847",
   "metadata": {},
   "outputs": [
    {
     "data": {
      "text/plain": [
       "{'SRT1720'}"
      ]
     },
     "execution_count": 59,
     "metadata": {},
     "output_type": "execute_result"
    }
   ],
   "source": [
    "set(ood_unique_drugs) - set(remaining_unique_drugs)"
   ]
  },
  {
   "cell_type": "markdown",
   "id": "96c9c098-6ccd-420b-a468-f1f6f139c9be",
   "metadata": {},
   "source": [
    "Now we need to remove one combination containing SRT1720. We remove Panobinostat+SRT1720 as we have two other combinations with Panobinostat"
   ]
  },
  {
   "cell_type": "code",
   "execution_count": 60,
   "id": "326a270f-883c-42dd-9528-6675e07ead93",
   "metadata": {},
   "outputs": [],
   "source": [
    "ood_conditions = set(ood_conditions) - set([\"Panobinostat+SRT1720\"])"
   ]
  },
  {
   "cell_type": "code",
   "execution_count": 61,
   "id": "057df916-fe2d-436f-a2d9-1ceee4ec47b1",
   "metadata": {},
   "outputs": [
    {
     "data": {
      "text/plain": [
       "{'Cediranib+PCI-34051',\n",
       " 'Givinostat+SRT1720',\n",
       " 'Panobinostat+Crizotinib',\n",
       " 'Panobinostat+PCI-34051',\n",
       " 'SRT2104+Alvespimycin'}"
      ]
     },
     "execution_count": 61,
     "metadata": {},
     "output_type": "execute_result"
    }
   ],
   "source": [
    "ood_conditions"
   ]
  },
  {
   "cell_type": "code",
   "execution_count": 62,
   "id": "2fd64bd4-f362-4bff-9c82-199e4002bc91",
   "metadata": {},
   "outputs": [],
   "source": [
    "adata.obs[\"ood\"] = adata.obs.apply(lambda x: x[\"condition\"] if x[\"condition\"] in ood_conditions else \"not ood\", axis=1)\n",
    "adata.obs[\"is_ood\"] = adata.obs.apply(lambda x: x[\"condition\"] in ood_conditions, axis=1)\n",
    "adata.obs[\"ood\"] = adata.obs[\"ood\"].astype(\"category\")"
   ]
  },
  {
   "cell_type": "code",
   "execution_count": 63,
   "id": "18ee9c40-b892-4239-a3bc-170c9066375a",
   "metadata": {},
   "outputs": [],
   "source": [
    "remaining_conditions = list(set(adata.obs[\"condition\"].unique()) - set(ood_conditions))"
   ]
  },
  {
   "cell_type": "code",
   "execution_count": 64,
   "id": "1f60a943-102b-4e3b-acee-d10fdf6c9cfa",
   "metadata": {},
   "outputs": [
    {
     "data": {
      "text/plain": [
       "['Givinostat+Sorafenib',\n",
       " 'Panobinostat+SRT3025',\n",
       " 'Panobinostat+SRT1720',\n",
       " 'Givinostat+Tanespimycin',\n",
       " 'Alvespimycin+Pirarubicin',\n",
       " 'Panobinostat+Dasatinib',\n",
       " 'Dacinostat+Danusertib',\n",
       " 'Givinostat+Curcumin',\n",
       " 'control+Dasatinib',\n",
       " 'SRT3025+Cediranib',\n",
       " 'Panobinostat+Curcumin',\n",
       " 'Panobinostat+Alvespimycin',\n",
       " 'Givinostat+Cediranib',\n",
       " 'control+Panobinostat',\n",
       " 'Givinostat+Dasatinib',\n",
       " 'Panobinostat+Sorafenib',\n",
       " 'Givinostat+Carmofur',\n",
       " 'control+Alvespimycin',\n",
       " 'Givinostat+Crizotinib',\n",
       " 'control',\n",
       " 'Dacinostat+PCI-34051',\n",
       " 'control+Dacinostat',\n",
       " 'Dacinostat+Dasatinib',\n",
       " 'Givinostat+SRT2104',\n",
       " 'control+Givinostat',\n",
       " 'control+SRT2104',\n",
       " 'Panobinostat+SRT2104']"
      ]
     },
     "execution_count": 64,
     "metadata": {},
     "output_type": "execute_result"
    }
   ],
   "source": [
    "remaining_conditions"
   ]
  },
  {
   "cell_type": "code",
   "execution_count": 65,
   "id": "93be2cbd-d2dd-4b75-aa72-ec0bac0301c3",
   "metadata": {},
   "outputs": [],
   "source": [
    "adata_train = adata[~adata.obs[\"condition\"].isin(ood_conditions)].copy()\n",
    "adata_ood = adata[adata.obs[\"condition\"].isin(ood_conditions)].copy()"
   ]
  },
  {
   "cell_type": "code",
   "execution_count": 66,
   "id": "69100564-5acf-424d-9051-ecc0572a92d8",
   "metadata": {},
   "outputs": [
    {
     "data": {
      "text/plain": [
       "(54982, 8396)"
      ]
     },
     "execution_count": 66,
     "metadata": {},
     "output_type": "execute_result"
    }
   ],
   "source": [
    "adata_train.n_obs, adata_ood.n_obs"
   ]
  },
  {
   "cell_type": "code",
   "execution_count": 67,
   "id": "cff79ea4-98fd-4131-8ab4-385bb920bc63",
   "metadata": {},
   "outputs": [
    {
     "data": {
      "text/plain": [
       "condition\n",
       "Dacinostat+PCI-34051         3298\n",
       "SRT3025+Cediranib            3016\n",
       "Givinostat+Cediranib         2783\n",
       "control+SRT2104              2756\n",
       "Givinostat+Curcumin          2736\n",
       "Givinostat+Sorafenib         2734\n",
       "Givinostat+Carmofur          2692\n",
       "Givinostat+Crizotinib        2662\n",
       "Givinostat+Dasatinib         2421\n",
       "Givinostat+SRT2104           2353\n",
       "control+Dasatinib            2343\n",
       "Panobinostat+Curcumin        2244\n",
       "Panobinostat+Sorafenib       2013\n",
       "Panobinostat+SRT2104         1971\n",
       "Panobinostat+Dasatinib       1955\n",
       "Dacinostat+Danusertib        1939\n",
       "Panobinostat+SRT3025         1889\n",
       "control+Dacinostat           1869\n",
       "Panobinostat+SRT1720         1826\n",
       "control+Givinostat           1682\n",
       "control+Panobinostat         1578\n",
       "control                      1451\n",
       "Givinostat+Tanespimycin      1310\n",
       "Dacinostat+Dasatinib         1231\n",
       "Panobinostat+Alvespimycin     996\n",
       "control+Alvespimycin          758\n",
       "Alvespimycin+Pirarubicin      476\n",
       "Name: count, dtype: int64"
      ]
     },
     "execution_count": 67,
     "metadata": {},
     "output_type": "execute_result"
    }
   ],
   "source": [
    "adata_train.obs[\"condition\"].value_counts()"
   ]
  },
  {
   "cell_type": "code",
   "execution_count": 68,
   "id": "b167668b-a4ca-4a5a-bbe7-ad2a1769315a",
   "metadata": {},
   "outputs": [],
   "source": [
    "rng = np.random.default_rng(0)\n",
    "split_dfs = []\n",
    "for drug in adata_train.obs[\"condition\"].unique():\n",
    "    adata_subset = adata_train[(adata_train.obs[\"condition\"] == drug)]\n",
    "    n_cells = adata_subset.n_obs\n",
    "    if drug == \"control\":\n",
    "        idx_test = rng.choice(np.arange(n_cells), 500, replace=False)\n",
    "        remaining_idcs = set(np.arange(n_cells)) - set(idx_test)\n",
    "        split = [\"test\" if idx in idx_test else \"train\" for idx in range(n_cells)]\n",
    "        df = adata_subset.obs[[\"condition\"]].copy()\n",
    "        df[\"split\"] = split\n",
    "        split_dfs.append(df)\n",
    "    elif n_cells > 300:\n",
    "        idx_test = rng.choice(np.arange(n_cells), 100, replace=False)\n",
    "        split = [\"test\" if idx in idx_test else \"train\" for idx in range(n_cells)]\n",
    "        df = adata_subset.obs[[\"condition\"]].copy()\n",
    "        df[\"split\"] = split\n",
    "        split_dfs.append(df)"
   ]
  },
  {
   "cell_type": "code",
   "execution_count": 69,
   "id": "2b2b5e2c-6911-4428-bb9b-7e1f37e37f25",
   "metadata": {},
   "outputs": [],
   "source": [
    "df_concat = pd.concat(split_dfs, axis=0)"
   ]
  },
  {
   "cell_type": "code",
   "execution_count": 70,
   "id": "a54ff63d-7e56-46a5-a143-d03cbdf149c2",
   "metadata": {},
   "outputs": [
    {
     "data": {
      "text/plain": [
       "(54982, 54982)"
      ]
     },
     "execution_count": 70,
     "metadata": {},
     "output_type": "execute_result"
    }
   ],
   "source": [
    "len(df_concat), adata_train.n_obs"
   ]
  },
  {
   "cell_type": "code",
   "execution_count": 71,
   "id": "80c2ddb4-a8c0-4694-8544-247f5f21155c",
   "metadata": {},
   "outputs": [
    {
     "data": {
      "text/html": [
       "<div>\n",
       "<style scoped>\n",
       "    .dataframe tbody tr th:only-of-type {\n",
       "        vertical-align: middle;\n",
       "    }\n",
       "\n",
       "    .dataframe tbody tr th {\n",
       "        vertical-align: top;\n",
       "    }\n",
       "\n",
       "    .dataframe thead th {\n",
       "        text-align: right;\n",
       "    }\n",
       "</style>\n",
       "<table border=\"1\" class=\"dataframe\">\n",
       "  <thead>\n",
       "    <tr style=\"text-align: right;\">\n",
       "      <th></th>\n",
       "      <th>condition</th>\n",
       "      <th>split</th>\n",
       "    </tr>\n",
       "    <tr>\n",
       "      <th>Cell</th>\n",
       "      <th></th>\n",
       "      <th></th>\n",
       "    </tr>\n",
       "  </thead>\n",
       "  <tbody>\n",
       "    <tr>\n",
       "      <th>A01_A02_RT_BC_58_Lig_BC_75</th>\n",
       "      <td>control</td>\n",
       "      <td>train</td>\n",
       "    </tr>\n",
       "    <tr>\n",
       "      <th>A01_A02_RT_BC_58_Lig_BC_87</th>\n",
       "      <td>control</td>\n",
       "      <td>train</td>\n",
       "    </tr>\n",
       "    <tr>\n",
       "      <th>A01_A02_RT_BC_59_Lig_BC_11</th>\n",
       "      <td>control</td>\n",
       "      <td>test</td>\n",
       "    </tr>\n",
       "    <tr>\n",
       "      <th>A01_A02_RT_BC_59_Lig_BC_15</th>\n",
       "      <td>control</td>\n",
       "      <td>test</td>\n",
       "    </tr>\n",
       "    <tr>\n",
       "      <th>A01_A02_RT_BC_60_Lig_BC_11</th>\n",
       "      <td>control</td>\n",
       "      <td>test</td>\n",
       "    </tr>\n",
       "    <tr>\n",
       "      <th>...</th>\n",
       "      <td>...</td>\n",
       "      <td>...</td>\n",
       "    </tr>\n",
       "    <tr>\n",
       "      <th>H12_A02_RT_BC_60_Lig_BC_53</th>\n",
       "      <td>control</td>\n",
       "      <td>train</td>\n",
       "    </tr>\n",
       "    <tr>\n",
       "      <th>H12_A02_RT_BC_60_Lig_BC_59</th>\n",
       "      <td>control</td>\n",
       "      <td>train</td>\n",
       "    </tr>\n",
       "    <tr>\n",
       "      <th>H12_A02_RT_BC_60_Lig_BC_79</th>\n",
       "      <td>control</td>\n",
       "      <td>train</td>\n",
       "    </tr>\n",
       "    <tr>\n",
       "      <th>H12_A02_RT_BC_60_Lig_BC_84</th>\n",
       "      <td>control</td>\n",
       "      <td>train</td>\n",
       "    </tr>\n",
       "    <tr>\n",
       "      <th>H12_A02_RT_BC_60_Lig_BC_95</th>\n",
       "      <td>control</td>\n",
       "      <td>train</td>\n",
       "    </tr>\n",
       "  </tbody>\n",
       "</table>\n",
       "<p>1451 rows × 2 columns</p>\n",
       "</div>"
      ],
      "text/plain": [
       "                           condition  split\n",
       "Cell                                       \n",
       "A01_A02_RT_BC_58_Lig_BC_75   control  train\n",
       "A01_A02_RT_BC_58_Lig_BC_87   control  train\n",
       "A01_A02_RT_BC_59_Lig_BC_11   control   test\n",
       "A01_A02_RT_BC_59_Lig_BC_15   control   test\n",
       "A01_A02_RT_BC_60_Lig_BC_11   control   test\n",
       "...                              ...    ...\n",
       "H12_A02_RT_BC_60_Lig_BC_53   control  train\n",
       "H12_A02_RT_BC_60_Lig_BC_59   control  train\n",
       "H12_A02_RT_BC_60_Lig_BC_79   control  train\n",
       "H12_A02_RT_BC_60_Lig_BC_84   control  train\n",
       "H12_A02_RT_BC_60_Lig_BC_95   control  train\n",
       "\n",
       "[1451 rows x 2 columns]"
      ]
     },
     "execution_count": 71,
     "metadata": {},
     "output_type": "execute_result"
    }
   ],
   "source": [
    "df_concat[df_concat[\"condition\"] == \"control\"]"
   ]
  },
  {
   "cell_type": "code",
   "execution_count": 72,
   "id": "cea2a820-48bf-4db1-8e26-5907878b7e3a",
   "metadata": {},
   "outputs": [
    {
     "data": {
      "text/plain": [
       "condition\n",
       "Dacinostat+PCI-34051         3298\n",
       "SRT3025+Cediranib            3016\n",
       "Givinostat+Cediranib         2783\n",
       "control+SRT2104              2756\n",
       "Givinostat+Curcumin          2736\n",
       "Givinostat+Sorafenib         2734\n",
       "Givinostat+Carmofur          2692\n",
       "Givinostat+Crizotinib        2662\n",
       "Givinostat+Dasatinib         2421\n",
       "Givinostat+SRT2104           2353\n",
       "control+Dasatinib            2343\n",
       "Panobinostat+Curcumin        2244\n",
       "Panobinostat+Sorafenib       2013\n",
       "Panobinostat+SRT2104         1971\n",
       "Panobinostat+Dasatinib       1955\n",
       "Dacinostat+Danusertib        1939\n",
       "Panobinostat+SRT3025         1889\n",
       "control+Dacinostat           1869\n",
       "Panobinostat+SRT1720         1826\n",
       "control+Givinostat           1682\n",
       "control+Panobinostat         1578\n",
       "control                      1451\n",
       "Givinostat+Tanespimycin      1310\n",
       "Dacinostat+Dasatinib         1231\n",
       "Panobinostat+Alvespimycin     996\n",
       "control+Alvespimycin          758\n",
       "Alvespimycin+Pirarubicin      476\n",
       "Name: count, dtype: int64"
      ]
     },
     "execution_count": 72,
     "metadata": {},
     "output_type": "execute_result"
    }
   ],
   "source": [
    "df_concat[\"condition\"].value_counts()"
   ]
  },
  {
   "cell_type": "code",
   "execution_count": 73,
   "id": "1b568484-1871-4859-a0e9-a121e241f6c8",
   "metadata": {},
   "outputs": [],
   "source": [
    "adata_train.obs[\"split\"] = df_concat[[\"split\"]]"
   ]
  },
  {
   "cell_type": "code",
   "execution_count": 74,
   "id": "a6e58436-016b-4df1-b263-6d1993314f88",
   "metadata": {},
   "outputs": [
    {
     "data": {
      "text/plain": [
       "0"
      ]
     },
     "execution_count": 74,
     "metadata": {},
     "output_type": "execute_result"
    }
   ],
   "source": [
    "adata_ood[adata_ood.obs[\"condition\"] == \"control\"].n_obs"
   ]
  },
  {
   "cell_type": "code",
   "execution_count": 75,
   "id": "d6a10df4-cc49-4468-af8a-b4c81520af8f",
   "metadata": {},
   "outputs": [],
   "source": [
    "adata_ood.obs[\"split\"] = \"ood\""
   ]
  },
  {
   "cell_type": "code",
   "execution_count": 76,
   "id": "042db92f-3b87-4b25-971c-c4065758b5f5",
   "metadata": {},
   "outputs": [],
   "source": [
    "import anndata\n",
    "\n",
    "adata_train_final = adata_train[adata_train.obs[\"split\"] == \"train\"]\n",
    "adata_test_final = adata_train[adata_train.obs[\"split\"] == \"test\"]\n",
    "adata_ood_final = anndata.concat((adata_ood, adata_test_final[adata_test_final.obs[\"condition\"] == \"control\"]))"
   ]
  },
  {
   "cell_type": "code",
   "execution_count": 77,
   "id": "f0649268-fd6d-4c5f-9f73-6c616e80fc4a",
   "metadata": {},
   "outputs": [],
   "source": [
    "adata_ood_final.obs[\"split\"] = \"ood\""
   ]
  },
  {
   "cell_type": "code",
   "execution_count": 78,
   "id": "91f780b1-49b2-46f5-b318-c76e3528814c",
   "metadata": {},
   "outputs": [
    {
     "data": {
      "text/plain": [
       "condition\n",
       "Dacinostat+PCI-34051         3198\n",
       "SRT3025+Cediranib            2916\n",
       "Givinostat+Cediranib         2683\n",
       "control+SRT2104              2656\n",
       "Givinostat+Curcumin          2636\n",
       "Givinostat+Sorafenib         2634\n",
       "Givinostat+Carmofur          2592\n",
       "Givinostat+Crizotinib        2562\n",
       "Givinostat+Dasatinib         2321\n",
       "Givinostat+SRT2104           2253\n",
       "control+Dasatinib            2243\n",
       "Panobinostat+Curcumin        2144\n",
       "Panobinostat+Sorafenib       1913\n",
       "Panobinostat+SRT2104         1871\n",
       "Panobinostat+Dasatinib       1855\n",
       "Dacinostat+Danusertib        1839\n",
       "Panobinostat+SRT3025         1789\n",
       "control+Dacinostat           1769\n",
       "Panobinostat+SRT1720         1726\n",
       "control+Givinostat           1582\n",
       "control+Panobinostat         1478\n",
       "Givinostat+Tanespimycin      1210\n",
       "Dacinostat+Dasatinib         1131\n",
       "control                       951\n",
       "Panobinostat+Alvespimycin     896\n",
       "control+Alvespimycin          658\n",
       "Alvespimycin+Pirarubicin      376\n",
       "Name: count, dtype: int64"
      ]
     },
     "execution_count": 78,
     "metadata": {},
     "output_type": "execute_result"
    }
   ],
   "source": [
    "adata_train_final.obs[\"condition\"].value_counts()"
   ]
  },
  {
   "cell_type": "code",
   "execution_count": 79,
   "id": "3faba18e-2782-4e8f-ae37-a4de095208bd",
   "metadata": {},
   "outputs": [
    {
     "data": {
      "text/plain": [
       "condition\n",
       "Givinostat+SRT1720         2260\n",
       "Cediranib+PCI-34051        2161\n",
       "Panobinostat+PCI-34051     1814\n",
       "Panobinostat+Crizotinib    1641\n",
       "SRT2104+Alvespimycin        520\n",
       "control                     500\n",
       "Name: count, dtype: int64"
      ]
     },
     "execution_count": 79,
     "metadata": {},
     "output_type": "execute_result"
    }
   ],
   "source": [
    "adata_ood_final.obs[\"condition\"].value_counts()"
   ]
  },
  {
   "cell_type": "code",
   "execution_count": 80,
   "id": "235682ae-8c6f-4ec0-86ab-b59c8861e1ce",
   "metadata": {},
   "outputs": [
    {
     "data": {
      "text/plain": [
       "condition\n",
       "control                      500\n",
       "Alvespimycin+Pirarubicin     100\n",
       "Panobinostat+Dasatinib       100\n",
       "control+Panobinostat         100\n",
       "control+Givinostat           100\n",
       "control+Dasatinib            100\n",
       "control+Dacinostat           100\n",
       "control+Alvespimycin         100\n",
       "SRT3025+Cediranib            100\n",
       "Panobinostat+Sorafenib       100\n",
       "Panobinostat+SRT3025         100\n",
       "Panobinostat+SRT2104         100\n",
       "Panobinostat+SRT1720         100\n",
       "Panobinostat+Curcumin        100\n",
       "Dacinostat+Danusertib        100\n",
       "Panobinostat+Alvespimycin    100\n",
       "Givinostat+Tanespimycin      100\n",
       "Givinostat+Sorafenib         100\n",
       "Givinostat+SRT2104           100\n",
       "Givinostat+Dasatinib         100\n",
       "Givinostat+Curcumin          100\n",
       "Givinostat+Crizotinib        100\n",
       "Givinostat+Cediranib         100\n",
       "Givinostat+Carmofur          100\n",
       "Dacinostat+PCI-34051         100\n",
       "Dacinostat+Dasatinib         100\n",
       "control+SRT2104              100\n",
       "Name: count, dtype: int64"
      ]
     },
     "execution_count": 80,
     "metadata": {},
     "output_type": "execute_result"
    }
   ],
   "source": [
    "adata_test_final.obs[\"condition\"].value_counts()"
   ]
  },
  {
   "cell_type": "code",
   "execution_count": 81,
   "id": "a99e17b8-95fc-4d34-b542-009dc21ad5fe",
   "metadata": {},
   "outputs": [
    {
     "name": "stderr",
     "output_type": "stream",
     "text": [
      "/tmp/ipykernel_3420958/2775379558.py:1: ImplicitModificationWarning: Setting element `.varm['X_train_mean']` of view, initializing view as actual.\n",
      "  adata_train_final.varm[\"X_train_mean\"] = adata_train_final.X.mean(axis=0).T\n"
     ]
    }
   ],
   "source": [
    "adata_train_final.varm[\"X_train_mean\"] = adata_train_final.X.mean(axis=0).T"
   ]
  },
  {
   "cell_type": "code",
   "execution_count": 82,
   "id": "5bb1e717-e83d-4389-b512-68f51b65ee1e",
   "metadata": {},
   "outputs": [],
   "source": [
    "from scipy.sparse import csr_matrix\n",
    "\n",
    "train_mean = adata_train_final.varm[\"X_train_mean\"].T\n",
    "adata_train_final.layers[\"centered_X\"] = csr_matrix(adata_train_final.X.A - train_mean)"
   ]
  },
  {
   "cell_type": "code",
   "execution_count": 83,
   "id": "fe08631d-ecf6-46aa-bef7-611dd9973267",
   "metadata": {},
   "outputs": [],
   "source": [
    "adata_train_final.layers[\"X_log1p\"] = adata_train_final.X.copy()\n",
    "adata_train_final.X = adata_train_final.layers[\"centered_X\"]"
   ]
  },
  {
   "cell_type": "code",
   "execution_count": 84,
   "id": "23b3ac3d-3996-4b9b-aa5d-89b68936a62d",
   "metadata": {},
   "outputs": [],
   "source": [
    "sc.pp.pca(adata_train_final, zero_center=False, n_comps=30)"
   ]
  },
  {
   "cell_type": "code",
   "execution_count": 85,
   "id": "09a4244c-0449-42bb-baff-edd9bfa98766",
   "metadata": {},
   "outputs": [
    {
     "data": {
      "text/plain": [
       "(51882, 30)"
      ]
     },
     "execution_count": 85,
     "metadata": {},
     "output_type": "execute_result"
    }
   ],
   "source": [
    "adata_train_final.obsm[\"X_pca\"].shape"
   ]
  },
  {
   "cell_type": "code",
   "execution_count": 86,
   "id": "cdeb2b67-e3b3-42bc-9270-883374f15571",
   "metadata": {},
   "outputs": [],
   "source": [
    "adata_train_final.X = adata_train_final.layers[\"X_log1p\"]"
   ]
  },
  {
   "cell_type": "code",
   "execution_count": 87,
   "id": "159b1dfc-049b-41c6-a140-dc3b09953664",
   "metadata": {},
   "outputs": [
    {
     "name": "stderr",
     "output_type": "stream",
     "text": [
      "/tmp/ipykernel_3420958/3355210628.py:2: ImplicitModificationWarning: Setting element `.varm['X_train_mean']` of view, initializing view as actual.\n",
      "  adata_test_final.varm[\"X_train_mean\"] = adata_train_final.varm[\"X_train_mean\"]\n"
     ]
    }
   ],
   "source": [
    "adata_ood_final.varm[\"X_train_mean\"] = adata_train_final.varm[\"X_train_mean\"]\n",
    "adata_test_final.varm[\"X_train_mean\"] = adata_train_final.varm[\"X_train_mean\"]"
   ]
  },
  {
   "cell_type": "code",
   "execution_count": 88,
   "id": "56772032-cd54-47ae-805b-fce26c43f2a8",
   "metadata": {},
   "outputs": [],
   "source": [
    "adata_test_final.layers[\"centered_X\"] = csr_matrix(adata_test_final.X.A - train_mean)\n",
    "adata_ood_final.layers[\"centered_X\"] = csr_matrix(adata_ood_final.X.A - train_mean)"
   ]
  },
  {
   "cell_type": "code",
   "execution_count": 89,
   "id": "8534bb85-228c-4302-a348-1e6eccdc9c4b",
   "metadata": {},
   "outputs": [],
   "source": [
    "adata_test_final.obsm[\"X_pca\"] = np.matmul(adata_test_final.layers[\"centered_X\"].A, adata_train_final.varm[\"PCs\"])\n",
    "adata_ood_final.obsm[\"X_pca\"] = np.matmul(adata_ood_final.layers[\"centered_X\"].A, adata_train_final.varm[\"PCs\"])"
   ]
  },
  {
   "cell_type": "code",
   "execution_count": 90,
   "id": "9e4abe4c-2989-41e9-a1db-47afa22ead2f",
   "metadata": {},
   "outputs": [
    {
     "data": {
      "text/plain": [
       "sample               category\n",
       "Size_Factor          category\n",
       "n.umi                category\n",
       "RT_well              category\n",
       "Drug1                category\n",
       "Drug2                category\n",
       "Well                 category\n",
       "n_genes              category\n",
       "n_genes_by_counts    category\n",
       "total_counts         category\n",
       "total_counts_mt      category\n",
       "pct_counts_mt        category\n",
       "leiden               category\n",
       "condition            category\n",
       "pathway1             category\n",
       "pathway2             category\n",
       "split                  object\n",
       "control              category\n",
       "cell_type            category\n",
       "cell_line            category\n",
       "smiles_drug_1        category\n",
       "smiles_drug_2        category\n",
       "ood                  category\n",
       "is_ood                   bool\n",
       "dtype: object"
      ]
     },
     "execution_count": 90,
     "metadata": {},
     "output_type": "execute_result"
    }
   ],
   "source": [
    "adata_train.obs.apply(lambda x: x.dtype)"
   ]
  },
  {
   "cell_type": "code",
   "execution_count": 91,
   "id": "864f5651-ed24-463c-88dd-9cca63bb0266",
   "metadata": {},
   "outputs": [
    {
     "data": {
      "text/plain": [
       "dict_keys(['Drug1_colors', 'Drug2_colors', 'Well_colors', 'condition_colors', 'dendrogram_leiden', 'hvg', 'leiden', 'leiden_colors', 'neighbors', 'pathway1_colors', 'pathway2_colors', 'pathway_colors', 'pca', 'rank_genes_groups', 'split_colors', 'umap', 'log1p', 'rank_genes_groups_cov_all'])"
      ]
     },
     "execution_count": 91,
     "metadata": {},
     "output_type": "execute_result"
    }
   ],
   "source": [
    "adata_train_final.uns.keys()"
   ]
  },
  {
   "cell_type": "code",
   "execution_count": 92,
   "id": "70d54f0f-bee1-4cfa-83e3-1014869e7139",
   "metadata": {},
   "outputs": [],
   "source": [
    "adata_train_final.varm[\"X_train_mean\"] = np.asarray(adata_train_final.varm[\"X_train_mean\"])\n",
    "adata_test_final.varm[\"X_train_mean\"] = np.asarray(adata_test_final.varm[\"X_train_mean\"])\n",
    "adata_ood_final.varm[\"X_train_mean\"] = np.asarray(adata_ood_final.varm[\"X_train_mean\"])"
   ]
  },
  {
   "cell_type": "code",
   "execution_count": 93,
   "id": "4ce099a5-d268-4fdb-b1a6-d4f581687f7c",
   "metadata": {},
   "outputs": [],
   "source": [
    "import os\n",
    "\n",
    "adata_train_final.write(os.path.join(output_dir, \"adata_train_30.h5ad\"))\n",
    "adata_ood_final.write(os.path.join(output_dir, \"adata_ood_30.h5ad\"))\n",
    "adata_test_final.write(os.path.join(output_dir, \"adata_test_30.h5ad\"))"
   ]
  },
  {
   "cell_type": "markdown",
   "id": "dac56b23-cb77-45d6-a5e8-af74a862211b",
   "metadata": {},
   "source": [
    "Check that reconstruction is meaningful"
   ]
  },
  {
   "cell_type": "code",
   "execution_count": 94,
   "id": "16ff37ae-7e63-4d0d-96e8-2c99a6bb825a",
   "metadata": {},
   "outputs": [],
   "source": [
    "from sklearn.metrics import r2_score\n",
    "\n",
    "\n",
    "def compute_r_squared(x: np.ndarray, y: np.ndarray) -> float:\n",
    "    return r2_score(np.mean(x, axis=0), np.mean(y, axis=0))"
   ]
  },
  {
   "cell_type": "code",
   "execution_count": 95,
   "id": "975311bb-6973-488a-9b08-8b52a8fd4956",
   "metadata": {},
   "outputs": [],
   "source": [
    "decoded_test = np.matmul(adata_test_final.obsm[\"X_pca\"], adata_train_final.varm[\"PCs\"].T)"
   ]
  },
  {
   "cell_type": "code",
   "execution_count": 96,
   "id": "21c0f768-7fce-453a-8fa0-c45b129f9612",
   "metadata": {},
   "outputs": [
    {
     "data": {
      "text/plain": [
       "0.9996161316193757"
      ]
     },
     "execution_count": 96,
     "metadata": {},
     "output_type": "execute_result"
    }
   ],
   "source": [
    "compute_r_squared(adata_test_final.X.A, np.asarray(decoded_test + adata_test_final.varm[\"X_train_mean\"].T))"
   ]
  },
  {
   "cell_type": "code",
   "execution_count": 97,
   "id": "20650954-7041-4b84-adc1-e81b2b098313",
   "metadata": {},
   "outputs": [],
   "source": [
    "decoded_ood = np.matmul(adata_ood_final.obsm[\"X_pca\"], adata_train_final.varm[\"PCs\"].T)"
   ]
  },
  {
   "cell_type": "code",
   "execution_count": 98,
   "id": "65fbf4c7-15a0-42e6-9bb7-0d498dfd5886",
   "metadata": {},
   "outputs": [
    {
     "data": {
      "text/plain": [
       "0.9990839959324932"
      ]
     },
     "execution_count": 98,
     "metadata": {},
     "output_type": "execute_result"
    }
   ],
   "source": [
    "compute_r_squared(adata_ood_final.X.A, np.asarray(decoded_ood + adata_ood_final.varm[\"X_train_mean\"].T))"
   ]
  },
  {
   "cell_type": "code",
   "execution_count": null,
   "id": "d52ce1ce-f9d5-4fb9-ba85-a91d03b7fa96",
   "metadata": {},
   "outputs": [],
   "source": []
  }
 ],
 "metadata": {
  "kernelspec": {
   "display_name": "ot_pert_genot",
   "language": "python",
   "name": "ot_pert_genot"
  },
  "language_info": {
   "codemirror_mode": {
    "name": "ipython",
    "version": 3
   },
   "file_extension": ".py",
   "mimetype": "text/x-python",
   "name": "python",
   "nbconvert_exporter": "python",
   "pygments_lexer": "ipython3",
   "version": "3.12.2"
  }
 },
 "nbformat": 4,
 "nbformat_minor": 5
}
