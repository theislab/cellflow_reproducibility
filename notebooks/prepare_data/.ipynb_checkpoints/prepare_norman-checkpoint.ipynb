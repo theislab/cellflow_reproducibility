{
 "cells": [
  {
   "cell_type": "code",
   "execution_count": 1,
   "id": "79407301-0f64-48ee-93a8-e1456ad735eb",
   "metadata": {},
   "outputs": [
    {
     "name": "stderr",
     "output_type": "stream",
     "text": [
      "/home/icb/alejandro.tejada/miniconda3/envs/pertpy/lib/python3.11/site-packages/tqdm/auto.py:21: TqdmWarning: IProgress not found. Please update jupyter and ipywidgets. See https://ipywidgets.readthedocs.io/en/stable/user_install.html\n",
      "  from .autonotebook import tqdm as notebook_tqdm\n"
     ]
    },
    {
     "data": {
      "text/html": [
       "<pre style=\"white-space:pre;overflow-x:auto;line-height:normal;font-family:Menlo,'DejaVu Sans Mono',consolas,'Courier New',monospace\"><span style=\"color: #808000; text-decoration-color: #808000; font-weight: bold\">ryp2 is not installed. Install with </span><span style=\"color: #008000; text-decoration-color: #008000; font-weight: bold\">pip install rpy2 </span><span style=\"color: #808000; text-decoration-color: #808000; font-weight: bold\">to run tools with R support.</span>\n",
       "</pre>\n"
      ],
      "text/plain": [
       "\u001b[1;33mryp2 is not installed. Install with \u001b[0m\u001b[1;32mpip install rpy2 \u001b[0m\u001b[1;33mto run tools with R support.\u001b[0m\n"
      ]
     },
     "metadata": {},
     "output_type": "display_data"
    }
   ],
   "source": [
    "import scanpy as sc\n",
    "import pertpy as pt\n",
    "import numpy as np\n",
    "import pandas as pd\n",
    "import pertpy as pt"
   ]
  },
  {
   "cell_type": "code",
   "execution_count": 2,
   "id": "1422b654-8831-4724-9835-217ee45bff5c",
   "metadata": {},
   "outputs": [
    {
     "name": "stdout",
     "output_type": "stream",
     "text": [
      "0.7.0\n"
     ]
    }
   ],
   "source": [
    "print(pt.__version__)"
   ]
  },
  {
   "cell_type": "code",
   "execution_count": 3,
   "id": "3caefea6-3c4f-475c-8d2f-fa309ffdd586",
   "metadata": {},
   "outputs": [],
   "source": [
    "adata = pt.dt.norman_2019()"
   ]
  },
  {
   "cell_type": "code",
   "execution_count": 6,
   "id": "5ba152c2-8073-4fe7-b7c8-89826ef005e2",
   "metadata": {},
   "outputs": [
    {
     "data": {
      "text/plain": [
       "AnnData object with n_obs × n_vars = 111255 × 19018\n",
       "    obs: 'guide_identity', 'read_count', 'UMI_count', 'coverage', 'gemgroup', 'good_coverage', 'number_of_cells', 'guide_AHR', 'guide_ARID1A', 'guide_ARRDC3', 'guide_ATL1', 'guide_BAK1', 'guide_BCL2L11', 'guide_BCORL1', 'guide_BPGM', 'guide_C19orf26', 'guide_C3orf72', 'guide_CBFA2T3', 'guide_CBL', 'guide_CDKN1A', 'guide_CDKN1B', 'guide_CDKN1C', 'guide_CEBPA', 'guide_CEBPB', 'guide_CEBPE', 'guide_CELF2', 'guide_CITED1', 'guide_CKS1B', 'guide_CLDN6', 'guide_CNN1', 'guide_CNNM4', 'guide_COL1A1', 'guide_COL2A1', 'guide_CSRNP1', 'guide_DLX2', 'guide_DUSP9', 'guide_EGR1', 'guide_ELMSAN1', 'guide_ETS2', 'guide_FEV', 'guide_FOSB', 'guide_FOXA1', 'guide_FOXA3', 'guide_FOXF1', 'guide_FOXL2', 'guide_FOXO4', 'guide_GLB1L2', 'guide_HES7', 'guide_HK2', 'guide_HNF4A', 'guide_HOXA13', 'guide_HOXB9', 'guide_HOXC13', 'guide_IER5L', 'guide_IGDCC3', 'guide_IKZF3', 'guide_IRF1', 'guide_ISL2', 'guide_JUN', 'guide_KIAA1804', 'guide_KIF18B', 'guide_KIF2C', 'guide_KLF1', 'guide_KMT2A', 'guide_LHX1', 'guide_LYL1', 'guide_MAML2', 'guide_MAP2K3', 'guide_MAP2K6', 'guide_MAP4K3', 'guide_MAP4K5', 'guide_MAP7D1', 'guide_MAPK1', 'guide_MEIS1', 'guide_MIDN', 'guide_NCL', 'guide_NIT1', 'guide_OSR2', 'guide_PLK4', 'guide_POU3F2', 'guide_PRDM1', 'guide_PRTG', 'guide_PTPN1', 'guide_PTPN12', 'guide_PTPN13', 'guide_PTPN9', 'guide_RHOXF2', 'guide_RREB1', 'guide_RUNX1T1', 'guide_S1PR2', 'guide_SAMD1', 'guide_SET', 'guide_SGK1', 'guide_SLC38A2', 'guide_SLC4A1', 'guide_SLC6A9', 'guide_SNAI1', 'guide_SPI1', 'guide_STIL', 'guide_TBX2', 'guide_TBX3', 'guide_TGFBR2', 'guide_TMSB4X', 'guide_TP73', 'guide_TSC22D1', 'guide_UBASH3A', 'guide_UBASH3B', 'guide_ZBTB1', 'guide_ZBTB10', 'guide_ZBTB25', 'guide_ZC3HAV1', 'guide_ZNF318', 'guide_ids', 'n_genes', 'n_genes_by_counts', 'total_counts', 'total_counts_mt', 'pct_counts_mt', 'leiden', 'perturbation_name', 'perturbation_type', 'perturbation_value', 'perturbation_unit'\n",
       "    var: 'index', 'n_cells', 'mt', 'n_cells_by_counts', 'mean_counts', 'pct_dropout_by_counts', 'total_counts', 'highly_variable', 'means', 'dispersions', 'dispersions_norm'\n",
       "    uns: 'doi', 'hvg', 'leiden', 'neighbors', 'pca', 'preprocessing_nb_link', 'umap'\n",
       "    obsm: 'X_pca', 'X_umap'\n",
       "    varm: 'PCs'\n",
       "    layers: 'counts'\n",
       "    obsp: 'connectivities', 'distances'"
      ]
     },
     "execution_count": 6,
     "metadata": {},
     "output_type": "execute_result"
    }
   ],
   "source": [
    "adata"
   ]
  },
  {
   "cell_type": "markdown",
   "id": "c3adb45f-12f1-4075-b1e4-9ceb4991adb0",
   "metadata": {},
   "source": [
    "### Get gene names for embeddings"
   ]
  },
  {
   "cell_type": "code",
   "execution_count": 7,
   "id": "7fd05e93-3332-468e-88a1-ef28385b9a62",
   "metadata": {},
   "outputs": [
    {
     "data": {
      "text/html": [
       "<div>\n",
       "<style scoped>\n",
       "    .dataframe tbody tr th:only-of-type {\n",
       "        vertical-align: middle;\n",
       "    }\n",
       "\n",
       "    .dataframe tbody tr th {\n",
       "        vertical-align: top;\n",
       "    }\n",
       "\n",
       "    .dataframe thead th {\n",
       "        text-align: right;\n",
       "    }\n",
       "</style>\n",
       "<table border=\"1\" class=\"dataframe\">\n",
       "  <thead>\n",
       "    <tr style=\"text-align: right;\">\n",
       "      <th></th>\n",
       "      <th>index</th>\n",
       "      <th>n_cells</th>\n",
       "      <th>mt</th>\n",
       "      <th>n_cells_by_counts</th>\n",
       "      <th>mean_counts</th>\n",
       "      <th>pct_dropout_by_counts</th>\n",
       "      <th>total_counts</th>\n",
       "      <th>highly_variable</th>\n",
       "      <th>means</th>\n",
       "      <th>dispersions</th>\n",
       "      <th>dispersions_norm</th>\n",
       "    </tr>\n",
       "    <tr>\n",
       "      <th>gene_symbols</th>\n",
       "      <th></th>\n",
       "      <th></th>\n",
       "      <th></th>\n",
       "      <th></th>\n",
       "      <th></th>\n",
       "      <th></th>\n",
       "      <th></th>\n",
       "      <th></th>\n",
       "      <th></th>\n",
       "      <th></th>\n",
       "      <th></th>\n",
       "    </tr>\n",
       "  </thead>\n",
       "  <tbody>\n",
       "    <tr>\n",
       "      <th>RP11-34P13.3</th>\n",
       "      <td>ENSG00000243485</td>\n",
       "      <td>29</td>\n",
       "      <td>False</td>\n",
       "      <td>29</td>\n",
       "      <td>0.000260</td>\n",
       "      <td>99.973978</td>\n",
       "      <td>29.0</td>\n",
       "      <td>False</td>\n",
       "      <td>0.000183</td>\n",
       "      <td>-0.077619</td>\n",
       "      <td>-0.004879</td>\n",
       "    </tr>\n",
       "    <tr>\n",
       "      <th>RP11-34P13.7</th>\n",
       "      <td>ENSG00000238009</td>\n",
       "      <td>265</td>\n",
       "      <td>False</td>\n",
       "      <td>265</td>\n",
       "      <td>0.002387</td>\n",
       "      <td>99.762215</td>\n",
       "      <td>266.0</td>\n",
       "      <td>True</td>\n",
       "      <td>0.001815</td>\n",
       "      <td>-0.043510</td>\n",
       "      <td>0.137746</td>\n",
       "    </tr>\n",
       "    <tr>\n",
       "      <th>FO538757.2</th>\n",
       "      <td>ENSG00000279457</td>\n",
       "      <td>52291</td>\n",
       "      <td>False</td>\n",
       "      <td>52291</td>\n",
       "      <td>0.695312</td>\n",
       "      <td>53.079097</td>\n",
       "      <td>77489.0</td>\n",
       "      <td>True</td>\n",
       "      <td>0.393614</td>\n",
       "      <td>-0.055594</td>\n",
       "      <td>0.088970</td>\n",
       "    </tr>\n",
       "    <tr>\n",
       "      <th>AP006222.2</th>\n",
       "      <td>ENSG00000228463</td>\n",
       "      <td>17454</td>\n",
       "      <td>False</td>\n",
       "      <td>17454</td>\n",
       "      <td>0.173897</td>\n",
       "      <td>84.338463</td>\n",
       "      <td>19380.0</td>\n",
       "      <td>False</td>\n",
       "      <td>0.111977</td>\n",
       "      <td>-0.192234</td>\n",
       "      <td>-0.484139</td>\n",
       "    </tr>\n",
       "    <tr>\n",
       "      <th>RP4-669L17.10</th>\n",
       "      <td>ENSG00000237094</td>\n",
       "      <td>1356</td>\n",
       "      <td>False</td>\n",
       "      <td>1356</td>\n",
       "      <td>0.012275</td>\n",
       "      <td>98.783256</td>\n",
       "      <td>1368.0</td>\n",
       "      <td>False</td>\n",
       "      <td>0.008372</td>\n",
       "      <td>-0.182668</td>\n",
       "      <td>-0.444138</td>\n",
       "    </tr>\n",
       "    <tr>\n",
       "      <th>...</th>\n",
       "      <td>...</td>\n",
       "      <td>...</td>\n",
       "      <td>...</td>\n",
       "      <td>...</td>\n",
       "      <td>...</td>\n",
       "      <td>...</td>\n",
       "      <td>...</td>\n",
       "      <td>...</td>\n",
       "      <td>...</td>\n",
       "      <td>...</td>\n",
       "      <td>...</td>\n",
       "    </tr>\n",
       "    <tr>\n",
       "      <th>AL592183.1</th>\n",
       "      <td>ENSG00000273748</td>\n",
       "      <td>14758</td>\n",
       "      <td>False</td>\n",
       "      <td>14758</td>\n",
       "      <td>0.145596</td>\n",
       "      <td>86.757593</td>\n",
       "      <td>16226.0</td>\n",
       "      <td>False</td>\n",
       "      <td>0.097734</td>\n",
       "      <td>-0.116758</td>\n",
       "      <td>-0.168538</td>\n",
       "    </tr>\n",
       "    <tr>\n",
       "      <th>AC007325.4</th>\n",
       "      <td>ENSG00000278817</td>\n",
       "      <td>2925</td>\n",
       "      <td>False</td>\n",
       "      <td>2925</td>\n",
       "      <td>0.026776</td>\n",
       "      <td>97.375387</td>\n",
       "      <td>2984.0</td>\n",
       "      <td>False</td>\n",
       "      <td>0.018881</td>\n",
       "      <td>-0.147753</td>\n",
       "      <td>-0.298142</td>\n",
       "    </tr>\n",
       "    <tr>\n",
       "      <th>AL354822.1</th>\n",
       "      <td>ENSG00000278384</td>\n",
       "      <td>9796</td>\n",
       "      <td>False</td>\n",
       "      <td>9796</td>\n",
       "      <td>0.093122</td>\n",
       "      <td>91.210014</td>\n",
       "      <td>10378.0</td>\n",
       "      <td>True</td>\n",
       "      <td>0.066831</td>\n",
       "      <td>-0.059809</td>\n",
       "      <td>0.069592</td>\n",
       "    </tr>\n",
       "    <tr>\n",
       "      <th>AC004556.1</th>\n",
       "      <td>ENSG00000276345</td>\n",
       "      <td>54624</td>\n",
       "      <td>False</td>\n",
       "      <td>54624</td>\n",
       "      <td>0.730037</td>\n",
       "      <td>50.985688</td>\n",
       "      <td>81359.0</td>\n",
       "      <td>False</td>\n",
       "      <td>0.399046</td>\n",
       "      <td>-0.200644</td>\n",
       "      <td>-0.474707</td>\n",
       "    </tr>\n",
       "    <tr>\n",
       "      <th>AC240274.1</th>\n",
       "      <td>ENSG00000271254</td>\n",
       "      <td>10835</td>\n",
       "      <td>False</td>\n",
       "      <td>10835</td>\n",
       "      <td>0.105299</td>\n",
       "      <td>90.277715</td>\n",
       "      <td>11735.0</td>\n",
       "      <td>False</td>\n",
       "      <td>0.072756</td>\n",
       "      <td>-0.070919</td>\n",
       "      <td>0.023139</td>\n",
       "    </tr>\n",
       "  </tbody>\n",
       "</table>\n",
       "<p>19018 rows × 11 columns</p>\n",
       "</div>"
      ],
      "text/plain": [
       "                         index  n_cells     mt  n_cells_by_counts  \\\n",
       "gene_symbols                                                        \n",
       "RP11-34P13.3   ENSG00000243485       29  False                 29   \n",
       "RP11-34P13.7   ENSG00000238009      265  False                265   \n",
       "FO538757.2     ENSG00000279457    52291  False              52291   \n",
       "AP006222.2     ENSG00000228463    17454  False              17454   \n",
       "RP4-669L17.10  ENSG00000237094     1356  False               1356   \n",
       "...                        ...      ...    ...                ...   \n",
       "AL592183.1     ENSG00000273748    14758  False              14758   \n",
       "AC007325.4     ENSG00000278817     2925  False               2925   \n",
       "AL354822.1     ENSG00000278384     9796  False               9796   \n",
       "AC004556.1     ENSG00000276345    54624  False              54624   \n",
       "AC240274.1     ENSG00000271254    10835  False              10835   \n",
       "\n",
       "               mean_counts  pct_dropout_by_counts  total_counts  \\\n",
       "gene_symbols                                                      \n",
       "RP11-34P13.3      0.000260              99.973978          29.0   \n",
       "RP11-34P13.7      0.002387              99.762215         266.0   \n",
       "FO538757.2        0.695312              53.079097       77489.0   \n",
       "AP006222.2        0.173897              84.338463       19380.0   \n",
       "RP4-669L17.10     0.012275              98.783256        1368.0   \n",
       "...                    ...                    ...           ...   \n",
       "AL592183.1        0.145596              86.757593       16226.0   \n",
       "AC007325.4        0.026776              97.375387        2984.0   \n",
       "AL354822.1        0.093122              91.210014       10378.0   \n",
       "AC004556.1        0.730037              50.985688       81359.0   \n",
       "AC240274.1        0.105299              90.277715       11735.0   \n",
       "\n",
       "               highly_variable     means  dispersions  dispersions_norm  \n",
       "gene_symbols                                                             \n",
       "RP11-34P13.3             False  0.000183    -0.077619         -0.004879  \n",
       "RP11-34P13.7              True  0.001815    -0.043510          0.137746  \n",
       "FO538757.2                True  0.393614    -0.055594          0.088970  \n",
       "AP006222.2               False  0.111977    -0.192234         -0.484139  \n",
       "RP4-669L17.10            False  0.008372    -0.182668         -0.444138  \n",
       "...                        ...       ...          ...               ...  \n",
       "AL592183.1               False  0.097734    -0.116758         -0.168538  \n",
       "AC007325.4               False  0.018881    -0.147753         -0.298142  \n",
       "AL354822.1                True  0.066831    -0.059809          0.069592  \n",
       "AC004556.1               False  0.399046    -0.200644         -0.474707  \n",
       "AC240274.1               False  0.072756    -0.070919          0.023139  \n",
       "\n",
       "[19018 rows x 11 columns]"
      ]
     },
     "execution_count": 7,
     "metadata": {},
     "output_type": "execute_result"
    }
   ],
   "source": [
    "adata.var"
   ]
  },
  {
   "cell_type": "code",
   "execution_count": 8,
   "id": "49a9cd82-7f2f-4592-a9a4-687752db6266",
   "metadata": {},
   "outputs": [
    {
     "data": {
      "text/plain": [
       "index\n",
       "AAACCTGAGAAGAAGC-1          control\n",
       "AAACCTGAGGCATGTG-1          TSC22D1\n",
       "AAACCTGAGGCCCTTG-1      KLF1+MAP2K6\n",
       "AAACCTGCACGAAGCA-1          control\n",
       "AAACCTGCAGACGTAG-1    CEBPE+RUNX1T1\n",
       "                          ...      \n",
       "TTTGTCATCAGTACGT-8            FOXA3\n",
       "TTTGTCATCCACTCCA-8            CELF2\n",
       "TTTGTCATCCCAACGG-8           BCORL1\n",
       "TTTGTCATCCTCCTAG-8    PTPN12+ZBTB10\n",
       "TTTGTCATCTGGCGAC-8           MAP4K3\n",
       "Name: perturbation_name, Length: 111255, dtype: category\n",
       "Categories (237, object): ['AHR', 'AHR+FEV', 'AHR+KLF1', 'ARID1A', ..., 'ZBTB25', 'ZC3HAV1', 'ZNF318', 'control']"
      ]
     },
     "execution_count": 8,
     "metadata": {},
     "output_type": "execute_result"
    }
   ],
   "source": [
    "adata.obs.perturbation_name"
   ]
  },
  {
   "cell_type": "code",
   "execution_count": null,
   "id": "215f61ea-de7a-46b1-bda6-e139f5f6d918",
   "metadata": {},
   "outputs": [],
   "source": [
    "adata.obs[['gene_1', 'gene_2']] = adata.obs['perturbation_name'].str.split('+', expand=True)"
   ]
  },
  {
   "cell_type": "code",
   "execution_count": null,
   "id": "2d5fc7f4-09ef-461c-9f0f-5a9a0f7b9578",
   "metadata": {},
   "outputs": [],
   "source": [
    "adata.obs['gene_2'].fillna('control', inplace=True)"
   ]
  },
  {
   "cell_type": "code",
   "execution_count": null,
   "id": "d6153e7f-ae88-41b0-b212-91c6f3c0673e",
   "metadata": {},
   "outputs": [],
   "source": [
    "adata.obs[['gene_1', 'gene_2']]"
   ]
  },
  {
   "cell_type": "code",
   "execution_count": null,
   "id": "a6a028e1-3a79-4292-bd16-7ca5827af0b0",
   "metadata": {},
   "outputs": [],
   "source": [
    "perturbed_genes = set(list(adata.obs.gene_1.unique()) + list(adata.obs.gene_2.unique()))"
   ]
  },
  {
   "cell_type": "code",
   "execution_count": null,
   "id": "57338c17-fb0b-42f5-97bd-006d26c9c1d3",
   "metadata": {},
   "outputs": [],
   "source": [
    "perturbed_genes = list(perturbed_genes)"
   ]
  },
  {
   "cell_type": "code",
   "execution_count": null,
   "id": "f1c24d13-63ff-4d37-a62d-f15c72c13159",
   "metadata": {},
   "outputs": [],
   "source": [
    "perturbed_genes[0]"
   ]
  },
  {
   "cell_type": "code",
   "execution_count": null,
   "id": "66c62765-4c7e-4dae-947f-3755666eb569",
   "metadata": {},
   "outputs": [],
   "source": [
    "adata.var.loc[perturbed_genes]"
   ]
  },
  {
   "cell_type": "code",
   "execution_count": null,
   "id": "a7a3cba6-f9de-45a4-884d-7440943f390e",
   "metadata": {},
   "outputs": [],
   "source": [
    "to_remove = ['control', 'KIAA1804', 'C3orf72', 'C19orf26']"
   ]
  },
  {
   "cell_type": "code",
   "execution_count": null,
   "id": "ede3d016-af07-42cd-b4cd-ff5118e6d5a8",
   "metadata": {},
   "outputs": [],
   "source": [
    "perturbed_genes = [x for x in perturbed_genes if x not in to_remove]"
   ]
  },
  {
   "cell_type": "code",
   "execution_count": null,
   "id": "35b7e737-b2a8-4246-87f7-db72798ce1d5",
   "metadata": {},
   "outputs": [],
   "source": [
    "genes_ids = pd.DataFrame(adata.var.loc[perturbed_genes]['index'])"
   ]
  },
  {
   "cell_type": "markdown",
   "id": "a87d0004-3605-41d7-8ce7-6ef0894ae6c5",
   "metadata": {},
   "source": [
    "Manual search."
   ]
  },
  {
   "cell_type": "code",
   "execution_count": 46,
   "id": "bc958167-592a-4855-a523-c2dbd5e4fd65",
   "metadata": {},
   "outputs": [],
   "source": [
    "genes_ids.loc['C19orf26'] = 'ENSG00000099625'\n",
    "genes_ids.loc['KIAA1804'] = 'ENSG00000143674'\n",
    "genes_ids.loc['C3orf72'] = 'ENSG00000206262'"
   ]
  },
  {
   "cell_type": "code",
   "execution_count": 47,
   "id": "699732e2-4371-433a-a895-20f4fdb104c4",
   "metadata": {},
   "outputs": [
    {
     "data": {
      "text/html": [
       "<div>\n",
       "<style scoped>\n",
       "    .dataframe tbody tr th:only-of-type {\n",
       "        vertical-align: middle;\n",
       "    }\n",
       "\n",
       "    .dataframe tbody tr th {\n",
       "        vertical-align: top;\n",
       "    }\n",
       "\n",
       "    .dataframe thead th {\n",
       "        text-align: right;\n",
       "    }\n",
       "</style>\n",
       "<table border=\"1\" class=\"dataframe\">\n",
       "  <thead>\n",
       "    <tr style=\"text-align: right;\">\n",
       "      <th></th>\n",
       "      <th>index</th>\n",
       "    </tr>\n",
       "    <tr>\n",
       "      <th>gene_symbols</th>\n",
       "      <th></th>\n",
       "    </tr>\n",
       "  </thead>\n",
       "  <tbody>\n",
       "    <tr>\n",
       "      <th>CDKN1B</th>\n",
       "      <td>ENSG00000111276</td>\n",
       "    </tr>\n",
       "    <tr>\n",
       "      <th>CDKN1A</th>\n",
       "      <td>ENSG00000124762</td>\n",
       "    </tr>\n",
       "    <tr>\n",
       "      <th>TP73</th>\n",
       "      <td>ENSG00000078900</td>\n",
       "    </tr>\n",
       "    <tr>\n",
       "      <th>CLDN6</th>\n",
       "      <td>ENSG00000184697</td>\n",
       "    </tr>\n",
       "    <tr>\n",
       "      <th>CEBPB</th>\n",
       "      <td>ENSG00000172216</td>\n",
       "    </tr>\n",
       "    <tr>\n",
       "      <th>...</th>\n",
       "      <td>...</td>\n",
       "    </tr>\n",
       "    <tr>\n",
       "      <th>DUSP9</th>\n",
       "      <td>ENSG00000130829</td>\n",
       "    </tr>\n",
       "    <tr>\n",
       "      <th>TMSB4X</th>\n",
       "      <td>ENSG00000205542</td>\n",
       "    </tr>\n",
       "    <tr>\n",
       "      <th>C19orf26</th>\n",
       "      <td>ENSG00000099625</td>\n",
       "    </tr>\n",
       "    <tr>\n",
       "      <th>KIAA1804</th>\n",
       "      <td>ENSG00000143674</td>\n",
       "    </tr>\n",
       "    <tr>\n",
       "      <th>C3orf72</th>\n",
       "      <td>ENSG00000206262</td>\n",
       "    </tr>\n",
       "  </tbody>\n",
       "</table>\n",
       "<p>105 rows × 1 columns</p>\n",
       "</div>"
      ],
      "text/plain": [
       "                        index\n",
       "gene_symbols                 \n",
       "CDKN1B        ENSG00000111276\n",
       "CDKN1A        ENSG00000124762\n",
       "TP73          ENSG00000078900\n",
       "CLDN6         ENSG00000184697\n",
       "CEBPB         ENSG00000172216\n",
       "...                       ...\n",
       "DUSP9         ENSG00000130829\n",
       "TMSB4X        ENSG00000205542\n",
       "C19orf26      ENSG00000099625\n",
       "KIAA1804      ENSG00000143674\n",
       "C3orf72       ENSG00000206262\n",
       "\n",
       "[105 rows x 1 columns]"
      ]
     },
     "execution_count": 47,
     "metadata": {},
     "output_type": "execute_result"
    }
   ],
   "source": [
    "genes_ids"
   ]
  },
  {
   "cell_type": "code",
   "execution_count": 49,
   "id": "4b585cec-7855-41f2-a7f0-66855d01d186",
   "metadata": {},
   "outputs": [],
   "source": [
    "genes_ids.to_csv('/home/icb/alejandro.tejada/norman_genes.csv')"
   ]
  },
  {
   "cell_type": "markdown",
   "id": "cd0665bd-5c14-4154-9dcd-2362c043715b",
   "metadata": {},
   "source": [
    "### Data split"
   ]
  },
  {
   "cell_type": "code",
   "execution_count": 4,
   "id": "01ecf703-b986-4044-ba1f-0f634f22c5be",
   "metadata": {},
   "outputs": [
    {
     "data": {
      "text/plain": [
       "AnnData object with n_obs × n_vars = 111255 × 19018\n",
       "    obs: 'guide_identity', 'read_count', 'UMI_count', 'coverage', 'gemgroup', 'good_coverage', 'number_of_cells', 'guide_AHR', 'guide_ARID1A', 'guide_ARRDC3', 'guide_ATL1', 'guide_BAK1', 'guide_BCL2L11', 'guide_BCORL1', 'guide_BPGM', 'guide_C19orf26', 'guide_C3orf72', 'guide_CBFA2T3', 'guide_CBL', 'guide_CDKN1A', 'guide_CDKN1B', 'guide_CDKN1C', 'guide_CEBPA', 'guide_CEBPB', 'guide_CEBPE', 'guide_CELF2', 'guide_CITED1', 'guide_CKS1B', 'guide_CLDN6', 'guide_CNN1', 'guide_CNNM4', 'guide_COL1A1', 'guide_COL2A1', 'guide_CSRNP1', 'guide_DLX2', 'guide_DUSP9', 'guide_EGR1', 'guide_ELMSAN1', 'guide_ETS2', 'guide_FEV', 'guide_FOSB', 'guide_FOXA1', 'guide_FOXA3', 'guide_FOXF1', 'guide_FOXL2', 'guide_FOXO4', 'guide_GLB1L2', 'guide_HES7', 'guide_HK2', 'guide_HNF4A', 'guide_HOXA13', 'guide_HOXB9', 'guide_HOXC13', 'guide_IER5L', 'guide_IGDCC3', 'guide_IKZF3', 'guide_IRF1', 'guide_ISL2', 'guide_JUN', 'guide_KIAA1804', 'guide_KIF18B', 'guide_KIF2C', 'guide_KLF1', 'guide_KMT2A', 'guide_LHX1', 'guide_LYL1', 'guide_MAML2', 'guide_MAP2K3', 'guide_MAP2K6', 'guide_MAP4K3', 'guide_MAP4K5', 'guide_MAP7D1', 'guide_MAPK1', 'guide_MEIS1', 'guide_MIDN', 'guide_NCL', 'guide_NIT1', 'guide_OSR2', 'guide_PLK4', 'guide_POU3F2', 'guide_PRDM1', 'guide_PRTG', 'guide_PTPN1', 'guide_PTPN12', 'guide_PTPN13', 'guide_PTPN9', 'guide_RHOXF2', 'guide_RREB1', 'guide_RUNX1T1', 'guide_S1PR2', 'guide_SAMD1', 'guide_SET', 'guide_SGK1', 'guide_SLC38A2', 'guide_SLC4A1', 'guide_SLC6A9', 'guide_SNAI1', 'guide_SPI1', 'guide_STIL', 'guide_TBX2', 'guide_TBX3', 'guide_TGFBR2', 'guide_TMSB4X', 'guide_TP73', 'guide_TSC22D1', 'guide_UBASH3A', 'guide_UBASH3B', 'guide_ZBTB1', 'guide_ZBTB10', 'guide_ZBTB25', 'guide_ZC3HAV1', 'guide_ZNF318', 'guide_ids', 'n_genes', 'n_genes_by_counts', 'total_counts', 'total_counts_mt', 'pct_counts_mt', 'leiden', 'perturbation_name', 'perturbation_type', 'perturbation_value', 'perturbation_unit'\n",
       "    var: 'index', 'n_cells', 'mt', 'n_cells_by_counts', 'mean_counts', 'pct_dropout_by_counts', 'total_counts', 'highly_variable', 'means', 'dispersions', 'dispersions_norm'\n",
       "    uns: 'doi', 'hvg', 'leiden', 'neighbors', 'pca', 'preprocessing_nb_link', 'umap'\n",
       "    obsm: 'X_pca', 'X_umap'\n",
       "    varm: 'PCs'\n",
       "    layers: 'counts'\n",
       "    obsp: 'connectivities', 'distances'"
      ]
     },
     "execution_count": 4,
     "metadata": {},
     "output_type": "execute_result"
    }
   ],
   "source": [
    "adata"
   ]
  },
  {
   "cell_type": "code",
   "execution_count": 5,
   "id": "a5e53bb3-9e2e-4771-aa14-746c28f6163b",
   "metadata": {},
   "outputs": [
    {
     "data": {
      "text/plain": [
       "4.897098"
      ]
     },
     "execution_count": 5,
     "metadata": {},
     "output_type": "execute_result"
    }
   ],
   "source": [
    "adata.X[0].A.max()"
   ]
  },
  {
   "cell_type": "code",
   "execution_count": 6,
   "id": "a56e5145-4a33-47e0-8606-4db347ed42e6",
   "metadata": {},
   "outputs": [],
   "source": [
    "adata.X = adata.layers[\"counts\"]"
   ]
  },
  {
   "cell_type": "code",
   "execution_count": 8,
   "id": "cedbaa9a-3dd0-4c68-91e1-670eeaba3c0d",
   "metadata": {},
   "outputs": [
    {
     "data": {
      "text/plain": [
       "258.0"
      ]
     },
     "execution_count": 8,
     "metadata": {},
     "output_type": "execute_result"
    }
   ],
   "source": [
    "adata.X[0].A.max()"
   ]
  },
  {
   "cell_type": "code",
   "execution_count": 10,
   "id": "5f4a9581-0f7e-4bf6-a483-818ca2d429a6",
   "metadata": {},
   "outputs": [],
   "source": [
    "sc.pp.normalize_total(adata)\n",
    "sc.pp.log1p(adata)"
   ]
  },
  {
   "cell_type": "code",
   "execution_count": 11,
   "id": "fba9aab3-63f1-454e-97bd-fb1c661681a6",
   "metadata": {},
   "outputs": [],
   "source": [
    "sc.pp.highly_variable_genes(adata, inplace=True, n_top_genes=2000)"
   ]
  },
  {
   "cell_type": "code",
   "execution_count": 12,
   "id": "c6baa2f6-611e-498d-9839-5307704b99d0",
   "metadata": {},
   "outputs": [],
   "source": [
    "adata = adata[:,adata.var[\"highly_variable\"]==True]"
   ]
  },
  {
   "cell_type": "code",
   "execution_count": 13,
   "id": "22697cf7-b8ef-45f2-881a-c33a4314c948",
   "metadata": {},
   "outputs": [
    {
     "data": {
      "text/plain": [
       "View of AnnData object with n_obs × n_vars = 111255 × 2000\n",
       "    obs: 'guide_identity', 'read_count', 'UMI_count', 'coverage', 'gemgroup', 'good_coverage', 'number_of_cells', 'guide_AHR', 'guide_ARID1A', 'guide_ARRDC3', 'guide_ATL1', 'guide_BAK1', 'guide_BCL2L11', 'guide_BCORL1', 'guide_BPGM', 'guide_C19orf26', 'guide_C3orf72', 'guide_CBFA2T3', 'guide_CBL', 'guide_CDKN1A', 'guide_CDKN1B', 'guide_CDKN1C', 'guide_CEBPA', 'guide_CEBPB', 'guide_CEBPE', 'guide_CELF2', 'guide_CITED1', 'guide_CKS1B', 'guide_CLDN6', 'guide_CNN1', 'guide_CNNM4', 'guide_COL1A1', 'guide_COL2A1', 'guide_CSRNP1', 'guide_DLX2', 'guide_DUSP9', 'guide_EGR1', 'guide_ELMSAN1', 'guide_ETS2', 'guide_FEV', 'guide_FOSB', 'guide_FOXA1', 'guide_FOXA3', 'guide_FOXF1', 'guide_FOXL2', 'guide_FOXO4', 'guide_GLB1L2', 'guide_HES7', 'guide_HK2', 'guide_HNF4A', 'guide_HOXA13', 'guide_HOXB9', 'guide_HOXC13', 'guide_IER5L', 'guide_IGDCC3', 'guide_IKZF3', 'guide_IRF1', 'guide_ISL2', 'guide_JUN', 'guide_KIAA1804', 'guide_KIF18B', 'guide_KIF2C', 'guide_KLF1', 'guide_KMT2A', 'guide_LHX1', 'guide_LYL1', 'guide_MAML2', 'guide_MAP2K3', 'guide_MAP2K6', 'guide_MAP4K3', 'guide_MAP4K5', 'guide_MAP7D1', 'guide_MAPK1', 'guide_MEIS1', 'guide_MIDN', 'guide_NCL', 'guide_NIT1', 'guide_OSR2', 'guide_PLK4', 'guide_POU3F2', 'guide_PRDM1', 'guide_PRTG', 'guide_PTPN1', 'guide_PTPN12', 'guide_PTPN13', 'guide_PTPN9', 'guide_RHOXF2', 'guide_RREB1', 'guide_RUNX1T1', 'guide_S1PR2', 'guide_SAMD1', 'guide_SET', 'guide_SGK1', 'guide_SLC38A2', 'guide_SLC4A1', 'guide_SLC6A9', 'guide_SNAI1', 'guide_SPI1', 'guide_STIL', 'guide_TBX2', 'guide_TBX3', 'guide_TGFBR2', 'guide_TMSB4X', 'guide_TP73', 'guide_TSC22D1', 'guide_UBASH3A', 'guide_UBASH3B', 'guide_ZBTB1', 'guide_ZBTB10', 'guide_ZBTB25', 'guide_ZC3HAV1', 'guide_ZNF318', 'guide_ids', 'n_genes', 'n_genes_by_counts', 'total_counts', 'total_counts_mt', 'pct_counts_mt', 'leiden', 'perturbation_name', 'perturbation_type', 'perturbation_value', 'perturbation_unit'\n",
       "    var: 'index', 'n_cells', 'mt', 'n_cells_by_counts', 'mean_counts', 'pct_dropout_by_counts', 'total_counts', 'highly_variable', 'means', 'dispersions', 'dispersions_norm'\n",
       "    uns: 'doi', 'hvg', 'leiden', 'neighbors', 'pca', 'preprocessing_nb_link', 'umap', 'log1p'\n",
       "    obsm: 'X_pca', 'X_umap'\n",
       "    varm: 'PCs'\n",
       "    layers: 'counts'\n",
       "    obsp: 'connectivities', 'distances'"
      ]
     },
     "execution_count": 13,
     "metadata": {},
     "output_type": "execute_result"
    }
   ],
   "source": [
    "adata"
   ]
  },
  {
   "cell_type": "code",
   "execution_count": 15,
   "id": "d2bf52a6-760e-4d3c-ba2a-64fafcc028fb",
   "metadata": {},
   "outputs": [
    {
     "name": "stderr",
     "output_type": "stream",
     "text": [
      "/tmp/ipykernel_994588/3420120361.py:1: ImplicitModificationWarning: Trying to modify attribute `.obs` of view, initializing view as actual.\n",
      "  adata.obs['cell_line'] = 'K562'\n"
     ]
    }
   ],
   "source": [
    "adata.obs['cell_line'] = 'K562'"
   ]
  },
  {
   "cell_type": "code",
   "execution_count": null,
   "id": "9d3b9ad6-f2eb-41c1-96aa-ec26668f4276",
   "metadata": {},
   "outputs": [],
   "source": []
  }
 ],
 "metadata": {
  "kernelspec": {
   "display_name": "Python 3 (ipykernel)",
   "language": "python",
   "name": "python3"
  },
  "language_info": {
   "codemirror_mode": {
    "name": "ipython",
    "version": 3
   },
   "file_extension": ".py",
   "mimetype": "text/x-python",
   "name": "python",
   "nbconvert_exporter": "python",
   "pygments_lexer": "ipython3",
   "version": "3.12.3"
  }
 },
 "nbformat": 4,
 "nbformat_minor": 5
}
