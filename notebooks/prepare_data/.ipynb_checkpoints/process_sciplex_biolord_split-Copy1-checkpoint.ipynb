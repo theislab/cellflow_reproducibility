{
 "cells": [
  {
   "cell_type": "code",
   "execution_count": null,
   "id": "86eb5c2a-cb57-45a9-a7e5-413ad1e6c0fe",
   "metadata": {},
   "outputs": [],
   "source": [
    "import numpy as np\n",
    "import pandas as pd\n",
    "import pertpy\n",
    "import scanpy as sc\n",
    "from rdkit import Chem"
   ]
  },
  {
   "cell_type": "code",
   "execution_count": null,
   "id": "abe47199-3d06-4cae-845e-e9428075b1c7",
   "metadata": {},
   "outputs": [],
   "source": [
    "print(pertpy.__version__)"
   ]
  },
  {
   "cell_type": "code",
   "execution_count": null,
   "id": "b1c2ebcf-ef48-4f75-ae76-207170f12f56",
   "metadata": {},
   "outputs": [],
   "source": [
    "df_cell_line = pd.read_csv(\n",
    "    \"/lustre/groups/ml01/workspace/alejandro.tejada/super_rad_project/cell_line_embeddings/cell_line_embedding_full_ccle_300.csv\"\n",
    ")"
   ]
  },
  {
   "cell_type": "code",
   "execution_count": null,
   "id": "762e934c-7300-4a6d-99bf-ed30c6c6d488",
   "metadata": {},
   "outputs": [],
   "source": [
    "df_cell_line"
   ]
  },
  {
   "cell_type": "code",
   "execution_count": null,
   "id": "14ffe4cb-d0fd-4467-bdbe-b3b0cd450171",
   "metadata": {},
   "outputs": [],
   "source": [
    "mcf7_emb = df_cell_line[df_cell_line[\"stripped_cell_line_name\"] == \"MCF7\"].iloc[0, 1:].values\n",
    "k562_emb = df_cell_line[df_cell_line[\"stripped_cell_line_name\"] == \"K562\"].iloc[0, 1:].values\n",
    "a549_emb = df_cell_line[df_cell_line[\"stripped_cell_line_name\"] == \"A549\"].iloc[0, 1:].values"
   ]
  },
  {
   "cell_type": "code",
   "execution_count": null,
   "id": "ca44e73a-4aa5-4703-99a3-344ab20ff34a",
   "metadata": {},
   "outputs": [],
   "source": [
    "adata = pertpy.data.sciplex3_raw()"
   ]
  },
  {
   "cell_type": "code",
   "execution_count": null,
   "id": "1f71cc0a-9230-41f8-9185-1496a9c26e45",
   "metadata": {},
   "outputs": [],
   "source": [
    "adata.obs[\"cell_type\"].value_counts()"
   ]
  },
  {
   "cell_type": "code",
   "execution_count": null,
   "id": "eb4ff6ed-5d0c-4354-8819-0b14294bc2fc",
   "metadata": {},
   "outputs": [],
   "source": [
    "adata.obs[\"perturbation\"] = adata.obs[\"product_name\"]\n",
    "adata.obs[\"drug\"] = adata.obs.apply(lambda x: x[\"product_name\"].replace(\" \", \"_\"), axis=1)\n",
    "adata.obs[\"cell_line\"] = adata.obs[\"cell_type\"]\n",
    "adata.obs[\"logdose\"] = adata.obs.apply(lambda x: np.log10(x[\"dose\"]) if x[\"dose\"] > 0.0 else 0.0, axis=1)\n",
    "adata.obs.loc[:, \"condition\"] = adata.obs.apply(lambda x: \"_\".join([x.cell_type, x.drug, str(x.dose)]), axis=1)"
   ]
  },
  {
   "cell_type": "code",
   "execution_count": null,
   "id": "347f4d56-8fd5-4909-b261-17460178543b",
   "metadata": {},
   "outputs": [],
   "source": [
    "def get_cell_line_embedding(x):\n",
    "    if x[\"cell_line\"] == \"MCF7\":\n",
    "        return mcf7_emb.astype(\"float\")[None, :]\n",
    "    elif x[\"cell_line\"] == \"A549\":\n",
    "        return a549_emb.astype(\"float\")[None, :]\n",
    "    elif x[\"cell_line\"] == \"K562\":\n",
    "        return k562_emb.astype(\"float\")[None, :]\n",
    "\n",
    "\n",
    "adata.obsm[\"cell_line_emb\"] = np.concatenate(adata.obs.apply(get_cell_line_embedding, axis=1).values, axis=0)"
   ]
  },
  {
   "cell_type": "code",
   "execution_count": null,
   "id": "6245f650-88e3-4718-bb55-b4598e297942",
   "metadata": {},
   "outputs": [],
   "source": [
    "adata.n_obs"
   ]
  },
  {
   "cell_type": "code",
   "execution_count": null,
   "id": "c373a68e-c3ee-4f86-822c-1f6c1e319a8d",
   "metadata": {},
   "outputs": [],
   "source": [
    "sc.pp.normalize_total(adata)\n",
    "sc.pp.log1p(adata)"
   ]
  },
  {
   "cell_type": "code",
   "execution_count": null,
   "id": "c687ce79-4786-4f70-a821-b5942cfca3a6",
   "metadata": {},
   "outputs": [],
   "source": [
    "sc.pp.highly_variable_genes(adata, inplace=True, n_top_genes=2000)"
   ]
  },
  {
   "cell_type": "code",
   "execution_count": null,
   "id": "f0984aa6-b9c3-4789-9b4c-76023e005947",
   "metadata": {},
   "outputs": [],
   "source": [
    "adata = adata[:, adata.var[\"highly_variable\"] == True]"
   ]
  },
  {
   "cell_type": "code",
   "execution_count": null,
   "id": "cab39a4c-4ed9-4266-90ee-49883306ed8b",
   "metadata": {},
   "outputs": [],
   "source": [
    "adata = adata[~adata.obs[\"drug\"].isnull()]"
   ]
  },
  {
   "cell_type": "code",
   "execution_count": null,
   "id": "21dc3e71-7868-4ab2-a46b-966f837e5a10",
   "metadata": {},
   "outputs": [],
   "source": [
    "pertpy.md.Compound().annotate_compounds(adata)"
   ]
  },
  {
   "cell_type": "code",
   "execution_count": null,
   "id": "93e302f7-4c32-4325-8bc8-57931f0cfd4a",
   "metadata": {},
   "outputs": [],
   "source": [
    "# taken from pubchem\n",
    "smiles_dict = {\n",
    "    \"Dacinostat (LAQ824)\": \"C1=CC=C2C(=C1)C(=CN2)CCN(CCO)CC3=CC=C(C=C3)/C=C/C(=O)NO\",\n",
    "    \"Glesatinib?(MGCD265)\": \"COCCNCC1=CN=C(C=C1)C2=CC3=NC=CC(=C3S2)OC4=C(C=C(C=C4)NC(=S)NC(=O)CC5=CC=C(C=C5)F)F\",\n",
    "    \"MC1568\": \"CN1C=C(C=C1/C=C/C(=O)NO)/C=C/C(=O)C2=CC(=CC=C2)F\",\n",
    "    \"Ivosidenib (AG-120)\": \"C1CC(=O)N([C@@H]1C(=O)N(C2=CC(=CN=C2)F)[C@@H](C3=CC=CC=C3Cl)C(=O)NC4CC(C4)(F)F)C5=NC=CC(=C5)C#N\",\n",
    "    \"Bisindolylmaleimide IX (Ro 31-8220 Mesylate)\": \"CN1C=C(C2=CC=CC=C21)C3=C(C(=O)NC3=O)C4=CN(C5=CC=CC=C54)CCCSC(=N)N\",\n",
    "}"
   ]
  },
  {
   "cell_type": "code",
   "execution_count": null,
   "id": "6f5da546-dd1a-43bc-965f-fb52faf838d5",
   "metadata": {},
   "outputs": [],
   "source": [
    "adata.obs[\"smiles\"].value_counts(dropna=False)"
   ]
  },
  {
   "cell_type": "code",
   "execution_count": null,
   "id": "31f4cd87-4f44-469d-8931-92f30d7d2c0a",
   "metadata": {},
   "outputs": [],
   "source": [
    "adata.obs[\"smiles\"] = adata.obs[[\"smiles\", \"perturbation\"]].apply(\n",
    "    lambda x: smiles_dict[x[\"perturbation\"]] if x[\"perturbation\"] in smiles_dict.keys() else x[\"smiles\"], axis=1\n",
    ")"
   ]
  },
  {
   "cell_type": "code",
   "execution_count": null,
   "id": "6ea994df-f430-4c98-8224-18335ba330bb",
   "metadata": {},
   "outputs": [],
   "source": [
    "adata.obs[\"smiles\"].value_counts(dropna=False)"
   ]
  },
  {
   "cell_type": "code",
   "execution_count": null,
   "id": "6b6f0b93-94c9-4263-a416-f3dcbdf52e3a",
   "metadata": {},
   "outputs": [],
   "source": [
    "adata[adata.obs[\"smiles\"].isnull()].obs.dose.value_counts()"
   ]
  },
  {
   "cell_type": "code",
   "execution_count": null,
   "id": "2b7babb0-2c0a-4e2a-a3fb-ea1c85eec802",
   "metadata": {},
   "outputs": [],
   "source": [
    "adata[~adata.obs[\"smiles\"].isnull()].obs.dose.value_counts()"
   ]
  },
  {
   "cell_type": "code",
   "execution_count": null,
   "id": "715c400b-5eff-4a69-bc00-744978fb33d0",
   "metadata": {},
   "outputs": [],
   "source": [
    "from rdkit.Chem import AllChem\n",
    "\n",
    "\n",
    "def get_fp(smiles, radius=4, nBits=1024):\n",
    "    m = Chem.MolFromSmiles(smiles, sanitize=False)\n",
    "    if m is None:\n",
    "        return \"invalid\"\n",
    "    else:\n",
    "        try:\n",
    "            Chem.SanitizeMol(m)\n",
    "        except:\n",
    "            return \"invalid\"\n",
    "    return AllChem.GetHashedMorganFingerprint(m, radius=radius, nBits=nBits)"
   ]
  },
  {
   "cell_type": "code",
   "execution_count": null,
   "id": "6a805f5b-2f32-43c8-bae8-c61c69ba8b21",
   "metadata": {},
   "outputs": [],
   "source": [
    "smiles_to_fp = {}\n",
    "for sm in adata.obs[\"smiles\"].unique():\n",
    "    if not isinstance(sm, str):\n",
    "        continue\n",
    "    smiles_to_fp[sm] = np.array(list(get_fp(sm)))"
   ]
  },
  {
   "cell_type": "code",
   "execution_count": null,
   "id": "e6e1e5fd-ba4b-4224-8d1b-db9fe5167b7c",
   "metadata": {},
   "outputs": [],
   "source": [
    "features_df = pd.DataFrame.from_dict(smiles_to_fp).T"
   ]
  },
  {
   "cell_type": "code",
   "execution_count": null,
   "id": "fe2b991c-f28b-400b-90c8-da6b6b874d64",
   "metadata": {},
   "outputs": [],
   "source": [
    "features_cells = np.zeros((adata.shape[0], features_df.shape[1]))\n",
    "for mol, ecfp in features_df.iterrows():\n",
    "    features_cells[adata.obs[\"smiles\"].isin([mol])] = ecfp.values"
   ]
  },
  {
   "cell_type": "code",
   "execution_count": null,
   "id": "3c653cf8-e339-405e-96c1-1d43972d8185",
   "metadata": {},
   "outputs": [],
   "source": [
    "adata.obsm[\"ecfp\"] = features_cells"
   ]
  },
  {
   "cell_type": "code",
   "execution_count": null,
   "id": "4abff028-21c9-4557-a544-31bd765b690c",
   "metadata": {},
   "outputs": [],
   "source": [
    "def rank_genes_groups_by_cov(\n",
    "    adata,\n",
    "    groupby,\n",
    "    control_group,\n",
    "    covariate,\n",
    "    n_genes=50,\n",
    "    rankby_abs=True,\n",
    "    key_added=\"rank_genes_groups_cov\",\n",
    "    return_dict=False,\n",
    "):\n",
    "    gene_dict = {}\n",
    "    cov_categories = adata.obs[covariate].unique()\n",
    "    for cov_cat in cov_categories:\n",
    "        # name of the control group in the groupby obs column\n",
    "        control_group_cov = \"_\".join([cov_cat, \"Vehicle\", \"0.0\"])\n",
    "        adata_cov = adata[adata.obs[covariate] == cov_cat]\n",
    "\n",
    "        # compute DEGs\n",
    "        sc.tl.rank_genes_groups(\n",
    "            adata_cov,\n",
    "            groupby=groupby,\n",
    "            reference=control_group_cov,\n",
    "            rankby_abs=rankby_abs,\n",
    "            n_genes=n_genes,\n",
    "            use_raw=False,\n",
    "        )\n",
    "        # add entries to dictionary of gene sets\n",
    "        de_genes = pd.DataFrame(adata_cov.uns[\"rank_genes_groups\"][\"names\"])\n",
    "        for group in de_genes:\n",
    "            gene_dict[group] = de_genes[group].tolist()\n",
    "    adata.uns[key_added] = gene_dict\n",
    "    if return_dict:\n",
    "        return gene_dict\n",
    "\n",
    "\n",
    "def get_DE_genes(adata):\n",
    "    adata.obs.loc[:, \"control\"] = adata.obs.perturbation.apply(lambda x: 1 if x == \"Vehicle\" else 0)\n",
    "    adata.obs = adata.obs.astype(\"category\")\n",
    "    rank_genes_groups_by_cov(\n",
    "        adata,\n",
    "        groupby=\"condition\",\n",
    "        covariate=\"cell_type\",\n",
    "        control_group=\"Vehicle\",\n",
    "        n_genes=50,\n",
    "        key_added=\"rank_genes_groups_cov_all\",\n",
    "    )\n",
    "    return adata"
   ]
  },
  {
   "cell_type": "code",
   "execution_count": null,
   "id": "4aa6f227-98da-4c92-a8a2-6c8669b6d794",
   "metadata": {},
   "outputs": [],
   "source": [
    "for col in adata.obs.select_dtypes(include=[\"category\"]):\n",
    "    adata.obs[col].cat.remove_unused_categories()"
   ]
  },
  {
   "cell_type": "code",
   "execution_count": null,
   "id": "cf3f7349-6415-405e-9bc1-6089b8f194b3",
   "metadata": {},
   "outputs": [],
   "source": [
    "adata = get_DE_genes(adata)"
   ]
  },
  {
   "cell_type": "code",
   "execution_count": null,
   "id": "da68b459-4cac-49f3-9aa9-3def92a8afd9",
   "metadata": {},
   "outputs": [],
   "source": [
    "ood_drugs = [\n",
    "    \"Dacinostat\",\n",
    "    \"Givinostat\",\n",
    "    \"Belinostat\",\n",
    "    \"Hesperadin\",\n",
    "    \"Quisinostat\",\n",
    "    \"Alvespimycin\",\n",
    "    \"Tanespimycin\",\n",
    "    \"TAK-901\",\n",
    "    \"Flavopiridol\",\n",
    "]"
   ]
  },
  {
   "cell_type": "code",
   "execution_count": null,
   "id": "b49fcb48-f286-4d9b-a5c2-b6a5fe3608d9",
   "metadata": {},
   "outputs": [],
   "source": [
    "[d for d in ood_drugs if d in adata.obs[\"drug\"].unique()]"
   ]
  },
  {
   "cell_type": "code",
   "execution_count": null,
   "id": "45aece4d-c711-4cfc-87eb-a3f9a8232388",
   "metadata": {},
   "outputs": [],
   "source": [
    "[el for el in adata.obs[\"drug\"].unique() if \"acinostat\" in el]"
   ]
  },
  {
   "cell_type": "code",
   "execution_count": null,
   "id": "9be84570-d433-4205-ad68-1dc2d1545cfc",
   "metadata": {},
   "outputs": [],
   "source": [
    "[el for el in adata.obs[\"drug\"].unique() if \"ivinostat\" in el]"
   ]
  },
  {
   "cell_type": "code",
   "execution_count": null,
   "id": "f57e1d9c-0a21-4afb-8ad3-76bc91749f7d",
   "metadata": {},
   "outputs": [],
   "source": [
    "[el for el in adata.obs[\"drug\"].unique() if \"elinostat\" in el]"
   ]
  },
  {
   "cell_type": "code",
   "execution_count": null,
   "id": "96b30e90-ed5b-4e45-8e80-f5c49ee967d7",
   "metadata": {},
   "outputs": [],
   "source": [
    "[el for el in adata.obs[\"drug\"].unique() if \"Quisinostat\" in el]"
   ]
  },
  {
   "cell_type": "code",
   "execution_count": null,
   "id": "397588d1-f410-4ff1-b06b-7ad7645d5875",
   "metadata": {},
   "outputs": [],
   "source": [
    "[el for el in adata.obs[\"drug\"].unique() if \"Alvespimycin\" in el]"
   ]
  },
  {
   "cell_type": "code",
   "execution_count": null,
   "id": "0514e9ef-050c-4c27-ba48-53d3af5f3bd0",
   "metadata": {},
   "outputs": [],
   "source": [
    "[el for el in adata.obs[\"drug\"].unique() if \"Tanespimycin\" in el]"
   ]
  },
  {
   "cell_type": "code",
   "execution_count": null,
   "id": "6f8635ac-5d60-41f4-ac6a-0fb5c86cddc9",
   "metadata": {},
   "outputs": [],
   "source": [
    "[el for el in adata.obs[\"drug\"].unique() if \"Flavopiridol\" in el]"
   ]
  },
  {
   "cell_type": "code",
   "execution_count": null,
   "id": "1028d1d9-5912-45b9-adb5-872c85c025c8",
   "metadata": {},
   "outputs": [],
   "source": [
    "ood_drugs = [\n",
    "    \"Hesperadin\",\n",
    "    \"TAK-901\",\n",
    "    \"Dacinostat_(LAQ824)\",\n",
    "    \"Givinostat_(ITF2357)\",\n",
    "    \"Belinostat_(PXD101)\",\n",
    "    \"Quisinostat_(JNJ-26481585)_2HCl\",\n",
    "    \"Alvespimycin_(17-DMAG)_HCl\",\n",
    "    \"Tanespimycin_(17-AAG)\",\n",
    "    \"Flavopiridol_HCl\",\n",
    "]"
   ]
  },
  {
   "cell_type": "code",
   "execution_count": null,
   "id": "0729c01f-6f94-4028-881e-3cc6ab78da15",
   "metadata": {},
   "outputs": [],
   "source": [
    "len(ood_drugs)"
   ]
  },
  {
   "cell_type": "code",
   "execution_count": null,
   "id": "05e19bb0-8cce-4052-99f0-1624cf547f5d",
   "metadata": {},
   "outputs": [],
   "source": [
    "adata.obs[\"ood\"] = adata.obs.apply(lambda x: x[\"drug\"] if x[\"drug\"] in ood_drugs else \"not ood\", axis=1)\n",
    "adata.obs[\"is_ood\"] = adata.obs.apply(lambda x: x[\"drug\"] in ood_drugs, axis=1)\n",
    "adata.obs[\"ood\"] = adata.obs[\"ood\"].astype(\"category\")"
   ]
  },
  {
   "cell_type": "code",
   "execution_count": null,
   "id": "49c42eb5-7cf9-4cb0-b436-a57c1175bab2",
   "metadata": {},
   "outputs": [],
   "source": [
    "adata_ood = adata[adata.obs[\"is_ood\"]]"
   ]
  },
  {
   "cell_type": "code",
   "execution_count": null,
   "id": "1b1e1f32-3317-4c0a-92da-6ce7338fbaa1",
   "metadata": {},
   "outputs": [],
   "source": [
    "adata_train = adata[~adata.obs[\"is_ood\"]]"
   ]
  },
  {
   "cell_type": "code",
   "execution_count": null,
   "id": "0b50d08e-75bb-4eb0-9435-e59df54e8247",
   "metadata": {},
   "outputs": [],
   "source": [
    "rng = np.random.default_rng(0)\n",
    "split_dfs = []\n",
    "for cond in adata_train.obs[\"condition\"].unique():\n",
    "    adata_subset = adata_train[(adata_train.obs[\"condition\"] == cond)]\n",
    "    n_cells = adata_subset.n_obs\n",
    "    if \"Vehicle\" in cond:\n",
    "        idx_test = rng.choice(np.arange(n_cells), 500, replace=False)\n",
    "        remaining_idcs = set(np.arange(n_cells)) - set(idx_test)\n",
    "        split = [\"test\" if idx in idx_test else \"train\" for idx in range(n_cells)]\n",
    "        df = adata_subset.obs[[\"condition\"]].copy()\n",
    "        df[\"split\"] = split\n",
    "        split_dfs.append(df)\n",
    "    else:\n",
    "        if adata_subset.n_obs >= 100:\n",
    "            idx_test = rng.choice(np.arange(n_cells), 50, replace=False)\n",
    "            split = [\"test\" if idx in idx_test else \"train\" for idx in range(n_cells)]\n",
    "        else:\n",
    "            split = [\"train\"] * adata_subset.n_obs\n",
    "        df = adata_subset.obs[[\"condition\"]].copy()\n",
    "        df[\"split\"] = split\n",
    "        split_dfs.append(df)"
   ]
  },
  {
   "cell_type": "code",
   "execution_count": null,
   "id": "a4af93c8-102f-44eb-b1c7-1956a8a1e0b2",
   "metadata": {},
   "outputs": [],
   "source": [
    "df_concat = pd.concat(split_dfs, axis=0)"
   ]
  },
  {
   "cell_type": "code",
   "execution_count": null,
   "id": "ced3b798-bd24-4574-a2f4-ecd26f693cb0",
   "metadata": {},
   "outputs": [],
   "source": [
    "len(df_concat), adata_train.n_obs"
   ]
  },
  {
   "cell_type": "code",
   "execution_count": null,
   "id": "fae120c0-3852-4f08-9ea1-5fa8aae8df7f",
   "metadata": {},
   "outputs": [],
   "source": [
    "adata_train.obs[\"split\"] = df_concat[[\"split\"]]"
   ]
  },
  {
   "cell_type": "code",
   "execution_count": null,
   "id": "f401035c-120f-4e2d-a11f-7813152842e7",
   "metadata": {},
   "outputs": [],
   "source": [
    "adata_ood[adata_ood.obs[\"condition\"] == \"control\"].n_obs"
   ]
  },
  {
   "cell_type": "code",
   "execution_count": null,
   "id": "e0c0fbc9-30ac-47ba-81ee-cf8778845efd",
   "metadata": {},
   "outputs": [],
   "source": [
    "adata_ood.obs[\"split\"] = \"ood\""
   ]
  },
  {
   "cell_type": "code",
   "execution_count": null,
   "id": "ce741b7e-3c7e-422a-83bf-98ed86372df2",
   "metadata": {},
   "outputs": [],
   "source": [
    "import anndata\n",
    "\n",
    "adata_train_final = adata_train[adata_train.obs[\"split\"] == \"train\"]\n",
    "adata_test_final = adata_train[adata_train.obs[\"split\"] == \"test\"]\n",
    "adata_ood_final = anndata.concat((adata_ood, adata_test_final[adata_test_final.obs[\"perturbation\"] == \"Vehicle\"]))"
   ]
  },
  {
   "cell_type": "code",
   "execution_count": null,
   "id": "20163c64-4cf0-45e8-bfeb-74cea702b654",
   "metadata": {},
   "outputs": [],
   "source": [
    "adata_train_final.obs[\"condition\"].value_counts()"
   ]
  },
  {
   "cell_type": "code",
   "execution_count": null,
   "id": "b8700ac1-ca56-4ff6-9580-27f256cd350a",
   "metadata": {},
   "outputs": [],
   "source": [
    "adata_train_final.varm[\"X_train_mean\"] = adata_train_final.X.mean(axis=0).T"
   ]
  },
  {
   "cell_type": "code",
   "execution_count": null,
   "id": "5168d33e-54e0-4e47-89dd-79d46b31e8fd",
   "metadata": {},
   "outputs": [],
   "source": [
    "from scipy.sparse import csr_matrix\n",
    "\n",
    "train_mean = adata_train_final.varm[\"X_train_mean\"].T\n",
    "adata_train_final.layers[\"centered_X\"] = csr_matrix(adata_train_final.X.A - train_mean)"
   ]
  },
  {
   "cell_type": "code",
   "execution_count": null,
   "id": "80bcd879-ce6f-4564-883f-cbbdf46fb0cc",
   "metadata": {},
   "outputs": [],
   "source": [
    "adata_train_final.layers[\"X_log1p\"] = adata_train_final.X.copy()\n",
    "adata_train_final.X = adata_train_final.layers[\"centered_X\"]"
   ]
  },
  {
   "cell_type": "code",
   "execution_count": null,
   "id": "c8421dee-3e59-460f-b2d6-93de7af3bd32",
   "metadata": {},
   "outputs": [],
   "source": [
    "sc.pp.pca(adata_train_final, zero_center=False, n_comps=300)"
   ]
  },
  {
   "cell_type": "code",
   "execution_count": null,
   "id": "e766cd13-62dc-4d74-94c8-5a0193a14db8",
   "metadata": {},
   "outputs": [],
   "source": [
    "adata_train_final.X = adata_train_final.layers[\"X_log1p\"]"
   ]
  },
  {
   "cell_type": "code",
   "execution_count": null,
   "id": "ac34d20e-e662-48c4-8344-26a8f44181a9",
   "metadata": {},
   "outputs": [],
   "source": [
    "adata_ood_final.varm[\"X_train_mean\"] = adata_train_final.varm[\"X_train_mean\"]\n",
    "adata_test_final.varm[\"X_train_mean\"] = adata_train_final.varm[\"X_train_mean\"]"
   ]
  },
  {
   "cell_type": "code",
   "execution_count": null,
   "id": "850ba2f0-f9b8-4792-b0b0-87c52a5938c8",
   "metadata": {},
   "outputs": [],
   "source": [
    "adata_test_final.layers[\"centered_X\"] = csr_matrix(adata_test_final.X.A - train_mean)\n",
    "adata_ood_final.layers[\"centered_X\"] = csr_matrix(adata_ood_final.X.A - train_mean)"
   ]
  },
  {
   "cell_type": "code",
   "execution_count": null,
   "id": "1e1a430a-defa-4872-99b5-2a631aea40af",
   "metadata": {},
   "outputs": [],
   "source": [
    "adata_test_final.obsm[\"X_pca\"] = np.matmul(adata_test_final.layers[\"centered_X\"].A, adata_train_final.varm[\"PCs\"])\n",
    "adata_ood_final.obsm[\"X_pca\"] = np.matmul(adata_ood_final.layers[\"centered_X\"].A, adata_train_final.varm[\"PCs\"])"
   ]
  },
  {
   "cell_type": "code",
   "execution_count": null,
   "id": "0132ba08-040c-47f7-9716-7ede43c3f246",
   "metadata": {},
   "outputs": [],
   "source": [
    "adata_train_final.obs[\"logdose\"] = adata_train_final.obs.apply(\n",
    "    lambda x: np.log10(x[\"dose\"]) if x[\"dose\"] > 0.0 else 0.0, axis=1\n",
    ")"
   ]
  },
  {
   "cell_type": "code",
   "execution_count": null,
   "id": "3a0b2eec-be51-4209-83de-a14e45a437e6",
   "metadata": {},
   "outputs": [],
   "source": [
    "adata_train_final.obsm[\"ecfp_cell_line\"] = np.concatenate(\n",
    "    (adata_train_final.obsm[\"ecfp\"], adata_train_final.obsm[\"cell_line_emb\"]), axis=1\n",
    ")\n",
    "adata_test_final.obsm[\"ecfp_cell_line\"] = np.concatenate(\n",
    "    (adata_test_final.obsm[\"ecfp\"], adata_test_final.obsm[\"cell_line_emb\"]), axis=1\n",
    ")\n",
    "adata_ood_final.obsm[\"ecfp_cell_line\"] = np.concatenate(\n",
    "    (adata_ood_final.obsm[\"ecfp\"], adata_ood_final.obsm[\"cell_line_emb\"]), axis=1\n",
    ")"
   ]
  },
  {
   "cell_type": "code",
   "execution_count": null,
   "id": "de376f46-a2fc-4787-9cc5-6cbaf1a50004",
   "metadata": {},
   "outputs": [],
   "source": [
    "adata_train_final.obsm[\"ecfp_cell_line_dose\"] = np.concatenate(\n",
    "    (adata_train_final.obsm[\"ecfp_cell_line\"], adata_train_final.obs[\"dose\"].values[:, None]), axis=1\n",
    ")\n",
    "adata_test_final.obsm[\"ecfp_cell_line_dose\"] = np.concatenate(\n",
    "    (adata_test_final.obsm[\"ecfp_cell_line\"], adata_test_final.obs[\"dose\"].values[:, None]), axis=1\n",
    ")\n",
    "adata_ood_final.obsm[\"ecfp_cell_line_dose\"] = np.concatenate(\n",
    "    (adata_ood_final.obsm[\"ecfp_cell_line\"], adata_ood_final.obs[\"dose\"].values[:, None]), axis=1\n",
    ")"
   ]
  },
  {
   "cell_type": "code",
   "execution_count": null,
   "id": "449f54cd-6d41-41a8-99b2-871ce77e2042",
   "metadata": {},
   "outputs": [],
   "source": [
    "adata_train_final.obsm[\"ecfp_cell_line_logdose\"] = np.concatenate(\n",
    "    (adata_train_final.obsm[\"ecfp_cell_line\"], adata_train_final.obs[\"logdose\"].values[:, None]), axis=1\n",
    ")\n",
    "adata_test_final.obsm[\"ecfp_cell_line_logdose\"] = np.concatenate(\n",
    "    (adata_test_final.obsm[\"ecfp_cell_line\"], adata_test_final.obs[\"logdose\"].values[:, None]), axis=1\n",
    ")\n",
    "adata_ood_final.obsm[\"ecfp_cell_line_logdose\"] = np.concatenate(\n",
    "    (adata_ood_final.obsm[\"ecfp_cell_line\"], adata_ood_final.obs[\"logdose\"].values[:, None]), axis=1\n",
    ")"
   ]
  },
  {
   "cell_type": "code",
   "execution_count": null,
   "id": "5cf1cc42-326f-4cfe-82b5-e9f4e7d3ad92",
   "metadata": {},
   "outputs": [],
   "source": [
    "adata_train_final.obsm[\"ecfp_cell_line_logdose_more_dose\"] = np.concatenate(\n",
    "    (adata_train_final.obsm[\"ecfp_cell_line\"], np.tile(adata_train_final.obs[\"logdose\"].values[:, None], (1, 100))),\n",
    "    axis=1,\n",
    ")\n",
    "adata_test_final.obsm[\"ecfp_cell_line_logdose_more_dose\"] = np.concatenate(\n",
    "    (adata_test_final.obsm[\"ecfp_cell_line\"], np.tile(adata_test_final.obs[\"logdose\"].values[:, None], (1, 100))),\n",
    "    axis=1,\n",
    ")\n",
    "adata_ood_final.obsm[\"ecfp_cell_line_logdose_more_dose\"] = np.concatenate(\n",
    "    (adata_ood_final.obsm[\"ecfp_cell_line\"], np.tile(adata_ood_final.obs[\"logdose\"].values[:, None], (1, 100))), axis=1\n",
    ")"
   ]
  },
  {
   "cell_type": "code",
   "execution_count": null,
   "id": "f4f6ed2d-3790-45b8-939e-02ac22537e8c",
   "metadata": {},
   "outputs": [],
   "source": [
    "adata_train_final.obsm[\"ecfp_cell_line_dose_more_dose\"] = np.concatenate(\n",
    "    (adata_train_final.obsm[\"ecfp_cell_line\"], np.tile(adata_train_final.obs[\"dose\"].values[:, None], (1, 100))), axis=1\n",
    ")\n",
    "adata_test_final.obsm[\"ecfp_cell_line_dose_more_dose\"] = np.concatenate(\n",
    "    (adata_test_final.obsm[\"ecfp_cell_line\"], np.tile(adata_test_final.obs[\"dose\"].values[:, None], (1, 100))), axis=1\n",
    ")\n",
    "adata_ood_final.obsm[\"ecfp_cell_line_dose_more_dose\"] = np.concatenate(\n",
    "    (adata_ood_final.obsm[\"ecfp_cell_line\"], np.tile(adata_ood_final.obs[\"dose\"].values[:, None], (1, 100))), axis=1\n",
    ")"
   ]
  },
  {
   "cell_type": "code",
   "execution_count": null,
   "id": "e91b17f4-622e-409d-b0d5-97b74a8c2c24",
   "metadata": {},
   "outputs": [],
   "source": [
    "adata_train_final.varm[\"X_train_mean\"] = np.asarray(adata_train_final.varm[\"X_train_mean\"])\n",
    "adata_test_final.varm[\"X_train_mean\"] = np.asarray(adata_test_final.varm[\"X_train_mean\"])\n",
    "adata_ood_final.varm[\"X_train_mean\"] = np.asarray(adata_ood_final.varm[\"X_train_mean\"])"
   ]
  },
  {
   "cell_type": "code",
   "execution_count": null,
   "id": "12bc393c-0d9e-4cb0-940c-f0d8783b594a",
   "metadata": {},
   "outputs": [],
   "source": [
    "adata_ood_final.uns = adata_test_final.uns.copy()"
   ]
  },
  {
   "cell_type": "code",
   "execution_count": null,
   "id": "59ea8ed2-b5a4-49b7-9347-5dcec28fe50f",
   "metadata": {},
   "outputs": [],
   "source": [
    "import os\n",
    "\n",
    "output_dir = \"/lustre/groups/ml01/workspace/ot_perturbation/data/sciplex\"\n",
    "adata_train_final.write(os.path.join(output_dir, \"adata_train_biolord_split_all_300.h5ad\"))\n",
    "adata_ood_final.write(os.path.join(output_dir, \"adata_ood_biolord_split_all_300.h5ad\"))\n",
    "adata_test_final.write(os.path.join(output_dir, \"adata_test_biolord_split_all_300.h5ad\"))"
   ]
  },
  {
   "cell_type": "code",
   "execution_count": null,
   "id": "d6c06b89-a3cf-4f94-8628-7313e1f1d5c4",
   "metadata": {},
   "outputs": [],
   "source": [
    "from sklearn.metrics import r2_score\n",
    "\n",
    "\n",
    "def compute_r_squared(x: np.ndarray, y: np.ndarray) -> float:\n",
    "    return r2_score(np.mean(x, axis=0), np.mean(y, axis=0))"
   ]
  },
  {
   "cell_type": "code",
   "execution_count": null,
   "id": "49ef47dc-40d5-4c5d-a648-e4b9de09f30c",
   "metadata": {},
   "outputs": [],
   "source": [
    "decoded_test = np.matmul(adata_test_final.obsm[\"X_pca\"], adata_train_final.varm[\"PCs\"].T)\n",
    "compute_r_squared(adata_test_final.X.A, np.asarray(decoded_test + adata_test_final.varm[\"X_train_mean\"].T))"
   ]
  },
  {
   "cell_type": "code",
   "execution_count": null,
   "id": "a2642b80-9cd0-434f-a2c5-cb50434b6420",
   "metadata": {},
   "outputs": [],
   "source": [
    "decoded_ood = np.matmul(adata_ood_final.obsm[\"X_pca\"], adata_train_final.varm[\"PCs\"].T)\n",
    "compute_r_squared(adata_ood_final.X.A, np.asarray(decoded_ood + adata_ood_final.varm[\"X_train_mean\"].T))"
   ]
  },
  {
   "cell_type": "code",
   "execution_count": null,
   "id": "977ab89f-4d2b-4718-8554-84efa6f9914a",
   "metadata": {},
   "outputs": [],
   "source": [
    "adata_ood_final.obs[\"condition\"].value_counts()"
   ]
  },
  {
   "cell_type": "code",
   "execution_count": null,
   "id": "2e3d909e-589e-40b5-8172-1f6e5766c504",
   "metadata": {},
   "outputs": [],
   "source": []
  }
 ],
 "metadata": {
  "kernelspec": {
   "display_name": "ot_pert_genot",
   "language": "python",
   "name": "ot_pert_genot"
  },
  "language_info": {
   "codemirror_mode": {
    "name": "ipython",
    "version": 3
   },
   "file_extension": ".py",
   "mimetype": "text/x-python",
   "name": "python",
   "nbconvert_exporter": "python",
   "pygments_lexer": "ipython3",
   "version": "3.12.2"
  }
 },
 "nbformat": 4,
 "nbformat_minor": 5
}
