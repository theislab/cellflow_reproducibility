{
 "cells": [
  {
   "cell_type": "code",
   "execution_count": 1,
   "id": "1632ceb5-2c07-454d-be9b-c259c305a0f7",
   "metadata": {},
   "outputs": [
    {
     "name": "stderr",
     "output_type": "stream",
     "text": [
      "/home/icb/dominik.klein/mambaforge/envs/ot_pert_genot/lib/python3.12/site-packages/tqdm/auto.py:21: TqdmWarning: IProgress not found. Please update jupyter and ipywidgets. See https://ipywidgets.readthedocs.io/en/stable/user_install.html\n",
      "  from .autonotebook import tqdm as notebook_tqdm\n"
     ]
    },
    {
     "data": {
      "text/html": [
       "<pre style=\"white-space:pre;overflow-x:auto;line-height:normal;font-family:Menlo,'DejaVu Sans Mono',consolas,'Courier New',monospace\"><span style=\"color: #808000; text-decoration-color: #808000; font-weight: bold\">ryp2 is not installed. Install with </span><span style=\"color: #008000; text-decoration-color: #008000; font-weight: bold\">pip install rpy2 </span><span style=\"color: #808000; text-decoration-color: #808000; font-weight: bold\">to run tools with R support.</span>\n",
       "</pre>\n"
      ],
      "text/plain": [
       "\u001b[1;33mryp2 is not installed. Install with \u001b[0m\u001b[1;32mpip install rpy2 \u001b[0m\u001b[1;33mto run tools with R support.\u001b[0m\n"
      ]
     },
     "metadata": {},
     "output_type": "display_data"
    }
   ],
   "source": [
    "import scanpy as sc\n",
    "import pertpy\n",
    "import numpy as np\n",
    "import pandas as pd\n",
    "from rdkit import Chem"
   ]
  },
  {
   "cell_type": "code",
   "execution_count": 2,
   "id": "1debb0cc-6f1f-45c1-afd3-af069777bbd3",
   "metadata": {},
   "outputs": [
    {
     "name": "stdout",
     "output_type": "stream",
     "text": [
      "0.7.0\n"
     ]
    }
   ],
   "source": [
    "print(pertpy.__version__)"
   ]
  },
  {
   "cell_type": "code",
   "execution_count": 3,
   "id": "87679af1-bfb9-4def-aa24-647fdd997c31",
   "metadata": {},
   "outputs": [],
   "source": [
    "output_dir = \"/lustre/groups/ml01/workspace/ot_perturbation/data/sciplex\""
   ]
  },
  {
   "cell_type": "code",
   "execution_count": 4,
   "id": "e98ec35b-2ece-46db-900d-41fc45e88693",
   "metadata": {},
   "outputs": [],
   "source": [
    "adata = pertpy.data.sciplex3_raw()"
   ]
  },
  {
   "cell_type": "code",
   "execution_count": 5,
   "id": "81e6f3a8-150b-4da4-9a8a-92c57c9c7602",
   "metadata": {},
   "outputs": [
    {
     "data": {
      "text/plain": [
       "AnnData object with n_obs × n_vars = 581777 × 58347\n",
       "    obs: 'cell_type', 'dose', 'dose_character', 'dose_pattern', 'g1s_score', 'g2m_score', 'pathway', 'pathway_level_1', 'pathway_level_2', 'product_dose', 'product_name', 'proliferation_index', 'replicate', 'size_factor', 'target', 'vehicle'\n",
       "    var: 'id', 'num_cells_expressed-0-0', 'num_cells_expressed-1-0', 'num_cells_expressed-1'"
      ]
     },
     "execution_count": 5,
     "metadata": {},
     "output_type": "execute_result"
    }
   ],
   "source": [
    "adata"
   ]
  },
  {
   "cell_type": "code",
   "execution_count": 6,
   "id": "e9c1a067-8a30-47b4-83ec-833ad1f0abfa",
   "metadata": {},
   "outputs": [],
   "source": [
    "sc.pp.normalize_total(adata)\n",
    "sc.pp.log1p(adata)"
   ]
  },
  {
   "cell_type": "code",
   "execution_count": 7,
   "id": "8e920cb2-ef2d-45ba-92bd-f7b34b97086e",
   "metadata": {},
   "outputs": [
    {
     "name": "stderr",
     "output_type": "stream",
     "text": [
      "/home/icb/dominik.klein/mambaforge/envs/ot_pert_genot/lib/python3.12/site-packages/scanpy/preprocessing/_highly_variable_genes.py:226: FutureWarning: The default of observed=False is deprecated and will be changed to True in a future version of pandas. Pass observed=False to retain current behavior or observed=True to adopt the future default and silence this warning.\n",
      "  disp_grouped = df.groupby(\"mean_bin\")[\"dispersions\"]\n"
     ]
    }
   ],
   "source": [
    "sc.pp.highly_variable_genes(adata, inplace=True, n_top_genes=2000)"
   ]
  },
  {
   "cell_type": "code",
   "execution_count": 8,
   "id": "68447018-dd3f-48c3-8759-1ca8014f2ff4",
   "metadata": {},
   "outputs": [],
   "source": [
    "adata = adata[:,adata.var[\"highly_variable\"]==True]"
   ]
  },
  {
   "cell_type": "code",
   "execution_count": 9,
   "id": "6decab35-25c7-41a2-a2ee-a74d9e072775",
   "metadata": {},
   "outputs": [
    {
     "data": {
      "text/plain": [
       "View of AnnData object with n_obs × n_vars = 581777 × 2000\n",
       "    obs: 'cell_type', 'dose', 'dose_character', 'dose_pattern', 'g1s_score', 'g2m_score', 'pathway', 'pathway_level_1', 'pathway_level_2', 'product_dose', 'product_name', 'proliferation_index', 'replicate', 'size_factor', 'target', 'vehicle'\n",
       "    var: 'id', 'num_cells_expressed-0-0', 'num_cells_expressed-1-0', 'num_cells_expressed-1', 'highly_variable', 'means', 'dispersions', 'dispersions_norm'\n",
       "    uns: 'log1p', 'hvg'"
      ]
     },
     "execution_count": 9,
     "metadata": {},
     "output_type": "execute_result"
    }
   ],
   "source": [
    "adata"
   ]
  },
  {
   "cell_type": "code",
   "execution_count": 10,
   "id": "c652f908-c099-4208-b38b-70d2c5c0f816",
   "metadata": {},
   "outputs": [
    {
     "name": "stderr",
     "output_type": "stream",
     "text": [
      "/tmp/ipykernel_3830520/3465839703.py:1: ImplicitModificationWarning: Trying to modify attribute `.obs` of view, initializing view as actual.\n",
      "  adata.obs[\"perturbation\"] = adata.obs[\"product_name\"]\n"
     ]
    }
   ],
   "source": [
    "adata.obs[\"perturbation\"] = adata.obs[\"product_name\"]\n",
    "adata.obs[\"cell_line\"] = adata.obs[\"cell_type\"]"
   ]
  },
  {
   "cell_type": "code",
   "execution_count": 11,
   "id": "5fa62248-15a4-4361-9694-992aa25c1146",
   "metadata": {},
   "outputs": [],
   "source": [
    "adata = adata[~adata.obs[\"perturbation\"].isnull()]"
   ]
  },
  {
   "cell_type": "code",
   "execution_count": 12,
   "id": "fc1b06f3-3219-42f1-8643-ab294d638219",
   "metadata": {},
   "outputs": [
    {
     "data": {
      "text/plain": [
       "581777"
      ]
     },
     "execution_count": 12,
     "metadata": {},
     "output_type": "execute_result"
    }
   ],
   "source": [
    "adata.n_obs"
   ]
  },
  {
   "cell_type": "code",
   "execution_count": 13,
   "id": "3489e514-db40-41b8-aa11-393bb62f98ed",
   "metadata": {},
   "outputs": [],
   "source": [
    "adata = adata[adata.obs[\"dose\"].isin((0, 10_000))] # use all doses\n"
   ]
  },
  {
   "cell_type": "code",
   "execution_count": 14,
   "id": "c332f920-7216-46d1-9fe3-5d7e4d7dcc1e",
   "metadata": {},
   "outputs": [
    {
     "data": {
      "text/plain": [
       "139266"
      ]
     },
     "execution_count": 14,
     "metadata": {},
     "output_type": "execute_result"
    }
   ],
   "source": [
    "adata.n_obs"
   ]
  },
  {
   "cell_type": "code",
   "execution_count": 15,
   "id": "463032b9-d16c-4c5d-b118-0149a0e4af08",
   "metadata": {},
   "outputs": [
    {
     "name": "stdout",
     "output_type": "stream",
     "text": [
      "[bold blue]There are 189 identifiers in `adata.obs`.However, 6 identifiers can't be found in the compound annotation,leading to the presence of NA values for their respective metadata.\n",
      "\n",
      "- Please check again: \n",
      "- Vehicle\n",
      "- Glesatinib?(MGCD265)\n",
      "- Ivosidenib (AG-120)\n",
      "- MC1568\n",
      "- Dacinostat (LAQ824)\n",
      "- ...\n"
     ]
    },
    {
     "data": {
      "text/plain": [
       "AnnData object with n_obs × n_vars = 139266 × 2000\n",
       "    obs: 'cell_type', 'dose', 'dose_character', 'dose_pattern', 'g1s_score', 'g2m_score', 'pathway', 'pathway_level_1', 'pathway_level_2', 'product_dose', 'product_name', 'proliferation_index', 'replicate', 'size_factor', 'target', 'vehicle', 'perturbation', 'cell_line', 'pubchem_name', 'pubchem_ID', 'smiles'\n",
       "    var: 'id', 'num_cells_expressed-0-0', 'num_cells_expressed-1-0', 'num_cells_expressed-1', 'highly_variable', 'means', 'dispersions', 'dispersions_norm'\n",
       "    uns: 'log1p', 'hvg'"
      ]
     },
     "execution_count": 15,
     "metadata": {},
     "output_type": "execute_result"
    }
   ],
   "source": [
    "pertpy.md.Compound().annotate_compounds(adata)"
   ]
  },
  {
   "cell_type": "code",
   "execution_count": 16,
   "id": "8a954e29-2b00-4cf2-a63f-c040b7db595d",
   "metadata": {},
   "outputs": [],
   "source": [
    "smiles_dict = {\"Dacinostat (LAQ824)\": \"C1=CC=C2C(=C1)C(=CN2)CCN(CCO)CC3=CC=C(C=C3)C=CC(=O)NO\",\n",
    "              \"Glesatinib?(MGCD265)\": \"COCCNCc1ccc(nc1)c2cc3c(s2)c(ccn3)Oc4ccc(cc4F)NC(=S)NC(=O)Cc5ccc(cc5)F\",\n",
    "              \"MC1568\": \"CN1C=C(C=C1C=CC(=O)NO)C=CC(=O)C2=CC(=CC=C2)F\",\n",
    "              \"Ivosidenib (AG-120)\": \"ClC1=C([C@H](N(C2=CC(F)=CN=C2)C([C@H]3N(C4=NC=CC(C#N)=C4)C(CC3)=O)=O)C(NC5CC(F)(F)C5)=O)C=CC=C1\",\n",
    "               \"Bisindolylmaleimide IX (Ro 31-8220 Mesylate)\": \"NC(SCCCN1C=C(C2=C(C3=CN(C)C4=C3C=CC=C4)C(NC2=O)=O)C5=C1C=CC=C5)=N.CS(=O)(O)=O\",\n",
    "              }"
   ]
  },
  {
   "cell_type": "code",
   "execution_count": 17,
   "id": "713478ca-fa83-4d19-b051-5912f9e24eef",
   "metadata": {},
   "outputs": [
    {
     "data": {
      "text/plain": [
       "smiles\n",
       "NaN                                                                                       15474\n",
       "C1CCC(C1)C(CC#N)N2C=C(C=N2)C3=C4C=CNC4=NC=N3                                               1786\n",
       "CC(=O)NC1=CC=C(C=C1)OCC(C)(C(=O)NC2=CC(=C(C=C2)[N+](=O)[O-])C(F)(F)F)O                      983\n",
       "CCS(=O)(=O)N1CC(C1)(CC#N)N2C=C(C=N2)C3=C4C=CNC4=NC=N3                                       974\n",
       "CCCCCOC(=O)NC1=NC(=O)N(C=C1F)C2C(C(C(O2)C)O)O                                               970\n",
       "                                                                                          ...  \n",
       "CCS(=O)(=O)C1=CC=CC(=C1)C2=CC(=C(C3=C2C4=C(N3)N=CC(=C4)C)C)C(=O)NC5CCN(CC5)C                229\n",
       "CC1CC(C(C(C=C(C(C(C=CC=C(C(=O)NC2=CC(=O)C(=C(C1)C2=O)NCCN(C)C)C)OC)OC(=O)N)C)C)O)OC.Cl      206\n",
       "CN1CCC(C(C1)O)C2=C(C=C(C3=C2OC(=CC3=O)C4=CC=CC=C4Cl)O)O.Cl                                  145\n",
       "COC1=C(C=C(C=C1)CS(=O)(=O)C=CC2=C(C=C(C=C2OC)OC)OC)NCC(=O)[O-].[Na+]                        137\n",
       "CC1=[N+](C2=C(N1CCOC)C(=O)C3=CC=CC=C3C2=O)CC4=NC=CN=C4.[Br-]                                113\n",
       "Name: count, Length: 183, dtype: int64"
      ]
     },
     "execution_count": 17,
     "metadata": {},
     "output_type": "execute_result"
    }
   ],
   "source": [
    "adata.obs[\"smiles\"].value_counts(dropna=False)"
   ]
  },
  {
   "cell_type": "code",
   "execution_count": 18,
   "id": "5db19dbd-c98c-4fad-8284-6616760095f9",
   "metadata": {},
   "outputs": [],
   "source": [
    "adata.obs[\"smiles\"] = adata.obs[[\"smiles\", \"perturbation\"]].apply(lambda x: smiles_dict[x[\"perturbation\"]] if x[\"perturbation\"] in smiles_dict.keys() else x[\"smiles\"], axis=1)"
   ]
  },
  {
   "cell_type": "code",
   "execution_count": 19,
   "id": "e206c336-376c-4c60-a4e0-3d41ba53ed86",
   "metadata": {},
   "outputs": [
    {
     "data": {
      "text/plain": [
       "smiles\n",
       "NaN                                                                                       13004\n",
       "C1CCC(C1)C(CC#N)N2C=C(C=N2)C3=C4C=CNC4=NC=N3                                               1786\n",
       "CC(=O)NC1=CC=C(C=C1)OCC(C)(C(=O)NC2=CC(=C(C=C2)[N+](=O)[O-])C(F)(F)F)O                      983\n",
       "CCS(=O)(=O)N1CC(C1)(CC#N)N2C=C(C=N2)C3=C4C=CNC4=NC=N3                                       974\n",
       "CCCCCOC(=O)NC1=NC(=O)N(C=C1F)C2C(C(C(O2)C)O)O                                               970\n",
       "                                                                                          ...  \n",
       "CC1CC(C(C(C=C(C(C(C=CC=C(C(=O)NC2=CC(=O)C(=C(C1)C2=O)NCCN(C)C)C)OC)OC(=O)N)C)C)O)OC.Cl      206\n",
       "CN1CCC(C(C1)O)C2=C(C=C(C3=C2OC(=CC3=O)C4=CC=CC=C4Cl)O)O.Cl                                  145\n",
       "COC1=C(C=C(C=C1)CS(=O)(=O)C=CC2=C(C=C(C=C2OC)OC)OC)NCC(=O)[O-].[Na+]                        137\n",
       "CC1=[N+](C2=C(N1CCOC)C(=O)C3=CC=CC=C3C2=O)CC4=NC=CN=C4.[Br-]                                113\n",
       "NC(SCCCN1C=C(C2=C(C3=CN(C)C4=C3C=CC=C4)C(NC2=O)=O)C5=C1C=CC=C5)=N.CS(=O)(O)=O                62\n",
       "Name: count, Length: 188, dtype: int64"
      ]
     },
     "execution_count": 19,
     "metadata": {},
     "output_type": "execute_result"
    }
   ],
   "source": [
    "adata.obs[\"smiles\"].value_counts(dropna=False)"
   ]
  },
  {
   "cell_type": "code",
   "execution_count": 20,
   "id": "8ffc8b89-b282-472f-8941-00d0f97092be",
   "metadata": {},
   "outputs": [
    {
     "data": {
      "text/plain": [
       "dose\n",
       "0.0    13004\n",
       "Name: count, dtype: int64"
      ]
     },
     "execution_count": 20,
     "metadata": {},
     "output_type": "execute_result"
    }
   ],
   "source": [
    "adata[adata.obs[\"smiles\"].isnull()].obs.dose.value_counts()\n"
   ]
  },
  {
   "cell_type": "code",
   "execution_count": 21,
   "id": "e8a9ab19-7a1f-44ea-aa8f-69e546307431",
   "metadata": {},
   "outputs": [
    {
     "data": {
      "text/plain": [
       "dose\n",
       "10000.0    126262\n",
       "Name: count, dtype: int64"
      ]
     },
     "execution_count": 21,
     "metadata": {},
     "output_type": "execute_result"
    }
   ],
   "source": [
    "adata[~adata.obs[\"smiles\"].isnull()].obs.dose.value_counts()"
   ]
  },
  {
   "cell_type": "code",
   "execution_count": 22,
   "id": "1b583441-9223-4122-a829-4999f6c21ef9",
   "metadata": {},
   "outputs": [],
   "source": [
    "from rdkit.Chem import AllChem\n",
    "\n",
    "def get_fp(smiles, radius = 4, nBits=1024):\n",
    "    m = Chem.MolFromSmiles(smiles,sanitize=False)\n",
    "    if m is None:\n",
    "        return \"invalid\"\n",
    "    else:\n",
    "        try:\n",
    "            Chem.SanitizeMol(m)\n",
    "        except:\n",
    "            return \"invalid\"\n",
    "    return AllChem.GetHashedMorganFingerprint(m, radius=radius, nBits=nBits)"
   ]
  },
  {
   "cell_type": "code",
   "execution_count": 23,
   "id": "c5fe5f76-92c6-4f8e-b6ea-b43c66e7a8af",
   "metadata": {},
   "outputs": [],
   "source": [
    "smiles_to_fp = {}\n",
    "for sm in adata.obs[\"smiles\"].unique():\n",
    "    if not isinstance(sm, str):\n",
    "        continue\n",
    "    smiles_to_fp[sm] = np.array(list(get_fp(sm)))"
   ]
  },
  {
   "cell_type": "code",
   "execution_count": 24,
   "id": "b9ad5093-327f-4b1f-8163-f2f43a5279d2",
   "metadata": {},
   "outputs": [],
   "source": [
    "features_df = pd.DataFrame.from_dict(smiles_to_fp).T"
   ]
  },
  {
   "cell_type": "code",
   "execution_count": 25,
   "id": "ea459961-df24-4de0-8f84-496ecdb54dd3",
   "metadata": {},
   "outputs": [],
   "source": [
    "normalized_df = (features_df - features_df.mean()) / features_df.std()"
   ]
  },
  {
   "cell_type": "code",
   "execution_count": 26,
   "id": "5aaf11af-ae31-4b15-aac6-1d49991ddd92",
   "metadata": {},
   "outputs": [],
   "source": [
    "features_cells = np.zeros((adata.shape[0], normalized_df.shape[1]))\n",
    "for mol, ecfp in normalized_df.iterrows():\n",
    "    features_cells[adata.obs[\"smiles\"].isin([mol])] = ecfp.values"
   ]
  },
  {
   "cell_type": "code",
   "execution_count": 27,
   "id": "0d04da7c-d53d-4c19-aa26-8bc479568872",
   "metadata": {},
   "outputs": [],
   "source": [
    "adata.obsm[\"ecfp\"] = features_cells"
   ]
  },
  {
   "cell_type": "code",
   "execution_count": 28,
   "id": "6f7f7f82-be44-4380-8081-9c58858cc163",
   "metadata": {},
   "outputs": [],
   "source": [
    "test_drugs = [\"Dacinostat (LAQ824)\", \"Givinostat (ITF2357)\", \"Belinostat (PXD101)\", \"Hesperadin\", \"Quisinostat (JNJ-26481585) 2HCl\", \"Alvespimycin (17-DMAG) HCl\", \"Tanespimycin (17-AAG)\", \"TAK-901\", \"Flavopiridol HCl\"]"
   ]
  },
  {
   "cell_type": "code",
   "execution_count": 29,
   "id": "18ee9c40-b892-4239-a3bc-170c9066375a",
   "metadata": {},
   "outputs": [],
   "source": [
    "remaining_drugs = list(set(adata.obs[\"perturbation\"].unique()) - set(test_drugs).union(set([\"control\"])))"
   ]
  },
  {
   "cell_type": "code",
   "execution_count": 30,
   "id": "09e6e799-e148-40e1-a0c0-e6ae50781091",
   "metadata": {},
   "outputs": [],
   "source": [
    "rng = np.random.default_rng(0)"
   ]
  },
  {
   "cell_type": "code",
   "execution_count": 31,
   "id": "c0144d1d-9dcb-4987-839a-b4b010f17ffb",
   "metadata": {},
   "outputs": [],
   "source": [
    "val_drugs_idx = rng.choice(len(remaining_drugs), 9, replace=False)"
   ]
  },
  {
   "cell_type": "code",
   "execution_count": 32,
   "id": "4d301a0c-db1e-47af-9b06-cd5845ab52d4",
   "metadata": {},
   "outputs": [],
   "source": [
    "val_drugs = [remaining_drugs[el] for el in val_drugs_idx]"
   ]
  },
  {
   "cell_type": "code",
   "execution_count": 33,
   "id": "257f6fa7-9736-4a4b-9c8e-6993ac625327",
   "metadata": {},
   "outputs": [
    {
     "data": {
      "text/plain": [
       "['AMG-900',\n",
       " 'Sorafenib Tosylate',\n",
       " 'Thalidomide',\n",
       " 'Ki16425',\n",
       " 'Meprednisone',\n",
       " 'GSK1070916',\n",
       " 'Capecitabine ',\n",
       " 'PD98059',\n",
       " 'Aminoglutethimide ']"
      ]
     },
     "execution_count": 33,
     "metadata": {},
     "output_type": "execute_result"
    }
   ],
   "source": [
    "val_drugs"
   ]
  },
  {
   "cell_type": "code",
   "execution_count": 34,
   "id": "93be2cbd-d2dd-4b75-aa72-ec0bac0301c3",
   "metadata": {},
   "outputs": [],
   "source": [
    "adata_train = adata[~adata.obs[\"perturbation\"].isin(test_drugs+val_drugs)].copy()\n",
    "adata_val = adata[adata.obs[\"perturbation\"].isin(val_drugs)].copy()\n",
    "adata_test = adata[adata.obs[\"perturbation\"].isin(test_drugs)].copy()"
   ]
  },
  {
   "cell_type": "code",
   "execution_count": 35,
   "id": "69100564-5acf-424d-9051-ecc0572a92d8",
   "metadata": {},
   "outputs": [
    {
     "data": {
      "text/plain": [
       "(128248, 7145, 3873)"
      ]
     },
     "execution_count": 35,
     "metadata": {},
     "output_type": "execute_result"
    }
   ],
   "source": [
    "adata_train.n_obs, adata_val.n_obs, adata_test.n_obs"
   ]
  },
  {
   "cell_type": "code",
   "execution_count": 36,
   "id": "76f8a699-73f8-493a-8271-4f99a4cb6711",
   "metadata": {},
   "outputs": [],
   "source": [
    "adata.obs[\"perturbation\"] = adata.obs.apply(lambda x: \"control\" if x[\"perturbation\"]==\"Vehicle\" else x[\"perturbation\"], axis=1)"
   ]
  },
  {
   "cell_type": "code",
   "execution_count": 37,
   "id": "cff79ea4-98fd-4131-8ab4-385bb920bc63",
   "metadata": {},
   "outputs": [
    {
     "data": {
      "text/plain": [
       "perturbation\n",
       "Vehicle                                         13004\n",
       "Andarine                                          983\n",
       "Baricitinib (LY3009104, INCB028050)               974\n",
       "Fasudil (HA-1077) HCl                             966\n",
       "Ruxolitinib (INCB018424)                          962\n",
       "                                                ...  \n",
       "Fedratinib (SAR302503, TG101348)                  314\n",
       "Regorafenib (BAY 73-4506)                         283\n",
       "Rigosertib (ON-01910)                             137\n",
       "YM155 (Sepantronium Bromide)                      113\n",
       "Bisindolylmaleimide IX (Ro 31-8220 Mesylate)       62\n",
       "Name: count, Length: 171, dtype: int64"
      ]
     },
     "execution_count": 37,
     "metadata": {},
     "output_type": "execute_result"
    }
   ],
   "source": [
    "adata_train.obs[\"perturbation\"].value_counts()"
   ]
  },
  {
   "cell_type": "code",
   "execution_count": 38,
   "id": "b167668b-a4ca-4a5a-bbe7-ad2a1769315a",
   "metadata": {},
   "outputs": [],
   "source": [
    "split_dfs = []\n",
    "for drug in adata_train.obs[\"perturbation\"].unique():\n",
    "    for cell_line in adata_train.obs[\"cell_line\"].unique():\n",
    "        adata_subset = adata_train[(adata_train.obs[\"perturbation\"]==drug) & (adata_train.obs[\"cell_line\"]==cell_line)]\n",
    "        n_cells = adata_subset.n_obs\n",
    "        if drug == \"control\":\n",
    "            assert n_cells > 3_000\n",
    "            idx_test = rng.choice(np.arange(n_cells), 500, replace=False)\n",
    "            remaining_idcs = set(np.arange(n_cells)) - set(idx_test)\n",
    "            idx_valid = rng.choice(list(remaining_idcs), 500, replace=False)\n",
    "            split = [\"test\" if idx in idx_test else (\"valid\" if idx in idx_valid else \"train\") for idx in range(n_cells)]\n",
    "            df = adata_subset.obs[[\"perturbation\", \"cell_line\"]].copy()\n",
    "            df[\"split\"] = split\n",
    "            split_dfs.append(df)\n",
    "        elif n_cells>300:\n",
    "            idx_test = rng.choice(np.arange(n_cells), 100, replace=False)\n",
    "            split = [\"test\" if idx in idx_test else \"train\" for idx in range(n_cells)]\n",
    "            df = adata_subset.obs[[\"perturbation\", \"cell_line\"]].copy()\n",
    "            df[\"split\"] = split\n",
    "            split_dfs.append(df)\n",
    "        else:\n",
    "            df = adata_subset.obs[[\"perturbation\", \"cell_line\"]].copy()\n",
    "            df[\"split\"] = \"train\"\n",
    "            split_dfs.append(df)"
   ]
  },
  {
   "cell_type": "code",
   "execution_count": 39,
   "id": "2b2b5e2c-6911-4428-bb9b-7e1f37e37f25",
   "metadata": {},
   "outputs": [],
   "source": [
    "df_concat = pd.concat(split_dfs, axis=0)"
   ]
  },
  {
   "cell_type": "code",
   "execution_count": 40,
   "id": "a54ff63d-7e56-46a5-a143-d03cbdf149c2",
   "metadata": {},
   "outputs": [
    {
     "data": {
      "text/plain": [
       "(128248, 128248)"
      ]
     },
     "execution_count": 40,
     "metadata": {},
     "output_type": "execute_result"
    }
   ],
   "source": [
    "len(df_concat), adata_train.n_obs"
   ]
  },
  {
   "cell_type": "code",
   "execution_count": 41,
   "id": "cea2a820-48bf-4db1-8e26-5907878b7e3a",
   "metadata": {},
   "outputs": [
    {
     "data": {
      "text/plain": [
       "split\n",
       "train    117148\n",
       "test      11100\n",
       "Name: count, dtype: int64"
      ]
     },
     "execution_count": 41,
     "metadata": {},
     "output_type": "execute_result"
    }
   ],
   "source": [
    "df_concat[\"split\"].value_counts()"
   ]
  },
  {
   "cell_type": "code",
   "execution_count": 42,
   "id": "1b568484-1871-4859-a0e9-a121e241f6c8",
   "metadata": {},
   "outputs": [],
   "source": [
    "adata_train.obs[\"split\"] = df_concat[\"split\"]"
   ]
  },
  {
   "cell_type": "code",
   "execution_count": 43,
   "id": "042db92f-3b87-4b25-971c-c4065758b5f5",
   "metadata": {},
   "outputs": [],
   "source": [
    "import anndata\n",
    "adata_train_final = adata_train[adata_train.obs[\"split\"]==\"train\"]\n",
    "adata_valid_final = anndata.concat((adata_val, adata_train[adata_train.obs[\"split\"]==\"valid\"]))\n",
    "adata_test_final = anndata.concat((adata_test, adata_train[adata_train.obs[\"split\"]==\"test\"]))"
   ]
  },
  {
   "cell_type": "code",
   "execution_count": 44,
   "id": "15ff42d4-9e1c-4fe8-b1af-d23b2dde8029",
   "metadata": {},
   "outputs": [
    {
     "data": {
      "text/plain": [
       "perturbation\n",
       "Capecitabine          970\n",
       "Meprednisone          958\n",
       "Aminoglutethimide     938\n",
       "PD98059               934\n",
       "Ki16425               880\n",
       "Thalidomide           818\n",
       "AMG-900               696\n",
       "GSK1070916            496\n",
       "Sorafenib Tosylate    455\n",
       "Name: count, dtype: int64"
      ]
     },
     "execution_count": 44,
     "metadata": {},
     "output_type": "execute_result"
    }
   ],
   "source": [
    "adata_valid_final.obs[\"perturbation\"].value_counts()"
   ]
  },
  {
   "cell_type": "code",
   "execution_count": 45,
   "id": "91f780b1-49b2-46f5-b318-c76e3528814c",
   "metadata": {},
   "outputs": [
    {
     "data": {
      "text/plain": [
       "perturbation\n",
       "Vehicle                                         13004\n",
       "Andarine                                          983\n",
       "Baricitinib (LY3009104, INCB028050)               974\n",
       "Fasudil (HA-1077) HCl                             966\n",
       "Ruxolitinib (INCB018424)                          962\n",
       "                                                ...  \n",
       "Fedratinib (SAR302503, TG101348)                  314\n",
       "Regorafenib (BAY 73-4506)                         283\n",
       "Rigosertib (ON-01910)                             137\n",
       "YM155 (Sepantronium Bromide)                      113\n",
       "Bisindolylmaleimide IX (Ro 31-8220 Mesylate)       62\n",
       "Name: count, Length: 171, dtype: int64"
      ]
     },
     "execution_count": 45,
     "metadata": {},
     "output_type": "execute_result"
    }
   ],
   "source": [
    "adata_train.obs[\"perturbation\"].value_counts()"
   ]
  },
  {
   "cell_type": "code",
   "execution_count": 46,
   "id": "3faba18e-2782-4e8f-ae37-a4de095208bd",
   "metadata": {},
   "outputs": [
    {
     "data": {
      "text/plain": [
       "cell_line\n",
       "MCF7    64627\n",
       "A549    32170\n",
       "K562    31451\n",
       "Name: count, dtype: int64"
      ]
     },
     "execution_count": 46,
     "metadata": {},
     "output_type": "execute_result"
    }
   ],
   "source": [
    "adata_train.obs[\"cell_line\"].value_counts()"
   ]
  },
  {
   "cell_type": "code",
   "execution_count": 47,
   "id": "bc9dc93c-0095-40d2-8479-03b13c9d2524",
   "metadata": {},
   "outputs": [
    {
     "data": {
      "text/plain": [
       "perturbation\n",
       "Capecitabine          970\n",
       "Meprednisone          958\n",
       "Aminoglutethimide     938\n",
       "PD98059               934\n",
       "Ki16425               880\n",
       "Thalidomide           818\n",
       "AMG-900               696\n",
       "GSK1070916            496\n",
       "Sorafenib Tosylate    455\n",
       "Name: count, dtype: int64"
      ]
     },
     "execution_count": 47,
     "metadata": {},
     "output_type": "execute_result"
    }
   ],
   "source": [
    "adata_val.obs[\"perturbation\"].value_counts()"
   ]
  },
  {
   "cell_type": "code",
   "execution_count": 48,
   "id": "6661d55a-1cae-4728-8c8e-86e953ead996",
   "metadata": {},
   "outputs": [
    {
     "data": {
      "text/plain": [
       "cell_line\n",
       "MCF7    3615\n",
       "K562    1837\n",
       "A549    1693\n",
       "Name: count, dtype: int64"
      ]
     },
     "execution_count": 48,
     "metadata": {},
     "output_type": "execute_result"
    }
   ],
   "source": [
    "adata_val.obs[\"cell_line\"].value_counts()"
   ]
  },
  {
   "cell_type": "code",
   "execution_count": 49,
   "id": "e5655198-3f0f-4782-b8ad-f73b6e4d8739",
   "metadata": {},
   "outputs": [
    {
     "data": {
      "text/plain": [
       "perturbation\n",
       "Belinostat (PXD101)                630\n",
       "Givinostat (ITF2357)               623\n",
       "Quisinostat (JNJ-26481585) 2HCl    618\n",
       "Dacinostat (LAQ824)                608\n",
       "Hesperadin                         438\n",
       "                                  ... \n",
       "Celecoxib                          100\n",
       "WP1066                             100\n",
       "SL-327                             100\n",
       "BRD4770                            100\n",
       "PFI-1 (PF-6405761)                 100\n",
       "Name: count, Length: 118, dtype: int64"
      ]
     },
     "execution_count": 49,
     "metadata": {},
     "output_type": "execute_result"
    }
   ],
   "source": [
    "adata_test_final.obs[\"perturbation\"].value_counts()"
   ]
  },
  {
   "cell_type": "code",
   "execution_count": 50,
   "id": "e652c00f-0827-4a8c-a63a-0646d58e15a6",
   "metadata": {},
   "outputs": [
    {
     "data": {
      "text/plain": [
       "cell_line\n",
       "MCF7    13209\n",
       "A549     1024\n",
       "K562      740\n",
       "Name: count, dtype: int64"
      ]
     },
     "execution_count": 50,
     "metadata": {},
     "output_type": "execute_result"
    }
   ],
   "source": [
    "adata_test_final.obs[\"cell_line\"].value_counts()"
   ]
  },
  {
   "cell_type": "code",
   "execution_count": 51,
   "id": "a3251b5b-a8f6-4eb1-a3cd-76c6e790dea5",
   "metadata": {},
   "outputs": [],
   "source": [
    "assert len(set(test_drugs).intersection(adata_train.obs[\"perturbation\"])) == 0\n",
    "assert len(set(val_drugs).intersection(adata_train.obs[\"perturbation\"])) == 0\n",
    "assert len(set(val_drugs).intersection(adata_test.obs[\"perturbation\"])) == 0"
   ]
  },
  {
   "cell_type": "code",
   "execution_count": 52,
   "id": "a99e17b8-95fc-4d34-b542-009dc21ad5fe",
   "metadata": {},
   "outputs": [
    {
     "name": "stderr",
     "output_type": "stream",
     "text": [
      "/tmp/ipykernel_3830520/2775379558.py:1: ImplicitModificationWarning: Setting element `.varm['X_train_mean']` of view, initializing view as actual.\n",
      "  adata_train_final.varm[\"X_train_mean\"] = adata_train_final.X.mean(axis=0).T\n"
     ]
    }
   ],
   "source": [
    "adata_train_final.varm[\"X_train_mean\"] = adata_train_final.X.mean(axis=0).T"
   ]
  },
  {
   "cell_type": "code",
   "execution_count": 53,
   "id": "5bb1e717-e83d-4389-b512-68f51b65ee1e",
   "metadata": {},
   "outputs": [],
   "source": [
    "from scipy.sparse import csr_matrix, vstack\n",
    "mean = csr_matrix(adata_train_final.varm[\"X_train_mean\"].T)\n",
    "adata_train_final.X = adata_train_final.X - vstack([mean]*len(adata_train_final))"
   ]
  },
  {
   "cell_type": "code",
   "execution_count": 54,
   "id": "23b3ac3d-3996-4b9b-aa5d-89b68936a62d",
   "metadata": {},
   "outputs": [],
   "source": [
    "sc.pp.pca(adata_train_final)"
   ]
  },
  {
   "cell_type": "code",
   "execution_count": 55,
   "id": "c4541b54-428f-4287-80e5-33686b2a6cd9",
   "metadata": {},
   "outputs": [],
   "source": [
    "adata_valid_final.varm[\"X_train_mean\"] = adata_train_final.varm[\"X_train_mean\"]"
   ]
  },
  {
   "cell_type": "code",
   "execution_count": 56,
   "id": "97af631c-8c7c-44d4-9103-4d7dc38be138",
   "metadata": {},
   "outputs": [],
   "source": [
    "adata_valid_final.X = adata_valid_final.X - vstack([mean]*len(adata_valid_final))"
   ]
  },
  {
   "cell_type": "code",
   "execution_count": 57,
   "id": "9dcc7be3-d670-4eda-a8c7-72f81c0ba671",
   "metadata": {},
   "outputs": [],
   "source": [
    "adata_valid_final.obsm[\"X_pca\"] = np.matmul(adata_valid_final.X.A, adata_train_final.varm[\"PCs\"])"
   ]
  },
  {
   "cell_type": "code",
   "execution_count": 58,
   "id": "159b1dfc-049b-41c6-a140-dc3b09953664",
   "metadata": {},
   "outputs": [],
   "source": [
    "adata_test_final.varm[\"X_train_mean\"] = adata_train_final.varm[\"X_train_mean\"]"
   ]
  },
  {
   "cell_type": "code",
   "execution_count": 59,
   "id": "56772032-cd54-47ae-805b-fce26c43f2a8",
   "metadata": {},
   "outputs": [],
   "source": [
    "adata_test_final.X = adata_test_final.X - vstack([mean]*len(adata_test_final))"
   ]
  },
  {
   "cell_type": "code",
   "execution_count": 60,
   "id": "8534bb85-228c-4302-a348-1e6eccdc9c4b",
   "metadata": {},
   "outputs": [],
   "source": [
    "adata_test_final.obsm[\"X_pca\"] = np.matmul(adata_test_final.X.A, adata_train_final.varm[\"PCs\"])"
   ]
  },
  {
   "cell_type": "code",
   "execution_count": 61,
   "id": "b7616546-a383-48ca-83d3-d97bed05adaf",
   "metadata": {},
   "outputs": [
    {
     "data": {
      "text/plain": [
       "perturbation\n",
       "Belinostat (PXD101)                630\n",
       "Givinostat (ITF2357)               623\n",
       "Quisinostat (JNJ-26481585) 2HCl    618\n",
       "Dacinostat (LAQ824)                608\n",
       "Hesperadin                         438\n",
       "                                  ... \n",
       "Celecoxib                          100\n",
       "WP1066                             100\n",
       "SL-327                             100\n",
       "BRD4770                            100\n",
       "PFI-1 (PF-6405761)                 100\n",
       "Name: count, Length: 118, dtype: int64"
      ]
     },
     "execution_count": 61,
     "metadata": {},
     "output_type": "execute_result"
    }
   ],
   "source": [
    "adata_test_final.obs[\"perturbation\"].value_counts()"
   ]
  },
  {
   "cell_type": "code",
   "execution_count": 71,
   "id": "dad3a8e9-2300-44e5-be95-d0f14e7369c3",
   "metadata": {},
   "outputs": [],
   "source": [
    "adata_train_final.varm[\"X_train_mean\"] = np.asarray(adata_train_final.varm[\"X_train_mean\"])\n",
    "adata_valid_final.varm[\"X_train_mean\"] = np.asarray(adata_valid_final.varm[\"X_train_mean\"])\n",
    "adata_test_final.varm[\"X_train_mean\"] = np.asarray(adata_test_final.varm[\"X_train_mean\"])"
   ]
  },
  {
   "cell_type": "code",
   "execution_count": 72,
   "id": "4ce099a5-d268-4fdb-b1a6-d4f581687f7c",
   "metadata": {},
   "outputs": [],
   "source": [
    "import os\n",
    "adata_train_final.write(os.path.join(output_dir, \"adata_train.h5ad\"))\n",
    "adata_valid_final.write(os.path.join(output_dir, \"adata_valid.h5ad\"))\n",
    "adata_test_final.write(os.path.join(output_dir, \"adata_test.h5ad\"))"
   ]
  },
  {
   "cell_type": "code",
   "execution_count": null,
   "id": "f70ccc1e-4a23-4c12-94c7-6090ff6a781c",
   "metadata": {},
   "outputs": [],
   "source": []
  }
 ],
 "metadata": {
  "kernelspec": {
   "display_name": "ot_pert_genot",
   "language": "python",
   "name": "ot_pert_genot"
  },
  "language_info": {
   "codemirror_mode": {
    "name": "ipython",
    "version": 3
   },
   "file_extension": ".py",
   "mimetype": "text/x-python",
   "name": "python",
   "nbconvert_exporter": "python",
   "pygments_lexer": "ipython3",
   "version": "3.12.2"
  }
 },
 "nbformat": 4,
 "nbformat_minor": 5
}
