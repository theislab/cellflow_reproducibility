{
 "cells": [
  {
   "cell_type": "code",
   "execution_count": 1,
   "id": "601be2d2-efcf-47fd-91a2-2518bb84044a",
   "metadata": {},
   "outputs": [],
   "source": [
    "import scanpy as sc"
   ]
  },
  {
   "cell_type": "code",
   "execution_count": 2,
   "id": "43d49288-698c-49dd-b39b-16e7976bbb9a",
   "metadata": {},
   "outputs": [],
   "source": [
    "adata_train_path = \"/lustre/groups/ml01/workspace/ot_perturbation/data/sciplex/adata_train_biolord_split_30.h5ad\"\n",
    "adata_test_path = \"/lustre/groups/ml01/workspace/ot_perturbation/data/sciplex/adata_test_biolord_split_30.h5ad\"\n",
    "adata_ood_path = \"/lustre/groups/ml01/workspace/ot_perturbation/data/sciplex/adata_ood_biolord_split_30.h5ad\""
   ]
  },
  {
   "cell_type": "code",
   "execution_count": 3,
   "id": "994deb69-7ef8-42ca-903a-c01303ef917e",
   "metadata": {},
   "outputs": [
    {
     "name": "stderr",
     "output_type": "stream",
     "text": [
      "/home/icb/dominik.klein/mambaforge/envs/ot_pert_genot/lib/python3.12/site-packages/anndata/__init__.py:51: FutureWarning: `anndata.read` is deprecated, use `anndata.read_h5ad` instead. `ad.read` will be removed in mid 2024.\n",
      "  warnings.warn(\n",
      "/home/icb/dominik.klein/mambaforge/envs/ot_pert_genot/lib/python3.12/site-packages/anndata/__init__.py:51: FutureWarning: `anndata.read` is deprecated, use `anndata.read_h5ad` instead. `ad.read` will be removed in mid 2024.\n",
      "  warnings.warn(\n",
      "/home/icb/dominik.klein/mambaforge/envs/ot_pert_genot/lib/python3.12/site-packages/anndata/__init__.py:51: FutureWarning: `anndata.read` is deprecated, use `anndata.read_h5ad` instead. `ad.read` will be removed in mid 2024.\n",
      "  warnings.warn(\n",
      "/home/icb/dominik.klein/mambaforge/envs/ot_pert_genot/lib/python3.12/site-packages/anndata/__init__.py:51: FutureWarning: `anndata.read` is deprecated, use `anndata.read_h5ad` instead. `ad.read` will be removed in mid 2024.\n",
      "  warnings.warn(\n",
      "/home/icb/dominik.klein/mambaforge/envs/ot_pert_genot/lib/python3.12/site-packages/anndata/_core/anndata.py:1906: UserWarning: Observation names are not unique. To make them unique, call `.obs_names_make_unique`.\n",
      "  utils.warn_names_duplicates(\"obs\")\n",
      "/home/icb/dominik.klein/mambaforge/envs/ot_pert_genot/lib/python3.12/site-packages/anndata/__init__.py:51: FutureWarning: `anndata.read` is deprecated, use `anndata.read_h5ad` instead. `ad.read` will be removed in mid 2024.\n",
      "  warnings.warn(\n",
      "/home/icb/dominik.klein/mambaforge/envs/ot_pert_genot/lib/python3.12/site-packages/anndata/_core/anndata.py:1906: UserWarning: Observation names are not unique. To make them unique, call `.obs_names_make_unique`.\n",
      "  utils.warn_names_duplicates(\"obs\")\n"
     ]
    }
   ],
   "source": [
    "adata_train = sc.read(adata_train_path)\n",
    "adata_test = sc.read(adata_test_path)\n",
    "adata_ood = sc.read(adata_ood_path)\n",
    "adata_pred_test = sc.read(\"/lustre/groups/ml01/workspace/ot_perturbation/models/chemcpa/sciplex/adata_biolord_test_predictions.h5ad\")\n",
    "adata_pred_ood = sc.read(\"/lustre/groups/ml01/workspace/ot_perturbation/models/chemcpa/sciplex/adata_biolord_ood_predictions.h5ad\")"
   ]
  },
  {
   "cell_type": "code",
   "execution_count": 5,
   "id": "8401a2cb-641a-44f4-9224-1e0db0de88b6",
   "metadata": {},
   "outputs": [],
   "source": [
    "with open(\"/lustre/groups/ml01/workspace/ot_perturbation/models/chemcpa/sciplex/drug_embeddings.pkl\", 'rb') as file:\n",
    "    drug_embeddings= pickle.load(file)"
   ]
  },
  {
   "cell_type": "code",
   "execution_count": 7,
   "id": "a77f7228-5d6d-4f60-a307-94a9f4882cb1",
   "metadata": {},
   "outputs": [
    {
     "data": {
      "text/plain": [
       "1477"
      ]
     },
     "execution_count": 7,
     "metadata": {},
     "output_type": "execute_result"
    }
   ],
   "source": [
    "len(drug_embeddings)"
   ]
  },
  {
   "cell_type": "code",
   "execution_count": 21,
   "id": "52d6ef7a-2359-463e-9f06-3557bfdbb0e7",
   "metadata": {},
   "outputs": [
    {
     "data": {
      "text/plain": [
       "(32,)"
      ]
     },
     "execution_count": 21,
     "metadata": {},
     "output_type": "execute_result"
    }
   ],
   "source": [
    "list(drug_embeddings.values())[0].shape"
   ]
  },
  {
   "cell_type": "code",
   "execution_count": 14,
   "id": "2ffb1d7b-b707-479f-a0ba-48d741fec666",
   "metadata": {},
   "outputs": [
    {
     "data": {
      "text/plain": [
       "142"
      ]
     },
     "execution_count": 14,
     "metadata": {},
     "output_type": "execute_result"
    }
   ],
   "source": [
    "(adata_train.obs[\"condition\"] == list(drug_embeddings.keys())[0]).sum()"
   ]
  },
  {
   "cell_type": "code",
   "execution_count": 29,
   "id": "7953e521-b0e9-4b9a-b926-99114049ce33",
   "metadata": {},
   "outputs": [],
   "source": [
    "import numpy as np\n",
    "adata_train.obsm[\"chemCPA_emb\"] = np.transpose(np.hstack(adata_train.obs.apply(lambda x: drug_embeddings[x[\"condition\"]][:,None], axis=1)))\n",
    "adata_test.obsm[\"chemCPA_emb\"] = np.transpose(np.hstack(adata_test.obs.apply(lambda x: drug_embeddings[x[\"condition\"]][:,None], axis=1)))\n",
    "adata_ood.obsm[\"chemCPA_emb\"] = np.transpose(np.hstack(adata_ood.obs.apply(lambda x: drug_embeddings[x[\"condition\"]][:,None], axis=1)))"
   ]
  },
  {
   "cell_type": "code",
   "execution_count": 30,
   "id": "78398af2-dbf4-4e95-8930-3258863981f8",
   "metadata": {},
   "outputs": [],
   "source": [
    "adata_train.write(\"/lustre/groups/ml01/workspace/ot_perturbation/data/sciplex/adata_train_biolord_split_30_chemcpa.h5ad\")\n",
    "adata_test.write(\"/lustre/groups/ml01/workspace/ot_perturbation/data/sciplex/adata_test_biolord_split_30_chemcpa.h5ad\")\n",
    "adata_ood.write(\"/lustre/groups/ml01/workspace/ot_perturbation/data/sciplex/adata_ood_biolord_split_30_chemcpa.h5ad\")"
   ]
  },
  {
   "cell_type": "code",
   "execution_count": null,
   "id": "b8ed777e-3cd6-4a5a-ab92-1d28b407e8d2",
   "metadata": {},
   "outputs": [],
   "source": []
  }
 ],
 "metadata": {
  "kernelspec": {
   "display_name": "ot_pert_genot",
   "language": "python",
   "name": "ot_pert_genot"
  },
  "language_info": {
   "codemirror_mode": {
    "name": "ipython",
    "version": 3
   },
   "file_extension": ".py",
   "mimetype": "text/x-python",
   "name": "python",
   "nbconvert_exporter": "python",
   "pygments_lexer": "ipython3",
   "version": "3.12.2"
  }
 },
 "nbformat": 4,
 "nbformat_minor": 5
}
