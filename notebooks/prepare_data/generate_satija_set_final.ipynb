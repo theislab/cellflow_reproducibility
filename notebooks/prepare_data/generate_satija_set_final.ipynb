{
 "cells": [
  {
   "cell_type": "code",
   "execution_count": 32,
   "id": "41022d7f-78a8-4855-899f-b7978574d496",
   "metadata": {},
   "outputs": [],
   "source": [
    "import sys, os\n",
    "from gears import PertData\n",
    "import scanpy as sc\n",
    "import anndata as ad\n",
    "import pickle"
   ]
  },
  {
   "cell_type": "code",
   "execution_count": 33,
   "id": "c7a7f557-7df4-486b-8dd5-412216904384",
   "metadata": {},
   "outputs": [],
   "source": [
    "pathway = 'IFNG'\n",
    "cell_type = 'BXPC3'"
   ]
  },
  {
   "cell_type": "code",
   "execution_count": 42,
   "id": "00099646-d860-4b02-a796-440e9d35a561",
   "metadata": {},
   "outputs": [
    {
     "data": {
      "text/plain": [
       "AnnData object with n_obs × n_vars = 61522 × 2000\n",
       "    obs: 'orig.ident', 'nCount_RNA', 'nFeature_RNA', 'sample', 'cell_type', 'percent.mito', 'sample_ID', 'Batch_info', 'bc1_well', 'bc2_well', 'bc3_well', 'guide', 'gene', 'mixscale_score', 'condition', 'control', 'ood', 'is_ood', 'split'\n",
       "    obsm: 'X_pca', 'cell_line_emb', 'cond_emb', 'gene_emb'\n",
       "    layers: 'X_log1p', 'centered_X'"
      ]
     },
     "execution_count": 42,
     "metadata": {},
     "output_type": "execute_result"
    }
   ],
   "source": [
    "data_path = \"/lustre/groups/ml01/workspace/ot_perturbation/data/satija/datasets/r2\"\n",
    "adata_train = sc.read_h5ad(os.path.join(data_path, \"adata_train_\" + pathway + \"_\" + cell_type + \".h5ad\"))\n",
    "adata_train = adata_train[adata_train.obs['cell_type'] == cell_type, :]\n",
    "adata_ood = sc.read_h5ad(os.path.join(data_path, \"adata_ood_\" + pathway + \"_\" + cell_type + \".h5ad\"))\n",
    "adata_ood = adata_ood[adata_ood.obs['cell_type'] == cell_type, :]\n",
    "adata = ad.concat([adata_train, adata_ood], join='outer')\n",
    "adata"
   ]
  },
  {
   "cell_type": "code",
   "execution_count": 43,
   "id": "d4944641-3945-450d-a51c-df2e7ac6990e",
   "metadata": {},
   "outputs": [
    {
     "data": {
      "text/plain": [
       "['TRAFD1', 'EHF', 'ATF5', 'MAFB', 'IFI16', 'IRF7', 'STAT1']"
      ]
     },
     "execution_count": 43,
     "metadata": {},
     "output_type": "execute_result"
    }
   ],
   "source": [
    "ood_genes = adata_ood.obs[adata_ood.obs['gene'] != 'NT']['gene'].unique().tolist()\n",
    "ood_genes"
   ]
  },
  {
   "cell_type": "code",
   "execution_count": 53,
   "id": "cd94864f-ea55-4b25-97c9-7684df6a2676",
   "metadata": {},
   "outputs": [],
   "source": [
    "train_genes = adata_train.obs[adata_train.obs['gene'] != 'NT']['gene'].unique().tolist()"
   ]
  },
  {
   "cell_type": "code",
   "execution_count": 54,
   "id": "6548f6a2-b24e-4bbe-94f8-30ba3390a70d",
   "metadata": {},
   "outputs": [
    {
     "data": {
      "text/plain": [
       "array(['IRF9+ctrl', 'PRDM1+ctrl', 'BATF2+ctrl', 'FOXN3+ctrl',\n",
       "       'PTPN11+ctrl', 'PARP12+ctrl', 'IRF1+ctrl', 'IFNGR2+ctrl',\n",
       "       'RARRES3+ctrl', 'RUNX1+ctrl', 'IFNGR1+ctrl', 'ATF3+ctrl',\n",
       "       'CEBPB+ctrl', 'ETV7+ctrl', 'ctrl', 'SP100+ctrl', 'TBX21+ctrl',\n",
       "       'IRF2+ctrl', 'MYC+ctrl', 'HLA-DQB1+ctrl', 'JAK1+ctrl', 'JAK2+ctrl',\n",
       "       'JUN+ctrl', 'RFX5+ctrl', 'STAT3+ctrl', 'MAFF+ctrl', 'FMNL2+ctrl',\n",
       "       'PLEK+ctrl', 'GUK1+ctrl', 'SRC+ctrl', 'RNF14+ctrl', 'CEBPE+ctrl',\n",
       "       'TRAFD1+ctrl', 'EHF+ctrl', 'ATF5+ctrl', 'MAFB+ctrl', 'IFI16+ctrl',\n",
       "       'IRF7+ctrl', 'STAT1+ctrl'], dtype=object)"
      ]
     },
     "execution_count": 54,
     "metadata": {},
     "output_type": "execute_result"
    }
   ],
   "source": [
    "adata.obs['condition'] = adata.obs.apply(lambda x: \"+\".join([x.gene, 'ctrl']), axis=1)\n",
    "adata.obs.loc[adata.obs['gene'] == 'NT', 'condition'] = 'ctrl'\n",
    "adata.obs['condition'].unique()"
   ]
  },
  {
   "cell_type": "code",
   "execution_count": 55,
   "id": "b0e6629c-275d-4daf-b859-7f8e7dc38ee3",
   "metadata": {},
   "outputs": [
    {
     "data": {
      "text/plain": [
       "AnnData object with n_obs × n_vars = 61522 × 2000\n",
       "    obs: 'orig.ident', 'nCount_RNA', 'nFeature_RNA', 'sample', 'cell_type', 'percent.mito', 'sample_ID', 'Batch_info', 'bc1_well', 'bc2_well', 'bc3_well', 'guide', 'gene', 'mixscale_score', 'condition', 'control', 'ood', 'is_ood', 'split'\n",
       "    var: 'gene_name'\n",
       "    obsm: 'X_pca', 'cell_line_emb', 'cond_emb', 'gene_emb'\n",
       "    layers: 'X_log1p', 'centered_X'"
      ]
     },
     "execution_count": 55,
     "metadata": {},
     "output_type": "execute_result"
    }
   ],
   "source": [
    "adata"
   ]
  },
  {
   "cell_type": "code",
   "execution_count": 62,
   "id": "c2681e71-b524-4786-99b7-bee4106a016a",
   "metadata": {},
   "outputs": [
    {
     "data": {
      "text/html": [
       "<div>\n",
       "<style scoped>\n",
       "    .dataframe tbody tr th:only-of-type {\n",
       "        vertical-align: middle;\n",
       "    }\n",
       "\n",
       "    .dataframe tbody tr th {\n",
       "        vertical-align: top;\n",
       "    }\n",
       "\n",
       "    .dataframe thead th {\n",
       "        text-align: right;\n",
       "    }\n",
       "</style>\n",
       "<table border=\"1\" class=\"dataframe\">\n",
       "  <thead>\n",
       "    <tr style=\"text-align: right;\">\n",
       "      <th></th>\n",
       "      <th>orig.ident</th>\n",
       "      <th>nCount_RNA</th>\n",
       "      <th>nFeature_RNA</th>\n",
       "      <th>sample</th>\n",
       "      <th>cell_type</th>\n",
       "      <th>percent.mito</th>\n",
       "      <th>sample_ID</th>\n",
       "      <th>Batch_info</th>\n",
       "      <th>bc1_well</th>\n",
       "      <th>bc2_well</th>\n",
       "      <th>...</th>\n",
       "      <th>guide</th>\n",
       "      <th>gene</th>\n",
       "      <th>mixscale_score</th>\n",
       "      <th>condition</th>\n",
       "      <th>control</th>\n",
       "      <th>ood</th>\n",
       "      <th>is_ood</th>\n",
       "      <th>split</th>\n",
       "      <th>dose_val</th>\n",
       "      <th>condition_name</th>\n",
       "    </tr>\n",
       "  </thead>\n",
       "  <tbody>\n",
       "    <tr>\n",
       "      <th>28_93_82_1_1_1_1_1_1_1_1_1</th>\n",
       "      <td>28</td>\n",
       "      <td>8609.0</td>\n",
       "      <td>3870</td>\n",
       "      <td>BXCP3_IFNG</td>\n",
       "      <td>BXPC3</td>\n",
       "      <td>5.273550935067952</td>\n",
       "      <td>sample_1</td>\n",
       "      <td>Rep1</td>\n",
       "      <td>nan</td>\n",
       "      <td>nan</td>\n",
       "      <td>...</td>\n",
       "      <td>RARRES3g1</td>\n",
       "      <td>RARRES3</td>\n",
       "      <td>1.2247992493382465</td>\n",
       "      <td>RARRES3+ctrl</td>\n",
       "      <td>0</td>\n",
       "      <td>False</td>\n",
       "      <td>False</td>\n",
       "      <td>train</td>\n",
       "      <td>1+1</td>\n",
       "      <td>BXPC3_RARRES3+ctrl_1+1</td>\n",
       "    </tr>\n",
       "    <tr>\n",
       "      <th>28_48_62_1_1_1_1_1_1_1_1_1</th>\n",
       "      <td>28</td>\n",
       "      <td>4662.0</td>\n",
       "      <td>2690</td>\n",
       "      <td>BXCP3_IFNG</td>\n",
       "      <td>BXPC3</td>\n",
       "      <td>3.9468039468039464</td>\n",
       "      <td>sample_1</td>\n",
       "      <td>Rep1</td>\n",
       "      <td>nan</td>\n",
       "      <td>nan</td>\n",
       "      <td>...</td>\n",
       "      <td>RARRES3g1</td>\n",
       "      <td>RARRES3</td>\n",
       "      <td>0.7364614611075123</td>\n",
       "      <td>RARRES3+ctrl</td>\n",
       "      <td>0</td>\n",
       "      <td>False</td>\n",
       "      <td>False</td>\n",
       "      <td>train</td>\n",
       "      <td>1+1</td>\n",
       "      <td>BXPC3_RARRES3+ctrl_1+1</td>\n",
       "    </tr>\n",
       "    <tr>\n",
       "      <th>26_27_25_1_1_1_1_1_1_1_1_1</th>\n",
       "      <td>26</td>\n",
       "      <td>4663.0</td>\n",
       "      <td>2686</td>\n",
       "      <td>BXCP3_IFNG</td>\n",
       "      <td>BXPC3</td>\n",
       "      <td>4.717992708556723</td>\n",
       "      <td>sample_1</td>\n",
       "      <td>Rep1</td>\n",
       "      <td>nan</td>\n",
       "      <td>nan</td>\n",
       "      <td>...</td>\n",
       "      <td>RARRES3g1</td>\n",
       "      <td>RARRES3</td>\n",
       "      <td>1.9977108311345417</td>\n",
       "      <td>RARRES3+ctrl</td>\n",
       "      <td>0</td>\n",
       "      <td>False</td>\n",
       "      <td>False</td>\n",
       "      <td>train</td>\n",
       "      <td>1+1</td>\n",
       "      <td>BXPC3_RARRES3+ctrl_1+1</td>\n",
       "    </tr>\n",
       "    <tr>\n",
       "      <th>28_91_62_1_1_1_1_1_1_1_1_1</th>\n",
       "      <td>28</td>\n",
       "      <td>2728.0</td>\n",
       "      <td>1848</td>\n",
       "      <td>BXCP3_IFNG</td>\n",
       "      <td>BXPC3</td>\n",
       "      <td>3.225806451612903</td>\n",
       "      <td>sample_1</td>\n",
       "      <td>Rep1</td>\n",
       "      <td>nan</td>\n",
       "      <td>nan</td>\n",
       "      <td>...</td>\n",
       "      <td>RARRES3g1</td>\n",
       "      <td>RARRES3</td>\n",
       "      <td>2.968267133668633</td>\n",
       "      <td>RARRES3+ctrl</td>\n",
       "      <td>0</td>\n",
       "      <td>False</td>\n",
       "      <td>False</td>\n",
       "      <td>train</td>\n",
       "      <td>1+1</td>\n",
       "      <td>BXPC3_RARRES3+ctrl_1+1</td>\n",
       "    </tr>\n",
       "    <tr>\n",
       "      <th>27_12_90_1_1_1_1_1_1_1_1_1</th>\n",
       "      <td>27</td>\n",
       "      <td>2355.0</td>\n",
       "      <td>1632</td>\n",
       "      <td>BXCP3_IFNG</td>\n",
       "      <td>BXPC3</td>\n",
       "      <td>2.5053078556263273</td>\n",
       "      <td>sample_1</td>\n",
       "      <td>Rep1</td>\n",
       "      <td>nan</td>\n",
       "      <td>nan</td>\n",
       "      <td>...</td>\n",
       "      <td>RARRES3g1</td>\n",
       "      <td>RARRES3</td>\n",
       "      <td>1.230744635345631</td>\n",
       "      <td>RARRES3+ctrl</td>\n",
       "      <td>0</td>\n",
       "      <td>False</td>\n",
       "      <td>False</td>\n",
       "      <td>train</td>\n",
       "      <td>1+1</td>\n",
       "      <td>BXPC3_RARRES3+ctrl_1+1</td>\n",
       "    </tr>\n",
       "    <tr>\n",
       "      <th>...</th>\n",
       "      <td>...</td>\n",
       "      <td>...</td>\n",
       "      <td>...</td>\n",
       "      <td>...</td>\n",
       "      <td>...</td>\n",
       "      <td>...</td>\n",
       "      <td>...</td>\n",
       "      <td>...</td>\n",
       "      <td>...</td>\n",
       "      <td>...</td>\n",
       "      <td>...</td>\n",
       "      <td>...</td>\n",
       "      <td>...</td>\n",
       "      <td>...</td>\n",
       "      <td>...</td>\n",
       "      <td>...</td>\n",
       "      <td>...</td>\n",
       "      <td>...</td>\n",
       "      <td>...</td>\n",
       "      <td>...</td>\n",
       "      <td>...</td>\n",
       "    </tr>\n",
       "    <tr>\n",
       "      <th>21_72_45_2_2</th>\n",
       "      <td>21</td>\n",
       "      <td>2100.0</td>\n",
       "      <td>1435</td>\n",
       "      <td>BXPC3_IFNG</td>\n",
       "      <td>BXPC3</td>\n",
       "      <td>11.047619047619047</td>\n",
       "      <td>sample_16</td>\n",
       "      <td>Rep2</td>\n",
       "      <td>B9</td>\n",
       "      <td>F12</td>\n",
       "      <td>...</td>\n",
       "      <td>RARRES3g1</td>\n",
       "      <td>RARRES3</td>\n",
       "      <td>1.0152437782988055</td>\n",
       "      <td>RARRES3+ctrl</td>\n",
       "      <td>0</td>\n",
       "      <td>False</td>\n",
       "      <td>False</td>\n",
       "      <td>train</td>\n",
       "      <td>1+1</td>\n",
       "      <td>BXPC3_RARRES3+ctrl_1+1</td>\n",
       "    </tr>\n",
       "    <tr>\n",
       "      <th>21_71_51_2_2</th>\n",
       "      <td>21</td>\n",
       "      <td>1866.0</td>\n",
       "      <td>1259</td>\n",
       "      <td>BXPC3_IFNG</td>\n",
       "      <td>BXPC3</td>\n",
       "      <td>5.359056806002144</td>\n",
       "      <td>sample_16</td>\n",
       "      <td>Rep2</td>\n",
       "      <td>B9</td>\n",
       "      <td>F11</td>\n",
       "      <td>...</td>\n",
       "      <td>RARRES3g1</td>\n",
       "      <td>RARRES3</td>\n",
       "      <td>1.2814108219512041</td>\n",
       "      <td>RARRES3+ctrl</td>\n",
       "      <td>0</td>\n",
       "      <td>False</td>\n",
       "      <td>False</td>\n",
       "      <td>train</td>\n",
       "      <td>1+1</td>\n",
       "      <td>BXPC3_RARRES3+ctrl_1+1</td>\n",
       "    </tr>\n",
       "    <tr>\n",
       "      <th>23_18_27_2_2</th>\n",
       "      <td>23</td>\n",
       "      <td>1445.0</td>\n",
       "      <td>1084</td>\n",
       "      <td>BXPC3_IFNG</td>\n",
       "      <td>BXPC3</td>\n",
       "      <td>2.006920415224913</td>\n",
       "      <td>sample_16</td>\n",
       "      <td>Rep2</td>\n",
       "      <td>B11</td>\n",
       "      <td>B6</td>\n",
       "      <td>...</td>\n",
       "      <td>RARRES3g1</td>\n",
       "      <td>RARRES3</td>\n",
       "      <td>0.7700884061860296</td>\n",
       "      <td>RARRES3+ctrl</td>\n",
       "      <td>0</td>\n",
       "      <td>False</td>\n",
       "      <td>False</td>\n",
       "      <td>train</td>\n",
       "      <td>1+1</td>\n",
       "      <td>BXPC3_RARRES3+ctrl_1+1</td>\n",
       "    </tr>\n",
       "    <tr>\n",
       "      <th>21_03_96_2_2</th>\n",
       "      <td>21</td>\n",
       "      <td>1295.0</td>\n",
       "      <td>1030</td>\n",
       "      <td>BXPC3_IFNG</td>\n",
       "      <td>BXPC3</td>\n",
       "      <td>3.2432432432432434</td>\n",
       "      <td>sample_16</td>\n",
       "      <td>Rep2</td>\n",
       "      <td>B9</td>\n",
       "      <td>A3</td>\n",
       "      <td>...</td>\n",
       "      <td>RARRES3g1</td>\n",
       "      <td>RARRES3</td>\n",
       "      <td>1.5431941835285357</td>\n",
       "      <td>RARRES3+ctrl</td>\n",
       "      <td>0</td>\n",
       "      <td>False</td>\n",
       "      <td>False</td>\n",
       "      <td>train</td>\n",
       "      <td>1+1</td>\n",
       "      <td>BXPC3_RARRES3+ctrl_1+1</td>\n",
       "    </tr>\n",
       "    <tr>\n",
       "      <th>21_71_25_2_2</th>\n",
       "      <td>21</td>\n",
       "      <td>1075.0</td>\n",
       "      <td>866</td>\n",
       "      <td>BXPC3_IFNG</td>\n",
       "      <td>BXPC3</td>\n",
       "      <td>1.7674418604651163</td>\n",
       "      <td>sample_16</td>\n",
       "      <td>Rep2</td>\n",
       "      <td>B9</td>\n",
       "      <td>F11</td>\n",
       "      <td>...</td>\n",
       "      <td>RARRES3g1</td>\n",
       "      <td>RARRES3</td>\n",
       "      <td>1.6960672479988543</td>\n",
       "      <td>RARRES3+ctrl</td>\n",
       "      <td>0</td>\n",
       "      <td>False</td>\n",
       "      <td>False</td>\n",
       "      <td>train</td>\n",
       "      <td>1+1</td>\n",
       "      <td>BXPC3_RARRES3+ctrl_1+1</td>\n",
       "    </tr>\n",
       "  </tbody>\n",
       "</table>\n",
       "<p>1095 rows × 21 columns</p>\n",
       "</div>"
      ],
      "text/plain": [
       "                           orig.ident nCount_RNA nFeature_RNA      sample  \\\n",
       "28_93_82_1_1_1_1_1_1_1_1_1         28     8609.0         3870  BXCP3_IFNG   \n",
       "28_48_62_1_1_1_1_1_1_1_1_1         28     4662.0         2690  BXCP3_IFNG   \n",
       "26_27_25_1_1_1_1_1_1_1_1_1         26     4663.0         2686  BXCP3_IFNG   \n",
       "28_91_62_1_1_1_1_1_1_1_1_1         28     2728.0         1848  BXCP3_IFNG   \n",
       "27_12_90_1_1_1_1_1_1_1_1_1         27     2355.0         1632  BXCP3_IFNG   \n",
       "...                               ...        ...          ...         ...   \n",
       "21_72_45_2_2                       21     2100.0         1435  BXPC3_IFNG   \n",
       "21_71_51_2_2                       21     1866.0         1259  BXPC3_IFNG   \n",
       "23_18_27_2_2                       23     1445.0         1084  BXPC3_IFNG   \n",
       "21_03_96_2_2                       21     1295.0         1030  BXPC3_IFNG   \n",
       "21_71_25_2_2                       21     1075.0          866  BXPC3_IFNG   \n",
       "\n",
       "                           cell_type        percent.mito  sample_ID  \\\n",
       "28_93_82_1_1_1_1_1_1_1_1_1     BXPC3   5.273550935067952   sample_1   \n",
       "28_48_62_1_1_1_1_1_1_1_1_1     BXPC3  3.9468039468039464   sample_1   \n",
       "26_27_25_1_1_1_1_1_1_1_1_1     BXPC3   4.717992708556723   sample_1   \n",
       "28_91_62_1_1_1_1_1_1_1_1_1     BXPC3   3.225806451612903   sample_1   \n",
       "27_12_90_1_1_1_1_1_1_1_1_1     BXPC3  2.5053078556263273   sample_1   \n",
       "...                              ...                 ...        ...   \n",
       "21_72_45_2_2                   BXPC3  11.047619047619047  sample_16   \n",
       "21_71_51_2_2                   BXPC3   5.359056806002144  sample_16   \n",
       "23_18_27_2_2                   BXPC3   2.006920415224913  sample_16   \n",
       "21_03_96_2_2                   BXPC3  3.2432432432432434  sample_16   \n",
       "21_71_25_2_2                   BXPC3  1.7674418604651163  sample_16   \n",
       "\n",
       "                           Batch_info bc1_well bc2_well  ...      guide  \\\n",
       "28_93_82_1_1_1_1_1_1_1_1_1       Rep1      nan      nan  ...  RARRES3g1   \n",
       "28_48_62_1_1_1_1_1_1_1_1_1       Rep1      nan      nan  ...  RARRES3g1   \n",
       "26_27_25_1_1_1_1_1_1_1_1_1       Rep1      nan      nan  ...  RARRES3g1   \n",
       "28_91_62_1_1_1_1_1_1_1_1_1       Rep1      nan      nan  ...  RARRES3g1   \n",
       "27_12_90_1_1_1_1_1_1_1_1_1       Rep1      nan      nan  ...  RARRES3g1   \n",
       "...                               ...      ...      ...  ...        ...   \n",
       "21_72_45_2_2                     Rep2       B9      F12  ...  RARRES3g1   \n",
       "21_71_51_2_2                     Rep2       B9      F11  ...  RARRES3g1   \n",
       "23_18_27_2_2                     Rep2      B11       B6  ...  RARRES3g1   \n",
       "21_03_96_2_2                     Rep2       B9       A3  ...  RARRES3g1   \n",
       "21_71_25_2_2                     Rep2       B9      F11  ...  RARRES3g1   \n",
       "\n",
       "                               gene      mixscale_score     condition control  \\\n",
       "28_93_82_1_1_1_1_1_1_1_1_1  RARRES3  1.2247992493382465  RARRES3+ctrl       0   \n",
       "28_48_62_1_1_1_1_1_1_1_1_1  RARRES3  0.7364614611075123  RARRES3+ctrl       0   \n",
       "26_27_25_1_1_1_1_1_1_1_1_1  RARRES3  1.9977108311345417  RARRES3+ctrl       0   \n",
       "28_91_62_1_1_1_1_1_1_1_1_1  RARRES3   2.968267133668633  RARRES3+ctrl       0   \n",
       "27_12_90_1_1_1_1_1_1_1_1_1  RARRES3   1.230744635345631  RARRES3+ctrl       0   \n",
       "...                             ...                 ...           ...     ...   \n",
       "21_72_45_2_2                RARRES3  1.0152437782988055  RARRES3+ctrl       0   \n",
       "21_71_51_2_2                RARRES3  1.2814108219512041  RARRES3+ctrl       0   \n",
       "23_18_27_2_2                RARRES3  0.7700884061860296  RARRES3+ctrl       0   \n",
       "21_03_96_2_2                RARRES3  1.5431941835285357  RARRES3+ctrl       0   \n",
       "21_71_25_2_2                RARRES3  1.6960672479988543  RARRES3+ctrl       0   \n",
       "\n",
       "                              ood is_ood  split dose_val  \\\n",
       "28_93_82_1_1_1_1_1_1_1_1_1  False  False  train      1+1   \n",
       "28_48_62_1_1_1_1_1_1_1_1_1  False  False  train      1+1   \n",
       "26_27_25_1_1_1_1_1_1_1_1_1  False  False  train      1+1   \n",
       "28_91_62_1_1_1_1_1_1_1_1_1  False  False  train      1+1   \n",
       "27_12_90_1_1_1_1_1_1_1_1_1  False  False  train      1+1   \n",
       "...                           ...    ...    ...      ...   \n",
       "21_72_45_2_2                False  False  train      1+1   \n",
       "21_71_51_2_2                False  False  train      1+1   \n",
       "23_18_27_2_2                False  False  train      1+1   \n",
       "21_03_96_2_2                False  False  train      1+1   \n",
       "21_71_25_2_2                False  False  train      1+1   \n",
       "\n",
       "                                    condition_name  \n",
       "28_93_82_1_1_1_1_1_1_1_1_1  BXPC3_RARRES3+ctrl_1+1  \n",
       "28_48_62_1_1_1_1_1_1_1_1_1  BXPC3_RARRES3+ctrl_1+1  \n",
       "26_27_25_1_1_1_1_1_1_1_1_1  BXPC3_RARRES3+ctrl_1+1  \n",
       "28_91_62_1_1_1_1_1_1_1_1_1  BXPC3_RARRES3+ctrl_1+1  \n",
       "27_12_90_1_1_1_1_1_1_1_1_1  BXPC3_RARRES3+ctrl_1+1  \n",
       "...                                            ...  \n",
       "21_72_45_2_2                BXPC3_RARRES3+ctrl_1+1  \n",
       "21_71_51_2_2                BXPC3_RARRES3+ctrl_1+1  \n",
       "23_18_27_2_2                BXPC3_RARRES3+ctrl_1+1  \n",
       "21_03_96_2_2                BXPC3_RARRES3+ctrl_1+1  \n",
       "21_71_25_2_2                BXPC3_RARRES3+ctrl_1+1  \n",
       "\n",
       "[1095 rows x 21 columns]"
      ]
     },
     "execution_count": 62,
     "metadata": {},
     "output_type": "execute_result"
    }
   ],
   "source": [
    "adata.obs.query('condition == \"RARRES3+ctrl\"')"
   ]
  },
  {
   "cell_type": "code",
   "execution_count": 56,
   "id": "95481d70-9083-4c5d-8331-7ada2d433586",
   "metadata": {},
   "outputs": [],
   "source": [
    "adata.var['gene_name'] = adata.var.index"
   ]
  },
  {
   "cell_type": "code",
   "execution_count": 57,
   "id": "e4f96e64-1015-476f-8855-5b64c11605dd",
   "metadata": {},
   "outputs": [
    {
     "name": "stderr",
     "output_type": "stream",
     "text": [
      "Downloading...\n",
      "100%|█████████████████████████████████████████████████████████████████████████████████████████████████████████████████████████████████████████████████████████████████████| 9.46M/9.46M [00:00<00:00, 9.97MiB/s]\n",
      "Downloading...\n",
      "100%|███████████████████████████████████████████████████████████████████████████████████████████████████████████████████████████████████████████████████████████████████████| 559k/559k [00:00<00:00, 1.07MiB/s]\n",
      "Creating pyg object for each cell in the data...\n",
      "Creating dataset file...\n",
      " 21%|███████████████████████████████████▎                                                                                                                                        | 8/39 [01:04<04:53,  9.45s/it]"
     ]
    },
    {
     "name": "stdout",
     "output_type": "stream",
     "text": [
      "RARRES3+ctrl\n"
     ]
    },
    {
     "name": "stderr",
     "output_type": "stream",
     "text": [
      " 49%|███████████████████████████████████████████████████████████████████████████████████▎                                                                                       | 19/39 [02:46<02:27,  7.37s/it]"
     ]
    },
    {
     "name": "stdout",
     "output_type": "stream",
     "text": [
      "HLA-DQB1+ctrl\n"
     ]
    },
    {
     "name": "stderr",
     "output_type": "stream",
     "text": [
      " 67%|██████████████████████████████████████████████████████████████████████████████████████████████████████████████████                                                         | 26/39 [03:11<00:38,  2.95s/it]"
     ]
    },
    {
     "name": "stdout",
     "output_type": "stream",
     "text": [
      "FMNL2+ctrl\n"
     ]
    },
    {
     "name": "stderr",
     "output_type": "stream",
     "text": [
      " 69%|██████████████████████████████████████████████████████████████████████████████████████████████████████████████████████▍                                                    | 27/39 [03:13<00:32,  2.74s/it]"
     ]
    },
    {
     "name": "stdout",
     "output_type": "stream",
     "text": [
      "PLEK+ctrl\n"
     ]
    },
    {
     "name": "stderr",
     "output_type": "stream",
     "text": [
      " 74%|███████████████████████████████████████████████████████████████████████████████████████████████████████████████████████████████▏                                           | 29/39 [03:21<00:33,  3.30s/it]"
     ]
    },
    {
     "name": "stdout",
     "output_type": "stream",
     "text": [
      "SRC+ctrl\n"
     ]
    },
    {
     "name": "stderr",
     "output_type": "stream",
     "text": [
      " 92%|█████████████████████████████████████████████████████████████████████████████████████████████████████████████████████████████████████████████████████████████▊             | 36/39 [03:53<00:16,  5.55s/it]"
     ]
    },
    {
     "name": "stdout",
     "output_type": "stream",
     "text": [
      "IFI16+ctrl\n"
     ]
    },
    {
     "name": "stderr",
     "output_type": "stream",
     "text": [
      "100%|███████████████████████████████████████████████████████████████████████████████████████████████████████████████████████████████████████████████████████████████████████████| 39/39 [04:00<00:00,  6.17s/it]\n",
      "Done!\n",
      "Saving new dataset pyg object at ./data/satija/satija_ifng_bxpc3/data_pyg/cell_graphs.pkl\n",
      "Done!\n"
     ]
    }
   ],
   "source": [
    "pert_data = PertData('./data/satija') \n",
    "pert_data.new_data_process(dataset_name = 'satija_' + pathway.lower() + \"_\" + cell_type.lower(), adata = adata)"
   ]
  },
  {
   "cell_type": "code",
   "execution_count": 61,
   "id": "ef6e898c-5b1f-4994-8a14-a9878fac6950",
   "metadata": {},
   "outputs": [],
   "source": [
    "custom_split_dict = {'train': [x  + '+ctrl' for x in train_genes], 'val': ['RUNX1+ctrl'], 'test': [x  + '+ctrl' for x in ood_genes]}\n",
    "custom_split_path = './data/satija/satija_ifng_bxpc3/custom_split.pkl'\n",
    "with open(custom_split_path, 'wb') as file:\n",
    "    pickle.dump(custom_split_dict, file)"
   ]
  },
  {
   "cell_type": "code",
   "execution_count": 21,
   "id": "bd962895-3d43-4224-bc48-e0705dff3f6e",
   "metadata": {},
   "outputs": [
    {
     "name": "stderr",
     "output_type": "stream",
     "text": [
      "Creating new splits....\n",
      "Saving new splits at ./data/satija/satija_ifng_hvg_2_bxpc3/splits/satija_ifng_hvg_2_bxpc3_single_1_0.75.pkl\n",
      "Done!\n",
      "Creating dataloaders....\n",
      "Done!\n"
     ]
    }
   ],
   "source": [
    "pert_data.prepare_split(split = 'simulation', seed = 1) # get data split with seed\n",
    "pert_data.get_dataloader(batch_size = 512, test_batch_size = 512) # prepare data loader"
   ]
  },
  {
   "cell_type": "code",
   "execution_count": 29,
   "id": "14d36279-9a96-4387-b35c-e3d4aa67952a",
   "metadata": {},
   "outputs": [
    {
     "data": {
      "text/plain": [
       "TSPAN6            TSPAN6\n",
       "TNMD                TNMD\n",
       "DPM1                DPM1\n",
       "SCYL3              SCYL3\n",
       "C1orf112        C1orf112\n",
       "                 ...    \n",
       "AC068620.2    AC068620.2\n",
       "AC006023.1    AC006023.1\n",
       "AL356121.2    AL356121.2\n",
       "TAF9BP2          TAF9BP2\n",
       "AC016065.2    AC016065.2\n",
       "Name: gene_name, Length: 33525, dtype: object"
      ]
     },
     "execution_count": 29,
     "metadata": {},
     "output_type": "execute_result"
    }
   ],
   "source": [
    "pert_data"
   ]
  },
  {
   "cell_type": "code",
   "execution_count": null,
   "id": "d40e683c-5c67-4491-8171-e3afb30e95ee",
   "metadata": {},
   "outputs": [],
   "source": []
  }
 ],
 "metadata": {
  "kernelspec": {
   "display_name": "gears",
   "language": "python",
   "name": "gears"
  },
  "language_info": {
   "codemirror_mode": {
    "name": "ipython",
    "version": 3
   },
   "file_extension": ".py",
   "mimetype": "text/x-python",
   "name": "python",
   "nbconvert_exporter": "python",
   "pygments_lexer": "ipython3",
   "version": "3.12.3"
  }
 },
 "nbformat": 4,
 "nbformat_minor": 5
}
