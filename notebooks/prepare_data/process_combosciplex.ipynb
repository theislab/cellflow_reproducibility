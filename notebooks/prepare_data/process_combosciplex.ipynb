{
 "cells": [
  {
   "cell_type": "code",
   "execution_count": 1,
   "id": "1632ceb5-2c07-454d-be9b-c259c305a0f7",
   "metadata": {},
   "outputs": [
    {
     "name": "stderr",
     "output_type": "stream",
     "text": [
      "/home/icb/dominik.klein/mambaforge/envs/ot_pert_genot/lib/python3.12/site-packages/tqdm/auto.py:21: TqdmWarning: IProgress not found. Please update jupyter and ipywidgets. See https://ipywidgets.readthedocs.io/en/stable/user_install.html\n",
      "  from .autonotebook import tqdm as notebook_tqdm\n"
     ]
    },
    {
     "data": {
      "text/html": [
       "<pre style=\"white-space:pre;overflow-x:auto;line-height:normal;font-family:Menlo,'DejaVu Sans Mono',consolas,'Courier New',monospace\"><span style=\"color: #808000; text-decoration-color: #808000; font-weight: bold\">ryp2 is not installed. Install with </span><span style=\"color: #008000; text-decoration-color: #008000; font-weight: bold\">pip install rpy2 </span><span style=\"color: #808000; text-decoration-color: #808000; font-weight: bold\">to run tools with R support.</span>\n",
       "</pre>\n"
      ],
      "text/plain": [
       "\u001b[1;33mryp2 is not installed. Install with \u001b[0m\u001b[1;32mpip install rpy2 \u001b[0m\u001b[1;33mto run tools with R support.\u001b[0m\n"
      ]
     },
     "metadata": {},
     "output_type": "display_data"
    }
   ],
   "source": [
    "import numpy as np\n",
    "import pandas as pd\n",
    "import pertpy\n",
    "import scanpy as sc\n",
    "from rdkit import Chem"
   ]
  },
  {
   "cell_type": "code",
   "execution_count": 2,
   "id": "1debb0cc-6f1f-45c1-afd3-af069777bbd3",
   "metadata": {},
   "outputs": [
    {
     "name": "stdout",
     "output_type": "stream",
     "text": [
      "0.7.0\n"
     ]
    }
   ],
   "source": [
    "print(pertpy.__version__)"
   ]
  },
  {
   "cell_type": "code",
   "execution_count": 3,
   "id": "87679af1-bfb9-4def-aa24-647fdd997c31",
   "metadata": {},
   "outputs": [],
   "source": [
    "output_dir = \"/lustre/groups/ml01/workspace/ot_perturbation/data/combosciplex\""
   ]
  },
  {
   "cell_type": "code",
   "execution_count": 4,
   "id": "e98ec35b-2ece-46db-900d-41fc45e88693",
   "metadata": {},
   "outputs": [],
   "source": [
    "adata = pertpy.data.combosciplex()"
   ]
  },
  {
   "cell_type": "code",
   "execution_count": 5,
   "id": "81e6f3a8-150b-4da4-9a8a-92c57c9c7602",
   "metadata": {},
   "outputs": [
    {
     "data": {
      "text/plain": [
       "AnnData object with n_obs × n_vars = 63378 × 27518\n",
       "    obs: 'sample', 'Size_Factor', 'n.umi', 'RT_well', 'Drug1', 'Drug2', 'Well', 'n_genes', 'n_genes_by_counts', 'total_counts', 'total_counts_mt', 'pct_counts_mt', 'leiden', 'condition', 'pathway1', 'pathway2', 'split', 'control', 'cell_type'\n",
       "    var: 'id', 'n_cells', 'mt', 'n_cells_by_counts', 'mean_counts', 'pct_dropout_by_counts', 'total_counts', 'highly_variable', 'means', 'dispersions', 'dispersions_norm'\n",
       "    uns: 'Drug1_colors', 'Drug2_colors', 'Well_colors', 'condition_colors', 'dendrogram_leiden', 'hvg', 'leiden', 'leiden_colors', 'neighbors', 'pathway1_colors', 'pathway2_colors', 'pathway_colors', 'pca', 'rank_genes_groups', 'split_colors', 'umap'\n",
       "    obsm: 'X_pca', 'X_umap'\n",
       "    varm: 'PCs'\n",
       "    layers: 'counts'\n",
       "    obsp: 'connectivities', 'distances'"
      ]
     },
     "execution_count": 5,
     "metadata": {},
     "output_type": "execute_result"
    }
   ],
   "source": [
    "adata"
   ]
  },
  {
   "cell_type": "code",
   "execution_count": 6,
   "id": "88cd6eea-7159-49e3-86df-9031f95116cc",
   "metadata": {
    "scrolled": true
   },
   "outputs": [
    {
     "data": {
      "text/html": [
       "<div>\n",
       "<style scoped>\n",
       "    .dataframe tbody tr th:only-of-type {\n",
       "        vertical-align: middle;\n",
       "    }\n",
       "\n",
       "    .dataframe tbody tr th {\n",
       "        vertical-align: top;\n",
       "    }\n",
       "\n",
       "    .dataframe thead th {\n",
       "        text-align: right;\n",
       "    }\n",
       "</style>\n",
       "<table border=\"1\" class=\"dataframe\">\n",
       "  <thead>\n",
       "    <tr style=\"text-align: right;\">\n",
       "      <th></th>\n",
       "      <th>sample</th>\n",
       "      <th>Size_Factor</th>\n",
       "      <th>n.umi</th>\n",
       "      <th>RT_well</th>\n",
       "      <th>Drug1</th>\n",
       "      <th>Drug2</th>\n",
       "      <th>Well</th>\n",
       "      <th>n_genes</th>\n",
       "      <th>n_genes_by_counts</th>\n",
       "      <th>total_counts</th>\n",
       "      <th>total_counts_mt</th>\n",
       "      <th>pct_counts_mt</th>\n",
       "      <th>leiden</th>\n",
       "      <th>condition</th>\n",
       "      <th>pathway1</th>\n",
       "      <th>pathway2</th>\n",
       "      <th>split</th>\n",
       "      <th>control</th>\n",
       "      <th>cell_type</th>\n",
       "    </tr>\n",
       "    <tr>\n",
       "      <th>Cell</th>\n",
       "      <th></th>\n",
       "      <th></th>\n",
       "      <th></th>\n",
       "      <th></th>\n",
       "      <th></th>\n",
       "      <th></th>\n",
       "      <th></th>\n",
       "      <th></th>\n",
       "      <th></th>\n",
       "      <th></th>\n",
       "      <th></th>\n",
       "      <th></th>\n",
       "      <th></th>\n",
       "      <th></th>\n",
       "      <th></th>\n",
       "      <th></th>\n",
       "      <th></th>\n",
       "      <th></th>\n",
       "      <th></th>\n",
       "    </tr>\n",
       "  </thead>\n",
       "  <tbody>\n",
       "    <tr>\n",
       "      <th>A01_A02_RT_BC_10_Lig_BC_18</th>\n",
       "      <td>sciPlex_theis</td>\n",
       "      <td>0.533816</td>\n",
       "      <td>1433</td>\n",
       "      <td>RT_10</td>\n",
       "      <td>control</td>\n",
       "      <td>Panobinostat</td>\n",
       "      <td>A10</td>\n",
       "      <td>1004</td>\n",
       "      <td>1004</td>\n",
       "      <td>1433.0</td>\n",
       "      <td>51.0</td>\n",
       "      <td>3.558967</td>\n",
       "      <td>1</td>\n",
       "      <td>control+Panobinostat</td>\n",
       "      <td>Vehicle</td>\n",
       "      <td>HDAC inhibitor</td>\n",
       "      <td>train</td>\n",
       "      <td>0</td>\n",
       "      <td>A549</td>\n",
       "    </tr>\n",
       "    <tr>\n",
       "      <th>A01_A02_RT_BC_10_Lig_BC_25</th>\n",
       "      <td>sciPlex_theis</td>\n",
       "      <td>0.539404</td>\n",
       "      <td>1448</td>\n",
       "      <td>RT_10</td>\n",
       "      <td>control</td>\n",
       "      <td>Panobinostat</td>\n",
       "      <td>A10</td>\n",
       "      <td>1062</td>\n",
       "      <td>1062</td>\n",
       "      <td>1448.0</td>\n",
       "      <td>53.0</td>\n",
       "      <td>3.660221</td>\n",
       "      <td>1</td>\n",
       "      <td>control+Panobinostat</td>\n",
       "      <td>Vehicle</td>\n",
       "      <td>HDAC inhibitor</td>\n",
       "      <td>train</td>\n",
       "      <td>0</td>\n",
       "      <td>A549</td>\n",
       "    </tr>\n",
       "    <tr>\n",
       "      <th>A01_A02_RT_BC_10_Lig_BC_48</th>\n",
       "      <td>sciPlex_theis</td>\n",
       "      <td>0.532326</td>\n",
       "      <td>1429</td>\n",
       "      <td>RT_10</td>\n",
       "      <td>control</td>\n",
       "      <td>Panobinostat</td>\n",
       "      <td>A10</td>\n",
       "      <td>1063</td>\n",
       "      <td>1063</td>\n",
       "      <td>1429.0</td>\n",
       "      <td>39.0</td>\n",
       "      <td>2.729181</td>\n",
       "      <td>1</td>\n",
       "      <td>control+Panobinostat</td>\n",
       "      <td>Vehicle</td>\n",
       "      <td>HDAC inhibitor</td>\n",
       "      <td>train</td>\n",
       "      <td>0</td>\n",
       "      <td>A549</td>\n",
       "    </tr>\n",
       "    <tr>\n",
       "      <th>A01_A02_RT_BC_10_Lig_BC_51</th>\n",
       "      <td>sciPlex_theis</td>\n",
       "      <td>1.461754</td>\n",
       "      <td>3924</td>\n",
       "      <td>RT_10</td>\n",
       "      <td>control</td>\n",
       "      <td>Panobinostat</td>\n",
       "      <td>A10</td>\n",
       "      <td>2412</td>\n",
       "      <td>2411</td>\n",
       "      <td>3923.0</td>\n",
       "      <td>215.0</td>\n",
       "      <td>5.480500</td>\n",
       "      <td>1</td>\n",
       "      <td>control+Panobinostat</td>\n",
       "      <td>Vehicle</td>\n",
       "      <td>HDAC inhibitor</td>\n",
       "      <td>train</td>\n",
       "      <td>0</td>\n",
       "      <td>A549</td>\n",
       "    </tr>\n",
       "    <tr>\n",
       "      <th>A01_A02_RT_BC_10_Lig_BC_70</th>\n",
       "      <td>sciPlex_theis</td>\n",
       "      <td>0.418708</td>\n",
       "      <td>1124</td>\n",
       "      <td>RT_10</td>\n",
       "      <td>control</td>\n",
       "      <td>Panobinostat</td>\n",
       "      <td>A10</td>\n",
       "      <td>834</td>\n",
       "      <td>832</td>\n",
       "      <td>1122.0</td>\n",
       "      <td>48.0</td>\n",
       "      <td>4.278075</td>\n",
       "      <td>1</td>\n",
       "      <td>control+Panobinostat</td>\n",
       "      <td>Vehicle</td>\n",
       "      <td>HDAC inhibitor</td>\n",
       "      <td>train</td>\n",
       "      <td>0</td>\n",
       "      <td>A549</td>\n",
       "    </tr>\n",
       "    <tr>\n",
       "      <th>...</th>\n",
       "      <td>...</td>\n",
       "      <td>...</td>\n",
       "      <td>...</td>\n",
       "      <td>...</td>\n",
       "      <td>...</td>\n",
       "      <td>...</td>\n",
       "      <td>...</td>\n",
       "      <td>...</td>\n",
       "      <td>...</td>\n",
       "      <td>...</td>\n",
       "      <td>...</td>\n",
       "      <td>...</td>\n",
       "      <td>...</td>\n",
       "      <td>...</td>\n",
       "      <td>...</td>\n",
       "      <td>...</td>\n",
       "      <td>...</td>\n",
       "      <td>...</td>\n",
       "      <td>...</td>\n",
       "    </tr>\n",
       "    <tr>\n",
       "      <th>H12_A02_RT_BC_96_Lig_BC_50</th>\n",
       "      <td>sciPlex_theis</td>\n",
       "      <td>0.419081</td>\n",
       "      <td>1125</td>\n",
       "      <td>RT_96</td>\n",
       "      <td>control</td>\n",
       "      <td>Dasatinib</td>\n",
       "      <td>H12</td>\n",
       "      <td>844</td>\n",
       "      <td>844</td>\n",
       "      <td>1125.0</td>\n",
       "      <td>56.0</td>\n",
       "      <td>4.977777</td>\n",
       "      <td>0</td>\n",
       "      <td>control+Dasatinib</td>\n",
       "      <td>Vehicle</td>\n",
       "      <td>EGFR inhibitor</td>\n",
       "      <td>train</td>\n",
       "      <td>0</td>\n",
       "      <td>A549</td>\n",
       "    </tr>\n",
       "    <tr>\n",
       "      <th>H12_A02_RT_BC_96_Lig_BC_95</th>\n",
       "      <td>sciPlex_theis</td>\n",
       "      <td>0.816556</td>\n",
       "      <td>2192</td>\n",
       "      <td>RT_96</td>\n",
       "      <td>control</td>\n",
       "      <td>Dasatinib</td>\n",
       "      <td>H12</td>\n",
       "      <td>1513</td>\n",
       "      <td>1513</td>\n",
       "      <td>2192.0</td>\n",
       "      <td>114.0</td>\n",
       "      <td>5.200730</td>\n",
       "      <td>0</td>\n",
       "      <td>control+Dasatinib</td>\n",
       "      <td>Vehicle</td>\n",
       "      <td>EGFR inhibitor</td>\n",
       "      <td>train</td>\n",
       "      <td>0</td>\n",
       "      <td>A549</td>\n",
       "    </tr>\n",
       "    <tr>\n",
       "      <th>H12_A02_RT_BC_9_Lig_BC_41</th>\n",
       "      <td>sciPlex_theis</td>\n",
       "      <td>0.453725</td>\n",
       "      <td>1218</td>\n",
       "      <td>RT_9</td>\n",
       "      <td>Dacinostat</td>\n",
       "      <td>Dasatinib</td>\n",
       "      <td>A9</td>\n",
       "      <td>913</td>\n",
       "      <td>913</td>\n",
       "      <td>1218.0</td>\n",
       "      <td>72.0</td>\n",
       "      <td>5.911330</td>\n",
       "      <td>1</td>\n",
       "      <td>Dacinostat+Dasatinib</td>\n",
       "      <td>HDAC inhibitor</td>\n",
       "      <td>EGFR inhibitor</td>\n",
       "      <td>train</td>\n",
       "      <td>0</td>\n",
       "      <td>A549</td>\n",
       "    </tr>\n",
       "    <tr>\n",
       "      <th>H12_A02_RT_BC_9_Lig_BC_69</th>\n",
       "      <td>sciPlex_theis</td>\n",
       "      <td>0.741680</td>\n",
       "      <td>1991</td>\n",
       "      <td>RT_9</td>\n",
       "      <td>Dacinostat</td>\n",
       "      <td>Dasatinib</td>\n",
       "      <td>A9</td>\n",
       "      <td>1389</td>\n",
       "      <td>1389</td>\n",
       "      <td>1991.0</td>\n",
       "      <td>129.0</td>\n",
       "      <td>6.479156</td>\n",
       "      <td>1</td>\n",
       "      <td>Dacinostat+Dasatinib</td>\n",
       "      <td>HDAC inhibitor</td>\n",
       "      <td>EGFR inhibitor</td>\n",
       "      <td>train</td>\n",
       "      <td>0</td>\n",
       "      <td>A549</td>\n",
       "    </tr>\n",
       "    <tr>\n",
       "      <th>H12_A02_RT_BC_9_Lig_BC_83</th>\n",
       "      <td>sciPlex_theis</td>\n",
       "      <td>2.739112</td>\n",
       "      <td>7353</td>\n",
       "      <td>RT_9</td>\n",
       "      <td>Dacinostat</td>\n",
       "      <td>Dasatinib</td>\n",
       "      <td>A9</td>\n",
       "      <td>3619</td>\n",
       "      <td>3618</td>\n",
       "      <td>7352.0</td>\n",
       "      <td>408.0</td>\n",
       "      <td>5.549510</td>\n",
       "      <td>1</td>\n",
       "      <td>Dacinostat+Dasatinib</td>\n",
       "      <td>HDAC inhibitor</td>\n",
       "      <td>EGFR inhibitor</td>\n",
       "      <td>train</td>\n",
       "      <td>0</td>\n",
       "      <td>A549</td>\n",
       "    </tr>\n",
       "  </tbody>\n",
       "</table>\n",
       "<p>63378 rows × 19 columns</p>\n",
       "</div>"
      ],
      "text/plain": [
       "                                   sample  Size_Factor  n.umi RT_well  \\\n",
       "Cell                                                                    \n",
       "A01_A02_RT_BC_10_Lig_BC_18  sciPlex_theis     0.533816   1433   RT_10   \n",
       "A01_A02_RT_BC_10_Lig_BC_25  sciPlex_theis     0.539404   1448   RT_10   \n",
       "A01_A02_RT_BC_10_Lig_BC_48  sciPlex_theis     0.532326   1429   RT_10   \n",
       "A01_A02_RT_BC_10_Lig_BC_51  sciPlex_theis     1.461754   3924   RT_10   \n",
       "A01_A02_RT_BC_10_Lig_BC_70  sciPlex_theis     0.418708   1124   RT_10   \n",
       "...                                   ...          ...    ...     ...   \n",
       "H12_A02_RT_BC_96_Lig_BC_50  sciPlex_theis     0.419081   1125   RT_96   \n",
       "H12_A02_RT_BC_96_Lig_BC_95  sciPlex_theis     0.816556   2192   RT_96   \n",
       "H12_A02_RT_BC_9_Lig_BC_41   sciPlex_theis     0.453725   1218    RT_9   \n",
       "H12_A02_RT_BC_9_Lig_BC_69   sciPlex_theis     0.741680   1991    RT_9   \n",
       "H12_A02_RT_BC_9_Lig_BC_83   sciPlex_theis     2.739112   7353    RT_9   \n",
       "\n",
       "                                 Drug1         Drug2 Well  n_genes  \\\n",
       "Cell                                                                 \n",
       "A01_A02_RT_BC_10_Lig_BC_18     control  Panobinostat  A10     1004   \n",
       "A01_A02_RT_BC_10_Lig_BC_25     control  Panobinostat  A10     1062   \n",
       "A01_A02_RT_BC_10_Lig_BC_48     control  Panobinostat  A10     1063   \n",
       "A01_A02_RT_BC_10_Lig_BC_51     control  Panobinostat  A10     2412   \n",
       "A01_A02_RT_BC_10_Lig_BC_70     control  Panobinostat  A10      834   \n",
       "...                                ...           ...  ...      ...   \n",
       "H12_A02_RT_BC_96_Lig_BC_50     control     Dasatinib  H12      844   \n",
       "H12_A02_RT_BC_96_Lig_BC_95     control     Dasatinib  H12     1513   \n",
       "H12_A02_RT_BC_9_Lig_BC_41   Dacinostat     Dasatinib   A9      913   \n",
       "H12_A02_RT_BC_9_Lig_BC_69   Dacinostat     Dasatinib   A9     1389   \n",
       "H12_A02_RT_BC_9_Lig_BC_83   Dacinostat     Dasatinib   A9     3619   \n",
       "\n",
       "                            n_genes_by_counts  total_counts  total_counts_mt  \\\n",
       "Cell                                                                           \n",
       "A01_A02_RT_BC_10_Lig_BC_18               1004        1433.0             51.0   \n",
       "A01_A02_RT_BC_10_Lig_BC_25               1062        1448.0             53.0   \n",
       "A01_A02_RT_BC_10_Lig_BC_48               1063        1429.0             39.0   \n",
       "A01_A02_RT_BC_10_Lig_BC_51               2411        3923.0            215.0   \n",
       "A01_A02_RT_BC_10_Lig_BC_70                832        1122.0             48.0   \n",
       "...                                       ...           ...              ...   \n",
       "H12_A02_RT_BC_96_Lig_BC_50                844        1125.0             56.0   \n",
       "H12_A02_RT_BC_96_Lig_BC_95               1513        2192.0            114.0   \n",
       "H12_A02_RT_BC_9_Lig_BC_41                 913        1218.0             72.0   \n",
       "H12_A02_RT_BC_9_Lig_BC_69                1389        1991.0            129.0   \n",
       "H12_A02_RT_BC_9_Lig_BC_83                3618        7352.0            408.0   \n",
       "\n",
       "                            pct_counts_mt leiden             condition  \\\n",
       "Cell                                                                     \n",
       "A01_A02_RT_BC_10_Lig_BC_18       3.558967      1  control+Panobinostat   \n",
       "A01_A02_RT_BC_10_Lig_BC_25       3.660221      1  control+Panobinostat   \n",
       "A01_A02_RT_BC_10_Lig_BC_48       2.729181      1  control+Panobinostat   \n",
       "A01_A02_RT_BC_10_Lig_BC_51       5.480500      1  control+Panobinostat   \n",
       "A01_A02_RT_BC_10_Lig_BC_70       4.278075      1  control+Panobinostat   \n",
       "...                                   ...    ...                   ...   \n",
       "H12_A02_RT_BC_96_Lig_BC_50       4.977777      0     control+Dasatinib   \n",
       "H12_A02_RT_BC_96_Lig_BC_95       5.200730      0     control+Dasatinib   \n",
       "H12_A02_RT_BC_9_Lig_BC_41        5.911330      1  Dacinostat+Dasatinib   \n",
       "H12_A02_RT_BC_9_Lig_BC_69        6.479156      1  Dacinostat+Dasatinib   \n",
       "H12_A02_RT_BC_9_Lig_BC_83        5.549510      1  Dacinostat+Dasatinib   \n",
       "\n",
       "                                  pathway1        pathway2  split  control  \\\n",
       "Cell                                                                         \n",
       "A01_A02_RT_BC_10_Lig_BC_18         Vehicle  HDAC inhibitor  train        0   \n",
       "A01_A02_RT_BC_10_Lig_BC_25         Vehicle  HDAC inhibitor  train        0   \n",
       "A01_A02_RT_BC_10_Lig_BC_48         Vehicle  HDAC inhibitor  train        0   \n",
       "A01_A02_RT_BC_10_Lig_BC_51         Vehicle  HDAC inhibitor  train        0   \n",
       "A01_A02_RT_BC_10_Lig_BC_70         Vehicle  HDAC inhibitor  train        0   \n",
       "...                                    ...             ...    ...      ...   \n",
       "H12_A02_RT_BC_96_Lig_BC_50         Vehicle  EGFR inhibitor  train        0   \n",
       "H12_A02_RT_BC_96_Lig_BC_95         Vehicle  EGFR inhibitor  train        0   \n",
       "H12_A02_RT_BC_9_Lig_BC_41   HDAC inhibitor  EGFR inhibitor  train        0   \n",
       "H12_A02_RT_BC_9_Lig_BC_69   HDAC inhibitor  EGFR inhibitor  train        0   \n",
       "H12_A02_RT_BC_9_Lig_BC_83   HDAC inhibitor  EGFR inhibitor  train        0   \n",
       "\n",
       "                           cell_type  \n",
       "Cell                                  \n",
       "A01_A02_RT_BC_10_Lig_BC_18      A549  \n",
       "A01_A02_RT_BC_10_Lig_BC_25      A549  \n",
       "A01_A02_RT_BC_10_Lig_BC_48      A549  \n",
       "A01_A02_RT_BC_10_Lig_BC_51      A549  \n",
       "A01_A02_RT_BC_10_Lig_BC_70      A549  \n",
       "...                              ...  \n",
       "H12_A02_RT_BC_96_Lig_BC_50      A549  \n",
       "H12_A02_RT_BC_96_Lig_BC_95      A549  \n",
       "H12_A02_RT_BC_9_Lig_BC_41       A549  \n",
       "H12_A02_RT_BC_9_Lig_BC_69       A549  \n",
       "H12_A02_RT_BC_9_Lig_BC_83       A549  \n",
       "\n",
       "[63378 rows x 19 columns]"
      ]
     },
     "execution_count": 6,
     "metadata": {},
     "output_type": "execute_result"
    }
   ],
   "source": [
    "adata.obs"
   ]
  },
  {
   "cell_type": "code",
   "execution_count": 7,
   "id": "c0bcf8bf-ee38-41cd-9759-08f0a9f6f42e",
   "metadata": {},
   "outputs": [
    {
     "data": {
      "text/plain": [
       "condition\n",
       "Dacinostat+PCI-34051         3298\n",
       "SRT3025+Cediranib            3016\n",
       "Givinostat+Cediranib         2783\n",
       "control+SRT2104              2756\n",
       "Givinostat+Curcumin          2736\n",
       "Givinostat+Sorafenib         2734\n",
       "Givinostat+Carmofur          2692\n",
       "Givinostat+Crizotinib        2662\n",
       "Givinostat+Dasatinib         2421\n",
       "Givinostat+SRT2104           2353\n",
       "control+Dasatinib            2343\n",
       "Givinostat+SRT1720           2260\n",
       "Panobinostat+Curcumin        2244\n",
       "Cediranib+PCI-34051          2161\n",
       "Panobinostat+Sorafenib       2013\n",
       "Panobinostat+SRT2104         1971\n",
       "Panobinostat+Dasatinib       1955\n",
       "Dacinostat+Danusertib        1939\n",
       "Panobinostat+SRT3025         1889\n",
       "control+Dacinostat           1869\n",
       "Panobinostat+SRT1720         1826\n",
       "Panobinostat+PCI-34051       1814\n",
       "control+Givinostat           1682\n",
       "Panobinostat+Crizotinib      1641\n",
       "control+Panobinostat         1578\n",
       "control+control              1451\n",
       "Givinostat+Tanespimycin      1310\n",
       "Dacinostat+Dasatinib         1231\n",
       "Panobinostat+Alvespimycin     996\n",
       "control+Alvespimycin          758\n",
       "SRT2104+Alvespimycin          520\n",
       "Alvespimycin+Pirarubicin      476\n",
       "Name: count, dtype: int64"
      ]
     },
     "execution_count": 7,
     "metadata": {},
     "output_type": "execute_result"
    }
   ],
   "source": [
    "adata.obs[\"condition\"].value_counts()"
   ]
  },
  {
   "cell_type": "code",
   "execution_count": 8,
   "id": "1fa6a04b-9b1d-445a-8383-64225743f852",
   "metadata": {},
   "outputs": [
    {
     "data": {
      "text/plain": [
       "Drug2\n",
       "Dasatinib       7950\n",
       "PCI-34051       7273\n",
       "SRT2104         7080\n",
       "Cediranib       5799\n",
       "Curcumin        4980\n",
       "Sorafenib       4747\n",
       "Crizotinib      4303\n",
       "SRT1720         4086\n",
       "Carmofur        2692\n",
       "Alvespimycin    2274\n",
       "Danusertib      1939\n",
       "SRT3025         1889\n",
       "Dacinostat      1869\n",
       "Givinostat      1682\n",
       "Panobinostat    1578\n",
       "control         1451\n",
       "Tanespimycin    1310\n",
       "Pirarubicin      476\n",
       "Name: count, dtype: int64"
      ]
     },
     "execution_count": 8,
     "metadata": {},
     "output_type": "execute_result"
    }
   ],
   "source": [
    "adata.obs[\"Drug2\"].value_counts()"
   ]
  },
  {
   "cell_type": "code",
   "execution_count": 9,
   "id": "42970243-59f8-45b0-bc21-4342b4a06754",
   "metadata": {},
   "outputs": [
    {
     "data": {
      "text/plain": [
       "Drug1\n",
       "Givinostat      21951\n",
       "Panobinostat    16349\n",
       "control         12437\n",
       "Dacinostat       6468\n",
       "SRT3025          3016\n",
       "Cediranib        2161\n",
       "SRT2104           520\n",
       "Alvespimycin      476\n",
       "Name: count, dtype: int64"
      ]
     },
     "execution_count": 9,
     "metadata": {},
     "output_type": "execute_result"
    }
   ],
   "source": [
    "adata.obs[\"Drug1\"].value_counts()"
   ]
  },
  {
   "cell_type": "code",
   "execution_count": 10,
   "id": "27507da7-e2f0-4f49-beb7-352302fb3826",
   "metadata": {},
   "outputs": [],
   "source": [
    "adata.X = adata.layers[\"counts\"]"
   ]
  },
  {
   "cell_type": "code",
   "execution_count": 11,
   "id": "e9c1a067-8a30-47b4-83ec-833ad1f0abfa",
   "metadata": {},
   "outputs": [],
   "source": [
    "sc.pp.normalize_total(adata)\n",
    "sc.pp.log1p(adata)"
   ]
  },
  {
   "cell_type": "code",
   "execution_count": 12,
   "id": "8e920cb2-ef2d-45ba-92bd-f7b34b97086e",
   "metadata": {},
   "outputs": [
    {
     "name": "stderr",
     "output_type": "stream",
     "text": [
      "/home/icb/dominik.klein/mambaforge/envs/ot_pert_genot/lib/python3.12/site-packages/scanpy/preprocessing/_highly_variable_genes.py:226: FutureWarning: The default of observed=False is deprecated and will be changed to True in a future version of pandas. Pass observed=False to retain current behavior or observed=True to adopt the future default and silence this warning.\n",
      "  disp_grouped = df.groupby(\"mean_bin\")[\"dispersions\"]\n"
     ]
    }
   ],
   "source": [
    "sc.pp.highly_variable_genes(adata, inplace=True, n_top_genes=2000)"
   ]
  },
  {
   "cell_type": "code",
   "execution_count": 13,
   "id": "68447018-dd3f-48c3-8759-1ca8014f2ff4",
   "metadata": {},
   "outputs": [],
   "source": [
    "adata = adata[:, adata.var[\"highly_variable\"] == True]"
   ]
  },
  {
   "cell_type": "code",
   "execution_count": 14,
   "id": "6decab35-25c7-41a2-a2ee-a74d9e072775",
   "metadata": {},
   "outputs": [
    {
     "data": {
      "text/plain": [
       "View of AnnData object with n_obs × n_vars = 63378 × 2000\n",
       "    obs: 'sample', 'Size_Factor', 'n.umi', 'RT_well', 'Drug1', 'Drug2', 'Well', 'n_genes', 'n_genes_by_counts', 'total_counts', 'total_counts_mt', 'pct_counts_mt', 'leiden', 'condition', 'pathway1', 'pathway2', 'split', 'control', 'cell_type'\n",
       "    var: 'id', 'n_cells', 'mt', 'n_cells_by_counts', 'mean_counts', 'pct_dropout_by_counts', 'total_counts', 'highly_variable', 'means', 'dispersions', 'dispersions_norm'\n",
       "    uns: 'Drug1_colors', 'Drug2_colors', 'Well_colors', 'condition_colors', 'dendrogram_leiden', 'hvg', 'leiden', 'leiden_colors', 'neighbors', 'pathway1_colors', 'pathway2_colors', 'pathway_colors', 'pca', 'rank_genes_groups', 'split_colors', 'umap', 'log1p'\n",
       "    obsm: 'X_pca', 'X_umap'\n",
       "    varm: 'PCs'\n",
       "    layers: 'counts'\n",
       "    obsp: 'connectivities', 'distances'"
      ]
     },
     "execution_count": 14,
     "metadata": {},
     "output_type": "execute_result"
    }
   ],
   "source": [
    "adata"
   ]
  },
  {
   "cell_type": "code",
   "execution_count": 15,
   "id": "c652f908-c099-4208-b38b-70d2c5c0f816",
   "metadata": {},
   "outputs": [
    {
     "name": "stderr",
     "output_type": "stream",
     "text": [
      "/tmp/ipykernel_3414357/41560897.py:1: ImplicitModificationWarning: Trying to modify attribute `.obs` of view, initializing view as actual.\n",
      "  adata.obs[\"perturbation\"] = adata.obs[\"condition\"]\n"
     ]
    }
   ],
   "source": [
    "adata.obs[\"perturbation\"] = adata.obs[\"condition\"]\n",
    "adata.obs[\"cell_line\"] = adata.obs[\"cell_type\"]"
   ]
  },
  {
   "cell_type": "code",
   "execution_count": 16,
   "id": "d14c9e2a-bc41-4319-b212-d105c1ada1dd",
   "metadata": {},
   "outputs": [
    {
     "data": {
      "text/plain": [
       "set()"
      ]
     },
     "execution_count": 16,
     "metadata": {},
     "output_type": "execute_result"
    }
   ],
   "source": [
    "set(adata.obs[\"Drug1\"].unique()) - set(adata.obs[\"Drug2\"].unique())"
   ]
  },
  {
   "cell_type": "code",
   "execution_count": 17,
   "id": "7e7b6a09-718f-4b0a-8ecd-4bb1e10b33a4",
   "metadata": {},
   "outputs": [],
   "source": [
    "adata_dummy = adata[adata.obs_names.isin(adata.obs.drop_duplicates(subset=[\"Drug2\"]).index)]"
   ]
  },
  {
   "cell_type": "code",
   "execution_count": 18,
   "id": "d6c72d36-2d43-4580-8f2e-e5f981ff4b94",
   "metadata": {},
   "outputs": [
    {
     "data": {
      "text/plain": [
       "['Panobinostat',\n",
       " 'PCI-34051',\n",
       " 'SRT1720',\n",
       " 'SRT3025',\n",
       " 'Dacinostat',\n",
       " 'Sorafenib',\n",
       " 'Cediranib',\n",
       " 'Givinostat',\n",
       " 'Danusertib',\n",
       " 'Dasatinib',\n",
       " 'Tanespimycin',\n",
       " 'Carmofur',\n",
       " 'SRT2104',\n",
       " 'Crizotinib',\n",
       " 'Pirarubicin',\n",
       " 'control',\n",
       " 'Alvespimycin',\n",
       " 'Curcumin']"
      ]
     },
     "execution_count": 18,
     "metadata": {},
     "output_type": "execute_result"
    }
   ],
   "source": [
    "list(adata.obs[\"Drug2\"].unique())"
   ]
  },
  {
   "cell_type": "code",
   "execution_count": 19,
   "id": "68b5f895-0775-425a-b464-dfb2b360a2fb",
   "metadata": {},
   "outputs": [
    {
     "name": "stderr",
     "output_type": "stream",
     "text": [
      "<>:12: SyntaxWarning: invalid escape sequence '\\C'\n",
      "<>:17: SyntaxWarning: invalid escape sequence '\\C'\n",
      "<>:12: SyntaxWarning: invalid escape sequence '\\C'\n",
      "<>:17: SyntaxWarning: invalid escape sequence '\\C'\n",
      "/tmp/ipykernel_3414357/503292394.py:12: SyntaxWarning: invalid escape sequence '\\C'\n",
      "  'Tanespimycin': \"C[C@H]1C[C@@H]([C@@H]([C@H](/C=C(/[C@@H]([C@H](/C=C\\C=C(\\C(=O)NC2=CC(=O)C(=C(C1)C2=O)NCC=C)/C)OC)OC(=O)N)\\C)C)O)OC\",\n",
      "/tmp/ipykernel_3414357/503292394.py:17: SyntaxWarning: invalid escape sequence '\\C'\n",
      "  \"Alvespimycin\": \"C[C@H]1C[C@@H]([C@@H]([C@H](/C=C(/[C@@H]([C@H](/C=C\\C=C(\\C(=O)NC2=CC(=O)C(=C(C1)C2=O)NCCN(C)C)/C)OC)OC(=O)N)\\C)C)O)OC\",\n"
     ]
    }
   ],
   "source": [
    "# taken from pubchem\n",
    "drug_to_smiles = {\n",
    "    \"Panobinostat\": \"CC1=C(C2=CC=CC=C2N1)CCNCC3=CC=C(C=C3)/C=C/C(=O)NO\",\n",
    "    \"PCI-34051\": \"COC1=CC=C(C=C1)CN2C=CC3=C2C=C(C=C3)C(=O)NO\",\n",
    "    \"SRT1720\": \"C1CN(CCN1)CC2=CSC3=NC(=CN23)C4=CC=CC=C4NC(=O)C5=NC6=CC=CC=C6N=C5\",\n",
    "    \"SRT3025\": \"COCCCC1=C(N=C(S1)C2=CC=CC=C2)C(=O)NC3=CC=CC=C3C4=NC5=C(S4)N=CC(=C5)CN6CCCC6\",\n",
    "    \"Dacinostat\": \"C1=CC=C2C(=C1)C(=CN2)CCN(CCO)CC3=CC=C(C=C3)/C=C/C(=O)NO\",\n",
    "    \"Sorafenib\": \"CNC(=O)C1=NC=CC(=C1)OC2=CC=C(C=C2)NC(=O)NC3=CC(=C(C=C3)Cl)C(F)(F)F\",\n",
    "    \"Cediranib\": \"CC1=CC2=C(N1)C=CC(=C2F)OC3=NC=NC4=CC(=C(C=C43)OC)OCCCN5CCCC5\",\n",
    "    \"Givinostat\": \"CCN(CC)CC1=CC2=C(C=C1)C=C(C=C2)COC(=O)NC3=CC=C(C=C3)C(=O)NO\",\n",
    "    \"Danusertib\": \"CN1CCN(CC1)C2=CC=C(C=C2)C(=O)NC3=NNC4=C3CN(C4)C(=O)[C@@H](C5=CC=CC=C5)OC\",\n",
    "    \"Dasatinib\": \"CC1=C(C(=CC=C1)Cl)NC(=O)C2=CN=C(S2)NC3=CC(=NC(=N3)C)N4CCN(CC4)CCO\",\n",
    "    \"Tanespimycin\": r\"C[C@H]1C[C@@H]([C@@H]([C@H](/C=C(/[C@@H]([C@H](/C=C\\C=C(\\C(=O)NC2=CC(=O)C(=C(C1)C2=O)NCC=C)/C)OC)OC(=O)N)\\C)C)O)OC\",\n",
    "    \"Carmofur\": \"CCCCCCNC(=O)N1C=C(C(=O)NC1=O)F\",\n",
    "    \"SRT2104\": \"CC1=C(SC(=N1)C2=CN=CC=C2)C(=O)NC3=CC=CC=C3C4=CN5C(=CSC5=N4)CN6CCOCC6\",\n",
    "    \"Crizotinib\": \"C[C@H](C1=C(C=CC(=C1Cl)F)Cl)OC2=C(N=CC(=C2)C3=CN(N=C3)C4CCNCC4)N\",\n",
    "    \"Pirarubicin\": \"C[C@H]1[C@H]([C@H](C[C@@H](O1)O[C@H]2C[C@@](CC3=C2C(=C4C(=C3O)C(=O)C5=C(C4=O)C(=CC=C5)OC)O)(C(=O)CO)O)N)O[C@@H]6CCCCO6\",\n",
    "    \"Alvespimycin\": r\"C[C@H]1C[C@@H]([C@@H]([C@H](/C=C(/[C@@H]([C@H](/C=C\\C=C(\\C(=O)NC2=CC(=O)C(=C(C1)C2=O)NCCN(C)C)/C)OC)OC(=O)N)\\C)C)O)OC\",\n",
    "    \"Curcumin\": \"COC1=C(C=CC(=C1)/C=C/C(=O)CC(=O)/C=C/C2=CC(=C(C=C2)O)OC)O\",\n",
    "    \"control\": None,\n",
    "}"
   ]
  },
  {
   "cell_type": "code",
   "execution_count": 20,
   "id": "6ed2ec39-645e-4bae-b37f-8a4c6d48aa68",
   "metadata": {},
   "outputs": [],
   "source": [
    "adata.obs[\"smiles_drug_1\"] = adata.obs[\"Drug1\"].map(drug_to_smiles)\n",
    "adata.obs[\"smiles_drug_2\"] = adata.obs[\"Drug2\"].map(drug_to_smiles)"
   ]
  },
  {
   "cell_type": "code",
   "execution_count": 21,
   "id": "1b583441-9223-4122-a829-4999f6c21ef9",
   "metadata": {},
   "outputs": [],
   "source": [
    "from rdkit.Chem import AllChem\n",
    "\n",
    "\n",
    "def get_fp(smiles, radius=4, nBits=1024):\n",
    "    m = Chem.MolFromSmiles(smiles, sanitize=False)\n",
    "    if m is None:\n",
    "        return \"invalid\"\n",
    "    else:\n",
    "        try:\n",
    "            Chem.SanitizeMol(m)\n",
    "        except:\n",
    "            return \"invalid\"\n",
    "    return AllChem.GetHashedMorganFingerprint(m, radius=radius, nBits=nBits)"
   ]
  },
  {
   "cell_type": "code",
   "execution_count": 22,
   "id": "c5fe5f76-92c6-4f8e-b6ea-b43c66e7a8af",
   "metadata": {},
   "outputs": [],
   "source": [
    "drug_to_fp = {}\n",
    "for drug, sm in drug_to_smiles.items():\n",
    "    if not isinstance(sm, str):\n",
    "        continue\n",
    "    drug_to_fp[drug] = np.array(list(get_fp(sm)))"
   ]
  },
  {
   "cell_type": "code",
   "execution_count": 23,
   "id": "57a88eaf-d87f-42dd-99de-2612001f8af5",
   "metadata": {},
   "outputs": [
    {
     "data": {
      "text/plain": [
       "(17, 18)"
      ]
     },
     "execution_count": 23,
     "metadata": {},
     "output_type": "execute_result"
    }
   ],
   "source": [
    "len(drug_to_fp), len(drug_to_smiles)"
   ]
  },
  {
   "cell_type": "code",
   "execution_count": 24,
   "id": "b9ad5093-327f-4b1f-8163-f2f43a5279d2",
   "metadata": {},
   "outputs": [],
   "source": [
    "features_df = pd.DataFrame.from_dict(drug_to_fp).T"
   ]
  },
  {
   "cell_type": "code",
   "execution_count": 25,
   "id": "76bf3595-cb4d-481e-ae23-b00d0dad1602",
   "metadata": {},
   "outputs": [
    {
     "data": {
      "text/html": [
       "<div>\n",
       "<style scoped>\n",
       "    .dataframe tbody tr th:only-of-type {\n",
       "        vertical-align: middle;\n",
       "    }\n",
       "\n",
       "    .dataframe tbody tr th {\n",
       "        vertical-align: top;\n",
       "    }\n",
       "\n",
       "    .dataframe thead th {\n",
       "        text-align: right;\n",
       "    }\n",
       "</style>\n",
       "<table border=\"1\" class=\"dataframe\">\n",
       "  <thead>\n",
       "    <tr style=\"text-align: right;\">\n",
       "      <th></th>\n",
       "      <th>0</th>\n",
       "      <th>1</th>\n",
       "      <th>2</th>\n",
       "      <th>3</th>\n",
       "      <th>4</th>\n",
       "      <th>5</th>\n",
       "      <th>6</th>\n",
       "      <th>7</th>\n",
       "      <th>8</th>\n",
       "      <th>9</th>\n",
       "      <th>...</th>\n",
       "      <th>1014</th>\n",
       "      <th>1015</th>\n",
       "      <th>1016</th>\n",
       "      <th>1017</th>\n",
       "      <th>1018</th>\n",
       "      <th>1019</th>\n",
       "      <th>1020</th>\n",
       "      <th>1021</th>\n",
       "      <th>1022</th>\n",
       "      <th>1023</th>\n",
       "    </tr>\n",
       "  </thead>\n",
       "  <tbody>\n",
       "    <tr>\n",
       "      <th>Panobinostat</th>\n",
       "      <td>0</td>\n",
       "      <td>0</td>\n",
       "      <td>0</td>\n",
       "      <td>0</td>\n",
       "      <td>0</td>\n",
       "      <td>0</td>\n",
       "      <td>0</td>\n",
       "      <td>1</td>\n",
       "      <td>0</td>\n",
       "      <td>0</td>\n",
       "      <td>...</td>\n",
       "      <td>0</td>\n",
       "      <td>0</td>\n",
       "      <td>0</td>\n",
       "      <td>0</td>\n",
       "      <td>0</td>\n",
       "      <td>0</td>\n",
       "      <td>0</td>\n",
       "      <td>0</td>\n",
       "      <td>0</td>\n",
       "      <td>0</td>\n",
       "    </tr>\n",
       "    <tr>\n",
       "      <th>PCI-34051</th>\n",
       "      <td>0</td>\n",
       "      <td>0</td>\n",
       "      <td>0</td>\n",
       "      <td>0</td>\n",
       "      <td>0</td>\n",
       "      <td>0</td>\n",
       "      <td>0</td>\n",
       "      <td>0</td>\n",
       "      <td>0</td>\n",
       "      <td>0</td>\n",
       "      <td>...</td>\n",
       "      <td>1</td>\n",
       "      <td>0</td>\n",
       "      <td>0</td>\n",
       "      <td>0</td>\n",
       "      <td>0</td>\n",
       "      <td>0</td>\n",
       "      <td>0</td>\n",
       "      <td>0</td>\n",
       "      <td>0</td>\n",
       "      <td>0</td>\n",
       "    </tr>\n",
       "    <tr>\n",
       "      <th>SRT1720</th>\n",
       "      <td>0</td>\n",
       "      <td>0</td>\n",
       "      <td>0</td>\n",
       "      <td>0</td>\n",
       "      <td>0</td>\n",
       "      <td>0</td>\n",
       "      <td>0</td>\n",
       "      <td>0</td>\n",
       "      <td>0</td>\n",
       "      <td>0</td>\n",
       "      <td>...</td>\n",
       "      <td>0</td>\n",
       "      <td>0</td>\n",
       "      <td>1</td>\n",
       "      <td>0</td>\n",
       "      <td>1</td>\n",
       "      <td>0</td>\n",
       "      <td>0</td>\n",
       "      <td>0</td>\n",
       "      <td>0</td>\n",
       "      <td>0</td>\n",
       "    </tr>\n",
       "    <tr>\n",
       "      <th>SRT3025</th>\n",
       "      <td>0</td>\n",
       "      <td>0</td>\n",
       "      <td>1</td>\n",
       "      <td>0</td>\n",
       "      <td>2</td>\n",
       "      <td>0</td>\n",
       "      <td>0</td>\n",
       "      <td>0</td>\n",
       "      <td>1</td>\n",
       "      <td>0</td>\n",
       "      <td>...</td>\n",
       "      <td>0</td>\n",
       "      <td>0</td>\n",
       "      <td>0</td>\n",
       "      <td>0</td>\n",
       "      <td>0</td>\n",
       "      <td>0</td>\n",
       "      <td>0</td>\n",
       "      <td>0</td>\n",
       "      <td>0</td>\n",
       "      <td>0</td>\n",
       "    </tr>\n",
       "    <tr>\n",
       "      <th>Dacinostat</th>\n",
       "      <td>0</td>\n",
       "      <td>0</td>\n",
       "      <td>0</td>\n",
       "      <td>0</td>\n",
       "      <td>0</td>\n",
       "      <td>0</td>\n",
       "      <td>0</td>\n",
       "      <td>1</td>\n",
       "      <td>0</td>\n",
       "      <td>0</td>\n",
       "      <td>...</td>\n",
       "      <td>0</td>\n",
       "      <td>0</td>\n",
       "      <td>0</td>\n",
       "      <td>0</td>\n",
       "      <td>0</td>\n",
       "      <td>0</td>\n",
       "      <td>0</td>\n",
       "      <td>0</td>\n",
       "      <td>0</td>\n",
       "      <td>0</td>\n",
       "    </tr>\n",
       "    <tr>\n",
       "      <th>Sorafenib</th>\n",
       "      <td>0</td>\n",
       "      <td>0</td>\n",
       "      <td>0</td>\n",
       "      <td>0</td>\n",
       "      <td>0</td>\n",
       "      <td>0</td>\n",
       "      <td>0</td>\n",
       "      <td>0</td>\n",
       "      <td>0</td>\n",
       "      <td>1</td>\n",
       "      <td>...</td>\n",
       "      <td>1</td>\n",
       "      <td>0</td>\n",
       "      <td>0</td>\n",
       "      <td>0</td>\n",
       "      <td>0</td>\n",
       "      <td>1</td>\n",
       "      <td>0</td>\n",
       "      <td>0</td>\n",
       "      <td>0</td>\n",
       "      <td>0</td>\n",
       "    </tr>\n",
       "    <tr>\n",
       "      <th>Cediranib</th>\n",
       "      <td>0</td>\n",
       "      <td>0</td>\n",
       "      <td>0</td>\n",
       "      <td>0</td>\n",
       "      <td>2</td>\n",
       "      <td>0</td>\n",
       "      <td>0</td>\n",
       "      <td>0</td>\n",
       "      <td>0</td>\n",
       "      <td>0</td>\n",
       "      <td>...</td>\n",
       "      <td>0</td>\n",
       "      <td>0</td>\n",
       "      <td>0</td>\n",
       "      <td>1</td>\n",
       "      <td>1</td>\n",
       "      <td>0</td>\n",
       "      <td>0</td>\n",
       "      <td>0</td>\n",
       "      <td>0</td>\n",
       "      <td>1</td>\n",
       "    </tr>\n",
       "    <tr>\n",
       "      <th>Givinostat</th>\n",
       "      <td>0</td>\n",
       "      <td>0</td>\n",
       "      <td>0</td>\n",
       "      <td>0</td>\n",
       "      <td>0</td>\n",
       "      <td>0</td>\n",
       "      <td>0</td>\n",
       "      <td>0</td>\n",
       "      <td>0</td>\n",
       "      <td>0</td>\n",
       "      <td>...</td>\n",
       "      <td>0</td>\n",
       "      <td>0</td>\n",
       "      <td>0</td>\n",
       "      <td>0</td>\n",
       "      <td>0</td>\n",
       "      <td>0</td>\n",
       "      <td>0</td>\n",
       "      <td>0</td>\n",
       "      <td>0</td>\n",
       "      <td>0</td>\n",
       "    </tr>\n",
       "    <tr>\n",
       "      <th>Danusertib</th>\n",
       "      <td>0</td>\n",
       "      <td>1</td>\n",
       "      <td>0</td>\n",
       "      <td>0</td>\n",
       "      <td>0</td>\n",
       "      <td>0</td>\n",
       "      <td>1</td>\n",
       "      <td>0</td>\n",
       "      <td>0</td>\n",
       "      <td>0</td>\n",
       "      <td>...</td>\n",
       "      <td>0</td>\n",
       "      <td>0</td>\n",
       "      <td>0</td>\n",
       "      <td>0</td>\n",
       "      <td>0</td>\n",
       "      <td>0</td>\n",
       "      <td>0</td>\n",
       "      <td>0</td>\n",
       "      <td>0</td>\n",
       "      <td>0</td>\n",
       "    </tr>\n",
       "    <tr>\n",
       "      <th>Dasatinib</th>\n",
       "      <td>0</td>\n",
       "      <td>0</td>\n",
       "      <td>0</td>\n",
       "      <td>0</td>\n",
       "      <td>1</td>\n",
       "      <td>0</td>\n",
       "      <td>0</td>\n",
       "      <td>0</td>\n",
       "      <td>0</td>\n",
       "      <td>0</td>\n",
       "      <td>...</td>\n",
       "      <td>0</td>\n",
       "      <td>0</td>\n",
       "      <td>0</td>\n",
       "      <td>0</td>\n",
       "      <td>0</td>\n",
       "      <td>0</td>\n",
       "      <td>0</td>\n",
       "      <td>0</td>\n",
       "      <td>0</td>\n",
       "      <td>0</td>\n",
       "    </tr>\n",
       "    <tr>\n",
       "      <th>Tanespimycin</th>\n",
       "      <td>0</td>\n",
       "      <td>0</td>\n",
       "      <td>0</td>\n",
       "      <td>0</td>\n",
       "      <td>0</td>\n",
       "      <td>0</td>\n",
       "      <td>0</td>\n",
       "      <td>1</td>\n",
       "      <td>0</td>\n",
       "      <td>0</td>\n",
       "      <td>...</td>\n",
       "      <td>0</td>\n",
       "      <td>2</td>\n",
       "      <td>0</td>\n",
       "      <td>0</td>\n",
       "      <td>0</td>\n",
       "      <td>6</td>\n",
       "      <td>0</td>\n",
       "      <td>0</td>\n",
       "      <td>0</td>\n",
       "      <td>0</td>\n",
       "    </tr>\n",
       "    <tr>\n",
       "      <th>Carmofur</th>\n",
       "      <td>0</td>\n",
       "      <td>0</td>\n",
       "      <td>0</td>\n",
       "      <td>0</td>\n",
       "      <td>0</td>\n",
       "      <td>0</td>\n",
       "      <td>0</td>\n",
       "      <td>0</td>\n",
       "      <td>0</td>\n",
       "      <td>0</td>\n",
       "      <td>...</td>\n",
       "      <td>0</td>\n",
       "      <td>0</td>\n",
       "      <td>0</td>\n",
       "      <td>1</td>\n",
       "      <td>0</td>\n",
       "      <td>0</td>\n",
       "      <td>0</td>\n",
       "      <td>0</td>\n",
       "      <td>0</td>\n",
       "      <td>0</td>\n",
       "    </tr>\n",
       "    <tr>\n",
       "      <th>SRT2104</th>\n",
       "      <td>0</td>\n",
       "      <td>0</td>\n",
       "      <td>0</td>\n",
       "      <td>0</td>\n",
       "      <td>0</td>\n",
       "      <td>0</td>\n",
       "      <td>0</td>\n",
       "      <td>0</td>\n",
       "      <td>0</td>\n",
       "      <td>0</td>\n",
       "      <td>...</td>\n",
       "      <td>0</td>\n",
       "      <td>0</td>\n",
       "      <td>0</td>\n",
       "      <td>0</td>\n",
       "      <td>0</td>\n",
       "      <td>0</td>\n",
       "      <td>0</td>\n",
       "      <td>0</td>\n",
       "      <td>0</td>\n",
       "      <td>0</td>\n",
       "    </tr>\n",
       "    <tr>\n",
       "      <th>Crizotinib</th>\n",
       "      <td>0</td>\n",
       "      <td>1</td>\n",
       "      <td>0</td>\n",
       "      <td>0</td>\n",
       "      <td>0</td>\n",
       "      <td>0</td>\n",
       "      <td>0</td>\n",
       "      <td>0</td>\n",
       "      <td>0</td>\n",
       "      <td>0</td>\n",
       "      <td>...</td>\n",
       "      <td>0</td>\n",
       "      <td>0</td>\n",
       "      <td>0</td>\n",
       "      <td>0</td>\n",
       "      <td>0</td>\n",
       "      <td>1</td>\n",
       "      <td>0</td>\n",
       "      <td>0</td>\n",
       "      <td>0</td>\n",
       "      <td>0</td>\n",
       "    </tr>\n",
       "    <tr>\n",
       "      <th>Pirarubicin</th>\n",
       "      <td>0</td>\n",
       "      <td>0</td>\n",
       "      <td>0</td>\n",
       "      <td>0</td>\n",
       "      <td>2</td>\n",
       "      <td>0</td>\n",
       "      <td>0</td>\n",
       "      <td>0</td>\n",
       "      <td>0</td>\n",
       "      <td>0</td>\n",
       "      <td>...</td>\n",
       "      <td>0</td>\n",
       "      <td>0</td>\n",
       "      <td>0</td>\n",
       "      <td>1</td>\n",
       "      <td>0</td>\n",
       "      <td>6</td>\n",
       "      <td>0</td>\n",
       "      <td>0</td>\n",
       "      <td>0</td>\n",
       "      <td>0</td>\n",
       "    </tr>\n",
       "    <tr>\n",
       "      <th>Alvespimycin</th>\n",
       "      <td>0</td>\n",
       "      <td>0</td>\n",
       "      <td>0</td>\n",
       "      <td>0</td>\n",
       "      <td>0</td>\n",
       "      <td>0</td>\n",
       "      <td>0</td>\n",
       "      <td>1</td>\n",
       "      <td>0</td>\n",
       "      <td>0</td>\n",
       "      <td>...</td>\n",
       "      <td>0</td>\n",
       "      <td>2</td>\n",
       "      <td>0</td>\n",
       "      <td>0</td>\n",
       "      <td>0</td>\n",
       "      <td>6</td>\n",
       "      <td>0</td>\n",
       "      <td>0</td>\n",
       "      <td>0</td>\n",
       "      <td>0</td>\n",
       "    </tr>\n",
       "    <tr>\n",
       "      <th>Curcumin</th>\n",
       "      <td>0</td>\n",
       "      <td>0</td>\n",
       "      <td>0</td>\n",
       "      <td>0</td>\n",
       "      <td>0</td>\n",
       "      <td>0</td>\n",
       "      <td>0</td>\n",
       "      <td>0</td>\n",
       "      <td>0</td>\n",
       "      <td>0</td>\n",
       "      <td>...</td>\n",
       "      <td>0</td>\n",
       "      <td>0</td>\n",
       "      <td>0</td>\n",
       "      <td>2</td>\n",
       "      <td>0</td>\n",
       "      <td>0</td>\n",
       "      <td>0</td>\n",
       "      <td>0</td>\n",
       "      <td>0</td>\n",
       "      <td>0</td>\n",
       "    </tr>\n",
       "  </tbody>\n",
       "</table>\n",
       "<p>17 rows × 1024 columns</p>\n",
       "</div>"
      ],
      "text/plain": [
       "              0     1     2     3     4     5     6     7     8     9     ...  \\\n",
       "Panobinostat     0     0     0     0     0     0     0     1     0     0  ...   \n",
       "PCI-34051        0     0     0     0     0     0     0     0     0     0  ...   \n",
       "SRT1720          0     0     0     0     0     0     0     0     0     0  ...   \n",
       "SRT3025          0     0     1     0     2     0     0     0     1     0  ...   \n",
       "Dacinostat       0     0     0     0     0     0     0     1     0     0  ...   \n",
       "Sorafenib        0     0     0     0     0     0     0     0     0     1  ...   \n",
       "Cediranib        0     0     0     0     2     0     0     0     0     0  ...   \n",
       "Givinostat       0     0     0     0     0     0     0     0     0     0  ...   \n",
       "Danusertib       0     1     0     0     0     0     1     0     0     0  ...   \n",
       "Dasatinib        0     0     0     0     1     0     0     0     0     0  ...   \n",
       "Tanespimycin     0     0     0     0     0     0     0     1     0     0  ...   \n",
       "Carmofur         0     0     0     0     0     0     0     0     0     0  ...   \n",
       "SRT2104          0     0     0     0     0     0     0     0     0     0  ...   \n",
       "Crizotinib       0     1     0     0     0     0     0     0     0     0  ...   \n",
       "Pirarubicin      0     0     0     0     2     0     0     0     0     0  ...   \n",
       "Alvespimycin     0     0     0     0     0     0     0     1     0     0  ...   \n",
       "Curcumin         0     0     0     0     0     0     0     0     0     0  ...   \n",
       "\n",
       "              1014  1015  1016  1017  1018  1019  1020  1021  1022  1023  \n",
       "Panobinostat     0     0     0     0     0     0     0     0     0     0  \n",
       "PCI-34051        1     0     0     0     0     0     0     0     0     0  \n",
       "SRT1720          0     0     1     0     1     0     0     0     0     0  \n",
       "SRT3025          0     0     0     0     0     0     0     0     0     0  \n",
       "Dacinostat       0     0     0     0     0     0     0     0     0     0  \n",
       "Sorafenib        1     0     0     0     0     1     0     0     0     0  \n",
       "Cediranib        0     0     0     1     1     0     0     0     0     1  \n",
       "Givinostat       0     0     0     0     0     0     0     0     0     0  \n",
       "Danusertib       0     0     0     0     0     0     0     0     0     0  \n",
       "Dasatinib        0     0     0     0     0     0     0     0     0     0  \n",
       "Tanespimycin     0     2     0     0     0     6     0     0     0     0  \n",
       "Carmofur         0     0     0     1     0     0     0     0     0     0  \n",
       "SRT2104          0     0     0     0     0     0     0     0     0     0  \n",
       "Crizotinib       0     0     0     0     0     1     0     0     0     0  \n",
       "Pirarubicin      0     0     0     1     0     6     0     0     0     0  \n",
       "Alvespimycin     0     2     0     0     0     6     0     0     0     0  \n",
       "Curcumin         0     0     0     2     0     0     0     0     0     0  \n",
       "\n",
       "[17 rows x 1024 columns]"
      ]
     },
     "execution_count": 25,
     "metadata": {},
     "output_type": "execute_result"
    }
   ],
   "source": [
    "features_df"
   ]
  },
  {
   "cell_type": "code",
   "execution_count": 26,
   "id": "ea459961-df24-4de0-8f84-496ecdb54dd3",
   "metadata": {},
   "outputs": [],
   "source": [
    "normalized_df = (features_df - features_df.mean()) / (features_df.std() + 1e-8)"
   ]
  },
  {
   "cell_type": "code",
   "execution_count": 27,
   "id": "5aaf11af-ae31-4b15-aac6-1d49991ddd92",
   "metadata": {},
   "outputs": [
    {
     "name": "stdout",
     "output_type": "stream",
     "text": [
      "Panobinostat\n",
      "PCI-34051\n",
      "SRT1720\n",
      "SRT3025\n",
      "Dacinostat\n",
      "Sorafenib\n",
      "Cediranib\n",
      "Givinostat\n",
      "Danusertib\n",
      "Dasatinib\n",
      "Tanespimycin\n",
      "Carmofur\n",
      "SRT2104\n",
      "Crizotinib\n",
      "Pirarubicin\n",
      "Alvespimycin\n",
      "Curcumin\n"
     ]
    }
   ],
   "source": [
    "features_cells_drug_1 = np.zeros((adata.shape[0], normalized_df.shape[1]))\n",
    "features_cells_drug_2 = np.zeros((adata.shape[0], normalized_df.shape[1]))\n",
    "for mol, ecfp in normalized_df.iterrows():\n",
    "    print(mol)\n",
    "    features_cells_drug_1[adata.obs[\"Drug1\"].isin([mol])] = ecfp.values\n",
    "    features_cells_drug_2[adata.obs[\"Drug2\"].isin([mol])] = ecfp.values"
   ]
  },
  {
   "cell_type": "code",
   "execution_count": 28,
   "id": "0d04da7c-d53d-4c19-aa26-8bc479568872",
   "metadata": {},
   "outputs": [],
   "source": [
    "adata.obsm[\"ecfp_drug_1\"] = features_cells_drug_1\n",
    "adata.obsm[\"ecfp_drug_2\"] = features_cells_drug_2"
   ]
  },
  {
   "cell_type": "code",
   "execution_count": 29,
   "id": "8017ddf9-643d-4ab7-8930-5cc3a0825c37",
   "metadata": {},
   "outputs": [],
   "source": [
    "adata_dummy = adata[adata.obs_names.isin(adata.obs.drop_duplicates(subset=[\"Drug2\"]).index)]"
   ]
  },
  {
   "cell_type": "code",
   "execution_count": 30,
   "id": "9841b0c5-12f5-416c-a9f5-bc94a3340785",
   "metadata": {},
   "outputs": [
    {
     "data": {
      "text/plain": [
       "condition\n",
       "Dacinostat+PCI-34051         3298\n",
       "SRT3025+Cediranib            3016\n",
       "Givinostat+Cediranib         2783\n",
       "control+SRT2104              2756\n",
       "Givinostat+Curcumin          2736\n",
       "Givinostat+Sorafenib         2734\n",
       "Givinostat+Carmofur          2692\n",
       "Givinostat+Crizotinib        2662\n",
       "Givinostat+Dasatinib         2421\n",
       "Givinostat+SRT2104           2353\n",
       "control+Dasatinib            2343\n",
       "Givinostat+SRT1720           2260\n",
       "Panobinostat+Curcumin        2244\n",
       "Cediranib+PCI-34051          2161\n",
       "Panobinostat+Sorafenib       2013\n",
       "Panobinostat+SRT2104         1971\n",
       "Panobinostat+Dasatinib       1955\n",
       "Dacinostat+Danusertib        1939\n",
       "Panobinostat+SRT3025         1889\n",
       "control+Dacinostat           1869\n",
       "Panobinostat+SRT1720         1826\n",
       "Panobinostat+PCI-34051       1814\n",
       "control+Givinostat           1682\n",
       "Panobinostat+Crizotinib      1641\n",
       "control+Panobinostat         1578\n",
       "control+control              1451\n",
       "Givinostat+Tanespimycin      1310\n",
       "Dacinostat+Dasatinib         1231\n",
       "Panobinostat+Alvespimycin     996\n",
       "control+Alvespimycin          758\n",
       "SRT2104+Alvespimycin          520\n",
       "Alvespimycin+Pirarubicin      476\n",
       "Name: count, dtype: int64"
      ]
     },
     "execution_count": 30,
     "metadata": {},
     "output_type": "execute_result"
    }
   ],
   "source": [
    "adata.obs[\"condition\"].value_counts()"
   ]
  },
  {
   "cell_type": "code",
   "execution_count": 31,
   "id": "6f7f7f82-be44-4380-8081-9c58858cc163",
   "metadata": {},
   "outputs": [],
   "source": [
    "ood_conditions = [\n",
    "    \"Panobinostat+PCI-34051\",\n",
    "    \"Dacinostat+Danusertib\",\n",
    "    \"Givinostat+SRT1720\",\n",
    "    \"Panobinostat+Curcumin\",\n",
    "    \"SRT2104+Alvespimycin\",\n",
    "]"
   ]
  },
  {
   "cell_type": "code",
   "execution_count": 32,
   "id": "18ee9c40-b892-4239-a3bc-170c9066375a",
   "metadata": {},
   "outputs": [],
   "source": [
    "remaining_conditions = list(set(adata.obs[\"condition\"].unique()) - set(ood_conditions))"
   ]
  },
  {
   "cell_type": "code",
   "execution_count": 33,
   "id": "1f60a943-102b-4e3b-acee-d10fdf6c9cfa",
   "metadata": {},
   "outputs": [
    {
     "data": {
      "text/plain": [
       "['Givinostat+Carmofur',\n",
       " 'control+SRT2104',\n",
       " 'Dacinostat+Dasatinib',\n",
       " 'Cediranib+PCI-34051',\n",
       " 'control+Givinostat',\n",
       " 'control+Dacinostat',\n",
       " 'control+Panobinostat',\n",
       " 'Panobinostat+SRT2104',\n",
       " 'control+Dasatinib',\n",
       " 'Dacinostat+PCI-34051',\n",
       " 'Givinostat+Crizotinib',\n",
       " 'Givinostat+Tanespimycin',\n",
       " 'Givinostat+Cediranib',\n",
       " 'Alvespimycin+Pirarubicin',\n",
       " 'control+control',\n",
       " 'Givinostat+SRT2104',\n",
       " 'Panobinostat+SRT3025',\n",
       " 'control+Alvespimycin',\n",
       " 'SRT3025+Cediranib',\n",
       " 'Givinostat+Dasatinib',\n",
       " 'Panobinostat+Alvespimycin',\n",
       " 'Givinostat+Sorafenib',\n",
       " 'Panobinostat+Crizotinib',\n",
       " 'Panobinostat+SRT1720',\n",
       " 'Panobinostat+Sorafenib',\n",
       " 'Panobinostat+Dasatinib',\n",
       " 'Givinostat+Curcumin']"
      ]
     },
     "execution_count": 33,
     "metadata": {},
     "output_type": "execute_result"
    }
   ],
   "source": [
    "remaining_conditions"
   ]
  },
  {
   "cell_type": "code",
   "execution_count": 34,
   "id": "c0de2376-504a-445b-8290-9b0b2e3fcd67",
   "metadata": {},
   "outputs": [],
   "source": [
    "adata.obs[\"condition\"] = adata.obs.apply(\n",
    "    lambda x: \"control\" if x[\"condition\"] == \"control+control\" else x[\"condition\"], axis=1\n",
    ")"
   ]
  },
  {
   "cell_type": "code",
   "execution_count": 35,
   "id": "a0b61e9c-ab47-488b-bf70-73f807ffab9b",
   "metadata": {},
   "outputs": [],
   "source": [
    "adata.obs[\"perturbation\"] = adata.obs[\"condition\"]"
   ]
  },
  {
   "cell_type": "code",
   "execution_count": 36,
   "id": "93be2cbd-d2dd-4b75-aa72-ec0bac0301c3",
   "metadata": {},
   "outputs": [],
   "source": [
    "adata_train = adata[~adata.obs[\"condition\"].isin(ood_conditions)].copy()\n",
    "adata_ood = adata[adata.obs[\"condition\"].isin(ood_conditions)].copy()"
   ]
  },
  {
   "cell_type": "code",
   "execution_count": 37,
   "id": "69100564-5acf-424d-9051-ecc0572a92d8",
   "metadata": {},
   "outputs": [
    {
     "data": {
      "text/plain": [
       "(54601, 8777)"
      ]
     },
     "execution_count": 37,
     "metadata": {},
     "output_type": "execute_result"
    }
   ],
   "source": [
    "adata_train.n_obs, adata_ood.n_obs"
   ]
  },
  {
   "cell_type": "code",
   "execution_count": 38,
   "id": "cff79ea4-98fd-4131-8ab4-385bb920bc63",
   "metadata": {},
   "outputs": [
    {
     "data": {
      "text/plain": [
       "condition\n",
       "Dacinostat+PCI-34051         3298\n",
       "SRT3025+Cediranib            3016\n",
       "Givinostat+Cediranib         2783\n",
       "control+SRT2104              2756\n",
       "Givinostat+Curcumin          2736\n",
       "Givinostat+Sorafenib         2734\n",
       "Givinostat+Carmofur          2692\n",
       "Givinostat+Crizotinib        2662\n",
       "Givinostat+Dasatinib         2421\n",
       "Givinostat+SRT2104           2353\n",
       "control+Dasatinib            2343\n",
       "Cediranib+PCI-34051          2161\n",
       "Panobinostat+Sorafenib       2013\n",
       "Panobinostat+SRT2104         1971\n",
       "Panobinostat+Dasatinib       1955\n",
       "Panobinostat+SRT3025         1889\n",
       "control+Dacinostat           1869\n",
       "Panobinostat+SRT1720         1826\n",
       "control+Givinostat           1682\n",
       "Panobinostat+Crizotinib      1641\n",
       "control+Panobinostat         1578\n",
       "control                      1451\n",
       "Givinostat+Tanespimycin      1310\n",
       "Dacinostat+Dasatinib         1231\n",
       "Panobinostat+Alvespimycin     996\n",
       "control+Alvespimycin          758\n",
       "Alvespimycin+Pirarubicin      476\n",
       "Name: count, dtype: int64"
      ]
     },
     "execution_count": 38,
     "metadata": {},
     "output_type": "execute_result"
    }
   ],
   "source": [
    "adata_train.obs[\"condition\"].value_counts()"
   ]
  },
  {
   "cell_type": "code",
   "execution_count": 39,
   "id": "b167668b-a4ca-4a5a-bbe7-ad2a1769315a",
   "metadata": {},
   "outputs": [],
   "source": [
    "rng = np.random.default_rng(0)\n",
    "split_dfs = []\n",
    "for drug in adata_train.obs[\"perturbation\"].unique():\n",
    "    adata_subset = adata_train[(adata_train.obs[\"perturbation\"] == drug)]\n",
    "    n_cells = adata_subset.n_obs\n",
    "    if drug == \"control\":\n",
    "        idx_test = rng.choice(np.arange(n_cells), 500, replace=False)\n",
    "        remaining_idcs = set(np.arange(n_cells)) - set(idx_test)\n",
    "        split = [\"test\" if idx in idx_test else \"train\" for idx in range(n_cells)]\n",
    "        df = adata_subset.obs[[\"perturbation\"]].copy()\n",
    "        df[\"split\"] = split\n",
    "        split_dfs.append(df)\n",
    "    elif n_cells > 300:\n",
    "        idx_test = rng.choice(np.arange(n_cells), 100, replace=False)\n",
    "        split = [\"test\" if idx in idx_test else \"train\" for idx in range(n_cells)]\n",
    "        df = adata_subset.obs[[\"perturbation\"]].copy()\n",
    "        df[\"split\"] = split\n",
    "        split_dfs.append(df)"
   ]
  },
  {
   "cell_type": "code",
   "execution_count": 40,
   "id": "2b2b5e2c-6911-4428-bb9b-7e1f37e37f25",
   "metadata": {},
   "outputs": [],
   "source": [
    "df_concat = pd.concat(split_dfs, axis=0)"
   ]
  },
  {
   "cell_type": "code",
   "execution_count": 41,
   "id": "a54ff63d-7e56-46a5-a143-d03cbdf149c2",
   "metadata": {},
   "outputs": [
    {
     "data": {
      "text/plain": [
       "(54601, 54601)"
      ]
     },
     "execution_count": 41,
     "metadata": {},
     "output_type": "execute_result"
    }
   ],
   "source": [
    "len(df_concat), adata_train.n_obs"
   ]
  },
  {
   "cell_type": "code",
   "execution_count": 42,
   "id": "80c2ddb4-a8c0-4694-8544-247f5f21155c",
   "metadata": {},
   "outputs": [
    {
     "data": {
      "text/html": [
       "<div>\n",
       "<style scoped>\n",
       "    .dataframe tbody tr th:only-of-type {\n",
       "        vertical-align: middle;\n",
       "    }\n",
       "\n",
       "    .dataframe tbody tr th {\n",
       "        vertical-align: top;\n",
       "    }\n",
       "\n",
       "    .dataframe thead th {\n",
       "        text-align: right;\n",
       "    }\n",
       "</style>\n",
       "<table border=\"1\" class=\"dataframe\">\n",
       "  <thead>\n",
       "    <tr style=\"text-align: right;\">\n",
       "      <th></th>\n",
       "      <th>perturbation</th>\n",
       "      <th>split</th>\n",
       "    </tr>\n",
       "    <tr>\n",
       "      <th>Cell</th>\n",
       "      <th></th>\n",
       "      <th></th>\n",
       "    </tr>\n",
       "  </thead>\n",
       "  <tbody>\n",
       "    <tr>\n",
       "      <th>A01_A02_RT_BC_58_Lig_BC_75</th>\n",
       "      <td>control</td>\n",
       "      <td>train</td>\n",
       "    </tr>\n",
       "    <tr>\n",
       "      <th>A01_A02_RT_BC_58_Lig_BC_87</th>\n",
       "      <td>control</td>\n",
       "      <td>train</td>\n",
       "    </tr>\n",
       "    <tr>\n",
       "      <th>A01_A02_RT_BC_59_Lig_BC_11</th>\n",
       "      <td>control</td>\n",
       "      <td>test</td>\n",
       "    </tr>\n",
       "    <tr>\n",
       "      <th>A01_A02_RT_BC_59_Lig_BC_15</th>\n",
       "      <td>control</td>\n",
       "      <td>test</td>\n",
       "    </tr>\n",
       "    <tr>\n",
       "      <th>A01_A02_RT_BC_60_Lig_BC_11</th>\n",
       "      <td>control</td>\n",
       "      <td>test</td>\n",
       "    </tr>\n",
       "    <tr>\n",
       "      <th>...</th>\n",
       "      <td>...</td>\n",
       "      <td>...</td>\n",
       "    </tr>\n",
       "    <tr>\n",
       "      <th>H12_A02_RT_BC_60_Lig_BC_53</th>\n",
       "      <td>control</td>\n",
       "      <td>train</td>\n",
       "    </tr>\n",
       "    <tr>\n",
       "      <th>H12_A02_RT_BC_60_Lig_BC_59</th>\n",
       "      <td>control</td>\n",
       "      <td>train</td>\n",
       "    </tr>\n",
       "    <tr>\n",
       "      <th>H12_A02_RT_BC_60_Lig_BC_79</th>\n",
       "      <td>control</td>\n",
       "      <td>train</td>\n",
       "    </tr>\n",
       "    <tr>\n",
       "      <th>H12_A02_RT_BC_60_Lig_BC_84</th>\n",
       "      <td>control</td>\n",
       "      <td>train</td>\n",
       "    </tr>\n",
       "    <tr>\n",
       "      <th>H12_A02_RT_BC_60_Lig_BC_95</th>\n",
       "      <td>control</td>\n",
       "      <td>train</td>\n",
       "    </tr>\n",
       "  </tbody>\n",
       "</table>\n",
       "<p>1451 rows × 2 columns</p>\n",
       "</div>"
      ],
      "text/plain": [
       "                           perturbation  split\n",
       "Cell                                          \n",
       "A01_A02_RT_BC_58_Lig_BC_75      control  train\n",
       "A01_A02_RT_BC_58_Lig_BC_87      control  train\n",
       "A01_A02_RT_BC_59_Lig_BC_11      control   test\n",
       "A01_A02_RT_BC_59_Lig_BC_15      control   test\n",
       "A01_A02_RT_BC_60_Lig_BC_11      control   test\n",
       "...                                 ...    ...\n",
       "H12_A02_RT_BC_60_Lig_BC_53      control  train\n",
       "H12_A02_RT_BC_60_Lig_BC_59      control  train\n",
       "H12_A02_RT_BC_60_Lig_BC_79      control  train\n",
       "H12_A02_RT_BC_60_Lig_BC_84      control  train\n",
       "H12_A02_RT_BC_60_Lig_BC_95      control  train\n",
       "\n",
       "[1451 rows x 2 columns]"
      ]
     },
     "execution_count": 42,
     "metadata": {},
     "output_type": "execute_result"
    }
   ],
   "source": [
    "df_concat[df_concat[\"perturbation\"] == \"control\"]"
   ]
  },
  {
   "cell_type": "code",
   "execution_count": 43,
   "id": "cea2a820-48bf-4db1-8e26-5907878b7e3a",
   "metadata": {},
   "outputs": [
    {
     "data": {
      "text/plain": [
       "perturbation\n",
       "Dacinostat+PCI-34051         3298\n",
       "SRT3025+Cediranib            3016\n",
       "Givinostat+Cediranib         2783\n",
       "control+SRT2104              2756\n",
       "Givinostat+Curcumin          2736\n",
       "Givinostat+Sorafenib         2734\n",
       "Givinostat+Carmofur          2692\n",
       "Givinostat+Crizotinib        2662\n",
       "Givinostat+Dasatinib         2421\n",
       "Givinostat+SRT2104           2353\n",
       "control+Dasatinib            2343\n",
       "Cediranib+PCI-34051          2161\n",
       "Panobinostat+Sorafenib       2013\n",
       "Panobinostat+SRT2104         1971\n",
       "Panobinostat+Dasatinib       1955\n",
       "Panobinostat+SRT3025         1889\n",
       "control+Dacinostat           1869\n",
       "Panobinostat+SRT1720         1826\n",
       "control+Givinostat           1682\n",
       "Panobinostat+Crizotinib      1641\n",
       "control+Panobinostat         1578\n",
       "control                      1451\n",
       "Givinostat+Tanespimycin      1310\n",
       "Dacinostat+Dasatinib         1231\n",
       "Panobinostat+Alvespimycin     996\n",
       "control+Alvespimycin          758\n",
       "Alvespimycin+Pirarubicin      476\n",
       "Name: count, dtype: int64"
      ]
     },
     "execution_count": 43,
     "metadata": {},
     "output_type": "execute_result"
    }
   ],
   "source": [
    "df_concat[\"perturbation\"].value_counts()"
   ]
  },
  {
   "cell_type": "code",
   "execution_count": 44,
   "id": "1b568484-1871-4859-a0e9-a121e241f6c8",
   "metadata": {},
   "outputs": [],
   "source": [
    "adata_train.obs[\"split\"] = df_concat[[\"split\"]]"
   ]
  },
  {
   "cell_type": "code",
   "execution_count": 45,
   "id": "a6e58436-016b-4df1-b263-6d1993314f88",
   "metadata": {},
   "outputs": [
    {
     "data": {
      "text/plain": [
       "View of AnnData object with n_obs × n_vars = 0 × 2000\n",
       "    obs: 'sample', 'Size_Factor', 'n.umi', 'RT_well', 'Drug1', 'Drug2', 'Well', 'n_genes', 'n_genes_by_counts', 'total_counts', 'total_counts_mt', 'pct_counts_mt', 'leiden', 'condition', 'pathway1', 'pathway2', 'split', 'control', 'cell_type', 'perturbation', 'cell_line', 'smiles_drug_1', 'smiles_drug_2'\n",
       "    var: 'id', 'n_cells', 'mt', 'n_cells_by_counts', 'mean_counts', 'pct_dropout_by_counts', 'total_counts', 'highly_variable', 'means', 'dispersions', 'dispersions_norm'\n",
       "    uns: 'Drug1_colors', 'Drug2_colors', 'Well_colors', 'condition_colors', 'dendrogram_leiden', 'hvg', 'leiden', 'leiden_colors', 'neighbors', 'pathway1_colors', 'pathway2_colors', 'pathway_colors', 'pca', 'rank_genes_groups', 'split_colors', 'umap', 'log1p'\n",
       "    obsm: 'X_pca', 'X_umap', 'ecfp_drug_1', 'ecfp_drug_2'\n",
       "    varm: 'PCs'\n",
       "    layers: 'counts'\n",
       "    obsp: 'connectivities', 'distances'"
      ]
     },
     "execution_count": 45,
     "metadata": {},
     "output_type": "execute_result"
    }
   ],
   "source": [
    "adata_ood[adata_ood.obs[\"condition\"] == \"control\"]"
   ]
  },
  {
   "cell_type": "code",
   "execution_count": 46,
   "id": "042db92f-3b87-4b25-971c-c4065758b5f5",
   "metadata": {},
   "outputs": [],
   "source": [
    "import anndata\n",
    "\n",
    "adata_train_final = adata_train[adata_train.obs[\"split\"] == \"train\"]\n",
    "adata_test_final = adata_train[adata_train.obs[\"split\"] == \"test\"]\n",
    "adata_ood_final = anndata.concat((adata_ood, adata_test_final[adata_test_final.obs[\"perturbation\"] == \"control\"]))"
   ]
  },
  {
   "cell_type": "code",
   "execution_count": 47,
   "id": "91f780b1-49b2-46f5-b318-c76e3528814c",
   "metadata": {},
   "outputs": [
    {
     "data": {
      "text/plain": [
       "perturbation\n",
       "Dacinostat+PCI-34051         3198\n",
       "SRT3025+Cediranib            2916\n",
       "Givinostat+Cediranib         2683\n",
       "control+SRT2104              2656\n",
       "Givinostat+Curcumin          2636\n",
       "Givinostat+Sorafenib         2634\n",
       "Givinostat+Carmofur          2592\n",
       "Givinostat+Crizotinib        2562\n",
       "Givinostat+Dasatinib         2321\n",
       "Givinostat+SRT2104           2253\n",
       "control+Dasatinib            2243\n",
       "Cediranib+PCI-34051          2061\n",
       "Panobinostat+Sorafenib       1913\n",
       "Panobinostat+SRT2104         1871\n",
       "Panobinostat+Dasatinib       1855\n",
       "Panobinostat+SRT3025         1789\n",
       "control+Dacinostat           1769\n",
       "Panobinostat+SRT1720         1726\n",
       "control+Givinostat           1582\n",
       "Panobinostat+Crizotinib      1541\n",
       "control+Panobinostat         1478\n",
       "Givinostat+Tanespimycin      1210\n",
       "Dacinostat+Dasatinib         1131\n",
       "control                       951\n",
       "Panobinostat+Alvespimycin     896\n",
       "control+Alvespimycin          658\n",
       "Alvespimycin+Pirarubicin      376\n",
       "Name: count, dtype: int64"
      ]
     },
     "execution_count": 47,
     "metadata": {},
     "output_type": "execute_result"
    }
   ],
   "source": [
    "adata_train_final.obs[\"perturbation\"].value_counts()"
   ]
  },
  {
   "cell_type": "code",
   "execution_count": 48,
   "id": "3faba18e-2782-4e8f-ae37-a4de095208bd",
   "metadata": {},
   "outputs": [
    {
     "data": {
      "text/plain": [
       "perturbation\n",
       "Givinostat+SRT1720        2260\n",
       "Panobinostat+Curcumin     2244\n",
       "Dacinostat+Danusertib     1939\n",
       "Panobinostat+PCI-34051    1814\n",
       "SRT2104+Alvespimycin       520\n",
       "control                    500\n",
       "Name: count, dtype: int64"
      ]
     },
     "execution_count": 48,
     "metadata": {},
     "output_type": "execute_result"
    }
   ],
   "source": [
    "adata_ood_final.obs[\"perturbation\"].value_counts()"
   ]
  },
  {
   "cell_type": "code",
   "execution_count": 49,
   "id": "235682ae-8c6f-4ec0-86ab-b59c8861e1ce",
   "metadata": {},
   "outputs": [
    {
     "data": {
      "text/plain": [
       "perturbation\n",
       "control                      500\n",
       "control+Panobinostat         100\n",
       "Givinostat+Curcumin          100\n",
       "Givinostat+Dasatinib         100\n",
       "Panobinostat+SRT1720         100\n",
       "Panobinostat+SRT3025         100\n",
       "Dacinostat+Dasatinib         100\n",
       "control+Dasatinib            100\n",
       "Panobinostat+Alvespimycin    100\n",
       "Panobinostat+SRT2104         100\n",
       "control+Givinostat           100\n",
       "control+Dacinostat           100\n",
       "Cediranib+PCI-34051          100\n",
       "Givinostat+Crizotinib        100\n",
       "control+SRT2104              100\n",
       "Dacinostat+PCI-34051         100\n",
       "control+Alvespimycin         100\n",
       "Givinostat+Sorafenib         100\n",
       "Givinostat+SRT2104           100\n",
       "Alvespimycin+Pirarubicin     100\n",
       "Panobinostat+Crizotinib      100\n",
       "Givinostat+Carmofur          100\n",
       "Givinostat+Tanespimycin      100\n",
       "Panobinostat+Dasatinib       100\n",
       "Givinostat+Cediranib         100\n",
       "Panobinostat+Sorafenib       100\n",
       "SRT3025+Cediranib            100\n",
       "Name: count, dtype: int64"
      ]
     },
     "execution_count": 49,
     "metadata": {},
     "output_type": "execute_result"
    }
   ],
   "source": [
    "adata_test_final.obs[\"perturbation\"].value_counts()"
   ]
  },
  {
   "cell_type": "code",
   "execution_count": 50,
   "id": "a99e17b8-95fc-4d34-b542-009dc21ad5fe",
   "metadata": {},
   "outputs": [
    {
     "name": "stderr",
     "output_type": "stream",
     "text": [
      "/tmp/ipykernel_3414357/2775379558.py:1: ImplicitModificationWarning: Setting element `.varm['X_train_mean']` of view, initializing view as actual.\n",
      "  adata_train_final.varm[\"X_train_mean\"] = adata_train_final.X.mean(axis=0).T\n"
     ]
    }
   ],
   "source": [
    "adata_train_final.varm[\"X_train_mean\"] = adata_train_final.X.mean(axis=0).T"
   ]
  },
  {
   "cell_type": "code",
   "execution_count": 51,
   "id": "5bb1e717-e83d-4389-b512-68f51b65ee1e",
   "metadata": {},
   "outputs": [],
   "source": [
    "from scipy.sparse import csr_matrix, vstack\n",
    "\n",
    "mean = csr_matrix(adata_train_final.varm[\"X_train_mean\"].T)\n",
    "adata_train_final.X = adata_train_final.X - vstack([mean] * len(adata_train_final))"
   ]
  },
  {
   "cell_type": "code",
   "execution_count": 52,
   "id": "23b3ac3d-3996-4b9b-aa5d-89b68936a62d",
   "metadata": {},
   "outputs": [],
   "source": [
    "sc.pp.pca(adata_train_final, n_comps=30)"
   ]
  },
  {
   "cell_type": "code",
   "execution_count": 53,
   "id": "159b1dfc-049b-41c6-a140-dc3b09953664",
   "metadata": {},
   "outputs": [
    {
     "name": "stderr",
     "output_type": "stream",
     "text": [
      "/tmp/ipykernel_3414357/3355210628.py:2: ImplicitModificationWarning: Setting element `.varm['X_train_mean']` of view, initializing view as actual.\n",
      "  adata_test_final.varm[\"X_train_mean\"] = adata_train_final.varm[\"X_train_mean\"]\n"
     ]
    }
   ],
   "source": [
    "adata_ood_final.varm[\"X_train_mean\"] = adata_train_final.varm[\"X_train_mean\"]\n",
    "adata_test_final.varm[\"X_train_mean\"] = adata_train_final.varm[\"X_train_mean\"]"
   ]
  },
  {
   "cell_type": "code",
   "execution_count": 54,
   "id": "56772032-cd54-47ae-805b-fce26c43f2a8",
   "metadata": {},
   "outputs": [],
   "source": [
    "adata_ood_final.X = adata_ood_final.X - vstack([mean] * len(adata_ood_final))\n",
    "adata_test_final.X = adata_test_final.X - vstack([mean] * len(adata_test_final))"
   ]
  },
  {
   "cell_type": "code",
   "execution_count": 55,
   "id": "8534bb85-228c-4302-a348-1e6eccdc9c4b",
   "metadata": {},
   "outputs": [],
   "source": [
    "adata_ood_final.obsm[\"X_pca\"] = np.matmul(adata_ood_final.X.A, adata_train_final.varm[\"PCs\"])\n",
    "adata_test_final.obsm[\"X_pca\"] = np.matmul(adata_test_final.X.A, adata_train_final.varm[\"PCs\"])"
   ]
  },
  {
   "cell_type": "code",
   "execution_count": 56,
   "id": "dad3a8e9-2300-44e5-be95-d0f14e7369c3",
   "metadata": {},
   "outputs": [],
   "source": [
    "adata_train_final.varm[\"X_train_mean\"] = np.asarray(adata_train_final.varm[\"X_train_mean\"])\n",
    "adata_ood_final.varm[\"X_train_mean\"] = np.asarray(adata_ood_final.varm[\"X_train_mean\"])\n",
    "adata_test_final.varm[\"X_train_mean\"] = np.asarray(adata_test_final.varm[\"X_train_mean\"])"
   ]
  },
  {
   "cell_type": "code",
   "execution_count": 57,
   "id": "dcf6080b-1fd3-4ef0-bda5-95846688561f",
   "metadata": {},
   "outputs": [],
   "source": [
    "adata_train_final.obs[\"condition\"] = adata_train_final.obs[\"perturbation\"]\n",
    "adata_ood_final.obs[\"condition\"] = adata_ood_final.obs[\"perturbation\"]\n",
    "adata_test_final.obs[\"condition\"] = adata_test_final.obs[\"perturbation\"]"
   ]
  },
  {
   "cell_type": "code",
   "execution_count": 58,
   "id": "4ce099a5-d268-4fdb-b1a6-d4f581687f7c",
   "metadata": {},
   "outputs": [],
   "source": [
    "import os\n",
    "\n",
    "adata_train_final.write(os.path.join(output_dir, \"adata_train.h5ad\"))\n",
    "adata_ood_final.write(os.path.join(output_dir, \"adata_ood.h5ad\"))\n",
    "adata_test_final.write(os.path.join(output_dir, \"adata_test.h5ad\"))"
   ]
  },
  {
   "cell_type": "code",
   "execution_count": 59,
   "id": "f70ccc1e-4a23-4c12-94c7-6090ff6a781c",
   "metadata": {},
   "outputs": [
    {
     "data": {
      "text/plain": [
       "(9277, 30)"
      ]
     },
     "execution_count": 59,
     "metadata": {},
     "output_type": "execute_result"
    }
   ],
   "source": [
    "adata_ood_final.obsm[\"X_pca\"].shape"
   ]
  },
  {
   "cell_type": "code",
   "execution_count": 60,
   "id": "7ca19ebd-8939-48e6-bfb4-98256e8e78a2",
   "metadata": {},
   "outputs": [
    {
     "data": {
      "text/plain": [
       "(51501, 30)"
      ]
     },
     "execution_count": 60,
     "metadata": {},
     "output_type": "execute_result"
    }
   ],
   "source": [
    "adata_train_final.obsm[\"X_pca\"].shape"
   ]
  },
  {
   "cell_type": "code",
   "execution_count": 61,
   "id": "1a54637e-9ff6-4034-a4e3-5f6d9a303a2b",
   "metadata": {},
   "outputs": [
    {
     "data": {
      "text/plain": [
       "(3100, 30)"
      ]
     },
     "execution_count": 61,
     "metadata": {},
     "output_type": "execute_result"
    }
   ],
   "source": [
    "adata_test_final.obsm[\"X_pca\"].shape"
   ]
  },
  {
   "cell_type": "code",
   "execution_count": null,
   "id": "fc2e572c-29e1-4c66-bde4-4e01a3a5959a",
   "metadata": {},
   "outputs": [],
   "source": [
    "/lustre/groups/ml01/workspace/ot_perturbation/data/combosciplex/adata_ood.h5ad"
   ]
  },
  {
   "cell_type": "code",
   "execution_count": 64,
   "id": "452a3cc3-978d-4796-871c-6942f08b2570",
   "metadata": {},
   "outputs": [
    {
     "data": {
      "text/plain": [
       "True"
      ]
     },
     "execution_count": 64,
     "metadata": {},
     "output_type": "execute_result"
    }
   ],
   "source": [
    "os.path.join(\n",
    "    output_dir, \"adata_ood.h5ad\"\n",
    ") == \"/lustre/groups/ml01/workspace/ot_perturbation/data/combosciplex/adata_ood.h5ad\""
   ]
  },
  {
   "cell_type": "code",
   "execution_count": 65,
   "id": "f6905cc1-1da0-4af4-a0cc-a60075b0803e",
   "metadata": {},
   "outputs": [
    {
     "name": "stderr",
     "output_type": "stream",
     "text": [
      "/home/icb/dominik.klein/mambaforge/envs/ot_pert_genot/lib/python3.12/site-packages/anndata/__init__.py:51: FutureWarning: `anndata.read` is deprecated, use `anndata.read_h5ad` instead. `ad.read` will be removed in mid 2024.\n",
      "  warnings.warn(\n"
     ]
    }
   ],
   "source": [
    "bdata = sc.read(os.path.join(output_dir, \"adata_ood.h5ad\"))"
   ]
  },
  {
   "cell_type": "code",
   "execution_count": 66,
   "id": "dc289dd6-178f-45c9-99e8-ab8d5673e35d",
   "metadata": {},
   "outputs": [
    {
     "data": {
      "text/plain": [
       "AnnData object with n_obs × n_vars = 9277 × 2000\n",
       "    obs: 'sample', 'Size_Factor', 'n.umi', 'RT_well', 'Drug1', 'Drug2', 'Well', 'n_genes', 'n_genes_by_counts', 'total_counts', 'total_counts_mt', 'pct_counts_mt', 'leiden', 'condition', 'pathway1', 'pathway2', 'split', 'control', 'cell_type', 'perturbation', 'cell_line', 'smiles_drug_1', 'smiles_drug_2'\n",
       "    obsm: 'X_pca', 'X_umap', 'ecfp_drug_1', 'ecfp_drug_2'\n",
       "    varm: 'X_train_mean'\n",
       "    layers: 'counts'"
      ]
     },
     "execution_count": 66,
     "metadata": {},
     "output_type": "execute_result"
    }
   ],
   "source": [
    "bdata"
   ]
  },
  {
   "cell_type": "code",
   "execution_count": null,
   "id": "dab8359e-3e2e-483c-9197-ffa0d33c0a50",
   "metadata": {},
   "outputs": [],
   "source": []
  }
 ],
 "metadata": {
  "kernelspec": {
   "display_name": "ot_pert_genot",
   "language": "python",
   "name": "ot_pert_genot"
  },
  "language_info": {
   "codemirror_mode": {
    "name": "ipython",
    "version": 3
   },
   "file_extension": ".py",
   "mimetype": "text/x-python",
   "name": "python",
   "nbconvert_exporter": "python",
   "pygments_lexer": "ipython3",
   "version": "3.12.2"
  }
 },
 "nbformat": 4,
 "nbformat_minor": 5
}
