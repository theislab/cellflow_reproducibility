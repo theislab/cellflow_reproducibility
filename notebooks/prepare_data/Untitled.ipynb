{
 "cells": [
  {
   "cell_type": "code",
   "execution_count": 1,
   "id": "ec68d42a-3c94-45e6-9c8f-8f38415a2af7",
   "metadata": {},
   "outputs": [
    {
     "name": "stderr",
     "output_type": "stream",
     "text": [
      "2024-04-08 17:44:09.692457: W external/xla/xla/service/gpu/nvptx_compiler.cc:718] The NVIDIA driver's CUDA version is 12.3 which is older than the ptxas CUDA version (12.4.131). Because the driver is older than the ptxas version, XLA is disabling parallel compilation, which may slow down compilation. You should update your NVIDIA driver or use the NVIDIA-provided CUDA forward compatibility packages.\n"
     ]
    }
   ],
   "source": [
    "import pickle\n",
    "\n",
    "import jax.numpy as jnp\n",
    "import numpy as np\n",
    "import optax\n",
    "import pandas as pd\n",
    "from icot.data.dataloader import ConditionalLoader, PrecomputedCouplingDataset\n",
    "from icot.models.models import ICOTClassifier\n",
    "from icot.nets.nets import AttentionClassifier\n",
    "from torch.utils.data import DataLoader\n",
    "from tqdm import tqdm"
   ]
  },
  {
   "cell_type": "code",
   "execution_count": 2,
   "id": "affbbb91-2643-48cf-8f74-555a4cf325d3",
   "metadata": {},
   "outputs": [],
   "source": [
    "cfg = {\"model\": {\"plan_size\": [\"all\", \"all\"], \"min_seq_length\": 10, \"max_seq_length\": 200, \"batch_size\": 15}}"
   ]
  },
  {
   "cell_type": "code",
   "execution_count": 3,
   "id": "36e214fa-52c3-4225-8e4c-220906d25273",
   "metadata": {},
   "outputs": [
    {
     "data": {
      "text/plain": [
       "{'model': {'plan_size': ['all', 'all'],\n",
       "  'min_seq_length': 10,\n",
       "  'max_seq_length': 200,\n",
       "  'batch_size': 15}}"
      ]
     },
     "execution_count": 3,
     "metadata": {},
     "output_type": "execute_result"
    }
   ],
   "source": [
    "cfg"
   ]
  },
  {
   "cell_type": "code",
   "execution_count": 21,
   "id": "41d0a203-66f6-4e7b-aa28-58f7a2242e40",
   "metadata": {},
   "outputs": [],
   "source": [
    "import os\n",
    "\n",
    "data_dir = \"/lustre/groups/ml01/workspace/icot/sciplex/data/\"\n",
    "dataloaders = []\n",
    "FILE_PREFIX = f\"{0.01}_PLAN_SIZE_{\"all\"}_{\"all\"}_\"\n",
    "plan_it = 0\n",
    "drugs = pd.read_csv(\"/lustre/groups/ml01/workspace/icot/sciplex/drugs_kept.csv\")[\"perturbation\"]\n",
    "for i, drug in enumerate(drugs):\n",
    "    file_prefix = f\"{FILE_PREFIX}_{drug}_{plan_it}_\"\n",
    "    src = np.load(os.path.join(data_dir, file_prefix + \"source.npy\"))\n",
    "    tgt = np.load(os.path.join(data_dir, file_prefix + \"target.npy\"))\n",
    "    plan = np.load(os.path.join(data_dir, file_prefix + \"plan.npy\"))\n",
    "    ds = PrecomputedCouplingDataset(i, [(src, tgt, plan)], 199, 200)\n",
    "    dl = DataLoader(ds, batch_size=20, shuffle=True)\n",
    "    dataloaders.append(dl)"
   ]
  },
  {
   "cell_type": "code",
   "execution_count": 22,
   "id": "d4d17719-5d48-4114-b5db-ea46468c9a87",
   "metadata": {},
   "outputs": [],
   "source": [
    "cl = ConditionalLoader(dataloaders, seed=13)"
   ]
  },
  {
   "cell_type": "code",
   "execution_count": 38,
   "id": "10c9f1f2-933c-4f71-ae37-ec4335815ab8",
   "metadata": {},
   "outputs": [],
   "source": [
    "TEST_FILE = os.path.join(data_dir, f\"{FILE_PREFIX}_test_set.pkl\")\n",
    "with open(TEST_FILE, \"rb\") as f:\n",
    "    loaded_dict = pickle.load(f)"
   ]
  },
  {
   "cell_type": "code",
   "execution_count": 76,
   "id": "8b6bbaa9-8eea-4183-88ce-ef1c26b65cd0",
   "metadata": {},
   "outputs": [
    {
     "data": {
      "text/plain": [
       "'0.01_PLAN_SIZE_all_all_'"
      ]
     },
     "execution_count": 76,
     "metadata": {},
     "output_type": "execute_result"
    }
   ],
   "source": [
    "FILE_PREFIX"
   ]
  },
  {
   "cell_type": "code",
   "execution_count": 40,
   "id": "576f56bd-c7c4-42fb-b108-799b3bac8ea1",
   "metadata": {},
   "outputs": [
    {
     "data": {
      "text/plain": [
       "177"
      ]
     },
     "execution_count": 40,
     "metadata": {},
     "output_type": "execute_result"
    }
   ],
   "source": [
    "len(loaded_dict)"
   ]
  },
  {
   "cell_type": "code",
   "execution_count": 23,
   "id": "1122fcf7-2dbf-42b1-9a9a-c640ecbb753e",
   "metadata": {},
   "outputs": [],
   "source": [
    "data_dim = src.shape[1] + tgt.shape[1]\n",
    "num_classes = len(drugs)\n",
    "opt = optax.MultiSteps(optax.adamw(1e-4), 5)\n",
    "\n",
    "net = AttentionClassifier(num_heads=4, qkv_feature_dim=data_dim, output_dim=num_classes, hidden_dims=[512, 512])\n",
    "model = ICOTClassifier(net=net, num_classes=num_classes, max_seq_length=200, data_dim=data_dim, optimizer=opt)\n",
    "\n",
    "training_loss = []\n",
    "training_accuracy = []\n",
    "curr_loss = []\n",
    "curr_acc = []\n",
    "n_iters = 10000\n",
    "valid_freq = 20000"
   ]
  },
  {
   "cell_type": "code",
   "execution_count": 24,
   "id": "fa5251a5-5126-461d-85d4-8bb4cd6615e3",
   "metadata": {},
   "outputs": [],
   "source": [
    "from typing import List\n",
    "\n",
    "\n",
    "def pad_dataset(dataset: List[jnp.ndarray], lengths: List[jnp.ndarray], max_seq_length: int, pad_token=0):\n",
    "    padded_dataset = []\n",
    "    attention_mask = []\n",
    "    for data, length in zip(dataset, lengths):\n",
    "        pad_length = max_seq_length - length\n",
    "        padded_data = jnp.pad(data, ((0, pad_length), (0, 0)), constant_values=pad_token)\n",
    "        padded_data = padded_data[:max_seq_length]\n",
    "        padded_dataset.append(padded_data)\n",
    "        mask = jnp.array([1] * int(length) + [0] * int(pad_length))  # 1 no pad, 0 pad\n",
    "        mask = jnp.outer(mask, mask)\n",
    "        attention_mask.append(mask)\n",
    "    return jnp.array(padded_dataset), jnp.array(attention_mask)"
   ]
  },
  {
   "cell_type": "code",
   "execution_count": 25,
   "id": "0fed524f-a4f2-4e65-8c59-42d19d151722",
   "metadata": {},
   "outputs": [
    {
     "name": "stderr",
     "output_type": "stream",
     "text": [
      "100%|██████████| 10000/10000 [07:20<00:00, 22.71it/s]\n"
     ]
    }
   ],
   "source": [
    "for it in tqdm(range(n_iters)):\n",
    "    batch = next(cl)\n",
    "    seq_lengths = [int(batch[1][ix][0]) for ix in range(len(batch[1]))]\n",
    "    padded_dataset, attention_masks = pad_dataset(\n",
    "        jnp.asarray(batch[0]), seq_lengths, max_seq_length=model.max_seq_length\n",
    "    )\n",
    "\n",
    "    batch_it = dict()\n",
    "    batch_it[\"padded_data\"] = jnp.array(padded_dataset)\n",
    "    batch_it[\"labels\"] = jnp.array(batch[2])\n",
    "    batch_it[\"masks\"] = jnp.asarray(attention_masks)\n",
    "\n",
    "    model.net_state, train_metrics = model.step_fn(model.net_state, batch_it)\n",
    "\n",
    "    if it == 0:\n",
    "        continue\n",
    "    elif it % valid_freq == 0:\n",
    "        mean_loss = np.mean(curr_loss)\n",
    "        mean_acc = np.mean(curr_acc)\n",
    "        training_loss.append(mean_loss)\n",
    "        training_accuracy.append(mean_acc)\n",
    "        curr_loss = []\n",
    "        curr_acc = []\n",
    "\n",
    "        valid_accs = []\n",
    "        valid_losses = []\n",
    "        valid_accs_seq_length_min = []\n",
    "        valid_accs_seq_length_max = []\n",
    "        for drug in drugs:\n",
    "            for seq_length in range(SEQUENCE_LENGTHS_TEST_MIN, SEQUENCE_LENGTHS_TEST_MAX + 1, STEP_SEQ_LENGTH):\n",
    "                valid_batch = test_set[drug][seq_length]\n",
    "                seq_lengths = [seq_length] * len(valid_batch)\n",
    "                padded_dataset, attention_masks = pad_dataset(\n",
    "                    jnp.asarray(valid_batch), seq_lengths, max_seq_length=model.max_seq_length\n",
    "                )\n",
    "\n",
    "                batch_it = dict()\n",
    "                batch_it[\"padded_data\"] = jnp.array(padded_dataset)\n",
    "                batch_it[\"labels\"] = jnp.array(valid_batch[2])\n",
    "                batch_it[\"masks\"] = jnp.asarray(attention_masks)\n",
    "                _, valid_metrics = model.valid_step_fn(model.net_state, batch_it)\n",
    "                valid_accs.append(valid_metrics[\"valid_acc\"])\n",
    "                valid_losses.append(valid_metrics[\"valid_loss\"])\n",
    "\n",
    "                if seq_length == cfg.test_set.SEQUENCE_LENGTHS_TEST_MIN:\n",
    "                    valid_accs_seq_length_min.append(valid_metrics[\"valid_acc\"])\n",
    "                if seq_length == cfg.test_set.SEQUENCE_LENGTHS_TEST_MAX:\n",
    "                    valid_accs_seq_length_max.append(valid_metrics[\"valid_acc\"])\n",
    "\n",
    "        mean_valid_acc = np.mean(np.array(valid_accs))\n",
    "        mean_valid_loss = np.mean(np.array(valid_losses))\n",
    "        mean_valid_acc_min_seq = np.mean(np.array(valid_accs_seq_length_min))\n",
    "        mean_valid_acc_max_seq = np.mean(np.array(valid_accs_seq_length_max))\n",
    "        # wandb.log({\"train_acc\": mean_acc,\n",
    "        #           \"train_loss\": mean_loss,\n",
    "        #           \"valid_acc\": mean_valid_acc,\n",
    "        #           \"valid_loss\": mean_valid_loss,\n",
    "        #           \"valid_acc_min_seq\": mean_valid_acc_min_seq,\n",
    "        #           \"valid_acc_max_seq\": mean_valid_acc_max_seq})\n",
    "    else:\n",
    "        curr_loss.append(train_metrics[\"loss\"])\n",
    "        curr_acc.append(train_metrics[\"accuracy\"])"
   ]
  },
  {
   "cell_type": "code",
   "execution_count": 43,
   "id": "71d884af-c36a-4830-bf26-5f3ae92e2aca",
   "metadata": {},
   "outputs": [],
   "source": [
    "test_set = loaded_dict"
   ]
  },
  {
   "cell_type": "code",
   "execution_count": 46,
   "id": "71b84730-3afc-447c-a509-a566589e05e9",
   "metadata": {},
   "outputs": [
    {
     "data": {
      "text/plain": [
       "(10, 50, 2000)"
      ]
     },
     "execution_count": 46,
     "metadata": {},
     "output_type": "execute_result"
    }
   ],
   "source": [
    "valid_batch.shape"
   ]
  },
  {
   "cell_type": "code",
   "execution_count": 47,
   "id": "933fc57e-2056-4386-aff5-7e028d8f21bb",
   "metadata": {},
   "outputs": [
    {
     "data": {
      "text/plain": [
       "[50, 50, 50, 50, 50, 50, 50, 50, 50, 50]"
      ]
     },
     "execution_count": 47,
     "metadata": {},
     "output_type": "execute_result"
    }
   ],
   "source": [
    "seq_lengths"
   ]
  },
  {
   "cell_type": "code",
   "execution_count": 48,
   "id": "b2e4f2bf-5697-42da-8de2-8c64b37aee7f",
   "metadata": {},
   "outputs": [
    {
     "data": {
      "text/plain": [
       "(10, 200, 2000)"
      ]
     },
     "execution_count": 48,
     "metadata": {},
     "output_type": "execute_result"
    }
   ],
   "source": [
    "padded_dataset.shape"
   ]
  },
  {
   "cell_type": "code",
   "execution_count": 64,
   "id": "f7c8282e-eab8-4ed6-b18b-49e9246b076f",
   "metadata": {},
   "outputs": [],
   "source": [
    "df_drugs = pd.read_csv(\"/lustre/groups/ml01/workspace/icot/sciplex/drugs_kept.csv\")"
   ]
  },
  {
   "cell_type": "code",
   "execution_count": 59,
   "id": "c3405e3a-15ae-434f-82bf-77e5aef6b0bf",
   "metadata": {},
   "outputs": [
    {
     "data": {
      "text/html": [
       "<div>\n",
       "<style scoped>\n",
       "    .dataframe tbody tr th:only-of-type {\n",
       "        vertical-align: middle;\n",
       "    }\n",
       "\n",
       "    .dataframe tbody tr th {\n",
       "        vertical-align: top;\n",
       "    }\n",
       "\n",
       "    .dataframe thead th {\n",
       "        text-align: right;\n",
       "    }\n",
       "</style>\n",
       "<table border=\"1\" class=\"dataframe\">\n",
       "  <thead>\n",
       "    <tr style=\"text-align: right;\">\n",
       "      <th></th>\n",
       "      <th>perturbation</th>\n",
       "    </tr>\n",
       "  </thead>\n",
       "  <tbody>\n",
       "    <tr>\n",
       "      <th>1</th>\n",
       "      <td>S3I-201</td>\n",
       "    </tr>\n",
       "    <tr>\n",
       "      <th>2</th>\n",
       "      <td>Aminoglutethimide</td>\n",
       "    </tr>\n",
       "    <tr>\n",
       "      <th>3</th>\n",
       "      <td>Busulfan</td>\n",
       "    </tr>\n",
       "    <tr>\n",
       "      <th>4</th>\n",
       "      <td>Thiotepa</td>\n",
       "    </tr>\n",
       "    <tr>\n",
       "      <th>5</th>\n",
       "      <td>Capecitabine</td>\n",
       "    </tr>\n",
       "    <tr>\n",
       "      <th>...</th>\n",
       "      <td>...</td>\n",
       "    </tr>\n",
       "    <tr>\n",
       "      <th>173</th>\n",
       "      <td>AT9283</td>\n",
       "    </tr>\n",
       "    <tr>\n",
       "      <th>174</th>\n",
       "      <td>Danusertib(PHA-739358)</td>\n",
       "    </tr>\n",
       "    <tr>\n",
       "      <th>175</th>\n",
       "      <td>Abexinostat(PCI-24781)</td>\n",
       "    </tr>\n",
       "    <tr>\n",
       "      <th>176</th>\n",
       "      <td>Tozasertib(VX-680,MK-0457)</td>\n",
       "    </tr>\n",
       "    <tr>\n",
       "      <th>177</th>\n",
       "      <td>YM155(SepantroniumBromide)</td>\n",
       "    </tr>\n",
       "  </tbody>\n",
       "</table>\n",
       "<p>177 rows × 1 columns</p>\n",
       "</div>"
      ],
      "text/plain": [
       "                   perturbation\n",
       "1                       S3I-201\n",
       "2             Aminoglutethimide\n",
       "3                      Busulfan\n",
       "4                      Thiotepa\n",
       "5                  Capecitabine\n",
       "..                          ...\n",
       "173                      AT9283\n",
       "174      Danusertib(PHA-739358)\n",
       "175      Abexinostat(PCI-24781)\n",
       "176  Tozasertib(VX-680,MK-0457)\n",
       "177  YM155(SepantroniumBromide)\n",
       "\n",
       "[177 rows x 1 columns]"
      ]
     },
     "execution_count": 59,
     "metadata": {},
     "output_type": "execute_result"
    }
   ],
   "source": [
    "for _, row in df_drugs.iterrows():\n",
    "    for seq_length in range(cfg.test_set.SEQUENCE_LENGTHS_TEST_MIN, cfg.test_set.SEQUENCE_LENGTHS_TEST_MAX):\n",
    "        valid_batch = test_set[row[\"perturbation\"]][seq_length]\n",
    "        seq_lengths = [seq_length] * len(valid_batch)\n",
    "        padded_dataset, attention_masks = pad_dataset(\n",
    "            jnp.asarray(valid_batch), seq_lengths, max_seq_length=model.max_seq_length\n",
    "        )\n",
    "        labels = [row[\"index\"]] * len(valid_batch)\n",
    "\n",
    "        batch_it = dict()\n",
    "        batch_it[\"padded_data\"] = jnp.array(padded_dataset)\n",
    "        batch_it[\"labels\"] = jnp.array(labels)\n",
    "        batch_it[\"masks\"] = jnp.asarray(attention_masks)\n",
    "        _, valid_metrics = model.valid_step_fn(model.net_state, batch_it)\n",
    "        valid_accs.append(valid_metrics[\"valid_acc\"])\n",
    "        valid_losses.append(valid_metrics[\"valid_loss\"])"
   ]
  },
  {
   "cell_type": "code",
   "execution_count": 70,
   "id": "4d3cb853-1791-4b69-b1cc-8998679a63da",
   "metadata": {},
   "outputs": [],
   "source": [
    "valid_accs = []\n",
    "valid_losses = []\n",
    "valid_accs_seq_length_min = []\n",
    "valid_accs_seq_length_max = []\n",
    "\n",
    "SEQUENCE_LENGTHS_TEST_MIN = 50\n",
    "SEQUENCE_LENGTHS_TEST_MAX = 200\n",
    "STEP_SEQ_LENGTH = 50\n",
    "for _, row in df_drugs.iterrows():\n",
    "    for seq_length in range(SEQUENCE_LENGTHS_TEST_MIN, SEQUENCE_LENGTHS_TEST_MAX + 1, STEP_SEQ_LENGTH):\n",
    "        valid_batch = test_set[row[\"perturbation\"]][seq_length]\n",
    "        seq_lengths = [seq_length] * len(valid_batch)\n",
    "        padded_dataset, attention_masks = pad_dataset(\n",
    "            jnp.asarray(valid_batch), seq_lengths, max_seq_length=model.max_seq_length\n",
    "        )\n",
    "        labels = [row[\"index\"]] * len(valid_batch)\n",
    "\n",
    "        batch_it = dict()\n",
    "        batch_it[\"padded_data\"] = jnp.array(padded_dataset)\n",
    "        batch_it[\"labels\"] = jnp.array(labels)[:, None]\n",
    "        batch_it[\"masks\"] = jnp.asarray(attention_masks)\n",
    "        _, valid_metrics = model.valid_step_fn(model.net_state, batch_it)\n",
    "        valid_accs.append(valid_metrics[\"accuracy\"])\n",
    "        valid_losses.append(valid_metrics[\"loss\"])\n",
    "\n",
    "        if seq_length == 50:\n",
    "            valid_accs_seq_length_min.append(valid_metrics[\"accuracy\"])\n",
    "        if seq_length == 200:\n",
    "            valid_accs_seq_length_max.append(valid_metrics[\"accuracy\"])"
   ]
  },
  {
   "cell_type": "code",
   "execution_count": 72,
   "id": "cf95e67b-cea9-4e1c-8a55-0e1a16065650",
   "metadata": {},
   "outputs": [
    {
     "data": {
      "text/plain": [
       "708"
      ]
     },
     "execution_count": 72,
     "metadata": {},
     "output_type": "execute_result"
    }
   ],
   "source": [
    "len(valid_accs)"
   ]
  },
  {
   "cell_type": "code",
   "execution_count": 73,
   "id": "76cb0910-5385-48de-9862-00e221003f69",
   "metadata": {},
   "outputs": [
    {
     "data": {
      "text/plain": [
       "177"
      ]
     },
     "execution_count": 73,
     "metadata": {},
     "output_type": "execute_result"
    }
   ],
   "source": [
    "len(valid_accs_seq_length_min)"
   ]
  },
  {
   "cell_type": "code",
   "execution_count": 75,
   "id": "4a450f4e-eb49-4407-9994-72d9f3d6ebf7",
   "metadata": {},
   "outputs": [
    {
     "data": {
      "text/plain": [
       "(0.011751413, 0.023728812)"
      ]
     },
     "execution_count": 75,
     "metadata": {},
     "output_type": "execute_result"
    }
   ],
   "source": [
    "np.mean(valid_accs_seq_length_min), np.mean(valid_accs_seq_length_max)"
   ]
  },
  {
   "cell_type": "code",
   "execution_count": 74,
   "id": "403b0cd0-7c61-4991-b126-c5fe7cca0966",
   "metadata": {},
   "outputs": [
    {
     "data": {
      "text/plain": [
       "177"
      ]
     },
     "execution_count": 74,
     "metadata": {},
     "output_type": "execute_result"
    }
   ],
   "source": [
    "len(valid_accs_seq_length_max)"
   ]
  },
  {
   "cell_type": "code",
   "execution_count": 66,
   "id": "bf820862-f970-432c-8f5a-6b9d86f89728",
   "metadata": {},
   "outputs": [
    {
     "data": {
      "text/plain": [
       "((10, 200, 2000), (10,), (10, 200, 200))"
      ]
     },
     "execution_count": 66,
     "metadata": {},
     "output_type": "execute_result"
    }
   ],
   "source": [
    "batch_it[\"padded_data\"].shape, batch_it[\"labels\"].shape, batch_it[\"masks\"].shape"
   ]
  },
  {
   "cell_type": "code",
   "execution_count": 26,
   "id": "b1777b3b-6d40-44f2-87c6-5f33c772073f",
   "metadata": {},
   "outputs": [
    {
     "data": {
      "text/plain": [
       "<matplotlib.collections.PathCollection at 0x7f3b944dda30>"
      ]
     },
     "execution_count": 26,
     "metadata": {},
     "output_type": "execute_result"
    },
    {
     "data": {
      "image/png": "[encoded data removed]",
      "text/plain": [
       "<Figure size 640x480 with 1 Axes>"
      ]
     },
     "metadata": {},
     "output_type": "display_data"
    }
   ],
   "source": [
    "import matplotlib.pyplot as plt\n",
    "\n",
    "plt.scatter(np.arange(len(curr_acc)), curr_acc)"
   ]
  },
  {
   "cell_type": "code",
   "execution_count": 30,
   "id": "80b0a941-ced6-48c7-8318-1ae2bda6ee0d",
   "metadata": {},
   "outputs": [],
   "source": [
    "def average_of_consecutive(lst, window_size=10):\n",
    "    averages = []\n",
    "    for i in range(0, len(lst), window_size):\n",
    "        window = lst[i : i + window_size]\n",
    "        if len(window) == window_size:\n",
    "            averages.append(sum(window) / window_size)\n",
    "    return averages\n",
    "\n",
    "\n",
    "acc_adapted = average_of_consecutive(curr_acc, 100)"
   ]
  },
  {
   "cell_type": "code",
   "execution_count": 31,
   "id": "78c11af4-857f-4781-9e78-3034614c64a6",
   "metadata": {},
   "outputs": [
    {
     "data": {
      "text/plain": [
       "<matplotlib.collections.PathCollection at 0x7f348c32a3f0>"
      ]
     },
     "execution_count": 31,
     "metadata": {},
     "output_type": "execute_result"
    },
    {
     "data": {
      "image/png": "[encoded data removed]",
      "text/plain": [
       "<Figure size 640x480 with 1 Axes>"
      ]
     },
     "metadata": {},
     "output_type": "display_data"
    }
   ],
   "source": [
    "plt.scatter(np.arange(len(acc_adapted)), acc_adapted)"
   ]
  },
  {
   "cell_type": "code",
   "execution_count": 34,
   "id": "ea0cc448-a4bf-45ea-bd12-6065cbb0e816",
   "metadata": {},
   "outputs": [],
   "source": [
    "nested_dict = {\n",
    "    \"array1\": np.array([1, 2, 3]),\n",
    "    \"array2\": np.array([4, 5, 6]),\n",
    "    \"nested_dict2\": {\"array3\": np.array([7, 8, 9]), \"array4\": np.array([10, 11, 12])},\n",
    "}\n",
    "\n",
    "# Save the nested dictionary with NumPy arrays\n",
    "with open(\"nested_dict_arrays.pkl\", \"wb\") as file:\n",
    "    pickle.dump(nested_dict, file)\n",
    "\n",
    "# Load the nested dictionary with NumPy arrays\n",
    "with open(\"nested_dict_arrays.pkl\", \"rb\") as file:\n",
    "    loaded_nested_dict = pickle.load(file)"
   ]
  },
  {
   "cell_type": "code",
   "execution_count": 77,
   "id": "0bbce8f1-692a-4268-b3da-8417e38a08c1",
   "metadata": {},
   "outputs": [],
   "source": [
    "for i in range(50, 200 + 1, 50):\n",
    "    if True:\n",
    "        pass"
   ]
  },
  {
   "cell_type": "code",
   "execution_count": 84,
   "id": "e271324c-908f-4f2b-9158-dfc0bac6140c",
   "metadata": {},
   "outputs": [
    {
     "name": "stdout",
     "output_type": "stream",
     "text": [
      "(50, 2000) 50\n",
      "(50, 2000) 50\n",
      "(50, 2000) 50\n",
      "(50, 2000) 50\n",
      "(50, 2000) 50\n",
      "(50, 2000) 50\n",
      "(50, 2000) 50\n",
      "(50, 2000) 50\n",
      "(50, 2000) 50\n",
      "(50, 2000) 50\n"
     ]
    },
    {
     "ename": "AssertionError",
     "evalue": "",
     "output_type": "error",
     "traceback": [
      "\u001b[0;31m---------------------------------------------------------------------------\u001b[0m",
      "\u001b[0;31mAssertionError\u001b[0m                            Traceback (most recent call last)",
      "Cell \u001b[0;32mIn[84], line 8\u001b[0m\n\u001b[1;32m      6\u001b[0m padded_dataset, attention_masks \u001b[38;5;241m=\u001b[39m pad_dataset(jnp\u001b[38;5;241m.\u001b[39masarray(valid_batch), seq_lengths, max_seq_length\u001b[38;5;241m=\u001b[39mmodel\u001b[38;5;241m.\u001b[39mmax_seq_length)\n\u001b[1;32m      7\u001b[0m labels \u001b[38;5;241m=\u001b[39m [row[\u001b[38;5;124m\"\u001b[39m\u001b[38;5;124mindex\u001b[39m\u001b[38;5;124m\"\u001b[39m]] \u001b[38;5;241m*\u001b[39m \u001b[38;5;28mlen\u001b[39m(valid_batch)\n\u001b[0;32m----> 8\u001b[0m \u001b[38;5;28;01massert\u001b[39;00m \u001b[38;5;28;01mFalse\u001b[39;00m\n",
      "\u001b[0;31mAssertionError\u001b[0m: "
     ]
    }
   ],
   "source": [
    "for _, row in df_drugs.iterrows():\n",
    "    for seq_length in range(50, 201, 50):\n",
    "        if seq_length in test_set[row[\"perturbation\"]]:\n",
    "            valid_batch = test_set[row[\"perturbation\"]][seq_length]\n",
    "            seq_lengths = [seq_length] * len(valid_batch)\n",
    "            padded_dataset, attention_masks = pad_dataset(\n",
    "                jnp.asarray(valid_batch), seq_lengths, max_seq_length=model.max_seq_length\n",
    "            )\n",
    "            labels = [row[\"index\"]] * len(valid_batch)\n",
    "            assert False"
   ]
  },
  {
   "cell_type": "code",
   "execution_count": 83,
   "id": "982901ee-3f2a-4d55-be03-aa59e1f18542",
   "metadata": {},
   "outputs": [],
   "source": [
    "def pad_dataset(dataset: List[jnp.ndarray], lengths: List[jnp.ndarray], max_seq_length: int, pad_token=0):\n",
    "    padded_dataset = []\n",
    "    attention_mask = []\n",
    "    for data, length in zip(dataset, lengths):\n",
    "        print(data.shape, length)\n",
    "        pad_length = max_seq_length - length\n",
    "        padded_data = jnp.pad(data, ((0, pad_length), (0, 0)), constant_values=pad_token)\n",
    "        padded_data = padded_data[:max_seq_length]\n",
    "        padded_dataset.append(padded_data)\n",
    "        mask = jnp.array([1] * int(length) + [0] * int(pad_length))  # 1 no pad, 0 pad\n",
    "        mask = jnp.outer(mask, mask)\n",
    "        attention_mask.append(mask)\n",
    "    return jnp.array(padded_dataset), jnp.array(attention_mask)"
   ]
  },
  {
   "cell_type": "code",
   "execution_count": 82,
   "id": "7708c3dd-a736-4671-bf9d-0225749e9fa5",
   "metadata": {},
   "outputs": [
    {
     "data": {
      "text/plain": [
       "(10, 50, 2000)"
      ]
     },
     "execution_count": 82,
     "metadata": {},
     "output_type": "execute_result"
    }
   ],
   "source": [
    "jnp.asarray(valid_batch).shape"
   ]
  },
  {
   "cell_type": "code",
   "execution_count": null,
   "id": "29dc8505-34f9-40cd-875d-2bb7a99dfb97",
   "metadata": {},
   "outputs": [],
   "source": []
  }
 ],
 "metadata": {
  "kernelspec": {
   "display_name": "icot",
   "language": "python",
   "name": "icot"
  },
  "language_info": {
   "codemirror_mode": {
    "name": "ipython",
    "version": 3
   },
   "file_extension": ".py",
   "mimetype": "text/x-python",
   "name": "python",
   "nbconvert_exporter": "python",
   "pygments_lexer": "ipython3",
   "version": "3.12.2"
  }
 },
 "nbformat": 4,
 "nbformat_minor": 5
}
