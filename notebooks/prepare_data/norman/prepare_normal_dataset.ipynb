{
 "cells": [
  {
   "cell_type": "code",
   "execution_count": 1,
   "id": "124d7ea0-8d07-414a-9479-a947af4f02e3",
   "metadata": {},
   "outputs": [],
   "source": [
    "%load_ext autoreload\n",
    "%autoreload 2"
   ]
  },
  {
   "cell_type": "code",
   "execution_count": 94,
   "id": "deb31544-5e53-4630-8c5a-01d3f1d1f875",
   "metadata": {},
   "outputs": [],
   "source": [
    "import os\n",
    "import re\n",
    "import glob\n",
    "import torch\n",
    "import pickle\n",
    "import numpy as np\n",
    "import pandas as pd\n",
    "import scanpy as sc\n",
    "import pertpy as pt\n",
    "import anndata as ad\n",
    "import seaborn as sns\n",
    "import matplotlib.pyplot as plt\n",
    "\n",
    "from tqdm import tqdm\n",
    "from sklearn.model_selection import StratifiedKFold"
   ]
  },
  {
   "cell_type": "code",
   "execution_count": 3,
   "id": "942723ec-f205-4d90-803f-7c9227ab536e",
   "metadata": {},
   "outputs": [
    {
     "name": "stdout",
     "output_type": "stream",
     "text": [
      "0.10.8\n",
      "1.10.3\n",
      "0.9.4\n"
     ]
    }
   ],
   "source": [
    "print(ad.__version__)\n",
    "print(sc.__version__)\n",
    "print(pt.__version__)"
   ]
  },
  {
   "cell_type": "code",
   "execution_count": 4,
   "id": "818cd95c-a18a-47bc-b40d-a47f898c7299",
   "metadata": {},
   "outputs": [],
   "source": [
    "output_dir = \"/lustre/groups/ml01/workspace/ot_perturbation/data/norman_soren\"\n",
    "os.makedirs(output_dir, exist_ok=True)"
   ]
  },
  {
   "cell_type": "code",
   "execution_count": 5,
   "id": "106f7795-ceaf-4686-bf8b-ae1670b7c850",
   "metadata": {},
   "outputs": [],
   "source": [
    "adata = pt.dt.norman_2019()"
   ]
  },
  {
   "cell_type": "code",
   "execution_count": 6,
   "id": "0f9bf562-a756-46d7-942a-50eb66ea3397",
   "metadata": {},
   "outputs": [],
   "source": [
    "##### DEG calculation"
   ]
  },
  {
   "cell_type": "code",
   "execution_count": 7,
   "id": "d06c0a65-73bd-4137-b0e3-19c277543118",
   "metadata": {},
   "outputs": [],
   "source": [
    "def rank_genes_groups_by_cov(\n",
    "    adata,\n",
    "    groupby,\n",
    "    control_group,\n",
    "    covariate,\n",
    "    n_genes=50,\n",
    "    rankby_abs=True,\n",
    "    key_added=\"rank_genes_groups_cov\",\n",
    "    return_dict=False,\n",
    "):\n",
    "    gene_dict = {}\n",
    "    cov_categories = adata.obs[covariate].unique()\n",
    "    for cov_cat in cov_categories:\n",
    "        # name of the control group in the groupby obs column\n",
    "        control_group_cov = control_group  # \"_\".join([cov_cat, control_group])\n",
    "        # subset adata to cells belonging to a covariate category\n",
    "        adata_cov = adata[adata.obs[covariate] == cov_cat]\n",
    "        # compute DEGs\n",
    "        sc.tl.rank_genes_groups(\n",
    "            adata_cov,\n",
    "            groupby=groupby,\n",
    "            reference=control_group_cov,\n",
    "            rankby_abs=rankby_abs,\n",
    "            n_genes=n_genes,\n",
    "            use_raw=False,\n",
    "        )\n",
    "        # add entries to dictionary of gene sets\n",
    "        de_genes = pd.DataFrame(adata_cov.uns[\"rank_genes_groups\"][\"names\"])\n",
    "        for group in de_genes:\n",
    "            gene_dict[group] = de_genes[group].tolist()\n",
    "    adata.uns[key_added] = gene_dict\n",
    "    if return_dict:\n",
    "        return gene_dict\n",
    "\n",
    "\n",
    "def get_DE_genes(adata):\n",
    "    adata.obs.loc[:, \"control\"] = adata.obs.condition.apply(lambda x: 1 if x == \"control\" else 0)\n",
    "    adata.obs = adata.obs.astype(\"category\")\n",
    "    rank_genes_groups_by_cov(\n",
    "        adata,\n",
    "        groupby=\"condition\",\n",
    "        covariate=\"cell_line\",\n",
    "        control_group=\"ctrl\",\n",
    "        n_genes=50,\n",
    "        key_added=\"rank_genes_groups_cov_all\",\n",
    "    )\n",
    "    return adata"
   ]
  },
  {
   "cell_type": "code",
   "execution_count": 8,
   "id": "3c08e8bc-b79a-4328-b3c1-63468f80cb23",
   "metadata": {},
   "outputs": [
    {
     "name": "stdout",
     "output_type": "stream",
     "text": [
      "Found 105 files.\n"
     ]
    }
   ],
   "source": [
    "# Specify the folder path\n",
    "folder_path = '/lustre/groups/ml01/workspace/ot_perturbation/pert_embeddings/norman/norman/'\n",
    "\n",
    "# Use glob to get all .pt files in the folder\n",
    "pt_files = glob.glob(folder_path + '*.pt')\n",
    "print(f\"Found {len(pt_files)} files.\")"
   ]
  },
  {
   "cell_type": "code",
   "execution_count": 9,
   "id": "758a9110-6e32-42a0-a11d-0fef0581ab01",
   "metadata": {},
   "outputs": [
    {
     "name": "stderr",
     "output_type": "stream",
     "text": [
      "/tmp/ipykernel_1265463/602684097.py:6: FutureWarning: You are using `torch.load` with `weights_only=False` (the current default value), which uses the default pickle module implicitly. It is possible to construct malicious pickle data which will execute arbitrary code during unpickling (See https://github.com/pytorch/pytorch/blob/main/SECURITY.md#untrusted-models for more details). In a future release, the default value for `weights_only` will be flipped to `True`. This limits the functions that could be executed during unpickling. Arbitrary objects will no longer be allowed to be loaded via this mode unless they are explicitly allowlisted by the user via `torch.serialization.add_safe_globals`. We recommend you start setting `weights_only=True` for any use case where you don't have full control of the loaded file. Please open an issue on GitHub for any issues related to this experimental feature.\n",
      "  loaded = torch.load(path)\n"
     ]
    }
   ],
   "source": [
    "genes_pert = {}\n",
    "\n",
    "for path in pt_files:\n",
    "    split_path = path.split('_')\n",
    "    gene = split_path[3]\n",
    "    loaded = torch.load(path)\n",
    "    genes_pert[gene] = loaded['mean_representations'][36]"
   ]
  },
  {
   "cell_type": "code",
   "execution_count": 10,
   "id": "270030bc-b181-4ff2-b7a7-e0d4c0e4d69b",
   "metadata": {},
   "outputs": [
    {
     "data": {
      "text/plain": [
       "{'ENSG00000125931': tensor([ 0.0034, -0.0302,  0.0348,  ...,  0.0210, -0.0944, -0.0090]),\n",
       " 'ENSG00000126804': tensor([-0.0612, -0.0331,  0.0230,  ...,  0.0482, -0.0650,  0.0217]),\n",
       " 'ENSG00000111276': tensor([-0.0200, -0.0187,  0.0027,  ...,  0.0992, -0.0537,  0.0292]),\n",
       " 'ENSG00000100030': tensor([-0.0242, -0.0016,  0.0313,  ..., -0.0424, -0.1246, -0.0647]),\n",
       " 'ENSG00000139219': tensor([-0.1129, -0.1369,  0.0984,  ..., -0.0537, -0.0267, -0.0023]),\n",
       " 'ENSG00000129757': tensor([-0.0498, -0.0416,  0.0071,  ...,  0.0935, -0.0331, -0.0364]),\n",
       " 'ENSG00000183770': tensor([-0.0095,  0.0054,  0.0034,  ...,  0.0340, -0.1072,  0.0280]),\n",
       " 'ENSG00000130176': tensor([ 0.0096,  0.0630,  0.0086,  ...,  0.0066, -0.1048, -0.0202]),\n",
       " 'ENSG00000143995': tensor([ 0.0400, -0.0240,  0.0045,  ..., -0.0066, -0.1333,  0.0667]),\n",
       " 'ENSG00000245848': tensor([ 0.0197,  0.0017,  0.0418,  ...,  0.0380, -0.0831, -0.0080]),\n",
       " 'ENSG00000173207': tensor([ 0.0625, -0.0676, -0.0292,  ...,  0.0139, -0.1786,  0.0241]),\n",
       " 'ENSG00000103241': tensor([-0.0044,  0.0202,  0.0589,  ...,  0.0063, -0.1434,  0.0711]),\n",
       " 'ENSG00000120738': tensor([ 0.0369,  0.0380,  0.0405,  ...,  0.0104, -0.0972,  0.0437]),\n",
       " 'ENSG00000196396': tensor([-0.0247, -0.0481, -0.0080,  ...,  0.1324, -0.0967, -0.1658]),\n",
       " 'ENSG00000099625': tensor([-0.0128, -0.0369, -0.0001,  ...,  0.1145,  0.0087, -0.0359]),\n",
       " 'ENSG00000129514': tensor([ 0.0026,  0.0269,  0.0264,  ...,  0.0337, -0.0995,  0.0428]),\n",
       " 'ENSG00000158158': tensor([ 0.0066,  0.0299,  0.0500,  ...,  0.0177, -0.0965, -0.0704]),\n",
       " 'ENSG00000127947': tensor([ 0.0179,  0.0169, -0.0104,  ...,  0.0155, -0.0643,  0.0262]),\n",
       " 'ENSG00000089775': tensor([-0.1165, -0.1092,  0.0560,  ...,  0.0636, -0.0528, -0.0345]),\n",
       " 'ENSG00000106546': tensor([ 0.0231,  0.0317,  0.0336,  ...,  0.0043, -0.1768,  0.0137]),\n",
       " 'ENSG00000119335': tensor([-0.0319, -0.0052, -0.0486,  ...,  0.0518, -0.0346, -0.1844]),\n",
       " 'ENSG00000144655': tensor([ 0.0131, -0.0149,  0.0250,  ...,  0.0220, -0.0545,  0.0248]),\n",
       " 'ENSG00000188483': tensor([-0.0349, -0.0231,  0.0408,  ...,  0.0722,  0.0222, -0.0144]),\n",
       " 'ENSG00000206262': tensor([-0.0186, -0.1009,  0.0271,  ..., -0.0142, -0.2200,  0.0195]),\n",
       " 'ENSG00000125740': tensor([-0.0132, -0.0166,  0.0159,  ...,  0.0604, -0.0571, -0.0901]),\n",
       " 'ENSG00000172331': tensor([-0.0456,  0.0169,  0.0952,  ...,  0.0592, -0.1069, -0.0340]),\n",
       " 'ENSG00000184486': tensor([ 0.0250,  0.0080,  0.0362,  ...,  0.0359, -0.0974,  0.0242]),\n",
       " 'ENSG00000167470': tensor([-0.0456, -0.1148,  0.0125,  ...,  0.0849, -0.1513, -0.1257]),\n",
       " 'ENSG00000196517': tensor([ 0.0048,  0.0147,  0.0204,  ...,  0.0212, -0.1072,  0.0273]),\n",
       " 'ENSG00000057657': tensor([ 0.0078,  0.0234,  0.0232,  ...,  0.0063, -0.1209,  0.0518]),\n",
       " 'ENSG00000085185': tensor([ 0.0356,  0.0124,  0.0322,  ...,  0.0665, -0.1484,  0.0353]),\n",
       " 'ENSG00000106031': tensor([ 0.0309,  0.0319,  0.0176,  ...,  0.0059, -0.1294,  0.0506]),\n",
       " 'ENSG00000130829': tensor([ 0.0162, -0.0719,  0.0050,  ...,  0.0942, -0.0602, -0.0682]),\n",
       " 'ENSG00000115053': tensor([-0.0104, -0.0378,  0.0105,  ...,  0.1282, -0.1229, -0.1800]),\n",
       " 'ENSG00000012983': tensor([-0.0585, -0.0129,  0.0031,  ...,  0.0365, -0.1235, -0.0296]),\n",
       " 'ENSG00000169410': tensor([ 0.0066, -0.0008, -0.0596,  ...,  0.0149, -0.0598, -0.0041]),\n",
       " 'ENSG00000110395': tensor([-0.1614, -0.0689, -0.0074,  ...,  0.0804, -0.0986, -0.1648]),\n",
       " 'ENSG00000159399': tensor([-0.0050,  0.0270,  0.0681,  ...,  0.0366, -0.0642, -0.0010]),\n",
       " 'ENSG00000179111': tensor([ 0.0614, -0.0842,  0.0025,  ...,  0.0389, -0.1805, -0.0488]),\n",
       " 'ENSG00000172216': tensor([-0.0166,  0.0115,  0.0395,  ...,  0.0353, -0.0651, -0.0258]),\n",
       " 'ENSG00000113369': tensor([-0.0148,  0.0303,  0.0310,  ...,  0.0218, -0.1975, -0.0159]),\n",
       " 'ENSG00000124762': tensor([-0.0628, -0.0159, -0.0436,  ...,  0.1136, -0.0696, -0.0791]),\n",
       " 'ENSG00000161405': tensor([ 8.6548e-05, -7.1743e-03,  5.0583e-02,  ...,  2.7474e-02,\n",
       "         -9.1621e-02,  1.5321e-02]),\n",
       " 'ENSG00000105939': tensor([ 0.0168, -0.0415,  0.0006,  ...,  0.0038, -0.1523,  0.0244]),\n",
       " 'ENSG00000205542': tensor([ 0.0106,  0.0415, -0.0729,  ...,  0.0756, -0.1126, -0.0640]),\n",
       " 'ENSG00000125347': tensor([-0.0816, -0.1017,  0.1001,  ...,  0.0872, -0.0548, -0.1294]),\n",
       " 'ENSG00000129993': tensor([-0.0441, -0.0933, -0.0008,  ...,  0.1011, -0.0133, -0.1072]),\n",
       " 'ENSG00000011566': tensor([-0.0484, -0.0203,  0.0094,  ...,  0.0443, -0.1287, -0.0212]),\n",
       " 'ENSG00000118515': tensor([ 0.0175, -0.0621, -0.0628,  ..., -0.0012, -0.1600, -0.0104]),\n",
       " 'ENSG00000117713': tensor([-0.0236, -0.0073,  0.0302,  ...,  0.0686, -0.1174,  0.0179]),\n",
       " 'ENSG00000135111': tensor([ 0.0080,  0.0294,  0.0274,  ...,  0.0153, -0.1534, -0.0023]),\n",
       " 'ENSG00000164920': tensor([ 0.0675, -0.0127,  0.0297,  ...,  0.0039, -0.1551,  0.0734]),\n",
       " 'ENSG00000101076': tensor([ 0.0008,  0.0110,  0.0144,  ...,  0.0215, -0.1283, -0.0227]),\n",
       " 'ENSG00000092067': tensor([ 0.0037, -0.0179,  0.0238,  ...,  0.0213, -0.0924, -0.0116]),\n",
       " 'ENSG00000142731': tensor([-0.0165, -0.0141,  0.0060,  ...,  0.0207, -0.1910,  0.0111]),\n",
       " 'ENSG00000273706': tensor([ 0.0252, -0.0069,  0.0244,  ..., -0.0054, -0.1228,  0.0277]),\n",
       " 'ENSG00000115844': tensor([ 0.0353,  0.0291,  0.0205,  ...,  0.0144, -0.1318,  0.0504]),\n",
       " 'ENSG00000102804': tensor([-0.0019, -0.0024,  0.0385,  ...,  0.0872, -0.1251,  0.0168]),\n",
       " 'ENSG00000166450': tensor([ 0.0188,  0.0145, -0.0020,  ..., -0.0144, -0.0744,  0.0945]),\n",
       " 'ENSG00000134294': tensor([-0.0015,  0.0587,  0.0743,  ...,  0.0658, -0.1731,  0.0200]),\n",
       " 'ENSG00000142945': tensor([-0.0095, -0.0279,  0.0568,  ...,  0.0042, -0.0842,  0.0109]),\n",
       " 'ENSG00000118058': tensor([-0.0069,  0.0090,  0.0296,  ...,  0.0314, -0.1495,  0.0227]),\n",
       " 'ENSG00000198513': tensor([-0.0254, -0.0057,  0.0390,  ...,  0.0211, -0.0771, -0.0269]),\n",
       " 'ENSG00000123473': tensor([ 0.0044, -0.0860,  0.0861,  ...,  0.0366, -0.1279, -0.0688]),\n",
       " 'ENSG00000141858': tensor([ 0.0017, -0.0299, -0.0431,  ...,  0.0445, -0.0774, -0.0516]),\n",
       " 'ENSG00000163629': tensor([-0.0228, -0.0262, -0.0180,  ...,  0.0379, -0.0897, -0.0001]),\n",
       " 'ENSG00000157557': tensor([-0.0225, -0.0122,  0.0192,  ...,  0.0256, -0.0954,  0.0517]),\n",
       " 'ENSG00000034152': tensor([-0.0485, -0.0507, -0.0238,  ..., -0.0092, -0.1225, -0.0174]),\n",
       " 'ENSG00000186185': tensor([ 0.0157, -0.0234,  0.0164,  ...,  0.0190, -0.1332,  0.0012]),\n",
       " 'ENSG00000267534': tensor([ 0.0548, -0.0507,  0.0087,  ..., -0.0002, -0.1044,  0.0005]),\n",
       " 'ENSG00000160185': tensor([-0.0525, -0.1026,  0.0177,  ...,  0.0665, -0.1411, -0.0992]),\n",
       " 'ENSG00000121068': tensor([-0.0020,  0.0256,  0.0111,  ...,  0.0321, -0.1380, -0.0283]),\n",
       " 'ENSG00000048740': tensor([-0.0622, -0.0428,  0.0132,  ...,  0.0873, -0.1045, -0.1368]),\n",
       " 'ENSG00000184481': tensor([-0.0155, -0.0389,  0.0440,  ...,  0.0617, -0.0798,  0.0369]),\n",
       " 'ENSG00000104903': tensor([ 0.0415, -0.0261,  0.0016,  ..., -0.0180, -0.1799, -0.0143]),\n",
       " 'ENSG00000143674': tensor([-0.0406, -0.0685,  0.0142,  ...,  0.0506, -0.0462, -0.0504]),\n",
       " 'ENSG00000156030': tensor([-0.0427, -0.0327,  0.0343,  ...,  0.0709, -0.1477, -0.0189]),\n",
       " 'ENSG00000163497': tensor([-0.0378, -0.0199,  0.0171,  ...,  0.0293, -0.0945,  0.0413]),\n",
       " 'ENSG00000158793': tensor([-0.0090, -0.0040,  0.0166,  ..., -0.0222, -0.0717, -0.0303]),\n",
       " 'ENSG00000153094': tensor([ 0.0077, -0.0780,  0.0185,  ...,  0.0760, -0.0584, -0.1710]),\n",
       " 'ENSG00000078900': tensor([-0.0463, -0.0020,  0.0141,  ...,  0.0322, -0.1105, -0.0150]),\n",
       " 'ENSG00000154127': tensor([-0.0457, -0.0766, -0.0015,  ...,  0.0772, -0.1309, -0.0832]),\n",
       " 'ENSG00000105610': tensor([ 0.0149,  0.0074, -0.0023,  ...,  0.0356, -0.1162,  0.0175]),\n",
       " 'ENSG00000108821': tensor([-0.1370, -0.1371,  0.1016,  ..., -0.0408, -0.0264, -0.0129]),\n",
       " 'ENSG00000124782': tensor([ 0.0448,  0.0135,  0.0561,  ..., -0.0058, -0.1064,  0.0212]),\n",
       " 'ENSG00000131721': tensor([ 0.0448, -0.0244,  0.0558,  ...,  0.0017, -0.1468,  0.0050]),\n",
       " 'ENSG00000170689': tensor([ 0.0246, -0.0271,  0.0556,  ...,  0.0359, -0.1244,  0.0310]),\n",
       " 'ENSG00000205189': tensor([-0.0624, -0.0510,  0.0358,  ...,  0.0492, -0.1001, -0.0039]),\n",
       " 'ENSG00000159556': tensor([ 0.0165, -0.0104,  0.0383,  ...,  0.0107, -0.1144, -0.0013]),\n",
       " 'ENSG00000030110': tensor([-0.0310, -0.1026,  0.0452,  ...,  0.0575, -0.0204, -0.0256]),\n",
       " 'ENSG00000171467': tensor([-0.0168, -0.1166,  0.0537,  ...,  0.0901, -0.0668, -0.0521]),\n",
       " 'ENSG00000066336': tensor([-0.1204, -0.1157,  0.0411,  ...,  0.1377, -0.0759, -0.0840]),\n",
       " 'ENSG00000177606': tensor([-0.0291,  0.0300,  0.0382,  ...,  0.0776, -0.0884, -0.1082]),\n",
       " 'ENSG00000124216': tensor([ 0.0429, -0.0074,  0.0424,  ...,  0.0055, -0.1111,  0.0441]),\n",
       " 'ENSG00000170608': tensor([-0.0182,  0.0166,  0.0138,  ...,  0.0169, -0.0967,  0.0444]),\n",
       " 'ENSG00000123364': tensor([ 0.0215, -0.0090,  0.0364,  ...,  0.0203, -0.1275,  0.0285]),\n",
       " 'ENSG00000116871': tensor([-0.0421, -0.0981, -0.0061,  ...,  0.1074, -0.0686, -0.0776]),\n",
       " 'ENSG00000174498': tensor([-0.0258, -0.0227, -0.0158,  ...,  0.0250, -0.0525, -0.0041]),\n",
       " 'ENSG00000108984': tensor([-0.0421, -0.0629, -0.0254,  ..., -0.0129, -0.1228, -0.0319]),\n",
       " 'ENSG00000149328': tensor([ 0.0214, -0.0262,  0.0049,  ...,  0.0195, -0.0973, -0.0337]),\n",
       " 'ENSG00000184384': tensor([-0.0538, -0.0878,  0.0288,  ...,  0.1493, -0.0683, -0.0618]),\n",
       " 'ENSG00000004939': tensor([ 0.0365,  0.0025,  0.0758,  ...,  0.0080, -0.0919, -0.0261]),\n",
       " 'ENSG00000079102': tensor([-0.0673, -0.0737,  0.0003,  ...,  0.1038, -0.0247, -0.0886]),\n",
       " 'ENSG00000163513': tensor([-0.0791, -0.1053,  0.0041,  ...,  0.0750, -0.0682, -0.1042]),\n",
       " 'ENSG00000184697': tensor([ 0.0870,  0.0062, -0.0365,  ...,  0.0035, -0.1908, -0.0905])}"
      ]
     },
     "execution_count": 10,
     "metadata": {},
     "output_type": "execute_result"
    }
   ],
   "source": [
    "genes_pert"
   ]
  },
  {
   "cell_type": "code",
   "execution_count": 11,
   "id": "355e8b75-b058-4a61-b17f-bd586e1b20ad",
   "metadata": {},
   "outputs": [],
   "source": [
    "adata.obs[['gene_1', 'gene_2']] = adata.obs['perturbation_name'].str.split('+', expand=True)"
   ]
  },
  {
   "cell_type": "code",
   "execution_count": 12,
   "id": "a15dcf12-7431-4de8-8dee-6c09390131f6",
   "metadata": {},
   "outputs": [
    {
     "data": {
      "text/html": [
       "<div>\n",
       "<style scoped>\n",
       "    .dataframe tbody tr th:only-of-type {\n",
       "        vertical-align: middle;\n",
       "    }\n",
       "\n",
       "    .dataframe tbody tr th {\n",
       "        vertical-align: top;\n",
       "    }\n",
       "\n",
       "    .dataframe thead th {\n",
       "        text-align: right;\n",
       "    }\n",
       "</style>\n",
       "<table border=\"1\" class=\"dataframe\">\n",
       "  <thead>\n",
       "    <tr style=\"text-align: right;\">\n",
       "      <th></th>\n",
       "      <th>guide_identity</th>\n",
       "      <th>read_count</th>\n",
       "      <th>UMI_count</th>\n",
       "      <th>coverage</th>\n",
       "      <th>gemgroup</th>\n",
       "      <th>good_coverage</th>\n",
       "      <th>number_of_cells</th>\n",
       "      <th>guide_AHR</th>\n",
       "      <th>guide_ARID1A</th>\n",
       "      <th>guide_ARRDC3</th>\n",
       "      <th>...</th>\n",
       "      <th>total_counts</th>\n",
       "      <th>total_counts_mt</th>\n",
       "      <th>pct_counts_mt</th>\n",
       "      <th>leiden</th>\n",
       "      <th>perturbation_name</th>\n",
       "      <th>perturbation_type</th>\n",
       "      <th>perturbation_value</th>\n",
       "      <th>perturbation_unit</th>\n",
       "      <th>gene_1</th>\n",
       "      <th>gene_2</th>\n",
       "    </tr>\n",
       "    <tr>\n",
       "      <th>index</th>\n",
       "      <th></th>\n",
       "      <th></th>\n",
       "      <th></th>\n",
       "      <th></th>\n",
       "      <th></th>\n",
       "      <th></th>\n",
       "      <th></th>\n",
       "      <th></th>\n",
       "      <th></th>\n",
       "      <th></th>\n",
       "      <th></th>\n",
       "      <th></th>\n",
       "      <th></th>\n",
       "      <th></th>\n",
       "      <th></th>\n",
       "      <th></th>\n",
       "      <th></th>\n",
       "      <th></th>\n",
       "      <th></th>\n",
       "      <th></th>\n",
       "      <th></th>\n",
       "    </tr>\n",
       "  </thead>\n",
       "  <tbody>\n",
       "    <tr>\n",
       "      <th>AAACCTGAGAAGAAGC-1</th>\n",
       "      <td>NegCtrl0_NegCtrl0__NegCtrl0_NegCtrl0</td>\n",
       "      <td>1252</td>\n",
       "      <td>67</td>\n",
       "      <td>18.686567</td>\n",
       "      <td>1</td>\n",
       "      <td>True</td>\n",
       "      <td>2</td>\n",
       "      <td>0</td>\n",
       "      <td>0</td>\n",
       "      <td>0</td>\n",
       "      <td>...</td>\n",
       "      <td>19413.0</td>\n",
       "      <td>1327.0</td>\n",
       "      <td>6.835625</td>\n",
       "      <td>10</td>\n",
       "      <td>control</td>\n",
       "      <td>genetic</td>\n",
       "      <td>NaN</td>\n",
       "      <td>NaN</td>\n",
       "      <td>control</td>\n",
       "      <td>None</td>\n",
       "    </tr>\n",
       "    <tr>\n",
       "      <th>AAACCTGAGGCATGTG-1</th>\n",
       "      <td>TSC22D1_NegCtrl0__TSC22D1_NegCtrl0</td>\n",
       "      <td>2151</td>\n",
       "      <td>104</td>\n",
       "      <td>20.682692</td>\n",
       "      <td>1</td>\n",
       "      <td>True</td>\n",
       "      <td>1</td>\n",
       "      <td>0</td>\n",
       "      <td>0</td>\n",
       "      <td>0</td>\n",
       "      <td>...</td>\n",
       "      <td>13474.0</td>\n",
       "      <td>962.0</td>\n",
       "      <td>7.139676</td>\n",
       "      <td>3</td>\n",
       "      <td>TSC22D1</td>\n",
       "      <td>genetic</td>\n",
       "      <td>NaN</td>\n",
       "      <td>NaN</td>\n",
       "      <td>TSC22D1</td>\n",
       "      <td>None</td>\n",
       "    </tr>\n",
       "    <tr>\n",
       "      <th>AAACCTGAGGCCCTTG-1</th>\n",
       "      <td>KLF1_MAP2K6__KLF1_MAP2K6</td>\n",
       "      <td>1037</td>\n",
       "      <td>59</td>\n",
       "      <td>17.576271</td>\n",
       "      <td>1</td>\n",
       "      <td>True</td>\n",
       "      <td>1</td>\n",
       "      <td>0</td>\n",
       "      <td>0</td>\n",
       "      <td>0</td>\n",
       "      <td>...</td>\n",
       "      <td>23228.0</td>\n",
       "      <td>1548.0</td>\n",
       "      <td>6.664371</td>\n",
       "      <td>7</td>\n",
       "      <td>KLF1+MAP2K6</td>\n",
       "      <td>genetic</td>\n",
       "      <td>NaN</td>\n",
       "      <td>NaN</td>\n",
       "      <td>KLF1</td>\n",
       "      <td>MAP2K6</td>\n",
       "    </tr>\n",
       "    <tr>\n",
       "      <th>AAACCTGCACGAAGCA-1</th>\n",
       "      <td>NegCtrl10_NegCtrl0__NegCtrl10_NegCtrl0</td>\n",
       "      <td>958</td>\n",
       "      <td>39</td>\n",
       "      <td>24.564103</td>\n",
       "      <td>1</td>\n",
       "      <td>True</td>\n",
       "      <td>1</td>\n",
       "      <td>0</td>\n",
       "      <td>0</td>\n",
       "      <td>0</td>\n",
       "      <td>...</td>\n",
       "      <td>6842.0</td>\n",
       "      <td>523.0</td>\n",
       "      <td>7.643963</td>\n",
       "      <td>2</td>\n",
       "      <td>control</td>\n",
       "      <td>genetic</td>\n",
       "      <td>NaN</td>\n",
       "      <td>NaN</td>\n",
       "      <td>control</td>\n",
       "      <td>None</td>\n",
       "    </tr>\n",
       "    <tr>\n",
       "      <th>AAACCTGCAGACGTAG-1</th>\n",
       "      <td>CEBPE_RUNX1T1__CEBPE_RUNX1T1</td>\n",
       "      <td>244</td>\n",
       "      <td>14</td>\n",
       "      <td>17.428571</td>\n",
       "      <td>1</td>\n",
       "      <td>True</td>\n",
       "      <td>1</td>\n",
       "      <td>0</td>\n",
       "      <td>0</td>\n",
       "      <td>0</td>\n",
       "      <td>...</td>\n",
       "      <td>9130.0</td>\n",
       "      <td>893.0</td>\n",
       "      <td>9.780942</td>\n",
       "      <td>10</td>\n",
       "      <td>CEBPE+RUNX1T1</td>\n",
       "      <td>genetic</td>\n",
       "      <td>NaN</td>\n",
       "      <td>NaN</td>\n",
       "      <td>CEBPE</td>\n",
       "      <td>RUNX1T1</td>\n",
       "    </tr>\n",
       "  </tbody>\n",
       "</table>\n",
       "<p>5 rows × 125 columns</p>\n",
       "</div>"
      ],
      "text/plain": [
       "                                            guide_identity  read_count  \\\n",
       "index                                                                    \n",
       "AAACCTGAGAAGAAGC-1    NegCtrl0_NegCtrl0__NegCtrl0_NegCtrl0        1252   \n",
       "AAACCTGAGGCATGTG-1      TSC22D1_NegCtrl0__TSC22D1_NegCtrl0        2151   \n",
       "AAACCTGAGGCCCTTG-1                KLF1_MAP2K6__KLF1_MAP2K6        1037   \n",
       "AAACCTGCACGAAGCA-1  NegCtrl10_NegCtrl0__NegCtrl10_NegCtrl0         958   \n",
       "AAACCTGCAGACGTAG-1            CEBPE_RUNX1T1__CEBPE_RUNX1T1         244   \n",
       "\n",
       "                    UMI_count   coverage  gemgroup  good_coverage  \\\n",
       "index                                                               \n",
       "AAACCTGAGAAGAAGC-1         67  18.686567         1           True   \n",
       "AAACCTGAGGCATGTG-1        104  20.682692         1           True   \n",
       "AAACCTGAGGCCCTTG-1         59  17.576271         1           True   \n",
       "AAACCTGCACGAAGCA-1         39  24.564103         1           True   \n",
       "AAACCTGCAGACGTAG-1         14  17.428571         1           True   \n",
       "\n",
       "                    number_of_cells  guide_AHR  guide_ARID1A  guide_ARRDC3  \\\n",
       "index                                                                        \n",
       "AAACCTGAGAAGAAGC-1                2          0             0             0   \n",
       "AAACCTGAGGCATGTG-1                1          0             0             0   \n",
       "AAACCTGAGGCCCTTG-1                1          0             0             0   \n",
       "AAACCTGCACGAAGCA-1                1          0             0             0   \n",
       "AAACCTGCAGACGTAG-1                1          0             0             0   \n",
       "\n",
       "                    ...  total_counts  total_counts_mt  pct_counts_mt  leiden  \\\n",
       "index               ...                                                         \n",
       "AAACCTGAGAAGAAGC-1  ...       19413.0           1327.0       6.835625      10   \n",
       "AAACCTGAGGCATGTG-1  ...       13474.0            962.0       7.139676       3   \n",
       "AAACCTGAGGCCCTTG-1  ...       23228.0           1548.0       6.664371       7   \n",
       "AAACCTGCACGAAGCA-1  ...        6842.0            523.0       7.643963       2   \n",
       "AAACCTGCAGACGTAG-1  ...        9130.0            893.0       9.780942      10   \n",
       "\n",
       "                    perturbation_name  perturbation_type  perturbation_value  \\\n",
       "index                                                                          \n",
       "AAACCTGAGAAGAAGC-1            control            genetic                 NaN   \n",
       "AAACCTGAGGCATGTG-1            TSC22D1            genetic                 NaN   \n",
       "AAACCTGAGGCCCTTG-1        KLF1+MAP2K6            genetic                 NaN   \n",
       "AAACCTGCACGAAGCA-1            control            genetic                 NaN   \n",
       "AAACCTGCAGACGTAG-1      CEBPE+RUNX1T1            genetic                 NaN   \n",
       "\n",
       "                    perturbation_unit   gene_1   gene_2  \n",
       "index                                                    \n",
       "AAACCTGAGAAGAAGC-1                NaN  control     None  \n",
       "AAACCTGAGGCATGTG-1                NaN  TSC22D1     None  \n",
       "AAACCTGAGGCCCTTG-1                NaN     KLF1   MAP2K6  \n",
       "AAACCTGCACGAAGCA-1                NaN  control     None  \n",
       "AAACCTGCAGACGTAG-1                NaN    CEBPE  RUNX1T1  \n",
       "\n",
       "[5 rows x 125 columns]"
      ]
     },
     "metadata": {},
     "output_type": "display_data"
    }
   ],
   "source": [
    "display(adata.obs.iloc[:5])"
   ]
  },
  {
   "cell_type": "code",
   "execution_count": 13,
   "id": "7bb36c2e-9a99-4c3b-b885-473141c52699",
   "metadata": {},
   "outputs": [
    {
     "name": "stderr",
     "output_type": "stream",
     "text": [
      "/tmp/ipykernel_1265463/4207078196.py:1: FutureWarning: A value is trying to be set on a copy of a DataFrame or Series through chained assignment using an inplace method.\n",
      "The behavior will change in pandas 3.0. This inplace method will never work because the intermediate object on which we are setting values always behaves as a copy.\n",
      "\n",
      "For example, when doing 'df[col].method(value, inplace=True)', try using 'df.method({col: value}, inplace=True)' or df[col] = df[col].method(value) instead, to perform the operation inplace on the original object.\n",
      "\n",
      "\n",
      "  adata.obs['gene_2'].fillna('control', inplace=True)\n"
     ]
    }
   ],
   "source": [
    "adata.obs['gene_2'].fillna('control', inplace=True)"
   ]
  },
  {
   "cell_type": "code",
   "execution_count": 14,
   "id": "d8614340-c92a-42eb-8108-1bb967162b77",
   "metadata": {},
   "outputs": [
    {
     "data": {
      "text/html": [
       "<div>\n",
       "<style scoped>\n",
       "    .dataframe tbody tr th:only-of-type {\n",
       "        vertical-align: middle;\n",
       "    }\n",
       "\n",
       "    .dataframe tbody tr th {\n",
       "        vertical-align: top;\n",
       "    }\n",
       "\n",
       "    .dataframe thead th {\n",
       "        text-align: right;\n",
       "    }\n",
       "</style>\n",
       "<table border=\"1\" class=\"dataframe\">\n",
       "  <thead>\n",
       "    <tr style=\"text-align: right;\">\n",
       "      <th></th>\n",
       "      <th>guide_identity</th>\n",
       "      <th>read_count</th>\n",
       "      <th>UMI_count</th>\n",
       "      <th>coverage</th>\n",
       "      <th>gemgroup</th>\n",
       "      <th>good_coverage</th>\n",
       "      <th>number_of_cells</th>\n",
       "      <th>guide_AHR</th>\n",
       "      <th>guide_ARID1A</th>\n",
       "      <th>guide_ARRDC3</th>\n",
       "      <th>...</th>\n",
       "      <th>total_counts</th>\n",
       "      <th>total_counts_mt</th>\n",
       "      <th>pct_counts_mt</th>\n",
       "      <th>leiden</th>\n",
       "      <th>perturbation_name</th>\n",
       "      <th>perturbation_type</th>\n",
       "      <th>perturbation_value</th>\n",
       "      <th>perturbation_unit</th>\n",
       "      <th>gene_1</th>\n",
       "      <th>gene_2</th>\n",
       "    </tr>\n",
       "    <tr>\n",
       "      <th>index</th>\n",
       "      <th></th>\n",
       "      <th></th>\n",
       "      <th></th>\n",
       "      <th></th>\n",
       "      <th></th>\n",
       "      <th></th>\n",
       "      <th></th>\n",
       "      <th></th>\n",
       "      <th></th>\n",
       "      <th></th>\n",
       "      <th></th>\n",
       "      <th></th>\n",
       "      <th></th>\n",
       "      <th></th>\n",
       "      <th></th>\n",
       "      <th></th>\n",
       "      <th></th>\n",
       "      <th></th>\n",
       "      <th></th>\n",
       "      <th></th>\n",
       "      <th></th>\n",
       "    </tr>\n",
       "  </thead>\n",
       "  <tbody>\n",
       "    <tr>\n",
       "      <th>AAACCTGAGAAGAAGC-1</th>\n",
       "      <td>NegCtrl0_NegCtrl0__NegCtrl0_NegCtrl0</td>\n",
       "      <td>1252</td>\n",
       "      <td>67</td>\n",
       "      <td>18.686567</td>\n",
       "      <td>1</td>\n",
       "      <td>True</td>\n",
       "      <td>2</td>\n",
       "      <td>0</td>\n",
       "      <td>0</td>\n",
       "      <td>0</td>\n",
       "      <td>...</td>\n",
       "      <td>19413.0</td>\n",
       "      <td>1327.0</td>\n",
       "      <td>6.835625</td>\n",
       "      <td>10</td>\n",
       "      <td>control</td>\n",
       "      <td>genetic</td>\n",
       "      <td>NaN</td>\n",
       "      <td>NaN</td>\n",
       "      <td>control</td>\n",
       "      <td>control</td>\n",
       "    </tr>\n",
       "    <tr>\n",
       "      <th>AAACCTGAGGCATGTG-1</th>\n",
       "      <td>TSC22D1_NegCtrl0__TSC22D1_NegCtrl0</td>\n",
       "      <td>2151</td>\n",
       "      <td>104</td>\n",
       "      <td>20.682692</td>\n",
       "      <td>1</td>\n",
       "      <td>True</td>\n",
       "      <td>1</td>\n",
       "      <td>0</td>\n",
       "      <td>0</td>\n",
       "      <td>0</td>\n",
       "      <td>...</td>\n",
       "      <td>13474.0</td>\n",
       "      <td>962.0</td>\n",
       "      <td>7.139676</td>\n",
       "      <td>3</td>\n",
       "      <td>TSC22D1</td>\n",
       "      <td>genetic</td>\n",
       "      <td>NaN</td>\n",
       "      <td>NaN</td>\n",
       "      <td>TSC22D1</td>\n",
       "      <td>control</td>\n",
       "    </tr>\n",
       "    <tr>\n",
       "      <th>AAACCTGAGGCCCTTG-1</th>\n",
       "      <td>KLF1_MAP2K6__KLF1_MAP2K6</td>\n",
       "      <td>1037</td>\n",
       "      <td>59</td>\n",
       "      <td>17.576271</td>\n",
       "      <td>1</td>\n",
       "      <td>True</td>\n",
       "      <td>1</td>\n",
       "      <td>0</td>\n",
       "      <td>0</td>\n",
       "      <td>0</td>\n",
       "      <td>...</td>\n",
       "      <td>23228.0</td>\n",
       "      <td>1548.0</td>\n",
       "      <td>6.664371</td>\n",
       "      <td>7</td>\n",
       "      <td>KLF1+MAP2K6</td>\n",
       "      <td>genetic</td>\n",
       "      <td>NaN</td>\n",
       "      <td>NaN</td>\n",
       "      <td>KLF1</td>\n",
       "      <td>MAP2K6</td>\n",
       "    </tr>\n",
       "    <tr>\n",
       "      <th>AAACCTGCACGAAGCA-1</th>\n",
       "      <td>NegCtrl10_NegCtrl0__NegCtrl10_NegCtrl0</td>\n",
       "      <td>958</td>\n",
       "      <td>39</td>\n",
       "      <td>24.564103</td>\n",
       "      <td>1</td>\n",
       "      <td>True</td>\n",
       "      <td>1</td>\n",
       "      <td>0</td>\n",
       "      <td>0</td>\n",
       "      <td>0</td>\n",
       "      <td>...</td>\n",
       "      <td>6842.0</td>\n",
       "      <td>523.0</td>\n",
       "      <td>7.643963</td>\n",
       "      <td>2</td>\n",
       "      <td>control</td>\n",
       "      <td>genetic</td>\n",
       "      <td>NaN</td>\n",
       "      <td>NaN</td>\n",
       "      <td>control</td>\n",
       "      <td>control</td>\n",
       "    </tr>\n",
       "    <tr>\n",
       "      <th>AAACCTGCAGACGTAG-1</th>\n",
       "      <td>CEBPE_RUNX1T1__CEBPE_RUNX1T1</td>\n",
       "      <td>244</td>\n",
       "      <td>14</td>\n",
       "      <td>17.428571</td>\n",
       "      <td>1</td>\n",
       "      <td>True</td>\n",
       "      <td>1</td>\n",
       "      <td>0</td>\n",
       "      <td>0</td>\n",
       "      <td>0</td>\n",
       "      <td>...</td>\n",
       "      <td>9130.0</td>\n",
       "      <td>893.0</td>\n",
       "      <td>9.780942</td>\n",
       "      <td>10</td>\n",
       "      <td>CEBPE+RUNX1T1</td>\n",
       "      <td>genetic</td>\n",
       "      <td>NaN</td>\n",
       "      <td>NaN</td>\n",
       "      <td>CEBPE</td>\n",
       "      <td>RUNX1T1</td>\n",
       "    </tr>\n",
       "  </tbody>\n",
       "</table>\n",
       "<p>5 rows × 125 columns</p>\n",
       "</div>"
      ],
      "text/plain": [
       "                                            guide_identity  read_count  \\\n",
       "index                                                                    \n",
       "AAACCTGAGAAGAAGC-1    NegCtrl0_NegCtrl0__NegCtrl0_NegCtrl0        1252   \n",
       "AAACCTGAGGCATGTG-1      TSC22D1_NegCtrl0__TSC22D1_NegCtrl0        2151   \n",
       "AAACCTGAGGCCCTTG-1                KLF1_MAP2K6__KLF1_MAP2K6        1037   \n",
       "AAACCTGCACGAAGCA-1  NegCtrl10_NegCtrl0__NegCtrl10_NegCtrl0         958   \n",
       "AAACCTGCAGACGTAG-1            CEBPE_RUNX1T1__CEBPE_RUNX1T1         244   \n",
       "\n",
       "                    UMI_count   coverage  gemgroup  good_coverage  \\\n",
       "index                                                               \n",
       "AAACCTGAGAAGAAGC-1         67  18.686567         1           True   \n",
       "AAACCTGAGGCATGTG-1        104  20.682692         1           True   \n",
       "AAACCTGAGGCCCTTG-1         59  17.576271         1           True   \n",
       "AAACCTGCACGAAGCA-1         39  24.564103         1           True   \n",
       "AAACCTGCAGACGTAG-1         14  17.428571         1           True   \n",
       "\n",
       "                    number_of_cells  guide_AHR  guide_ARID1A  guide_ARRDC3  \\\n",
       "index                                                                        \n",
       "AAACCTGAGAAGAAGC-1                2          0             0             0   \n",
       "AAACCTGAGGCATGTG-1                1          0             0             0   \n",
       "AAACCTGAGGCCCTTG-1                1          0             0             0   \n",
       "AAACCTGCACGAAGCA-1                1          0             0             0   \n",
       "AAACCTGCAGACGTAG-1                1          0             0             0   \n",
       "\n",
       "                    ...  total_counts  total_counts_mt  pct_counts_mt  leiden  \\\n",
       "index               ...                                                         \n",
       "AAACCTGAGAAGAAGC-1  ...       19413.0           1327.0       6.835625      10   \n",
       "AAACCTGAGGCATGTG-1  ...       13474.0            962.0       7.139676       3   \n",
       "AAACCTGAGGCCCTTG-1  ...       23228.0           1548.0       6.664371       7   \n",
       "AAACCTGCACGAAGCA-1  ...        6842.0            523.0       7.643963       2   \n",
       "AAACCTGCAGACGTAG-1  ...        9130.0            893.0       9.780942      10   \n",
       "\n",
       "                    perturbation_name  perturbation_type  perturbation_value  \\\n",
       "index                                                                          \n",
       "AAACCTGAGAAGAAGC-1            control            genetic                 NaN   \n",
       "AAACCTGAGGCATGTG-1            TSC22D1            genetic                 NaN   \n",
       "AAACCTGAGGCCCTTG-1        KLF1+MAP2K6            genetic                 NaN   \n",
       "AAACCTGCACGAAGCA-1            control            genetic                 NaN   \n",
       "AAACCTGCAGACGTAG-1      CEBPE+RUNX1T1            genetic                 NaN   \n",
       "\n",
       "                    perturbation_unit   gene_1   gene_2  \n",
       "index                                                    \n",
       "AAACCTGAGAAGAAGC-1                NaN  control  control  \n",
       "AAACCTGAGGCATGTG-1                NaN  TSC22D1  control  \n",
       "AAACCTGAGGCCCTTG-1                NaN     KLF1   MAP2K6  \n",
       "AAACCTGCACGAAGCA-1                NaN  control  control  \n",
       "AAACCTGCAGACGTAG-1                NaN    CEBPE  RUNX1T1  \n",
       "\n",
       "[5 rows x 125 columns]"
      ]
     },
     "metadata": {},
     "output_type": "display_data"
    }
   ],
   "source": [
    "display(adata.obs.iloc[:5])"
   ]
  },
  {
   "cell_type": "code",
   "execution_count": 15,
   "id": "c4372ad3-236e-45ac-b0dc-f34298c94956",
   "metadata": {},
   "outputs": [
    {
     "data": {
      "text/html": [
       "<div>\n",
       "<style scoped>\n",
       "    .dataframe tbody tr th:only-of-type {\n",
       "        vertical-align: middle;\n",
       "    }\n",
       "\n",
       "    .dataframe tbody tr th {\n",
       "        vertical-align: top;\n",
       "    }\n",
       "\n",
       "    .dataframe thead th {\n",
       "        text-align: right;\n",
       "    }\n",
       "</style>\n",
       "<table border=\"1\" class=\"dataframe\">\n",
       "  <thead>\n",
       "    <tr style=\"text-align: right;\">\n",
       "      <th></th>\n",
       "      <th>index</th>\n",
       "    </tr>\n",
       "    <tr>\n",
       "      <th>gene_symbols</th>\n",
       "      <th></th>\n",
       "    </tr>\n",
       "  </thead>\n",
       "  <tbody>\n",
       "    <tr>\n",
       "      <th>RP11-34P13.3</th>\n",
       "      <td>ENSG00000243485</td>\n",
       "    </tr>\n",
       "    <tr>\n",
       "      <th>RP11-34P13.7</th>\n",
       "      <td>ENSG00000238009</td>\n",
       "    </tr>\n",
       "    <tr>\n",
       "      <th>FO538757.2</th>\n",
       "      <td>ENSG00000279457</td>\n",
       "    </tr>\n",
       "  </tbody>\n",
       "</table>\n",
       "</div>"
      ],
      "text/plain": [
       "                        index\n",
       "gene_symbols                 \n",
       "RP11-34P13.3  ENSG00000243485\n",
       "RP11-34P13.7  ENSG00000238009\n",
       "FO538757.2    ENSG00000279457"
      ]
     },
     "metadata": {},
     "output_type": "display_data"
    }
   ],
   "source": [
    "embedding_dim = genes_pert['ENSG00000125931'].shape[0]\n",
    "# mapping maps gene_symbol to ensemble id\n",
    "mapping = pd.DataFrame()\n",
    "mapping.index = adata.var.index\n",
    "mapping.loc[:, 'index'] = adata.var['index']\n",
    "display(mapping.iloc[:3])"
   ]
  },
  {
   "cell_type": "code",
   "execution_count": 16,
   "id": "46d38f5b-535b-475a-96ca-7ada866d5e39",
   "metadata": {},
   "outputs": [
    {
     "name": "stdout",
     "output_type": "stream",
     "text": [
      "/lustre/groups/ml01/workspace/ot_perturbation/pert_embeddings/norman/norman/from_ENSG00000143674_entry_Q5TCX8_gene_names_MAP3K21_KIAA1804_MLK4_102.pt\n",
      "/lustre/groups/ml01/workspace/ot_perturbation/pert_embeddings/norman/norman/from_ENSG00000099625_entry_Q8N350_gene_names_CBARP_C19orf26_101.pt\n",
      "/lustre/groups/ml01/workspace/ot_perturbation/pert_embeddings/norman/norman/from_ENSG00000206262_entry_Q6ZUU3_gene_names_FOXL2NB_C3orf72_103.pt\n",
      "/lustre/groups/ml01/workspace/ot_perturbation/pert_embeddings/norman/norman/from_ENSG00000099625_entry_Q8N350_gene_names_CBARP_C19orf26_101.pt\n"
     ]
    }
   ],
   "source": [
    "for path in pt_files:\n",
    "    if 'KIAA1804' in path:\n",
    "        print(path)\n",
    "        break\n",
    "for path in pt_files:\n",
    "    if 'C19orf26' in path:\n",
    "        print(path)\n",
    "        break\n",
    "for path in pt_files:\n",
    "    if 'C3orf72' in path:\n",
    "        print(path)\n",
    "        break\n",
    "for path in pt_files:\n",
    "    if 'C19orf26' in path:\n",
    "        print(path)\n",
    "        break"
   ]
  },
  {
   "cell_type": "code",
   "execution_count": 17,
   "id": "21b2c3b6-3d82-414b-bd60-f17f3ea80e29",
   "metadata": {},
   "outputs": [],
   "source": [
    "# manually setting names for missing perturbations?\n",
    "mapping.loc['KIAA1804'] = 'ENSG00000143674'\n",
    "mapping.loc['C19orf26'] = 'ENSG00000099625'\n",
    "mapping.loc['C3orf72'] = 'ENSG00000206262'\n",
    "mapping.loc['KIAA1804'] = 'ENSG00000143674'"
   ]
  },
  {
   "cell_type": "code",
   "execution_count": 18,
   "id": "91eac6ea-5f96-4615-aa59-70b22829e2c0",
   "metadata": {},
   "outputs": [],
   "source": [
    "if False:\n",
    "    # Assuming you have an AnnData object named 'adata'\n",
    "    # and a dictionary named 'embedding_dict' with ENSEMBL IDs as keys and embeddings as values\n",
    "    \n",
    "    # Initialize arrays to store embeddings for gene_1 and gene_2\n",
    "    emb_1_list = []\n",
    "    emb_2_list = []\n",
    "    \n",
    "    # Iterate through gene_1 and gene_2 columns\n",
    "    for gene_1, gene_2 in zip(adata.obs['gene_1'], adata.obs['gene_2']):\n",
    "        # Fetch ENSEMBL IDs for gene_1 and gene_2\n",
    "    \n",
    "        ensembl_gene_1 = None\n",
    "        ensembl_gene_2 = None \n",
    "        \n",
    "        if gene_1 != 'control':\n",
    "            ensembl_gene_1 = mapping.loc[gene_1]['index']\n",
    "        if gene_2 != 'control':\n",
    "            ensembl_gene_2 = mapping.loc[gene_2]['index']\n",
    "        \n",
    "        # Fetch embeddings from embedding_dict\n",
    "        emb_1 = genes_pert.get(ensembl_gene_1, np.zeros(embedding_dim))\n",
    "        emb_2 = genes_pert.get(ensembl_gene_2, np.zeros(embedding_dim))\n",
    "        \n",
    "        # Append embeddings to lists\n",
    "        emb_1_list.append(emb_1)\n",
    "        emb_2_list.append(emb_2)\n",
    "    \n",
    "    # Convert lists to arrays\n",
    "    emb_1_array = np.array(emb_1_list)\n",
    "    emb_2_array = np.array(emb_2_list)\n",
    "    \n",
    "    # Assign arrays to obsm attribute\n",
    "    adata.obsm['emb_1'] = emb_1_array\n",
    "    adata.obsm['emb_2'] = emb_2_array"
   ]
  },
  {
   "cell_type": "code",
   "execution_count": 19,
   "id": "cdd17849-875a-4a05-b0c6-36e61e002be2",
   "metadata": {},
   "outputs": [],
   "source": [
    "perturbed_genes = np.unique(\n",
    "    adata.obs.loc[:, 'gene_1'].values.tolist() + \\\n",
    "    adata.obs.loc[:, 'gene_2'].values.tolist()\n",
    ")\n",
    "\n",
    "gene_to_embedding = {}\n",
    "\n",
    "for gene in perturbed_genes:\n",
    "    gene_to_embedding[gene] = genes_pert[mapping.loc['AHR', \"index\"]]\n",
    "gene_to_embedding[\"control\"] = np.zeros_like(gene_to_embedding[\"control\"])\n",
    "adata.uns['ems2'] = gene_to_embedding"
   ]
  },
  {
   "cell_type": "code",
   "execution_count": 20,
   "id": "5885d37b-f4e6-48bb-9eb7-05a099f465b4",
   "metadata": {},
   "outputs": [],
   "source": [
    "def column_to_barplot(adata, column, figsize=(10, 10), fontsize=8):\n",
    "    fig, ax = plt.subplots(1,1, figsize=figsize)\n",
    "    _tmp = adata.obs[column].value_counts().to_frame()\n",
    "    sns.barplot(\n",
    "        data=_tmp,\n",
    "        ax=ax,\n",
    "        x=\"count\",\n",
    "        y=column,\n",
    "        order=_tmp.sort_values(by=\"count\", ascending=False).index,\n",
    "    )\n",
    "    plt.yticks(fontsize=fontsize)\n",
    "    plt.show()"
   ]
  },
  {
   "cell_type": "code",
   "execution_count": 21,
   "id": "c1a6250d-ce22-4a36-8504-c496eaf8cf67",
   "metadata": {},
   "outputs": [
    {
     "data": {
      "image/png": "[encoded data removed]",
      "text/plain": [
       "<Figure size 1000x3000 with 1 Axes>"
      ]
     },
     "metadata": {},
     "output_type": "display_data"
    }
   ],
   "source": [
    "column_to_barplot(adata, \"perturbation_name\", figsize = (10, 30), fontsize=6)"
   ]
  },
  {
   "cell_type": "code",
   "execution_count": 22,
   "id": "f9af087e-d329-481f-9998-66fde7ccad8e",
   "metadata": {},
   "outputs": [
    {
     "data": {
      "text/plain": [
       "gene_1\n",
       "control    11835\n",
       "CEBPE       5313\n",
       "ETS2        3632\n",
       "KLF1        3220\n",
       "DUSP9       3032\n",
       "           ...  \n",
       "FOXO4        215\n",
       "PLK4         194\n",
       "NIT1         191\n",
       "ZBTB10       160\n",
       "HES7         126\n",
       "Name: count, Length: 106, dtype: int64"
      ]
     },
     "metadata": {},
     "output_type": "display_data"
    },
    {
     "data": {
      "image/png": "[encoded data removed]",
      "text/plain": [
       "<Figure size 1000x2000 with 1 Axes>"
      ]
     },
     "metadata": {},
     "output_type": "display_data"
    }
   ],
   "source": [
    "display(adata.obs[\"gene_1\"].value_counts())\n",
    "column_to_barplot(adata, \"gene_1\", figsize = (10, 20), fontsize=8)"
   ]
  },
  {
   "cell_type": "code",
   "execution_count": 23,
   "id": "1d462320-5b65-4343-96bd-9af58cf51e80",
   "metadata": {},
   "outputs": [
    {
     "data": {
      "text/plain": [
       "gene_2\n",
       "control    69570\n",
       "UBASH3B     3742\n",
       "KLF1        2911\n",
       "TGFBR2      2758\n",
       "MAPK1       2226\n",
       "SET         2088\n",
       "ETS2        2044\n",
       "PTPN12      1761\n",
       "MAP2K6      1581\n",
       "TBX3        1463\n",
       "PRTG        1381\n",
       "RUNX1T1     1215\n",
       "ZC3HAV1     1112\n",
       "ZBTB25       961\n",
       "HOXB9        917\n",
       "MAP2K3       841\n",
       "IGDCC3       823\n",
       "LYL1         814\n",
       "IKZF3        691\n",
       "PTPN9        669\n",
       "SAMD1        651\n",
       "LHX1         645\n",
       "ZBTB10       636\n",
       "MAP7D1       601\n",
       "SNAI1        594\n",
       "OSR2         593\n",
       "CNN1         585\n",
       "FOXL2        571\n",
       "UBASH3A      552\n",
       "ZBTB1        548\n",
       "POU3F2       525\n",
       "SPI1         481\n",
       "FOXF1        447\n",
       "FEV          435\n",
       "SGK1         356\n",
       "TBX2         349\n",
       "SLC38A2      338\n",
       "TMSB4X       328\n",
       "CEBPE        293\n",
       "ISL2         284\n",
       "ZNF318       245\n",
       "CDKN1C       232\n",
       "FOSB         222\n",
       "FOXA3        216\n",
       "MEIS1        193\n",
       "BCL2L11      175\n",
       "CDKN1B       134\n",
       "JUN          113\n",
       "PRDM1        105\n",
       "KIF2C         95\n",
       "STIL          81\n",
       "CEBPB         64\n",
       "Name: count, dtype: int64"
      ]
     },
     "metadata": {},
     "output_type": "display_data"
    },
    {
     "data": {
      "image/png": "[encoded data removed]",
      "text/plain": [
       "<Figure size 1000x1000 with 1 Axes>"
      ]
     },
     "metadata": {},
     "output_type": "display_data"
    }
   ],
   "source": [
    "display(adata.obs[\"gene_2\"].value_counts())\n",
    "column_to_barplot(adata, \"gene_2\", figsize = (10, 10), fontsize=8)"
   ]
  },
  {
   "cell_type": "code",
   "execution_count": 24,
   "id": "f52cac45-65ac-4c0b-9a2a-bb521a20a2fe",
   "metadata": {},
   "outputs": [],
   "source": [
    "# basic preprocessing\n",
    "adata.X = adata.layers[\"counts\"]\n",
    "sc.pp.normalize_total(adata)\n",
    "sc.pp.log1p(adata)\n",
    "sc.pp.highly_variable_genes(adata, inplace=True, n_top_genes=2000, subset=True)"
   ]
  },
  {
   "cell_type": "code",
   "execution_count": 25,
   "id": "adb3969f-e29b-4037-b015-80ed76c7e88d",
   "metadata": {},
   "outputs": [
    {
     "data": {
      "text/html": [
       "<div>\n",
       "<style scoped>\n",
       "    .dataframe tbody tr th:only-of-type {\n",
       "        vertical-align: middle;\n",
       "    }\n",
       "\n",
       "    .dataframe tbody tr th {\n",
       "        vertical-align: top;\n",
       "    }\n",
       "\n",
       "    .dataframe thead th {\n",
       "        text-align: right;\n",
       "    }\n",
       "</style>\n",
       "<table border=\"1\" class=\"dataframe\">\n",
       "  <thead>\n",
       "    <tr style=\"text-align: right;\">\n",
       "      <th></th>\n",
       "      <th>guide_identity</th>\n",
       "      <th>read_count</th>\n",
       "      <th>UMI_count</th>\n",
       "      <th>coverage</th>\n",
       "      <th>gemgroup</th>\n",
       "      <th>good_coverage</th>\n",
       "      <th>number_of_cells</th>\n",
       "      <th>guide_AHR</th>\n",
       "      <th>guide_ARID1A</th>\n",
       "      <th>guide_ARRDC3</th>\n",
       "      <th>...</th>\n",
       "      <th>pct_counts_mt</th>\n",
       "      <th>leiden</th>\n",
       "      <th>perturbation_name</th>\n",
       "      <th>perturbation_type</th>\n",
       "      <th>perturbation_value</th>\n",
       "      <th>perturbation_unit</th>\n",
       "      <th>gene_1</th>\n",
       "      <th>gene_2</th>\n",
       "      <th>control</th>\n",
       "      <th>cell_line</th>\n",
       "    </tr>\n",
       "    <tr>\n",
       "      <th>index</th>\n",
       "      <th></th>\n",
       "      <th></th>\n",
       "      <th></th>\n",
       "      <th></th>\n",
       "      <th></th>\n",
       "      <th></th>\n",
       "      <th></th>\n",
       "      <th></th>\n",
       "      <th></th>\n",
       "      <th></th>\n",
       "      <th></th>\n",
       "      <th></th>\n",
       "      <th></th>\n",
       "      <th></th>\n",
       "      <th></th>\n",
       "      <th></th>\n",
       "      <th></th>\n",
       "      <th></th>\n",
       "      <th></th>\n",
       "      <th></th>\n",
       "      <th></th>\n",
       "    </tr>\n",
       "  </thead>\n",
       "  <tbody>\n",
       "    <tr>\n",
       "      <th>AAACCTGAGAAGAAGC-1</th>\n",
       "      <td>NegCtrl0_NegCtrl0__NegCtrl0_NegCtrl0</td>\n",
       "      <td>1252</td>\n",
       "      <td>67</td>\n",
       "      <td>18.686567</td>\n",
       "      <td>1</td>\n",
       "      <td>True</td>\n",
       "      <td>2</td>\n",
       "      <td>0</td>\n",
       "      <td>0</td>\n",
       "      <td>0</td>\n",
       "      <td>...</td>\n",
       "      <td>6.835625</td>\n",
       "      <td>10</td>\n",
       "      <td>control</td>\n",
       "      <td>genetic</td>\n",
       "      <td>NaN</td>\n",
       "      <td>NaN</td>\n",
       "      <td>control</td>\n",
       "      <td>control</td>\n",
       "      <td>True</td>\n",
       "      <td>K562</td>\n",
       "    </tr>\n",
       "    <tr>\n",
       "      <th>AAACCTGAGGCATGTG-1</th>\n",
       "      <td>TSC22D1_NegCtrl0__TSC22D1_NegCtrl0</td>\n",
       "      <td>2151</td>\n",
       "      <td>104</td>\n",
       "      <td>20.682692</td>\n",
       "      <td>1</td>\n",
       "      <td>True</td>\n",
       "      <td>1</td>\n",
       "      <td>0</td>\n",
       "      <td>0</td>\n",
       "      <td>0</td>\n",
       "      <td>...</td>\n",
       "      <td>7.139676</td>\n",
       "      <td>3</td>\n",
       "      <td>TSC22D1</td>\n",
       "      <td>genetic</td>\n",
       "      <td>NaN</td>\n",
       "      <td>NaN</td>\n",
       "      <td>TSC22D1</td>\n",
       "      <td>control</td>\n",
       "      <td>False</td>\n",
       "      <td>K562</td>\n",
       "    </tr>\n",
       "    <tr>\n",
       "      <th>AAACCTGAGGCCCTTG-1</th>\n",
       "      <td>KLF1_MAP2K6__KLF1_MAP2K6</td>\n",
       "      <td>1037</td>\n",
       "      <td>59</td>\n",
       "      <td>17.576271</td>\n",
       "      <td>1</td>\n",
       "      <td>True</td>\n",
       "      <td>1</td>\n",
       "      <td>0</td>\n",
       "      <td>0</td>\n",
       "      <td>0</td>\n",
       "      <td>...</td>\n",
       "      <td>6.664371</td>\n",
       "      <td>7</td>\n",
       "      <td>KLF1+MAP2K6</td>\n",
       "      <td>genetic</td>\n",
       "      <td>NaN</td>\n",
       "      <td>NaN</td>\n",
       "      <td>KLF1</td>\n",
       "      <td>MAP2K6</td>\n",
       "      <td>False</td>\n",
       "      <td>K562</td>\n",
       "    </tr>\n",
       "    <tr>\n",
       "      <th>AAACCTGCACGAAGCA-1</th>\n",
       "      <td>NegCtrl10_NegCtrl0__NegCtrl10_NegCtrl0</td>\n",
       "      <td>958</td>\n",
       "      <td>39</td>\n",
       "      <td>24.564103</td>\n",
       "      <td>1</td>\n",
       "      <td>True</td>\n",
       "      <td>1</td>\n",
       "      <td>0</td>\n",
       "      <td>0</td>\n",
       "      <td>0</td>\n",
       "      <td>...</td>\n",
       "      <td>7.643963</td>\n",
       "      <td>2</td>\n",
       "      <td>control</td>\n",
       "      <td>genetic</td>\n",
       "      <td>NaN</td>\n",
       "      <td>NaN</td>\n",
       "      <td>control</td>\n",
       "      <td>control</td>\n",
       "      <td>True</td>\n",
       "      <td>K562</td>\n",
       "    </tr>\n",
       "    <tr>\n",
       "      <th>AAACCTGCAGACGTAG-1</th>\n",
       "      <td>CEBPE_RUNX1T1__CEBPE_RUNX1T1</td>\n",
       "      <td>244</td>\n",
       "      <td>14</td>\n",
       "      <td>17.428571</td>\n",
       "      <td>1</td>\n",
       "      <td>True</td>\n",
       "      <td>1</td>\n",
       "      <td>0</td>\n",
       "      <td>0</td>\n",
       "      <td>0</td>\n",
       "      <td>...</td>\n",
       "      <td>9.780942</td>\n",
       "      <td>10</td>\n",
       "      <td>CEBPE+RUNX1T1</td>\n",
       "      <td>genetic</td>\n",
       "      <td>NaN</td>\n",
       "      <td>NaN</td>\n",
       "      <td>CEBPE</td>\n",
       "      <td>RUNX1T1</td>\n",
       "      <td>False</td>\n",
       "      <td>K562</td>\n",
       "    </tr>\n",
       "    <tr>\n",
       "      <th>...</th>\n",
       "      <td>...</td>\n",
       "      <td>...</td>\n",
       "      <td>...</td>\n",
       "      <td>...</td>\n",
       "      <td>...</td>\n",
       "      <td>...</td>\n",
       "      <td>...</td>\n",
       "      <td>...</td>\n",
       "      <td>...</td>\n",
       "      <td>...</td>\n",
       "      <td>...</td>\n",
       "      <td>...</td>\n",
       "      <td>...</td>\n",
       "      <td>...</td>\n",
       "      <td>...</td>\n",
       "      <td>...</td>\n",
       "      <td>...</td>\n",
       "      <td>...</td>\n",
       "      <td>...</td>\n",
       "      <td>...</td>\n",
       "      <td>...</td>\n",
       "    </tr>\n",
       "    <tr>\n",
       "      <th>TTTGTCATCAGTACGT-8</th>\n",
       "      <td>FOXA3_NegCtrl0__FOXA3_NegCtrl0</td>\n",
       "      <td>2068</td>\n",
       "      <td>95</td>\n",
       "      <td>21.768421</td>\n",
       "      <td>8</td>\n",
       "      <td>True</td>\n",
       "      <td>1</td>\n",
       "      <td>0</td>\n",
       "      <td>0</td>\n",
       "      <td>0</td>\n",
       "      <td>...</td>\n",
       "      <td>6.097644</td>\n",
       "      <td>3</td>\n",
       "      <td>FOXA3</td>\n",
       "      <td>genetic</td>\n",
       "      <td>NaN</td>\n",
       "      <td>NaN</td>\n",
       "      <td>FOXA3</td>\n",
       "      <td>control</td>\n",
       "      <td>False</td>\n",
       "      <td>K562</td>\n",
       "    </tr>\n",
       "    <tr>\n",
       "      <th>TTTGTCATCCACTCCA-8</th>\n",
       "      <td>CELF2_NegCtrl0__CELF2_NegCtrl0</td>\n",
       "      <td>829</td>\n",
       "      <td>33</td>\n",
       "      <td>25.121212</td>\n",
       "      <td>8</td>\n",
       "      <td>True</td>\n",
       "      <td>1</td>\n",
       "      <td>0</td>\n",
       "      <td>0</td>\n",
       "      <td>0</td>\n",
       "      <td>...</td>\n",
       "      <td>5.805128</td>\n",
       "      <td>10</td>\n",
       "      <td>CELF2</td>\n",
       "      <td>genetic</td>\n",
       "      <td>NaN</td>\n",
       "      <td>NaN</td>\n",
       "      <td>CELF2</td>\n",
       "      <td>control</td>\n",
       "      <td>False</td>\n",
       "      <td>K562</td>\n",
       "    </tr>\n",
       "    <tr>\n",
       "      <th>TTTGTCATCCCAACGG-8</th>\n",
       "      <td>BCORL1_NegCtrl0__BCORL1_NegCtrl0</td>\n",
       "      <td>136</td>\n",
       "      <td>9</td>\n",
       "      <td>15.111111</td>\n",
       "      <td>8</td>\n",
       "      <td>True</td>\n",
       "      <td>1</td>\n",
       "      <td>0</td>\n",
       "      <td>0</td>\n",
       "      <td>0</td>\n",
       "      <td>...</td>\n",
       "      <td>5.651672</td>\n",
       "      <td>4</td>\n",
       "      <td>BCORL1</td>\n",
       "      <td>genetic</td>\n",
       "      <td>NaN</td>\n",
       "      <td>NaN</td>\n",
       "      <td>BCORL1</td>\n",
       "      <td>control</td>\n",
       "      <td>False</td>\n",
       "      <td>K562</td>\n",
       "    </tr>\n",
       "    <tr>\n",
       "      <th>TTTGTCATCCTCCTAG-8</th>\n",
       "      <td>ZBTB10_PTPN12__ZBTB10_PTPN12</td>\n",
       "      <td>1254</td>\n",
       "      <td>59</td>\n",
       "      <td>21.254237</td>\n",
       "      <td>8</td>\n",
       "      <td>True</td>\n",
       "      <td>3</td>\n",
       "      <td>0</td>\n",
       "      <td>0</td>\n",
       "      <td>0</td>\n",
       "      <td>...</td>\n",
       "      <td>5.303108</td>\n",
       "      <td>5</td>\n",
       "      <td>PTPN12+ZBTB10</td>\n",
       "      <td>genetic</td>\n",
       "      <td>NaN</td>\n",
       "      <td>NaN</td>\n",
       "      <td>PTPN12</td>\n",
       "      <td>ZBTB10</td>\n",
       "      <td>False</td>\n",
       "      <td>K562</td>\n",
       "    </tr>\n",
       "    <tr>\n",
       "      <th>TTTGTCATCTGGCGAC-8</th>\n",
       "      <td>MAP4K3_NegCtrl0__MAP4K3_NegCtrl0</td>\n",
       "      <td>1226</td>\n",
       "      <td>59</td>\n",
       "      <td>20.779661</td>\n",
       "      <td>8</td>\n",
       "      <td>True</td>\n",
       "      <td>1</td>\n",
       "      <td>0</td>\n",
       "      <td>0</td>\n",
       "      <td>0</td>\n",
       "      <td>...</td>\n",
       "      <td>6.904267</td>\n",
       "      <td>0</td>\n",
       "      <td>MAP4K3</td>\n",
       "      <td>genetic</td>\n",
       "      <td>NaN</td>\n",
       "      <td>NaN</td>\n",
       "      <td>MAP4K3</td>\n",
       "      <td>control</td>\n",
       "      <td>False</td>\n",
       "      <td>K562</td>\n",
       "    </tr>\n",
       "  </tbody>\n",
       "</table>\n",
       "<p>111255 rows × 127 columns</p>\n",
       "</div>"
      ],
      "text/plain": [
       "                                            guide_identity  read_count  \\\n",
       "index                                                                    \n",
       "AAACCTGAGAAGAAGC-1    NegCtrl0_NegCtrl0__NegCtrl0_NegCtrl0        1252   \n",
       "AAACCTGAGGCATGTG-1      TSC22D1_NegCtrl0__TSC22D1_NegCtrl0        2151   \n",
       "AAACCTGAGGCCCTTG-1                KLF1_MAP2K6__KLF1_MAP2K6        1037   \n",
       "AAACCTGCACGAAGCA-1  NegCtrl10_NegCtrl0__NegCtrl10_NegCtrl0         958   \n",
       "AAACCTGCAGACGTAG-1            CEBPE_RUNX1T1__CEBPE_RUNX1T1         244   \n",
       "...                                                    ...         ...   \n",
       "TTTGTCATCAGTACGT-8          FOXA3_NegCtrl0__FOXA3_NegCtrl0        2068   \n",
       "TTTGTCATCCACTCCA-8          CELF2_NegCtrl0__CELF2_NegCtrl0         829   \n",
       "TTTGTCATCCCAACGG-8        BCORL1_NegCtrl0__BCORL1_NegCtrl0         136   \n",
       "TTTGTCATCCTCCTAG-8            ZBTB10_PTPN12__ZBTB10_PTPN12        1254   \n",
       "TTTGTCATCTGGCGAC-8        MAP4K3_NegCtrl0__MAP4K3_NegCtrl0        1226   \n",
       "\n",
       "                    UMI_count   coverage  gemgroup  good_coverage  \\\n",
       "index                                                               \n",
       "AAACCTGAGAAGAAGC-1         67  18.686567         1           True   \n",
       "AAACCTGAGGCATGTG-1        104  20.682692         1           True   \n",
       "AAACCTGAGGCCCTTG-1         59  17.576271         1           True   \n",
       "AAACCTGCACGAAGCA-1         39  24.564103         1           True   \n",
       "AAACCTGCAGACGTAG-1         14  17.428571         1           True   \n",
       "...                       ...        ...       ...            ...   \n",
       "TTTGTCATCAGTACGT-8         95  21.768421         8           True   \n",
       "TTTGTCATCCACTCCA-8         33  25.121212         8           True   \n",
       "TTTGTCATCCCAACGG-8          9  15.111111         8           True   \n",
       "TTTGTCATCCTCCTAG-8         59  21.254237         8           True   \n",
       "TTTGTCATCTGGCGAC-8         59  20.779661         8           True   \n",
       "\n",
       "                    number_of_cells  guide_AHR  guide_ARID1A  guide_ARRDC3  \\\n",
       "index                                                                        \n",
       "AAACCTGAGAAGAAGC-1                2          0             0             0   \n",
       "AAACCTGAGGCATGTG-1                1          0             0             0   \n",
       "AAACCTGAGGCCCTTG-1                1          0             0             0   \n",
       "AAACCTGCACGAAGCA-1                1          0             0             0   \n",
       "AAACCTGCAGACGTAG-1                1          0             0             0   \n",
       "...                             ...        ...           ...           ...   \n",
       "TTTGTCATCAGTACGT-8                1          0             0             0   \n",
       "TTTGTCATCCACTCCA-8                1          0             0             0   \n",
       "TTTGTCATCCCAACGG-8                1          0             0             0   \n",
       "TTTGTCATCCTCCTAG-8                3          0             0             0   \n",
       "TTTGTCATCTGGCGAC-8                1          0             0             0   \n",
       "\n",
       "                    ...  pct_counts_mt  leiden  perturbation_name  \\\n",
       "index               ...                                             \n",
       "AAACCTGAGAAGAAGC-1  ...       6.835625      10            control   \n",
       "AAACCTGAGGCATGTG-1  ...       7.139676       3            TSC22D1   \n",
       "AAACCTGAGGCCCTTG-1  ...       6.664371       7        KLF1+MAP2K6   \n",
       "AAACCTGCACGAAGCA-1  ...       7.643963       2            control   \n",
       "AAACCTGCAGACGTAG-1  ...       9.780942      10      CEBPE+RUNX1T1   \n",
       "...                 ...            ...     ...                ...   \n",
       "TTTGTCATCAGTACGT-8  ...       6.097644       3              FOXA3   \n",
       "TTTGTCATCCACTCCA-8  ...       5.805128      10              CELF2   \n",
       "TTTGTCATCCCAACGG-8  ...       5.651672       4             BCORL1   \n",
       "TTTGTCATCCTCCTAG-8  ...       5.303108       5      PTPN12+ZBTB10   \n",
       "TTTGTCATCTGGCGAC-8  ...       6.904267       0             MAP4K3   \n",
       "\n",
       "                    perturbation_type  perturbation_value  perturbation_unit  \\\n",
       "index                                                                          \n",
       "AAACCTGAGAAGAAGC-1            genetic                 NaN                NaN   \n",
       "AAACCTGAGGCATGTG-1            genetic                 NaN                NaN   \n",
       "AAACCTGAGGCCCTTG-1            genetic                 NaN                NaN   \n",
       "AAACCTGCACGAAGCA-1            genetic                 NaN                NaN   \n",
       "AAACCTGCAGACGTAG-1            genetic                 NaN                NaN   \n",
       "...                               ...                 ...                ...   \n",
       "TTTGTCATCAGTACGT-8            genetic                 NaN                NaN   \n",
       "TTTGTCATCCACTCCA-8            genetic                 NaN                NaN   \n",
       "TTTGTCATCCCAACGG-8            genetic                 NaN                NaN   \n",
       "TTTGTCATCCTCCTAG-8            genetic                 NaN                NaN   \n",
       "TTTGTCATCTGGCGAC-8            genetic                 NaN                NaN   \n",
       "\n",
       "                     gene_1   gene_2  control  cell_line  \n",
       "index                                                     \n",
       "AAACCTGAGAAGAAGC-1  control  control     True       K562  \n",
       "AAACCTGAGGCATGTG-1  TSC22D1  control    False       K562  \n",
       "AAACCTGAGGCCCTTG-1     KLF1   MAP2K6    False       K562  \n",
       "AAACCTGCACGAAGCA-1  control  control     True       K562  \n",
       "AAACCTGCAGACGTAG-1    CEBPE  RUNX1T1    False       K562  \n",
       "...                     ...      ...      ...        ...  \n",
       "TTTGTCATCAGTACGT-8    FOXA3  control    False       K562  \n",
       "TTTGTCATCCACTCCA-8    CELF2  control    False       K562  \n",
       "TTTGTCATCCCAACGG-8   BCORL1  control    False       K562  \n",
       "TTTGTCATCCTCCTAG-8   PTPN12   ZBTB10    False       K562  \n",
       "TTTGTCATCTGGCGAC-8   MAP4K3  control    False       K562  \n",
       "\n",
       "[111255 rows x 127 columns]"
      ]
     },
     "metadata": {},
     "output_type": "display_data"
    }
   ],
   "source": [
    "# add boolean column that indicates control cells, add cell_line column\n",
    "adata.obs.loc[:, \"control\"] = (adata.obs.loc[:, \"gene_1\"] == \"control\") & (adata.obs.loc[:, \"gene_2\"] == \"control\")\n",
    "adata.obs[\"cell_line\"] = 'K562'\n",
    "display(adata.obs)"
   ]
  },
  {
   "cell_type": "markdown",
   "id": "1fb7aa40-537a-4fda-84e0-c448aa9e100d",
   "metadata": {},
   "source": [
    "### Important!\n",
    "\n",
    "\n",
    "We are gonna compare against GEARS with different settings, we need to build different splits. In all of them we rank the perturbations using Sinkhorn Divergence, so better doing it now."
   ]
  },
  {
   "cell_type": "code",
   "execution_count": 26,
   "id": "a08da7f7-726c-40d3-ab3c-39be25d20fa1",
   "metadata": {},
   "outputs": [],
   "source": [
    "from ott.geometry import costs, pointcloud\n",
    "from ott.solvers.linear import sinkhorn\n",
    "from ott.solvers import linear\n",
    "from ott.tools.sinkhorn_divergence import sinkhorn_divergence\n",
    "\n",
    "pert_effects = {}\n",
    "sc.pp.pca(adata)\n",
    "control_adata = adata[adata.obs.control]"
   ]
  },
  {
   "cell_type": "code",
   "execution_count": 27,
   "id": "89d50257-bbe6-49d3-910d-ccc458a51e1c",
   "metadata": {},
   "outputs": [],
   "source": [
    "sc.pp.subsample(control_adata, 0.15)"
   ]
  },
  {
   "cell_type": "code",
   "execution_count": 28,
   "id": "76db58a3-b86b-43dc-b4db-9ed7d82d96c8",
   "metadata": {},
   "outputs": [
    {
     "data": {
      "text/plain": [
       "1775"
      ]
     },
     "execution_count": 28,
     "metadata": {},
     "output_type": "execute_result"
    }
   ],
   "source": [
    "control_adata.n_obs"
   ]
  },
  {
   "cell_type": "code",
   "execution_count": 34,
   "id": "28dc05b5-ac1d-4ae0-aaf9-326c6c155c18",
   "metadata": {},
   "outputs": [
    {
     "name": "stderr",
     "output_type": "stream",
     "text": [
      "  0%|          | 0/237 [00:00<?, ?it/s]"
     ]
    },
    {
     "name": "stdout",
     "output_type": "stream",
     "text": [
      "(1775, 50) (440, 50)\n"
     ]
    },
    {
     "name": "stderr",
     "output_type": "stream",
     "text": [
      "  1%|          | 2/237 [00:01<02:16,  1.73it/s]"
     ]
    },
    {
     "name": "stdout",
     "output_type": "stream",
     "text": [
      "(1775, 50) (263, 50)\n"
     ]
    },
    {
     "name": "stderr",
     "output_type": "stream",
     "text": [
      "  1%|▏         | 3/237 [00:02<03:14,  1.20it/s]"
     ]
    },
    {
     "name": "stdout",
     "output_type": "stream",
     "text": [
      "(1775, 50) (1215, 50)\n"
     ]
    },
    {
     "name": "stderr",
     "output_type": "stream",
     "text": [
      "  2%|▏         | 4/237 [00:03<04:03,  1.05s/it]"
     ]
    },
    {
     "name": "stdout",
     "output_type": "stream",
     "text": [
      "(1775, 50) (624, 50)\n"
     ]
    },
    {
     "name": "stderr",
     "output_type": "stream",
     "text": [
      "  2%|▏         | 5/237 [00:04<04:13,  1.09s/it]"
     ]
    },
    {
     "name": "stdout",
     "output_type": "stream",
     "text": [
      "(1775, 50) (1230, 50)\n"
     ]
    },
    {
     "name": "stderr",
     "output_type": "stream",
     "text": [
      "  3%|▎         | 6/237 [00:06<04:40,  1.21s/it]"
     ]
    },
    {
     "name": "stdout",
     "output_type": "stream",
     "text": [
      "(1775, 50) (324, 50)\n"
     ]
    },
    {
     "name": "stderr",
     "output_type": "stream",
     "text": [
      "  3%|▎         | 7/237 [00:07<04:36,  1.20s/it]"
     ]
    },
    {
     "name": "stdout",
     "output_type": "stream",
     "text": [
      "(1775, 50) (305, 50)\n"
     ]
    },
    {
     "name": "stderr",
     "output_type": "stream",
     "text": [
      "  3%|▎         | 8/237 [00:09<04:59,  1.31s/it]"
     ]
    },
    {
     "name": "stdout",
     "output_type": "stream",
     "text": [
      "(1775, 50) (645, 50)\n"
     ]
    },
    {
     "name": "stderr",
     "output_type": "stream",
     "text": [
      "  4%|▍         | 9/237 [00:11<06:47,  1.79s/it]"
     ]
    },
    {
     "name": "stdout",
     "output_type": "stream",
     "text": [
      "(1775, 50) (318, 50)\n"
     ]
    },
    {
     "name": "stderr",
     "output_type": "stream",
     "text": [
      "  4%|▍         | 10/237 [00:14<07:41,  2.03s/it]"
     ]
    },
    {
     "name": "stdout",
     "output_type": "stream",
     "text": [
      "(1775, 50) (299, 50)\n"
     ]
    },
    {
     "name": "stderr",
     "output_type": "stream",
     "text": [
      "  5%|▍         | 11/237 [00:17<08:22,  2.23s/it]"
     ]
    },
    {
     "name": "stdout",
     "output_type": "stream",
     "text": [
      "(1775, 50) (729, 50)\n"
     ]
    },
    {
     "name": "stderr",
     "output_type": "stream",
     "text": [
      "  5%|▌         | 12/237 [00:19<08:53,  2.37s/it]"
     ]
    },
    {
     "name": "stdout",
     "output_type": "stream",
     "text": [
      "(1775, 50) (302, 50)\n"
     ]
    },
    {
     "name": "stderr",
     "output_type": "stream",
     "text": [
      "  5%|▌         | 13/237 [00:22<09:06,  2.44s/it]"
     ]
    },
    {
     "name": "stdout",
     "output_type": "stream",
     "text": [
      "(1775, 50) (935, 50)\n"
     ]
    },
    {
     "name": "stderr",
     "output_type": "stream",
     "text": [
      "  6%|▌         | 14/237 [00:25<09:35,  2.58s/it]"
     ]
    },
    {
     "name": "stdout",
     "output_type": "stream",
     "text": [
      "(1775, 50) (1201, 50)\n"
     ]
    },
    {
     "name": "stderr",
     "output_type": "stream",
     "text": [
      "  6%|▋         | 15/237 [00:28<10:35,  2.86s/it]"
     ]
    },
    {
     "name": "stdout",
     "output_type": "stream",
     "text": [
      "(1775, 50) (297, 50)\n"
     ]
    },
    {
     "name": "stderr",
     "output_type": "stream",
     "text": [
      "  7%|▋         | 16/237 [00:31<10:23,  2.82s/it]"
     ]
    },
    {
     "name": "stdout",
     "output_type": "stream",
     "text": [
      "(1775, 50) (850, 50)\n"
     ]
    },
    {
     "name": "stderr",
     "output_type": "stream",
     "text": [
      "  7%|▋         | 17/237 [00:34<10:28,  2.86s/it]"
     ]
    },
    {
     "name": "stdout",
     "output_type": "stream",
     "text": [
      "(1775, 50) (216, 50)\n"
     ]
    },
    {
     "name": "stderr",
     "output_type": "stream",
     "text": [
      "  8%|▊         | 18/237 [00:37<10:10,  2.79s/it]"
     ]
    },
    {
     "name": "stdout",
     "output_type": "stream",
     "text": [
      "(1775, 50) (441, 50)\n"
     ]
    },
    {
     "name": "stderr",
     "output_type": "stream",
     "text": [
      "  8%|▊         | 19/237 [00:39<10:00,  2.76s/it]"
     ]
    },
    {
     "name": "stdout",
     "output_type": "stream",
     "text": [
      "(1775, 50) (533, 50)\n"
     ]
    },
    {
     "name": "stderr",
     "output_type": "stream",
     "text": [
      "  8%|▊         | 20/237 [00:42<09:57,  2.76s/it]"
     ]
    },
    {
     "name": "stdout",
     "output_type": "stream",
     "text": [
      "(1775, 50) (775, 50)\n"
     ]
    },
    {
     "name": "stderr",
     "output_type": "stream",
     "text": [
      "  9%|▉         | 21/237 [00:45<10:07,  2.81s/it]"
     ]
    },
    {
     "name": "stdout",
     "output_type": "stream",
     "text": [
      "(1775, 50) (463, 50)\n"
     ]
    },
    {
     "name": "stderr",
     "output_type": "stream",
     "text": [
      "  9%|▉         | 22/237 [00:48<09:58,  2.78s/it]"
     ]
    },
    {
     "name": "stdout",
     "output_type": "stream",
     "text": [
      "(1775, 50) (1954, 50)\n"
     ]
    },
    {
     "name": "stderr",
     "output_type": "stream",
     "text": [
      " 10%|▉         | 23/237 [00:51<10:11,  2.86s/it]"
     ]
    },
    {
     "name": "stdout",
     "output_type": "stream",
     "text": [
      "(1775, 50) (338, 50)\n"
     ]
    },
    {
     "name": "stderr",
     "output_type": "stream",
     "text": [
      " 10%|█         | 24/237 [00:54<09:54,  2.79s/it]"
     ]
    },
    {
     "name": "stdout",
     "output_type": "stream",
     "text": [
      "(1775, 50) (300, 50)\n"
     ]
    },
    {
     "name": "stderr",
     "output_type": "stream",
     "text": [
      " 11%|█         | 25/237 [00:56<09:45,  2.76s/it]"
     ]
    },
    {
     "name": "stdout",
     "output_type": "stream",
     "text": [
      "(1775, 50) (1451, 50)\n"
     ]
    },
    {
     "name": "stderr",
     "output_type": "stream",
     "text": [
      " 11%|█         | 26/237 [00:59<09:58,  2.83s/it]"
     ]
    },
    {
     "name": "stdout",
     "output_type": "stream",
     "text": [
      "(1775, 50) (703, 50)\n"
     ]
    },
    {
     "name": "stderr",
     "output_type": "stream",
     "text": [
      " 11%|█▏        | 27/237 [01:02<10:00,  2.86s/it]"
     ]
    },
    {
     "name": "stdout",
     "output_type": "stream",
     "text": [
      "(1775, 50) (338, 50)\n"
     ]
    },
    {
     "name": "stderr",
     "output_type": "stream",
     "text": [
      " 12%|█▏        | 28/237 [01:03<08:14,  2.36s/it]"
     ]
    },
    {
     "name": "stdout",
     "output_type": "stream",
     "text": [
      "(1775, 50) (379, 50)\n"
     ]
    },
    {
     "name": "stderr",
     "output_type": "stream",
     "text": [
      " 12%|█▏        | 29/237 [01:06<08:36,  2.48s/it]"
     ]
    },
    {
     "name": "stdout",
     "output_type": "stream",
     "text": [
      "(1775, 50) (663, 50)\n"
     ]
    },
    {
     "name": "stderr",
     "output_type": "stream",
     "text": [
      " 13%|█▎        | 30/237 [01:09<08:50,  2.56s/it]"
     ]
    },
    {
     "name": "stdout",
     "output_type": "stream",
     "text": [
      "(1775, 50) (1201, 50)\n"
     ]
    },
    {
     "name": "stderr",
     "output_type": "stream",
     "text": [
      " 13%|█▎        | 31/237 [01:10<07:32,  2.20s/it]"
     ]
    },
    {
     "name": "stdout",
     "output_type": "stream",
     "text": [
      "(1775, 50) (985, 50)\n"
     ]
    },
    {
     "name": "stderr",
     "output_type": "stream",
     "text": [
      " 14%|█▎        | 32/237 [01:13<08:12,  2.40s/it]"
     ]
    },
    {
     "name": "stdout",
     "output_type": "stream",
     "text": [
      "(1775, 50) (689, 50)\n"
     ]
    },
    {
     "name": "stderr",
     "output_type": "stream",
     "text": [
      " 14%|█▍        | 33/237 [01:16<08:40,  2.55s/it]"
     ]
    },
    {
     "name": "stdout",
     "output_type": "stream",
     "text": [
      "(1775, 50) (375, 50)\n"
     ]
    },
    {
     "name": "stderr",
     "output_type": "stream",
     "text": [
      " 14%|█▍        | 34/237 [01:19<08:44,  2.58s/it]"
     ]
    },
    {
     "name": "stdout",
     "output_type": "stream",
     "text": [
      "(1775, 50) (361, 50)\n"
     ]
    },
    {
     "name": "stderr",
     "output_type": "stream",
     "text": [
      " 15%|█▍        | 35/237 [01:22<09:43,  2.89s/it]"
     ]
    },
    {
     "name": "stdout",
     "output_type": "stream",
     "text": [
      "(1775, 50) (1164, 50)\n"
     ]
    },
    {
     "name": "stderr",
     "output_type": "stream",
     "text": [
      " 15%|█▌        | 36/237 [01:25<09:54,  2.96s/it]"
     ]
    },
    {
     "name": "stdout",
     "output_type": "stream",
     "text": [
      "(1775, 50) (998, 50)\n"
     ]
    },
    {
     "name": "stderr",
     "output_type": "stream",
     "text": [
      " 16%|█▌        | 37/237 [01:28<09:56,  2.98s/it]"
     ]
    },
    {
     "name": "stdout",
     "output_type": "stream",
     "text": [
      "(1775, 50) (331, 50)\n"
     ]
    },
    {
     "name": "stderr",
     "output_type": "stream",
     "text": [
      " 16%|█▌        | 38/237 [01:31<09:36,  2.90s/it]"
     ]
    },
    {
     "name": "stdout",
     "output_type": "stream",
     "text": [
      "(1775, 50) (649, 50)\n"
     ]
    },
    {
     "name": "stderr",
     "output_type": "stream",
     "text": [
      " 16%|█▋        | 39/237 [01:34<09:32,  2.89s/it]"
     ]
    },
    {
     "name": "stdout",
     "output_type": "stream",
     "text": [
      "(1775, 50) (290, 50)\n"
     ]
    },
    {
     "name": "stderr",
     "output_type": "stream",
     "text": [
      " 17%|█▋        | 40/237 [01:37<09:20,  2.85s/it]"
     ]
    },
    {
     "name": "stdout",
     "output_type": "stream",
     "text": [
      "(1775, 50) (596, 50)\n"
     ]
    },
    {
     "name": "stderr",
     "output_type": "stream",
     "text": [
      " 17%|█▋        | 41/237 [01:40<09:21,  2.87s/it]"
     ]
    },
    {
     "name": "stdout",
     "output_type": "stream",
     "text": [
      "(1775, 50) (739, 50)\n"
     ]
    },
    {
     "name": "stderr",
     "output_type": "stream",
     "text": [
      " 18%|█▊        | 42/237 [01:42<09:15,  2.85s/it]"
     ]
    },
    {
     "name": "stdout",
     "output_type": "stream",
     "text": [
      "(1775, 50) (366, 50)\n"
     ]
    },
    {
     "name": "stderr",
     "output_type": "stream",
     "text": [
      " 18%|█▊        | 43/237 [01:45<09:07,  2.82s/it]"
     ]
    },
    {
     "name": "stdout",
     "output_type": "stream",
     "text": [
      "(1775, 50) (467, 50)\n"
     ]
    },
    {
     "name": "stderr",
     "output_type": "stream",
     "text": [
      " 19%|█▊        | 44/237 [01:48<09:05,  2.82s/it]"
     ]
    },
    {
     "name": "stdout",
     "output_type": "stream",
     "text": [
      "(1775, 50) (557, 50)\n"
     ]
    },
    {
     "name": "stderr",
     "output_type": "stream",
     "text": [
      " 19%|█▉        | 45/237 [01:51<09:10,  2.87s/it]"
     ]
    },
    {
     "name": "stdout",
     "output_type": "stream",
     "text": [
      "(1775, 50) (298, 50)\n"
     ]
    },
    {
     "name": "stderr",
     "output_type": "stream",
     "text": [
      " 19%|█▉        | 46/237 [01:54<09:01,  2.83s/it]"
     ]
    },
    {
     "name": "stdout",
     "output_type": "stream",
     "text": [
      "(1775, 50) (795, 50)\n"
     ]
    },
    {
     "name": "stderr",
     "output_type": "stream",
     "text": [
      " 20%|█▉        | 47/237 [01:57<09:09,  2.89s/it]"
     ]
    },
    {
     "name": "stdout",
     "output_type": "stream",
     "text": [
      "(1775, 50) (730, 50)\n"
     ]
    },
    {
     "name": "stderr",
     "output_type": "stream",
     "text": [
      " 20%|██        | 48/237 [02:00<09:24,  2.98s/it]"
     ]
    },
    {
     "name": "stdout",
     "output_type": "stream",
     "text": [
      "(1775, 50) (255, 50)\n"
     ]
    },
    {
     "name": "stderr",
     "output_type": "stream",
     "text": [
      " 21%|██        | 49/237 [02:03<09:18,  2.97s/it]"
     ]
    },
    {
     "name": "stdout",
     "output_type": "stream",
     "text": [
      "(1775, 50) (657, 50)\n"
     ]
    },
    {
     "name": "stderr",
     "output_type": "stream",
     "text": [
      " 21%|██        | 50/237 [02:06<09:31,  3.05s/it]"
     ]
    },
    {
     "name": "stdout",
     "output_type": "stream",
     "text": [
      "(1775, 50) (126, 50)\n"
     ]
    },
    {
     "name": "stderr",
     "output_type": "stream",
     "text": [
      " 22%|██▏       | 51/237 [02:09<09:20,  3.01s/it]"
     ]
    },
    {
     "name": "stdout",
     "output_type": "stream",
     "text": [
      "(1775, 50) (786, 50)\n"
     ]
    },
    {
     "name": "stderr",
     "output_type": "stream",
     "text": [
      " 22%|██▏       | 52/237 [02:12<09:21,  3.04s/it]"
     ]
    },
    {
     "name": "stdout",
     "output_type": "stream",
     "text": [
      "(1775, 50) (245, 50)\n"
     ]
    },
    {
     "name": "stderr",
     "output_type": "stream",
     "text": [
      " 22%|██▏       | 53/237 [02:15<09:03,  2.96s/it]"
     ]
    },
    {
     "name": "stdout",
     "output_type": "stream",
     "text": [
      "(1775, 50) (657, 50)\n"
     ]
    },
    {
     "name": "stderr",
     "output_type": "stream",
     "text": [
      " 23%|██▎       | 54/237 [02:16<07:33,  2.48s/it]"
     ]
    },
    {
     "name": "stdout",
     "output_type": "stream",
     "text": [
      "(1775, 50) (325, 50)\n"
     ]
    },
    {
     "name": "stderr",
     "output_type": "stream",
     "text": [
      " 23%|██▎       | 55/237 [02:19<07:51,  2.59s/it]"
     ]
    },
    {
     "name": "stdout",
     "output_type": "stream",
     "text": [
      "(1775, 50) (141, 50)\n"
     ]
    },
    {
     "name": "stderr",
     "output_type": "stream",
     "text": [
      " 24%|██▎       | 56/237 [02:22<08:23,  2.78s/it]"
     ]
    },
    {
     "name": "stdout",
     "output_type": "stream",
     "text": [
      "(1775, 50) (558, 50)\n"
     ]
    },
    {
     "name": "stderr",
     "output_type": "stream",
     "text": [
      " 24%|██▍       | 57/237 [02:27<09:53,  3.30s/it]"
     ]
    },
    {
     "name": "stdout",
     "output_type": "stream",
     "text": [
      "(1775, 50) (215, 50)\n"
     ]
    },
    {
     "name": "stderr",
     "output_type": "stream",
     "text": [
      " 24%|██▍       | 58/237 [02:30<09:21,  3.13s/it]"
     ]
    },
    {
     "name": "stdout",
     "output_type": "stream",
     "text": [
      "(1775, 50) (327, 50)\n"
     ]
    },
    {
     "name": "stderr",
     "output_type": "stream",
     "text": [
      " 25%|██▍       | 59/237 [02:32<09:01,  3.04s/it]"
     ]
    },
    {
     "name": "stdout",
     "output_type": "stream",
     "text": [
      "(1775, 50) (613, 50)\n"
     ]
    },
    {
     "name": "stderr",
     "output_type": "stream",
     "text": [
      " 25%|██▌       | 60/237 [02:35<08:54,  3.02s/it]"
     ]
    },
    {
     "name": "stdout",
     "output_type": "stream",
     "text": [
      "(1775, 50) (777, 50)\n"
     ]
    },
    {
     "name": "stderr",
     "output_type": "stream",
     "text": [
      " 26%|██▌       | 61/237 [02:39<09:00,  3.07s/it]"
     ]
    },
    {
     "name": "stdout",
     "output_type": "stream",
     "text": [
      "(1775, 50) (276, 50)\n"
     ]
    },
    {
     "name": "stderr",
     "output_type": "stream",
     "text": [
      " 26%|██▌       | 62/237 [02:42<09:37,  3.30s/it]"
     ]
    },
    {
     "name": "stdout",
     "output_type": "stream",
     "text": [
      "(1775, 50) (540, 50)\n"
     ]
    },
    {
     "name": "stderr",
     "output_type": "stream",
     "text": [
      " 27%|██▋       | 63/237 [02:46<09:39,  3.33s/it]"
     ]
    },
    {
     "name": "stdout",
     "output_type": "stream",
     "text": [
      "(1775, 50) (359, 50)\n"
     ]
    },
    {
     "name": "stderr",
     "output_type": "stream",
     "text": [
      " 27%|██▋       | 64/237 [02:49<09:13,  3.20s/it]"
     ]
    },
    {
     "name": "stdout",
     "output_type": "stream",
     "text": [
      "(1775, 50) (623, 50)\n"
     ]
    },
    {
     "name": "stderr",
     "output_type": "stream",
     "text": [
      " 27%|██▋       | 65/237 [02:52<09:00,  3.14s/it]"
     ]
    },
    {
     "name": "stdout",
     "output_type": "stream",
     "text": [
      "(1775, 50) (765, 50)\n"
     ]
    },
    {
     "name": "stderr",
     "output_type": "stream",
     "text": [
      " 28%|██▊       | 66/237 [02:55<08:43,  3.06s/it]"
     ]
    },
    {
     "name": "stdout",
     "output_type": "stream",
     "text": [
      "(1775, 50) (366, 50)\n"
     ]
    },
    {
     "name": "stderr",
     "output_type": "stream",
     "text": [
      " 28%|██▊       | 67/237 [02:56<07:06,  2.51s/it]"
     ]
    },
    {
     "name": "stdout",
     "output_type": "stream",
     "text": [
      "(1775, 50) (475, 50)\n"
     ]
    },
    {
     "name": "stderr",
     "output_type": "stream",
     "text": [
      " 29%|██▊       | 68/237 [02:59<07:23,  2.62s/it]"
     ]
    },
    {
     "name": "stdout",
     "output_type": "stream",
     "text": [
      "(1775, 50) (54, 50)\n"
     ]
    },
    {
     "name": "stderr",
     "output_type": "stream",
     "text": [
      " 29%|██▉       | 69/237 [03:01<07:23,  2.64s/it]"
     ]
    },
    {
     "name": "stdout",
     "output_type": "stream",
     "text": [
      "(1775, 50) (578, 50)\n"
     ]
    },
    {
     "name": "stderr",
     "output_type": "stream",
     "text": [
      " 30%|██▉       | 70/237 [03:04<07:31,  2.70s/it]"
     ]
    },
    {
     "name": "stdout",
     "output_type": "stream",
     "text": [
      "(1775, 50) (362, 50)\n"
     ]
    },
    {
     "name": "stderr",
     "output_type": "stream",
     "text": [
      " 30%|██▉       | 71/237 [03:07<07:34,  2.74s/it]"
     ]
    },
    {
     "name": "stdout",
     "output_type": "stream",
     "text": [
      "(1775, 50) (496, 50)\n"
     ]
    },
    {
     "name": "stderr",
     "output_type": "stream",
     "text": [
      " 30%|███       | 72/237 [03:10<07:40,  2.79s/it]"
     ]
    },
    {
     "name": "stdout",
     "output_type": "stream",
     "text": [
      "(1775, 50) (328, 50)\n"
     ]
    },
    {
     "name": "stderr",
     "output_type": "stream",
     "text": [
      " 31%|███       | 73/237 [03:13<07:34,  2.77s/it]"
     ]
    },
    {
     "name": "stdout",
     "output_type": "stream",
     "text": [
      "(1775, 50) (409, 50)\n"
     ]
    },
    {
     "name": "stderr",
     "output_type": "stream",
     "text": [
      " 31%|███       | 74/237 [03:16<07:39,  2.82s/it]"
     ]
    },
    {
     "name": "stdout",
     "output_type": "stream",
     "text": [
      "(1775, 50) (360, 50)\n"
     ]
    },
    {
     "name": "stderr",
     "output_type": "stream",
     "text": [
      " 32%|███▏      | 75/237 [03:18<07:35,  2.81s/it]"
     ]
    },
    {
     "name": "stdout",
     "output_type": "stream",
     "text": [
      "(1775, 50) (554, 50)\n"
     ]
    },
    {
     "name": "stderr",
     "output_type": "stream",
     "text": [
      " 32%|███▏      | 76/237 [03:21<07:38,  2.85s/it]"
     ]
    },
    {
     "name": "stdout",
     "output_type": "stream",
     "text": [
      "(1775, 50) (570, 50)\n"
     ]
    },
    {
     "name": "stderr",
     "output_type": "stream",
     "text": [
      " 32%|███▏      | 77/237 [03:24<07:40,  2.88s/it]"
     ]
    },
    {
     "name": "stdout",
     "output_type": "stream",
     "text": [
      "(1775, 50) (499, 50)\n"
     ]
    },
    {
     "name": "stderr",
     "output_type": "stream",
     "text": [
      " 33%|███▎      | 78/237 [03:27<07:31,  2.84s/it]"
     ]
    },
    {
     "name": "stdout",
     "output_type": "stream",
     "text": [
      "(1775, 50) (417, 50)\n"
     ]
    },
    {
     "name": "stderr",
     "output_type": "stream",
     "text": [
      " 33%|███▎      | 79/237 [03:30<07:31,  2.86s/it]"
     ]
    },
    {
     "name": "stdout",
     "output_type": "stream",
     "text": [
      "(1775, 50) (689, 50)\n"
     ]
    },
    {
     "name": "stderr",
     "output_type": "stream",
     "text": [
      " 34%|███▍      | 80/237 [03:31<06:22,  2.44s/it]"
     ]
    },
    {
     "name": "stdout",
     "output_type": "stream",
     "text": [
      "(1775, 50) (404, 50)\n"
     ]
    },
    {
     "name": "stderr",
     "output_type": "stream",
     "text": [
      " 34%|███▍      | 81/237 [03:34<06:38,  2.55s/it]"
     ]
    },
    {
     "name": "stdout",
     "output_type": "stream",
     "text": [
      "(1775, 50) (458, 50)\n"
     ]
    },
    {
     "name": "stderr",
     "output_type": "stream",
     "text": [
      " 35%|███▍      | 82/237 [03:37<06:52,  2.66s/it]"
     ]
    },
    {
     "name": "stdout",
     "output_type": "stream",
     "text": [
      "(1775, 50) (445, 50)\n"
     ]
    },
    {
     "name": "stderr",
     "output_type": "stream",
     "text": [
      " 35%|███▌      | 83/237 [03:40<06:55,  2.70s/it]"
     ]
    },
    {
     "name": "stdout",
     "output_type": "stream",
     "text": [
      "(1775, 50) (248, 50)\n"
     ]
    },
    {
     "name": "stderr",
     "output_type": "stream",
     "text": [
      " 35%|███▌      | 84/237 [03:43<06:56,  2.72s/it]"
     ]
    },
    {
     "name": "stdout",
     "output_type": "stream",
     "text": [
      "(1775, 50) (751, 50)\n"
     ]
    },
    {
     "name": "stderr",
     "output_type": "stream",
     "text": [
      " 36%|███▌      | 85/237 [03:47<08:00,  3.16s/it]"
     ]
    },
    {
     "name": "stdout",
     "output_type": "stream",
     "text": [
      "(1775, 50) (260, 50)\n"
     ]
    },
    {
     "name": "stderr",
     "output_type": "stream",
     "text": [
      " 36%|███▋      | 86/237 [03:50<07:40,  3.05s/it]"
     ]
    },
    {
     "name": "stdout",
     "output_type": "stream",
     "text": [
      "(1775, 50) (630, 50)\n"
     ]
    },
    {
     "name": "stderr",
     "output_type": "stream",
     "text": [
      " 37%|███▋      | 87/237 [03:53<07:35,  3.04s/it]"
     ]
    },
    {
     "name": "stdout",
     "output_type": "stream",
     "text": [
      "(1775, 50) (763, 50)\n"
     ]
    },
    {
     "name": "stderr",
     "output_type": "stream",
     "text": [
      " 37%|███▋      | 88/237 [03:56<07:32,  3.04s/it]"
     ]
    },
    {
     "name": "stdout",
     "output_type": "stream",
     "text": [
      "(1775, 50) (297, 50)\n"
     ]
    },
    {
     "name": "stderr",
     "output_type": "stream",
     "text": [
      " 38%|███▊      | 89/237 [03:57<06:09,  2.49s/it]"
     ]
    },
    {
     "name": "stdout",
     "output_type": "stream",
     "text": [
      "(1775, 50) (872, 50)\n"
     ]
    },
    {
     "name": "stderr",
     "output_type": "stream",
     "text": [
      " 38%|███▊      | 90/237 [04:00<06:34,  2.69s/it]"
     ]
    },
    {
     "name": "stdout",
     "output_type": "stream",
     "text": [
      "(1775, 50) (427, 50)\n"
     ]
    },
    {
     "name": "stderr",
     "output_type": "stream",
     "text": [
      " 38%|███▊      | 91/237 [04:03<06:38,  2.73s/it]"
     ]
    },
    {
     "name": "stdout",
     "output_type": "stream",
     "text": [
      "(1775, 50) (297, 50)\n"
     ]
    },
    {
     "name": "stderr",
     "output_type": "stream",
     "text": [
      " 39%|███▉      | 92/237 [04:04<05:26,  2.25s/it]"
     ]
    },
    {
     "name": "stdout",
     "output_type": "stream",
     "text": [
      "(1775, 50) (300, 50)\n"
     ]
    },
    {
     "name": "stderr",
     "output_type": "stream",
     "text": [
      " 39%|███▉      | 93/237 [04:05<04:43,  1.97s/it]"
     ]
    },
    {
     "name": "stdout",
     "output_type": "stream",
     "text": [
      "(1775, 50) (680, 50)\n"
     ]
    },
    {
     "name": "stderr",
     "output_type": "stream",
     "text": [
      " 40%|███▉      | 94/237 [04:08<05:24,  2.27s/it]"
     ]
    },
    {
     "name": "stdout",
     "output_type": "stream",
     "text": [
      "(1775, 50) (309, 50)\n"
     ]
    },
    {
     "name": "stderr",
     "output_type": "stream",
     "text": [
      " 40%|████      | 95/237 [04:11<05:45,  2.43s/it]"
     ]
    },
    {
     "name": "stdout",
     "output_type": "stream",
     "text": [
      "(1775, 50) (701, 50)\n"
     ]
    },
    {
     "name": "stderr",
     "output_type": "stream",
     "text": [
      " 41%|████      | 96/237 [04:14<06:10,  2.63s/it]"
     ]
    },
    {
     "name": "stdout",
     "output_type": "stream",
     "text": [
      "(1775, 50) (384, 50)\n"
     ]
    },
    {
     "name": "stderr",
     "output_type": "stream",
     "text": [
      " 41%|████      | 97/237 [04:17<06:13,  2.67s/it]"
     ]
    },
    {
     "name": "stdout",
     "output_type": "stream",
     "text": [
      "(1775, 50) (301, 50)\n"
     ]
    },
    {
     "name": "stderr",
     "output_type": "stream",
     "text": [
      " 41%|████▏     | 98/237 [04:20<06:16,  2.71s/it]"
     ]
    },
    {
     "name": "stdout",
     "output_type": "stream",
     "text": [
      "(1775, 50) (445, 50)\n"
     ]
    },
    {
     "name": "stderr",
     "output_type": "stream",
     "text": [
      " 42%|████▏     | 99/237 [04:21<05:13,  2.27s/it]"
     ]
    },
    {
     "name": "stdout",
     "output_type": "stream",
     "text": [
      "(1775, 50) (241, 50)\n"
     ]
    },
    {
     "name": "stderr",
     "output_type": "stream",
     "text": [
      " 42%|████▏     | 100/237 [04:24<05:32,  2.43s/it]"
     ]
    },
    {
     "name": "stdout",
     "output_type": "stream",
     "text": [
      "(1775, 50) (670, 50)\n"
     ]
    },
    {
     "name": "stderr",
     "output_type": "stream",
     "text": [
      " 43%|████▎     | 101/237 [04:27<05:56,  2.62s/it]"
     ]
    },
    {
     "name": "stdout",
     "output_type": "stream",
     "text": [
      "(1775, 50) (493, 50)\n"
     ]
    },
    {
     "name": "stderr",
     "output_type": "stream",
     "text": [
      " 43%|████▎     | 102/237 [04:30<06:08,  2.73s/it]"
     ]
    },
    {
     "name": "stdout",
     "output_type": "stream",
     "text": [
      "(1775, 50) (95, 50)\n"
     ]
    },
    {
     "name": "stderr",
     "output_type": "stream",
     "text": [
      " 43%|████▎     | 103/237 [04:33<06:04,  2.72s/it]"
     ]
    },
    {
     "name": "stdout",
     "output_type": "stream",
     "text": [
      "(1775, 50) (460, 50)\n"
     ]
    },
    {
     "name": "stderr",
     "output_type": "stream",
     "text": [
      " 44%|████▍     | 104/237 [04:35<06:06,  2.76s/it]"
     ]
    },
    {
     "name": "stdout",
     "output_type": "stream",
     "text": [
      "(1775, 50) (481, 50)\n"
     ]
    },
    {
     "name": "stderr",
     "output_type": "stream",
     "text": [
      " 44%|████▍     | 105/237 [04:38<06:13,  2.83s/it]"
     ]
    },
    {
     "name": "stdout",
     "output_type": "stream",
     "text": [
      "(1775, 50) (328, 50)\n"
     ]
    },
    {
     "name": "stderr",
     "output_type": "stream",
     "text": [
      " 45%|████▍     | 106/237 [04:40<05:08,  2.35s/it]"
     ]
    },
    {
     "name": "stdout",
     "output_type": "stream",
     "text": [
      "(1775, 50) (311, 50)\n"
     ]
    },
    {
     "name": "stderr",
     "output_type": "stream",
     "text": [
      " 45%|████▌     | 107/237 [04:43<05:27,  2.52s/it]"
     ]
    },
    {
     "name": "stdout",
     "output_type": "stream",
     "text": [
      "(1775, 50) (873, 50)\n"
     ]
    },
    {
     "name": "stderr",
     "output_type": "stream",
     "text": [
      " 46%|████▌     | 108/237 [04:53<10:12,  4.75s/it]"
     ]
    },
    {
     "name": "stdout",
     "output_type": "stream",
     "text": [
      "(1775, 50) (691, 50)\n"
     ]
    },
    {
     "name": "stderr",
     "output_type": "stream",
     "text": [
      " 46%|████▌     | 109/237 [04:56<09:09,  4.30s/it]"
     ]
    },
    {
     "name": "stdout",
     "output_type": "stream",
     "text": [
      "(1775, 50) (277, 50)\n"
     ]
    },
    {
     "name": "stderr",
     "output_type": "stream",
     "text": [
      " 46%|████▋     | 110/237 [04:59<08:06,  3.83s/it]"
     ]
    },
    {
     "name": "stdout",
     "output_type": "stream",
     "text": [
      "(1775, 50) (684, 50)\n"
     ]
    },
    {
     "name": "stderr",
     "output_type": "stream",
     "text": [
      " 47%|████▋     | 111/237 [05:02<07:33,  3.60s/it]"
     ]
    },
    {
     "name": "stdout",
     "output_type": "stream",
     "text": [
      "(1775, 50) (113, 50)\n"
     ]
    },
    {
     "name": "stderr",
     "output_type": "stream",
     "text": [
      " 47%|████▋     | 112/237 [05:04<06:58,  3.35s/it]"
     ]
    },
    {
     "name": "stdout",
     "output_type": "stream",
     "text": [
      "(1775, 50) (464, 50)\n"
     ]
    },
    {
     "name": "stderr",
     "output_type": "stream",
     "text": [
      " 48%|████▊     | 113/237 [05:07<06:36,  3.19s/it]"
     ]
    },
    {
     "name": "stdout",
     "output_type": "stream",
     "text": [
      "(1775, 50) (494, 50)\n"
     ]
    },
    {
     "name": "stderr",
     "output_type": "stream",
     "text": [
      " 48%|████▊     | 114/237 [05:10<06:24,  3.13s/it]"
     ]
    },
    {
     "name": "stdout",
     "output_type": "stream",
     "text": [
      "(1775, 50) (904, 50)\n"
     ]
    },
    {
     "name": "stderr",
     "output_type": "stream",
     "text": [
      " 49%|████▊     | 115/237 [05:13<06:19,  3.11s/it]"
     ]
    },
    {
     "name": "stdout",
     "output_type": "stream",
     "text": [
      "(1775, 50) (264, 50)\n"
     ]
    },
    {
     "name": "stderr",
     "output_type": "stream",
     "text": [
      " 49%|████▉     | 116/237 [05:16<06:05,  3.02s/it]"
     ]
    },
    {
     "name": "stdout",
     "output_type": "stream",
     "text": [
      "(1775, 50) (582, 50)\n"
     ]
    },
    {
     "name": "stderr",
     "output_type": "stream",
     "text": [
      " 49%|████▉     | 117/237 [05:19<05:59,  3.00s/it]"
     ]
    },
    {
     "name": "stdout",
     "output_type": "stream",
     "text": [
      "(1775, 50) (398, 50)\n"
     ]
    },
    {
     "name": "stderr",
     "output_type": "stream",
     "text": [
      " 50%|████▉     | 118/237 [05:27<08:50,  4.46s/it]"
     ]
    },
    {
     "name": "stdout",
     "output_type": "stream",
     "text": [
      "(1775, 50) (193, 50)\n"
     ]
    },
    {
     "name": "stderr",
     "output_type": "stream",
     "text": [
      " 50%|█████     | 119/237 [05:30<07:45,  3.94s/it]"
     ]
    },
    {
     "name": "stdout",
     "output_type": "stream",
     "text": [
      "(1775, 50) (432, 50)\n"
     ]
    },
    {
     "name": "stderr",
     "output_type": "stream",
     "text": [
      " 51%|█████     | 120/237 [05:33<07:05,  3.63s/it]"
     ]
    },
    {
     "name": "stdout",
     "output_type": "stream",
     "text": [
      "(1775, 50) (878, 50)\n"
     ]
    },
    {
     "name": "stderr",
     "output_type": "stream",
     "text": [
      " 51%|█████     | 121/237 [05:37<07:17,  3.77s/it]"
     ]
    },
    {
     "name": "stdout",
     "output_type": "stream",
     "text": [
      "(1775, 50) (481, 50)\n"
     ]
    },
    {
     "name": "stderr",
     "output_type": "stream",
     "text": [
      " 51%|█████▏    | 122/237 [05:38<05:50,  3.05s/it]"
     ]
    },
    {
     "name": "stdout",
     "output_type": "stream",
     "text": [
      "(1775, 50) (549, 50)\n"
     ]
    },
    {
     "name": "stderr",
     "output_type": "stream",
     "text": [
      " 52%|█████▏    | 123/237 [05:41<05:43,  3.02s/it]"
     ]
    },
    {
     "name": "stdout",
     "output_type": "stream",
     "text": [
      "(1775, 50) (496, 50)\n"
     ]
    },
    {
     "name": "stderr",
     "output_type": "stream",
     "text": [
      " 52%|█████▏    | 124/237 [05:42<04:41,  2.49s/it]"
     ]
    },
    {
     "name": "stdout",
     "output_type": "stream",
     "text": [
      "(1775, 50) (652, 50)\n"
     ]
    },
    {
     "name": "stderr",
     "output_type": "stream",
     "text": [
      " 53%|█████▎    | 125/237 [05:45<04:56,  2.65s/it]"
     ]
    },
    {
     "name": "stdout",
     "output_type": "stream",
     "text": [
      "(1775, 50) (329, 50)\n"
     ]
    },
    {
     "name": "stderr",
     "output_type": "stream",
     "text": [
      " 53%|█████▎    | 126/237 [05:48<05:02,  2.72s/it]"
     ]
    },
    {
     "name": "stdout",
     "output_type": "stream",
     "text": [
      "(1775, 50) (444, 50)\n"
     ]
    },
    {
     "name": "stderr",
     "output_type": "stream",
     "text": [
      " 54%|█████▎    | 127/237 [05:52<05:29,  3.00s/it]"
     ]
    },
    {
     "name": "stdout",
     "output_type": "stream",
     "text": [
      "(1775, 50) (191, 50)\n"
     ]
    },
    {
     "name": "stderr",
     "output_type": "stream",
     "text": [
      " 54%|█████▍    | 128/237 [05:55<05:23,  2.96s/it]"
     ]
    },
    {
     "name": "stdout",
     "output_type": "stream",
     "text": [
      "(1775, 50) (151, 50)\n"
     ]
    },
    {
     "name": "stderr",
     "output_type": "stream",
     "text": [
      " 54%|█████▍    | 129/237 [05:57<05:17,  2.94s/it]"
     ]
    },
    {
     "name": "stdout",
     "output_type": "stream",
     "text": [
      "(1775, 50) (613, 50)\n"
     ]
    },
    {
     "name": "stderr",
     "output_type": "stream",
     "text": [
      " 55%|█████▍    | 130/237 [05:59<04:23,  2.47s/it]"
     ]
    },
    {
     "name": "stdout",
     "output_type": "stream",
     "text": [
      "(1775, 50) (364, 50)\n"
     ]
    },
    {
     "name": "stderr",
     "output_type": "stream",
     "text": [
      " 55%|█████▌    | 131/237 [06:02<04:38,  2.63s/it]"
     ]
    },
    {
     "name": "stdout",
     "output_type": "stream",
     "text": [
      "(1775, 50) (1002, 50)\n"
     ]
    },
    {
     "name": "stderr",
     "output_type": "stream",
     "text": [
      " 56%|█████▌    | 132/237 [06:05<05:07,  2.92s/it]"
     ]
    },
    {
     "name": "stdout",
     "output_type": "stream",
     "text": [
      "(1775, 50) (236, 50)\n"
     ]
    },
    {
     "name": "stderr",
     "output_type": "stream",
     "text": [
      " 56%|█████▌    | 133/237 [06:08<05:03,  2.91s/it]"
     ]
    },
    {
     "name": "stdout",
     "output_type": "stream",
     "text": [
      "(1775, 50) (71, 50)\n"
     ]
    },
    {
     "name": "stderr",
     "output_type": "stream",
     "text": [
      " 57%|█████▋    | 134/237 [06:11<04:55,  2.86s/it]"
     ]
    },
    {
     "name": "stdout",
     "output_type": "stream",
     "text": [
      "(1775, 50) (354, 50)\n"
     ]
    },
    {
     "name": "stderr",
     "output_type": "stream",
     "text": [
      " 57%|█████▋    | 135/237 [06:14<04:52,  2.87s/it]"
     ]
    },
    {
     "name": "stdout",
     "output_type": "stream",
     "text": [
      "(1775, 50) (666, 50)\n"
     ]
    },
    {
     "name": "stderr",
     "output_type": "stream",
     "text": [
      " 57%|█████▋    | 136/237 [06:17<05:00,  2.98s/it]"
     ]
    },
    {
     "name": "stdout",
     "output_type": "stream",
     "text": [
      "(1775, 50) (283, 50)\n"
     ]
    },
    {
     "name": "stderr",
     "output_type": "stream",
     "text": [
      " 58%|█████▊    | 137/237 [06:20<05:02,  3.02s/it]"
     ]
    },
    {
     "name": "stdout",
     "output_type": "stream",
     "text": [
      "(1775, 50) (241, 50)\n"
     ]
    },
    {
     "name": "stderr",
     "output_type": "stream",
     "text": [
      " 58%|█████▊    | 138/237 [06:22<04:06,  2.49s/it]"
     ]
    },
    {
     "name": "stdout",
     "output_type": "stream",
     "text": [
      "(1775, 50) (175, 50)\n"
     ]
    },
    {
     "name": "stderr",
     "output_type": "stream",
     "text": [
      " 59%|█████▊    | 139/237 [06:25<04:17,  2.63s/it]"
     ]
    },
    {
     "name": "stdout",
     "output_type": "stream",
     "text": [
      "(1775, 50) (177, 50)\n"
     ]
    },
    {
     "name": "stderr",
     "output_type": "stream",
     "text": [
      " 59%|█████▉    | 140/237 [06:28<04:25,  2.73s/it]"
     ]
    },
    {
     "name": "stdout",
     "output_type": "stream",
     "text": [
      "(1775, 50) (448, 50)\n"
     ]
    },
    {
     "name": "stderr",
     "output_type": "stream",
     "text": [
      " 59%|█████▉    | 141/237 [06:31<04:31,  2.83s/it]"
     ]
    },
    {
     "name": "stdout",
     "output_type": "stream",
     "text": [
      "(1775, 50) (579, 50)\n"
     ]
    },
    {
     "name": "stderr",
     "output_type": "stream",
     "text": [
      " 60%|█████▉    | 142/237 [06:34<04:40,  2.95s/it]"
     ]
    },
    {
     "name": "stdout",
     "output_type": "stream",
     "text": [
      "(1775, 50) (301, 50)\n"
     ]
    },
    {
     "name": "stderr",
     "output_type": "stream",
     "text": [
      " 60%|██████    | 143/237 [06:35<03:48,  2.43s/it]"
     ]
    },
    {
     "name": "stdout",
     "output_type": "stream",
     "text": [
      "(1775, 50) (190, 50)\n"
     ]
    },
    {
     "name": "stderr",
     "output_type": "stream",
     "text": [
      " 61%|██████    | 144/237 [06:38<04:00,  2.58s/it]"
     ]
    },
    {
     "name": "stdout",
     "output_type": "stream",
     "text": [
      "(1775, 50) (542, 50)\n"
     ]
    },
    {
     "name": "stderr",
     "output_type": "stream",
     "text": [
      " 61%|██████    | 145/237 [06:41<04:14,  2.76s/it]"
     ]
    },
    {
     "name": "stdout",
     "output_type": "stream",
     "text": [
      "(1775, 50) (634, 50)\n"
     ]
    },
    {
     "name": "stderr",
     "output_type": "stream",
     "text": [
      " 62%|██████▏   | 146/237 [06:44<04:23,  2.89s/it]"
     ]
    },
    {
     "name": "stdout",
     "output_type": "stream",
     "text": [
      "(1775, 50) (64, 50)\n"
     ]
    },
    {
     "name": "stderr",
     "output_type": "stream",
     "text": [
      " 62%|██████▏   | 147/237 [06:47<04:16,  2.85s/it]"
     ]
    },
    {
     "name": "stdout",
     "output_type": "stream",
     "text": [
      "(1775, 50) (444, 50)\n"
     ]
    },
    {
     "name": "stderr",
     "output_type": "stream",
     "text": [
      " 62%|██████▏   | 148/237 [06:48<03:29,  2.35s/it]"
     ]
    },
    {
     "name": "stdout",
     "output_type": "stream",
     "text": [
      "(1775, 50) (581, 50)\n"
     ]
    },
    {
     "name": "stderr",
     "output_type": "stream",
     "text": [
      " 63%|██████▎   | 149/237 [06:51<03:48,  2.60s/it]"
     ]
    },
    {
     "name": "stdout",
     "output_type": "stream",
     "text": [
      "(1775, 50) (477, 50)\n"
     ]
    },
    {
     "name": "stderr",
     "output_type": "stream",
     "text": [
      " 63%|██████▎   | 150/237 [06:54<03:56,  2.72s/it]"
     ]
    },
    {
     "name": "stdout",
     "output_type": "stream",
     "text": [
      "(1775, 50) (392, 50)\n"
     ]
    },
    {
     "name": "stderr",
     "output_type": "stream",
     "text": [
      " 64%|██████▎   | 151/237 [06:57<03:59,  2.78s/it]"
     ]
    },
    {
     "name": "stdout",
     "output_type": "stream",
     "text": [
      "(1775, 50) (231, 50)\n"
     ]
    },
    {
     "name": "stderr",
     "output_type": "stream",
     "text": [
      " 64%|██████▍   | 152/237 [07:00<04:03,  2.86s/it]"
     ]
    },
    {
     "name": "stdout",
     "output_type": "stream",
     "text": [
      "(1775, 50) (179, 50)\n"
     ]
    },
    {
     "name": "stderr",
     "output_type": "stream",
     "text": [
      " 65%|██████▍   | 153/237 [07:04<04:05,  2.92s/it]"
     ]
    },
    {
     "name": "stdout",
     "output_type": "stream",
     "text": [
      "(1775, 50) (470, 50)\n"
     ]
    },
    {
     "name": "stderr",
     "output_type": "stream",
     "text": [
      " 65%|██████▍   | 154/237 [07:07<04:04,  2.95s/it]"
     ]
    },
    {
     "name": "stdout",
     "output_type": "stream",
     "text": [
      "(1775, 50) (190, 50)\n"
     ]
    },
    {
     "name": "stderr",
     "output_type": "stream",
     "text": [
      " 65%|██████▌   | 155/237 [07:08<03:21,  2.45s/it]"
     ]
    },
    {
     "name": "stdout",
     "output_type": "stream",
     "text": [
      "(1775, 50) (817, 50)\n"
     ]
    },
    {
     "name": "stderr",
     "output_type": "stream",
     "text": [
      " 66%|██████▌   | 156/237 [07:11<03:34,  2.65s/it]"
     ]
    },
    {
     "name": "stdout",
     "output_type": "stream",
     "text": [
      "(1775, 50) (237, 50)\n"
     ]
    },
    {
     "name": "stderr",
     "output_type": "stream",
     "text": [
      " 66%|██████▌   | 157/237 [07:14<03:42,  2.79s/it]"
     ]
    },
    {
     "name": "stdout",
     "output_type": "stream",
     "text": [
      "(1775, 50) (237, 50)\n"
     ]
    },
    {
     "name": "stderr",
     "output_type": "stream",
     "text": [
      " 67%|██████▋   | 158/237 [07:17<03:46,  2.86s/it]"
     ]
    },
    {
     "name": "stdout",
     "output_type": "stream",
     "text": [
      "(1775, 50) (617, 50)\n"
     ]
    },
    {
     "name": "stderr",
     "output_type": "stream",
     "text": [
      " 67%|██████▋   | 159/237 [07:20<03:50,  2.95s/it]"
     ]
    },
    {
     "name": "stdout",
     "output_type": "stream",
     "text": [
      "(1775, 50) (191, 50)\n"
     ]
    },
    {
     "name": "stderr",
     "output_type": "stream",
     "text": [
      " 68%|██████▊   | 160/237 [07:21<03:06,  2.42s/it]"
     ]
    },
    {
     "name": "stdout",
     "output_type": "stream",
     "text": [
      "(1775, 50) (348, 50)\n"
     ]
    },
    {
     "name": "stderr",
     "output_type": "stream",
     "text": [
      " 68%|██████▊   | 161/237 [07:25<03:25,  2.70s/it]"
     ]
    },
    {
     "name": "stdout",
     "output_type": "stream",
     "text": [
      "(1775, 50) (265, 50)\n"
     ]
    },
    {
     "name": "stderr",
     "output_type": "stream",
     "text": [
      " 68%|██████▊   | 162/237 [07:28<03:37,  2.90s/it]"
     ]
    },
    {
     "name": "stdout",
     "output_type": "stream",
     "text": [
      "(1775, 50) (406, 50)\n"
     ]
    },
    {
     "name": "stderr",
     "output_type": "stream",
     "text": [
      " 69%|██████▉   | 163/237 [07:31<03:37,  2.94s/it]"
     ]
    },
    {
     "name": "stdout",
     "output_type": "stream",
     "text": [
      "(1775, 50) (199, 50)\n"
     ]
    },
    {
     "name": "stderr",
     "output_type": "stream",
     "text": [
      " 69%|██████▉   | 164/237 [07:34<03:40,  3.03s/it]"
     ]
    },
    {
     "name": "stdout",
     "output_type": "stream",
     "text": [
      "(1775, 50) (299, 50)\n"
     ]
    },
    {
     "name": "stderr",
     "output_type": "stream",
     "text": [
      " 70%|██████▉   | 165/237 [07:37<03:20,  2.78s/it]"
     ]
    },
    {
     "name": "stdout",
     "output_type": "stream",
     "text": [
      "(1775, 50) (401, 50)\n"
     ]
    },
    {
     "name": "stderr",
     "output_type": "stream",
     "text": [
      " 70%|███████   | 166/237 [07:40<03:25,  2.89s/it]"
     ]
    },
    {
     "name": "stdout",
     "output_type": "stream",
     "text": [
      "(1775, 50) (331, 50)\n"
     ]
    },
    {
     "name": "stderr",
     "output_type": "stream",
     "text": [
      " 70%|███████   | 167/237 [07:41<02:50,  2.43s/it]"
     ]
    },
    {
     "name": "stdout",
     "output_type": "stream",
     "text": [
      "(1775, 50) (515, 50)\n"
     ]
    },
    {
     "name": "stderr",
     "output_type": "stream",
     "text": [
      " 71%|███████   | 168/237 [07:45<03:14,  2.81s/it]"
     ]
    },
    {
     "name": "stdout",
     "output_type": "stream",
     "text": [
      "(1775, 50) (349, 50)\n"
     ]
    },
    {
     "name": "stderr",
     "output_type": "stream",
     "text": [
      " 71%|███████▏  | 169/237 [07:48<03:17,  2.91s/it]"
     ]
    },
    {
     "name": "stdout",
     "output_type": "stream",
     "text": [
      "(1775, 50) (187, 50)\n"
     ]
    },
    {
     "name": "stderr",
     "output_type": "stream",
     "text": [
      " 72%|███████▏  | 170/237 [07:51<03:15,  2.92s/it]"
     ]
    },
    {
     "name": "stdout",
     "output_type": "stream",
     "text": [
      "(1775, 50) (382, 50)\n"
     ]
    },
    {
     "name": "stderr",
     "output_type": "stream",
     "text": [
      " 72%|███████▏  | 171/237 [07:54<03:13,  2.93s/it]"
     ]
    },
    {
     "name": "stdout",
     "output_type": "stream",
     "text": [
      "(1775, 50) (412, 50)\n"
     ]
    },
    {
     "name": "stderr",
     "output_type": "stream",
     "text": [
      " 73%|███████▎  | 172/237 [07:57<03:14,  2.99s/it]"
     ]
    },
    {
     "name": "stdout",
     "output_type": "stream",
     "text": [
      "(1775, 50) (444, 50)\n"
     ]
    },
    {
     "name": "stderr",
     "output_type": "stream",
     "text": [
      " 73%|███████▎  | 173/237 [07:58<02:37,  2.46s/it]"
     ]
    },
    {
     "name": "stdout",
     "output_type": "stream",
     "text": [
      "(1775, 50) (425, 50)\n"
     ]
    },
    {
     "name": "stderr",
     "output_type": "stream",
     "text": [
      " 73%|███████▎  | 174/237 [08:01<02:46,  2.64s/it]"
     ]
    },
    {
     "name": "stdout",
     "output_type": "stream",
     "text": [
      "(1775, 50) (459, 50)\n"
     ]
    },
    {
     "name": "stderr",
     "output_type": "stream",
     "text": [
      " 74%|███████▍  | 175/237 [08:04<02:51,  2.77s/it]"
     ]
    },
    {
     "name": "stdout",
     "output_type": "stream",
     "text": [
      "(1775, 50) (306, 50)\n"
     ]
    },
    {
     "name": "stderr",
     "output_type": "stream",
     "text": [
      " 74%|███████▍  | 176/237 [08:07<02:53,  2.85s/it]"
     ]
    },
    {
     "name": "stdout",
     "output_type": "stream",
     "text": [
      "(1775, 50) (382, 50)\n"
     ]
    },
    {
     "name": "stderr",
     "output_type": "stream",
     "text": [
      " 75%|███████▍  | 177/237 [08:09<02:22,  2.37s/it]"
     ]
    },
    {
     "name": "stdout",
     "output_type": "stream",
     "text": [
      "(1775, 50) (487, 50)\n"
     ]
    },
    {
     "name": "stderr",
     "output_type": "stream",
     "text": [
      " 75%|███████▌  | 178/237 [08:12<02:32,  2.58s/it]"
     ]
    },
    {
     "name": "stdout",
     "output_type": "stream",
     "text": [
      "(1775, 50) (333, 50)\n"
     ]
    },
    {
     "name": "stderr",
     "output_type": "stream",
     "text": [
      " 76%|███████▌  | 179/237 [08:15<02:36,  2.70s/it]"
     ]
    },
    {
     "name": "stdout",
     "output_type": "stream",
     "text": [
      "(1775, 50) (211, 50)\n"
     ]
    },
    {
     "name": "stderr",
     "output_type": "stream",
     "text": [
      " 76%|███████▌  | 180/237 [08:18<02:37,  2.77s/it]"
     ]
    },
    {
     "name": "stdout",
     "output_type": "stream",
     "text": [
      "(1775, 50) (356, 50)\n"
     ]
    },
    {
     "name": "stderr",
     "output_type": "stream",
     "text": [
      " 76%|███████▋  | 181/237 [08:21<02:40,  2.87s/it]"
     ]
    },
    {
     "name": "stdout",
     "output_type": "stream",
     "text": [
      "(1775, 50) (366, 50)\n"
     ]
    },
    {
     "name": "stderr",
     "output_type": "stream",
     "text": [
      " 77%|███████▋  | 182/237 [08:22<02:11,  2.39s/it]"
     ]
    },
    {
     "name": "stdout",
     "output_type": "stream",
     "text": [
      "(1775, 50) (240, 50)\n"
     ]
    },
    {
     "name": "stderr",
     "output_type": "stream",
     "text": [
      " 77%|███████▋  | 183/237 [08:25<02:17,  2.55s/it]"
     ]
    },
    {
     "name": "stdout",
     "output_type": "stream",
     "text": [
      "(1775, 50) (644, 50)\n"
     ]
    },
    {
     "name": "stderr",
     "output_type": "stream",
     "text": [
      " 78%|███████▊  | 184/237 [08:28<02:23,  2.71s/it]"
     ]
    },
    {
     "name": "stdout",
     "output_type": "stream",
     "text": [
      "(1775, 50) (284, 50)\n"
     ]
    },
    {
     "name": "stderr",
     "output_type": "stream",
     "text": [
      " 78%|███████▊  | 185/237 [08:31<02:25,  2.80s/it]"
     ]
    },
    {
     "name": "stdout",
     "output_type": "stream",
     "text": [
      "(1775, 50) (264, 50)\n"
     ]
    },
    {
     "name": "stderr",
     "output_type": "stream",
     "text": [
      " 78%|███████▊  | 186/237 [08:32<02:00,  2.36s/it]"
     ]
    },
    {
     "name": "stdout",
     "output_type": "stream",
     "text": [
      "(1775, 50) (265, 50)\n"
     ]
    },
    {
     "name": "stderr",
     "output_type": "stream",
     "text": [
      " 79%|███████▉  | 187/237 [08:34<01:41,  2.03s/it]"
     ]
    },
    {
     "name": "stdout",
     "output_type": "stream",
     "text": [
      "(1775, 50) (236, 50)\n"
     ]
    },
    {
     "name": "stderr",
     "output_type": "stream",
     "text": [
      " 79%|███████▉  | 188/237 [08:35<01:28,  1.80s/it]"
     ]
    },
    {
     "name": "stdout",
     "output_type": "stream",
     "text": [
      "(1775, 50) (216, 50)\n"
     ]
    },
    {
     "name": "stderr",
     "output_type": "stream",
     "text": [
      " 80%|███████▉  | 189/237 [08:37<01:32,  1.92s/it]"
     ]
    },
    {
     "name": "stdout",
     "output_type": "stream",
     "text": [
      "(1775, 50) (293, 50)\n"
     ]
    },
    {
     "name": "stderr",
     "output_type": "stream",
     "text": [
      " 80%|████████  | 190/237 [08:40<01:46,  2.26s/it]"
     ]
    },
    {
     "name": "stdout",
     "output_type": "stream",
     "text": [
      "(1775, 50) (89, 50)\n"
     ]
    },
    {
     "name": "stderr",
     "output_type": "stream",
     "text": [
      " 81%|████████  | 191/237 [08:43<01:53,  2.46s/it]"
     ]
    },
    {
     "name": "stdout",
     "output_type": "stream",
     "text": [
      "(1775, 50) (72, 50)\n"
     ]
    },
    {
     "name": "stderr",
     "output_type": "stream",
     "text": [
      " 81%|████████  | 192/237 [08:46<01:56,  2.60s/it]"
     ]
    },
    {
     "name": "stdout",
     "output_type": "stream",
     "text": [
      "(1775, 50) (160, 50)\n"
     ]
    },
    {
     "name": "stderr",
     "output_type": "stream",
     "text": [
      " 81%|████████▏ | 193/237 [08:49<01:57,  2.68s/it]"
     ]
    },
    {
     "name": "stdout",
     "output_type": "stream",
     "text": [
      "(1775, 50) (179, 50)\n"
     ]
    },
    {
     "name": "stderr",
     "output_type": "stream",
     "text": [
      " 82%|████████▏ | 194/237 [08:50<01:36,  2.24s/it]"
     ]
    },
    {
     "name": "stdout",
     "output_type": "stream",
     "text": [
      "(1775, 50) (270, 50)\n"
     ]
    },
    {
     "name": "stderr",
     "output_type": "stream",
     "text": [
      " 82%|████████▏ | 195/237 [08:53<01:43,  2.47s/it]"
     ]
    },
    {
     "name": "stdout",
     "output_type": "stream",
     "text": [
      "(1775, 50) (414, 50)\n"
     ]
    },
    {
     "name": "stderr",
     "output_type": "stream",
     "text": [
      " 83%|████████▎ | 196/237 [08:56<01:49,  2.67s/it]"
     ]
    },
    {
     "name": "stdout",
     "output_type": "stream",
     "text": [
      "(1775, 50) (107, 50)\n"
     ]
    },
    {
     "name": "stderr",
     "output_type": "stream",
     "text": [
      " 83%|████████▎ | 197/237 [08:59<01:50,  2.77s/it]"
     ]
    },
    {
     "name": "stdout",
     "output_type": "stream",
     "text": [
      "(1775, 50) (192, 50)\n"
     ]
    },
    {
     "name": "stderr",
     "output_type": "stream",
     "text": [
      " 84%|████████▎ | 198/237 [09:02<01:47,  2.76s/it]"
     ]
    },
    {
     "name": "stdout",
     "output_type": "stream",
     "text": [
      "(1775, 50) (276, 50)\n"
     ]
    },
    {
     "name": "stderr",
     "output_type": "stream",
     "text": [
      " 84%|████████▍ | 199/237 [09:03<01:28,  2.34s/it]"
     ]
    },
    {
     "name": "stdout",
     "output_type": "stream",
     "text": [
      "(1775, 50) (337, 50)\n"
     ]
    },
    {
     "name": "stderr",
     "output_type": "stream",
     "text": [
      " 84%|████████▍ | 200/237 [09:06<01:35,  2.57s/it]"
     ]
    },
    {
     "name": "stdout",
     "output_type": "stream",
     "text": [
      "(1775, 50) (134, 50)\n"
     ]
    },
    {
     "name": "stderr",
     "output_type": "stream",
     "text": [
      " 85%|████████▍ | 201/237 [09:09<01:37,  2.70s/it]"
     ]
    },
    {
     "name": "stdout",
     "output_type": "stream",
     "text": [
      "(1775, 50) (159, 50)\n"
     ]
    },
    {
     "name": "stderr",
     "output_type": "stream",
     "text": [
      " 85%|████████▌ | 202/237 [09:12<01:37,  2.78s/it]"
     ]
    },
    {
     "name": "stdout",
     "output_type": "stream",
     "text": [
      "(1775, 50) (332, 50)\n"
     ]
    },
    {
     "name": "stderr",
     "output_type": "stream",
     "text": [
      " 86%|████████▌ | 203/237 [09:15<01:37,  2.86s/it]"
     ]
    },
    {
     "name": "stdout",
     "output_type": "stream",
     "text": [
      "(1775, 50) (273, 50)\n"
     ]
    },
    {
     "name": "stderr",
     "output_type": "stream",
     "text": [
      " 86%|████████▌ | 204/237 [09:18<01:36,  2.93s/it]"
     ]
    },
    {
     "name": "stdout",
     "output_type": "stream",
     "text": [
      "(1775, 50) (303, 50)\n"
     ]
    },
    {
     "name": "stderr",
     "output_type": "stream",
     "text": [
      " 86%|████████▋ | 205/237 [09:21<01:34,  2.94s/it]"
     ]
    },
    {
     "name": "stdout",
     "output_type": "stream",
     "text": [
      "(1775, 50) (114, 50)\n"
     ]
    },
    {
     "name": "stderr",
     "output_type": "stream",
     "text": [
      " 87%|████████▋ | 206/237 [09:27<01:52,  3.64s/it]"
     ]
    },
    {
     "name": "stdout",
     "output_type": "stream",
     "text": [
      "(1775, 50) (129, 50)\n"
     ]
    },
    {
     "name": "stderr",
     "output_type": "stream",
     "text": [
      " 87%|████████▋ | 207/237 [09:30<01:43,  3.45s/it]"
     ]
    },
    {
     "name": "stdout",
     "output_type": "stream",
     "text": [
      "(1775, 50) (466, 50)\n"
     ]
    },
    {
     "name": "stderr",
     "output_type": "stream",
     "text": [
      " 88%|████████▊ | 208/237 [09:33<01:36,  3.34s/it]"
     ]
    },
    {
     "name": "stdout",
     "output_type": "stream",
     "text": [
      "(1775, 50) (64, 50)\n"
     ]
    },
    {
     "name": "stderr",
     "output_type": "stream",
     "text": [
      " 88%|████████▊ | 209/237 [09:34<01:15,  2.70s/it]"
     ]
    },
    {
     "name": "stdout",
     "output_type": "stream",
     "text": [
      "(1775, 50) (262, 50)\n"
     ]
    },
    {
     "name": "stderr",
     "output_type": "stream",
     "text": [
      " 89%|████████▊ | 210/237 [09:37<01:15,  2.80s/it]"
     ]
    },
    {
     "name": "stdout",
     "output_type": "stream",
     "text": [
      "(1775, 50) (215, 50)\n"
     ]
    },
    {
     "name": "stderr",
     "output_type": "stream",
     "text": [
      " 89%|████████▉ | 211/237 [09:39<01:08,  2.62s/it]"
     ]
    },
    {
     "name": "stdout",
     "output_type": "stream",
     "text": [
      "(1775, 50) (321, 50)\n"
     ]
    },
    {
     "name": "stderr",
     "output_type": "stream",
     "text": [
      " 89%|████████▉ | 212/237 [09:42<01:09,  2.80s/it]"
     ]
    },
    {
     "name": "stdout",
     "output_type": "stream",
     "text": [
      "(1775, 50) (311, 50)\n"
     ]
    },
    {
     "name": "stderr",
     "output_type": "stream",
     "text": [
      " 90%|████████▉ | 213/237 [09:44<00:58,  2.44s/it]"
     ]
    },
    {
     "name": "stdout",
     "output_type": "stream",
     "text": [
      "(1775, 50) (247, 50)\n"
     ]
    },
    {
     "name": "stderr",
     "output_type": "stream",
     "text": [
      " 90%|█████████ | 214/237 [09:47<01:01,  2.66s/it]"
     ]
    },
    {
     "name": "stdout",
     "output_type": "stream",
     "text": [
      "(1775, 50) (296, 50)\n"
     ]
    },
    {
     "name": "stderr",
     "output_type": "stream",
     "text": [
      " 91%|█████████ | 215/237 [09:50<01:02,  2.83s/it]"
     ]
    },
    {
     "name": "stdout",
     "output_type": "stream",
     "text": [
      "(1775, 50) (345, 50)\n"
     ]
    },
    {
     "name": "stderr",
     "output_type": "stream",
     "text": [
      " 91%|█████████ | 216/237 [09:54<01:01,  2.91s/it]"
     ]
    },
    {
     "name": "stdout",
     "output_type": "stream",
     "text": [
      "(1775, 50) (351, 50)\n"
     ]
    },
    {
     "name": "stderr",
     "output_type": "stream",
     "text": [
      " 92%|█████████▏| 217/237 [09:57<01:00,  3.01s/it]"
     ]
    },
    {
     "name": "stdout",
     "output_type": "stream",
     "text": [
      "(1775, 50) (303, 50)\n"
     ]
    },
    {
     "name": "stderr",
     "output_type": "stream",
     "text": [
      " 92%|█████████▏| 218/237 [09:58<00:46,  2.47s/it]"
     ]
    },
    {
     "name": "stdout",
     "output_type": "stream",
     "text": [
      "(1775, 50) (96, 50)\n"
     ]
    },
    {
     "name": "stderr",
     "output_type": "stream",
     "text": [
      " 92%|█████████▏| 219/237 [10:01<00:46,  2.56s/it]"
     ]
    },
    {
     "name": "stdout",
     "output_type": "stream",
     "text": [
      "(1775, 50) (321, 50)\n"
     ]
    },
    {
     "name": "stderr",
     "output_type": "stream",
     "text": [
      " 93%|█████████▎| 220/237 [10:02<00:36,  2.17s/it]"
     ]
    },
    {
     "name": "stdout",
     "output_type": "stream",
     "text": [
      "(1775, 50) (358, 50)\n"
     ]
    },
    {
     "name": "stderr",
     "output_type": "stream",
     "text": [
      " 93%|█████████▎| 221/237 [10:05<00:38,  2.42s/it]"
     ]
    },
    {
     "name": "stdout",
     "output_type": "stream",
     "text": [
      "(1775, 50) (59, 50)\n"
     ]
    },
    {
     "name": "stderr",
     "output_type": "stream",
     "text": [
      " 94%|█████████▎| 222/237 [10:08<00:38,  2.57s/it]"
     ]
    },
    {
     "name": "stdout",
     "output_type": "stream",
     "text": [
      "(1775, 50) (100, 50)\n"
     ]
    },
    {
     "name": "stderr",
     "output_type": "stream",
     "text": [
      " 94%|█████████▍| 223/237 [10:11<00:37,  2.70s/it]"
     ]
    },
    {
     "name": "stdout",
     "output_type": "stream",
     "text": [
      "(1775, 50) (323, 50)\n"
     ]
    },
    {
     "name": "stderr",
     "output_type": "stream",
     "text": [
      "E1015 16:27:54.582181 3072575 hlo_lexer.cc:443] Failed to parse int literal: 4683564992900387549724\n",
      " 95%|█████████▍| 224/237 [10:14<00:36,  2.84s/it]"
     ]
    },
    {
     "name": "stdout",
     "output_type": "stream",
     "text": [
      "(1775, 50) (105, 50)\n"
     ]
    },
    {
     "name": "stderr",
     "output_type": "stream",
     "text": [
      " 95%|█████████▍| 225/237 [10:17<00:34,  2.89s/it]"
     ]
    },
    {
     "name": "stdout",
     "output_type": "stream",
     "text": [
      "(1775, 50) (175, 50)\n"
     ]
    },
    {
     "name": "stderr",
     "output_type": "stream",
     "text": [
      " 95%|█████████▌| 226/237 [10:18<00:26,  2.41s/it]"
     ]
    },
    {
     "name": "stdout",
     "output_type": "stream",
     "text": [
      "(1775, 50) (182, 50)\n"
     ]
    },
    {
     "name": "stderr",
     "output_type": "stream",
     "text": [
      " 96%|█████████▌| 227/237 [10:21<00:25,  2.58s/it]"
     ]
    },
    {
     "name": "stdout",
     "output_type": "stream",
     "text": [
      "(1775, 50) (130, 50)\n"
     ]
    },
    {
     "name": "stderr",
     "output_type": "stream",
     "text": [
      " 96%|█████████▌| 228/237 [10:24<00:24,  2.73s/it]"
     ]
    },
    {
     "name": "stdout",
     "output_type": "stream",
     "text": [
      "(1775, 50) (86, 50)\n"
     ]
    },
    {
     "name": "stderr",
     "output_type": "stream",
     "text": [
      " 97%|█████████▋| 229/237 [10:27<00:22,  2.79s/it]"
     ]
    },
    {
     "name": "stdout",
     "output_type": "stream",
     "text": [
      "(1775, 50) (272, 50)\n"
     ]
    },
    {
     "name": "stderr",
     "output_type": "stream",
     "text": [
      " 97%|█████████▋| 230/237 [10:30<00:19,  2.84s/it]"
     ]
    },
    {
     "name": "stdout",
     "output_type": "stream",
     "text": [
      "(1775, 50) (253, 50)\n"
     ]
    },
    {
     "name": "stderr",
     "output_type": "stream",
     "text": [
      " 97%|█████████▋| 231/237 [10:33<00:17,  2.88s/it]"
     ]
    },
    {
     "name": "stdout",
     "output_type": "stream",
     "text": [
      "(1775, 50) (140, 50)\n"
     ]
    },
    {
     "name": "stderr",
     "output_type": "stream",
     "text": [
      " 98%|█████████▊| 232/237 [10:36<00:14,  2.91s/it]"
     ]
    },
    {
     "name": "stdout",
     "output_type": "stream",
     "text": [
      "(1775, 50) (125, 50)\n"
     ]
    },
    {
     "name": "stderr",
     "output_type": "stream",
     "text": [
      " 98%|█████████▊| 233/237 [10:39<00:11,  2.93s/it]"
     ]
    },
    {
     "name": "stdout",
     "output_type": "stream",
     "text": [
      "(1775, 50) (81, 50)\n"
     ]
    },
    {
     "name": "stderr",
     "output_type": "stream",
     "text": [
      " 99%|█████████▊| 234/237 [10:42<00:08,  2.94s/it]"
     ]
    },
    {
     "name": "stdout",
     "output_type": "stream",
     "text": [
      "(1775, 50) (182, 50)\n"
     ]
    },
    {
     "name": "stderr",
     "output_type": "stream",
     "text": [
      " 99%|█████████▉| 235/237 [10:43<00:04,  2.42s/it]"
     ]
    },
    {
     "name": "stdout",
     "output_type": "stream",
     "text": [
      "(1775, 50) (229, 50)\n"
     ]
    },
    {
     "name": "stderr",
     "output_type": "stream",
     "text": [
      "100%|█████████▉| 236/237 [10:46<00:02,  2.60s/it]"
     ]
    },
    {
     "name": "stdout",
     "output_type": "stream",
     "text": [
      "(1775, 50) (59, 50)\n"
     ]
    },
    {
     "name": "stderr",
     "output_type": "stream",
     "text": [
      "100%|██████████| 237/237 [10:48<00:00,  2.73s/it]\n"
     ]
    }
   ],
   "source": [
    "for c in tqdm(adata.obs.perturbation_name.unique()):\n",
    "    if \"control\" in c: # we only want to have combinations of drugs as potential OOD\n",
    "        continue\n",
    "\n",
    "    print(\n",
    "        control_adata.obsm[\"X_pca\"].shape,\n",
    "        adata[adata.obs[\"perturbation_name\"]==c].obsm[\"X_pca\"].shape\n",
    "    )\n",
    "    \n",
    "    pert_effects[c] = float(\n",
    "        sinkhorn_divergence(\n",
    "            pointcloud.PointCloud,\n",
    "            x=control_adata.obsm[\"X_pca\"],\n",
    "            y=adata[adata.obs[\"perturbation_name\"]==c].obsm[\"X_pca\"],\n",
    "            cost_fn=costs.SqEuclidean(),\n",
    "            epsilon=1e-1,\n",
    "            scale_cost=1.0,\n",
    "        ).divergence\n",
    "    )\n",
    "    # break"
   ]
  },
  {
   "cell_type": "code",
   "execution_count": 39,
   "id": "8466764e-6d53-4fb4-9233-9aa7b23f68ea",
   "metadata": {},
   "outputs": [],
   "source": [
    "pd.to_pickle(pert_effects, \"./pert_effects.pkl\")"
   ]
  },
  {
   "cell_type": "code",
   "execution_count": 29,
   "id": "ae2727d1-c265-47d8-a52a-ac3d381e5f84",
   "metadata": {},
   "outputs": [],
   "source": [
    "pert_effects = pd.read_pickle(\"./pert_effects.pkl\")"
   ]
  },
  {
   "cell_type": "code",
   "execution_count": 30,
   "id": "cac725d4-1821-4aa1-8962-62637e603382",
   "metadata": {},
   "outputs": [
    {
     "data": {
      "text/html": [
       "<div>\n",
       "<style scoped>\n",
       "    .dataframe tbody tr th:only-of-type {\n",
       "        vertical-align: middle;\n",
       "    }\n",
       "\n",
       "    .dataframe tbody tr th {\n",
       "        vertical-align: top;\n",
       "    }\n",
       "\n",
       "    .dataframe thead th {\n",
       "        text-align: right;\n",
       "    }\n",
       "</style>\n",
       "<table border=\"1\" class=\"dataframe\">\n",
       "  <thead>\n",
       "    <tr style=\"text-align: right;\">\n",
       "      <th></th>\n",
       "      <th>conditions</th>\n",
       "      <th>sinkhorn_div</th>\n",
       "    </tr>\n",
       "  </thead>\n",
       "  <tbody>\n",
       "    <tr>\n",
       "      <th>24</th>\n",
       "      <td>BAK1</td>\n",
       "      <td>24.722202</td>\n",
       "    </tr>\n",
       "    <tr>\n",
       "      <th>115</th>\n",
       "      <td>BCL2L11</td>\n",
       "      <td>26.296936</td>\n",
       "    </tr>\n",
       "    <tr>\n",
       "      <th>3</th>\n",
       "      <td>MAML2</td>\n",
       "      <td>26.538143</td>\n",
       "    </tr>\n",
       "    <tr>\n",
       "      <th>182</th>\n",
       "      <td>TGFBR2</td>\n",
       "      <td>26.719774</td>\n",
       "    </tr>\n",
       "    <tr>\n",
       "      <th>59</th>\n",
       "      <td>RUNX1T1</td>\n",
       "      <td>26.752579</td>\n",
       "    </tr>\n",
       "    <tr>\n",
       "      <th>...</th>\n",
       "      <td>...</td>\n",
       "      <td>...</td>\n",
       "    </tr>\n",
       "    <tr>\n",
       "      <th>151</th>\n",
       "      <td>CEBPA+CEBPE</td>\n",
       "      <td>157.644623</td>\n",
       "    </tr>\n",
       "    <tr>\n",
       "      <th>227</th>\n",
       "      <td>CEBPA+ZC3HAV1</td>\n",
       "      <td>159.242584</td>\n",
       "    </tr>\n",
       "    <tr>\n",
       "      <th>207</th>\n",
       "      <td>CEBPA+CEBPB</td>\n",
       "      <td>173.225815</td>\n",
       "    </tr>\n",
       "    <tr>\n",
       "      <th>80</th>\n",
       "      <td>CEBPA</td>\n",
       "      <td>176.338715</td>\n",
       "    </tr>\n",
       "    <tr>\n",
       "      <th>67</th>\n",
       "      <td>CEBPA+JUN</td>\n",
       "      <td>199.755219</td>\n",
       "    </tr>\n",
       "  </tbody>\n",
       "</table>\n",
       "<p>236 rows × 2 columns</p>\n",
       "</div>"
      ],
      "text/plain": [
       "        conditions  sinkhorn_div\n",
       "24            BAK1     24.722202\n",
       "115        BCL2L11     26.296936\n",
       "3            MAML2     26.538143\n",
       "182         TGFBR2     26.719774\n",
       "59         RUNX1T1     26.752579\n",
       "..             ...           ...\n",
       "151    CEBPA+CEBPE    157.644623\n",
       "227  CEBPA+ZC3HAV1    159.242584\n",
       "207    CEBPA+CEBPB    173.225815\n",
       "80           CEBPA    176.338715\n",
       "67       CEBPA+JUN    199.755219\n",
       "\n",
       "[236 rows x 2 columns]"
      ]
     },
     "metadata": {},
     "output_type": "display_data"
    }
   ],
   "source": [
    "df_effects = pd.DataFrame({\"conditions\": pert_effects.keys(), \"sinkhorn_div\": pert_effects.values()})\n",
    "df_effects = df_effects.sort_values(\"sinkhorn_div\")\n",
    "display(df_effects)"
   ]
  },
  {
   "cell_type": "markdown",
   "id": "fddf6e7b-f88d-4547-9fd3-388ada3b986b",
   "metadata": {},
   "source": [
    "### First split: OOD will be only combinations of seen genes."
   ]
  },
  {
   "cell_type": "markdown",
   "id": "a899393b-1599-4bd9-a05e-704bb12e6714",
   "metadata": {},
   "source": [
    "#### OOD evaluation are always on combinations of two genes that have been knocked-out. We can distinguish three cases (with increasing difficulty):\n",
    "- The training set contains samples where one of the two genes in the OOD combination has been knocked out. The training set does not contain samples where both genes in the OOD combination have been knocked out jointly."
   ]
  },
  {
   "cell_type": "code",
   "execution_count": 31,
   "id": "cd59fef6-e2aa-4023-b665-d5b166c1783a",
   "metadata": {},
   "outputs": [],
   "source": [
    "gene1 = adata.obs.gene_1.unique()\n",
    "gene2 = adata.obs.gene_2.unique()"
   ]
  },
  {
   "cell_type": "code",
   "execution_count": 32,
   "id": "ea238778-ad05-4fe3-82b4-c12db87b0fe8",
   "metadata": {},
   "outputs": [],
   "source": [
    "# single knockout\n",
    "singleton = adata[adata.obs.gene_2 == 'control'].obs.gene_1.unique()"
   ]
  },
  {
   "cell_type": "code",
   "execution_count": 33,
   "id": "d7dd52c1-e1c6-419b-9378-ae1dab899778",
   "metadata": {},
   "outputs": [],
   "source": [
    "# double knockout\n",
    "combinations = np.concatenate(\n",
    "    (\n",
    "        adata[adata.obs.gene_2 != 'control'].obs.gene_1.unique(), \n",
    "        adata[adata.obs.gene_2 != 'control'].obs.gene_2.unique(),\n",
    "    )\n",
    ")"
   ]
  },
  {
   "cell_type": "code",
   "execution_count": 55,
   "id": "a76bb0d6-7ad7-4593-87c9-893c7ea70c84",
   "metadata": {},
   "outputs": [
    {
     "name": "stdout",
     "output_type": "stream",
     "text": [
      "73 genes out of 106 singletons appear in combinations\n"
     ]
    },
    {
     "data": {
      "text/plain": [
       "View of AnnData object with n_obs × n_vars = 41685 × 2000\n",
       "    obs: 'guide_identity', 'read_count', 'UMI_count', 'coverage', 'gemgroup', 'good_coverage', 'number_of_cells', 'guide_AHR', 'guide_ARID1A', 'guide_ARRDC3', 'guide_ATL1', 'guide_BAK1', 'guide_BCL2L11', 'guide_BCORL1', 'guide_BPGM', 'guide_C19orf26', 'guide_C3orf72', 'guide_CBFA2T3', 'guide_CBL', 'guide_CDKN1A', 'guide_CDKN1B', 'guide_CDKN1C', 'guide_CEBPA', 'guide_CEBPB', 'guide_CEBPE', 'guide_CELF2', 'guide_CITED1', 'guide_CKS1B', 'guide_CLDN6', 'guide_CNN1', 'guide_CNNM4', 'guide_COL1A1', 'guide_COL2A1', 'guide_CSRNP1', 'guide_DLX2', 'guide_DUSP9', 'guide_EGR1', 'guide_ELMSAN1', 'guide_ETS2', 'guide_FEV', 'guide_FOSB', 'guide_FOXA1', 'guide_FOXA3', 'guide_FOXF1', 'guide_FOXL2', 'guide_FOXO4', 'guide_GLB1L2', 'guide_HES7', 'guide_HK2', 'guide_HNF4A', 'guide_HOXA13', 'guide_HOXB9', 'guide_HOXC13', 'guide_IER5L', 'guide_IGDCC3', 'guide_IKZF3', 'guide_IRF1', 'guide_ISL2', 'guide_JUN', 'guide_KIAA1804', 'guide_KIF18B', 'guide_KIF2C', 'guide_KLF1', 'guide_KMT2A', 'guide_LHX1', 'guide_LYL1', 'guide_MAML2', 'guide_MAP2K3', 'guide_MAP2K6', 'guide_MAP4K3', 'guide_MAP4K5', 'guide_MAP7D1', 'guide_MAPK1', 'guide_MEIS1', 'guide_MIDN', 'guide_NCL', 'guide_NIT1', 'guide_OSR2', 'guide_PLK4', 'guide_POU3F2', 'guide_PRDM1', 'guide_PRTG', 'guide_PTPN1', 'guide_PTPN12', 'guide_PTPN13', 'guide_PTPN9', 'guide_RHOXF2', 'guide_RREB1', 'guide_RUNX1T1', 'guide_S1PR2', 'guide_SAMD1', 'guide_SET', 'guide_SGK1', 'guide_SLC38A2', 'guide_SLC4A1', 'guide_SLC6A9', 'guide_SNAI1', 'guide_SPI1', 'guide_STIL', 'guide_TBX2', 'guide_TBX3', 'guide_TGFBR2', 'guide_TMSB4X', 'guide_TP73', 'guide_TSC22D1', 'guide_UBASH3A', 'guide_UBASH3B', 'guide_ZBTB1', 'guide_ZBTB10', 'guide_ZBTB25', 'guide_ZC3HAV1', 'guide_ZNF318', 'guide_ids', 'n_genes', 'n_genes_by_counts', 'total_counts', 'total_counts_mt', 'pct_counts_mt', 'leiden', 'perturbation_name', 'perturbation_type', 'perturbation_value', 'perturbation_unit', 'gene_1', 'gene_2', 'control', 'cell_line'\n",
       "    var: 'index', 'n_cells', 'mt', 'n_cells_by_counts', 'mean_counts', 'pct_dropout_by_counts', 'total_counts', 'highly_variable', 'means', 'dispersions', 'dispersions_norm'\n",
       "    uns: 'doi', 'hvg', 'leiden', 'neighbors', 'pca', 'preprocessing_nb_link', 'umap', 'ems2', 'log1p'\n",
       "    obsm: 'X_pca', 'X_umap'\n",
       "    varm: 'PCs'\n",
       "    layers: 'counts'\n",
       "    obsp: 'connectivities', 'distances'"
      ]
     },
     "execution_count": 55,
     "metadata": {},
     "output_type": "execute_result"
    }
   ],
   "source": [
    "# eligible contains all genes that have been knocked out either singly or jointly\n",
    "elegible = set(singleton).intersection(set(combinations))\n",
    "print(f\"{len(elegible)} genes out of {len(set(singleton))} singletons appear in combinations\")\n",
    "# eligible_combinations contains gene pairs for which knockouts have been observed either singly or jointly\n",
    "elegible_combinations = adata[(adata.obs.gene_1.isin(elegible)) & (adata.obs.gene_2.isin(elegible))]\n",
    "elegible_combinations"
   ]
  },
  {
   "cell_type": "code",
   "execution_count": 58,
   "id": "773b3bcb-4241-4144-8452-c97e978661e0",
   "metadata": {},
   "outputs": [
    {
     "name": "stdout",
     "output_type": "stream",
     "text": [
      "49\n"
     ]
    }
   ],
   "source": [
    "# Double check that the selected combinations appear as singletons\n",
    "assert set(np.intersect1d(elegible_combinations.obs.gene_1, singleton)) == \\\n",
    "       set(elegible_combinations.obs.gene_1)\n",
    "print(len(set(elegible_combinations.obs.gene_1.unique())))"
   ]
  },
  {
   "cell_type": "code",
   "execution_count": 59,
   "id": "3640d32a-7bb9-476a-9d69-4be0f27eafd9",
   "metadata": {},
   "outputs": [
    {
     "name": "stdout",
     "output_type": "stream",
     "text": [
      "51\n"
     ]
    }
   ],
   "source": [
    "assert set(np.intersect1d(elegible_combinations.obs.gene_2, elegible_combinations.obs.gene_2)) == \\\n",
    "       set(elegible_combinations.obs.gene_2)\n",
    "print(len(set(elegible_combinations.obs.gene_2.unique())))"
   ]
  },
  {
   "cell_type": "code",
   "execution_count": 60,
   "id": "25b52bea-a723-479c-aeac-ea9a7d774548",
   "metadata": {},
   "outputs": [],
   "source": [
    "elegible_combinations_pert = elegible_combinations.obs.perturbation_name.unique()"
   ]
  },
  {
   "cell_type": "markdown",
   "id": "9838d185-3d46-4544-8b43-3c9502212fdb",
   "metadata": {},
   "source": [
    "### Rank combinations according to Sinkhorn divergence to choose them.\n",
    "Notice that we need to add control to them to compute the Sinkhorn divergence from control."
   ]
  },
  {
   "cell_type": "code",
   "execution_count": 38,
   "id": "2abd4c26-4c99-4994-acc8-ed187ac1eeb2",
   "metadata": {},
   "outputs": [
    {
     "data": {
      "text/plain": [
       "['KLF1+MAP2K6', 'CEBPE+RUNX1T1', 'ETS2+MAP7D1', 'CBL+PTPN9', 'ELMSAN1+LHX1', ..., 'IGDCC3+PRTG', 'CDKN1A+CDKN1C', 'PLK4+STIL', 'ELMSAN1+ZBTB10', 'C3orf72+FOXL2']\n",
       "Length: 131\n",
       "Categories (131, object): ['AHR+FEV', 'AHR+KLF1', 'BAK1+BCL2L11', 'BAK1+KLF1', ..., 'SNAI1+ZBTB10', 'TBX2+TBX3', 'UBASH3A+UBASH3B', 'UBASH3B+ZBTB25']"
      ]
     },
     "execution_count": 38,
     "metadata": {},
     "output_type": "execute_result"
    }
   ],
   "source": [
    "elegible_combinations_pert"
   ]
  },
  {
   "cell_type": "code",
   "execution_count": 39,
   "id": "74f100be-ec02-4db9-be61-fe670ba90e1c",
   "metadata": {},
   "outputs": [],
   "source": [
    "all_seen_genes = df_effects[df_effects.conditions.isin(elegible_combinations_pert)]"
   ]
  },
  {
   "cell_type": "code",
   "execution_count": 40,
   "id": "61ed0464-89c0-4a1d-8c7e-198c1a6d6fca",
   "metadata": {},
   "outputs": [
    {
     "data": {
      "text/html": [
       "<div>\n",
       "<style scoped>\n",
       "    .dataframe tbody tr th:only-of-type {\n",
       "        vertical-align: middle;\n",
       "    }\n",
       "\n",
       "    .dataframe tbody tr th {\n",
       "        vertical-align: top;\n",
       "    }\n",
       "\n",
       "    .dataframe thead th {\n",
       "        text-align: right;\n",
       "    }\n",
       "</style>\n",
       "<table border=\"1\" class=\"dataframe\">\n",
       "  <thead>\n",
       "    <tr style=\"text-align: right;\">\n",
       "      <th></th>\n",
       "      <th>conditions</th>\n",
       "      <th>sinkhorn_div</th>\n",
       "    </tr>\n",
       "  </thead>\n",
       "  <tbody>\n",
       "    <tr>\n",
       "      <th>75</th>\n",
       "      <td>MAP2K3+MAP2K6</td>\n",
       "      <td>28.911852</td>\n",
       "    </tr>\n",
       "    <tr>\n",
       "      <th>137</th>\n",
       "      <td>BAK1+BCL2L11</td>\n",
       "      <td>29.296669</td>\n",
       "    </tr>\n",
       "    <tr>\n",
       "      <th>102</th>\n",
       "      <td>BCL2L11+TGFBR2</td>\n",
       "      <td>29.386816</td>\n",
       "    </tr>\n",
       "    <tr>\n",
       "      <th>71</th>\n",
       "      <td>BAK1+TMSB4X</td>\n",
       "      <td>30.026728</td>\n",
       "    </tr>\n",
       "    <tr>\n",
       "      <th>26</th>\n",
       "      <td>MAP2K3+SLC38A2</td>\n",
       "      <td>30.220001</td>\n",
       "    </tr>\n",
       "    <tr>\n",
       "      <th>...</th>\n",
       "      <td>...</td>\n",
       "      <td>...</td>\n",
       "    </tr>\n",
       "    <tr>\n",
       "      <th>192</th>\n",
       "      <td>CEBPE+SPI1</td>\n",
       "      <td>153.294083</td>\n",
       "    </tr>\n",
       "    <tr>\n",
       "      <th>151</th>\n",
       "      <td>CEBPA+CEBPE</td>\n",
       "      <td>157.644623</td>\n",
       "    </tr>\n",
       "    <tr>\n",
       "      <th>227</th>\n",
       "      <td>CEBPA+ZC3HAV1</td>\n",
       "      <td>159.242584</td>\n",
       "    </tr>\n",
       "    <tr>\n",
       "      <th>207</th>\n",
       "      <td>CEBPA+CEBPB</td>\n",
       "      <td>173.225815</td>\n",
       "    </tr>\n",
       "    <tr>\n",
       "      <th>67</th>\n",
       "      <td>CEBPA+JUN</td>\n",
       "      <td>199.755219</td>\n",
       "    </tr>\n",
       "  </tbody>\n",
       "</table>\n",
       "<p>131 rows × 2 columns</p>\n",
       "</div>"
      ],
      "text/plain": [
       "         conditions  sinkhorn_div\n",
       "75    MAP2K3+MAP2K6     28.911852\n",
       "137    BAK1+BCL2L11     29.296669\n",
       "102  BCL2L11+TGFBR2     29.386816\n",
       "71      BAK1+TMSB4X     30.026728\n",
       "26   MAP2K3+SLC38A2     30.220001\n",
       "..              ...           ...\n",
       "192      CEBPE+SPI1    153.294083\n",
       "151     CEBPA+CEBPE    157.644623\n",
       "227   CEBPA+ZC3HAV1    159.242584\n",
       "207     CEBPA+CEBPB    173.225815\n",
       "67        CEBPA+JUN    199.755219\n",
       "\n",
       "[131 rows x 2 columns]"
      ]
     },
     "execution_count": 40,
     "metadata": {},
     "output_type": "execute_result"
    }
   ],
   "source": [
    "all_seen_genes"
   ]
  },
  {
   "cell_type": "code",
   "execution_count": 133,
   "id": "c17c3c25-1b0c-4135-a972-fb957a01323c",
   "metadata": {},
   "outputs": [],
   "source": [
    "def create_train_test_splits(\n",
    "    df: pd.DataFrame, \n",
    "    num_splits: int,\n",
    "    stratify_by: str = \"sinkhorn_div\",\n",
    "    show: bool = True,\n",
    "):\n",
    "    num_classes = int(np.ceil(len(df) / num_splits))\n",
    "    num_samples_per_class = int(np.ceil(len(df) / num_classes))\n",
    "    classes = np.arange(0, num_classes).repeat(num_samples_per_class)[:len(df)]\n",
    "    cv_splitter = StratifiedKFold(n_splits=num_splits, shuffle=True, random_state=2024)\n",
    "    cv_split_idcs = list(cv_splitter.split(np.arange(df.shape[0]), classes))\n",
    "\n",
    "    cv_splits = []\n",
    "    df = df.sort_values(by=stratify_by)\n",
    "    for split_i, split in enumerate(cv_split_idcs):\n",
    "        train_idcs, test_idcs = split\n",
    "        cv_splits.append([df.iloc[train_idcs], df.iloc[test_idcs]])\n",
    "\n",
    "    if show:\n",
    "        fig, ax = plt.subplots(1, num_splits, figsize=(10, 2))\n",
    "        for split_i, split in enumerate(cv_split_idcs):\n",
    "            train_idcs, test_idcs = split\n",
    "            train_set = df.iloc[train_idcs]\n",
    "            test_set = df.iloc[test_idcs]\n",
    "            ax[split_i].hist(train_set.loc[:, stratify_by].values, bins=15)\n",
    "            ax[split_i].hist(test_set.loc[:, stratify_by].values, bins=15)\n",
    "            ax[split_i].set_xlabel(stratify_by)\n",
    "            ax[split_i].set_ylabel(\"frequency\")\n",
    "            ax[split_i].set_title(f\"#train: {len(train_set)}, #test: {len(test_set)}\")\n",
    "            \n",
    "        plt.tight_layout()\n",
    "        plt.show()\n",
    "    \n",
    "    return cv_splits"
   ]
  },
  {
   "cell_type": "code",
   "execution_count": 136,
   "id": "865e115e-24ba-4136-8d84-63851066e1a7",
   "metadata": {},
   "outputs": [
    {
     "name": "stderr",
     "output_type": "stream",
     "text": [
      "/home/haicu/soeren.becker/miniconda3/envs/env_cfp/lib/python3.12/site-packages/sklearn/model_selection/_split.py:776: UserWarning: The least populated class in y has only 2 members, which is less than n_splits=3.\n",
      "  warnings.warn(\n"
     ]
    },
    {
     "data": {
      "image/png": "[encoded data removed]",
      "text/plain": [
       "<Figure size 1000x200 with 3 Axes>"
      ]
     },
     "metadata": {},
     "output_type": "display_data"
    }
   ],
   "source": [
    "cv_splits = create_train_test_splits(all_seen_genes, 3)\n",
    "\n",
    "# doublecheck that there is not overlap between train and test conditions\n",
    "for split in cv_splits:\n",
    "    train_set, test_set = split\n",
    "    assert len(np.intersect1d(train_set.conditions, test_set.conditions)) == 0"
   ]
  },
  {
   "cell_type": "code",
   "execution_count": 135,
   "id": "8f879408-03e0-4185-8afa-71715b25bd79",
   "metadata": {},
   "outputs": [],
   "source": []
  },
  {
   "cell_type": "code",
   "execution_count": null,
   "id": "3791cbd9-80e6-41c7-a5a4-71761c3f324c",
   "metadata": {},
   "outputs": [],
   "source": []
  },
  {
   "cell_type": "code",
   "execution_count": 139,
   "id": "033e615a-15d0-4e76-97f0-95ca9743f538",
   "metadata": {},
   "outputs": [],
   "source": [
    "adata.obs[\"ood\"] = adata.obs.apply(\n",
    "    lambda x: \n",
    "        x[\"perturbation_name\"] if x[\"perturbation_name\"] in test_set.conditions \n",
    "        else \"not ood\", \n",
    "    axis=1\n",
    ")"
   ]
  },
  {
   "cell_type": "code",
   "execution_count": null,
   "id": "287a908e-c1ed-4a4a-b0bb-2cf59d239a75",
   "metadata": {},
   "outputs": [],
   "source": []
  }
 ],
 "metadata": {
  "kernelspec": {
   "display_name": "env_cfp",
   "language": "python",
   "name": "env_cfp"
  },
  "language_info": {
   "codemirror_mode": {
    "name": "ipython",
    "version": 3
   },
   "file_extension": ".py",
   "mimetype": "text/x-python",
   "name": "python",
   "nbconvert_exporter": "python",
   "pygments_lexer": "ipython3",
   "version": "3.12.0"
  }
 },
 "nbformat": 4,
 "nbformat_minor": 5
}
