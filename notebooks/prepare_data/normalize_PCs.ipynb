{
 "cells": [
  {
   "cell_type": "code",
   "execution_count": 1,
   "id": "601be2d2-efcf-47fd-91a2-2518bb84044a",
   "metadata": {},
   "outputs": [],
   "source": [
    "import scanpy as sc"
   ]
  },
  {
   "cell_type": "code",
   "execution_count": 2,
   "id": "43d49288-698c-49dd-b39b-16e7976bbb9a",
   "metadata": {},
   "outputs": [],
   "source": [
    "adata_train_path = \"/lustre/groups/ml01/workspace/ot_perturbation/data/sciplex/adata_train_biolord_split_30.h5ad\"\n",
    "adata_test_path = \"/lustre/groups/ml01/workspace/ot_perturbation/data/sciplex/adata_test_biolord_split_30.h5ad\"\n",
    "adata_ood_path = \"/lustre/groups/ml01/workspace/ot_perturbation/data/sciplex/adata_ood_biolord_split_30.h5ad\""
   ]
  },
  {
   "cell_type": "code",
   "execution_count": 3,
   "id": "994deb69-7ef8-42ca-903a-c01303ef917e",
   "metadata": {},
   "outputs": [
    {
     "name": "stderr",
     "output_type": "stream",
     "text": [
      "/home/icb/dominik.klein/mambaforge/envs/ot_pert_genot/lib/python3.12/site-packages/anndata/__init__.py:51: FutureWarning: `anndata.read` is deprecated, use `anndata.read_h5ad` instead. `ad.read` will be removed in mid 2024.\n",
      "  warnings.warn(\n",
      "/home/icb/dominik.klein/mambaforge/envs/ot_pert_genot/lib/python3.12/site-packages/anndata/__init__.py:51: FutureWarning: `anndata.read` is deprecated, use `anndata.read_h5ad` instead. `ad.read` will be removed in mid 2024.\n",
      "  warnings.warn(\n",
      "/home/icb/dominik.klein/mambaforge/envs/ot_pert_genot/lib/python3.12/site-packages/anndata/__init__.py:51: FutureWarning: `anndata.read` is deprecated, use `anndata.read_h5ad` instead. `ad.read` will be removed in mid 2024.\n",
      "  warnings.warn(\n"
     ]
    }
   ],
   "source": [
    "adata_train = sc.read(adata_train_path)\n",
    "adata_test = sc.read(adata_test_path)\n",
    "adata_ood = sc.read(adata_ood_path)\n"
   ]
  },
  {
   "cell_type": "code",
   "execution_count": 4,
   "id": "5b12782e-3928-40fa-a5f1-c96d55c54fe8",
   "metadata": {},
   "outputs": [
    {
     "data": {
      "text/plain": [
       "condition\n",
       "MCF7_Givinostat_(ITF2357)_10.0                  501\n",
       "A549_Vehicle_0.0                                500\n",
       "K562_Vehicle_0.0                                500\n",
       "MCF7_Vehicle_0.0                                500\n",
       "MCF7_Givinostat_(ITF2357)_100.0                 491\n",
       "MCF7_Belinostat_(PXD101)_10000.0                474\n",
       "MCF7_Dacinostat_(LAQ824)_10.0                   454\n",
       "MCF7_Quisinostat_(JNJ-26481585)_2HCl_10000.0    448\n",
       "MCF7_Belinostat_(PXD101)_10.0                   441\n",
       "MCF7_Dacinostat_(LAQ824)_10000.0                435\n",
       "MCF7_Givinostat_(ITF2357)_10000.0               418\n",
       "MCF7_Quisinostat_(JNJ-26481585)_2HCl_1000.0     405\n",
       "MCF7_Givinostat_(ITF2357)_1000.0                397\n",
       "MCF7_Belinostat_(PXD101)_100.0                  388\n",
       "MCF7_Belinostat_(PXD101)_1000.0                 387\n",
       "MCF7_Tanespimycin_(17-AAG)_10.0                 380\n",
       "MCF7_TAK-901_100.0                              366\n",
       "MCF7_Dacinostat_(LAQ824)_1000.0                 358\n",
       "MCF7_Alvespimycin_(17-DMAG)_HCl_10.0            358\n",
       "MCF7_Quisinostat_(JNJ-26481585)_2HCl_10.0       342\n",
       "MCF7_Quisinostat_(JNJ-26481585)_2HCl_100.0      331\n",
       "MCF7_Dacinostat_(LAQ824)_100.0                  320\n",
       "MCF7_TAK-901_10.0                               307\n",
       "MCF7_Hesperadin_10.0                            280\n",
       "MCF7_Flavopiridol_HCl_10.0                      261\n",
       "MCF7_Tanespimycin_(17-AAG)_100.0                255\n",
       "MCF7_TAK-901_1000.0                             243\n",
       "MCF7_Hesperadin_10000.0                         225\n",
       "A549_Alvespimycin_(17-DMAG)_HCl_10.0            224\n",
       "K562_Belinostat_(PXD101)_10.0                   221\n",
       "K562_Tanespimycin_(17-AAG)_10.0                 219\n",
       "MCF7_Alvespimycin_(17-DMAG)_HCl_100.0           218\n",
       "A549_Belinostat_(PXD101)_100.0                  216\n",
       "K562_Alvespimycin_(17-DMAG)_HCl_10.0            214\n",
       "A549_Tanespimycin_(17-AAG)_10.0                 214\n",
       "MCF7_Hesperadin_1000.0                          210\n",
       "MCF7_Alvespimycin_(17-DMAG)_HCl_1000.0          207\n",
       "K562_Givinostat_(ITF2357)_10.0                  206\n",
       "K562_Belinostat_(PXD101)_100.0                  203\n",
       "A549_Dacinostat_(LAQ824)_10.0                   200\n",
       "Name: count, dtype: int64"
      ]
     },
     "execution_count": 4,
     "metadata": {},
     "output_type": "execute_result"
    }
   ],
   "source": [
    "adata_ood.obs[\"condition\"].value_counts()"
   ]
  },
  {
   "cell_type": "code",
   "execution_count": 9,
   "id": "899af00a-2b78-4cee-aa12-6b8fc07ffc96",
   "metadata": {},
   "outputs": [
    {
     "data": {
      "text/plain": [
       "-6.889631"
      ]
     },
     "execution_count": 9,
     "metadata": {},
     "output_type": "execute_result"
    }
   ],
   "source": [
    "adata_train.obsm[\"X_pca\"].min()"
   ]
  },
  {
   "cell_type": "code",
   "execution_count": 17,
   "id": "720af03d-43f4-4299-97ce-82e7a2659208",
   "metadata": {},
   "outputs": [
    {
     "data": {
      "text/plain": [
       "<matplotlib.collections.PathCollection at 0x7f33656e3020>"
      ]
     },
     "execution_count": 17,
     "metadata": {},
     "output_type": "execute_result"
    },
    {
     "data": {
      "image/png": "[encoded data removed]",
      "text/plain": [
       "<Figure size 640x480 with 1 Axes>"
      ]
     },
     "metadata": {},
     "output_type": "display_data"
    }
   ],
   "source": [
    "import matplotlib.pyplot as plt\n",
    "plt.scatter(adata_test.obsm[\"X_pca\"][:,11], adata_test.obsm[\"X_pca\"][:,21])"
   ]
  },
  {
   "cell_type": "code",
   "execution_count": 11,
   "id": "a062eb4c-7e35-4c16-af74-670227ce99dd",
   "metadata": {},
   "outputs": [
    {
     "data": {
      "text/plain": [
       "7.282272957299403"
      ]
     },
     "execution_count": 11,
     "metadata": {},
     "output_type": "execute_result"
    }
   ],
   "source": [
    "adata_test.obsm[\"X_pca\"].max()"
   ]
  },
  {
   "cell_type": "code",
   "execution_count": 13,
   "id": "4aae9185-f604-4c67-b9ed-fdde91b07104",
   "metadata": {},
   "outputs": [
    {
     "data": {
      "text/plain": [
       "-6.252831365819759"
      ]
     },
     "execution_count": 13,
     "metadata": {},
     "output_type": "execute_result"
    }
   ],
   "source": [
    "adata_ood.obsm[\"X_pca\"].min()"
   ]
  },
  {
   "cell_type": "code",
   "execution_count": 26,
   "id": "b8ed777e-3cd6-4a5a-ab92-1d28b407e8d2",
   "metadata": {},
   "outputs": [],
   "source": [
    "smiles = list(adata_train.obs[\"smiles\"].cat.categories)\n",
    "smiles.extend(list(adata_ood.obs[\"smiles\"].cat.categories))"
   ]
  },
  {
   "cell_type": "code",
   "execution_count": 27,
   "id": "15f39fa0-c0d5-4e38-be60-34daa47946f7",
   "metadata": {},
   "outputs": [
    {
     "data": {
      "text/plain": [
       "['C(CC(O)(P(=O)(O)O)P(=O)(O)[O-])CN.O.O.O.[Na+]',\n",
       " 'C(CS(=O)(=O)[O-])S.[Na+]',\n",
       " 'C1=C(C(=O)NC(=O)N1)F',\n",
       " 'C1=C2C3=C(C(=C1O)O)OC(=O)C4=CC(=C(C(=C43)OC2=O)O)O',\n",
       " 'C1=CC(=C(C(=C1)F)C(=O)N2C(=NC(=N2)NC3=CC=C(C=C3)S(=O)(=O)N)N)F',\n",
       " 'C1=CC(=C(C2=C1C=CC(=O)O2)O)O',\n",
       " 'C1=CC(=C(C=C1C(=O)N)[N+](=O)[O-])I',\n",
       " 'C1=CC(=C(C=C1C2=C(C(=O)C3=C(C=C(C=C3O2)O)O)O)O)O',\n",
       " 'C1=CC(=CC(=C1)Cl)NC(=O)NC2=NC=C(S2)CCNC3=NC=NC4=C3SC=C4',\n",
       " 'C1=CC(=CC(=C1)N)C(=O)N',\n",
       " 'C1=CC(=CC=C1C=CC2=CC(=CC(=C2)O)O)O',\n",
       " 'C1=CC(=CC=C1S(=O)(=O)N(CC2=C(C=C(C=C2)C3=NOC=N3)F)C(CCC(F)(F)F)C(=O)N)Cl',\n",
       " 'C1=CC(=CN=C1)C=CC(=O)NCC2=CC=C(C=C2)C(=O)NC3=C(C=CC(=C3)F)N',\n",
       " 'C1=CC=C(C(=C1)C(=C(N)SC2=CC=C(C=C2)N)C#N)C(F)(F)F',\n",
       " 'C1=CC=C(C(=C1)N)NC(=O)C2=CC=C(C=C2)CNC(=O)OCC3=CN=CC=C3',\n",
       " 'C1=CC=C(C(=C1)N)NC(=O)C2=CC=C(C=C2)CNC3=NC=CC(=N3)C4=CN=CC=C4',\n",
       " 'C1=CC=C(C=C1)CCCC(=O)[O-].[Na+]',\n",
       " 'C1=CC=C(C=C1)CN2C3=CC=CC=C3C(=C(C2=O)C(=O)NCC(=O)O)O',\n",
       " 'C1=CC=C(C=C1)CNC(=O)C(=CC2=CC(=C(C=C2)O)O)C#N',\n",
       " 'C1=CC=C2C(=C1)C(=CN2)CCNC3=CC=C(C=C3)NC4=CC=NC=C4',\n",
       " 'C1=CC=C2C(=C1)C(=O)N(C2=O)C(CC3=CNC4=CC=CC=C43)C(=O)O',\n",
       " 'C1=CC=C2C(=C1)N=NN2C(=O)C3=C(C=C(C=C3)Cl)Cl',\n",
       " 'C1=CN2C3C(C(C(O3)CO)O)OC2=NC1=N.Cl',\n",
       " 'C1=NC(=C(N1C2C(C(C(O2)CO)O)O)N)C(=O)N',\n",
       " 'C1=NC(=NC(=O)N1C2C(C(C(O2)CO)O)O)N',\n",
       " 'C1=NC2=C(N1)C(=S)N=CN2',\n",
       " 'C1C(C(OC1N2C=NC(=NC2=O)N)CO)O',\n",
       " 'C1C(C1N)C2=CC=CC=C2.Cl',\n",
       " 'C1C2=CN=C(N=C2C3=C(C=C(C=C3)Cl)C(=N1)C4=C(C=CC=C4F)F)NC5=CC=C(C=C5)C(=O)O',\n",
       " 'C1CC(=O)N([C@@H]1C(=O)N(C2=CC(=CN=C2)F)[C@@H](C3=CC=CC=C3Cl)C(=O)NC4CC(C4)(F)F)C5=NC=CC(=C5)C#N',\n",
       " 'C1CC(=O)NC(=O)C1N2C(=O)C3=CC=CC=C3C2=O',\n",
       " 'C1CC(=O)NC(=O)C1N2CC3=C(C2=O)C=CC=C3N',\n",
       " 'C1CC(C2=C(C1)C3=C(N2)C=CC(=C3)Cl)C(=O)N',\n",
       " 'C1CC(CCC1CCC(=O)O)(C2=C(C=CC(=C2)F)F)S(=O)(=O)C3=CC=C(C=C3)Cl',\n",
       " 'C1CC(CCC1OC2=C(C(=CC=C2)Cl)F)(CC3=NC(=CC=C3)NC4=NC=CS4)C(=O)O',\n",
       " 'C1CC1C(=O)NC2=NN3C(=N2)C=CC=C3C4=CC=C(C=C4)CN5CCS(=O)(=O)CC5',\n",
       " 'C1CC1NC(=O)NC2=C(NN=C2)C3=NC4=C(N3)C=C(C=C4)CN5CCOCC5',\n",
       " 'C1CCC(C1)C(CC#N)N2C=C(C=N2)C3=C4C=CNC4=NC=N3',\n",
       " 'C1CCC(CC1)NC(=O)N(CCCl)N=O',\n",
       " 'C1CN(CCC1CC2=CC(=CC=C2)OC3=NC=C(C=C3)C(F)(F)F)C(=O)NC4=CN=CC=C4',\n",
       " 'C1CN(CCC2=CC=CC=C21)C3=NC(=NC(=C3)NCCC(=O)O)C4=CC=CC=N4',\n",
       " 'C1CN(CCN1)C(=O)C2=CC=C(C=C2)C=CC3=NNC4=CC=CC=C43',\n",
       " 'C1CN(CCN1)CC2=CSC3=NC(=CN23)C4=CC=CC=C4NC(=O)C5=NC6=CC=CC=C6N=C5.Cl',\n",
       " 'C1CN1P(=S)(N2CC2)N3CC3',\n",
       " 'C1CNCCC1N2C=C(C=N2)C3=NC4=C(C=CC=C4N=C3)C5=CC(=C(C(=C5)F)CN6CCOCC6)F.Cl.Cl',\n",
       " 'C1CNCCC1NC2CC2C3=CC=CC=C3.Cl.Cl',\n",
       " 'C1CNCCN(C1)S(=O)(=O)C2=CC=CC3=C2C=CN=C3.Cl',\n",
       " 'C1COCCN1C2=CC=C(C=C2)NC3=NC=CC(=N3)C4=CC=C(C=C4)C(=O)NCC#N',\n",
       " 'C1CSCC2=C1N=C(NC2=O)C3=CC=C(C=C3)C(F)(F)F',\n",
       " 'C1OC2=C(O1)C=C(C=C2)C3=C(NC(=N3)C4=CC=C(C=C4)C(=O)N)C5=CC=CC=N5',\n",
       " 'CC(=O)NC1=CC=C(C=C1)C(=O)NC2=CC=CC=C2N',\n",
       " 'CC(=O)NC1=CC=C(C=C1)OCC(C)(C(=O)NC2=CC(=C(C=C2)[N+](=O)[O-])C(F)(F)F)O',\n",
       " 'CC(C)(CNC(=O)C1=CC=CC(=C1)C2=NOC(=N2)C(F)(F)F)C3=COC(=N3)C4=CC=CC=C4',\n",
       " 'CC(C)C(C1=CC=CC=C1)C(=O)NC2=CC=C(C=C2)C(=O)NO',\n",
       " 'CC(C)N1CCCN(CC1)C2=NC3=CC(=C(C=C3C(=N2)NC4CCN(CC4)CC5CCCCC5)OC)OCCCN6CCCCC6',\n",
       " 'CC(C1=C(C=CC(=C1Cl)F)Cl)OC2=C(N=CC(=C2)C3=CN(N=C3)C4CCNCC4)N',\n",
       " 'CC(C1=CC2=CC=CC=C2S1)N(C(=O)N)O',\n",
       " 'CC(C1=CC=CC=C1)NC(=O)C(=CC2=NC(=CC=C2)Br)C#N',\n",
       " 'CC(C1=CC=CC=C1)NC(=O)C2=CC=CC=C2N=CC3=C(C=CC4=CC=CC=C43)O',\n",
       " 'CC(C=C(C)C=CC(=O)NO)C(=O)C1=CC=C(C=C1)N(C)C',\n",
       " 'CC1(CCC(=C(C1)CN2CCN(CC2)C3=CC=C(C=C3)C(=O)NS(=O)(=O)C4=CC(=C(C=C4)NC(CCN5CCOCC5)CSC6=CC=CC=C6)S(=O)(=O)C(F)(F)F)C7=CC=C(C=C7)Cl)C',\n",
       " 'CC1(CCCN1)C2=NC3=C(C=CC=C3N2)C(=O)N',\n",
       " 'CC1(CCCN1C2=NN3C=CC=C3C(=N2)NC4=NNC(=C4)C5CC5)C(=O)NC6=CN=C(C=C6)F',\n",
       " 'CC1(CNC2=C1C=CC(=C2)NC(=O)C3=C(N=CC=C3)NCC4=CC=NC=C4)C.OP(=O)(O)O.OP(=O)(O)O',\n",
       " 'CC1(OC2CC3C4CCC5=CC(=O)C=CC5(C4(C(CC3(C2(O1)C(=O)CO)C)O)F)C)C',\n",
       " 'CC12CC(=O)C3C(C1CCC2(C(=O)CO)O)CCC4=CC(=O)C=CC34C',\n",
       " 'CC12CCC3C(C1CCC2O)C(CC4=C3C=CC(=C4)O)CCCCCCCCCS(=O)CCCC(C(F)(F)F)(F)F',\n",
       " 'CC12CCC3C(C1CCC2O)CCC4=CC(=C(C=C34)OC)O',\n",
       " 'CC1=C(C(=CC=C1)Cl)NC(=O)C2=CN=C(S2)NC3=CC(=NC(=N3)C)N4CCN(CC4)CCO',\n",
       " 'CC1=C(C2=CC=CC=C2N1)CCNCC3=CC=C(C=C3)C=CC(=O)NO',\n",
       " 'CC1=C(C=C(C=C1)C(=O)NC2=CC(=CC(=C2)C(F)(F)F)N3C=C(N=C3)C)NC4=NC=CC(=N4)C5=CN=CC=C5',\n",
       " 'CC1=C(C=CC(=C1)Cl)OCCCC(=O)NO',\n",
       " 'CC1=C(N=CN1)CSCCNC(=NC)NC#N',\n",
       " 'CC1=C(SC(=N1)C2=CN=CC=C2)C(=O)NC3=CC=CC=C3C4=CN5C(=CSC5=N4)CN6CCOCC6',\n",
       " 'CC1=C(SC(=N1)N)C2=NC(=NC=C2)NC3=CC=C(C=C3)N4CCOCC4',\n",
       " 'CC1=C(SC2=C1C(=NC(C3=NN=C(N32)C)CC(=O)OC(C)(C)C)C4=CC=C(C=C4)Cl)C',\n",
       " 'CC1=C2C(=C(N(C1=O)C)NC3=C(C=C(C=C3)I)F)C(=O)N(C(=O)N2C4=CC=CC(=C4)NC(=O)C)C5CC5',\n",
       " 'CC1=C2C(=NC=NN2C=C1NC(=O)OCC3COCCN3)NC4=CC5=C(C=C4)N(N=C5)CC6=CC(=CC=C6)F',\n",
       " 'CC1=C2C=C(C=CC2=C(C(=N1)C(=O)NCC(=O)O)O)OC3=CC=CC=C3',\n",
       " 'CC1=CC(=C(C=C1)F)NC(=O)NC2=CC=C(C=C2)C3=C4C(=CC=C3)NN=C4N',\n",
       " 'CC1=CC(=C(N1)C=C2C(=CC(=C3C=C4C=CC=CC4=N3)N2)OC)C.CS(=O)(=O)O',\n",
       " 'CC1=CC(=CC2=C1N=C(N2)C3=C(C=CNC3=O)NCC(C4=CC(=CC=C4)Cl)O)N5CCOCC5',\n",
       " 'CC1=CC(=NN1)NC2=C(C=C(C(=N2)NC(C)C3=CC=C(C=C3)F)C#N)F',\n",
       " 'CC1=CC(=NN1)NC2=CC(=NC(=N2)C=CC3=CC=CC=C3)N4CCN(CC4)C',\n",
       " 'CC1=CC(=NN1)NC2=CC(=NC(=N2)C=CC3=CC=CC=C3)N4CCN(CC4)C.C(C(C(=O)O)O)(C(=O)O)O',\n",
       " 'CC1=CC(=NN1)NC2=CC(=NC(=N2)SC3=CC=C(C=C3)NC(=O)C4CC4)N5CCN(CC5)C',\n",
       " 'CC1=CC(=NN1)NC2=NC(=NC=C2Cl)NC(C)C3=NC=C(C=N3)F',\n",
       " 'CC1=CC(=NN1)NC2=NN3C(=C(N=C3C(=C2)CN4CCOCC4)C)CC5=C(C=C(C=C5)Cl)F',\n",
       " 'CC1=CC2=C(N1)C=CC(=C2F)OC3=NC=NC4=CC(=C(C=C43)OC)OCCCN5CCCC5',\n",
       " 'CC1=CC=C(C=C1)C2=CC(=NN2C3=CC=C(C=C3)S(=O)(=O)N)C(F)(F)F',\n",
       " 'CC1=CC=C(C=C1)S(=O)(=O)O.CC1=CC=C(C=C1)S(=O)(=O)O.CS(=O)(=O)CCNCC1=CC=C(O1)C2=CC3=C(C=C2)N=CN=C3NC4=CC(=C(C=C4)OCC5=CC(=CC=C5)F)Cl',\n",
       " 'CC1=CC=C(C=C1)S(=O)(=O)O.CNC(=O)C1=NC=CC(=C1)OC2=CC=C(C=C2)NC(=O)NC3=CC(=C(C=C3)Cl)C(F)(F)F',\n",
       " 'CC1=CC=C(C=C1)S(=O)(=O)OCC(=O)NC2=CC(=C(C=C2)C(=O)O)O',\n",
       " 'CC1=CCCC(=CC2C(CC1)C(=C)C(=O)O2)C',\n",
       " 'CC1=CN(C(=O)NC1=O)C2C(C(C(O2)CO)O)F',\n",
       " 'CC1=CN2C(=O)C=C(N=C2C(=C1)C(C)NC3=CC=CC=C3)N4CCOCC4',\n",
       " 'CC1=CN=C(N=C1NC2=CC(=CC=C2)S(=O)(=O)NC(C)(C)C)NC3=CC=C(C=C3)N4CCN(CC4)C',\n",
       " 'CC1=CN=C(N=C1NC2=CC(=CC=C2)S(=O)(=O)NC(C)(C)C)NC3=CC=C(C=C3)OCCN4CCCC4',\n",
       " 'CC1=CSC(=C1)C2=NN=C(C3=CC=CC=C32)NC4=CC=C(C=C4)OC5=C(C=CC=N5)C6=NC(=NC=C6)N',\n",
       " 'CC1=NC2=C(C=C(C=C2)CN(C)C3=CC=C(S3)C(=O)NC(CCC(=O)O)C(=O)O)C(=O)N1',\n",
       " 'CC1=NN=C(N1C2CC3CCC(C2)N3CCC(C4=CC=CC=C4)NC(=O)C5CCC(CC5)(F)F)C(C)C',\n",
       " 'CC1=NOC(=C1NC(=O)OC(C)C2=CC=CC=C2Cl)C3=CC=C(C=C3)CSCCC(=O)O',\n",
       " 'CC1C(C(CC(O1)OC2CC(CC3=C2C(=C4C(=C3O)C(=O)C5=C(C4=O)C(=CC=C5)OC)O)(C(=O)CO)O)N)OC6CCCCO6',\n",
       " 'CC1CC2C3CCC4=CC(=O)C=CC4(C3C(=O)CC2(C1(C(=O)CO)O)C)C',\n",
       " 'CC1CCC2CC(C(=CC=CC=CC(CC(C(=O)C(C(C(=CC(C(=O)CC(OC(=O)C3CCCCN3C(=O)C(=O)C1(O2)O)C(C)CC4CCC(C(C4)OC)OC(=O)C(C)(CO)CO)C)C)O)OC)C)C)C)OC',\n",
       " 'CC1CCCC2(C(O2)CC(OC(=O)CC(C(C(=O)C(C1O)C)(C)C)O)C(=CC3=CSC(=N3)C)C)C',\n",
       " 'CC1CCN(CC1N(C)C2=NC=NC3=C2C=CN3)C(=O)CC#N.C(C(=O)O)C(CC(=O)O)(C(=O)O)O',\n",
       " 'CC1COC2=C3N1C=C(C(=O)C3=CC(=C2N4CCN(CC4)C)F)C(=O)O',\n",
       " 'CCC(=O)NCCC1CCC2=C1C3=C(C=C2)OCC3',\n",
       " 'CCC(CO)NC1=NC(=C2C(=N1)N(C=N2)C(C)C)NCC3=CC=CC=C3',\n",
       " 'CCC1(CCC(=O)NC1=O)C2=CC=C(C=C2)N',\n",
       " 'CCC1=C(C(=CC=C1)CC)NC(=O)N2CC3=C(C2)NN=C3NC(=O)C4=CC=C(C=C4)N5CCN(CC5)C',\n",
       " 'CCCC(CCC)C(=O)O.CCCC(CCC)C(=O)[O-].[Na+]',\n",
       " 'CCCC(CCC)C(=O)[O-].[Na+]',\n",
       " 'CCCC1=C(C(=O)NC(=C1)C)CNC(=O)C2=C3C=NN(C3=CC(=C2)C4=CN=C(C=C4)N5CCN(CC5)C(C)C)C(C)C',\n",
       " 'CCCCC1=NC2=C(N1CCN(CC)CC)C=CC(=C2)C=CC(=O)NO',\n",
       " 'CCCCCCCCCCCCCCCC1=C(C(=CC=C1)O)C(=O)O',\n",
       " 'CCCCCCNC(=O)N1C=C(C(=O)NC1=O)F',\n",
       " 'CCCCCOC(=O)NC1=NC(=O)N(C=C1F)C2C(C(C(O2)C)O)O',\n",
       " 'CCCCOC1=C(C=NC2=NNC=C12)C(=O)C3=C(C=C(C=C3F)C)F',\n",
       " 'CCN(C1CCOCC1)C2=CC(=CC(=C2C)C(=O)NCC3=C(C=C(NC3=O)C)C)C4=CC=C(C=C4)CN5CCOCC5',\n",
       " 'CCN(CC)C(=O)C(=CC1=CC(=C(C(=C1)O)O)[N+](=O)[O-])C#N',\n",
       " 'CCN(CC)C(=S)SSC(=S)N(CC)CC',\n",
       " 'CCN(CC)CCCCNC1=NC2=NC(=C(C=C2C=N1)C3=CC(=CC(=C3)OC)OC)NC(=O)NC(C)(C)C',\n",
       " 'CCN(CCCOC1=CC2=C(C=C1)C(=NC=N2)NC3=NNC(=C3)CC(=O)NC4=CC(=CC=C4)F)CCO',\n",
       " 'CCN1C(=CC2=C3C(=C(N=C21)NC4=NN(C(=C4)C)C)N=CN3C)C(=O)N(C5CC5)C6CC6',\n",
       " 'CCN1C=C(C(=N1)C2=CC=C(C=C2)NC(=O)N(C)C)C3=C4C=C(NC4=NC=C3)C5=CC=CC(=C5)CN(C)C',\n",
       " 'CCN1CCCC1CNC(=O)C2=CC(=C(C=C2OC)N)S(=O)(=O)CC',\n",
       " 'CCN1CCN(CC1)C(=O)CC2=CC=C(C=C2)NC3=NC=C(C(=N3)NC4=CC=C(C=C4)C(=O)NC5=CC=CC=C5Cl)F',\n",
       " 'CCNC(=O)C1=NOC(=C1C2=CC=C(C=C2)CN3CCOCC3)C4=CC(=C(C=C4O)O)C(C)C',\n",
       " 'CCOC1=C(C=C2C(=C1)N=CC(=C2NC3=CC(=C(C=C3)F)Cl)C#N)NC(=O)C=CCN(C)C',\n",
       " 'CCS(=O)(=O)N1CC(C1)(CC#N)N2C=C(C=N2)C3=C4C=CNC4=NC=N3',\n",
       " 'CCS(=O)(=O)N1CCN(CC1)C2=CC=C(C=C2)NC3=NC=C(C(=N3)NC4CC4)C(=O)N.Cl',\n",
       " 'CN(C(=O)NC1C(C(C(OC1O)CO)O)O)N=O',\n",
       " 'CN(C)C1=CC=C(C=C1)C(=O)NCCCCCCC(=O)NO',\n",
       " 'CN(C)C1=NC(=NC(=N1)N(C)C)N(C)C',\n",
       " 'CN(C)CC(=O)NC1=CC2=C(C=C1)NC(=O)C3=CC=CC=C32',\n",
       " 'CN(C)CC1=C(OC2=CC=CC=C21)C(=O)NCCOC3=CC=C(C=C3)C(=O)NO',\n",
       " 'CN(C)CC1=CC=C(C=C1)C2=NC3=CC=CC4=C3N2CCNC4=O',\n",
       " 'CN(C)CC1=CC=C(C=C1)S(=O)(=O)N2C=CC(=C2)C=CC(=O)NO',\n",
       " 'CN(C)CCC(CSC1=CC=CC=C1)NC2=C(C=C(C=C2)S(=O)(=O)NC(=O)C3=CC=C(C=C3)N4CCN(CC4)CC5=CC=CC=C5C6=CC=C(C=C6)Cl)[N+](=O)[O-]',\n",
       " 'CN(C)CCOC1=CC=C(C=C1)C(=C(CCCl)C2=CC=CC=C2)C3=CC=CC=C3.C(C(=O)O)C(CC(=O)O)(C(=O)O)O',\n",
       " 'CN(CC1=CC2=C(S1)C(=NC(=N2)C3=CN=C(C=C3)OC)N4CCOCC4)C5=NC=C(C=N5)C(=O)NO',\n",
       " 'CN1C=C(C2=CC=CC=C21)C3=C(C(=O)NC3=O)C4=CN(C5=CC=CC=C54)C6CCN(CC6)CC7=CC=CC=N7',\n",
       " 'CN1C=C(C2=CC=CC=C21)C3=C(C(=O)NC3=O)C4=CN(C5=CC=CC=C54)CCCSC(=N)N',\n",
       " 'CN1C=C(C=C1/C=C/C(=O)NO)/C=C/C(=O)C2=CC(=CC=C2)F',\n",
       " 'CN1CC2=C(C=CC(=C2)NS(=O)(=O)C3=CC=CC=C3OC)NC1=O',\n",
       " 'CN1CCC(CC1)CNC2=NN3C(=NC=C3C4=CC(=CC=C4)OC(F)(F)F)C=C2',\n",
       " 'CN1CCC(CC1)COC2=C(C=C3C(=C2)N=CN=C3NC4=C(C=C(C=C4)Br)F)OC',\n",
       " 'CN1CCC2=C(C1)C3=CC=CC=C3N2CC4=CC=C(C=C4)C(=O)NO.Cl',\n",
       " 'CN1CCN(CC1)C2=CC=C(C=C2)C(=O)NC3=NNC4=C3CN(C4)C(=O)C(C5=CC=CC=C5)OC',\n",
       " 'CN1CCN(CC1)C2=CC=CC(=C2)NC3=NN4C=CC=C(C4=N3)C5=CC=C(C=C5)S(=O)(=O)C',\n",
       " 'CN1CCN(CC1)CC(=O)N(C)C2=CC=C(C=C2)N=C(C3=CC=CC=C3)C4=C(NC5=C4C=CC(=C5)C(=O)OC)O',\n",
       " 'CN1CCN(CC1)CCCOC2=C(C=C3C(=C2)N=CC(=C3NC4=CC(=C(C=C4Cl)Cl)OC)C#N)OC',\n",
       " 'CNC(=O)C1=NC=CC(=C1)OC2=CC(=C(C=C2)NC(=O)NC3=CC(=C(C=C3)Cl)C(F)(F)F)F',\n",
       " 'CNCC1=CC=C(C=C1)C2=C3CCNC(=O)C4=C3C(=CC(=C4)F)N2.OP(=O)(O)O',\n",
       " 'COC(=O)C1=CC2=C(C=C1)N(C(=N2)NC(=O)C3=CC=CC=C3)CCCC4=CC=CC=C4',\n",
       " 'COC1=C(C(=CC=C1)F)C2=NCC3=CN=C(N=C3C4=C2C=C(C=C4)Cl)NC5=CC(=C(C=C5)C(=O)O)OC',\n",
       " 'COC1=C(C=C(C=C1)C=CC(=O)C2(CCCCC2)C(=O)C=CC3=CC(=C(C=C3)OC)OC)OC',\n",
       " 'COC1=C(C=C(C=C1)CS(=O)(=O)C=CC2=C(C=C(C=C2OC)OC)OC)NCC(=O)[O-].[Na+]',\n",
       " 'COC1=C(C=C2C(=C1)C(=NC(=N2)N3CCCC3)NCCCCCN4CCCC4)OC',\n",
       " 'COC1=C(C=C2C(=C1)C(=NC=N2)NC3=CC(=C(C=C3)O)Br)OC',\n",
       " 'COC1=C(C=C2C(=C1)C(=NC=N2)NC3=CC=C(C=C3)NC(=O)C4=CC=CC=C4)OCCCN5CCOCC5',\n",
       " 'COC1=C(C=C2C(=C1)C3(CCC3)C(=N2)N)OCCCN4CCCC4',\n",
       " 'COC1=C(C=C2C(=C1)N=CN=C2NC3=CC=CC(=C3)C#C)OCCCCCCC(=O)NO',\n",
       " 'COC1=C(C=CC(=C1)C=CC(=O)CC(=O)C=CC2=CC(=C(C=C2)O)OC)O',\n",
       " 'COC1=CC2=C(C=C1)C=C(C=C2)C3=C(NC(=N3)C4=CC=C(C=C4)S(=O)C)C5=CC=NC=C5',\n",
       " 'COC1=CC2=C(C=CN=C2C=C1OC)OC3=CC(=C(C=C3)NC(=O)NC4=C(C=C(C=C4)F)F)F',\n",
       " 'COC1=CC=C(C=C1)CN2C=CC3=C2C=C(C=C3)C(=O)NO',\n",
       " 'COC1=CC=CC(=C1N)C2=CC(=O)C3=CC=CC=C3O2',\n",
       " 'COCCCC1=C(N=C(S1)C2=CC=CC=C2)C(=O)NC3=CC=CC=C3C4=NC5=C(S4)N=CC(=C5)CN6CCCC6.Cl',\n",
       " 'COCCNCC1=CN=C(C=C1)C2=CC3=NC=CC(=C3S2)OC4=C(C=C(C=C4)NC(=S)NC(=O)CC5=CC=C(C=C5)F)F',\n",
       " 'CS(=O)(=O)C1=CC=C(C=C1)C2=CN=C(N3C2=NN=C3)NCC4=CC=CO4',\n",
       " 'CS(=O)(=O)C1=CC=CC(=C1)CNC2=NC(=NC=C2C(F)(F)F)NC3=CC4=C(C=C3)NC(=O)CC4',\n",
       " 'CS(=O)(=O)C1=CN=C(C=C1)C2=NN=C(N2C3=CC=CC=C3Cl)C=CC4=NN=C(O4)C5=CC=C(C=C5)C#N',\n",
       " 'CS(=O)(=O)OCCCCOS(=O)(=O)C',\n",
       " 'C1=CC=C(C=C1)NS(=O)(=O)C2=CC=CC(=C2)C=CC(=O)NO',\n",
       " 'C1=CC=C2C(=C1)C(=CN2)CCN(CCO)CC3=CC=C(C=C3)/C=C/C(=O)NO',\n",
       " 'CC1CC(C(C(C=C(C(C(C=CC=C(C(=O)NC2=CC(=O)C(=C(C1)C2=O)NCC=C)C)OC)OC(=O)N)C)C)O)OC',\n",
       " 'CC1CC(C(C(C=C(C(C(C=CC=C(C(=O)NC2=CC(=O)C(=C(C1)C2=O)NCCN(C)C)C)OC)OC(=O)N)C)C)O)OC.Cl',\n",
       " 'CCN(CC)CC1=CC2=C(C=C1)C=C(C=C2)COC(=O)NC3=CC=C(C=C3)C(=O)NO.O.Cl',\n",
       " 'CCS(=O)(=O)C1=CC=CC(=C1)C2=CC(=C(C3=C2C4=C(N3)N=CC(=C4)C)C)C(=O)NC5CCN(CC5)C',\n",
       " 'CCS(=O)(=O)NC1=CC2=C(C=C1)NC(=C2C(=NC3=CC=C(C=C3)CN4CCCCC4)C5=CC=CC=C5)O',\n",
       " 'CN1C=C(C2=CC=CC=C21)CNCC3CCN(CC3)C4=NC=C(C=N4)C(=O)NO.Cl.Cl',\n",
       " 'CN1CCC(C(C1)O)C2=C(C=C(C3=C2OC(=CC3=O)C4=CC=CC=C4Cl)O)O.Cl']"
      ]
     },
     "execution_count": 27,
     "metadata": {},
     "output_type": "execute_result"
    }
   ],
   "source": [
    "smiles"
   ]
  },
  {
   "cell_type": "code",
   "execution_count": 28,
   "id": "e1a9f390-77a0-474d-a273-0127afe658ba",
   "metadata": {},
   "outputs": [
    {
     "data": {
      "text/plain": [
       "185"
      ]
     },
     "execution_count": 28,
     "metadata": {},
     "output_type": "execute_result"
    }
   ],
   "source": [
    "len(smiles)"
   ]
  },
  {
   "cell_type": "code",
   "execution_count": 29,
   "id": "d88692c0-29bd-4fc9-9714-91ac88db0132",
   "metadata": {},
   "outputs": [],
   "source": [
    "with open('/lustre/groups/ml01/workspace/ot_perturbation/data/sciplex/smiles.txt', 'w') as f:\n",
    "    for line in smiles:\n",
    "        f.write(f\"{line}\\n\")"
   ]
  },
  {
   "cell_type": "code",
   "execution_count": 30,
   "id": "5ca6811b-9300-4f31-8cfd-653530efe4c1",
   "metadata": {},
   "outputs": [
    {
     "name": "stdout",
     "output_type": "stream",
     "text": [
      "List read from file:\n",
      "C(CC(O)(P(=O)(O)O)P(=O)(O)[O-])CN.O.O.O.[Na+]\n",
      "C(CS(=O)(=O)[O-])S.[Na+]\n",
      "C1=C(C(=O)NC(=O)N1)F\n",
      "C1=C2C3=C(C(=C1O)O)OC(=O)C4=CC(=C(C(=C43)OC2=O)O)O\n",
      "C1=CC(=C(C(=C1)F)C(=O)N2C(=NC(=N2)NC3=CC=C(C=C3)S(=O)(=O)N)N)F\n",
      "C1=CC(=C(C2=C1C=CC(=O)O2)O)O\n",
      "C1=CC(=C(C=C1C(=O)N)[N+](=O)[O-])I\n",
      "C1=CC(=C(C=C1C2=C(C(=O)C3=C(C=C(C=C3O2)O)O)O)O)O\n",
      "C1=CC(=CC(=C1)Cl)NC(=O)NC2=NC=C(S2)CCNC3=NC=NC4=C3SC=C4\n",
      "C1=CC(=CC(=C1)N)C(=O)N\n",
      "C1=CC(=CC=C1C=CC2=CC(=CC(=C2)O)O)O\n",
      "C1=CC(=CC=C1S(=O)(=O)N(CC2=C(C=C(C=C2)C3=NOC=N3)F)C(CCC(F)(F)F)C(=O)N)Cl\n",
      "C1=CC(=CN=C1)C=CC(=O)NCC2=CC=C(C=C2)C(=O)NC3=C(C=CC(=C3)F)N\n",
      "C1=CC=C(C(=C1)C(=C(N)SC2=CC=C(C=C2)N)C#N)C(F)(F)F\n",
      "C1=CC=C(C(=C1)N)NC(=O)C2=CC=C(C=C2)CNC(=O)OCC3=CN=CC=C3\n",
      "C1=CC=C(C(=C1)N)NC(=O)C2=CC=C(C=C2)CNC3=NC=CC(=N3)C4=CN=CC=C4\n",
      "C1=CC=C(C=C1)CCCC(=O)[O-].[Na+]\n",
      "C1=CC=C(C=C1)CN2C3=CC=CC=C3C(=C(C2=O)C(=O)NCC(=O)O)O\n",
      "C1=CC=C(C=C1)CNC(=O)C(=CC2=CC(=C(C=C2)O)O)C#N\n",
      "C1=CC=C2C(=C1)C(=CN2)CCNC3=CC=C(C=C3)NC4=CC=NC=C4\n",
      "C1=CC=C2C(=C1)C(=O)N(C2=O)C(CC3=CNC4=CC=CC=C43)C(=O)O\n",
      "C1=CC=C2C(=C1)N=NN2C(=O)C3=C(C=C(C=C3)Cl)Cl\n",
      "C1=CN2C3C(C(C(O3)CO)O)OC2=NC1=N.Cl\n",
      "C1=NC(=C(N1C2C(C(C(O2)CO)O)O)N)C(=O)N\n",
      "C1=NC(=NC(=O)N1C2C(C(C(O2)CO)O)O)N\n",
      "C1=NC2=C(N1)C(=S)N=CN2\n",
      "C1C(C(OC1N2C=NC(=NC2=O)N)CO)O\n",
      "C1C(C1N)C2=CC=CC=C2.Cl\n",
      "C1C2=CN=C(N=C2C3=C(C=C(C=C3)Cl)C(=N1)C4=C(C=CC=C4F)F)NC5=CC=C(C=C5)C(=O)O\n",
      "C1CC(=O)N([C@@H]1C(=O)N(C2=CC(=CN=C2)F)[C@@H](C3=CC=CC=C3Cl)C(=O)NC4CC(C4)(F)F)C5=NC=CC(=C5)C#N\n",
      "C1CC(=O)NC(=O)C1N2C(=O)C3=CC=CC=C3C2=O\n",
      "C1CC(=O)NC(=O)C1N2CC3=C(C2=O)C=CC=C3N\n",
      "C1CC(C2=C(C1)C3=C(N2)C=CC(=C3)Cl)C(=O)N\n",
      "C1CC(CCC1CCC(=O)O)(C2=C(C=CC(=C2)F)F)S(=O)(=O)C3=CC=C(C=C3)Cl\n",
      "C1CC(CCC1OC2=C(C(=CC=C2)Cl)F)(CC3=NC(=CC=C3)NC4=NC=CS4)C(=O)O\n",
      "C1CC1C(=O)NC2=NN3C(=N2)C=CC=C3C4=CC=C(C=C4)CN5CCS(=O)(=O)CC5\n",
      "C1CC1NC(=O)NC2=C(NN=C2)C3=NC4=C(N3)C=C(C=C4)CN5CCOCC5\n",
      "C1CCC(C1)C(CC#N)N2C=C(C=N2)C3=C4C=CNC4=NC=N3\n",
      "C1CCC(CC1)NC(=O)N(CCCl)N=O\n",
      "C1CN(CCC1CC2=CC(=CC=C2)OC3=NC=C(C=C3)C(F)(F)F)C(=O)NC4=CN=CC=C4\n",
      "C1CN(CCC2=CC=CC=C21)C3=NC(=NC(=C3)NCCC(=O)O)C4=CC=CC=N4\n",
      "C1CN(CCN1)C(=O)C2=CC=C(C=C2)C=CC3=NNC4=CC=CC=C43\n",
      "C1CN(CCN1)CC2=CSC3=NC(=CN23)C4=CC=CC=C4NC(=O)C5=NC6=CC=CC=C6N=C5.Cl\n",
      "C1CN1P(=S)(N2CC2)N3CC3\n",
      "C1CNCCC1N2C=C(C=N2)C3=NC4=C(C=CC=C4N=C3)C5=CC(=C(C(=C5)F)CN6CCOCC6)F.Cl.Cl\n",
      "C1CNCCC1NC2CC2C3=CC=CC=C3.Cl.Cl\n",
      "C1CNCCN(C1)S(=O)(=O)C2=CC=CC3=C2C=CN=C3.Cl\n",
      "C1COCCN1C2=CC=C(C=C2)NC3=NC=CC(=N3)C4=CC=C(C=C4)C(=O)NCC#N\n",
      "C1CSCC2=C1N=C(NC2=O)C3=CC=C(C=C3)C(F)(F)F\n",
      "C1OC2=C(O1)C=C(C=C2)C3=C(NC(=N3)C4=CC=C(C=C4)C(=O)N)C5=CC=CC=N5\n",
      "CC(=O)NC1=CC=C(C=C1)C(=O)NC2=CC=CC=C2N\n",
      "CC(=O)NC1=CC=C(C=C1)OCC(C)(C(=O)NC2=CC(=C(C=C2)[N+](=O)[O-])C(F)(F)F)O\n",
      "CC(C)(CNC(=O)C1=CC=CC(=C1)C2=NOC(=N2)C(F)(F)F)C3=COC(=N3)C4=CC=CC=C4\n",
      "CC(C)C(C1=CC=CC=C1)C(=O)NC2=CC=C(C=C2)C(=O)NO\n",
      "CC(C)N1CCCN(CC1)C2=NC3=CC(=C(C=C3C(=N2)NC4CCN(CC4)CC5CCCCC5)OC)OCCCN6CCCCC6\n",
      "CC(C1=C(C=CC(=C1Cl)F)Cl)OC2=C(N=CC(=C2)C3=CN(N=C3)C4CCNCC4)N\n",
      "CC(C1=CC2=CC=CC=C2S1)N(C(=O)N)O\n",
      "CC(C1=CC=CC=C1)NC(=O)C(=CC2=NC(=CC=C2)Br)C#N\n",
      "CC(C1=CC=CC=C1)NC(=O)C2=CC=CC=C2N=CC3=C(C=CC4=CC=CC=C43)O\n",
      "CC(C=C(C)C=CC(=O)NO)C(=O)C1=CC=C(C=C1)N(C)C\n",
      "CC1(CCC(=C(C1)CN2CCN(CC2)C3=CC=C(C=C3)C(=O)NS(=O)(=O)C4=CC(=C(C=C4)NC(CCN5CCOCC5)CSC6=CC=CC=C6)S(=O)(=O)C(F)(F)F)C7=CC=C(C=C7)Cl)C\n",
      "CC1(CCCN1)C2=NC3=C(C=CC=C3N2)C(=O)N\n",
      "CC1(CCCN1C2=NN3C=CC=C3C(=N2)NC4=NNC(=C4)C5CC5)C(=O)NC6=CN=C(C=C6)F\n",
      "CC1(CNC2=C1C=CC(=C2)NC(=O)C3=C(N=CC=C3)NCC4=CC=NC=C4)C.OP(=O)(O)O.OP(=O)(O)O\n",
      "CC1(OC2CC3C4CCC5=CC(=O)C=CC5(C4(C(CC3(C2(O1)C(=O)CO)C)O)F)C)C\n",
      "CC12CC(=O)C3C(C1CCC2(C(=O)CO)O)CCC4=CC(=O)C=CC34C\n",
      "CC12CCC3C(C1CCC2O)C(CC4=C3C=CC(=C4)O)CCCCCCCCCS(=O)CCCC(C(F)(F)F)(F)F\n",
      "CC12CCC3C(C1CCC2O)CCC4=CC(=C(C=C34)OC)O\n",
      "CC1=C(C(=CC=C1)Cl)NC(=O)C2=CN=C(S2)NC3=CC(=NC(=N3)C)N4CCN(CC4)CCO\n",
      "CC1=C(C2=CC=CC=C2N1)CCNCC3=CC=C(C=C3)C=CC(=O)NO\n",
      "CC1=C(C=C(C=C1)C(=O)NC2=CC(=CC(=C2)C(F)(F)F)N3C=C(N=C3)C)NC4=NC=CC(=N4)C5=CN=CC=C5\n",
      "CC1=C(C=CC(=C1)Cl)OCCCC(=O)NO\n",
      "CC1=C(N=CN1)CSCCNC(=NC)NC#N\n",
      "CC1=C(SC(=N1)C2=CN=CC=C2)C(=O)NC3=CC=CC=C3C4=CN5C(=CSC5=N4)CN6CCOCC6\n",
      "CC1=C(SC(=N1)N)C2=NC(=NC=C2)NC3=CC=C(C=C3)N4CCOCC4\n",
      "CC1=C(SC2=C1C(=NC(C3=NN=C(N32)C)CC(=O)OC(C)(C)C)C4=CC=C(C=C4)Cl)C\n",
      "CC1=C2C(=C(N(C1=O)C)NC3=C(C=C(C=C3)I)F)C(=O)N(C(=O)N2C4=CC=CC(=C4)NC(=O)C)C5CC5\n",
      "CC1=C2C(=NC=NN2C=C1NC(=O)OCC3COCCN3)NC4=CC5=C(C=C4)N(N=C5)CC6=CC(=CC=C6)F\n",
      "CC1=C2C=C(C=CC2=C(C(=N1)C(=O)NCC(=O)O)O)OC3=CC=CC=C3\n",
      "CC1=CC(=C(C=C1)F)NC(=O)NC2=CC=C(C=C2)C3=C4C(=CC=C3)NN=C4N\n",
      "CC1=CC(=C(N1)C=C2C(=CC(=C3C=C4C=CC=CC4=N3)N2)OC)C.CS(=O)(=O)O\n",
      "CC1=CC(=CC2=C1N=C(N2)C3=C(C=CNC3=O)NCC(C4=CC(=CC=C4)Cl)O)N5CCOCC5\n",
      "CC1=CC(=NN1)NC2=C(C=C(C(=N2)NC(C)C3=CC=C(C=C3)F)C#N)F\n",
      "CC1=CC(=NN1)NC2=CC(=NC(=N2)C=CC3=CC=CC=C3)N4CCN(CC4)C\n",
      "CC1=CC(=NN1)NC2=CC(=NC(=N2)C=CC3=CC=CC=C3)N4CCN(CC4)C.C(C(C(=O)O)O)(C(=O)O)O\n",
      "CC1=CC(=NN1)NC2=CC(=NC(=N2)SC3=CC=C(C=C3)NC(=O)C4CC4)N5CCN(CC5)C\n",
      "CC1=CC(=NN1)NC2=NC(=NC=C2Cl)NC(C)C3=NC=C(C=N3)F\n",
      "CC1=CC(=NN1)NC2=NN3C(=C(N=C3C(=C2)CN4CCOCC4)C)CC5=C(C=C(C=C5)Cl)F\n",
      "CC1=CC2=C(N1)C=CC(=C2F)OC3=NC=NC4=CC(=C(C=C43)OC)OCCCN5CCCC5\n",
      "CC1=CC=C(C=C1)C2=CC(=NN2C3=CC=C(C=C3)S(=O)(=O)N)C(F)(F)F\n",
      "CC1=CC=C(C=C1)S(=O)(=O)O.CC1=CC=C(C=C1)S(=O)(=O)O.CS(=O)(=O)CCNCC1=CC=C(O1)C2=CC3=C(C=C2)N=CN=C3NC4=CC(=C(C=C4)OCC5=CC(=CC=C5)F)Cl\n",
      "CC1=CC=C(C=C1)S(=O)(=O)O.CNC(=O)C1=NC=CC(=C1)OC2=CC=C(C=C2)NC(=O)NC3=CC(=C(C=C3)Cl)C(F)(F)F\n",
      "CC1=CC=C(C=C1)S(=O)(=O)OCC(=O)NC2=CC(=C(C=C2)C(=O)O)O\n",
      "CC1=CCCC(=CC2C(CC1)C(=C)C(=O)O2)C\n",
      "CC1=CN(C(=O)NC1=O)C2C(C(C(O2)CO)O)F\n",
      "CC1=CN2C(=O)C=C(N=C2C(=C1)C(C)NC3=CC=CC=C3)N4CCOCC4\n",
      "CC1=CN=C(N=C1NC2=CC(=CC=C2)S(=O)(=O)NC(C)(C)C)NC3=CC=C(C=C3)N4CCN(CC4)C\n",
      "CC1=CN=C(N=C1NC2=CC(=CC=C2)S(=O)(=O)NC(C)(C)C)NC3=CC=C(C=C3)OCCN4CCCC4\n",
      "CC1=CSC(=C1)C2=NN=C(C3=CC=CC=C32)NC4=CC=C(C=C4)OC5=C(C=CC=N5)C6=NC(=NC=C6)N\n",
      "CC1=NC2=C(C=C(C=C2)CN(C)C3=CC=C(S3)C(=O)NC(CCC(=O)O)C(=O)O)C(=O)N1\n",
      "CC1=NN=C(N1C2CC3CCC(C2)N3CCC(C4=CC=CC=C4)NC(=O)C5CCC(CC5)(F)F)C(C)C\n",
      "CC1=NOC(=C1NC(=O)OC(C)C2=CC=CC=C2Cl)C3=CC=C(C=C3)CSCCC(=O)O\n",
      "CC1C(C(CC(O1)OC2CC(CC3=C2C(=C4C(=C3O)C(=O)C5=C(C4=O)C(=CC=C5)OC)O)(C(=O)CO)O)N)OC6CCCCO6\n",
      "CC1CC2C3CCC4=CC(=O)C=CC4(C3C(=O)CC2(C1(C(=O)CO)O)C)C\n",
      "CC1CCC2CC(C(=CC=CC=CC(CC(C(=O)C(C(C(=CC(C(=O)CC(OC(=O)C3CCCCN3C(=O)C(=O)C1(O2)O)C(C)CC4CCC(C(C4)OC)OC(=O)C(C)(CO)CO)C)C)O)OC)C)C)C)OC\n",
      "CC1CCCC2(C(O2)CC(OC(=O)CC(C(C(=O)C(C1O)C)(C)C)O)C(=CC3=CSC(=N3)C)C)C\n",
      "CC1CCN(CC1N(C)C2=NC=NC3=C2C=CN3)C(=O)CC#N.C(C(=O)O)C(CC(=O)O)(C(=O)O)O\n",
      "CC1COC2=C3N1C=C(C(=O)C3=CC(=C2N4CCN(CC4)C)F)C(=O)O\n",
      "CCC(=O)NCCC1CCC2=C1C3=C(C=C2)OCC3\n",
      "CCC(CO)NC1=NC(=C2C(=N1)N(C=N2)C(C)C)NCC3=CC=CC=C3\n",
      "CCC1(CCC(=O)NC1=O)C2=CC=C(C=C2)N\n",
      "CCC1=C(C(=CC=C1)CC)NC(=O)N2CC3=C(C2)NN=C3NC(=O)C4=CC=C(C=C4)N5CCN(CC5)C\n",
      "CCCC(CCC)C(=O)O.CCCC(CCC)C(=O)[O-].[Na+]\n",
      "CCCC(CCC)C(=O)[O-].[Na+]\n",
      "CCCC1=C(C(=O)NC(=C1)C)CNC(=O)C2=C3C=NN(C3=CC(=C2)C4=CN=C(C=C4)N5CCN(CC5)C(C)C)C(C)C\n",
      "CCCCC1=NC2=C(N1CCN(CC)CC)C=CC(=C2)C=CC(=O)NO\n",
      "CCCCCCCCCCCCCCCC1=C(C(=CC=C1)O)C(=O)O\n",
      "CCCCCCNC(=O)N1C=C(C(=O)NC1=O)F\n",
      "CCCCCOC(=O)NC1=NC(=O)N(C=C1F)C2C(C(C(O2)C)O)O\n",
      "CCCCOC1=C(C=NC2=NNC=C12)C(=O)C3=C(C=C(C=C3F)C)F\n",
      "CCN(C1CCOCC1)C2=CC(=CC(=C2C)C(=O)NCC3=C(C=C(NC3=O)C)C)C4=CC=C(C=C4)CN5CCOCC5\n",
      "CCN(CC)C(=O)C(=CC1=CC(=C(C(=C1)O)O)[N+](=O)[O-])C#N\n",
      "CCN(CC)C(=S)SSC(=S)N(CC)CC\n",
      "CCN(CC)CCCCNC1=NC2=NC(=C(C=C2C=N1)C3=CC(=CC(=C3)OC)OC)NC(=O)NC(C)(C)C\n",
      "CCN(CCCOC1=CC2=C(C=C1)C(=NC=N2)NC3=NNC(=C3)CC(=O)NC4=CC(=CC=C4)F)CCO\n",
      "CCN1C(=CC2=C3C(=C(N=C21)NC4=NN(C(=C4)C)C)N=CN3C)C(=O)N(C5CC5)C6CC6\n",
      "CCN1C=C(C(=N1)C2=CC=C(C=C2)NC(=O)N(C)C)C3=C4C=C(NC4=NC=C3)C5=CC=CC(=C5)CN(C)C\n",
      "CCN1CCCC1CNC(=O)C2=CC(=C(C=C2OC)N)S(=O)(=O)CC\n",
      "CCN1CCN(CC1)C(=O)CC2=CC=C(C=C2)NC3=NC=C(C(=N3)NC4=CC=C(C=C4)C(=O)NC5=CC=CC=C5Cl)F\n",
      "CCNC(=O)C1=NOC(=C1C2=CC=C(C=C2)CN3CCOCC3)C4=CC(=C(C=C4O)O)C(C)C\n",
      "CCOC1=C(C=C2C(=C1)N=CC(=C2NC3=CC(=C(C=C3)F)Cl)C#N)NC(=O)C=CCN(C)C\n",
      "CCS(=O)(=O)N1CC(C1)(CC#N)N2C=C(C=N2)C3=C4C=CNC4=NC=N3\n",
      "CCS(=O)(=O)N1CCN(CC1)C2=CC=C(C=C2)NC3=NC=C(C(=N3)NC4CC4)C(=O)N.Cl\n",
      "CN(C(=O)NC1C(C(C(OC1O)CO)O)O)N=O\n",
      "CN(C)C1=CC=C(C=C1)C(=O)NCCCCCCC(=O)NO\n",
      "CN(C)C1=NC(=NC(=N1)N(C)C)N(C)C\n",
      "CN(C)CC(=O)NC1=CC2=C(C=C1)NC(=O)C3=CC=CC=C32\n",
      "CN(C)CC1=C(OC2=CC=CC=C21)C(=O)NCCOC3=CC=C(C=C3)C(=O)NO\n",
      "CN(C)CC1=CC=C(C=C1)C2=NC3=CC=CC4=C3N2CCNC4=O\n",
      "CN(C)CC1=CC=C(C=C1)S(=O)(=O)N2C=CC(=C2)C=CC(=O)NO\n",
      "CN(C)CCC(CSC1=CC=CC=C1)NC2=C(C=C(C=C2)S(=O)(=O)NC(=O)C3=CC=C(C=C3)N4CCN(CC4)CC5=CC=CC=C5C6=CC=C(C=C6)Cl)[N+](=O)[O-]\n",
      "CN(C)CCOC1=CC=C(C=C1)C(=C(CCCl)C2=CC=CC=C2)C3=CC=CC=C3.C(C(=O)O)C(CC(=O)O)(C(=O)O)O\n",
      "CN(CC1=CC2=C(S1)C(=NC(=N2)C3=CN=C(C=C3)OC)N4CCOCC4)C5=NC=C(C=N5)C(=O)NO\n",
      "CN1C=C(C2=CC=CC=C21)C3=C(C(=O)NC3=O)C4=CN(C5=CC=CC=C54)C6CCN(CC6)CC7=CC=CC=N7\n",
      "CN1C=C(C2=CC=CC=C21)C3=C(C(=O)NC3=O)C4=CN(C5=CC=CC=C54)CCCSC(=N)N\n",
      "CN1C=C(C=C1/C=C/C(=O)NO)/C=C/C(=O)C2=CC(=CC=C2)F\n",
      "CN1CC2=C(C=CC(=C2)NS(=O)(=O)C3=CC=CC=C3OC)NC1=O\n",
      "CN1CCC(CC1)CNC2=NN3C(=NC=C3C4=CC(=CC=C4)OC(F)(F)F)C=C2\n",
      "CN1CCC(CC1)COC2=C(C=C3C(=C2)N=CN=C3NC4=C(C=C(C=C4)Br)F)OC\n",
      "CN1CCC2=C(C1)C3=CC=CC=C3N2CC4=CC=C(C=C4)C(=O)NO.Cl\n",
      "CN1CCN(CC1)C2=CC=C(C=C2)C(=O)NC3=NNC4=C3CN(C4)C(=O)C(C5=CC=CC=C5)OC\n",
      "CN1CCN(CC1)C2=CC=CC(=C2)NC3=NN4C=CC=C(C4=N3)C5=CC=C(C=C5)S(=O)(=O)C\n",
      "CN1CCN(CC1)CC(=O)N(C)C2=CC=C(C=C2)N=C(C3=CC=CC=C3)C4=C(NC5=C4C=CC(=C5)C(=O)OC)O\n",
      "CN1CCN(CC1)CCCOC2=C(C=C3C(=C2)N=CC(=C3NC4=CC(=C(C=C4Cl)Cl)OC)C#N)OC\n",
      "CNC(=O)C1=NC=CC(=C1)OC2=CC(=C(C=C2)NC(=O)NC3=CC(=C(C=C3)Cl)C(F)(F)F)F\n",
      "CNCC1=CC=C(C=C1)C2=C3CCNC(=O)C4=C3C(=CC(=C4)F)N2.OP(=O)(O)O\n",
      "COC(=O)C1=CC2=C(C=C1)N(C(=N2)NC(=O)C3=CC=CC=C3)CCCC4=CC=CC=C4\n",
      "COC1=C(C(=CC=C1)F)C2=NCC3=CN=C(N=C3C4=C2C=C(C=C4)Cl)NC5=CC(=C(C=C5)C(=O)O)OC\n",
      "COC1=C(C=C(C=C1)C=CC(=O)C2(CCCCC2)C(=O)C=CC3=CC(=C(C=C3)OC)OC)OC\n",
      "COC1=C(C=C(C=C1)CS(=O)(=O)C=CC2=C(C=C(C=C2OC)OC)OC)NCC(=O)[O-].[Na+]\n",
      "COC1=C(C=C2C(=C1)C(=NC(=N2)N3CCCC3)NCCCCCN4CCCC4)OC\n",
      "COC1=C(C=C2C(=C1)C(=NC=N2)NC3=CC(=C(C=C3)O)Br)OC\n",
      "COC1=C(C=C2C(=C1)C(=NC=N2)NC3=CC=C(C=C3)NC(=O)C4=CC=CC=C4)OCCCN5CCOCC5\n",
      "COC1=C(C=C2C(=C1)C3(CCC3)C(=N2)N)OCCCN4CCCC4\n",
      "COC1=C(C=C2C(=C1)N=CN=C2NC3=CC=CC(=C3)C#C)OCCCCCCC(=O)NO\n",
      "COC1=C(C=CC(=C1)C=CC(=O)CC(=O)C=CC2=CC(=C(C=C2)O)OC)O\n",
      "COC1=CC2=C(C=C1)C=C(C=C2)C3=C(NC(=N3)C4=CC=C(C=C4)S(=O)C)C5=CC=NC=C5\n",
      "COC1=CC2=C(C=CN=C2C=C1OC)OC3=CC(=C(C=C3)NC(=O)NC4=C(C=C(C=C4)F)F)F\n",
      "COC1=CC=C(C=C1)CN2C=CC3=C2C=C(C=C3)C(=O)NO\n",
      "COC1=CC=CC(=C1N)C2=CC(=O)C3=CC=CC=C3O2\n",
      "COCCCC1=C(N=C(S1)C2=CC=CC=C2)C(=O)NC3=CC=CC=C3C4=NC5=C(S4)N=CC(=C5)CN6CCCC6.Cl\n",
      "COCCNCC1=CN=C(C=C1)C2=CC3=NC=CC(=C3S2)OC4=C(C=C(C=C4)NC(=S)NC(=O)CC5=CC=C(C=C5)F)F\n",
      "CS(=O)(=O)C1=CC=C(C=C1)C2=CN=C(N3C2=NN=C3)NCC4=CC=CO4\n",
      "CS(=O)(=O)C1=CC=CC(=C1)CNC2=NC(=NC=C2C(F)(F)F)NC3=CC4=C(C=C3)NC(=O)CC4\n",
      "CS(=O)(=O)C1=CN=C(C=C1)C2=NN=C(N2C3=CC=CC=C3Cl)C=CC4=NN=C(O4)C5=CC=C(C=C5)C#N\n",
      "CS(=O)(=O)OCCCCOS(=O)(=O)C\n",
      "C1=CC=C(C=C1)NS(=O)(=O)C2=CC=CC(=C2)C=CC(=O)NO\n",
      "C1=CC=C2C(=C1)C(=CN2)CCN(CCO)CC3=CC=C(C=C3)/C=C/C(=O)NO\n",
      "CC1CC(C(C(C=C(C(C(C=CC=C(C(=O)NC2=CC(=O)C(=C(C1)C2=O)NCC=C)C)OC)OC(=O)N)C)C)O)OC\n",
      "CC1CC(C(C(C=C(C(C(C=CC=C(C(=O)NC2=CC(=O)C(=C(C1)C2=O)NCCN(C)C)C)OC)OC(=O)N)C)C)O)OC.Cl\n",
      "CCN(CC)CC1=CC2=C(C=C1)C=C(C=C2)COC(=O)NC3=CC=C(C=C3)C(=O)NO.O.Cl\n",
      "CCS(=O)(=O)C1=CC=CC(=C1)C2=CC(=C(C3=C2C4=C(N3)N=CC(=C4)C)C)C(=O)NC5CCN(CC5)C\n",
      "CCS(=O)(=O)NC1=CC2=C(C=C1)NC(=C2C(=NC3=CC=C(C=C3)CN4CCCCC4)C5=CC=CC=C5)O\n",
      "CN1C=C(C2=CC=CC=C21)CNCC3CCN(CC3)C4=NC=C(C=N4)C(=O)NO.Cl.Cl\n",
      "CN1CCC(C(C1)O)C2=C(C=C(C3=C2OC(=CC3=O)C4=CC=CC=C4Cl)O)O.Cl\n"
     ]
    }
   ],
   "source": [
    "# Python code to read a text file containing a list and process its contents\n",
    "\n",
    "def read_list_from_file(file_path):\n",
    "    \"\"\"\n",
    "    Reads a list from a text file where each line represents an item in the list.\n",
    "    \n",
    "    :param file_path: str, path to the text file\n",
    "    :return: list, list of items read from the file\n",
    "    \"\"\"\n",
    "    try:\n",
    "        with open(file_path, 'r') as file:\n",
    "            # Read lines from the file and strip any leading/trailing whitespace characters\n",
    "            lines = [line.strip() for line in file.readlines()]\n",
    "        return lines\n",
    "    except FileNotFoundError:\n",
    "        print(f\"Error: The file at {file_path} was not found.\")\n",
    "        return []\n",
    "    except Exception as e:\n",
    "        print(f\"An error occurred: {e}\")\n",
    "        return []\n",
    "\n",
    "# Example usage\n",
    "file_path = '/lustre/groups/ml01/workspace/ot_perturbation/data/sciplex/smiles.txt'  # Replace with the path to your text file\n",
    "list_from_file = read_list_from_file(file_path)\n",
    "\n",
    "if list_from_file:\n",
    "    print(\"List read from file:\")\n",
    "    for item in list_from_file:\n",
    "        print(item)\n",
    "else:\n",
    "    print(\"The list is empty or the file could not be read.\")\n"
   ]
  },
  {
   "cell_type": "code",
   "execution_count": 31,
   "id": "6ac0d4cb-9f12-48e7-8009-8fbaababf041",
   "metadata": {},
   "outputs": [
    {
     "data": {
      "text/plain": [
       "185"
      ]
     },
     "execution_count": 31,
     "metadata": {},
     "output_type": "execute_result"
    }
   ],
   "source": [
    "len(list_from_file)"
   ]
  },
  {
   "cell_type": "code",
   "execution_count": null,
   "id": "661ae39f-ade0-47c5-82a2-865824ad691d",
   "metadata": {},
   "outputs": [],
   "source": []
  }
 ],
 "metadata": {
  "kernelspec": {
   "display_name": "ot_pert_genot",
   "language": "python",
   "name": "ot_pert_genot"
  },
  "language_info": {
   "codemirror_mode": {
    "name": "ipython",
    "version": 3
   },
   "file_extension": ".py",
   "mimetype": "text/x-python",
   "name": "python",
   "nbconvert_exporter": "python",
   "pygments_lexer": "ipython3",
   "version": "3.12.2"
  }
 },
 "nbformat": 4,
 "nbformat_minor": 5
}
