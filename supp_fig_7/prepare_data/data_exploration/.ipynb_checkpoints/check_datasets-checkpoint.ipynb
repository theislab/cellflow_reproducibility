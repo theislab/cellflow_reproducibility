{
 "cells": [
  {
   "cell_type": "code",
   "execution_count": 1,
   "id": "00be1cda-01a9-4ce2-8d04-ac5577d704d1",
   "metadata": {},
   "outputs": [],
   "source": [
    "import scanpy as sc\n",
    "import numpy as np \n",
    "import pandas as pd"
   ]
  },
  {
   "cell_type": "code",
   "execution_count": 12,
   "id": "5fb9258e-ee60-4847-bfe9-e60b0c8643a5",
   "metadata": {
    "scrolled": true
   },
   "outputs": [],
   "source": [
    "# adata_ood1 = sc.read_h5ad(\"/lustre/groups/ml01/workspace/ot_perturbation/data/satija/datasets/adata_ood_final_genes/adata_ood_final_genesIFNG_IFNB_TNFA_TGFB_INS_hvg-500_pca-100_counts_ms_0.5_3/adata_ood_split_0.h5ad\")\n",
    "# adata_ood2 = sc.read_h5ad(\"/lustre/groups/ml01/workspace/ot_perturbation/data/satija/datasets/adata_ood_final_genes/adata_ood_final_genesIFNG_IFNB_TNFA_TGFB_INS_hvg-500_pca-100_counts_ms_0.5_3/adata_ood_split_1.h5ad\")\n",
    "# adata_ood3 = sc.read_h5ad(\"/lustre/groups/ml01/workspace/ot_perturbation/data/satija/dataset s/adata_ood_final_genes/adata_ood_final_genesIFNG_IFNB_TNFA_TGFB_INS_hvg-500_pca-100_counts_ms_0.5_3/adata_ood_split_2.h5ad\")\n",
    "# adata_ood4 = sc.read_h5ad(\"/lustre/groups/ml01/workspace/ot_perturbation/data/satija/datasets/adata_ood_final_genes/adata_ood_final_genesIFNG_IFNB_TNFA_TGFB_INS_hvg-500_pca-100_counts_ms_0.5_3/adata_ood_split_3.h5ad\")\n",
    "\n",
    "adata_ood1 = sc.read_h5ad(\"/lustre/groups/ml01/workspace/ot_perturbation/data/satija/datasets/adata_ood_final_genes/adata_ood_final_genesIFNG_IFNB_TNFA_TGFB_INS_hvg-500_pca-100_counts_ms_0.5_3/adata_ood_split_0.h5ad\")\n",
    "adata_ood2 = sc.read_h5ad(\"/lustre/groups/ml01/workspace/ot_perturbation/data/satija/datasets/adata_ood_final_genes/adata_ood_final_genesIFNG_IFNB_TNFA_TGFB_INS_hvg-500_pca-100_counts_ms_0.5_3/adata_ood_split_1.h5ad\")\n",
    "adata_ood3 = sc.read_h5ad(\"/lustre/groups/ml01/workspace/ot_perturbation/data/satija/datasets/adata_ood_final_genes/adata_ood_final_genesIFNG_IFNB_TNFA_TGFB_INS_hvg-500_pca-100_counts_ms_0.5_3/adata_ood_split_2.h5ad\")\n",
    "adata_ood4 = sc.read_h5ad(\"/lustre/groups/ml01/workspace/ot_perturbation/data/satija/datasets/adata_ood_final_genes/adata_ood_final_genesIFNG_IFNB_TNFA_TGFB_INS_hvg-500_pca-100_counts_ms_0.5_3/adata_ood_split_3.h5ad\")"
   ]
  },
  {
   "cell_type": "code",
   "execution_count": 13,
   "id": "2410dfdc-a541-47ca-95c8-55b58f51337f",
   "metadata": {},
   "outputs": [
    {
     "data": {
      "text/html": [
       "<div>\n",
       "<style scoped>\n",
       "    .dataframe tbody tr th:only-of-type {\n",
       "        vertical-align: middle;\n",
       "    }\n",
       "\n",
       "    .dataframe tbody tr th {\n",
       "        vertical-align: top;\n",
       "    }\n",
       "\n",
       "    .dataframe thead th {\n",
       "        text-align: right;\n",
       "    }\n",
       "</style>\n",
       "<table border=\"1\" class=\"dataframe\">\n",
       "  <thead>\n",
       "    <tr style=\"text-align: right;\">\n",
       "      <th></th>\n",
       "      <th>cell_type</th>\n",
       "      <th>gene</th>\n",
       "      <th>pathway</th>\n",
       "      <th>split_encodings</th>\n",
       "      <th>perturbation_condition</th>\n",
       "      <th>background</th>\n",
       "      <th>control</th>\n",
       "      <th>is_ood</th>\n",
       "    </tr>\n",
       "  </thead>\n",
       "  <tbody>\n",
       "    <tr>\n",
       "      <th>08_88_81_1_1_1_1_1_1_1_1_1</th>\n",
       "      <td>A549</td>\n",
       "      <td>CEBPB</td>\n",
       "      <td>IFNG</td>\n",
       "      <td>split_0</td>\n",
       "      <td>A549_IFNG_CEBPB</td>\n",
       "      <td>A549_IFNG</td>\n",
       "      <td>False</td>\n",
       "      <td>True</td>\n",
       "    </tr>\n",
       "    <tr>\n",
       "      <th>08_88_33_1_1_1_1_1_1_1_1_1</th>\n",
       "      <td>A549</td>\n",
       "      <td>IRF1</td>\n",
       "      <td>IFNG</td>\n",
       "      <td>split_0</td>\n",
       "      <td>A549_IFNG_IRF1</td>\n",
       "      <td>A549_IFNG</td>\n",
       "      <td>False</td>\n",
       "      <td>True</td>\n",
       "    </tr>\n",
       "    <tr>\n",
       "      <th>05_40_43_1_1_1_1_1_1_1_1_1</th>\n",
       "      <td>A549</td>\n",
       "      <td>IRF1</td>\n",
       "      <td>IFNG</td>\n",
       "      <td>split_0</td>\n",
       "      <td>A549_IFNG_IRF1</td>\n",
       "      <td>A549_IFNG</td>\n",
       "      <td>False</td>\n",
       "      <td>True</td>\n",
       "    </tr>\n",
       "    <tr>\n",
       "      <th>05_29_59_1_1_1_1_1_1_1_1_1</th>\n",
       "      <td>A549</td>\n",
       "      <td>IFNGR1</td>\n",
       "      <td>IFNG</td>\n",
       "      <td>split_0</td>\n",
       "      <td>A549_IFNG_IFNGR1</td>\n",
       "      <td>A549_IFNG</td>\n",
       "      <td>False</td>\n",
       "      <td>True</td>\n",
       "    </tr>\n",
       "    <tr>\n",
       "      <th>05_35_80_1_1_1_1_1_1_1_1_1</th>\n",
       "      <td>A549</td>\n",
       "      <td>CEBPB</td>\n",
       "      <td>IFNG</td>\n",
       "      <td>split_0</td>\n",
       "      <td>A549_IFNG_CEBPB</td>\n",
       "      <td>A549_IFNG</td>\n",
       "      <td>False</td>\n",
       "      <td>True</td>\n",
       "    </tr>\n",
       "    <tr>\n",
       "      <th>...</th>\n",
       "      <td>...</td>\n",
       "      <td>...</td>\n",
       "      <td>...</td>\n",
       "      <td>...</td>\n",
       "      <td>...</td>\n",
       "      <td>...</td>\n",
       "      <td>...</td>\n",
       "      <td>...</td>\n",
       "    </tr>\n",
       "    <tr>\n",
       "      <th>82_86_24_2_2</th>\n",
       "      <td>MCF7</td>\n",
       "      <td>NT</td>\n",
       "      <td>INS</td>\n",
       "      <td>controls</td>\n",
       "      <td>MCF7_INS_NT</td>\n",
       "      <td>MCF7_INS</td>\n",
       "      <td>True</td>\n",
       "      <td>False</td>\n",
       "    </tr>\n",
       "    <tr>\n",
       "      <th>81_07_59_2_2</th>\n",
       "      <td>MCF7</td>\n",
       "      <td>NT</td>\n",
       "      <td>INS</td>\n",
       "      <td>controls</td>\n",
       "      <td>MCF7_INS_NT</td>\n",
       "      <td>MCF7_INS</td>\n",
       "      <td>True</td>\n",
       "      <td>False</td>\n",
       "    </tr>\n",
       "    <tr>\n",
       "      <th>81_28_89_2_2</th>\n",
       "      <td>MCF7</td>\n",
       "      <td>NT</td>\n",
       "      <td>INS</td>\n",
       "      <td>controls</td>\n",
       "      <td>MCF7_INS_NT</td>\n",
       "      <td>MCF7_INS</td>\n",
       "      <td>True</td>\n",
       "      <td>False</td>\n",
       "    </tr>\n",
       "    <tr>\n",
       "      <th>81_93_26_2_2</th>\n",
       "      <td>MCF7</td>\n",
       "      <td>NT</td>\n",
       "      <td>INS</td>\n",
       "      <td>controls</td>\n",
       "      <td>MCF7_INS_NT</td>\n",
       "      <td>MCF7_INS</td>\n",
       "      <td>True</td>\n",
       "      <td>False</td>\n",
       "    </tr>\n",
       "    <tr>\n",
       "      <th>83_66_11_2_2</th>\n",
       "      <td>MCF7</td>\n",
       "      <td>NT</td>\n",
       "      <td>INS</td>\n",
       "      <td>controls</td>\n",
       "      <td>MCF7_INS_NT</td>\n",
       "      <td>MCF7_INS</td>\n",
       "      <td>True</td>\n",
       "      <td>False</td>\n",
       "    </tr>\n",
       "  </tbody>\n",
       "</table>\n",
       "<p>162420 rows × 8 columns</p>\n",
       "</div>"
      ],
      "text/plain": [
       "                           cell_type    gene pathway split_encodings  \\\n",
       "08_88_81_1_1_1_1_1_1_1_1_1      A549   CEBPB    IFNG         split_0   \n",
       "08_88_33_1_1_1_1_1_1_1_1_1      A549    IRF1    IFNG         split_0   \n",
       "05_40_43_1_1_1_1_1_1_1_1_1      A549    IRF1    IFNG         split_0   \n",
       "05_29_59_1_1_1_1_1_1_1_1_1      A549  IFNGR1    IFNG         split_0   \n",
       "05_35_80_1_1_1_1_1_1_1_1_1      A549   CEBPB    IFNG         split_0   \n",
       "...                              ...     ...     ...             ...   \n",
       "82_86_24_2_2                    MCF7      NT     INS        controls   \n",
       "81_07_59_2_2                    MCF7      NT     INS        controls   \n",
       "81_28_89_2_2                    MCF7      NT     INS        controls   \n",
       "81_93_26_2_2                    MCF7      NT     INS        controls   \n",
       "83_66_11_2_2                    MCF7      NT     INS        controls   \n",
       "\n",
       "                           perturbation_condition background  control  is_ood  \n",
       "08_88_81_1_1_1_1_1_1_1_1_1        A549_IFNG_CEBPB  A549_IFNG    False    True  \n",
       "08_88_33_1_1_1_1_1_1_1_1_1         A549_IFNG_IRF1  A549_IFNG    False    True  \n",
       "05_40_43_1_1_1_1_1_1_1_1_1         A549_IFNG_IRF1  A549_IFNG    False    True  \n",
       "05_29_59_1_1_1_1_1_1_1_1_1       A549_IFNG_IFNGR1  A549_IFNG    False    True  \n",
       "05_35_80_1_1_1_1_1_1_1_1_1        A549_IFNG_CEBPB  A549_IFNG    False    True  \n",
       "...                                           ...        ...      ...     ...  \n",
       "82_86_24_2_2                          MCF7_INS_NT   MCF7_INS     True   False  \n",
       "81_07_59_2_2                          MCF7_INS_NT   MCF7_INS     True   False  \n",
       "81_28_89_2_2                          MCF7_INS_NT   MCF7_INS     True   False  \n",
       "81_93_26_2_2                          MCF7_INS_NT   MCF7_INS     True   False  \n",
       "83_66_11_2_2                          MCF7_INS_NT   MCF7_INS     True   False  \n",
       "\n",
       "[162420 rows x 8 columns]"
      ]
     },
     "execution_count": 13,
     "metadata": {},
     "output_type": "execute_result"
    }
   ],
   "source": [
    "adata_ood1.obs"
   ]
  },
  {
   "cell_type": "code",
   "execution_count": 14,
   "id": "14c25528-3245-4034-b8ee-29015ea05bf9",
   "metadata": {},
   "outputs": [
    {
     "data": {
      "text/html": [
       "<div>\n",
       "<style scoped>\n",
       "    .dataframe tbody tr th:only-of-type {\n",
       "        vertical-align: middle;\n",
       "    }\n",
       "\n",
       "    .dataframe tbody tr th {\n",
       "        vertical-align: top;\n",
       "    }\n",
       "\n",
       "    .dataframe thead th {\n",
       "        text-align: right;\n",
       "    }\n",
       "</style>\n",
       "<table border=\"1\" class=\"dataframe\">\n",
       "  <thead>\n",
       "    <tr style=\"text-align: right;\">\n",
       "      <th></th>\n",
       "      <th>cell_type</th>\n",
       "      <th>gene</th>\n",
       "      <th>pathway</th>\n",
       "      <th>split_encodings</th>\n",
       "      <th>perturbation_condition</th>\n",
       "      <th>background</th>\n",
       "      <th>control</th>\n",
       "      <th>is_ood</th>\n",
       "    </tr>\n",
       "  </thead>\n",
       "  <tbody>\n",
       "    <tr>\n",
       "      <th>06_89_90_1_1_1_1_1_1_1_1_1</th>\n",
       "      <td>A549</td>\n",
       "      <td>STAT2</td>\n",
       "      <td>IFNG</td>\n",
       "      <td>split_1</td>\n",
       "      <td>A549_IFNG_STAT2</td>\n",
       "      <td>A549_IFNG</td>\n",
       "      <td>False</td>\n",
       "      <td>True</td>\n",
       "    </tr>\n",
       "    <tr>\n",
       "      <th>08_92_33_1_1_1_1_1_1_1_1_1</th>\n",
       "      <td>A549</td>\n",
       "      <td>STAT2</td>\n",
       "      <td>IFNG</td>\n",
       "      <td>split_1</td>\n",
       "      <td>A549_IFNG_STAT2</td>\n",
       "      <td>A549_IFNG</td>\n",
       "      <td>False</td>\n",
       "      <td>True</td>\n",
       "    </tr>\n",
       "    <tr>\n",
       "      <th>05_02_90_1_1_1_1_1_1_1_1_1</th>\n",
       "      <td>A549</td>\n",
       "      <td>KIN</td>\n",
       "      <td>IFNG</td>\n",
       "      <td>split_1</td>\n",
       "      <td>A549_IFNG_KIN</td>\n",
       "      <td>A549_IFNG</td>\n",
       "      <td>False</td>\n",
       "      <td>True</td>\n",
       "    </tr>\n",
       "    <tr>\n",
       "      <th>05_35_34_1_1_1_1_1_1_1_1_1</th>\n",
       "      <td>A549</td>\n",
       "      <td>STAT2</td>\n",
       "      <td>IFNG</td>\n",
       "      <td>split_1</td>\n",
       "      <td>A549_IFNG_STAT2</td>\n",
       "      <td>A549_IFNG</td>\n",
       "      <td>False</td>\n",
       "      <td>True</td>\n",
       "    </tr>\n",
       "    <tr>\n",
       "      <th>05_59_23_1_1_1_1_1_1_1_1_1</th>\n",
       "      <td>A549</td>\n",
       "      <td>STAT2</td>\n",
       "      <td>IFNG</td>\n",
       "      <td>split_1</td>\n",
       "      <td>A549_IFNG_STAT2</td>\n",
       "      <td>A549_IFNG</td>\n",
       "      <td>False</td>\n",
       "      <td>True</td>\n",
       "    </tr>\n",
       "    <tr>\n",
       "      <th>...</th>\n",
       "      <td>...</td>\n",
       "      <td>...</td>\n",
       "      <td>...</td>\n",
       "      <td>...</td>\n",
       "      <td>...</td>\n",
       "      <td>...</td>\n",
       "      <td>...</td>\n",
       "      <td>...</td>\n",
       "    </tr>\n",
       "    <tr>\n",
       "      <th>84_64_56_2_2</th>\n",
       "      <td>MCF7</td>\n",
       "      <td>NT</td>\n",
       "      <td>INS</td>\n",
       "      <td>controls</td>\n",
       "      <td>MCF7_INS_NT</td>\n",
       "      <td>MCF7_INS</td>\n",
       "      <td>True</td>\n",
       "      <td>False</td>\n",
       "    </tr>\n",
       "    <tr>\n",
       "      <th>83_31_96_2_2</th>\n",
       "      <td>MCF7</td>\n",
       "      <td>NT</td>\n",
       "      <td>INS</td>\n",
       "      <td>controls</td>\n",
       "      <td>MCF7_INS_NT</td>\n",
       "      <td>MCF7_INS</td>\n",
       "      <td>True</td>\n",
       "      <td>False</td>\n",
       "    </tr>\n",
       "    <tr>\n",
       "      <th>82_86_24_2_2</th>\n",
       "      <td>MCF7</td>\n",
       "      <td>NT</td>\n",
       "      <td>INS</td>\n",
       "      <td>controls</td>\n",
       "      <td>MCF7_INS_NT</td>\n",
       "      <td>MCF7_INS</td>\n",
       "      <td>True</td>\n",
       "      <td>False</td>\n",
       "    </tr>\n",
       "    <tr>\n",
       "      <th>83_06_16_2_2</th>\n",
       "      <td>MCF7</td>\n",
       "      <td>NT</td>\n",
       "      <td>INS</td>\n",
       "      <td>controls</td>\n",
       "      <td>MCF7_INS_NT</td>\n",
       "      <td>MCF7_INS</td>\n",
       "      <td>True</td>\n",
       "      <td>False</td>\n",
       "    </tr>\n",
       "    <tr>\n",
       "      <th>81_93_26_2_2</th>\n",
       "      <td>MCF7</td>\n",
       "      <td>NT</td>\n",
       "      <td>INS</td>\n",
       "      <td>controls</td>\n",
       "      <td>MCF7_INS_NT</td>\n",
       "      <td>MCF7_INS</td>\n",
       "      <td>True</td>\n",
       "      <td>False</td>\n",
       "    </tr>\n",
       "  </tbody>\n",
       "</table>\n",
       "<p>149509 rows × 8 columns</p>\n",
       "</div>"
      ],
      "text/plain": [
       "                           cell_type   gene pathway split_encodings  \\\n",
       "06_89_90_1_1_1_1_1_1_1_1_1      A549  STAT2    IFNG         split_1   \n",
       "08_92_33_1_1_1_1_1_1_1_1_1      A549  STAT2    IFNG         split_1   \n",
       "05_02_90_1_1_1_1_1_1_1_1_1      A549    KIN    IFNG         split_1   \n",
       "05_35_34_1_1_1_1_1_1_1_1_1      A549  STAT2    IFNG         split_1   \n",
       "05_59_23_1_1_1_1_1_1_1_1_1      A549  STAT2    IFNG         split_1   \n",
       "...                              ...    ...     ...             ...   \n",
       "84_64_56_2_2                    MCF7     NT     INS        controls   \n",
       "83_31_96_2_2                    MCF7     NT     INS        controls   \n",
       "82_86_24_2_2                    MCF7     NT     INS        controls   \n",
       "83_06_16_2_2                    MCF7     NT     INS        controls   \n",
       "81_93_26_2_2                    MCF7     NT     INS        controls   \n",
       "\n",
       "                           perturbation_condition background  control  is_ood  \n",
       "06_89_90_1_1_1_1_1_1_1_1_1        A549_IFNG_STAT2  A549_IFNG    False    True  \n",
       "08_92_33_1_1_1_1_1_1_1_1_1        A549_IFNG_STAT2  A549_IFNG    False    True  \n",
       "05_02_90_1_1_1_1_1_1_1_1_1          A549_IFNG_KIN  A549_IFNG    False    True  \n",
       "05_35_34_1_1_1_1_1_1_1_1_1        A549_IFNG_STAT2  A549_IFNG    False    True  \n",
       "05_59_23_1_1_1_1_1_1_1_1_1        A549_IFNG_STAT2  A549_IFNG    False    True  \n",
       "...                                           ...        ...      ...     ...  \n",
       "84_64_56_2_2                          MCF7_INS_NT   MCF7_INS     True   False  \n",
       "83_31_96_2_2                          MCF7_INS_NT   MCF7_INS     True   False  \n",
       "82_86_24_2_2                          MCF7_INS_NT   MCF7_INS     True   False  \n",
       "83_06_16_2_2                          MCF7_INS_NT   MCF7_INS     True   False  \n",
       "81_93_26_2_2                          MCF7_INS_NT   MCF7_INS     True   False  \n",
       "\n",
       "[149509 rows x 8 columns]"
      ]
     },
     "execution_count": 14,
     "metadata": {},
     "output_type": "execute_result"
    }
   ],
   "source": [
    "adata_ood2.obs"
   ]
  },
  {
   "cell_type": "code",
   "execution_count": 15,
   "id": "cc8dc75a-45ef-4e31-a079-c33c9f64d759",
   "metadata": {},
   "outputs": [
    {
     "data": {
      "text/html": [
       "<div>\n",
       "<style scoped>\n",
       "    .dataframe tbody tr th:only-of-type {\n",
       "        vertical-align: middle;\n",
       "    }\n",
       "\n",
       "    .dataframe tbody tr th {\n",
       "        vertical-align: top;\n",
       "    }\n",
       "\n",
       "    .dataframe thead th {\n",
       "        text-align: right;\n",
       "    }\n",
       "</style>\n",
       "<table border=\"1\" class=\"dataframe\">\n",
       "  <thead>\n",
       "    <tr style=\"text-align: right;\">\n",
       "      <th></th>\n",
       "      <th>cell_type</th>\n",
       "      <th>gene</th>\n",
       "      <th>pathway</th>\n",
       "      <th>split_encodings</th>\n",
       "      <th>perturbation_condition</th>\n",
       "      <th>background</th>\n",
       "      <th>control</th>\n",
       "      <th>is_ood</th>\n",
       "    </tr>\n",
       "  </thead>\n",
       "  <tbody>\n",
       "    <tr>\n",
       "      <th>06_17_59_1_1_1_1_1_1_1_1_1</th>\n",
       "      <td>A549</td>\n",
       "      <td>JAK1</td>\n",
       "      <td>IFNG</td>\n",
       "      <td>split_2</td>\n",
       "      <td>A549_IFNG_JAK1</td>\n",
       "      <td>A549_IFNG</td>\n",
       "      <td>False</td>\n",
       "      <td>True</td>\n",
       "    </tr>\n",
       "    <tr>\n",
       "      <th>06_50_30_1_1_1_1_1_1_1_1_1</th>\n",
       "      <td>A549</td>\n",
       "      <td>CUL1</td>\n",
       "      <td>IFNG</td>\n",
       "      <td>split_2</td>\n",
       "      <td>A549_IFNG_CUL1</td>\n",
       "      <td>A549_IFNG</td>\n",
       "      <td>False</td>\n",
       "      <td>True</td>\n",
       "    </tr>\n",
       "    <tr>\n",
       "      <th>06_08_31_1_1_1_1_1_1_1_1_1</th>\n",
       "      <td>A549</td>\n",
       "      <td>CUL1</td>\n",
       "      <td>IFNG</td>\n",
       "      <td>split_2</td>\n",
       "      <td>A549_IFNG_CUL1</td>\n",
       "      <td>A549_IFNG</td>\n",
       "      <td>False</td>\n",
       "      <td>True</td>\n",
       "    </tr>\n",
       "    <tr>\n",
       "      <th>05_76_85_1_1_1_1_1_1_1_1_1</th>\n",
       "      <td>A549</td>\n",
       "      <td>CUL1</td>\n",
       "      <td>IFNG</td>\n",
       "      <td>split_2</td>\n",
       "      <td>A549_IFNG_CUL1</td>\n",
       "      <td>A549_IFNG</td>\n",
       "      <td>False</td>\n",
       "      <td>True</td>\n",
       "    </tr>\n",
       "    <tr>\n",
       "      <th>05_11_50_1_1_1_1_1_1_1_1_1</th>\n",
       "      <td>A549</td>\n",
       "      <td>JAK1</td>\n",
       "      <td>IFNG</td>\n",
       "      <td>split_2</td>\n",
       "      <td>A549_IFNG_JAK1</td>\n",
       "      <td>A549_IFNG</td>\n",
       "      <td>False</td>\n",
       "      <td>True</td>\n",
       "    </tr>\n",
       "    <tr>\n",
       "      <th>...</th>\n",
       "      <td>...</td>\n",
       "      <td>...</td>\n",
       "      <td>...</td>\n",
       "      <td>...</td>\n",
       "      <td>...</td>\n",
       "      <td>...</td>\n",
       "      <td>...</td>\n",
       "      <td>...</td>\n",
       "    </tr>\n",
       "    <tr>\n",
       "      <th>82_42_37_2_2</th>\n",
       "      <td>MCF7</td>\n",
       "      <td>NT</td>\n",
       "      <td>INS</td>\n",
       "      <td>controls</td>\n",
       "      <td>MCF7_INS_NT</td>\n",
       "      <td>MCF7_INS</td>\n",
       "      <td>True</td>\n",
       "      <td>False</td>\n",
       "    </tr>\n",
       "    <tr>\n",
       "      <th>83_08_83_2_2</th>\n",
       "      <td>MCF7</td>\n",
       "      <td>NT</td>\n",
       "      <td>INS</td>\n",
       "      <td>controls</td>\n",
       "      <td>MCF7_INS_NT</td>\n",
       "      <td>MCF7_INS</td>\n",
       "      <td>True</td>\n",
       "      <td>False</td>\n",
       "    </tr>\n",
       "    <tr>\n",
       "      <th>84_19_58_2_2</th>\n",
       "      <td>MCF7</td>\n",
       "      <td>NT</td>\n",
       "      <td>INS</td>\n",
       "      <td>controls</td>\n",
       "      <td>MCF7_INS_NT</td>\n",
       "      <td>MCF7_INS</td>\n",
       "      <td>True</td>\n",
       "      <td>False</td>\n",
       "    </tr>\n",
       "    <tr>\n",
       "      <th>82_64_70_2_2</th>\n",
       "      <td>MCF7</td>\n",
       "      <td>NT</td>\n",
       "      <td>INS</td>\n",
       "      <td>controls</td>\n",
       "      <td>MCF7_INS_NT</td>\n",
       "      <td>MCF7_INS</td>\n",
       "      <td>True</td>\n",
       "      <td>False</td>\n",
       "    </tr>\n",
       "    <tr>\n",
       "      <th>83_51_75_2_2</th>\n",
       "      <td>MCF7</td>\n",
       "      <td>NT</td>\n",
       "      <td>INS</td>\n",
       "      <td>controls</td>\n",
       "      <td>MCF7_INS_NT</td>\n",
       "      <td>MCF7_INS</td>\n",
       "      <td>True</td>\n",
       "      <td>False</td>\n",
       "    </tr>\n",
       "  </tbody>\n",
       "</table>\n",
       "<p>136175 rows × 8 columns</p>\n",
       "</div>"
      ],
      "text/plain": [
       "                           cell_type  gene pathway split_encodings  \\\n",
       "06_17_59_1_1_1_1_1_1_1_1_1      A549  JAK1    IFNG         split_2   \n",
       "06_50_30_1_1_1_1_1_1_1_1_1      A549  CUL1    IFNG         split_2   \n",
       "06_08_31_1_1_1_1_1_1_1_1_1      A549  CUL1    IFNG         split_2   \n",
       "05_76_85_1_1_1_1_1_1_1_1_1      A549  CUL1    IFNG         split_2   \n",
       "05_11_50_1_1_1_1_1_1_1_1_1      A549  JAK1    IFNG         split_2   \n",
       "...                              ...   ...     ...             ...   \n",
       "82_42_37_2_2                    MCF7    NT     INS        controls   \n",
       "83_08_83_2_2                    MCF7    NT     INS        controls   \n",
       "84_19_58_2_2                    MCF7    NT     INS        controls   \n",
       "82_64_70_2_2                    MCF7    NT     INS        controls   \n",
       "83_51_75_2_2                    MCF7    NT     INS        controls   \n",
       "\n",
       "                           perturbation_condition background  control  is_ood  \n",
       "06_17_59_1_1_1_1_1_1_1_1_1         A549_IFNG_JAK1  A549_IFNG    False    True  \n",
       "06_50_30_1_1_1_1_1_1_1_1_1         A549_IFNG_CUL1  A549_IFNG    False    True  \n",
       "06_08_31_1_1_1_1_1_1_1_1_1         A549_IFNG_CUL1  A549_IFNG    False    True  \n",
       "05_76_85_1_1_1_1_1_1_1_1_1         A549_IFNG_CUL1  A549_IFNG    False    True  \n",
       "05_11_50_1_1_1_1_1_1_1_1_1         A549_IFNG_JAK1  A549_IFNG    False    True  \n",
       "...                                           ...        ...      ...     ...  \n",
       "82_42_37_2_2                          MCF7_INS_NT   MCF7_INS     True   False  \n",
       "83_08_83_2_2                          MCF7_INS_NT   MCF7_INS     True   False  \n",
       "84_19_58_2_2                          MCF7_INS_NT   MCF7_INS     True   False  \n",
       "82_64_70_2_2                          MCF7_INS_NT   MCF7_INS     True   False  \n",
       "83_51_75_2_2                          MCF7_INS_NT   MCF7_INS     True   False  \n",
       "\n",
       "[136175 rows x 8 columns]"
      ]
     },
     "execution_count": 15,
     "metadata": {},
     "output_type": "execute_result"
    }
   ],
   "source": [
    "adata_ood3.obs"
   ]
  },
  {
   "cell_type": "code",
   "execution_count": 16,
   "id": "9040b295-178b-4afc-826b-02979b47c8fb",
   "metadata": {},
   "outputs": [
    {
     "data": {
      "text/html": [
       "<div>\n",
       "<style scoped>\n",
       "    .dataframe tbody tr th:only-of-type {\n",
       "        vertical-align: middle;\n",
       "    }\n",
       "\n",
       "    .dataframe tbody tr th {\n",
       "        vertical-align: top;\n",
       "    }\n",
       "\n",
       "    .dataframe thead th {\n",
       "        text-align: right;\n",
       "    }\n",
       "</style>\n",
       "<table border=\"1\" class=\"dataframe\">\n",
       "  <thead>\n",
       "    <tr style=\"text-align: right;\">\n",
       "      <th></th>\n",
       "      <th>cell_type</th>\n",
       "      <th>gene</th>\n",
       "      <th>pathway</th>\n",
       "      <th>split_encodings</th>\n",
       "      <th>perturbation_condition</th>\n",
       "      <th>background</th>\n",
       "      <th>control</th>\n",
       "      <th>is_ood</th>\n",
       "    </tr>\n",
       "  </thead>\n",
       "  <tbody>\n",
       "    <tr>\n",
       "      <th>05_33_45_1_1_1_1_1_1_1_1_1</th>\n",
       "      <td>A549</td>\n",
       "      <td>IRF2</td>\n",
       "      <td>IFNG</td>\n",
       "      <td>split_3</td>\n",
       "      <td>A549_IFNG_IRF2</td>\n",
       "      <td>A549_IFNG</td>\n",
       "      <td>False</td>\n",
       "      <td>True</td>\n",
       "    </tr>\n",
       "    <tr>\n",
       "      <th>05_59_54_1_1_1_1_1_1_1_1_1</th>\n",
       "      <td>A549</td>\n",
       "      <td>IRF2</td>\n",
       "      <td>IFNG</td>\n",
       "      <td>split_3</td>\n",
       "      <td>A549_IFNG_IRF2</td>\n",
       "      <td>A549_IFNG</td>\n",
       "      <td>False</td>\n",
       "      <td>True</td>\n",
       "    </tr>\n",
       "    <tr>\n",
       "      <th>06_73_71_1_1_1_1_1_1_1_1_1</th>\n",
       "      <td>A549</td>\n",
       "      <td>IRF2</td>\n",
       "      <td>IFNG</td>\n",
       "      <td>split_3</td>\n",
       "      <td>A549_IFNG_IRF2</td>\n",
       "      <td>A549_IFNG</td>\n",
       "      <td>False</td>\n",
       "      <td>True</td>\n",
       "    </tr>\n",
       "    <tr>\n",
       "      <th>08_63_22_1_1_1_1_1_1_1_1_1</th>\n",
       "      <td>A549</td>\n",
       "      <td>RARRES3</td>\n",
       "      <td>IFNG</td>\n",
       "      <td>split_3</td>\n",
       "      <td>A549_IFNG_RARRES3</td>\n",
       "      <td>A549_IFNG</td>\n",
       "      <td>False</td>\n",
       "      <td>True</td>\n",
       "    </tr>\n",
       "    <tr>\n",
       "      <th>08_17_82_1_1_1_1_1_1_1_1_1</th>\n",
       "      <td>A549</td>\n",
       "      <td>IFNGR2</td>\n",
       "      <td>IFNG</td>\n",
       "      <td>split_3</td>\n",
       "      <td>A549_IFNG_IFNGR2</td>\n",
       "      <td>A549_IFNG</td>\n",
       "      <td>False</td>\n",
       "      <td>True</td>\n",
       "    </tr>\n",
       "    <tr>\n",
       "      <th>...</th>\n",
       "      <td>...</td>\n",
       "      <td>...</td>\n",
       "      <td>...</td>\n",
       "      <td>...</td>\n",
       "      <td>...</td>\n",
       "      <td>...</td>\n",
       "      <td>...</td>\n",
       "      <td>...</td>\n",
       "    </tr>\n",
       "    <tr>\n",
       "      <th>81_20_03_2_2</th>\n",
       "      <td>MCF7</td>\n",
       "      <td>NT</td>\n",
       "      <td>INS</td>\n",
       "      <td>controls</td>\n",
       "      <td>MCF7_INS_NT</td>\n",
       "      <td>MCF7_INS</td>\n",
       "      <td>True</td>\n",
       "      <td>False</td>\n",
       "    </tr>\n",
       "    <tr>\n",
       "      <th>82_57_11_2_2</th>\n",
       "      <td>MCF7</td>\n",
       "      <td>NT</td>\n",
       "      <td>INS</td>\n",
       "      <td>controls</td>\n",
       "      <td>MCF7_INS_NT</td>\n",
       "      <td>MCF7_INS</td>\n",
       "      <td>True</td>\n",
       "      <td>False</td>\n",
       "    </tr>\n",
       "    <tr>\n",
       "      <th>82_67_38_2_2</th>\n",
       "      <td>MCF7</td>\n",
       "      <td>NT</td>\n",
       "      <td>INS</td>\n",
       "      <td>controls</td>\n",
       "      <td>MCF7_INS_NT</td>\n",
       "      <td>MCF7_INS</td>\n",
       "      <td>True</td>\n",
       "      <td>False</td>\n",
       "    </tr>\n",
       "    <tr>\n",
       "      <th>84_05_03_2_2</th>\n",
       "      <td>MCF7</td>\n",
       "      <td>NT</td>\n",
       "      <td>INS</td>\n",
       "      <td>controls</td>\n",
       "      <td>MCF7_INS_NT</td>\n",
       "      <td>MCF7_INS</td>\n",
       "      <td>True</td>\n",
       "      <td>False</td>\n",
       "    </tr>\n",
       "    <tr>\n",
       "      <th>83_30_26_2_2</th>\n",
       "      <td>MCF7</td>\n",
       "      <td>NT</td>\n",
       "      <td>INS</td>\n",
       "      <td>controls</td>\n",
       "      <td>MCF7_INS_NT</td>\n",
       "      <td>MCF7_INS</td>\n",
       "      <td>True</td>\n",
       "      <td>False</td>\n",
       "    </tr>\n",
       "  </tbody>\n",
       "</table>\n",
       "<p>132222 rows × 8 columns</p>\n",
       "</div>"
      ],
      "text/plain": [
       "                           cell_type     gene pathway split_encodings  \\\n",
       "05_33_45_1_1_1_1_1_1_1_1_1      A549     IRF2    IFNG         split_3   \n",
       "05_59_54_1_1_1_1_1_1_1_1_1      A549     IRF2    IFNG         split_3   \n",
       "06_73_71_1_1_1_1_1_1_1_1_1      A549     IRF2    IFNG         split_3   \n",
       "08_63_22_1_1_1_1_1_1_1_1_1      A549  RARRES3    IFNG         split_3   \n",
       "08_17_82_1_1_1_1_1_1_1_1_1      A549   IFNGR2    IFNG         split_3   \n",
       "...                              ...      ...     ...             ...   \n",
       "81_20_03_2_2                    MCF7       NT     INS        controls   \n",
       "82_57_11_2_2                    MCF7       NT     INS        controls   \n",
       "82_67_38_2_2                    MCF7       NT     INS        controls   \n",
       "84_05_03_2_2                    MCF7       NT     INS        controls   \n",
       "83_30_26_2_2                    MCF7       NT     INS        controls   \n",
       "\n",
       "                           perturbation_condition background  control  is_ood  \n",
       "05_33_45_1_1_1_1_1_1_1_1_1         A549_IFNG_IRF2  A549_IFNG    False    True  \n",
       "05_59_54_1_1_1_1_1_1_1_1_1         A549_IFNG_IRF2  A549_IFNG    False    True  \n",
       "06_73_71_1_1_1_1_1_1_1_1_1         A549_IFNG_IRF2  A549_IFNG    False    True  \n",
       "08_63_22_1_1_1_1_1_1_1_1_1      A549_IFNG_RARRES3  A549_IFNG    False    True  \n",
       "08_17_82_1_1_1_1_1_1_1_1_1       A549_IFNG_IFNGR2  A549_IFNG    False    True  \n",
       "...                                           ...        ...      ...     ...  \n",
       "81_20_03_2_2                          MCF7_INS_NT   MCF7_INS     True   False  \n",
       "82_57_11_2_2                          MCF7_INS_NT   MCF7_INS     True   False  \n",
       "82_67_38_2_2                          MCF7_INS_NT   MCF7_INS     True   False  \n",
       "84_05_03_2_2                          MCF7_INS_NT   MCF7_INS     True   False  \n",
       "83_30_26_2_2                          MCF7_INS_NT   MCF7_INS     True   False  \n",
       "\n",
       "[132222 rows x 8 columns]"
      ]
     },
     "execution_count": 16,
     "metadata": {},
     "output_type": "execute_result"
    }
   ],
   "source": [
    "adata_ood4.obs"
   ]
  },
  {
   "cell_type": "code",
   "execution_count": 17,
   "id": "4762350c-3cf8-46fd-b8e9-f5d346287b3d",
   "metadata": {},
   "outputs": [
    {
     "data": {
      "text/plain": [
       "06_89_90_1_1_1_1_1_1_1_1_1    A549\n",
       "08_92_33_1_1_1_1_1_1_1_1_1    A549\n",
       "05_02_90_1_1_1_1_1_1_1_1_1    A549\n",
       "05_35_34_1_1_1_1_1_1_1_1_1    A549\n",
       "05_59_23_1_1_1_1_1_1_1_1_1    A549\n",
       "                              ... \n",
       "84_64_56_2_2                  MCF7\n",
       "83_31_96_2_2                  MCF7\n",
       "82_86_24_2_2                  MCF7\n",
       "83_06_16_2_2                  MCF7\n",
       "81_93_26_2_2                  MCF7\n",
       "Name: cell_type, Length: 149509, dtype: category\n",
       "Categories (6, object): ['A549', 'BXPC3', 'HAP1', 'HT29', 'K562', 'MCF7']"
      ]
     },
     "execution_count": 17,
     "metadata": {},
     "output_type": "execute_result"
    }
   ],
   "source": [
    "adata_ood2.obs.cell_type"
   ]
  },
  {
   "cell_type": "code",
   "execution_count": 18,
   "id": "a1436b70-bbe6-44cb-a16d-12a35c1716f2",
   "metadata": {},
   "outputs": [
    {
     "data": {
      "text/plain": [
       "06_89_90_1_1_1_1_1_1_1_1_1    A549\n",
       "08_92_33_1_1_1_1_1_1_1_1_1    A549\n",
       "05_02_90_1_1_1_1_1_1_1_1_1    A549\n",
       "05_35_34_1_1_1_1_1_1_1_1_1    A549\n",
       "05_59_23_1_1_1_1_1_1_1_1_1    A549\n",
       "                              ... \n",
       "84_64_56_2_2                  MCF7\n",
       "83_31_96_2_2                  MCF7\n",
       "82_86_24_2_2                  MCF7\n",
       "83_06_16_2_2                  MCF7\n",
       "81_93_26_2_2                  MCF7\n",
       "Name: cell_type, Length: 149509, dtype: category\n",
       "Categories (6, object): ['A549', 'BXPC3', 'HAP1', 'HT29', 'K562', 'MCF7']"
      ]
     },
     "execution_count": 18,
     "metadata": {},
     "output_type": "execute_result"
    }
   ],
   "source": [
    "adata_ood2.obs.cell_type"
   ]
  },
  {
   "cell_type": "code",
   "execution_count": 67,
   "id": "3c190d4d-1689-47a5-9eae-13202d29a943",
   "metadata": {},
   "outputs": [
    {
     "data": {
      "text/plain": [
       "06_17_59_1_1_1_1_1_1_1_1_1    A549\n",
       "06_50_30_1_1_1_1_1_1_1_1_1    A549\n",
       "06_08_31_1_1_1_1_1_1_1_1_1    A549\n",
       "05_76_85_1_1_1_1_1_1_1_1_1    A549\n",
       "05_11_50_1_1_1_1_1_1_1_1_1    A549\n",
       "                              ... \n",
       "82_42_37_2_2                  MCF7\n",
       "83_08_83_2_2                  MCF7\n",
       "84_19_58_2_2                  MCF7\n",
       "82_64_70_2_2                  MCF7\n",
       "83_51_75_2_2                  MCF7\n",
       "Name: cell_type, Length: 136175, dtype: category\n",
       "Categories (6, object): ['A549', 'BXPC3', 'HAP1', 'HT29', 'K562', 'MCF7']"
      ]
     },
     "execution_count": 67,
     "metadata": {},
     "output_type": "execute_result"
    }
   ],
   "source": [
    "adata_ood3.obs.cell_type"
   ]
  },
  {
   "cell_type": "code",
   "execution_count": 19,
   "id": "55cbd5e6-c7df-4372-9994-c7e88294dffa",
   "metadata": {},
   "outputs": [
    {
     "data": {
      "text/plain": [
       "05_33_45_1_1_1_1_1_1_1_1_1    IFNG\n",
       "05_59_54_1_1_1_1_1_1_1_1_1    IFNG\n",
       "06_73_71_1_1_1_1_1_1_1_1_1    IFNG\n",
       "08_63_22_1_1_1_1_1_1_1_1_1    IFNG\n",
       "08_17_82_1_1_1_1_1_1_1_1_1    IFNG\n",
       "                              ... \n",
       "81_20_03_2_2                   INS\n",
       "82_57_11_2_2                   INS\n",
       "82_67_38_2_2                   INS\n",
       "84_05_03_2_2                   INS\n",
       "83_30_26_2_2                   INS\n",
       "Name: pathway, Length: 132222, dtype: category\n",
       "Categories (5, object): ['IFNB', 'IFNG', 'INS', 'TGFB', 'TNFA']"
      ]
     },
     "execution_count": 19,
     "metadata": {},
     "output_type": "execute_result"
    }
   ],
   "source": [
    "adata_ood4.obs.pathway"
   ]
  },
  {
   "cell_type": "code",
   "execution_count": 69,
   "id": "1b7db877-cc1b-4a66-b98d-48126d214f1d",
   "metadata": {},
   "outputs": [
    {
     "data": {
      "text/plain": [
       "264"
      ]
     },
     "execution_count": 69,
     "metadata": {},
     "output_type": "execute_result"
    }
   ],
   "source": [
    "len(np.unique(adata_ood1.obs.perturbation_condition))"
   ]
  },
  {
   "cell_type": "code",
   "execution_count": 70,
   "id": "8e11b57f-4d01-4be5-a87b-30c5e6a76daa",
   "metadata": {},
   "outputs": [
    {
     "data": {
      "text/plain": [
       "244"
      ]
     },
     "execution_count": 70,
     "metadata": {},
     "output_type": "execute_result"
    }
   ],
   "source": [
    "len(np.unique(adata_ood2.obs.perturbation_condition))"
   ]
  },
  {
   "cell_type": "code",
   "execution_count": 71,
   "id": "25f83832-1fec-40fc-a62b-a68809880ef5",
   "metadata": {},
   "outputs": [
    {
     "data": {
      "text/plain": [
       "221"
      ]
     },
     "execution_count": 71,
     "metadata": {},
     "output_type": "execute_result"
    }
   ],
   "source": [
    "len(np.unique(adata_ood3.obs.perturbation_condition))"
   ]
  },
  {
   "cell_type": "code",
   "execution_count": 72,
   "id": "88da2b84-2fb0-489d-a0e8-18217d325145",
   "metadata": {},
   "outputs": [
    {
     "data": {
      "text/plain": [
       "195"
      ]
     },
     "execution_count": 72,
     "metadata": {},
     "output_type": "execute_result"
    }
   ],
   "source": [
    "len(np.unique(adata_ood4.obs.perturbation_condition))"
   ]
  },
  {
   "cell_type": "code",
   "execution_count": 73,
   "id": "beaa8bab-d3bc-4952-88bf-fc6440935a11",
   "metadata": {},
   "outputs": [],
   "source": [
    "perts1 = np.unique(adata_ood1[~adata_ood1.obs.control].obs.perturbation_condition)"
   ]
  },
  {
   "cell_type": "code",
   "execution_count": 74,
   "id": "3254ca38-8f9c-491b-aa72-6fd21a62dad4",
   "metadata": {},
   "outputs": [],
   "source": [
    "perts2 = np.unique(adata_ood2[~adata_ood2.obs.control].obs.perturbation_condition)"
   ]
  },
  {
   "cell_type": "code",
   "execution_count": 75,
   "id": "710353df-67a0-46d3-8afc-13fc905fd50f",
   "metadata": {},
   "outputs": [],
   "source": [
    "perts3 = np.unique(adata_ood3[~adata_ood3.obs.control].obs.perturbation_condition)"
   ]
  },
  {
   "cell_type": "code",
   "execution_count": 76,
   "id": "7589a6f1-51aa-4591-a9d1-a4f692833b4f",
   "metadata": {},
   "outputs": [],
   "source": [
    "perts4 = np.unique(adata_ood4[~adata_ood4.obs.control].obs.perturbation_condition)"
   ]
  },
  {
   "cell_type": "code",
   "execution_count": 77,
   "id": "fe61c450-5355-4b29-809d-2ce028c0263f",
   "metadata": {},
   "outputs": [
    {
     "data": {
      "text/plain": [
       "0"
      ]
     },
     "execution_count": 77,
     "metadata": {},
     "output_type": "execute_result"
    }
   ],
   "source": [
    "len(np.intersect1d(perts1, perts2))"
   ]
  },
  {
   "cell_type": "code",
   "execution_count": 78,
   "id": "667e9879-4f6c-4572-97c9-b42ff3113ced",
   "metadata": {},
   "outputs": [
    {
     "data": {
      "text/plain": [
       "0"
      ]
     },
     "execution_count": 78,
     "metadata": {},
     "output_type": "execute_result"
    }
   ],
   "source": [
    "len(np.intersect1d(perts1, perts3))"
   ]
  },
  {
   "cell_type": "code",
   "execution_count": 79,
   "id": "76a1b818-65c8-4f3b-809f-31bd35473479",
   "metadata": {},
   "outputs": [
    {
     "data": {
      "text/plain": [
       "0"
      ]
     },
     "execution_count": 79,
     "metadata": {},
     "output_type": "execute_result"
    }
   ],
   "source": [
    "len(np.intersect1d(perts1, perts4))"
   ]
  },
  {
   "cell_type": "code",
   "execution_count": 80,
   "id": "0cd80423-cbca-441d-82c5-4f3590e528d4",
   "metadata": {},
   "outputs": [
    {
     "data": {
      "text/plain": [
       "0"
      ]
     },
     "execution_count": 80,
     "metadata": {},
     "output_type": "execute_result"
    }
   ],
   "source": [
    "len(np.intersect1d(perts2, perts3))"
   ]
  },
  {
   "cell_type": "code",
   "execution_count": 81,
   "id": "287f11e0-3662-4cb3-822a-53742b1c3a97",
   "metadata": {},
   "outputs": [
    {
     "data": {
      "text/plain": [
       "0"
      ]
     },
     "execution_count": 81,
     "metadata": {},
     "output_type": "execute_result"
    }
   ],
   "source": [
    "len(np.intersect1d(perts2, perts4))"
   ]
  },
  {
   "cell_type": "code",
   "execution_count": 82,
   "id": "72a67997-7c11-4073-8495-b754d6a43cfa",
   "metadata": {},
   "outputs": [
    {
     "data": {
      "text/plain": [
       "0"
      ]
     },
     "execution_count": 82,
     "metadata": {},
     "output_type": "execute_result"
    }
   ],
   "source": [
    "len(np.intersect1d(perts3, perts4))"
   ]
  },
  {
   "cell_type": "markdown",
   "id": "68a83f99-d03f-4539-9800-4094cd014e97",
   "metadata": {},
   "source": [
    "Check correspondence with `csv`"
   ]
  },
  {
   "cell_type": "code",
   "execution_count": 83,
   "id": "8db2a107-8cd0-44a9-a6cc-0171f4a42d59",
   "metadata": {},
   "outputs": [],
   "source": [
    "gene_split = pd.read_csv(\"/lustre/groups/ml01/workspace/ot_perturbation/data/satija/datasets/adata_ood_final_genes/gene_split.csv\")"
   ]
  },
  {
   "cell_type": "code",
   "execution_count": 88,
   "id": "34e1b997-24a4-472b-ba1c-1ca42e213bf9",
   "metadata": {},
   "outputs": [],
   "source": [
    "perts_0 = gene_split[gene_split.split==\"split_0\"].pathway_gene\n",
    "perts_1 = gene_split[gene_split.split==\"split_1\"].pathway_gene\n",
    "perts_2 = gene_split[gene_split.split==\"split_2\"].pathway_gene\n",
    "perts_3 = gene_split[gene_split.split==\"split_3\"].pathway_gene"
   ]
  },
  {
   "cell_type": "code",
   "execution_count": 91,
   "id": "8ce94054-2325-4bcb-810c-aca5f4e382cd",
   "metadata": {},
   "outputs": [
    {
     "data": {
      "text/html": [
       "<div>\n",
       "<style scoped>\n",
       "    .dataframe tbody tr th:only-of-type {\n",
       "        vertical-align: middle;\n",
       "    }\n",
       "\n",
       "    .dataframe tbody tr th {\n",
       "        vertical-align: top;\n",
       "    }\n",
       "\n",
       "    .dataframe thead th {\n",
       "        text-align: right;\n",
       "    }\n",
       "</style>\n",
       "<table border=\"1\" class=\"dataframe\">\n",
       "  <thead>\n",
       "    <tr style=\"text-align: right;\">\n",
       "      <th></th>\n",
       "      <th>cell_type</th>\n",
       "      <th>gene</th>\n",
       "      <th>pathway</th>\n",
       "      <th>split_encodings</th>\n",
       "      <th>perturbation_condition</th>\n",
       "      <th>background</th>\n",
       "      <th>control</th>\n",
       "      <th>is_ood</th>\n",
       "    </tr>\n",
       "  </thead>\n",
       "  <tbody>\n",
       "    <tr>\n",
       "      <th>08_88_81_1_1_1_1_1_1_1_1_1</th>\n",
       "      <td>A549</td>\n",
       "      <td>CEBPB</td>\n",
       "      <td>IFNG</td>\n",
       "      <td>split_0</td>\n",
       "      <td>A549_IFNG_CEBPB</td>\n",
       "      <td>A549_IFNG</td>\n",
       "      <td>False</td>\n",
       "      <td>True</td>\n",
       "    </tr>\n",
       "    <tr>\n",
       "      <th>08_88_33_1_1_1_1_1_1_1_1_1</th>\n",
       "      <td>A549</td>\n",
       "      <td>IRF1</td>\n",
       "      <td>IFNG</td>\n",
       "      <td>split_0</td>\n",
       "      <td>A549_IFNG_IRF1</td>\n",
       "      <td>A549_IFNG</td>\n",
       "      <td>False</td>\n",
       "      <td>True</td>\n",
       "    </tr>\n",
       "    <tr>\n",
       "      <th>05_40_43_1_1_1_1_1_1_1_1_1</th>\n",
       "      <td>A549</td>\n",
       "      <td>IRF1</td>\n",
       "      <td>IFNG</td>\n",
       "      <td>split_0</td>\n",
       "      <td>A549_IFNG_IRF1</td>\n",
       "      <td>A549_IFNG</td>\n",
       "      <td>False</td>\n",
       "      <td>True</td>\n",
       "    </tr>\n",
       "    <tr>\n",
       "      <th>05_29_59_1_1_1_1_1_1_1_1_1</th>\n",
       "      <td>A549</td>\n",
       "      <td>IFNGR1</td>\n",
       "      <td>IFNG</td>\n",
       "      <td>split_0</td>\n",
       "      <td>A549_IFNG_IFNGR1</td>\n",
       "      <td>A549_IFNG</td>\n",
       "      <td>False</td>\n",
       "      <td>True</td>\n",
       "    </tr>\n",
       "    <tr>\n",
       "      <th>05_35_80_1_1_1_1_1_1_1_1_1</th>\n",
       "      <td>A549</td>\n",
       "      <td>CEBPB</td>\n",
       "      <td>IFNG</td>\n",
       "      <td>split_0</td>\n",
       "      <td>A549_IFNG_CEBPB</td>\n",
       "      <td>A549_IFNG</td>\n",
       "      <td>False</td>\n",
       "      <td>True</td>\n",
       "    </tr>\n",
       "    <tr>\n",
       "      <th>...</th>\n",
       "      <td>...</td>\n",
       "      <td>...</td>\n",
       "      <td>...</td>\n",
       "      <td>...</td>\n",
       "      <td>...</td>\n",
       "      <td>...</td>\n",
       "      <td>...</td>\n",
       "      <td>...</td>\n",
       "    </tr>\n",
       "    <tr>\n",
       "      <th>82_86_24_2_2</th>\n",
       "      <td>MCF7</td>\n",
       "      <td>NT</td>\n",
       "      <td>INS</td>\n",
       "      <td>controls</td>\n",
       "      <td>MCF7_INS_NT</td>\n",
       "      <td>MCF7_INS</td>\n",
       "      <td>True</td>\n",
       "      <td>False</td>\n",
       "    </tr>\n",
       "    <tr>\n",
       "      <th>81_07_59_2_2</th>\n",
       "      <td>MCF7</td>\n",
       "      <td>NT</td>\n",
       "      <td>INS</td>\n",
       "      <td>controls</td>\n",
       "      <td>MCF7_INS_NT</td>\n",
       "      <td>MCF7_INS</td>\n",
       "      <td>True</td>\n",
       "      <td>False</td>\n",
       "    </tr>\n",
       "    <tr>\n",
       "      <th>81_28_89_2_2</th>\n",
       "      <td>MCF7</td>\n",
       "      <td>NT</td>\n",
       "      <td>INS</td>\n",
       "      <td>controls</td>\n",
       "      <td>MCF7_INS_NT</td>\n",
       "      <td>MCF7_INS</td>\n",
       "      <td>True</td>\n",
       "      <td>False</td>\n",
       "    </tr>\n",
       "    <tr>\n",
       "      <th>81_93_26_2_2</th>\n",
       "      <td>MCF7</td>\n",
       "      <td>NT</td>\n",
       "      <td>INS</td>\n",
       "      <td>controls</td>\n",
       "      <td>MCF7_INS_NT</td>\n",
       "      <td>MCF7_INS</td>\n",
       "      <td>True</td>\n",
       "      <td>False</td>\n",
       "    </tr>\n",
       "    <tr>\n",
       "      <th>83_66_11_2_2</th>\n",
       "      <td>MCF7</td>\n",
       "      <td>NT</td>\n",
       "      <td>INS</td>\n",
       "      <td>controls</td>\n",
       "      <td>MCF7_INS_NT</td>\n",
       "      <td>MCF7_INS</td>\n",
       "      <td>True</td>\n",
       "      <td>False</td>\n",
       "    </tr>\n",
       "  </tbody>\n",
       "</table>\n",
       "<p>162420 rows × 8 columns</p>\n",
       "</div>"
      ],
      "text/plain": [
       "                           cell_type    gene pathway split_encodings  \\\n",
       "08_88_81_1_1_1_1_1_1_1_1_1      A549   CEBPB    IFNG         split_0   \n",
       "08_88_33_1_1_1_1_1_1_1_1_1      A549    IRF1    IFNG         split_0   \n",
       "05_40_43_1_1_1_1_1_1_1_1_1      A549    IRF1    IFNG         split_0   \n",
       "05_29_59_1_1_1_1_1_1_1_1_1      A549  IFNGR1    IFNG         split_0   \n",
       "05_35_80_1_1_1_1_1_1_1_1_1      A549   CEBPB    IFNG         split_0   \n",
       "...                              ...     ...     ...             ...   \n",
       "82_86_24_2_2                    MCF7      NT     INS        controls   \n",
       "81_07_59_2_2                    MCF7      NT     INS        controls   \n",
       "81_28_89_2_2                    MCF7      NT     INS        controls   \n",
       "81_93_26_2_2                    MCF7      NT     INS        controls   \n",
       "83_66_11_2_2                    MCF7      NT     INS        controls   \n",
       "\n",
       "                           perturbation_condition background  control  is_ood  \n",
       "08_88_81_1_1_1_1_1_1_1_1_1        A549_IFNG_CEBPB  A549_IFNG    False    True  \n",
       "08_88_33_1_1_1_1_1_1_1_1_1         A549_IFNG_IRF1  A549_IFNG    False    True  \n",
       "05_40_43_1_1_1_1_1_1_1_1_1         A549_IFNG_IRF1  A549_IFNG    False    True  \n",
       "05_29_59_1_1_1_1_1_1_1_1_1       A549_IFNG_IFNGR1  A549_IFNG    False    True  \n",
       "05_35_80_1_1_1_1_1_1_1_1_1        A549_IFNG_CEBPB  A549_IFNG    False    True  \n",
       "...                                           ...        ...      ...     ...  \n",
       "82_86_24_2_2                          MCF7_INS_NT   MCF7_INS     True   False  \n",
       "81_07_59_2_2                          MCF7_INS_NT   MCF7_INS     True   False  \n",
       "81_28_89_2_2                          MCF7_INS_NT   MCF7_INS     True   False  \n",
       "81_93_26_2_2                          MCF7_INS_NT   MCF7_INS     True   False  \n",
       "83_66_11_2_2                          MCF7_INS_NT   MCF7_INS     True   False  \n",
       "\n",
       "[162420 rows x 8 columns]"
      ]
     },
     "execution_count": 91,
     "metadata": {},
     "output_type": "execute_result"
    }
   ],
   "source": [
    "adata_ood1.obs"
   ]
  },
  {
   "cell_type": "code",
   "execution_count": 94,
   "id": "ef416c02-b767-4e50-9131-5e972fc066ae",
   "metadata": {},
   "outputs": [],
   "source": [
    "adata_ood1.obs[\"pathway_gene\"] = [f\"{pathway}_{gene}\" for pathway, gene in zip(adata_ood1.obs.pathway, adata_ood1.obs.gene)]\n",
    "adata_ood2.obs[\"pathway_gene\"] = [f\"{pathway}_{gene}\" for pathway, gene in zip(adata_ood2.obs.pathway, adata_ood2.obs.gene)]\n",
    "adata_ood3.obs[\"pathway_gene\"] = [f\"{pathway}_{gene}\" for pathway, gene in zip(adata_ood3.obs.pathway, adata_ood3.obs.gene)]\n",
    "adata_ood4.obs[\"pathway_gene\"] = [f\"{pathway}_{gene}\" for pathway, gene in zip(adata_ood4.obs.pathway, adata_ood4.obs.gene)]"
   ]
  },
  {
   "cell_type": "code",
   "execution_count": 121,
   "id": "34fdf5c7-e7f1-4b0f-8f4b-a67a4c09037d",
   "metadata": {},
   "outputs": [],
   "source": [
    "unique_tr_split = np.unique(adata_ood4.obs.pathway_gene)"
   ]
  },
  {
   "cell_type": "code",
   "execution_count": 122,
   "id": "2a8b5b28-e00e-465e-8599-5c65ff96c5cc",
   "metadata": {
    "scrolled": true
   },
   "outputs": [],
   "source": [
    "unique_split = np.unique(gene_split[gene_split.split==\"split_3\"].pathway_gene)"
   ]
  },
  {
   "cell_type": "code",
   "execution_count": 123,
   "id": "356c724d-60df-4e14-bf2f-774bc210b8bf",
   "metadata": {},
   "outputs": [
    {
     "data": {
      "text/plain": [
       "array(['IFNB_NT', 'IFNG_NT', 'INS_NT', 'TGFB_NT', 'TNFA_NT'], dtype=object)"
      ]
     },
     "execution_count": 123,
     "metadata": {},
     "output_type": "execute_result"
    }
   ],
   "source": [
    "np.setdiff1d(unique_tr_split, unique_split)"
   ]
  },
  {
   "cell_type": "markdown",
   "id": "f924219b-71b1-4e7f-bf63-7b56e690315d",
   "metadata": {},
   "source": [
    "## Dataset leaveout cell line "
   ]
  },
  {
   "cell_type": "code",
   "execution_count": 7,
   "id": "f07f2ee0-8e37-4640-9c2d-eb6f3356b94f",
   "metadata": {},
   "outputs": [],
   "source": [
    "adata_train = sc.read_h5ad(\"/lustre/groups/ml01/workspace/ot_perturbation/data/satija/datasets/adata_ood_final_cell_type/BXPC3/adata_train_BXCP3.h5ad\")\n",
    "adata_test = sc.read_h5ad(\"/lustre/groups/ml01/workspace/ot_perturbation/data/satija/datasets/adata_ood_final_cell_type/BXPC3/adata_test_BXCP3.h5ad\")\n",
    "adata_ood = sc.read_h5ad(\"/lustre/groups/ml01/workspace/ot_perturbation/data/satija/datasets/adata_ood_final_cell_type/BXPC3/adata_ood_BXCP3.h5ad\")"
   ]
  },
  {
   "cell_type": "code",
   "execution_count": 124,
   "id": "24db9a45-5280-420b-bcb8-8b9d5cfbecb2",
   "metadata": {},
   "outputs": [
    {
     "data": {
      "text/plain": [
       "AnnData object with n_obs × n_vars = 37478 × 8265\n",
       "    obs: 'cell_type', 'gene', 'pathway', 'condition', 'background', 'control', 'is_ood'\n",
       "    uns: 'cell_type_emb', 'gene_emb', 'log1p', 'pathway_emb', 'rank_genes_groups_cov_all'\n",
       "    obsm: 'X_pca'\n",
       "    varm: 'X_mean'\n",
       "    layers: 'centered_X'"
      ]
     },
     "execution_count": 124,
     "metadata": {},
     "output_type": "execute_result"
    }
   ],
   "source": [
    "adata_ood"
   ]
  },
  {
   "cell_type": "code",
   "execution_count": 125,
   "id": "82f0d4a4-e048-4a94-b44b-0c5a5be0ec57",
   "metadata": {},
   "outputs": [
    {
     "data": {
      "text/plain": [
       "AnnData object with n_obs × n_vars = 67600 × 8265\n",
       "    obs: 'cell_type', 'gene', 'pathway', 'condition', 'background', 'control', 'is_ood', 'split'\n",
       "    uns: 'cell_type_emb', 'gene_emb', 'log1p', 'pathway_emb', 'rank_genes_groups_cov_all'\n",
       "    obsm: 'X_pca'\n",
       "    varm: 'X_mean'\n",
       "    layers: 'centered_X'"
      ]
     },
     "execution_count": 125,
     "metadata": {},
     "output_type": "execute_result"
    }
   ],
   "source": [
    "adata_test"
   ]
  },
  {
   "cell_type": "code",
   "execution_count": 126,
   "id": "0cc81ab0-5c74-4c51-8815-41e3255c231f",
   "metadata": {},
   "outputs": [
    {
     "data": {
      "text/plain": [
       "AnnData object with n_obs × n_vars = 453425 × 8265\n",
       "    obs: 'cell_type', 'gene', 'pathway', 'condition', 'background', 'control', 'is_ood', 'split'\n",
       "    uns: 'cell_type_emb', 'gene_emb', 'log1p', 'pathway_emb', 'pca', 'rank_genes_groups_cov_all'\n",
       "    obsm: 'X_pca'\n",
       "    varm: 'PCs', 'X_mean'\n",
       "    layers: 'X_centered', 'X_log1p'"
      ]
     },
     "execution_count": 126,
     "metadata": {},
     "output_type": "execute_result"
    }
   ],
   "source": [
    "adata_train"
   ]
  },
  {
   "cell_type": "markdown",
   "id": "1300f917-a7ee-4c96-998a-751b79756ed4",
   "metadata": {},
   "source": [
    "# Check if `sweep_cell_line` is correct"
   ]
  },
  {
   "cell_type": "code",
   "execution_count": 2,
   "id": "838a071c-1f82-4749-842e-093317e0e5f5",
   "metadata": {},
   "outputs": [],
   "source": [
    "adata_train = sc.read_h5ad(\"/lustre/groups/ml01/workspace/ot_perturbation/data/satija/datasets/adata_ood_final_cell_type/BXPC3/adata_train_BXCP3.h5ad\")\n",
    "adata_test = sc.read_h5ad(\"/lustre/groups/ml01/workspace/ot_perturbation/data/satija/datasets/adata_ood_final_cell_type/BXPC3/adata_test_BXCP3.h5ad\")\n",
    "adata_ood = sc.read_h5ad(\"/lustre/groups/ml01/workspace/ot_perturbation/data/satija/datasets/adata_ood_final_cell_type/BXPC3/adata_ood_BXCP3.h5ad\")"
   ]
  },
  {
   "cell_type": "code",
   "execution_count": 9,
   "id": "edee3e2e-cd15-4aa2-b4ed-55023daa3b69",
   "metadata": {},
   "outputs": [
    {
     "data": {
      "text/plain": [
       "05_17_93_1_1_1_1_1_1_1_1_1    A549\n",
       "05_41_69_1_1_1_1_1_1_1_1_1    A549\n",
       "08_88_33_1_1_1_1_1_1_1_1_1    A549\n",
       "05_40_43_1_1_1_1_1_1_1_1_1    A549\n",
       "05_29_59_1_1_1_1_1_1_1_1_1    A549\n",
       "                              ... \n",
       "84_07_72_2_2                  MCF7\n",
       "82_30_49_2_2                  MCF7\n",
       "83_82_89_2_2                  MCF7\n",
       "82_83_73_2_2                  MCF7\n",
       "84_92_02_2_2                  MCF7\n",
       "Name: cell_type, Length: 339425, dtype: category\n",
       "Categories (5, object): ['A549', 'HAP1', 'HT29', 'K562', 'MCF7']"
      ]
     },
     "execution_count": 9,
     "metadata": {},
     "output_type": "execute_result"
    }
   ],
   "source": [
    "adata_train.obs.cell_type"
   ]
  },
  {
   "cell_type": "code",
   "execution_count": 10,
   "id": "55ec8018-246f-48b3-852f-bd96882005be",
   "metadata": {},
   "outputs": [
    {
     "data": {
      "text/plain": [
       "06_63_14_1_1_1_1_1_1_1_1_1    A549\n",
       "07_72_41_1_1_1_1_1_1_1_1_1    A549\n",
       "08_89_30_1_1_1_1_1_1_1_1_1    A549\n",
       "05_41_82_1_1_1_1_1_1_1_1_1    A549\n",
       "07_32_60_1_1_1_1_1_1_1_1_1    A549\n",
       "                              ... \n",
       "81_05_14_2_2                  MCF7\n",
       "84_27_24_2_2                  MCF7\n",
       "83_74_91_2_2                  MCF7\n",
       "82_44_43_2_2                  MCF7\n",
       "83_77_16_2_2                  MCF7\n",
       "Name: cell_type, Length: 54300, dtype: category\n",
       "Categories (5, object): ['A549', 'HAP1', 'HT29', 'K562', 'MCF7']"
      ]
     },
     "execution_count": 10,
     "metadata": {},
     "output_type": "execute_result"
    }
   ],
   "source": [
    "adata_test.obs.cell_type"
   ]
  },
  {
   "cell_type": "code",
   "execution_count": 11,
   "id": "c4b43b47-6791-4b93-be2d-d22fb5a947c1",
   "metadata": {},
   "outputs": [
    {
     "data": {
      "text/plain": [
       "25_18_07_1_1_1_1_1_1_1_1_1    BXPC3\n",
       "25_76_28_1_1_1_1_1_1_1_1_1    BXPC3\n",
       "26_28_82_1_1_1_1_1_1_1_1_1    BXPC3\n",
       "25_29_84_1_1_1_1_1_1_1_1_1    BXPC3\n",
       "28_44_52_1_1_1_1_1_1_1_1_1    BXPC3\n",
       "                              ...  \n",
       "96_14_17_2_2                  BXPC3\n",
       "96_34_32_2_2                  BXPC3\n",
       "96_05_74_2_2                  BXPC3\n",
       "95_37_17_2_2                  BXPC3\n",
       "96_60_72_2_2                  BXPC3\n",
       "Name: cell_type, Length: 163159, dtype: category\n",
       "Categories (1, object): ['BXPC3']"
      ]
     },
     "execution_count": 11,
     "metadata": {},
     "output_type": "execute_result"
    }
   ],
   "source": [
    "adata_ood.obs.cell_type"
   ]
  },
  {
   "cell_type": "code",
   "execution_count": null,
   "id": "aec04a1e-ef84-4f4a-b810-e2f9ddf2aa87",
   "metadata": {},
   "outputs": [],
   "source": [
    "adata_ood[adata_ood.obs[\"control\"]].obs.gene"
   ]
  },
  {
   "cell_type": "code",
   "execution_count": null,
   "id": "24a9f6f5-4f42-4d9a-8927-a7c0d808b737",
   "metadata": {},
   "outputs": [],
   "source": [
    "\"NT\" in adata_train[~adata_train.obs[\"control\"]].obs.gene"
   ]
  },
  {
   "cell_type": "markdown",
   "id": "6b78106f-62ab-4fb3-8b4b-3a035d7d0a57",
   "metadata": {},
   "source": [
    "# Check simulated dataset"
   ]
  },
  {
   "cell_type": "code",
   "execution_count": 2,
   "id": "e65731ca-3c69-4deb-a008-5dae30739166",
   "metadata": {},
   "outputs": [],
   "source": [
    "path_simulated = \"/lustre/groups/ml01/workspace/alessandro.palma/ot_pert/out/results_metrics/generated_data/sweep_cell_line/adata_ood_split_BXCP3.h5ad\""
   ]
  },
  {
   "cell_type": "code",
   "execution_count": 4,
   "id": "968e5028-e72f-4167-8270-135810085995",
   "metadata": {},
   "outputs": [],
   "source": [
    "adata_sim = sc.read_h5ad(path_simulated)"
   ]
  },
  {
   "cell_type": "code",
   "execution_count": 6,
   "id": "bcd55937-cad1-43bd-9a7f-4a48d24aa317",
   "metadata": {},
   "outputs": [
    {
     "data": {
      "text/html": [
       "<div>\n",
       "<style scoped>\n",
       "    .dataframe tbody tr th:only-of-type {\n",
       "        vertical-align: middle;\n",
       "    }\n",
       "\n",
       "    .dataframe tbody tr th {\n",
       "        vertical-align: top;\n",
       "    }\n",
       "\n",
       "    .dataframe thead th {\n",
       "        text-align: right;\n",
       "    }\n",
       "</style>\n",
       "<table border=\"1\" class=\"dataframe\">\n",
       "  <thead>\n",
       "    <tr style=\"text-align: right;\">\n",
       "      <th></th>\n",
       "      <th>condition</th>\n",
       "    </tr>\n",
       "  </thead>\n",
       "  <tbody>\n",
       "    <tr>\n",
       "      <th>0</th>\n",
       "      <td>BXPC3_IFNB_ADAR</td>\n",
       "    </tr>\n",
       "    <tr>\n",
       "      <th>1</th>\n",
       "      <td>BXPC3_IFNB_ADAR</td>\n",
       "    </tr>\n",
       "    <tr>\n",
       "      <th>2</th>\n",
       "      <td>BXPC3_IFNB_ADAR</td>\n",
       "    </tr>\n",
       "    <tr>\n",
       "      <th>3</th>\n",
       "      <td>BXPC3_IFNB_ADAR</td>\n",
       "    </tr>\n",
       "    <tr>\n",
       "      <th>4</th>\n",
       "      <td>BXPC3_IFNB_ADAR</td>\n",
       "    </tr>\n",
       "    <tr>\n",
       "      <th>...</th>\n",
       "      <td>...</td>\n",
       "    </tr>\n",
       "    <tr>\n",
       "      <th>104995</th>\n",
       "      <td>BXPC3_TNFA_ZNF267</td>\n",
       "    </tr>\n",
       "    <tr>\n",
       "      <th>104996</th>\n",
       "      <td>BXPC3_TNFA_ZNF267</td>\n",
       "    </tr>\n",
       "    <tr>\n",
       "      <th>104997</th>\n",
       "      <td>BXPC3_TNFA_ZNF267</td>\n",
       "    </tr>\n",
       "    <tr>\n",
       "      <th>104998</th>\n",
       "      <td>BXPC3_TNFA_ZNF267</td>\n",
       "    </tr>\n",
       "    <tr>\n",
       "      <th>104999</th>\n",
       "      <td>BXPC3_TNFA_ZNF267</td>\n",
       "    </tr>\n",
       "  </tbody>\n",
       "</table>\n",
       "<p>105000 rows × 1 columns</p>\n",
       "</div>"
      ],
      "text/plain": [
       "                condition\n",
       "0         BXPC3_IFNB_ADAR\n",
       "1         BXPC3_IFNB_ADAR\n",
       "2         BXPC3_IFNB_ADAR\n",
       "3         BXPC3_IFNB_ADAR\n",
       "4         BXPC3_IFNB_ADAR\n",
       "...                   ...\n",
       "104995  BXPC3_TNFA_ZNF267\n",
       "104996  BXPC3_TNFA_ZNF267\n",
       "104997  BXPC3_TNFA_ZNF267\n",
       "104998  BXPC3_TNFA_ZNF267\n",
       "104999  BXPC3_TNFA_ZNF267\n",
       "\n",
       "[105000 rows x 1 columns]"
      ]
     },
     "execution_count": 6,
     "metadata": {},
     "output_type": "execute_result"
    }
   ],
   "source": [
    "adata_sim.obs"
   ]
  },
  {
   "cell_type": "code",
   "execution_count": 7,
   "id": "532d330c-aa8a-4ba5-8915-127997fe0d46",
   "metadata": {},
   "outputs": [],
   "source": [
    "import pickle as pkl"
   ]
  },
  {
   "cell_type": "code",
   "execution_count": 9,
   "id": "a8220f42-9d58-4d28-a1a7-6ae41f2cbf88",
   "metadata": {},
   "outputs": [
    {
     "name": "stderr",
     "output_type": "stream",
     "text": [
      "/home/icb/alessandro.palma/miniconda3/envs/ot_pert/lib/python3.10/site-packages/anndata/utils.py:429: FutureWarning: Importing read_csv from `anndata` is deprecated. Import anndata.io.read_csv instead.\n",
      "  warnings.warn(msg, FutureWarning)\n",
      "/home/icb/alessandro.palma/miniconda3/envs/ot_pert/lib/python3.10/site-packages/anndata/utils.py:429: FutureWarning: Importing read_loom from `anndata` is deprecated. Import anndata.io.read_loom instead.\n",
      "  warnings.warn(msg, FutureWarning)\n",
      "/home/icb/alessandro.palma/miniconda3/envs/ot_pert/lib/python3.10/site-packages/anndata/utils.py:429: FutureWarning: Importing read_text from `anndata` is deprecated. Import anndata.io.read_text instead.\n",
      "  warnings.warn(msg, FutureWarning)\n",
      "/home/icb/alessandro.palma/miniconda3/envs/ot_pert/lib/python3.10/site-packages/anndata/utils.py:429: FutureWarning: Importing CSCDataset from `anndata.experimental` is deprecated. Import anndata.abc.CSCDataset instead.\n",
      "  warnings.warn(msg, FutureWarning)\n",
      "/home/icb/alessandro.palma/miniconda3/envs/ot_pert/lib/python3.10/site-packages/anndata/utils.py:429: FutureWarning: Importing CSRDataset from `anndata.experimental` is deprecated. Import anndata.abc.CSRDataset instead.\n",
      "  warnings.warn(msg, FutureWarning)\n",
      "/home/icb/alessandro.palma/miniconda3/envs/ot_pert/lib/python3.10/site-packages/anndata/utils.py:429: FutureWarning: Importing read_elem from `anndata.experimental` is deprecated. Import anndata.io.read_elem instead.\n",
      "  warnings.warn(msg, FutureWarning)\n",
      "/home/icb/alessandro.palma/miniconda3/envs/ot_pert/lib/python3.10/site-packages/tqdm/auto.py:21: TqdmWarning: IProgress not found. Please update jupyter and ipywidgets. See https://ipywidgets.readthedocs.io/en/stable/user_install.html\n",
      "  from .autonotebook import tqdm as notebook_tqdm\n"
     ]
    }
   ],
   "source": [
    "with open(\"/lustre/groups/ml01/workspace/alessandro.palma/ot_pert/out/best_ckpts/sweep_cell_line/satija_cell_type_BXCP3_CellFlow.pkl\", \"rb\") as file:\n",
    "    conf = pkl.load(file)"
   ]
  },
  {
   "cell_type": "markdown",
   "id": "898d5b85-f798-4585-9cc1-cb28015d8ed5",
   "metadata": {},
   "source": [
    "## Check pathway + data combination"
   ]
  },
  {
   "cell_type": "code",
   "execution_count": 34,
   "id": "fd42b459-d4b1-4d3d-9a30-fca6255cc9c0",
   "metadata": {},
   "outputs": [],
   "source": [
    "# adata_train = sc.read_h5ad(\"/lustre/groups/ml01/workspace/ot_perturbation/data/satija/datasets/adata_ood_final_pathway_cell_type/HT29_TNFA/adata_train_HT29_TNFA.h5ad\")\n",
    "# adata_test = sc.read_h5ad(\"/lustre/groups/ml01/workspace/ot_perturbation/data/satija/datasets/adata_ood_final_pathway_cell_type/HT29_TNFA/adata_test_HT29_TNFA.h5ad\")\n",
    "adata_ood = sc.read_h5ad(\"/lustre/groups/ml01/workspace/ot_perturbation/data/satija/datasets/adata_ood_final_pathway_cell_type/A549_IFNB/adata_ood_A549_IFNB.h5ad\")"
   ]
  },
  {
   "cell_type": "code",
   "execution_count": 35,
   "id": "7ea29374-3f3d-4111-b9e1-13adf6006f26",
   "metadata": {},
   "outputs": [
    {
     "data": {
      "text/plain": [
       "View of AnnData object with n_obs × n_vars = 500 × 8265\n",
       "    obs: 'cell_type', 'gene', 'pathway', 'condition', 'background', 'control', 'is_ood'\n",
       "    uns: 'cell_type_emb', 'gene_emb', 'log1p', 'pathway_emb', 'rank_genes_groups_cov_all'\n",
       "    obsm: 'X_pca'\n",
       "    varm: 'X_mean'\n",
       "    layers: 'centered_X'"
      ]
     },
     "execution_count": 35,
     "metadata": {},
     "output_type": "execute_result"
    }
   ],
   "source": [
    "adata_ood[adata_ood.obs.control]"
   ]
  },
  {
   "cell_type": "code",
   "execution_count": 36,
   "id": "3440bf1d-baec-4ebb-9308-8990ed4e6a58",
   "metadata": {},
   "outputs": [],
   "source": [
    "adata_ood_pred = sc.read_h5ad(\"/lustre/groups/ml01/workspace/alessandro.palma/ot_pert/out/results_metrics/generated_data/sweep_cell_line_pathway/adata_ood_split_A549_IFNB.h5ad\")"
   ]
  },
  {
   "cell_type": "code",
   "execution_count": 37,
   "id": "dc3a4d02-7d5c-4af5-880c-90508a1dde7c",
   "metadata": {},
   "outputs": [
    {
     "data": {
      "text/plain": [
       "AnnData object with n_obs × n_vars = 10000 × 8265\n",
       "    obs: 'condition'\n",
       "    obsm: 'X_pca_pred'\n",
       "    layers: 'X_recon_pred'"
      ]
     },
     "execution_count": 37,
     "metadata": {},
     "output_type": "execute_result"
    }
   ],
   "source": [
    "adata_ood_pred"
   ]
  },
  {
   "cell_type": "code",
   "execution_count": null,
   "id": "9734ba2c-1e0d-4231-b066-90719add8c8c",
   "metadata": {},
   "outputs": [],
   "source": []
  }
 ],
 "metadata": {
  "kernelspec": {
   "display_name": "Python 3 (ipykernel)",
   "language": "python",
   "name": "python3"
  },
  "language_info": {
   "codemirror_mode": {
    "name": "ipython",
    "version": 3
   },
   "file_extension": ".py",
   "mimetype": "text/x-python",
   "name": "python",
   "nbconvert_exporter": "python",
   "pygments_lexer": "ipython3",
   "version": "3.10.15"
  }
 },
 "nbformat": 4,
 "nbformat_minor": 5
}
