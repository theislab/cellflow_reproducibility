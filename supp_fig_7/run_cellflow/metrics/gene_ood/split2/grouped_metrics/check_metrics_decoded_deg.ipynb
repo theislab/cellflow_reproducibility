{
 "cells": [
  {
   "cell_type": "code",
   "execution_count": 1,
   "id": "666fb8f1-3413-4a87-be4c-b9c095eac4fe",
   "metadata": {},
   "outputs": [],
   "source": [
    "import pandas as pd\n",
    "import seaborn as sns\n",
    "import numpy as np\n",
    "import matplotlib.pyplot as plt"
   ]
  },
  {
   "cell_type": "markdown",
   "id": "c348fd98-ad5b-4bfe-a75e-16326f5a77e3",
   "metadata": {},
   "source": [
    "## Identity metrics"
   ]
  },
  {
   "cell_type": "code",
   "execution_count": 2,
   "id": "2235ba60-800e-46e7-ac99-e5d00cdf869d",
   "metadata": {},
   "outputs": [
    {
     "data": {
      "text/plain": [
       "(6, 192)"
      ]
     },
     "execution_count": 2,
     "metadata": {},
     "output_type": "execute_result"
    }
   ],
   "source": [
    "identity_metrics = pd.read_csv(\"/lustre/groups/ml01/workspace/alessandro.palma/ot_pert/out/results_metrics/metrics/sweep_gene/split2/identity_ood_metrics_deg_split_2.csv\",\n",
    "                              index_col=0)\n",
    "identity_metrics.shape"
   ]
  },
  {
   "cell_type": "markdown",
   "id": "14d3a651-a45c-4909-b14b-a1a0119c59db",
   "metadata": {},
   "source": [
    "**Intermezzo: get total list of genes**"
   ]
  },
  {
   "cell_type": "code",
   "execution_count": 3,
   "id": "758392a2-0e09-4752-94fa-0322604a2b2f",
   "metadata": {},
   "outputs": [],
   "source": [
    "gene_list = identity_metrics.T.sort_values(by=\"r_squared\")\n",
    "gene_list[\"perturbation\"] = gene_list.index.copy()\n",
    "gene_list = gene_list.reset_index(drop=True)"
   ]
  },
  {
   "cell_type": "code",
   "execution_count": 4,
   "id": "6607cd23-0f1a-4742-9de7-69f4cc32c9c7",
   "metadata": {},
   "outputs": [],
   "source": [
    "n_splits = 5\n",
    "gene_list[\"Perturbation effect\"] = None\n",
    "\n",
    "range_cond = np.arange(len(gene_list))\n",
    "range_cond_split = np.array_split(range_cond,n_splits)\n",
    "for i, idx_list in enumerate(range_cond_split):\n",
    "    gene_list.loc[idx_list, \"Perturbation effect\"] = i\n",
    "gene_list = gene_list.set_index(\"perturbation\") "
   ]
  },
  {
   "cell_type": "markdown",
   "id": "3f3d87c6-c7c3-4057-b01d-0868ad5f29ed",
   "metadata": {},
   "source": [
    "## CellFlow"
   ]
  },
  {
   "cell_type": "code",
   "execution_count": 5,
   "id": "4b137a7c-5ed5-4e0f-a75f-f1d44bf978b2",
   "metadata": {},
   "outputs": [
    {
     "data": {
      "text/plain": [
       "(6, 192)"
      ]
     },
     "execution_count": 5,
     "metadata": {},
     "output_type": "execute_result"
    }
   ],
   "source": [
    "cellflow_metrics = pd.read_csv(\"/lustre/groups/ml01/workspace/alessandro.palma/ot_pert/out/results_metrics/metrics/sweep_gene/split2/cellflow_ood_metrics_deg_split_2.csv\",\n",
    "                              index_col=0)\n",
    "cellflow_metrics.shape"
   ]
  },
  {
   "cell_type": "markdown",
   "id": "c6951890-a879-4945-887c-77b76cf5ebe2",
   "metadata": {},
   "source": [
    "## Mean"
   ]
  },
  {
   "cell_type": "code",
   "execution_count": 6,
   "id": "fd7671df-e8ea-4b10-ab80-092c85ecb4ae",
   "metadata": {},
   "outputs": [],
   "source": [
    "# mean_metrics = pd.read_csv(\"/lustre/groups/ml01/workspace/alessandro.palma/ot_pert/out/results_metrics/metrics/sweep_gene/split2/mean_train_metrics_deg_split_2.csv\",\n",
    "#                               index_col=0)\n",
    "# mean_metrics.shape"
   ]
  },
  {
   "cell_type": "code",
   "execution_count": 7,
   "id": "7f62a60d-2d33-46a0-9767-111fc18e8ba8",
   "metadata": {},
   "outputs": [],
   "source": [
    "# mean_metrics.mean(1)"
   ]
  },
  {
   "cell_type": "markdown",
   "id": "e97a03ec-f79e-4797-9592-5e24b5e70efd",
   "metadata": {},
   "source": [
    "# Plot comparisons"
   ]
  },
  {
   "cell_type": "code",
   "execution_count": 8,
   "id": "270ed3d1-eb9c-491f-b7bd-a5c69f68d7dd",
   "metadata": {},
   "outputs": [],
   "source": [
    "merged = pd.concat([identity_metrics, cellflow_metrics], axis=1).T"
   ]
  },
  {
   "cell_type": "code",
   "execution_count": 9,
   "id": "75fdd157-8ef1-47c8-9b96-c3eb1a516dda",
   "metadata": {},
   "outputs": [],
   "source": [
    "merged[\"Model\"] = [\"Identity\"]*identity_metrics.shape[1] + [\"cellFlow\"]*cellflow_metrics.shape[1]"
   ]
  },
  {
   "cell_type": "code",
   "execution_count": 10,
   "id": "af5cbb92-b9a6-4e7b-b8b2-8b5eeed1529f",
   "metadata": {
    "scrolled": true
   },
   "outputs": [],
   "source": [
    "perturbation_cat = []\n",
    "for pert in merged.index:\n",
    "    perturbation_cat.append(gene_list.loc[pert, \"Perturbation effect\"])\n"
   ]
  },
  {
   "cell_type": "code",
   "execution_count": 11,
   "id": "80c1db5d-0fc6-4a9e-8d1d-65afb546028f",
   "metadata": {},
   "outputs": [],
   "source": [
    "merged[\"Perturbation effect\"] = perturbation_cat"
   ]
  },
  {
   "cell_type": "code",
   "execution_count": 12,
   "id": "9430e013-4b6c-4a42-be98-c3289f2e424d",
   "metadata": {},
   "outputs": [
    {
     "data": {
      "text/html": [
       "<div>\n",
       "<style scoped>\n",
       "    .dataframe tbody tr th:only-of-type {\n",
       "        vertical-align: middle;\n",
       "    }\n",
       "\n",
       "    .dataframe tbody tr th {\n",
       "        vertical-align: top;\n",
       "    }\n",
       "\n",
       "    .dataframe thead th {\n",
       "        text-align: right;\n",
       "    }\n",
       "</style>\n",
       "<table border=\"1\" class=\"dataframe\">\n",
       "  <thead>\n",
       "    <tr style=\"text-align: right;\">\n",
       "      <th></th>\n",
       "      <th>r_squared</th>\n",
       "      <th>sinkhorn_div_1</th>\n",
       "      <th>sinkhorn_div_10</th>\n",
       "      <th>sinkhorn_div_100</th>\n",
       "      <th>e_distance</th>\n",
       "      <th>mmd</th>\n",
       "      <th>Perturbation effect</th>\n",
       "    </tr>\n",
       "    <tr>\n",
       "      <th>Model</th>\n",
       "      <th></th>\n",
       "      <th></th>\n",
       "      <th></th>\n",
       "      <th></th>\n",
       "      <th></th>\n",
       "      <th></th>\n",
       "      <th></th>\n",
       "    </tr>\n",
       "  </thead>\n",
       "  <tbody>\n",
       "    <tr>\n",
       "      <th>Identity</th>\n",
       "      <td>-6.155919</td>\n",
       "      <td>11.089636</td>\n",
       "      <td>3.551192</td>\n",
       "      <td>3.092953</td>\n",
       "      <td>6.145338</td>\n",
       "      <td>0.036418</td>\n",
       "      <td>1.984375</td>\n",
       "    </tr>\n",
       "    <tr>\n",
       "      <th>cellFlow</th>\n",
       "      <td>-6.120763</td>\n",
       "      <td>6.907652</td>\n",
       "      <td>2.207077</td>\n",
       "      <td>1.800722</td>\n",
       "      <td>3.535610</td>\n",
       "      <td>0.080181</td>\n",
       "      <td>1.984375</td>\n",
       "    </tr>\n",
       "  </tbody>\n",
       "</table>\n",
       "</div>"
      ],
      "text/plain": [
       "          r_squared  sinkhorn_div_1  sinkhorn_div_10  sinkhorn_div_100  \\\n",
       "Model                                                                    \n",
       "Identity  -6.155919       11.089636         3.551192          3.092953   \n",
       "cellFlow  -6.120763        6.907652         2.207077          1.800722   \n",
       "\n",
       "          e_distance       mmd  Perturbation effect  \n",
       "Model                                                \n",
       "Identity    6.145338  0.036418             1.984375  \n",
       "cellFlow    3.535610  0.080181             1.984375  "
      ]
     },
     "execution_count": 12,
     "metadata": {},
     "output_type": "execute_result"
    }
   ],
   "source": [
    "merged.groupby(\"Model\").mean()"
   ]
  },
  {
   "cell_type": "code",
   "execution_count": 13,
   "id": "d482583d-bd31-4f08-97f2-9010238b84de",
   "metadata": {},
   "outputs": [
    {
     "data": {
      "image/png": "[encoded data removed]",
      "text/plain": [
       "<Figure size 400x300 with 1 Axes>"
      ]
     },
     "metadata": {},
     "output_type": "display_data"
    }
   ],
   "source": [
    "plt.figure(figsize=(4, 3))\n",
    "sns.boxplot(x=\"Perturbation effect\", hue=\"Model\", y=\"r_squared\", data=merged, palette=\"Set2\", showfliers=False)\n",
    "\n",
    "# Add labels and title\n",
    "plt.title(\"R-squared\", fontsize=16)\n",
    "plt.xlabel(\"Distance from control bin\", fontsize=14)\n",
    "plt.ylabel(\"Value\", fontsize=14)\n",
    "\n",
    "# Show the plot\n",
    "plt.tight_layout()\n",
    "plt.xticks(rotation=45)\n",
    "plt.show()"
   ]
  },
  {
   "cell_type": "code",
   "execution_count": 14,
   "id": "0f23a1d5-11c7-4ac8-832d-6f7e631ff85c",
   "metadata": {},
   "outputs": [
    {
     "data": {
      "image/png": "[encoded data removed]",
      "text/plain": [
       "<Figure size 400x300 with 1 Axes>"
      ]
     },
     "metadata": {},
     "output_type": "display_data"
    }
   ],
   "source": [
    "plt.figure(figsize=(4, 3))\n",
    "sns.boxplot(x=\"Perturbation effect\", hue=\"Model\", y=\"e_distance\", data=merged, palette=\"Set2\", showfliers=False)\n",
    "\n",
    "# Add labels and title\n",
    "plt.title(\"E-distance\", fontsize=16)\n",
    "plt.xlabel(\"Distance from control bin\", fontsize=14)\n",
    "plt.ylabel(\"Value\", fontsize=14)\n",
    "\n",
    "# Show the plot\n",
    "plt.tight_layout()\n",
    "plt.xticks(rotation=45)\n",
    "plt.show()"
   ]
  },
  {
   "cell_type": "code",
   "execution_count": 16,
   "id": "dfdaebfc-6114-4b96-86b8-c0c3a9f217c8",
   "metadata": {},
   "outputs": [],
   "source": [
    "# plt.figure(figsize=(3, 4))\n",
    "# sns.boxplot(x=\"Perturbation effect\", hue=\"Model\", y=\"sinkhorn_div_1\", data=merged, palette=\"Set2\", showfliers=False)\n",
    "\n",
    "# # Add labels and title\n",
    "# plt.title(\"Sinkhorn 1\", fontsize=16)\n",
    "# plt.xlabel(\"Condition\", fontsize=14)\n",
    "# plt.ylabel(\"Value\", fontsize=14)\n",
    "\n",
    "# # Show the plot\n",
    "# plt.tight_layout()\n",
    "# plt.xticks(rotation=45)\n",
    "# plt.show()"
   ]
  },
  {
   "cell_type": "code",
   "execution_count": 17,
   "id": "574a3b40-3f77-484a-973f-d12c69858a3a",
   "metadata": {},
   "outputs": [],
   "source": [
    "# plt.figure(figsize=(3, 4))\n",
    "# sns.boxplot(x=\"Perturbation effect\", hue=\"Model\", y=\"sinkhorn_div_10\", data=merged, palette=\"Set2\", showfliers=False)\n",
    "\n",
    "# # Add labels and title\n",
    "# plt.title(\"Sinkhorn 10\", fontsize=16)\n",
    "# plt.xlabel(\"Condition\", fontsize=14)\n",
    "# plt.ylabel(\"Value\", fontsize=14)\n",
    "\n",
    "# # Show the plot\n",
    "# plt.tight_layout()\n",
    "# plt.xticks(rotation=45)\n",
    "# plt.show()"
   ]
  },
  {
   "cell_type": "code",
   "execution_count": 18,
   "id": "025044e4-164f-456d-8451-ddd366ddaa78",
   "metadata": {},
   "outputs": [],
   "source": [
    "# plt.figure(figsize=(3, 4))\n",
    "# sns.boxplot(x=\"Perturbation effect\", hue=\"Model\", y=\"sinkhorn_div_100\", data=merged, palette=\"Set2\", showfliers=False)\n",
    "\n",
    "# # Add labels and title\n",
    "# plt.title(\"Sinkhorn 100\", fontsize=16)\n",
    "# plt.xlabel(\"Condition\", fontsize=14)\n",
    "# plt.ylabel(\"Value\", fontsize=14)\n",
    "\n",
    "# # Show the plot\n",
    "# plt.tight_layout()\n",
    "# plt.xticks(rotation=45)\n",
    "# plt.show()"
   ]
  },
  {
   "cell_type": "code",
   "execution_count": 19,
   "id": "8f32cb06-d788-415d-8f08-4c7c05e634bc",
   "metadata": {},
   "outputs": [],
   "source": [
    "# plt.figure(figsize=(3, 4))\n",
    "# sns.boxplot(x=\"Perturbation effect\", hue=\"Model\", y=\"mmd\", data=merged, palette=\"Set2\", showfliers=False)\n",
    "\n",
    "# # Add labels and title\n",
    "# plt.title(\"MMD\", fontsize=16)\n",
    "# plt.xlabel(\"Condition\", fontsize=14)\n",
    "# plt.ylabel(\"Value\", fontsize=14)\n",
    "\n",
    "# # Show the plot\n",
    "# plt.tight_layout()\n",
    "# plt.xticks(rotation=45)\n",
    "# plt.show()"
   ]
  },
  {
   "cell_type": "code",
   "execution_count": null,
   "id": "a24898ce-1f75-4f79-9ca8-da3378d511d0",
   "metadata": {},
   "outputs": [],
   "source": []
  },
  {
   "cell_type": "code",
   "execution_count": null,
   "id": "d7fa54e7-3680-47f4-9a82-4cc111e90781",
   "metadata": {},
   "outputs": [],
   "source": []
  },
  {
   "cell_type": "code",
   "execution_count": null,
   "id": "5db52c35-0a11-4b15-a8c0-bfa869949e23",
   "metadata": {},
   "outputs": [],
   "source": []
  },
  {
   "cell_type": "code",
   "execution_count": null,
   "id": "9aee92d0-b623-4226-be52-e7c20c4491c5",
   "metadata": {},
   "outputs": [],
   "source": []
  }
 ],
 "metadata": {
  "kernelspec": {
   "display_name": "Python 3 (ipykernel)",
   "language": "python",
   "name": "python3"
  },
  "language_info": {
   "codemirror_mode": {
    "name": "ipython",
    "version": 3
   },
   "file_extension": ".py",
   "mimetype": "text/x-python",
   "name": "python",
   "nbconvert_exporter": "python",
   "pygments_lexer": "ipython3",
   "version": "3.10.15"
  }
 },
 "nbformat": 4,
 "nbformat_minor": 5
}
