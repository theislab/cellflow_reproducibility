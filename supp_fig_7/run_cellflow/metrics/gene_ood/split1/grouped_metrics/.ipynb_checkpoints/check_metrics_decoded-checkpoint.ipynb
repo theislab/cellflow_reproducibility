{
 "cells": [
  {
   "cell_type": "code",
   "execution_count": 2,
   "id": "666fb8f1-3413-4a87-be4c-b9c095eac4fe",
   "metadata": {},
   "outputs": [],
   "source": [
    "import pandas as pd\n",
    "import seaborn as sns\n",
    "import matplotlib.pyplot as plt\n",
    "import numpy as np"
   ]
  },
  {
   "cell_type": "markdown",
   "id": "cd5130f5-2889-475f-8605-10df18bdb789",
   "metadata": {},
   "source": [
    "Identity metrics"
   ]
  },
  {
   "cell_type": "code",
   "execution_count": 3,
   "id": "2235ba60-800e-46e7-ac99-e5d00cdf869d",
   "metadata": {
    "scrolled": true
   },
   "outputs": [],
   "source": [
    "identity_metrics = pd.read_csv(\"/lustre/groups/ml01/workspace/alessandro.palma/ot_pert/out/results_metrics/metrics/sweep_gene/split1/identity_ood_metrics_decoded_split_1.csv\",\n",
    "                              index_col=0)"
   ]
  },
  {
   "cell_type": "code",
   "execution_count": 4,
   "id": "3a356d80-a765-46e2-a3ec-ad2ffba455ed",
   "metadata": {},
   "outputs": [
    {
     "data": {
      "text/plain": [
       "r_squared     0.981668\n",
       "e_distance    8.439844\n",
       "mmd           0.006249\n",
       "dtype: float64"
      ]
     },
     "execution_count": 4,
     "metadata": {},
     "output_type": "execute_result"
    }
   ],
   "source": [
    "identity_metrics.mean(1)"
   ]
  },
  {
   "cell_type": "markdown",
   "id": "29c40569-3329-44d4-986f-9bc0f060c227",
   "metadata": {},
   "source": [
    "CellFlow"
   ]
  },
  {
   "cell_type": "code",
   "execution_count": 5,
   "id": "180efccf-077d-420b-b900-f86beeca4edd",
   "metadata": {},
   "outputs": [],
   "source": [
    "cellflow_metrics = pd.read_csv(\"/lustre/groups/ml01/workspace/alessandro.palma/ot_pert/out/results_metrics/metrics/sweep_gene/split1/cellflow_ood_metrics_decoded_split_1.csv\",\n",
    "                              index_col=0)"
   ]
  },
  {
   "cell_type": "code",
   "execution_count": 6,
   "id": "45c1e6cc-9f8e-46b9-9ef5-b52c141f9736",
   "metadata": {},
   "outputs": [
    {
     "data": {
      "text/plain": [
       "r_squared      0.977219\n",
       "e_distance    10.787210\n",
       "mmd            0.066526\n",
       "dtype: float64"
      ]
     },
     "execution_count": 6,
     "metadata": {},
     "output_type": "execute_result"
    }
   ],
   "source": [
    "cellflow_metrics.mean(1)"
   ]
  },
  {
   "cell_type": "markdown",
   "id": "069c48a4-2884-4a7e-ab84-552ef28e97fd",
   "metadata": {},
   "source": [
    "Mean"
   ]
  },
  {
   "cell_type": "code",
   "execution_count": 7,
   "id": "67c9c5b6-fe30-4ca1-82c6-46e0aeb7ab07",
   "metadata": {},
   "outputs": [],
   "source": [
    "# mean_metrics = pd.read_csv(\"/lustre/groups/ml01/workspace/alessandro.palma/ot_pert/out/results_metrics/metrics/sweep_gene/split1/mean_train_metrics_decoded_split_1.csv\",\n",
    "#                               index_col=0)"
   ]
  },
  {
   "cell_type": "code",
   "execution_count": 9,
   "id": "51d680e4-220f-45f7-8a2b-0d2e35494d05",
   "metadata": {},
   "outputs": [],
   "source": [
    "# mean_metrics.mean(1)"
   ]
  },
  {
   "cell_type": "markdown",
   "id": "64fa71dd-017b-4104-bf1a-a42a3f8d7c40",
   "metadata": {},
   "source": [
    "## Get gene list by distance from the controls "
   ]
  },
  {
   "cell_type": "code",
   "execution_count": 10,
   "id": "e720e02c-fe05-4f5d-928c-8e8d3a2ca501",
   "metadata": {},
   "outputs": [],
   "source": [
    "identity_deg = pd.read_csv(\"/lustre/groups/ml01/workspace/alessandro.palma/ot_pert/out/results_metrics/metrics/sweep_gene/split1/identity_ood_metrics_deg_split_1.csv\",\n",
    "                              index_col=0)"
   ]
  },
  {
   "cell_type": "code",
   "execution_count": 11,
   "id": "360879d3-b734-43b7-91f6-16793667f123",
   "metadata": {},
   "outputs": [],
   "source": [
    "gene_list = identity_deg.T.sort_values(by=\"r_squared\")\n",
    "gene_list[\"perturbation\"] = gene_list.index.copy()\n",
    "gene_list = gene_list.reset_index(drop=True)"
   ]
  },
  {
   "cell_type": "code",
   "execution_count": 12,
   "id": "44c0e7cf-c16c-4e13-a73f-c03a3a9d2090",
   "metadata": {},
   "outputs": [],
   "source": [
    "n_splits = 5\n",
    "gene_list[\"Perturbation effect\"] = None\n",
    "\n",
    "range_cond = np.arange(len(gene_list))\n",
    "range_cond_split = np.array_split(range_cond,n_splits)\n",
    "for i, idx_list in enumerate(range_cond_split):\n",
    "    gene_list.loc[idx_list, \"Perturbation effect\"] = i\n",
    "gene_list = gene_list.set_index(\"perturbation\") "
   ]
  },
  {
   "cell_type": "markdown",
   "id": "45c54c65-bc89-4850-adfd-30bc2ee653b4",
   "metadata": {},
   "source": [
    "# Plot comparisons"
   ]
  },
  {
   "cell_type": "code",
   "execution_count": 15,
   "id": "270d6c61-aeb1-400d-801b-549c48224661",
   "metadata": {},
   "outputs": [],
   "source": [
    "merged = pd.concat([identity_metrics, cellflow_metrics], axis=1).T"
   ]
  },
  {
   "cell_type": "code",
   "execution_count": 16,
   "id": "11441d65-ae34-4257-92bc-5a22a7cf5c19",
   "metadata": {},
   "outputs": [],
   "source": [
    "merged[\"Model\"] = [\"Identity\"]*identity_metrics.shape[1] + [\"cellFlow\"]*cellflow_metrics.shape[1]"
   ]
  },
  {
   "cell_type": "code",
   "execution_count": 17,
   "id": "98d53881-9435-4b29-bc40-82ec1294368b",
   "metadata": {},
   "outputs": [],
   "source": [
    "perturbation_cat = []\n",
    "for pert in merged.index:\n",
    "    perturbation_cat.append(gene_list.loc[pert, \"Perturbation effect\"])\n",
    "merged[\"Perturbation effect\"] = perturbation_cat"
   ]
  },
  {
   "cell_type": "code",
   "execution_count": 18,
   "id": "d0c30163-9699-45a5-bcd9-39ca35b4b845",
   "metadata": {},
   "outputs": [
    {
     "data": {
      "text/html": [
       "<div>\n",
       "<style scoped>\n",
       "    .dataframe tbody tr th:only-of-type {\n",
       "        vertical-align: middle;\n",
       "    }\n",
       "\n",
       "    .dataframe tbody tr th {\n",
       "        vertical-align: top;\n",
       "    }\n",
       "\n",
       "    .dataframe thead th {\n",
       "        text-align: right;\n",
       "    }\n",
       "</style>\n",
       "<table border=\"1\" class=\"dataframe\">\n",
       "  <thead>\n",
       "    <tr style=\"text-align: right;\">\n",
       "      <th></th>\n",
       "      <th>r_squared</th>\n",
       "      <th>e_distance</th>\n",
       "      <th>mmd</th>\n",
       "      <th>Perturbation effect</th>\n",
       "    </tr>\n",
       "    <tr>\n",
       "      <th>Model</th>\n",
       "      <th></th>\n",
       "      <th></th>\n",
       "      <th></th>\n",
       "      <th></th>\n",
       "    </tr>\n",
       "  </thead>\n",
       "  <tbody>\n",
       "    <tr>\n",
       "      <th>Identity</th>\n",
       "      <td>0.981668</td>\n",
       "      <td>8.439844</td>\n",
       "      <td>0.006249</td>\n",
       "      <td>2.0</td>\n",
       "    </tr>\n",
       "    <tr>\n",
       "      <th>cellFlow</th>\n",
       "      <td>0.977219</td>\n",
       "      <td>10.787210</td>\n",
       "      <td>0.066526</td>\n",
       "      <td>2.0</td>\n",
       "    </tr>\n",
       "  </tbody>\n",
       "</table>\n",
       "</div>"
      ],
      "text/plain": [
       "          r_squared  e_distance       mmd  Perturbation effect\n",
       "Model                                                         \n",
       "Identity   0.981668    8.439844  0.006249                  2.0\n",
       "cellFlow   0.977219   10.787210  0.066526                  2.0"
      ]
     },
     "execution_count": 18,
     "metadata": {},
     "output_type": "execute_result"
    }
   ],
   "source": [
    "merged.groupby(\"Model\").mean()"
   ]
  },
  {
   "cell_type": "code",
   "execution_count": 19,
   "id": "a05ff1fc-1c14-404b-99b5-544048eca41c",
   "metadata": {},
   "outputs": [
    {
     "data": {
      "image/png": "[encoded data removed]",
      "text/plain": [
       "<Figure size 400x300 with 1 Axes>"
      ]
     },
     "metadata": {},
     "output_type": "display_data"
    }
   ],
   "source": [
    "plt.figure(figsize=(4, 3))\n",
    "sns.boxplot(x=\"Perturbation effect\", hue=\"Model\", y=\"r_squared\", data=merged, palette=\"Set2\", showfliers=False)\n",
    "\n",
    "# Add labels and title\n",
    "plt.title(\"R-squared\", fontsize=16)\n",
    "plt.xlabel(\"Condition\", fontsize=14)\n",
    "plt.ylabel(\"Value\", fontsize=14)\n",
    "\n",
    "# Show the plot\n",
    "plt.tight_layout()\n",
    "plt.xticks(rotation=45)\n",
    "plt.show()"
   ]
  },
  {
   "cell_type": "code",
   "execution_count": 20,
   "id": "fb3915ea-166b-492a-9f39-9f14973f784e",
   "metadata": {},
   "outputs": [
    {
     "data": {
      "image/png": "[encoded data removed]",
      "text/plain": [
       "<Figure size 400x300 with 1 Axes>"
      ]
     },
     "metadata": {},
     "output_type": "display_data"
    }
   ],
   "source": [
    "plt.figure(figsize=(4, 3))\n",
    "sns.boxplot(x=\"Perturbation effect\", hue=\"Model\", y=\"e_distance\", data=merged, palette=\"Set2\", showfliers=False)\n",
    "\n",
    "# Add labels and title\n",
    "plt.title(\"E-distance\", fontsize=16)\n",
    "plt.xlabel(\"Condition\", fontsize=14)\n",
    "plt.ylabel(\"Value\", fontsize=14)\n",
    "\n",
    "# Show the plot\n",
    "plt.tight_layout()\n",
    "plt.xticks(rotation=45)\n",
    "plt.show()"
   ]
  },
  {
   "cell_type": "code",
   "execution_count": 17,
   "id": "7fb66e05-83c0-4e40-b038-5305844707a5",
   "metadata": {},
   "outputs": [],
   "source": [
    "# plt.figure(figsize=(3, 4))\n",
    "# sns.boxplot(x=\"Perturbation effect\", hue=\"Model\", y=\"mmd\", data=merged, palette=\"Set2\", showfliers=False)\n",
    "\n",
    "# # Add labels and title\n",
    "# plt.title(\"MMD\", fontsize=16)\n",
    "# plt.xlabel(\"Condition\", fontsize=14)\n",
    "# plt.ylabel(\"Value\", fontsize=14)\n",
    "\n",
    "# # Show the plot\n",
    "# plt.tight_layout()\n",
    "# plt.xticks(rotation=45)\n",
    "# plt.show()"
   ]
  },
  {
   "cell_type": "code",
   "execution_count": null,
   "id": "0cca18b0-af5b-4433-880e-a31053e660e8",
   "metadata": {},
   "outputs": [],
   "source": []
  },
  {
   "cell_type": "code",
   "execution_count": null,
   "id": "e193b7d0-2806-4bd4-a674-7ac2e2b37655",
   "metadata": {},
   "outputs": [],
   "source": []
  },
  {
   "cell_type": "code",
   "execution_count": null,
   "id": "f1e47d55-e5ac-4506-8e55-848933b2fe5f",
   "metadata": {},
   "outputs": [],
   "source": []
  },
  {
   "cell_type": "code",
   "execution_count": null,
   "id": "f189b957-0003-448f-bf6d-239a1a524971",
   "metadata": {},
   "outputs": [],
   "source": []
  }
 ],
 "metadata": {
  "kernelspec": {
   "display_name": "Python 3 (ipykernel)",
   "language": "python",
   "name": "python3"
  },
  "language_info": {
   "codemirror_mode": {
    "name": "ipython",
    "version": 3
   },
   "file_extension": ".py",
   "mimetype": "text/x-python",
   "name": "python",
   "nbconvert_exporter": "python",
   "pygments_lexer": "ipython3",
   "version": "3.10.15"
  }
 },
 "nbformat": 4,
 "nbformat_minor": 5
}
