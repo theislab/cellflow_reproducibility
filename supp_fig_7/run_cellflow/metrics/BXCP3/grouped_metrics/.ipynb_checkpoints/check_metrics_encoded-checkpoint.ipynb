{
 "cells": [
  {
   "cell_type": "code",
   "execution_count": 92,
   "id": "666fb8f1-3413-4a87-be4c-b9c095eac4fe",
   "metadata": {},
   "outputs": [],
   "source": [
    "import pandas as pd\n",
    "import seaborn as sns\n",
    "import matplotlib.pyplot as plt\n",
    "import numpy as np"
   ]
  },
  {
   "cell_type": "markdown",
   "id": "2caf0978-f5d3-48c3-809b-68df5031bad9",
   "metadata": {},
   "source": [
    "Identity metrics"
   ]
  },
  {
   "cell_type": "code",
   "execution_count": 93,
   "id": "2235ba60-800e-46e7-ac99-e5d00cdf869d",
   "metadata": {},
   "outputs": [],
   "source": [
    "identity_metrics = pd.read_csv(\"/lustre/groups/ml01/workspace/alessandro.palma/ot_pert/out/results_metrics/metrics/sweep_cell_line/identity_ood_metrics_encoded_BXCP3.csv\",\n",
    "                              index_col=0)"
   ]
  },
  {
   "cell_type": "code",
   "execution_count": 94,
   "id": "eeecbaf0-7caa-4ee7-88c1-49cb17e4e3be",
   "metadata": {},
   "outputs": [
    {
     "data": {
      "text/plain": [
       "r_squared            0.958054\n",
       "sinkhorn_div_1      12.194404\n",
       "sinkhorn_div_10      3.921369\n",
       "sinkhorn_div_100     2.387238\n",
       "e_distance           4.607658\n",
       "mmd                  0.011896\n",
       "dtype: float64"
      ]
     },
     "execution_count": 94,
     "metadata": {},
     "output_type": "execute_result"
    }
   ],
   "source": [
    "identity_metrics.mean(1)"
   ]
  },
  {
   "cell_type": "markdown",
   "id": "d8d3f0f0-415e-4da7-8135-c316022a3842",
   "metadata": {},
   "source": [
    "CellFlow"
   ]
  },
  {
   "cell_type": "code",
   "execution_count": 95,
   "id": "31cd1c7e-05f0-4718-938a-9218b67cb9a8",
   "metadata": {},
   "outputs": [],
   "source": [
    "cellflow_metrics = pd.read_csv(\"/lustre/groups/ml01/workspace/alessandro.palma/ot_pert/out/results_metrics/metrics/sweep_cell_line/cellflow_ood_metrics_encoded_BXCP3.csv\",\n",
    "                              index_col=0)"
   ]
  },
  {
   "cell_type": "code",
   "execution_count": 96,
   "id": "66be12e8-7188-48f2-907f-4a528bebd46f",
   "metadata": {},
   "outputs": [
    {
     "data": {
      "text/plain": [
       "r_squared             0.190291\n",
       "sinkhorn_div_1       62.968929\n",
       "sinkhorn_div_10      55.086985\n",
       "sinkhorn_div_100     51.963903\n",
       "e_distance          103.114253\n",
       "mmd                   0.194474\n",
       "dtype: float64"
      ]
     },
     "execution_count": 96,
     "metadata": {},
     "output_type": "execute_result"
    }
   ],
   "source": [
    "cellflow_metrics.mean(1)"
   ]
  },
  {
   "cell_type": "markdown",
   "id": "d134434d-9b88-49ab-900c-cb2d9f93e9c8",
   "metadata": {},
   "source": [
    "Metrics"
   ]
  },
  {
   "cell_type": "code",
   "execution_count": 97,
   "id": "2dab4f16-ef2e-456c-b1a8-65a87bf4f119",
   "metadata": {},
   "outputs": [],
   "source": [
    "# mean_metrics = pd.read_csv(\"/lustre/groups/ml01/workspace/alessandro.palma/ot_pert/out/results_metrics/metrics/sweep_cell_line/\",\n",
    "#                               index_col=0)"
   ]
  },
  {
   "cell_type": "code",
   "execution_count": 98,
   "id": "ba06cab9-6172-4e19-9ef1-4622fc3b5006",
   "metadata": {},
   "outputs": [],
   "source": [
    "# mean_metrics.mean(1)"
   ]
  },
  {
   "cell_type": "markdown",
   "id": "574a01df-f68b-4c58-810c-f0831dcf3e47",
   "metadata": {},
   "source": [
    "## Get gene list by distance from the controls "
   ]
  },
  {
   "cell_type": "code",
   "execution_count": 99,
   "id": "881a2b3f-af89-428b-ab7a-758692469bed",
   "metadata": {},
   "outputs": [],
   "source": [
    "identity_deg = pd.read_csv(\"/lustre/groups/ml01/workspace/alessandro.palma/ot_pert/out/results_metrics/metrics/sweep_cell_line/identity_ood_metrics_deg_BXCP3.csv\",\n",
    "                              index_col=0)"
   ]
  },
  {
   "cell_type": "code",
   "execution_count": 100,
   "id": "f75db290-e60d-4fc3-92f3-6f587c8c7414",
   "metadata": {},
   "outputs": [],
   "source": [
    "gene_list = identity_deg.T.sort_values(by=\"r_squared\")\n",
    "gene_list[\"perturbation\"] = gene_list.index.copy()\n",
    "gene_list = gene_list.reset_index(drop=True)"
   ]
  },
  {
   "cell_type": "code",
   "execution_count": 101,
   "id": "a9608341-80a2-4dfc-8716-96c0d7b77efa",
   "metadata": {},
   "outputs": [],
   "source": [
    "n_splits = 5\n",
    "gene_list[\"Perturbation effect\"] = None\n",
    "\n",
    "range_cond = np.arange(len(gene_list))\n",
    "range_cond_split = np.array_split(range_cond,n_splits)\n",
    "for i, idx_list in enumerate(range_cond_split):\n",
    "    gene_list.loc[idx_list, \"Perturbation effect\"] = i\n",
    "gene_list = gene_list.set_index(\"perturbation\") "
   ]
  },
  {
   "cell_type": "markdown",
   "id": "c8798228-1078-4719-a9fc-3df8176be598",
   "metadata": {},
   "source": [
    "# Plot comparisons"
   ]
  },
  {
   "cell_type": "code",
   "execution_count": 102,
   "id": "b304c2b0-4555-4b0d-a959-3d128b69b9e2",
   "metadata": {},
   "outputs": [],
   "source": [
    "merged = pd.concat([identity_metrics, cellflow_metrics], axis=1).T"
   ]
  },
  {
   "cell_type": "code",
   "execution_count": 103,
   "id": "f12efd97-5ebe-4b3a-aa31-3eb8d0cef2fd",
   "metadata": {},
   "outputs": [],
   "source": [
    "merged[\"Model\"] = [\"Identity\"]*identity_metrics.shape[1] + [\"cellFlow\"]*cellflow_metrics.shape[1]"
   ]
  },
  {
   "cell_type": "code",
   "execution_count": 104,
   "id": "6d41a20b-662d-492d-a370-4345344b88e1",
   "metadata": {},
   "outputs": [],
   "source": [
    "perturbation_cat = []\n",
    "for pert in merged.index:\n",
    "    perturbation_cat.append(gene_list.loc[pert, \"Perturbation effect\"])\n",
    "merged[\"Perturbation effect\"] = perturbation_cat"
   ]
  },
  {
   "cell_type": "code",
   "execution_count": 105,
   "id": "84b22f70-b127-47a7-bb69-cad430b9be72",
   "metadata": {},
   "outputs": [],
   "source": [
    "pathways = []\n",
    "cell_lines = []\n",
    "\n",
    "for cat in merged.index:\n",
    "    cell_line, pathway, _ = cat.split(\"_\")\n",
    "    pathways.append(pathway)\n",
    "    cell_lines.append(cell_line)"
   ]
  },
  {
   "cell_type": "code",
   "execution_count": 106,
   "id": "07f77da1-cce2-4a05-917b-f33abf61c266",
   "metadata": {},
   "outputs": [],
   "source": [
    "# merged[\"pathway\"] = pathways\n",
    "# merged[\"cell_line\"] = cell_lines\n",
    "# merged = merged.loc[merged.pathway==\"IFNG\"]"
   ]
  },
  {
   "cell_type": "code",
   "execution_count": 107,
   "id": "3c32c18b-8d4d-494b-b4d5-f8c8325b5681",
   "metadata": {},
   "outputs": [
    {
     "data": {
      "text/html": [
       "<div>\n",
       "<style scoped>\n",
       "    .dataframe tbody tr th:only-of-type {\n",
       "        vertical-align: middle;\n",
       "    }\n",
       "\n",
       "    .dataframe tbody tr th {\n",
       "        vertical-align: top;\n",
       "    }\n",
       "\n",
       "    .dataframe thead th {\n",
       "        text-align: right;\n",
       "    }\n",
       "</style>\n",
       "<table border=\"1\" class=\"dataframe\">\n",
       "  <thead>\n",
       "    <tr style=\"text-align: right;\">\n",
       "      <th></th>\n",
       "      <th>r_squared</th>\n",
       "      <th>sinkhorn_div_1</th>\n",
       "      <th>sinkhorn_div_10</th>\n",
       "      <th>sinkhorn_div_100</th>\n",
       "      <th>e_distance</th>\n",
       "      <th>mmd</th>\n",
       "      <th>Model</th>\n",
       "      <th>Perturbation effect</th>\n",
       "    </tr>\n",
       "  </thead>\n",
       "  <tbody>\n",
       "    <tr>\n",
       "      <th>BXPC3_IFNB_ADAR</th>\n",
       "      <td>0.778514</td>\n",
       "      <td>35.212929</td>\n",
       "      <td>24.468189</td>\n",
       "      <td>20.047997</td>\n",
       "      <td>38.953534</td>\n",
       "      <td>0.070387</td>\n",
       "      <td>Identity</td>\n",
       "      <td>0</td>\n",
       "    </tr>\n",
       "    <tr>\n",
       "      <th>BXPC3_IFNB_AKT1</th>\n",
       "      <td>0.996310</td>\n",
       "      <td>8.983570</td>\n",
       "      <td>1.288403</td>\n",
       "      <td>0.289429</td>\n",
       "      <td>0.494715</td>\n",
       "      <td>0.003025</td>\n",
       "      <td>Identity</td>\n",
       "      <td>4</td>\n",
       "    </tr>\n",
       "    <tr>\n",
       "      <th>BXPC3_IFNB_BATF2</th>\n",
       "      <td>0.998029</td>\n",
       "      <td>9.946981</td>\n",
       "      <td>1.659523</td>\n",
       "      <td>0.205578</td>\n",
       "      <td>0.286922</td>\n",
       "      <td>0.003486</td>\n",
       "      <td>Identity</td>\n",
       "      <td>3</td>\n",
       "    </tr>\n",
       "    <tr>\n",
       "      <th>BXPC3_IFNB_BRD9</th>\n",
       "      <td>0.959877</td>\n",
       "      <td>11.900391</td>\n",
       "      <td>3.468056</td>\n",
       "      <td>2.336903</td>\n",
       "      <td>4.575329</td>\n",
       "      <td>0.012411</td>\n",
       "      <td>Identity</td>\n",
       "      <td>1</td>\n",
       "    </tr>\n",
       "    <tr>\n",
       "      <th>BXPC3_IFNB_CEBPB</th>\n",
       "      <td>0.969533</td>\n",
       "      <td>12.986256</td>\n",
       "      <td>3.674145</td>\n",
       "      <td>1.853039</td>\n",
       "      <td>3.596919</td>\n",
       "      <td>0.010829</td>\n",
       "      <td>Identity</td>\n",
       "      <td>1</td>\n",
       "    </tr>\n",
       "    <tr>\n",
       "      <th>...</th>\n",
       "      <td>...</td>\n",
       "      <td>...</td>\n",
       "      <td>...</td>\n",
       "      <td>...</td>\n",
       "      <td>...</td>\n",
       "      <td>...</td>\n",
       "      <td>...</td>\n",
       "      <td>...</td>\n",
       "    </tr>\n",
       "    <tr>\n",
       "      <th>BXPC3_TNFA_TRAF1</th>\n",
       "      <td>0.254284</td>\n",
       "      <td>69.479065</td>\n",
       "      <td>62.435772</td>\n",
       "      <td>58.421204</td>\n",
       "      <td>115.409640</td>\n",
       "      <td>0.219417</td>\n",
       "      <td>cellFlow</td>\n",
       "      <td>1</td>\n",
       "    </tr>\n",
       "    <tr>\n",
       "      <th>BXPC3_TNFA_TRAF2</th>\n",
       "      <td>0.262431</td>\n",
       "      <td>70.841362</td>\n",
       "      <td>63.678974</td>\n",
       "      <td>59.077698</td>\n",
       "      <td>116.702905</td>\n",
       "      <td>0.223390</td>\n",
       "      <td>cellFlow</td>\n",
       "      <td>3</td>\n",
       "    </tr>\n",
       "    <tr>\n",
       "      <th>BXPC3_TNFA_TRAF3</th>\n",
       "      <td>0.250979</td>\n",
       "      <td>71.316910</td>\n",
       "      <td>64.426605</td>\n",
       "      <td>60.726837</td>\n",
       "      <td>120.210980</td>\n",
       "      <td>0.226280</td>\n",
       "      <td>cellFlow</td>\n",
       "      <td>4</td>\n",
       "    </tr>\n",
       "    <tr>\n",
       "      <th>BXPC3_TNFA_ZFP36L1</th>\n",
       "      <td>0.242791</td>\n",
       "      <td>65.762482</td>\n",
       "      <td>58.153996</td>\n",
       "      <td>52.959389</td>\n",
       "      <td>103.928509</td>\n",
       "      <td>0.205206</td>\n",
       "      <td>cellFlow</td>\n",
       "      <td>4</td>\n",
       "    </tr>\n",
       "    <tr>\n",
       "      <th>BXPC3_TNFA_ZNF267</th>\n",
       "      <td>0.202824</td>\n",
       "      <td>65.176796</td>\n",
       "      <td>57.703224</td>\n",
       "      <td>53.780647</td>\n",
       "      <td>106.543889</td>\n",
       "      <td>0.210799</td>\n",
       "      <td>cellFlow</td>\n",
       "      <td>1</td>\n",
       "    </tr>\n",
       "  </tbody>\n",
       "</table>\n",
       "<p>420 rows × 8 columns</p>\n",
       "</div>"
      ],
      "text/plain": [
       "                    r_squared  sinkhorn_div_1  sinkhorn_div_10  \\\n",
       "BXPC3_IFNB_ADAR      0.778514       35.212929        24.468189   \n",
       "BXPC3_IFNB_AKT1      0.996310        8.983570         1.288403   \n",
       "BXPC3_IFNB_BATF2     0.998029        9.946981         1.659523   \n",
       "BXPC3_IFNB_BRD9      0.959877       11.900391         3.468056   \n",
       "BXPC3_IFNB_CEBPB     0.969533       12.986256         3.674145   \n",
       "...                       ...             ...              ...   \n",
       "BXPC3_TNFA_TRAF1     0.254284       69.479065        62.435772   \n",
       "BXPC3_TNFA_TRAF2     0.262431       70.841362        63.678974   \n",
       "BXPC3_TNFA_TRAF3     0.250979       71.316910        64.426605   \n",
       "BXPC3_TNFA_ZFP36L1   0.242791       65.762482        58.153996   \n",
       "BXPC3_TNFA_ZNF267    0.202824       65.176796        57.703224   \n",
       "\n",
       "                    sinkhorn_div_100  e_distance       mmd     Model  \\\n",
       "BXPC3_IFNB_ADAR            20.047997   38.953534  0.070387  Identity   \n",
       "BXPC3_IFNB_AKT1             0.289429    0.494715  0.003025  Identity   \n",
       "BXPC3_IFNB_BATF2            0.205578    0.286922  0.003486  Identity   \n",
       "BXPC3_IFNB_BRD9             2.336903    4.575329  0.012411  Identity   \n",
       "BXPC3_IFNB_CEBPB            1.853039    3.596919  0.010829  Identity   \n",
       "...                              ...         ...       ...       ...   \n",
       "BXPC3_TNFA_TRAF1           58.421204  115.409640  0.219417  cellFlow   \n",
       "BXPC3_TNFA_TRAF2           59.077698  116.702905  0.223390  cellFlow   \n",
       "BXPC3_TNFA_TRAF3           60.726837  120.210980  0.226280  cellFlow   \n",
       "BXPC3_TNFA_ZFP36L1         52.959389  103.928509  0.205206  cellFlow   \n",
       "BXPC3_TNFA_ZNF267          53.780647  106.543889  0.210799  cellFlow   \n",
       "\n",
       "                    Perturbation effect  \n",
       "BXPC3_IFNB_ADAR                       0  \n",
       "BXPC3_IFNB_AKT1                       4  \n",
       "BXPC3_IFNB_BATF2                      3  \n",
       "BXPC3_IFNB_BRD9                       1  \n",
       "BXPC3_IFNB_CEBPB                      1  \n",
       "...                                 ...  \n",
       "BXPC3_TNFA_TRAF1                      1  \n",
       "BXPC3_TNFA_TRAF2                      3  \n",
       "BXPC3_TNFA_TRAF3                      4  \n",
       "BXPC3_TNFA_ZFP36L1                    4  \n",
       "BXPC3_TNFA_ZNF267                     1  \n",
       "\n",
       "[420 rows x 8 columns]"
      ]
     },
     "execution_count": 107,
     "metadata": {},
     "output_type": "execute_result"
    }
   ],
   "source": [
    "merged"
   ]
  },
  {
   "cell_type": "code",
   "execution_count": 108,
   "id": "dc541ecf-127c-4ee0-9615-d7fa7c5ad283",
   "metadata": {},
   "outputs": [
    {
     "data": {
      "image/png": "[encoded data removed]",
      "text/plain": [
       "<Figure size 300x400 with 1 Axes>"
      ]
     },
     "metadata": {},
     "output_type": "display_data"
    }
   ],
   "source": [
    "plt.figure(figsize=(3, 4))\n",
    "sns.boxplot(x=\"Perturbation effect\", hue=\"Model\", y=\"r_squared\", data=merged, palette=\"Set2\", showfliers=False)\n",
    "\n",
    "# Add labels and title\n",
    "plt.title(\"R-squared\", fontsize=16)\n",
    "plt.xlabel(\"Condition\", fontsize=14)\n",
    "plt.ylabel(\"Value\", fontsize=14)\n",
    "\n",
    "# Show the plot\n",
    "plt.tight_layout()\n",
    "plt.xticks(rotation=45)\n",
    "plt.show()"
   ]
  },
  {
   "cell_type": "code",
   "execution_count": 109,
   "id": "4f23e1b3-d4e9-4db8-b753-ce88be7d7cb1",
   "metadata": {},
   "outputs": [
    {
     "data": {
      "image/png": "[encoded data removed]",
      "text/plain": [
       "<Figure size 400x300 with 1 Axes>"
      ]
     },
     "metadata": {},
     "output_type": "display_data"
    }
   ],
   "source": [
    "plt.figure(figsize=(4, 3))\n",
    "sns.boxplot(x=\"Perturbation effect\", hue=\"Model\", y=\"e_distance\", data=merged, palette=\"Set2\", showfliers=False)\n",
    "\n",
    "# Add labels and title\n",
    "plt.title(\"E-distance\", fontsize=16)\n",
    "plt.xlabel(\"Distance from control bin\", fontsize=14)\n",
    "plt.ylabel(\"Value\", fontsize=14)\n",
    "\n",
    "# Show the plot\n",
    "plt.tight_layout()\n",
    "plt.xticks(rotation=45)\n",
    "plt.show()"
   ]
  },
  {
   "cell_type": "code",
   "execution_count": 110,
   "id": "8e1556fc-cd8a-4b63-adbb-3642df9bd2b1",
   "metadata": {},
   "outputs": [
    {
     "data": {
      "image/png": "[encoded data removed]",
      "text/plain": [
       "<Figure size 400x300 with 1 Axes>"
      ]
     },
     "metadata": {},
     "output_type": "display_data"
    }
   ],
   "source": [
    "plt.figure(figsize=(4, 3))\n",
    "sns.boxplot(x=\"Perturbation effect\", hue=\"Model\", y=\"e_distance\", data=merged, palette=\"Set2\", showfliers=False)\n",
    "\n",
    "# Add labels and title\n",
    "plt.title(\"E-distance\", fontsize=16)\n",
    "plt.xlabel(\"Distance from control bin\", fontsize=14)\n",
    "plt.ylabel(\"Value\", fontsize=14)\n",
    "\n",
    "# Show the plot\n",
    "plt.tight_layout()\n",
    "plt.xticks(rotation=45)\n",
    "plt.show()"
   ]
  },
  {
   "cell_type": "code",
   "execution_count": 32,
   "id": "716e6ffe-2d19-4021-a391-d2a1674298d1",
   "metadata": {},
   "outputs": [
    {
     "data": {
      "image/png": "[encoded data removed]",
      "text/plain": [
       "<Figure size 300x400 with 1 Axes>"
      ]
     },
     "metadata": {},
     "output_type": "display_data"
    }
   ],
   "source": [
    "plt.figure(figsize=(3, 4))\n",
    "sns.boxplot(x=\"Perturbation effect\", hue=\"Model\", y=\"sinkhorn_div_100\", data=merged, palette=\"Set2\", showfliers=False)\n",
    "\n",
    "# Add labels and title\n",
    "plt.title(\"Sinkhorn 100\", fontsize=16)\n",
    "plt.xlabel(\"Condition\", fontsize=14)\n",
    "plt.ylabel(\"Value\", fontsize=14)\n",
    "\n",
    "# Show the plot\n",
    "plt.tight_layout()\n",
    "plt.xticks(rotation=45)\n",
    "plt.show()"
   ]
  },
  {
   "cell_type": "code",
   "execution_count": 33,
   "id": "364a4c76-95f2-400b-b984-1da2d48aff28",
   "metadata": {},
   "outputs": [
    {
     "data": {
      "image/png": "[encoded data removed]",
      "text/plain": [
       "<Figure size 300x400 with 1 Axes>"
      ]
     },
     "metadata": {},
     "output_type": "display_data"
    }
   ],
   "source": [
    "plt.figure(figsize=(3, 4))\n",
    "sns.boxplot(x=\"Perturbation effect\", hue=\"Model\", y=\"mmd\", data=merged, palette=\"Set2\", showfliers=False)\n",
    "\n",
    "# Add labels and title\n",
    "plt.title(\"MMD\", fontsize=16)\n",
    "plt.xlabel(\"Condition\", fontsize=14)\n",
    "plt.ylabel(\"Value\", fontsize=14)\n",
    "\n",
    "# Show the plot\n",
    "plt.tight_layout()\n",
    "plt.xticks(rotation=45)\n",
    "plt.show()"
   ]
  },
  {
   "cell_type": "code",
   "execution_count": null,
   "id": "ec54f0ae-8073-48c2-81d1-37dbd33bed55",
   "metadata": {},
   "outputs": [],
   "source": []
  },
  {
   "cell_type": "code",
   "execution_count": null,
   "id": "b071c702-2672-4e7d-9bad-dc67b2b8ffc1",
   "metadata": {},
   "outputs": [],
   "source": []
  },
  {
   "cell_type": "code",
   "execution_count": null,
   "id": "9fd02293-174f-4350-ac1a-323b12eb6b2e",
   "metadata": {},
   "outputs": [],
   "source": [
    "s"
   ]
  },
  {
   "cell_type": "code",
   "execution_count": null,
   "id": "b8e65bde-a806-4306-91cc-96c1daf7418a",
   "metadata": {},
   "outputs": [],
   "source": []
  }
 ],
 "metadata": {
  "kernelspec": {
   "display_name": "Python 3 (ipykernel)",
   "language": "python",
   "name": "python3"
  },
  "language_info": {
   "codemirror_mode": {
    "name": "ipython",
    "version": 3
   },
   "file_extension": ".py",
   "mimetype": "text/x-python",
   "name": "python",
   "nbconvert_exporter": "python",
   "pygments_lexer": "ipython3",
   "version": "3.10.15"
  }
 },
 "nbformat": 4,
 "nbformat_minor": 5
}
