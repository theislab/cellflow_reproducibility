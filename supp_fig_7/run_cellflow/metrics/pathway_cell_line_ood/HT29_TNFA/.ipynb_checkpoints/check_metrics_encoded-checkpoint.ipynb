{
 "cells": [
  {
   "cell_type": "code",
   "execution_count": 21,
   "id": "666fb8f1-3413-4a87-be4c-b9c095eac4fe",
   "metadata": {},
   "outputs": [],
   "source": [
    "import pandas as pd\n",
    "import seaborn as sns\n",
    "import matplotlib.pyplot as plt\n",
    "import numpy as np"
   ]
  },
  {
   "cell_type": "markdown",
   "id": "2caf0978-f5d3-48c3-809b-68df5031bad9",
   "metadata": {},
   "source": [
    "Identity metrics"
   ]
  },
  {
   "cell_type": "code",
   "execution_count": 22,
   "id": "2235ba60-800e-46e7-ac99-e5d00cdf869d",
   "metadata": {},
   "outputs": [],
   "source": [
    "identity_metrics = pd.read_csv(\"/lustre/groups/ml01/workspace/alessandro.palma/ot_pert/out/results_metrics/metrics/sweep_cell_line_pathway/identity_ood_metrics_encoded_HT29_TNFA.csv\",\n",
    "                              index_col=0)"
   ]
  },
  {
   "cell_type": "code",
   "execution_count": 23,
   "id": "eeecbaf0-7caa-4ee7-88c1-49cb17e4e3be",
   "metadata": {},
   "outputs": [
    {
     "data": {
      "text/plain": [
       "r_squared           0.971364\n",
       "sinkhorn_div_1      7.531210\n",
       "sinkhorn_div_10     2.218539\n",
       "sinkhorn_div_100    1.555487\n",
       "e_distance          3.046393\n",
       "mmd                 0.011208\n",
       "dtype: float64"
      ]
     },
     "execution_count": 23,
     "metadata": {},
     "output_type": "execute_result"
    }
   ],
   "source": [
    "identity_metrics.mean(1)"
   ]
  },
  {
   "cell_type": "markdown",
   "id": "d8d3f0f0-415e-4da7-8135-c316022a3842",
   "metadata": {},
   "source": [
    "CellFlow"
   ]
  },
  {
   "cell_type": "code",
   "execution_count": 24,
   "id": "31cd1c7e-05f0-4718-938a-9218b67cb9a8",
   "metadata": {},
   "outputs": [],
   "source": [
    "cellflow_metrics = pd.read_csv(\"/lustre/groups/ml01/workspace/alessandro.palma/ot_pert/out/results_metrics/metrics/sweep_cell_line_pathway/cellflow_ood_metrics_encoded_HT29_TNFA.csv\",\n",
    "                              index_col=0)"
   ]
  },
  {
   "cell_type": "code",
   "execution_count": 25,
   "id": "66be12e8-7188-48f2-907f-4a528bebd46f",
   "metadata": {},
   "outputs": [
    {
     "data": {
      "text/plain": [
       "r_squared           0.971726\n",
       "sinkhorn_div_1      7.542972\n",
       "sinkhorn_div_10     2.258468\n",
       "sinkhorn_div_100    1.562017\n",
       "e_distance          3.046748\n",
       "mmd                 0.011855\n",
       "dtype: float64"
      ]
     },
     "execution_count": 25,
     "metadata": {},
     "output_type": "execute_result"
    }
   ],
   "source": [
    "cellflow_metrics.mean(1)"
   ]
  },
  {
   "cell_type": "markdown",
   "id": "d134434d-9b88-49ab-900c-cb2d9f93e9c8",
   "metadata": {},
   "source": [
    "Metrics"
   ]
  },
  {
   "cell_type": "code",
   "execution_count": 26,
   "id": "2dab4f16-ef2e-456c-b1a8-65a87bf4f119",
   "metadata": {},
   "outputs": [],
   "source": [
    "mean_metrics = pd.read_csv(\"/lustre/groups/ml01/workspace/alessandro.palma/ot_pert/out/results_metrics/metrics/sweep_cell_line_pathway/mean_train_metrics_encoded_HT29_TNFA.csv\",\n",
    "                              index_col=0)"
   ]
  },
  {
   "cell_type": "code",
   "execution_count": 27,
   "id": "ba06cab9-6172-4e19-9ef1-4622fc3b5006",
   "metadata": {},
   "outputs": [
    {
     "data": {
      "text/plain": [
       "r_squared            -0.665551\n",
       "sinkhorn_div_1       98.809150\n",
       "sinkhorn_div_10      93.496326\n",
       "sinkhorn_div_100     92.833272\n",
       "e_distance          185.603091\n",
       "mmd                   0.291156\n",
       "dtype: float64"
      ]
     },
     "execution_count": 27,
     "metadata": {},
     "output_type": "execute_result"
    }
   ],
   "source": [
    "mean_metrics.mean(1)"
   ]
  },
  {
   "cell_type": "markdown",
   "id": "574a01df-f68b-4c58-810c-f0831dcf3e47",
   "metadata": {},
   "source": [
    "## Get gene list by distance from the controls "
   ]
  },
  {
   "cell_type": "code",
   "execution_count": 28,
   "id": "881a2b3f-af89-428b-ab7a-758692469bed",
   "metadata": {},
   "outputs": [],
   "source": [
    "identity_deg = pd.read_csv(\"/lustre/groups/ml01/workspace/alessandro.palma/ot_pert/out/results_metrics/metrics/sweep_cell_line_pathway/identity_ood_metrics_deg_HT29_TNFA.csv\",\n",
    "                              index_col=0)"
   ]
  },
  {
   "cell_type": "code",
   "execution_count": 29,
   "id": "f75db290-e60d-4fc3-92f3-6f587c8c7414",
   "metadata": {},
   "outputs": [],
   "source": [
    "gene_list = identity_deg.T.sort_values(by=\"r_squared\")\n",
    "gene_list[\"perturbation\"] = gene_list.index.copy()\n",
    "gene_list = gene_list.reset_index(drop=True)"
   ]
  },
  {
   "cell_type": "code",
   "execution_count": 30,
   "id": "a9608341-80a2-4dfc-8716-96c0d7b77efa",
   "metadata": {},
   "outputs": [],
   "source": [
    "n_splits = 5\n",
    "gene_list[\"Perturbation effect\"] = None\n",
    "\n",
    "range_cond = np.arange(len(gene_list))\n",
    "range_cond_split = np.array_split(range_cond,n_splits)\n",
    "for i, idx_list in enumerate(range_cond_split):\n",
    "    gene_list.loc[idx_list, \"Perturbation effect\"] = i\n",
    "gene_list = gene_list.set_index(\"perturbation\") "
   ]
  },
  {
   "cell_type": "markdown",
   "id": "c8798228-1078-4719-a9fc-3df8176be598",
   "metadata": {},
   "source": [
    "# Plot comparisons"
   ]
  },
  {
   "cell_type": "code",
   "execution_count": 32,
   "id": "b304c2b0-4555-4b0d-a959-3d128b69b9e2",
   "metadata": {},
   "outputs": [],
   "source": [
    "merged = pd.concat([identity_metrics, mean_metrics, cellflow_metrics], axis=1).T"
   ]
  },
  {
   "cell_type": "code",
   "execution_count": 33,
   "id": "f12efd97-5ebe-4b3a-aa31-3eb8d0cef2fd",
   "metadata": {},
   "outputs": [],
   "source": [
    "merged[\"Model\"] = [\"Identity\"]*identity_metrics.shape[1] + [\"Mean\"]*mean_metrics.shape[1] + [\"cellFlow\"]*cellflow_metrics.shape[1]"
   ]
  },
  {
   "cell_type": "code",
   "execution_count": 34,
   "id": "6d41a20b-662d-492d-a370-4345344b88e1",
   "metadata": {},
   "outputs": [],
   "source": [
    "perturbation_cat = []\n",
    "for pert in merged.index:\n",
    "    perturbation_cat.append(gene_list.loc[pert, \"Perturbation effect\"])\n",
    "merged[\"Perturbation effect\"] = perturbation_cat"
   ]
  },
  {
   "cell_type": "code",
   "execution_count": 35,
   "id": "84b22f70-b127-47a7-bb69-cad430b9be72",
   "metadata": {},
   "outputs": [],
   "source": [
    "pathways = []\n",
    "cell_lines = []\n",
    "\n",
    "for cat in merged.index:\n",
    "    cell_line, pathway, _ = cat.split(\"_\")\n",
    "    pathways.append(pathway)\n",
    "    cell_lines.append(cell_line)"
   ]
  },
  {
   "cell_type": "code",
   "execution_count": 36,
   "id": "07f77da1-cce2-4a05-917b-f33abf61c266",
   "metadata": {},
   "outputs": [],
   "source": [
    "# merged[\"pathway\"] = pathways\n",
    "# merged[\"cell_line\"] = cell_lines\n",
    "# merged = merged.loc[merged.pathway==\"IFNG\"]"
   ]
  },
  {
   "cell_type": "code",
   "execution_count": 37,
   "id": "3c32c18b-8d4d-494b-b4d5-f8c8325b5681",
   "metadata": {},
   "outputs": [
    {
     "data": {
      "text/html": [
       "<div>\n",
       "<style scoped>\n",
       "    .dataframe tbody tr th:only-of-type {\n",
       "        vertical-align: middle;\n",
       "    }\n",
       "\n",
       "    .dataframe tbody tr th {\n",
       "        vertical-align: top;\n",
       "    }\n",
       "\n",
       "    .dataframe thead th {\n",
       "        text-align: right;\n",
       "    }\n",
       "</style>\n",
       "<table border=\"1\" class=\"dataframe\">\n",
       "  <thead>\n",
       "    <tr style=\"text-align: right;\">\n",
       "      <th></th>\n",
       "      <th>r_squared</th>\n",
       "      <th>sinkhorn_div_1</th>\n",
       "      <th>sinkhorn_div_10</th>\n",
       "      <th>sinkhorn_div_100</th>\n",
       "      <th>e_distance</th>\n",
       "      <th>mmd</th>\n",
       "      <th>Model</th>\n",
       "      <th>Perturbation effect</th>\n",
       "    </tr>\n",
       "  </thead>\n",
       "  <tbody>\n",
       "    <tr>\n",
       "      <th>HT29_TNFA_BIRC2</th>\n",
       "      <td>0.997182</td>\n",
       "      <td>5.522013</td>\n",
       "      <td>0.570337</td>\n",
       "      <td>0.171577</td>\n",
       "      <td>0.315698</td>\n",
       "      <td>0.002733</td>\n",
       "      <td>Identity</td>\n",
       "      <td>4</td>\n",
       "    </tr>\n",
       "    <tr>\n",
       "      <th>HT29_TNFA_BIRC3</th>\n",
       "      <td>0.999540</td>\n",
       "      <td>5.153348</td>\n",
       "      <td>0.456856</td>\n",
       "      <td>0.038445</td>\n",
       "      <td>0.054920</td>\n",
       "      <td>0.001761</td>\n",
       "      <td>Identity</td>\n",
       "      <td>2</td>\n",
       "    </tr>\n",
       "    <tr>\n",
       "      <th>HT29_TNFA_CASP10</th>\n",
       "      <td>0.995218</td>\n",
       "      <td>7.367614</td>\n",
       "      <td>1.316338</td>\n",
       "      <td>0.314188</td>\n",
       "      <td>0.549263</td>\n",
       "      <td>0.006556</td>\n",
       "      <td>Identity</td>\n",
       "      <td>0</td>\n",
       "    </tr>\n",
       "    <tr>\n",
       "      <th>HT29_TNFA_CEBPB</th>\n",
       "      <td>0.988954</td>\n",
       "      <td>6.963589</td>\n",
       "      <td>1.384056</td>\n",
       "      <td>0.673651</td>\n",
       "      <td>1.277312</td>\n",
       "      <td>0.006724</td>\n",
       "      <td>Identity</td>\n",
       "      <td>1</td>\n",
       "    </tr>\n",
       "    <tr>\n",
       "      <th>HT29_TNFA_CHUK</th>\n",
       "      <td>0.886274</td>\n",
       "      <td>11.487624</td>\n",
       "      <td>6.540964</td>\n",
       "      <td>6.007000</td>\n",
       "      <td>11.958749</td>\n",
       "      <td>0.036472</td>\n",
       "      <td>Identity</td>\n",
       "      <td>0</td>\n",
       "    </tr>\n",
       "    <tr>\n",
       "      <th>...</th>\n",
       "      <td>...</td>\n",
       "      <td>...</td>\n",
       "      <td>...</td>\n",
       "      <td>...</td>\n",
       "      <td>...</td>\n",
       "      <td>...</td>\n",
       "      <td>...</td>\n",
       "      <td>...</td>\n",
       "    </tr>\n",
       "    <tr>\n",
       "      <th>HT29_TNFA_SOX9</th>\n",
       "      <td>0.983209</td>\n",
       "      <td>9.023602</td>\n",
       "      <td>2.559202</td>\n",
       "      <td>0.994656</td>\n",
       "      <td>1.814799</td>\n",
       "      <td>0.011477</td>\n",
       "      <td>cellFlow</td>\n",
       "      <td>0</td>\n",
       "    </tr>\n",
       "    <tr>\n",
       "      <th>HT29_TNFA_TNFRSF1A</th>\n",
       "      <td>0.896118</td>\n",
       "      <td>11.495187</td>\n",
       "      <td>6.118225</td>\n",
       "      <td>5.388416</td>\n",
       "      <td>10.704434</td>\n",
       "      <td>0.034153</td>\n",
       "      <td>cellFlow</td>\n",
       "      <td>0</td>\n",
       "    </tr>\n",
       "    <tr>\n",
       "      <th>HT29_TNFA_TRAF2</th>\n",
       "      <td>0.981108</td>\n",
       "      <td>7.020376</td>\n",
       "      <td>1.711693</td>\n",
       "      <td>1.119070</td>\n",
       "      <td>2.183896</td>\n",
       "      <td>0.009999</td>\n",
       "      <td>cellFlow</td>\n",
       "      <td>2</td>\n",
       "    </tr>\n",
       "    <tr>\n",
       "      <th>HT29_TNFA_TRAF3</th>\n",
       "      <td>0.985250</td>\n",
       "      <td>6.618147</td>\n",
       "      <td>1.427301</td>\n",
       "      <td>0.895832</td>\n",
       "      <td>1.739830</td>\n",
       "      <td>0.008179</td>\n",
       "      <td>cellFlow</td>\n",
       "      <td>3</td>\n",
       "    </tr>\n",
       "    <tr>\n",
       "      <th>HT29_TNFA_ZFP36L1</th>\n",
       "      <td>0.935096</td>\n",
       "      <td>9.284514</td>\n",
       "      <td>4.083227</td>\n",
       "      <td>3.450874</td>\n",
       "      <td>6.820720</td>\n",
       "      <td>0.022605</td>\n",
       "      <td>cellFlow</td>\n",
       "      <td>0</td>\n",
       "    </tr>\n",
       "  </tbody>\n",
       "</table>\n",
       "<p>99 rows × 8 columns</p>\n",
       "</div>"
      ],
      "text/plain": [
       "                    r_squared  sinkhorn_div_1  sinkhorn_div_10  \\\n",
       "HT29_TNFA_BIRC2      0.997182        5.522013         0.570337   \n",
       "HT29_TNFA_BIRC3      0.999540        5.153348         0.456856   \n",
       "HT29_TNFA_CASP10     0.995218        7.367614         1.316338   \n",
       "HT29_TNFA_CEBPB      0.988954        6.963589         1.384056   \n",
       "HT29_TNFA_CHUK       0.886274       11.487624         6.540964   \n",
       "...                       ...             ...              ...   \n",
       "HT29_TNFA_SOX9       0.983209        9.023602         2.559202   \n",
       "HT29_TNFA_TNFRSF1A   0.896118       11.495187         6.118225   \n",
       "HT29_TNFA_TRAF2      0.981108        7.020376         1.711693   \n",
       "HT29_TNFA_TRAF3      0.985250        6.618147         1.427301   \n",
       "HT29_TNFA_ZFP36L1    0.935096        9.284514         4.083227   \n",
       "\n",
       "                    sinkhorn_div_100  e_distance       mmd     Model  \\\n",
       "HT29_TNFA_BIRC2             0.171577    0.315698  0.002733  Identity   \n",
       "HT29_TNFA_BIRC3             0.038445    0.054920  0.001761  Identity   \n",
       "HT29_TNFA_CASP10            0.314188    0.549263  0.006556  Identity   \n",
       "HT29_TNFA_CEBPB             0.673651    1.277312  0.006724  Identity   \n",
       "HT29_TNFA_CHUK              6.007000   11.958749  0.036472  Identity   \n",
       "...                              ...         ...       ...       ...   \n",
       "HT29_TNFA_SOX9              0.994656    1.814799  0.011477  cellFlow   \n",
       "HT29_TNFA_TNFRSF1A          5.388416   10.704434  0.034153  cellFlow   \n",
       "HT29_TNFA_TRAF2             1.119070    2.183896  0.009999  cellFlow   \n",
       "HT29_TNFA_TRAF3             0.895832    1.739830  0.008179  cellFlow   \n",
       "HT29_TNFA_ZFP36L1           3.450874    6.820720  0.022605  cellFlow   \n",
       "\n",
       "                    Perturbation effect  \n",
       "HT29_TNFA_BIRC2                       4  \n",
       "HT29_TNFA_BIRC3                       2  \n",
       "HT29_TNFA_CASP10                      0  \n",
       "HT29_TNFA_CEBPB                       1  \n",
       "HT29_TNFA_CHUK                        0  \n",
       "...                                 ...  \n",
       "HT29_TNFA_SOX9                        0  \n",
       "HT29_TNFA_TNFRSF1A                    0  \n",
       "HT29_TNFA_TRAF2                       2  \n",
       "HT29_TNFA_TRAF3                       3  \n",
       "HT29_TNFA_ZFP36L1                     0  \n",
       "\n",
       "[99 rows x 8 columns]"
      ]
     },
     "execution_count": 37,
     "metadata": {},
     "output_type": "execute_result"
    }
   ],
   "source": [
    "merged"
   ]
  },
  {
   "cell_type": "code",
   "execution_count": 38,
   "id": "dc541ecf-127c-4ee0-9615-d7fa7c5ad283",
   "metadata": {},
   "outputs": [
    {
     "data": {
      "image/png": "[encoded data removed]",
      "text/plain": [
       "<Figure size 400x300 with 1 Axes>"
      ]
     },
     "metadata": {},
     "output_type": "display_data"
    }
   ],
   "source": [
    "plt.figure(figsize=(4, 3))\n",
    "sns.boxplot(x=\"Perturbation effect\", hue=\"Model\", y=\"r_squared\", data=merged, palette=\"Set2\", showfliers=False)\n",
    "\n",
    "# Add labels and title\n",
    "plt.title(\"R-squared\", fontsize=16)\n",
    "plt.xlabel(\"Condition\", fontsize=14)\n",
    "plt.ylabel(\"Value\", fontsize=14)\n",
    "\n",
    "# Show the plot\n",
    "plt.tight_layout()\n",
    "plt.xticks(rotation=45)\n",
    "plt.show()"
   ]
  },
  {
   "cell_type": "code",
   "execution_count": 39,
   "id": "4f23e1b3-d4e9-4db8-b753-ce88be7d7cb1",
   "metadata": {},
   "outputs": [
    {
     "data": {
      "image/png": "[encoded data removed]",
      "text/plain": [
       "<Figure size 400x300 with 1 Axes>"
      ]
     },
     "metadata": {},
     "output_type": "display_data"
    }
   ],
   "source": [
    "plt.figure(figsize=(4, 3))\n",
    "sns.boxplot(x=\"Perturbation effect\", hue=\"Model\", y=\"e_distance\", data=merged, palette=\"Set2\", showfliers=False)\n",
    "\n",
    "# Add labels and title\n",
    "plt.title(\"E-distance\", fontsize=16)\n",
    "plt.xlabel(\"Distance from control bin\", fontsize=14)\n",
    "plt.ylabel(\"Value\", fontsize=14)\n",
    "\n",
    "# Show the plot\n",
    "plt.tight_layout()\n",
    "plt.xticks(rotation=45)\n",
    "plt.show()"
   ]
  },
  {
   "cell_type": "code",
   "execution_count": 20,
   "id": "8e1556fc-cd8a-4b63-adbb-3642df9bd2b1",
   "metadata": {},
   "outputs": [],
   "source": [
    "# plt.figure(figsize=(4, 3))\n",
    "# sns.boxplot(x=\"Perturbation effect\", hue=\"Model\", y=\"e_distance\", data=merged, palette=\"Set2\", showfliers=False)\n",
    "\n",
    "# # Add labels and title\n",
    "# plt.title(\"E-distance\", fontsize=16)\n",
    "# plt.xlabel(\"Distance from control bin\", fontsize=14)\n",
    "# plt.ylabel(\"Value\", fontsize=14)\n",
    "\n",
    "# # Show the plot\n",
    "# plt.tight_layout()\n",
    "# plt.xticks(rotation=45)\n",
    "# plt.show()"
   ]
  },
  {
   "cell_type": "code",
   "execution_count": 51,
   "id": "716e6ffe-2d19-4021-a391-d2a1674298d1",
   "metadata": {},
   "outputs": [],
   "source": [
    "# plt.figure(figsize=(3, 4))\n",
    "# sns.boxplot(x=\"Perturbation effect\", hue=\"Model\", y=\"sinkhorn_div_100\", data=merged, palette=\"Set2\", showfliers=False)\n",
    "\n",
    "# # Add labels and title\n",
    "# plt.title(\"Sinkhorn 100\", fontsize=16)\n",
    "# plt.xlabel(\"Condition\", fontsize=14)\n",
    "# plt.ylabel(\"Value\", fontsize=14)\n",
    "\n",
    "# # Show the plot\n",
    "# plt.tight_layout()\n",
    "# plt.xticks(rotation=45)\n",
    "# plt.show()"
   ]
  },
  {
   "cell_type": "code",
   "execution_count": null,
   "id": "364a4c76-95f2-400b-b984-1da2d48aff28",
   "metadata": {},
   "outputs": [],
   "source": [
    "# plt.figure(figsize=(3, 4))\n",
    "# sns.boxplot(x=\"Perturbation effect\", hue=\"Model\", y=\"mmd\", data=merged, palette=\"Set2\", showfliers=False)\n",
    "\n",
    "# # Add labels and title\n",
    "# plt.title(\"MMD\", fontsize=16)\n",
    "# plt.xlabel(\"Condition\", fontsize=14)\n",
    "# plt.ylabel(\"Value\", fontsize=14)\n",
    "\n",
    "# # Show the plot\n",
    "# plt.tight_layout()\n",
    "# plt.xticks(rotation=45)\n",
    "# plt.show()"
   ]
  },
  {
   "cell_type": "code",
   "execution_count": null,
   "id": "ec54f0ae-8073-48c2-81d1-37dbd33bed55",
   "metadata": {},
   "outputs": [],
   "source": []
  },
  {
   "cell_type": "code",
   "execution_count": null,
   "id": "b071c702-2672-4e7d-9bad-dc67b2b8ffc1",
   "metadata": {},
   "outputs": [],
   "source": []
  },
  {
   "cell_type": "code",
   "execution_count": null,
   "id": "9fd02293-174f-4350-ac1a-323b12eb6b2e",
   "metadata": {},
   "outputs": [],
   "source": [
    "s"
   ]
  },
  {
   "cell_type": "code",
   "execution_count": null,
   "id": "b8e65bde-a806-4306-91cc-96c1daf7418a",
   "metadata": {},
   "outputs": [],
   "source": []
  }
 ],
 "metadata": {
  "kernelspec": {
   "display_name": "Python 3 (ipykernel)",
   "language": "python",
   "name": "python3"
  },
  "language_info": {
   "codemirror_mode": {
    "name": "ipython",
    "version": 3
   },
   "file_extension": ".py",
   "mimetype": "text/x-python",
   "name": "python",
   "nbconvert_exporter": "python",
   "pygments_lexer": "ipython3",
   "version": "3.10.15"
  }
 },
 "nbformat": 4,
 "nbformat_minor": 5
}
