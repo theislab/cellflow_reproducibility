{
 "cells": [
  {
   "cell_type": "code",
   "execution_count": 24,
   "id": "666fb8f1-3413-4a87-be4c-b9c095eac4fe",
   "metadata": {},
   "outputs": [],
   "source": [
    "import pandas as pd\n",
    "import seaborn as sns\n",
    "import matplotlib.pyplot as plt\n",
    "import numpy as np"
   ]
  },
  {
   "cell_type": "markdown",
   "id": "2caf0978-f5d3-48c3-809b-68df5031bad9",
   "metadata": {},
   "source": [
    "Identity metrics"
   ]
  },
  {
   "cell_type": "code",
   "execution_count": 25,
   "id": "2235ba60-800e-46e7-ac99-e5d00cdf869d",
   "metadata": {},
   "outputs": [],
   "source": [
    "identity_metrics = pd.read_csv(\"/lustre/groups/ml01/workspace/alessandro.palma/ot_pert/out/results_metrics/metrics/sweep_cell_line_pathway/identity_ood_metrics_encoded_K562_INS.csv\",\n",
    "                              index_col=0)"
   ]
  },
  {
   "cell_type": "code",
   "execution_count": 26,
   "id": "eeecbaf0-7caa-4ee7-88c1-49cb17e4e3be",
   "metadata": {},
   "outputs": [
    {
     "data": {
      "text/plain": [
       "r_squared           0.985337\n",
       "sinkhorn_div_1      6.011643\n",
       "sinkhorn_div_10     2.520677\n",
       "sinkhorn_div_100    1.821086\n",
       "e_distance          3.519057\n",
       "mmd                 0.017875\n",
       "dtype: float64"
      ]
     },
     "execution_count": 26,
     "metadata": {},
     "output_type": "execute_result"
    }
   ],
   "source": [
    "identity_metrics.mean(1)"
   ]
  },
  {
   "cell_type": "markdown",
   "id": "d8d3f0f0-415e-4da7-8135-c316022a3842",
   "metadata": {},
   "source": [
    "CellFlow"
   ]
  },
  {
   "cell_type": "code",
   "execution_count": 27,
   "id": "31cd1c7e-05f0-4718-938a-9218b67cb9a8",
   "metadata": {},
   "outputs": [],
   "source": [
    "cellflow_metrics = pd.read_csv(\"/lustre/groups/ml01/workspace/alessandro.palma/ot_pert/out/results_metrics/metrics/sweep_cell_line_pathway/cellflow_ood_metrics_encoded_K562_INS.csv\",\n",
    "                              index_col=0)"
   ]
  },
  {
   "cell_type": "code",
   "execution_count": 28,
   "id": "66be12e8-7188-48f2-907f-4a528bebd46f",
   "metadata": {},
   "outputs": [
    {
     "data": {
      "text/plain": [
       "r_squared           0.984218\n",
       "sinkhorn_div_1      6.172444\n",
       "sinkhorn_div_10     2.882077\n",
       "sinkhorn_div_100    2.011182\n",
       "e_distance          3.797438\n",
       "mmd                 0.021614\n",
       "dtype: float64"
      ]
     },
     "execution_count": 28,
     "metadata": {},
     "output_type": "execute_result"
    }
   ],
   "source": [
    "cellflow_metrics.mean(1)"
   ]
  },
  {
   "cell_type": "markdown",
   "id": "d134434d-9b88-49ab-900c-cb2d9f93e9c8",
   "metadata": {},
   "source": [
    "Metrics"
   ]
  },
  {
   "cell_type": "code",
   "execution_count": 31,
   "id": "2dab4f16-ef2e-456c-b1a8-65a87bf4f119",
   "metadata": {},
   "outputs": [],
   "source": [
    "mean_metrics = pd.read_csv(\"/lustre/groups/ml01/workspace/alessandro.palma/ot_pert/out/results_metrics/metrics/sweep_cell_line_pathway/mean_train_metrics_encoded_K562_INS.csv\",\n",
    "                              index_col=0)"
   ]
  },
  {
   "cell_type": "code",
   "execution_count": 32,
   "id": "ba06cab9-6172-4e19-9ef1-4622fc3b5006",
   "metadata": {},
   "outputs": [
    {
     "data": {
      "text/plain": [
       "r_squared            -0.459092\n",
       "sinkhorn_div_1      176.819039\n",
       "sinkhorn_div_10     173.327767\n",
       "sinkhorn_div_100    172.628242\n",
       "e_distance          345.136531\n",
       "mmd                   0.426223\n",
       "dtype: float64"
      ]
     },
     "execution_count": 32,
     "metadata": {},
     "output_type": "execute_result"
    }
   ],
   "source": [
    "mean_metrics.mean(1)"
   ]
  },
  {
   "cell_type": "markdown",
   "id": "574a01df-f68b-4c58-810c-f0831dcf3e47",
   "metadata": {},
   "source": [
    "## Get gene list by distance from the controls "
   ]
  },
  {
   "cell_type": "code",
   "execution_count": 33,
   "id": "881a2b3f-af89-428b-ab7a-758692469bed",
   "metadata": {},
   "outputs": [],
   "source": [
    "identity_deg = pd.read_csv(\"/lustre/groups/ml01/workspace/alessandro.palma/ot_pert/out/results_metrics/metrics/sweep_cell_line_pathway/identity_ood_metrics_deg_K562_INS.csv\",\n",
    "                              index_col=0)"
   ]
  },
  {
   "cell_type": "code",
   "execution_count": 34,
   "id": "f75db290-e60d-4fc3-92f3-6f587c8c7414",
   "metadata": {},
   "outputs": [],
   "source": [
    "gene_list = identity_deg.T.sort_values(by=\"r_squared\")\n",
    "gene_list[\"perturbation\"] = gene_list.index.copy()\n",
    "gene_list = gene_list.reset_index(drop=True)"
   ]
  },
  {
   "cell_type": "code",
   "execution_count": 35,
   "id": "a9608341-80a2-4dfc-8716-96c0d7b77efa",
   "metadata": {},
   "outputs": [],
   "source": [
    "n_splits = 5\n",
    "gene_list[\"Perturbation effect\"] = None\n",
    "\n",
    "range_cond = np.arange(len(gene_list))\n",
    "range_cond_split = np.array_split(range_cond,n_splits)\n",
    "for i, idx_list in enumerate(range_cond_split):\n",
    "    gene_list.loc[idx_list, \"Perturbation effect\"] = i\n",
    "gene_list = gene_list.set_index(\"perturbation\") "
   ]
  },
  {
   "cell_type": "markdown",
   "id": "c8798228-1078-4719-a9fc-3df8176be598",
   "metadata": {},
   "source": [
    "# Plot comparisons"
   ]
  },
  {
   "cell_type": "code",
   "execution_count": 36,
   "id": "b304c2b0-4555-4b0d-a959-3d128b69b9e2",
   "metadata": {},
   "outputs": [],
   "source": [
    "merged = pd.concat([identity_metrics, mean_metrics, cellflow_metrics], axis=1).T"
   ]
  },
  {
   "cell_type": "code",
   "execution_count": 37,
   "id": "f12efd97-5ebe-4b3a-aa31-3eb8d0cef2fd",
   "metadata": {},
   "outputs": [],
   "source": [
    "merged[\"Model\"] = [\"Identity\"]*identity_metrics.shape[1] + [\"Mean\"]*mean_metrics.shape[1] + [\"cellFlow\"]*cellflow_metrics.shape[1]"
   ]
  },
  {
   "cell_type": "code",
   "execution_count": 38,
   "id": "6d41a20b-662d-492d-a370-4345344b88e1",
   "metadata": {},
   "outputs": [],
   "source": [
    "perturbation_cat = []\n",
    "for pert in merged.index:\n",
    "    perturbation_cat.append(gene_list.loc[pert, \"Perturbation effect\"])\n",
    "merged[\"Perturbation effect\"] = perturbation_cat"
   ]
  },
  {
   "cell_type": "code",
   "execution_count": 39,
   "id": "84b22f70-b127-47a7-bb69-cad430b9be72",
   "metadata": {},
   "outputs": [],
   "source": [
    "pathways = []\n",
    "cell_lines = []\n",
    "\n",
    "for cat in merged.index:\n",
    "    cell_line, pathway, _ = cat.split(\"_\")\n",
    "    pathways.append(pathway)\n",
    "    cell_lines.append(cell_line)"
   ]
  },
  {
   "cell_type": "code",
   "execution_count": 40,
   "id": "07f77da1-cce2-4a05-917b-f33abf61c266",
   "metadata": {},
   "outputs": [],
   "source": [
    "# merged[\"pathway\"] = pathways\n",
    "# merged[\"cell_line\"] = cell_lines\n",
    "# merged = merged.loc[merged.pathway==\"IFNG\"]"
   ]
  },
  {
   "cell_type": "code",
   "execution_count": 41,
   "id": "3c32c18b-8d4d-494b-b4d5-f8c8325b5681",
   "metadata": {},
   "outputs": [
    {
     "data": {
      "text/html": [
       "<div>\n",
       "<style scoped>\n",
       "    .dataframe tbody tr th:only-of-type {\n",
       "        vertical-align: middle;\n",
       "    }\n",
       "\n",
       "    .dataframe tbody tr th {\n",
       "        vertical-align: top;\n",
       "    }\n",
       "\n",
       "    .dataframe thead th {\n",
       "        text-align: right;\n",
       "    }\n",
       "</style>\n",
       "<table border=\"1\" class=\"dataframe\">\n",
       "  <thead>\n",
       "    <tr style=\"text-align: right;\">\n",
       "      <th></th>\n",
       "      <th>r_squared</th>\n",
       "      <th>sinkhorn_div_1</th>\n",
       "      <th>sinkhorn_div_10</th>\n",
       "      <th>sinkhorn_div_100</th>\n",
       "      <th>e_distance</th>\n",
       "      <th>mmd</th>\n",
       "      <th>Model</th>\n",
       "      <th>Perturbation effect</th>\n",
       "    </tr>\n",
       "  </thead>\n",
       "  <tbody>\n",
       "    <tr>\n",
       "      <th>K562_INS_CHUK</th>\n",
       "      <td>0.998029</td>\n",
       "      <td>4.304231</td>\n",
       "      <td>0.769129</td>\n",
       "      <td>0.258160</td>\n",
       "      <td>0.442617</td>\n",
       "      <td>0.005030</td>\n",
       "      <td>Identity</td>\n",
       "      <td>3</td>\n",
       "    </tr>\n",
       "    <tr>\n",
       "      <th>K562_INS_COPS4</th>\n",
       "      <td>0.989783</td>\n",
       "      <td>6.430631</td>\n",
       "      <td>2.222176</td>\n",
       "      <td>1.262421</td>\n",
       "      <td>2.271330</td>\n",
       "      <td>0.014604</td>\n",
       "      <td>Identity</td>\n",
       "      <td>1</td>\n",
       "    </tr>\n",
       "    <tr>\n",
       "      <th>K562_INS_DR1</th>\n",
       "      <td>0.968113</td>\n",
       "      <td>10.029276</td>\n",
       "      <td>5.952606</td>\n",
       "      <td>4.041824</td>\n",
       "      <td>7.152861</td>\n",
       "      <td>0.036774</td>\n",
       "      <td>Identity</td>\n",
       "      <td>1</td>\n",
       "    </tr>\n",
       "    <tr>\n",
       "      <th>K562_INS_EIF2B1</th>\n",
       "      <td>0.999576</td>\n",
       "      <td>3.207817</td>\n",
       "      <td>0.316391</td>\n",
       "      <td>0.067066</td>\n",
       "      <td>0.099239</td>\n",
       "      <td>0.002056</td>\n",
       "      <td>Identity</td>\n",
       "      <td>4</td>\n",
       "    </tr>\n",
       "    <tr>\n",
       "      <th>K562_INS_FOS</th>\n",
       "      <td>0.978047</td>\n",
       "      <td>7.153145</td>\n",
       "      <td>3.441099</td>\n",
       "      <td>2.615566</td>\n",
       "      <td>5.131630</td>\n",
       "      <td>0.027042</td>\n",
       "      <td>Identity</td>\n",
       "      <td>0</td>\n",
       "    </tr>\n",
       "    <tr>\n",
       "      <th>...</th>\n",
       "      <td>...</td>\n",
       "      <td>...</td>\n",
       "      <td>...</td>\n",
       "      <td>...</td>\n",
       "      <td>...</td>\n",
       "      <td>...</td>\n",
       "      <td>...</td>\n",
       "      <td>...</td>\n",
       "    </tr>\n",
       "    <tr>\n",
       "      <th>K562_INS_TSC2</th>\n",
       "      <td>0.993019</td>\n",
       "      <td>4.636966</td>\n",
       "      <td>1.712090</td>\n",
       "      <td>0.899660</td>\n",
       "      <td>1.562888</td>\n",
       "      <td>0.010764</td>\n",
       "      <td>cellFlow</td>\n",
       "      <td>3</td>\n",
       "    </tr>\n",
       "    <tr>\n",
       "      <th>K562_INS_TTF1</th>\n",
       "      <td>0.990425</td>\n",
       "      <td>6.372759</td>\n",
       "      <td>2.706209</td>\n",
       "      <td>1.264502</td>\n",
       "      <td>1.990893</td>\n",
       "      <td>0.011138</td>\n",
       "      <td>cellFlow</td>\n",
       "      <td>0</td>\n",
       "    </tr>\n",
       "    <tr>\n",
       "      <th>K562_INS_TTF2</th>\n",
       "      <td>0.994982</td>\n",
       "      <td>5.338143</td>\n",
       "      <td>1.409813</td>\n",
       "      <td>0.630047</td>\n",
       "      <td>1.103504</td>\n",
       "      <td>0.010278</td>\n",
       "      <td>cellFlow</td>\n",
       "      <td>0</td>\n",
       "    </tr>\n",
       "    <tr>\n",
       "      <th>K562_INS_XBP1</th>\n",
       "      <td>0.997924</td>\n",
       "      <td>5.013450</td>\n",
       "      <td>1.396572</td>\n",
       "      <td>0.368080</td>\n",
       "      <td>0.485408</td>\n",
       "      <td>0.006978</td>\n",
       "      <td>cellFlow</td>\n",
       "      <td>0</td>\n",
       "    </tr>\n",
       "    <tr>\n",
       "      <th>K562_INS_ZNF593</th>\n",
       "      <td>0.998918</td>\n",
       "      <td>3.211408</td>\n",
       "      <td>0.550995</td>\n",
       "      <td>0.162098</td>\n",
       "      <td>0.252846</td>\n",
       "      <td>0.003705</td>\n",
       "      <td>cellFlow</td>\n",
       "      <td>4</td>\n",
       "    </tr>\n",
       "  </tbody>\n",
       "</table>\n",
       "<p>120 rows × 8 columns</p>\n",
       "</div>"
      ],
      "text/plain": [
       "                 r_squared  sinkhorn_div_1  sinkhorn_div_10  sinkhorn_div_100  \\\n",
       "K562_INS_CHUK     0.998029        4.304231         0.769129          0.258160   \n",
       "K562_INS_COPS4    0.989783        6.430631         2.222176          1.262421   \n",
       "K562_INS_DR1      0.968113       10.029276         5.952606          4.041824   \n",
       "K562_INS_EIF2B1   0.999576        3.207817         0.316391          0.067066   \n",
       "K562_INS_FOS      0.978047        7.153145         3.441099          2.615566   \n",
       "...                    ...             ...              ...               ...   \n",
       "K562_INS_TSC2     0.993019        4.636966         1.712090          0.899660   \n",
       "K562_INS_TTF1     0.990425        6.372759         2.706209          1.264502   \n",
       "K562_INS_TTF2     0.994982        5.338143         1.409813          0.630047   \n",
       "K562_INS_XBP1     0.997924        5.013450         1.396572          0.368080   \n",
       "K562_INS_ZNF593   0.998918        3.211408         0.550995          0.162098   \n",
       "\n",
       "                 e_distance       mmd     Model  Perturbation effect  \n",
       "K562_INS_CHUK      0.442617  0.005030  Identity                    3  \n",
       "K562_INS_COPS4     2.271330  0.014604  Identity                    1  \n",
       "K562_INS_DR1       7.152861  0.036774  Identity                    1  \n",
       "K562_INS_EIF2B1    0.099239  0.002056  Identity                    4  \n",
       "K562_INS_FOS       5.131630  0.027042  Identity                    0  \n",
       "...                     ...       ...       ...                  ...  \n",
       "K562_INS_TSC2      1.562888  0.010764  cellFlow                    3  \n",
       "K562_INS_TTF1      1.990893  0.011138  cellFlow                    0  \n",
       "K562_INS_TTF2      1.103504  0.010278  cellFlow                    0  \n",
       "K562_INS_XBP1      0.485408  0.006978  cellFlow                    0  \n",
       "K562_INS_ZNF593    0.252846  0.003705  cellFlow                    4  \n",
       "\n",
       "[120 rows x 8 columns]"
      ]
     },
     "execution_count": 41,
     "metadata": {},
     "output_type": "execute_result"
    }
   ],
   "source": [
    "merged"
   ]
  },
  {
   "cell_type": "code",
   "execution_count": 42,
   "id": "dc541ecf-127c-4ee0-9615-d7fa7c5ad283",
   "metadata": {},
   "outputs": [
    {
     "data": {
      "image/png": "[encoded data removed]",
      "text/plain": [
       "<Figure size 400x300 with 1 Axes>"
      ]
     },
     "metadata": {},
     "output_type": "display_data"
    }
   ],
   "source": [
    "plt.figure(figsize=(4, 3))\n",
    "sns.boxplot(x=\"Perturbation effect\", hue=\"Model\", y=\"r_squared\", data=merged, palette=\"Set2\", showfliers=False)\n",
    "\n",
    "# Add labels and title\n",
    "plt.title(\"R-squared\", fontsize=16)\n",
    "plt.xlabel(\"Condition\", fontsize=14)\n",
    "plt.ylabel(\"Value\", fontsize=14)\n",
    "\n",
    "# Show the plot\n",
    "plt.tight_layout()\n",
    "plt.xticks(rotation=45)\n",
    "plt.show()"
   ]
  },
  {
   "cell_type": "code",
   "execution_count": 43,
   "id": "4f23e1b3-d4e9-4db8-b753-ce88be7d7cb1",
   "metadata": {},
   "outputs": [
    {
     "data": {
      "image/png": "[encoded data removed]",
      "text/plain": [
       "<Figure size 400x300 with 1 Axes>"
      ]
     },
     "metadata": {},
     "output_type": "display_data"
    }
   ],
   "source": [
    "plt.figure(figsize=(4, 3))\n",
    "sns.boxplot(x=\"Perturbation effect\", hue=\"Model\", y=\"e_distance\", data=merged, palette=\"Set2\", showfliers=False)\n",
    "\n",
    "# Add labels and title\n",
    "plt.title(\"E-distance\", fontsize=16)\n",
    "plt.xlabel(\"Distance from control bin\", fontsize=14)\n",
    "plt.ylabel(\"Value\", fontsize=14)\n",
    "\n",
    "# Show the plot\n",
    "plt.tight_layout()\n",
    "plt.xticks(rotation=45)\n",
    "plt.show()"
   ]
  },
  {
   "cell_type": "code",
   "execution_count": 44,
   "id": "8e1556fc-cd8a-4b63-adbb-3642df9bd2b1",
   "metadata": {},
   "outputs": [
    {
     "data": {
      "image/png": "[encoded data removed]",
      "text/plain": [
       "<Figure size 400x300 with 1 Axes>"
      ]
     },
     "metadata": {},
     "output_type": "display_data"
    }
   ],
   "source": [
    "plt.figure(figsize=(4, 3))\n",
    "sns.boxplot(x=\"Perturbation effect\", hue=\"Model\", y=\"e_distance\", data=merged, palette=\"Set2\", showfliers=False)\n",
    "\n",
    "# Add labels and title\n",
    "plt.title(\"E-distance\", fontsize=16)\n",
    "plt.xlabel(\"Distance from control bin\", fontsize=14)\n",
    "plt.ylabel(\"Value\", fontsize=14)\n",
    "\n",
    "# Show the plot\n",
    "plt.tight_layout()\n",
    "plt.xticks(rotation=45)\n",
    "plt.show()"
   ]
  },
  {
   "cell_type": "code",
   "execution_count": 22,
   "id": "716e6ffe-2d19-4021-a391-d2a1674298d1",
   "metadata": {},
   "outputs": [],
   "source": [
    "# plt.figure(figsize=(3, 4))\n",
    "# sns.boxplot(x=\"Perturbation effect\", hue=\"Model\", y=\"sinkhorn_div_100\", data=merged, palette=\"Set2\", showfliers=False)\n",
    "\n",
    "# # Add labels and title\n",
    "# plt.title(\"Sinkhorn 100\", fontsize=16)\n",
    "# plt.xlabel(\"Condition\", fontsize=14)\n",
    "# plt.ylabel(\"Value\", fontsize=14)\n",
    "\n",
    "# # Show the plot\n",
    "# plt.tight_layout()\n",
    "# plt.xticks(rotation=45)\n",
    "# plt.show()"
   ]
  },
  {
   "cell_type": "code",
   "execution_count": null,
   "id": "364a4c76-95f2-400b-b984-1da2d48aff28",
   "metadata": {},
   "outputs": [],
   "source": [
    "# plt.figure(figsize=(3, 4))\n",
    "# sns.boxplot(x=\"Perturbation effect\", hue=\"Model\", y=\"mmd\", data=merged, palette=\"Set2\", showfliers=False)\n",
    "\n",
    "# # Add labels and title\n",
    "# plt.title(\"MMD\", fontsize=16)\n",
    "# plt.xlabel(\"Condition\", fontsize=14)\n",
    "# plt.ylabel(\"Value\", fontsize=14)\n",
    "\n",
    "# # Show the plot\n",
    "# plt.tight_layout()\n",
    "# plt.xticks(rotation=45)\n",
    "# plt.show()"
   ]
  },
  {
   "cell_type": "code",
   "execution_count": null,
   "id": "ec54f0ae-8073-48c2-81d1-37dbd33bed55",
   "metadata": {},
   "outputs": [],
   "source": []
  },
  {
   "cell_type": "code",
   "execution_count": null,
   "id": "b071c702-2672-4e7d-9bad-dc67b2b8ffc1",
   "metadata": {},
   "outputs": [],
   "source": []
  },
  {
   "cell_type": "code",
   "execution_count": null,
   "id": "9fd02293-174f-4350-ac1a-323b12eb6b2e",
   "metadata": {},
   "outputs": [],
   "source": [
    "s"
   ]
  },
  {
   "cell_type": "code",
   "execution_count": null,
   "id": "b8e65bde-a806-4306-91cc-96c1daf7418a",
   "metadata": {},
   "outputs": [],
   "source": []
  }
 ],
 "metadata": {
  "kernelspec": {
   "display_name": "Python 3 (ipykernel)",
   "language": "python",
   "name": "python3"
  },
  "language_info": {
   "codemirror_mode": {
    "name": "ipython",
    "version": 3
   },
   "file_extension": ".py",
   "mimetype": "text/x-python",
   "name": "python",
   "nbconvert_exporter": "python",
   "pygments_lexer": "ipython3",
   "version": "3.10.15"
  }
 },
 "nbformat": 4,
 "nbformat_minor": 5
}
